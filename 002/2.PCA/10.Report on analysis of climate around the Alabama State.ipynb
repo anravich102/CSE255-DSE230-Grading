{
 "cells": [
  {
   "cell_type": "markdown",
   "metadata": {
    "run_control": {
     "frozen": false,
     "read_only": false
    }
   },
   "source": [
    "# Alabama - Florida Weather Analysis\n",
    "\n",
    "This is a report on the historical analysis of weather patterns in an area that approximately overlaps the area of the state of Massachusets.\n",
    "\n",
    "The data we will use here comes from [NOAA](https://www.ncdc.noaa.gov/). Specifically, it was downloaded from This [FTP site](ftp://ftp.ncdc.noaa.gov/pub/data/ghcn/daily/).\n",
    "\n",
    "We focused on six measurements:\n",
    "* **TMIN, TMAX:** the daily minimum and maximum temperature.\n",
    "* **TOBS:** The average temperature for each day.\n",
    "* **PRCP:** Daily Percipitation (in mm)\n",
    "* **SNOW:** Daily snowfall (in mm)\n",
    "* **SNWD:** The depth of accumulated snow.\n",
    "\n",
    "## Sanity-check: comparison with outside sources\n",
    "\n",
    "<p>We start by comparing some of the general statistics with graphs that we obtained from a site called <a href=\"http://www.usclimatedata.com/climate/boston/massachusetts/united-states/usma0046\" target=\"_blank\">US Climate Data</a>. **Mobile, AL**  and **PanamaCity, FL** are the two major cities in the give region(of BSSSBSBS indexed data). The following graph below shows the daily minimum and maximum temperatures per month, as well as the total precipitation per month, for these two cities.</p>\n",
    "\n",
    "<p><img alt=\"Panama City\" src=\"my_figures/Mobile_PanamaCity.png\" /></p>\n",
    "\n",
    "<p>&nbsp;</p>\n",
    "\n",
    "<p>The following Climate graphs shows the mean of Tmax , Tmin and Precipitation for the current BSSSBSBS region. We see that the min and max daily&nbsp;temperature agree with the ones we got from our data as shown below. We can see the temperatures are ranging from 32&deg;C to 5&deg;C. Constant Precipitation through out the year ranging between 4.7 - 6 inches (120mm to 160 mm)<img alt=\"means_ClimateGraph\" src=\"my_figures/ClimateGraph_with_means.png\"/>So the data from our analysis is in complete agreement with standard outside analysis.</p>\n",
    "<p>&nbsp;</p>\n",
    "<p>A closer look at the distribution of TMIN and TMAX, reaffirms that months of June , July and August have the highest temperatures (Summer). And the months of Jan, Feb , Nov and Dec have the lowest temperatures (Winter).  The standard deviation is so low and constant in Summers which means the whole region have equal high temperatures through out the years.  \n",
    "<p><img alt=\"TMIN,TMAX.png\" src=\"my_figures/TMIN_TMAX_std.png\" style=\"height:300px; width:800px\" /></p>\n",
    "\n",
    "<p>According to our analysis the average rainfall is 5.3 Inches/day which translates to about 135 mm/month. This data almost coincides with US-Climate-Data, which says the average rainfall for this region is closer to 140.16 mm per month. And from the precipitation graph below , the most prominent thing we can observe is that it's constantly raining through out the year </p>\n",
    "\n",
    "<p>&nbsp;<img alt=\"PRCP.png\" src=\"my_figures/PRCP_std.png\" style=\"height:450px; width:600px\" /></p>\n"
   ]
  },
  {
   "cell_type": "markdown",
   "metadata": {
    "run_control": {
     "frozen": false,
     "read_only": false
    }
   },
   "source": [
    "## PCA analysis\n",
    "\n",
    "For each of the six measurement, we compute the percentate of the variance explained as a function of the number of eigen-vectors used.\n",
    "\n",
    "### Percentage of variance explained.\n",
    "![VarExplained1.png](my_figures/var_explained1.png)\n",
    "We see that the top 5 eigen-vectors explain 27% of variance for TMIN, 45% for TOBS and 20% for TMAX.\n",
    "\n",
    "We conclude that of the three, TOBS is best explained by the top 5 eigenvectors. This is especially true for the first eigen-vector which, by itself, explains 35% of the variance.\n",
    "\n",
    "![VarExplained2.png](my_figures/var_explained2.png)\n",
    "\n",
    "The top 5 eigenvectors explain 9% of the variance for PRCP. But for SNOW and SNWD, the  top 5 eigenvectors explain %75 and 95% of the variance . This means that these top 5 eigenvectors capture most of the variation in the snow signals. Based on that we will dig deeper into the PCA analysis for snow-depth.\n",
    "\n",
    "It makes sense that SNWD would be less noisy than SNOW. That is because SNWD is a decaying integral of SNOW and, as such, varies less between days and between the same date on diffferent years."
   ]
  },
  {
   "cell_type": "markdown",
   "metadata": {
    "run_control": {
     "frozen": false,
     "read_only": false
    }
   },
   "source": [
    "## Analysis of snow depth\n",
    "\n",
    "We choose to analyze the eigen-decomposition for snow-depth because the first 3 eigen-vectors explain 90% of the variance.\n",
    "\n",
    "First, we graph the mean and the top 5 eigen-vectors.\n",
    "\n",
    "By looking at the SNWD mean , we understand that there is no snow at all, in this region. And there is only little varaition in the SNWD and the top eigen vectors are trying to capture this little variation. \n",
    "![SNWD_mean_eigs.png](my_figures/SNWD_mean_eigs.png)\n"
   ]
  },
  {
   "cell_type": "markdown",
   "metadata": {},
   "source": [
    "## Analysis with respect to Elevation\n"
   ]
  },
  {
   "cell_type": "markdown",
   "metadata": {
    "run_control": {
     "frozen": false,
     "read_only": false
    }
   },
   "source": [
    "We try to understand if there is any correlation between the elevation and measurements observed. Here are different graphs which are just scatter plots of Annual average of measurements with respective elevations\n",
    "![TMAX_elevation.png](my_figures/TMAX_elevation.png)\n",
    "![TMIN_elevation.png](my_figures/TMIN_elevation.png)\n",
    "![TOBS_elevation.png](my_figures/TOBS_elevation.png)\n",
    "![SNOW_elevation.png](my_figures/SNOW_elevation.png)\n",
    "![SNWD_elevation.png](my_figures/SNWD_elevation.png)\n",
    "![PRCP_elevation.png](my_figures/PRCP_elevation.png)\n",
    "\n",
    "But since the elevation in the region is just ranging between 0 to 120 feet above sea level , hence we could not see major differences in the observations\n"
   ]
  },
  {
   "cell_type": "markdown",
   "metadata": {
    "run_control": {
     "frozen": false,
     "read_only": false
    }
   },
   "source": [
    "## Analysis with reconstruction of PRCP\n",
    "\n",
    "From \"percentage of variance explained vs no.of eigen vectors\"  graph , it is understood that there is lot of variance in the precipitation data. Lets consider reconstructing the data with considering top 10 eigen vectors which will explain 14% of variance. The distribution of **residual** and **coefficient** after subtracting mean and projection on top 10 eigen vectors is as follows : \n",
    "![coeff_10.png](my_figures/coeff_10.png)\n",
    "![res_10.png](my_figures/res_10.png)\n",
    "\n",
    "Lets try plotting the regions with highest coeff_10 , when the corresponding residue 'res_10' is  small\n",
    "![region_showing_positive_corellation.png](my_figures/region_showing_positive_corellation.png)\n",
    "And this is the region with lowest coeff_10 , when the corresponding 'res_10' is small\n",
    "![region_showing_positive_corellation.png](my_figures/region_showing_negative_corellation.png)\n",
    "\n"
   ]
  },
  {
   "cell_type": "markdown",
   "metadata": {},
   "source": [
    "## Heatmap of monthly observations\n",
    "<p>Let's try analyzing heat map of monthly observations , to observe any correlation between observations. </p>\n",
    "<p>&nbsp;<img alt=\"Heat Map\" src=\"my_figures/heatmap_correlation_matrix.png\"/></p>\n",
    "<p>As we can see the heat map does not convey much information, there is no correlation in annual observations </p>"
   ]
  },
  {
   "cell_type": "markdown",
   "metadata": {
    "collapsed": true
   },
   "source": [
    "## Conclusion\n",
    "For the given region: \n",
    "![given_region](my_figures/BSSSBSBS_region_map.png)\n",
    "* The temperature and precipitations are high in the summers, suggesting a tropical climate.\n",
    "* There is no strong correlation/explanation for the distribution/variation of Precipitation data.\n"
   ]
  },
  {
   "cell_type": "code",
   "execution_count": null,
   "metadata": {
    "collapsed": true
   },
   "outputs": [],
   "source": []
  }
 ],
 "metadata": {
  "anaconda-cloud": {},
  "kernelspec": {
   "display_name": "Python 2",
   "language": "python",
   "name": "python2"
  },
  "language_info": {
   "codemirror_mode": {
    "name": "ipython",
    "version": 2
   },
   "file_extension": ".py",
   "mimetype": "text/x-python",
   "name": "python",
   "nbconvert_exporter": "python",
   "pygments_lexer": "ipython2",
   "version": "2.7.13"
  },
  "toc": {
   "colors": {
    "hover_highlight": "#DAA520",
    "running_highlight": "#FF0000",
    "selected_highlight": "#FFD700"
   },
   "moveMenuLeft": true,
   "nav_menu": {
    "height": "12px",
    "width": "252px"
   },
   "navigate_menu": true,
   "number_sections": true,
   "sideBar": true,
   "threshold": 4,
   "toc_cell": false,
   "toc_section_display": "block",
   "toc_window_display": false,
   "widenNotebook": false
  }
 },
 "nbformat": 4,
 "nbformat_minor": 2
}
