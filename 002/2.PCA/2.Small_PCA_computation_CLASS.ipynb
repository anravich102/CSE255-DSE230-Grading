{
 "cells": [
  {
   "cell_type": "markdown",
   "metadata": {
    "deletable": true,
    "editable": true,
    "run_control": {
     "frozen": false,
     "read_only": false
    },
    "slideshow": {
     "slide_type": "slide"
    }
   },
   "source": [
    "## Computing PCA using RDDs"
   ]
  },
  {
   "cell_type": "markdown",
   "metadata": {
    "deletable": true,
    "editable": true,
    "run_control": {
     "frozen": false,
     "read_only": false
    },
    "slideshow": {
     "slide_type": "subslide"
    }
   },
   "source": [
    "##  PCA\n",
    "\n",
    "The vectors that we want to analyze have length, or dimension, of 365, corresponding to the number of \n",
    "days in a year.\n",
    "\n",
    "We will perform [Principle component analysis (PCA)](https://en.wikipedia.org/wiki/Principal_component_analysis)\n",
    "on these vectors. There are two steps to this process:\n",
    "\n",
    "1. Computing the covariance matrix: this is a  simple computation. However, it takes a long time to compute and it benefits from using an RDD because it involves all of the input vectors.\n",
    "2. Computing the eigenvector decomposition. this is a more complex computation, but it takes a fraction of a second because the size to the covariance matrix is $365 \\times 365$, which is quite small. We do it on the head node usin `linalg`"
   ]
  },
  {
   "cell_type": "markdown",
   "metadata": {
    "deletable": true,
    "editable": true,
    "run_control": {
     "frozen": false,
     "read_only": false
    },
    "slideshow": {
     "slide_type": "subslide"
    }
   },
   "source": [
    "### Computing the covariance matrix\n",
    "Suppose that the data vectors are the column vectors denoted $x$ then the covariance matrix is defined to be\n",
    "$$\n",
    "E(x x^T)-E(x)E(x)^T\n",
    "$$\n",
    "\n",
    "Where $x x^T$ is the **outer product** of $x$ with itself.\n",
    "\n",
    "If the data that we have is $x_1,x_2,x_n$ then the estimates we use are:\n",
    "$$\n",
    "\\hat{E}(x x^T) = \\frac{1}{n} \\sum_{i=1}^n x_i x_i^T,\\;\\;\\;\\;\\;\n",
    "\\hat{E}(x) = \\frac{1}{n} \\sum_{i=1}^n x_i\n",
    "$$"
   ]
  },
  {
   "cell_type": "markdown",
   "metadata": {
    "deletable": true,
    "editable": true,
    "run_control": {
     "frozen": false,
     "read_only": false
    },
    "slideshow": {
     "slide_type": "slide"
    }
   },
   "source": [
    "### The effect of  `nan`s in arithmetic operations\n",
    "* We use an RDD of numpy arrays, instead of Dataframes.\n",
    "* Why? Because numpy treats `nan` entries correctly:\n",
    "  * In numpy `5+nan=5` while in dataframes `5+nan=nan`\n",
    "\n",
    "### Performing Cov matrix on vectors with NaNs\n",
    "As it happens, we often get vectors $x$ in which some, but not all, of the entries are `nan`. \n",
    "Suppose that we want to compute the mean of the elements of $x$. If we use `np.mean` we will get the result `nan`. A useful alternative is to use `np.nanmean` which removes the `nan` elements and takes the mean of the rest.\n",
    "\n",
    "import numpy as np\n",
    "X=np.array([1,1,1,2])\n",
    "print 'mean of',X,'=',np.mean(X)\n",
    "print 'nanmean of',X,'=',np.nanmean(X)\n",
    "X=np.array([1,1,np.NaN,2])\n",
    "print 'mean of',X,'=',np.mean(X)\n",
    "print 'nanmean of',X,'=',np.nanmean(X)\n",
    "\n",
    "#### When should you not use `np.nanmean` ?\n",
    "Using `n.nanmean` is equivalent to assuming that choice of which elements to remove is independent of the values of the elements. \n",
    "* Example of bad case: suppose the larger elements have a higher probability of being `nan`. In that case `np.nanmean` will under-estimate the mean\n",
    "\n",
    "#### Computing the covariance  when there are `nan`s\n",
    "The covariance is a mean of outer products.\n",
    "\n",
    "If the data that we have is $x_1,x_2,x_n$ then the estimates we use are:\n",
    "$$\n",
    "\\hat{E}(x x^T) = \\frac{1}{n} \\sum_{i=1}^n x_i x_i^T,\\;\\;\\;\\;\\;\n",
    "\\hat{E}(x) = \\frac{1}{n} \\sum_{i=1}^n x_i\n",
    "$$\n",
    "\n",
    "x1=np.array([1,np.NaN,3,4,5])\n",
    "x2=np.array([2,3,4,np.NaN,6])\n",
    "stacked=np.array([np.outer(x1,x1),np.outer(x2,x2)])\n",
    "stacked\n",
    "\n",
    "np.nanmean(stacked,axis=0)"
   ]
  },
  {
   "cell_type": "code",
   "execution_count": 1,
   "metadata": {
    "collapsed": false,
    "deletable": true,
    "editable": true,
    "run_control": {
     "frozen": false,
     "read_only": false
    },
    "slideshow": {
     "slide_type": "skip"
    }
   },
   "outputs": [],
   "source": [
    "import findspark\n",
    "findspark.init()\n",
    "from pyspark import SparkContext\n",
    "\n",
    "#sc.stop()\n",
    "sc = SparkContext(master=\"local[3]\",pyFiles=['lib/numpy_pack.py','lib/spark_PCA.py','lib/computeStats.py'])\n",
    "\n",
    "from pyspark.sql import *\n",
    "sqlContext = SQLContext(sc)"
   ]
  },
  {
   "cell_type": "code",
   "execution_count": 2,
   "metadata": {
    "collapsed": false,
    "deletable": true,
    "editable": true,
    "run_control": {
     "frozen": false,
     "read_only": false
    },
    "slideshow": {
     "slide_type": "skip"
    }
   },
   "outputs": [],
   "source": [
    "import sys\n",
    "sys.path.append('./lib')\n",
    "\n",
    "import numpy as np\n",
    "from numpy_pack import packArray,unpackArray\n",
    "from spark_PCA import computeCov\n",
    "from computeStats import computeOverAllDist, STAT_Descriptions"
   ]
  },
  {
   "cell_type": "markdown",
   "metadata": {
    "deletable": true,
    "editable": true,
    "run_control": {
     "frozen": false,
     "read_only": false
    },
    "slideshow": {
     "slide_type": "slide"
    }
   },
   "source": [
    "### Climate data\n",
    "\n",
    "The data we will use here comes from [NOAA](https://www.ncdc.noaa.gov/). Specifically, it was downloaded from This [FTP site](ftp://ftp.ncdc.noaa.gov/pub/data/ghcn/daily/).\n",
    "\n",
    "There is a large variety of measurements from all over the world, from 1870 will 2012.\n",
    "in the directory `../../Data/Weather` you will find the following useful files:\n",
    "\n",
    "* data-source.txt: the source of the data\n",
    "* ghcnd-readme.txt: A description of the content and format of the data\n",
    "* ghcnd-stations.txt: A table describing the Meteorological stations.\n",
    "\n"
   ]
  },
  {
   "cell_type": "markdown",
   "metadata": {
    "deletable": true,
    "editable": true,
    "run_control": {
     "frozen": false,
     "read_only": false
    },
    "slideshow": {
     "slide_type": "subslide"
    }
   },
   "source": [
    "### Data cleaning\n",
    "\n",
    "* Most measurements exists only for a tiny fraction of the stations and years. We therefor restrict our use to the following measurements:\n",
    "```python\n",
    "['TMAX', 'SNOW', 'SNWD', 'TMIN', 'PRCP', 'TOBS']\n",
    "```\n",
    "\n",
    "* 8 We consider only measurement-years that have at most 50 `NaN` entries\n",
    "\n",
    "* We consider only measurements in the continential USA\n",
    "\n",
    "* We partition the stations into 256 geographical rectangles, indexed from BBBBBBBB to SSSSSSSS. And each containing about 12,000 station,year pairs."
   ]
  },
  {
   "cell_type": "code",
   "execution_count": 3,
   "metadata": {
    "collapsed": false,
    "deletable": true,
    "editable": true,
    "run_control": {
     "frozen": false,
     "read_only": false
    },
    "scrolled": true,
    "slideshow": {
     "slide_type": "subslide"
    }
   },
   "outputs": [
    {
     "name": "stdout",
     "output_type": "stream",
     "text": [
      "curl https://mas-dse-open.s3.amazonaws.com/Weather/small/US_Weather_BSSSBSBS.csv.gz > ../../Data/Weather/US_Weather_BSSSBSBS.csv.gz\n",
      "curl: (6) Couldn't resolve host 'mas-dse-open.s3.amazonaws.com'\n",
      "-rwxr-xr-x 1 root root 0 May 16 02:22 ../../Data/Weather/US_Weather_BSSSBSBS.csv.gz\n"
     ]
    }
   ],
   "source": [
    "#file_index='BBBSBBBB'\n",
    "file_index='BSSSBSBS'\n",
    "data_dir='../../Data/Weather'\n",
    "\n",
    "filebase='US_Weather_%s'%file_index\n",
    "#!rm -rf $data_dir/$filebase*\n",
    "\n",
    "c_filename=filebase+'.csv.gz'\n",
    "u_filename=filebase+'.csv'\n",
    "\n",
    "command=\"curl https://mas-dse-open.s3.amazonaws.com/Weather/small/%s > %s/%s\"%(c_filename,data_dir,c_filename)\n",
    "print command\n",
    "!$command\n",
    "!ls -lh $data_dir/$c_filename"
   ]
  },
  {
   "cell_type": "code",
   "execution_count": 4,
   "metadata": {
    "collapsed": false,
    "deletable": true,
    "editable": true,
    "run_control": {
     "frozen": false,
     "read_only": false
    },
    "scrolled": true,
    "slideshow": {
     "slide_type": "subslide"
    }
   },
   "outputs": [
    {
     "data": {
      "text/plain": [
       "12249"
      ]
     },
     "execution_count": 4,
     "metadata": {},
     "output_type": "execute_result"
    }
   ],
   "source": [
    "#unzip\n",
    "#!gunzip -c $data_dir/$c_filename > $data_dir/$u_filename   (CSV file already present)\n",
    "import pickle\n",
    "List=pickle.load(open(data_dir+'/'+u_filename,'rb'))\n",
    "len(List)"
   ]
  },
  {
   "cell_type": "code",
   "execution_count": 5,
   "metadata": {
    "collapsed": false,
    "deletable": true,
    "editable": true,
    "run_control": {
     "frozen": false,
     "read_only": false
    },
    "slideshow": {
     "slide_type": "subslide"
    }
   },
   "outputs": [
    {
     "name": "stdout",
     "output_type": "stream",
     "text": [
      "12249\n",
      "+---------+--------+---------+-----------+-----------+------+--------------------+------+--------+\n",
      "|elevation|latitude|longitude|measurement|    station|undefs|              vector|  year|   label|\n",
      "+---------+--------+---------+-----------+-----------+------+--------------------+------+--------+\n",
      "|     14.9| 30.4132| -86.6635|       PRCP|US1FLOK0014|    38|[00 00 00 00 B0 5...|2009.0|BSSSBSBS|\n",
      "|      6.4| 30.2119| -85.6828|       TMAX|USW00003882|     5|[40 5A F0 5A 80 5...|1999.0|BSSSBSBS|\n",
      "|      6.4| 30.2119| -85.6828|       TMAX|USW00003882|     3|[20 5B 78 5B 48 5...|2000.0|BSSSBSBS|\n",
      "|      6.4| 30.2119| -85.6828|       TMAX|USW00003882|    40|[90 55 E0 54 A0 5...|2001.0|BSSSBSBS|\n",
      "|      6.4| 30.2119| -85.6828|       TMAX|USW00003882|    12|[E0 54 30 54 30 5...|2002.0|BSSSBSBS|\n",
      "|      6.4| 30.2119| -85.6828|       TMAX|USW00003882|    21|[38 59 40 5A 40 5...|2003.0|BSSSBSBS|\n",
      "|      6.4| 30.2119| -85.6828|       TMAX|USW00003882|     9|[00 7E 00 7E 00 7...|2004.0|BSSSBSBS|\n",
      "|      6.4| 30.2119| -85.6828|       TMAX|USW00003882|     1|[78 5B 78 5B 78 5...|2005.0|BSSSBSBS|\n",
      "|      6.4| 30.2119| -85.6828|       TMAX|USW00003882|     0|[78 5B 78 5B 20 5...|2006.0|BSSSBSBS|\n",
      "|      6.4| 30.2119| -85.6828|       TMAX|USW00003882|     3|[40 5A 50 57 08 5...|2007.0|BSSSBSBS|\n",
      "|      6.4| 30.2119| -85.6828|       TMAX|USW00003882|     8|[58 58 40 52 30 5...|2008.0|BSSSBSBS|\n",
      "|      6.4| 30.2119| -85.6828|       TMAX|USW00003882|     0|[80 58 20 5B 48 5...|2009.0|BSSSBSBS|\n",
      "|      6.4| 30.2119| -85.6828|       TMIN|USW00003882|     8|[A0 53 50 57 80 4...|1999.0|BSSSBSBS|\n",
      "|      6.4| 30.2119| -85.6828|       TMIN|USW00003882|     8|[28 58 60 59 38 5...|2000.0|BSSSBSBS|\n",
      "|      6.4| 30.2119| -85.6828|       TMIN|USW00003882|    40|[80 CD 20 D0 00 C...|2001.0|BSSSBSBS|\n",
      "|      6.4| 30.2119| -85.6828|       TMIN|USW00003882|    12|[80 4D 80 4D 00 4...|2002.0|BSSSBSBS|\n",
      "|      6.4| 30.2119| -85.6828|       TMIN|USW00003882|    21|[A0 57 30 55 80 4...|2003.0|BSSSBSBS|\n",
      "|      6.4| 30.2119| -85.6828|       TMIN|USW00003882|     9|[00 7E 00 7E 00 7...|2004.0|BSSSBSBS|\n",
      "|      6.4| 30.2119| -85.6828|       TMIN|USW00003882|     7|[00 58 A0 57 50 5...|2005.0|BSSSBSBS|\n",
      "|      6.4| 30.2119| -85.6828|       TMIN|USW00003882|     3|[60 59 B8 59 00 5...|2006.0|BSSSBSBS|\n",
      "|      6.4| 30.2119| -85.6828|       TMIN|USW00003882|     5|[90 55 00 53 30 5...|2007.0|BSSSBSBS|\n",
      "|      6.4| 30.2119| -85.6828|       TMIN|USW00003882|     8|[40 52 00 CC C0 D...|2008.0|BSSSBSBS|\n",
      "|      6.4| 30.2119| -85.6828|       TMIN|USW00003882|     6|[E0 50 40 56 80 5...|2009.0|BSSSBSBS|\n",
      "|    102.7| 31.2975| -85.8997|       TMAX|USC00012675|    15|[80 58 E8 59 A0 5...|1967.0|BSSSBSBS|\n",
      "|    102.7| 31.2975| -85.8997|       TMAX|USC00012675|    11|[38 59 40 56 50 5...|1968.0|BSSSBSBS|\n",
      "|    102.7| 31.2975| -85.8997|       TMAX|USC00012675|     8|[28 58 E0 54 E0 5...|1969.0|BSSSBSBS|\n",
      "|    102.7| 31.2975| -85.8997|       TMAX|USC00012675|     4|[E0 54 40 52 30 5...|1970.0|BSSSBSBS|\n",
      "|    102.7| 31.2975| -85.8997|       TMAX|USC00012675|     5|[F0 56 50 57 B0 5...|1971.0|BSSSBSBS|\n",
      "|    102.7| 31.2975| -85.8997|       TMAX|USC00012675|    44|[C8 5A 48 5B 90 5...|1972.0|BSSSBSBS|\n",
      "|    102.7| 31.2975| -85.8997|       TMAX|USC00012675|     3|[E8 59 80 58 80 5...|1973.0|BSSSBSBS|\n",
      "|    102.7| 31.2975| -85.8997|       TMAX|USC00012675|     1|[00 58 E0 58 E0 5...|1978.0|BSSSBSBS|\n",
      "|    102.7| 31.2975| -85.8997|       TMAX|USC00012675|     4|[78 5B 10 5A 00 4...|1979.0|BSSSBSBS|\n",
      "|    102.7| 31.2975| -85.8997|       TMAX|USC00012675|    10|[30 55 E0 54 08 5...|1980.0|BSSSBSBS|\n",
      "|    102.7| 31.2975| -85.8997|       TMAX|USC00012675|    19|[00 7E 00 7E 00 7...|1981.0|BSSSBSBS|\n",
      "|    102.7| 31.2975| -85.8997|       TMAX|USC00012675|    14|[50 57 A0 57 58 5...|1982.0|BSSSBSBS|\n",
      "|    102.7| 31.2975| -85.8997|       TMAX|USC00012675|    17|[00 7E 00 7E 80 5...|1983.0|BSSSBSBS|\n",
      "|    102.7| 31.2975| -85.8997|       TMAX|USC00012675|    26|[30 54 00 58 80 5...|1984.0|BSSSBSBS|\n",
      "|    102.7| 31.2975| -85.8997|       TMAX|USC00012675|    29|[00 5C C8 5A F0 5...|1985.0|BSSSBSBS|\n",
      "|    102.7| 31.2975| -85.8997|       TMAX|USC00012675|    39|[08 59 80 58 A0 5...|1986.0|BSSSBSBS|\n",
      "|    102.7| 31.2975| -85.8997|       TMAX|USC00012675|     7|[30 55 28 58 F0 5...|1987.0|BSSSBSBS|\n",
      "|    102.7| 31.2975| -85.8997|       TMAX|USC00012675|    11|[90 59 08 59 30 5...|1988.0|BSSSBSBS|\n",
      "|    102.7| 31.2975| -85.8997|       TMAX|USC00012675|    23|[00 7E 10 5A 70 5...|1989.0|BSSSBSBS|\n",
      "|    102.7| 31.2975| -85.8997|       TMAX|USC00012675|    33|[10 5A A0 56 00 5...|1990.0|BSSSBSBS|\n",
      "|    102.7| 31.2975| -85.8997|       TMAX|USC00012675|    26|[A0 56 F0 56 50 5...|1991.0|BSSSBSBS|\n",
      "|    102.7| 31.2975| -85.8997|       TMAX|USC00012675|     2|[E0 58 80 58 A0 5...|1992.0|BSSSBSBS|\n",
      "|    102.7| 31.2975| -85.8997|       TMAX|USC00012675|     7|[00 7E 00 7E 00 7...|1993.0|BSSSBSBS|\n",
      "|    102.7| 31.2975| -85.8997|       TMAX|USC00012675|    11|[50 57 30 55 08 5...|1994.0|BSSSBSBS|\n",
      "|    102.7| 31.2975| -85.8997|       TMAX|USC00012675|    12|[00 7E 00 7E 00 7...|1995.0|BSSSBSBS|\n",
      "|    102.7| 31.2975| -85.8997|       TMAX|USC00012675|     5|[00 7E 00 7E F0 5...|1996.0|BSSSBSBS|\n",
      "|    102.7| 31.2975| -85.8997|       TMAX|USC00012675|    27|[00 7E 48 5B 00 7...|1997.0|BSSSBSBS|\n",
      "|    102.7| 31.2975| -85.8997|       TMAX|USC00012675|    29|[40 56 A0 56 90 5...|1998.0|BSSSBSBS|\n",
      "|    102.7| 31.2975| -85.8997|       TMAX|USC00012675|     0|[38 59 90 59 90 5...|1999.0|BSSSBSBS|\n",
      "|    102.7| 31.2975| -85.8997|       TMAX|USC00012675|     4|[C8 5A 48 5B 48 5...|2000.0|BSSSBSBS|\n",
      "|    102.7| 31.2975| -85.8997|       TMAX|USC00012675|    13|[00 53 30 54 00 5...|2001.0|BSSSBSBS|\n",
      "|    102.7| 31.2975| -85.8997|       TMAX|USC00012675|     5|[00 53 30 54 80 4...|2002.0|BSSSBSBS|\n",
      "|    102.7| 31.2975| -85.8997|       TMAX|USC00012675|     7|[60 59 A0 57 40 5...|2003.0|BSSSBSBS|\n",
      "|    102.7| 31.2975| -85.8997|       TMAX|USC00012675|     0|[E8 59 C8 5A E8 5...|2004.0|BSSSBSBS|\n",
      "|    102.7| 31.2975| -85.8997|       TMAX|USC00012675|    41|[70 5A 20 5B 48 5...|2005.0|BSSSBSBS|\n",
      "|    102.7| 31.2975| -85.8997|       TMAX|USC00012675|    19|[00 7E 20 5B 28 5...|2011.0|BSSSBSBS|\n",
      "|    102.7| 31.2975| -85.8997|       TMAX|USC00012675|    27|[00 7E 20 5B F0 5...|2012.0|BSSSBSBS|\n",
      "|     91.4| 31.1819| -87.4389|       TMAX|USC00010402|     3|[98 5A 20 5B 00 7...|1941.0|BSSSBSBS|\n",
      "|     91.4| 31.1819| -87.4389|       TMAX|USC00010402|     0|[78 5B 70 5A 50 5...|1942.0|BSSSBSBS|\n",
      "|     91.4| 31.1819| -87.4389|       TMAX|USC00010402|     0|[70 5A 20 5B 78 5...|1943.0|BSSSBSBS|\n",
      "|     91.4| 31.1819| -87.4389|       TMAX|USC00010402|    24|[A0 57 10 5A E8 5...|1944.0|BSSSBSBS|\n",
      "|     91.4| 31.1819| -87.4389|       TMAX|USC00010402|     1|[C8 5A F0 56 E0 5...|1945.0|BSSSBSBS|\n",
      "|     91.4| 31.1819| -87.4389|       TMAX|USC00010402|     0|[40 56 F0 56 10 5...|1946.0|BSSSBSBS|\n",
      "|     91.4| 31.1819| -87.4389|       TMAX|USC00010402|    14|[00 7E 00 7E 00 7...|1948.0|BSSSBSBS|\n",
      "|     91.4| 31.1819| -87.4389|       TMAX|USC00010402|     2|[E0 55 00 58 40 5...|1949.0|BSSSBSBS|\n",
      "|     91.4| 31.1819| -87.4389|       TMAX|USC00010402|     3|[20 5B 20 5B 78 5...|1950.0|BSSSBSBS|\n",
      "|     91.4| 31.1819| -87.4389|       TMAX|USC00010402|    16|[2C 5C 78 5B A0 5...|1952.0|BSSSBSBS|\n",
      "|     91.4| 31.1819| -87.4389|       TMAX|USC00010402|    37|[38 59 B8 59 80 5...|1953.0|BSSSBSBS|\n",
      "|     91.4| 31.1819| -87.4389|       TMAX|USC00010402|     4|[00 7E 00 7E 00 7...|1954.0|BSSSBSBS|\n",
      "|     91.4| 31.1819| -87.4389|       TMAX|USC00010402|     0|[48 5B 98 5A 98 5...|1955.0|BSSSBSBS|\n",
      "|     91.4| 31.1819| -87.4389|       TMAX|USC00010402|     3|[08 59 70 5A 10 5...|1956.0|BSSSBSBS|\n",
      "|     91.4| 31.1819| -87.4389|       TMAX|USC00010402|     4|[70 5A 38 59 08 5...|1957.0|BSSSBSBS|\n",
      "|     91.4| 31.1819| -87.4389|       TMAX|USC00010402|     1|[40 5A 30 54 50 5...|1958.0|BSSSBSBS|\n",
      "|     91.4| 31.1819| -87.4389|       TMAX|USC00010402|     0|[28 58 90 55 E0 5...|1959.0|BSSSBSBS|\n",
      "|     91.4| 31.1819| -87.4389|       TMAX|USC00010402|     4|[30 55 58 58 10 5...|1960.0|BSSSBSBS|\n",
      "|     91.4| 31.1819| -87.4389|       TMAX|USC00010402|     1|[E8 59 30 55 40 5...|1961.0|BSSSBSBS|\n",
      "|     91.4| 31.1819| -87.4389|       TMAX|USC00010402|     0|[00 53 40 56 90 5...|1962.0|BSSSBSBS|\n",
      "|     91.4| 31.1819| -87.4389|       TMAX|USC00010402|     0|[A0 53 00 58 80 5...|1984.0|BSSSBSBS|\n",
      "|     91.4| 31.1819| -87.4389|       TMAX|USC00010402|    12|[14 5C 48 5B A0 5...|1985.0|BSSSBSBS|\n",
      "|     91.4| 31.1819| -87.4389|       TMAX|USC00010402|     9|[F0 5A 28 58 38 5...|1986.0|BSSSBSBS|\n",
      "|     91.4| 31.1819| -87.4389|       TMAX|USC00010402|     2|[80 54 28 58 50 5...|1987.0|BSSSBSBS|\n",
      "|     91.4| 31.1819| -87.4389|       TMAX|USC00010402|     0|[70 5A A0 5B A0 5...|1988.0|BSSSBSBS|\n",
      "|     91.4| 31.1819| -87.4389|       TMAX|USC00010402|    28|[78 5B 38 59 98 5...|1989.0|BSSSBSBS|\n",
      "|     91.4| 31.1819| -87.4389|       TMAX|USC00010402|     0|[B0 58 F0 56 A0 5...|1990.0|BSSSBSBS|\n",
      "|     91.4| 31.1819| -87.4389|       TMAX|USC00010402|     0|[A0 56 40 56 58 5...|1991.0|BSSSBSBS|\n",
      "|     91.4| 31.1819| -87.4389|       TMAX|USC00010402|    29|[B0 58 E0 58 00 5...|1992.0|BSSSBSBS|\n",
      "|     91.4| 31.1819| -87.4389|       TMAX|USC00010402|     0|[B0 58 00 58 C8 5...|1993.0|BSSSBSBS|\n",
      "|     91.4| 31.1819| -87.4389|       TMAX|USC00010402|     0|[00 58 E0 55 00 5...|1994.0|BSSSBSBS|\n",
      "|     91.4| 31.1819| -87.4389|       TMAX|USC00010402|     2|[B0 58 E0 54 F0 5...|1995.0|BSSSBSBS|\n",
      "|     91.4| 31.1819| -87.4389|       TMAX|USC00010402|     0|[90 59 98 5A 40 5...|1996.0|BSSSBSBS|\n",
      "|     91.4| 31.1819| -87.4389|       TMAX|USC00010402|     0|[20 5B C8 5A C8 5...|1997.0|BSSSBSBS|\n",
      "|     91.4| 31.1819| -87.4389|       TMAX|USC00010402|     0|[50 57 90 59 98 5...|1998.0|BSSSBSBS|\n",
      "|     91.4| 31.1819| -87.4389|       TMAX|USC00010402|     0|[B8 59 B8 59 A0 5...|1999.0|BSSSBSBS|\n",
      "|     91.4| 31.1819| -87.4389|       TMAX|USC00010402|     1|[A0 5B A0 5B 20 5...|2000.0|BSSSBSBS|\n",
      "|     91.4| 31.1819| -87.4389|       TMAX|USC00010402|     0|[00 53 A0 53 00 5...|2001.0|BSSSBSBS|\n",
      "|     91.4| 31.1819| -87.4389|       TMAX|USC00010402|    35|[00 7E 00 7E 00 7...|2003.0|BSSSBSBS|\n",
      "|     91.4| 31.1819| -87.4389|       TMAX|USC00010402|     8|[E8 59 C8 5A E8 5...|2004.0|BSSSBSBS|\n",
      "+---------+--------+---------+-----------+-----------+------+--------------------+------+--------+\n",
      "only showing top 100 rows\n",
      "\n"
     ]
    }
   ],
   "source": [
    "df=sqlContext.createDataFrame(List)\n",
    "print df.count()\n",
    "df.show(100)"
   ]
  },
  {
   "cell_type": "code",
   "execution_count": 6,
   "metadata": {
    "collapsed": false,
    "deletable": true,
    "editable": true,
    "run_control": {
     "frozen": false,
     "read_only": false
    },
    "slideshow": {
     "slide_type": "subslide"
    }
   },
   "outputs": [],
   "source": [
    "#store dataframe as parquet file\n",
    "outfilename=data_dir+'/'+filebase+'.parquet'\n",
    "!rm -rf $outfilename\n",
    "df.write.save(outfilename)"
   ]
  },
  {
   "cell_type": "code",
   "execution_count": 7,
   "metadata": {
    "collapsed": false,
    "deletable": true,
    "editable": true,
    "run_control": {
     "frozen": false,
     "read_only": false
    },
    "slideshow": {
     "slide_type": "subslide"
    }
   },
   "outputs": [
    {
     "name": "stdout",
     "output_type": "stream",
     "text": [
      "12M\t../../Data/Weather/US_Weather_BSSSBSBS.csv\r\n",
      "0\t../../Data/Weather/US_Weather_BSSSBSBS.csv.gz\r\n",
      "3.5M\t../../Data/Weather/US_Weather_BSSSBSBS.parquet\r\n"
     ]
    }
   ],
   "source": [
    "# Compare file sizes\n",
    "!du -sh $data_dir/$filebase*"
   ]
  },
  {
   "cell_type": "code",
   "execution_count": 8,
   "metadata": {
    "collapsed": false,
    "deletable": true,
    "editable": true,
    "run_control": {
     "frozen": false,
     "read_only": false
    }
   },
   "outputs": [
    {
     "name": "stdout",
     "output_type": "stream",
     "text": [
      "Number of executors= 3\n",
      "took 0.0121500492096 seconds\n"
     ]
    }
   ],
   "source": [
    "from time import time\n",
    "t=time()\n",
    "\n",
    "N=sc.defaultParallelism\n",
    "print 'Number of executors=',N\n",
    "print 'took',time()-t,'seconds'"
   ]
  },
  {
   "cell_type": "code",
   "execution_count": 9,
   "metadata": {
    "collapsed": false,
    "deletable": true,
    "editable": true,
    "run_control": {
     "frozen": false,
     "read_only": false
    }
   },
   "outputs": [],
   "source": [
    "measurements=['TMAX', 'SNOW', 'SNWD', 'TMIN', 'PRCP', 'TOBS']\n",
    "s_c_f = {'TMAX':10.0, 'SNOW':1.0, 'SNWD':1.0, 'TMIN':10.0, 'PRCP':10.0, 'TOBS':10.0}"
   ]
  },
  {
   "cell_type": "code",
   "execution_count": 10,
   "metadata": {
    "collapsed": false,
    "deletable": true,
    "editable": true,
    "run_control": {
     "frozen": false,
     "read_only": false
    }
   },
   "outputs": [],
   "source": [
    "sqlContext.registerDataFrameAsTable(df,'weather') #using older sqlContext instead of newer (V2.0) sparkSession"
   ]
  },
  {
   "cell_type": "code",
   "execution_count": 11,
   "metadata": {
    "collapsed": false,
    "deletable": true,
    "editable": true,
    "run_control": {
     "frozen": false,
     "read_only": false
    }
   },
   "outputs": [
    {
     "name": "stdout",
     "output_type": "stream",
     "text": [
      "SELECT * FROM weather\n",
      "\tWHERE measurement = 'TMAX'\n",
      "shape of E= (365,) shape of NE= (365,)\n",
      "time for TMAX is 29.9812650681\n",
      "SELECT * FROM weather\n",
      "\tWHERE measurement = 'SNOW'\n",
      "shape of E= (365,) shape of NE= (365,)\n",
      "time for SNOW is 24.3135151863\n",
      "SELECT * FROM weather\n",
      "\tWHERE measurement = 'SNWD'\n",
      "shape of E= (365,) shape of NE= (365,)\n",
      "time for SNWD is 19.2376599312\n",
      "SELECT * FROM weather\n",
      "\tWHERE measurement = 'TMIN'\n",
      "shape of E= (365,) shape of NE= (365,)\n",
      "time for TMIN is 20.4332430363\n",
      "SELECT * FROM weather\n",
      "\tWHERE measurement = 'PRCP'\n",
      "shape of E= (365,) shape of NE= (365,)\n",
      "time for PRCP is 26.1117851734\n",
      "SELECT * FROM weather\n",
      "\tWHERE measurement = 'TOBS'\n",
      "shape of E= (365,) shape of NE= (365,)\n",
      "time for TOBS is 13.3279981613\n"
     ]
    }
   ],
   "source": [
    "from numpy import linalg as LA\n",
    "STAT={}  # dictionary storing the statistics for each measurement\n",
    "Clean_Tables={}\n",
    "\n",
    "for meas in measurements:\n",
    "    t=time()\n",
    "    Query=\"SELECT * FROM weather\\n\\tWHERE measurement = '%s'\"%(meas)\n",
    "    print Query\n",
    "    df = sqlContext.sql(Query)\n",
    "    data=df.rdd.map(lambda row: unpackArray(row['vector'],np.float16))\n",
    "    data=data.map(lambda x: x/s_c_f[meas])\n",
    "    #get very basic statistics\n",
    "    STAT[meas]=computeOverAllDist(data)   # Compute the statistics \n",
    "\n",
    "    # compute covariance matrix\n",
    "    OUT=computeCov(data)\n",
    "\n",
    "    #find PCA decomposition\n",
    "    eigval,eigvec=LA.eig(OUT['Cov'])\n",
    "\n",
    "    # collect all of the statistics in STAT[meas]\n",
    "    STAT[meas]['eigval']=eigval\n",
    "    STAT[meas]['eigvec']=eigvec\n",
    "    STAT[meas].update(OUT)\n",
    "\n",
    "    print 'time for',meas,'is',time()-t"
   ]
  },
  {
   "cell_type": "code",
   "execution_count": 12,
   "metadata": {
    "collapsed": false
   },
   "outputs": [
    {
     "data": {
      "text/plain": [
       "25.342991461420379"
      ]
     },
     "execution_count": 12,
     "metadata": {},
     "output_type": "execute_result"
    }
   ],
   "source": [
    "STAT['TMAX']['mean']"
   ]
  },
  {
   "cell_type": "code",
   "execution_count": 13,
   "metadata": {
    "collapsed": false
   },
   "outputs": [
    {
     "data": {
      "text/plain": [
       "array([  4.51908555e-03,   1.52298528e-02,   3.14552687e-02,\n",
       "        -7.15133623e-02,  -1.06443714e-01,   9.79935801e-03,\n",
       "        -9.02522607e-02,   1.51775720e-04,  -9.46374729e-02,\n",
       "        -1.80822369e-01,   4.04769580e-02,  -6.15019197e-02,\n",
       "        -3.04277799e-02,   1.57296486e-02,  -4.31112259e-02,\n",
       "         7.79672638e-02,   1.41557121e-03,  -4.15917050e-02,\n",
       "        -2.15456839e-02,   7.69223729e-02,  -2.17664207e-01,\n",
       "        -2.72905839e-02,   1.14341968e-02,   2.11458096e-02,\n",
       "        -2.04524701e-06,  -7.58021960e-02,  -3.50023101e-02,\n",
       "         8.89337348e-02,   7.47002498e-02,  -3.70561472e-03,\n",
       "        -2.53663865e-02,  -4.75609832e-02,   8.66565153e-04,\n",
       "        -8.26721277e-02,  -3.07794364e-02,  -1.07671299e-01,\n",
       "         6.45137303e-02,  -6.59219235e-02,   9.45257260e-02,\n",
       "        -6.93589925e-02,   5.25683881e-02,  -5.98686940e-02,\n",
       "         1.11531367e-01,  -4.57025615e-02,  -7.33249707e-02,\n",
       "        -5.22676392e-02,   4.79398146e-03,   5.93196504e-02,\n",
       "        -3.20605429e-03,   3.26635808e-02,   4.79602382e-02,\n",
       "         7.33889556e-02,  -7.26736051e-02,  -1.15976955e-02,\n",
       "        -7.21473853e-02,   1.05135919e-01,  -7.27426341e-03,\n",
       "         2.39316639e-02,  -6.78764342e-02,   3.85750705e-02,\n",
       "        -1.43556217e-01,   1.11401802e-01,  -4.57770620e-02,\n",
       "        -3.22433043e-02,   3.68417732e-02,  -2.46859438e-02,\n",
       "        -3.37904395e-02,   4.40725067e-02,   9.22874385e-02,\n",
       "        -1.05290949e-02,   4.92990893e-02,   5.45951091e-02,\n",
       "         1.23091524e-02,   4.32587495e-02,   1.37412065e-02,\n",
       "        -2.08687685e-02,   1.43065061e-03,   9.22762046e-02,\n",
       "        -8.63468415e-02,  -1.29223547e-02,  -4.90174039e-02,\n",
       "        -4.67056516e-02,  -5.12787588e-02,   6.71936387e-02,\n",
       "         1.06514156e-01,   2.74336002e-02,  -2.19264746e-02,\n",
       "         7.73796512e-02,  -5.73279548e-02,  -9.93304237e-02,\n",
       "         3.14780960e-02,  -1.03159721e-01,  -8.63625680e-03,\n",
       "        -4.85375769e-02,  -2.17296220e-02,   3.26001479e-02,\n",
       "        -4.44944474e-02,  -4.57736078e-02,  -3.87516463e-02,\n",
       "        -2.50119333e-02,  -7.46153260e-02,  -7.27493297e-04,\n",
       "         2.26936591e-02,   2.39584330e-02,  -1.08640672e-01,\n",
       "        -4.12129268e-02,   4.43334776e-02,   2.52919139e-02,\n",
       "        -2.31271583e-02,   4.21146925e-02,   7.97606592e-02,\n",
       "         8.43653805e-02,   3.97887998e-03,  -2.18014260e-02,\n",
       "         1.01023082e-02,  -1.78898466e-02,   4.28778962e-02,\n",
       "         9.82679582e-02,   2.03339641e-02,   4.87815293e-02,\n",
       "         2.70782558e-02,  -4.44149426e-02,  -1.15476087e-01,\n",
       "         2.16136557e-02,   3.45065431e-02,   1.51920959e-02,\n",
       "         1.93261000e-03,  -2.04972318e-02,   1.66993500e-02,\n",
       "         6.77994786e-03,  -1.72772837e-01,   8.60721575e-02,\n",
       "         1.95134427e-02,  -3.56593518e-02,  -1.68827519e-02,\n",
       "        -4.43487855e-02,  -1.70047833e-02,   8.65227390e-02,\n",
       "         6.59368852e-02,   4.35065001e-02,  -3.34288817e-02,\n",
       "         1.02448008e-01,  -2.20542189e-02,   3.45842360e-03,\n",
       "         3.15183776e-02,  -2.08763309e-03,  -1.03444759e-02,\n",
       "         4.64978026e-03,   1.15534686e-02,   2.47080242e-02,\n",
       "         3.91377554e-02,   1.14758944e-01,  -2.11391820e-02,\n",
       "        -1.85687087e-02,  -3.02344706e-03,  -1.32551627e-01,\n",
       "         2.35003060e-02,   9.70214843e-02,  -3.65523652e-02,\n",
       "        -5.17280788e-03,  -2.47711004e-02,  -4.87788638e-02,\n",
       "        -5.28791629e-02,  -8.11217845e-02,  -2.86940723e-03,\n",
       "        -3.52244872e-02,  -6.02765072e-03,   3.93033909e-03,\n",
       "        -1.26266535e-01,  -2.66973202e-02,  -4.61051411e-02,\n",
       "         1.03787918e-01,   1.68849959e-02,   3.61538555e-02,\n",
       "        -2.69483907e-02,   4.60150494e-03,  -8.54105051e-03,\n",
       "         2.94882518e-02,   4.94321436e-02,  -1.18638513e-02,\n",
       "        -5.19839076e-03,  -7.63933334e-02,  -8.08004486e-03,\n",
       "        -2.18732075e-03,  -1.90899040e-02,   2.13792624e-02,\n",
       "        -3.86164585e-02,  -3.91219238e-02,   1.82915336e-02,\n",
       "         3.01423265e-02,   6.59529384e-03,  -1.15606196e-02,\n",
       "         5.70739046e-02,   1.57800808e-02,  -1.64581277e-02,\n",
       "         4.38986746e-02,   6.17287154e-02,   5.36445540e-02,\n",
       "         4.90762981e-02,   1.10819794e-03,  -2.87830222e-02,\n",
       "        -4.54679776e-02,  -1.28726753e-02,  -4.40739349e-02,\n",
       "        -3.40449787e-02,  -9.73214732e-03,  -5.88546427e-03,\n",
       "        -4.78789178e-02,  -8.95807388e-02,  -5.39928746e-03,\n",
       "        -2.00079024e-02,   4.22984834e-03,  -4.24874643e-02,\n",
       "         6.98100169e-02,   3.56968094e-02,  -2.68233468e-02,\n",
       "        -9.71736910e-03,   2.89261956e-02,   1.29241192e-02,\n",
       "        -1.85518312e-02,  -1.88248562e-03,  -3.11349916e-02,\n",
       "        -1.86387697e-02,  -6.33119212e-02,  -4.33995321e-02,\n",
       "        -1.12744189e-02,   2.94878456e-02,   1.11450350e-01,\n",
       "         6.99676783e-02,   1.96513257e-02,   5.15574317e-02,\n",
       "        -5.10950908e-02,   6.35598679e-03,  -9.71319323e-03,\n",
       "        -1.56468205e-01,   9.21894944e-03,  -1.03597017e-02,\n",
       "         2.24743497e-02,  -3.79393897e-02,  -2.71468710e-03,\n",
       "        -3.26919375e-02,  -2.01133674e-02,  -3.44642458e-02,\n",
       "         6.23145635e-02,   5.53737758e-02,   3.19130084e-02,\n",
       "        -3.36540223e-02,  -3.24886759e-02,   1.19203422e-02,\n",
       "        -4.42010752e-03,   6.75244994e-02,  -3.10897078e-02,\n",
       "         4.00690251e-02,   5.50805110e-03,  -1.30894333e-01,\n",
       "        -4.94698290e-02,  -2.83021406e-02,  -2.44525091e-02,\n",
       "         2.02087068e-02,  -3.75878477e-04,   5.62937740e-03,\n",
       "        -2.70423465e-02,   6.86399484e-02,   4.87619706e-02,\n",
       "         3.31147810e-02,  -2.13277849e-02,  -9.96212473e-03,\n",
       "        -3.53002879e-02,  -4.92036918e-03,   7.79466358e-03,\n",
       "         1.29330887e-01,   1.01728541e-02,  -5.99411751e-03,\n",
       "        -2.59343551e-02,  -1.34550759e-02,  -4.75003265e-02,\n",
       "        -1.19815371e-02,  -4.63328789e-03,   1.12472403e-02,\n",
       "        -3.25364184e-02,   6.90089753e-02,  -1.12144104e-01,\n",
       "        -4.00550445e-02,  -4.99881099e-02,   1.45464349e-02,\n",
       "        -4.87866371e-02,   8.20712617e-02,   2.56685235e-02,\n",
       "         3.27788213e-02,  -2.79299282e-02,  -3.30601787e-02,\n",
       "         5.84642112e-02,  -8.21854083e-02,   3.28282396e-02,\n",
       "         3.91266247e-02,   1.73452692e-02,  -4.71091529e-02,\n",
       "        -4.04373550e-02,   6.13686360e-03,  -4.35505510e-02,\n",
       "        -3.19982901e-02,  -3.57115888e-02,   4.13598317e-02,\n",
       "        -6.56742904e-02,   5.64618505e-02,   6.52976767e-02,\n",
       "        -3.66085307e-02,  -8.38335155e-03,  -6.00182570e-02,\n",
       "         5.57099510e-02,   1.94589071e-02,  -1.87208327e-02,\n",
       "         3.48423102e-02,   1.33707931e-02,  -3.13101166e-02,\n",
       "        -8.17198008e-02,  -4.96276256e-02,  -2.93578420e-03,\n",
       "        -3.27302519e-02,  -6.85550227e-02,   4.57748790e-02,\n",
       "         5.34353046e-02,  -1.14417580e-02,   3.03762089e-02,\n",
       "        -1.49182483e-02,   5.98476732e-03,  -1.37291924e-02,\n",
       "         3.83568135e-02,  -2.89650816e-02,   4.79018325e-03,\n",
       "         4.24266553e-02,  -2.75547310e-02,  -1.34748868e-01,\n",
       "        -1.70408697e-02,  -1.37500308e-02,  -7.55273451e-03,\n",
       "         1.21587309e-02,   2.00290680e-02,   7.26160951e-02,\n",
       "        -7.70233125e-03,   5.37308262e-02,  -2.00688998e-03,\n",
       "         5.60861580e-02,  -1.09124716e-02,   4.47553701e-02,\n",
       "        -2.90935591e-02,  -6.49752707e-02,   6.64057275e-02,\n",
       "        -4.72241792e-02,  -1.04245371e-02,  -9.02321930e-02,\n",
       "         1.90922216e-02,  -1.17690083e-02,  -7.43513793e-02,\n",
       "        -2.78356353e-04,  -1.93096109e-02,   6.87746368e-04,\n",
       "        -5.67506435e-03,  -9.12565324e-03,  -3.75523129e-02,\n",
       "        -2.13057005e-04,   1.31397825e-03,   4.26471749e-03,\n",
       "        -8.44284578e-03,  -2.78791111e-04])"
      ]
     },
     "execution_count": 13,
     "metadata": {},
     "output_type": "execute_result"
    }
   ],
   "source": [
    "STAT['PRCP']['eigvec'][0,:]"
   ]
  },
  {
   "cell_type": "code",
   "execution_count": 14,
   "metadata": {
    "collapsed": false,
    "deletable": true,
    "editable": true,
    "run_control": {
     "frozen": false,
     "read_only": false
    }
   },
   "outputs": [],
   "source": [
    "from pickle import dump\n",
    "filename=data_dir+'/STAT_%s.pickle'%file_index\n",
    "dump((STAT,STAT_Descriptions),open(filename,'wb'))\n"
   ]
  },
  {
   "cell_type": "code",
   "execution_count": 15,
   "metadata": {
    "collapsed": true
   },
   "outputs": [],
   "source": [
    "sc.stop()"
   ]
  },
  {
   "cell_type": "code",
   "execution_count": 15,
   "metadata": {
    "collapsed": false,
    "deletable": true,
    "editable": true
   },
   "outputs": [
    {
     "data": {
      "text/plain": [
       "'SSSSSBSS'"
      ]
     },
     "execution_count": 15,
     "metadata": {},
     "output_type": "execute_result"
    }
   ],
   "source": []
  },
  {
   "cell_type": "code",
   "execution_count": null,
   "metadata": {
    "collapsed": true
   },
   "outputs": [],
   "source": []
  }
 ],
 "metadata": {
  "anaconda-cloud": {},
  "celltoolbar": "Slideshow",
  "kernelspec": {
   "display_name": "Python 2",
   "language": "python",
   "name": "python2"
  },
  "language_info": {
   "codemirror_mode": {
    "name": "ipython",
    "version": 2
   },
   "file_extension": ".py",
   "mimetype": "text/x-python",
   "name": "python",
   "nbconvert_exporter": "python",
   "pygments_lexer": "ipython2",
   "version": "2.7.13"
  },
  "name": "PCA_using_numpy for HW3",
  "notebookId": 85286,
  "toc": {
   "colors": {
    "hover_highlight": "#DAA520",
    "running_highlight": "#FF0000",
    "selected_highlight": "#FFD700"
   },
   "moveMenuLeft": true,
   "nav_menu": {
    "height": "116px",
    "width": "252px"
   },
   "navigate_menu": true,
   "number_sections": true,
   "sideBar": true,
   "threshold": 4,
   "toc_cell": false,
   "toc_section_display": "block",
   "toc_window_display": false,
   "widenNotebook": false
  }
 },
 "nbformat": 4,
 "nbformat_minor": 0
}
