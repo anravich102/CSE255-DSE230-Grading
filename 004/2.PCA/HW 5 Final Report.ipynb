{
 "cells": [
  {
   "cell_type": "markdown",
   "metadata": {},
   "source": [
    "# Wyoming Weather Analysis\n",
    "\n",
    "This is a report on the historical analysis of weather patterns in an area that approximately overlaps the area of the state of Wyoming.\n",
    "\n",
    "The data we will use here comes from [NOAA](https://www.ncdc.noaa.gov/). Specifically, it was downloaded from This [FTP site](ftp://ftp.ncdc.noaa.gov/pub/data/ghcn/daily/).\n",
    "\n",
    "We initially focused on six measurements:\n",
    "* **TMIN, TMAX:** the daily minimum and maximum temperature.\n",
    "* **TOBS:** The average temperature for each day.\n",
    "* **PRCP:** Daily Percipitation (in mm)\n",
    "* **SNOW:** Daily snowfall (in mm)\n",
    "* **SNWD:** The depth of accumulated snow.\n",
    "\n",
    "However, we decided to shift our focus more to the analysis of the daily snowfall (SNOW). \n",
    "\n",
    "This is due to the notion that this state does not offer any interesting facts or analyses with regards to temperature extremes and precipitation (rain)\n"
   ]
  },
  {
   "cell_type": "markdown",
   "metadata": {},
   "source": [
    "We came to the conclusion that all of the other phenomena\n",
    "are trivial based on the magnitudes of the eigenvalues.\n",
    "\n",
    "Specifically based on the max magnitudes of each of these phenomena."
   ]
  },
  {
   "cell_type": "markdown",
   "metadata": {},
   "source": [
    "Another reason we decide to focus on daily snowfall for the state of Wyoming is because this state is more in the middle of the United States and the terrain is more mountainous. \n",
    "\n",
    "This leads to very interesting climate analyses. "
   ]
  },
  {
   "cell_type": "markdown",
   "metadata": {},
   "source": [
    "# Sanity-check: comparison with outside sources"
   ]
  },
  {
   "cell_type": "markdown",
   "metadata": {},
   "source": [
    "We see that the min and max daily temperature agree with the ones we got from our data, once we translate Fahrenheit to Centigrade.\n",
    "\n",
    "\n"
   ]
  },
  {
   "cell_type": "markdown",
   "metadata": {
    "collapsed": true
   },
   "source": [
    "![SNOW and SNWD](extra_figures/SNOWandSNWD.png)"
   ]
  },
  {
   "cell_type": "markdown",
   "metadata": {
    "collapsed": true
   },
   "source": [
    "![SNOW and SNWD mean](extra_figures/SNOWandSNWDmean.png)"
   ]
  },
  {
   "cell_type": "markdown",
   "metadata": {
    "collapsed": true
   },
   "source": [
    "![SNOW and SNWD mean2](extra_figures/SNOWandSNWDmean2.png)"
   ]
  },
  {
   "cell_type": "markdown",
   "metadata": {},
   "source": [
    "# Analysis of daily snowfall"
   ]
  },
  {
   "cell_type": "markdown",
   "metadata": {
    "collapsed": true
   },
   "source": [
    "In this report, we perform an analysis of the data where we find whether or not there was an increase in average daily snowfall before and after 1980."
   ]
  },
  {
   "cell_type": "markdown",
   "metadata": {},
   "source": [
    "This was done as a means to study the change in climate in the state Wyoming."
   ]
  },
  {
   "cell_type": "markdown",
   "metadata": {},
   "source": [
    "We did this by taking the data into a pandas data frame. In this data frame, there was a vector column. This column contained a list of the daily snowfall for each day of the year. \n",
    "\n",
    "From this, we computed the average daily snowfall. Each of these averages were then collected into two class: before 1980 or 1980 and after. "
   ]
  },
  {
   "cell_type": "markdown",
   "metadata": {},
   "source": [
    "The stastical analysis was then performed using the t-test. The results of this test were that there was no statistical significance before and after this period.\n",
    "\n",
    "We do, however, hypothesize that there might be significance if the classes were chosen differently."
   ]
  },
  {
   "cell_type": "markdown",
   "metadata": {},
   "source": [
    "We then performed an eigenvalue analysis of the data. "
   ]
  },
  {
   "cell_type": "markdown",
   "metadata": {},
   "source": [
    "We found that most of the data for the SNWD data set can be explained by the first 100 eigenvalues (the first 100 factors with the highest eigenvalues)"
   ]
  },
  {
   "cell_type": "markdown",
   "metadata": {},
   "source": [
    "![Best Reconstruction](extra_figures/BestReconstruction.png)"
   ]
  },
  {
   "cell_type": "markdown",
   "metadata": {},
   "source": [
    "# Errors to be accounted for"
   ]
  },
  {
   "cell_type": "markdown",
   "metadata": {},
   "source": [
    "For some of the STAT keys, we get covariance matrices with negative eigenvalues. These values are the result of bad algorithm practices. "
   ]
  }
 ],
 "metadata": {
  "kernelspec": {
   "display_name": "Python 2",
   "language": "python",
   "name": "python2"
  },
  "language_info": {
   "codemirror_mode": {
    "name": "ipython",
    "version": 2
   },
   "file_extension": ".py",
   "mimetype": "text/x-python",
   "name": "python",
   "nbconvert_exporter": "python",
   "pygments_lexer": "ipython2",
   "version": "2.7.13"
  },
  "toc": {
   "colors": {
    "hover_highlight": "#DAA520",
    "running_highlight": "#FF0000",
    "selected_highlight": "#FFD700"
   },
   "moveMenuLeft": true,
   "nav_menu": {
    "height": "12px",
    "width": "252px"
   },
   "navigate_menu": true,
   "number_sections": true,
   "sideBar": true,
   "threshold": 4,
   "toc_cell": false,
   "toc_section_display": "block",
   "toc_window_display": false,
   "widenNotebook": false
  }
 },
 "nbformat": 4,
 "nbformat_minor": 2
}
