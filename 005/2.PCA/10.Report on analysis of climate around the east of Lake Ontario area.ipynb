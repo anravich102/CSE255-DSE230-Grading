{
 "cells": [
  {
   "cell_type": "markdown",
   "metadata": {},
   "source": [
    "# Northeast of New York State Weather Analysis\n",
    "#### This is a report on the historical analysis of weather patterns in an area east of Lake Ontario in the state of New York.\n",
    "#### The data utilized comes from [NOAA](https://www.ncdc.noaa.gov/). It was downloaded from [FTP site](ftp://ftp.ncdc.noaa.gov/pub/data/ghcn/daily/).\n",
    "#### Our focus of the six measurements are as follow:\n",
    "* **TMIN:** Daily minimum temperature (tenths of degrees Celsius)\n",
    "* **TMAX:** Daily maximum temperature (tenths of degrees Celsius)\n",
    "* **TOBS:** Temperature at the time of observation (tenths of degrees Celsius)\n",
    "* **PRCP:** Daily precipitation total (tenths of mm)\n",
    "* **SNOW:** Daily snowfall total (mm)\n",
    "* **SNWD:** Snow depth (mm)\n",
    "\n",
    "### Additional features are:\n",
    "* **STATION:** is the station identification code.  Note that the first two characters denote the FIPS country code, the third character is a network code that identifies the station numbering system used, and the remaining eight characters contain the actual station ID.\n",
    "* **LATITUDE:**   is latitude of the station (in decimal degrees).\n",
    "* **LONGITUDE:**  is the longitude of the station (in decimal degrees).\n",
    "* **ELEVATION:**  is the elevation of the station (in meters, missing = -999.9).\n",
    "\n",
    "#### For additional description of the fields, please check out [ghcnd-readme.txt](https://www1.ncdc.noaa.gov/pub/data/ghcn/daily/readme.txt)\n",
    "### Let's compare with outside sources for sanity-check\n",
    "#### The city of Oswego is within the area we are studying.  Below shows a graph obtained from [US Climate Data](http://www.usclimatedata.com/climate/old-forge/new-york/united-states/usny1061).  The elevation of Oswego is 348 feet.\n",
    "\n",
    "\n",
    "\n",
    "#### This graph shows the minimum and the maximum temperature in Fahrenheit as well as the amount of precipitation by month from January to December.\n",
    "\n"
   ]
  },
  {
   "cell_type": "markdown",
   "metadata": {
    "scrolled": false
   },
   "source": [
    "![oswego_climate.png](screenshots/oswego_climate.png)"
   ]
  },
  {
   "cell_type": "markdown",
   "metadata": {},
   "source": [
    "#### Compare to the TMAX, TMIN in Fahrenheit and PRCP we have for Oswego:\n",
    "<p><table><tr><td>\n",
    "<img alt=\"oswego_long_lat.png\" src=\"screenshots/oswego_tmax_tmin_fah.png\" style=\"height:350px; width:460px\" /></td>\n",
    "<td><img alt=\"oswego_prcp.png\" src=\"screenshots/overall_2y_prcp.png\" style=\"height:350px; width:460px\" /></td>\n",
    "</tr></table></p>\n",
    "\n",
    "#### The TMAX and TMIN in this chart on the left side are converted to Fahrenheit for comparison.  The precipitation of our data is by day instead of by month.  The chart on the right side shows a sample of 2 years of precipitation in inches.  There are higher spikes towards the end of the year which is in line with the U.S. Climate precipitation data\n",
    "\n",
    "\n",
    "#### The orange lines in the charts below show the mean of the TMIN and TMAX in Fahrenheit also confirm the legitimacy of our data.\n",
    "\n",
    "<p>\n",
    "<img alt=\"oswego_long_lat.png\" src=\"screenshots/mean_std_tmax_tmin.png\" style=\"height:350px; width:1000px\" /></p>\n",
    "\n"
   ]
  },
  {
   "cell_type": "markdown",
   "metadata": {},
   "source": [
    "### PCA Analysis\n",
    "#### The goal is to find patterns of the data in the region.  Let's first examine the charts of percentage of variance explained as a function of the top number of eigenvectors used for all six of our measurements to see if they yield any obvious patterns.\n",
    "\n",
    "#### The top 5 Eigenvectors explain close to 20% of variance for TMIN, more than 30% for TOBS, and about 18% for TMAX.  In addition, the top 5 Eigenvectors explain more than 12% for SNOW, and more than 7% for PRCP.\n",
    "<p><table><tr><td>\n",
    "<img alt=\"per_var_explained1.png\" src=\"screenshots/per_var_explained1.png\" style=\"height:250px; width:900px\" />\n",
    "<img alt=\"per_var_explained2.png\" src=\"screenshots/per_var_explained2.png\" style=\"height:250px; width:900px\" />\n",
    "</td></tr></table></p>\n",
    "\n",
    "#### The best chart presented is our snow depth, SNWD.  Its top Eigenvector alone explains more than 60% of the variance for snow depth.  The top 5 Eigenvectors explain more than 80% of the variance for SNWD.  We will utilize this measurement to perform detail analysis. "
   ]
  },
  {
   "cell_type": "markdown",
   "metadata": {},
   "source": [
    "#### Next, we will analyze the top 4 Eigenvectors for SNWD.  The top Eigenvector follows the shape of the mean, which is expected since its percentage of variance explained is more than 60%.\n",
    "\n",
    "<p>\n",
    "<img alt=\"top_eigen_snwd.png\" src=\"screenshots/snwd_mean.png\" style=\"height:260px; width:800px\" /></p>\n",
    "<img alt=\"top_eigen_snwd.png\" src=\"screenshots/snwd_top_eigen.png\" style=\"height:260px; width:800px\" /></p>\n",
    "\n",
    "#### The top second, the third, and the forth Eigenvectors correspond to the changes of the snow depth during the Winter periods from around late October to early May.  Their fluctuation differences most likely is due to the variation of the snow depth from year to year.  The observed temperature measured describes the patterns of our Eigenvectors well.  \n",
    "\n",
    "#### As the temperature gradually warms up in April, the depth of snow decreases until we see the flat lines during the Summer months.  Starting from around mid Novermber, as the temperature decreases, we see the snow depth increases once again.\n",
    "\n",
    "<p>\n",
    "<img alt=\"tobs_mean.png\" src=\"screenshots/tobs_mean.png\" style=\"height:260px; width:800px\" /></p>\n",
    "\n"
   ]
  },
  {
   "cell_type": "markdown",
   "metadata": {},
   "source": [
    "### Reconstruction:\n",
    "\n",
    "#### The charts below show the most positive and the most negative coefficients.  These variations of coefficient 1 correspond to the total amount of snow with respect to location.  Large positive coefficient 1 values indicate there's more than average snow depth.  Negative coefficient 1 values show less than average snow depth.\n",
    "\n",
    "![snwd_pos_coeff1.png](screenshots/snwd_pos_coeff1.png)\n",
    "![snwd_neg_coeff1.png](screenshots/snwd_neg_coeff1.png)\n",
    "\n",
    "#### These three charts below show the variations of coefficient 1 of SNWD with respect to the locations of the stations within our region.\n",
    "<p><table>\n",
    "<tr><td>\n",
    "<img alt=\"snwd_elevation_coeff1.png\" src=\"screenshots/snwd_elevation_coeff1.png\" style=\"height:300px; width:300px\" /></td>\n",
    "<td>\n",
    "<img alt=\"snwd_elevation_avgcoeff1.png\" src=\"screenshots/snwd_elevation_avgcoeff1.png\" style=\"height:300px; width:300px\" />\n",
    "</td></tr>\n",
    "<tr>\n",
    "<td colspan=\"2\">\n",
    "![elevation_map.png](screenshots/elevation_map.png)\n",
    "</td></tr></table></p>\n",
    "\n",
    "\n",
    "\n",
    "\n",
    "#### Large positive coefficient 2 values show a late snow season, most of the snow fall is around late Janurary.  Negative values of coefficient 2 indicate an early snow season, most of the snow fall is around early March.\n",
    "![snwd_pos_coeff2.png](screenshots/snwd_pos_coeff2.png)\n",
    "![snwd_neg_coeff2.png](screenshots/snwd_neg_coeff2.png)\n",
    "\n",
    "#### Large positive coefficient 3 values with two spikes indicate a snow season with one starting in December and the other starting in February.  Negative coefficient 3 values with a single spike correspond to a snow season which starts in the beginning of January.\n",
    "![snwd_pos_coeff3.png](screenshots/snwd_pos_coeff3.png)\n",
    "![snwd_neg_coeff3.png](screenshots/snwd_neg_coeff3.png)\n",
    "\n"
   ]
  },
  {
   "cell_type": "markdown",
   "metadata": {},
   "source": [
    "#### The SNWD variation in the timing of snowfall is mostly due to year to year.  Let's examine that in detail.  When we compare the fraction explained after taking away the mean by station and the mean by year, we are able to see that the coefficients of 2, 3, and 4 have more to do with the timing of the snowfall in comparison to locations of the stations.  For coefficient 1, the indication of the total amount of snow corresponds to locations is strong.\n",
    "\n",
    "** coeff 1 **\n",
    "* Total MS = 3442.13\n",
    "* MS removing mean-by-station = 1604.65, fraction explained = 53.38\n",
    "* MS removing mean-by-year = 1800.90, fraction explained = 47.68\n",
    "\n",
    "\n",
    "** coeff 2 **\n",
    "* Total MS = 1040.34\n",
    "* MS removing mean-by-station = 842.54, fraction explained = 19.01\n",
    "* MS removing mean-by-year = 558.01, fraction explained = 46.36\n",
    "\n",
    "\n",
    "** coeff 3 **\n",
    "* Total MS = 792.11\n",
    "* MS removing mean-by-station = 662.58, fraction explained = 16.35\n",
    "* MS removing mean-by-year = 448.68, fraction explained = 43.36\n",
    "\n",
    "\n",
    "** coeff 4 **\n",
    "* Total MS = 640.63\n",
    "* MS removing mean-by-station = 613.75, fraction explained = 4.20\n",
    "* MS removing mean-by-year = 442.22, fraction explained = 30.97\n",
    "\n"
   ]
  },
  {
   "cell_type": "markdown",
   "metadata": {},
   "source": [
    "#### Next, we will examine TOBS.  The percentage of variance explained is the next highest after SNWD.  We will utilize the elevation feature to further examine the temperature observed data.\n",
    "\n",
    "The KMeans algorithm is utilized to figure out the number of clusters for grouping the data by elevation.  This chart shows the optimal grouping cluster is four.  \n",
    "\n",
    "![elbow_for_k.png](screenshots/elbow_for_k.png)\n",
    "\n",
    "The center of the clusters are marked with a 'X'.\n",
    "![elevation_clusters.png](screenshots/elevation_clusters.png)\n",
    "\n",
    "\n",
    "The charts below show the percentage of variance explained for each TOBS group.\n",
    "![elev_tobs.png](screenshots/elev_tobs.png)\n",
    "\n",
    "#### Based on these charts with the percentage of variance explained, we can clearly see that grouping the TOBS data by the elevation does not yield a better result.  We will need to come up with other ways for analyzing our weather data. \n",
    "\n",
    "#### Overall, for this region, the snow depth yields the best indicator with the methods utilized for discovering our weather patterns.\n"
   ]
  },
  {
   "cell_type": "code",
   "execution_count": null,
   "metadata": {
    "collapsed": true
   },
   "outputs": [],
   "source": []
  }
 ],
 "metadata": {
  "kernelspec": {
   "display_name": "Python [default]",
   "language": "python",
   "name": "python2"
  },
  "language_info": {
   "codemirror_mode": {
    "name": "ipython",
    "version": 2
   },
   "file_extension": ".py",
   "mimetype": "text/x-python",
   "name": "python",
   "nbconvert_exporter": "python",
   "pygments_lexer": "ipython2",
   "version": "2.7.13"
  }
 },
 "nbformat": 4,
 "nbformat_minor": 2
}
