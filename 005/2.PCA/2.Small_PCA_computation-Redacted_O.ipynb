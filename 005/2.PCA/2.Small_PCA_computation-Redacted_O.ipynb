{
 "cells": [
  {
   "cell_type": "markdown",
   "metadata": {
    "run_control": {
     "frozen": false,
     "read_only": false
    },
    "slideshow": {
     "slide_type": "slide"
    }
   },
   "source": [
    "### Computing PCA using RDDs"
   ]
  },
  {
   "cell_type": "markdown",
   "metadata": {
    "run_control": {
     "frozen": false,
     "read_only": false
    },
    "slideshow": {
     "slide_type": "subslide"
    }
   },
   "source": [
    "###  PCA\n",
    "\n",
    "The vectors that we want to analyze have length, or dimension, of 365, corresponding to the number of \n",
    "days in a year.\n",
    "\n",
    "We want to perform [Principle component analysis (PCA)](https://en.wikipedia.org/wiki/Principal_component_analysis)\n",
    "on these vectors. There are two steps to this process:\n",
    "\n",
    "1. Computing the covariance matrix: this is a  simple computation. However, it takes a long time to compute and it benefits from using an RDD because it involves all of the input vectors.\n",
    "2. Computing the eigenvector decomposition. this is a more complex computation, but it takes a fraction of a second because the size to the covariance matrix is $365 \\times 365$, which is quite small. We do it on the head node usin `linalg`"
   ]
  },
  {
   "cell_type": "markdown",
   "metadata": {
    "run_control": {
     "frozen": false,
     "read_only": false
    },
    "slideshow": {
     "slide_type": "slide"
    }
   },
   "source": [
    "### Computing the covariance matrix\n",
    "Suppose that the data vectors are the column vectors denoted $x$ then the covariance matrix is defined to be\n",
    "$$\n",
    "E(x x^T)-E(x)E(x)^T\n",
    "$$\n",
    "\n",
    "Where $x x^T$ is the **outer product** of $x$ with itself.\n",
    "\n",
    "If the data that we have is $x_1,x_2,x_n$ then the estimates we use are:\n",
    "$$\n",
    "\\hat{E}(x x^T) = \\frac{1}{n} \\sum_{i=1}^n x_i x_i^T,\\;\\;\\;\\;\\;\n",
    "\\hat{E}(x) = \\frac{1}{n} \\sum_{i=1}^n x_i\n",
    "$$"
   ]
  },
  {
   "cell_type": "markdown",
   "metadata": {
    "run_control": {
     "frozen": false,
     "read_only": false
    },
    "slideshow": {
     "slide_type": "slide"
    }
   },
   "source": [
    "### `nan`s in arithmetic operations\n",
    "* We store all of the measurements as single `bytearray` in a single column. Instead of using 365 columns.\n",
    "* Why?\n",
    "  1. Because serializing and desirializing is faster that way.\n",
    "  1. Because numpy treats `nan` entries correctly:\n",
    "      * In `numpy.nansum` `5+nan=5` while in dataframes `5+nan=nan`"
   ]
  },
  {
   "cell_type": "code",
   "execution_count": 1,
   "metadata": {
    "slideshow": {
     "slide_type": "subslide"
    }
   },
   "outputs": [
    {
     "name": "stdout",
     "output_type": "stream",
     "text": [
      "mean of [1 1 1 2] = 1.25\n",
      "nanmean of [1 1 1 2] = 1.25\n",
      "mean of [  1.   1.  nan   2.] = nan\n",
      "nanmean of [  1.   1.  nan   2.] = 1.33333333333\n"
     ]
    }
   ],
   "source": [
    "import numpy as np\n",
    "X=np.array([1,1,1,2])\n",
    "print 'mean of',X,'=',np.mean(X)\n",
    "print 'nanmean of',X,'=',np.nanmean(X)\n",
    "X=np.array([1,1,np.NaN,2])\n",
    "print 'mean of',X,'=',np.mean(X)\n",
    "print 'nanmean of',X,'=',np.nanmean(X)"
   ]
  },
  {
   "cell_type": "markdown",
   "metadata": {
    "slideshow": {
     "slide_type": "subslide"
    }
   },
   "source": [
    "#### When should you not use `np.nanmean` ?\n",
    "Using `n.nanmean` is equivalent to assuming that choice of which elements to remove is independent of the values of the elements. \n",
    "* Example of bad case: suppose the larger elements have a higher probability of being `nan`. In that case `np.nanmean` will under-estimate the mean"
   ]
  },
  {
   "cell_type": "markdown",
   "metadata": {
    "slideshow": {
     "slide_type": "subslide"
    }
   },
   "source": [
    "#### Computing Cov matrix on vectors with NaNs\n",
    "As it happens, we often get vectors $x$ in which some, but not all, of the entries are `nan`. \n",
    "Suppose that we want to compute the mean of the elements of $x$. If we use `np.mean` we will get the result `nan`. A useful alternative is to use `np.nanmean` which removes the `nan` elements and takes the mean of the rest."
   ]
  },
  {
   "cell_type": "markdown",
   "metadata": {
    "slideshow": {
     "slide_type": "subslide"
    }
   },
   "source": [
    "#### Computing the covariance  when there are `nan`s\n",
    "The covariance is a mean of outer products.\n",
    "\n",
    "If the data that we have is $x_1,x_2,x_n$ then the estimates we use are:\n",
    "$$\n",
    "\\hat{E}(x x^T) = \\frac{1}{n} \\sum_{i=1}^n x_i x_i^T,\\;\\;\\;\\;\\;\n",
    "\\hat{E}(x) = \\frac{1}{n} \\sum_{i=1}^n x_i\n",
    "$$"
   ]
  },
  {
   "cell_type": "code",
   "execution_count": 2,
   "metadata": {
    "slideshow": {
     "slide_type": "subslide"
    }
   },
   "outputs": [
    {
     "data": {
      "text/plain": [
       "array([[[  1.,  nan,   3.,   4.,   5.],\n",
       "        [ nan,  nan,  nan,  nan,  nan],\n",
       "        [  3.,  nan,   9.,  12.,  15.],\n",
       "        [  4.,  nan,  12.,  16.,  20.],\n",
       "        [  5.,  nan,  15.,  20.,  25.]],\n",
       "\n",
       "       [[  4.,   6.,   8.,  nan,  12.],\n",
       "        [  6.,   9.,  12.,  nan,  18.],\n",
       "        [  8.,  12.,  16.,  nan,  24.],\n",
       "        [ nan,  nan,  nan,  nan,  nan],\n",
       "        [ 12.,  18.,  24.,  nan,  36.]]])"
      ]
     },
     "execution_count": 2,
     "metadata": {},
     "output_type": "execute_result"
    }
   ],
   "source": [
    "x1=np.array([1,np.NaN,3,4,5])\n",
    "x2=np.array([2,3,4,np.NaN,6])\n",
    "stacked=np.array([np.outer(x1,x1),np.outer(x2,x2)])\n",
    "stacked"
   ]
  },
  {
   "cell_type": "code",
   "execution_count": 3,
   "metadata": {
    "slideshow": {
     "slide_type": "subslide"
    }
   },
   "outputs": [
    {
     "name": "stderr",
     "output_type": "stream",
     "text": [
      "/Users/jc/anaconda2/lib/python2.7/site-packages/ipykernel/__main__.py:1: RuntimeWarning: Mean of empty slice\n",
      "  if __name__ == '__main__':\n"
     ]
    },
    {
     "data": {
      "text/plain": [
       "array([[  2.5,   6. ,   5.5,   4. ,   8.5],\n",
       "       [  6. ,   9. ,  12. ,   nan,  18. ],\n",
       "       [  5.5,  12. ,  12.5,  12. ,  19.5],\n",
       "       [  4. ,   nan,  12. ,  16. ,  20. ],\n",
       "       [  8.5,  18. ,  19.5,  20. ,  30.5]])"
      ]
     },
     "execution_count": 3,
     "metadata": {},
     "output_type": "execute_result"
    }
   ],
   "source": [
    "np.nanmean(stacked,axis=0)"
   ]
  },
  {
   "cell_type": "markdown",
   "metadata": {
    "slideshow": {
     "slide_type": "slide"
    }
   },
   "source": [
    "### Loading Data into Dataframe"
   ]
  },
  {
   "cell_type": "code",
   "execution_count": 5,
   "metadata": {
    "collapsed": true,
    "slideshow": {
     "slide_type": "skip"
    }
   },
   "outputs": [],
   "source": [
    "import findspark\n",
    "findspark.init()\n",
    "\n",
    "from pyspark import SparkContext\n",
    "#sc.stop()\n",
    "## add after creating spark_PCA.py\n",
    "sc = SparkContext(master=\"local[3]\",pyFiles=['lib/numpy_pack.py','lib/computeStats.py','lib/spark_PCA.py'])\n",
    "\n",
    "from pyspark import SparkContext\n",
    "from pyspark.sql import *\n",
    "sqlContext = SQLContext(sc)"
   ]
  },
  {
   "cell_type": "code",
   "execution_count": 6,
   "metadata": {
    "collapsed": true,
    "run_control": {
     "frozen": false,
     "read_only": false
    },
    "slideshow": {
     "slide_type": "skip"
    }
   },
   "outputs": [],
   "source": [
    "import sys\n",
    "sys.path.append('./lib')\n",
    "\n",
    "import numpy as np\n",
    "from numpy_pack import packArray,unpackArray\n",
    "from spark_PCA import computeCov\n",
    "from computeStats import computeOverAllDist, STAT_Descriptions"
   ]
  },
  {
   "cell_type": "markdown",
   "metadata": {
    "run_control": {
     "frozen": false,
     "read_only": false
    },
    "slideshow": {
     "slide_type": "slide"
    }
   },
   "source": [
    "### Climate data\n",
    "\n",
    "The data we will use here comes from [NOAA](https://www.ncdc.noaa.gov/). Specifically, it was downloaded from This [FTP site](ftp://ftp.ncdc.noaa.gov/pub/data/ghcn/daily/).\n",
    "\n",
    "There is a large variety of measurements from all over the world, from 1870 will 2012.\n",
    "in the directory `../../Data/Weather` you will find the following useful files:\n",
    "\n",
    "* data-source.txt: the source of the data\n",
    "* ghcnd-readme.txt: A description of the content and format of the data\n",
    "* ghcnd-stations.txt: A table describing the Meteorological stations.\n",
    "\n"
   ]
  },
  {
   "cell_type": "markdown",
   "metadata": {
    "run_control": {
     "frozen": false,
     "read_only": false
    },
    "slideshow": {
     "slide_type": "subslide"
    }
   },
   "source": [
    "### Data cleaning\n",
    "\n",
    "* Most measurements exists only for a tiny fraction of the stations and years. We therefor restrict our use to the following measurements:\n",
    "```python\n",
    "['TMAX', 'SNOW', 'SNWD', 'TMIN', 'PRCP', 'TOBS']\n",
    "```\n",
    "\n",
    "* 8 We consider only measurement-years that have at most 50 `NaN` entries\n",
    "\n",
    "* We consider only measurements in the continential USA\n",
    "\n",
    "* We partition the stations into 256 geographical rectangles, indexed from BBBBBBBB to SSSSSSSS. And each containing about 12,000 station,year pairs."
   ]
  },
  {
   "cell_type": "code",
   "execution_count": 181,
   "metadata": {
    "run_control": {
     "frozen": false,
     "read_only": false
    },
    "scrolled": true,
    "slideshow": {
     "slide_type": "skip"
    }
   },
   "outputs": [
    {
     "name": "stdout",
     "output_type": "stream",
     "text": [
      "../../Data/Weather/US_Weather_BBBSBBBB.csv*\n",
      "curl https://mas-dse-open.s3.amazonaws.com/Weather/small/US_Weather_BBBSBBBB.csv.gz > ../../Data/Weather/US_Weather_BBBSBBBB.csv.gz\n",
      "  % Total    % Received % Xferd  Average Speed   Time    Time     Time  Current\n",
      "                                 Dload  Upload   Total   Spent    Left  Speed\n",
      "100 3732k  100 3732k    0     0  2195k      0  0:00:01  0:00:01 --:--:-- 3190k\n",
      "-rw-r--r--  1 jc  staff   3.6M May  8 06:32 ../../Data/Weather/US_Weather_BBBSBBBB.csv.gz\n"
     ]
    }
   ],
   "source": [
    "file_index='BBBBSSBB'\n",
    "#file_index='BBBSBBBB'\n",
    "filename='US_Weather_%s.csv.gz'%file_index\n",
    "data_dir='../../Data/Weather'\n",
    "del_files='%s/%s*'%(data_dir,filename[:-3])\n",
    "print del_files\n",
    "!rm $del_files\n",
    "command=\"curl https://mas-dse-open.s3.amazonaws.com/Weather/small/%s > %s/%s\"%(filename,data_dir,filename)\n",
    "print command\n",
    "!$command\n",
    "!ls -lh $data_dir/$filename"
   ]
  },
  {
   "cell_type": "code",
   "execution_count": 2,
   "metadata": {
    "collapsed": true
   },
   "outputs": [],
   "source": [
    "data_dir='../../Data/Weather'\n",
    "file_index='BBBBSSBB'"
   ]
  },
  {
   "cell_type": "code",
   "execution_count": 3,
   "metadata": {
    "slideshow": {
     "slide_type": "skip"
    }
   },
   "outputs": [
    {
     "name": "stdout",
     "output_type": "stream",
     "text": [
      "gunzip: / is a directory\n",
      "-rw-r--r--  1 jc  staff    13M May  8 20:34 ../../Data/Weather/US_Weather_BBBBSSBB.csv\n"
     ]
    }
   ],
   "source": [
    "!gunzip $data_dir/$filename\n",
    "filename=\"{0}/US_Weather_{1}.csv\".format(data_dir, file_index)\n",
    "!ls -lh $filename"
   ]
  },
  {
   "cell_type": "code",
   "execution_count": 7,
   "metadata": {
    "run_control": {
     "frozen": false,
     "read_only": false
    },
    "scrolled": true,
    "slideshow": {
     "slide_type": "subslide"
    }
   },
   "outputs": [
    {
     "data": {
      "text/plain": [
       "12884"
      ]
     },
     "execution_count": 7,
     "metadata": {},
     "output_type": "execute_result"
    }
   ],
   "source": [
    "import pickle\n",
    "List=pickle.load(open(filename,'rb'))\n",
    "len(List)"
   ]
  },
  {
   "cell_type": "code",
   "execution_count": 8,
   "metadata": {
    "run_control": {
     "frozen": false,
     "read_only": false
    },
    "slideshow": {
     "slide_type": "subslide"
    }
   },
   "outputs": [
    {
     "name": "stdout",
     "output_type": "stream",
     "text": [
      "12884\n",
      "+---------+--------+---------+-----------+-----------+------+--------------------+------+--------+\n",
      "|elevation|latitude|longitude|measurement|    station|undefs|              vector|  year|   label|\n",
      "+---------+--------+---------+-----------+-----------+------+--------------------+------+--------+\n",
      "|    106.7| 43.4622| -76.4933|       TMAX|USC00306314|     0|[20 50 40 4C 80 4...|1926.0|BBBBSSBB|\n",
      "|    106.7| 43.4622| -76.4933|       TMAX|USC00306314|     0|[00 00 A0 D3 00 0...|1927.0|BBBBSSBB|\n",
      "|    106.7| 43.4622| -76.4933|       TMAX|USC00306314|     1|[80 4D 80 D4 E0 D...|1928.0|BBBBSSBB|\n",
      "|    106.7| 43.4622| -76.4933|       TMAX|USC00306314|     1|[00 53 00 00 00 C...|1929.0|BBBBSSBB|\n",
      "|    106.7| 43.4622| -76.4933|       TMAX|USC00306314|     2|[E0 54 E0 55 00 4...|1930.0|BBBBSSBB|\n",
      "+---------+--------+---------+-----------+-----------+------+--------------------+------+--------+\n",
      "only showing top 5 rows\n",
      "\n"
     ]
    }
   ],
   "source": [
    "df=sqlContext.createDataFrame(List)\n",
    "print df.count()\n",
    "df.show(5)"
   ]
  },
  {
   "cell_type": "code",
   "execution_count": 9,
   "metadata": {
    "collapsed": true,
    "run_control": {
     "frozen": false,
     "read_only": false
    },
    "slideshow": {
     "slide_type": "subslide"
    }
   },
   "outputs": [],
   "source": [
    "sqlContext.registerDataFrameAsTable(df,'weather') #using older sqlContext instead of newer (V2.0) sparkSession"
   ]
  },
  {
   "cell_type": "code",
   "execution_count": 10,
   "metadata": {
    "run_control": {
     "frozen": false,
     "read_only": false
    },
    "slideshow": {
     "slide_type": "skip"
    }
   },
   "outputs": [
    {
     "name": "stdout",
     "output_type": "stream",
     "text": [
      "Number of executors= 3\n",
      "took 0.00124907493591 seconds\n"
     ]
    }
   ],
   "source": [
    "from time import time\n",
    "t=time()\n",
    "\n",
    "N=sc.defaultParallelism\n",
    "print 'Number of executors=',N\n",
    "print 'took',time()-t,'seconds'"
   ]
  },
  {
   "cell_type": "markdown",
   "metadata": {
    "slideshow": {
     "slide_type": "slide"
    }
   },
   "source": [
    "### Computing PCA for each measurement"
   ]
  },
  {
   "cell_type": "code",
   "execution_count": 11,
   "metadata": {
    "collapsed": true,
    "run_control": {
     "frozen": false,
     "read_only": false
    },
    "slideshow": {
     "slide_type": "fragment"
    }
   },
   "outputs": [],
   "source": [
    "measurements=['TMAX', 'SNOW', 'SNWD', 'TMIN', 'PRCP', 'TOBS']"
   ]
  },
  {
   "cell_type": "markdown",
   "metadata": {
    "run_control": {
     "frozen": false,
     "read_only": false
    },
    "slideshow": {
     "slide_type": "subslide"
    }
   },
   "source": [
    "#### Homework\n",
    "The code below computes the covariance matrix using RDDs.\n",
    "The code allows undefined entries and calculates the covariance without bias.\n",
    "\n",
    "Your homework is to complete the missing parts in the code (Marked with `...`) so that it would calculate the covariance correctly."
   ]
  },
  {
   "cell_type": "code",
   "execution_count": 12,
   "metadata": {
    "collapsed": true,
    "slideshow": {
     "slide_type": "subslide"
    }
   },
   "outputs": [],
   "source": [
    "#%%writefile lib/spark_PCA.py #once this works correctly, you should add it to the `lib` directory\n",
    "# and use import\n",
    "\n",
    "import numpy as np\n",
    "from numpy import linalg as LA\n",
    "\n",
    "def outerProduct(X):\n",
    "    \"\"\"Computer outer product and indicate which locations in matrix are undefined\"\"\"\n",
    "    O=np.outer(X,X)\n",
    "    N=1-np.isnan(O)\n",
    "    return (O,N)\n",
    "\n",
    "def sumWithNan(M1,M2):\n",
    "    \"\"\"Add two pairs of (matrix,count)\"\"\"\n",
    "    (X1,N1)=M1\n",
    "    (X2,N2)=M2\n",
    "    N=N1+N2\n",
    "    X=np.nansum(np.dstack((X1,X2)),axis=2)\n",
    "    return (X,N)\n",
    "\n",
    "def computeCov(RDDin):\n",
    "    \"\"\"computeCov recieves as input an RDD of np arrays, all of the same length, \n",
    "    and computes the covariance matrix for that set of vectors\"\"\"\n",
    "    RDD=RDDin.map(lambda v:np.array(np.insert(v,0,1),dtype=np.float64)) \n",
    "                     # insert a 1 at the beginning of each vector so that the same \n",
    "                     #calculation also yields the mean vector\n",
    "    \n",
    "    OuterRDD=outerProduct(RDD.map(lambda x:outerProduct(x))) # separating the map and the reduce does not matter because of Spark uses lazy execution.\n",
    "    \n",
    "    (S,N)=sumWithNan(OuterRDD.reduce(lambda x,y:sumWithNan(x,y)))\n",
    "    E=S[0,1:]\n",
    "    NE=np.float64(N[0,1:])\n",
    "    print 'shape of E=',E.shape,'shape of NE=',NE.shape\n",
    "    Mean=E/NE\n",
    "    O=S[1:,1:]\n",
    "    NO=np.float64(N[1:,1:])\n",
    "    Cov=O/NO-np.outer(Mean,Mean)  \n",
    "    # Output also the diagnal which is the variance for each day\n",
    "    Var=np.array([Cov[i,i] for i in range(Cov.shape[0])])\n",
    "    return {'E':E,'NE':NE,'O':O,'NO':NO,'Cov':Cov,'Mean':Mean,'Var':Var}"
   ]
  },
  {
   "cell_type": "markdown",
   "metadata": {},
   "source": [
    "#### Let's find out which station has the least missing data to work with"
   ]
  },
  {
   "cell_type": "code",
   "execution_count": 15,
   "metadata": {
    "scrolled": true
   },
   "outputs": [
    {
     "name": "stdout",
     "output_type": "stream",
     "text": [
      "select distinct station FROM weather where station = 'USC00306184' group by station \n",
      "+-----------+\n",
      "|    station|\n",
      "+-----------+\n",
      "|USC00306184|\n",
      "+-----------+\n",
      "\n"
     ]
    }
   ],
   "source": [
    "# Check the data of our region\n",
    "Query=\"select distinct station FROM weather where station = 'USC00306184' group by station \"\n",
    "print Query\n",
    "station = sqlContext.sql(Query)\n",
    "station.show()"
   ]
  },
  {
   "cell_type": "code",
   "execution_count": 190,
   "metadata": {
    "collapsed": true
   },
   "outputs": [],
   "source": [
    "stations = station.rdd.sortByKey(lambda x:x).collect()"
   ]
  },
  {
   "cell_type": "code",
   "execution_count": 191,
   "metadata": {},
   "outputs": [
    {
     "data": {
      "text/plain": [
       "[u'US1MAES0002',\n",
       " u'US1MAES0008',\n",
       " u'US1MAMD0007',\n",
       " u'US1MAMD0011',\n",
       " u'US1MAMD0012',\n",
       " u'US1MANF0001',\n",
       " u'US1MANF0005',\n",
       " u'US1MAWR0001',\n",
       " u'US1MAWR0013',\n",
       " u'USC00190120',\n",
       " u'USC00190166',\n",
       " u'USC00190218',\n",
       " u'USC00190257',\n",
       " u'USC00190408',\n",
       " u'USC00190535',\n",
       " u'USC00190538',\n",
       " u'USC00190551',\n",
       " u'USC00190562',\n",
       " u'USC00190582',\n",
       " u'USC00190593',\n",
       " u'USC00190595',\n",
       " u'USC00190655',\n",
       " u'USC00190768',\n",
       " u'USC00190801',\n",
       " u'USC00190998',\n",
       " u'USC00191097',\n",
       " u'USC00191099',\n",
       " u'USC00191103',\n",
       " u'USC00191110',\n",
       " u'USC00191323',\n",
       " u'USC00191344',\n",
       " u'USC00191447',\n",
       " u'USC00191561',\n",
       " u'USC00191563',\n",
       " u'USC00191582',\n",
       " u'USC00191589',\n",
       " u'USC00191622',\n",
       " u'USC00191950',\n",
       " u'USC00192107',\n",
       " u'USC00192150',\n",
       " u'USC00192530',\n",
       " u'USC00192806',\n",
       " u'USC00192812',\n",
       " u'USC00192975',\n",
       " u'USC00193052',\n",
       " u'USC00193110',\n",
       " u'USC00193224',\n",
       " u'USC00193229',\n",
       " u'USC00193270',\n",
       " u'USC00193295',\n",
       " u'USC00193401',\n",
       " u'USC00193402',\n",
       " u'USC00193405',\n",
       " u'USC00193429',\n",
       " u'USC00193624',\n",
       " u'USC00193625',\n",
       " u'USC00193640',\n",
       " u'USC00193690',\n",
       " u'USC00193702',\n",
       " u'USC00193772',\n",
       " u'USC00193890',\n",
       " u'USC00193931',\n",
       " u'USC00193940',\n",
       " u'USC00194012',\n",
       " u'USC00194115',\n",
       " u'USC00194125',\n",
       " u'USC00194135',\n",
       " u'USC00194154',\n",
       " u'USC00194162',\n",
       " u'USC00194340',\n",
       " u'USC00194360',\n",
       " u'USC00194502',\n",
       " u'USC00194580',\n",
       " u'USC00194615',\n",
       " u'USC00194744',\n",
       " u'USC00194760',\n",
       " u'USC00194771',\n",
       " u'USC00194795',\n",
       " u'USC00194903',\n",
       " u'USC00195050',\n",
       " u'USC00195060',\n",
       " u'USC00195077',\n",
       " u'USC00195095',\n",
       " u'USC00195145',\n",
       " u'USC00195175',\n",
       " u'USC00195177',\n",
       " u'USC00195306',\n",
       " u'USC00195317',\n",
       " u'USC00195390',\n",
       " u'USC00195490',\n",
       " u'USC00195514',\n",
       " u'USC00195524',\n",
       " u'USC00196004',\n",
       " u'USC00196245',\n",
       " u'USC00196251',\n",
       " u'USC00196256',\n",
       " u'USC00196322',\n",
       " u'USC00196644',\n",
       " u'USC00196699',\n",
       " u'USC00196720',\n",
       " u'USC00196770',\n",
       " u'USC00196783',\n",
       " u'USC00196915',\n",
       " u'USC00196993',\n",
       " u'USC00197104',\n",
       " u'USC00197122',\n",
       " u'USC00197124',\n",
       " u'USC00198030',\n",
       " u'USC00198154',\n",
       " u'USC00198159',\n",
       " u'USC00198218',\n",
       " u'USC00198278',\n",
       " u'USC00198301',\n",
       " u'USC00198470',\n",
       " u'USC00198580',\n",
       " u'USC00198755',\n",
       " u'USC00198757',\n",
       " u'USC00198760',\n",
       " u'USC00198793',\n",
       " u'USC00198798',\n",
       " u'USC00198960',\n",
       " u'USC00199080',\n",
       " u'USC00199093',\n",
       " u'USC00199226',\n",
       " u'USC00199289',\n",
       " u'USC00199316',\n",
       " u'USC00199360',\n",
       " u'USC00199442',\n",
       " u'USC00199795',\n",
       " u'USC00199820',\n",
       " u'USC00199928',\n",
       " u'USC00199929',\n",
       " u'USC00199936',\n",
       " u'USW00004769',\n",
       " u'USW00004779',\n",
       " u'USW00004780',\n",
       " u'USW00014702',\n",
       " u'USW00014703',\n",
       " u'USW00014739',\n",
       " u'USW00014753',\n",
       " u'USW00014789',\n",
       " u'USW00014790',\n",
       " u'USW00054704',\n",
       " u'USW00054733',\n",
       " u'USW00054756',\n",
       " u'USW00094701',\n",
       " u'USW00094746']"
      ]
     },
     "execution_count": 191,
     "metadata": {},
     "output_type": "execute_result"
    }
   ],
   "source": [
    "station_codes = [s[0] for s in stations]#if s[1] < 100]\n",
    "station_codes"
   ]
  },
  {
   "cell_type": "markdown",
   "metadata": {},
   "source": [
    "#### Let's examine the stations further and see which one is a good candidate for our study"
   ]
  },
  {
   "cell_type": "code",
   "execution_count": 192,
   "metadata": {
    "scrolled": true
   },
   "outputs": [
    {
     "name": "stdout",
     "output_type": "stream",
     "text": [
      "+-----------+----+------+\n",
      "|    station|year|undefs|\n",
      "+-----------+----+------+\n",
      "|USC00190655|   1|    62|\n",
      "|USC00199289|   1|    64|\n",
      "|USC00194154|   3|   103|\n",
      "|USC00198755|  23|   112|\n",
      "|USC00193690|   3|   139|\n",
      "|USC00190166|   7|   149|\n",
      "|USC00198760|   7|   203|\n",
      "|USC00193224|  15|   204|\n",
      "|USC00191950|   2|   229|\n",
      "|USC00191344|   4|   239|\n",
      "|USC00194162|   4|   289|\n",
      "|USC00196245|  27|   354|\n",
      "|USC00198757|  40|   394|\n",
      "|USC00193624|  52|   411|\n",
      "|USC00193229|   7|   424|\n",
      "|USC00197124|  13|   459|\n",
      "|USW00014703|  30|   549|\n",
      "|USC00194771|  28|   556|\n",
      "|USC00198301|  26|   587|\n",
      "|USC00195175|  33|   602|\n",
      "+-----------+----+------+\n",
      "only showing top 20 rows\n",
      "\n"
     ]
    }
   ],
   "source": [
    "# we want stations with all types of measurements\n",
    "Query=\"SELECT station,count(distinct year) as year,sum(undefs) as undefs \"\\\n",
    "      \"FROM weather \"\\\n",
    "      \"WHERE station in ('{0}') group by station \"\\\n",
    "      \"having count(distinct measurement) = 6 \"\\\n",
    "      \"order by undefs\".format(\"','\".join(station_codes))\n",
    "#print Query\n",
    "measurement = sqlContext.sql(Query)\n",
    "measurement.show()"
   ]
  },
  {
   "cell_type": "markdown",
   "metadata": {},
   "source": [
    "#### It looks like some of the stations only have a few years of data collection.  Let's narrow down our list by selecting those with more than 50 years of data."
   ]
  },
  {
   "cell_type": "code",
   "execution_count": null,
   "metadata": {
    "collapsed": true
   },
   "outputs": [],
   "source": [
    "USC00198301"
   ]
  },
  {
   "cell_type": "code",
   "execution_count": 194,
   "metadata": {
    "scrolled": true
   },
   "outputs": [
    {
     "data": {
      "text/plain": [
       "[Row(station=u'USC00198755', year=23, undefs=112),\n",
       " Row(station=u'USC00193224', year=15, undefs=204),\n",
       " Row(station=u'USC00196245', year=27, undefs=354),\n",
       " Row(station=u'USC00198757', year=40, undefs=394),\n",
       " Row(station=u'USC00193624', year=52, undefs=411),\n",
       " Row(station=u'USC00197124', year=13, undefs=459),\n",
       " Row(station=u'USW00014703', year=30, undefs=549),\n",
       " Row(station=u'USC00194771', year=28, undefs=556),\n",
       " Row(station=u'USC00198301', year=26, undefs=587),\n",
       " Row(station=u'USC00195175', year=33, undefs=602),\n",
       " Row(station=u'USC00194502', year=28, undefs=618),\n",
       " Row(station=u'USC00194580', year=47, undefs=713),\n",
       " Row(station=u'USC00190593', year=16, undefs=720),\n",
       " Row(station=u'USC00199316', year=48, undefs=846),\n",
       " Row(station=u'USC00190535', year=51, undefs=852),\n",
       " Row(station=u'USC00196783', year=52, undefs=951),\n",
       " Row(station=u'USW00014753', year=120, undefs=973),\n",
       " Row(station=u'USC00191582', year=17, undefs=1015),\n",
       " Row(station=u'USC00193890', year=44, undefs=1056),\n",
       " Row(station=u'USC00198580', year=80, undefs=1206)]"
      ]
     },
     "execution_count": 194,
     "metadata": {},
     "output_type": "execute_result"
    }
   ],
   "source": [
    "years=measurement.rdd.filter(lambda row: row['year']>10)\n",
    "years.take(20)"
   ]
  },
  {
   "cell_type": "markdown",
   "metadata": {},
   "source": [
    "#### USC00303851 seems to have one of the higher counts of 'year' with fewer undefs.  This may be a good candidate for our study"
   ]
  },
  {
   "cell_type": "code",
   "execution_count": 195,
   "metadata": {},
   "outputs": [
    {
     "name": "stdout",
     "output_type": "stream",
     "text": [
      "select distinct year from weather where station = 'USC00198301' group by year order by year\n",
      "+------+\n",
      "|  year|\n",
      "+------+\n",
      "|1931.0|\n",
      "|1932.0|\n",
      "|1933.0|\n",
      "|1934.0|\n",
      "|1935.0|\n",
      "|1936.0|\n",
      "|1937.0|\n",
      "|1938.0|\n",
      "|1939.0|\n",
      "|1940.0|\n",
      "|1941.0|\n",
      "|1942.0|\n",
      "|1943.0|\n",
      "|1944.0|\n",
      "|1945.0|\n",
      "|1946.0|\n",
      "|1947.0|\n",
      "|1948.0|\n",
      "|1949.0|\n",
      "|1950.0|\n",
      "+------+\n",
      "only showing top 20 rows\n",
      "\n"
     ]
    }
   ],
   "source": [
    "#station = 'USC00301732'\n",
    "station = 'USC00198301'\n",
    "#station = 'USC00303851'\n",
    "Query = \"select distinct year from weather where station = '{0}' group by year order by year\".format(station)\n",
    "print Query\n",
    "top_station = sqlContext.sql(Query)\n",
    "top_station.show()"
   ]
  },
  {
   "cell_type": "code",
   "execution_count": 196,
   "metadata": {
    "collapsed": true
   },
   "outputs": [],
   "source": [
    "top = top_station.rdd.map(lambda row: row['year']).collect()"
   ]
  },
  {
   "cell_type": "code",
   "execution_count": 197,
   "metadata": {},
   "outputs": [
    {
     "data": {
      "text/plain": [
       "[1931.0,\n",
       " 1932.0,\n",
       " 1933.0,\n",
       " 1934.0,\n",
       " 1935.0,\n",
       " 1936.0,\n",
       " 1937.0,\n",
       " 1938.0,\n",
       " 1939.0,\n",
       " 1940.0,\n",
       " 1941.0,\n",
       " 1942.0,\n",
       " 1943.0,\n",
       " 1944.0,\n",
       " 1945.0,\n",
       " 1946.0,\n",
       " 1947.0,\n",
       " 1948.0,\n",
       " 1949.0,\n",
       " 1950.0,\n",
       " 1951.0,\n",
       " 1952.0,\n",
       " 1953.0,\n",
       " 1954.0,\n",
       " 1955.0,\n",
       " 1956.0]"
      ]
     },
     "execution_count": 197,
     "metadata": {},
     "output_type": "execute_result"
    }
   ],
   "source": [
    "top"
   ]
  },
  {
   "cell_type": "code",
   "execution_count": null,
   "metadata": {
    "collapsed": true,
    "run_control": {
     "frozen": false,
     "read_only": false
    },
    "scrolled": true,
    "slideshow": {
     "slide_type": "subslide"
    }
   },
   "outputs": [],
   "source": [
    "from numpy import linalg as LA\n",
    "STAT={}  # dictionary storing the statistics for each measurement\n",
    "Clean_Tables={}\n",
    "\n",
    "for meas in measurements:\n",
    "    t=time()\n",
    "    Query=\"SELECT * FROM weather WHERE measurement = '{1}'\".format(station,meas)\n",
    "    print Query\n",
    "    df1 = sqlContext.sql(Query)\n",
    "    data=df1.rdd.map(lambda row: unpackArray(row['vector'],np.float64))\n",
    "    #data=df1.rdd.map(lambda row: unpackArray(row['vector'],np.float16))\n",
    "    #get basic statistics\n",
    "    print 'data',type(data)\n",
    "    temp = data.map(lambda row:sum(np.isnan(row)))\n",
    "    print 'temp', temp\n",
    "    temp2 = temp.sample(False,0.01)\n",
    "    print 'temp2', temp2\n",
    "    temp3 = temp2.collect()\n",
    "    print 'temp3', type(temp3)\n",
    "    temp4=np.array(temp3)\n",
    "    print 'temp4', temp4\n",
    "    \n",
    "\n",
    "    STAT[meas]=computeOverAllDist(data)   # Compute the statistics \n",
    "\n",
    "    # compute covariance matrix\n",
    "    OUT=computeCov(data)\n",
    "\n",
    "    #find PCA decomposition\n",
    "    eigval,eigvec=LA.eig(OUT['Cov'])\n",
    "\n",
    "    # collect all of the statistics in STAT[meas]\n",
    "    STAT[meas]['eigval']=eigval\n",
    "    STAT[meas]['eigvec']=eigvec\n",
    "    STAT[meas].update(OUT)\n",
    "\n",
    "    print 'time for',meas,'is',time()-t"
   ]
  },
  {
   "cell_type": "code",
   "execution_count": 163,
   "metadata": {
    "run_control": {
     "frozen": false,
     "read_only": false
    },
    "slideshow": {
     "slide_type": "subslide"
    }
   },
   "outputs": [
    {
     "name": "stdout",
     "output_type": "stream",
     "text": [
      "total 288952\r\n",
      "-rw-r--r--    1 jc  staff   218B May  1 08:46 data-source.txt\r\n",
      "-rw-r--r--    1 jc  staff   2.1M May  1 08:46 stations.pkl.gz\r\n",
      "-rw-r--r--    1 jc  staff   270B May  1 08:46 ghcnd-version.txt\r\n",
      "-rw-r--r--    1 jc  staff   7.4M May  1 08:46 ghcnd-stations_buffered.txt\r\n",
      "-rw-r--r--    1 jc  staff   8.0M May  1 08:46 ghcnd-stations.txt\r\n",
      "-rw-r--r--    1 jc  staff    22K May  1 08:46 ghcnd-readme.txt\r\n",
      "drwxr-xr-x  404 jc  staff    13K May  1 08:46 \u001b[34mdecon_BBBSBBBB_TOBS.parquet\u001b[m\u001b[m\r\n",
      "drwxr-xr-x  404 jc  staff    13K May  1 08:46 \u001b[34mdecon_BBBSBBBB.parquet\u001b[m\u001b[m\r\n",
      "drwxr-xr-x   10 jc  staff   340B May  1 08:46 \u001b[34mUS_Weather_BBBSBBBB.parquet\u001b[m\u001b[m\r\n",
      "-rw-r--r--    1 jc  staff   3.6M May  1 08:46 US_Weather_BBBSBBBB.csv.gz\r\n",
      "-rw-r--r--    1 jc  staff    13M May  1 08:46 US_Weather_BBBSBBBB.csv\r\n",
      "-rw-r--r--    1 jc  staff    16M May  1 08:46 STAT_BBBSBBBB.pickle.gz\r\n",
      "-rw-r--r--    1 jc  staff    78M May  5 22:33 STAT_BBBSBBBB.pickle\r\n",
      "drwxr-xr-x  404 jc  staff    13K May  5 22:39 \u001b[34mdecon_BBBSBBBB_SNWD.parquet\u001b[m\u001b[m\r\n",
      "drwxr-xr-x  404 jc  staff    13K May  6 14:39 \u001b[34mdecon_BBBSBBBB_PRCP.parquet\u001b[m\u001b[m\r\n",
      "-rw-r--r--    1 jc  staff    13M May  7 20:44 US_Weather_BBBBSSBB.csv\r\n",
      "-rw-r--r--    1 jc  staff   926B May  8 06:05 STAT_BBBBSSBB.pickle\r\n"
     ]
    }
   ],
   "source": [
    "from pickle import dump\n",
    "filename=data_dir+'/STAT_%s.pickle'%file_index\n",
    "dump((STAT,STAT_Descriptions),open(filename,'wb'))\n",
    "!ls -lrth $data_dir"
   ]
  },
  {
   "cell_type": "code",
   "execution_count": null,
   "metadata": {
    "collapsed": true
   },
   "outputs": [],
   "source": []
  }
 ],
 "metadata": {
  "anaconda-cloud": {},
  "celltoolbar": "Slideshow",
  "kernelspec": {
   "display_name": "Python [default]",
   "language": "python",
   "name": "python2"
  },
  "language_info": {
   "codemirror_mode": {
    "name": "ipython",
    "version": 2
   },
   "file_extension": ".py",
   "mimetype": "text/x-python",
   "name": "python",
   "nbconvert_exporter": "python",
   "pygments_lexer": "ipython2",
   "version": "2.7.13"
  },
  "name": "PCA_using_numpy for HW3",
  "notebookId": 85286,
  "toc": {
   "colors": {
    "hover_highlight": "#DAA520",
    "running_highlight": "#FF0000",
    "selected_highlight": "#FFD700"
   },
   "moveMenuLeft": true,
   "nav_menu": {
    "height": "245px",
    "width": "252px"
   },
   "navigate_menu": true,
   "number_sections": true,
   "sideBar": true,
   "threshold": 4,
   "toc_cell": false,
   "toc_section_display": "block",
   "toc_window_display": true
  }
 },
 "nbformat": 4,
 "nbformat_minor": 2
}
