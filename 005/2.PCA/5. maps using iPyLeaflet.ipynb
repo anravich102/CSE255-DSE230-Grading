{
 "cells": [
  {
   "cell_type": "markdown",
   "metadata": {
    "run_control": {
     "frozen": false,
     "read_only": false
    }
   },
   "source": [
    "## iPyLeaflet\n",
    "[ipyleaflet](https://github.com/ellisonbg/ipyleaflet) is a bridge between jupyter notebooks and the [leaflet](http://leafletjs.com/)  javascript library for drawing maps.\n",
    "\n",
    "ipyleaflet comes with a few examples notebooks (this notebook was derived from one) but very little documentation,\n",
    "for more documentation read the [Leaflet IPA](http://leafletjs.com/reference.html)\n",
    "\n",
    "For installation directions, see the README on [ipyleaflet](https://github.com/ellisonbg/ipyleaflet)"
   ]
  },
  {
   "cell_type": "code",
   "execution_count": 1,
   "metadata": {
    "collapsed": true,
    "run_control": {
     "frozen": false,
     "read_only": false
    }
   },
   "outputs": [],
   "source": [
    "from ipyleaflet import (\n",
    "    Map,\n",
    "    Marker,\n",
    "    TileLayer, ImageOverlay,\n",
    "    Polyline, Polygon, Rectangle, Circle, CircleMarker,\n",
    "    GeoJSON,\n",
    "    DrawControl\n",
    ")"
   ]
  },
  {
   "cell_type": "markdown",
   "metadata": {
    "run_control": {
     "frozen": false,
     "read_only": false
    }
   },
   "source": [
    "## Visualizing the distribution of the observations\n",
    "\n",
    "## Load the required libraries"
   ]
  },
  {
   "cell_type": "code",
   "execution_count": 2,
   "metadata": {
    "collapsed": true,
    "run_control": {
     "frozen": false,
     "read_only": false
    }
   },
   "outputs": [],
   "source": [
    "import pandas as pd\n",
    "import numpy as np\n",
    "import sklearn as sk\n",
    "import urllib\n",
    "import math"
   ]
  },
  {
   "cell_type": "code",
   "execution_count": 3,
   "metadata": {
    "collapsed": true,
    "run_control": {
     "frozen": false,
     "read_only": false
    }
   },
   "outputs": [],
   "source": [
    "import findspark\n",
    "findspark.init()\n",
    "\n",
    "from pyspark import SparkContext\n",
    "#sc.stop()\n",
    "sc = SparkContext(master=\"local[3]\",pyFiles=['lib/numpy_pack.py','lib/spark_PCA.py','lib/computeStats.py'])\n",
    "\n",
    "from pyspark import SparkContext\n",
    "from pyspark.sql import *\n",
    "sqlContext = SQLContext(sc)"
   ]
  },
  {
   "cell_type": "code",
   "execution_count": 4,
   "metadata": {
    "collapsed": true,
    "run_control": {
     "frozen": false,
     "read_only": false
    }
   },
   "outputs": [],
   "source": [
    "import sys\n",
    "sys.path.append('./lib')\n",
    "\n",
    "import numpy as np\n",
    "from numpy_pack import packArray,unpackArray\n",
    "from spark_PCA import computeCov\n",
    "from computeStats import computeOverAllDist, STAT_Descriptions"
   ]
  },
  {
   "cell_type": "code",
   "execution_count": 5,
   "metadata": {
    "run_control": {
     "frozen": false,
     "read_only": false
    }
   },
   "outputs": [
    {
     "name": "stdout",
     "output_type": "stream",
     "text": [
      "('keys from STAT=', ['TMIN', 'TOBS', 'TMAX', 'SNOW', 'SNWD', 'PRCP'])\n",
      "1458\n",
      "+-----------------+------------------+------------------+------------------+---------+--------+--------+---------+-----------+-------------------+-------------------+-------------------+--------------------+------------------+-----------+--------------------+------+--------------------+------+\n",
      "|          coeff_1|           coeff_2|           coeff_3|           coeff_4|elevation|   label|latitude|longitude|measurement|              res_1|              res_2|              res_3|               res_4|          res_mean|    station|           total_var|undefs|              vector|  year|\n",
      "+-----------------+------------------+------------------+------------------+---------+--------+--------+---------+-----------+-------------------+-------------------+-------------------+--------------------+------------------+-----------+--------------------+------+--------------------+------+\n",
      "|9171.110131269304| 2087.753769407183|  2267.78139762957|480.25180925690347|    532.8|BBBBSSBB| 43.7025| -74.9839|       SNWD|0.13712189026654958| 0.0924057626331033|0.03964537093173876| 0.03727921340992531|0.9416094531780045|USC00306184|1.0351983138574955E8|     1|[5C 61 F4 61 8E 6...|1977.0|\n",
      "|6367.604742371777|-61.47082553288928|210.86147312415704|-180.2536726437042|    472.4|BBBBSSBB| 43.4361| -75.3697|       SNWD|0.04106599948648575|0.04097663301440281|0.03992508043021309|0.039156649624881475|0.9146860456263823|USC00300785| 4.622654380193093E7|     1|[24 5F C0 5E 2A 6...|1952.0|\n",
      "+-----------------+------------------+------------------+------------------+---------+--------+--------+---------+-----------+-------------------+-------------------+-------------------+--------------------+------------------+-----------+--------------------+------+--------------------+------+\n",
      "only showing top 2 rows\n",
      "\n"
     ]
    }
   ],
   "source": [
    "### Read the data frame from pickle file\n",
    "\n",
    "data_dir='../../Data/Weather'\n",
    "file_index='BBBBSSBB'\n",
    "meas='SNWD'\n",
    "\n",
    "from pickle import load\n",
    "\n",
    "#read statistics\n",
    "filename=data_dir+'/STAT_%s.pickle'%file_index\n",
    "STAT,STAT_Descriptions = load(open(filename,'rb'))\n",
    "print('keys from STAT=',STAT.keys())\n",
    "\n",
    "#!ls -ld $data_dir/*.parquet\n",
    "\n",
    "#read data\n",
    "filename=data_dir+'/decon_%s_%s.parquet'%(file_index,meas)\n",
    "\n",
    "df=sqlContext.read.parquet(filename)\n",
    "print(df.count())\n",
    "df.show(2)"
   ]
  },
  {
   "cell_type": "code",
   "execution_count": 6,
   "metadata": {
    "run_control": {
     "frozen": false,
     "read_only": false
    },
    "scrolled": true
   },
   "outputs": [
    {
     "name": "stdout",
     "output_type": "stream",
     "text": [
      "SELECT station, latitude,longitude,elevation,coeff_1 FROM weather\n",
      "+-----------+--------+---------+---------+-----------------+\n",
      "|    station|latitude|longitude|elevation|          coeff_1|\n",
      "+-----------+--------+---------+---------+-----------------+\n",
      "|USC00306184| 43.7025| -74.9839|    532.8|9171.110131269304|\n",
      "|USC00300785| 43.4361| -75.3697|    472.4|6367.604742371777|\n",
      "|USC00304912| 43.7975| -75.4817|    262.1|4894.513795875696|\n",
      "|USC00308248|    43.9| -75.0367|    515.1|7370.677472384773|\n",
      "+-----------+--------+---------+---------+-----------------+\n",
      "only showing top 4 rows\n",
      "\n"
     ]
    }
   ],
   "source": [
    "#extract longitude and latitude for each station\n",
    "feature='coeff_1'\n",
    "sqlContext.registerDataFrameAsTable(df,'weather')\n",
    "Query=\"SELECT station, latitude,longitude,elevation,%s FROM weather\"%feature\n",
    "print(Query)\n",
    "df1 = sqlContext.sql(Query)\n",
    "df1.show(4)"
   ]
  },
  {
   "cell_type": "code",
   "execution_count": 7,
   "metadata": {
    "run_control": {
     "frozen": false,
     "read_only": false
    }
   },
   "outputs": [
    {
     "data": {
      "text/html": [
       "<div>\n",
       "<table border=\"1\" class=\"dataframe\">\n",
       "  <thead>\n",
       "    <tr style=\"text-align: right;\">\n",
       "      <th></th>\n",
       "      <th>station</th>\n",
       "      <th>latitude</th>\n",
       "      <th>longitude</th>\n",
       "      <th>elevation</th>\n",
       "      <th>count(station)</th>\n",
       "      <th>avg(coeff_1)</th>\n",
       "    </tr>\n",
       "  </thead>\n",
       "  <tbody>\n",
       "    <tr>\n",
       "      <th>54</th>\n",
       "      <td>CA006150815</td>\n",
       "      <td>43.9800</td>\n",
       "      <td>-77.2200</td>\n",
       "      <td>91.0</td>\n",
       "      <td>1</td>\n",
       "      <td>-29.184093</td>\n",
       "    </tr>\n",
       "    <tr>\n",
       "      <th>26</th>\n",
       "      <td>US1NYOD0014</td>\n",
       "      <td>43.1658</td>\n",
       "      <td>-75.2451</td>\n",
       "      <td>276.1</td>\n",
       "      <td>1</td>\n",
       "      <td>2444.072522</td>\n",
       "    </tr>\n",
       "  </tbody>\n",
       "</table>\n",
       "</div>"
      ],
      "text/plain": [
       "        station  latitude  longitude  elevation  count(station)  avg(coeff_1)\n",
       "54  CA006150815   43.9800   -77.2200       91.0               1    -29.184093\n",
       "26  US1NYOD0014   43.1658   -75.2451      276.1               1   2444.072522"
      ]
     },
     "execution_count": 7,
     "metadata": {},
     "output_type": "execute_result"
    }
   ],
   "source": [
    "df1a=df1.groupby(['station','latitude','longitude','elevation']).agg({\"station\": \"count\", feature: \"mean\"})\n",
    "pdf1=df1a.toPandas()\n",
    "pdf1.sort_values(by=['station'],inplace=True)\n",
    "pdf1.head(2)"
   ]
  },
  {
   "cell_type": "code",
   "execution_count": 8,
   "metadata": {},
   "outputs": [
    {
     "name": "stdout",
     "output_type": "stream",
     "text": [
      "SELECT year,latitude,longitude,elevation,coeff_4 FROM weather\n",
      "+------+--------+---------+---------+------------------+\n",
      "|  year|latitude|longitude|elevation|           coeff_4|\n",
      "+------+--------+---------+---------+------------------+\n",
      "|1977.0| 43.7025| -74.9839|    532.8|480.25180925690347|\n",
      "|1952.0| 43.4361| -75.3697|    472.4|-180.2536726437042|\n",
      "|1994.0| 43.7975| -75.4817|    262.1| 466.5516240861696|\n",
      "|1978.0|    43.9| -75.0367|    515.1| 810.1031211372076|\n",
      "+------+--------+---------+---------+------------------+\n",
      "only showing top 4 rows\n",
      "\n"
     ]
    }
   ],
   "source": [
    "#extract year\n",
    "feature2='coeff_4'\n",
    "sqlContext.registerDataFrameAsTable(df,'weather')\n",
    "Query=\"SELECT year,latitude,longitude,elevation,%s FROM weather\"%feature2\n",
    "print(Query)\n",
    "df2 = sqlContext.sql(Query)\n",
    "df2.show(4)"
   ]
  },
  {
   "cell_type": "code",
   "execution_count": 9,
   "metadata": {},
   "outputs": [
    {
     "data": {
      "text/html": [
       "<div>\n",
       "<table border=\"1\" class=\"dataframe\">\n",
       "  <thead>\n",
       "    <tr style=\"text-align: right;\">\n",
       "      <th></th>\n",
       "      <th>year</th>\n",
       "      <th>latitude</th>\n",
       "      <th>longitude</th>\n",
       "      <th>elevation</th>\n",
       "      <th>count(year)</th>\n",
       "      <th>avg(coeff_4)</th>\n",
       "    </tr>\n",
       "  </thead>\n",
       "  <tbody>\n",
       "    <tr>\n",
       "      <th>1260</th>\n",
       "      <td>1900.0</td>\n",
       "      <td>43.4333</td>\n",
       "      <td>-73.7167</td>\n",
       "      <td>106.7</td>\n",
       "      <td>1</td>\n",
       "      <td>57.111750</td>\n",
       "    </tr>\n",
       "    <tr>\n",
       "      <th>1338</th>\n",
       "      <td>1901.0</td>\n",
       "      <td>43.4333</td>\n",
       "      <td>-73.7167</td>\n",
       "      <td>106.7</td>\n",
       "      <td>1</td>\n",
       "      <td>-221.839294</td>\n",
       "    </tr>\n",
       "  </tbody>\n",
       "</table>\n",
       "</div>"
      ],
      "text/plain": [
       "        year  latitude  longitude  elevation  count(year)  avg(coeff_4)\n",
       "1260  1900.0   43.4333   -73.7167      106.7            1     57.111750\n",
       "1338  1901.0   43.4333   -73.7167      106.7            1   -221.839294"
      ]
     },
     "execution_count": 9,
     "metadata": {},
     "output_type": "execute_result"
    }
   ],
   "source": [
    "df2a=df2.groupby(['year','latitude','longitude','elevation']).agg({\"year\": \"count\", feature2: \"mean\"})\n",
    "pdf2=df2a.toPandas()\n",
    "pdf2.sort_values(by=['year'],inplace=True)\n",
    "pdf2.head(2)"
   ]
  },
  {
   "cell_type": "code",
   "execution_count": 10,
   "metadata": {},
   "outputs": [
    {
     "name": "stdout",
     "output_type": "stream",
     "text": [
      "+-----------+--------+---------+---------+\n",
      "|    station|latitude|longitude|elevation|\n",
      "+-----------+--------+---------+---------+\n",
      "|USW00014771| 43.1111| -76.1039|    125.9|\n",
      "|USW00014771| 43.1111| -76.1039|    125.9|\n",
      "+-----------+--------+---------+---------+\n",
      "only showing top 2 rows\n",
      "\n",
      "None\n",
      "+-----------+--------+---------+---------+\n",
      "|    station|latitude|longitude|elevation|\n",
      "+-----------+--------+---------+---------+\n",
      "|CA006150815|   43.98|   -77.22|     91.0|\n",
      "|USC00309000| 43.9761| -75.8753|    151.5|\n",
      "+-----------+--------+---------+---------+\n",
      "only showing top 2 rows\n",
      "\n",
      "None\n",
      "+-----------+--------+---------+---------+\n",
      "|    station|latitude|longitude|elevation|\n",
      "+-----------+--------+---------+---------+\n",
      "|CA006150815|   43.98|   -77.22|     91.0|\n",
      "|USC00307842| 43.2078| -77.0128|    128.0|\n",
      "+-----------+--------+---------+---------+\n",
      "only showing top 2 rows\n",
      "\n",
      "None\n",
      "+-----------+--------+---------+---------+\n",
      "|    station|latitude|longitude|elevation|\n",
      "+-----------+--------+---------+---------+\n",
      "|USC00307405| 43.1667| -73.3167|    149.4|\n",
      "|USC00307405| 43.1667| -73.3167|    149.4|\n",
      "+-----------+--------+---------+---------+\n",
      "only showing top 2 rows\n",
      "\n",
      "None\n"
     ]
    }
   ],
   "source": [
    "llminmax = ('order by latitude', 'order by latitude desc', 'order by longitude', 'order by longitude desc')\n",
    "for ll in llminmax:\n",
    "    Query=\"SELECT station, latitude,longitude,elevation FROM weather {0}\".format(ll)\n",
    "    dfll = sqlContext.sql(Query)\n",
    "    print dfll.show(2)"
   ]
  },
  {
   "cell_type": "code",
   "execution_count": 11,
   "metadata": {
    "run_control": {
     "frozen": false,
     "read_only": false
    }
   },
   "outputs": [
    {
     "data": {
      "text/plain": [
       "u'#0014ff'"
      ]
     },
     "execution_count": 11,
     "metadata": {},
     "output_type": "execute_result"
    }
   ],
   "source": [
    "#define a mapping from the range of the value to hex colors.\n",
    "from matplotlib.colors import rgb2hex\n",
    "_avg='avg(%s)'%feature\n",
    "_min=pdf1[_avg].min()\n",
    "_max=pdf1[_avg].max()\n",
    "_min,_max\n",
    "\n",
    "import pylab as plt\n",
    "cmap=plt.get_cmap('jet')\n",
    "def get_color(val):\n",
    "    x=(val-_min)/(_max-_min)\n",
    "    return(rgb2hex(cmap(x)[:3]))\n",
    "\n",
    "get_color(1000.)"
   ]
  },
  {
   "cell_type": "markdown",
   "metadata": {
    "run_control": {
     "frozen": false,
     "read_only": false
    }
   },
   "source": [
    "## Map"
   ]
  },
  {
   "cell_type": "code",
   "execution_count": 12,
   "metadata": {
    "collapsed": true,
    "run_control": {
     "frozen": false,
     "read_only": false
    }
   },
   "outputs": [],
   "source": [
    "# get the longitude and the latitude of our area of study\n",
    "min_lat = None\n",
    "min_long = None\n",
    "max_lat = None\n",
    "max_long = None\n",
    "\n",
    "for index,row in pdf1.iterrows():\n",
    "    _lat=row['latitude']\n",
    "    _long=row['longitude']\n",
    "    \n",
    "    if _lat < min_lat or min_lat is None:\n",
    "        min_lat = _lat\n",
    "        \n",
    "    if _long < min_long or min_long is None:\n",
    "        min_long = _long\n",
    "        \n",
    "    if _lat > max_lat or max_lat is None:\n",
    "        max_lat = _lat\n",
    "\n",
    "    if _long > max_long or max_long is None:\n",
    "        max_long = _long"
   ]
  },
  {
   "cell_type": "code",
   "execution_count": 13,
   "metadata": {},
   "outputs": [
    {
     "name": "stdout",
     "output_type": "stream",
     "text": [
      "Enabling notebook extension jupyter-js-widgets/extension...\r\n",
      "      - Validating: \u001b[32mOK\u001b[0m\r\n"
     ]
    },
    {
     "data": {
      "application/vnd.jupyter.widget-view+json": {
       "model_id": "c1df7b8a694842f591e4c13ef482d523"
      }
     },
     "metadata": {},
     "output_type": "display_data"
    }
   ],
   "source": [
    "!jupyter nbextension enable --py widgetsnbextension\n",
    "\n",
    "\n",
    "center = [(min_lat+max_lat)/2, (min_long+max_long)/2]\n",
    "zoom = 8\n",
    "\n",
    "m = Map(default_tiles=TileLayer(opacity=1.0), center=center, zoom=zoom)\n",
    "\n",
    "r = Rectangle(bounds=[[min_lat,min_long],[max_lat,max_long]], weight=5, fill_opacity=0.0)\n",
    "m += r\n",
    "\n",
    "circles = []\n",
    "for index,row in pdf1.iterrows():\n",
    "    _lat=row['latitude']\n",
    "    _long=row['longitude']\n",
    "    _count=row['count(station)']\n",
    "    _coef=row[_avg]\n",
    "    # taking sqrt of count so that the  area of the circle corresponds to the count\n",
    "    c = Circle(location=(_lat,_long), radius=int(400*np.sqrt(_count+0.0)), weight=1,\n",
    "            color='#F00', opacity=0.8, fill_opacity=0.4,\n",
    "            fill_color=get_color(_coef))\n",
    "    circles.append(c)\n",
    "    m.add_layer(c)\n",
    "m"
   ]
  },
  {
   "cell_type": "markdown",
   "metadata": {
    "run_control": {
     "frozen": false,
     "read_only": false
    }
   },
   "source": [
    "### excercises:\n",
    "* Add a legend that relates the colors to values.\n",
    "* Leaflet supports a variety of maps. See if you can get a topographical map as the background."
   ]
  },
  {
   "cell_type": "code",
   "execution_count": 14,
   "metadata": {
    "run_control": {
     "frozen": false,
     "read_only": false
    },
    "scrolled": true
   },
   "outputs": [
    {
     "data": {
      "image/png": "[encoded data removed]",
      "text/plain": [
       "<matplotlib.figure.Figure at 0x1114df690>"
      ]
     },
     "metadata": {},
     "output_type": "display_data"
    }
   ],
   "source": [
    "%matplotlib inline\n",
    "\n",
    "colors = []\n",
    "\n",
    "for index,row in pdf1.iterrows():\n",
    "    _coef=row[_avg]\n",
    "    colors.append(get_color(_coef))\n",
    "\n",
    "pdf1.plot.scatter(x='elevation',y='avg(coeff_1)', c=colors, title='Elevation & Average Coefficient 1');"
   ]
  },
  {
   "cell_type": "code",
   "execution_count": 15,
   "metadata": {},
   "outputs": [
    {
     "data": {
      "image/png": "[encoded data removed]",
      "text/plain": [
       "<matplotlib.figure.Figure at 0x106784ed0>"
      ]
     },
     "metadata": {},
     "output_type": "display_data"
    }
   ],
   "source": [
    "colors = []\n",
    "\n",
    "for index,row in pdf2.iterrows():\n",
    "    _coef=row['avg(coeff_4)']\n",
    "    colors.append(get_color(_coef))\n",
    "\n",
    "pdf2.plot.scatter(x='year',y='avg(coeff_4)', c=colors, title='Year & Average Coefficient 4');"
   ]
  },
  {
   "cell_type": "code",
   "execution_count": 16,
   "metadata": {},
   "outputs": [
    {
     "data": {
      "application/vnd.jupyter.widget-view+json": {
       "model_id": "a497ec079f3a48cf9fd8fbe35be30ea4"
      }
     },
     "metadata": {},
     "output_type": "display_data"
    }
   ],
   "source": [
    "m = Map(default_tiles=TileLayer(opacity=1.0), center=center, zoom=zoom)\n",
    "\n",
    "r = Rectangle(bounds=[[min_lat,min_long],[max_lat,max_long]], weight=5, fill_opacity=0.0)\n",
    "m += r\n",
    "\n",
    "circles = []\n",
    "\n",
    "for index,row in pdf1.iterrows():\n",
    "    _lat=row['latitude']\n",
    "    _long=row['longitude']\n",
    "    _height=row['elevation']\n",
    "    _coef=row[_avg]\n",
    "    # taking sqrt of count so that the area of the circle corresponds to the count\n",
    "    c = Circle(location=(_lat,_long), radius=int(300*np.sqrt(_height)), weight=1,\n",
    "            color='#F00', opacity=0.8, fill_opacity=0.4,\n",
    "            fill_color=get_color(_coef))\n",
    "    circles.append(c)\n",
    "    m.add_layer(c)\n",
    "\n",
    "m"
   ]
  },
  {
   "cell_type": "code",
   "execution_count": 17,
   "metadata": {},
   "outputs": [
    {
     "data": {
      "text/html": [
       "<div>\n",
       "<table border=\"1\" class=\"dataframe\">\n",
       "  <thead>\n",
       "    <tr style=\"text-align: right;\">\n",
       "      <th></th>\n",
       "      <th>station</th>\n",
       "      <th>latitude</th>\n",
       "      <th>longitude</th>\n",
       "      <th>elevation</th>\n",
       "      <th>coeff_1</th>\n",
       "    </tr>\n",
       "  </thead>\n",
       "  <tbody>\n",
       "    <tr>\n",
       "      <th>1406</th>\n",
       "      <td>CA006150815</td>\n",
       "      <td>43.9800</td>\n",
       "      <td>-77.2200</td>\n",
       "      <td>91.0</td>\n",
       "      <td>-29.184093</td>\n",
       "    </tr>\n",
       "    <tr>\n",
       "      <th>470</th>\n",
       "      <td>US1NYOD0014</td>\n",
       "      <td>43.1658</td>\n",
       "      <td>-75.2451</td>\n",
       "      <td>276.1</td>\n",
       "      <td>2444.072522</td>\n",
       "    </tr>\n",
       "  </tbody>\n",
       "</table>\n",
       "</div>"
      ],
      "text/plain": [
       "          station  latitude  longitude  elevation      coeff_1\n",
       "1406  CA006150815   43.9800   -77.2200       91.0   -29.184093\n",
       "470   US1NYOD0014   43.1658   -75.2451      276.1  2444.072522"
      ]
     },
     "execution_count": 17,
     "metadata": {},
     "output_type": "execute_result"
    }
   ],
   "source": [
    "pdf3=df1.toPandas()\n",
    "pdf3.sort_values(by=['station'],inplace=True)\n",
    "pdf3.head(2)"
   ]
  },
  {
   "cell_type": "code",
   "execution_count": 18,
   "metadata": {},
   "outputs": [
    {
     "data": {
      "image/png": "[encoded data removed]",
      "text/plain": [
       "<matplotlib.figure.Figure at 0x11192f2d0>"
      ]
     },
     "metadata": {},
     "output_type": "display_data"
    }
   ],
   "source": [
    "for index,row in pdf3.iterrows():\n",
    "    _coef=row['coeff_1']\n",
    "    colors.append(get_color(_coef))\n",
    "\n",
    "pdf3.plot.scatter(x='elevation',y='coeff_1', c=colors, title='Elevation & Coefficient 1');"
   ]
  },
  {
   "cell_type": "code",
   "execution_count": null,
   "metadata": {
    "collapsed": true
   },
   "outputs": [],
   "source": []
  }
 ],
 "metadata": {
  "anaconda-cloud": {},
  "hide_input": false,
  "kernelspec": {
   "display_name": "Python [default]",
   "language": "python",
   "name": "python2"
  },
  "language_info": {
   "codemirror_mode": {
    "name": "ipython",
    "version": 2
   },
   "file_extension": ".py",
   "mimetype": "text/x-python",
   "name": "python",
   "nbconvert_exporter": "python",
   "pygments_lexer": "ipython2",
   "version": "2.7.13"
  },
  "toc": {
   "colors": {
    "hover_highlight": "#DAA520",
    "running_highlight": "#FF0000",
    "selected_highlight": "#FFD700"
   },
   "moveMenuLeft": true,
   "nav_menu": {
    "height": "174px",
    "width": "252px"
   },
   "navigate_menu": true,
   "number_sections": true,
   "sideBar": true,
   "threshold": 4,
   "toc_cell": false,
   "toc_section_display": "block",
   "toc_window_display": false
  }
 },
 "nbformat": 4,
 "nbformat_minor": 1
}
