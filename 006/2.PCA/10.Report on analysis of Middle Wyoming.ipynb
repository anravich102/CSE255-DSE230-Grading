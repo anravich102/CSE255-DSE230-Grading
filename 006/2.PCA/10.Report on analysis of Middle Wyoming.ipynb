{
 "cells": [
  {
   "cell_type": "code",
   "execution_count": 2,
   "metadata": {
    "collapsed": true,
    "run_control": {
     "frozen": false,
     "read_only": false
    },
    "scrolled": false
   },
   "outputs": [],
   "source": [
    "L=!ls f_figures/\n",
    "for l in L:\n",
    "    print \"![%s](f_figures/%s)\"%(l,l)"
   ]
  },
  {
   "cell_type": "markdown",
   "metadata": {
    "run_control": {
     "frozen": false,
     "read_only": false
    }
   },
   "source": [
    "# Middle Wyoming Weather Analysis\n",
    "\n",
    "This is a report on the historical analysis of weather patterns in an area that approximately overlaps the area of the middle part of the state of Wyoming. This Area starts at the western Idaho/Wyoming border and spans about 80% of the state. \n",
    "<p>\n",
    "    <img alt=\"Middle Wyoming\" src=\"f_figures/MiddleWyoming.png\" />\n",
    "</p>\n",
    "Looking more closley at the area, we see an over represenative of mountainous terrian within wyoming. With the most of the stations located in the Mountians to the west, and a sparce few in the more populus flatlands to the east. This dataset excludes the most populus city, Casper.\n",
    "<p>\n",
    "    <img alt=\"Middle Wyoming\" src=\"f_figures/MiddleWyomingDetail.png\" />\n",
    "</p>\n",
    "\n",
    "\n",
    "The data we will use here comes from [NOAA](https://www.ncdc.noaa.gov/). Specifically, it was downloaded from This [FTP site](ftp://ftp.ncdc.noaa.gov/pub/data/ghcn/daily/).\n",
    "\n",
    "We focused on six measurements:\n",
    "* **TMIN, TMAX:** the daily minimum and maximum temperature.\n",
    "* **TOBS:** The average temperature for each day.\n",
    "* **PRCP:** Daily Percipitation (in mm)\n",
    "* **SNOW:** Daily snowfall (in mm)\n",
    "* **SNWD:** The depth of accumulated snow.\n",
    "\n",
    "## Sanity-check: comparison with outside sources\n",
    "\n",
    "<p>We start by comparing some of the general statistics with graphs that we obtained from a site called <a href=\"http://www.usclimatedata.com/climate/jackson/wyoming/united-states/uswy0088/2017/1\" target=\"_blank\">US Climate Data</a> The graph below shows the daily minimum and maximum temperatures for each month, as well as the total precipitation for each month.</p>\n",
    "\n",
    "I then picked a city that was central to the overrepresented west side, Jackson.\n",
    "\n",
    "<p>&nbsp;</p>\n",
    "\n",
    "<p><img alt=\"Jackson, Wyoming\" src=\"f_figures/Jackson_Wyoming_weather.png\" /></p>\n",
    "\n",
    "<p>&nbsp;</p>\n",
    "\n",
    "<p>We see that the min and max daily temperature agree with the average of the set. since this is just one city, we can assume that the data accuratly represents the selected area</p>\n",
    "\n",
    "<p>&nbsp;</p>\n",
    "\n",
    "<p><img alt=\"TMIN TMAX\" src=\"f_figures/TempDataMinMax.png\" /></p>\n",
    "\n",
    "<p>To compare the precipitation we need to translate from inches to milimeters. Looking at the Graphs there is a strong correlation between the middle wyoming data and the data fro the city of jackson. However, there is clear evidence in the standard deviation that the weather for all of wyoming, is much different than Jackson\n",
    "\n",
    "<p>&nbsp;<img alt=\"rain\" src=\"f_figures/rain.png\" style=\"height:450px; width:600px\" /></p>\n"
   ]
  },
  {
   "cell_type": "markdown",
   "metadata": {
    "run_control": {
     "frozen": false,
     "read_only": false
    }
   },
   "source": [
    "## PCA analysis or How to choose a significant feature\n",
    "\n",
    "Using Principal Component Analysis, we break the data down into significant eigenvectors. The goal is that we can capture the essential elements of a dataset with a few very significant eigenvectors. This does not mean that we are selecting the best features and discard the res. PCA computes new eigenvectors for the entire set to help represent all data. A second, and equally important goal of PCA is reconstruction, making new eigenvectors of the eisting data allows us to constrct a new dataset very similar to the existing one. This is why quality for all data is important, as bad data affects constuction.\n",
    "\n",
    "### Percentage of variance per measurement.\n",
    "\n",
    "#### Minimum Temperature (TMIN)\n",
    "<p>\n",
    "    <img alt=\"TMIN\" src=\"f_figures/tmin_ev.png\" />\n",
    "</p>\n",
    "\n",
    "Looking at the TMIN we see that with 5 eigenvectors only 35% of the variance is captured\n",
    "<p>\n",
    "    <img alt=\"TMIN Expanded\" src=\"f_figures/tmin_ex_ev.png\" />\n",
    "</p>\n",
    "\n",
    "Expanding TMIN to 50 eigenvectors only 70% of the variance is captured.\n",
    "This measurement cannot be represented very well by this PCA\n",
    "\n",
    "#### Maximum Temperature (TMIN)\n",
    "<p>\n",
    "    <img alt=\"TMAX\" src=\"f_figures/tmax_ev.png\" />\n",
    "</p>\n",
    "\n",
    "Looking at the TMIN we see that with 5 eigenvectors only 40% of the variance is captured\n",
    "<p>\n",
    "    <img alt=\"TMAX Expanded\" src=\"f_figures/tmax_ex_ev.png\" />\n",
    "</p>\n",
    "\n",
    "Expanding TMIN to 50 eigenvectors only 80% of the variance is captured.\n",
    "While better than TMIN, this measurement doesn't seem to be represented very well by this PCA\n",
    "\n",
    "#### Time of observation bias adjusted Temperature (TOBS)\n",
    "<p>\n",
    "    <img alt=\"TOBS\" src=\"f_figures/tobs_ev.png\" />\n",
    "</p>\n",
    "\n",
    "Looking at the TMIN we see that with 5 eigenvectors just over 50% of the variance is captured\n",
    "<p>\n",
    "    <img alt=\"TOBS Expanded\" src=\"f_figures/tobs_ex_ev.png\" />\n",
    "</p>\n",
    "\n",
    "Expanding TMIN to 50 eigenvectors only 80% of the variance is captured.\n",
    "While better than TMIN and TMAX, the variance captured by the composition of the eigenvectors drops off quickly. This may not be a good candidate to investigate further.\n",
    "\n",
    "#### Rain (PRCP)\n",
    "<p>\n",
    "    <img alt=\"TOBS\" src=\"f_figures/prcp_ev.png\" />\n",
    "</p>\n",
    "\n",
    "Looking at the TMIN we see that with 5 eigenvectors just over 10% of the variance is captured. By far the worst vector\n",
    "<p>\n",
    "    <img alt=\"TOBS Expanded\" src=\"f_figures/prcp_ex_ev.png\" />\n",
    "</p>\n",
    "\n",
    "Expanding PRCP to 50 eigenvectors less than 50% of the variance is captured. This is still the worst measure, and should not be considered.\n",
    "\n",
    "\n",
    "#### Snowfall (SNOW)\n",
    "<p>\n",
    "    <img alt=\"TOBS\" src=\"f_figures/snow_ev.png\" />\n",
    "</p>\n",
    "\n",
    "Looking at the TMIN we see that with 5 eigenvectors just over 12% of the variance is captured. This is only slightly better than rain above.\n",
    "<p>\n",
    "    <img alt=\"TOBS Expanded\" src=\"f_figures/snow_ex_ev.png\" />\n",
    "</p>\n",
    "\n",
    "Expanding TMIN to 50 eigenvectors just iover 50% of the variance is captured.\n",
    "While better than PRCP this si still worse than any of the temperature based measures above.\n",
    "\n",
    "#### Snow Depth (SNWD)\n",
    "<p>\n",
    "    <img alt=\"TOBS\" src=\"f_figures/snwd_ev.png\" />\n",
    "</p>\n",
    "\n",
    "Looking at the TMIN we see that with 5 eigenvectors just under 100% of the variance is captured. This is by far the best measure, and should give the best results.\n",
    "\n",
    "<p>\n",
    "    <img alt=\"TOBS Expanded\" src=\"f_figures/snwd_ex_ev.png\" />\n",
    "</p>\n",
    "\n",
    "Expanding TMIN to 50 eigenvectors just about 100% of the variance is captured.\n",
    "This is by far the best measure, and exemplifies how PCA can build a representation from a few eigenvectors.\n",
    "I will continue measure using the top 4 eigenvectors\n",
    "\n",
    "It makes sense that SNWD would be less noisy than SNOW. That is because SNWD is a decaying integral of SNOW and, as such, varies less between days and between the same date on diffferent years."
   ]
  },
  {
   "cell_type": "markdown",
   "metadata": {
    "run_control": {
     "frozen": false,
     "read_only": false
    }
   },
   "source": [
    "## Analysis of snow depth\n",
    "\n",
    "We choose to analyze the eigen-decomposition for snow-depth because the first 4 eigen-vectors explain about 95% of the variance.\n",
    "\n",
    "First, we graph the mean and the top 4 eigen-vectors.\n",
    "\n",
    "We observe that the snow season is from November to the end of April, where the middle of March marks the peak of the snow-depth.\n",
    "<img alt=\"snow depth mean and ein\" src=\"f_figures/snwd_mean_eig.png\" />"
   ]
  },
  {
   "cell_type": "markdown",
   "metadata": {
    "run_control": {
     "frozen": false,
     "read_only": false
    }
   },
   "source": [
    "Next we interpret the eigen-functions. The first eigen-function (eig1) has a shape very similar to the mean function. The main difference is that the aplitude is not as great as the mean. The interpretation of this shape is that eig1 represents the overall amount of snow above/below the mean, but without changing the distribution over time.\n",
    "\n",
    "**eig2,eig3 and eig4** are similar in the following way. They all oscilate between positive and negative values. In other words, they correspond to changing the distribution of the snow depth over the winter months, but they don't change the total (much).\n",
    "\n",
    "They can be interpreted as follows:\n",
    "* **eig2:** less snow in jan - mid apr, less snow in the fall.\n",
    "* **eig3:** more snow in jan - mar, less snow in apr, less snow in the fall.\n",
    "* **eig4:** less snow in jan, but increasing until its peach mid march, then a severe drop in april, more snow in the fall.\n"
   ]
  },
  {
   "cell_type": "markdown",
   "metadata": {
    "run_control": {
     "frozen": false,
     "read_only": false
    }
   },
   "source": [
    "### Examples of reconstructions\n",
    "\n",
    "#### Coeff1\n",
    "Coeff1: most positive\n",
    "<img alt=\"Most Positive C1\" src=\"f_figures/C1_pos.png\" />\n",
    "Coeff1: most negative\n",
    "<img alt=\"Most Negative C1\" src=\"f_figures/C1_neg.png\" />\n",
    "Large positive values of coeff1 correspond to more than average snow. Low values correspond to less than average snow.\n",
    "\n",
    "#### Coeff2\n",
    "Coeff2: most positive\n",
    "<img alt=\"Most Positive C2\" src=\"f_figures/C2_pos.png\" />\n",
    "Coeff2: most negative\n",
    "<img alt=\"Most Negative C2\" src=\"f_figures/C2_neg.png\" />\n",
    "\n",
    "Large positive values of coeff2 correspond to a late snow season, almost all of the snowfall is in the spring.\n",
    "\n",
    "#### Coeff3\n",
    "Coeff3: most positive\n",
    "<img alt=\"Most Positive C3\" src=\"f_figures/C3_pos.png\" />\n",
    "Coeff3: most negative\n",
    "<img alt=\"Most Negative C3\" src=\"f_figures/C3_neg.png\" />\n",
    "\n",
    "Large positive values of coeff3 correspond to a snow season spread between late winter and early spring\n",
    "\n",
    "#### Coeff4\n",
    "Coeff4: most positive\n",
    "<img alt=\"Most Positive C4\" src=\"f_figures/C4_pos.png\" />\n",
    "Coeff4: most negative\n",
    "<img alt=\"Most Negative C4\" src=\"f_figures/C4_neg.png\" />\n",
    "\n",
    "Large positive values of coeff4 correspond to a snow season Spiking in Fall, taking a break in winter nd starting back up in early spring\n"
   ]
  },
  {
   "cell_type": "markdown",
   "metadata": {
    "run_control": {
     "frozen": false,
     "read_only": false
    }
   },
   "source": [
    "## Geographical distribution of first 4 coefficients. \n",
    "\n",
    "### Inline Legend, to save graph Space\n",
    "* Coeff 1 -- Blue\n",
    "* Coeff 2 -- Green\n",
    "* Coeff 3 -- Red\n",
    "* Coeff 4 -- Cyan\n",
    "\n",
    "<p>\n",
    "    <img alt=\"weather stations\" src=\"f_figures/middle_wyoming_stations.png\" />\n",
    "</p>\n",
    "\n",
    "\n",
    "### Coeff 1, Above average\n",
    "The blue trianges show that the above average snowfall is liberally distributed across the state. This probably shows that the increases are due to overall storm activity passing through the state, rather than a localized phenomena\n",
    "\n",
    "### Coeff 2, April showers\n",
    "The Green triangles show the spring storm season is local to the rocky mountians on the west side of the state. However there are still reports of these storms coming on the east side. Since this is a large state, further investigation should be done in other location to track the storm systems and see if they move in a west east pattern, or the the ease is dusted by other states.\n",
    "\n",
    "### Coeff 3, Winters end\n",
    "The red tiranges are spread pretty much across the state. I would assume that this time consistues the \"snow season\" of the state as everyone is getting hit with similar storms. This can be expanded, like above, with data from other sections to see how widespread this winter system may be.\n",
    "\n",
    "### Coeff 4, Winter's inverse\n",
    "Looking at the map, the Cyan triangles seem to cover the entire state as well. However each station seems to have a magority red or majority cyan at it location. Since the timing seems not to overlap it might be the case that Wyoming is a convluence of many storm systems, each fighting for suprememcy during the winter. It also migth be the case that the PCA created a division where the ought not to be one. Each theory can be tested, and expanded with more data. "
   ]
  },
  {
   "cell_type": "markdown",
   "metadata": {},
   "source": [
    "## Next steps\n",
    "\n",
    "In this research I found that there exists a very strong relationship in the SNWD measure. Looking at the eigenvectors further I have made some interesting observations. \n",
    "* First, Coeff 3 and Coeff 4 may be related somehow\n",
    "It is my guess that there is a competing storm system, or other phenomena like \"El Nino\" that changes the normal weather patterns frequently. To test this we can break down the years to see if there is a bias toward one coeff during the year, and if there is a rough cycle. We should also view data of neighboring states to see if there are similar patterns.\n",
    "* Overrepresentation of the mountian regions. \n",
    "If I am able to take a mountian city Like jackson and have it fit closely to the averages, I would suspect that the mountian data is overpowering the flatland data. To test this I would find the SNWD for the cities and see if there is a correlation tour our summation of the data. I could also break the state into pieces and compare averages, variences, and eigenvectors.\n",
    "* More measures\n",
    "While the percentage of variance SNWD is great, TOBS is hovering around 50%. this should be another line of investigation. I would like to see if there is any correlation between these two measures, and how the temperature changes across the state."
   ]
  }
 ],
 "metadata": {
  "anaconda-cloud": {},
  "kernelspec": {
   "display_name": "Python [conda root]",
   "language": "python",
   "name": "conda-root-py"
  },
  "language_info": {
   "codemirror_mode": {
    "name": "ipython",
    "version": 2
   },
   "file_extension": ".py",
   "mimetype": "text/x-python",
   "name": "python",
   "nbconvert_exporter": "python",
   "pygments_lexer": "ipython2",
   "version": "2.7.13"
  },
  "toc": {
   "colors": {
    "hover_highlight": "#DAA520",
    "running_highlight": "#FF0000",
    "selected_highlight": "#FFD700"
   },
   "moveMenuLeft": true,
   "nav_menu": {
    "height": "12px",
    "width": "252px"
   },
   "navigate_menu": true,
   "number_sections": true,
   "sideBar": true,
   "threshold": 4,
   "toc_cell": false,
   "toc_section_display": "block",
   "toc_window_display": false
  }
 },
 "nbformat": 4,
 "nbformat_minor": 2
}
