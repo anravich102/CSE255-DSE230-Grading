{
 "cells": [
  {
   "cell_type": "markdown",
   "metadata": {
    "run_control": {
     "frozen": false,
     "read_only": false
    }
   },
   "source": [
    "## iPyLeaflet\n",
    "[ipyleaflet](https://github.com/ellisonbg/ipyleaflet) is a bridge between jupyter notebooks and the [leaflet](http://leafletjs.com/)  javascript library for drawing maps.\n",
    "\n",
    "ipyleaflet comes with a few examples notebooks (this notebook was derived from one) but very little documentation,\n",
    "for more documentation read the [Leaflet IPA](http://leafletjs.com/reference.html)\n",
    "\n",
    "For installation directions, see the README on [ipyleaflet](https://github.com/ellisonbg/ipyleaflet)\n",
    "\n",
    "[GeoJson](https://tools.ietf.org/html/rfc7946#section-3.1.7) is a good way to add data on top of an ipyleaflet map.\n",
    "\n",
    "For other backgrounds than open streets, you can alter the ipyleaflet.py file to point to one of [these map providers](https://leaflet-extras.github.io/leaflet-providers/preview/)"
   ]
  },
  {
   "cell_type": "code",
   "execution_count": 79,
   "metadata": {
    "ExecuteTime": {
     "end_time": "2017-05-15T13:24:13.173384",
     "start_time": "2017-05-15T13:24:13.157306"
    },
    "collapsed": true,
    "run_control": {
     "frozen": false,
     "read_only": false
    }
   },
   "outputs": [],
   "source": [
    "from ipyleaflet import (\n",
    "    Map,\n",
    "    Marker,\n",
    "    TileLayer, ImageOverlay,\n",
    "    Polyline, Polygon, Rectangle, Circle, CircleMarker,\n",
    "    GeoJSON,\n",
    "    DrawControl\n",
    ")"
   ]
  },
  {
   "cell_type": "markdown",
   "metadata": {
    "run_control": {
     "frozen": false,
     "read_only": false
    }
   },
   "source": [
    "## Visualizing the distribution of the observations\n",
    "\n",
    "## Load the required libraries"
   ]
  },
  {
   "cell_type": "code",
   "execution_count": 80,
   "metadata": {
    "ExecuteTime": {
     "end_time": "2017-05-15T13:24:14.912274",
     "start_time": "2017-05-15T13:24:14.903837"
    },
    "collapsed": true,
    "run_control": {
     "frozen": false,
     "read_only": false
    }
   },
   "outputs": [],
   "source": [
    "import pandas as pd\n",
    "import numpy as np\n",
    "import sklearn as sk\n",
    "import urllib\n",
    "import math\n",
    "import pylab as plt\n",
    "\n",
    "import sys\n",
    "sys.path.append('./lib')\n",
    "\n",
    "from leaflet import *"
   ]
  },
  {
   "cell_type": "code",
   "execution_count": 95,
   "metadata": {
    "ExecuteTime": {
     "end_time": "2017-05-15T13:43:01.032606",
     "start_time": "2017-05-15T13:42:59.373064"
    },
    "run_control": {
     "frozen": false,
     "read_only": false
    }
   },
   "outputs": [
    {
     "name": "stdout",
     "output_type": "stream",
     "text": [
      "['std', 'stations', 'mean']\n"
     ]
    },
    {
     "data": {
      "text/html": [
       "<div>\n",
       "<table border=\"1\" class=\"dataframe\">\n",
       "  <thead>\n",
       "    <tr style=\"text-align: right;\">\n",
       "      <th></th>\n",
       "      <th>latitude</th>\n",
       "      <th>longitude</th>\n",
       "      <th>elevation</th>\n",
       "      <th>state</th>\n",
       "      <th>name</th>\n",
       "      <th>GSNFLAG</th>\n",
       "      <th>HCNFLAG</th>\n",
       "      <th>WMOID</th>\n",
       "    </tr>\n",
       "  </thead>\n",
       "  <tbody>\n",
       "    <tr>\n",
       "      <th>ACW00011604</th>\n",
       "      <td>17.1167</td>\n",
       "      <td>-61.7833</td>\n",
       "      <td>10.1</td>\n",
       "      <td>NaN</td>\n",
       "      <td>ST JOHNS COOLIDGE FLD</td>\n",
       "      <td>NaN</td>\n",
       "      <td>NaN</td>\n",
       "      <td>NaN</td>\n",
       "    </tr>\n",
       "    <tr>\n",
       "      <th>ACW00011647</th>\n",
       "      <td>17.1333</td>\n",
       "      <td>-61.7833</td>\n",
       "      <td>19.2</td>\n",
       "      <td>NaN</td>\n",
       "      <td>ST JOHNS</td>\n",
       "      <td>NaN</td>\n",
       "      <td>NaN</td>\n",
       "      <td>NaN</td>\n",
       "    </tr>\n",
       "    <tr>\n",
       "      <th>AE000041196</th>\n",
       "      <td>25.3330</td>\n",
       "      <td>55.5170</td>\n",
       "      <td>34.0</td>\n",
       "      <td>NaN</td>\n",
       "      <td>SHARJAH INTER. AIRP</td>\n",
       "      <td>GSN</td>\n",
       "      <td>NaN</td>\n",
       "      <td>41196.0</td>\n",
       "    </tr>\n",
       "    <tr>\n",
       "      <th>AF000040930</th>\n",
       "      <td>35.3170</td>\n",
       "      <td>69.0170</td>\n",
       "      <td>3366.0</td>\n",
       "      <td>NaN</td>\n",
       "      <td>NORTH-SALANG</td>\n",
       "      <td>GSN</td>\n",
       "      <td>NaN</td>\n",
       "      <td>40930.0</td>\n",
       "    </tr>\n",
       "    <tr>\n",
       "      <th>AG000060390</th>\n",
       "      <td>36.7167</td>\n",
       "      <td>3.2500</td>\n",
       "      <td>24.0</td>\n",
       "      <td>NaN</td>\n",
       "      <td>ALGER-DAR EL BEIDA</td>\n",
       "      <td>GSN</td>\n",
       "      <td>NaN</td>\n",
       "      <td>60390.0</td>\n",
       "    </tr>\n",
       "  </tbody>\n",
       "</table>\n",
       "</div>"
      ],
      "text/plain": [
       "             latitude  longitude  elevation state                   name  \\\n",
       "ACW00011604   17.1167   -61.7833       10.1   NaN  ST JOHNS COOLIDGE FLD   \n",
       "ACW00011647   17.1333   -61.7833       19.2   NaN               ST JOHNS   \n",
       "AE000041196   25.3330    55.5170       34.0   NaN    SHARJAH INTER. AIRP   \n",
       "AF000040930   35.3170    69.0170     3366.0   NaN           NORTH-SALANG   \n",
       "AG000060390   36.7167     3.2500       24.0   NaN     ALGER-DAR EL BEIDA   \n",
       "\n",
       "            GSNFLAG HCNFLAG    WMOID  \n",
       "ACW00011604     NaN     NaN      NaN  \n",
       "ACW00011647     NaN     NaN      NaN  \n",
       "AE000041196     GSN     NaN  41196.0  \n",
       "AF000040930     GSN     NaN  40930.0  \n",
       "AG000060390     GSN     NaN  60390.0  "
      ]
     },
     "execution_count": 95,
     "metadata": {},
     "output_type": "execute_result"
    }
   ],
   "source": [
    "data_dir = \"../../Data/Weather/\"\n",
    "from pickle import load\n",
    "# with open(data_dir+'/PRCP_residuals_PCA.pickle','rb') as file:\n",
    "#     Res_eig=load(file)\n",
    "# print Res_eig.keys()\n",
    "\n",
    "with open(data_dir+'/SNWD_mean.pickle','rb') as file:\n",
    "    SNWD_mean=load(file)\n",
    "print SNWD_mean.keys()\n",
    "\n",
    "#stations.pkl\n",
    "with open(data_dir+'/stations.pkl','rb') as file:\n",
    "    Stations=load(file)\n",
    "Stations.head()\n"
   ]
  },
  {
   "cell_type": "code",
   "execution_count": 102,
   "metadata": {
    "ExecuteTime": {
     "end_time": "2017-05-15T13:55:02.305968",
     "start_time": "2017-05-15T13:55:02.289076"
    },
    "run_control": {
     "frozen": false,
     "read_only": false
    }
   },
   "outputs": [
    {
     "data": {
      "text/html": [
       "<div>\n",
       "<table border=\"1\" class=\"dataframe\">\n",
       "  <thead>\n",
       "    <tr style=\"text-align: right;\">\n",
       "      <th></th>\n",
       "      <th>0</th>\n",
       "      <th>1</th>\n",
       "    </tr>\n",
       "  </thead>\n",
       "  <tbody>\n",
       "    <tr>\n",
       "      <th>0</th>\n",
       "      <td>5.472892</td>\n",
       "      <td>19.897081</td>\n",
       "    </tr>\n",
       "    <tr>\n",
       "      <th>1</th>\n",
       "      <td>13.908012</td>\n",
       "      <td>35.441143</td>\n",
       "    </tr>\n",
       "    <tr>\n",
       "      <th>2</th>\n",
       "      <td>122.586533</td>\n",
       "      <td>218.570819</td>\n",
       "    </tr>\n",
       "    <tr>\n",
       "      <th>3</th>\n",
       "      <td>45.748647</td>\n",
       "      <td>127.608368</td>\n",
       "    </tr>\n",
       "    <tr>\n",
       "      <th>4</th>\n",
       "      <td>41.955966</td>\n",
       "      <td>94.164433</td>\n",
       "    </tr>\n",
       "  </tbody>\n",
       "</table>\n",
       "</div>"
      ],
      "text/plain": [
       "            0           1\n",
       "0    5.472892   19.897081\n",
       "1   13.908012   35.441143\n",
       "2  122.586533  218.570819\n",
       "3   45.748647  127.608368\n",
       "4   41.955966   94.164433"
      ]
     },
     "execution_count": 102,
     "metadata": {},
     "output_type": "execute_result"
    }
   ],
   "source": [
    "import pandas as pd\n",
    "# Eig=pd.DataFrame(Res_eig['eigen-vecs'].transpose())\n",
    "# Eig.head()\n",
    "Mean=pd.DataFrame(np.array([SNWD_mean['mean'],SNWD_mean['std']]).transpose())\n",
    "Mean.head()"
   ]
  },
  {
   "cell_type": "code",
   "execution_count": 103,
   "metadata": {
    "ExecuteTime": {
     "end_time": "2017-05-15T13:55:09.217033",
     "start_time": "2017-05-15T13:55:09.195577"
    },
    "run_control": {
     "frozen": false,
     "read_only": false
    }
   },
   "outputs": [
    {
     "name": "stdout",
     "output_type": "stream",
     "text": [
      "[u'US1UTCH0002', u'US1UTDV0020', u'USC00100803', u'USC00103732', u'USC00105275']\n"
     ]
    },
    {
     "data": {
      "text/html": [
       "<div>\n",
       "<table border=\"1\" class=\"dataframe\">\n",
       "  <thead>\n",
       "    <tr style=\"text-align: right;\">\n",
       "      <th></th>\n",
       "      <th>0</th>\n",
       "      <th>1</th>\n",
       "    </tr>\n",
       "    <tr>\n",
       "      <th>station</th>\n",
       "      <th></th>\n",
       "      <th></th>\n",
       "    </tr>\n",
       "  </thead>\n",
       "  <tbody>\n",
       "    <tr>\n",
       "      <th>US1UTCH0002</th>\n",
       "      <td>5.472892</td>\n",
       "      <td>19.897081</td>\n",
       "    </tr>\n",
       "    <tr>\n",
       "      <th>US1UTDV0020</th>\n",
       "      <td>13.908012</td>\n",
       "      <td>35.441143</td>\n",
       "    </tr>\n",
       "    <tr>\n",
       "      <th>USC00100803</th>\n",
       "      <td>122.586533</td>\n",
       "      <td>218.570819</td>\n",
       "    </tr>\n",
       "    <tr>\n",
       "      <th>USC00103732</th>\n",
       "      <td>45.748647</td>\n",
       "      <td>127.608368</td>\n",
       "    </tr>\n",
       "    <tr>\n",
       "      <th>USC00105275</th>\n",
       "      <td>41.955966</td>\n",
       "      <td>94.164433</td>\n",
       "    </tr>\n",
       "  </tbody>\n",
       "</table>\n",
       "</div>"
      ],
      "text/plain": [
       "                      0           1\n",
       "station                            \n",
       "US1UTCH0002    5.472892   19.897081\n",
       "US1UTDV0020   13.908012   35.441143\n",
       "USC00100803  122.586533  218.570819\n",
       "USC00103732   45.748647  127.608368\n",
       "USC00105275   41.955966   94.164433"
      ]
     },
     "execution_count": 103,
     "metadata": {},
     "output_type": "execute_result"
    }
   ],
   "source": [
    "# Eig['station']=Res_eig['stations']\n",
    "# Eig=Eig.set_index('station')\n",
    "# print Res_eig['stations'][:5]\n",
    "# Eig.head()\n",
    "\n",
    "Mean['station']=SNWD_mean['stations']\n",
    "Mean=Mean.set_index('station')\n",
    "print SNWD_mean['stations'][:5]\n",
    "Mean.head()"
   ]
  },
  {
   "cell_type": "code",
   "execution_count": 104,
   "metadata": {
    "ExecuteTime": {
     "end_time": "2017-05-15T13:55:19.519378",
     "start_time": "2017-05-15T13:55:19.510878"
    },
    "collapsed": true,
    "run_control": {
     "frozen": false,
     "read_only": false
    }
   },
   "outputs": [],
   "source": [
    "# table=Eig.join(Stations,how='left')\n",
    "table = Mean.join(Stations,how='left')"
   ]
  },
  {
   "cell_type": "code",
   "execution_count": 105,
   "metadata": {
    "ExecuteTime": {
     "end_time": "2017-05-15T13:55:23.095916",
     "start_time": "2017-05-15T13:55:23.073676"
    },
    "run_control": {
     "frozen": false,
     "read_only": false
    }
   },
   "outputs": [
    {
     "data": {
      "text/html": [
       "<div>\n",
       "<table border=\"1\" class=\"dataframe\">\n",
       "  <thead>\n",
       "    <tr style=\"text-align: right;\">\n",
       "      <th></th>\n",
       "      <th>name</th>\n",
       "      <th>latitude</th>\n",
       "      <th>longitude</th>\n",
       "      <th>elevation</th>\n",
       "      <th>0</th>\n",
       "      <th>1</th>\n",
       "    </tr>\n",
       "    <tr>\n",
       "      <th>station</th>\n",
       "      <th></th>\n",
       "      <th></th>\n",
       "      <th></th>\n",
       "      <th></th>\n",
       "      <th></th>\n",
       "      <th></th>\n",
       "    </tr>\n",
       "  </thead>\n",
       "  <tbody>\n",
       "    <tr>\n",
       "      <th>US1UTCH0002</th>\n",
       "      <td>HILLS 0.9 SW</td>\n",
       "      <td>41.6600</td>\n",
       "      <td>-111.8900</td>\n",
       "      <td>1371.6</td>\n",
       "      <td>5.472892</td>\n",
       "      <td>19.897081</td>\n",
       "    </tr>\n",
       "    <tr>\n",
       "      <th>US1UTDV0020</th>\n",
       "      <td>FARMINGTON 1.5 NNW</td>\n",
       "      <td>41.0078</td>\n",
       "      <td>-111.9067</td>\n",
       "      <td>1352.1</td>\n",
       "      <td>13.908012</td>\n",
       "      <td>35.441143</td>\n",
       "    </tr>\n",
       "    <tr>\n",
       "      <th>USC00100803</th>\n",
       "      <td>BERN</td>\n",
       "      <td>42.3353</td>\n",
       "      <td>-111.3850</td>\n",
       "      <td>1817.8</td>\n",
       "      <td>122.586533</td>\n",
       "      <td>218.570819</td>\n",
       "    </tr>\n",
       "    <tr>\n",
       "      <th>USC00103732</th>\n",
       "      <td>GRACE</td>\n",
       "      <td>42.5872</td>\n",
       "      <td>-111.7275</td>\n",
       "      <td>1691.6</td>\n",
       "      <td>45.748647</td>\n",
       "      <td>127.608368</td>\n",
       "    </tr>\n",
       "  </tbody>\n",
       "</table>\n",
       "</div>"
      ],
      "text/plain": [
       "                           name  latitude  longitude  elevation           0  \\\n",
       "station                                                                       \n",
       "US1UTCH0002        HILLS 0.9 SW   41.6600  -111.8900     1371.6    5.472892   \n",
       "US1UTDV0020  FARMINGTON 1.5 NNW   41.0078  -111.9067     1352.1   13.908012   \n",
       "USC00100803                BERN   42.3353  -111.3850     1817.8  122.586533   \n",
       "USC00103732               GRACE   42.5872  -111.7275     1691.6   45.748647   \n",
       "\n",
       "                      1  \n",
       "station                  \n",
       "US1UTCH0002   19.897081  \n",
       "US1UTDV0020   35.441143  \n",
       "USC00100803  218.570819  \n",
       "USC00103732  127.608368  "
      ]
     },
     "execution_count": 105,
     "metadata": {},
     "output_type": "execute_result"
    }
   ],
   "source": [
    "table=table[['name','latitude','longitude','elevation',0,1]]\n",
    "table.head(4)"
   ]
  },
  {
   "cell_type": "code",
   "execution_count": 88,
   "metadata": {
    "ExecuteTime": {
     "end_time": "2017-05-15T13:27:22.631641",
     "start_time": "2017-05-15T13:27:22.624674"
    },
    "run_control": {
     "frozen": false,
     "read_only": false
    },
    "scrolled": true
   },
   "outputs": [
    {
     "name": "stdout",
     "output_type": "stream",
     "text": [
      "[u'#1f77b4', u'#ff7f0e', u'#2ca02c', u'#d62728', u'#9467bd', u'#8c564b', u'#e377c2', u'#7f7f7f', u'#bcbd22', u'#17becf']\n"
     ]
    }
   ],
   "source": [
    "import pylab as plt\n",
    "prop_cycle = plt.rcParams['axes.prop_cycle']\n",
    "colors = prop_cycle.by_key()['color']\n",
    "print colors"
   ]
  },
  {
   "cell_type": "markdown",
   "metadata": {
    "run_control": {
     "frozen": false,
     "read_only": false
    }
   },
   "source": [
    "## Map"
   ]
  },
  {
   "cell_type": "code",
   "execution_count": 110,
   "metadata": {
    "ExecuteTime": {
     "end_time": "2017-05-15T14:46:09.226677",
     "start_time": "2017-05-15T14:46:08.770076"
    },
    "code_folding": [],
    "run_control": {
     "frozen": false,
     "read_only": false
    }
   },
   "outputs": [
    {
     "data": {
      "application/vnd.jupyter.widget-view+json": {
       "model_id": "25f84fb553c8472599e1db1d618d3bcb"
      }
     },
     "metadata": {},
     "output_type": "display_data"
    }
   ],
   "source": [
    "min_lat,max_lat,min_long,max_long = box = (40.88, 42.2458, -111.2417, -112.1817)\n",
    "center = [(min_lat+max_lat)/2, (min_long+max_long)/2]\n",
    "zoom = 9\n",
    "m = Map(default_tiles=TileLayer(opacity=0.6), center=center, zoom=zoom)\n",
    "r = Rectangle(bounds=[[min_lat,min_long],[max_lat,max_long]], weight=5, fill_opacity=0.0)\n",
    "# m += r\n",
    "\n",
    "# stations = [u'USC00420487', u'USS0011H25S', u'USC00428885', u'USC00428828', u'USS0011H55S', u'USC00424135', u'USS0011H57S', u'USW00024101', u'USC00427271', u'USW00094128', u'USC00422389', u'US1UTDV0020', u'USS0011H30S', u'USC00109698', u'USC00425082', u'USC00421601']\n",
    "stations = [u'USC00105275', u'USS0011H25S', u'USC00428828', u'USC00425082', u'USS0011H55S', u'USC00424135', u'USC00109698', u'USC00421601', u'USS0011H30S', u'USW00024101', u'US1UTDV0020', u'USS0011H57S', u'USC00428885', u'USC00427271', u'USC00422389']\n",
    "\n",
    "stations1 = [u'USC00420487', u'USS0011H25S', u'USC00428885', u'USC00428828', u'USS0011H55S', u'USC00424135', u'USS0011H57S'] \n",
    "stations2 = [u'USW00024101', u'USC00427271', u'USW00094128', u'USC00422389', u'US1UTDV0020', u'USS0011H30S'] \n",
    "stations3 = [u'USC00109698', u'USC00425082', u'USC00421601']\n",
    "# stations4 = [u'US1UTDV0009', u'USC00424123', u'USC00423671', u'USC00422726']\n",
    "lat_margin=(max_lat-min_lat)/4\n",
    "long_margin=(max_long-min_long)/4\n",
    "for index,row in table.iterrows():\n",
    "        _lat=row['latitude']\n",
    "        _long=row['longitude']\n",
    "#     for col in range(4):\n",
    "#         _coef=row[col]\n",
    "#         if np.isnan(_coef):\n",
    "#             continue\n",
    "#         r=abs(_coef)/5\n",
    "        mean = row[0]\n",
    "        std = row[1]\n",
    "        r = int(abs(std)*30)\n",
    "#         color = colors[0]\n",
    "        if(mean < 30):\n",
    "            color = colors[0]\n",
    "        elif(mean < 60):\n",
    "            color = colors[1]\n",
    "        else:\n",
    "            color = colors[3]\n",
    "#         color = colors[col]\n",
    "        #print r\n",
    "    #     r = 0.01\n",
    "    #     if(index in stations):\n",
    "    #         color = colors[1]\n",
    "    #     if(index in stations1):\n",
    "    #         color=colors[1]\n",
    "    #     elif (index in stations2):\n",
    "    #         color = colors[3]\n",
    "    #     elif (index in stations3):\n",
    "    #         color = colors[2]\n",
    "    #     else:\n",
    "    #     color=colors[0]\n",
    "    #         color=colors[col]\n",
    "#         signs=[[+1,+1],[+1,-1],[-1,-1],[-1,+1]]\n",
    "#         lat_sign,long_sign=signs[col]\n",
    "#         triangle=[(_lat,_long),(_lat+lat_sign*r,_long),(_lat,_long+long_sign*r),(_lat,_long)]\n",
    "#         if _coef<0:\n",
    "#             poly= Polygon(locations=triangle, weight=0,\n",
    "#                     color=color, opacity=0, fill_opacity=0.7,\n",
    "#                     fill_color=color)\n",
    "#         else:\n",
    "#             poly= Polygon(locations=triangle, weight=2,\n",
    "#                     color=color, opacity=0.8, fill_opacity=0,\n",
    "#                     fill_color=color)\n",
    "        c = Circle(location=(_lat,_long),weight=3, fill_opacity=0.8, fill_color = color, color = color,radius=r)\n",
    "        m += c\n",
    "#         m +=poly   \n",
    "m    "
   ]
  },
  {
   "cell_type": "markdown",
   "metadata": {
    "run_control": {
     "frozen": false,
     "read_only": false
    }
   },
   "source": [
    "### excercises:\n",
    "* Add a legend that relates the colors to values.\n",
    "* Leaflet supports a variety of maps. See if you can get a topographical map as the background."
   ]
  },
  {
   "cell_type": "code",
   "execution_count": 10,
   "metadata": {
    "ExecuteTime": {
     "end_time": "2017-05-11T14:23:10.949260",
     "start_time": "2017-05-11T14:23:10.722198"
    },
    "run_control": {
     "frozen": false,
     "read_only": false
    }
   },
   "outputs": [
    {
     "ename": "NameError",
     "evalue": "name 'pdf' is not defined",
     "output_type": "error",
     "traceback": [
      "\u001b[0;31m---------------------------------------------------------------------------\u001b[0m",
      "\u001b[0;31mNameError\u001b[0m                                 Traceback (most recent call last)",
      "\u001b[0;32m<ipython-input-10-2d62ecdfe356>\u001b[0m in \u001b[0;36m<module>\u001b[0;34m()\u001b[0m\n\u001b[1;32m      1\u001b[0m \u001b[0mget_ipython\u001b[0m\u001b[0;34m(\u001b[0m\u001b[0;34m)\u001b[0m\u001b[0;34m.\u001b[0m\u001b[0mmagic\u001b[0m\u001b[0;34m(\u001b[0m\u001b[0;34mu'matplotlib inline'\u001b[0m\u001b[0;34m)\u001b[0m\u001b[0;34m\u001b[0m\u001b[0m\n\u001b[0;32m----> 2\u001b[0;31m \u001b[0mpdf\u001b[0m\u001b[0;34m.\u001b[0m\u001b[0mplot\u001b[0m\u001b[0;34m.\u001b[0m\u001b[0mscatter\u001b[0m\u001b[0;34m(\u001b[0m\u001b[0mx\u001b[0m\u001b[0;34m=\u001b[0m\u001b[0;34m'elevation'\u001b[0m\u001b[0;34m,\u001b[0m\u001b[0my\u001b[0m\u001b[0;34m=\u001b[0m\u001b[0;34m'avg(coeff_1)'\u001b[0m\u001b[0;34m)\u001b[0m\u001b[0;34m;\u001b[0m\u001b[0;34m\u001b[0m\u001b[0m\n\u001b[0m",
      "\u001b[0;31mNameError\u001b[0m: name 'pdf' is not defined"
     ]
    }
   ],
   "source": [
    "%matplotlib inline\n",
    "pdf.plot.scatter(x='elevation',y='avg(coeff_1)');"
   ]
  },
  {
   "cell_type": "code",
   "execution_count": null,
   "metadata": {
    "collapsed": true,
    "run_control": {
     "frozen": false,
     "read_only": false
    }
   },
   "outputs": [],
   "source": []
  },
  {
   "cell_type": "code",
   "execution_count": null,
   "metadata": {
    "collapsed": true,
    "run_control": {
     "frozen": false,
     "read_only": false
    }
   },
   "outputs": [],
   "source": []
  },
  {
   "cell_type": "code",
   "execution_count": null,
   "metadata": {
    "collapsed": true,
    "run_control": {
     "frozen": false,
     "read_only": false
    }
   },
   "outputs": [],
   "source": []
  }
 ],
 "metadata": {
  "anaconda-cloud": {},
  "hide_input": false,
  "kernelspec": {
   "display_name": "Python 2",
   "language": "python",
   "name": "python2"
  },
  "language_info": {
   "codemirror_mode": {
    "name": "ipython",
    "version": 2
   },
   "file_extension": ".py",
   "mimetype": "text/x-python",
   "name": "python",
   "nbconvert_exporter": "python",
   "pygments_lexer": "ipython2",
   "version": "2.7.13"
  },
  "latex_envs": {
   "LaTeX_envs_menu_present": true,
   "autocomplete": true,
   "bibliofile": "biblio.bib",
   "cite_by": "apalike",
   "current_citInitial": 1,
   "eqLabelWithNumbers": true,
   "eqNumInitial": 1,
   "hotkeys": {
    "equation": "Ctrl-E",
    "itemize": "Ctrl-I"
   },
   "labels_anchors": false,
   "latex_user_defs": false,
   "report_style_numbering": false,
   "user_envs_cfg": false
  },
  "toc": {
   "colors": {
    "hover_highlight": "#DAA520",
    "running_highlight": "#FF0000",
    "selected_highlight": "#FFD700"
   },
   "moveMenuLeft": true,
   "nav_menu": {
    "height": "174px",
    "width": "252px"
   },
   "navigate_menu": true,
   "number_sections": true,
   "sideBar": true,
   "threshold": 4,
   "toc_cell": false,
   "toc_section_display": "block",
   "toc_window_display": false
  },
  "widgets": {
   "state": {},
   "version": "1.0.0"
  }
 },
 "nbformat": 4,
 "nbformat_minor": 1
}
