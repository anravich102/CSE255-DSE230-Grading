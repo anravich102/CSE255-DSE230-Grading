{
 "cells": [
  {
   "cell_type": "markdown",
   "metadata": {
    "run_control": {
     "frozen": false,
     "read_only": false
    }
   },
   "source": [
    "# Miami Coastline and Neighboring islands Weather Analysis\n",
    "\n",
    "This is a report on the historical analysis of weather patterns in an speicific area. The dataset_id assigned to me is BSBSBSBS, and my dataset includes the samples in an area covers the coastline of Miami and the neighboring islands. You can visualize the covering in the following map:\n",
    "\n",
    "<p>&nbsp;</p>\n",
    "\n",
    "<p><img alt=\"my_map.png\" src=\"r_figures/my_map.png\" /></p>\n",
    "\n",
    "The data we will use here comes from [NOAA](https://www.ncdc.noaa.gov/). Specifically, it was downloaded from This [FTP site](ftp://ftp.ncdc.noaa.gov/pub/data/ghcn/daily/).\n",
    "\n",
    "There are 12583 examples in my dataset. We will focus on six measurements:\n",
    "* **TMIN, TMAX:** the daily minimum and maximum temperature.\n",
    "* **TOBS:** The average temperature for each day.\n",
    "* **PRCP:** Daily Percipitation (in mm)\n",
    "* **SNOW:** Daily snowfall (in mm)\n",
    "* **SNWD:** The depth of accumulated snow.\n",
    "\n",
    "## Sanity-check: comparison with outside sources\n",
    "\n",
    "<p>We start by comparing some of the general statistics with graphs that we obtained from a site called <a href=\"http://www.usclimatedata.com/climate/boston/massachusetts/united-states/usma0046\" target=\"_blank\">US Climate Data</a> The graph below shows the daily minimum and maximum temperatures for each month, as well as the total precipitation for each month.</p>\n",
    "\n",
    "<p>&nbsp;</p>\n",
    "\n",
    "<p><img alt=\"miami_weather_trend.png\" src=\"r_figures/miami_weather_trend.png\" style=\"height:400px; width:500px\"/></p>\n",
    "\n",
    "<p>&nbsp;</p>\n",
    "\n",
    "<p>We see that the min and max daily&nbsp;temperature agree with the ones we got from our data, once we translate Fahrenheit to Centigrade.</p>\n",
    "\n",
    "<p>&nbsp;</p>\n",
    "\n",
    "<p><img alt=\"TMIN_TMAX_pair.png\" src=\"r_figures/TMIN_TMAX_pair.png\" style=\"height:300px; width:800px\" /></p>\n",
    "\n",
    "<p>To compare the precipitation&nbsp;we need to translate millimeter/day to inches/month. According to our analysis the average rainfall is 3.364 mm/day which translates to about 4.029 Inches&nbsp;per month. According to US-Climate-Data the average rainfall is closer to 4.308 inch per month along the Miami Beach. However, there is clear agreement that in the trend of precipitation throughout the year. There is a gradual increment of precipitation from January to June, and between June and September there is siginificant rainfall, and from October to December, there is a gradual decrement in precipitation.</p>\n",
    "\n",
    "<p>Therefore from the above sanity-check, we can conclude the validility of our dataset and the reliability of the analysis we will provide in the following sections of the report.</p>\n",
    "\n",
    "<p>&nbsp;<img alt=\"my_PRCP.png\" src=\"r_figures/my_PRCP.png\" style=\"height:450px; width:600px\" /></p>\n"
   ]
  },
  {
   "cell_type": "markdown",
   "metadata": {
    "run_control": {
     "frozen": false,
     "read_only": false
    }
   },
   "source": [
    "## PCA analysis\n",
    "\n",
    "For each of the six measurement, we compute the percentate of the variance explained as a function of the number of eigen-vectors used.\n",
    "\n",
    "### Percentage of variance explained.\n",
    "![varience_explained_part1.png](r_figures/varience_explained_part1.png)\n",
    "We see that the top 5 eigen-vectors explain around 37% of variance for TMIN, 52% for TOBS and 28% for TMAX.\n",
    "\n",
    "We conclude that of the three, TOBS is best explained by the top 5 eigenvectors. This is especially true for the first eigen-vector which, by itself, explains 41% of the variance.\n",
    "\n",
    "![varience_explained_part2.png](r_figures/varience_explained_part2.png)\n",
    "\n",
    "The top 5 eigenvectors explain 6.9% of the variance for PRCP, however the top 5 eigenvectors are able to explain 100% of the varience for SNOW and SNWD. More specifically, the top 2 eigenvectors can expalin the all the varience for SNWD and the top 3 eigenvectors are able to explain all the varience for SNOW.\n",
    "\n",
    "The huge difference of varience expalined between PRCP and SNOW/SNWD indicates that there are too much varience for precipitation throughout the year, so 5 eigenvectors are far more enough to capture the hugh varience of precipitation. But in contrast, there are little snow in the region and the snow is concetrated in the first quarter of the year, so 2 to 3 eigenvectors are enough to capture the varience in snow analysis.\n",
    "\n",
    "Therefore in order to do some more interesting analysis, we will dig deeper into the PCA analysis for TOBS, which is the average temperature for each day. The TMIN's and TMAX's variences are harder to capture compared to the TOBS because the averaged temperature for a day is more consistent from day to day. The top 5 eigenvectors can explain 50% of the varience of TOBS, we want to look can we do a better job in explaining the TOBS."
   ]
  },
  {
   "cell_type": "markdown",
   "metadata": {
    "run_control": {
     "frozen": false,
     "read_only": false
    }
   },
   "source": [
    "## Analysis of averaged temperature for each day\n",
    "\n",
    "We choose to analyze the eigen-decomposition for TOBS because the first 5 eigen-vectors explain around 52% of the variance.\n",
    "\n",
    "First, we graph the mean and the top 5 eigen-vectors.\n",
    "\n",
    "From the graph of the mean TOBS throught the year, we can observe that the averaged temperature per day varies the most siginificantly from Januray to June, but more consistent from June to September and again varies more evidently between October to December. This trend is also reflected in the top 5 eigenvectors, which are trying to explain the varience between January to June, and between Octomber to December.\n",
    "\n",
    "![top_5_eigen_TOBS.png](r_figures/top_5_eigen_TOBS.png)\n",
    "\n",
    "![more_eigenvectors.png](r_figures/more_eigenvectors.png)"
   ]
  },
  {
   "cell_type": "markdown",
   "metadata": {
    "run_control": {
     "frozen": false,
     "read_only": false
    }
   },
   "source": [
    "Next we interpret the eigen-functions. The first eigen-function (eig1) is almost a straight line, it indicates the averaged temperature throughout the year, in which all the variance explained by the later eigenvectors are added on. \n",
    "\n",
    "**eig2,eig3 and eig4** all have a similar trend. They all oscillate between January to July, and almost a straight line from July to October, and again oscillate between October to December. In other words, they correspond to changing the distribution of the TOBS throughout the year, but since some values are more negative, and some are more positive in different eigenvectors, when they are summed together, they show a good indication of the mean TOBS trend throughout the year.\n",
    "\n",
    "They can be interpreted as follows:\n",
    "* **eig2:** brings down the temperature to be lower than average each day from Jan - Apr and Oct to Dec, since its values oscillate between those two time periods but have smaller values than the other eigenvectors. \n",
    "\n",
    "* **eig3:** brings up the temperature to be lower than average each day from Jan - Apr and Oct to Dec, since its values oscillate between those two time periods but have bigger values than the other eigenvectors. \n",
    "* **eig4:** oscillate in bringing down or up the temperature to be lower than average each day from Jan - Apr and Oct to Dec\n",
    "* **eig5:** oscillate in bringing down or up the temperature to be lower than average each day from Jan - Apr and Oct to Dec\n",
    "\n",
    "From the Perent Varience Explained graph we can see that 9 eighenvectors can still only explains 60% of the varience, which is not significantly better than 5 eigenvectors."
   ]
  },
  {
   "cell_type": "markdown",
   "metadata": {
    "run_control": {
     "frozen": false,
     "read_only": false
    }
   },
   "source": [
    "### Examples of reconstructions\n",
    "\n",
    "#### Best Reconstruction\n",
    "![best_reconstruction.png](r_figures/best_reconstruction.png)\n",
    "\n",
    "residual normalized norm  after mean: 0.0980527292589\n",
    "\n",
    "residual normalized norm  after mean + top eigs: [ 0.57704434  0.27570683  0.21646636  0.21554285  0.1961625 ]\n",
    "\n",
    "We calculate the residual of our best reconstruction, we can see that the big decrement in residual from subtract the mean to subtract mean+eigenvector_1, but not much decrese in residual after including more eigenvectors. This phenomenon reflects the percent varience explained graph where the first eigenvectors explain the most varience.\n"
   ]
  },
  {
   "cell_type": "markdown",
   "metadata": {},
   "source": [
    "## Estimating the effect of the year vs the effect of the station as to TOBS\n",
    "We now estimate the relative importance of location-to-location variation relative to year-by-year variation. To estimate the effect of time vs. location on the first eigenvector coefficient we compute:\n",
    "\n",
    "The average row: mean-by-station\n",
    "The average column: mean-by-year\n",
    "\n",
    "We then compute the RMS before and after subtracting either the row or the column vector.\n",
    "\n",
    "These are measured using the fraction by which the variance is reduced when we subtract from each station/year entry the average-per-year or the average-per-station respectively. Here are the results:\n",
    "\n",
    "total RMS                   =  185.261958184\n",
    "\n",
    "RMS removing mean-by-station=  171.680462062\n",
    "\n",
    "RMS removing mean-by-year   =  143.673181451\n",
    "\n",
    "\n",
    "We can see that the variation by year explains more than the variation by station because the RMS removing mean-by-year is smaller than RMS removing mean-by-station."
   ]
  },
  {
   "cell_type": "code",
   "execution_count": null,
   "metadata": {
    "collapsed": true
   },
   "outputs": [],
   "source": []
  }
 ],
 "metadata": {
  "anaconda-cloud": {},
  "kernelspec": {
   "display_name": "Python [conda root]",
   "language": "python",
   "name": "conda-root-py"
  },
  "language_info": {
   "codemirror_mode": {
    "name": "ipython",
    "version": 3
   },
   "file_extension": ".py",
   "mimetype": "text/x-python",
   "name": "python",
   "nbconvert_exporter": "python",
   "pygments_lexer": "ipython3",
   "version": "3.5.2"
  },
  "toc": {
   "colors": {
    "hover_highlight": "#DAA520",
    "running_highlight": "#FF0000",
    "selected_highlight": "#FFD700"
   },
   "moveMenuLeft": true,
   "nav_menu": {
    "height": "12px",
    "width": "252px"
   },
   "navigate_menu": true,
   "number_sections": true,
   "sideBar": true,
   "threshold": 4,
   "toc_cell": false,
   "toc_section_display": "block",
   "toc_window_display": false
  }
 },
 "nbformat": 4,
 "nbformat_minor": 2
}
