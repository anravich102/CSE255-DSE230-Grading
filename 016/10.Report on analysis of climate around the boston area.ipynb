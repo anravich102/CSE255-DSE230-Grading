{
 "cells": [
  {
   "cell_type": "markdown",
   "metadata": {
    "run_control": {
     "frozen": false,
     "read_only": false
    }
   },
   "source": [
    "# Weather Analysis (border region between WA and ID)\n",
    "\n",
    "This is a report on the <b>historical analysis of weather patterns</b> in an area that approximately overlaps the border region between Washington State and Idaho State, covering Moses Lake and Clearwater National Forest, whose center is located around Pullman, WA.\n",
    "\n",
    "Our data comes from [NOAA](https://www.ncdc.noaa.gov/). Specifically, it was downloaded from This [FTP site](ftp://ftp.ncdc.noaa.gov/pub/data/ghcn/daily/).\n",
    "(file_index: SBSBBSSB)\n",
    "\n",
    "In this weather analysis homework, we make use of six major measurements:\n",
    "* **TMIN:** Daily minimum and maximum temperature\n",
    "* **TMAX:** Daily minimum and maximum temperature\n",
    "* **TOBS:** Average temperature for each day\n",
    "* **PRCP:** Daily Precipitation (mm)\n",
    "* **SNOW:** Daily snowfall (mm)\n",
    "* **SNWD:** Accumulated snow depth\n",
    "\n",
    "## I. Sanity-check: comparison with outside sources\n",
    "\n",
    "<p>We start by comparing some of the general statistics with graphs that we obtained from a site called <a href=\"http://www.usclimatedata.com/climate/pullman/washington/united-states/uswa0356\" target=\"_blank\">US Climate Data</a>. The graph below shows the daily minimum and maximum temperatures for each month, as well as the total precipitation for each month of the center of our region--Pullman, WA.</p>\n",
    "\n",
    "<p><img alt=\"Pullman.png\" src=\"rfigure/Pullman.png\" style=\"height:300px\"/></p>\n",
    "\n",
    "<p>Daily min and max temperature in the above figure almost agree with those we got from our data. (Since the researched region is quite large, the slight differences are reasonable.)</p>\n",
    "\n",
    "<p><img alt=\"TMIN&TMAX_mean+-std.png\" src=\"rfigure/TMIN&TMAX_mean+-std.png\" style=\"height:250px\" /></p>\n",
    "\n",
    "<p>The region we study is quite large, lying across two states and covering cities, suburbs and forests. According to <a href=\"http://www.vidiani.com/average-precipitation-map-of-the-usa/\">USA Average Precipitation Map</a>, the amounts of rain varies a lot among stations in our region, even between two close stations, which will be discussed in details later in the PRCP analysis part. \n",
    "<img alt=\"PRCPmap.png\" src=\"rfigure/PRCPmap.png\" style=\"height:200px\" />\n",
    "<br/>Therefore, the PRCP mean is not very close to the center of our region--Pullman, WA.\n",
    "<img alt=\"PRCP_mean+-std.png\" src=\"rfigure/PRCP_mean+-std.png\" style=\"height:250px\" /></p>\n",
    "<br/>\n",
    "<b><u>Conclusion</u>: <i>Overall, our data can be used for further analysis.</i></b>"
   ]
  },
  {
   "cell_type": "markdown",
   "metadata": {
    "run_control": {
     "frozen": false,
     "read_only": false
    }
   },
   "source": [
    "## II. PCA Analysis\n",
    "\n",
    "For each of the six measurement, we compute the percentate of the variance explained as a function of the number of eigen-vectors used.\n",
    "\n",
    "### Percentage of variance explained.\n",
    "<p><img alt=\"VarExplained1.png\" src=\"rfigure/VarExplained1.png\" style=\"height:250px; width:900px\" /></p>\n",
    "We see that the top 5 eigen-vectors explain 26% of variance for TMIN, 49% for TOBS and 28% for TMAX.\n",
    "<br/>\n",
    "Among these three measurements, TOBS is best explained by the top 5 eigenvectors. This is especially true for the first eigen-vector which, by itself, explains 43% of the variance.\n",
    "<br/>\n",
    "\n",
    "<p><img alt=\"VarExplained2.png\" src=\"rfigure/VarExplained2.png\" style=\"height:250px; width:900px\" /></p>\n",
    "\n",
    "The top 5 eigenvectors explain 10% of the variance for PRCP and 14% for SNOW. Both are low values. However, the top 5 eigenvectors explain as much as 93% of the variance for SNWD. These top 5 eigenvectors capture almost all of the variation in the snow signals.\n",
    "<br/>It is reasonable that SNWD would be less noisy than SNOW, because snow-depth is the accumulated result of snowfall and varies less between days and between the same date on different years.\n",
    "<br/><br/><b><u>Conclusion</u>: <i>We will dig deeper into the PCA analysis for snow-depth.</i></b>"
   ]
  },
  {
   "cell_type": "markdown",
   "metadata": {
    "run_control": {
     "frozen": false,
     "read_only": false
    }
   },
   "source": [
    "## III. Analysis of Snow Depth\n",
    "\n",
    "We choose to analyze the eigen-decomposition for snow-depth because the first 3 eigen-vectors explain over 90% of the variance, which indicates the top 3 eigen-vectors are super influential.\n",
    "\n",
    "First, we graph the mean and the top 3 eigen-vectors.\n",
    "\n",
    "We observe that <b>the snow season is from November to the end of April, where February marks the peak of the snow-depth</b>.\n",
    "<p><img alt=\"SNWD_mean_eigs.png\" src=\"rfigure/SNWD_mean_eigs.png\" style=\"height:400px; width:750px\" /></p>"
   ]
  },
  {
   "cell_type": "markdown",
   "metadata": {
    "run_control": {
     "frozen": false,
     "read_only": false
    }
   },
   "source": [
    "Next, from the shapes shown above, we attempt to interpret eig1 and eig2.\n",
    "* **eig1:**\n",
    "<br/>The absolute value of first eigen-function (eig1) has a shape similar to the mean function. The interpretation of this shape is that eig1 (multiplied by a negative coefficient) can represent the total amount of snow in the whole year.\n",
    "\n",
    "* **eig2:** \n",
    "<br/>eig2 does not vary a lot until November. Its shape is similar to the mean function from November to the end of December. The interpretation of this shape is that eig2 can represent the amount of snow during this specific period, <i>as a supplement to eig1</i>.\n",
    "\n",
    "Further interpretion will be discussed in the next part."
   ]
  },
  {
   "cell_type": "markdown",
   "metadata": {
    "run_control": {
     "frozen": false,
     "read_only": false
    }
   },
   "source": [
    "### Samples of reconstructions\n",
    "\n",
    "#### coeff_1\n",
    "<img alt=\"SNWD_recon_c0.png\" src=\"rfigure/SNWD_recon_c0.png\" style=\"width:max-width\"/>\n",
    "* **Coeff_1 represents the total amount of snow in the whole year.**\n",
    "<br/>Larger absolute value of negative coeff_1 corresponds to more snow-fall during the whole year (snow season: from January to the end of April, as well as from November to the end of Decemeber). \n",
    "<br/>The above figure shows that the amount of snow is close to mean when c0=0. \n",
    "\n",
    "#### coeff_2\n",
    "<img alt=\"SNWD_recon_c1.png\" src=\"rfigure/SNWD_recon_c1.png\" style=\"height:220px\"/>\n",
    "* **Coeff_2 focuses on the amount of snow during a specific period (from November to the end of Decemeber).**\n",
    "<br/>Larger absolute value of positive coeff_2 corresponds to more snow during the period from November to the end of Decemeber.\n",
    "<br/>The red line representing c1 sometimes overlaps with the cyan line of c2.\n",
    "\n",
    "#### coeff_3\n",
    "<img alt=\"SNWD_recon_c2.png\" src=\"rfigure/SNWD_recon_c2.png\" style=\"height:220px\"/>\n",
    "* **Coeff_3 is related to the timing of the end of snow season.**\n",
    "<br/>Larger absolute value of negative coeff_3 corresponds to delay of the end of the snow season.\n",
    "\n",
    "#### A Sample of Best Reconstruction\n",
    "coeff_1=-6431 coeff_2=3606 coeff_3=-101\n",
    "<img alt=\"bestRecon.png\" src=\"rfigure/bestRecon.png\" style=\"height:220px\"/>\n",
    "<br/>\n",
    "With appropriate coeff_1,2,3, we can get a shap which agree with the target, which verifies that \n",
    "<br/>\n",
    "<b><u>Conclusion</u>: <i>the top 3 eigenvectors capture almost all of the variation in the snow signals<i/>.</b>"
   ]
  },
  {
   "cell_type": "markdown",
   "metadata": {
    "run_control": {
     "frozen": false,
     "read_only": false
    }
   },
   "source": [
    "### Average Snow Depth Respect to Location\n",
    "\n",
    "#### Visualiztion on Map\n",
    "<p>\n",
    "As is discussed above, coeff_1 represent the snow depth in the whole year, and in addition, coeff_2 further deals with the snow depth from November to the end of December. Now we want to show the influence of coeff_1 and coeff_2 staightforwardly on the map.\n",
    "</p>\n",
    "\n",
    "<p>\n",
    "<img alt=\"map_avg_SNWD.png\" src=\"rfigure/map_avg_SNWD.png\" style=\"width:max-width*97%\"/>\n",
    "The color of each circle represents snow depth during a period at the location. \n",
    "<br/>Warmer colors(close to red) indicate more snow, while cooler colors(close to blue) indicate less snow.\n",
    "<br/>The size of circles corresponds the amonut of stations at the location. Data shown with larger circle is more reliable.\n",
    "<br/>The right figure(coeff_2) is similar to the left one(coeff_1), so the average SNWD respect to location analysis is mainly depent on coeff_1. \n",
    "<br/><br/>\n",
    "<b><u>Conclusion</u>: <i>Areas in warmer colors are supposed to have heavier snow during the whole snow season</i>.</b> \n",
    "<br/>We can see that these areas are in the suburb or forest regions, which seems to make sense.\n",
    "</p>"
   ]
  },
  {
   "cell_type": "markdown",
   "metadata": {
    "run_control": {
     "frozen": false,
     "read_only": false
    }
   },
   "source": [
    "#### Relationship between SNWD and elevation\n",
    "\n",
    "It is a common sense that snow depth is usually deeper where elevation is higher. Now let us look at the relationship between coeff_1, coeff_2 and elevation.\n",
    "<p>\n",
    "<img alt=\"elevation.png\" src=\"rfigure/elevation.png\" style=\"height:250px\"/>\n",
    "As elevation increases, coeff_1 tends to decrease, while coeff_2 tends to increase.\n",
    "<br/>Smaller coeff_1 and larger coeff_2 represent more snow. \n",
    "<br/><br/><b><u>Conclusion</u>: <i>As elevation increases, snow-depth is supposed to increase.</i></b>\n",
    "<br/>The conclusion is the same as our assumption above.\n",
    "</p>"
   ]
  },
  {
   "cell_type": "markdown",
   "metadata": {},
   "source": [
    "### Year-to-year VS station-to-station variation\n",
    "In the previous section we see the variation of coeff_1 and coeff_2, which corresponds to the total amount of snow, with respect to location. We now estimate the relative importance of location-to-location variation relative to year-by-year variation.\n",
    "\n",
    "These are measured using the fraction by which the variance is reduced when we subtract from each station/year entry the average-per-year or the average-per-station respectively. Here are the results:\n",
    "\n",
    "** coeff_1 **  \n",
    "total RMS                    = 2548.79836597  \n",
    "RMS removing mean-by-station = 1411.54603975, fraction explained = 44.6%  \n",
    "RMS removing mean-by-year    = 2172.58783671, fraction explained = 14.8%  \n",
    "\n",
    "** coeff_2 **  \n",
    "total RMS                    = 891.646509155  \n",
    "RMS removing mean-by-station = 860.293896216, fraction explained = 3.5%  \n",
    "RMS removing mean-by-year    = 497.017351854, fraction explained = 44.2%  \n",
    "\n",
    "** coeff_3 **  \n",
    "total RMS                    = 659.849973909  \n",
    "RMS removing mean-by-station = 610.112428488, fraction explained = 7.5%  \n",
    "RMS removing mean-by-year    = 529.514148647, fraction explained = 19.8%  \n",
    "\n",
    "<b><u>Conclusion</u></b>:\n",
    "<br/>The fraction explained by <b><i>station-to-station variation</i></b> is more than that by year-to-year variation when considering <b><i>coeff_1</i></b>. \n",
    "<br/>The fraction explained by <b><i>year-to-year variation</i></b> is much more than that by station-to-station variation when considering <b><i>coeff_2</i></b> and <b><i>coeff_3</i></b>. \n",
    "\n",
    "Coeff_1 is related to the amount of snowfall in <i>the whole year</i>, so the variance between years is not that obvious.\n",
    "<br/>Coeff_2 only focuses on the snowfall during a specific period, instead of the snowfall of the whole year, which may vary between different years.\n",
    "<br/>Coeff_3 does with the timining of snowfall, which must varies among different years."
   ]
  },
  {
   "cell_type": "markdown",
   "metadata": {},
   "source": [
    "## Analysis of Precipitation\n",
    "<p>\n",
    "From PCA analysis, we know that the top 5 eigenvectors only explain 10% of the variance for PRCP. Actually, the top 10 eigenvectors only explain less than 20% of the variance. Therefore, PCA analysis for PRCP may not be as meaningful as that for SNWD.\n",
    "<img alt=\"PRCP_PCA.png\" src=\"rfigure/PRCP_PCA.png\" style=\"height:200px\" />\n",
    "<b><u>Conclusion</u>: <i>We will dig into other analysis instead of PCA analysis for PRCP, for instance, the correlations between pairs of different stations.</i><b>\n",
    "</p>"
   ]
  },
  {
   "cell_type": "markdown",
   "metadata": {},
   "source": [
    "### Overview of Precipitation Analysis \n",
    "<p>\n",
    "<img alt=\"PRCP_CDF.png\" src=\"rfigure/PRCP_CDF.png\" style=\"height:200px\" />\n",
    "From the CDF of daily rainfall, we can find that <b>it rains in about 30% of the days in our region</b>.\n",
    "<img alt=\"map_avg_PRCP.png\" src=\"rfigure/map_avg_PRCP.png\" style=\"height:300px\" />\n",
    "Similar to the visualization map for SNWD; however, now warmer colors(close to red) correspond to less rainfall, while cooler colors(close to blue) represent more rainfall.\n",
    "<br/><b><u>Conclusion</u>: <i>The amounts of rain at different stations in our region vary a lot, even between close locations</i>.</b> \n",
    "<br/>Therefore, finding correlations between the amount of rain on the same day in different stations is difficult. It is more reasonable to try to compare whether or not it rained on the same day in different stations, but even in this case, the correlations may not be very large.\n",
    "</p>"
   ]
  },
  {
   "cell_type": "markdown",
   "metadata": {},
   "source": [
    "### PRCP correlations among stations in our region\n",
    "<p>\n",
    "We can calculate <b>normalized log probability</b> for each pair of stations to study their correlations.\n",
    "<img alt=\"PRCP_significance.png\" src=\"rfigure/PRCP_significance.png\" style=\"height:200px\" />\n",
    "(We set the log probability of two same stations to be -0.4)\n",
    "<br/>We can see the distribution of log probilities of each pair of stations (most significane values are around or even less than 0.10), so we can find that the correlations between pairs of stations are not large in our region.\n",
    "<img alt=\"PRCP_showmat.png\" src=\"rfigure/PRCP_showmat.png\" style=\"height:400px\" />\n",
    "X-axis and y-axis represent the indices of stations. A point in darker color indicates larger correlations between the corresponding two stations.\n",
    "<br/>It is easy to figure out that the first 16 stations, especially the fisrt 8, are highly correlatedwith each other. However, other stations are not.\n",
    "<br/><br/>When we reorder the rows and columns of the matrix using one of the eigenvectors, the <b>grouping and clustering</b> of the stations becomes more evident. (Cool colors(close to blue) indicates highly correlated)\n",
    "<img alt=\"PRCP_matshow.png\" src=\"rfigure/PRCP_matshow.png\" style=\"height:800px\" />\n",
    "We have got nan data from too many stations, so there are lots of red points (log P=nan) in the matshow above.\n",
    "<br/><br/>\n",
    "<b><u>Conclusion</u>: <i>The precipitation of serveral (around 20) stations in our region are correlated with each other. However, other stations are not</i>.</b>\n",
    "</p>"
   ]
  },
  {
   "cell_type": "code",
   "execution_count": null,
   "metadata": {
    "collapsed": true
   },
   "outputs": [],
   "source": []
  }
 ],
 "metadata": {
  "anaconda-cloud": {},
  "kernelspec": {
   "display_name": "Python [conda root]",
   "language": "python",
   "name": "conda-root-py"
  },
  "language_info": {
   "codemirror_mode": {
    "name": "ipython",
    "version": 2
   },
   "file_extension": ".py",
   "mimetype": "text/x-python",
   "name": "python",
   "nbconvert_exporter": "python",
   "pygments_lexer": "ipython2",
   "version": "2.7.12"
  },
  "toc": {
   "colors": {
    "hover_highlight": "#DAA520",
    "running_highlight": "#FF0000",
    "selected_highlight": "#FFD700"
   },
   "moveMenuLeft": true,
   "nav_menu": {
    "height": "12px",
    "width": "252px"
   },
   "navigate_menu": true,
   "number_sections": true,
   "sideBar": true,
   "threshold": 4,
   "toc_cell": false,
   "toc_section_display": "block",
   "toc_window_display": false
  }
 },
 "nbformat": 4,
 "nbformat_minor": 2
}
