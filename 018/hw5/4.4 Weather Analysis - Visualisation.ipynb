{
 "cells": [
  {
   "cell_type": "markdown",
   "metadata": {
    "deletable": true,
    "editable": true,
    "run_control": {
     "frozen": false,
     "read_only": false
    }
   },
   "source": [
    "### Visualizing the distribution of the observations\n",
    "\n",
    "### Load the required libraries"
   ]
  },
  {
   "cell_type": "code",
   "execution_count": 2,
   "metadata": {
    "collapsed": false,
    "deletable": true,
    "editable": true,
    "run_control": {
     "frozen": false,
     "read_only": false
    },
    "slideshow": {
     "slide_type": "slide"
    }
   },
   "outputs": [
    {
     "name": "stdout",
     "output_type": "stream",
     "text": [
      "Populating the interactive namespace from numpy and matplotlib\n",
      "keys from STAT= ['TMIN', 'TOBS', 'TMAX', 'SNOW', 'SNWD', 'PRCP']\n",
      "12673\n",
      "+---------+--------+---------+-----------+-----------+------+--------------------+------+--------+\n",
      "|elevation|latitude|longitude|measurement|    station|undefs|              vector|  year|   label|\n",
      "+---------+--------+---------+-----------+-----------+------+--------------------+------+--------+\n",
      "|    500.2| 48.7603|-101.5089|       TMAX|USC00326025|    40|[90 D5 00 7E 00 7...|1894.0|SBBBBBSB|\n",
      "|    500.2| 48.7603|-101.5089|       TMAX|USC00326025|    43|[A0 D6 A0 D6 00 7...|1895.0|SBBBBBSB|\n",
      "|    500.2| 48.7603|-101.5089|       TMAX|USC00326025|    22|[A0 D3 00 C6 00 0...|1898.0|SBBBBBSB|\n",
      "|    500.2| 48.7603|-101.5089|       TMAX|USC00326025|    47|[00 7E E0 D5 A0 D...|1900.0|SBBBBBSB|\n",
      "|    500.2| 48.7603|-101.5089|       TMAX|USC00326025|    47|[00 7E 00 7E 00 7...|1901.0|SBBBBBSB|\n",
      "+---------+--------+---------+-----------+-----------+------+--------------------+------+--------+\n",
      "only showing top 5 rows\n",
      "\n"
     ]
    }
   ],
   "source": [
    "import pandas as pd\n",
    "import numpy as np\n",
    "import sklearn as sk\n",
    "import urllib\n",
    "import math\n",
    "%pylab inline\n",
    "\n",
    "import findspark\n",
    "findspark.init()\n",
    "\n",
    "from pyspark import SparkContext\n",
    "#sc.stop()\n",
    "sc = SparkContext(master=\"local[3]\",pyFiles=['lib/numpy_pack.py','lib/spark_PCA.py','lib/computeStats.py'])\n",
    "\n",
    "from pyspark import SparkContext\n",
    "from pyspark.sql import *\n",
    "sqlContext = SQLContext(sc)\n",
    "\n",
    "import sys\n",
    "sys.path.append('./lib')\n",
    "\n",
    "import numpy as np\n",
    "from numpy_pack import packArray,unpackArray\n",
    "from spark_PCA import computeCov\n",
    "from computeStats import computeOverAllDist, STAT_Descriptions\n",
    "\n",
    "### Read the data frame from pickle file\n",
    "\n",
    "data_dir='../../Data/Weather'\n",
    "file_index='SBBBBBSB'\n",
    "\n",
    "from pickle import load\n",
    "\n",
    "#read statistics\n",
    "filename=data_dir+'/STAT_%s.pickle'%file_index\n",
    "STAT,STAT_Descriptions = load(open(filename,'rb'))\n",
    "print 'keys from STAT=',STAT.keys()\n",
    "\n",
    "#read data\n",
    "filename=data_dir+'/US_Weather_%s.parquet'%file_index\n",
    "\n",
    "df=sqlContext.read.parquet(filename)\n",
    "print df.count()\n",
    "df.show(5)"
   ]
  },
  {
   "cell_type": "markdown",
   "metadata": {
    "deletable": true,
    "editable": true,
    "run_control": {
     "frozen": false,
     "read_only": false
    },
    "slideshow": {
     "slide_type": "slide"
    }
   },
   "source": [
    "### Select data for a particular station and measurement type"
   ]
  },
  {
   "cell_type": "code",
   "execution_count": 15,
   "metadata": {
    "collapsed": false,
    "deletable": true,
    "editable": true,
    "run_control": {
     "frozen": false,
     "read_only": false
    },
    "slideshow": {
     "slide_type": "subslide"
    }
   },
   "outputs": [
    {
     "name": "stdout",
     "output_type": "stream",
     "text": [
      "SELECT * FROM weather\n",
      "\tWHERE measurement='PRCP' and station='USC00326025'\n",
      "94 rows\n",
      "+---------+--------+---------+-----------+-----------+------+--------------------+------+--------+\n",
      "|elevation|latitude|longitude|measurement|    station|undefs|              vector|  year|   label|\n",
      "+---------+--------+---------+-----------+-----------+------+--------------------+------+--------+\n",
      "|    500.2| 48.7603|-101.5089|       PRCP|USC00326025|    31|[80 50 00 00 00 0...|1894.0|SBBBBBSB|\n",
      "|    500.2| 48.7603|-101.5089|       PRCP|USC00326025|     0|[00 00 C0 54 00 0...|1896.0|SBBBBBSB|\n",
      "+---------+--------+---------+-----------+-----------+------+--------------------+------+--------+\n",
      "only showing top 2 rows\n",
      "\n"
     ]
    },
    {
     "data": {
      "text/plain": [
       "(94, 365)"
      ]
     },
     "execution_count": 15,
     "metadata": {},
     "output_type": "execute_result"
    }
   ],
   "source": [
    "sqlContext.registerDataFrameAsTable(df,'weather')\n",
    "Query=\"SELECT * FROM weather\\n\\tWHERE measurement='%s' and station='%s'\"%('PRCP','USC00326025')\n",
    "print Query\n",
    "df1 = sqlContext.sql(Query)\n",
    "print df1.count(),'rows'\n",
    "df1.show(2)\n",
    "rows=df1.rdd.map(lambda row:unpackArray(row['vector'],np.float16)).collect()\n",
    "T=np.vstack(rows)\n",
    "T=T/10.  # scaling to make the temperature be in centingrates\n",
    "shape(T)"
   ]
  },
  {
   "cell_type": "markdown",
   "metadata": {
    "deletable": true,
    "editable": true,
    "run_control": {
     "frozen": false,
     "read_only": false
    },
    "slideshow": {
     "slide_type": "slide"
    }
   },
   "source": [
    "### Script for plotting yearly plots"
   ]
  },
  {
   "cell_type": "code",
   "execution_count": 16,
   "metadata": {
    "collapsed": false,
    "deletable": true,
    "editable": true,
    "run_control": {
     "frozen": false,
     "read_only": false
    },
    "scrolled": false,
    "slideshow": {
     "slide_type": "subslide"
    }
   },
   "outputs": [
    {
     "data": {
      "image/png": "iVBORw0KGgoAAAANSUhEUgAAAlMAAAGNCAYAAAA1nfQqAAAABHNCSVQICAgIfAhkiAAAAAlwSFlz\nAAALEgAACxIB0t1+/AAAIABJREFUeJzsvXuwJFd95/k9mVX30W+1hFqyGpBAQjYGC0FjG4Pl9mBs\nht0BJjaWwDEzKwxrbTgIryfsCA/r2dkZT6xjmVgP4VfErDUwtmxsHvZgi/WsBXKjK0ASeiGB3rSk\nltQt9UN9+3Gf9cg8Z//Ic7JOZmVVZVVmVmVWfj8RHbequh6nKqsyv/n9fc/vCKUUCCGEEELIZDiz\nHgAhhBBCSJWhmCKEEEIIyQDFFCGEEEJIBiimCCGEEEIyQDFFCCGEEJIBiilCCCGEkAxQTBFCCCGE\nZIBiihAyU4QQ7xFC3CuEuCiEOCeEuEcI8U4hxMeEEEoI8Zux+58QQhy2rr9ZCPFV/fh1IcRdQoif\nsv7/a0KIf2Vdv0o/b9JtVxT8dgkhcwjFFCFkZggh9gD4OwB/CGA/gKsA/DaAtr7LOQC/KYTYPeDx\nbwRwD4DHAFwD4IcA/A2Arwsh3qXv9k0AN1kPuwnA0wm3HVVKncrhbRFCagbFFCFklrwJAJRSX1BK\n+UqpbaXU15VS39f//xSA+wD8+oDH/zsA9yml/rVS6pxSal0p9QcA/hzAf9D3+SaAdwshzP7upwH8\nHoBDsdu+mes7I4TUBoopQsgs+QEAXwhxmxDiHwshLkm4z78B8C+FEPsT/u99AP4q4fYvIxBQywAe\nALAI4Ab9fzcBuBPAs7HbKKYIIRNBMUUImRlKqTUA7wGgAPxnAK/q/NMB6z6PIhA//yrhKS4DcDLh\n9pMI9m/7lVJtAPcDuEkLsr1KqecBfMu67c0A7s7vnRFC6gTFFCFkpiilnlJKfUwpdRDAWxDknn4v\ndrf/A8Cv2CJLcxbAlQlPeyUACeC8vm5yUz+NIGMFAN+2bjuulHox63shhNQTiilCSGlQSj0N4E8R\niKr47V8B8K9jD/kHAP9jwlN9BEGWaktf/yYC0XQTAkcKCETVu8ESHyEkIxRThJCZIYT4YSHEbwgh\nDurrrwXwiwC+k3D33wbwSwD2xW77KSHE7wgh9gshdgshfhXA/4RoWfA+/bh/Di2mlFLnAbyqb6OY\nIoRMDMUUIWSWrAP4CQD3CyE2EYioxwH8RvyOSqljCGbp7bRuO4ogc3UDgBcQZKX+BwC/oJS6x7rf\nJoCHASzo5zd8C8DloJgihGRAKKVmPQZCCCGEkMpCZ4oQQgghJAMUU4QQQgghGaCYIoQQQgjJAMUU\nIYQQQkgGKKYIIYQQQjLQmOaLXXbZZerqq68u9DU2Nzexc+fO0XckcwW3e33htq833P71pujt//DD\nD59VSr1m1P2mKqauvvpqPPTQQ4W+xsrKCg4fPlzoa5Dywe1eX7jt6w23f70pevsLIVItM8UyHyGE\nEEJIBlKJKSHEPiHEXwshnhZCPCWEeJdeuuFOIcRR/feSogdLCCGEEFI20jpTvw/gDqXUDyNYtuEp\nAJ8CcEQpdR2AI/o6IYQQQkitGJmZEkLsRbCq+scAQCnVAdARQnwIwGF9t9sArCC6sCghhBBCak63\n28WJEyfQarVyf+69e/fiqaeeyvw8S0tLOHjwIJrN5kSPTxNAvwbByup/IoS4AcFiob8G4IBS6qS+\nzykAByYaASGEEELmlhMnTmD37t24+uqrIYTI9bnX19exe/fuTM+hlMLq6ipOnDiBa665ZqLnGLnQ\nsRDiEIKV3N+tlLpfCPH7ANYA/KpSap91v/NKqb7clBDiFgC3AMCBAwfe8cUvfnGigaZlY2MDu3bt\nKvQ1SPngdq8v3Pb1htu//OzduxdvfOMbcxdSAOD7PlzXzfw8Sik899xzuHjxYuT2n/3Zn31YKXVo\n1OPTOFMnAJxQSt2vr/81gnzUaSHElUqpk0KIKwGcGTDAWwHcCgCHDh1SRU9h5TTZesLtXl+47esN\nt3/5eeqpp7Bnz55CnjsPZ8qwtLSEG2+8caLHjgygK6VOATguhLhe3/ReAE8C+CqAm/VtNwO4faIR\nEEIIIYQUyB133IHrr78e1157LT796U/n/vxpm3b+KoC/EEIsAHgewC8hEGJfFkJ8AsCLAD6S++gI\nIYQQQjLg+z4++clP4s4778TBgwfxzne+Ex/84Afx5je/ObfXSCWmlFKPAkiqGb43t5EQQgghhOTM\nAw88gGuvvRZveMMbAAAf/ehHcfvtt09fTBFCCCGEZOW3/98n8OQra7k9n+/7eOtrL8G//Sc/OvA+\nL7/8Ml772teG1w8ePIj7779/4P0ngcvJEEIIIYRkgM4UIWQ8Xn4YuOxNwGI+M2gIIfVhmIM0CWlm\n81111VU4fvx4eP3EiRO46qqrch0HnSlCSHq8NvBf3g88+pezHgkhhKTine98J44ePYpjx46h0+ng\ni1/8Ij74wQ/m+hp0pggh6ZEe4HeAzuasR0IIIaloNBr4oz/6I/zCL/wCfN/Hxz/+cfzoj+brkFFM\nEULSE66YMHzlBEIIKRMf+MAH8IEPfKCw52eZjxCSHiWjfwkhhFBMEULGQUX+EEIIoZgihIwDy3yE\nENIHxRQhZAyMM0UxRQghBoopQkh66EwRQkgfFFOEkPGhM0UIISEUU4SQ9NCZIoRUkI9//OO4/PLL\n8Za3vKWQ56eYIoSkh60RCCEV5GMf+xjuuOOOwp6fYooQMgYMoBNCqsdNN92E/fv3F/b87IBOCEkP\ny3yEkCz8/aeAU4/l9nTLvgdcdSPwjz+d23NOAp0pQsgY0JkihJA4dKYIIemhM0UIyULODtL2+jp2\n796d63NOAp0pQsgY0JkihJA4FFOEkPTQmSKEVJBf/MVfxLve9S4888wzOHjwID73uc/l+vws8xFC\n0sPWCISQCvKFL3yh0OenM0UIGQOW+QghJA7FFCEkPRRRhBDSB8UUIWQM6EwRQkgciilCSHoYQCeE\nTIAq+QlY1vFRTBFCxoDOFCFkPJaWlrC6ulpaQaWUwurqKpaWliZ+Ds7mI4Skh84UIWRMDh48iBMn\nTuDVV1/N/blbrVYmEWRYWlrCwYMHJ348xRQhJD1GTLE1AiEkJc1mE9dcc00hz72ysoIbb7yxkOce\nB5b5CCFjwDIfIYTEoZgihKSHZT5CCOmDYooQMgZ0pgghJA7FFCEkPXSmCCGkD4opQsgY0JkihJA4\nFFOEkPTQmSKEkD4opggh6TEtEdgagRBCQiimCCFjwDIfIYTEoZgihKSHZT5CCOmDYooQMgYq8ocQ\nQgjFFCFkHOhMEUJIHxRThJAxYGaKEELiUEwRQtJDZ4oQQvqgmCKEpMeIKbZGIISQEIopQsgYsMxH\nCCFxKKYIqQJ3/BbwvS/NehQs8xFCSAIUU4RUgSdvB56/a9ajAJ0pQgjpp5HmTkKIFwCsA/ABeEqp\nQ0KI/QC+BOBqAC8A+IhS6nwxwySk7qhyCBg6U4QQ0sc4ztTPKqXeppQ6pK9/CsARpdR1AI7o64SQ\nIlAS5RAwdKYIISROljLfhwDcpi/fBuDD2YdDCElEyXLMoKMzRQghfaQq8yHYc/6DEMIH8MdKqVsB\nHFBKndT/fwrAgaQHCiFuAXALABw4cAArKyvZRjyCjY2Nwl+DlI953+4/1W7h/OnTeGrG73HvhSdw\nI4AzZ07jyZJ83vO+7clwuP3rTVm2f1ox9R6l1MtCiMsB3CmEeNr+T6WUEkIknqpq4XUrABw6dEgd\nPnw4y3hHsrKygqJfg5SPud/uDzRx4PLX4MCs3+MLDeBR4PLLLsPlsx6LZu63PRkKt3+9Kcv2T1Xm\nU0q9rP+eAfA3AH4cwGkhxJUAoP+eKWqQhNQelvkIIaS0jBRTQoidQojd5jKAnwfwOICvArhZ3+1m\nALcXNUhCao+SJQl9M4BOCCFx0pT5DgD4GyGEuf9fKqXuEEI8CODLQohPAHgRwEeKGyYhNUcplMIN\noogihJA+RooppdTzAG5IuH0VwHuLGBQhJI4qR5mPzhQhhPTBDuiEVIGylPmYmSKEkD4opgipAqVw\npdAbR1nGQwghJYBiipAqUBZnimU+Qgjpg2KKkCqgSpKZUn0XCCGk9lBMEVIFuDYfIYSUFoopQqpA\nWcp8DKATQkgfFFOEVIGydECnM0UIIX1QTBFSCcrStJOz+QghJA7FFCFlR5XIDWKZjxBC+qCYIqTs\nlMoNKpGwI4SQkkAxRUjZCUVUCQQMnSlCCOmDYoqQslOmMh+dKUII6YNiipCyU6YyH0UUIYT0QTFF\nSNkpg4gKoTNFCCFxKKYIKTuhM1UCAVMml4wQQkoCxRQhpce4QSUQMAygE0JIHxRThJSdMs3mY5mP\nEEL6oJgipOyUqsxHZ4oQQuJQTBFSdlSJynyGMgg7QggpCRRThJSdMpX56EwRQkgfFFOElB027SSE\nkFJDMUVI2SmVM8XWCIQQEodiipCyUyYBwzIfIYT0QTFFSNkp02w+lvkIIaQPiilCSk+J3CA6U4QQ\n0gfFFCFlp0xlPjpThBDSB8UUIWUnFFOzHQYAOlOEEJIAxRQhZadMs/lCZ2q2oyCEkDJBMUVI2SlT\nB/RSlRwJIaQcUEwRUnbK1LSTZT5CCOmDYoqQslPKMl8ZxkIIIeWAYoqQslOm0hqdKUII6YNiipDS\nUyY3qExjIYSQckAxRUjZKVOZj84UIYT0QTFFSNkpU5nPQGeKEEJCKKYIKTtlWpuvjMKOEEJmDMUU\nIWWnTKW1Mo2FEEJKAsUUIWWnVG4QA+iEEBKHYoqQsqNKtIQLnSlCCOmDYoqQslOm2Xx0pgghpA+K\nKUJKT5nW5qMzRQghcSimCCk7ZZrNhxKVHAkhpCRQTBFSdspU5itVGJ4QQsoBxRQhZadMzhTLfIQQ\n0kdqMSWEcIUQjwgh/k5f3y+EuFMIcVT/vaS4YRJSY1SJMlMMoBNCSB/jOFO/BuAp6/qnABxRSl0H\n4Ii+TgjJm1KV+ehMEUJInFRiSghxEMB/B+Cz1s0fAnCbvnwbgA/nOzRCCIBylfnoTBFCSB9pnanf\nA/CbAOw6wwGl1El9+RSAA3kOjBCiKVPom84UKYjHX76IP777uVkPg5CJaIy6gxDivwdwRin1sBDi\ncNJ9lFJKCJG4dxVC3ALgFgA4cOAAVlZWJh9tCjY2Ngp/DVI+5nm7X3Lue7gBQLfbxT0zfo+ve/F5\nvAFAp93GvSX5vOd529eJv3qmgzte6OJ6dXysx3H715uybP+RYgrAuwF8UAjxAQBLAPYIIT4P4LQQ\n4kql1EkhxJUAziQ9WCl1K4BbAeDQoUPq8OHD+Yx8ACsrKyj6NUj5mOvtfrQLfB9oNtzZv8e7HwCO\nAQvNxuzHopnrbV8j7tt+Cnjx2Njbktu/3pRl+48s8yml/jel1EGl1NUAPgrgG0qpfw7gqwBu1ne7\nGcDthY2SkDpTpswUy3ykIJQCZBm+44RMQJY+U58G8D4hxFEAP6evE0Lypkyz+RhAJwWhlOLXilSW\nNGW+EKXUCoAVfXkVwHvzHxIhJIIqkYChM0UKQoZfcwUhxGwHQ8iYsAM6IWWnTLP56EyRgjAlPsmv\nFqkgFFOElJ0ylfnoTJGCUJYzRUjVoJgipOyUKYAeOlOzHQWZPxSdKVJhKKYIKT0lWpuvVCVHMk8Y\nEcUZfaSKUEwRUnZY5iM1gCKKVBmKKULKTplm8zGATgrCfKMoqkgVoZgipOyUqbRGZ4oUBDNTpMpQ\nTBFSdkolYOhMkWKQ4TwLfrdI9aCYIqTslGk2X6mEHZknFOhMkepCMUVI2SlVAL1EJUcyV9gd0Amp\nGhRThJQdW7iU5UBTlnGQuYEd0EmVoZgipPRYR5dZixiW+UhR0JkiFYZiipCyEympzfpAwwA6KQY6\nU6TKUEwRUnYiZb4ZZ5XoTJGCYGaKVBmKKULKTqkyU3SmSDFQppMqQzFFSNmJCBdmpsh80ivz8btF\nqgfFFCFlxz64zLzMVyaXjMwT7IBOqgzFFCFlp1QCpkQzC8lcoZiZIhWGYoqQslOm2XxlKjmSucKU\n96ilSBWhmCKk9JSozEdnihSEKe8xM0WqCMUUIWWnTGU+OlOkIBQnipIKQzFFSNkpU5mPzhQpCMXZ\nfKTCUEwRUnZK2bQTmL2wI/MEO6CTKkMxRUjZUSVyg3IWdnf/4FX81pcfAP7iI8Crz2R+PlJdVMIl\nQqoCxRQhZWfWblSEfIXdvc+dxXcefQI4+jXgxIOZn49Ul14AfbbjIGQSKKYIKTulato58MpE+L4C\n4OunK5NoJNOGmSlSZSimCCk7ZZrNl7Mz5SvVex7pZ34+Ul04m49UGYopQkpPiULfOQfQfakgwsWT\nKabqDNfmI1WGYoqQslOm2Xx5O1O2mJKzfm9klrADOqkyFFOElJ0ylfkKcKac0JmimKozLPORKkMx\nRUjZKVPTzpxdMi8ipljmqzNhdI5qilQQiilCyk6Z+kzlXOaTUsGBFmUMoNcaZqZIlaGYIqTslCkz\nlfOBzmMAnWjCzNSMx0HIJFBMEVJ2ylTmK6A1AjNTBOh9sxSdKVJBKKYIKTvzHED37TIfxVSdYQd0\nUmUopgipEjN3b/J1phhAJwbF1gikwlBMEVJ2ylTmy9mZksruM0UxVWc4m49UGYopQspOqcp8RbRG\nkLk9H6kunM1HqgzFFCFlp0xiKvcO6JJlPgLAykrN+itOyARQTBFSdnIurWWiiA7ogmU+0stMMYBO\nqgjFFCFlp1TOlEXea/OxzFdrmJkiVYZiipCyU9qmnXmtzcfMFGHTTlJtKKYIKTtlms2Xe2bKao3A\nMl+tMd8mOlOkilBMEVJ6SrQ2X87OFPtMEUPoTM36O07IBIwUU0KIJSHEA0KI7wkhnhBC/La+fb8Q\n4k4hxFH995Lih0tqzepzwLNHZj2K6VOqMl++Y4lkpuhM1RqjoailSBVJ40y1AfwjpdQNAN4G4P1C\niJ8E8CkAR5RS1wE4oq8TUhz3/z/A3/7KrEcxfco0m6+AMh8D6ATgbD5SbUaKKRWwoa829T8F4EMA\nbtO33wbgw4WMkBCD3wH87qxHMX3KNJuv0AA6nak601ubj2qKVI9UmSkhhCuEeBTAGQB3KqXuB3BA\nKXVS3+UUgAMFjZGQAOnX84BrH1xm7t7k7EwpO4A+6/dGZkkvMzXjgRAyAY00d1JK+QDeJoTYB+Bv\nhBBvif2/EkIk/gSEELcAuAUADhw4gJWVlWwjHsHGxkbhr0Fmw/UnX8Frul18O2H7zvN2/5FTJ8Mz\nlYcefggbP7gws7H82Ooq9uvL999/P7Z3HM/0fBub26GYOnXqFTw9wTac521fJ7a3WwCAxx5/HEtn\nn079OG7/elOW7Z9KTBmUUheEEHcBeD+A00KIK5VSJ4UQVyJwrZIecyuAWwHg0KFD6vDhwxmHPJyV\nlRUU/RpkRpz/EnDOSdy+c73dz/55+Os69Pa3A1e9fXZjOX4JcD64+BM//uPAZddmerqF+45AdAIx\ndcXlr8EVE2zDud72NWLxviNAq4U3v/lHcfjHrkz9OG7/elOW7Z9mNt9rtCMFIcQygPcBeBrAVwHc\nrO92M4DbixokIQCCEtfMy1wzoEx9pgppjaDfH2fz1RqTmVKz/o4TMgFpnKkrAdwmhHARiK8vK6X+\nTghxH4AvCyE+AeBFAB8pcJyE1FdMlarPVP6tEdhnigA9EcXZfKSKjBRTSqnvA7gx4fZVAO8tYlCE\nJKL8eroXZZrNxw7opCBCZ2rm33FCxocd0El1qKszNcdlvqDPlGmNwINonVGczUcqDMUUqQ61FVNl\nao1gkbczxTJfrTFfJ/aZIlWEYopUByUBqPqduqoyZaaKaNrJMh/piShmpkgVoZgi1aGui3eVqcyX\nc2bKkxKOYAd0wswUqTYUU6Q6GFFRplLXNCjVQsf5OVNKKUgFrs1HADAzRaoNxRSpDqYMVDcHo0yz\n+XIUdr62IljmIwAzU6TaUEyR6lBXZwr55pSykV+Zz4uLqdptV2LDzBSpMhRTpDrUVUzNaZnPHDzZ\nAZ0AvW8TO6CTKkIxRaoDxdTsy3wFOFO956vZdiUR6EyRKkMxRapDrcWUMFdmOZJ8nSkZc6bqloUj\nETibj1QZiilSHVRNy0FKAUL/VGcuJFXixUnoy0zVbbuSCJzNR6oMxRSpDqEzVbO9rVKAo5fRnPVb\nz9GZ6pvNp3wopfDS6lam5yXVhLP5SJWhmCLVoc5lPsc1V2Y6FCgJCLd3OQNGTNlr8939g1dx+Hfv\nwqmLrUzPTaoHM1OkylBMkepQZzGVk4DJjl1yzNmZkj4ubHUhFbDe6mZ6blI9mJkiVYZiilSHuoqp\nHAVM9qFYYymgzGdu82f9PslUsQUUNz2pIhRTpDrUuQN6Wcp8OQq7pAB6WOqpm16uOfZXiZkpUkUo\npkh1qKszZYupWb93hdydKWG1RujlZnhArRP29uaWJ1WEYopUhzqLqTAzNetDTYGZKSXD3AzFVL2w\ntza3PakiFFOkOqjeQbdWKFWeMp+SgJOx55WUwImHEgLospeZ4pSuWiGZmSIVh2KKVIfa9pkqkTOl\nVG8skwq7Y3cDn30v3PPPAgAc0SvzKU6PryX215qz+UgVoZgi1cEEz+vWKVup7G5QbuRQ5muvAQBE\n+2Lw1wqgG0eKpZ56EQ2gz24chEwKxRSpDnXOTJkO6DMv8+XQGkFvP9ntABiQmeIRtVbY4plCmlQR\niilSHeoqpqDKU+bLw5nSzqLyjZjqn83HPlP1gpkpUnUopkh1qKuYUrI8Cx3n6EzBjzlTUoYHVR5Q\n60VkxUdufFJBKKZIdaizmArLfLMmB2fKlPm8YMkYEd7uwzc6i2W+WmH/pLnpSRWhmCLVQfbKQbUi\n0o5g1pmpHMZiJhD4Rkz1RDKbdtaTaNNObntSPSimSHWorTOlyrPQcR6tEVQ8M2UtJ8PZfLUk2rRz\nZsMgZGIopkh1qHOfqbI07cyxzNeXmVK+NZsvwxBJ5eBsPlJ1KKZIdaiJM6WUwh8cOYoXVzf1DWVr\n2pkxgG7KfF5sNp/0w1l8nM1XLyICipueVBCKKVIdaiKm1loePnPnD/D1J04HN9jLycz8vefpTJnM\nlHkeBaUtKc7oqhmRpp3c9qR6UEyR6lATMWVyQz13Jgc3KC8UimuNAEBq18qf701MYkiVfJmQqkAx\nRapDTZaTCUtd5qhiZ6ZmftaeX9NOIQNnKizzAaEzRXeiXrBpJ6k6FFOkOtTMmZK2mCrNbD6ZfZ1A\n/TjlGzFl52U8ABRTdSM6m4/bnlQPiilSHZQlLuaYcEZbWOUr0Wy+HFsjGGdKWM+jfDpTdcRei5F5\nOVJFKKZIdaiJM9U3oy3SZ2rWB5ocy3xJmSnFzFQd4WQ+UnUopkh1qEmfqcQyX1lm8+W4Nl9SZkpo\noUVnql6oiKDmtifVg2KKVAcTPJ/z5WT8+Gw+e6HjmZ+359caIXSmhFXiMWKKU7pqBWfzkapDMUWq\nQ83KfFFnSi90POuz9jybdiZlpsLZfJMOkFQRzuYjVYdiilSHmoipsM9UL4FuBdBnTX7OlJNQ5jOz\n+dgBvV6oiJjitifVg2KKVIeaiKnhAfRZZ6ZyyG+peJ8pu8bDDuh1REXKfNz2pHpQTJFqoBTCstKs\nBUXByHjOvkxNO5UChMj2HH1NO/szUz7rfLXC3tyz/ooTMgkUU6Qa2AJqzjugmzPzSAf0UgXQMwo7\nq8zXdEU0M6WYmaojthvFbU+qCMUUqQa2mJpzZ6p/Nl+JFjrOsTWCI7twhIjM5oPUHdB5RK0VkT5T\ntKZIBaGYItUgIqbme2ebOJtvnpp2WmKq4Qi4keVk2AG9jkRm881wHIRMCsUUqQY1cqb6ZvOVajkZ\n5NYawZEeHEckZ6YopmoFA+ik6owUU0KI1woh7hJCPCmEeEII8Wv69v1CiDuFEEf130uKHy6pLTUS\nU8lNO0tS5svFmdJiSgXOVKTMZxZB5vG0VkQ7oM9wIIRMSBpnygPwG0qpNwP4SQCfFEK8GcCnABxR\nSl0H4Ii+Tkgx2KHzaXZAf+UR4Hd+CFg/PbWXDA2p8KCiSjSbL4/WCMHjXNmF6zix1giczVdp/uzD\nwJF/P/bDorP5arDtf/8G4Lt/PutRkBwZKaaUUieVUt/Vl9cBPAXgKgAfAnCbvtttAD5c1CAJmZkz\nde4Y0N0ENk5N7SUTZ/OVpsxnt0bIWOZTHlwn1mdKcW2+SnPuueA3Mya16oAuJXD+BeD8+J8TKS+N\nce4shLgawI0A7gdwQCl1Uv/XKQAHBjzmFgC3AMCBAwewsrIy4VDTsbGxUfhrkOnT6K7jPfryM08/\njZNrK5H/L2q7X376cbwZwMMPPoD1Pedzf/4kHj8bzGg7dfo0Vu66C4cBvHj8BF4P4PnnnsNL3spU\nxpHET/seVs+ew+UAnn76aZy6OP5Yrn/lZVwJQHVb8GQHQvmA1mcXzp8DsBfPH3sBKyuvpHo+/ubL\nw09ub2HtzCk8Oeb2ePZ8z20+febMWNuzattfSA8/A+ClF47h+QqNu6yUZfunFlNCiF0A/iuAf6mU\nWhNW4z6llBJCJJ5PKKVuBXArABw6dEgdPnw404BHsbKygqJfg8yAzVXgnuDi9W+6FtcfOhz578K2\n+/dOA08B73j7jcDBQ/k/fwLqmTPAQw/i0steg8M/8zbgbuD1V78BeAl4wzVX4w03HZ7KOBL5toPL\nLz8AvAr88PVvwg+/fYKxXPgycApYdBV2Li2jsdX7r317dgPngNe97vU4fPj6VE/H33yJeLiJpUv3\n4/Ixt8euF84B998HALjsstfg8OF3pH5s5bZ/twV8E3jda6/C66o07pJSlu2fajafEKKJQEj9hVLq\nK/rm00KIK/X/XwngTDFDJASzK/Ppvkfh32m8pD2bz9Q8REnKfHkE0HWZL8hMxWbz6W3L2XwVRXoT\nNdW1M1NzX+IN9ynz3Xy4bqSZzScAfA7AU0qpz1j/9VUAN+vLNwO4Pf/hEaKxQ+dyimLKvO4Ud3wm\nKyWV6gnH0gTQ82jaqcWU6hdTgpmpaiP9iSaI2KHzuZ97MIN9CimeNGW+dwP4FwAeE0I8qm/7LQCf\nBvBlIcT63CsNAAAgAElEQVQnALwI4CPFDJEQzNCZ0ju8Kc4gNAcTqdB7r6asPnORkV/TTld5cIVI\nnM3HDugVRfmZnanZu68FM4N9CimekWJKKfVthPHQPt6b73AIGcCsxNQMziIjs/lCZ8r8VGftTOXQ\nGkF/lg1oZ0pISOXAgYTSrqM/63ZaZDKkpDM1CvO7oTM1V7ADOqkGs3amZlXmM+KpLE0782iNYDlT\nDTdwpnwRiEXB5WSqzYSZKXtrz/22n0EOkxQPxRSpBrMWU1Mt8yU4U1lLa7mhsq8TaNbmg0IDEg4U\nZPiczExVmonLfDVypsJ9Cu3XeYJiilSDGpX5fJkkpoQWVLMu89kB9AmxPsslxw+cKQRiigH0ijNh\nAL1WHdAZQJ9LKKZINbBn8E0zuDkDSz5xNp9wAIgSnM3mF0AHgAXhQ1hlPjAzVV2U0s7U+L8VI6Ac\nUQLztWhY5ptLKKZINZiWM3XsW8Dtn+xdn0GZzxxMgtl8JjPlBO5UGY40ObVGAIBF4UEIKzMFs9Bx\nCd4nGY8MwWqzuV1HzL8raU4MOZtvrqCYItUgIqYK3Nkeuxt45PPWDm/6M2/8SGbKFlMzLvPZY7Gv\nj4u0xZQPBzIs83Gh4wqT4cRDhs6UKMX5QqGwzDeXUEyRajAtZypuwc8gLJpY5gMQlPlmKabiDUQn\n/EwiZT5vQAB90kGSmZFBJJivdaMWzhQD6PMIxRSpBlMTU7Gz61ksJzNoNp+YcWYq7kxlbI0AGGfK\nDqCzNUJlybBMitnerlMDZ4qZqbmEYopUg8hyMgXa4zImomY9mw8lKvMh/zLfghFTJoAOiqnKkqnM\nF/x1HQE16xmrRcMy31xCMUWqwczLfDNemy+czVeizFQOzlRQ5utlpgQzU9UlU76w50zN/aZnAH0u\noZgi1WBaYio8a4wdGKZoyUdn89l9pmY9my8nZ0pFnSmR0AG90sbUxhng5YdnPYrpk6nMF/ytx2w+\nlvnmEYopUg3sHew0nam4uJoCZjaf7MtMlWw236RjkT7gLgIAmvAimSlT5qu0M3XvHwB/+dFZj2L6\n5DCbz63VbD4G0OcJiilSDWpY5vNVrDVCvMy39grwFx8BWmtTGpl+bSeH5WQaSwCABQStEbywzFeS\nzNTX/w3w5O2TPbazBXS38h1PFciQBTLa2XHE/PcYm8E+hRQPxRSpBvYOehqz+WYYQJeJy8k4gED0\nvb/8XeDo14DVo9MZWN86gZNth67nYc0LnmNBeNEyH0qynMz3vggc/fpkj5VePUs4GUriRkA16pCZ\nYgB9LqGYItWgRq0REst8EPqfdaTJkFGZiJzKfNudLta8wIkyZT6vb22+TCPNjvQm/1zlZEuqVJ74\nCcgYKNuZmvfZfMxMzSUUU6QaTL3MF8s1TNGSl4PKfMKJltamvlPOL4DeUgsAgB2uD2F3QLd7bM2S\nLILIOFOzdtemTTibb/zfp52ZmvsoEWfzzSUUU6QazCozNYOwqNERwV8jYER/085pzzTMyZkSUqKF\nQEy9/0cui/SZclRJynxZSnXhd2feVUGMTGW+4G8tZvMxgD6XUEyRajC11gi9lghPvrKGcxs6SDzr\nMp8JoCeW+WblTE36NBJtNAEAOxsyWuYrS9POPMRU3co4Gcp8dgf0uaeu3485h2KKVIOpdUDv7ej+\n7689jSdPnO9//YKJlvnsPlODynzVykxB+WirQEzB70BAwoPpM6WdqVmftGfKTNX0YJnD2ny1cKY4\nm28uoZgi1WDqfaZ8tD1plS5mtJzMsLX5Bh20v/UfgW/8n/kPLKeFjoXqlfngd4PZfHpX5Ojn9Gd5\nQFUqONBN7ExNv9FrKcggElSdOqCXZTbfE38L/NXHZjuGOYJiilSDSJmvwL2tJVA8qcKp+rMr88X6\nTEXKfAPG9txdwHPfKG6AmQPovTJf4Eyp0Jky23mmvYayiqFpO4ZlIRRTcuzvRtgBXdSoz9SsxfZL\n3wGe+fvZjmGOoJgi1WAGrRE8X4ZrxQ17zTPrLbS6+R04k8t8Y8zmK2pqfl4BdOVbzlQn1hqhBB3Q\ns5bp6l7mA8YWkqa0FzTtzHNQJSTFPmU646hpP7SCoJgi1WDaYkp68KUKA9HDDg4f/MN78LlvH8tv\nCIlr85kyX4rMVJa8z1DMa+uQ8IRHPaGklZmKlfnCAHqWcWYkq7NUVzEVaaw73mdnvkqNOmSmylLm\nq2sLj4KgmCLVIMOOerzXiZb5TIZn2GuubraxutHJbQjjN+2MO1NdwO/mNp6Q0JlKGMtYzxP0lVLC\nDcp8SkJCAMK1xFSVnamSlHGmTcSZGu+9K2s239wf2ssSQJd6HzFrUTcnUEyN4NjZTfztIy/Pehhz\ny/3Pr+LeZ8+OvuPUWiP0esB4vgr7Hg06OCil0PUVvBynn0XKfHY7gr4ynx5bXDgVZt9brx13ycZA\nKD9wotwFwO/CgYJUZrbiPIipujpT1vsdu8wX/HVEDZypsnw/6ir6C4JiagRfevA4fvO/fn/Ww5hb\n/uAbR/GZO38w+o4zaNrpSWkF0JMPDuYg4OVYlzJ5oSAyFVubL40z5Xu9s848sZ0p4WBsZ+rxrwCt\nixBQgRPlNnWZL3CmlNNzpvxZxknM5zmpu1fbALr9Gx23zGetzTfrthhFo0ZHB6aC+X4Xsa+oIRRT\nI+h4Et2Z7tnnm9Sfr50dmmJmalSZz4zdy/E7YrcF8M14TGkt0hrB7AzjZb6CMlPxkuM422HjDPDX\nvwQ88bcQyoeCA+E2w9l8vi7zuSjDbD5mpiYiUwA9+OvUomlniQLo9l+SCYqpEXhSQqkSrBU2p3T9\noEw2knAl1MbUnKlupMyXfHAwjpSX5j2kHYL1XZO2mErbtFN6xWSm+pa2GeM9d7eDv14LQskgL+U0\nAdmFAwmpHMBxQjFV7dl8NS2fZCrzWWvzscw33XH4NfueFgTF1AjMgZ7uVDF4UqbLG4UNI5sF95nq\nhUPTzObz9fcj1zJfUn9SM5svTZ+pojJTw3pejcIqnQlIKOHoMp8HoXTZTzgw8ePZZqby6jNVs4NU\nDpNEXLcGYqpMs/nsvyQTFFMj8GUJzpTnGM9X6YSI2QG5jWJ3Qpbbk2Y2X1d/P3INoKskZ0oLmDQd\n0KfRGmFcZ8oaq1AyeD9OA5C9zJRd5itHawQ27RyLHPpMBU078xxUCSnNbD6KqTyhmBqBKd/kWcYh\nPTyp0n22oTNVdJnPzkxJOCMC6P7UynxjNO30u8UH0Md1pqywa1DmM2LKCzJTSkBFxFQZynzMTI2F\n/XmN+d7DDuhcTmZ6MICeKxRTI+jqX3Z37qeYzAbPl+nC29MSU9aOzvNVeHAfdHAIA+gFzOYDrNl8\nxg1KnM2X1LSzyNYIkzhTeofte0HpNCzz6dYIEIDjWLP5yiCmmJkai0iZb7zfqL3QcW2Wk4HCTKcu\nzmDd0XmGYmoE5kDPMl8xeDJtmW9azlS0aWcopga8ZuhM5fj9kJHZfNYsxtRlPr/4pp1izF2HCbnq\n5WOCAHoD8INmpxICgAMHvbYQM4N9piYjrzJfnmMqI9NqQDxyHBlbgJAIFFMjMAdJBtCLIX1mavpi\nypcqdEoGHRy6YRk4x9YIEWdKj8dxE5aTGRRA76KQs94srRFCZyoQT8LRzpTXDv7blPlECU5eGECf\njAxlPuNGOXVaTgaYrSs0qLUKmQiKqRF4YR+hOf+BzwhPpuwzZXY6bnNKy8n46EqJBoYfWItwpiKz\n+Ty9w3Ma/Y0yhwXQk27PTIbWCGYsWjzFnSk/Vuabj8xUzcon9vcty9p8814FiLSQmKGQqavoLwiK\nqRGEfYSYmSqErp82gG73mSqyNYI+mEsPSiF0SqbZtNPOjChjwbtNBG7QiMyUUtbtOdv34WtnCKD7\nbf0UTtDmwpT5rAC6EGURU8xMjUUOTTtrtTYfMNsyn08xlScUUyPwCugjRHr4UqUr6Uy5zCf1jmZU\nmc98L/IsS9nPJY0z5S4klPkSdoYZSi2pMUvbZHCm4DhBm4vQmQpmKzqQaDrOnLRGqNlByj7hnDQz\n5dSgNYKa/HPKlbp+TwuCYmoExpFima8Yur5MN1MyFFPulMRUIGJGB9CD21N1cU9JRJhpsRGU+VI0\n7bQv593ZOI/WCF5LP4fugO4ZZwpQWky9zn2VmakqoiZ3XMzWdmbtSk6DDLMe8x0HA+h5QjE1AnZA\nLxZPqnTL9Uy5NYL0g7+jWyPkXwaONO3sK/ONmM1nl/aKykxladqpxROEq1sj6AA6gjLf+50H8TXn\nf8VlajW/YY9L+LlNGOJnZmrs966UgiMApxZNO8uSmWIAPU8opkbgsQN6YSilrAD3iIOWOdN1msUd\npKQMxYrSro47ajmZIgLoic5Uc0iZb0BpL++dZF9rhEmWk7EzU24ornwVPKcrFFwo7Jbr+Y17XLJ8\nhlIi/FzqdpDKkAWSSkEIAdTBmSrNbD72mcoTiqkReKEzNec/8BlgC5CRZVTjyLjN4pwpayfXX+Yb\nFUAvaDafb2emUszm8we4VHkQ+dzHbI0QlvlMawQ3GkCHgLJ2R64qwSyn+OWiH1t11OR5PaVQI2eq\nLAF0dkDPE4qpEXA2X3HYAiS1mCoyM2UdAHrOVLrWCHk6l5EO0KGYaqC/zGfGNqC0l/sZZ5bWCNHM\nlArLfD1nSgk3vLurZriDzxLir7OYkpM7LlIBQgg4AlDzPp9vGpNEUo2jptm+gqCYGoFXwHIhJMAW\nqKPLfFPITFk7ObMmXq/Ml/yaRWTqIk07jZgaWuYbFEAvUWuEWJlPOLo1gtfLTAlvK7x7EzMUU36G\n3FmhYrbkZFpORulvVY3W5gMmy+TlhdleDKDnAsXUCEJnimW+3Ik4UyMD6FPoM5XgTDkjynxFOFO+\nVHAdoa9YAfSBZT575zyFALpwxnemTPkxUuZzQ3HlK4HF80fDuztlOGMHxhdEdXamMpT5pFJwtDM1\n95mpspT5wgB6zUR/QYwUU0KI/yKEOCOEeNy6bb8Q4k4hxFH995Jihzk7vAKWCyEBdkuEkc6O+cE7\njeJ2QNZORekdTWPEbD4vbI2Q72y+phuIKWW3Rkg1m6/AEkKW1gixMp8wCx2b/1YicncX0bGf3Wjj\n3GZn3BFPxqDZkakeW5ISzizINJsvyEyJWmSmSiK4WebLlTTO1J8CeH/stk8BOKKUug7AEX19LgkP\nlnPvPU+f8TNTotjMlCXSlO8DUHCEmZk1fG2+tM7Uha0O1lvDD9C+VGi6+qcpvV6JL83afMN21BeO\nZ3T1MrRGCAPopmmnDqCb/46JqQV4kWVFfuPL38NvfeWxSQY9PgygT0am2XyBkBL6a6DmWVGlmc3X\n2QQ2C24PUtRKCTVlpJhSSn0TwLnYzR8CcJu+fBuAD+c8rtLQO1jSmcobW4CMLvNJXV5yphNAl14v\nLwUMKfONJ7Z/5fPfxb/76pPDh6HQE1N+t+fgpJrNN6DMt3YS+P0bgGePpBpnIplaI0SXkxGOq0P1\n+mYISHcpvN6AHyn3nNvs4NzWtJwpBtAnIsk1TUnQGiGYzRdcz3NgJUOO3q/gyL8HPv9Pix2DGu66\nk/GYNDN1QCl1Ul8+BeBATuMpHeaAz9YI+WOXxlIF0KcppvyYmBoRQE/rTL260cbZjfbwYSiFhslM\nya7l4IzZZ8oWVlurwY5780yqcSYSfu6ifyyjMGOMt0Yw/w2Bxz56P/5p+7cBAE148K3n73gSHW9K\nJzS5ZaZqlkWJfA/H31YmMwXUyZka8DltnAY2Xi1uDEWulFBTGqPvMhyllBJCDPzmCyFuAXALABw4\ncAArKytZX3IoGxsbub5Guxt80Z586mmsbDyX2/MS4OX13o7kO/c/iFN73YH3fcOLL+CgAl498yp2\nb23igdg2zmO7L22fxE/qy+fOnum1RQDQbm3ivoTnf/rFQLD4UuGuu+4KGg8O4eL6Fpre1tCxbm5t\nhzpl9fRJXCqBe1dW8LaLFwEIPKof+xObG1gGcOH8anjbnotP4+36eb73yMM4/2LwHnavHcU7ADzz\n5GM4eWHwaw9j1/qzOATgsSeewHXtNi6cPImnU37m1zz/LF4PQHW3IQBcXFvHC8dfwdX6/7sSeODx\n53BG7QMALAgPd9/9TSzo7NjF9S20GiLxc8v7N//al36AN+rLD9x/H7Z2vpz6sctbL+Mn9OUXjj2H\nF5DfuMrOdcdfxFX68lNPPo7T516T+rHHT7TheR6OHTsGAFi5++7eCcUI8t7+RfPWs2dwqb783Ycf\nwNqz/Q1q33LqFexpbeDegt6X47dwk7787NFncKJVzOtMg7Js/0nF1GkhxJVKqZNCiCsBDDzdVUrd\nCuBWADh06JA6fPjwhC+ZjpWVFeT5GvLr/x8AhTdeex0Ov+vq3J6XAE++sgbc8y0AwNve/g687bX7\nBt+5cwQ42cCBK64Eui/1beNctvvZZ4H7g4uX7NsL92RP7C02G4nP/+y3ngeeegoA8J6bfqZXnhuA\ne+8R7Ni9jMOHf2rgfRbuO4LFpovV1iYuvWQvFro7gtd+YT+gZG8c320ALWDf7p29215cAB4JLt7w\n1rcA1+nbX1oCvgtc/8arcf1P9L+PVLy8B3gYeOtb3gocX8YVVxzAFWk/8+43gJcAod2+ffv34+o3\n7AReDP5bwcENb7sR3fsDw7sJH+9+z09j52Kwi3K/8w0sLLg4fPhn+p467988vvkQ8Hxw8cffcSNw\nxVvTP/bM08ADwcWrX3sVri54f1cqNm4HXgku/sj11+FHbjyc+qH/cOExLK6ewhvfeA1w9Bm856dv\nwlJz8MmVTe7bv2he+r0wOPP2t90AvD5hX3Dij4B1Vdz7al0Egl0vrr3m9bj2PQW9zhQoy/aftMz3\nVQA368s3A7g9n+GUC3u5E5b58ifSZ2rUbDglg9CycIvrzRLLuziRMt/w1ghAL0T/O//tSXzmzh8k\n3r/ry5Ez/3xrNp+IlPkwXp8pO1hqgt9+ltyR3RoB45X5YqUER7h6hqL+bwhIpdBFcABtwItkptJ8\nbrnBzFSIUgr/7LPfwZ1Pnh595wxNO+0O6Ob63JImgO63M/5WRzConQqZmDStEb4A4D4A1wshTggh\nPgHg0wDeJ4Q4CuDn9PW5I7LcCQPouWML1JFideoBdD9siyCFO3CnZ39HTKuH+55fxbePJucd0mR/\nfInobD4T1BYpWiMMCqCbHbM3PK81lHAyX4amnQbHjbRG8JWAlApdbZY34UU0c8dnZmoWdHyJe55d\nxfeOXxh9Z+kHJzvARLP5gpad+uHz3AXd/pwGCW6vEwiqolRlZD9R/e9pGRhZ5lNK/eKA/3pvzmMp\nHWM1lSRjY7s6IwPcSlrtAYpvjQBrNp90mnBGrM0HAL7+vnQ8ia1O8v07vkRnhMMilUJDiynhd4N1\n+YJrGN2007ps7zCNmMrU7dhujeCEO/ozay0sNl3sXW4Ofmjs7NdxXcDKxEgl4KuemFqIzebrehId\nZ0o9hjO1RpivPlNGwI76zgIIfj/uAuBtT+BMqYgzNde7W2l9ToNEp/m9Si9y0pHfGApcKaGmsAP6\nELqRMtQ8/7png13a65ZtNp/0wzKfdBZSlfnMe+h4Ehe2+ndQSqlUDotUCs2k2XyWgAn+L6nP1IAz\nzrDMl8WZiq3Np8XVx297EP/hjqeHPza2ww47oJuhQsCLOVO+ijqX0yvzsc+UIRRTaVxB6QONhd7l\nMQjKfL0+U3PdBV3Zn9OAzzUPJ3kYha6UUE8opobgR5pKssyXN92EvNFApiKmegcAYTlTvmgOPIO0\ny5NGWAViqhNpOmn+X6nR3dLtpp1i3DLfqHX6spyF9rVGCK6vbnSwOqLdQ3yH7cTKfAoCvq8g4UDC\nQUP0MlNpRWhuMDMVYhypdprPXvmAu9i7PAamz5SoQ2ZKpvicQie5oNzUnDmoZYBiagiR5U7m2nee\nDbZAHSlWTc7AcQtcTiZ6IHRF8DrSaQ7c4fgJ7mXbk5AKWG9HH2MOTCOdKanQbBgx1Yn2mRrVtHOQ\nS2UcqUxnusaZQqQDeqoeUH3OlNPXZ8rkEn3RCMp8+imLWEx6KFkEUVkWsc0Js13bXorfnPR6Jekx\nnSmpatRnKvI5DcpM5TFhZMQYki6TiaGYGoKX4DqQ/PBK1wE9uhxG1JmSiafL3YRcnTkAXYh17O56\n6WaG+kqF/ZWEb+14+8p8CZkpf5AzlcOZbvja0QB625OjnYsUzpT5/HzRCALoRqxpEeVJ1ef2FQIX\nOg5pj1vmM9t0zPeuUKMO6EqOLoeGTnJBYmrQRBUyMRRTQ4jkYVjmw+9+7Rl84k8fzO35ogH/EmWm\n3CAjZcSU5yz0xhAj2hpBn8X7RkxF3Zi2H+w4RztTvdl8QnWTy3xSInSKBpb2rMteHmUDuzXCmM5U\n32y+Riwz5YTfBymaaMDrtSWxnjtVEDorDKCHJGWmfvULj+B3v/ZM/52VBBqTlfmUsqJ4mHdnKk2Z\nzzjJU3CmGEDPhcwd0OeZyHInDKDjbx99OVdnwBZQo1sjKEtMFbQtzIHQXezPTAHBDsiJNhKM9MqS\nKsj36APP+ZgzZc+MUkoN7Jbu27P5zELHwTWMFFCDgqW5tEawAuh6LFIGeaaRzlRsh+26SWU+7Uw5\nTTThhS9nC6iOL1M3c5wYZqZC2gmz+Z54+SK22gnvLVK+Gk/0SqV0AL0GzpT0gOayvjzKmSoqgD5f\nLTzKwHw6U688Eqy6nZGxylBzzkurWzhxfhutHEPAY5VRp+FMmbPExgKgpCWm9DlHwk4n4q75KiIK\n486U+b9FdOAdf3jgMOzZfELGFjpWCWJqUGkv7zJfQmuEtDmweGsEESvzSYjQ2ZOigQXhh7P57Ofu\nTiOEnmWm05yJqSRnqtX10UrKUGUp89UpM2VaSACDhUzZMlNeGzjxUDFjmRPmTkw5fhv47PuARz6f\n+bm64wSk55x7njsLAGh38zuLGa8Dug84WkwVdSZldiqNJQirA7pnnKkESz7e2NU+g49npswB6UPu\nPWj8yc8D2+f7nk+pYMafKfM5dp8Zq7Q22Jka0Nk4z8yU1RqhnTag3JeZakScKQUn/Cyldqbiman4\n5cLIIzPlDm6nUSWSxHLbk2h3E7aD0pNExPiTRKRSOomnZ/NNPOIKIP3h5VClLCd5GmIqRZnv8a8A\nn3sfsHm2mPHMAXMnplx/O/hyJByoxsWnMxVyz7NaTOXoDJS2A7q7AGEF0D0x+CwyIrilihx0zvc5\nU8H/7cMGhPKBdv8Cp+Y712wYZ2pEma+xNDj/kNhnKouYirdGUOn7EMWWkxGO08uCIeZMOUFmypSU\n7c/YhPgLRXrB52ouj/VY424ujf/YEpLUtHPghAPp97JwE/SZCgLo+qnm2pmSw50p6SH8nZclgL59\nLhh362Ix45kD5k5MOVJ/+brbmZ8rerCvrzOllMJ9z60CCARDXi5dpDVCmQLojUVAemgg2NF5Q8p8\n8UkKtqi4uB0LoOv/W4K+vdvqfz59EAmdKdUd4EyZg/bikNJet/9ypjPdmDOlVOhIjZ7NF+uA3mhE\n1uazM1PSaeoO6MH/2QJqOs6U5RxMWuaLb5eKkiSW256f7ERKv7d+5rgBdChd5qtJZmpYawRbQBWW\nmRowA3gQ5njq9e+zSMD8iqkcOsfaB/s6t0bY7PhY3ezg0p3BDiAvd6p8rRH08zYWIZSfqswXb9pp\nH2TiAXQjyJeE+Y72C34zhIUwgN7tiY7IbD7LmVK+JbIGBdDzcKb6WyOkd6ZiAXTHjQXQnfA3pnRr\nhLAJqt/7TKfSuDOTMzXAMawo5rM3v3lfBrnA1sAynxN8X8ftMyWjHdDnOjNld4pP2pfZx66iZtqN\nmws0Y0o4ASQBcyemXH/wgWpcoq7DHP+4R7Ct15nbtyM4+BUipspU5mss6TKfLjPBhGqTnKnojE/7\nYB8PoJv/WzTOVILgN85UQ/eZcuyz2EFlPnts1ozEyE4ybI2QR9NORw/FzkyN1xohCKD3nCm7z5Ry\ndZkvDKBP2SG2xVSas/b4YwHtTM1BZiomlntO5CBnqhFkG8du2lmjDuh2p/ikz8k+4SlsOZkxRb9H\nZ2oUcyememW+7Bu9GwsX15VW14gp40zlc5CYuAM6VDF7Wysz5UgfTd0B3awXl7TT8aQKXSRPqoio\n6GvaaZwpDC5FGwHRcEyZzxs+my/uoEgvuJ+7MGA2X5blZPpbI9hT54e6CbHPznVjzpQSoaBWThNN\n4c82gE5nCgD6xLIJnidnprwMZb5ASNUiMzVWma8oZ8r+nqZ4DXM8zcGkmFfmV0zlsNHNAb7hiFqX\n+Yx42resnakki38CjBPhOiJFmc/qMwVkd6e8DvDZnwNeuMd6DSuHpHw03WBMYWYqaTafr7DY1GLK\n783m27ej2RdAN2f3vTJfv+A3oeuFhiWm7DJf6EzpsTRjB31flwXdRnKZL4/lZOzWCLFZXgOJHRQc\nx+3LTBmXTzlNLMCzMlPTbo3g93+u4zwWmMPMVLTcN3Q2n+NO0BpBwbE6oM+zloKUvROkJNHpTSEz\nZRzX5nI6F9EcT1nmG8j8iqk8nCl9przUdGsdQN/uBO99rxZTiT1mJsDzgx1o000jpmSsRXLG7bF1\nFjjxIPDKd3u3WWdrjvKxIEaX+TzZayJpz+a7fPdif2sE35T5BjtT4Wy+sMxnBdAxIDNlXzez/5xG\ncgA9U2bKDMNujWDlmYb9RmQXaCyHVx23Eesz5YROsHKbscyUJdjoTE2VeNNO41K3PL/fiZQyEFKT\nZKZiHdDn2plS9gSHWZf5FtO5X6EzRTE1iPkVUzlsdLMzX2q6te6AbsTT3h35OlNdKdFwHTQdZ7RY\ntTNT5noWOlvRv4CVN1qAo3w0HX0gGSqmFJaMMyV7s/kO7FnCWsuLlC9DZwqDv6PR2XwKrhqwNp+9\nM7THJrWT5cScqUJaI0RnLw79XvhW12cAjht1phQs99dZQAO9g3W0NcK0xNSQg92oxwJznJnS7qFK\nyJG9I3UAACAASURBVJFGynzjbSdVtw7ow1oj+FMMoDeWU2am9L4qh1ny88rcialeAD27mDI5qeUF\np9Z9psIA+nK+s/l8P+j03XBTlFHzFlPdrehfIHIgFPDRDJ2p4WW+pYYbXrbFFBBtj9BzpkwAPanM\nF/xtuk7Y5yrMFolhAXTLmXJ1Q8zE5WTybo2QMs8ko2LKTeiAbkRTnzNll/mmcVIjPSsgXG9nymxT\nqYIytu1E9mUnwzKfM/Z7D5ypXmZqrtt2SqsDelKZL+IoF+xMNVNmpjw6U6OYOzFVRJ+ppYbLADqA\nvcuBqMgtgC6DNegarpOiaafVwwbIftafKKZ6eZfAmRpd5uv6sTKfPvhcuivYWW5Ya5h145mpIX2m\nGo5AEyYQbxwcu8xnZXOAWJmv0Z9bybMDekJrBGBEd3zZ7Qk/AE4jGkCPOFNuNDMVDaBPwe0xXefF\n+Nmfec1MAehbg7HvpMr0mZqozBftgD7X567KLLsjkj+nSGuEojqgm+9pyswUy3wjmUMxZYK2OThT\nZvZVzct827HZfIk9Ziag60s0HIGGI1IsJzNFZ8pdjGSm2kOcKT9S5utliC7Rn9Vmuz9T1CvzJfWZ\nCl7TcQQW9GzCiDM1ajafr8WUO8CZyqU1Qn/TTmCEM+V7QHNHeNV1m30BdCOohdtEw5rNFw2gT8OZ\nskXBhM5UfDZlRYmXcVuWYG7FxbPSrREmmc2noAPowfW5zUyZk3IT1E90puzMVMEd0JtjtkZgAH0g\ncyim8gugm9Lecs0D6CYLE2amMjhT/+QPv43/tPIcgKAs1nCDMt9YTTvN9SwMy0wZZ0oEr9FVw1sj\nhM6U1QHdzHzc7lrOlHE6h3RANwcRVwgsGjFlZ6bCMp/JPAxypmIBdLNTVnJyVy+hNULqzJTsxsp8\nTqzPlNPr2eUuDFybb2oB9KTc2ViPbc5VZgrQzlR3hDMVzuabrAP63PeZMt8nxxnsfEZaIxS8Nl9j\nacwAOjNTg5hDMTU4jzIuxi1ZbDqDMz2bZ4H/+MPAK49mfr2y0sqxNcLRM+t49swGAF3mc4IA+tRb\nI5gysF0OtlojCMiwzBc6UwmlXk9KLCZkpvYlOFPtvgD64Nl8riOw4BhxYZf5RjXttMt89pIRecwQ\n6m+NYN7TzzsP4k1//Y8G75jjmalGdKHjYG2+aJnPfBaRZZ2mFUAPxdQEAfSkMmtF6cQmULSHiWep\nFyOfsAN6ltl8L1/Yxjt/5x/w1Mm1sR43dcw+Ztj3a9piKlVrBBNApzM1iLkTU66fY5nPms03MNNz\n/gVg/SRw5snMr1dWTADdtEaYNIDu+RKtrsSmzhF5UqLhiqDP1NhlvoynrmGZb7N3m2l46TThQIVl\ntmFlPs+Pl/l6faYAYKvTe0zfcjJDnCnHEViapMxnWik4zWiw1M8hh2EEbFjm6x1cf9R5EcsXn0te\nCFWpPjHV3xqh504K7UyZt5o65J4XWQRR2AV8AlerhMT7iKUKoAtn7DJf0AFdTNxn6jvPreLV9TZ+\ncLp/8fBSYYRLWOZL+D57UxRTzeUxA+h0pgYxd2IqzwC6XeYbGEBv6x9veyPz65UVk5EK+0wNCxoP\nYUs/brOjxZSvgsxUqgC6FlNO3pkp63sSHkSD11gSwU6mI4eX+ZbtMp8+2JvM1Fan95j+5WQSAujG\njBK2M5U0m29QAH3AwTwyQ2hSMRUPoPeEzk7oz7GdcDCLCz8AruvEMlNO+BsTbtAaoedMyTBLM7Wm\nnVkyU5M+toREMnGejOQl+7KTg1zRFChEM1PjiqnHXg5EvO0El5KwzKdF56gyX9F9ptJm+8KFjgsa\nzxwwv2JKdjNnFoxbstx0B5f5OlpEdUp+RpSB7a6PBdfBjgUzm2+yA5pxpGxnquk6aLoissZdItKP\nOVM5zebrxALootf/yDhTHQyeQej5stcBXdplvn5nquNJLDacXtPORDFlynzAgjA7vDGadvrdYEft\nxjI7Xrt336xlPiuA3gnFlH4vnYSTijDsagfQG/p5gs/WLvOJxkKwnIwef9cLZkwKMcW1+TJnpiYo\nEZaQuCs41JkyTTsnmAWplIKAmLjM1xNTJRewobs7JFtmXOTGUnHOlN8N3Ov4RJVBsM/USBqj71It\nQjEFBBt+cdfEz2XcksXmEOfEOFJz7Uz5WGw6WNRLnEwaQDdnjUZghAH0VMvJFBRAj8zmk70DIYBF\nLWZaavDSDyb3FSyJI6EU8M8a38DeoxcB7I04U11fYs+CwKLZeQ1Zm88RAotC6lP2YWW+pAB6M9hR\nR8oFXWBhV7BTzM2Z6s3m2yWMM5XwOzBlhEgAXe963Cbg+eFCx4G+Ct6v0iKs40ssNIJc3VQC6GZJ\nnjpnph78HLC4Bx3vYHhTX2YqflIV9plqTFDm05nssGlnejHlS4UnXgnE1EbZxZT5PjlDPidz8rGw\nq9gyXzhRZcRnppTlTDEzNYj5daaAzJakJ6Ve7sQZnOkJnan5FlPLTTeYru86mZ0ps8PrSgXXcdCY\nRQf0MIAec6asXlamHNdWxplKCKD7Ck1LEHY8iX/h3onF738eQL8ztadpPUdS005LTPU5U5HZfMOW\nk0kq87V7JxYT76AndKbCdQStzJQO7RuhaDJTjhC92Yt6nF1fYsF1sOg6YWuEB46dw5/cc2zC9zGC\nsFQ6SWYqg6tVJh78LPDIn6HjyzAT2PFSzOZzjOMyWQf0MDM1xmNPbqqw5Fh+Z8oSU2KAM2WOW4u7\nimuNMM533O8i3CJ0pgYyd2LKjdSbs234XlNJEa4b1kctMlN+OP1/seFMnJnqK/P5MuyAPrKPV+5i\nSgfPEzNTusynm2a2h2amgiVxgl5ZQQB9j9iCaK1huelGxZQvsbthPceQtflcR2BBxDqgj9W00wqg\nKxUIk4Xd+kUyOlNmGyB4vwuug51Ci6mkzJTf70w1zAxF/Vfq1giuEKF4NM5U29Pl4IYTNu388kPH\n8Zmv/2Cy9zGKTGW+DHmrMtG6CLQuouNJ7FrstUSx1+Xs2w+EJyOTdUAHTBIP/ev+DeHYxWAcQvTy\nmKXFfC5pynwLuwt0prrWSgkjAuj2cZTO1EDmTkxFZi1lnMbp6eVOms6Q1gjjZKZ8L2ij8L0vZhrX\ntGl1e2eni80MzlTHj/wNxGoQQE9V5rM7oCeIqZdWt/Cm//3v8cypFNvCCJnOZk8kKOvMGsCiDqBv\nmz5TA8t8wXvwtTO1C1tA+yJ2LLiRM+WOJ7HLtXb2Cc6pPZsvbNrpjjObzywnY5WojJgxztTEZ7v9\nrRE6nsTupQZ2mQB6ojNlemLZAXTjTBkxFYhRIQDR0O83dKYUFhoOFixnam27i/W2N3oZoknIEiKP\nCHI1lkPzu197Bh/54/vGe72iaK0BrbVw+wIpnKkMZb64MzXOZj2+LrHcdPG6/TuwUfoAut0aYVDT\nTlPm21nscjL2CcMw8WofRymmBjJXYuo/f/N5vHDe3vAZnSlfwnWCqfu+VMlnS6EzleIA3rpQyTYK\n27rMBwCLDXfiPlNGWHQ8ia4v4fkSDUe7OqMOOnFnKuGM7rmzG+h4MuxjNZSOdqaU39t52XkXWM5U\n2LQz+prBdwLhe+j6El3PC8RU6yJ2LLphWwkgKFftdO1GmknOVPDXFZYzlarMZwknpxEIqjCUbs50\nM5b5VLzMFwSSI2JqqDPVC6A3G/oz1a6bUkGZz3X6y3wdL5gA0WyIcLbkWit4zo1WAU5EmDvLmJky\n11Py9Kn1ckzt973g5LB1ER1fYteiFlM6gB5mJ21nSqneCU9Bs/nObXbwU//XETx2Itp+Y62jcGDP\nInYvNeanzOcuAI2F4hY6tgPowHCn395Psc/UQOZKTO1ZbmARXSgTbs2cmVLhbDNgwCKr4wTQt89H\n/1aEIICuxVTTiVj942CHQzfbXs+ZctKW+cTQPlMXt4Idz4XtFGLBLrGZ3JRdogHCWXctlXxgNALQ\ndHH3pYLobMCBAlpr2NlwImWHji+xU+egfLjJa/OFy8kAC47ekSaU+VbX9ZgTM1NaCJgdcdyZmvRs\nNzGALrFrqWGV+UZnpjwVBPYBRMp8JjMlQjGls3W+QrMh0HSdUExd3Pb035wPNkr1lkXJmpky11Ny\ncbuDi9vdcEmhmdHWjS9bF9Hp+qEz1datEfYk9ZuzHZcJlpMxfaYwZDbfsbObeOViC4+/EhVTG11g\n744F7FxoVCeAHpb5klojdIOFtt2FAlsj+FHRP0y0mTE4DfaZGsJcial9OxawhA78hb3BDRnDcr3l\nToKPKbGkYMp7aQLoFRZTeThT9sy2zY6v+0w5QcA/9Ww+0bse48JWR/9NszxCkpiKtkZoaGdq2zdl\nvuhrGgEYrC8YzPh0u8ZZUNi/0I027fQUdmiBtOXuHhpAd4XAAmId0K0y3x3fPxHclthnKlai8uLO\n1KQCJDmAvtRwrTJfUp+paGZKIhDQAKIBdNNPSospFQugB2U+7UxpEWUcqtyIlGEao/MkSY+3BPk4\nYurCVhdKAetFuG3jYMSU8uF429Eyn+dj12IDQsSdKSMSJu+AHjhTg2fzmd/3+a3oydJmV2HvchO7\nFivgTKWazdcOHCN3sThnyi5lm+uDMPvKpX10poYwV2Lqkh0LWBIddIyYyljf7cpeGcpc72MsZ+pC\n9G9FsDNTS01n4tYIdp4hcKZkMBPOzWehY+NWrKVxK+zO52ZnYTe8hF3mSy4telZYvKF7ZTW7PTFx\nWWM7IqbavgzF1Kaze3hrBEegOWRtvq2W1YsGsMSUmdZv9Y8xZb1FHUCf9Gx3gDO15KqwwWni78CP\nZqYkHLiuEVO9zJQvFRxHwNGZKbM0lAmgLzScvjJfqm09DnZTRUuQ/sX9L+LWbz6X+JA/vedYb2Zh\nJmeqG/k7M6wu9kv+RhhAN60RFhtBm5RkZ8oNbNUJynx2B/Sk6XzmJOli7GRpq6uwb7mJnYsVcKb6\nynwJ+z2/E5wkuc2xXeR/e/vj+ORffnf0He2VEsz1QZjj6PIldKaGMFdiat+OJhbRQauxJ7ghL2dK\ni6nEUtQ4AfTQmaqYmPJsZ2ryAPpWvMznqzCTlroD+hAxZcp7qZ0psyMx+SlzINSvsYAOfLjoStH7\nfwsjAJtuULbqShURU/sbrb7WCMtadGw4uxNFTVjms1sjRMp8waV2O3ivKnSmrLX53Ga0hGDEVNbM\n1ABnaq9jnbTo38O5zQ5+/UuPYr3V7QugS/ROUMKZewjaY7hCQDS0M+UFj+vqPlMLbnAfKVV40Mxd\neIRiKhri/8p3X8aXHzqR+JC/evgE/vrhE73HRzJT6UXFhe0xytRF0uqtb7fgbfScKT8QU0tNN3Co\nI2LKmqU2QZkvaNppr83Xf5/zA5ypja7Cvh2BmCq/M2XP5hsw69HrBL+LxuLYJz5Pn1rHq2spHtMn\n+odsL3McXb6EHdCHMHdiagndoIQCZHOm2hvwrZlaAJJD0rYzNWo6b+tC9C+CHMC5zRnvPEew3bFb\nI7hRe38M7PzQZtvvZdKGzZY02CvSA4k767HO7DtbwM7LgssDnKmm6kIJB20jpmKv6UuFHWjB1TM+\nPV9iweuJqUuc7b6mnTucYFtviF2JZ3lhmc8ZVOYLbut0gufZjLdt8PVO0k1ypvIMoAcuWdvzsdsW\nU/r38J3nV/GVR17Go8cv9JoCug34ogEfVmZKf9YKwecp7MyUFmEd3X6h6TroeBLrrd66ffmX+Wwx\npQVpewOr6y2sbiQfSFY3Oljd6PQen9aZ8tqha9fq+mHPrjI5U8tyoxdA92SQn2w4WGrGWqREFvAd\nP2smw9l8vetxzOdinyxJqbDVDZa62r1UAmfK6wyfLStjzlRima+jM1PNsct8ZzfauHTXwug7hvuJ\nNN9T25lqZV8XdU6ZLzG1vIBFdLABMwV8QjH14r3Af7gau1snIwH0oc6U8ke/XkJm6pf/7CH81lce\nm2ycUyLeZ2pSZ8ou8220PT2bT5f5xp3Nl1TmGyuAvgXsMGLKdqZ6a8Y14EEKF53QmYru+JxjK3hk\n8X/B7u7ZcMbngtcrc+1ztvudKd0IdEPsCl4v1n3Yns3XiC90rEtrra4PXz/uYseUIO0Aui5RmeeO\nZ6ayLidjynzamdrjWM+nfw+vrrd7f2XPYZOioTNTetxuLzPV9RVcp9cBXcheZqpX5lMRAbW2nfPB\nM56Z2jgD/O51+LHNe3F+q9tXjlZKYXWzjdXNdjDbNybIhx6k/vIjwH/7dQBRgZDKWS2Sds+Z2iO2\nsLzgwhFBn6m2J7GY6EyZnmimPDquM4VIB/Skw/X5hEzketuDQiCmdi400OrK0ZGBIvnKLwNf+Z8H\n/7/Zbw3rsO93gtK+uzh2mW91s4PLdi2OvmNc9A8NoBsxtS96nUSYKzG14CgsCB9rQh80Jg3LnXoc\nkF28pvOiLkNpZypxNt967ws5KjdlRFRnI/zynr7YwhV7l4Y8aPYEmalATC013Uxlvt36LHer46Fr\nzeYbXeZTKcp8/WeuA+luATsv1Ze1Q2TP4oJ2puD0xFTsLNI98zgWRRf7tl5C0w3ew5Lfc6b2iq1I\nabPrSyyJ4ICwFgr+qDsVmc0XdkA3malAwJzf6qCBYCzn2rESZGRav3GmzGy+PdHr4xKuK2a3RpDY\nrWfy+XDD1ghRMaVfz23CFw1IOKED0QugB+6kPZtPhK0RgjKfcaZs56a4Mp8WBedfALpbeL0XZKLi\nLvJay0PXV+j6KhB24wR7Tz0OnH6i731cKJEztQdbQfi/4eg+U76VmRoQQBfu2E11pVmbz7oe57z+\nXdtlPnMCtXe5iZ2Lwe92szOZc54Lp3vbNBFpfU4D+0x1grYI7nitEbq+xIWtbjpnahwH1RxHl7SY\nYhf0ROZKTJmNfF7uDK5PGpZbfwUAsLd7Fg27NULcPVEqOHjsuiK4bp3RJWJnpbYvYLPtYb3t4cCe\n8oopX6rIkhKLDWfiMt9G28Nr9gRnTZuhM+UETTtzCaCnDCVLGZxdGWeqY83mi4ipDpSwM1PR9y02\nTgIAdnbOhM7Uot8Ltu/GFra6ftifzM5MXUSy4I+W+ZKadkqc2+zAFT58JXDBnLj2BdCtmWi+tTyF\nfX1cEgLoHU+G6/JdcPcniym/VzqTwoWEEzoQ5rMO1uaTQamnacp8VmsENziAd30Z2b7Flvl0400A\nV4jgROjsRlRMnbVKf2c32+mzKF4b2DoLrAXfoQuWQEgTqn91vY1/ePJ0mnc0PlZmarfYCvNqHU8G\nszebbtC8t5uQmXIag7NAQ1Aq+HqHy8kMbX3SL6b37VgIy5Ezy00pFWzPtZODS2G2WB/aZ2oxEFRj\nuMhG6F+a1pmKBNCHlfmszBRAZ2oA8yWm9EZelbo54KTOlN7B7e2+Gix34gxojeC1gjOL3VpMjWqP\nYLdEaF3AqbVgfFfsTfHlnxEmF7Ec6TM1aQd0Dwd2B8JxQ2emTI+mdK0RhveZupCws03EtEIIM1NW\nnym7NYIyZb7k2XzO+qngadqvoqHD0TvkRuDQANiFTSiFcN2wji+xpHtXXUCy4LfX5jPuU3hg1gLm\n/GYXDUh4cHFuO7a8jPT1TtJ2pooKoAcz7cy6fOfdS3tlPi0yXt2wnCmnAakzUyFWmc+TKij1hM6U\nvdCx0O6fjJX5Cs5MaQ6IcwCA1c3owW3VElerGx1sttrB92VU086N072/0o86U1ujt89t976AX/7z\nh4KAf960LoYH2T3YCpyopouO38tMLTbcaL+5+JT/iZp2WmvzDQmgX9jqhGLLlPRNAB2YoZhqrwWR\nge7m4BPrvmzZgA7oYWuETuqMkhH2r0ntTLmjv6dA7zhqxBSdqUTmS0wZZ6qrFffEzpQWU95qeLAH\n0L8YrynrGTGVpsxnxMD2eZzWYsoIjDJixFQeAfStto/9uxbgiKDM5/m9APpoMaX79wzogK6UwsXt\njn7uXpg3EbMz2JEgpqwlaxroQgm3d/CPl/k2AzG13DqDhnamdsgNbDX2AY1l7FKBS2VC6B1Phosn\nX1Ba8MfOPO3ZfM2+5WSCJVxWN9tw4cOHi3Pb1iw+QHc2doPHKKldOCOmjIDLGECPOVM7dY+pVbE/\n/A0YZ+rshpWZ0mU+FRZzECnzeb6CK3qtESJlPiuAbnJS+3cuFD+bT3MgdKbiYqp3/fRaC8fPruH5\nc63R5RN9wgblA5uvhicAjkhXunzx3BaUAo6fK+DA1roI7LwMylnAHrEZOlNtqzXCUtyZCst8k83m\nC5p2Dp/NZ06Wur4Ks4gXrDKfcaZmFkLXJ1d9l23iTTsH9Zlq6KadUKldPiPsUzlT8Q7oYzlTnNGX\nxHyJKb2RL3ScoEHgpBtdi6l9/tlIn6m+zJRph7D7Sn19hJhqXQD2HAwu22KqxJkp40JF+0xNGkD3\nsGuhEXYq9mSK5XoMI8p8HT/YyV65N2gMOfSAFDpTl0avx0o0DdmBEk5PTMV2OA0jptpnAmdKKuyQ\nm2i7O4GlPViWRkwFO8yuL7Go2y2sS73Nu8nOlOsINJGUmZI4v9nRzpSD1dCZsjNTseVMTFmvsRTs\nQHNyppSS6PgSO1TwHs6K/cFZuZSxMl+vk7sPF1IMcqZ0mU+3exCy1xrBBNBtZ+rgJctYy7vBZdxh\n0Zgy3+qQMt/3jl+Ao3ystdVoMaWjBACAtVfCEtaVe5dxYauLz3z9mV67hQReOrcV+RvhubuA2z85\n+ayr9kVgaS/8hd3YjaDMt2gyU57EYiMpgG5/buMvJ2Nm8/XEVHLTTiOYjEsVlvmWbWdqRpmptVeS\nL9vEZ/MNbI2gl5MBUv9ejWt66c4JMlNpOqAv6cwle00lMmdiyjhTbqDsJ7Uj9Vnjfv9spAN6n3vS\n50yN6DW1fR7Yf7W+fAGnLgZf0itKnJkya8vZzpQn1UQzZrY6PnYuNrBzsYEt0xrBEb3ZkkPcqc12\nF6fXOwPF1EY3eOzrLw0cn4vDZvQZ8bS0L3i+vsyUKfN1tDOV0DNIKTS3zgRPs30aTSdo2rlTbaLd\n2A0s7cWyH3w/NjtBPkwqYEG10XUWsWVaGsTyB/ZsviY8SAir3BS4Qee2umgIH1K4WN2KOVN2AN1c\nD5tm6rPdzK0RHC2mguvLWkydUcGZq2yvhyIjOpuvAV+4kOiVzyKZKT9o2mn6TAnZc/RMAL2tA+hC\nAD+0d7ngMl9PTF2KNSwILyEzFVwXAnjwxfNwIbHewejMVMTFOImL2124jsBVlwRi6rPfPoYvPvDS\nwGGe0CLqxPkEMfX9LwGPfL5XShyXlhFTe7BHxALono+lZkIAva9z/Piz+aKZqej/dzyJzY6Pay4L\n3NWwgafe/nusAPrsnKmTyZdtVIpyaDibT4uilKbA2fVxMlPxWacj+kw1lnoNgtkFPZH5ElN6I6+2\nHajG0mRBufZ66Djtl6vBciehMxUTEMaJSuNMKRUE0C+5JriunandWlyUlUiZz+9ipwh+2OO6U0op\nbHY87Fp0sXPRxXo7WDqj4To9sTpgRt+ZtRY6/397Zx5nWVne+e9zzrlL3Vq7qnqpbnphaZpFQ1hk\naXRAJSAfhhi3CWYMDjI6hsFRM8SIk4D5fJwZFTKuJJpEFJ1EhaBGIiRGQitCRBAFZKCh6W666a26\nuruqbt393PPMH+ece2/druqupatre76fT3+qbvVd3nvec973d37P8z5vxeeF/ty4YiofjZ91MTUB\nZyrZConWhjpTYR6BRhO8q+Hjepiv4TPzB3Cipfupwr6waKevtJGnkgjFVCoSU/lytbZaMUkZ30mR\nCyJ7vdmZaljN50m1LuSgFuY7lCuTcRUVj4F8Q85UUAUiV6SxsnE8GLuJaPPUaTpTUZgvFlNpzePj\ncShKqh8aGsQPlCWZRFhOoBJ9nutR5QhhvkDDLUVqoYcyQaC1emSNCegd6QRdmcQMh/nqx94R5Yz2\nwuFhvlyJJZkESzJJnt01hEeV4bJS0bHdzBpNLsZgoUxnS4KulgTP7RkmX66yeV92TLc2V/I5ECUb\nj+lMxRupT3VD9eIwpDvxkx01ZyrpORQq4XkcOlNOLRcQaFrN50yhaGdzztTo7x3nRq0bQ0wlnXB8\nmvUE9Mk4U7Uw31gV0EujxdQEV/QN5EokXYeO9ATmk6AS1piqiamjlEbw0rXtoMyZGpuFJaaiTi5o\nksBNT82Ziu8Yl5xIlw6RlCquIzgEE3CmjiCmyrnwhF2yLnxcHGTfcJFlHXM3+RyaEtAf+AhvefI6\nYPJiKl+uogqZSDzGg6HryJG36wGe2TWEQ8BAzh/fmSqHfbOme/RgOyaxE5VoCf/FdaY0CN2TaCJ0\ng9CZCmq7rzZMENGd5/ZgOclCPwlHKFSqtMdiKtVRK+CZL9VzuJJawndSjFQjwdDsTDWE+Tyt4tMw\nMDas5sskFHU8DuQaNjNuXtYftzkWT9PdPLWpNIJG/ZUO8pTcDEPV8FweHAyTtc9YGYYFRgrRdehE\npRHGCfNBOKG6ifB9nKBS2z6msTTCcNGno8WjoyUxA6v56snycdv2J1YCcHI6e1jhzgMjZXraUvS0\nJvEDxZUAXx325xucwrHI7oHO1eGkmt3LUMEPxVQmQTYSA9miz56hw28Idza4UTubxVRQhf2bw9/3\nTVVMDUGqg4rXFjpTUc5UHFJNJZyoRMp4CehTC/MdqQJ6fD2fGN0sNSajtybCF7XOhZypdBekO8fP\nmRq1ncw42+5UK/XSCDDh1bfhuZisr5Q9EpMqjVAIx0lzpo7IwhJTUSeXNIHvTr4UP1C/o1h1Lg5K\ntx6ipbCHZ1LX077jwdHPjVdsTCTMF6/ky/RAqhMKh9g7PD9qTAGkPQee/wHdIy+wiv2T3p8vrn7e\nmgpzpuLBMXG07XqAp18ZwkE5kPeJ862b73xzTWG+I4qpWGQnWiGZOcyZqkYJ6G6UMwUS/mwccKJQ\n8FN6Mk5QoVNDN6FD8viRM5WoxM6UT6katjehFapOihF/7DBf82o+XxrvMqMwX65MxgUVl0MFwQ41\npwAAFlJJREFUv75yryHRe1Rl45qYalghNBW02Zmqi6myk2E4ygMbjsVUXySm8sXa51dx0cZhp2Fv\nvvh718J81Upt0Uccago0XALekU7QkQ6LNFaOtnhhMjSHq4AXExsAWJccrjlCMQMjJXrbkrXaPgmq\n+LjsGT6amNoLnSdA23LI7mEwHzpTnS2JUU/bvO/wMSVOOu/rTLPzUNMN48Ft9XOq/7kJfeXDKIXO\nVCUR5kylImcqXjmYHnNvvgZHb7xcoCNQd6aix01lO+PrueZMNdSUa40O2ewnoO+BjpXQvnL8MN+o\n7WTGy5mKnKl4q6gJLhiZcPXzuB0TTkAvNTlTJqbGYlpiSkTeJCKbRWSLiHz0WDVqykSdXCRJRVJT\nsyPji2DVuQD06gF6X/4BrVJixdZ7Rz83DuulO8FrOXKYL95CpmVJWEm2MMi+oeKcrjEFdWeqK7e1\nloOx0X129EqeCRAnhbYmwzBfHJ6J60zBONv1AL+OnKkAh20H4gKbo5+b85tzpo4kpiInKtECicxh\ne/P50WXhEEAsZpp3eI8SiJ8KTgagWwfIl306iMVUB245FNuNYb5EUKLqpsjGOVPNdaYaV/PhNzlT\nYbsO5Uq0eGE472CuXBdT1QZXpTGxNBZPXmqaYb64HTIqZypZzVN2MwxGzlR2OLxxiJ2pXKFYa5eP\nFwnUiNrefOEs6jpSuyMX9evHzRUS0XlyIFcaJTyOacHwMdy9p6M+PsEdZCA7tjMVV51Ou0oVh13D\n5dHv18zw7jA9oKMPhnczXKjQlUnQlQm/e3eURLx57+FiKg7tbTy5l50H86NDYv1RwchMT/33yaAa\n5Ux1UI6dKdeNxFTsTLmkEu74q/mar5UJEKiOqoDerI9jJ6ompnL1BPTYmUp54WKhWQ3zNfTpmDSL\n9TFX81XqLjJMPAF9ZILVz6G+nUxtnDjKar5GZ2qGxFS+7HP34ztnt4L9NJiymBIRF7gDuBI4A3in\niJxxrBo2JUaJqeTU7Mi