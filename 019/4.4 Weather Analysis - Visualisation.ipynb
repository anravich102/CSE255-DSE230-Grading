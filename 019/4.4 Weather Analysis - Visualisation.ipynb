{
 "cells": [
  {
   "cell_type": "markdown",
   "metadata": {
    "run_control": {
     "frozen": false,
     "read_only": false
    }
   },
   "source": [
    "### Visualizing the distribution of the observations\n",
    "\n",
    "### Load the required libraries"
   ]
  },
  {
   "cell_type": "code",
   "execution_count": 30,
   "metadata": {
    "run_control": {
     "frozen": false,
     "read_only": false
    },
    "slideshow": {
     "slide_type": "slide"
    }
   },
   "outputs": [
    {
     "name": "stdout",
     "output_type": "stream",
     "text": [
      "Populating the interactive namespace from numpy and matplotlib\n"
     ]
    },
    {
     "name": "stderr",
     "output_type": "stream",
     "text": [
      "/Users/himanshujaiswal/anaconda/envs/py27/lib/python2.7/site-packages/IPython/core/magics/pylab.py:161: UserWarning: pylab import has clobbered these variables: ['f']\n",
      "`%matplotlib` prevents importing * from pylab and numpy\n",
      "  \"\\n`%matplotlib` prevents importing * from pylab and numpy\"\n"
     ]
    },
    {
     "ename": "ValueError",
     "evalue": "Cannot run multiple SparkContexts at once; existing SparkContext(app=pyspark-shell, master=local[4]) created by __init__ at <ipython-input-3-c66082553228>:13 ",
     "output_type": "error",
     "traceback": [
      "\u001b[0;31m---------------------------------------------------------------------------\u001b[0m",
      "\u001b[0;31mValueError\u001b[0m                                Traceback (most recent call last)",
      "\u001b[0;32m<ipython-input-30-c66082553228>\u001b[0m in \u001b[0;36m<module>\u001b[0;34m()\u001b[0m\n\u001b[1;32m     11\u001b[0m \u001b[0;32mfrom\u001b[0m \u001b[0mpyspark\u001b[0m \u001b[0;32mimport\u001b[0m \u001b[0mSparkContext\u001b[0m\u001b[0;34m\u001b[0m\u001b[0m\n\u001b[1;32m     12\u001b[0m \u001b[0;31m#sc.stop()\u001b[0m\u001b[0;34m\u001b[0m\u001b[0;34m\u001b[0m\u001b[0m\n\u001b[0;32m---> 13\u001b[0;31m \u001b[0msc\u001b[0m \u001b[0;34m=\u001b[0m \u001b[0mSparkContext\u001b[0m\u001b[0;34m(\u001b[0m\u001b[0mmaster\u001b[0m\u001b[0;34m=\u001b[0m\u001b[0;34m\"local[4]\"\u001b[0m\u001b[0;34m,\u001b[0m\u001b[0mpyFiles\u001b[0m\u001b[0;34m=\u001b[0m\u001b[0;34m[\u001b[0m\u001b[0;34m'lib/numpy_pack.py'\u001b[0m\u001b[0;34m,\u001b[0m\u001b[0;34m'lib/spark_PCA.py'\u001b[0m\u001b[0;34m,\u001b[0m\u001b[0;34m'lib/computeStats.py'\u001b[0m\u001b[0;34m]\u001b[0m\u001b[0;34m)\u001b[0m\u001b[0;34m\u001b[0m\u001b[0m\n\u001b[0m\u001b[1;32m     14\u001b[0m \u001b[0;34m\u001b[0m\u001b[0m\n\u001b[1;32m     15\u001b[0m \u001b[0;32mfrom\u001b[0m \u001b[0mpyspark\u001b[0m \u001b[0;32mimport\u001b[0m \u001b[0mSparkContext\u001b[0m\u001b[0;34m\u001b[0m\u001b[0m\n",
      "\u001b[0;32m/Users/himanshujaiswal/spark-2.1.0-bin-hadoop2.7/python/pyspark/context.pyc\u001b[0m in \u001b[0;36m__init__\u001b[0;34m(self, master, appName, sparkHome, pyFiles, environment, batchSize, serializer, conf, gateway, jsc, profiler_cls)\u001b[0m\n\u001b[1;32m    113\u001b[0m         \"\"\"\n\u001b[1;32m    114\u001b[0m         \u001b[0mself\u001b[0m\u001b[0;34m.\u001b[0m\u001b[0m_callsite\u001b[0m \u001b[0;34m=\u001b[0m \u001b[0mfirst_spark_call\u001b[0m\u001b[0;34m(\u001b[0m\u001b[0;34m)\u001b[0m \u001b[0;32mor\u001b[0m \u001b[0mCallSite\u001b[0m\u001b[0;34m(\u001b[0m\u001b[0mNone\u001b[0m\u001b[0;34m,\u001b[0m \u001b[0mNone\u001b[0m\u001b[0;34m,\u001b[0m \u001b[0mNone\u001b[0m\u001b[0;34m)\u001b[0m\u001b[0;34m\u001b[0m\u001b[0m\n\u001b[0;32m--> 115\u001b[0;31m         \u001b[0mSparkContext\u001b[0m\u001b[0;34m.\u001b[0m\u001b[0m_ensure_initialized\u001b[0m\u001b[0;34m(\u001b[0m\u001b[0mself\u001b[0m\u001b[0;34m,\u001b[0m \u001b[0mgateway\u001b[0m\u001b[0;34m=\u001b[0m\u001b[0mgateway\u001b[0m\u001b[0;34m,\u001b[0m \u001b[0mconf\u001b[0m\u001b[0;34m=\u001b[0m\u001b[0mconf\u001b[0m\u001b[0;34m)\u001b[0m\u001b[0;34m\u001b[0m\u001b[0m\n\u001b[0m\u001b[1;32m    116\u001b[0m         \u001b[0;32mtry\u001b[0m\u001b[0;34m:\u001b[0m\u001b[0;34m\u001b[0m\u001b[0m\n\u001b[1;32m    117\u001b[0m             self._do_init(master, appName, sparkHome, pyFiles, environment, batchSize, serializer,\n",
      "\u001b[0;32m/Users/himanshujaiswal/spark-2.1.0-bin-hadoop2.7/python/pyspark/context.pyc\u001b[0m in \u001b[0;36m_ensure_initialized\u001b[0;34m(cls, instance, gateway, conf)\u001b[0m\n\u001b[1;32m    270\u001b[0m                         \u001b[0;34m\" created by %s at %s:%s \"\u001b[0m\u001b[0;34m\u001b[0m\u001b[0m\n\u001b[1;32m    271\u001b[0m                         % (currentAppName, currentMaster,\n\u001b[0;32m--> 272\u001b[0;31m                             callsite.function, callsite.file, callsite.linenum))\n\u001b[0m\u001b[1;32m    273\u001b[0m                 \u001b[0;32melse\u001b[0m\u001b[0;34m:\u001b[0m\u001b[0;34m\u001b[0m\u001b[0m\n\u001b[1;32m    274\u001b[0m                     \u001b[0mSparkContext\u001b[0m\u001b[0;34m.\u001b[0m\u001b[0m_active_spark_context\u001b[0m \u001b[0;34m=\u001b[0m \u001b[0minstance\u001b[0m\u001b[0;34m\u001b[0m\u001b[0m\n",
      "\u001b[0;31mValueError\u001b[0m: Cannot run multiple SparkContexts at once; existing SparkContext(app=pyspark-shell, master=local[4]) created by __init__ at <ipython-input-3-c66082553228>:13 "
     ]
    }
   ],
   "source": [
    "import pandas as pd\n",
    "import numpy as np\n",
    "import sklearn as sk\n",
    "import urllib\n",
    "import math\n",
    "%pylab inline\n",
    "\n",
    "import findspark\n",
    "findspark.init()\n",
    "\n",
    "from pyspark import SparkContext\n",
    "#sc.stop()\n",
    "sc = SparkContext(master=\"local[4]\",pyFiles=['lib/numpy_pack.py','lib/spark_PCA.py','lib/computeStats.py'])\n",
    "\n",
    "from pyspark import SparkContext\n",
    "from pyspark.sql import *\n",
    "sqlContext = SQLContext(sc)\n",
    "\n",
    "import sys\n",
    "sys.path.append('./lib')\n",
    "\n",
    "import numpy as np\n",
    "from numpy_pack import packArray,unpackArray\n",
    "from spark_PCA import computeCov\n",
    "from computeStats import computeOverAllDist, STAT_Descriptions\n",
    "\n",
    "### Read the data frame from pickle file\n",
    "\n",
    "data_dir='../../Data/Weather'\n",
    "file_index='SSSBSBBB'\n",
    "\n",
    "from pickle import load\n",
    "\n",
    "#read statistics\n",
    "filename=data_dir+'/STAT_%s.pickle'%file_index\n",
    "STAT,STAT_Descriptions = load(open(filename,'rb'))\n",
    "print 'keys from STAT=',STAT.keys()\n",
    "\n",
    "#read data\n",
    "filename=data_dir+'/US_Weather_%s.parquet'%file_index\n",
    "\n",
    "df=sqlContext.read.parquet(filename)\n",
    "print df.count()\n",
    "df.show(5)"
   ]
  },
  {
   "cell_type": "markdown",
   "metadata": {
    "run_control": {
     "frozen": false,
     "read_only": false
    },
    "slideshow": {
     "slide_type": "slide"
    }
   },
   "source": [
    "### Select data for a particular station and measurement type"
   ]
  },
  {
   "cell_type": "code",
   "execution_count": 9,
   "metadata": {
    "run_control": {
     "frozen": false,
     "read_only": false
    },
    "slideshow": {
     "slide_type": "subslide"
    }
   },
   "outputs": [
    {
     "name": "stdout",
     "output_type": "stream",
     "text": [
      "SELECT * FROM weather\n",
      "\tWHERE measurement='PRCP' and station='USC00266782'\n",
      "19 rows\n",
      "+---------+--------+---------+-----------+-----------+------+--------------------+------+--------+\n",
      "|elevation|latitude|longitude|measurement|    station|undefs|              vector|  year|   label|\n",
      "+---------+--------+---------+-----------+-----------+------+--------------------+------+--------+\n",
      "|   1369.5| 39.5333|-119.8167|       PRCP|USC00266782|     3|[80 4A 20 50 00 0...|1894.0|SSSBSBBB|\n",
      "|   1369.5| 39.5333|-119.8167|       PRCP|USC00266782|    33|[00 00 00 00 00 0...|1895.0|SSSBSBBB|\n",
      "+---------+--------+---------+-----------+-----------+------+--------------------+------+--------+\n",
      "only showing top 2 rows\n",
      "\n"
     ]
    },
    {
     "data": {
      "text/plain": [
       "(19, 365)"
      ]
     },
     "execution_count": 9,
     "metadata": {},
     "output_type": "execute_result"
    }
   ],
   "source": [
    "sqlContext.registerDataFrameAsTable(df,'weather')\n",
    "Query=\"SELECT * FROM weather\\n\\tWHERE measurement='%s' and station='%s'\"%('PRCP','USC00266782')\n",
    "print Query\n",
    "df1 = sqlContext.sql(Query)\n",
    "print df1.count(),'rows'\n",
    "df1.show(2)\n",
    "rows=df1.rdd.map(lambda row:unpackArray(row['vector'],np.float16)).collect()\n",
    "T=np.vstack(rows)\n",
    "T=T/10.  # scaling to make the temperature be in centingrates\n",
    "shape(T)"
   ]
  },
  {
   "cell_type": "markdown",
   "metadata": {
    "run_control": {
     "frozen": false,
     "read_only": false
    },
    "slideshow": {
     "slide_type": "slide"
    }
   },
   "source": [
    "### Script for plotting yearly plots"
   ]
  },
  {
   "cell_type": "code",
   "execution_count": 10,
   "metadata": {
    "run_control": {
     "frozen": false,
     "read_only": false
    },
    "scrolled": false,
    "slideshow": {
     "slide_type": "subslide"
    }
   },
   "outputs": [
    {
     "data": {
      "image/png": "iVBORw0KGgoAAAANSUhEUgAAAlMAAAGNCAYAAAA1nfQqAAAABHNCSVQICAgIfAhkiAAAAAlwSFlz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\nddJ45uwz+OxTn8XIH6XXTKlgqqgylVwo0V