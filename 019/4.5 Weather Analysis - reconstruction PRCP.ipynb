{
 "cells": [
  {
   "cell_type": "code",
   "execution_count": 1,
   "metadata": {
    "collapsed": true,
    "run_control": {
     "frozen": false,
     "read_only": false
    }
   },
   "outputs": [],
   "source": [
    "#setup\n",
    "data_dir='../../Data/Weather'\n",
    "file_index='SSSBSBBB'\n",
    "m='PRCP'"
   ]
  },
  {
   "cell_type": "markdown",
   "metadata": {
    "run_control": {
     "frozen": false,
     "read_only": false
    },
    "slideshow": {
     "slide_type": "slide"
    },
    "variables": {
     "m": "PRCP"
    }
   },
   "source": [
    "# Reconstruction using top eigen-vectors\n",
    "For measurement = {{m}}"
   ]
  },
  {
   "cell_type": "markdown",
   "metadata": {
    "run_control": {
     "frozen": false,
     "read_only": false
    },
    "slideshow": {
     "slide_type": "skip"
    }
   },
   "source": [
    "## Load the required libraries"
   ]
  },
  {
   "cell_type": "code",
   "execution_count": 2,
   "metadata": {
    "collapsed": true,
    "run_control": {
     "frozen": false,
     "read_only": false
    },
    "slideshow": {
     "slide_type": "skip"
    }
   },
   "outputs": [],
   "source": [
    "# Enable automiatic reload of libraries\n",
    "#%load_ext autoreload\n",
    "#%autoreload 2 # means that all modules are reloaded before every command"
   ]
  },
  {
   "cell_type": "code",
   "execution_count": 3,
   "metadata": {
    "run_control": {
     "frozen": false,
     "read_only": false
    },
    "slideshow": {
     "slide_type": "skip"
    }
   },
   "outputs": [
    {
     "name": "stdout",
     "output_type": "stream",
     "text": [
      "Populating the interactive namespace from numpy and matplotlib\n",
      "    pandas as    pd \tversion=0.19.2 \trequired version>=0.19.2\n",
      "     numpy as    np \tversion=1.12.1 \trequired version>=1.12.0\n",
      "   sklearn as    sk \tversion=0.18.1 \trequired version>=0.18.1\n",
      "    urllib as urllib \tversion=1.17 \trequired version>=1.17\n",
      "   pyspark as pyspark \tversion=2.1.0+hadoop2.7 \trequired version>=2.1.0\n",
      "ipywidgets as ipywidgets \tversion=6.0.0 \trequired version>=6.0.0\n"
     ]
    }
   ],
   "source": [
    "%pylab inline\n",
    "import numpy as np\n",
    "\n",
    "import findspark\n",
    "findspark.init()\n",
    "\n",
    "import sys\n",
    "sys.path.append('./lib')\n",
    "\n",
    "from numpy_pack import packArray,unpackArray\n",
    "\n",
    "from Eigen_decomp import Eigen_decomp\n",
    "from YearPlotter import YearPlotter\n",
    "from recon_plot import recon_plot\n",
    "\n",
    "from import_modules import import_modules,modules\n",
    "import_modules(modules)\n",
    "\n",
    "from ipywidgets import interactive,widgets"
   ]
  },
  {
   "cell_type": "code",
   "execution_count": 4,
   "metadata": {
    "collapsed": true,
    "run_control": {
     "frozen": false,
     "read_only": false
    },
    "slideshow": {
     "slide_type": "skip"
    }
   },
   "outputs": [],
   "source": [
    "from pyspark import SparkContext\n",
    "# sc.stop()\n",
    "\n",
    "sc = SparkContext(master=\"local[4]\",pyFiles=['lib/numpy_pack.py','lib/spark_PCA.py','lib/computeStats.py','lib/recon_plot.py','lib/Eigen_decomp.py'])\n",
    "\n",
    "from pyspark import SparkContext\n",
    "from pyspark.sql import *\n",
    "sqlContext = SQLContext(sc)\n",
    "\n",
    "\n",
    "\n"
   ]
  },
  {
   "cell_type": "markdown",
   "metadata": {
    "run_control": {
     "frozen": false,
     "read_only": false
    },
    "slideshow": {
     "slide_type": "slide"
    }
   },
   "source": [
    "## Read Statistics File"
   ]
  },
  {
   "cell_type": "code",
   "execution_count": 5,
   "metadata": {
    "collapsed": true,
    "run_control": {
     "frozen": false,
     "read_only": false
    },
    "slideshow": {
     "slide_type": "fragment"
    }
   },
   "outputs": [],
   "source": [
    "data_dir='../../Data/Weather'\n",
    "file_index='SSSBSBBB'"
   ]
  },
  {
   "cell_type": "code",
   "execution_count": 6,
   "metadata": {
    "run_control": {
     "frozen": false,
     "read_only": false
    },
    "slideshow": {
     "slide_type": "subslide"
    }
   },
   "outputs": [
    {
     "name": "stdout",
     "output_type": "stream",
     "text": [
      "keys from STAT= ['TMIN', 'TOBS', 'TMAX', 'SNOW', 'SNWD', 'PRCP']\n"
     ]
    }
   ],
   "source": [
    "from pickle import load\n",
    "\n",
    "#read statistics\n",
    "filename=data_dir+'/STAT_%s.pickle'%file_index\n",
    "STAT,STAT_Descriptions = load(open(filename,'rb'))\n",
    "measurements=STAT.keys()\n",
    "print 'keys from STAT=',measurements"
   ]
  },
  {
   "cell_type": "markdown",
   "metadata": {
    "run_control": {
     "frozen": false,
     "read_only": false
    },
    "slideshow": {
     "slide_type": "slide"
    }
   },
   "source": [
    "## Read data file into a spark DataFrame\n",
    "We focus on the snow-depth records, because the eigen-vectors for them make sense."
   ]
  },
  {
   "cell_type": "code",
   "execution_count": 7,
   "metadata": {
    "run_control": {
     "frozen": false,
     "read_only": false
    },
    "scrolled": true,
    "slideshow": {
     "slide_type": "subslide"
    }
   },
   "outputs": [
    {
     "name": "stdout",
     "output_type": "stream",
     "text": [
      "+---------+--------+---------+-----------+-----------+------+--------------------+------+--------+\n",
      "|elevation|latitude|longitude|measurement|    station|undefs|              vector|  year|   label|\n",
      "+---------+--------+---------+-----------+-----------+------+--------------------+------+--------+\n",
      "|   1368.2| 39.6372|-119.7094|       PRCP|USC00267691|     0|[00 00 00 00 00 0...|2010.0|SSSBSBBB|\n",
      "|   2194.0| 39.3167|-120.3333|       PRCP|USW00023226|     0|[38 58 00 4D 00 0...|1949.0|SSSBSBBB|\n",
      "|   2194.0| 39.3167|-120.3333|       PRCP|USW00023226|     0|[00 00 38 5B 00 4...|1950.0|SSSBSBBB|\n",
      "|   2194.0| 39.3167|-120.3333|       PRCP|USW00023226|    48|[00 00 00 00 80 4...|1951.0|SSSBSBBB|\n",
      "|   1324.1|   39.15|-119.1833|       PRCP|USC00268820|     0|[00 00 00 00 00 0...|1893.0|SSSBSBBB|\n",
      "+---------+--------+---------+-----------+-----------+------+--------------------+------+--------+\n",
      "only showing top 5 rows\n",
      "\n"
     ]
    }
   ],
   "source": [
    "#read data\n",
    "filename=data_dir+'/US_Weather_%s.parquet'%file_index\n",
    "df_in=sqlContext.read.parquet(filename)\n",
    "#filter in \n",
    "df=df_in.filter(df_in.measurement==m)\n",
    "df.show(5)"
   ]
  },
  {
   "cell_type": "markdown",
   "metadata": {
    "run_control": {
     "frozen": false,
     "read_only": false
    },
    "slideshow": {
     "slide_type": "subslide"
    }
   },
   "source": [
    "### Create a matrix with all of the series"
   ]
  },
  {
   "cell_type": "code",
   "execution_count": 8,
   "metadata": {
    "run_control": {
     "frozen": false,
     "read_only": false
    }
   },
   "outputs": [
    {
     "data": {
      "text/plain": [
       "(2808, 365)"
      ]
     },
     "execution_count": 8,
     "metadata": {},
     "output_type": "execute_result"
    }
   ],
   "source": [
    "rows=df.rdd.map(lambda row:unpackArray(row['vector'],np.float16)).collect()\n",
    "\n",
    "T=np.vstack(rows)\n",
    "shape(T)"
   ]
  },
  {
   "cell_type": "markdown",
   "metadata": {
    "run_control": {
     "frozen": false,
     "read_only": false
    },
    "slideshow": {
     "slide_type": "subslide"
    }
   },
   "source": [
    "### Plot two time series\n",
    "`SNWD` stands for `snow-depth`, which explains why it is zero during the summer"
   ]
  },
  {
   "cell_type": "code",
   "execution_count": 9,
   "metadata": {
    "run_control": {
     "frozen": false,
     "read_only": false
    },
    "slideshow": {
     "slide_type": "fragment"
    }
   },
   "outputs": [
    {
     "data": {
      "image/png": "iVBORw0KGgoAAAANSUhEUgAAAXoAAAD6CAYAAACvZ4z8AAAABHNCSVQICAgIfAhkiAAAAAlwSFlz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\nUT4pkqxxAAAAAElFTkSuQmCC\n",
      "text/plain": [
       "<matplotlib.figure.Figure at 0x104f70fd0>"
      ]
     },
     "metadata": {},
     "output_type": "display_data"
    }
   ],
   "source": [
    "fig, ax = plt.subplots(figsize=(6,4));\n",
    "YP=YearPlotter()\n",
    "YP.plot(T[16:18].transpose(),fig,ax,title=m)"
   ]
  },
  {
   "cell_type": "markdown",
   "metadata": {
    "run_control": {
     "frozen": false,
     "read_only": false
    },
    "slideshow": {
     "slide_type": "slide"
    }
   },
   "source": [
    "### Plot Reconstructions\n",
    "\n",
    "Construct approximations of a time series using the mean and the $k$ top eigen-vectors\n",
    "First, we plot the mean and the top $k$ eigenvectors"
   ]
  },
  {
   "cell_type": "code",
   "execution_count": 10,
   "metadata": {
    "run_control": {
     "frozen": false,
     "read_only": false
    },
    "scrolled": false,
    "slideshow": {
     "slide_type": "subslide"
    }
   },
   "outputs": [
    {
     "data": {
      "image/png": "iVBORw0KGgoAAAANSUhEUgAAAl8AAAFcCAYAAAD2w9suAAAABHNCSVQICAgIfAhkiAAAAAlwSFlz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\nX0E936/5fE1/TDtWlXPrukp2twyxa23ltG