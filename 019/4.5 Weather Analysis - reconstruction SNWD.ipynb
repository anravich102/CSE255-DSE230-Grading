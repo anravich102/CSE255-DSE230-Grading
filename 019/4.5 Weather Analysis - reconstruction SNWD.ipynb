{
 "cells": [
  {
   "cell_type": "code",
   "execution_count": 1,
   "metadata": {
    "collapsed": true,
    "run_control": {
     "frozen": false,
     "read_only": false
    },
    "slideshow": {
     "slide_type": "skip"
    }
   },
   "outputs": [],
   "source": [
    "#setup\n",
    "data_dir='../../Data/Weather'\n",
    "file_index='SSSBSBBB'\n",
    "m='SNWD'"
   ]
  },
  {
   "cell_type": "markdown",
   "metadata": {
    "run_control": {
     "frozen": false,
     "read_only": false
    },
    "slideshow": {
     "slide_type": "slide"
    },
    "variables": {
     "m": "SNWD"
    }
   },
   "source": [
    "## Reconstruction using top eigen-vectors\n",
    "For measurement = {{m}}"
   ]
  },
  {
   "cell_type": "markdown",
   "metadata": {
    "run_control": {
     "frozen": false,
     "read_only": false
    },
    "slideshow": {
     "slide_type": "skip"
    }
   },
   "source": [
    "## Load the required libraries"
   ]
  },
  {
   "cell_type": "code",
   "execution_count": 2,
   "metadata": {
    "collapsed": true,
    "run_control": {
     "frozen": false,
     "read_only": false
    },
    "slideshow": {
     "slide_type": "skip"
    }
   },
   "outputs": [],
   "source": [
    "# Enable automiatic reload of libraries\n",
    "#%load_ext autoreload\n",
    "#%autoreload 2 # means that all modules are reloaded before every command"
   ]
  },
  {
   "cell_type": "code",
   "execution_count": 3,
   "metadata": {
    "run_control": {
     "frozen": false,
     "read_only": false
    },
    "slideshow": {
     "slide_type": "skip"
    }
   },
   "outputs": [
    {
     "name": "stdout",
     "output_type": "stream",
     "text": [
      "Populating the interactive namespace from numpy and matplotlib\n",
      "    pandas as    pd \tversion=0.19.2 \trequired version>=0.19.2\n",
      "     numpy as    np \tversion=1.12.1 \trequired version>=1.12.0\n",
      "   sklearn as    sk \tversion=0.18.1 \trequired version>=0.18.1\n",
      "    urllib as urllib \tversion=1.17 \trequired version>=1.17\n",
      "   pyspark as pyspark \tversion=2.1.0+hadoop2.7 \trequired version>=2.1.0\n",
      "ipywidgets as ipywidgets \tversion=6.0.0 \trequired version>=6.0.0\n"
     ]
    }
   ],
   "source": [
    "#%matplotlib inline\n",
    "%pylab inline\n",
    "import numpy as np\n",
    "\n",
    "import findspark\n",
    "findspark.init()\n",
    "\n",
    "import sys\n",
    "sys.path.append('./lib')\n",
    "\n",
    "from numpy_pack import packArray,unpackArray\n",
    "\n",
    "from Eigen_decomp import Eigen_decomp\n",
    "from YearPlotter import YearPlotter\n",
    "from recon_plot import recon_plot\n",
    "\n",
    "from import_modules import import_modules,modules\n",
    "import_modules(modules)\n",
    "\n",
    "from ipywidgets import interactive,widgets"
   ]
  },
  {
   "cell_type": "code",
   "execution_count": 4,
   "metadata": {
    "collapsed": true,
    "run_control": {
     "frozen": false,
     "read_only": false
    },
    "slideshow": {
     "slide_type": "skip"
    }
   },
   "outputs": [],
   "source": [
    "from pyspark import SparkContext\n",
    "#sc.stop()\n",
    "\n",
    "sc = SparkContext(master=\"local[3]\",pyFiles=['lib/numpy_pack.py','lib/spark_PCA.py','lib/computeStats.py','lib/recon_plot.py','lib/Eigen_decomp.py'])\n",
    "\n",
    "from pyspark import SparkContext\n",
    "from pyspark.sql import *\n",
    "sqlContext = SQLContext(sc)\n",
    "\n",
    "\n",
    "\n"
   ]
  },
  {
   "cell_type": "markdown",
   "metadata": {
    "run_control": {
     "frozen": false,
     "read_only": false
    },
    "slideshow": {
     "slide_type": "slide"
    }
   },
   "source": [
    "## Read Statistics File"
   ]
  },
  {
   "cell_type": "code",
   "execution_count": 5,
   "metadata": {
    "run_control": {
     "frozen": false,
     "read_only": false
    },
    "slideshow": {
     "slide_type": "subslide"
    }
   },
   "outputs": [
    {
     "name": "stdout",
     "output_type": "stream",
     "text": [
      "keys from STAT= ['TMIN', 'TOBS', 'TMAX', 'SNOW', 'SNWD', 'PRCP']\n"
     ]
    }
   ],
   "source": [
    "from pickle import load\n",
    "\n",
    "#read statistics\n",
    "filename=data_dir+'/STAT_%s.pickle'%file_index\n",
    "STAT,STAT_Descriptions = load(open(filename,'rb'))\n",
    "measurements=STAT.keys()\n",
    "print 'keys from STAT=',measurements"
   ]
  },
  {
   "cell_type": "markdown",
   "metadata": {
    "run_control": {
     "frozen": false,
     "read_only": false
    },
    "slideshow": {
     "slide_type": "slide"
    }
   },
   "source": [
    "## Read data file into a spark DataFrame\n",
    "We focus on the snow-depth records, because the eigen-vectors for them make sense."
   ]
  },
  {
   "cell_type": "code",
   "execution_count": 6,
   "metadata": {
    "run_control": {
     "frozen": false,
     "read_only": false
    },
    "scrolled": true,
    "slideshow": {
     "slide_type": "subslide"
    }
   },
   "outputs": [
    {
     "name": "stdout",
     "output_type": "stream",
     "text": [
      "+---------+--------+---------+-----------+-----------+------+--------------------+------+--------+\n",
      "|elevation|latitude|longitude|measurement|    station|undefs|              vector|  year|   label|\n",
      "+---------+--------+---------+-----------+-----------+------+--------------------+------+--------+\n",
      "|   1368.2| 39.6372|-119.7094|       SNWD|USC00267691|    19|[C0 54 C0 54 C0 5...|2010.0|SSSBSBBB|\n",
      "|   1392.3| 39.5114|-119.8454|       SNWD|US1NVWH0109|    32|[00 00 00 00 00 0...|2012.0|SSSBSBBB|\n",
      "|   1932.4| 39.3128|-119.6483|       SNWD|USC00268761|     0|[F0 57 60 56 C0 5...|1953.0|SSSBSBBB|\n",
      "|   1932.4| 39.3128|-119.6483|       SNWD|USC00268761|     5|[00 00 00 00 00 0...|1954.0|SSSBSBBB|\n",
      "|   1932.4| 39.3128|-119.6483|       SNWD|USC00268761|     4|[F0 57 F0 57 C0 5...|1955.0|SSSBSBBB|\n",
      "+---------+--------+---------+-----------+-----------+------+--------------------+------+--------+\n",
      "only showing top 5 rows\n",
      "\n"
     ]
    }
   ],
   "source": [
    "#read data\n",
    "filename=data_dir+'/US_Weather_%s.parquet'%file_index\n",
    "df_in=sqlContext.read.parquet(filename)\n",
    "#filter in \n",
    "df=df_in.filter(df_in.measurement==m)\n",
    "df.show(5)"
   ]
  },
  {
   "cell_type": "markdown",
   "metadata": {
    "run_control": {
     "frozen": false,
     "read_only": false
    },
    "slideshow": {
     "slide_type": "slide"
    }
   },
   "source": [
    "### Plot Reconstructions\n",
    "\n",
    "Construct approximations of a time series using the mean and the $k$ top eigen-vectors\n",
    "First, we plot the mean and the top $k$ eigenvectors"
   ]
  },
  {
   "cell_type": "code",
   "execution_count": 7,
   "metadata": {
    "run_control": {
     "frozen": false,
     "read_only": false
    },
    "scrolled": false,
    "slideshow": {
     "slide_type": "subslide"
    }
   },
   "outputs": [
    {
     "data": {
      "image/png": "iVBORw0KGgoAAAANSUhEUgAAAl8AAAFcCAYAAAD2w9suAAAABHNCSVQICAgIfAhkiAAAAAlwSFlz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\nWEbje5TbE2vBs9X1l7vnJYO1Pdg0q