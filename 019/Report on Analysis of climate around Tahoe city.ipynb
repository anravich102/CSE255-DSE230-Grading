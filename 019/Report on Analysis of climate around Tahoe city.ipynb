{
 "cells": [
  {
   "cell_type": "markdown",
   "metadata": {},
   "source": [
    "# Tahoe city Weather Analysis"
   ]
  },
  {
   "cell_type": "markdown",
   "metadata": {},
   "source": [
    "The data used for the analysis comes from [NOAA](https://www.ncdc.noaa.gov/) and it's downloaded from [here](ftp://ftp.ncdc.noaa.gov/pub/data/ghcn/daily/).\n",
    "\n",
    "In this analysis, following five core elements are used while analysing the weather of th area:\n",
    "\n",
    "1. **TMIN:**  the daily minimum temperature. (in tenth if degrees C)\n",
    "2. **TMAX:** the daily maximum temperature. (in tenth if degrees C)\n",
    "3. **TOBS:** The average temperature for each day.\n",
    "4. **PRCP:** Daily Percipitation (in mm)\n",
    "5. **SNOW:** Daily snowfall (in mm)\n",
    "6. **SNWD:** The depth of accumulated snow.\n",
    "\n",
    "\n",
    "<p>The analysis should be started by comparing the general statistics and graphs obtained from a site <a href=\"http://www.usclimatedata.com/climate/boston/massachusetts/united-states/usma0046\" target=\"_blank\">US Climate Data</a>.\n",
    "$$ $$\n",
    "The graph below shows the daily minimum and maximum temperatures for each month, as well as the total precipitation for each month.</p>\n",
    "\n",
    "\n",
    "<p>&nbsp;</p>\n",
    "\n",
    "<p><img alt=\"Climate_Tahoe.png\" src=\"report_figures/Climate_Tahoe.png\" style=\"height:550px; width:700px\" /></p>\n",
    "\n",
    "<p>&nbsp;</p>\n",
    "\n",
    "<p>As can be seen, the minimum and maximum daily&nbsp;temperature agree with this the one obtained from the data by converting Fahrenheit to Centigrade.</p>\n",
    "\n",
    "<p>&nbsp;</p>\n",
    "\n",
    "<p><img alt=\"TMIN,TMAX.png\" src=\"report_figures/TMIN,TMAX.png\" style=\"height:300px; width:800px\" /></p>\n",
    "\n",
    "<p>To make a similar comparison for precipitation&nbsp;it's required to translate millimeter/day to inches/month. In the analysis, I found out that the average rainfall is 3.00 mm/day which translates to about 3.55 Inches&nbsp;per month. According to US-Climate-Data the average rainfall is closer to 4 inch per month. However, there is clear agreement that average precipitation&nbsp;is close to a constant throughout the year</p>\n",
    "\n",
    "<p>&nbsp;<img alt=\"PRCP.png\" src=\"report_figures/PRCP.png\" /></p>\n"
   ]
  },
  {
   "cell_type": "markdown",
   "metadata": {},
   "source": [
    "## PCA analysis\n",
    "\n",
    "For all six measurements, the percentate of the variance explained is calculated as a function of the number of eigen-vectors used as below:\n",
    "\n",
    "### Percentage of variance explained.\n",
    "![VarExplained1.png](report_figures/VarExplained1.png)\n",
    "It can be seen that the top 5 eigen-vectors explain 50% of variance for TMIN, 65% for TOBS and 40% for TMAX.\n",
    "\n",
    "Thus among three, TOBS is best explained by the top 5 eigenvectors. This is especially true for the first eigen-vector which, by itself, explains 58% of the variance.\n",
    "\n",
    "![VarExplained2.png](report_figures/VarExplained2.png)\n",
    "\n",
    "The top 5 eigenvectors explain 14% of the vairance for SNOW and 17.5% for PRCP. Both are quite low values. On the other hand the top 5 eigenvectors explain %85 of the variance for SNWD. This means that these top 5 eigenvectors capture most of the variation in the snow signals. So, I decided to dig deeper into the PCA analysis for snow-depth.\n",
    "\n",
    "It makes sense that SNWD would be less noisy than SNOW. That is because SNWD is a decaying integral of SNOW and, as such, varies less between days and between the same date on different years."
   ]
  },
  {
   "cell_type": "markdown",
   "metadata": {},
   "source": [
    "## Analysis of snow depth\n",
    "\n",
    "I choose to analyze the eigen-decomposition for snow-depth because the first 3 eigen-vectors explain 78% of the variance.\n",
    "\n",
    "I first plotted the graph of the mean and the top 3 eigen-vectors as can be seen below:\n",
    "![SNWD_mean_eigs.png](report_figures/SNWD_mean_eigs.png)\n",
    "\n",
    "\n",
    "It can be observed that snow season is from mid-November to the end of May, whereas the middle of February marks the peak of the snow-depth."
   ]
  },
  {
   "cell_type": "markdown",
   "metadata": {},
   "source": [
    "Next, it's important to interpret the eigen-functions. The first eigen-function (eig1) has a shape very similar to the mean function. The main difference is that the eigen-function is close to zero during october-december while the mean is not.  The interpretation of this shape is that eig1 represents the overall amount of snow above/below the mean, but without changing the distribution over time.\n",
    "\n",
    "**eig2 and eig3** are similar in the following way. They all oscilate between positive and negative values. In other words, they correspond to changing the distribution of the snow depth over the winter months, but they don't change the total (much). Also, **eig3** is opposite to the mean.\n",
    "\n",
    "They can be interpreted as follows:\n",
    "* **eig2:** less snow in march - may, more snow in mid december - february.\n",
    "* **eig3:** less snow in feb - march, slightly more snow in may."
   ]
  },
  {
   "cell_type": "markdown",
   "metadata": {},
   "source": [
    "### Reconstructions with top Eigen vectors\n",
    "\n",
    "This reconstruction is performed by incresingly taking more and more eigen vectors, like, c0, c0+c1, c0+c1+c2, etc.\n",
    "\n",
    "For stations with most positive coefficients:\n",
    "![SNWD_grid_Pos_coeff1.png](report_figures/SNWD_grid_Pos_coef.png)\n",
    "\n",
    "For stations with most negative correlation:\n",
    "![SNWD_grid_neg_coeff1.png](report_figures/SNWD_grid_Neg_coef.png)\n",
    "\n",
    "Large positive values of coefficients correspond to more than average snow. Low values correspond to less than average snow.\n",
    "\n",
    "Large positive values of coefficients correspond to a snow season with two spikes: one in the start of january, the other at the end of february. Negative values of coeff3 correspond to a season with a single peak at the end of Jan.\n",
    "\n"
   ]
  },
  {
   "cell_type": "markdown",
   "metadata": {},
   "source": [
    "Below are the plots of Cumulative distribution functions for Residuals 1, Residuals 2 and Residuals 3.\n",
    "![SNWD_res_1_CDF.png](report_figures/SNWD_res_1_CDF.png)\n",
    "![SNWD_res_2_CDF.png](report_figures/SNWD_res_2_CDF.png)\n",
    "![SNWD_res_3_CDF.png](report_figures/SNWD_res_3_CDF.png)\n",
    "\n",
    "Below are the plots of Cumulative distribution functions for Coefficients 1, Coefficients 2 and Coefficients 3.\n",
    "![SNWD_coeff_1_CDF.png](report_figures/SNWD_coeff_1_CDF.png)\n",
    "![SNWD_coeff_2_CDF.png](report_figures/SNWD_coeff_2_CDF.png)\n",
    "![SNWD_coeff_3_CDF.png](report_figures/SNWD_coeff_3_CDF.png)\n"
   ]
  },
  {
   "cell_type": "markdown",
   "metadata": {},
   "source": [
    "Map of average snow depth in the Tahoe city:\n",
    "![Map of average snow depth.png](report_figures/Map of average snow depth.png)\n",
    "\n",
    "As can be seen in the map, Tahoe city is surrounded by Tahoe National Forest which is indicative of high Snwofall and Rainfall in the region throughout the year except for the few months from June to Mid-November.\n",
    "\n",
    "Below is the map denoting weight of the different eigen vectors:\n",
    "\n",
    "![Map with depth intensity.png](report_figures/Map with depth intensity.png)\n"
   ]
  },
  {
   "cell_type": "markdown",
   "metadata": {},
   "source": [
    "## Analysis to do when less variance is explained by top eigen vectors\n",
    "\n",
    "I analysed the data of Precipitation for this.\n",
    "\n",
    "Precipatation mean and top 3 eigen vectors:\n",
    "![1.png](report_figures/1.png)\n",
    "\n",
    "Percent of variance explained by the top 8 eigen vectors:\n",
    "![2.png](report_figures/2.png)\n",
    "As can be seen only 18% of the variance explained by the top 5 eigen vectors.\n",
    "\n",
    "CDF of residual 3:\n",
    "![3.png](report_figures/3.png)\n",
    "\n",
    "CDF of daily rainfall:\n",
    "![4.png](report_figures/4.png)\n",
    "\n",
    "I did hypothesis testing for all unique combinations of 2 stations, below plot displays a histogram of the resulting p-values. The null hypothesis for this example is that the probability of it raining on any given day is independent for the two stations in question.\n",
    " \n",
    "The significance of the p-value is the probability of seeing the result given by the data under the null hypothesis. So a low p-value means that it is unlikely to see such results under the null hypothesis. The usual conclusion that one makes is that if data is extremely unlikely under the null hypothesis, then the null hypothesis is wrong for that dataset.\n",
    "![5.png](report_figures/5.png)\n",
    "\n",
    "The matrix below shows, for each pair of stations, the normalized log probability that the overlap in rain days is random.\n",
    "\n",
    "It can be immediately seen that the first 8 stations are highly correlated with each other. \n",
    "![6.png](report_figures/6.png)\n",
    "\n",
    "To find more correlations I did SVD. As can be seen in the below plots that the top 10 eigenvectors explain about 80% of the square magnitude of the matrix.\n",
    "![7.png](report_figures/7.png)\n",
    "\n",
    "I reordered the rows and columns of the matrix using one of the eigenvectors, the grouping of the \n",
    "stations becomes more evident. For example, consider the upper left corner of the below second matrix (The upper left one). The stations at positions 0-22 are clearly strongly correlated with each other. Even though there are some stations, in positions 15-18 or so, which are more related to each other than to the rest of this block.\n",
    "\n",
    "![8.png](report_figures/8.png)"
   ]
  },
  {
   "cell_type": "code",
   "execution_count": null,
   "metadata": {
    "collapsed": true
   },
   "outputs": [],
   "source": []
  }
 ],
 "metadata": {
  "kernelspec": {
   "display_name": "Python [conda env:py27]",
   "language": "python",
   "name": "conda-env-py27-py"
  },
  "language_info": {
   "codemirror_mode": {
    "name": "ipython",
    "version": 2
   },
   "file_extension": ".py",
   "mimetype": "text/x-python",
   "name": "python",
   "nbconvert_exporter": "python",
   "pygments_lexer": "ipython2",
   "version": "2.7.13"
  }
 },
 "nbformat": 4,
 "nbformat_minor": 2
}
