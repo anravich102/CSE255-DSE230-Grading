{
 "cells": [
  {
   "cell_type": "markdown",
   "metadata": {
    "run_control": {
     "frozen": false,
     "read_only": false
    }
   },
   "source": [
    "# Weather Analysis \n",
    "\n",
    "This is a report on historical analysis of climate in the region in and around Reno - Carson city - Lake Tahoe  as shown in the graph below. \n",
    "<p><img style=\"height:400px; width:700px\" src=\"hw5_fig/region.png\" /></p>\n",
    "\n",
    "\n",
    "For the generaion of this report the data that is used is available on [NOAA](https://www.ncdc.noaa.gov/) and source of data is [here](ftp://ftp.ncdc.noaa.gov/pub/data/ghcn/daily/).The following measurements are kept in account for the purpose of analysis:\n",
    "* **TMIN, TMAX:** the daily minimum and maximum temperature.\n",
    "* **TOBS:** The average temperature for each day.\n",
    "* **PRCP:** Daily Percipitation (in mm)\n",
    "* **SNOW:** Daily snowfall (in mm)\n",
    "* **SNWD:** The depth of accumulated snow.\n",
    "\n",
    "There are a total of **154 stations**. The data with the measurements ranges from **1888 to 2012**.\n",
    "\n",
    "## Compare with external resources and some Observations\n",
    "\n",
    "#### Count of observations of snow depth \n",
    "<p>The graph below indicates the count of daily observations of snow depth. It can be observed that in the duration of Jan-April there are dips, as the graphs goes up and down. The possible explanation for this behaviour can be as a result of heavy snow it would have been difficult to take observations in that duration of year.</p>\n",
    "<p>&nbsp;</p>\n",
    "\n",
    "<p><img src=\"hw5_fig/snwd-count.png\" /></p>\n",
    "\n",
    "#### Temperature \n",
    "\n",
    "<p>I came across a paper by University of Nevada, Reno College of science on weather and climate of reno-carson city and lake tahoe region <a href=\"http://dwgateway.library.unr.edu/keck/mining/dox/sp34.pdf\" target=\"_blank\">here</a> and obtained some information on monthly minimum temperatures and maximum temperatures in degree fahrenheit as well as precipitation in inches for year in the range of 1971-2000 as indicated in the tables below. \n",
    "</p>\n",
    "<p>&nbsp;</p>\n",
    "\n",
    "<p><img src=\"hw5_fig/title.png\" /></p>\n",
    "<p><img src=\"hw5_fig/sanity_temp.png\"/></p>\n",
    "\n",
    "<p>&nbsp;</p>\n",
    "\n",
    "<p>After plotting a graph by converting the temperature from tenths of celsius to fahrenheit and plotting TMAX and TMIN graph, it can be observed the graph below agrees with the data in table above. It also shows a clear trend indicating that it is coldest in jan and hottest in july-sept.</p>\n",
    "\n",
    "<p>&nbsp;</p>\n",
    "<p><img src=\"hw5_fig/TMIN_TMAX.png\" style=\"height:300px; width:800px\" /></p>\n",
    "\n",
    "#### Precipitation\n",
    "\n",
    "<p><img src=\"hw5_fig/sanity_ppt.png\"/></p>\n",
    "<p>&nbsp;</p>\n",
    "\n",
    "<p>Similar to temperature after plotting a precipitation graph by converting the mm/day to inches/month and plotting the PRCP graph, it can be observed the graph below agrees with the data in table above. The graph below indicates that average precipitation is close to zero in the duration of july-sept. However higher preceipitation with mean around 2 is observed in the duration nov-feb.The graph is noisy. The possible explanation for this can be some days have high precipitation whereas some low.</p>\n",
    "\n",
    "<p>&nbsp;<img src=\"hw5_fig/prcp.png\" /></p>\n",
    "\n",
    "#### Snow and Snow Depth\n",
    "\n",
    "<p><img src=\"hw5_fig/snow-snwd.png\"/></p>\n",
    "\n",
    "<p>It can be observed from the snow plot that there is no snow at all during july-sept. On an average snow fall is around 10 inches during Dec-March. The graph is noisy and it can be explained with the same reason as of precipitation above.</p>\n",
    "\n",
    "<p>It can be observed that the snow depth (SNWD) plot follows the same trend as of snow plot with the only difference being that it is very less noisy as snow depth measurement is the result of accumulation of snow on ground over past few days/weeks and hence the plot is much more smooth. </p>"
   ]
  },
  {
   "cell_type": "markdown",
   "metadata": {
    "run_control": {
     "frozen": false,
     "read_only": false
    }
   },
   "source": [
    "## PCA analysis\n",
    "\n",
    "For each of the six measurements as mentioned above namely TMIN, TMAX, TOBS, PRCP, SNOW, SNWD different graphs are plotted with percentage of variance explained on y-axis and number of eigen vectors that explain those variance on x-axis.\n",
    "\n",
    "### Percentage of variance explained.\n",
    "![variance1.png](hw5_fig/variance1.png)\n",
    "\n",
    "The plots above indicates that the top 5 eigen-vectors explain 50% of variance for TMIN, 63% for TOBS and 40% for TMAX.\n",
    "\n",
    "It can be concluded that TOBS is best explained by the top 5 eigenvectors as compared to TMIN and TMAX which is kind of obvious as TOBS is average temperature for the day. The first eigen vector of TOBS alone explains 57% of the variance.\n",
    "\n",
    "![variance2.png](hw5_fig/variance2.png)\n",
    "\n",
    "For PRCP as it can be seen above, 17.5% of the variance is explained by top 5 eigen vectors which is pretty low. Also, for SNOW, 14% of variance can be explained by top 5 vectors which is again low.\n",
    "\n",
    "On the other hand, as shown in the  **SNWD**  plot the top 5 eigenvectors explains 83% of the variance . This means that these top 5 eigenvectors out of 365 alone capture most of the variation in the snow signals which motivates to dig deeper into the PCA analysis for snow-depth to get more insight."
   ]
  },
  {
   "cell_type": "markdown",
   "metadata": {},
   "source": [
    "## Snow Depth - further analysis\n",
    "As the first four eigen-vector alone can explain 81% of the variance snow depth can be further analyzed.\n",
    "\n",
    "The graph that shows the mean snow depth and another that has first four eigen-vectors are shown below.\n",
    "\n",
    "It can be observed that the snow season is from mid-november to May, where the end of February-March marks the peak of the snow-depth.\n",
    "![snwd.png](hw5_fig/snwd.png)\n",
    "\n",
    "Upon interpretting the eigen functions, it can be observed that first eigen function has a very similar shape compared to that mean however it is in the opposite direction. The interpretation of this shape is that eig1 represents the overall magnitude of snow, but without changing the distribution over time.\n",
    "\n",
    "The other eigen functions **eig2,eig3 and eig4** all oscilate between positive and negative values that is, they correspond to changing the distribution of the snow depth over the winter months, but they don't change the magnitude of total (much).\n",
    "\n",
    "They can be interpreted as follows:\n",
    "* **eig2:** more snow in jan - feb, less snow in april.\n",
    "* **eig3:** more snow in march, less snow in feb , less snow in april onwards.\n",
    "* **eig4:** more snow in jan  more snow in start april, less snow in march\n"
   ]
  },
  {
   "cell_type": "markdown",
   "metadata": {
    "run_control": {
     "frozen": false,
     "read_only": false
    }
   },
   "source": [
    "### Reconstructions\n",
    "\n",
    "#### Coeff1\n",
    "Coeff1: most positive\n",
    "![pos_c1r1.png](hw5_fig/pos_c1r1.png)\n",
    "Coeff1: most negative\n",
    "![neg_c1r1.png](hw5_fig/neg_c1r1.png)\n",
    "The most positive coeff1 corresponds to a snow season of two peaks, one in february and one in march . The most negative coeff1 also corresponds to two peaks. One in end of feb-and beginning of march and the other in the end of december.\n",
    "\n",
    "#### Coeff2\n",
    "Coeff2: most positive\n",
    "![pos_c2r2.png](hw5_fig/pos_c2r2.png)\n",
    "Coeff2: most negative\n",
    "![neg_c2r2.png](hw5_fig/neg_c2r2.png)\n",
    "\n",
    "Large positive values of coeff2 correspond to an early snow season.  Negative values for coeff2 correspond to late snow season.\n",
    "#### Coeff3\n",
    "Coeff3: most positive\n",
    "![pos_c3r3.png](hw5_fig/pos_c3r3.png)\n",
    "Coeff3: most negative\n",
    "![pos_c3r3.png](hw5_fig/neg_c3r3.png)\n",
    "Large positive values of coeff3 correspond to more than average snow starting january during the snow season and around average snow depth end of december. Low values correspond to around average snow starting january and more than mean in the end of december.\n",
    "\n",
    "\n"
   ]
  },
  {
   "cell_type": "markdown",
   "metadata": {},
   "source": [
    "## year-to-year variation vs station to station variation in snow timing\n",
    "In this section following Root mean squared error will help to estimate the relative importance of location to location variation relative to year by year variation.\n",
    "variation.\n",
    "\n",
    "For each coefficient total Root mean square, RMS by removing mean-by station, and RMS by removing mean by year is provided below:\n",
    "\n",
    "** coeff_1 **  \n",
    "total RMS                   = 4509.05231427  \n",
    "RMS removing mean-by-station= 2530.62865133  \n",
    "RMS removing mean-by-year   = 2741.84974057  \n",
    "\n",
    "** coeff_2 **  \n",
    "total RMS                   = 1719.45712835  \n",
    "RMS removing mean-by-station= 1609.63676289  \n",
    "RMS removing mean-by-year   = 963.98295144  \n",
    "\n",
    "\n",
    "** coeff_3 **  \n",
    "total RMS                   = 1413.02162495  \n",
    "RMS removing mean-by-station= 1339.19817565  \n",
    "RMS removing mean-by-year   = 679.275736328  \n",
    "\n",
    "\n",
    "\n",
    "It can be observed from above data for coeff_2,coeff_3 the RMS obtained by removing the mean-by year is less by greater factor as compared to RMS obtained by removing mean by station. In case of coeff_1, it is more or less same as it has to mainly do with magnitude of the snowfall. Thus it can be concluded that variation in timing of the snow is mainly due to ** year to year variation **."
   ]
  },
  {
   "cell_type": "code",
   "execution_count": null,
   "metadata": {
    "collapsed": true
   },
   "outputs": [],
   "source": []
  }
 ],
 "metadata": {
  "anaconda-cloud": {},
  "kernelspec": {
   "display_name": "Python 2",
   "language": "python",
   "name": "python2"
  },
  "language_info": {
   "codemirror_mode": {
    "name": "ipython",
    "version": 2
   },
   "file_extension": ".py",
   "mimetype": "text/x-python",
   "name": "python",
   "nbconvert_exporter": "python",
   "pygments_lexer": "ipython2",
   "version": "2.7.13"
  },
  "toc": {
   "colors": {
    "hover_highlight": "#DAA520",
    "running_highlight": "#FF0000",
    "selected_highlight": "#FFD700"
   },
   "moveMenuLeft": true,
   "nav_menu": {
    "height": "12px",
    "width": "252px"
   },
   "navigate_menu": true,
   "number_sections": true,
   "sideBar": true,
   "threshold": 4,
   "toc_cell": false,
   "toc_section_display": "block",
   "toc_window_display": false
  }
 },
 "nbformat": 4,
 "nbformat_minor": 2
}
