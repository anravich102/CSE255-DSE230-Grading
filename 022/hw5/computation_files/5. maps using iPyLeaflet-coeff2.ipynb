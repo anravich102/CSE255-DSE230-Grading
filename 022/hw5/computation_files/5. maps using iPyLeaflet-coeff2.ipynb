{
 "cells": [
  {
   "cell_type": "markdown",
   "metadata": {
    "run_control": {
     "frozen": false,
     "read_only": false
    }
   },
   "source": [
    "## iPyLeaflet\n",
    "[ipyleaflet](https://github.com/ellisonbg/ipyleaflet) is a bridge between jupyter notebooks and the [leaflet](http://leafletjs.com/)  javascript library for drawing maps.\n",
    "\n",
    "ipyleaflet comes with a few examples notebooks (this notebook was derived from one) but very little documentation,\n",
    "for more documentation read the [Leaflet IPA](http://leafletjs.com/reference.html)\n",
    "\n",
    "For installation directions, see the README on [ipyleaflet](https://github.com/ellisonbg/ipyleaflet)"
   ]
  },
  {
   "cell_type": "code",
   "execution_count": 1,
   "metadata": {
    "collapsed": true,
    "run_control": {
     "frozen": false,
     "read_only": false
    }
   },
   "outputs": [],
   "source": [
    "from ipyleaflet import (\n",
    "    Map,\n",
    "    Marker,\n",
    "    TileLayer, ImageOverlay,\n",
    "    Polyline, Polygon, Rectangle, Circle, CircleMarker,\n",
    "    GeoJSON,\n",
    "    DrawControl\n",
    ")"
   ]
  },
  {
   "cell_type": "markdown",
   "metadata": {
    "run_control": {
     "frozen": false,
     "read_only": false
    }
   },
   "source": [
    "## Visualizing the distribution of the observations\n",
    "\n",
    "## Load the required libraries"
   ]
  },
  {
   "cell_type": "code",
   "execution_count": 2,
   "metadata": {
    "collapsed": true,
    "run_control": {
     "frozen": false,
     "read_only": false
    }
   },
   "outputs": [],
   "source": [
    "import pandas as pd\n",
    "import numpy as np\n",
    "import sklearn as sk\n",
    "import urllib\n",
    "import math"
   ]
  },
  {
   "cell_type": "code",
   "execution_count": 3,
   "metadata": {
    "collapsed": true,
    "run_control": {
     "frozen": false,
     "read_only": false
    }
   },
   "outputs": [],
   "source": [
    "import findspark\n",
    "findspark.init()\n",
    "\n",
    "from pyspark import SparkContext\n",
    "#sc.stop()\n",
    "sc = SparkContext(master=\"local[3]\",pyFiles=['lib/numpy_pack.py','lib/computeStats.py'])\n",
    "\n",
    "from pyspark import SparkContext\n",
    "from pyspark.sql import *\n",
    "sqlContext = SQLContext(sc)"
   ]
  },
  {
   "cell_type": "code",
   "execution_count": 4,
   "metadata": {
    "collapsed": true,
    "run_control": {
     "frozen": false,
     "read_only": false
    }
   },
   "outputs": [],
   "source": [
    "import sys\n",
    "sys.path.append('./lib')\n",
    "\n",
    "import numpy as np\n",
    "from numpy_pack import packArray,unpackArray\n",
    "from computeStats import computeOverAllDist, STAT_Descriptions"
   ]
  },
  {
   "cell_type": "code",
   "execution_count": 5,
   "metadata": {
    "run_control": {
     "frozen": false,
     "read_only": false
    }
   },
   "outputs": [
    {
     "name": "stdout",
     "output_type": "stream",
     "text": [
      "('keys from STAT=', ['TMIN', 'TOBS', 'TMAX', 'SNOW', 'SNWD', 'PRCP'])\n",
      "526\n",
      "+------------------+-------------------+-----------------+---------+--------+--------+---------+-----------+-------------------+-------------------+-------------------+------------------+-----------+------------+------+--------------------+------+\n",
      "|           coeff_1|            coeff_2|          coeff_3|elevation|   label|latitude|longitude|measurement|              res_1|              res_2|              res_3|          res_mean|    station|   total_var|undefs|              vector|  year|\n",
      "+------------------+-------------------+-----------------+---------+--------+--------+---------+-----------+-------------------+-------------------+-------------------+------------------+-----------+------------+------+--------------------+------+\n",
      "|-6615.426188381523|-1465.9875077165289|1026.709373492892|   1809.6|SSSBSBBB| 39.3239|-120.2331|       SNWD|0.20641434500585848|0.16362354251904537|0.14452109933445303|0.6540019705334699|USC00042467| 8.9597195E7|    45|[28 5B C4 5C C4 5...|1998.0|\n",
      "|-7296.176308909551|-1539.1705498527335| 797.125515577939|   1898.9|SSSBSBBB| 39.1678|-120.1428|       SNWD|0.18910420010329443|0.16155127603928585|0.14490888817751021|0.6860292286168673|USC00048758|1.08030486E8|    45|[F0 57 5C 5C 90 5...|1998.0|\n",
      "+------------------+-------------------+-----------------+---------+--------+--------+---------+-----------+-------------------+-------------------+-------------------+------------------+-----------+------------+------+--------------------+------+\n",
      "only showing top 2 rows\n",
      "\n"
     ]
    }
   ],
   "source": [
    "### Read the data frame from pickle file\n",
    "\n",
    "data_dir='../../Data/Weather'\n",
    "file_index='SSSBSBBB'\n",
    "meas='SNWD'\n",
    "\n",
    "from pickle import load\n",
    "\n",
    "#read statistics\n",
    "filename=data_dir+'/STAT_%s.pickle'%file_index\n",
    "STAT,STAT_Descriptions = load(open(filename,'rb'))\n",
    "print('keys from STAT=',STAT.keys())\n",
    "\n",
    "#!ls -ld $data_dir/*.parquet\n",
    "\n",
    "#read data\n",
    "filename=data_dir+'/decon_%s_%s.parquet'%(file_index,meas)\n",
    "\n",
    "df=sqlContext.read.parquet(filename)\n",
    "print(df.count())\n",
    "df.show(2)"
   ]
  },
  {
   "cell_type": "code",
   "execution_count": 6,
   "metadata": {
    "run_control": {
     "frozen": false,
     "read_only": false
    },
    "scrolled": true
   },
   "outputs": [
    {
     "name": "stdout",
     "output_type": "stream",
     "text": [
      "SELECT station, latitude,longitude,elevation,coeff_2 FROM weather\n",
      "+-----------+--------+---------+---------+-------------------+\n",
      "|    station|latitude|longitude|elevation|            coeff_2|\n",
      "+-----------+--------+---------+---------+-------------------+\n",
      "|USC00042467| 39.3239|-120.2331|   1809.6|-1465.9875077165289|\n",
      "|USC00048758| 39.1678|-120.1428|   1898.9|-1539.1705498527335|\n",
      "|USC00041018| 39.4539|-120.6556|   1641.3| -2028.268696765724|\n",
      "|USC00049043| 39.3331| -120.173|   1774.9| 1921.5218426434894|\n",
      "+-----------+--------+---------+---------+-------------------+\n",
      "only showing top 4 rows\n",
      "\n"
     ]
    }
   ],
   "source": [
    "#extract longitude and latitude for each station\n",
    "feature='coeff_2'\n",
    "sqlContext.registerDataFrameAsTable(df,'weather')\n",
    "Query=\"SELECT station, latitude,longitude,elevation,%s FROM weather\"%feature\n",
    "print(Query)\n",
    "df1 = sqlContext.sql(Query)\n",
    "df1.show(4)"
   ]
  },
  {
   "cell_type": "code",
   "execution_count": 7,
   "metadata": {
    "run_control": {
     "frozen": false,
     "read_only": false
    }
   },
   "outputs": [
    {
     "data": {
      "text/html": [
       "<div>\n",
       "<table border=\"1\" class=\"dataframe\">\n",
       "  <thead>\n",
       "    <tr style=\"text-align: right;\">\n",
       "      <th></th>\n",
       "      <th>station</th>\n",
       "      <th>latitude</th>\n",
       "      <th>longitude</th>\n",
       "      <th>elevation</th>\n",
       "      <th>count(station)</th>\n",
       "      <th>avg(coeff_2)</th>\n",
       "    </tr>\n",
       "  </thead>\n",
       "  <tbody>\n",
       "    <tr>\n",
       "      <th>17</th>\n",
       "      <td>US1CAPC0001</td>\n",
       "      <td>39.3021</td>\n",
       "      <td>-120.3837</td>\n",
       "      <td>2099.2</td>\n",
       "      <td>1</td>\n",
       "      <td>-1939.427466</td>\n",
       "    </tr>\n",
       "    <tr>\n",
       "      <th>3</th>\n",
       "      <td>USC00040747</td>\n",
       "      <td>39.3000</td>\n",
       "      <td>-120.5167</td>\n",
       "      <td>1751.1</td>\n",
       "      <td>2</td>\n",
       "      <td>625.090137</td>\n",
       "    </tr>\n",
       "    <tr>\n",
       "      <th>12</th>\n",
       "      <td>USC00040931</td>\n",
       "      <td>39.3886</td>\n",
       "      <td>-120.0936</td>\n",
       "      <td>1699.3</td>\n",
       "      <td>45</td>\n",
       "      <td>808.696411</td>\n",
       "    </tr>\n",
       "    <tr>\n",
       "      <th>33</th>\n",
       "      <td>USC00041018</td>\n",
       "      <td>39.4539</td>\n",
       "      <td>-120.6556</td>\n",
       "      <td>1641.3</td>\n",
       "      <td>43</td>\n",
       "      <td>-110.684949</td>\n",
       "    </tr>\n",
       "  </tbody>\n",
       "</table>\n",
       "</div>"
      ],
      "text/plain": [
       "        station  latitude  longitude  elevation  count(station)  avg(coeff_2)\n",
       "17  US1CAPC0001   39.3021  -120.3837     2099.2               1  -1939.427466\n",
       "3   USC00040747   39.3000  -120.5167     1751.1               2    625.090137\n",
       "12  USC00040931   39.3886  -120.0936     1699.3              45    808.696411\n",
       "33  USC00041018   39.4539  -120.6556     1641.3              43   -110.684949"
      ]
     },
     "execution_count": 7,
     "metadata": {},
     "output_type": "execute_result"
    }
   ],
   "source": [
    "df2=df1.groupby(['station','latitude','longitude','elevation']).agg({\"station\": \"count\", feature: \"mean\"})\n",
    "pdf=df2.toPandas()\n",
    "pdf.sort_values(by=['station'],inplace=True)\n",
    "pdf.head(4)"
   ]
  },
  {
   "cell_type": "code",
   "execution_count": 8,
   "metadata": {
    "run_control": {
     "frozen": false,
     "read_only": false
    }
   },
   "outputs": [
    {
     "data": {
      "text/plain": [
       "u'#ff1300'"
      ]
     },
     "execution_count": 8,
     "metadata": {},
     "output_type": "execute_result"
    }
   ],
   "source": [
    "#define a mapping from the range of the value to hex colors.\n",
    "from matplotlib.colors import rgb2hex\n",
    "_avg='avg(%s)'%feature\n",
    "_min=pdf[_avg].min()\n",
    "_max=pdf[_avg].max()\n",
    "_min,_max\n",
    "\n",
    "import pylab as plt\n",
    "cmap=plt.get_cmap('jet')\n",
    "def get_color(val):\n",
    "    x=(val-_min)/(_max-_min)\n",
    "    return(rgb2hex(cmap(x)[:3]))\n",
    "\n",
    "get_color(1000.)"
   ]
  },
  {
   "cell_type": "markdown",
   "metadata": {
    "run_control": {
     "frozen": false,
     "read_only": false
    }
   },
   "source": [
    "## Map"
   ]
  },
  {
   "cell_type": "code",
   "execution_count": 9,
   "metadata": {
    "collapsed": true,
    "run_control": {
     "frozen": false,
     "read_only": false
    }
   },
   "outputs": [],
   "source": [
    "#min_lat,max_lat,min_long,max_long = box = (42.1103, 42.6167, -72.6, -70.8)\n"
   ]
  },
  {
   "cell_type": "code",
   "execution_count": 10,
   "metadata": {
    "collapsed": true
   },
   "outputs": [],
   "source": [
    "min_lat,max_lat,min_long,max_long = box = (39.0911, 39.8056, -121.05, -115.4833)"
   ]
  },
  {
   "cell_type": "code",
   "execution_count": 11,
   "metadata": {
    "run_control": {
     "frozen": false,
     "read_only": false
    }
   },
   "outputs": [
    {
     "data": {
      "application/vnd.jupyter.widget-view+json": {
       "model_id": "5f44bf2f762f4512bc3f798de843f9ba"
      }
     },
     "metadata": {},
     "output_type": "display_data"
    }
   ],
   "source": [
    "center = [(min_lat+max_lat)/2, (min_long+max_long)/2]\n",
    "zoom = 9\n",
    "\n",
    "m = Map(default_tiles=TileLayer(opacity=1.0), center=center, zoom=zoom)\n",
    "\n",
    "r = Rectangle(bounds=[[min_lat,min_long],[max_lat,max_long]], weight=5, fill_opacity=0.0)\n",
    "m += r\n",
    "\n",
    "lat_margin=(max_lat-min_lat)/4\n",
    "long_margin=(max_long-min_long)/4\n",
    "circles = []\n",
    "for index,row in pdf.iterrows():\n",
    "    _lat=row['latitude']\n",
    "    _long=row['longitude']\n",
    "    _count=row['count(station)']\n",
    "    _coef=row[_avg]\n",
    "    # taking sqrt of count so that the  area of the circle corresponds to the count\n",
    "    c = Circle(location=(_lat,_long), radius=int(300*np.sqrt(_count+0.0)), weight=1,\n",
    "            color='#F00', opacity=0.8, fill_opacity=0.4,\n",
    "            fill_color=get_color(_coef))\n",
    "    circles.append(c)\n",
    "    m.add_layer(c)\n",
    "m    "
   ]
  },
  {
   "cell_type": "markdown",
   "metadata": {
    "run_control": {
     "frozen": false,
     "read_only": false
    }
   },
   "source": [
    "### excercises:\n",
    "* Add a legend that relates the colors to values.\n",
    "* Leaflet supports a variety of maps. See if you can get a topographical map as the background."
   ]
  },
  {
   "cell_type": "code",
   "execution_count": 13,
   "metadata": {
    "run_control": {
     "frozen": false,
     "read_only": false
    }
   },
   "outputs": [
    {
     "data": {
      "image/png": "iVBORw0KGgoAAAANSUhEUgAAAZgAAAEKCAYAAAAvlUMdAAAABHNCSVQICAgIfAhkiAAAAAlwSFlz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\nBU6