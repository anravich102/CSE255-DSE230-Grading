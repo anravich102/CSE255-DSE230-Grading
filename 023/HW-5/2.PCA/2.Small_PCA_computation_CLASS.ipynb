{
 "cells": [
  {
   "cell_type": "markdown",
   "metadata": {
    "deletable": true,
    "editable": true,
    "run_control": {
     "frozen": false,
     "read_only": false
    },
    "slideshow": {
     "slide_type": "slide"
    }
   },
   "source": [
    "## Computing PCA using RDDs"
   ]
  },
  {
   "cell_type": "markdown",
   "metadata": {
    "deletable": true,
    "editable": true,
    "run_control": {
     "frozen": false,
     "read_only": false
    },
    "slideshow": {
     "slide_type": "subslide"
    }
   },
   "source": [
    "##  PCA\n",
    "\n",
    "The vectors that we want to analyze have length, or dimension, of 365, corresponding to the number of \n",
    "days in a year.\n",
    "\n",
    "We will perform [Principle component analysis (PCA)](https://en.wikipedia.org/wiki/Principal_component_analysis)\n",
    "on these vectors. There are two steps to this process:\n",
    "\n",
    "1. Computing the covariance matrix: this is a  simple computation. However, it takes a long time to compute and it benefits from using an RDD because it involves all of the input vectors.\n",
    "2. Computing the eigenvector decomposition. this is a more complex computation, but it takes a fraction of a second because the size to the covariance matrix is $365 \\times 365$, which is quite small. We do it on the head node usin `linalg`"
   ]
  },
  {
   "cell_type": "markdown",
   "metadata": {
    "deletable": true,
    "editable": true,
    "run_control": {
     "frozen": false,
     "read_only": false
    },
    "slideshow": {
     "slide_type": "subslide"
    }
   },
   "source": [
    "### Computing the covariance matrix\n",
    "Suppose that the data vectors are the column vectors denoted $x$ then the covariance matrix is defined to be\n",
    "$$\n",
    "E(x x^T)-E(x)E(x)^T\n",
    "$$\n",
    "\n",
    "Where $x x^T$ is the **outer product** of $x$ with itself.\n",
    "\n",
    "If the data that we have is $x_1,x_2,x_n$ then the estimates we use are:\n",
    "$$\n",
    "\\hat{E}(x x^T) = \\frac{1}{n} \\sum_{i=1}^n x_i x_i^T,\\;\\;\\;\\;\\;\n",
    "\\hat{E}(x) = \\frac{1}{n} \\sum_{i=1}^n x_i\n",
    "$$"
   ]
  },
  {
   "cell_type": "markdown",
   "metadata": {
    "deletable": true,
    "editable": true,
    "run_control": {
     "frozen": false,
     "read_only": false
    },
    "slideshow": {
     "slide_type": "slide"
    }
   },
   "source": [
    "### The effect of  `nan`s in arithmetic operations\n",
    "* We use an RDD of numpy arrays, instead of Dataframes.\n",
    "* Why? Because numpy treats `nan` entries correctly:\n",
    "  * In numpy `5+nan=5` while in dataframes `5+nan=nan`\n",
    "\n",
    "### Performing Cov matrix on vectors with NaNs\n",
    "As it happens, we often get vectors $x$ in which some, but not all, of the entries are `nan`. \n",
    "Suppose that we want to compute the mean of the elements of $x$. If we use `np.mean` we will get the result `nan`. A useful alternative is to use `np.nanmean` which removes the `nan` elements and takes the mean of the rest.\n",
    "\n",
    "import numpy as np\n",
    "X=np.array([1,1,1,2])\n",
    "print 'mean of',X,'=',np.mean(X)\n",
    "print 'nanmean of',X,'=',np.nanmean(X)\n",
    "X=np.array([1,1,np.NaN,2])\n",
    "print 'mean of',X,'=',np.mean(X)\n",
    "print 'nanmean of',X,'=',np.nanmean(X)\n",
    "\n",
    "#### When should you not use `np.nanmean` ?\n",
    "Using `n.nanmean` is equivalent to assuming that choice of which elements to remove is independent of the values of the elements. \n",
    "* Example of bad case: suppose the larger elements have a higher probability of being `nan`. In that case `np.nanmean` will under-estimate the mean\n",
    "\n",
    "#### Computing the covariance  when there are `nan`s\n",
    "The covariance is a mean of outer products.\n",
    "\n",
    "If the data that we have is $x_1,x_2,x_n$ then the estimates we use are:\n",
    "$$\n",
    "\\hat{E}(x x^T) = \\frac{1}{n} \\sum_{i=1}^n x_i x_i^T,\\;\\;\\;\\;\\;\n",
    "\\hat{E}(x) = \\frac{1}{n} \\sum_{i=1}^n x_i\n",
    "$$\n",
    "\n",
    "x1=np.array([1,np.NaN,3,4,5])\n",
    "x2=np.array([2,3,4,np.NaN,6])\n",
    "stacked=np.array([np.outer(x1,x1),np.outer(x2,x2)])\n",
    "stacked\n",
    "\n",
    "np.nanmean(stacked,axis=0)"
   ]
  },
  {
   "cell_type": "code",
   "execution_count": 1,
   "metadata": {
    "collapsed": false,
    "deletable": true,
    "editable": true,
    "run_control": {
     "frozen": false,
     "read_only": false
    },
    "slideshow": {
     "slide_type": "skip"
    }
   },
   "outputs": [],
   "source": [
    "import findspark\n",
    "findspark.init()\n",
    "from pyspark import SparkContext\n",
    "\n",
    "#sc.stop()\n",
    "sc = SparkContext(master=\"local[3]\",pyFiles=['lib/numpy_pack.py','lib/spark_PCA.py','lib/computeStats.py'])\n",
    "\n",
    "from pyspark.sql import *\n",
    "sqlContext = SQLContext(sc)"
   ]
  },
  {
   "cell_type": "code",
   "execution_count": 2,
   "metadata": {
    "collapsed": false,
    "deletable": true,
    "editable": true,
    "run_control": {
     "frozen": false,
     "read_only": false
    },
    "slideshow": {
     "slide_type": "skip"
    }
   },
   "outputs": [],
   "source": [
    "import sys\n",
    "sys.path.append('./lib')\n",
    "\n",
    "import numpy as np\n",
    "from numpy_pack import packArray,unpackArray\n",
    "from spark_PCA import computeCov\n",
    "from computeStats import computeOverAllDist, STAT_Descriptions"
   ]
  },
  {
   "cell_type": "markdown",
   "metadata": {
    "deletable": true,
    "editable": true,
    "run_control": {
     "frozen": false,
     "read_only": false
    },
    "slideshow": {
     "slide_type": "slide"
    }
   },
   "source": [
    "### Climate data\n",
    "\n",
    "The data we will use here comes from [NOAA](https://www.ncdc.noaa.gov/). Specifically, it was downloaded from This [FTP site](ftp://ftp.ncdc.noaa.gov/pub/data/ghcn/daily/).\n",
    "\n",
    "There is a large variety of measurements from all over the world, from 1870 will 2012.\n",
    "in the directory `../../Data/Weather` you will find the following useful files:\n",
    "\n",
    "* data-source.txt: the source of the data\n",
    "* ghcnd-readme.txt: A description of the content and format of the data\n",
    "* ghcnd-stations.txt: A table describing the Meteorological stations.\n",
    "\n"
   ]
  },
  {
   "cell_type": "markdown",
   "metadata": {
    "deletable": true,
    "editable": true,
    "run_control": {
     "frozen": false,
     "read_only": false
    },
    "slideshow": {
     "slide_type": "subslide"
    }
   },
   "source": [
    "### Data cleaning\n",
    "\n",
    "* Most measurements exists only for a tiny fraction of the stations and years. We therefor restrict our use to the following measurements:\n",
    "```python\n",
    "['TMAX', 'SNOW', 'SNWD', 'TMIN', 'PRCP', 'TOBS']\n",
    "```\n",
    "\n",
    "* 8 We consider only measurement-years that have at most 50 `NaN` entries\n",
    "\n",
    "* We consider only measurements in the continential USA\n",
    "\n",
    "* We partition the stations into 256 geographical rectangles, indexed from BBBBBBBB to SSSSSSSS. And each containing about 12,000 station,year pairs."
   ]
  },
  {
   "cell_type": "code",
   "execution_count": 3,
   "metadata": {
    "collapsed": false,
    "deletable": true,
    "editable": true,
    "run_control": {
     "frozen": false,
     "read_only": false
    },
    "scrolled": true,
    "slideshow": {
     "slide_type": "subslide"
    }
   },
   "outputs": [
    {
     "name": "stdout",
     "output_type": "stream",
     "text": [
      "curl https://mas-dse-open.s3.amazonaws.com/Weather/small/US_Weather_BSSSBSBB.csv.gz > ../../Data/Weather/US_Weather_BSSSBSBB.csv.gz\n",
      "  % Total    % Received % Xferd  Average Speed   Time    Time     Time  Current\n",
      "                                 Dload  Upload   Total   Spent    Left  Speed\n",
      "100 2800k  100 2800k    0     0  2449k      0  0:00:01  0:00:01 --:--:-- 2496k\n",
      "-rwxr-xr-x 1 root root 2.8M May 16 04:12 ../../Data/Weather/US_Weather_BSSSBSBB.csv.gz\n"
     ]
    }
   ],
   "source": [
    "#file_index='BBBSBBBB'\n",
    "file_index='BSSSBSBB'\n",
    "data_dir='../../Data/Weather'\n",
    "\n",
    "filebase='US_Weather_%s'%file_index\n",
    "#!rm -rf $data_dir/$filebase*\n",
    "\n",
    "c_filename=filebase+'.csv.gz'\n",
    "u_filename=filebase+'.csv'\n",
    "\n",
    "command=\"curl https://mas-dse-open.s3.amazonaws.com/Weather/small/%s > %s/%s\"%(c_filename,data_dir,c_filename)\n",
    "print command\n",
    "!$command\n",
    "!ls -lh $data_dir/$c_filename"
   ]
  },
  {
   "cell_type": "code",
   "execution_count": 4,
   "metadata": {
    "collapsed": false,
    "deletable": true,
    "editable": true,
    "run_control": {
     "frozen": false,
     "read_only": false
    },
    "scrolled": true,
    "slideshow": {
     "slide_type": "subslide"
    }
   },
   "outputs": [
    {
     "data": {
      "text/plain": [
       "12816"
      ]
     },
     "execution_count": 4,
     "metadata": {},
     "output_type": "execute_result"
    }
   ],
   "source": [
    "#unzip\n",
    "#!gunzip -c $data_dir/$c_filename > $data_dir/$u_filename   (CSV file already present)\n",
    "import pickle\n",
    "List=pickle.load(open(data_dir+'/'+u_filename,'rb'))\n",
    "len(List)"
   ]
  },
  {
   "cell_type": "code",
   "execution_count": 5,
   "metadata": {
    "collapsed": false,
    "deletable": true,
    "editable": true,
    "run_control": {
     "frozen": false,
     "read_only": false
    },
    "slideshow": {
     "slide_type": "subslide"
    }
   },
   "outputs": [
    {
     "name": "stdout",
     "output_type": "stream",
     "text": [
      "12816\n",
      "+---------+--------+---------+-----------+-----------+------+--------------------+------+--------+\n",
      "|elevation|latitude|longitude|measurement|    station|undefs|              vector|  year|   label|\n",
      "+---------+--------+---------+-----------+-----------+------+--------------------+------+--------+\n",
      "|     78.3| 32.5906| -86.2103|       TMAX|USC00018859|     1|[C8 5A E8 59 F0 5...|1897.0|BSSSBSBB|\n",
      "|     78.3| 32.5906| -86.2103|       TMAX|USC00018859|     0|[80 58 00 00 20 5...|1898.0|BSSSBSBB|\n",
      "|     78.3| 32.5906| -86.2103|       TMAX|USC00018859|     0|[60 59 00 53 40 5...|1899.0|BSSSBSBB|\n",
      "|     78.3| 32.5906| -86.2103|       TMAX|USC00018859|     6|[00 C6 00 4F 00 4...|1900.0|BSSSBSBB|\n",
      "|     78.3| 32.5906| -86.2103|       TMAX|USC00018859|     0|[28 58 40 56 30 5...|1901.0|BSSSBSBB|\n",
      "|     78.3| 32.5906| -86.2103|       TMAX|USC00018859|     0|[80 58 E8 59 38 5...|1902.0|BSSSBSBB|\n",
      "|     78.3| 32.5906| -86.2103|       TMAX|USC00018859|     3|[E0 58 E8 59 B8 5...|1903.0|BSSSBSBB|\n",
      "|     78.3| 32.5906| -86.2103|       TMAX|USC00018859|     0|[10 5A B8 59 58 5...|1904.0|BSSSBSBB|\n",
      "|     78.3| 32.5906| -86.2103|       TMAX|USC00018859|     0|[98 5A 20 5B B8 5...|1905.0|BSSSBSBB|\n",
      "|     78.3| 32.5906| -86.2103|       TMAX|USC00018859|     2|[E0 58 58 58 B8 5...|1906.0|BSSSBSBB|\n",
      "|     78.3| 32.5906| -86.2103|       TMAX|USC00018859|     0|[C8 5A 78 5B 48 5...|1907.0|BSSSBSBB|\n",
      "|     78.3| 32.5906| -86.2103|       TMAX|USC00018859|     0|[70 5A 10 5A 10 5...|1908.0|BSSSBSBB|\n",
      "|     78.3| 32.5906| -86.2103|       TMAX|USC00018859|     0|[90 59 90 59 90 5...|1909.0|BSSSBSBB|\n",
      "|     78.3| 32.5906| -86.2103|       TMAX|USC00018859|     0|[90 59 A0 5B A0 5...|1910.0|BSSSBSBB|\n",
      "|     78.3| 32.5906| -86.2103|       TMAX|USC00018859|     0|[F0 56 B8 59 00 5...|1911.0|BSSSBSBB|\n",
      "|     78.3| 32.5906| -86.2103|       TMAX|USC00018859|     3|[00 58 30 54 30 5...|1912.0|BSSSBSBB|\n",
      "|     78.3| 32.5906| -86.2103|       TMAX|USC00018859|     2|[80 58 E8 59 58 5...|1913.0|BSSSBSBB|\n",
      "|     78.3| 32.5906| -86.2103|       TMAX|USC00018859|    32|[00 7E 00 7E 00 7...|1914.0|BSSSBSBB|\n",
      "|     78.3| 32.5906| -86.2103|       TMAX|USC00018859|     0|[20 5B 48 5B 00 5...|1915.0|BSSSBSBB|\n",
      "|     78.3| 32.5906| -86.2103|       TMAX|USC00018859|     6|[D0 5B D0 5B 10 5...|1916.0|BSSSBSBB|\n",
      "|     78.3| 32.5906| -86.2103|       TMAX|USC00018859|    19|[70 5A 00 5C A0 5...|1917.0|BSSSBSBB|\n",
      "|     78.3| 32.5906| -86.2103|       TMAX|USC00018859|     0|[00 53 F0 56 40 5...|1918.0|BSSSBSBB|\n",
      "|     78.3| 32.5906| -86.2103|       TMAX|USC00018859|     9|[78 5B 30 55 80 C...|1919.0|BSSSBSBB|\n",
      "|     78.3| 32.5906| -86.2103|       TMAX|USC00018859|     1|[38 59 F0 56 E0 5...|1920.0|BSSSBSBB|\n",
      "|     78.3| 32.5906| -86.2103|       TMAX|USC00018859|     2|[70 5A E8 59 70 5...|1921.0|BSSSBSBB|\n",
      "|     78.3| 32.5906| -86.2103|       TMAX|USC00018859|     8|[E0 54 F0 56 E8 5...|1922.0|BSSSBSBB|\n",
      "|     78.3| 32.5906| -86.2103|       TMAX|USC00018859|     0|[40 5A 80 58 A0 5...|1923.0|BSSSBSBB|\n",
      "|     78.3| 32.5906| -86.2103|       TMAX|USC00018859|     0|[50 57 B8 59 90 5...|1924.0|BSSSBSBB|\n",
      "|     78.3| 32.5906| -86.2103|       TMAX|USC00018859|     6|[00 7E 00 7E 00 7...|1925.0|BSSSBSBB|\n",
      "|     78.3| 32.5906| -86.2103|       TMAX|USC00018859|     0|[E0 58 A0 57 38 5...|1926.0|BSSSBSBB|\n",
      "|     78.3| 32.5906| -86.2103|       TMAX|USC00018859|     0|[90 55 28 58 10 5...|1927.0|BSSSBSBB|\n",
      "|     78.3| 32.5906| -86.2103|       TMAX|USC00018859|     0|[E0 D0 00 46 40 4...|1928.0|BSSSBSBB|\n",
      "|     78.3| 32.5906| -86.2103|       TMAX|USC00018859|     1|[98 5A 40 5A 70 5...|1929.0|BSSSBSBB|\n",
      "|     78.3| 32.5906| -86.2103|       TMAX|USC00018859|     0|[70 5A C8 5A 80 5...|1930.0|BSSSBSBB|\n",
      "|     78.3| 32.5906| -86.2103|       TMAX|USC00018859|     0|[E0 55 00 58 50 5...|1931.0|BSSSBSBB|\n",
      "|     78.3| 32.5906| -86.2103|       TMAX|USC00018859|     0|[70 5A 28 58 28 5...|1932.0|BSSSBSBB|\n",
      "|     78.3| 32.5906| -86.2103|       TMAX|USC00018859|     1|[40 56 58 58 28 5...|1933.0|BSSSBSBB|\n",
      "|     78.3| 32.5906| -86.2103|       TMAX|USC00018859|     2|[78 5B 98 5A E0 5...|1934.0|BSSSBSBB|\n",
      "|     78.3| 32.5906| -86.2103|       TMAX|USC00018859|     1|[B8 59 58 58 E0 5...|1935.0|BSSSBSBB|\n",
      "|     78.3| 32.5906| -86.2103|       TMAX|USC00018859|     0|[00 53 90 59 80 5...|1936.0|BSSSBSBB|\n",
      "|     78.3| 32.5906| -86.2103|       TMAX|USC00018859|     0|[90 59 98 5A 70 5...|1937.0|BSSSBSBB|\n",
      "|     78.3| 32.5906| -86.2103|       TMAX|USC00018859|     0|[E8 59 B0 58 38 5...|1938.0|BSSSBSBB|\n",
      "|     78.3| 32.5906| -86.2103|       TMAX|USC00018859|     0|[90 59 98 5A C8 5...|1939.0|BSSSBSBB|\n",
      "|     78.3| 32.5906| -86.2103|       TMAX|USC00018859|     0|[08 59 28 58 80 5...|1940.0|BSSSBSBB|\n",
      "|     78.3| 32.5906| -86.2103|       TMAX|USC00018859|     0|[40 5A 70 5A 10 5...|1941.0|BSSSBSBB|\n",
      "|     78.3| 32.5906| -86.2103|       TMAX|USC00018859|     0|[10 5A E8 59 E0 5...|1942.0|BSSSBSBB|\n",
      "|     78.3| 32.5906| -86.2103|       TMAX|USC00018859|     0|[70 5A F0 5A 78 5...|1943.0|BSSSBSBB|\n",
      "|     78.3| 32.5906| -86.2103|       TMAX|USC00018859|     0|[A0 57 40 56 80 5...|1944.0|BSSSBSBB|\n",
      "|     78.3| 32.5906| -86.2103|       TMAX|USC00018859|     0|[C8 5A E0 55 E0 5...|1945.0|BSSSBSBB|\n",
      "|     78.3| 32.5906| -86.2103|       TMAX|USC00018859|     0|[A0 56 58 58 90 5...|1946.0|BSSSBSBB|\n",
      "|     78.3| 32.5906| -86.2103|       TMAX|USC00018859|     0|[40 56 B0 58 38 5...|1947.0|BSSSBSBB|\n",
      "|     78.3| 32.5906| -86.2103|       TMAX|USC00018859|     0|[98 5A 40 56 A0 5...|1948.0|BSSSBSBB|\n",
      "|     78.3| 32.5906| -86.2103|       TMAX|USC00018859|    32|[E0 54 F0 56 80 5...|1949.0|BSSSBSBB|\n",
      "|     78.3| 32.5906| -86.2103|       TMAX|USC00018859|     1|[90 59 C8 5A 20 5...|1950.0|BSSSBSBB|\n",
      "|     78.3| 32.5906| -86.2103|       TMAX|USC00018859|     0|[58 58 40 5A 20 5...|1951.0|BSSSBSBB|\n",
      "|     78.3| 32.5906| -86.2103|       TMAX|USC00018859|     1|[14 5C F0 5A 10 5...|1952.0|BSSSBSBB|\n",
      "|     78.3| 32.5906| -86.2103|       TMAX|USC00018859|     0|[40 56 90 59 90 5...|1953.0|BSSSBSBB|\n",
      "|     78.3| 32.5906| -86.2103|       TMAX|USC00018859|     1|[58 58 B8 59 70 5...|1954.0|BSSSBSBB|\n",
      "|     78.3| 32.5906| -86.2103|       TMAX|USC00018859|     0|[08 59 70 5A B8 5...|2004.0|BSSSBSBB|\n",
      "|     78.3| 32.5906| -86.2103|       TMAX|USC00018859|     2|[E8 59 F0 5A 20 5...|2005.0|BSSSBSBB|\n",
      "|     78.3| 32.5906| -86.2103|       TMAX|USC00018859|    21|[B8 59 F0 5A 14 5...|2006.0|BSSSBSBB|\n",
      "|     78.3| 32.5906| -86.2103|       TMAX|USC00018859|    11|[C8 5A 58 58 58 5...|2007.0|BSSSBSBB|\n",
      "|     78.3| 32.5906| -86.2103|       TMAX|USC00018859|    20|[58 58 E0 55 40 4...|2008.0|BSSSBSBB|\n",
      "|     78.3| 32.5906| -86.2103|       TMAX|USC00018859|    12|[28 58 A0 57 E8 5...|2009.0|BSSSBSBB|\n",
      "|     78.3| 32.5906| -86.2103|       TMIN|USC00018859|     2|[58 58 E0 58 B0 5...|1897.0|BSSSBSBB|\n",
      "|     78.3| 32.5906| -86.2103|       TMIN|USC00018859|     0|[00 CF 90 D5 30 D...|1898.0|BSSSBSBB|\n",
      "|     78.3| 32.5906| -86.2103|       TMIN|USC00018859|     0|[20 D0 20 D0 80 C...|1899.0|BSSSBSBB|\n",
      "|     78.3| 32.5906| -86.2103|       TMIN|USC00018859|     0|[E0 D0 30 D5 90 D...|1900.0|BSSSBSBB|\n",
      "|     78.3| 32.5906| -86.2103|       TMIN|USC00018859|     2|[E0 54 30 54 A0 5...|1901.0|BSSSBSBB|\n",
      "|     78.3| 32.5906| -86.2103|       TMIN|USC00018859|     0|[40 CC 80 C9 40 4...|1902.0|BSSSBSBB|\n",
      "|     78.3| 32.5906| -86.2103|       TMIN|USC00018859|     3|[80 54 F0 56 30 5...|1903.0|BSSSBSBB|\n",
      "|     78.3| 32.5906| -86.2103|       TMIN|USC00018859|     0|[00 CF 40 52 00 D...|1904.0|BSSSBSBB|\n",
      "|     78.3| 32.5906| -86.2103|       TMIN|USC00018859|     0|[80 CD F0 56 80 4...|1905.0|BSSSBSBB|\n",
      "|     78.3| 32.5906| -86.2103|       TMIN|USC00018859|     2|[00 CF 80 51 F0 5...|1906.0|BSSSBSBB|\n",
      "|     78.3| 32.5906| -86.2103|       TMIN|USC00018859|     1|[E0 50 A0 56 58 5...|1907.0|BSSSBSBB|\n",
      "|     78.3| 32.5906| -86.2103|       TMIN|USC00018859|     0|[00 00 40 4C 80 4...|1908.0|BSSSBSBB|\n",
      "|     78.3| 32.5906| -86.2103|       TMIN|USC00018859|     0|[E0 54 80 C9 00 C...|1909.0|BSSSBSBB|\n",
      "|     78.3| 32.5906| -86.2103|       TMIN|USC00018859|     0|[00 46 40 52 40 5...|1910.0|BSSSBSBB|\n",
      "|     78.3| 32.5906| -86.2103|       TMIN|USC00018859|     0|[80 51 F0 56 80 C...|1911.0|BSSSBSBB|\n",
      "|     78.3| 32.5906| -86.2103|       TMIN|USC00018859|     3|[E0 50 00 46 A0 5...|1912.0|BSSSBSBB|\n",
      "|     78.3| 32.5906| -86.2103|       TMIN|USC00018859|     0|[80 49 40 4C 00 4...|1913.0|BSSSBSBB|\n",
      "|     78.3| 32.5906| -86.2103|       TMIN|USC00018859|    32|[00 7E 00 7E 00 7...|1914.0|BSSSBSBB|\n",
      "|     78.3| 32.5906| -86.2103|       TMIN|USC00018859|     1|[80 D1 E0 D0 20 D...|1915.0|BSSSBSBB|\n",
      "|     78.3| 32.5906| -86.2103|       TMIN|USC00018859|     5|[E0 55 40 56 30 5...|1916.0|BSSSBSBB|\n",
      "|     78.3| 32.5906| -86.2103|       TMIN|USC00018859|    19|[80 54 A0 53 B0 5...|1917.0|BSSSBSBB|\n",
      "|     78.3| 32.5906| -86.2103|       TMIN|USC00018859|     1|[30 D4 00 D3 80 C...|1918.0|BSSSBSBB|\n",
      "|     78.3| 32.5906| -86.2103|       TMIN|USC00018859|     2|[A0 57 E0 54 A0 D...|1919.0|BSSSBSBB|\n",
      "|     78.3| 32.5906| -86.2103|       TMIN|USC00018859|     0|[A0 53 20 D0 E0 D...|1920.0|BSSSBSBB|\n",
      "|     78.3| 32.5906| -86.2103|       TMIN|USC00018859|     0|[80 4D 80 4D 50 5...|1921.0|BSSSBSBB|\n",
      "|     78.3| 32.5906| -86.2103|       TMIN|USC00018859|     0|[80 4D 40 D2 00 C...|1922.0|BSSSBSBB|\n",
      "|     78.3| 32.5906| -86.2103|       TMIN|USC00018859|     0|[40 52 80 4D 00 4...|1923.0|BSSSBSBB|\n",
      "|     78.3| 32.5906| -86.2103|       TMIN|USC00018859|     2|[E0 50 E0 50 E0 5...|1924.0|BSSSBSBB|\n",
      "|     78.3| 32.5906| -86.2103|       TMIN|USC00018859|     0|[A0 56 80 54 80 5...|1925.0|BSSSBSBB|\n",
      "|     78.3| 32.5906| -86.2103|       TMIN|USC00018859|     1|[40 CC 00 C6 80 5...|1926.0|BSSSBSBB|\n",
      "|     78.3| 32.5906| -86.2103|       TMIN|USC00018859|     4|[80 4D 80 CD 80 C...|1927.0|BSSSBSBB|\n",
      "|     78.3| 32.5906| -86.2103|       TMIN|USC00018859|     0|[A0 D3 50 D7 50 D...|1928.0|BSSSBSBB|\n",
      "|     78.3| 32.5906| -86.2103|       TMIN|USC00018859|     1|[00 4F 80 49 80 D...|1929.0|BSSSBSBB|\n",
      "|     78.3| 32.5906| -86.2103|       TMIN|USC00018859|     0|[40 4C 00 53 30 5...|1930.0|BSSSBSBB|\n",
      "|     78.3| 32.5906| -86.2103|       TMIN|USC00018859|     4|[00 46 80 D1 40 D...|1931.0|BSSSBSBB|\n",
      "|     78.3| 32.5906| -86.2103|       TMIN|USC00018859|     0|[40 52 40 4C 00 0...|1932.0|BSSSBSBB|\n",
      "+---------+--------+---------+-----------+-----------+------+--------------------+------+--------+\n",
      "only showing top 100 rows\n",
      "\n"
     ]
    }
   ],
   "source": [
    "df=sqlContext.createDataFrame(List)\n",
    "print df.count()\n",
    "df.show(100)"
   ]
  },
  {
   "cell_type": "code",
   "execution_count": 6,
   "metadata": {
    "collapsed": false,
    "deletable": true,
    "editable": true,
    "run_control": {
     "frozen": false,
     "read_only": false
    },
    "slideshow": {
     "slide_type": "subslide"
    }
   },
   "outputs": [],
   "source": [
    "#store dataframe as parquet file\n",
    "outfilename=data_dir+'/'+filebase+'.parquet'\n",
    "!rm -rf $outfilename\n",
    "df.write.save(outfilename)"
   ]
  },
  {
   "cell_type": "code",
   "execution_count": 7,
   "metadata": {
    "collapsed": false,
    "deletable": true,
    "editable": true,
    "run_control": {
     "frozen": false,
     "read_only": false
    },
    "slideshow": {
     "slide_type": "subslide"
    }
   },
   "outputs": [
    {
     "name": "stdout",
     "output_type": "stream",
     "text": [
      "12M\t../../Data/Weather/US_Weather_BSSSBSBB.csv\r\n",
      "2.8M\t../../Data/Weather/US_Weather_BSSSBSBB.csv.gz\r\n",
      "3.3M\t../../Data/Weather/US_Weather_BSSSBSBB.parquet\r\n"
     ]
    }
   ],
   "source": [
    "# Compare file sizes\n",
    "!du -sh $data_dir/$filebase*"
   ]
  },
  {
   "cell_type": "code",
   "execution_count": 8,
   "metadata": {
    "collapsed": false,
    "deletable": true,
    "editable": true,
    "run_control": {
     "frozen": false,
     "read_only": false
    }
   },
   "outputs": [
    {
     "name": "stdout",
     "output_type": "stream",
     "text": [
      "Number of executors= 3\n",
      "took 0.00237393379211 seconds\n"
     ]
    }
   ],
   "source": [
    "from time import time\n",
    "t=time()\n",
    "\n",
    "N=sc.defaultParallelism\n",
    "print 'Number of executors=',N\n",
    "print 'took',time()-t,'seconds'"
   ]
  },
  {
   "cell_type": "code",
   "execution_count": 9,
   "metadata": {
    "collapsed": false,
    "deletable": true,
    "editable": true,
    "run_control": {
     "frozen": false,
     "read_only": false
    }
   },
   "outputs": [],
   "source": [
    "measurements=['TMAX', 'SNOW', 'SNWD', 'TMIN', 'PRCP', 'TOBS']\n",
    "s_c_f = {'TMAX':10.0, 'SNOW':1.0, 'SNWD':1.0, 'TMIN':10.0, 'PRCP':10.0, 'TOBS':10.0}"
   ]
  },
  {
   "cell_type": "code",
   "execution_count": 10,
   "metadata": {
    "collapsed": false,
    "deletable": true,
    "editable": true,
    "run_control": {
     "frozen": false,
     "read_only": false
    }
   },
   "outputs": [],
   "source": [
    "sqlContext.registerDataFrameAsTable(df,'weather') #using older sqlContext instead of newer (V2.0) sparkSession"
   ]
  },
  {
   "cell_type": "code",
   "execution_count": 11,
   "metadata": {
    "collapsed": false,
    "deletable": true,
    "editable": true,
    "run_control": {
     "frozen": false,
     "read_only": false
    }
   },
   "outputs": [
    {
     "name": "stdout",
     "output_type": "stream",
     "text": [
      "SELECT * FROM weather\n",
      "\tWHERE measurement = 'TMAX'\n",
      "shape of E= (365,) shape of NE= (365,)\n",
      "time for TMAX is 13.1439471245\n",
      "SELECT * FROM weather\n",
      "\tWHERE measurement = 'SNOW'\n",
      "shape of E= (365,) shape of NE= (365,)\n",
      "time for SNOW is 16.9136049747\n",
      "SELECT * FROM weather\n",
      "\tWHERE measurement = 'SNWD'\n",
      "shape of E= (365,) shape of NE= (365,)\n",
      "time for SNWD is 15.5124950409\n",
      "SELECT * FROM weather\n",
      "\tWHERE measurement = 'TMIN'\n",
      "shape of E= (365,) shape of NE= (365,)\n",
      "time for TMIN is 12.5386798382\n",
      "SELECT * FROM weather\n",
      "\tWHERE measurement = 'PRCP'\n",
      "shape of E= (365,) shape of NE= (365,)\n",
      "time for PRCP is 22.4382200241\n",
      "SELECT * FROM weather\n",
      "\tWHERE measurement = 'TOBS'\n",
      "shape of E= (365,) shape of NE= (365,)\n",
      "time for TOBS is 8.71833086014\n"
     ]
    }
   ],
   "source": [
    "from numpy import linalg as LA\n",
    "STAT={}  # dictionary storing the statistics for each measurement\n",
    "Clean_Tables={}\n",
    "\n",
    "for meas in measurements:\n",
    "    t=time()\n",
    "    Query=\"SELECT * FROM weather\\n\\tWHERE measurement = '%s'\"%(meas)\n",
    "    print Query\n",
    "    df = sqlContext.sql(Query)\n",
    "    data=df.rdd.map(lambda row: unpackArray(row['vector'],np.float16))\n",
    "    data=data.map(lambda x: x/s_c_f[meas])\n",
    "    #get very basic statistics\n",
    "    STAT[meas]=computeOverAllDist(data)   # Compute the statistics \n",
    "\n",
    "    # compute covariance matrix\n",
    "    OUT=computeCov(data)\n",
    "\n",
    "    #find PCA decomposition\n",
    "    eigval,eigvec=LA.eig(OUT['Cov'])\n",
    "\n",
    "    # collect all of the statistics in STAT[meas]\n",
    "    STAT[meas]['eigval']=eigval\n",
    "    STAT[meas]['eigvec']=eigvec\n",
    "    STAT[meas].update(OUT)\n",
    "\n",
    "    print 'time for',meas,'is',time()-t"
   ]
  },
  {
   "cell_type": "code",
   "execution_count": 12,
   "metadata": {
    "collapsed": false
   },
   "outputs": [
    {
     "data": {
      "text/plain": [
       "24.714919518287651"
      ]
     },
     "execution_count": 12,
     "metadata": {},
     "output_type": "execute_result"
    }
   ],
   "source": [
    "STAT['TMAX']['mean']"
   ]
  },
  {
   "cell_type": "code",
   "execution_count": 13,
   "metadata": {
    "collapsed": false
   },
   "outputs": [
    {
     "data": {
      "text/plain": [
       "array([ 0.09487476,  0.08869211, -0.02068353,  0.01627564, -0.08880133,\n",
       "       -0.09809364,  0.02663642,  0.13939454,  0.09085585,  0.11988258,\n",
       "        0.14080413, -0.0377958 ,  0.04485955, -0.05569259, -0.00557738,\n",
       "        0.09060592,  0.03785723,  0.00949975, -0.06523622, -0.10187728,\n",
       "        0.09219186, -0.07414555,  0.03194781, -0.01368897,  0.04953814,\n",
       "        0.01134011,  0.01546935, -0.05842544, -0.03967872, -0.0040672 ,\n",
       "        0.03309424,  0.00037442,  0.04248736, -0.0418223 ,  0.00330961,\n",
       "        0.13881109, -0.03495111,  0.01967528,  0.10331692, -0.07572734,\n",
       "        0.03321092, -0.06973782, -0.01875284,  0.05218785,  0.02707793,\n",
       "        0.03077262,  0.05894274, -0.04365224,  0.00340001,  0.08509053,\n",
       "        0.05853786, -0.06758128,  0.04250406, -0.02426679,  0.01602122,\n",
       "        0.04307903,  0.13903489,  0.08340479,  0.08433669,  0.07234891,\n",
       "        0.03264406,  0.10018914,  0.01144571, -0.0874481 , -0.00828789,\n",
       "       -0.06563943, -0.04198701, -0.03032005,  0.0488247 ,  0.10299159,\n",
       "       -0.07208123,  0.02546198,  0.03201385,  0.00818056, -0.02494586,\n",
       "        0.1091542 , -0.00777813,  0.03802641, -0.00431771,  0.00686332,\n",
       "       -0.05005038, -0.16946503, -0.06583652,  0.02977618, -0.01616448,\n",
       "        0.0654936 , -0.03393623, -0.0036414 , -0.0200069 ,  0.01359717,\n",
       "        0.0335858 , -0.04026752,  0.02006537, -0.07011479, -0.06425651,\n",
       "       -0.12306425,  0.06790209,  0.05282908, -0.05148865,  0.05617736,\n",
       "        0.06278296, -0.03255426,  0.03572868, -0.08719181, -0.0043825 ,\n",
       "        0.04392253,  0.03157684, -0.00558165, -0.02852632, -0.01560694,\n",
       "        0.08372057, -0.0495119 , -0.01972915,  0.00972256,  0.01693315,\n",
       "       -0.04344063, -0.02107805,  0.08819812, -0.0473481 , -0.02981107,\n",
       "       -0.06593903,  0.0560371 , -0.02749615, -0.0011488 , -0.01903069,\n",
       "       -0.01749996, -0.02137457, -0.10290847, -0.07594695,  0.0174925 ,\n",
       "       -0.01406147, -0.05815121, -0.03826605,  0.0228797 , -0.02479672,\n",
       "       -0.05499613, -0.08391347, -0.03328034,  0.02408434,  0.06681153,\n",
       "       -0.01427203,  0.04130057, -0.0402763 ,  0.01757056, -0.00754126,\n",
       "        0.05327863, -0.05344271, -0.02454573, -0.04682762, -0.02096311,\n",
       "        0.01653848,  0.05156545, -0.00181337,  0.01439132, -0.09282911,\n",
       "        0.04552251, -0.04472318, -0.01615197,  0.016567  , -0.06766998,\n",
       "       -0.0504786 ,  0.01919457, -0.05603098, -0.0419336 , -0.00733717,\n",
       "        0.00201515,  0.02395277,  0.06476464, -0.04322989,  0.01303135,\n",
       "        0.0525557 , -0.01345421, -0.05838169, -0.04672307,  0.07919581,\n",
       "       -0.0120459 ,  0.00407356,  0.0425256 , -0.00656374, -0.01189931,\n",
       "        0.02320021,  0.02893466, -0.00434114, -0.02317858, -0.02294396,\n",
       "        0.02675472,  0.00805455, -0.05099786,  0.00333843, -0.05870803,\n",
       "        0.04980945,  0.01922344,  0.03999981,  0.02105705,  0.03265577,\n",
       "        0.01084755, -0.03886904, -0.01890868, -0.02864261, -0.08357149,\n",
       "        0.04635999, -0.07235835,  0.07896942,  0.03208261,  0.03922857,\n",
       "        0.03803484, -0.05204825, -0.00281107,  0.03635029,  0.01965072,\n",
       "        0.03688778, -0.03313485,  0.00036184, -0.01289451, -0.03449403,\n",
       "       -0.04942826, -0.05110514,  0.05097561, -0.08595382,  0.09252209,\n",
       "        0.04414277,  0.06371966, -0.02838151,  0.0131721 ,  0.01008573,\n",
       "        0.06216344, -0.03561971,  0.04090069, -0.05756822,  0.04218608,\n",
       "        0.18451663, -0.05618177,  0.06706899, -0.04755703,  0.03718547,\n",
       "        0.01895138, -0.00978671, -0.02336387,  0.03594921, -0.04550381,\n",
       "       -0.0117538 , -0.01613363, -0.01530227,  0.05127949,  0.00063681,\n",
       "        0.00393533,  0.05694254,  0.01206622, -0.01043859,  0.0450852 ,\n",
       "        0.03626426, -0.06589591, -0.05089011,  0.03284715,  0.00908479,\n",
       "        0.00730763, -0.0113643 , -0.04273525, -0.05661201,  0.02474906,\n",
       "       -0.00305589,  0.00104369, -0.09660403, -0.06934393, -0.04304665,\n",
       "       -0.00934526, -0.00176257,  0.06445124, -0.06619372,  0.00865029,\n",
       "       -0.01166009, -0.00725892,  0.00302034, -0.03471625, -0.08263248,\n",
       "       -0.03415222,  0.01231356,  0.0059271 , -0.09346459, -0.02027574,\n",
       "       -0.02533576, -0.00619461,  0.03279971,  0.01121435, -0.01089315,\n",
       "        0.04545761,  0.0228135 , -0.06778615, -0.00785722, -0.02965392,\n",
       "        0.0363035 , -0.04081755,  0.04890135, -0.07570903,  0.00717724,\n",
       "       -0.00975734, -0.03438902, -0.02712063,  0.0102377 , -0.00078675,\n",
       "       -0.00071069,  0.01580906, -0.04444845,  0.02508762, -0.04013753,\n",
       "        0.02824705, -0.02544069,  0.00836335, -0.00693748,  0.05469238,\n",
       "       -0.04280974,  0.10516247, -0.11674514,  0.08297553, -0.04518214,\n",
       "       -0.08810262,  0.09385537, -0.0195487 , -0.02240457,  0.11286893,\n",
       "       -0.01601799, -0.01870405,  0.12955424, -0.11747989,  0.03811445,\n",
       "       -0.02243909, -0.02554149, -0.03429321,  0.10554265,  0.08516444,\n",
       "       -0.0962944 , -0.04784663, -0.03223997,  0.0297331 , -0.04797084,\n",
       "        0.04884197,  0.05144341,  0.05466118,  0.1017328 , -0.01635942,\n",
       "        0.03839477,  0.04894677, -0.00399724,  0.05371346,  0.06519763,\n",
       "       -0.07014732, -0.00424976, -0.01771387,  0.02814108, -0.03030512,\n",
       "        0.07787002,  0.02647731,  0.04936849,  0.07056008,  0.00039651,\n",
       "       -0.00169839, -0.01663024, -0.00161403,  0.00662217,  0.01279504,\n",
       "        0.05211856, -0.00735031,  0.0258868 , -0.01864183, -0.0204923 ])"
      ]
     },
     "execution_count": 13,
     "metadata": {},
     "output_type": "execute_result"
    }
   ],
   "source": [
    "STAT['PRCP']['eigvec'][0,:]"
   ]
  },
  {
   "cell_type": "code",
   "execution_count": 14,
   "metadata": {
    "collapsed": false,
    "deletable": true,
    "editable": true,
    "run_control": {
     "frozen": false,
     "read_only": false
    }
   },
   "outputs": [],
   "source": [
    "from pickle import dump\n",
    "filename=data_dir+'/STAT_%s.pickle'%file_index\n",
    "dump((STAT,STAT_Descriptions),open(filename,'wb'))\n"
   ]
  },
  {
   "cell_type": "code",
   "execution_count": 15,
   "metadata": {
    "collapsed": true
   },
   "outputs": [],
   "source": [
    "sc.stop()"
   ]
  },
  {
   "cell_type": "code",
   "execution_count": null,
   "metadata": {
    "collapsed": false,
    "deletable": true,
    "editable": true
   },
   "outputs": [],
   "source": []
  },
  {
   "cell_type": "code",
   "execution_count": null,
   "metadata": {
    "collapsed": true
   },
   "outputs": [],
   "source": []
  }
 ],
 "metadata": {
  "anaconda-cloud": {},
  "celltoolbar": "Slideshow",
  "kernelspec": {
   "display_name": "Python 2",
   "language": "python",
   "name": "python2"
  },
  "language_info": {
   "codemirror_mode": {
    "name": "ipython",
    "version": 2
   },
   "file_extension": ".py",
   "mimetype": "text/x-python",
   "name": "python",
   "nbconvert_exporter": "python",
   "pygments_lexer": "ipython2",
   "version": "2.7.13"
  },
  "name": "PCA_using_numpy for HW3",
  "notebookId": 85286,
  "toc": {
   "colors": {
    "hover_highlight": "#DAA520",
    "running_highlight": "#FF0000",
    "selected_highlight": "#FFD700"
   },
   "moveMenuLeft": true,
   "nav_menu": {
    "height": "116px",
    "width": "252px"
   },
   "navigate_menu": true,
   "number_sections": true,
   "sideBar": true,
   "threshold": 4,
   "toc_cell": false,
   "toc_section_display": "block",
   "toc_window_display": false,
   "widenNotebook": false
  }
 },
 "nbformat": 4,
 "nbformat_minor": 0
}
