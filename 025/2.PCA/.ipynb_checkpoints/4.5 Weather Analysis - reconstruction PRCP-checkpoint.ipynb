{
 "cells": [
  {
   "cell_type": "code",
   "execution_count": 1,
   "metadata": {
    "collapsed": true,
    "run_control": {
     "frozen": false,
     "read_only": false
    }
   },
   "outputs": [],
   "source": [
    "#setup\n",
    "data_dir='../../Data/Weather'\n",
    "file_index='BSBSSSSS'\n",
    "m='PRCP'"
   ]
  },
  {
   "cell_type": "markdown",
   "metadata": {
    "run_control": {
     "frozen": false,
     "read_only": false
    },
    "slideshow": {
     "slide_type": "slide"
    },
    "variables": {
     "m": "PRCP"
    }
   },
   "source": [
    "# Reconstruction using top eigen-vectors\n",
    "For measurement = {{m}}"
   ]
  },
  {
   "cell_type": "markdown",
   "metadata": {
    "run_control": {
     "frozen": false,
     "read_only": false
    },
    "slideshow": {
     "slide_type": "skip"
    }
   },
   "source": [
    "## Load the required libraries"
   ]
  },
  {
   "cell_type": "code",
   "execution_count": 2,
   "metadata": {
    "run_control": {
     "frozen": false,
     "read_only": false
    },
    "slideshow": {
     "slide_type": "skip"
    }
   },
   "outputs": [],
   "source": [
    "# Enable automiatic reload of libraries\n",
    "#%load_ext autoreload\n",
    "#%autoreload 2 # means that all modules are reloaded before every command"
   ]
  },
  {
   "cell_type": "code",
   "execution_count": 3,
   "metadata": {
    "run_control": {
     "frozen": false,
     "read_only": false
    },
    "slideshow": {
     "slide_type": "skip"
    }
   },
   "outputs": [
    {
     "name": "stdout",
     "output_type": "stream",
     "text": [
      "Populating the interactive namespace from numpy and matplotlib\n",
      "    pandas as    pd \tversion=0.19.2 \trequired version>=0.19.2\n",
      "     numpy as    np \tversion=1.11.3 \trequired version>=1.12.0 ******* Update Version ******\n",
      "   sklearn as    sk \tversion=0.18.1 \trequired version>=0.18.1\n",
      "    urllib as urllib \tversion=1.17 \trequired version>=1.17\n",
      "   pyspark as pyspark \tversion=2.1.0+hadoop2.7 \trequired version>=2.1.0\n",
      "ipywidgets as ipywidgets \tversion=6.0.0 \trequired version>=6.0.0\n"
     ]
    }
   ],
   "source": [
    "%pylab inline\n",
    "import numpy as np\n",
    "\n",
    "import findspark\n",
    "findspark.init()\n",
    "\n",
    "import sys\n",
    "sys.path.append('./lib')\n",
    "\n",
    "from numpy_pack import packArray,unpackArray\n",
    "\n",
    "from Eigen_decomp import Eigen_decomp\n",
    "from YearPlotter import YearPlotter\n",
    "from recon_plot import recon_plot\n",
    "\n",
    "from import_modules import import_modules,modules\n",
    "import_modules(modules)\n",
    "\n",
    "from ipywidgets import interactive,widgets"
   ]
  },
  {
   "cell_type": "code",
   "execution_count": 4,
   "metadata": {
    "run_control": {
     "frozen": false,
     "read_only": false
    },
    "slideshow": {
     "slide_type": "skip"
    }
   },
   "outputs": [],
   "source": [
    "from pyspark import SparkContext\n",
    "#sc.stop()\n",
    "\n",
    "sc = SparkContext(master=\"local[3]\",pyFiles=['lib/numpy_pack.py','lib/spark_PCA.py','lib/computeStats.py','lib/recon_plot.py','lib/Eigen_decomp.py'])\n",
    "\n",
    "from pyspark import SparkContext\n",
    "from pyspark.sql import *\n",
    "sqlContext = SQLContext(sc)\n",
    "\n",
    "\n",
    "\n"
   ]
  },
  {
   "cell_type": "markdown",
   "metadata": {
    "run_control": {
     "frozen": false,
     "read_only": false
    },
    "slideshow": {
     "slide_type": "slide"
    }
   },
   "source": [
    "## Read Statistics File"
   ]
  },
  {
   "cell_type": "code",
   "execution_count": 5,
   "metadata": {
    "collapsed": true,
    "run_control": {
     "frozen": false,
     "read_only": false
    },
    "slideshow": {
     "slide_type": "fragment"
    }
   },
   "outputs": [],
   "source": [
    "data_dir='../../Data/Weather'\n",
    "file_index='BSBSSSSS'"
   ]
  },
  {
   "cell_type": "code",
   "execution_count": 6,
   "metadata": {
    "run_control": {
     "frozen": false,
     "read_only": false
    },
    "slideshow": {
     "slide_type": "subslide"
    }
   },
   "outputs": [
    {
     "name": "stdout",
     "output_type": "stream",
     "text": [
      "keys from STAT= ['TMIN', 'TOBS', 'TMAX', 'SNOW', 'SNWD', 'PRCP']\n"
     ]
    }
   ],
   "source": [
    "from pickle import load\n",
    "\n",
    "#read statistics\n",
    "filename=data_dir+'/STAT_%s.pickle'%file_index\n",
    "STAT,STAT_Descriptions = load(open(filename,'rb'))\n",
    "measurements=STAT.keys()\n",
    "print 'keys from STAT=',measurements"
   ]
  },
  {
   "cell_type": "markdown",
   "metadata": {
    "run_control": {
     "frozen": false,
     "read_only": false
    },
    "slideshow": {
     "slide_type": "slide"
    }
   },
   "source": [
    "## Read data file into a spark DataFrame\n",
    "We focus on the snow-depth records, because the eigen-vectors for them make sense."
   ]
  },
  {
   "cell_type": "code",
   "execution_count": 7,
   "metadata": {
    "run_control": {
     "frozen": false,
     "read_only": false
    },
    "scrolled": true,
    "slideshow": {
     "slide_type": "subslide"
    }
   },
   "outputs": [
    {
     "name": "stdout",
     "output_type": "stream",
     "text": [
      "+---------+--------+---------+-----------+-----------+------+--------------------+------+--------+\n",
      "|elevation|latitude|longitude|measurement|    station|undefs|              vector|  year|   label|\n",
      "+---------+--------+---------+-----------+-----------+------+--------------------+------+--------+\n",
      "|     27.1| 31.2833| -85.1167|       PRCP|USC00011865|    22|[00 4D 90 59 1C 5...|1936.0|BSBSSSSS|\n",
      "|     27.1| 31.2833| -85.1167|       PRCP|USC00011865|    27|[C0 4D 00 00 40 4...|1937.0|BSBSSSSS|\n",
      "|     27.1| 31.2833| -85.1167|       PRCP|USC00011865|     0|[00 00 80 4F 00 4...|1938.0|BSBSSSSS|\n",
      "|     27.1| 31.2833| -85.1167|       PRCP|USC00011865|    26|[00 00 00 00 00 0...|1939.0|BSBSSSSS|\n",
      "|     27.1| 31.2833| -85.1167|       PRCP|USC00011865|     1|[00 00 00 00 00 0...|1940.0|BSBSSSSS|\n",
      "+---------+--------+---------+-----------+-----------+------+--------------------+------+--------+\n",
      "only showing top 5 rows\n",
      "\n"
     ]
    }
   ],
   "source": [
    "#read data\n",
    "filename=data_dir+'/US_Weather_%s.parquet'%file_index\n",
    "df_in=sqlContext.read.parquet(filename)\n",
    "#filter in \n",
    "df=df_in.filter(df_in.measurement==m)\n",
    "df.show(5)"
   ]
  },
  {
   "cell_type": "markdown",
   "metadata": {
    "run_control": {
     "frozen": false,
     "read_only": false
    },
    "slideshow": {
     "slide_type": "subslide"
    }
   },
   "source": [
    "### Create a matrix with all of the series"
   ]
  },
  {
   "cell_type": "code",
   "execution_count": 8,
   "metadata": {
    "run_control": {
     "frozen": false,
     "read_only": false
    }
   },
   "outputs": [
    {
     "data": {
      "text/plain": [
       "(2609, 365)"
      ]
     },
     "execution_count": 8,
     "metadata": {},
     "output_type": "execute_result"
    }
   ],
   "source": [
    "rows=df.rdd.map(lambda row:unpackArray(row['vector'],np.float16)).collect()\n",
    "\n",
    "T=np.vstack(rows)\n",
    "shape(T)"
   ]
  },
  {
   "cell_type": "markdown",
   "metadata": {
    "run_control": {
     "frozen": false,
     "read_only": false
    },
    "slideshow": {
     "slide_type": "subslide"
    }
   },
   "source": [
    "### Plot two time series\n",
    "`SNWD` stands for `snow-depth`, which explains why it is zero during the summer"
   ]
  },
  {
   "cell_type": "code",
   "execution_count": 9,
   "metadata": {
    "run_control": {
     "frozen": false,
     "read_only": false
    },
    "slideshow": {
     "slide_type": "fragment"
    }
   },
   "outputs": [
    {
     "data": {
      "image/png": "iVBORw0KGgoAAAANSUhEUgAAAXoAAAD6CAYAAACvZ4z8AAAABHNCSVQICAgIfAhkiAAAAAlwSFlz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\n",
      "text/plain": [
       "<matplotlib.figure.Figure at 0x7fa76c74c1d0>"
      ]
     },
     "metadata": {},
     "output_type": "display_data"
    }
   ],
   "source": [
    "fig, ax = plt.subplots(figsize=(6,4));\n",
    "YP=YearPlotter()\n",
    "YP.plot(T[16:18].transpose(),fig,ax,title=m)"
   ]
  },
  {
   "cell_type": "markdown",
   "metadata": {
    "run_control": {
     "frozen": false,
     "read_only": false
    },
    "slideshow": {
     "slide_type": "slide"
    }
   },
   "source": [
    "### Plot Reconstructions\n",
    "\n",
    "Construct approximations of a time series using the mean and the $k$ top eigen-vectors\n",
    "First, we plot the mean and the top $k$ eigenvectors"
   ]
  },
  {
   "cell_type": "code",
   "execution_count": 10,
   "metadata": {
    "run_control": {
     "frozen": false,
     "read_only": false
    },
    "scrolled": false,
    "slideshow": {
     "slide_type": "subslide"
    }
   },
   "outputs": [
    {
     "data": {
      "image/png": "iVBORw0KGgoAAAANSUhEUgAAAl8AAAFcCAYAAAD2w9suAAAABHNCSVQICAgIfAhkiAAAAAlwSFlz\nAAALEgAACxIB0t1+/AAAIABJREFUeJzsnXd8JGd9/z/P9r7q7XQn6Xq373x3uGLZGEzMGZxACJ3g\nEIfwovzgxy9xCsEhlBBICAFCcDBgYzDNBowxxvbZe/18/XRdulPv2pW2t5md5/fHzDM727SSTivp\npOf9evnl05aZ2Z3Zmc98vo1QSsHhcDgcDofDmRt0870BHA6Hw+FwOEsJLr44HA6Hw+Fw5hAuvjgc\nDofD4XDmEC6+OBwOh8PhcOYQLr44HA6Hw+Fw5hAuvjgcDofD4XDmEC6+OBwOh8PhcOYQLr44HM6c\nQgjpJoTECCFhQsgIIeSHhBCH8pyHEBJXnvMSQp4hhNRnvX8tIeQXyvMBQkgbIeTThBA9IaSZEEKV\n94eVdT1cYDvYa09lPV5FCEkSQrpL9iVwOJwlDRdfHA5nPrifUuoAsB3ADgD/qHnuY8pzqwE4AHyN\nPUEIWQXgNQB9ALZQSt0A/hTATQCcmmWUKct4N4B/IoS8eZJtsRFCNmv+fg+Arhl/Mg6HwykCF18c\nDmfeoJQOAPg9gM15nvMD+DWAGzUP/zOAQ5TST1NKh5TXXaaUvld5ffYyDgM4n2/5Gn4E4IOavz8A\n4AntCwghDYSQpwkhY4SQLkLIJzTP7SKEHCaE+AkhQ4SQbxFCTJrnKSHkI4SQDuU13yaEkEm2h8Ph\nLHK4+OJwOPMGIWQ5gPsAnMrzXCWAPwFwRfPwPQB+OcVlE0LIbQA25Vu+hicBvEsJW26E7La9plmO\nDsBvAZwBsAzAGwD8H0LIvcpLUgA+BaAKwC3K8x/NWsduADsBbAXwTgD3gsPhLFm4+OJwOPPBrwkh\nfgAHAOwF8CXNc/9FCAkA8EIWNB/XPFcJYGgKy/cCGAfwPQAPU0r3TPLafgCXIQu7D0B2wrTsBFBN\nKf08pTRJKe0E8L8A3gUAlNITlNIjlFKRUtoN4LsA7sxaxr9SSv2U0l4AryLTzeNwOEsMw3xvAIfD\nWZI8QCl9ucBzn6CUfo8QsgXAcwAaAfQqz/kA1Bd4n5YqSqk4je15AsCfA7gVwB0A1mqeawLQoIhF\nhh7AfkAuAADwH5Bz12yQz6snspY/rPl3FLK7xuFwlijc+eJwOAsSSulZAF8AoM2RehnA20uwuqcB\nvAVAp+JOaekD0EUpLdP856SU3qc8/x0AlwCsoZS6APw9AJ7TxeFwCsLFF4fDWcg8DqAWwFuVvz8H\n4FZCyFcJIXUAQAhZTQh5khBSNtOVUEojAO4G8OE8Tx8FECKE/C0hxKrkhm0mhOxUnncCCAIIE0LW\nA/jrmW4Hh8NZGnDxxeFwFiyU0iSAbwD4rPL3VchJ7c0Aziu5YU8DOA4gdI3rOq4sP/vxFOSE+Rsh\nt6DwQs4lcysv+Qzk9hQhyLlgP7uW7eBwOIsfQimd723gcDgcDofDWTJw54vD4XA4HA5nDuHii8Ph\ncDgcDmcO4eKLw+FwOBwOZw7h4ovD4XA4HA5nDuHii8PhcDgcDmcOWdAd7quqqmhzc3NJ1xGJRGC3\n20u6Ds7Cgu/zpQvf90sbvv85pT4GTpw44aWUVhd73YIWX83NzTh+/HhJ1+HxeNDa2lrSdXAWFnyf\nL134vl/a8P3PKfUxQAjpmcrreNiRw+FwOBwOZw7h4ovD4XA4HA5nDuHii8PhcDgcDmcOWdA5X5yp\nM+iP4S+fOI7HPrgTdW7LfG8Oh8PhcBY5giCgv78f8Xh8vjdlyrjdbly8ePGal2OxWNDY2Aij0Tij\n95dEfBFCyiAPnt0MgAJ4EMBlyANnmwF0A3gnpXSiFOtfipzsncD5wSCujIa5+OJwOBxOyenv74fT\n6URzczMIIfO9OVMiFArB6XRe0zIopfD5fOjv70dLS8uMllGqsOM3ALxAKV0P4AYAFwE8DGAPpXQN\ngD3K35xZYmAiBgAQJWmet4TD4XA4S4F4PI7KysrrRnjNFoQQVFZWXpPjN+viixDiBvB6AI8BAKU0\nSSn1A3gbgMeVlz0O4IHZXvdSZsCviK8Unect4XCWFpRStPX7QSn/7XGWHktNeDGu9XOXwvlqATAG\n4AeEkFOEkO8RQuwAaimlQ8prhgHUlmDdS5a088UvABzOXLLn4ije+q2DeObkwHxvCoez5CCE4H3v\ne5/6tyiKqK6uxu7du+dxq4pTipwvA4DtAD5OKX2NEPINZIUYKaWUEJJXJRBCHgLwEADU1tbC4/GU\nYBPThMPhkq9jLmgfkMVX29lzsHgvzfPWLGwWyz7nTJ9S7PufnE8AAL7wbBsc/g6Y9UvTCbge4L/9\n2cXtdiMUCs3rNtjtdrS1tWF0dBRWqxUvvvgi6uvrIYpi3m1LpVKzts3xeHzGx1MpxFc/gH5K6WvK\n37+ELL5GCCH1lNIhQkg9gNF8b6aUPgrgUQDYsWMHLXU34sXS8djv+QMACWvXb0DrtmXzvTkLmsWy\nzznTpxT7/pFjr2JFhQm941F06lfgr1tXzeryObMH/+3PLhcvXrzm5PXZYPfu3di3bx/e8Y534De/\n+Q3e+973Yv/+/XA6nYhEIvj4xz+Oc+fOQRAE/O3f/i3e9a53obu7G+9///sRiUQAAN/61rdw6623\nwuPx4JFHHkFVVRXOnTuHm266CU8++WTeMKPFYsG2bdtmtM2zLr4opcOEkD5CyDpK6WUAbwBwQfnv\ngwD+Vfn/b2Z73UuVYFxAKC4C4GFHDmcu6RuPotsXxefu34gfHurGpeHgrCx3OBDHE4e78ek3roVB\nz9sxchY+//zb87gwODvHP2Njgwufu39T0de9613vwuc//3ns3r0bbW1tePDBB7F//34AwBe/+EXc\nfffd+P73vw+/348dO3bg/vvvR01NDV566SVYLBZ0dHTg3e9+tzrO8NSpUzh//jwaGhpw22234eDB\ng7j99ttn9bOVqs/XxwH8mBBiAtAJ4EOQ88t+Tgj5CwA9AN5ZonUvOVi+FwCIKV7tyOHMFfs7vACA\nO9ZU4efH+xFNpmZluT860o3/9lzFPRtrsX1F+awsk8NZrGzduhXd3d146qmncN9992U89+KLL+LZ\nZ5/F1772NQBAIpFAb28vGhoa8LGPfQynT5+GXq9He3u7+p5du3ahsbERAHDjjTeiu7v7+hBflNLT\nAHbkeeoNpVjfUmfQrxFf3PnicOaMo10+1DjNWFXtgM2kR2yWxNeei3JWxsWhIBdfnOuCqThUpeSt\nb30rPvOZz8Dj8cDn86mPU0rx9NNPY926dQDSfb4eeeQR1NbW4syZM5AkCRZLuj+m2WxW/63X6yGK\n4qxvL/ezFwEDfu58cTjzwXAwjqZKGwghsBr1iCav/SQ94I/h0rCcEHxxaHbDOBzOYuXBBx/E5z73\nOWzZsiXj8XvvvRff/OY31VYwZ86cAQAEAgHU19dDp9PhRz/6EVKp2blxmipcfC0CMsKO3PnicOaM\n8UgSlXb5Ltlq0s9K2PGVS7LrVeey4OLQ/FaScTjXC42NjfjEJz6R8/hnP/tZCIKArVu3YtOmTfjC\nF74AAPjoRz+Kxx9/HDfccAMuXboEu90+p9vLZzsuAkaCcVQ5TPCGk1x8cThziC+cxM5mEwDIYUdh\n5uIrlkzh0z8/jUNXfWiqtOHOtdV45uQAJIlCp5t++4poUkRSlFBmM814mzichU44HM55rLW1Va1q\ntVqt+O53v6s+x9pMrFmzBm1tberjX/nKV3LeC8hVkKWAO1+LgLggwWWRh3umuPjiLGEkiSIpzk3o\nPSVRjEeTqLSnxde1OF9HOn34/blh7Gwux+ffthkb6l0IJ0T0a5zt6fDIs+fxzu8envH2cDic0sHF\n1yIgIaZgM+sBAALP+eIsYX5wqBv3/MfeOVnXRDQJSoFKhxJ2NBquKeH+ta5xGPUE33z3dty5thob\n6l0AgAszzPt6rWsc7SNhjAZnPn+Ow+GUBi6+FgEJUYLVqAch3PniLG26vGH0jkfnxP0ajyQBAJWO\nzLDjTGc8Hu3yYWtjGawm+UZqXa0ThGBGvcP80SR6fFEAwImeiRltD4fDKR1cfC0CEqIEs0EPo04H\ngQ/W5ixhIgnZeQrEhJKvyxuWxwppE+5TEkVyBu5zLJlCW38Au1oq1MesJj3qXJYZhR3b+gPqv49z\n8cUpIUt1oPy1fm4uvhYBCTEFs0EHvY4gJfGwI2fpwiY9TEV87e8Yw03/8hLCiZm1h/CFM50vq1F2\nrGYSejzVOwFRohniCwDq3ZaMPn5T5eyALL7W1zm588UpGRaLBT6fb8kJMEopfD5fRm+w6cKrHRcB\nCUGC2aiDQU+488VZ0kQSUxdfx7sn4IskMRKMw1HtmPa6fKrzlQ47AkA0mUKZbXrLOto9Dh0BbmrK\nbKjaUGbFuYFAgXcV5kyfHy1VdrSuq8FjBzoRF1KwKOKQw5ktGhsb0d/fj7GxsfnelCkTj8evSTQx\nLBaL2gV/JnDxtQhgYUeDjvCcL86ShrlYwSmIr74JOScqkhDxm9MDONY9ji88sKXIu9KMR5LQEait\nHKwa8TUZY6EEqhymjEG9HaNhrKiwqVXLjGVlVrx4YWTa7SbODgSws7kCNzWV43/2UpwbCGBHc0Xx\nN3I408BoNKKlpWW+N2NaeDyeGQ/Dnk142HERwMKOBr0OIg87FsQXTsAfTc73ZnBKyHScr/5xOZwX\nTojwXB7DT4/25Z0Q0e2N4ETPeM7j3kgSFXYT9Ioospnke9nJwo6D/hhu/dc9eP7scMbjXWMRtFTl\nNnlsKLMiKUrwRdLH7WudPjzw7YMF1xOMCxgKxLGxwYV1tU4AwNWx3F5IHA5n/uDiaxEgO186GHQE\nIg87FuSTPz2Nh58+O9+bwSkh4emIL8X5CsdFhOIiRInmTW7/tz9cwl88fhxSlqvsCyfUZHtAG3Ys\nnEN2rHscQoriVG86D4tSii5vBC1VuaHPhjIrgMz5rT852ovTfX50evMLqtGgHA6tc1mwrNwKo56g\n0xspuE0cDmfu4eJrESDnfOlh0BPe4X4SBgMxNdTEWZxMVXwlRQlDSv+rSFJEOCG/vsuXK1KujIbh\njwo5AsYXlp0vhhp2nKTL/ek+PwDg8kh6bNBIMIGYkEJLdT7nS85NGQrI4ktISXhVGT80UKAKciwk\ni69qpxl6HUFTpR1dY1x8cTgLCS6+rnMopemwo07HxdckBGOi2puJs/iQJKrmWxUTX4P+GFiBVjiR\nUqsku7MEVkqi6Fb6ZZ3szawa9EWSaqUjkHa+4pOEHc8w8TWcFl/MwVqZL+zolp2vAb8sFI91jSOo\nbOtAgSrIMaUQoMYpu3ItVXZ0ceeLw1lQlER8EUK6CSFnCSGnCSHHlccqCCEvEUI6lP+XF1sOpzii\nRCFRaMKOPOerEMG4AF8kueTKopcKEU24r5j40oYXIwlRdcyY+LowGMSnfnYa3b6I2rD1ZFbLBl84\ngSpHOuzIWk0USrhPihLODQZhM+kxGkpgQrkR6PbK4q45j/gqsxlhNerVsONLF0dgNuhgMeoK9v/S\nOl+ALOp6fFFejMPhLCBK6XzdRSm9kVK6Q/n7YQB7KKVrAOxR/uZcIwnlwmA26KHX8VYThYgLKSRF\nCUlRQnzmE2A4Cxhtv65i4ksbfo4kRIQVN6lLcblevTyKX50awNMn+gEA5TZjhvN1eTiEYFxU20wA\nxcOOl4aDSIoSdm+tl5ehhB67vGGYDTrUu3LL3wkhaChL9/o60OHFzSsr0VhumzTsaNQTuK1y5WRL\nlR3JlDSjfmEcDqc0zGXY8W0AHlf+/TiAB+Zw3YuWhHKiNxt1MOp1vMlqAVhYCQBCSS5QFyOR6Yiv\n8Sj0OgKbSY+QknAPpJ0v5h79/Lgsvt524zK0j4QRiAnY2z6G+/5rP9xWI+5aX6MuM13tmD/hnuV7\n/dnO5QCAdlV8yZWOhVpJNJRZMeiPIS6k0OmNYGujG8vKrAXDjqOhOKodZrWVBaui5KFHDmfhUCrx\nRQG8TAg5QQh5SHmsllI6pPx7GEBtida9pEg7XzqecD8JwXj6Yhzm4mtRElZGC5n0OgSixZyvGBrK\nLHBZjJiIJpFMyRXD/RPyXEiWN+UNJ+CyGPDGjfLp6nSfHy+cG4LDbMCrn2nF5mVudZmFwo5MCL5w\nbhgrKmzYvqIcLosBl5S8r84CbSYYy8qs6B2P4spoGCmJYn2dC43lVrVas8cXwa1f3oMORcyNhRJq\nyBGAmsjPxReHs3AoVZPV2ymlA4SQGgAvEUIuaZ+klFJCSN4roCLWHgKA2tpaeDyeEm2iTDgcLvk6\nSslwRBZfVzvaEQkJiIdxXX+eUtHpT18QR4Mx/h0tQs575X1cbqYY9ef/XbPf+8WeGBw6wJ+iuNQj\n99xaZgc6A8AvX/DgSl9CfU+VWUKo+ywIgGf2nsKp0RSW2wjajh3KWb5RB1y+2g2PYRAA8HRHEs9d\nFfD+jSYcuprEH682Yu/evWiwSXj+dB/C3iF0egXsqhQKHpOWqICJqIDvPPcaACDYexGJCRETUQF/\nePlV7OkTMBgQ8OMXj6B1uRHdwzFUWYm6PEopLHpg3+nLaEp2z+zLXSRc7+d7zrWzUI6BkogvSumA\n8v9RQsivAOwCMEIIqaeUDhFC6gGMFnjvowAeBYAdO3bQ1tbWUmyiisfjQanXUUouDQeB/fuxbcsm\nnA33QJQktLbeOt+bteDQtY8BR44CAASd+bre55z8xM8NA8dPYHVDBU72+PPuY/Z7//vDe3BzcyWu\njoYVZyqK2zYsR+eRHtSs3ATh0kU4LQmE4iJuXFWPN99zIzac34/BlB6DET/u39GC1tb1Oct37HsR\nVbUNaG3djCcOd+O3V8/DbNDhiQtycv3/ffvtaCy3oXptAO9/7CievZpE67pqfOEDO2DQ5w9EtPgi\n+OF5Dw6OyA73O++7C7a2Qfyy/TRWbtmBJ7rPA/DBWLEMra0bETvwEtY316G1Nd2tf/mpvTA6HWht\nvWkWvunrl+v9fM+5dhbKMTDrYUdCiJ0Q4mT/BvAmAOcAPAvgg8rLPgjgN7O97qVIQlDCjkYedpwM\nbdgxJPDvaDHCEu4b3FbElAKLWDKFZ07249xAQK1ylSSK0VACtS4LHBYDhpV+X5saXADkZPyxcAJv\n3FgLm0mPzQ1yaHF7UxmOdcsDsLcsK8u7DVajXg07/vhIL25qKsePP/w6EALcukpOlJfX5cYvPnIL\nPnLnKvzXu7cVFF4AsKLChga3Bf6ogHV1Tuh1BI3lcguK9pEwjnXJhQCdYxGIKbkbvjbsCABuq3FK\njWc5HM7cUIqcr1oABwghZwAcBfA7SukLAP4VwBsJIR0A7lH+5lwj2mrHhdrhvn8iil1ffBmd8zji\nJDPhft42g1NCWMI96wofiAn47ZlBfPrnZ7D7mwfw356rAIDxaBKiRFHnssBuMiCu3MCsqLTBbtKj\nYzSMUFzEyio7PJ9pxftvaQKQOfR6a6Mb+bCa9IgLKQRiAtpHQ7hzbTV2NFfgu++7CZ9/26aM166q\nduDhP1qfM88xG0IIbl5VCQBYXyePC1qmTO5+8kgPkikJVQ4TurwRjEeSoBRcfHE4C5xZF1+U0k5K\n6Q3Kf5sopV9UHvdRSt9AKV1DKb2HUpo7LI0zbRKiUu1o0EG/QJusnhsIYjSUwJXR+RNfbNCyy2Lg\nCfeLFOZ8LStPi6+rY2GY9Dq0VNlxvFs+5QwHZKer1mWGw5zOvHBZjFheYVP7eVU7zahxWWBUXKnt\nK2TxVeUwod6d2xYCkCseo0kRp/v8oDQt2N60qQ6ra5wz/my3rqoCAKyvk925GqcZzZU2HO70wWLU\n4YEbl6F3PIpB5bNVO3LFl9b95XA480upEu45c4QadjToYdQvzCarI0pYp1DzybkgGBeUcI0NwSSv\n+lrI9PqicFgMGaN7pkI4IcKgI6rrE4gJ6PJG0FRpw6YGF17rGgda9BgNycdjjcsCu0Z8OcwGLK+w\n4eWLIwBy3aMVFTZUOczY2uhW2zhkYzXJYccTPRPQEeCG5fnDk9Pl7vU12NVSoba20OkIXvzUnXjl\n0ijMRh18YdnNY8KxxpW57a4l5nyF4gLMBj1MBj7EhbMw4UfmdY4adjTqoNeRBdnFengBiK9QXITL\nYkClw8T7fC1wHnz8GL74u4t5n/ve/k4cvOLN+1wkIcJhMajNRYOK+GqusmNDvQtDgTjCSYrhQHrw\ndIb4shiwosKmjh2qynKPCCH43w/chH/avbHgtttMesSEFE72TGB9nSvDWbsWKuwm/PyvbsloSWEy\n6PDmzXW4a12N+vjhTh+AXOfLZTUiFBcX5PmhFNz/zQP49qtX5nszOJyCcPF1naMNOxr1OggLsMnq\nSICJr/zNJ+eCYEyA02JEhZ2Lr4XOSCCuNiDN5hsvd+Cnx/ryPhdOiLCbDKiwyY7ZcDCOnvEoWqrs\nWF+vJNOHJIwE4yBEdrYcZr36fqcivhjZzhcAbFtRnncMEMNm0iMcF3GqdwI7mudughqbC/nShREs\nK7OiLissygRpaAmEHiWJonc8ivODwfneFA6nIFx8XedkjxdKLcCEe+Z8RRLzGXYU4bIaCoqv/omo\n2tWcM3+kJIpQQkSXN5IzgzMhphBKiGoYO5twXFQFVIXdhF+fGkBSlNBSZceGejnfql8RX5V2M4x6\nnep8mfQ6mA16LK+wqsurtOeKr2JYjQZ0eiOIJFO4ZWXltN8/U8rtJpTZZIH11XdsVfPUGGk3cP5u\ngOaKSFKERKE2oeUsbNpHQtjXPjbfmzHn8Jyv6xx1vJBBB6OeQJhGWIF1815Z7SjV5gHQhB2F+Tvx\nh+ICXBYjKu0mxFPyhdxsSLseH/vJKSyvsOGb7942b9vISRdGhBMixsIJ1DjTDs64Moh6tID4iiRF\n2M0G6HQEt6yqxO/a5IEazZV21DgtqHKY0BuSYKBx1Co5UUx8OSzy/5nzVWYzzihfyGqS31NuM+Lu\nDTVFXj27/NnO5XBbjbh1dVXOc0x8LYW8L1bZPDARA6W0YH4eZ/4Z9Mfw7kePwGLU4+DDd8/35swp\n3Pm6zrmWnK+//9U5/L9ftql/DwVieOXSyKxvoxp2nE/nKya7IhWKm8Eu5IzhQBy+MHe+SoGQkvDq\npdGiI3+ATHHQ7c10LnxheZ+NBBM5rhggjxdiYuq2VWkBslIZr7O+zqU4XwnUKUOsncrrnYr4Yn24\nsnOmpgqb7/gn2xszxP1c8Hd/tAEfbV2d9zmX8vkmE1/DgThe96WX4bmct//1tIkLqXn5TbGqzlBC\nXBJO3/UKpRQf+8lJ+CLJJREOz2ZJi6+nT/Tj+PD18+Psn4hi3T/+Xu5qr8DEl0mvg0GngzCNaseO\nkRAmomkR8sOD3fjIj07OePvy5XSFEyIiSqJ9ZD5zvhTnq8oh5wOxCznDH0vOa0HAYqXbG8FdX/Pg\nQz88hicOdxd9vVYcdHkzW5N4lQt5TEjBHxXwpecvom88LdDCcUEVU7etlkN+NpMeNUru1rYVZegJ\nSejyRlCjiC/V+VL+bzHqUesy5833mgps/Wx49kLBbSvufP3P3qsYCSZw+KpvVtb5jT0dePt3ckcw\nlRptT78+HnpcsMSEFE72+mHQEcSEpXfuXdLi6weHurBvQP6hpiSa9256IdE/EUNClNAxkr4oJcQU\nDDoCg14HwzScr1gyhaFAHDGN4PCG5QHD0xFwjL7xKLY+8iJe68w8cbOeSmydM2E0GFcbaM6UUFyE\ny2pElXJR1eZ3xYUU4oI0rwUBi5Xnzw2hfyIGm0mPwUCs6Ou1vag6swZBa93Kve1jeHRfJ76z96r6\nWCSRgl1JoF9RYcOyMiuaKu1q2Ol9NzdBR+STfl0B8QUAH7qtBW/f3jjdjwpAFl3/876bsLZ25j29\nSoGa81XAYRgNxfHU0V4AwOUCxQ7TZdAfQ7cvqhYFzRVBjcDsnyh+zHHmB3azW+kwQUhRJMWFVyxW\nSpa0+Cq3mRBOUggpCTd/eQ9+dWpgvjdpUpjLpb17TQgSzEpuikGvm3KH+26ffGHTuj1+xQVLzOBH\n0DcehShRHMy6a9YmR0dmKL7++L8P4d9fbJ/RewFATEkIJ+SwIwsnjWnCIez7nM+CgMXKcCAOl8WA\n5ko7RoLFQ1BsXxj1BN1Z4kvrVh5Q2k08d2YQceWuORiXK1oBuS3EvzywCX9z7zr1PbUuC1obDcq/\n5ePAkRV2BICP3LkKb79pZuKrxmXBmzfXzei9paRYzteTh3sgpCRsX1GWcXN3LYQVB2p0Cvt9NtE6\nXzzpfuHC0lBYS5eldvO7pMVXmc2EiEAxEUliLJRAj29h/1BZcn2G+BIlmI3y3b5BRyBOsdVEl5eJ\nr/QBz0KQ8SlYwKG4gF+e6FfdQrZNbf3+jNcx52tZmRXRGbhX3nACA/5YTghqOrDO53LY0awul+FX\ncpGWovVdaoYCcdS7rahxmdXmppPBjqON9S71GA0nRPijSXgj6X12SBFfwbiIVy6NIpIQEU2mMsKF\nd6+vVZuSMt6y0ojXtVRgZ0sFAKhOmbPIiJ/rHatRHj+WT3xRSvHsmUHcuqoK92ysxYA/Nis5OOx3\nN+ifW/eJuXuEcOdrIcMKsNLia2mdf5e0+Cq3GREWKHxKOCNZINz2m9MDGRfr+YI5UtrQQUJMwaRn\nzheBROU+N8VgFzYhRdUwIxMhUxFfv2sbwmd+cUYVrH5VfAUywres0rG5yjajH1f7sBwCmYprUgh2\nJ+y0GGA16WHRA17NgEfm+F1raJOTy3Agjjq3BbVOy5QcECYOblhehm5fFCmJ4uGn2/ChHx7DeDip\nOjiDgTiaK22odZnxq1MDahi5WKJ8uUWHn/3VLVilVPg68oQdFyOEkILzHc8NBNHti2L31nqsVUYg\ntc+C+8XE13CB6tRSwX7vLZV27nwtYCLc+Vq6lNlMiAppFyRfzHk0GMcnf3oav14AIUlVfOU4X/Ju\nZL19CjVaPXzVp4ZyOsfSIR0miiamEXacUIQa++7YSX08ksy42xwJymGnSrt5Rj8uln9SqLfTVGDb\n5lIu3G40xSndAAAgAElEQVQzyQg7MuGYEKUl0wF8rhgOxlHvtqDGZYY3nCj6/QZiAkx6HW5cXoak\nKKF9JIQjneM4NxDAcDCOxnKrGiJcV+fErpZKtI+E1P2ZPVanGNmtJhYzbqsx49zBeK5tEAYdwZs3\n12GdMri7Y4p5X5QWzpVlNzNDgbkVX8GYALNBh5XVDu58LWBYDnCVUy6CiiRSeOpoL16dpWpbLf+1\npwO3f+WVWV/utbCkxVe5zQgKqIIkn/jqUaqpwgvAFYnnCztqcr70OjmxuNAF7lM/O41/+PVZAJmV\nZLFkCimJqiJkKs4Xc9+Ya6jdpjOa0ON4JIlKhxl2s35GOV+s07kvkpxWQua5gQC+47mKzrGw6uiV\nK53PXSYCrybhXtsCYandfZWSpCjBG06g1mVBjcsCiaJo64FgTIDLalSHWD9/dgjecAJCiuJ0rx8V\ndhNqlWT5NTVONLgtGArEVXE+3SpFo16Hf3zLBvzxtmUz+ITXF4XmO75wfhi3r6lCmc2EZWVW2Ez6\nKSfdP7qvE2/6+r68z4UVZ2N4rsWXkvvXWG7FABdfCxZW/c7c6khSxH97ruCp13pnfV3jkeSC63G3\nxMWXfDG+OlZYfPUqYbWZVurNJnkT7jXNQg2K+BIKJN0HYgIOX/VhLJRAlzeihloiSRHBmKDOtJuK\n88W2YUIRX/6oALfVCJNeh7b+gPq6kNJ13Go0zOg7vDycvgiMTTH0++rlUez+5gF85YVLePJIL/wx\neRtZB3CXmWTmfMXSIcillndQSkZDcVAK2flSRFGx8HEgJsBtNaCpUu5S/xPNiTiUEFHlMKvJ8qtr\nHKh3W5AUJVwako+TmfTn+vAdKxdcdWIpcOVxvgIxAT2+KHYpOXA6HcGaGof6fRbjWPcEOkbDec+d\n4YS8rqEpVLnOJmyaRZnNiFBChDiD6m1O6WHXA3bDFEumEIyJiJeg6jEhpmAxzm3fvWKURHwRQvSE\nkFOEkOeUvysIIS8RQjqU/8/d0LNJYBfjq2OyC5Qv56tXcb5m66Lc7Y2onbenCyvZzkm4Z9WOkzhf\nKYkiJqQgUeA/XmrHRFTAxgZ53l0smcro9zUV54ttA3O+gjEBVQ4Ttja6sb8jPfg4FBfgtBgU50uc\nVjsPSinaR8LqyJep3kGzUIPdpMd4JKE6X2Us7GgieRPuAZ73NZuw/VXntqhuVbGke1l8GUEIwbbl\nZfBFkjDqierqap2v1TUO1JfJx8aZfrlfELuh4uSSL+fr4pDcM3CjMvsSALY3leNE78SUXGDmoGc3\nLRZTEuKCfD6dc+crJvf0Y0UUCyFqwcmFOV8s5yucEBGKC1O6/kyXWDIF61IQXwA+CeCi5u+HAeyh\nlK4BsEf5e95hJ+rOSZyvvlkWX08c7sHHnzo5o4t8QsjnfKVzvgxKzle+Oz1tg9OnjvaizmXBu3fJ\njSCjyZSaw6Vdz2QENTlebJvcViPuv6EBF4eC6kk9FBfhNBthMxlAKdQT8lQY8McQToh4/ZpqAIXH\nyhTathWVdvgiSTWhnjWadJsJJqJCutAgpg07cudrtmC5PvVu6zSdL3k/bW+S79E21LvQXCl3nq90\nyKExg45gVbUDyxTx1dYfQJXDDJ2Oj5IphNtqQDCeed7JJ77euKEWSVHKuInKR0qi6BuXb3SyC5K0\nKQZznfPF3HaWGxiKc/G1EFFzvhzp3osSndrN/3SJCxIsxoUV6Jv1rSGENAJ4C4DvaR5+G4DHlX8/\nDuCB2V7vTGDia0Aphc4XbmPOV2yW5hKG4gIkCpwfDBZ/cRZq2DE6edhRzON8MbG3od6FMpsR3//z\nnVhRIY9diSZFVaCwZRYjW3z5Y0lVfBl0RO2Zxk6ErKR/OjlVB5ST/51rZfE11aT7YFxOuK1zmTER\nTcIfFWAz6dXvyWWSvyfWNyoz54uLr9lC63yx0MJUnS8A2La8DACwtdGN9XWyOKi0m/DgbS146qGb\nYTXpUe+2qO+baVf6pYLLIjtfWvf5wmAQVQ5Txne3s6UCTosBL1+YfNTYoD+mRguyxRdzm+pcFoyF\nEzNq3DxTgnE5b5CNVCrUWJYzv6SrHeXrMDtflER8LcCwYylKfP4TwN8A0CZR1FJKWaxtGEBtoTcT\nQh4C8BAA1NbWwuPxlGATZaJCpkgZHvPmrO/KsCy++obGZmVbuvrlA+wZzwlEe6bXW+hqt3yCC8VF\nvPLqq9ARgvFAFBYxAo/HgysD8knmwKHDqLFl6uqBsHzyu7MmgR1bjBhtP4m+kPzYsVNtSGjyxE62\nnYfFexkSpRiOUDQ4cjX6sCJKO/qG4fF4MDIehZNG0HbsELZU6fCz17pws3UY/kgcAe8wehJyBcsr\n+w6i2lZc80cEii/tj2KVWwfD6EXoCXDsXAeahZ6i7718NQGLniIZmsDQeAqXEIVFJ6n7z0QTAAhe\n8BxEs1uPrsEY9ARIUeDI8ZOI9iz+yre54PjFBMx64OSRAyCEwGkCTl/ugscwWPA946EYQuMCPB4P\nEiLFCqcOdeIoIjH5hDzY1Y4zkU4AgKdbDk0bdYAgAbpkuOhvNBwu/prFim9IQEqieP5lD+xG+Qbk\naEcMtWZg7969Ga/dVE7xwtl+/FHVOHQFBlOfHUvfSB04fgYYSp/PBpRzS6UxiWEKPPuiB5XWuXEe\nfMEowuYEOi9PAAD2HzmOsQr5wruU9/9C4/LVJAw64NRReQRV2xU5v3MiGJn1fTQ0KhssHo9nwRwD\ns3qVIYTsBjBKKT1BCGnN9xpKKSWEFEz8oZQ+CuBRANixYwdtbc27mFmBUgr9K8+D6Q6Hy43W1lsA\nAF/9wyWUWU3wJ+ToqdWRfu5aeOzqa8CIFxFLFVpbt03rvX8YPwv09IICuOnm2+G2GmE4+ioa68vQ\n2roN/lMDwNnT2LFzF1YqfYwYp3ongAOH8LptW9XGkz2+CHDQg5Y162Xn66z8WVeuXovWXSvw8oUR\n/MOPjsPzmVY0VdozlifsfwlAEjDb0dp6BxKeP2BdcyNaWzdhyNaLv3vmLFZt3YX4HzzYsLoF6+qc\neOzcSWzZvkN1MQpBKcVnftGGsBDFT/7qVmxe5kbda6/AXFaB1tYbi35Pvxg8iapEEBtX1eDEWA8s\nrkrUSjG0tt4BALjyqz0A4mhavwWt62rw1bb9qC8T0D8Rw+r1m9C6pX5qO4QzKb8YOIllFUHcdVcr\nAKDxzH4YHBas27YZcUHC8nKrGioH5P500T88j42rm9HaKnemv/ce+blXLo3gV1eO497bd6m5iozG\nEx50eSNY39SA1tatk26Tx+NBKc8pCxm/ewA/u3wa627YidU1DggpCUMv/QEfuq0Zra0bMl4bKBvA\nJ396GjVrt2PzMnfe5fUc6gZOnAcAVDWuROudq9TnTvRMAAcPYee6FTh/qBvNG2/ETU0VJftsWuIv\n/x7rV67A7Vvr8W/HDmLV+s1o3Sjf7y/l/b/Q2OM/B8fIIO65+y4Y9zwPyewCMAEYTNPeR3vbx7C8\n3Jpz3WN8/fxBuK1GtLbuWjDHwGzfitwG4K2EkG4APwVwNyHkSQAjhJB6AFD+P/uNPGYAIQR2jfmk\nzfn69alBfOn36bS16CyFHZkdf6bPX+SVuWjDgSzslxF21E8WdpTfa9c0k7SZ5H/HkmJGwj0Lbw4G\nYqA0t+EipTTd1yucREqiSoWR/GWyGD7LB3FaDLCZWNixuKX85d9fwtMn+/Gxu1arJ/5alxkjU+iQ\nDqTbFZTbTYgLEoYCMZTb0jvabZa/J9aY0x8V0KDkDvGE+9mjZzyizlAEgBqnGXvbx3DLl1/BXV/z\n4B3/czgjDB1KiKA0PQpHy13ravDsx27LEV4A1NDjdHt8LTVqsuaado5FkExJ2FCf+52yfl/Z8zW1\ndHkjsJv0sBh1OS1E2O9oVY18MRwOzE2T6oSYQkKUlJwv+TiajW79nNknmkzBrlyDbCaDmhsYn0Hq\nx2d+cQaP/PZCwecTQgoWwyLO+aKU/h2ltJFS2gzgXQBeoZS+D8CzAD6ovOyDAH4zm+u9FhzGtKWu\nrXaMCSm19cKyMuus5QKxeWe941G1TcNU0eakBVTxpUm4ZzlfeVpNsLJvlnsFIEMQTUQFtRpE7Sem\n5EL1+DJPwBGlL5heR+CLJNWTG7toViiKtmdcfp/LYlSFXrTI/MTxSBKP7uvEn97UiE+9ca36eK3L\nMuUu96zaqULJ6evyRtTKVkBuNQGk81T80aSauM1zvmaHEz0TODcQROu6avWxjQ0uWAx6/J971uDv\n/mg92vr9+MRTp9QcJHZD4cojvggh2NpYlndd9W553/Gcr8nJzrvrGJXbSeRrs9Gk5IN2eyP44cEu\n3PFvr+RMzujyRtBcZUeVwwxvOPNcxsRXi+KYz9WEEJZc77IaecL9AieaFGFVrkF2k149LuMzGMQe\nigs4fNVbUGjHhJS6roXCXCW3/CuAnxNC/gJAD4B3ztF6i+IwESAin1S0zpfWAdlQ75xRgnw+IgkR\ny8qsGPDHcKbfj9Z1NcXfpKCtQlTFl3awtk6pdszT4Z41PHSa0xc2JraiyRT80STq3BZ0eSM5Y4yy\nZ16q1YQVNnR5Ixj0yz8a1sqBFTKwHmla5ytSJOGenaTvXFcNosk1qXVZ1AT8YgTjIlZU2lFhN6mf\nz21NtyAw6wnsJj28IblxaySZQkOZRX0t59r5xp4OVNpNeN/NTepj/+9N6/B/37hWDTXGBQlff7kd\ng4E4lpVZ1WM6n/M1GWzfzaTH11Kixil/T8z5Yr/r5ipbzmtZMUO3N4JATEDfeAwD/hiePNKDH7/W\nCwJ5ksY9G2rRNxHLEVch5fzZWG6FjhRvrjtbsHNTZrUjd74WIrLzJV8XbGYDBMX5ElIUYkrKSElg\njIUSONk7gXs3pYfXpySqVtG/enkMb72hIed9cSEFi2Fhia+S+XCUUg+ldLfybx+l9A2U0jWU0nso\npeOlWu90sWudL0V0pCSKhCjhg7c04X/ed9OkzlfnWHjSSp4nj/TgsQNd6t+hhIjbV1fBpNfh0FXf\ntLY1IaZ7lbCqJW3YUT9p2FE+GWqdL52OwGLUIZoUMR5JosphgkFHcjrpsy7/DPY4K/9ncyLTzpcs\ndHpU8WVUw53FGq2y6smKrH5NTZU2hBLilBo2ys6XQd0OABnOFwBUOeVxN+yz1LosIIR3uJ8NOsfC\n2Nc+hg/fsVJ1PAH5eNOeUFljz06lzx7rtzZ98cWdr6ngshpgMugwqoivbm8ENU5zxj7S0lJlR6c3\nggtKO4qO0RCePTOIxnIrdt9QjxqnBa9fW41qh6mg8+W2GlFhN2EsPD2XX4svnMCei5NXXjJU58ti\nhNmgh8mg487XLHK6z49vvNwxK8vSOl+2LFeqUKPVnx7txUeePJFxntb++8Xzw3nftyRaTVxvsLBj\nlcOkii+2M5eVW/HmzXWwmvJ3Zx8NxvGmr+/Dr04Wnvv4zMl+/PJEPwA5VyqSEFHjMmNnSzk8RWZY\nheICnmtLV4YlBEnt7h2MCRAlColCdb6MzPnKG3Zk4ivzRGszGRTnS0CZzQSzQafeRTBh0psVdmR3\nly1Vcj5Ht/I866PlshihI2nR5piG88VCsWVZ4mubMm7mZM/kuXKUUrXUvFwjvsqzxFe1w4yxUAKB\nWHp9dpNBzY1jy3qt06eGxYSUhD/77mEcupp24JKiNKVB5tcT7/nfI/i+5oZhurDWLTuaJ++lvKpa\nDkldHZXF16DyPhYCniqvX1uN+7bU5c0H46QhhKDGac5wvpqzCmm0NFfZcWk4qObiHOkcx1Agjnfc\n1Igv/8lW7Pubu/DOHcuVsGNWq4l4+nyT7/np8P2DXfjwE8endGPE3HoWunZZjDm9zTgz57dnBvH1\nl9tzmurOhMycr0zxVegm3RdJgtLMxtjMGLEYdfBcHsvbyDsmpGBZYGFHLr6Unk91boua88V2vE1z\nYCRTUk7z0nODAYgSVTvk52MiKiCgJLOzDvMOswGta2vQPhJWLzj5eK5tCB/7ySm1v1VCTKmhg0BM\nUA86dvegV/t85Qs7ijDoiCrUGDaTXu1wX24zwmLU53TS75+I4aULI/iX5y5kPN7CLp7K52dhR53S\naZyJtoyE+yI5X6zZq9a1AuQmkGaDDid7JyZ9f1yQIKRoRs6XvG2Zy2MXBHbHXmEzwWbSZ5zgT/f5\n8WePHsGxbnmdo6EEXusax4nu9Da8/TuH8NUXL0+6TdcTYkrCkU4fPO1jM14GOzEX6zZf7TTDYTao\nSd39E1HoiPxbnA7Lyqz47/feVNDB4aSpcZrV3JpuXwRNlbkhR0ZLpT2jKfKvld59mxoyqx8rHSaM\nR5IZNyHhpAiTXgeTQYdKh+maxNfl4RAoze2in49gLO18yf838LDjLMJE9fnBQJFXFieaTGlyvjJ/\nu4V6fbFrj1Z8MWOhudKOcEJUr+N941F86AdHEYoLSIrS0gk7Xi84FEOkzmVVc51Yd2YWolOFQ9YB\ncUHJA+ufRECNR5JqB3Xt3SBLRPZcLnyRY9Z9UJNcX2YzQq8jCMSEnARloz4z4X40GFdPiJGECIfF\nkJFHxT5bKCHC