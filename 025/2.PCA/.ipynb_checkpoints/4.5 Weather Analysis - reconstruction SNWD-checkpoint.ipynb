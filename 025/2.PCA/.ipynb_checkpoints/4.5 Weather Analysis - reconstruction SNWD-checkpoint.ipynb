{
 "cells": [
  {
   "cell_type": "code",
   "execution_count": 1,
   "metadata": {
    "collapsed": true,
    "run_control": {
     "frozen": false,
     "read_only": false
    },
    "slideshow": {
     "slide_type": "skip"
    }
   },
   "outputs": [],
   "source": [
    "#setup\n",
    "data_dir='../../Data/Weather'\n",
    "file_index='BSBSSSSS'\n",
    "m='SNOW'"
   ]
  },
  {
   "cell_type": "markdown",
   "metadata": {
    "run_control": {
     "frozen": false,
     "read_only": false
    },
    "slideshow": {
     "slide_type": "slide"
    },
    "variables": {
     "m": "SNWD"
    }
   },
   "source": [
    "## Reconstruction using top eigen-vectors\n",
    "For measurement = {{m}}"
   ]
  },
  {
   "cell_type": "markdown",
   "metadata": {
    "run_control": {
     "frozen": false,
     "read_only": false
    },
    "slideshow": {
     "slide_type": "skip"
    }
   },
   "source": [
    "## Load the required libraries"
   ]
  },
  {
   "cell_type": "code",
   "execution_count": 2,
   "metadata": {
    "collapsed": true,
    "run_control": {
     "frozen": false,
     "read_only": false
    },
    "slideshow": {
     "slide_type": "skip"
    }
   },
   "outputs": [],
   "source": [
    "# Enable automiatic reload of libraries\n",
    "#%load_ext autoreload\n",
    "#%autoreload 2 # means that all modules are reloaded before every command"
   ]
  },
  {
   "cell_type": "code",
   "execution_count": 3,
   "metadata": {
    "collapsed": false,
    "run_control": {
     "frozen": false,
     "read_only": false
    },
    "slideshow": {
     "slide_type": "skip"
    }
   },
   "outputs": [
    {
     "name": "stdout",
     "output_type": "stream",
     "text": [
      "Populating the interactive namespace from numpy and matplotlib\n",
      "    pandas as    pd \tversion=0.19.2 \trequired version>=0.19.2\n",
      "     numpy as    np \tversion=1.11.3 \trequired version>=1.12.0 ******* Update Version ******\n",
      "   sklearn as    sk \tversion=0.18.1 \trequired version>=0.18.1\n",
      "    urllib as urllib \tversion=1.17 \trequired version>=1.17\n",
      "   pyspark as pyspark \tversion=2.1.0+hadoop2.7 \trequired version>=2.1.0\n",
      "ipywidgets as ipywidgets \tversion=5.2.2 \trequired version>=6.0.0 ******* Update Version ******\n"
     ]
    }
   ],
   "source": [
    "#%matplotlib inline\n",
    "%pylab inline\n",
    "import numpy as np\n",
    "\n",
    "import findspark\n",
    "findspark.init()\n",
    "\n",
    "import sys\n",
    "sys.path.append('./lib')\n",
    "\n",
    "from numpy_pack import packArray,unpackArray\n",
    "\n",
    "from Eigen_decomp import Eigen_decomp\n",
    "from YearPlotter import YearPlotter\n",
    "from recon_plot import recon_plot\n",
    "\n",
    "from import_modules import import_modules,modules\n",
    "import_modules(modules)\n",
    "\n",
    "from ipywidgets import interactive,widgets"
   ]
  },
  {
   "cell_type": "code",
   "execution_count": 4,
   "metadata": {
    "collapsed": true,
    "run_control": {
     "frozen": false,
     "read_only": false
    },
    "slideshow": {
     "slide_type": "skip"
    }
   },
   "outputs": [],
   "source": [
    "from pyspark import SparkContext\n",
    "#sc.stop()\n",
    "\n",
    "sc = SparkContext(master=\"local[3]\",pyFiles=['lib/numpy_pack.py','lib/spark_PCA.py','lib/computeStats.py','lib/recon_plot.py','lib/Eigen_decomp.py'])\n",
    "\n",
    "from pyspark import SparkContext\n",
    "from pyspark.sql import *\n",
    "sqlContext = SQLContext(sc)\n",
    "\n",
    "\n",
    "\n"
   ]
  },
  {
   "cell_type": "markdown",
   "metadata": {
    "run_control": {
     "frozen": false,
     "read_only": false
    },
    "slideshow": {
     "slide_type": "slide"
    }
   },
   "source": [
    "## Read Statistics File"
   ]
  },
  {
   "cell_type": "code",
   "execution_count": 5,
   "metadata": {
    "collapsed": false,
    "run_control": {
     "frozen": false,
     "read_only": false
    },
    "slideshow": {
     "slide_type": "subslide"
    }
   },
   "outputs": [
    {
     "name": "stdout",
     "output_type": "stream",
     "text": [
      "keys from STAT= ['TMIN', 'TOBS', 'TMAX', 'SNOW', 'SNWD', 'PRCP']\n"
     ]
    }
   ],
   "source": [
    "from pickle import load\n",
    "\n",
    "#read statistics\n",
    "filename=data_dir+'/STAT_%s.pickle'%file_index\n",
    "STAT,STAT_Descriptions = load(open(filename,'rb'))\n",
    "measurements=STAT.keys()\n",
    "print 'keys from STAT=',measurements"
   ]
  },
  {
   "cell_type": "markdown",
   "metadata": {
    "run_control": {
     "frozen": false,
     "read_only": false
    },
    "slideshow": {
     "slide_type": "slide"
    }
   },
   "source": [
    "## Read data file into a spark DataFrame\n",
    "We focus on the snow-depth records, because the eigen-vectors for them make sense."
   ]
  },
  {
   "cell_type": "code",
   "execution_count": 6,
   "metadata": {
    "collapsed": false,
    "run_control": {
     "frozen": false,
     "read_only": false
    },
    "scrolled": true,
    "slideshow": {
     "slide_type": "subslide"
    }
   },
   "outputs": [
    {
     "name": "stdout",
     "output_type": "stream",
     "text": [
      "+---------+--------+---------+-----------+-----------+------+--------------------+------+--------+\n",
      "|elevation|latitude|longitude|measurement|    station|undefs|              vector|  year|   label|\n",
      "+---------+--------+---------+-----------+-----------+------+--------------------+------+--------+\n",
      "|     27.1| 31.2833| -85.1167|       SNOW|USC00011865|     0|[00 00 00 00 00 0...|1949.0|BSBSSSSS|\n",
      "|     27.1| 31.2833| -85.1167|       SNOW|USC00011865|     0|[00 00 00 00 00 0...|1950.0|BSBSSSSS|\n",
      "|     27.1| 31.2833| -85.1167|       SNOW|USC00011865|     0|[00 00 00 00 00 0...|1952.0|BSBSSSSS|\n",
      "|     27.1| 31.2833| -85.1167|       SNOW|USC00011865|    28|[00 00 00 00 00 0...|1953.0|BSBSSSSS|\n",
      "|     27.1| 31.2833| -85.1167|       SNOW|USC00011865|    30|[00 00 00 00 00 0...|1954.0|BSBSSSSS|\n",
      "+---------+--------+---------+-----------+-----------+------+--------------------+------+--------+\n",
      "only showing top 5 rows\n",
      "\n"
     ]
    }
   ],
   "source": [
    "#read data\n",
    "filename=data_dir+'/US_Weather_%s.parquet'%file_index\n",
    "df_in=sqlContext.read.parquet(filename)\n",
    "#filter in \n",
    "df=df_in.filter(df_in.measurement==m)\n",
    "df.show(5)"
   ]
  },
  {
   "cell_type": "markdown",
   "metadata": {
    "run_control": {
     "frozen": false,
     "read_only": false
    },
    "slideshow": {
     "slide_type": "slide"
    }
   },
   "source": [
    "### Plot Reconstructions\n",
    "\n",
    "Construct approximations of a time series using the mean and the $k$ top eigen-vectors\n",
    "First, we plot the mean and the top $k$ eigenvectors"
   ]
  },
  {
   "cell_type": "code",
   "execution_count": 7,
   "metadata": {
    "collapsed": false,
    "run_control": {
     "frozen": false,
     "read_only": false
    },
    "scrolled": false,
    "slideshow": {
     "slide_type": "subslide"
    }
   },
   "outputs": [
    {
     "data": {
      "image/png": "iVBORw0KGgoAAAANSUhEUgAAAlYAAAFcCAYAAAAK1vDkAAAABHNCSVQICAgIfAhkiAAAAAlwSFlz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\n5BUZ+ALocWnfdQAAAABJRU5ErkJggg==\n",
      "text/plain": [
       "<matplotlib.figure.Figure at 0x7f250a2794d0>"
      ]
     },
     "metadata": {},
     "output_type": "display_data"
    }
   ],
   "source": [
    "import pylab as plt\n",
    "fig,axes=plt.subplots(2,1, sharex='col', sharey='row',figsize=(10,6));\n",
    "k=3\n",
    "EigVec=np.matrix(STAT[m]['eigvec'][:,:k])\n",
    "Mean=STAT[m]['Mean']\n",
    "YearPlotter().plot(Mean,fig,axes[0],label='Mean',title=m+' Mean')\n",
    "YearPlotter().plot(EigVec,fig,axes[1],title=m+' Eigs',labels=['eig'+str(i+1) for i in range(k)])"
   ]
  },
  {
   "cell_type": "code",
   "execution_count": 8,
   "metadata": {
    "collapsed": true,
    "run_control": {
     "frozen": false,
     "read_only": false
    }
   },
   "outputs": [],
   "source": [
    "v=[np.array(EigVec[:,i]).flatten() for i in range(np.shape(EigVec)[1])]"
   ]
  },
  {
   "cell_type": "markdown",
   "metadata": {
    "run_control": {
     "frozen": false,
     "read_only": false
    },
    "slideshow": {
     "slide_type": "subslide"
    }
   },
   "source": [
    "### plot the percent of residual variance on average"
   ]
  },
  {
   "cell_type": "code",
   "execution_count": 9,
   "metadata": {
    "collapsed": false,
    "run_control": {
     "frozen": false,
     "read_only": false
    },
    "scrolled": false
   },
   "outputs": [
    {
     "data": {
      "image/png": "iVBORw0KGgoAAAANSUhEUgAAAYgAAAEWCAYAAAB8LwAVAAAABHNCSVQICAgIfAhkiAAAAAlwSFlz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\n",
      "text/plain": [
       "<matplotlib.figure.Figure at 0x7f25382a9410>"
      ]
     },
     "metadata": {},
     "output_type": "display_data"
    }
   ],
   "source": [
    "#  x=0 in the graphs below correspond to the fraction of the variance explained by the mean alone\n",
    "#  x=1,2,3,... are the residuals for eig1, eig1+eig2, eig1+eig2+eig3 ...\n",
    "fig,ax=plt.subplots(1,1);\n",
    "eigvals=STAT[m]['eigval']; eigvals/=sum(eigvals); cumvar=np.cumsum(eigvals); cumvar=100*np.insert(cumvar,0,0)\n",
    "ax.plot(cumvar[:10]); \n",
    "ax.grid(); \n",
    "ax.set_ylabel('Percent of variance explained')\n",
    "ax.set_xlabel('number of eigenvectors')\n",
    "ax.set_title('Percent of variance explained');"
   ]
  },
  {
   "cell_type": "markdown",
   "metadata": {
    "run_control": {
     "frozen": false,
     "read_only": false
    },
    "slideshow": {
     "slide_type": "slide"
    }
   },
   "source": [
    "## Process whole dataframe to find best and worse residuals"
   ]
  },
  {
   "cell_type": "markdown",
   "metadata": {
    "run_control": {
     "frozen": false,
     "read_only": false
    },
    "slideshow": {
     "slide_type": "subslide"
    }
   },
   "source": [
    "### Add to each row in the dataframe a residual values \n",
    "Residuals are after subtracting in sequence: the mean, the projection on the first eigen-vector the projection on the second eigen-vector etc.\n",
    "\n",
    "`decompose(row)` axtracts the series from the row, computes the residuals and constructs a new row that is reassembled into a dataframe.\n"
   ]
  },
  {
   "cell_type": "code",
   "execution_count": 10,
   "metadata": {
    "code_folding": [],
    "collapsed": true,
    "run_control": {
     "frozen": false,
     "read_only": false
    }
   },
   "outputs": [],
   "source": [
    "def decompose(row):\n",
    "    \"\"\"compute residual and coefficients for decomposition           \n",
    "\n",
    "    :param row: SparkSQL Row that contains the measurements for a particular station, year and measurement. \n",
    "    :returns: the input row with additional information from the eigen-decomposition.\n",
    "    :rtype: SparkSQL Row \n",
    "\n",
    "    Note that Decompose is designed to run inside a spark \"map()\" command.\n",
    "    Mean and v are sent to the workers as local variables of \"Decompose\"\n",
    "\n",
    "    \"\"\"\n",
    "    Series=np.array(unpackArray(row.vector,np.float16),dtype=np.float64)\n",
    "    recon=Eigen_decomp(None,Series,Mean,v);\n",
    "    total_var,residuals,reductions,coeff=recon.compute_var_explained()\n",
    "    #print coeff\n",
    "    residuals=[float(r) for r in residuals[1]]\n",
    "    coeff=[float(r) for r in coeff[1]]\n",
    "    D=row.asDict()\n",
    "    D['total_var']=float(total_var[1])\n",
    "    D['res_mean']=residuals[0]\n",
    "    for i in range(1,len(residuals)):\n",
    "        D['res_'+str(i)]=residuals[i]\n",
    "        D['coeff_'+str(i)]=coeff[i-1]\n",
    "    return Row(**D)\n"
   ]
  },
  {
   "cell_type": "code",
   "execution_count": 11,
   "metadata": {
    "collapsed": false,
    "run_control": {
     "frozen": false,
     "read_only": false
    }
   },
   "outputs": [
    {
     "name": "stdout",
     "output_type": "stream",
     "text": [
      "before filter 1913\n",
      "after filter 70\n"
     ]
    }
   ],
   "source": [
    "rdd2=df.rdd.map(decompose)\n",
    "df2=sqlContext.createDataFrame(rdd2)\n",
    "row,=df2.take(1)\n",
    "\n",
    "#filter out vectors for which the mean is a worse approximation than zero.\n",
    "print 'before filter',df2.count()\n",
    "df3=df2.filter(df2.res_mean<1)\n",
    "print 'after filter',df3.count()"
   ]
  },
  {
   "cell_type": "code",
   "execution_count": 12,
   "metadata": {
    "collapsed": true,
    "run_control": {
     "frozen": false,
     "read_only": false
    }
   },
   "outputs": [],
   "source": [
    "# Sort entries by increasing values of ers_3\n",
    "df3=df3.sort(df3.res_3,ascending=True)"
   ]
  },
  {
   "cell_type": "code",
   "execution_count": 13,
   "metadata": {
    "code_folding": [],
    "collapsed": true,
    "run_control": {
     "frozen": false,
     "read_only": false
    }
   },
   "outputs": [],
   "source": [
    "def plot_decomp(row,Mean,v,fig=None,ax=None,Title=None,interactive=False):\n",
    "    \"\"\"Plot a single reconstruction with an informative title\n",
    "\n",
    "    :param row: SparkSQL Row that contains the measurements for a particular station, year and measurement. \n",
    "    :param Mean: The mean vector of all measurements of a given type\n",
    "    :param v: eigen-vectors for the distribution of measurements.\n",
    "    :param fig: a matplotlib figure in which to place the plot\n",
    "    :param ax: a matplotlib axis in which to place the plot\n",
    "    :param Title: A plot title over-ride.\n",
    "    :param interactive: A flag that indicates whether or not this is an interactive plot (widget-driven)\n",
    "    :returns: a plotter returned by recon_plot initialization\n",
    "    :rtype: recon_plot\n",
    "\n",
    "    \"\"\"\n",
    "    target=np.array(unpackArray(row.vector,np.float16),dtype=np.float64)\n",
    "    if Title is None:\n",
    "        Title='%s / %d    %s'%(row['station'],row['year'],row['measurement'])\n",
    "    eigen_decomp=Eigen_decomp(range(1,366),target,Mean,v)\n",
    "    plotter=recon_plot(eigen_decomp,year_axis=True,fig=fig,ax=ax,interactive=interactive,Title=Title)\n",
    "    return plotter\n",
    "\n",
    "def plot_recon_grid(rows,column_n=4, row_n=3, figsize=(15,10)):\n",
    "    \"\"\"plot a grid of reconstruction plots\n",
    "\n",
    "    :param rows: Data rows (as extracted from the measurements data-frame\n",
    "    :param column_n: number of columns\n",
    "    :param row_n:  number of rows\n",
    "    :param figsize: Size of figure\n",
    "    :returns: None\n",
    "    :rtype: \n",
    "\n",
    "    \"\"\"\n",
    "    fig,axes=plt.subplots(row_n,column_n, sharex='col', sharey='row',figsize=figsize);\n",
    "    k=0\n",
    "    for i in range(row_n):\n",
    "        for j in range(column_n):\n",
    "            row=rows[k]\n",
    "            k+=1\n",
    "            #_title='%3.2f,r1=%3.2f,r2=%3.2f,r3=%3.2f'\\\n",
    "            #        %(row['res_mean'],row['res_1'],row['res_2'],row['res_3'])\n",
    "            #print i,j,_title,axes[i,j]\n",
    "            plot_decomp(row,Mean,v,fig=fig,ax=axes[i,j],interactive=