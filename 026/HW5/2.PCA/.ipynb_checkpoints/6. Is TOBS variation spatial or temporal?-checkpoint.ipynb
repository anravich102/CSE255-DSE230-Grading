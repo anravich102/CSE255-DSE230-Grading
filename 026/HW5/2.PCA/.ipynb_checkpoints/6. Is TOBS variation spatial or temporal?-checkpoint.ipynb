{
 "cells": [
  {
   "cell_type": "markdown",
   "metadata": {
    "run_control": {
     "frozen": false,
     "read_only": false
    }
   },
   "source": [
    "## Analyze whether SNWD varies more from year to year or from place to place."
   ]
  },
  {
   "cell_type": "code",
   "execution_count": 1,
   "metadata": {
    "collapsed": true,
    "run_control": {
     "frozen": false,
     "read_only": false
    }
   },
   "outputs": [],
   "source": [
    "import pandas as pd\n",
    "import numpy as np\n",
    "import urllib\n",
    "import math"
   ]
  },
  {
   "cell_type": "code",
   "execution_count": 2,
   "metadata": {
    "collapsed": true,
    "run_control": {
     "frozen": false,
     "read_only": false
    }
   },
   "outputs": [],
   "source": [
    "import findspark\n",
    "findspark.init()\n",
    "\n",
    "from pyspark import SparkContext\n",
    "#sc.stop()\n",
    "sc = SparkContext(master=\"local[3]\",pyFiles=['lib/numpy_pack.py','lib/spark_PCA.py','lib/computeStats.py'])\n",
    "\n",
    "from pyspark import SparkContext\n",
    "from pyspark.sql import *\n",
    "sqlContext = SQLContext(sc)"
   ]
  },
  {
   "cell_type": "code",
   "execution_count": 3,
   "metadata": {
    "collapsed": true,
    "run_control": {
     "frozen": false,
     "read_only": false
    }
   },
   "outputs": [],
   "source": [
    "import sys\n",
    "sys.path.append('./lib')\n",
    "\n",
    "import numpy as np\n",
    "from numpy_pack import packArray,unpackArray\n",
    "from spark_PCA import computeCov\n",
    "from computeStats import computeOverAllDist, STAT_Descriptions"
   ]
  },
  {
   "cell_type": "code",
   "execution_count": 5,
   "metadata": {
    "run_control": {
     "frozen": false,
     "read_only": false
    },
    "scrolled": true
   },
   "outputs": [
    {
     "name": "stdout",
     "output_type": "stream",
     "text": [
      "('keys from STAT=', ['TMIN', 'TOBS', 'TMAX', 'SNOW', 'SNWD', 'PRCP'])\n",
      "1913\n",
      "+-------------------+-------------------+-------------------+------------------+---------+--------+--------+---------+-----------+------------------+------------------+-------------------+-------------------+-------------------+-----------+-----------+------+--------------------+------+\n",
      "|            coeff_1|            coeff_2|            coeff_3|           coeff_4|elevation|   label|latitude|longitude|measurement|             res_1|             res_2|              res_3|              res_4|           res_mean|    station|  total_var|undefs|              vector|  year|\n",
      "+-------------------+-------------------+-------------------+------------------+---------+--------+--------+---------+-----------+------------------+------------------+-------------------+-------------------+-------------------+-----------+-----------+------+--------------------+------+\n",
      "|-1420.4091552364753|-188.78913348332992|-28.349423028260485|-37.57839617869763|   1289.3|SBSSBSBB| 41.5239|-112.0436|       TOBS|0.3249298753379651|0.3132749305874309|0.31269362017321994|0.31234084875956203|0.21210310136706773|USC00420928|1.4235031E7|     6|[40 4C 40 4C 80 5...|1996.0|\n",
      "| 1135.2612352324347| 136.29627449365884|  121.2139038486059| -78.1429297071765|   1362.5|SBSSBSBB| 41.7353|-111.8561|       TOBS|0.3399881511686831|0.3200165594095721| 0.3129009258374834| 0.3073227409359448| 0.5851473136998695|USC00425182|  3358991.0|    14|[A0 D6 00 7E F0 D...|1976.0|\n",
      "+-------------------+-------------------+-------------------+------------------+---------+--------+--------+---------+-----------+------------------+------------------+-------------------+-------------------+-------------------+-----------+-----------+------+--------------------+------+\n",
      "only showing top 2 rows\n",
      "\n"
     ]
    }
   ],
   "source": [
    "### Read the data frame from pickle file\n",
    "\n",
    "data_dir='../../Data/Weather'\n",
    "file_index='SBSSBSBB'\n",
    "meas='TOBS'\n",
    "\n",
    "from pickle import load\n",
    "\n",
    "#read statistics\n",
    "filename=data_dir+'/STAT_%s.pickle'%file_index\n",
    "STAT,STAT_Descriptions = load(open(filename,'rb'))\n",
    "print('keys from STAT=',STAT.keys())\n",
    "\n",
    "#!ls -ld $data_dir/*.parquet\n",
    "\n",
    "#read data\n",
    "filename=data_dir+'/decon_%s_%s.parquet'%(file_index,meas)\n",
    "\n",
    "df=sqlContext.read.parquet(filename)\n",
    "print(df.count())\n",
    "df.show(2)"
   ]
  },
  {
   "cell_type": "code",
   "execution_count": 6,
   "metadata": {
    "run_control": {
     "frozen": false,
     "read_only": false
    }
   },
   "outputs": [
    {
     "name": "stdout",
     "output_type": "stream",
     "text": [
      "['coeff_1', 'coeff_2', 'coeff_3', 'coeff_4', 'elevation', 'label', 'latitude', 'longitude', 'measurement', 'res_1', 'res_2', 'res_3', 'res_4', 'res_mean', 'station', 'total_var', 'undefs', 'vector', 'year']\n"
     ]
    }
   ],
   "source": [
    "print df.columns"
   ]
  },
  {
   "cell_type": "code",
   "execution_count": 7,
   "metadata": {
    "run_control": {
     "frozen": false,
     "read_only": false
    },
    "scrolled": true
   },
   "outputs": [
    {
     "name": "stdout",
     "output_type": "stream",
     "text": [
      "SELECT station, year, coeff_2 FROM weather\n"
     ]
    },
    {
     "data": {
      "text/html": [
       "<div>\n",
       "<table border=\"1\" class=\"dataframe\">\n",
       "  <thead>\n",
       "    <tr style=\"text-align: right;\">\n",
       "      <th></th>\n",
       "      <th>station</th>\n",
       "      <th>year</th>\n",
       "      <th>coeff_2</th>\n",
       "    </tr>\n",
       "  </thead>\n",
       "  <tbody>\n",
       "    <tr>\n",
       "      <th>0</th>\n",
       "      <td>USC00420928</td>\n",
       "      <td>1996.0</td>\n",
       "      <td>-188.789133</td>\n",
       "    </tr>\n",
       "    <tr>\n",
       "      <th>1</th>\n",
       "      <td>USC00425182</td>\n",
       "      <td>1976.0</td>\n",
       "      <td>136.296274</td>\n",
       "    </tr>\n",
       "    <tr>\n",
       "      <th>2</th>\n",
       "      <td>USC00425182</td>\n",
       "      <td>1975.0</td>\n",
       "      <td>-97.692703</td>\n",
       "    </tr>\n",
       "    <tr>\n",
       "      <th>3</th>\n",
       "      <td>USC00420928</td>\n",
       "      <td>1979.0</td>\n",
       "      <td>320.152290</td>\n",
       "    </tr>\n",
       "    <tr>\n",
       "      <th>4</th>\n",
       "      <td>USW00024120</td>\n",
       "      <td>1942.0</td>\n",
       "      <td>-76.015094</td>\n",
       "    </tr>\n",
       "  </tbody>\n",
       "</table>\n",
       "</div>"
      ],
      "text/plain": [
       "       station    year     coeff_2\n",
       "0  USC00420928  1996.0 -188.789133\n",
       "1  USC00425182  1976.0  136.296274\n",
       "2  USC00425182  1975.0  -97.692703\n",
       "3  USC00420928  1979.0  320.152290\n",
       "4  USW00024120  1942.0  -76.015094"
      ]
     },
     "execution_count": 7,
     "metadata": {},
     "output_type": "execute_result"
    }
   ],
   "source": [
    "#extract longitude and latitude for each station\n",
    "feature='coeff_1'\n",
    "sqlContext.registerDataFrameAsTable(df,'weather')\n",
    "#Features=', '.join(['coeff_1', 'coeff_2', 'coeff_3', 'elevation', 'latitude', 'longitude',\\\n",
    "#          'res_1', 'res_2', 'res_3', 'res_mean', 'year'])\n",
    "Features='station, year, coeff_2'\n",
    "Query=\"SELECT %s FROM weather\"%Features\n",
    "print(Query)\n",
    "pdf = sqlContext.sql(Query).toPandas()\n",
    "pdf.head()"
   ]
  },
  {
   "cell_type": "code",
   "execution_count": 8,
   "metadata": {
    "run_control": {
     "frozen": false,
     "read_only": false
    }
   },
   "outputs": [
    {
     "data": {
      "text/html": [
       "<div>\n",
       "<table border=\"1\" class=\"dataframe\">\n",
       "  <thead>\n",
       "    <tr style=\"text-align: right;\">\n",
       "      <th>station</th>\n",
       "      <th>USC00100803</th>\n",
       "      <th>USC00103732</th>\n",
       "      <th>USC00105275</th>\n",
       "      <th>USC00106053</th>\n",
       "      <th>USC00106785</th>\n",
       "      <th>USC00107346</th>\n",
       "      <th>USC00107353</th>\n",
       "      <th>USC00109698</th>\n",
       "      <th>USC00420487</th>\n",
       "      <th>USC00420924</th>\n",
       "      <th>...</th>\n",
       "      <th>USS0011H37S</th>\n",
       "      <th>USS0011H55S</th>\n",
       "      <th>USS0011H57S</th>\n",
       "      <th>USS0011H58S</th>\n",
       "      <th>USS0011H59S</th>\n",
       "      <th>USS0011J11S</th>\n",
       "      <th>USS0011J12S</th>\n",
       "      <th>USS0011J68S</th>\n",
       "      <th>USS0012G18S</th>\n",
       "      <th>USW00024120</th>\n",
       "    </tr>\n",
       "    <tr>\n",
       "      <th>year</th>\n",
       "      <th></th>\n",
       "      <th></th>\n",
       "      <th></th>\n",
       "      <th></th>\n",
       "      <th></th>\n",
       "      <th></th>\n",
       "      <th></th>\n",
       "      <th></th>\n",
       "      <th></th>\n",
       "      <th></th>\n",
       "      <th></th>\n",
       "      <th></th>\n",
       "      <th></th>\n",
       "      <th></th>\n",
       "      <th></th>\n",
       "      <th></th>\n",
       "      <th></th>\n",
       "      <th></th>\n",
       "      <th></th>\n",
       "      <th></th>\n",
       "      <th></th>\n",
       "    </tr>\n",
       "  </thead>\n",
       "  <tbody>\n",
       "    <tr>\n",
       "      <th>1901.0</th>\n",
       "      <td>NaN</td>\n",
       "      <td>NaN</td>\n",
       "      <td>NaN</td>\n",
       "      <td>NaN</td>\n",
       "      <td>NaN</td>\n",
       "      <td>NaN</td>\n",
       "      <td>NaN</td>\n",
       "      <td>-243.404828</td>\n",
       "      <td>NaN</td>\n",
       "      <td>NaN</td>\n",
       "      <td>...</td>\n",
       "      <td>NaN</td>\n",
       "      <td>NaN</td>\n",
       "      <td>NaN</td>\n",
       "      <td>NaN</td>\n",
       "      <td>NaN</td>\n",
       "      <td>NaN</td>\n",
       "      <td>NaN</td>\n",
       "      <td>NaN</td>\n",
       "      <td>NaN</td>\n",
       "      <td>NaN</td>\n",
       "    </tr>\n",
       "    <tr>\n",
       "      <th>1902.0</th>\n",
       "      <td>NaN</td>\n",
       "      <td>NaN</td>\n",
       "      <td>NaN</td>\n",
       "      <td>NaN</td>\n",
       "      <td>NaN</td>\n",
       "      <td>NaN</td>\n",
       "      <td>NaN</td>\n",
       "      <td>-306.695812</td>\n",
       "      <td>NaN</td>\n",
       "      <td>NaN</td>\n",
       "      <td>...</td>\n",
       "      <td>NaN</td>\n",
       "      <td>NaN</td>\n",
       "      <td>NaN</td>\n",
       "      <td>NaN</td>\n",
       "      <td>NaN</td>\n",
       "      <td>NaN</td>\n",
       "      <td>NaN</td>\n",
       "      <td>NaN</td>\n",
       "      <td>NaN</td>\n",
       "      <td>NaN</td>\n",
       "    </tr>\n",
       "    <tr>\n",
       "      <th>1903.0</th>\n",
       "      <td>NaN</td>\n",
       "      <td>NaN</td>\n",
       "      <td>NaN</td>\n",
       "      <td>NaN</td>\n",
       "      <td>NaN</td>\n",
       "      <td>NaN</td>\n",
       "      <td>NaN</td>\n",
       "      <td>-5.413132</td>\n",
       "      <td>NaN</td>\n",
       "      <td>NaN</td>\n",
       "      <td>...</td>\n",
       "      <td>NaN</td>\n",
       "      <td>NaN</td>\n",
       "      <td>NaN</td>\n",
       "      <td>NaN</td>\n",
       "      <td>NaN</td>\n",
       "      <td>NaN</td>\n",
       "      <td>NaN</td>\n",
       "      <td>NaN</td>\n",
       "      <td>NaN</td>\n",
       "      <td>NaN</td>\n",
       "    </tr>\n",
       "    <tr>\n",
       "      <th>1904.0</th>\n",
       "      <td>NaN</td>\n",
       "      <td>NaN</td>\n",
       "      <td>NaN</td>\n",
       "      <td>NaN</td>\n",
       "      <td>NaN</td>\n",
       "      <td>NaN</td>\n",
       "      <td>NaN</td>\n",
       "      <td>-184.859346</td>\n",
       "      <td>NaN</td>\n",
       "      <td>NaN</td>\n",
       "      <td>...</td>\n",
       "      <td>NaN</td>\n",
       "      <td>NaN</td>\n",
       "      <td>NaN</td>\n",
       "      <td>NaN</td>\n",
       "      <td>NaN</td>\n",
       "      <td>NaN</td>\n",
       "      <td>NaN</td>\n",
       "      <td>NaN</td>\n",
       "      <td>NaN</td>\n",
       "      <td>NaN</td>\n",
       "    </tr>\n",
       "    <tr>\n",
       "      <th>1905.0</th>\n",
       "      <td>NaN</td>\n",
       "      <td>NaN</td>\n",
       "      <td>NaN</td>\n",
       "      <td>NaN</td>\n",
       "      <td>-23.283681</td>\n",
       "      <td>NaN</td>\n",
       "      <td>NaN</td>\n",
       "      <td>NaN</td>\n",
       "      <td>NaN</td>\n",
       "      <td>NaN</td>\n",
       "      <td>...</td>\n",
       "      <td>NaN</td>\n",
       "      <td>NaN</td>\n",
       "      <td>NaN</td>\n",
       "      <td>NaN</td>\n",
       "      <td>NaN</td>\n",
       "      <td>NaN</td>\n",
       "      <td>NaN</td>\n",
       "      <td>NaN</td>\n",
       "      <td>NaN</td>\n",
       "      <td>NaN</td>\n",
       "    </tr>\n",
       "    <tr>\n",
       "      <th>1906.0</th>\n",
       "      <td>NaN</td>\n",
       "      <td>NaN</td>\n",
       "      <td>NaN</td>\n",
       "      <td>NaN</td>\n",
       "      <td>421.413952</td>\n",
       "      <td>NaN</td>\n",
       "      <td>NaN</td>\n",
       "      <td>NaN</td>\n",
       "      <td>NaN</td>\n",
       "      <td>NaN</td>\n",
       "      <td>...</td>\n",
       "      <td>NaN</td>\n",
       "      <td>NaN</td>\n",
       "      <td>NaN</td>\n",
       "      <td>NaN</td>\n",
       "      <td>NaN</td>\n",
       "      <td>NaN</td>\n",
       "      <td>NaN</td>\n",
       "      <td>NaN</td>\n",
       "      <td>NaN</td>\n",
       "      <td>NaN</td>\n",
       "    </tr>\n",
       "    <tr>\n",
       "      <th>1907.0</th>\n",
       "      <td>NaN</td>\n",
       "      <td>-410.161945</td>\n",
       "      <td>NaN</td>\n",
       "      <td>NaN</td>\n",
       "      <td>NaN</td>\n",
       "      <td>NaN</td>\n",
       "      <td>NaN</td>\n",
       "      <td>NaN</td>\n",
       "      <td>NaN</td>\n",
       "      <td>NaN</td>\n",
       "      <td>...</td>\n",
       "      <td>NaN</td>\n",
       "      <td>NaN</td>\n",
       "      <td>NaN</td>\n",
       "      <td>NaN</td>\n",
       "      <td>NaN</td>\n",
       "      <td>NaN</td>\n",
       "      <td>NaN</td>\n",
       "      <td>NaN</td>\n",
       "      <td>NaN</td>\n",
       "      <td>NaN</td>\n",
       "    </tr>\n",
       "    <tr>\n",
       "      <th>1908.0</th>\n",
       "      <td>NaN</td>\n",
       "      <td>-66.551488</td>\n",
       "      <td>NaN</td>\n",
       "      <td>NaN</td>\n",
       "      <td>NaN</td>\n",
       "      <td>NaN</td>\n",
       "      <td>NaN</td>\n",
       "      <td>NaN</td>\n",
       "      <td>NaN</td>\n",
       "      <td>NaN</td>\n",
       "      <td>...</td>\n",
       "      <td>NaN</td>\n",
       "      <td>NaN</td>\n",
       "      <td>NaN</td>\n",
       "      <td>NaN</td>\n",
       "      <td>NaN</td>\n",
       "      <td>NaN</td>\n",
       "      <td>NaN</td>\n",
       "      <td>NaN</td>\n",
       "      <td>NaN</td>\n",
       "      <td>NaN</td>\n",
       "    </tr>\n",
       "    <tr>\n",
       "      <th>1909.0</th>\n",
       "      <td>NaN</td>\n",
       "      <td>-47.147353</td>\n",
       "      <td>NaN</td>\n",
       "      <td>NaN</td>\n",
       "      <td>NaN</td>\n",
       "      <td>NaN</td>\n",
       "      <td>NaN</td>\n",
       "      <td>NaN</td>\n",
       "      <td>NaN</td>\n",
       "      <td>NaN</td>\n",
       "      <td>...</td>\n",
       "      <td>NaN</td>\n",
       "      <td>NaN</td>\n",
       "      <td>NaN</td>\n",
       "      <td>NaN</td>\n",
       "      <td>NaN</td>\n",
       "      <td>NaN</td>\n",
       "      <td>NaN</td>\n",
       "      <td>NaN</td>\n",
       "      <td>NaN</td>\n",
       "      <td>NaN</td>\n",
       "    </tr>\n",
       "    <tr>\n",
       "      <th>1910.0</th>\n",
       "      <td>NaN</td>\n",
       "      <td>117.690763</td>\n",
       "      <td>NaN</td>\n",
       "      <td>NaN</td>\n",
       "      <td>NaN</td>\n",
       "      <td>NaN</td>\n",
       "      <td>NaN</td>\n",
       "      <td>67.000940</td>\n",
       "      <td>NaN</td>\n",
       "      <td>NaN</td>\n",
       "      <td>...</td>\n",
       "      <td>NaN</td>\n",
       "      <td>NaN</td>\n",
       "      <td>NaN</td>\n",
       "      <td>NaN</td>\n",
       "      <td>NaN</td>\n",
       "      <td>NaN</td>\n",
       "      <td>NaN</td>\n",
       "      <td>NaN</td>\n",
       "      <td>NaN</td>\n",
       "      <td>NaN</td>\n",
       "    </tr>\n",
       "  </tbody>\n",
       "</table>\n",
       "<p>10 rows × 63 columns</p>\n",
       "</div>"
      ],
      "text/plain": [
       "station  USC00100803  USC00103732  USC00105275  USC00106053  USC00106785  \\\n",
       "year                                                                       \n",
       "1901.0           NaN          NaN          NaN          NaN          NaN   \n",
       "1902.0           NaN          NaN          NaN          NaN          NaN   \n",
       "1903.0           NaN          NaN          NaN          NaN          NaN   \n",
       "1904.0           NaN          NaN          NaN          NaN          NaN   \n",
       "1905.0           NaN          NaN          NaN          NaN   -23.283681   \n",
       "1906.0           NaN          NaN          NaN          NaN   421.413952   \n",
       "1907.0           NaN  -410.161945          NaN          NaN          NaN   \n",
       "1908.0           NaN   -66.551488          NaN          NaN          NaN   \n",
       "1909.0           NaN   -47.147353          NaN          NaN          NaN   \n",
       "1910.0           NaN   117.690763          NaN          NaN          NaN   \n",
       "\n",
       "station  USC00107346  USC00107353  USC00109698  USC00420487  USC00420924  \\\n",
       "year                                                                       \n",
       "1901.0           NaN          NaN  -243.404828          NaN          NaN   \n",
       "1902.0           NaN          NaN  -306.695812          NaN          NaN   \n",
       "1903.0           NaN          NaN    -5.413132          NaN          NaN   \n",
       "1904.0           NaN          NaN  -184.859346          NaN          NaN   \n",
       "1905.0           NaN          NaN          NaN          NaN          NaN   \n",
       "1906.0           NaN          NaN          NaN          NaN          NaN   \n",
       "1907.0           NaN          NaN          NaN          NaN          NaN   \n",
       "1908.0           NaN          NaN          NaN          NaN          NaN   \n",
       "1909.0           NaN          NaN          NaN          NaN          NaN   \n",
       "1910.0           NaN          NaN    67.000940          NaN          NaN   \n",
       "\n",
       "station     ...       USS0011H37S  USS0011H55S  USS0011H57S  USS0011H58S  \\\n",
       "year        ...                                                            \n",
       "1901.0      ...               NaN          NaN          NaN          NaN   \n",
       "1902.0      ...               NaN          NaN          NaN          NaN   \n",
       "1903.0      ...               NaN          NaN          NaN          NaN   \n",
       "1904.0      ...               NaN          NaN          NaN          NaN   \n",
       "1905.0      ...               NaN          NaN          NaN          NaN   \n",
       "1906.0      ...               NaN          NaN          NaN          NaN   \n",
       "1907.0      ...               NaN          NaN          NaN          NaN   \n",
       "1908.0      ...               NaN          NaN          NaN          NaN   \n",
       "1909.0      ...               NaN          NaN          NaN          NaN   \n",
       "1910.0      ...               NaN          NaN          NaN          NaN   \n",
       "\n",
       "station  USS0011H59S  USS0011J11S  USS0011J12S  USS0011J68S  USS0012G18S  \\\n",
       "year                                                                       \n",
       "1901.0           NaN          NaN          NaN          NaN          NaN   \n",
       "1902.0           NaN          NaN          NaN          NaN          NaN   \n",
       "1903.0           NaN          NaN          NaN          NaN          NaN   \n",
       "1904.0           NaN          NaN          NaN          NaN          NaN   \n",
       "1905.0           NaN          NaN          NaN          NaN          NaN   \n",
       "1906.0           NaN          NaN          NaN          NaN          NaN   \n",
       "1907.0           NaN          NaN          NaN          NaN          NaN   \n",
       "1908.0           NaN          NaN          NaN          NaN          NaN   \n",
       "1909.0           NaN          NaN          NaN          NaN          NaN   \n",
       "1910.0           NaN          NaN          NaN          NaN          NaN   \n",
       "\n",
       "station  USW00024120  \n",
       "year                  \n",
       "1901.0           NaN  \n",
       "1902.0           NaN  \n",
       "1903.0           NaN  \n",
       "1904.0           NaN  \n",
       "1905.0           NaN  \n",
       "1906.0           NaN  \n",
       "1907.0           NaN  \n",
       "1908.0           NaN  \n",
       "1909.0           NaN  \n",
       "1910.0           NaN  \n",
       "\n",
       "[10 rows x 63 columns]"
      ]
     },
     "execution_count": 8,
     "metadata": {},
     "output_type": "execute_result"
    }
   ],
   "source": [
    "year_station_table=pdf.pivot(index='year', columns='station', values='coeff_2')\n",
    "year_station_table.head(10)"
   ]
  },
  {
   "cell_type": "markdown",
   "metadata": {
    "run_control": {
     "frozen": false,
     "read_only": false
    }
   },
   "source": [
    "### Estimating the effect of the year vs the effect of the station\n",
    "\n",
    "To estimate the effect of time vs. location on the first eigenvector coefficient we\n",
    "compute:\n",
    "\n",
    "* The average row: `mean-by-station`\n",
    "* The average column: `mean-by-year`\n",
    "\n",
    "We then compute the RMS before and after subtracting either  the row or the column vector."
   ]
  },
  {
   "cell_type": "code",
   "execution_count": 9,
   "metadata": {
    "run_control": {
     "frozen": false,
     "read_only": false
    }
   },
   "outputs": [
    {
     "name": "stdout",
     "output_type": "stream",
     "text": [
      "total RMS                   =  215.448222468\n",
      "RMS removing mean-by-station=  182.265214649\n",
      "RMS removing mean-by-year   =  151.823957338\n"
     ]
    }
   ],
   "source": [
    "def RMS(Mat):\n",
    "    return np.sqrt(np.nanmean(Mat**2))\n",
    "\n",
    "mean_by_year=np.nanmean(year_station_table,axis=1)\n",
    "mean_by_station=np.nanmean(year_station_table,axis=0)\n",
    "tbl_minus_year = (year_station_table.transpose()-mean_by_year).transpose()\n",
    "tbl_minus_station = year_station_table-mean_by_station\n",
    "\n",
    "print 'total RMS                   = ',RMS(year_station_table)\n",
    "print 'RMS removing mean-by-station= ',RMS(tbl_minus_station)\n",
    "print 'RMS removing mean-by-year   = ',RMS(tbl_minus_year)"
   ]
  },
  {
   "cell_type": "code",
   "execution_count": 10,
   "metadata": {
    "run_control": {
     "frozen": false,
     "read_only": false
    }
   },
   "outputs": [
    {
     "name": "stdout",
     "output_type": "stream",
     "text": [
      "initial RMS= 215.448222468\n",
      "1 after removing mean by year    = 151.823957338\n",
      "1 after removing mean by stations= 105.281965786\n",
      "2 after removing mean by year    = 104.276518076\n",
      "2 after removing mean by stations= 104.147437868\n",
      "3 after removing mean by year    = 104.102853527\n",
      "3 after removing mean by stations= 104.081499811\n",
      "4 after removing mean by year    = 104.070018475\n",
      "4 after removing mean by stations= 104.063533662\n",
      "5 after removing mean by year    = 104.059782438\n",
      "5 after removing mean by stations= 104.057585369\n"
     ]
    }
   ],
   "source": [
    "T=year_station_table\n",
    "print 'initial RMS=',RMS(T)\n",
    "for i in range(5):\n",
    "    mean_by_year=np.nanmean(T,axis=1)\n",
    "    T=(T.transpose()-mean_by_year).transpose()\n",
    "    print i+1,'after removing mean by year    =',RMS(T)\n",
    "    mean_by_station=np.nanmean(T,axis=0)\n",
    "    T=T-mean_by_station\n",
    "    print i+1,'after removing mean by stations=',RMS(T)"
   ]
  },
  {
   "cell_type": "code",
   "execution_count": 11,
   "metadata": {
    "run_control": {
     "frozen": false,
     "read_only": false
    }
   },
   "outputs": [
    {
     "name": "stdout",
     "output_type": "stream",
     "text": [
      "total RMS                    =  756.144877178\n",
      "RMS removing mean-by-station =  465.498142415 ,  fraction explained =  0.38437969169\n",
      "RMS removing mean-by-year    =  692.268018838 ,  fraction explained =  0.0844770099854\n",
      "total RMS                    =  215.448222468\n",
      "RMS removing mean-by-station =  182.265214649 ,  fraction explained =  0.15401848035\n",
      "RMS removing mean-by-year    =  151.823957338 ,  fraction explained =  0.295311162938\n",
      "total RMS                    =  173.416889085\n",
      "RMS removing mean-by-station =  165.933941754 ,  fraction explained =  0.0431500494024\n",
      "RMS removing mean-by-year    =  105.261889507 ,  fraction explained =  0.393012468034\n"
     ]
    }
   ],
   "source": [
    "# homework 5\n",
    "features=['station, year, coeff_1','station, year, coeff_2','station, year, coeff_3']\n",
    "for Features in features:\n",
    "    Query=\"SELECT %s FROM weather\"%Features\n",
    "    #print(Query)\n",
    "    pdf = sqlContext.sql(Query).toPandas()\n",
    "    pdf.head()\n",
    "    year_station_table=pdf.pivot(index='year', columns='station', values=Features.split(', ')[-1])\n",
    "\n",
    "    mean_by_year=np.nanmean(year_station_table,axis=1)\n",
    "    mean_by_station=np.nanmean(year_station_table,axis=0)\n",
    "    tbl_minus_year = (year_station_table.transpose()-mean_by_year).transpose()\n",
    "    tbl_minus_station = year_station_table-mean_by_station\n",
    "\n",
    "    print 'total RMS                    = ',RMS(year_station_table)\n",
    "    print 'RMS removing mean-by-station = ',RMS(tbl_minus_station), ',  fraction explained = ', (RMS(year_station_table) - RMS(tbl_minus_station)) / RMS(year_station_table) * 1.0 \n",
    "    print 'RMS removing mean-by-year    = ',RMS(tbl_minus_year), ',  fraction explained = ', (RMS(year_station_table) - RMS(tbl_minus_year)) / RMS(year_station_table) * 1.0 "
   ]
  },
  {
   "cell_type": "code",
   "execution_count": null,
   "metadata": {
    "collapsed": true
   },
   "outputs": [],
   "source": []
  }
 ],
 "metadata": {
  "anaconda-cloud": {},
  "hide_input": false,
  "kernelspec": {
   "display_name": "Python 2",
   "language": "python",
   "name": "python2"
  },
  "language_info": {
   "codemirror_mode": {
    "name": "ipython",
    "version": 2
   },
   "file_extension": ".py",
   "mimetype": "text/x-python",
   "name": "python",
   "nbconvert_exporter": "python",
   "pygments_lexer": "ipython2",
   "version": "2.7.13"
  },
  "toc": {
   "colors": {
    "hover_highlight": "#DAA520",
    "running_highlight": "#FF0000",
    "selected_highlight": "#FFD700"
   },
   "moveMenuLeft": true,
   "nav_menu": {
    "height": "174px",
    "width": "252px"
   },
   "navigate_menu": true,
   "number_sections": true,
   "sideBar": true,
   "threshold": 4,
   "toc_cell": false,
   "toc_section_display": "block",
   "toc_window_display": false
  },
  "widgets": {
   "state": {},
   "version": "1.0.0"
  }
 },
 "nbformat": 4,
 "nbformat_minor": 1
}
