{
 "cells": [
  {
   "cell_type": "markdown",
   "metadata": {
    "deletable": false,
    "editable": false,
    "nbgrader": {
     "checksum": "1e14402cec9308b02dcc1ebc85d41f94",
     "grade": false,
     "grade_id": "0",
     "locked": true,
     "schema_version": 1,
     "solution": false
    },
    "run_control": {
     "frozen": false,
     "read_only": false
    }
   },
   "source": [
    "### <span style=\"color:red\">IMPORTANT: Only modify cells which have the following comment:</span>\n",
    "```python\n",
    "# Modify this cell\n",
    "```\n",
    "##### <span style=\"color:red\">Do not add any new cells when you submit the homework</span>"
   ]
  },
  {
   "cell_type": "markdown",
   "metadata": {
    "deletable": false,
    "editable": false,
    "nbgrader": {
     "checksum": "bba821f4315d92d3f4498bd41b96d2c4",
     "grade": false,
     "grade_id": "1",
     "locked": true,
     "schema_version": 1,
     "solution": false
    },
    "run_control": {
     "frozen": false,
     "read_only": false
    }
   },
   "source": [
    "# Setting Up Notebook"
   ]
  },
  {
   "cell_type": "code",
   "execution_count": 1,
   "metadata": {
    "collapsed": true,
    "deletable": false,
    "editable": false,
    "nbgrader": {
     "checksum": "ed1a403a9abe9c4443d1e08f58e0c800",
     "grade": false,
     "grade_id": "2",
     "locked": true,
     "schema_version": 1,
     "solution": false
    },
    "run_control": {
     "frozen": false,
     "read_only": false
    }
   },
   "outputs": [],
   "source": [
    "import findspark\n",
    "findspark.init()"
   ]
  },
  {
   "cell_type": "code",
   "execution_count": 2,
   "metadata": {
    "collapsed": false,
    "deletable": false,
    "editable": false,
    "nbgrader": {
     "checksum": "1a11c634b751618a15b4c19ebf44dcfe",
     "grade": false,
     "grade_id": "3",
     "locked": true,
     "schema_version": 1,
     "solution": false
    },
    "run_control": {
     "frozen": false,
     "read_only": false
    },
    "slideshow": {
     "slide_type": "skip"
    }
   },
   "outputs": [],
   "source": [
    "from pyspark import SparkContext\n",
    "sc = SparkContext(master=\"local[4]\")"
   ]
  },
  {
   "cell_type": "code",
   "execution_count": 3,
   "metadata": {
    "collapsed": true,
    "deletable": false,
    "editable": false,
    "nbgrader": {
     "checksum": "74f3259ce5b7dca28d136ecda09890fa",
     "grade": false,
     "grade_id": "4",
     "locked": true,
     "schema_version": 1,
     "solution": false
    },
    "run_control": {
     "frozen": false,
     "read_only": false
    }
   },
   "outputs": [],
   "source": [
    "import numpy as np\n",
    "import math\n",
    "from numpy import linalg as LA"
   ]
  },
  {
   "cell_type": "markdown",
   "metadata": {
    "deletable": false,
    "editable": false,
    "nbgrader": {
     "checksum": "04af90670abb4a54e916bd7e576ccf20",
     "grade": false,
     "grade_id": "5",
     "locked": true,
     "schema_version": 1,
     "solution": false
    },
    "run_control": {
     "frozen": false,
     "read_only": false
    }
   },
   "source": [
    "# Exercise:\n",
    "The function **computeCov** computes the covariance matrix using RDDs. The code allows undefined entries and calculates the covariance without bias. \n",
    "\n",
    "Your homework is to complete the missing parts in **computeCov** (Marked with `...`) so that it calculates the covariance correctly.\n",
    "\n",
    "    Note: The functions and libraries in the cell below will be useful to you"
   ]
  },
  {
   "cell_type": "code",
   "execution_count": 7,
   "metadata": {
    "collapsed": true,
    "deletable": false,
    "editable": false,
    "nbgrader": {
     "checksum": "3ac9bb810caef146ad852489178ee668",
     "grade": false,
     "grade_id": "6",
     "locked": true,
     "schema_version": 1,
     "solution": false
    },
    "run_control": {
     "frozen": false,
     "read_only": false
    }
   },
   "outputs": [],
   "source": [
    "def outerProduct(X):\n",
    "    \"\"\"Computer outer product and indicate which locations in matrix are undefined\"\"\"\n",
    "    O=np.outer(X,X)\n",
    "    N=1-np.isnan(O)\n",
    "    return (O,N)\n",
    "\n",
    "def sumWithNan(M1,M2):\n",
    "    \"\"\"Add two pairs of (matrix,count)\"\"\"\n",
    "    (X1,N1)=M1\n",
    "    (X2,N2)=M2\n",
    "    N=N1+N2\n",
    "    X=np.nansum(np.dstack((X1,X2)),axis=2)\n",
    "    return (X,N)"
   ]
  },
  {
   "cell_type": "code",
   "execution_count": 116,
   "metadata": {
    "collapsed": false,
    "deletable": true,
    "editable": true,
    "run_control": {
     "frozen": false,
     "read_only": false
    }
   },
   "outputs": [],
   "source": [
    "# Modify this cell\n",
    "\n",
    "def computeCov(RDDin):\n",
    "    # input: RDDin is an RDD of np arrays, all of the same length\n",
    "    \n",
    "    # we insert 1 at the beginning of each vector so the calculation also yields the mean vector\n",
    "    RDD=RDDin.map(lambda v:np.array(np.insert(v,0,1),dtype=np.float64)) \n",
    "    \n",
    "    # separating map and reduce does not matter, since Spark uses lazy execution.\n",
    "    OuterRDD=RDD.map(lambda x: outerProduct(x))    #<-- do mapping here\n",
    "    (S,N)=OuterRDD.reduce(lambda x,y: sumWithNan(x,y)) #<-- do reducing here\n",
    "    \n",
    "    E=S[0,1:]\n",
    "    NE=np.float64(N[0,1:])\n",
    "    print 'shape of E=',E.shape,'shape of NE=',NE.shape\n",
    "    Mean=E/NE\n",
    "    O=S[1:,1:]\n",
    "    NO=np.float64(N[1:,1:])\n",
    "    Cov= np.nanmean(O,axis=0) # This is the covariance matrix\n",
    "    print O\n",
    "    \n",
    "    # Output also the diagnal which is the variance for each day\n",
    "    Var=np.array([Cov[i,i] for i in range(Cov.shape[0])])\n",
    "    return {'E':E,'NE':NE,'O':O,'NO':NO,'Cov':Cov,'Mean':Mean,'Var':Var}\n"
   ]
  },
  {
   "cell_type": "code",
   "execution_count": 117,
   "metadata": {
    "collapsed": false,
    "deletable": false,
    "editable": false,
    "nbgrader": {
     "checksum": "05c3bc3b51835df6d9a7110af503fbc5",
     "grade": true,
     "grade_id": "ex",
     "locked": true,
     "points": 2,
     "schema_version": 1,
     "solution": false
    },
    "run_control": {
     "frozen": false,
     "read_only": false
    },
    "scrolled": true
   },
   "outputs": [
    {
     "name": "stdout",
     "output_type": "stream",
     "text": [
      "Checking data_list of length 3 with length 10 vectors each having 2 np.NaN values\n",
      "[(array([[  1.00000000e+00,   2.85056984e-01,  -6.82737339e-01,\n",
      "         -2.15083407e-01,   3.63453646e-01,  -4.72956504e-01,\n",
      "          2.48992621e-01,  -2.98574675e-02,  -1.15343228e-01,\n",
      "                     nan,              nan],\n",
      "       [  2.85056984e-01,   8.12574840e-02,  -1.94619047e-01,\n",
      "         -6.13110273e-02,   1.03605000e-01,  -1.34819555e-01,\n",
      "          7.09770855e-02,  -8.51107962e-03,  -3.28793927e-02,\n",
      "                     nan,              nan],\n",
      "       [ -6.82737339e-01,  -1.94619047e-01,   4.66130275e-01,\n",
      "          1.46845473e-01,  -2.48143375e-01,   3.22905065e-01,\n",
      "         -1.69996559e-01,   2.03848079e-02,   7.87491286e-02,\n",
      "                     nan,              nan],\n",
      "       [ -2.15083407e-01,  -6.13110273e-02,   1.46845473e-01,\n",
      "          4.62608720e-02,  -7.81728484e-02,   1.01725096e-01,\n",
      "         -5.35541812e-02,   6.42184583e-03,   2.48084145e-02,\n",
      "                     nan,              nan],\n",
      "       [  3.63453646e-01,   1.03605000e-01,  -2.48143375e-01,\n",
      "         -7.81728484e-02,   1.32098553e-01,  -1.71897766e-01,\n",
      "          9.04972758e-02,  -1.08518054e-02,  -4.19219167e-02,\n",
      "                     nan,              nan],\n",
      "       [ -4.72956504e-01,  -1.34819555e-01,   3.22905065e-01,\n",
      "          1.01725096e-01,  -1.71897766e-01,   2.23687855e-01,\n",
      "         -1.17762679e-01,   1.41212834e-02,   5.45523299e-02,\n",
      "                     nan,              nan],\n",
      "       [  2.48992621e-01,   7.09770855e-02,  -1.69996559e-01,\n",
      "         -5.35541812e-02,   9.04972758e-02,  -1.17762679e-01,\n",
      "          6.19973252e-02,  -7.43428907e-03,  -2.87196126e-02,\n",
      "                     nan,              nan],\n",
      "       [ -2.98574675e-02,  -8.51107962e-03,   2.03848079e-02,\n",
      "          6.42184583e-03,  -1.08518054e-02,   1.41212834e-02,\n",
      "         -7.43428907e-03,   8.91468363e-04,   3.44385668e-03,\n",
      "                     nan,              nan],\n",
      "       [ -1.15343228e-01,  -3.28793927e-02,   7.87491286e-02,\n",
      "          2.48084145e-02,  -4.19219167e-02,   5.45523299e-02,\n",
      "         -2.87196126e-02,   3.44385668e-03,   1.33040602e-02,\n",
      "                     nan,              nan],\n",
      "       [             nan,              nan,              nan,\n",
      "                     nan,              nan,              nan,\n",
      "                     nan,              nan,              nan,\n",
      "                     nan,              nan],\n",
      "       [             nan,              nan,              nan,\n",
      "                     nan,              nan,              nan,\n",
      "                     nan,              nan,              nan,\n",
      "                     nan,              nan]]), array([[1, 1, 1, 1, 1, 1, 1, 1, 1, 0, 0],\n",
      "       [1, 1, 1, 1, 1, 1, 1, 1, 1, 0, 0],\n",
      "       [1, 1, 1, 1, 1, 1, 1, 1, 1, 0, 0],\n",
      "       [1, 1, 1, 1, 1, 1, 1, 1, 1, 0, 0],\n",
      "       [1, 1, 1, 1, 1, 1, 1, 1, 1, 0, 0],\n",
      "       [1, 1, 1, 1, 1, 1, 1, 1, 1, 0, 0],\n",
      "       [1, 1, 1, 1, 1, 1, 1, 1, 1, 0, 0],\n",
      "       [1, 1, 1, 1, 1, 1, 1, 1, 1, 0, 0],\n",
      "       [1, 1, 1, 1, 1, 1, 1, 1, 1, 0, 0],\n",
      "       [0, 0, 0, 0, 0, 0, 0, 0, 0, 0, 0],\n",
      "       [0, 0, 0, 0, 0, 0, 0, 0, 0, 0, 0]])), (array([[ 1.        , -1.49465064, -0.6474741 ,  0.66631294,         nan,\n",
      "         0.75373141,         nan,  0.35621844,  0.54247292,  0.33588386,\n",
      "        -1.02131315],\n",
      "       [-1.49465064,  2.23398053,  0.96774757, -0.99590506,         nan,\n",
      "        -1.12656513,         nan, -0.53242211, -0.81080749, -0.50202902,\n",
      "         1.52650636],\n",
      "       [-0.6474741 ,  0.96774757,  0.41922271, -0.43142037,         nan,\n",
      "        -0.48802157,         nan, -0.23064221, -0.35123716, -0.2174761 ,\n",
      "         0.66127381],\n",
      "       [ 0.66631294, -0.99590506, -0.43142037,  0.44397293,         nan,\n",
      "         0.50222099,         nan,  0.23735295,  0.36145672,  0.22380376,\n",
      "        -0.68051417],\n",
      "       [        nan,         nan,         nan,         nan,         nan,\n",
      "                nan,         nan,         nan,         nan,         nan,\n",
      "                nan],\n",
      "       [ 0.75373141, -1.12656513, -0.48802157,  0.50222099,         nan,\n",
      "         0.56811104,         nan,  0.26849302,  0.40887888,  0.25316622,\n",
      "        -0.7697958 ],\n",
      "       [        nan,         nan,         nan,         nan,         nan,\n",
      "                nan,         nan,         nan,         nan,         nan,\n",
      "                nan],\n",
      "       [ 0.35621844, -0.53242211, -0.23064221,  0.23735295,         nan,\n",
      "         0.26849302,         nan,  0.12689157,  0.19323885,  0.11964802,\n",
      "        -0.36381057],\n",
      "       [ 0.54247292, -0.81080749, -0.35123716,  0.36145672,         nan,\n",
      "         0.40887888,         nan,  0.19323885,  0.29427686,  0.1822079 ,\n",
      "        -0.55403472],\n",
      "       [ 0.33588386, -0.50202902, -0.2174761 ,  0.22380376,         nan,\n",
      "         0.25316622,         nan,  0.11964802,  0.1822079 ,  0.11281797,\n",
      "        -0.3430426 ],\n",
      "       [-1.02131315,  1.52650636,  0.66127381, -0.68051417,         nan,\n",
      "        -0.7697958 ,         nan, -0.36381057, -0.55403472, -0.3430426 ,\n",
      "         1.04308056]]), array([[1, 1, 1, 1, 0, 1, 0, 1, 1, 1, 1],\n",
      "       [1, 1, 1, 1, 0, 1, 0, 1, 1, 1, 1],\n",
      "       [1, 1, 1, 1, 0, 1, 0, 1, 1, 1, 1],\n",
      "       [1, 1, 1, 1, 0, 1, 0, 1, 1, 1, 1],\n",
      "       [0, 0, 0, 0, 0, 0, 0, 0, 0, 0, 0],\n",
      "       [1, 1, 1, 1, 0, 1, 0, 1, 1, 1, 1],\n",
      "       [0, 0, 0, 0, 0, 0, 0, 0, 0, 0, 0],\n",
      "       [1, 1, 1, 1, 0, 1, 0, 1, 1, 1, 1],\n",
      "       [1, 1, 1, 1, 0, 1, 0, 1, 1, 1, 1],\n",
      "       [1, 1, 1, 1, 0, 1, 0, 1, 1, 1, 1],\n",
      "       [1, 1, 1, 1, 0, 1, 0, 1, 1, 1, 1]])), (array([[ 1.        ,         nan,         nan,  0.21262433,  0.78617074,\n",
      "         0.06847457, -0.69221111,  0.17744531,  0.21787918, -0.54160755,\n",
      "        -0.53479166],\n",
      "       [        nan,         nan,         nan,         nan,         nan,\n",
      "                nan,         nan,         nan,         nan,         nan,\n",
      "                nan],\n",
      "       [        nan,         nan,         nan,         nan,         nan,\n",
      "                nan,         nan,         nan,         nan,         nan,\n",
      "                nan],\n",
      "       [ 0.21262433,         nan,         nan,  0.04520911,  0.16715903,\n",
      "         0.01455936, -0.14718093,  0.03772919,  0.04632641, -0.11515894,\n",
      "        -0.11370972],\n",
      "       [ 0.78617074,         nan,         nan,  0.16715903,  0.61806443,\n",
      "         0.0538327 , -0.54419612,  0.13950231,  0.17129023, -0.42579601,\n",
      "        -0.42043755],\n",
      "       [ 0.06847457,         nan,         nan,  0.01455936,  0.0538327 ,\n",
      "         0.00468877, -0.04739885,  0.01215049,  0.01491918, -0.03708634,\n",
      "        -0.03661963],\n",
      "       [-0.69221111,         nan,         nan, -0.14718093, -0.54419612,\n",
      "        -0.04739885,  0.47915621, -0.12282961, -0.15081839,  0.37490676,\n",
      "         0.37018872],\n",
      "       [ 0.17744531,         nan,         nan,  0.03772919,  0.13950231,\n",
      "         0.01215049, -0.12282961,  0.03148684,  0.03866164, -0.09610572,\n",
      "        -0.09489627],\n",
      "       [ 0.21787918,         nan,         nan,  0.04632641,  0.17129023,\n",
      "         0.01491918, -0.15081839,  0.03866164,  0.04747134, -0.11800501,\n",
      "        -0.11651997],\n",
      "       [-0.54160755,         nan,         nan, -0.11515894, -0.42579601,\n",
      "        -0.03708634,  0.37490676, -0.09610572, -0.11800501,  0.29333874,\n",
      "         0.2896472 ],\n",
      "       [-0.53479166,         nan,         nan, -0.11370972, -0.42043755,\n",
      "        -0.03661963,  0.37018872, -0.09489627, -0.11651997,  0.2896472 ,\n",
      "         0.28600212]]), array([[1, 0, 0, 1, 1, 1, 1, 1, 1, 1, 1],\n",
      "       [0, 0, 0, 0, 0, 0, 0, 0, 0, 0, 0],\n",
      "       [0, 0, 0, 0, 0, 0, 0, 0, 0, 0, 0],\n",
      "       [1, 0, 0, 1, 1, 1, 1, 1, 1, 1, 1],\n",
      "       [1, 0, 0, 1, 1, 1, 1, 1, 1, 1, 1],\n",
      "       [1, 0, 0, 1, 1, 1, 1, 1, 1, 1, 1],\n",
      "       [1, 0, 0, 1, 1, 1, 1, 1, 1, 1, 1],\n",
      "       [1, 0, 0, 1, 1, 1, 1, 1, 1, 1, 1],\n",
      "       [1, 0, 0, 1, 1, 1, 1, 1, 1, 1, 1],\n",
      "       [1, 0, 0, 1, 1, 1, 1, 1, 1, 1, 1],\n",
      "       [1, 0, 0, 1, 1, 1, 1, 1, 1, 1, 1]]))]\n",
      "shape of E= (10,) shape of NE= (10,)\n",
      "[[ 2.31523801  0.77312853 -1.05721608  0.103605   -1.26138469  0.07097709\n",
      "  -0.54093319 -0.84368688 -0.50202902  1.52650636]\n",
      " [ 0.77312853  0.88535298 -0.2845749  -0.24814338 -0.1651165  -0.16999656\n",
      "  -0.2102574  -0.27248803 -0.2174761   0.66127381]\n",
      " [-1.05721608 -0.2845749   0.53544291  0.08898618  0.61850545 -0.20073511\n",
      "   0.28150399  0.43259155  0.10864482 -0.79422389]\n",
      " [ 0.103605   -0.24814338  0.08898618  0.75016298 -0.11806507 -0.45369884\n",
      "   0.12865051  0.12936832 -0.42579601 -0.42043755]\n",
      " [-1.26138469 -0.1651165   0.61850545 -0.11806507  0.79648766 -0.16516153\n",
      "   0.2947648   0.47835039  0.21607987 -0.80641543]\n",
      " [ 0.07097709 -0.16999656 -0.20073511 -0.45369884 -0.16516153  0.54115354\n",
      "  -0.1302639  -0.179538    0.37490676  0.37018872]\n",
      " [-0.54093319 -0.2102574   0.28150399  0.12865051  0.2947648  -0.1302639\n",
      "   0.15926988  0.23534435  0.0235423  -0.45870685]\n",
      " [-0.84368688 -0.27248803  0.43259155  0.12936832  0.47835039 -0.179538\n",
      "   0.23534435  0.35505226  0.06420289 -0.67055469]\n",
      " [-0.50202902 -0.2174761   0.10864482 -0.42579601  0.21607987  0.37490676\n",
      "   0.0235423   0.06420289  0.40615671 -0.0533954 ]\n",
      " [ 1.52650636  0.66127381 -0.79422389 -0.42043755 -0.80641543  0.37018872\n",
      "  -0.45870685 -0.67055469 -0.0533954   1.32908267]]\n"
     ]
    },
    {
     "ename": "IndexError",
     "evalue": "too many indices for array",
     "output_type": "error",
     "traceback": [
      "\u001b[0;31m---------------------------------------------------------------------------\u001b[0m",
      "\u001b[0;31mIndexError\u001b[0m                                Traceback (most recent call last)",
      "\u001b[0;32m<ipython-input-117-891e44cb49c5>\u001b[0m in \u001b[0;36m<module>\u001b[0;34m()\u001b[0m\n\u001b[1;32m      1\u001b[0m \u001b[0;32mimport\u001b[0m \u001b[0mTester\u001b[0m\u001b[0;34m.\u001b[0m\u001b[0mSmallPCA\u001b[0m \u001b[0;32mas\u001b[0m \u001b[0mpca\u001b[0m\u001b[0;34m\u001b[0m\u001b[0m\n\u001b[0;32m----> 2\u001b[0;31m \u001b[0mpca\u001b[0m\u001b[0;34m.\u001b[0m\u001b[0mexercise\u001b[0m\u001b[0;34m(\u001b[0m\u001b[0mcomputeCov\u001b[0m\u001b[0;34m,\u001b[0m \u001b[0msc\u001b[0m\u001b[0;34m)\u001b[0m\u001b[0;34m\u001b[0m\u001b[0m\n\u001b[0m",
      "\u001b[0;32m/Users/ssvictorlin/CSE255-DSE230/Classes/2.PCA/Tester/SmallPCA.py\u001b[0m in \u001b[0;36mexercise\u001b[0;34m(fstudent, sc)\u001b[0m\n\u001b[1;32m     19\u001b[0m                 \u001b[0;34m+\u001b[0m\u001b[0mstr\u001b[0m\u001b[0;34m(\u001b[0m\u001b[0mnp\u001b[0m\u001b[0;34m.\u001b[0m\u001b[0msum\u001b[0m\u001b[0;34m(\u001b[0m\u001b[0mnp\u001b[0m\u001b[0;34m.\u001b[0m\u001b[0misnan\u001b[0m\u001b[0;34m(\u001b[0m\u001b[0mdata\u001b[0m\u001b[0;34m[\u001b[0m\u001b[0;36m0\u001b[0m\u001b[0;34m]\u001b[0m\u001b[0;34m)\u001b[0m\u001b[0;34m)\u001b[0m\u001b[0;34m)\u001b[0m\u001b[0;34m+\u001b[0m\u001b[0;34m\" np.NaN values\"\u001b[0m\u001b[0;34m\u001b[0m\u001b[0m\n\u001b[1;32m     20\u001b[0m         \u001b[0mRDD\u001b[0m\u001b[0;34m=\u001b[0m\u001b[0msc\u001b[0m\u001b[0;34m.\u001b[0m\u001b[0mparallelize\u001b[0m\u001b[0;34m(\u001b[0m\u001b[0mdata\u001b[0m\u001b[0;34m)\u001b[0m\u001b[0;34m\u001b[0m\u001b[0m\n\u001b[0;32m---> 21\u001b[0;31m         \u001b[0mstudentAns\u001b[0m \u001b[0;34m=\u001b[0m \u001b[0mfstudent\u001b[0m\u001b[0;34m(\u001b[0m\u001b[0mRDD\u001b[0m\u001b[0;34m)\u001b[0m\u001b[0;34m\u001b[0m\u001b[0m\n\u001b[0m\u001b[1;32m     22\u001b[0m \u001b[0;34m\u001b[0m\u001b[0m\n\u001b[1;32m     23\u001b[0m         \u001b[0;31m#print studentAns; print;print;print;print;print;\u001b[0m\u001b[0;34m\u001b[0m\u001b[0;34m\u001b[0m\u001b[0m\n",
      "\u001b[0;32m<ipython-input-116-8bdfea7c1525>\u001b[0m in \u001b[0;36mcomputeCov\u001b[0;34m(RDDin)\u001b[0m\n\u001b[1;32m     22\u001b[0m \u001b[0;34m\u001b[0m\u001b[0m\n\u001b[1;32m     23\u001b[0m     \u001b[0;31m# Output also the diagnal which is the variance for each day\u001b[0m\u001b[0;34m\u001b[0m\u001b[0;34m\u001b[0m\u001b[0m\n\u001b[0;32m---> 24\u001b[0;31m     \u001b[0mVar\u001b[0m\u001b[0;34m=\u001b[0m\u001b[0mnp\u001b[0m\u001b[0;34m.\u001b[0m\u001b[0marray\u001b[0m\u001b[0;34m(\u001b[0m\u001b[0;34m[\u001b[0m\u001b[0mCov\u001b[0m\u001b[0;34m[\u001b[0m\u001b[0mi\u001b[0m\u001b[0;34m,\u001b[0m\u001b[0mi\u001b[0m\u001b[0;34m]\u001b[0m \u001b[0;32mfor\u001b[0m \u001b[0mi\u001b[0m \u001b[0;32min\u001b[0m \u001b[0mrange\u001b[0m\u001b[0;34m(\u001b[0m\u001b[0mCov\u001b[0m\u001b[0;34m.\u001b[0m\u001b[0mshape\u001b[0m\u001b[0;34m[\u001b[0m\u001b[0;36m0\u001b[0m\u001b[0;34m]\u001b[0m\u001b[0;34m)\u001b[0m\u001b[0;34m]\u001b[0m\u001b[0;34m)\u001b[0m\u001b[0;34m\u001b[0m\u001b[0m\n\u001b[0m\u001b[1;32m     25\u001b[0m     \u001b[0;32mreturn\u001b[0m \u001b[0;34m{\u001b[0m\u001b[0;34m'E'\u001b[0m\u001b[0;34m:\u001b[0m\u001b[0mE\u001b[0m\u001b[0;34m,\u001b[0m\u001b[0;34m'NE'\u001b[0m\u001b[0;34m:\u001b[0m\u001b[0mNE\u001b[0m\u001b[0;34m,\u001b[0m\u001b[0;34m'O'\u001b[0m\u001b[0;34m:\u001b[0m\u001b[0mO\u001b[0m\u001b[0;34m,\u001b[0m\u001b[0;34m'NO'\u001b[0m\u001b[0;34m:\u001b[0m\u001b[0mNO\u001b[0m\u001b[0;34m,\u001b[0m\u001b[0;34m'Cov'\u001b[0m\u001b[0;34m:\u001b[0m\u001b[0mCov\u001b[0m\u001b[0;34m,\u001b[0m\u001b[0;34m'Mean'\u001b[0m\u001b[0;34m:\u001b[0m\u001b[0mMean\u001b[0m\u001b[0;34m,\u001b[0m\u001b[0;34m'Var'\u001b[0m\u001b[0;34m:\u001b[0m\u001b[0mVar\u001b[0m\u001b[0;34m}\u001b[0m\u001b[0;34m\u001b[0m\u001b[0m\n",
      "\u001b[0;31mIndexError\u001b[0m: too many indices for array"
     ]
    }
   ],
   "source": [
    "import Tester.SmallPCA as pca\n",
    "pca.exercise(computeCov, sc)"
   ]
  },
  {
   "cell_type": "code",
   "execution_count": null,
   "metadata": {
    "collapsed": true,
    "deletable": false,
    "editable": false,
    "nbgrader": {
     "checksum": "fa10fc0547ac5fb00a6cac96f485105d",
     "grade": false,
     "grade_id": "7",
     "locked": true,
     "schema_version": 1,
     "solution": false
    }
   },
   "outputs": [],
   "source": [
    "\n",
    "\n",
    "\n",
    "\n",
    "\n",
    "\n",
    "\n",
    "\n",
    "\n"
   ]
  }
 ],
 "metadata": {
  "anaconda-cloud": {},
  "kernelspec": {
   "display_name": "Python 2",
   "language": "python",
   "name": "python2"
  },
  "language_info": {
   "codemirror_mode": {
    "name": "ipython",
    "version": 2
   },
   "file_extension": ".py",
   "mimetype": "text/x-python",
   "name": "python",
   "nbconvert_exporter": "python",
   "pygments_lexer": "ipython2",
   "version": "2.7.13"
  },
  "name": "PCA_using_numpy for HW3",
  "notebookId": 85286,
  "toc": {
   "colors": {
    "hover_highlight": "#DAA520",
    "running_highlight": "#FF0000",
    "selected_highlight": "#FFD700"
   },
   "moveMenuLeft": true,
   "nav_menu": {
    "height": "121px",
    "width": "252px"
   },
   "navigate_menu": true,
   "number_sections": true,
   "sideBar": true,
   "threshold": 4,
   "toc_cell": false,
   "toc_section_display": "block",
   "toc_window_display": true,
   "widenNotebook": false
  }
 },
 "nbformat": 4,
 "nbformat_minor": 0
}
