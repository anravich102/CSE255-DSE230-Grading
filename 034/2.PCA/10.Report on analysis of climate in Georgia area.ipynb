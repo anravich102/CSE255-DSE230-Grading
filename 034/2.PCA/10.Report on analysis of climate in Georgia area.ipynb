{
 "cells": [
  {
   "cell_type": "markdown",
   "metadata": {
    "run_control": {
     "frozen": false,
     "read_only": false
    }
   },
   "source": [
    "# Georgia Weather Analysis\n",
    "### -Gopal Rander A53210491\n",
    "This is a report on the historical analysis of weather patterns in an area that approximately overlaps the area of the state of Georgia.\n",
    "\n",
    "The data we will use here comes from [NOAA](https://www.ncdc.noaa.gov/). Specifically, it was downloaded from This [FTP site](ftp://ftp.ncdc.noaa.gov/pub/data/ghcn/daily/).\n",
    "\n",
    "We focused on six measurements:\n",
    "* **TMIN, TMAX:** the daily minimum and maximum temperature.\n",
    "* **TOBS:** The average temperature for each day.\n",
    "* **PRCP:** Daily Percipitation (in mm)\n",
    "* **SNOW:** Daily snowfall (in mm)\n",
    "* **SNWD:** The depth of accumulated snow.\n",
    "\n",
    "## Sanity-check: comparison with outside sources\n",
    "\n",
    "<p>We start by comparing some of the general statistics with graphs that we obtained from a site called <a href=\"http://www.usclimatedata.com/climate/macon/georgia/united-states/usga0346\" target=\"_blank\">US Climate Data</a> The graph below shows the daily minimum and maximum temperatures for each month, as well as the total precipitation for each month.</p>\n",
    "\n",
    "<p>&nbsp;</p>\n",
    "\n",
    "<p><img alt=\"Climate_Georgia_and_Weather_averages.jpg\" src=\"my_figs/sanity_georgia_macon_area.png\" /></p>\n",
    "\n",
    "<p>&nbsp;</p>\n",
    "\n",
    "<p>We see that the min and max daily&nbsp;temperature agree with the ones we got from our data, once we translate Fahrenheit to Centigrade.</p>\n",
    "\n",
    "<p>&nbsp;</p>\n",
    "\n",
    "<p><img alt=\"TMIN,TMAX.png\" src=\"my_figs/macon_tmin_tmax_dist.png\" style=\"height:300px; width:800px\" /></p>\n",
    "\n",
    "<p>To compare the precipitation&nbsp;we need to translate millimeter/day to inches/month. According to our analysis the average rainfall is 3.00 mm/day which translates to about 3.54 Inches&nbsp;per month. According to US-Climate-Data the average rainfall is closer to 3.8 inch per month. However, there is clear agreement that average precipitation is higher during July, August and dips in October, November &nbsp;which is in-line with the US climate data analysis</p>\n",
    "\n",
    "<p>&nbsp;<img alt=\"PRCP.png\" src=\"my_figs/macon_prcp_dist.png\" style=\"height:450px; width:600px\" /></p>\n"
   ]
  },
  {
   "cell_type": "markdown",
   "metadata": {
    "run_control": {
     "frozen": false,
     "read_only": false
    }
   },
   "source": [
    "## PCA analysis\n",
    "\n",
    "For each of the six measurement, we compute the percentate of the variance explained as a function of the number of eigen-vectors used.\n",
    "\n",
    "### Percentage of variance explained.\n",
    "![VarExplained1.png](my_figs/macon_variance_exp_tmin_tmax_tobs.png)\n",
    "We see that the top 5 eigen-vectors explain 23% of variance for TMIN, 55% for TOBS and 23% for TMAX.\n",
    "\n",
    "We conclude that of the three, TOBS is best explained by the top 5 eigenvectors. This is especially true for the first eigen-vector which, by itself, explains 45% of the variance.\n",
    "\n",
    "![VarExplained2.png](my_figs/macon_variance_exp_snow_snwd_prcp.png)\n",
    "\n",
    "The top 5 eigenvectors explain 6.5% of the variance for PRCP and 62% for SNOW. Both are low values. On the other hand the top 5 eigenvectors explain %90 of the variance for SNWD. This means that these top 5 eigenvectors capture most of the variation in the snow signals. Based on that we will dig deeper into the PCA analysis for snow-depth.\n",
    "\n",
    "It makes sense that SNWD would be less noisy than SNOW. That is because SNWD is a decaying integral of SNOW and, as such, varies less between days and between the same date on diffferent years. We start by analysis snow depth"
   ]
  },
  {
   "cell_type": "markdown",
   "metadata": {
    "run_control": {
     "frozen": false,
     "read_only": false
    }
   },
   "source": [
    "## Analysis of snow depth\n",
    "\n",
    "We choose to analyze the eigen-decomposition for snow-depth because the first 10 eigen-vectors explain more than 90% of the variance.\n",
    "\n",
    "First, we graph the mean and the top 10 eigen-vectors.\n",
    "\n",
    "We observe that the overall snow depth is very low and sparse. Snow season is during February and March and then during November to December, with very little snow in  January. Peak of snow depth is observed in mid-February and mid-November\n",
    "![SNWD_mean_eigs.png](my_figs/macon_snwd_mean_eigen_10.png)"
   ]
  },
  {
   "cell_type": "markdown",
   "metadata": {
    "run_control": {
     "frozen": false,
     "read_only": false
    }
   },
   "source": [
    "Next we interpret the eigen-functions. Since the data is very sparse, most of the eigen vectors correspond to the peaks at different time. The first eigen-function (eig1) has peaked at November mid and second eigen function has peaked at February mid. Another observation is that the eigen-function is close to zero during all the times mean is close is zero. The interpretation of this shape is that due to sparse nature of the data, (because there is very less snow in Georgia-Macon area) most of the eigen vectors are similar represenatation of the sparse data.\n",
    "**eig1,eig2 and eig4** are similar in the following way. They all represent the peak at different times. **eig2** captures the dip between peak days of snow. \n",
    "\n",
    "They can be interpreted as follows:\n",
    "* **eig1:** snow in nov.\n",
    "* **eig2 eig 5:** snow in feb, less snow in feb end, slightly more snow in march.\n",
    "* **eig4:** snow in dec.\n"
   ]
  },
  {
   "cell_type": "markdown",
   "metadata": {
    "run_control": {
     "frozen": false,
     "read_only": false
    }
   },
   "source": [
    "As we observed in the snow depth / snow analysis, the eigen vectors are not rich in information and just a similar represenataion of data as it is. So we decide to analyse TOBS : Average Temp. for a day. \n",
    "Top 5 eigen vectors for TOBS explains close to 55% of variance.  "
   ]
  },
  {
   "cell_type": "markdown",
   "metadata": {
    "run_control": {
     "frozen": false,
     "read_only": false
    }
   },
   "source": [
    "## Analysis of Average temperature\n",
    "\n",
    "We choose to analyze the eigen-decomposition for TOBS (Average temparature each day) because the first 5 eigen-vectors explain 55% variance.\n",
    "\n",
    "First, we graph the mean and the top 6 eigen-vectors.\n",
    "\n",
    "We observe that the average temparature follows the seasonal trend i.e. highest in summer during July-August and  winter in December and January. \n",
    "![SNWD_mean_eigs.png](my_figs/macon_tobs_mean_eigen_10.png)"
   ]
  },
  {
   "cell_type": "markdown",
   "metadata": {
    "run_control": {
     "frozen": false,
     "read_only": false
    }
   },
   "source": [
    "Next we interpret the eigen-functions. Average temparature is less noisy than Max temperature and Minimum temperature. The first eigen-function (eig1) represents a bias value and hence is nearly constant. \n"
   ]
  },
  {
   "cell_type": "markdown",
   "metadata": {
    "run_control": {
     "frozen": false,
     "read_only": false
    }
   },
   "source": [
    "### Examples of reconstructions\n",
    "\n",
    "#### Coeff0 - corresponding to eig1\n",
    "Coeff0: most positive\n",
    "![SNWD_grid_Pos_coeff1.png](my_figs/macon_tobs_c0_pos.png)\n",
    "Coeff0: most negative\n",
    "![SNWD_grid_neg_coeff1.png](my_figs/macon_tobs_c0_neg.png)\n",
    "Large positive values of coeff0 correspond to less than average temparature. Low values correspond to more than average temperature.\n",
    "\n",
    "#### Coeff1 - corresponding to eig2\n",
    "Coeff1: most positive\n",
    "![SNWD_grid_Pos_coeff2.png](my_figs/macon_tobs_c1_pos.png)\n",
    "Coeff1: most negative\n",
    "![SNWD_grid_neg_coeff2.png](my_figs/macon_tobs_c1_neg.png)\n",
    "\n",
    "Large positive values of Coeff2 corresponds to more variation in weather during the months of January to April and November to December. Similarly, the most negative values corresponds to cases where the observation is in sync with the mean temperature.\n",
    "\n",
    "#### Coeff2 - corresponding to eig3\n",
    "Coeff2: most positive\n",
    "![SNWD_grid_Pos_coeff3.png](my_figs/macon_tobs_c2_pos.png)\n",
    "Coeff2: most negative\n",
    "![SNWD_grid_neg_coeff3.png](my_figs/macon_tobs_c2_neg.png)\n",
    "\n",
    "Larger positive values of Coeff_2 corresponds to high temperature during January/February, and then fall in temperature in March/April. Negative values of Coeff_3 corresponds to exactly opposite, i.e. lower temperature in January/February and then rise in temperature during March/April.\n"
   ]
  },
  {
   "cell_type": "markdown",
   "metadata": {},
   "source": [
    "## The variation in the average temperature of a day is due to both year-to-year variation and station to station variation.\n",
    "In the previous section we see the variation of Coeff0, which corresponds to the deviation of temperature from mean value, with respect to location. We now estimate the relative importance of location-to-location variation relative to year-by-year variation.\n",
    "\n",
    "These are measured using the fraction by which the variance is reduced when we subtract from each station/year entry the average-per-year or the average-per-station respectively. Here are the results:\n",
    "\n",
    "** coeff_0 **  \n",
    "total MS                   = 612371.43  \n",
    "MS removing mean-by-station= 291151.46, fraction explained=52.45% \n",
    "MS removing mean-by-year   = 502487.48, fraction explained=17.94% \n",
    "\n",
    "** coeff_1 **  \n",
    "total MS                   = 39001.62  \n",
    "MS removing mean-by-station= 31373.08, fraction explained=19.55%  \n",
    "MS removing mean-by-year   = 12996.25, fraction explained=33.32%\n",
    "\n",
    "** coeff_2 **  \n",
    "total MS                   = 26480.89  \n",
    "MS removing mean-by-station= 24856.98, fraction explained= 6.1%  \n",
    "MS removing mean-by-year   = 5723.60, fraction explained=78.38% \n",
    "\n",
    "\n",
    "We see that using coefficent 0, related to eigen vector 1, variation by station explains more than variation by year. Although using coefficient 1 and 2, the fraction explained by variation by year is better than by station. \n",
    "Since coefficient 0 explains 52% of the variation, we conclude that temperature variation is explained by both year-to-year variation and station-to-station variation"
   ]
  },
  {
   "cell_type": "markdown",
   "metadata": {},
   "source": [
    "## Visual representation of TOBS\n",
    "The map of the staions below shows the number of reading for each station in form of area of circles, and the average value of coefficient 0 (coeff0, corresponding to eigen vector 1) in color coded format.\n",
    "\n",
    "As stated in report above, red circles show more than mean average temperature, and yellow circles show less than mean average temperature."
   ]
  },
  {
   "cell_type": "markdown",
   "metadata": {},
   "source": [
    "![SNWD_grid_Pos_coeff1.png](my_figs/data_in_map_coeff_1.png)"
   ]
  },
  {
   "cell_type": "markdown",
   "metadata": {},
   "source": [
    "## Measuring statistical significance across stations\n",
    "We want to find a statistical test for rejecting the null hypothesis that says that the temperature in the two locations is independent.\n",
    "\n",
    "Using the inner product is too noisy, because you multiply the temperature on the same day in two locations and that product can be very large - leading to a large variance and poor ability to discriminate.\n",
    "\n",
    "An alternative is to ignore the absolute temperature, and just ask whether the temperature was greater than a threshold (Eg. 25 degree Celcius). We can then compute the probability associated with the number of overlaps under the null hypothesis.\n",
    "\n",
    "The histogram below shows the distribution of p-values computed using the above representation. (Ignore the peak at 0.4, it is the same station's p-value with itself). We are using 25 degree celcius as the threshold."
   ]
  },
  {
   "cell_type": "markdown",
   "metadata": {},
   "source": [
    "![SNWD_grid_Pos_coeff1.png](my_figs/significance_p_val.png)\n",
    "![SNWD_grid_Pos_coeff1.png](my_figs/dependency_matrix.png)"
   ]
  },
  {
   "cell_type": "markdown",
   "metadata": {},
   "source": [
    "### Finding structure in the dependency matrix.\n",
    "The matrix above shows, for each pair of stations, the normalized log probability that the overlap in high temperature days mostly random. Some station are correlated, which makes sense as temperature on close by stations will not be varying too much. so if a station has > 25 degree temperature, then all close by stations will have a similar reading.  \n",
    "\n",
    "We see immediately the first 3 stations are highly correlatedwith each other. Then a group of 5 stations towards the end are highly correlated. \n",
    "\n",
    "To find more correlations we use SVD (the term PCA is reserved for decomposition of the covariance matrix). As we shall see that the top 10 eigenvectors explain about 80% of the square magnitude of the matrix."
   ]
  },
  {
   "cell_type": "markdown",
   "metadata": {},
   "source": [
    "![SNWD_grid_Pos_coeff1.png](my_figs/pca_on_binary_temp.png)\n",
    "![SNWD_grid_Pos_coeff1.png](my_figs/reorder_matrix_binary_data.png)"
   ]
  },
  {
   "cell_type": "markdown",
   "metadata": {},
   "source": [
    "### Explanation and possibe extensions\n",
    "When we reorder the rows and columns of the matrix using one of the eigenvectors, the grouping of the \n",
    "stations becomes more evident. For example, consider the upper left corner of the first matrix (The upper left one). The stations at positions 0-15 are clearly strongly correlated with each other. In second matrix, we see a group of 10 stations co-related.\n",
    "\n",
    "This type of organization is called **Block Diagonal** and it typically reveals important structure such as grouping or clustering."
   ]
  },
  {
   "cell_type": "markdown",
   "metadata": {},
   "source": [
    "## Visual Representation of Coefficients for top 4 eigen vectors on above binary representation of data \n",
    "\n",
    "We represent the coefficient using triangles, with size of triangle as the magnitude of the coefficient. Hollow triangles are negative coefficient and solid are positive. This gives us regional dependency representation of the staions. \n",
    "![SNWD_grid_Pos_coeff1.png](my_figs/maps_with_triangle_coef.png)\n",
    "\n",
    "We observe that these coefficients are related regionally, which explains the dependency matrix above"
   ]
  },
  {
   "cell_type": "code",
   "execution_count": null,
   "metadata": {
    "collapsed": true
   },
   "outputs": [],
   "source": []
  }
 ],
 "metadata": {
  "anaconda-cloud": {},
  "kernelspec": {
   "display_name": "Python 2",
   "language": "python",
   "name": "python2"
  },
  "language_info": {
   "codemirror_mode": {
    "name": "ipython",
    "version": 2
   },
   "file_extension": ".py",
   "mimetype": "text/x-python",
   "name": "python",
   "nbconvert_exporter": "python",
   "pygments_lexer": "ipython2",
   "version": "2.7.12"
  },
  "toc": {
   "colors": {
    "hover_highlight": "#DAA520",
    "running_highlight": "#FF0000",
    "selected_highlight": "#FFD700"
   },
   "moveMenuLeft": true,
   "nav_menu": {
    "height": "12px",
    "width": "252px"
   },
   "navigate_menu": true,
   "number_sections": true,
   "sideBar": true,
   "threshold": 4,
   "toc_cell": false,
   "toc_section_display": "block",
   "toc_window_display": false
  }
 },
 "nbformat": 4,
 "nbformat_minor": 2
}
