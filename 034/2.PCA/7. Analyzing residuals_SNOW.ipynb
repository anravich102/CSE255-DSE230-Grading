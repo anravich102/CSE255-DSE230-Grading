{
 "cells": [
  {
   "cell_type": "code",
   "execution_count": 1,
   "metadata": {
    "collapsed": true,
    "run_control": {
     "frozen": false,
     "read_only": false
    }
   },
   "outputs": [],
   "source": [
    "#setup\n",
    "data_dir='../../Data/Weather'\n",
    "#file_index='BBBSBBBB'\n",
    "file_index='BSBSSSBB'\n",
    "meas='SNOW'"
   ]
  },
  {
   "cell_type": "markdown",
   "metadata": {
    "run_control": {
     "frozen": false,
     "read_only": false
    },
    "slideshow": {
     "slide_type": "slide"
    },
    "variables": {
     "meas": "PRCP"
    }
   },
   "source": [
    "# Reconstruction using top eigen-vectors\n",
    "For measurement = {{meas}}"
   ]
  },
  {
   "cell_type": "markdown",
   "metadata": {
    "run_control": {
     "frozen": false,
     "read_only": false
    },
    "slideshow": {
     "slide_type": "skip"
    }
   },
   "source": [
    "## Load the required libraries"
   ]
  },
  {
   "cell_type": "code",
   "execution_count": 2,
   "metadata": {
    "collapsed": true,
    "run_control": {
     "frozen": false,
     "read_only": false
    },
    "slideshow": {
     "slide_type": "skip"
    }
   },
   "outputs": [],
   "source": [
    "# Enable automiatic reload of libraries\n",
    "#%load_ext autoreload\n",
    "#%autoreload 2 # means that all modules are reloaded before every command"
   ]
  },
  {
   "cell_type": "code",
   "execution_count": 3,
   "metadata": {
    "run_control": {
     "frozen": false,
     "read_only": false
    },
    "slideshow": {
     "slide_type": "skip"
    }
   },
   "outputs": [
    {
     "name": "stdout",
     "output_type": "stream",
     "text": [
      "Populating the interactive namespace from numpy and matplotlib\n",
      "    pandas as    pd \tversion=0.19.2 \trequired version>=0.19.2\n",
      "     numpy as    np \tversion=1.11.3 \trequired version>=1.12.0 ******* Update Version ******\n",
      "   sklearn as    sk \tversion=0.18.1 \trequired version>=0.18.1\n",
      "    urllib as urllib \tversion=1.17 \trequired version>=1.17\n",
      "   pyspark as pyspark \tversion=2.1.0+hadoop2.7 \trequired version>=2.1.0\n",
      "ipywidgets as ipywidgets \tversion=6.0.0 \trequired version>=6.0.0\n"
     ]
    }
   ],
   "source": [
    "%pylab inline\n",
    "import numpy as np\n",
    "\n",
    "import findspark\n",
    "findspark.init()\n",
    "\n",
    "import sys\n",
    "sys.path.append('./lib')\n",
    "\n",
    "from numpy_pack import packArray,unpackArray\n",
    "\n",
    "from Eigen_decomp import Eigen_decomp\n",
    "from YearPlotter import YearPlotter\n",
    "from recon_plot import recon_plot\n",
    "\n",
    "from import_modules import import_modules,modules\n",
    "import_modules(modules)\n",
    "\n",
    "from ipywidgets import interactive,widgets"
   ]
  },
  {
   "cell_type": "code",
   "execution_count": 4,
   "metadata": {
    "collapsed": true,
    "run_control": {
     "frozen": false,
     "read_only": false
    },
    "slideshow": {
     "slide_type": "skip"
    }
   },
   "outputs": [],
   "source": [
    "from pyspark import SparkContext\n",
    "#sc.stop()\n",
    "\n",
    "sc = SparkContext(master=\"local[3]\",pyFiles=['lib/numpy_pack.py','lib/spark_PCA.py','lib/computeStats.py','lib/recon_plot.py','lib/Eigen_decomp.py'])\n",
    "\n",
    "from pyspark import SparkContext\n",
    "from pyspark.sql import *\n",
    "sqlContext = SQLContext(sc)"
   ]
  },
  {
   "cell_type": "markdown",
   "metadata": {
    "run_control": {
     "frozen": false,
     "read_only": false
    },
    "slideshow": {
     "slide_type": "slide"
    }
   },
   "source": [
    "## Read Statistics File"
   ]
  },
  {
   "cell_type": "code",
   "execution_count": 5,
   "metadata": {
    "run_control": {
     "frozen": false,
     "read_only": false
    },
    "slideshow": {
     "slide_type": "subslide"
    }
   },
   "outputs": [
    {
     "name": "stdout",
     "output_type": "stream",
     "text": [
      "keys from STAT= ['TMIN', 'TOBS', 'TMAX', 'SNOW', 'SNWD', 'PRCP']\n"
     ]
    }
   ],
   "source": [
    "from pickle import load\n",
    "\n",
    "#read statistics\n",
    "filename=data_dir+'/STAT_%s.pickle'%file_index\n",
    "STAT,STAT_Descriptions = load(open(filename,'rb'))\n",
    "measurements=STAT.keys()\n",
    "print 'keys from STAT=',measurements"
   ]
  },
  {
   "cell_type": "markdown",
   "metadata": {
    "run_control": {
     "frozen": false,
     "read_only": false
    },
    "slideshow": {
     "slide_type": "slide"
    }
   },
   "source": [
    "## Read data file into a spark DataFrame\n",
    "We focus on the snow-depth records, because the eigen-vectors for them make sense."
   ]
  },
  {
   "cell_type": "code",
   "execution_count": 7,
   "metadata": {
    "run_control": {
     "frozen": false,
     "read_only": false
    },
    "scrolled": true,
    "slideshow": {
     "slide_type": "subslide"
    }
   },
   "outputs": [
    {
     "name": "stdout",
     "output_type": "stream",
     "text": [
      "+-------------------+------------------+-------------------+---------+--------+--------+---------+-----------+------------------+--------------------+--------------------+------------------+-----------+---------+------+--------------------+------+\n",
      "|            coeff_1|           coeff_2|            coeff_3|elevation|   label|latitude|longitude|measurement|             res_1|               res_2|               res_3|          res_mean|    station|total_var|undefs|              vector|  year|\n",
      "+-------------------+------------------+-------------------+---------+--------+--------+---------+-----------+------------------+--------------------+--------------------+------------------+-----------+---------+------+--------------------+------+\n",
      "|-0.6797105958407205|-50.55454399191206|-0.8444909565771959|     44.2|BSBSSSBB| 31.2514| -82.3128|       SNOW|0.9998195975808348|0.001856065145107...|0.001577591382225...|0.9846125587712127|USC00099186|   2601.0|     0|[00 00 00 00 00 0...|1958.0|\n",
      "|-0.6797105958407205|-50.55454399191206|-0.8444909565771959|     72.5|BSBSSSBB| 31.1333| -83.2167|       SNOW|0.9998195975808348|0.001856065145107...|0.001577591382225...|0.9846125587712127|USC00096237|   2601.0|     2|[00 00 00 7E 00 0...|1958.0|\n",
      "|-0.6797105958407205|-50.55454399191206|-0.8444909565771959|     80.8|BSBSSSBB| 30.8056| -83.2736|       SNOW|0.9998195975808348|0.001856065145107...|0.001577591382225...|0.9846125587712127|USC00098974|   2601.0|     0|[00 00 00 00 00 0...|1958.0|\n",
      "|-0.6171228325378324|1.5714041559911125| -50.51438525276456|     44.8|BSBSSSBB| 30.5228| -82.9447|       SNOW|0.9998517061426342|  0.9988901918881105|0.005293638263886163|0.9873695179592197|USC00084394|   2601.0|     0|[00 00 00 00 00 0...|1989.0|\n",
      "|-0.6171228325378324|1.5714041559911125| -50.51438525276456|     79.2|BSBSSSBB| 32.4414| -82.2181|       SNOW|0.9998517061426342|  0.9988901918881105|0.005293638263886163|0.9873695179592197|USC00098351|   2601.0|     0|[00 00 00 00 00 0...|1993.0|\n",
      "+-------------------+------------------+-------------------+---------+--------+--------+---------+-----------+------------------+--------------------+--------------------+------------------+-----------+---------+------+--------------------+------+\n",
      "only showing top 5 rows\n",
      "\n"
     ]
    }
   ],
   "source": [
    "#read data\n",
    "filename=data_dir+'/decon_%s_%s.parquet'%(file_index,meas)\n",
    "df_in=sqlContext.read.parquet(filename)\n",
    "#filter in \n",
    "df=df_in.filter(df_in.measurement==meas)\n",
    "df.show(5)"
   ]
  },
  {
   "cell_type": "markdown",
   "metadata": {
    "run_control": {
     "frozen": false,
     "read_only": false
    },
    "slideshow": {
     "slide_type": "slide"
    }
   },
   "source": [
    "### Plot Mean and Eigenvecs"
   ]
  },
  {
   "cell_type": "code",
   "execution_count": 8,
   "metadata": {
    "run_control": {
     "frozen": false,
     "read_only": false
    },
    "scrolled": false,
    "slideshow": {
     "slide_type": "subslide"
    }
   },
   "outputs": [
    {
     "data": {
      "image/png": "[encoded data removed]",
      "text/plain": [
       "<matplotlib.figure.Figure at 0x7fac25a55c10>"
      ]
     },
     "metadata": {},
     "output_type": "display_data"
    }
   ],
   "source": [
    "m=meas\n",
    "fig,axes=plt.subplots(2,1, sharex='col', sharey='row',figsize=(10,6));\n",
    "k=3\n",
    "EigVec=np.matrix(STAT[m]['eigvec'][:,:k])\n",
    "Mean=STAT[m]['Mean']\n",
    "YearPlotter().plot(Mean,fig,axes[0],label='Mean',title=m+' Mean')\n",
    "YearPlotter().plot(EigVec,fig,axes[1],title=m+' Eigs',labels=['eig'+str(i+1) for i in range(k)])"
   ]
  },
  {
   "cell_type": "markdown",
   "metadata": {
    "run_control": {
     "frozen": false,
     "read_only": false
    },
    "slideshow": {
     "slide_type": "subslide"
    }
   },
   "source": [
    "### plot the percent of residual variance on average"
   ]
  },
  {
   "cell_type": "code",
   "execution_count": 9,
   "metadata": {
    "run_control": {
     "frozen": false,
     "read_only": false
    },
    "scrolled": false
   },
   "outputs": [
    {
     "data": {
      "image/png": "[encoded data removed]",
      "text/plain": [
       "<matplotlib.figure.Figure at 0x7fac25b4e790>"
      ]
     },
     "metadata": {},
     "output_type": "display_data"
    }
   ],
   "source": [
    "#  x=0 in the graphs below correspond to the fraction of the variance explained by the mean alone\n",
    "#  x=1,2,3,... are the residuals for eig1, eig1+eig2, eig1+eig2+eig3 ...\n",
    "fig,ax=plt.subplots(1,1);\n",
    "eigvals=STAT[m]['eigval']; eigvals/=sum(eigvals); cumvar=cumsum(eigvals); cumvar=100*np.insert(cumvar,0,0)\n",
    "ax.plot(cumvar[:10]); \n",
    "ax.grid(); \n",
    "ax.set_ylabel('Percent of variance explained')\n",
    "ax.set_xlabel('number of eigenvectors')\n",
    "ax.set_title('Percent of variance explained');"
   ]
  },
  {
   "cell_type": "markdown",
   "metadata": {
    "run_control": {
     "frozen": false,
     "read_only": false
    }
   },
   "source": [
    "### How well-explained are the vectors in this collection?\n",
    "\n",
    "To answer this question we extract all of the values of `res_3` which is the residual variance after the Mean and the \n",
    "first two Eigen-vectors have been subtracted out. We rely here on the fact that `df3` is already sorted according to `res_3`"
   ]
  },
  {
   "cell_type": "code",
   "execution_count": 10,
   "metadata": {
    "collapsed": true,
    "run_control": {
     "frozen": false,
     "read_only": false
    }
   },
   "outputs": [],
   "source": [
    "# A function for plotting the CDF of a given feature\n",
    "def plot_CDF(df,feat):\n",
    "    rows=df.select(feat).sort(feat).collect()\n",
    "    vals=[r[feat] for r in rows]\n",
    "    P=np.arange(0,1,1./(len(vals)))\n",
    "    while len(vals)< len(P):\n",
    "        vals=[vals[0]]+vals\n",
    "    plot(vals,P)\n",
    "    title('cumulative distribution of '+feat)\n",
    "    ylabel('fraction of instances')\n",
    "    xlabel(feat)\n",
    "    grid()\n",
    "    "
   ]
  },
  {
   "cell_type": "code",
   "execution_count": 11,
   "metadata": {
    "run_control": {
     "frozen": false,
     "read_only": false
    }
   },
   "outputs": [
    {
     "data": {
      "image/png": "[encoded data removed]",
      "text/plain": [
       "<matplotlib.figure.Figure at 0x7fac60686a10>"
      ]
     },
     "metadata": {},
     "output_type": "display_data"
    }
   ],
   "source": [
    "plot_CDF(df,'res_3')"
   ]
  },
  {
   "cell_type": "code",
   "execution_count": 12,
   "metadata": {
    "run_control": {
     "frozen": false,
     "read_only": false
    }
   },
   "outputs": [
    {
     "data": {
      "text/plain": [
       "(u'USC00099186', 1958.0)"
      ]
     },
     "execution_count": 12,
     "metadata": {},
     "output_type": "execute_result"
    }
   ],
   "source": [
    "rows=df.rdd.map(lambda row:(row.station,row.year,unpackArray(row['vector'],np.float16))).collect()\n",
    "rows[0][:2]"
   ]
  },
  {
   "cell_type": "code",
   "execution_count": 13,
   "metadata": {
    "run_control": {
     "frozen": false,
     "read_only": false
    },
    "scrolled": false
   },
   "outputs": [
    {
     "data": {
      "text/plain": [
       "25915"
      ]
     },
     "execution_count": 13,
     "metadata": {},
     "output_type": "execute_result"
    }
   ],
   "source": [
    "days=set([r[1] for r in rows])\n",
    "miny=min(days)\n",
    "maxy=max(days)\n",
    "record_len=int((maxy-miny+1)*365)\n",
    "record_len"
   ]
  },
  {
   "cell_type": "code",
   "execution_count": 14,
   "metadata": {
    "collapsed": true,
    "run_control": {
     "frozen": false,
     "read_only": false
    }
   },
   "outputs": [],
   "source": [
    "## combine the measurements for each station into a single long array with an entry for each day of each day\n",
    "All={}  # a dictionary with a numpy array for each day of each day\n",
    "i=0\n",
    "for station,day,vector in rows:\n",
    "    i+=1; \n",
    "    # if i%1000==0: print i,len(All)\n",
    "    if not station in All:\n",
    "        a=np.zeros(record_len)\n",
    "        a.fill(np.nan)\n",
    "        All[station]=a\n",
    "    loc = int((day-miny)*365)\n",
    "    All[station][loc:loc+365]=vector"
   ]
  },
  {
   "cell_type": "code",
   "execution_count": 15,
   "metadata": {
    "collapsed": true,
    "run_control": {
     "frozen": false,
     "read_only": false
    }
   },
   "outputs": [],
   "source": [
    "from datetime import date\n",
    "d=datetime.date(int(miny), month=1, day=1)\n",
    "start=d.toordinal()\n",
    "dates=[date.fromordinal(i) for i in range(start,start+record_len)]"
   ]
  },
  {
   "cell_type": "code",
   "execution_count": 16,
   "metadata": {
    "run_control": {
     "frozen": false,
     "read_only": false
    }
   },
   "outputs": [
    {
     "name": "stdout",
     "output_type": "stream",
     "text": [
      "USC00092532 365\n",
      "USC00098351 729\n",
      "USC00094429 729\n",
      "USC00092839 1825\n",
      "USC00095811 2158\n",
      "USC00090670 365\n",
      "USC00093695 2158\n",
      "USW00013857 365\n",
      "USW00013870 1095\n",
      "USC00098476 1095\n",
      "USC00095874 4377\n",
      "USC00097777 3615\n",
      "USC00095858 730\n",
      "USC00096237 363\n",
      "USC00098223 730\n",
      "USC00094862 364\n",
      "USC00084394 1095\n",
      "USC00093386 365\n",
      "USC00092966 729\n",
      "USC00096838 728\n",
      "USC00094170 1824\n",
      "USC00090010 726\n",
      "USC00099186 365\n",
      "USC00093465 365\n",
      "USC00094594 1822\n",
      "USC00094204 365\n",
      "USC00095386 1036\n",
      "USC00085275 364\n",
      "USC00098974 365\n",
      "USC00090090 702\n",
      "USC00095863 729\n",
      "USC00097171 365\n",
      "USC00098972 365\n",
      "USC00092783 1095\n",
      "USC00098496 699\n",
      "USC00085099 1095\n",
      "USW00013861 365\n",
      "USC00095314 2917\n"
     ]
    }
   ],
   "source": [
    "for station in All:\n",
    "    print station, np.count_nonzero(~np.isnan(All[station]))"
   ]
  },
  {
   "cell_type": "code",
   "execution_count": 17,
   "metadata": {
    "run_control": {
     "frozen": false,
     "read_only": false
    }
   },
   "outputs": [
    {
     "name": "stdout",
     "output_type": "stream",
     "text": [
      "(38, 25915)\n"
     ]
    }
   ],
   "source": [
    "Stations=sorted(All.keys())\n",
    "A=[]\n",
    "for station in Stations:\n",
    "    A.append(All[station])\n",
    "\n",
    "day_station_table=np.hstack([A])\n",
    "print shape(day_station_table)"
   ]
  },
  {
   "cell_type": "code",
   "execution_count": 18,
   "metadata": {
    "run_control": {
     "frozen": false,
     "read_only": false
    }
   },
   "outputs": [
    {
     "name": "stdout",
     "output_type": "stream",
     "text": [
      "total RMS                   =  3.19859081606\n",
      "RMS removing mean-by-station=  3.19435247844\n",
      "RMS removing mean-by-day   =  2.12970625947\n"
     ]
    },
    {
     "name": "stderr",
     "output_type": "stream",
     "text": [
      "/usr/local/lib/python2.7/dist-packages/numpy/lib/nanfunctions.py:703: RuntimeWarning: Mean of empty slice\n",
      "  warnings.warn(\"Mean of empty slice\", RuntimeWarning)\n"
     ]
    }
   ],
   "source": [
    "def RMS(Mat):\n",
    "    return np.sqrt(np.nanmean(Mat**2))\n",
    "\n",
    "mean_by_day=np.nanmean(day_station_table,axis=0)\n",
    "mean_by_station=np.nanmean(day_station_table,axis=1)\n",
    "tbl_minus_day = day_station_table-mean_by_day\n",
    "tbl_minus_station = (day_station_table.transpose()-mean_by_station).transpose()\n",
    "\n",
    "print 'total RMS                   = ',RMS(day_station_table)\n",
    "print 'RMS removing mean-by-station= ',RMS(tbl_minus_station)\n",
    "print 'RMS removing mean-by-day   = ',RMS(tbl_minus_day)"
   ]
  },
  {
   "cell_type": "code",
   "execution_count": 19,
   "metadata": {
    "run_control": {
     "frozen": false,
     "read_only": false
    },
    "scrolled": false
   },
   "outputs": [
    {
     "data": {
      "text/plain": [
       "<matplotlib.text.Text at 0x7fac47120090>"
      ]
     },
     "execution_count": 19,
     "metadata": {},
     "output_type": "execute_result"
    },
    {
     "data": {
      "image/png": "[encoded data removed]",
      "text/plain": [
       "<matplotlib.figure.Figure at 0x7fac472e9b90>"
      ]
     },
     "metadata": {},
     "output_type": "display_data"
    }
   ],
   "source": [
    "RT=day_station_table\n",
    "F=RT.flatten()\n",
    "NN=F[~np.isnan(F)]\n",
    "\n",
    "NN.sort()\n",
    "P=np.arange(0.,1.,1./len(NN))\n",
    "plot(NN,P)\n",
    "grid()\n",
    "title('CDF of daily rainfall')\n",
    "xlabel('daily rainfall')\n",
    "ylabel('cumulative probability')"
   ]
  },
  {
   "cell_type": "markdown",
   "metadata": {
    "run_control": {
     "frozen": false,
     "read_only": false
    }
   },
   "source": [
    "### Conclusions\n",
    "It is likely to be hard to find correlations between the **amount** of rain on the same day in different stations. Because amounts of rain vary a lot between even close locations. It is more reasonable to try to compare whether or not it rained on the same day in different stations. As we see from the graph above, in our region it rains in about one third of the days.\n",
    "\n",
    "### measuring statistical significance\n",
    "We want to find a statistical test for rejecting the null hypothesis that says that the rainfall in the two locations is independent.\n",
    "\n",
    "Using the inner product is too noisy, because you multiply the rainfall on the same day in two locations and that product can be very large - leading to a large variance and poor ability to discriminate.\n",
    "\n",
    "An alternative is to ignore the amount of rain, and just ask whether it rained in both locations. We can then compute the probability associated with the number of overlaps under the null hypothesis."
   ]
  },
  {
   "cell_type": "markdown",
   "metadata": {
    "run_control": {
     "frozen": false,
     "read_only": false
    }
   },
   "source": [
    "Fix two stations. We restrict our attention to the days for which we have measurements for both stations, and define the following notation:\n",
    "* $m$ : the total number of days (for which we have measurements for both stations).\n",
    "* $n_1$ : the number of days that it rained on station 1\n",
    "* $n_2$ : the number of days that it rained on station 2\n",
    "* $l$ : the number of days that it rained on both stations.\n",
    "\n",
    "We want to calculate the probability that the number of overlap days is $l$ given $m,n_1,n_2$.\n",
    "\n",
    "The answer is:\n",
    "$$\n",
    "P = {m \\choose l,n_1-l,n_2-l,m-n_1-n_2+l} /{m \\choose n_1}{m \\choose n_2}\n",
    "$$\n",
    "\n",
    "Where\n",
    "$$\n",
    "{m \\choose l,n_1-l,n_2-l,m-n_1-n_2+l} = \\frac{m!}{l! (n_1-l)! (n_2-l)! (m-n_1-n_2+l)!}\n",
    "$$\n",
    "\n",
    "We use the fact that $\\Gamma(n+1) = n!$ and denote $G(n) \\doteq \\log \\Gamma(n+1)$\n",
    "$$\n",
    "\\log P = \\left[G(m) - G(l) -G(n_1-l) -G(n_2-l) -G(m-n_1-n_2+l) \\right] - \n",
    "\\left[G(m)-G(n_1)-G(m-n_1)\\right] - \\left[G(m)-G(n_2)-G(m-n_2)\\right]\n",
    "$$\n",
    "Which slightly simplifies to \n",
    "$$\n",
    "\\log P = -G(l) -G(n_1-l) -G(n_2-l) -G(m-n_1-n_2+l) - G(m)+G(n_1)+G(m-n_1) +G(n_2)+G(m-n_2)\n",
    "$$\n",
    "\n",
    "The log probability scales with $m$ the length of the overlap. So to get a per-day significance we consider $\n",
    "\\frac{1}{m} \\log P $"
   ]
  },
  {
   "cell_type": "code",
   "execution_count": 20,
   "metadata": {
    "run_control": {
     "frozen": false,
     "read_only": false
    }
   },
   "outputs": [
    {
     "data": {
      "text/plain": [
       "0.501843349103545"
      ]
     },
     "execution_count": 20,
     "metadata": {},
     "output_type": "execute_result"
    }
   ],
   "source": [
    "from scipy.special import gammaln,factorial\n",
    "#for i in range(10):\n",
    "#    print exp(gammaln(i+1))-factorial(i)\n",
    "def G(n):\n",
    "    return gammaln(n+1)\n",
    "def LogProb(m,l,n1,n2):\n",
    "    logP=-G(l)-G(n1-l)-G(n2-l)-G(m-n1-n2+l)-G(m)+G(n1)+G(m-n1)+G(n2)+G(m-n2)\n",
    "    return logP/m\n",
    "exp(LogProb(1000,0,500,500))"
   ]
  },
  {
   "cell_type": "code",
   "execution_count": 21,
   "metadata": {
    "run_control": {
     "frozen": false,
     "read_only": false
    }
   },
   "outputs": [
    {
     "name": "stdout",
     "output_type": "stream",
     "text": [
      "1095\n",
      "729\n",
      "364\n",
      "364\n"
     ]
    }
   ],
   "source": [
    "#USC00193270 21482\n",
    "#USC00193702 28237\n",
    "#USC00094238 1424\n",
    "#USC00098351 3393\n",
    "X=copy(All['USC00092783'])\n",
    "Y=copy(All['USC00098351'])\n",
    "print sum(~np.isnan(X))\n",
    "print sum(~np.isnan(Y))\n",
    "X[np.isnan(Y)]=np.nan\n",
    "Y[np.isnan(X)]=np.nan\n",
    "print sum(~np.isnan(X))\n",
    "print sum(~np.isnan(Y))\n"
   ]
  },
  {
   "cell_type": "code",
   "execution_count": 22,
   "metadata": {
    "run_control": {
     "frozen": false,
     "read_only": false
    }
   },
   "outputs": [
    {
     "name": "stdout",
     "output_type": "stream",
     "text": [
      "m=364,l=0,n1=2,n2=1,LogPval=-0.000015\n",
      "(-1.5136417063841181e-05, 364)\n"
     ]
    }
   ],
   "source": [
    "def computeLogProb(X,Y):\n",
    "    X[np.isnan(Y)]=np.nan\n",
    "    Y[np.isnan(X)]=np.nan\n",
    "    G=~isnan(X)\n",
    "    m=sum(G)\n",
    "    XG=X[G]>0\n",
    "    YG=Y[G]>0\n",
    "    n1=sum(XG)\n",
    "    n2=sum(YG)\n",
    "    l=sum(XG*YG)\n",
    "    logprob=LogProb(m,l,n1,n2)\n",
    "    print 'm=%d,l=%d,n1=%d,n2=%d,LogPval=%f'%(m,l,n1,n2,logprob)\n",
    "    return logprob,m\n",
    "print computeLogProb(X,Y)"
   ]
  },
  {
   "cell_type": "markdown",
   "metadata": {},
   "source": [
    "### calculate the normalized log probability for each pair of stations."
   ]
  },
  {
   "cell_type": "code",
   "execution_count": 23,
   "metadata": {
    "run_control": {
     "frozen": false,
     "read_only": false
    }
   },
   "outputs": [
    {
     "name": "stdout",
     "output_type": "stream",
     "text": [
      "0 m=730,l=2,n1=2,n2=2,LogPval=-0.017112\n",
      "m=364,l=1,n1=1,n2=1,LogPval=-0.016201\n",
      "m=0,l=0,n1=0,n2=0,LogPval=nan\n",
      "m=0,l=0,n1=0,n2=0,LogPval=nan\n",
      "m=0,l=0,n1=0,n2=0,LogPval=nan\n",
      "m=365,l=0,n1=1,n2=1,LogPval=-0.000008\n",
      "m=730,l=2,n1=2,n2=3,LogPval=-0.015607\n",
      "m=365,l=1,n1=1,n2=2,LogPval=-0.014265\n",
      "m=364,l=1,n1=1,n2=2,LogPval=-0.014297\n",
      "m=0,l=0,n1=0,n2=0,LogPval=nan\n",
      "m=365,l=1,n1=1,n2=1,LogPval=-0.016164\n",
      "m=365,l=0,n1=1,n2=1,LogPval=-0.000008\n",
      "m=0,l=0,n1=0,n2=0,LogPval=nan\n",
      "m=0,l=0,n1=0,n2=0,LogPval=nan\n",
      "m=364,l=1,n1=1,n2=2,LogPval=-0.014297\n",
      "m=0,l=0,n1=0,n2=0,LogPval=nan\n",
      "m=0,l=0,n1=0,n2=0,LogPval=nan\n",
      "m=364,l=1,n1=1,n2=1,LogPval=-0.016201\n",
      "m=671,l=1,n1=1,n2=3,LogPval=-0.008063\n",
      "m=729,l=0,n1=2,n2=2,LogPval=-0.000008\n",
      "m=365,l=1,n1=1,n2=2,LogPval=-0.014265\n",
      "m=365,l=1,n1=1,n2=2,LogPval=-0.014265\n",
      "m=728,l=0,n1=1,n2=3,LogPval=-0.000006\n",
      "m=363,l=1,n1=1,n2=1,LogPval=-0.016238\n",
      "m=728,l=1,n1=1,n2=3,LogPval=-0.007544\n",
      "m=0,l=0,n1=0,n2=0,LogPval=nan\n",
      "m=364,l=0,n1=1,n2=1,LogPval=-0.000008\n",
      "m=0,l=0,n1=0,n2=0,LogPval=nan\n",
      "m=364,l=0,n1=1,n2=1,LogPval=-0.000008\n",
      "m=730,l=2,n1=2,n2=3,LogPval=-0.015607\n",
      "m=334,l=1,n1=1,n2=1,LogPval=-0.017399\n",
      "m=365,l=1,n1=1,n2=2,LogPval=-0.014265\n",
      "m=365,l=1,n1=1,n2=1,LogPval=-0.016164\n",
      "m=365,l=1,n1=1,n2=1,LogPval=-0.016164\n",
      "m=365,l=1,n1=1,n2=1,LogPval=-0.016164\n",
      "m=365,l=1,n1=1,n2=2,LogPval=-0.014265\n",
      "m=730,l=2,n1=2,n2=2,LogPval=-0.017112\n",
      "1 m=730,l=2,n1=2,n2=2,LogPval=-0.017112\n",
      "m=364,l=1,n1=1,n2=1,LogPval=-0.016201\n",
      "m=0,l=0,n1=0,n2=0,LogPval=nan\n",
      "m=0,l=0,n1=0,n2=0,LogPval=nan\n",
      "m=0,l=0,n1=0,n2=0,LogPval=nan\n",
      "m=365,l=0,n1=1,n2=1,LogPval=-0.000008\n",
      "m=365,l=1,n1=1,n2=2,LogPval=-0.014265\n",
      "m=0,l=0,n1=0,n2=0,LogPval=nan\n",
      "m=364,l=1,n1=1,n2=2,LogPval=-0.014297\n",
      "m=0,l=0,n1=0,n2=0,LogPval=nan\n",
      "m=365,l=1,n1=1,n2=1,LogPval=-0.016164\n",
      "m=365,l=0,n1=1,n2=1,LogPval=-0.000008\n",
      "m=0,l=0,n1=0,n2=0,LogPval=nan\n",
      "m=0,l=0,n1=0,n2=0,LogPval=nan\n",
      "m=364,l=1,n1=1,n2=2,LogPval=-0.014297\n",
      "m=0,l=0,n1=0,n2=0,LogPval=nan\n",
      "m=0,l=0,n1=0,n2=0,LogPval=nan\n",
      "m=364,l=1,n1=1,n2=1,LogPval=-0.016201\n",
      "m=337,l=0,n1=0,n2=1,LogPval=0.000000\n",
      "m=729,l=0,n1=2,n2=2,LogPval=-0.000008\n",
      "m=365,l=1,n1=1,n2=2,LogPval=-0.014265\n",
      "m=365,l=1,n1=1,n2=2,LogPval=-0.014265\n",
      "m=364,l=0,n1=1,n2=1,LogPval=-0.000008\n",
      "m=363,l=1,n1=1,n2=1,LogPval=-0.016238\n",
      "m=728,l=1,n1=1,n2=3,LogPval=-0.007544\n",
      "m=0,l=0,n1=0,n2=0,LogPval=nan\n",
      "m=364,l=0,n1=1,n2=1,LogPval=-0.000008\n",
      "m=0,l=0,n1=0,n2=0,LogPval=nan\n",
      "m=364,l=0,n1=1,n2=1,LogPval=-0.000008\n",
      "m=365,l=1,n1=1,n2=2,LogPval=-0.014265\n",
      "m=0,l=0,n1=0,n2=0,LogPval=nan\n",
      "m=365,l=1,n1=1,n2=2,LogPval=-0.014265\n",
      "m=365,l=1,n1=1,n2=1,LogPval=-0.016164\n",
      "m=365,l=1,n1=1,n2=1,LogPval=-0.016164\n",
      "m=365,l=1,n1=1,n2=1,LogPval=-0.016164\n",
      "m=365,l=1,n1=1,n2=2,LogPval=-0.014265\n",
      "m=365,l=1,n1=1,n2=1,LogPval=-0.016164\n",
      "2 m=364,l=1,n1=1,n2=1,LogPval=-0.016201\n",
      "m=364,l=1,n1=1,n2=1,LogPval=-0.016201\n",
      "m=0,l=0,n1=0,n2=0,LogPval=nan\n",
      "m=0,l=0,n1=0,n2=0,LogPval=nan\n",
      "m=0,l=0,n1=0,n2=0,LogPval=nan\n",
      "m=0,l=0,n1=0,n2=0,LogPval=nan\n",
      "m=364,l=1,n1=1,n2=2,LogPval=-0.014297\n",
      "m=0,l=0,n1=0,n2=0,LogPval=nan\n",
      "m=0,l=0,n1=0,n2=0,LogPval=nan\n",
      "m=0,l=0,n1=0,n2=0,LogPval=nan\n",
      "m=364,l=1,n1=1,n2=1,LogPval=-0.016201\n",
      "m=364,l=0,n1=1,n2=1,LogPval=-0.000008\n",
      "m=0,l=0,n1=0,n2=0,LogPval=nan\n",
      "m=0,l=0,n1=0,n2=0,LogPval=nan\n",
      "m=363,l=1,n1=1,n2=2,LogPval=-0.014329\n",
      "m=0,l=0,n1=0,n2=0,LogPval=nan\n",
      "m=0,l=0,n1=0,n2=0,LogPval=nan\n",
      "m=0,l=0,n1=0,n2=0,LogPval=nan\n",
      "m=0,l=0,n1=0,n2=0,LogPval=nan\n",
      "m=363,l=0,n1=1,n2=1,LogPval=-0.000008\n",
      "m=0,l=0,n1=0,n2=0,LogPval=nan\n",
      "m=0,l=0,n1=0,n2=0,LogPval=nan\n",
      "m=363,l=0,n1=1,n2=1,LogPval=-0.000008\n",
      "m=0,l=0,n1=0,n2=0,LogPval=nan\n",
      "m=362,l=0,n1=0,n2=2,LogPval=0.000000\n",
      "m=0,l=0,n1=0,n2=0,LogPval=nan\n",
      "m=363,l=0,n1=1,n2=1,LogPval=-0.000008\n",
      "m=0,l=0,n1=0,n2=0,LogPval=nan\n",
      "m=363,l=0,n1=1,n2=1,LogPval=-0.000008\n",
      "m=364,l=1,n1=1,n2=2,LogPval=-0.014297\n",
      "m=0,l=0,n1=0,n2=0,LogPval=nan\n",
      "m=364,l=1,n1=1,n2=2,LogPval=-0.014297\n",
      "m=0,l=0,n1=0,n2=0,LogPval=nan\n",
      "m=0,l=0,n1=0,n2=0,LogPval=nan\n",
      "m=0,l=0,n1=0,n2=0,LogPval=nan\n",
      "m=364,l=1,n1=1,n2=2,LogPval=-0.014297\n",
      "m=364,l=1,n1=1,n2=1,LogPval=-0.016201\n",
      "3 m=0,l=0,n1=0,n2=0,LogPval=nan\n",
      "m=0,l=0,n1=0,n2=0,LogPval=nan\n",
      "m=0,l=0,n1=0,n2=0,LogPval=nan\n",
      "m=0,l=0,n1=0,n2=0,LogPval=nan\n",
      "m=365,l=1,n1=2,n2=1,LogPval=-0.014265\n",
      "m=0,l=0,n1=0,n2=0,LogPval=nan\n",
      "m=365,l=1,n1=2,n2=1,LogPval=-0.014265\n",
      "m=0,l=0,n1=0,n2=0,LogPval=nan\n",
      "m=0,l=0,n1=0,n2=0,LogPval=nan\n",
      "m=0,l=0,n1=0,n2=0,LogPval=nan\n",
      "m=0,l=0,n1=0,n2=0,LogPval=nan\n",
      "m=0,l=0,n1=0,n2=0,LogPval=nan\n",
      "m=0,l=0,n1=0,n2=0,LogPval=nan\n",
      "m=365,l=1,n1=2,n2=1,LogPval=-0.014265\n",
      "m=365,l=1,n1=2,n2=1,LogPval=-0.014265\n",
      "m=0,l=0,n1=0,n2=0,LogPval=nan\n",
      "m=364,l=1,n1=2,n2=2,LogPval=-0.012400\n",
      "m=365,l=1,n1=2,n2=3,LogPval=-0.011270\n",
      "m=0,l=0,n1=0,n2=0,LogPval=nan\n",
      "m=0,l=0,n1=0,n2=0,LogPval=nan\n",
      "m=0,l=0,n1=0,n2=0,LogPval=nan\n",
      "m=0,l=0,n1=0,n2=0,LogPval=nan\n",
      "m=365,l=0,n1=2,n2=2,LogPval=-0.000030\n",
      "m=0,l=0,n1=0,n2=0,LogPval=nan\n",
      "m=0,l=0,n1=0,n2=0,LogPval=nan\n",
      "m=365,l=1,n1=2,n2=1,LogPval=-0.014265\n",
      "m=365,l=1,n1=2,n2=1,LogPval=-0.014265\n",
      "m=0,l=0,n1=0,n2=0,LogPval=nan\n",
      "m=0,l=0,n1=0,n2=0,LogPval=nan\n",
      "m=0,l=0,n1=0,n2=0,LogPval=nan\n",
      "m=0,l=0,n1=0,n2=0,LogPval=nan\n",
      "m=0,l=0,n1=0,n2=0,LogPval=nan\n",
      "m=0,l=0,n1=0,n2=0,LogPval=nan\n",
      "m=0,l=0,n1=0,n2=0,LogPval=nan\n",
      "m=0,l=0,n1=0,n2=0,LogPval=nan\n",
      "m=0,l=0,n1=0,n2=0,LogPval=nan\n",
      "m=0,l=0,n1=0,n2=0,LogPval=nan\n",
      "4 m=0,l=0,n1=0,n2=0,LogPval=nan\n",
      "m=0,l=0,n1=0,n2=0,LogPval=nan\n",
      "m=0,l=0,n1=0,n2=0,LogPval=nan\n",
      "m=0,l=0,n1=0,n2=0,LogPval=nan\n",
      "m=0,l=0,n1=0,n2=0,LogPval=nan\n",
      "m=0,l=0,n1=0,n2=0,LogPval=nan\n",
      "m=0,l=0,n1=0,n2=0,LogPval=nan\n",
      "m=365,l=0,n1=2,n2=1,LogPval=-0.000015\n",
      "m=337,l=2,n1=2,n2=3,LogPval=-0.029215\n",
      "m=337,l=1,n1=2,n2=1,LogPval=-0.015213\n",
      "m=0,l=0,n1=0,n2=0,LogPval=nan\n",
      "m=362,l=0,n1=2,n2=1,LogPval=-0.000015\n",
      "m=337,l=1,n1=2,n2=1,LogPval=-0.015213\n",
      "m=0,l=0,n1=0,n2=0,LogPval=nan\n",
      "m=0,l=0,n1=0,n2=0,LogPval=nan\n",
      "m=337,l=2,n1=2,n2=2,LogPval=-0.032475\n",
      "m=0,l=0,n1=0,n2=0,LogPval=nan\n",
      "m=337,l=1,n1=2,n2=2,LogPval=-0.013165\n",
      "m=0,l=0,n1=0,n2=0,LogPval=nan\n",
      "m=671,l=1,n1=4,n2=4,LogPval=-0.005588\n",
      "m=365,l=0,n1=2,n2=3,LogPval=-0.000045\n",
      "m=337,l=0,n1=2,n2=1,LogPval=-0.000018\n",
      "m=702,l=1,n1=4,n2=3,LogPval=-0.005809\n",
      "m=0,l=0,n1=0,n2=0,LogPval=nan\n",
      "m=0,l=0,n1=0,n2=0,LogPval=nan\n",
      "m=0,l=0,n1=0,n2=0,LogPval=nan\n",
      "m=671,l=3,n1=4,n2=5,LogPval=-0.020930\n",
      "m=0,l=0,n1=0,n2=0,LogPval=nan\n",
      "m=0,l=0,n1=0,n2=0,LogPval=nan\n",
      "m=337,l=2,n1=2,n2=2,LogPval=-0.032475\n",
      "m=0,l=0,n1=0,n2=0,LogPval=nan\n",
      "m=0,l=0,n1=0,n2=0,LogPval=nan\n",
      "m=0,l=0,n1=0,n2=0,LogPval=nan\n",
      "m=0,l=0,n1=0,n2=0,LogPval=nan\n",
      "m=0,l=0,n1=0,n2=0,LogPval=nan\n",
      "m=0,l=0,n1=0,n2=0,LogPval=nan\n",
      "m=365,l=0,n1=2,n2=1,LogPval=-0.000015\n",
      "5 m=0,l=0,n1=0,n2=0,LogPval=nan\n",
      "m=0,l=0,n1=0,n2=0,LogPval=nan\n",
      "m=0,l=0,n1=0,n2=0,LogPval=nan\n",
      "m=365,l=1,n1=1,n2=2,LogPval=-0.014265\n",
      "m=0,l=0,n1=0,n2=0,LogPval=nan\n",
      "m=0,l=0,n1=0,n2=0,LogPval=nan\n",
      "m=365,l=1,n1=1,n2=1,LogPval=-0.016164\n",
      "m=0,l=0,n1=0,n2=0,LogPval=nan\n",
      "m=0,l=0,n1=0,n2=0,LogPval=nan\n",
      "m=0,l=0,n1=0,n2=0,LogPval=nan\n",
      "m=0,l=0,n1=0,n2=0,LogPval=nan\n",
      "m=0,l=0,n1=0,n2=0,LogPval=nan\n",
      "m=0,l=0,n1=0,n2=0,LogPval=nan\n",
      "m=365,l=1,n1=1,n2=1,LogPval=-0.016164\n",
      "m=365,l=1,n1=1,n2=1,LogPval=-0.016164\n",
      "m=0,l=0,n1=0,n2=0,LogPval=nan\n",
      "m=364,l=1,n1=1,n2=2,LogPval=-0.014297\n",
      "m=365,l=1,n1=1,n2=3,LogPval=-0.013154\n",
      "m=0,l=0,n1=0,n2=0,LogPval=nan\n",
      "m=0,l=0,n1=0,n2=0,LogPval=nan\n",
      "m=0,l=0,n1=0,n2=0,LogPval=nan\n",
      "m=0,l=0,n1=0,n2=0,LogPval=nan\n",
      "m=365,l=0,n1=1,n2=2,LogPval=-0.000015\n",
      "m=0,l=0,n1=0,n2=0,LogPval=nan\n",
      "m=0,l=0,n1=0,n2=0,LogPval=nan\n",
      "m=365,l=1,n1=1,n2=1,LogPval=-0.016164\n",
      "m=365,l=1,n1=1,n2=1,LogPval=-0.016164\n",
      "m=0,l=0,n1=0,n2=0,LogPval=nan\n",
      "m=0,l=0,n1=0,n2=0,LogPval=nan\n",
      "m=0,l=0,n1=0,n2=0,LogPval=nan\n",
      "m=0,l=0,n1=0,n2=0,LogPval=nan\n",
      "m=0,l=0,n1=0,n2=0,LogPval=nan\n",
      "m=0,l=0,n1=0,n2=0,LogPval=nan\n",
      "m=0,l=0,n1=0,n2=0,LogPval=nan\n",
      "m=0,l=0,n1=0,n2=0,LogPval=nan\n",
      "m=0,l=0,n1=0,n2=0,LogPval=nan\n",
      "m=0,l=0,n1=0,n2=0,LogPval=nan\n",
      "6 m=365,l=0,n1=1,n2=1,LogPval=-0.000008\n",
      "m=365,l=0,n1=1,n2=1,LogPval=-0.000008\n",
      "m=0,l=0,n1=0,n2=0,LogPval=nan\n",
      "m=0,l=0,n1=0,n2=0,LogPval=nan\n",
      "m=0,l=0,n1=0,n2=0,LogPval=nan\n",
      "m=0,l=0,n1=0,n2=0,LogPval=nan\n",
      "m=0,l=0,n1=0,n2=0,LogPval=nan\n",
      "m=0,l=0,n1=0,n2=0,LogPval=nan\n",
      "m=364,l=0,n1=1,n2=2,LogPval=-0.000015\n",
      "m=0,l=0,n1=0,n2=0,LogPval=nan\n",
      "m=0,l=0,n1=0,n2=0,LogPval=nan\n",
      "m=0,l=0,n1=0,n2=0,LogPval=nan\n",
      "m=0,l=0,n1=0,n2=0,LogPval=nan\n",
      "m=0,l=0,n1=0,n2=0,LogPval=nan\n",
      "m=0,l=0,n1=0,n2=0,LogPval=nan\n",
      "m=0,l=0,n1=0,n2=0,LogPval=nan\n",
      "m=0,l=0,n1=0,n2=0,LogPval=nan\n",
      "m=364,l=0,n1=0,n2=1,LogPval=0.000000\n",
      "m=337,l=0,n1=1,n2=1,LogPval=-0.000009\n",
      "m=365,l=1,n1=1,n2=1,LogPval=-0.016164\n",
      "m=365,l=1,n1=1,n2=2,LogPval=-0.014265\n",
      "m=365,l=1,n1=1,n2=2,LogPval=-0.014265\n",
      "m=0,l=0,n1=0,n2=0,LogPval=nan\n",
      "m=363,l=0,n1=1,n2=1,LogPval=-0.000008\n",
      "m=365,l=0,n1=1,n2=1,LogPval=-0.000008\n",
      "m=0,l=0,n1=0,n2=0,LogPval=nan\n",
      "m=0,l=0,n1=0,n2=0,LogPval=nan\n",
      "m=0,l=0,n1=0,n2=0,LogPval=nan\n",
      "m=0,l=0,n1=0,n2=0,LogPval=nan\n",
      "m=0,l=0,n1=0,n2=0,LogPval=nan\n",
      "m=0,l=0,n1=0,n2=0,LogPval=nan\n",
      "m=0,l=0,n1=0,n2=0,LogPval=nan\n",
      "m=365,l=0,n1=1,n2=1,LogPval=-0.000008\n",
      "m=365,l=0,n1=1,n2=1,LogPval=-0.000008\n",
      "m=365,l=0,n1=1,n2=1,LogPval=-0.000008\n",
      "m=0,l=0,n1=0,n2=0,LogPval=nan\n",
      "m=0,l=0,n1=0,n2=0,LogPval=nan\n",
      "7 m=730,l=2,n1=3,n2=2,LogPval=-0.015607\n",
      "m=365,l=1,n1=2,n2=1,LogPval=-0.014265\n",
      "m=364,l=1,n1=2,n2=1,LogPval=-0.014297\n",
      "m=365,l=1,n1=1,n2=2,LogPval=-0.014265\n",
      "m=0,l=0,n1=0,n2=0,LogPval=nan\n",
      "m=365,l=1,n1=1,n2=1,LogPval=-0.016164\n",
      "m=0,l=0,n1=0,n2=0,LogPval=nan\n",
      "m=365,l=1,n1=1,n2=2,LogPval=-0.014265\n",
      "m=0,l=0,n1=0,n2=0,LogPval=nan\n",
      "m=0,l=0,n1=0,n2=0,LogPval=nan\n",
      "m=365,l=1,n1=2,n2=1,LogPval=-0.014265\n",
      "m=365,l=0,n1=2,n2=1,LogPval=-0.000015\n",
      "m=0,l=0,n1=0,n2=0,LogPval=nan\n",
      "m=365,l=1,n1=1,n2=1,LogPval=-0.016164\n",
      "m=729,l=2,n1=3,n2=3,LogPval=-0.014119\n",
      "m=0,l=0,n1=0,n2=0,LogPval=nan\n",
      "m=364,l=1,n1=1,n2=2,LogPval=-0.014297\n",
      "m=365,l=1,n1=1,n2=3,LogPval=-0.013154\n",
      "m=334,l=1,n1=1,n2=2,LogPval=-0.015323\n",
      "m=364,l=0,n1=2,n2=1,LogPval=-0.000015\n",
      "m=0,l=0,n1=0,n2=0,LogPval=nan\n",
      "m=0,l=0,n1=0,n2=0,LogPval=nan\n",
      "m=1093,l=0,n1=3,n2=5,LogPval=-0.000013\n",
      "m=0,l=0,n1=0,n2=0,LogPval=nan\n",
      "m=363,l=0,n1=1,n2=2,LogPval=-0.000015\n",
      "m=365,l=1,n1=1,n2=1,LogPval=-0.016164\n",
      "m=729,l=1,n1=3,n2=2,LogPval=-0.006588\n",
      "m=0,l=0,n1=0,n2=0,LogPval=nan\n",
      "m=364,l=0,n1=2,n2=1,LogPval=-0.000015\n",
      "m=730,l=2,n1=3,n2=3,LogPval=-0.014104\n",
      "m=334,l=1,n1=1,n2=1,LogPval=-0.017399\n",
      "m=365,l=1,n1=2,n2=2,LogPval=-0.012374\n",
      "m=0,l=0,n1=0,n2=0,LogPval=nan\n",
      "m=0,l=0,n1=0,n2=0,LogPval=nan\n",
      "m=0,l=0,n1=0,n2=0,LogPval=nan\n",
      "m=365,l=2,n1=2,n2=2,LogPval=-0.030422\n",
      "m=730,l=2,n1=3,n2=2,LogPval=-0.015607\n",
      "8 m=365,l=1,n1=2,n2=1,LogPval=-0.014265\n",
      "m=0,l=0,n1=0,n2=0,LogPval=nan\n",
      "m=0,l=0,n1=0,n2=0,LogPval=nan\n",
      "m=0,l=0,n1=0,n2=0,LogPval=nan\n",
      "m=365,l=0,n1=1,n2=2,LogPval=-0.000015\n",
      "m=0,l=0,n1=0,n2=0,LogPval=nan\n",
      "m=0,l=0,n1=0,n2=0,LogPval=nan\n",
      "m=365,l=1,n1=2,n2=1,LogPval=-0.014265\n",
      "m=0,l=0,n1=0,n2=0,LogPval=nan\n",
      "m=0,l=0,n1=0,n2=0,LogPval=nan\n",
      "m=0,l=0,n1=0,n2=0,LogPval=nan\n",
      "m=1091,l=2,n1=3,n2=5,LogPval=-0.009072\n",
      "m=729,l=1,n1=2,n2=2,LogPval=-0.007142\n",
      "m=0,l=0,n1=0,n2=0,LogPval=nan\n",
      "m=0,l=0,n1=0,n2=0,LogPval=nan\n",
      "m=0,l=0,n1=0,n2=0,LogPval=nan\n",
      "m=0,l=0,n1=0,n2=0,LogPval=nan\n",
      "m=0,l=0,n1=0,n2=0,LogPval=nan\n",
      "m=699,l=2,n1=3,n2=3,LogPval=-0.014605\n",
      "m=334,l=1,n1=1,n2=2,LogPval=-0.015323\n",
      "m=365,l=1,n1=1,n2=3,LogPval=-0.013154\n",
      "m=0,l=0,n1=0,n2=0,LogPval=nan\n",
      "m=729,l=1,n1=2,n2=3,LogPval=-0.006588\n",
      "m=0,l=0,n1=0,n2=0,LogPval=nan\n",
      "m=0,l=0,n1=0,n2=0,LogPval=nan\n",
      "m=0,l=0,n1=0,n2=0,LogPval=nan\n",
      "m=698,l=0,n1=2,n2=4,LogPval=-0.000016\n",
      "m=365,l=0,n1=1,n2=1,LogPval=-0.000008\n",
      "m=0,l=0,n1=0,n2=0,LogPval=nan\n",
      "m=365,l=1,n1=2,n2=1,LogPval=-0.014265\n",
      "m=334,l=1,n1=2,n2=1,LogPval=-0.015323\n",
      "m=0,l=0,n1=0,n2=0,LogPval=nan\n",
      "m=0,l=0,n1=0,n2=0,LogPval=nan\n",
      "m=0,l=0,n1=0,n2=0,LogPval=nan\n",
      "m=0,l=0,n1=0,n2=0,LogPval=nan\n",
      "m=0,l=0,n1=0,n2=0,LogPval=nan\n",
      "m=730,l=2,n1=3,n2=2,LogPval=-0.015607\n",
      "9 m=364,l=1,n1=2,n2=1,LogPval=-0.014297\n",
      "m=364,l=1,n1=2,n2=1,LogPval=-0.014297\n",
      "m=0,l=0,n1=0,n2=0,LogPval=nan\n",
      "m=0,l=0,n1=0,n2=0,LogPval=nan\n",
      "m=337,l=2,n1=3,n2=2,LogPval=-0.029215\n",
      "m=0,l=0,n1=0,n2=0,LogPval=nan\n",
      "m=364,l=0,n1=2,n2=1,LogPval=-0.000015\n",
      "m=0,l=0,n1=0,n2=0,LogPval=nan\n",
      "m=0,l=0,n1=0,n2=0,LogPval=nan\n",
      "m=365,l=1,n1=3,n2=1,LogPval=-0.013154\n",
      "m=0,l=0,n1=0,n2=0,LogPval=nan\n",
      "m=0,l=0,n1=0,n2=0,LogPval=nan\n",
      "m=365,l=1,n1=3,n2=1,LogPval=-0.013154\n",
      "m=0,l=0,n1=0,n2=0,LogPval=nan\n",
      "m=0,l=0,n1=0,n2=0,LogPval=nan\n",
      "m=365,l=2,n1=3,n2=2,LogPval=-0.027412\n",
      "m=0,l=0,n1=0,n2=0,LogPval=nan\n",
      "m=728,l=3,n1=5,n2=3,LogPval=-0.021528\n",
      "m=336,l=0,n1=0,n2=0,LogPval=0.000000\n",
      "m=729,l=2,n1=5,n2=3,LogPval=-0.012472\n",
      "m=364,l=1,n1=2,n2=2,LogPval=-0.012400\n",
      "m=728,l=2,n1=5,n2=3,LogPval=-0.012485\n",
      "m=365,l=2,n1=3,n2=2,LogPval=-0.027412\n",
      "m=362,l=1,n1=2,n2=1,LogPval=-0.014360\n",
      "m=364,l=1,n1=2,n2=1,LogPval=-0.014297\n",
      "m=0,l=0,n1=0,n2=0,LogPval=nan\n",
      "m=365,l=2,n1=3,n2=2,LogPval=-0.027412\n",
      "m=0,l=0,n1=0,n2=0,LogPval=nan\n",
      "m=0,l=0,n1=0,n2=0,LogPval=nan\n",
      "m=365,l=2,n1=3,n2=3,LogPval=-0.024409\n",
      "m=0,l=0,n1=0,n2=0,LogPval=nan\n",
      "m=0,l=0,n1=0,n2=0,LogPval=nan\n",
      "m=364,l=1,n1=2,n2=1,LogPval=-0.014297\n",
      "m=364,l=1,n1=2,n2=1,LogPval=-0.014297\n",
      "m=364,l=1,n1=2,n2=1,LogPval=-0.014297\n",
      "m=0,l=0,n1=0,n2=0,LogPval=nan\n",
      "m=0,l=0,n1=0,n2=0,LogPval=nan\n",
      "10 m=0,l=0,n1=0,n2=0,LogPval=nan\n",
      "m=0,l=0,n1=0,n2=0,LogPval=nan\n",
      "m=0,l=0,n1=0,n2=0,LogPval=nan\n",
      "m=0,l=0,n1=0,n2=0,LogPval=nan\n",
      "m=337,l=1,n1=1,n2=2,LogPval=-0.015213\n",
      "m=0,l=0,n1=0,n2=0,LogPval=nan\n",
      "m=0,l=0,n1=0,n2=0,LogPval=nan\n",
      "m=0,l=0,n1=0,n2=0,LogPval=nan\n",
      "m=0,l=0,n1=0,n2=0,LogPval=nan\n",
      "m=365,l=1,n1=1,n2=3,LogPval=-0.013154\n",
      "m=0,l=0,n1=0,n2=0,LogPval=nan\n",
      "m=0,l=0,n1=0,n2=0,LogPval=nan\n",
      "m=365,l=1,n1=1,n2=1,LogPval=-0.016164\n",
      "m=0,l=0,n1=0,n2=0,LogPval=nan\n",
      "m=0,l=0,n1=0,n2=0,LogPval=nan\n",
      "m=365,l=1,n1=1,n2=2,LogPval=-0.014265\n",
      "m=0,l=0,n1=0,n2=0,LogPval=nan\n",
      "m=365,l=1,n1=1,n2=2,LogPval=-0.014265\n",
      "m=0,l=0,n1=0,n2=0,LogPval=nan\n",
      "m=365,l=1,n1=1,n2=2,LogPval=-0.014265\n",
      "m=0,l=0,n1=0,n2=0,LogPval=nan\n",
      "m=364,l=0,n1=1,n2=1,LogPval=-0.000008\n",
      "m=365,l=1,n1=1,n2=2,LogPval=-0.014265\n",
      "m=0,l=0,n1=0,n2=0,LogPval=nan\n",
      "m=0,l=0,n1=0,n2=0,LogPval=nan\n",
      "m=0,l=0,n1=0,n2=0,LogPval=nan\n",
      "m=365,l=1,n1=1,n2=2,LogPval=-0.014265\n",
      "m=0,l=0,n1=0,n2=0,LogPval=nan\n",
      "m=0,l=0,n1=0,n2=0,LogPval=nan\n",
      "m=365,l=1,n1=1,n2=3,LogPval=-0.013154\n",
      "m=0,l=0,n1=0,n2=0,LogPval=nan\n",
      "m=0,l=0,n1=0,n2=0,LogPval=nan\n",
      "m=0,l=0,n1=0,n2=0,LogPval=nan\n",
      "m=0,l=0,n1=0,n2=0,LogPval=nan\n",
      "m=0,l=0,n1=0,n2=0,LogPval=nan\n",
      "m=0,l=0,n1=0,n2=0,LogPval=nan\n",
      "m=0,l=0,n1=0,n2=0,LogPval=nan\n",
      "11 m=365,l=1,n1=1,n2=1,LogPval=-0.016164\n",
      "m=365,l=1,n1=1,n2=1,LogPval=-0.016164\n",
      "m=364,l=1,n1=1,n2=1,LogPval=-0.016201\n",
      "m=0,l=0,n1=0,n2=0,LogPval=nan\n",
      "m=0,l=0,n1=0,n2=0,LogPval=nan\n",
      "m=0,l=0,n1=0,n2=0,LogPval=nan\n",
      "m=0,l=0,n1=0,n2=0,LogPval=nan\n",
      "m=365,l=1,n1=1,n2=2,LogPval=-0.014265\n",
      "m=0,l=0,n1=0,n2=0,LogPval=nan\n",
      "m=0,l=0,n1=0,n2=0,LogPval=nan\n",
      "m=0,l=0,n1=0,n2=0,LogPval=nan\n",
      "m=365,l=0,n1=1,n2=1,LogPval=-0.000008\n",
      "m=0,l=0,n1=0,n2=0,LogPval=nan\n",
      "m=0,l=0,n1=0,n2=0,LogPval=nan\n",
      "m=364,l=1,n1=1,n2=2,LogPval=-0.014297\n",
      "m=0,l=0,n1=0,n2=0,LogPval=nan\n",
      "m=0,l=0,n1=0,n2=0,LogPval=nan\n",
      "m=0,l=0,n1=0,n2=0,LogPval=nan\n",
      "m=0,l=0,n1=0,n2=0,LogPval=nan\n",
      "m=364,l=0,n1=1,n2=1,LogPval=-0.000008\n",
      "m=0,l=0,n1=0,n2=0,LogPval=nan\n",
      "m=0,l=0,n1=0,n2=0,LogPval=nan\n",
      "m=364,l=0,n1=1,n2=1,LogPval=-0.000008\n",
      "m=0,l=0,n1=0,n2=0,LogPval=nan\n",
      "m=363,l=0,n1=0,n2=2,LogPval=0.000000\n",
      "m=0,l=0,n1=0,n2=0,LogPval=nan\n",
      "m=364,l=0,n1=1,n2=1,LogPval=-0.000008\n",
      "m=0,l=0,n1=0,n2=0,LogPval=nan\n",
      "m=364,l=0,n1=1,n2=1,LogPval=-0.000008\n",
      "m=365,l=1,n1=1,n2=2,LogPval=-0.014265\n",
      "m=0,l=0,n1=0,n2=0,LogPval=nan\n",
      "m=365,l=1,n1=1,n2=2,LogPval=-0.014265\n",
      "m=0,l=0,n1=0,n2=0,LogPval=nan\n",
      "m=0,l=0,n1=0,n2=0,LogPval=nan\n",
      "m=0,l=0,n1=0,n2=0,LogPval=nan\n",
      "m=365,l=1,n1=1,n2=2,LogPval=-0.014265\n",
      "m=365,l=1,n1=1,n2=1,LogPval=-0.016164\n",
      "12 m=365,l=0,n1=1,n2=1,LogPval=-0.000008\n",
      "m=365,l=0,n1=1,n2=1,LogPval=-0.000008\n",
      "m=364,l=0,n1=1,n2=1,LogPval=-0.000008\n",
      "m=0,l=0,n1=0,n2=0,LogPval=nan\n",
      "m=362,l=0,n1=1,n2=2,LogPval=-0.000015\n",
      "m=0,l=0,n1=0,n2=0,LogPval=nan\n",
      "m=0,l=0,n1=0,n2=0,LogPval=nan\n",
      "m=365,l=0,n1=1,n2=2,LogPval=-0.000015\n",
      "m=1091,l=2,n1=5,n2=3,LogPval=-0.009072\n",
      "m=0,l=0,n1=0,n2=0,LogPval=nan\n",
      "m=0,l=0,n1=0,n2=0,LogPval=nan\n",
      "m=365,l=0,n1=1,n2=1,LogPval=-0.000008\n",
      "m=364,l=1,n1=1,n2=1,LogPval=-0.016201\n",
      "m=0,l=0,n1=0,n2=0,LogPval=nan\n"
     ]
    },
    {
     "name": "stderr",
     "output_type": "stream",
     "text": [
      "/usr/local/lib/python2.7/dist-packages/ipykernel_launcher.py:8: RuntimeWarning: invalid value encountered in double_scalars\n",
      "  \n"
     ]
    },
    {
     "name": "stdout",
     "output_type": "stream",
     "text": [
      "m=364,l=0,n1=0,n2=2,LogPval=0.000000\n",
      "m=0,l=0,n1=0,n2=0,LogPval=nan\n",
      "m=0,l=0,n1=0,n2=0,LogPval=nan\n",
      "m=364,l=1,n1=1,n2=1,LogPval=-0.016201\n",
      "m=0,l=0,n1=0,n2=0,LogPval=nan\n",
      "m=695,l=0,n1=2,n2=1,LogPval=-0.000004\n",
      "m=362,l=0,n1=1,n2=0,LogPval=0.000000\n",
      "m=0,l=0,n1=0,n2=0,LogPval=nan\n",
      "m=1427,l=3,n1=4,n2=4,LogPval=-0.012070\n",
      "m=0,l=0,n1=0,n2=0,LogPval=nan\n",
      "m=363,l=0,n1=1,n2=2,LogPval=-0.000015\n",
      "m=0,l=0,n1=0,n2=0,LogPval=nan\n",
      "m=1421,l=2,n1=4,n2=4,LogPval=-0.007209\n",
      "m=365,l=1,n1=1,n2=1,LogPval=-0.016164\n",
      "m=729,l=2,n1=2,n2=2,LogPval=-0.017131\n",
      "m=365,l=1,n1=1,n2=2,LogPval=-0.014265\n",
      "m=365,l=1,n1=1,n2=1,LogPval=-0.016164\n",
      "m=365,l=0,n1=1,n2=2,LogPval=-0.000015\n",
      "m=0,l=0,n1=0,n2=0,LogPval=nan\n",
      "m=0,l=0,n1=0,n2=0,LogPval=nan\n",
      "m=0,l=0,n1=0,n2=0,LogPval=nan\n",
      "m=365,l=0,n1=1,n2=2,LogPval=-0.000015\n",
      "m=727,l=0,n1=2,n2=1,LogPval=-0.000004\n",
      "13 m=0,l=0,n1=0,n2=0,LogPval=nan\n",
      "m=0,l=0,n1=0,n2=0,LogPval=nan\n",
      "m=0,l=0,n1=0,n2=0,LogPval=nan\n",
      "m=0,l=0,n1=0,n2=0,LogPval=nan\n",
      "m=337,l=1,n1=1,n2=2,LogPval=-0.015213\n",
      "m=0,l=0,n1=0,n2=0,LogPval=nan\n",
      "m=0,l=0,n1=0,n2=0,LogPval=nan\n",
      "m=0,l=0,n1=0,n2=0,LogPval=nan\n",
      "m=729,l=1,n1=2,n2=2,LogPval=-0.007142\n",
      "m=365,l=1,n1=1,n2=3,LogPval=-0.013154\n",
      "m=365,l=1,n1=1,n2=1,LogPval=-0.016164\n",
      "m=0,l=0,n1=0,n2=0,LogPval=nan\n",
      "m=364,l=1,n1=1,n2=1,LogPval=-0.016201\n",
      "m=0,l=0,n1=0,n2=0,LogPval=nan\n",
      "m=0,l=0,n1=0,n2=0,LogPval=nan\n",
      "m=730,l=1,n1=3,n2=3,LogPval=-0.006029\n",
      "m=0,l=0,n1=0,n2=0,LogPval=nan\n",
      "m=730,l=1,n1=3,n2=3,LogPval=-0.006029\n",
      "m=365,l=1,n1=1,n2=1,LogPval=-0.016164\n",
      "m=365,l=1,n1=1,n2=2,LogPval=-0.014265\n",
      "m=0,l=0,n1=0,n2=0,LogPval=nan\n",
      "m=364,l=0,n1=1,n2=1,LogPval=-0.000008\n",
      "m=730,l=2,n1=3,n2=4,LogPval=-0.013156\n",
      "m=0,l=0,n1=0,n2=0,LogPval=nan\n",
      "m=0,l=0,n1=0,n2=0,LogPval=nan\n",
      "m=0,l=0,n1=0,n2=0,LogPval=nan\n",
      "m=730,l=1,n1=3,n2=3,LogPval=-0.006029\n",
      "m=364,l=1,n1=1,n2=1,LogPval=-0.016201\n",
      "m=0,l=0,n1=0,n2=0,LogPval=nan\n",
      "m=365,l=1,n1=1,n2=3,LogPval=-0.013154\n",
      "m=0,l=0,n1=0,n2=0,LogPval=nan\n",
      "m=0,l=0,n1=0,n2=0,LogPval=nan\n",
      "m=0,l=0,n1=0,n2=0,LogPval=nan\n",
      "m=0,l=0,n1=0,n2=0,LogPval=nan\n",
      "m=0,l=0,n1=0,n2=0,LogPval=nan\n",
      "m=0,l=0,n1=0,n2=0,LogPval=nan\n",
      "m=0,l=0,n1=0,n2=0,LogPval=nan\n",
      "14 m=0,l=0,n1=0,n2=0,LogPval=nan\n",
      "m=0,l=0,n1=0,n2=0,LogPval=nan\n",
      "m=0,l=0,n1=0,n2=0,LogPval=nan\n",
      "m=365,l=1,n1=1,n2=2,LogPval=-0.014265\n",
      "m=0,l=0,n1=0,n2=0,LogPval=nan\n",
      "m=365,l=1,n1=1,n2=1,LogPval=-0.016164\n",
      "m=0,l=0,n1=0,n2=0,LogPval=nan\n",
      "m=365,l=1,n1=1,n2=1,LogPval=-0.016164\n",
      "m=0,l=0,n1=0,n2=0,LogPval=nan\n",
      "m=0,l=0,n1=0,n2=0,LogPval=nan\n",
      "m=0,l=0,n1=0,n2=0,LogPval=nan\n",
      "m=0,l=0,n1=0,n2=0,LogPval=nan\n",
      "m=0,l=0,n1=0,n2=0,LogPval=nan\n",
      "m=0,l=0,n1=0,n2=0,LogPval=nan\n",
      "m=365,l=1,n1=1,n2=1,LogPval=-0.016164\n",
      "m=0,l=0,n1=0,n2=0,LogPval=nan\n",
      "m=364,l=1,n1=1,n2=2,LogPval=-0.014297\n",
      "m=365,l=1,n1=1,n2=3,LogPval=-0.013154\n",
      "m=0,l=0,n1=0,n2=0,LogPval=nan\n",
      "m=0,l=0,n1=0,n2=0,LogPval=nan\n",
      "m=0,l=0,n1=0,n2=0,LogPval=nan\n",
      "m=0,l=0,n1=0,n2=0,LogPval=nan\n",
      "m=365,l=0,n1=1,n2=2,LogPval=-0.000015\n",
      "m=0,l=0,n1=0,n2=0,LogPval=nan\n",
      "m=0,l=0,n1=0,n2=0,LogPval=nan\n",
      "m=365,l=1,n1=1,n2=1,LogPval=-0.016164\n",
      "m=365,l=1,n1=1,n2=1,LogPval=-0.016164\n",
      "m=0,l=0,n1=0,n2=0,LogPval=nan\n",
      "m=0,l=0,n1=0,n2=0,LogPval=nan\n",
      "m=0,l=0,n1=0,n2=0,LogPval=nan\n",
      "m=0,l=0,n1=0,n2=0,LogPval=nan\n",
      "m=0,l=0,n1=0,n2=0,LogPval=nan\n",
      "m=0,l=0,n1=0,n2=0,LogPval=nan\n",
      "m=0,l=0,n1=0,n2=0,LogPval=nan\n",
      "m=0,l=0,n1=0,n2=0,LogPval=nan\n",
      "m=0,l=0,n1=0,n2=0,LogPval=nan\n",
      "m=0,l=0,n1=0,n2=0,LogPval=nan\n",
      "15 m=364,l=1,n1=2,n2=1,LogPval=-0.014297\n",
      "m=364,l=1,n1=2,n2=1,LogPval=-0.014297\n",
      "m=363,l=1,n1=2,n2=1,LogPval=-0.014329\n",
      "m=365,l=1,n1=1,n2=2,LogPval=-0.014265\n",
      "m=0,l=0,n1=0,n2=0,LogPval=nan\n",
      "m=365,l=1,n1=1,n2=1,LogPval=-0.016164\n",
      "m=0,l=0,n1=0,n2=0,LogPval=nan\n",
      "m=729,l=2,n1=3,n2=3,LogPval=-0.014119\n",
      "m=0,l=0,n1=0,n2=0,LogPval=nan\n",
      "m=0,l=0,n1=0,n2=0,LogPval=nan\n",
      "m=0,l=0,n1=0,n2=0,LogPval=nan\n",
      "m=364,l=1,n1=2,n2=1,LogPval=-0.014297\n",
      "m=364,l=0,n1=2,n2=0,LogPval=0.000000\n",
      "m=0,l=0,n1=0,n2=0,LogPval=nan\n",
      "m=365,l=1,n1=1,n2=1,LogPval=-0.016164\n",
      "m=0,l=0,n1=0,n2=0,LogPval=nan\n",
      "m=364,l=1,n1=1,n2=2,LogPval=-0.014297\n",
      "m=365,l=1,n1=1,n2=3,LogPval=-0.013154\n",
      "m=0,l=0,n1=0,n2=0,LogPval=nan\n",
      "m=363,l=1,n1=2,n2=1,LogPval=-0.014329\n",
      "m=0,l=0,n1=0,n2=0,LogPval=nan\n",
      "m=0,l=0,n1=0,n2=0,LogPval=nan\n",
      "m=728,l=0,n1=3,n2=2,LogPval=-0.000011\n",
      "m=0,l=0,n1=0,n2=0,LogPval=nan\n",
      "m=362,l=0,n1=0,n2=2,LogPval=0.000000\n",
      "m=365,l=1,n1=1,n2=1,LogPval=-0.016164\n",
      "m=728,l=1,n1=3,n2=1,LogPval=-0.007544\n",
      "m=0,l=0,n1=0,n2=0,LogPval=nan\n",
      "m=363,l=0,n1=1,n2=0,LogPval=0.000000\n",
      "m=364,l=1,n1=2,n2=1,LogPval=-0.014297\n",
      "m=0,l=0,n1=0,n2=0,LogPval=nan\n",
      "m=364,l=2,n1=2,n2=2,LogPval=-0.030490\n",
      "m=0,l=0,n1=0,n2=0,LogPval=nan\n",
      "m=0,l=0,n1=0,n2=0,LogPval=nan\n",
      "m=0,l=0,n1=0,n2=0,LogPval=nan\n",
      "m=364,l=1,n1=2,n2=2,LogPval=-0.012400\n",
      "m=364,l=1,n1=2,n2=1,LogPval=-0.014297\n",
      "16 m=0,l=0,n1=0,n2=0,LogPval=nan\n",
      "m=0,l=0,n1=0,n2=0,LogPval=nan\n",
      "m=0,l=0,n1=0,n2=0,LogPval=nan\n",
      "m=0,l=0,n1=0,n2=0,LogPval=nan\n",
      "m=337,l=2,n1=2,n2=2,LogPval=-0.032475\n",
      "m=0,l=0,n1=0,n2=0,LogPval=nan\n",
      "m=0,l=0,n1=0,n2=0,LogPval=nan\n",
      "m=0,l=0,n1=0,n2=0,LogPval=nan\n",
      "m=0,l=0,n1=0,n2=0,LogPval=nan\n",
      "m=365,l=2,n1=2,n2=3,LogPval=-0.027412\n",
      "m=365,l=1,n1=2,n2=1,LogPval=-0.014265\n",
      "m=0,l=0,n1=0,n2=0,LogPval=nan\n",
      "m=0,l=0,n1=0,n2=0,LogPval=nan\n",
      "m=730,l=1,n1=3,n2=3,LogPval=-0.006029\n",
      "m=0,l=0,n1=0,n2=0,LogPval=nan\n",
      "m=0,l=0,n1=0,n2=0,LogPval=nan\n",
      "m=0,l=0,n1=0,n2=0,LogPval=nan\n",
      "m=1091,l=2,n1=3,n2=3,LogPval=-0.010174\n",
      "m=0,l=0,n1=0,n2=0,LogPval=nan\n",
      "m=365,l=1,n1=2,n2=2,LogPval=-0.012374\n",
      "m=0,l=0,n1=0,n2=0,LogPval=nan\n",
      "m=364,l=0,n1=2,n2=1,LogPval=-0.000015\n",
      "m=1095,l=1,n1=4,n2=5,LogPval=-0.003666\n",
      "m=0,l=0,n1=0,n2=0,LogPval=nan\n",
      "m=0,l=0,n1=0,n2=0,LogPval=nan\n",
      "m=0,l=0,n1=0,n2=0,LogPval=nan\n",
      "m=1095,l=3,n1=4,n2=4,LogPval=-0.015004\n",
      "m=0,l=0,n1=0,n2=0,LogPval=nan\n",
      "m=0,l=0,n1=0,n2=0,LogPval=nan\n",
      "m=365,l=2,n1=2,n2=3,LogPval=-0.027412\n",
      "m=0,l=0,n1=0,n2=0,LogPval=nan\n",
      "m=0,l=0,n1=0,n2=0,LogPval=nan\n",
      "m=0,l=0,n1=0,n2=0,LogPval=nan\n",
      "m=0,l=0,n1=0,n2=0,LogPval=nan\n",
      "m=0,l=0,n1=0,n2=0,LogPval=nan\n",
      "m=0,l=0,n1=0,n2=0,LogPval=nan\n",
      "m=0,l=0,n1=0,n2=0,LogPval=nan\n",
      "17 m=0,l=0,n1=0,n2=0,LogPval=nan\n",
      "m=0,l=0,n1=0,n2=0,LogPval=nan\n",
      "m=0,l=0,n1=0,n2=0,LogPval=nan\n",
      "m=364,l=1,n1=2,n2=2,LogPval=-0.012400\n",
      "m=0,l=0,n1=0,n2=0,LogPval=nan\n",
      "m=364,l=1,n1=2,n2=1,LogPval=-0.014297\n",
      "m=0,l=0,n1=0,n2=0,LogPval=nan\n",
      "m=364,l=1,n1=2,n2=1,LogPval=-0.014297\n",
      "m=0,l=0,n1=0,n2=0,LogPval=nan\n",
      "m=0,l=0,n1=0,n2=0,LogPval=nan\n",
      "m=0,l=0,n1=0,n2=0,LogPval=nan\n",
      "m=0,l=0,n1=0,n2=0,LogPval=nan\n",
      "m=0,l=0,n1=0,n2=0,LogPval=nan\n",
      "m=0,l=0,n1=0,n2=0,LogPval=nan\n",
      "m=364,l=1,n1=2,n2=1,LogPval=-0.014297\n",
      "m=364,l=1,n1=2,n2=1,LogPval=-0.014297\n",
      "m=0,l=0,n1=0,n2=0,LogPval=nan\n",
      "m=364,l=2,n1=2,n2=3,LogPval=-0.027472\n",
      "m=0,l=0,n1=0,n2=0,LogPval=nan\n",
      "m=0,l=0,n1=0,n2=0,LogPval=nan\n",
      "m=0,l=0,n1=0,n2=0,LogPval=nan\n",
      "m=0,l=0,n1=0,n2=0,LogPval=nan\n",
      "m=364,l=1,n1=2,n2=2,LogPval=-0.012400\n",
      "m=0,l=0,n1=0,n2=0,LogPval=nan\n",
      "m=0,l=0,n1=0,n2=0,LogPval=nan\n",
      "m=364,l=1,n1=2,n2=1,LogPval=-0.014297\n",
      "m=364,l=1,n1=2,n2=1,LogPval=-0.014297\n",
      "m=0,l=0,n1=0,n2=0,LogPval=nan\n",
      "m=0,l=0,n1=0,n2=0,LogPval=nan\n",
      "m=0,l=0,n1=0,n2=0,LogPval=nan\n",
      "m=0,l=0,n1=0,n2=0,LogPval=nan\n",
      "m=0,l=0,n1=0,n2=0,LogPval=nan\n",
      "m=0,l=0,n1=0,n2=0,LogPval=nan\n",
      "m=0,l=0,n1=0,n2=0,LogPval=nan\n",
      "m=0,l=0,n1=0,n2=0,LogPval=nan\n",
      "m=0,l=0,n1=0,n2=0,LogPval=nan\n",
      "m=0,l=0,n1=0,n2=0,LogPval=nan\n",
      "18 m=364,l=1,n1=1,n2=1,LogPval=-0.016201\n",
      "m=364,l=1,n1=1,n2=1,LogPval=-0.016201\n",
      "m=0,l=0,n1=0,n2=0,LogPval=nan\n",
      "m=365,l=1,n1=3,n2=2,LogPval=-0.011270\n",
      "m=337,l=1,n1=2,n2=2,LogPval=-0.013165\n",
      "m=365,l=1,n1=3,n2=1,LogPval=-0.013154\n",
      "m=364,l=0,n1=1,n2=0,LogPval=0.000000\n",
      "m=365,l=1,n1=3,n2=1,LogPval=-0.013154\n",
      "m=0,l=0,n1=0,n2=0,LogPval=nan\n",
      "m=728,l=3,n1=3,n2=5,LogPval=-0.021528\n",
      "m=365,l=1,n1=2,n2=1,LogPval=-0.014265\n",
      "m=0,l=0,n1=0,n2=0,LogPval=nan\n",
      "m=364,l=1,n1=1,n2=1,LogPval=-0.016201\n",
      "m=730,l=1,n1=3,n2=3,LogPval=-0.006029\n",
      "m=365,l=1,n1=3,n2=1,LogPval=-0.013154\n",
      "m=365,l=1,n1=3,n2=1,LogPval=-0.013154\n",
      "m=1091,l=2,n1=3,n2=3,LogPval=-0.010174\n",
      "m=364,l=2,n1=3,n2=2,LogPval=-0.027472\n",
      "m=336,l=0,n1=0,n2=1,LogPval=0.000000\n",
      "m=729,l=2,n1=3,n2=2,LogPval=-0.015624\n",
      "m=364,l=1,n1=1,n2=1,LogPval=-0.016201\n",
      "m=728,l=2,n1=3,n2=2,LogPval=-0.015642\n",
      "m=2189,l=7,n1=10,n2=11,LogPval=-0.015862\n",
      "m=362,l=1,n1=1,n2=1,LogPval=-0.016275\n",
      "m=364,l=1,n1=1,n2=1,LogPval=-0.016201\n",
      "m=365,l=1,n1=3,n2=1,LogPval=-0.013154\n",
      "m=1458,l=4,n1=7,n2=5,LogPval=-0.014262\n",
      "m=0,l=0,n1=0,n2=0,LogPval=nan\n",
      "m=364,l=1,n1=1,n2=1,LogPval=-0.016201\n",
      "m=365,l=1,n1=2,n2=3,LogPval=-0.011270\n",
      "m=364,l=1,n1=1,n2=1,LogPval=-0.016201\n",
      "m=0,l=0,n1=0,n2=0,LogPval=nan\n",
      "m=364,l=1,n1=1,n2=1,LogPval=-0.016201\n",
      "m=364,l=1,n1=1,n2=1,LogPval=-0.016201\n",
      "m=364,l=1,n1=1,n2=1,LogPval=-0.016201\n",
      "m=0,l=0,n1=0,n2=0,LogPval=nan\n",
      "m=0,l=0,n1=0,n2=0,LogPval=nan\n",
      "19 m=671,l=1,n1=3,n2=1,LogPval=-0.008063\n",
      "m=337,l=0,n1=1,n2=0,LogPval=0.000000\n",
      "m=0,l=0,n1=0,n2=0,LogPval=nan\n",
      "m=0,l=0,n1=0,n2=0,LogPval=nan\n",
      "m=0,l=0,n1=0,n2=0,LogPval=nan\n",
      "m=0,l=0,n1=0,n2=0,LogPval=nan\n",
      "m=337,l=0,n1=1,n2=1,LogPval=-0.000009\n",
      "m=334,l=1,n1=2,n2=1,LogPval=-0.015323\n",
      "m=699,l=2,n1=3,n2=3,LogPval=-0.014605\n",
      "m=336,l=0,n1=0,n2=0,LogPval=0.000000\n",
      "m=0,l=0,n1=0,n2=0,LogPval=nan\n",
      "m=0,l=0,n1=0,n2=0,LogPval=nan\n",
      "m=0,l=0,n1=0,n2=0,LogPval=nan\n",
      "m=365,l=1,n1=1,n2=1,LogPval=-0.016164\n",
      "m=0,l=0,n1=0,n2=0,LogPval=nan\n",
      "m=0,l=0,n1=0,n2=0,LogPval=nan\n",
      "m=0,l=0,n1=0,n2=0,LogPval=nan\n",
      "m=0,l=0,n1=0,n2=0,LogPval=nan\n",
      "m=336,l=0,n1=1,n2=0,LogPval=0.000000\n",
      "m=337,l=0,n1=1,n2=1,LogPval=-0.000009\n",
      "m=337,l=0,n1=1,n2=1,LogPval=-0.000009\n",
      "m=337,l=0,n1=1,n2=1,LogPval=-0.000009\n",
      "m=333,l=0,n1=1,n2=2,LogPval=-0.000018\n",
      "m=335,l=0,n1=1,n2=0,LogPval=-0.000000\n",
      "m=337,l=0,n1=1,n2=0,LogPval=0.000000\n",
      "m=0,l=0,n1=0,n2=0,LogPval=nan\n",
      "m=0,l=0,n1=0,n2=0,LogPval=nan\n",
      "m=0,l=0,n1=0,n2=0,LogPval=nan\n",
      "m=0,l=0,n1=0,n2=0,LogPval=nan\n",
      "m=334,l=1,n1=2,n2=1,LogPval=-0.015323\n",
      "m=334,l=1,n1=2,n2=1,LogPval=-0.015323\n",
      "m=0,l=0,n1=0,n2=0,LogPval=nan\n",
      "m=337,l=0,n1=1,n2=0,LogPval=0.000000\n",
      "m=337,l=0,n1=1,n2=0,LogPval=0.000000\n",
      "m=337,l=0,n1=1,n2=0,LogPval=0.000000\n",
      "m=0,l=0,n1=0,n2=0,LogPval=nan\n",
      "m=334,l=1,n1=2,n2=1,LogPval=-0.015323\n",
      "20 m=729,l=0,n1=2,n2=2,LogPval=-0.000008\n",
      "m=729,l=0,n1=2,n2=2,LogPval=-0.000008\n",
      "m=363,l=0,n1=1,n2=1,LogPval=-0.000008\n",
      "m=0,l=0,n1=0,n2=0,LogPval=nan\n",
      "m=671,l=1,n1=4,n2=4,LogPval=-0.005588\n",
      "m=0,l=0,n1=0,n2=0,LogPval=nan\n",
      "m=365,l=1,n1=1,n2=1,LogPval=-0.016164\n",
      "m=364,l=0,n1=1,n2=2,LogPval=-0.000015\n",
      "m=334,l=1,n1=2,n2=1,LogPval=-0.015323\n",
      "m=729,l=2,n1=3,n2=5,LogPval=-0.012472\n",
      "m=365,l=1,n1=2,n2=1,LogPval=-0.014265\n",
      "m=364,l=0,n1=1,n2=1,LogPval=-0.000008\n",
      "m=695,l=0,n1=1,n2=2,LogPval=-0.000004\n",
      "m=365,l=1,n1=2,n2=1,LogPval=-0.014265\n",
      "m=0,l=0,n1=0,n2=0,LogPval=nan\n",
      "m=363,l=1,n1=1,n2=2,LogPval=-0.014329\n",
      "m=365,l=1,n1=2,n2=2,LogPval=-0.012374\n",
      "m=0,l=0,n1=0,n2=0,LogPval=nan\n",
      "m=729,l=2,n1=2,n2=3,LogPval=-0.015624\n",
      "m=337,l=0,n1=1,n2=1,LogPval=-0.000009\n",
      "m=699,l=3,n1=3,n2=5,LogPval=-0.022247\n",
      "m=729,l=2,n1=3,n2=3,LogPval=-0.014119\n",
      "m=1062,l=2,n1=5,n2=4,LogPval=-0.008619\n",
      "m=363,l=0,n1=1,n2=1,LogPval=-0.000008\n",
      "m=727,l=0,n1=1,n2=3,LogPval=-0.000006\n",
      "m=0,l=0,n1=0,n2=0,LogPval=nan\n",
      "m=1396,l=2,n1=6,n2=7,LogPval=-0.005767\n",
      "m=0,l=0,n1=0,n2=0,LogPval=nan\n",
      "m=363,l=0,n1=0,n2=1,LogPval=0.000000\n",
      "m=729,l=1,n1=3,n2=5,LogPval=-0.005342\n",
      "m=0,l=0,n1=0,n2=0,LogPval=nan\n",
      "m=364,l=1,n1=1,n2=2,LogPval=-0.014297\n",
      "m=365,l=0,n1=1,n2=1,LogPval=-0.000008\n",
      "m=365,l=0,n1=1,n2=1,LogPval=-0.000008\n",
      "m=365,l=0,n1=1,n2=1,LogPval=-0.000008\n",
      "m=364,l=0,n1=1,n2=2,LogPval=-0.000015\n",
      "m=698,l=1,n1=3,n2=2,LogPval=-0.006819\n",
      "21 m=365,l=1,n1=2,n2=1,LogPval=-0.014265\n",
      "m=365,l=1,n1=2,n2=1,LogPval=-0.014265\n",
      "m=0,l=0,n1=0,n2=0,LogPval=nan\n",
      "m=0,l=0,n1=0,n2=0,LogPval=nan\n",
      "m=365,l=0,n1=3,n2=2,LogPval=-0.000045\n",
      "m=0,l=0,n1=0,n2=0,LogPval=nan\n",
      "m=365,l=1,n1=2,n2=1,LogPval=-0.014265\n",
      "m=0,l=0,n1=0,n2=0,LogPval=nan\n",
      "m=365,l=1,n1=3,n2=1,LogPval=-0.013154\n",
      "m=364,l=1,n1=2,n2=2,LogPval=-0.012400\n",
      "m=0,l=0,n1=0,n2=0,LogPval=nan\n",
      "m=0,l=0,n1=0,n2=0,LogPval=nan\n",
      "m=362,l=0,n1=0,n2=1,LogPval=0.000000\n",
      "m=0,l=0,n1=0,n2=0,LogPval=nan\n",
      "m=0,l=0,n1=0,n2=0,LogPval=nan\n",
      "m=0,l=0,n1=0,n2=0,LogPval=nan\n",
      "m=0,l=0,n1=0,n2=0,LogPval=nan\n",
      "m=0,l=0,n1=0,n2=0,LogPval=nan\n",
      "m=364,l=1,n1=1,n2=1,LogPval=-0.016201\n",
      "m=337,l=0,n1=1,n2=1,LogPval=-0.000009\n",
      "m=699,l=3,n1=5,n2=3,LogPval=-0.022247\n",
      "m=365,l=2,n1=2,n2=2,LogPval=-0.030422\n",
      "m=365,l=1,n1=3,n2=1,LogPval=-0.013154\n",
      "m=363,l=1,n1=2,n2=1,LogPval=-0.014329\n",
      "m=365,l=1,n1=2,n2=1,LogPval=-0.014265\n",
      "m=0,l=0,n1=0,n2=0,LogPval=nan\n",
      "m=334,l=2,n1=3,n2=3,LogPval=-0.026143\n",
      "m=0,l=0,n1=0,n2=0,LogPval=nan\n",
      "m=0,l=0,n1=0,n2=0,LogPval=nan\n",
      "m=0,l=0,n1=0,n2=0,LogPval=nan\n",
      "m=0,l=0,n1=0,n2=0,LogPval=nan\n",
      "m=0,l=0,n1=0,n2=0,LogPval=nan\n",
      "m=365,l=1,n1=2,n2=1,LogPval=-0.014265\n",
      "m=365,l=1,n1=2,n2=1,LogPval=-0.014265\n",
      "m=365,l=1,n1=2,n2=1,LogPval=-0.014265\n",
      "m=0,l=0,n1=0,n2=0,LogPval=nan\n",
      "m=365,l=1,n1=3,n2=1,LogPval=-0.013154\n",
      "22 m=365,l=1,n1=2,n2=1,LogPval=-0.014265\n",
      "m=365,l=1,n1=2,n2=1,LogPval=-0.014265\n",
      "m=0,l=0,n1=0,n2=0,LogPval=nan\n",
      "m=0,l=0,n1=0,n2=0,LogPval=nan\n",
      "m=337,l=0,n1=1,n2=2,LogPval=-0.000018\n",
      "m=0,l=0,n1=0,n2=0,LogPval=nan\n",
      "m=365,l=1,n1=2,n2=1,LogPval=-0.014265\n",
      "m=0,l=0,n1=0,n2=0,LogPval=nan\n",
      "m=0,l=0,n1=0,n2=0,LogPval=nan\n",
      "m=728,l=2,n1=3,n2=5,LogPval=-0.012485\n",
      "m=364,l=0,n1=1,n2=1,LogPval=-0.000008\n",
      "m=0,l=0,n1=0,n2=0,LogPval=nan\n",
      "m=0,l=0,n1=0,n2=0,LogPval=nan\n",
      "m=364,l=0,n1=1,n2=1,LogPval=-0.000008\n",
      "m=0,l=0,n1=0,n2=0,LogPval=nan\n",
      "m=0,l=0,n1=0,n2=0,LogPval=nan\n",
      "m=364,l=0,n1=1,n2=2,LogPval=-0.000015\n",
      "m=0,l=0,n1=0,n2=0,LogPval=nan\n",
      "m=728,l=2,n1=2,n2=3,LogPval=-0.015642\n",
      "m=337,l=0,n1=1,n2=1,LogPval=-0.000009\n",
      "m=729,l=2,n1=3,n2=3,LogPval=-0.014119\n",
      "m=365,l=2,n1=2,n2=2,LogPval=-0.030422\n",
      "m=364,l=1,n1=1,n2=2,LogPval=-0.014297\n",
      "m=363,l=1,n1=2,n2=1,LogPval=-0.014329\n",
      "m=365,l=1,n1=2,n2=1,LogPval=-0.014265\n",
      "m=0,l=0,n1=0,n2=0,LogPval=nan\n",
      "m=364,l=0,n1=1,n2=2,LogPval=-0.000015\n",
      "m=0,l=0,n1=0,n2=0,LogPval=nan\n",
      "m=0,l=0,n1=0,n2=0,LogPval=nan\n",
      "m=364,l=0,n1=1,n2=3,LogPval=-0.000023\n",
      "m=0,l=0,n1=0,n2=0,LogPval=nan\n",
      "m=0,l=0,n1=0,n2=0,LogPval=nan\n",
      "m=365,l=1,n1=2,n2=1,LogPval=-0.014265\n",
      "m=365,l=1,n1=2,n2=1,LogPval=-0.014265\n",
      "m=365,l=1,n1=2,n2=1,LogPval=-0.014265\n",
      "m=0,l=0,n1=0,n2=0,LogPval=nan\n",
      "m=0,l=0,n1=0,n2=0,LogPval=nan\n",
      "23 m=728,l=0,n1=3,n2=1,LogPval=-0.000006\n",
      "m=364,l=0,n1=1,n2=1,LogPval=-0.000008\n",
      "m=363,l=0,n1=1,n2=1,LogPval=-0.000008\n",
      "m=365,l=0,n1=2,n2=2,LogPval=-0.000030\n",
      "m=702,l=1,n1=3,n2=4,LogPval=-0.005809\n",
      "m=365,l=0,n1=2,n2=1,LogPval=-0.000015\n",
      "m=0,l=0,n1=0,n2=0,LogPval=nan\n",
      "m=1093,l=0,n1=5,n2=3,LogPval=-0.000013\n",
      "m=729,l=1,n1=3,n2=2,LogPval=-0.006588\n",
      "m=365,l=2,n1=2,n2=3,LogPval=-0.027412\n",
      "m=365,l=1,n1=2,n2=1,LogPval=-0.014265\n",
      "m=364,l=0,n1=1,n2=1,LogPval=-0.000008\n",
      "m=1427,l=3,n1=4,n2=4,LogPval=-0.012070\n",
      "m=730,l=2,n1=4,n2=3,LogPval=-0.013156\n",
      "m=365,l=0,n1=2,n2=1,LogPval=-0.000015\n",
      "m=728,l=0,n1=2,n2=3,LogPval=-0.000011\n",
      "m=1095,l=1,n1=5,n2=4,LogPval=-0.003666\n",
      "m=364,l=1,n1=2,n2=2,LogPval=-0.012400\n",
      "m=2189,l=7,n1=11,n2=10,LogPval=-0.015862\n",
      "m=333,l=0,n1=2,n2=1,LogPval=-0.000018\n",
      "m=1062,l=2,n1=4,n2=5,LogPval=-0.008619\n",
      "m=365,l=1,n1=1,n2=3,LogPval=-0.013154\n",
      "m=364,l=1,n1=2,n2=1,LogPval=-0.014297\n",
      "m=0,l=0,n1=0,n2=0,LogPval=nan\n",
      "m=362,l=0,n1=1,n2=2,LogPval=-0.000015\n",
      "m=365,l=0,n1=2,n2=1,LogPval=-0.000015\n",
      "m=2520,l=5,n1=10,n2=10,LogPval=-0.009254\n",
      "m=0,l=0,n1=0,n2=0,LogPval=nan\n",
      "m=727,l=2,n1=3,n2=2,LogPval=-0.015660\n",
      "m=1093,l=2,n1=5,n2=5,LogPval=-0.007962\n",
      "m=697,l=1,n1=4,n2=1,LogPval=-0.007404\n",
      "m=364,l=0,n1=1,n2=2,LogPval=-0.000015\n",
      "m=0,l=0,n1=0,n2=0,LogPval=nan\n",
      "m=0,l=0,n1=0,n2=0,LogPval=nan\n",
      "m=0,l=0,n1=0,n2=0,LogPval=nan\n",
      "m=364,l=0,n1=1,n2=2,LogPval=-0.000015\n",
      "m=1093,l=0,n1=4,n2=2,LogPval=-0.000007\n",
      "24 m=363,l=1,n1=1,n2=1,LogPval=-0.016238\n",
      "m=363,l=1,n1=1,n2=1,LogPval=-0.016238\n",
      "m=0,l=0,n1=0,n2=0,LogPval=nan\n",
      "m=0,l=0,n1=0,n2=0,LogPval=nan\n",
      "m=0,l=0,n1=0,n2=0,LogPval=nan\n",
      "m=0,l=0,n1=0,n2=0,LogPval=nan\n",
      "m=363,l=0,n1=1,n2=1,LogPval=-0.000008\n",
      "m=0,l=0,n1=0,n2=0,LogPval=nan\n",
      "m=0,l=0,n1=0,n2=0,LogPval=nan\n",
      "m=362,l=1,n1=1,n2=2,LogPval=-0.014360\n",
      "m=0,l=0,n1=0,n2=0,LogPval=nan\n",
      "m=0,l=0,n1=0,n2=0,LogPval=nan\n",
      "m=0,l=0,n1=0,n2=0,LogPval=nan\n",
      "m=0,l=0,n1=0,n2=0,LogPval=nan\n",
      "m=0,l=0,n1=0,n2=0,LogPval=nan\n",
      "m=0,l=0,n1=0,n2=0,LogPval=nan\n",
      "m=0,l=0,n1=0,n2=0,LogPval=nan\n",
      "m=0,l=0,n1=0,n2=0,LogPval=nan\n",
      "m=362,l=1,n1=1,n2=1,LogPval=-0.016275\n",
      "m=335,l=0,n1=0,n2=1,LogPval=-0.000000\n",
      "m=363,l=0,n1=1,n2=1,LogPval=-0.000008\n",
      "m=363,l=1,n1=1,n2=2,LogPval=-0.014329\n",
      "m=363,l=1,n1=1,n2=2,LogPval=-0.014329\n",
      "m=0,l=0,n1=0,n2=0,LogPval=nan\n",
      "m=363,l=1,n1=1,n2=1,LogPval=-0.016238\n",
      "m=0,l=0,n1=0,n2=0,LogPval=nan\n",
      "m=0,l=0,n1=0,n2=0,LogPval=nan\n",
      "m=0,l=0,n1=0,n2=0,LogPval=nan\n",
      "m=0,l=0,n1=0,n2=0,LogPval=nan\n",
      "m=0,l=0,n1=0,n2=0,LogPval=nan\n",
      "m=0,l=0,n1=0,n2=0,LogPval=nan\n",
      "m=0,l=0,n1=0,n2=0,LogPval=nan\n",
      "m=363,l=1,n1=1,n2=1,LogPval=-0.016238\n",
      "m=363,l=1,n1=1,n2=1,LogPval=-0.016238\n",
      "m=363,l=1,n1=1,n2=1,LogPval=-0.016238\n",
      "m=0,l=0,n1=0,n2=0,LogPval=nan\n",
      "m=0,l=0,n1=0,n2=0,LogPval=nan\n",
      "25 m=728,l=1,n1=3,n2=1,LogPval=-0.007544\n",
      "m=728,l=1,n1=3,n2=1,LogPval=-0.007544\n",
      "m=362,l=0,n1=2,n2=0,LogPval=0.000000\n",
      "m=0,l=0,n1=0,n2=0,LogPval=nan\n",
      "m=0,l=0,n1=0,n2=0,LogPval=nan\n",
      "m=0,l=0,n1=0,n2=0,LogPval=nan\n",
      "m=365,l=0,n1=1,n2=1,LogPval=-0.000008\n",
      "m=363,l=0,n1=2,n2=1,LogPval=-0.000015\n",
      "m=0,l=0,n1=0,n2=0,LogPval=nan\n",
      "m=364,l=1,n1=1,n2=2,LogPval=-0.014297\n",
      "m=0,l=0,n1=0,n2=0,LogPval=nan\n",
      "m=363,l=0,n1=2,n2=0,LogPval=0.000000\n",
      "m=363,l=0,n1=2,n2=1,LogPval=-0.000015\n",
      "m=0,l=0,n1=0,n2=0,LogPval=nan\n",
      "m=0,l=0,n1=0,n2=0,LogPval=nan\n",
      "m=362,l=0,n1=2,n2=0,LogPval=0.000000\n",
      "m=0,l=0,n1=0,n2=0,LogPval=nan\n",
      "m=0,l=0,n1=0,n2=0,LogPval=nan\n",
      "m=364,l=1,n1=1,n2=1,LogPval=-0.016201\n",
      "m=337,l=0,n1=0,n2=1,LogPval=0.000000\n",
      "m=727,l=0,n1=3,n2=1,LogPval=-0.000006\n",
      "m=365,l=1,n1=1,n2=2,LogPval=-0.014265\n",
      "m=365,l=1,n1=1,n2=2,LogPval=-0.014265\n",
      "m=362,l=0,n1=2,n2=1,LogPval=-0.000015\n",
      "m=363,l=1,n1=1,n2=1,LogPval=-0.016238\n",
      "m=0,l=0,n1=0,n2=0,LogPval=nan\n",
      "m=362,l=0,n1=2,n2=1,LogPval=-0.000015\n",
      "m=0,l=0,n1=0,n2=0,LogPval=nan\n",
      "m=363,l=0,n1=2,n2=1,LogPval=-0.000015\n",
      "m=363,l=0,n1=2,n2=1,LogPval=-0.000015\n",
      "m=0,l=0,n1=0,n2=0,LogPval=nan\n",
      "m=363,l=0,n1=2,n2=0,LogPval=0.000000\n",
      "m=365,l=1,n1=1,n2=1,LogPval=-0.016164\n",
      "m=365,l=1,n1=1,n2=1,LogPval=-0.016164\n",
      "m=365,l=1,n1=1,n2=1,LogPval=-0.016164\n",
      "m=363,l=0,n1=2,n2=1,LogPval=-0.000015\n",
      "m=363,l=0,n1=2,n2=0,LogPval=0.000000\n",
      "26 m=0,l=0,n1=0,n2=0,LogPval=nan\n",
      "m=0,l=0,n1=0,n2=0,LogPval=nan\n",
      "m=0,l=0,n1=0,n2=0,LogPval=nan\n",
      "m=365,l=1,n1=1,n2=2,LogPval=-0.014265\n",
      "m=0,l=0,n1=0,n2=0,LogPval=nan\n",
      "m=365,l=1,n1=1,n2=1,LogPval=-0.016164\n",
      "m=0,l=0,n1=0,n2=0,LogPval=nan\n",
      "m=365,l=1,n1=1,n2=1,LogPval=-0.016164\n",
      "m=0,l=0,n1=0,n2=0,LogPval=nan\n",
      "m=0,l=0,n1=0,n2=0,LogPval=nan\n",
      "m=0,l=0,n1=0,n2=0,LogPval=nan\n",
      "m=0,l=0,n1=0,n2=0,LogPval=nan\n",
      "m=0,l=0,n1=0,n2=0,LogPval=nan\n",
      "m=0,l=0,n1=0,n2=0,LogPval=nan\n",
      "m=365,l=1,n1=1,n2=1,LogPval=-0.016164\n",
      "m=365,l=1,n1=1,n2=1,LogPval=-0.016164\n",
      "m=0,l=0,n1=0,n2=0,LogPval=nan\n",
      "m=364,l=1,n1=1,n2=2,LogPval=-0.014297\n",
      "m=365,l=1,n1=1,n2=3,LogPval=-0.013154\n",
      "m=0,l=0,n1=0,n2=0,LogPval=nan\n",
      "m=0,l=0,n1=0,n2=0,LogPval=nan\n",
      "m=0,l=0,n1=0,n2=0,LogPval=nan\n",
      "m=0,l=0,n1=0,n2=0,LogPval=nan\n",
      "m=365,l=0,n1=1,n2=2,LogPval=-0.000015\n",
      "m=0,l=0,n1=0,n2=0,LogPval=nan\n",
      "m=0,l=0,n1=0,n2=0,LogPval=nan\n",
      "m=365,l=1,n1=1,n2=1,LogPval=-0.016164\n",
      "m=0,l=0,n1=0,n2=0,LogPval=nan\n",
      "m=0,l=0,n1=0,n2=0,LogPval=nan\n"
     ]
    },
    {
     "name": "stdout",
     "output_type": "stream",
     "text": [
      "m=0,l=0,n1=0,n2=0,LogPval=nan\n",
      "m=0,l=0,n1=0,n2=0,LogPval=nan\n",
      "m=0,l=0,n1=0,n2=0,LogPval=nan\n",
      "m=0,l=0,n1=0,n2=0,LogPval=nan\n",
      "m=0,l=0,n1=0,n2=0,LogPval=nan\n",
      "m=0,l=0,n1=0,n2=0,LogPval=nan\n",
      "m=0,l=0,n1=0,n2=0,LogPval=nan\n",
      "m=0,l=0,n1=0,n2=0,LogPval=nan\n",
      "27 m=364,l=0,n1=1,n2=1,LogPval=-0.000008\n",
      "m=364,l=0,n1=1,n2=1,LogPval=-0.000008\n",
      "m=363,l=0,n1=1,n2=1,LogPval=-0.000008\n",
      "m=365,l=1,n1=1,n2=2,LogPval=-0.014265\n",
      "m=671,l=3,n1=5,n2=4,LogPval=-0.020930\n",
      "m=365,l=1,n1=1,n2=1,LogPval=-0.016164\n",
      "m=0,l=0,n1=0,n2=0,LogPval=nan\n",
      "m=729,l=1,n1=2,n2=3,LogPval=-0.006588\n",
      "m=698,l=0,n1=4,n2=2,LogPval=-0.000016\n",
      "m=365,l=2,n1=2,n2=3,LogPval=-0.027412\n",
      "m=365,l=1,n1=2,n2=1,LogPval=-0.014265\n",
      "m=364,l=0,n1=1,n2=1,LogPval=-0.000008\n",
      "m=1421,l=2,n1=4,n2=4,LogPval=-0.007209\n",
      "m=730,l=1,n1=3,n2=3,LogPval=-0.006029\n",
      "m=365,l=1,n1=1,n2=1,LogPval=-0.016164\n",
      "m=728,l=1,n1=1,n2=3,LogPval=-0.007544\n",
      "m=1095,l=3,n1=4,n2=4,LogPval=-0.015004\n",
      "m=364,l=1,n1=1,n2=2,LogPval=-0.014297\n",
      "m=1458,l=4,n1=5,n2=7,LogPval=-0.014262\n",
      "m=0,l=0,n1=0,n2=0,LogPval=nan\n",
      "m=1396,l=2,n1=7,n2=6,LogPval=-0.005767\n",
      "m=334,l=2,n1=3,n2=3,LogPval=-0.026143\n",
      "m=364,l=0,n1=2,n2=1,LogPval=-0.000015\n",
      "m=2520,l=5,n1=10,n2=10,LogPval=-0.009254\n",
      "m=0,l=0,n1=0,n2=0,LogPval=nan\n",
      "m=362,l=0,n1=1,n2=2,LogPval=-0.000015\n",
      "m=365,l=1,n1=1,n2=1,LogPval=-0.016164\n",
      "m=365,l=0,n1=1,n2=1,LogPval=-0.000008\n",
      "m=726,l=2,n1=2,n2=2,LogPval=-0.017191\n",
      "m=729,l=3,n1=3,n2=5,LogPval=-0.021504\n",
      "m=363,l=1,n1=1,n2=1,LogPval=-0.016238\n",
      "m=364,l=0,n1=1,n2=2,LogPval=-0.000015\n",
      "m=0,l=0,n1=0,n2=0,LogPval=nan\n",
      "m=0,l=0,n1=0,n2=0,LogPval=nan\n",
      "m=0,l=0,n1=0,n2=0,LogPval=nan\n",
      "m=364,l=0,n1=1,n2=2,LogPval=-0.000015\n",
      "m=698,l=0,n1=4,n2=2,LogPval=-0.000016\n",
      "28 m=0,l=0,n1=0,n2=0,LogPval=nan\n",
      "m=0,l=0,n1=0,n2=0,LogPval=nan\n",
      "m=0,l=0,n1=0,n2=0,LogPval=nan\n",
      "m=0,l=0,n1=0,n2=0,LogPval=nan\n",
      "m=0,l=0,n1=0,n2=0,LogPval=nan\n",
      "m=0,l=0,n1=0,n2=0,LogPval=nan\n",
      "m=0,l=0,n1=0,n2=0,LogPval=nan\n",
      "m=0,l=0,n1=0,n2=0,LogPval=nan\n",
      "m=365,l=0,n1=1,n2=1,LogPval=-0.000008\n",
      "m=0,l=0,n1=0,n2=0,LogPval=nan\n",
      "m=0,l=0,n1=0,n2=0,LogPval=nan\n",
      "m=0,l=0,n1=0,n2=0,LogPval=nan\n",
      "m=365,l=1,n1=1,n2=1,LogPval=-0.016164\n",
      "m=364,l=1,n1=1,n2=1,LogPval=-0.016201\n",
      "m=0,l=0,n1=0,n2=0,LogPval=nan\n",
      "m=0,l=0,n1=0,n2=0,LogPval=nan\n",
      "m=0,l=0,n1=0,n2=0,LogPval=nan\n",
      "m=0,l=0,n1=0,n2=0,LogPval=nan\n",
      "m=0,l=0,n1=0,n2=0,LogPval=nan\n",
      "m=0,l=0,n1=0,n2=0,LogPval=nan\n",
      "m=0,l=0,n1=0,n2=0,LogPval=nan\n",
      "m=0,l=0,n1=0,n2=0,LogPval=nan\n",
      "m=0,l=0,n1=0,n2=0,LogPval=nan\n",
      "m=0,l=0,n1=0,n2=0,LogPval=nan\n",
      "m=0,l=0,n1=0,n2=0,LogPval=nan\n",
      "m=0,l=0,n1=0,n2=0,LogPval=nan\n",
      "m=0,l=0,n1=0,n2=0,LogPval=nan\n",
      "m=365,l=0,n1=1,n2=1,LogPval=-0.000008\n",
      "m=0,l=0,n1=0,n2=0,LogPval=nan\n",
      "m=0,l=0,n1=0,n2=0,LogPval=nan\n",
      "m=0,l=0,n1=0,n2=0,LogPval=nan\n",
      "m=0,l=0,n1=0,n2=0,LogPval=nan\n",
      "m=0,l=0,n1=0,n2=0,LogPval=nan\n",
      "m=0,l=0,n1=0,n2=0,LogPval=nan\n",
      "m=0,l=0,n1=0,n2=0,LogPval=nan\n",
      "m=0,l=0,n1=0,n2=0,LogPval=nan\n",
      "m=0,l=0,n1=0,n2=0,LogPval=nan\n",
      "29 m=364,l=0,n1=1,n2=1,LogPval=-0.000008\n",
      "m=364,l=0,n1=1,n2=1,LogPval=-0.000008\n",
      "m=363,l=0,n1=1,n2=1,LogPval=-0.000008\n",
      "m=0,l=0,n1=0,n2=0,LogPval=nan\n",
      "m=0,l=0,n1=0,n2=0,LogPval=nan\n",
      "m=0,l=0,n1=0,n2=0,LogPval=nan\n",
      "m=0,l=0,n1=0,n2=0,LogPval=nan\n",
      "m=364,l=0,n1=1,n2=2,LogPval=-0.000015\n",
      "m=0,l=0,n1=0,n2=0,LogPval=nan\n",
      "m=0,l=0,n1=0,n2=0,LogPval=nan\n",
      "m=0,l=0,n1=0,n2=0,LogPval=nan\n",
      "m=364,l=0,n1=1,n2=1,LogPval=-0.000008\n",
      "m=729,l=2,n1=2,n2=2,LogPval=-0.017131\n",
      "m=0,l=0,n1=0,n2=0,LogPval=nan\n",
      "m=0,l=0,n1=0,n2=0,LogPval=nan\n",
      "m=363,l=0,n1=0,n2=1,LogPval=0.000000\n",
      "m=0,l=0,n1=0,n2=0,LogPval=nan\n",
      "m=0,l=0,n1=0,n2=0,LogPval=nan\n",
      "m=364,l=1,n1=1,n2=1,LogPval=-0.016201\n",
      "m=0,l=0,n1=0,n2=0,LogPval=nan\n",
      "m=363,l=0,n1=1,n2=0,LogPval=0.000000\n",
      "m=0,l=0,n1=0,n2=0,LogPval=nan\n",
      "m=0,l=0,n1=0,n2=0,LogPval=nan\n",
      "m=727,l=2,n1=2,n2=3,LogPval=-0.015660\n",
      "m=0,l=0,n1=0,n2=0,LogPval=nan\n",
      "m=363,l=0,n1=1,n2=2,LogPval=-0.000015\n",
      "m=0,l=0,n1=0,n2=0,LogPval=nan\n",
      "m=726,l=2,n1=2,n2=2,LogPval=-0.017191\n",
      "m=0,l=0,n1=0,n2=0,LogPval=nan\n",
      "m=364,l=1,n1=1,n2=2,LogPval=-0.014297\n",
      "m=365,l=1,n1=1,n2=1,LogPval=-0.016164\n",
      "m=364,l=0,n1=1,n2=1,LogPval=-0.000008\n",
      "m=0,l=0,n1=0,n2=0,LogPval=nan\n",
      "m=0,l=0,n1=0,n2=0,LogPval=nan\n",
      "m=0,l=0,n1=0,n2=0,LogPval=nan\n",
      "m=364,l=0,n1=1,n2=2,LogPval=-0.000015\n",
      "m=364,l=0,n1=1,n2=1,LogPval=-0.000008\n",
      "30 m=730,l=2,n1=3,n2=2,LogPval=-0.015607\n",
      "m=365,l=1,n1=2,n2=1,LogPval=-0.014265\n",
      "m=364,l=1,n1=2,n2=1,LogPval=-0.014297\n",
      "m=0,l=0,n1=0,n2=0,LogPval=nan\n",
      "m=337,l=2,n1=2,n2=2,LogPval=-0.032475\n",
      "m=0,l=0,n1=0,n2=0,LogPval=nan\n",
      "m=0,l=0,n1=0,n2=0,LogPval=nan\n",
      "m=730,l=2,n1=3,n2=3,LogPval=-0.014104\n",
      "m=365,l=1,n1=1,n2=2,LogPval=-0.014265\n",
      "m=365,l=2,n1=3,n2=3,LogPval=-0.024409\n",
      "m=365,l=1,n1=3,n2=1,LogPval=-0.013154\n",
      "m=365,l=1,n1=2,n2=1,LogPval=-0.014265\n",
      "m=365,l=1,n1=2,n2=1,LogPval=-0.014265\n",
      "m=365,l=1,n1=3,n2=1,LogPval=-0.013154\n",
      "m=0,l=0,n1=0,n2=0,LogPval=nan\n",
      "m=364,l=1,n1=1,n2=2,LogPval=-0.014297\n",
      "m=365,l=2,n1=3,n2=2,LogPval=-0.027412\n",
      "m=0,l=0,n1=0,n2=0,LogPval=nan\n",
      "m=365,l=1,n1=3,n2=2,LogPval=-0.011270\n",
      "m=334,l=1,n1=1,n2=2,LogPval=-0.015323\n",
      "m=729,l=1,n1=5,n2=3,LogPval=-0.005342\n",
      "m=0,l=0,n1=0,n2=0,LogPval=nan\n",
      "m=364,l=0,n1=3,n2=1,LogPval=-0.000023\n",
      "m=1093,l=2,n1=5,n2=5,LogPval=-0.007962\n",
      "m=0,l=0,n1=0,n2=0,LogPval=nan\n",
      "m=363,l=0,n1=1,n2=2,LogPval=-0.000015\n",
      "m=0,l=0,n1=0,n2=0,LogPval=nan\n",
      "m=729,l=3,n1=5,n2=3,LogPval=-0.021504\n",
      "m=0,l=0,n1=0,n2=0,LogPval=nan\n",
      "m=364,l=1,n1=2,n2=1,LogPval=-0.014297\n",
      "m=334,l=1,n1=1,n2=1,LogPval=-0.017399\n",
      "m=365,l=1,n1=2,n2=2,LogPval=-0.012374\n",
      "m=0,l=0,n1=0,n2=0,LogPval=nan\n",
      "m=0,l=0,n1=0,n2=0,LogPval=nan\n",
      "m=0,l=0,n1=0,n2=0,LogPval=nan\n",
      "m=365,l=1,n1=2,n2=2,LogPval=-0.012374\n",
      "m=730,l=2,n1=3,n2=2,LogPval=-0.015607\n",
      "31 m=334,l=1,n1=1,n2=1,LogPval=-0.017399\n",
      "m=0,l=0,n1=0,n2=0,LogPval=nan\n",
      "m=0,l=0,n1=0,n2=0,LogPval=nan\n",
      "m=0,l=0,n1=0,n2=0,LogPval=nan\n",
      "m=0,l=0,n1=0,n2=0,LogPval=nan\n",
      "m=0,l=0,n1=0,n2=0,LogPval=nan\n",
      "m=0,l=0,n1=0,n2=0,LogPval=nan\n",
      "m=334,l=1,n1=1,n2=1,LogPval=-0.017399\n",
      "m=334,l=1,n1=1,n2=2,LogPval=-0.015323\n",
      "m=0,l=0,n1=0,n2=0,LogPval=nan\n",
      "m=0,l=0,n1=0,n2=0,LogPval=nan\n",
      "m=0,l=0,n1=0,n2=0,LogPval=nan\n",
      "m=365,l=1,n1=1,n2=1,LogPval=-0.016164\n",
      "m=0,l=0,n1=0,n2=0,LogPval=nan\n",
      "m=0,l=0,n1=0,n2=0,LogPval=nan\n",
      "m=0,l=0,n1=0,n2=0,LogPval=nan\n",
      "m=0,l=0,n1=0,n2=0,LogPval=nan\n",
      "m=0,l=0,n1=0,n2=0,LogPval=nan\n",
      "m=364,l=1,n1=1,n2=1,LogPval=-0.016201\n",
      "m=334,l=1,n1=1,n2=2,LogPval=-0.015323\n",
      "m=0,l=0,n1=0,n2=0,LogPval=nan\n",
      "m=0,l=0,n1=0,n2=0,LogPval=nan\n",
      "m=0,l=0,n1=0,n2=0,LogPval=nan\n",
      "m=697,l=1,n1=1,n2=4,LogPval=-0.007404\n",
      "m=0,l=0,n1=0,n2=0,LogPval=nan\n",
      "m=0,l=0,n1=0,n2=0,LogPval=nan\n",
      "m=0,l=0,n1=0,n2=0,LogPval=nan\n",
      "m=363,l=1,n1=1,n2=1,LogPval=-0.016238\n",
      "m=0,l=0,n1=0,n2=0,LogPval=nan\n",
      "m=365,l=1,n1=1,n2=1,LogPval=-0.016164\n",
      "m=334,l=1,n1=1,n2=1,LogPval=-0.017399\n",
      "m=0,l=0,n1=0,n2=0,LogPval=nan\n",
      "m=0,l=0,n1=0,n2=0,LogPval=nan\n",
      "m=0,l=0,n1=0,n2=0,LogPval=nan\n",
      "m=0,l=0,n1=0,n2=0,LogPval=nan\n",
      "m=0,l=0,n1=0,n2=0,LogPval=nan\n",
      "m=334,l=1,n1=1,n2=1,LogPval=-0.017399\n",
      "32 m=365,l=1,n1=2,n2=1,LogPval=-0.014265\n",
      "m=365,l=1,n1=2,n2=1,LogPval=-0.014265\n",
      "m=364,l=1,n1=2,n2=1,LogPval=-0.014297\n",
      "m=0,l=0,n1=0,n2=0,LogPval=nan\n",
      "m=0,l=0,n1=0,n2=0,LogPval=nan\n",
      "m=0,l=0,n1=0,n2=0,LogPval=nan\n",
      "m=0,l=0,n1=0,n2=0,LogPval=nan\n",
      "m=365,l=1,n1=2,n2=2,LogPval=-0.012374\n",
      "m=0,l=0,n1=0,n2=0,LogPval=nan\n",
      "m=0,l=0,n1=0,n2=0,LogPval=nan\n",
      "m=0,l=0,n1=0,n2=0,LogPval=nan\n",
      "m=365,l=1,n1=2,n2=1,LogPval=-0.014265\n",
      "m=365,l=0,n1=2,n2=1,LogPval=-0.000015\n",
      "m=0,l=0,n1=0,n2=0,LogPval=nan\n",
      "m=0,l=0,n1=0,n2=0,LogPval=nan\n",
      "m=364,l=2,n1=2,n2=2,LogPval=-0.030490\n",
      "m=0,l=0,n1=0,n2=0,LogPval=nan\n",
      "m=0,l=0,n1=0,n2=0,LogPval=nan\n",
      "m=0,l=0,n1=0,n2=0,LogPval=nan\n",
      "m=0,l=0,n1=0,n2=0,LogPval=nan\n",
      "m=364,l=1,n1=2,n2=1,LogPval=-0.014297\n",
      "m=0,l=0,n1=0,n2=0,LogPval=nan\n",
      "m=0,l=0,n1=0,n2=0,LogPval=nan\n",
      "m=364,l=0,n1=2,n2=1,LogPval=-0.000015\n",
      "m=0,l=0,n1=0,n2=0,LogPval=nan\n",
      "m=363,l=0,n1=0,n2=2,LogPval=0.000000\n",
      "m=0,l=0,n1=0,n2=0,LogPval=nan\n",
      "m=364,l=0,n1=2,n2=1,LogPval=-0.000015\n",
      "m=0,l=0,n1=0,n2=0,LogPval=nan\n",
      "m=364,l=0,n1=1,n2=1,LogPval=-0.000008\n",
      "m=365,l=1,n1=2,n2=2,LogPval=-0.012374\n",
      "m=0,l=0,n1=0,n2=0,LogPval=nan\n",
      "m=0,l=0,n1=0,n2=0,LogPval=nan\n",
      "m=0,l=0,n1=0,n2=0,LogPval=nan\n",
      "m=0,l=0,n1=0,n2=0,LogPval=nan\n",
      "m=365,l=1,n1=2,n2=2,LogPval=-0.012374\n",
      "m=365,l=1,n1=2,n2=1,LogPval=-0.014265\n",
      "33 m=365,l=1,n1=1,n2=1,LogPval=-0.016164\n",
      "m=365,l=1,n1=1,n2=1,LogPval=-0.016164\n",
      "m=0,l=0,n1=0,n2=0,LogPval=nan\n",
      "m=0,l=0,n1=0,n2=0,LogPval=nan\n",
      "m=0,l=0,n1=0,n2=0,LogPval=nan\n",
      "m=0,l=0,n1=0,n2=0,LogPval=nan\n",
      "m=365,l=0,n1=1,n2=1,LogPval=-0.000008\n",
      "m=0,l=0,n1=0,n2=0,LogPval=nan\n",
      "m=0,l=0,n1=0,n2=0,LogPval=nan\n",
      "m=364,l=1,n1=1,n2=2,LogPval=-0.014297\n",
      "m=0,l=0,n1=0,n2=0,LogPval=nan\n",
      "m=0,l=0,n1=0,n2=0,LogPval=nan\n",
      "m=0,l=0,n1=0,n2=0,LogPval=nan\n",
      "m=0,l=0,n1=0,n2=0,LogPval=nan\n",
      "m=0,l=0,n1=0,n2=0,LogPval=nan\n",
      "m=0,l=0,n1=0,n2=0,LogPval=nan\n",
      "m=0,l=0,n1=0,n2=0,LogPval=nan\n",
      "m=0,l=0,n1=0,n2=0,LogPval=nan\n",
      "m=364,l=1,n1=1,n2=1,LogPval=-0.016201\n",
      "m=337,l=0,n1=0,n2=1,LogPval=0.000000\n",
      "m=365,l=0,n1=1,n2=1,LogPval=-0.000008\n",
      "m=365,l=1,n1=1,n2=2,LogPval=-0.014265\n",
      "m=365,l=1,n1=1,n2=2,LogPval=-0.014265\n",
      "m=0,l=0,n1=0,n2=0,LogPval=nan\n",
      "m=363,l=1,n1=1,n2=1,LogPval=-0.016238\n",
      "m=365,l=1,n1=1,n2=1,LogPval=-0.016164\n",
      "m=0,l=0,n1=0,n2=0,LogPval=nan\n",
      "m=0,l=0,n1=0,n2=0,LogPval=nan\n",
      "m=0,l=0,n1=0,n2=0,LogPval=nan\n",
      "m=0,l=0,n1=0,n2=0,LogPval=nan\n",
      "m=0,l=0,n1=0,n2=0,LogPval=nan\n",
      "m=0,l=0,n1=0,n2=0,LogPval=nan\n",
      "m=0,l=0,n1=0,n2=0,LogPval=nan\n",
      "m=365,l=1,n1=1,n2=1,LogPval=-0.016164\n",
      "m=365,l=1,n1=1,n2=1,LogPval=-0.016164\n",
      "m=0,l=0,n1=0,n2=0,LogPval=nan\n",
      "m=0,l=0,n1=0,n2=0,LogPval=nan\n",
      "34 m=365,l=1,n1=1,n2=1,LogPval=-0.016164\n",
      "m=365,l=1,n1=1,n2=1,LogPval=-0.016164\n",
      "m=0,l=0,n1=0,n2=0,LogPval=nan\n",
      "m=0,l=0,n1=0,n2=0,LogPval=nan\n",
      "m=0,l=0,n1=0,n2=0,LogPval=nan\n",
      "m=0,l=0,n1=0,n2=0,LogPval=nan\n",
      "m=365,l=0,n1=1,n2=1,LogPval=-0.000008\n",
      "m=0,l=0,n1=0,n2=0,LogPval=nan\n",
      "m=0,l=0,n1=0,n2=0,LogPval=nan\n",
      "m=364,l=1,n1=1,n2=2,LogPval=-0.014297\n",
      "m=0,l=0,n1=0,n2=0,LogPval=nan\n",
      "m=0,l=0,n1=0,n2=0,LogPval=nan\n",
      "m=0,l=0,n1=0,n2=0,LogPval=nan\n",
      "m=0,l=0,n1=0,n2=0,LogPval=nan\n",
      "m=0,l=0,n1=0,n2=0,LogPval=nan\n",
      "m=0,l=0,n1=0,n2=0,LogPval=nan\n",
      "m=0,l=0,n1=0,n2=0,LogPval=nan\n",
      "m=0,l=0,n1=0,n2=0,LogPval=nan\n",
      "m=364,l=1,n1=1,n2=1,LogPval=-0.016201\n",
      "m=337,l=0,n1=0,n2=1,LogPval=0.000000\n",
      "m=365,l=0,n1=1,n2=1,LogPval=-0.000008\n",
      "m=365,l=1,n1=1,n2=2,LogPval=-0.014265\n",
      "m=365,l=1,n1=1,n2=2,LogPval=-0.014265\n",
      "m=0,l=0,n1=0,n2=0,LogPval=nan\n",
      "m=363,l=1,n1=1,n2=1,LogPval=-0.016238\n",
      "m=365,l=1,n1=1,n2=1,LogPval=-0.016164\n",
      "m=0,l=0,n1=0,n2=0,LogPval=nan\n",
      "m=0,l=0,n1=0,n2=0,LogPval=nan\n",
      "m=0,l=0,n1=0,n2=0,LogPval=nan\n",
      "m=0,l=0,n1=0,n2=0,LogPval=nan\n",
      "m=0,l=0,n1=0,n2=0,LogPval=nan\n",
      "m=0,l=0,n1=0,n2=0,LogPval=nan\n",
      "m=0,l=0,n1=0,n2=0,LogPval=nan\n",
      "m=365,l=1,n1=1,n2=1,LogPval=-0.016164\n",
      "m=365,l=1,n1=1,n2=1,LogPval=-0.016164\n",
      "m=0,l=0,n1=0,n2=0,LogPval=nan\n",
      "m=0,l=0,n1=0,n2=0,LogPval=nan\n",
      "35 m=365,l=1,n1=1,n2=1,LogPval=-0.016164\n",
      "m=365,l=1,n1=1,n2=1,LogPval=-0.016164\n",
      "m=0,l=0,n1=0,n2=0,LogPval=nan\n",
      "m=0,l=0,n1=0,n2=0,LogPval=nan\n",
      "m=0,l=0,n1=0,n2=0,LogPval=nan\n",
      "m=0,l=0,n1=0,n2=0,LogPval=nan\n",
      "m=365,l=0,n1=1,n2=1,LogPval=-0.000008\n",
      "m=0,l=0,n1=0,n2=0,LogPval=nan\n",
      "m=0,l=0,n1=0,n2=0,LogPval=nan\n",
      "m=364,l=1,n1=1,n2=2,LogPval=-0.014297\n",
      "m=0,l=0,n1=0,n2=0,LogPval=nan\n",
      "m=0,l=0,n1=0,n2=0,LogPval=nan\n",
      "m=0,l=0,n1=0,n2=0,LogPval=nan\n",
      "m=0,l=0,n1=0,n2=0,LogPval=nan\n",
      "m=0,l=0,n1=0,n2=0,LogPval=nan\n",
      "m=0,l=0,n1=0,n2=0,LogPval=nan\n",
      "m=0,l=0,n1=0,n2=0,LogPval=nan\n",
      "m=0,l=0,n1=0,n2=0,LogPval=nan\n",
      "m=364,l=1,n1=1,n2=1,LogPval=-0.016201\n",
      "m=337,l=0,n1=0,n2=1,LogPval=0.000000\n",
      "m=365,l=0,n1=1,n2=1,LogPval=-0.000008\n",
      "m=365,l=1,n1=1,n2=2,LogPval=-0.014265\n",
      "m=365,l=1,n1=1,n2=2,LogPval=-0.014265\n",
      "m=0,l=0,n1=0,n2=0,LogPval=nan\n",
      "m=363,l=1,n1=1,n2=1,LogPval=-0.016238\n",
      "m=365,l=1,n1=1,n2=1,LogPval=-0.016164\n",
      "m=0,l=0,n1=0,n2=0,LogPval=nan\n",
      "m=0,l=0,n1=0,n2=0,LogPval=nan\n",
      "m=0,l=0,n1=0,n2=0,LogPval=nan\n",
      "m=0,l=0,n1=0,n2=0,LogPval=nan\n",
      "m=0,l=0,n1=0,n2=0,LogPval=nan\n",
      "m=0,l=0,n1=0,n2=0,LogPval=nan\n",
      "m=0,l=0,n1=0,n2=0,LogPval=nan\n",
      "m=365,l=1,n1=1,n2=1,LogPval=-0.016164\n",
      "m=365,l=1,n1=1,n2=1,LogPval=-0.016164\n",
      "m=0,l=0,n1=0,n2=0,LogPval=nan\n",
      "m=0,l=0,n1=0,n2=0,LogPval=nan\n",
      "36 m=365,l=1,n1=2,n2=1,LogPval=-0.014265\n",
      "m=365,l=1,n1=2,n2=1,LogPval=-0.014265\n",
      "m=364,l=1,n1=2,n2=1,LogPval=-0.014297\n",
      "m=0,l=0,n1=0,n2=0,LogPval=nan\n",
      "m=0,l=0,n1=0,n2=0,LogPval=nan\n",
      "m=0,l=0,n1=0,n2=0,LogPval=nan\n",
      "m=0,l=0,n1=0,n2=0,LogPval=nan\n",
      "m=365,l=2,n1=2,n2=2,LogPval=-0.030422\n",
      "m=0,l=0,n1=0,n2=0,LogPval=nan\n",
      "m=0,l=0,n1=0,n2=0,LogPval=nan\n",
      "m=0,l=0,n1=0,n2=0,LogPval=nan\n",
      "m=365,l=1,n1=2,n2=1,LogPval=-0.014265\n",
      "m=365,l=0,n1=2,n2=1,LogPval=-0.000015\n",
      "m=0,l=0,n1=0,n2=0,LogPval=nan\n",
      "m=0,l=0,n1=0,n2=0,LogPval=nan\n",
      "m=364,l=1,n1=2,n2=2,LogPval=-0.012400\n",
      "m=0,l=0,n1=0,n2=0,LogPval=nan\n",
      "m=0,l=0,n1=0,n2=0,LogPval=nan\n",
      "m=0,l=0,n1=0,n2=0,LogPval=nan\n",
      "m=0,l=0,n1=0,n2=0,LogPval=nan\n",
      "m=364,l=0,n1=2,n2=1,LogPval=-0.000015\n",
      "m=0,l=0,n1=0,n2=0,LogPval=nan\n",
      "m=0,l=0,n1=0,n2=0,LogPval=nan\n",
      "m=364,l=0,n1=2,n2=1,LogPval=-0.000015\n",
      "m=0,l=0,n1=0,n2=0,LogPval=nan\n",
      "m=363,l=0,n1=1,n2=2,LogPval=-0.000015\n",
      "m=0,l=0,n1=0,n2=0,LogPval=nan\n",
      "m=364,l=0,n1=2,n2=1,LogPval=-0.000015\n",
      "m=0,l=0,n1=0,n2=0,LogPval=nan\n",
      "m=364,l=0,n1=2,n2=1,LogPval=-0.000015\n",
      "m=365,l=1,n1=2,n2=2,LogPval=-0.012374\n",
      "m=0,l=0,n1=0,n2=0,LogPval=nan\n",
      "m=365,l=1,n1=2,n2=2,LogPval=-0.012374\n",
      "m=0,l=0,n1=0,n2=0,LogPval=nan\n",
      "m=0,l=0,n1=0,n2=0,LogPval=nan\n",
      "m=0,l=0,n1=0,n2=0,LogPval=nan\n",
      "m=365,l=1,n1=2,n2=1,LogPval=-0.014265\n",
      "37 m=730,l=2,n1=2,n2=2,LogPval=-0.017112\n",
      "m=365,l=1,n1=1,n2=1,LogPval=-0.016164\n",
      "m=364,l=1,n1=1,n2=1,LogPval=-0.016201\n",
      "m=0,l=0,n1=0,n2=0,LogPval=nan\n",
      "m=365,l=0,n1=1,n2=2,LogPval=-0.000015\n",
      "m=0,l=0,n1=0,n2=0,LogPval=nan\n",
      "m=0,l=0,n1=0,n2=0,LogPval=nan\n",
      "m=730,l=2,n1=2,n2=3,LogPval=-0.015607\n",
      "m=730,l=2,n1=2,n2=3,LogPval=-0.015607\n",
      "m=0,l=0,n1=0,n2=0,LogPval=nan\n",
      "m=0,l=0,n1=0,n2=0,LogPval=nan\n",
      "m=365,l=1,n1=1,n2=1,LogPval=-0.016164\n",
      "m=727,l=0,n1=1,n2=2,LogPval=-0.000004\n",
      "m=0,l=0,n1=0,n2=0,LogPval=nan\n",
      "m=0,l=0,n1=0,n2=0,LogPval=nan\n",
      "m=364,l=1,n1=1,n2=2,LogPval=-0.014297\n",
      "m=0,l=0,n1=0,n2=0,LogPval=nan\n",
      "m=0,l=0,n1=0,n2=0,LogPval=nan\n",
      "m=0,l=0,n1=0,n2=0,LogPval=nan\n",
      "m=334,l=1,n1=1,n2=2,LogPval=-0.015323\n",
      "m=698,l=1,n1=2,n2=3,LogPval=-0.006819\n",
      "m=365,l=1,n1=1,n2=3,LogPval=-0.013154\n",
      "m=0,l=0,n1=0,n2=0,LogPval=nan\n",
      "m=1093,l=0,n1=2,n2=4,LogPval=-0.000007\n",
      "m=0,l=0,n1=0,n2=0,LogPval=nan\n",
      "m=363,l=0,n1=0,n2=2,LogPval=0.000000\n",
      "m=0,l=0,n1=0,n2=0,LogPval=nan\n",
      "m=698,l=0,n1=2,n2=4,LogPval=-0.000016\n",
      "m=0,l=0,n1=0,n2=0,LogPval=nan\n",
      "m=364,l=0,n1=1,n2=1,LogPval=-0.000008\n",
      "m=730,l=2,n1=2,n2=3,LogPval=-0.015607\n",
      "m=334,l=1,n1=1,n2=1,LogPval=-0.017399\n",
      "m=365,l=1,n1=1,n2=2,LogPval=-0.014265\n",
      "m=0,l=0,n1=0,n2=0,LogPval=nan\n",
      "m=0,l=0,n1=0,n2=0,LogPval=nan\n",
      "m=0,l=0,n1=0,n2=0,LogPval=nan\n",
      "m=365,l=1,n1=1,n2=2,LogPval=-0.014265\n"
     ]
    }
   ],
   "source": [
    "L=len(Stations)\n",
    "Pvals=np.zeros([L,L])\n",
    "Length=np.zeros([L,L])\n",
    "P_norm=np.zeros([L,L])\n",
    "for i in range(L):\n",
    "    print i,\n",
    "    for j in range(L):\n",
    "        if i==j: \n",
    "            P_norm[i,j]=-0.4\n",
    "            continue\n",
    "        X=copy(All[Stations[i]])\n",
    "        Y=copy(All[Stations[j]])\n",
    "        P_norm[i,j],Length[i,j]=computeLogProb(X,Y)\n",
    "        if Length[i,j]<200:\n",
    "            P_norm[i,j]=np.nan\n",
    "\n",
    "            "
   ]
  },
  {
   "cell_type": "code",
   "execution_count": 24,
   "metadata": {
    "run_control": {
     "frozen": false,
     "read_only": false
    }
   },
   "outputs": [
    {
     "name": "stdout",
     "output_type": "stream",
     "text": [
      "[[ 0.  0.]\n",
      " [ 0.  0.]]\n",
      "[[   0.  730.]\n",
      " [ 730.    0.]]\n",
      "[[-0.4        -0.01711174]\n",
      " [-0.01711174 -0.4       ]]\n"
     ]
    }
   ],
   "source": [
    "print Pvals[:2,:2]\n",
    "print Length[:2,:2]\n",
    "print P_norm[:2,:2]"
   ]
  },
  {
   "cell_type": "code",
   "execution_count": 25,
   "metadata": {
    "run_control": {
     "frozen": false,
     "read_only": false
    }
   },
   "outputs": [
    {
     "name": "stdout",
     "output_type": "stream",
     "text": [
      "(1444,) (692,)\n"
     ]
    },
    {
     "data": {
      "text/plain": [
       "<matplotlib.text.Text at 0x7fac4724c3d0>"
      ]
     },
     "execution_count": 25,
     "metadata": {},
     "output_type": "execute_result"
    },
    {
     "data": {
      "image/png": "[encoded data removed]",
      "text/plain": [
       "<matplotlib.figure.Figure at 0x7fac47225810>"
      ]
     },
     "metadata": {},
     "output_type": "display_data"
    }
   ],
   "source": [
    "A=P_norm.flatten();\n",
    "B=A[~isnan(A)]\n",
    "print A.shape,B.shape\n",
    "hist(-B,bins=100);\n",
    "xlabel('significance')"
   ]
  },
  {
   "cell_type": "code",
   "execution_count": 26,
   "metadata": {
    "collapsed": true
   },
   "outputs": [],
   "source": [
    "def showmat(mat):\n",
    "    fig,axes=plt.subplots(1,1,figsize=(10,10))\n",
    "    axes.imshow(mat, cmap=plt.cm.gray)"
   ]
  },
  {
   "cell_type": "code",
   "execution_count": 27,
   "metadata": {
    "run_control": {
     "frozen": false,
     "read_only": false
    }
   },
   "outputs": [
    {
     "data": {
      "image/png": "[encoded data removed]",
      "text/plain": [
       "<matplotlib.figure.Figure at 0x7fac47225750>"
      ]
     },
     "metadata": {},
     "output_type": "display_data"
    }
   ],
   "source": [
    "showmat(P_norm)"
   ]
  },
  {
   "cell_type": "markdown",
   "metadata": {},
   "source": [
    "### Finding structure in the rependency matrix.\n",
    "The matrix above shows, for each pair of stations, the normalized log probability that the overlap in rain days is random.\n",
    "\n",
    "We see immediately the first 8 stations are highly correlatedwith each other. \n",
    "\n",
    "To find more correlations we use SVD (the term PCA is reserved for decomposition of the covariance matrix). As we shall see that the top 10 eigenvectors explain about 80% of the square magnitude of the matrix."
   ]
  },
  {
   "cell_type": "code",
   "execution_count": 28,
   "metadata": {},
   "outputs": [
    {
     "name": "stdout",
     "output_type": "stream",
     "text": [
      "A group of very correlated stations is: [u'USC00092532', u'USC00098351', u'USC00094429', u'USC00092839', u'USC00095811', u'USC00090670', u'USC00093695', u'USW00013857']\n"
     ]
    }
   ],
   "source": [
    "print 'A group of very correlated stations is:',All.keys()[:8]"
   ]
  },
  {
   "cell_type": "code",
   "execution_count": 29,
   "metadata": {
    "run_control": {
     "frozen": false,
     "read_only": false
    },
    "scrolled": true
   },
   "outputs": [
    {
     "data": {
      "image/png": "[encoded data removed]",
      "text/plain": [
       "<matplotlib.figure.Figure at 0x7fac24766390>"
      ]
     },
     "metadata": {},
     "output_type": "display_data"
    }
   ],
   "source": [
    "from sklearn.decomposition import PCA\n",
    "P_norm0 = np.nan_to_num(P_norm)\n",
    "n_comp=10\n",
    "pca = PCA(n_components=n_comp, svd_solver='full')\n",
    "pca.fit(P_norm0)     \n",
    "#print(pca.explained_variance_)\n",
    "Var_explained=pca.explained_variance_ratio_\n",
    "plot(insert(cumsum(Var_explained),0,0))\n",
    "grid()"
   ]
  },
  {
   "cell_type": "code",
   "execution_count": 30,
   "metadata": {},
   "outputs": [
    {
     "data": {
      "text/plain": [
       "PCA(copy=True, iterated_power='auto', n_components=4, random_state=None,\n",
       "  svd_solver='full', tol=0.0, whiten=False)"
      ]
     },
     "execution_count": 30,
     "metadata": {},
     "output_type": "execute_result"
    }
   ],
   "source": [
    "# we will look only at the top 4 eigenvectors.\n",
    "n_comp=4\n",
    "pca = PCA(n_components=n_comp, svd_solver='full')\n",
    "pca.fit(P_norm0)     "
   ]
  },
  {
   "cell_type": "code",
   "execution_count": 31,
   "metadata": {
    "run_control": {
     "frozen": false,
     "read_only": false
    },
    "scrolled": true
   },
   "outputs": [
    {
     "data": {
      "image/png": "[encoded data removed]",
      "text/plain": [
       "<matplotlib.figure.Figure at 0x7fac2476e150>"
      ]
     },
     "metadata": {},
     "output_type": "display_data"
    }
   ],
   "source": [
    "fig,axes=plt.subplots(1,4,figsize=(20,5),sharey='row');\n",
    "L=list(pca.components_.transpose())\n",
    "for i in range(4):\n",
    "    X=sorted(L,key=lambda x:x[i]) \n",
    "    axes[i].plot(X);"
   ]
  },
  {
   "cell_type": "code",
   "execution_count": 32,
   "metadata": {
    "collapsed": true,
    "run_control": {
     "frozen": false,
     "read_only": false
    }
   },
   "outputs": [],
   "source": [
    "def re_order_matrix(M,order):\n",
    "    M_reord=M[order,:]\n",
    "    M_reord=M_reord[:,order]\n",
    "    return M_reord"
   ]
  },
  {
   "cell_type": "code",
   "execution_count": 33,
   "metadata": {},
   "outputs": [
    {
     "data": {
      "image/png": "[encoded data removed]",
      "text/plain": [
       "<matplotlib.figure.Figure at 0x7fac19a97a10>"
      ]
     },
     "metadata": {},
     "output_type": "display_data"
    }
   ],
   "source": [
    "fig,axes=plt.subplots(2,2,figsize=(15,15),sharex='col',sharey='row');\n",
    "i=0\n",
    "for r in range(2):\n",
    "    for c in range(2):\n",
    "        order=np.argsort(pca.components_[i,:])\n",
    "        P_norm_reord=re_order_matrix(P_norm0,order)\n",
    "        axes[r,c].matshow(P_norm_reord)\n",
    "        i+=1"
   ]
  },
  {
   "cell_type": "markdown",
   "metadata": {},
   "source": [
    "### Explanation and possibe extensions\n",
    "When we reorder the rows and columns of the matrix using one of the eigenvectors, the grouping of the \n",
    "stations becomes more evident. For example, consider the upper left corner of the scond matrix (The upper left one). The stations at positions 0-22 are clearly strongly correlated with each other. Even though there are some stations, in positions 15-18 or so, which are more related to each other than to the rest of this block.\n",
    "\n",
    "This type of organization is called **Block Diagonal** and it typically reveals important structure such as grouping or clustering.\n",
    "\n",
    "You might want to extract the sets of stations that form blocks for your region, and then plot them on the map to see their spatial relationship."
   ]
  },
  {
   "cell_type": "code",
   "execution_count": 38,
   "metadata": {
    "collapsed": true
   },
   "outputs": [],
   "source": [
    "from pickle import dump\n",
    "with open(data_dir+'/'+ meas+'_residuals_PCA.pickle','wb') as file:\n",
    "    dump({'stations':All.keys(),\n",
    "          'eigen-vecs':pca.components_},\n",
    "        file)\n",
    "    "
   ]
  },
  {
   "cell_type": "code",
   "execution_count": null,
   "metadata": {
    "collapsed": true
   },
   "outputs": [],
   "source": []
  }
 ],
 "metadata": {
  "anaconda-cloud": {},
  "celltoolbar": "Slideshow",
  "hide_input": false,
  "kernelspec": {
   "display_name": "Python 2",
   "language": "python",
   "name": "python2"
  },
  "language_info": {
   "codemirror_mode": {
    "name": "ipython",
    "version": 2
   },
   "file_extension": ".py",
   "mimetype": "text/x-python",
   "name": "python",
   "nbconvert_exporter": "python",
   "pygments_lexer": "ipython2",
   "version": "2.7.12"
  },
  "toc": {
   "colors": {
    "hover_highlight": "#DAA520",
    "running_highlight": "#FF0000",
    "selected_highlight": "#FFD700"
   },
   "moveMenuLeft": true,
   "nav_menu": {
    "height": "118px",
    "width": "252px"
   },
   "navigate_menu": true,
   "number_sections": true,
   "sideBar": true,
   "threshold": 4,
   "toc_cell": false,
   "toc_section_display": "block",
   "toc_window_display": true
  },
  "widgets": {
   "state": {
    "0d4726d074414304b7910c9bc9aee2a0": {
     "views": [
      {
       "cell_index": 31
      }
     ]
    },
    "9dfb4bbaf8664891a93b62da7476d8fe": {
     "views": [
      {
       "cell_index": 22
      }
     ]
    }
   },
   "version": "1.2.0"
  }
 },
 "nbformat": 4,
 "nbformat_minor": 1
}
