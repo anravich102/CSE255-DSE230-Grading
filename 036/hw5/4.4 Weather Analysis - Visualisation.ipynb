{
 "cells": [
  {
   "cell_type": "markdown",
   "metadata": {
    "run_control": {
     "frozen": false,
     "read_only": false
    }
   },
   "source": [
    "### Visualizing the distribution of the observations\n",
    "\n",
    "### Load the required libraries"
   ]
  },
  {
   "cell_type": "code",
   "execution_count": 1,
   "metadata": {
    "run_control": {
     "frozen": false,
     "read_only": false
    },
    "slideshow": {
     "slide_type": "slide"
    }
   },
   "outputs": [
    {
     "name": "stdout",
     "output_type": "stream",
     "text": [
      "Populating the interactive namespace from numpy and matplotlib\n",
      "keys from STAT= ['TMIN', 'TOBS', 'TMAX', 'SNOW', 'SNWD', 'PRCP']\n",
      "12740\n",
      "+---------+--------+---------+-----------+-----------+------+--------------------+------+--------+\n",
      "|elevation|latitude|longitude|measurement|    station|undefs|              vector|  year|   label|\n",
      "+---------+--------+---------+-----------+-----------+------+--------------------+------+--------+\n",
      "|   2449.1| 36.0333|-105.8167|       TMAX|USC00299113|     6|[40 56 30 54 40 5...|1910.0|SSSSBBBB|\n",
      "|   2449.1| 36.0333|-105.8167|       TMAX|USC00299113|    21|[80 C9 30 D4 00 4...|1911.0|SSSSBBBB|\n",
      "|   2449.1| 36.0333|-105.8167|       TMAX|USC00299113|     2|[E0 D0 80 C9 E0 D...|1912.0|SSSSBBBB|\n",
      "|   2449.1| 36.0333|-105.8167|       TMAX|USC00299113|     5|[80 C9 00 C6 30 5...|1913.0|SSSSBBBB|\n",
      "|   2449.1| 36.0333|-105.8167|       TMAX|USC00299113|     0|[80 CD 40 CC 00 4...|1914.0|SSSSBBBB|\n",
      "+---------+--------+---------+-----------+-----------+------+--------------------+------+--------+\n",
      "only showing top 5 rows\n",
      "\n"
     ]
    }
   ],
   "source": [
    "import pandas as pd\n",
    "import numpy as np\n",
    "import sklearn as sk\n",
    "import urllib\n",
    "import math\n",
    "%pylab inline\n",
    "\n",
    "import findspark\n",
    "findspark.init()\n",
    "\n",
    "from pyspark import SparkContext\n",
    "#sc.stop()\n",
    "sc = SparkContext(master=\"local[3]\",pyFiles=['lib/numpy_pack.py','lib/spark_PCA.py','lib/computeStats.py'])\n",
    "\n",
    "from pyspark import SparkContext\n",
    "from pyspark.sql import *\n",
    "sqlContext = SQLContext(sc)\n",
    "\n",
    "import sys\n",
    "sys.path.append('./lib')\n",
    "\n",
    "import numpy as np\n",
    "from numpy_pack import packArray,unpackArray\n",
    "from spark_PCA import computeCov\n",
    "from computeStats import computeOverAllDist, STAT_Descriptions\n",
    "\n",
    "### Read the data frame from pickle file\n",
    "\n",
    "data_dir='../../Data/Weather'\n",
    "file_index='SSSSBBBB'\n",
    "\n",
    "from pickle import load\n",
    "\n",
    "#read statistics\n",
    "filename=data_dir+'/STAT_%s.pickle'%file_index\n",
    "STAT,STAT_Descriptions = load(open(filename,'rb'))\n",
    "print 'keys from STAT=',STAT.keys()\n",
    "\n",
    "#read data\n",
    "filename=data_dir+'/US_Weather_%s.parquet'%file_index\n",
    "\n",
    "df=sqlContext.read.parquet(filename)\n",
    "print df.count()\n",
    "df.show(5)"
   ]
  },
  {
   "cell_type": "markdown",
   "metadata": {
    "run_control": {
     "frozen": false,
     "read_only": false
    },
    "slideshow": {
     "slide_type": "slide"
    }
   },
   "source": [
    "### Select data for a particular station and measurement type"
   ]
  },
  {
   "cell_type": "code",
   "execution_count": 2,
   "metadata": {
    "run_control": {
     "frozen": false,
     "read_only": false
    },
    "slideshow": {
     "slide_type": "subslide"
    }
   },
   "outputs": [
    {
     "name": "stdout",
     "output_type": "stream",
     "text": [
      "SELECT * FROM weather\n",
      "\tWHERE measurement='PRCP' and station='USC00299113'\n",
      "44 rows\n",
      "+---------+--------+---------+-----------+-----------+------+--------------------+------+--------+\n",
      "|elevation|latitude|longitude|measurement|    station|undefs|              vector|  year|   label|\n",
      "+---------+--------+---------+-----------+-----------+------+--------------------+------+--------+\n",
      "|   2449.1| 36.0333|-105.8167|       PRCP|USC00299113|     0|[F0 57 00 54 00 5...|1910.0|SSSSBBBB|\n",
      "|   2449.1| 36.0333|-105.8167|       PRCP|USC00299113|    28|[00 7E 00 7E 00 7...|1911.0|SSSSBBBB|\n",
      "+---------+--------+---------+-----------+-----------+------+--------------------+------+--------+\n",
      "only showing top 2 rows\n",
      "\n"
     ]
    },
    {
     "data": {
      "text/plain": [
       "(44, 365)"
      ]
     },
     "execution_count": 2,
     "metadata": {},
     "output_type": "execute_result"
    }
   ],
   "source": [
    "sqlContext.registerDataFrameAsTable(df,'weather')\n",
    "Query=\"SELECT * FROM weather\\n\\tWHERE measurement='%s' and station='%s'\"%('PRCP','USC00299113')\n",
    "print Query\n",
    "df1 = sqlContext.sql(Query)\n",
    "print df1.count(),'rows'\n",
    "df1.show(2)\n",
    "rows=df1.rdd.map(lambda row:unpackArray(row['vector'],np.float16)).collect()\n",
    "T=np.vstack(rows)\n",
    "T=T/10.  # scaling to make the temperature be in centingrates\n",
    "shape(T)"
   ]
  },
  {
   "cell_type": "markdown",
   "metadata": {
    "run_control": {
     "frozen": false,
     "read_only": false
    },
    "slideshow": {
     "slide_type": "slide"
    }
   },
   "source": [
    "### Script for plotting yearly plots"
   ]
  },
  {
   "cell_type": "code",
   "execution_count": 3,
   "metadata": {
    "run_control": {
     "frozen": false,
     "read_only": false
    },
    "scrolled": false,
    "slideshow": {
     "slide_type": "subslide"
    }
   },
   "outputs": [
    {
     "data": {
      "image/png": "iVBORw0KGgoAAAANSUhEUgAAAlMAAAGNCAYAAAA1nfQqAAAABHNCSVQICAgIfAhkiAAAAAlwSFlz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\nVLu2Ex0XlObjPEGaT86D5eiZKiuYipybb9CnIJrV1pzRUuJJ