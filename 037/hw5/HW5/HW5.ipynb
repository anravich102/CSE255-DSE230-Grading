{
 "cells": [
  {
   "cell_type": "markdown",
   "metadata": {},
   "source": [
    "# Distribution of the observations"
   ]
  },
  {
   "cell_type": "markdown",
   "metadata": {},
   "source": [
    "All the observations will be get from different stations in rectangle area. "
   ]
  },
  {
   "cell_type": "markdown",
   "metadata": {},
   "source": [
    "<p><img alt=\"map.jpg\" src=\"map.jpg\" /></p>"
   ]
  },
  {
   "cell_type": "markdown",
   "metadata": {},
   "source": []
  },
  {
   "cell_type": "markdown",
   "metadata": {},
   "source": [
    "## We focused on six measurements:\n",
    "* **TMIN, TMAX:** the daily minimum and maximum temperature.\n",
    "* **TOBS:** The average temperature for each day.\n",
    "* **PRCP:** Daily Percipitation (in mm)\n",
    "* **SNOW:** Daily snowfall (in mm)\n",
    "* **SNWD:** The depth of accumulated snow.\n"
   ]
  },
  {
   "cell_type": "markdown",
   "metadata": {},
   "source": []
  },
  {
   "cell_type": "markdown",
   "metadata": {},
   "source": [
    "## Frist we start by look at the statistics with graphs in each measurements. \n",
    "### Anaylze Daily Min temperature and Daily Max temperature \n",
    "<p><img alt=\"min_max.jpg\" src=\"min_max.jpg\" /></p>\n",
    "<p>&nbsp;</p>\n",
    "\n"
   ]
  },
  {
   "cell_type": "markdown",
   "metadata": {},
   "source": [
    "<p>We see that the both daily min. temperature and max. temperature have the similar shape during the year, which has lowest temperature around January or February and highest temperature around August. So we could infer that the daily averay temperature will have the similar shape with the min. temperature and max. temperature. "
   ]
  },
  {
   "cell_type": "markdown",
   "metadata": {},
   "source": [
    "***Compared to the tempture in Denver(from US climate data):***\n",
    "since the area I anaylyze is in Colorado and really close to Denver"
   ]
  },
  {
   "cell_type": "markdown",
   "metadata": {},
   "source": [
    "<p><img alt=\"climate.jpg\" src=\"climate.jpg\" /></p>"
   ]
  },
  {
   "cell_type": "markdown",
   "metadata": {},
   "source": [
    "From the graph above We see that the min and max daily temperature agree with the ones we after transfring Celsius to Fahrenheit"
   ]
  },
  {
   "cell_type": "markdown",
   "metadata": {},
   "source": [
    "### Anaylze Precipitation (tenths of mm)\n",
    "<p><img alt=\"TRCP.jpg\" src=\"TRCP.jpg\" /></p>\n"
   ]
  },
  {
   "cell_type": "markdown",
   "metadata": {},
   "source": [
    "<p>According to the image we could see that the average rainfall is 10 mm/day, which translate to 11.81 inches per month</p>\n",
    "<p>Compare to the TOBS, we could see that there is almost no relationship between average tempeture and precipitation for each day</p>"
   ]
  },
  {
   "cell_type": "markdown",
   "metadata": {},
   "source": [
    "### Anaylze Snow depth(mm)\n",
    "<p><img alt=\"snow.jpg\" src=\"snow.jpg\" /></p>"
   ]
  },
  {
   "cell_type": "markdown",
   "metadata": {
    "collapsed": true
   },
   "source": [
    "We could see that there are lots of snow during the winter(from Jan. to April) and no snow in summer; which has the negative correlation with the average temperature."
   ]
  },
  {
   "cell_type": "markdown",
   "metadata": {},
   "source": [
    "## PCA analysis"
   ]
  },
  {
   "cell_type": "markdown",
   "metadata": {},
   "source": [
    "For each of the six measurement, we compute the percentate of the variance explained as a function of the number of eigen-vectors used."
   ]
  },
  {
   "cell_type": "markdown",
   "metadata": {},
   "source": [
    "### Percentage of variance explained.¶"
   ]
  },
  {
   "cell_type": "markdown",
   "metadata": {},
   "source": [
    "<p><img alt=\"egi2.jpg\" src=\"egi2.jpg\" /></p>\n"
   ]
  },
  {
   "cell_type": "markdown",
   "metadata": {},
   "source": [
    "We see that the top 5 eigen-vectors explain 55% of variance for TMIN, 65% for TOBS and 55% for TMAX.\n",
    "We conclude that of the three, TOBS is best explained by the top 5 eigenvectors. Especially true for the first eigenvector, which explained 60% by itself. "
   ]
  },
  {
   "cell_type": "markdown",
   "metadata": {},
   "source": [
    "<p><img alt=\"egi1.jpg\" src=\"egi1.jpg\" /></p>\n"
   ]
  },
  {
   "cell_type": "markdown",
   "metadata": {},
   "source": [
    "The top 5 eigenvectors explain 14.5% of the variance for SNOWS and 13% for PRCP, both are low values. For SNWD, the top 5 eigenvetors explain 93% of the variance, which is pretty high. "
   ]
  },
  {
   "cell_type": "markdown",
   "metadata": {},
   "source": [
    "We can conclude that that PRCP is worst explained by the top eigenvetors with 13% of variance and SNWD is best explaiined by the top eigenvetors with 95% of variance. So I will explore more on snow depth for PCA and precipitation \n"
   ]
  },
  {
   "cell_type": "markdown",
   "metadata": {},
   "source": [
    "# Analysis of snow depth"
   ]
  },
  {
   "cell_type": "markdown",
   "metadata": {},
   "source": [
    "First, we graph the mean and the top 3 eigen-vectors."
   ]
  },
  {
   "cell_type": "markdown",
   "metadata": {},
   "source": [
    "<p><img alt=\"PCA_SNWD.jpg\" src=\"PCA_SNWD.jpg\" /></p>"
   ]
  },
  {
   "cell_type": "markdown",
   "metadata": {},
   "source": [
    "According to the picture, we could see that the snow season is from mid-november to the end of march.\n",
    "Also, the middle of Feb. reach the highest point."
   ]
  },
  {
   "cell_type": "markdown",
   "metadata": {},
   "source": [
    "For the **eig1**, it has a very similar shape to the mean function. Since eig1 represents the overall amount of snow above/below the mean,the shape shows us that the variance of eig1 is larger than the mean function. \n",
    "\n",
    "\n",
    "**eig2 and eig3** corresponds to changing the distribution of the snow depth, but they don't change a lot, which won't change the total amount of snow depth. \n",
    "\n",
    "\n",
    "* **eig2:** more snow in Feb, but less snow in May, and almost no snow from Oct to Dec. \n",
    "* **eig3:** more snow in jan, less snow in April, and more snow in June. \n"
   ]
  },
  {
   "cell_type": "markdown",
   "metadata": {
    "collapsed": true
   },
   "source": [
    "### Reconstructions for SNWD"
   ]
  },
  {
   "cell_type": "markdown",
   "metadata": {},
   "source": [
    "#### Coeff1"
   ]
  },
  {
   "cell_type": "markdown",
   "metadata": {},
   "source": [
    "coeff1: most negative:"
   ]
  },
  {
   "cell_type": "markdown",
   "metadata": {},
   "source": [
    "<p><img alt=\"coe1_ne1.jpg\" src=\"coe1_ne1.jpg\" /></p>\n",
    "<p><img alt=\"coe1_ne.jpg\" src=\"coe1_ne.jpg\" /></p>"
   ]
  },
  {
   "cell_type": "markdown",
   "metadata": {},
   "source": [
    "As we could see that there are lots of data are missing in the first two largest negative coeff_1. So I anaylyze frist 12 largest negative coeff_1."
   ]
  },
  {
   "cell_type": "markdown",
   "metadata": {},
   "source": [
    "<p><img alt=\"coe1_ne_12.jpg\" src=\"coe1_ne_12.jpg\" /></p>"
   ]
  },
  {
   "cell_type": "markdown",
   "metadata": {},
   "source": [
    "coeff1: most positive:\n"
   ]
  },
  {
   "cell_type": "markdown",
   "metadata": {},
   "source": [
    "<p><img alt=\"coeff1_positive1.jpg\" src=\"coeff1_positive1.jpg\" /></p>\n",
    "<p><img alt=\"coeff1_positive.jpg\" src=\"coeff1_positive.jpg\" /></p>\n"
   ]
  },
  {
   "cell_type": "markdown",
   "metadata": {},
   "source": [
    "Large positive values of coeff1 correspond to more than average snow. Low values correspond to less than average snow."
   ]
  },
  {
   "cell_type": "markdown",
   "metadata": {},
   "source": []
  },
  {
   "cell_type": "markdown",
   "metadata": {
    "collapsed": true
   },
   "source": [
    "#### coeff2"
   ]
  },
  {
   "cell_type": "markdown",
   "metadata": {},
   "source": [
    "coeff2: most negative"
   ]
  },
  {
   "cell_type": "markdown",
   "metadata": {},
   "source": [
    "<p><img alt=\"coeff2_ne.jpg\" src=\"coeff2_ne.jpg\" /></p>\n",
    "<p><img alt=\"coeff2_ne1.jpg\" src=\"coeff2_ne1.jpg\" /></p>"
   ]
  },
  {
   "cell_type": "markdown",
   "metadata": {},
   "source": [
    "<p><img alt=\"coeff2_po1.jpg\" src=\"coeff2_po1.jpg\" /></p>\n",
    "<p><img alt=\"coeff2_po.jpg\" src=\"coeff2_po.jpg\" /></p>\n"
   ]
  },
  {
   "cell_type": "markdown",
   "metadata": {},
   "source": [
    "we could see that large negative values of coeff2 correspond to a late snow season(most os the snow is around April to May). Positive values for coeff2 correspond to an early snow season (most of the snow is after around Jan to Feb)."
   ]
  },
  {
   "cell_type": "markdown",
   "metadata": {},
   "source": [
    "#### coeff3"
   ]
  },
  {
   "cell_type": "markdown",
   "metadata": {},
   "source": [
    "coeff3 most negative:"
   ]
  },
  {
   "cell_type": "markdown",
   "metadata": {},
   "source": [
    "<p><img alt=\"coe3_ne1.jpg\" src=\"coe3_ne1.jpg\" /></p>\n",
    "<p><img alt=\"coe3_ne.jpg\" src=\"coe3_ne.jpg\" /></p>\n"
   ]
  },
  {
   "cell_type": "markdown",
   "metadata": {},
   "source": [
    "<p><img alt=\"coeff3_po.jpg\" src=\"coeff3_po.jpg\" /></p>\n",
    "<p><img alt=\"coeff3_po1.jpg\" src=\"coeff3_po1.jpg\" /></p>"
   ]
  },
  {
   "cell_type": "markdown",
   "metadata": {},
   "source": [
    "Large negative values of coeff2 represents a season with a single peak after mid-March. \n",
    "There are some data missing in the large positive values of coeff2 showed in the graph, so there maybe some NAN in the real data"
   ]
  },
  {
   "cell_type": "markdown",
   "metadata": {},
   "source": [
    "#### Best Reconstruction for SNWD"
   ]
  },
  {
   "cell_type": "markdown",
   "metadata": {},
   "source": [
    "<p><img alt=\"best123.jpg\" src=\"best123.jpg\" /></p>"
   ]
  },
  {
   "cell_type": "markdown",
   "metadata": {},
   "source": [
    "this is the best coefficients of the eigen-vectors for approximation, with coeff_1 = 14477.88, coeff_2 = -522.6, coeff_3 = 554.84"
   ]
  },
  {
   "cell_type": "markdown",
   "metadata": {},
   "source": [
    "### Geographical distribution of the residual "
   ]
  },
  {
   "cell_type": "markdown",
   "metadata": {},
   "source": [
    "<p><img alt=\"res1.jpg\" src=\"res1.jpg\" /></p>\n"
   ]
  },
  {
   "cell_type": "markdown",
   "metadata": {},
   "source": [
    "From the graph we could see that 60% instances has the residual less than 0.4. In other word, the eigen-vectors explains the variance really well so the residual is really small."
   ]
  },
  {
   "cell_type": "markdown",
   "metadata": {
    "collapsed": true
   },
   "source": [
    "### Analyze whether SNWD varies more from year to year or from place to place"
   ]
  },
  {
   "cell_type": "markdown",
   "metadata": {},
   "source": [
    "We now estimate the relative importance of location-to-location variation relative to year-by-year variation."
   ]
  },
  {
   "cell_type": "markdown",
   "metadata": {},
   "source": [
    "** coeff_1 **  \n",
    "total RMS                   =  4716.23111173\n",
    "\n",
    "RMS removing mean-by-station=  1770.67051939;  fraction explained= 62.47\n",
    "\n",
    "RMS removing mean-by-year   =  3822.05449028;  fraction explained= 18.96\n",
    "\n",
    "** coeff_2 **  \n",
    "total RMS                   =  1476.9291627\n",
    "\n",
    "RMS removing mean-by-station=  925.75164404;   fraction explained= 37.33\n",
    "\n",
    "RMS removing mean-by-year   =  1248.39893937;  fraction explained= 15.44\n",
    "\n",
    "** coeff_3 ** \n",
    "total RMS                   =  1091.96967689\n",
    "\n",
    "RMS removing mean-by-station=  850.223596609;  fraction explained= 22.08\n",
    "\n",
    "RMS removing mean-by-year   =  954.761614852;  fraction explained= 12.55\n",
    " \n"
   ]
  },
  {
   "cell_type": "markdown",
   "metadata": {},
   "source": [
    "We could see that the variation by the year explains only a little bit more by the station more than the year, but for coeff_1, the variation by the station is much better than by the year. Therefore, coeff_1 has to do with the total snowfall;coeff_2, coeff_3 has to do with the timing of snowfall.\n"
   ]
  },
  {
   "cell_type": "markdown",
   "metadata": {
    "collapsed": true
   },
   "source": [
    "### Reconstruction for PRCP"
   ]
  },
  {
   "cell_type": "markdown",
   "metadata": {},
   "source": [
    "PRCP data for two years:"
   ]
  },
  {
   "cell_type": "markdown",
   "metadata": {},
   "source": [
    "<p><img alt=\"PRCP.jpg\" src=\"PRCP.jpg\" /></p>"
   ]
  },
  {
   "cell_type": "markdown",
   "metadata": {},
   "source": [
    "<p><img alt=\"prcpmean.jpg\" src=\"prcpmean.jpg\" /></p>"
   ]
  },
  {
   "cell_type": "markdown",
   "metadata": {},
   "source": [
    "All the three eigenvectors varies based on different distribution, but they don't change a lot, which won't change the total amount of Precipitation. \n"
   ]
  },
  {
   "cell_type": "markdown",
   "metadata": {},
   "source": [
    "Using the eigenvecotrs and coeffcients, the best reconstruction shows below（with coefficient c1 = 41.19 c2 = 104.89 and c3 = 46.26)"
   ]
  },
  {
   "cell_type": "markdown",
   "metadata": {},
   "source": [
    "<p><img alt=\"PRCP_res.jpg\" src=\"PRCP_res.jpg\" /></p>"
   ]
  },
  {
   "cell_type": "markdown",
   "metadata": {},
   "source": [
    "As we could see above, after subtracting top three eigenvectors and mean, only 10 percent of data has the residual less than 0.9, so the eigen-vector didn't explain the variance really well. It makes sense since we get the same conclusion when anaylzing the Percentage of variance explained by the eigen-vectors."
   ]
  },
  {
   "cell_type": "markdown",
   "metadata": {},
   "source": [
    "<p><img alt=\"best_re.jpg\" src=\"best_re.jpg\" /></p>"
   ]
  },
  {
   "cell_type": "markdown",
   "metadata": {},
   "source": [
    "From the graph above we could see that the shape of mean and three eigen-vectors with target not really similar. It makes sense because as the conclusion we get before,the eigenvectors didn't explain the variance very well "
   ]
  },
  {
   "cell_type": "markdown",
   "metadata": {},
   "source": [
    "<p><img alt=\"daliy_rain.jpg\" src=\"daliy_rain.jpg\" /></p>"
   ]
  },
  {
   "cell_type": "markdown",
   "metadata": {},
   "source": [
    "From the graph above we could see that the location rains a lot; only 30% percent of days that rains less than 80%. "
   ]
  },
  {
   "cell_type": "markdown",
   "metadata": {},
   "source": [
    "### Check if rainfall in the two locations is independent"
   ]
  },
  {
   "cell_type": "markdown",
   "metadata": {},
   "source": []
  },
  {
   "cell_type": "markdown",
   "metadata": {
    "collapsed": true
   },
   "source": [
    "<p><img alt=\"relation.jpg\" src=\"relation.jpg\" /></p>"
   ]
  },
  {
   "cell_type": "markdown",
   "metadata": {},
   "source": [
    "From the graph above we could see that most of the stations are unrelated to each others, but the second quarter of the stations are related to each others. "
   ]
  },
  {
   "cell_type": "code",
   "execution_count": null,
   "metadata": {
    "collapsed": true
   },
   "outputs": [],
   "source": []
  }
 ],
 "metadata": {
  "kernelspec": {
   "display_name": "Python 2",
   "language": "python",
   "name": "python2"
  },
  "language_info": {
   "codemirror_mode": {
    "name": "ipython",
    "version": 2
   },
   "file_extension": ".py",
   "mimetype": "text/x-python",
   "name": "python",
   "nbconvert_exporter": "python",
   "pygments_lexer": "ipython2",
   "version": "2.7.13"
  }
 },
 "nbformat": 4,
 "nbformat_minor": 2
}
