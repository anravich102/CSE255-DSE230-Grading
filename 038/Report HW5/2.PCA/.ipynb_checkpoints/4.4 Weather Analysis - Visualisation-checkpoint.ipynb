{
 "cells": [
  {
   "cell_type": "markdown",
   "metadata": {
    "run_control": {
     "frozen": false,
     "read_only": false
    }
   },
   "source": [
    "### Visualizing the distribution of the observations\n",
    "\n",
    "### Load the required libraries"
   ]
  },
  {
   "cell_type": "code",
   "execution_count": 3,
   "metadata": {
    "run_control": {
     "frozen": false,
     "read_only": false
    },
    "slideshow": {
     "slide_type": "slide"
    }
   },
   "outputs": [
    {
     "name": "stdout",
     "output_type": "stream",
     "text": [
      "Populating the interactive namespace from numpy and matplotlib\n",
      "keys from STAT= ['TMIN', 'TOBS', 'TMAX', 'SNOW', 'SNWD', 'PRCP']\n",
      "12423\n",
      "+---------+--------+---------+-----------+-----------+------+--------------------+------+--------+\n",
      "|elevation|latitude|longitude|measurement|    station|undefs|              vector|  year|   label|\n",
      "+---------+--------+---------+-----------+-----------+------+--------------------+------+--------+\n",
      "|   1219.2|   37.75|  -117.65|       TMAX|USC00267465|    43|[30 55 40 56 80 5...|1898.0|SSSBSSBB|\n",
      "|    640.1|  37.495|-119.9858|       TMAX|USC00045352|     3|[00 58 50 57 E0 5...|2007.0|SSSBSSBB|\n",
      "|   1219.2|   37.75|  -117.65|       TMIN|USC00267465|    45|[90 D5 E0 D5 40 D...|1898.0|SSSBSSBB|\n",
      "|    640.1|  37.495|-119.9858|       TMIN|USC00045352|    24|[00 46 00 46 E0 5...|2007.0|SSSBSSBB|\n",
      "|   1452.4| 37.9747|-119.9161|       TMAX|USC00041697|     0|[80 54 00 53 80 5...|1956.0|SSSBSSBB|\n",
      "+---------+--------+---------+-----------+-----------+------+--------------------+------+--------+\n",
      "only showing top 5 rows\n",
      "\n"
     ]
    }
   ],
   "source": [
    "import pandas as pd\n",
    "import numpy as np\n",
    "import sklearn as sk\n",
    "import urllib\n",
    "import math\n",
    "%pylab inline\n",
    "\n",
    "import findspark\n",
    "findspark.init()\n",
    "\n",
    "from pyspark import SparkContext\n",
    "#sc.stop()\n",
    "sc = SparkContext(master=\"local[3]\",pyFiles=['lib/numpy_pack.py','lib/spark_PCA.py','lib/computeStats.py'])\n",
    "\n",
    "from pyspark import SparkContext\n",
    "from pyspark.sql import *\n",
    "sqlContext = SQLContext(sc)\n",
    "\n",
    "import sys\n",
    "sys.path.append('./lib')\n",
    "\n",
    "import numpy as np\n",
    "from numpy_pack import packArray,unpackArray\n",
    "from spark_PCA import computeCov\n",
    "from computeStats import computeOverAllDist, STAT_Descriptions\n",
    "\n",
    "### Read the data frame from pickle file\n",
    "\n",
    "data_dir='../../Data/Weather'\n",
    "file_index='SSSBSSBB' \n",
    "\n",
    "from pickle import load\n",
    "\n",
    "#read statistics\n",
    "filename=data_dir+'/STAT_%s.pickle'%file_index\n",
    "STAT,STAT_Descriptions = load(open(filename,'rb'))\n",
    "print 'keys from STAT=',STAT.keys()\n",
    "\n",
    "#read data\n",
    "filename=data_dir+'/US_Weather_%s.parquet'%file_index\n",
    "\n",
    "df=sqlContext.read.parquet(filename)\n",
    "print df.count()\n",
    "df.show(5)"
   ]
  },
  {
   "cell_type": "markdown",
   "metadata": {
    "run_control": {
     "frozen": false,
     "read_only": false
    },
    "slideshow": {
     "slide_type": "slide"
    }
   },
   "source": [
    "### Select data for a particular station and measurement type"
   ]
  },
  {
   "cell_type": "code",
   "execution_count": 4,
   "metadata": {},
   "outputs": [
    {
     "name": "stdout",
     "output_type": "stream",
     "text": [
      "SELECT Min(latitude), Min(longitude), Max(latitude), Max(longitude) FROM weather\n",
      "1 rows\n",
      "+-------------+--------------+-------------+--------------+\n",
      "|min(latitude)|min(longitude)|max(latitude)|max(longitude)|\n",
      "+-------------+--------------+-------------+--------------+\n",
      "|      36.9969|      -120.855|      38.2033|     -115.4069|\n",
      "+-------------+--------------+-------------+--------------+\n",
      "\n"
     ]
    }
   ],
   "source": [
    "# finding extent of lat and long in my data\n",
    "\n",
    "sqlContext.registerDataFrameAsTable(df,'weather')\n",
    "#Query=\"SELECT * FROM weather\\n\\tWHERE measurement='%s' and station='%s'\"%('PRCP','USC00198301')\n",
    "Query=\"SELECT Min(latitude), Min(longitude), Max(latitude), Max(longitude) FROM weather\"\n",
    "print Query\n",
    "df1 = sqlContext.sql(Query)\n",
    "print df1.count(),'rows'\n",
    "df1.show(2)"
   ]
  },
  {
   "cell_type": "code",
   "execution_count": 5,
   "metadata": {
    "run_control": {
     "frozen": false,
     "read_only": false
    },
    "slideshow": {
     "slide_type": "subslide"
    }
   },
   "outputs": [
    {
     "name": "stdout",
     "output_type": "stream",
     "text": [
      "SELECT * FROM weather\n",
      "\tWHERE measurement='PRCP'\n",
      "2750 rows\n",
      "+---------+--------+---------+-----------+-----------+------+--------------------+------+--------+\n",
      "|elevation|latitude|longitude|measurement|    station|undefs|              vector|  year|   label|\n",
      "+---------+--------+---------+-----------+-----------+------+--------------------+------+--------+\n",
      "|   1219.2|   37.75|  -117.65|       PRCP|USC00267465|    31|[00 00 00 00 00 0...|1898.0|SSSBSSBB|\n",
      "|    640.1|  37.495|-119.9858|       PRCP|USC00045352|     0|[00 00 00 00 00 0...|1985.0|SSSBSSBB|\n",
      "+---------+--------+---------+-----------+-----------+------+--------------------+------+--------+\n",
      "only showing top 2 rows\n",
      "\n"
     ]
    },
    {
     "data": {
      "text/plain": [
       "(2750, 365)"
      ]
     },
     "execution_count": 5,
     "metadata": {},
     "output_type": "execute_result"
    }
   ],
   "source": [
    "sqlContext.registerDataFrameAsTable(df,'weather')\n",
    "#Query=\"SELECT * FROM weather\\n\\tWHERE measurement='%s' and station='%s'\"%('PRCP','USC00045352')\n",
    "Query=\"SELECT * FROM weather\\n\\tWHERE measurement='%s'\"%('PRCP')\n",
    "print Query\n",
    "df1 = sqlContext.sql(Query)\n",
    "print df1.count(),'rows'\n",
    "df1.show(2)\n",
    "rows=df1.rdd.map(lambda row:unpackArray(row['vector'],np.float16)).collect()\n",
    "T=np.vstack(rows)\n",
    "T=T/10.  # scaling to make the temperature be in centingrates\n",
    "shape(T)"
   ]
  },
  {
   "cell_type": "markdown",
   "metadata": {
    "run_control": {
     "frozen": false,
     "read_only": false
    },
    "slideshow": {
     "slide_type": "slide"
    }
   },
   "source": [
    "### Script for plotting yearly plots"
   ]
  },
  {
   "cell_type": "code",
   "execution_count": 6,
   "metadata": {
    "run_control": {
     "frozen": false,
     "read_only": false
    },
    "scrolled": false,
    "slideshow": {
     "slide_type": "subslide"
    }
   },
   "outputs": [
    {
     "data": {
      "image/png": "iVBORw0KGgoAAAANSUhEUgAAAlMAAAGNCAYAAAA1nfQqAAAABHNCSVQICAgIfAhkiAAAAAlwSFlz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\np2xH4LmAgtgAAAAASUVORK5CYII=\n",
      "text/plain": [
       "<matplotlib.figure.Figure at 0x10bb909d0>"
      ]
     },
     "metadata": {},
     "output_type": "display_data"
    }
   ],
   "source": [
    "from YearPlotter import YearPlotter\n",
    "fig, ax = plt.subplots(figsize=(10,7));\n",
    "YP=YearPlotter()\n",
    "YP.plot(T[:2,:].transpose(),fig,ax,title='PRCP')\n",
    "#title('A sample of graphs');"
   ]
  },
  {
   "cell_type": "markdown",
   "metadata": {
    "run_control": {
     "frozen": false,
     "read_only": false
    },
    "slideshow": {
     "slide_type": "slide"
    }
   },
   "source": [
    "### Distribution of missing observations\n",
    "The distribution of missing observations is not uniform throughout the year. We visualize it below."
   ]
  },
  {
   "cell_type": "code",
   "execution_count": 7,
   "metadata": {
    "collapsed": true,
    "run_control": {
     "frozen": false,
     "read_only": false
    },
    "slideshow": {
     "slide_type": "subslide"
    }
   },
   "outputs": [],
   "source": [
    "def plot_pair(pair,func):\n",
    "    j=0\n",
    "    fig,X=subplots(1,2,figsize=(16,6))\n",
    "    axes=X.reshape(2)\n",
    "    for m in pair:\n",
    "        axis = axes[j]\n",
    "        j+=1\n",
    "        func(m,fig,axis)\n",
    "        \n",
    "def plot_valid(m,fig,axis):\n",
    "    valid_m=STAT[m]['NE']\n",
    "    YP.plot(valid_m,fig,axis,title='valid-counts '+m)\n",
    "    "
   ]
  },
  {
   "cell_type": "code",
   "execution_count": 8,
   "metadata": {
    "run_control": {
     "frozen": false,
     "read_only": false
    },
    "scrolled": false,
    "slideshow": {
     "slide_type": "subslide"
    }
   },
   "outputs": [
    {
     "name": "stderr",
     "output_type": "stream",
     "text": [
      "/Library/Python/2.7/site-packages/matplotlib/axes/_axes.py:545: UserWarning: No labelled objects found. Use label='...' kwarg on individual plots.\n",
      "  warnings.warn(\"No labelled objects found. \"\n"
     ]
    },
    {
     "data": {
      "image/png": "iVBORw0KGgoAAAANSUhEUgAAA68AAAFcCAYAAAAnAYh3AAAABHNCSVQICAgIfAhkiAAAAAlwSFlz\nAAALEgAACxIB0t1+/AAAIABJREFUeJzsnXd4XFeZ/z9nuqRRlywXyZZ7YsctOIU4RYEUAgGWAKH3\ntsBvadnNQoBQF0ILZYGQhJIFEloqpDhxYst24hY3uTdJtorV6/R6fn/cMndGI3lkKy7x+TyPH8/c\nuXPn3KuZe87bvq+QUqJQKBQKhUKhUCgUCsXZjO1MD0ChUCgUCoVCoVAoFIoToYxXhUKhUCgUCoVC\noVCc9SjjVaFQKBQKhUKhUCgUZz3KeFUoFAqFQqFQKBQKxVmPMl4VCoVCoVAoFAqFQnHWo4xXhUKh\nUCgUCoVCoVCc9SjjVaEYB0KIOiFEm+X5XiFEXS77KhQKhUKhmDjUnKxQnH8o41WhOAWklAullPVn\nehy5IoT4phDizyfxvt8IIfz6v6gQImZ5/owQolYIIYUQOzLeV6Hvf9Sy7agQ4jr98Yf1992e8b62\n0RYgCoVCoVBkQ83J45+TLa/VCyEGhBDujO2PCCHuz9j2mBDil+Mdt0IxESjjVaFQnBAp5b9LKb1S\nSi/wPeBvxnMp5U2WXfOFEBdZnr8XaD7B4fuB24UQhRM8bIVCoVAoXnVM9JwshKgFrgIk8JaMlz8L\n3CKEuFbf913AxcCXJ+p8FIrxoIxXxXmHEOK/hRAPZ2z7uRDiF/rjjwgh9gshfEKIJiHEp8Y4ljWK\nmCeEeED3XO4DLjnBOOxCiDuEEI36Z20TQtTor10hhHhZCDGk/39Fts/Un5ueW4u39UNCiBYhRK8Q\n4qv6a28A7gDepXtnG/TtH9bP0yeEaBZCvG9cFzSdPwEfsjz/IPDHE7xnP7AR+NIpfK5CoVAozkHU\nnHxWzMkfBDYBD2Tsj5SyE7gNuF8IMR34BfApKaX/FMalUJw0ynhVnI/8FXijEekTQtiBW4GH9Ne7\ngZuBIuAjwE+FEBfncNxvALP1fzeSMQFk4UvAe4A36p/1USAohCgDnkKbIMqBu4GnhBDluZ4gcCUw\nH3g9cKcQ4kIp5UrSPbRLhBAF+ufcJKUsBK4Ado7jczL5M/BufRGwAPACm3N439eBL+jnrlAoFIrz\nBzUnn/k5+YPAg/q/G4UQVdYXpZQPAI3AdmClPnaF4oygjF