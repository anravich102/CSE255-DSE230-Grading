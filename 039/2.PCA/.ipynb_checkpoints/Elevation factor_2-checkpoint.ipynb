{
 "cells": [
  {
   "cell_type": "code",
   "execution_count": 1,
   "metadata": {
    "collapsed": true
   },
   "outputs": [],
   "source": [
    "#setup\n",
    "data_dir='../../Data/Weather'\n",
    "file_index='SBSSBSBB'\n",
    "m='PRCP'"
   ]
  },
  {
   "cell_type": "code",
   "execution_count": 2,
   "metadata": {},
   "outputs": [
    {
     "name": "stdout",
     "output_type": "stream",
     "text": [
      "Populating the interactive namespace from numpy and matplotlib\n",
      "    pandas as    pd \tversion=0.19.2 \trequired version>=0.19.2\n",
      "     numpy as    np \tversion=1.11.3 \trequired version>=1.12.0 ******* Update Version ******\n",
      "   sklearn as    sk \tversion=0.18.1 \trequired version>=0.18.1\n",
      "    urllib as urllib \tversion=1.17 \trequired version>=1.17\n",
      "   pyspark as pyspark \tversion=2.1.0+hadoop2.7 \trequired version>=2.1.0\n",
      "ipywidgets as ipywidgets \tversion=6.0.0 \trequired version>=6.0.0\n"
     ]
    }
   ],
   "source": [
    "#%matplotlib inline\n",
    "%pylab inline\n",
    "import numpy as np\n",
    "\n",
    "import findspark\n",
    "findspark.init()\n",
    "\n",
    "import sys\n",
    "sys.path.append('./lib')\n",
    "\n",
    "from numpy_pack import packArray,unpackArray\n",
    "\n",
    "from Eigen_decomp import Eigen_decomp\n",
    "from YearPlotter import YearPlotter\n",
    "from recon_plot import recon_plot\n",
    "\n",
    "from import_modules import import_modules,modules\n",
    "import_modules(modules)\n",
    "\n",
    "from ipywidgets import interactive,widgets"
   ]
  },
  {
   "cell_type": "code",
   "execution_count": 3,
   "metadata": {
    "collapsed": true
   },
   "outputs": [],
   "source": [
    "from pyspark import SparkContext\n",
    "#sc.stop()\n",
    "\n",
    "sc = SparkContext(master=\"local[3]\",pyFiles=['lib/numpy_pack.py','lib/spark_PCA.py','lib/computeStats.py','lib/recon_plot.py','lib/Eigen_decomp.py'])\n",
    "\n",
    "from pyspark import SparkContext\n",
    "from pyspark.sql import *\n",
    "sqlContext = SQLContext(sc)"
   ]
  },
  {
   "cell_type": "code",
   "execution_count": 4,
   "metadata": {
    "collapsed": true
   },
   "outputs": [],
   "source": [
    "# from pickle import load\n",
    "\n",
    "# #read statistics\n",
    "# filename=data_dir+'/STAT_%s.pickle'%file_index\n",
    "# STAT,STAT_Descriptions = load(open(filename,'rb'))\n",
    "# measurements=STAT.keys()\n",
    "# print 'keys from STAT=',measurements"
   ]
  },
  {
   "cell_type": "code",
   "execution_count": 5,
   "metadata": {},
   "outputs": [
    {
     "name": "stdout",
     "output_type": "stream",
     "text": [
      "+---------+--------+---------+-----------+-----------+------+--------------------+------+--------+\n",
      "|elevation|latitude|longitude|measurement|    station|undefs|              vector|  year|   label|\n",
      "+---------+--------+---------+-----------+-----------+------+--------------------+------+--------+\n",
      "|   1385.6| 41.2511|-111.9417|       PRCP|US1UTWB0017|    42|[00 7E 00 7E 00 7...|2011.0|SBSSBSBB|\n",
      "|   1385.6| 41.2511|-111.9417|       PRCP|US1UTWB0017|    16|[00 00 00 00 00 0...|2012.0|SBSSBSBB|\n",
      "|   1319.2| 41.7267|-112.1482|       PRCP|US1UTBE0008|     3|[00 00 00 00 00 0...|2011.0|SBSSBSBB|\n",
      "|   1319.2| 41.7267|-112.1482|       PRCP|US1UTBE0008|     0|[00 00 00 00 00 0...|2012.0|SBSSBSBB|\n",
      "|   1451.5| 42.0358|-111.9617|       PRCP|USC00109698|     0|[00 00 00 00 80 5...|1899.0|SBSSBSBB|\n",
      "+---------+--------+---------+-----------+-----------+------+--------------------+------+--------+\n",
      "only showing top 5 rows\n",
      "\n"
     ]
    }
   ],
   "source": [
    "#read data\n",
    "filename=data_dir+'/US_Weather_%s.parquet'%file_index\n",
    "df_in=sqlContext.read.parquet(filename)\n",
    "#filter in \n",
    "df=df_in.filter(df_in.measurement==m)\n",
    "df.show(5)"
   ]
  },
  {
   "cell_type": "code",
   "execution_count": 6,
   "metadata": {},
   "outputs": [
    {
     "name": "stdout",
     "output_type": "stream",
     "text": [
      "88 rows\n",
      "+---------+\n",
      "|elevation|\n",
      "+---------+\n",
      "|   2731.0|\n",
      "|   2560.3|\n",
      "|   2545.1|\n",
      "|   2490.2|\n",
      "|   2487.2|\n",
      "|   2438.4|\n",
      "|   2423.2|\n",
      "|   2392.7|\n",
      "|   2359.2|\n",
      "|   2252.5|\n",
      "|   2202.2|\n",
      "|   2112.3|\n",
      "|   2054.4|\n",
      "|   1996.4|\n",
      "|   1984.2|\n",
      "|   1966.9|\n",
      "|   1958.0|\n",
      "|   1924.8|\n",
      "|   1911.1|\n",
      "|   1880.9|\n",
      "+---------+\n",
      "only showing top 20 rows\n",
      "\n"
     ]
    }
   ],
   "source": [
    "sqlContext.registerDataFrameAsTable(df,'weather')\n",
    "line='elevation'\n",
    "Query=\"SELECT %s FROM weather\\n\\tGROUP BY %s ORDER BY %s DESC\" %(line,line,line)\n",
    "df1 = sqlContext.sql(Query)\n",
    "print df1.count(),'rows'\n",
    "df1.show()"
   ]
  },
  {
   "cell_type": "code",
   "execution_count": 7,
   "metadata": {},
   "outputs": [
    {
     "name": "stdout",
     "output_type": "stream",
     "text": [
      "2523 rows\n",
      "+---------+-----------+--------+---------+\n",
      "|elevation|    station|latitude|longitude|\n",
      "+---------+-----------+--------+---------+\n",
      "|   1385.6|US1UTWB0017| 41.2511|-111.9417|\n",
      "|   1385.6|US1UTWB0017| 41.2511|-111.9417|\n",
      "|   1319.2|US1UTBE0008| 41.7267|-112.1482|\n",
      "|   1319.2|US1UTBE0008| 41.7267|-112.1482|\n",
      "|   1451.5|USC00109698| 42.0358|-111.9617|\n",
      "|   1451.5|USC00109698| 42.0358|-111.9617|\n",
      "|   1451.5|USC00109698| 42.0358|-111.9617|\n",
      "|   1451.5|USC00109698| 42.0358|-111.9617|\n",
      "|   1451.5|USC00109698| 42.0358|-111.9617|\n",
      "|   1451.5|USC00109698| 42.0358|-111.9617|\n",
      "+---------+-----------+--------+---------+\n",
      "only showing top 10 rows\n",
      "\n"
     ]
    }
   ],
   "source": [
    "sqlContext.registerDataFrameAsTable(df,'weather')\n",
    "Query=\"SELECT elevation, station, latitude, longitude FROM weather\"\n",
    "df1 = sqlContext.sql(Query)\n",
    "print df1.count(),'rows'\n",
    "df1.show(10)"
   ]
  },
  {
   "cell_type": "code",
   "execution_count": 8,
   "metadata": {},
   "outputs": [
    {
     "name": "stdout",
     "output_type": "stream",
     "text": [
      "+-----------+--------+---------+---------+--------------+\n",
      "|    station|latitude|longitude|elevation|count(station)|\n",
      "+-----------+--------+---------+---------+--------------+\n",
      "|USC00420487| 41.9583|-111.3922|   1806.9|            11|\n",
      "|USS0011J68S| 40.9333|   -111.8|   2359.2|             2|\n",
      "|USS0011G06S| 42.3667|-111.5667|   2252.5|            19|\n",
      "|USW00024126| 41.1961|-112.0114|   1362.5|            18|\n",
      "|USC00421450| 41.9167|  -112.05|   1533.1|            16|\n",
      "|USC00427271| 41.9064|  -111.81|   1426.5|           100|\n",
      "|USC00106785| 42.2333|   -111.4|   1818.4|            12|\n",
      "|USS0011H57S| 41.4667|   -111.5|   2731.0|            21|\n",
      "|USS0011G05S| 42.5667|   -111.3|   2202.2|            16|\n",
      "|US1UTCH0004| 41.9221|-111.8193|   1394.8|             2|\n",
      "+-----------+--------+---------+---------+--------------+\n",
      "only showing top 10 rows\n",
      "\n"
     ]
    }
   ],
   "source": [
    "df2=df1.groupby(['station','latitude','longitude','elevation']).agg({\"station\": \"count\"})\n",
    "df2.show(10)"
   ]
  },
  {
   "cell_type": "code",
   "execution_count": 9,
   "metadata": {},
   "outputs": [
    {
     "name": "stdout",
     "output_type": "stream",
     "text": [
      "+------+---+\n",
      "|    _1| _2|\n",
      "+------+---+\n",
      "|1385.6|323|\n",
      "|1385.6|349|\n",
      "+------+---+\n",
      "only showing top 2 rows\n",
      "\n",
      "<class 'pyspark.sql.dataframe.DataFrame'>\n"
     ]
    },
    {
     "data": {
      "text/html": [
       "<div>\n",
       "<table border=\"1\" class=\"dataframe\">\n",
       "  <thead>\n",
       "    <tr style=\"text-align: right;\">\n",
       "      <th></th>\n",
       "      <th>_1</th>\n",
       "      <th>_2</th>\n",
       "    </tr>\n",
       "  </thead>\n",
       "  <tbody>\n",
       "    <tr>\n",
       "      <th>0</th>\n",
       "      <td>1385.6</td>\n",
       "      <td>323</td>\n",
       "    </tr>\n",
       "    <tr>\n",
       "      <th>1</th>\n",
       "      <td>1385.6</td>\n",
       "      <td>349</td>\n",
       "    </tr>\n",
       "  </tbody>\n",
       "</table>\n",
       "</div>"
      ],
      "text/plain": [
       "       _1   _2\n",
       "0  1385.6  323\n",
       "1  1385.6  349"
      ]
     },
     "execution_count": 9,
     "metadata": {},
     "output_type": "execute_result"
    }
   ],
   "source": [
    "\n",
    "rows=df.rdd.map(lambda row:(row.elevation,row.year,unpackArray(row['vector'],np.float16))).collect()\n",
    "temp=df.rdd.map(lambda row:(row.elevation,np.count_nonzero(~np.isnan(unpackArray(row['vector'],np.float16)))))\n",
    "df2=sqlContext.createDataFrame(temp)\n",
    "df2.show(2)\n",
    "print type(df2)\n",
    "pdf=df2.toPandas()\n",
    "pdf.head(2)"
   ]
  },
  {
   "cell_type": "code",
   "execution_count": 10,
   "metadata": {},
   "outputs": [
    {
     "data": {
      "text/plain": [
       "<matplotlib.axes._subplots.AxesSubplot at 0x11c8dbd10>"
      ]
     },
     "execution_count": 10,
     "metadata": {},
     "output_type": "execute_result"
    },
    {
     "data": {
      "image/png": "[encoded data removed]",
      "text/plain": [
       "<matplotlib.figure.Figure at 0x11c8db0d0>"
      ]
     },
     "metadata": {},
     "output_type": "display_data"
    }
   ],
   "source": [
    "%matplotlib inline\n",
    "pdf.plot.scatter(x='_1',y='_2')"
   ]
  },
  {
   "cell_type": "code",
   "execution_count": 11,
   "metadata": {
    "collapsed": true
   },
   "outputs": [],
   "source": [
    "days=set([r[1] for r in rows])\n",
    "miny=min(days)\n",
    "maxy=max(days)\n",
    "record_len=int((maxy-miny+1)*365)\n",
    "\n",
    "## combine the measurements for each station into a single long array with an entry for each day of each day\n",
    "All={}  # a dictionary with a numpy array for each day of each day\n",
    "i=0\n",
    "for elevation,day,vector in rows:\n",
    "    i+=1; \n",
    "    # if i%1000==0: print i,len(All)\n",
    "    if not elevation in All:\n",
    "        a=np.zeros(record_len)\n",
    "        a.fill(np.nan)\n",
    "        All[elevation]=a\n",
    "    loc = int((day-miny)*365)\n",
    "    All[elevation][loc:loc+365]=vector"
   ]
  },
  {
   "cell_type": "code",
   "execution_count": 12,
   "metadata": {},
   "outputs": [
    {
     "name": "stdout",
     "output_type": "stream",
     "text": [
      "{1451.5: 6426, 1362.5: 22156, 1358.5: 343, 1393.5: 729, 1552.0: 660, 1371.6: 1430, 1479.5: 1036, 1324.1: 13697, 1493.5: 15940, 1822.7: 34455, 1533.1: 5668, 1373.1: 328, 1367.9: 14372, 1357.6: 5083, 1806.9: 3724, 1569.4: 711, 1372.2: 349, 1984.2: 8667, 1368.9: 365, 1505.7: 25444, 1816.6: 23278, 1551.4: 27583, 1304.5: 27020, 1307.6: 10856, 2252.5: 6789, 1626.7: 680, 2731.0: 7549, 2423.2: 6881, 2359.2: 691, 2054.4: 6003, 1289.3: 32192, 1849.8: 31855, 1473.1: 6895, 1447.8: 365, 1818.4: 4244, 1817.8: 7295, 1566.7: 12263, 1880.9: 6510, 2545.1: 6508, 1996.4: 6519, 2560.3: 6840, 2490.2: 6106, 1302.1: 13067, 1924.8: 27057, 2112.3: 5006, 1435.9: 684, 1459.1: 8006, 1292.0: 1394, 1325.9: 27262, 1665.7: 26522, 1402.1: 4469, 1338.7: 365, 1335.0: 15533, 1359.4: 687, 1319.2: 727, 2487.2: 7188, 1390.5: 673, 1694.7: 10351, 1366.1: 18298, 2438.4: 6875, 1365.8: 730, 1383.2: 346, 1294.8: 1446, 1806.2: 32549, 1341.1: 23341, 1406.0: 9850, 1426.5: 36223, 1828.8: 5789, 1439.9: 16053, 1330.1: 1053, 1911.1: 11511, 1958.0: 342, 1352.1: 704, 2202.2: 5769, 1460.0: 34903, 1463.0: 11360, 1464.6: 1346, 1394.8: 729, 1966.9: 3154, 2392.7: 3893, 1554.5: 3599, 1385.6: 672, 1360.0: 7013, 1615.4: 6545, 1691.6: 34258, 1357.9: 11154, 1324.7: 1459, 1447.5: 337}\n"
     ]
    }
   ],
   "source": [
    "All_count={};\n",
    "for elevation in All:\n",
    "    All_count[elevation]=np.count_nonzero(~np.isnan(All[elevation]))\n",
    "print All_count"
   ]
  },
  {
   "cell_type": "code",
   "execution_count": 14,
   "metadata": {},
   "outputs": [
    {
     "name": "stdout",
     "output_type": "stream",
     "text": [
      "+---------+----------+\n",
      "|elevation|rainy_days|\n",
      "+---------+----------+\n",
      "|   1451.5|      6426|\n",
      "|   1362.5|     22156|\n",
      "+---------+----------+\n",
      "only showing top 2 rows\n",
      "\n",
      "+---------+----------+\n",
      "|elevation|rainy_days|\n",
      "+---------+----------+\n",
      "|   1289.3|     32192|\n",
      "|   1292.0|      1394|\n",
      "|   1294.8|      1446|\n",
      "|   1302.1|     13067|\n",
      "|   1304.5|     27020|\n",
      "|   1307.6|     10856|\n",
      "|   1319.2|       727|\n",
      "|   1324.1|     13697|\n",
      "|   1324.7|      1459|\n",
      "|   1325.9|     27262|\n",
      "|   1330.1|      1053|\n",
      "|   1335.0|     15533|\n",
      "|   1338.7|       365|\n",
      "|   1341.1|     23341|\n",
      "|   1352.1|       704|\n",
      "|   1357.6|      5083|\n",
      "|   1357.9|     11154|\n",
      "|   1358.5|       343|\n",
      "|   1359.4|       687|\n",
      "|   1360.0|      7013|\n",
      "+---------+----------+\n",
      "only showing top 20 rows\n",
      "\n"
     ]
    },
    {
     "data": {
      "text/plain": [
       "<matplotlib.axes._subplots.AxesSubplot at 0x122536050>"
      ]
     },
     "execution_count": 14,
     "metadata": {},
     "output_type": "execute_result"
    },
    {
     "data": {
      "image/png": "[encoded data removed]",
      "text/plain": [
       "<matplotlib.figure.Figure at 0x122515f10>"
      ]
     },
     "metadata": {},
     "output_type": "display_data"
    }
   ],
   "source": [
    "##plot\n",
    "sort_ele=[]\n",
    "for eleva in All_count:\n",
    "    sort_ele.append(Row(elevation=eleva,rainy_days=All_count[eleva]))\n",
    "some_rdd = sc.parallelize(sort_ele)\n",
    "some_df = sqlContext.createDataFrame(some_rdd)\n",
    "some_df.show(2)\n",
    "sqlContext.registerDataFrameAsTable(some_df,'ele_snow')\n",
    "Query=\"SELECT * FROM ele_snow ORDER BY elevation\"\n",
    "some_df = sqlContext.sql(Query)\n",
    "some_df.show()\n",
    "pdf2=some_df.toPandas()\n",
    "pdf2.sort_values(by=['elevation'],inplace=True)\n",
    "pdf2.head(2)\n",
    "%matplotlib inline\n",
    "pdf2.plot.scatter(x='elevation',y='rainy_days')"
   ]
  },
  {
   "cell_type": "code",
   "execution_count": null,
   "metadata": {
    "collapsed": true
   },
   "outputs": [],
   "source": [
    "#sc.stop()"
   ]
  }
 ],
 "metadata": {
  "kernelspec": {
   "display_name": "Python 2",
   "language": "python",
   "name": "python2"
  },
  "language_info": {
   "codemirror_mode": {
    "name": "ipython",
    "version": 2
   },
   "file_extension": ".py",
   "mimetype": "text/x-python",
   "name": "python",
   "nbconvert_exporter": "python",
   "pygments_lexer": "ipython2",
   "version": "2.7.13"
  }
 },
 "nbformat": 4,
 "nbformat_minor": 2
}
