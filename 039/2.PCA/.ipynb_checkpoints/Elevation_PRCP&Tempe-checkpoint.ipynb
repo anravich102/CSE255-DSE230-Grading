{
 "cells": [
  {
   "cell_type": "code",
   "execution_count": 27,
   "metadata": {
    "collapsed": true
   },
   "outputs": [],
   "source": [
    "#setup\n",
    "data_dir='../../Data/Weather'\n",
    "file_index='SBSSBSBB'\n",
    "m='PRCP'"
   ]
  },
  {
   "cell_type": "code",
   "execution_count": 28,
   "metadata": {},
   "outputs": [
    {
     "name": "stdout",
     "output_type": "stream",
     "text": [
      "Populating the interactive namespace from numpy and matplotlib\n",
      "    pandas as    pd \tversion=0.19.2 \trequired version>=0.19.2\n",
      "     numpy as    np \tversion=1.11.3 \trequired version>=1.12.0 ******* Update Version ******\n",
      "   sklearn as    sk \tversion=0.18.1 \trequired version>=0.18.1\n",
      "    urllib as urllib \tversion=1.17 \trequired version>=1.17\n",
      "   pyspark as pyspark \tversion=2.1.0+hadoop2.7 \trequired version>=2.1.0\n",
      "ipywidgets as ipywidgets \tversion=6.0.0 \trequired version>=6.0.0\n"
     ]
    },
    {
     "name": "stderr",
     "output_type": "stream",
     "text": [
      "/anaconda/lib/python2.7/site-packages/IPython/core/magics/pylab.py:161: UserWarning: pylab import has clobbered these variables: ['sca', 'interactive']\n",
      "`%matplotlib` prevents importing * from pylab and numpy\n",
      "  \"\\n`%matplotlib` prevents importing * from pylab and numpy\"\n"
     ]
    }
   ],
   "source": [
    "#%matplotlib inline\n",
    "%pylab inline\n",
    "import numpy as np\n",
    "\n",
    "import findspark\n",
    "findspark.init()\n",
    "\n",
    "import sys\n",
    "sys.path.append('./lib')\n",
    "\n",
    "from numpy_pack import packArray,unpackArray\n",
    "\n",
    "from Eigen_decomp import Eigen_decomp\n",
    "from YearPlotter import YearPlotter\n",
    "from recon_plot import recon_plot\n",
    "\n",
    "from import_modules import import_modules,modules\n",
    "import_modules(modules)\n",
    "\n",
    "from ipywidgets import interactive,widgets"
   ]
  },
  {
   "cell_type": "code",
   "execution_count": 29,
   "metadata": {
    "collapsed": true
   },
   "outputs": [],
   "source": [
    "from pyspark import SparkContext\n",
    "#sc.stop()\n",
    "\n",
    "sc = SparkContext(master=\"local[3]\",pyFiles=['lib/numpy_pack.py','lib/spark_PCA.py','lib/computeStats.py','lib/recon_plot.py','lib/Eigen_decomp.py'])\n",
    "\n",
    "from pyspark import SparkContext\n",
    "from pyspark.sql import *\n",
    "sqlContext = SQLContext(sc)"
   ]
  },
  {
   "cell_type": "code",
   "execution_count": 4,
   "metadata": {
    "collapsed": true
   },
   "outputs": [],
   "source": [
    "# from pickle import load\n",
    "\n",
    "# #read statistics\n",
    "# filename=data_dir+'/STAT_%s.pickle'%file_index\n",
    "# STAT,STAT_Descriptions = load(open(filename,'rb'))\n",
    "# measurements=STAT.keys()\n",
    "# print 'keys from STAT=',measurements"
   ]
  },
  {
   "cell_type": "code",
   "execution_count": 31,
   "metadata": {},
   "outputs": [
    {
     "name": "stdout",
     "output_type": "stream",
     "text": [
      "+---------+--------+---------+-----------+-----------+------+--------------------+------+--------+\n",
      "|elevation|latitude|longitude|measurement|    station|undefs|              vector|  year|   label|\n",
      "+---------+--------+---------+-----------+-----------+------+--------------------+------+--------+\n",
      "|   1385.6| 41.2511|-111.9417|       PRCP|US1UTWB0017|    42|[00 7E 00 7E 00 7...|2011.0|SBSSBSBB|\n",
      "|   1385.6| 41.2511|-111.9417|       PRCP|US1UTWB0017|    16|[00 00 00 00 00 0...|2012.0|SBSSBSBB|\n",
      "|   1319.2| 41.7267|-112.1482|       PRCP|US1UTBE0008|     3|[00 00 00 00 00 0...|2011.0|SBSSBSBB|\n",
      "|   1319.2| 41.7267|-112.1482|       PRCP|US1UTBE0008|     0|[00 00 00 00 00 0...|2012.0|SBSSBSBB|\n",
      "|   1451.5| 42.0358|-111.9617|       PRCP|USC00109698|     0|[00 00 00 00 80 5...|1899.0|SBSSBSBB|\n",
      "+---------+--------+---------+-----------+-----------+------+--------------------+------+--------+\n",
      "only showing top 5 rows\n",
      "\n"
     ]
    }
   ],
   "source": [
    "#read data\n",
    "filename=data_dir+'/US_Weather_%s.parquet'%file_index\n",
    "df_in=sqlContext.read.parquet(filename)\n",
    "#filter in \n",
    "df=df_in.filter(df_in.measurement==m)\n",
    "df.show(5)"
   ]
  },
  {
   "cell_type": "code",
   "execution_count": 39,
   "metadata": {},
   "outputs": [
    {
     "name": "stdout",
     "output_type": "stream",
     "text": [
      "1 rows\n",
      "+---------+\n",
      "|elevation|\n",
      "+---------+\n",
      "|   1289.3|\n",
      "+---------+\n",
      "\n"
     ]
    }
   ],
   "source": [
    "sqlContext.registerDataFrameAsTable(df_in,'weather')\n",
    "line='elevation'\n",
    "Query=\"SELECT %s FROM weather\\n\\tGROUP BY %s ORDER BY %s LIMIT 1\" %(line,line,line)\n",
    "df_in1 = sqlContext.sql(Query)\n",
    "print df_in1.count(),'rows'\n",
    "df_in1.show(1)"
   ]
  },
  {
   "cell_type": "code",
   "execution_count": 6,
   "metadata": {},
   "outputs": [
    {
     "name": "stdout",
     "output_type": "stream",
     "text": [
      "88 rows\n",
      "+---------+\n",
      "|elevation|\n",
      "+---------+\n",
      "|   2731.0|\n",
      "|   2560.3|\n",
      "|   2545.1|\n",
      "|   2490.2|\n",
      "|   2487.2|\n",
      "|   2438.4|\n",
      "|   2423.2|\n",
      "|   2392.7|\n",
      "|   2359.2|\n",
      "|   2252.5|\n",
      "|   2202.2|\n",
      "|   2112.3|\n",
      "|   2054.4|\n",
      "|   1996.4|\n",
      "|   1984.2|\n",
      "|   1966.9|\n",
      "|   1958.0|\n",
      "|   1924.8|\n",
      "|   1911.1|\n",
      "|   1880.9|\n",
      "+---------+\n",
      "only showing top 20 rows\n",
      "\n"
     ]
    }
   ],
   "source": [
    "sqlContext.registerDataFrameAsTable(df,'weather')\n",
    "line='elevation'\n",
    "Query=\"SELECT %s FROM weather\\n\\tGROUP BY %s ORDER BY %s DESC\" %(line,line,line)\n",
    "df1 = sqlContext.sql(Query)\n",
    "print df1.count(),'rows'\n",
    "df1.show()"
   ]
  },
  {
   "cell_type": "code",
   "execution_count": 7,
   "metadata": {},
   "outputs": [
    {
     "name": "stdout",
     "output_type": "stream",
     "text": [
      "2523 rows\n",
      "+---------+-----------+--------+---------+\n",
      "|elevation|    station|latitude|longitude|\n",
      "+---------+-----------+--------+---------+\n",
      "|   1385.6|US1UTWB0017| 41.2511|-111.9417|\n",
      "|   1385.6|US1UTWB0017| 41.2511|-111.9417|\n",
      "|   1319.2|US1UTBE0008| 41.7267|-112.1482|\n",
      "|   1319.2|US1UTBE0008| 41.7267|-112.1482|\n",
      "|   1451.5|USC00109698| 42.0358|-111.9617|\n",
      "|   1451.5|USC00109698| 42.0358|-111.9617|\n",
      "|   1451.5|USC00109698| 42.0358|-111.9617|\n",
      "|   1451.5|USC00109698| 42.0358|-111.9617|\n",
      "|   1451.5|USC00109698| 42.0358|-111.9617|\n",
      "|   1451.5|USC00109698| 42.0358|-111.9617|\n",
      "+---------+-----------+--------+---------+\n",
      "only showing top 10 rows\n",
      "\n"
     ]
    }
   ],
   "source": [
    "sqlContext.registerDataFrameAsTable(df,'weather')\n",
    "Query=\"SELECT elevation, station, latitude, longitude FROM weather\"\n",
    "df1 = sqlContext.sql(Query)\n",
    "print df1.count(),'rows'\n",
    "df1.show(10)"
   ]
  },
  {
   "cell_type": "code",
   "execution_count": 8,
   "metadata": {},
   "outputs": [
    {
     "name": "stdout",
     "output_type": "stream",
     "text": [
      "+-----------+--------+---------+---------+--------------+\n",
      "|    station|latitude|longitude|elevation|count(station)|\n",
      "+-----------+--------+---------+---------+--------------+\n",
      "|USC00420487| 41.9583|-111.3922|   1806.9|            11|\n",
      "|USS0011J68S| 40.9333|   -111.8|   2359.2|             2|\n",
      "|USS0011G06S| 42.3667|-111.5667|   2252.5|            19|\n",
      "|USW00024126| 41.1961|-112.0114|   1362.5|            18|\n",
      "|USC00421450| 41.9167|  -112.05|   1533.1|            16|\n",
      "|USC00427271| 41.9064|  -111.81|   1426.5|           100|\n",
      "|USC00106785| 42.2333|   -111.4|   1818.4|            12|\n",
      "|USS0011H57S| 41.4667|   -111.5|   2731.0|            21|\n",
      "|USS0011G05S| 42.5667|   -111.3|   2202.2|            16|\n",
      "|US1UTCH0004| 41.9221|-111.8193|   1394.8|             2|\n",
      "+-----------+--------+---------+---------+--------------+\n",
      "only showing top 10 rows\n",
      "\n"
     ]
    }
   ],
   "source": [
    "df2=df1.groupby(['station','latitude','longitude','elevation']).agg({\"station\": \"count\"})\n",
    "df2.show(10)"
   ]
  },
  {
   "cell_type": "code",
   "execution_count": 9,
   "metadata": {},
   "outputs": [
    {
     "name": "stdout",
     "output_type": "stream",
     "text": [
      "+------+---+\n",
      "|    _1| _2|\n",
      "+------+---+\n",
      "|1385.6|323|\n",
      "|1385.6|349|\n",
      "+------+---+\n",
      "only showing top 2 rows\n",
      "\n",
      "<class 'pyspark.sql.dataframe.DataFrame'>\n"
     ]
    },
    {
     "data": {
      "text/html": [
       "<div>\n",
       "<table border=\"1\" class=\"dataframe\">\n",
       "  <thead>\n",
       "    <tr style=\"text-align: right;\">\n",
       "      <th></th>\n",
       "      <th>_1</th>\n",
       "      <th>_2</th>\n",
       "    </tr>\n",
       "  </thead>\n",
       "  <tbody>\n",
       "    <tr>\n",
       "      <th>0</th>\n",
       "      <td>1385.6</td>\n",
       "      <td>323</td>\n",
       "    </tr>\n",
       "    <tr>\n",
       "      <th>1</th>\n",
       "      <td>1385.6</td>\n",
       "      <td>349</td>\n",
       "    </tr>\n",
       "  </tbody>\n",
       "</table>\n",
       "</div>"
      ],
      "text/plain": [
       "       _1   _2\n",
       "0  1385.6  323\n",
       "1  1385.6  349"
      ]
     },
     "execution_count": 9,
     "metadata": {},
     "output_type": "execute_result"
    }
   ],
   "source": [
    "\n",
    "rows=df.rdd.map(lambda row:(row.elevation,row.year,unpackArray(row['vector'],np.float16))).collect()\n",
    "temp=df.rdd.map(lambda row:(row.elevation,np.count_nonzero(~np.isnan(unpackArray(row['vector'],np.float16)))))\n",
    "df2=sqlContext.createDataFrame(temp)\n",
    "df2.show(2)\n",
    "print type(df2)\n",
    "pdf=df2.toPandas()\n",
    "pdf.head(2)"
   ]
  },
  {
   "cell_type": "code",
   "execution_count": 10,
   "metadata": {},
   "outputs": [
    {
     "data": {
      "text/plain": [
       "<matplotlib.axes._subplots.AxesSubplot at 0x114583cd0>"
      ]
     },
     "execution_count": 10,
     "metadata": {},
     "output_type": "execute_result"
    },
    {
     "data": {
      "image/png": "[encoded data removed]",
      "text/plain": [
       "<matplotlib.figure.Figure at 0x114583710>"
      ]
     },
     "metadata": {},
     "output_type": "display_data"
    }
   ],
   "source": [
    "%matplotlib inline\n",
    "pdf.plot.scatter(x='_1',y='_2')"
   ]
  },
  {
   "cell_type": "code",
   "execution_count": 11,
   "metadata": {},
   "outputs": [
    {
     "name": "stdout",
     "output_type": "stream",
     "text": [
      "{1451.5: 6791, 1362.5: 36626, 1393.5: 1094, 1358.5: 686, 1552.0: 985, 1371.6: 1795, 1806.2: 32890, 1694.7: 10714, 1533.1: 6007, 2490.2: 6428, 1373.1: 656, 1324.1: 14043, 1367.9: 14737, 1357.6: 5448, 1551.4: 27917, 1439.9: 16417, 1822.7: 34774, 1984.2: 9032, 1307.6: 11221, 1479.5: 1373, 1505.7: 25789, 1304.5: 27385, 1402.1: 4793, 2252.5: 7138, 1626.7: 1030, 1368.9: 730, 2731.0: 7913, 2359.2: 1054, 2487.2: 7550, 2054.4: 6338, 1924.8: 27396, 1473.1: 7229, 1289.3: 39756, 1357.9: 11474, 1849.8: 32216, 1566.7: 12628, 1880.9: 6869, 2545.1: 6848, 1996.4: 6881, 2112.3: 5359, 1330.1: 1397, 2202.2: 6119, 1817.8: 7660, 1966.9: 3473, 2560.3: 7200, 1435.9: 1027, 1292.0: 3219, 1325.9: 27616, 1665.7: 26856, 1911.1: 11875, 2423.2: 7244, 1338.7: 730, 1366.1: 23281, 1806.9: 4081, 1554.5: 3964, 1359.4: 1049, 1319.2: 1089, 1335.0: 15892, 1360.0: 7333, 1390.5: 1022, 1302.1: 13432, 2438.4: 13718, 1365.8: 1095, 1383.2: 692, 1294.8: 1810, 1341.1: 23687, 1406.0: 10215, 1493.5: 16305, 1828.8: 6153, 1569.4: 1076, 1459.1: 8368, 1816.6: 23641, 1958.0: 684, 1352.1: 1061, 1460.0: 35241, 1463.0: 11725, 1464.6: 1682, 1447.8: 730, 1818.4: 4608, 2392.7: 4257, 1426.5: 36587, 1385.6: 995, 1615.4: 6910, 1372.2: 698, 1691.6: 59546, 1394.8: 1094, 1324.7: 1824, 1447.5: 674}\n"
     ]
    }
   ],
   "source": [
    "\n",
    "\n",
    "## combine the measurements for each station into a single long array with an entry for each day of each day\n",
    "All_count={}  # a dictionary with a numpy array for each day of each day\n",
    "i=0\n",
    "for elevation,day,vector in rows:\n",
    "    i+=1; \n",
    "    # if i%1000==0: print i,len(All)\n",
    "    if not elevation in All_count:\n",
    "        All_count[elevation]=(np.count_nonzero(~np.isnan(vector)),0)\n",
    "    All_count[elevation][0]+=np.count_nonzero(~np.isnan(vector))\n",
    "print All_count"
   ]
  },
  {
   "cell_type": "code",
   "execution_count": 12,
   "metadata": {
    "collapsed": true
   },
   "outputs": [],
   "source": [
    "# All_count={};\n",
    "# for elevation in All:\n",
    "#     All_count[elevation]=np.count_nonzero(~np.isnan(All[elevation]))\n",
    "# print All_count"
   ]
  },
  {
   "cell_type": "code",
   "execution_count": 13,
   "metadata": {
    "scrolled": true
   },
   "outputs": [
    {
     "name": "stdout",
     "output_type": "stream",
     "text": [
      "+---------+----------+\n",
      "|elevation|rainy_days|\n",
      "+---------+----------+\n",
      "|   1451.5|      6791|\n",
      "|   1362.5|     36626|\n",
      "+---------+----------+\n",
      "only showing top 2 rows\n",
      "\n",
      "+---------+----------+\n",
      "|elevation|rainy_days|\n",
      "+---------+----------+\n",
      "|   2731.0|      7913|\n",
      "|   2560.3|      7200|\n",
      "|   2545.1|      6848|\n",
      "|   2490.2|      6428|\n",
      "|   2487.2|      7550|\n",
      "|   2438.4|     13718|\n",
      "|   2423.2|      7244|\n",
      "|   2392.7|      4257|\n",
      "|   2359.2|      1054|\n",
      "|   2252.5|      7138|\n",
      "|   2202.2|      6119|\n",
      "|   2112.3|      5359|\n",
      "|   2054.4|      6338|\n",
      "|   1996.4|      6881|\n",
      "|   1984.2|      9032|\n",
      "|   1966.9|      3473|\n",
      "|   1958.0|       684|\n",
      "|   1924.8|     27396|\n",
      "|   1911.1|     11875|\n",
      "|   1880.9|      6869|\n",
      "+---------+----------+\n",
      "only showing top 20 rows\n",
      "\n"
     ]
    },
    {
     "data": {
      "text/plain": [
       "<matplotlib.axes._subplots.AxesSubplot at 0x114583810>"
      ]
     },
     "execution_count": 13,
     "metadata": {},
     "output_type": "execute_result"
    },
    {
     "data": {
      "image/png": "[encoded data removed]",
      "text/plain": [
       "<matplotlib.figure.Figure at 0x117f37850>"
      ]
     },
     "metadata": {},
     "output_type": "display_data"
    }
   ],
   "source": [
    "##plot\n",
    "sort_ele=[]\n",
    "for eleva in All_count:\n",
    "    sort_ele.append(Row(elevation=eleva,rainy_days=All_count[eleva]))\n",
    "some_rdd = sc.parallelize(sort_ele)\n",
    "some_df = sqlContext.createDataFrame(some_rdd)\n",
    "some_df.show(2)\n",
    "sqlContext.registerDataFrameAsTable(some_df,'ele_snow')\n",
    "Query=\"SELECT * FROM ele_snow ORDER BY elevation DESC\"\n",
    "some_df = sqlContext.sql(Query)\n",
    "some_df.show()\n",
    "pdf2=some_df.toPandas()\n",
    "pdf2.sort_values(by=['elevation'],inplace=True)\n",
    "pdf2.head(2)\n",
    "%matplotlib inline\n",
    "pdf2.plot.scatter(x='elevation',y='rainy_days')"
   ]
  },
  {
   "cell_type": "code",
   "execution_count": 14,
   "metadata": {},
   "outputs": [
    {
     "name": "stdout",
     "output_type": "stream",
     "text": [
      "+---------+--------+---------+-----------+-----------+------+--------------------+------+--------+\n",
      "|elevation|latitude|longitude|measurement|    station|undefs|              vector|  year|   label|\n",
      "+---------+--------+---------+-----------+-----------+------+--------------------+------+--------+\n",
      "|   2257.3| 41.7833|-111.5333|       TOBS|USS0011H58S|    32|[00 7E 00 7E 00 7...|2003.0|SBSSBSBB|\n",
      "|   2257.3| 41.7833|-111.5333|       TOBS|USS0011H58S|    19|[40 D2 A0 D7 A0 D...|2004.0|SBSSBSBB|\n",
      "|   2257.3| 41.7833|-111.5333|       TOBS|USS0011H58S|     5|[00 D3 80 D1 20 D...|2005.0|SBSSBSBB|\n",
      "|   2257.3| 41.7833|-111.5333|       TOBS|USS0011H58S|    20|[80 D1 00 00 80 C...|2006.0|SBSSBSBB|\n",
      "|   2257.3| 41.7833|-111.5333|       TOBS|USS0011H58S|     4|[30 D4 00 CF 80 4...|2007.0|SBSSBSBB|\n",
      "+---------+--------+---------+-----------+-----------+------+--------------------+------+--------+\n",
      "only showing top 5 rows\n",
      "\n"
     ]
    }
   ],
   "source": [
    "#read data\n",
    "filename=data_dir+'/US_Weather_%s.parquet'%file_index\n",
    "df_in=sqlContext.read.parquet(filename)\n",
    "#filter in \n",
    "m='TOBS'\n",
    "df=df_in.filter(df_in.measurement==m)\n",
    "df.show(5)"
   ]
  },
  {
   "cell_type": "code",
   "execution_count": 24,
   "metadata": {
    "collapsed": true
   },
   "outputs": [],
   "source": [
    "another_rows=df.rdd.map(lambda row:(row.year,np.nanmean(unpackArray(row['vector'],np.float16)))).collect()\n",
    "\n",
    "All_tem={}  # a dictionary with a numpy array for each day of each day\n",
    "i=0\n",
    "for year,sca in another_rows:\n",
    "    i+=1; \n",
    "    # if i%1000==0: print i,len(All)\n",
    "    if not year in All_tem:\n",
    "        All_tem[year]=int(sca)/10\n",
    "    All_tem[year]=max(All_tem[year],int(sca)/10)"
   ]
  },
  {
   "cell_type": "code",
   "execution_count": 25,
   "metadata": {},
   "outputs": [
    {
     "name": "stdout",
     "output_type": "stream",
     "text": [
      "+----------+------+\n",
      "|centigrade| years|\n",
      "+----------+------+\n",
      "|        10|1901.0|\n",
      "|        11|1902.0|\n",
      "+----------+------+\n",
      "only showing top 2 rows\n",
      "\n",
      "+----------+------+\n",
      "|centigrade| years|\n",
      "+----------+------+\n",
      "|        10|1901.0|\n",
      "|        11|1902.0|\n",
      "|        12|1903.0|\n",
      "|         9|1904.0|\n",
      "|         7|1905.0|\n",
      "|         6|1906.0|\n",
      "|         8|1907.0|\n",
      "|         8|1908.0|\n",
      "|         9|1909.0|\n",
      "|        11|1910.0|\n",
      "|         9|1911.0|\n",
      "|        11|1912.0|\n",
      "|        11|1913.0|\n",
      "|        12|1914.0|\n",
      "|        13|1915.0|\n",
      "|        12|1916.0|\n",
      "|        12|1917.0|\n",
      "|        13|1918.0|\n",
      "|        13|1919.0|\n",
      "|        11|1920.0|\n",
      "+----------+------+\n",
      "only showing top 20 rows\n",
      "\n"
     ]
    },
    {
     "data": {
      "text/plain": [
       "<matplotlib.axes._subplots.AxesSubplot at 0x11847ded0>"
      ]
     },
     "execution_count": 25,
     "metadata": {},
     "output_type": "execute_result"
    },
    {
     "data": {
      "image/png": "[encoded data removed]",
      "text/plain": [
       "<matplotlib.figure.Figure at 0x1184b6d90>"
      ]
     },
     "metadata": {},
     "output_type": "display_data"
    }
   ],
   "source": [
    "##plot\n",
    "sort_ele=[]\n",
    "for year in All_tem:\n",
    "    sort_ele.append(Row(years=year,centigrade=All_tem[year]))\n",
    "some_rdd = sc.parallelize(sort_ele)\n",
    "some_df = sqlContext.createDataFrame(some_rdd)\n",
    "some_df.show(2)\n",
    "sqlContext.registerDataFrameAsTable(some_df,'ele')\n",
    "Query=\"SELECT * FROM ele ORDER BY years\"\n",
    "some_df = sqlContext.sql(Query)\n",
    "some_df.show()\n",
    "pdf2=some_df.toPandas()\n",
    "pdf2.head(2)\n",
    "%matplotlib inline\n",
    "pdf2.plot(x='years',y='centigrade')"
   ]
  },
  {
   "cell_type": "code",
   "execution_count": 26,
   "metadata": {
    "collapsed": true
   },
   "outputs": [],
   "source": [
    "sc.stop()"
   ]
  }
 ],
 "metadata": {
  "kernelspec": {
   "display_name": "Python 2",
   "language": "python",
   "name": "python2"
  },
  "language_info": {
   "codemirror_mode": {
    "name": "ipython",
    "version": 2
   },
   "file_extension": ".py",
   "mimetype": "text/x-python",
   "name": "python",
   "nbconvert_exporter": "python",
   "pygments_lexer": "ipython2",
   "version": "2.7.13"
  }
 },
 "nbformat": 4,
 "nbformat_minor": 2
}
