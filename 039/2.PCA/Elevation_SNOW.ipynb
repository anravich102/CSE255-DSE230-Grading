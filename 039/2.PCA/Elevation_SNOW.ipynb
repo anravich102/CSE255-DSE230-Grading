{
 "cells": [
  {
   "cell_type": "code",
   "execution_count": 1,
   "metadata": {
    "collapsed": true
   },
   "outputs": [],
   "source": [
    "#setup\n",
    "data_dir='../../Data/Weather'\n",
    "file_index='SBSSBSBB'\n",
    "m='SNOW'"
   ]
  },
  {
   "cell_type": "code",
   "execution_count": 2,
   "metadata": {},
   "outputs": [
    {
     "name": "stdout",
     "output_type": "stream",
     "text": [
      "Populating the interactive namespace from numpy and matplotlib\n",
      "    pandas as    pd \tversion=0.19.2 \trequired version>=0.19.2\n",
      "     numpy as    np \tversion=1.11.3 \trequired version>=1.12.0 ******* Update Version ******\n",
      "   sklearn as    sk \tversion=0.18.1 \trequired version>=0.18.1\n",
      "    urllib as urllib \tversion=1.17 \trequired version>=1.17\n",
      "   pyspark as pyspark \tversion=2.1.0+hadoop2.7 \trequired version>=2.1.0\n",
      "ipywidgets as ipywidgets \tversion=6.0.0 \trequired version>=6.0.0\n"
     ]
    }
   ],
   "source": [
    "#%matplotlib inline\n",
    "%pylab inline\n",
    "import numpy as np\n",
    "\n",
    "import findspark\n",
    "findspark.init()\n",
    "\n",
    "import sys\n",
    "sys.path.append('./lib')\n",
    "\n",
    "from numpy_pack import packArray,unpackArray\n",
    "\n",
    "from Eigen_decomp import Eigen_decomp\n",
    "from YearPlotter import YearPlotter\n",
    "from recon_plot import recon_plot\n",
    "\n",
    "from import_modules import import_modules,modules\n",
    "import_modules(modules)\n",
    "\n",
    "from ipywidgets import interactive,widgets"
   ]
  },
  {
   "cell_type": "code",
   "execution_count": 4,
   "metadata": {},
   "outputs": [],
   "source": [
    "from pyspark import SparkContext\n",
    "#sc.stop()\n",
    "\n",
    "sc = SparkContext(master=\"local[3]\",pyFiles=['lib/numpy_pack.py','lib/spark_PCA.py','lib/computeStats.py','lib/recon_plot.py','lib/Eigen_decomp.py'])\n",
    "\n",
    "from pyspark import SparkContext\n",
    "from pyspark.sql import *\n",
    "sqlContext = SQLContext(sc)"
   ]
  },
  {
   "cell_type": "code",
   "execution_count": 5,
   "metadata": {
    "collapsed": true
   },
   "outputs": [],
   "source": [
    "# from pickle import load\n",
    "\n",
    "# #read statistics\n",
    "# filename=data_dir+'/STAT_%s.pickle'%file_index\n",
    "# STAT,STAT_Descriptions = load(open(filename,'rb'))\n",
    "# measurements=STAT.keys()\n",
    "# print 'keys from STAT=',measurements"
   ]
  },
  {
   "cell_type": "code",
   "execution_count": 6,
   "metadata": {},
   "outputs": [
    {
     "name": "stdout",
     "output_type": "stream",
     "text": [
      "+---------+--------+---------+-----------+-----------+------+--------------------+------+--------+\n",
      "|elevation|latitude|longitude|measurement|    station|undefs|              vector|  year|   label|\n",
      "+---------+--------+---------+-----------+-----------+------+--------------------+------+--------+\n",
      "|   1473.1|   41.15|-111.9167|       SNOW|USC00428885|     0|[80 50 80 4A A0 5...|1942.0|SBSSBSBB|\n",
      "|   1473.1|   41.15|-111.9167|       SNOW|USC00428885|     1|[00 00 00 00 00 0...|1943.0|SBSSBSBB|\n",
      "|   1473.1|   41.15|-111.9167|       SNOW|USC00428885|     4|[00 00 C0 50 60 5...|1944.0|SBSSBSBB|\n",
      "|   1473.1|   41.15|-111.9167|       SNOW|USC00428885|     0|[00 00 00 00 00 0...|1945.0|SBSSBSBB|\n",
      "|   1473.1|   41.15|-111.9167|       SNOW|USC00428885|     0|[00 00 00 00 00 0...|1946.0|SBSSBSBB|\n",
      "+---------+--------+---------+-----------+-----------+------+--------------------+------+--------+\n",
      "only showing top 5 rows\n",
      "\n"
     ]
    }
   ],
   "source": [
    "#read data\n",
    "filename=data_dir+'/US_Weather_%s.parquet'%file_index\n",
    "df_in=sqlContext.read.parquet(filename)\n",
    "#filter in \n",
    "df=df_in.filter(df_in.measurement==m)\n",
    "df.show(5)"
   ]
  },
  {
   "cell_type": "code",
   "execution_count": 7,
   "metadata": {},
   "outputs": [
    {
     "name": "stdout",
     "output_type": "stream",
     "text": [
      "51 rows\n",
      "+---------+\n",
      "|elevation|\n",
      "+---------+\n",
      "|   1984.2|\n",
      "|   1966.9|\n",
      "|   1958.0|\n",
      "|   1924.8|\n",
      "|   1911.1|\n",
      "|   1880.9|\n",
      "|   1849.8|\n",
      "|   1822.7|\n",
      "|   1818.4|\n",
      "|   1817.8|\n",
      "|   1816.6|\n",
      "|   1806.9|\n",
      "|   1806.2|\n",
      "|   1694.7|\n",
      "|   1691.6|\n",
      "|   1665.7|\n",
      "|   1569.4|\n",
      "|   1566.7|\n",
      "|   1554.5|\n",
      "|   1551.4|\n",
      "+---------+\n",
      "only showing top 20 rows\n",
      "\n"
     ]
    }
   ],
   "source": [
    "sqlContext.registerDataFrameAsTable(df,'weather')\n",
    "line='elevation'\n",
    "Query=\"SELECT %s FROM weather\\n\\tGROUP BY %s ORDER BY %s DESC\" %(line,line,line)\n",
    "df1 = sqlContext.sql(Query)\n",
    "print df1.count(),'rows'\n",
    "df1.show()"
   ]
  },
  {
   "cell_type": "code",
   "execution_count": 8,
   "metadata": {},
   "outputs": [
    {
     "name": "stdout",
     "output_type": "stream",
     "text": [
      "1658 rows\n",
      "+---------+-----------+--------+---------+\n",
      "|elevation|    station|latitude|longitude|\n",
      "+---------+-----------+--------+---------+\n",
      "|   1473.1|USC00428885|   41.15|-111.9167|\n",
      "|   1473.1|USC00428885|   41.15|-111.9167|\n",
      "|   1473.1|USC00428885|   41.15|-111.9167|\n",
      "|   1473.1|USC00428885|   41.15|-111.9167|\n",
      "|   1473.1|USC00428885|   41.15|-111.9167|\n",
      "|   1473.1|USC00428885|   41.15|-111.9167|\n",
      "|   1473.1|USC00428885|   41.15|-111.9167|\n",
      "|   1473.1|USC00428885|   41.15|-111.9167|\n",
      "|   1473.1|USC00428885|   41.15|-111.9167|\n",
      "|   1473.1|USC00428885|   41.15|-111.9167|\n",
      "+---------+-----------+--------+---------+\n",
      "only showing top 10 rows\n",
      "\n"
     ]
    }
   ],
   "source": [
    "sqlContext.registerDataFrameAsTable(df,'weather')\n",
    "Query=\"SELECT elevation, station, latitude, longitude FROM weather\"\n",
    "df1 = sqlContext.sql(Query)\n",
    "print df1.count(),'rows'\n",
    "df1.show(10)"
   ]
  },
  {
   "cell_type": "code",
   "execution_count": 9,
   "metadata": {},
   "outputs": [
    {
     "name": "stdout",
     "output_type": "stream",
     "text": [
      "+-----------+--------+---------+---------+--------------+\n",
      "|    station|latitude|longitude|elevation|count(station)|\n",
      "+-----------+--------+---------+---------+--------------+\n",
      "|USC00420487| 41.9583|-111.3922|   1806.9|            17|\n",
      "|USW00024126| 41.1961|-112.0114|   1362.5|             4|\n",
      "|USC00427271| 41.9064|  -111.81|   1426.5|            81|\n",
      "|USC00106785| 42.2333|   -111.4|   1818.4|             1|\n",
      "|USC00425183|    41.7|-111.8667|   1366.1|             2|\n",
      "|USC00103490| 42.3833|-111.0667|   1880.9|            10|\n",
      "|USC00423671|    41.6|-111.5667|   1694.7|            25|\n",
      "|USC00425190| 41.7667|-111.8167|   1406.0|             8|\n",
      "|USC00424970| 41.0972|-111.9972|   1359.4|             2|\n",
      "|USC00480915| 42.2128|-111.0456|   1849.8|            70|\n",
      "+-----------+--------+---------+---------+--------------+\n",
      "only showing top 10 rows\n",
      "\n"
     ]
    }
   ],
   "source": [
    "df2=df1.groupby(['station','latitude','longitude','elevation']).agg({\"station\": \"count\"})\n",
    "df2.show(10)"
   ]
  },
  {
   "cell_type": "code",
   "execution_count": 10,
   "metadata": {},
   "outputs": [
    {
     "name": "stdout",
     "output_type": "stream",
     "text": [
      "+------+---+\n",
      "|    _1| _2|\n",
      "+------+---+\n",
      "|1473.1|365|\n",
      "|1473.1|364|\n",
      "+------+---+\n",
      "only showing top 2 rows\n",
      "\n",
      "<class 'pyspark.sql.dataframe.DataFrame'>\n"
     ]
    },
    {
     "data": {
      "text/html": [
       "<div>\n",
       "<table border=\"1\" class=\"dataframe\">\n",
       "  <thead>\n",
       "    <tr style=\"text-align: right;\">\n",
       "      <th></th>\n",
       "      <th>_1</th>\n",
       "      <th>_2</th>\n",
       "    </tr>\n",
       "  </thead>\n",
       "  <tbody>\n",
       "    <tr>\n",
       "      <th>0</th>\n",
       "      <td>1473.1</td>\n",
       "      <td>365</td>\n",
       "    </tr>\n",
       "    <tr>\n",
       "      <th>1</th>\n",
       "      <td>1473.1</td>\n",
       "      <td>364</td>\n",
       "    </tr>\n",
       "  </tbody>\n",
       "</table>\n",
       "</div>"
      ],
      "text/plain": [
       "       _1   _2\n",
       "0  1473.1  365\n",
       "1  1473.1  364"
      ]
     },
     "execution_count": 10,
     "metadata": {},
     "output_type": "execute_result"
    }
   ],
   "source": [
    "\n",
    "rows=df.rdd.map(lambda row:(row.elevation,row.year,unpackArray(row['vector'],np.float16))).collect()\n",
    "temp=df.rdd.map(lambda row:(row.elevation,np.count_nonzero(~np.isnan(unpackArray(row['vector'],np.float16)))))\n",
    "df2=sqlContext.createDataFrame(temp)\n",
    "df2.show(2)\n",
    "print type(df2)\n",
    "pdf=df2.toPandas()\n",
    "pdf.head(2)"
   ]
  },
  {
   "cell_type": "code",
   "execution_count": 11,
   "metadata": {},
   "outputs": [
    {
     "data": {
      "text/plain": [
       "<matplotlib.axes._subplots.AxesSubplot at 0x111860ed0>"
      ]
     },
     "execution_count": 11,
     "metadata": {},
     "output_type": "execute_result"
    },
    {
     "data": {
      "image/png": "[encoded data removed]",
      "text/plain": [
       "<matplotlib.figure.Figure at 0x11180cd10>"
      ]
     },
     "metadata": {},
     "output_type": "display_data"
    }
   ],
   "source": [
    "%matplotlib inline\n",
    "pdf.plot.scatter(x='_1',y='_2')"
   ]
  },
  {
   "cell_type": "code",
   "execution_count": 12,
   "metadata": {},
   "outputs": [
    {
     "name": "stdout",
     "output_type": "stream",
     "text": [
      "{1451.5: 17, 1362.5: 15, 1849.8: 33, 1393.5: 38, 1426.5: 28, 1569.4: 29, 1694.7: 21, 1459.1: 36, 1304.5: 10, 1292.0: 21, 1307.6: 18, 1366.1: 25, 1691.6: 25, 1373.1: 21, 1665.7: 31, 1371.6: 33, 1806.2: 25, 1958.0: 58, 1818.4: 17, 1352.1: 30, 1505.7: 36, 1460.0: 30, 1911.1: 36, 1463.0: 28, 1816.6: 40, 1367.9: 27, 1289.3: 14, 1554.5: 23, 1551.4: 20, 1294.8: 31, 1473.1: 27, 1335.0: 17, 1817.8: 50, 1357.9: 29, 1360.0: 20, 1325.9: 14, 1439.9: 32, 1566.7: 28, 1880.9: 30, 1806.9: 15, 1359.4: 26, 1822.7: 25, 1302.1: 19, 1924.8: 21, 1984.2: 33, 1966.9: 21, 1368.9: 16, 1324.1: 20, 1341.1: 14, 1406.0: 3, 1493.5: 16}\n"
     ]
    }
   ],
   "source": [
    "## combine the measurements for each station into a single long array with an entry for each day of each day\n",
    "All_count={}  # a dictionary with a numpy array for each day of each day\n",
    "i=0\n",
    "for elevation,day,vector in rows:\n",
    "    i+=1; \n",
    "    # if i%1000==0: print i,len(All)\n",
    "    if not elevation in All_count:\n",
    "        All_count[elevation]=[np.count_nonzero(vector[~np.isnan(vector)]),1]\n",
    "    All_count[elevation][0]+=np.count_nonzero(vector[~np.isnan(vector)])\n",
    "    All_count[elevation][1]+=1\n",
    "for elevation in All_count:\n",
    "    All_count[elevation]=All_count[elevation][0]/All_count[elevation][1]\n",
    "print All_count"
   ]
  },
  {
   "cell_type": "code",
   "execution_count": 13,
   "metadata": {},
   "outputs": [],
   "source": [
    "# All_count={};\n",
    "# for elevation in All:\n",
    "#     All_count[elevation]=np.count_nonzero(~np.isnan(All[elevation]))\n",
    "# print All_count"
   ]
  },
  {
   "cell_type": "code",
   "execution_count": 14,
   "metadata": {},
   "outputs": [
    {
     "name": "stdout",
     "output_type": "stream",
     "text": [
      "+---------+---------+\n",
      "|elevation|snow_days|\n",
      "+---------+---------+\n",
      "|   1451.5|       17|\n",
      "|   1362.5|       15|\n",
      "+---------+---------+\n",
      "only showing top 2 rows\n",
      "\n",
      "+---------+---------+\n",
      "|elevation|snow_days|\n",
      "+---------+---------+\n",
      "|   1289.3|       14|\n",
      "|   1292.0|       21|\n",
      "|   1294.8|       31|\n",
      "|   1302.1|       19|\n",
      "|   1304.5|       10|\n",
      "|   1307.6|       18|\n",
      "|   1324.1|       20|\n",
      "|   1325.9|       14|\n",
      "|   1335.0|       17|\n",
      "|   1341.1|       14|\n",
      "|   1352.1|       30|\n",
      "|   1357.9|       29|\n",
      "|   1359.4|       26|\n",
      "|   1360.0|       20|\n",
      "|   1362.5|       15|\n",
      "|   1366.1|       25|\n",
      "|   1367.9|       27|\n",
      "|   1368.9|       16|\n",
      "|   1371.6|       33|\n",
      "|   1373.1|       21|\n",
      "+---------+---------+\n",
      "only showing top 20 rows\n",
      "\n"
     ]
    },
    {
     "data": {
      "text/plain": [
       "<matplotlib.axes._subplots.AxesSubplot at 0x111da33d0>"
      ]
     },
     "execution_count": 14,
     "metadata": {},
     "output_type": "execute_result"
    },
    {
     "data": {
      "image/png": "[encoded data removed]",
      "text/plain": [
       "<matplotlib.figure.Figure at 0x11180cdd0>"
      ]
     },
     "metadata": {},
     "output_type": "display_data"
    }
   ],
   "source": [
    "##plot\n",
    "sort_ele=[]\n",
    "for eleva in All_count:\n",
    "    sort_ele.append(Row(elevation=eleva,snow_days=All_count[eleva]))\n",
    "some_rdd = sc.parallelize(sort_ele)\n",
    "some_df = sqlContext.createDataFrame(some_rdd)\n",
    "some_df.show(2)\n",
    "sqlContext.registerDataFrameAsTable(some_df,'ele_snow')\n",
    "Query=\"SELECT * FROM ele_snow ORDER BY elevation\"\n",
    "some_df = sqlContext.sql(Query)\n",
    "some_df.show()\n",
    "pdf2=some_df.toPandas()\n",
    "pdf2.sort_values(by=['elevation'],inplace=True)\n",
    "pdf2.head(2)\n",
    "%matplotlib inline\n",
    "pdf2.plot.scatter(x='elevation',y='snow_days')"
   ]
  },
  {
   "cell_type": "code",
   "execution_count": 101,
   "metadata": {
    "collapsed": true
   },
   "outputs": [],
   "source": [
    "sc.stop()"
   ]
  }
 ],
 "metadata": {
  "kernelspec": {
   "display_name": "Python 2",
   "language": "python",
   "name": "python2"
  },
  "language_info": {
   "codemirror_mode": {
    "name": "ipython",
    "version": 2
   },
   "file_extension": ".py",
   "mimetype": "text/x-python",
   "name": "python",
   "nbconvert_exporter": "python",
   "pygments_lexer": "ipython2",
   "version": "2.7.13"
  }
 },
 "nbformat": 4,
 "nbformat_minor": 2
}
