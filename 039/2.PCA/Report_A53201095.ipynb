{
 "cells": [
  {
   "cell_type": "markdown",
   "metadata": {},
   "source": [
    "# Weather Analysis"
   ]
  },
  {
   "cell_type": "markdown",
   "metadata": {},
   "source": [
    "<p>This is a weather analysis report on historical data for 'SBSSBSBB' area. The area specified by label SBSSBSBB is around the Weston, State of Utah (Latitude: 41.9 Longitude: -111.97). The region is circled out approximately by a square in the map below.</p>\n",
    "<br>\n",
    "<p><img alt=\"Region for analysis.jpg\" src=\"r_figures/utah_location.jpeg\" /></p>\n",
    "\n",
    "We focused on six measurements:\n",
    "* **TMIN, TMAX:** the daily minimum and maximum temperature.\n",
    "* **TOBS:** The average temperature for each day.\n",
    "* **PRCP:** Daily Percipitation (in mm)\n",
    "* **SNOW:** Daily snowfall (in mm)\n",
    "* **SNWD:** The depth of accumulated snow.\n",
    "\n",
    "## Comparison with data from US Climate Data\n",
    "\n",
    "<p>Below is the graph we get from <a href=\"http://www.usclimatedata.com/climate/boston/massachusetts/united-states/usma0046\" target=\"_blank\">US Climate Data</a>. We will use it to make an initial comparison with our data to give an intuitive sense. The graph below shows the daily minimum and maximum temperatures for each month, as well as the total precipitation for each month.</p>\n",
    "\n",
    "<p><img alt=\"Climate_Logan_Utah.jpg\" src=\"r_figures/US_Climate.jpeg\" /></p>\n",
    "\n",
    "<p>We then show the TMIN and TMAX graph got from our data by transfering to centigrade. We find that the trend and value matches the graph we got from US Climate Data with arriving the peak (around 12 centigrade for TMIN and 30 centigrade for TMAX under Mean of our data) in July and decaying towards January and December</p>\n",
    "\n",
    "<p><img alt=\"TMIN AND TMAX through the year.jpg\" src=\"r_figures/TMIN_TMAX.png\" /></p>\n",
    "\n",
    "<p>Here we are comparing precipitation. Thourgh comparing our graph with what from US Climate, the trend is also similar since we have low precipitation around July and more around November and April. The values are also close. For our graph, the lowest value is 0.5mm/day (0.6inches/month) from Mean value while in US Climate the lowest value is approximately 0.62inches/month. Overall, the Mean value from our TMIN, TMAX, PRCP Data almost agrees with the graph from US Climate Data.\n",
    "\n",
    "<p><img alt=\"PRCP through the year.jpg\" src=\"r_figures/PRCP_year.jpeg\" /></p>\n",
    "\n"
   ]
  },
  {
   "cell_type": "markdown",
   "metadata": {},
   "source": [
    "## PCA analysis\n",
    "\n",
    "<p>First we compute the explained variance under six measurements as a function of number of eigenvectors and make plots of them.</p>\n",
    "\n",
    "### Percentage of variance explained\n",
    "\n",
    "<p><img alt=\"percentage of var explained for temperature.jpg\" src=\"r_figures/var_explained_temp.jpeg\" /></p>\n",
    "\n",
    "<p>For TMIN, TOBS and TMAX, first five eigenvectos explain 37.5%, 56%, 36% variances. So these eigenvectors explain best for TOBS among these three measurements. We also notice that the first eigenvector explains much more variance than rest of eigenvectors among these three measurements.</p>\n",
    "<br>\n",
    "<p><img alt=\"percentage of var explained for snow and rain.jpg\" src=\"r_figures/var_explained_snow_rain.jpeg\" /></p>\n",
    "<br>\n",
    "<p>For SNOW, SNWD and PRCP, first five eigenvectors explain significantly better for SNWD than others with 87% variances explained while 11.2% for SNOW and 12.8% for PRCP. Therefore, if we use these five eigenvectors doing PCA, it applies best for SNWD because most variance is explained. Below we will mainly focus on SNWD analysis with PCA approach.</p>"
   ]
  },
  {
   "cell_type": "markdown",
   "metadata": {},
   "source": [
    "## Analysis for SNWD (The depth of accumulated snow) \n",
    "\n",
    "We plot Mean and first three eigenvectors of SNWD, because first three eigenvectors explained 82% variance which are representative.\n",
    "\n",
    "\n",
    "<p><img alt=\"eigenvectors for SNWD.jpg\" src=\"r_figures/SNWD_eigens.jpeg\" /></p>\n",
    "\n",
    "First Mean curve explains nothing for variance, which is typically a statics value. It means that between January and April, the average depth of snow is deepest. Also for November and later, the depth is increasing but during May and October there is no snow. It makes sense because it is summer at that time.\n",
    "\n",
    "When we look at those three eigenvectors, we find that the trend for **eig1** is opposite to the Mean and values are all below zero. The first eigenvector explained most compared to other eigenvectors so that it is a dominant eigenvector. The shape of it means that amount of snow above or below the Mean depending on the coefficient before this eigenvector. It is because when doing reconstruction using **eig1**, we need to use $$c0=Mean+Coeff1*eig1$$ which is used to adjust mean through Coeff1 and eig1. If Coeff1 is positive, it means drag Mean down(because **eig1** is below Mean) and vice versa.\n",
    "\n",
    "**eig2** and **eig3** both oscillate around zero. They together with **eig1** won't change the whole distribution. Both **eig2** and **eig3** shows deeper snow depth before April with **eig3** has higher and later peak. Both peaks are later then Mean correspondingly. However during November to January, **eig2** has much less snow while **eig3** does not."
   ]
  },
  {
   "cell_type": "markdown",
   "metadata": {},
   "source": [
    "### Reconstructions\n",
    "\n",
    "We pick different sets of data to show how these eigenvectors work for reconstruction.\n",
    "\n",
    "#### Coeff1\n",
    "Most negative values of Coeff1 (both value and residual are shown on the title of plots):\n",
    "\n",
    "<p><img alt=\"Coeff1_Eigen1_SNWD.jpg\" src=\"r_figures/eig1_coef1_SNWD.jpeg\" /></p>\n",
    "\n",
    "Most positive values of Coeff1:\n",
    "\n",
    "<p><img alt=\"Coeff1_Eigen1_SNWD.jpg\" src=\"r_figures/eig1_coef1_SNWD_rev.jpeg\" /></p>\n",
    "\n",
    "For negative values of Coeff1, reconstruction (c0) is above the Mean while for positive ones, c0 is below the mean.\n",
    "\n",
    "#### Coeff2\n",
    "Most negative values of Coeff2 (both value and residual are shown on the title of plots):\n",
    "\n",
    "<p><img alt=\"Coeff2_Eigen2_SNWD.jpg\" src=\"r_figures/eig2_coef2_SNWD.jpeg\" /></p>\n",
    "\n",
    "Most positive values of Coeff2:\n",
    "\n",
    "<p><img alt=\"Coeff2_Eigen2_SNWD.jpg\" src=\"r_figures/eig2_coef2_SNWD_rev.jpeg\" /></p>\n",
    "\n",
    "For negative values of Coeff2, more snow happens during November and Decemebr (higher peak) while for positive values, there is more snow around Februrary. Snow season is more early for positive ones.\n",
    "#### Coeff3\n",
    "Most negative values of Coeff3 (both value and residual are shown on the title of plots):\n",
    "\n",
    "<p><img alt=\"Coeff3_Eigen3_SNWD.jpg\" src=\"r_figures/eig3_coef3_SNWD.jpeg\" /></p>\n",
    "\n",
    "Most positive values of Coeff3:\n",
    "\n",
    "<p><img alt=\"Coeff3_Eigen3_SNWD.jpg\" src=\"r_figures/eig3_coef3_SNWD_rev.jpeg\" /></p>\n",
    "\n",
    "For negative value of Coeff3, the first peak is more closer to January while for positive value, the first peak is closer to March. It means that when Coeff3 is positive, the snow season is delayed for about one and half month.\n",
    "\n",
    "Below plot the cumulative function of those three coefficients.\n",
    "\n",
    "<p><img alt=\"CDF_Coeffi_SNWD.jpg\" src=\"r_figures/cdf_coeff_SNWD.jpeg\" /></p>\n",
    "\n",
    "We notice that almost 60% data has negative values for all three coefficients. It means that there is a probability of 60% that a single set data has a negative value for any one of three coefficients and the meaning of negative values of each coefficient is explained above. From the plot we also find that coeff2 and coeff3 have similar shape while coeff1 has more longer tail. It means that there is a certain portion of data has a significantly negative value of coeff1 so that those data is above Mean a lot and then increase the standard variance of total data."
   ]
  },
  {
   "cell_type": "markdown",
   "metadata": {},
   "source": [
    "### Residual Analysis\n",
    "\n",
    "Residual means the residual normalized norm after subtracting mean and eigenvectors from original function. Here res_1 means the the residual of f-mean-coeff1*eig1, and so on and so forth. Under SNWD measurement, We plot the cumulative distribution of residuals as below:\n",
    "\n",
    "<p><img alt=\"CDF of residuals.jpg\" src=\"r_figures/cdf_residuals.jpeg\" /></p>\n",
    "\n",
    "We want residual as small as possible so that more information has been kept. From the plot, we notice that for the same fraction instances eg.60%, res_1 > res_2 > res_3. It matches what we expect because if we project our data on more eigenvectors, more variance will be explained and residuals will be more less."
   ]
  },
  {
   "cell_type": "markdown",
   "metadata": {},
   "source": [
    "### RMS Analysis\n",
    "\n",
    "RMS analysis is an approach for deciding which factor is more dominant in influcing the data. Here we still consider for SNWD measurement. We consider two factors, year(time) and station(space), to decide which factor has more influence on different conefficients. Below is the sheet of total/remaining RMS for different coefficients after subtracting the mean of year/station.\n",
    "<br><br>\n",
    "<p><img alt=\"rms_coef_sheet.jpg\" src=\"r_figures/RMS_coef_sheet.jpeg\" /></p>\n",
    "<br><br>\n",
    "From above, we see that two factors have almost same influence on the value of Coeff1 because RMS after removing mean-by-station and mean-by-year are close to each other with 1167.02 and 1181.71. RMS has reduced nearly 400 for both cases. However, for Coeff2, RMS reduces a lot, that is 238, after mean-by-year than that, which is 27, after mean-by-station. It is same with Coeff3 where RMS reduces 204 after mean-by-year while 53 after mean-by-station. It means that the factor year has more influence on Coeff2 and Coeff3 than the factor station while two factors has same influence in case of Coeff1.\n",
    "\n",
    "After continuing removing mean of year and mean of station, we notice that RMS is nearly constant. The plot is shown below.\n",
    "\n",
    "<p><img alt=\"rms_trend.jpg\" src=\"r_figures/RMStrend.jpeg\" /></p>\n",
    "\n",
    "By continously subtracting mean of two factors, the information taken from these two factors is decreasing until finally no such information left so that RMS becomes an invariant. Notice that the final value of RMS for all three coefficients is not zero, meaning that some other factors still have impact on the data which we have not consider."
   ]
  },
  {
   "cell_type": "markdown",
   "metadata": {},
   "source": [
    "## Correlation between stations for PRCP\n",
    "\n",
    "PRCP describes daily amount of rain. First we plot CDF of daily rainfall to get an intuitive mind about how many days it rained for all previous years and all stations.\n",
    "\n",
    "<p><img alt=\"cdf_rainydays_all_years.jpg\" src=\"r_figures/CDF_PRCP_allyears.jpeg\" /></p>\n",
    "\n",
    "We found that the probability for daily rainfall smaller than 200 is close to 100% which means that it doesn't rain much in this area.\n",
    "\n",
    "We further want to know the correlation of amount of rain between different stations. It can be transfered into the question that in what probability we can find oberserved the result when the null hypothesis is true where null hypothsis is 'the rainfall in the two locations is independent'. This probability is exactly the P-value. For example, when in m=1000 days, it rains in station1 for 500 days(n1=500) and it rains in station2 for 500 days(n2=500). If it rains in both stations for 500 days(l=500), under our null hypothesis, we should have a very low P-value for observing this l=500. In another case, if l=250, we should expect a high P-value. In an intuitive way, l=500 means these two stations are highly correlated while l=250 means they may be uncorrelated. Therefore, lower P-value corresponds to higher correlation and vice versa.\n",
    "\n",
    "Below plot the histogram of scaled P-value(positive ones) for each pair of stations:\n",
    "\n",
    "<p><img alt=\"hisogram_of_pvalue.jpg\" src=\"r_figures/hist_p_value.jpeg\" /></p>\n",
    "\n",
    "We notice that most pairs concentrate around 0.1. Because original scaled p-value is negative one, the plot here for convenience using positive one. In this plot, more pairs of stations have lower positive p-value which means most of them are not related with each other in the case of raining. However, there's a high frequency when positive p-value equals 0.4, which means that there are indeed some pairs of stations having a high correlation. It's highly possible for them to rain in both station on same day. A matrix of original scaled P-value is plot above to further verify this conclusion.\n",
    "\n",
    "<p><img alt=\"p_value_mat.png\" src=\"r_figures/p_val_mat.png\" style=\"height:350px; width:350px\"/></p>\n",
    "\n",
    "The block on upper left is darker than rest of matrix. Since darker means lower p-value, it also means high correlation. We put most correlated eight stations into the map to see their spatial relationship.\n",
    "\n",
    "<p><img alt=\"correlation_map.jpg\" src=\"r_figures/correlated_stations_map.jpeg\" style=\"height:350px; width:900px\"/></p>\n",
    "\n",
    "These stations marked by circle on the map tend to rain in the same day. Some of them are very close to each other. All their longitudes are close."
   ]
  },
  {
   "cell_type": "markdown",
   "metadata": {},
   "source": [
    "## Elevation with PRCP and SNOW\n",
    "\n",
    "Analysis above is based on the station and year pair. However, in some cases there may be two stations having same elevation, making me wonder what's the relationship between elevation and some measurements like PRCP and SNOW. In this whole area, the highest elevation is 2731.0 while the lowest is 1289.3, which is not a small difference. Therefore, the analysis of the influence from elevation on measurements worthes a try.  So I plot a following graph.\n",
    "\n",
    "<p><img alt=\"PRCP_Elevation.jpg\" src=\"r_figures/PRCPvsElevation.jpeg\" /></p>\n",
    "\n",
    "It shows for different elevations, how many days it rains in one year for the average. We see that in the high elevation, from 2000 to 2800, total rainy days are around 120 while in the lower elevation(below 2000), the data is concentrated around 80 days/year. It means that when elevation is lower than 2000, the area rains not much and rains about 80days/year while in higher elevation about 2000, the area rains more frequently. What about the amount of snow(SNOW)?\n",
    "\n",
    "<p><img alt=\"SNOW_Elevation.jpg\" src=\"r_figures/SNOWvsElevation.jpeg\" /></p>\n",
    "\n",
    "For the lower elevation under 1700, snowy days are below 40 days/year while in some higher elevation like 1800 and 1970, snowy days can be larger to 50 and 60. Overall, higher elevation tends to snow more frequently than lower elevation but not that much.\n",
    "\n",
    "## Is climate becoming warm?\n",
    "\n",
    "Since the data given us is cross over one hundred years, it gives me the curiosity about how average temperature changes thourgh this long time. For every year I compute an average temperature for different station using TOBS and pick a max value from stations to represent the temperature of this year. Since the overall temperature won't change much in this small region and max value can reflect the characteristic of climate, picking up max value makes sense.\n",
    "\n",
    "<p><img alt=\"temperature_years.jpg\" src=\"r_figures/temp_change_years.jpeg\" /></p>\n",
    "\n",
    "From the plot above we notice that in the first years the temperature is low and increasing fast before 1920. It's still increasing after 1920 but the increasing rate is slow. Although the temperature fluctuates a lot, the overall trend is first increasing fast then slower, which means the climate is still becoming warm but eased in some way."
   ]
  }
 ],
 "metadata": {
  "kernelspec": {
   "display_name": "Python 2",
   "language": "python",
   "name": "python2"
  },
  "language_info": {
   "codemirror_mode": {
    "name": "ipython",
    "version": 2
   },
   "file_extension": ".py",
   "mimetype": "text/x-python",
   "name": "python",
   "nbconvert_exporter": "python",
   "pygments_lexer": "ipython2",
   "version": "2.7.13"
  }
 },
 "nbformat": 4,
 "nbformat_minor": 2
}
