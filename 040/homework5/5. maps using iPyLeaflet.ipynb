{
 "cells": [
  {
   "cell_type": "markdown",
   "metadata": {
    "run_control": {
     "frozen": false,
     "read_only": false
    }
   },
   "source": [
    "## iPyLeaflet\n",
    "[ipyleaflet](https://github.com/ellisonbg/ipyleaflet) is a bridge between jupyter notebooks and the [leaflet](http://leafletjs.com/)  javascript library for drawing maps.\n",
    "\n",
    "ipyleaflet comes with a few examples notebooks (this notebook was derived from one) but very little documentation,\n",
    "for more documentation read the [Leaflet IPA](http://leafletjs.com/reference.html)\n",
    "\n",
    "For installation directions, see the README on [ipyleaflet](https://github.com/ellisonbg/ipyleaflet)"
   ]
  },
  {
   "cell_type": "code",
   "execution_count": 1,
   "metadata": {
    "run_control": {
     "frozen": false,
     "read_only": false
    }
   },
   "outputs": [],
   "source": [
    "# !pip install ipyleaflet\n",
    "from ipyleaflet import (\n",
    "    Map,\n",
    "    Marker,\n",
    "    TileLayer, ImageOverlay,\n",
    "    Polyline, Polygon, Rectangle, Circle, CircleMarker,\n",
    "    GeoJSON,\n",
    "    DrawControl\n",
    ")"
   ]
  },
  {
   "cell_type": "markdown",
   "metadata": {
    "run_control": {
     "frozen": false,
     "read_only": false
    }
   },
   "source": [
    "## Visualizing the distribution of the observations\n",
    "\n",
    "## Load the required libraries"
   ]
  },
  {
   "cell_type": "code",
   "execution_count": 2,
   "metadata": {
    "run_control": {
     "frozen": false,
     "read_only": false
    }
   },
   "outputs": [],
   "source": [
    "import pandas as pd\n",
    "import numpy as np\n",
    "import sklearn as sk\n",
    "import urllib\n",
    "import math"
   ]
  },
  {
   "cell_type": "code",
   "execution_count": 3,
   "metadata": {
    "run_control": {
     "frozen": false,
     "read_only": false
    }
   },
   "outputs": [],
   "source": [
    "import findspark\n",
    "findspark.init()\n",
    "\n",
    "from pyspark import SparkContext\n",
    "#sc.stop()\n",
    "sc = SparkContext(master=\"local[3]\",pyFiles=['lib/numpy_pack.py','lib/computeStats.py'])\n",
    "\n",
    "from pyspark import SparkContext\n",
    "from pyspark.sql import *\n",
    "sqlContext = SQLContext(sc)"
   ]
  },
  {
   "cell_type": "code",
   "execution_count": 4,
   "metadata": {
    "run_control": {
     "frozen": false,
     "read_only": false
    }
   },
   "outputs": [],
   "source": [
    "import sys\n",
    "sys.path.append('./lib')\n",
    "\n",
    "import numpy as np\n",
    "from numpy_pack import packArray,unpackArray\n",
    "from computeStats import computeOverAllDist, STAT_Descriptions"
   ]
  },
  {
   "cell_type": "code",
   "execution_count": 59,
   "metadata": {
    "run_control": {
     "frozen": false,
     "read_only": false
    }
   },
   "outputs": [
    {
     "name": "stdout",
     "output_type": "stream",
     "text": [
      "('keys from STAT=', ['TMIN', 'TOBS', 'TMAX', 'SNOW', 'SNWD', 'PRCP'])\n",
      "2175\n",
      "+-------------------+-------------------+-------------------+---------+--------+--------+---------+-----------+------------------+------------------+------------------+------------------+-----------+---------+------+--------------------+------+\n",
      "|            coeff_1|            coeff_2|            coeff_3|elevation|   label|latitude|longitude|measurement|             res_1|             res_2|             res_3|          res_mean|    station|total_var|undefs|              vector|  year|\n",
      "+-------------------+-------------------+-------------------+---------+--------+--------+---------+-----------+------------------+------------------+------------------+------------------+-----------+---------+------+--------------------+------+\n",
      "|-484.60267828058574|-209.80426922275274| -373.6314636526174|    938.8|SBSBBSSB| 46.4922|-115.8006|       PRCP|0.8431745480822247|0.8143982914393372|0.7218029212238536|0.8236406985543602|USC00107046|1828374.0|     2|[00 48 00 49 00 4...|1970.0|\n",
      "| -246.6283119242687| 265.52679628880963|-354.16573522085713|    303.3|SBSBBSSB| 46.5022|-116.3217|       PRCP|0.9339483078478685|0.8573860383664591|0.7211753552329512|0.8291600667502308|USC00102845|1110615.0|     0|[00 00 00 00 00 0...|1995.0|\n",
      "+-------------------+-------------------+-------------------+---------+--------+--------+---------+-----------+------------------+------------------+------------------+------------------+-----------+---------+------+--------------------+------+\n",
      "only showing top 2 rows\n",
      "\n"
     ]
    }
   ],
   "source": [
    "### Read the data frame from pickle file\n",
    "\n",
    "data_dir='../../Data/Weather'\n",
    "file_index='SBSBBSSB'\n",
    "#meas='SNWD'\n",
    "meas='PRCP'\n",
    "\n",
    "from pickle import load\n",
    "\n",
    "#read statistics\n",
    "filename=data_dir+'/STAT_%s.pickle'%file_index\n",
    "STAT,STAT_Descriptions = load(open(filename,'rb'))\n",
    "print('keys from STAT=',STAT.keys())\n",
    "\n",
    "#!ls -ld $data_dir/*.parquet\n",
    "\n",
    "#read data\n",
    "filename=data_dir+'/decon_%s_%s.parquet'%(file_index,meas)\n",
    "\n",
    "df=sqlContext.read.parquet(filename)\n",
    "print(df.count())\n",
    "df.show(2)"
   ]
  },
  {
   "cell_type": "code",
   "execution_count": 60,
   "metadata": {
    "run_control": {
     "frozen": false,
     "read_only": false
    },
    "scrolled": true
   },
   "outputs": [
    {
     "name": "stdout",
     "output_type": "stream",
     "text": [
      "SELECT station, latitude,longitude,elevation,coeff_1 FROM weather\n",
      "+-----------+--------+---------+---------+-------------------+\n",
      "|    station|latitude|longitude|elevation|            coeff_1|\n",
      "+-----------+--------+---------+---------+-------------------+\n",
      "|USC00107046| 46.4922|-115.8006|    938.8|-484.60267828058574|\n",
      "|USC00102845| 46.5022|-116.3217|    303.3| -246.6283119242687|\n",
      "|USC00104150| 46.6311|-115.8086|    975.4|  -474.564149497105|\n",
      "|USS0015B14S| 47.0833|-115.9667|   1862.3|-1023.7738030293683|\n",
      "+-----------+--------+---------+---------+-------------------+\n",
      "only showing top 4 rows\n",
      "\n",
      "SELECT min(latitude), max(latitude), min(longitude), max(longitude) FROM weather\n",
      "+-------------+-------------+--------------+--------------+\n",
      "|min(latitude)|max(latitude)|min(longitude)|max(longitude)|\n",
      "+-------------+-------------+--------------+--------------+\n",
      "|      46.2325|      47.3111|     -119.3192|     -115.8006|\n",
      "+-------------+-------------+--------------+--------------+\n",
      "\n"
     ]
    }
   ],
   "source": [
    "#extract longitude and latitude for each station\n",
    "feature='coeff_1'\n",
    "sqlContext.registerDataFrameAsTable(df,'weather')\n",
    "Query=\"SELECT station, latitude,longitude,elevation,%s FROM weather\"%feature\n",
    "print(Query)\n",
    "df1 = sqlContext.sql(Query)\n",
    "df1.show(4)\n",
    "\n",
    "### to get min/max latitude,longitude\n",
    "Query=\"SELECT min(latitude), max(latitude), min(longitude), max(longitude) FROM weather\"\n",
    "print(Query)\n",
    "df2 = sqlContext.sql(Query)\n",
    "df2.show()"
   ]
  },
  {
   "cell_type": "code",
   "execution_count": 61,
   "metadata": {
    "run_control": {
     "frozen": false,
     "read_only": false
    }
   },
   "outputs": [
    {
     "data": {
      "text/html": [
       "<div>\n",
       "<table border=\"1\" class=\"dataframe\">\n",
       "  <thead>\n",
       "    <tr style=\"text-align: right;\">\n",
       "      <th></th>\n",
       "      <th>station</th>\n",
       "      <th>latitude</th>\n",
       "      <th>longitude</th>\n",
       "      <th>elevation</th>\n",
       "      <th>count(station)</th>\n",
       "      <th>avg(coeff_1)</th>\n",
       "    </tr>\n",
       "  </thead>\n",
       "  <tbody>\n",
       "    <tr>\n",
       "      <th>20</th>\n",
       "      <td>US1IDBW0003</td>\n",
       "      <td>47.2750</td>\n",
       "      <td>-116.5770</td>\n",
       "      <td>766.9</td>\n",
       "      <td>3</td>\n",
       "      <td>-234.900118</td>\n",
       "    </tr>\n",
       "    <tr>\n",
       "      <th>41</th>\n",
       "      <td>US1IDCW0004</td>\n",
       "      <td>46.5059</td>\n",
       "      <td>-116.3203</td>\n",
       "      <td>311.5</td>\n",
       "      <td>3</td>\n",
       "      <td>-146.678459</td>\n",
       "    </tr>\n",
       "  </tbody>\n",
       "</table>\n",
       "</div>"
      ],
      "text/plain": [
       "        station  latitude  longitude  elevation  count(station)  avg(coeff_1)\n",
       "20  US1IDBW0003   47.2750  -116.5770      766.9               3   -234.900118\n",
       "41  US1IDCW0004   46.5059  -116.3203      311.5               3   -146.678459"
      ]
     },
     "execution_count": 61,
     "metadata": {},
     "output_type": "execute_result"
    }
   ],
   "source": [
    "df2=df1.groupby(['station','latitude','longitude','elevation']).agg({\"station\": \"count\", feature: \"mean\"})\n",
    "pdf=df2.toPandas()\n",
    "pdf.sort_values(by=['station'],inplace=True)\n",
    "pdf.head(2)"
   ]
  },
  {
   "cell_type": "code",
   "execution_count": 62,
   "metadata": {
    "run_control": {
     "frozen": false,
     "read_only": false
    }
   },
   "outputs": [
    {
     "data": {
      "text/plain": [
       "u'#800000'"
      ]
     },
     "execution_count": 62,
     "metadata": {},
     "output_type": "execute_result"
    }
   ],
   "source": [
    "#define a mapping from the range of the value to hex colors.\n",
    "from matplotlib.colors import rgb2hex\n",
    "_avg='avg(%s)'%feature\n",
    "_min=pdf[_avg].min()\n",
    "_max=pdf[_avg].max()\n",
    "_min,_max\n",
    "\n",
    "import pylab as plt\n",
    "cmap=plt.get_cmap('jet')\n",
    "def get_color(val):\n",
    "    x=(val-_min)/(_max-_min)\n",
    "    return(rgb2hex(cmap(x)[:3]))\n",
    "\n",
    "get_color(1000.)"
   ]
  },
  {
   "cell_type": "markdown",
   "metadata": {
    "run_control": {
     "frozen": false,
     "read_only": false
    }
   },
   "source": [
    "## Map"
   ]
  },
  {
   "cell_type": "code",
   "execution_count": 63,
   "metadata": {
    "collapsed": true,
    "run_control": {
     "frozen": false,
     "read_only": false
    }
   },
   "outputs": [],
   "source": [
    "min_lat,max_lat,min_long,max_long = box = (46.2325, 47.3, -119.3192, -115.8006)\n"
   ]
  },
  {
   "cell_type": "code",
   "execution_count": 16,
   "metadata": {
    "run_control": {
     "frozen": false,
     "read_only": false
    }
   },
   "outputs": [
    {
     "data": {
      "application/vnd.jupyter.widget-view+json": {
       "model_id": "762e265f26de43e2b42551b60c32aeb2"
      }
     },
     "metadata": {},
     "output_type": "display_data"
    }
   ],
   "source": [
    "center = [(min_lat+max_lat)/2, (min_long+max_long)/2]\n",
    "zoom = 9\n",
    "\n",
    "m = Map(default_tiles=TileLayer(opacity=1.0), center=center, zoom=zoom)\n",
    "\n",
    "r = Rectangle(bounds=[[min_lat,min_long],[max_lat,max_long]], weight=5, fill_opacity=0.0)\n",
    "m += r\n",
    "\n",
    "lat_margin=(max_lat-min_lat)/4\n",
    "long_margin=(max_long-min_long)/4\n",
    "circles = []\n",
    "for index,row in pdf.iterrows():\n",
    "    _lat=row['latitude']\n",
    "    _long=row['longitude']\n",
    "    _count=row['count(station)']\n",
    "    _coef=row[_avg]\n",
    "    # taking sqrt of count so that the  area of the circle corresponds to the count\n",
    "    c = Circle(location=(_lat,_long), radius=int(300*np.sqrt(_count+0.0)), weight=1,\n",
    "            color='#F00', opacity=0.8, fill_opacity=0.4,\n",
    "            fill_color=get_color(_coef))\n",
    "    circles.append(c)\n",
    "    m.add_layer(c)\n",
    "m    "
   ]
  },
  {
   "cell_type": "code",
   "execution_count": 53,
   "metadata": {},
   "outputs": [
    {
     "name": "stdout",
     "output_type": "stream",
     "text": [
      "station= USC00105236  lat= 46.4167  long= -117.0167  elevation= 225.9\n",
      "station= USC00106421  lat= 46.2333  long= -116.2333  elevation= 939.1\n",
      "station= USC00106681  lat= 46.4833  long= -116.2667  elevation= 402.3\n",
      "station= USC00107301  lat= 46.9603  long= -116.855  elevation= 841.2\n",
      "station= USC00456784  lat= 46.7333  long= -117.1667  elevation= 787.0\n",
      "station= USC00457223  lat= 47.1333  long= -119.05  elevation= 438.9\n",
      "station= USC00457956  lat= 47.3  long= -117.9833  elevation= 600.5\n",
      "station= USW00024110  lat= 47.2078  long= -119.3192  elevation= 364.5\n"
     ]
    },
    {
     "data": {
      "application/vnd.jupyter.widget-view+json": {
       "model_id": "96638301ef674dfd9bd86b0f6c2db2d9"
      }
     },
     "metadata": {},
     "output_type": "display_data"
    }
   ],
   "source": [
    "center = [(min_lat+max_lat)/2, (min_long+max_long)/2]\n",
    "zoom = 8\n",
    "\n",
    "_map = Map(default_tiles=TileLayer(opacity=1.0), center=center, zoom=zoom)\n",
    "\n",
    "r = Rectangle(bounds=[[min_lat,min_long],[max_lat,max_long]], weight=5, fill_opacity=0.0)\n",
    "_map += r\n",
    "\n",
    "lat_margin=(max_lat-min_lat)/4\n",
    "long_margin=(max_long-min_long)/4\n",
    "circles = []\n",
    "\n",
    "# [ 9 33 38  7 42 13 11 40]\n",
    "# USC00106421 # USC00456784 # USC00457223\n",
    "# USC00105236 # USW00024110 # USC00107301\n",
    "# USC00106681 # USC00457956\n",
    "correl_stations = ['USC00106421', 'USC00456784', 'USC00457223', 'USC00105236', 'USW00024110', 'USC00107301', 'USC00106681', 'USC00457956']\n",
    "# correl_stations = ['USC00106421']\n",
    "\n",
    "for index,row in pdf.iterrows():\n",
    "     if row['station'] in correl_stations:\n",
    "        _lat = row['latitude']\n",
    "        _long = row['longitude']\n",
    "        _count=row['count(station)']\n",
    "        _coeff=200\n",
    "        print \"station=\", row['station'], \" lat=\", _lat, \" long=\", _long, \" elevation=\", row['elevation']\n",
    "        c = Circle(location=(_lat, _long), radius=int(300*np.sqrt(100+0.0)), weight=2,\n",
    "                color='#F00', opactiy=0.8, fill_opactiy=0.6, fill_color=get_color(_coeff))\n",
    "        circles.append(c)\n",
    "        _map.add_layer(c)   \n",
    "_map  "
   ]
  },
  {
   "cell_type": "code",
   "execution_count": 46,
   "metadata": {},
   "outputs": [
    {
     "name": "stdout",
     "output_type": "stream",
     "text": [
      "station= USC00100528  lat= 47.2533  long= -115.9203  elevation= 729.7\n",
      "station= USC00102892  lat= 46.7744  long= -116.1761  elevation= 889.4\n",
      "station= USC00104150  lat= 46.6311  long= -115.8086  elevation= 975.4\n",
      "station= USC00107046  lat= 46.4922  long= -115.8006  elevation= 938.8\n",
      "station= USC00109846  lat= 46.2381  long= -116.6233  elevation= 1210.7\n"
     ]
    },
    {
     "data": {
      "application/vnd.jupyter.widget-view+json": {
       "model_id": "736720e0bdf7485fb0be5775a0e03045"
      }
     },
     "metadata": {},
     "output_type": "display_data"
    }
   ],
   "source": [
    "# Map of highly correlated stations for SNWD\n",
    "center = [(min_lat+max_lat)/2, (min_long+max_long)/2]\n",
    "zoom = 8\n",
    "\n",
    "_map2 = Map(default_tiles=TileLayer(opacity=1.0), center=center, zoom=zoom)\n",
    "\n",
    "r = Rectangle(bounds=[[min_lat,min_long],[max_lat,max_long]], weight=5, fill_opacity=0.0)\n",
    "_map2 += r\n",
    "\n",
    "lat_margin=(max_lat-min_lat)/4\n",
    "long_margin=(max_long-min_long)/4\n",
    "circles = []\n",
    "\n",
    "for index,row in pdf.iterrows():\n",
    "    # USC00109846 # USC00102892 # USC00100528 # USC00104150 # USC00107046\n",
    "    if row['station'] == 'USC00109846' or row['station'] == 'USC00102892' or row['station'] == 'USC00100528' or row['station'] == 'USC00104150' or row['station'] == 'USC00107046': \n",
    "        _lat = row['latitude']\n",
    "        _long = row['longitude']\n",
    "        _count=row['count(station)']\n",
    "        _coeff=200\n",
    "        print \"station=\", row['station'], \" lat=\", _lat, \" long=\", _long, \" elevation=\", row['elevation']\n",
    "        c = Circle(location=(_lat, _long), radius=int(300*np.sqrt(100+0.0)), weight=2,\n",
    "                color='#F00', opactiy=0.8, fill_opactiy=0.6, fill_color=get_color(_coeff))\n",
    "        circles.append(c)\n",
    "        _map2.add_layer(c)\n",
    "         \n",
    "_map2  "
   ]
  },
  {
   "cell_type": "code",
   "execution_count": 67,
   "metadata": {},
   "outputs": [
    {
     "name": "stdout",
     "output_type": "stream",
     "text": [
      "station= US1IDBW0003  lat= 47.275  long= -116.577  elevation= 766.9\n",
      "station= US1IDLT0001  lat= 46.7544  long= -117.0005  elevation= 823.0\n",
      "station= US1IDLT0004  lat= 46.7762  long= -116.857  elevation= 949.8\n",
      "station= US1IDLT0006  lat= 46.929  long= -116.8874  elevation= 805.0\n",
      "station= US1IDLT0007  lat= 46.7288  long= -116.9729  elevation= 802.8\n",
      "station= US1IDNP0001  lat= 46.5203  long= -116.6743  elevation= 287.4\n",
      "station= US1WAWM0004  lat= 46.7276  long= -117.1798  elevation= 737.0\n",
      "station= US1WAWM0005  lat= 46.8658  long= -117.0899  elevation= 772.7\n"
     ]
    },
    {
     "data": {
      "application/vnd.jupyter.widget-view+json": {
       "model_id": "bb37d1bb6fcb4e7db5ca94c83ba65c58"
      }
     },
     "metadata": {},
     "output_type": "display_data"
    }
   ],
   "source": [
    "#[ 3 15  6  5  4  0 14  8]\n",
    "\n",
    "# map for correlated prcp\n",
    "_map3 = Map(default_tiles=TileLayer(opacity=1.0), center=center, zoom=zoom)\n",
    "correl_stations=['US1IDLT0001', 'US1WAWM0005', 'US1IDLT0007', 'US1IDLT0006', 'US1IDLT0004', 'US1IDBW0003','US1WAWM0004','US1IDNP0001']\n",
    "\n",
    "\n",
    "r = Rectangle(bounds=[[min_lat,min_long],[max_lat,max_long]], weight=5, fill_opacity=0.0)\n",
    "_map3 += r\n",
    "\n",
    "lat_margin=(max_lat-min_lat)/4\n",
    "long_margin=(max_long-min_long)/4\n",
    "circles = []\n",
    "hey=0\n",
    "for index,row in pdf.iterrows():\n",
    "    if row['station'] in correl_stations:\n",
    "        \n",
    "        _lat = row['latitude']\n",
    "        _long = row['longitude']\n",
    "        _count=row['count(station)']\n",
    "        _coeff=200\n",
    "        print \"station=\", row['station'], \" lat=\", _lat, \" long=\", _long, \" elevation=\", row['elevation']\n",
    "        c = Circle(location=(_lat, _long), radius=int(300*np.sqrt(100+0.0)), weight=2,\n",
    "                color='#F00', opactiy=0.8, fill_opactiy=0.6, fill_color=get_color(_coeff))\n",
    "        circles.append(c)\n",
    "        _map3.add_layer(c)\n",
    "    \n",
    "_map3\n"
   ]
  },
  {
   "cell_type": "markdown",
   "metadata": {
    "run_control": {
     "frozen": false,
     "read_only": false
    }
   },
   "source": [
    "### excercises:\n",
    "* Add a legend that relates the colors to values.\n",
    "* Leaflet supports a variety of maps. See if you can get a topographical map as the background."
   ]
  },
  {
   "cell_type": "code",
   "execution_count": 17,
   "metadata": {
    "run_control": {
     "frozen": false,
     "read_only": false
    }
   },
   "outputs": [
    {
     "data": {
      "image/png": "[encoded data removed]",
      "text/plain": [
       "<matplotlib.figure.Figure at 0x7f6d1e8babd0>"
      ]
     },
     "metadata": {},
     "output_type": "display_data"
    }
   ],
   "source": [
    "%matplotlib inline\n",
    "pdf.plot.scatter(x='elevation',y='avg(coeff_1)');"
   ]
  },
  {
   "cell_type": "code",
   "execution_count": null,
   "metadata": {
    "collapsed": true,
    "run_control": {
     "frozen": false,
     "read_only": false
    }
   },
   "outputs": [],
   "source": []
  },
  {
   "cell_type": "code",
   "execution_count": 18,
   "metadata": {},
   "outputs": [
    {
     "data": {
      "text/plain": [
       "['spark big  data analysis', 'spring', 'spark  basics']"
      ]
     },
     "execution_count": 18,
     "metadata": {},
     "output_type": "execute_result"
    }
   ],
   "source": [
    "RDD1=sc.parallelize([\"spark  basics\", \"spark big  data analysis\", \"spring\"]) \n",
    "RDD2=sc.parallelize([\"spark using pyspark\", \"big data\"])\n",
    " \n",
    "RDD1.subtract(RDD2).collect()"
   ]
  },
  {
   "cell_type": "code",
   "execution_count": null,
   "metadata": {
    "collapsed": true
   },
   "outputs": [],
   "source": []
  }
 ],
 "metadata": {
  "anaconda-cloud": {},
  "hide_input": false,
  "kernelspec": {
   "display_name": "Python 2",
   "language": "python",
   "name": "python2"
  },
  "language_info": {
   "codemirror_mode": {
    "name": "ipython",
    "version": 2
   },
   "file_extension": ".py",
   "mimetype": "text/x-python",
   "name": "python",
   "nbconvert_exporter": "python",
   "pygments_lexer": "ipython2",
   "version": "2.7.13"
  },
  "toc": {
   "colors": {
    "hover_highlight": "#DAA520",
    "running_highlight": "#FF0000",
    "selected_highlight": "#FFD700"
   },
   "moveMenuLeft": true,
   "nav_menu": {
    "height": "174px",
    "width": "252px"
   },
   "navigate_menu": true,
   "number_sections": true,
   "sideBar": true,
   "threshold": 4,
   "toc_cell": false,
   "toc_section_display": "block",
   "toc_window_display": false,
   "widenNotebook": false
  }
 },
 "nbformat": 4,
 "nbformat_minor": 1
}
