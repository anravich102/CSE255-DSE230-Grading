{
 "cells": [
  {
   "cell_type": "code",
   "execution_count": 37,
   "metadata": {
    "scrolled": true
   },
   "outputs": [
    {
     "name": "stdout",
     "output_type": "stream",
     "text": [
      "![PRCP_correl_1.png](hwk5_figures/PRCP_correl_1.png)\n",
      "![PRCP_correl_2.png](hwk5_figures/PRCP_correl_2.png)\n",
      "![PRCP_correl_top_4_eigenvect.png](hwk5_figures/PRCP_correl_top_4_eigenvect.png)\n",
      "![PRCP_correl_var_explained.png](hwk5_figures/PRCP_correl_var_explained.png)\n",
      "![PRCP_probability_distribution.png](hwk5_figures/PRCP_probability_distribution.png)\n",
      "![SNWD_correl_block_4143.png](hwk5_figures/SNWD_correl_block_4143.png)\n",
      "![SNWD_correl_top_4_eigenvect.png](hwk5_figures/SNWD_correl_top_4_eigenvect.png)\n",
      "![SNWD_correl_var_explained.png](hwk5_figures/SNWD_correl_var_explained.png)\n",
      "![SNWD_correlation_1.png](hwk5_figures/SNWD_correlation_1.png)\n",
      "![SNWD_correlation_2.png](hwk5_figures/SNWD_correlation_2.png)\n",
      "![SNWD_correlation_3.png](hwk5_figures/SNWD_correlation_3.png)\n",
      "![SNWD_probability_distribution.png](hwk5_figures/SNWD_probability_distribution.png)\n",
      "![coeff1_r1_neg.png](hwk5_figures/coeff1_r1_neg.png)\n",
      "![coeff1_r1_pos.png](hwk5_figures/coeff1_r1_pos.png)\n",
      "![coeff2_r2_neg.png](hwk5_figures/coeff2_r2_neg.png)\n",
      "![coeff2_r2_pos.png](hwk5_figures/coeff2_r2_pos.png)\n",
      "![coeff3_r3_neg.png](hwk5_figures/coeff3_r3_neg.png)\n",
      "![coeff3_r3_pos.png](hwk5_figures/coeff3_r3_pos.png)\n",
      "![percentage_variance_snow.png](hwk5_figures/percentage_variance_snow.png)\n",
      "![percentage_variance_temp.png](hwk5_figures/percentage_variance_temp.png)\n",
      "![prcp_avg_eig.png](hwk5_figures/prcp_avg_eig.png)\n",
      "![prcp_correl_block_0008.png](hwk5_figures/prcp_correl_block_0008.png)\n",
      "![prcp_variance_explained.png](hwk5_figures/prcp_variance_explained.png)\n",
      "![precipitation.png](hwk5_figures/precipitation.png)\n",
      "![precipitation_inches.png](hwk5_figures/precipitation_inches.png)\n",
      "![pullman_washington_climate.png](hwk5_figures/pullman_washington_climate.png)\n",
      "![pullman_washington_climate_inch.png](hwk5_figures/pullman_washington_climate_inch.png)\n",
      "![pullman_washington_map.png](hwk5_figures/pullman_washington_map.png)\n",
      "![snowdepth_mean.png](hwk5_figures/snowdepth_mean.png)\n",
      "![snwd_best_reconstruction.png](hwk5_figures/snwd_best_reconstruction.png)\n",
      "![snwd_coeff1_cummdistrib.png](hwk5_figures/snwd_coeff1_cummdistrib.png)\n",
      "![snwd_coeff2_cummdistrib.png](hwk5_figures/snwd_coeff2_cummdistrib.png)\n",
      "![snwd_coeff3_cummdistrib.png](hwk5_figures/snwd_coeff3_cummdistrib.png)\n",
      "![snwd_correl_block_0008.png](hwk5_figures/snwd_correl_block_0008.png)\n",
      "![snwd_eigenvect2_correl_map.png](hwk5_figures/snwd_eigenvect2_correl_map.png)\n",
      "![snwd_res1_cummdistrib.png](hwk5_figures/snwd_res1_cummdistrib.png)\n",
      "![snwd_res2_cummdistrib.png](hwk5_figures/snwd_res2_cummdistrib.png)\n",
      "![snwd_res3_cummdistrib.png](hwk5_figures/snwd_res3_cummdistrib.png)\n",
      "![snwd_spat_temp_coeff1.png](hwk5_figures/snwd_spat_temp_coeff1.png)\n",
      "![snwd_spat_temp_coeff2.png](hwk5_figures/snwd_spat_temp_coeff2.png)\n",
      "![snwd_spat_temp_coeff3.png](hwk5_figures/snwd_spat_temp_coeff3.png)\n",
      "![snwd_spatial_temporal_rms.png](hwk5_figures/snwd_spatial_temporal_rms.png)\n",
      "![snwd_spatial_temporal_rms2.png](hwk5_figures/snwd_spatial_temporal_rms2.png)\n",
      "![tmin_tmax_sanity.png](hwk5_figures/tmin_tmax_sanity.png)\n"
     ]
    }
   ],
   "source": [
    "# TODO: need to put necessary images and figures in `hw5_figures`\n",
    "L=!ls hwk5_figures/\n",
    "for l in L:\n",
    "    print \"![%s](hwk5_figures/%s)\"%(l,l)"
   ]
  },
  {
   "cell_type": "markdown",
   "metadata": {},
   "source": [
    " # Washington-Idaho Weather Analysis\n",
    "\n",
    "This is a report on the historical analysis of weather patterns in the area that encompasses southeastern Washington and Northwestern Idaho, two states in the nothwest part of the U.S.  \n",
    "\n",
    "<p>&nbsp;</p>\n",
    "<p><img src=\"hwk5_figures/pullman_washington_map.png\" /></p>\n",
    "<p>&nbsp;</p>\n",
    "\n",
    "The data that will be used comes from [NOAA](https://www.ncdc.noaa.gov/), downloaded specifically from [FTP site](ftp://ftp.ncdc.noaa.gov/pub/data/ghcn/daily/).\n",
    "\n",
    "The data used focused on these six measurements:\n",
    "* **TMIN, TMAX:** the daily minimum and maximum temperature.\n",
    "* **TOBS:** The average temperature for each day.\n",
    "* **PRCP:** Daily Percipitation (in mm)\n",
    "* **SNOW:** Daily snowfall (in mm)\n",
    "* **SNWD:** The depth of accumulated snow.\n",
    "\n",
    "However for the in-depth analysis we will only look at a small subset of these measurements.\n",
    "\n",
    "## The Data\n",
    "\n",
    "<p>We start by comparing some of the general statistics with graphs that we obtained from a site called <a href=\"http://www.usclimatedata.com/climate/pullman/washington/united-states/uswa0356\" target=\"_blank\">US Climate Data</a> The graphs below shows the daily minimum and maximum temperatures for each month in Celcius and Fahrenheit, as well as the total precipitation for each month in milimeters and inches.</p>\n",
    "\n",
    "<p>&nbsp;</p>\n",
    "\n",
    "<p><img src=\"hwk5_figures/pullman_washington_climate.png\"/></p>\n",
    "<p><img src=\"hwk5_figures/pullman_washington_climate_inch.png\"/></p>\n",
    "\n",
    "<p>&nbsp;</p>\n",
    "\n",
    "<p>If we compare the graphs above to the graphs below, we can see that our min and max daily&nbsp;temperatures agree with the ones from the US Climate Data.</p>\n",
    "\n",
    "<p>&nbsp;</p>\n",
    "\n",
    "<p><img src=\"hwk5_figures/tmin_tmax_sanity.png\" /></p>\n",
    "\n",
    "<p>Now, if we compare our precipitation data to the US Climate Data we can see if they are in agreement or not.  First we convert the data from milimeter/day to precipitation measured in inches/month.  We can see that our data is consistent with the US Climate data.  The average percipitation is consistent from Janary to May and then there is a slight drop in precipitation from July to August, and it increases from September to December. According to our data, the average rainfall is close to 2-3inches/month in the winter and spring months, while it drops close to 0-1inches/month in the summer months.  This agrees with the percipitation shown int he US Climate Data. </p>\n",
    "\n",
    "<p>&nbsp;<img src=\"hwk5_figures/precipitation_inches.png\" /></p>\n",
    "\n",
    "\n"
   ]
  },
  {
   "cell_type": "markdown",
   "metadata": {},
   "source": [
    "## PCA analysis\n",
    "\n",
    "<p> For each of the six measurements, we computed the percentate of the variance explained as a function of the number of eigen-vectors used. </p>\n",
    "\n",
    "### Percentage of variance explained.\n",
    "![percentage_variance_temp.png](hwk5_figures/percentage_variance_temp.png)\n",
    "<p> We see that the top 5 eigen-vectors explain 30% of variance for TMIN, 57% for TOBS and 33% for TMAX. </p>\n",
    "\n",
    "<p> We conclude that of the three, TOBS is best explained by the top 5 eigenvectors. This is especially true for the first eigen-vector which, by itself, explains 43% of the variance. </p>\n",
    "\n",
    "![percentage_variance_snow.png](hwk5_figures/percentage_variance_snow.png)\n",
    "\n",
    "<p> The top 5 eigenvectors explain 12% of the variance for PRCP and 18% for SNOW, which are are low values. On the other hand the top 5 eigenvectors explain 90% of the variance for SNWD. This means that these top 5 eigenvectors capture most of the variation in the snow signals. Also, it's important to note that SNWD is less noisy than SNOW.  This makes sense because SNWD is a decaying integral of SNOW so it would vary less bewteen days and less between the same date in different years.  Because of these observations, we will dive deeper into the analysis of snow-depth and closely examine the PCA analysis to give us more insights on snow-depth.  </p>\n"
   ]
  },
  {
   "cell_type": "markdown",
   "metadata": {},
   "source": [
    "## Analysis of snow depth\n",
    "\n",
    "<p> Because the first 3 eigen-vectors explain 85% of the variance, we will analyze the eigen-decomposition of snow-depth. </p>\n",
    "\n",
    "<p> We will first graph the mean and the top 3 eigen-vectors.  From these graphs, we can observe that the snow season is from mid-november to mid-april. We can also see that the snow depth peaks during the month of February. </p>\n",
    "\n",
    "![snowdepth_mean.png](hwk5_figures/snowdepth_mean.png)\n"
   ]
  },
  {
   "cell_type": "markdown",
   "metadata": {},
   "source": [
    "<p> Next we will interpret the eigen-functions.  There isn't a single eigen-function that has a shape that closely follows that of the mean function.  For example, the first eigen-fuction (eig1) is only similar to the mean function in the non-winter months.  The second eigen-function (eig2) is similar to the mean function in the non-winter months and in the early winter months of mid-November to December.  While the third eigen-fucntion (eig3) is similar to the mean function in the non-winter months and the winter months from Januaray to end of February.  All three eigen-fucntions fluctuate between positive and negative values, indicating that they correspond to the changing distribution of the snow depth over the winter months and do affect the total. </p>\n",
    " \n",
    "<p> More specifically, the three eigen-functions can be interpreted as follows: </p>\n",
    "* eig1: less snow from January - end of April and also less snow from mid-November - January\n",
    "* eig2: slightly less snow in January - mid-April, more snow in mid-November to January\n",
    "* eig3: more snow from January - mid-February, less snow in mid-February to end of April\n",
    "\n",
    "\n"
   ]
  },
  {
   "cell_type": "markdown",
   "metadata": {},
   "source": [
    "### Examples of reconstructions\n",
    "\n",
    "#### Coeff1\n",
    "Coeff1: most positive\n",
    "![coeff1_r1_pos.png](hwk5_figures/coeff1_r1_pos.png)\n",
    "Coeff1: most negative\n",
    "![coeff1_r1_neg.png](hwk5_figures/coeff1_r1_neg.png)\n",
    "<p> From the graphs here, we can see that less negative values of coeff1 corespond to slightly more than average snow and a snow season with two peaks with one at mid-January and the other at mid-Febrary. On the other hand, very negative values of coeff1 correspond to an even more than average snow fall that tends to have a single peak in mid-February. </p>\n",
    "\n",
    "\n",
    "#### Coeff2\n",
    "Coeff2: most positive\n",
    "![coeff2_r2_pos.png](hwk5_figures/coeff2_r2_pos.png)\n",
    "Coeff2: most negative\n",
    "![coeff2_r2_neg.png](hwk5_figures/coeff2_r2_neg.png)\n",
    "<p> Large positive values of coeff2 correspond to an earlier snow season with most of the snow falling in December to January.  Negative values of coeff2 corespond to a later snow season that lasts until mid-April.  In this case, the later snow season has a peak of snow depth from February to March and has a larger snowfall amount compared to that of large positive values of coeff2. </p>\n",
    "\n",
    "\n",
    "#### Coeff3\n",
    "Coeff3: most positive\n",
    "![coeff3_r3_pos.png](hwk5_figures/coeff3_r3_pos.png)\n",
    "Coeff3: most negative\n",
    "![coeff3_r3_neg.png](hwk5_figures/coeff3_r3_neg.png)\n",
    "<p> Large positive values of coeff3 correspond to a snow season with a peak around mid-January or beginning of February.  Negative values coeff3 correspond to a snow season that tends to peak in March. </p>\n",
    "\n",
    "\n",
    "\n"
   ]
  },
  {
   "cell_type": "markdown",
   "metadata": {},
   "source": [
    "### Snow-Depth Best Reconstruction\n",
    "\n",
    "![snwd_best_reconstruction.png](hwk5_figures/snwd_best_reconstruction.png)\n",
    "\n",
    "Here we can see the best reconstruction of the eigen-decomposition of snow-depth.  The coefficients in this graph have been set to their calcualted, optimal setting. From this, we can see that the snowfall season typically starts from mid-Novebmer and ends mid-April.  In the beginning of the snow season, it tends to have the average amount of snowfall across this region, but towards the end of the winter season, there tends to be more than average amount of snow-depth.  Also, we can see that the snowfall would tend to peak in mid-February, indicating that there tends to be a later snow season. "
   ]
  },
  {
   "cell_type": "markdown",
   "metadata": {},
   "source": [
    "### Analyze Spatial vs Temporal Snow Depth Variation\n",
    "\n",
    "<p>In the analysis above, we can see that coeff_1 corresponds to the amount of snowfall with respect to the location of the stations.  We can also see that coeff_2 and coeff_3 corresponds to the timing of the snowfall, with respect to if we have an earlier or later snow season.  We will now estimate the relative importance of spatial versus temporal variation in snow depth. So below are the measurements made by taking the fraction of variance that is reduced when each station or year entry is subtracted from the overall variance.  Note we used the average-per-station and average-per-station in the calculations. </p>\n",
    "\n",
    "\n",
    "<p>\n",
    "**Coeff1** <br/>\n",
    "total RMS                   =  3056.92085277 <br/>\n",
    "RMS removing mean-by-station=1664.6460512, fraction explained=45.5  <br/>\n",
    "RMS removing mean-by-year   = 2294.48138564, fraction explained=24.9 <br/>\n",
    "</p>\n",
    "\n",
    "<p>\n",
    "**Coeff2**  <br/>\n",
    "total RMS                   =  891.646509155 <br/>\n",
    "RMS removing mean-by-station=  860.293896216, fraction explained=3.5 <br/>\n",
    "RMS removing mean-by-year   =  497.017351854, fraction explained=44.3 <br/>\n",
    "</p>\n",
    "\n",
    "<p>\n",
    "**Coeff3**  <br/>\n",
    "total RMS                   =  794.799911513 <br/>\n",
    "RMS removing mean-by-station=  709.539541071, fraction explained=10.7 <br/>\n",
    "RMS removing mean-by-year   =  583.409289763, fraction explained=26.6 <br/>\n",
    "</p>\n",
    "\n",
    "<p> From the results above, we can see that the variation by year explains more than the variation by station.  This is slightly less the case with coeff_1, but this is because coeff_1 has to do with the total amount of snowfall as observed in the reconstruction examples above.  Compared to coeff_1, coeff_2 and coeff_3 explain more about when snowfall occurs and less about the amount of snowfall.  Overall, we can see that for coeff_2 and coeff_3, that year explains 25-40% of the variance compared to the stations that explain 3-10% of the variance.  However, for coeff_1, the year explains 24% of the variance whereas the station explains 45% of the variance. Overall, we can conclude that most of the variance is  explained by year with a small percentage of variance explained also by station. </p>\n",
    "\n",
    "\n"
   ]
  },
  {
   "cell_type": "markdown",
   "metadata": {},
   "source": [
    "## Analysis of  correlation between snow depth across locations\n",
    "\n",
    "\n"
   ]
  },
  {
   "cell_type": "markdown",
   "metadata": {
    "collapsed": true
   },
   "source": [
    "\n",
    "### Correlation matrices\n",
    "\n",
    "The correlation matrix below shows the overlap in snow depth across stations is random.  We can see that there are certain pairs of stations within the first 6 stations that are highly correlated with each other.  We can also see that there is a larger block of stations, the first 16, that are correlated with each other, but there are smaller blocks or individual paris that are more related than the rest of this block.  \n",
    "\n",
    "\n",
    "![SNWD_correlation_3.png](hwk5_figures/SNWD_correlation_3.png)\n",
    "\n",
    "If we look at the number of eigenvectors that explain the variance of this data, we can see that the top 8 eigenvectors explain about 90% of the variance.  However, we can see that only the top 4 eigenvectors contribute the most to the variance.  Therefore, we will use these top 4 eigenvectors to find more correlations.\n",
    "\n",
    "\n",
    "![SNWD_correl_var_explained.png](hwk5_figures/SNWD_correl_var_explained.png)\n",
    "\n",
    "\n",
    "Below are four correlation matrices in which the normalize log probability between each pair of stations is ordered by a specific eigenvector.  The first graph in the upper left is the correlation between stations ordered by eigenvector 1; the second graph in the upper right is the correlation between stations ordered by eigenvector 2; the third graph in the lower left is the correlation between stations ordered by eigenvector 3; and lastly the fourth graph is the correlation between stations orderd by eigenvector 4. \n",
    "![SNWD_correlation_1.png](hwk5_figures/SNWD_correlation_1.png)\n",
    "![SNWD_correlation_2.png](hwk5_figures/SNWD_correlation_2.png)\n",
    "\n",
    "\n",
    "\n",
    "\n",
    "\n",
    "\n"
   ]
  },
  {
   "cell_type": "markdown",
   "metadata": {},
   "source": [
    "Now we will analyze these correlation matrices.  We will ignore the third and fourth graphs because there is too much  noise and not enough distinct, highly correlated blocks of stations to make meaningful interpretations from.  Next, in the first correlation matrix (upper left), we can see that there is a block of strongly correlated stations positioned at 14-43.  But then in the second correlation matrix (upper right), we can see blocks of stations that are even more related compared to the one seen in the first matrix.  In the second matrix, we can see that stations at positions 0-7 and positions 39-43 are clearly strongly correlated with each other in their respective blocks.  "
   ]
  },
  {
   "cell_type": "markdown",
   "metadata": {},
   "source": [
    "###  Spatial Relationship of Highly Correlated Blocks\n",
    "\n",
    "<p> Here we extracted the sets of stations that form blocks in our region.  The blocks are the stations at positions 0-7 and 39-43 from the second correlation matrix (upper right) above.  We will plot the inidividual stations on a map to see their spatial relationship.</p>\n",
    "\n",
    "\n",
    "![snwd_correl_block_0008.png](hwk5_figures/snwd_correl_block_0008.png)\n",
    "Here we look at another block of correlated stations in the second graph (upper right), positioned at 0-7 in the matrix.  From the correlation matrix further above, we can see that these stations are correlated but there are some that are more related to each other than to the rest of the block.  The pairs of stations are are more related to each other than to the rest of the block could be explained by the fact that they are located at similar elevations that differ from the rest of the stations.\n",
    "* station@0 = USC00106421; elevation= 939.1\n",
    "* station@1 = USC00456784; elevation= 787.0\n",
    "* station@2 = USC00457223; elevation= 438.9\n",
    "* station@3 = USC00105236; elevation= 225.9\n",
    "* station@4 = USW00024110; elevation= 364.5\n",
    "* station@5 = USC00107301; elevation= 841.2\n",
    "* station@6 = USC00106681; elevation= 402.3\n",
    "* station@7 = USC00457956; elevation= 600.5\n",
    "\n",
    "\n",
    "\n",
    "\n",
    "![snwd_eigenvect2_correl_map.png](hwk5_figures/snwd_eigenvect2_correl_map.png)\n",
    "Now we'll take a look at the block of stations at position 39-43 in the second correlation matrix.  Geographically, we can see that this block of stations are located in the eastern part of the area we're analyzing, and if take a look at the elevations below, we can see that they are roughly located at the same elevation.  With these stations located at similar elevations we can see how they are very highly correlated, and even more so between stations that are located at nearly the same elevations.\n",
    "\n",
    "* station@39= USC00109846; elevation= 1210.7\n",
    "* station@40= USC00102892; elevation= 889.4\n",
    "* station@41= USC00100528; elevation= 729.7\n",
    "* station@42= USC00104150; elevation= 975.4\n",
    "* station@43= USC00107046; elevation= 938.8\n",
    "\n",
    "\n",
    "\n"
   ]
  },
  {
   "cell_type": "markdown",
   "metadata": {},
   "source": [
    "## Analysis of percipitation\n",
    "\n",
    "### Overview of variance of percipitation\n",
    "\n",
    "<p> So far, the majority of our analysis has been on snow-depth because its top eigenvectors explained a large percentage of its variance.  Now we will take a brief look at percipitation across stations because there are some interesting patterns and correlation of some interest.  </p>\n",
    "\n",
    "![prcp_variance_explained.png](hwk5_figures/prcp_variance_explained.png)\n",
    "\n",
    "<p> From the graph above we can see that the first 3 eigenvectors explain 10% of the variance.  Then below, we graph the mean and the top 3 eiigenvectors.  We can obseve that there seems to be a consistent amount of rain throughout the year, with it peaking in  mid-November, January, and mid-February.  </p>\n",
    "\n",
    "![prcp_avg_eig.png](hwk5_figures/prcp_avg_eig.png)\n",
    "\n",
    "\n",
    "\n",
    "\n"
   ]
  },
  {
   "cell_type": "markdown",
   "metadata": {},
   "source": [
    "### Analysis of correlation between precipitation across stations\n",
    "\n",
    "We will now take a look at the correlation of precipitation between stations.  We want to look at the probability that it rained on the same day for a pair of stations.  We can see from the graph immediately below that it rains about ___ days in our region.\n",
    "\n",
    "![PRCP_correl_2.png](hwk5_figures/PRCP_correl_2.png)\n",
    "<p> The correlation matrix below shows the overlap in percipitation across stations is random.  We can se that there is a block of stations positioned at 0-15 that are strongly correlated with each other.  Within that block, there is a smaller block of stations positioned at 0-8 that are more strongly correlated with each other than with the rest of the block.  And lastly, there are other pairs of stations that are also strongly correlated with each other spread throughout the matrix. </p>\n",
    " \n",
    "\n",
    "\n"
   ]
  },
  {
   "cell_type": "markdown",
   "metadata": {},
   "source": [
    "\n",
    " ![PRCP_correl_var_explained.png](hwk5_figures/PRCP_correl_var_explained.png)\n",
    " \n",
    "<p> If we look at the number of eigenvectors that explain the variance of this data, we can see that the top 10 eigenvectors explain about 80% of the variance.  However, we can see that only the top 4 eigenvectors contribute the most to the variance.  Therefore, we will use these top 4 eigenvectors to find more correlations.\n",
    "</p>\n"
   ]
  },
  {
   "cell_type": "markdown",
   "metadata": {},
   "source": [
    "\n",
    "<p> Similar to the correlation matrices for the snow-depth analysis, here are four correlation matrices in which the normalize log probability between each pair of stations is ordered by a specific eigenvector.  The first graph in the upper left is the correlation between stations ordered by eigenvector 1; the second graph in the upper right is the correlation between stations ordered by eigenvector 2; the third graph in the lower left is the correlation between stations ordered by eigenvector 3; and lastly the fourth graph is the correlation between stations orderd by eigenvector 4.  </p>\n",
    "\n",
    "![PRCP_correl_1.png](hwk5_figures/PRCP_correl_1.png)\n",
    "\n",
    "<p>Now we will analyze these correlation matrices.  If we look at the first correlation matrix (upper left), we can see that there is a block of highly correlated stations positioned at 0-30, but there is an even more related block of stations at positions 0-15.  Then in the second correlation matrix (upper right), we can see that there is a highly correlated block of stations positioned at 80-93 with smaller blocks inside it with stations that are more highly correlated with each other.  The thirs and fourth correlation  matrics don't have as distinct blocks of highly correlated stations, but they have some correlated blocks for stations at 20-50 for the 3rd matrix and for stations at 0-10 and 85-93 for the 4th matrix.</p>\n",
    "\n",
    "\n",
    "\n",
    "<p> Here we extracted the sets of stations that form blocks in our region.  The blocks are the stations at positions 0-7 from the first correlation matrix (upper left) above.  We will plot the inidividual stations on a map to see their spatial relationship.</p>\n",
    "![prcp_correl_block_0008.png](hwk5_figures/prcp_correl_block_0008.png)\n",
    "\n",
    "\n",
    "<p> Apart from one station that is further up north in the region, the majorityof the highly correalted stations on this block are located geographically close to one another.  Looking at the elevations for the stations below, we can also see that their elevations are also very similar.  Therefore it makes sense that the normalized log-probability between pairs of these stations would have some dependence and it is likely that it would rain at both stations on a given day.   </p>\n",
    "\n",
    "* station@0= US1IDBW0003; elevation= 766.9\n",
    "* station@1= US1IDLT0001; elevation= 823.0\n",
    "* station@2= US1IDLT0004; elevation= 949.8\n",
    "* station@3= US1IDLT0006; elevation= 805.0\n",
    "* station@4= US1IDLT0007; elevation= 802.8\n",
    "* station@5= US1IDNP0001; elevation= 287.4\n",
    "* station@6= US1WAWM0004; elevation= 737.0\n",
    "* station@7= US1WAWM0005; elevation= 772.7\n",
    "\n",
    "\n"
   ]
  },
  {
   "cell_type": "markdown",
   "metadata": {},
   "source": [
    "\n",
    "## Final Remarks\n",
    "\n",
    "This was a report on the historical analysis of weather patterns in an area that covers the states of Washington and Idaho. First, we saw that the top 5 eigenvectors explain 90% of its variance, so we chose to do a deeper PCA-analysis on the snow-depth data.  We analyzed the eigen-decomposition for snow-depth, looking at its first 3 eigenvectors. Looking at the eigenvectors as a whole, we were able to observe that the snow season is from mid-november to mid-april.  Then looking at the eigenvectors individually, we interpreted various trends in the snow season such as more snow during certain months of the winter season or cases in which the snow seson would start earlier or later.  Based on this analysis, we were also able to conclude that snow-depth variation is affected the most by year, more so than by station. Next, we analyzed the correlation between snow-depth across stations.  We were able to identify blocks of stations that were strongly correlated, some more than others, which were largely due to their geographical location and elevations.  Lastly, we did a brief analysis on percipitation.  We mostly analyzed the correlation between percipitation across stations and found that it followed the intuition that it would rain at stations located in close proximity of each other.  \n",
    "\n"
   ]
  },
  {
   "cell_type": "code",
   "execution_count": null,
   "metadata": {
    "collapsed": true
   },
   "outputs": [],
   "source": []
  }
 ],
 "metadata": {
  "kernelspec": {
   "display_name": "Python 2",
   "language": "python",
   "name": "python2"
  },
  "language_info": {
   "codemirror_mode": {
    "name": "ipython",
    "version": 2
   },
   "file_extension": ".py",
   "mimetype": "text/x-python",
   "name": "python",
   "nbconvert_exporter": "python",
   "pygments_lexer": "ipython2",
   "version": "2.7.13"
  },
  "toc": {
   "colors": {
    "hover_highlight": "#DAA520",
    "running_highlight": "#FF0000",
    "selected_highlight": "#FFD700"
   },
   "moveMenuLeft": true,
   "nav_menu": {
    "height": "243px",
    "width": "252px"
   },
   "navigate_menu": true,
   "number_sections": true,
   "sideBar": true,
   "threshold": 4,
   "toc_cell": false,
   "toc_section_display": "block",
   "toc_window_display": true,
   "widenNotebook": false
  }
 },
 "nbformat": 4,
 "nbformat_minor": 2
}
