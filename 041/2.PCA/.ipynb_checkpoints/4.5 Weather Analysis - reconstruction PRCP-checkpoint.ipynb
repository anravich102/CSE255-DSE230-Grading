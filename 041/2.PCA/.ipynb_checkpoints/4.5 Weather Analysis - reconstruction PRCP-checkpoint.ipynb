{
 "cells": [
  {
   "cell_type": "code",
   "execution_count": 2,
   "metadata": {
    "collapsed": true,
    "deletable": true,
    "editable": true,
    "run_control": {
     "frozen": false,
     "read_only": false
    }
   },
   "outputs": [],
   "source": [
    "#setup\n",
    "data_dir='../../Data/Weather'\n",
    "file_index='SBBBSBSS'\n",
    "m='PRCP'"
   ]
  },
  {
   "cell_type": "markdown",
   "metadata": {
    "deletable": true,
    "editable": true,
    "run_control": {
     "frozen": false,
     "read_only": false
    },
    "slideshow": {
     "slide_type": "slide"
    },
    "variables": {
     "m": "PRCP"
    }
   },
   "source": [
    "# Reconstruction using top eigen-vectors\n",
    "For measurement = {{m}}"
   ]
  },
  {
   "cell_type": "markdown",
   "metadata": {
    "deletable": true,
    "editable": true,
    "run_control": {
     "frozen": false,
     "read_only": false
    },
    "slideshow": {
     "slide_type": "skip"
    }
   },
   "source": [
    "## Load the required libraries"
   ]
  },
  {
   "cell_type": "code",
   "execution_count": 3,
   "metadata": {
    "collapsed": false,
    "deletable": true,
    "editable": true,
    "run_control": {
     "frozen": false,
     "read_only": false
    },
    "slideshow": {
     "slide_type": "skip"
    }
   },
   "outputs": [],
   "source": [
    "# Enable automiatic reload of libraries\n",
    "#%load_ext autoreload\n",
    "#%autoreload 2 # means that all modules are reloaded before every command"
   ]
  },
  {
   "cell_type": "code",
   "execution_count": 4,
   "metadata": {
    "collapsed": false,
    "deletable": true,
    "editable": true,
    "run_control": {
     "frozen": false,
     "read_only": false
    },
    "slideshow": {
     "slide_type": "skip"
    }
   },
   "outputs": [
    {
     "name": "stdout",
     "output_type": "stream",
     "text": [
      "Populating the interactive namespace from numpy and matplotlib\n",
      "    pandas as    pd \tversion=0.19.2 \trequired version>=0.19.2\n",
      "     numpy as    np \tversion=1.11.3 \trequired version>=1.12.0 ******* Update Version ******\n",
      "   sklearn as    sk \tversion=0.18.1 \trequired version>=0.18.1\n",
      "    urllib as urllib \tversion=1.17 \trequired version>=1.17\n",
      "   pyspark as pyspark \tversion=2.1.0+hadoop2.7 \trequired version>=2.1.0\n",
      "ipywidgets as ipywidgets \tversion=5.2.2 \trequired version>=6.0.0 ******* Update Version ******\n"
     ]
    }
   ],
   "source": [
    "%pylab inline\n",
    "import numpy as np\n",
    "\n",
    "import findspark\n",
    "findspark.init()\n",
    "\n",
    "import sys\n",
    "sys.path.append('./lib')\n",
    "\n",
    "from numpy_pack import packArray,unpackArray\n",
    "\n",
    "from Eigen_decomp import Eigen_decomp\n",
    "from YearPlotter import YearPlotter\n",
    "from recon_plot import recon_plot\n",
    "\n",
    "from import_modules import import_modules,modules\n",
    "import_modules(modules)\n",
    "\n",
    "from ipywidgets import interactive,widgets"
   ]
  },
  {
   "cell_type": "code",
   "execution_count": 5,
   "metadata": {
    "collapsed": false,
    "deletable": true,
    "editable": true,
    "run_control": {
     "frozen": false,
     "read_only": false
    },
    "slideshow": {
     "slide_type": "skip"
    }
   },
   "outputs": [],
   "source": [
    "from pyspark import SparkContext\n",
    "#sc.stop()\n",
    "\n",
    "sc = SparkContext(master=\"local[3]\",pyFiles=['lib/numpy_pack.py','lib/spark_PCA.py','lib/computeStats.py','lib/recon_plot.py','lib/Eigen_decomp.py'])\n",
    "\n",
    "from pyspark import SparkContext\n",
    "from pyspark.sql import *\n",
    "sqlContext = SQLContext(sc)\n",
    "\n",
    "\n",
    "\n"
   ]
  },
  {
   "cell_type": "markdown",
   "metadata": {
    "deletable": true,
    "editable": true,
    "run_control": {
     "frozen": false,
     "read_only": false
    },
    "slideshow": {
     "slide_type": "slide"
    }
   },
   "source": [
    "## Read Statistics File"
   ]
  },
  {
   "cell_type": "code",
   "execution_count": 6,
   "metadata": {
    "collapsed": true,
    "deletable": true,
    "editable": true,
    "run_control": {
     "frozen": false,
     "read_only": false
    },
    "slideshow": {
     "slide_type": "fragment"
    }
   },
   "outputs": [],
   "source": [
    "data_dir='../../Data/Weather'\n",
    "file_index='SBBBSBSS'"
   ]
  },
  {
   "cell_type": "code",
   "execution_count": 7,
   "metadata": {
    "collapsed": false,
    "deletable": true,
    "editable": true,
    "run_control": {
     "frozen": false,
     "read_only": false
    },
    "slideshow": {
     "slide_type": "subslide"
    }
   },
   "outputs": [
    {
     "name": "stdout",
     "output_type": "stream",
     "text": [
      "keys from STAT= ['TMIN', 'TOBS', 'TMAX', 'SNOW', 'SNWD', 'PRCP']\n"
     ]
    }
   ],
   "source": [
    "from pickle import load\n",
    "\n",
    "#read statistics\n",
    "filename=data_dir+'/STAT_%s.pickle'%file_index\n",
    "STAT,STAT_Descriptions = load(open(filename,'rb'))\n",
    "measurements=STAT.keys()\n",
    "print 'keys from STAT=',measurements"
   ]
  },
  {
   "cell_type": "markdown",
   "metadata": {
    "deletable": true,
    "editable": true,
    "run_control": {
     "frozen": false,
     "read_only": false
    },
    "slideshow": {
     "slide_type": "slide"
    }
   },
   "source": [
    "## Read data file into a spark DataFrame\n",
    "We focus on the snow-depth records, because the eigen-vectors for them make sense."
   ]
  },
  {
   "cell_type": "code",
   "execution_count": 8,
   "metadata": {
    "collapsed": false,
    "deletable": true,
    "editable": true,
    "run_control": {
     "frozen": false,
     "read_only": false
    },
    "scrolled": true,
    "slideshow": {
     "slide_type": "subslide"
    }
   },
   "outputs": [
    {
     "name": "stdout",
     "output_type": "stream",
     "text": [
      "+---------+--------+---------+-----------+-----------+------+--------------------+------+--------+\n",
      "|elevation|latitude|longitude|measurement|    station|undefs|              vector|  year|   label|\n",
      "+---------+--------+---------+-----------+-----------+------+--------------------+------+--------+\n",
      "|   1495.0| 46.6167|  -110.35|       PRCP|USC00242886|     0|[40 53 D0 56 00 0...|1910.0|SBBBSBSS|\n",
      "|   1495.0| 46.6167|  -110.35|       PRCP|USC00242886|     1|[00 00 00 00 40 4...|1911.0|SBBBSBSS|\n",
      "|   1495.0| 46.6167|  -110.35|       PRCP|USC00242886|    31|[00 00 00 00 00 0...|1912.0|SBBBSBSS|\n",
      "|   1495.0| 46.6167|  -110.35|       PRCP|USC00242886|     0|[00 42 00 45 80 4...|1913.0|SBBBSBSS|\n",
      "|   1495.0| 46.6167|  -110.35|       PRCP|USC00242886|     0|[80 4C 00 00 00 0...|1914.0|SBBBSBSS|\n",
      "+---------+--------+---------+-----------+-----------+------+--------------------+------+--------+\n",
      "only showing top 5 rows\n",
      "\n"
     ]
    }
   ],
   "source": [
    "#read data\n",
    "filename=data_dir+'/US_Weather_%s.parquet'%file_index\n",
    "df_in=sqlContext.read.parquet(filename)\n",
    "#filter in \n",
    "df=df_in.filter(df_in.measurement==m)\n",
    "df.show(5)"
   ]
  },
  {
   "cell_type": "markdown",
   "metadata": {
    "deletable": true,
    "editable": true,
    "run_control": {
     "frozen": false,
     "read_only": false
    },
    "slideshow": {
     "slide_type": "subslide"
    }
   },
   "source": [
    "### Create a matrix with all of the series"
   ]
  },
  {
   "cell_type": "code",
   "execution_count": 9,
   "metadata": {
    "collapsed": false,
    "deletable": true,
    "editable": true,
    "run_control": {
     "frozen": false,
     "read_only": false
    }
   },
   "outputs": [
    {
     "data": {
      "text/plain": [
       "(2632, 365)"
      ]
     },
     "execution_count": 9,
     "metadata": {},
     "output_type": "execute_result"
    }
   ],
   "source": [
    "rows=df.rdd.map(lambda row:unpackArray(row['vector'],np.float16)).collect()\n",
    "\n",
    "T=np.vstack(rows)\n",
    "shape(T)"
   ]
  },
  {
   "cell_type": "markdown",
   "metadata": {
    "deletable": true,
    "editable": true,
    "run_control": {
     "frozen": false,
     "read_only": false
    },
    "slideshow": {
     "slide_type": "subslide"
    }
   },
   "source": [
    "### Plot two time series\n",
    "`SNWD` stands for `snow-depth`, which explains why it is zero during the summer"
   ]
  },
  {
   "cell_type": "code",
   "execution_count": 10,
   "metadata": {
    "collapsed": false,
    "deletable": true,
    "editable": true,
    "run_control": {
     "frozen": false,
     "read_only": false
    },
    "slideshow": {
     "slide_type": "fragment"
    }
   },
   "outputs": [
    {
     "data": {
      "image/png": "iVBORw0KGgoAAAANSUhEUgAAAXoAAAD6CAYAAACvZ4z8AAAABHNCSVQICAgIfAhkiAAAAAlwSFlz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\nZLo5WegzmUymm/MbA1sU1+palTwAAAAASUVORK5CYII=\n",
      "text/plain": [
       "<matplotlib.figure.Figure at 0x7fd1b6acf3d0>"
      ]
     },
     "metadata": {},
     "output_type": "display_data"
    }
   ],
   "source": [
    "fig, ax = plt.subplots(figsize=(6,4));\n",
    "YP=YearPlotter()\n",
    "YP.plot(T[16:18].transpose(),fig,ax,title=m)"
   ]
  },
  {
   "cell_type": "markdown",
   "metadata": {
    "deletable": true,
    "editable": true,
    "run_control": {
     "frozen": false,
     "read_only": false
    },
    "slideshow": {
     "slide_type": "slide"
    }
   },
   "source": [
    "### Plot Reconstructions\n",
    "\n",
    "Construct approximations of a time series using the mean and the $k$ top eigen-vectors\n",
    "First, we plot the mean and the top $k$ eigenvectors"
   ]
  },
  {
   "cell_type": "code",
   "execution_count": 11,
   "metadata": {
    "collapsed": false,
    "deletable": true,
    "editable": true,
    "run_control": {
     "frozen": false,
     "read_only": false
    },
    "scrolled": false,
    "slideshow": {
     "slide_type": "subslide"
    }
   },
   "outputs": [
    {
     "data": {
      "image/png": "iVBORw0KGgoAAAANSUhEUgAAAl8AAAFcCAYAAAD2w9suAAAABHNCSVQICAgIfAhkiAAAAAlwSFlz\nAAALEgAACxIB0t1+/AAAIABJREFUeJzsvXd4nXd99//6nr20lzW8dxw7sWOyh8hghCRlFwoPUEpD\nSymUlt/TSRmlLbQ8PLTQh0LDCFDCaAgEQoYzlOUkThzvEU/Zkqw9z57f3x/30DnS0bCt4fF5XZcv\nS/c+Out9vz9Laa0RBEEQBEEQ5gbHfF+AIAiCIAjCxYSIL0EQBEEQhDlExJcgCIIgCMIcIuJLEARB\nEARhDhHxJQiCIA