{
 "cells": [
  {
   "cell_type": "code",
   "execution_count": 1,
   "metadata": {
    "collapsed": true
   },
   "outputs": [],
   "source": [
    "from ipyleaflet import (\n",
    "    Map,\n",
    "    Marker,\n",
    "    TileLayer, ImageOverlay,\n",
    "    Polyline, Polygon, Rectangle, Circle, CircleMarker,\n",
    "    GeoJSON,\n",
    "    DrawControl\n",
    ")"
   ]
  },
  {
   "cell_type": "code",
   "execution_count": 2,
   "metadata": {
    "collapsed": true
   },
   "outputs": [],
   "source": [
    "import pandas as pd\n",
    "import numpy as np\n",
    "import sklearn as sk\n",
    "import urllib\n",
    "import math\n",
    "import pylab as plt"
   ]
  },
  {
   "cell_type": "code",
   "execution_count": 3,
   "metadata": {
    "collapsed": true
   },
   "outputs": [],
   "source": [
    "import findspark\n",
    "findspark.init()\n",
    "\n",
    "from pyspark import SparkContext\n",
    "#sc.stop()\n",
    "sc = SparkContext(master=\"local[3]\",pyFiles=['lib/numpy_pack.py','lib/computeStats.py'])\n",
    "\n",
    "from pyspark import SparkContext\n",
    "from pyspark.sql import *\n",
    "sqlContext = SQLContext(sc)"
   ]
  },
  {
   "cell_type": "code",
   "execution_count": 4,
   "metadata": {
    "collapsed": true
   },
   "outputs": [],
   "source": [
    "import sys\n",
    "sys.path.append('./lib')\n",
    "\n",
    "import numpy as np\n",
    "from numpy_pack import packArray,unpackArray\n",
    "from computeStats import computeOverAllDist, STAT_Descriptions\n",
    "from leaflet import *"
   ]
  },
  {
   "cell_type": "code",
   "execution_count": 5,
   "metadata": {},
   "outputs": [
    {
     "name": "stdout",
     "output_type": "stream",
     "text": [
      "('keys from STAT=', ['TMIN', 'TOBS', 'TMAX', 'SNOW', 'SNWD', 'PRCP'])\n",
      "487\n",
      "+-----------------+------------------+------------------+---------+--------+--------+---------+-----------+-------------------+-------------------+--------------------+------------------+-----------+------------+------+--------------------+------+\n",
      "|          coeff_1|           coeff_2|           coeff_3|elevation|   label|latitude|longitude|measurement|              res_1|              res_2|               res_3|          res_mean|    station|   total_var|undefs|              vector|  year|\n",
      "+-----------------+------------------+------------------+---------+--------+--------+---------+-----------+-------------------+-------------------+--------------------+------------------+-----------+------------+------+--------------------+------+\n",
      "|7663.508552386449| 848.6387805724389|-530.7948532451555|   1930.9|SBBSSBSB| 42.8667|   -110.9|       SNWD|0.07254424203527628|0.06117101635437483|0.056721720189118884|0.5933213083299034|USC00480605| 1.0672647E8|     0|[28 61 28 61 28 6...|1964.0|\n",
      "|  7427.2740366698|41.755646431195146| -815.843359317882|   2072.0|SBBSSBSB| 43.8567|-110.5889|       SNWD|0.06611391291281093|0.06623469797944966| 0.05661560003611501|0.5920189104537935|USC00486440|1.04119727E8|    14|[C2 61 C2 61 8E 6...|1985.0|\n",
      "+-----------------+------------------+------------------+---------+--------+--------+---------+-----------+-------------------+-------------------+--------------------+------------------+-----------+------------+------+--------------------+------+\n",
      "only showing top 2 rows\n",
      "\n"
     ]
    }
   ],
   "source": [
    "### Read the data frame from pickle file\n",
    "\n",
    "data_dir='../../Data/Weather'\n",
    "file_index='SBBSSBSB'\n",
    "meas='SNWD'\n",
    "\n",
    "from pickle import load\n",
    "\n",
    "#read statistics\n",
    "filename=data_dir+'/STAT_%s.pickle'%file_index\n",
    "STAT,STAT_Descriptions = load(open(filename,'rb'))\n",
    "print('keys from STAT=',STAT.keys())\n",
    "\n",
    "#!ls -ld $data_dir/*.parquet\n",
    "\n",
    "#read data\n",
    "filename=data_dir+'/decon_%s_%s.parquet'%(file_index,meas)\n",
    "\n",
    "df=sqlContext.read.parquet(filename)\n",
    "print(df.count())\n",
    "df.show(2)"
   ]
  },
  {
   "cell_type": "code",
   "execution_count": 6,
   "metadata": {},
   "outputs": [
    {
     "name": "stdout",
     "output_type": "stream",
     "text": [
      "SELECT MIN(latitude),MAX(latitude),MIN(longitude),MAX(longitude) FROM weather\n",
      "+-------------+-------------+--------------+--------------+\n",
      "|min(latitude)|max(latitude)|min(longitude)|max(longitude)|\n",
      "+-------------+-------------+--------------+--------------+\n",
      "|      42.8667|      43.8667|     -111.0339|     -104.9614|\n",
      "+-------------+-------------+--------------+--------------+\n",
      "\n"
     ]
    }
   ],
   "source": [
    "#extract longitude and latitude for each station\n",
    "feature='coeff_1'\n",
    "sqlContext.registerDataFrameAsTable(df,'weather')\n",
    "Query=\"SELECT MIN(latitude),MAX(latitude),MIN(longitude),MAX(longitude) FROM weather\"\n",
    "print(Query)\n",
    "df1 = sqlContext.sql(Query)\n",
    "df1.show(4)"
   ]
  },
  {
   "cell_type": "code",
   "execution_count": 7,
   "metadata": {},
   "outputs": [
    {
     "name": "stdout",
     "output_type": "stream",
     "text": [
      "SELECT station, latitude,longitude,elevation,coeff_1 FROM weather\n"
     ]
    },
    {
     "data": {
      "text/html": [
       "<div>\n",
       "<table border=\"1\" class=\"dataframe\">\n",
       "  <thead>\n",
       "    <tr style=\"text-align: right;\">\n",
       "      <th></th>\n",
       "      <th>station</th>\n",
       "      <th>latitude</th>\n",
       "      <th>longitude</th>\n",
       "      <th>elevation</th>\n",
       "      <th>count(station)</th>\n",
       "      <th>avg(coeff_1)</th>\n",
       "    </tr>\n",
       "  </thead>\n",
       "  <tbody>\n",
       "    <tr>\n",
       "      <th>0</th>\n",
       "      <td>US1WYTT0009</td>\n",
       "      <td>43.6215</td>\n",
       "      <td>-110.6253</td>\n",
       "      <td>2030.9</td>\n",
       "      <td>1</td>\n",
       "      <td>1633.779769</td>\n",
       "    </tr>\n",
       "    <tr>\n",
       "      <th>19</th>\n",
       "      <td>USC00480140</td>\n",
       "      <td>43.7728</td>\n",
       "      <td>-111.0339</td>\n",
       "      <td>1962.0</td>\n",
       "      <td>59</td>\n",
       "      <td>3205.087986</td>\n",
       "    </tr>\n",
       "  </tbody>\n",
       "</table>\n",
       "</div>"
      ],
      "text/plain": [
       "        station  latitude  longitude  elevation  count(station)  avg(coeff_1)\n",
       "0   US1WYTT0009   43.6215  -110.6253     2030.9               1   1633.779769\n",
       "19  USC00480140   43.7728  -111.0339     1962.0              59   3205.087986"
      ]
     },
     "execution_count": 7,
     "metadata": {},
     "output_type": "execute_result"
    }
   ],
   "source": [
    "Query=\"SELECT station, latitude,longitude,elevation,%s FROM weather\"%feature\n",
    "print(Query)\n",
    "df1 = sqlContext.sql(Query)\n",
    "df2=df1.groupby(['station','latitude','longitude','elevation']).agg({\"station\": \"count\", feature: \"mean\"})\n",
    "pdf=df2.toPandas()\n",
    "pdf.sort_values(by=['station'],inplace=True)\n",
    "pdf.head(2)"
   ]
  },
  {
   "cell_type": "code",
   "execution_count": 8,
   "metadata": {},
   "outputs": [
    {
     "data": {
      "text/plain": [
       "u'#0058ff'"
      ]
     },
     "execution_count": 8,
     "metadata": {},
     "output_type": "execute_result"
    }
   ],
   "source": [
    "#define a mapping from the range of the value to hex colors.\n",
    "from matplotlib.colors import rgb2hex\n",
    "_avg='avg(%s)'%feature\n",
    "_min=pdf[_avg].min()\n",
    "_max=pdf[_avg].max()\n",
    "_min,_max\n",
    "\n",
    "cmap=plt.get_cmap('jet')\n",
    "def get_color(val):\n",
    "    x=(val-_min)/(_max-_min)\n",
    "    return(rgb2hex(cmap(x)[:3]))\n",
    "\n",
    "get_color(1000.)"
   ]
  },
  {
   "cell_type": "code",
   "execution_count": 10,
   "metadata": {
    "collapsed": true
   },
   "outputs": [],
   "source": [
    "#(42.8667,43.8667,-111.0339,-104.9614)\n",
    "min_lat,max_lat,min_long,max_long = box = (42.5,44,-111.5,-104.5) "
   ]
  },
  {
   "cell_type": "code",
   "execution_count": 15,
   "metadata": {},
   "outputs": [
    {
     "data": {
      "application/vnd.jupyter.widget-view+json": {
       "model_id": "febbcd636f3241d8bb63844f2c45d576"
      }
     },
     "metadata": {},
     "output_type": "display_data"
    }
   ],
   "source": [
    "center = [(min_lat+max_lat)/2, (min_long+max_long)/2]\n",
    "zoom = 6\n",
    "\n",
    "m = Map(default_tiles=TileLayer(opacity=1.0), center=center, zoom=zoom)\n",
    "\n",
    "r = Rectangle(bounds=[[min_lat,min_long],[max_lat,max_long]], weight=3, fill_opacity=0.0)\n",
    "m += r\n",
    "\n",
    "lat_margin=(max_lat-min_lat)/4\n",
    "long_margin=(max_long-min_long)/4 \n",
    "circles = []\n",
    "for index,row in pdf[:9].iterrows():\n",
    "    _lat=row['latitude']\n",
    "    _long=row['longitude']\n",
    "    _count=row['count(station)']\n",
    "    _coef=row[_avg]\n",
    "    # taking sqrt of count so that the  area of the circle corresponds to the count\n",
    "    c = Circle(location=(_lat,_long), radius=int(1500*np.sqrt(_count+0.0)), weight=1,\n",
    "            color='#000', opacity=0.8, fill_opacity=0.4,\n",
    "            fill_color=get_color(_coef))\n",
    "    circles.append(c)\n",
    "    m.add_layer(c)\n",
    "m"
   ]
  },
  {
   "cell_type": "code",
   "execution_count": 11,
   "metadata": {},
   "outputs": [
    {
     "data": {
      "image/png": "[encoded data removed]",
      "text/plain": [
       "<matplotlib.figure.Figure at 0xbcba710>"
      ]
     },
     "metadata": {},
     "output_type": "display_data"
    }
   ],
   "source": [
    "%matplotlib inline\n",
    "pdf.plot.scatter(x='elevation',y='avg(coeff_1)');"
   ]
  },
  {
   "cell_type": "code",
   "execution_count": 12,
   "metadata": {},
   "outputs": [
    {
     "name": "stdout",
     "output_type": "stream",
     "text": [
      "SELECT station, latitude,longitude,elevation,res_1 FROM weather\n"
     ]
    },
    {
     "data": {
      "text/plain": [
       "(0.071412610213615182, 1.0729421539773598)"
      ]
     },
     "execution_count": 12,
     "metadata": {},
     "output_type": "execute_result"
    }
   ],
   "source": [
    "feature='res_1'\n",
    "Query=\"SELECT station, latitude,longitude,elevation,%s FROM weather\"%feature\n",
    "print(Query)\n",
    "df1 = sqlContext.sql(Query)\n",
    "df2=df1.groupby(['station','latitude','longitude','elevation']).agg({\"station\": \"count\", feature: \"mean\"})\n",
    "pdf=df2.toPandas()\n",
    "pdf.sort_values(by=['station'],inplace=True)\n",
    "pdf.head(2)\n",
    "_avg='avg(%s)'%feature\n",
    "_min=pdf[_avg].min()\n",
    "_max=pdf[_avg].max()\n",
    "_min,_max"
   ]
  },
  {
   "cell_type": "code",
   "execution_count": 13,
   "metadata": {},
   "outputs": [
    {
     "data": {
      "application/vnd.jupyter.widget-view+json": {
       "model_id": "1a48e5620b054f268a2b2dca49249b2a"
      }
     },
     "metadata": {},
     "output_type": "display_data"
    }
   ],
   "source": [
    "center = [(min_lat+max_lat)/2, (min_long+max_long)/2]\n",
    "zoom = 6\n",
    "\n",
    "m = Map(default_tiles=TileLayer(opacity=1.0), center=center, zoom=zoom)\n",
    "\n",
    "r = Rectangle(bounds=[[min_lat,min_long],[max_lat,max_long]], weight=3, fill_opacity=0.0)\n",
    "m += r\n",
    "\n",
    "lat_margin=(max_lat-min_lat)/4\n",
    "long_margin=(max_long-min_long)/4 \n",
    "circles = []\n",
    "for index,row in pdf.iterrows():\n",
    "    _lat=row['latitude']\n",
    "    _long=row['longitude']\n",
    "    _count=row['count(station)']\n",
    "    _coef=row[_avg]\n",
    "    # taking sqrt of count so that the  area of the circle corresponds to the count\n",
    "    c = Circle(location=(_lat,_long), radius=int(1500*np.sqrt(_count+0.0)), weight=1,\n",
    "            color='#000', opacity=0.8, fill_opacity=0.4,\n",
    "            fill_color=get_color(_coef))\n",
    "    circles.append(c)\n",
    "    m.add_layer(c)\n",
    "m"
   ]
  },
  {
   "cell_type": "code",
   "execution_count": 14,
   "metadata": {},
   "outputs": [
    {
     "data": {
      "image/png": "[encoded data removed]",
      "text/plain": [
       "<matplotlib.figure.Figure at 0xbcb1780>"
      ]
     },
     "metadata": {},
     "output_type": "display_data"
    }
   ],
   "source": [
    "%matplotlib inline\n",
    "pdf.plot.scatter(x='elevation',y='avg(res_1)');"
   ]
  },
  {
   "cell_type": "code",
   "execution_count": 12,
   "metadata": {},
   "outputs": [
    {
     "name": "stdout",
     "output_type": "stream",
     "text": [
      "['eigen-vecs', 'stations']\n"
     ]
    },
    {
     "data": {
      "text/html": [
       "<div>\n",
       "<table border=\"1\" class=\"dataframe\">\n",
       "  <thead>\n",
       "    <tr style=\"text-align: right;\">\n",
       "      <th></th>\n",
       "      <th>latitude</th>\n",
       "      <th>longitude</th>\n",
       "      <th>elevation</th>\n",
       "      <th>state</th>\n",
       "      <th>name</th>\n",
       "      <th>GSNFLAG</th>\n",
       "      <th>HCNFLAG</th>\n",
       "      <th>WMOID</th>\n",
       "    </tr>\n",
       "  </thead>\n",
       "  <tbody>\n",
       "    <tr>\n",
       "      <th>ACW00011604</th>\n",
       "      <td>17.1167</td>\n",
       "      <td>-61.7833</td>\n",
       "      <td>10.1</td>\n",
       "      <td>NaN</td>\n",
       "      <td>ST JOHNS COOLIDGE FLD</td>\n",
       "      <td>NaN</td>\n",
       "      <td>NaN</td>\n",
       "      <td>NaN</td>\n",
       "    </tr>\n",
       "    <tr>\n",
       "      <th>ACW00011647</th>\n",
       "      <td>17.1333</td>\n",
       "      <td>-61.7833</td>\n",
       "      <td>19.2</td>\n",
       "      <td>NaN</td>\n",
       "      <td>ST JOHNS</td>\n",
       "      <td>NaN</td>\n",
       "      <td>NaN</td>\n",
       "      <td>NaN</td>\n",
       "    </tr>\n",
       "    <tr>\n",
       "      <th>AE000041196</th>\n",
       "      <td>25.3330</td>\n",
       "      <td>55.5170</td>\n",
       "      <td>34.0</td>\n",
       "      <td>NaN</td>\n",
       "      <td>SHARJAH INTER. AIRP</td>\n",
       "      <td>GSN</td>\n",
       "      <td>NaN</td>\n",
       "      <td>41196.0</td>\n",
       "    </tr>\n",
       "    <tr>\n",
       "      <th>AF000040930</th>\n",
       "      <td>35.3170</td>\n",
       "      <td>69.0170</td>\n",
       "      <td>3366.0</td>\n",
       "      <td>NaN</td>\n",
       "      <td>NORTH-SALANG</td>\n",
       "      <td>GSN</td>\n",
       "      <td>NaN</td>\n",
       "      <td>40930.0</td>\n",
       "    </tr>\n",
       "    <tr>\n",
       "      <th>AG000060390</th>\n",
       "      <td>36.7167</td>\n",
       "      <td>3.2500</td>\n",
       "      <td>24.0</td>\n",
       "      <td>NaN</td>\n",
       "      <td>ALGER-DAR EL BEIDA</td>\n",
       "      <td>GSN</td>\n",
       "      <td>NaN</td>\n",
       "      <td>60390.0</td>\n",
       "    </tr>\n",
       "  </tbody>\n",
       "</table>\n",
       "</div>"
      ],
      "text/plain": [
       "             latitude  longitude  elevation state                   name  \\\n",
       "ACW00011604   17.1167   -61.7833       10.1   NaN  ST JOHNS COOLIDGE FLD   \n",
       "ACW00011647   17.1333   -61.7833       19.2   NaN               ST JOHNS   \n",
       "AE000041196   25.3330    55.5170       34.0   NaN    SHARJAH INTER. AIRP   \n",
       "AF000040930   35.3170    69.0170     3366.0   NaN           NORTH-SALANG   \n",
       "AG000060390   36.7167     3.2500       24.0   NaN     ALGER-DAR EL BEIDA   \n",
       "\n",
       "            GSNFLAG HCNFLAG    WMOID  \n",
       "ACW00011604     NaN     NaN      NaN  \n",
       "ACW00011647     NaN     NaN      NaN  \n",
       "AE000041196     GSN     NaN  41196.0  \n",
       "AF000040930     GSN     NaN  40930.0  \n",
       "AG000060390     GSN     NaN  60390.0  "
      ]
     },
     "execution_count": 12,
     "metadata": {},
     "output_type": "execute_result"
    }
   ],
   "source": [
    "data_dir = \"../../Data/Weather/\"\n",
    "from pickle import load\n",
    "with open(data_dir+'/PRCP_residuals_PCA.pickle','rb') as file:\n",
    "    Res_eig=load(file)\n",
    "print Res_eig.keys()\n",
    "\n",
    "#stations.pkl\n",
    "with open(data_dir+'/stations.pkl','rb') as file:\n",
    "    Stations=load(file)\n",
    "Stations.head()"
   ]
  },
  {
   "cell_type": "code",
   "execution_count": 13,
   "metadata": {},
   "outputs": [
    {
     "data": {
      "text/html": [
       "<div>\n",
       "<table border=\"1\" class=\"dataframe\">\n",
       "  <thead>\n",
       "    <tr style=\"text-align: right;\">\n",
       "      <th></th>\n",
       "      <th>0</th>\n",
       "      <th>1</th>\n",
       "      <th>2</th>\n",
       "      <th>3</th>\n",
       "      <th>4</th>\n",
       "      <th>5</th>\n",
       "      <th>6</th>\n",
       "      <th>7</th>\n",
       "      <th>8</th>\n",
       "      <th>9</th>\n",
       "    </tr>\n",
       "  </thead>\n",
       "  <tbody>\n",
       "    <tr>\n",
       "      <th>0</th>\n",
       "      <td>-0.002153</td>\n",
       "      <td>-0.182283</td>\n",
       "      <td>-0.031488</td>\n",
       "      <td>-0.057910</td>\n",
       "      <td>0.084560</td>\n",
       "      <td>0.019507</td>\n",
       "      <td>0.072150</td>\n",
       "      <td>0.158679</td>\n",
       "      <td>0.061428</td>\n",
       "      <td>0.014814</td>\n",
       "    </tr>\n",
       "    <tr>\n",
       "      <th>1</th>\n",
       "      <td>-0.004001</td>\n",
       "      <td>-0.165204</td>\n",
       "      <td>-0.052665</td>\n",
       "      <td>-0.042697</td>\n",
       "      <td>0.057246</td>\n",
       "      <td>0.015390</td>\n",
       "      <td>0.072553</td>\n",
       "      <td>0.164065</td>\n",
       "      <td>0.047494</td>\n",
       "      <td>0.051487</td>\n",
       "    </tr>\n",
       "    <tr>\n",
       "      <th>2</th>\n",
       "      <td>-0.000222</td>\n",
       "      <td>-0.218895</td>\n",
       "      <td>-0.067369</td>\n",
       "      <td>0.053234</td>\n",
       "      <td>0.056157</td>\n",
       "      <td>-0.011845</td>\n",
       "      <td>-0.150262</td>\n",
       "      <td>-0.140076</td>\n",
       "      <td>-0.059782</td>\n",
       "      <td>-0.096465</td>\n",
       "    </tr>\n",
       "    <tr>\n",
       "      <th>3</th>\n",
       "      <td>-0.006350</td>\n",
       "      <td>-0.154621</td>\n",
       "      <td>-0.076194</td>\n",
       "      <td>0.102126</td>\n",
       "      <td>0.034991</td>\n",
       "      <td>-0.006969</td>\n",
       "      <td>-0.176686</td>\n",
       "      <td>-0.267010</td>\n",
       "      <td>-0.202524</td>\n",
       "      <td>0.122716</td>\n",
       "    </tr>\n",
       "    <tr>\n",
       "      <th>4</th>\n",
       "      <td>-0.018138</td>\n",
       "      <td>-0.181790</td>\n",
       "      <td>-0.110199</td>\n",
       "      <td>0.060141</td>\n",
       "      <td>-0.000309</td>\n",
       "      <td>-0.022727</td>\n",
       "      <td>-0.123299</td>\n",
       "      <td>-0.041521</td>\n",
       "      <td>0.046309</td>\n",
       "      <td>-0.341047</td>\n",
       "    </tr>\n",
       "  </tbody>\n",
       "</table>\n",
       "</div>"
      ],
      "text/plain": [
       "          0         1         2         3         4         5         6  \\\n",
       "0 -0.002153 -0.182283 -0.031488 -0.057910  0.084560  0.019507  0.072150   \n",
       "1 -0.004001 -0.165204 -0.052665 -0.042697  0.057246  0.015390  0.072553   \n",
       "2 -0.000222 -0.218895 -0.067369  0.053234  0.056157 -0.011845 -0.150262   \n",
       "3 -0.006350 -0.154621 -0.076194  0.102126  0.034991 -0.006969 -0.176686   \n",
       "4 -0.018138 -0.181790 -0.110199  0.060141 -0.000309 -0.022727 -0.123299   \n",
       "\n",
       "          7         8         9  \n",
       "0  0.158679  0.061428  0.014814  \n",
       "1  0.164065  0.047494  0.051487  \n",
       "2 -0.140076 -0.059782 -0.096465  \n",
       "3 -0.267010 -0.202524  0.122716  \n",
       "4 -0.041521  0.046309 -0.341047  "
      ]
     },
     "execution_count": 13,
     "metadata": {},
     "output_type": "execute_result"
    }
   ],
   "source": [
    "Eig=pd.DataFrame(Res_eig['eigen-vecs'].transpose())\n",
    "Eig.head()"
   ]
  },
  {
   "cell_type": "code",
   "execution_count": 14,
   "metadata": {},
   "outputs": [
    {
     "name": "stdout",
     "output_type": "stream",
     "text": [
      "[u'USC00488209', u'USC00488830', u'USC00488889', u'USC00480228', u'USS0009F27S']\n"
     ]
    },
    {
     "data": {
      "text/html": [
       "<div>\n",
       "<table border=\"1\" class=\"dataframe\">\n",
       "  <thead>\n",
       "    <tr style=\"text-align: right;\">\n",
       "      <th></th>\n",
       "      <th>0</th>\n",
       "      <th>1</th>\n",
       "      <th>2</th>\n",
       "      <th>3</th>\n",
       "      <th>4</th>\n",
       "      <th>5</th>\n",
       "      <th>6</th>\n",
       "      <th>7</th>\n",
       "      <th>8</th>\n",
       "      <th>9</th>\n",
       "    </tr>\n",
       "    <tr>\n",
       "      <th>station</th>\n",
       "      <th></th>\n",
       "      <th></th>\n",
       "      <th></th>\n",
       "      <th></th>\n",
       "      <th></th>\n",
       "      <th></th>\n",
       "      <th></th>\n",
       "      <th></th>\n",
       "      <th></th>\n",
       "      <th></th>\n",
       "    </tr>\n",
       "  </thead>\n",
       "  <tbody>\n",
       "    <tr>\n",
       "      <th>USC00488209</th>\n",
       "      <td>-0.002153</td>\n",
       "      <td>-0.182283</td>\n",
       "      <td>-0.031488</td>\n",
       "      <td>-0.057910</td>\n",
       "      <td>0.084560</td>\n",
       "      <td>0.019507</td>\n",
       "      <td>0.072150</td>\n",
       "      <td>0.158679</td>\n",
       "      <td>0.061428</td>\n",
       "      <td>0.014814</td>\n",
       "    </tr>\n",
       "    <tr>\n",
       "      <th>USC00488830</th>\n",
       "      <td>-0.004001</td>\n",
       "      <td>-0.165204</td>\n",
       "      <td>-0.052665</td>\n",
       "      <td>-0.042697</td>\n",
       "      <td>0.057246</td>\n",
       "      <td>0.015390</td>\n",
       "      <td>0.072553</td>\n",
       "      <td>0.164065</td>\n",
       "      <td>0.047494</td>\n",
       "      <td>0.051487</td>\n",
       "    </tr>\n",
       "    <tr>\n",
       "      <th>USC00488889</th>\n",
       "      <td>-0.000222</td>\n",
       "      <td>-0.218895</td>\n",
       "      <td>-0.067369</td>\n",
       "      <td>0.053234</td>\n",
       "      <td>0.056157</td>\n",
       "      <td>-0.011845</td>\n",
       "      <td>-0.150262</td>\n",
       "      <td>-0.140076</td>\n",
       "      <td>-0.059782</td>\n",
       "      <td>-0.096465</td>\n",
       "    </tr>\n",
       "    <tr>\n",
       "      <th>USC00480228</th>\n",
       "      <td>-0.006350</td>\n",
       "      <td>-0.154621</td>\n",
       "      <td>-0.076194</td>\n",
       "      <td>0.102126</td>\n",
       "      <td>0.034991</td>\n",
       "      <td>-0.006969</td>\n",
       "      <td>-0.176686</td>\n",
       "      <td>-0.267010</td>\n",
       "      <td>-0.202524</td>\n",
       "      <td>0.122716</td>\n",
       "    </tr>\n",
       "    <tr>\n",
       "      <th>USS0009F27S</th>\n",
       "      <td>-0.018138</td>\n",
       "      <td>-0.181790</td>\n",
       "      <td>-0.110199</td>\n",
       "      <td>0.060141</td>\n",
       "      <td>-0.000309</td>\n",
       "      <td>-0.022727</td>\n",
       "      <td>-0.123299</td>\n",
       "      <td>-0.041521</td>\n",
       "      <td>0.046309</td>\n",
       "      <td>-0.341047</td>\n",
       "    </tr>\n",
       "  </tbody>\n",
       "</table>\n",
       "</div>"
      ],
      "text/plain": [
       "                    0         1         2         3         4         5  \\\n",
       "station                                                                   \n",
       "USC00488209 -0.002153 -0.182283 -0.031488 -0.057910  0.084560  0.019507   \n",
       "USC00488830 -0.004001 -0.165204 -0.052665 -0.042697  0.057246  0.015390   \n",
       "USC00488889 -0.000222 -0.218895 -0.067369  0.053234  0.056157 -0.011845   \n",
       "USC00480228 -0.006350 -0.154621 -0.076194  0.102126  0.034991 -0.006969   \n",
       "USS0009F27S -0.018138 -0.181790 -0.110199  0.060141 -0.000309 -0.022727   \n",
       "\n",
       "                    6         7         8         9  \n",
       "station                                              \n",
       "USC00488209  0.072150  0.158679  0.061428  0.014814  \n",
       "USC00488830  0.072553  0.164065  0.047494  0.051487  \n",
       "USC00488889 -0.150262 -0.140076 -0.059782 -0.096465  \n",
       "USC00480228 -0.176686 -0.267010 -0.202524  0.122716  \n",
       "USS0009F27S -0.123299 -0.041521  0.046309 -0.341047  "
      ]
     },
     "execution_count": 14,
     "metadata": {},
     "output_type": "execute_result"
    }
   ],
   "source": [
    "Eig['station']=Res_eig['stations']\n",
    "Eig=Eig.set_index('station')\n",
    "print Res_eig['stations'][:5]\n",
    "Eig.head()"
   ]
  },
  {
   "cell_type": "code",
   "execution_count": 15,
   "metadata": {
    "collapsed": true
   },
   "outputs": [],
   "source": [
    "table=Eig.join(Stations,how='left')"
   ]
  },
  {
   "cell_type": "code",
   "execution_count": 16,
   "metadata": {},
   "outputs": [
    {
     "data": {
      "text/html": [
       "<div>\n",
       "<table border=\"1\" class=\"dataframe\">\n",
       "  <thead>\n",
       "    <tr style=\"text-align: right;\">\n",
       "      <th></th>\n",
       "      <th>name</th>\n",
       "      <th>latitude</th>\n",
       "      <th>longitude</th>\n",
       "      <th>elevation</th>\n",
       "      <th>0</th>\n",
       "      <th>1</th>\n",
       "      <th>2</th>\n",
       "      <th>3</th>\n",
       "    </tr>\n",
       "    <tr>\n",
       "      <th>station</th>\n",
       "      <th></th>\n",
       "      <th></th>\n",
       "      <th></th>\n",
       "      <th></th>\n",
       "      <th></th>\n",
       "      <th></th>\n",
       "      <th></th>\n",
       "      <th></th>\n",
       "    </tr>\n",
       "  </thead>\n",
       "  <tbody>\n",
       "    <tr>\n",
       "      <th>USC00488209</th>\n",
       "      <td>SHOSHONI</td>\n",
       "      <td>43.2372</td>\n",
       "      <td>-108.1097</td>\n",
       "      <td>1474.3</td>\n",
       "      <td>-0.002153</td>\n",
       "      <td>-0.182283</td>\n",
       "      <td>-0.031488</td>\n",
       "      <td>-0.057910</td>\n",
       "    </tr>\n",
       "    <tr>\n",
       "      <th>USC00488830</th>\n",
       "      <td>TECKLA 3 E</td>\n",
       "      <td>43.5833</td>\n",
       "      <td>-105.2833</td>\n",
       "      <td>1457.9</td>\n",
       "      <td>-0.004001</td>\n",
       "      <td>-0.165204</td>\n",
       "      <td>-0.052665</td>\n",
       "      <td>-0.042697</td>\n",
       "    </tr>\n",
       "    <tr>\n",
       "      <th>USC00488889</th>\n",
       "      <td>THERMOPOLIS 27 WNW</td>\n",
       "      <td>43.7167</td>\n",
       "      <td>-108.7500</td>\n",
       "      <td>1795.9</td>\n",
       "      <td>-0.000222</td>\n",
       "      <td>-0.218895</td>\n",
       "      <td>-0.067369</td>\n",
       "      <td>0.053234</td>\n",
       "    </tr>\n",
       "    <tr>\n",
       "      <th>USC00480228</th>\n",
       "      <td>ANCHOR DAM</td>\n",
       "      <td>43.6667</td>\n",
       "      <td>-108.8333</td>\n",
       "      <td>1969.9</td>\n",
       "      <td>-0.006350</td>\n",
       "      <td>-0.154621</td>\n",
       "      <td>-0.076194</td>\n",
       "      <td>0.102126</td>\n",
       "    </tr>\n",
       "  </tbody>\n",
       "</table>\n",
       "</div>"
      ],
      "text/plain": [
       "                           name  latitude  longitude  elevation         0  \\\n",
       "station                                                                     \n",
       "USC00488209            SHOSHONI   43.2372  -108.1097     1474.3 -0.002153   \n",
       "USC00488830          TECKLA 3 E   43.5833  -105.2833     1457.9 -0.004001   \n",
       "USC00488889  THERMOPOLIS 27 WNW   43.7167  -108.7500     1795.9 -0.000222   \n",
       "USC00480228          ANCHOR DAM   43.6667  -108.8333     1969.9 -0.006350   \n",
       "\n",
       "                    1         2         3  \n",
       "station                                    \n",
       "USC00488209 -0.182283 -0.031488 -0.057910  \n",
       "USC00488830 -0.165204 -0.052665 -0.042697  \n",
       "USC00488889 -0.218895 -0.067369  0.053234  \n",
       "USC00480228 -0.154621 -0.076194  0.102126  "
      ]
     },
     "execution_count": 16,
     "metadata": {},
     "output_type": "execute_result"
    }
   ],
   "source": [
    "table=table[['name','latitude','longitude','elevation',0,1,2,3]]\n",
    "table.head(4)"
   ]
  },
  {
   "cell_type": "code",
   "execution_count": 17,
   "metadata": {
    "collapsed": true
   },
   "outputs": [],
   "source": [
    "import pylab as plt\n",
    "prop_cycle = plt.rcParams['axes.prop_cycle']\n",
    "colors = prop_cycle.by_key()['color']"
   ]
  },
  {
   "cell_type": "code",
   "execution_count": 19,
   "metadata": {},
   "outputs": [
    {
     "data": {
      "application/vnd.jupyter.widget-view+json": {
       "model_id": "4722cea9e9da4f9c83d4f9a2f03d6eea"
      }
     },
     "metadata": {},
     "output_type": "display_data"
    }
   ],
   "source": [
    "min_lat,max_lat,min_long,max_long = box = (42.1103, 42.6167, -72.6, -70.8)\n",
    "center = [(min_lat+max_lat)/2, (min_long+max_long)/2]\n",
    "zoom = 9\n",
    "m = Map(default_tiles=TileLayer(opacity=0.6), center=center, zoom=zoom)\n",
    "r = Rectangle(bounds=[[min_lat,min_long],[max_lat,max_long]], weight=5, fill_opacity=0.0)\n",
    "m += r\n",
    "\n",
    "lat_margin=(max_lat-min_lat)/4\n",
    "long_margin=(max_long-min_long)/4\n",
    "for index,row in table.iterrows():\n",
    "    _lat=row['latitude']\n",
    "    _long=row['longitude']\n",
    "    for col in range(4):\n",
    "        _coef=row[col]\n",
    "        if np.isnan(_coef):\n",
    "            continue\n",
    "        r=abs(_coef)/5\n",
    "        #print r\n",
    "        color=colors[col]\n",
    "        signs=[[+1,+1],[+1,-1],[-1,-1],[-1,+1]]\n",
    "        lat_sign,long_sign=signs[col]\n",
    "        triangle=[(_lat,_long),(_lat+lat_sign*r,_long),(_lat,_long+long_sign*r),(_lat,_long)]\n",
    "        if _coef<0:\n",
    "            poly= Polygon(locations=triangle, weight=0,\n",
    "                    color=color, opacity=0, fill_opacity=0.7,\n",
    "                    fill_color=color)\n",
    "        else:\n",
    "            poly= Polygon(locations=triangle, weight=2,\n",
    "                    color=color, opacity=0.8, fill_opacity=0,\n",
    "                    fill_color=color)\n",
    "        m +=poly\n",
    "m"
   ]
  },
  {
   "cell_type": "code",
   "execution_count": null,
   "metadata": {
    "collapsed": true
   },
   "outputs": [],
   "source": [
    "%matplotlib inline\n",
    "pdf.plot.scatter(x='elevation',y='avg(coeff_1)');"
   ]
  },
  {
   "cell_type": "code",
   "execution_count": null,
   "metadata": {
    "collapsed": true
   },
   "outputs": [],
   "source": []
  },
  {
   "cell_type": "code",
   "execution_count": null,
   "metadata": {
    "collapsed": true
   },
   "outputs": [],
   "source": [
    "#sc.stop()"
   ]
  },
  {
   "cell_type": "code",
   "execution_count": null,
   "metadata": {
    "collapsed": true
   },
   "outputs": [],
   "source": []
  },
  {
   "cell_type": "code",
   "execution_count": null,
   "metadata": {
    "collapsed": true
   },
   "outputs": [],
   "source": []
  }
 ],
 "metadata": {
  "kernelspec": {
   "display_name": "Python 2",
   "language": "python",
   "name": "python2"
  },
  "language_info": {
   "codemirror_mode": {
    "name": "ipython",
    "version": 2
   },
   "file_extension": ".py",
   "mimetype": "text/x-python",
   "name": "python",
   "nbconvert_exporter": "python",
   "pygments_lexer": "ipython2",
   "version": "2.7.13"
  },
  "toc": {
   "colors": {
    "hover_highlight": "#DAA520",
    "running_highlight": "#FF0000",
    "selected_highlight": "#FFD700"
   },
   "moveMenuLeft": true,
   "nav_menu": {
    "height": "12px",
    "width": "252px"
   },
   "navigate_menu": true,
   "number_sections": true,
   "sideBar": true,
   "threshold": "6",
   "toc_cell": false,
   "toc_section_display": "block",
   "toc_window_display": false,
   "widenNotebook": false
  }
 },
 "nbformat": 4,
 "nbformat_minor": 2
}
