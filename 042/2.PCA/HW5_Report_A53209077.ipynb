{
 "cells": [
  {
   "cell_type": "code",
   "execution_count": 11,
   "metadata": {
    "collapsed": false,
    "run_control": {
     "frozen": false,
     "read_only": false
    },
    "scrolled": false
   },
   "outputs": [
    {
     "name": "stdout",
     "output_type": "stream",
     "text": [
      "![Climate_Jackson_Wyoming_and_Weather_averages_Wyoming.jpg](figs/Climate_Jackson_Wyoming_and_Weather_averages_Wyoming.jpg)\n",
      "![PRCP_mean_std.png](figs/PRCP_mean_std.png)\n",
      "![SNOW_SNWD_PRCP_eigen.png](figs/SNOW_SNWD_PRCP_eigen.png)\n",
      "![SNOW_SNWD_PRCP_mean_std.png](figs/SNOW_SNWD_PRCP_mean_std.png)\n",
      "![SNOW_SNWD_PRCP_valid.png](figs/SNOW_SNWD_PRCP_valid.png)\n",
      "![SNOW_SNWD_PRCP_varexp.png](figs/SNOW_SNWD_PRCP_varexp.png)\n",
      "![SNWD_coeff_1_CDF.png](figs/SNWD_coeff_1_CDF.png)\n",
      "![SNWD_coeff_2_CDF.png](figs/SNWD_coeff_2_CDF.png)\n",
      "![SNWD_coeff_3_CDF.png](figs/SNWD_coeff_3_CDF.png)\n",
      "![SNWD_eigs.png](figs/SNWD_eigs.png)\n",
      "![SNWD_mean.png](figs/SNWD_mean.png)\n",
      "![SNWD_prob_distr.png](figs/SNWD_prob_distr.png)\n",
      "![SNWD_prob_distr_mat.png](figs/SNWD_prob_distr_mat.png)\n",
      "![SNWD_prob_distr_mats.png](figs/SNWD_prob_distr_mats.png)\n",
      "![SNWD_recon_coeff_1_asc.png](figs/SNWD_recon_coeff_1_asc.png)\n",
      "![SNWD_recon_coeff_1_desc.png](figs/SNWD_recon_coeff_1_desc.png)\n",
      "![SNWD_recon_coeff_2_asc.png](figs/SNWD_recon_coeff_2_asc.png)\n",
      "![SNWD_recon_coeff_2_desc.png](figs/SNWD_recon_coeff_2_desc.png)\n",
      "![SNWD_recon_res_1_asc.png](figs/SNWD_recon_res_1_asc.png)\n",
      "![SNWD_recon_res_1_desc.png](figs/SNWD_recon_res_1_desc.png)\n",
      "![SNWD_recon_res_2_asc.png](figs/SNWD_recon_res_2_asc.png)\n",
      "![SNWD_recon_res_2_desc.png](figs/SNWD_recon_res_2_desc.png)\n",
      "![SNWD_recon_res_3_asc.png](figs/SNWD_recon_res_3_asc.png)\n",
      "![SNWD_recon_res_3_desc.png](figs/SNWD_recon_res_3_desc.png)\n",
      "![SNWD_res_1_CDF.png](figs/SNWD_res_1_CDF.png)\n",
      "![SNWD_res_2_CDF.png](figs/SNWD_res_2_CDF.png)\n",
      "![SNWD_res_3_CDF.png](figs/SNWD_res_3_CDF.png)\n",
      "![SNWD_station_0_8.png](figs/SNWD_station_0_8.png)\n",
      "![SNWD_station_16_22.png](figs/SNWD_station_16_22.png)\n",
      "![TMIN_TMAX_TOBS_eigen.png](figs/TMIN_TMAX_TOBS_eigen.png)\n",
      "![TMIN_TMAX_TOBS_mean_std.png](figs/TMIN_TMAX_TOBS_mean_std.png)\n",
      "![TMIN_TMAX_TOBS_valid.png](figs/TMIN_TMAX_TOBS_valid.png)\n",
      "![TMIN_TMAX_TOBS_varexp.png](figs/TMIN_TMAX_TOBS_varexp.png)\n",
      "![wyoming_coeff1.png](figs/wyoming_coeff1.png)\n",
      "![wyoming_res1.png](figs/wyoming_res1.png)\n",
      "![wyoming_station.png](figs/wyoming_station.png)\n"
     ]
    }
   ],
   "source": [
    "L=!ls figs/\n",
    "for l in L:\n",
    "    print \"![%s](figs/%s)\"%(l,l)"
   ]
  },
  {
   "cell_type": "markdown",
   "metadata": {},
   "source": [
    "Name: Run Yu\n",
    "\n",
    "PID: A53209077"
   ]
  },
  {
   "cell_type": "markdown",
   "metadata": {
    "run_control": {
     "frozen": false,
     "read_only": false
    }
   },
   "source": [
    "# Wyoming Weather Analysis\n",
    "\n",
    "The historical analysis of weather patterns in an area that approximately overlaps the center part of Wyoming.\n",
    "\n",
    "Data is fetched from [NOAA](https://www.ncdc.noaa.gov/). Specifically, it was downloaded from [FTP site](ftp://ftp.ncdc.noaa.gov/pub/data/ghcn/daily/).\n",
    "\n",
    "This report focuses on the following six measurements:\n",
    "* **TMIN:** Daily minimum temperature.(tenths of degrees C)\n",
    "* **TMAX:** Daily maximum temperature.(tenths of degrees C)\n",
    "* **TOBS:** Daily obeserved temperature.(tenths of degrees C)\n",
    "* **PRCP:** Daily Percipitation. (tenths of mm)\n",
    "* **SNOW:** Snowfall. (in mm)\n",
    "* **SNWD:** Depth of snow. (in mm)\n",
    "\n",
    "## Sanity-check: comparison with outside sources\n",
    "\n",
    "<p>We start by find the location of our dataset. After construct the map shows the distribution of the stations, we find that the stations mainly locates around the city of Jackson in Woyming.</p>\n",
    "\n",
    "<p><img alt=\"wyoming_station.png\" src=\"figs/wyoming_station.png\" /></p>\n",
    "\n",
    "<p>comparing some published statistics. We fetched the graph from <a href=\"http://www.usclimatedata.com/climate/jackson/wyoming/united-states/uswy0088\" target=\"_blank\">US Climate Data</a>. The graph below shows the daily minimum and maximum temperatures for each month, as well as the total precipitation for each month.</p>\n",
    "\n",
    "<p>&nbsp;</p>\n",
    "\n",
    "<p><img alt=\"Climate_Jackson_Wyoming_and_Weather_averages_Wyoming.jpg\" src=\"figs/Climate_Jackson_Wyoming_and_Weather_averages_Wyoming.jpg\" /></p>\n",
    "\n",
    "<p>&nbsp;</p>\n",
    "\n",
    "<p>The min and max daily&nbsp;temperature agree with the ones we got from our data, once we translate Fahrenheit to Centigrade.</p>\n",
    "\n",
    "<p>&nbsp;</p>\n",
    "\n",
    "<p><img alt=\"TMIN_TMAX_TOBS_mean_std.png\" src=\"figs/TMIN_TMAX_TOBS_mean_std.png\" style=\"height:300px; width:1400px\" /></p>\n",
    "\n",
    "<p>According to our analysis the average rainfall is 1.05 mm/day which translates to about 15.12 inch/year. The US-Climate-Data shows that the average rainfall is close to 16.86 inch/year. It is clear that our data is consistent with the published data.</p>\n",
    "\n",
    "<p>&nbsp;<img alt=\"PRCP_mean_std.png\" src=\"figs/PRCP_mean_std.png\" style=\"height:300px; width:400px\" /></p>\n",
    "\n",
    "The average rainfall is 4.30 mm/day in our analysis which translates to about 61.78 inch/year. The US-Climate-Data shows that the average rainfall is close to 67 inch/year. Moerover, the peak of the rainfall is both at the May. Again, our data is proved to be consistent with that online.</p>\n"
   ]
  },
  {
   "cell_type": "markdown",
   "metadata": {
    "run_control": {
     "frozen": false,
     "read_only": false
    }
   },
   "source": [
    "## PCA analysis\n",
    "\n",
    "### Top eigen vectors.\n",
    "For each of the six measurement, we first compute the top 3 eigen vectors as a function of days in a year.\n",
    "\n",
    "![TMIN_TMAX_TOBS_eigen.png](figs/TMIN_TMAX_TOBS_eigen.png)\n",
    "\n",
    "![SNOW_SNWD_PRCP_eigen.png](figs/SNOW_SNWD_PRCP_eigen.png)\n",
    "\n",
    "We also compute the percentate of the variance explained as a function of the number of eigen-vectors used.\n",
    "\n",
    "### Percentage of variance explained.\n",
    "![TMIN_TMAX_TOBS_varexp.png](figs/TMIN_TMAX_TOBS_varexp.png)\n",
    "\n",
    "From these graphs, we can clearly see that the the first eigen vector explained the most of the variance. The latter eigen vectors explain less and less for the variance. \n",
    "\n",
    "We see that the top 5 eigen-vectors explain 32% of variance for TMIN, 39% for TMAX and 52% for TOBS. This suggest us that our eigen vectors are fairly representative.\n",
    "\n",
    "We can conclude that of the three, TOBS is best explained by the top 5 eigenvectors. This is especially true for the first eigen vector which explains 47% of the variance.\n",
    "\n",
    "![SNOW_SNWD_PRCP_varexp.png](figs/SNOW_SNWD_PRCP_varexp.png)\n",
    "\n",
    "The top 5 eigenvectors explain 10% of the variance for PRCP and 13% for SNOW. Both are low values. However, the top 5 eigenvectors explain nearly %98 of the variance for SNWD. This means that these top 5 eigenvectors capture most of the variation in the snow signals. Based on that we will dig deeper into the PCA analysis for snow-depth.\n",
    "\n",
    "It makes sense that SNWD is less noisy than SNOW. Because snow is slow to melt therefore varies less between days. However, snowfall can be quite different between day and day."
   ]
  },
  {
   "cell_type": "markdown",
   "metadata": {
    "run_control": {
     "frozen": false,
     "read_only": false
    }
   },
   "source": [
    "## Analysis of snow depth\n",
    "\n",
    "### Top eigen vectors\n",
    "We choose to analyze the eigen-decomposition for snow depth because the first 4 eigen vectors explain nearly all of the variance.\n",
    "\n",
    "First, we graph the mean and the top 4 eigen vectors.\n",
    "\n",
    "We observe that the snow season is from November to the middle of May, where the middle of March is the peak of the snow depth.\n",
    "![SNWD_mean.png](figs/SNWD_mean.png)\n",
    "![SNWD_eigs.png](figs/SNWD_eigs.png)"
   ]
  },
  {
   "cell_type": "markdown",
   "metadata": {
    "run_control": {
     "frozen": false,
     "read_only": false
    }
   },
   "source": [
    "Next we interpret the eigen-functions. The first eigen function (eig1) has a shape very similar to the mean function. This suggest that the direction of mean vector contains most of the variance, which further suggests that most of the data follows the trend of the mean.\n",
    "\n",
    "**eig2,eig3 and eig4** are similar in the following way. They all oscilate between positive and negative values. In other words, they correspond to changing the distribution of the snow depth over the winter months, but they don't change the total (much). They may also represent some common patterns of snow depth over a year.\n",
    "\n",
    "They can be interpreted as follows:\n",
    "* **eig2:** Less snow in Jan to mid Mar, more snow in Apr to May.\n",
    "* **eig3:** More snow in Jan to mid Mar, less snow in Apr to May, which shows inverse pattern as the second eigen vector.\n",
    "* **eig4:** More snow in Dec and Mar to Apr, less in other months.\n"
   ]
  },
  {
   "cell_type": "markdown",
   "metadata": {
    "run_control": {
     "frozen": false,
     "read_only": false
    }
   },
   "source": [
    "### Reconstructions\n",
    "\n",
    "#### Residual1\n",
    "Most pisitive:\n",
    "![SNWD_recon_res_1_desc.png](figs/SNWD_recon_res_1_desc.png)\n",
    "Most negative:\n",
    "![SNWD_recon_res_1_asc.png](figs/SNWD_recon_res_1_asc.png)\n",
    "Less positive values of residual1 means the first eigen vector contains more variance.\n",
    "\n",
    "#### Residual2\n",
    "Most pisitive:\n",
    "![SNWD_recon_res_2_desc.png](figs/SNWD_recon_res_2_desc.png)\n",
    "Most negative:\n",
    "![SNWD_recon_res_2_asc.png](figs/SNWD_recon_res_2_asc.png)\n",
    "Less positive values of residual1 means the first and the second eigen vector contains more variance.\n",
    "\n",
    "#### Coeff1\n",
    "Most positive\n",
    "![SNWD_recon_coeff_1_desc.png](figs/SNWD_recon_coeff_1_desc.png)\n",
    "Most negative\n",
    "![SNWD_recon_coeff_1_asc.png](figs/SNWD_recon_coeff_1_asc.png)\n",
    "Large positive values of coeff1 correspond to more than average snow. Low values correspond to less than average snow.\n",
    "\n",
    "#### Coeff2\n",
    "Most positive\n",
    "![SNWD_recon_coeff_2_desc.png](figs/SNWD_recon_coeff_2_desc.png)\n",
    "Most negative\n",
    "![SNWD_recon_coeff_2_asc.png](figs/SNWD_recon_coeff_2_asc.png)\n",
    "Large positive values of coeff2 correspond to a late snow season. Negative values for coeff2 correspond to an early snow season.\n"
   ]
  },
  {
   "cell_type": "markdown",
   "metadata": {},
   "source": [
    "#### CDF of residuals\n",
    "![SNWD_res_1_CDF.png](figs/SNWD_res_1_CDF.png)\n",
    "It shows that the first residual of more than 60% of our instances is less than 0.4.\n",
    "![SNWD_res_2_CDF.png](figs/SNWD_res_2_CDF.png)\n",
    "The second residual of nearly 60% of our instances is less than 0.2.\n",
    "![SNWD_res_3_CDF.png](figs/SNWD_res_3_CDF.png)\n",
    "The third residual of more than 60% of our instances is less than 0.2.\n",
    "#### CDF of coefficients\n",
    "![SNWD_coeff_1_CDF.png](figs/SNWD_coeff_1_CDF.png)\n",
    "![SNWD_coeff_2_CDF.png](figs/SNWD_coeff_2_CDF.png)\n",
    "![SNWD_coeff_3_CDF.png](figs/SNWD_coeff_3_CDF.png)\n",
    "As the coefficient change from the first to the third, the value of the coefficient of more and more instances become smaller."
   ]
  },
  {
   "cell_type": "markdown",
   "metadata": {
    "run_control": {
     "frozen": false,
     "read_only": false
    }
   },
   "source": [
    "### Geographical distribution of coefficient\n",
    "\n",
    "#### The geographical distribution of the first coefficient\n",
    "![wyoming_coeff1.png](figs/wyoming_coeff1.png)\n",
    "\n",
    "#### The geographical distribution of the first residual\n",
    "![wyoming_res1.png](figs/wyoming_res1.png)"
   ]
  },
  {
   "cell_type": "markdown",
   "metadata": {
    "collapsed": true,
    "run_control": {
     "frozen": false,
     "read_only": false
    }
   },
   "source": [
    "### measuring statistical significance\n",
    "It is more reasonable to compare whether or not it snowed on the same day in different stations. We want to find reject the null hypothesis that the snowfall in the two locations is independent with statistical tests.\n",
    "\n",
    "We ignore the amount of rain, and just focus on whether it rained in both locations to reduce the effect of noise. We can compute the probability under the null hypothesis. In the first test, we checked each pair of stations and derived the probability distribution of the number of dependent stations.\n",
    "\n",
    "![SNWD_prob_distr.png](figs/SNWD_prob_distr.png)\n",
    "\n",
    "![SNWD_prob_distr_mat.png](figs/SNWD_prob_distr_mat.png)\n",
    "\n",
    "We can see that the first eight stations have some dependencies. And the stations around the 20th has some dependencies to the first several stations as well as themselves. So we show the first eight stations on the map.\n",
    "\n",
    "![SNWD_station_0_8.png](figs/SNWD_station_0_8.png)\n",
    "\n",
    "And the 16th to 22th stations on the map. We can see that they are quite close to each other, and their color shows that some of them have similar patterns for the snow depth.\n",
    "\n",
    "At last, we construct the correlation matrice reordered by several dimension of eigen vectors. The results shows that the reordering makes the dependencies more clear to us.  \n",
    "![SNWD_station_16_22.png](figs/SNWD_station_16_22.png)\n",
    "\n",
    "![SNWD_prob_distr_mats.png](figs/SNWD_prob_distr_mats.png)"
   ]
  }
 ],
 "metadata": {
  "anaconda-cloud": {},
  "kernelspec": {
   "display_name": "Python 2",
   "language": "python",
   "name": "python2"
  },
  "language_info": {
   "codemirror_mode": {
    "name": "ipython",
    "version": 2
   },
   "file_extension": ".py",
   "mimetype": "text/x-python",
   "name": "python",
   "nbconvert_exporter": "python",
   "pygments_lexer": "ipython2",
   "version": "2.7.13"
  },
  "toc": {
   "colors": {
    "hover_highlight": "#DAA520",
    "running_highlight": "#FF0000",
    "selected_highlight": "#FFD700"
   },
   "moveMenuLeft": true,
   "nav_menu": {
    "height": "12px",
    "width": "252px"
   },
   "navigate_menu": true,
   "number_sections": true,
   "sideBar": true,
   "threshold": 4,
   "toc_cell": false,
   "toc_section_display": "block",
   "toc_window_display": false,
   "widenNotebook": false
  }
 },
 "nbformat": 4,
 "nbformat_minor": 2
}
