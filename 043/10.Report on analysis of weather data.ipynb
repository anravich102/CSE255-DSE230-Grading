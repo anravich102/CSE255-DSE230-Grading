{
 "cells": [
  {
   "cell_type": "code",
   "execution_count": 2,
   "metadata": {
    "run_control": {
     "frozen": false,
     "read_only": false
    },
    "scrolled": false
   },
   "outputs": [
    {
     "name": "stdout",
     "output_type": "stream",
     "text": [
      "![Climate_Boston_-_Massachusetts_and_Weather_averages_Boston.jpg](r_figures/Climate_Boston_-_Massachusetts_and_Weather_averages_Boston.jpg)\n",
      "![PRCP.png](r_figures/PRCP.png)\n",
      "![SNOW.png](r_figures/SNOW.png)\n",
      "![SNWD.png](r_figures/SNWD.png)\n",
      "![SNWD_coeff_1_CDF.png](r_figures/SNWD_coeff_1_CDF.png)\n",
      "![SNWD_coeff_2_CDF.png](r_figures/SNWD_coeff_2_CDF.png)\n",
      "![SNWD_coeff_3_CDF.png](r_figures/SNWD_coeff_3_CDF.png)\n",
      "![SNWD_grid_Pos_coeff1.png](r_figures/SNWD_grid_Pos_coeff1.png)\n",
      "![SNWD_grid_Pos_coeff2.png](r_figures/SNWD_grid_Pos_coeff2.png)\n",
      "![SNWD_grid_Pos_coeff3.png](r_figures/SNWD_grid_Pos_coeff3.png)\n",
      "![SNWD_grid_neg_coeff1.png](r_figures/SNWD_grid_neg_coeff1.png)\n",
      "![SNWD_grid_neg_coeff2.png](r_figures/SNWD_grid_neg_coeff2.png)\n",
      "![SNWD_grid_neg_coeff3.png](r_figures/SNWD_grid_neg_coeff3.png)\n",
      "![SNWD_mean_eigs.png](r_figures/SNWD_mean_eigs.png)\n",
      "![SNWD_res_1_CDF.png](r_figures/SNWD_res_1_CDF.png)\n",
      "![SNWD_res_2_CDF.png](r_figures/SNWD_res_2_CDF.png)\n",
      "![SNWD_res_3_CDF.png](r_figures/SNWD_res_3_CDF.png)\n",
      "![TMIN,TMAX.png](r_figures/TMIN,TMAX.png)\n",
      "![TOBS.png](r_figures/TOBS.png)\n",
      "![VarExplained1.png](r_figures/VarExplained1.png)\n",
      "![VarExplained2.png](r_figures/VarExplained2.png)\n",
      "![percipitation.png](r_figures/percipitation.png)\n"
     ]
    }
   ],
   "source": [
    "L=!ls r_figures/\n",
    "for l in L:\n",
    "    print \"![%s](r_figures/%s)\"%(l,l)"
   ]
  },
  {
   "cell_type": "markdown",
   "metadata": {
    "run_control": {
     "frozen": false,
     "read_only": false
    }
   },
   "source": [
    "# Weather Analysis of Central New Mexico Area\n",
    "\n",
    "This is a report on the historical analysis of weather patterns in an area that approximately overlaps the area of central New Mexico. The approximate boundary of the area is depicted below.\n",
    "\n",
    "<p><img alt=\"Climate_SantaFe_-_Central_New_Mexico_Weather_averages.png\" src=\"r_figures/location_stations_ll.PNG\" /></p>\n",
    "\n",
    "The data we will use here comes from [NOAA](https://www.ncdc.noaa.gov/). Specifically, it was downloaded from this [FTP site](ftp://ftp.ncdc.noaa.gov/pub/data/ghcn/daily/).\n",
    "\n",
    "We focused on six measurements:\n",
    "* **TMIN, TMAX:** the daily minimum and maximum temperature.\n",
    "* **TOBS:** The average temperature for each day.\n",
    "* **PRCP:** Daily Percipitation (in mm)\n",
    "* **SNOW:** Daily snowfall (in mm)\n",
    "* **SNWD:** The depth of accumulated snow.\n",
    "\n",
    "## Sanity-check: comparison with outside sources\n",
    "\n",
    "<p>We start by comparing some of the general statistics with graphs that we obtained from a site called <a href=\"http://www.usclimatedata.com/climate/new-mexico/united-states/3201#\" target=\"_blank\">US Climate Data</a> The graph below shows the daily minimum and maximum temperatures for each month, as well as the total precipitation for each month.</p>\n",
    "\n",
    "<p>&nbsp;</p>\n",
    "\n",
    "<p><img alt=\"Climate_SantaFe_-_Central_New_Mexico_Weather_averages.png\" src=\"r_figures/temprature_affirm.PNG\" /></p>\n",
    "\n",
    "<p>&nbsp;</p>\n",
    "\n",
    "<p>We see that the min and max daily&nbsp;temperature agree very much with the ones we got from our data, once we translate Fahrenheit to Celsius. Following are the plots for mean TMIN and TMAX.</p>\n",
    "\n",
    "<p>&nbsp;</p>\n",
    "\n",
    "<p><img alt=\"TMIN,TMAX.png\" src=\"r_figures/tmin_tmax_from_notebook_4_4.PNG\" style=\"height:300px; width:800px\" /></p>\n",
    "\n",
    "<p>To compare the precipitation&nbsp;we need to translate millimeter/day to millimeter/year by summing the precipitation for each day. According to my analysis the average annual rainfall is 364.06 mm which is very close to average annual rainfall of 361 mm reported on US-Climate-Data. Also, there is clear agreement that average precipitation&nbsp;is more in the months of July-September and less throughout the year apart from these months.</p>\n",
    "\n",
    "<p>&nbsp;<img alt=\"PRCP.png\" src=\"r_figures/mean_PRCP_4_4.PNG\" style=\"height:350px; width:500px\" /></p>\n",
    "\n",
    "## Sanity of data\n",
    "\n",
    "In the data of our region, we got few negative eigen values after eigen decomposition of the covariance matrix. The reason for this could be the corruption in data. Due to this, the covariance matrix isn’t guaranteed to be positive definite as there could be linear dependency in data, error in reading the data, typographical error, missing data, or no error variance. This all lead to having strong correlations between some of the elements in the data matrix which results in negative eigenvalues."
   ]
  },
  {
   "cell_type": "markdown",
   "metadata": {},
   "source": [
    "# Exploratory Analysis\n",
    "\n",
    "## Geospatial Trends\n",
    "\n",
    "In this section we discuss some of the geo\n",
    "\n",
    "### Top Stations : Max of TMIN\n",
    "This map shows top 15 stations where we have maximum TMIN in average. We see that there's one particular region where the maximum TMIN is collectively high. This means that this region is hotter as compared to others.\n",
    "![SNWD_grid_Pos_coeff1.png](r_figures/maps_TMIN_top15_regions.png)\n",
    "\n",
    "### Top Stations : Max of TMAX\n",
    "This map shows top 15 stations where we have maximum TMAX in average. These stations though are scattered across all the region. Surprisingly, these stations have almost no overlap with the stations of TMIN.\n",
    "![SNWD_grid_Pos_coeff1.png](r_figures/maps_TMAX_top15_regions.png)\n",
    "\n",
    "### Top Stations : Max of SNWD \n",
    "The stations for maximum SNWD should be separate from stations obtained from TMIN and TMAX as their average temprature is high. From the map we see that this is indeed the case. \n",
    "![SNWD_grid_Pos_coeff1.png](r_figures/maps_SNWD_top15_regions.png)\n",
    "\n",
    "### Top Stations : Max of PRCP\n",
    "The stations for maximum PRCP overlap a lot with the stations obtained in TMIN. From this we could probably say that region with higher average temprature expects more rain.\n",
    "![SNWD_grid_Pos_coeff1.png](r_figures/maps_PRCP_top15_regions.png)\n",
    "\n"
   ]
  },
  {
   "cell_type": "markdown",
   "metadata": {},
   "source": [
    "## Pairwise Relation in Measurement\n",
    "\n",
    "In this section, we discuss some special temporal trends that we discovered from the dataset.\n",
    "\n",
    "### TMIN\n",
    "We see in the following plot that as the elivation increases the value of TMIN decreases which is expected because places on higher elivation are expected to be colder.\n",
    "![temporal_elevation_vs_TMIN.png](r_figures/temporal_elevation_vs_TMIN.png)\n",
    "\n",
    "We see in the following plot that the northern region is reltively hotter (has higher TMIN) than the southern region (has relatively lower TMIN).\n",
    "![temporal_elevation_vs_TMIN.png](r_figures/temporal_latitude_vs_TMIN.png)\n",
    "\n",
    "From the following plot, we could see the average minimum temprature (TMIN) increasing over the years from 1900 to 2010. This could be a result of Global warming. \n",
    "![temporal_elevation_vs_TMIN.png](r_figures/temporal_year_vs_TMIN.png)\n",
    "\n",
    "### TMAX\n",
    "We see in the following plot that as the elivation increases the value of TMAX decreases which is expected because places on higher elivation are expected to be colder.\n",
    "![temporal_elevation_vs_TMIN.png](r_figures/temporal_elevation_vs_TMAX.png)\n",
    "\n",
    "There were no specific patterns in terms of latitude and year for TMAX\n",
    "### SNWD \n",
    "We see in the following plot that as the elivation increases the value of SNWD increases which is expected because places on higher elivation are expected to be colder and thus have heavier snowfall.\n",
    "![temporal_elevation_vs_TMIN.png](r_figures/temporal_elevation_vs_SNWD.png)\n",
    "\n",
    "We see in the following plot that the extreme northern region and extreme southern region have more snow depth but not so much in the central region. This affirms what we found in the geospatial trend of snow depth.\n",
    "![temporal_elevation_vs_TMIN.png](r_figures/temporal_latitude_vs_SNWD.png)\n",
    "\n",
    "From the following plot, we could see the average snow depth is slowly decreasing over the years from 1950 to 2010. This could be a result of Global warming and increase of minimum temprature. \n",
    "![temporal_elevation_vs_TMIN.png](r_figures/temporal_year_vs_SNWD.png)\n",
    "\n",
    "### PRCP\n",
    "We see in the following plot that as the elivation increases the value of PRCP increases which is expected because places on higher elivation are expected to be have higher rainfall.\n",
    "![temporal_elevation_vs_TMIN.png](r_figures/temporal_elevation_vs_PRCP.png)\n",
    "\n",
    "There seem to be no relation of PRCP with the latitude. \n",
    "\n",
    "From the following plot, average Precipitation seem to have decreased in the recent years. This finding is inline with the snow depth pattern in the recent years\n",
    "![temporal_elevation_vs_TMIN.png](r_figures/temporal_year_vs_PRCP.png)"
   ]
  },
  {
   "cell_type": "markdown",
   "metadata": {},
   "source": [
    "# Basic Visualization of Different Measurements\n",
    "\n",
    "Following plot shows that the central New Mexico region has heavy snowfall in the months of Jan-Apr and Nov-Dec.\n",
    "![temporal_elevation_vs_TMIN.png](r_figures/4_4_snow_snwd_mean_std.png)\n",
    "\n",
    "Following plot shows that the central New Mexico region has pleasent temprature of around 20 degrees and more rainfall in the months of Jun-Sept.\n",
    "![temporal_elevation_vs_TMIN.png](r_figures/4_4_tobs_prcp_std.png)\n",
    "\n",
    "Following plot shows that in the central New Mexico region temprature goes to around -5 degrees in winters whereas the maximum temprature in summers is around 30 degree.\n",
    "![temporal_elevation_vs_TMIN.png](r_figures/4_4_tmin_tmax_std.png)\n"
   ]
  },
  {
   "cell_type": "markdown",
   "metadata": {
    "run_control": {
     "frozen": false,
     "read_only": false
    }
   },
   "source": [
    "# PCA analysis\n",
    "\n",
    "For each of the six measurements, we compute the percentage of the variance explained as a function of the number of eigen-vectors used.\n",
    "\n",
    "### Percentage of variance explained.\n",
    "<p><img alt=\"TMIN,TMAX.png\" src=\"r_figures/variance_explained_1.PNG\" style=\"height:300px; width:1000px\" /></p>\n",
    "We see that the top 5 eigen-vectors explain around 40% of variance for TMIN, around 60% for TOBS and around 45% for TMAX.\n",
    "\n",
    "We conclude that among these, TOBS is best explained by the top 5 eigenvectors. This is especially true for the first eigen-vector which, by itself, explains more than 50% of the variance.\n",
    "\n",
    "<p><img alt=\"TMIN,TMAX.png\" src=\"r_figures/variance_explained_2.PNG\" style=\"height:300px; width:1000px\" /></p>\n",
    "\n",
    "The top 5 eigenvectors explain 8% of the variance for PRCP and around 10% for SNOW. Both are low values. On the other hand the top 5 eigenvectors explain more than 80% of the variance for SNWD. This means that these top 5 eigenvectors capture most of the variation in the snow signals. Based on that we will dig deeper into the PCA analysis for snow-depth.\n",
    "\n",
    "It makes sense that SNWD would be less noisy than SNOW. That is because SNWD is a decaying integral of SNOW and, as such, varies less between days and between the same date on diffferent years. This is evident from the following plots where we see the mean of SNOW changes very much from day to day but for SNWD, the changes are smooth.\n",
    "\n",
    "<p><img alt=\"TMIN,TMAX.png\" src=\"r_figures/snow_depth_and_snow_mean.PNG\" style=\"height:300px; width:800px\" /></p>"
   ]
  },
  {
   "cell_type": "markdown",
   "metadata": {
    "run_control": {
     "frozen": false,
     "read_only": false
    }
   },
   "source": [
    "## Analysis of snow depth\n",
    "\n",
    "We choose to analyze the eigen-decomposition for snow-depth because the first 4 eigen-vectors explain around 82% of the variance.\n",
    "\n",
    "First, we plot the graph for the mean and the top 4 eigen-vectors.\n",
    "\n",
    "We observe that the snow season is from mid-October to the end of April, where the end of January and begining of February marks the peak of the snow-depth.\n",
    "<p><img alt=\"SNWD_mean_eigs.png\" src=\"r_figures/snwd_eigvec_4_5.PNG\" style=\"height:600px; width:600px\" /></p>"
   ]
  },
  {
   "cell_type": "markdown",
   "metadata": {
    "run_control": {
     "frozen": false,
     "read_only": false
    }
   },
   "source": [
    "Next we interpret the eigen-vectors. The first eigen-vector (eig1) has a shape very similar to the mean function but in opposite direction. With negative coefficient this eigen-vector seem to capture the approximate mean of snow depth for all the months. The only difference is that according to this, January-February have less snow than March. So it is capturing more snow in March and around November and December.\n",
    "\n",
    "**eig2,eig3 and eig4** all oscilate between positive and negative values. In other words, they correspond to changing the distribution of the snow depth over the winter months, but don't change the total (much).\n",
    "\n",
    "They can be interpreted as follows:\n",
    "* **eig2:** less snow in January - mid February, more snow in mid feb-march, and comparatively less snow in November-December.\n",
    "* **eig3:** less snow in January, increasing and peaking in February, then decreasing march onwards. Also, less snow in Novemeber-December.\n",
    "* **eig4:** more snow in start February, less snow in mid of March. Also, it captures more snow in November-December\n"
   ]
  },
  {
   "cell_type": "markdown",
   "metadata": {
    "run_control": {
     "frozen": false,
     "read_only": false
    }
   },
   "source": [
    "### Examples of reconstructions\n",
    "\n",
    "#### Coeff1\n",
    "Coeff1: most positive\n",
    "![SNWD_grid_Pos_coeff1.png](r_figures/4_5_big_coeff_1_2.png)\n",
    "Coeff1: most negative\n",
    "![SNWD_grid_neg_coeff1.png](r_figures/4_5_small_coeff_1_2.png)\n",
    "Large positive values of coeff1 correspond to less than average snow and Low values correspond to less than average snow. To affirm the plots, following  is the data output for coeff_1 sorted by ascending and descending order. We see that more negative coefficient is related to less residual which means that it is able to explain the data well. This is evident from the negative coeff_1 plots where the vectors very much overlap with the target. Also, the residuals corresponding to the most positive coeff_1 values is very high, thus these vectors are not able to explain data well, which is evident from Positive coeff_1 plots where target is away from the vectors plotted.\n",
    "\n",
    "<p><img alt=\"4_5_big_small_coeff_1_data.png\" src=\"r_figures/4_5_big_small_coeff_1_data.PNG\" style=\"height:250px; width:900px\" /></p>\n",
    "\n",
    "\n",
    "#### Coeff2\n",
    "Coeff2: most positive\n",
    "![SNWD_grid_Pos_coeff2.png](r_figures/4_5_big_coeff_2_2.png)\n",
    "Coeff2: most negative\n",
    "![SNWD_grid_neg_coeff2.png](r_figures/4_5_small_coeff_2_2.png)\n",
    "\n",
    "Large positive values of coeff2 correspond to a late snow season with peak around mid-March. Negative values for coeff2 correspond to an early snow season and the peak is near end of January and begining of February. Again, to affirm the plots, following  is the data output for coeff_2 sorted by ascending and descending order. We see that most negative and most positive coefficients are related to less residual which means that vectors corresponding to these high and low values are able to explain the data well. This is evident from the negative coeff_2 and positive coeff_2 plots where the vectors very much overlap with the target. One exception is the third vector (c_2) in negative coeff_2 which does not mimic target very well and thus has relatively more residual\n",
    "\n",
    "<p><img alt=\"4_5_big_small_coeff_1_data.png\" src=\"r_figures/4_5_big_small_coeff_2_data.PNG\" style=\"height:250px; width:900px\" /></p>\n",
    "\n",
    "\n",
    "#### Res_1\n",
    "Res_1: big residual\n",
    "![SNWD_grid_Pos_coeff1.png](r_figures/4_5_big_residual_r_1_2.png)\n",
    "Res_1: small residual\n",
    "![SNWD_grid_neg_coeff1.png](r_figures/4_5_small_residual_r_1_2.png)\n",
    "As expected, corresponding to large residual values, the target and the vectors are hardly following the same pattern whereas for small residual values we are getting a nice overlap between the target and vectors.\n",
    "\n",
    "#### Res_2\n",
    "Res_2: big residual\n",
    "![SNWD_grid_Pos_coeff1.png](r_figures/4_5_big_residual_r_2_2.png)\n",
    "Res_2: small residual\n",
    "![SNWD_grid_neg_coeff1.png](r_figures/4_5_small_residual_r_2_2.png)\n",
    "As earlier, the target and the vectors are not following the same pattern corresponding to large residual values whereas for vectors corresponding to small residual values provide good approximation of target"
   ]
  },
  {
   "cell_type": "markdown",
   "metadata": {
    "run_control": {
     "frozen": false,
     "read_only": false
    }
   },
   "source": [
    "### Geospatial Analysis of Coeff_1 and res_1\n",
    "\n",
    "In this section, we analyse the geospatial relation of coeff_1 and res_1. In the plots, darker dots mean higher values and bigger circle mean more observations.\n",
    "\n",
    "In the following graph, we see that the residual is less in the central portion of the region which means that eig_1 explains the snow depth well in the central region. \n",
    "![SNWD_grid_neg_coeff1.png](r_figures/maps_res_1.png)\n",
    "\n",
    "In the following graph, we have lower coefficient value in the central region which explains the lower residual in that region\n",
    "![SNWD_grid_neg_coeff1.png](r_figures/maps_coeff_1.png)"
   ]
  },
  {
   "cell_type": "markdown",
   "metadata": {
    "collapsed": true,
    "run_control": {
     "frozen": false,
     "read_only": false
    }
   },
   "source": [
    "## Impact of time (day to day) vs location (station-to-station)\n",
    "\n",
    "RMS is the root mean square of the matrix which formed by aggregating all the records for a particular station.\n",
    "In mean-by-station, we average all the recorded measurement for each of the stations.\n",
    "In mean-by-day, we average all the recorded measurement for each day across all the stations.\n",
    "\n",
    "Following are the different values we got for RMS for different measures. \n",
    "\n",
    "**For PRCP**\n",
    "\n",
    "<p>total RMS                   =  39.4161886732 <p>\n",
    "<p>RMS removing mean-by-station=  37.7980789758<p>\n",
    "<p>RMS removing mean-by-day   =  30.2362503923<p>\n",
    "\n",
    "**For TOBS**\n",
    "\n",
    "<p>total RMS                   =  150.088077152<p>\n",
    "<p>RMS removing mean-by-station=  96.8490113798<p>\n",
    "<p>RMS removing mean-by-day   =  49.4690820069<p>\n",
    "\n",
    "**For SNWD**\n",
    "\n",
    "<p>total RMS                   =  105.872402642<p>\n",
    "<p>RMS removing mean-by-station=  95.6443603858<p>\n",
    "<p>RMS removing mean-by-day   =  83.9405688869<p>\n",
    "\n",
    "In each of the instance RMS after removing mean-by day is better than RMS after removing mean-by-station. This means that if we approximate data in mean-by-day form, we will get better representation of the original data."
   ]
  },
  {
   "cell_type": "markdown",
   "metadata": {
    "run_control": {
     "frozen": false,
     "read_only": false
    }
   },
   "source": [
    "## Analysis of correlation between precipitation across locations\n",
    "\n",
    "Since the eigen values of precipitation are not very helpful in analyzing the pattern (as shown the in following diagram), in this section, we dig deeper into the analysis of precipitation. Basically, we want to find correlation between the values of precipitation between different stations.\n",
    "\n",
    "![SNWD_grid_neg_coeff1.png](r_figures/7_prcp_mean_eig.png)\n",
    "\n",
    "The following diagram we have around 90 percent of instances with res_3 more than 90%. This means that first 3 eigen vectors don't provide very good information.\n",
    "\n",
    "![SNWD_grid_neg_coeff1.png](r_figures/7_prcp_res.png)\n",
    "\n",
    "Following is the CDF of daily rainfall. We see that we have around 20% of instances that have non zero precipitation in our data.\n",
    "\n",
    "![SNWD_grid_neg_coeff1.png](r_figures/7_cdf_prcp.png)\n",
    "\n",
    "It is likely to be hard to find correlations between the amount of rain on the same day in different stations. Because amounts of rain vary a lot between even close locations. It is more reasonable to try to compare whether or not it rained on the same day in different stations. As we see from the graph above, in our region it rains in about one fifth of the days.\n",
    "\n",
    "\n",
    "### Definition of statistical test\n",
    "\n",
    "We want to find a statistical test for rejecting the null hypothesis that says that the rainfall in the two locations is independent. Using the inner product is too noisy, because you multiply the rainfall on the same day in two locations and that product can be very large - leading to a large variance and poor ability to discriminate. An alternative is to ignore the amount of rain, and just ask whether it rained in both locations. We can then compute the probability associated with the number of overlaps under the null hypothesis. We state our null hypothesis as the observed overlap is not statistically significant and the alternate hypothesis is that it is statistically significant.\n",
    "\n",
    "![SNWD_grid_neg_coeff1.png](r_figures/7_significance.png)\n",
    "\n",
    "In the above graph, greater the significance, more is the correlation between the stations. We have around 180 stations which have maximum correlation which is because their p-norm was calculated with themselves. Apart from this, pair with higher correlation are less.\n",
    "\n",
    "### correlations matrix\n",
    "\n",
    "Next, we plot the P-Norm matrix to see which pair of stations are correlated.\n",
    "\n",
    "![SNWD_grid_neg_coeff1.png](r_figures/7_p_norm_matrix.png)\n",
    "\n",
    "The matrix above shows, for each pair of stations, the normalized log probability that the overlap in rain days is random. We see immediately the first 25 stations and 50-62 have very high correlation with each other. To find more correlations we use SVD (the term PCA is reserved for decomposition of the covariance matrix). As we shall see that the top 10 eigenvectors explain over 70% of the square magnitude of the matrix.\n",
    "\n",
    "![SNWD_grid_neg_coeff1.png](r_figures/7_variance_explained_svd.png)\n",
    "\n",
    "Next, we reorder the rows and columns of the matrix using one of the eigenvectors, and as the following plot shows, the grouping of the stations becomes more evident. The lower right corner of the third matrix. The stations at positions 160-180 are clearly strongly correlated with each other. Similarly, the upper left corner of 4th matrix shows strong correlation between stations 0-25. In the other matrices, we see more sparse correlation between the stations\n",
    "\n",
    "![SNWD_grid_neg_coeff1.png](r_figures/7_correlation_matrix.png)"
   ]
  },
  {
   "cell_type": "code",
   "execution_count": null,
   "metadata": {
    "collapsed": true
   },
   "outputs": [],
   "source": []
  }
 ],
 "metadata": {
  "anaconda-cloud": {},
  "kernelspec": {
   "display_name": "Python 2",
   "language": "python",
   "name": "python2"
  },
  "language_info": {
   "codemirror_mode": {
    "name": "ipython",
    "version": 2
   },
   "file_extension": ".py",
   "mimetype": "text/x-python",
   "name": "python",
   "nbconvert_exporter": "python",
   "pygments_lexer": "ipython2",
   "version": "2.7.13"
  },
  "toc": {
   "colors": {
    "hover_highlight": "#DAA520",
    "running_highlight": "#FF0000",
    "selected_highlight": "#FFD700"
   },
   "moveMenuLeft": true,
   "nav_menu": {
    "height": "12px",
    "width": "252px"
   },
   "navigate_menu": true,
   "number_sections": true,
   "sideBar": true,
   "threshold": 4,
   "toc_cell": false,
   "toc_section_display": "block",
   "toc_window_display": false,
   "widenNotebook": false
  }
 },
 "nbformat": 4,
 "nbformat_minor": 2
}
