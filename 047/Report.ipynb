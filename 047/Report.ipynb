{
 "cells": [
  {
   "cell_type": "markdown",
   "metadata": {},
   "source": [
    "# Weather Analysis on Florida's Western Seaboard\n",
    "\n",
    "This is a report on the historical analysis of weather patterns in an area that approximately overlaps the area of the weatern coastline of Florida.\n",
    "\n",
    "The data we will use here comes from [NOAA](https://www.ncdc.noaa.gov/). Specifically, it was downloaded from This [FTP site](ftp://ftp.ncdc.noaa.gov/pub/data/ghcn/daily/).\n",
    "\n",
    "We focused on six measurements:\n",
    "* **TMIN, TMAX:** the daily minimum and maximum temperature.\n",
    "* **TOBS:** The average temperature for each day.\n",
    "* **PRCP:** Daily Percipitation (in mm)\n",
    "* **SNOW:** Daily snowfall (in mm)\n",
    "* **SNWD:** The depth of accumulated snow.\n",
    "\n",
    "## Area Under Consideration\n",
    "\n",
    "Our data includes measurements from the year 1891 through 2012. The data was collected from 213 weather stations shown in the following diagram. \n",
    "\n",
    "<p><img alt=\"Map-Stations.png\" src=\"report_figures/Map-Stations.png\" width = 300 /></p>\n",
    "\n",
    "## Sanity Check - Comparison with outside sources\n",
    "\n",
    "<p>We start by comparing some of the general statistics with graphs that we obtained from a site called <a href=\"http://www.usclimatedata.com/climate/tampa/florida/united-states/usfl0481\" target=\"_blank\">US Climate Data</a> The graph below shows the daily minimum and maximum temperatures for each month, as well as the total precipitation for each month.</p>\n",
    "\n",
    "<p>&nbsp;</p>\n",
    "\n",
    "<p><img alt=\"Climate_Boston_-_Massachusetts_and_Weather_averages_Boston.jpg\" src=\"report_figures/sitetemp.png\" width=500 /></p>\n",
    "\n",
    "<p>&nbsp;</p>\n",
    "\n",
    "\n",
    "<p>We see that the min and max daily&nbsp;temperature agree with the ones we got from our data, once we translate Fahrenheit to Centigrade.</p>\n",
    "\n",
    "<p>&nbsp;</p>\n",
    "\n",
    "<p><img alt=\"TMIN,TMAX.png\" src=\"report_figures/tempminmax.png\" style=\"height:300px; width:800px\" /></p>\n",
    "\n",
    "<p>To compare the precipitation, we observe the trend in rainfall in our data and that from the website. It can be seen that rainfall peaks in the months of July to September in both cases</p>\n",
    "\n",
    "<p>&nbsp;<img alt=\"PRCP.png\" src=\"report_figures/PRCPmeanstd.png\" style=\"height:450px; width:600px\" /></p>\n",
    "\n",
    "<p>As expected there is almost no snow in florida. The figures below show the values of the snow depth and snowfall thorugh the year. It can be seen that mean snowfall and depth are almost zero, and the non zero parts may be attributed to noise in the data or an extremely anomalous year. <b> We will therefore disregard snow in our analysis </b></p>\n",
    "\n",
    "<p>&nbsp;<img alt=\"PRCP.png\" src=\"report_figures/snow.png\" style=\"height:300px; width:800px\" /></p>"
   ]
  },
  {
   "cell_type": "markdown",
   "metadata": {},
   "source": [
    "## PCA analysis\n",
    "\n",
    "For each of the six measurement, we compute the percentate of the variance explained as a function of the number of eigen-vectors used.\n",
    "\n",
    "### Percentage of variance explained.\n",
    "![VarExplained1.png](report_figures/VarExplained1.png)\n",
    "We see that the top 5 eigen-vectors explain 35% of variance for TMIN, 52% for TOBS and 26% for TMAX.\n",
    "\n",
    "We conclude that of the three, TOBS is best explained by the top 5 eigenvectors. This is especially true for the first eigen-vector which, by itself, explains 41% of the variance.\n",
    "\n",
    "![VarExplained2.png](report_figures/VarExplained2.png)\n",
    "\n",
    "The top 5 eigenvectors explain 8% of the variance for PRCP and 100% for SNOW and SNWD. The value for PRCP is very small and for SNOW and SNWD there is no point in doing any analysis for reasons mentioned above.\n",
    "\n",
    "Based on the above explained variances, we will focus our analysis on TOBS. "
   ]
  },
  {
   "cell_type": "markdown",
   "metadata": {},
   "source": [
    "## Analysis of Average Temperature\n",
    "\n",
    "We choose to analyze the eigen-decomposition for Average Daily Temperature because the first 4 eigen-vectors explain 50% of the variance.\n",
    "\n",
    "First, we graph the mean and the top 4 eigen-vectors.\n",
    "\n",
    "We observe that the average daily temperature is about 27 degrees Centigrade is from May through October, peaking in July. For the rest of the year, the average temperature varies, reaching a minimum of about 15 degrees in December/January\n",
    "\n",
    "<p><img src=\"report_figures/TOBSeig2.png\" width = 800></p>"
   ]
  },
  {
   "cell_type": "markdown",
   "metadata": {},
   "source": [
    "Next we interpret the eigen-functions. It can be seen that eig1 is always positive while the other eigen-functions take negative and positive values depending on the time of they year. This leads to different interpretations of the significance of these eigenvalues \n",
    "\n",
    "They can be interpreted as follows:\n",
    "* **eig1:** More or less Uniform thorughout the year, taking only positive values. This signifies how much over the mean temperature the temperature in that year was.\n",
    "* **eig2:** Higher winter temperatures in Jan-March\n",
    "* **eig3:** Higher winter temperatures in Nov-Dec and Lower in Jan-Feb\n",
    "* **eig4:** Early onset of summer and late arrival of winter, since this peaks in Match-April and November-December\n"
   ]
  },
  {
   "cell_type": "markdown",
   "metadata": {},
   "source": [
    "### Examples of reconstructions\n",
    "\n",
    "#### Coeff1\n",
    "Coeff1: most positive\n",
    "![SNWD_grid_Pos_coeff1.png](report_figures/c0pos.png)\n",
    "Coeff1: most negative\n",
    "![SNWD_grid_neg_coeff1.png](report_figures/c0neg.png)\n",
    "Large positive values of coeff1 correspond to more than average temperatures. While large negative values of coeff1 correspond to less than average temperatures.\n",
    "\n",
    "#### Coeff2\n",
    "Coeff2: most positive\n",
    "![SNWD_grid_Pos_coeff2.png](report_figures/c1pos.png)\n",
    "Coeff2: most negative\n",
    "![SNWD_grid_neg_coeff2.png](report_figures/c1neg.png)\n",
    "\n",
    "Large positive values of coeff2 correspond to higher than normal temperatures in the beginning of the year, while large negarive values correspond to lower than normal temperatures in the beginning of the year.\n",
    "\n",
    "#### Coeff3\n",
    "Coeff3: most positive\n",
    "![SNWD_grid_Pos_coeff3.png](report_figures/c2pos.png)\n",
    "Coeff3: most negative\n",
    "![SNWD_grid_neg_coeff3.png](report_figures/c2neg.png)\n",
    "\n",
    "Large positive values of coeff3 correspond to higher than normal temperatures in the end of the year and lower than normal at the beginning. Vice versa for large negative values\n",
    "\n"
   ]
  },
  {
   "cell_type": "markdown",
   "metadata": {},
   "source": [
    "## Spatio-Temporal dependence of the data.\n",
    "\n",
    "We now estimate the relative importance of location-to-location variation relative to year-by-year variation.\n",
    "\n",
    "These are measured using the fraction by which the variance is reduced when we subtract from each station/year entry the average-per-year or the average-per-station respectively. Here are the results:\n",
    "\n",
    "** coeff_1 **  \n",
    "total MS                   =  373185.752627\n",
    "\n",
    "MS removing mean-by-station=  163620.320812, percentage explained = 0.57\n",
    "\n",
    "MS removing mean-by-year   =  328127.494148, percentage explained = 0.121\n",
    "\n",
    "** coeff_2 **  \n",
    "total MS                   =  38309.0684317 \n",
    "\n",
    "MS removing mean-by-station=  33601.4251072, percentage explained = 0.123\n",
    "\n",
    "MS removing mean-by-year   =  17243.8836198, percentage explained = 0.55 \n",
    "\n",
    "** coeff_3 **  \n",
    "total MS                   =  28415.5317557\n",
    "\n",
    "MS removing mean-by-station=  22994.3261225, percentage explained = 0.191\n",
    "\n",
    "MS removing mean-by-year   =  15364.8806355, percentage explained = 0.46\n",
    "\n",
    "\n",
    "We can see that for the first coefficient, the variation by station explaines more of the variance than the variantion by year, while for the second and third coefficients, the variation by of year explains most of the variance. \n",
    "\n",
    "** Explanation ** \n",
    "\n",
    "As seen in the Analysis above, eig1 gives us aggregate information about whether the temperature in a year was more or less than usual.\n",
    "\n",
    "On the other hand, eig2 and eig3 give temporal information about which times of the year have more or less temperatures than usual\n",
    "\n",
    "Therefore, eig1 has a larger spatial dependence, while eig2 and eig3 have a larger temporal dependence"
   ]
  },
  {
   "cell_type": "markdown",
   "metadata": {},
   "source": [
    "## Visualizing the spatial dependence of coeff_1\n",
    "\n",
    "We've seen in the above example that eig1 has high spatial dependency. In the plot below, we have plotted the absolute value of coeff_1 for different weather stations based on theur location.\n",
    "Red points correspond to negative values of coeff_1 and blue to positive. \n",
    "\n",
    "It can be seen that coeff_1 tends to be more positive, the more the west we go. This also implies that regions on the west tend to have higher temperatures than the overall average, while temperatures tend to be lower on the east.\n",
    "\n",
    "<p><img src=\"report_figures/colplot.png\"></p>"
   ]
  }
 ],
 "metadata": {
  "kernelspec": {
   "display_name": "Python 2",
   "language": "python",
   "name": "python2"
  },
  "language_info": {
   "codemirror_mode": {
    "name": "ipython",
    "version": 2
   },
   "file_extension": ".py",
   "mimetype": "text/x-python",
   "name": "python",
   "nbconvert_exporter": "python",
   "pygments_lexer": "ipython2",
   "version": "2.7.13"
  },
  "toc": {
   "colors": {
    "hover_highlight": "#DAA520",
    "running_highlight": "#FF0000",
    "selected_highlight": "#FFD700"
   },
   "moveMenuLeft": true,
   "nav_menu": {
    "height": "228px",
    "width": "252px"
   },
   "navigate_menu": true,
   "number_sections": true,
   "sideBar": true,
   "threshold": 4,
   "toc_cell": false,
   "toc_section_display": "block",
   "toc_window_display": false,
   "widenNotebook": false
  }
 },
 "nbformat": 4,
 "nbformat_minor": 2
}
