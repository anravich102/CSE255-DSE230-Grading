{
 "cells": [
  {
   "cell_type": "markdown",
   "metadata": {
    "deletable": true,
    "editable": true,
    "run_control": {
     "frozen": false,
     "read_only": false
    }
   },
   "source": [
    "### Visualizing the distribution of the observations\n",
    "\n",
    "### Load the required libraries"
   ]
  },
  {
   "cell_type": "code",
   "execution_count": 1,
   "metadata": {
    "collapsed": false,
    "deletable": true,
    "editable": true,
    "run_control": {
     "frozen": false,
     "read_only": false
    },
    "slideshow": {
     "slide_type": "slide"
    }
   },
   "outputs": [
    {
     "name": "stdout",
     "output_type": "stream",
     "text": [
      "Populating the interactive namespace from numpy and matplotlib\n",
      "Data Direc\n",
      "../../Data/Weather\n",
      "File Name\n",
      "../../Data/Weather/STAT_SSSBBBBB.pickle\n",
      "keys from STAT= ['TMIN', 'TOBS', 'TMAX', 'SNOW', 'SNWD', 'PRCP']\n",
      "../../Data/Weather/US_Weather_SSSBBBBB.parquet\n",
      "12886\n",
      "+---------+--------+---------+-----------+-----------+------+--------------------+------+--------+\n",
      "|elevation|latitude|longitude|measurement|    station|undefs|              vector|  year|   label|\n",
      "+---------+--------+---------+-----------+-----------+------+--------------------+------+--------+\n",
      "|   3126.0| 39.3333|-106.3333|       TMAX|USC00058212|     4|[00 CF 00 D3 80 D...|1952.0|SSSBBBBB|\n",
      "|   3126.0| 39.3333|-106.3333|       TMIN|USC00058212|    13|[A0 DB 00 7E 28 D...|1952.0|SSSBBBBB|\n",
      "|   3126.0| 39.3333|-106.3333|       TOBS|USC00058212|     2|[40 D6 28 D8 E0 D...|1952.0|SSSBBBBB|\n",
      "|   3340.6| 39.5667|   -105.8|       TMAX|USS0005K26S|     8|[20 D0 E0 D5 00 7...|1999.0|SSSBBBBB|\n",
      "|   3340.6| 39.5667|   -105.8|       TMAX|USS0005K26S|     3|[00 46 00 D3 00 7...|2000.0|SSSBBBBB|\n",
      "|   3340.6| 39.5667|   -105.8|       TMAX|USS0005K26S|     1|[00 C6 00 C6 20 5...|2001.0|SSSBBBBB|\n",
      "|   3340.6| 39.5667|   -105.8|       TMAX|USS0005K26S|     6|[80 D4 80 CD 20 5...|2002.0|SSSBBBBB|\n",
      "|   3340.6| 39.5667|   -105.8|       TMAX|USS0005K26S|     6|[80 D1 80 C9 00 4...|2003.0|SSSBBBBB|\n",
      "|   3340.6| 39.5667|   -105.8|       TMAX|USS0005K26S|     7|[40 4C 80 D1 80 D...|2004.0|SSSBBBBB|\n",
      "|   3340.6| 39.5667|   -105.8|       TMAX|USS0005K26S|     8|[00 46 00 46 00 4...|2005.0|SSSBBBBB|\n",
      "|   3340.6| 39.5667|   -105.8|       TMAX|USS0005K26S|     2|[80 C9 20 50 00 4...|2006.0|SSSBBBBB|\n",
      "|   3340.6| 39.5667|   -105.8|       TMAX|USS0005K26S|    11|[80 4D 80 4D 20 5...|2007.0|SSSBBBBB|\n",
      "|   3340.6| 39.5667|   -105.8|       TMAX|USS0005K26S|     6|[00 46 00 CF A0 D...|2010.0|SSSBBBBB|\n",
      "|   3340.6| 39.5667|   -105.8|       TMAX|USS0005K26S|    23|[00 7E 30 D4 A0 D...|2011.0|SSSBBBBB|\n",
      "|   3340.6| 39.5667|   -105.8|       TMAX|USS0005K26S|    24|[00 7E 40 52 80 5...|2012.0|SSSBBBBB|\n",
      "|   2680.1| 39.4905|-105.5239|       PRCP|US1COPK0069|    32|[00 00 00 00 00 0...|2006.0|SSSBBBBB|\n",
      "|   2680.1| 39.4905|-105.5239|       PRCP|US1COPK0069|    14|[00 00 00 00 00 0...|2007.0|SSSBBBBB|\n",
      "|   2680.1| 39.4905|-105.5239|       PRCP|US1COPK0069|    23|[00 00 00 00 00 0...|2008.0|SSSBBBBB|\n",
      "|   2680.1| 39.4905|-105.5239|       PRCP|US1COPK0069|    26|[00 00 00 00 00 0...|2009.0|SSSBBBBB|\n",
      "|   2680.1| 39.4905|-105.5239|       PRCP|US1COPK0069|    10|[00 00 00 00 00 0...|2010.0|SSSBBBBB|\n",
      "|   2680.1| 39.4905|-105.5239|       PRCP|US1COPK0069|    10|[00 00 00 00 00 0...|2011.0|SSSBBBBB|\n",
      "|   2680.1| 39.4905|-105.5239|       PRCP|US1COPK0069|     6|[00 00 00 00 00 0...|2012.0|SSSBBBBB|\n",
      "|   3126.0| 39.3333|-106.3333|       PRCP|USC00058212|    15|[00 00 00 00 40 4...|1900.0|SSSBBBBB|\n",
      "|   3126.0| 39.3333|-106.3333|       PRCP|USC00058212|     2|[00 00 00 00 20 5...|1948.0|SSSBBBBB|\n",
      "|   3126.0| 39.3333|-106.3333|       PRCP|USC00058212|     0|[00 00 C0 50 80 4...|1949.