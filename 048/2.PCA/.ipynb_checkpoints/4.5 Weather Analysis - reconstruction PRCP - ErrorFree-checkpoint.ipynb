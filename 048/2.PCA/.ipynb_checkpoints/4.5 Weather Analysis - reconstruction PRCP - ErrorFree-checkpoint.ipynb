{
 "cells": [
  {
   "cell_type": "code",
   "execution_count": 4,
   "metadata": {
    "collapsed": true,
    "deletable": true,
    "editable": true,
    "run_control": {
     "frozen": false,
     "read_only": false
    },
    "slideshow": {
     "slide_type": "skip"
    }
   },
   "outputs": [],
   "source": [
    "#setup\n",
    "data_dir='../../Data/Weather'\n",
    "#file_index='BBBSBBBB'\n",
    "file_index = 'SSSBBBBB' \n",
    "m='PRCP'"
   ]
  },
  {
   "cell_type": "markdown",
   "metadata": {
    "deletable": true,
    "editable": true,
    "run_control": {
     "frozen": false,
     "read_only": false
    },
    "slideshow": {
     "slide_type": "slide"
    },
    "variables": {
     "m": "SNWD"
    }
   },
   "source": [
    "## Reconstruction using top eigen-vectors\n",
    "For measurement = {{m}}"
   ]
  },
  {
   "cell_type": "markdown",
   "metadata": {
    "deletable": true,
    "editable": true,
    "run_control": {
     "frozen": false,
     "read_only": false
    },
    "slideshow": {
     "slide_type": "skip"
    }
   },
   "source": [
    "## Load the required libraries"
   ]
  },
  {
   "cell_type": "code",
   "execution_count": 5,
   "metadata": {
    "collapsed": false,
    "deletable": true,
    "editable": true,
    "run_control": {
     "frozen": false,
     "read_only": false
    },
    "slideshow": {
     "slide_type": "skip"
    }
   },
   "outputs": [],
   "source": [
    "# Enable automiatic reload of libraries\n",
    "#%load_ext autoreload\n",
    "#%autoreload 2 # means that all modules are reloaded before every command"
   ]
  },
  {
   "cell_type": "code",
   "execution_count": 6,
   "metadata": {
    "collapsed": false,
    "deletable": true,
    "editable": true,
    "run_control": {
     "frozen": false,
     "read_only": false
    },
    "slideshow": {
     "slide_type": "skip"
    }
   },
   "outputs": [
    {
     "name": "stdout",
     "output_type": "stream",
     "text": [
      "Populating the interactive namespace from numpy and matplotlib\n",
      "    pandas as    pd \tversion=0.19.2 \trequired version>=0.19.2\n",
      "     numpy as    np \tversion=1.11.3 \trequired version>=1.12.0 ******* Update Version ******\n",
      "   sklearn as    sk \tversion=0.18.1 \trequired version>=0.18.1\n",
      "    urllib as urllib \tversion=1.17 \trequired version>=1.17\n",
      "   pyspark as pyspark \tversion=2.1.0+hadoop2.7 \trequired version>=2.1.0\n",
      "ipywidgets as ipywidgets \tversion=5.2.2 \trequired version>=6.0.0 ******* Update Version ******\n"
     ]
    },
    {
     "name": "stderr",
     "output_type": "stream",
     "text": [
      "/root/anaconda2/lib/python2.7/site-packages/IPython/core/magics/pylab.py:161: UserWarning: pylab import has clobbered these variables: ['interactive']\n",
      "`%matplotlib` prevents importing * from pylab and numpy\n",
      "  \"\\n`%matplotlib` prevents importing * from pylab and numpy\"\n"
     ]
    }
   ],
   "source": [
    "#%matplotlib inline\n",
    "%pylab inline\n",
    "import numpy as np\n",
    "\n",
    "import findspark\n",
    "findspark.init()\n",
    "\n",
    "import sys\n",
    "sys.path.append('./lib')\n",
    "\n",
    "from numpy_pack import packArray,unpackArray\n",
    "\n",
    "from Eigen_decomp import Eigen_decomp\n",
    "from YearPlotter import YearPlotter\n",
    "from recon_plot import recon_plot\n",
    "\n",
    "from import_modules import import_modules,modules\n",
    "import_modules(modules)\n",
    "\n",
    "from ipywidgets import interactive,widgets"
   ]
  },
  {
   "cell_type": "code",
   "execution_count": 7,
   "metadata": {
    "collapsed": false,
    "deletable": true,
    "editable": true,
    "run_control": {
     "frozen": false,
     "read_only": false
    },
    "slideshow": {
     "slide_type": "skip"
    }
   },
   "outputs": [],
   "source": [
    "from pyspark import SparkContext\n",
    "#sc.stop()\n",
    "\n",
    "sc = SparkContext(master=\"local[3]\",pyFiles=['lib/numpy_pack.py','lib/spark_PCA.py','lib/computeStats.py','lib/recon_plot.py','lib/Eigen_decomp.py'])\n",
    "\n",
    "from pyspark import SparkContext\n",
    "from pyspark.sql import *\n",
    "sqlContext = SQLContext(sc)\n",
    "\n",
    "\n",
    "\n"
   ]
  },
  {
   "cell_type": "markdown",
   "metadata": {
    "deletable": true,
    "editable": true,
    "run_control": {
     "frozen": false,
     "read_only": false
    },
    "slideshow": {
     "slide_type": "slide"
    }
   },
   "source": [
    "## Read Statistics File"
   ]
  },
  {
   "cell_type": "code",
   "execution_count": 8,
   "metadata": {
    "collapsed": false,
    "deletable": true,
    "editable": true,
    "run_control": {
     "frozen": false,
     "read_only": false
    },
    "slideshow": {
     "slide_type": "subslide"
    }
   },
   "outputs": [
    {
     "name": "stdout",
     "output_type": "stream",
     "text": [
      "keys from STAT= ['TMIN', 'TOBS', 'TMAX', 'SNOW', 'SNWD', 'PRCP']\n"
     ]
    }
   ],
   "source": [
    "from pickle import load\n",
    "\n",
    "#read statistics\n",
    "filename=data_dir+'/STAT_%s.pickle'%file_index\n",
    "STAT,STAT_Descriptions = load(open(filename,'rb'))\n",
    "measurements=STAT.keys()\n",
    "print 'keys from STAT=',measurements"
   ]
  },
  {
   "cell_type": "markdown",
   "metadata": {
    "deletable": true,
    "editable": true,
    "run_control": {
     "frozen": false,
     "read_only": false
    },
    "slideshow": {
     "slide_type": "slide"
    }
   },
   "source": [
    "## Read data file into a spark DataFrame\n",
    "We focus on the snow-depth records, because the eigen-vectors for them make sense."
   ]
  },
  {
   "cell_type": "code",
   "execution_count": 9,
   "metadata": {
    "collapsed": false,
    "deletable": true,
    "editable": true,
    "run_control": {
     "frozen": false,
     "read_only": false
    },
    "scrolled": true,
    "slideshow": {
     "slide_type": "subslide"
    }
   },
   "outputs": [
    {
     "name": "stdout",
     "output_type": "stream",
     "text": [
      "+---------+--------+---------+-----------+-----------+------+--------------------+------+--------+\n",
      "|elevation|latitude|longitude|measurement|    station|undefs|              vector|  year|   label|\n",
      "+---------+--------+---------+-----------+-----------+------+--------------------+------+--------+\n",
      "|   2680.1| 39.4905|-105.5239|       PRCP|US1COPK0069|    32|[00 00 00 00 00 0...|2006.0|SSSBBBBB|\n",
      "|   2680.1| 39.4905|-105.5239|       PRCP|US1COPK0069|    14|[00 00 00 00 00 0...|2007.0|SSSBBBBB|\n",
      "|   2680.1| 39.4905|-105.5239|       PRCP|US1COPK0069|    23|[00 00 00 00 00 0...|2008.0|SSSBBBBB|\n",
      "|   2680.1| 39.4905|-105.5239|       PRCP|US1COPK0069|    26|[00 00 00 00 00 0...|2009.0|SSSBBBBB|\n",
      "|   2680.1| 39.4905|-105.5239|       PRCP|US1COPK0069|    10|[00 00 00 00 00 0...|2010.0|SSSBBBBB|\n",
      "+---------+--------+---------+-----------+-----------+------+--------------------+------+--------+\n",
      "only showing top 5 rows\n",
      "\n"
     ]
    }
   ],
   "source": [
    "#read data\n",
    "filename=data_dir+'/US_Weather_%s.parquet'%file_index\n",
    "df_in=sqlContext.read.parquet(filename)\n",
    "#filter in \n",
    "df=df_in.filter(df_in.measurement==m)\n",
    "df.show(5)"
   ]
  },
  {
   "cell_type": "markdown",
   "metadata": {
    "deletable": true,
    "editable": true,
    "run_control": {
     "frozen": false,
     "read_only": false
    },
    "slideshow": {
     "slide_type": "slide"
    }
   },
   "source": [
    "### Plot Reconstructions\n",
    "\n",
    "Construct approximations of a time series using the mean and the $k$ top eigen-vectors\n",
    "First, we plot the mean and the top $k$ eigenvectors"
   ]
  },
  {
   "cell_type": "code",
   "execution_count": 10,
   "metadata": {
    "collapsed": false,
    "deletable": true,
    "editable": true,
    "run_control": {
     "frozen": false,
     "read_only": false
    },
    "scrolled": false,
    "slideshow": {
     "slide_type": "subslide"
    }
   },
   "outputs": [
    {
     "data": {
      "image/png": "iVBORw0KGgoAAAANSUhEUgAAAl8AAAFcCAYAAAD2w9suAAAABHNCSVQICAgIfAhkiAAAAAlwSFlz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