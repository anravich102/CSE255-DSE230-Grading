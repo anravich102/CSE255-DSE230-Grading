{
 "cells": [
  {
   "cell_type": "code",
   "execution_count": 1,
   "metadata": {
    "collapsed": false
   },
   "outputs": [
    {
     "name": "stdout",
     "output_type": "stream",
     "text": [
      "Populating the interactive namespace from numpy and matplotlib\n"
     ]
    }
   ],
   "source": [
    "import pandas as pd\n",
    "import numpy as np\n",
    "import sklearn as sk\n",
    "import urllib\n",
    "import math\n",
    "%pylab inline\n",
    "\n",
    "import findspark\n",
    "findspark.init()\n",
    "\n",
    "from pyspark import SparkContext\n",
    "#sc.stop()\n",
    "sc = SparkContext(master=\"local[3]\",pyFiles=['lib/numpy_pack.py','lib/spark_PCA.py','lib/computeStats.py'])\n",
    "\n",
    "from pyspark import SparkContext\n",
    "from pyspark.sql import *\n",
    "sqlContext = SQLContext(sc)\n",
    "\n",
    "import sys\n",
    "sys.path.append('./lib')\n",
    "\n",
    "import numpy as np\n",
    "from numpy_pack import packArray,unpackArray\n",
    "from spark_PCA import computeCov\n",
    "from computeStats import computeOverAllDist, STAT_Descriptions\n"
   ]
  },
  {
   "cell_type": "code",
   "execution_count": 2,
   "metadata": {
    "collapsed": false
   },
   "outputs": [
    {
     "name": "stdout",
     "output_type": "stream",
     "text": [
      "Data Direc\n",
      "../../Data/Weather\n",
      "File Name\n",
      "../../Data/Weather/STAT_SSSBBBBB.pickle\n",
      "keys from STAT= ['TMIN', 'TOBS', 'TMAX', 'SNOW', 'SNWD', 'PRCP']\n",
      "../../Data/Weather/US_Weather_SSSBBBBB.parquet\n",
      "12886\n",
      "+---------+--------+---------+-----------+-----------+------+--------------------+------+--------+\n",
      "|elevation|latitude|longitude|measurement|    station|undefs|              vector|  year|   label|\n",
      "+---------+--------+---------+-----------+-----------+------+--------------------+------+--------+\n",
      "|   3126.0| 39.3333|-106.3333|       TMAX|USC00058212|     4|[00 CF 00 D3 80 D...|1952.0|SSSBBBBB|\n",
      "|   3126.0| 39.3333|-106.3333|       TMIN|USC00058212|    13|[A0 DB 00 7E 28 D...|1952.0|SSSBBBBB|\n",
      "|   3126.0| 39.3333|-106.3333|       TOBS|USC00058212|     2|[40 D6 28 D8 E0 D...|1952.0|SSSBBBBB|\n",
      "|   3340.6| 39.5667|   -105.8|       TMAX|USS0005K26S|     8|[20 D0 E0 D5 00 7...|1999.0|SSSBBBBB|\n",
      "|   3340.6| 39.5667|   -105.8|       TMAX|USS0005K26S|     3|[00 46 00 D3 00 7...|2000.0|SSSBBBBB|\n",
      "|   3340.6| 39.5667|   -105.8|       TMAX|USS0005K26S|     1|[00 C6 00 C6 20 5...|2001.0|SSSBBBBB|\n",
      "|   3340.6| 39.5667|   -105.8|       TMAX|USS0005K26S|     6|[80 D4 80 CD 20 5...|2002.0|SSSBBBBB|\n",
      "|   3340.6| 39.5667|   -105.8|       TMAX|USS0005K26S|     6|[80 D1 80 C9 00 4...|2003.0|SSSBBBBB|\n",
      "|   3340.6| 39.5667|   -105.8|       TMAX|USS0005K26S|     7|[40 4C 80 D1 80 D...|2004.0|SSSBBBBB|\n",
      "|   3340.6| 39.5667|   -105.8|       TMAX|USS0005K26S|     8|[00 46 00 46 00 4...|2005.0|SSSBBBBB|\n",
      "|   3340.6| 39.5667|   -105.8|       TMAX|USS0005K26S|     2|[80 C9 20 50 00 4...|2006.0|SSSBBBBB|\n",
      "|   3340.6| 39.5667|   -105.8|       TMAX|USS0005K26S|    11|[80 4D 80 4D 20 5...|2007.0|SSSBBBBB|\n",
      "|   3340.6| 39.5667|   -105.8|       TMAX|USS0005K26S|     6|[00 46 00 CF A0 D...|2010.0|SSSBBBBB|\n",
      "|   3340.6| 39.5667|   -105.8|       TMAX|USS0005K26S|    23|[00 7E 30 D4 A0 D...|2011.0|SSSBBBBB|\n",
      "|   3340.6| 39.5667|   -105.8|       TMAX|USS0005K26S|    24|[00 7E 40 52 80 5...|2012.0|SSSBBBBB|\n",
      "|   2680.1| 39.4905|-105.5239|       PRCP|US1COPK0069|    32|[00 00 00 00 00 0...|2006.0|SSSBBBBB|\n",
      "|   2680.1| 39.4905|-105.5239|       PRCP|US1COPK0069|    14|[00 00 00 00 00 0...|2007.0|SSSBBBBB|\n",
      "|   2680.1| 39.4905|-105.5239|       PRCP|US1COPK0069|    23|[00 00 00 00 00 0...|2008.0|SSSBBBBB|\n",
      "|   2680.1| 39.4905|-105.5239|       PRCP|US1COPK0069|    26|[00 00 00 00 00 0...|2009.0|SSSBBBBB|\n",
      "|   2680.1| 39.4905|-105.5239|       PRCP|US1COPK0069|    10|[00 00 00 00 00 0...|2010.0|SSSBBBBB|\n",
      "|   2680.1| 39.4905|-105.5239|       PRCP|US1COPK0069|    10|[00 00 00 00 00 0...|2011.0|SSSBBBBB|\n",
      "|   2680.1| 39.4905|-105.5239|       PRCP|US1COPK0069|     6|[00 00 00 00 00 0...|2012.0|SSSBBBBB|\n",
      "|   3126.0| 39.3333|-106.3333|       PRCP|USC00058212|    15|[00 00 00 00 40 4...|1900.0|SSSBBBBB|\n",
      "|   3126.0| 39.3333|-106.3333|       PRCP|USC00058212|     2|[00 00 00 00 20 5...|1948.0|SSSBBBBB|\n",
      "|   3126.0| 39.3333|-106.3333|       PRCP|USC00058212|     0|[00 00 C0 50 80 4...|1949.0|SSSBBBBB|\n",
      "|   3126.0| 39.3333|-106.3333|       PRCP|USC00058212|     0|[00 00 80 4F 00 4...|1950.0|SSSBBBBB|\n",
      "|   3126.0| 39.3333|-106.3333|       PRCP|USC00058212|     0|[20 54 00 00 C0 4...|1951.0|SSSBBBBB|\n",
      "|   3126.0| 39.3333|-106.3333|       PRCP|USC00058212|     0|[00 00 00 00 00 0...|1952.0|SSSBBBBB|\n",
      "|   3340.6| 39.5667|   -105.8|       TMIN|USS0005K26S|    12|[A0 D7 E0 D8 38 D...|1999.0|SSSBBBBB|\n",
      "|   3340.6| 39.5667|   -105.8|       TMIN|USS0005K26S|     1|[E0 D5 08 D9 90 D...|2000.0|SSSBBBBB|\n",
      "|   3340.6| 39.5667|   -105.8|       TMIN|USS0005K26S|     1|[A0 D7 80 D8 A0 D...|2001.0|SSSBBBBB|\n",
      "|   3340.6| 39.5667|   -105.8|       TMIN|USS0005K26S|     5|[B0 D8 90 D9 30 D...|2002.0|SSSBBBBB|\n",
      "|   3340.6| 39.5667|   -105.8|       TMIN|USS0005K26S|     2|[00 D8 00 D8 E0 D...|2003.0|SSSBBBBB|\n",
      "|   3340.6| 39.5667|   -105.8|       TMIN|USS0005K26S|     5|[E0 D5 90 D5 B0 D...|2004.0|SSSBBBBB|\n",
      "|   3340.6| 39.5667|   -105.8|       TMIN|USS0005K26S|     2|[28 D8 B0 D8 E0 D...|2005.0|SSSBBBBB|\n",
      "|   3340.6| 39.5667|   -105.8|       TMIN|USS0005K26S|     0|[30 D5 80 D4 E0 D...|2006.0|SSSBBBBB|\n",
      "|   3340.6| 39.5667|   -105.8|       TMIN|USS0005K26S|    10|[E0 D5 40 D2 00 C...|2007.0|SSSBBBBB|\n",
      "|   3340.6| 39.5667|   -105.8|       TMIN|USS0005K26S|     5|[40 D6 40 D6 F0 D...|2010.0|SSSBBBBB|\n",
      "|   3340.6| 39.5667|   -105.8|       TMIN|USS0005K26S|    22|[D0 DB 90 D9 F0 D...|2011.0|SSSBBBBB|\n",
      "|   3340.6| 39.5667|   -105.8|       TMIN|USS0005K26S|    23|[00 7E 80 D1 80 D...|2012.0|SSSBBBBB|\n",
      "|   1865.4| 39.5122|-107.7492|       TMAX|USR0000CRIF|     4|[00 CE 00 42 C0 4...|1985.0|SSSBBBBB|\n",
      "|   1865.4| 39.5122|-107.7492|       TMAX|USR0000CRIF|     6|[E0 50 80 4B 00 C...|1987.0|SSSBBBBB|\n",
      "|   1865.4| 39.5122|-107.7492|       TMAX|USR0000CRIF|     3|[40 4D 00 CA 60 D...|1988.0|SSSBBBBB|\n",
      "|   1865.4| 39.5122|-107.7492|       TMAX|USR0000CRIF|     2|[00 47 00 44 C0 5...|1989.0|SSSBBBBB|\n",
      "|   1865.4| 39.5122|-107.7492|       TMAX|USR0000CRIF|     4|[00 53 80 51 20 D...|1990.0|SSSBBBBB|\n",
      "|   1865.4| 39.5122|-107.7492|       TMAX|USR0000CRIF|     0|[40 CC 00 00 80 C...|1991.0|SSSBBBBB|\n",
      "|   1865.4| 39.5122|-107.7492|       TMAX|USR0000CRIF|     0|[00 46 00 00 40 D...|1992.0|SSSBBBBB|\n",
      "|   1865.4| 39.5122|-107.7492|       TMAX|USR0000CRIF|    13|[E0 54 E0 54 80 C...|1993.0|SSSBBBBB|\n",
      "|   1865.4| 39.5122|-107.7492|       TMAX|USR0000CRIF|     1|[40 CC 00 53 80 4...|1994.0|SSSBBBBB|\n",
      "|   1865.4| 39.5122|-107.7492|       TMAX|USR0000CRIF|     3|[00 7E 00 7E 80 4...|1995.0|SSSBBBBB|\n",
      "+---------+--------+---------+-----------+-----------+------+--------------------+------+--------+\n",
      "only showing top 50 rows\n",
      "\n"
     ]
    }
   ],
   "source": [
    "\n",
    "### Read the data frame from pickle file\n",
    "\n",
    "data_dir='../../Data/Weather'\n",
    "file_index='SSSBBBBB'\n",
    "\n",
    "print \"Data Direc\"\n",
    "print data_dir\n",
    "\n",
    "from pickle import load\n",
    "\n",
    "#read statistics\n",
    "filename=data_dir+'/STAT_%s.pickle'%file_index\n",
    "print \"File Name\"\n",
    "print filename\n",
    "STAT,STAT_Descriptions = load(open(filename,'rb'))\n",
    "print 'keys from STAT=',STAT.keys()\n",
    "\n",
    "#read data\n",
    "filename=data_dir+'/US_Weather_%s.parquet'%file_index\n",
    "print filename\n",
    "\n",
    "df=sqlContext.read.parquet(filename)\n",
    "print df.count()\n",
    "df.show(50)"
   ]
  },
  {
   "cell_type": "code",
   "execution_count": 18,
   "metadata": {
    "collapsed": false
   },
   "outputs": [
    {
     "name": "stdout",
     "output_type": "stream",
     "text": [
      "+---------+--------+---------+-----------+-----------+------+--------------------+------+--------+\n",
      "|elevation|latitude|longitude|measurement|    station|undefs|              vector|  year|   label|\n",
      "+---------+--------+---------+-----------+-----------+------+--------------------+------+--------+\n",
      "|   3126.0| 39.3333|-106.3333|       TMAX|USC00058212|     4|[00 CF 00 D3 80 D...|1952.0|SSSBBBBB|\n",
      "|   3126.0| 39.3333|-106.3333|       TMIN|USC00058212|    13|[A0 DB 00 7E 28 D...|1952.0|SSSBBBBB|\n",
      "|   3126.0| 39.3333|-106.3333|       TOBS|USC00058212|     2|[40 D6 28 D8 E0 D...|1952.0|SSSBBBBB|\n",
      "|   3340.6| 39.5667|   -105.8|       TMAX|USS0005K26S|     8|[20 D0 E0 D5 00 7...|1999.0|SSSBBBBB|\n",
      "|   3340.6| 39.5667|   -105.8|       TMAX|USS0005K26S|     3|[00 46 00 D3 00 7...|2000.0|SSSBBBBB|\n",
      "|   3340.6| 39.5667|   -105.8|       TMAX|USS0005K26S|     1|[00 C6 00 C6 20 5...|2001.0|SSSBBBBB|\n",
      "|   3340.6| 39.5667|   -105.8|       TMAX|USS0005K26S|     6|[80 D4 80 CD 20 5...|2002.0|SSSBBBBB|\n",
      "|   3340.6| 39.5667|   -105.8|       TMAX|USS0005K26S|     6|[80 D1 80 C9 00 4...|2003.0|SSSBBBBB|\n",
      "|   3340.6| 39.5667|   -105.8|       TMAX|USS0005K26S|     7|[40 4C 80 D1 80 D...|2004.0|SSSBBBBB|\n",
      "|   3340.6| 39.5667|   -105.8|       TMAX|USS0005K26S|     8|[00 46 00 46 00 4...|2005.0|SSSBBBBB|\n",
      "|   3340.6| 39.5667|   -105.8|       TMAX|USS0005K26S|     2|[80 C9 20 50 00 4...|2006.0|SSSBBBBB|\n",
      "|   3340.6| 39.5667|   -105.8|       TMAX|USS0005K26S|    11|[80 4D 80 4D 20 5...|2007.0|SSSBBBBB|\n",
      "|   3340.6| 39.5667|   -105.8|       TMAX|USS0005K26S|     6|[00 46 00 CF A0 D...|2010.0|SSSBBBBB|\n",
      "|   3340.6| 39.5667|   -105.8|       TMAX|USS0005K26S|    23|[00 7E 30 D4 A0 D...|2011.0|SSSBBBBB|\n",
      "|   3340.6| 39.5667|   -105.8|       TMAX|USS0005K26S|    24|[00 7E 40 52 80 5...|2012.0|SSSBBBBB|\n",
      "|   2680.1| 39.4905|-105.5239|       PRCP|US1COPK0069|    32|[00 00 00 00 00 0...|2006.0|SSSBBBBB|\n",
      "|   2680.1| 39.4905|-105.5239|       PRCP|US1COPK0069|    14|[00 00 00 00 00 0...|2007.0|SSSBBBBB|\n",
      "|   2680.1| 39.4905|-105.5239|       PRCP|US1COPK0069|    23|[00 00 00 00 00 0...|2008.0|SSSBBBBB|\n",
      "|   2680.1| 39.4905|-105.5239|       PRCP|US1COPK0069|    26|[00 00 00 00 00 0...|2009.0|SSSBBBBB|\n",
      "|   2680.1| 39.4905|-105.5239|       PRCP|US1COPK0069|    10|[00 00 00 00 00 0...|2010.0|SSSBBBBB|\n",
      "|   2680.1| 39.4905|-105.5239|       PRCP|US1COPK0069|    10|[00 00 00 00 00 0...|2011.0|SSSBBBBB|\n",
      "|   2680.1| 39.4905|-105.5239|       PRCP|US1COPK0069|     6|[00 00 00 00 00 0...|2012.0|SSSBBBBB|\n",
      "|   3126.0| 39.3333|-106.3333|       PRCP|USC00058212|    15|[00 00 00 00 40 4...|1900.0|SSSBBBBB|\n",
      "|   3126.0| 39.3333|-106.3333|       PRCP|USC00058212|     2|[00 00 00 00 20 5...|1948.0|SSSBBBBB|\n",
      "|   3126.0| 39.3333|-106.3333|       PRCP|USC00058212|     0|[00 00 C0 50 80 4...|1949.0|SSSBBBBB|\n",
      "|   3126.0| 39.3333|-106.3333|       PRCP|USC00058212|     0|[00 00 80 4F 00 4...|1950.0|SSSBBBBB|\n",
      "|   3126.0| 39.3333|-106.3333|       PRCP|USC00058212|     0|[20 54 00 00 C0 4...|1951.0|SSSBBBBB|\n",
      "|   3126.0| 39.3333|-106.3333|       PRCP|USC00058212|     0|[00 00 00 00 00 0...|1952.0|SSSBBBBB|\n",
      "|   3340.6| 39.5667|   -105.8|       TMIN|USS0005K26S|    12|[A0 D7 E0 D8 38 D...|1999.0|SSSBBBBB|\n",
      "|   3340.6| 39.5667|   -105.8|       TMIN|USS0005K26S|     1|[E0 D5 08 D9 90 D...|2000.0|SSSBBBBB|\n",
      "|   3340.6| 39.5667|   -105.8|       TMIN|USS0005K26S|     1|[A0 D7 80 D8 A0 D...|2001.0|SSSBBBBB|\n",
      "|   3340.6| 39.5667|   -105.8|       TMIN|USS0005K26S|     5|[B0 D8 90 D9 30 D...|2002.0|SSSBBBBB|\n",
      "|   3340.6| 39.5667|   -105.8|       TMIN|USS0005K26S|     2|[00 D8 00 D8 E0 D...|2003.0|SSSBBBBB|\n",
      "|   3340.6| 39.5667|   -105.8|       TMIN|USS0005K26S|     5|[E0 D5 90 D5 B0 D...|2004.0|SSSBBBBB|\n",
      "|   3340.6| 39.5667|   -105.8|       TMIN|USS0005K26S|     2|[28 D8 B0 D8 E0 D...|2005.0|SSSBBBBB|\n",
      "|   3340.6| 39.5667|   -105.8|       TMIN|USS0005K26S|     0|[30 D5 80 D4 E0 D...|2006.0|SSSBBBBB|\n",
      "|   3340.6| 39.5667|   -105.8|       TMIN|USS0005K26S|    10|[E0 D5 40 D2 00 C...|2007.0|SSSBBBBB|\n",
      "|   3340.6| 39.5667|   -105.8|       TMIN|USS0005K26S|     5|[40 D6 40 D6 F0 D...|2010.0|SSSBBBBB|\n",
      "|   3340.6| 39.5667|   -105.8|       TMIN|USS0005K26S|    22|[D0 DB 90 D9 F0 D...|2011.0|SSSBBBBB|\n",
      "|   3340.6| 39.5667|   -105.8|       TMIN|USS0005K26S|    23|[00 7E 80 D1 80 D...|2012.0|SSSBBBBB|\n",
      "|   1865.4| 39.5122|-107.7492|       TMAX|USR0000CRIF|     4|[00 CE 00 42 C0 4...|1985.0|SSSBBBBB|\n",
      "|   1865.4| 39.5122|-107.7492|       TMAX|USR0000CRIF|     6|[E0 50 80 4B 00 C...|1987.0|SSSBBBBB|\n",
      "|   1865.4| 39.5122|-107.7492|       TMAX|USR0000CRIF|     3|[40 4D 00 CA 60 D...|1988.0|SSSBBBBB|\n",
      "|   1865.4| 39.5122|-107.7492|       TMAX|USR0000CRIF|     2|[00 47 00 44 C0 5...|1989.0|SSSBBBBB|\n",
      "|   1865.4| 39.5122|-107.7492|       TMAX|USR0000CRIF|     4|[00 53 80 51 20 D...|1990.0|SSSBBBBB|\n",
      "|   1865.4| 39.5122|-107.7492|       TMAX|USR0000CRIF|     0|[40 CC 00 00 80 C...|1991.0|SSSBBBBB|\n",
      "|   1865.4| 39.5122|-107.7492|       TMAX|USR0000CRIF|     0|[00 46 00 00 40 D...|1992.0|SSSBBBBB|\n",
      "|   1865.4| 39.5122|-107.7492|       TMAX|USR0000CRIF|    13|[E0 54 E0 54 80 C...|1993.0|SSSBBBBB|\n",
      "|   1865.4| 39.5122|-107.7492|       TMAX|USR0000CRIF|     1|[40 CC 00 53 80 4...|1994.0|SSSBBBBB|\n",
      "|   1865.4| 39.5122|-107.7492|       TMAX|USR0000CRIF|     3|[00 7E 00 7E 80 4...|1995.0|SSSBBBBB|\n",
      "|   1865.4| 39.5122|-107.7492|       TMAX|USR0000CRIF|     3|[00 00 40 CC 80 C...|1996.0|SSSBBBBB|\n",
      "|   1865.4| 39.5122|-107.7492|       TMAX|USR0000CRIF|     2|[E0 50 90 55 20 5...|1997.0|SSSBBBBB|\n",
      "|   1865.4| 39.5122|-107.7492|       TMAX|USR0000CRIF|     0|[40 52 A0 56 A0 5...|1998.0|SSSBBBBB|\n",
      "|   1865.4| 39.5122|-107.7492|       TMAX|USR0000CRIF|     0|[E0 50 80 49 00 4...|1999.0|SSSBBBBB|\n",
      "|   1865.4| 39.5122|-107.7492|       TMAX|USR0000CRIF|     0|[80 49 00 46 00 0...|2000.0|SSSBBBBB|\n",
      "|   1865.4| 39.5122|-107.7492|       TMAX|USR0000CRIF|     0|[20 50 E0 50 40 5...|2001.0|SSSBBBBB|\n",
      "|   1865.4| 39.5122|-107.7492|       TMAX|USR0000CRIF|     0|[00 46 40 4C 40 5...|2002.0|SSSBBBBB|\n",
      "|   1865.4| 39.5122|-107.7492|       TMAX|USR0000CRIF|     0|[E0 50 80 51 80 5...|2003.0|SSSBBBBB|\n",
      "|   1865.4| 39.5122|-107.7492|       TMAX|USR0000CRIF|     0|[00 53 20 50 00 0...|2004.0|SSSBBBBB|\n",
      "|   1865.4| 39.5122|-107.7492|       TMAX|USR0000CRIF|     0|[30 54 80 51 30 5...|2005.0|SSSBBBBB|\n",
      "|   1865.4| 39.5122|-107.7492|       TMAX|USR0000CRIF|     0|[E0 50 E0 55 90 5...|2006.0|SSSBBBBB|\n",
      "|   1865.4| 39.5122|-107.7492|       TMAX|USR0000CRIF|     0|[80 54 80 51 40 5...|2007.0|SSSBBBBB|\n",
      "|   1865.4| 39.5122|-107.7492|       TMAX|USR0000CRIF|     0|[80 CD 80 49 40 C...|2008.0|SSSBBBBB|\n",
      "|   1865.4| 39.5122|-107.7492|       TMAX|USR0000CRIF|     0|[00 46 E0 50 00 4...|2009.0|SSSBBBBB|\n",
      "|   1865.4| 39.5122|-107.7492|       TMAX|USR0000CRIF|     0|[00 4F 80 49 E0 5...|2010.0|SSSBBBBB|\n",
      "|   2385.1| 39.3619|-106.7422|       TMAX|USC00055507|     1|[E0 54 00 46 00 4...|1964.0|SSSBBBBB|\n",
      "|   2385.1| 39.3619|-106.7422|       TMAX|USC00055507|     2|[40 CC E0 D0 80 4...|1965.0|SSSBBBBB|\n",
      "|   2385.1| 39.3619|-106.7422|       TMAX|USC00055507|    33|[80 CD 30 D4 00 C...|1966.0|SSSBBBBB|\n",
      "|   2385.1| 39.3619|-106.7422|       TMAX|USC00055507|    46|[E0 50 80 49 80 4...|1969.0|SSSBBBBB|\n",
      "|   2385.1| 39.3619|-106.7422|       TMAX|USC00055507|    43|[00 7E 80 CD A0 D...|1975.0|SSSBBBBB|\n",
      "|   2385.1| 39.3619|-106.7422|       TMAX|USC00055507|     2|[80 D4 F0 D6 00 7...|1976.0|SSSBBBBB|\n",
      "|   2385.1| 39.3619|-106.7422|       TMAX|USC00055507|     1|[80 C9 40 CC 40 C...|1977.0|SSSBBBBB|\n",
      "|   2385.1| 39.3619|-106.7422|       TMAX|USC00055507|     1|[E0 D0 00 CF 20 D...|1978.0|SSSBBBBB|\n",
      "|   2385.1| 39.3619|-106.7422|       TMAX|USC00055507|     4|[E0 D4 00 7E 00 7...|1979.0|SSSBBBBB|\n",
      "|   2385.1| 39.3619|-106.7422|       TMAX|USC00055507|     0|[30 54 80 51 80 C...|1980.0|SSSBBBBB|\n",
      "|   2385.1| 39.3619|-106.7422|       TMAX|USC00055507|     3|[90 55 90 55 E0 5...|1981.0|SSSBBBBB|\n",
      "|   2385.1| 39.3619|-106.7422|       TMAX|USC00055507|     0|[40 CC 80 C9 E0 D...|1982.0|SSSBBBBB|\n",
      "|   2385.1| 39.3619|-106.7422|       TMAX|USC00055507|     1|[00 D3 00 53 80 4...|1983.0|SSSBBBBB|\n",
      "|   2385.1| 39.3619|-106.7422|       TMAX|USC00055507|     6|[00 7E 00 7E 40 4...|1984.0|SSSBBBBB|\n",
      "|   2385.1| 39.3619|-106.7422|       TMAX|USC00055507|     5|[00 46 00 D3 30 D...|1985.0|SSSBBBBB|\n",
      "|   2385.1| 39.3619|-106.7422|       TMAX|USC00055507|    38|[00 7E 80 4D 40 4...|1986.0|SSSBBBBB|\n",
      "|   2385.1| 39.3619|-106.7422|       TMAX|USC00055507|     4|[80 D1 20 50 30 D...|1987.0|SSSBBBBB|\n",
      "|   2385.1| 39.3619|-106.7422|       TMAX|USC00055507|    19|[E0 D0 F0 D6 00 7...|1988.0|SSSBBBBB|\n",
      "|   2385.1| 39.3619|-106.7422|       TMAX|USC00055507|    21|[E0 D0 00 CF 80 4...|1989.0|SSSBBBBB|\n",
      "|   2385.1| 39.3619|-106.7422|       TMAX|USC00055507|    28|[00 7E 80 51 00 4...|1990.0|SSSBBBBB|\n",
      "|   2385.1| 39.3619|-106.7422|       TMAX|USC00055507|     4|[40 4C E0 50 00 5...|1991.0|SSSBBBBB|\n",
      "|   2385.1| 39.3619|-106.7422|       TMAX|USC00055507|     7|[00 CF 00 7E 20 5...|1992.0|SSSBBBBB|\n",
      "|   2385.1| 39.3619|-106.7422|       TMAX|USC00055507|    13|[30 54 00 4F 30 D...|1993.0|SSSBBBBB|\n",
      "|   2385.1| 39.3619|-106.7422|       TMAX|USC00055507|    30|[40 D2 20 D0 40 D...|1994.0|SSSBBBBB|\n",
      "|   2385.1| 39.3619|-106.7422|       TMAX|USC00055507|     4|[80 D1 E0 50 80 C...|1996.0|SSSBBBBB|\n",
      "|   2385.1| 39.3619|-106.7422|       TMAX|USC00055507|    13|[E0 55 00 7E 30 5...|1997.0|SSSBBBBB|\n",
      "|   2385.1| 39.3619|-106.7422|       TMAX|USC00055507|    11|[E0 54 30 55 30 5...|1998.0|SSSBBBBB|\n",
      "|   2385.1| 39.3619|-106.7422|       TMAX|USC00055507|    12|[00 7E 00 7E 00 7...|1999.0|SSSBBBBB|\n",
      "|   2385.1| 39.3619|-106.7422|       TMAX|USC00055507|    22|[20 50 40 CC 00 D...|2000.0|SSSBBBBB|\n",
      "|   2385.1| 39.3619|-106.7422|       TMAX|USC00055507|     0|[30 54 40 52 E0 5...|2001.0|SSSBBBBB|\n",
      "|   2385.1| 39.3619|-106.7422|       TMAX|USC00055507|    11|[00 D3 80 CD 80 C...|2002.0|SSSBBBBB|\n",
      "|   2385.1| 39.3619|-106.7422|       TMAX|USC00055507|    27|[00 7E 00 7E 00 7...|2005.0|SSSBBBBB|\n",
      "|   2385.1| 39.3619|-106.7422|       TMAX|USC00055507|     0|[00 00 00 4F 80 5...|2006.0|SSSBBBBB|\n",
      "|   3169.9| 39.2833|  -106.55|       TMAX|USS0006K10S|    11|[40 CC 00 53 30 5...|1992.0|SSSBBBBB|\n",
      "|   3169.9| 39.2833|  -106.55|       TMAX|USS0006K10S|    12|[E0 54 00 4F A0 D...|1993.0|SSSBBBBB|\n",
      "+---------+--------+---------+-----------+-----------+------+--------------------+------+--------+\n",
      "only showing top 100 rows\n",
      "\n"
     ]
    }
   ],
   "source": [
    "df.show(100)"
   ]
  },
  {
   "cell_type": "code",
   "execution_count": 21,
   "metadata": {
    "collapsed": false
   },
   "outputs": [
    {
     "name": "stdout",
     "output_type": "stream",
     "text": [
      "SELECT * FROM weather2\n",
      "\tWHERE measurement='SNWD' and station='USC00055507'\n",
      "17 rows\n",
      "+---------+--------+---------+-----------+-----------+------+--------------------+------+--------+\n",
      "|elevation|latitude|longitude|measurement|    station|undefs|              vector|  year|   label|\n",
      "+---------+--------+---------+-----------+-----------+------+--------------------+------+--------+\n",
      "|   2385.1| 39.3619|-106.7422|       SNWD|USC00055507|    45|[00 7E F6 60 C4 6...|1968.0|SSSBBBBB|\n",
      "|   2385.1| 39.3619|-106.7422|       SNWD|USC00055507|    12|[28 5B 28 5B 28 5...|1969.0|SSSBBBBB|\n",
      "|   2385.1| 39.3619|-106.7422|       SNWD|USC00055507|    15|[C4 5C C4 5C C4 5...|1970.0|SSSBBBBB|\n",
      "|   2385.1| 39.3619|-106.7422|       SNWD|USC00055507|    40|[00 7E 00 7E 00 7...|1971.0|SSSBBBBB|\n",
      "|   2385.1| 39.3619|-106.7422|       SNWD|USC00055507|    43|[00 7E 00 7E 90 6...|1972.0|SSSBBBBB|\n",
      "|   2385.1| 39.3619|-106.7422|       SNWD|USC00055507|    49|[00 7E 5E 60 2A 6...|1974.0|SSSBBBBB|\n",
      "|   2385.1| 39.3619|-106.7422|       SNWD|USC00055507|    26|[C4 5C C4 5C C4 5...|1976.0|SSSBBBBB|\n",
      "|   2385.1| 39.3619|-106.7422|       SNWD|USC00055507|    36|[00 7E 00 7E 60 5...|1977.0|SSSBBBBB|\n",
      "|   2385.1| 39.3619|-106.7422|       SNWD|USC00055507|    43|[00 7E 00 7E C0 5...|1978.0|SSSBBBBB|\n",
      "|   2385.1| 39.3619|-106.7422|       SNWD|USC00055507|    26|[00 7E 90 59 58 5...|1980.0|SSSBBBBB|\n",
      "|   2385.1| 39.3619|-106.7422|       SNWD|USC00055507|    34|[00 7E 00 7E C0 5...|1992.0|SSSBBBBB|\n",
      "|   2385.1| 39.3619|-106.7422|       SNWD|USC00055507|     3|[90 59 90 59 90 5...|1994.0|SSSBBBBB|\n",
      "|   2385.1| 39.3619|-106.7422|       SNWD|USC00055507|    16|[28 5B 28 5B 28 5...|1995.0|SSSBBBBB|\n",
      "|   2385.1| 39.3619|-106.7422|       SNWD|USC00055507|    29|[58 5E 58 5E F4 5...|1996.0|SSSBBBBB|\n",
      "|   2385.1| 39.3619|-106.7422|       SNWD|USC00055507|    44|[8C 5F 00 7E 00 7...|1997.0|SSSBBBBB|\n",
      "|   2385.1| 39.3619|-106.7422|       SNWD|USC00055507|    16|[C4 5C C4 5C C4 5...|2001.0|SSSBBBBB|\n",
      "|   2385.1| 39.3619|-106.7422|       SNWD|USC00055507|    22|[28 5D 28 5D 28 5...|2002.0|SSSBBBBB|\n",
      "+---------+--------+---------+-----------+-----------+------+--------------------+------+--------+\n",
      "\n"
     ]
    },
    {
     "data": {
      "text/plain": [
       "(17, 365)"
      ]
     },
     "execution_count": 21,
     "metadata": {},
     "output_type": "execute_result"
    }
   ],
   "source": [
    "#To perform Hypothesis Testing on SNWD\n",
    "sqlContext.registerDataFrameAsTable(df,'weather2')\n",
    "Query=\"SELECT * FROM weather2\\n\\tWHERE measurement='%s' and station='%s'\"%('SNWD','USC00055507')\n",
    "print Query\n",
    "dfSnow = sqlContext.sql(Query)\n",
    "print dfSnow.count(),'rows'\n",
    "dfSnow.show(20)\n",
    "rows=dfSnow.rdd.map(lambda row:unpackArray(row['vector'],np.float16)).collect()\n",
    "TSnow=np.vstack(rows)\n",
    "#TSNOW=T/10.  # scaling to make the temperature be in centingrates\n",
    "shape(TSnow)\n",
    "\n"
   ]
  },
  {
   "cell_type": "code",
   "execution_count": 22,
   "metadata": {
    "collapsed": false
   },
   "outputs": [
    {
     "name": "stdout",
     "output_type": "stream",
     "text": [
      "SELECT vector FROM snow1\n",
      "\tWHERE year = 2001\n",
      "1 rows\n",
      "+--------------------+\n",
      "|              vector|\n",
      "+--------------------+\n",
      "|[C4 5C C4 5C C4 5...|\n",
      "+--------------------+\n",
      "\n",
      "SELECT vector FROM snow2\n",
      "\tWHERE year = 2002\n",
      "1 rows\n",
      "+--------------------+\n",
      "|              vector|\n",
      "+--------------------+\n",
      "|[28 5D 28 5D 28 5...|\n",
      "+--------------------+\n",
      "\n"
     ]
    },
    {
     "data": {
      "text/plain": [
       "(1, 365)"
      ]
     },
     "execution_count": 22,
     "metadata": {},
     "output_type": "execute_result"
    }
   ],
   "source": [
    "sqlContext.registerDataFrameAsTable(dfSnow,'snow1')\n",
    "Query=\"SELECT vector FROM snow1\\n\\tWHERE year = 2001\"\n",
    "print Query\n",
    "dfSnow2001 = sqlContext.sql(Query)\n",
    "print dfSnow2001.count(),'rows'\n",
    "dfSnow2001.show(20)\n",
    "rows=dfSnow2001.rdd.map(lambda row:unpackArray(row['vector'],np.float16)).collect()\n",
    "TSnow2001=np.vstack(rows)\n",
    "#TSNOW=T/10.  # scaling to make the temperature be in centingrates\n",
    "shape(TSnow2001)\n",
    "\n",
    "\n",
    "sqlContext.registerDataFrameAsTable(dfSnow,'snow2')\n",
    "Query=\"SELECT vector FROM snow2\\n\\tWHERE year = 2002\"\n",
    "print Query\n",
    "dfSnow2002 = sqlContext.sql(Query)\n",
    "print dfSnow2002.count(),'rows'\n",
    "dfSnow2002.show(20)\n",
    "rows=dfSnow2002.rdd.map(lambda row:unpackArray(row['vector'],np.float16)).collect()\n",
    "TSnow2002=np.vstack(rows)\n",
    "#TSNOW=T/10.  # scaling to make the temperature be in centingrates\n",
    "shape(TSnow2002)\n",
    "\n"
   ]
  },
  {
   "cell_type": "code",
   "execution_count": 32,
   "metadata": {
    "collapsed": false
   },
   "outputs": [
    {
     "data": {
      "text/plain": [
       "Ttest_indResult(statistic=3.8828224207154958, pvalue=0.00011348443607745816)"
      ]
     },
     "execution_count": 32,
     "metadata": {},
     "output_type": "execute_result"
    }
   ],
   "source": [
    "#2-sample t-test \n",
    "\n",
    "import scipy\n",
    "\n",
    "scipy.stats.ttest_ind(TSnow2001[0][:],TSnow2002[0][:], equal_var = False, nan_policy ='omit')\n",
    "\n",
    "#Since p-value < 0.05, I would reject my null hypothesis that both year exhibited same property for SNOW!"
   ]
  },
  {
   "cell_type": "code",
   "execution_count": 34,
   "metadata": {
    "collapsed": false
   },
   "outputs": [
    {
     "name": "stdout",
     "output_type": "stream",
     "text": [
      "SELECT * FROM weatherTobs\n",
      "\tWHERE measurement='TOBS' and station='USC00055507'\n",
      "3 rows\n",
      "+---------+--------+---------+-----------+-----------+------+--------------------+------+--------+\n",
      "|elevation|latitude|longitude|measurement|    station|undefs|              vector|  year|   label|\n",
      "+---------+--------+---------+-----------+-----------+------+--------------------+------+--------+\n",
      "|   2385.1| 39.3619|-106.7422|       TOBS|USC00055507|     5|[30 D4 80 CD 28 D...|1964.0|SSSBBBBB|\n",
      "|   2385.1| 39.3619|-106.7422|       TOBS|USC00055507|     4|[40 D6 00 7E 40 D...|1965.0|SSSBBBBB|\n",
      "|   2385.1| 39.3619|-106.7422|       TOBS|USC00055507|    38|[F0 D6 00 7E E0 D...|1966.0|SSSBBBBB|\n",
      "+---------+--------+---------+-----------+-----------+------+--------------------+------+--------+\n",
      "\n"
     ]
    },
    {
     "data": {
      "text/plain": [
       "(3, 365)"
      ]
     },
     "execution_count": 34,
     "metadata": {},
     "output_type": "execute_result"
    }
   ],
   "source": [
    "#To perform Hypothesis Testing on TOBS\n",
    "sqlContext.registerDataFrameAsTable(df,'weatherTobs')\n",
    "Query=\"SELECT * FROM weatherTobs\\n\\tWHERE measurement='%s' and station='%s'\"%('TOBS','USC00055507')\n",
    "print Query\n",
    "dfTobs = sqlContext.sql(Query)\n",
    "print dfTobs.count(),'rows'\n",
    "dfTobs.show(20)\n",
    "rows=dfTobs.rdd.map(lambda row:unpackArray(row['vector'],np.float16)).collect()\n",
    "TTobs=np.vstack(rows)\n",
    "TTobs=TTobs/10.  # scaling to make the temperature be in centingrates\n",
    "shape(TTobs)\n"
   ]
  },
  {
   "cell_type": "code",
   "execution_count": 36,
   "metadata": {
    "collapsed": false
   },
   "outputs": [
    {
     "name": "stdout",
     "output_type": "stream",
     "text": [
      "SELECT vector FROM tobs1\n",
      "\tWHERE year = 1965\n",
      "1 rows\n",
      "+--------------------+\n",
      "|              vector|\n",
      "+--------------------+\n",
      "|[40 D6 00 7E 40 D...|\n",
      "+--------------------+\n",
      "\n",
      "SELECT vector FROM tobs2\n",
      "\tWHERE year = 1966\n",
      "1 rows\n",
      "+--------------------+\n",
      "|              vector|\n",
      "+--------------------+\n",
      "|[F0 D6 00 7E E0 D...|\n",
      "+--------------------+\n",
      "\n"
     ]
    },
    {
     "data": {
      "text/plain": [
       "(1, 365)"
      ]
     },
     "execution_count": 36,
     "metadata": {},
     "output_type": "execute_result"
    }
   ],
   "source": [
    "sqlContext.registerDataFrameAsTable(dfTobs,'tobs1')\n",
    "Query=\"SELECT vector FROM tobs1\\n\\tWHERE year = 1965\"\n",
    "print Query\n",
    "dfTobs1965 = sqlContext.sql(Query)\n",
    "print dfTobs1965.count(),'rows'\n",
    "dfTobs1965.show(20)\n",
    "rows=dfTobs1965.rdd.map(lambda row:unpackArray(row['vector'],np.float16)).collect()\n",
    "TTobs1965=np.vstack(rows)\n",
    "TTobs1965=TTobs1965/10.  # scaling to make the temperature be in centingrates\n",
    "shape(TTobs1965)\n",
    "\n",
    "\n",
    "sqlContext.registerDataFrameAsTable(dfTobs,'tobs2')\n",
    "Query=\"SELECT vector FROM tobs2\\n\\tWHERE year = 1966\"\n",
    "print Query\n",
    "dfTobs1966 = sqlContext.sql(Query)\n",
    "print dfTobs1966.count(),'rows'\n",
    "dfTobs1966.show(20)\n",
    "rows=dfTobs1966.rdd.map(lambda row:unpackArray(row['vector'],np.float16)).collect()\n",
    "TTobs1966=np.vstack(rows)\n",
    "TTobs1966=TTobs1966/10.  # scaling to make the temperature be in centingrates\n",
    "shape(TTobs1966)"
   ]
  },
  {
   "cell_type": "code",
   "execution_count": 37,
   "metadata": {
    "collapsed": false
   },
   "outputs": [
    {
     "data": {
      "text/plain": [
       "Ttest_indResult(statistic=-3.2287747889292979, pvalue=0.0013068420800118367)"
      ]
     },
     "execution_count": 37,
     "metadata": {},
     "output_type": "execute_result"
    }
   ],
   "source": [
    "scipy.stats.ttest_ind(TTobs1965[0][:],TTobs1966[0][:], equal_var = False, nan_policy ='omit')\n",
    "\n",
    "#Since p-value < 0.05, I would reject my null hypothesis that both year exhibited same property for TOBS!"
   ]
  },
  {
   "cell_type": "code",
   "execution_count": 73,
   "metadata": {
    "collapsed": false
   },
   "outputs": [
    {
     "name": "stdout",
     "output_type": "stream",
     "text": [
      "SELECT * FROM weather2\n",
      "\tWHERE measurement='SNWD' and year=2011\n",
      "21 rows\n",
      "+---------+--------+---------+-----------+-----------+------+--------------------+------+--------+\n",
      "|elevation|latitude|longitude|measurement|    station|undefs|              vector|  year|   label|\n",
      "+---------+--------+---------+-----------+-----------+------+--------------------+------+--------+\n",
      "|   1761.7| 39.7611|-105.2297|       SNWD|US1COJF0040|     2|[90 55 C0 54 60 5...|2011.0|SSSBBBBB|\n",
      "|   1480.7| 39.1342|  -108.54|       SNWD|USW00023066|    34|[C0 54 60 52 60 5...|2011.0|SSSBBBBB|\n",
      "|   1719.1| 39.7489|-105.1206|       SNWD|USC00054762|     3|[C0 54 40 4E 40 4...|2011.0|SSSBBBBB|\n",
      "|   1667.0| 39.5572|-107.7261|       SNWD|USC00057033|     0|[F0 57 F0 57 F0 5...|2011.0|SSSBBBBB|\n",
      "|   2763.0| 39.6261|-106.0353|       SNWD|USC00052281|     2|[58 5A 58 5A 58 5...|2011.0|SSSBBBBB|\n",
      "|   3054.1| 39.6553|-105.7089|       SNWD|USC00051186|     1|[28 5D 28 5D 28 5...|2011.0|SSSBBBBB|\n",
      "|   1751.1| 39.6774|-105.1367|       SNWD|US1COJF0333|    36|[90 55 C0 54 00 5...|2011.0|SSSBBBBB|\n",
      "|   2292.1|   39.72|-105.2456|       SNWD|USC00053387|     0|[60 56 C0 54 C0 5...|2011.0|SSSBBBBB|\n",
      "|   2410.1| 39.5677| -105.308|       SNWD|US1COJF0125|     1|[F0 57 20 57 60 5...|2011.0|SSSBBBBB|\n",
      "|   2920.0| 39.4861|-106.0431|       SNWD|USC00050909|    38|[F6 60 F6 60 5C 6...|2011.0|SSSBBBBB|\n",
      "|   3442.4| 39.3672|-106.1897|       SNWD|USC00051660|    24|[F0 63 F0 63 F0 6...|2011.0|SSSBBBBB|\n",
      "|   1780.0| 39.4344|-105.1208|       SNWD|USC00058022|     0|[F0 57 60 56 C0 5...|2011.0|SSSBBBBB|\n",
      "|   2644.1| 39.4608|-105.6786|       SNWD|USC00053530|     5|[60 56 C0 54 C0 5...|2011.0|SSSBBBBB|\n",
      "|   2356.1| 39.4047|-105.4767|       SNWD|USC00050454|     1|[60 56 60 56 60 5...|2011.0|SSSBBBBB|\n",
      "|   2097.0| 39.2203|-105.2783|       SNWD|USC00051528|     2|[F0 57 60 56 C0 5...|2011.0|SSSBBBBB|\n",
      "|   1831.5| 39.2367|-107.9797|       SNWD|USC00051743|     0|[F0 57 60 56 C0 5...|2011.0|SSSBBBBB|\n",
      "|   2455.5| 39.1853|-106.8381|       SNWD|USC00050372|     0|[90 5D 90 5D 90 5...|2011.0|SSSBBBBB|\n",
      "|   3046.5| 39.2219|-105.9936|       SNWD|USC00052816|    18|[00 7E 00 7E 60 5...|2011.0|SSSBBBBB|\n",
      "|   2596.9| 39.7053|-105.6997|       SNWD|USC00053261|     2|[C0 54 C0 54 C0 5...|2011.0|SSSBBBBB|\n",
      "|   2129.0| 39.6381| -105.315|       SNWD|USC00052790|     0|[60 56 00 00 C0 5...|2011.0|SSSBBBBB|\n",
      "|   2648.1| 39.8143|-105.3945|       SNWD|US1COJF0276|    41|[C0 54 C0 54 C0 5...|2011.0|SSSBBBBB|\n",
      "+---------+--------+---------+-----------+-----------+------+--------------------+------+--------+\n",
      "\n"
     ]
    },
    {
     "data": {
      "text/plain": [
       "(21, 365)"
      ]
     },
     "execution_count": 73,
     "metadata": {},
     "output_type": "execute_result"
    }
   ],
   "source": [
    "#To perform t-test across stations\n",
    "\n",
    "\n",
    "sqlContext.registerDataFrameAsTable(df,'weatherSNWD')\n",
    "Query=\"SELECT * FROM weather2\\n\\tWHERE measurement='SNWD' and year=2011\"\n",
    "#'%s' and station='%s'\"%('SNWD','USC00055507')\n",
    "print Query\n",
    "dfSNWDSt = sqlContext.sql(Query)\n",
    "print dfSNWDSt.count(),'rows'\n",
    "dfSNWDSt.show(100)\n",
    "rows=dfSNWDSt.rdd.map(lambda row:unpackArray(row['vector'],np.float16)).collect()\n",
    "TSNWDSt=np.vstack(rows)\n",
    "#TSNOW=T/10.  # scaling to make the temperature be in centingrates\n",
    "shape(TSNWDSt)\n"
   ]
  },
  {
   "cell_type": "code",
   "execution_count": 79,
   "metadata": {
    "collapsed": false
   },
   "outputs": [
    {
     "data": {
      "text/plain": [
       "Ttest_indResult(statistic=1.6979829767391046, pvalue=0.089978419008075627)"
      ]
     },
     "execution_count": 79,
     "metadata": {},
     "output_type": "execute_result"
    }
   ],
   "source": [
    "#Considering 2 nearby stations\n",
    "TSNWDStn1 = TSNWDSt[0] #Station: US1COJF0040\n",
    "TSNWDStn2 = TSNWDSt[2] #Station: USC00054762\n",
    "\n",
    "#Since p-value > 0.05, I cannot reject my null hypothesis that both stations exhibited same property for TOBS\n",
    "scipy.stats.ttest_ind(TSNWDStn1,TSNWDStn2, equal_var = False, nan_policy ='omit')"
   ]
  },
  {
   "cell_type": "code",
   "execution_count": 75,
   "metadata": {
    "collapsed": false
   },
   "outputs": [
    {
     "name": "stdout",
     "output_type": "stream",
     "text": [
      "SELECT * FROM weatherTOBS\n",
      "\tWHERE measurement='TOBS' and year=2011\n",
      "36 rows\n",
      "+---------+--------+---------+-----------+-----------+------+--------------------+------+--------+\n",
      "|elevation|latitude|longitude|measurement|    station|undefs|              vector|  year|   label|\n",
      "+---------+--------+---------+-----------+-----------+------+--------------------+------+--------+\n",
      "|   2531.1| 39.6394|-106.3539|       TOBS|USC00058575|    27|[00 7E 00 7E 90 D...|2011.0|SSSBBBBB|\n",
      "|   3340.6| 39.5667|   -105.8|       TOBS|USS0005K26S|    25|[60 D9 90 D5 40 D...|2011.0|SSSBBBBB|\n",
      "|   2889.5|    39.6|-106.5333|       TOBS|USS0006K44S|    24|[00 7E E0 D5 30 D...|2011.0|SSSBBBBB|\n",
      "|   3474.7| 39.6667|   -105.9|       TOBS|USS0005K05S|    28|[00 7E A0 D6 58 D...|2011.0|SSSBBBBB|\n",
      "|   2763.0| 39.6261|-106.0353|       TOBS|USC00052281|    25|[00 7E 00 7E 90 D...|2011.0|SSSBBBBB|\n",
      "|   3230.9| 39.4333|-105.9167|       TOBS|USS0005K28S|    24|[E0 D8 80 D4 A0 D...|2011.0|SSSBBBBB|\n",
      "|   3444.2|    39.8|-105.7833|       TOBS|USS0005K14S|    29|[00 7E 40 D6 B0 D...|2011.0|SSSBBBBB|\n",
      "|   2895.6| 39.1333|-107.2833|       TOBS|USS0007K09S|    22|[00 7E 90 D5 30 D...|2011.0|SSSBBBBB|\n",
      "|   3200.4| 39.4833|-106.1667|       TOBS|USS0006K24S|    29|[00 7E E0 D5 38 D...|2011.0|SSSBBBBB|\n",
      "|   1667.0| 39.5572|-107.7261|       TOBS|USC00057033|    12|[00 7E 00 7E 80 D...|2011.0|SSSBBBBB|\n",
      "|   2097.0| 39.2203|-105.2783|       TOBS|USC00051528|    11|[00 7E 00 CF E0 D...|2011.0|SSSBBBBB|\n",
      "|   2596.9| 39.7053|-105.6997|       TOBS|USC00053261|     8|[00 7E 40 D2 40 D...|2011.0|SSSBBBBB|\n",
      "|   3054.1| 39.6553|-105.7089|       TOBS|USC00051186|    11|[00 7E E0 D4 E0 D...|2011.0|SSSBBBBB|\n",
      "|   1762.0| 39.1014|-108.7339|       TOBS|USC00051772|     5|[00 7E B0 D8 00 D...|2011.0|SSSBBBBB|\n",
      "|   2743.2| 39.7833|-106.0167|       TOBS|USS0006K12S|    41|[00 7E E0 D5 00 7...|2011.0|SSSBBBBB|\n",
      "|   1831.5| 39.2367|-107.9797|       TOBS|USC00051743|     9|[00 7E 00 7E 00 7...|2011.0|SSSBBBBB|\n",
      "|   3442.4| 39.3672|-106.1897|       TOBS|USC00051660|    23|[00 7E 00 7E 28 D...|2011.0|SSSBBBBB|\n",
      "|   3002.9| 39.1025|-107.8989|       TOBS|USC00050825|    19|[00 7E 00 D8 F0 D...|2011.0|SSSBBBBB|\n",
      "|   2356.1| 39.4047|-105.4767|       TOBS|USC00050454|    19|[38 D9 90 D5 A0 D...|2011.0|SSSBBBBB|\n",
      "|   1730.3| 39.5008|-108.3794|       TOBS|USC00050214|     3|[00 7E 28 D8 80 D...|2011.0|SSSBBBBB|\n",
      "|   3139.4| 39.6167|-106.3833|       TOBS|USS0006K39S|    24|[00 7E E0 D5 40 D...|2011.0|SSSBBBBB|\n",
      "|   2644.1| 39.4608|-105.6786|       TOBS|USC00053530|    15|[00 7E 30 D5 A0 D...|2011.0|SSSBBBBB|\n",
      "|   2865.1| 39.7167|-106.1667|       TOBS|USS0006K14S|    30|[00 7E 30 D5 08 D...|2011.0|SSSBBBBB|\n",
      "|   3046.5| 39.2219|-105.9936|       TOBS|USC00052816|    20|[00 7E E0 D4 80 D...|2011.0|SSSBBBBB|\n",
      "|   2455.5| 39.1853|-106.8381|       TOBS|USC00050372|     9|[00 7E 00 7E 28 D...|2011.0|SSSBBBBB|\n",
      "|   2292.1|   39.72|-105.2456|       TOBS|USC00053387|    14|[90 D5 40 D2 00 D...|2011.0|SSSBBBBB|\n",
      "|   2651.8|    39.3|   -106.6|       TOBS|USS0006K06S|    34|[00 7E 90 D5 00 7...|2011.0|SSSBBBBB|\n",
      "|   3169.9| 39.7667|   -105.9|       TOBS|USS0005K21S|    27|[00 7E 40 D6 08 D...|2011.0|SSSBBBBB|\n",
      "|   3230.9|   39.65|   -105.6|       TOBS|USS0005K27S|    33|[A0 D7 80 D4 30 D...|2011.0|SSSBBBBB|\n",
      "|   2129.0| 39.6381| -105.315|       TOBS|USC00052790|    11|[58 D8 30 D5 28 D...|2011.0|SSSBBBBB|\n",
      "|   2926.1| 39.3167|-106.6167|       TOBS|USS0006K30S|    31|[00 7E 90 D5 E0 D...|2011.0|SSSBBBBB|\n",
      "|   3316.2| 39.7667|  -107.35|       TOBS|USS0007K12S|    26|[00 7E F0 D6 F0 D...|2011.0|SSSBBBBB|\n",
      "|   2590.8|    39.6|-106.5167|       TOBS|USS0006K45S|    44|[00 7E 00 7E 00 7...|2011.0|SSSBBBBB|\n",
      "|   3474.7| 39.3833|   -106.2|       TOBS|USS0006K08S|    29|[00 7E E0 D5 B0 D...|2011.0|SSSBBBBB|\n",
      "|   1780.0| 39.4344|-105.1208|       TOBS|USC00058022|     7|[00 7E A0 D7 B0 D...|2011.0|SSSBBBBB|\n",
      "|   3398.5|    39.3|-106.1167|       TOBS|USS0006K16S|    25|[60 D9 90 D5 E0 D...|2011.0|SSSBBBBB|\n",
      "+---------+--------+---------+-----------+-----------+------+--------------------+------+--------+\n",
      "\n"
     ]
    },
    {
     "data": {
      "text/plain": [
       "(36, 365)"
      ]
     },
     "execution_count": 75,
     "metadata": {},
     "output_type": "execute_result"
    }
   ],
   "source": [
    "\n",
    "sqlContext.registerDataFrameAsTable(df,'weatherTOBS')\n",
    "Query=\"SELECT * FROM weatherTOBS\\n\\tWHERE measurement='TOBS' and year=2011\"\n",
    "#'%s' and station='%s'\"%('SNWD','USC00055507')\n",
    "print Query\n",
    "dfTBOSSt = sqlContext.sql(Query)\n",
    "print dfTBOSSt.count(),'rows'\n",
    "dfTBOSSt.show(100)\n",
    "rows=dfTBOSSt.rdd.map(lambda row:unpackArray(row['vector'],np.float16)).collect()\n",
    "TTBOSSt=np.vstack(rows)\n",
    "TTBOSSt=TTBOSSt/10.  # scaling to make the temperature be in centingrates\n",
    "shape(TTBOSSt)"
   ]
  },
  {
   "cell_type": "code",
   "execution_count": 77,
   "metadata": {
    "collapsed": false
   },
   "outputs": [
    {
     "data": {
      "text/plain": [
       "Ttest_indResult(statistic=0.96371626068985616, pvalue=0.3355554691923387)"
      ]
     },
     "execution_count": 77,
     "metadata": {},
     "output_type": "execute_result"
    }
   ],
   "source": [
    "#Considering 2 nearby stations\n",
    "TTOBSSt1 = TTBOSSt[0] #Station: USC00058575\n",
    "TTOBSSt2 = TTBOSSt[1] #Station: USS0005K26S\n",
    "\n",
    "#Since p-value > 0.05, I cannot reject my null hypothesis that both stations exhibited same property for TOBS\n",
    "scipy.stats.ttest_ind(TTOBSSt1,TTOBSSt2, equal_var = False, nan_policy ='omit')"
   ]
  },
  {
   "cell_type": "code",
   "execution_count": null,
   "metadata": {
    "collapsed": true
   },
   "outputs": [],
   "source": []
  }
 ],
 "metadata": {
  "kernelspec": {
   "display_name": "Python 2",
   "language": "python",
   "name": "python2"
  },
  "language_info": {
   "codemirror_mode": {
    "name": "ipython",
    "version": 2
   },
   "file_extension": ".py",
   "mimetype": "text/x-python",
   "name": "python",
   "nbconvert_exporter": "python",
   "pygments_lexer": "ipython2",
   "version": "2.7.13"
  },
  "toc": {
   "colors": {
    "hover_highlight": "#DAA520",
    "running_highlight": "#FF0000",
    "selected_highlight": "#FFD700"
   },
   "moveMenuLeft": true,
   "nav_menu": {
    "height": "12px",
    "width": "252px"
   },
   "navigate_menu": true,
   "number_sections": true,
   "sideBar": true,
   "threshold": 4,
   "toc_cell": false,
   "toc_section_display": "block",
   "toc_window_display": false,
   "widenNotebook": false
  }
 },
 "nbformat": 4,
 "nbformat_minor": 2
}
