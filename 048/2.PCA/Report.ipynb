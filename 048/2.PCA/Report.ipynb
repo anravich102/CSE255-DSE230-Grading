{
 "cells": [
  {
   "cell_type": "code",
   "execution_count": 5,
   "metadata": {
    "collapsed": false
   },
   "outputs": [
    {
     "name": "stdout",
     "output_type": "stream",
     "text": [
      "![10.Report on analysis of climate around the boston area.ipynb](r_figures/10.Report on analysis of climate around the boston area.ipynb)\n",
      "![AvgTemperature.JPG](r_figures/AvgTemperature.JPG)\n",
      "![CorrealatedStations.jpg](r_figures/CorrealatedStations.jpg)\n",
      "![CorrealationBetweenTheStations.JPG](r_figures/CorrealationBetweenTheStations.JPG)\n",
      "![FittedValuesPRCP.JPG](r_figures/FittedValuesPRCP.JPG)\n",
      "![FittedValuesSNWD.JPG](r_figures/FittedValuesSNWD.JPG)\n",
      "![PRCPTobs.JPG](r_figures/PRCPTobs.JPG)\n",
      "![Precipitation.JPG](r_figures/Precipitation.JPG)\n",
      "![SNWDAndMean.JPG](r_figures/SNWDAndMean.JPG)\n",
      "![SNWDAndMean2.JPG](r_figures/SNWDAndMean2.JPG)\n",
      "![SNWDPRCP.JPG](r_figures/SNWDPRCP.JPG)\n",
      "![SanityCheck.JPG](r_figures/SanityCheck.JPG)\n",
      "![SanityCheck2.jpg](r_figures/SanityCheck2.jpg)\n",
      "![SignificanceTestGraphGiven.JPG](r_figures/SignificanceTestGraphGiven.JPG)\n",
      "![SimpleLinearRegression.xlsx](r_figures/SimpleLinearRegression.xlsx)\n",
      "![SnowAndSnowDepth.JPG](r_figures/SnowAndSnowDepth.JPG)\n",
      "![TMIN.png](r_figures/TMIN.png)\n",
      "![TMINMAX.png](r_figures/TMINMAX.png)\n",
      "![TobsAndMean.JPG](r_figures/TobsAndMean.JPG)\n",
      "![TobsSWND.JPG](r_figures/TobsSWND.JPG)\n",
      "![VarianceExplained1.JPG](r_figures/VarianceExplained1.JPG)\n",
      "![VarianceExplained2.JPG](r_figures/VarianceExplained2.JPG)\n"
     ]
    }
   ],
   "source": [
    "L=!ls r_figures/Leadville/\n",
    "for l in L:\n",
    "    print \"![%s](r_figures/%s)\"%(l,l)"
   ]
  },
  {
   "cell_type": "code",
   "execution_count": 7,
   "metadata": {
    "collapsed": false
   },
   "outputs": [
    {
     "name": "stdout",
     "output_type": "stream",
     "text": [
      "![05ADFE30]\n",
      "![1.FunctionsAsVectors_CLASS.ipynb]\n",
      "![1.FunctionsAsVectors_HW.ipynb]\n",
      "![10.Report on analysis of climate around the boston area.ipynb]\n",
      "![2.Small_PCA_computation-Redacted.ipynb]\n",
      "![2.Small_PCA_computation_CLASS.ipynb]\n",
      "![2.Small_PCA_computation_HW.ipynb]\n",
      "![4.4 Weather Analysis - Visualisation.ipynb]\n",
      "![4.5 Weather Analysis - reconstruction PRCP - ErrorFree.ipynb]\n",
      "![4.5 Weather Analysis - reconstruction PRCP.ipynb]\n",
      "![4.5 Weather Analysis - reconstruction SNWD.ipynb]\n",
      "![4.5 Weather Analysis - reconstruction TOBS.ipynb]\n",
      "![5. maps using iPyLeaflet.ipynb]\n",
      "![5.5 DataOnMaps.ipynb]\n",
      "![7. Analyzing residuals-Copy1.ipynb]\n",
      "![7. Analyzing residuals.ipynb]\n",
      "![F12DFE30]\n",
      "![F55DFE30]\n",
      "![Figures]\n",
      "![HW5.README.txt]\n",
      "![HypothesisTesting.ipynb]\n",
      "![LR.xlsx]\n",
      "![LinearRegression.csv]\n",
      "![LinearRegression.ipynb]\n",
      "![PRCPEigenVectors.csv]\n",
      "![Report.ipynb]\n",
      "![SNWDEigenVectors.csv]\n",
      "![TOBSEigenVectors.csv]\n",
      "![Tester]\n",
      "![hs_err_pid1290.log]\n",
      "![lib]\n",
      "![r_figures]\n",
      "![spark-warehouse]\n",
      "![student-pid-dataset.csv]\n"
     ]
    }
   ],
   "source": [
    "L=!ls \n",
    "for l in L:\n",
    "    print \"![%s]\"%l\n",
    "    \n",
    "#LinearRegression.csv, LinearRegression.ipynb, Respective eigen vector files, HypothesisTesting.ipynb are added. Please refer them if needs be."
   ]
  },
  {
   "cell_type": "markdown",
   "metadata": {},
   "source": [
    "# Leadville, Boulder Weather Analysis\n",
    "\n",
    "This is a report on the historical analysis of weather patterns in an area that approximately overlaps the area of Leadville in the state of Boulder."
   ]
  },
  {
   "cell_type": "markdown",
   "metadata": {},
   "source": [
    "The data we will use here comes from [NOAA](https://www.ncdc.noaa.gov/). \n",
    "\n",
    "We focused on six measurements:\n",
    "* **TMIN, TMAX:** the daily minimum and maximum temperature.\n",
    "* **TOBS:** The average temperature for each day.\n",
    "* **PRCP:** Daily Percipitation (in mm)\n",
    "* **SNOW:** Daily snowfall (in mm)\n",
    "* **SNWD:** The depth of accumulated snow.\n",
    "\n",
    "\n"
   ]
  },
  {
   "cell_type": "markdown",
   "metadata": {
    "collapsed": true
   },
   "source": [
    "## Sanity check for the experimental data\n",
    "\n",
    "<p>We start by comparing some of the general statistics with graphs that we obtained from a site called <a href=\"http://www.usclimatedata.com/climate/boston/massachusetts/united-states/usma0046\" target=\"_blank\">US Climate Data</a> The graph below shows the daily minimum and maximum temperatures for each month, as well as the total precipitation for each month.</p>\n",
    "\n",
    "\n",
    "<p>&nbsp;<img alt=\"SanityCheck.jpg\" src=\"r_figures/Leadville/SanityCheck2.jpg\" style=\"height:450px; width:600px\" /></p>\n",
    "\n",
    "\n",
    "<p> Now, we shall look the graphs of our TMIN, TMAX through the year at Leadville. As seen from the graph avg values for TMIN and TMAX are 10, 27 degree celsius respectively. It agrees with the data obtained from the website within the limits of experimental error</p>\n",
    "\n",
    "<p>&nbsp;<img alt=\"TMINMax.PNG\" src=\"r_figures/Leadville/TMINMAX.PNG\"  /></p>\n",
    "\n",
    "<p> From the precipitation graph the average value obtained is around 20mm/month which agrees with the data obtained from the website whose average precipitation is around 21.58mm/month </p>\n",
    "\n",
    "<p>&nbsp;<img alt=\"Precipitation.JPG\" src=\"r_figures/Leadville/Precipitation.JPG\"  /></p>\n"
   ]
  },
  {
   "cell_type": "markdown",
   "metadata": {},
   "source": [
    "## Initial Data Analysis\n",
    "\n",
    "<p> By going through the graphs of SNOW, SNWD, TOBS - </p>\n",
    "\n",
    "<p>&nbsp;<img alt=\"SnowAndSnowDepth.JPG\" src=\"r_figures/Leadville/SnowAndSnowDepth.JPG\"  /></p>\n",
    "\n",
    "<p>&nbsp;<img alt=\"AvgTemperature.JPG\" src=\"r_figures/Leadville/AvgTemperature.JPG\"  /></p>\n",
    "\n",
    "<p> It is clear as to why SNOW, SNWD are 0 mm between June to September as TOBS - the average temperature of each day at Leadville through those months would always be greater than 0 degree Celcius. Hence, there is no probability of formation of snow in those months. </p>\n",
    "\n",
    "<p> So, this makes us think if Temperature, Snowfall, Precipitation are correlated </p>"
   ]
  },
  {
   "cell_type": "markdown",
   "metadata": {
    "collapsed": true
   },
   "source": [
    "# Scatter Plot, Coorelation coefficient \n",
    "\n",
    "<p> I have determined coorelation coeffiecient between each of the pairs - TOBS, SNWD, PRCP for a station in Leadsville for station-'USC00058212'* in the year 1952*. </p>\n",
    "\n",
    "\n",
    "<p> Coorelation co-efficient between TOBS and SNWD is -0.69. indicating a strong-negative coorelation. And, this follows our initial belief that as the temperature rises, SNWD would gradually decrease and become zero. </p>\n",
    "\n",
    "<p>&nbsp;<img alt=\"TobsSWND.JPG\" src=\"r_figures/Leadville/TobsSWND.JPG\"  /></p>\n",
    "\n",
    "\n",
    "<p> Coorelation co-efficient between TOBS and PRCP is -0.13. indicating a negative coorelation. But, much information cannot be gained just by the first glance. </p>\n",
    "\n",
    "<p>&nbsp;<img alt=\"PRCPTobs.JPG\" src=\"r_figures/Leadville/PRCPTobs.JPG\"  /></p>\n",
    "\n",
    "<p> Coorelation co-efficient between SNWD and PRCP is 0.08, indicating almost no coorelation. </p>\n",
    "\n",
    "<p>&nbsp;<img alt=\"SNWDPRCP.JPG\" src=\"r_figures/Leadville/SNWDPRCP.JPG\"  /></p>\n",
    "\n",
    "\n",
    "<p> * Just like USC00058212 other stations too followed the suit. And, 1952 was considered as the data was available for each of the pairs. </p>"
   ]
  },
  {
   "cell_type": "markdown",
   "metadata": {},
   "source": [
    "# PCA Analysis"
   ]
  },
  {
   "cell_type": "markdown",
   "metadata": {},
   "source": [
    "<p> Since there are 12886 rows in the dataframe, and vector in each row has 365 entries, it would be tedious to handle this huge-dimensional data for any of the classification/regression tasks. However, the principle of data analysis states that - \"Required data would always lie in low-dimensional manifold\". This motivates us to do Principal Component Analysis. </p>\n",
    "\n",
    "\n",
    "## Percentage of variance explained\n",
    "\n",
    "<p> For each of the six measurement, we compute the percentage of the variance explained as a function of the number of eigen-vectors used. </p>\n",
    "\n",
    "\n",
    "![VarianceExplained1.jpg](r_figures/Leadville/VarianceExplained1.jpg)\n",
    "![VarianceExplained2.jpg](r_figures/Leadville/VarianceExplained2.jpg)\n",
    "\n",
    "<p> We see that the top 5 eigen-vectors explain around 60% of variance for TMIN, 70% for TOBS, 60% for TMAX, 15% for SNOW, 90% for SNWD and 13% for PRCP. </p>"
   ]
  },
  {
   "cell_type": "markdown",
   "metadata": {},
   "source": [
    "## Detailed Analysis of SNWD\n",
    "\n",
    "We choose to analyze the eigen-decomposition for snow-depth because from the aforementioned graphs it is clear thart the first 4 eigen-vectors explain around 90% of the variance.\n",
    "\n",
    "\n",
    "![SNWDAndMean2.jpg](r_figures/Leadville/SNWDAndMean2.jpg)\n",
    "\n",
    "\n",
    "We observe that the snow season is from the month of October till June. It can be observed that February marks the peak of the snow-depth. Also, it can be observed that in the months of (late June), July, August, September there wouldn't be any snowing phenomenon, making SNWD to remain 0 during the period."
   ]
  },
  {
   "cell_type": "markdown",
   "metadata": {},
   "source": [
    "Next we interpret the eigen-functions. The first eigen-function (eig1) has a shape very similar to the mean function.The interpretation of this shape is that eig1 represents the overall amount of snow above/below the mean, but without changing the distribution over time. And, it makes sense to claim so. Because, eig1 by itself explains around 80% of the variance, implying that it's much closer to mean (true value).\n",
    "\n",
    "eig2,eig3 and eig4 are similar in the following way. They all oscilate between positive and negative values. In other words, they correspond to changing the distribution of the snow depth over the months when it snows, but they don't change the total.\n",
    "\n",
    "They can be interpreted as follows:\n",
    "\n",
    "* **eig2:** Relatively less snow in Jan - mid Feb, more snow in mid Feb-March, less snow in May, a slight increase in June.\n",
    "* **eig3:** Less snow towards end of March, rise in the snow falling in May, a gradual decrease in June.\n",
    "* **eig4:** Decrease in snow falling between October-January.\n",
    "\n",
    "Overall, these eigen vectors would capture the variances of the SNWD data along their direction in the subspace. "
   ]
  },
  {
   "cell_type": "markdown",
   "metadata": {},
   "source": [
    "## Detailed Analysis of TOBS\n",
    "\n",
    "![TobsAndMean.jpg](r_figures/Leadville/TobsAndMean.jpg)\n",
    "\n",
    "We observe that the TOBS in any year increases gradually from January till July, becoming maximum during summer, gradually decreases till December, following the season patterns and our intuitions thoroughly."
   ]
  },
  {
   "cell_type": "markdown",
   "metadata": {},
   "source": [
    "Here, from the graph we can interpret that both eigenvector 1 and 2 put together would explain the mean. By keenly observing  we see that eig 1 would never become negative, however, increases and decreases gradually following mean. However, mean raises from negative to max and falls back to negative. So, eig 1 alone is not capturing mean totally. Adding eig 2, which also follows an increase-decrease pattern, however, passes through the negative side as well. Thus, we can safely say that eig 1 and 2 together would capture the mean. This interpretation makes sense as the eig1 and eig2 put together would explain 70% of the variance in the data, implying that togther they are close to mean (true value).\n",
    "\n",
    "eig3 and eig4 are similar in the following way. They all oscilate between positive and negative values. In other words, they correspond to changing the distribution of the TOBS over the months when the season changes, but they don't change the total.\n",
    "\n",
    "They can be interpreted as follows:\n",
    "\n",
    "* **eig3:** Rise in temperature between January till end of March, decrease from April till October, increase till December and a decrease again in the last month. \n",
    "* **eig4:** Decrease  from Jan-March, increase and decrease in March, decrease from May till October with a slight increase in June, increase from October till January.\n",
    "\n",
    "Overall, these eigen vectors would capture the variances of the TOBS data along their direction in the subspace. \n"
   ]
  },
  {
   "cell_type": "markdown",
   "metadata": {
    "collapsed": true
   },
   "source": [
    "# Regression\n",
    "\n",
    "<p> Just to keep the regression simple, I employed a linear regression of the form \"TOBS ~ Theta0 * PRCP + Theta1* SNWD\"* considering each of their first eigen vectors alone to determine its performance </p>\n",
    "\n",
    "<p> These were the results obtained - \n",
    "* **Intercept -**   0.057624\n",
    "* **Theta0    -**    0.006577\n",
    "* **Theta1    -**   0.204533\n",
    "* **R-squared -**   0.264  </p>\n",
    "\n",
    "![TobsAndMean.jpg](r_figures/Leadville/FittedValuesPRCP.jpg)\n",
    "![TobsAndMean.jpg](r_figures/Leadville/FittedValuesSNWD.jpg)\n",
    "\n",
    "At the first glance, though it appears that the fit is not appropriate, but, God lies in the details!   :) \n",
    "\n",
    "Just by considering a single vector for PRCP and SNWD, around 26% of the variance in TOBS could be rightly explained (refer to R-squared score). Adding multiple vectors to each PRCP and SNWD would definitely improve the model. So, given the precipitation and snow-depth, the model would be able to predict the average-temperature of the day. However, for now, I would not delve deep into these details of multiple-regression. \n",
    "\n",
    "* Please refer to LinearRegression.ipynb for details"
   ]
  },
  {
   "cell_type": "markdown",
   "metadata": {
    "collapsed": true
   },
   "source": [
    "# Hypothesis testing"
   ]
  },
  {
   "cell_type": "markdown",
   "metadata": {},
   "source": [
    "\n",
    "For this section, I would consider TOBS, SNWD for analysis which could be extended to other measurements as well. Througout the experiment, alpha level was considered to be 0.05 i.e 95% significance. Also, the distribution for TOBS and SNWD is considered to be approximately normal. \n",
    "\n",
    "## Weather conditions over the years in a station:\n",
    "\n",
    "### TOBS:\n",
    "\n",
    "* <p> H0: Null Hyothesis : Over the years, TOBS of any station has not varied much. </p> \n",
    "* <p> H1: Alternate Hypothesis: TOBS of a station changes with time. </p>\n",
    "\n",
    "For this experiment, without the loss of generality, the station considered was USC00055507 and the years that were studies were 1965 & 1966. \n",
    "\n",
    "By 2-sample T-Test ( https://en.wikipedia.org/wiki/Student%27s_t-test ), p-value obtained was 0.0013 which is far lesser than 0.05. Hence, I can safely reject the null-hypothesis that TOBS of any station has not varied much with passing years.\n",
    "\n",
    "Hence, TOBS varies with passing of years significantly. \n",
    "\n",
    "### SNWD:\n",
    "\n",
    "* <p> H0: Null Hyothesis : Over the years, SNWD of any station has not varied much. </p> \n",
    "* <p> H1: Alternate Hypothesis: SNWD of a station changes with time. </p>\n",
    "\n",
    "For this experiment, without the loss of generality, the station considered was USC00055507 and the years that were studied were 2001 & 2002.\n",
    "\n",
    "By 2-sample T-Test, p-value obtained was 0.000113 which is far lesser than 0.05. Hence, I can safely reject the null-hypothesis that SNWD of any station has not varied much.\n",
    "\n",
    "Hence, SNWD varies with passing of years significantly. \n"
   ]
  },
  {
   "cell_type": "markdown",
   "metadata": {
    "collapsed": true
   },
   "source": [
    "## Weather conditions over nearby stations in a year:\n",
    "\n",
    "\n",
    "### TOBS:\n",
    "\n",
    "* <p> H0: Null Hyothesis : For any two neighbouring weather stations, TOBS doesn't vary much. </p> \n",
    "* <p> H1: Alternate Hypothesis: TOBS of nearby stations doesn't depend on the proximity factor at all and varies irrespectively. </p>\n",
    "\n",
    "For this experiment, without the loss of generality, the stations considered were USC00058575 (Lat=39.6394|Lng =-106.3539) and USS0005K26S (Lat=39.5667|Lng=-105.8). The data was considered  for the year 2011. \n",
    "\n",
    "By 2-sample T-Test, p-value obtained was 0.33555 which is greater than 0.05. Hence, I cannot reject the null-hypothesis.\n",
    "\n",
    "\n",
    "### SNWD:\n",
    "\n",
    "* <p> H0: Null Hyothesis : For any two neighbouring weather stations, SNWD doesn't vary much.</p> \n",
    "* <p> H1: Alternate Hypothesis: SNWD of stations doesn't depend on the proximity factor at all and varies irrespectively. </p>\n",
    "\n",
    "For this experiment, without the loss of generality, the stations considered were US1COJF0040 (Lat=39.7611|Lng=-105.2297) and USC00054762 (Lat=39.7489|Lng=-105.1206) and the data was considered for the year 2011.\n",
    "\n",
    "By 2-sample T-Test, p-value obtained was 0.08997 which is greater than 0.05. Hence, I cannot reject the null hypothesis\n",
    "\n",
    "-The aforementioned results follow our intuition too that proximity factor does play a role in determining weather conditions. \n",
    "\n",
    "Thus, proximity (locality) is a latent feature!\n",
    "\n",
    "* Please refer to HypothesisTesting.ipnb for details"
   ]
  },
  {
   "cell_type": "markdown",
   "metadata": {},
   "source": [
    "## Rain and the stations considered:\n",
    "\n",
    "\n",
    "* <p> H0: Null Hyothesis : The null hypothesis for this experiment is that the probability of raining on any given day in a station is not completely independent of other stations.</p> \n",
    "* <p> H1: Alternate Hypothesis: Raining in a station is totally independent of the others irrespective of any proximity (or correlation). </p>\n",
    "\n",
    "From the previous Hypothesis Test, we believe that Null Hypothesis cannot be rejected in this case. \n",
    "\n",
    "\n",
    "From the graph, we observe that - \n",
    "\n",
    "![SignificanceTestGraphGiven.jpg](r_figures/Leadville/SignificanceTestGraphGiven.jpg)\n",
    "\n",
    "\n",
    "There are significant number of data points whose p-value is greater than 0.05 making us not to reject the null hypothesis.\n",
    "\n",
    "This corelation plot between the stations further supports our intuition that there exists chunks of stations here and there, especially neighbours, which are correlated, making the weather conditions inter-dependent.\n",
    "\n",
    "\n",
    "![CorrealationBetweenTheStations.jpg](r_figures/Leadville/CorrealationBetweenTheStations.jpg)\n",
    "\n",
    "\n",
    "Further, these results from the calculations make our belief stronger in this regard. \n",
    "\n",
    "\n",
    "![CorrealatedStations.jpg](r_figures/Leadville/CorrealatedStations.jpg)\n"
   ]
  },
  {
   "cell_type": "markdown",
   "metadata": {},
   "source": [
    "# Future Scope\n",
    "\n",
    "* Improve the regression model for the weather data, with right feature engineering, that could be used for predicting values for a particular weather paramater. \n",
    "* Performing clustering operations on the corelated weather stations found.\n",
    "* Building more test cases, validating them, drawing more intuition etc."
   ]
  }
 ],
 "metadata": {
  "kernelspec": {
   "display_name": "Python 2",
   "language": "python",
   "name": "python2"
  },
  "language_info": {
   "codemirror_mode": {
    "name": "ipython",
    "version": 2
   },
   "file_extension": ".py",
   "mimetype": "text/x-python",
   "name": "python",
   "nbconvert_exporter": "python",
   "pygments_lexer": "ipython2",
   "version": "2.7.13"
  },
  "toc": {
   "colors": {
    "hover_highlight": "#DAA520",
    "running_highlight": "#FF0000",
    "selected_highlight": "#FFD700"
   },
   "moveMenuLeft": true,
   "nav_menu": {
    "height": "30px",
    "width": "252px"
   },
   "navigate_menu": true,
   "number_sections": true,
   "sideBar": true,
   "threshold": 4,
   "toc_cell": false,
   "toc_section_display": "block",
   "toc_window_display": false,
   "widenNotebook": false
  }
 },
 "nbformat": 4,
 "nbformat_minor": 2
}
