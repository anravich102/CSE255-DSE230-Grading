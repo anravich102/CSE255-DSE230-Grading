{
 "cells": [
  {
   "cell_type": "markdown",
   "metadata": {},
   "source": [
    "# Weather Analysis\n",
    "\n",
    "This is a report on the historical analysis of weather patterns in an area that approximately overlaps the area of the state of Massachusets.\n",
    "\n",
    "The data we will use here comes from [NOAA](https://www.ncdc.noaa.gov/). Specifically, it was downloaded from This [FTP site](ftp://ftp.ncdc.noaa.gov/pub/data/ghcn/daily/).\n",
    "\n",
    "We focused on six measurements:\n",
    "* **TMIN, TMAX:** the daily minimum and maximum temperature.\n",
    "* **TOBS:** The average temperature for each day.\n",
    "* **PRCP:** Daily Percipitation (in mm)\n",
    "* **SNOW:** Daily snowfall (in mm)\n",
    "* **SNWD:** The depth of accumulated snow."
   ]
  },
  {
   "cell_type": "markdown",
   "metadata": {},
   "source": [
    "# Area/Map\n",
    "This is a map showing the area I am studying. It covers part of central CA and part of Nevada\n",
    "- Circles are the stations.\n",
    "- The boundary of the area is the rectangle.\n",
    "![map Plot](map.JPG)\n",
    "\n"
   ]
  },
  {
   "cell_type": "markdown",
   "metadata": {},
   "source": [
    "## Weather analysis\n",
    "\n",
    "\n",
    "### Precipitation Years plot\n",
    "Precipitation seems to have consistent behavior over years. We see that with 2 and 4 years plot.\n",
    "![2 Years Plot](4_4_2YPlot.png)![4 Years Plot](4_4_4YPlot.png)\n"
   ]
  },
  {
   "cell_type": "markdown",
   "metadata": {},
   "source": [
    "\n",
    "### Distribution of missing observations"
   ]
  },
  {
   "cell_type": "markdown",
   "metadata": {},
   "source": [
    "The distribution of missing observations is not uniform throughout the year as we see for each measurement type below. It fluctuates, but not a lot.\n",
    "This is the same for all TMIN, TMAX, TOBS, PRCP, SNOW, SNWD"
   ]
  },
  {
   "cell_type": "markdown",
   "metadata": {},
   "source": [
    "![4_4_TMINTMAXPlot.png](4_4_TMINTMAXPlot.png)\n"
   ]
  },
  {
   "cell_type": "markdown",
   "metadata": {},
   "source": [
    "For snow and in Jan/Feb,looks like data was missed maybe because sensors were not functionning or data couldn't be collected.\n",
    "![4_4_SNOWSNWDPlot.png](4_4_SNOWSNWDPlot.png)\n"
   ]
  },
  {
   "cell_type": "markdown",
   "metadata": {},
   "source": [
    "OCT PRCT is missing data or problem with the data collection. \n",
    "![VarExplained2.png](4_4_TOBSPRCPPlot.png)"
   ]
  },
  {
   "cell_type": "markdown",
   "metadata": {},
   "source": [
    "### Mean and STD"
   ]
  },
  {
   "cell_type": "markdown",
   "metadata": {},
   "source": [
    "- Very resonable behavior for Min/Max tempreture over the months of the year.\n",
    "- Some limited fluctiation.\n",
    "- Normal 4 seasons where hotter overall in summer, colder in winter, etc... \n",
    "![4_4_TMINTMAX_M_SPlot.png](4_4_TMINTMAX_M_SPlot.png)"
   ]
  },
  {
   "cell_type": "markdown",
   "metadata": {},
   "source": [
    "TOBS:\n",
    "- Very resonable behavior for Min/Max tempreture over the months of the year.\n",
    "- Some limited fluctiation.\n",
    "- Normal 4 seasons where hotter overall in summer, colder in winter, etc... \n",
    "\n",
    "PRCT:\n",
    "- It has some small trending.\n",
    "- Higher values in winter time.\n",
    "\n",
    "![4_4_TOBSPRCP_M_SPlot.png](4_4_TOBSPRCP_M_SPlot.png)\n"
   ]
  },
  {
   "cell_type": "markdown",
   "metadata": {},
   "source": [
    "- No snow during summer\n",
    "- Summer time almost no variations\n",
    "- Snow is much more noisy than the snow depth. This is expected because depth settle and accumulate over time, while snow fall might be higher in one or two days or even few hours.\n",
    "\n",
    "![4_4_SNOWSNWD_M_SPlot.png](4_4_SNOWSNWD_M_SPlot.png)"
   ]
  },
  {
   "cell_type": "markdown",
   "metadata": {},
   "source": [
    "\n",
    "\n",
    "\n"
   ]
  },
  {
   "cell_type": "markdown",
   "metadata": {},
   "source": [
    "\n",
    "### Top Eigenvectors"
   ]
  },
  {
   "cell_type": "markdown",
   "metadata": {},
   "source": [
    "![4_4_TMINTMAX_EVPlot.png](4_4_TMINTMAX_EVPlot.png)"
   ]
  },
  {
   "cell_type": "markdown",
   "metadata": {},
   "source": [
    "![4_4_TOBSPRCP_EVPlot.png](4_4_TOBSPRCP_EVPlot.png)"
   ]
  },
  {
   "cell_type": "markdown",
   "metadata": {},
   "source": [
    "![4_4_SNOWSNWD_EVPlot.png](4_4_SNOWSNWD_EVPlot.png)"
   ]
  },
  {
   "cell_type": "markdown",
   "metadata": {},
   "source": [
    "### percentage of variance explained"
   ]
  },
  {
   "cell_type": "markdown",
   "metadata": {},
   "source": [
    "TOBS\n",
    "- With very few victors, we can explain the variance. This makes sense because we are using the mean. \n",
    "- With 5 victors, we can explain almost 70% of the variance.\n",
    "TMIN/TMAX\n",
    "- More noisy and harder to explain the variance.\n",
    "- Harder to explain teh variance and requires more victors to be added.\n",
    "\n",
    "![4_4_TTT_VarPlot.png](4_4_TTT_VarPlot.png)"
   ]
  },
  {
   "cell_type": "markdown",
   "metadata": {},
   "source": [
    "SNWD\n",
    "- With only 5 victors you can explain more than 80% of teh variance.\n",
    "SNOW/PRCT:\n",
    "- is harder to explain the variance\n",
    "![4_4_SSP_VarPlot.png](4_4_SSP_VarPlot.png)"
   ]
  },
  {
   "cell_type": "code",
   "execution_count": null,
   "metadata": {
    "collapsed": true
   },
   "outputs": [],
   "source": []
  },
  {
   "cell_type": "markdown",
   "metadata": {},
   "source": [
    "# Reconstruction using top eigen-vectors\n",
    "\n"
   ]
  },
  {
   "cell_type": "markdown",
   "metadata": {},
   "source": [
    "### PRCP\n",
    "\n",
    "I am analyzing and plotting PRCP (There is not much to explain) and SNWD (first 5 eigen-vectors explain more than 80% of the variance)"
   ]
  },
  {
   "cell_type": "markdown",
   "metadata": {},
   "source": [
    "![4_5_PRCP_grid.png](4_5_PRCP_grid.png)"
   ]
  },
  {
   "cell_type": "markdown",
   "metadata": {},
   "source": [
    "![4_5_PRCP_grid_2.png](4_5_PRCP_grid_2.png)"
   ]
  },
  {
   "cell_type": "markdown",
   "metadata": {},
   "source": [
    "![4_5_PRCP_Res.png](4_5_PRCP_Res.png)"
   ]
  },
  {
   "cell_type": "markdown",
   "metadata": {},
   "source": [
    "![4_5_PRCP_res_dist.png](4_5_PRCP_res_dist.png)![4_5_PRCP.png](4_5_PRCP.png)![4_5_PRCP_M_E.png](4_5_PRCP_M_E.png)"
   ]
  },
  {
   "cell_type": "markdown",
   "metadata": {},
   "source": []
  },
  {
   "cell_type": "markdown",
   "metadata": {},
   "source": [
    "### SNWD\n",
    "\n",
    "The first 5 eigen-vectors explain more than 80% of the variance\n",
    "\n",
    "The snow season is from December to the end of April, where the begenning of April marks the peak of the snow-depth.\n",
    "![4_5_SNWD_M_E.png](4_5_SNWD_M_E.png)"
   ]
  },
  {
   "cell_type": "markdown",
   "metadata": {},
   "source": [
    "Next we interpret the eigen-functions. The first eigen-function (eig1) has a shape very similar to the mean function. The main difference is that the eigen-function is close to zero during July-Oct while the mean is not. The interpretation of this shape is that eig1 represents the overall amount of snow above/below the mean, but without changing the distribution over time."
   ]
  },
  {
   "cell_type": "markdown",
   "metadata": {},
   "source": [
    "![4_5_SNWD_grid.png](4_5_SNWD_grid.png)"
   ]
  },
  {
   "cell_type": "markdown",
   "metadata": {},
   "source": [
    "![4_5_SNWD_grid_2.png](4_5_SNWD_grid_2.png)\n",
    "Large positive values of coeff2 correspond to a snow season with spike in Apri."
   ]
  },
  {
   "cell_type": "markdown",
   "metadata": {},
   "source": [
    "![4_5_SNWD_Interactive.png](4_5_SNWD_Interactive.png)"
   ]
  },
  {
   "cell_type": "markdown",
   "metadata": {},
   "source": [
    "![4_5_SNWD_Res_Var.png](4_5_SNWD_Res_Var.png)"
   ]
  },
  {
   "cell_type": "markdown",
   "metadata": {},
   "source": [
    "![4_5_SNWD_coeff_2.png](4_5_SNWD_coeff_2.png)![4_5_SNWD_Res_2.png](4_5_SNWD_Res_2.png)"
   ]
  },
  {
   "cell_type": "code",
   "execution_count": null,
   "metadata": {
    "collapsed": true
   },
   "outputs": [],
   "source": []
  },
  {
   "cell_type": "code",
   "execution_count": null,
   "metadata": {
    "collapsed": true
   },
   "outputs": [],
   "source": []
  },
  {
   "cell_type": "code",
   "execution_count": null,
   "metadata": {
    "collapsed": true
   },
   "outputs": [],
   "source": []
  },
  {
   "cell_type": "markdown",
   "metadata": {},
   "source": [
    "# Reconstruction using top eigen-vectors"
   ]
  },
  {
   "cell_type": "markdown",
   "metadata": {},
   "source": [
    "- PRCP is consistent and not much variance between May to Oct\n",
    "![7_M_E.png](7_M_E.png)"
   ]
  },
  {
   "cell_type": "markdown",
   "metadata": {},
   "source": [
    "Explanning the residual 3\n",
    "\n",
    "![7_res3.png](7_res3.png)"
   ]
  },
  {
   "cell_type": "markdown",
   "metadata": {},
   "source": [
    "![7_Significance.png](7_Significance.png)"
   ]
  },
  {
   "cell_type": "markdown",
   "metadata": {},
   "source": [
    "![7_res.png](7_res.png)"
   ]
  },
  {
   "cell_type": "markdown",
   "metadata": {},
   "source": [
    "![7_red_matrix.png](7_red_matrix.png)"
   ]
  },
  {
   "cell_type": "markdown",
   "metadata": {},
   "source": [
    "here we can see the stataion that are highly cororalted with eachother. These are the ones with darker spots\n",
    "![7_PNorm.png](7_PNorm.png)"
   ]
  },
  {
   "cell_type": "markdown",
   "metadata": {},
   "source": [
    "![7_PCA.png](7_PCA.png)"
   ]
  },
  {
   "cell_type": "markdown",
   "metadata": {},
   "source": [
    "![7_G_Y.png](7_G_Y.png)"
   ]
  },
  {
   "cell_type": "markdown",
   "metadata": {},
   "source": [
    "![7_CDF.png](7_CDF.png)"
   ]
  },
  {
   "cell_type": "markdown",
   "metadata": {},
   "source": [
    "- This map shows borders of my area i am studying.\n",
    "- The square is the maximum longtitute and latitude of the station.\n",
    "- Each station is described by a circle where the center of the circle is the location of the station.\n",
    "- Size of the circle represents the number of the measurments.\n",
    "- The color represents the averegae of the first coeff (how much it snows in average).\n",
    "![map Plot](map_2.JPG)"
   ]
  },
  {
   "cell_type": "code",
   "execution_count": null,
   "metadata": {
    "collapsed": true
   },
   "outputs": [],
   "source": []
  },
  {
   "cell_type": "code",
   "execution_count": null,
   "metadata": {
    "collapsed": true
   },
   "outputs": [],
   "source": []
  },
  {
   "cell_type": "code",
   "execution_count": null,
   "metadata": {
    "collapsed": true
   },
   "outputs": [],
   "source": []
  }
 ],
 "metadata": {
  "kernelspec": {
   "display_name": "Python [default]",
   "language": "python",
   "name": "python2"
  },
  "language_info": {
   "codemirror_mode": {
    "name": "ipython",
    "version": 2
   },
   "file_extension": ".py",
   "mimetype": "text/x-python",
   "name": "python",
   "nbconvert_exporter": "python",
   "pygments_lexer": "ipython2",
   "version": "2.7.13"
  }
 },
 "nbformat": 4,
 "nbformat_minor": 1
}
