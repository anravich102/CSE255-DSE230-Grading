{
 "cells": [
  {
   "cell_type": "code",
   "execution_count": 1,
   "metadata": {
    "collapsed": false,
    "deletable": true,
    "editable": true,
    "run_control": {
     "frozen": false,
     "read_only": false
    },
    "scrolled": false
   },
   "outputs": [],
   "source": [
    "#L=!ls HW5_r_figures/\n",
    "#for l in L:\n",
    "#    print \"![%s](HW5_r_figures/%s)\"%(l,l)"
   ]
  },
  {
   "cell_type": "markdown",
   "metadata": {
    "deletable": true,
    "editable": true,
    "run_control": {
     "frozen": false,
     "read_only": false
    }
   },
   "source": [
    "# New Mexico Weather Analysis\n",
    "\n",
    "This is a report on the historical analysis of weather patterns in an area that approximately overlaps the area of the state of New Mexico (highlighted in green on the map below).\n",
    "\n",
    "<p><img alt=\"RegionMap.png\" src=\"HW5_r_figures/RegionMap.png\" /></p>\n",
    "\n",
    "The region is mountainous and best represented by a small city called Espanola. Per wikipedia, July is the warmest month in Española, with an average high of 91 °F (33 °C). The highest recorded temperature was 107 °F (42 °C) in 2003. The average coolest month is January at 45 °F (7 °C). The lowest recorded temperature was −38 °F (−39 °C) in 1971. The maximum average precipitation occurs in August with an average of 1.90 inches (48 mm).\n",
    "\n",
    "<p><img alt=\"ClimateEspanola.png\" src=\"HW5_r_figures/ClimateEspanola.png\" /></p>\n",
    "\n",
    "The data we will use here comes from [NOAA](https://www.ncdc.noaa.gov/). Specifically, it was downloaded from This [FTP site](ftp://ftp.ncdc.noaa.gov/pub/data/ghcn/daily/).\n",
    "\n",
    "We focused on six measurements:\n",
    "* **TMIN, TMAX:** the daily minimum and maximum temperature.\n",
    "* **TOBS:** The average temperature for each day.\n",
    "* **PRCP:** Daily Percipitation (in mm)\n",
    "* **SNOW:** Daily snowfall (in mm)\n",
    "* **SNWD:** The depth of accumulated snow.\n",
    "\n",
    "## Sanity-check: comparison with outside sources\n",
    "\n",
    "<p>We start by comparing some of the general statistics with graphs that we obtained from a site called <a href=\"http://www.usclimatedata.com/climate/melrose/new-mexico/united-states/usnm0509\" target=\"_blank\">US Climate Data</a> The graph below shows the daily minimum and maximum temperatures for each month, as well as the total precipitation for each month.</p>\n",
    "\n",
    "<p>&nbsp;</p>\n",
    "\n",
    "<p><img alt=\"Climate_Espanola_-_NewMexico_and_Weather_averages_Espanola.jpg\" src=\"HW5_r_figures/Climate_Espanola_-_NewMexico_and_Weather_averages_Espanola.jpg\" /></p>\n",
    "\n",
    "<p>&nbsp;</p>\n",
    "\n",
    "<p>We see that the min and max daily&nbsp;temperature agree with the ones we got from our data, once we translate Fahrenheit to Centigrade. TMIN and TMAX are plotted for one area in this region with elevation 2343.6m while at Espanola's elevation is 1704.7m, contributing to higher highs and lower lows/more extreme seasons. </p>\n",
    "\n",
    "<p>&nbsp;</p>\n",
    "\n",
    "<p><img alt=\"TMIN,TMAX.png\" src=\"HW5_r_figures/TMIN,TMAX.png\" style=\"height:300px; width:800px\" /></p>\n",
    "\n",
    "<p>According to our analysis the average rainfall is less than 1.00 mm/day, with the most rainfall in late summer months. However, rainfall is very low overall in the region and there is clear agreement that average precipitation&nbsp;is close to a constant throughout the year.</p>\n",
    "\n",
    "<p>&nbsp;<img alt=\"PRCP.png\" src=\"HW5_r_figures/PRCP.png\" style=\"height:450px; width:600px\" /></p>\n"
   ]
  },
  {
   "cell_type": "markdown",
   "metadata": {},
   "source": [
    "## Analysis for ALL sites in region ‘SSSSBBBB’ New Mexico - Temperature\n",
    "This section provides feature correlation and temperature analysis across all 92 ‘SSSSBBBB’ sites (not just USC00299113, as below). Analysis is modeled similarly to a DSE200 notebook we reviewed Fall quarter, and some code was borrowed for this report. All analysis is for this ‘SSSSBBBB’ dataset from DSE230 materials.\n",
    "\n",
    "### Data Cleaning\n",
    "\n",
    "![NansPerRow.png](HW5_r_figures/NansPerRow.png)\n",
    "\n",
    "Before performing statistical analysis on data across all sites and all years, it is important to look at the number of nans per row, so that observations are not made based on rows with excessive null values. The plot above bins the number of nans per row in a histogram. It is clear that most rows have 0 nans, and very few rows are missing more than 10 values. I set the maximum amount of nans allowed to 50 and dropped any rows that had more than 50 nans (none in my dataset actually did).\n",
    "\n",
    "### Temperature Mean analysis across ALL ‘SSSSBBBB’ sites\n",
    "\n",
    "![OverallDistributionOfTemperatures.png](HW5_r_figures/OverallDistributionOfTemperatures.png)\n",
    "\n",
    "![ASampleOfYearlyPlots.png](HW5_r_figures/ASampleOfYearlyPlots.png)\n",
    "\n",
    "A sample of 20 yearly plots of temperature across sites in New Mexico Espanola area. All 20 sites follow the same bell curve shape from winter to winter that we see with our example site above. As the area in New Mexico being sampled is mountainous, it can be assumed that the sites with colder winters have higher elevation closer to the peaks of the mountains.\n",
    "\n",
    "![GlobalMeanTempforEachDayoftheYear.png](HW5_r_figures/GlobalMeanTempforEachDayoftheYear.png)\n",
    "\n",
    "Above is a plot of the global mean temperature for each day of the year for the area, averaged across all 92 sites and across all 51 years (1910-1960). As expected, average temperatures hit their highest in late June/July and their lowest in January."
   ]
  },
  {
   "cell_type": "markdown",
   "metadata": {},
   "source": [
    "### Temperature Eigenvalues/Eigenvector Analysis\n",
    "\n",
    "To perform further statistical analysis, I created a covariance matrix with dimensions 365 (days in a year) x 365. I then performed reconstruction based on full Singular Value Decomposition, extracting a unitary matrix, eigenvectors, and eigenvalues for the data. \n",
    "\n",
    "A plot of eigenvalues is included below, ranging from 0 to 1 for days 1 through 365 in the calendar year. The plot helps explain the percentage of variance explained.  As pictured, around 25 will explain 70% of the data variance.\n",
    "\n",
    "![Eigenvalues.png](HW5_r_figures/Eigenvalues.png)\n",
    "\n",
    "The most significant eigen-vectors are plotted below. Eigenvectors correspond to changing the distribution of temperature over the year, but they don't change the averages (much). All eigenvectors (besides eig1) oscillate from positive to negative with time, with more variance in the winter months.\n",
    "\n",
    "The eigenvectors can be interpreted as follows:\n",
    "* **eig1:** has a shape somewhat similar to the mean function (inverted). Eig1 represents the overall temperature spike above or dip below the mean, but without changing the distribution over time.\n",
    "* **eig2:** lower temperature in December - mid February, slightly but consistently higher temperature in the middle of the year.\n",
    "* **eig3:** progressively higher temperature from the beginning to end of the year.\n",
    "* **eig4:** lower temperature in December and January, higher temperature in March and November.\n",
    "\n",
    "![MostSignificantEigenvectors.png](HW5_r_figures/MostSignificantEigenvectors.png)\n",
    "\n",
    "After plotting, I validated that the norm of all eigenvectors is 1 (replaced nans with 0’s). "
   ]
  },
  {
   "cell_type": "markdown",
   "metadata": {},
   "source": [
    "### Temperature Correlation Analysis:\n",
    "\n",
    "Using eigenvectors as features, we can analyze covariance and correlation between features (I used latitude, longitude, elevation, mean of temperatures, stdev of temperatures, and top 4 eigenvectors) to determine significant correlations and dependencies.  After inserting coefficients for the top 4 eigenvectors, I ran the following correlation analysis.\n",
    "\n",
    "Covariance Dataframe:\n",
    "\n",
    "![CovarianceDf.png](HW5_r_figures/CovarianceDf.png)\n",
    "\n",
    "Correlation Dataframe:\n",
    "\n",
    "![CorrelationDf.png](HW5_r_figures/CorrelationDf.png)\n",
    "\n",
    "As expected, we see 1.00000 across the diagonal of the correlation matrix, as the diagonal values are for comparison of the exact same features which are, obviously, fully correlated. The correlation between different eigenvectors should be zero. Slight variance from zero could be due to numeric roundoff errors, and values do not indicate statistical significance.\n",
    "\n",
    "To determine whether features are correlated, I set criteria to assign ‘True’ to feature pairs if the absolute value of their correlation is greater than 0.2 and ‘False’ to feature pairs if the absolute value of their correlation is less than 0.2.  I chose 0.2 as my threshold so that none of the correlation values between eigenvectors are significant.\n",
    "\n",
    "![CorrelationTrueFalseDf.png](HW5_r_figures/CorrelationTrueFalseDf.png)\n",
    "\n",
    "Below are scatter plots showing correlation between features, with kernel density estimate plots along the diagonal. As expected, scatter plots show very little correlation between different eigenvectors and show the most correlation between the mean and first eigenvector.\n",
    "\n",
    "![CorrelationPlot1.png](HW5_r_figures/CorrelationPlot1.png)\n",
    "![CorrelationPlot2.png](HW5_r_figures/CorrelationPlot2.png)\n",
    "\n",
    "As stated above and shown in the scatter plot below, the most correlation exists between the mean and first eigenvector (negatively correlated).\n",
    "\n",
    "![MeanAndEigen1.png](HW5_r_figures/MeanAndEigen1.png)"
   ]
  },
  {
   "cell_type": "markdown",
   "metadata": {},
   "source": [
    "### Temperature Reconstruction\n",
    "\n",
    "By transforming a data vector x, we get\n",
    "\n",
    "y = A(x - μ_x)\n",
    "\n",
    "which is a point in the orthogonal coordinate system defined by the eigenvectors. Components of y can be seen as the coordinates in the orthogonal base. We can reconstruct the original data vector x from y by\n",
    "\n",
    "x = A.T*y + μ_x\n",
    "\n",
    "Instead of using all the eigenvectors of the covariance matrix, we may represent the data in terms of only a few basis vectors of the orthogonal basis.\n",
    "\n",
    "10 eigenvectors (explaining ~60% of the data variance) were used in reconstruction. I first subtracted the mean temperature from each daily temperature measurement across all sites and years, and performed matrix multiplication with the eigenvector matrix. I then multiplied the resulting matrix for only top 10 eigenvectors by the transpose of the eigenvector matrix for the top ten eigenvectors. Finally, I added back the mean temperature values and plotted both the original daily temperatures (blue) and reconstructed daily temperatures below (orange). \n",
    "\n",
    "With only 10 eigenvectors used to determine variance, the reconstructed plot lines (orange) shows to be a good representation, but overly stable in ascent and descent of temperature throughout the year.  This is due to the nature of daily temperature fluctuating inconsistently from the mean. \n",
    "\n",
    "In the reconstruction plots below, the blue line fills in (extrapolation/interpolation) the places where the measurements are not available. It also reduces the fluctuations in the relative to the original line. \n",
    "\n",
    "![Reconstruction1.png](HW5_r_figures/Reconstruction1.png)\n",
    "![Reconstruction2.png](HW5_r_figures/Reconstruction2.png)\n",
    "![Reconstruction3.png](HW5_r_figures/Reconstruction3.png)\n",
    "\n",
    "Zoomed Reconstruction example plot:\n",
    "    \n",
    "![ZoomedReconstruction.png](HW5_r_figures/ZoomedReconstruction.png)"
   ]
  },
  {
   "cell_type": "markdown",
   "metadata": {},
   "source": [
    "## Analysis for site USC00299113 - Precipitation\n",
    "\n",
    "Before diving into analysis of Snow Depth as related to temparature, we can review precipitation levels as a function of time below.\n",
    "\n",
    "![Precipitation.png](HW5_r_figures/Precipitation.png)\n",
    "\n",
    "It does not appear that precipitation is seasonal for this region, and that lower temperature does not cause higher rates of precipitation. Precipitation is therefore not a very interesting measurement in this study."
   ]
  },
  {
   "cell_type": "markdown",
   "metadata": {
    "deletable": true,
    "editable": true,
    "run_control": {
     "frozen": false,
     "read_only": false
    }
   },
   "source": [
    "## Analysis for site USC00299113 - Snow Depth\n",
    "\n",
    "As temperatures remain relatively high during the winter, our region experiences only a small amount of snow. However, snow depth is worth analyzing as snowfall is highly correlated with low winter temperatures.\n",
    "\n",
    "![MeanStdevSnow.png](HW5_r_figures/MeanStdevSnow.png)\n",
    "\n",
    "We can start by performing a PCA analysis for each of our main six measurements. For each of the six measurement, we compute the percentate of the variance explained as a function of the number of eigen-vectors used.\n",
    "\n",
    "### Percentage of variance explained.\n",
    "![VarExplained1.png](HW5_r_figures/VarExplained1.png)\n",
    "We see that the top 5 eigen-vectors explain 40% of variance for TMIN, 60% for TOBS and 45% for TMAX for this particular site location.\n",
    "\n",
    "We conclude that of the three, TOBS is best explained by the top 5 eigenvectors. This is especially true for the first eigen-vector which, by itself, explains 50% of the variance.\n",
    "\n",
    "![VarExplained2.png](HW5_r_figures/VarExplained2.png)\n",
    "\n",
    "The top 5 eigenvectors explain 8% of the variance for PRCP and 11% for SNOW. Both are low values. On the other hand the top 5 eigenvectors explain %90 of the variance for SNWD. This means that these top 5 eigenvectors capture most of the variation in the snow signals. Based on that we will dig deeper into the PCA analysis for snow-depth.\n",
    "\n",
    "It makes sense that SNWD would be less noisy than SNOW. That is because SNWD is a decaying integral of SNOW and, as such, varies less between days and between the same date on diffferent years."
   ]
  },
  {
   "cell_type": "markdown",
   "metadata": {
    "deletable": true,
    "editable": true,
    "run_control": {
     "frozen": false,
     "read_only": false
    }
   },
   "source": [
    "### Analysis of snow depth\n",
    "\n",
    "We choose to analyze the eigen-decomposition for snow-depth because the first 3 eigen-vectors explain 80% of the variance.\n",
    "\n",
    "First, we graph the mean and the top 3 eigen-vectors.\n",
    "\n",
    "We observe that the snow season is from mid-november to the end of march, where the middle of February marks the peak of the snow-depth.\n",
    "![SNWD_mean_eigs.png](HW5_r_figures/SNWD_mean_eigs.png)"
   ]
  },
  {
   "cell_type": "markdown",
   "metadata": {
    "deletable": true,
    "editable": true,
    "run_control": {
     "frozen": false,
     "read_only": false
    }
   },
   "source": [
    "Next we interpret the eigen-functions. The first eigen-function (eig1) has a shape very similar to the mean function. The main difference is that the eigen-function is close to zero during october-december while the mean is not.  The interpretation of this shape is that eig1 represents the overall amount of snow above/below the mean, but without changing the distribution over time.\n",
    "\n",
    "**eig2 and eig3** are similar in the following way. They all oscilate between positive and negative values. In other words, they correspond to changing the distribution of the snow depth over the winter months, but they don't change the total (much).\n",
    "\n",
    "They can be interpreted as follows:\n",
    "* **eig2:** less snow in December through end of February, more snow in March through early June.\n",
    "* **eig3:** more snow in December through early January, less snow in mid-January through March."
   ]
  },
  {
   "cell_type": "markdown",
   "metadata": {
    "deletable": true,
    "editable": true,
    "run_control": {
     "frozen": false,
     "read_only": false
    }
   },
   "source": [
    "### Reconstruction Plots\n",
    "Below is a grid of reconstruction plots after eigen decomposition.\n",
    "\n",
    "![PlotRecon1.png](HW5_r_figures/PlotRecon1.png)\n",
    "\n",
    "After filtering for only small residual2 res_2<0.4 and plotting for coeff2, reconstruction plots are as follows:\n",
    "    \n",
    "![PlotRecon2.png](HW5_r_figures/PlotRecon2.png) \n",
    "    \n",
    "A good reconstruction plot example, coefficient lines close to target:\n",
    "\n",
    "![GoodRecon.png](HW5_r_figures/GoodRecon.png)"
   ]
  },
  {
   "cell_type": "markdown",
   "metadata": {
    "collapsed": true,
    "deletable": true,
    "editable": true,
    "run_control": {
     "frozen": false,
     "read_only": false
    }
   },
   "source": [
    "## Conclusion\n",
    "\n",
    "In New Mexico region ‘SSSSBBBB’, weather fluctuates relatively mildly from season to season. Mild winters are confirmed by plots showing average temperature over 92 sites for each day of the year, averaged over 51 years, and by plots showing average snowfall for one site in particular over a calendar year. While the mean and standard deviation analysis paint this picture and prove that both temperature and snow depth measurements are consistently seasonal, there are many other important measurements that prove much more.\n",
    "\n",
    "In this report, I analyzed eigenvalue and eigenvector information for temperature, focusing on correlation between features. Based on my correlation matrix and scatter plots, it is clear that the first eigenvector is highly correlated with the mean feature and the second eigenvector is correlated with the standard deviation feature. It is important to know which eigenvectors are more and less correlated, so that only those features and eigenvectors that explain a majority of the data variance are considered during analysis. Reconstruction plots using only 10 temperature eigenvectors confirms these assumptions.\n",
    "\n",
    "Similarly, I analyzed eigenvalue and eigenvector information for snow depth, as the first 3 eigenvectors impressively explain 80% of the variance. In addition to eigenvector analysis, I plotted reconstruction graphs showing coefficients and targets.\n",
    "\n",
    "An interesting approach to future weather reports would be to combine analysis of temperature and snow depth features, compute covariances and determine correlation between these two features and further prove our assumption that these two features are highly correlated. This approach and analysis would perform especially well for regions with more extreme seasons and weather conditions. However, we are on our way to better understanding weather patterns in New Mexico, the 'Land of Enchantment'.\n",
    "\n",
    "![LandOfEnchantment.png](HW5_r_figures/LandOfEnchantment.png)"
   ]
  },
  {
   "cell_type": "markdown",
   "metadata": {
    "collapsed": true
   },
   "source": []
  }
 ],
 "metadata": {
  "anaconda-cloud": {},
  "kernelspec": {
   "display_name": "Python 2",
   "language": "python",
   "name": "python2"
  },
  "language_info": {
   "codemirror_mode": {
    "name": "ipython",
    "version": 2
   },
   "file_extension": ".py",
   "mimetype": "text/x-python",
   "name": "python",
   "nbconvert_exporter": "python",
   "pygments_lexer": "ipython2",
   "version": "2.7.13"
  },
  "toc": {
   "colors": {
    "hover_highlight": "#DAA520",
    "running_highlight": "#FF0000",
    "selected_highlight": "#FFD700"
   },
   "moveMenuLeft": true,
   "nav_menu": {
    "height": "12px",
    "width": "252px"
   },
   "navigate_menu": true,
   "number_sections": true,
   "sideBar": true,
   "threshold": 4,
   "toc_cell": false,
   "toc_section_display": "block",
   "toc_window_display": false
  }
 },
 "nbformat": 4,
 "nbformat_minor": 2
}
