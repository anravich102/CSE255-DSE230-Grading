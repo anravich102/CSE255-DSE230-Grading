{
 "cells": [
  {
   "cell_type": "markdown",
   "metadata": {},
   "source": [
    "<a id=''><h1>Contents</h1></a>\n",
    "- <a href='#intro'>Introduction</a>\n",
    "- <a href='#start'>A few basic plots for analysis</a>\n",
    "- <a href='#snwd'>Analysis of Snow Depth</a>\n",
    "- <a href='#tobs'>Analysis of TOBS</a>\n",
    "- <a href='#prcp'>Analysis of Precipitation</a>\n",
    "- <a href='#snow'>Analysis of Snow</a>"
   ]
  },
  {
   "cell_type": "markdown",
   "metadata": {},
   "source": [
    "<a id='intro'><h2>Introduction</h2></a>"
   ]
  },
  {
   "cell_type": "markdown",
   "metadata": {},
   "source": [
    "## Weather Analysis in California and Nevada Region"
   ]
  },
  {
   "cell_type": "markdown",
   "metadata": {},
   "source": [
    "In this report we analyse the weather around the California and Nevada regions, the data for the analysis dates back to around a 100 years ago, we have readings related to temperature, snow and precipitation, the readings are recorded by various stations at different locations, many of the stations have lot of observations(functioneal for many years), while a few of them have only a few observatios. The data is taken from <a href=https://www.ncdc.noaa.gov/>NOAA</a> (site:<a href=''>FTP</a>)"
   ]
  },
  {
   "cell_type": "markdown",
   "metadata": {},
   "source": [
    "To make the task clean we focus on six main measurements:\n",
    "- __TMIN__ : The minimum temperature on each day of the year\n",
    "- __TMAX__ : The maximum temperature on each day of the year\n",
    "- __TOBS__ : The average temperature on each day of the year\n",
    "- __SNOW__ : The amount of snowfall on each day of the year\n",
    "- __SNOWD__: The depth(accumulated) of snowfall on each day of the year\n",
    "- __PRCP__ : The amount of rainfall on each day of the year\n",
    "\n",
    "Thus each value is a collection of 365 values(one for each day)"
   ]
  },
  {
   "cell_type": "markdown",
   "metadata": {},
   "source": [
    "#### Preliminary checking to see if the data we have is as expected.\n",
    "\n",
    "We check with the data available for the same region from a different source, here we use data from <a href=http://www.usclimatedata.com/climate/yosemite-natl-park/california/united-states/usca1269>US Climate Data</a>. The following image is the data suggested by US Climate Data website:(it corresponds to Yosemite Region while our data is a bit more distributed across Nevada and California regions including Yosemite park, so while we expect our data to follow similar trends we do expect it to be a bit different)"
   ]
  },
  {
   "cell_type": "markdown",
   "metadata": {},
   "source": [
    "<center>\n",
    "<tr>\n",
    "    <td> <img src=\"sanity.png\" alt=\"tmax\" style=\"width: 400px;\"/> </td>\n",
    "   \n",
    "</tr>\n",
    "</center>"
   ]
  },
  {
   "cell_type": "markdown",
   "metadata": {},
   "source": [
    "While the following is the data for TMIN and TMAX in (__Celsius__ )we have:"
   ]
  },
  {
   "cell_type": "markdown",
   "metadata": {},
   "source": [
    "<center>\n",
    "<tr>\n",
    "    <td> <img src=\"tmax-tmin.png\" alt=\"tmax\" style=\"width: 800px;\"/> </td>\n",
    "   \n",
    "</tr>\n",
    "</center>"
   ]
  },
  {
   "cell_type": "markdown",
   "metadata": {},
   "source": [
    "As we can see the US Climate data suggests TMAX to be around 32 degree celsius and our data suggests averag TMAX to be around 32 degree celsius and similarly it is true for TMIN as well."
   ]
  },
  {
   "cell_type": "markdown",
   "metadata": {},
   "source": [
    "<center>\n",
    "<tr>\n",
    "    <td> <img src=\"prcp+-.png\" alt=\"tmax\" style=\"width: 400px;\"/> </td>\n",
    "   \n",
    "</tr>\n",
    "</center>"
   ]
  },
  {
   "cell_type": "markdown",
   "metadata": {},
   "source": [
    "The values do not agree correctly because we have reding in mm/day while the US Climate data has reading in inches/month, but as the patterns are pretty much the same we can be assured that the data we have is not faulty."
   ]
  },
  {
   "cell_type": "markdown",
   "metadata": {},
   "source": [
    "<a id='start'><h2>A few basic plots for analysis</h2></a>"
   ]
  },
  {
   "cell_type": "markdown",
   "metadata": {},
   "source": [
    "Let us first see a few basic plots to get a few intuitions and understand where should we begin our analysis.\n",
    "Also instead of analysing TMIN, TMAX and TOBS I will be analysing only TOBS as this is nothing but the average temperature on each day also this will be prone to less noise when compared to the variations of TMIN and TMAX as this is an average, this might help us get better patterns."
   ]
  },
  {
   "cell_type": "markdown",
   "metadata": {},
   "source": [
    "- TOBS and PRCP\n",
    "<tr>\n",
    "    <td> <img src=\"tobs-prcp.png\" alt=\"tmax\" style=\"width: 600px;\"/> </td>\n",
    "</tr>"
   ]
  },
  {
   "cell_type": "markdown",
   "metadata": {},
   "source": [
    "- SNOW and SNWD\n",
    "<center>\n",
    "<tr>\n",
    "    <td> <img src=\"snow-snwd.png\" alt=\"tmax\" style=\"width: 600px;\"/> </td>\n",
    "</tr>\n",
    "</center>\n"
   ]
  },
  {
   "cell_type": "markdown",
   "metadata": {},
   "source": [
    "These are top three eigen vectors of the above four measurements"
   ]
  },
  {
   "cell_type": "markdown",
   "metadata": {},
   "source": [
    "<center>\n",
    "<tr>\n",
    "    <td> <img src=\"eigtobssnwd.png\" alt=\"tmax\" style=\"width: 600px;\"/> </td>\n",
    "</tr>\n",
    "</center>"
   ]
  },
  {
   "cell_type": "markdown",
   "metadata": {},
   "source": [
    "<center>\n",
    "<tr>\n",
    "    <td> <img src=\"eigsnowprcp.png\" alt=\"tmax\" style=\"width: 600px;\"/> </td>\n",
    "</tr>\n",
    "</center>"
   ]
  },
  {
   "cell_type": "markdown",
   "metadata": {},
   "source": [
    "The following are the graphs for variance of each of the measuremnet expalined by it eigen vectors"
   ]
  },
  {
   "cell_type": "markdown",
   "metadata": {},
   "source": [
    "<center>\n",
    "<tr>\n",
    "    <td> <img src=\"expsnwdtobs.png\" alt=\"tmax\" style=\"width: 600px;\"/> </td>\n",
    "</tr>\n",
    "</center>"
   ]
  },
  {
   "cell_type": "markdown",
   "metadata": {},
   "source": [
    "<center>\n",
    "<tr>\n",
    "    <td> <img src=\"expsnowprcp.png\" alt=\"tmax\" style=\"width: 600px;\"/> </td>\n",
    "</tr>\n",
    "</center>"
   ]
  },
  {
   "cell_type": "markdown",
   "metadata": {},
   "source": [
    "Thus we can see that for SNWD and TOBS their first few eigen vectors explain upto __90%__ and __70%__ of the total variance respectively where as for SNOW and PRCP only around __14%__ of the total variance is explained by the first few eigen vectors, this is expected by the nature os the measurement as SNOW and PRCP are very noisy. On the other hand SNWD and TOBS are like averaged values so they are less noisy and hence only a few of their eigen vectors can better explain their variance."
   ]
  },
  {
   "cell_type": "markdown",
   "metadata": {},
   "source": [
    "From the initial observations it seems like it is good to analyse SNWD and TOBS first"
   ]
  },
  {
   "cell_type": "markdown",
   "metadata": {},
   "source": [
    "<a id='snwd'><h2>Analysis of Snow Depth</h2></a>\n",
    "\n",
    "#### average SNWD is determined by elevation, the time and the kind of distribution of SNWD across year is determined by year"
   ]
  },
  {
   "cell_type": "markdown",
   "metadata": {},
   "source": [
    "<center>\n",
    "<tr>\n",
    "    <td> <img src=\"snwdonly.png\" alt=\"tmax\" style=\"width: 600px;\"/> </td>\n",
    "</tr>\n",
    "</center>"
   ]
  },
  {
   "cell_type": "markdown",
   "metadata": {},
   "source": [
    "- The mean:\n",
    "  The mean is positive in the beginning and then gradually goes off to zero in summer and then starts rising as winter approaches. This is more or less as expected."
   ]
  },
  {
   "cell_type": "markdown",
   "metadata": {},
   "source": [
    "- __First Eigen vector__:\n",
    "The first eigen vector in this case looks like the mean with negative sign, i.e it has negative values in the beginning so this might actually it might indicate places which have zero or very less snoe fall as during reconstruction if we add it to the mean they might get cancelled as they have similar shape but opposite sign.\n",
    "\n",
    "Let us test this assumption by looking at observations with positive coeff_1 values and others with negative coeff_1 values:"
   ]
  },
  {
   "cell_type": "markdown",
   "metadata": {},
   "source": [
    "coeff_1-most postitive: As expected having positive coeff_1 means the place has less than average snowdepth\n",
    "<tr>\n",
    "    <td> <img src=\"snwdc1pos.png\" alt=\"tmax\" style=\"width: 800px;\"/> </td>\n",
    "</tr>\n"
   ]
  },
  {
   "cell_type": "markdown",
   "metadata": {},
   "source": [
    "coeff_1-most negative:As expected having negative coeff_2 means the place has more than average snowdepth as now the eigen vector after being multiplied by a negative value adds up to the mean.\n",
    "    <tr>\n",
    "    <td> <img src=\"snwdc1neg.png\" alt=\"tmax\" style=\"width: 800px;\"/> </td>\n",
    "</tr>\n",
    "\n"
   ]
  },
  {
   "cell_type": "markdown",
   "metadata": {},
   "source": [
    "__Further analysis__:\n",
    "    I further analysed the effect of elevation,location and year on the coeff1 value:\n",
    "    \n",
    "comparing Year vs Station\n",
    "Total RMS                   =  3359.93064281\n",
    "\n",
    "RMS removing mean-by-station=  1880.565768, around __44%__ of variance is explained\n",
    "\n",
    "RMS removing mean-by-year   =  2505.43652363, , around __26%__ of variance is explained\n",
    "\n",
    "Thus the __average snow depth is determined more by the station than the year__, so let us now look if it depends more on location of station or elevation of station, The following map shows the locations of various stations and the colour of circle indicate the values of coeff_1 over there:"
   ]
  },
  {
   "cell_type": "markdown",
   "metadata": {},
   "source": [
    "upon looking on the map i found there is not much pattern in the values of the coeff1:\n",
    "    <tr>\n",
    "    <td> <img src=\"snwdc1.png\" alt=\"tmax\" style=\"width: 900px;\"/> </td>\n",
    "</tr>\n"
   ]
  },
  {
   "cell_type": "markdown",
   "metadata": {},
   "source": [
    "Clearly the __clour of the circles is not dependant on the latitude or longitude so taht is not what is affecting__ the SNWD, so I saw how elevation was affecting it, clearly we can see from the graph below that it is __negatively correlated with elevation__. So SNWD is negatively correlated with elevation.(I have not calculate correlation coeffecient etc as we already did a similar thing while calculating the residual variance and have shown that the station is what affects more)"
   ]
  },
  {
   "cell_type": "markdown",
   "metadata": {},
   "source": [
    "<center>\n",
    "<tr>\n",
    "    <td> <img src=\"snwdc1vsele.png\" alt=\"tmax\" style=\"width: 400px;\"/> </td>\n",
    "</tr>\n",
    "</center>"
   ]
  },
  {
   "cell_type": "markdown",
   "metadata": {},
   "source": [
    "- __Second Eigen Vector__: we can see that the eigen vector 2 has a pattern that __can give information on what time of the year do we have high snow depth__, if the coeff_2 is positive then we will have snow depth high in starting part of the year i.e before april, but if it is negative it suggests we might have good snow depth after april or the decrease from maximum depth starts late for that observation. Let us see if this is true by looking at observations which are having positive and others which have negative coeff_2:"
   ]
  },
  {
   "cell_type": "markdown",
   "metadata": {},
   "source": [
    "coeff2-most positive: As expected positive coeffecient 2 means the place has less snowdepth after april.\n",
    " \n",
    " <tr>\n",
    "    <td> <img src=\"snwdc2pos.png\" alt=\"tmax\" style=\"width: 800px;\"/> </td>\n",
    "</tr>\n",
    "\n",
    "\n"
   ]
  },
  {
   "cell_type": "markdown",
   "metadata": {},
   "source": [
    "coeff_2-most negative: As expected negative coeff_2 means the place has more than average snowdepth after april.\n",
    "<tr>\n",
    "    <td> <img src=\"snwdc2neg.png\" alt=\"tmax\" style=\"width: 800px;\"/> </td>\n",
    "</tr>"
   ]
  },
  {
   "cell_type": "markdown",
   "metadata": {},
   "source": [
    "__Further analysis__\n",
    "        I further analysed the effect of elevation,location and year on the coeff_2 value:\n",
    " \n",
    "Year vs Station \n",
    "Total RMS                   =  1229.5296533\n",
    "    \n",
    "RMS removing mean-by-elevation=  1090.23742062,  around __11.5%__ of variance is explained\n",
    "\n",
    "RMS removing mean-by-year   =  859.293116903,  around __31%__ of variance is explained\n",
    "\n",
    "So year affects the coeff_2 more than the location of the station i.e if there is snow after april or not, depends on year and not much on the location"
   ]
  },
  {
   "cell_type": "markdown",
   "metadata": {},
   "source": [
    "- __Third Eigen Vector__: Eigen vector 3 is very interesting, because as the mean is positive and if we have big snow depth at the begoinning then if coeff3 is negative due to the sharp peak of eigen vector 3 around march the negative coeeff 3 will ensire that there is a drop in snow dept at that time and an incerease llater on, i.e negative coeff_3 could indicate places which a sort of bimodal kind of distribution for snow depth, while a positive coeff_3 enforces unimodal distribution with a peak around march-april"
   ]
  },
  {
   "cell_type": "markdown",
   "metadata": {},
   "source": [
    "coeff3-most positive: As expected positive coeff_3 means the place has unimodal behaviour for snow depth\n",
    "<tr>\n",
    "    <td> <img src=\"snwdc3pos.png\" alt=\"tmax\" style=\"width: 800px;\"/> </td>\n",
    "</tr>\n",
    "\n"
   ]
  },
  {
   "cell_type": "markdown",
   "metadata": {},
   "source": [
    "coeff3-most negative: As expected negative coeff_3 means the place has bimodal behaviour for snowdepth\n",
    "<tr>\n",
    "    <td> <img src=\"snwdc3neg.png\" alt=\"tmax\" style=\"width: 800px;\"/> </td>\n",
    "</tr>\n",
    "\n",
    "\n"
   ]
  },
  {
   "cell_type": "markdown",
   "metadata": {},
   "source": [
    "__Further analysis__\n",
    "\n",
    "        I further analysed the effect of elevation,location and year on the coeff_3 value:\n",
    "\n",
    "Year vs Sation\n",
    "Total RMS                   =  1052.12813966\n",
    "\n",
    "RMS removing mean-by-station=  1018.94773308, around __3.5%__ of variance is explained\n",
    "\n",
    "RMS removing mean-by-year   =  694.772844026, around __34%__ of variance is explained\n",
    "\n",
    "So whether ot not a place will be having __bimodal or unimodal distribution for SNWD is determined mostly by year__."
   ]
  },
  {
   "cell_type": "markdown",
   "metadata": {},
   "source": [
    "<a id='tobs'><h2>Analysis of TOBS</h2></a>\n",
    "\n",
    "#### Average temperature at a place and whether or not it has sub zero temperatures in winter depends equally on year and  the elevation"
   ]
  },
  {
   "cell_type": "markdown",
   "metadata": {},
   "source": [
    "<center>\n",
    "<tr>\n",
    "    <td> <img src=\"tobseig.png\" alt=\"tmax\" style=\"width: 600px;\"/> </td>\n",
    "</tr>\n",
    "</center>"
   ]
  },
  {
   "cell_type": "markdown",
   "metadata": {},
   "source": [
    "- The mean is as expected, the temperatures are low in winters and high in summer.\n",
    "\n",
    "- __The first eigen vector__: it is more or less constant over the entire year, so this might mean that this indicates if a place is hotter or colder than average in general."
   ]
  },
  {
   "cell_type": "markdown",
   "metadata": {},
   "source": [
    "coeff_1-most positive: As expected places with positive coeff1 have higer temperature than mean in general\n",
    "    <tr>\n",
    "    <td> <img src=\"tobsc1pos.png\" alt=\"tmax\" style=\"width: 800px;\"/> </td>\n",
    "</tr>\n"
   ]
  },
  {
   "cell_type": "markdown",
   "metadata": {},
   "source": [
    "coeff1-most negative: As expected places with negative coeff_1 have lower temperature than mean in general\n",
    "    <tr>\n",
    "    <td> <img src=\"tobsc1neg.png\" alt=\"tmax\" style=\"width: 800px;\"/> </td>\n",
    "</tr>\n"
   ]
  },
  {
   "cell_type": "markdown",
   "metadata": {},
   "source": [
    "__Further analysis__:\n",
    "\n",
    "  I further analysed the effect of elevation,location and year on the coeff_1 value:\n",
    "  \n",
    "Total RMS                   =  1031.16773615\n",
    "\n",
    "RMS removing mean-by-station=  537.697094614, around __48%__ of the variance is explained\n",
    "\n",
    "RMS removing mean-by-year   =  966.227091846, around __7%__ of the variance is explained\n",
    "\n",
    "So whwther or not a place hotter or colder than average temperature through out the year is __determined by the station and not the year__, let us further see if this is because of latitude, longitude or beause of elevation, the map shows the locations of the stations:"
   ]
  },
  {
   "cell_type": "markdown",
   "metadata": {},
   "source": [
    "\n",
    " <tr>\n",
    "    <td> <img src=\"maptobsc1.png\" alt=\"tmax\" style=\"width: 800px;\"/> </td>\n",
    "</tr>\n",
    "Clearly the colour of the circles are __not in any pattern thus latitude and longitude are not what are affecting the average temperature__ so we check for elevation."
   ]
  },
  {
   "cell_type": "markdown",
   "metadata": {},
   "source": [
    "\n",
    " <tr>\n",
    "    <td> <img src=\"tobsc1vsele.png\" alt=\"tmax\" style=\"width: 400px;\"/> </td>\n",
    "</tr>\n",
    "thus we can clearly see that average temperature at a place and elevation are negatively correlated.(I have not calculated correlation coeffecient etc as we already did a similar thing while calculating the residual variance and have shown that the station is what affects more)"
   ]
  },
  {
   "cell_type": "markdown",
   "metadata": {},
   "source": [
    "- __Second Eigen Vector__:\n",
    "### NOTE: I have tried many things to see what second eigen vector explains but was unable to find a satisfactory explanation, so I suggest you read other parts of the report (i.e from eigen vector 3 onwards)\n",
    "\n",
    "\n",
    "Eigen vector 2 is like the mean in shape but with negative sign. So I felt that places that have more or less constant temperature should have positive vale for coeff_2 (as the mean and eigen vector cancel out giving a constant temperature)and if coeff_2 is positive then the temperature will be high(similar to mean being multiplied by a factor >1)."
   ]
  },
  {
   "cell_type": "markdown",
   "metadata": {},
   "source": [
    "coeff2-most positive: having a positive coeff_2 does not imply a constant temperature as expected. Butthere is a station __USC00260046__ that behaves as expected, So I analysed further.\n",
    "        \n",
    " <tr>\n",
    "    <td> <img src=\"tobsc2pos.png\" alt=\"tmax\" style=\"width: 800px;\"/> </td>\n",
    "</tr>\n"
   ]
  },
  {
   "cell_type": "markdown",
   "metadata": {},
   "source": [
    "coeff2-most negative: Having negative coeff_2 does mean having mean lower temperature than mean in general as we expected.\n",
    "<tr>\n",
    "    <td> <img src=\"tobsc2neg.png\" alt=\"tmax\" style=\"width: 800px;\"/> </td>\n",
    "</tr>\n"
   ]
  },
  {
   "cell_type": "markdown",
   "metadata": {},
   "source": [
    "I analysed more on __USC00260046__ . Perhaps the temp being constant depends on location so I tried looking at that station's observations at different years.\n",
    "\n",
    "<tr>\n",
    "    <td> <img src=\"tobsc2station.png\" alt=\"tmax\" style=\"width: 800px;\"/> </td>\n",
    "</tr>\n",
    "So we can see that this particular station has more than one observation where the temp is constant throughout the year but then most of the other observations are not having constant temperature through out the year at this station but all the cases in which the tmep is constant have occurred around the same years 1930 to 1941, so perhaps there was something in those years and maybe all station in those years recorded similar readings, so I checked for all stations during those years."
   ]
  },
  {
   "cell_type": "markdown",
   "metadata": {},
   "source": [
    "<tr>\n",
    "    <td> <img src=\"tobsc2year.png\" alt=\"tmax\" style=\"width: 800px;\"/> </td>\n",
    "</tr>\n",
    "Unfortunately we do not find any expected patterns here as well, so we cannot conclude anything from this. So I tried to see for stations nearby according to latitude and longitude."
   ]
  },
  {
   "cell_type": "markdown",
   "metadata": {},
   "source": [
    " <tr>\n",
    "    <td> <img src=\"tobsc2latlong.png\" alt=\"tmax\" style=\"width: 800px;\"/> </td>\n",
    "</tr>\n"
   ]
  },
  {
   "cell_type": "markdown",
   "metadata": {},
   "source": [
    "Again we see no patterns so instead of latitude an longitude I tried to check for places with similar elevations and observation coming in those years:\n",
    "<tr>\n",
    "    <td> <img src=\"tobsc2ele.png\" alt=\"tmax\" style=\"width: 800px;\"/> </td>\n",
    "</tr>\n",
    "Again __I found no patterns, so I could not conclude what coeff_2 represents__"
   ]
  },
  {
   "cell_type": "markdown",
   "metadata": {},
   "source": [
    "- __Third Eigen Vector__: this has negative value in the beginning, so perhaps this indicates palces which have temperatures below zero temp in winter.\n",
    "I had to also further filter reults by taking only thos observations which had negative coeff1 (i.e colder than normal) i.e I am considering only the colder regions, and in those regions I found that presence of eigen vector3 indicates if the temperatures go below zero or not in winter."
   ]
  },
  {
   "cell_type": "markdown",
   "metadata": {},
   "source": [
    "Coeff3-most positive (and coeff1 negative i.e cold place):positive coeff3 means temperature go below zero in winter.\n",
    "<tr>\n",
    "    <td> <img src=\"tobsc3pos.png\" alt=\"tmax\" style=\"width: 800px;\"/> </td>\n",
    "</tr>\n"
   ]
  },
  {
   "cell_type": "markdown",
   "metadata": {},
   "source": [
    "coeff3-most negative(coeff1 negative): As expected negative coeff_3 means temperature is not below zero in winter (in general).\n",
    "<tr>\n",
    "    <td> <img src=\"tobsc3neg.png\" alt=\"tmax\" style=\"width: 800px;\"/> </td>\n",
    "</tr>\n"
   ]
  },
  {
   "cell_type": "markdown",
   "metadata": {},
   "source": [
    "__Further analysis__: \n",
    "\n",
    " I further analysed the effect of elevation,location and year on the coeff_3 value:\n",
    "    \n",
    "Total RMS                   =  185.478382466\n",
    "\n",
    "RMS removing mean-by-station=  144.94170463, around __22%__ percent of variance is explained\n",
    "\n",
    "RMS removing mean-by-year   =  139.073885652, around __25%__ percent of variance is explained\n",
    "\n",
    "So both of them do not affect much, lets see if can get any further insights from looking at the locations of stations on map:"
   ]
  },
  {
   "cell_type": "markdown",
   "metadata": {},
   "source": [
    "<tr>\n",
    "    <td> <img src=\"maptobsc3.png\" alt=\"tmax\" style=\"width: 800px;\"/> </td>\n",
    "</tr>"
   ]
  },
  {
   "cell_type": "markdown",
   "metadata": {},
   "source": [
    "There seems to be no patterns observable in map, so I analysed the affect of elevation:\n",
    "<tr>\n",
    "    <td> <img src=\"tobsc3vsele.png\" alt=\"tmax\" style=\"width: 400px;\"/> </td>\n",
    "</tr>\n",
    "Thus of the location and elevation we can say it depends a bit on location i.e __more the elevation more the chance of getting below zero temperatures in winters__"
   ]
  },
  {
   "cell_type": "markdown",
   "metadata": {},
   "source": [
    "<a id='prcp'><h2>Analysis of Precipitation</h2></a>\n",
    "\n",
    "#### Annual rainfall depends on location(latitude and longitude) and also on the year, there is correlation among the stations for rainfall"
   ]
  },
  {
   "cell_type": "markdown",
   "metadata": {},
   "source": [
    "<center>\n",
    "<tr>\n",
    "    <td> <img src=\"prcpeig.png\" alt=\"tmax\" style=\"width: 600px;\"/> </td>\n",
    "</tr>\n",
    "</center>"
   ]
  },
  {
   "cell_type": "markdown",
   "metadata": {},
   "source": [
    "- __The Mean__\n",
    "- __Eigen vectors__ do not explain much of variance so it is difficult to use them, the first eigen vetor is a bit smooth, so it might indicate something if coeff1 is positive then the first eigen value will contribute in decreasing the amount of prcp and vice versa hence this might indicate the amount of rainfall."
   ]
  },
  {
   "cell_type": "markdown",
   "metadata": {},
   "source": [
    "coeff1- most positive: \n",
    "<tr>\n",
    "    <td> <img src=\"prcpc1pos.png\" alt=\"tmax\" style=\"width: 800px;\"/> </td>\n",
    "</tr>"
   ]
  },
  {
   "cell_type": "markdown",
   "metadata": {},
   "source": [
    "coeff1-most negative:\n",
    "<tr>\n",
    "    <td> <img src=\"prcpc1neg.png\" alt=\"tmax\" style=\"width: 800px;\"/> </td>\n",
    "</tr>"
   ]
  },
  {
   "cell_type": "markdown",
   "metadata": {},
   "source": [
    "As expected it looks as if the first eigen vector indicates the amount of precipitation, __but to analyse this further I considered Annual precipitation(sum of everydays precipitation)__, the following graph shows the relation between Annual rainfall and Coeff_1. Note:This summing up makes it easy to analyse as it removes the aprupt changes and replaces the entire year with one total precipiattion value)"
   ]
  },
  {
   "cell_type": "markdown",
   "metadata": {},
   "source": [
    "\n",
    "<tr>\n",
    "    <td> <img src=\"annual.png\" alt=\"tmax\" style=\"width: 400px;\"/> </td>\n",
    "</tr>\n",
    "Clearly we can see that __there is a negative correlation between coeff_1 and annual precipitation__ unlike before I cannot conclude it directly by seeing the graph, I need to compute the __Pearson's Correlation Coeffecient/coefficient of correlation/__ between the two and in this case it turned out to be __-0.98025357__ which indicates a strong negative correlation between the two.(Previously we ndid not have to calculate this value a s we had already performed the analysis in notebook6 on given values but here we are making up annual precipitation which we do not analyse in notebook6 so here it is necessary to calculate this coeffecient)"
   ]
  },
  {
   "cell_type": "markdown",
   "metadata": {},
   "source": [
    "__Further analysis__:\n",
    "\n",
    "Total RMS                   =  230.687045996\n",
    "\n",
    "RMS removing mean-by-station=  167.517032288, around__26%__ of variance is explained\n",
    "\n",
    "RMS removing mean-by-year   =  168.300245122, around__26%__ of variance is explained\n",
    "\n",
    "Thus both of them explain almost equally."
   ]
  },
  {
   "cell_type": "markdown",
   "metadata": {},
   "source": [
    "<tr>\n",
    "    <td> <img src=\"mapprcpc1.png\" alt=\"tmax\" style=\"width: 800px;\"/> </td>\n",
    "</tr>"
   ]
  },
  {
   "cell_type": "markdown",
   "metadata": {},
   "source": [
    "__The map in this case does eem to have a pattern, interestingly all the blue shades are near yosemite__ perhaps because of the vegetation, but as there are other stations as well we might have got the result that staions do not explain much of the variance."
   ]
  },
  {
   "cell_type": "markdown",
   "metadata": {},
   "source": [
    "<tr>\n",
    "    <td> <img src=\"prcpvsele.png\" alt=\"tmax\" style=\"width: 400px;\"/> </td>\n",
    "</tr>\n",
    "As can be seen from the graph there is no affect of elevation on coeff_1 and they are uncorrelated."
   ]
  },
  {
   "cell_type": "markdown",
   "metadata": {},
   "source": [
    "<center>\n",
    "<tr>\n",
    "    <td> <img src=\"annualrainfallvsele.png\" alt=\"tmax\" style=\"width: 400px;\"/> </td>\n",
    "</tr>\n",
    "</center>"
   ]
  },
  {
   "cell_type": "markdown",
   "metadata": {
    "collapsed": true
   },
   "source": [
    "I also analysed for average annual rain fall at each elevation(average of all annual rainfalls at that elevation) and still get the result to be almost same i.e avergae annual rainfall is not correlated, and in this case the __Pearson's Correlation coeffecient is 0.01663051, thus indicating not correlation between elevation and annual average rainfall__"
   ]
  },
  {
   "cell_type": "markdown",
   "metadata": {
    "collapsed": true
   },
   "source": [
    "### Checking for correlation between stations:"
   ]
  },
  {
   "cell_type": "markdown",
   "metadata": {},
   "source": [
    "<center>\n",
    "<tr>\n",
    "    <td> <img src=\"prcpmat1.png\" alt=\"tmax\" style=\"width: 400px;\"/> </td>\n",
    "    <td> <img src=\"prcpmat2.png\" alt=\"tmax\" style=\"width: 400px;\"/> </td>\n",
    "</tr>\n",
    "</center>"
   ]
  },
  {
   "cell_type": "markdown",
   "metadata": {},
   "source": [
    "After analysing the symmetrcal matrix of pairwise probabilities for the stations to have the observations as seen provided they are independant, we get that the first 10 stations are correlated(in black), then upon performing PCA on this and reconstructing it using various eigen vectors we see that first 20 stations are correlated and also the last 40 stations (in dark blue) are correlated. "
   ]
  },
  {
   "cell_type": "markdown",
   "metadata": {},
   "source": [
    "<a id='snow'><h2>Analysis of SNOW</h2></a>\n",
    "\n",
    "#### Annual snowfalll depends on elevation, snowfall is not correlated among stations"
   ]
  },
  {
   "cell_type": "markdown",
   "metadata": {},
   "source": [
    "<center>\n",
    "<tr>\n",
    "    <td> <img src=\"eigsnow.png\" alt=\"tmax\" style=\"width: 600px;\"/> </td>\n",
    "</tr>\n",
    "</center>"
   ]
  },
  {
   "cell_type": "markdown",
   "metadata": {},
   "source": [
    "- __The Mean__: The mean is as expected, it is high in winter and almost zero in summer\n",
    "- __Eigen vectors__ do not explain much of variance so it is difficult to use them, the first eigen vetor is a bit smooth, so it might indicate something if coeff1 is positive then the first eigen value will contribute in decreasing the amount of snow and vice versa hence this might indicate the amount of snowfall."
   ]
  },
  {
   "cell_type": "markdown",
   "metadata": {},
   "source": [
    "coeff_1-high:As expected when coeff_1 is positive we have very less snowfall\n",
    "<tr>\n",
    "    <td> <img src=\"snowc1pos.png\" alt=\"tmax\" style=\"width: 800px;\"/> </td>\n",
    "</tr>"
   ]
  },
  {
   "cell_type": "markdown",
   "metadata": {},
   "source": [
    "coeff_1-low: As expected when coeff_1 is positive we have very less snowfall\n",
    "    <tr>\n",
    "    <td> <img src=\"snowc1neg.png\" alt=\"tmax\" style=\"width: 800px;\"/> </td>\n",
    "</tr>\n"
   ]
  },
  {
   "cell_type": "markdown",
   "metadata": {},
   "source": [
    "#### Analysis of Average Annual Snowfall vs elevation\n",
    "<center>\n",
    "<tr>\n",
    "    <td> <img src=\"annualsnowfall.png\" alt=\"tmax\" style=\"width: 400px;\"/> </td>\n",
    "</tr>\n",
    "</center>\n",
    "\n",
    "Average annual rainfall is the average of the yearly snowfall at each elevation. Clearly the __graph suggests a positive correlation, indeed te Pearson's Correlation coefficient is 0.74281392__ thus there is a positive correlation and annual snowfall depends on elevation."
   ]
  },
  {
   "cell_type": "markdown",
   "metadata": {},
   "source": [
    "__Further Analysis__\n",
    "\n",
    "Total RMS                   =  34.3434860468\n",
    "RMS removing mean-by-station=  33.6097274152\n",
    "RMS removing mean-by-year   =  27.092378456\n",
    "\n",
    "As we can see none of them explain much."
   ]
  },
  {
   "cell_type": "markdown",
   "metadata": {},
   "source": [
    "<center>\n",
    "<tr>\n",
    "    <td> <img src=\"mapsnow.png\" alt=\"tmax\" style=\"width: 800px;\"/> </td>\n",
    "</tr>\n",
    "</center>\n",
    "Here there seems to be a ppattern as in the case of rainfall, the pattern is different foover yosemite than other palces probably due to vegetation"
   ]
  },
  {
   "cell_type": "markdown",
   "metadata": {},
   "source": [
    "## Analysing correlations\n",
    "<center>\n",
    "<tr>\n",
    "    <td> <img src=\"snowmat1.png\" alt=\"tmax\" style=\"width: 400px;\"/> </td>\n",
    "    <td> <img src=\"snowmat2.png\" alt=\"tmax\" style=\"width: 400px;\"/> </td>\n",
    "</tr>\n",
    "</center>"
   ]
  },
  {
   "cell_type": "markdown",
   "metadata": {},
   "source": [
    "After analysing the symmetrcal matrix of pairwise probabilities for the stations to have the observations as seen provided they are independant, we get that none of the stations are correlated(except with themselves), even upon performing PCA on this and reconstructing it using various eigen vectors we still see see no strong correlation. This indicates that snow is not correlated, as can be understood as it is dependant on a lot of factors."
   ]
  },
  {
   "cell_type": "code",
   "execution_count": null,
   "metadata": {
    "collapsed": true
   },
   "outputs": [],
   "source": []
  }
 ],
 "metadata": {
  "anaconda-cloud": {},
  "kernelspec": {
   "display_name": "Python [conda env:python2]",
   "language": "python",
   "name": "conda-env-python2-py"
  },
  "language_info": {
   "codemirror_mode": {
    "name": "ipython",
    "version": 2
   },
   "file_extension": ".py",
   "mimetype": "text/x-python",
   "name": "python",
   "nbconvert_exporter": "python",
   "pygments_lexer": "ipython2",
   "version": "2.7.13"
  }
 },
 "nbformat": 4,
 "nbformat_minor": 1
}
