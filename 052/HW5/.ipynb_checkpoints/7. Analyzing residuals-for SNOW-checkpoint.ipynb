{
 "cells": [
  {
   "cell_type": "code",
   "execution_count": 70,
   "metadata": {
    "collapsed": true,
    "run_control": {
     "frozen": false,
     "read_only": false
    }
   },
   "outputs": [],
   "source": [
    "#setup\n",
    "data_dir='../../Data/Weather'\n",
    "file_index='SBSSBBBS'\n",
    "meas='SNOW'"
   ]
  },
  {
   "cell_type": "code",
   "execution_count": 120,
   "metadata": {
    "collapsed": true
   },
   "outputs": [],
   "source": [
    "from ipyleaflet import (\n",
    "    Map,\n",
    "    Marker,\n",
    "    TileLayer, ImageOverlay,\n",
    "    Polyline, Polygon, Rectangle, Circle, CircleMarker,\n",
    "    GeoJSON,\n",
    "    DrawControl\n",
    ")"
   ]
  },
  {
   "cell_type": "code",
   "execution_count": 121,
   "metadata": {
    "collapsed": true
   },
   "outputs": [],
   "source": [
    "from leaflet import *"
   ]
  },
  {
   "cell_type": "markdown",
   "metadata": {
    "run_control": {
     "frozen": false,
     "read_only": false
    },
    "slideshow": {
     "slide_type": "slide"
    },
    "variables": {
     "meas": "PRCP"
    }
   },
   "source": [
    "# Reconstruction using top eigen-vectors\n",
    "For measurement = {{meas}}"
   ]
  },
  {
   "cell_type": "markdown",
   "metadata": {
    "run_control": {
     "frozen": false,
     "read_only": false
    },
    "slideshow": {
     "slide_type": "skip"
    }
   },
   "source": [
    "## Load the required libraries"
   ]
  },
  {
   "cell_type": "code",
   "execution_count": 73,
   "metadata": {
    "collapsed": true,
    "run_control": {
     "frozen": false,
     "read_only": false
    },
    "slideshow": {
     "slide_type": "skip"
    }
   },
   "outputs": [],
   "source": [
    "# Enable automiatic reload of libraries\n",
    "#%load_ext autoreload\n",
    "#%autoreload 2 # means that all modules are reloaded before every command"
   ]
  },
  {
   "cell_type": "code",
   "execution_count": 74,
   "metadata": {
    "run_control": {
     "frozen": false,
     "read_only": false
    },
    "slideshow": {
     "slide_type": "skip"
    }
   },
   "outputs": [
    {
     "name": "stdout",
     "output_type": "stream",
     "text": [
      "Populating the interactive namespace from numpy and matplotlib\n",
      "    pandas as    pd \tversion=0.19.2 \trequired version>=0.19.2\n",
      "     numpy as    np \tversion=1.11.3 \trequired version>=1.12.0 ******* Update Version ******\n",
      "   sklearn as    sk \tversion=0.18.1 \trequired version>=0.18.1\n",
      "    urllib as urllib \tversion=1.17 \trequired version>=1.17\n",
      "   pyspark as pyspark \tversion=2.1.0+hadoop2.7 \trequired version>=2.1.0\n",
      "ipywidgets as ipywidgets \tversion=6.0.0 \trequired version>=6.0.0\n"
     ]
    },
    {
     "name": "stderr",
     "output_type": "stream",
     "text": [
      "/Users/akankshagrover/anaconda/lib/python2.7/site-packages/IPython/core/magics/pylab.py:161: UserWarning: pylab import has clobbered these variables: ['Circle', 'axes', 'box', 'Widget', 'eigvals', 'interactive', 'Rectangle', 'Polygon', 'load']\n",
      "`%matplotlib` prevents importing * from pylab and numpy\n",
      "  \"\\n`%matplotlib` prevents importing * from pylab and numpy\"\n"
     ]
    }
   ],
   "source": [
    "%pylab inline\n",
    "import numpy as np\n",
    "\n",
    "import findspark\n",
    "findspark.init()\n",
    "\n",
    "import sys\n",
    "sys.path.append('./lib')\n",
    "\n",
    "from numpy_pack import packArray,unpackArray\n",
    "\n",
    "from Eigen_decomp import Eigen_decomp\n",
    "from YearPlotter import YearPlotter\n",
    "from recon_plot import recon_plot\n",
    "\n",
    "from import_modules import import_modules,modules\n",
    "import_modules(modules)\n",
    "\n",
    "from ipywidgets import interactive,widgets"
   ]
  },
  {
   "cell_type": "code",
   "execution_count": 75,
   "metadata": {
    "collapsed": true,
    "run_control": {
     "frozen": false,
     "read_only": false
    },
    "slideshow": {
     "slide_type": "skip"
    }
   },
   "outputs": [],
   "source": [
    "from pyspark import SparkContext\n",
    "#sc.stop()\n",
    "\n",
    "sc = SparkContext(master=\"local[3]\",pyFiles=['lib/numpy_pack.py','lib/spark_PCA.py','lib/computeStats.py','lib/recon_plot.py','lib/Eigen_decomp.py'])\n",
    "\n",
    "from pyspark import SparkContext\n",
    "from pyspark.sql import *\n",
    "sqlContext = SQLContext(sc)"
   ]
  },
  {
   "cell_type": "markdown",
   "metadata": {
    "run_control": {
     "frozen": false,
     "read_only": false
    },
    "slideshow": {
     "slide_type": "slide"
    }
   },
   "source": [
    "## Read Statistics File"
   ]
  },
  {
   "cell_type": "code",
   "execution_count": 76,
   "metadata": {
    "run_control": {
     "frozen": false,
     "read_only": false
    },
    "slideshow": {
     "slide_type": "subslide"
    }
   },
   "outputs": [
    {
     "name": "stdout",
     "output_type": "stream",
     "text": [
      "keys from STAT= ['TMIN', 'TOBS', 'TMAX', 'SNOW', 'SNWD', 'PRCP']\n"
     ]
    }
   ],
   "source": [
    "from pickle import load\n",
    "\n",
    "#read statistics\n",
    "filename=data_dir+'/STAT_%s.pickle'%file_index\n",
    "STAT,STAT_Descriptions = load(open(filename,'rb'))\n",
    "measurements=STAT.keys()\n",
    "print 'keys from STAT=',measurements"
   ]
  },
  {
   "cell_type": "markdown",
   "metadata": {
    "run_control": {
     "frozen": false,
     "read_only": false
    },
    "slideshow": {
     "slide_type": "slide"
    }
   },
   "source": [
    "## Read data file into a spark DataFrame\n",
    "We focus on the snow-depth records, because the eigen-vectors for them make sense."
   ]
  },
  {
   "cell_type": "code",
   "execution_count": 77,
   "metadata": {
    "run_control": {
     "frozen": false,
     "read_only": false
    },
    "scrolled": true,
    "slideshow": {
     "slide_type": "subslide"
    }
   },
   "outputs": [
    {
     "name": "stdout",
     "output_type": "stream",
     "text": [
      "+-------------------+-------------------+------------------+---------+--------+--------+---------+-----------+------------------+------------------+------------------+------------------+-----------+---------+------+--------------------+------+\n",
      "|            coeff_1|            coeff_2|           coeff_3|elevation|   label|latitude|longitude|measurement|             res_1|             res_2|             res_3|          res_mean|    station|total_var|undefs|              vector|  year|\n",
      "+-------------------+-------------------+------------------+---------+--------+--------+---------+-----------+------------------+------------------+------------------+------------------+-----------+---------+------+--------------------+------+\n",
      "|  -60.8766470489593|  99.51898724456353|-37.97955519800407|   1364.9|SBSSBBBS| 42.9203|-112.5711|       SNOW|0.9587133716221666|0.8483767036061195|0.8323070055134414| 0.819144905491787|USW00024156| 109580.0|     0|[00 00 C0 50 00 4...|1993.0|\n",
      "| -80.40700239293794| 27.835744429460515|-136.8425113215101|   1795.3|SBSSBBBS| 43.6842|-114.3603|       SNOW|0.9628745179614031|0.9590579844838808|0.8311036407491302|0.8996170785602318|USC00104845| 218969.0|     4|[00 00 00 00 00 0...|2001.0|\n",
      "| -36.30075479296824| 25.368731621954616|146.55327914075755|   1865.4|SBSSBBBS| 43.7306|-111.1125|       SNOW|0.9829033805376884|0.9756421130754888| 0.830174333659313| 0.909223221385133|USC00102676| 164096.0|    28|[00 7E 40 4E 20 5...|1937.0|\n",
      "| -128.3611121072119|-109.31612039371964| 30.59840568630075|   1472.8|SBSSBBBS| 42.8917|-112.4086|       SNOW|0.9025899096898528|0.8319410064368223| 0.826405790085611|0.8736003120080617|USC00107208| 193620.0|     0|[00 00 00 00 00 0...|1996.0|\n",
      "|-114.60274745502801|  141.5899387564641|-1.805088415342043|   1653.2|SBSSBBBS| 43.5667|-114.3333|       SNOW|0.9312842259953953|0.8248792901568093|0.8248855011976356| 0.857362441057949|USC00103942| 227832.0|    31|[00 00 00 00 00 0...|1909.0|\n",
      "+-------------------+-------------------+------------------+---------+--------+--------+---------+-----------+------------------+------------------+------------------+------------------+-----------+---------+------+--------------------+------+\n",
      "only showing top 5 rows\n",
      "\n"
     ]
    }
   ],
   "source": [
    "#read data\n",
    "filename=data_dir+'/decon_%s_%s.parquet'%(file_index,meas)\n",
    "df_in=sqlContext.read.parquet(filename)\n",
    "#filter in \n",
    "df=df_in.filter(df_in.measurement==meas)\n",
    "df.show(5)"
   ]
  },
  {
   "cell_type": "markdown",
   "metadata": {
    "run_control": {
     "frozen": false,
     "read_only": false
    },
    "slideshow": {
     "slide_type": "slide"
    }
   },
   "source": [
    "### Plot Mean and Eigenvecs"
   ]
  },
  {
   "cell_type": "code",
   "execution_count": 78,
   "metadata": {
    "run_control": {
     "frozen": false,
     "read_only": false
    },
    "scrolled": false,
    "slideshow": {
     "slide_type": "subslide"
    }
   },
   "outputs": [
    {
     "data": {
      "image/png": "iVBORw0KGgoAAAANSUhEUgAAAl8AAAFcCAYAAAD2w9suAAAABHNCSVQICAgIfAhkiAAAAAlwSFlz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\nYmJLe4SNFRBseZ10a4DCiWfSXr8DD