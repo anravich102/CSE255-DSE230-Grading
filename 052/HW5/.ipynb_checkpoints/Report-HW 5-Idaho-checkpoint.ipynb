{
 "cells": [
  {
   "cell_type": "markdown",
   "metadata": {
    "collapsed": true
   },
   "source": [
    " # Idhao Weather Analysis"
   ]
  },
  {
   "cell_type": "markdown",
   "metadata": {
    "collapsed": true
   },
   "source": [
    "### Fun Fact :   \n",
    "### Idaho is a state in the northwestern region of the United States. It borders the state of Montana to the east and northeast, Wyoming to the east, Nevada and Utah to the south, and Washington and Oregon to the west.  \n",
    "### Idaho is called the \"Gem State\", because nearly every known type of gemstone has been found in the state of Idaho. More than 72 different precious and semi-precious gemstones are mined from Idaho\n"
   ]
  },
  {
   "cell_type": "markdown",
   "metadata": {},
   "source": [
    "This report presents the past weather data analysis of the area that falls in the state of 'Idaho' in the United states. \n",
    "\n",
    "The data used here comes from [NOAA](https://www.ncdc.noaa.gov/) and was downloaded from This [FTP site](ftp://ftp.ncdc.noaa.gov/pub/data/ghcn/daily/). The entire data spans over **1763** to **2017**. \n",
    "\n",
    "As instructed in class, I generated the stat files for the following statistics:   \n",
    "**PRCP** = Precipitation (tenths of mm)  \n",
    "**SNOW** = Snowfall (mm)  \n",
    "**SNWD** = Snow depth (mm)  \n",
    "**TMAX** = Maximum temperature (tenths of degrees C)  \n",
    "**TMIN** = Minimum temperature (tenths of degrees C)  \n",
    "**TOBS** = Temperature at the time of observation (tenths of degrees C) \n",
    "\n",
    "## 1.  Sanity-check: comparison with outside sources for Idaho\n",
    "\n",
    "### Data Source 1:\n",
    "\n",
    "<p>I obtained the general statistics for the state of Idhao from the website <a href=\"https://en.climate-data.org/location/125024/\" target=\"_blank\">Climate-data.org</a>   \n",
    "<br/>\n",
    "\n",
    "<img src=\"my_figures/temp_idaho.png\"  style=\"float: left; width: 48%;\"/><img src=\"my_figures/climate_idaho.png\" style=\"float: right; width: 48%;\"/>    \n",
    "\n"
   ]
  },
  {
   "cell_type": "markdown",
   "metadata": {
    "collapsed": true
   },
   "source": [
    "Above are two graphs with minimum and maximum temperatures across the months 01=January to 12=December. The temperatures are shown in both Fahrenheit and Celcius. (in Red) \n",
    "\n",
    "The graph on the left also shows precipation across the months in mm (in Blue)."
   ]
  },
  {
   "cell_type": "markdown",
   "metadata": {},
   "source": [
    "### Data Source 2:  \n",
    "<p>Another data source from the website <a href=\"http://www.worldclimate.com/climate/us/idaho\" target=\"_blank\">World Climate</a>   \n",
    "<br/>\n",
    "\n",
    "<img src=\"my_figures/high_temp.png\"  style=\"float: left; width: 40%;\"/><img src=\"my_figures/low_temp.png\" style=\"float: center; width: 40%;\"/><img src=\"my_figures/prcp.png\" style=\"float: center; width: 40%;\"/>"
   ]
  },
  {
   "cell_type": "markdown",
   "metadata": {},
   "source": [
    "The first plot shows the average maximum temperature in Fahrenheit.  \n",
    "The second plot shows the avergae minimum temperature in Fahrenheit.  \n",
    "The third plot shows the average precipitation in inches."
   ]
  },
  {
   "cell_type": "markdown",
   "metadata": {},
   "source": [
    "## Results from our data:\n",
    "\n",
    "<img src=\"my_figures/TMAX&TMIN.png\"  style=\"width: 90%;\"/>\n",
    "\n",
    "I converted the scale to degree Fahrenheit to compare with the data sources above.\n",
    "\n",
    "## Temperature Conclusions:\n",
    "1. As we compare the min and max of our data with the above sources, we see its very similar. The maximum temperature varies from **30° F** to around **90° F** which is totally in resonance with the other data sources cited above. The minimum temperature varies from around **10° F** to below **50° F** which is also pretty similar.\n",
    "\n",
    "2. The variation is also the same over the year. **January and December are the coldest months in Idaho when temperature falls and June-July-August are the hottest months with very high temperature.**\n",
    "\n",
    "\n",
    "<img src=\"my_figures/PRCP_data.png\"  style=\"width: 50%;\"/>\n",
    "\n",
    "## Precipitation Conclusions:\n",
    "1. From the first data source, precipitation is as high as 90 mm/month = **3 mm/day** to as low as 10 mm/month =**0.33 mm/day**. From the second data source, precipitaion ranged from 2 inches/month = **1.7 mm/day** (high) to  0.1 inches/month = **0.09 mm/day**. We see that our data also follows these ranges from the figure above.  \n",
    "\n",
    "2. Moreover, we see the same pattern. Idaho has **high rainfall during winter months(Jan,Dec) and very low rainfall during summer months(June,July,August)**"
   ]
  },
  {
   "cell_type": "markdown",
   "metadata": {},
   "source": [
    "## 2. PCA Analysis"
   ]
  },
  {
   "cell_type": "markdown",
   "metadata": {},
   "source": [
    "<img src=\"my_figures/pca1.png\"  style=\"width: 90%;\"/>\n",
    "<img src=\"my_figures/pca2.png\"  style=\"width: 90%;\"/>"
   ]
  },
  {
   "cell_type": "markdown",
   "metadata": {
    "collapsed": true
   },
   "source": [
    "Above is the percentage of variance explained vs the number of eigen vectors for each of the measurements TMAx,TMIN,TOBS,SNOW,SNWD,PRCP."
   ]
  },
  {
   "cell_type": "markdown",
   "metadata": {},
   "source": [
    "1. The top 5 eigen vectors explain 30% varaince for TMIN, out of which the 1st eigen vector explains 20%\n",
    "2. For **TOBS**, the variance explained is much more around **55% by top 5 eigen vectors, 50% alone by 1st eigen vector.**\n",
    "3. For TMAX, its again around 30% variance by top 5 vectors.\n",
    "4. For SNOW, we have very little only above 12% explained by top 5 eigen vectors.\n",
    "5. For **SNWD**, we observe the maximum percentage of variance explained, more than **80% by top 5 eigen vectos.(First eigen vector alone explains 80%)\n",
    "6. The top 5 eigen vectors only explain 10% variance in PRCP."
   ]
  },
  {
   "cell_type": "markdown",
   "metadata": {},
   "source": [
    "## Analysis of Snow Depth\n",
    "Below is the mean and standard deviation for snow depth. \n",
    "<img src=\"my_figures/SNWD_mean.png\"  style=\"width: 40%;\"/>\n",
    "\n",
    "From this we see the snow season can lie between Nov-april. After that during summer months there is no snow. \n",
    "\n",
    "Now we can analyse Snow depth (SNWD) in more detail since the top 5 eigen vectors explain the maximum variation in snow depth.\n",
    "\n",
    "<img src=\"my_figures/Eigs_SNWD.png\"  style=\"width: 60%;\"/>"
   ]
  },
  {
   "cell_type": "markdown",
   "metadata": {},
   "source": [
    "### SNWD Observations:  \n",
    "From the mean we observe that the snow period is from **mid-November to April** Peaks in February and highest in (mid Nov-Feb) for snow depth.  \n",
    "\n",
    "Eigenvectors:  \n",
    "**eig1** : The first eigen vectors depicts an average much below the mean, actually in opposite direction but distribution is such that it remains zero from April to mid Novemeber and only shows varaiation is snow months. The distribution is very similar to mean but in opposite direction so may be its capturing something the mean is not.  \n",
    "\n",
    "**eig2,eig3,eig4,eig5** : eig2 is much higher than eig 1 but still average below mean, eig3 is almost like the mean. eig2,3,4,5 go from positive to neagtive and negative to positive in the snow months only, each showing contributions of different stations in snow depth variance, but maintaining overall distrinution.  \n",
    "\n",
    "**eig2**: more snow depth in Jan, decreases till April and high from mid-Nov to Jan  \n",
    "**eig3**: less snow depth in Jan, more increase towards April  \n",
    "**eig4**: less snow depth in Jan, increases in March and April  \n",
    "**eig5**: more snow depth in Jan and goes low in mid-Feb and then increases over March and low again in April  \n",
    "\n",
    "\n",
    "\n"
   ]
  },
  {
   "cell_type": "markdown",
   "metadata": {},
   "source": [
    "We can see how high variance is explained by top vectors in below figure for SNWD. \n",
    "<img src=\"my_figures/variance_eigs.png\"  style=\"width: 40%;\"/>"
   ]
  },
  {
   "cell_type": "markdown",
   "metadata": {},
   "source": [
    "### Reconstructions"
   ]
  },
  {
   "cell_type": "markdown",
   "metadata": {
    "collapsed": true
   },
   "source": [
    "#### Coeff1\n",
    "Coeff1: most positive\n",
    "<img src=\"my_figures/c1_pos.png\"  style=\"width: 90%;\"/>\n",
    "Coeff1: most negative\n",
    "<img src=\"my_figures/c1_neg.png\"  style=\"width: 90%;\"/>\n",
    "<img src=\"my_figures/months4.png\"  style=\"width: 90%;\"/>\n",
    "\n",
    "### Conclusion:  \n",
    "\n",
    "**Large positive values of coeff1 correspond to less than average snow. Low values correspond to more than average snow.**   \n",
    "\n",
    "#### Coeff2\n",
    "Coeff2: most positive\n",
    "<img src=\"my_figures/c2_pos.png\"  style=\"width: 90%;\"/>\n",
    "Coeff2: most negative\n",
    "<img src=\"my_figures/c2_neg.png\"  style=\"width: 90%;\"/>\n",
    "<img src=\"my_figures/months4.png\"  style=\"width: 90%;\"/>\n",
    "\n",
    "### Conclusion:    \n",
    "\n",
    "**Large positive values of coeff2 correspond to a early snow season peak (most of the snowfall is from Jan to mid-feb). Negative values for coeff2 correspond to an late snow season peak( the snow is less in Jan and reaches a peak in mid-feb).**   \n",
    "\n",
    "#### Coeff3\n",
    "Coeff3: most positive\n",
    "<img src=\"my_figures/c3_pos.png\"  style=\"width: 90%;\"/>\n",
    "Coeff3: most negative\n",
    "<img src=\"my_figures/c3_neg.png\"  style=\"width: 90%;\"/>\n",
    "<img src=\"my_figures/months4.png\"  style=\"width: 90%;\"/>\n",
    "\n",
    "### Conclusion:    \n",
    "\n",
    "**Large positive values of coeff3 correspond to a late snow season with peak in mid-March. Negative values of coeff3 correspond to a early snow season with a peak around Feb**\n"
   ]
  },
  {
   "cell_type": "markdown",
   "metadata": {
    "collapsed": true
   },
   "source": [
    "### Map\n",
    "Below is the **visual representation** of the eigen vector(top 4) coefficients of **SNWD** of the stations in Idaho region.  \n",
    "**Filled Triangles** == Negative Coefficients  \n",
    "**Empty Triangles** == Positive Coefficients   \n",
    "The size reflects the absolute value of coeffcients (higher the magnitude, larger the size of triangle)\n",
    "\n",
    "<img src=\"my_figures/coeff_map1.png\"  style=\"width: 70%;\"/>\n",
    "<img src=\"my_figures/coeff_map2.png\"  style=\"width: 70%;\"/>"
   ]
  },
  {
   "cell_type": "markdown",
   "metadata": {},
   "source": [
    "### Plotting average of coeff1\n",
    "\n",
    "As shown above, the high positive value of coeff1 corresponds to lesser snow depth as compared to low negative value of coeff1.  \n",
    "From the map below we can see there are a few places on the hilly region(blue color) with low value of coeff1 and hence high snow depth.  \n",
    "Most other places show lesser snow depth in red color.  \n",
    "<img src=\"my_figures/coeff1.png\"  style=\"width: 70%;\"/>"
   ]
  },
  {
   "cell_type": "markdown",
   "metadata": {},
   "source": [
    "## The variation in the timing of snow depth is mostly due to year-to-year variation and variation in amount of snow is mostly due to station-to station variation\n",
    "\n",
    "Here we calculate the variation in timing of snow by subtracting mean-by-station and mean-by-year RMS and getting below values:\n",
    "\n",
    "**Coeff1**   \n",
    "total RMS                   =  2765.12   \n",
    "RMS removing mean-by-station=  1528.81 ,fraction explained=  44.71  \n",
    "RMS removing mean-by-year   =  2144.77 ,fraction explained=  22.43      \n",
    "\n",
    "**Coeff2**     \n",
    "total RMS                   =  848.7  \n",
    "RMS removing mean-by-station=  828.27 ,fraction explained=  2.41  \n",
    "RMS removing mean-by-year   =  540.69 ,fraction explained=  36.29     \n",
    "\n",
    "**Coeff3**   \n",
    "total RMS                   =  784.22   \n",
    "RMS removing mean-by-station=  670.92 ,fraction explained=  14.45  \n",
    "RMS removing mean-by-year   =  588.68 ,fraction explained=  24.93   \n",
    "\n",
    "### Conclusion:  \n",
    "There is a very interesting trend here. **The effect of first coefficient is mainly the amount of snow which varies more station by station than year by year. Therefore the snow depth in different station locations varies more and   over the year it's much more similar. **  \n",
    "\n",
    "The coeff2 and coeff3 have to do with **timing of snow which varies much more year by year, that is it snows at different times over the years, and stations have much less variation in the time of snow.**\n"
   ]
  },
  {
   "cell_type": "markdown",
   "metadata": {},
   "source": [
    "## Climate Change\n",
    "According to online sources states like Idaho have been affected a lot by the climate change and have witnessed the effect of global warming.  \n",
    "Source: [Climate Change Idaho](https://en.wikipedia.org/wiki/Climate_change_in_Idaho)"
   ]
  },
  {
   "cell_type": "markdown",
   "metadata": {},
   "source": [
    "Below is a plot of the minimum temperature over the years from 1900 to 2012 over which we can clearly see that there is an increase in the TMIN clearly indicating a gradual rise in temperature.\n",
    "\n",
    "<img src=\"my_figures/TM.png\"  style=\"width: 4%; float:center\"/>                                                     \n",
    "<img src=\"my_figures/TMIN.png\"  style=\"width: 40%;\"/>"
   ]
  },
  {
   "cell_type": "markdown",
   "metadata": {},
   "source": [
    "Below is the Snow Depth distribution for some years and it visible that: \n",
    "1. There are much more snow peaks in previous years as compared to recent years.\n",
    "2. The timing of snow seasons and snow peak also shifted from Dec-Jan to late Feb-March.  \n",
    "Both of the above many be possible effects of climate change due to several environmental factors like warming.\n",
    "\n",
    "<img src=\"my_figures/snwd_years.png\"  style=\"width: 60%;\"/>"
   ]
  },
  {
   "cell_type": "markdown",
   "metadata": {},
   "source": [
    "## Measuring statistical Significance for SNOW\n",
    "We have the null hypothesis that says that the **snow** in the two locations is independent. Below is a statistical proof that rejects the hypothesis as we can see how stations are correlated with respect to snow. \n",
    "\n",
    "From the formula derived for P_norm as below, we plot the dependency matrix of correlations between all pairs of stations. \n",
    "$$\n",
    "\\log P = -G(l) -G(n_1-l) -G(n_2-l) -G(m-n_1-n_2+l) - G(m)+G(n_1)+G(m-n_1) +G(n_2)+G(m-n_2)\n",
    "$$\n",
    "where,\n",
    "* $m$ : the total number of days (for which we have measurements for both stations) of snow.\n",
    "* $n_1$ : the number of days it snowed on station 1\n",
    "* $n_2$ : the number of days it snowed on station 2\n",
    "* $l$ : the number of days that it snowed on both stations.\n",
    "\n",
    "The log probability scales with $m$ the length of the overlap. So to get a per-day significance we consider $\n",
    "\\frac{1}{m} \\log P $\n",
    "\n",
    "To see correlations, we do SVD and find the PCA components and use the top 4 eigen vectors to reorder the P_norm matrix and we find more clear station groupings as below.\n",
    "<img src=\"my_figures/dep_matrix.png\" style=\"width: 60%;\"/>\n",
    "\n",
    "### Conclusion: \n",
    "Block Diagonal Formation:  \n",
    "1. In figure 1, we see at top of the diagonal clear grouping of stations 1-5 which are correlated.\n",
    "2. In figure 2 also, we see stations on the diagonal which are correlated.  \n",
    "3. In figure 3 and 4, there are few stations with correlations at top and bottom. \n"
   ]
  },
  {
   "cell_type": "markdown",
   "metadata": {},
   "source": [
    "## Plotting above stations on the map to see why the stations like 1-5 are correlated\n",
    "\n",
    "I used the station indexes of station grouping 1-5 in figure 1 and found the latitude and logitude for each station using the data.\n",
    "Below is the latitude and longitude on the map.\n",
    "<img src=\"my_figures/loc.png\" style=\"width: 90%;\"/>\n",
    "\n",
    "### Conclusion:  \n",
    "The stations are pretty close to each other in termrs of location, they also lie near the hilly terrain as seen in the map. Therefore location might be the reason for the correlation."
   ]
  },
  {
   "cell_type": "markdown",
   "metadata": {},
   "source": [
    "Above was all the analysis for these stations falling in the state of Idao. Thanks for reading!"
   ]
  }
 ],
 "metadata": {
  "anaconda-cloud": {},
  "kernelspec": {
   "display_name": "Python [default]",
   "language": "python",
   "name": "python2"
  },
  "language_info": {
   "codemirror_mode": {
    "name": "ipython",
    "version": 2
   },
   "file_extension": ".py",
   "mimetype": "text/x-python",
   "name": "python",
   "nbconvert_exporter": "python",
   "pygments_lexer": "ipython2",
   "version": "2.7.13"
  },
  "toc": {
   "colors": {
    "hover_highlight": "#DAA520",
    "running_highlight": "#FF0000",
    "selected_highlight": "#FFD700"
   },
   "moveMenuLeft": true,
   "nav_menu": {
    "height": "12px",
    "width": "252px"
   },
   "navigate_menu": true,
   "number_sections": true,
   "sideBar": true,
   "threshold": 4,
   "toc_cell": false,
   "toc_section_display": "block",
   "toc_window_display": false,
   "widenNotebook": false
  }
 },
 "nbformat": 4,
 "nbformat_minor": 2
}
