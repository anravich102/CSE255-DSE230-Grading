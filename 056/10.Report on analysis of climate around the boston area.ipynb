{
 "cells": [
  {
   "cell_type": "code",
   "execution_count": 9,
   "metadata": {
    "ExecuteTime": {
     "end_time": "2017-05-14T12:07:46.260274Z",
     "start_time": "2017-05-14T12:07:45.925669"
    },
    "collapsed": true,
    "run_control": {
     "frozen": false,
     "read_only": false
    }
   },
   "outputs": [],
   "source": [
    "!open r_figures/TMIN,TMAX.png"
   ]
  },
  {
   "cell_type": "markdown",
   "metadata": {
    "run_control": {
     "frozen": false,
     "read_only": false
    }
   },
   "source": [
    "# Colorado Weather Analysis\n",
    "\n",
    "This is a report on the historical analysis of weather patterns in an area that approximately overlaps the area of the state of Massachusets.\n",
    "\n",
    "The data we will use here comes from [NOAA](https://www.ncdc.noaa.gov/). Specifically, it was downloaded from This [FTP site](ftp://ftp.ncdc.noaa.gov/pub/data/ghcn/daily/).\n",
    "\n",
    "We focused on six measurements:\n",
    "* **TMIN, TMAX:** the daily minimum and maximum temperature in celsius.\n",
    "* **TOBS:** The average temperature for each day in celsius.\n",
    "* **PRCP:** Daily Percipitation in mm.\n",
    "* **SNOW:** Daily snowfall in mm.\n",
    "* **SNWD:** The depth of accumulated snow in mm.\n",
    "* **Elevation:** Altitude of the weather station in meters\n",
    "\n",
    "## Sanity-check: comparison with outside sources\n",
    "\n",
    "<p>We start by comparing some of the general statistics with graphs that we obtained from a site called <a href=\"http://www.usclimatedata.com/climate/boston/massachusetts/united-states/usma0046\" target=\"_blank\">US Climate Data</a> The graph below shows the daily minimum and maximum temperatures for each month, as well as the total precipitation for each month in Colorado for each of the following four cities: Aspen, Grand Junction, Denver, and Vail.</p>\n",
    "\n",
    "<p>&nbsp;</p>\n",
    "\n",
    "\n"
   ]
  },
  {
   "cell_type": "markdown",
   "metadata": {
    "ExecuteTime": {
     "end_time": "2017-05-14T15:07:57.176908Z",
     "start_time": "2017-05-14T15:07:57.000754"
    }
   },
   "source": [
    "<p><img alt=\"Colorado_Weather_Averages.png\" src=\"g_figures/Colorado_Weather_Averages.png\" /></p>"
   ]
  },
  {
   "cell_type": "markdown",
   "metadata": {},
   "source": [
    "<p>We see that the min and max daily&nbsp;temperature agree with the ones we got from our data, once we translate Fahrenheit to Centigrade.</p>"
   ]
  },
  {
   "cell_type": "markdown",
   "metadata": {},
   "source": [
    "<p><img alt=\"TMIN,TMAX.png\" src=\"g_figures/TMIN,TMAX_STD.png\" /></p>\n",
    "\n",
    "<p>&nbsp;<img alt=\"TOBS,PRCP.png\" src=\"g_figures/TOBS,PRCP_STD.png\" /></p>\n",
    "\n",
    "<p> We can see that the average precipitation is also in agreement between our data and the US Climate Data. Rainfall picks up during the spring and fall seasons while faling off in summer and winter. According to our data, our average annual precipitation is 12.54mm which is also in agreement with both graphs.</p>\n",
    "\n",
    "\n"
   ]
  },
  {
   "cell_type": "markdown",
   "metadata": {
    "run_control": {
     "frozen": false,
     "read_only": false
    }
   },
   "source": [
    "## PCA analysis\n",
    "\n",
    "For each of the six measurement, we compute the percentate of the variance explained as a function of the number of eigen-vectors used.\n",
    "\n",
    "### Percentage of variance explained.\n",
    "<p>&nbsp;<img alt=\"VarExplained11.png\" src=\"g_figures/VarExplained1.png\" /></p>\n",
    "\n",
    "We see that the top 5 eigen-vectors explain over 50% of variance for TMIN, 60% for TOBS and 50% for TMAX.\n",
    "\n",
    "We conclude that of the three, TOBS is best explained by the top 5 eigenvectors. This is especially true for the first eigen-vector which, by itself, explains 60% of the variance.\n",
    "\n",
    "<p>&nbsp;<img alt=\"VarExplained2.png\" src=\"g_figures/VarExplained2.png\" /></p>\n",
    "\n",
    "The top 5 eigenvectors explain 14% of the variance for SNOW and 12% for PRCP. Both are low values. On the other hand the top 5 eigenvectors explain almost 90% of the variance for SNWD. This means that these top 5 eigenvectors capture most of the variation in the snow signals. Based on that we will dig deeper into the PCA analysis for snow-depth.\n",
    "\n",
    "It makes sense that SNWD would be less noisy than SNOW. That is because SNWD is a decaying integral of SNOW and, as such, varies less between days and between the same date on diffferent years."
   ]
  },
  {
   "cell_type": "markdown",
   "metadata": {
    "run_control": {
     "frozen": false,
     "read_only": false
    }
   },
   "source": [
    "## Analysis of snow depth\n",
    "\n",
    "We choose to analyze the eigen-decomposition for snow-depth because the first 4 eigen-vectors explain over 80% of the variance.\n",
    "\n",
    "First, we graph the mean and the top 4 eigen-vectors.\n",
    "\n",
    "We observe that the snow season is from mid-november to the middle/end of June, where the middle of February marks the peak of the snow-depth.\n",
    "![SNWD_mean_eigs.png](g_figures/Snwd_mean_eigs.png)"
   ]
  },
  {
   "cell_type": "markdown",
   "metadata": {
    "run_control": {
     "frozen": false,
     "read_only": false
    }
   },
   "source": [
    "Next we interpret the eigen-functions. The first eigen-function (eig1) has a shape very similar to the mean function. The main difference is that the eigen-function peaks out in march and the slopes are much less steep than the actual data.  The interpretation of this shape is that eig1 represents the overall amount of snow above/below the total mean, but without changing the distribution over time.\n",
    "\n",
    "**Eig2,Eig3 and Eig4** all represent the changes in Eig1 throughout the year with Eig2 and Eig3 showing the general trends in the first half of the year and Eig4 showing the latter half. \n",
    "\n",
    "\n",
    "They can be interpreted as follows:\n",
    "* **Eig2:** resembles a derivative of the Eig1. In march, Eig2 dips below zero which is mirrored in Eig1 hitting the peak of the curve and slowly trending downwards in the following months.\n",
    "* **Eig3:** acts as a derivative of Eig2 which can be especially seen in late March through July. Eig2 reaches the bottom of the curve as Eig3 crosses from negative to positive in May but then starts decreasing from June until it zeroes out in July\n",
    "* **Eig4:** Does not seem to carry much weight in the beginning of the year but mirrors the inverse of the mean snow depth from october through the end of the year.\n"
   ]
  },
  {
   "cell_type": "markdown",
   "metadata": {
    "run_control": {
     "frozen": false,
     "read_only": false
    }
   },
   "source": [
    "### Examples of reconstructions\n",
    "\n",
    "#### Coeff1\n",
    "Coeff1: most positive\n",
    "![SNWD_grid_Pos_coeff1.png](g_figures/SNWD_grid_Pos_coeff1.png)\n",
    "Coeff1: most negative\n",
    "![SNWD_grid_neg_coeff1.png](g_figures/SNWD_grid_neg_coeff1.png)\n",
    "Large positive values of coeff1 correspond to more than average snow. Low values correspond to less than average snow.\n",
    "\n",
    "#### Coeff2\n",
    "Coeff2: most positive\n",
    "![SNWD_grid_Pos_coeff2.png](g_figures/SNWD_grid_Pos_coeff2.png)\n",
    "Coeff2: most negative\n",
    "![SNWD_grid_neg_coeff2.png](g_figures/SNWD_grid_neg_coeff2.png)\n",
    "\n",
    "Large negative values of coeff2 correspond to a late snow season (most of the snowfall is after mid feb. Positive values for coeff2 correspond to an early snow season (most of the snow is before mid-feb.\n",
    "#### Coeff3\n",
    "Coeff3: most positive\n",
    "![SNWD_grid_Pos_coeff3.png](g_figures/SNWD_grid_Pos_coeff3.png)\n",
    "Coeff3: most negative\n",
    "![SNWD_grid_neg_coeff3.png](g_figures/SNWD_grid_neg_coeff3.png)\n",
    "\n",
    "Large positive values of coeff3 correspond to a snow season with two spikes: one in the middle of February, the other at the end of the year. Negative values of coeff3 correspond to a season with a single peak in the middle of February and  lesser snow depth at the end of the year.\n",
    "\n",
    "#### Coeff4\n",
    "Coeff4: most positive\n",
    "![SNWD_grid_Pos_coeff4.png](g_figures/SNWD_grid_Pos_coeff4.png)\n",
    "Coeff4: most negative\n",
    "![SNWD_grid_neg_coeff4.png](g_figures/SNWD_grid_neg_coeff4.png)\n",
    "\n",
    "Large positive values of coeff4 correspond to years where the snow depth in the beginning of the year is larger than the snow depth at the end of the year. Negative values of coeff4 correspond to a year where the snow depth in the beginning of the year is not greater than the snow depth at the end of the year"
   ]
  },
  {
   "cell_type": "markdown",
   "metadata": {
    "run_control": {
     "frozen": false,
     "read_only": false
    }
   },
   "source": []
  },
  {
   "cell_type": "markdown",
   "metadata": {
    "run_control": {
     "frozen": false,
     "read_only": false
    }
   },
   "source": [
    "### Geographical distribution of first 4 coefficients. "
   ]
  },
  {
   "cell_type": "markdown",
   "metadata": {},
   "source": [
    "![SNWD_coeff_locs.png](g_figures/SNWD_coeff_locs.png)"
   ]
  },
  {
   "cell_type": "markdown",
   "metadata": {},
   "source": [
    "### Plotting the cumulative distribution functions of each coefficient and residual"
   ]
  },
  {
   "cell_type": "markdown",
   "metadata": {
    "ExecuteTime": {
     "end_time": "2017-05-15T13:26:25.969940Z",
     "start_time": "2017-05-15T13:26:25.954090"
    }
   },
   "source": [
    "<tr>\n",
    "<td> <img src = \"g_figures/SNWD_CDF_coeff1.png\" alt=\"SNWD_CDF_coeff1.png\" style = \"width: 400px;\"/> </td> \n",
    "<td> <img src = \"g_figures/SNWD_CDF_res1.png\" alt=\"SNWD_CDF_res1.png\" style = \"width: 400px;\"/> </td>\n",
    "</tr>\n",
    "\n",
    "<tr>\n",
    "<td> <img src = \"g_figures/SNWD_CDF_coeff2.png\" alt=\"SNWD_CDF_coeff2.png\" style = \"width: 400px;\"/> </td> \n",
    "<td> <img src = \"g_figures/SNWD_CDF_res2.png\" alt=\"SNWD_CDF_res2.png\" style = \"width: 400px;\"/> </td>\n",
    "</tr>\n",
    "<tr>\n",
    "<td> <img src = \"g_figures/SNWD_CDF_coeff3.png\" alt=\"SNWD_CDF_coeff3.png\" style = \"width: 400px;\"/> </td> \n",
    "<td> <img src = \"g_figures/SNWD_CDF_res3.png\" alt=\"SNWD_CDF_res3.png\" style = \"width: 400px;\"/> </td>\n",
    "</tr>\n",
    "<tr>\n",
    "<td> <img src = \"g_figures/SNWD_CDF_coeff4.png\" alt=\"SNWD_CDF_coeff4.png\" style = \"width: 400px;\"/> </td> \n",
    "<td> <img src = \"g_figures/SNWD_CDF_res4.png\" alt=\"SNWD_CDF_res4.png\" style = \"width: 400px;\"/> </td>\n",
    "</tr>"
   ]
  },
  {
   "cell_type": "markdown",
   "metadata": {
    "run_control": {
     "frozen": false,
     "read_only": false
    }
   },
   "source": [
    "## Analysis of correlation between percipitation across locations\n",
    "\n",
    "\n",
    "We can see that the mean precipitation is largest in late spring and late summer with the minimum being in the middle of summer and during peak winter.\n",
    "![PRCP, Mean_Eigs.png](g_figures/PRCP, Mean_Eigs.png)\n",
    "\n",
    "\n",
    "\n",
    "As we saw above, even the top 5 eigenvectors only cover 12% of variance for precipitation data.\n",
    "\n",
    "![VarExplained_PRCP.png](g_figures/VarExplained_PRCP.png)\n",
    "\n",
    "\n",
    "In fact, we need over 150 eigenvectors to even properly reconstruct 80% of the data.\n",
    "![PCRP_Eigs_cumulative.png](g_figures/PCRP_Eigs_cumulative.png)\n",
    "\n",
    "We can also see the data is rather noisy as well so it would be difficult to reconstruct the rain data from their eigenvector/eigenvales.\n",
    "\n",
    "We see this is true by showing the most positive/negative Coeff_1 reconstruction plots\n",
    "\n",
    "Most Positive\n",
    "![PRCP_grid_Pos_coeff1.png](g_figures/PRCP_grid_Pos_coeff1.png)\n",
    "\n",
    "Most Negative\n",
    "![PRCP_grid_neg_coeff1.png](g_figures/PRCP_grid_neg_coeff1.png)\n",
    "\n",
    "The reconstructed graphs are very far off the targets."
   ]
  },
  {
   "cell_type": "markdown",
   "metadata": {},
   "source": [
    "\n",
    "\n",
    "### correlations matrix\n"
   ]
  },
  {
   "cell_type": "markdown",
   "metadata": {},
   "source": [
    "Doing a correlation matrix of each of the readings we can see the correlations between each of the measurements with each other. "
   ]
  },
  {
   "cell_type": "markdown",
   "metadata": {
    "run_control": {
     "frozen": false,
     "read_only": false
    }
   },
   "source": [
    "\n",
    "![corr_matrix.png](g_figures/corr_matrix.png)"
   ]
  },
  {
   "cell_type": "markdown",
   "metadata": {},
   "source": [
    "As expected, there is a large inverse correlation between the temperature readings (TMIN, TOBS, TMAX) and the snow mesurements (SNOW,SNWD), especially during the winter months. Something to note as well is while precipitation is mostly negatively correlated with temperature, it is actually slightly positively correlated with TMIN. Whether this is due to noise or it is an actual phenomenon, we would have to do some statistical analysis which could be a project for later down the road.\n"
   ]
  },
  {
   "cell_type": "markdown",
   "metadata": {},
   "source": [
    "## Elevation/Longitude/Latitude/Year vs Measurements"
   ]
  },
  {
   "cell_type": "markdown",
   "metadata": {},
   "source": [
    "### Plotting Elevation vs measurements"
   ]
  },
  {
   "cell_type": "markdown",
   "metadata": {},
   "source": [
    "<tr>\n",
    "<td> <img src = \"g_figures/elevation_vs_PRCP.png\" alt=\"elevation_vs_PRCP.png\" style = \"width: 400px;\"/> </td> \n",
    "<td> <img src = \"g_figures/elevation_vs_SNOW.png\" alt=\"elevation_vs_SNOW.png\" style = \"width: 400px;\"/> </td>\n",
    "<td> <img src = \"g_figures/elevation_vs_SNWD.png\" alt=\"elevation_vs_SNWD.png\" style = \"width: 400px;\"/> </td>\n",
    "</tr>\n",
    "\n",
    "\n",
    "<tr>\n",
    "<td> <img src = \"g_figures/elevation_vs_TMAX.png\" alt=\"elevation_vs_TMAX.png\" style = \"width: 400px;\"/> </td> \n",
    "<td> <img src = \"g_figures/elevation_vs_TMIN.png\" alt=\"elevation_vs_TMIN.png\" style = \"width: 400px;\"/> </td>\n",
    "<td> <img src = \"g_figures/elevation_vs_TOBS.png\" alt=\"elevation_vs_TOBS.png\" style = \"width: 400px;\"/> </td>\n",
    "</tr>\n"
   ]
  },
  {
   "cell_type": "markdown",
   "metadata": {},
   "source": [
    "<p> As elevation increases, we can see that PRCP and SNOW both trend upwards. In addition we can see that there is also a clear correlation between elevation and temperature. This is a well known as <a href=\"https://en.wikipedia.org/wiki/Lapse_rate\" target=\"_blank\">Lapse Rate</a>. However, while SNOW shows a steady increase in correlation with elevation, SNWD is very spread out. This is pretty interesting as logically, one would expect more snow depth at higher elevations since higher elevations remain colder longer.</p>\n",
    "\n",
    "To take a closer look at the SNOW and SNWD data, we take 12 different weather stations that exhibit high SNWD.\n",
    "\n",
    "We also plot the corresponding weather stations' SNOW data.\n"
   ]
  },
  {
   "cell_type": "markdown",
   "metadata": {},
   "source": [
    "<tr>\n",
    "<td> <img src = \"g_figures/Top_SNWD_years.png\" alt=\"Top_SNWD_years.png\" style = \"width: 500px;\"/> </td> \n",
    "<td> <img src = \"g_figures/Top_SNWD_years_corresp_SNOW.png\" alt=\"Top_SNWD_years_corresp_SNOW.png\" style = \"width: 500px;\"/> </td>\n",
    "\n",
    "</tr>\n"
   ]
  },
  {
   "cell_type": "markdown",
   "metadata": {},
   "source": [
    "Interestingly, despite the high SNWD, these stations all exhibit relatively average to low SNOW. This means that despite the relatively little snow that these weather stations get, they retain their snow depth very well. \n",
    "\n",
    "A simple explanation to this could be because higher elevations stay colder longer than lower elevations and thus delay the melting of snow."
   ]
  },
  {
   "cell_type": "markdown",
   "metadata": {},
   "source": [
    "\n",
    "\n",
    "\n",
    "![Top_SNWD_years_corres_elev.png](g_figures/Top_SNWD_years_corresp_elev.png)"
   ]
  },
  {
   "cell_type": "markdown",
   "metadata": {},
   "source": [
    "<p>However, there has been some research shown that  <a href=\"http://www.the-cryosphere.net/8/2381/2014/tc-8-2381-2014.pdf\" target=\"_blank\"> elevation and snow depth are only positively correlated until roughly 2500-2900 meters</a> and thereafter become negatively correlated due to lack of moisture.\n",
    "</p>\n"
   ]
  },
  {
   "cell_type": "markdown",
   "metadata": {},
   "source": [
    "Another possibility why this may be could be due to the cardinal orientation of the hillside where the weather station is located. In the northern hemisphere, south facing hillsides do not retain snow as well as north facing ones due to the location of the sun and tilt of the earth's axis. "
   ]
  },
  {
   "cell_type": "markdown",
   "metadata": {},
   "source": [
    "<tr>\n",
    "<td> <img src = \"g_figures/north_south_slopes.jpg\" alt=\"north_south_slopes.jpg\" style = \"width: 500px;\"/> </td> </tr>"
   ]
  },
  {
   "cell_type": "markdown",
   "metadata": {},
   "source": [
    "In either case, it would be beneficial to further look into this data"
   ]
  },
  {
   "cell_type": "markdown",
   "metadata": {},
   "source": [
    "### Plotting Latitude and Longitude vs measurements"
   ]
  },
  {
   "cell_type": "markdown",
   "metadata": {},
   "source": [
    "\n",
    "\n",
    "<tr>\n",
    "<td> <img src = \"g_figures/latitude_vs_PRCP.png\" alt=\"latitude_vs_PRCP.png\" style = \"width: 400px;\"/> </td> \n",
    "<td> <img src = \"g_figures/latitude_vs_SNOW.png\" alt=\"latitude_vs_SNOW.png\" style = \"width: 400px;\"/> </td>\n",
    "<td> <img src = \"g_figures/latitude_vs_SNWD.png\" alt=\"latitude_vs_SNWD.png\" style = \"width: 400px;\"/> </td>\n",
    "</tr>\n",
    "\n",
    "<tr>\n",
    "<td> <img src = \"g_figures/latitude_vs_TMAX.png\" alt=\"latitude_vs_TMAX.png\" style = \"width: 400px;\"/> </td> \n",
    "<td> <img src = \"g_figures/latitude_vs_TMIN.png\" alt=\"latitude_vs_TMIN.png\" style = \"width: 400px;\"/> </td>\n",
    "<td> <img src = \"g_figures/latitude_vs_TOBS.png\" alt=\"latitude_vs_TOBS.png\" style = \"width: 400px;\"/> </td>\n",
    "</tr>\n",
    "\n"
   ]
  },
  {
   "cell_type": "markdown",
   "metadata": {},
   "source": [
    "<tr>\n",
    "<td> <img src = \"g_figures/longitude_vs_PRCP.png\" alt=\"longitude_vs_PRCP.png\" style = \"width: 400px;\"/> </td> \n",
    "<td> <img src = \"g_figures/longitude_vs_SNOW.png\" alt=\"longitude_vs_SNOW.png\" style = \"width: 400px;\"/> </td>\n",
    "<td> <img src = \"g_figures/longitude_vs_SNWD.png\" alt=\"longitude_vs_SNWD.png\" style = \"width: 400px;\"/> </td>\n",
    "</tr>\n",
    "\n",
    "<tr>\n",
    "<td> <img src = \"g_figures/longitude_vs_TMAX.png\" alt=\"longitude_vs_TMAX.png\" style = \"width: 400px;\"/> </td> \n",
    "<td> <img src = \"g_figures/longitude_vs_TMIN.png\" alt=\"longitude_vs_TMIN.png\" style = \"width: 400px;\"/> </td>\n",
    "<td> <img src = \"g_figures/longitude_vs_TOBS.png\" alt=\"longitude_vs_TOBS.png\" style = \"width: 400px;\"/> </td>\n",
    "</tr>"
   ]
  },
  {
   "cell_type": "markdown",
   "metadata": {},
   "source": [
    "At a first glance our data does not show to be much correlation between latitude/longitude and any measurements. This is understandable since the area that our data spans is a very small part of Colorado. \n",
    "\n",
    "However, each of the graphs between the latitude and longitude do seem to follow similar patterns, most notably the two TMIN graphs. Since our area spans many mountainous regions, it would be interesting to see if the combination of latitude/longitude plots could be used to map out hot or snowy \"zones\" of the mountains. \n"
   ]
  },
  {
   "cell_type": "markdown",
   "metadata": {},
   "source": [
    "### Plotting Year vs measurements as line graph"
   ]
  },
  {
   "cell_type": "markdown",
   "metadata": {
    "run_control": {
     "frozen": false,
     "read_only": false
    }
   },
   "source": [
    "<tr>\n",
    "<td> <img src = \"g_figures/year_vs_PRCP.png\" alt=\"year_vs_PRCP.png\" style = \"width: 400px;\"/> </td> \n",
    "<td> <img src = \"g_figures/year_vs_SNOW.png\" alt=\"year_vs_SNOW.png\" style = \"width: 400px;\"/> </td>\n",
    "<td> <img src = \"g_figures/year_vs_SNWD.png\" alt=\"year_vs_SNWD.png\" style = \"width: 400px;\"/> </td>\n",
    "</tr>\n",
    "\n",
    "<tr>\n",
    "<td> <img src = \"g_figures/year_vs_TMAX.png\" alt=\"year_vs_TMAX.png\" style = \"width: 400px;\"/> </td> \n",
    "<td> <img src = \"g_figures/year_vs_TMIN.png\" alt=\"year_vs_TMIN.png\" style = \"width: 400px;\"/> </td>\n",
    "<td> <img src = \"g_figures/year_vs_TOBS.png\" alt=\"year_vs_TOBS.png\" style = \"width: 400px;\"/> </td>\n",
    "</tr>"
   ]
  },
  {
   "cell_type": "markdown",
   "metadata": {},
   "source": [
    "<p> We initially see a lot of big spikes in our data, particularly from early and later years. These early spikes are likely resulted from very little data being collected initially, thus resulting in readings far from actual averages. Through the early 1900s, more and more measurements are taken and we can see more consistent readings. However, the deployment of <a href=\"https://en.wikipedia.org/wiki/Automated_airport_weather_station#Automated_Surface_Observing_System_.28ASOS.29\" target=\"_blank\">Automated Surface Observing System (ASOS)</a> in 1991 dramatically increased the number of measuremnets taken, which accounts for much of the temperature averages dropping in later years (more automated readings taken during winter seasons where temperatures are low)\n",
    "\n",
    "\n",
    "</p>"
   ]
  },
  {
   "cell_type": "markdown",
   "metadata": {},
   "source": [
    "The below scatterplots show us that the number of measurements taken increases significantly as time goes on. This is especially noticeable for the year_vs_SNWD plot where we can see there are hardly any measurements before 1950, causing the large spike in the data."
   ]
  },
  {
   "cell_type": "markdown",
   "metadata": {},
   "source": [
    "### Plotting Year vs measurements"
   ]
  },
  {
   "cell_type": "markdown",
   "metadata": {},
   "source": [
    "<tr>\n",
    "<td> <img src = \"g_figures/year_vs_PRCP_scatter.png\" alt=\"year_vs_PRCP_scatter.png\" style = \"width: 400px;\"/> </td> \n",
    "<td> <img src = \"g_figures/year_vs_SNOW_scatter.png\" alt=\"year_vs_SNOW_scatter.png\" style = \"width: 400px;\"/> </td>\n",
    "<td> <img src = \"g_figures/year_vs_SNWD_scatter.png\" alt=\"year_vs_SNWD_scatter.png\" style = \"width: 400px;\"/> </td>\n",
    "</tr>\n",
    "\n",
    "<tr>\n",
    "<td> <img src = \"g_figures/year_vs_TMAX_scatter.png\" alt=\"year_vs_TMAX_scatter.png\" style = \"width: 400px;\"/> </td> \n",
    "<td> <img src = \"g_figures/year_vs_TMIN_scatter.png\" alt=\"year_vs_TMIN_scatter.png\" style = \"width: 400px;\"/> </td>\n",
    "<td> <img src = \"g_figures/year_vs_TOBS_scatter.png\" alt=\"year_vs_TOBS_scatter.png\" style = \"width: 400px;\"/> </td>\n",
    "</tr>"
   ]
  },
  {
   "cell_type": "markdown",
   "metadata": {
    "collapsed": true,
    "run_control": {
     "frozen": false,
     "read_only": false
    }
   },
   "source": [
    "## A quick look at the places with the highest measurements"
   ]
  },
  {
   "cell_type": "markdown",
   "metadata": {
    "run_control": {
     "frozen": false,
     "read_only": false
    }
   },
   "source": [
    "<table>\n",
    "\n",
    "<tr>\n",
    "   <th align = \"left\">Highest TMAX</th>\n",
    "   <th aligh = \"left\">Highest SNWD</th>\n",
    "</tr>\n",
    "\n",
    "<tr>\n",
    "<td> <img src = \"g_figures/Map_Top_TMAX.png\" alt=\"Highest TMAX\" style = \"width: 500px;\"/> </td> \n",
    "<td> <img src = \"g_figures/Map_Top_SNWD.png\" alt=\"Highest SNWD\" style = \"width: 500px;\"/> </td>\n",
    "</tr>\n",
    "\n",
    "<tr>\n",
    "   <th align = \"left\">Highest SNOW</th>\n",
    "   <th aligh = \"left\">Highest PRCP</th>\n",
    "</tr>\n",
    "\n",
    "<tr>\n",
    "<td> <img src = \"g_figures/Map_Top_SNOW.png\" alt=\"Highest SNOW\" style = \"width: 500px;\"/> </td> \n",
    "<td> <img src = \"g_figures/Map_Top_PRCP.png\" alt=\"Highest PRCP\" style = \"width: 500px;\"/> </td>\n",
    "</tr>\n",
    "</table>"
   ]
  },
  {
   "cell_type": "code",
   "execution_count": null,
   "metadata": {
    "collapsed": true,
    "run_control": {
     "frozen": false,
     "read_only": false
    }
   },
   "outputs": [],
   "source": []
  }
 ],
 "metadata": {
  "anaconda-cloud": {},
  "kernelspec": {
   "display_name": "Python [conda root]",
   "language": "python",
   "name": "conda-root-py"
  },
  "language_info": {
   "codemirror_mode": {
    "name": "ipython",
    "version": 2
   },
   "file_extension": ".py",
   "mimetype": "text/x-python",
   "name": "python",
   "nbconvert_exporter": "python",
   "pygments_lexer": "ipython2",
   "version": "2.7.13"
  },
  "toc": {
   "colors": {
    "hover_highlight": "#DAA520",
    "running_highlight": "#FF0000",
    "selected_highlight": "#FFD700"
   },
   "moveMenuLeft": true,
   "nav_menu": {
    "height": "12px",
    "width": "252px"
   },
   "navigate_menu": true,
   "number_sections": true,
   "sideBar": true,
   "threshold": 4,
   "toc_cell": false,
   "toc_section_display": "block",
   "toc_window_display": false,
   "widenNotebook": false
  }
 },
 "nbformat": 4,
 "nbformat_minor": 2
}
