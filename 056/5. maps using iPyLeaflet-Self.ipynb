{
 "cells": [
  {
   "cell_type": "markdown",
   "metadata": {
    "run_control": {
     "frozen": false,
     "read_only": false
    }
   },
   "source": [
    "## iPyLeaflet\n",
    "[ipyleaflet](https://github.com/ellisonbg/ipyleaflet) is a bridge between jupyter notebooks and the [leaflet](http://leafletjs.com/)  javascript library for drawing maps.\n",
    "\n",
    "ipyleaflet comes with a few examples notebooks (this notebook was derived from one) but very little documentation,\n",
    "for more documentation read the [Leaflet IPA](http://leafletjs.com/reference.html)\n",
    "\n",
    "For installation directions, see the README on [ipyleaflet](https://github.com/ellisonbg/ipyleaflet)"
   ]
  },
  {
   "cell_type": "code",
   "execution_count": 16,
   "metadata": {
    "ExecuteTime": {
     "end_time": "2017-05-15T17:03:11.491060Z",
     "start_time": "2017-05-15T17:03:11.477710"
    },
    "collapsed": true,
    "run_control": {
     "frozen": false,
     "read_only": false
    }
   },
   "outputs": [],
   "source": [
    "from ipyleaflet import (\n",
    "    Map,\n",
    "    Marker,\n",
    "    TileLayer, ImageOverlay,\n",
    "    Polyline, Polygon, Rectangle, Circle, CircleMarker,\n",
    "    GeoJSON,\n",
    "    DrawControl\n",
    ")"
   ]
  },
  {
   "cell_type": "markdown",
   "metadata": {
    "run_control": {
     "frozen": false,
     "read_only": false
    }
   },
   "source": [
    "## Visualizing the distribution of the observations\n",
    "\n",
    "## Load the required libraries"
   ]
  },
  {
   "cell_type": "code",
   "execution_count": 7,
   "metadata": {
    "ExecuteTime": {
     "end_time": "2017-05-15T17:02:48.737910Z",
     "start_time": "2017-05-15T17:02:46.538040"
    },
    "collapsed": true,
    "run_control": {
     "frozen": false,
     "read_only": false
    }
   },
   "outputs": [],
   "source": [
    "import pandas as pd\n",
    "import numpy as np\n",
    "import sklearn as sk\n",
    "import urllib\n",
    "import math"
   ]
  },
  {
   "cell_type": "code",
   "execution_count": 1,
   "metadata": {
    "ExecuteTime": {
     "end_time": "2017-05-15T17:02:15.517046Z",
     "start_time": "2017-05-15T17:02:10.581180"
    },
    "collapsed": true,
    "run_control": {
     "frozen": false,
     "read_only": false
    }
   },
   "outputs": [],
   "source": [
    "import findspark\n",
    "findspark.init()\n",
    "\n",
    "from pyspark import SparkContext\n",
    "#sc.stop()\n",
    "sc = SparkContext(master=\"local[3]\",pyFiles=['lib/numpy_pack.py','lib/computeStats.py'])\n",
    "\n",
    "from pyspark import SparkContext\n",
    "from pyspark.sql import *\n",
    "sqlContext = SQLContext(sc)"
   ]
  },
  {
   "cell_type": "code",
   "execution_count": 2,
   "metadata": {
    "ExecuteTime": {
     "end_time": "2017-05-15T17:02:15.530640Z",
     "start_time": "2017-05-15T17:02:15.520368"
    },
    "collapsed": true,
    "run_control": {
     "frozen": false,
     "read_only": false
    }
   },
   "outputs": [],
   "source": [
    "import sys\n",
    "sys.path.append('./lib')\n",
    "\n",
    "import numpy as np\n",
    "from numpy_pack import packArray,unpackArray\n",
    "from computeStats import computeOverAllDist, STAT_Descriptions"
   ]
  },
  {
   "cell_type": "code",
   "execution_count": 75,
   "metadata": {
    "ExecuteTime": {
     "end_time": "2017-05-16T03:04:08.952259Z",
     "start_time": "2017-05-16T03:04:07.081095"
    },
    "run_control": {
     "frozen": false,
     "read_only": false
    }
   },
   "outputs": [
    {
     "name": "stdout",
     "output_type": "stream",
     "text": [
      "('keys from STAT=', ['TMIN', 'TOBS', 'TMAX', 'SNOW', 'SNWD', 'PRCP'])\n",
      "2574\n",
      "+-------------------+------------------+------------------+---------+--------+--------+---------+-----------+------------------+------------------+------------------+------------------+-----------+---------+------+--------------------+------+\n",
      "|            coeff_1|           coeff_2|           coeff_3|elevation|   label|latitude|longitude|measurement|             res_1|             res_2|             res_3|          res_mean|    station|total_var|undefs|              vector|  year|\n",
      "+-------------------+------------------+------------------+---------+--------+--------+---------+-----------+------------------+------------------+------------------+------------------+-----------+---------+------+--------------------+------+\n",
      "| -59.12169445219956|-80.55032955545542|130.65039781920893|   2691.4|SSSBBBBB| 39.6505|-106.0904|       PRCP| 0.985360323869068|  0.95910094853714|0.9093062143222587|0.7875935516024978|US1COSU0034| 391871.0|    26|[00 00 00 00 00 0...|2007.0|\n",
      "|-151.59642077868187| 80.44457120058897| -98.7749904088667|   2490.8|SSSBBBBB|  39.645|-106.3953|       PRCP|0.9394827755219416|0.9298523961391649|0.9091199455545141|0.8105627775174179|US1COEG0021| 597034.0|    26|[00 00 00 00 00 0...|2009.0|\n",
      "+-------------------+------------------+------------------+---------+--------+--------+---------+-----------+------------------+------------------+------------------+------------------+-----------+---------+------+--------------------+------+\n",
      "only showing top 2 rows\n",
      "\n"
     ]
    }
   ],
   "source": [
    "### Read the data frame from pickle file\n",
    "\n",
    "data_dir='../../Data/Weather'\n",
    "file_index='SSSBBBBB'#BBBSBBBB'\n",
    "meas='PRCP'# 'SNWD'\n",
    "\n",
    "from pickle import load\n",
    "\n",
    "#read statistics\n",
    "filename=data_dir+'/STAT_%s.pickle'%file_index\n",
    "STAT,STAT_Descriptions = load(open(filename,'rb'))\n",
    "print('keys from STAT=',STAT.keys())\n",
    "\n",
    "#!ls -ld $data_dir/*.parquet\n",
    "\n",
    "#read data\n",
    "filename=data_dir+'/decon_%s_%s.parquet'%(file_index,meas)\n",
    "\n",
    "df=sqlContext.read.parquet(filename)\n",
    "print(df.count())\n",
    "df.show(2)"
   ]
  },
  {
   "cell_type": "code",
   "execution_count": 76,
   "metadata": {
    "ExecuteTime": {
     "end_time": "2017-05-16T03:04:08.967230Z",
     "start_time": "2017-05-16T03:04:08.955221"
    },
    "collapsed": true
   },
   "outputs": [],
   "source": [
    "sqlContext.registerDataFrameAsTable(df,'weather')"
   ]
  },
  {
   "cell_type": "code",
   "execution_count": 77,
   "metadata": {
    "ExecuteTime": {
     "end_time": "2017-05-16T03:04:09.852543Z",
     "start_time": "2017-05-16T03:04:08.971381"
    },
    "run_control": {
     "frozen": false,
     "read_only": false
    },
    "scrolled": true
   },
   "outputs": [
    {
     "name": "stdout",
     "output_type": "stream",
     "text": [
      "SELECT elevation, vector, station, latitude, longitude FROM weather\n",
      "\t\n",
      "2574 rows\n",
      "+---------+--------------------+-----------+--------+---------+\n",
      "|elevation|              vector|    station|latitude|longitude|\n",
      "+---------+--------------------+-----------+--------+---------+\n",
      "|   2691.4|[00 00 00 00 00 0...|US1COSU0034| 39.6505|-106.0904|\n",
      "|   2490.8|[00 00 00 00 00 0...|US1COEG0021|  39.645|-106.3953|\n",
      "|   3442.4|[00 48 00 42 00 4...|USC00051660| 39.3672|-106.1897|\n",
      "|   1775.2|[00 00 00 00 00 4...|US1COGF0001| 39.5413|-107.3269|\n",
      "|   3383.3|[00 00 00 00 60 5...|USS0005K09S|   39.65|-105.8667|\n",
      "+---------+--------------------+-----------+--------+---------+\n",
      "only showing top 5 rows\n",
      "\n",
      "(2574, 5)\n"
     ]
    }
   ],
   "source": [
    "# Plot the high and low snow density areas\n",
    "\n",
    "Query=\"SELECT elevation, vector, station, latitude, longitude FROM weather\\n\\t\"\n",
    "print Query\n",
    "df1 = sqlContext.sql(Query)\n",
    "print df1.count(),'rows'\n",
    "df1.show(5)\n",
    "rows=df1.rdd.map(lambda row:[unpackArray(row['vector'],np.float16), row['elevation'],row['station'],row['latitude'],row['longitude']]).collect()\n",
    "print (len(rows), len(rows[0]))"
   ]
  },
  {
   "cell_type": "code",
   "execution_count": 78,
   "metadata": {
    "ExecuteTime": {
     "end_time": "2017-05-16T03:04:09.916853Z",
     "start_time": "2017-05-16T03:04:09.858619"
    }
   },
   "outputs": [
    {
     "data": {
      "text/html": [
       "<div>\n",
       "<table border=\"1\" class=\"dataframe\">\n",
       "  <thead>\n",
       "    <tr style=\"text-align: right;\">\n",
       "      <th></th>\n",
       "      <th>vector</th>\n",
       "      <th>elevation</th>\n",
       "      <th>station</th>\n",
       "      <th>latitude</th>\n",
       "      <th>longitude</th>\n",
       "    </tr>\n",
       "  </thead>\n",
       "  <tbody>\n",
       "    <tr>\n",
       "      <th>0</th>\n",
       "      <td>[0.0, 0.0, 0.0, 0.0, 185.0, 51.0, 15.0, 0.0, 0...</td>\n",
       "      <td>2691.4</td>\n",
       "      <td>US1COSU0034</td>\n",
       "      <td>39.6505</td>\n",
       "      <td>-106.0904</td>\n",
       "    </tr>\n",
       "    <tr>\n",
       "      <th>1</th>\n",
       "      <td>[0.0, 0.0, 0.0, 41.0, 0.0, 15.0, 51.0, 46.0, 3...</td>\n",
       "      <td>2490.8</td>\n",
       "      <td>US1COEG0021</td>\n",
       "      <td>39.6450</td>\n",
       "      <td>-106.3953</td>\n",
       "    </tr>\n",
       "    <tr>\n",
       "      <th>2</th>\n",
       "      <td>[8.0, 3.0, 20.0, 3.0, 5.0, 8.0, 0.0, 0.0, 23.0...</td>\n",
       "      <td>3442.4</td>\n",
       "      <td>USC00051660</td>\n",
       "      <td>39.3672</td>\n",
       "      <td>-106.1897</td>\n",
       "    </tr>\n",
       "    <tr>\n",
       "      <th>3</th>\n",
       "      <td>[0.0, 0.0, 10.0, 0.0, 0.0, 0.0, 0.0, 0.0, 76.0...</td>\n",
       "      <td>1775.2</td>\n",
       "      <td>US1COGF0001</td>\n",
       "      <td>39.5413</td>\n",
       "      <td>-107.3269</td>\n",
       "    </tr>\n",
       "    <tr>\n",
       "      <th>4</th>\n",
       "      <td>[0.0, 0.0, 51.0, 0.0, 0.0, 0.0, 0.0, 0.0, 0.0,...</td>\n",
       "      <td>3383.3</td>\n",
       "      <td>USS0005K09S</td>\n",
       "      <td>39.6500</td>\n",
       "      <td>-105.8667</td>\n",
       "    </tr>\n",
       "  </tbody>\n",
       "</table>\n",
       "</div>"
      ],
      "text/plain": [
       "                                              vector  elevation      station  \\\n",
       "0  [0.0, 0.0, 0.0, 0.0, 185.0, 51.0, 15.0, 0.0, 0...     2691.4  US1COSU0034   \n",
       "1  [0.0, 0.0, 0.0, 41.0, 0.0, 15.0, 51.0, 46.0, 3...     2490.8  US1COEG0021   \n",
       "2  [8.0, 3.0, 20.0, 3.0, 5.0, 8.0, 0.0, 0.0, 23.0...     3442.4  USC00051660   \n",
       "3  [0.0, 0.0, 10.0, 0.0, 0.0, 0.0, 0.0, 0.0, 76.0...     1775.2  US1COGF0001   \n",
       "4  [0.0, 0.0, 51.0, 0.0, 0.0, 0.0, 0.0, 0.0, 0.0,...     3383.3  USS0005K09S   \n",
       "\n",
       "   latitude  longitude  \n",
       "0   39.6505  -106.0904  \n",
       "1   39.6450  -106.3953  \n",
       "2   39.3672  -106.1897  \n",
       "3   39.5413  -107.3269  \n",
       "4   39.6500  -105.8667  "
      ]
     },
     "execution_count": 78,
     "metadata": {},
     "output_type": "execute_result"
    }
   ],
   "source": [
    "pd_df = pd.DataFrame(rows)\n",
    "pd_df.columns = ['vector','elevation','station','latitude','longitude']\n",
    "pd_df.head()"
   ]
  },
  {
   "cell_type": "code",
   "execution_count": 79,
   "metadata": {
    "ExecuteTime": {
     "end_time": "2017-05-16T03:04:10.001797Z",
     "start_time": "2017-05-16T03:04:09.919811"
    }
   },
   "outputs": [
    {
     "data": {
      "text/plain": [
       "2574"
      ]
     },
     "execution_count": 79,
     "metadata": {},
     "output_type": "execute_result"
    }
   ],
   "source": [
    "new_col = [np.nansum(x) for x in pd_df['vector']]\n",
    "len(new_col)"
   ]
  },
  {
   "cell_type": "code",
   "execution_count": 80,
   "metadata": {
    "ExecuteTime": {
     "end_time": "2017-05-16T03:04:10.013633Z",
     "start_time": "2017-05-16T03:04:10.005310"
    },
    "collapsed": true
   },
   "outputs": [],
   "source": [
    "pd_df['vecSum'] = new_col"
   ]
  },
  {
   "cell_type": "code",
   "execution_count": 81,
   "metadata": {
    "ExecuteTime": {
     "end_time": "2017-05-16T03:04:10.077083Z",
     "start_time": "2017-05-16T03:04:10.017387"
    },
    "scrolled": true
   },
   "outputs": [
    {
     "data": {
      "text/html": [
       "<div>\n",
       "<table border=\"1\" class=\"dataframe\">\n",
       "  <thead>\n",
       "    <tr style=\"text-align: right;\">\n",
       "      <th></th>\n",
       "      <th>vector</th>\n",
       "      <th>elevation</th>\n",
       "      <th>station</th>\n",
       "      <th>latitude</th>\n",
       "      <th>longitude</th>\n",
       "      <th>vecSum</th>\n",
       "    </tr>\n",
       "  </thead>\n",
       "  <tbody>\n",
       "    <tr>\n",
       "      <th>0</th>\n",
       "      <td>[0.0, 0.0, 0.0, 0.0, 185.0, 51.0, 15.0, 0.0, 0...</td>\n",
       "      <td>2691.4</td>\n",
       "      <td>US1COSU0034</td>\n",
       "      <td>39.6505</td>\n",
       "      <td>-106.0904</td>\n",
       "      <td>4884.0</td>\n",
       "    </tr>\n",
       "    <tr>\n",
       "      <th>1</th>\n",
       "      <td>[0.0, 0.0, 0.0, 41.0, 0.0, 15.0, 51.0, 46.0, 3...</td>\n",
       "      <td>2490.8</td>\n",
       "      <td>US1COEG0021</td>\n",
       "      <td>39.6450</td>\n",
       "      <td>-106.3953</td>\n",
       "      <td>6304.0</td>\n",
       "    </tr>\n",
       "    <tr>\n",
       "      <th>2</th>\n",
       "      <td>[8.0, 3.0, 20.0, 3.0, 5.0, 8.0, 0.0, 0.0, 23.0...</td>\n",
       "      <td>3442.4</td>\n",
       "      <td>USC00051660</td>\n",
       "      <td>39.3672</td>\n",
       "      <td>-106.1897</td>\n",
       "      <td>6824.0</td>\n",
       "    </tr>\n",
       "    <tr>\n",
       "      <th>3</th>\n",
       "      <td>[0.0, 0.0, 10.0, 0.0, 0.0, 0.0, 0.0, 0.0, 76.0...</td>\n",
       "      <td>1775.2</td>\n",
       "      <td>US1COGF0001</td>\n",
       "      <td>39.5413</td>\n",
       "      <td>-107.3269</td>\n",
       "      <td>5668.0</td>\n",
       "    </tr>\n",
       "    <tr>\n",
       "      <th>4</th>\n",
       "      <td>[0.0, 0.0, 51.0, 0.0, 0.0, 0.0, 0.0, 0.0, 0.0,...</td>\n",
       "      <td>3383.3</td>\n",
       "      <td>USS0005K09S</td>\n",
       "      <td>39.6500</td>\n",
       "      <td>-105.8667</td>\n",
       "      <td>9432.0</td>\n",
       "    </tr>\n",
       "  </tbody>\n",
       "</table>\n",
       "</div>"
      ],
      "text/plain": [
       "                                              vector  elevation      station  \\\n",
       "0  [0.0, 0.0, 0.0, 0.0, 185.0, 51.0, 15.0, 0.0, 0...     2691.4  US1COSU0034   \n",
       "1  [0.0, 0.0, 0.0, 41.0, 0.0, 15.0, 51.0, 46.0, 3...     2490.8  US1COEG0021   \n",
       "2  [8.0, 3.0, 20.0, 3.0, 5.0, 8.0, 0.0, 0.0, 23.0...     3442.4  USC00051660   \n",
       "3  [0.0, 0.0, 10.0, 0.0, 0.0, 0.0, 0.0, 0.0, 76.0...     1775.2  US1COGF0001   \n",
       "4  [0.0, 0.0, 51.0, 0.0, 0.0, 0.0, 0.0, 0.0, 0.0,...     3383.3  USS0005K09S   \n",
       "\n",
       "   latitude  longitude  vecSum  \n",
       "0   39.6505  -106.0904  4884.0  \n",
       "1   39.6450  -106.3953  6304.0  \n",
       "2   39.3672  -106.1897  6824.0  \n",
       "3   39.5413  -107.3269  5668.0  \n",
       "4   39.6500  -105.8667  9432.0  "
      ]
     },
     "execution_count": 81,
     "metadata": {},
     "output_type": "execute_result"
    }
   ],
   "source": [
    "pd_df.head()"
   ]
  },
  {
   "cell_type": "code",
   "execution_count": 82,
   "metadata": {
    "ExecuteTime": {
     "end_time": "2017-05-16T03:04:10.155316Z",
     "start_time": "2017-05-16T03:04:10.087066"
    }
   },
   "outputs": [
    {
     "data": {
      "text/html": [
       "<div>\n",
       "<table border=\"1\" class=\"dataframe\">\n",
       "  <thead>\n",
       "    <tr style=\"text-align: right;\">\n",
       "      <th></th>\n",
       "      <th>vector</th>\n",
       "      <th>elevation</th>\n",
       "      <th>station</th>\n",
       "      <th>latitude</th>\n",
       "      <th>longitude</th>\n",
       "      <th>vecSum</th>\n",
       "    </tr>\n",
       "  </thead>\n",
       "  <tbody>\n",
       "    <tr>\n",
       "      <th>0</th>\n",
       "      <td>[0.0, 0.0, 0.0, 0.0, 185.0, 51.0, 15.0, 0.0, 0...</td>\n",
       "      <td>2691.4</td>\n",
       "      <td>US1COSU0034</td>\n",
       "      <td>39.6505</td>\n",
       "      <td>-106.0904</td>\n",
       "      <td>4884.0</td>\n",
       "    </tr>\n",
       "    <tr>\n",
       "      <th>1</th>\n",
       "      <td>[0.0, 0.0, 0.0, 41.0, 0.0, 15.0, 51.0, 46.0, 3...</td>\n",
       "      <td>2490.8</td>\n",
       "      <td>US1COEG0021</td>\n",
       "      <td>39.6450</td>\n",
       "      <td>-106.3953</td>\n",
       "      <td>6304.0</td>\n",
       "    </tr>\n",
       "    <tr>\n",
       "      <th>2</th>\n",
       "      <td>[8.0, 3.0, 20.0, 3.0, 5.0, 8.0, 0.0, 0.0, 23.0...</td>\n",
       "      <td>3442.4</td>\n",
       "      <td>USC00051660</td>\n",
       "      <td>39.3672</td>\n",
       "      <td>-106.1897</td>\n",
       "      <td>6824.0</td>\n",
       "    </tr>\n",
       "    <tr>\n",
       "      <th>3</th>\n",
       "      <td>[0.0, 0.0, 10.0, 0.0, 0.0, 0.0, 0.0, 0.0, 76.0...</td>\n",
       "      <td>1775.2</td>\n",
       "      <td>US1COGF0001</td>\n",
       "      <td>39.5413</td>\n",
       "      <td>-107.3269</td>\n",
       "      <td>5668.0</td>\n",
       "    </tr>\n",
       "    <tr>\n",
       "      <th>4</th>\n",
       "      <td>[0.0, 0.0, 51.0, 0.0, 0.0, 0.0, 0.0, 0.0, 0.0,...</td>\n",
       "      <td>3383.3</td>\n",
       "      <td>USS0005K09S</td>\n",
       "      <td>39.6500</td>\n",
       "      <td>-105.8667</td>\n",
       "      <td>9432.0</td>\n",
       "    </tr>\n",
       "  </tbody>\n",
       "</table>\n",
       "</div>"
      ],
      "text/plain": [
       "                                              vector  elevation      station  \\\n",
       "0  [0.0, 0.0, 0.0, 0.0, 185.0, 51.0, 15.0, 0.0, 0...     2691.4  US1COSU0034   \n",
       "1  [0.0, 0.0, 0.0, 41.0, 0.0, 15.0, 51.0, 46.0, 3...     2490.8  US1COEG0021   \n",
       "2  [8.0, 3.0, 20.0, 3.0, 5.0, 8.0, 0.0, 0.0, 23.0...     3442.4  USC00051660   \n",
       "3  [0.0, 0.0, 10.0, 0.0, 0.0, 0.0, 0.0, 0.0, 76.0...     1775.2  US1COGF0001   \n",
       "4  [0.0, 0.0, 51.0, 0.0, 0.0, 0.0, 0.0, 0.0, 0.0,...     3383.3  USS0005K09S   \n",
       "\n",
       "   latitude  longitude  vecSum  \n",
       "0   39.6505  -106.0904  4884.0  \n",
       "1   39.6450  -106.3953  6304.0  \n",
       "2   39.3672  -106.1897  6824.0  \n",
       "3   39.5413  -107.3269  5668.0  \n",
       "4   39.6500  -105.8667  9432.0  "
      ]
     },
     "execution_count": 82,
     "metadata": {},
     "output_type": "execute_result"
    }
   ],
   "source": [
    "pd_df = pd_df.replace([np.inf, -np.inf], np.nan)\n",
    "pd_df = pd_df.replace([np.inf, -np.inf], np.nan).dropna(subset=['vecSum'], how=\"all\")\n",
    "pd_df.head()"
   ]
  },
  {
   "cell_type": "markdown",
   "metadata": {
    "run_control": {
     "frozen": false,
     "read_only": false
    }
   },
   "source": [
    "## Map"
   ]
  },
  {
   "cell_type": "code",
   "execution_count": 83,
   "metadata": {
    "ExecuteTime": {
     "end_time": "2017-05-16T03:04:10.168620Z",
     "start_time": "2017-05-16T03:04:10.160916"
    }
   },
   "outputs": [],
   "source": [
    "# pd_df['vecSum'].unique()"
   ]
  },
  {
   "cell_type": "code",
   "execution_count": 84,
   "metadata": {
    "ExecuteTime": {
     "end_time": "2017-05-16T03:04:10.207604Z",
     "start_time": "2017-05-16T03:04:10.177765"
    }
   },
   "outputs": [
    {
     "data": {
      "text/plain": [
       "u'#000080'"
      ]
     },
     "execution_count": 84,
     "metadata": {},
     "output_type": "execute_result"
    }
   ],
   "source": [
    "#define a mapping from the range of the value to hex colors.\n",
    "from matplotlib.colors import rgb2hex\n",
    "_avg='vecSum'\n",
    "_min=pd_df[_avg].min()\n",
    "_max=pd_df[_avg].max()\n",
    "_min,_max\n",
    "\n",
    "import pylab as plt\n",
    "cmap=plt.get_cmap('jet')\n",
    "def get_color(val):\n",
    "    x=(val-_min)/(_max-_min)\n",
    "    return(rgb2hex(cmap(x)[:3]))\n",
    "\n",
    "get_color(1000.)"
   ]
  },
  {
   "cell_type": "code",
   "execution_count": 85,
   "metadata": {
    "ExecuteTime": {
     "end_time": "2017-05-16T03:04:10.219980Z",
     "start_time": "2017-05-16T03:04:10.211001"
    },
    "collapsed": true,
    "run_control": {
     "frozen": false,
     "read_only": false
    }
   },
   "outputs": [],
   "source": [
    "min_lat,max_lat,min_long,max_long = box = (np.min(pd_df['latitude']), np.max(pd_df['latitude']), np.min(pd_df['longitude']), np.max(pd_df['longitude']))"
   ]
  },
  {
   "cell_type": "code",
   "execution_count": 86,
   "metadata": {
    "ExecuteTime": {
     "end_time": "2017-05-16T03:04:11.800725Z",
     "start_time": "2017-05-16T03:04:11.281406"
    },
    "run_control": {
     "frozen": false,
     "read_only": false
    }
   },
   "outputs": [
    {
     "data": {
      "application/vnd.jupyter.widget-view+json": {
       "model_id": "8133732644354aba9640c9a84d38317e"
      }
     },
     "metadata": {},
     "output_type": "display_data"
    }
   ],
   "source": [
    "center = [(min_lat+max_lat)/2, (min_long+max_long)/2]\n",
    "zoom = 9\n",
    "\n",
    "m = Map(default_tiles=TileLayer(opacity=1.0), center=center, zoom=zoom)\n",
    "\n",
    "r = Rectangle(bounds=[[min_lat,min_long],[max_lat,max_long]], weight=5, fill_opacity=0.0)\n",
    "m += r\n",
    "\n",
    "lat_margin=(max_lat-min_lat)/4\n",
    "long_margin=(max_long-min_long)/4\n",
    "circles = []\n",
    "\n",
    "pd_df.sort_values(by='vecSum', inplace=True,ascending=False)\n",
    "count = 0\n",
    "for index,row in pd_df.iterrows():#pdf\n",
    "    _lat=row['latitude']\n",
    "    _long=row['longitude']\n",
    "    _count=(row['vecSum']/100) #row['count(station)']\n",
    "    if (_count > 0): #vary\n",
    "        _coef=5 #row[_avg]\n",
    "        # taking sqrt of count so that the  area of the circle corresponds to the count\n",
    "        c = Circle(location=(_lat,_long), radius=int(300*np.sqrt(_count+0.0)), weight=1,\n",
    "            color='#F00', opacity=0.3, fill_opacity=0.4,\n",
    "            fill_color=get_color(_coef))\n",
    "        circles.append(c)\n",
    "        m.add_layer(c)\n",
    "        count += 1\n",
    "        if (count > 50):\n",
    "            break\n",
    "m    "
   ]
  },
  {
   "cell_type": "markdown",
   "metadata": {
    "run_control": {
     "frozen": false,
     "read_only": false
    }
   },
   "source": [
    "### excercises:\n",
    "* Add a legend that relates the colors to values.\n",
    "* Leaflet supports a variety of maps. See if you can get a topographical map as the background."
   ]
  },
  {
   "cell_type": "code",
   "execution_count": null,
   "metadata": {
    "collapsed": true,
    "run_control": {
     "frozen": false,
     "read_only": false
    }
   },
   "outputs": [],
   "source": [
    "%matplotlib inline\n",
    "pdf.plot.scatter(x='elevation',y='avg(coeff_1)');"
   ]
  },
  {
   "cell_type": "code",
   "execution_count": 43,
   "metadata": {
    "collapsed": true,
    "run_control": {
     "frozen": false,
     "read_only": false
    }
   },
   "outputs": [],
   "source": [
    "sc.stop()"
   ]
  },
  {
   "cell_type": "code",
   "execution_count": null,
   "metadata": {
    "collapsed": true
   },
   "outputs": [],
   "source": []
  }
 ],
 "metadata": {
  "anaconda-cloud": {},
  "hide_input": false,
  "kernelspec": {
   "display_name": "Python [default]",
   "language": "python",
   "name": "python2"
  },
  "language_info": {
   "codemirror_mode": {
    "name": "ipython",
    "version": 2
   },
   "file_extension": ".py",
   "mimetype": "text/x-python",
   "name": "python",
   "nbconvert_exporter": "python",
   "pygments_lexer": "ipython2",
   "version": "2.7.13"
  },
  "toc": {
   "colors": {
    "hover_highlight": "#DAA520",
    "running_highlight": "#FF0000",
    "selected_highlight": "#FFD700"
   },
   "moveMenuLeft": true,
   "nav_menu": {
    "height": "174px",
    "width": "252px"
   },
   "navigate_menu": true,
   "number_sections": true,
   "sideBar": true,
   "threshold": 4,
   "toc_cell": false,
   "toc_section_display": "block",
   "toc_window_display": false,
   "widenNotebook": false
  }
 },
 "nbformat": 4,
 "nbformat_minor": 1
}
