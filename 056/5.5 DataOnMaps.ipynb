{
 "cells": [
  {
   "cell_type": "markdown",
   "metadata": {
    "run_control": {
     "frozen": false,
     "read_only": false
    }
   },
   "source": [
    "## iPyLeaflet\n",
    "[ipyleaflet](https://github.com/ellisonbg/ipyleaflet) is a bridge between jupyter notebooks and the [leaflet](http://leafletjs.com/)  javascript library for drawing maps.\n",
    "\n",
    "ipyleaflet comes with a few examples notebooks (this notebook was derived from one) but very little documentation,\n",
    "for more documentation read the [Leaflet IPA](http://leafletjs.com/reference.html)\n",
    "\n",
    "For installation directions, see the README on [ipyleaflet](https://github.com/ellisonbg/ipyleaflet)\n",
    "\n",
    "[GeoJson](https://tools.ietf.org/html/rfc7946#section-3.1.7) is a good way to add data on top of an ipyleaflet map.\n",
    "\n",
    "For other backgrounds than open streets, you can alter the ipyleaflet.py file to point to one of [these map providers](https://leaflet-extras.github.io/leaflet-providers/preview/)"
   ]
  },
  {
   "cell_type": "code",
   "execution_count": 1,
   "metadata": {
    "ExecuteTime": {
     "end_time": "2017-05-15T16:34:58.929253Z",
     "start_time": "2017-05-15T16:34:58.915050"
    },
    "collapsed": true,
    "run_control": {
     "frozen": false,
     "read_only": false
    }
   },
   "outputs": [],
   "source": [
    "import ipywidgets as ipyw\n",
    "from ipyleaflet import (\n",
    "    Map,\n",
    "    Marker,\n",
    "    TileLayer, ImageOverlay,\n",
    "    Polyline, Polygon, Rectangle, Circle, CircleMarker,\n",
    "    GeoJSON,\n",
    "    DrawControl\n",
    ")"
   ]
  },
  {
   "cell_type": "markdown",
   "metadata": {
    "run_control": {
     "frozen": false,
     "read_only": false
    }
   },
   "source": [
    "## Visualizing the distribution of the observations\n",
    "\n",
    "## Load the required libraries"
   ]
  },
  {
   "cell_type": "code",
   "execution_count": 2,
   "metadata": {
    "ExecuteTime": {
     "end_time": "2017-05-15T16:35:00.711859Z",
     "start_time": "2017-05-15T16:34:58.932526"
    },
    "collapsed": true,
    "run_control": {
     "frozen": false,
     "read_only": false
    }
   },
   "outputs": [],
   "source": [
    "import pandas as pd\n",
    "import numpy as np\n",
    "import sklearn as sk\n",
    "import urllib\n",
    "import math\n",
    "import pylab as plt\n",
    "\n",
    "import sys\n",
    "sys.path.append('./lib')\n",
    "\n",
    "from leaflet import *"
   ]
  },
  {
   "cell_type": "code",
   "execution_count": 3,
   "metadata": {
    "ExecuteTime": {
     "end_time": "2017-05-15T16:35:03.458610Z",
     "start_time": "2017-05-15T16:35:00.715066"
    }
   },
   "outputs": [
    {
     "name": "stdout",
     "output_type": "stream",
     "text": [
      "['eigen-vecs', 'stations']\n"
     ]
    },
    {
     "data": {
      "text/html": [
       "<div>\n",
       "<table border=\"1\" class=\"dataframe\">\n",
       "  <thead>\n",
       "    <tr style=\"text-align: right;\">\n",
       "      <th></th>\n",
       "      <th>latitude</th>\n",
       "      <th>longitude</th>\n",
       "      <th>elevation</th>\n",
       "      <th>state</th>\n",
       "      <th>name</th>\n",
       "      <th>GSNFLAG</th>\n",
       "      <th>HCNFLAG</th>\n",
       "      <th>WMOID</th>\n",
       "    </tr>\n",
       "  </thead>\n",
       "  <tbody>\n",
       "    <tr>\n",
       "      <th>ACW00011604</th>\n",
       "      <td>17.1167</td>\n",
       "      <td>-61.7833</td>\n",
       "      <td>10.1</td>\n",
       "      <td>NaN</td>\n",
       "      <td>ST JOHNS COOLIDGE FLD</td>\n",
       "      <td>NaN</td>\n",
       "      <td>NaN</td>\n",
       "      <td>NaN</td>\n",
       "    </tr>\n",
       "    <tr>\n",
       "      <th>ACW00011647</th>\n",
       "      <td>17.1333</td>\n",
       "      <td>-61.7833</td>\n",
       "      <td>19.2</td>\n",
       "      <td>NaN</td>\n",
       "      <td>ST JOHNS</td>\n",
       "      <td>NaN</td>\n",
       "      <td>NaN</td>\n",
       "      <td>NaN</td>\n",
       "    </tr>\n",
       "    <tr>\n",
       "      <th>AE000041196</th>\n",
       "      <td>25.3330</td>\n",
       "      <td>55.5170</td>\n",
       "      <td>34.0</td>\n",
       "      <td>NaN</td>\n",
       "      <td>SHARJAH INTER. AIRP</td>\n",
       "      <td>GSN</td>\n",
       "      <td>NaN</td>\n",
       "      <td>41196.0</td>\n",
       "    </tr>\n",
       "    <tr>\n",
       "      <th>AF000040930</th>\n",
       "      <td>35.3170</td>\n",
       "      <td>69.0170</td>\n",
       "      <td>3366.0</td>\n",
       "      <td>NaN</td>\n",
       "      <td>NORTH-SALANG</td>\n",
       "      <td>GSN</td>\n",
       "      <td>NaN</td>\n",
       "      <td>40930.0</td>\n",
       "    </tr>\n",
       "    <tr>\n",
       "      <th>AG000060390</th>\n",
       "      <td>36.7167</td>\n",
       "      <td>3.2500</td>\n",
       "      <td>24.0</td>\n",
       "      <td>NaN</td>\n",
       "      <td>ALGER-DAR EL BEIDA</td>\n",
       "      <td>GSN</td>\n",
       "      <td>NaN</td>\n",
       "      <td>60390.0</td>\n",
       "    </tr>\n",
       "  </tbody>\n",
       "</table>\n",
       "</div>"
      ],
      "text/plain": [
       "             latitude  longitude  elevation state                   name  \\\n",
       "ACW00011604   17.1167   -61.7833       10.1   NaN  ST JOHNS COOLIDGE FLD   \n",
       "ACW00011647   17.1333   -61.7833       19.2   NaN               ST JOHNS   \n",
       "AE000041196   25.3330    55.5170       34.0   NaN    SHARJAH INTER. AIRP   \n",
       "AF000040930   35.3170    69.0170     3366.0   NaN           NORTH-SALANG   \n",
       "AG000060390   36.7167     3.2500       24.0   NaN     ALGER-DAR EL BEIDA   \n",
       "\n",
       "            GSNFLAG HCNFLAG    WMOID  \n",
       "ACW00011604     NaN     NaN      NaN  \n",
       "ACW00011647     NaN     NaN      NaN  \n",
       "AE000041196     GSN     NaN  41196.0  \n",
       "AF000040930     GSN     NaN  40930.0  \n",
       "AG000060390     GSN     NaN  60390.0  "
      ]
     },
     "execution_count": 3,
     "metadata": {},
     "output_type": "execute_result"
    }
   ],
   "source": [
    "data_dir = \"../../Data/Weather/\"\n",
    "from pickle import load\n",
    "with open(data_dir+'PRCP_residuals_PCA.pickle','rb') as file:\n",
    "    Res_eig=load(file)\n",
    "print Res_eig.keys()\n",
    "\n",
    "#stations.pkl\n",
    "with open(data_dir+'stations.pkl','rb') as file:\n",
    "    Stations=load(file)\n",
    "Stations.head()\n"
   ]
  },
  {
   "cell_type": "code",
   "execution_count": 4,
   "metadata": {
    "ExecuteTime": {
     "end_time": "2017-05-15T16:35:03.486799Z",
     "start_time": "2017-05-15T16:35:03.462273"
    }
   },
   "outputs": [
    {
     "data": {
      "text/html": [
       "<div>\n",
       "<table border=\"1\" class=\"dataframe\">\n",
       "  <thead>\n",
       "    <tr style=\"text-align: right;\">\n",
       "      <th></th>\n",
       "      <th>0</th>\n",
       "      <th>1</th>\n",
       "      <th>2</th>\n",
       "      <th>3</th>\n",
       "    </tr>\n",
       "  </thead>\n",
       "  <tbody>\n",
       "    <tr>\n",
       "      <th>0</th>\n",
       "      <td>-0.132894</td>\n",
       "      <td>0.015893</td>\n",
       "      <td>-0.013382</td>\n",
       "      <td>0.041156</td>\n",
       "    </tr>\n",
       "    <tr>\n",
       "      <th>1</th>\n",
       "      <td>-0.142732</td>\n",
       "      <td>0.009482</td>\n",
       "      <td>-0.026800</td>\n",
       "      <td>0.016065</td>\n",
       "    </tr>\n",
       "    <tr>\n",
       "      <th>2</th>\n",
       "      <td>-0.065428</td>\n",
       "      <td>-0.017965</td>\n",
       "      <td>0.101164</td>\n",
       "      <td>-0.060902</td>\n",
       "    </tr>\n",
       "    <tr>\n",
       "      <th>3</th>\n",
       "      <td>-0.078180</td>\n",
       "      <td>-0.015748</td>\n",
       "      <td>0.050627</td>\n",
       "      <td>-0.128463</td>\n",
       "    </tr>\n",
       "    <tr>\n",
       "      <th>4</th>\n",
       "      <td>-0.095028</td>\n",
       "      <td>-0.060968</td>\n",
       "      <td>-0.134726</td>\n",
       "      <td>0.027579</td>\n",
       "    </tr>\n",
       "  </tbody>\n",
       "</table>\n",
       "</div>"
      ],
      "text/plain": [
       "          0         1         2         3\n",
       "0 -0.132894  0.015893 -0.013382  0.041156\n",
       "1 -0.142732  0.009482 -0.026800  0.016065\n",
       "2 -0.065428 -0.017965  0.101164 -0.060902\n",
       "3 -0.078180 -0.015748  0.050627 -0.128463\n",
       "4 -0.095028 -0.060968 -0.134726  0.027579"
      ]
     },
     "execution_count": 4,
     "metadata": {},
     "output_type": "execute_result"
    }
   ],
   "source": [
    "import pandas as pd\n",
    "Eig=pd.DataFrame(Res_eig['eigen-vecs'].transpose())\n",
    "Eig.head()"
   ]
  },
  {
   "cell_type": "code",
   "execution_count": 5,
   "metadata": {
    "ExecuteTime": {
     "end_time": "2017-05-15T16:35:03.526510Z",
     "start_time": "2017-05-15T16:35:03.490402"
    }
   },
   "outputs": [
    {
     "name": "stdout",
     "output_type": "stream",
     "text": [
      "[u'USS0006K01S', u'US1COPK0005', u'US1COJF0281', u'USS0005K05S', u'USC00050214']\n"
     ]
    },
    {
     "data": {
      "text/html": [
       "<div>\n",
       "<table border=\"1\" class=\"dataframe\">\n",
       "  <thead>\n",
       "    <tr style=\"text-align: right;\">\n",
       "      <th></th>\n",
       "      <th>0</th>\n",
       "      <th>1</th>\n",
       "      <th>2</th>\n",
       "      <th>3</th>\n",
       "    </tr>\n",
       "    <tr>\n",
       "      <th>station</th>\n",
       "      <th></th>\n",
       "      <th></th>\n",
       "      <th></th>\n",
       "      <th></th>\n",
       "    </tr>\n",
       "  </thead>\n",
       "  <tbody>\n",
       "    <tr>\n",
       "      <th>USS0006K01S</th>\n",
       "      <td>-0.132894</td>\n",
       "      <td>0.015893</td>\n",
       "      <td>-0.013382</td>\n",
       "      <td>0.041156</td>\n",
       "    </tr>\n",
       "    <tr>\n",
       "      <th>US1COPK0005</th>\n",
       "      <td>-0.142732</td>\n",
       "      <td>0.009482</td>\n",
       "      <td>-0.026800</td>\n",
       "      <td>0.016065</td>\n",
       "    </tr>\n",
       "    <tr>\n",
       "      <th>US1COJF0281</th>\n",
       "      <td>-0.065428</td>\n",
       "      <td>-0.017965</td>\n",
       "      <td>0.101164</td>\n",
       "      <td>-0.060902</td>\n",
       "    </tr>\n",
       "    <tr>\n",
       "      <th>USS0005K05S</th>\n",
       "      <td>-0.078180</td>\n",
       "      <td>-0.015748</td>\n",
       "      <td>0.050627</td>\n",
       "      <td>-0.128463</td>\n",
       "    </tr>\n",
       "    <tr>\n",
       "      <th>USC00050214</th>\n",
       "      <td>-0.095028</td>\n",
       "      <td>-0.060968</td>\n",
       "      <td>-0.134726</td>\n",
       "      <td>0.027579</td>\n",
       "    </tr>\n",
       "  </tbody>\n",
       "</table>\n",
       "</div>"
      ],
      "text/plain": [
       "                    0         1         2         3\n",
       "station                                            \n",
       "USS0006K01S -0.132894  0.015893 -0.013382  0.041156\n",
       "US1COPK0005 -0.142732  0.009482 -0.026800  0.016065\n",
       "US1COJF0281 -0.065428 -0.017965  0.101164 -0.060902\n",
       "USS0005K05S -0.078180 -0.015748  0.050627 -0.128463\n",
       "USC00050214 -0.095028 -0.060968 -0.134726  0.027579"
      ]
     },
     "execution_count": 5,
     "metadata": {},
     "output_type": "execute_result"
    }
   ],
   "source": [
    "Eig['station']=Res_eig['stations']\n",
    "Eig=Eig.set_index('station')\n",
    "print Res_eig['stations'][:5]\n",
    "Eig.head()"
   ]
  },
  {
   "cell_type": "code",
   "execution_count": 6,
   "metadata": {
    "ExecuteTime": {
     "end_time": "2017-05-15T16:35:03.612872Z",
     "start_time": "2017-05-15T16:35:03.529633"
    }
   },
   "outputs": [
    {
     "data": {
      "text/html": [
       "<div>\n",
       "<table border=\"1\" class=\"dataframe\">\n",
       "  <thead>\n",
       "    <tr style=\"text-align: right;\">\n",
       "      <th></th>\n",
       "      <th>0</th>\n",
       "      <th>1</th>\n",
       "      <th>2</th>\n",
       "      <th>3</th>\n",
       "      <th>latitude</th>\n",
       "      <th>longitude</th>\n",
       "      <th>elevation</th>\n",
       "      <th>state</th>\n",
       "      <th>name</th>\n",
       "      <th>GSNFLAG</th>\n",
       "      <th>HCNFLAG</th>\n",
       "      <th>WMOID</th>\n",
       "    </tr>\n",
       "    <tr>\n",
       "      <th>station</th>\n",
       "      <th></th>\n",
       "      <th></th>\n",
       "      <th></th>\n",
       "      <th></th>\n",
       "      <th></th>\n",
       "      <th></th>\n",
       "      <th></th>\n",
       "      <th></th>\n",
       "      <th></th>\n",
       "      <th></th>\n",
       "      <th></th>\n",
       "      <th></th>\n",
       "    </tr>\n",
       "  </thead>\n",
       "  <tbody>\n",
       "    <tr>\n",
       "      <th>USS0006K01S</th>\n",
       "      <td>-0.132894</td>\n",
       "      <td>0.015893</td>\n",
       "      <td>-0.013382</td>\n",
       "      <td>0.041156</td>\n",
       "      <td>39.3667</td>\n",
       "      <td>-106.0667</td>\n",
       "      <td>3474.7</td>\n",
       "      <td>O</td>\n",
       "      <td>HOOSIER PASS</td>\n",
       "      <td>NaN</td>\n",
       "      <td>NaN</td>\n",
       "      <td>NaN</td>\n",
       "    </tr>\n",
       "    <tr>\n",
       "      <th>US1COPK0005</th>\n",
       "      <td>-0.142732</td>\n",
       "      <td>0.009482</td>\n",
       "      <td>-0.026800</td>\n",
       "      <td>0.016065</td>\n",
       "      <td>39.3303</td>\n",
       "      <td>-106.0611</td>\n",
       "      <td>3225.1</td>\n",
       "      <td>O</td>\n",
       "      <td>ALMA 3.1 N</td>\n",
       "      <td>NaN</td>\n",
       "      <td>NaN</td>\n",
       "      <td>NaN</td>\n",
       "    </tr>\n",
       "    <tr>\n",
       "      <th>US1COJF0281</th>\n",
       "      <td>-0.065428</td>\n",
       "      <td>-0.017965</td>\n",
       "      <td>0.101164</td>\n",
       "      <td>-0.060902</td>\n",
       "      <td>39.7674</td>\n",
       "      <td>-105.2262</td>\n",
       "      <td>1805.0</td>\n",
       "      <td>O</td>\n",
       "      <td>GOLDEN 2.0 NNW</td>\n",
       "      <td>NaN</td>\n",
       "      <td>NaN</td>\n",
       "      <td>NaN</td>\n",
       "    </tr>\n",
       "    <tr>\n",
       "      <th>USS0005K05S</th>\n",
       "      <td>-0.078180</td>\n",
       "      <td>-0.015748</td>\n",
       "      <td>0.050627</td>\n",
       "      <td>-0.128463</td>\n",
       "      <td>39.6667</td>\n",
       "      <td>-105.9000</td>\n",
       "      <td>3474.7</td>\n",
       "      <td>O</td>\n",
       "      <td>LOVELAND BASIN</td>\n",
       "      <td>NaN</td>\n",
       "      <td>NaN</td>\n",
       "      <td>NaN</td>\n",
       "    </tr>\n",
       "  </tbody>\n",
       "</table>\n",
       "</div>"
      ],
      "text/plain": [
       "                    0         1         2         3  latitude  longitude  \\\n",
       "station                                                                    \n",
       "USS0006K01S -0.132894  0.015893 -0.013382  0.041156   39.3667  -106.0667   \n",
       "US1COPK0005 -0.142732  0.009482 -0.026800  0.016065   39.3303  -106.0611   \n",
       "US1COJF0281 -0.065428 -0.017965  0.101164 -0.060902   39.7674  -105.2262   \n",
       "USS0005K05S -0.078180 -0.015748  0.050627 -0.128463   39.6667  -105.9000   \n",
       "\n",
       "             elevation state            name GSNFLAG HCNFLAG  WMOID  \n",
       "station                                                              \n",
       "USS0006K01S     3474.7     O    HOOSIER PASS     NaN     NaN    NaN  \n",
       "US1COPK0005     3225.1     O      ALMA 3.1 N     NaN     NaN    NaN  \n",
       "US1COJF0281     1805.0     O  GOLDEN 2.0 NNW     NaN     NaN    NaN  \n",
       "USS0005K05S     3474.7     O  LOVELAND BASIN     NaN     NaN    NaN  "
      ]
     },
     "execution_count": 6,
     "metadata": {},
     "output_type": "execute_result"
    }
   ],
   "source": [
    "table=Eig.join(Stations,how='left')\n",
    "table.head(4)"
   ]
  },
  {
   "cell_type": "code",
   "execution_count": 7,
   "metadata": {
    "ExecuteTime": {
     "end_time": "2017-05-15T16:35:03.660143Z",
     "start_time": "2017-05-15T16:35:03.617104"
    }
   },
   "outputs": [
    {
     "data": {
      "text/html": [
       "<div>\n",
       "<table border=\"1\" class=\"dataframe\">\n",
       "  <thead>\n",
       "    <tr style=\"text-align: right;\">\n",
       "      <th></th>\n",
       "      <th>name</th>\n",
       "      <th>latitude</th>\n",
       "      <th>longitude</th>\n",
       "      <th>elevation</th>\n",
       "      <th>0</th>\n",
       "      <th>1</th>\n",
       "      <th>2</th>\n",
       "      <th>3</th>\n",
       "    </tr>\n",
       "    <tr>\n",
       "      <th>station</th>\n",
       "      <th></th>\n",
       "      <th></th>\n",
       "      <th></th>\n",
       "      <th></th>\n",
       "      <th></th>\n",
       "      <th></th>\n",
       "      <th></th>\n",
       "      <th></th>\n",
       "    </tr>\n",
       "  </thead>\n",
       "  <tbody>\n",
       "    <tr>\n",
       "      <th>USS0006K01S</th>\n",
       "      <td>HOOSIER PASS</td>\n",
       "      <td>39.3667</td>\n",
       "      <td>-106.0667</td>\n",
       "      <td>3474.7</td>\n",
       "      <td>-0.132894</td>\n",
       "      <td>0.015893</td>\n",
       "      <td>-0.013382</td>\n",
       "      <td>0.041156</td>\n",
       "    </tr>\n",
       "    <tr>\n",
       "      <th>US1COPK0005</th>\n",
       "      <td>ALMA 3.1 N</td>\n",
       "      <td>39.3303</td>\n",
       "      <td>-106.0611</td>\n",
       "      <td>3225.1</td>\n",
       "      <td>-0.142732</td>\n",
       "      <td>0.009482</td>\n",
       "      <td>-0.026800</td>\n",
       "      <td>0.016065</td>\n",
       "    </tr>\n",
       "    <tr>\n",
       "      <th>US1COJF0281</th>\n",
       "      <td>GOLDEN 2.0 NNW</td>\n",
       "      <td>39.7674</td>\n",
       "      <td>-105.2262</td>\n",
       "      <td>1805.0</td>\n",
       "      <td>-0.065428</td>\n",
       "      <td>-0.017965</td>\n",
       "      <td>0.101164</td>\n",
       "      <td>-0.060902</td>\n",
       "    </tr>\n",
       "    <tr>\n",
       "      <th>USS0005K05S</th>\n",
       "      <td>LOVELAND BASIN</td>\n",
       "      <td>39.6667</td>\n",
       "      <td>-105.9000</td>\n",
       "      <td>3474.7</td>\n",
       "      <td>-0.078180</td>\n",
       "      <td>-0.015748</td>\n",
       "      <td>0.050627</td>\n",
       "      <td>-0.128463</td>\n",
       "    </tr>\n",
       "  </tbody>\n",
       "</table>\n",
       "</div>"
      ],
      "text/plain": [
       "                       name  latitude  longitude  elevation         0  \\\n",
       "station                                                                 \n",
       "USS0006K01S    HOOSIER PASS   39.3667  -106.0667     3474.7 -0.132894   \n",
       "US1COPK0005      ALMA 3.1 N   39.3303  -106.0611     3225.1 -0.142732   \n",
       "US1COJF0281  GOLDEN 2.0 NNW   39.7674  -105.2262     1805.0 -0.065428   \n",
       "USS0005K05S  LOVELAND BASIN   39.6667  -105.9000     3474.7 -0.078180   \n",
       "\n",
       "                    1         2         3  \n",
       "station                                    \n",
       "USS0006K01S  0.015893 -0.013382  0.041156  \n",
       "US1COPK0005  0.009482 -0.026800  0.016065  \n",
       "US1COJF0281 -0.017965  0.101164 -0.060902  \n",
       "USS0005K05S -0.015748  0.050627 -0.128463  "
      ]
     },
     "execution_count": 7,
     "metadata": {},
     "output_type": "execute_result"
    }
   ],
   "source": [
    "table=table[['name','latitude','longitude','elevation',0,1,2,3]]#,4,5,6,7]]\n",
    "table.head(4)"
   ]
  },
  {
   "cell_type": "code",
   "execution_count": 8,
   "metadata": {
    "ExecuteTime": {
     "end_time": "2017-05-15T16:35:03.677019Z",
     "start_time": "2017-05-15T16:35:03.665890"
    }
   },
   "outputs": [
    {
     "data": {
      "text/plain": [
       "pandas.core.frame.DataFrame"
      ]
     },
     "execution_count": 8,
     "metadata": {},
     "output_type": "execute_result"
    }
   ],
   "source": [
    "type(table)"
   ]
  },
  {
   "cell_type": "code",
   "execution_count": 9,
   "metadata": {
    "ExecuteTime": {
     "end_time": "2017-05-15T16:35:03.698144Z",
     "start_time": "2017-05-15T16:35:03.684449"
    },
    "scrolled": true
   },
   "outputs": [
    {
     "data": {
      "text/plain": [
       "Index([u'USS0006K01S', u'US1COPK0005', u'US1COJF0281', u'USS0005K05S',\n",
       "       u'USC00050214', u'USC00052633', u'US1COGF0004', u'US1COGF0003',\n",
       "       u'US1COGF0002', u'US1COGF0001',\n",
       "       ...\n",
       "       u'USW00093009', u'USS0006K39S', u'USS0006K06S', u'USC00054762',\n",
       "       u'USC00053146', u'USC00053387', u'USS0006K10S', u'USC00050825',\n",
       "       u'US1COEG0021', u'US1COLK0022'],\n",
       "      dtype='object', name=u'station', length=201)"
      ]
     },
     "execution_count": 9,
     "metadata": {},
     "output_type": "execute_result"
    }
   ],
   "source": [
    "table.index"
   ]
  },
  {
   "cell_type": "code",
   "execution_count": 10,
   "metadata": {
    "ExecuteTime": {
     "end_time": "2017-05-15T16:35:03.716851Z",
     "start_time": "2017-05-15T16:35:03.704369"
    },
    "collapsed": true,
    "scrolled": true
   },
   "outputs": [],
   "source": [
    "import pylab as plt\n",
    "prop_cycle = plt.rcParams['axes.prop_cycle']\n",
    "colors = prop_cycle.by_key()['color']"
   ]
  },
  {
   "cell_type": "markdown",
   "metadata": {
    "run_control": {
     "frozen": false,
     "read_only": false
    }
   },
   "source": [
    "## Map"
   ]
  },
  {
   "cell_type": "code",
   "execution_count": 11,
   "metadata": {
    "ExecuteTime": {
     "end_time": "2017-05-15T16:35:26.213310Z",
     "start_time": "2017-05-15T16:35:03.741621"
    },
    "code_folding": [
     14
    ]
   },
   "outputs": [
    {
     "data": {
      "application/vnd.jupyter.widget-view+json": {
       "model_id": "39513193443241d3911898e1ee2ef530"
      }
     },
     "metadata": {},
     "output_type": "display_data"
    }
   ],
   "source": [
    "min_lat,max_lat,min_long,max_long = box = (39.1014, 39.8227, -108.7339, -105.1171)\n",
    "center = [(min_lat+max_lat)/2, (min_long+max_long)/2]\n",
    "zoom = 9\n",
    "m = Map(default_tiles=TileLayer(opacity=0.6), center=center, zoom=zoom)\n",
    "r = Rectangle(bounds=[[min_lat,min_long],[max_lat,max_long]], weight=5, fill_opacity=0.0)\n",
    "m += r\n",
    "lat_margin=(max_lat-min_lat)/4\n",
    "long_margin=(max_long-min_long)/4\n",
    "for index,row in table.iterrows():\n",
    "    _lat=row['latitude']\n",
    "    _long=row['longitude']\n",
    "    for col in range(4):\n",
    "        _coef=row[col]\n",
    "        if np.isnan(_coef):\n",
    "            continue\n",
    "        r=abs(_coef)/5\n",
    "#         print r\n",
    "        color=colors[col]\n",
    "        signs=[[+1,+1],[+1,-1],[-1,-1],[-1,+1]]\n",
    "        lat_sign,long_sign=signs[col]\n",
    "        triangle=[(_lat,_long),(_lat+lat_sign*r,_long),(_lat,_long+long_sign*r),(_lat,_long)]\n",
    "        if _coef<0:\n",
    "            poly= Polygon(locations=triangle, weight=0,\n",
    "                    color=color, opacity=0, fill_opacity=0.7,\n",
    "                    fill_color=color)\n",
    "        else:\n",
    "            poly= Polygon(locations=triangle, weight=2,\n",
    "                    color=color, opacity=0.8, fill_opacity=0,\n",
    "                    fill_color=color)\n",
    "        m +=poly   \n",
    "m    \n",
    "# ipyw.VBox([m, label])"
   ]
  },
  {
   "cell_type": "markdown",
   "metadata": {
    "run_control": {
     "frozen": false,
     "read_only": false
    }
   },
   "source": [
    "### excercises:\n",
    "* Add a legend that relates the colors to values.\n",
    "* Leaflet supports a variety of maps. See if you can get a topographical map as the background."
   ]
  },
  {
   "cell_type": "code",
   "execution_count": 12,
   "metadata": {
    "ExecuteTime": {
     "end_time": "2017-05-15T16:35:26.222759Z",
     "start_time": "2017-05-15T16:35:26.215599"
    },
    "collapsed": true,
    "run_control": {
     "frozen": false,
     "read_only": false
    }
   },
   "outputs": [],
   "source": [
    "# map = ipyl.Map(center=[53.88, 27.45], zoom=4)\n",
    "# label = ipyw.Label(layout=ipyw.Layout(width='100%'))\n",
    "\n",
    "# # geojson layer with hover handler\n",
    "# with open('./europe_110.geo.json') as f:\n",
    "#     data = json.load(f)\n",
    "# for feature in data['features']:\n",
    "#     feature['properties']['style'] = {\n",
    "#         'color': 'grey',\n",
    "#         'weight': 1,\n",
    "#         'fillColor': 'grey',\n",
    "#         'fillOpacity': 0.5\n",
    "#     }\n",
    "# layer = ipyl.GeoJSON(data=data, hover_style={'fillColor': 'red'})\n",
    "\n",
    "# def hover_handler(event=None, id=None, properties=None):\n",
    "#     label.value = properties['geounit']\n",
    "\n",
    "# layer.on_hover(hover_handler)\n",
    "# map.add_layer(layer)\n",
    "\n",
    "\n",
    "# ipyw.VBox([map, label])"
   ]
  },
  {
   "cell_type": "code",
   "execution_count": null,
   "metadata": {
    "collapsed": true
   },
   "outputs": [],
   "source": []
  }
 ],
 "metadata": {
  "anaconda-cloud": {},
  "hide_input": false,
  "kernelspec": {
   "display_name": "Python [default]",
   "language": "python",
   "name": "python2"
  },
  "language_info": {
   "codemirror_mode": {
    "name": "ipython",
    "version": 2
   },
   "file_extension": ".py",
   "mimetype": "text/x-python",
   "name": "python",
   "nbconvert_exporter": "python",
   "pygments_lexer": "ipython2",
   "version": "2.7.13"
  },
  "toc": {
   "colors": {
    "hover_highlight": "#DAA520",
    "running_highlight": "#FF0000",
    "selected_highlight": "#FFD700"
   },
   "moveMenuLeft": true,
   "nav_menu": {
    "height": "174px",
    "width": "252px"
   },
   "navigate_menu": true,
   "number_sections": true,
   "sideBar": true,
   "threshold": 4,
   "toc_cell": false,
   "toc_section_display": "block",
   "toc_window_display": false,
   "widenNotebook": false
  }
 },
 "nbformat": 4,
 "nbformat_minor": 1
}
