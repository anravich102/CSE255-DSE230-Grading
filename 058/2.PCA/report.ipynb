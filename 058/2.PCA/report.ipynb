{
 "cells": [
  {
   "cell_type": "markdown",
   "metadata": {},
   "source": [
    "# Weather Analysis of Eldorado National Forest\n",
    "\n",
    "In this report we'll analyze historic weather data of the area which is roughly Eldorado National Forest and Humboldt-Toiyabe National Forest. The data we will use here comes from [NOAA](https://www.ncdc.noaa.gov/). Specifically, it was downloaded from this [FTP site](ftp://ftp.ncdc.noaa.gov/pub/data/ghcn/daily/).\n",
    "\n",
    "As is shown in below map, each circle indicates a weather station and area of the circle is propotional to number of observations in that station.\n",
    "\n",
    "<p><img alt=\"map_stat.png\" src=\"mFigures/map_stat.png\" style=\"height:300px\" /></p>\n",
    "\n",
    "The data has six measurements:\n",
    "* **TMIN, TMAX:** the daily minimum and maximum temperature.\n",
    "* **TOBS:** The average temperature for each day.\n",
    "* **PRCP:** Daily Percipitation (in mm)\n",
    "* **SNOW:** Daily snowfall (in mm)\n",
    "* **SNWD:** The depth of accumulated snow.\n",
    "\n",
    "To get a basic idea of the data, let's first look at the __mean__ and __standard deviation__ of six measurements.\n",
    "<p><img alt=\"mean1.png\" src=\"mFigures/mean1.png\" style=\"height:300px\" /></p>\n",
    "<p><img alt=\"mean2.png\" src=\"mFigures/mean2.png\" style=\"height:300px\" /></p>\n",
    "<p><img alt=\"mean3.png\" src=\"mFigures/mean3.png\" style=\"height:300px\" /></p>\n",
    "\n",
    "We can see seasonal changing temperature and percipitation.It's hot and dry in summer, and cold and wet and snowish in winter.\n",
    "\n",
    "### sanity check:\n",
    "To avoid data corruption, let's first check the data from other sources, such as <a href=\"http://www.usclimatedata.com/climate/placerville/california/united-states/usca0876\" target=\"_blank\">US Climate Data</a>. The graph below shows the daily minimum and maximum temperatures for each month, as well as the total precipitation for each month.\n",
    "<p><img alt=\"check\" src=\"mFigures/check.png\" style=\"height:300px\" /></p>\n",
    "After translate Fahrenheit to Celsius and inch to millimeter, data from this chart agrees with our data. The highest temperature in summer is about 90&deg;F, which is about 32&deg;C. And percipitation in January is 7 inches, which is about 178 mm, summing up the percipitation of days in our data lead to similar number."
   ]
  },
  {
   "cell_type": "markdown",
   "metadata": {
    "collapsed": true
   },
   "source": [
    "## PCA analysis\n",
    "\n",
    "For each of the six measurement, we compute the percentage of the variance explained as a function of the number of eigen-vectors used.\n",
    "\n",
    "### Percentage of variance explained.\n",
    "![pca1](mFigures/pca1.png)\n",
    "We could see that eigen-vectors have a fairly good representation of temperature. Specially, the first eigen-vector accounts for 40%-60% of total variance.\n",
    "\n",
    "![pca2](mFigures/pca2.png)\n",
    "Top 5 eigen-vectors capture 14% and 17.5% of variance of __daily snowfall__ and __percipitation__, which may be due to their drastic variation between days. On the other hand, top 5 eigen-vectors explain 85% of variance of __snow depth__, with the fisrt one accounting for 70%.\n",
    "\n",
    "So, let's analyze __snow depth__ first since it's best captured by eigen-vectors."
   ]
  },
  {
   "cell_type": "markdown",
   "metadata": {},
   "source": [
    "## Analysis of snow depth\n",
    "Let's first look at top eigen-vectors of snow depth data.\n",
    "![sn1](mFigures/sn1.png)\n",
    "The first eigen-function (eig1) has a very similar shape to the mean. They arrive at peek at similar time, and both reduce to zero in summer. The interpretation of this shape is that eig1 represents the overall amount of snow above/below the mean, but without changing the distribution over time.\n",
    "\n",
    "**eig2,eig3** both oscilate between positive and negative values. In other words, they correspond to changing the distribution of the snow depth over the winter months, but they don't change the total (much).\n",
    "\n",
    "They can be interpreted as follows:\n",
    "* **eig2:** more snow in Jan - Feb, less snow in feb - Apr.\n",
    "* **eig3:** less snow in Dec - Feb, more snow in Mar - Apr.\n",
    "\n",
    "### Examples of reconstructions\n",
    "Next, let's look at several examples of reconstruction of __snow depth__.\n",
    "\n",
    "Coeff1: most positive\n",
    "![c1+](mFigures/c1+.png)\n",
    "Coeff1: most negative\n",
    "![c1+](mFigures/c1-.png)\n",
    "Large positive values of coeff1 correspond to more than average snow. Low values correspond to less than average snow. The residual indicates how well the reconstruction is. The smaller res is, the more line __c0__ resembles target.\n",
    "\n",
    "Coeff2: most positive\n",
    "![c2+](mFigures/c2+.png)\n",
    "Coeff2: most negative\n",
    "![c2+](mFigures/c2-.png)\n",
    "Large positive values of coeff2 correspond to an early snow season - most of the snowfall is between Jan and Feb. Negative values for coeff2 correspond to a late snow season - most of the snow is in Apr. The residual indicates how well the reconstruction is. The smaller res is, the more line __c1__ resembles target."
   ]
  },
  {
   "cell_type": "markdown",
   "metadata": {},
   "source": [
    "## Geographical distribution of snow depth and average temperature coefficients\n",
    "With above observation in mind, now let's take a closer look at the geographical distribution of __snow depth__ and __TOBS__ coefficients.\n",
    "\n",
    "__coeff1__ of snow depth\n",
    "<p><img alt=\"sn2.png\" src=\"mFigures/sn2.png\" style=\"height:300px\" /></p>\n",
    "Recall large __coeff1__ represents more than average snow, small __coeff1__ represents less than average snow. In the above map, the blue color corresponds to small __coeff1__, and red color correponds to large __coeff1__. And the area of circles indicates number of observations in that station. As shown in the image, not so many stations have more than average snow -- they mainly locate at south of lake Tahoe.\n",
    "\n",
    "__coeff2__ of snow depth\n",
    "<p><img alt=\"sn3.png\" src=\"mFigures/sn3.png\" style=\"height:300px\" /></p>\n",
    "Recall large __coeff2__ represents late snow than average, small __coeff2__ represents an earlier snow. Same as before, the blue color corresponds to small __coeff2__, and red color correponds to large __coeff2__.\n",
    "\n",
    "__coeff1__ of average temperature\n",
    "<p><img alt=\"tobs1.png\" src=\"mFigures/tobs1.png\" style=\"height:300px\" /></p>\n",
    "Large __coeff1__ indicates a higher than average temperature, which corresponds to the area in red, and small __coeff1__ indicates a lower than average temperature, covered in blue.\n",
    "\n",
    "__coeff2__ of average temperature\n",
    "<p><img alt=\"tobs2.png\" src=\"mFigures/tobs2.png\" style=\"height:300px\" /></p>\n",
    "Large __coeff2__ indicates a higher than average temperature in fall and winter, but lower than average in late spring and summer, as is represented by the area covered in bright colors. Region in dark colors represents the opposite."
   ]
  },
  {
   "cell_type": "markdown",
   "metadata": {},
   "source": [
    "## Does climate change much over time\n",
    "\n",
    "It's natural to wonder if climate changes over time. So let's take a look at __snow depth__, __average temperature__ and __percipitation__. Here we compute the average of each month for years after 1980.\n",
    "\n",
    "### snow depth\n",
    "![hm1](mFigures/hm1.png)\n",
    "Hm, the snow doesn't seem to change much over years, except a burst in 1993. Also, it looks like it has a small cycle of 3-4 years when snow is unusually small.\n",
    "\n",
    "### average temperature\n",
    "![hm2](mFigures/hm2.png)\n",
    "Well, the temperature in this area seems to go down. That's cool.\n",
    "\n",
    "### percipitation\n",
    "![hm3](mFigures/hm3.png)\n",
    "Looks it doesn't rain that much any more."
   ]
  },
  {
   "cell_type": "code",
   "execution_count": null,
   "metadata": {
    "collapsed": true
   },
   "outputs": [],
   "source": []
  }
 ],
 "metadata": {
  "anaconda-cloud": {},
  "kernelspec": {
   "display_name": "Python [default]",
   "language": "python",
   "name": "python2"
  },
  "language_info": {
   "codemirror_mode": {
    "name": "ipython",
    "version": 2
   },
   "file_extension": ".py",
   "mimetype": "text/x-python",
   "name": "python",
   "nbconvert_exporter": "python",
   "pygments_lexer": "ipython2",
   "version": "2.7.12"
  }
 },
 "nbformat": 4,
 "nbformat_minor": 1
}
