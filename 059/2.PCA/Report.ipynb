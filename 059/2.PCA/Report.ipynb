{
 "cells": [
  {
   "cell_type": "markdown",
   "metadata": {
    "collapsed": true
   },
   "source": [
    "# East Florida Weather Analysis\n",
    "\n",
    "This is a report to analyze the historical weather patterns in the east coast of Florida. \n",
    "\n",
    "The weather data we'll use comes from [NOAA](https://www.ncdc.noaa.gov/) and can be downloaded via [FTP site](ftp://ftp.ncdc.noaa.gov/pub/data/ghcn/daily/). Specifically, in this analysis, we'll use a sub\n",
    "\n",
    "We focused on six measurements:\n",
    "* **TMIN, TMAX:** the daily minimum and maximum temperature.\n",
    "* **TOBS:** The average temperature for each day.\n",
    "* **PRCP:** Daily Percipitation (in mm)\n",
    "* **SNOW:** Daily snowfall (in mm)\n",
    "* **SNWD:** The depth of accumulated snow.\n"
   ]
  },
  {
   "cell_type": "markdown",
   "metadata": {
    "collapsed": true
   },
   "source": [
    "## Dataset overview\n",
    "\n",
    "### Location\n",
    "\n",
    "The data we'll analyze is mainly located in the south-east of Florida, which is shown below. It also contains the weather data in the Bahama islands.\n",
    "\n",
    "<img src=\"img/stations.png\"/>\n",
    "\n",
    "<p style=\"text-align:center\">**Locations of weather stations**</p>\n",
    "<br/><br/>\n",
    "However, the dataset is not uniformly distributed among those locations. It is thus necessary to draw a heatmap to show the geographical distribution of data:\n",
    "\n",
    "<img src=\"img/stations_heatmap.png\"/>\n",
    "<p style=\"text-align:center\">**Heatmap of weather stations**</p>\n",
    "<br/><br/>\n",
    "We can now tell from the heatmap that our data are mainly from **the west coastline of Florida**. "
   ]
  },
  {
   "cell_type": "markdown",
   "metadata": {},
   "source": [
    "### Temperature\n",
    "\n",
    "\n",
    "\n",
    "To illustrate the temperature in this area, we compute the mean and standard deviation of the TMIN (min temperature) and TMAX (max temperature). For convenience, I converted the temperature data to Fahrenheit. The result is plotted in the figure below.\n",
    "\n",
    "<img src=\"img/temp.png\" width=\"90%\"/>\n",
    "\n",
    "### Snow\n",
    "\n",
    "We also plot the SNOW (snow fall) and SNWD (snow width) in this area. \n",
    "\n",
    "<img src=\"img/snow.png\" width=\"70%\"/>\n",
    "\n",
    "From this figure we can see that it is very rare for snow to fall in this area. (Hard to image any snow on the beautiful Miami beach!)\n",
    "\n",
    "### Precipitation\n",
    "\n",
    "The below figure shows the overview of the precipitation in this area.\n",
    "\n",
    "<img src=\"img/prcp.png\" width=\"35%\"/>\n",
    "\n",
    "We can see that the highest rainfall amounts occur during the summer months in this area, which accords with our common sense.\n",
    "\n"
   ]
  },
  {
   "cell_type": "markdown",
   "metadata": {},
   "source": [
    "### Sanity Check\n",
    "As a sanity check, we compare our image with the image provided by [usclimatedata](http://www.usclimatedata.com/)\n",
    "\n",
    "<img src=\"img/sanity.png\" width=\"40%\"/>\n",
    "\n",
    "After comparing the curve, the max value and min value of the temperature, we can see that our data accords with the US-Climate-Data. For example, both our data and US-Climate data show that the temperature varies from 70 F to 90 F in July."
   ]
  },
  {
   "cell_type": "markdown",
   "metadata": {
    "collapsed": true
   },
   "source": [
    "## PCA analysis\n",
    "\n",
    "For each of the six measurement, we compute the percentate of the variance explained as a function of the number of eigen-vectors used.\n",
    "\n",
    "### Percentage of variance explained.\n",
    "![VarExplained1.png](img/expain1.png)\n",
    "\n",
    "We see that the top 5 eigen-vectors explain 36% of variance for TMIN, 51% for TOBS and 24% for TMAX.\n",
    "\n",
    "We conclude that of the three, TOBS is best explained by the top 5 eigenvectors. This is especially true for the first eigen-vector which, by itself, explains 41% of the variance.\n",
    "\n",
    "![VarExplained2.png](img/explain2.png)\n",
    "\n",
    "The top 5 eigenvectors explain 100% of the variance for SNOW and 100% for SNWD. This is because the number of eigenvalues/eigenvectors of SNOW and SNWD are both less than 5. Looking back to 1.1.3, we can tell that the data are very sparse. Most SNOW and SNWD data are zeroes (Florida doesn't snow!). Therefore the variance of the data is nearly stable and we don't need much to explain the snow data variance.\n",
    "\n",
    "However, on the other hand, the top 5 eigenvectors cannot explain much for PRCP. Again, we look back to the figure in 1.1.4 and we'll find that curve of the PRCP data is so unstable. It varies abnormally during the time period. Thus we need far more data to explain the variance and 5 is absolutely not a good choice.  \n"
   ]
  },
  {
   "cell_type": "markdown",
   "metadata": {},
   "source": [
    "## Analysis of temperature for each day\n",
    "\n",
    "Though in section 1.2 we found that the first 5 eigen-vectors can explain the whole variance of data, we'll not make any analysis on them because their data are too sparse as discussed before. Besides, analyzing the snow in an area which rarely snows is just a waste of time. Instead, our analysis will focus on TOBS (the average temperature for each day) since the first 5 eigen-vectors of it explains 51% of the variance.\n",
    "\n",
    "We first extend the number of eigen-vectors to 20 and find that the amount of variance explained increases to 70%, which is a proper number to analyze:\n",
    "\n",
    "<img src=\"img/tobs_explain.png\" width=\"30%\"/>\n",
    "\n",
    "We observe that the temperature varies a lot from winter to spring (Novermber to March), but it remains steady in summer and autumn (April to October).\n",
    "<img src=\"img/tobs_mean_vec.png\" width=\"50%\"/>"
   ]
  },
  {
   "cell_type": "markdown",
   "metadata": {},
   "source": [
    "Next we interpret the eigen-functions. We observe that the curve of eig1 is flat and smooth while those of eig2 and eig3 oscillate a lot. This is because the temperature pattern in an area won't change much over time. Back to the figure of percentage of variance explained, we can see that the first eigenvector can explain about 40% of the variance! By Adding eig2 and eig3, we just reach 50%, which is just a minor increase. So in TOBS, eig1 dominates the others in the explanation of variance, and it infers that the temperature pattern in Florida is relatively steady.\n",
    "\n",
    "However, the curves of eig2 and eig3 also provide us with some information. They can be interpreted as follows:\n",
    "\n",
    "* **eig2:** colder in Dec-Jan, Mar-Apr\n",
    "* **eig3:** hotter in Feb-Mar, coler in Dec-Jan\n",
    "\n"
   ]
  },
  {
   "cell_type": "markdown",
   "metadata": {},
   "source": [
    "### Examples of reconstructions\n",
    "\n",
    "#### Coeff1\n",
    "Coeff1: most positive\n",
    "<img src=\"img/recon1.png\" width=\"80%\"/>\n",
    "Coeff1: most negative\n",
    "<img src=\"img/recon2.png\" width=\"80%\"/>\n",
    "Large positive values of coeff1 correspond to more than average temperature. Low values correspond to less than average temperature.\n",
    "\n",
    "#### Coeff2\n",
    "Coeff2: most positive\n",
    "<img src=\"img/recon3.png\" width=\"80%\"/>\n",
    "Coeff2: most negative\n",
    "<img src=\"img/recon4.png\" width=\"80%\"/>\n",
    "#### Coeff3\n",
    "Coeff3: most positive\n",
    "<img src=\"img/recon5.png\" width=\"80%\"/>\n",
    "Coeff3: most negative\n",
    "<img src=\"img/recon6.png\" width=\"80%\"/>\n",
    "\n",
    "\n"
   ]
  },
  {
   "cell_type": "markdown",
   "metadata": {},
   "source": [
    "## Temperature Variance: Spatial or Temporal\n",
    "We now estimate the relative importance of location-to-location variation relative to year-by-year variation.\n",
    "\n",
    "These are measured using the fraction by which the variance is reduced when we subtract from each station/year entry the average-per-year or the average-per-station respectively. Here are the results:\n",
    "\n",
    "** coeff_1 **  \n",
    "\n",
    "\n",
    "\n",
    "total RMS: 484.718370945\n",
    "\n",
    "Method | RMS Fraction | Explained\n",
    "-------|--|--|\n",
    "removing mean-by-station | 303.4845 | 0.3739 |\n",
    "removing mean-by-year | 440.7492 | 0.0907\n",
    "\n",
    "** coeff_2 ** \n",
    "\n",
    "total RMS: 185.261958184\n",
    "\n",
    "Method | RMS Fraction | Explained\n",
    "-------|--|--|\n",
    "removing mean-by-station | 171.6805|0.0733\n",
    "removing mean-by-year |143.6732|0.2245\n",
    "\n",
    "** coeff_3 **  \n",
    "\n",
    "total RMS: 165.57347132\n",
    "\n",
    "Method | RMS Fraction | Explained\n",
    "-------|--|--|\n",
    "removing mean-by-station | 159.9520|0.0340\n",
    "removing mean-by-year |106.6905|0.3556\n",
    "\n",
    "** coeff_4 **  \n",
    "\n",
    "total RMS: 144.22492196\n",
    "\n",
    "Method | RMS Fraction | Explained\n",
    "-------|--|--|\n",
    "removing mean-by-station | 139.5697|0.0323\n",
    "removing mean-by-year |85.4703|0.4074\n",
    "\n",
    "\n",
    "We see that in coeff_2,3,4 the variation by year explains more than the variation by year. We see that for coeff_2,3,4 the stations explain 3-7% of the variance while the year explaines 22-40%. However this effect is weak consider coeff_1. In coeff_1, the variation by station explains nealy 37% while the variation by year expalins only 9%. \n",
    "\n",
    "It's not hard to explain it: since coeff_1 correspond to the temperature itself, it would vary among different locations in our common sense. On the other hand, coeff_2,3,4 describes the timing of the temperature, and is thus likely to vary upon different time periods.\n"
   ]
  },
  {
   "cell_type": "code",
   "execution_count": null,
   "metadata": {
    "collapsed": true
   },
   "outputs": [],
   "source": []
  }
 ],
 "metadata": {
  "kernelspec": {
   "display_name": "Python 2",
   "language": "python",
   "name": "python2"
  },
  "language_info": {
   "codemirror_mode": {
    "name": "ipython",
    "version": 2
   },
   "file_extension": ".py",
   "mimetype": "text/x-python",
   "name": "python",
   "nbconvert_exporter": "python",
   "pygments_lexer": "ipython2",
   "version": "2.7.13"
  },
  "toc": {
   "colors": {
    "hover_highlight": "#DAA520",
    "running_highlight": "#FF0000",
    "selected_highlight": "#FFD700"
   },
   "moveMenuLeft": true,
   "nav_menu": {
    "height": "12px",
    "width": "252px"
   },
   "navigate_menu": true,
   "number_sections": true,
   "sideBar": true,
   "threshold": 4,
   "toc_cell": false,
   "toc_section_display": "block",
   "toc_window_display": false,
   "widenNotebook": false
  }
 },
 "nbformat": 4,
 "nbformat_minor": 2
}
