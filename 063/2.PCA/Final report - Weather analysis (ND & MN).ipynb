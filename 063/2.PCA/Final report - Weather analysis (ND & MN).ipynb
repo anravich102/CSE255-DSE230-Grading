{
 "cells": [
  {
   "cell_type": "markdown",
   "metadata": {},
   "source": [
    "# Weather Analysis (ND & MN)\n",
    "\n",
    "This is a report on the historical analysis of weather patterns in an area that extends over North Dakota and Minnesota, around the cities of Fargo and West Fargo.\n",
    "\n",
    "The data we will use here comes from [NOAA](https://www.ncdc.noaa.gov/). Specifically, it was downloaded from This [FTP site](ftp://ftp.ncdc.noaa.gov/pub/data/ghcn/daily/).\n",
    "\n",
    "We focused on six measurements:\n",
    "* **TMIN, TMAX:** the daily minimum and maximum temperature.\n",
    "* **TOBS:** The average temperature for each day.\n",
    "* **PRCP:** Daily Percipitation (in mm)\n",
    "* **SNOW:** Daily snowfall (in mm)\n",
    "* **SNWD:** The depth of accumulated snow.\n",
    "\n",
    "## Sanity-check: comparison with outside sources\n",
    "\n",
    "<p>We start by comparing some of the general statistics with graphs that we obtained from <a href=\"http://usclimatedata.com/climate/fargo/north-dakota/united-states/usnd0115\" target=\"_blank\">US Climate Data</a> The graph below shows the daily minimum and maximum temperatures for each month, as well as the total precipitation for each month for the city of Fargo, an approximate geographical central location for the given region. </p>\n",
    "\n",
    "<p>&nbsp;</p>\n",
    "\n",
    "<p><img width=\"400px\" src=\"Figures/Fargo_US_Climate_Data.PNG\" /></p>\n",
    "\n",
    "<p>We see that the MIN and MAX temperatures are almost on the lines of what we see in our data, once we convert Fahrenheit to Centigrade. To compare the precipitation, we convert millimeter/day to inches/month. From the data, we see that the average rainfall peaks to around 3 mm / day during June / July which translates to about 3.55 inches / per month. According to US-Climate-Data the average rainfall during June is closer to 3.8 inches per month. Also, we see that the trend remains the same -- low rainfall during early months and then peaks during mid-year and then low again towards end of the year.</p>\n",
    "\n",
    "<p>&nbsp;</p>\n",
    "\n",
    "<p><img src=\"Figures/Sanity-check-tmin-tmax-prcp.PNG\" /></p>"
   ]
  },
  {
   "cell_type": "markdown",
   "metadata": {},
   "source": [
    "## PCA analysis\n",
    "\n",
    "For each of the six measurement, we compute the percentate of the variance explained as a function of the number of eigen-vectors used.\n",
    "\n",
    "### Percentage of variance explained\n",
    "![Percent-variance-1](Figures/Percent-variance-1.PNG)\n",
    "We see that the top 5 eigen-vectors explain ~16% of variance for TMIN, ~30% for TOBS and ~18% for TMAX.\n",
    "\n",
    "We conclude that of the three, TOBS is best explained by the top 5 eigenvectors. This is especially true for the first eigen-vector which, by itself, explains ~21% of the variance.\n",
    "\n",
    "![Percent-variance-2](Figures/Percent-variance-2.PNG)\n",
    "The top 5 eigenvectors explain ~8% of the variance for PRCP and ~12% for SNOW. Both are low values. On the other hand the top 5 eigenvectors explain ~85% of the variance for SNWD. This means that these top 5 eigenvectors capture most of the variation in the snow depth signals. Based on that we will dig deeper into the PCA analysis for snow-depth."
   ]
  },
  {
   "cell_type": "markdown",
   "metadata": {
    "collapsed": true
   },
   "source": [
    "## Analysis of snow depth\n",
    "\n",
    "We choose to analyze the eigen-decomposition for snow-depth because the first 3 eigen-vectors explain ~80% of the variance.\n",
    "\n",
    "First, we graph the mean and the top 3 eigen-vectors.\n",
    "\n",
    "We observe that the snow season is from early November to the end of April, and early February marks the peak of the snow-depth.\n",
    "<img src=\"Figures/SNWD-mean-eigen.PNG\" width=\"600px\" />"
   ]
  },
  {
   "cell_type": "markdown",
   "metadata": {},
   "source": [
    "Next we interpret the eigen-functions. The first eigen-function (** eig1 **) has a shape very similar to the mean function. The main difference is that the eigen-function is close to zero during November-December while the mean is not.  The interpretation of this shape is that eig1 represents the overall amount of snow above/below the mean, but without changing the distribution over time.\n",
    "\n",
    "**eig2 and eig3** are similar in the following way. They all oscilate between positive and negative values. In other words, they correspond to changing the distribution of the snow depth over the winter months, but they don't change the total (much).\n",
    "\n",
    "They can be interpreted as follows:\n",
    "* **eig2:** less snow in Jan-mid Feb, slighlty more snow in mid Feb-March, less snow in mid November-December\n",
    "* **eig3:** less snow in Jan-mid Feb, more snow in mid Feb-March, more snow in mid November-December"
   ]
  },
  {
   "cell_type": "markdown",
   "metadata": {},
   "source": [
    "### CDFs of coefficients\n",
    "<img src=\"Figures/CDF-coeff-1.PNG\" width=\"300px\" align=\"left\"/>\n",
    "<img src=\"Figures/CDF-coeff-2.PNG\" width=\"300px\" align=\"left\"/>\n",
    "<img src=\"Figures/CDF-coeff-3.PNG\" width=\"300px\" align=\"left\"/>  \n",
    "\n",
    "<br><br><br><br><br><br><br><br><br><br><br><br>\n",
    "<p>From these CDFs, we see that most of coeff_1s are positive, most of the coeff_2s are negative and coeff_3s are equally spread out.</p>"
   ]
  },
  {
   "cell_type": "markdown",
   "metadata": {},
   "source": [
    "### Reconstruction using the 3 eigen vectors\n",
    "#### coeff_1\n",
    "Most +ve\n",
    "![Coeff-1-max](Figures/Coeff-1-max.PNG)\n",
    "Most -ve\n",
    "![Coeff-1-min](Figures/Coeff-1-min.PNG)\n",
    "#### coeff_2\n",
    "Most +ve\n",
    "![Coeff-2-max](Figures/Coeff-2-max.PNG)\n",
    "Most -ve\n",
    "![Coeff-2-min](Figures/Coeff-2-min.PNG)\n",
    "#### coeff_3\n",
    "Most +ve\n",
    "![Coeff-3-max](Figures/Coeff-3-max.PNG)\n",
    "Most -ve\n",
    "![Coeff-3-min](Figures/Coeff-3-min.PNG)"
   ]
  },
  {
   "cell_type": "markdown",
   "metadata": {},
   "source": [
    "### Spatial versus temporal\n",
    "We now estimate the relative importance of location-to-location variation relative to year-by-year variation. These are measured using the fraction by which the variance is reduced when we subtract from each station/year entry the average-per-year or the average-per-station respectively. Here are the results:\n",
    "\n",
    "#### coeff_1\n",
    "total RMS                   = 1396.07  \n",
    "RMS removing mean-by-station= 1223.86, fraction explained = 12.33  \n",
    "RMS removing mean-by-year   = 887.50, fraction explained = 36.43  \n",
    "\n",
    "#### coeff_2 \n",
    "total RMS                   = 631.96  \n",
    "RMS removing mean-by-station= 617.81, fraction explained = 2.24  \n",
    "RMS removing mean-by-year   = 329.96, fraction explained = 47.79  \n",
    "\n",
    "#### coeff_3 \n",
    "total RMS                   = 588.82  \n",
    "RMS removing mean-by-station= 566.24, fraction explained = 3.83  \n",
    "RMS removing mean-by-year   = 408.00, fraction explained = 30.71  \n",
    "\n",
    "We see that the variation by year explains more than the variation by station. However this effect is weaker consider coeff_1, which has to do with the total snowfall, vs. coeff_2,3 which, as we saw above have to do with the timining of snowfall. We see that for coeff_2,3 the stations explain 3-12% of the variance while the year explaines 30-45%."
   ]
  },
  {
   "cell_type": "markdown",
   "metadata": {},
   "source": [
    "## Analysis of precipitation"
   ]
  },
  {
   "cell_type": "markdown",
   "metadata": {},
   "source": [
    "The following shows the mean and the top 3 eigen vectors for PRCP.  \n",
    "We observe a higher amount of rainfall during mid-year, June / July, when compared to that of other times of the year. The rainfall is low during the early year and increases over the mid-year and then decreases again at the end of the year.\n",
    "<img src=\"Figures/PRCP-mean-eigen.PNG\" width=\"600px\" />\n",
    "As we observe in the 'Percentage of variance explained' section, top 3 eigen vectors explain only 5% of the variance."
   ]
  },
  {
   "cell_type": "markdown",
   "metadata": {},
   "source": [
    "### CDF of rainfall\n",
    "<img src=\"Figures/CDF-rainfall.PNG\" width=\"400px\" />\n",
    "If we observe the CDF of the precipitation, we see that it rains on about 20% of the total days. It is likely to be hard to find correlations between the amount of rain on the same day in different stations. Because amounts of rain vary a lot between even close locations. It is more reasonable to try to compare whether or not it rained on the same day in different stations."
   ]
  },
  {
   "cell_type": "markdown",
   "metadata": {},
   "source": [
    "### Measuring statistical significance\n",
    "We want to find a statistical test for rejecting the null hypothesis that says that the rainfall in the two locations is independent.Using the inner product is too noisy, because you multiply the rainfall on the same day in two locations and that product can be very large - leading to a large variance and poor ability to discriminate.  \n",
    "An alternative is to ignore the amount of rain, and just ask whether it rained in both locations. We can then compute the probability associated with the number of overlaps under the null hypothesis.  \n",
    "The figure below represents the distribution of negative log probability between each pair of stations.\n",
    "<img src=\"Figures/P-norm-dist.PNG\" width=\"400px\" />"
   ]
  },
  {
   "cell_type": "markdown",
   "metadata": {},
   "source": [
    "### P-value: Correlation between stations\n",
    "This matrix shows the correlation between each pair of stations. We see that the first 10 stations are highly correlated.\n",
    "<img src=\"Figures/P-norm.PNG\" width=\"400px\" />\n",
    "\n",
    "We see that the top 10 eigenvectors explain about 80% of the square magnitude of the matrix, while the top 4 explain 60%.\n",
    "<img src=\"Figures/dependency-matrix-variance.PNG\" width=\"400px\" />\n",
    "\n",
    "When we reorder the rows and columns of the matrix using one of the eigenvectors, the grouping of the stations becomes more evident. For example, consider the first matrix -- the stations at positions 0-10 are highly correlated, 10-30 are somewhat correlated with each other except for some entries.\n",
    "\n",
    "<img src=\"Figures/reorder.PNG\" />"
   ]
  },
  {
   "cell_type": "markdown",
   "metadata": {},
   "source": [
    "### Visualisation: Correlation among locations\n",
    "Stations with similar coefficients are represented -- basically, precipitation in those stations is correlated. For instance, the stations with green solid triangle are highly likely to experience rainfall at the same time.  \n",
    "\n",
    "<img src=\"Figures/Correl-leaflet-1.PNG\" width=\"600px\" />\n",
    "<img src=\"Figures/Correl-leaflet-2.PNG\" width=\"600px\" />"
   ]
  },
  {
   "cell_type": "code",
   "execution_count": null,
   "metadata": {
    "collapsed": true
   },
   "outputs": [],
   "source": []
  }
 ],
 "metadata": {
  "kernelspec": {
   "display_name": "Python 2",
   "language": "python",
   "name": "python2"
  },
  "language_info": {
   "codemirror_mode": {
    "name": "ipython",
    "version": 2
   },
   "file_extension": ".py",
   "mimetype": "text/x-python",
   "name": "python",
   "nbconvert_exporter": "python",
   "pygments_lexer": "ipython2",
   "version": "2.7.13"
  }
 },
 "nbformat": 4,
 "nbformat_minor": 2
}
