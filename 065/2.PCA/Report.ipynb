{
 "cells": [
  {
   "cell_type": "markdown",
   "metadata": {},
   "source": [
    "# Cedar City, UT Weather Analysis\n",
    "\n",
    "This is a report on the historical analysis of weather patterns in an area that approximately overlaps the area of the Cedar City, Utah.\n",
    "\n",
    "The data we will use here comes from [NOAA](https://www.ncdc.noaa.gov/). \n",
    "\n",
    "We mainly focused on six measurements:\n",
    "* **TMIN, TMAX:** the daily minimum and maximum temperature.\n",
    "* **TOBS:** The average temperature for each day.\n",
    "* **PRCP:** Daily Percipitation (in mm)\n",
    "* **SNOW:** Daily snowfall (in mm)\n",
    "* **SNWD:** The depth of accumulated snow."
   ]
  },
  {
   "cell_type": "markdown",
   "metadata": {},
   "source": [
    "## 1. Sanity-check: comparison with outside sources\n",
    "\n",
    "<p>We start by comparing some of the general statistics with graphs that we obtained from a site called <a href=\"http://www.usclimatedata.com/climate/boston/massachusetts/united-states/usma0046\" target=\"_blank\">US Climate Data</a>.\n",
    "\n",
    "The graph below shows the daily minimum and maximum temperatures for each month, as well as the total precipitation for each month.</p>\n",
    "\n",
    "<p><img alt=\"Cedar City Climate Graph.png\" src=\"myFigures/Cedar City Climate Graph.png\" style=\"height:450px; width:600px\"/></p>\n",
    "\n",
    "<p>&nbsp;</p>\n",
    "\n",
    "<p>We see that the min and max daily&nbsp;temperature agree with the ones we got from our data, once we translate Fahrenheit to Centigrade.</p>\n",
    "\n",
    "<p>&nbsp;</p>\n",
    "\n",
    "<p><img alt=\"TMIN,TMAX.png\" src=\"myFigures/TMIN,TMAX.png\" style=\"height:300px; width:800px\" /></p>\n",
    "\n",
    "<p>To compare the precipitation&nbsp;we need to translate millimeter/day to millimeter/month. \n",
    "\n",
    "According to our analysis, the average rainfall is approximately 1.00 mm/day which translates to about 30 mm&nbsp;per month. According to US-Climate-Data the average rainfall is closer to 25 mm per month. However, there is clear agreement that average precipitation&nbsp;is close to a constant throughout the year.</p>\n",
    "\n",
    "<p>&nbsp;<img alt=\"PRCP.png\" src=\"myFigures/PRCP.png\" style=\"height:450px; width:600px\" /></p>"
   ]
  },
  {
   "cell_type": "markdown",
   "metadata": {
    "collapsed": true
   },
   "source": [
    "## 2. PCA analysis\n",
    "\n",
    "For each of the six measurements, we compute the percentage of the variance explained as a function of the number of eigen-vectors used.\n",
    "\n",
    "### 2.1 Percentage of variance explained\n",
    "![VarExplained1.png](myFigures/VarExplained1.png)\n",
    "\n",
    "![VarExplained2.png](myFigures/VarExplained2.png)\n",
    "\n",
    "\n",
    "measurement | top 5 eigen-vector variances explained | first eigen-vector variance explained\n",
    ":--: | :--: | :--:\n",
    "TMIN | 48% | 40%\n",
    "TBOS | 62% | 55%\n",
    "TMAX | 51% | 40%\n",
    "SNOW | 13% | 5%\n",
    "SNWD | 90% | 70%\n",
    "PRCP | 10% | 3%\n",
    "\n",
    "We see that SNWD is best explained by its top 5 eigen-vectors. The first 5 eigen-vectors almost explain all the useful daily-snowfall information in Cedar City. It is especially true for the first eigen-vector which, by itself, explains approximately 70% of the variance.\n",
    "\n",
    "The following 3 measurements with similar variance explaining performance are TBOS, TMAX and TMIN. Their percentages of variance explained are 62%, 51% and 48%, and the corresponding first eigen-vector variance explained are 55%, 40% and 40%. For these 3 temperature measurements, the top 5 eigen-vectors explain about half of the total variance, and their first eigen-vector basically explains over 80% variance of that the top 5 eigen-vectors explained.\n",
    "\n",
    "Measurements with the worst performance are SNOW and PRCP, which only explain about 10% variance. That is to say the top 5 eigen-vectors do not contain much useful information. In other words, these two measurements have much more noises than that of other measurements."
   ]
  },
  {
   "cell_type": "markdown",
   "metadata": {},
   "source": [
    "## 3. Analysis of snow depth\n",
    "\n",
    "Based on the PCA analysis above, we choose to analyze the eigen-decomposition for snow-depth because even the first 4 eigen-vectors explain 85% of the variance. In other words, first 4 eigen-vectors for SNWD make sense."
   ]
  },
  {
   "cell_type": "markdown",
   "metadata": {},
   "source": [
    "### 3.1 Eigenvector Interpretation\n",
    "\n",
    "First, we graph the mean and the top 4 eigen-vectors.\n",
    "\n",
    "We observe that the snow season is from November to the end of April, where the beginning of February marks the peak of the snow-depth.\n",
    "\n",
    "<p><img alt=\"SNWD_mean_eigs.png\" src=\"myFigures/SNWD_mean_eigs.png\" style=\"height:450px; width:800px\" /></p>"
   ]
  },
  {
   "cell_type": "markdown",
   "metadata": {},
   "source": [
    "Next we interpret the eigen-functions. \n",
    "According to analysis above, the first eigen vector explains over 70% variance and the corresponding first eigen-function (eig1) has a shape very similar to the mean function just in the opposite direction. The interpretation of this shape is that eig1 represents the overall amount of snow below the mean.\n",
    "\n",
    "eig2, eig3 and eig4 are similar in the following way. They all oscillate between positive and negative values. In other words, they correspond to changing the distribution of the snow depth over the winter months, but they don't change the total (much).\n",
    "\n",
    "They can be interpreted as follows:\n",
    "\n",
    "* **eig2:** more snow in Jan - Mar, less snow in Mar - mid Jun and Nov - Jan.\n",
    "* **eig3:** more snow in Nov - Feb, less snow in Mar - May.\n",
    "* **eig4:** more snow in Jan - Feb, Apr -Jun, less snow in Feb - mid Mar, Dec - Jan."
   ]
  },
  {
   "cell_type": "markdown",
   "metadata": {},
   "source": [
    "### 3.2 Reconstructions and Distribution of first 3 coefficients\n",
    "\n",
    "#### 3.2.1 Coeff1\n",
    "Coeff1: most positive\n",
    "![SNWD_grid_Pos_coeff1.png](myFigures/SNWD_grid_Pos_coeff1.png)\n",
    "\n",
    "Coeff1: most negative\n",
    "![SNWD_grid_neg_coeff1.png](myFigures/SNWD_grid_neg_coeff1.png)\n",
    "\n",
    "Large positive values of coeff1 correspond to less than average snow. \n",
    "Low values correspond to more than average snow.\n",
    "<p><img alt=\"SNWD_grid_dist_coeff1.png\" src=\"myFigures/SNWD_grid_dist_coeff1.png\" style=\"height:300px; width:400px\" /></p>\n",
    "\n",
    "#### 3.2.2 Coeff2\n",
    "Coeff2: most positive\n",
    "![SNWD_grid_Pos_coeff2.png](myFigures/SNWD_grid_Pos_coeff2.png)\n",
    "\n",
    "Coeff2: most negative\n",
    "![SNWD_grid_neg_coeff2.png](myFigures/SNWD_grid_neg_coeff2.png)\n",
    "\n",
    "Large positive values of coeff2 correspond to an early snow season (most of the snowfall is before Feb). \n",
    "Negative values for coeff2 correspond to an late snow season (most of the snow is after Apr).\n",
    "<p><img alt=\"SNWD_grid_dist_coeff2.png\" src=\"myFigures/SNWD_grid_dist_coeff2.png\" style=\"height:300px; width:400px\" /></p>\n",
    "\n",
    "#### 3.2.3 Coeff3\n",
    "\n",
    "Coeff3: most positive\n",
    "![SNWD_grid_Pos_coeff3.png](myFigures/SNWD_grid_Pos_coeff3.png)\n",
    "\n",
    "Coeff3: most negative\n",
    "![SNWD_grid_neg_coeff3.png](myFigures/SNWD_grid_neg_coeff3.png)\n",
    "\n",
    "Large positive values of coeff3 correspond to several small peaks which indicate a long duration of heavy snow.\n",
    "Large negative values of coeff3 correspond to a late peak (most of the snow is after beginning of Mat),which indicates a late snow season.\n",
    "<p><img alt=\"SNWD_grid_dist_coeff3.png\" src=\"myFigures/SNWD_grid_dist_coeff3.png\" style=\"height:300px; width:400px\" /></p>\n",
    "\n",
    "According to the graphs above, we can conclude that distributions of first 3 coefficients are all normal like distributions with zero mean.\n",
    "\n",
    "In specific, distribution of coeff1 has the largest variance, then is coeff2, and coeff3 has the lowest variance among these three coefficients."
   ]
  },
  {
   "cell_type": "markdown",
   "metadata": {
    "collapsed": true
   },
   "source": [
    "### 3.3 Estimating the effect of the year vs the effect of the station\n",
    "\n",
    "According to the analysis above, we can conclude that the measurement of daily snowfall changes from season to season. \n",
    "\n",
    "Next, we are going to estimate whether variation of SNWD is more spatially or temporally influenced.\n",
    "\n",
    "For **spatial** influence, we measure the daily snowfall variation from different stations.\n",
    "\n",
    "For **temperal** influence, we measure the daily snowfall variation from year to year.\n"
   ]
  },
  {
   "cell_type": "markdown",
   "metadata": {},
   "source": [
    "#### 3.3.1 Visualized Distribution of years and stations\n",
    "\n",
    "<p><img alt=\"Cedar City Year Snowfall.png\" src=\"myFigures/Cedar City Year Snowfall.png\" style=\"height:250px; width:600px\" /></p>\n",
    "Figure above shows the annual snowfall of different year records. \n",
    "\n",
    "It is obvious that the annual snowfall has some relations with the variation of year.\n",
    "\n",
    "![Cedar City Station Map.png](myFigures/Cedar City Station Map.png)\n",
    "Figure above shows the distribution of observation stations on a map. \n",
    "\n",
    "From the map, we can see that stations are distributed spatial dispersedly. Besides, topography varies from station to station, and different elevations for different stations can also significantly influence the snowfall.\n"
   ]
  },
  {
   "cell_type": "markdown",
   "metadata": {},
   "source": [
    "#### 3.3.2 Statistical Analysis \n",
    "\n",
    "Since the first 4 eigen-vectors of SNWD contains more than 85% information, here we choose these 4 coeffs to represent SNWD.\n",
    "\n",
    "Then we build tables with year as row label, station as column label and coeff as item in the table.\n",
    "\n",
    "Next, we calculate the mean square of the table as an initial base.\n",
    "\n",
    "We then compute the MS before and after subtracting either the row average (station mean) or the column average (year mean)."
   ]
  },
  {
   "cell_type": "markdown",
   "metadata": {},
   "source": [
    "Situations| MS | Fraction explained\n",
    ":--: | :--: | :--:\n",
    "coeff_1 Initial | 9109409.61 | \n",
    "coeff_1 Removing mean by station | 2063631.97 | 77.3%\n",
    "coeff_1 Removing mean by year | 6202867.92 | 31.9%\n",
    "coeff_2 Initial | 1213821.00 | \n",
    "coeff_2 Removing mean by station | 720944.12 | 40.6%\n",
    "coeff_2 Removing mean by year | 679848.79 | 44.0%\n",
    "coeff_3 Initial | 726612.86 | \n",
    "coeff_3 Removing mean by station | 549688.04 | 24.3%\n",
    "coeff_3 Removing mean by year | 437566.47 | 39.8%\n",
    "coeff_4 Initial | 406484.22 | \n",
    "coeff_4 Removing mean by station | 344546.79 | 15.2%\n",
    "coeff_4 Removing mean by year | 242599.54 | 40.3%"
   ]
  },
  {
   "cell_type": "markdown",
   "metadata": {},
   "source": [
    "According to the table above, for coeff_1, we can conclude that locations of observation stations have more effects on snowfall than that of different years. \n",
    "\n",
    "This conclusion is reasonable for coeff_1 because it represents the overall snowfall situations.\n",
    "And station locations contain information about elevation, topography, vegetation etc, which are key influential factors on snowfall. \n",
    "On the contrary, the annual snowfall among stations are not likely to vary a lot in different year.\n",
    "\n",
    "For coeff_2,3,4, the effects are weaken, which means variation of year-by-year explains more than variation of station-to-station. And this is possibly because that coeff_2,3,4 do more about timing factors on snowfall instead of location factors."
   ]
  },
  {
   "cell_type": "markdown",
   "metadata": {},
   "source": [
    "### 3.4 Analyzing Residuals to find out relations between stations\n",
    "\n",
    "From 3.3, we found that the spatial factors like observation stations have some kind of impacts on the snowfall.\n",
    "\n",
    "In this section, we are going to analyze the relationship between different stations.\n",
    "\n",
    "Instead of finding correlations between the amount of snow on the same day in different stations, we choose to compare whether or not it snowed on the same day in different stations. "
   ]
  },
  {
   "cell_type": "markdown",
   "metadata": {},
   "source": [
    "#### 3.4.1 Statistical Analysis \n",
    "**Null Hypothesis**: the snowfall in two stations is independent.\n",
    "\n",
    "**Alternative Hypothesis**: the snowfall in two stations is not independent.\n",
    "\n",
    "To test the null hypothesis, we compute the probability associated with the number of overlaps under the null hypothesis.\n",
    "\n",
    "We first calculate the probability that the number of overlap days (both stations snowed) equals to l which is a random variable.\n",
    "\n",
    "By calculating probability of every two stations, we build a probability matrix.\n"
   ]
  },
  {
   "cell_type": "markdown",
   "metadata": {},
   "source": [
    "<p><img alt=\"Station Corelation.png\" src=\"myFigures/Station Corelation.png\" style=\"height:500px; width:500px\" /></p>\n",
    "\n",
    "Figure above shows the visualization of the probability matrix. \n",
    "\n",
    "From the figure we can find out some boxes with dark color which means the corresponding two stations are strongly correlated, and the boxes with white color indicate that two stations are independent to some degree.\n",
    "\n",
    "<p><img alt=\"Sgnificance.png\" src=\"myFigures/Significance.png\" style=\"height:300px; width:400px\" /></p>\n",
    "\n",
    "At 0.05 significance, for about 11% stations the null hypothesis are not rejected and for the remaining 89% stations, the null hypothesis is rejected. In other words, only a small number of stations are independent in 0.05 significance, and the majority of stations are correlated with each other."
   ]
  },
  {
   "cell_type": "markdown",
   "metadata": {},
   "source": [
    "#### 3.4.2 Group of correlated stations\n",
    "\n",
    "Since we have concluded from the above analysis that the first 4 eigen-vectors of SNWD explain over 85% variance, we can using these 4 vectors to group correlated stations. The following map is topography with 4 coeffs on every station.\n",
    "\n",
    "![Cedar City Station Map2.png](myFigures/Cedar City Station Map2.png)\n",
    "\n",
    "\n",
    "\n",
    "We first utilize PCA to find out the first 4 eigen-vectors, and then using these vectors to calculate the probability matrix of every two stations overlapping snow days.\n",
    "\n",
    "![Group stations 1.png](myFigures/Group stations 1.png)\n",
    "![Group stations 2.png](myFigures/Group stations 2.png)"
   ]
  },
  {
   "cell_type": "markdown",
   "metadata": {},
   "source": [
    "Figure above shows the visualization of the grouped probability matrix. \n",
    "\n",
    "After we reordered the rows and columns using one of the eigen-vectors, we can find some grouping patterns. For example, the bottom right corner of the first matrix. Stations at position 20-38 are clearly strongly correlated with each other. And in the second matrix, there are clearly 9 regions in which the stations are correlated with each other.\n"
   ]
  },
  {
   "cell_type": "code",
   "execution_count": null,
   "metadata": {
    "collapsed": true
   },
   "outputs": [],
   "source": []
  }
 ],
 "metadata": {
  "kernelspec": {
   "display_name": "Python 2",
   "language": "python",
   "name": "python2"
  },
  "language_info": {
   "codemirror_mode": {
    "name": "ipython",
    "version": 2
   },
   "file_extension": ".py",
   "mimetype": "text/x-python",
   "name": "python",
   "nbconvert_exporter": "python",
   "pygments_lexer": "ipython2",
   "version": "2.7.13"
  },
  "toc": {
   "colors": {
    "hover_highlight": "#DAA520",
    "running_highlight": "#FF0000",
    "selected_highlight": "#FFD700"
   },
   "moveMenuLeft": true,
   "nav_menu": {
    "height": "48px",
    "width": "252px"
   },
   "navigate_menu": true,
   "number_sections": true,
   "sideBar": true,
   "threshold": 4,
   "toc_cell": false,
   "toc_section_display": "block",
   "toc_window_display": false,
   "widenNotebook": false
  }
 },
 "nbformat": 4,
 "nbformat_minor": 2
}
