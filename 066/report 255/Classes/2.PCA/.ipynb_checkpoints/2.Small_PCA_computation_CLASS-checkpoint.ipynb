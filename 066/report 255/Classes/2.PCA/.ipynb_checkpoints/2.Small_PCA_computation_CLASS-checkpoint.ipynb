{
 "cells": [
  {
   "cell_type": "markdown",
   "metadata": {
    "deletable": true,
    "editable": true,
    "run_control": {
     "frozen": false,
     "read_only": false
    },
    "slideshow": {
     "slide_type": "slide"
    }
   },
   "source": [
    "## Computing PCA using RDDs"
   ]
  },
  {
   "cell_type": "markdown",
   "metadata": {
    "deletable": true,
    "editable": true,
    "run_control": {
     "frozen": false,
     "read_only": false
    },
    "slideshow": {
     "slide_type": "subslide"
    }
   },
   "source": [
    "##  PCA\n",
    "\n",
    "The vectors that we want to analyze have length, or dimension, of 365, corresponding to the number of \n",
    "days in a year.\n",
    "\n",
    "We will perform [Principle component analysis (PCA)](https://en.wikipedia.org/wiki/Principal_component_analysis)\n",
    "on these vectors. There are two steps to this process:\n",
    "\n",
    "1. Computing the covariance matrix: this is a  simple computation. However, it takes a long time to compute and it benefits from using an RDD because it involves all of the input vectors.\n",
    "2. Computing the eigenvector decomposition. this is a more complex computation, but it takes a fraction of a second because the size to the covariance matrix is $365 \\times 365$, which is quite small. We do it on the head node usin `linalg`"
   ]
  },
  {
   "cell_type": "markdown",
   "metadata": {
    "deletable": true,
    "editable": true,
    "run_control": {
     "frozen": false,
     "read_only": false
    },
    "slideshow": {
     "slide_type": "subslide"
    }
   },
   "source": [
    "### Computing the covariance matrix\n",
    "Suppose that the data vectors are the column vectors denoted $x$ then the covariance matrix is defined to be\n",
    "$$\n",
    "E(x x^T)-E(x)E(x)^T\n",
    "$$\n",
    "\n",
    "Where $x x^T$ is the **outer product** of $x$ with itself.\n",
    "\n",
    "If the data that we have is $x_1,x_2,x_n$ then the estimates we use are:\n",
    "$$\n",
    "\\hat{E}(x x^T) = \\frac{1}{n} \\sum_{i=1}^n x_i x_i^T,\\;\\;\\;\\;\\;\n",
    "\\hat{E}(x) = \\frac{1}{n} \\sum_{i=1}^n x_i\n",
    "$$"
   ]
  },
  {
   "cell_type": "markdown",
   "metadata": {
    "deletable": true,
    "editable": true,
    "run_control": {
     "frozen": false,
     "read_only": false
    },
    "slideshow": {
     "slide_type": "slide"
    }
   },
   "source": [
    "### The effect of  `nan`s in arithmetic operations\n",
    "* We use an RDD of numpy arrays, instead of Dataframes.\n",
    "* Why? Because numpy treats `nan` entries correctly:\n",
    "  * In numpy `5+nan=5` while in dataframes `5+nan=nan`\n",
    "\n",
    "### Performing Cov matrix on vectors with NaNs\n",
    "As it happens, we often get vectors $x$ in which some, but not all, of the entries are `nan`. \n",
    "Suppose that we want to compute the mean of the elements of $x$. If we use `np.mean` we will get the result `nan`. A useful alternative is to use `np.nanmean` which removes the `nan` elements and takes the mean of the rest.\n",
    "\n",
    "import numpy as np\n",
    "X=np.array([1,1,1,2])\n",
    "print 'mean of',X,'=',np.mean(X)\n",
    "print 'nanmean of',X,'=',np.nanmean(X)\n",
    "X=np.array([1,1,np.NaN,2])\n",
    "print 'mean of',X,'=',np.mean(X)\n",
    "print 'nanmean of',X,'=',np.nanmean(X)\n",
    "\n",
    "#### When should you not use `np.nanmean` ?\n",
    "Using `n.nanmean` is equivalent to assuming that choice of which elements to remove is independent of the values of the elements. \n",
    "* Example of bad case: suppose the larger elements have a higher probability of being `nan`. In that case `np.nanmean` will under-estimate the mean\n",
    "\n",
    "#### Computing the covariance  when there are `nan`s\n",
    "The covariance is a mean of outer products.\n",
    "\n",
    "If the data that we have is $x_1,x_2,x_n$ then the estimates we use are:\n",
    "$$\n",
    "\\hat{E}(x x^T) = \\frac{1}{n} \\sum_{i=1}^n x_i x_i^T,\\;\\;\\;\\;\\;\n",
    "\\hat{E}(x) = \\frac{1}{n} \\sum_{i=1}^n x_i\n",
    "$$\n",
    "\n",
    "x1=np.array([1,np.NaN,3,4,5])\n",
    "x2=np.array([2,3,4,np.NaN,6])\n",
    "stacked=np.array([np.outer(x1,x1),np.outer(x2,x2)])\n",
    "stacked\n",
    "\n",
    "np.nanmean(stacked,axis=0)"
   ]
  },
  {
   "cell_type": "code",
   "execution_count": 1,
   "metadata": {
    "collapsed": false,
    "deletable": true,
    "editable": true,
    "run_control": {
     "frozen": false,
     "read_only": false
    },
    "slideshow": {
     "slide_type": "skip"
    }
   },
   "outputs": [],
   "source": [
    "import findspark\n",
    "findspark.init()\n",
    "from pyspark import SparkContext\n",
    "\n",
    "#sc.stop()\n",
    "sc = SparkContext(master=\"local[3]\",pyFiles=['lib/numpy_pack.py','lib/spark_PCA.py','lib/computeStats.py'])\n",
    "\n",
    "from pyspark.sql import *\n",
    "sqlContext = SQLContext(sc)"
   ]
  },
  {
   "cell_type": "code",
   "execution_count": 2,
   "metadata": {
    "collapsed": false,
    "deletable": true,
    "editable": true,
    "run_control": {
     "frozen": false,
     "read_only": false
    },
    "slideshow": {
     "slide_type": "skip"
    }
   },
   "outputs": [],
   "source": [
    "import sys\n",
    "sys.path.append('./lib')\n",
    "\n",
    "import numpy as np\n",
    "from numpy_pack import packArray,unpackArray\n",
    "from spark_PCA import computeCov\n",
    "from computeStats import computeOverAllDist, STAT_Descriptions"
   ]
  },
  {
   "cell_type": "markdown",
   "metadata": {
    "deletable": true,
    "editable": true,
    "run_control": {
     "frozen": false,
     "read_only": false
    },
    "slideshow": {
     "slide_type": "slide"
    }
   },
   "source": [
    "### Climate data\n",
    "\n",
    "The data we will use here comes from [NOAA](https://www.ncdc.noaa.gov/). Specifically, it was downloaded from This [FTP site](ftp://ftp.ncdc.noaa.gov/pub/data/ghcn/daily/).\n",
    "\n",
    "There is a large variety of measurements from all over the world, from 1870 will 2012.\n",
    "in the directory `../../Data/Weather` you will find the following useful files:\n",
    "\n",
    "* data-source.txt: the source of the data\n",
    "* ghcnd-readme.txt: A description of the content and format of the data\n",
    "* ghcnd-stations.txt: A table describing the Meteorological stations.\n",
    "\n"
   ]
  },
  {
   "cell_type": "markdown",
   "metadata": {
    "deletable": true,
    "editable": true,
    "run_control": {
     "frozen": false,
     "read_only": false
    },
    "slideshow": {
     "slide_type": "subslide"
    }
   },
   "source": [
    "### Data cleaning\n",
    "\n",
    "* Most measurements exists only for a tiny fraction of the stations and years. We therefor restrict our use to the following measurements:\n",
    "```python\n",
    "['TMAX', 'SNOW', 'SNWD', 'TMIN', 'PRCP', 'TOBS']\n",
    "```\n",
    "\n",
    "* 8 We consider only measurement-years that have at most 50 `NaN` entries\n",
    "\n",
    "* We consider only measurements in the continential USA\n",
    "\n",
    "* We partition the stations into 256 geographical rectangles, indexed from BBBBBBBB to SSSSSSSS. And each containing about 12,000 station,year pairs."
   ]
  },
  {
   "cell_type": "code",
   "execution_count": 3,
   "metadata": {
    "collapsed": false,
    "deletable": true,
    "editable": true,
    "run_control": {
     "frozen": false,
     "read_only": false
    },
    "scrolled": false,
    "slideshow": {
     "slide_type": "subslide"
    }
   },
   "outputs": [
    {
     "name": "stdout",
     "output_type": "stream",
     "text": [
      "curl https://mas-dse-open.s3.amazonaws.com/Weather/small/US_Weather_BSBSSSSS.csv.gz > ../../Data/Weather/US_Weather_BSBSSSSS.csv.gz\n",
      "  % Total    % Received % Xferd  Average Speed   Time    Time     Time  Current\n",
      "                                 Dload  Upload   Total   Spent    Left  Speed\n",
      "100 2979k  100 2979k    0     0  1219k      0  0:00:02  0:00:02 --:--:-- 1453k\n",
      "-rw-r--r--  1 Clarissa  staff   2.9M May 15 17:07 ../../Data/Weather/US_Weather_BSBSSSSS.csv.gz\n"
     ]
    }
   ],
   "source": [
    "#file_index='BBBSBBBB'\n",
    "#file_index='SSSSBBBB'\n",
    "file_index='BSBSSSSS'\n",
    "data_dir='../../Data/Weather'\n",
    "\n",
    "filebase='US_Weather_%s'%file_index\n",
    "!rm -rf $data_dir/$filebase*\n",
    "\n",
    "c_filename=filebase+'.csv.gz'\n",
    "u_filename=filebase+'.csv'\n",
    "\n",
    "command=\"curl https://mas-dse-open.s3.amazonaws.com/Weather/small/%s > %s/%s\"%(c_filename,data_dir,c_filename)\n",
    "print command\n",
    "!$command\n",
    "!ls -lh $data_dir/$c_filename"
   ]
  },
  {
   "cell_type": "code",
   "execution_count": 4,
   "metadata": {
    "collapsed": false,
    "deletable": true,
    "editable": true,
    "run_control": {
     "frozen": false,
     "read_only": false
    },
    "scrolled": true,
    "slideshow": {
     "slide_type": "subslide"
    }
   },
   "outputs": [
    {
     "data": {
      "text/plain": [
       "12107"
      ]
     },
     "execution_count": 4,
     "metadata": {},
     "output_type": "execute_result"
    }
   ],
   "source": [
    "#unzip\n",
    "!gunzip -c $data_dir/$c_filename > $data_dir/$u_filename\n",
    "import pickle\n",
    "List=pickle.load(open(data_dir+'/'+u_filename,'rb'))\n",
    "len(List)"
   ]
  },
  {
   "cell_type": "code",
   "execution_count": 5,
   "metadata": {
    "collapsed": false,
    "deletable": true,
    "editable": true,
    "run_control": {
     "frozen": false,
     "read_only": false
    },
    "slideshow": {
     "slide_type": "subslide"
    }
   },
   "outputs": [
    {
     "name": "stdout",
     "output_type": "stream",
     "text": [
      "12107\n",
      "+---------+--------+---------+-----------+-----------+------+--------------------+------+--------+\n",
      "|elevation|latitude|longitude|measurement|    station|undefs|              vector|  year|   label|\n",
      "+---------+--------+---------+-----------+-----------+------+--------------------+------+--------+\n",
      "|      3.0| 29.8667| -84.6667|       TMAX|USC00081356|     3|[C8 5A E0 54 40 5...|1900.0|BSBSSSSS|\n",
      "|      3.0| 29.8667| -84.6667|       TMAX|USC00081356|    11|[90 59 40 5A 60 5...|1901.0|BSBSSSSS|\n",
      "|      3.0| 29.8667| -84.6667|       TMAX|USC00081356|     5|[28 58 E0 58 60 5...|1902.0|BSBSSSSS|\n",
      "|      3.0| 29.8667| -84.6667|       TMAX|USC00081356|    34|[20 5B 10 5A 98 5...|1903.0|BSBSSSSS|\n",
      "|      3.0| 29.8667| -84.6667|       TMAX|USC00081356|    31|[E8 59 C8 5A E8 5...|1904.0|BSBSSSSS|\n",
      "|      3.0| 29.8667| -84.6667|       TMAX|USC00081356|     0|[90 59 98 5A 60 5...|1905.0|BSBSSSSS|\n",
      "|      3.0| 29.8667| -84.6667|       TMAX|USC00081356|    31|[00 7E 00 7E 00 7...|1907.0|BSBSSSSS|\n",
      "|      3.0| 29.8667| -84.6667|       TMAX|USC00081356|    43|[00 7E 00 7E 00 7...|1911.0|BSBSSSSS|\n",
      "|      3.0| 29.8667| -84.6667|       TMAX|USC00081356|    19|[38 59 B8 59 70 5...|1912.0|BSBSSSSS|\n",
      "|      3.0| 29.8667| -84.6667|       TMAX|USC00081356|     1|[E0 58 60 59 90 5...|1913.0|BSBSSSSS|\n",
      "|      3.0| 29.8667| -84.6667|       TMAX|USC00081356|     0|[E0 58 08 59 38 5...|1914.0|BSBSSSSS|\n",
      "|      3.0| 29.8667| -84.6667|       TMAX|USC00081356|     1|[28 58 E0 58 E0 5...|1915.0|BSBSSSSS|\n",
      "|      3.0| 29.8667| -84.6667|       TMAX|USC00081356|     8|[10 5A 70 5A 00 5...|1916.0|BSBSSSSS|\n",
      "|      3.0| 29.8667| -84.6667|       TMAX|USC00081356|    18|[98 5A 78 5B 78 5...|1917.0|BSBSSSSS|\n",
      "|      3.0| 29.8667| -84.6667|       TMAX|USC00081356|    19|[48 5B 38 59 40 5...|1920.0|BSBSSSSS|\n",
      "|      3.0| 29.8667| -84.6667|       TMAX|USC00081356|     0|[38 59 40 5A 10 5...|1921.0|BSBSSSSS|\n",
      "|      3.0| 29.8667| -84.6667|       TMAX|USC00081356|     0|[E0 58 50 57 38 5...|1922.0|BSBSSSSS|\n",
      "|      3.0| 29.8667| -84.6667|       TMAX|USC00081356|     0|[90 59 E8 59 90 5...|1923.0|BSBSSSSS|\n",
      "|      3.0| 29.8667| -84.6667|       TMAX|USC00081356|     7|[70 5A 40 5A 98 5...|1924.0|BSBSSSSS|\n",
      "|      3.0| 29.8667| -84.6667|       TMAX|USC00081356|     0|[B8 59 08 59 38 5...|1925.0|BSBSSSSS|\n",
      "|      3.0| 29.8667| -84.6667|       TMAX|USC00081356|     0|[00 58 28 58 08 5...|1927.0|BSBSSSSS|\n",
      "|      3.0| 29.8667| -84.6667|       TMAX|USC00081356|     0|[A0 57 00 4F 80 5...|1928.0|BSBSSSSS|\n",
      "|      3.0| 29.8667| -84.6667|       TMAX|USC00081356|     3|[20 5B F0 56 08 5...|1929.0|BSBSSSSS|\n",
      "|      3.0| 29.8667| -84.6667|       TMAX|USC00081356|     0|[B8 59 E8 59 10 5...|1930.0|BSBSSSSS|\n",
      "|      3.0| 29.8667| -84.6667|       TMAX|USC00081356|    24|[00 7E 00 7E 00 7...|1932.0|BSBSSSSS|\n",
      "|      3.0| 29.8667| -84.6667|       TMAX|USC00081356|     0|[A0 57 10 5A E8 5...|1933.0|BSBSSSSS|\n",
      "|      3.0| 29.8667| -84.6667|       TMAX|USC00081356|     0|[A0 5B 98 5A 90 5...|1934.0|BSBSSSSS|\n",
      "|      3.0| 29.8667| -84.6667|       TMAX|USC00081356|     0|[20 5B E0 58 38 5...|1935.0|BSBSSSSS|\n",
      "|      3.0| 29.8667| -84.6667|       TMAX|USC00081356|     1|[B0 58 60 59 90 5...|1936.0|BSBSSSSS|\n",
      "|      3.0| 29.8667| -84.6667|       TMAX|USC00081356|    11|[48 5B 20 5B 10 5...|1937.0|BSBSSSSS|\n",
      "|      3.0| 29.8667| -84.6667|       TMAX|USC00081356|     1|[40 5A 90 59 E0 5...|1938.0|BSBSSSSS|\n",
      "|      3.0| 29.8667| -84.6667|       TMAX|USC00081356|     2|[B8 59 40 5A 98 5...|1939.0|BSBSSSSS|\n",
      "|      3.0| 29.8667| -84.6667|       TMAX|USC00081356|     4|[40 5A E0 58 A0 5...|1940.0|BSBSSSSS|\n",
      "|      3.0| 29.8667| -84.6667|       TMAX|USC00081356|    15|[70 5A 20 5B 00 7...|1941.0|BSBSSSSS|\n",
      "|      3.0| 29.8667| -84.6667|       TMAX|USC00081356|     9|[70 5A 70 5A E8 5...|1942.0|BSBSSSSS|\n",
      "|      3.0| 29.8667| -84.6667|       TMAX|USC00081356|     5|[E8 59 98 5A 98 5...|1943.0|BSBSSSSS|\n",
      "|      3.0| 29.8667| -84.6667|       TMAX|USC00081356|     3|[28 58 E0 58 60 5...|1944.0|BSBSSSSS|\n",
      "|      3.0| 29.8667| -84.6667|       TMAX|USC00081356|    16|[E0 58 00 58 28 5...|1945.0|BSBSSSSS|\n",
      "|      3.0| 29.8667| -84.6667|       TMAX|USC00081356|     0|[E0 58 F0 56 38 5...|1946.0|BSBSSSSS|\n",
      "|      3.0| 29.8667| -84.6667|       TMAX|USC00081356|     0|[48 5B 48 5B C8 5...|1947.0|BSBSSSSS|\n",
      "|      3.0| 29.8667| -84.6667|       TMAX|USC00081356|    33|[00 7E 00 7E 00 7...|1948.0|BSBSSSSS|\n",
      "|      3.0| 29.8667| -84.6667|       TMAX|USC00081356|     6|[10 5A E0 58 10 5...|1949.0|BSBSSSSS|\n",
      "|      3.0| 29.8667| -84.6667|       TMAX|USC00081356|    10|[78 5B 48 5B 78 5...|1950.0|BSBSSSSS|\n",
      "|      3.0| 29.8667| -84.6667|       TMAX|USC00081356|    11|[38 59 90 59 70 5...|1951.0|BSBSSSSS|\n",
      "|      3.0| 29.8667| -84.6667|       TMAX|USC00081356|     0|[20 5B 40 5A 40 5...|1952.0|BSBSSSSS|\n",
      "|      3.0| 29.8667| -84.6667|       TMAX|USC00081356|     1|[B0 58 10 5A 90 5...|1953.0|BSBSSSSS|\n",
      "|      3.0| 29.8667| -84.6667|       TMAX|USC00081356|     5|[08 59 E8 59 98 5...|1954.0|BSBSSSSS|\n",
      "|      3.0| 29.8667| -84.6667|       TMAX|USC00081356|     1|[E8 59 20 5B E8 5...|1955.0|BSBSSSSS|\n",
      "|      3.0| 29.8667| -84.6667|       TMAX|USC00081356|     4|[08 59 30 55 A0 5...|1958.0|BSBSSSSS|\n",
      "|      3.0| 29.8667| -84.6667|       TMAX|USC00081356|     3|[F0 5A 70 5A E0 5...|1959.0|BSBSSSSS|\n",
      "|      3.0| 29.8667| -84.6667|       TMAX|USC00081356|    14|[00 58 60 59 70 5...|1960.0|BSBSSSSS|\n",
      "|      3.0| 29.8667| -84.6667|       TMAX|USC00081356|     3|[E8 59 60 59 80 5...|1961.0|BSBSSSSS|\n",
      "|      3.0| 29.8667| -84.6667|       TMAX|USC00081356|    31|[80 58 E0 58 80 5...|1962.0|BSBSSSSS|\n",
      "|      3.0| 29.8667| -84.6667|       TMAX|USC00081356|     0|[58 58 58 58 B0 5...|1963.0|BSBSSSSS|\n",
      "|      3.0| 29.8667| -84.6667|       TMAX|USC00081356|     0|[28 58 28 58 08 5...|1964.0|BSBSSSSS|\n",
      "|      3.0| 29.8667| -84.6667|       TMAX|USC00081356|     0|[F0 5A 20 5B 70 5...|1965.0|BSBSSSSS|\n",
      "|      3.0| 29.8667| -84.6667|       TMAX|USC00081356|     2|[98 5A C8 5A C8 5...|1966.0|BSBSSSSS|\n",
      "|      3.0| 29.8667| -84.6667|       TMAX|USC00081356|     0|[20 5B 40 5A B8 5...|1967.0|BSBSSSSS|\n",
      "|      3.0| 29.8667| -84.6667|       TMAX|USC00081356|     1|[40 5A 70 5A 10 5...|1968.0|BSBSSSSS|\n",
      "|      3.0| 29.8667| -84.6667|       TMAX|USC00081356|     1|[B0 58 00 58 A0 5...|1969.0|BSBSSSSS|\n",
      "|      3.0| 29.8667| -84.6667|       TMAX|USC00081356|     4|[50 57 A0 56 40 5...|1970.0|BSBSSSSS|\n",
      "|      3.0| 29.8667| -84.6667|       TMAX|USC00081356|     2|[58 58 28 58 B8 5...|1971.0|BSBSSSSS|\n",
      "|      3.0| 29.8667| -84.6667|       TMAX|USC00081356|    10|[00 7E C8 5A D0 5...|1972.0|BSBSSSSS|\n",
      "|      3.0| 29.8667| -84.6667|       TMIN|USC00081356|     5|[40 CC 20 D0 80 D...|1900.0|BSBSSSSS|\n",
      "|      3.0| 29.8667| -84.6667|       TMIN|USC00081356|    21|[80 58 A0 57 80 5...|1901.0|BSBSSSSS|\n",
      "|      3.0| 29.8667| -84.6667|       TMIN|USC00081356|    13|[80 49 80 51 00 5...|1902.0|BSBSSSSS|\n",
      "|      3.0| 29.8667| -84.6667|       TMIN|USC00081356|     9|[A0 56 80 58 A0 5...|1903.0|BSBSSSSS|\n",
      "|      3.0| 29.8667| -84.6667|       TMIN|USC00081356|     0|[A0 57 00 53 00 0...|1905.0|BSBSSSSS|\n",
      "|      3.0| 29.8667| -84.6667|       TMIN|USC00081356|     0|[00 58 A0 57 80 4...|1911.0|BSBSSSSS|\n",
      "|      3.0| 29.8667| -84.6667|       TMIN|USC00081356|    20|[E0 54 30 55 40 5...|1912.0|BSBSSSSS|\n",
      "|      3.0| 29.8667| -84.6667|       TMIN|USC00081356|     1|[A0 53 80 51 30 5...|1913.0|BSBSSSSS|\n",
      "|      3.0| 29.8667| -84.6667|       TMIN|USC00081356|     0|[40 4C 80 54 00 5...|1914.0|BSBSSSSS|\n",
      "|      3.0| 29.8667| -84.6667|       TMIN|USC00081356|     6|[80 C9 80 49 E0 5...|1915.0|BSBSSSSS|\n",
      "|      3.0| 29.8667| -84.6667|       TMIN|USC00081356|     7|[40 56 50 57 A0 5...|1916.0|BSBSSSSS|\n",
      "|      3.0| 29.8667| -84.6667|       TMIN|USC00081356|    16|[E0 55 00 58 B0 5...|1917.0|BSBSSSSS|\n",
      "|      3.0| 29.8667| -84.6667|       TMIN|USC00081356|    33|[E0 D5 E0 D0 00 C...|1918.0|BSBSSSSS|\n",
      "|      3.0| 29.8667| -84.6667|       TMIN|USC00081356|     0|[B0 58 E0 58 40 4...|1919.0|BSBSSSSS|\n",
      "|      3.0| 29.8667| -84.6667|       TMIN|USC00081356|    20|[80 58 00 46 80 C...|1920.0|BSBSSSSS|\n",
      "|      3.0| 29.8667| -84.6667|       TMIN|USC00081356|     0|[00 4F A0 57 28 5...|1921.0|BSBSSSSS|\n",
      "|      3.0| 29.8667| -84.6667|       TMIN|USC00081356|     0|[80 51 80 CD 00 5...|1922.0|BSBSSSSS|\n",
      "|      3.0| 29.8667| -84.6667|       TMIN|USC00081356|     0|[E0 54 A0 53 90 5...|1923.0|BSBSSSSS|\n",
      "|      3.0| 29.8667| -84.6667|       TMIN|USC00081356|    27|[00 58 F0 56 38 5...|1924.0|BSBSSSSS|\n",
      "|      3.0| 29.8667| -84.6667|       TMIN|USC00081356|     3|[40 56 90 55 80 5...|1925.0|BSBSSSSS|\n",
      "|      3.0| 29.8667| -84.6667|       TMIN|USC00081356|     0|[80 4D E0 D0 80 4...|1927.0|BSBSSSSS|\n",
      "|      3.0| 29.8667| -84.6667|       TMIN|USC00081356|     0|[00 C6 30 D4 E0 D...|1928.0|BSBSSSSS|\n",
      "|      3.0| 29.8667| -84.6667|       TMIN|USC00081356|     4|[40 56 80 C9 40 C...|1929.0|BSBSSSSS|\n",
      "|      3.0| 29.8667| -84.6667|       TMIN|USC00081356|     2|[40 4C 90 55 40 5...|1930.0|BSBSSSSS|\n",
      "|      3.0| 29.8667| -84.6667|       TMIN|USC00081356|    42|[20 50 80 CD 40 5...|1931.0|BSBSSSSS|\n",
      "|      3.0| 29.8667| -84.6667|       TMIN|USC00081356|    18|[A0 56 20 50 00 7...|1932.0|BSBSSSSS|\n",
      "|      3.0| 29.8667| -84.6667|       TMIN|USC00081356|    33|[00 C6 E0 50 28 5...|1933.0|BSBSSSSS|\n",
      "|      3.0| 29.8667| -84.6667|       TMIN|USC00081356|     4|[08 59 80 58 50 5...|1934.0|BSBSSSSS|\n",
      "|      3.0| 29.8667| -84.6667|       TMIN|USC00081356|     1|[28 58 80 4D 80 5...|1935.0|BSBSSSSS|\n",
      "|      3.0| 29.8667| -84.6667|       TMIN|USC00081356|     1|[00 53 F0 56 30 5...|1936.0|BSBSSSSS|\n",
      "|      3.0| 29.8667| -84.6667|       TMIN|USC00081356|     4|[80 58 E0 58 A0 5...|1937.0|BSBSSSSS|\n",
      "|      3.0| 29.8667| -84.6667|       TMIN|USC00081356|     1|[30 55 58 58 50 5...|1938.0|BSBSSSSS|\n",
      "|      3.0| 29.8667| -84.6667|       TMIN|USC00081356|     5|[40 56 90 55 40 5...|1939.0|BSBSSSSS|\n",
      "|      3.0| 29.8667| -84.6667|       TMIN|USC00081356|     4|[00 53 80 CD 80 D...|1940.0|BSBSSSSS|\n",
      "|      3.0| 29.8667| -84.6667|       TMIN|USC00081356|    16|[E0 55 28 58 00 7...|1941.0|BSBSSSSS|\n",
      "|      3.0| 29.8667| -84.6667|       TMIN|USC00081356|     9|[58 58 A0 56 E0 5...|1942.0|BSBSSSSS|\n",
      "|      3.0| 29.8667| -84.6667|       TMIN|USC00081356|    17|[20 50 A0 53 00 5...|1943.0|BSBSSSSS|\n",
      "|      3.0| 29.8667| -84.6667|       TMIN|USC00081356|     1|[00 C6 80 54 90 5...|1944.0|BSBSSSSS|\n",
      "|      3.0| 29.8667| -84.6667|       TMIN|USC00081356|    16|[30 55 40 CC 00 4...|1945.0|BSBSSSSS|\n",
      "|      3.0| 29.8667| -84.6667|       TMIN|USC00081356|     0|[80 49 80 CD 00 0...|1946.0|BSBSSSSS|\n",
      "|      3.0| 29.8667| -84.6667|       TMIN|USC00081356|     0|[08 59 38 59 E0 5...|1947.0|BSBSSSSS|\n",
      "|      3.0| 29.8667| -84.6667|       TMIN|USC00081356|    32|[00 7E 00 7E 00 7...|1948.0|BSBSSSSS|\n",
      "|      3.0| 29.8667| -84.6667|       TMIN|USC00081356|    33|[00 CF 80 C9 50 5...|1949.0|BSBSSSSS|\n",
      "|      3.0| 29.8667| -84.6667|       TMIN|USC00081356|    20|[90 55 90 55 90 5...|1950.0|BSBSSSSS|\n",
      "|      3.0| 29.8667| -84.6667|       TMIN|USC00081356|    12|[80 49 40 56 A0 5...|1951.0|BSBSSSSS|\n",
      "|      3.0| 29.8667| -84.6667|       TMIN|USC00081356|     2|[58 58 A0 57 80 5...|1952.0|BSBSSSSS|\n",
      "|      3.0| 29.8667| -84.6667|       TMIN|USC00081356|     3|[80 49 80 49 00 5...|1953.0|BSBSSSSS|\n",
      "|      3.0| 29.8667| -84.6667|       TMIN|USC00081356|     5|[00 C6 80 49 80 5...|1954.0|BSBSSSSS|\n",
      "|      3.0| 29.8667| -84.6667|       TMIN|USC00081356|     6|[F0 56 E0 58 00 5...|1955.0|BSBSSSSS|\n",
      "|      3.0| 29.8667| -84.6667|       TMIN|USC00081356|     5|[00 53 80 49 80 C...|1958.0|BSBSSSSS|\n",
      "|      3.0| 29.8667| -84.6667|       TMIN|USC00081356|     3|[E0 55 40 56 30 5...|1959.0|BSBSSSSS|\n",
      "|      3.0| 29.8667| -84.6667|       TMIN|USC00081356|    16|[30 54 A0 57 58 5...|1960.0|BSBSSSSS|\n",
      "|      3.0| 29.8667| -84.6667|       TMIN|USC00081356|     3|[40 52 00 4F 80 4...|1961.0|BSBSSSSS|\n",
      "|      3.0| 29.8667| -84.6667|       TMIN|USC00081356|    32|[90 55 40 4C E0 D...|1962.0|BSBSSSSS|\n",
      "|      3.0| 29.8667| -84.6667|       TMIN|USC00081356|     0|[E0 D0 E0 D0 E0 D...|1963.0|BSBSSSSS|\n",
      "|      3.0| 29.8667| -84.6667|       TMIN|USC00081356|     0|[00 46 40 D2 00 C...|1964.0|BSBSSSSS|\n",
      "|      3.0| 29.8667| -84.6667|       TMIN|USC00081356|     0|[30 55 F0 56 B0 5...|1965.0|BSBSSSSS|\n",
      "|      3.0| 29.8667| -84.6667|       TMIN|USC00081356|     2|[A0 56 A0 56 B0 5...|1966.0|BSBSSSSS|\n",
      "|      3.0| 29.8667| -84.6667|       TMIN|USC00081356|     0|[E0 55 28 58 00 5...|1967.0|BSBSSSSS|\n",
      "|      3.0| 29.8667| -84.6667|       TMIN|USC00081356|     1|[E0 58 A0 57 08 5...|1968.0|BSBSSSSS|\n",
      "|      3.0| 29.8667| -84.6667|       TMIN|USC00081356|     1|[30 54 00 CF 40 C...|1969.0|BSBSSSSS|\n",
      "|      3.0| 29.8667| -84.6667|       TMIN|USC00081356|     4|[80 51 00 00 40 5...|1970.0|BSBSSSSS|\n",
      "|      3.0| 29.8667| -84.6667|       TMIN|USC00081356|     5|[00 00 40 CC 40 4...|1971.0|BSBSSSSS|\n",
      "|      3.0| 29.8667| -84.6667|       TMIN|USC00081356|    11|[30 54 30 54 80 5...|1972.0|BSBSSSSS|\n",
      "|      3.0| 29.8667| -84.6667|       TOBS|USC00081356|    16|[40 56 B0 58 B0 5...|1902.0|BSBSSSSS|\n",
      "|      3.0| 29.8667| -84.6667|       TOBS|USC00081356|     8|[38 59 10 5A 28 5...|1903.0|BSBSSSSS|\n",
      "|      3.0| 29.8667| -84.6667|       TOBS|USC00081356|     0|[28 58 00 58 80 5...|1905.0|BSBSSSSS|\n",
      "|      3.0| 29.8667| -84.6667|       TOBS|USC00081356|    31|[00 7E 00 7E 00 7...|1907.0|BSBSSSSS|\n",
      "|      3.0| 29.8667| -84.6667|       TOBS|USC00081356|     0|[08 59 E0 58 80 4...|1911.0|BSBSSSSS|\n",
      "|      3.0| 29.8667| -84.6667|       TOBS|USC00081356|    20|[F0 56 A0 56 F0 5...|1912.0|BSBSSSSS|\n",
      "|      3.0| 29.8667| -84.6667|       TOBS|USC00081356|     0|[40 56 30 55 40 5...|1913.0|BSBSSSSS|\n",
      "|      3.0| 29.8667| -84.6667|       TOBS|USC00081356|     0|[90 55 F0 56 A0 5...|1914.0|BSBSSSSS|\n",
      "|      3.0| 29.8667| -84.6667|       TOBS|USC00081356|     0|[90 55 40 56 50 5...|1915.0|BSBSSSSS|\n",
      "|      3.0| 29.8667| -84.6667|       TOBS|USC00081356|     8|[58 58 E0 58 60 5...|1916.0|BSBSSSSS|\n",
      "|      3.0| 29.8667| -84.6667|       TOBS|USC00081356|    18|[08 59 60 59 B8 5...|1917.0|BSBSSSSS|\n",
      "|      3.0| 29.8667| -84.6667|       TOBS|USC00081356|     0|[60 59 E0 58 40 4...|1919.0|BSBSSSSS|\n",
      "|      3.0| 29.8667| -84.6667|       TOBS|USC00081356|    19|[38 59 00 4F 20 5...|1920.0|BSBSSSSS|\n",
      "|      3.0| 29.8667| -84.6667|       TOBS|USC00081356|     0|[58 58 28 58 E8 5...|1921.0|BSBSSSSS|\n",
      "|      3.0| 29.8667| -84.6667|       TOBS|USC00081356|     2|[80 51 30 54 28 5...|1922.0|BSBSSSSS|\n",
      "|      3.0| 29.8667| -84.6667|       TOBS|USC00081356|     0|[30 55 80 58 90 5...|1923.0|BSBSSSSS|\n",
      "|      3.0| 29.8667| -84.6667|       TOBS|USC00081356|     8|[00 58 90 59 10 5...|1924.0|BSBSSSSS|\n",
      "|      3.0| 29.8667| -84.6667|       TOBS|USC00081356|     3|[50 57 F0 56 F0 5...|1925.0|BSBSSSSS|\n",
      "|      3.0| 29.8667| -84.6667|       TOBS|USC00081356|     1|[20 50 00 53 A0 5...|1927.0|BSBSSSSS|\n",
      "|      3.0| 29.8667| -84.6667|       TOBS|USC00081356|     0|[00 C6 40 CC 20 D...|1928.0|BSBSSSSS|\n",
      "|      3.0| 29.8667| -84.6667|       TOBS|USC00081356|     1|[40 56 80 51 E0 5...|1929.0|BSBSSSSS|\n",
      "|      3.0| 29.8667| -84.6667|       TOBS|USC00081356|     0|[90 55 E0 58 40 5...|1930.0|BSBSSSSS|\n",
      "|      3.0| 29.8667| -84.6667|       TOBS|USC00081356|    44|[20 50 50 57 A0 5...|1931.0|BSBSSSSS|\n",
      "|      3.0| 29.8667| -84.6667|       TOBS|USC00081356|    25|[00 7E 00 7E 00 7...|1932.0|BSBSSSSS|\n",
      "|      3.0| 29.8667| -84.6667|       TOBS|USC00081356|     1|[80 54 E0 58 60 5...|1933.0|BSBSSSSS|\n",
      "|      3.0| 29.8667| -84.6667|       TOBS|USC00081356|     2|[E8 59 38 59 28 5...|1934.0|BSBSSSSS|\n",
      "|      3.0| 29.8667| -84.6667|       TOBS|USC00081356|     0|[80 58 A0 56 B0 5...|1935.0|BSBSSSSS|\n",
      "|      3.0| 29.8667| -84.6667|       TOBS|USC00081356|    33|[58 58 80 58 00 5...|1936.0|BSBSSSSS|\n",
      "|      3.0| 29.8667| -84.6667|       TOBS|USC00081356|    11|[90 59 E8 59 58 5...|1937.0|BSBSSSSS|\n",
      "|      3.0| 29.8667| -84.6667|       TOBS|USC00081356|     1|[08 59 E0 58 00 5...|1938.0|BSBSSSSS|\n",
      "|      3.0| 29.8667| -84.6667|       TOBS|USC00081356|     5|[00 58 80 58 E0 5...|1939.0|BSBSSSSS|\n",
      "|      3.0| 29.8667| -84.6667|       TOBS|USC00081356|     4|[E0 58 80 54 80 5...|1940.0|BSBSSSSS|\n",
      "|      3.0| 29.8667| -84.6667|       TOBS|USC00081356|     5|[08 59 90 59 00 7...|1941.0|BSBSSSSS|\n",
      "|      3.0| 29.8667| -84.6667|       TOBS|USC00081356|    10|[E8 59 80 58 E8 5...|1942.0|BSBSSSSS|\n",
      "|      3.0| 29.8667| -84.6667|       TOBS|USC00081356|     6|[58 58 58 58 E0 5...|1943.0|BSBSSSSS|\n",
      "|      3.0| 29.8667| -84.6667|       TOBS|USC00081356|    13|[40 56 E0 58 E0 5...|1944.0|BSBSSSSS|\n",
      "|      3.0| 29.8667| -84.6667|       TOBS|USC00081356|    17|[30 55 90 55 40 5...|1945.0|BSBSSSSS|\n",
      "|      3.0| 29.8667| -84.6667|       TOBS|USC00081356|     0|[40 52 80 54 F0 5...|1946.0|BSBSSSSS|\n",
      "|      3.0| 29.8667| -84.6667|       TOBS|USC00081356|     0|[B8 59 40 5A E0 5...|1947.0|BSBSSSSS|\n",
      "|      3.0| 29.8667| -84.6667|       TOBS|USC00081356|    31|[00 7E 00 7E 00 7...|1948.0|BSBSSSSS|\n",
      "|      3.0| 29.8667| -84.6667|       TOBS|USC00081356|     1|[A0 56 A0 57 E0 5...|1949.0|BSBSSSSS|\n",
      "|      3.0| 29.8667| -84.6667|       TOBS|USC00081356|     6|[90 59 90 59 60 5...|1950.0|BSBSSSSS|\n",
      "|      3.0| 29.8667| -84.6667|       TOBS|USC00081356|    14|[00 58 00 58 08 5...|1951.0|BSBSSSSS|\n",
      "|      3.0| 29.8667| -84.6667|       TOBS|USC00081356|     0|[08 59 B8 59 80 5...|1952.0|BSBSSSSS|\n",
      "|      3.0| 29.8667| -84.6667|       TOBS|USC00081356|     3|[00 58 60 59 E0 5...|1953.0|BSBSSSSS|\n",
      "|      3.0| 29.8667| -84.6667|       TOBS|USC00081356|     4|[A0 57 E0 58 B8 5...|1954.0|BSBSSSSS|\n",
      "|      3.0| 29.8667| -84.6667|       TOBS|USC00081356|     1|[38 59 60 59 80 5...|1955.0|BSBSSSSS|\n",
      "|      3.0| 29.8667| -84.6667|       TOBS|USC00081356|     7|[90 55 40 52 40 5...|1958.0|BSBSSSSS|\n",
      "|      3.0| 29.8667| -84.6667|       TOBS|USC00081356|     4|[70 5A 40 56 28 5...|1959.0|BSBSSSSS|\n",
      "|      3.0| 29.8667| -84.6667|       TOBS|USC00081356|    16|[A0 57 38 59 90 5...|1960.0|BSBSSSSS|\n",
      "|      3.0| 29.8667| -84.6667|       TOBS|USC00081356|     4|[A0 57 80 58 90 5...|1961.0|BSBSSSSS|\n",
      "|      3.0| 29.8667| -84.6667|       TOBS|USC00081356|    32|[90 55 40 56 50 5...|1962.0|BSBSSSSS|\n",
      "|      3.0| 29.8667| -84.6667|       TOBS|USC00081356|     1|[E0 55 20 50 00 5...|1963.0|BSBSSSSS|\n",
      "|      3.0| 29.8667| -84.6667|       TOBS|USC00081356|     2|[90 55 A0 56 A0 5...|1964.0|BSBSSSSS|\n",
      "|      3.0| 29.8667| -84.6667|       TOBS|USC00081356|     2|[70 5A E8 59 08 5...|1965.0|BSBSSSSS|\n",
      "|      3.0| 29.8667| -84.6667|       TOBS|USC00081356|     2|[40 5A 40 5A 90 5...|1966.0|BSBSSSSS|\n",
      "|      3.0| 29.8667| -84.6667|       TOBS|USC00081356|     1|[B8 59 B8 59 80 5...|1967.0|BSBSSSSS|\n",
      "|      3.0| 29.8667| -84.6667|       TOBS|USC00081356|     2|[10 5A 60 59 B8 5...|1968.0|BSBSSSSS|\n",
      "|      3.0| 29.8667| -84.6667|       TOBS|USC00081356|     1|[00 58 40 56 A0 5...|1969.0|BSBSSSSS|\n",
      "|      3.0| 29.8667| -84.6667|       TOBS|USC00081356|    10|[A0 53 30 55 80 5...|1970.0|BSBSSSSS|\n",
      "|      3.0| 29.8667| -84.6667|       TOBS|USC00081356|     7|[A0 53 A0 57 60 5...|1971.0|BSBSSSSS|\n",
      "|      3.0| 29.8667| -84.6667|       TOBS|USC00081356|     5|[E0 58 E0 58 10 5...|1972.0|BSBSSSSS|\n",
      "|     82.3| 31.5333| -84.6167|       TMAX|USC00096038|    32|[58 58 58 58 38 5...|1894.0|BSBSSSSS|\n",
      "|     82.3| 31.5333| -84.6167|       TMAX|USC00096038|     2|[90 55 80 58 E0 5...|1895.0|BSBSSSSS|\n",
      "|     82.3| 31.5333| -84.6167|       TMAX|USC00096038|    20|[80 54 80 58 B0 5...|1896.0|BSBSSSSS|\n",
      "|     82.3| 31.5333| -84.6167|       TMAX|USC00096038|    14|[48 5B D0 5B F0 5...|1897.0|BSBSSSSS|\n",
      "|     82.3| 31.5333| -84.6167|       TMAX|USC00096038|    15|[40 4C 00 46 A0 5...|1898.0|BSBSSSSS|\n",
      "|     82.3| 31.5333| -84.6167|       TMAX|USC00096038|     9|[40 4C 20 50 80 5...|1900.0|BSBSSSSS|\n",
      "|     82.3| 31.5333| -84.6167|       TMAX|USC00096038|     1|[A0 57 00 7E A0 5...|1901.0|BSBSSSSS|\n",
      "|     82.3| 31.5333| -84.6167|       TMAX|USC00096038|     7|[B8 59 08 59 90 5...|1902.0|BSBSSSSS|\n",
      "|     82.3| 31.5333| -84.6167|       TMAX|USC00096038|    44|[38 59 00 58 A0 5...|1903.0|BSBSSSSS|\n",
      "|     82.3| 31.5333| -84.6167|       TMAX|USC00096038|     7|[00 58 F0 56 E0 5...|1904.0|BSBSSSSS|\n",
      "|     82.3| 31.5333| -84.6167|       TMAX|USC00096038|     6|[10 5A 10 5A 30 5...|1905.0|BSBSSSSS|\n",
      "+---------+--------+---------+-----------+-----------+------+--------------------+------+--------+\n",
      "only showing top 200 rows\n",
      "\n"
     ]
    }
   ],
   "source": [
    "df=sqlContext.createDataFrame(List)\n",
    "print df.count()\n",
    "df.show(200)"
   ]
  },
  {
   "cell_type": "code",
   "execution_count": 6,
   "metadata": {
    "collapsed": false,
    "deletable": true,
    "editable": true,
    "run_control": {
     "frozen": false,
     "read_only": false
    },
    "slideshow": {
     "slide_type": "subslide"
    }
   },
   "outputs": [],
   "source": [
    "#store dataframe as parquet file\n",
    "outfilename=data_dir+'/'+filebase+'.parquet'\n",
    "!rm -rf $outfilename\n",
    "df.write.save(outfilename)"
   ]
  },
  {
   "cell_type": "code",
   "execution_count": 7,
   "metadata": {
    "collapsed": false,
    "deletable": true,
    "editable": true,
    "run_control": {
     "frozen": false,
     "read_only": false
    },
    "slideshow": {
     "slide_type": "subslide"
    }
   },
   "outputs": [
    {
     "name": "stdout",
     "output_type": "stream",
     "text": [
      " 11M\t../../Data/Weather/US_Weather_BSBSSSSS.csv\r\n",
      "2.9M\t../../Data/Weather/US_Weather_BSBSSSSS.csv.gz\r\n",
      "3.5M\t../../Data/Weather/US_Weather_BSBSSSSS.parquet\r\n"
     ]
    }
   ],
   "source": [
    "# Compare file sizes\n",
    "!du -sh $data_dir/$filebase*"
   ]
  },
  {
   "cell_type": "code",
   "execution_count": 8,
   "metadata": {
    "collapsed": false,
    "deletable": true,
    "editable": true,
    "run_control": {
     "frozen": false,
     "read_only": false
    }
   },
   "outputs": [
    {
     "name": "stdout",
     "output_type": "stream",
     "text": [
      "Number of executors= 3\n",
      "took 0.00228404998779 seconds\n"
     ]
    }
   ],
   "source": [
    "from time import time\n",
    "t=time()\n",
    "\n",
    "N=sc.defaultParallelism\n",
    "print 'Number of executors=',N\n",
    "print 'took',time()-t,'seconds'"
   ]
  },
  {
   "cell_type": "code",
   "execution_count": 9,
   "metadata": {
    "collapsed": false,
    "deletable": true,
    "editable": true,
    "run_control": {
     "frozen": false,
     "read_only": false
    }
   },
   "outputs": [],
   "source": [
    "measurements=['TMAX', 'SNOW', 'SNWD', 'TMIN', 'PRCP', 'TOBS']"
   ]
  },
  {
   "cell_type": "code",
   "execution_count": 10,
   "metadata": {
    "collapsed": false,
    "deletable": true,
    "editable": true,
    "run_control": {
     "frozen": false,
     "read_only": false
    }
   },
   "outputs": [],
   "source": [
    "sqlContext.registerDataFrameAsTable(df,'weather') #using older sqlContext instead of newer (V2.0) sparkSession"
   ]
  },
  {
   "cell_type": "code",
   "execution_count": 11,
   "metadata": {
    "collapsed": false,
    "deletable": true,
    "editable": true,
    "run_control": {
     "frozen": false,
     "read_only": false
    }
   },
   "outputs": [
    {
     "name": "stdout",
     "output_type": "stream",
     "text": [
      "SELECT * FROM weather\n",
      "\tWHERE measurement = 'TMAX'\n",
      "shape of E= (365,) shape of NE= (365,)\n",
      "time for TMAX is 25.5252511501\n",
      "SELECT * FROM weather\n",
      "\tWHERE measurement = 'SNOW'\n",
      "shape of E= (365,) shape of NE= (365,)\n",
      "time for SNOW is 21.3031010628\n",
      "SELECT * FROM weather\n",
      "\tWHERE measurement = 'SNWD'\n",
      "shape of E= (365,) shape of NE= (365,)\n",
      "time for SNWD is 18.599875927\n",
      "SELECT * FROM weather\n",
      "\tWHERE measurement = 'TMIN'\n",
      "shape of E= (365,) shape of NE= (365,)\n",
      "time for TMIN is 23.4196238518\n",
      "SELECT * FROM weather\n",
      "\tWHERE measurement = 'PRCP'\n",
      "shape of E= (365,) shape of NE= (365,)\n",
      "time for PRCP is 24.9861619473\n",
      "SELECT * FROM weather\n",
      "\tWHERE measurement = 'TOBS'\n",
      "shape of E= (365,) shape of NE= (365,)\n",
      "time for TOBS is 14.3520970345\n"
     ]
    }
   ],
   "source": [
    "from numpy import linalg as LA\n",
    "STAT={}  # dictionary storing the statistics for each measurement\n",
    "Clean_Tables={}\n",
    "\n",
    "for meas in measurements:\n",
    "    t=time()\n",
    "    Query=\"SELECT * FROM weather\\n\\tWHERE measurement = '%s'\"%(meas)\n",
    "    print Query\n",
    "    df = sqlContext.sql(Query)\n",
    "    data=df.rdd.map(lambda row: unpackArray(row['vector'],np.float16))\n",
    "    #get very basic statistics\n",
    "    STAT[meas]=computeOverAllDist(data)   # Compute the statistics \n",
    "\n",
    "    # compute covariance matrix\n",
    "    OUT=computeCov(data)\n",
    "\n",
    "    #find PCA decomposition\n",
    "    eigval,eigvec=LA.eig(OUT['Cov'])\n",
    "\n",
    "    # collect all of the statistics in STAT[meas]\n",
    "    STAT[meas]['eigval']=eigval\n",
    "    STAT[meas]['eigvec']=eigvec\n",
    "    STAT[meas].update(OUT)\n",
    "\n",
    "    print 'time for',meas,'is',time()-t"
   ]
  },
  {
   "cell_type": "code",
   "execution_count": 12,
   "metadata": {
    "collapsed": false,
    "deletable": true,
    "editable": true,
    "run_control": {
     "frozen": false,
     "read_only": false
    }
   },
   "outputs": [],
   "source": [
    "from pickle import dump\n",
    "filename=data_dir+'/STAT_%s.pickle'%file_index\n",
    "dump((STAT,STAT_Descriptions),open(filename,'wb'))\n"
   ]
  },
  {
   "cell_type": "code",
   "execution_count": 15,
   "metadata": {
    "collapsed": false,
    "deletable": true,
    "editable": true
   },
   "outputs": [
    {
     "data": {
      "text/plain": [
       "'SSSSSBSS'"
      ]
     },
     "execution_count": 15,
     "metadata": {},
     "output_type": "execute_result"
    }
   ],
   "source": []
  },
  {
   "cell_type": "code",
   "execution_count": null,
   "metadata": {
    "collapsed": true
   },
   "outputs": [],
   "source": []
  }
 ],
 "metadata": {
  "anaconda-cloud": {},
  "celltoolbar": "Slideshow",
  "kernelspec": {
   "display_name": "Python [Root]",
   "language": "python",
   "name": "Python [Root]"
  },
  "language_info": {
   "codemirror_mode": {
    "name": "ipython",
    "version": 2
   },
   "file_extension": ".py",
   "mimetype": "text/x-python",
   "name": "python",
   "nbconvert_exporter": "python",
   "pygments_lexer": "ipython2",
   "version": "2.7.12"
  },
  "name": "PCA_using_numpy for HW3",
  "notebookId": 85286,
  "toc": {
   "colors": {
    "hover_highlight": "#DAA520",
    "running_highlight": "#FF0000",
    "selected_highlight": "#FFD700"
   },
   "moveMenuLeft": true,
   "nav_menu": {
    "height": "116px",
    "width": "252px"
   },
   "navigate_menu": true,
   "number_sections": true,
   "sideBar": true,
   "threshold": 4,
   "toc_cell": false,
   "toc_section_display": "block",
   "toc_window_display": false
  }
 },
 "nbformat": 4,
 "nbformat_minor": 0
}
