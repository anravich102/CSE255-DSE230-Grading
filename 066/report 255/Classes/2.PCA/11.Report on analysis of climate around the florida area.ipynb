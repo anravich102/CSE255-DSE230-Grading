{
 "cells": [
  {
   "cell_type": "markdown",
   "metadata": {
    "run_control": {
     "frozen": false,
     "read_only": false
    }
   },
   "source": [
    "# North Florida and South Georgia Weather Analysis\n",
    "\n",
    "This is a report on the historical analysis of weather patterns in an area that approximately overlaps the area of north part of the state of Florida and south part of the state of Georgia. \n",
    "\n",
    "The data we will use here comes from [NOAA](https://www.ncdc.noaa.gov/). Specifically, it was downloaded from This [FTP site](ftp://ftp.ncdc.noaa.gov/pub/data/ghcn/daily/).\n",
    "\n",
    "We focused on six measurements:\n",
    "* **TMIN, TMAX:** the daily minimum and maximum temperature.\n",
    "* **TOBS:** The average temperature for each day.\n",
    "* **PRCP:** Daily Percipitation (in mm)\n",
    "* **SNOW:** Daily snowfall (in mm)\n",
    "* **SNWD:** The depth of accumulated snow.\n",
    "\n",
    "## Sanity-check: comparison with outside sources\n",
    "\n",
    "<p>We start by comparing some of the general statistics with graphs that we obtained from a site called <a href=\"http://www.usclimatedata.com/climate/albany/georgia/united-states/usga0009\" target=\"_blank\">US Climate Data</a> The graph below shows the daily minimum and maximum temperatures for each month, as well as the total precipitation for each month.</p>\n",
    "\n",
    "<p>&nbsp;</p>\n",
    "\n",
    "<p><img alt=\"Climate_Albany_-_Georgia_and_Weather_averages_Albany.jpg\" src=\"f_figures/Climate_Albany_-_Georgia_and_Weather_averages_Albany.jpg\" height=\"500\" width=\"500\"/></p>\n",
    "\n",
    "<p>&nbsp;</p>\n",
    "\n",
    "<p>We see that the min and max daily&nbsp;temperature agree with the ones we got from our data, once we translate Fahrenheit to Centigrade. Notice that Centigrade that we got from the data should divide by 10 because when we try to draw the plot, we have multiplied the Centigrad by 10 to get more accurate numbers. Also, 0 means mean+std, 1 means mean and 2 means mean-std in our plot</p>\n",
    "\n",
    "<p>&nbsp;</p>\n",
    "\n",
    "<p><img alt=\"TMIN,TMAX.png\" src=\"f_figures/TMIN,TMAX.png\" style=\"height:300px; width:800px\" /></p>\n",
    "\n",
    "<p>The left figure (TOBS) belows shows the temperature at the time of observation (tenths of degrees C). We have already compared the min and max daily temperature above, so we just display this figure and won't do too much analysis about it.</p>\n",
    "\n",
    "<p>To compare the precipitation&nbsp;we need to translate millimeter/day to inches/month. According to our analysis the average rainfall is 3.50 mm/day which translates to about 4.27 Inches&nbsp;per month. Notice that in the plot below, the unit is tenths of millimeter. According to US-Climate-Data the average rainfall is closer to 4.29 inch per month. However, there is clear agreement that average precipitation&nbsp;is close to a constant throughout the year</p>\n",
    "\n",
    "<p>&nbsp;<img alt=\"TOBS,PRCP.png\" src=\"f_figures/TOBS,PRCP.png\" style=\"height:300px; width:800px\" /></p>\n",
    "\n",
    "<p>We also try to analyze the data of snowfall (SNOW) and snow depth (SNWD). However, we found the figure quite strange. When searching for the data from the US Climate Data website, we found the data of annual snowfall is blank. After considering about the geographical area of this place, we could figure it out. Areas like Florida and south Georgia is quite hot and seldom snows! So the \"strange plots\" make sense.</p>\n",
    "\n",
    "<p>&nbsp;<img alt=\"SNOW,SNWD.png\" src=\"f_figures/SNOW,SNWD.png\" style=\"height:300px; width:800px\" /></p>\n",
    "\n"
   ]
  },
  {
   "cell_type": "markdown",
   "metadata": {
    "run_control": {
     "frozen": false,
     "read_only": false
    }
   },
   "source": [
    "## PCA analysis\n",
    "\n",
    "For each of the six measurement, we compute the percentate of the variance explained as a function of the number of eigen-vectors used.\n",
    "\n",
    "### Percentage of variance explained.\n",
    "![VarExplained1.png](f_figures/VarExplained1.png)\n",
    "We see that the top 5 eigen-vectors explain 22.5% of variance for TMIN, 50% for TOBS and 21.5% for TMAX.\n",
    "\n",
    "We conclude that of the three, TOBS is best explained by the top 5 eigenvectors. This is especially true for the first eigen-vector which, by itself, explains 40% of the variance.\n",
    "\n",
    "![VarExplained2.png](f_figures/VarExplained2.png)\n",
    "\n",
    "The top 5 eigenvectors explain 6.5% of the variance for PRCP.This is quite a low value. On the other hand the top 5 eigenvectors explain 90% of the variance for SNOW and 92% of the variance for SNWD. This means that these top 5 eigenvectors capture most of the variation in the snow signals. \n",
    "\n",
    "However, as we've mentioned in the first part, north florida and south georgia snows so little that we even cannot find the data on the US Climate website. So maybe the high percentage is because this area snows so little, so the eigenvectors explain the variance for the opposite--not snowing. In this way, it makes no sense to analyze the snow or snow depth further.\n",
    "\n",
    "From the above data and analysis, we can see that only the data of TOBS needs further analysis."
   ]
  },
  {
   "cell_type": "markdown",
   "metadata": {
    "run_control": {
     "frozen": false,
     "read_only": false
    }
   },
   "source": [
    "## Analysis of TOBS\n",
    "\n",
    "We choose to analyze the eigen-decomposition for snow-depth because the first 3 eigen-vectors explain 47% of the variance.\n",
    "\n",
    "First, we graph the mean and the top 3 eigen-vectors.\n",
    "\n",
    "We observe that the snow season is from mid-november to the end of march, where the middle of February marks the peak of the snow-depth.\n",
    "![SNWD_mean_eigs.png](f_figures/TOBS_mean_eigs.png)"
   ]
  },
  {
   "cell_type": "markdown",
   "metadata": {
    "run_control": {
     "frozen": false,
     "read_only": false
    }
   },
   "source": [
    "Next we interpret the eigen-functions. The first eigen-function (eig1) doesn't change so much for the whole year, but we could still find there is a little concave in the middle. So it has an opposite shape to the mean function. The interpretation of this shape is that eig1 represents the overall amount of temperature above/below the mean, but in an opposite way. Maybe that's because most of the time, the temperature in this area is quite high, so the low temperature will conspicuous when it occurs.\n",
    "\n",
    "**eig2,eig3 and eig4** are similar in the following way. They all oscilate between positive and negative values before April and after October. But from April to October, most of the time they are negative values and quite close to 0. This may agree with our assumption above when we're analyzing the first eigen_vector. That is the temperature in North Florida and South Georgia is ofter high, so when the low temperature occurs, it will be quite obvious.\n",
    "\n",
    "They can be interpreted as follows:\n",
    "* **eig2:** extrem temperature in jan, feb.\n",
    "* **eig3:** extrem temperature in mar, nov, dec."
   ]
  },
  {
   "cell_type": "markdown",
   "metadata": {
    "run_control": {
     "frozen": false,
     "read_only": false
    }
   },
   "source": [
    "### Examples of reconstructions\n",
    "\n",
    "#### Coeff1\n",
    "Coeff1: most positive\n",
    "![TOBS_grid_Pos_coeff1.png](f_figures/TOBS_grid_Pos_coeff1.png)\n",
    "Coeff1: most negative\n",
    "![TOBS_grid_neg_coeff1.png](f_figures/TOBS_grid_neg_coeff1.png)\n",
    "Large positive values of coeff1 correspond to more than average temperature. Low values correspond to less than average temperature.\n",
    "\n",
    "#### Coeff2\n",
    "Coeff2: most positive\n",
    "![TOBS_grid_Pos_coeff2.png](f_figures/TOBS_grid_Pos_coeff2.png)\n",
    "Coeff2: most negative\n",
    "![TOBS_grid_neg_coeff2.png](f_figures/TOBS_grid_neg_coeff2.png)\n",
    "\n",
    "Large positive values of coeff2 correspond to extrem temperature in jan, feb.\n",
    "#### Coeff3\n",
    "Coeff3: most positive\n",
    "![TOBS_grid_Pos_coeff3.png](f_figures/TOBS_grid_Pos_coeff3.png)\n",
    "Coeff3: most negative\n",
    "![TOBS_grid_neg_coeff3.png](f_figures/TOBS_grid_neg_coeff3.png)\n",
    "\n",
    "Large positive values of coeff3 correspond to extrem temperature in mar, nov, dec.\n"
   ]
  },
  {
   "cell_type": "markdown",
   "metadata": {},
   "source": [
    "## The variation in the timing of TOBS is mostly due to year-to-year variation\n",
    "In the previous section we see the variation of Coeff1, which corresponds to the total amount of temperature, with respect to location. We now estimate the relative importance of location-to-location variation relative to year-by-year variation.\n",
    "\n",
    "These are measured using the fraction by which the variance is reduced when we subtract from each station/year entry the average-per-year or the average-per-station respectively. Here are the results:\n",
    "\n",
    "** coeff_1 **  \n",
    "total RMS                   =  674.043460101\n",
    "RMS removing mean-by-station=  434.276787772\n",
    "RMS removing mean-by-year   =  586.535794514\n",
    "\n",
    "\n",
    "** coeff_2 **  \n",
    "total RMS                   =  198.26720752\n",
    "RMS removing mean-by-station=  190.278337595\n",
    "RMS removing mean-by-year   =  106.61472991\n",
    "\n",
    "** coeff_3 **  \n",
    "total RMS                   =  177.831573837\n",
    "RMS removing mean-by-station=  170.448535714\n",
    "RMS removing mean-by-year   =  99.9942357097\n",
    "\n",
    "\n",
    "We see that the variation by year explains more than the variation by station. However this effect is weaker consider coeff_1. For coeff_1, the variation by station explains more than the year."
   ]
  }
 ],
 "metadata": {
  "anaconda-cloud": {},
  "kernelspec": {
   "display_name": "Python [Root]",
   "language": "python",
   "name": "Python [Root]"
  },
  "language_info": {
   "codemirror_mode": {
    "name": "ipython",
    "version": 2
   },
   "file_extension": ".py",
   "mimetype": "text/x-python",
   "name": "python",
   "nbconvert_exporter": "python",
   "pygments_lexer": "ipython2",
   "version": "2.7.12"
  },
  "toc": {
   "colors": {
    "hover_highlight": "#DAA520",
    "running_highlight": "#FF0000",
    "selected_highlight": "#FFD700"
   },
   "moveMenuLeft": true,
   "nav_menu": {
    "height": "12px",
    "width": "252px"
   },
   "navigate_menu": true,
   "number_sections": true,
   "sideBar": true,
   "threshold": 4,
   "toc_cell": false,
   "toc_section_display": "block",
   "toc_window_display": false
  }
 },
 "nbformat": 4,
 "nbformat_minor": 2
}
