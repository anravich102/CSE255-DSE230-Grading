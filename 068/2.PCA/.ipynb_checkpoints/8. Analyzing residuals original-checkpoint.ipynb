{
 "cells": [
  {
   "cell_type": "code",
   "execution_count": 1,
   "metadata": {
    "collapsed": true,
    "deletable": true,
    "editable": true,
    "run_control": {
     "frozen": false,
     "read_only": false
    }
   },
   "outputs": [],
   "source": [
    "#setup\n",
    "data_dir='../../Data/Weather'\n",
    "#file_index='BBBSBBBB'\n",
    "file_index='SSSSBSBB'\n",
    "meas='PRCP'"
   ]
  },
  {
   "cell_type": "markdown",
   "metadata": {
    "deletable": true,
    "editable": true,
    "run_control": {
     "frozen": false,
     "read_only": false
    },
    "slideshow": {
     "slide_type": "slide"
    },
    "variables": {
     "meas": "PRCP"
    }
   },
   "source": [
    "# Reconstruction using top eigen-vectors\n",
    "For measurement = {{meas}}"
   ]
  },
  {
   "cell_type": "markdown",
   "metadata": {
    "deletable": true,
    "editable": true,
    "run_control": {
     "frozen": false,
     "read_only": false
    },
    "slideshow": {
     "slide_type": "skip"
    }
   },
   "source": [
    "## Load the required libraries"
   ]
  },
  {
   "cell_type": "code",
   "execution_count": 2,
   "metadata": {
    "collapsed": false,
    "deletable": true,
    "editable": true,
    "run_control": {
     "frozen": false,
     "read_only": false
    },
    "slideshow": {
     "slide_type": "skip"
    }
   },
   "outputs": [],
   "source": [
    "# Enable automiatic reload of libraries\n",
    "#%load_ext autoreload\n",
    "#%autoreload 2 # means that all modules are reloaded before every command"
   ]
  },
  {
   "cell_type": "code",
   "execution_count": 3,
   "metadata": {
    "collapsed": false,
    "deletable": true,
    "editable": true,
    "run_control": {
     "frozen": false,
     "read_only": false
    },
    "slideshow": {
     "slide_type": "skip"
    }
   },
   "outputs": [
    {
     "name": "stdout",
     "output_type": "stream",
     "text": [
      "Populating the interactive namespace from numpy and matplotlib\n",
      "    pandas as    pd \tversion=0.20.1 \trequired version>=0.19.2\n",
      "     numpy as    np \tversion=1.11.3 \trequired version>=1.12.0 ******* Update Version ******\n",
      "   sklearn as    sk \tversion=0.18.1 \trequired version>=0.18.1\n",
      "    urllib as urllib \tversion=1.17 \trequired version>=1.17\n",
      "   pyspark as pyspark \tversion=2.1.0+hadoop2.6 \trequired version>=2.1.0\n",
      "ipywidgets as ipywidgets \tversion=6.0.0 \trequired version>=6.0.0\n"
     ]
    }
   ],
   "source": [
    "%pylab inline\n",
    "import numpy as np\n",
    "\n",
    "import findspark\n",
    "findspark.init()\n",
    "\n",
    "import sys\n",
    "sys.path.append('./lib')\n",
    "\n",
    "from numpy_pack import packArray,unpackArray\n",
    "\n",
    "from Eigen_decomp import Eigen_decomp\n",
    "from YearPlotter import YearPlotter\n",
    "from recon_plot import recon_plot\n",
    "\n",
    "from import_modules import import_modules,modules\n",
    "import_modules(modules)\n",
    "\n",
    "from ipywidgets import interactive,widgets"
   ]
  },
  {
   "cell_type": "code",
   "execution_count": 4,
   "metadata": {
    "collapsed": false,
    "deletable": true,
    "editable": true,
    "run_control": {
     "frozen": false,
     "read_only": false
    },
    "slideshow": {
     "slide_type": "skip"
    }
   },
   "outputs": [],
   "source": [
    "from pyspark import SparkContext\n",
    "#sc.stop()\n",
    "\n",
    "sc = SparkContext(master=\"local[3]\",pyFiles=['lib/numpy_pack.py','lib/spark_PCA.py','lib/computeStats.py','lib/recon_plot.py','lib/Eigen_decomp.py'])\n",
    "\n",
    "from pyspark import SparkContext\n",
    "from pyspark.sql import *\n",
    "sqlContext = SQLContext(sc)"
   ]
  },
  {
   "cell_type": "markdown",
   "metadata": {
    "deletable": true,
    "editable": true,
    "run_control": {
     "frozen": false,
     "read_only": false
    },
    "slideshow": {
     "slide_type": "slide"
    }
   },
   "source": [
    "## Read Statistics File"
   ]
  },
  {
   "cell_type": "code",
   "execution_count": 5,
   "metadata": {
    "collapsed": false,
    "deletable": true,
    "editable": true,
    "run_control": {
     "frozen": false,
     "read_only": false
    },
    "slideshow": {
     "slide_type": "subslide"
    }
   },
   "outputs": [
    {
     "name": "stdout",
     "output_type": "stream",
     "text": [
      "keys from STAT= ['TMIN', 'TOBS', 'TMAX', 'SNOW', 'SNWD', 'PRCP']\n"
     ]
    }
   ],
   "source": [
    "from pickle import load\n",
    "\n",
    "#read statistics\n",
    "filename=data_dir+'/STAT_%s.pickle'%file_index\n",
    "STAT,STAT_Descriptions = load(open(filename,'rb'))\n",
    "measurements=STAT.keys()\n",
    "print 'keys from STAT=',measurements"
   ]
  },
  {
   "cell_type": "markdown",
   "metadata": {
    "deletable": true,
    "editable": true,
    "run_control": {
     "frozen": false,
     "read_only": false
    },
    "slideshow": {
     "slide_type": "slide"
    }
   },
   "source": [
    "## Read data file into a spark DataFrame\n",
    "We focus on the snow-depth records, because the eigen-vectors for them make sense."
   ]
  },
  {
   "cell_type": "code",
   "execution_count": 6,
   "metadata": {
    "collapsed": false,
    "deletable": true,
    "editable": true,
    "run_control": {
     "frozen": false,
     "read_only": false
    },
    "scrolled": true,
    "slideshow": {
     "slide_type": "subslide"
    }
   },
   "outputs": [
    {
     "name": "stdout",
     "output_type": "stream",
     "text": [
      "+-------------------+-------------------+------------------+---------+--------+--------+---------+-----------+------------------+------------------+------------------+------------------+-----------+---------+------+--------------------+------+\n",
      "|            coeff_1|            coeff_2|           coeff_3|elevation|   label|latitude|longitude|measurement|             res_1|             res_2|             res_3|          res_mean|    station|total_var|undefs|              vector|  year|\n",
      "+-------------------+-------------------+------------------+---------+--------+--------+---------+-----------+------------------+------------------+------------------+------------------+-----------+---------+------+--------------------+------+\n",
      "| -46.25046595135476|-214.73042660812447|199.57006811080117|   2001.0|SSSSBSBB| 32.9167|-105.4667|       PRCP|0.9958178383853655|0.9056699080039825| 0.827801840289754|0.9205614018580083|USC00295502| 555621.0|     0|[00 00 00 00 00 0...|1924.0|\n",
      "| 47.964822464336066| -182.7882540618558|40.199825298181935|   1320.1|SSSSBSBB| 32.3818|-106.7507|       PRCP|0.9988978233471784|0.8286231186384471|0.8268916525863714| 0.931795810204636|US1NMDA0061| 272893.0|    12|[00 00 00 00 00 0...|2010.0|\n",
      "|-269.57387697046454| 126.47819111183578|-283.2333132586069|   2272.0|SSSSBSBB| 33.2333|  -105.55|       PRCP|0.9232565144773496|0.9084392961757702|0.8268450176512834|0.8543586575919004|USC00299697|1253726.0|    21|[00 00 00 00 00 0...|1931.0|\n",
      "| -225.9488570402615|  228.6831657955183|-43.75886772805694|   1454.8|SSSSBSBB| 32.8339|-108.5047|       PRCP|0.9177951076003646|0.8288136151515995| 0.826312228904263|0.8471398583174528|USC00291910| 746509.0|     2|[00 00 00 00 00 0...|2006.0|\n",
      "| -256.4106877879846| 247.56967621561563| 132.8276052139551|   1605.4|SSSSBSBB| 32.9203|-107.5656|       PRCP|0.9195136829307851|0.8444819969432771|0.8228833525899665|0.8683086320555583|USC00294009| 940754.0|     0|[00 00 00 00 00 0...|2006.0|\n",
      "+-------------------+-------------------+------------------+---------+--------+--------+---------+-----------+------------------+------------------+------------------+------------------+-----------+---------+------+--------------------+------+\n",
      "only showing top 5 rows\n",
      "\n"
     ]
    }
   ],
   "source": [
    "#read data\n",
    "filename=data_dir+'/decon_%s_%s.parquet'%(file_index,meas)\n",
    "df_in=sqlContext.read.parquet(filename)\n",
    "#filter in \n",
    "df=df_in.filter(df_in.measurement==meas)\n",
    "df.show(5)"
   ]
  },
  {
   "cell_type": "markdown",
   "metadata": {
    "deletable": true,
    "editable": true,
    "run_control": {
     "frozen": false,
     "read_only": false
    },
    "slideshow": {
     "slide_type": "slide"
    }
   },
   "source": [
    "### Plot Mean and Eigenvecs"
   ]
  },
  {
   "cell_type": "code",
   "execution_count": 7,
   "metadata": {
    "collapsed": false,
    "deletable": true,
    "editable": true,
    "run_control": {
     "frozen": false,
     "read_only": false
    },
    "scrolled": false,
    "slideshow": {
     "slide_type": "subslide"
    }
   },
   "outputs": [
    {
     "data": {
      "image/png": "[encoded data removed]",
      "text/plain": [
       "<matplotlib.figure.Figure at 0x10d6f7850>"
      ]
     },
     "metadata": {},
     "output_type": "display_data"
    }
   ],
   "source": [
    "m=meas\n",
    "fig,axes=plt.subplots(2,1, sharex='col', sharey='row',figsize=(10,6));\n",
    "k=3\n",
    "EigVec=np.matrix(STAT[m]['eigvec'][:,:k])\n",
    "Mean=STAT[m]['Mean']\n",
    "YearPlotter().plot(Mean,fig,axes[0],label='Mean',title=m+' Mean')\n",
    "YearPlotter().plot(EigVec,fig,axes[1],title=m+' Eigs',labels=['eig'+str(i+1) for i in range(k)])"
   ]
  },
  {
   "cell_type": "markdown",
   "metadata": {
    "deletable": true,
    "editable": true,
    "run_control": {
     "frozen": false,
     "read_only": false
    },
    "slideshow": {
     "slide_type": "subslide"
    }
   },
   "source": [
    "### plot the percent of residual variance on average"
   ]
  },
  {
   "cell_type": "code",
   "execution_count": 8,
   "metadata": {
    "collapsed": false,
    "deletable": true,
    "editable": true,
    "run_control": {
     "frozen": false,
     "read_only": false
    },
    "scrolled": false
   },
   "outputs": [
    {
     "data": {
      "image/png": "[encoded data removed]",
      "text/plain": [
       "<matplotlib.figure.Figure at 0x10d6f7350>"
      ]
     },
     "metadata": {},
     "output_type": "display_data"
    }
   ],
   "source": [
    "#  x=0 in the graphs below correspond to the fraction of the variance explained by the mean alone\n",
    "#  x=1,2,3,... are the residuals for eig1, eig1+eig2, eig1+eig2+eig3 ...\n",
    "fig,ax=plt.subplots(1,1);\n",
    "eigvals=STAT[m]['eigval']; eigvals/=sum(eigvals); cumvar=cumsum(eigvals); cumvar=100*np.insert(cumvar,0,0)\n",
    "ax.plot(cumvar[:10]); \n",
    "ax.grid(); \n",
    "ax.set_ylabel('Percent of variance explained')\n",
    "ax.set_xlabel('number of eigenvectors')\n",
    "ax.set_title('Percent of variance explained');"
   ]
  },
  {
   "cell_type": "markdown",
   "metadata": {
    "deletable": true,
    "editable": true,
    "run_control": {
     "frozen": false,
     "read_only": false
    }
   },
   "source": [
    "### How well-explained are the vectors in this collection?\n",
    "\n",
    "To answer this question we extract all of the values of `res_3` which is the residual variance after the Mean and the \n",
    "first two Eigen-vectors have been subtracted out. We rely here on the fact that `df3` is already sorted according to `res_3`"
   ]
  },
  {
   "cell_type": "code",
   "execution_count": 9,
   "metadata": {
    "collapsed": true,
    "deletable": true,
    "editable": true,
    "run_control": {
     "frozen": false,
     "read_only": false
    }
   },
   "outputs": [],
   "source": [
    "# A function for plotting the CDF of a given feature\n",
    "def plot_CDF(df,feat):\n",
    "    rows=df.select(feat).sort(feat).collect()\n",
    "    vals=[r[feat] for r in rows]\n",
    "    P=np.arange(0,1,1./(len(vals)))\n",
    "    while len(vals)< len(P):\n",
    "        vals=[vals[0]]+vals\n",
    "    plot(vals,P)\n",
    "    title('cumulative distribution of '+feat)\n",
    "    ylabel('fraction of instances')\n",
    "    xlabel(feat)\n",
    "    grid()\n",
    "    "
   ]
  },
  {
   "cell_type": "code",
   "execution_count": 10,
   "metadata": {
    "collapsed": false,
    "deletable": true,
    "editable": true,
    "run_control": {
     "frozen": false,
     "read_only": false
    }
   },
   "outputs": [
    {
     "data": {
      "image/png": "[encoded data removed]",
      "text/plain": [
       "<matplotlib.figure.Figure at 0x10daaee10>"
      ]
     },
     "metadata": {},
     "output_type": "display_data"
    }
   ],
   "source": [
    "plot_CDF(df,'res_3')"
   ]
  },
  {
   "cell_type": "code",
   "execution_count": 11,
   "metadata": {
    "collapsed": false,
    "deletable": true,
    "editable": true,
    "run_control": {
     "frozen": false,
     "read_only": false
    }
   },
   "outputs": [
    {
     "data": {
      "text/plain": [
       "(u'USC00295502', 1924.0)"
      ]
     },
     "execution_count": 11,
     "metadata": {},
     "output_type": "execute_result"
    }
   ],
   "source": [
    "rows=df.rdd.map(lambda row:(row.station,row.year,unpackArray(row['vector'],np.float16))).collect()\n",
    "rows[0][:2]"
   ]
  },
  {
   "cell_type": "code",
   "execution_count": 12,
   "metadata": {
    "collapsed": false,
    "deletable": true,
    "editable": true,
    "run_control": {
     "frozen": false,
     "read_only": false
    },
    "scrolled": false
   },
   "outputs": [
    {
     "data": {
      "text/plain": [
       "43800"
      ]
     },
     "execution_count": 12,
     "metadata": {},
     "output_type": "execute_result"
    }
   ],
   "source": [
    "days=set([r[1] for r in rows])\n",
    "miny=min(days)\n",
    "maxy=max(days)\n",
    "record_len=int((maxy-miny+1)*365)\n",
    "record_len"
   ]
  },
  {
   "cell_type": "code",
   "execution_count": 13,
   "metadata": {
    "collapsed": false,
    "deletable": true,
    "editable": true,
    "run_control": {
     "frozen": false,
     "read_only": false
    }
   },
   "outputs": [],
   "source": [
    "## combine the measurements for each station into a single long array with an entry for each day of each day\n",
    "All={}  # a dictionary with a numpy array for each day of each day\n",
    "i=0\n",
    "for station,day,vector in rows:\n",
    "    i+=1; \n",
    "    # if i%1000==0: print i,len(All)\n",
    "    if not station in All:\n",
    "        a=np.zeros(record_len)\n",
    "        a.fill(np.nan)\n",
    "        All[station]=a\n",
    "    loc = int((day-miny)*365)\n",
    "    All[station][loc:loc+365]=vector"
   ]
  },
  {
   "cell_type": "code",
   "execution_count": 14,
   "metadata": {
    "collapsed": false,
    "deletable": true,
    "editable": true,
    "run_control": {
     "frozen": false,
     "read_only": false
    }
   },
   "outputs": [],
   "source": [
    "from datetime import date\n",
    "d=datetime.date(int(miny), month=1, day=1)\n",
    "start=d.toordinal()\n",
    "dates=[date.fromordinal(i) for i in range(start,start+record_len)]"
   ]
  },
  {
   "cell_type": "code",
   "execution_count": 15,
   "metadata": {
    "collapsed": false,
    "deletable": true,
    "editable": true,
    "run_control": {
     "frozen": false,
     "read_only": false
    }
   },
   "outputs": [
    {
     "name": "stdout",
     "output_type": "stream",
     "text": [
      "US1NMOT0063 342\n",
      "USC00291286 19852\n",
      "USC00299128 6341\n",
      "USC00296845 1080\n",
      "USC00022754 22805\n",
      "USC00292468 1061\n",
      "USC00298872 365\n",
      "USC00297340 32587\n",
      "USC00293015 730\n",
      "USC00295532 4735\n",
      "USC00290806 4736\n",
      "US1NMSR0005 358\n",
      "USC00294426 24352\n",
      "USC00293951 4703\n",
      "USC00296854 18290\n",
      "US1NMOT0027 2142\n",
      "US1NMOT0013 2424\n",
      "US1NMOT0012 327\n",
      "US1NMOT0011 324\n",
      "US1NMOT0017 648\n",
      "USC00299720 15831\n",
      "US1NMOT0015 998\n",
      "USC00291901 9257\n",
      "USC00292865 21850\n",
      "US1NMDA0127 1344\n",
      "USC00299806 19310\n",
      "US1NMGR0034 330\n",
      "US1NMGR0033 1081\n",
      "US1NMGR0031 653\n",
      "USC00295244 1401\n",
      "USC00294146 365\n",
      "USC00293826 2919\n",
      "USC00297738 318\n",
      "US1NMDA0108 362\n",
      "USC00297735 4682\n",
      "USC00297737 319\n",
      "US1NMOT0001 2417\n",
      "US1NMOT0002 701\n",
      "USC00298819 3951\n",
      "US1NMOT0006 1427\n",
      "US1NMOT0008 1404\n",
      "US1NMGR0027 1460\n",
      "US1NMGR0023 320\n",
      "USW00023002 3644\n",
      "USC00298324 17790\n",
      "USC00298838 5470\n",
      "USC00299508 6818\n",
      "USC00292945 10036\n",
      "USC00295657 18617\n",
      "USC00291252 19502\n",
      "USC00295754 28496\n",
      "US1NMDA0112 1437\n",
      "US1NMGR0018 1815\n",
      "US1NMOT0037 2129\n",
      "US1NMOT0036 1797\n",
      "USC00292848 25404\n",
      "US1NMOT0032 1764\n",
      "US1NMGR0011 1688\n",
      "USC00299583 1737\n",
      "US1NMGR0012 1439\n",
      "US1NMOT0039 2136\n",
      "US1NMGR0014 330\n",
      "USC00293265 38869\n",
      "USC00293577 20353\n",
      "USC00293575 1458\n",
      "USC00291927 21773\n",
      "USW00093045 10545\n",
      "USC00292597 319\n",
      "USC00023258 9625\n",
      "USC00295502 20348\n",
      "US1NMDA0024 2146\n",
      "US1NMOT0022 364\n",
      "US1NMOT0023 344\n",
      "USC00297651 1825\n",
      "US1NMOT0021 332\n",
      "USC00290200 10719\n",
      "USC00294786 2188\n",
      "US1NMGR0009 1416\n",
      "US1NMGR0006 1679\n",
      "US1NMGR0007 1706\n",
      "US1NMGR0004 2148\n",
      "US1NMGR0005 1818\n",
      "US1NMDA0167 1079\n",
      "USC00296803 6921\n",
      "US1NMGR0001 2513\n",
      "USC00291931 8265\n",
      "USC00291933 1456\n",
      "USC00292620 327\n",
      "USC00299697 9341\n",
      "USC00299691 22113\n",
      "US1NMDA0197 703\n",
      "USC00292965 3968\n",
      "USC00292960 4741\n",
      "USC00294506 10847\n",
      "USC00296435 25922\n",
      "USW00053026 363\n",
      "USC00294009 28169\n",
      "USC00293615 1019\n",
      "US1NMDA0050 1093\n",
      "USC00293855 20670\n",
      "USC00299199 3584\n",
      "US1NMOT0056 1342\n",
      "US1NMOT0051 1021\n",
      "USC00294864 2799\n",
      "USW00093063 2555\n",
      "USC00299686 18146\n",
      "USW00023039 1773\n",
      "USC00293909 2171\n",
      "USC00299165 25082\n",
      "USC00293157 19854\n",
      "US1NMDA0040 2171\n",
      "US1NMDA0041 2172\n",
      "US1NMOT0005 341\n",
      "USC00290199 28746\n",
      "US1NMOT0044 1054\n",
      "US1NMOT0045 357\n",
      "US1NMOT0046 1387\n",
      "US1NMOT0042 357\n",
      "USC00290268 14489\n",
      "USW00003074 724\n",
      "USC00291910 23254\n",
      "USW00023046 365\n",
      "USC00291279 668\n",
      "US1NMOT0059 658\n",
      "USC00295960 30797\n",
      "USC00293448 1763\n",
      "US1NMLU0042 365\n",
      "USS0008T01S 5360\n",
      "USC00293528 1454\n",
      "US1NMDA0011 1821\n",
      "USC00295710 1067\n",
      "US1NMDA0019 334\n",
      "USC00293225 11761\n",
      "USC00293533 2913\n",
      "USC00293530 18546\n",
      "USC00296579 16667\n",
      "USC00292324 11524\n",
      "US1NMDA0061 1372\n",
      "USC00298095 1086\n",
      "US1NMSR0013 365\n"
     ]
    }
   ],
   "source": [
    "for station in All:\n",
    "    print station, np.count_nonzero(~np.isnan(All[station]))"
   ]
  },
  {
   "cell_type": "code",
   "execution_count": 16,
   "metadata": {
    "collapsed": false,
    "deletable": true,
    "editable": true,
    "run_control": {
     "frozen": false,
     "read_only": false
    }
   },
   "outputs": [
    {
     "name": "stdout",
     "output_type": "stream",
     "text": [
      "(140, 43800)\n"
     ]
    }
   ],
   "source": [
    "Stations=sorted(All.keys())\n",
    "A=[]\n",
    "for station in Stations:\n",
    "    A.append(All[station])\n",
    "\n",
    "day_station_table=np.hstack([A])\n",
    "print shape(day_station_table)"
   ]
  },
  {
   "cell_type": "code",
   "execution_count": 17,
   "metadata": {
    "collapsed": false,
    "deletable": true,
    "editable": true,
    "run_control": {
     "frozen": false,
     "read_only": false
    }
   },
   "outputs": [
    {
     "name": "stdout",
     "output_type": "stream",
     "text": [
      "total RMS                   =  "
     ]
    },
    {
     "name": "stderr",
     "output_type": "stream",
     "text": [
      "/Users/a_jing/Documents/Useful/Dev/anaconda/lib/python2.7/site-packages/numpy/lib/nanfunctions.py:703: RuntimeWarning: Mean of empty slice\n",
      "  warnings.warn(\"Mean of empty slice\", RuntimeWarning)\n"
     ]
    },
    {
     "name": "stdout",
     "output_type": "stream",
     "text": [
      "41.1126426405\n",
      "RMS removing mean-by-station=  39.7108691519\n",
      "RMS removing mean-by-day   =  32.2030543951\n"
     ]
    }
   ],
   "source": [
    "def RMS(Mat):\n",
    "    return np.sqrt(np.nanmean(Mat**2))\n",
    "\n",
    "mean_by_day=np.nanmean(day_station_table,axis=0)\n",
    "mean_by_station=np.nanmean(day_station_table,axis=1)\n",
    "tbl_minus_day = day_station_table-mean_by_day\n",
    "tbl_minus_station = (day_station_table.transpose()-mean_by_station).transpose()\n",
    "\n",
    "print 'total RMS                   = ',RMS(day_station_table)\n",
    "print 'RMS removing mean-by-station= ',RMS(tbl_minus_station)\n",
    "print 'RMS removing mean-by-day   = ',RMS(tbl_minus_day)"
   ]
  },
  {
   "cell_type": "code",
   "execution_count": 18,
   "metadata": {
    "collapsed": false,
    "deletable": true,
    "editable": true,
    "run_control": {
     "frozen": false,
     "read_only": false
    },
    "scrolled": false
   },
   "outputs": [
    {
     "data": {
      "text/plain": [
       "<matplotlib.text.Text at 0x11664fe90>"
      ]
     },
     "execution_count": 18,
     "metadata": {},
     "output_type": "execute_result"
    },
    {
     "data": {
      "image/png": "[encoded data removed]",
      "text/plain": [
       "<matplotlib.figure.Figure at 0x11662b390>"
      ]
     },
     "metadata": {},
     "output_type": "display_data"
    }
   ],
   "source": [
    "RT=day_station_table\n",
    "F=RT.flatten()\n",
    "NN=F[~np.isnan(F)]\n",
    "\n",
    "NN.sort()\n",
    "P=np.arange(0.,1.,1./len(NN))\n",
    "plot(NN,P[1:])\n",
    "grid()\n",
    "title('CDF of daily rainfall')\n",
    "xlabel('daily rainfall')\n",
    "ylabel('cumulative probability')"
   ]
  },
  {
   "cell_type": "markdown",
   "metadata": {
    "deletable": true,
    "editable": true,
    "run_control": {
     "frozen": false,
     "read_only": false
    }
   },
   "source": [
    "### Conclusions\n",
    "It is likely to be hard to find correlations between the **amount** of rain on the same day in different stations. Because amounts of rain vary a lot between even close locations. It is more reasonable to try to compare whether or not it rained on the same day in different stations. As we see from the graph above, in our region it rains in about one third of the days.\n",
    "\n",
    "### measuring statistical significance\n",
    "We want to find a statistical test for rejecting the null hypothesis that says that the rainfall in the two locations is independent.\n",
    "\n",
    "Using the inner product is too noisy, because you multiply the rainfall on the same day in two locations and that product can be very large - leading to a large variance and poor ability to discriminate.\n",
    "\n",
    "An alternative is to ignore the amount of rain, and just ask whether it rained in both locations. We can then compute the probability associated with the number of overlaps under the null hypothesis."
   ]
  },
  {
   "cell_type": "markdown",
   "metadata": {
    "deletable": true,
    "editable": true,
    "run_control": {
     "frozen": false,
     "read_only": false
    }
   },
   "source": [
    "Fix two stations. We restrict our attention to the days for which we have measurements for both stations, and define the following notation:\n",
    "* $m$ : the total number of days (for which we have measurements for both stations).\n",
    "* $n_1$ : the number of days that it rained on station 1\n",
    "* $n_2$ : the number of days that it rained on station 2\n",
    "* $l$ : the number of days that it rained on both stations.\n",
    "\n",
    "We want to calculate the probability that the number of overlap days is $l$ given $m,n_1,n_2$.\n",
    "\n",
    "The answer is:\n",
    "$$\n",
    "P = {m \\choose l,n_1-l,n_2-l,m-n_1-n_2+l} /{m \\choose n_1}{m \\choose n_2}\n",
    "$$\n",
    "\n",
    "Where\n",
    "$$\n",
    "{m \\choose l,n_1-l,n_2-l,m-n_1-n_2+l} = \\frac{m!}{l! (n_1-l)! (n_2-l)! (m-n_1-n_2+l)!}\n",
    "$$\n",
    "\n",
    "We use the fact that $\\Gamma(n+1) = n!$ and denote $G(n) \\doteq \\log \\Gamma(n+1)$\n",
    "$$\n",
    "\\log P = \\left[G(m) - G(l) -G(n_1-l) -G(n_2-l) -G(m-n_1-n_2+l) \\right] - \n",
    "\\left[G(m)-G(n_1)-G(m-n_1)\\right] - \\left[G(m)-G(n_2)-G(m-n_2)\\right]\n",
    "$$\n",
    "Which slightly simplifies to \n",
    "$$\n",
    "\\log P = -G(l) -G(n_1-l) -G(n_2-l) -G(m-n_1-n_2+l) - G(m)+G(n_1)+G(m-n_1) +G(n_2)+G(m-n_2)\n",
    "$$\n",
    "\n",
    "The log probability scales with $m$ the length of the overlap. So to get a per-day significance we consider $\n",
    "\\frac{1}{m} \\log P $"
   ]
  },
  {
   "cell_type": "code",
   "execution_count": 19,
   "metadata": {
    "collapsed": false,
    "deletable": true,
    "editable": true,
    "run_control": {
     "frozen": false,
     "read_only": false
    }
   },
   "outputs": [
    {
     "data": {
      "text/plain": [
       "0.501843349103545"
      ]
     },
     "execution_count": 19,
     "metadata": {},
     "output_type": "execute_result"
    }
   ],
   "source": [
    "from scipy.special import gammaln,factorial\n",
    "#for i in range(10):\n",
    "#    print exp(gammaln(i+1))-factorial(i)\n",
    "def G(n):\n",
    "    return gammaln(n+1)\n",
    "def LogProb(m,l,n1,n2):\n",
    "    logP=-G(l)-G(n1-l)-G(n2-l)-G(m-n1-n2+l)-G(m)+G(n1)+G(m-n1)+G(n2)+G(m-n2)\n",
    "    return logP/m\n",
    "exp(LogProb(1000,0,500,500))"
   ]
  },
  {
   "cell_type": "code",
   "execution_count": 20,
   "metadata": {
    "collapsed": false,
    "deletable": true,
    "editable": true,
    "run_control": {
     "frozen": false,
     "read_only": false
    }
   },
   "outputs": [
    {
     "name": "stdout",
     "output_type": "stream",
     "text": [
      "19852\n",
      "6341\n",
      "4531\n",
      "4531\n"
     ]
    }
   ],
   "source": [
    "#USC00193270 21482\n",
    "#USC00193702 28237\n",
    "#X=copy(All['USC00193270'])\n",
    "#Y=copy(All['USC00193702'])\n",
    "\n",
    "#USC00291286 19852\n",
    "#USC00299128 6341\n",
    "X=copy(All['USC00291286'])\n",
    "Y=copy(All['USC00299128'])\n",
    "print sum(~np.isnan(X))\n",
    "print sum(~np.isnan(Y))\n",
    "X[np.isnan(Y)]=np.nan\n",
    "Y[np.isnan(X)]=np.nan\n",
    "print sum(~np.isnan(X))\n",
    "print sum(~np.isnan(Y))\n"
   ]
  },
  {
   "cell_type": "code",
   "execution_count": 21,
   "metadata": {
    "collapsed": false,
    "deletable": true,
    "editable": true,
    "run_control": {
     "frozen": false,
     "read_only": false
    }
   },
   "outputs": [
    {
     "name": "stdout",
     "output_type": "stream",
     "text": [
      "(-0.064182337478822252, 4531)\n"
     ]
    }
   ],
   "source": [
    "def computeLogProb(X,Y):\n",
    "    X[np.isnan(Y)]=np.nan\n",
    "    Y[np.isnan(X)]=np.nan\n",
    "    G=~isnan(X)\n",
    "    m=sum(G)\n",
    "    XG=X[G]>0\n",
    "    YG=Y[G]>0\n",
    "    n1=sum(XG)\n",
    "    n2=sum(YG)\n",
    "    l=sum(XG*YG)\n",
    "    logprob=LogProb(m,l,n1,n2)\n",
    "    # print 'm=%d,l=%d,n1=%d,n2=%d,LogPval=%f'%(m,l,n1,n2,logprob)\n",
    "    return logprob,m\n",
    "print computeLogProb(X,Y)"
   ]
  },
  {
   "cell_type": "markdown",
   "metadata": {},
   "source": [
    "### calculate the normalized log probability for each pair of stations."
   ]
  },
  {
   "cell_type": "code",
   "execution_count": 22,
   "metadata": {
    "collapsed": false,
    "deletable": true,
    "editable": true,
    "run_control": {
     "frozen": false,
     "read_only": false
    }
   },
   "outputs": [
    {
     "name": "stdout",
     "output_type": "stream",
     "text": [
      "0 1 2 3 4"
     ]
    },
    {
     "name": "stderr",
     "output_type": "stream",
     "text": [
      "/Users/a_jing/Documents/Useful/Dev/anaconda/lib/python2.7/site-packages/ipykernel_launcher.py:8: RuntimeWarning: invalid value encountered in double_scalars\n",
      "  \n"
     ]
    },
    {
     "name": "stdout",
     "output_type": "stream",
     "text": [
      " 5 6 7 8 9 10 11 12 13 14 15 16 17 18 19 20 21 22 23 24 25 26 27 28 29 30 31 32 33 34 35 36 37 38 39 40 41 42 43 44 45 46 47 48 49 50 51 52 53 54 55 56 57 58 59 60 61 62 63 64 65 66 67 68 69 70 71 72 73 74 75 76 77 78 79 80 81 82 83 84 85 86 87 88 89 90 91 92 93 94 95 96 97 98 99 100 101 102 103 104 105 106 107 108 109 110 111 112 113 114 115 116 117 118 119 120 121 122 123 124 125 126 127 128 129 130 131 132 133 134 135 136 137 138 139\n"
     ]
    }
   ],
   "source": [
    "L=len(Stations)\n",
    "Pvals=np.zeros([L,L])\n",
    "Length=np.zeros([L,L])\n",
    "P_norm=np.zeros([L,L])\n",
    "for i in range(L):\n",
    "    print i,\n",
    "    for j in range(L):\n",
    "        if i==j: \n",
    "            P_norm[i,j]=-0.4\n",
    "            continue\n",
    "        X=copy(All[Stations[i]])\n",
    "        Y=copy(All[Stations[j]])\n",
    "        P_norm[i,j],Length[i,j]=computeLogProb(X,Y)\n",
    "        if Length[i,j]<200:\n",
    "            P_norm[i,j]=np.nan\n",
    "\n",
    "            "
   ]
  },
  {
   "cell_type": "code",
   "execution_count": 23,
   "metadata": {
    "collapsed": false,
    "deletable": true,
    "editable": true,
    "run_control": {
     "frozen": false,
     "read_only": false
    }
   },
   "outputs": [
    {
     "name": "stdout",
     "output_type": "stream",
     "text": [
      "[[ 0.  0.]\n",
      " [ 0.  0.]]\n",
      "[[   0.  334.]\n",
      " [ 334.    0.]]\n",
      "[[-0.4        -0.16136705]\n",
      " [-0.16136705 -0.4       ]]\n"
     ]
    }
   ],
   "source": [
    "print Pvals[:2,:2]\n",
    "print Length[:2,:2]\n",
    "print P_norm[:2,:2]"
   ]
  },
  {
   "cell_type": "code",
   "execution_count": 24,
   "metadata": {
    "collapsed": false,
    "deletable": true,
    "editable": true,
    "run_control": {
     "frozen": false,
     "read_only": false
    }
   },
   "outputs": [
    {
     "name": "stdout",
     "output_type": "stream",
     "text": [
      "(19600,) (8998,)\n"
     ]
    },
    {
     "data": {
      "text/plain": [
       "<matplotlib.text.Text at 0x127a30e50>"
      ]
     },
     "execution_count": 24,
     "metadata": {},
     "output_type": "execute_result"
    },
    {
     "data": {
      "image/png": "[encoded data removed]",
      "text/plain": [
       "<matplotlib.figure.Figure at 0x10e062210>"
      ]
     },
     "metadata": {},
     "output_type": "display_data"
    }
   ],
   "source": [
    "A=P_norm.flatten();\n",
    "B=A[~isnan(A)]\n",
    "print A.shape,B.shape\n",
    "hist(-B,bins=100);\n",
    "xlabel('significance')"
   ]
  },
  {
   "cell_type": "code",
   "execution_count": null,
   "metadata": {
    "collapsed": true
   },
   "outputs": [],
   "source": [
    "def showmat(mat):\n",
    "    fig,axes=plt.subplots(1,1,figsize=(10,10))\n",
    "    axes.imshow(mat, cmap=plt.cm.gray)"
   ]
  },
  {
   "cell_type": "code",
   "execution_count": null,
   "metadata": {
    "collapsed": false,
    "deletable": true,
    "editable": true,
    "run_control": {
     "frozen": false,
     "read_only": false
    }
   },
   "outputs": [],
   "source": [
    "showmat(P_norm)"
   ]
  },
  {
   "cell_type": "markdown",
   "metadata": {},
   "source": [
    "### Finding structure in the rependency matrix.\n",
    "The matrix above shows, for each pair of stations, the normalized log probability that the overlap in rain days is random.\n",
    "\n",
    "We see immediately the first 8 stations are highly correlatedwith each other. \n",
    "\n",
    "To find more correlations we use SVD (the term PCA is reserved for decomposition of the covariance matrix). As we shall see that the top 10 eigenvectors explain about 80% of the square magnitude of the matrix."
   ]
  },
  {
   "cell_type": "code",
   "execution_count": null,
   "metadata": {
    "collapsed": false
   },
   "outputs": [],
   "source": [
    "print 'A group of very correlated stations is:',All.keys()[:8]"
   ]
  },
  {
   "cell_type": "code",
   "execution_count": null,
   "metadata": {
    "collapsed": false,
    "deletable": true,
    "editable": true,
    "run_control": {
     "frozen": false,
     "read_only": false
    },
    "scrolled": true
   },
   "outputs": [],
   "source": [
    "from sklearn.decomposition import PCA\n",
    "P_norm0 = np.nan_to_num(P_norm)\n",
    "n_comp=10\n",
    "pca = PCA(n_components=n_comp, svd_solver='full')\n",
    "pca.fit(P_norm0)     \n",
    "#print(pca.explained_variance_)\n",
    "Var_explained=pca.explained_variance_ratio_\n",
    "plot(insert(cumsum(Var_explained),0,0))\n",
    "grid()"
   ]
  },
  {
   "cell_type": "code",
   "execution_count": null,
   "metadata": {
    "collapsed": false
   },
   "outputs": [],
   "source": [
    "# we will look only at the top 4 eigenvectors.\n",
    "n_comp=4\n",
    "pca = PCA(n_components=n_comp, svd_solver='full')\n",
    "pca.fit(P_norm0)     "
   ]
  },
  {
   "cell_type": "code",
   "execution_count": null,
   "metadata": {
    "collapsed": false,
    "deletable": true,
    "editable": true,
    "run_control": {
     "frozen": false,
     "read_only": false
    },
    "scrolled": true
   },
   "outputs": [],
   "source": [
    "fig,axes=plt.subplots(1,4,figsize=(20,5),sharey='row');\n",
    "L=list(pca.components_.transpose())\n",
    "for i in range(4):\n",
    "    X=sorted(L,key=lambda x:x[i]) \n",
    "    axes[i].plot(X);"
   ]
  },
  {
   "cell_type": "code",
   "execution_count": null,
   "metadata": {
    "collapsed": true,
    "deletable": true,
    "editable": true,
    "run_control": {
     "frozen": false,
     "read_only": false
    }
   },
   "outputs": [],
   "source": [
    "def re_order_matrix(M,order):\n",
    "    M_reord=M[order,:]\n",
    "    M_reord=M_reord[:,order]\n",
    "    return M_reord"
   ]
  },
  {
   "cell_type": "code",
   "execution_count": null,
   "metadata": {
    "collapsed": false
   },
   "outputs": [],
   "source": [
    "fig,axes=plt.subplots(2,2,figsize=(15,15),sharex='col',sharey='row');\n",
    "i=0\n",
    "for r in range(2):\n",
    "    for c in range(2):\n",
    "        order=np.argsort(pca.components_[i,:])\n",
    "        P_norm_reord=re_order_matrix(P_norm0,order)\n",
    "        axes[r,c].matshow(P_norm_reord)\n",
    "        i+=1"
   ]
  },
  {
   "cell_type": "markdown",
   "metadata": {},
   "source": [
    "### Explanation and possibe extensions\n",
    "When we reorder the rows and columns of the matrix using one of the eigenvectors, the grouping of the \n",
    "stations becomes more evident. For example, consider the upper left corner of the scond matrix (The upper left one). The stations at positions 0-22 are clearly strongly correlated with each other. Even though there are some stations, in positions 15-18 or so, which are more related to each other than to the rest of this block.\n",
    "\n",
    "This type of organization is called **Block Diagonal** and it typically reveals important structure such as grouping or clustering.\n",
    "\n",
    "You might want to extract the sets of stations that form blocks for your region, and then plot them on the map to see their spatial relationship."
   ]
  },
  {
   "cell_type": "code",
   "execution_count": null,
   "metadata": {
    "collapsed": true
   },
   "outputs": [],
   "source": [
    "from pickle import dump\n",
    "with open(data_dir+'/PRCP_residuals_PCA.pickle','wb') as file:\n",
    "    dump({'stations':All.keys(),\n",
    "          'eigen-vecs':pca.components_},\n",
    "        file)\n",
    "    "
   ]
  }
 ],
 "metadata": {
  "anaconda-cloud": {},
  "celltoolbar": "Slideshow",
  "hide_input": false,
  "kernelspec": {
   "display_name": "Python 2",
   "language": "python",
   "name": "python2"
  },
  "language_info": {
   "codemirror_mode": {
    "name": "ipython",
    "version": 2
   },
   "file_extension": ".py",
   "mimetype": "text/x-python",
   "name": "python",
   "nbconvert_exporter": "python",
   "pygments_lexer": "ipython2",
   "version": "2.7.13"
  },
  "toc": {
   "colors": {
    "hover_highlight": "#DAA520",
    "running_highlight": "#FF0000",
    "selected_highlight": "#FFD700"
   },
   "moveMenuLeft": true,
   "nav_menu": {
    "height": "118px",
    "width": "252px"
   },
   "navigate_menu": true,
   "number_sections": true,
   "sideBar": true,
   "threshold": 4,
   "toc_cell": false,
   "toc_section_display": "block",
   "toc_window_display": true
  },
  "widgets": {
   "state": {
    "0d4726d074414304b7910c9bc9aee2a0": {
     "views": [
      {
       "cell_index": 31
      }
     ]
    },
    "9dfb4bbaf8664891a93b62da7476d8fe": {
     "views": [
      {
       "cell_index": 22
      }
     ]
    }
   },
   "version": "1.2.0"
  }
 },
 "nbformat": 4,
 "nbformat_minor": 0
}
