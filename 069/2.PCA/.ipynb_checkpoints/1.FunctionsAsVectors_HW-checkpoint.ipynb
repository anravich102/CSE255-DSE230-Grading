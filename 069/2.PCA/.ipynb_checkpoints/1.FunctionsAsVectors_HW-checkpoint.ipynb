{
 "cells": [
  {
   "cell_type": "markdown",
   "metadata": {
    "collapsed": true,
    "deletable": false,
    "editable": false,
    "nbgrader": {
     "checksum": "1e14402cec9308b02dcc1ebc85d41f94",
     "grade": false,
     "grade_id": "0",
     "locked": true,
     "schema_version": 1,
     "solution": false
    },
    "run_control": {
     "frozen": false,
     "read_only": false
    }
   },
   "source": [
    "### <span style=\"color:red\">IMPORTANT: Only modify cells which have the following comment:</span>\n",
    "```python\n",
    "# Modify this cell\n",
    "```\n",
    "##### <span style=\"color:red\">Do not add any new cells when you submit the homework</span>"
   ]
  },
  {
   "cell_type": "markdown",
   "metadata": {
    "deletable": false,
    "editable": false,
    "nbgrader": {
     "checksum": "d8d6a2efc5ff494f62d0102f89545c13",
     "grade": false,
     "grade_id": "1",
     "locked": true,
     "schema_version": 1,
     "solution": false
    },
    "run_control": {
     "frozen": false,
     "read_only": false
    }
   },
   "source": [
    "# Setting Up Notebook\n",
    "\n",
    "Please read 1.FunctionsAsVectors_CLASS.ipynb before attempting this homework. For this notebook you will use the same functions and variables as defined in the _CLASS notebook."
   ]
  },
  {
   "cell_type": "code",
   "execution_count": 2,
   "metadata": {
    "collapsed": false,
    "deletable": false,
    "editable": false,
    "nbgrader": {
     "checksum": "a4ea976f8117d8355f2d911da2eb3c6c",
     "grade": false,
     "grade_id": "2",
     "locked": true,
     "schema_version": 1,
     "solution": false
    },
    "run_control": {
     "frozen": false,
     "read_only": false
    }
   },
   "outputs": [
    {
     "name": "stdout",
     "output_type": "stream",
     "text": [
      "Populating the interactive namespace from numpy and matplotlib\n",
      "version of ipwidgets= 5.2.2\n"
     ]
    }
   ],
   "source": [
    "%pylab inline\n",
    "\n",
    "import numpy as np\n",
    "import math\n",
    "import matplotlib.pyplot as plt\n",
    "from ipywidgets import interact, interactive, fixed, interact_manual,widgets\n",
    "import ipywidgets as widgets\n",
    "\n",
    "print 'version of ipwidgets=',widgets.__version__\n",
    "\n",
    "import sys\n",
    "from lib.recon_plot import recon_plot\n",
    "from lib.Eigen_decomp import Eigen_decomp\n",
    "from lib.YearPlotter import YearPlotter"
   ]
  },
  {
   "cell_type": "markdown",
   "metadata": {
    "deletable": false,
    "editable": false,
    "nbgrader": {
     "checksum": "501318ef263bb0472ea46b72399ebf46",
     "grade": false,
     "grade_id": "3",
     "locked": true,
     "schema_version": 1,
     "solution": false
    },
    "run_control": {
     "frozen": false,
     "read_only": false
    }
   },
   "source": [
    "As in `1.FunctionsAsVectors_Class`, we use the function $f=|x-4|,\\,\\,\\,   x\\in[0,2\\pi]$ "
   ]
  },
  {
   "cell_type": "code",
   "execution_count": 3,
   "metadata": {
    "collapsed": false,
    "deletable": false,
    "editable": false,
    "nbgrader": {
     "checksum": "b4652930afccf8db55538aec5f4c1c53",
     "grade": false,
     "grade_id": "4",
     "locked": true,
     "schema_version": 1,
     "solution": false
    },
    "run_control": {
     "frozen": false,
     "read_only": false
    }
   },
   "outputs": [
    {
     "data": {
      "image/png": "[encoded data removed]",
      "text/plain": [
       "<matplotlib.figure.Figure at 0x105c01490>"
      ]
     },
     "metadata": {},
     "output_type": "display_data"
    }
   ],
   "source": [
    "step=2*pi/365\n",
    "x=arange(0,2*pi,step)\n",
    "\n",
    "f=abs(x-4)\n",
    "plot(x,f);\n",
    "grid()"
   ]
  },
  {
   "cell_type": "markdown",
   "metadata": {
    "deletable": false,
    "editable": false,
    "nbgrader": {
     "checksum": "3e482e7335396e2e8122406b32d11d95",
     "grade": false,
     "grade_id": "5",
     "locked": true,
     "schema_version": 1,
     "solution": false
    },
    "run_control": {
     "frozen": false,
     "read_only": false
    }
   },
   "source": [
    "# Exercise 1:\n",
    "\n",
    "First we must create our basis, `v`, of sine and cosine functions (and also a single constant function)\n",
    "\n",
    "Create a function called **getWaves** that returns an array of functions like that in `1.FunctionsAsVectors_CLASS`, but, **getWaves** has a parameter, `frequency`. Get waves should return  an array containing a constant function and all sine and cosine functions with:\n",
    "$n\\leq \\text{frequency},\\,\\,\\,n\\in N^+$\n",
    "\n",
    "getWaves(frequency=0) should return only the constant function. Look at `v` in `1.FunctionsAsVectors_CLASS` to find the constant.\n",
    "\n",
    "    Note: This homework does not require spark\n",
    "    \n",
    "######  <span style=\"color:blue\">Code:</span>\n",
    "```python\n",
    "v= getWaves(frequency=0)\n",
    "print len(v)\n",
    "print type(v)\n",
    "print type(v[0])\n",
    "print len(v[0])\n",
    "print\n",
    "\n",
    "v= getWaves(frequency=1)\n",
    "print len(v)\n",
    "print np.all( v[1]== np.sin(x)*sqrt(step/pi) )  \n",
    "print np.all( v[2]== np.cos(x)*sqrt(step/pi) )  \n",
    "```\n",
    "######  <span style=\"color:magenta\">Output:</span>\n",
    "```python\n",
    "1\n",
    "<type 'list'>\n",
    "<type 'numpy.ndarray'>\n",
    "365\n",
    "\n",
    "3\n",
    "True\n",
    "True\n",
    "```"
   ]
  },
  {
   "cell_type": "code",
   "execution_count": 101,
   "metadata": {
    "collapsed": false,
    "deletable": true,
    "editable": true,
    "run_control": {
     "frozen": false,
     "read_only": false
    }
   },
   "outputs": [],
   "source": [
    "# Modify this cell\n",
    "\n",
    "def getWaves(frequency=0, step=2*pi/365, x=arange(0,2*pi,2*pi/365) ):\n",
    "    # inputs: frequency is the only parameter that will need to vary in this exercise\n",
    "    #         step, x are constants to aid you in the correct calculation of v\n",
    "    # ... write implementation\n",
    "    \n",
    "    c=sqrt(step/(pi))\n",
    "    v=[]\n",
    "    \n",
    "    if frequency >= 0:\n",
    "        v.append(np.array(cos(0*x))*c/sqrt(2))\n",
    "        \n",
    "    for i in range(1, frequency+1):\n",
    "        v.append(np.array(sin(i*x))*c)\n",
    "        v.append(np.array(cos(i*x))*c)\n",
    "    \n",
    "    return v\n",
    "    # return the basis, v"
   ]
  },
  {
   "cell_type": "code",
   "execution_count": 102,
   "metadata": {
    "collapsed": false,
    "deletable": false,
    "editable": false,
    "nbgrader": {
     "checksum": "479405fbce67714db33d78a607d4c80d",
     "grade": true,
     "grade_id": "ex1",
     "locked": true,
     "points": 1,
     "schema_version": 1,
     "solution": false
    },
    "run_control": {
     "frozen": false,
     "read_only": false
    }
   },
   "outputs": [
    {
     "name": "stdout",
     "output_type": "stream",
     "text": [
      "Checking getWaves(0)\n",
      "Checking getWaves(2)\n",
      "Checking getWaves(4)\n",
      "Checking getWaves(8)\n",
      "Checking getWaves(16)\n",
      "Checking getWaves(32)\n",
      "Checking getWaves(64)\n",
      "\n",
      "Great Job!\n"
     ]
    }
   ],
   "source": [
    "import Tester.FunctionsAsVectors as fv\n",
    "fv.exercise1(getWaves)"
   ]
  },
  {
   "cell_type": "markdown",
   "metadata": {
    "deletable": false,
    "editable": false,
    "nbgrader": {
     "checksum": "f67172c92525f3f3dcbc47a3358c68f5",
     "grade": false,
     "grade_id": "7",
     "locked": true,
     "schema_version": 1,
     "solution": false
    },
    "run_control": {
     "frozen": false,
     "read_only": false
    }
   },
   "source": [
    "# Exercise 2:\n",
    "As can be seen in `1.FunctionsAsVectors_CLASS`, it is clear that $g(i)$ gets closer to $f$ as $i$ increases. To quantify this improvement, we calculate $ \\| g(i)- f \\|_2 $ as a function of $i$\n",
    "\n",
    "Write a function **approximate** that approximates $f$ using the eigen decomposition of `v`. **approximate** should return the euclidean norm of your fit. We recommend you use the function `Eigen_decomp`.\n",
    "\n",
    "    Note: This homework does not require spark\n",
    "\n",
    "\n",
    "######  <span style=\"color:blue\">Code:</span>\n",
    "```python\n",
    "v= getWaves(num=2)\n",
    "print approximate(f,v,x)\n",
    "```\n",
    "######  <span style=\"color:magenta\">Output:</span>\n",
    "```python\n",
    "5.12764445178\n",
    "```"
   ]
  },
  {
   "cell_type": "code",
   "execution_count": 123,
   "metadata": {
    "collapsed": false,
    "deletable": true,
    "editable": true,
    "run_control": {
     "frozen": false,
     "read_only": false
    }
   },
   "outputs": [],
   "source": [
    "# Modify this cell\n",
    "\n",
    "def approximate(f,v,x):\n",
    "    # inputs: f,v,x are given as above. For this exercise, only v will vary\n",
    "    # ...\n",
    "    \n",
    "    approximation = np.zeros(np.array(f).shape)\n",
    "    eigen_decomp=Eigen_decomp(x,f,np.zeros(np.array(f).shape),v)\n",
    "    for i in range(eigen_decomp.n):\n",
    "        approximation += (eigen_decomp.coeff['c'+str(i)] * np.array(v[i]))\n",
    "        \n",
    "    error = np.sqrt(np.dot(f - approximation, f - approximation))\n",
    "    return error\n",
    "    # error equals the euclidian norm between f and your fitted model"
   ]
  },
  {
   "cell_type": "code",
   "execution_count": 124,
   "metadata": {
    "collapsed": false,
    "deletable": false,
    "editable": false,
    "nbgrader": {
     "checksum": "5f220beeef9983b31a73adfa4e31f186",
     "grade": true,
     "grade_id": "ex2",
     "locked": true,
     "points": 2,
     "schema_version": 1,
     "solution": false
    },
    "run_control": {
     "frozen": false,
     "read_only": false
    }
   },
   "outputs": [
    {
     "name": "stdout",
     "output_type": "stream",
     "text": [
      "\n",
      "When there are 1 functions in v:\n",
      "Correct output: 20.7883593877\n",
      "\n",
      "When there are 5 functions in v:\n",
      "Correct output: 5.12764445178\n",
      "\n",
      "When there are 9 functions in v:\n",
      "Correct output: 3.48780903899\n",
      "\n",
      "When there are 17 functions in v:\n",
      "Correct output: 2.5903772003\n",
      "\n",
      "When there are 33 functions in v:\n",
      "Correct output: 1.83624640573\n",
      "\n",
      "When there are 65 functions in v:\n",
      "Correct output: 1.29120345522\n",
      "\n",
      "When there are 129 functions in v:\n",
      "Correct output: 0.878380224172\n",
      "\n",
      "Great Job!\n"
     ]
    }
   ],
   "source": [
    "import Tester.FunctionsAsVectors as fv\n",
    "fv.exercise2(approximate)"
   ]
  },
  {
   "cell_type": "code",
   "execution_count": null,
   "metadata": {
    "collapsed": false,
    "deletable": false,
    "editable": false,
    "nbgrader": {
     "checksum": "4ab1b0dcebc9c742fa14cf38d8a991a4",
     "grade": false,
     "grade_id": "9",
     "locked": true,
     "schema_version": 1,
     "solution": false
    },
    "run_control": {
     "frozen": false,
     "read_only": false
    }
   },
   "outputs": [],
   "source": [
    "\n",
    "\n",
    "\n",
    "\n",
    "\n",
    "\n",
    "\n",
    "\n",
    "\n"
   ]
  }
 ],
 "metadata": {
  "anaconda-cloud": {},
  "kernelspec": {
   "display_name": "Python 2",
   "language": "python",
   "name": "python2"
  },
  "language_info": {
   "codemirror_mode": {
    "name": "ipython",
    "version": 2
   },
   "file_extension": ".py",
   "mimetype": "text/x-python",
   "name": "python",
   "nbconvert_exporter": "python",
   "pygments_lexer": "ipython2",
   "version": "2.7.12"
  },
  "toc": {
   "colors": {
    "hover_highlight": "#DAA520",
    "running_highlight": "#FF0000",
    "selected_highlight": "#FFD700"
   },
   "moveMenuLeft": true,
   "nav_menu": {
    "height": "190px",
    "width": "252px"
   },
   "navigate_menu": true,
   "number_sections": true,
   "sideBar": true,
   "threshold": 4,
   "toc_cell": false,
   "toc_position": {
    "height": "590px",
    "left": "0px",
    "right": "996.193px",
    "top": "105px",
    "width": "175px"
   },
   "toc_section_display": "block",
   "toc_window_display": true,
   "widenNotebook": false
  }
 },
 "nbformat": 4,
 "nbformat_minor": 0
}
