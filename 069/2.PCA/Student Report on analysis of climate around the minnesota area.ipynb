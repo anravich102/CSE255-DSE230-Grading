{
 "cells": [
  {
   "cell_type": "markdown",
   "metadata": {},
   "source": [
    "# Massacussets Weather Analysis\n",
    "\n",
    "This report is analysis the weather pattern overlapping with the region of Minnesota (Massacussets).\n",
    "\n",
    "The data we will use here comes from [NOAA](https://www.ncdc.noaa.gov/). Specifically, it was downloaded from This [FTP site](ftp://ftp.ncdc.noaa.gov/pub/data/ghcn/daily/).\n",
    "\n",
    "We focused on six measurements:\n",
    "* **TMIN:** the daily minimum temperature (tenths of degrees C).\n",
    "* **TMAX:** the daily maximum temperature (tenths of degrees C).\n",
    "* **TOBS:** Temperature at the time of observation (tenths of degrees C).\n",
    "* **PRCP:** Daily Percipitation (in mm).\n",
    "* **SNOW:** Daily snowfall (in mm).\n",
    "* **SNWD:** The depth of accumulated snow (in mm).\n",
    "\n",
    "## Sanity-check: comparison with outside sources\n",
    "\n",
    "<p>We sanity-checked the data from <a href=\"http://www.usclimatedata.com/climate/international-falls/minnesota/united-states/usmn0376\" target=\"_blank\">US Climate Data</a> The graph below shows the daily minimum and maximum temperatures for each month, as well as the total precipitation for each month.</p>\n",
    "\n",
    "<p>&nbsp;</p>\n",
    "\n",
    "<p><img alt=\"Climate_International_Falls_-_Minnesota_and_Weather_averages_International_Falls.jpg\" src=\"images/Fig1(Temp+prep).jpg\" style=\"width: 400px;\"/></p>\n",
    "\n",
    "\n",
    "<p>&nbsp;</p>\n",
    "\n",
    "<p>As can be seen below, min and max daily&nbsp;temperature approximately matches the ones we got from our data.</p>\n",
    "\n",
    "<p>&nbsp;</p>\n",
    "\n",
    "<p><img alt=\"TMIN,TMAX.png\" src=\"images/Fig2(Temp).jpg\" style=\"height:300px; width:800px\" /></p>\n",
    "\n",
    "<p>The precipitation figures also match to some approximation as can be seen the figure below:</p>\n",
    "\n",
    "<p>&nbsp;<img alt=\"PRCP.png\" src=\"Images/fig3(prep).jpg\" style=\"width:400px\" /></p>\n"
   ]
  },
  {
   "cell_type": "markdown",
   "metadata": {},
   "source": [
    "## PCA analysis\n",
    "Next we checked the percent of variances explained using the top 5 eigen-values for each type of measurement:\n",
    "\n",
    "![Fig5_variance_explained1.jpg](images/Fig5_variance_explained1.jpg)\n",
    "![Fig6_variance_explained2.jpg](images/Fig6_variance_explained2.jpg)\n",
    "<i>Note that the dip in case of TMIN should not have been there as more the number of eigen values used, more should be the variance explained.</i>\n",
    "\n",
    "The graphs clearly show that SNWD is best explained using top 5 eigen values while PRCP is least explained using its corresponding top eigen values. So, we will next try to analyze these two measurements further."
   ]
  },
  {
   "cell_type": "markdown",
   "metadata": {},
   "source": [
    "## Snow Depth Analysis\n",
    "\n",
    "We choose to analyze the eigen-decomposition for snow-depth because the first 4 eigen-vectors explain 80% of the variance.\n",
    "\n",
    "First, we graph the mean and the top 3 eigen-vectors.\n",
    "\n",
    "We observe that the snow season is from mid-november to the end of april, where the Feb-March marks the peak of the snow-depth.\n",
    "\n",
    "<p>&nbsp;<img alt=\"SNWD.png\" src=\"images/Fig7_snow-depth.jpg\" style=\"width:500px\" /></p>"
   ]
  },
  {
   "cell_type": "markdown",
   "metadata": {},
   "source": [
    "### Possible eigen-function interpretations:\n",
    "Although, the first eigen-function (eig1) appears very similar to the mean function, the eigen-function is close to zero during november-december while the mean is not.  The interpretation of this shape is that eig1 represents the overall amount of snow above/below the mean, but without changing the distribution over time.\n",
    "\n",
    "**eig2 and eig3** are similar in the following way:\n",
    "They all oscilate between positive and negative values. In other words, they correspond to changing the distribution of the snow depth over the winter months, but they don't change the total (much). This can be verified from the 'variance explained' figure for 'SNWD' as eig1 explains more than 60% of variance in data.\n",
    "\n",
    "They can be interpreted as follows:\n",
    "* **eig2:** less snow in dev - mid feb, more snow in mid feb-march.\n",
    "* **eig3:** less snow in jan, more snow in feb, slightly more snow in march.\n",
    "\n",
    "In the figures below we analyze the extreme values of coefficients of the top three eigen-values when performing reconstructions:"
   ]
  },
  {
   "cell_type": "markdown",
   "metadata": {},
   "source": [
    "### Examples of reconstructions\n",
    "\n",
    "![Fig9_coeff1-neg.jpg](images/Fig9_coeff1-neg.jpg)\n",
    "![Fig45month_labels.jpg](images/Fig45month_labels.jpg)\n",
    "![Fig10_coeff1-pos.jpg](images/Fig10_coeff1-pos.jpg)\n",
    "![Fig45month_labels.jpg](images/Fig45month_labels.jpg)\n",
    "\n",
    "Large positive values of coeff1 correspond to more than average snow. Low values correspond to less than average snow.\n",
    "\n",
    "![Fig11_coeff2-neg.jpg](images/Fig11_coeff2-neg.jpg)\n",
    "![Fig45month_labels.jpg](images/Fig45month_labels.jpg)\n",
    "![Fig12_coeff2-pos.jpg](images/Fig12_coeff2-pos.jpg)\n",
    "![Fig45month_labels.jpg](images/Fig45month_labels.jpg)\n",
    "\n",
    "Large positive values of coeff2 also correspond to the amount of snow that is not explained by coeff_1.\n",
    "\n",
    "\n",
    "![Fig13_coeff3-neg.jpg](images/Fig13_coeff3-neg.jpg)\n",
    "![Fig45month_labels.jpg](images/Fig45month_labels.jpg)\n",
    "![Fig14_coeff3-pos.jpg](images/Fig14_coeff3-pos.jpg)\n",
    "![Fig45month_labels.jpg](images/Fig45month_labels.jpg)\n",
    "\n",
    "Large positive values of coeff3 correspond to a snow season which has a peak in february. Negative values of coeff3 correspond to a snow season which has a peak in january.\n",
    "\n"
   ]
  },
  {
   "cell_type": "markdown",
   "metadata": {},
   "source": [
    "### Geographical distribution of first 4 coefficients. \n",
    "The figure below shows the stations with there corresponding coefficients (shown as triangles).\n",
    "\n",
    "<img src=\"images/Fig40_map1.jpg\" style=\"width: 800px;\"/>\n",
    "\n",
    "Where the notation is:\n",
    "1. coeff_1 - (Blue Color)\n",
    "2. coeff_2 - (Orange Color)\n",
    "3. coeff_3 - (Green Color)\n",
    "4. coeff_4 - (Red Color)\n",
    "5. Size of triangle corresponds to the magnitude of the coefficient value.\n",
    "6. Filled triangles corresponds to negative values.\n",
    "\n",
    "#### Zoomed in image of one random station near Kenora:\n",
    "<img src=\"images/Fig39_map2.jpg\" style=\"width: 200px;\"/>\n",
    "\n",
    "It is difficult to infer good meaningful inferences using just the maps shown above. So, we use the correlation matrix to find similarity between different stations.\n",
    "\n",
    "Correlation matrix for 56 stations for SNWD measurements:\n",
    "<img src=\"images/Fig46correl_1_snwd.jpg\" alt=\"Fig46correl_1_snwd.jpg\" style=\"width: 400px;\"/>\n",
    "\n",
    "Correlation matrix after reordering on the basis of most common dimension (characteristic):\n",
    "<img src=\"images/Fig47correl_2_snwd.jpg\" alt=\"Fig47correl_2_snwd.jpg\" style=\"width: 400px;\"/>\n",
    "<i> Darker values in the matrix represent smaller p-values which means strong evidence against the null-hyposthesis. </i>\n",
    "<p>&nbsp;</p>\n",
    "Clearly, only the stations from 29 to 56 appear to differ somehow from one another while most of the other pairs of stations appear to have common features (darker shades of color signifies more similarity).\n"
   ]
  },
  {
   "cell_type": "markdown",
   "metadata": {},
   "source": [
    "## The variation in the snow depth is mostly due to year-to-year variation\n",
    "Below we now estimate the relative importance of location-to-location variation relative to year-by-year variation.\n",
    "\n",
    "These are measured using the fraction by which the variance is reduced when we subtract from each station/year entry the average-per-year or the average-per-station respectively. Here are the results:\n",
    "\n",
    "** coeff_1 **\n",
    "total RMS                   =  1607.08350635\n",
    "RMS removing mean-by-station=  1475.61439358, fraction explained= 8.18060245454\n",
    "RMS removing mean-by-year   =  852.75670797, fraction explained= 46.9376230543 \n",
    "\n",
    " ** coeff_2 **\n",
    "total RMS                   =  750.23614434\n",
    "RMS removing mean-by-station=  732.635844818, fraction explained= 2.34596795361\n",
    "RMS removing mean-by-year   =  396.294511574, fraction explained= 47.177363479 \n",
    "\n",
    "** coeff_3 **\n",
    "total RMS                   =  710.360614167\n",
    "RMS removing mean-by-station=  672.647841391, fraction explained= 5.30896167717\n",
    "RMS removing mean-by-year   =  457.688315369, fraction explained= 35.5695816686  \n",
    "\n",
    "We see that the variation by year explains more than the variation by station. We see that for coeff_1,2,3 the stations explain 2-9% of the variance while the year explaines 35-50%."
   ]
  },
  {
   "cell_type": "markdown",
   "metadata": {},
   "source": [
    "## PRCP Analysis\n",
    "\n",
    "We choose to analyze the eigen-decomposition for PRCP because the first 4 eigen-vectors explain just 6% of the variance. Hence, we want to show that it is very difficult to find meaningful patterns for PRCP measurements using eigen-decomposition.\n",
    "<p>&nbsp;<img alt=\"Fig32_prcp_3.jpg\" src=\"images/Fig32_prcp_3.jpg\" style=\"width:400px\" /></p>\n",
    "\n",
    "Next, we graph the mean and the top 3 eigen-vectors.\n",
    "\n",
    "We observe that unlike SNWD measurements, PRCP measurements appear to be very noisy and hence all eigen-values keep on oscillating up and down.\n",
    "\n",
    "<p>&nbsp;<img alt=\"Fig31_prcp_2.jpg\" src=\"images/Fig31_prcp_2.jpg\" style=\"width:400px\" /></p>"
   ]
  },
  {
   "cell_type": "markdown",
   "metadata": {},
   "source": [
    "### Examples of reconstructions\n",
    "\n",
    "#### Best reconstruction\n",
    "<p>&nbsp;<img alt=\"Fig33_prcp_4.jpg\" src=\"images/Fig33_prcp_4.jpg\" style=\"width:400px\" /></p>\n",
    "\n",
    "\n",
    "#### Plotting reconstructions with\n",
    "<i>Graphs when mean explains the most variance:</i>\n",
    "![Fig34_prcp_5.jpg](images/Fig34_prcp_5.jpg)\n",
    "![Fig45month_labels.jpg](images/Fig45month_labels.jpg)\n",
    "\n",
    "<i>Graphs when mean explains the least variance:</i>\n",
    "![Fig35_prcp_6.jpg](images/Fig35_prcp_6.jpg)\n",
    "![Fig45month_labels.jpg](images/Fig45month_labels.jpg)\n",
    "\n",
    "<i>Graphs when mean and first eigen value explains the most variance:</i>\n",
    "![Fig36_prcp_7.jpg](images/Fig36_prcp_7.jpg)\n",
    "![Fig45month_labels.jpg](images/Fig45month_labels.jpg)\n",
    "\n",
    "<i>Graphs when mean and first eigen value explains the least variance:</i>\n",
    "![Fig37_prcp_8.jpg](images/Fig37_prcp_8.jpg)\n",
    "![Fig45month_labels.jpg](images/Fig45month_labels.jpg)\n",
    "\n",
    "Even the lowest residual values after considering the variance explained by mean and first eigen-value is more than 80 percent. The graph below verifies our claim that it is nearly impossible to make sense of PRCP measurements using small number of dimensions.\n",
    "\n",
    "<p>&nbsp;<img alt=\"Fig38_prcp_9.jpg\" src=\"images/Fig38_prcp_9.jpg\" style=\"width:400px\" /></p>\n"
   ]
  },
  {
   "cell_type": "markdown",
   "metadata": {},
   "source": [
    "### Plotting correlation matrix\n",
    "\n",
    "Correlation matrix for 92 stations for PRCP measurements:\n",
    "<img src=\"images/Fig48correl_1_prcp.jpg\" alt=\"Fig48correl_1_prcp.jpg\" style=\"width: 400px;\"/>\n",
    "\n",
    "Correlation matrix after reordering on the basis most similar characteristic:\n",
    "<img src=\"images/Fig49correl_2_prcp.jpg\" alt=\"Fig49correl_2_prcp.jpg\" style=\"width: 400px;\"/>\n",
    "\n",
    "Again, the light shades of the matrix favor the null-hypothesis, verifying our initial claim that it is nearly impossible to find patterns in PRCP data using a small number of eigen-values."
   ]
  },
  {
   "cell_type": "markdown",
   "metadata": {
    "collapsed": true
   },
   "source": [
    "## A different kind of Analysis 1\n",
    "### Is the data skewed?\n",
    "<img src=\"images/Fig51_extra_counts.jpg\" alt=\"Fig51_extra_counts.jpg\"/>\n",
    "\n",
    "We can see that for all types of observations the number of valid observations reduce near the start and end of an year.\n",
    "<p>&nbsp;</p>\n",
    "Below is a snapshot of a small region of massacussets:\n",
    "<img src=\"images/Fig50_sample_map_extra.jpg\" alt=\"Fig50_sample_map_extra.jpg\" style=\"width: 800px;\"/>\n",
    "\n",
    "This part of the united states of America is known to be very cold and filled with snow during the winter season. Below is a snapshot of an image taken from [Wikipedia](https://en.wikipedia.org/wiki/Climate_of_Massachusetts) outlining the monthly normal min and max temperature in some parts of Massacusets: <i>(Note the temperature values in dec, jan and feb).</i>\n",
    "<img src=\"images/Fig52_extra_mass_temp.jpg\" alt=\"Fig52_extra_mass_temp.jpg\" style=\"width: 700px;\"/>\n",
    "\n",
    "## Possible reasons of dip in number of observations during the winter season\n",
    "1. The extreme climate during the winter season makes it difficult to keep on making observations with the same frequency as that of non-winter seasons.\n",
    "2. A subset of stations lie in extreme climate regions which are closed during winter seasons.\n",
    "3. Since the data was recorded for many years, it is possible that for a subset of years it was not possible to make observations for some of the stations during winter season.\n"
   ]
  },
  {
   "cell_type": "markdown",
   "metadata": {},
   "source": [
    "## A different kind of Analysis 2\n",
    "### Is this Global Warming?\n",
    "Below are some plots of stations which had atleast 20 years worth of data for both 'Snow' and 'TMIN' measurements.\n",
    "<img src=\"images/Fig53_gw_1.jpg\" alt=\"Fig53_gw_1.jpg\" style=\"width: 700px;height:300px;\"/>\n",
    "<img src=\"images/Fig54_gw_2.jpg\" alt=\"Fig54_gw_2.jpg\" style=\"width: 700px;height:300px;\"/>\n",
    "<img src=\"images/Fig55_gw_3.jpg\" alt=\"Fig55_gw_3.jpg\" style=\"width: 700px;height:300px;\"/>\n",
    "\n",
    "The above graphs show that even though there are many fluctuations (change in weather) in the plots, the overall effect is increase in TMIN (or little decrease in snow) which can be attributed to climate change.\n",
    "\n",
    "Note: We have only showed graphs for a subset of regions which showed increasing minimum temperatures or decreasing snow (or both) in the regions. There were staions where the minimum temperatures and snow did not change much with time but we did not find any evidence of <b>global cooling</b>.\n"
   ]
  },
  {
   "cell_type": "markdown",
   "metadata": {
    "collapsed": true
   },
   "source": [
    "## Conclusion\n",
    "We analysed massacussets weather data around the minessota region. And we found that out of all measurements <i>snow-depth</i> made the most sense when analysed using eigen-decomposition. We used methods like plot-reconstructions using eigen vectors, fraction of variance explained eigen-values and correlation matrix (using p-values) to analyze the data.\n",
    "Later, we repeated this procedure for PRCP measurements and found that eigen-decomposition fails to find any meaningful patterns in this case.\n",
    "\n",
    "In the end, we extended the analysis by raising questions about skewness of the measurements itself and global warming trends in some stations."
   ]
  },
  {
   "cell_type": "code",
   "execution_count": null,
   "metadata": {
    "collapsed": true
   },
   "outputs": [],
   "source": []
  }
 ],
 "metadata": {
  "kernelspec": {
   "display_name": "Python 2",
   "language": "python",
   "name": "python2"
  },
  "language_info": {
   "codemirror_mode": {
    "name": "ipython",
    "version": 2
   },
   "file_extension": ".py",
   "mimetype": "text/x-python",
   "name": "python",
   "nbconvert_exporter": "python",
   "pygments_lexer": "ipython2",
   "version": "2.7.12"
  }
 },
 "nbformat": 4,
 "nbformat_minor": 2
}
