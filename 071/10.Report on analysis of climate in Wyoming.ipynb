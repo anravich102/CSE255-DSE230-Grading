{
 "cells": [
  {
   "cell_type": "markdown",
   "metadata": {},
   "source": [
    "# Wyoming Weather Analysis\n",
    "\n",
    "This is a report on the historical analysis of weather patterns in an area that approximately overlaps the area of the state of Wyoming.\n",
    "\n",
    "The data we will use here comes from [NOAA](https://www.ncdc.noaa.gov/). Specifically, it was downloaded from This [FTP site](ftp://ftp.ncdc.noaa.gov/pub/data/ghcn/daily/).\n",
    "\n",
    "We focused on six measurements:\n",
    "* **TMIN, TMAX:** the daily minimum and maximum temperature.\n",
    "* **TOBS:** The average temperature for each day.\n",
    "* **PRCP:** Daily Percipitation (in mm)\n",
    "* **SNOW:** Daily snowfall (in mm)\n",
    "* **SNWD:** The depth of accumulated snow."
   ]
  },
  {
   "cell_type": "markdown",
   "metadata": {
    "run_control": {
     "frozen": false,
     "read_only": false
    }
   },
   "source": [
    "## Sanity-check: comparison with outside sources\n",
    "\n",
    "We start by comparing some of the general statistics with graphs that we obtained from a site called [US Climate Data](http://www.usclimatedata.com/climate/wyoming/united-states/3220). Specifically, we choose Rawlins to compare the weather data from these two different sources. For US Climate Data, the graph below shows the daily minimum and maximum temperatures for each month, as well as the total precipitation for each month.\n",
    "\n",
    "<img src=\"//cseweb.ucsd.edu/~d5liu/r_figures/Rawlins_USClimateData.png\" width=500>\n",
    "\n",
    "For NOAA, we choose station USW00024057, which is located at the northeast of Rawlins. Below is the average min / max temperature of station USW00024057.\n",
    "\n",
    "![TMIN,TMAX.svg](//cseweb.ucsd.edu/~d5liu/r_figures/TMIN,TMAX_USW00024057.svg)\n",
    "\n",
    "To compare the precipitation, we need to translate millimeter/day to inches/month. According to our analysis the average rainfall is 0.64 mm/day which translates to about 0.76 Inches per month. According to US-Climate-Data the average rainfall is closer to 0.7 inch per month, which we think could be considered consistent with our result.\n",
    "\n",
    "![PRCP.svg](//cseweb.ucsd.edu/~d5liu/r_figures/PRCP_USW00024057.svg)"
   ]
  },
  {
   "cell_type": "markdown",
   "metadata": {
    "run_control": {
     "frozen": false,
     "read_only": false
    }
   },
   "source": [
    "## PCA analysis\n",
    "\n",
    "### Percentage of variance explained.\n",
    "\n",
    "For each of the six measurement, we compute the percentage of the variance explained as a function of the number of eigen-vectors used. We draw the result in the same graph as below.\n",
    "\n",
    "![VarExplained.svg](//cseweb.ucsd.edu/~d5liu/r_figures/VarExplained.svg)\n",
    "\n",
    "We see that the top 5 eigen-vectors explain 29% of variance for TMIN, 51% for TOBS, 32% for TMAX, 9% of SNOW, 84% of SNWD and 11% of PRCP.\n",
    "\n",
    "We could draw the following conclusions\n",
    "\n",
    "1. Compared with TMAX and TMIN, TOBS has is better explained by the top 5 eigenvectors. An explaination for this is that TOBS is a daily average temperature, which is more stable than TMIN and TMAX.\n",
    "2. SNOW and PRCP is extremely bad fitted. This is because raining and snowing are affected by a lot of factors, and this two measurements don't have accumulation over time, thus are more hard to fit merely based on historical data. The result would be much better if we do a convolution over time.\n",
    "3. It makes sense that SNWD would be less noisy than SNOW. That is because SNWD is a decaying integral of SNOW and, as such, varies less between days and between the same date on diffferent years."
   ]
  },
  {
   "cell_type": "markdown",
   "metadata": {
    "run_control": {
     "frozen": false,
     "read_only": false
    }
   },
   "source": [
    "## Analysis of snow depth\n",
    "\n",
    "First of all, we choose to analyze the eigen-decomposition for snow-depth since the first 4 eigen-vectors explain over 80% of this variance.\n",
    "\n",
    "We graph the mean and the top 4 eigen-vectors first.\n",
    "\n",
    "![SNWD_mean_eigs.svg](//cseweb.ucsd.edu/~d5liu/r_figures/SNWD_mean_eigs.svg)\n",
    "\n",
    "The graph shows that in Wyoming, the snow season begins in October and ends in next May."
   ]
  },
  {
   "cell_type": "markdown",
   "metadata": {
    "run_control": {
     "frozen": false,
     "read_only": false
    }
   },
   "source": [
    "Next we interpret the eigen-functions. The first eigen-function (eig1) has a shape very similar to the mean function. The interpretation of this shape is that eig1 represents the overall amount of snow above/below the mean, but without changing the distribution over time.\n",
    "\n",
    "**eig2, eig3 and eig4** are similar in the following way. They all oscillate between positive and negative values. In other words, they correspond to changing the distribution of the snow depth over the winter months, but they don't change the total (much).\n",
    "\n",
    "They can be interpreted as follows:\n",
    "* **eig2:** more snow from November to February, less snow from March to May.\n",
    "* **eig3:** less snow in January and February, more snow from March to May, slightly more snow in November and December.\n",
    "* **eig4:** more snow in January, February and April, less snow in March."
   ]
  },
  {
   "cell_type": "markdown",
   "metadata": {
    "run_control": {
     "frozen": false,
     "read_only": false
    }
   },
   "source": [
    "### Examples of reconstructions\n",
    "\n",
    "#### Coeff1\n",
    "\n",
    "Coeff1: most positive\n",
    "\n",
    "![SNWD_grid_pos_coeff1.svg](//cseweb.ucsd.edu/~d5liu/r_figures/SNWD_grid_pos_coeff1.svg)\n",
    "\n",
    "Coeff1: most negative\n",
    "\n",
    "![SNWD_grid_neg_coeff1.svg](//cseweb.ucsd.edu/~d5liu/r_figures/SNWD_grid_neg_coeff1.svg)\n",
    "\n",
    "We could see that large positive values of coeff1 correspond to more than average snow and low values correspond to less than average snow, which is expected since **eig1** has the same figure as the mean function.\n",
    "\n",
    "#### Coeff2\n",
    "\n",
    "Coeff2: most positive\n",
    "\n",
    "![SNWD_grid_pos_coeff2.svg](//cseweb.ucsd.edu/~d5liu/r_figures/SNWD_grid_pos_coeff2.svg)\n",
    "\n",
    "Coeff2: most negative\n",
    "\n",
    "![SNWD_grid_neg_coeff2.svg](//cseweb.ucsd.edu/~d5liu/r_figures/SNWD_grid_neg_coeff2.svg)\n",
    "\n",
    "Large positive values of coeff2 correspond to a snowless April -- the snowfall is less than usual in April. On the other side, negative values for coeff2 correspond to a snowy April.\n",
    "\n",
    "#### Coeff3\n",
    "\n",
    "Coeff3: most positive\n",
    "\n",
    "![SNWD_grid_pos_coeff3.svg](//cseweb.ucsd.edu/~d5liu/r_figures/SNWD_grid_pos_coeff3.svg)\n",
    "\n",
    "Coeff3: most negative\n",
    "\n",
    "![SNWD_grid_neg_coeff3.svg](//cseweb.ucsd.edu/~d5liu/r_figures/SNWD_grid_neg_coeff3.svg)\n",
    "\n",
    "Coeff3 is just the opposite as coeff2: positive values correspond to a snowy April and negtive values correspond to a snowless April."
   ]
  },
  {
   "cell_type": "markdown",
   "metadata": {},
   "source": [
    "## Which factor determine the coefficients? Year or station?\n",
    "\n",
    "In the previous section we see the variation of Coeff1, which corresponds to the total amount of snow, with respect to location. We now estimate the relative importance of location-to-location variation relative to year-by-year variation.\n",
    "\n",
    "These are measured using the fraction by which the variance is reduced when we subtract from each station/year entry the average-per-year or the average-per-station respectively. Here are the results:\n",
    "\n",
    "** coeff_1 **\n",
    "- total RMS                    =  1848.59752955\n",
    "- RMS removing mean-by-station =  1050.25237611, fraction explained = 43.1865314478\n",
    "- RMS removing mean-by-year    =  1621.48367705, fraction explained = 12.2857381809\n",
    "\n",
    "** coeff_2 **\n",
    "- total RMS                    =  640.657058425\n",
    "- RMS removing mean-by-station =  598.857777538, fraction explained = 6.52443929831\n",
    "- RMS removing mean-by-year    =  494.785769147, fraction explained = 22.7690130561\n",
    "\n",
    "** coeff_3 **\n",
    "- total RMS                    =  619.922538699\n",
    "- RMS removing mean-by-station =  538.19885145, fraction explained = 13.1828869168\n",
    "- RMS removing mean-by-year    =  491.171563302, fraction explained = 20.7688811681\n",
    "\n",
    "\n",
    "We see that different coefficients behavior differently. For coeff_1, the variation by station explains more than the variation by year. But for coeff_2 and coeff_3, the variance by year explains slightly more than that by station. However, both of them are not very notable, which means it's hard to tell any coefficient is merely decided by year or station."
   ]
  },
  {
   "cell_type": "markdown",
   "metadata": {},
   "source": [
    "## Analysis of precipitation"
   ]
  },
  {
   "cell_type": "markdown",
   "metadata": {},
   "source": [
    "Precipitation, as mentioned above, does not have a accumulation over time and thus is very noisy. One way to solve this is to do a convolution over time, we plot the original and processed vector below, with convolution from 0 to 50.\n",
    "\n",
    "![PRCP_Conv.svg](//cseweb.ucsd.edu/~d5liu/r_figures/PRCP_Conv.svg)\n",
    "\n",
    "The percentage of explained variance after each convolution is showed below.\n",
    "\n",
    "![PRCP_Conv_VarExplained.svg](//cseweb.ucsd.edu/~d5liu/r_figures/PRCP_Conv_VarExplained.svg)\n",
    "\n",
    "We could see that taking a conv = 30 or 40 would be a good choice. We take conv = 40."
   ]
  },
  {
   "cell_type": "markdown",
   "metadata": {},
   "source": [
    "Taking the top 4 eigenvectors, we graph the mean and the eigenvectors first.\n",
    "\n",
    "![PRCP_mean_eigs.svg](//cseweb.ucsd.edu/~d5liu/r_figures/PRCP_mean_eigs.svg)\n"
   ]
  },
  {
   "cell_type": "markdown",
   "metadata": {},
   "source": [
    "### Examples of reconstructions\n",
    "\n",
    "By doing the above analysis again, we could get the following graphs.\n",
    "\n",
    "#### Coeff1\n",
    "\n",
    "Coeff1: most positive\n",
    "\n",
    "![PRCP_grid_pos_coeff1.svg](//cseweb.ucsd.edu/~d5liu/r_figures/PRCP_grid_pos_coeff1.svg)\n",
    "\n",
    "Coeff1: most negative\n",
    "\n",
    "![PRCP_grid_neg_coeff1.svg](//cseweb.ucsd.edu/~d5liu/r_figures/PRCP_grid_neg_coeff1.svg)\n",
    "\n",
    "#### Coeff2\n",
    "\n",
    "Coeff2: most positive\n",
    "\n",
    "![PRCP_grid_pos_coeff2.svg](//cseweb.ucsd.edu/~d5liu/r_figures/PRCP_grid_pos_coeff2.svg)\n",
    "\n",
    "Coeff2: most negative\n",
    "\n",
    "![PRCP_grid_neg_coeff2.svg](//cseweb.ucsd.edu/~d5liu/r_figures/PRCP_grid_neg_coeff2.svg)\n",
    "\n",
    "#### Coeff3\n",
    "\n",
    "Coeff3: most positive\n",
    "\n",
    "![PRCP_grid_pos_coeff3.svg](//cseweb.ucsd.edu/~d5liu/r_figures/PRCP_grid_pos_coeff3.svg)\n",
    "\n",
    "Coeff3: most negative\n",
    "\n",
    "![PRCP_grid_neg_coeff3.svg](//cseweb.ucsd.edu/~d5liu/r_figures/PRCP_grid_neg_coeff3.svg)"
   ]
  },
  {
   "cell_type": "markdown",
   "metadata": {},
   "source": [
    "### Spatial or temporal?\n",
    "\n",
    "** coeff_1 **\n",
    "- total RMS                    =  105.01855224\n",
    "- RMS removing mean-by-station =  57.303438757, fraction explained = 45.4349374138\n",
    "- RMS removing mean-by-year    =  90.5520063323, fraction explained = 13.7752288519\n",
    "\n",
    "** coeff_2 **\n",
    "- total RMS                    =  60.6492657721\n",
    "- RMS removing mean-by-station =  52.2347873505, fraction explained = 13.8739988266\n",
    "- RMS removing mean-by-year    =  52.2600973837, fraction explained = 13.8322670219\n",
    "\n",
    "** coeff_3 **\n",
    "- total RMS                    =  45.8879940114\n",
    "- RMS removing mean-by-station =  43.6733582346, fraction explained = 4.8261769216\n",
    "- RMS removing mean-by-year    =  38.4352589105, fraction explained = 16.2411438142\n",
    "\n",
    "The conclusion is that, for coeff_1, it's more spatial than temporal; for coeff_2 and coeff_3, basically they are not very related to station or year."
   ]
  },
  {
   "cell_type": "markdown",
   "metadata": {},
   "source": [
    "We could plot the coeff_1 on a map. The size represents the number of records; the color represents the coeff_1 with blue coresponding to the minimum coeff_1 and red to the maximum.\n",
    "\n",
    "![PRCP_Map.png](//cseweb.ucsd.edu/~d5liu/r_figures/PRCP_Map.png)\n",
    "\n",
    "We can see that coeff_1 is mainly controlled by the vegeration of the area, in forest the coeff_1 is mostly positive and in desert it's mostly negative. This conforms to our experience since forest will often have more rain than desert."
   ]
  }
 ],
 "metadata": {
  "anaconda-cloud": {},
  "kernelspec": {
   "display_name": "Python 2",
   "language": "python",
   "name": "python2"
  },
  "language_info": {
   "codemirror_mode": {
    "name": "ipython",
    "version": 2
   },
   "file_extension": ".py",
   "mimetype": "text/x-python",
   "name": "python",
   "nbconvert_exporter": "python",
   "pygments_lexer": "ipython2",
   "version": "2.7.13"
  },
  "toc": {
   "colors": {
    "hover_highlight": "#DAA520",
    "running_highlight": "#FF0000",
    "selected_highlight": "#FFD700"
   },
   "moveMenuLeft": true,
   "nav_menu": {
    "height": "12px",
    "width": "252px"
   },
   "navigate_menu": true,
   "number_sections": true,
   "sideBar": true,
   "threshold": 4,
   "toc_cell": false,
   "toc_section_display": "block",
   "toc_window_display": false
  }
 },
 "nbformat": 4,
 "nbformat_minor": 2
}
