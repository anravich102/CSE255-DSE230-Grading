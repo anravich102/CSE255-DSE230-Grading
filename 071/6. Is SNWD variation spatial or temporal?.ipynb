{
 "cells": [
  {
   "cell_type": "markdown",
   "metadata": {
    "run_control": {
     "frozen": false,
     "read_only": false
    }
   },
   "source": [
    "## Analyze whether SNWD varies more from year to year or from place to place."
   ]
  },
  {
   "cell_type": "code",
   "execution_count": 1,
   "metadata": {
    "collapsed": true,
    "run_control": {
     "frozen": false,
     "read_only": false
    }
   },
   "outputs": [],
   "source": [
    "import pandas as pd\n",
    "import numpy as np\n",
    "import urllib\n",
    "import math"
   ]
  },
  {
   "cell_type": "code",
   "execution_count": 2,
   "metadata": {
    "collapsed": true,
    "run_control": {
     "frozen": false,
     "read_only": false
    }
   },
   "outputs": [],
   "source": [
    "import findspark\n",
    "findspark.init()\n",
    "\n",
    "from pyspark import SparkContext\n",
    "#sc.stop()\n",
    "sc = SparkContext(master=\"local[3]\",pyFiles=['lib/numpy_pack.py','lib/spark_PCA.py','lib/computeStats.py'])\n",
    "\n",
    "from pyspark import SparkContext\n",
    "from pyspark.sql import *\n",
    "sqlContext = SQLContext(sc)"
   ]
  },
  {
   "cell_type": "code",
   "execution_count": 3,
   "metadata": {
    "collapsed": true,
    "run_control": {
     "frozen": false,
     "read_only": false
    }
   },
   "outputs": [],
   "source": [
    "import sys\n",
    "sys.path.append('./lib')\n",
    "\n",
    "import numpy as np\n",
    "from numpy_pack import packArray,unpackArray\n",
    "from spark_PCA import computeCov\n",
    "from computeStats import computeOverAllDist, STAT_Descriptions"
   ]
  },
  {
   "cell_type": "code",
   "execution_count": 4,
   "metadata": {
    "run_control": {
     "frozen": false,
     "read_only": false
    },
    "scrolled": false
   },
   "outputs": [
    {
     "name": "stdout",
     "output_type": "stream",
     "text": [
      "('keys from STAT=', ['TMIN', 'TOBS', 'TMAX', 'SNOW', 'SNWD', 'PRCP'])\n",
      "584\n",
      "+------------------+-------------------+------------------+---------+--------+--------+---------+-----------+-------------------+-------------------+--------------------+------------------+-----------+------------+------+--------------------+------+\n",
      "|           coeff_1|            coeff_2|           coeff_3|elevation|   label|latitude|longitude|measurement|              res_1|              res_2|               res_3|          res_mean|    station|   total_var|undefs|              vector|  year|\n",
      "+------------------+-------------------+------------------+---------+--------+--------+---------+-----------+-------------------+-------------------+--------------------+------------------+-----------+------------+------+--------------------+------+\n",
      "|11205.420962331635| -2366.064654159652|2473.6314804565363|   2499.4|SBBSSBSS| 42.5333|-108.7667|       SNWD|0.11980034930927934|0.08619503239521785|0.040981702483828646|0.8788783529036895|USC00480443|1.63425072E8|     8|[44 64 2B 64 F0 6...|1965.0|\n",
      "| 10404.48011160797|-283.72598221311085|1082.2586555720113|   2499.4|SBBSSBSS| 42.5333|-108.7667|       SNWD|0.05134967825661191|0.04925597972534187|0.041006499787884794|0.8712363940530361|USC00480443|1.49705521E8|    29|[00 7E 00 7E 00 7...|1971.0|\n",
      "+------------------+-------------------+------------------+---------+--------+--------+---------+-----------+-------------------+-------------------+--------------------+------------------+-----------+------------+------+--------------------+------+\n",
      "only showing top 2 rows\n",
      "\n"
     ]
    }
   ],
   "source": [
    "### Read the data frame from pickle file\n",
    "\n",
    "data_dir='../../Data/Weather'\n",
    "file_index='SBBSSBSS'\n",
    "meas='SNWD'\n",
    "\n",
    "from pickle import load\n",
    "\n",
    "#read statistics\n",
    "filename=data_dir+'/STAT_%s.pickle'%file_index\n",
    "STAT,STAT_Descriptions = load(open(filename,'rb'))\n",
    "print('keys from STAT=',STAT.keys())\n",
    "\n",
    "#!ls -ld $data_dir/*.parquet\n",
    "\n",
    "#read data\n",
    "filename=data_dir+'/decon_%s_%s.parquet'%(file_index,meas)\n",
    "\n",
    "df=sqlContext.read.parquet(filename)\n",
    "print(df.count())\n",
    "df.show(2)"
   ]
  },
  {
   "cell_type": "code",
   "execution_count": 5,
   "metadata": {
    "run_control": {
     "frozen": false,
     "read_only": false
    }
   },
   "outputs": [
    {
     "name": "stdout",
     "output_type": "stream",
     "text": [
      "['coeff_1', 'coeff_2', 'coeff_3', 'elevation', 'label', 'latitude', 'longitude', 'measurement', 'res_1', 'res_2', 'res_3', 'res_mean', 'station', 'total_var', 'undefs', 'vector', 'year']\n"
     ]
    }
   ],
   "source": [
    "print df.columns"
   ]
  },
  {
   "cell_type": "code",
   "execution_count": 6,
   "metadata": {
    "run_control": {
     "frozen": false,
     "read_only": false
    },
    "scrolled": true
   },
   "outputs": [
    {
     "name": "stdout",
     "output_type": "stream",
     "text": [
      "SELECT station, year, coeff_2 FROM weather\n"
     ]
    },
    {
     "data": {
      "text/html": [
       "<div>\n",
       "<table border=\"1\" class=\"dataframe\">\n",
       "  <thead>\n",
       "    <tr style=\"text-align: right;\">\n",
       "      <th></th>\n",
       "      <th>station</th>\n",
       "      <th>year</th>\n",
       "      <th>coeff_2</th>\n",
       "    </tr>\n",
       "  </thead>\n",
       "  <tbody>\n",
       "    <tr>\n",
       "      <th>0</th>\n",
       "      <td>USC00480443</td>\n",
       "      <td>1965.0</td>\n",
       "      <td>-2366.064654</td>\n",
       "    </tr>\n",
       "    <tr>\n",
       "      <th>1</th>\n",
       "      <td>USC00480443</td>\n",
       "      <td>1971.0</td>\n",
       "      <td>-283.725982</td>\n",
       "    </tr>\n",
       "    <tr>\n",
       "      <th>2</th>\n",
       "      <td>USC00485105</td>\n",
       "      <td>1986.0</td>\n",
       "      <td>-185.607493</td>\n",
       "    </tr>\n",
       "    <tr>\n",
       "      <th>3</th>\n",
       "      <td>USC00482995</td>\n",
       "      <td>1962.0</td>\n",
       "      <td>-4058.941895</td>\n",
       "    </tr>\n",
       "    <tr>\n",
       "      <th>4</th>\n",
       "      <td>USC00480443</td>\n",
       "      <td>1984.0</td>\n",
       "      <td>-1655.210172</td>\n",
       "    </tr>\n",
       "  </tbody>\n",
       "</table>\n",
       "</div>"
      ],
      "text/plain": [
       "       station    year      coeff_2\n",
       "0  USC00480443  1965.0 -2366.064654\n",
       "1  USC00480443  1971.0  -283.725982\n",
       "2  USC00485105  1986.0  -185.607493\n",
       "3  USC00482995  1962.0 -4058.941895\n",
       "4  USC00480443  1984.0 -1655.210172"
      ]
     },
     "execution_count": 6,
     "metadata": {},
     "output_type": "execute_result"
    }
   ],
   "source": [
    "#extract longitude and latitude for each station\n",
    "feature='coeff_1'\n",
    "sqlContext.registerDataFrameAsTable(df,'weather')\n",
    "#Features=', '.join(['coeff_1', 'coeff_2', 'coeff_3', 'elevation', 'latitude', 'longitude',\\\n",
    "#          'res_1', 'res_2', 'res_3', 'res_mean', 'year'])\n",
    "Features='station, year, coeff_2'\n",
    "Query=\"SELECT %s FROM weather\"%Features\n",
    "print(Query)\n",
    "pdf = sqlContext.sql(Query).toPandas()\n",
    "pdf.head()"
   ]
  },
  {
   "cell_type": "code",
   "execution_count": 7,
   "metadata": {
    "run_control": {
     "frozen": false,
     "read_only": false
    }
   },
   "outputs": [
    {
     "data": {
      "text/html": [
       "<div>\n",
       "<table border=\"1\" class=\"dataframe\">\n",
       "  <thead>\n",
       "    <tr style=\"text-align: right;\">\n",
       "      <th>station</th>\n",
       "      <th>US1WYCR0001</th>\n",
       "      <th>US1WYFM0021</th>\n",
       "      <th>US1WYNT0003</th>\n",
       "      <th>US1WYNT0024</th>\n",
       "      <th>US1WYNT0029</th>\n",
       "      <th>USC00480027</th>\n",
       "      <th>USC00480443</th>\n",
       "      <th>USC00480498</th>\n",
       "      <th>USC00480550</th>\n",
       "      <th>USC00480552</th>\n",
       "      <th>...</th>\n",
       "      <th>USC00488808</th>\n",
       "      <th>USC00489459</th>\n",
       "      <th>USC00489615</th>\n",
       "      <th>USW00024019</th>\n",
       "      <th>USW00024021</th>\n",
       "      <th>USW00024027</th>\n",
       "      <th>USW00024031</th>\n",
       "      <th>USW00024057</th>\n",
       "      <th>USW00024118</th>\n",
       "      <th>USW00024164</th>\n",
       "    </tr>\n",
       "    <tr>\n",
       "      <th>year</th>\n",
       "      <th></th>\n",
       "      <th></th>\n",
       "      <th></th>\n",
       "      <th></th>\n",
       "      <th></th>\n",
       "      <th></th>\n",
       "      <th></th>\n",
       "      <th></th>\n",
       "      <th></th>\n",
       "      <th></th>\n",
       "      <th></th>\n",
       "      <th></th>\n",
       "      <th></th>\n",
       "      <th></th>\n",
       "      <th></th>\n",
       "      <th></th>\n",
       "      <th></th>\n",
       "      <th></th>\n",
       "      <th></th>\n",
       "      <th></th>\n",
       "      <th></th>\n",
       "    </tr>\n",
       "  </thead>\n",
       "  <tbody>\n",
       "    <tr>\n",
       "      <th>1948.0</th>\n",
       "      <td>NaN</td>\n",
       "      <td>NaN</td>\n",
       "      <td>NaN</td>\n",
       "      <td>NaN</td>\n",
       "      <td>NaN</td>\n",
       "      <td>NaN</td>\n",
       "      <td>NaN</td>\n",
       "      <td>NaN</td>\n",
       "      <td>NaN</td>\n",
       "      <td>NaN</td>\n",
       "      <td>...</td>\n",
       "      <td>NaN</td>\n",
       "      <td>NaN</td>\n",
       "      <td>NaN</td>\n",
       "      <td>41.904065</td>\n",
       "      <td>200.257955</td>\n",
       "      <td>NaN</td>\n",
       "      <td>3.054171</td>\n",
       "      <td>NaN</td>\n",
       "      <td>657.415000</td>\n",
       "      <td>NaN</td>\n",
       "    </tr>\n",
       "    <tr>\n",
       "      <th>1949.0</th>\n",
       "      <td>NaN</td>\n",
       "      <td>NaN</td>\n",
       "      <td>NaN</td>\n",
       "      <td>NaN</td>\n",
       "      <td>NaN</td>\n",
       "      <td>NaN</td>\n",
       "      <td>NaN</td>\n",
       "      <td>32.960902</td>\n",
       "      <td>NaN</td>\n",
       "      <td>NaN</td>\n",
       "      <td>...</td>\n",
       "      <td>NaN</td>\n",
       "      <td>177.212944</td>\n",
       "      <td>NaN</td>\n",
       "      <td>37.008682</td>\n",
       "      <td>552.516025</td>\n",
       "      <td>240.014505</td>\n",
       "      <td>125.788324</td>\n",
       "      <td>NaN</td>\n",
       "      <td>748.410337</td>\n",
       "      <td>320.475487</td>\n",
       "    </tr>\n",
       "    <tr>\n",
       "      <th>1950.0</th>\n",
       "      <td>NaN</td>\n",
       "      <td>NaN</td>\n",
       "      <td>NaN</td>\n",
       "      <td>NaN</td>\n",
       "      <td>NaN</td>\n",
       "      <td>NaN</td>\n",
       "      <td>NaN</td>\n",
       "      <td>NaN</td>\n",
       "      <td>NaN</td>\n",
       "      <td>NaN</td>\n",
       "      <td>...</td>\n",
       "      <td>NaN</td>\n",
       "      <td>NaN</td>\n",
       "      <td>NaN</td>\n",
       "      <td>NaN</td>\n",
       "      <td>NaN</td>\n",
       "      <td>NaN</td>\n",
       "      <td>NaN</td>\n",
       "      <td>NaN</td>\n",
       "      <td>-23.477381</td>\n",
       "      <td>-5.978068</td>\n",
       "    </tr>\n",
       "    <tr>\n",
       "      <th>1951.0</th>\n",
       "      <td>NaN</td>\n",
       "      <td>NaN</td>\n",
       "      <td>NaN</td>\n",
       "      <td>NaN</td>\n",
       "      <td>NaN</td>\n",
       "      <td>NaN</td>\n",
       "      <td>NaN</td>\n",
       "      <td>NaN</td>\n",
       "      <td>NaN</td>\n",
       "      <td>NaN</td>\n",
       "      <td>...</td>\n",
       "      <td>NaN</td>\n",
       "      <td>NaN</td>\n",
       "      <td>NaN</td>\n",
       "      <td>NaN</td>\n",
       "      <td>NaN</td>\n",
       "      <td>NaN</td>\n",
       "      <td>NaN</td>\n",
       "      <td>NaN</td>\n",
       "      <td>568.135975</td>\n",
       "      <td>NaN</td>\n",
       "    </tr>\n",
       "    <tr>\n",
       "      <th>1952.0</th>\n",
       "      <td>NaN</td>\n",
       "      <td>NaN</td>\n",
       "      <td>NaN</td>\n",
       "      <td>NaN</td>\n",
       "      <td>NaN</td>\n",
       "      <td>NaN</td>\n",
       "      <td>NaN</td>\n",
       "      <td>NaN</td>\n",
       "      <td>NaN</td>\n",
       "      <td>NaN</td>\n",
       "      <td>...</td>\n",
       "      <td>NaN</td>\n",
       "      <td>-260.645539</td>\n",
       "      <td>NaN</td>\n",
       "      <td>NaN</td>\n",
       "      <td>-310.382418</td>\n",
       "      <td>NaN</td>\n",
       "      <td>NaN</td>\n",
       "      <td>NaN</td>\n",
       "      <td>-558.766845</td>\n",
       "      <td>-644.948347</td>\n",
       "    </tr>\n",
       "    <tr>\n",
       "      <th>1953.0</th>\n",
       "      <td>NaN</td>\n",
       "      <td>NaN</td>\n",
       "      <td>NaN</td>\n",
       "      <td>NaN</td>\n",
       "      <td>NaN</td>\n",
       "      <td>NaN</td>\n",
       "      <td>NaN</td>\n",
       "      <td>NaN</td>\n",
       "      <td>NaN</td>\n",
       "      <td>NaN</td>\n",
       "      <td>...</td>\n",
       "      <td>NaN</td>\n",
       "      <td>NaN</td>\n",
       "      <td>NaN</td>\n",
       "      <td>-161.613416</td>\n",
       "      <td>-184.445390</td>\n",
       "      <td>NaN</td>\n",
       "      <td>NaN</td>\n",
       "      <td>NaN</td>\n",
       "      <td>-222.794627</td>\n",
       "      <td>NaN</td>\n",
       "    </tr>\n",
       "    <tr>\n",
       "      <th>1954.0</th>\n",
       "      <td>NaN</td>\n",
       "      <td>NaN</td>\n",
       "      <td>NaN</td>\n",
       "      <td>NaN</td>\n",
       "      <td>NaN</td>\n",
       "      <td>NaN</td>\n",
       "      <td>NaN</td>\n",
       "      <td>NaN</td>\n",
       "      <td>NaN</td>\n",
       "      <td>NaN</td>\n",
       "      <td>...</td>\n",
       "      <td>NaN</td>\n",
       "      <td>NaN</td>\n",
       "      <td>NaN</td>\n",
       "      <td>NaN</td>\n",
       "      <td>NaN</td>\n",
       "      <td>NaN</td>\n",
       "      <td>NaN</td>\n",
       "      <td>NaN</td>\n",
       "      <td>NaN</td>\n",
       "      <td>NaN</td>\n",
       "    </tr>\n",
       "    <tr>\n",
       "      <th>1955.0</th>\n",
       "      <td>NaN</td>\n",
       "      <td>NaN</td>\n",
       "      <td>NaN</td>\n",
       "      <td>NaN</td>\n",
       "      <td>NaN</td>\n",
       "      <td>NaN</td>\n",
       "      <td>NaN</td>\n",
       "      <td>NaN</td>\n",
       "      <td>-47.706539</td>\n",
       "      <td>NaN</td>\n",
       "      <td>...</td>\n",
       "      <td>NaN</td>\n",
       "      <td>-113.360618</td>\n",
       "      <td>NaN</td>\n",
       "      <td>-249.457736</td>\n",
       "      <td>41.070583</td>\n",
       "      <td>-94.019307</td>\n",
       "      <td>NaN</td>\n",
       "      <td>NaN</td>\n",
       "      <td>-111.316992</td>\n",
       "      <td>NaN</td>\n",
       "    </tr>\n",
       "    <tr>\n",
       "      <th>1956.0</th>\n",
       "      <td>NaN</td>\n",
       "      <td>NaN</td>\n",
       "      <td>NaN</td>\n",
       "      <td>NaN</td>\n",
       "      <td>NaN</td>\n",
       "      <td>NaN</td>\n",
       "      <td>NaN</td>\n",
       "      <td>NaN</td>\n",
       "      <td>-2.920383</td>\n",
       "      <td>NaN</td>\n",
       "      <td>...</td>\n",
       "      <td>NaN</td>\n",
       "      <td>NaN</td>\n",
       "      <td>NaN</td>\n",
       "      <td>NaN</td>\n",
       "      <td>90.378043</td>\n",
       "      <td>NaN</td>\n",
       "      <td>NaN</td>\n",
       "      <td>NaN</td>\n",
       "      <td>NaN</td>\n",
       "      <td>NaN</td>\n",
       "    </tr>\n",
       "    <tr>\n",
       "      <th>1957.0</th>\n",
       "      <td>NaN</td>\n",
       "      <td>NaN</td>\n",
       "      <td>NaN</td>\n",
       "      <td>NaN</td>\n",
       "      <td>NaN</td>\n",
       "      <td>NaN</td>\n",
       "      <td>NaN</td>\n",
       "      <td>NaN</td>\n",
       "      <td>185.764410</td>\n",
       "      <td>NaN</td>\n",
       "      <td>...</td>\n",
       "      <td>NaN</td>\n",
       "      <td>NaN</td>\n",
       "      <td>NaN</td>\n",
       "      <td>NaN</td>\n",
       "      <td>NaN</td>\n",
       "      <td>NaN</td>\n",
       "      <td>NaN</td>\n",
       "      <td>NaN</td>\n",
       "      <td>NaN</td>\n",
       "      <td>NaN</td>\n",
       "    </tr>\n",
       "  </tbody>\n",
       "</table>\n",
       "<p>10 rows × 60 columns</p>\n",
       "</div>"
      ],
      "text/plain": [
       "station  US1WYCR0001  US1WYFM0021  US1WYNT0003  US1WYNT0024  US1WYNT0029  \\\n",
       "year                                                                       \n",
       "1948.0           NaN          NaN          NaN          NaN          NaN   \n",
       "1949.0           NaN          NaN          NaN          NaN          NaN   \n",
       "1950.0           NaN          NaN          NaN          NaN          NaN   \n",
       "1951.0           NaN          NaN          NaN          NaN          NaN   \n",
       "1952.0           NaN          NaN          NaN          NaN          NaN   \n",
       "1953.0           NaN          NaN          NaN          NaN          NaN   \n",
       "1954.0           NaN          NaN          NaN          NaN          NaN   \n",
       "1955.0           NaN          NaN          NaN          NaN          NaN   \n",
       "1956.0           NaN          NaN          NaN          NaN          NaN   \n",
       "1957.0           NaN          NaN          NaN          NaN          NaN   \n",
       "\n",
       "station  USC00480027  USC00480443  USC00480498  USC00480550  USC00480552  \\\n",
       "year                                                                       \n",
       "1948.0           NaN          NaN          NaN          NaN          NaN   \n",
       "1949.0           NaN          NaN    32.960902          NaN          NaN   \n",
       "1950.0           NaN          NaN          NaN          NaN          NaN   \n",
       "1951.0           NaN          NaN          NaN          NaN          NaN   \n",
       "1952.0           NaN          NaN          NaN          NaN          NaN   \n",
       "1953.0           NaN          NaN          NaN          NaN          NaN   \n",
       "1954.0           NaN          NaN          NaN          NaN          NaN   \n",
       "1955.0           NaN          NaN          NaN   -47.706539          NaN   \n",
       "1956.0           NaN          NaN          NaN    -2.920383          NaN   \n",
       "1957.0           NaN          NaN          NaN   185.764410          NaN   \n",
       "\n",
       "station     ...       USC00488808  USC00489459  USC00489615  USW00024019  \\\n",
       "year        ...                                                            \n",
       "1948.0      ...               NaN          NaN          NaN    41.904065   \n",
       "1949.0      ...               NaN   177.212944          NaN    37.008682   \n",
       "1950.0      ...               NaN          NaN          NaN          NaN   \n",
       "1951.0      ...               NaN          NaN          NaN          NaN   \n",
       "1952.0      ...               NaN  -260.645539          NaN          NaN   \n",
       "1953.0      ...               NaN          NaN          NaN  -161.613416   \n",
       "1954.0      ...               NaN          NaN          NaN          NaN   \n",
       "1955.0      ...               NaN  -113.360618          NaN  -249.457736   \n",
       "1956.0      ...               NaN          NaN          NaN          NaN   \n",
       "1957.0      ...               NaN          NaN          NaN          NaN   \n",
       "\n",
       "station  USW00024021  USW00024027  USW00024031  USW00024057  USW00024118  \\\n",
       "year                                                                       \n",
       "1948.0    200.257955          NaN     3.054171          NaN   657.415000   \n",
       "1949.0    552.516025   240.014505   125.788324          NaN   748.410337   \n",
       "1950.0           NaN          NaN          NaN          NaN   -23.477381   \n",
       "1951.0           NaN          NaN          NaN          NaN   568.135975   \n",
       "1952.0   -310.382418          NaN          NaN          NaN  -558.766845   \n",
       "1953.0   -184.445390          NaN          NaN          NaN  -222.794627   \n",
       "1954.0           NaN          NaN          NaN          NaN          NaN   \n",
       "1955.0     41.070583   -94.019307          NaN          NaN  -111.316992   \n",
       "1956.0     90.378043          NaN          NaN          NaN          NaN   \n",
       "1957.0           NaN          NaN          NaN          NaN          NaN   \n",
       "\n",
       "station  USW00024164  \n",
       "year                  \n",
       "1948.0           NaN  \n",
       "1949.0    320.475487  \n",
       "1950.0     -5.978068  \n",
       "1951.0           NaN  \n",
       "1952.0   -644.948347  \n",
       "1953.0           NaN  \n",
       "1954.0           NaN  \n",
       "1955.0           NaN  \n",
       "1956.0           NaN  \n",
       "1957.0           NaN  \n",
       "\n",
       "[10 rows x 60 columns]"
      ]
     },
     "execution_count": 7,
     "metadata": {},
     "output_type": "execute_result"
    }
   ],
   "source": [
    "year_station_table=pdf.pivot(index='year', columns='station', values='coeff_2')\n",
    "year_station_table.head(10)"
   ]
  },
  {
   "cell_type": "markdown",
   "metadata": {
    "run_control": {
     "frozen": false,
     "read_only": false
    }
   },
   "source": [
    "### Estimating the effect of the year vs the effect of the station\n",
    "\n",
    "To estimate the effect of time vs. location on the first eigenvector coefficient we\n",
    "compute:\n",
    "\n",
    "* The average row: `mean-by-station`\n",
    "* The average column: `mean-by-year`\n",
    "\n",
    "We then compute the RMS before and after subtracting either  the row or the column vector."
   ]
  },
  {
   "cell_type": "code",
   "execution_count": 8,
   "metadata": {
    "run_control": {
     "frozen": false,
     "read_only": false
    },
    "scrolled": true
   },
   "outputs": [
    {
     "name": "stdout",
     "output_type": "stream",
     "text": [
      "total RMS                   =  640.657058425\n",
      "RMS removing mean-by-station=  598.857777538\n",
      "RMS removing mean-by-year   =  494.785769147\n"
     ]
    }
   ],
   "source": [
    "def RMS(Mat):\n",
    "    return np.sqrt(np.nanmean(Mat**2))\n",
    "\n",
    "mean_by_year=np.nanmean(year_station_table,axis=1)\n",
    "mean_by_station=np.nanmean(year_station_table,axis=0)\n",
    "tbl_minus_year = (year_station_table.transpose()-mean_by_year).transpose()\n",
    "tbl_minus_station = year_station_table-mean_by_station\n",
    "\n",
    "print 'total RMS                   = ',RMS(year_station_table)\n",
    "print 'RMS removing mean-by-station= ',RMS(tbl_minus_station)\n",
    "print 'RMS removing mean-by-year   = ',RMS(tbl_minus_year)"
   ]
  },
  {
   "cell_type": "code",
   "execution_count": 18,
   "metadata": {},
   "outputs": [
    {
     "name": "stdout",
     "output_type": "stream",
     "text": [
      "** coeff_1 **\n",
      "total RMS                    =  1848.59752955\n",
      "RMS removing mean-by-station =  1050.25237611 , fraction explained = 43.1865314478\n",
      "RMS removing mean-by-year    =  1621.48367705 , fraction explained = 12.2857381809\n",
      "\n",
      "** coeff_2 **\n",
      "total RMS                    =  640.657058425\n",
      "RMS removing mean-by-station =  598.857777538 , fraction explained = 6.52443929831\n",
      "RMS removing mean-by-year    =  494.785769147 , fraction explained = 22.7690130561\n",
      "\n",
      "** coeff_3 **\n",
      "total RMS                    =  619.922538699\n",
      "RMS removing mean-by-station =  538.19885145 , fraction explained = 13.1828869168\n",
      "RMS removing mean-by-year    =  491.171563302 , fraction explained = 20.7688811681\n",
      "\n"
     ]
    }
   ],
   "source": [
    "for i in range(1, 4):\n",
    "    i = str(i)\n",
    "    year_station_table = sqlContext.sql('select station, year, coeff_'+i+' from weather').toPandas().pivot(index='year', columns='station', values='coeff_'+i)\n",
    "    mean_by_year=np.nanmean(year_station_table,axis=1)\n",
    "    mean_by_station=np.nanmean(year_station_table,axis=0)\n",
    "    tbl_minus_year = (year_station_table.transpose()-mean_by_year).transpose()\n",
    "    tbl_minus_station = year_station_table-mean_by_station\n",
    "\n",
    "    print '** coeff_'+i+' **'\n",
    "    print 'total RMS                    = ',RMS(year_station_table)\n",
    "    print 'RMS removing mean-by-station = ',RMS(tbl_minus_station), ', fraction explained =', (RMS(year_station_table) - RMS(tbl_minus_station)) / RMS(year_station_table) * 100\n",
    "    print 'RMS removing mean-by-year    = ',RMS(tbl_minus_year), ', fraction explained =', (RMS(year_station_table) - RMS(tbl_minus_year)) / RMS(year_station_table) * 100\n",
    "    print"
   ]
  },
  {
   "cell_type": "code",
   "execution_count": 9,
   "metadata": {
    "run_control": {
     "frozen": false,
     "read_only": false
    }
   },
   "outputs": [
    {
     "name": "stdout",
     "output_type": "stream",
     "text": [
      "initial RMS= 640.657058425\n",
      "0 after removing mean by year     = 494.785769147\n",
      "0 after removing mean by stations = 469.392732\n",
      "1 after removing mean by year     = 467.426680216\n",
      "1 after removing mean by stations = 467.088766459\n",
      "2 after removing mean by year     = 467.002086882\n",
      "2 after removing mean by stations = 466.973000011\n",
      "3 after removing mean by year     = 466.961258651\n",
      "3 after removing mean by stations = 466.955877786\n",
      "4 after removing mean by year     = 466.953195077\n",
      "4 after removing mean by stations = 466.951784576\n"
     ]
    }
   ],
   "source": [
    "T=year_station_table\n",
    "print 'initial RMS=',RMS(T)\n",
    "for i in range(5):\n",
    "    mean_by_year=np.nanmean(T,axis=1)\n",
    "    T=(T.transpose()-mean_by_year).transpose()\n",
    "    print i,'after removing mean by year     =',RMS(T)\n",
    "    mean_by_station=np.nanmean(T,axis=0)\n",
    "    T=T-mean_by_station\n",
    "    print i,'after removing mean by stations =',RMS(T)"
   ]
  },
  {
   "cell_type": "code",
   "execution_count": null,
   "metadata": {
    "collapsed": true,
    "run_control": {
     "frozen": false,
     "read_only": false
    }
   },
   "outputs": [],
   "source": []
  }
 ],
 "metadata": {
  "anaconda-cloud": {},
  "hide_input": false,
  "kernelspec": {
   "display_name": "Python 2",
   "language": "python",
   "name": "python2"
  },
  "language_info": {
   "codemirror_mode": {
    "name": "ipython",
    "version": 2
   },
   "file_extension": ".py",
   "mimetype": "text/x-python",
   "name": "python",
   "nbconvert_exporter": "python",
   "pygments_lexer": "ipython2",
   "version": "2.7.13"
  },
  "toc": {
   "colors": {
    "hover_highlight": "#DAA520",
    "running_highlight": "#FF0000",
    "selected_highlight": "#FFD700"
   },
   "moveMenuLeft": true,
   "nav_menu": {
    "height": "174px",
    "width": "252px"
   },
   "navigate_menu": true,
   "number_sections": true,
   "sideBar": true,
   "threshold": 4,
   "toc_cell": false,
   "toc_section_display": "block",
   "toc_window_display": false
  },
  "widgets": {
   "state": {},
   "version": "1.0.0"
  }
 },
 "nbformat": 4,
 "nbformat_minor": 1
}
