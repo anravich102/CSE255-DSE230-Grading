{
 "cells": [
  {
   "cell_type": "markdown",
   "metadata": {},
   "source": [
    "# SSSBSBBS(Boarder region between CA and NV) Weather Analysis\n",
    "\n",
    "This is a report on the historical analysis of weather patterns in an area that approximately overlaps the rectangle area between California and Nevada, right below Reno and Carson City, to the right of Sacramento, and on top of Tonopah. This area covers Lake Tahoe, Eldorado National Forest, Alpine County Airport, Humboldt-Toiyabe National Forest and their nearby areas.\n",
    "\n",
    "Report area coverage:\n",
    "<p><img alt=\"target_area.png\" src=\"my_figures/map_coverage.png\"/></p>\n",
    "\n",
    "Reference map:\n",
    "<p><img alt=\"reference_map.png\" src=\"my_figures/reference_map.png\"/></p>\n",
    "\n",
    "The data I will use here comes from [NOAA](https://www.ncdc.noaa.gov/). Specifically, it was downloaded from This [FTP site](ftp://ftp.ncdc.noaa.gov/pub/data/ghcn/daily/).\n",
    "\n",
    "I focused on six measurements:\n",
    "* **TMIN, TMAX:** the daily minimum and maximum temperature (tenths of degrees C).\n",
    "* **TOBS:** Temperature at the time of observation for each day (tenths of degrees C).\n",
    "* **PRCP:** Daily Percipitation (in tenths of mm)\n",
    "* **SNOW:** Daily snowfall (in mm)\n",
    "* **SNWD:** The depth of accumulated snow (in mm).\n",
    "\n",
    "<p>The dataset I am using is from the SSSBSBBS section.</p>\n",
    "<p>There are 12152 data points collected from this section that covers 135 stations. Not all stations have all types of measurements.</p>\n",
    "\n",
    "## Sanity-check: comparison with outside sources\n",
    "\n",
    "<p>I start by comparing some of the general statistics with graphs that I obtained from a site called <a href=\"http://www.usclimatedata.com/climate/south-lake-tahoe/california/united-states/usca1317\" target=\"_blank\">US Climate Data</a> The graph below shows the average minimum and maximum temperatures for each month, as well as the total precipitation for each month.</p>\n",
    "\n",
    "<p>Given that California and Nevada have very different climate depending on the locations in this region, the two cities I have chosen to compare here is South Lake Tahoe, CA and Minden, NV</p>\n",
    "<p><img alt=\"reference_south_lake_tahoe.png\" src=\"my_figures/reference_south_lake_tahoe.png\"/></p>\n",
    "<p><img alt=\"reference_minden.png\" src=\"my_figures/reference_minden.png\"/></p>\n",
    "<p> We can see that the min and max average temperature agrees with my data.</p>\n",
    "\n",
    "<p><img alt=\"TMIN_TMAX.png\" src=\"my_figures/TMIN_TMAX.png\" style=\"height:300px; width:800px\" /></p>\n",
    "\n",
    "<p> According to my analysis the average rainfall is 1.66 mm/day which translates to about 50mm per month. According to US-Climate-Data the average rainfall is 111 mm per month for South Lake Tahoe and 18mm for Minden. The average rainfall of these two places is roughly close to my estimation. Additionally, there is a clear agreement that the average precipitation becomes lower in the summer months for both places, which also agrees with our data. The large variation in the raining seasons in our data also explains the large variation between those two places.</p>\n",
    "\n",
    "<p><img alt=\"prcp_mean_std.png\" src=\"my_figures/prcp_mean_std.png\" style=\"height:450px; width:600px\" /></p>\n",
    "\n",
    "<p> The graph below shows the monthly average snowfall for each month in cm from <a href=\"http://www.usclimatedata.com/climate/boston/massachusetts/united-states/usma0046\" target=\"_blank\">US Climate Data</a> </p>\n",
    "<p><img alt=\"reference_snow_slt.png\" src=\"my_figures/reference_snow_slt.png\"/><p>\n",
    "<p><img alt=\"reference_snow_minden.png\" src=\"my_figures/reference_snow_minden.png\"/><p>\n",
    "\n",
    "<p> According to my analysis the average snowfall is 0.17 cm/day which translates to about 5.3cm per month. According to US-Climate-Data the average snowfall is about 86cm per month for South Lake Tahoe and 3.6cm per month for Minden. Given that Tahoe is a special case for aboundon snowfalls, most of the area in my data may seem to agree with the Minden snowfall data more, whereas South Lake Tahoe may explain the large variations in our snowfall data in the winter months, especially in March. There is also a clear agreement that the average snowfall is lowest in July and August, and that snow depth remained flat until late September.</p>\n",
    "<p><img alt=\"SNOW_SNWD.png\" src=\"my_figures/SNOW_SNWD.png\"/><p>\n"
   ]
  },
  {
   "cell_type": "markdown",
   "metadata": {
    "collapsed": true
   },
   "source": [
    "## PCA analysis\n",
    "\n",
    "For each of the six measurement, I compute the percentate of the variance explained as a function of the number of eigen-vectors used.\n",
    "\n",
    "### Percentage of variance explained.\n",
    "![TMIN_TOBS_TMAX.png](my_figures/TMIN_TOBS_TMAX.png)\n",
    "I see that the top 5 eigen-vectors explain 60% of variance for TMIN, 69% for TOBS and 52% for TMAX.\n",
    "\n",
    "I conclude that of the three, TOBS is best explained by the top 5 eigenvectors. This is especially true for the first eigen-vector which, by itself, explains 61% of the variance. Based on that I will dig deeper into the PCA analysis for TOBS.\n",
    "\n",
    "![SNOW_SNWD_PRCP.png](my_figures/SNOW_SNWD_PRCP.png)\n",
    "\n",
    "The top 5 eigenvectors explain 17.5% of the variance for PRCP and 14% for SNOW. Both are low values. On the other hand the top 5 eigenvectors explain 82% of the variance for SNWD. This means that these top 5 eigenvectors capture most of the variation in the accumulated snow depth signals. Based on that I will dig deeper into the PCA analysis for snow-depth.\n",
    "\n",
    "It makes sense that SNWD would be less noisy than SNOW. That is because SNWD is a decaying integral of SNOW and, as such, varies less between days and between the same date on diffferent years."
   ]
  },
  {
   "cell_type": "markdown",
   "metadata": {},
   "source": [
    "## Analysis of Temperature (TOBS)\n",
    "\n",
    "I choose to analyze the eigen-decomposition for TOBS because the first eigen-vector explain 61% of the variance, and first 3 eigen-vectors explain 66% of the variance.\n",
    "\n",
    "First, we graph the mean and the top 3 eigen-vectors.\n",
    "\n",
    "I observe that the temperature gradually increase from Janurary to August, then decrease all the way to December.\n",
    "![TOBS_mean_eigs.png](my_figures/TOBS_mean_3eigs.png)"
   ]
  },
  {
   "cell_type": "markdown",
   "metadata": {},
   "source": [
    "Next I try to interpret the eigen-functions. The first eigen-function (eig1) has a shape that is very close to the opposite of mean function. My interpretation of this shape is that eig1 represents the below/above average distribution of temperature over time.\n",
    "\n",
    "![TOBS_mean_1eigs.png](my_figures/TOBS_mean_1eigs.png)\n",
    "\n",
    "**eig2 and eig3** are similar in the following way. They all oscilate between positive and negative values. In other words, they correspond to changing the distribution of the temperature, but they don't change the total (much).\n",
    "\n",
    "They can be interpreted as follows:\n",
    "* **eig2:** Temperature drops around May and June.\n",
    "* **eig3:** Tempereature has graduate increase that rises slower than average, then a decline after October that is sharper than average.\n"
   ]
  },
  {
   "cell_type": "markdown",
   "metadata": {},
   "source": [
    "### Examples of reconstructions\n",
    "\n",
    "#### Coeff1\n",
    "Coeff1: most positive\n",
    "![TOBS_coeff1_pos4.png](my_figures/TOBS_coeff1_pos4.png)\n",
    "Coeff1: most negative\n",
    "![TOBS_coeff1_neg4.png](my_figures/TOBS_coeff1_neg4.png)\n",
    "Large positive values of coeff1 correspond to less than average temperature. Low values correspond to higher than average temperature.\n",
    "\n",
    "#### Coeff2\n",
    "Coeff2: most positive\n",
    "![TOBS_coeff2_pos4.png](my_figures/TOBS_coeff2_pos4.png)\n",
    "Coeff2: most negative\n",
    "![TOBS_coeff2_neg4.png](my_figures/TOBS_coeff2_neg4.png)\n",
    "\n",
    "Large positive values of coeff2 correspond to two temperature peaks around Feburary and August. Negative values for coeff2 correspond to one temperature peak with a lower than average start in Janurary.\n",
    "\n",
    "#### Coeff3\n",
    "Coeff3: most positive\n",
    "![TOBS_coeff3_pos4.png](my_figures/TOBS_coeff3_pos4.png)\n",
    "Coeff3: most negative\n",
    "![TOBS_coeff3_neg4.png](my_figures/TOBS_coeff3_neg4.png)\n",
    "\n",
    "Large positive values of coeff3 correspond to a late temperature peak. Negative values for coeff3 correspond to above average temperature in an early temperature peak."
   ]
  },
  {
   "cell_type": "markdown",
   "metadata": {},
   "source": [
    "## Analysis of snow depth\n",
    "\n",
    "I choose to analyze the eigen-decomposition for snow-depth because the first eigen-vector explain 65% of the variance, and first 3 eigen-vectors explain 80% of the variance.\n",
    "\n",
    "First, we graph the mean and the top 3 eigen-vectors.\n",
    "\n",
    "I observe that the snow season is from mid-November to the end of June, where the beginning of February marks the peak of the snow-depth.\n",
    "![SNWD_mean_eigs.png](my_figures/SNWD_mean_4eigs.png)"
   ]
  },
  {
   "cell_type": "markdown",
   "metadata": {},
   "source": [
    "Next I try to interpret the eigen-functions. The first eigen-function (eig1) has a shape that is very close to the mean function. My interpretation of this shape is that eig1 represents the above/below average distribution of snow-depth over time.\n",
    "\n",
    "![SNWD_mean_1eigs.png](my_figures/SNWD_mean_1eigs.png)\n",
    "\n",
    "**eig2 and eig3** are similar in the following way. They all oscilate between positive and negative values. In other words, they correspond to changing the distribution of the snow depth over the winter months, but they don't change the total (much).\n",
    "\n",
    "They can be interpreted as follows:\n",
    "* **eig2:** more snow in Jan - Mar, less snow in Apr - May.\n",
    "* **eig3:** less snow in Jan, a bit more in Feb, then less snow in mid Feb, more snow in mid Mar, early Apr, a lot less snow in May, and no snow in Nov - Dec."
   ]
  },
  {
   "cell_type": "markdown",
   "metadata": {
    "collapsed": true
   },
   "source": [
    "### Examples of reconstructions\n",
    "\n",
    "#### Coeff1\n",
    "Coeff1: most positive\n",
    "![SNWD_coeff1_pos4.png](my_figures/SNWD_coeff1_pos4.png)\n",
    "Coeff1: most negative\n",
    "![SNWD_coeff1_neg4.png](my_figures/SNWD_coeff1_neg4.png)\n",
    "Large positive values of coeff1 correspond to more than average snow. Low values correspond to less than average snow.\n",
    "\n",
    "#### Coeff2\n",
    "Coeff2: most positive\n",
    "![SNWD_coeff2_pos4.png](my_figures/SNWD_coeff2_pos4.png)\n",
    "Coeff2: most negative\n",
    "![SNWD_coeff2_neg4.png](my_figures/SNWD_coeff2_neg4.png)\n",
    "\n",
    "Large positive values of coeff2 correspond to a early snow season (most of the snowfall is in Jan and early Feb. Negative values for coeff2 correspond to a late snow season (most of the snow is in Apr).\n",
    "#### Coeff3\n",
    "Coeff3: most positive\n",
    "![SNWD_coeff3_pos4.png](my_figures/SNWD_coeff3_pos4.png)\n",
    "Coeff3: most negative\n",
    "![SNWD_coeff3_neg4.png](my_figures/SNWD_coeff3_neg4.png)\n",
    "\n",
    "Large positive values of coeff3 correspond to a snow season with three peak in Feburary, midMarch and early April in ascending order, and almost no snow in December. Negative values of coeff3 correspond to a season with patterns that has less than three peaks that peaks near Feburary, and another snow depth peak in December.\n"
   ]
  },
  {
   "cell_type": "markdown",
   "metadata": {},
   "source": [
    "## The variation in the total temperature is mostly due to station-to-station variation\n",
    "In the previous section we see the variation of Coeff1, which corresponds to the total temperature, with respect to location. We now estimate the relative importance of location-to-location variation relative to year-by-year variation.\n",
    "\n",
    "These are measured using the fraction by which the variance is reduced when we subtract from each station/year entry the average-per-year or the average-per-station respectively. Here are the results:\n",
    "\n",
    "** coeff_1 **  \n",
    "total MS                   = 859066.97  \n",
    "MS removing mean-by-station= 125272.32, fraction explained=85.4  \n",
    "MS removing mean-by-year   = 683771.38, fraction explained=20.4  \n",
    "\n",
    "** coeff_2 **  \n",
    "total MS                   = 67742.33  \n",
    "MS removing mean-by-station= 29251.84, fraction explained= 56.8  \n",
    "MS removing mean-by-year   = 48273.36, fraction explained= 28.7  \n",
    "\n",
    "** coeff_3 **  \n",
    "total MS                   = 39900.90 \n",
    "MS removing mean-by-station= 26517.29, fraction explained= 33.5  \n",
    "MS removing mean-by-year   = 23484.10, fraction explained= 41.1  \n",
    "\n",
    "** coeff_4 **  \n",
    "total MS                   = 26434.85  \n",
    "MS removing mean-by-station= 24739.02, fraction explained= 6.4  \n",
    "MS removing mean-by-year   = 7169.97, fraction explained=72.9  \n",
    "\n",
    "\n",
    "We see that the variation by station explains more than the variation by year for coeff_1, whose corresponding eigenvector explains 60% of the data. However this effect is weaker for coeff_2, which has to do with timing of the temperature changes. It is not obvious which variation plays a bigger row if we coeff_3, and the effect is reversed by coeff_4. It is possible that their variation is more due to the effect of year. However, given that eigenvector 3 and 4 only explains a small fraction of the data, it is hard to say if year-to-year variation plays a big role in the timing of the temperature changes. In conclusion, the main variations in the total temperature is due to station-to-station variation."
   ]
  },
  {
   "cell_type": "markdown",
   "metadata": {},
   "source": [
    "## The variation in the total snow depth is mostly due to station-to-station variation\n",
    "In the previous section we see the variation of Coeff1, which corresponds to the total amount of snow depth, with respect to location. We now estimate the relative importance of location-to-location variation relative to year-by-year variation.\n",
    "\n",
    "These are measured using the fraction by which the variance is reduced when we subtract from each station/year entry the average-per-year or the average-per-station respectively. Here are the results:\n",
    "\n",
    "** coeff_1 **  \n",
    "total MS                   = 12422473.71  \n",
    "MS removing mean-by-station= 3051699.85, fraction explained=75.4  \n",
    "MS removing mean-by-year   = 8221246.26, fraction explained=33.8  \n",
    "\n",
    "** coeff_2 **  \n",
    "total MS                   = 1380301.03  \n",
    "MS removing mean-by-station= 958162.25, fraction explained= 30.6  \n",
    "MS removing mean-by-year   = 779160.94, fraction explained=43.6 \n",
    "\n",
    "** coeff_3 **  \n",
    "total MS                   = 906492.92  \n",
    "MS removing mean-by-station= 829465.12, fraction explained= 8.5 \n",
    "MS removing mean-by-year   = 560676.57, fraction explained=38.1  \n",
    "\n",
    "** coeff_4 **  \n",
    "total MS                   = 758534.69\n",
    "MS removing mean-by-station= 710576.60, fraction explained= 6.3 \n",
    "MS removing mean-by-year   = 467765.56, fraction explained=38.3  \n",
    "\n",
    "We can see that the variation by station explains more than variation by year for total snowfall, coef_1. On another hand, the variation by year explains more than the variation by station for coeff_2,3,4, which as we saw above have to do with the timing of the accumulated snow depth. However, the fraction explained by removing mean-by-year is not much higher than fraction explaiend by station in generally, only by about 30%, especially for coeff_2, which has a small difference of 13%. As we have mentioned earlier, this dataset covers stations that have very different environment, such as south Lake Tahoe vs Minden. Coeff_1's analysis agrees with that claim. The total snow depth can be more related to the location of the station."
   ]
  },
  {
   "cell_type": "markdown",
   "metadata": {},
   "source": [
    "### Geographical distribution of first 4 coefficients. "
   ]
  },
  {
   "cell_type": "markdown",
   "metadata": {
    "collapsed": true
   },
   "source": [
    "The geographical distributions of first 4 coefficients for TOBS and SNWD are shown as follows in a topographical map.\n",
    "\n",
    "Different rectangle region represents different valid data area.\n",
    "\n",
    "Solid color represents non-negative coefficient.\n",
    "\n",
    "Blue: coefficient 1 for eigenvector 1\n",
    "\n",
    "Orange: coefficient 2 for eigenvector 2\n",
    "\n",
    "Green: coefficient 3 for eigenvector 3\n",
    "\n",
    "Red: coefficient 4 for eigenvector 4\n",
    "\n",
    "The larger the absolute value of coefficient is, the larger the triangle is drawn.\n",
    "#### TOBS distribution\n",
    "![TOBS_4eigs_map.png](my_figures/TOBS_4eigs_map.png)\n",
    "\n",
    "#### SNWD distribution\n",
    "![SNWD_4eigs_map.png](my_figures/SNWD_4eigs_map.png)\n",
    "\n",
    "We can see that solid larger blue triangles, negative coeff_1, in TOBS corresponds to transparent blue triangles, large coeff_1, in SNWD. This means stations that have higher than average temperatures tend to have less snow depth."
   ]
  },
  {
   "cell_type": "markdown",
   "metadata": {},
   "source": [
    "## Analysis of correlation between snow depth across locations\n",
    "\n",
    "Given that days with temperature above 0 do not reveal much information as snow depth. I have chosen to only analyze snow depth for this section. The result of TOBS also agrees with my assumption, so it is ommitted here.\n",
    "\n",
    "### Definition of statistical test\n",
    "Fix two stations. We restrict our attention to the days for which we have measurements for both stations, and define the following notation:\n",
    "* $m$ : the total number of days (for which we have measurements for both stations).\n",
    "* $n_1$ : the number of days that it has snow on station 1\n",
    "* $n_2$ : the number of days that it has snow on station 2\n",
    "* $l$ : the number of days that it has snow on both stations.\n",
    "\n",
    "We want to calculate the probability that the number of overlap days is $l$ given $m,n_1,n_2$.\n",
    "\n",
    "The answer is:\n",
    "$$\n",
    "P = {m \\choose l,n_1-l,n_2-l,m-n_1-n_2+l} /{m \\choose n_1}{m \\choose n_2}\n",
    "$$\n",
    "\n",
    "Where\n",
    "$$\n",
    "{m \\choose l,n_1-l,n_2-l,m-n_1-n_2+l} = \\frac{m!}{l! (n_1-l)! (n_2-l)! (m-n_1-n_2+l)!}\n",
    "$$\n",
    "\n",
    "We use the fact that $\\Gamma(n+1) = n!$ and denote $G(n) \\doteq \\log \\Gamma(n+1)$\n",
    "$$\n",
    "\\log P = \\left[G(m) - G(l) -G(n_1-l) -G(n_2-l) -G(m-n_1-n_2+l) \\right] - \n",
    "\\left[G(m)-G(n_1)-G(m-n_1)\\right] - \\left[G(m)-G(n_2)-G(m-n_2)\\right]\n",
    "$$\n",
    "Which slightly simplifies to \n",
    "$$\n",
    "\\log P = -G(l) -G(n_1-l) -G(n_2-l) -G(m-n_1-n_2+l) - G(m)+G(n_1)+G(m-n_1) +G(n_2)+G(m-n_2)\n",
    "$$\n",
    "\n",
    "The log probability scales with $m$ the length of the overlap. So to get a per-day significance we consider $\n",
    "\\frac{1}{m} \\log P $\n",
    "### correlations matrix\n",
    "\n",
    "##### SNWD correlations matrix\n",
    "![SNWD_correlation_matrix.png](my_figures/SNWD_correlation_matrix.png)\n",
    "We can see that the top 2 stations are highly correlated.\n",
    "\n",
    "### PCA analysis\n",
    "##### SNWD correlations matrix\n",
    "![SNWD_pca.png](my_figures/SNWD_pca.png)\n",
    "We can see that the top 7 eigenvectors explain 80% of the squared magnitude of the matrix. If we reorder the matrix based on one eigenvector, we can see that the grouping becomes more clear. The figures belows shows the reordered correlation matrix for eigenvectors 1 to 4 top to bottom left to right.\n",
    "![SNWD_pca.png](my_figures/SNWD_reordered_matrix.png)"
   ]
  },
  {
   "cell_type": "markdown",
   "metadata": {
    "collapsed": true
   },
   "source": [
    "If time permits, I would like to show these highly correlated area in a map for further analysis."
   ]
  }
 ],
 "metadata": {
  "kernelspec": {
   "display_name": "Python [default]",
   "language": "python",
   "name": "python2"
  },
  "language_info": {
   "codemirror_mode": {
    "name": "ipython",
    "version": 2
   },
   "file_extension": ".py",
   "mimetype": "text/x-python",
   "name": "python",
   "nbconvert_exporter": "python",
   "pygments_lexer": "ipython2",
   "version": "2.7.12"
  }
 },
 "nbformat": 4,
 "nbformat_minor": 1
}
