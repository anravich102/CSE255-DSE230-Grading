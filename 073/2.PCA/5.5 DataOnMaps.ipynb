{
 "cells": [
  {
   "cell_type": "markdown",
   "metadata": {
    "deletable": true,
    "editable": true,
    "run_control": {
     "frozen": false,
     "read_only": false
    }
   },
   "source": [
    "## iPyLeaflet\n",
    "[ipyleaflet](https://github.com/ellisonbg/ipyleaflet) is a bridge between jupyter notebooks and the [leaflet](http://leafletjs.com/)  javascript library for drawing maps.\n",
    "\n",
    "ipyleaflet comes with a few examples notebooks (this notebook was derived from one) but very little documentation,\n",
    "for more documentation read the [Leaflet IPA](http://leafletjs.com/reference.html)\n",
    "\n",
    "For installation directions, see the README on [ipyleaflet](https://github.com/ellisonbg/ipyleaflet)\n",
    "\n",
    "[GeoJson](https://tools.ietf.org/html/rfc7946#section-3.1.7) is a good way to add data on top of an ipyleaflet map.\n",
    "\n",
    "For other backgrounds than open streets, you can alter the ipyleaflet.py file to point to one of [these map providers](https://leaflet-extras.github.io/leaflet-providers/preview/)"
   ]
  },
  {
   "cell_type": "code",
   "execution_count": 1,
   "metadata": {
    "collapsed": false,
    "deletable": true,
    "editable": true,
    "run_control": {
     "frozen": false,
     "read_only": false
    }
   },
   "outputs": [],
   "source": [
    "from ipyleaflet import (\n",
    "    Map,\n",
    "    Marker,\n",
    "    TileLayer, ImageOverlay,\n",
    "    Polyline, Polygon, Rectangle, Circle, CircleMarker,\n",
    "    GeoJSON,\n",
    "    DrawControl\n",
    ")"
   ]
  },
  {
   "cell_type": "markdown",
   "metadata": {
    "deletable": true,
    "editable": true,
    "run_control": {
     "frozen": false,
     "read_only": false
    }
   },
   "source": [
    "## Visualizing the distribution of the observations\n",
    "\n",
    "## Load the required libraries"
   ]
  },
  {
   "cell_type": "code",
   "execution_count": 2,
   "metadata": {
    "collapsed": false,
    "deletable": true,
    "editable": true,
    "run_control": {
     "frozen": false,
     "read_only": false
    }
   },
   "outputs": [],
   "source": [
    "import pandas as pd\n",
    "import numpy as np\n",
    "import sklearn as sk\n",
    "import urllib\n",
    "import math\n",
    "import pylab as plt\n",
    "\n",
    "import sys\n",
    "sys.path.append('./lib')\n",
    "\n",
    "from leaflet import *"
   ]
  },
  {
   "cell_type": "code",
   "execution_count": 6,
   "metadata": {
    "collapsed": false,
    "scrolled": true
   },
   "outputs": [
    {
     "name": "stdout",
     "output_type": "stream",
     "text": [
      "['eigen-vecs', 'stations']\n"
     ]
    },
    {
     "data": {
      "text/html": [
       "<div>\n",
       "<table border=\"1\" class=\"dataframe\">\n",
       "  <thead>\n",
       "    <tr style=\"text-align: right;\">\n",
       "      <th></th>\n",
       "      <th>latitude</th>\n",
       "      <th>longitude</th>\n",
       "      <th>elevation</th>\n",
       "      <th>state</th>\n",
       "      <th>name</th>\n",
       "      <th>GSNFLAG</th>\n",
       "      <th>HCNFLAG</th>\n",
       "      <th>WMOID</th>\n",
       "    </tr>\n",
       "  </thead>\n",
       "  <tbody>\n",
       "    <tr>\n",
       "      <th>ACW00011604</th>\n",
       "      <td>17.1167</td>\n",
       "      <td>-61.7833</td>\n",
       "      <td>10.1</td>\n",
       "      <td>NaN</td>\n",
       "      <td>ST JOHNS COOLIDGE FLD</td>\n",
       "      <td>NaN</td>\n",
       "      <td>NaN</td>\n",
       "      <td>NaN</td>\n",
       "    </tr>\n",
       "    <tr>\n",
       "      <th>ACW00011647</th>\n",
       "      <td>17.1333</td>\n",
       "      <td>-61.7833</td>\n",
       "      <td>19.2</td>\n",
       "      <td>NaN</td>\n",
       "      <td>ST JOHNS</td>\n",
       "      <td>NaN</td>\n",
       "      <td>NaN</td>\n",
       "      <td>NaN</td>\n",
       "    </tr>\n",
       "    <tr>\n",
       "      <th>AE000041196</th>\n",
       "      <td>25.3330</td>\n",
       "      <td>55.5170</td>\n",
       "      <td>34.0</td>\n",
       "      <td>NaN</td>\n",
       "      <td>SHARJAH INTER. AIRP</td>\n",
       "      <td>GSN</td>\n",
       "      <td>NaN</td>\n",
       "      <td>41196.0</td>\n",
       "    </tr>\n",
       "    <tr>\n",
       "      <th>AF000040930</th>\n",
       "      <td>35.3170</td>\n",
       "      <td>69.0170</td>\n",
       "      <td>3366.0</td>\n",
       "      <td>NaN</td>\n",
       "      <td>NORTH-SALANG</td>\n",
       "      <td>GSN</td>\n",
       "      <td>NaN</td>\n",
       "      <td>40930.0</td>\n",
       "    </tr>\n",
       "    <tr>\n",
       "      <th>AG000060390</th>\n",
       "      <td>36.7167</td>\n",
       "      <td>3.2500</td>\n",
       "      <td>24.0</td>\n",
       "      <td>NaN</td>\n",
       "      <td>ALGER-DAR EL BEIDA</td>\n",
       "      <td>GSN</td>\n",
       "      <td>NaN</td>\n",
       "      <td>60390.0</td>\n",
       "    </tr>\n",
       "  </tbody>\n",
       "</table>\n",
       "</div>"
      ],
      "text/plain": [
       "             latitude  longitude  elevation state                   name  \\\n",
       "ACW00011604   17.1167   -61.7833       10.1   NaN  ST JOHNS COOLIDGE FLD   \n",
       "ACW00011647   17.1333   -61.7833       19.2   NaN               ST JOHNS   \n",
       "AE000041196   25.3330    55.5170       34.0   NaN    SHARJAH INTER. AIRP   \n",
       "AF000040930   35.3170    69.0170     3366.0   NaN           NORTH-SALANG   \n",
       "AG000060390   36.7167     3.2500       24.0   NaN     ALGER-DAR EL BEIDA   \n",
       "\n",
       "            GSNFLAG HCNFLAG    WMOID  \n",
       "ACW00011604     NaN     NaN      NaN  \n",
       "ACW00011647     NaN     NaN      NaN  \n",
       "AE000041196     GSN     NaN  41196.0  \n",
       "AF000040930     GSN     NaN  40930.0  \n",
       "AG000060390     GSN     NaN  60390.0  "
      ]
     },
     "execution_count": 6,
     "metadata": {},
     "output_type": "execute_result"
    }
   ],
   "source": [
    "data_dir = \"../../Data/Weather\"\n",
    "from pickle import load\n",
    "with open(data_dir+'/PRCP_residuals_PCA.pickle','rb') as file:\n",
    "    Res_eig=load(file)\n",
    "print Res_eig.keys()\n",
    "\n",
    "#stations.pkl\n",
    "with open(data_dir+'/stations.pkl','rb') as file:\n",
    "    Stations=load(file)\n",
    "Stations.head()\n"
   ]
  },
  {
   "cell_type": "code",
   "execution_count": 7,
   "metadata": {
    "collapsed": false
   },
   "outputs": [
    {
     "data": {
      "text/html": [
       "<div>\n",
       "<table border=\"1\" class=\"dataframe\">\n",
       "  <thead>\n",
       "    <tr style=\"text-align: right;\">\n",
       "      <th></th>\n",
       "      <th>0</th>\n",
       "      <th>1</th>\n",
       "      <th>2</th>\n",
       "      <th>3</th>\n",
       "    </tr>\n",
       "  </thead>\n",
       "  <tbody>\n",
       "    <tr>\n",
       "      <th>0</th>\n",
       "      <td>-0.027360</td>\n",
       "      <td>0.082274</td>\n",
       "      <td>-0.085527</td>\n",
       "      <td>-0.069912</td>\n",
       "    </tr>\n",
       "    <tr>\n",
       "      <th>1</th>\n",
       "      <td>-0.058595</td>\n",
       "      <td>0.087351</td>\n",
       "      <td>0.000376</td>\n",
       "      <td>0.003229</td>\n",
       "    </tr>\n",
       "    <tr>\n",
       "      <th>2</th>\n",
       "      <td>-0.129885</td>\n",
       "      <td>0.140905</td>\n",
       "      <td>-0.029829</td>\n",
       "      <td>0.000254</td>\n",
       "    </tr>\n",
       "    <tr>\n",
       "      <th>3</th>\n",
       "      <td>-0.133235</td>\n",
       "      <td>0.159224</td>\n",
       "      <td>-0.019643</td>\n",
       "      <td>-0.025688</td>\n",
       "    </tr>\n",
       "    <tr>\n",
       "      <th>4</th>\n",
       "      <td>-0.088732</td>\n",
       "      <td>0.104143</td>\n",
       "      <td>-0.004287</td>\n",
       "      <td>0.011517</td>\n",
       "    </tr>\n",
       "  </tbody>\n",
       "</table>\n",
       "</div>"
      ],
      "text/plain": [
       "          0         1         2         3\n",
       "0 -0.027360  0.082274 -0.085527 -0.069912\n",
       "1 -0.058595  0.087351  0.000376  0.003229\n",
       "2 -0.129885  0.140905 -0.029829  0.000254\n",
       "3 -0.133235  0.159224 -0.019643 -0.025688\n",
       "4 -0.088732  0.104143 -0.004287  0.011517"
      ]
     },
     "execution_count": 7,
     "metadata": {},
     "output_type": "execute_result"
    }
   ],
   "source": [
    "import pandas as pd\n",
    "Eig=pd.DataFrame(Res_eig['eigen-vecs'].transpose())\n",
    "Eig.head()"
   ]
  },
  {
   "cell_type": "code",
   "execution_count": 8,
   "metadata": {
    "collapsed": false
   },
   "outputs": [
    {
     "name": "stdout",
     "output_type": "stream",
     "text": [
      "[u'USC00094255', u'US1GAEM0001', u'USC00096126', u'USW00013870', u'USC00098476']\n"
     ]
    },
    {
     "data": {
      "text/html": [
       "<div>\n",
       "<table border=\"1\" class=\"dataframe\">\n",
       "  <thead>\n",
       "    <tr style=\"text-align: right;\">\n",
       "      <th></th>\n",
       "      <th>0</th>\n",
       "      <th>1</th>\n",
       "      <th>2</th>\n",
       "      <th>3</th>\n",
       "    </tr>\n",
       "    <tr>\n",
       "      <th>station</th>\n",
       "      <th></th>\n",
       "      <th></th>\n",
       "      <th></th>\n",
       "      <th></th>\n",
       "    </tr>\n",
       "  </thead>\n",
       "  <tbody>\n",
       "    <tr>\n",
       "      <th>USC00094255</th>\n",
       "      <td>-0.027360</td>\n",
       "      <td>0.082274</td>\n",
       "      <td>-0.085527</td>\n",
       "      <td>-0.069912</td>\n",
       "    </tr>\n",
       "    <tr>\n",
       "      <th>US1GAEM0001</th>\n",
       "      <td>-0.058595</td>\n",
       "      <td>0.087351</td>\n",
       "      <td>0.000376</td>\n",
       "      <td>0.003229</td>\n",
       "    </tr>\n",
       "    <tr>\n",
       "      <th>USC00096126</th>\n",
       "      <td>-0.129885</td>\n",
       "      <td>0.140905</td>\n",
       "      <td>-0.029829</td>\n",
       "      <td>0.000254</td>\n",
       "    </tr>\n",
       "    <tr>\n",
       "      <th>USW00013870</th>\n",
       "      <td>-0.133235</td>\n",
       "      <td>0.159224</td>\n",
       "      <td>-0.019643</td>\n",
       "      <td>-0.025688</td>\n",
       "    </tr>\n",
       "    <tr>\n",
       "      <th>USC00098476</th>\n",
       "      <td>-0.088732</td>\n",
       "      <td>0.104143</td>\n",
       "      <td>-0.004287</td>\n",
       "      <td>0.011517</td>\n",
       "    </tr>\n",
       "  </tbody>\n",
       "</table>\n",
       "</div>"
      ],
      "text/plain": [
       "                    0         1         2         3\n",
       "station                                            \n",
       "USC00094255 -0.027360  0.082274 -0.085527 -0.069912\n",
       "US1GAEM0001 -0.058595  0.087351  0.000376  0.003229\n",
       "USC00096126 -0.129885  0.140905 -0.029829  0.000254\n",
       "USW00013870 -0.133235  0.159224 -0.019643 -0.025688\n",
       "USC00098476 -0.088732  0.104143 -0.004287  0.011517"
      ]
     },
     "execution_count": 8,
     "metadata": {},
     "output_type": "execute_result"
    }
   ],
   "source": [
    "Eig['station']=Res_eig['stations']\n",
    "Eig=Eig.set_index('station')\n",
    "print Res_eig['stations'][:5]\n",
    "Eig.head()"
   ]
  },
  {
   "cell_type": "code",
   "execution_count": 9,
   "metadata": {
    "collapsed": false
   },
   "outputs": [],
   "source": [
    "table=Eig.join(Stations,how='left')"
   ]
  },
  {
   "cell_type": "code",
   "execution_count": 12,
   "metadata": {
    "collapsed": false
   },
   "outputs": [
    {
     "data": {
      "text/html": [
       "<div>\n",
       "<table border=\"1\" class=\"dataframe\">\n",
       "  <thead>\n",
       "    <tr style=\"text-align: right;\">\n",
       "      <th></th>\n",
       "      <th>name</th>\n",
       "      <th>latitude</th>\n",
       "      <th>longitude</th>\n",
       "      <th>elevation</th>\n",
       "      <th>0</th>\n",
       "      <th>1</th>\n",
       "      <th>2</th>\n",
       "      <th>3</th>\n",
       "    </tr>\n",
       "    <tr>\n",
       "      <th>station</th>\n",
       "      <th></th>\n",
       "      <th></th>\n",
       "      <th></th>\n",
       "      <th></th>\n",
       "      <th></th>\n",
       "      <th></th>\n",
       "      <th></th>\n",
       "      <th></th>\n",
       "    </tr>\n",
       "  </thead>\n",
       "  <tbody>\n",
       "    <tr>\n",
       "      <th>USC00094255</th>\n",
       "      <td>HEPHZIBAH</td>\n",
       "      <td>33.3167</td>\n",
       "      <td>-82.0833</td>\n",
       "      <td>121.9</td>\n",
       "      <td>-0.027360</td>\n",
       "      <td>0.082274</td>\n",
       "      <td>-0.085527</td>\n",
       "      <td>-0.069912</td>\n",
       "    </tr>\n",
       "    <tr>\n",
       "      <th>US1GAEM0001</th>\n",
       "      <td>SWAINSBORO 1.1 NE</td>\n",
       "      <td>32.6006</td>\n",
       "      <td>-82.3227</td>\n",
       "      <td>80.8</td>\n",
       "      <td>-0.058595</td>\n",
       "      <td>0.087351</td>\n",
       "      <td>0.000376</td>\n",
       "      <td>0.003229</td>\n",
       "    </tr>\n",
       "    <tr>\n",
       "      <th>USC00096126</th>\n",
       "      <td>MT VERNON</td>\n",
       "      <td>32.1739</td>\n",
       "      <td>-82.5956</td>\n",
       "      <td>69.8</td>\n",
       "      <td>-0.129885</td>\n",
       "      <td>0.140905</td>\n",
       "      <td>-0.029829</td>\n",
       "      <td>0.000254</td>\n",
       "    </tr>\n",
       "    <tr>\n",
       "      <th>USW00013870</th>\n",
       "      <td>ALMA BACON CO AP</td>\n",
       "      <td>31.5358</td>\n",
       "      <td>-82.5067</td>\n",
       "      <td>58.8</td>\n",
       "      <td>-0.133235</td>\n",
       "      <td>0.159224</td>\n",
       "      <td>-0.019643</td>\n",
       "      <td>-0.025688</td>\n",
       "    </tr>\n",
       "  </tbody>\n",
       "</table>\n",
       "</div>"
      ],
      "text/plain": [
       "                          name  latitude  longitude  elevation         0  \\\n",
       "station                                                                    \n",
       "USC00094255          HEPHZIBAH   33.3167   -82.0833      121.9 -0.027360   \n",
       "US1GAEM0001  SWAINSBORO 1.1 NE   32.6006   -82.3227       80.8 -0.058595   \n",
       "USC00096126          MT VERNON   32.1739   -82.5956       69.8 -0.129885   \n",
       "USW00013870   ALMA BACON CO AP   31.5358   -82.5067       58.8 -0.133235   \n",
       "\n",
       "                    1         2         3  \n",
       "station                                    \n",
       "USC00094255  0.082274 -0.085527 -0.069912  \n",
       "US1GAEM0001  0.087351  0.000376  0.003229  \n",
       "USC00096126  0.140905 -0.029829  0.000254  \n",
       "USW00013870  0.159224 -0.019643 -0.025688  "
      ]
     },
     "execution_count": 12,
     "metadata": {},
     "output_type": "execute_result"
    }
   ],
   "source": [
    "table=table[['name','latitude','longitude','elevation',0,1,2,3]]\n",
    "table.head(4)"
   ]
  },
  {
   "cell_type": "code",
   "execution_count": 13,
   "metadata": {
    "collapsed": false,
    "scrolled": true
   },
   "outputs": [],
   "source": [
    "import pylab as plt\n",
    "prop_cycle = plt.rcParams['axes.prop_cycle']\n",
    "colors = prop_cycle.by_key()['color']"
   ]
  },
  {
   "cell_type": "markdown",
   "metadata": {
    "deletable": true,
    "editable": true,
    "run_control": {
     "frozen": false,
     "read_only": false
    }
   },
   "source": [
    "## Map"
   ]
  },
  {
   "cell_type": "code",
   "execution_count": 14,
   "metadata": {
    "code_folding": [
     14
    ],
    "collapsed": false
   },
   "outputs": [
    {
     "data": {
      "application/vnd.jupyter.widget-view+json": {
       "model_id": "439405e59e6b409aac6bbb04aec4e833"
      }
     },
     "metadata": {},
     "output_type": "display_data"
    }
   ],
   "source": [
    "min_lat,max_lat,min_long,max_long = box = (42.1103, 42.6167, -72.6, -70.8)\n",
    "center = [(min_lat+max_lat)/2, (min_long+max_long)/2]\n",
    "zoom = 9\n",
    "m = Map(default_tiles=TileLayer(opacity=0.6), center=center, zoom=zoom)\n",
    "r = Rectangle(bounds=[[min_lat,min_long],[max_lat,max_long]], weight=5, fill_opacity=0.0)\n",
    "m += r\n",
    "\n",
    "lat_margin=(max_lat-min_lat)/4\n",
    "long_margin=(max_long-min_long)/4\n",
    "for index,row in table.iterrows():\n",
    "    _lat=row['latitude']\n",
    "    _long=row['longitude']\n",
    "    for col in range(4):\n",
    "        _coef=row[col]\n",
    "        if np.isnan(_coef):\n",
    "            continue\n",
    "        r=abs(_coef)/5\n",
    "        #print r\n",
    "        color=colors[col]\n",
    "        signs=[[+1,+1],[+1,-1],[-1,-1],[-1,+1]]\n",
    "        lat_sign,long_sign=signs[col]\n",
    "        triangle=[(_lat,_long),(_lat+lat_sign*r,_long),(_lat,_long+long_sign*r),(_lat,_long)]\n",
    "        if _coef<0:\n",
    "            poly= Polygon(locations=triangle, weight=0,\n",
    "                    color=color, opacity=0, fill_opacity=0.7,\n",
    "                    fill_color=color)\n",
    "        else:\n",
    "            poly= Polygon(locations=triangle, weight=2,\n",
    "                    color=color, opacity=0.8, fill_opacity=0,\n",
    "                    fill_color=color)\n",
    "        m +=poly   \n",
    "m    "
   ]
  },
  {
   "cell_type": "markdown",
   "metadata": {
    "deletable": true,
    "editable": true,
    "run_control": {
     "frozen": false,
     "read_only": false
    }
   },
   "source": [
    "### excercises:\n",
    "* Add a legend that relates the colors to values.\n",
    "* Leaflet supports a variety of maps. See if you can get a topographical map as the background."
   ]
  },
  {
   "cell_type": "code",
   "execution_count": 15,
   "metadata": {
    "collapsed": false,
    "deletable": true,
    "editable": true,
    "run_control": {
     "frozen": false,
     "read_only": false
    }
   },
   "outputs": [
    {
     "ename": "NameError",
     "evalue": "name 'pdf' is not defined",
     "output_type": "error",
     "traceback": [
      "\u001b[0;31m---------------------------------------------------------------------------\u001b[0m",
      "\u001b[0;31mNameError\u001b[0m                                 Traceback (most recent call last)",
      "\u001b[0;32m<ipython-input-15-2d62ecdfe356>\u001b[0m in \u001b[0;36m<module>\u001b[0;34m()\u001b[0m\n\u001b[1;32m      1\u001b[0m \u001b[0mget_ipython\u001b[0m\u001b[0;34m(\u001b[0m\u001b[0;34m)\u001b[0m\u001b[0;34m.\u001b[0m\u001b[0mmagic\u001b[0m\u001b[0;34m(\u001b[0m\u001b[0;34mu'matplotlib inline'\u001b[0m\u001b[0;34m)\u001b[0m\u001b[0;34m\u001b[0m\u001b[0m\n\u001b[0;32m----> 2\u001b[0;31m \u001b[0mpdf\u001b[0m\u001b[0;34m.\u001b[0m\u001b[0mplot\u001b[0m\u001b[0;34m.\u001b[0m\u001b[0mscatter\u001b[0m\u001b[0;34m(\u001b[0m\u001b[0mx\u001b[0m\u001b[0;34m=\u001b[0m\u001b[0;34m'elevation'\u001b[0m\u001b[0;34m,\u001b[0m\u001b[0my\u001b[0m\u001b[0;34m=\u001b[0m\u001b[0;34m'avg(coeff_1)'\u001b[0m\u001b[0;34m)\u001b[0m\u001b[0;34m;\u001b[0m\u001b[0;34m\u001b[0m\u001b[0m\n\u001b[0m",
      "\u001b[0;31mNameError\u001b[0m: name 'pdf' is not defined"
     ]
    }
   ],
   "source": [
    "%matplotlib inline\n",
    "pdf.plot.scatter(x='elevation',y='avg(coeff_1)');"
   ]
  },
  {
   "cell_type": "code",
   "execution_count": null,
   "metadata": {
    "collapsed": true
   },
   "outputs": [],
   "source": []
  }
 ],
 "metadata": {
  "anaconda-cloud": {},
  "hide_input": false,
  "kernelspec": {
   "display_name": "Python [default]",
   "language": "python",
   "name": "python2"
  },
  "language_info": {
   "codemirror_mode": {
    "name": "ipython",
    "version": 2
   },
   "file_extension": ".py",
   "mimetype": "text/x-python",
   "name": "python",
   "nbconvert_exporter": "python",
   "pygments_lexer": "ipython2",
   "version": "2.7.13"
  },
  "toc": {
   "colors": {
    "hover_highlight": "#DAA520",
    "running_highlight": "#FF0000",
    "selected_highlight": "#FFD700"
   },
   "moveMenuLeft": true,
   "nav_menu": {
    "height": "174px",
    "width": "252px"
   },
   "navigate_menu": true,
   "number_sections": true,
   "sideBar": true,
   "threshold": 4,
   "toc_cell": false,
   "toc_section_display": "block",
   "toc_window_display": false
  },
  "widgets": {
   "state": {},
   "version": "1.0.0"
  }
 },
 "nbformat": 4,
 "nbformat_minor": 1
}
