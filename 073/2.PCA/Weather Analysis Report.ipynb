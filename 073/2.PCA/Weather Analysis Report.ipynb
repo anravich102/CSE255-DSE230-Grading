{
 "cells": [
  {
   "cell_type": "markdown",
   "metadata": {
    "deletable": true,
    "editable": true,
    "run_control": {
     "frozen": false,
     "read_only": false
    }
   },
   "source": [
    "# Georgia Weather Analysis\n",
    "\n",
    "This is a report on the historical analysis (1893-2012) of weather patterns in Georgia.\n",
    "\n",
    "The data we will use here comes from [NOAA](https://www.ncdc.noaa.gov/). Specifically, it was downloaded from This [FTP site](ftp://ftp.ncdc.noaa.gov/pub/data/ghcn/daily/).\n",
    "\n",
    "The subset of data we will use are collected from stations around the state of Georgia.\n",
    "\n",
    "<p><img src=\"stations_locations.png\" /></p>\n",
    "\n",
    "<p>&nbsp;</p>\n",
    "\n",
    "We focused on six measurements:\n",
    "* **TMIN, TMAX:** the daily minimum and maximum temperature.\n",
    "* **TOBS:** The average temperature for each day.\n",
    "* **PRCP:** Daily Percipitation (in mm)\n",
    "* **SNOW:** Daily snowfall (in mm)\n",
    "* **SNWD:** The depth of accumulated snow.\n",
    "\n",
    "## Sanity-check: comparison with outside sources\n",
    "\n",
    "<p>We check with an outside source to ensure the data we have are accurate. We are comparing with <a href=\"http://www.rssweather.com/climate/Georgia/Macon/\" target=\"_blank\">data</a> for Macon, Georgia, which is approximately the center of our stations. The graph below shows the daily minimum and maximum temperatures for each month.</p>\n",
    "\n",
    "<p>&nbsp;</p>\n",
    "\n",
    "<p><img src=\"rssWeather.png\"/></p>\n",
    "\n",
    "<p>&nbsp;</p>\n",
    "\n",
    "<p>Comparing the outside source with our data, we can see that they have similiar shape, minimum, and maximum.</p>\n",
    "\n",
    "<p>&nbsp;</p>\n",
    "\n",
    "<p><img src=\"temp.png\"/></p>\n",
    "\n",
    "<p>The outside source also provides precipitation as below. We can see the general trend of a drop in precipitation in May and October in both graphs.</p>\n",
    "\n",
    "<p><img src=\"rss_precip.png\"/><img src=\"precip.png\"/></p>\n"
   ]
  },
  {
   "cell_type": "markdown",
   "metadata": {
    "deletable": true,
    "editable": true,
    "run_control": {
     "frozen": false,
     "read_only": false
    }
   },
   "source": [
    "## PCA analysis\n",
    "\n",
    "For each of the six measurement, we compute the percentage of the variance explained as a function of the number of eigen-vectors used. In PCA analysis, we want the maximum variance explained because it will represent the data the best (less data loss).\n",
    "\n",
    "### Percentage of variance explained.\n",
    "<p><img src=\"var_t.png\"/></p>\n",
    "The first 5 eigen vectors explain 22% of TMIN and TMAX, and 50% for TOBS.\n",
    "\n",
    "Out of TMIN, TMAX, and TOBS, TOBS is best explained by the first 5 eigen vectors. The first eigen vector alone explains 45% of the variance.\n",
    "\n",
    "<p><img src=\"var_s.png\"/></p>\n",
    "For remaining 3 measurements, the first 5 eigen vectors explain 6% of PRCP and 60% for SNOW. For SNWD, they explained 95% of the variance. The first eigen vector alone explains more than 60% of SNWD.\n",
    "\n",
    "Since we want the maximum variance for PCA, we will look into SNWD for deeper analysis."
   ]
  },
  {
   "cell_type": "markdown",
   "metadata": {
    "deletable": true,
    "editable": true,
    "run_control": {
     "frozen": false,
     "read_only": false
    }
   },
   "source": [
    "## Analysis of snow depth\n",
    "\n",
    "We are analyzing SNWD because the first eigen vector explains 60% of the variance, and the first 2 eigen vectors explain more than 80% of the variance. Let's look at the mean and the first 2 eigen vectors.\n",
    "\n",
    "<p><img src=\"snwd.png\"/></p>\n",
    "\n",
    "\n",
    "The mean tells us that it only snows during November to Feburary, with the heaviest snow at mid November and mid Feburary.\n",
    "\n",
    "The first eigen function tells us that it snows heavy in November and pretty dry during the rest of the year.\n",
    "\n",
    "On the other hand, the second eigen function tells us that it snows heavy in Feburary but not so much for the rest of the year."
   ]
  },
  {
   "cell_type": "markdown",
   "metadata": {
    "deletable": true,
    "editable": true,
    "run_control": {
     "frozen": false,
     "read_only": false
    }
   },
   "source": [
    "### Examples of reconstructions\n",
    "\n",
    "#### Coeff1\n",
    "Coeff1: most positive\n",
    "<p><img src=\"c1_pos.png\"/></p>\n",
    "Coeff1: most negative\n",
    "<p><img src=\"c1_neg.png\"/></p>\n",
    "\n",
    "#### Coeff2\n",
    "Coeff2: most positive\n",
    "<p><img src=\"c2_pos.png\"/></p>\n",
    "Coeff2: most negative\n",
    "<p><img src=\"c2_neg.png\"/></p>"
   ]
  }
 ],
 "metadata": {
  "anaconda-cloud": {},
  "kernelspec": {
   "display_name": "Python [conda root]",
   "language": "python",
   "name": "conda-root-py"
  },
  "language_info": {
   "codemirror_mode": {
    "name": "ipython",
    "version": 2
   },
   "file_extension": ".py",
   "mimetype": "text/x-python",
   "name": "python",
   "nbconvert_exporter": "python",
   "pygments_lexer": "ipython2",
   "version": "2.7.13"
  },
  "toc": {
   "colors": {
    "hover_highlight": "#DAA520",
    "running_highlight": "#FF0000",
    "selected_highlight": "#FFD700"
   },
   "moveMenuLeft": true,
   "nav_menu": {
    "height": "12px",
    "width": "252px"
   },
   "navigate_menu": true,
   "number_sections": true,
   "sideBar": true,
   "threshold": 4,
   "toc_cell": false,
   "toc_section_display": "block",
   "toc_window_display": false
  }
 },
 "nbformat": 4,
 "nbformat_minor": 2
}
