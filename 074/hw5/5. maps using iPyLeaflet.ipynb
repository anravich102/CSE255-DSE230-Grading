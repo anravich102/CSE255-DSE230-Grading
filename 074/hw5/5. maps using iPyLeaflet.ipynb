{
 "cells": [
  {
   "cell_type": "markdown",
   "metadata": {
    "run_control": {
     "frozen": false,
     "read_only": false
    }
   },
   "source": [
    "## iPyLeaflet\n",
    "[ipyleaflet](https://github.com/ellisonbg/ipyleaflet) is a bridge between jupyter notebooks and the [leaflet](http://leafletjs.com/)  javascript library for drawing maps.\n",
    "\n",
    "ipyleaflet comes with a few examples notebooks (this notebook was derived from one) but very little documentation,\n",
    "for more documentation read the [Leaflet IPA](http://leafletjs.com/reference.html)\n",
    "\n",
    "For installation directions, see the README on [ipyleaflet](https://github.com/ellisonbg/ipyleaflet)"
   ]
  },
  {
   "cell_type": "code",
   "execution_count": 139,
   "metadata": {
    "collapsed": true,
    "run_control": {
     "frozen": false,
     "read_only": false
    }
   },
   "outputs": [],
   "source": [
    "from ipyleaflet import (\n",
    "    Map,\n",
    "    Marker,\n",
    "    TileLayer, ImageOverlay,\n",
    "    Polyline, Polygon, Rectangle, Circle, CircleMarker,\n",
    "    GeoJSON,\n",
    "    DrawControl\n",
    ")\n",
    "from leaflet import *"
   ]
  },
  {
   "cell_type": "markdown",
   "metadata": {
    "run_control": {
     "frozen": false,
     "read_only": false
    }
   },
   "source": [
    "## Visualizing the distribution of the observations\n",
    "\n",
    "## Load the required libraries"
   ]
  },
  {
   "cell_type": "code",
   "execution_count": 2,
   "metadata": {
    "collapsed": true,
    "run_control": {
     "frozen": false,
     "read_only": false
    }
   },
   "outputs": [],
   "source": [
    "import pandas as pd\n",
    "import numpy as np\n",
    "import sklearn as sk\n",
    "import urllib\n",
    "import math"
   ]
  },
  {
   "cell_type": "code",
   "execution_count": 3,
   "metadata": {
    "collapsed": true,
    "run_control": {
     "frozen": false,
     "read_only": false
    }
   },
   "outputs": [],
   "source": [
    "import findspark\n",
    "findspark.init()\n",
    "\n",
    "from pyspark import SparkContext\n",
    "#sc.stop()\n",
    "sc = SparkContext(master=\"local[3]\",pyFiles=['lib/numpy_pack.py','lib/computeStats.py'])\n",
    "\n",
    "from pyspark import SparkContext\n",
    "from pyspark.sql import *\n",
    "sqlContext = SQLContext(sc)"
   ]
  },
  {
   "cell_type": "code",
   "execution_count": 4,
   "metadata": {
    "collapsed": true,
    "run_control": {
     "frozen": false,
     "read_only": false
    }
   },
   "outputs": [],
   "source": [
    "import sys\n",
    "sys.path.append('./lib')\n",
    "\n",
    "import numpy as np\n",
    "from numpy_pack import packArray,unpackArray\n",
    "from computeStats import computeOverAllDist, STAT_Descriptions"
   ]
  },
  {
   "cell_type": "code",
   "execution_count": 82,
   "metadata": {
    "run_control": {
     "frozen": false,
     "read_only": false
    }
   },
   "outputs": [
    {
     "name": "stdout",
     "output_type": "stream",
     "text": [
      "('keys from STAT=', ['TMIN', 'TOBS', 'TMAX', 'SNOW', 'SNWD', 'PRCP'])\n",
      "1008\n",
      "+----------------+------------------+------------------+---------+--------+--------+---------+-----------+--------------------+--------------------+--------------------+------------------+-----------+---------+------+--------------------+------+\n",
      "|         coeff_1|           coeff_2|           coeff_3|elevation|   label|latitude|longitude|measurement|               res_1|               res_2|               res_3|          res_mean|    station|total_var|undefs|              vector|  year|\n",
      "+----------------+------------------+------------------+---------+--------+--------+---------+-----------+--------------------+--------------------+--------------------+------------------+-----------+---------+------+--------------------+------+\n",
      "|5236.56372535678|-524.2927399414926|28.596229640472146|    454.2|SBBBBBBS| 47.2256| -97.1919|       SNWD|0.029431655415476356|0.019702368195064147|0.019673424705629834|0.5650322126472471|USC00214106|5.00027E7|     0|[F0 5F 8C 5F 8C 5...|1969.0|\n",
      "+----------------+------------------+------------------+---------+--------+--------+---------+-----------+--------------------+--------------------+--------------------+------------------+-----------+---------+------+--------------------+------+\n",
      "only showing top 1 row\n",
      "\n"
     ]
    }
   ],
   "source": [
    "### Read the data frame from pickle file\n",
    "\n",
    "data_dir='../../Data/Weather'\n",
    "file_index='SBBBBBBS'\n",
    "meas='SNWD'\n",
    "\n",
    "from pickle import load\n",
    "\n",
    "#read statistics\n",
    "filename=data_dir+'/STAT_%s.pickle'%file_index\n",
    "STAT,STAT_Descriptions = load(open(filename,'rb'))\n",
    "print('keys from STAT=',STAT.keys())\n",
    "\n",
    "#!ls -ld $data_dir/*.parquet\n",
    "\n",
    "#read data\n",
    "filename=data_dir+'/decon_%s_%s.parquet'%(file_index,meas)\n",
    "\n",
    "df=sqlContext.read.parquet(filename)\n",
    "print(df.count())\n",
    "df.show(1)"
   ]
  },
  {
   "cell_type": "code",
   "execution_count": 6,
   "metadata": {
    "run_control": {
     "frozen": false,
     "read_only": false
    },
    "scrolled": true
   },
   "outputs": [
    {
     "name": "stdout",
     "output_type": "stream",
     "text": [
      "SELECT station, latitude,longitude,elevation,coeff_1 FROM weather\n",
      "+-----------+--------+---------+---------+------------------+\n",
      "|    station|latitude|longitude|elevation|           coeff_1|\n",
      "+-----------+--------+---------+---------+------------------+\n",
      "|USC00214106| 47.2256| -97.1919|    454.2|  5236.56372535678|\n",
      "|USC00325220| 46.4386| -97.6856|    337.4|2811.6614748920815|\n",
      "|USC00216276| 46.4314| -95.5464|    298.7| 4874.836613197419|\n",
      "|USW00094967| 46.9006| -95.0678|    437.1| 5006.399613388321|\n",
      "+-----------+--------+---------+---------+------------------+\n",
      "only showing top 4 rows\n",
      "\n"
     ]
    }
   ],
   "source": [
    "#extract longitude and latitude for each station\n",
    "feature='coeff_1'\n",
    "sqlContext.registerDataFrameAsTable(df,'weather')\n",
    "Query=\"SELECT station, latitude,longitude,elevation,%s FROM weather\"%feature\n",
    "print(Query)\n",
    "df1 = sqlContext.sql(Query)\n",
    "df1.show(4)"
   ]
  },
  {
   "cell_type": "code",
   "execution_count": 7,
   "metadata": {
    "run_control": {
     "frozen": false,
     "read_only": false
    }
   },
   "outputs": [
    {
     "data": {
      "text/html": [
       "<div>\n",
       "<table border=\"1\" class=\"dataframe\">\n",
       "  <thead>\n",
       "    <tr style=\"text-align: right;\">\n",
       "      <th></th>\n",
       "      <th>station</th>\n",
       "      <th>latitude</th>\n",
       "      <th>longitude</th>\n",
       "      <th>elevation</th>\n",
       "      <th>count(station)</th>\n",
       "      <th>avg(coeff_1)</th>\n",
       "    </tr>\n",
       "  </thead>\n",
       "  <tbody>\n",
       "    <tr>\n",
       "      <th>18</th>\n",
       "      <td>US1MNCY0001</td>\n",
       "      <td>46.8877</td>\n",
       "      <td>-96.7480</td>\n",
       "      <td>275.5</td>\n",
       "      <td>1</td>\n",
       "      <td>1307.721262</td>\n",
       "    </tr>\n",
       "    <tr>\n",
       "      <th>34</th>\n",
       "      <td>USC00210018</td>\n",
       "      <td>47.2992</td>\n",
       "      <td>-96.5161</td>\n",
       "      <td>276.5</td>\n",
       "      <td>23</td>\n",
       "      <td>491.832046</td>\n",
       "    </tr>\n",
       "  </tbody>\n",
       "</table>\n",
       "</div>"
      ],
      "text/plain": [
       "        station  latitude  longitude  elevation  count(station)  avg(coeff_1)\n",
       "18  US1MNCY0001   46.8877   -96.7480      275.5               1   1307.721262\n",
       "34  USC00210018   47.2992   -96.5161      276.5              23    491.832046"
      ]
     },
     "execution_count": 7,
     "metadata": {},
     "output_type": "execute_result"
    }
   ],
   "source": [
    "df2=df1.groupby(['station','latitude','longitude','elevation']).agg({\"station\": \"count\", feature: \"mean\"})\n",
    "pdf=df2.toPandas()\n",
    "pdf.sort_values(by=['station'],inplace=True)\n",
    "pdf.head(2)"
   ]
  },
  {
   "cell_type": "code",
   "execution_count": 50,
   "metadata": {
    "run_control": {
     "frozen": false,
     "read_only": false
    }
   },
   "outputs": [
    {
     "data": {
      "text/plain": [
       "u'#90ff66'"
      ]
     },
     "execution_count": 50,
     "metadata": {},
     "output_type": "execute_result"
    }
   ],
   "source": [
    "#define a mapping from the range of the value to hex colors.\n",
    "from matplotlib.colors import rgb2hex\n",
    "_avg='avg(%s)'%feature\n",
    "_min=pdf[_avg].min()\n",
    "_max=pdf[_avg].max()\n",
    "_min,_max\n",
    "\n",
    "import pylab as plt\n",
    "cmap=plt.get_cmap('jet')\n",
    "def get_color(val):\n",
    "    x=(val-_min)/(_max-_min)\n",
    "    #print x\n",
    "    return(rgb2hex(cmap(x)[:3]))\n",
    "\n",
    "get_color(1000.)"
   ]
  },
  {
   "cell_type": "code",
   "execution_count": 67,
   "metadata": {},
   "outputs": [
    {
     "name": "stdout",
     "output_type": "stream",
     "text": [
      "#000080\n",
      "#800000\n",
      "#7dff7a\n"
     ]
    }
   ],
   "source": [
    "print get_color(_min)\n",
    "print get_color(_max)\n",
    "print get_color((_min+_max)/2)"
   ]
  },
  {
   "cell_type": "markdown",
   "metadata": {
    "run_control": {
     "frozen": false,
     "read_only": false
    }
   },
   "source": [
    "## Map"
   ]
  },
  {
   "cell_type": "code",
   "execution_count": 9,
   "metadata": {
    "collapsed": true,
    "run_control": {
     "frozen": false,
     "read_only": false
    }
   },
   "outputs": [],
   "source": [
    "#min_lat,max_lat,min_long,max_long = box = (42.1103, 42.6167, -72.6, -70.8)\n"
   ]
  },
  {
   "cell_type": "code",
   "execution_count": 140,
   "metadata": {
    "run_control": {
     "frozen": false,
     "read_only": false
    }
   },
   "outputs": [
    {
     "name": "stdout",
     "output_type": "stream",
     "text": [
      "extremes USC00323665 4\n",
      "extremes USC00326565 1\n"
     ]
    },
    {
     "data": {
      "application/vnd.jupyter.widget-view+json": {
       "model_id": "a92de4b97d174e72b954ff449d73798c"
      }
     },
     "metadata": {},
     "output_type": "display_data"
    }
   ],
   "source": [
    "min_long = -98.8667\n",
    "min_lat = 46.3939\n",
    "max_long = -95.0161\n",
    "max_lat = 47.8769\n",
    "center = [(min_lat+max_lat)/2, (min_long+max_long)/2]\n",
    "zoom = 9\n",
    "min_c, max_c = 0, 0\n",
    "m = Map(default_tiles=TileLayer(opacity=1.0), center=center, zoom=zoom)\n",
    "data = {}\n",
    "#lat_margin=(max_lat-min_lat)/4\n",
    "#long_margin=(max_long-min_long)/4\n",
    "circles = []\n",
    "min_l, min_la, max_l, max_la = 0, 0, 0, 0\n",
    "for i, (index,row) in enumerate(pdf.iterrows()):\n",
    "    _lat=row['latitude']\n",
    "    _long=row['longitude']\n",
    "    _count=row['count(station)']\n",
    "    _coef=row[_avg]\n",
    "    min_c = min(_coef, min_c)\n",
    "    max_c = max(_coef, max_c)\n",
    "    if int(_coef) == -584 or int(_coef) == 2425:\n",
    "        print 'extremes', row['station'], _count\n",
    "    if not i:\n",
    "        min_l = max_l = _long\n",
    "        min_la = max_la = _lat\n",
    "    data[_coef] = (_count, row['station'], get_color(_coef))\n",
    "    min_l = min(min_l, _long) \n",
    "    max_l = max(max_l, _long) \n",
    "    min_la = min(min_la, _lat) \n",
    "    max_la = max(max_la, _lat) \n",
    "    #print _coef, _count\n",
    "    #print get_color(_coef)\n",
    "    # taking sqrt of count so that the  area of the circle corresponds to the count\n",
    "    c = Circle(location=(_lat,_long), radius=int(700*np.sqrt(_count+0.0)), weight=2,\n",
    "            color='#F00', opacity=0.9, fill_opacity=0.5, stroke=False,\n",
    "            fill_color=get_color(_coef))\n",
    "    circles.append(c)\n",
    "    cc = CircleMarker(circle=c)\n",
    "    #m.add_layer(c)\n",
    "    m += c\n",
    "    m += cc\n",
    "#print min_l, min_la, max_l, max_la\n",
    "r = Rectangle(bounds=[[min_lat,min_long],[max_lat,max_long]], weight=5, fill_opacity=0.0)\n",
    "m += r\n",
    "m    \n",
    "#dir(circles[0])"
   ]
  },
  {
   "cell_type": "code",
   "execution_count": 138,
   "metadata": {},
   "outputs": [
    {
     "data": {
      "text/plain": [
       "{-584.0004840174835: (4L, u'USC00323665', u'#000080'),\n",
       " -361.7523296075113: (11L, u'USC00213104', u'#0000d1'),\n",
       " -250.7539470033087: (3L, u'USC00321477', u'#0000ff'),\n",
       " -223.50283287033196: (17L, u'USC00320196', u'#0000ff'),\n",
       " -212.865530970341: (17L, u'USC00320005', u'#0000ff'),\n",
       " -160.4051767404241: (1L, u'USC00322536', u'#0010ff'),\n",
       " -91.01439672615614: (30L, u'USC00215589', u'#0024ff'),\n",
       " -82.07617473570808: (14L, u'USC00325764', u'#0028ff'),\n",
       " -71.5753518120672: (17L, u'USC00328937', u'#002cff'),\n",
       " -61.70706535040066: (10L, u'USC00324418', u'#0030ff'),\n",
       " -19.64876817230738: (10L, u'USC00324656', u'#0040ff'),\n",
       " -19.204385328168236: (20L, u'USC00321816', u'#0040ff'),\n",
       " -16.431471456492492: (17L, u'USC00325220', u'#0040ff'),\n",
       " -16.124799613760864: (37L, u'USW00014914', u'#0040ff'),\n",
       " 7.424736947985166: (37L, u'USC00325660', u'#0048ff'),\n",
       " 23.802305602604186: (29L, u'USW00014919', u'#004cff'),\n",
       " 24.322293738457738: (14L, u'USC00329185', u'#004cff'),\n",
       " 52.60008154148713: (13L, u'USC00324203', u'#0058ff'),\n",
       " 65.52121343111104: (9L, u'USC00213463', u'#005cff'),\n",
       " 85.15147149239712: (32L, u'USC00325230', u'#0060ff'),\n",
       " 112.19265962067901: (27L, u'USC00321686', u'#006cff'),\n",
       " 127.05417808766806: (34L, u'USC00326105', u'#0070ff'),\n",
       " 129.2573154633707: (43L, u'USC00211891', u'#0070ff'),\n",
       " 282.8750360987271: (20L, u'USC00321766', u'#00a4ff'),\n",
       " 361.54772749131865: (37L, u'USC00327986', u'#00c0ff'),\n",
       " 368.50279819326437: (9L, u'USC00322695', u'#00c4ff'),\n",
       " 375.315949855029: (27L, u'USC00216405', u'#00c4ff'),\n",
       " 441.4828977875985: (17L, u'USC00217149', u'#00dcfe'),\n",
       " 491.83204620895776: (23L, u'USC00210018', u'#06ecf1'),\n",
       " 548.0417416341342: (9L, u'USC00213587', u'#16ffe1'),\n",
       " 564.6678081089079: (25L, u'USC00215012', u'#19ffde'),\n",
       " 583.6946408964678: (21L, u'USC00212142', u'#1fffd7'),\n",
       " 601.785176422591: (55L, u'USC00218579', u'#23ffd4'),\n",
       " 603.7643844114444: (25L, u'USC00216148', u'#26ffd1'),\n",
       " 646.845738464578: (12L, u'USC00215586', u'#30ffc7'),\n",
       " 757.6447062914: (41L, u'USC00216276', u'#50ffa7'),\n",
       " 779.1864823925583: (42L, u'USC00325730', u'#53ffa4'),\n",
       " 937.5497177630884: (15L, u'USC00215902', u'#80ff77'),\n",
       " 992.1596174134174: (35L, u'USC00212916', u'#90ff66'),\n",
       " 1232.6063136136113: (40L, u'USW00094967', u'#d1ff26'),\n",
       " 1233.3158767525779: (10L, u'USC00325013', u'#d1ff26'),\n",
       " 1281.0991325388045: (48L, u'USC00214106', u'#deff19'),\n",
       " 1307.721261562495: (1L, u'US1MNCY0001', u'#e4ff13'),\n",
       " 1396.2584919309543: (39L, u'USC00216795', u'#feed00'),\n",
       " 1775.485702830225: (5L, u'USC00218191', u'#ff7700'),\n",
       " 2220.5593355474616: (5L, u'USC00213206', u'#cd0000'),\n",
       " 2425.8574309794153: (1L, u'USC00326565', u'#800000')}"
      ]
     },
     "execution_count": 138,
     "metadata": {},
     "output_type": "execute_result"
    }
   ],
   "source": [
    "data"
   ]
  },
  {
   "cell_type": "code",
   "execution_count": 136,
   "metadata": {},
   "outputs": [
    {
     "data": {
      "image/png": "[encoded data removed]",
      "text/plain": [
       "<matplotlib.figure.Figure at 0xb913a20>"
      ]
     },
     "metadata": {},
     "output_type": "display_data"
    }
   ],
   "source": [
    "from matplotlib import pyplot as plt\n",
    "import matplotlib \n",
    "import numpy as np\n",
    "\n",
    "plt.figure()\n",
    "a=np.outer(np.arange(0,1,0.01),np.ones(10))\n",
    "fact = 1.0/255.0\n",
    "cdict2 = {'red':  [(0.0,   22*fact,  22*fact),\n",
    "                   (0.25, 133*fact, 133*fact),\n",
    "                   (0.5,  191*fact, 191*fact),\n",
    "                   (0.75, 151*fact, 151*fact),\n",
    "                   (1.0,   225*fact,  225*fact)],\n",
    "         'green': [(0.0,   65*fact,  65*fact),\n",
    "                   (0.25, 182*fact, 182*fact),\n",
    "                   (0.5,  217*fact, 217*fact),\n",
    "                   (0.75, 203*fact, 203*fact),\n",
    "                   (1.0,   38*fact,  38*fact)],\n",
    "         'blue':  [(0.0,  153*fact, 153*fact),\n",
    "                   (0.25, 222*fact, 222*fact),\n",
    "                   (0.5,  214*fact, 214*fact),\n",
    "                   (0.75, 143*fact, 143*fact),\n",
    "                   (1.0,   20*fact,  20*fact)]} \n",
    "cdict = {'red':   [(0.0,  0.0, 0.0),\n",
    "                   (0.25, 0.0, 0.0),\n",
    "                   (0.5,  1.0, 1.0),\n",
    "                   (1.0,  1.0, 1.0)],\n",
    "\n",
    "         'green': [(0.0,  0.0, 0.0),\n",
    "                   (0.25, 0.0, 0.0),\n",
    "                   (0.75, 1.0, 1.0),\n",
    "                   (1.0,  1.0, 1.0)],\n",
    "\n",
    "         'blue':  [(0.0,  0.0, 0.0),\n",
    "                   (0.25, 0.0, 0.0),\n",
    "                   (0.5,  0.0, 0.0),\n",
    "                   (1.0,  1.0, 1.0)]}\n",
    "my_cmap2 = matplotlib.colors.LinearSegmentedColormap('my_colormap2',cdict2,256)\n",
    "plt.imshow(a,aspect='auto', cmap =my_cmap2)                   \n",
    "plt.show()"
   ]
  },
  {
   "cell_type": "code",
   "execution_count": 119,
   "metadata": {},
   "outputs": [
    {
     "data": {
      "text/plain": [
       "[<Color red>,\n",
       " <Color #f13600>,\n",
       " <Color #e36500>,\n",
       " <Color #d58e00>,\n",
       " <Color #c7b000>,\n",
       " <Color #a4b800>,\n",
       " <Color #72aa00>,\n",
       " <Color #459c00>,\n",
       " <Color #208e00>,\n",
       " <Color green>]"
      ]
     },
     "execution_count": 119,
     "metadata": {},
     "output_type": "execute_result"
    }
   ],
   "source": [
    "from colour import Color\n",
    "red = Color(\"red\")\n",
    "colors = list(red.range_to(Color(\"green\"),10))\n",
    "colors"
   ]
  },
  {
   "cell_type": "code",
   "execution_count": 51,
   "metadata": {
    "run_control": {
     "frozen": false,
     "read_only": false
    }
   },
   "outputs": [
    {
     "data": {
      "application/vnd.jupyter.widget-view+json": {
       "model_id": "80ce1fff6afb4f8cbe7d53efd7eacee1"
      }
     },
     "metadata": {},
     "output_type": "display_data"
    }
   ],
   "source": [
    "center = [(min_lat+max_lat)/2, (min_long+max_long)/2]\n",
    "zoom = 5\n",
    "\n",
    "m = Map(default_tiles=TileLayer(opacity=1.0), center=center, zoom=zoom)\n",
    "\n",
    "r = Rectangle(bounds=[[min_lat,min_long],[max_lat,max_long]], weight=5, fill_opacity=0.0)\n",
    "m += r\n",
    "\n",
    "lat_margin=(max_lat-min_lat)/4\n",
    "long_margin=(max_long-min_long)/4\n",
    "circles = []\n",
    "for index,row in pdf.iterrows():\n",
    "    _lat=row['latitude']\n",
    "    _long=row['longitude']\n",
    "    _count=row['count(station)']\n",
    "    _coef=row[_avg]\n",
    "    # taking sqrt of count so that the  area of the circle corresponds to the count\n",
    "    c = Circle(location=(_lat,_long), radius=int(300*np.sqrt(_count+0.0)), weight=1,\n",
    "            color='#F00', opacity=0.8, fill_opacity=0.4,\n",
    "            fill_color=get_color(_coef))\n",
    "    circles.append(c)\n",
    "    #m.add_layer(c)\n",
    "    m += c\n",
    "    dd = {}\n",
    "    dd['c'] = _lat\n",
    "    g = GeoJSON(data=dd)\n",
    "    m.add_layer(g)\n",
    "\n",
    "#imageUrl = 'http://www.lib.utexas.edu/maps/historical/newark_nj_1922.jpg'\n",
    "#imageBounds = [[min_lat, max_lat], [min_long, max_long]];\n",
    "#i = ImageOverlay(imageUrl=imageUrl, imageBounds=imageBounds, bringToFront=True, location=(max_lat,max_long), weight=1, opacity=0.1)\n",
    "#m += i\n",
    "m    "
   ]
  },
  {
   "cell_type": "markdown",
   "metadata": {
    "run_control": {
     "frozen": false,
     "read_only": false
    }
   },
   "source": [
    "### excercises:\n",
    "* Add a legend that relates the colors to values.\n",
    "* Leaflet supports a variety of maps. See if you can get a topographical map as the background."
   ]
  },
  {
   "cell_type": "code",
   "execution_count": 86,
   "metadata": {
    "run_control": {
     "frozen": false,
     "read_only": false
    }
   },
   "outputs": [
    {
     "data": {
      "image/png": "[encoded data removed]",
      "text/plain": [
       "<matplotlib.figure.Figure at 0x145ee358>"
      ]
     },
     "metadata": {},
     "output_type": "display_data"
    }
   ],
   "source": [
    "%matplotlib inline\n",
    "pdf.plot.scatter(x='elevation',y='avg(coeff_1)');"
   ]
  },
  {
   "cell_type": "code",
   "execution_count": 71,
   "metadata": {},
   "outputs": [
    {
     "data": {
      "image/png": "[encoded data removed]",
      "text/plain": [
       "<matplotlib.figure.Figure at 0x13ba27b8>"
      ]
     },
     "metadata": {},
     "output_type": "display_data"
    }
   ],
   "source": [
    "%matplotlib inline\n",
    "pdf.plot.scatter(x='longitude',y='avg(coeff_1)');"
   ]
  },
  {
   "cell_type": "code",
   "execution_count": 21,
   "metadata": {},
   "outputs": [
    {
     "data": {
      "text/plain": [
       "['spark big  data analysis', 'spring', 'spark  basics']"
      ]
     },
     "execution_count": 21,
     "metadata": {},
     "output_type": "execute_result"
    }
   ],
   "source": [
    "RDD1=sc.parallelize([\"spark  basics\", \"spark big  data analysis\", \"spring\"]) \n",
    "RDD2=sc.parallelize([\"spark using pyspark\", \"big data\"])\n",
    " \n",
    "RDD1.subtract(RDD2).collect()"
   ]
  },
  {
   "cell_type": "code",
   "execution_count": null,
   "metadata": {
    "collapsed": true
   },
   "outputs": [],
   "source": []
  }
 ],
 "metadata": {
  "anaconda-cloud": {},
  "hide_input": false,
  "kernelspec": {
   "display_name": "Python 2",
   "language": "python",
   "name": "python2"
  },
  "language_info": {
   "codemirror_mode": {
    "name": "ipython",
    "version": 2
   },
   "file_extension": ".py",
   "mimetype": "text/x-python",
   "name": "python",
   "nbconvert_exporter": "python",
   "pygments_lexer": "ipython2",
   "version": "2.7.13"
  },
  "toc": {
   "colors": {
    "hover_highlight": "#DAA520",
    "running_highlight": "#FF0000",
    "selected_highlight": "#FFD700"
   },
   "moveMenuLeft": true,
   "nav_menu": {
    "height": "174px",
    "width": "252px"
   },
   "navigate_menu": true,
   "number_sections": true,
   "sideBar": true,
   "threshold": 4,
   "toc_cell": false,
   "toc_section_display": "block",
   "toc_window_display": false
  }
 },
 "nbformat": 4,
 "nbformat_minor": 1
}
