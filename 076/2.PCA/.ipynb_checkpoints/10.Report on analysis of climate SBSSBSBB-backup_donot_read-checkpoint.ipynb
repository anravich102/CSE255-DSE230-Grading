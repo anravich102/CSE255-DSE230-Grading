{
 "cells": [
  {
   "cell_type": "markdown",
   "metadata": {
    "run_control": {
     "frozen": false,
     "read_only": false
    }
   },
   "source": [
    "# North Utah-South Idaho Weather Analysis- **Area SBSSBSBB**-:\n",
    "\n",
    "<p><img alt=\"googlemap.png\" src=\"r_figures/googlemap.png\" style=\"height:600px; width:300px\" /></p>\n",
    "\n",
    "\n",
    "This is a report on the historical analysis of weather patterns in an area that approximately overlaps the area of North Utah-South Idaho .\n",
    "\n",
    "The data we will use here comes from [NOAA](https://www.ncdc.noaa.gov/). Specifically, it was downloaded from This [FTP site](ftp://ftp.ncdc.noaa.gov/pub/data/ghcn/daily/).\n",
    "\n",
    "We focused on six measurements:\n",
    "* **TMIN, TMAX:** the daily minimum and maximum temperature.\n",
    "* **TOBS:** The average temperature for each day.\n",
    "* **PRCP:** Daily Percipitation (in mm)\n",
    "* **SNOW:** Daily snowfall (in mm)\n",
    "* **SNWD:** The depth of accumulated snow.\n",
    "\n",
    "## Sanity-check: comparison with outside sources\n",
    "\n",
    "<p>We start by comparing some of the general statistics with graphs that we obtained from a site called <a href=\"http://www.usclimatedata.com/climate/boston/massachusetts/united-states/usma0046\" target=\"_blank\">US Climate Data</a> The graph below shows the daily minimum and maximum temperatures for each month, as well as the total precipitation for each month.</p>\n",
    "\n",
    "<p>&nbsp;</p>\n",
    "\n",
    "<p><img alt=\"Climate.png\" src=\"r_figures/Climate.png\" style=\"height:400px; width:600px\" /></p>\n",
    "\n",
    "<p>&nbsp;</p>\n",
    "\n",
    "<p>We see that the min and max daily&nbsp;temperature agree with the ones we got from our data, once we translate Fahrenheit to Centigrade. SAme pattern for temperature </p>\n",
    "\n",
    "<p>&nbsp;</p>\n",
    "\n",
    "<p><img alt=\"TMIN_TMAX_MEAN\" src=\"r_figures/TMIN_TMAX_MEAN.png\" style=\"height:300px; width:800px\" /></p>\n",
    " <p>  * 0 = \"Mean +std\" ,1 = \"Mean\", 2 = \"Mean -std\" * <p>\n",
    " \n",
    " \n",
    " \n",
    " \n",
    " \n",
    " \n",
    "\n",
    "\n"
   ]
  },
  {
   "cell_type": "markdown",
   "metadata": {
    "run_control": {
     "frozen": false,
     "read_only": false
    }
   },
   "source": [
    "## PCA analysis\n",
    "\n",
    "For each of the six measurement, we compute the percentate of the variance explained as a function of the number of eigen-vectors used.\n",
    "\n",
    "\n",
    "\n",
    "### Percentage of variance explained.\n",
    "![VarExplained1_id.png](r_figures/VarExplained1_id.png)\n",
    "We see that the top 5 eigen-vectors explain 37% of variance for TMIN, **55% ** for TOBS and 36% for TMAX.\n",
    "\n",
    "We conclude that of the three, TOBS is best explained by the top 5 eigenvectors. This is especially true for the first eigen-vector which, by itself, explains 47 % of the variance.\n",
    "\n",
    "![VarExplained2_id.png](r_figures/VarExplained2_id.png)\n",
    "\n",
    "The top 5 eigenvectors explain 13% of the variance for PRCP and 11% for SNOW. Both are low values. On the other hand the top 5 eigenvectors explain **88% ** of the variance for SNWD.\n",
    "\n",
    "This means that these top 5 eigenvectors capture most of the variation in the snow signals and temperature observed. Based on that we will dig deeper into the PCA analysis for snow-depth and temperature observed .\n",
    "\n",
    "\n",
    "\n",
    "\n",
    "It makes sense that SNWD would be less noisy than SNOW. That is because SNWD is a decaying integral of SNOW and, as such, varies less between days and between the same date on diffferent years."
   ]
  },
  {
   "cell_type": "markdown",
   "metadata": {
    "run_control": {
     "frozen": false,
     "read_only": false
    }
   },
   "source": [
    "## Analysis of snow depth\n",
    "\n",
    "We choose to analyze the eigen-decomposition for snow-depth because the first 5 eigen-vectors explain 88% of the variance.\n",
    "\n",
    "First, we graph the mean and the top 5 eigen-vectors.\n",
    "\n",
    "We observe that the snow season is from mid-november to the end of march, where the middle of February marks the peak of the snow-depth.\n",
    "![SNWD_eigen_id.png](r_figures/SNWD_eigen_id.png)"
   ]
  },
  {
   "cell_type": "markdown",
   "metadata": {
    "run_control": {
     "frozen": false,
     "read_only": false
    }
   },
   "source": [
    "Next we interpret the eigen-functions. The first eigen-function (eig1) has a shape very similar to the mean function but with -ve sign ,main contributing stations/factors to varience have snow less than the mean\n",
    "\n",
    "**eig2,eig3 and eig4** are similar in the following way. They all oscilate between positive and negative values. In other words, they correspond to changing the distribution of the snow depth over the winter months, but they don't change the total (much).\n",
    "\n",
    "They can be interpreted as follows:\n",
    "\n",
    "* **eig2:** More snow November and December and March less snow from  jan to April with dip in March\n",
    "* **eig3:** Low snow in Jan and Feb ,high snow in  March April November and December  .\n",
    "* **eig4:** Low snow in in Jan ,April & novemeber and high snow ib March and December \n",
    "* **eig5:** high snow in Jan , March and November  & Low snaoe in Feb ,April and December.\n",
    "\n"
   ]
  },
  {
   "cell_type": "markdown",
   "metadata": {
    "run_control": {
     "frozen": false,
     "read_only": false
    }
   },
   "source": [
    "### Examples of reconstructions\n",
    "\n",
    "#### Coeff1\n",
    "**Coeff1: most positive**\n",
    "![most_p_co1.png](r_figures/most_p_co1.png)\n",
    "**Coeff1: most negative**\n",
    "![most_n_co1.png](r_figures/most_n_co1.png)\n",
    "Large positive values of coeff1 correspond to more than average snow. Low values correspond to less than average snow.\n",
    "\n",
    "#### Coeff2\n",
    "**Coeff2: most positive**\n",
    "![most_p_co2.png](r_figures/most_p_co2.png)\n",
    "**Coeff2: most negative**\n",
    "![most_n_co2.png](r_figures/most_n_co2.png)\n",
    "\n",
    "Large positive values of coeff2 correspond to a late snow season (most of the snowfall is after mid feb. Negative values for coeff2 correspond to an early snow season (most of the snow is before mid-feb.\n",
    "#### Coeff3\n",
    "**Coeff3: most positive**\n",
    "![most_p_co3.png](r_figures/most_p_co3.png)\n",
    "**Coeff3: most negative**\n",
    "![most_n_co3.png](r_figures/most_n_co3.png)\n",
    "\n",
    "Large positive values of coeff3 correspond to a snow season with two spikes: one in the start of january, the other at the end of february. Negative values of coeff3 correspond to a season with a single peak at the end of Jan.\n",
    "\n"
   ]
  },
  {
   "cell_type": "markdown",
   "metadata": {
    "run_control": {
     "frozen": false,
     "read_only": false
    }
   },
   "source": [
    "### Estimating the effect of the year vs the effect of the station\n",
    "\n",
    "To estimate the effect of time vs. location on the first eigenvector coefficient we\n",
    "compute:\n",
    "\n",
    "* The average row: `mean-by-station`\n",
    "* The average column: `mean-by-year`\n",
    "\n",
    "We then compute the RMS before and after subtracting either  the row or the column vector.\n",
    "* Total RMS                   =  601.90862572\n",
    "* RMS removing mean-by-station=  575.299716846\n",
    "* RMS removing mean-by-year   =  346.048423438\n",
    "\n",
    "** The effect of year to year variation is more than station by station variation** "
   ]
  },
  {
   "cell_type": "markdown",
   "metadata": {},
   "source": [
    "#### **Block Diagonal**\n",
    "This type of organization is called **Block Diagonal** and it typically reveals important structure such as grouping or clustering.\n",
    "Eigen vector 1 SNWD:\n",
    "* Station 15 to 40 are highly correlated \n",
    "Eigen vector 2 SNWD:\n",
    "* Station 0 to 28 are highly correlated \n",
    "Eigen vector 3 SNWD:\n",
    "* Station 15 to 20 are highly correlated \n",
    "Eigen vector 4 SNWD:\n",
    "* Station 15 to 20 are highly correlated  \n",
    "\n",
    "\n",
    "we can see that stationsfrom 15 to 20 are highly correlated "
   ]
  },
  {
   "cell_type": "markdown",
   "metadata": {},
   "source": [
    "**Correlation of Station per eigen vectors**\n",
    "![Eigen_Station_coreleation.png](r_figures/Eigen_Station_coreleation.png)"
   ]
  },
  {
   "attachments": {},
   "cell_type": "markdown",
   "metadata": {},
   "source": [
    "* List of Highly corellated station ( 15 to 20 ):\n",
    "\n",
    "\n",
    "| **Station**  |latitude   | longitude  |  elevation |   |\n",
    "|---|---|---|---|---|\n",
    "|USC00422726|41.0222|-111.9353|1335|\n",
    "| USC00423671|41.6|-111.5667|1694.7|\n",
    "|    USC00424135|41.2403|-111.7131|1566.7|\n",
    "|    USC00424856|41.825|-111.3208|1822.7|\n",
    "|USC00425082|41.9667|-111.8333|1366.1|\n",
    "|USC00425182|41.7353|-111.8561|1362.5|\n",
    "\n",
    "\n",
    "![Map_Stations_with_high_correlation.png](r_figures/Map_Stations_with_high_correlation.png)\n"
   ]
  },
  {
   "cell_type": "markdown",
   "metadata": {},
   "source": [
    "Those stations are spread on the area ,they arenot  located on same elevation or location "
   ]
  },
  {
   "cell_type": "code",
   "execution_count": 28,
   "metadata": {
    "run_control": {
     "frozen": false,
     "read_only": false
    },
    "scrolled": false
   },
   "outputs": [
    {
     "name": "stdout",
     "output_type": "stream",
     "text": [
      "![5__maps_using_iPyLeaflet.jpg](r_figures/5__maps_using_iPyLeaflet.jpg)\n",
      "![Climate.png](r_figures/Climate.png)\n",
      "![Climate_Boston_-_Massachusetts_and_Weather_averages_Boston.jpg](r_figures/Climate_Boston_-_Massachusetts_and_Weather_averages_Boston.jpg)\n",
      "![Eigen_Station_coreleation.png](r_figures/Eigen_Station_coreleation.png)\n",
      "![Map of Average snow depth.jpg](r_figures/Map of Average snow depth.jpg)\n",
      "![Map_Stations_with_high_corre.png](r_figures/Map_Stations_with_high_corre.png)\n",
      "![Map_Stations_with_high_correlation.png](r_figures/Map_Stations_with_high_correlation.png)\n",
      "![PRCP.png](r_figures/PRCP.png)\n",
      "![SNOW.png](r_figures/SNOW.png)\n",
      "![SNWD_ELEV_CO1.png](r_figures/SNWD_ELEV_CO1.png)\n",
      "![SNWD_LAT_CO1.png](r_figures/SNWD_LAT_CO1.png)\n",
      "![SNWD_eigen_id.png](r_figures/SNWD_eigen_id.png)\n",
      "![SNWD_long_CO1.png](r_figures/SNWD_long_CO1.png)\n",
      "![Stations_with_high_correlation.png](r_figures/Stations_with_high_correlation.png)\n",
      "![TMIN,TMAX.png](r_figures/TMIN,TMAX.png)\n",
      "![TMIN_TMAX_MEAN.png](r_figures/TMIN_TMAX_MEAN.png)\n",
      "![VarExplained1_id.png](r_figures/VarExplained1_id.png)\n",
      "![VarExplained2_id.png](r_figures/VarExplained2_id.png)\n",
      "![googlemap.png](r_figures/googlemap.png)\n",
      "![most_n_co1.png](r_figures/most_n_co1.png)\n",
      "![most_n_co2.png](r_figures/most_n_co2.png)\n",
      "![most_n_co3.png](r_figures/most_n_co3.png)\n",
      "![most_p_co1.png](r_figures/most_p_co1.png)\n",
      "![most_p_co2.png](r_figures/most_p_co2.png)\n",
      "![most_p_co3.png](r_figures/most_p_co3.png)\n",
      "![percipitation.png](r_figures/percipitation.png)\n"
     ]
    }
   ],
   "source": [
    "L=!ls r_figures/\n",
    "for l in L:\n",
    "    print \"![%s](r_figures/%s)\"%(l,l)"
   ]
  },
  {
   "cell_type": "code",
   "execution_count": null,
   "metadata": {
    "collapsed": true
   },
   "outputs": [],
   "source": []
  }
 ],
 "metadata": {
  "anaconda-cloud": {},
  "kernelspec": {
   "display_name": "Python 2",
   "language": "python",
   "name": "python2"
  },
  "language_info": {
   "codemirror_mode": {
    "name": "ipython",
    "version": 2
   },
   "file_extension": ".py",
   "mimetype": "text/x-python",
   "name": "python",
   "nbconvert_exporter": "python",
   "pygments_lexer": "ipython2",
   "version": "2.7.13"
  },
  "latex_envs": {
   "LaTeX_envs_menu_present": true,
   "autocomplete": true,
   "bibliofile": "biblio.bib",
   "cite_by": "apalike",
   "current_citInitial": 1,
   "eqLabelWithNumbers": true,
   "eqNumInitial": 1,
   "hotkeys": {
    "equation": "Ctrl-E",
    "itemize": "Ctrl-I"
   },
   "labels_anchors": false,
   "latex_user_defs": false,
   "report_style_numbering": false,
   "user_envs_cfg": false
  },
  "toc": {
   "colors": {
    "hover_highlight": "#DAA520",
    "running_highlight": "#FF0000",
    "selected_highlight": "#FFD700"
   },
   "moveMenuLeft": true,
   "nav_menu": {
    "height": "12px",
    "width": "252px"
   },
   "navigate_menu": true,
   "number_sections": true,
   "sideBar": true,
   "threshold": 4,
   "toc_cell": false,
   "toc_section_display": "block",
   "toc_window_display": false
  }
 },
 "nbformat": 4,
 "nbformat_minor": 2
}
