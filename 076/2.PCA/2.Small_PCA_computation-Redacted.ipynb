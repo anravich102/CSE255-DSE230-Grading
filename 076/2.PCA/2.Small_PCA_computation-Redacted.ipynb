{
 "cells": [
  {
   "cell_type": "markdown",
   "metadata": {
    "run_control": {
     "frozen": false,
     "read_only": false
    },
    "slideshow": {
     "slide_type": "slide"
    }
   },
   "source": [
    "### Computing PCA using RDDs"
   ]
  },
  {
   "cell_type": "markdown",
   "metadata": {
    "run_control": {
     "frozen": false,
     "read_only": false
    },
    "slideshow": {
     "slide_type": "subslide"
    }
   },
   "source": [
    "###  PCA\n",
    "\n",
    "The vectors that we want to analyze have length, or dimension, of 365, corresponding to the number of \n",
    "days in a year.\n",
    "\n",
    "We want to perform [Principle component analysis (PCA)](https://en.wikipedia.org/wiki/Principal_component_analysis)\n",
    "on these vectors. There are two steps to this process:\n",
    "\n",
    "1. Computing the covariance matrix: this is a  simple computation. However, it takes a long time to compute and it benefits from using an RDD because it involves all of the input vectors.\n",
    "2. Computing the eigenvector decomposition. this is a more complex computation, but it takes a fraction of a second because the size to the covariance matrix is $365 \\times 365$, which is quite small. We do it on the head node usin `linalg`"
   ]
  },
  {
   "cell_type": "markdown",
   "metadata": {
    "run_control": {
     "frozen": false,
     "read_only": false
    },
    "slideshow": {
     "slide_type": "slide"
    }
   },
   "source": [
    "### Computing the covariance matrix\n",
    "Suppose that the data vectors are the column vectors denoted $x$ then the covariance matrix is defined to be\n",
    "$$\n",
    "E(x x^T)-E(x)E(x)^T\n",
    "$$\n",
    "\n",
    "Where $x x^T$ is the **outer product** of $x$ with itself.\n",
    "\n",
    "If the data that we have is $x_1,x_2,x_n$ then the estimates we use are:\n",
    "$$\n",
    "\\hat{E}(x x^T) = \\frac{1}{n} \\sum_{i=1}^n x_i x_i^T,\\;\\;\\;\\;\\;\n",
    "\\hat{E}(x) = \\frac{1}{n} \\sum_{i=1}^n x_i\n",
    "$$"
   ]
  },
  {
   "cell_type": "markdown",
   "metadata": {
    "run_control": {
     "frozen": false,
     "read_only": false
    },
    "slideshow": {
     "slide_type": "slide"
    }
   },
   "source": [
    "### `nan`s in arithmetic operations\n",
    "* We store all of the measurements as single `bytearray` in a single column. Instead of using 365 columns.\n",
    "* Why?\n",
    "  1. Because serializing and desirializing is faster that way.\n",
    "  1. Because numpy treats `nan` entries correctly:\n",
    "      * In `numpy.nansum` `5+nan=5` while in dataframes `5+nan=nan`"
   ]
  },
  {
   "cell_type": "code",
   "execution_count": 1,
   "metadata": {
    "run_control": {
     "frozen": false,
     "read_only": false
    },
    "slideshow": {
     "slide_type": "subslide"
    }
   },
   "outputs": [
    {
     "name": "stdout",
     "output_type": "stream",
     "text": [
      "mean of [1 1 1 2] = 1.25\n",
      "nanmean of [1 1 1 2] = 1.25\n",
      "mean of [  1.   1.  nan   2.] = nan\n",
      "nanmean of [  1.   1.  nan   2.] = 1.33333333333\n"
     ]
    }
   ],
   "source": [
    "import numpy as np\n",
    "X=np.array([1,1,1,2])\n",
    "print 'mean of',X,'=',np.mean(X)\n",
    "print 'nanmean of',X,'=',np.nanmean(X)\n",
    "X=np.array([1,1,np.NaN,2])\n",
    "print 'mean of',X,'=',np.mean(X)\n",
    "print 'nanmean of',X,'=',np.nanmean(X)"
   ]
  },
  {
   "cell_type": "markdown",
   "metadata": {
    "run_control": {
     "frozen": false,
     "read_only": false
    },
    "slideshow": {
     "slide_type": "subslide"
    }
   },
   "source": [
    "#### When should you not use `np.nanmean` ?\n",
    "Using `n.nanmean` is equivalent to assuming that choice of which elements to remove is independent of the values of the elements. \n",
    "* Example of bad case: suppose the larger elements have a higher probability of being `nan`. In that case `np.nanmean` will under-estimate the mean"
   ]
  },
  {
   "cell_type": "markdown",
   "metadata": {
    "run_control": {
     "frozen": false,
     "read_only": false
    },
    "slideshow": {
     "slide_type": "subslide"
    }
   },
   "source": [
    "#### Computing Cov matrix on vectors with NaNs\n",
    "As it happens, we often get vectors $x$ in which some, but not all, of the entries are `nan`. \n",
    "Suppose that we want to compute the mean of the elements of $x$. If we use `np.mean` we will get the result `nan`. A useful alternative is to use `np.nanmean` which removes the `nan` elements and takes the mean of the rest."
   ]
  },
  {
   "cell_type": "markdown",
   "metadata": {
    "run_control": {
     "frozen": false,
     "read_only": false
    },
    "slideshow": {
     "slide_type": "subslide"
    }
   },
   "source": [
    "#### Computing the covariance  when there are `nan`s\n",
    "The covariance is a mean of outer products.\n",
    "\n",
    "If the data that we have is $x_1,x_2,x_n$ then the estimates we use are:\n",
    "$$\n",
    "\\hat{E}(x x^T) = \\frac{1}{n} \\sum_{i=1}^n x_i x_i^T,\\;\\;\\;\\;\\;\n",
    "\\hat{E}(x) = \\frac{1}{n} \\sum_{i=1}^n x_i\n",
    "$$"
   ]
  },
  {
   "cell_type": "code",
   "execution_count": 2,
   "metadata": {
    "run_control": {
     "frozen": false,
     "read_only": false
    },
    "slideshow": {
     "slide_type": "subslide"
    }
   },
   "outputs": [
    {
     "data": {
      "text/plain": [
       "array([[[  1.,  nan,   3.,   4.,   5.],\n",
       "        [ nan,  nan,  nan,  nan,  nan],\n",
       "        [  3.,  nan,   9.,  12.,  15.],\n",
       "        [  4.,  nan,  12.,  16.,  20.],\n",
       "        [  5.,  nan,  15.,  20.,  25.]],\n",
       "\n",
       "       [[  4.,   6.,   8.,  nan,  12.],\n",
       "        [  6.,   9.,  12.,  nan,  18.],\n",
       "        [  8.,  12.,  16.,  nan,  24.],\n",
       "        [ nan,  nan,  nan,  nan,  nan],\n",
       "        [ 12.,  18.,  24.,  nan,  36.]]])"
      ]
     },
     "execution_count": 2,
     "metadata": {},
     "output_type": "execute_result"
    }
   ],
   "source": [
    "x1=np.array([1,np.NaN,3,4,5])\n",
    "x2=np.array([2,3,4,np.NaN,6])\n",
    "stacked=np.array([np.outer(x1,x1),np.outer(x2,x2)])\n",
    "stacked"
   ]
  },
  {
   "cell_type": "code",
   "execution_count": 3,
   "metadata": {
    "run_control": {
     "frozen": false,
     "read_only": false
    },
    "slideshow": {
     "slide_type": "subslide"
    }
   },
   "outputs": [
    {
     "name": "stderr",
     "output_type": "stream",
     "text": [
      "/Users/egouda/anaconda2/envs/py27/lib/python2.7/site-packages/ipykernel_launcher.py:1: RuntimeWarning: Mean of empty slice\n",
      "  \"\"\"Entry point for launching an IPython kernel.\n"
     ]
    },
    {
     "data": {
      "text/plain": [
       "array([[  2.5,   6. ,   5.5,   4. ,   8.5],\n",
       "       [  6. ,   9. ,  12. ,   nan,  18. ],\n",
       "       [  5.5,  12. ,  12.5,  12. ,  19.5],\n",
       "       [  4. ,   nan,  12. ,  16. ,  20. ],\n",
       "       [  8.5,  18. ,  19.5,  20. ,  30.5]])"
      ]
     },
     "execution_count": 3,
     "metadata": {},
     "output_type": "execute_result"
    }
   ],
   "source": [
    "np.nanmean(stacked,axis=0)"
   ]
  },
  {
   "cell_type": "markdown",
   "metadata": {
    "run_control": {
     "frozen": false,
     "read_only": false
    },
    "slideshow": {
     "slide_type": "slide"
    }
   },
   "source": [
    "### Loading Data into Dataframe"
   ]
  },
  {
   "cell_type": "code",
   "execution_count": 1,
   "metadata": {
    "run_control": {
     "frozen": false,
     "read_only": false
    },
    "slideshow": {
     "slide_type": "skip"
    }
   },
   "outputs": [],
   "source": [
    "import findspark\n",
    "findspark.init()\n",
    "\n",
    "from pyspark import SparkContext\n",
    "#sc.stop()\n",
    "## add after creating spark_PCA.py\n",
    "sc = SparkContext(master=\"local[3]\",pyFiles=['lib/numpy_pack.py','lib/computeStats.py']) #,'lib/spark_PCA.py'\n",
    "\n",
    "from pyspark import SparkContext\n",
    "from pyspark.sql import *\n",
    "sqlContext = SQLContext(sc)"
   ]
  },
  {
   "cell_type": "code",
   "execution_count": 2,
   "metadata": {
    "run_control": {
     "frozen": false,
     "read_only": false
    },
    "slideshow": {
     "slide_type": "skip"
    }
   },
   "outputs": [],
   "source": [
    "import sys\n",
    "sys.path.append('./lib')\n",
    "\n",
    "import numpy as np\n",
    "from numpy_pack import packArray,unpackArray\n",
    "# add after creating spark_PCA.py\n",
    "# from spark_PCA import computeCov\n",
    "from computeStats import computeOverAllDist, STAT_Descriptions"
   ]
  },
  {
   "cell_type": "markdown",
   "metadata": {
    "run_control": {
     "frozen": false,
     "read_only": false
    },
    "slideshow": {
     "slide_type": "slide"
    }
   },
   "source": [
    "### Climate data\n",
    "\n",
    "The data we will use here comes from [NOAA](https://www.ncdc.noaa.gov/). Specifically, it was downloaded from This [FTP site](ftp://ftp.ncdc.noaa.gov/pub/data/ghcn/daily/).\n",
    "\n",
    "There is a large variety of measurements from all over the world, from 1870 will 2012.\n",
    "in the directory `../../Data/Weather` you will find the following useful files:\n",
    "\n",
    "* data-source.txt: the source of the data\n",
    "* ghcnd-readme.txt: A description of the content and format of the data\n",
    "* ghcnd-stations.txt: A table describing the Meteorological stations.\n",
    "\n"
   ]
  },
  {
   "cell_type": "markdown",
   "metadata": {
    "run_control": {
     "frozen": false,
     "read_only": false
    },
    "slideshow": {
     "slide_type": "subslide"
    }
   },
   "source": [
    "### Data cleaning\n",
    "\n",
    "* Most measurements exists only for a tiny fraction of the stations and years. We therefor restrict our use to the following measurements:\n",
    "```python\n",
    "['TMAX', 'SNOW', 'SNWD', 'TMIN', 'PRCP', 'TOBS']\n",
    "```\n",
    "\n",
    "* We consider only measurement-years that have at most 50 `NaN` entries\n",
    "\n",
    "* We consider only measurements in the continential USA\n",
    "\n",
    "* We partition the stations into 256 geographical rectangles, indexed from BBBBBBBB to SSSSSSSS. And each containing about 12,000 station,year pairs."
   ]
  },
  {
   "cell_type": "code",
   "execution_count": 3,
   "metadata": {
    "run_control": {
     "frozen": false,
     "read_only": false
    },
    "scrolled": true,
    "slideshow": {
     "slide_type": "skip"
    }
   },
   "outputs": [
    {
     "name": "stdout",
     "output_type": "stream",
     "text": [
      "../../Data/Weather/US_Weather_SBSSBSBB.csv*\n",
      "curl https://mas-dse-open.s3.amazonaws.com/Weather/small/US_Weather_SBSSBSBB.csv.gz > ../../Data/Weather/US_Weather_SBSSBSBB.csv.gz\n",
      "  % Total    % Received % Xferd  Average Speed   Time    Time     Time  Current\n",
      "                                 Dload  Upload   Total   Spent    Left  Speed\n",
      "100 3726k  100 3726k    0     0  2892k      0  0:00:01  0:00:01 --:--:-- 3017k\n",
      "-rw-r--r--  1 egouda  staff   3.6M May  8 23:32 ../../Data/Weather/US_Weather_SBSSBSBB.csv.gz\n"
     ]
    }
   ],
   "source": [
    "file_index='SBSSBSBB'\n",
    "filename='US_Weather_%s.csv.gz'%file_index\n",
    "data_dir='../../Data/Weather'\n",
    "del_files='%s/%s*'%(data_dir,filename[:-3])\n",
    "print del_files\n",
    "!rm $del_files\n",
    "command=\"curl https://mas-dse-open.s3.amazonaws.com/Weather/small/%s > %s/%s\"%(filename,data_dir,filename)\n",
    "print command\n",
    "!$command\n",
    "!ls -lh $data_dir/$filename"
   ]
  },
  {
   "cell_type": "code",
   "execution_count": 4,
   "metadata": {
    "run_control": {
     "frozen": false,
     "read_only": false
    },
    "slideshow": {
     "slide_type": "skip"
    }
   },
   "outputs": [
    {
     "name": "stdout",
     "output_type": "stream",
     "text": [
      "-rw-r--r--  1 egouda  staff    13M May  8 23:32 ../../Data/Weather/US_Weather_SBSSBSBB.csv\r\n"
     ]
    }
   ],
   "source": [
    "!gunzip $data_dir/$filename\n",
    "filename=data_dir+'/US_Weather_SBSSBSBB.csv'\n",
    "!ls -lh $filename"
   ]
  },
  {
   "cell_type": "code",
   "execution_count": 5,
   "metadata": {
    "run_control": {
     "frozen": false,
     "read_only": false
    },
    "scrolled": true,
    "slideshow": {
     "slide_type": "subslide"
    }
   },
   "outputs": [
    {
     "data": {
      "text/plain": [
       "12619"
      ]
     },
     "execution_count": 5,
     "metadata": {},
     "output_type": "execute_result"
    }
   ],
   "source": [
    "import pickle\n",
    "List=pickle.load(open(filename,'rb'))\n",
    "len(List)"
   ]
  },
  {
   "cell_type": "code",
   "execution_count": 10,
   "metadata": {
    "run_control": {
     "frozen": false,
     "read_only": false
    },
    "slideshow": {
     "slide_type": "subslide"
    }
   },
   "outputs": [
    {
     "name": "stdout",
     "output_type": "stream",
     "text": [
      "12619\n",
      "+---------+--------+---------+-----------+-----------+------+--------------------+------+--------+\n",
      "|elevation|latitude|longitude|measurement|    station|undefs|              vector|  year|   label|\n",
      "+---------+--------+---------+-----------+-----------+------+--------------------+------+--------+\n",
      "|   1451.5| 42.0358|-111.9617|       TMAX|USC00109698|    42|[40 4C 80 4D 80 5...|1899.0|SBSSBSBB|\n",
      "|   1451.5| 42.0358|-111.9617|       TMAX|USC00109698|    17|[80 D1 80 C9 E0 5...|1900.0|SBSSBSBB|\n",
      "|   1451.5| 42.0358|-111.9617|       TMAX|USC00109698|    16|[A0 D3 00 00 00 5...|1901.0|SBSSBSBB|\n",
      "|   1451.5| 42.0358|-111.9617|       TMAX|USC00109698|    37|[80 54 E0 50 00 4...|1902.0|SBSSBSBB|\n",
      "|   1451.5| 42.0358|-111.9617|       TMAX|USC00109698|    21|[00 C6 00 46 00 4...|1903.0|SBSSBSBB|\n",
      "+---------+--------+---------+-----------+-----------+------+--------------------+------+--------+\n",
      "only showing top 5 rows\n",
      "\n"
     ]
    }
   ],
   "source": [
    "df=sqlContext.createDataFrame(List)\n",
    "print df.count()\n",
    "df.show(5)\n",
    "outfilename=\"US_Weather_SBSSBSBB.parquet\"\n",
    "#!rm -rf $dir/$outfilename\n",
    "df.write.save(outfilename)\n",
    "#!ls -ld $dir/$outfilename"
   ]
  },
  {
   "cell_type": "code",
   "execution_count": 11,
   "metadata": {
    "run_control": {
     "frozen": false,
     "read_only": false
    },
    "slideshow": {
     "slide_type": "subslide"
    }
   },
   "outputs": [],
   "source": [
    "sqlContext.registerDataFrameAsTable(df,'weather') #using older sqlContext instead of newer (V2.0) sparkSession"
   ]
  },
  {
   "cell_type": "code",
   "execution_count": 12,
   "metadata": {
    "run_control": {
     "frozen": false,
     "read_only": false
    },
    "slideshow": {
     "slide_type": "skip"
    }
   },
   "outputs": [
    {
     "name": "stdout",
     "output_type": "stream",
     "text": [
      "Number of executors= 3\n",
      "took 0.00147414207458 seconds\n"
     ]
    }
   ],
   "source": [
    "from time import time\n",
    "t=time()\n",
    "\n",
    "N=sc.defaultParallelism\n",
    "print 'Number of executors=',N\n",
    "print 'took',time()-t,'seconds'"
   ]
  },
  {
   "cell_type": "markdown",
   "metadata": {
    "run_control": {
     "frozen": false,
     "read_only": false
    },
    "slideshow": {
     "slide_type": "slide"
    }
   },
   "source": [
    "### Computing PCA for each measurement"
   ]
  },
  {
   "cell_type": "code",
   "execution_count": 13,
   "metadata": {
    "run_control": {
     "frozen": false,
     "read_only": false
    },
    "slideshow": {
     "slide_type": "fragment"
    }
   },
   "outputs": [],
   "source": [
    "measurements=['TMAX', 'SNOW', 'SNWD', 'TMIN', 'PRCP', 'TOBS']"
   ]
  },
  {
   "cell_type": "markdown",
   "metadata": {
    "run_control": {
     "frozen": false,
     "read_only": false
    },
    "slideshow": {
     "slide_type": "subslide"
    }
   },
   "source": [
    "#### Homework\n",
    "The code below computes the covariance matrix using RDDs.\n",
    "The code allows undefined entries and calculates the covariance without bias.\n",
    "\n",
    "Your homework is to complete the missing parts in the code (Marked with `...`) so that it would calculate the covariance correctly."
   ]
  },
  {
   "cell_type": "code",
   "execution_count": 14,
   "metadata": {
    "collapsed": true,
    "run_control": {
     "frozen": false,
     "read_only": false
    },
    "slideshow": {
     "slide_type": "subslide"
    }
   },
   "outputs": [],
   "source": [
    "#%%writefile lib/spark_PCA.py #once this works correctly, you should add it to the `lib` directory\n",
    "# and use import\n",
    "\n",
    "import numpy as np\n",
    "from numpy import linalg as LA\n",
    "\n",
    "def outerProduct(X):\n",
    "    \"\"\"Computer outer product and indicate which locations in matrix are undefined\"\"\"\n",
    "    O=np.outer(X,X)\n",
    "    N=1-np.isnan(O)\n",
    "    return (O,N)\n",
    "\n",
    "def sumWithNan(M1,M2):\n",
    "    \"\"\"Add two pairs of (matrix,count)\"\"\"\n",
    "    (X1,N1)=M1\n",
    "    (X2,N2)=M2\n",
    "    N=N1+N2\n",
    "    X=np.nansum(np.dstack((X1,X2)),axis=2)\n",
    "    return (X,N)\n",
    "\n",
    "def computeCov(RDDin):\n",
    "    \"\"\"computeCov recieves as input an RDD of np arrays, all of the same length, \n",
    "    and computes the covariance matrix for that set of vectors\"\"\"\n",
    "    RDD=RDDin.map(lambda v:np.array(np.insert(v,0,1),dtype=np.float64)) \n",
    "                     # insert a 1 at the beginning of each vector so that the same \n",
    "                     #calculation also yields the mean vector\n",
    "     # separating the map and the reduce does not matter because of Spark uses lazy execution.\n",
    "    OuterRDD=RDD.map(outerProduct)   \n",
    "    (S,N)=OuterRDD.reduce(sumWithNan)\n",
    "    E=S[0,1:]\n",
    "    NE=np.float64(N[0,1:])\n",
    "    print 'shape of E=',E.shape,'shape of NE=',NE.shape\n",
    "    Mean=E/NE\n",
    "    O=S[1:,1:]\n",
    "    NO=np.float64(N[1:,1:])\n",
    "    Cov=O/NO - np.outer(Mean,Mean)\n",
    "    # Output also the diagnal which is the variance for each day\n",
    "    Var=np.array([Cov[i,i] for i in range(Cov.shape[0])])\n",
    "    return {'E':E,'NE':NE,'O':O,'NO':NO,'Cov':Cov,'Mean':Mean,'Var':Var}"
   ]
  },
  {
   "cell_type": "code",
   "execution_count": 15,
   "metadata": {
    "run_control": {
     "frozen": false,
     "read_only": false
    },
    "scrolled": true,
    "slideshow": {
     "slide_type": "subslide"
    }
   },
   "outputs": [
    {
     "name": "stdout",
     "output_type": "stream",
     "text": [
      "SELECT * FROM weather\n",
      "\tWHERE measurement='TMAX'\n",
      "shape of E= (365,) shape of NE= (365,)\n",
      "time for TMAX is 16.0453760624\n",
      "SELECT * FROM weather\n",
      "\tWHERE measurement='SNOW'\n",
      "shape of E= (365,) shape of NE= (365,)\n",
      "time for SNOW is 12.5414819717\n",
      "SELECT * FROM weather\n",
      "\tWHERE measurement='SNWD'\n",
      "shape of E= (365,) shape of NE= (365,)\n",
      "time for SNWD is 10.1639611721\n",
      "SELECT * FROM weather\n",
      "\tWHERE measurement='TMIN'\n",
      "shape of E= (365,) shape of NE= (365,)\n",
      "time for TMIN is 14.5669820309\n",
      "SELECT * FROM weather\n",
      "\tWHERE measurement='PRCP'\n",
      "shape of E= (365,) shape of NE= (365,)\n",
      "time for PRCP is 15.1397848129\n",
      "SELECT * FROM weather\n",
      "\tWHERE measurement='TOBS'\n",
      "shape of E= (365,) shape of NE= (365,)\n",
      "time for TOBS is 8.66682910919\n"
     ]
    }
   ],
   "source": [
    "from numpy import linalg as LA\n",
    "STAT={}  # dictionary storing the statistics for each measurement\n",
    "Clean_Tables={}\n",
    "\n",
    "for meas in measurements:\n",
    "    t=time()\n",
    "    Query=\"SELECT * FROM weather\\n\\tWHERE measurement='%s'\"%(meas)\n",
    "    #Query=\"SELECT * FROM weather WHERE measurement='\"+meas+\"'\"\n",
    "    print Query\n",
    "    df1 = sqlContext.sql(Query)\n",
    "    data=df1.rdd.map(lambda row: unpackArray(row['vector'],np.float16))\n",
    "    #get basic statistics\n",
    "    STAT[meas]=computeOverAllDist(data)   # Compute the statistics \n",
    "\n",
    "    # compute covariance matrix\n",
    "    OUT=computeCov(data)\n",
    "\n",
    "    #find PCA decomposition\n",
    "    eigval,eigvec=LA.eig(OUT['Cov'])\n",
    "\n",
    "    # collect all of the statistics in STAT[meas]\n",
    "    STAT[meas]['eigval']=eigval\n",
    "    STAT[meas]['eigvec']=eigvec\n",
    "    STAT[meas].update(OUT)\n",
    "\n",
    "    print 'time for',meas,'is',time()-t"
   ]
  },
  {
   "cell_type": "code",
   "execution_count": 20,
   "metadata": {
    "run_control": {
     "frozen": false,
     "read_only": false
    },
    "slideshow": {
     "slide_type": "subslide"
    }
   },
   "outputs": [
    {
     "name": "stdout",
     "output_type": "stream",
     "text": [
      "total 441120\r\n",
      "-rw-r--r--    1 egouda  staff   2.1M Apr 29 14:50 stations.pkl.gz\r\n",
      "-rw-r--r--    1 egouda  staff   270B Apr 29 14:50 ghcnd-version.txt\r\n",
      "-rw-r--r--    1 egouda  staff   7.4M Apr 29 14:50 ghcnd-stations_buffered.txt\r\n",
      "-rw-r--r--    1 egouda  staff   8.0M Apr 29 14:50 ghcnd-stations.txt\r\n",
      "-rw-r--r--    1 egouda  staff    22K Apr 29 14:50 ghcnd-readme.txt\r\n",
      "drwxr-xr-x  404 egouda  staff    13K Apr 29 14:50 \u001b[34mdecon_BBBSBBBB_TOBS.parquet\u001b[m\u001b[m\r\n",
      "drwxr-xr-x  404 egouda  staff    13K Apr 29 14:50 \u001b[34mdecon_BBBSBBBB_SNWD.parquet\u001b[m\u001b[m\r\n",
      "drwxr-xr-x  404 egouda  staff    13K Apr 29 14:50 \u001b[34mdecon_BBBSBBBB.parquet\u001b[m\u001b[m\r\n",
      "-rw-r--r--    1 egouda  staff   218B Apr 29 14:50 data-source.txt\r\n",
      "drwxr-xr-x   10 egouda  staff   340B Apr 29 14:50 \u001b[34mUS_Weather_BBBSBBBB.parquet\u001b[m\u001b[m\r\n",
      "-rw-r--r--    1 egouda  staff    16M Apr 29 14:50 STAT_BBBSBBBB.pickle.gz\r\n",
      "-rw-r--r--    1 egouda  staff    78M Apr 29 15:05 STAT_BBBSBBBB.pickle\r\n",
      "-rw-r--r--    1 egouda  staff    13M May  8 22:02 US_Weather_BBBSBBBB.csv\r\n",
      "-rw-r--r--    1 egouda  staff    13M May  8 23:32 US_Weather_SBSSBSBB.csv\r\n",
      "drwxr-xr-x    9 egouda  staff   306B May  8 23:34 \u001b[34mUS_Weather_SBSSBSBB.parquet\u001b[m\u001b[m\r\n",
      "drwxr-xr-x  404 egouda  staff    13K May  8 23:49 \u001b[34mdecon_SBSSBSBB_PRCP.parquet\u001b[m\u001b[m\r\n",
      "drwxr-xr-x  404 egouda  staff    13K May  8 23:54 \u001b[34mdecon_SBSSBSBB_SNWD.parquet\u001b[m\u001b[m\r\n",
      "-rw-r--r--    1 egouda  staff    11K May  8 23:58 PRCP_residuals_PCA.pickle\r\n",
      "-rw-r--r--    1 egouda  staff    78M May  9 21:57 STAT_SBSSBSBB.pickle\r\n"
     ]
    }
   ],
   "source": [
    "from pickle import dump\n",
    "filename=data_dir+'/STAT_%s.pickle'%file_index\n",
    "dump((STAT,STAT_Descriptions),open(filename,'wb'))\n",
    "!ls -lrth $data_dir"
   ]
  },
  {
   "cell_type": "code",
   "execution_count": 17,
   "metadata": {},
   "outputs": [],
   "source": [
    "import pandas as pd"
   ]
  },
  {
   "cell_type": "code",
   "execution_count": 18,
   "metadata": {
    "collapsed": true
   },
   "outputs": [],
   "source": [
    "data_df_1=pd.DataFrame(STAT)"
   ]
  },
  {
   "cell_type": "code",
   "execution_count": 19,
   "metadata": {},
   "outputs": [
    {
     "data": {
      "text/html": [
       "<div>\n",
       "<table border=\"1\" class=\"dataframe\">\n",
       "  <thead>\n",
       "    <tr style=\"text-align: right;\">\n",
       "      <th></th>\n",
       "      <th>PRCP</th>\n",
       "      <th>SNOW</th>\n",
       "      <th>SNWD</th>\n",
       "      <th>TMAX</th>\n",
       "      <th>TMIN</th>\n",
       "      <th>TOBS</th>\n",
       "    </tr>\n",
       "  </thead>\n",
       "  <tbody>\n",
       "    <tr>\n",
       "      <th>Cov</th>\n",
       "      <td>[[1255.18704999, 180.216970881, 292.120831212,...</td>\n",
       "      <td>[[717.988099289, 37.8653805396, 12.3798448324,...</td>\n",
       "      <td>[[20284.5000357, 19630.4494596, 19463.3041104,...</td>\n",
       "      <td>[[2168.36994376, 1593.61014039, 1067.78015168,...</td>\n",
       "      <td>[[3815.00448132, 2186.87904021, 1365.37318824,...</td>\n",
       "      <td>[[3188.33736181, 1774.86109913, 1228.9956602, ...</td>\n",
       "    </tr>\n",
       "    <tr>\n",
       "      <th>E</th>\n",
       "      <td>[30271.0, 38085.0, 29351.0, 30899.0, 47258.0, ...</td>\n",
       "      <td>[14901.0, 21240.0, 12171.0, 13261.0, 20343.0, ...</td>\n",
       "      <td>[140689.0, 152046.0, 149857.0, 151133.0, 15756...</td>\n",
       "      <td>[5108.0, 5426.0, -1076.0, 3632.0, 7188.0, 7260...</td>\n",
       "      <td>[-256604.0, -252349.0, -262361.0, -253544.0, -...</td>\n",
       "      <td>[-85153.0, -89408.0, -91819.0, -85300.0, -8268...</td>\n",
       "    </tr>\n",
       "    <tr>\n",
       "      <th>Mean</th>\n",
       "      <td>[12.3858428805, 15.4754164974, 11.9264526615, ...</td>\n",
       "      <td>[9.39533417402, 13.4006309148, 7.69342604298, ...</td>\n",
       "      <td>[122.019947962, 130.736027515, 129.075796727, ...</td>\n",
       "      <td>[2.09515996719, 2.2237704918, -0.440802949611,...</td>\n",
       "      <td>[-106.784852268, -106.028991597, -108.77321724...</td>\n",
       "      <td>[-44.3967674661, -46.4940197608, -48.427742616...</td>\n",
       "    </tr>\n",
       "    <tr>\n",
       "      <th>NE</th>\n",
       "      <td>[2444.0, 2461.0, 2461.0, 2460.0, 2463.0, 2470....</td>\n",
       "      <td>[1586.0, 1585.0, 1582.0, 1580.0, 1585.0, 1587....</td>\n",
       "      <td>[1153.0, 1163.0, 1161.0, 1164.0, 1161.0, 1167....</td>\n",
       "      <td>[2438.0, 2440.0, 2441.0, 2417.0, 2439.0, 2447....</td>\n",
       "      <td>[2403.0, 2380.0, 2412.0, 2366.0, 2401.0, 2391....</td>\n",
       "      <td>[1918.0, 1923.0, 1896.0, 1906.0, 1922.0, 1922....</td>\n",
       "    </tr>\n",
       "    <tr>\n",
       "      <th>NO</th>\n",
       "      <td>[[2444.0, 2431.0, 2425.0, 2423.0, 2423.0, 2430...</td>\n",
       "      <td>[[1586.0, 1557.0, 1551.0, 1548.0, 1548.0, 1550...</td>\n",
       "      <td>[[1153.0, 1134.0, 1126.0, 1122.0, 1117.0, 1124...</td>\n",
       "      <td>[[2438.0, 2384.0, 2364.0, 2328.0, 2342.0, 2354...</td>\n",
       "      <td>[[2403.0, 2328.0, 2323.0, 2274.0, 2294.0, 2295...</td>\n",
       "      <td>[[1918.0, 1855.0, 1813.0, 1809.0, 1815.0, 1822...</td>\n",
       "    </tr>\n",
       "    <tr>\n",
       "      <th>O</th>\n",
       "      <td>[[3442609.0, 904072.0, 1066612.0, 1513910.0, 1...</td>\n",
       "      <td>[[1278729.0, 254988.0, 131311.0, 149820.0, 223...</td>\n",
       "      <td>[[40554893.0, 40350955.0, 39649980.0, 38896730...</td>\n",
       "      <td>[[5297188.0, 3810274.0, 2522049.0, 1779656.0, ...</td>\n",
       "      <td>[[36568876.0, 31449346.0, 30154178.0, 28513076...</td>\n",
       "      <td>[[9895749.0, 7121429.0, 6126183.0, 5160870.0, ...</td>\n",
       "    </tr>\n",
       "    <tr>\n",
       "      <th>SortedVals</th>\n",
       "      <td>[0.0, 0.0, 0.0, 0.0, 0.0, 0.0, 0.0, 0.0, 0.0, ...</td>\n",
       "      <td>[0.0, 0.0, 0.0, 0.0, 0.0, 0.0, 0.0, 0.0, 0.0, ...</td>\n",
       "      <td>[0.0, 0.0, 0.0, 0.0, 0.0, 0.0, 0.0, 0.0, 0.0, ...</td>\n",
       "      <td>[-106.0, -72.0, -67.0, -56.0, -44.0, -39.0, -1...</td>\n",
       "      <td>[-239.0, -211.0, -200.0, -183.0, -178.0, -172....</td>\n",
       "      <td>[-139.0, -122.0, -100.0, -89.0, -67.0, -56.0, ...</td>\n",
       "    </tr>\n",
       "    <tr>\n",
       "      <th>UnDef</th>\n",
       "      <td>[1, 0, 0, 0, 0, 0, 0, 0, 39, 1, 1, 1, 1, 0, 2,...</td>\n",
       "      <td>[1, 9, 0, 30, 31, 1, 30, 1, 0, 31, 1, 1, 2, 7]</td>\n",
       "      <td>[3, 25, 3, 29, 18, 0, 6, 1, 0, 4, 44, 0, 0, 26...</td>\n",
       "      <td>[4, 39, 4, 6, 0, 1, 4, 41, 2, 16, 3, 0, 0, 4, ...</td>\n",
       "      <td>[2, 3, 0, 12, 0, 4, 5, 8, 35, 0, 0, 5, 7, 3, 5...</td>\n",
       "      <td>[5, 31, 1, 1, 5, 32, 5, 4, 34, 39, 0, 38, 0, 4...</td>\n",
       "    </tr>\n",
       "    <tr>\n",
       "      <th>Var</th>\n",
       "      <td>[1255.18704999, 1597.70165083, 1211.65367246, ...</td>\n",
       "      <td>[717.988099289, 1146.60100907, 493.00778232, 6...</td>\n",
       "      <td>[20284.5000357, 21606.4006539, 20285.1294831, ...</td>\n",
       "      <td>[2168.36994376, 2453.46550054, 2571.80978944, ...</td>\n",
       "      <td>[3815.00448132, 4101.51638638, 4275.94649661, ...</td>\n",
       "      <td>[3188.33736181, 3084.9915139, 3178.28697296, 3...</td>\n",
       "    </tr>\n",
       "    <tr>\n",
       "      <th>eigval</th>\n",
       "      <td>[26620.487435, 14924.0987613, 12967.360107, 11...</td>\n",
       "      <td>[3258.50039568, 2332.71326161, 2085.05861248, ...</td>\n",
       "      <td>[2049400.84042, 257658.279576, 219215.327871, ...</td>\n",
       "      <td>[249783.500923, 40763.3386597, 32250.0127624, ...</td>\n",
       "      <td>[270547.314847, 33050.5969039, 24441.3598997, ...</td>\n",
       "      <td>[735681.763614, 44518.9530609, 29109.3100455, ...</td>\n",
       "    </tr>\n",
       "    <tr>\n",
       "      <th>eigvec</th>\n",
       "      <td>[[0.0477808740846, -0.00416890566794, -0.06908...</td>\n",
       "      <td>[[0.114171430466, 0.00991632912355, -0.0364347...</td>\n",
       "      <td>[[-0.0793295055025, 0.0486295766032, -0.067238...</td>\n",
       "      <td>[[-0.0245663578396, 0.0602271715338, -0.014056...</td>\n",
       "      <td>[[-0.0390426653724, 0.0179459178067, 0.0485549...</td>\n",
       "      <td>[[-0.0158975688733, -0.0836513521371, 0.030028...</td>\n",
       "    </tr>\n",
       "    <tr>\n",
       "      <th>high100</th>\n",
       "      <td>0</td>\n",
       "      <td>0</td>\n",
       "      <td>0</td>\n",
       "      <td>-106</td>\n",
       "      <td>-239</td>\n",
       "      <td>-139</td>\n",
       "    </tr>\n",
       "    <tr>\n",
       "      <th>high1000</th>\n",
       "      <td>0</td>\n",
       "      <td>0</td>\n",
       "      <td>0</td>\n",
       "      <td>-106</td>\n",
       "      <td>-239</td>\n",
       "      <td>-139</td>\n",
       "    </tr>\n",
       "    <tr>\n",
       "      <th>low100</th>\n",
       "      <td>0</td>\n",
       "      <td>0</td>\n",
       "      <td>0</td>\n",
       "      <td>-106</td>\n",
       "      <td>-239</td>\n",
       "      <td>-139</td>\n",
       "    </tr>\n",
       "    <tr>\n",
       "      <th>low1000</th>\n",
       "      <td>0</td>\n",
       "      <td>0</td>\n",
       "      <td>0</td>\n",
       "      <td>-106</td>\n",
       "      <td>-239</td>\n",
       "      <td>-139</td>\n",
       "    </tr>\n",
       "    <tr>\n",
       "      <th>mean</th>\n",
       "      <td>13.5016</td>\n",
       "      <td>3.55952</td>\n",
       "      <td>39.1914</td>\n",
       "      <td>148.843</td>\n",
       "      <td>1.59417</td>\n",
       "      <td>85.8173</td>\n",
       "    </tr>\n",
       "    <tr>\n",
       "      <th>std</th>\n",
       "      <td>40.5964</td>\n",
       "      <td>17.0551</td>\n",
       "      <td>108.088</td>\n",
       "      <td>115.89</td>\n",
       "      <td>89.9022</td>\n",
       "      <td>112.92</td>\n",
       "    </tr>\n",
       "  </tbody>\n",
       "</table>\n",
       "</div>"
      ],
      "text/plain": [
       "                                                         PRCP  \\\n",
       "Cov         [[1255.18704999, 180.216970881, 292.120831212,...   \n",
       "E           [30271.0, 38085.0, 29351.0, 30899.0, 47258.0, ...   \n",
       "Mean        [12.3858428805, 15.4754164974, 11.9264526615, ...   \n",
       "NE          [2444.0, 2461.0, 2461.0, 2460.0, 2463.0, 2470....   \n",
       "NO          [[2444.0, 2431.0, 2425.0, 2423.0, 2423.0, 2430...   \n",
       "O           [[3442609.0, 904072.0, 1066612.0, 1513910.0, 1...   \n",
       "SortedVals  [0.0, 0.0, 0.0, 0.0, 0.0, 0.0, 0.0, 0.0, 0.0, ...   \n",
       "UnDef       [1, 0, 0, 0, 0, 0, 0, 0, 39, 1, 1, 1, 1, 0, 2,...   \n",
       "Var         [1255.18704999, 1597.70165083, 1211.65367246, ...   \n",
       "eigval      [26620.487435, 14924.0987613, 12967.360107, 11...   \n",
       "eigvec      [[0.0477808740846, -0.00416890566794, -0.06908...   \n",
       "high100                                                     0   \n",
       "high1000                                                    0   \n",
       "low100                                                      0   \n",
       "low1000                                                     0   \n",
       "mean                                                  13.5016   \n",
       "std                                                   40.5964   \n",
       "\n",
       "                                                         SNOW  \\\n",
       "Cov         [[717.988099289, 37.8653805396, 12.3798448324,...   \n",
       "E           [14901.0, 21240.0, 12171.0, 13261.0, 20343.0, ...   \n",
       "Mean        [9.39533417402, 13.4006309148, 7.69342604298, ...   \n",
       "NE          [1586.0, 1585.0, 1582.0, 1580.0, 1585.0, 1587....   \n",
       "NO          [[1586.0, 1557.0, 1551.0, 1548.0, 1548.0, 1550...   \n",
       "O           [[1278729.0, 254988.0, 131311.0, 149820.0, 223...   \n",
       "SortedVals  [0.0, 0.0, 0.0, 0.0, 0.0, 0.0, 0.0, 0.0, 0.0, ...   \n",
       "UnDef          [1, 9, 0, 30, 31, 1, 30, 1, 0, 31, 1, 1, 2, 7]   \n",
       "Var         [717.988099289, 1146.60100907, 493.00778232, 6...   \n",
       "eigval      [3258.50039568, 2332.71326161, 2085.05861248, ...   \n",
       "eigvec      [[0.114171430466, 0.00991632912355, -0.0364347...   \n",
       "high100                                                     0   \n",
       "high1000                                                    0   \n",
       "low100                                                      0   \n",
       "low1000                                                     0   \n",
       "mean                                                  3.55952   \n",
       "std                                                   17.0551   \n",
       "\n",
       "                                                         SNWD  \\\n",
       "Cov         [[20284.5000357, 19630.4494596, 19463.3041104,...   \n",
       "E           [140689.0, 152046.0, 149857.0, 151133.0, 15756...   \n",
       "Mean        [122.019947962, 130.736027515, 129.075796727, ...   \n",
       "NE          [1153.0, 1163.0, 1161.0, 1164.0, 1161.0, 1167....   \n",
       "NO          [[1153.0, 1134.0, 1126.0, 1122.0, 1117.0, 1124...   \n",
       "O           [[40554893.0, 40350955.0, 39649980.0, 38896730...   \n",
       "SortedVals  [0.0, 0.0, 0.0, 0.0, 0.0, 0.0, 0.0, 0.0, 0.0, ...   \n",
       "UnDef       [3, 25, 3, 29, 18, 0, 6, 1, 0, 4, 44, 0, 0, 26...   \n",
       "Var         [20284.5000357, 21606.4006539, 20285.1294831, ...   \n",
       "eigval      [2049400.84042, 257658.279576, 219215.327871, ...   \n",
       "eigvec      [[-0.0793295055025, 0.0486295766032, -0.067238...   \n",
       "high100                                                     0   \n",
       "high1000                                                    0   \n",
       "low100                                                      0   \n",
       "low1000                                                     0   \n",
       "mean                                                  39.1914   \n",
       "std                                                   108.088   \n",
       "\n",
       "                                                         TMAX  \\\n",
       "Cov         [[2168.36994376, 1593.61014039, 1067.78015168,...   \n",
       "E           [5108.0, 5426.0, -1076.0, 3632.0, 7188.0, 7260...   \n",
       "Mean        [2.09515996719, 2.2237704918, -0.440802949611,...   \n",
       "NE          [2438.0, 2440.0, 2441.0, 2417.0, 2439.0, 2447....   \n",
       "NO          [[2438.0, 2384.0, 2364.0, 2328.0, 2342.0, 2354...   \n",
       "O           [[5297188.0, 3810274.0, 2522049.0, 1779656.0, ...   \n",
       "SortedVals  [-106.0, -72.0, -67.0, -56.0, -44.0, -39.0, -1...   \n",
       "UnDef       [4, 39, 4, 6, 0, 1, 4, 41, 2, 16, 3, 0, 0, 4, ...   \n",
       "Var         [2168.36994376, 2453.46550054, 2571.80978944, ...   \n",
       "eigval      [249783.500923, 40763.3386597, 32250.0127624, ...   \n",
       "eigvec      [[-0.0245663578396, 0.0602271715338, -0.014056...   \n",
       "high100                                                  -106   \n",
       "high1000                                                 -106   \n",
       "low100                                                   -106   \n",
       "low1000                                                  -106   \n",
       "mean                                                  148.843   \n",
       "std                                                    115.89   \n",
       "\n",
       "                                                         TMIN  \\\n",
       "Cov         [[3815.00448132, 2186.87904021, 1365.37318824,...   \n",
       "E           [-256604.0, -252349.0, -262361.0, -253544.0, -...   \n",
       "Mean        [-106.784852268, -106.028991597, -108.77321724...   \n",
       "NE          [2403.0, 2380.0, 2412.0, 2366.0, 2401.0, 2391....   \n",
       "NO          [[2403.0, 2328.0, 2323.0, 2274.0, 2294.0, 2295...   \n",
       "O           [[36568876.0, 31449346.0, 30154178.0, 28513076...   \n",
       "SortedVals  [-239.0, -211.0, -200.0, -183.0, -178.0, -172....   \n",
       "UnDef       [2, 3, 0, 12, 0, 4, 5, 8, 35, 0, 0, 5, 7, 3, 5...   \n",
       "Var         [3815.00448132, 4101.51638638, 4275.94649661, ...   \n",
       "eigval      [270547.314847, 33050.5969039, 24441.3598997, ...   \n",
       "eigvec      [[-0.0390426653724, 0.0179459178067, 0.0485549...   \n",
       "high100                                                  -239   \n",
       "high1000                                                 -239   \n",
       "low100                                                   -239   \n",
       "low1000                                                  -239   \n",
       "mean                                                  1.59417   \n",
       "std                                                   89.9022   \n",
       "\n",
       "                                                         TOBS  \n",
       "Cov         [[3188.33736181, 1774.86109913, 1228.9956602, ...  \n",
       "E           [-85153.0, -89408.0, -91819.0, -85300.0, -8268...  \n",
       "Mean        [-44.3967674661, -46.4940197608, -48.427742616...  \n",
       "NE          [1918.0, 1923.0, 1896.0, 1906.0, 1922.0, 1922....  \n",
       "NO          [[1918.0, 1855.0, 1813.0, 1809.0, 1815.0, 1822...  \n",
       "O           [[9895749.0, 7121429.0, 6126183.0, 5160870.0, ...  \n",
       "SortedVals  [-139.0, -122.0, -100.0, -89.0, -67.0, -56.0, ...  \n",
       "UnDef       [5, 31, 1, 1, 5, 32, 5, 4, 34, 39, 0, 38, 0, 4...  \n",
       "Var         [3188.33736181, 3084.9915139, 3178.28697296, 3...  \n",
       "eigval      [735681.763614, 44518.9530609, 29109.3100455, ...  \n",
       "eigvec      [[-0.0158975688733, -0.0836513521371, 0.030028...  \n",
       "high100                                                  -139  \n",
       "high1000                                                 -139  \n",
       "low100                                                   -139  \n",
       "low1000                                                  -139  \n",
       "mean                                                  85.8173  \n",
       "std                                                    112.92  "
      ]
     },
     "execution_count": 19,
     "metadata": {},
     "output_type": "execute_result"
    }
   ],
   "source": [
    "data_df_1"
   ]
  },
  {
   "cell_type": "code",
   "execution_count": null,
   "metadata": {
    "collapsed": true
   },
   "outputs": [],
   "source": []
  }
 ],
 "metadata": {
  "anaconda-cloud": {},
  "celltoolbar": "Slideshow",
  "kernelspec": {
   "display_name": "Python 2",
   "language": "python",
   "name": "python2"
  },
  "language_info": {
   "codemirror_mode": {
    "name": "ipython",
    "version": 2
   },
   "file_extension": ".py",
   "mimetype": "text/x-python",
   "name": "python",
   "nbconvert_exporter": "python",
   "pygments_lexer": "ipython2",
   "version": "2.7.13"
  },
  "latex_envs": {
   "LaTeX_envs_menu_present": true,
   "autocomplete": true,
   "bibliofile": "biblio.bib",
   "cite_by": "apalike",
   "current_citInitial": 1,
   "eqLabelWithNumbers": true,
   "eqNumInitial": 1,
   "hotkeys": {
    "equation": "Ctrl-E",
    "itemize": "Ctrl-I"
   },
   "labels_anchors": false,
   "latex_user_defs": false,
   "report_style_numbering": false,
   "user_envs_cfg": false
  },
  "name": "PCA_using_numpy for HW3",
  "notebookId": 85286,
  "toc": {
   "colors": {
    "hover_highlight": "#DAA520",
    "running_highlight": "#FF0000",
    "selected_highlight": "#FFD700"
   },
   "moveMenuLeft": true,
   "nav_menu": {
    "height": "245px",
    "width": "252px"
   },
   "navigate_menu": true,
   "number_sections": true,
   "sideBar": true,
   "threshold": 4,
   "toc_cell": false,
   "toc_section_display": "block",
   "toc_window_display": false
  }
 },
 "nbformat": 4,
 "nbformat_minor": 2
}
