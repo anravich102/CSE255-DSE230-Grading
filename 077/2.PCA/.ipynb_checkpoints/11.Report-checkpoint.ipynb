{
 "cells": [
  {
   "cell_type": "code",
   "execution_count": 2,
   "metadata": {
    "run_control": {
     "frozen": false,
     "read_only": false
    },
    "scrolled": false
   },
   "outputs": [
    {
     "name": "stdout",
     "output_type": "stream",
     "text": [
      "![0_Region.png](Figures_new/0_Region.png)\n",
      "![10_eigen_vec_snow_snwd.png](Figures_new/10_eigen_vec_snow_snwd.png)\n",
      "![11_var_exp_temp.png](Figures_new/11_var_exp_temp.png)\n",
      "![12_var_exp_snow_snwd_prcp.png](Figures_new/12_var_exp_snow_snwd_prcp.png)\n",
      "![1_PRCP.png](Figures_new/1_PRCP.png)\n",
      "![2_Valid_counts_Tmin_Tmax.png](Figures_new/2_Valid_counts_Tmin_Tmax.png)\n",
      "![3_Valid_counts_Tobs_PRCP.png](Figures_new/3_Valid_counts_Tobs_PRCP.png)\n",
      "![4_Valid_counts_snow_SNWD.png](Figures_new/4_Valid_counts_snow_SNWD.png)\n",
      "![5_mean_tmin_tmax.png](Figures_new/5_mean_tmin_tmax.png)\n",
      "![6_mean_Tobs_prcp1.png](Figures_new/6_mean_Tobs_prcp1.png)\n",
      "![6_mean_Tobs_prcp.png](Figures_new/6_mean_Tobs_prcp.png)\n",
      "![7_mean_snow_snwd.png](Figures_new/7_mean_snow_snwd.png)\n",
      "![7_mean_snwd .png](Figures_new/7_mean_snwd .png)\n",
      "![8_Eigen_vec_tmin_tmax.png](Figures_new/8_Eigen_vec_tmin_tmax.png)\n",
      "![9_eigen_vec_tobs_prcp.png](Figures_new/9_eigen_vec_tobs_prcp.png)\n",
      "![coeff_1a.png](Figures_new/coeff_1a.png)\n",
      "![coeff_1b.png](Figures_new/coeff_1b.png)\n",
      "![coeff_1_cdf.png](Figures_new/coeff_1_cdf.png)\n",
      "![coeff_2a.png](Figures_new/coeff_2a.png)\n",
      "![coeff_2b.png](Figures_new/coeff_2b.png)\n",
      "![coeff_2_cdf.png](Figures_new/coeff_2_cdf.png)\n",
      "![coeff_3a.png](Figures_new/coeff_3a.png)\n",
      "![coeff_3b.png](Figures_new/coeff_3b.png)\n",
      "![coeff_3_cdf.png](Figures_new/coeff_3_cdf.png)\n",
      "![elevation_coeff1.png](Figures_new/elevation_coeff1.png)\n",
      "![G.png](Figures_new/G.png)\n",
      "![p-val_PRCPa.png](Figures_new/p-val_PRCPa.png)\n",
      "![p-val_PRCP.png](Figures_new/p-val_PRCP.png)\n",
      "![res1.png](Figures_new/res1.png)\n",
      "![res2.png](Figures_new/res2.png)\n",
      "![res3.png](Figures_new/res3.png)\n",
      "![sanity_celcius.png](Figures_new/sanity_celcius.png)\n",
      "![sanity.png](Figures_new/sanity.png)\n",
      "![significance.png](Figures_new/significance.png)\n",
      "![snwd_mean_eig.png](Figures_new/snwd_mean_eig.png)\n",
      "![tobs_coeff1a.png](Figures_new/tobs_coeff1a.png)\n",
      "![tobs_coeff1b.png](Figures_new/tobs_coeff1b.png)\n",
      "![tobs_coeff1.png](Figures_new/tobs_coeff1.png)\n",
      "![tobs_coeff2a.png](Figures_new/tobs_coeff2a.png)\n",
      "![tobs_coeff2b.png](Figures_new/tobs_coeff2b.png)\n",
      "![tobs_coeff2.png](Figures_new/tobs_coeff2.png)\n",
      "![tobs_coeff3a.png](Figures_new/tobs_coeff3a.png)\n",
      "![tobs_coeff3b.png](Figures_new/tobs_coeff3b.png)\n",
      "![tobs_coeff3.png](Figures_new/tobs_coeff3.png)\n",
      "![tobs_elevation.png](Figures_new/tobs_elevation.png)\n",
      "![tobs_geo.png](Figures_new/tobs_geo.png)\n",
      "![tobs_mean_ev.png](Figures_new/tobs_mean_ev.png)\n",
      "![tobs_p1.png](Figures_new/tobs_p1.png)\n",
      "![tobs_p.png](Figures_new/tobs_p.png)\n",
      "![tobs_pvalue.png](Figures_new/tobs_pvalue.png)\n",
      "![tobs_res1.png](Figures_new/tobs_res1.png)\n",
      "![tobs_res2.png](Figures_new/tobs_res2.png)\n",
      "![tobs_res3.png](Figures_new/tobs_res3.png)\n",
      "![tobs_significance.png](Figures_new/tobs_significance.png)\n",
      "![var_tobs.png](Figures_new/var_tobs.png)\n"
     ]
    }
   ],
   "source": [
    "L=!ls Figures_new/\n",
    "for l in L:\n",
    "    print \"![%s](Figures_new/%s)\"%(l,l)"
   ]
  },
  {
   "cell_type": "code",
   "execution_count": null,
   "metadata": {
    "collapsed": true,
    "run_control": {
     "frozen": false,
     "read_only": false
    }
   },
   "outputs": [],
   "source": []
  },
  {
   "cell_type": "markdown",
   "metadata": {
    "run_control": {
     "frozen": false,
     "read_only": false
    }
   },
   "source": [
    "# Weather Analysis of the region around Yosemite National Park (California-Nevada border)\n",
    "\n",
    "This is a report on the historical analysis of weather patterns in an area around Yosemite National Park (California-Nevada border). The region has been marked by rectangle in the figure given below.\n",
    "\n",
    "<p>&nbsp;</p>\n",
    "\n",
    "<p><img alt=\"0_Region.png\" src=\"Figures_new/0_Region.png\" style=\"height:300px; width:800px\" /></p>\n",
    "\n",
    "\n",
    "The data we will use here comes from [NOAA](https://www.ncdc.noaa.gov/). Specifically, it was downloaded from This [FTP site](ftp://ftp.ncdc.noaa.gov/pub/data/ghcn/daily/).\n",
    "\n",
    "We focused on six measurements:\n",
    "* **TMIN, TMAX:** the daily minimum and maximum temperature.\n",
    "* **TOBS:** The average temperature for each day.\n",
    "* **PRCP:** Daily Percipitation (in mm)\n",
    "* **SNOW:** Daily snowfall (in mm)\n",
    "* **SNWD:** The depth of accumulated snow.\n",
    "\n",
    "## Sanity-check: comparison with outside sources\n",
    "\n",
    "<p>We start by comparing some of the general statistics with graphs that we obtained from a site called <a href=\"http://www.usclimatedata.com/climate/yosemite-natl-park/california/united-states/usca1269\" target=\"_blank\">US Climate Data</a>. The graph below shows the daily minimum and maximum temperatures (fahrenheit) for each month, as well as the total precipitation (inches) for each month.</p>\n",
    "\n",
    "<p>&nbsp;</p>\n",
    "\n",
    "<p><img alt=\"sanity.png\" src=\"Figures_new/sanity.png\" /></p>\n",
    "<p> If we convert fahrenheit to celsius (for temperature) and inches to millimeters (for PRCP), then we get the following graph.</p>  \n",
    "<p>&nbsp;</p>\n",
    "\n",
    "<p><img alt=\"sanity_celcius.png\" src=\"Figures_new/sanity_celcius.png\" /></p>\n",
    "\n",
    "<p>&nbsp;</p>\n",
    "\n",
    "<p>We see that the min and max daily&nbsp;temperature agree with the ones we got from our data, i.e. the temperature first increases till July and August and then starts decreasing.</p>\n",
    "\n",
    "<p>&nbsp;</p>\n",
    "\n",
    "<p><img alt=\"5_mean_tmin_tmax.png.png\" src=\"Figures_new/5_mean_tmin_tmax.png\" style=\"height:300px; width:800px\" /></p>\n",
    "\n",
    "<p>The graph provided by the US Climate data gives us the information related to precipitation as well. We noticed that the precipitaion first decreases, reacheas minimum in August and then starts increasing. The data provided to us also follows the same trend which is given in the below figure.</p>\n",
    "\n",
    "<p>&nbsp;<img alt=\"6_mean_Tobs_prcp.png\" src=\"Figures_new/6_mean_Tobs_prcp.png\" style=\"height:400px; width:400px\" /></p>\n"
   ]
  },
  {
   "cell_type": "markdown",
   "metadata": {
    "run_control": {
     "frozen": false,
     "read_only": false
    }
   },
   "source": [
    "## PCA analysis\n",
    "\n",
    "For each of the six measurement, we compute the percentate of the variance explained as a function of the number of eigen-vectors used.\n",
    "\n",
    "### Percentage of variance explained.\n",
    "![11_var_exp_temp.png](Figures_new/11_var_exp_temp.png)\n",
    "We see that the top 5 eigen-vectors explain **65% of variance for TMIN, 70% for TOBS and 57% for TMAX**. This means that these top 5 eigenvectors capture most of the variation in the temperature signals.\n",
    "\n",
    "We conclude that of the three, TOBS is best explained by the top 5 eigenvectors. This is especially true for the first eigen-vector which, by itself, explains 60% of the variance. \n",
    "\n",
    "![12_var_exp_snow_snwd_prcp.png](Figures_new/12_var_exp_snow_snwd_prcp.png)\n",
    "\n",
    "The top 5 eigenvectors explain 15% of the variance for PRCP and 14% for SNOW. Both are low values. On the other hand the top 5 eigenvectors explain **85%** of the variance for SNWD. This means that these top 5 eigenvectors capture most of the variation in the snow signals. Based on that we will dig deeper into the PCA analysis for snow-depth.\n",
    "\n",
    "It makes sense that SNWD would be less noisy than SNOW. That is because SNWD is a decaying integral of SNOW and, as such, varies less between days and between the same date on diffferent years."
   ]
  },
  {
   "cell_type": "markdown",
   "metadata": {
    "run_control": {
     "frozen": false,
     "read_only": false
    }
   },
   "source": [
    "## Analysis of snow depth\n",
    "\n",
    "We choose to analyze the eigen-decomposition for snow-depth because the first 4 eigen-vectors explain **80% of the variance.**\n",
    "\n",
    "First, we graph the mean and the top 4 eigen-vectors.\n",
    "\n",
    "We observe that the snow season is from mid-November to the end of April, where the middle of February marks the peak of the snow-depth.\n",
    "![snwd_mean_eig.png](Figures_new/snwd_mean_eig.png)"
   ]
  },
  {
   "cell_type": "markdown",
   "metadata": {
    "run_control": {
     "frozen": false,
     "read_only": false
    }
   },
   "source": [
    "Next we interpret the eigen-functions. The first eigen-function (eig1) has a shape very similar (in the negative direction) to the mean function. If we multiply the eigen vector 1 with a negative value then we will get a similar shape as that of the mean function.  The interpretation of this shape is that eig1 represents the overall amount of snow above/below the mean, but without changing the distribution over time.\n",
    "\n",
    "**eig2,eig3 and eig4** are similar in the following way. They all oscilate between positive and negative values. In other words, they correspond to changing the distribution of the snow depth over the winter months, but they don't change the total (much).\n",
    "\n",
    "They can be interpreted as follows:\n",
    "* **eig2:** more snow in jan - feb, less snow in march-april.\n",
    "* **eig3:** less snow in jan, more snow in feb, less snow in march-april.\n",
    "* **eig4:** less snow in dec, more snow in jan-march, less snow in april.\n"
   ]
  },
  {
   "cell_type": "markdown",
   "metadata": {
    "run_control": {
     "frozen": false,
     "read_only": false
    }
   },
   "source": [
    "### Examples of reconstructions\n",
    "\n",
    "#### Coeff1\n",
    "Coeff1: very large negative values (less than -10,000). Smallest value for coeff_1 was -12268.765203613644.\n",
    "![coeff_1a.png](Figures_new/coeff_1a.png)\n",
    "Coeff1: less negative values (around -2000). Highest value for coeff_1 was -1492.4545490943326.\n",
    "![coeff_1b.png](Figures_new/coeff_1b.png)\n",
    "Large negative values of coeff1 correspond to more snow depth (peak SNWD value around 1500mm). Less negative values correspond to less snow depth (peak SNWD value around 1000mm).\n",
    "\n",
    "#### Coeff2\n",
    "Coeff2: most negative\n",
    "![coeff_2a.png](Figures_new/coeff_2a.png)\n",
    "Coeff2: most positive\n",
    "![coeff_2b.png](Figures_new/coeff_2b.png)\n",
    "\n",
    "Large negative values of coeff2 correspond to a late snow season (most of the snowfall is after mid feb). Positive values for coeff2 correspond to an early snow season (most of the snow is before mid-feb).\n",
    "#### Coeff3\n",
    "Coeff3: most negative\n",
    "![coeff_3a.png](Figures_new/coeff_3a.png)\n",
    "Coeff3: most positive\n",
    "![coeff_3b.png](Figures_new/coeff_3b.png)\n",
    "\n",
    "Large negative values of coeff3 correspond to a snow season with two spikes: one in the start of january, the other at the end of march. Positive values of coeff3 correspond to a season with a single peak at the end of February.\n",
    "\n",
    "\n",
    "### Effect of elevation\n",
    "![elevation_coeff1.png](Figures_new/elevation_coeff1.png)\n",
    "From the above figure, we can say that as the elevation increases the average value of coeff1 decreases which in turn increases the snow depth. This makes sense because as the altitude increases, the probability of snowfall also increases and hence the snow depth also increases.\n"
   ]
  },
  {
   "cell_type": "markdown",
   "metadata": {
    "run_control": {
     "frozen": false,
     "read_only": false
    }
   },
   "source": []
  },
  {
   "cell_type": "markdown",
   "metadata": {
    "run_control": {
     "frozen": false,
     "read_only": false
    }
   },
   "source": [
    "### Geographical distribution of first 4 coefficients. \n",
    "The geographical distribution of first 4 coefficients is show in the figure below.\n",
    "![G.png](Figures_new/G.png)"
   ]
  },
  {
   "cell_type": "markdown",
   "metadata": {
    "collapsed": true,
    "run_control": {
     "frozen": false,
     "read_only": false
    }
   },
   "source": [
    "## The variation in the timing of snow is mostly due to year-to-year variation\n",
    "In the previous section we see the variation of Coeff1, which corresponds to the total amount of snow, with respect to location. We now estimate the relative importance of location-to-location variation relative to year-by-year variation.\n",
    "\n",
    "These are measured using the fraction by which the variance is reduced when we subtract from each station/year entry the average-per-year or the average-per-station respectively. Here are the results:\n",
    "\n",
    "** coeff_1 **  \n",
    "total MS                   = 11289133.9245\n",
    "\n",
    "MS removing mean-by-station= 3536527.60776, fraction explained=68.67  \n",
    "\n",
    "MS removing mean-by-year   = 6277212.17392, fraction explained=44.39 \n",
    "\n",
    "** coeff_2 **  \n",
    "total MS                   = 1511743.16833  \n",
    "\n",
    "MS removing mean-by-station= 1188617.63333, fraction explained= 21.37 \n",
    "\n",
    "MS removing mean-by-year   = 738384.660757, fraction explained=51.16 \n",
    "\n",
    "** coeff_3 **  \n",
    "total MS                   = 1106973.62227\n",
    "\n",
    "MS removing mean-by-station= 1038254.48275, fraction explained= 6.21\n",
    "\n",
    "MS removing mean-by-year   = 482709.304796, fraction explained=56.39 \n",
    "\n",
    "We see that the variation by year explains more than the variation by station (except coeff_1). However this effect is false while considering coeff_1, which has to do with the total snowfall, vs. coeff_2,3 which, as we saw above have to do with the timining of snowfall. We see that for coeff_2,3 the stations explain 6-21% of the variance while the year explaines 50-60%."
   ]
  },
  {
   "cell_type": "markdown",
   "metadata": {
    "run_control": {
     "frozen": false,
     "read_only": false
    }
   },
   "source": [
    "## Analysis of correlation between precipitation across locations\n",
    "\n",
    "#### Hypothesis:\n",
    "Since we are considering stations in a small area, we can make a hypothsis that these stations must be correlated as far as rainfall is considered. This is because if it rains in a particular region, then the probability of raining in the nearby region also increases.\n",
    "\n",
    "\n",
    "#### Null Hypothesis\n",
    "Null hypothesis is basically opposite to the hypothesis which we made above. According to it the rainfall in the two locations is independent.\n",
    "\n",
    "### P-value\n",
    "In order to find the correlation between two stations, we will ignore the amount of rain. We will consider the following question: Whether it rained in both locations or not? We then compute the probability (p-value) associated with the number of overlaps under the null hypothesis.\n",
    "The significance of the p-value is the probability of seeing the result given by the data under the null hypothesis. So a low p-value means that it is unlikely to see such results under the null hypothesis. The usual conclusion that we can make is that if data is extremely unlikely under the null hypothesis, then the null hypothesis is wrong for that dataset.\n",
    "The histogram of all P_norm values obtained between every pair of two stations is given in the figure below.\n",
    "![significance.png](Figures_new/significance.png)\n",
    "\n",
    "From the above figure we see that almost all of the p-values are below 0.5 which suggests that the null hypothesis is wrong for the dataset. Hence, we can say that the two locations are dependent as far as rainfall is considered.\n",
    "\n",
    "In matrix form, the p-values are shown below. The rows and columns correspond to the station numbers. The value at (i,j) index is the p-norm value for the stations i and j.\n",
    "![p-val_PRCPa.png](Figures_new/p-val_PRCPa.png)\n",
    "\n",
    "If we reorder the rows and columns of the matrix using one of the eigenvectors, then the grouping of the stations become more evident (see the figure below).\n",
    "![p-val_PRCP.png](Figures_new/p-val_PRCP.png)\n",
    "\n",
    "From the figures shown above, we can say that the initial 10-15 stations are highly correlated with each other. If the color of the cell is bluish, then it means that the stations are more correlated with each other. On the other hand, if the cell is yellowish in color, then it indicated that the stations are somewhat less correlated.\n"
   ]
  },
  {
   "cell_type": "markdown",
   "metadata": {
    "run_control": {
     "frozen": false,
     "read_only": false
    }
   },
   "source": [
    "## Analysis of TOBS (observed temperature)\n",
    "\n",
    "We choose to analyze the eigen-decomposition for TOBS because the first 5 eigen-vectors explain **70% of the variance**. See the figure given below.\n",
    "![var_tobs.png](Figures_new/var_tobs.png)\n",
    "First, we graph the mean and the top 3 eigen-vectors.\n",
    "![tobs_mean_ev.png](Figures_new/tobs_mean_ev.png)\n",
    "We observe that the observed temperature first increases, reaches its peak value around August and then starts decreasing.\n",
    "\n",
    "Next we interpret the eigen-functions. The first eigen-function (eig1) is almost constant throughout the year. It's value is mostly around 0.05 (slightly more than 0.05 during mid year and slightly less than 0.05 during the start and end of the year). The interpretation of this shape is that eig1 either shifts the mean upwards or downwards depending on the sign of the coefficient 1.\n",
    "\n",
    "**eig2 and eig3** are similar in the following way. They both oscilate between positive and negative values. In other words, they correspond to changing the distribution of the observed temperature across year, but they don't change the total (much).\n",
    "\n",
    "They can be interpreted as follows:\n",
    "* **eig2:** more temperature in the starting and end of the year, less temperature during mid year (July-August).\n",
    "* **eig3:** less temperature during the first half of the year, more temperature during the second half of the year. It also introduces peaks and dips in the reconstructed signal, thus helps in achieving the shape as close to the target as possible. \n",
    "\n",
    "\n",
    "### Examples of reconstructions\n",
    "\n",
    "#### Coeff1\n",
    "Coeff1: most negative\n",
    "![tobs_coeff1a.png](Figures_new/tobs_coeff1a.png)\n",
    "Coeff1: most positive\n",
    "![tobs_coeff1b.png](Figures_new/tobs_coeff1b.png)\n",
    "Large positive values of coeff1 correspond to more than average observed temperature. Low values correspond to less than average observed temperature.\n",
    "\n",
    "#### Coeff2\n",
    "Coeff2: most negative\n",
    "![tobs_coeff2a.png](Figures_new/tobs_coeff2a.png)\n",
    "Coeff2: most positive\n",
    "![tobs_coeff2b.png](Figures_new/tobs_coeff2b.png)\n",
    "\n",
    "Negative values of coeff2 corresponds to those targets which have comparitively less variation in the observed temperature. Whereas positive values of coeff2 corresponds to those targets which have comparitively more variation in TOBS. Also, such targets have many undefined values.\n",
    "\n",
    "#### Coeff3\n",
    "Coeff3: most negative\n",
    "![tobs_coeff3a.png](Figures_new/tobs_coeff2a.png)\n",
    "Coeff3: most positive\n",
    "![tobs_coeff3b.png](Figures_new/tobs_coeff2b.png)\n",
    "\n",
    "Negative values of coeff3 corresponds to those targets which have comparitively less variation in the observed temperature. Whereas positive values of coeff3 corresponds to those targets which have comparitively more variation in TOBS.\n",
    "\n",
    "### Effect of elevation\n",
    "![tobs_elevation.png](Figures_new/tobs_elevation.png)\n",
    "From the above figure, we can say that as the elevation increases the average value of coeff1 decreases which in turn reduces the obsereved temperature. This makes sense because at higher altitudes the temperature has lower values.\n",
    "\n",
    "### Geographical distribution of first 4 coefficients. \n",
    "The geographical distribution of first 4 coefficients is show in the figure below.\n",
    "![tobs_geo.png](Figures_new/tobs_geo.png)\n",
    "\n",
    "## The variation in the observed temperature is mostly due to station-to-station variation\n",
    "In the previous section we see the variation of Coeff1, which corresponds to: \n",
    "(a) more than average observed temperature for positive values, with respect to location. \n",
    "(b) less than average observed temperature for negative values, with respect to location. \n",
    "We now estimate the relative importance of location-to-location variation relative to year-by-year variation.\n",
    "\n",
    "These are measured using the fraction by which the variance is reduced when we subtract from each station/year entry the average-per-year or the average-per-station respectively. Here are the results:\n",
    "\n",
    "** coeff_1 **  \n",
    "total MS                   = 761284.654794\n",
    "\n",
    "MS removing mean-by-station= 241227.886115, fraction explained=68.31  \n",
    "\n",
    "MS removing mean-by-year   = 654271.836631, fraction explained=14.05 \n",
    "\n",
    "** coeff_2 **  \n",
    "total MS                   = 89811.1355475  \n",
    "\n",
    "MS removing mean-by-station= 28863.1091492, fraction explained= 67.86\n",
    "\n",
    "MS removing mean-by-year   = 71724.77283, fraction explained=20.13\n",
    "\n",
    "** coeff_3 **  \n",
    "total MS                   = 39476.959314\n",
    "\n",
    "MS removing mean-by-station= 30501.4108092, fraction explained= 22.73\n",
    "\n",
    "MS removing mean-by-year   = 22589.8638995, fraction explained=42.77\n",
    "\n",
    "We see that the variation by station explains more than the variation by year. This effect holds true while considering coeff1 (which has to do with the average observed temperature) and coeff_2. However this effect is false while considering coeff_3, which has to do with the peaks and dips in obsereved temperature. We see that for coeff_1,2 the stations explain 60-70% of the variance while the year explaines 14-20%.\n",
    "\n",
    "## Analysis of correlation between observed temperature across locations\n",
    "\n",
    "#### Hypothesis:\n",
    "Since we are considering stations in a small area, we can make a hypothsis that these stations must be correlated as far as observed temperature is considered. This is because the regions which are close to each other generally have similar temperatures.\n",
    "\n",
    "\n",
    "#### Null Hypothesis\n",
    "Null hypothesis is basically opposite to the hypothesis which we made above. According to it the observed temperature in the two locations is independent.\n",
    "\n",
    "### P-value\n",
    "In order to find the correlation between two stations, we will consider the following question: Whether the observed temperature in both locations is similar or not? We then compute the probability (p-value) associated with the number of overlaps under the null hypothesis.\n",
    "The significance of the p-value is the probability of seeing the result given by the data under the null hypothesis. So a low p-value means that it is unlikely to see such results under the null hypothesis. The usual conclusion that we can make is that if data is extremely unlikely under the null hypothesis, then the null hypothesis is wrong for that dataset.\n",
    "The histogram of all P_norm values obtained between every pair of two stations is given in the figure below.\n",
    "![tobs_significance.png](Figures_new/tobs_significance.png)\n",
    "\n",
    "From the above figure we see that mostly the p-values are below 0.5 which suggests that the null hypothesis is wrong for the dataset. Hence, we can say that the two locations are dependent as far as observed temperature is considered.\n",
    "\n",
    "In matrix form, the p-values are shown below. The rows and columns correspond to the station numbers. The value at (i,j) index is the p-norm value for the stations i and j.\n",
    "![tobs_p.png](Figures_new/tobs_p.png)\n",
    "\n",
    "If we reorder the rows and columns of the matrix using one of the eigenvectors, then the grouping of the stations become more evident (see the figure below).\n",
    "![tobs_p1.png](Figures_new/tobs_p1.png)\n",
    "\n",
    "From the figures shown above, we can say that the initial 5-10 stations are highly correlated with each other. If the color of the cell is bluish, then it means that the stations are more correlated with each other. On the other hand, if the cell is yellowish in color, then it indicates that the stations are somewhat less correlated. \n",
    "We observe that some of the nearby stations are less correlated with each other. A possible explanation for this is that Yosemite national park has many hills. So a station which is on top of a hill will have less observed temperature than the station which is at the bottom of the hill. Thus, despite being close to each other, both of them will vary as far as observed temperature is considered. "
   ]
  },
  {
   "cell_type": "code",
   "execution_count": null,
   "metadata": {
    "collapsed": true
   },
   "outputs": [],
   "source": []
  }
 ],
 "metadata": {
  "anaconda-cloud": {},
  "kernelspec": {
   "display_name": "Python 2",
   "language": "python",
   "name": "python2"
  },
  "language_info": {
   "codemirror_mode": {
    "name": "ipython",
    "version": 2
   },
   "file_extension": ".py",
   "mimetype": "text/x-python",
   "name": "python",
   "nbconvert_exporter": "python",
   "pygments_lexer": "ipython2",
   "version": "2.7.13"
  },
  "toc": {
   "colors": {
    "hover_highlight": "#DAA520",
    "running_highlight": "#FF0000",
    "selected_highlight": "#FFD700"
   },
   "moveMenuLeft": true,
   "nav_menu": {
    "height": "12px",
    "width": "252px"
   },
   "navigate_menu": true,
   "number_sections": true,
   "sideBar": true,
   "threshold": 4,
   "toc_cell": false,
   "toc_section_display": "block",
   "toc_window_display": false
  }
 },
 "nbformat": 4,
 "nbformat_minor": 2
}
