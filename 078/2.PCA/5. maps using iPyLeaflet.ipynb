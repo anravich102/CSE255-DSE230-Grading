{
 "cells": [
  {
   "cell_type": "markdown",
   "metadata": {
    "deletable": true,
    "editable": true,
    "run_control": {
     "frozen": false,
     "read_only": false
    }
   },
   "source": [
    "## iPyLeaflet\n",
    "[ipyleaflet](https://github.com/ellisonbg/ipyleaflet) is a bridge between jupyter notebooks and the [leaflet](http://leafletjs.com/)  javascript library for drawing maps.\n",
    "\n",
    "ipyleaflet comes with a few examples notebooks (this notebook was derived from one) but very little documentation,\n",
    "for more documentation read the [Leaflet IPA](http://leafletjs.com/reference.html)\n",
    "\n",
    "For installation directions, see the README on [ipyleaflet](https://github.com/ellisonbg/ipyleaflet)"
   ]
  },
  {
   "cell_type": "code",
   "execution_count": 1,
   "metadata": {
    "collapsed": false,
    "deletable": true,
    "editable": true,
    "run_control": {
     "frozen": false,
     "read_only": false
    }
   },
   "outputs": [],
   "source": [
    "from ipyleaflet import (\n",
    "    Map,\n",
    "    Marker,\n",
    "    TileLayer, ImageOverlay,\n",
    "    Polyline, Polygon, Rectangle, Circle, CircleMarker,\n",
    "    GeoJSON,\n",
    "    DrawControl\n",
    ")"
   ]
  },
  {
   "cell_type": "markdown",
   "metadata": {
    "deletable": true,
    "editable": true,
    "run_control": {
     "frozen": false,
     "read_only": false
    }
   },
   "source": [
    "## Visualizing the distribution of the observations\n",
    "\n",
    "## Load the required libraries"
   ]
  },
  {
   "cell_type": "code",
   "execution_count": 2,
   "metadata": {
    "collapsed": false,
    "deletable": true,
    "editable": true,
    "run_control": {
     "frozen": false,
     "read_only": false
    }
   },
   "outputs": [],
   "source": [
    "import pandas as pd\n",
    "import numpy as np\n",
    "import sklearn as sk\n",
    "import urllib\n",
    "import math"
   ]
  },
  {
   "cell_type": "code",
   "execution_count": 3,
   "metadata": {
    "collapsed": false,
    "deletable": true,
    "editable": true,
    "run_control": {
     "frozen": false,
     "read_only": false
    }
   },
   "outputs": [],
   "source": [
    "import findspark\n",
    "findspark.init()\n",
    "\n",
    "from pyspark import SparkContext\n",
    "#sc.stop()\n",
    "sc = SparkContext(master=\"local[3]\",pyFiles=['lib/numpy_pack.py','lib/computeStats.py'])\n",
    "\n",
    "from pyspark import SparkContext\n",
    "from pyspark.sql import *\n",
    "sqlContext = SQLContext(sc)"
   ]
  },
  {
   "cell_type": "code",
   "execution_count": 4,
   "metadata": {
    "collapsed": false,
    "deletable": true,
    "editable": true,
    "run_control": {
     "frozen": false,
     "read_only": false
    }
   },
   "outputs": [],
   "source": [
    "import sys\n",
    "sys.path.append('./lib')\n",
    "\n",
    "import numpy as np\n",
    "from numpy_pack import packArray,unpackArray\n",
    "from computeStats import computeOverAllDist, STAT_Descriptions"
   ]
  },
  {
   "cell_type": "code",
   "execution_count": 5,
   "metadata": {
    "collapsed": false,
    "deletable": true,
    "editable": true,
    "run_control": {
     "frozen": false,
     "read_only": false
    }
   },
   "outputs": [
    {
     "name": "stdout",
     "output_type": "stream",
     "text": [
      "('keys from STAT=', ['TMIN', 'TOBS', 'TMAX', 'SNOW', 'SNWD', 'PRCP'])\n",
      "502\n",
      "+------------------+------------------+------------------+---------+--------+--------+---------+-----------+-------------------+------------------+--------------------+------------------+-----------+------------+------+--------------------+------+\n",
      "|           coeff_1|           coeff_2|           coeff_3|elevation|   label|latitude|longitude|measurement|              res_1|             res_2|               res_3|          res_mean|    station|   total_var|undefs|              vector|  year|\n",
      "+------------------+------------------+------------------+---------+--------+--------+---------+-----------+-------------------+------------------+--------------------+------------------+-----------+------------+------+--------------------+------+\n",
      "| -8864.63634612004|-2039.954886131679| 698.3849072461817|   1797.4|SBSSBBBS|  43.465|-113.5581|       SNWD|0.08489938379981538| 0.035341730561038|0.030868023647585202|0.7489632425394946|USC00102260|1.19756712E8|     3|[C2 61 F4 61 F4 6...|1993.0|\n",
      "|-6921.010051408699|-665.9582560930211|270.23098730787694|   1795.3|SBSSBBBS| 43.6842|-114.3603|       SNWD|0.04683451839223232|0.0354027733982871| 0.03138049547632017|0.6814582884569894|USC00104845| 7.7694463E7|    22|[C2 61 C2 61 26 6...|1997.0|\n",
      "+------------------+------------------+------------------+---------+--------+--------+---------+-----------+-------------------+------------------+--------------------+------------------+-----------+------------+------+--------------------+------+\n",
      "only showing top 2 rows\n",
      "\n"
     ]
    }
   ],
   "source": [
    "### Read the data frame from pickle file\n",
    "\n",
    "data_dir='../../Data/Weather'\n",
    "file_index='SBSSBBBS'\n",
    "meas='SNWD'\n",
    "\n",
    "from pickle import load\n",
    "\n",
    "#read statistics\n",
    "filename=data_dir+'/STAT_%s.pickle'%file_index\n",
    "STAT,STAT_Descriptions = load(open(filename,'rb'))\n",
    "print('keys from STAT=',STAT.keys())\n",
    "\n",
    "#!ls -ld $data_dir/*.parquet\n",
    "\n",
    "#read data\n",
    "filename=data_dir+'/decon_%s_%s.parquet'%(file_index,meas)\n",
    "\n",
    "df=sqlContext.read.parquet(filename)\n",
    "print(df.count())\n",
    "df.show(2)"
   ]
  },
  {
   "cell_type": "code",
   "execution_count": 33,
   "metadata": {
    "collapsed": false,
    "deletable": true,
    "editable": true,
    "run_control": {
     "frozen": false,
     "read_only": false
    },
    "scrolled": true
   },
   "outputs": [
    {
     "name": "stdout",
     "output_type": "stream",
     "text": [
      "SELECT station, latitude,longitude,elevation,coeff_3 FROM weather\n",
      "+-----------+--------+---------+---------+-------------------+\n",
      "|    station|latitude|longitude|elevation|            coeff_3|\n",
      "+-----------+--------+---------+---------+-------------------+\n",
      "|USC00102260|  43.465|-113.5581|   1797.4|  698.3849072461817|\n",
      "|USC00104845| 43.6842|-114.3603|   1795.3| 270.23098730787694|\n",
      "|USC00104845| 43.6842|-114.3603|   1795.3|   302.271602522729|\n",
      "|USC00104230| 42.9419|-111.4361|   2025.1|-1557.2314842455955|\n",
      "+-----------+--------+---------+---------+-------------------+\n",
      "only showing top 4 rows\n",
      "\n"
     ]
    }
   ],
   "source": [
    "#extract longitude and latitude for each station\n",
    "feature='coeff_3'\n",
    "sqlContext.registerDataFrameAsTable(df,'weather')\n",
    "Query=\"SELECT station, latitude,longitude,elevation,%s FROM weather\"%feature\n",
    "print(Query)\n",
    "df1 = sqlContext.sql(Query)\n",
    "df1.show(4)"
   ]
  },
  {
   "cell_type": "code",
   "execution_count": 34,
   "metadata": {
    "collapsed": false,
    "deletable": true,
    "editable": true,
    "run_control": {
     "frozen": false,
     "read_only": false
    }
   },
   "outputs": [
    {
     "data": {
      "text/html": [
       "<div>\n",
       "<table border=\"1\" class=\"dataframe\">\n",
       "  <thead>\n",
       "    <tr style=\"text-align: right;\">\n",
       "      <th></th>\n",
       "      <th>station</th>\n",
       "      <th>latitude</th>\n",
       "      <th>longitude</th>\n",
       "      <th>elevation</th>\n",
       "      <th>count(station)</th>\n",
       "      <th>avg(coeff_3)</th>\n",
       "    </tr>\n",
       "  </thead>\n",
       "  <tbody>\n",
       "    <tr>\n",
       "      <th>17</th>\n",
       "      <td>USC00100010</td>\n",
       "      <td>42.9536</td>\n",
       "      <td>-112.8253</td>\n",
       "      <td>1342.6</td>\n",
       "      <td>12</td>\n",
       "      <td>-352.532062</td>\n",
       "    </tr>\n",
       "    <tr>\n",
       "      <th>2</th>\n",
       "      <td>USC00100227</td>\n",
       "      <td>42.8572</td>\n",
       "      <td>-112.8800</td>\n",
       "      <td>1345.7</td>\n",
       "      <td>10</td>\n",
       "      <td>-546.158350</td>\n",
       "    </tr>\n",
       "  </tbody>\n",
       "</table>\n",
       "</div>"
      ],
      "text/plain": [
       "        station  latitude  longitude  elevation  count(station)  avg(coeff_3)\n",
       "17  USC00100010   42.9536  -112.8253     1342.6              12   -352.532062\n",
       "2   USC00100227   42.8572  -112.8800     1345.7              10   -546.158350"
      ]
     },
     "execution_count": 34,
     "metadata": {},
     "output_type": "execute_result"
    }
   ],
   "source": [
    "df2=df1.groupby(['station','latitude','longitude','elevation']).agg({\"station\": \"count\", feature: \"mean\"})\n",
    "pdf=df2.toPandas()\n",
    "pdf.sort_values(by=['station'],inplace=True)\n",
    "pdf.head(2)"
   ]
  },
  {
   "cell_type": "code",
   "execution_count": 35,
   "metadata": {
    "collapsed": false,
    "deletable": true,
    "editable": true,
    "run_control": {
     "frozen": false,
     "read_only": false
    }
   },
   "outputs": [
    {
     "data": {
      "text/plain": [
       "u'#ff1a00'"
      ]
     },
     "execution_count": 35,
     "metadata": {},
     "output_type": "execute_result"
    }
   ],
   "source": [
    "#define a mapping from the range of the value to hex colors.\n",
    "from matplotlib.colors import rgb2hex\n",
    "_avg='avg(%s)'%feature\n",
    "_min=pdf[_avg].min()\n",
    "_max=pdf[_avg].max()\n",
    "_min,_max\n",
    "\n",
    "import pylab as plt\n",
    "cmap=plt.get_cmap('jet')\n",
    "def get_color(val):\n",
    "    x=(val-_min)/(_max-_min)\n",
    "    return(rgb2hex(cmap(x)[:3]))\n",
    "\n",
    "get_color(1000.)"
   ]
  },
  {
   "cell_type": "markdown",
   "metadata": {
    "deletable": true,
    "editable": true,
    "run_control": {
     "frozen": false,
     "read_only": false
    }
   },
   "source": [
    "## Map"
   ]
  },
  {
   "cell_type": "code",
   "execution_count": 36,
   "metadata": {
    "collapsed": true,
    "deletable": true,
    "editable": true,
    "run_control": {
     "frozen": false,
     "read_only": false
    }
   },
   "outputs": [],
   "source": [
    "# min_lat,max_lat,min_long,max_long = box = (42.1103, 42.6167, -72.6, -70.8)\n",
    "min_lat,max_lat,min_long,max_long = box = \\\n",
    "    (pdf.latitude.min(), pdf.latitude.max(), pdf.longitude.min(), pdf.longitude.max())"
   ]
  },
  {
   "cell_type": "code",
   "execution_count": 37,
   "metadata": {
    "collapsed": false,
    "deletable": true,
    "editable": true,
    "run_control": {
     "frozen": false,
     "read_only": false
    }
   },
   "outputs": [
    {
     "data": {
      "application/vnd.jupyter.widget-view+json": {
       "model_id": "bb7724938ecc4c9a989c6ffb47387e2a"
      }
     },
     "metadata": {},
     "output_type": "display_data"
    }
   ],
   "source": [
    "center = [(min_lat+max_lat)/2, (min_long+max_long)/2]\n",
    "zoom = 9\n",
    "\n",
    "m = Map(default_tiles=TileLayer(opacity=1.0), center=center, zoom=zoom)\n",
    "\n",
    "r = Rectangle(bounds=[[min_lat,min_long],[max_lat,max_long]], weight=5, fill_opacity=0.0)\n",
    "m += r\n",
    "\n",
    "lat_margin=(max_lat-min_lat)/4\n",
    "long_margin=(max_long-min_long)/4\n",
    "circles = []\n",
    "for index,row in pdf.iterrows():\n",
    "    _lat=row['latitude']\n",
    "    _long=row['longitude']\n",
    "    _count=row['count(station)']\n",
    "    _coef=row[_avg]\n",
    "    # taking sqrt of count so that the  area of the circle corresponds to the count\n",
    "    c = Circle(location=(_lat,_long), radius=int(300*np.sqrt(_count+0.0)), weight=1,\n",
    "            color='#F00', opacity=0.8, fill_opacity=0.4,\n",
    "            fill_color=get_color(_coef))\n",
    "    circles.append(c)\n",
    "    m.add_layer(c)\n",
    "m    "
   ]
  },
  {
   "cell_type": "markdown",
   "metadata": {
    "deletable": true,
    "editable": true,
    "run_control": {
     "frozen": false,
     "read_only": false
    }
   },
   "source": [
    "### excercises:\n",
    "* Add a legend that relates the colors to values.\n",
    "* Leaflet supports a variety of maps. See if you can get a topographical map as the background."
   ]
  },
  {
   "cell_type": "code",
   "execution_count": 11,
   "metadata": {
    "collapsed": false,
    "deletable": true,
    "editable": true,
    "run_control": {
     "frozen": false,
     "read_only": false
    }
   },
   "outputs": [
    {
     "data": {
      "image/png": "[encoded data removed]",
      "text/plain": [
       "<matplotlib.figure.Figure at 0x10eec1a10>"
      ]
     },
     "metadata": {},
     "output_type": "display_data"
    }
   ],
   "source": [
    "%matplotlib inline\n",
    "pdf.plot.scatter(x='elevation',y='avg(coeff_1)');"
   ]
  },
  {
   "cell_type": "code",
   "execution_count": null,
   "metadata": {
    "collapsed": true,
    "deletable": true,
    "editable": true,
    "run_control": {
     "frozen": false,
     "read_only": false
    }
   },
   "outputs": [],
   "source": []
  },
  {
   "cell_type": "code",
   "execution_count": 12,
   "metadata": {
    "collapsed": false,
    "deletable": true,
    "editable": true
   },
   "outputs": [
    {
     "data": {
      "text/plain": [
       "['spark big  data analysis', 'spring', 'spark  basics']"
      ]
     },
     "execution_count": 12,
     "metadata": {},
     "output_type": "execute_result"
    }
   ],
   "source": [
    "RDD1=sc.parallelize([\"spark  basics\", \"spark big  data analysis\", \"spring\"]) \n",
    "RDD2=sc.parallelize([\"spark using pyspark\", \"big data\"])\n",
    " \n",
    "RDD1.subtract(RDD2).collect()"
   ]
  },
  {
   "cell_type": "code",
   "execution_count": null,
   "metadata": {
    "collapsed": true,
    "deletable": true,
    "editable": true
   },
   "outputs": [],
   "source": []
  }
 ],
 "metadata": {
  "anaconda-cloud": {},
  "hide_input": false,
  "kernelspec": {
   "display_name": "Python 2",
   "language": "python",
   "name": "python2"
  },
  "language_info": {
   "codemirror_mode": {
    "name": "ipython",
    "version": 2
   },
   "file_extension": ".py",
   "mimetype": "text/x-python",
   "name": "python",
   "nbconvert_exporter": "python",
   "pygments_lexer": "ipython2",
   "version": "2.7.13"
  },
  "toc": {
   "colors": {
    "hover_highlight": "#DAA520",
    "running_highlight": "#FF0000",
    "selected_highlight": "#FFD700"
   },
   "moveMenuLeft": true,
   "nav_menu": {
    "height": "174px",
    "width": "252px"
   },
   "navigate_menu": true,
   "number_sections": true,
   "sideBar": true,
   "threshold": 4,
   "toc_cell": false,
   "toc_section_display": "block",
   "toc_window_display": false
  },
  "widgets": {
   "state": {},
   "version": "1.0.0"
  }
 },
 "nbformat": 4,
 "nbformat_minor": 1
}
