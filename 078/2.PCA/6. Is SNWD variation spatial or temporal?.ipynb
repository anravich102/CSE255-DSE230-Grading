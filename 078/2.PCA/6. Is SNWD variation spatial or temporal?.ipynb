{
 "cells": [
  {
   "cell_type": "markdown",
   "metadata": {
    "deletable": true,
    "editable": true,
    "run_control": {
     "frozen": false,
     "read_only": false
    }
   },
   "source": [
    "## Analyze whether SNWD varies more from year to year or from place to place."
   ]
  },
  {
   "cell_type": "code",
   "execution_count": 5,
   "metadata": {
    "collapsed": false,
    "deletable": true,
    "editable": true,
    "run_control": {
     "frozen": false,
     "read_only": false
    }
   },
   "outputs": [],
   "source": [
    "import pandas as pd\n",
    "import numpy as np\n",
    "import urllib\n",
    "import math"
   ]
  },
  {
   "cell_type": "code",
   "execution_count": 2,
   "metadata": {
    "collapsed": false,
    "deletable": true,
    "editable": true,
    "run_control": {
     "frozen": false,
     "read_only": false
    }
   },
   "outputs": [],
   "source": [
    "import findspark\n",
    "findspark.init()\n",
    "\n",
    "from pyspark import SparkContext\n",
    "#sc.stop()\n",
    "sc = SparkContext(master=\"local[3]\",pyFiles=['lib/numpy_pack.py','lib/spark_PCA.py','lib/computeStats.py'])\n",
    "\n",
    "from pyspark import SparkContext\n",
    "from pyspark.sql import *\n",
    "sqlContext = SQLContext(sc)"
   ]
  },
  {
   "cell_type": "code",
   "execution_count": 3,
   "metadata": {
    "collapsed": true,
    "deletable": true,
    "editable": true,
    "run_control": {
     "frozen": false,
     "read_only": false
    }
   },
   "outputs": [],
   "source": [
    "import sys\n",
    "sys.path.append('./lib')\n",
    "\n",
    "import numpy as np\n",
    "from numpy_pack import packArray,unpackArray\n",
    "from spark_PCA import computeCov\n",
    "from computeStats import computeOverAllDist, STAT_Descriptions"
   ]
  },
  {
   "cell_type": "code",
   "execution_count": 4,
   "metadata": {
    "collapsed": false,
    "deletable": true,
    "editable": true,
    "run_control": {
     "frozen": false,
     "read_only": false
    },
    "scrolled": true
   },
   "outputs": [
    {
     "name": "stdout",
     "output_type": "stream",
     "text": [
      "('keys from STAT=', ['TMIN', 'TOBS', 'TMAX', 'SNOW', 'SNWD', 'PRCP'])\n",
      "502\n",
      "+------------------+------------------+------------------+---------+--------+--------+---------+-----------+-------------------+------------------+--------------------+------------------+-----------+------------+------+--------------------+------+\n",
      "|           coeff_1|           coeff_2|           coeff_3|elevation|   label|latitude|longitude|measurement|              res_1|             res_2|               res_3|          res_mean|    station|   total_var|undefs|              vector|  year|\n",
      "+------------------+------------------+------------------+---------+--------+--------+---------+-----------+-------------------+------------------+--------------------+------------------+-----------+------------+------+--------------------+------+\n",
      "| -8864.63634612004|-2039.954886131679| 698.3849072461817|   1797.4|SBSSBBBS|  43.465|-113.5581|       SNWD|0.08489938379981538| 0.035341730561038|0.030868023647585202|0.7489632425394946|USC00102260|1.19756712E8|     3|[C2 61 F4 61 F4 6...|1993.0|\n",
      "|-6921.010051408699|-665.9582560930211|270.23098730787694|   1795.3|SBSSBBBS| 43.6842|-114.3603|       SNWD|0.04683451839223232|0.0354027733982871| 0.03138049547632017|0.6814582884569894|USC00104845| 7.7694463E7|    22|[C2 61 C2 61 26 6...|1997.0|\n",
      "+------------------+------------------+------------------+---------+--------+--------+---------+-----------+-------------------+------------------+--------------------+------------------+-----------+------------+------+--------------------+------+\n",
      "only showing top 2 rows\n",
      "\n"
     ]
    }
   ],
   "source": [
    "### Read the data frame from pickle file\n",
    "\n",
    "data_dir='../../Data/Weather'\n",
    "file_index='SBSSBBBS'\n",
    "meas='SNWD'\n",
    "\n",
    "from pickle import load\n",
    "\n",
    "#read statistics\n",
    "filename=data_dir+'/STAT_%s.pickle'%file_index\n",
    "STAT,STAT_Descriptions = load(open(filename,'rb'))\n",
    "print('keys from STAT=',STAT.keys())\n",
    "\n",
    "#!ls -ld $data_dir/*.parquet\n",
    "\n",
    "#read data\n",
    "filename=data_dir+'/decon_%s_%s.parquet'%(file_index,meas)\n",
    "\n",
    "df=sqlContext.read.parquet(filename)\n",
    "print(df.count())\n",
    "df.show(2)"
   ]
  },
  {
   "cell_type": "code",
   "execution_count": 5,
   "metadata": {
    "collapsed": false,
    "deletable": true,
    "editable": true,
    "run_control": {
     "frozen": false,
     "read_only": false
    }
   },
   "outputs": [
    {
     "name": "stdout",
     "output_type": "stream",
     "text": [
      "['coeff_1', 'coeff_2', 'coeff_3', 'elevation', 'label', 'latitude', 'longitude', 'measurement', 'res_1', 'res_2', 'res_3', 'res_mean', 'station', 'total_var', 'undefs', 'vector', 'year']\n"
     ]
    }
   ],
   "source": [
    "print df.columns"
   ]
  },
  {
   "cell_type": "code",
   "execution_count": 33,
   "metadata": {
    "collapsed": false,
    "deletable": true,
    "editable": true,
    "run_control": {
     "frozen": false,
     "read_only": false
    },
    "scrolled": true
   },
   "outputs": [
    {
     "name": "stdout",
     "output_type": "stream",
     "text": [
      "SELECT station, year, coeff_1 FROM weather\n",
      "       station    year      coeff_1\n",
      "0  USC00102260  1993.0 -8864.636346\n",
      "1  USC00104845  1997.0 -6921.010051\n",
      "2  USC00104845  1980.0 -5862.926829\n",
      "3  USC00104230  1972.0 -6048.058037\n",
      "4  USC00103942  1952.0 -9637.720618\n",
      "total MS                   =  7645869.4234\n",
      "MS removing mean-by-station=  2337260.72853\n",
      "MS removing mean-by-year   =  4600023.34546\n",
      "===============\n",
      "SELECT station, year, coeff_2 FROM weather\n",
      "       station    year      coeff_2\n",
      "0  USC00102260  1993.0 -2039.954886\n",
      "1  USC00104845  1997.0  -665.958256\n",
      "2  USC00104845  1980.0  1176.284964\n",
      "3  USC00104230  1972.0 -1602.792073\n",
      "4  USC00103942  1952.0   145.355169\n",
      "total MS                   =  720290.294619\n",
      "MS removing mean-by-station=  686028.439632\n",
      "MS removing mean-by-year   =  292349.048244\n",
      "===============\n",
      "SELECT station, year, coeff_3 FROM weather\n",
      "       station    year      coeff_3\n",
      "0  USC00102260  1993.0   698.384907\n",
      "1  USC00104845  1997.0   270.230987\n",
      "2  USC00104845  1980.0   302.271603\n",
      "3  USC00104230  1972.0 -1557.231484\n",
      "4  USC00103942  1952.0   205.481422\n",
      "total MS                   =  614998.065246\n",
      "MS removing mean-by-station=  450135.426296\n",
      "MS removing mean-by-year   =  346540.698649\n",
      "===============\n"
     ]
    }
   ],
   "source": [
    "#extract longitude and latitude for each station\n",
    "# feature='coeff_1'\n",
    "sqlContext.registerDataFrameAsTable(df,'weather')\n",
    "# Features=', '.join(['coeff_1', 'coeff_2', 'coeff_3', 'elevation', 'latitude', 'longitude',\\\n",
    "#          'res_1', 'res_2', 'res_3', 'res_mean', 'year'])\n",
    "def MS(Mat):\n",
    "    return np.nanmean(Mat**2)\n",
    "for i in range(3):\n",
    "    stri = str(i+1)\n",
    "    Features='station, year, coeff_'+stri\n",
    "    Query=\"SELECT %s FROM weather\"%Features\n",
    "    print(Query)\n",
    "    pdf = sqlContext.sql(Query).toPandas()\n",
    "    print pdf.head()\n",
    "    year_station_table=pdf.pivot(index='year', columns='station', values='coeff_'+stri)\n",
    "    mean_by_year=np.nanmean(year_station_table,axis=1)\n",
    "    mean_by_station=np.nanmean(year_station_table,axis=0)\n",
    "    tbl_minus_year = (year_station_table.transpose()-mean_by_year).transpose()\n",
    "    tbl_minus_station = year_station_table-mean_by_station\n",
    "\n",
    "    print 'total MS                   = ', MS(year_station_table)\n",
    "    print 'MS removing mean-by-station= ', MS(tbl_minus_station)\n",
    "    print 'MS removing mean-by-year   = ', MS(tbl_minus_year)\n",
    "    print '==============='"
   ]
  },
  {
   "cell_type": "code",
   "execution_count": 13,
   "metadata": {
    "collapsed": false,
    "deletable": true,
    "editable": true,
    "run_control": {
     "frozen": false,
     "read_only": false
    }
   },
   "outputs": [],
   "source": [
    "\n",
    "# year_station_table=pdf.pivot(index='year', columns='station', values='coeff_2')\n",
    "# year_station_table.head(10)"
   ]
  },
  {
   "cell_type": "markdown",
   "metadata": {
    "collapsed": false,
    "deletable": true,
    "editable": true,
    "run_control": {
     "frozen": false,
     "read_only": false
    }
   },
   "source": [
    "### Estimating the effect of the year vs the effect of the station\n",
    "\n",
    "To estimate the effect of time vs. location on the first eigenvector coefficient we\n",
    "compute:\n",
    "\n",
    "* The average row: `mean-by-station`\n",
    "* The average column: `mean-by-year`\n",
    "\n",
    "We then compute the RMS before and after subtracting either  the row or the column vector."
   ]
  },
  {
   "cell_type": "code",
   "execution_count": 30,
   "metadata": {
    "collapsed": false,
    "deletable": true,
    "editable": true,
    "run_control": {
     "frozen": false,
     "read_only": false
    }
   },
   "outputs": [
    {
     "name": "stdout",
     "output_type": "stream",
     "text": [
      " total RMS                   =  848.69917793\n",
      "RMS removing mean-by-station=  828.268337939\n",
      "RMS removing mean-by-year   =  540.693118362\n"
     ]
    }
   ],
   "source": [
    "def RMS(Mat):\n",
    "    return np.sqrt(np.nanmean(Mat**2))\n",
    "\n",
    "\n",
    "\n",
    "mean_by_year=np.nanmean(year_station_table,axis=1)\n",
    "mean_by_station=np.nanmean(year_station_table,axis=0)\n",
    "tbl_minus_year = (year_station_table.transpose()-mean_by_year).transpose()\n",
    "tbl_minus_station = year_station_table-mean_by_station\n",
    "\n",
    "print 'total RMS                   = ',RMS(year_station_table)\n",
    "print 'RMS removing mean-by-station= ',RMS(tbl_minus_station)\n",
    "print 'RMS removing mean-by-year   = ',RMS(tbl_minus_year)"
   ]
  },
  {
   "cell_type": "code",
   "execution_count": 9,
   "metadata": {
    "collapsed": false,
    "deletable": true,
    "editable": true,
    "run_control": {
     "frozen": false,
     "read_only": false
    }
   },
   "outputs": [
    {
     "name": "stdout",
     "output_type": "stream",
     "text": [
      "initial RMS= 848.69917793\n",
      "0 after removing mean by year    = 540.693118362\n",
      "0 after removing mean by stations= 526.181161298\n",
      "1 after removing mean by year    = 524.635943663\n",
      "1 after removing mean by stations= 524.321748828\n",
      "2 after removing mean by year    = 524.224364916\n",
      "2 after removing mean by stations= 524.186093351\n",
      "3 after removing mean by year    = 524.169321724\n",
      "3 after removing mean by stations= 524.161576845\n",
      "4 after removing mean by year    = 524.157893966\n",
      "4 after removing mean by stations= 524.156109745\n"
     ]
    }
   ],
   "source": [
    "\n",
    "T=year_station_table\n",
    "print 'initial RMS=',RMS(T)\n",
    "for i in range(5):\n",
    "    mean_by_year=np.nanmean(T,axis=1)\n",
    "    T=(T.transpose()-mean_by_year).transpose()\n",
    "    print i,'after removing mean by year    =',RMS(T)\n",
    "    mean_by_station=np.nanmean(T,axis=0)\n",
    "    T=T-mean_by_station\n",
    "    print i,'after removing mean by stations=',RMS(T)"
   ]
  },
  {
   "cell_type": "code",
   "execution_count": null,
   "metadata": {
    "collapsed": true,
    "deletable": true,
    "editable": true,
    "run_control": {
     "frozen": false,
     "read_only": false
    }
   },
   "outputs": [],
   "source": []
  }
 ],
 "metadata": {
  "anaconda-cloud": {},
  "hide_input": false,
  "kernelspec": {
   "display_name": "Python 2",
   "language": "python",
   "name": "python2"
  },
  "language_info": {
   "codemirror_mode": {
    "name": "ipython",
    "version": 2
   },
   "file_extension": ".py",
   "mimetype": "text/x-python",
   "name": "python",
   "nbconvert_exporter": "python",
   "pygments_lexer": "ipython2",
   "version": "2.7.13"
  },
  "toc": {
   "colors": {
    "hover_highlight": "#DAA520",
    "running_highlight": "#FF0000",
    "selected_highlight": "#FFD700"
   },
   "moveMenuLeft": true,
   "nav_menu": {
    "height": "174px",
    "width": "252px"
   },
   "navigate_menu": true,
   "number_sections": true,
   "sideBar": true,
   "threshold": 4,
   "toc_cell": false,
   "toc_section_display": "block",
   "toc_window_display": false
  },
  "widgets": {
   "state": {},
   "version": "1.0.0"
  }
 },
 "nbformat": 4,
 "nbformat_minor": 1
}
