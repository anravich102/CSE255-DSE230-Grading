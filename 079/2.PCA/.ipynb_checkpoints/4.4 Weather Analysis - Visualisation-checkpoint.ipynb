{
 "cells": [
  {
   "cell_type": "markdown",
   "metadata": {
    "deletable": true,
    "editable": true,
    "run_control": {
     "frozen": false,
     "read_only": false
    }
   },
   "source": [
    "### Visualizing the distribution of the observations\n",
    "\n",
    "### Load the required libraries"
   ]
  },
  {
   "cell_type": "code",
   "execution_count": 1,
   "metadata": {
    "collapsed": false,
    "deletable": true,
    "editable": true,
    "run_control": {
     "frozen": false,
     "read_only": false
    },
    "slideshow": {
     "slide_type": "slide"
    }
   },
   "outputs": [
    {
     "name": "stdout",
     "output_type": "stream",
     "text": [
      "Populating the interactive namespace from numpy and matplotlib\n",
      "keys from STAT= ['TMIN', 'TOBS', 'TMAX', 'SNOW', 'SNWD', 'PRCP']\n",
      "13047\n",
      "+---------+--------+---------+-----------+-----------+------+--------------------+------+--------+\n",
      "|elevation|latitude|longitude|measurement|    station|undefs|              vector|  year|   label|\n",
      "+---------+--------+---------+-----------+-----------+------+--------------------+------+--------+\n",
      "|      6.1| 42.4667|    -70.9|       TMAX|USC00198301|     0|[-128, 77, 0, 70,...|1931.0|BBBSBBBB|\n",
      "|      6.1| 42.4667|    -70.9|       TMAX|USC00198301|     0|[0, 79, -128, 81,...|1932.0|BBBSBBBB|\n",
      "|      6.1| 42.4667|    -70.9|       TMAX|USC00198301|     2|[32, -48, 0, 83, ...|1933.0|BBBSBBBB|\n",
      "|      6.1| 42.4667|    -70.9|       TMAX|USC00198301|     2|[48, 85, -128, -5...|1934.0|BBBSBBBB|\n",
      "|      6.1| 42.4667|    -70.9|       TMAX|USC00198301|     1|[-32, 80, 0, -49,...|1935.0|BBBSBBBB|\n",
      "+---------+--------+---------+-----------+-----------+------+--------------------+------+--------+\n",
      "only showing top 5 rows\n",
      "\n"
     ]
    }
   ],
   "source": [
    "import pandas as pd\n",
    "import numpy as np\n",
    "import sklearn as sk\n",
    "import urllib\n",
    "import math\n",
    "%pylab inline\n",
    "\n",
    "import findspark\n",
    "findspark.init()\n",
    "\n",
    "from pyspark import SparkContext\n",
    "#sc.stop()\n",
    "sc = SparkContext(master=\"local[3]\",pyFiles=['lib/numpy_pack.py','lib/spark_PCA.py','lib/computeStats.py'])\n",
    "\n",
    "from pyspark import SparkContext\n",
    "from pyspark.sql import *\n",
    "sqlContext = SQLContext(sc)\n",
    "\n",
    "import sys\n",
    "sys.path.append('./lib')\n",
    "\n",
    "import numpy as np\n",
    "from numpy_pack import packArray,unpackArray\n",
    "from spark_PCA import computeCov\n",
    "from computeStats import computeOverAllDist, STAT_Descriptions\n",
    "\n",
    "### Read the data frame from pickle file\n",
    "\n",
    "data_dir='../../Data/Weather'\n",
    "#file_index='BBBSBBBB'\n",
    "file_index='SSSBSSSS'\n",
    "from pickle import load\n",
    "\n",
    "#read statistics\n",
    "filename=data_dir+'/STAT_%s.pickle'%file_index\n",
    "STAT,STAT_Descriptions = load(open(filename,'rb'))\n",
    "print 'keys from STAT=',STAT.keys()\n",
    "\n",
    "#read data\n",
    "filename=data_dir+'/US_Weather_%s.parquet'%file_index\n",
    "\n",
    "df=sqlContext.read.parquet(filename)\n",
    "print df.count()\n",
    "df.show(5)"
   ]
  },
  {
   "cell_type": "code",
   "execution_count": 2,
   "metadata": {
    "collapsed": false
   },
   "outputs": [
    {
     "name": "stdout",
     "output_type": "stream",
     "text": [
      "../../Data/Weather/US_Weather_BBBSBBBB.parquet\n"
     ]
    }
   ],
   "source": [
    "print filename"
   ]
  },
  {
   "cell_type": "markdown",
   "metadata": {
    "deletable": true,
    "editable": true,
    "run_control": {
     "frozen": false,
     "read_only": false
    },
    "slideshow": {
     "slide_type": "slide"
    }
   },
   "source": [
    "### Select data for a particular station and measurement type"
   ]
  },
  {
   "cell_type": "code",
   "execution_count": 2,
   "metadata": {
    "collapsed": false,
    "deletable": true,
    "editable": true,
    "run_control": {
     "frozen": false,
     "read_only": false
    },
    "slideshow": {
     "slide_type": "subslide"
    }
   },
   "outputs": [
    {
     "name": "stdout",
     "output_type": "stream",
     "text": [
      "SELECT * FROM weather\n",
      "\tWHERE measurement='PRCP' and station='USC00198301'\n",
      "26 rows\n",
      "+---------+--------+---------+-----------+-----------+------+--------------------+------+--------+\n",
      "|elevation|latitude|longitude|measurement|    station|undefs|              vector|  year|   label|\n",
      "+---------+--------+---------+-----------+-----------+------+--------------------+------+--------+\n",
      "|      6.1| 42.4667|    -70.9|       PRCP|USC00198301|     1|[0, 0, 0, 0, 0, 0...|1931.0|BBBSBBBB|\n",
      "|      6.1| 42.4667|    -70.9|       PRCP|USC00198301|     4|[0, 0, 76, 97, 32...|1932.0|BBBSBBBB|\n",
      "+---------+--------+---------+-----------+-----------+------+--------------------+------+--------+\n",
      "only showing top 2 rows\n",
      "\n"
     ]
    },
    {
     "data": {
      "text/plain": [
       "(26, 365)"
      ]
     },
     "execution_count": 2,
     "metadata": {},
     "output_type": "execute_result"
    }
   ],
   "source": [
    "sqlContext.registerDataFrameAsTable(df,'weather')\n",
    "Query=\"SELECT * FROM weather\\n\\tWHERE measurement='%s' and station='%s'\"%('PRCP','USC00198301')\n",
    "print Query\n",
    "df1 = sqlContext.sql(Query)\n",
    "print df1.count(),'rows'\n",
    "df1.show(2)\n",
    "rows=df1.rdd.map(lambda row:unpackArray(row['vector'],np.float16)).collect()\n",
    "T=np.vstack(rows)\n",
    "T=T/10.  # scaling to make the temperature be in centingrates\n",
    "shape(T)"
   ]
  },
  {
   "cell_type": "markdown",
   "metadata": {
    "deletable": true,
    "editable": true,
    "run_control": {
     "frozen": false,
     "read_only": false
    },
    "slideshow": {
     "slide_type": "slide"
    }
   },
   "source": [
    "### Script for plotting yearly plots"
   ]
  },
  {
   "cell_type": "code",
   "execution_count": 3,
   "metadata": {
    "collapsed": false,
    "deletable": true,
    "editable": true,
    "run_control": {
     "frozen": false,
     "read_only": false
    },
    "scrolled": false,
    "slideshow": {
     "slide_type": "subslide"
    }
   },
   "outputs": [
    {
     "data": {
      "image/png": "iVBORw0KGgoAAAANSUhEUgAAAlMAAAGNCAYAAAA1nfQqAAAABHNCSVQICAgIfAhkiAAAAAlwSFlz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