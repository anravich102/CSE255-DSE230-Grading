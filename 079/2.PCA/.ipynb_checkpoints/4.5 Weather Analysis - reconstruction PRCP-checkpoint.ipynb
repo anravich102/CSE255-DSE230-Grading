{
 "cells": [
  {
   "cell_type": "code",
   "execution_count": 1,
   "metadata": {
    "collapsed": true,
    "deletable": true,
    "editable": true,
    "run_control": {
     "frozen": false,
     "read_only": false
    }
   },
   "outputs": [],
   "source": [
    "#setup\n",
    "data_dir='../../Data/Weather'\n",
    "# file_index='BBBSBBBB'\n",
    "file_index='SSSBSSSS'\n",
    "m='PRCP'"
   ]
  },
  {
   "cell_type": "markdown",
   "metadata": {
    "deletable": true,
    "editable": true,
    "run_control": {
     "frozen": false,
     "read_only": false
    },
    "slideshow": {
     "slide_type": "slide"
    },
    "variables": {
     "m": "PRCP"
    }
   },
   "source": [
    "# Reconstruction using top eigen-vectors\n",
    "For measurement = {{m}}"
   ]
  },
  {
   "cell_type": "markdown",
   "metadata": {
    "deletable": true,
    "editable": true,
    "run_control": {
     "frozen": false,
     "read_only": false
    },
    "slideshow": {
     "slide_type": "skip"
    }
   },
   "source": [
    "## Load the required libraries"
   ]
  },
  {
   "cell_type": "code",
   "execution_count": 2,
   "metadata": {
    "collapsed": false,
    "deletable": true,
    "editable": true,
    "run_control": {
     "frozen": false,
     "read_only": false
    },
    "slideshow": {
     "slide_type": "skip"
    }
   },
   "outputs": [],
   "source": [
    "# Enable automiatic reload of libraries\n",
    "#%load_ext autoreload\n",
    "#%autoreload 2 # means that all modules are reloaded before every command"
   ]
  },
  {
   "cell_type": "code",
   "execution_count": 3,
   "metadata": {
    "collapsed": false,
    "deletable": true,
    "editable": true,
    "run_control": {
     "frozen": false,
     "read_only": false
    },
    "slideshow": {
     "slide_type": "skip"
    }
   },
   "outputs": [
    {
     "name": "stdout",
     "output_type": "stream",
     "text": [
      "Populating the interactive namespace from numpy and matplotlib\n",
      "    pandas as    pd \tversion=0.19.2 \trequired version>=0.19.2\n",
      "     numpy as    np \tversion=1.11.3 \trequired version>=1.12.0 ******* Update Version ******\n",
      "   sklearn as    sk \tversion=0.18.1 \trequired version>=0.18.1\n",
      "    urllib as urllib \tversion=1.17 \trequired version>=1.17\n",
      "module pyspark has no version\n",
      "ipywidgets as ipywidgets \tversion=5.2.2 \trequired version>=6.0.0 ******* Update Version ******\n"
     ]
    }
   ],
   "source": [
    "%pylab inline\n",
    "import numpy as np\n",
    "\n",
    "import findspark\n",
    "findspark.init()\n",
    "\n",
    "import sys\n",
    "sys.path.append('./lib')\n",
    "\n",
    "from numpy_pack import packArray,unpackArray\n",
    "\n",
    "from Eigen_decomp import Eigen_decomp\n",
    "from YearPlotter import YearPlotter\n",
    "from recon_plot import recon_plot\n",
    "\n",
    "from import_modules import import_modules,modules\n",
    "import_modules(modules)\n",
    "\n",
    "from ipywidgets import interactive,widgets"
   ]
  },
  {
   "cell_type": "code",
   "execution_count": 4,
   "metadata": {
    "collapsed": false,
    "deletable": true,
    "editable": true,
    "run_control": {
     "frozen": false,
     "read_only": false
    },
    "slideshow": {
     "slide_type": "skip"
    }
   },
   "outputs": [],
   "source": [
    "from pyspark import SparkContext\n",
    "#sc.stop()\n",
    "\n",
    "sc = SparkContext(master=\"local[3]\",pyFiles=['lib/numpy_pack.py','lib/spark_PCA.py','lib/computeStats.py','lib/recon_plot.py','lib/Eigen_decomp.py'])\n",
    "\n",
    "from pyspark import SparkContext\n",
    "from pyspark.sql import *\n",
    "sqlContext = SQLContext(sc)\n",
    "\n",
    "\n",
    "\n"
   ]
  },
  {
   "cell_type": "markdown",
   "metadata": {
    "deletable": true,
    "editable": true,
    "run_control": {
     "frozen": false,
     "read_only": false
    },
    "slideshow": {
     "slide_type": "slide"
    }
   },
   "source": [
    "## Read Statistics File"
   ]
  },
  {
   "cell_type": "code",
   "execution_count": 8,
   "metadata": {
    "collapsed": true,
    "deletable": true,
    "editable": true,
    "run_control": {
     "frozen": false,
     "read_only": false
    },
    "slideshow": {
     "slide_type": "fragment"
    }
   },
   "outputs": [],
   "source": [
    "data_dir='../../Data/Weather'\n",
    "file_index='BBBSBBBB'\n",
    "file_index='SSSBSSSS'"
   ]
  },
  {
   "cell_type": "code",
   "execution_count": 9,
   "metadata": {
    "collapsed": false,
    "deletable": true,
    "editable": true,
    "run_control": {
     "frozen": false,
     "read_only": false
    },
    "slideshow": {
     "slide_type": "subslide"
    }
   },
   "outputs": [
    {
     "name": "stdout",
     "output_type": "stream",
     "text": [
      "keys from STAT= ['TMIN', 'TOBS', 'TMAX', 'SNOW', 'SNWD', 'PRCP']\n"
     ]
    }
   ],
   "source": [
    "from pickle import load\n",
    "\n",
    "#read statistics\n",
    "filename=data_dir+'/STAT_%s.pickle'%file_index\n",
    "STAT,STAT_Descriptions = load(open(filename,'rb'))\n",
    "measurements=STAT.keys()\n",
    "print 'keys from STAT=',measurements"
   ]
  },
  {
   "cell_type": "markdown",
   "metadata": {
    "deletable": true,
    "editable": true,
    "run_control": {
     "frozen": false,
     "read_only": false
    },
    "slideshow": {
     "slide_type": "slide"
    }
   },
   "source": [
    "## Read data file into a spark DataFrame\n",
    "We focus on the snow-depth records, because the eigen-vectors for them make sense."
   ]
  },
  {
   "cell_type": "code",
   "execution_count": 10,
   "metadata": {
    "collapsed": false,
    "deletable": true,
    "editable": true,
    "run_control": {
     "frozen": false,
     "read_only": false
    },
    "scrolled": true,
    "slideshow": {
     "slide_type": "subslide"
    }
   },
   "outputs": [
    {
     "name": "stdout",
     "output_type": "stream",
     "text": [
      "+---------+--------+---------+-----------+-----------+------+--------------------+------+--------+\n",
      "|elevation|latitude|longitude|measurement|    station|undefs|              vector|  year|   label|\n",
      "+---------+--------+---------+-----------+-----------+------+--------------------+------+--------+\n",
      "|    716.9| 36.5333|-121.2833|       PRCP|USC00043502|     9|[32, 81, 0, 0, 0,...|1949.0|SSSBSSSS|\n",
      "|    716.9| 36.5333|-121.2833|       PRCP|USC00043502|     4|[0, 0, -96, 83, 0...|1950.0|SSSBSSSS|\n",
      "|    335.3|  36.398|-121.8685|       PRCP|US1CAMT0023|    35|[0, 126, 0, 126, ...|2010.0|SSSBSSSS|\n",
      "|    335.3|  36.398|-121.8685|       PRCP|US1CAMT0023|     4|[-128, 76, -76, 9...|2011.0|SSSBSSSS|\n",
      "|    335.3|  36.398|-121.8685|       PRCP|US1CAMT0023|     6|[0, 0, 0, 0, 0, 0...|2012.0|SSSBSSSS|\n",
      "+---------+--------+---------+-----------+-----------+------+--------------------+------+--------+\n",
      "only showing top 5 rows\n",
      "\n"
     ]
    }
   ],
   "source": [
    "#read data\n",
    "filename=data_dir+'/US_Weather_%s.parquet'%file_index\n",
    "df_in=sqlContext.read.parquet(filename)\n",
    "#filter in \n",
    "df=df_in.filter(df_in.measurement==m)\n",
    "df.show(5)"
   ]
  },
  {
   "cell_type": "markdown",
   "metadata": {
    "deletable": true,
    "editable": true,
    "run_control": {
     "frozen": false,
     "read_only": false
    },
    "slideshow": {
     "slide_type": "subslide"
    }
   },
   "source": [
    "### Create a matrix with all of the series"
   ]
  },
  {
   "cell_type": "code",
   "execution_count": 11,
   "metadata": {
    "collapsed": false,
    "deletable": true,
    "editable": true,
    "run_control": {
     "frozen": false,
     "read_only": false
    }
   },
   "outputs": [
    {
     "data": {
      "text/plain": [
       "(2926, 365)"
      ]
     },
     "execution_count": 11,
     "metadata": {},
     "output_type": "execute_result"
    }
   ],
   "source": [
    "rows=df.rdd.map(lambda row:unpackArray(row['vector'],np.float16)).collect()\n",
    "\n",
    "T=np.vstack(rows)\n",
    "shape(T)"
   ]
  },
  {
   "cell_type": "markdown",
   "metadata": {
    "deletable": true,
    "editable": true,
    "run_control": {
     "frozen": false,
     "read_only": false
    },
    "slideshow": {
     "slide_type": "subslide"
    }
   },
   "source": [
    "### Plot two time series\n",
    "`SNWD` stands for `snow-depth`, which explains why it is zero during the summer"
   ]
  },
  {
   "cell_type": "code",
   "execution_count": 12,
   "metadata": {
    "collapsed": false,
    "deletable": true,
    "editable": true,
    "run_control": {
     "frozen": false,
     "read_only": false
    },
    "slideshow": {
     "slide_type": "fragment"
    }
   },
   "outputs": [
    {
     "data": {
      "image/png": "iVBORw0KGgoAAAANSUhEUgAAAXoAAAD6CAYAAACvZ4z8AAAABHNCSVQICAgIfAhkiAAAAAlwSFlz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