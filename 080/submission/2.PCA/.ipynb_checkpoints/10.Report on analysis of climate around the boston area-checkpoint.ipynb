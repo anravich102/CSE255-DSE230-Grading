{
 "cells": [
  {
   "cell_type": "code",
   "execution_count": 3,
   "metadata": {
    "run_control": {
     "frozen": false,
     "read_only": false
    },
    "scrolled": false
   },
   "outputs": [
    {
     "name": "stdout",
     "output_type": "stream",
     "text": [
      "![5__maps_using_iPyLeaflet.jpg](r_figures/5__maps_using_iPyLeaflet.jpg)\n",
      "![bar.jpg](r_figures/bar.jpg)\n",
      "![Climate_Boston_-_Massachusetts_and_Weather_averages_Boston.jpg](r_figures/Climate_Boston_-_Massachusetts_and_Weather_averages_Boston.jpg)\n",
      "![Climate_Enterprise_-_Oregon_and_Weather_averages_Enterprise.jpg](r_figures/Climate_Enterprise_-_Oregon_and_Weather_averages_Enterprise.jpg)\n",
      "![ele_prcp.png](r_figures/ele_prcp.png)\n",
      "![ele_snow.png](r_figures/ele_snow.png)\n",
      "![ele_snwd.png](r_figures/ele_snwd.png)\n",
      "![ele_temp.png](r_figures/ele_temp.png)\n",
      "![long_prcp.png](r_figures/long_prcp.png)\n",
      "![long_snow.png](r_figures/long_snow.png)\n",
      "![long_snwd.png](r_figures/long_snwd.png)\n",
      "![long_temp.png](r_figures/long_temp.png)\n",
      "![Map of Average snow depth.jpg](r_figures/Map of Average snow depth.jpg)\n",
      "![mean_snow_snwd.png](r_figures/mean_snow_snwd.png)\n",
      "![mean_tobs.png](r_figures/mean_tobs.png)\n",
      "![percipitation.png](r_figures/percipitation.png)\n",
      "![PRCP.png](r_figures/PRCP.png)\n",
      "![SNOW.png](r_figures/SNOW.png)\n",
      "![SNWD_coeff_1_CDF.png](r_figures/SNWD_coeff_1_CDF.png)\n",
      "![SNWD_coeff_2_CDF.png](r_figures/SNWD_coeff_2_CDF.png)\n",
      "![SNWD_coeff_3_CDF.png](r_figures/SNWD_coeff_3_CDF.png)\n",
      "![SNWD_grid_neg_coeff1.png](r_figures/SNWD_grid_neg_coeff1.png)\n",
      "![SNWD_grid_neg_coeff2.png](r_figures/SNWD_grid_neg_coeff2.png)\n",
      "![SNWD_grid_neg_coeff3.png](r_figures/SNWD_grid_neg_coeff3.png)\n",
      "![SNWD_grid_Pos_coeff1.png](r_figures/SNWD_grid_Pos_coeff1.png)\n",
      "![SNWD_grid_Pos_coeff2.png](r_figures/SNWD_grid_Pos_coeff2.png)\n",
      "![SNWD_grid_Pos_coeff3.png](r_figures/SNWD_grid_Pos_coeff3.png)\n",
      "![SNWD_mean_eigs.png](r_figures/SNWD_mean_eigs.png)\n",
      "![SNWD.png](r_figures/SNWD.png)\n",
      "![SNWD_res_1_CDF.png](r_figures/SNWD_res_1_CDF.png)\n",
      "![SNWD_res_2_CDF.png](r_figures/SNWD_res_2_CDF.png)\n",
      "![SNWD_res_3_CDF.png](r_figures/SNWD_res_3_CDF.png)\n",
      "![TMIN,TMAX.png](r_figures/TMIN,TMAX.png)\n",
      "![TOBS.png](r_figures/TOBS.png)\n",
      "![VarExplained1.png](r_figures/VarExplained1.png)\n",
      "![VarExplained2.png](r_figures/VarExplained2.png)\n"
     ]
    }
   ],
   "source": [
    "L=!ls r_figures/\n",
    "for l in L:\n",
    "    print \"![%s](r_figures/%s)\"%(l,l)"
   ]
  },
  {
   "cell_type": "code",
   "execution_count": 4,
   "metadata": {
    "run_control": {
     "frozen": false,
     "read_only": false
    }
   },
   "outputs": [
    {
     "name": "stdout",
     "output_type": "stream",
     "text": [
      "Couldn't get a file descriptor referring to the console\r\n"
     ]
    }
   ],
   "source": [
    "!open r_figures/TMIN,TMAX.png"
   ]
  },
  {
   "cell_type": "markdown",
   "metadata": {
    "run_control": {
     "frozen": false,
     "read_only": false
    }
   },
   "source": [
    "# US North-West Weather Analysis\n",
    "\n",
    "This is a report on the historical analysis of weather patterns in an area that approximately lies at the intersection of the states of Oregon, Washington and Idaho in the North-Western part of the United States. The area under consideration is shown on the map below.\n",
    "\n",
    "<p><img alt=\"map.png\" src=\"r_figures/map.png\" /></p>\n",
    "\n",
    "\n",
    "The data we will use here comes from [NOAA](https://www.ncdc.noaa.gov/). Specifically, it was downloaded from This [FTP site](ftp://ftp.ncdc.noaa.gov/pub/data/ghcn/daily/).\n",
    "\n",
    "We focused on six measurements:\n",
    "* **TMIN, TMAX:** the daily minimum and maximum temperature.\n",
    "* **TOBS:** The average temperature for each day.\n",
    "* **PRCP:** Daily Percipitation (in mm)\n",
    "* **SNOW:** Daily snowfall (in mm)\n",
    "* **SNWD:** The depth of accumulated snow.\n",
    "\n",
    "We have measurements all round the year (measurements can be missing for some days) for many different years and many different stations. However, not all stations have measurements for all years under consideration i.e. there are a lot of 'Nan' entries. For each station, we also have its geographical location - the latitude, longitude and elevation.\n",
    "\n",
    "## Sanity-check: comparison with outside sources\n",
    "\n",
    "<p>We start by comparing some of the general statistics with graphs that we obtained from a site called <a href=\"http://www.usclimatedata.com/climate/enterprise/oregon/united-states/usor0470\" target=\"_blank\">US Climate Data</a> The graph below shows the daily minimum and maximum temperatures for each month, as well as the total precipitation for each month.</p>\n",
    "\n",
    "<p>&nbsp;</p>\n",
    "\n",
    "<p><img alt=\"Climate_Enterprise_-_Oregon_and_Weather_averages_Enterprise.jpg\" src=\"r_figures/Climate_Enterprise_-_Oregon_and_Weather_averages_Enterprise.jpg\" /></p>\n",
    "\n",
    "<p>&nbsp;</p>\n",
    "\n",
    "<p>We see that the min and max daily&nbsp;temperature agree with the ones we got from our data, once we translate Fahrenheit to Centigrade.</p>\n",
    "\n",
    "<p>&nbsp;</p>\n",
    "\n",
    "<p><img alt=\"TMIN,TMAX.png\" src=\"r_figures/TMIN,TMAX.png\" style=\"height:300px; width:800px\" /></p>\n",
    "\n",
    "<p>To compare the precipitation&nbsp;we need to translate millimeter/day to inches/month. According to our analysis the average rainfall is 3.00 mm/day which translates to about 3.55 Inches&nbsp;per month. According to US-Climate-Data the average rainfall is closer to 4 inch per month. However, there is clear agreement that average precipitation&nbsp;is close to a constant throughout the year</p>\n",
    "\n",
    "<p>&nbsp;<img alt=\"PRCP.png\" src=\"r_figures/PRCP.png\" style=\"height:450px; width:600px\" /></p>\n",
    "\n",
    "## Overall trends\n",
    "\n",
    "<p>We presented the average precipitation, TMIN and TMAX trends in the preceding subsection. Shown below are the average trends of TOBS, SNOW and SNWD. As expected, we see that like TMIN and TMAX, TOBS also peaks during summer. SNWD and SNOW follow similar trends. During summer, both go to zero. Also, the snow depth measurement is just a smoothened version of snow measurement.</p>\n",
    "\n",
    "<p><img alt=\"mean_tobs.png\" src=\"r_figures/mean_tobs.png\" /></p>\n",
    "<p><img alt=\"mean_snow_snwd.png\" src=\"r_figures/mean_snow_snwd.png\" style=\"height:300px; width:800px\" /></p>\n",
    "\n",
    "\n"
   ]
  },
  {
   "cell_type": "markdown",
   "metadata": {},
   "source": [
    "# Geographical variation of weather\n",
    "\n",
    "It is an interesting exercise to understand how the weather changes with geography. In particular, we are interested in knowing how weather changes with the elevation and longitude. We have omitted latitude in this analysis because, among the stations considered in this report the latitude variation is not much (46.2325 N to 47.3111 N)."
   ]
  },
  {
   "cell_type": "markdown",
   "metadata": {},
   "source": [
    "## How does weather change with elevation?\n",
    "\n",
    "In the data considered for this report the elevation of the station varies between 99 and 1862.3 Feet. The average elevation is 605.12. To make a preliminary enquiry into this question, we consider the weather pattern only for one particular year. We choose this year to be 1971 because we have maximum overall number of measurements for it. Shown below are plots of different annual avg. measurements in 1971 vs elevation.\n",
    "\n",
    "<table><tr><td><img alt=\"ele_prcp.png\" src=\"r_figures/ele_prcp.png\"></td><td><img alt=\"ele_snow.png\" src=\"r_figures/ele_snow.png\"></td></tr></table>\n",
    "\n",
    "<table><tr><td><img alt=\"ele_snwd.png\" src=\"r_figures/ele_snwd.png\"></td><td><img alt=\"ele_temp.png\" src=\"r_figures/ele_temp.png\"></td></tr></table>\n",
    "\n",
    "Visually, we can make the following observations about different weather measurements:\n",
    "\n",
    "* Rainfall: As elevation increases, precipitation increases.\n",
    "* Snowfall: As elevation increases, snowfall increases. Opposed to our intuition, the snow depth doesnt seem to increase much. Also, compared to rainfall, the snowfall at locations with similar altitudes is more likely to be similar.\n",
    "* Temperature: As elevation increases, the temperature (TMIN, TMAX, TOBS) decreases.\n",
    "\n",
    "These observations are in agreement with our intuition.\n",
    "\n",
    "To further probe this, we find out the correlation between elevation and the eigen-decomposition coefficients for SNOW and TOBS.\n",
    "\n",
    "The correlation of elevation with the coeff_1, coeff_2, coeff_3 and mean of SNOW is 0.515821830973 0.02552 -0.1759 and 0.6075 respectively. This indicates that there indeed is a relation between snowfall and elevation as indicated in our scatter plots.\n",
    "\n",
    "The correlation of elevation with the mean, coeff_1, coeff_2, coeff_3, mean of TOBS is -0.393, -0.333, 0.2827 -0.4404. The negative correlation between mean temperature and elevation is again predicted from our scatter plot. \n"
   ]
  },
  {
   "cell_type": "markdown",
   "metadata": {},
   "source": [
    "## How does weather change as we move away from the coast?\n",
    "\n",
    "In the data considered for this report the longitude of the station varies between -119.3667 and -115.8. To make a preliminary enquiry into this question, we consider the weather pattern only for one particular year. We choose this year to be 1971 because we have maximum overall number of measurements for it. Shown below are plots of different annual avg. measurements in 1971 vs longitude.\n",
    "\n",
    "<table><tr><td><img alt=\"long_prcp.png\" src=\"r_figures/long_prcp.png\"></td><td><img alt=\"long_snow.png\" src=\"r_figures/long_snow.png\"></td></tr></table>\n",
    "\n",
    "<table><tr><td><img alt=\"long_snwd.png\" src=\"r_figures/long_snwd.png\"></td><td><img alt=\"long_temp.png\" src=\"r_figures/long_temp.png\"></td></tr></table>\n",
    "\n",
    "Visually, we can make the following observations about different weather measurements:\n",
    "\n",
    "* Rainfall: As we move east away from the coast, precipitation increases.\n",
    "* Snowfall: As we move east away from the coast, snowfall and snow depth increase.\n",
    "* Temperature: Temperature does not change much with longitude. This is expected. Temperature normally changes with latitude. We also see that the temperature for stations with similar longitudes are scattered all over the place.\n",
    "\n",
    "These observations are in agreement with our intuition.\n"
   ]
  },
  {
   "cell_type": "markdown",
   "metadata": {
    "run_control": {
     "frozen": false,
     "read_only": false
    }
   },
   "source": [
    "## PCA analysis\n",
    "\n",
    "For each of the six measurement, we compute the percentage of the variance explained as a function of the number of eigen-vectors used.\n",
    "\n",
    "### Percentage of variance explained.\n",
    "![VarExplained1.png](r_figures/VarExplained1.png)\n",
    "We see that the top 5 eigen-vectors explain 32% of variance for TMIN, 52% for TOBS and 32% for TMAX.\n",
    "\n",
    "We conclude that of the three, TOBS is best explained by the top 5 eigenvectors. This is especially true for the first eigen-vector which, by itself, explains 44% of the variance.\n",
    "\n",
    "![VarExplained2.png](r_figures/VarExplained2.png)\n",
    "\n",
    "The top 5 eigenvectors explain 17% of the variance for PRCP and 12.8% for SNOW. Both are low values. On the other hand the top 5 eigenvectors explain 92% of the variance for SNWD. This means that these top 5 eigenvectors capture most of the variation in the snow signals. Based on that we will dig deeper into the PCA analysis for snow-depth.\n",
    "\n",
    "It makes sense that SNWD would be less noisy than SNOW. That is because SNWD is a decaying integral of SNOW and, as such, varies less between days and between the same date on diffferent years."
   ]
  },
  {
   "cell_type": "markdown",
   "metadata": {
    "run_control": {
     "frozen": false,
     "read_only": false
    }
   },
   "source": [
    "## Analysis of snow depth\n",
    "\n",
    "We choose to analyze the eigen-decomposition for snow-depth because the first 4 eigen-vectors explain 90% of the variance.\n",
    "\n",
    "First, we graph the mean and the top 3 eigen-vectors.\n",
    "\n",
    "We observe that the snow season is from mid-november to the end of march, where the middle of February marks the peak of the snow-depth.\n",
    "![SNWD_mean_eigs.png](r_figures/SNWD_mean_eigs.png)"
   ]
  },
  {
   "cell_type": "markdown",
   "metadata": {
    "run_control": {
     "frozen": false,
     "read_only": false
    }
   },
   "source": [
    "Next we interpret the eigen-functions. The first eigen-function (eig1) is a scaled, negated version of the mean. The main difference is that the eigen-function is close to zero during october-december while the mean is not.  The interpretation of this shape is that eig1 represents the overall amount of snow above/below the mean, but without changing the distribution over time.\n",
    "\n",
    "**eig2 and eig3** are similar in the following way. They all oscilate between positive and negative values. In other words, they correspond to changing the distribution of the snow depth over the winter months, but they don't change the total (much).\n",
    "\n",
    "They can be interpreted as follows:\n",
    "* **eig2:** more snow in Jan - mid Feb, less snow in mid Feb-March.\n",
    "* **eig3:** (slightly) less snow in jan-march, more snow in Nov-Dec."
   ]
  },
  {
   "cell_type": "markdown",
   "metadata": {},
   "source": [
    "### Best and the worst residuals\n",
    "\n",
    "Here we process all the instances of SNWD measurements in the dataframe to find the best and the worst residuals.\n",
    "\n",
    "The best residuals considering top 3 eigenvectors are shown below. These correspond to the best reconstructions.\n",
    "\n",
    "<p><img alt=\"res_best_SNWD.png\" src=\"r_figures/res_best_SNWD.png\" /></p>\n",
    "\n",
    "The worst residuals considering top 3 eigenvectors are shown below. These correspond to the worst reconstructions.\n",
    "\n",
    "<p><img alt=\"res_worst_SNWD.png\" src=\"r_figures/res_worst_SNWD.png\" /></p>\n"
   ]
  },
  {
   "cell_type": "markdown",
   "metadata": {
    "run_control": {
     "frozen": false,
     "read_only": false
    }
   },
   "source": [
    "### Examples of reconstructions\n",
    "\n",
    "#### Coeff1\n",
    "Coeff1: most positive\n",
    "![SNWD_grid_Pos_coeff1.png](r_figures/SNWD_grid_Pos_coeff1.png)\n",
    "Coeff1: most negative\n",
    "![SNWD_grid_neg_coeff1.png](r_figures/SNWD_grid_neg_coeff1.png)\n",
    "Large positive values of coeff1 correspond to more than average snow. Low values correspond to less than average snow.\n",
    "\n",
    "#### Coeff2\n",
    "Coeff2: most positive\n",
    "![SNWD_grid_Pos_coeff2.png](r_figures/SNWD_grid_Pos_coeff2.png)\n",
    "Coeff2: most negative\n",
    "![SNWD_grid_neg_coeff2.png](r_figures/SNWD_grid_neg_coeff2.png)\n",
    "\n",
    "Large positive values of coeff2 correspond to a late snow season (most of the snowfall is after mid feb. Negative values for coeff2 correspond to an early snow season (most of the snow is before mid-feb.\n",
    "#### Coeff3\n",
    "Coeff3: most positive\n",
    "![SNWD_grid_Pos_coeff3.png](r_figures/SNWD_grid_Pos_coeff3.png)\n",
    "Coeff3: most negative\n",
    "![SNWD_grid_neg_coeff3.png](r_figures/SNWD_grid_neg_coeff3.png)\n",
    "\n",
    "Large positive values of coeff2 correspond to a snow season with two spikes: one in the start of january, the other at the end of february. Negative values of coeff3 correspond to a season with a single peak at the end of Jan.\n",
    "\n",
    "### How good are the top eigenvectors for SNWD?\n",
    "\n",
    "We answer this question using the cumulative distribution function for the top 3 coefficients and the corresponding residuals.\n",
    "\n",
    "<table><tr><td><img alt=\"cdf_c1.png\" src=\"r_figures/cdf_c1.png\"></td><td><img alt=\"cdf_res1.png\" src=\"r_figures/cdf_res1.png\"></td></tr></table>\n",
    "\n",
    "<table><tr><td><img alt=\"cdf_c2.png\" src=\"r_figures/cdf_c2.png\"></td><td><img alt=\"cdf_res2.png\" src=\"r_figures/cdf_res2.png\"></td></tr></table>\n",
    "\n",
    "<table><tr><td><img alt=\"cdf_c3.png\" src=\"r_figures/cdf_c3.png\"></td><td><img alt=\"cdf_res3.png\" src=\"r_figures/cdf_res3.png\"></td></tr></table>\n",
    "\n",
    "### Does Snow Depth vary more spatially or temporally?\n",
    "\n",
    "We analyze whether the snow depth varies more across stations (geographically) or across days (temporally) by finding the RMS before and after subtracting mean-by-stations and mean-by-days.\n",
    "\n",
    "*  total RMS                   =  891.646509155\n",
    "* RMS removing mean-by-station=  860.293896216\n",
    "* RMS removing mean-by-year   =  497.017351854\n",
    "\n",
    "This means that the geographical variation is less than variation across days.\n",
    "\n",
    "\n"
   ]
  },
  {
   "cell_type": "markdown",
   "metadata": {
    "run_control": {
     "frozen": false,
     "read_only": false
    }
   },
   "source": []
  },
  {
   "cell_type": "markdown",
   "metadata": {},
   "source": [
    "## Analysis of correlation between percipitation across locations\n",
    "\n",
    "We analyze the correlation of precipitation across different locations. To do this we first concatenate all the precipitation measurements that we have for any station so that we have one long vector for every station. We thus have 43800 dimensional vectors corresponding to each of 94 stations in the geographical area under consideration.\n",
    "\n",
    "First we analyze whether the precipitation varies more across stations (geographically) or across days (temporally) by finding the RMS before and after subtracting mean-by-stations and mean-by-days.\n",
    "\n",
    "* total RMS                   =  40.3787750039\n",
    "* RMS removing mean-by-station=  37.1744280838\n",
    "* RMS removing mean-by-day   =  27.5736950568\n",
    "\n",
    "This means that the geographical variation is less than variation across days.\n",
    "\n",
    "Next, the CDF of daily rainfall is shown below. We see that 98 % of the instances have rainfall below 100 mm/day.\n",
    "\n",
    "<p><img alt=\"cdf_dailyrain.png\" src=\"r_figures/cdf_dailyrain.png\" /></p>\n",
    "\n",
    "An important implication of this is that it is likely to be hard to find correlations between the **amount** of rain on the same day in different stations. Because amounts of rain vary a lot between even close locations. It is more reasonable to try to compare whether or not it rained on the same day in different stations.\n",
    "\n",
    "### Definition of statistical test\n",
    "\n",
    "We want to find a statistical test for rejecting the null hypothesis that says that the rainfall in the two locations is independent.\n",
    "\n",
    "Using the inner product is too noisy, because you multiply the rainfall on the same day in two locations and that product can be very large - leading to a large variance and poor ability to discriminate.\n",
    "\n",
    "An alternative is to ignore the amount of rain, and just ask whether it rained in both locations. We can then compute the probability associated with the number of overlaps under the null hypothesis.\n",
    "\n",
    "Fix two stations. We restrict our attention to the days for which we have measurements for both stations, and define the following notation:\n",
    "* $m$ : the total number of days (for which we have measurements for both stations).\n",
    "* $n_1$ : the number of days that it rained on station 1\n",
    "* $n_2$ : the number of days that it rained on station 2\n",
    "* $l$ : the number of days that it rained on both stations.\n",
    "\n",
    "We want to calculate the probability that the number of overlap days is $l$ given $m,n_1,n_2$.\n",
    "\n",
    "The answer is:\n",
    "$$\n",
    "P = {m \\choose l,n_1-l,n_2-l,m-n_1-n_2+l} /{m \\choose n_1}{m \\choose n_2}\n",
    "$$\n",
    "\n",
    "Where\n",
    "$$\n",
    "{m \\choose l,n_1-l,n_2-l,m-n_1-n_2+l} = \\frac{m!}{l! (n_1-l)! (n_2-l)! (m-n_1-n_2+l)!}\n",
    "$$\n",
    "\n",
    "We use the fact that $\\Gamma(n+1) = n!$ and denote $G(n) \\doteq \\log \\Gamma(n+1)$\n",
    "$$\n",
    "\\log P = \\left[G(m) - G(l) -G(n_1-l) -G(n_2-l) -G(m-n_1-n_2+l) \\right] - \n",
    "\\left[G(m)-G(n_1)-G(m-n_1)\\right] - \\left[G(m)-G(n_2)-G(m-n_2)\\right]\n",
    "$$\n",
    "Which slightly simplifies to \n",
    "$$\n",
    "\\log P = -G(l) -G(n_1-l) -G(n_2-l) -G(m-n_1-n_2+l) - G(m)+G(n_1)+G(m-n_1) +G(n_2)+G(m-n_2)\n",
    "$$\n",
    "\n",
    "The log probability scales with $m$ the length of the overlap. So to get a per-day significance we consider $\n",
    "\\frac{1}{m} \\log P $\n",
    "\n",
    "The significance histogram is shown below. It shows that most of the station pairs have a correlation significance near 0.1.\n",
    "\n",
    "<p><img alt=\"significance_hist.png\" src=\"r_figures/significance_hist.png\" /></p>\n"
   ]
  },
  {
   "cell_type": "markdown",
   "metadata": {
    "run_control": {
     "frozen": false,
     "read_only": false
    }
   },
   "source": [
    "### correlations matrix\n",
    "\n",
    "The correlation matrix for the rainfall at two stations is shown below. Each pixel-value corresponds to the p-norm value between the two pairs of stations. We see that there is a high correlation between the first few station pairs. The dark diagonal indicates the obvious fact that each station will have a high correlation with itself. \n",
    "\n",
    "The matrix below shows, for each pair of stations, the normalized log probability that the overlap in rain days is random.\n",
    "\n",
    "We see immediately the first 15 stations are highly correlated with each other. \n",
    "\n",
    "<p><img alt=\"corr_mat.png\" src=\"r_figures/corr_mat.png\" /></p>\n",
    "\n",
    "\n",
    "### PCA analysis\n",
    "\n",
    "To find more correlations we use SVD (the term PCA is reserved for decomposition of the covariance matrix). The figure below shows that the top 10 eigenvectors explain about 80% of the square magnitude of the matrix.\n",
    "\n",
    "<p><img alt=\"corr_var_explained.png\" src=\"r_figures/corr_var_explained.png\" /></p>\n",
    "\n",
    "When we reorder the rows and columns of the matrix using one of the eigenvectors, the grouping of the \n",
    "stations becomes more evident. For example, the bottom right stations in the second and fourth matrix are correlated. The first 15 stations of the first matrix are correlated. In the third matrix, the stations 20-38 are correlated.\n",
    "\n",
    "This type of organization is called **Block Diagonal** and it reveals important structure such as grouping or clustering.\n",
    "\n",
    "<p><img alt=\"corr_pca_mat.png\" src=\"r_figures/corr_pca_mat.png\" /></p>\n",
    "\n",
    "### Geographical distribution of top 3 coefficients\n",
    "\n",
    "The map below shows the geographical distribution of coeff1\n",
    "<p><img alt=\"map.png\" src=\"r_figures/map.png\" /></p>\n",
    "\n",
    "The map below shows the geographical distribution of coeff2\n",
    "<p><img alt=\"map_c2.png\" src=\"r_figures/map_c2.png\" /></p>\n",
    "\n",
    "The map below shows the geographical distribution of coeff3\n",
    "<p><img alt=\"map_c3.png\" src=\"r_figures/map_c3.png\" /></p>\n",
    "\n",
    "Next we analyze how the top 3 coefficients vary with elevation. We have seen previously that the first eigenvector is largely a negative of the mean. This implies that coeff_1 should decrease and become negative where there is higher snow. The plot of coeff_1 given below then makes intuitive sense because higher elevations are correlated with higher rainfall. That must be why coeff_1 becomes highly negative for higher elevations. The reverse of the argument will hold for coeff 2 to a certain extent and thus we see a slight increase in its value with increasing elevation. \n",
    "\n",
    "\n",
    "\n",
    "<table><tr><td><img alt=\"ele_c1.png\" src=\"r_figures/ele_c1.png\"></td><td><img alt=\"ele_c2.png\" src=\"r_figures/ele_c2.png\"></td></tr></table>\n",
    "<p><img alt=\"ele_c3.png\" src=\"r_figures/ele_c3.png\" /></p>\n"
   ]
  }
 ],
 "metadata": {
  "anaconda-cloud": {},
  "kernelspec": {
   "display_name": "Python [conda root]",
   "language": "python",
   "name": "conda-root-py"
  },
  "language_info": {
   "codemirror_mode": {
    "name": "ipython",
    "version": 2
   },
   "file_extension": ".py",
   "mimetype": "text/x-python",
   "name": "python",
   "nbconvert_exporter": "python",
   "pygments_lexer": "ipython2",
   "version": "2.7.12"
  },
  "toc": {
   "colors": {
    "hover_highlight": "#DAA520",
    "running_highlight": "#FF0000",
    "selected_highlight": "#FFD700"
   },
   "moveMenuLeft": true,
   "nav_menu": {
    "height": "12px",
    "width": "252px"
   },
   "navigate_menu": true,
   "number_sections": true,
   "sideBar": true,
   "threshold": 4,
   "toc_cell": false,
   "toc_section_display": "block",
   "toc_window_display": false
  }
 },
 "nbformat": 4,
 "nbformat_minor": 2
}
