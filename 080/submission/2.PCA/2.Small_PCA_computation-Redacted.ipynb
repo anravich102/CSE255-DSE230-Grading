{
 "cells": [
  {
   "cell_type": "markdown",
   "metadata": {
    "deletable": true,
    "editable": true,
    "run_control": {
     "frozen": false,
     "read_only": false
    },
    "slideshow": {
     "slide_type": "slide"
    }
   },
   "source": [
    "### Computing PCA using RDDs"
   ]
  },
  {
   "cell_type": "markdown",
   "metadata": {
    "deletable": true,
    "editable": true,
    "run_control": {
     "frozen": false,
     "read_only": false
    },
    "slideshow": {
     "slide_type": "subslide"
    }
   },
   "source": [
    "###  PCA\n",
    "\n",
    "The vectors that we want to analyze have length, or dimension, of 365, corresponding to the number of \n",
    "days in a year.\n",
    "\n",
    "We want to perform [Principle component analysis (PCA)](https://en.wikipedia.org/wiki/Principal_component_analysis)\n",
    "on these vectors. There are two steps to this process:\n",
    "\n",
    "1. Computing the covariance matrix: this is a  simple computation. However, it takes a long time to compute and it benefits from using an RDD because it involves all of the input vectors.\n",
    "2. Computing the eigenvector decomposition. this is a more complex computation, but it takes a fraction of a second because the size to the covariance matrix is $365 \\times 365$, which is quite small. We do it on the head node usin `linalg`"
   ]
  },
  {
   "cell_type": "markdown",
   "metadata": {
    "deletable": true,
    "editable": true,
    "run_control": {
     "frozen": false,
     "read_only": false
    },
    "slideshow": {
     "slide_type": "slide"
    }
   },
   "source": [
    "### Computing the covariance matrix\n",
    "Suppose that the data vectors are the column vectors denoted $x$ then the covariance matrix is defined to be\n",
    "$$\n",
    "E(x x^T)-E(x)E(x)^T\n",
    "$$\n",
    "\n",
    "Where $x x^T$ is the **outer product** of $x$ with itself.\n",
    "\n",
    "If the data that we have is $x_1,x_2,x_n$ then the estimates we use are:\n",
    "$$\n",
    "\\hat{E}(x x^T) = \\frac{1}{n} \\sum_{i=1}^n x_i x_i^T,\\;\\;\\;\\;\\;\n",
    "\\hat{E}(x) = \\frac{1}{n} \\sum_{i=1}^n x_i\n",
    "$$"
   ]
  },
  {
   "cell_type": "markdown",
   "metadata": {
    "deletable": true,
    "editable": true,
    "run_control": {
     "frozen": false,
     "read_only": false
    },
    "slideshow": {
     "slide_type": "slide"
    }
   },
   "source": [
    "### `nan`s in arithmetic operations\n",
    "* We store all of the measurements as single `bytearray` in a single column. Instead of using 365 columns.\n",
    "* Why?\n",
    "  1. Because serializing and desirializing is faster that way.\n",
    "  1. Because numpy treats `nan` entries correctly:\n",
    "      * In `numpy.nansum` `5+nan=5` while in dataframes `5+nan=nan`"
   ]
  },
  {
   "cell_type": "code",
   "execution_count": 1,
   "metadata": {
    "collapsed": false,
    "deletable": true,
    "editable": true,
    "run_control": {
     "frozen": false,
     "read_only": false
    },
    "slideshow": {
     "slide_type": "subslide"
    }
   },
   "outputs": [
    {
     "name": "stdout",
     "output_type": "stream",
     "text": [
      "mean of [1 1 1 2] = 1.25\n",
      "nanmean of [1 1 1 2] = 1.25\n",
      "mean of [  1.   1.  nan   2.] = nan\n",
      "nanmean of [  1.   1.  nan   2.] = 1.33333333333\n"
     ]
    }
   ],
   "source": [
    "import numpy as np\n",
    "X=np.array([1,1,1,2])\n",
    "print 'mean of',X,'=',np.mean(X)\n",
    "print 'nanmean of',X,'=',np.nanmean(X)\n",
    "X=np.array([1,1,np.NaN,2])\n",
    "print 'mean of',X,'=',np.mean(X)\n",
    "print 'nanmean of',X,'=',np.nanmean(X)"
   ]
  },
  {
   "cell_type": "markdown",
   "metadata": {
    "deletable": true,
    "editable": true,
    "run_control": {
     "frozen": false,
     "read_only": false
    },
    "slideshow": {
     "slide_type": "subslide"
    }
   },
   "source": [
    "#### When should you not use `np.nanmean` ?\n",
    "Using `n.nanmean` is equivalent to assuming that choice of which elements to remove is independent of the values of the elements. \n",
    "* Example of bad case: suppose the larger elements have a higher probability of being `nan`. In that case `np.nanmean` will under-estimate the mean"
   ]
  },
  {
   "cell_type": "markdown",
   "metadata": {
    "deletable": true,
    "editable": true,
    "run_control": {
     "frozen": false,
     "read_only": false
    },
    "slideshow": {
     "slide_type": "subslide"
    }
   },
   "source": [
    "#### Computing Cov matrix on vectors with NaNs\n",
    "As it happens, we often get vectors $x$ in which some, but not all, of the entries are `nan`. \n",
    "Suppose that we want to compute the mean of the elements of $x$. If we use `np.mean` we will get the result `nan`. A useful alternative is to use `np.nanmean` which removes the `nan` elements and takes the mean of the rest."
   ]
  },
  {
   "cell_type": "markdown",
   "metadata": {
    "deletable": true,
    "editable": true,
    "run_control": {
     "frozen": false,
     "read_only": false
    },
    "slideshow": {
     "slide_type": "subslide"
    }
   },
   "source": [
    "#### Computing the covariance  when there are `nan`s\n",
    "The covariance is a mean of outer products.\n",
    "\n",
    "If the data that we have is $x_1,x_2,x_n$ then the estimates we use are:\n",
    "$$\n",
    "\\hat{E}(x x^T) = \\frac{1}{n} \\sum_{i=1}^n x_i x_i^T,\\;\\;\\;\\;\\;\n",
    "\\hat{E}(x) = \\frac{1}{n} \\sum_{i=1}^n x_i\n",
    "$$"
   ]
  },
  {
   "cell_type": "code",
   "execution_count": 2,
   "metadata": {
    "collapsed": false,
    "deletable": true,
    "editable": true,
    "run_control": {
     "frozen": false,
     "read_only": false
    },
    "slideshow": {
     "slide_type": "subslide"
    }
   },
   "outputs": [
    {
     "data": {
      "text/plain": [
       "array([[[  1.,  nan,   3.,   4.,   5.],\n",
       "        [ nan,  nan,  nan,  nan,  nan],\n",
       "        [  3.,  nan,   9.,  12.,  15.],\n",
       "        [  4.,  nan,  12.,  16.,  20.],\n",
       "        [  5.,  nan,  15.,  20.,  25.]],\n",
       "\n",
       "       [[  4.,   6.,   8.,  nan,  12.],\n",
       "        [  6.,   9.,  12.,  nan,  18.],\n",
       "        [  8.,  12.,  16.,  nan,  24.],\n",
       "        [ nan,  nan,  nan,  nan,  nan],\n",
       "        [ 12.,  18.,  24.,  nan,  36.]]])"
      ]
     },
     "execution_count": 2,
     "metadata": {},
     "output_type": "execute_result"
    }
   ],
   "source": [
    "x1=np.array([1,np.NaN,3,4,5])\n",
    "x2=np.array([2,3,4,np.NaN,6])\n",
    "stacked=np.array([np.outer(x1,x1),np.outer(x2,x2)])\n",
    "stacked"
   ]
  },
  {
   "cell_type": "code",
   "execution_count": 3,
   "metadata": {
    "collapsed": false,
    "deletable": true,
    "editable": true,
    "run_control": {
     "frozen": false,
     "read_only": false
    },
    "slideshow": {
     "slide_type": "subslide"
    }
   },
   "outputs": [
    {
     "name": "stderr",
     "output_type": "stream",
     "text": [
      "/home/vaibhav/anaconda2/lib/python2.7/site-packages/numpy/lib/nanfunctions.py:703: RuntimeWarning: Mean of empty slice\n",
      "  warnings.warn(\"Mean of empty slice\", RuntimeWarning)\n"
     ]
    },
    {
     "data": {
      "text/plain": [
       "array([[  2.5,   6. ,   5.5,   4. ,   8.5],\n",
       "       [  6. ,   9. ,  12. ,   nan,  18. ],\n",
       "       [  5.5,  12. ,  12.5,  12. ,  19.5],\n",
       "       [  4. ,   nan,  12. ,  16. ,  20. ],\n",
       "       [  8.5,  18. ,  19.5,  20. ,  30.5]])"
      ]
     },
     "execution_count": 3,
     "metadata": {},
     "output_type": "execute_result"
    }
   ],
   "source": [
    "np.nanmean(stacked,axis=0)"
   ]
  },
  {
   "cell_type": "markdown",
   "metadata": {
    "deletable": true,
    "editable": true,
    "run_control": {
     "frozen": false,
     "read_only": false
    },
    "slideshow": {
     "slide_type": "slide"
    }
   },
   "source": [
    "### Loading Data into Dataframe"
   ]
  },
  {
   "cell_type": "code",
   "execution_count": 4,
   "metadata": {
    "collapsed": true,
    "deletable": true,
    "editable": true,
    "run_control": {
     "frozen": false,
     "read_only": false
    },
    "slideshow": {
     "slide_type": "skip"
    }
   },
   "outputs": [],
   "source": [
    "import findspark\n",
    "findspark.init()\n",
    "\n",
    "from pyspark import SparkContext\n",
    "#sc.stop()\n",
    "## add after creating spark_PCA.py\n",
    "sc = SparkContext(master=\"local[3]\",pyFiles=['lib/numpy_pack.py','lib/computeStats.py']) #,'lib/spark_PCA.py'\n",
    "\n",
    "from pyspark import SparkContext\n",
    "from pyspark.sql import *\n",
    "sqlContext = SQLContext(sc)"
   ]
  },
  {
   "cell_type": "code",
   "execution_count": 5,
   "metadata": {
    "collapsed": false,
    "deletable": true,
    "editable": true,
    "run_control": {
     "frozen": false,
     "read_only": false
    },
    "slideshow": {
     "slide_type": "skip"
    }
   },
   "outputs": [],
   "source": [
    "import sys\n",
    "sys.path.append('./lib')\n",
    "\n",
    "import numpy as np\n",
    "from numpy_pack import packArray,unpackArray\n",
    "# add after creating spark_PCA.py\n",
    "# from spark_PCA import computeCov\n",
    "from computeStats import computeOverAllDist, STAT_Descriptions"
   ]
  },
  {
   "cell_type": "markdown",
   "metadata": {
    "deletable": true,
    "editable": true,
    "run_control": {
     "frozen": false,
     "read_only": false
    },
    "slideshow": {
     "slide_type": "slide"
    }
   },
   "source": [
    "### Climate data\n",
    "\n",
    "The data we will use here comes from [NOAA](https://www.ncdc.noaa.gov/). Specifically, it was downloaded from This [FTP site](ftp://ftp.ncdc.noaa.gov/pub/data/ghcn/daily/).\n",
    "\n",
    "There is a large variety of measurements from all over the world, from 1870 will 2012.\n",
    "in the directory `../../Data/Weather` you will find the following useful files:\n",
    "\n",
    "* data-source.txt: the source of the data\n",
    "* ghcnd-readme.txt: A description of the content and format of the data\n",
    "* ghcnd-stations.txt: A table describing the Meteorological stations.\n",
    "\n"
   ]
  },
  {
   "cell_type": "markdown",
   "metadata": {
    "deletable": true,
    "editable": true,
    "run_control": {
     "frozen": false,
     "read_only": false
    },
    "slideshow": {
     "slide_type": "subslide"
    }
   },
   "source": [
    "### Data cleaning\n",
    "\n",
    "* Most measurements exists only for a tiny fraction of the stations and years. We therefor restrict our use to the following measurements:\n",
    "```python\n",
    "['TMAX', 'SNOW', 'SNWD', 'TMIN', 'PRCP', 'TOBS']\n",
    "```\n",
    "\n",
    "* We consider only measurement-years that have at most 50 `NaN` entries\n",
    "\n",
    "* We consider only measurements in the continential USA\n",
    "\n",
    "* We partition the stations into 256 geographical rectangles, indexed from BBBBBBBB to SSSSSSSS. And each containing about 12,000 station,year pairs."
   ]
  },
  {
   "cell_type": "code",
   "execution_count": 6,
   "metadata": {
    "collapsed": false,
    "deletable": true,
    "editable": true,
    "run_control": {
     "frozen": false,
     "read_only": false
    },
    "scrolled": true,
    "slideshow": {
     "slide_type": "skip"
    }
   },
   "outputs": [
    {
     "name": "stdout",
     "output_type": "stream",
     "text": [
      "../../Data/Weather/US_Weather_SBSBBSSB.csv*\n",
      "rm: cannot remove '../../Data/Weather/US_Weather_SBSBBSSB.csv*': No such file or directory\n",
      "curl https://mas-dse-open.s3.amazonaws.com/Weather/small/US_Weather_SBSBBSSB.csv.gz > ../../Data/Weather/US_Weather_SBSBBSSB.csv.gz\n",
      "  % Total    % Received % Xferd  Average Speed   Time    Time     Time  Current\n",
      "                                 Dload  Upload   Total   Spent    Left  Speed\n",
      "100 3492k  100 3492k    0     0  1431k      0  0:00:02  0:00:02 --:--:-- 1446k\n",
      "-rw-rw-r-- 1 vaibhav vaibhav 3.5M May 13 13:56 ../../Data/Weather/US_Weather_SBSBBSSB.csv.gz\n"
     ]
    }
   ],
   "source": [
    "file_index='SBSBBSSB'\n",
    "filename='US_Weather_%s.csv.gz'%file_index\n",
    "data_dir='../../Data/Weather'\n",
    "del_files='%s/%s*'%(data_dir,filename[:-3])\n",
    "print del_files\n",
    "!rm $del_files\n",
    "command=\"curl https://mas-dse-open.s3.amazonaws.com/Weather/small/%s > %s/%s\"%(filename,data_dir,filename)\n",
    "print command\n",
    "!$command\n",
    "!ls -lh $data_dir/$filename"
   ]
  },
  {
   "cell_type": "code",
   "execution_count": 9,
   "metadata": {
    "collapsed": false,
    "deletable": true,
    "editable": true,
    "run_control": {
     "frozen": false,
     "read_only": false
    },
    "slideshow": {
     "slide_type": "skip"
    }
   },
   "outputs": [
    {
     "name": "stdout",
     "output_type": "stream",
     "text": [
      "-rw-rw-r-- 1 vaibhav vaibhav 13M May 13 13:56 ../../Data/Weather/US_Weather_SBSBBSSB.csv\r\n"
     ]
    }
   ],
   "source": [
    "!gunzip $data_dir/$filename\n",
    "filename=data_dir+'/US_Weather_SBSBBSSB.csv'\n",
    "!ls -lh $filename"
   ]
  },
  {
   "cell_type": "code",
   "execution_count": 10,
   "metadata": {
    "collapsed": false,
    "deletable": true,
    "editable": true,
    "run_control": {
     "frozen": false,
     "read_only": false
    },
    "scrolled": true,
    "slideshow": {
     "slide_type": "subslide"
    }
   },
   "outputs": [
    {
     "data": {
      "text/plain": [
       "12655"
      ]
     },
     "execution_count": 10,
     "metadata": {},
     "output_type": "execute_result"
    }
   ],
   "source": [
    "import pickle\n",
    "List=pickle.load(open(filename,'rb'))\n",
    "len(List)"
   ]
  },
  {
   "cell_type": "code",
   "execution_count": 11,
   "metadata": {
    "collapsed": false,
    "deletable": true,
    "editable": true,
    "run_control": {
     "frozen": false,
     "read_only": false
    },
    "slideshow": {
     "slide_type": "subslide"
    }
   },
   "outputs": [
    {
     "name": "stdout",
     "output_type": "stream",
     "text": [
      "12655\n",
      "+---------+--------+---------+-----------+-----------+------+--------------------+------+--------+\n",
      "|elevation|latitude|longitude|measurement|    station|undefs|              vector|  year|   label|\n",
      "+---------+--------+---------+-----------+-----------+------+--------------------+------+--------+\n",
      "|    124.1| 46.2667|-119.1167|       TMAX|USW00024163|    36|[00 7E 00 7E 00 7...|1998.0|SBSBBSSB|\n",
      "|    124.1| 46.2667|-119.1167|       TMAX|USW00024163|     1|[80 54 30 54 40 C...|1999.0|SBSBBSSB|\n",
      "|    124.1| 46.2667|-119.1167|       TMAX|USW00024163|     3|[30 55 E0 55 80 5...|2000.0|SBSBBSSB|\n",
      "|    124.1| 46.2667|-119.1167|       TMAX|USW00024163|     3|[20 50 80 51 00 4...|2001.0|SBSBBSSB|\n",
      "|    124.1| 46.2667|-119.1167|       TMAX|USW00024163|     1|[E0 50 80 51 30 5...|2002.0|SBSBBSSB|\n",
      "+---------+--------+---------+-----------+-----------+------+--------------------+------+--------+\n",
      "only showing top 5 rows\n",
      "\n"
     ]
    }
   ],
   "source": [
    "df=sqlContext.createDataFrame(List)\n",
    "print df.count()\n",
    "df.show(5)"
   ]
  },
  {
   "cell_type": "code",
   "execution_count": 12,
   "metadata": {
    "collapsed": false,
    "deletable": true,
    "editable": true,
    "run_control": {
     "frozen": false,
     "read_only": false
    },
    "slideshow": {
     "slide_type": "subslide"
    }
   },
   "outputs": [],
   "source": [
    "sqlContext.registerDataFrameAsTable(df,'weather') #using older sqlContext instead of newer (V2.0) sparkSession"
   ]
  },
  {
   "cell_type": "code",
   "execution_count": 13,
   "metadata": {
    "collapsed": false,
    "deletable": true,
    "editable": true,
    "run_control": {
     "frozen": false,
     "read_only": false
    },
    "slideshow": {
     "slide_type": "skip"
    }
   },
   "outputs": [
    {
     "name": "stdout",
     "output_type": "stream",
     "text": [
      "Number of executors= 3\n",
      "took 0.00241804122925 seconds\n"
     ]
    }
   ],
   "source": [
    "from time import time\n",
    "t=time()\n",
    "\n",
    "N=sc.defaultParallelism\n",
    "print 'Number of executors=',N\n",
    "print 'took',time()-t,'seconds'"
   ]
  },
  {
   "cell_type": "markdown",
   "metadata": {
    "deletable": true,
    "editable": true,
    "run_control": {
     "frozen": false,
     "read_only": false
    },
    "slideshow": {
     "slide_type": "slide"
    }
   },
   "source": [
    "### Computing PCA for each measurement"
   ]
  },
  {
   "cell_type": "code",
   "execution_count": 14,
   "metadata": {
    "collapsed": false,
    "deletable": true,
    "editable": true,
    "run_control": {
     "frozen": false,
     "read_only": false
    },
    "slideshow": {
     "slide_type": "fragment"
    }
   },
   "outputs": [],
   "source": [
    "measurements=['TMAX', 'SNOW', 'SNWD', 'TMIN', 'PRCP', 'TOBS']"
   ]
  },
  {
   "cell_type": "markdown",
   "metadata": {
    "deletable": true,
    "editable": true,
    "run_control": {
     "frozen": false,
     "read_only": false
    },
    "slideshow": {
     "slide_type": "subslide"
    }
   },
   "source": [
    "#### Homework\n",
    "The code below computes the covariance matrix using RDDs.\n",
    "The code allows undefined entries and calculates the covariance without bias.\n",
    "\n",
    "Your homework is to complete the missing parts in the code (Marked with `...`) so that it would calculate the covariance correctly."
   ]
  },
  {
   "cell_type": "code",
   "execution_count": 16,
   "metadata": {
    "collapsed": false,
    "deletable": true,
    "editable": true,
    "run_control": {
     "frozen": false,
     "read_only": false
    },
    "slideshow": {
     "slide_type": "subslide"
    }
   },
   "outputs": [],
   "source": [
    "#%%writefile lib/spark_PCA.py #once this works correctly, you should add it to the `lib` directory\n",
    "# and use import\n",
    "\n",
    "import numpy as np\n",
    "from numpy import linalg as LA\n",
    "\n",
    "def outerProduct(X):\n",
    "    \"\"\"Computer outer product and indicate which locations in matrix are undefined\"\"\"\n",
    "    O=np.outer(X,X)\n",
    "    N=1-np.isnan(O)\n",
    "    return (O,N)\n",
    "\n",
    "def sumWithNan(M1,M2):\n",
    "    \"\"\"Add two pairs of (matrix,count)\"\"\"\n",
    "    (X1,N1)=M1\n",
    "    (X2,N2)=M2\n",
    "    N=N1+N2\n",
    "    X=np.nansum(np.dstack((X1,X2)),axis=2)\n",
    "    return (X,N)\n",
    "\n",
    "def computeCov(RDDin):\n",
    "    # input: RDDin is an RDD of np arrays, all of the same length\n",
    "    \n",
    "    # we insert 1 at the beginning of each vector so the calculation also yields the mean vector\n",
    "    RDD=RDDin.map(lambda v:np.array(np.insert(v,0,1),dtype=np.float64)) \n",
    "    #RDD=RDDin.map(lambda v:np.insert(v,0,1)) \n",
    "    \n",
    "    #separating map and reduce does not matter, since Spark uses lazy execution.\n",
    "    OuterRDD=RDD.map(outerProduct)    #<-- do mapping here\n",
    "    (S,N)=OuterRDD.reduce(sumWithNan)  #<-- do reducing here\n",
    "    print type(S), S.shape\n",
    "    print type(N), N.shape\n",
    "    E=S[0,1:]\n",
    "    NE=np.float64(N[0,1:])\n",
    "    print 'shape of E=',E.shape,'shape of NE=',NE.shape\n",
    "    Mean=E/NE\n",
    "    print Mean\n",
    "    O=S[1:,1:]\n",
    "    NO=np.float64(N[1:,1:])\n",
    "    ex = outerProduct(Mean)\n",
    "    Cov=  np.divide(O,NO) - ex[0]# This is the covariance matrix\n",
    "    \n",
    "    # Output also the diagnal which is the variance for each day\n",
    "    Var=np.array([Cov[i,i] for i in range(Cov.shape[0])])\n",
    "    return {'E':E,'NE':NE,'O':O,'NO':NO,'Cov':Cov,'Mean':Mean,'Var':Var}"
   ]
  },
  {
   "cell_type": "code",
   "execution_count": 18,
   "metadata": {
    "collapsed": false,
    "deletable": true,
    "editable": true,
    "run_control": {
     "frozen": false,
     "read_only": false
    },
    "scrolled": true,
    "slideshow": {
     "slide_type": "subslide"
    }
   },
   "outputs": [
    {
     "name": "stdout",
     "output_type": "stream",
     "text": [
      "SELECT * FROM weather\n",
      "\tWHERE measurement = 'TMAX'\n",
      "<type 'numpy.ndarray'> (366, 366)\n",
      "<type 'numpy.ndarray'> (366, 366)\n",
      "shape of E= (365,) shape of NE= (365,)\n",
      "[  20.76136364   18.50365591   15.12755973   15.96165317   18.43755346\n",
      "   19.7022835    23.85406802   24.91709622   25.37644046   26.2156611\n",
      "   25.0293483    25.30253545   25.67133758   31.06771721   31.06855692\n",
      "   28.04885302   29.42338882   30.72493573   28.01614274   27.01197605\n",
      "   28.31109222   28.45711872   32.02292994   33.81016949   34.81643132\n",
      "   31.48380222   31.13518124   32.55888651   33.06255356   36.66264541\n",
      "   34.95151515   36.85946177   38.87397849   43.83461538   48.7182087\n",
      "   47.51465662   48.20008389   49.81711409   50.47333053   49.69475891\n",
      "   52.58673895   55.53419516   57.55866388   56.68021794   55.75755034\n",
      "   58.53607383   62.18014244   63.65284757   62.70674487   66.49165275\n",
      "   69.7406015    73.0740276    72.80584551   74.67208333   76.06419341\n",
      "   74.32609603   73.84298209   76.88100209   80.57477026   82.25806452\n",
      "   79.13238375   79.58727501   79.20394461   81.70780856   87.51174497\n",
      "   94.27586207   96.84082318   99.23196309  100.21719078  100.15004191\n",
      "   99.46357895   99.5568611   101.00923594  106.3575021   110.10422771\n",
      "  109.00251783  111.10822148  114.48317914  118.06963087  118.67044025\n",
      "  117.67503137  115.62961409  114.01384228  115.31936295  113.62258606\n",
      "  115.57980729  117.434089    121.04907718  127.57412852  128.51392405\n",
      "  128.21656854  127.2427673   128.74843293  134.09390651  139.21791667\n",
      "  143.93063101  145.31429762  145.93595647  144.2263048   146.87792642\n",
      "  151.0839599   152.37520868  153.23684211  152.87437396  154.04469507\n",
      "  156.85558811  155.20805369  154.01589958  154.9405609   157.99371069\n",
      "  164.20603015  166.12573345  167.65926236  166.14219799  165.46305626\n",
      "  171.29086337  172.47118216  170.4020185   169.0701386   172.32477913\n",
      "  177.79203354  177.98828942  176.16659708  177.67126725  183.69475891\n",
      "  187.7580443   189.10897704  191.02174822  192.51087866  192.18796992\n",
      "  195.7580443   199.89270746  204.19513219  204.99874108  206.15961458\n",
      "  207.7898914   208.19071518  205.4407702   209.4832636   206.13873799\n",
      "  203.96041667  209.51277755  215.30589219  217.30505641  218.26052522\n",
      "  219.8135169   217.88777639  217.72674176  217.78562474  219.07181628\n",
      "  221.76823135  226.06825796  228.74189474  229.930067    230.32815778\n",
      "  230.9512605   228.85888282  225.416       225.82464256  229.74768713\n",
      "  230.48489933  233.11890756  236.700126    235.95342006  236.18261965\n",
      "  239.52352941  240.25031606  240.110971    245.45630252  249.35195296\n",
      "  255.52647059  258.263953    255.8460895   257.85558811  257.01301427\n",
      "  259.40436242  261.8497692   259.89177852  260.13937867  263.82501049\n",
      "  266.03881857  269.96502318  272.05550883  272.18374259  277.09503606\n",
      "  277.38195616  277.61399073  282.72042105  290.61363636  295.65781711\n",
      "  293.15031579  293.63735801  298.75199664  297.74537815  297.56255248\n",
      "  299.21224832  299.38358459  299.68791946  303.2225021   305.05067002\n",
      "  306.51278826  308.71969697  309.98696384  312.57497894  312.83991597\n",
      "  310.53414328  312.0050399   315.49515789  318.77880184  313.86772708\n",
      "  309.09870347  310.02989474  310.66833542  307.90821861  304.95861204\n",
      "  305.0778292   306.85762144  305.08448348  304.03058232  305.47053907\n",
      "  308.6083682   310.72426778  307.43841336  304.2676115   300.62975345\n",
      "  300.0921273   296.84924623  294.55811037  293.52849958  293.90470193\n",
      "  291.38839849  288.05639731  288.6780303   286.45603702  281.00546448\n",
      "  278.07611438  276.19564307  275.40108969  276.71260504  277.70008389\n",
      "  276.52792944  272.6920488   267.55002111  267.8849223   267.0510118\n",
      "  267.18596788  267.28613445  262.74505679  260.56160939  255.55797405\n",
      "  251.95819398  252.17482225  252.91038526  251.38422819  247.33207389\n",
      "  244.13134704  244.53962264  240.68831169  236.32647923  233.42138365\n",
      "  230.84234801  226.95300042  222.28104027  219.51716918  222.70020964\n",
      "  225.04855588  226.78331936  228.5926706   225.15767285  222.33403361\n",
      "  219.49916107  218.98444071  217.90632911  211.11470588  204.2289916\n",
      "  196.42881072  192.20812395  191.85534062  192.04168421  188.54273684\n",
      "  188.48505263  185.48464451  181.05939343  175.95374264  173.08781513\n",
      "  175.01761745  173.4754717   168.5787037   165.95467898  162.34518828\n",
      "  161.03699033  158.90672269  157.09601677  150.9488684   150.37400084\n",
      "  148.91551072  146.67635904  146.12972292  139.25988225  131.53694374\n",
      "  126.19117647  119.91687657  115.20411592  112.62789718  109.90681153\n",
      "  107.68533222  108.86820084  109.41886792  103.08682886   99.27417329\n",
      "   97.71171548   95.18710758   93.42629816   90.61737678   87.28589368\n",
      "   83.49748322   80.29180602   77.53294167   74.24643755   75.98039216\n",
      "   74.28010033   69.88055323   66.901969     67.23502304   62.40890008\n",
      "   58.92414665   57.4323181    60.21061571   58.98271501   51.91677175\n",
      "   47.53003384   44.19780683   45.60970464   47.40632911   50.12235394\n",
      "   49.92514718   49.79941127   45.66905263   39.83529907   37.27782462\n",
      "   34.57627119   32.6895966    33.8587884    35.95051195   35.49039693\n",
      "   34.35144312   33.05038103   31.21818182   31.58667229   29.82064298\n",
      "   30.06498504   26.70490405   25.09677419   26.43886744   29.88745704\n",
      "   31.10465116   28.90128755   27.19461078   25.12713311   23.20755518\n",
      "   25.39535865   26.18705036   25.28989247   21.35163399   20.24078947]\n",
      "time for TMAX is 26.0552380085\n",
      "SELECT * FROM weather\n",
      "\tWHERE measurement = 'SNOW'\n",
      "<type 'numpy.ndarray'> (366, 366)\n",
      "<type 'numpy.ndarray'> (366, 366)\n",
      "shape of E= (365,) shape of NE= (365,)\n",
      "[  7.96811594e+00   7.42010459e+00   7.48611111e+00   9.79152149e+00\n",
      "   1.00571096e+01   6.07080673e+00   7.52295177e+00   1.00726744e+01\n",
      "   7.75958188e+00   9.55490994e+00   1.04099884e+01   8.45806825e+00\n",
      "   7.09872979e+00   7.47106481e+00   7.96798603e+00   7.25175234e+00\n",
      "   6.63901869e+00   5.67384974e+00   7.25900116e+00   7.57928241e+00\n",
      "   7.95240859e+00   1.02038328e+01   1.03120650e+01   8.40219273e+00\n",
      "   6.63573487e+00   8.54793725e+00   6.90451389e+00   5.57699012e+00\n",
      "   5.76558891e+00   6.36778291e+00   7.78384660e+00   7.80553985e+00\n",
      "   4.33913532e+00   3.54657688e+00   5.13041034e+00   5.57439641e+00\n",
      "   3.90393258e+00   5.41770011e+00   4.46745230e+00   4.77977528e+00\n",
      "   3.71834914e+00   4.43049327e+00   4.30535211e+00   4.31928049e+00\n",
      "   5.54611924e+00   5.40248027e+00   6.33050847e+00   5.76195836e+00\n",
      "   4.61936937e+00   5.05384184e+00   2.83735278e+00   2.49187675e+00\n",
      "   4.32174888e+00   4.50701853e+00   3.95730337e+00   2.94223219e+00\n",
      "   3.64566929e+00   3.35630252e+00   3.02286670e+00   5.06084507e+00\n",
      "   5.28153153e+00   4.59966216e+00   5.93206064e+00   3.89420371e+00\n",
      "   3.13479977e+00   2.09387296e+00   2.51270469e+00   2.24464487e+00\n",
      "   2.47294250e+00   2.43988764e+00   1.83511536e+00   3.95620438e+00\n",
      "   3.15984296e+00   2.20999439e+00   1.87612108e+00   2.38119369e+00\n",
      "   1.34828940e+00   2.03086420e+00   1.91507312e+00   2.34960718e+00\n",
      "   1.58909500e+00   1.68391451e+00   2.20676056e+00   1.34645669e+00\n",
      "   1.88963964e+00   2.34777715e+00   1.60078608e+00   3.84044944e+00\n",
      "   2.02997738e+00   1.23406655e+00   1.39688716e+00   2.13729850e+00\n",
      "   1.66315205e+00   1.12527716e+00   8.90737659e-01   1.19988895e+00\n",
      "   1.33518313e+00   6.60763697e-01   9.31893688e-01   9.22949002e-01\n",
      "   6.67405765e-01   1.11911357e+00   5.21040975e-01   1.02101770e+00\n",
      "   1.18514412e+00   7.07317073e-01   3.20775623e-01   4.54847645e-01\n",
      "   6.49501661e-01   1.23764575e+00   3.26315789e-01   5.23230088e-01\n",
      "   8.14712389e-01   5.61978877e-01   2.74238227e-01   4.65927978e-01\n",
      "   2.40576497e-01   6.05993341e-01   7.91805094e-01   3.11911357e-01\n",
      "   1.51130723e-01   1.27964699e-01   2.89415656e-01   4.24392936e-01\n",
      "   1.76957001e-01   1.85226020e-01   1.95148842e-01   1.70341786e-01\n",
      "   4.90088106e-02   6.55647383e-02   4.31404959e-01   7.99338479e-02\n",
      "   3.03364589e-02   9.10093767e-02   4.90899062e-02   5.73002755e-02\n",
      "   2.29453944e-01   2.11019284e-01   2.09251101e-02   2.75482094e-02\n",
      "   9.42148760e-02   5.61674009e-02   1.10253583e-02   6.99724518e-02\n",
      "   0.00000000e+00   1.82119205e-02   0.00000000e+00   7.01657459e-02\n",
      "   6.57095527e-02   2.76090558e-02   6.74033149e-02   0.00000000e+00\n",
      "   5.54016620e-03   1.82825485e-02   0.00000000e+00   1.38427464e-02\n",
      "   0.00000000e+00   0.00000000e+00   7.15474210e-02   0.00000000e+00\n",
      "   9.97229917e-03   9.41828255e-02   1.10803324e-02   1.38427464e-02\n",
      "   0.00000000e+00   3.81848367e-02   0.00000000e+00   0.00000000e+00\n",
      "   0.00000000e+00   0.00000000e+00   0.00000000e+00   0.00000000e+00\n",
      "   0.00000000e+00   0.00000000e+00   0.00000000e+00   0.00000000e+00\n",
      "   0.00000000e+00   0.00000000e+00   0.00000000e+00   0.00000000e+00\n",
      "   0.00000000e+00   0.00000000e+00   0.00000000e+00   0.00000000e+00\n",
      "   0.00000000e+00   0.00000000e+00   0.00000000e+00   0.00000000e+00\n",
      "   0.00000000e+00   0.00000000e+00   0.00000000e+00   1.10375276e-02\n",
      "   0.00000000e+00   0.00000000e+00   0.00000000e+00   0.00000000e+00\n",
      "   4.41501104e-03   0.00000000e+00   0.00000000e+00   0.00000000e+00\n",
      "   0.00000000e+00   0.00000000e+00   0.00000000e+00   0.00000000e+00\n",
      "   0.00000000e+00   0.00000000e+00   0.00000000e+00   0.00000000e+00\n",
      "   0.00000000e+00   0.00000000e+00   0.00000000e+00   0.00000000e+00\n",
      "   0.00000000e+00   0.00000000e+00   0.00000000e+00   0.00000000e+00\n",
      "   0.00000000e+00   0.00000000e+00   0.00000000e+00   0.00000000e+00\n",
      "   0.00000000e+00   0.00000000e+00   0.00000000e+00   0.00000000e+00\n",
      "   0.00000000e+00   0.00000000e+00   0.00000000e+00   0.00000000e+00\n",
      "   0.00000000e+00   0.00000000e+00   0.00000000e+00   0.00000000e+00\n",
      "   0.00000000e+00   0.00000000e+00   0.00000000e+00   0.00000000e+00\n",
      "   0.00000000e+00   0.00000000e+00   0.00000000e+00   0.00000000e+00\n",
      "   0.00000000e+00   0.00000000e+00   0.00000000e+00   0.00000000e+00\n",
      "   0.00000000e+00   0.00000000e+00   0.00000000e+00   0.00000000e+00\n",
      "   0.00000000e+00   0.00000000e+00   0.00000000e+00   0.00000000e+00\n",
      "   0.00000000e+00   1.93370166e-02   0.00000000e+00   0.00000000e+00\n",
      "   0.00000000e+00   0.00000000e+00   0.00000000e+00   0.00000000e+00\n",
      "   0.00000000e+00   7.18629077e-03   7.17835450e-03   2.81612369e-02\n",
      "   2.76243094e-03   1.43725815e-02   4.47266703e-02   7.17835450e-03\n",
      "   7.18232044e-03   0.00000000e+00   0.00000000e+00   1.38045279e-02\n",
      "   0.00000000e+00   0.00000000e+00   0.00000000e+00   0.00000000e+00\n",
      "   7.17439294e-03   2.98013245e-02   0.00000000e+00   2.25289895e-01\n",
      "   3.20441989e-02   5.51876380e-03   5.51876380e-03   0.00000000e+00\n",
      "   1.82421227e-02   2.24737714e-01   7.18629077e-03   3.81004970e-02\n",
      "   7.17835450e-03   6.84704583e-02   9.10093767e-02   1.46718147e-01\n",
      "   1.74848318e-01   1.68415240e-01   2.00665188e-01   4.98335183e-01\n",
      "   1.57807309e-01   1.74778761e-01   2.77654867e-01   7.94019934e-01\n",
      "   3.15235457e-01   5.06090808e-01   4.30071863e-01   1.13739612e+00\n",
      "   1.80645161e+00   8.46281909e-01   4.67930842e-01   9.46927374e-01\n",
      "   1.10289210e+00   9.91648107e-01   1.54838710e+00   1.70250696e+00\n",
      "   2.74804905e+00   1.51500000e+00   1.78500000e+00   1.42841226e+00\n",
      "   1.34059185e+00   1.35694367e+00   1.97214485e+00   1.94549499e+00\n",
      "   2.19753777e+00   4.11273957e+00   4.05115233e+00   4.20854413e+00\n",
      "   3.93198426e+00   4.30299604e+00   4.40860215e+00   4.94781622e+00\n",
      "   5.73654391e+00   4.32279910e+00   5.82976325e+00   4.88409091e+00\n",
      "   3.56271186e+00   5.38613303e+00   5.41773629e+00   4.22460824e+00\n",
      "   5.22228671e+00   3.98547356e+00   6.29101449e+00   6.30401864e+00\n",
      "   5.59547301e+00   6.73809524e+00   7.46122449e+00   5.12463599e+00\n",
      "   4.41009281e+00   5.44476744e+00   6.08046647e+00   7.06231800e+00\n",
      "   7.39627040e+00   6.84000000e+00   5.58522397e+00   5.98069046e+00\n",
      "   7.51133062e+00   7.06042998e+00   7.48860316e+00   4.77189888e+00\n",
      "   5.84876905e+00   5.99174041e+00   6.01543027e+00   8.16372203e+00\n",
      "   1.07414605e+01   1.03293909e+01   1.03670588e+01   9.78487691e+00\n",
      "   8.53458382e+00]\n",
      "time for SNOW is 21.7354729176\n",
      "SELECT * FROM weather\n",
      "\tWHERE measurement = 'SNWD'\n",
      "<type 'numpy.ndarray'> (366, 366)\n",
      "<type 'numpy.ndarray'> (366, 366)\n",
      "shape of E= (365,) shape of NE= (365,)\n",
      "[  8.58295538e+01   9.02689504e+01   9.64838013e+01   9.71192197e+01\n",
      "   9.81384058e+01   9.40907771e+01   9.19725632e+01   9.38344132e+01\n",
      "   9.49366451e+01   9.82720058e+01   1.04646508e+02   1.02911722e+02\n",
      "   9.98043478e+01   9.66697977e+01   9.72852011e+01   9.92429704e+01\n",
      "   9.95984081e+01   9.77033285e+01   9.85208934e+01   9.82229437e+01\n",
      "   9.84981897e+01   1.03477157e+02   1.09154124e+02   1.10001450e+02\n",
      "   1.07817656e+02   1.09773449e+02   1.09573604e+02   1.08722707e+02\n",
      "   1.09165211e+02   1.10063319e+02   1.12123997e+02   1.10085136e+02\n",
      "   1.06516491e+02   1.01915966e+02   9.98155680e+01   9.89166088e+01\n",
      "   9.58436414e+01   9.27576389e+01   9.39540390e+01   9.21743056e+01\n",
      "   8.81697852e+01   8.51838286e+01   8.29179416e+01   8.29443285e+01\n",
      "   8.23526132e+01   8.16564885e+01   7.97245675e+01   7.98078784e+01\n",
      "   7.73743056e+01   7.90429363e+01   7.56106134e+01   7.26668947e+01\n",
      "   7.26844627e+01   7.20068399e+01   7.05082192e+01   6.70892857e+01\n",
      "   6.73625771e+01   6.68080877e+01   6.56723901e+01   6.68207226e+01\n",
      "   6.70750341e+01   6.29397673e+01   6.41016484e+01   6.33647541e+01\n",
      "   6.36937244e+01   5.97188564e+01   5.80738983e+01   5.61253406e+01\n",
      "   5.31187713e+01   5.17488055e+01   5.04001363e+01   5.02576479e+01\n",
      "   4.98298305e+01   4.84694708e+01   4.63626449e+01   4.45564682e+01\n",
      "   4.19278421e+01   4.16120515e+01   3.96938221e+01   4.04082880e+01\n",
      "   3.86250847e+01   3.64223729e+01   3.51383989e+01   3.24408967e+01\n",
      "   3.14962610e+01   3.16955932e+01   3.04714674e+01   3.01368278e+01\n",
      "   2.71841746e+01   2.52127804e+01   2.24643817e+01   2.25154570e+01\n",
      "   2.24697987e+01   2.03436449e+01   1.85295302e+01   1.68203753e+01\n",
      "   1.59070856e+01   1.41170569e+01   1.28855422e+01   1.23058902e+01\n",
      "   1.08954424e+01   1.01431438e+01   8.71237458e+00   7.80600000e+00\n",
      "   6.78304406e+00   6.18345564e+00   5.67266667e+00   4.67957276e+00\n",
      "   4.29986613e+00   4.47396529e+00   3.57810414e+00   3.37316422e+00\n",
      "   3.32109479e+00   3.53074866e+00   2.75000000e+00   2.20133333e+00\n",
      "   1.91783567e+00   1.76789298e+00   1.60947931e+00   1.30769231e+00\n",
      "   1.05921938e+00   8.63424384e-01   8.96138482e-01   8.28229028e-01\n",
      "   5.40666667e-01   4.90339773e-01   4.91005996e-01   3.38000000e-01\n",
      "   2.20000000e-01   1.86124083e-01   2.19853431e-01   1.01198402e-01\n",
      "   8.45539281e-02   1.17921386e-01   1.01333333e-01   6.80000000e-02\n",
      "   8.46666667e-02   1.51898734e-01   3.40226818e-02   5.07004670e-02\n",
      "   6.73782522e-02   3.39773484e-02   3.39773484e-02   4.99666889e-02\n",
      "   0.00000000e+00   0.00000000e+00   0.00000000e+00   0.00000000e+00\n",
      "   5.06329114e-02   0.00000000e+00   0.00000000e+00   0.00000000e+00\n",
      "   0.00000000e+00   0.00000000e+00   0.00000000e+00   0.00000000e+00\n",
      "   0.00000000e+00   0.00000000e+00   0.00000000e+00   0.00000000e+00\n",
      "   0.00000000e+00   1.67112299e-02   0.00000000e+00   0.00000000e+00\n",
      "   0.00000000e+00   0.00000000e+00   0.00000000e+00   0.00000000e+00\n",
      "   0.00000000e+00   0.00000000e+00   0.00000000e+00   0.00000000e+00\n",
      "   0.00000000e+00   0.00000000e+00   0.00000000e+00   0.00000000e+00\n",
      "   0.00000000e+00   0.00000000e+00   0.00000000e+00   0.00000000e+00\n",
      "   0.00000000e+00   0.00000000e+00   0.00000000e+00   0.00000000e+00\n",
      "   0.00000000e+00   0.00000000e+00   0.00000000e+00   0.00000000e+00\n",
      "   0.00000000e+00   0.00000000e+00   0.00000000e+00   0.00000000e+00\n",
      "   0.00000000e+00   0.00000000e+00   0.00000000e+00   0.00000000e+00\n",
      "   0.00000000e+00   0.00000000e+00   0.00000000e+00   0.00000000e+00\n",
      "   0.00000000e+00   0.00000000e+00   0.00000000e+00   0.00000000e+00\n",
      "   0.00000000e+00   0.00000000e+00   0.00000000e+00   0.00000000e+00\n",
      "   0.00000000e+00   0.00000000e+00   0.00000000e+00   0.00000000e+00\n",
      "   0.00000000e+00   0.00000000e+00   0.00000000e+00   0.00000000e+00\n",
      "   0.00000000e+00   0.00000000e+00   0.00000000e+00   0.00000000e+00\n",
      "   0.00000000e+00   0.00000000e+00   0.00000000e+00   0.00000000e+00\n",
      "   0.00000000e+00   0.00000000e+00   0.00000000e+00   0.00000000e+00\n",
      "   0.00000000e+00   0.00000000e+00   0.00000000e+00   0.00000000e+00\n",
      "   0.00000000e+00   1.68995343e-01   0.00000000e+00   0.00000000e+00\n",
      "   0.00000000e+00   0.00000000e+00   0.00000000e+00   0.00000000e+00\n",
      "   0.00000000e+00   0.00000000e+00   0.00000000e+00   0.00000000e+00\n",
      "   0.00000000e+00   0.00000000e+00   0.00000000e+00   0.00000000e+00\n",
      "   0.00000000e+00   0.00000000e+00   0.00000000e+00   0.00000000e+00\n",
      "   0.00000000e+00   0.00000000e+00   0.00000000e+00   0.00000000e+00\n",
      "   0.00000000e+00   0.00000000e+00   0.00000000e+00   0.00000000e+00\n",
      "   0.00000000e+00   0.00000000e+00   0.00000000e+00   1.66777852e-02\n",
      "   0.00000000e+00   3.40226818e-02   0.00000000e+00   0.00000000e+00\n",
      "   0.00000000e+00   0.00000000e+00   0.00000000e+00   0.00000000e+00\n",
      "   0.00000000e+00   0.00000000e+00   0.00000000e+00   0.00000000e+00\n",
      "   0.00000000e+00   0.00000000e+00   0.00000000e+00   2.05525606e-01\n",
      "   1.02494943e-01   3.36927224e-02   0.00000000e+00   0.00000000e+00\n",
      "   0.00000000e+00   1.37162162e-01   6.87795010e-02   1.68463612e-02\n",
      "   0.00000000e+00   0.00000000e+00   1.68350168e-02   1.68463612e-02\n",
      "   1.71274444e-01   2.40378123e-01   1.02702703e-01   3.95932203e-01\n",
      "   1.71737661e-01   1.19352664e-01   1.53378378e-01   7.38482385e-01\n",
      "   7.87550744e-01   9.91880920e-01   8.05818674e-01   1.49762067e+00\n",
      "   2.68148148e+00   2.63097643e+00   2.14035088e+00   2.62036413e+00\n",
      "   3.19179004e+00   3.25523295e+00   3.05199190e+00   3.60419486e+00\n",
      "   4.40338983e+00   3.99932341e+00   4.00135318e+00   4.27604871e+00\n",
      "   3.86666667e+00   3.90767142e+00   4.31593220e+00   4.80717185e+00\n",
      "   5.63586957e+00   8.12799452e+00   8.95628415e+00   1.15044429e+01\n",
      "   1.25759450e+01   1.51000690e+01   1.71782730e+01   1.84004149e+01\n",
      "   2.08038943e+01   2.20968641e+01   2.40490884e+01   2.47107671e+01\n",
      "   2.34824438e+01   2.56762439e+01   2.72387324e+01   2.63632509e+01\n",
      "   2.81520509e+01   2.80834512e+01   3.06058033e+01   3.37626155e+01\n",
      "   3.50801418e+01   3.80107373e+01   3.97451543e+01   3.90516129e+01\n",
      "   3.91241970e+01   3.91833689e+01   4.24286733e+01   4.63435934e+01\n",
      "   4.78904899e+01   4.78396837e+01   4.82791367e+01   5.02295438e+01\n",
      "   5.21541787e+01   5.46351156e+01   5.49024566e+01   5.15174927e+01\n",
      "   4.98316252e+01   5.05069597e+01   5.28121752e+01   5.80610743e+01\n",
      "   6.55825385e+01   7.21938099e+01   7.44605166e+01   8.02514925e+01\n",
      "   8.21911211e+01]\n",
      "time for SNWD is 16.8832559586\n",
      "SELECT * FROM weather\n",
      "\tWHERE measurement = 'TMIN'\n",
      "<type 'numpy.ndarray'> (366, 366)\n",
      "<type 'numpy.ndarray'> (366, 366)\n",
      "shape of E= (365,) shape of NE= (365,)\n",
      "[ -5.26590419e+01  -5.72324692e+01  -5.89634820e+01  -5.80250318e+01\n",
      "  -5.62657850e+01  -5.25053442e+01  -5.00059398e+01  -4.70922556e+01\n",
      "  -4.68264007e+01  -4.70080372e+01  -4.98545377e+01  -5.14671471e+01\n",
      "  -4.80725432e+01  -4.19195937e+01  -4.35655668e+01  -4.37317279e+01\n",
      "  -3.98803746e+01  -4.34378194e+01  -4.63504673e+01  -4.76074042e+01\n",
      "  -4.64955338e+01  -4.59800679e+01  -4.20093577e+01  -4.08234295e+01\n",
      "  -4.17763102e+01  -4.56767077e+01  -4.69277211e+01  -4.96590525e+01\n",
      "  -4.65836543e+01  -4.78063547e+01  -4.51500434e+01  -4.41274594e+01\n",
      "  -4.40594525e+01  -4.11150255e+01  -3.64131258e+01  -3.75452640e+01\n",
      "  -3.78457670e+01  -3.39932632e+01  -3.53898447e+01  -3.43924211e+01\n",
      "  -3.40791457e+01  -2.96533333e+01  -2.82445923e+01  -2.87977387e+01\n",
      "  -3.08835559e+01  -2.78544463e+01  -2.39067726e+01  -2.35625785e+01\n",
      "  -2.51436348e+01  -2.50484140e+01  -2.35946511e+01  -2.37141663e+01\n",
      "  -2.10705342e+01  -2.24966639e+01  -2.33491667e+01  -2.34929167e+01\n",
      "  -2.54423559e+01  -2.61604680e+01  -2.12667504e+01  -2.00155266e+01\n",
      "  -2.30436059e+01  -2.24300670e+01  -2.11974015e+01  -2.02223623e+01\n",
      "  -2.11433962e+01  -1.75994952e+01  -1.27978992e+01  -7.75481978e+00\n",
      "  -8.82614160e+00  -1.02224080e+01  -9.85624212e+00  -8.34760705e+00\n",
      "  -1.03981520e+01  -6.35594640e+00  -1.38248848e-02  -2.84892992e+00\n",
      "  -4.39245283e+00  -4.72635561e+00  -4.09224319e+00  -1.40351612e+00\n",
      "   3.64435146e-01  -4.31503980e-02  -1.63248221e+00  -3.65466722e+00\n",
      "  -3.93915233e+00  -2.00377200e+00  -2.67954641e-01   1.66918873e+00\n",
      "   6.14027719e+00   7.77669903e+00   7.23447987e+00   4.22822446e+00\n",
      "   1.61210856e+00   6.33236030e+00   1.31269775e+01   1.16105088e+01\n",
      "   9.75083333e+00   1.16595567e+01   1.49549625e+01   1.50233820e+01\n",
      "   1.88407006e+01   1.83981674e+01   2.08318732e+01   1.70601504e+01\n",
      "   1.97074290e+01   2.10246449e+01   2.18716018e+01   1.84346555e+01\n",
      "   1.83620401e+01   2.14534786e+01   2.58528919e+01   2.96114596e+01\n",
      "   2.98115578e+01   2.71097612e+01   2.73963056e+01   2.65435876e+01\n",
      "   3.13814130e+01   3.22242322e+01   3.04129979e+01   3.01297774e+01\n",
      "   3.23119497e+01   3.83308208e+01   3.68867530e+01   3.59749164e+01\n",
      "   3.51762484e+01   3.97122543e+01   4.19979114e+01   4.51918094e+01\n",
      "   4.50045948e+01   4.73368114e+01   4.60539523e+01   4.78619247e+01\n",
      "   5.06261016e+01   5.39403612e+01   5.54106321e+01   5.73630653e+01\n",
      "   5.84306020e+01   5.72459154e+01   5.98044389e+01   5.94820384e+01\n",
      "   5.78982485e+01   6.00242678e+01   6.31545530e+01   6.57197825e+01\n",
      "   6.59783514e+01   6.85039732e+01   6.96793161e+01   6.80633862e+01\n",
      "   7.05843776e+01   6.78191312e+01   7.18493093e+01   7.43340319e+01\n",
      "   7.66564211e+01   7.79937107e+01   7.95567227e+01   8.10585263e+01\n",
      "   8.31952040e+01   8.20538721e+01   7.97769815e+01   8.16477273e+01\n",
      "   7.93563606e+01   8.00789916e+01   8.33975548e+01   8.73159445e+01\n",
      "   8.62209596e+01   8.82821053e+01   8.71526138e+01   8.62710793e+01\n",
      "   8.66412310e+01   9.08633305e+01   9.04442575e+01   9.38204698e+01\n",
      "   9.73410138e+01   9.41148365e+01   9.37392586e+01   9.54582108e+01\n",
      "   9.92031906e+01   9.86840336e+01   9.53852941e+01   9.77032367e+01\n",
      "   9.63119189e+01   9.84196128e+01   9.84669474e+01   1.01400085e+02\n",
      "   1.04701105e+02   1.07841639e+02   1.03162162e+02   1.01919511e+02\n",
      "   1.06634640e+02   1.11266892e+02   1.13909667e+02   1.12350803e+02\n",
      "   1.16113032e+02   1.18639310e+02   1.14885618e+02   1.14820739e+02\n",
      "   1.14222082e+02   1.16595468e+02   1.15126678e+02   1.17191195e+02\n",
      "   1.18214256e+02   1.16773490e+02   1.18722573e+02   1.20091330e+02\n",
      "   1.22094838e+02   1.20758260e+02   1.21211627e+02   1.21896899e+02\n",
      "   1.21314885e+02   1.21552764e+02   1.16345607e+02   1.17561396e+02\n",
      "   1.18650376e+02   1.17048017e+02   1.18575073e+02   1.16198742e+02\n",
      "   1.18214047e+02   1.15971572e+02   1.14767169e+02   1.15882796e+02\n",
      "   1.15184442e+02   1.18274633e+02   1.16442959e+02   1.13294069e+02\n",
      "   1.11021721e+02   1.11976939e+02   1.13465467e+02   1.07346700e+02\n",
      "   1.04921725e+02   1.06130197e+02   1.05791754e+02   1.07544534e+02\n",
      "   1.04135771e+02   1.04548550e+02   1.04397479e+02   1.01225915e+02\n",
      "   9.58642857e+01   9.57711297e+01   9.70364169e+01   9.50699623e+01\n",
      "   9.55916911e+01   9.67692630e+01   9.16442105e+01   9.11397398e+01\n",
      "   8.88235046e+01   8.68926458e+01   9.05058824e+01   9.04309114e+01\n",
      "   8.42961877e+01   8.21649226e+01   7.97046025e+01   7.71081420e+01\n",
      "   7.59623116e+01   7.75467898e+01   7.47270440e+01   7.14836547e+01\n",
      "   7.10670017e+01   7.24045321e+01   7.00989518e+01   6.83206203e+01\n",
      "   6.69806966e+01   6.68134172e+01   6.29471477e+01   5.86994558e+01\n",
      "   5.65881122e+01   5.60129870e+01   5.49740042e+01   6.14833824e+01\n",
      "   5.96236333e+01   5.81167577e+01   5.44005038e+01   5.25378469e+01\n",
      "   5.52047178e+01   4.99726201e+01   4.59802272e+01   4.22721174e+01\n",
      "   4.12476949e+01   3.65252101e+01   3.83747368e+01   3.86531816e+01\n",
      "   3.74560000e+01   3.32461085e+01   3.49337832e+01   3.52036104e+01\n",
      "   3.31468237e+01   3.40096517e+01   3.17890101e+01   2.85837199e+01\n",
      "   2.34573709e+01   1.96675063e+01   1.79334457e+01   1.93820933e+01\n",
      "   2.12966849e+01   1.97565982e+01   1.91483817e+01   1.85212274e+01\n",
      "   1.60933950e+01   1.75052499e+01   1.33519765e+01   1.06669467e+01\n",
      "   8.99032394e+00   4.95260067e+00   5.22689076e+00   3.90672269e+00\n",
      "   3.46700084e-02  -2.62223151e+00   2.59531773e+00   4.86954698e+00\n",
      "  -1.70263488e+00  -2.40284162e+00  -5.34000834e-01  -4.06276151e-01\n",
      "  -1.55355649e+00  -1.36359850e+00  -3.32482210e+00  -3.34378921e+00\n",
      "  -6.73780742e+00  -9.21575199e+00  -9.83981598e+00  -8.85208333e+00\n",
      "  -7.28822055e+00  -1.10087793e+01  -1.32086301e+01  -1.34886935e+01\n",
      "  -2.03133389e+01  -2.55189553e+01  -2.26888983e+01  -1.61486486e+01\n",
      "  -1.77923497e+01  -2.41138177e+01  -2.79540472e+01  -2.90646787e+01\n",
      "  -2.70975712e+01  -2.49376047e+01  -2.19201521e+01  -1.93437106e+01\n",
      "  -2.34280908e+01  -2.85825611e+01  -3.30888421e+01  -3.38393608e+01\n",
      "  -3.77312236e+01  -4.06441821e+01  -3.86686341e+01  -3.54375793e+01\n",
      "  -3.83175676e+01  -3.65882353e+01  -3.89932688e+01  -3.96794118e+01\n",
      "  -4.04596977e+01  -4.34618305e+01  -4.24233051e+01  -4.46321113e+01\n",
      "  -4.59081719e+01  -4.31869987e+01  -3.96112760e+01  -4.09439966e+01\n",
      "  -4.20262712e+01  -4.13322034e+01  -4.42230246e+01  -4.59433164e+01\n",
      "  -4.22656250e+01  -4.33905325e+01  -4.70280612e+01  -4.76292955e+01\n",
      "  -4.91827214e+01]\n",
      "time for TMIN is 22.9218099117\n",
      "SELECT * FROM weather\n",
      "\tWHERE measurement = 'PRCP'\n",
      "<type 'numpy.ndarray'> (366, 366)\n",
      "<type 'numpy.ndarray'> (366, 366)\n",
      "shape of E= (365,) shape of NE= (365,)\n",
      "[ 19.43339882  20.98311076  18.29215686  18.58264625  18.45851357\n",
      "  18.825128    19.01567398  18.05300353  16.93555992  18.75314465\n",
      "  17.87308448  16.90299685  22.62342767  21.86622205  22.18705882\n",
      "  21.10447761  18.50372988  17.44174186  16.58352941  18.46087298\n",
      "  15.77603759  18.7247455   22.70622797  22.75548589  17.45689655\n",
      "  16.1361133   15.95172684  13.42372881  13.07064364  15.10833007\n",
      "  18.50922654  20.62109375  15.26677067  11.78811572  12.68045259\n",
      "  12.82637534  16.51757812  17.30594679  12.36416862  14.50955166\n",
      "  15.01676413  13.14497272  16.09527528  17.37953924  15.1484528\n",
      "  18.10066588  20.77386541  19.01604697  18.885759    19.77175185\n",
      "  13.2251268   15.29933568  13.67370066  15.59228972  13.62860483\n",
      "  14.47817615  13.33867814  13.0199141   12.87344237  16.12543825\n",
      "  14.94650527  12.56914062  15.46762871  14.3696331   11.57366159\n",
      "  11.16106333  12.32147047  17.36445313  13.57321359  13.57443492\n",
      "  14.81474259  17.60874658  13.80452595  12.85736616  17.64349863\n",
      "  15.84828393  13.43481655  10.93247463  12.00469116  13.72362787\n",
      "  14.35541699  14.18984375  16.30316036  15.47724621  17.96448087\n",
      "  14.67876659  14.85441062  17.84050039  16.46460696  15.48156863\n",
      "  15.31984436  15.7043512    9.77613681   9.69604037  13.08724312\n",
      "  12.90965491  10.70387597  10.62340178  12.28970874  14.39147287\n",
      "  12.46511628  13.6006204   15.10015528  14.2327653   11.81455672\n",
      "   9.42413659  12.91721726  10.82588418  12.87029126  14.64274631\n",
      "   9.15351729   9.95961165  15.36013986  16.58450156   9.53216374\n",
      "   9.75934579  14.11817473  17.23538581  14.12854369  11.63053613\n",
      "  12.43212758  12.18075575  13.35742036  13.64593859   9.38422688\n",
      "   9.89825243  11.11115429  14.67950214  13.39728155  13.2027972\n",
      "  13.95713172  10.02023346  10.79090556  10.02640777  15.33838384\n",
      "  14.26379176  12.40474339  13.77359223  12.99028372  18.07587549\n",
      "  15.74087024  13.91326332  11.18337218  12.95186335  12.7008547\n",
      "  17.05293889  13.62165308  12.89134653  13.51376503  14.26264591\n",
      "  12.97979013  12.38888889  13.0926143   12.1799687   13.61241218\n",
      "  17.08196721  19.7657411   18.59515436  18.63172253  13.00234101\n",
      "  10.72617188  10.28471139  13.27545845  13.90905543  10.79103314\n",
      "  15.19064327  11.19641465  10.71155347  11.01483795   9.37037037\n",
      "   7.96645866  10.38215816   8.5140625    6.914877     9.67614965\n",
      "   9.25165821  10.21442495   9.70280811   7.30820313   9.91171875\n",
      "   3.99804382   7.20885093   8.10213592   8.34006211   6.51651768\n",
      "   6.16167897   4.78579744   5.53980583   4.83818393   5.15178571\n",
      "   7.9876017    4.45673263   3.53069153   6.93048544   5.85182312\n",
      "   3.23115773   4.7810926    4.16350252   3.34121753   3.92089957\n",
      "   4.01318852   3.24680356   3.25398058   2.92304703   2.52582524\n",
      "   3.22105672   2.70802637   4.78394104   3.59418605   2.32142857\n",
      "   2.19836957   2.91928599   4.43728155   2.49204501   5.27135093\n",
      "   3.0361165    2.30461777   3.14796117   5.00932401   2.63692785\n",
      "   2.57807052   2.57187257   2.8438835    3.40961986   4.61085271\n",
      "   4.47186651   6.31106796   4.92197205   2.8661234    4.28776699\n",
      "   3.81072678   7.1263117    5.81354613   8.65163297   8.94794095\n",
      "   9.1100739    5.6562986    6.81623932   4.1088647    5.37081712\n",
      "   4.68686869   6.65044764   9.16842105   7.24330617   6.7043512\n",
      "   4.73045508   6.18591988   6.08705791   5.70391929   6.57198293\n",
      "   6.05352987   5.49476135   7.77398058   7.84549689   6.57945736\n",
      "   7.66070735   8.72822706  11.2182385    9.75213675   8.49824835\n",
      "  10.4536965    8.04051422  11.77963467   7.86809339   8.3933152\n",
      "   8.07156748   6.62548563   5.32581649   8.1005456    8.13752914\n",
      "   7.76932039   6.92158385   7.02422558   9.84073209  10.84729256\n",
      "  12.05676516   9.2025661    8.21992993   7.44902724   9.87509728\n",
      "   8.15564202   9.59057265  12.03903201  14.17452279   9.39243959\n",
      "   8.82451362  10.66019417  10.2620155    8.62121212   7.13266098\n",
      "   8.62451362  13.06879129  11.87723388  16.69452002  15.36317633\n",
      "  13.03544994  13.49553398  11.59565386  13.5184753   15.76119984\n",
      "  17.24727414  17.3517725   14.44906687  18.34709778  17.94338149\n",
      "  13.52895149  14.02303788  18.94147483  16.8383444   17.58379013\n",
      "  18.13544106  20.54509957  19.18128426  15.55934195  18.39569472\n",
      "  23.25499412  21.24344423  17.25858034  18.2606155   19.60256909\n",
      "  22.62368524  21.57410296  20.6484375   21.64145768  18.06502154\n",
      "  21.02911094  21.87544344  25.37894322  27.56146572  19.57925868\n",
      "  20.36062992  18.43351692  17.3568351   22.47273441  24.82687035\n",
      "  24.9029734   19.7214594   17.1970114   16.81504702  22.40715972\n",
      "  19.78531965  16.93359528  19.07707355  21.2077769   21.65152702\n",
      "  18.2802673   20.83182711  19.58310413  18.05780574  16.39291339\n",
      "  16.8490566   14.82892137  17.15130024  19.2051989   22.96683774\n",
      "  19.70301348  17.73075405  15.46339533  16.37972167  18.99641291\n",
      "  21.59229853  20.32686981  20.66019802  21.11760063  16.32557222]\n",
      "time for PRCP is 26.2560811043\n",
      "SELECT * FROM weather\n",
      "\tWHERE measurement = 'TOBS'\n",
      "<type 'numpy.ndarray'> (366, 366)\n",
      "<type 'numpy.ndarray'> (366, 366)\n",
      "shape of E= (365,) shape of NE= (365,)\n",
      "[ -1.74023372e+01  -2.06255482e+01  -2.19012075e+01  -1.90382908e+01\n",
      "  -1.65133185e+01  -1.57727778e+01  -1.14299945e+01  -1.09748496e+01\n",
      "  -1.06659389e+01  -1.30759912e+01  -1.27300443e+01  -1.34653846e+01\n",
      "  -9.00163666e+00  -4.06369080e+00  -7.86178862e+00  -7.07583197e+00\n",
      "  -6.92004381e+00  -8.21719956e+00  -1.24707170e+01  -1.23468271e+01\n",
      "  -1.13737758e+01  -9.11991319e+00  -5.55330782e+00  -5.11460055e+00\n",
      "  -5.65884279e+00  -1.02321526e+01  -9.85823755e+00  -8.71776425e+00\n",
      "  -8.16153846e+00  -6.25294448e+00  -5.82035595e+00  -4.32779623e+00\n",
      "  -2.79856512e+00   1.00109230e+00   4.09637250e+00   1.17570499e+00\n",
      "   3.17099567e+00   4.88864747e+00   2.96765499e+00   5.42657343e+00\n",
      "   8.78659517e+00   1.11886388e+01   1.33247588e+01   1.16192266e+01\n",
      "   1.10842275e+01   1.43781014e+01   1.89230355e+01   1.75745827e+01\n",
      "   1.75188375e+01   2.01278075e+01   2.21655983e+01   2.30991426e+01\n",
      "   2.26664879e+01   2.43906502e+01   2.37811664e+01   2.25659871e+01\n",
      "   2.15339074e+01   2.41664876e+01   2.85252146e+01   2.72132829e+01\n",
      "   2.56847768e+01   2.63223897e+01   2.78229897e+01   2.99897464e+01\n",
      "   3.24577275e+01   3.84970254e+01   4.20705439e+01   4.46786674e+01\n",
      "   4.51019968e+01   4.36952535e+01   4.52664135e+01   4.44047491e+01\n",
      "   4.66519397e+01   5.37592892e+01   5.35697361e+01   5.17863710e+01\n",
      "   5.51673843e+01   5.68229897e+01   5.94256466e+01   6.08944534e+01\n",
      "   6.02066559e+01   5.88123656e+01   5.90232056e+01   5.79186422e+01\n",
      "   5.87182261e+01   6.02084006e+01   6.07537716e+01   6.53976293e+01\n",
      "   6.93953614e+01   6.90928339e+01   6.86099138e+01   6.69983810e+01\n",
      "   6.98151125e+01   7.52738990e+01   7.97748132e+01   7.88479312e+01\n",
      "   8.05005359e+01   8.19973060e+01   8.08273650e+01   8.54831280e+01\n",
      "   8.73536977e+01   8.88485011e+01   9.11955128e+01   8.84697375e+01\n",
      "   9.01917515e+01   9.36122779e+01   9.04121115e+01   9.10695187e+01\n",
      "   8.97036041e+01   9.60112480e+01   1.01740483e+02   1.02710075e+02\n",
      "   1.03397429e+02   9.97234157e+01   1.03506717e+02   1.06939979e+02\n",
      "   1.08169364e+02   1.05783009e+02   1.05303389e+02   1.10362999e+02\n",
      "   1.10968160e+02   1.12495690e+02   1.10834769e+02   1.12106166e+02\n",
      "   1.15403867e+02   1.20864734e+02   1.22470113e+02   1.24447793e+02\n",
      "   1.24725711e+02   1.26438437e+02   1.28443255e+02   1.31949381e+02\n",
      "   1.34475806e+02   1.35272384e+02   1.37180937e+02   1.40928610e+02\n",
      "   1.36817840e+02   1.40013994e+02   1.41163890e+02   1.38398710e+02\n",
      "   1.41476907e+02   1.44646237e+02   1.46282574e+02   1.49856683e+02\n",
      "   1.50570737e+02   1.51162017e+02   1.49849087e+02   1.50833782e+02\n",
      "   1.50964997e+02   1.51321313e+02   1.56081226e+02   1.59839353e+02\n",
      "   1.62328277e+02   1.63004852e+02   1.63542857e+02   1.66099080e+02\n",
      "   1.61149189e+02   1.60753930e+02   1.60657112e+02   1.64680173e+02\n",
      "   1.63834951e+02   1.68709957e+02   1.68232230e+02   1.69152221e+02\n",
      "   1.71764802e+02   1.72479913e+02   1.71992939e+02   1.74105806e+02\n",
      "   1.79919696e+02   1.81276067e+02   1.84366091e+02   1.85815818e+02\n",
      "   1.86735991e+02   1.84220596e+02   1.84570346e+02   1.88481921e+02\n",
      "   1.89530205e+02   1.87041622e+02   1.89340345e+02   1.90323085e+02\n",
      "   1.93446612e+02   1.96412371e+02   1.95912548e+02   1.99362842e+02\n",
      "   2.01291507e+02   2.01585738e+02   2.02463215e+02   2.08072322e+02\n",
      "   2.13337669e+02   2.16255839e+02   2.12630836e+02   2.17738753e+02\n",
      "   2.21578235e+02   2.19270665e+02   2.19183630e+02   2.18977909e+02\n",
      "   2.18679113e+02   2.21614471e+02   2.23245405e+02   2.24211518e+02\n",
      "   2.23093902e+02   2.27033495e+02   2.28865405e+02   2.30367766e+02\n",
      "   2.28620205e+02   2.27965554e+02   2.29722222e+02   2.30412879e+02\n",
      "   2.30699406e+02   2.25388019e+02   2.24832973e+02   2.26485127e+02\n",
      "   2.23302965e+02   2.22707120e+02   2.20107509e+02   2.19846529e+02\n",
      "   2.21026882e+02   2.20917520e+02   2.21703404e+02   2.21794830e+02\n",
      "   2.24651263e+02   2.23755245e+02   2.22523093e+02   2.15750134e+02\n",
      "   2.13471789e+02   2.13389338e+02   2.11330280e+02   2.08077544e+02\n",
      "   2.06584416e+02   2.06078303e+02   2.01835505e+02   2.03918934e+02\n",
      "   2.03091205e+02   1.99675163e+02   1.97285249e+02   1.92322336e+02\n",
      "   1.88317641e+02   1.87498387e+02   1.89764009e+02   1.89555436e+02\n",
      "   1.89123851e+02   1.86385073e+02   1.82326099e+02   1.82792391e+02\n",
      "   1.81292550e+02   1.80368536e+02   1.80488069e+02   1.77862162e+02\n",
      "   1.73632631e+02   1.68198169e+02   1.67059613e+02   1.66673129e+02\n",
      "   1.64461704e+02   1.63673854e+02   1.60252151e+02   1.57163079e+02\n",
      "   1.56795797e+02   1.53911003e+02   1.52106257e+02   1.49784674e+02\n",
      "   1.46364471e+02   1.44351293e+02   1.39774906e+02   1.37471505e+02\n",
      "   1.36758360e+02   1.37053821e+02   1.38966667e+02   1.40626350e+02\n",
      "   1.37846195e+02   1.32747437e+02   1.30695582e+02   1.30512737e+02\n",
      "   1.29184824e+02   1.23784590e+02   1.18465003e+02   1.14036559e+02\n",
      "   1.11094543e+02   1.08607451e+02   1.10146948e+02   1.07460541e+02\n",
      "   1.06726042e+02   1.01754481e+02   1.02330435e+02   9.86406504e+01\n",
      "   9.82055315e+01   9.99763186e+01   9.61945043e+01   9.12945317e+01\n",
      "   8.81640498e+01   8.29983845e+01   8.24926750e+01   8.29647123e+01\n",
      "   8.20107991e+01   7.85169995e+01   7.80933261e+01   7.52920738e+01\n",
      "   7.43523035e+01   7.50519481e+01   6.79468835e+01   6.17997841e+01\n",
      "   6.02613391e+01   5.33176915e+01   5.38297414e+01   5.13158464e+01\n",
      "   4.91188437e+01   4.70101659e+01   5.25198925e+01   4.92607296e+01\n",
      "   4.28409704e+01   4.35034815e+01   4.31872318e+01   4.15651475e+01\n",
      "   4.10188375e+01   3.91481283e+01   3.73277628e+01   3.49424422e+01\n",
      "   3.12813505e+01   2.79772727e+01   2.86931757e+01   2.90789050e+01\n",
      "   2.79967811e+01   2.32662373e+01   2.42740980e+01   2.16299086e+01\n",
      "   1.52994076e+01   1.35462412e+01   1.78494272e+01   2.18010899e+01\n",
      "   1.66283711e+01   1.00247978e+01   7.52759740e+00   5.86147186e+00\n",
      "   7.84989201e+00   9.78617711e+00   1.20390667e+01   1.24092873e+01\n",
      "   1.07114455e+01   4.13740458e+00  -4.75516866e-01  -8.84907709e-01\n",
      "  -4.45689182e+00  -4.10181618e+00  -2.32730263e+00   4.60526316e-02\n",
      "  -2.81758602e+00  -3.42531233e+00  -5.85201306e+00  -4.98322511e+00\n",
      "  -7.10936654e+00  -6.81061850e+00  -8.97045952e+00  -1.09753829e+01\n",
      "  -1.12680131e+01  -7.40969163e+00  -4.09845133e+00  -5.71721085e+00\n",
      "  -7.38056013e+00  -8.45265463e+00  -1.34131507e+01  -1.29152079e+01\n",
      "  -9.87819467e+00  -1.17991266e+01  -1.12561384e+01  -1.41629588e+01\n",
      "  -1.64814815e+01]\n",
      "time for TOBS is 14.429320097\n"
     ]
    }
   ],
   "source": [
    "from numpy import linalg as LA\n",
    "STAT={}  # dictionary storing the statistics for each measurement\n",
    "Clean_Tables={}\n",
    "\n",
    "for meas in measurements:\n",
    "    t=time()\n",
    "    Query=\"SELECT * FROM weather\\n\\tWHERE measurement = '%s'\"%(meas)\n",
    "    print Query\n",
    "    df = sqlContext.sql(Query)\n",
    "    data=df.rdd.map(lambda row: unpackArray(row['vector'],np.float16))\n",
    "    #get very basic statistics\n",
    "    STAT[meas]=computeOverAllDist(data)   # Compute the statistics \n",
    "\n",
    "    # compute covariance matrix\n",
    "    OUT=computeCov(data)\n",
    "\n",
    "    #find PCA decomposition\n",
    "    eigval,eigvec=LA.eig(OUT['Cov'])\n",
    "\n",
    "    # collect all of the statistics in STAT[meas]\n",
    "    STAT[meas]['eigval']=eigval\n",
    "    STAT[meas]['eigvec']=eigvec\n",
    "    STAT[meas].update(OUT)\n",
    "\n",
    "    print 'time for',meas,'is',time()-t"
   ]
  },
  {
   "cell_type": "code",
   "execution_count": 19,
   "metadata": {
    "collapsed": false,
    "deletable": true,
    "editable": true,
    "run_control": {
     "frozen": false,
     "read_only": false
    },
    "slideshow": {
     "slide_type": "subslide"
    }
   },
   "outputs": [
    {
     "name": "stdout",
     "output_type": "stream",
     "text": [
      "total 199M\r\n",
      "-rw-rw-r-- 1 vaibhav vaibhav  79M May 11 10:03 STAT_BBBSBBBB.pickle\r\n",
      "-rw-rw-r-- 1 vaibhav vaibhav  13M May 11 10:03 US_Weather_BBBSBBBB.csv\r\n",
      "drwxrwxr-x 2 vaibhav vaibhav 4.0K May 11 10:03 US_Weather_BBBSBBBB.parquet\r\n",
      "-rw-rw-r-- 1 vaibhav vaibhav  218 May 11 10:03 data-source.txt\r\n",
      "drwxrwxr-x 2 vaibhav vaibhav  44K May 11 10:03 decon_BBBSBBBB.parquet\r\n",
      "drwxrwxr-x 2 vaibhav vaibhav  44K May 11 10:03 decon_BBBSBBBB_SNWD.parquet\r\n",
      "-rw-rw-r-- 1 vaibhav vaibhav  22K May 11 10:03 ghcnd-readme.txt\r\n",
      "drwxrwxr-x 2 vaibhav vaibhav  44K May 11 10:03 decon_BBBSBBBB_TOBS.parquet\r\n",
      "-rw-rw-r-- 1 vaibhav vaibhav 8.0M May 11 10:03 ghcnd-stations.txt\r\n",
      "-rw-rw-r-- 1 vaibhav vaibhav  270 May 11 10:03 ghcnd-version.txt\r\n",
      "-rw-rw-r-- 1 vaibhav vaibhav 7.5M May 11 10:03 ghcnd-stations_buffered.txt\r\n",
      "-rw-rw-r-- 1 vaibhav vaibhav 2.1M May 11 10:03 stations.pkl.gz\r\n",
      "-rw-rw-r-- 1 vaibhav vaibhav  13M May 13 13:56 US_Weather_SBSBBSSB.csv\r\n",
      "-rw-rw-r-- 1 vaibhav vaibhav  78M May 13 14:03 STAT_SBSBBSSB.pickle\r\n"
     ]
    }
   ],
   "source": [
    "from pickle import dump\n",
    "filename=data_dir+'/STAT_%s.pickle'%file_index\n",
    "dump((STAT,STAT_Descriptions),open(filename,'wb'))\n",
    "!ls -lrth $data_dir"
   ]
  }
 ],
 "metadata": {
  "anaconda-cloud": {},
  "celltoolbar": "Slideshow",
  "kernelspec": {
   "display_name": "Python [default]",
   "language": "python",
   "name": "python2"
  },
  "language_info": {
   "codemirror_mode": {
    "name": "ipython",
    "version": 2
   },
   "file_extension": ".py",
   "mimetype": "text/x-python",
   "name": "python",
   "nbconvert_exporter": "python",
   "pygments_lexer": "ipython2",
   "version": "2.7.12"
  },
  "name": "PCA_using_numpy for HW3",
  "notebookId": 85286,
  "toc": {
   "colors": {
    "hover_highlight": "#DAA520",
    "running_highlight": "#FF0000",
    "selected_highlight": "#FFD700"
   },
   "moveMenuLeft": true,
   "nav_menu": {
    "height": "245px",
    "width": "252px"
   },
   "navigate_menu": true,
   "number_sections": true,
   "sideBar": true,
   "threshold": 4,
   "toc_cell": false,
   "toc_section_display": "block",
   "toc_window_display": false
  }
 },
 "nbformat": 4,
 "nbformat_minor": 2
}
