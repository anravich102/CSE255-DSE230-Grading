{
 "cells": [
  {
   "cell_type": "code",
   "execution_count": 1,
   "metadata": {
    "scrolled": true
   },
   "outputs": [
    {
     "name": "stdout",
     "output_type": "stream",
     "text": [
      "![Highest res_1.png](result_plots/Highest res_1.png)\n",
      "![Highest res_3  (PRCP).png](result_plots/Highest res_3  (PRCP).png)\n",
      "![Highest res_3.png](result_plots/Highest res_3.png)\n",
      "![Least res_1.png](result_plots/Least res_1.png)\n",
      "![Least res_3 (PRCP).png](result_plots/Least res_3 (PRCP).png)\n",
      "![Least res_3.png](result_plots/Least res_3.png)\n",
      "![Low res_2, Highest positive coeff_2.png](result_plots/Low res_2, Highest positive coeff_2.png)\n",
      "![Lowest coeff_2.png](result_plots/Lowest coeff_2.png)\n",
      "![MN_coeff1.png](result_plots/MN_coeff1.png)\n",
      "![MN_coeff2.png](result_plots/MN_coeff2.png)\n",
      "![MP_coeff1.png](result_plots/MP_coeff1.png)\n",
      "![MP_coeff1_table.png](result_plots/MP_coeff1_table.png)\n",
      "![MP_coeff2.png](result_plots/MP_coeff2.png)\n",
      "![Mean+-std   PRCP.png](result_plots/Mean+-std   PRCP.png)\n",
      "![Mean+-std   SNOW.png](result_plots/Mean+-std   SNOW.png)\n",
      "![Mean+-std   SNWD.png](result_plots/Mean+-std   SNWD.png)\n",
      "![Mean+-std   TMAX.png](result_plots/Mean+-std   TMAX.png)\n",
      "![Mean+-std   TMIN.png](result_plots/Mean+-std   TMIN.png)\n",
      "![Mean+-std   TOBS.png](result_plots/Mean+-std   TOBS.png)\n",
      "![Most Negative coeff_1 (PRCP).png](result_plots/Most Negative coeff_1 (PRCP).png)\n",
      "![Most Negative coeff_1.png](result_plots/Most Negative coeff_1.png)\n",
      "![Most Negative coeff_2 (PRCP).png](result_plots/Most Negative coeff_2 (PRCP).png)\n",
      "![Most Negative coeff_2.png](result_plots/Most Negative coeff_2.png)\n",
      "![Most Negative res_1.png](result_plots/Most Negative res_1.png)\n",
      "![Most Positive coeff_1 (PRCP).png](result_plots/Most Positive coeff_1 (PRCP).png)\n",
      "![Most Positive coeff_1.png](result_plots/Most Positive coeff_1.png)\n",
      "![Most Positive coeff_2 (PRCP).png](result_plots/Most Positive coeff_2 (PRCP).png)\n",
      "![Most Positive coeff_2.png](result_plots/Most Positive coeff_2.png)\n",
      "![Most Positive res_1.png](result_plots/Most Positive res_1.png)\n",
      "![PRCP.png](result_plots/PRCP.png)\n",
      "![PRCP_MAP.png](result_plots/PRCP_MAP.png)\n",
      "![PRCP_Map2.png](result_plots/PRCP_Map2.png)\n",
      "![PRCP_norm.png](result_plots/PRCP_norm.png)\n",
      "![Percent of variance explainedPRCP.png](result_plots/Percent of variance explainedPRCP.png)\n",
      "![SNOW_MAP.png](result_plots/SNOW_MAP.png)\n",
      "![SNOW_Map2.png](result_plots/SNOW_Map2.png)\n",
      "![SNWD Eigs.png](result_plots/SNWD Eigs.png)\n",
      "![SNWD_MAP.png](result_plots/SNWD_MAP.png)\n",
      "![SNWD_Map2.png](result_plots/SNWD_Map2.png)\n",
      "![Snow_norm.png](result_plots/Snow_norm.png)\n",
      "![TMAX_MAP.png](result_plots/TMAX_MAP.png)\n",
      "![TMAX_Map2.png](result_plots/TMAX_Map2.png)\n",
      "![TOBS_MAP.png](result_plots/TOBS_MAP.png)\n",
      "![TOBS_Map2.png](result_plots/TOBS_Map2.png)\n",
      "![Temp_norm.png](result_plots/Temp_norm.png)\n",
      "![Top Eigenvectors PRCP.png](result_plots/Top Eigenvectors PRCP.png)\n",
      "![Top Eigenvectors SNOW.png](result_plots/Top Eigenvectors SNOW.png)\n",
      "![Top Eigenvectors SNWD.png](result_plots/Top Eigenvectors SNWD.png)\n",
      "![Top Eigenvectors TMAX.png](result_plots/Top Eigenvectors TMAX.png)\n",
      "![Top Eigenvectors TMIN.png](result_plots/Top Eigenvectors TMIN.png)\n",
      "![Top Eigenvectors TOBS.png](result_plots/Top Eigenvectors TOBS.png)\n",
      "![coeff1_map.png](result_plots/coeff1_map.png)\n",
      "![coeff2_map.png](result_plots/coeff2_map.png)\n",
      "![coeff3_map.png](result_plots/coeff3_map.png)\n",
      "![cov.png](result_plots/cov.png)\n",
      "![cov_matrix.png](result_plots/cov_matrix.png)\n",
      "![cumulative distribution of coeff_2 for PRCP.png](result_plots/cumulative distribution of coeff_2 for PRCP.png)\n",
      "![cumulative distribution of coeff_2 for SNWD.png](result_plots/cumulative distribution of coeff_2 for SNWD.png)\n",
      "![cumulative distribution of coeff_2.png](result_plots/cumulative distribution of coeff_2.png)\n",
      "![cumulative distribution of coeff_2for PRCP.png](result_plots/cumulative distribution of coeff_2for PRCP.png)\n",
      "![cumulative distribution of coeff_2for SNWD.png](result_plots/cumulative distribution of coeff_2for SNWD.png)\n",
      "![cumulative distribution of res_2 for PRCP.png](result_plots/cumulative distribution of res_2 for PRCP.png)\n",
      "![cumulative distribution of res_2 for SNWD.png](result_plots/cumulative distribution of res_2 for SNWD.png)\n",
      "![cumulative distribution of res_2.png](result_plots/cumulative distribution of res_2.png)\n",
      "![cumulative distribution of res_2for PRCP.png](result_plots/cumulative distribution of res_2for PRCP.png)\n",
      "![cumulative distribution of res_2for SNWD.png](result_plots/cumulative distribution of res_2for SNWD.png)\n",
      "![elevation_vs_PRCP.png](result_plots/elevation_vs_PRCP.png)\n",
      "![elevation_vs_SNOW.png](result_plots/elevation_vs_SNOW.png)\n",
      "![elevation_vs_SNWD.png](result_plots/elevation_vs_SNWD.png)\n",
      "![elevation_vs_TMAX.png](result_plots/elevation_vs_TMAX.png)\n",
      "![elevation_vs_TMIN.png](result_plots/elevation_vs_TMIN.png)\n",
      "![elevation_vs_TOBS.png](result_plots/elevation_vs_TOBS.png)\n",
      "![highest_res1.png](result_plots/highest_res1.png)\n",
      "![hres1_prcp.png](result_plots/hres1_prcp.png)\n",
      "![latitude_vs_PRCP.png](result_plots/latitude_vs_PRCP.png)\n",
      "![latitude_vs_SNOW.png](result_plots/latitude_vs_SNOW.png)\n",
      "![latitude_vs_SNWD.png](result_plots/latitude_vs_SNWD.png)\n",
      "![latitude_vs_TMAX.png](result_plots/latitude_vs_TMAX.png)\n",
      "![latitude_vs_TMIN.png](result_plots/latitude_vs_TMIN.png)\n",
      "![latitude_vs_TOBS.png](result_plots/latitude_vs_TOBS.png)\n",
      "![least_res1.png](result_plots/least_res1.png)\n",
      "![lres1_prcp.png](result_plots/lres1_prcp.png)\n",
      "![pca.png](result_plots/pca.png)\n",
      "![pca_snwd.png](result_plots/pca_snwd.png)\n",
      "![res1_map.png](result_plots/res1_map.png)\n",
      "![res2_map.png](result_plots/res2_map.png)\n",
      "![sanity_check.png](result_plots/sanity_check.png)\n",
      "![sig.png](result_plots/sig.png)\n",
      "![significance.png](result_plots/significance.png)\n",
      "![stations_map.png](result_plots/stations_map.png)\n",
      "![valid-counts PRCP.png](result_plots/valid-counts PRCP.png)\n",
      "![valid-counts SNOW.png](result_plots/valid-counts SNOW.png)\n",
      "![valid-counts SNWD.png](result_plots/valid-counts SNWD.png)\n",
      "![valid-counts TMAX.png](result_plots/valid-counts TMAX.png)\n",
      "![valid-counts TMIN.png](result_plots/valid-counts TMIN.png)\n",
      "![valid-counts TOBS.png](result_plots/valid-counts TOBS.png)\n",
      "![year_vs_PRCP.png](result_plots/year_vs_PRCP.png)\n",
      "![year_vs_SNOW.png](result_plots/year_vs_SNOW.png)\n",
      "![year_vs_SNWD.png](result_plots/year_vs_SNWD.png)\n",
      "![year_vs_TMAX.png](result_plots/year_vs_TMAX.png)\n",
      "![year_vs_TMIN.png](result_plots/year_vs_TMIN.png)\n",
      "![year_vs_TOBS.png](result_plots/year_vs_TOBS.png)\n"
     ]
    }
   ],
   "source": [
    "L=!ls result_plots/\n",
    "for l in L:\n",
    "    print \"![%s](result_plots/%s)\"%(l,l)"
   ]
  },
  {
   "cell_type": "markdown",
   "metadata": {},
   "source": [
    "# 1. North Dakota/Manitoba Weather Analysis\n",
    "\n",
    "This is a report on the historical analysis of weather patterns in an area that overlaps the area of the state of North Dakota, US and Manitoba, Canada.\n",
    "\n",
    "The data we will use here comes from [NOAA](https://www.ncdc.noaa.gov/). Specifically, it was downloaded from This [FTP site](ftp://ftp.ncdc.noaa.gov/pub/data/ghcn/daily/).\n",
    "\n",
    "We focused on six measurements:\n",
    "* **TMIN, TMAX:** the daily minimum and maximum temperature (tenths of degrees C).\n",
    "* **TOBS:** The average temperature for each day (tenths of degrees C).\n",
    "* **PRCP:** Daily Percipitation (in tenths of mm)\n",
    "* **SNOW:** Daily snowfall (in mm)\n",
    "* **SNWD:** The depth of accumulated snow (in mm).\n",
    "\n",
    "Below is our area of interest with a few of the stations marked in circles. The area of the circle indicates the valid number of SNWD readings from that station.\n",
    "\n",
    "![stations_map.png](result_plots/stations_map.png)\n"
   ]
  },
  {
   "cell_type": "markdown",
   "metadata": {},
   "source": [
    "## 2. Cilmate in North Dakota/Manitoba\n",
    "\n",
    "North Dakota's climate is typical of a continental climate with cold winters and warm-hot summers. The state's location in the Upper Midwest allows it to experience some of the widest variety of weather in the United States, and each of the four seasons has its own distinct characteristics.\n",
    "\n",
    "Winter in North Dakota is characterized by cold (below freezing) temperatures and snowfall. Snow is the main form of winter precipitation, but freezing rain, ice, sleet, and sometimes even rain are all possible during the winter months. Annual snowfall averages from 26 inches (66 cm) in the central part of the state to 38 inches (96.5 cm) in the northeast and southwest.\n",
    "\n",
    "Summer sees heat and humidity predominate in the east, while hotter and less humid conditions are generally present in the west. These humid conditions help kick off thunderstorm activity 22–34 days a year. Summer high temperatures in North Dakota average in the mid 80s (30 °C) in the west to the upper 70s (25 °C) in the east, with temperatures as hot as 121 °F (49 °C) possible.\n",
    "\n",
    "We will observe the above mentioned trends in our analysis below.\n",
    "\n",
    "Source: Wikipedia.com"
   ]
  },
  {
   "cell_type": "markdown",
   "metadata": {},
   "source": [
    "## 3. Sanity-check: comparison with outside sources\n",
    "\n",
    "<p>We start by comparing some of the general statistics with graphs that we obtained from a site called <a href=\"http://www.usclimatedata.com/climate/boston/massachusetts/united-states/usma0046\" target=\"_blank\">US Climate Data</a> The graph below shows the daily minimum and maximum temperatures for each month, as well as the total precipitation for each month.</p>\n",
    "\n",
    "<p>&nbsp;</p>\n",
    "\n",
    "<p><img alt=\"Climate_Minot-North_Dakota_and_Weather_averages_Minot.jpg\" src=\"result_plots/sanity_check.png\" /></p>\n",
    "\n",
    "<p>&nbsp;</p>\n",
    "\n",
    "<p>We see that the min and max daily&nbsp;temperature agree with the ones we got from our data.</p>\n",
    "\n",
    "<p>&nbsp;</p>\n",
    "\n",
    "<p><img alt=\"TMIN,TMAX.png\" src=\"result_plots/Mean+-std   TMAX.png\" style=\"height:300px; width:800px\" /></p>\n",
    "\n",
    "<p>According to our analysis the average rainfall is 3.00 mm/day in the month of June. According to US-Climate-Data the average rainfall is around 90mm per month which roughly similar to what we compute. There is clear agreement that average precipitation&nbsp;increases in the months from May to August./p>\n",
    "\n",
    "<p>&nbsp;<img alt=\"PRCP.png\" src=\"result_plots/Mean+-std   PRCP.png\" style=\"height:300px; width:800px\" /></p>\n"
   ]
  },
  {
   "cell_type": "markdown",
   "metadata": {},
   "source": [
    "## 4. Sanity-check: eigenvalues\n",
    "\n",
    "From the analysis, it was evident that for few cases (like SNWD), the covariance matrix has negative eigenvalues. Since the covariance matrix is a positive semi-definite matrix the eigenvalues should've been positive but the negative eigenvalues implies that their must have been some problems with the data collection and pre-processing step. A possible reason could be the presence of Nan or missing values in the data and our techniques to deal with the missing values to compute the covariance matrix might have led to a non-positive semidefinite covariance matrix. For example, in the pre-processing step for computing the covariance matrix, we take zeros instead of Nan and remove their counts from the sum in the denominators of expected values. We will also see some of the residuals greater than 1, which are because of the negative eigenvalues.\n"
   ]
  },
  {
   "cell_type": "markdown",
   "metadata": {},
   "source": [
    "## 5. Map Exploration\n",
    "\n",
    "In this section we'll explore the trends of different measurements across the geographical area. The plots below show the top 15 stations (out of total more than 100), which recorded the maximum mean value for the particular measurement. The size of the circle represents the count of valid observations and the darkness of the color represent the actual value (More dark => Higher the value).\n",
    "\n",
    "#### Max SNOW\n",
    "![SNOW_Map2.png](result_plots/SNOW_Map2.png)\n",
    "\n",
    "From the snow map, it is evident that it snows more on the northern part of our region of interest, which is expected. Most of the stations reporting high snowfall are from Canada.\n",
    "\n",
    "#### Max SNWD\n",
    "![SNWD_Map2.png](result_plots/SNWD_Map2.png)\n",
    "\n",
    "As expected from the snow map, snow depth is more on the northern part along the similar areas where there was high snowfall.\n",
    "\n",
    "\n",
    "\n",
    "#### Max PRCP\n",
    "![PRCP_Map2.png](result_plots/PRCP_Map2.png)\n",
    "\n",
    "The precipitation map is interesting because we can clearly observe that the precipitation is higher on the east side of the region.\n",
    "\n",
    "#### Max TOBS\n",
    "![TOBS_Map2.png](result_plots/TOBS_Map2.png)\n",
    "\n",
    "The observed temperature is higher on the southern side of the area which might explain the less snowfall and snowdepth in the region.\n",
    "\n",
    "\n",
    "#### Max TMAX\n",
    "![TMAX_Map2.png](result_plots/TMAX_Map2.png)\n",
    "\n",
    "The max temperature is higher on the southern side of the area similar to temperature observed explaining the less snowfall and snowdepth in the region. However, the temperature (Max) is higher on the western side station as compared to the eastern.\n"
   ]
  },
  {
   "cell_type": "markdown",
   "metadata": {},
   "source": [
    "## 6. Temporal Trends\n",
    "\n",
    "\n",
    "In this analysis, we plot the average value of measurement (in a day) with years.\n",
    "\n",
    "![year_vs_SNOW.png](result_plots/year_vs_SNOW.png)\n",
    "\n",
    "From this plot, we can observe that the snowfall has increased over the years from 1940s. We also see several peaks in the plot indicating very heavy snowfall years.\n",
    "\n",
    "![year_vs_SNWD.png](result_plots/year_vs_SNWD.png)\n",
    "\n",
    "Unexpected from the snow plot, the snow depth haven't increased much as compared to the increase in snowfall, which is odd given a causation relation between the two.\n",
    "\n",
    "![year_vs_PRCP.png](result_plots/year_vs_PRCP.png)\n",
    "\n",
    "Precipitation seems to have increased in the last decade or two.\n",
    "\n",
    "\n",
    "![year_vs_TMIN.png](result_plots/year_vs_TMIN.png)\n",
    "\n",
    "The temperature (min) seems to have increased from 1960s and appears to be on an increasing trend, which might explain the global warming.\n",
    "\n"
   ]
  },
  {
   "cell_type": "markdown",
   "metadata": {},
   "source": [
    "## 7. Elevation Dependence\n",
    "\n",
    "In this region, the elevation varies only from 350ft. to 700ft., so we don't observe any significant patterns from plotting elevation with other measurements. The plot below shows the relation between elevation and snow depth.\n",
    "\n",
    "![elevation_vs_SNOW.png](result_plots/elevation_vs_SNOW.png)\n"
   ]
  },
  {
   "cell_type": "markdown",
   "metadata": {},
   "source": [
    "## 8. PCA analysis\n",
    "\n",
    "For each of the six measurement, we compute the percentate of the variance explained as a function of the number of eigen-vectors used.\n",
    "\n",
    "### Percentage of variance explained.\n",
    "![Temp_norm.png](result_plots/Temp_norm.png)\n",
    "We see that the top 5 eigen-vectors explain 17.5% of variance for TMIN, 35% for TOBS and 20% for TMAX.\n",
    "\n",
    "We conclude that of the three, TOBS is best explained by the top 5 eigenvectors. This is especially true for the first eigen-vector which, by itself, explains 22% of the variance.\n",
    "\n",
    "![Snow_norm.png](result_plots/Snow_norm.png)\n",
    "\n",
    "The top 5 eigenvectors explain 8% of the variance for PRCP and 12% for SNOW. Both are low values. On the other hand the top 5 eigenvectors explain 85% of the variance for SNWD. This means that these top 5 eigenvectors capture most of the variation in the snow signals. Based on that we will dig deeper into the PCA analysis for snow-depth.\n",
    "\n",
    "It makes sense that SNWD would be less noisy than SNOW. That is because SNWD is a decaying integral of SNOW and, as such, varies less between days and between the same date on diffferent years.\n",
    "\n",
    "Given the fact that the eigenvectors cannot explain the PRCP well, we will also perform an in-depth analysis of the Precipitation."
   ]
  },
  {
   "cell_type": "markdown",
   "metadata": {},
   "source": [
    "## 9. Analysis of snow depth\n",
    "\n",
    "We choose to analyze the eigen-decomposition for snow-depth because the first 5 eigen-vectors explain 85% of the variance.\n",
    "\n",
    "Since Snow Fall is the reason for Snow Depth, we will see some basic analysis of SNOW too but would not go in depth.\n",
    "First, we plot the valid counts for SNOW and SNWD averaged over the month of a year. Then we graph the mean and the top 3 eigen-vectors for SNOW and SNWD.\n",
    "\n",
    "We can see that the number of valid observations increase in the months of April to October for both SNOW and SNWD. \n",
    "\n",
    "![valid-counts SNWD.png](result_plots/valid-counts SNWD.png)\n",
    "\n",
    "From the SNOW plot, we can observe that the snow season is from october to the end of may, where the middle of February-March marks the peak of the snow-depth. Since this region is in the nothern part of the country the snow depth can go upto 40-45cm in February-March with mean being around 20cm.\n",
    "\n",
    "![Mean+-std   SNWDpng](result_plots/Mean+-std   SNWD.png)\n",
    "\n",
    "From the first 2 SNOW eigenvectors, we can observe that the spikes in the eigenvectors try to capture the snowfall patterns in the months of october to may. This could be attributed to the fact that snowfall pattern is fluctuating/noisy as we saw from the above plot.\n",
    "\n",
    "However, the SNWD eigenvectors look a lot less noisy and they appear to be trying to capture a pattern. The first eigenvector clearly tries to capture the snow depth between January and April. The second eigenvector tries to capture the extra snow depth in March-April as compared to other months. While the third eigenvector captures similar infomation for Jan-Feb.\n",
    "\n",
    "\n",
    "![Top Eigenvectors SNWD.png](result_plots/Top Eigenvectors SNWD.png)\n",
    "\n"
   ]
  },
  {
   "cell_type": "markdown",
   "metadata": {},
   "source": [
    "### 9.1. Eigenvectors and Reconstruction"
   ]
  },
  {
   "cell_type": "markdown",
   "metadata": {},
   "source": [
    "Next we interpret the eigen-functions. The first eigen-function (eig1) has a shape very similar to the mean function. The main difference is that the eigen-function is close to zero during Oct-Dec while the mean is not. The interpretation of this shape is that eig1 represents the overall amount of snow above/below the mean, but without changing the distribution over time. Mathematically, the first eigenvector is the direction of vector from origin to the mean of the data.\n",
    "\n",
    "**eig2, eig3 and eig4** are similar in the following way. They all oscilate between positive and negative values. In other words, they correspond to changing the distribution of the snow depth over the winter months, but they don't change the total (much).\n",
    "\n",
    "They can be interpreted as follows:\n",
    "* **eig2:** less snow depth in nov - mid feb, more snow in mid feb-april.\n",
    "* **eig3:** more snow depth in jan-mid feb, less snow in march-mid april.\n",
    "* **eig4:** more snow depth in jan and mid-march to april, less snow in end of feb and first half of march.\n",
    "\n",
    "![SNWD Eigs.png](result_plots/SNWD Eigs.png)"
   ]
  },
  {
   "cell_type": "markdown",
   "metadata": {},
   "source": [
    "### 9.2. Reconstructions"
   ]
  },
  {
   "cell_type": "markdown",
   "metadata": {},
   "source": [
    "#### Criteria: Highest res_1"
   ]
  },
  {
   "cell_type": "markdown",
   "metadata": {},
   "source": [
    "![highest_res1.png](result_plots/highest_res1.png)\n",
    "\n",
    "These plots show the reconstruction for targets with highest res_1 (residue after first eigenvector). As we clearly observe that the reconstructions are very bad for these plots. A possible reason for this is the lack of valid values in the target. As all of these target contains many missing values, it is difficult to construct a good approximation for them using the eigenvectors. We also see that for most of these plots the snow depth in fluctating/abarupt as opposed to the eigenvectors which are more smooth."
   ]
  },
  {
   "cell_type": "markdown",
   "metadata": {},
   "source": [
    "#### Criteria: Least res_1"
   ]
  },
  {
   "cell_type": "markdown",
   "metadata": {},
   "source": [
    "![least_res1.png](result_plots/least_res1.png)\n",
    "\n",
    "These plots show the reconstruction for targets with lowest res_1 (residue after first eigenvector). As the residue is low, the reconstructions here are very good. The reason for this is that all of the targets follow a pattern similar to the first eigenvector, therefore eig_1 is able to capture the structure of target very well. The snow depth starts increasing from December, achieving maximum in Feb-March and then starts to decrease till end of april to become around zero till december. "
   ]
  },
  {
   "cell_type": "markdown",
   "metadata": {},
   "source": [
    "#### Criteria: Most Positive Coeff_1"
   ]
  },
  {
   "cell_type": "markdown",
   "metadata": {},
   "source": [
    "![MP_coeff1.png](result_plots/MP_coeff1.png)\n",
    "\n",
    "These plots show the reconstruction for targets with maximum positive coeff1 (coefficients for eigenvector 1 for the target). Maximum Positive coeff1 would imply that the pattern observed for the target is very similar to the pattern being captured by eig_1, which is clearly evident from the plots here. All the targets, the snow depth starts increasing from December, achieving maximum in Feb-March and then starts to decrease till end of april to become around zero till december. Since this eig_1 is capturing the pattern of targets very well, it is expected that their residual_1 will be very low. This can be seen from the table below. Infact, both of these parameters give the plots of same year/station.\n",
    "\n",
    "![MP_coeff1_table.png](result_plots/MP_coeff1_table.png)\n",
    "\n"
   ]
  },
  {
   "cell_type": "markdown",
   "metadata": {},
   "source": [
    "#### Criteria: Most Negative Coeff_1"
   ]
  },
  {
   "cell_type": "markdown",
   "metadata": {},
   "source": [
    "![MN_coeff1.png](result_plots/MN_coeff1.png)\n",
    "\n",
    "These plots show the reconstruction for targets with most negative coeff1 (coefficients for eigenvector 1 for the target). Most negative coeff1 would imply that the target shows a pattern in the opposite direction of eig_1 from the mean. This means that the target will have less snow depth from Jan-April and more snow depth from late nov-dec. These negative coeff_1 basically capture the cases of early snow."
   ]
  },
  {
   "cell_type": "markdown",
   "metadata": {},
   "source": [
    "#### Criteria: Most Positive Coeff_2"
   ]
  },
  {
   "cell_type": "markdown",
   "metadata": {},
   "source": [
    "![MP_coeff2.png](result_plots/MP_coeff2.png)\n",
    "\n",
    "These plots show the reconstruction for targets with maximum positive coeff2 (coefficients for eigenvector 2 for the target). Maximum Positive coeff2 would imply that the pattern observed for the target is very similar to the pattern being captured by eig_2, which is clearly evident from the plots here. All the targets, the snow depth starts increasing from late december, achieving maximum in March and then starts to decrease till end of April to become around zero till december where is starts to increase very gradually. This is mostly the cases of late snowfall."
   ]
  },
  {
   "cell_type": "markdown",
   "metadata": {},
   "source": [
    "#### Criteria: Most Negative Coeff_2"
   ]
  },
  {
   "cell_type": "markdown",
   "metadata": {},
   "source": [
    "![MN_coeff2.png](result_plots/MN_coeff2.png)\n",
    "\n",
    "These plots show the reconstruction for targets with most negative coeff2 (coefficients for eigenvector 2 for the target). Most negative coeff2 would imply that the target shows a pattern in the opposite direction of eig_2 from the mean. This means that the target will have more snow depth in the early months of Dec-Feb and will be around zero in the late winter months of March-April till next December. This is opposite pattern to the eigenvector 2 which tries to capture the late snow depth pattern. "
   ]
  },
  {
   "cell_type": "markdown",
   "metadata": {},
   "source": [
    "### 9.3. Analysis of Residuals\n",
    "\n",
    "Since the eigenvectors are very successful in explaining the variance of SNWD, the residuals in general should be less for most of the data. The plot below shows the cummulative distribution of residuals and coeffs for the SNWD.\n",
    "\n",
    "![cumulative distribution of res_2 for SNWD.png](result_plots/cumulative distribution of res_2 for SNWD.png)\n",
    "\n",
    "The better the explained variance the more steep would the increase be in the above plot. The plot for res_2 vs number of instances is linear almost here meaning that about 50% of the data has residual less than 0.5.\n",
    "\n",
    "![cumulative distribution of coeff_2 for SNWD.png](result_plots/cumulative distribution of coeff_2 for SNWD.png)\n",
    "\n",
    "A large positive/negative coeff implies that the eigenvector was able to capture the trend of the target data point. From the plot above, we can observe a high number of large positive/negative coefficients meaning that the eigenvector explains a good amount of variance.\n",
    "\n"
   ]
  },
  {
   "cell_type": "markdown",
   "metadata": {},
   "source": [
    "### 9.4. GeoSpatial Analysis of Residuals/Coefficients\n",
    "\n",
    "The below plots explain the effectiveness of eigenvectors over different stations. \n",
    "Here, we plot the mean residual and coefficients over different stations.\n",
    "\n",
    "#### residual_1\n",
    "\n",
    "![res1_map.png](result_plots/res1_map.png)\n",
    "\n",
    "The regions in the north (Canada) have the least residue and they thus follow the pattern in the direction of eig_1 which is similar to the mean.\n",
    "\n",
    "#### coeff_1\n",
    "\n",
    "![coeff1_map.png](result_plots/coeff1_map.png)\n",
    "\n",
    "The stations in the northern part have high absolute value of the coeff_1 explaining the low residual in the reigion.\n",
    "\n",
    "\n",
    "#### coeff_2\n",
    "\n",
    "![coeff2_map.png](result_plots/coeff2_map.png)\n",
    "\n",
    "The stations with high coeff_2 here correspond to the ones that observe late snow from feb-april. These are the stations in the US region (southern).\n",
    "\n",
    "#### coeff_3\n",
    "\n",
    "![coeff3_map.png](result_plots/coeff3_map.png)\n",
    "\n",
    "The stations with high coeff_3 here correspond to the ones that observe snow in jan-feb. These are stations mostly in the northern part of Canada.\n"
   ]
  },
  {
   "cell_type": "markdown",
   "metadata": {},
   "source": [
    "### 9.5. Spatial or Temporal variation\n",
    "\n",
    "We now estimate the relative importance of location-to-location variation relative to year-by-year variation.\n",
    "\n",
    "#### SNWD\n",
    "\n",
    "total RMS                   =  646.118083143 <br>\n",
    "RMS removing mean-by-station=  617.690398605 <br>\n",
    "RMS removing mean-by-year   =  389.181405429 <br>\n",
    "\n",
    "#### PRCP\n",
    "total RMS                   =  110.265788722 <br>\n",
    "RMS removing mean-by-station=  109.501931679 <br>\n",
    "RMS removing mean-by-year   =  53.6915790934 <br>\n",
    "\n",
    "#### SNOW\n",
    "total RMS                   =  39.9790634584 <br>\n",
    "RMS removing mean-by-station=  39.4964997947 <br>\n",
    "RMS removing mean-by-year   =  17.6213359786 <br>\n",
    "\n",
    "#### TMIN\n",
    "total RMS                   =  204.075467886 <br>\n",
    "RMS removing mean-by-station=  175.680983293 <br>\n",
    "RMS removing mean-by-year   =  79.9746427747 <br>\n",
    "\n",
    "From the above analysis, we can see that the reduction in RMS is more for the mean-by-year case, therefore variation by year expalins more than variation by station and this holds true for all the four measurements stated above.\n",
    "\n"
   ]
  },
  {
   "cell_type": "markdown",
   "metadata": {},
   "source": [
    "## 10. Analysis of Precipitation\n",
    "\n",
    "We choose to analyze the eigen-decomposition for precipitation because the eigen-vectors don't expalin the variance.\n",
    "\n",
    "\n",
    "\n",
    "We can see that the number of valid observations increase in the months of April to October for PRCP. \n",
    "\n",
    "![valid-counts SNWD.png](result_plots/valid-counts PRCP.png)\n",
    "\n",
    "From the PRCP plot, we can observe that the rain season is from may to september. The rainfall can go upto 15cm in a day in June-July.\n",
    "\n",
    "![Mean+-std   SNWDpng](result_plots/Mean+-std   PRCP.png)\n",
    "\n",
    "The eigenvectors for PRCP show very abrupt patterns. Like the eig_1 is trying to capture the rainfall for a few days in MAy, June and October. Similarly, eig_2 tries to capture the not-raining (actually giving high negative weights to rain) for some days in July and August.\n",
    "\n",
    "![Top Eigenvectors SNWD.png](result_plots/Top Eigenvectors PRCP.png)\n",
    "\n"
   ]
  },
  {
   "cell_type": "markdown",
   "metadata": {},
   "source": [
    "### 10.1. Reconstructions"
   ]
  },
  {
   "cell_type": "markdown",
   "metadata": {},
   "source": [
    "#### Criteria: Highest res_1"
   ]
  },
  {
   "cell_type": "markdown",
   "metadata": {},
   "source": [
    "![hres1_prcp.png](result_plots/hres1_prcp.png)\n",
    "\n",
    "As we can see from these plots, the highest residue 1 targets don't have a good reconstruction because of the abrupt nature of the rainfall, which is not being captured by the eigen-vectors."
   ]
  },
  {
   "cell_type": "markdown",
   "metadata": {},
   "source": [
    "#### Criteria: Least res_1"
   ]
  },
  {
   "cell_type": "markdown",
   "metadata": {},
   "source": [
    "![lres1_prcp.png](result_plots/lres1_prcp.png)\n",
    "\n",
    "These plots show the reconstruction for targets with lowest res_1 (residue after first eigenvector). Even though we select the targets with lowest residue, the reconstruction is not very good because of the noisy rainfall. However, it is slightly more consistent from the highest residue plots."
   ]
  },
  {
   "cell_type": "markdown",
   "metadata": {},
   "source": [
    "### 10.2. Analysis of Residuals\n",
    "\n",
    "Since the eigenvectors are not very successful in explaining the variance of PRCP, the residuals in general should be more for most of the data. The plot below shows the cummulative distribution of residuals and coeffs for the PRCP.\n",
    "\n",
    "![cumulative distribution of res_2 for PRCP.png](result_plots/cumulative distribution of res_2 for PRCP.png)\n",
    "\n",
    "The less the explained variance the less steep would the increase be in the above plot. The plot for res_2 vs number of instances is almost flat here meaning that only about 10% of the data has residual less than 0.9.\n",
    "\n",
    "![cumulative distribution of coeff_2 for PRCP.png](result_plots/cumulative distribution of coeff_2 for PRCP.png)\n",
    "\n",
    "Low number of absolute positive/negative coeff implies that the eigenvector was not able to capture the trend of the target data point. From the plot above, we can observe a low number of large positive/negative coefficients meaning that the eigenvector cannot explain a good amount of variance.\n",
    "\n"
   ]
  },
  {
   "cell_type": "markdown",
   "metadata": {},
   "source": [
    "### 10.3. Analysis of Correlation between Rainfall among Locations\n",
    "\n",
    "Since the eigenvectors don't explain the rainfall patterns very well, therefore we are doing a in-depth analysis of the precipitation. We perform the p-value analysis with a null-hypothesis that the rainfall between two stations is independent. As mentioned in the notebook, the analysis of finding the correlation between the amount of rainfall can be difficult so we'll only analyze whether the rainfall happened on a day or not.\n",
    "\n",
    "![sig.png](result_plots/sig.png)\n",
    "\n",
    "We can see from the above plot that the significance is not much for most of the cases expect the same stations which show have a default significance of 0.4, thus a peak at the end.\n",
    "\n",
    "\n",
    "![cov.png](result_plots/cov.png)\n",
    "\n",
    "From the p-norm matrix, we can see that the correlation is not high, however, the first 65 stations are highly correlated to each other and the 65-122 stations also show a correlation with each other.\n",
    "\n",
    "![pca.png](result_plots/pca.png)\n",
    "\n",
    "Next, we perform a SVD on this matrix to observe some inherent correlation between the stations. From matrix 1, we can observe that stations 1-40 are highly correlated and 100-120 stations also show some correlation. However, other than that most of this matrix doesn't show any correlation between the stations. \n",
    "\n",
    "\n",
    "From our analysis we can conclude that rainfall is mostly random across the stations, with only a few stations showing some correlation with each other.\n",
    "\n"
   ]
  },
  {
   "cell_type": "code",
   "execution_count": null,
   "metadata": {
    "collapsed": true
   },
   "outputs": [],
   "source": []
  }
 ],
 "metadata": {
  "anaconda-cloud": {},
  "kernelspec": {
   "display_name": "Python [Root]",
   "language": "python",
   "name": "Python [Root]"
  },
  "language_info": {
   "codemirror_mode": {
    "name": "ipython",
    "version": 2
   },
   "file_extension": ".py",
   "mimetype": "text/x-python",
   "name": "python",
   "nbconvert_exporter": "python",
   "pygments_lexer": "ipython2",
   "version": "2.7.13"
  }
 },
 "nbformat": 4,
 "nbformat_minor": 1
}
