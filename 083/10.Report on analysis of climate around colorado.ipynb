{
 "cells": [
  {
   "cell_type": "markdown",
   "metadata": {
    "run_control": {
     "frozen": false,
     "read_only": false
    }
   },
   "source": [
    "# Colorado Weather Analysis\n",
    "\n",
    "<p><img alt=\"Colorado_region.png\" src=\"r_figures/Colorado_region.png\" style=\"height:400px; width:900px\"/></p>\n",
    "\n",
    "This is a report on the historical analysis of weather patterns in an area that approximately overlaps the area of the state of Colorado.\n",
    "\n",
    "The data we will use here comes from [NOAA](https://www.ncdc.noaa.gov/). Specifically, it was downloaded from This [FTP site](ftp://ftp.ncdc.noaa.gov/pub/data/ghcn/daily/).\n",
    "\n",
    "We focused on six measurements:\n",
    "* **TMIN, TMAX:** the daily minimum and maximum temperature.\n",
    "* **TOBS:** The average temperature for each day.\n",
    "* **PRCP:** Daily Percipitation (in mm)\n",
    "* **SNOW:** Daily snowfall (in mm)\n",
    "* **SNWD:** The depth of accumulated snow.\n",
    "\n",
    "## Sanity-check: comparison with outside sources\n",
    "\n",
    "<p>We start by comparing some of the general statistics with graphs that we obtained from a site called <a href=\"http://www.usclimatedata.com/climate/colorado/united-states/3175\" target=\"_blank\">US Climate Data</a> The graph below shows the daily minimum and maximum temperatures for each month, as well as the total precipitation for each month.</p>\n",
    "\n",
    "<p>&nbsp;</p>\n",
    "\n",
    "<p><img alt=\"Climate_colorado.png\" src=\"r_figures/Climate_colorado.png\" style=\"height:450px; width:600px\"/></p>\n",
    "\n",
    "<p>&nbsp;</p>\n",
    "\n",
    "<p>We see that the min and max daily&nbsp;temperature agree with the ones we got from our data, once we translate Fahrenheit to Centigrade.</p>\n",
    "\n",
    "<p>&nbsp;</p>\n",
    "\n",
    "<p><img alt=\"TMIN,TMAX,PRCP.png\" src=\"r_figures/TMIN,TMAX,PRCP.png\" style=\"height:400px; width:600px\" /></p>\n",
    "\n",
    "<p>To compare the precipitation&nbsp;we need to translate millimeter/day to inches/month. According to our analysis the average rainfall is 1.25 mm/day which translates to about 1.5 Inches&nbsp;per month. According to US-Climate-Data the average rainfall is closer to 1.2 inch per month. However, there is clear agreement that average precipitation&nbsp;is close to a constant throughout the year</p>\n",
    "\n"
   ]
  },
  {
   "cell_type": "markdown",
   "metadata": {},
   "source": [
    "## Regional Analysis\n",
    "\n",
    "If we see the area mentioned in the map, there are 3 different type of regions that we can look at:-\n",
    "\n",
    "- Mountains (Aspen, Vail, Glenwood Springs)\n",
    "- West of the Hills (Grand Junction)\n",
    "- East of the Hills (Denver)\n",
    "\n",
    "One important thing to note here is that the number of stations in Denver area is high as compared to other areas. So its highly likely that we get more accurate results for Denver.\n",
    "\n",
    "Below are the US Climate Data graphs for the above mentioned regions:-\n",
    "\n",
    "<p><img alt=\"Climate_denver.png\" src=\"r_figures/Climate_denver.png\" style=\"height:450px; width:600px\"/></p>\n",
    "\n",
    "<p><img alt=\"Climate_Grand_junction.png\" src=\"r_figures/Climate_Grand_junction.png\" style=\"height:450px; width:600px\"/></p>\n",
    "\n",
    "<p><img alt=\"Climate_glenwood_springs.png\" src=\"r_figures/Climate_glenwood_springs.png\" style=\"height:450px; width:600px\"/></p>\n",
    "\n",
    "The average rainfall in Denver and Glenwood springs is more than Grand Junction area."
   ]
  },
  {
   "cell_type": "markdown",
   "metadata": {},
   "source": [
    "## PCA analysis\n",
    "\n",
    "For each of the six measurement, we compute the percentate of the variance explained as a function of the number of eigen-vectors used.\n",
    "\n",
    "### Percentage of variance explained.\n",
    "![VarExplained1_SSSBBBBB.png](r_figures/VarExplained1_SSSBBBBB.png)\n",
    "We see that the top 2 eigen-vectors explain 80% of variance for TMIN and 85% for TOBS  \n",
    "For TMAX just the 1st eigen-vector explain 85% of variance.\n",
    "\n",
    "We conclude that of the three, TMAX is best explained by the top 5 eigenvectors. This is especially true for the first eigen-vector which, by itself, explains 85% of the variance.\n",
    "\n",
    "![VarExplained2_SSSBBBBB.png](r_figures/VarExplained2_SSSBBBBB.png)\n",
    "\n",
    "The top 5 eigenvectors explain 28% of the variance for PRCP and 25% for SNOW. Both are low values. On the other hand the top 5 eigenvectors explain %85 of the variance for SNWD. This means that these top 5 eigenvectors capture most of the variation in the snow signals. Based on that we will dig deeper into the PCA analysis for snow-depth.\n",
    "\n",
    "It makes sense that SNWD would be less noisy than SNOW. That is because SNWD is a decaying integral of SNOW and, as such, varies less between days and between the same date on different years."
   ]
  },
  {
   "cell_type": "markdown",
   "metadata": {
    "run_control": {
     "frozen": false,
     "read_only": false
    }
   },
   "source": [
    "## Analysis of snow depth\n",
    "\n",
    "We choose to analyze the eigen-decomposition for snow-depth because the first 5 eigen-vectors explain 88% of the variance. First eigen-vector alone explains about 80% of the variance.\n",
    "\n",
    "First, we graph the mean and the top eigen-vectors.\n",
    "\n",
    "We observe that the snow season is from October to the end of June, where February marks the peak of the snow-depth.\n",
    "![SNWD_mean_eigs.png](r_figures/SNWD_mean_eigs_SSSBBBBB.png)"
   ]
  },
  {
   "cell_type": "markdown",
   "metadata": {
    "run_control": {
     "frozen": false,
     "read_only": false
    }
   },
   "source": [
    "Next we interpret the eigen-functions. The first eigen-function (eig1) has a shape very similar to the opposite of the  mean function. The only difference is that the eigen-function is not as tall as the mean.  The interpretation of this shape is that eig1 represents the overall amount of snow above/below the mean, but without changing the distribution over time.\n",
    "\n",
    "**eig2,eig3,eig4 and eig5** are similar in the following way. They all oscilate between positive and negative values. In other words, they correspond to changing the distribution of the snow depth over the winter months, but they don't change the total (much).\n",
    "\n",
    "They can be interpreted as follows:\n",
    "* **eig2:** more snow in jan - apr, less snow in april to july.\n",
    "* **eig3:** less snow in jan,feb | more snow in mar,apr | less snow in June.\n",
    "* **eig4:** less snow in jan | almost 0 snow in Mar,Apr | less snow in June.\n",
    "* **eig5:** less snow in jan,feb | more snow in Mar | less snow in Apr,May | more snow in June.\n",
    "\n",
    "From October to Dec, eig2 very well describes the mean. Eig1 and eig3 are sane from Oct to Dec. Eig4 and eig5 have close to 0 significance from Oct to Dec.\n"
   ]
  },
  {
   "cell_type": "markdown",
   "metadata": {
    "run_control": {
     "frozen": false,
     "read_only": false
    }
   },
   "source": [
    "### Examples of reconstructions\n",
    "\n",
    "#### Coeff1\n",
    "Coeff1: most positive\n",
    "![SNWD_grid_Pos_coeff1_SSSBBBBB.png](r_figures/SNWD_grid_Pos_coeff1_SSSBBBBB.png)\n",
    "Coeff1: most negative\n",
    "![SNWD_grid_neg_coeff1_SSSBBBBB.png](r_figures/SNWD_grid_neg_coeff1_SSSBBBBB.png)\n",
    "Large positive values of coeff1 correspond to less than average snow. Negative values correspond to more than average snow. Negative value also explain the more than average snow from Oct to Dec.\n",
    "\n",
    "#### Coeff2\n",
    "Coeff2: most positive\n",
    "![SNWD_grid_Pos_coeff2_SSSBBBBB.png](r_figures/SNWD_grid_Pos_coeff2_SSSBBBBB.png)\n",
    "Coeff2: most negative\n",
    "![SNWD_grid_neg_coeff2_SSSBBBBB.png](r_figures/SNWD_grid_neg_coeff2_SSSBBBBB.png)\n",
    "\n",
    "Large positive values of coeff2 correspond to a early snow season (most of the snowfall is before mar. Negative values for coeff2 correspond to later snow season (most of the snow is after feb).\n",
    "#### Coeff3\n",
    "Coeff3: most positive\n",
    "![SNWD_grid_Pos_coeff3_SSSBBBBB.png](r_figures/SNWD_grid_Pos_coeff3_SSSBBBBB.png)\n",
    "Coeff3: most negative\n",
    "![SNWD_grid_neg_coeff3_SSSBBBBB.png](r_figures/SNWD_grid_neg_coeff3_SSSBBBBB.png)\n",
    "\n",
    "Large positive values of coeff2 correspond to a snow season during feb to mar. Negative values of coeff3 correspond to the snow season later in the year from Oct to Dec. We can see 2 spikes in: once early in the season and another later during the end of snow season.\n",
    "\n"
   ]
  },
  {
   "cell_type": "markdown",
   "metadata": {},
   "source": [
    "## The variation in the timing of snow is mostly due to year-to-year variation\n",
    "In the previous section we see the variation of Coeff1, which corresponds to the total amount of snow, with respect to location. We now estimate the relative importance of location-to-location variation relative to year-by-year variation.\n",
    "\n",
    "These are measured using the fraction by which the variance is reduced when we subtract from each station/year entry the average-per-year or the average-per-station respectively. Here are the results:\n",
    "\n",
    "** coeff_1 **  \n",
    "total RMS                   =21881817.8096  \n",
    "RMS removing mean-by-station=3103406.07866, fraction explained=85.8  \n",
    "RMS removing mean-by-year   =14144675.0957, fraction explained=35.36   \n",
    "\n",
    "** coeff_2 **  \n",
    " \n",
    "total RMS                   =2475544.81348  \n",
    "RMS removing mean-by-station=850826.88867, fraction explained=65.63  \n",
    "RMS removing mean-by-year   =1983660.22302, fraction explained=19.8 \n",
    "\n",
    "** coeff_3 **  \n",
    "total MS                   =1193249.50671     \n",
    "MS removing mean-by-station=715035.27075, fraction explained=40.1  \n",
    "MS removing mean-by-year   =912269.626739, fraction explained=23.5  \n",
    "\n",
    "\n",
    "We see that the variation by station explains more than the variation by year. However this effect is weaker consider coeff_1, which has to do with the total snowfall, vs. coeff_2,3 which, as we saw above have to do with the timing of snowfall."
   ]
  },
  {
   "cell_type": "markdown",
   "metadata": {},
   "source": [
    "## Analysing SNWD on map\n",
    "\n",
    "We display the 3 map images below, one for each coeff_1, coeff_2, coeff_3. The circle position represent the location of a station, it radius represents the number readings from that station and color represents the coeff values. Color red is the more negative values where the yellowish color is the positive values.\n",
    "\n",
    "#### Coeff 1   \n",
    "From the above reconstructions, we can see that the negative values are high for coeff_1 which is evident in the map.\n",
    "![colorado_map_c1.png](r_figures/colorado_map_c1.png)   \n",
    "\n",
    "#### Coeff 2   \n",
    "![colorado_map_c2.png](r_figures/colorado_map_c2.png)  \n",
    "\n",
    "#### Coeff 3\n",
    "![colorado_map_c3.png](r_figures/colorado_map_c3.png)"
   ]
  },
  {
   "cell_type": "markdown",
   "metadata": {},
   "source": [
    "### Explanation of Correlation Matrix for top 4 eigen-vectors for SNWD\n",
    "\n",
    "When we reorder the rows and columns of the matrix using one of the eigenvectors, the grouping of the \n",
    "stations becomes more evident. For example, consider the upper left corner of the 1st and 2nd matrix. The stations at positions 0-16 are clearly strongly correlated with each other. Even though there are some stations which are more related to each other than to the rest of this block.\n",
    "\n",
    "![Corr_matrix_SSSBBBBB.png](r_figures/Corr_matrix_SSSBBBBB.png)   "
   ]
  }
 ],
 "metadata": {
  "anaconda-cloud": {},
  "kernelspec": {
   "display_name": "Python 2",
   "language": "python",
   "name": "python2"
  },
  "language_info": {
   "codemirror_mode": {
    "name": "ipython",
    "version": 2
   },
   "file_extension": ".py",
   "mimetype": "text/x-python",
   "name": "python",
   "nbconvert_exporter": "python",
   "pygments_lexer": "ipython2",
   "version": "2.7.13"
  },
  "toc": {
   "colors": {
    "hover_highlight": "#DAA520",
    "running_highlight": "#FF0000",
    "selected_highlight": "#FFD700"
   },
   "moveMenuLeft": true,
   "nav_menu": {
    "height": "12px",
    "width": "252px"
   },
   "navigate_menu": true,
   "number_sections": true,
   "sideBar": true,
   "threshold": 4,
   "toc_cell": false,
   "toc_section_display": "block",
   "toc_window_display": false
  }
 },
 "nbformat": 4,
 "nbformat_minor": 2
}
