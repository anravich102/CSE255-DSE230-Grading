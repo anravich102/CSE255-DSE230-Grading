{
 "cells": [
  {
   "cell_type": "markdown",
   "metadata": {
    "run_control": {
     "frozen": false,
     "read_only": false
    }
   },
   "source": [
    "## iPyLeaflet\n",
    "[ipyleaflet](https://github.com/ellisonbg/ipyleaflet) is a bridge between jupyter notebooks and the [leaflet](http://leafletjs.com/)  javascript library for drawing maps.\n",
    "\n",
    "ipyleaflet comes with a few examples notebooks (this notebook was derived from one) but very little documentation,\n",
    "for more documentation read the [Leaflet IPA](http://leafletjs.com/reference.html)\n",
    "\n",
    "For installation directions, see the README on [ipyleaflet](https://github.com/ellisonbg/ipyleaflet)"
   ]
  },
  {
   "cell_type": "code",
   "execution_count": 1,
   "metadata": {
    "collapsed": true,
    "run_control": {
     "frozen": false,
     "read_only": false
    }
   },
   "outputs": [],
   "source": [
    "from ipyleaflet import (\n",
    "    Map,\n",
    "    Marker,\n",
    "    TileLayer, ImageOverlay,\n",
    "    Polyline, Polygon, Rectangle, Circle, CircleMarker,\n",
    "    GeoJSON,\n",
    "    DrawControl\n",
    ")"
   ]
  },
  {
   "cell_type": "markdown",
   "metadata": {
    "run_control": {
     "frozen": false,
     "read_only": false
    }
   },
   "source": [
    "## Visualizing the distribution of the observations\n",
    "\n",
    "## Load the required libraries"
   ]
  },
  {
   "cell_type": "code",
   "execution_count": 2,
   "metadata": {
    "collapsed": true,
    "run_control": {
     "frozen": false,
     "read_only": false
    }
   },
   "outputs": [],
   "source": [
    "import pandas as pd\n",
    "import numpy as np\n",
    "import sklearn as sk\n",
    "import urllib\n",
    "import math"
   ]
  },
  {
   "cell_type": "code",
   "execution_count": 3,
   "metadata": {
    "collapsed": true,
    "run_control": {
     "frozen": false,
     "read_only": false
    }
   },
   "outputs": [],
   "source": [
    "import findspark\n",
    "findspark.init()\n",
    "\n",
    "from pyspark import SparkContext\n",
    "#sc.stop()\n",
    "sc = SparkContext(master=\"local[3]\",pyFiles=['lib/numpy_pack.py','lib/spark_PCA.py','lib/computeStats.py'])\n",
    "\n",
    "from pyspark import SparkContext\n",
    "from pyspark.sql import *\n",
    "sqlContext = SQLContext(sc)"
   ]
  },
  {
   "cell_type": "code",
   "execution_count": 4,
   "metadata": {
    "collapsed": true,
    "run_control": {
     "frozen": false,
     "read_only": false
    }
   },
   "outputs": [],
   "source": [
    "import sys\n",
    "sys.path.append('./lib')\n",
    "\n",
    "import numpy as np\n",
    "from numpy_pack import packArray,unpackArray\n",
    "from spark_PCA import computeCov\n",
    "from computeStats import computeOverAllDist, STAT_Descriptions"
   ]
  },
  {
   "cell_type": "code",
   "execution_count": 5,
   "metadata": {
    "run_control": {
     "frozen": false,
     "read_only": false
    }
   },
   "outputs": [
    {
     "name": "stdout",
     "output_type": "stream",
     "text": [
      "('keys from STAT=', ['TMIN', 'TOBS', 'TMAX', 'SNOW', 'SNWD', 'PRCP'])\n",
      "564\n",
      "+-------------------+------------------+-------------------+---------+--------+--------+---------+-----------+-------------------+-------------------+--------------------+------------------+-----------+------------+------+--------------------+------+\n",
      "|            coeff_1|           coeff_2|            coeff_3|elevation|   label|latitude|longitude|measurement|              res_1|              res_2|               res_3|          res_mean|    station|   total_var|undefs|              vector|  year|\n",
      "+-------------------+------------------+-------------------+---------+--------+--------+---------+-----------+-------------------+-------------------+--------------------+------------------+-----------+------------+------+--------------------+------+\n",
      "|-13331.244708510407|-1583.696829368481| -53.52425396995553|   3442.4|SSSBBBBB| 39.3672|-106.1897|       SNWD|0.04387865640581933|0.03513077704159288| 0.03533499252117007|0.7451380730744245|USC00051660|2.68299765E8|     7|[90 64 11 64 F0 6...|1996.0|\n",
      "|-11520.511798473042|-4390.368707581861|-223.28860585502292|   3448.2|SSSBBBBB|    39.8|-105.7833|       SNWD| 0.1583600183924191|0.03612805138966169|0.035811884827929734|0.7332283303270744|USC00050674|2.15069067E8|     0|[C4 60 90 60 C4 6...|1977.0|\n",
      "+-------------------+------------------+-------------------+---------+--------+--------+---------+-----------+-------------------+-------------------+--------------------+------------------+-----------+------------+------+--------------------+------+\n",
      "only showing top 2 rows\n",
      "\n"
     ]
    }
   ],
   "source": [
    "### Read the data frame from pickle file\n",
    "\n",
    "data_dir='../../Data/Weather'\n",
    "file_index='SSSBBBBB'\n",
    "meas='SNWD'\n",
    "\n",
    "from pickle import load\n",
    "\n",
    "#read statistics\n",
    "filename=data_dir+'/STAT_%s.pickle'%file_index\n",
    "STAT,STAT_Descriptions = load(open(filename,'rb'))\n",
    "print('keys from STAT=',STAT.keys())\n",
    "\n",
    "#!ls -ld $data_dir/*.parquet\n",
    "\n",
    "#read data\n",
    "filename=data_dir+'/decon_%s_%s.parquet'%(file_index,meas)\n",
    "\n",
    "df=sqlContext.read.parquet(filename)\n",
    "print(df.count())\n",
    "df.show(2)"
   ]
  },
  {
   "cell_type": "code",
   "execution_count": 95,
   "metadata": {
    "run_control": {
     "frozen": false,
     "read_only": false
    },
    "scrolled": true
   },
   "outputs": [
    {
     "name": "stdout",
     "output_type": "stream",
     "text": [
      "SELECT station, latitude,longitude,elevation,coeff_3 FROM weather\n",
      "+-----------+--------+---------+---------+-------------------+\n",
      "|    station|latitude|longitude|elevation|            coeff_3|\n",
      "+-----------+--------+---------+---------+-------------------+\n",
      "|USC00051660| 39.3672|-106.1897|   3442.4| -53.52425396995553|\n",
      "|USC00050674|    39.8|-105.7833|   3448.2|-223.28860585502292|\n",
      "|USC00051660| 39.3672|-106.1897|   3442.4| -399.2338386839257|\n",
      "|USC00050674|    39.8|-105.7833|   3448.2|-1917.0458272662077|\n",
      "+-----------+--------+---------+---------+-------------------+\n",
      "only showing top 4 rows\n",
      "\n"
     ]
    }
   ],
   "source": [
    "#extract longitude and latitude for each station\n",
    "feature='coeff_3'\n",
    "sqlContext.registerDataFrameAsTable(df,'weather')\n",
    "Query=\"SELECT station, latitude,longitude,elevation,%s FROM weather\"%feature\n",
    "print(Query)\n",
    "df1 = sqlContext.sql(Query)\n",
    "df1.show(4)"
   ]
  },
  {
   "cell_type": "code",
   "execution_count": 96,
   "metadata": {},
   "outputs": [
    {
     "name": "stdout",
     "output_type": "stream",
     "text": [
      "SELECT max(latitude),max(longitude),min(latitude),min(longitude) FROM weather\n",
      "+-------------+--------------+-------------+--------------+\n",
      "|max(latitude)|max(longitude)|min(latitude)|min(longitude)|\n",
      "+-------------+--------------+-------------+--------------+\n",
      "|      39.8143|     -105.1208|      39.1014|     -108.7339|\n",
      "+-------------+--------------+-------------+--------------+\n",
      "\n"
     ]
    }
   ],
   "source": [
    "Query1=\"SELECT max(latitude),max(longitude),min(latitude),min(longitude) FROM weather\"\n",
    "print(Query1)\n",
    "df_3 = sqlContext.sql(Query1)\n",
    "df_3.show()"
   ]
  },
  {
   "cell_type": "code",
   "execution_count": 97,
   "metadata": {
    "run_control": {
     "frozen": false,
     "read_only": false
    }
   },
   "outputs": [
    {
     "data": {
      "text/html": [
       "<div>\n",
       "<table border=\"1\" class=\"dataframe\">\n",
       "  <thead>\n",
       "    <tr style=\"text-align: right;\">\n",
       "      <th></th>\n",
       "      <th>station</th>\n",
       "      <th>latitude</th>\n",
       "      <th>longitude</th>\n",
       "      <th>elevation</th>\n",
       "      <th>count(station)</th>\n",
       "      <th>avg(coeff_3)</th>\n",
       "    </tr>\n",
       "  </thead>\n",
       "  <tbody>\n",
       "    <tr>\n",
       "      <th>18</th>\n",
       "      <td>US1COEG0008</td>\n",
       "      <td>39.7332</td>\n",
       "      <td>-106.6806</td>\n",
       "      <td>2201.9</td>\n",
       "      <td>1</td>\n",
       "      <td>-591.091511</td>\n",
       "    </tr>\n",
       "    <tr>\n",
       "      <th>1</th>\n",
       "      <td>US1COGL0013</td>\n",
       "      <td>39.7961</td>\n",
       "      <td>-105.4192</td>\n",
       "      <td>2734.7</td>\n",
       "      <td>1</td>\n",
       "      <td>-465.507297</td>\n",
       "    </tr>\n",
       "  </tbody>\n",
       "</table>\n",
       "</div>"
      ],
      "text/plain": [
       "        station  latitude  longitude  elevation  count(station)  avg(coeff_3)\n",
       "18  US1COEG0008   39.7332  -106.6806     2201.9               1   -591.091511\n",
       "1   US1COGL0013   39.7961  -105.4192     2734.7               1   -465.507297"
      ]
     },
     "execution_count": 97,
     "metadata": {},
     "output_type": "execute_result"
    }
   ],
   "source": [
    "df2=df1.groupby(['station','latitude','longitude','elevation']).agg({\"station\": \"count\", feature: \"mean\"})\n",
    "pdf=df2.toPandas()\n",
    "pdf.sort_values(by=['station'],inplace=True)\n",
    "pdf.head(2)"
   ]
  },
  {
   "cell_type": "code",
   "execution_count": 98,
   "metadata": {
    "run_control": {
     "frozen": false,
     "read_only": false
    }
   },
   "outputs": [
    {
     "data": {
      "text/plain": [
       "u'#ff9c00'"
      ]
     },
     "execution_count": 98,
     "metadata": {},
     "output_type": "execute_result"
    }
   ],
   "source": [
    "#define a mapping from the range of the value to hex colors.\n",
    "from matplotlib.colors import rgb2hex\n",
    "_avg='avg(%s)'%feature\n",
    "_min=pdf[_avg].min()\n",
    "_max=pdf[_avg].max()\n",
    "_min,_max\n",
    "\n",
    "import pylab as plt\n",
    "cmap=plt.get_cmap('jet')\n",
    "def get_color(val):\n",
    "    x=(val-_min)/(_max-_min)\n",
    "    return(rgb2hex(cmap(x)[:3]))\n",
    "\n",
    "get_color(1000.)"
   ]
  },
  {
   "cell_type": "code",
   "execution_count": 99,
   "metadata": {
    "scrolled": true
   },
   "outputs": [
    {
     "data": {
      "text/plain": [
       "18    -591.091511\n",
       "1     -465.507297\n",
       "4      619.671875\n",
       "10    -559.675395\n",
       "7     1882.582087\n",
       "23    1521.476610\n",
       "33    1146.618458\n",
       "28    1337.760598\n",
       "24    2386.049521\n",
       "36    -474.414423\n",
       "17    -822.161788\n",
       "41    -358.234141\n",
       "16     -91.461864\n",
       "37     619.953097\n",
       "45    1168.852488\n",
       "52     948.940813\n",
       "5     -570.600741\n",
       "47      18.809882\n",
       "26     530.955285\n",
       "27    -254.192174\n",
       "35     -44.554668\n",
       "15    -520.978402\n",
       "6    -3055.530553\n",
       "29     769.639838\n",
       "22    -204.970976\n",
       "44      75.654828\n",
       "2     -166.075613\n",
       "14    -355.648691\n",
       "25      16.118550\n",
       "50    -382.033656\n",
       "9      434.722219\n",
       "40      94.228586\n",
       "46    -852.727076\n",
       "19    -147.893482\n",
       "54     173.283926\n",
       "31    -479.212294\n",
       "0     -569.291821\n",
       "55    -441.521377\n",
       "49     256.350839\n",
       "20     207.203680\n",
       "34     799.204266\n",
       "21    1258.320230\n",
       "53     584.338955\n",
       "30    -517.619098\n",
       "13    -111.712362\n",
       "43    -428.451121\n",
       "3     -706.276504\n",
       "39    -468.269392\n",
       "11    -318.196761\n",
       "32    -701.108259\n",
       "8     -589.620507\n",
       "48    1039.933707\n",
       "12     111.529368\n",
       "42     433.133164\n",
       "51    -276.962568\n",
       "38     233.166090\n",
       "Name: avg(coeff_3), dtype: float64"
      ]
     },
     "execution_count": 99,
     "metadata": {},
     "output_type": "execute_result"
    }
   ],
   "source": [
    "pdf['avg(coeff_3)']"
   ]
  },
  {
   "cell_type": "markdown",
   "metadata": {
    "run_control": {
     "frozen": false,
     "read_only": false
    }
   },
   "source": [
    "## Map"
   ]
  },
  {
   "cell_type": "code",
   "execution_count": 10,
   "metadata": {
    "collapsed": true,
    "run_control": {
     "frozen": false,
     "read_only": false
    }
   },
   "outputs": [],
   "source": [
    "min_lat,max_lat,min_long,max_long = box = (39.1014, 39.8143, -108.7339, -105.1208)"
   ]
  },
  {
   "cell_type": "code",
   "execution_count": 100,
   "metadata": {
    "run_control": {
     "frozen": false,
     "read_only": false
    }
   },
   "outputs": [
    {
     "name": "stdout",
     "output_type": "stream",
     "text": [
      "-591.09151063\n",
      "-465.50729671\n",
      "619.671875257\n",
      "-559.675394867\n",
      "1882.58208659\n",
      "1521.47660959\n",
      "1146.61845843\n",
      "1337.76059763\n",
      "2386.04952135\n",
      "-474.414423054\n",
      "-822.161787676\n",
      "-358.234140951\n",
      "-91.4618640158\n",
      "619.953097305\n",
      "1168.85248827\n",
      "948.940812939\n",
      "-570.600741319\n",
      "18.8098818234\n",
      "530.955285337\n",
      "-254.192173591\n",
      "-44.5546675193\n",
      "-520.978401537\n",
      "-3055.53055302\n",
      "769.639838452\n",
      "-204.970976429\n",
      "75.6548278503\n",
      "-166.075612987\n",
      "-355.64869065\n",
      "16.1185495373\n",
      "-382.033656383\n",
      "434.722218744\n",
      "94.2285855023\n",
      "-852.727076462\n",
      "-147.893481665\n",
      "173.283926195\n",
      "-479.212293826\n",
      "-569.291821365\n",
      "-441.521376744\n",
      "256.350838539\n",
      "207.203680353\n",
      "799.204266317\n",
      "1258.32022977\n",
      "584.338954913\n",
      "-517.619098365\n",
      "-111.712362173\n",
      "-428.451120618\n",
      "-706.276503694\n",
      "-468.269391929\n",
      "-318.196761186\n",
      "-701.108259329\n",
      "-589.620507026\n",
      "1039.93370716\n",
      "111.529368068\n",
      "433.133163652\n",
      "-276.962568369\n",
      "233.166089946\n"
     ]
    },
    {
     "data": {
      "application/vnd.jupyter.widget-view+json": {
       "model_id": "1ac97d82c59345d5ba0cb1a522a1d2d4"
      }
     },
     "metadata": {},
     "output_type": "display_data"
    }
   ],
   "source": [
    "center = [(min_lat+max_lat)/2, (min_long+max_long)/2]\n",
    "zoom = 9\n",
    "\n",
    "m = Map(default_tiles=TileLayer(opacity=1.0), center=center, zoom=zoom)\n",
    "\n",
    "r = Rectangle(bounds=[[min_lat,min_long],[max_lat,max_long]], weight=5, fill_opacity=0.0)\n",
    "m += r\n",
    "\n",
    "lat_margin=(max_lat-min_lat)/4\n",
    "long_margin=(max_long-min_long)/4\n",
    "circles = []\n",
    "for index,row in pdf.iterrows():\n",
    "    _lat=row['latitude']\n",
    "    _long=row['longitude']\n",
    "    _count=row['count(station)']\n",
    "    _coef=row[_avg]\n",
    "    print _coef\n",
    "    # taking sqrt of count so that the  area of the circle corresponds to the count\n",
    "    c = Circle(location=(_lat,_long), radius=int(300*np.sqrt(_count+0.0)), weight=1,\n",
    "            color='#F00', opacity=0.8, fill_opacity=0.4,\n",
    "            fill_color=get_color(_coef))\n",
    "    #c.add_traits()\n",
    "    circles.append(c)\n",
    "    m.add_layer(c) \n",
    "\n",
    "label = ipyw.Label(layout=ipyw.Layout(width='100%'))    \n",
    "    \n",
    "def hover_handler(event=None, id=None, properties=None):\n",
    "    label.value = pdf['avg(coeff_3)']\n",
    "    \n",
    "m"
   ]
  },
  {
   "cell_type": "code",
   "execution_count": 43,
   "metadata": {},
   "outputs": [],
   "source": [
    "Circle?"
   ]
  },
  {
   "cell_type": "markdown",
   "metadata": {
    "run_control": {
     "frozen": false,
     "read_only": false
    }
   },
   "source": [
    "### excercises:\n",
    "* Add a legend that relates the colors to values.\n",
    "* Leaflet supports a variety of maps. See if you can get a topographical map as the background."
   ]
  },
  {
   "cell_type": "code",
   "execution_count": 38,
   "metadata": {
    "run_control": {
     "frozen": false,
     "read_only": false
    }
   },
   "outputs": [
    {
     "data": {
      "image/png": "[encoded data removed]",
      "text/plain": [
       "<matplotlib.figure.Figure at 0x10870acd0>"
      ]
     },
     "metadata": {},
     "output_type": "display_data"
    }
   ],
   "source": [
    "%matplotlib inline\n",
    "pdf.plot.scatter(x='elevation',y='avg(coeff_3)');"
   ]
  },
  {
   "cell_type": "code",
   "execution_count": 13,
   "metadata": {
    "collapsed": true
   },
   "outputs": [],
   "source": [
    "##sc.stop()"
   ]
  },
  {
   "cell_type": "code",
   "execution_count": 51,
   "metadata": {
    "collapsed": true
   },
   "outputs": [],
   "source": [
    "import ipyleaflet as ipyl\n",
    "import ipywidgets as ipyw\n",
    "import json"
   ]
  },
  {
   "cell_type": "code",
   "execution_count": 15,
   "metadata": {},
   "outputs": [
    {
     "data": {
      "application/vnd.jupyter.widget-view+json": {
       "model_id": "bc1d56be5de84b3b8d0969b9850426a1"
      }
     },
     "metadata": {},
     "output_type": "display_data"
    }
   ],
   "source": [
    "# Map and label widgets\n",
    "map = ipyl.Map(center=[53.88, 27.45], zoom=4)\n",
    "label = ipyw.Label(layout=ipyw.Layout(width='100%'))\n",
    "\n",
    "# geojson layer with hover handler\n",
    "with open('./europe_110.geo.json') as f:\n",
    "    data = json.load(f)\n",
    "for feature in data['features']:\n",
    "    feature['properties']['style'] = {\n",
    "        'color': 'grey',\n",
    "        'weight': 1,\n",
    "        'fillColor': 'grey',\n",
    "        'fillOpacity': 0.5\n",
    "    }\n",
    "layer = ipyl.GeoJSON(data=data, hover_style={'fillColor': 'red'})\n",
    "\n",
    "def hover_handler(event=None, id=None, properties=None):\n",
    "    label.value = properties['geounit']\n",
    "\n",
    "layer.on_hover(hover_handler)\n",
    "map.add_layer(layer)\n",
    "\n",
    "\n",
    "ipyw.VBox([map, label])"
   ]
  },
  {
   "cell_type": "code",
   "execution_count": null,
   "metadata": {
    "collapsed": true
   },
   "outputs": [],
   "source": []
  }
 ],
 "metadata": {
  "anaconda-cloud": {},
  "hide_input": false,
  "kernelspec": {
   "display_name": "Python 2",
   "language": "python",
   "name": "python2"
  },
  "language_info": {
   "codemirror_mode": {
    "name": "ipython",
    "version": 2
   },
   "file_extension": ".py",
   "mimetype": "text/x-python",
   "name": "python",
   "nbconvert_exporter": "python",
   "pygments_lexer": "ipython2",
   "version": "2.7.13"
  },
  "toc": {
   "colors": {
    "hover_highlight": "#DAA520",
    "running_highlight": "#FF0000",
    "selected_highlight": "#FFD700"
   },
   "moveMenuLeft": true,
   "nav_menu": {
    "height": "174px",
    "width": "252px"
   },
   "navigate_menu": true,
   "number_sections": true,
   "sideBar": true,
   "threshold": 4,
   "toc_cell": false,
   "toc_section_display": "block",
   "toc_window_display": false
  },
  "widgets": {
   "state": {},
   "version": "1.0.0"
  }
 },
 "nbformat": 4,
 "nbformat_minor": 1
}
