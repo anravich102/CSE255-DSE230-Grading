{
 "cells": [
  {
   "cell_type": "markdown",
   "metadata": {
    "deletable": true,
    "editable": true,
    "run_control": {
     "frozen": false,
     "read_only": false
    }
   },
   "source": [
    "# Florida Weather Analysis\n",
    "\n",
    "This is a report on the historical analysis of weather patterns in an area that approximately overlaps the area of the state of Florida. Our data covers 213 different locations in Florida, including cities like Starke, Venice, Brandon, etc. \n",
    "\n",
    "The data we will use here comes from [NOAA](https://www.ncdc.noaa.gov/). Specifically, it was downloaded from [FTP site](ftp://ftp.ncdc.noaa.gov/pub/data/ghcn/daily/).\n",
    "\n",
    "We focused on six measurements:\n",
    "* **TMIN:** the daily minimum temperature.\n",
    "* **TMAX:** the daily maximum temperature.\n",
    "* **TOBS:** The average temperature for each day.\n",
    "* **PRCP:** Daily Percipitation (in mm)\n",
    "* **SNOW:** Daily snowfall (in mm)\n",
    "* **SNWD:** The depth of accumulated snow.\n",
    "\n",
    "## 1. Sanity-check: comparison with outside sources\n",
    "\n",
    "<p>We start by comparing some of the general statistics with graphs that we obtained from a site called <a href=\"http://www.usclimatedata.com/climate/starke/florida/united-states/usfl0466\" target=\"_blank\">US Climate Data</a> The graph below shows the daily minimum and maximum temperatures for each month, as well as the total precipitation for each month. We use a typital city Starke as an example. </p>\n",
    "\n",
    "<p>&nbsp;</p>\n",
    "\n",
    "<p><img alt=\"Climate_Florida_Starke.png\" src=\"hw5_figures/Climate_Florida_Starke.png\" style=\"height:400px\" /></p>\n",
    "\n",
    "<p>&nbsp;</p>\n",
    "\n",
    "<p>We see that the min and max daily&nbsp;temperature agree with the ones we got from our data, once we translate Fahrenheit to Centigrade.</p>\n",
    "\n",
    "<p>&nbsp;</p>\n",
    "\n",
    "<p><img alt=\"TMIN,TMAX.png\" src=\"hw5_figures/TMIN,TMAX.png\" style=\"height:300px; width:800px\" /></p>\n",
    "\n",
    "<p>To compare the precipitation&nbsp;we need to translate millimeter/day to inches/month. According to our analysis the average rainfall is 3.50 mm/day(a little more from June to October and a little less in other months), which translates to about 4.13 Inches&nbsp;per month. According to US-Climate-Data the average rainfall is closer to 4.2 inch per month. However, there is clear agreement that average precipitation&nbsp;is very close to a constant throughout the year.</p>\n",
    "\n",
    "<p>&nbsp;<img alt=\"PRCP.png\" src=\"hw5_figures/PRCP.png\" style=\"height:350px;\" /></p>\n"
   ]
  },
  {
   "cell_type": "markdown",
   "metadata": {
    "deletable": true,
    "editable": true,
    "run_control": {
     "frozen": false,
     "read_only": false
    }
   },
   "source": [
    "## 2. PCA analysis\n",
    "\n",
    "For each of the six measurement, we compute the percentate of the variance explained as a function of the number of eigen-vectors used.\n",
    "\n",
    "### Percentage of variance explained.\n",
    "![VarExplained1.png](hw5_figures/VarExplained1.png)\n",
    "<p>&nbsp;</p>\n",
    "We see that the top 5 eigen-vectors explain 35% of variance for TMIN, 52% for TOBS and 26% for TMAX.\n",
    "\n",
    "We conclude that of the three, TOBS is best explained by the top 5 eigenvectors. This is especially true for the first eigen-vector which, by itself, explains 42% of the variance. We will do a further PCA analysis for TOBS below.\n",
    "\n",
    "![VarExplained2.png](hw5_figures/VarExplained2.png)\n",
    "\n",
    "The top 5 eigenvectors explain 8% of the variance for PRCP, which is very low. On the other hand the top 5 eigenvectors explain %100 of the variance for SNOW and SNWD. This means that these top 5 eigenvectors capture all of the variation in the snow signals. \n",
    "\n",
    "We also notice only two eigenvectors is almost enough to capture 100% of the variance for SNWD, but SNOW needs 5 eigenvectors, which means that SNWD is a little less noisy than SNOW. This is because SNWD is a decaying integral of SNOW and, as such, varies less between days and between the same date on diffferent years. \n",
    "\n",
    "Based on that we will dig deeper into the PCA analysis for snow-depth below."
   ]
  },
  {
   "cell_type": "markdown",
   "metadata": {
    "deletable": true,
    "editable": true,
    "run_control": {
     "frozen": false,
     "read_only": false
    }
   },
   "source": [
    "### Analysis of snow depth (SNWD)\n",
    "\n",
    "We choose to analyze the eigen-decomposition for snow-depth because the first 2 eigen-vectors explain 100% of the variance.\n",
    "\n",
    "First, we graph the mean and the top 2 eigen-vectors.\n",
    "\n",
    "We observe that snowfall is very rare in Florida. There might be some snowfalls during winter season, namely December and January, and several snowfalls in early April. But most of the year, there is no snow.\n",
    "\n",
    "![TOBS_mean_eigs.png](hw5_figures/SNWD_mean_eigs.png)"
   ]
  },
  {
   "cell_type": "markdown",
   "metadata": {
    "deletable": true,
    "editable": true,
    "run_control": {
     "frozen": false,
     "read_only": false
    }
   },
   "source": [
    "Next we interpret the eigen-functions. \n",
    "\n",
    "The first eigen-function **eig1** has a shape very similar to the mean function. The main difference is that the eigen-function is close to zero during April while the mean is not.  The interpretation of this shape is that eig1 represents the overall amount of snow above/below the mean, but without changing the distribution over time. As for **eig2**, most of the time it has zero value, while it only has negative values during April. "
   ]
  },
  {
   "cell_type": "markdown",
   "metadata": {
    "editable": true,
    "run_control": {
     "frozen": false,
     "read_only": false
    }
   },
   "source": [
    "### Analysis of  average temperature (TOBS)\n",
    "\n",
    "Since Florida is a very warm city, so we are more interested in the temperate climate there instead of snow. Therefore, we will do PCA analysis of average temporature below.\n",
    "\n",
    "\n",
    "First, we graph the mean and the top 3 eigen-vectors.\n",
    "\n",
    "We observe that Florida is warm almost all year around, reaching its highest temperature from July to September and lowest from December to January.\n",
    "\n",
    "![SNWD_mean_eigs.png](hw5_figures/TOBS_mean_eigs.png)"
   ]
  },
  {
   "cell_type": "markdown",
   "metadata": {
    "editable": true,
    "run_control": {
     "frozen": false,
     "read_only": false
    }
   },
   "source": [
    "Next we interpret the eigen-functions. \n",
    "\n",
    "Similar to our snow-depth analysis above, the first eigen-function **eig1** has a shape similar to the mean function. The main difference is that the eigen-function is close to zero all year around while the mean is going up in the summer and going down in the winter. The interpretation of this shape is that eig1 represents the overall average temperature above/below the mean, but without changing the distribution over time. As for **eig2**, it oscillates more than eig1 throughout the year. "
   ]
  },
  {
   "cell_type": "markdown",
   "metadata": {
    "deletable": true,
    "editable": true,
    "run_control": {
     "frozen": false,
     "read_only": false
    }
   },
   "source": [
    "### Examples of reconstruction of TOBS\n",
    "\n",
    "As examples, we selectively reconstruct 9 TOBS below. These data is collected at different locations in different years.\n",
    "\n",
    "![TOBS_Example_Year](hw5_figures/TOBS_Example_Year.png)\n",
    "\n",
    "The residules corresponding to each TOBS data is showed blow. For example, the first one (location USC00080535 in year 1985) has the residules: mean=0.08, r1=0.47, r2=0.38, r3=0.38.\n",
    "\n",
    "![TOBS_Example_Resi](hw5_figures/TOBS_Example_Resi.png)\n",
    "\n"
   ]
  },
  {
   "cell_type": "markdown",
   "metadata": {},
   "source": [
    "## 3. Variation of the average temperature is mostly due to location-to-location variation\n",
    "We now estimate the relative importance of location-to-location variation relative to year-by-year variation.\n",
    "\n",
    "These are measured using the fraction by which the variance is reduced when we subtract from each station/year entry the average-per-year or the average-per-station respectively. Here are the results:\n",
    "\n",
    "** coeff_1 **  \n",
    "total MS                   =  373185.752627\n",
    "MS removing mean-by-station=  163620.320812, fraction explained=56.16\n",
    "MS removing mean-by-year   =  328127.494148, fraction explained=12.07\n",
    "\n",
    "** coeff_2 **  \n",
    "total MS                   =  38309.0684317\n",
    "MS removing mean-by-station=  33601.4251072, fraction explained=12.29\n",
    "MS removing mean-by-year   =  17243.8836198, fraction explained=54.99\n",
    "\n",
    "** coeff_3 **  \n",
    "total MS                   =  28415.5317557\n",
    "MS removing mean-by-station=  22994.3261225, fraction explained=19.08\n",
    "MS removing mean-by-year   =  15364.8806355, fraction explained=45.93 \n",
    "\n",
    "We notice that for coeff_1, the variation by location explains more than the variation by year. But for coeff_2 and 3, it is in the reverse way."
   ]
  }
 ],
 "metadata": {
  "anaconda-cloud": {},
  "kernelspec": {
   "display_name": "Python 2",
   "language": "python",
   "name": "python2"
  },
  "language_info": {
   "codemirror_mode": {
    "name": "ipython",
    "version": 2
   },
   "file_extension": ".py",
   "mimetype": "text/x-python",
   "name": "python",
   "nbconvert_exporter": "python",
   "pygments_lexer": "ipython2",
   "version": "2.7.13"
  },
  "toc": {
   "colors": {
    "hover_highlight": "#DAA520",
    "running_highlight": "#FF0000",
    "selected_highlight": "#FFD700"
   },
   "moveMenuLeft": true,
   "nav_menu": {
    "height": "12px",
    "width": "252px"
   },
   "navigate_menu": true,
   "number_sections": true,
   "sideBar": true,
   "threshold": 4,
   "toc_cell": false,
   "toc_section_display": "block",
   "toc_window_display": false
  }
 },
 "nbformat": 4,
 "nbformat_minor": 2
}
