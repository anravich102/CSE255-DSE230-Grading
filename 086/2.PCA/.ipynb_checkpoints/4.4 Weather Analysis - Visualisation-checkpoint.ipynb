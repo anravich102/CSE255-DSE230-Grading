{
 "cells": [
  {
   "cell_type": "markdown",
   "metadata": {
    "run_control": {
     "frozen": false,
     "read_only": false
    }
   },
   "source": [
    "### Visualizing the distribution of the observations\n",
    "\n",
    "### Load the required libraries"
   ]
  },
  {
   "cell_type": "code",
   "execution_count": 1,
   "metadata": {
    "run_control": {
     "frozen": false,
     "read_only": false
    },
    "slideshow": {
     "slide_type": "slide"
    }
   },
   "outputs": [
    {
     "name": "stdout",
     "output_type": "stream",
     "text": [
      "Populating the interactive namespace from numpy and matplotlib\n",
      "keys from STAT= ['TMIN', 'TOBS', 'TMAX', 'SNOW', 'SNWD', 'PRCP']\n",
      "12127\n",
      "+---------+--------+---------+-----------+-----------+------+--------------------+------+--------+\n",
      "|elevation|latitude|longitude|measurement|    station|undefs|              vector|  year|   label|\n",
      "+---------+--------+---------+-----------+-----------+------+--------------------+------+--------+\n",
      "|    196.9| 32.3178| -84.5203|       TMAX|USC00091372|    23|[A0 57 00 58 00 5...|1959.0|BSBSSSSB|\n",
      "|    196.9| 32.3178| -84.5203|       TMAX|USC00091372|    15|[30 55 30 54 B8 5...|1960.0|BSBSSSSB|\n",
      "|    196.9| 32.3178| -84.5203|       TMAX|USC00091372|    16|[38 59 A0 57 90 5...|1961.0|BSBSSSSB|\n",
      "|    196.9| 32.3178| -84.5203|       TMAX|USC00091372|    29|[28 58 F0 56 B0 5...|1963.0|BSBSSSSB|\n",
      "|    196.9| 32.3178| -84.5203|       TMAX|USC00091372|     3|[00 46 F0 56 90 5...|1964.0|BSBSSSSB|\n",
      "+---------+--------+---------+-----------+-----------+------+--------------------+------+--------+\n",
      "only showing top 5 rows\n",
      "\n"
     ]
    }
   ],
   "source": [
    "import pandas as pd\n",
    "import numpy as np\n",
    "import sklearn as sk\n",
    "import urllib\n",
    "import math\n",
    "%pylab inline\n",
    "\n",
    "import findspark\n",
    "findspark.init()\n",
    "\n",
    "from pyspark import SparkContext\n",
    "#sc.stop()\n",
    "sc = SparkContext(master=\"local[3]\",pyFiles=['lib/numpy_pack.py','lib/spark_PCA.py','lib/computeStats.py'])\n",
    "\n",
    "from pyspark import SparkContext\n",
    "from pyspark.sql import *\n",
    "sqlContext = SQLContext(sc)\n",
    "\n",
    "import sys\n",
    "sys.path.append('./lib')\n",
    "\n",
    "import numpy as np\n",
    "from numpy_pack import packArray,unpackArray\n",
    "from spark_PCA import computeCov\n",
    "from computeStats import computeOverAllDist, STAT_Descriptions\n",
    "\n",
    "### Read the data frame from pickle file\n",
    "\n",
    "data_dir='../../Data/Weather'\n",
    "file_index='BSBSSSSB'\n",
    "\n",
    "from pickle import load\n",
    "\n",
    "#read statistics\n",
    "filename=data_dir+'/STAT_%s.pickle'%file_index\n",
    "STAT,STAT_Descriptions = load(open(filename,'rb'))\n",
    "print 'keys from STAT=',STAT.keys()\n",
    "\n",
    "#read data\n",
    "filename=data_dir+'/US_Weather_%s.parquet'%file_index\n",
    "\n",
    "df=sqlContext.read.parquet(filename)\n",
    "print df.count()\n",
    "df.show(5)"
   ]
  },
  {
   "cell_type": "markdown",
   "metadata": {
    "run_control": {
     "frozen": false,
     "read_only": false
    },
    "slideshow": {
     "slide_type": "slide"
    }
   },
   "source": [
    "### Select data for a particular station and measurement type"
   ]
  },
  {
   "cell_type": "code",
   "execution_count": 2,
   "metadata": {
    "run_control": {
     "frozen": false,
     "read_only": false
    },
    "slideshow": {
     "slide_type": "subslide"
    }
   },
   "outputs": [
    {
     "name": "stdout",
     "output_type": "stream",
     "text": [
      "SELECT * FROM weather\n",
      "\tWHERE measurement='PRCP' and station='USC00091372'\n",
      "47 rows\n",
      "+---------+--------+---------+-----------+-----------+------+--------------------+------+--------+\n",
      "|elevation|latitude|longitude|measurement|    station|undefs|              vector|  year|   label|\n",
      "+---------+--------+---------+-----------+-----------+------+--------------------+------+--------+\n",
      "|    196.9| 32.3178| -84.5203|       PRCP|USC00091372|     2|[00 00 00 00 00 0...|1949.0|BSBSSSSB|\n",
      "|    196.9| 32.3178| -84.5203|       PRCP|USC00091372|     2|[00 00 00 00 00 0...|1950.0|BSBSSSSB|\n",
      "+---------+--------+---------+-----------+-----------+------+--------------------+------+--------+\n",
      "only showing top 2 rows\n",
      "\n"
     ]
    },
    {
     "data": {
      "text/plain": [
       "(47, 365)"
      ]
     },
     "execution_count": 2,
     "metadata": {},
     "output_type": "execute_result"
    }
   ],
   "source": [
    "sqlContext.registerDataFrameAsTable(df,'weather')\n",
    "Query=\"SELECT * FROM weather\\n\\tWHERE measurement='%s' and station='%s'\"%('PRCP','USC00091372')\n",
    "print Query\n",
    "df1 = sqlContext.sql(Query)\n",
    "print df1.count(),'rows'\n",
    "df1.show(2)\n",
    "rows=df1.rdd.map(lambda row:unpackArray(row['vector'],np.float16)).collect()\n",
    "T=np.vstack(rows)\n",
    "T=T/10.  # scaling to make the temperature be in centingrates\n",
    "shape(T)"
   ]
  },
  {
   "cell_type": "markdown",
   "metadata": {
    "run_control": {
     "frozen": false,
     "read_only": false
    },
    "slideshow": {
     "slide_type": "slide"
    }
   },
   "source": [
    "### Script for plotting yearly plots"
   ]
  },
  {
   "cell_type": "code",
   "execution_count": 3,
   "metadata": {
    "run_control": {
     "frozen": false,
     "read_only": false
    },
    "scrolled": false,
    "slideshow": {
     "slide_type": "subslide"
    }
   },
   "outputs": [
    {
     "data": {
      "image/png": "iVBORw0KGgoAAAANSUhEUgAAAlMAAAGNCAYAAAA1nfQqAAAABHNCSVQICAgIfAhkiAAAAAlwSFlz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\nHTjFPFN+Nl83qDNVRPO7Qgy9MdVYOxm1s7U77pBnasAVVR18Y5