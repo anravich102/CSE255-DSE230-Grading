{
 "cells": [
  {
   "cell_type": "code",
   "execution_count": 1,
   "metadata": {
    "collapsed": true,
    "run_control": {
     "frozen": false,
     "read_only": false
    }
   },
   "outputs": [],
   "source": [
    "#setup\n",
    "data_dir='../../Data/Weather'\n",
    "file_index='BSBSSSSB'\n",
    "m='PRCP'"
   ]
  },
  {
   "cell_type": "markdown",
   "metadata": {
    "run_control": {
     "frozen": false,
     "read_only": false
    },
    "slideshow": {
     "slide_type": "slide"
    },
    "variables": {
     "m": "PRCP"
    }
   },
   "source": [
    "# Reconstruction using top eigen-vectors\n",
    "For measurement = {{m}}"
   ]
  },
  {
   "cell_type": "markdown",
   "metadata": {
    "run_control": {
     "frozen": false,
     "read_only": false
    },
    "slideshow": {
     "slide_type": "skip"
    }
   },
   "source": [
    "## Load the required libraries"
   ]
  },
  {
   "cell_type": "code",
   "execution_count": 2,
   "metadata": {
    "collapsed": true,
    "run_control": {
     "frozen": false,
     "read_only": false
    },
    "slideshow": {
     "slide_type": "skip"
    }
   },
   "outputs": [],
   "source": [
    "# Enable automiatic reload of libraries\n",
    "#%load_ext autoreload\n",
    "#%autoreload 2 # means that all modules are reloaded before every command"
   ]
  },
  {
   "cell_type": "code",
   "execution_count": 3,
   "metadata": {
    "run_control": {
     "frozen": false,
     "read_only": false
    },
    "slideshow": {
     "slide_type": "skip"
    }
   },
   "outputs": [
    {
     "name": "stdout",
     "output_type": "stream",
     "text": [
      "Populating the interactive namespace from numpy and matplotlib\n",
      "    pandas as    pd \tversion=0.19.2 \trequired version>=0.19.2\n",
      "     numpy as    np \tversion=1.11.3 \trequired version>=1.12.0 ******* Update Version ******\n",
      "   sklearn as    sk \tversion=0.18.1 \trequired version>=0.18.1\n",
      "    urllib as urllib \tversion=1.17 \trequired version>=1.17\n",
      "   pyspark as pyspark \tversion=2.1.0+hadoop2.7 \trequired version>=2.1.0\n",
      "ipywidgets as ipywidgets \tversion=6.0.0 \trequired version>=6.0.0\n"
     ]
    }
   ],
   "source": [
    "%pylab inline\n",
    "import numpy as np\n",
    "\n",
    "import findspark\n",
    "findspark.init()\n",
    "\n",
    "import sys\n",
    "sys.path.append('./lib')\n",
    "\n",
    "from numpy_pack import packArray,unpackArray\n",
    "\n",
    "from Eigen_decomp import Eigen_decomp\n",
    "from YearPlotter import YearPlotter\n",
    "from recon_plot import recon_plot\n",
    "\n",
    "from import_modules import import_modules,modules\n",
    "import_modules(modules)\n",
    "\n",
    "from ipywidgets import interactive,widgets"
   ]
  },
  {
   "cell_type": "code",
   "execution_count": 4,
   "metadata": {
    "collapsed": true,
    "run_control": {
     "frozen": false,
     "read_only": false
    },
    "slideshow": {
     "slide_type": "skip"
    }
   },
   "outputs": [],
   "source": [
    "from pyspark import SparkContext\n",
    "#sc.stop()\n",
    "\n",
    "sc = SparkContext(master=\"local[3]\",pyFiles=['lib/numpy_pack.py','lib/spark_PCA.py','lib/computeStats.py','lib/recon_plot.py','lib/Eigen_decomp.py'])\n",
    "\n",
    "from pyspark import SparkContext\n",
    "from pyspark.sql import *\n",
    "sqlContext = SQLContext(sc)\n",
    "\n",
    "\n",
    "\n"
   ]
  },
  {
   "cell_type": "markdown",
   "metadata": {
    "run_control": {
     "frozen": false,
     "read_only": false
    },
    "slideshow": {
     "slide_type": "slide"
    }
   },
   "source": [
    "## Read Statistics File"
   ]
  },
  {
   "cell_type": "code",
   "execution_count": 5,
   "metadata": {
    "collapsed": true,
    "run_control": {
     "frozen": false,
     "read_only": false
    },
    "slideshow": {
     "slide_type": "fragment"
    }
   },
   "outputs": [],
   "source": [
    "data_dir='../../Data/Weather'\n",
    "file_index='BSBSSSSB'"
   ]
  },
  {
   "cell_type": "code",
   "execution_count": 6,
   "metadata": {
    "run_control": {
     "frozen": false,
     "read_only": false
    },
    "slideshow": {
     "slide_type": "subslide"
    }
   },
   "outputs": [
    {
     "name": "stdout",
     "output_type": "stream",
     "text": [
      "keys from STAT= ['TMIN', 'TOBS', 'TMAX', 'SNOW', 'SNWD', 'PRCP']\n"
     ]
    }
   ],
   "source": [
    "from pickle import load\n",
    "\n",
    "#read statistics\n",
    "filename=data_dir+'/STAT_%s.pickle'%file_index\n",
    "STAT,STAT_Descriptions = load(open(filename,'rb'))\n",
    "measurements=STAT.keys()\n",
    "print 'keys from STAT=',measurements"
   ]
  },
  {
   "cell_type": "markdown",
   "metadata": {
    "run_control": {
     "frozen": false,
     "read_only": false
    },
    "slideshow": {
     "slide_type": "slide"
    }
   },
   "source": [
    "## Read data file into a spark DataFrame\n",
    "We focus on the snow-depth records, because the eigen-vectors for them make sense."
   ]
  },
  {
   "cell_type": "code",
   "execution_count": 7,
   "metadata": {
    "run_control": {
     "frozen": false,
     "read_only": false
    },
    "scrolled": true,
    "slideshow": {
     "slide_type": "subslide"
    }
   },
   "outputs": [
    {
     "name": "stdout",
     "output_type": "stream",
     "text": [
      "+---------+--------+---------+-----------+-----------+------+--------------------+------+--------+\n",
      "|elevation|latitude|longitude|measurement|    station|undefs|              vector|  year|   label|\n",
      "+---------+--------+---------+-----------+-----------+------+--------------------+------+--------+\n",
      "|    170.4| 32.8161| -85.1733|       PRCP|US1ALCB0004|     2|[00 00 E0 5C 00 0...|2011.0|BSBSSSSB|\n",
      "|    170.4| 32.8161| -85.1733|       PRCP|US1ALCB0004|     3|[00 00 00 00 00 0...|2012.0|BSBSSSSB|\n",
      "|    118.9| 32.5167| -85.0667|       PRCP|USC00016397|     3|[00 00 00 00 00 0...|1958.0|BSBSSSSB|\n",
      "|     66.1|   32.15| -85.0667|       PRCP|USC00011974|     1|[00 00 00 00 60 5...|1960.0|BSBSSSSB|\n",
      "|     66.1|   32.15| -85.0667|       PRCP|USC00011974|     1|[90 59 00 00 00 0...|1961.0|BSBSSSSB|\n",
      "+---------+--------+---------+-----------+-----------+------+--------------------+------+--------+\n",
      "only showing top 5 rows\n",
      "\n"
     ]
    }
   ],
   "source": [
    "#read data\n",
    "filename=data_dir+'/US_Weather_%s.parquet'%file_index\n",
    "df_in=sqlContext.read.parquet(filename)\n",
    "#filter in \n",
    "df=df_in.filter(df_in.measurement==m)\n",
    "df.show(5)"
   ]
  },
  {
   "cell_type": "markdown",
   "metadata": {
    "run_control": {
     "frozen": false,
     "read_only": false
    },
    "slideshow": {
     "slide_type": "subslide"
    }
   },
   "source": [
    "### Create a matrix with all of the series"
   ]
  },
  {
   "cell_type": "code",
   "execution_count": 8,
   "metadata": {
    "run_control": {
     "frozen": false,
     "read_only": false
    }
   },
   "outputs": [
    {
     "data": {
      "text/plain": [
       "(2931, 365)"
      ]
     },
     "execution_count": 8,
     "metadata": {},
     "output_type": "execute_result"
    }
   ],
   "source": [
    "rows=df.rdd.map(lambda row:unpackArray(row['vector'],np.float16)).collect()\n",
    "\n",
    "T=np.vstack(rows)\n",
    "shape(T)"
   ]
  },
  {
   "cell_type": "markdown",
   "metadata": {
    "run_control": {
     "frozen": false,
     "read_only": false
    },
    "slideshow": {
     "slide_type": "subslide"
    }
   },
   "source": [
    "### Plot two time series\n",
    "`SNWD` stands for `snow-depth`, which explains why it is zero during the summer"
   ]
  },
  {
   "cell_type": "code",
   "execution_count": 9,
   "metadata": {
    "run_control": {
     "frozen": false,
     "read_only": false
    },
    "slideshow": {
     "slide_type": "fragment"
    }
   },
   "outputs": [
    {
     "data": {
      "image/png": "iVBORw0KGgoAAAANSUhEUgAAAXoAAAD6CAYAAACvZ4z8AAAABHNCSVQICAgIfAhkiAAAAAlwSFlz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\n/wewt5pJGGd0iQAAAABJRU5ErkJggg==\n",
      "text/plain": [
       "<matplotlib.figure.Figure at 0x10e969390>"
      ]
     },
     "metadata": {},
     "output_type": "display_data"
    }
   ],
   "source": [
    "fig, ax = plt.subplots(figsize=(6,4));\n",
    "YP=YearPlotter()\n",
    "YP.plot(T[16:18].transpose(),fig,ax,title=