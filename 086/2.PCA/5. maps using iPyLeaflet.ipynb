{
 "cells": [
  {
   "cell_type": "markdown",
   "metadata": {
    "run_control": {
     "frozen": false,
     "read_only": false
    }
   },
   "source": [
    "## iPyLeaflet\n",
    "[ipyleaflet](https://github.com/ellisonbg/ipyleaflet) is a bridge between jupyter notebooks and the [leaflet](http://leafletjs.com/)  javascript library for drawing maps.\n",
    "\n",
    "ipyleaflet comes with a few examples notebooks (this notebook was derived from one) but very little documentation,\n",
    "for more documentation read the [Leaflet IPA](http://leafletjs.com/reference.html)\n",
    "\n",
    "For installation directions, see the README on [ipyleaflet](https://github.com/ellisonbg/ipyleaflet)"
   ]
  },
  {
   "cell_type": "code",
   "execution_count": 2,
   "metadata": {
    "collapsed": true,
    "run_control": {
     "frozen": false,
     "read_only": false
    }
   },
   "outputs": [],
   "source": [
    "from ipyleaflet import (\n",
    "    Map,\n",
    "    Marker,\n",
    "    TileLayer, ImageOverlay,\n",
    "    Polyline, Polygon, Rectangle, Circle, CircleMarker,\n",
    "    GeoJSON,\n",
    "    DrawControl\n",
    ")"
   ]
  },
  {
   "cell_type": "markdown",
   "metadata": {
    "run_control": {
     "frozen": false,
     "read_only": false
    }
   },
   "source": [
    "## Visualizing the distribution of the observations\n",
    "\n",
    "## Load the required libraries"
   ]
  },
  {
   "cell_type": "code",
   "execution_count": 3,
   "metadata": {
    "collapsed": true,
    "run_control": {
     "frozen": false,
     "read_only": false
    }
   },
   "outputs": [],
   "source": [
    "import pandas as pd\n",
    "import numpy as np\n",
    "import sklearn as sk\n",
    "import urllib\n",
    "import math"
   ]
  },
  {
   "cell_type": "code",
   "execution_count": 4,
   "metadata": {
    "collapsed": true,
    "run_control": {
     "frozen": false,
     "read_only": false
    }
   },
   "outputs": [],
   "source": [
    "import findspark\n",
    "findspark.init()\n",
    "\n",
    "from pyspark import SparkContext\n",
    "#sc.stop()\n",
    "sc = SparkContext(master=\"local[3]\",pyFiles=['lib/numpy_pack.py','lib/computeStats.py'])\n",
    "\n",
    "from pyspark import SparkContext\n",
    "from pyspark.sql import *\n",
    "sqlContext = SQLContext(sc)"
   ]
  },
  {
   "cell_type": "code",
   "execution_count": 5,
   "metadata": {
    "collapsed": true,
    "run_control": {
     "frozen": false,
     "read_only": false
    }
   },
   "outputs": [],
   "source": [
    "import sys\n",
    "sys.path.append('./lib')\n",
    "\n",
    "import numpy as np\n",
    "from numpy_pack import packArray,unpackArray\n",
    "from computeStats import computeOverAllDist, STAT_Descriptions"
   ]
  },
  {
   "cell_type": "code",
   "execution_count": 6,
   "metadata": {
    "run_control": {
     "frozen": false,
     "read_only": false
    }
   },
   "outputs": [
    {
     "name": "stdout",
     "output_type": "stream",
     "text": [
      "('keys from STAT=', ['TMIN', 'TOBS', 'TMAX', 'SNOW', 'SNWD', 'PRCP'])\n",
      "103\n",
      "+-------------------+-------------------+-------------------+---------+--------+--------+---------+-----------+------------------+------------------+-------------------+------------------+-----------+---------+------+--------------------+------+\n",
      "|            coeff_1|            coeff_2|            coeff_3|elevation|   label|latitude|longitude|measurement|             res_1|             res_2|              res_3|          res_mean|    station|total_var|undefs|              vector|  year|\n",
      "+-------------------+-------------------+-------------------+---------+--------+--------+---------+-----------+------------------+------------------+-------------------+------------------+-----------+---------+------+--------------------+------+\n",
      "|-0.9714474436583921|-20.310600885779007|-11.156771769950081|    135.9|BSBSSSSB| 32.6525| -84.1858|       SNWD|0.9983815327352802|0.2909069455126284|0.07743421845604893|0.9329420805591848|USC00091425|    625.0|     0|[00 00 00 00 00 0...|1967.0|\n",
      "|-0.9714474436583921|-20.310600885779007|-11.156771769950081|    230.1|BSBSSSSB| 32.9028| -84.3367|       SNWD|0.9983815327352802|0.2909069455126284|0.07743421845604893|0.9329420805591848|USC00098661|    625.0|     0|[00 00 00 00 00 0...|1967.0|\n",
      "+-------------------+-------------------+-------------------+---------+--------+--------+---------+-----------+------------------+------------------+-------------------+------------------+-----------+---------+------+--------------------+------+\n",
      "only showing top 2 rows\n",
      "\n"
     ]
    }
   ],
   "source": [
    "### Read the data frame from pickle file\n",
    "\n",
    "data_dir='../../Data/Weather'\n",
    "file_index='BSBSSSSB'\n",
    "meas='SNWD'\n",
    "\n",
    "from pickle import load\n",
    "\n",
    "#read statistics\n",
    "filename=data_dir+'/STAT_%s.pickle'%file_index\n",
    "STAT,STAT_Descriptions = load(open(filename,'rb'))\n",
    "print('keys from STAT=',STAT.keys())\n",
    "\n",
    "#!ls -ld $data_dir/*.parquet\n",
    "\n",
    "#read data\n",
    "filename=data_dir+'/decon_%s_%s.parquet'%(file_index,meas)\n",
    "\n",
    "df=sqlContext.read.parquet(filename)\n",
    "print(df.count())\n",
    "df.show(2)"
   ]
  },
  {
   "cell_type": "code",
   "execution_count": 7,
   "metadata": {
    "run_control": {
     "frozen": false,
     "read_only": false
    },
    "scrolled": true
   },
   "outputs": [
    {
     "name": "stdout",
     "output_type": "stream",
     "text": [
      "SELECT station, latitude,longitude,elevation,coeff_1 FROM weather\n",
      "+-----------+--------+---------+---------+-------------------+\n",
      "|    station|latitude|longitude|elevation|            coeff_1|\n",
      "+-----------+--------+---------+---------+-------------------+\n",
      "|USC00091425| 32.6525| -84.1858|    135.9|-0.9714474436583921|\n",
      "|USC00098661| 32.9028| -84.3367|    230.1|-0.9714474436583921|\n",
      "|USC00092198|    33.1| -84.4333|    253.0|-0.9097054838385255|\n",
      "|USC00093506| 33.0161| -83.9417|    195.1|-0.9097054838385255|\n",
      "+-----------+--------+---------+---------+-------------------+\n",
      "only showing top 4 rows\n",
      "\n"
     ]
    }
   ],
   "source": [
    "#extract longitude and latitude for each station\n",
    "feature='coeff_1'\n",
    "sqlContext.registerDataFrameAsTable(df,'weather')\n",
    "Query=\"SELECT station, latitude,longitude,elevation,%s FROM weather\"%feature\n",
    "print(Query)\n",
    "df1 = sqlContext.sql(Query)\n",
    "df1.show(4)"
   ]
  },
  {
   "cell_type": "code",
   "execution_count": 8,
   "metadata": {
    "run_control": {
     "frozen": false,
     "read_only": false
    }
   },
   "outputs": [
    {
     "data": {
      "text/html": [
       "<div>\n",
       "<table border=\"1\" class=\"dataframe\">\n",
       "  <thead>\n",
       "    <tr style=\"text-align: right;\">\n",
       "      <th></th>\n",
       "      <th>station</th>\n",
       "      <th>latitude</th>\n",
       "      <th>longitude</th>\n",
       "      <th>elevation</th>\n",
       "      <th>count(station)</th>\n",
       "      <th>avg(coeff_1)</th>\n",
       "    </tr>\n",
       "  </thead>\n",
       "  <tbody>\n",
       "    <tr>\n",
       "      <th>29</th>\n",
       "      <td>US1GATY0002</td>\n",
       "      <td>32.4583</td>\n",
       "      <td>-84.2237</td>\n",
       "      <td>125.3</td>\n",
       "      <td>1</td>\n",
       "      <td>-0.948207</td>\n",
       "    </tr>\n",
       "    <tr>\n",
       "      <th>24</th>\n",
       "      <td>USC00010430</td>\n",
       "      <td>32.6000</td>\n",
       "      <td>-85.5000</td>\n",
       "      <td>198.7</td>\n",
       "      <td>5</td>\n",
       "      <td>9.094080</td>\n",
       "    </tr>\n",
       "  </tbody>\n",
       "</table>\n",
       "</div>"
      ],
      "text/plain": [
       "        station  latitude  longitude  elevation  count(station)  avg(coeff_1)\n",
       "29  US1GATY0002   32.4583   -84.2237      125.3               1     -0.948207\n",
       "24  USC00010430   32.6000   -85.5000      198.7               5      9.094080"
      ]
     },
     "execution_count": 8,
     "metadata": {},
     "output_type": "execute_result"
    }
   ],
   "source": [
    "df2=df1.groupby(['station','latitude','longitude','elevation']).agg({\"station\": \"count\", feature: \"mean\"})\n",
    "pdf=df2.toPandas()\n",
    "pdf.sort_values(by=['station'],inplace=True)\n",
    "pdf.head(2)"
   ]
  },
  {
   "cell_type": "code",
   "execution_count": 9,
   "metadata": {
    "run_control": {
     "frozen": false,
     "read_only": false
    }
   },
   "outputs": [
    {
     "name": "stdout",
     "output_type": "stream",
     "text": [
      "-1.92551160469 517.909570739\n"
     ]
    },
    {
     "data": {
      "text/plain": [
       "u'#800000'"
      ]
     },
     "execution_count": 9,
     "metadata": {},
     "output_type": "execute_result"
    }
   ],
   "source": [
    "#define a mapping from the range of the value to hex colors.\n",
    "from matplotlib.colors import rgb2hex\n",
    "_avg='avg(%s)'%feature\n",
    "_min=pdf[_avg].min()\n",
    "_max=pdf[_avg].max()\n",
    "print _min,_max\n",
    "\n",
    "import pylab as plt\n",
    "cmap=plt.get_cmap('jet')\n",
    "def get_color(val):\n",
    "    x=(val-_min)/(_max-_min)\n",
    "    return(rgb2hex(cmap(x)[:3]))\n",
    "\n",
    "get_color(1000.)"
   ]
  },
  {
   "cell_type": "markdown",
   "metadata": {
    "run_control": {
     "frozen": false,
     "read_only": false
    }
   },
   "source": [
    "## Map"
   ]
  },
  {
   "cell_type": "code",
   "execution_count": 10,
   "metadata": {
    "collapsed": true,
    "run_control": {
     "frozen": false,
     "read_only": false
    }
   },
   "outputs": [],
   "source": [
    "min_lat,max_lat,min_long,max_long = box = (31.7672, 33.2833, -85.5, -83.6)\n"
   ]
  },
  {
   "cell_type": "code",
   "execution_count": 11,
   "metadata": {
    "run_control": {
     "frozen": false,
     "read_only": false
    }
   },
   "outputs": [
    {
     "name": "stdout",
     "output_type": "stream",
     "text": [
      "#000080\n",
      "#000096\n",
      "#000080\n",
      "#00009b\n",
      "#000080\n",
      "#000092\n",
      "#000080\n",
      "#00009b\n",
      "#000096\n",
      "#000080\n",
      "#000084\n",
      "#000084\n",
      "#000092\n",
      "#000084\n",
      "#000084\n",
      "#00009f\n",
      "#800000\n",
      "#000089\n",
      "#000089\n",
      "#000096\n",
      "#000080\n",
      "#0000cd\n",
      "#000096\n",
      "#00008d\n",
      "#00009f\n",
      "#000084\n",
      "#0000d6\n",
      "#000080\n",
      "#00008d\n",
      "#000084\n",
      "#000089\n",
      "#000089\n",
      "#000080\n",
      "#000092\n",
      "#000089\n",
      "#00008d\n",
      "#000080\n",
      "#000089\n",
      "[<ipyleaflet.leaflet.Circle object at 0x112c18490>, <ipyleaflet.leaflet.Circle object at 0x10945c850>, <ipyleaflet.leaflet.Circle object at 0x10945c190>, <ipyleaflet.leaflet.Circle object at 0x10945c910>, <ipyleaflet.leaflet.Circle object at 0x10944fed0>, <ipyleaflet.leaflet.Circle object at 0x10945cad0>, <ipyleaflet.leaflet.Circle object at 0x10945c7d0>, <ipyleaflet.leaflet.Circle object at 0x10945cbd0>, <ipyleaflet.leaflet.Circle object at 0x10945cb10>, <ipyleaflet.leaflet.Circle object at 0x10945c3d0>, <ipyleaflet.leaflet.Circle object at 0x10945cb50>, <ipyleaflet.leaflet.Circle object at 0x10945c810>, <ipyleaflet.leaflet.Circle object at 0x10945c990>, <ipyleaflet.leaflet.Circle object at 0x10945c890>, <ipyleaflet.leaflet.Circle object at 0x10945c450>, <ipyleaflet.leaflet.Circle object at 0x10945ce10>, <ipyleaflet.leaflet.Circle object at 0x10945cd50>, <ipyleaflet.leaflet.Circle object at 0x10945ccd0>, <ipyleaflet.leaflet.Circle object at 0x10945ce90>, <ipyleaflet.leaflet.Circle object at 0x10945cb90>, <ipyleaflet.leaflet.Circle object at 0x10945cd10>, <ipyleaflet.leaflet.Circle object at 0x10945cd90>, <ipyleaflet.leaflet.Circle object at 0x10945ced0>, <ipyleaflet.leaflet.Circle object at 0x10945c950>, <ipyleaflet.leaflet.Circle object at 0x10947a350>, <ipyleaflet.leaflet.Circle object at 0x10947a150>, <ipyleaflet.leaflet.Circle object at 0x10947a190>, <ipyleaflet.leaflet.Circle object at 0x10947a390>, <ipyleaflet.leaflet.Circle object at 0x10947a510>, <ipyleaflet.leaflet.Circle object at 0x10947a250>, <ipyleaflet.leaflet.Circle object at 0x10947a550>, <ipyleaflet.leaflet.Circle object at 0x10947a6d0>, <ipyleaflet.leaflet.Circle object at 0x10947a710>, <ipyleaflet.leaflet.Circle object at 0x10947a090>, <ipyleaflet.leaflet.Circle object at 0x10947a990>, <ipyleaflet.leaflet.Circle object at 0x10947a110>, <ipyleaflet.leaflet.Circle object at 0x10947a310>, <ipyleaflet.leaflet.Circle object at 0x10947a790>]\n",
      "33.2833 -83.6 31.7672 -85.5\n"
     ]
    },
    {
     "data": {
      "application/vnd.jupyter.widget-view+json": {
       "model_id": "a50d2562d8004568ad7cb2678e842cb8"
      }
     },
     "metadata": {},
     "output_type": "display_data"
    }
   ],
   "source": [
    "center = [(min_lat+max_lat)/2, (min_long+max_long)/2]\n",
    "zoom = 9\n",
    "\n",
    "m = Map(default_tiles=TileLayer(opacity=1.0), center=center, zoom=zoom)\n",
    "\n",
    "r = Rectangle(bounds=[[min_lat,min_long],[max_lat,max_long]], weight=5, fill_opacity=0.0)\n",
    "m += r\n",
    "\n",
    "lat_margin=(max_lat-min_lat)/4\n",
    "long_margin=(max_long-min_long)/4\n",
    "circles = []\n",
    "_max_lat = -10000.0\n",
    "_min_lat = 10000.0\n",
    "_max_long = -10000.0\n",
    "_min_long = 10000.0\n",
    "for index,row in pdf.iterrows():\n",
    "    _lat=row['latitude']\n",
    "    _long=row['longitude']\n",
    "    if _lat > _max_lat:\n",
    "        _max_lat = _lat\n",
    "    elif _lat < _min_lat:\n",
    "        _min_lat = _lat\n",
    "    if _long > _max_long:\n",
    "        _max_long = _long\n",
    "    elif _long < _min_long:\n",
    "        _min_long = _long\n",
    "    _count=row['count(station)']\n",
    "    _coef=row[_avg]\n",
    "    print get_color(_coef)\n",
    "    # taking sqrt of count so that the  area of the circle corresponds to the count\n",
    "    c = Circle(location=(_lat,_long), radius=int(300*np.sqrt(_count+0.0)), weight=1,\n",
    "            color='#F00', opacity=0.8, fill_opacity=0.4,\n",
    "            fill_color=get_color(_coef))\n",
    "    circles.append(c)\n",
    "    m.add_layer(c)\n",
    "print circles\n",
    "print _max_lat, _max_long, _min_lat, _min_long\n",
    "m    "
   ]
  },
  {
   "cell_type": "markdown",
   "metadata": {
    "run_control": {
     "frozen": false,
     "read_only": false
    }
   },
   "source": [
    "### excercises:\n",
    "* Add a legend that relates the colors to values.\n",
    "* Leaflet supports a variety of maps. See if you can get a topographical map as the background."
   ]
  },
  {
   "cell_type": "code",
   "execution_count": 13,
   "metadata": {
    "run_control": {
     "frozen": false,
     "read_only": false
    }
   },
   "outputs": [
    {
     "data": {
      "image/png": "[encoded data removed]",
      "text/plain": [
       "<matplotlib.figure.Figure at 0x112d4cb10>"
      ]
     },
     "metadata": {},
     "output_type": "display_data"
    },
    {
     "data": {
      "image/png": "[encoded data removed]",
      "text/plain": [
       "<matplotlib.figure.Figure at 0x112d4c9d0>"
      ]
     },
     "metadata": {},
     "output_type": "display_data"
    },
    {
     "data": {
      "image/png": "[encoded data removed]",
      "text/plain": [
       "<matplotlib.figure.Figure at 0x113dfc1d0>"
      ]
     },
     "metadata": {},
     "output_type": "display_data"
    }
   ],
   "source": [
    "%matplotlib inline\n",
    "pdf.plot.scatter(x='elevation',y='avg(coeff_1)');\n",
    "pdf.plot.scatter(x='longitude',y='avg(coeff_1)');\n",
    "pdf.plot.scatter(x='latitude',y='avg(coeff_1)');"
   ]
  },
  {
   "cell_type": "code",
   "execution_count": null,
   "metadata": {
    "collapsed": true,
    "run_control": {
     "frozen": false,
     "read_only": false
    }
   },
   "outputs": [],
   "source": []
  },
  {
   "cell_type": "code",
   "execution_count": 29,
   "metadata": {},
   "outputs": [
    {
     "data": {
      "text/plain": [
       "['spark big  data analysis', 'spring', 'spark  basics']"
      ]
     },
     "execution_count": 29,
     "metadata": {},
     "output_type": "execute_result"
    }
   ],
   "source": [
    "RDD1=sc.parallelize([\"spark  basics\", \"spark big  data analysis\", \"spring\"]) \n",
    "RDD2=sc.parallelize([\"spark using pyspark\", \"big data\"])\n",
    " \n",
    "RDD1.subtract(RDD2).collect()"
   ]
  },
  {
   "cell_type": "code",
   "execution_count": null,
   "metadata": {
    "collapsed": true
   },
   "outputs": [],
   "source": []
  }
 ],
 "metadata": {
  "anaconda-cloud": {},
  "hide_input": false,
  "kernelspec": {
   "display_name": "Python 2",
   "language": "python",
   "name": "python2"
  },
  "language_info": {
   "codemirror_mode": {
    "name": "ipython",
    "version": 2
   },
   "file_extension": ".py",
   "mimetype": "text/x-python",
   "name": "python",
   "nbconvert_exporter": "python",
   "pygments_lexer": "ipython2",
   "version": "2.7.13"
  },
  "toc": {
   "colors": {
    "hover_highlight": "#DAA520",
    "running_highlight": "#FF0000",
    "selected_highlight": "#FFD700"
   },
   "moveMenuLeft": true,
   "nav_menu": {
    "height": "174px",
    "width": "252px"
   },
   "navigate_menu": true,
   "number_sections": true,
   "sideBar": true,
   "threshold": 4,
   "toc_cell": false,
   "toc_section_display": "block",
   "toc_window_display": false
  },
  "widgets": {
   "state": {},
   "version": "1.0.0"
  }
 },
 "nbformat": 4,
 "nbformat_minor": 1
}
