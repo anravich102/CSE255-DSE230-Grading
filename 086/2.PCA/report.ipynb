{
 "cells": [
  {
   "cell_type": "code",
   "execution_count": 4,
   "metadata": {},
   "outputs": [
    {
     "name": "stdout",
     "output_type": "stream",
     "text": [
      "![5__maps_using_iPyLeaflet.jpg](figure/5__maps_using_iPyLeaflet.jpg)\n",
      "![Climate_Columbus_-_Georgia_and_Weather_averages_Columbus.png](figure/Climate_Columbus_-_Georgia_and_Weather_averages_Columbus.png)\n",
      "![Map of Average snow depth.jpg](figure/Map of Average snow depth.jpg)\n",
      "![PRCP.png](figure/PRCP.png)\n",
      "![PRCP_4pics.png](figure/PRCP_4pics.png)\n",
      "![PRCP_explain.png](figure/PRCP_explain.png)\n",
      "![PRCP_matrix.png](figure/PRCP_matrix.png)\n",
      "![PRCP_significance.png](figure/PRCP_significance.png)\n",
      "![SNOW.png](figure/SNOW.png)\n",
      "![SNWD.png](figure/SNWD.png)\n",
      "![SNWD_coeff_1_CDF.png](figure/SNWD_coeff_1_CDF.png)\n",
      "![SNWD_coeff_2_CDF.png](figure/SNWD_coeff_2_CDF.png)\n",
      "![SNWD_coeff_3_CDF.png](figure/SNWD_coeff_3_CDF.png)\n",
      "![SNWD_elevation_coeff1.png](figure/SNWD_elevation_coeff1.png)\n",
      "![SNWD_grid_Pos_coeff1.png](figure/SNWD_grid_Pos_coeff1.png)\n",
      "![SNWD_grid_Pos_coeff2.htm](figure/SNWD_grid_Pos_coeff2.htm)\n",
      "![SNWD_grid_Pos_coeff2.png](figure/SNWD_grid_Pos_coeff2.png)\n",
      "![SNWD_grid_Pos_coeff2_files](figure/SNWD_grid_Pos_coeff2_files)\n",
      "![SNWD_grid_Pos_coeff3.png](figure/SNWD_grid_Pos_coeff3.png)\n",
      "![SNWD_grid_neg_coeff1.png](figure/SNWD_grid_neg_coeff1.png)\n",
      "![SNWD_grid_neg_coeff2.png](figure/SNWD_grid_neg_coeff2.png)\n",
      "![SNWD_grid_neg_coeff3.png](figure/SNWD_grid_neg_coeff3.png)\n",
      "![SNWD_latitude_coeff1.png](figure/SNWD_latitude_coeff1.png)\n",
      "![SNWD_longitude_coeff1.png](figure/SNWD_longitude_coeff1.png)\n",
      "![SNWD_mean_eigs.png](figure/SNWD_mean_eigs.png)\n",
      "![SNWD_res_1_CDF.png](figure/SNWD_res_1_CDF.png)\n",
      "![SNWD_res_2_CDF.png](figure/SNWD_res_2_CDF.png)\n",
      "![SNWD_res_3_CDF.png](figure/SNWD_res_3_CDF.png)\n",
      "![TMINTMAX.png](figure/TMINTMAX.png)\n",
      "![TOBS.png](figure/TOBS.png)\n",
      "![TOBSPRCP.png](figure/TOBSPRCP.png)\n",
      "![VarExplained11.png](figure/VarExplained11.png)\n",
      "![VarExplained12.png](figure/VarExplained12.png)\n",
      "![bar.jpg](figure/bar.jpg)\n",
      "![percipitation.png](figure/percipitation.png)\n"
     ]
    }
   ],
   "source": [
    "L=!ls figure/\n",
    "for l in L:\n",
    "    print \"![%s](figure/%s)\"%(l,l)"
   ]
  },
  {
   "cell_type": "code",
   "execution_count": 5,
   "metadata": {
    "collapsed": true
   },
   "outputs": [],
   "source": [
    "!open figure/TMINTMAX.png"
   ]
  },
  {
   "cell_type": "markdown",
   "metadata": {},
   "source": [
    "# Georgia Weather Analysis\n",
    "\n",
    "This is a report on the historical analysis of weather patterns in an area that approximately overlaps the area of the state of Georgia.\n",
    "\n",
    "The data we will use here comes from [NOAA](https://www.ncdc.noaa.gov/). Specifically, it was downloaded from This [FTP site](ftp://ftp.ncdc.noaa.gov/pub/data/ghcn/daily/).\n",
    "\n",
    "We focused on six measurements:\n",
    "* **TMIN, TMAX:** the daily minimum and maximum temperature.\n",
    "* **TOBS:** The average temperature for each day.\n",
    "* **PRCP:** Daily Percipitation (in mm)\n",
    "* **SNOW:** Daily snowfall (in mm)\n",
    "* **SNWD:** The depth of accumulated snow.\n",
    "\n",
    "## Sanity-check: comparison with outside sources\n",
    "\n",
    "<p>We start by comparing some of the general statistics with graphs that we obtained from a site called <a href=\"http://www.usclimatedata.com/climate/columbus/georgia/united-states/usga0823\" target=\"_blank\">US Climate Data</a> The graph below shows the daily minimum and maximum temperatures for each month, as well as the total precipitation for each month.</p>\n",
    "\n",
    "<p>&nbsp;</p>\n",
    "\n",
    "<p><img alt=\"Climate_Columbus_-_Georgia_and_Weather_averages_Columbus.png\" src=\"figure/Climate_Columbus_-_Georgia_and_Weather_averages_Columbus.png\" /></p>\n",
    "\n",
    "<p>&nbsp;</p>\n",
    "\n",
    "<p>We see that the min and max daily&nbsp;temperature agree with the ones we got from our data, once we translate Fahrenheit to Centigrade.</p>\n",
    "\n",
    "<p>&nbsp;</p>\n",
    "\n",
    "<p><img alt=\"TMIN,TMAX.png\" src=\"figure/TMINTMAX.png\" style=\"height:300px; width:800px\" /></p>\n",
    "\n",
    "<p>To compare the precipitation&nbsp;we need to translate millimeter/day to inches/month. According to our analysis the average rainfall is 3.19 mm/day which translates to about 3.77 Inches&nbsp;per month. According to US-Climate-Data the average rainfall is closer to 3.90 inch per month. However, there is clear agreement that average precipitation&nbsp;is close to a constant throughout the year</p>\n",
    "\n",
    "<p>&nbsp;<img alt=\"TOBSPRCP.png\" src=\"figure/TOBSPRCP.png\" style=\"height:300px; width:800px\" /></p>\n"
   ]
  },
  {
   "cell_type": "markdown",
   "metadata": {},
   "source": [
    "## PCA analysis\n",
    "\n",
    "For each of the six measurement, we compute the percentate of the variance explained as a function of the number of eigen-vectors used.\n",
    "\n",
    "### Percentage of variance explained.\n",
    "![VarExplained11.png](figure/VarExplained11.png)\n",
    "We see that the top 5 eigen-vectors explain 22% of variance for TMIN, 48% for TOBS and 21% for TMAX.\n",
    "\n",
    "We conclude that of the three, TOBS is best explained by the top 5 eigenvectors. This is especially true for the first eigen-vector which, by itself, explains 38.8% of the variance.\n",
    "\n",
    "![VarExplained12.png](figure/VarExplained12.png)\n",
    "\n",
    "The top 5 eigenvectors explain 7.2% of the variance for PRCP and 54% for SNOW. The variance for PRCP is low values and that of SNOW is just 50% or so. On the other hand the top 5 eigenvectors explain %83 of the variance for SNWD. This means that these top 5 eigenvectors capture most of the variation in the snow signals. Based on that we will dig deeper into the PCA analysis for snow-depth.\n",
    "\n",
    "It makes sense that SNWD would be less noisy than SNOW. That is because SNWD is a decaying integral of SNOW and, as such, varies less between days and between the same date on diffferent years."
   ]
  },
  {
   "cell_type": "markdown",
   "metadata": {},
   "source": [
    "## Analysis of snow depth\n",
    "\n",
    "We choose to analyze the eigen-decomposition for snow-depth because the first 3 eigen-vectors explain 80% of the variance.\n",
    "\n",
    "First, we graph the mean and the top 3 eigen-vectors.\n",
    "\n",
    "We observe that the snow season is from the end of december to mid-march, where the start of February marks the peak of the snow-depth.\n",
    "![SNWD_mean_eigs.png](figure/SNWD_mean_eigs.png)"
   ]
  },
  {
   "cell_type": "markdown",
   "metadata": {},
   "source": [
    "Next we interpret the eigen-functions. The first eigen-function (eig1) has a shape very similar to the mean function. The main differences is that the eigen-function is close to zero at mid-februray while the mean is at peak.  The interpretation of this shape is that eig1 represents the overall amount of snow during Jan.\n",
    "\n",
    "**eig2 and eig3** are similar in the following way. They all oscilate between positive and negative values. In other words, they correspond to changing the distribution of the snow depth over the winter months. but they don't change the total (much).\n",
    "\n",
    "They can be interpreted as follows:\n",
    "* **eig2:** less snow in mid feb.\n",
    "* **eig3:** less snow in start of Februray, more snow in middle of Februray.\n"
   ]
  },
  {
   "cell_type": "markdown",
   "metadata": {},
   "source": [
    "### Examples of reconstructions\n",
    "\n",
    "#### Coeff1\n",
    "Coeff1: most positive\n",
    "![SNWD_grid_Pos_coeff1.png](figure/SNWD_grid_Pos_coeff1.png)\n",
    "Coeff1: most negative\n",
    "![SNWD_grid_neg_coeff1.png](figure/SNWD_grid_neg_coeff1.png)\n",
    "Large positive values of coeff1 correspond to the snow season during January. Negative values of coeff1 correspond to a season with a single peak at the start of Feb.\n",
    "\n",
    "#### Coeff2\n",
    "Coeff2: most positive\n",
    "![SNWD_grid_Pos_coeff2.png](figure/SNWD_grid_Pos_coeff2.png)\n",
    "Coeff2: most negative\n",
    "![SNWD_grid_neg_coeff2.png](figure/SNWD_grid_neg_coeff2.png)\n",
    "\n",
    "Large positive values of coeff2 correspond to a season with two peaks: one in the end of Feb, the other at mid-Dec. Negative values of coeff1 correspond to a season with a single peak at the start of Feb.\n",
    "#### Coeff3\n",
    "Coeff3: most positive\n",
    "![SNWD_grid_Pos_coeff3.png](figure/SNWD_grid_Pos_coeff3.png)\n",
    "Coeff3: most negative\n",
    "![SNWD_grid_neg_coeff3.png](figure/SNWD_grid_neg_coeff3.png)\n",
    "\n",
    "Large positive values of coeff2 correspond to a snow season with one single peak at the start of Feb. Negative values of coeff3 correspond to a season with one single peak at the start of Feb.\n",
    "\n"
   ]
  },
  {
   "cell_type": "markdown",
   "metadata": {
    "collapsed": true
   },
   "source": [
    "### Geographical distribution of coefficient_1. \n",
    "\n",
    "#### Coeff1 distribution over elevation\n",
    "![SNWD_elevation_coeff1.png](figure/SNWD_elevation_coeff1.png)\n",
    "\n",
    "We can see that most coeff1 fall into [100, 150] and [200, 250]. Meanwhile, Some of them fall into [200, 250]. Most coefficients are small.\n",
    "\n",
    "#### Coeff1 distribution over longitude\n",
    "![SNWD_longitude_coeff1.png](figure/SNWD_longitude_coeff1.png)\n",
    "\n",
    "For longitude, we can see that the distribution of coeff1 is more randomly than elevation.\n",
    "\n",
    "#### Coeff1 distribution over latitude\n",
    "![SNWD_latitude_coeff1.png](figure/SNWD_latitude_coeff1.png)\n",
    "\n",
    "For latitude, we can see that the distribution of coeff1 is also more randomly than elevation. Coeff1 is a little more tend to fall at higher latitude here.\n",
    "\n"
   ]
  },
  {
   "cell_type": "markdown",
   "metadata": {},
   "source": [
    "## The variation in the timing of snow is mostly due to year-to-year variation\n",
    "In the previous section we see the variation of Coeff1, which corresponds to the total amount of snow, with respect to location. We now estimate the relative importance of location-to-location variation relative to year-by-year variation.\n",
    "\n",
    "These are measured using the fraction by which the variance is reduced when we subtract from each station/year entry the average-per-year or the average-per-station respectively. Here are the results:\n",
    "\n",
    "**coeff_1**  \n",
    "total RMS                   =  98.6660902199\n",
    "\n",
    "RMS removing mean-by-station=  66.6624088622 fraction explained =  0.324363530433\n",
    "\n",
    "RMS removing mean-by-year   =  8.96181070928 fraction explained =  0.909170306746  \n",
    "\n",
    "**coeff_2**  \n",
    "total RMS                   =  75.4315153036\n",
    "\n",
    "RMS removing mean-by-station=  63.3417870442 fraction explained =  0.160274233002\n",
    "\n",
    "RMS removing mean-by-year   =  40.1446765283 fraction explained =  0.467799680721  \n",
    "\n",
    "**coeff_3**  \n",
    "total RMS                   =  27.0504148361\n",
    "\n",
    "RMS removing mean-by-station=  21.8590029755 fraction explained =  0.191916164392\n",
    "\n",
    "RMS removing mean-by-year   =  24.8622415283 fraction explained =  0.0808924122258 \n",
    "\n",
    "We see that the variation by year explains more than the variation by station. However this conclusion doesn't work for coeff_3 and it easily to find that both the variations by station and year are explained little. This effect is stronger consider coeff_1, which means that the amount of snow in Jan varies a lot between years. We see that for coeff_1,2 the stations explain about 15-30% of the variance while the year explaines 50-90%."
   ]
  },
  {
   "cell_type": "markdown",
   "metadata": {},
   "source": [
    "## Analysis of correlation between percipitation across locations\n",
    "\n",
    "### Definition of statistical test\n",
    "\n",
    "We want to find a statistical test for rejecting the null hypothesis that says that the rainfall in the two locations is independent.\n",
    "\n",
    "Using the inner product is too noisy, because you multiply the rainfall on the same day in two locations and that product can be very large - leading to a large variance and poor ability to discriminate.\n",
    "\n",
    "An alternative is to ignore the amount of rain, and just ask whether it rained in both locations. We can then compute the probability associated with the number of overlaps under the null hypothesis.\n",
    "\n",
    "Fix two stations. We restrict our attention to the days for which we have measurements for both stations, and define the following notation:\n",
    "* $m$ : the total number of days (for which we have measurements for both stations).\n",
    "* $n_1$ : the number of days that it rained on station 1\n",
    "* $n_2$ : the number of days that it rained on station 2\n",
    "* $l$ : the number of days that it rained on both stations.\n",
    "\n",
    "We want to calculate the probability that the number of overlap days is $l$ given $m,n_1,n_2$.\n",
    "\n",
    "The answer is:\n",
    "$$\n",
    "P = {m \\choose l,n_1-l,n_2-l,m-n_1-n_2+l} /{m \\choose n_1}{m \\choose n_2}\n",
    "$$\n",
    "\n",
    "Where\n",
    "$$\n",
    "{m \\choose l,n_1-l,n_2-l,m-n_1-n_2+l} = \\frac{m!}{l! (n_1-l)! (n_2-l)! (m-n_1-n_2+l)!}\n",
    "$$\n",
    "\n",
    "We use the fact that $\\Gamma(n+1) = n!$ and denote $G(n) \\doteq \\log \\Gamma(n+1)$\n",
    "$$\n",
    "\\log P = \\left[G(m) - G(l) -G(n_1-l) -G(n_2-l) -G(m-n_1-n_2+l) \\right] - \n",
    "\\left[G(m)-G(n_1)-G(m-n_1)\\right] - \\left[G(m)-G(n_2)-G(m-n_2)\\right]\n",
    "$$\n",
    "Which slightly simplifies to \n",
    "$$\n",
    "\\log P = -G(l) -G(n_1-l) -G(n_2-l) -G(m-n_1-n_2+l) - G(m)+G(n_1)+G(m-n_1) +G(n_2)+G(m-n_2)\n",
    "$$\n",
    "\n",
    "The log probability scales with $m$ the length of the overlap. So to get a per-day significance we consider $\n",
    "\\frac{1}{m} \\log P $\n",
    "\n",
    "### Significance distribution\n",
    "\n",
    "![PRCP_significance.png](figure/PRCP_significance.png)\n",
    "\n",
    "### correlations matrix\n",
    "\n",
    "![PRCP_matrix.png](figure/PRCP_matrix.png)\n",
    "\n",
    "We see immediately the first 31 stations are highly correlated with each other, and the latter 79 stations are somewhat correlated with each other. While the most of the first 31 stations are not correlated with the latter 88 stations.\n",
    "\n",
    "To find more correlations we use SVD (the term PCA is reserved for decomposition of the covariance matrix). As we shall see that the top 10 eigenvectors explain about 80% of the square magnitude of the matrix.\n",
    "\n",
    "![PRCP_4pics.png](figure/PRCP_4pics.png)\n",
    "\n",
    "When we reorder the rows and columns of the matrix using one of the eigenvectors, the grouping of the stations becomes more evident. For example, consider the third matrix. The stations at positions 45-61 are clearly strongly correlated with each other. Even though there are some stations, in positions 52,54-56 or so, which are not related to the rest of this block.\n",
    "\n",
    "\n",
    "\n",
    "### PCA analysis\n",
    "\n",
    "![PRCP_explain.png](figure/PRCP_explain.png)\n",
    "\n",
    "We see that the top 9 eigen-vectors explain 12% of variance for PRCP.\n",
    "\n",
    "\n"
   ]
  },
  {
   "cell_type": "code",
   "execution_count": null,
   "metadata": {
    "collapsed": true
   },
   "outputs": [],
   "source": []
  },
  {
   "cell_type": "code",
   "execution_count": null,
   "metadata": {
    "collapsed": true
   },
   "outputs": [],
   "source": []
  }
 ],
 "metadata": {
  "kernelspec": {
   "display_name": "Python 2",
   "language": "python",
   "name": "python2"
  },
  "language_info": {
   "codemirror_mode": {
    "name": "ipython",
    "version": 2
   },
   "file_extension": ".py",
   "mimetype": "text/x-python",
   "name": "python",
   "nbconvert_exporter": "python",
   "pygments_lexer": "ipython2",
   "version": "2.7.13"
  }
 },
 "nbformat": 4,
 "nbformat_minor": 2
}
