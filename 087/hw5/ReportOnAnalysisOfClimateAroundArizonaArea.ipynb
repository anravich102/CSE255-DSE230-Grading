{
 "cells": [
  {
   "cell_type": "code",
   "execution_count": 1,
   "metadata": {
    "collapsed": true
   },
   "outputs": [],
   "source": [
    "from mapScript import getMap\n",
    "m = getMap(8)"
   ]
  },
  {
   "cell_type": "markdown",
   "metadata": {},
   "source": [
    "#    Weather Analysis - Central Arizona"
   ]
  },
  {
   "cell_type": "code",
   "execution_count": 2,
   "metadata": {},
   "outputs": [
    {
     "data": {
      "application/vnd.jupyter.widget-view+json": {
       "model_id": "44f0e9f905964030aa1af95aacc62c8d"
      }
     },
     "metadata": {},
     "output_type": "display_data"
    }
   ],
   "source": [
    "m"
   ]
  },
  {
   "cell_type": "markdown",
   "metadata": {
    "run_control": {
     "frozen": false,
     "read_only": false
    }
   },
   "source": [
    "## 1.1 Introduction \n",
    "This is a report on the historical analysis of weather patterns in an area that approximately overlaps the area of the state of Arizona.\n",
    "\n",
    "The are is market between the coordinates: [(33.3767N, 111.3447W) , (34.2639N,108.5167W)]\n",
    "\n",
    "The data we will use here comes from [NOAA](https://www.ncdc.noaa.gov/). Specifically, it was downloaded from This [FTP site](ftp://ftp.ncdc.noaa.gov/pub/data/ghcn/daily/).\n",
    "\n",
    "We focused on six measurements:\n",
    "* **TMIN, TMAX:** the daily minimum and maximum temperature.\n",
    "* **TOBS:** The average temperature for each day.\n",
    "* **PRCP:** Daily Percipitation (in mm)\n",
    "* **SNOW:** Daily snowfall (in mm)\n",
    "* **SNWD:** The depth of accumulated snow.\n",
    "\n",
    "## 1.2  Sanity-check: comparison with outside sources\n",
    "\n",
    "<p>We start by comparing some of the general statistics with graphs that we obtained from a site called\n",
    " <a href=\"http://www.usclimatedata.com/climate/pine/arizona/united-states/usaz0407\" target=\"_blank\">US Climate Data</a> The graph below shows the daily minimum and maximum temperatures for each month, as well as the total precipitation for each month.</p>\n",
    "\n",
    "\n",
    "<img src=\"Report_Figures/ArizonaUSStats.png\" width=\"600\" height=\"150\">\n",
    "\n",
    "\n",
    "<p>We see that the min and max daily&nbsp;temperature loosely agrees with the ones we got from our data. </p>\n",
    "\n",
    "<p>&nbsp;</p>\n",
    "\n",
    "<p><img alt=\"tmin_tmax_mean_std.png\" src=\"Report_Figures/tmin_tmax_mean_std.png\" style=\"height:300px; width:800px\" /></p>\n",
    "\n",
    "<p>To compare the precipitation&nbsp;we need to translate centimeter/day to inches/month. According to our analysis the average rainfall is 18 mm/day which translates to about 50 cm&nbsp;per month. According to US-Climate-Data the average rainfall is closer to 45 cm per month. However from the plots we can say that the rainfall consistently decreases from January to June, and suddenly shoots up in July maintaining the rainfall consistent till January next year</p>\n",
    "\n",
    "<p>&nbsp;<img alt=\"prcp_mean.png\" src=\"Report_Figures/prcp_mean.png\" style=\"height:350px; width:600px\" /></p>\n"
   ]
  },
  {
   "cell_type": "markdown",
   "metadata": {},
   "source": [
    "# 2. Exploratory Analysis\n",
    "\n",
    "## 2.1 Geostatistical Trend \n",
    "\n",
    "### 2.1.1 Top Stations of TMIN\n",
    "\n",
    "The image shows top 15 stations with minimum temperature. South-western regions reports minimum temperature.\n",
    "<img src=\"Report_Figures/geographical_tmin.png\" width=\"1200\" height=\"400\">\n",
    "\n",
    "### 2.1.2 Top Stations of PRCP\n",
    "The image shows top 15 stations with highest Precipitation. The station lies mostly in the eastern region.\n",
    "<img src=\"Report_Figures/geographical_prcp.png\" width=\"1200\" height=\"400\">\n",
    "\n",
    "### 2.1.3 Top Stations of SNOW\n",
    "Similar to precipitation, the stations in the eastern region have higherst daily snow fall. The image shows top 15 stations which record highest daily snow fall.\n",
    "<img src=\"Report_Figures/geographical_snow.png\" width=\"1200\" height=\"400\">\n",
    "\n",
    "### 2.1.4 Top Stations of SNWD\n",
    "As expected from the trend of Snow, the eastern region record highest snow depth. The image shows top 15 stations which record highest snow depth\n",
    "<img src=\"Report_Figures/geographical_snwd.png\" width=\"1200\" height=\"400\">"
   ]
  },
  {
   "cell_type": "markdown",
   "metadata": {},
   "source": [
    "## 2.2 Pairwise Analysis\n",
    "### 2.2.1 Trends for TMIN\n",
    "It can be observed that with Increasing elevation, TMIN is decreasing\n",
    "<img src=\"result_plots/elevation_vs_TMIN.png\" width=\"600\" height=\"200\">\n",
    "\n",
    "### 2.2.2 Trends for TOBS\n",
    "Similar to the trend of TMIN, we observe that TOBS decreases with incresing elevation\n",
    "<img src=\"result_plots/elevation_vs_TOBS.png\" width=\"600\" height=\"200\">\n",
    "\n",
    "### 2.2.3 Trends for TMAX\n",
    "For TMAX we observe similar trend against elevation as we observed for TMIN and TOBS. TMAX decreases with increasing elevation \n",
    "<img src=\"result_plots/elevation_vs_TMAX.png\" width=\"600\" height=\"200\">\n",
    "\n",
    "### 2.2.4 Trends for SNWD\n",
    "From the plot we observe that with increasing elevation the Snow depth in increasing.\n",
    "<img src=\"result_plots/elevation_vs_SNWD.png\" width=\"600\" height=\"200\">\n",
    "\n",
    "### 2.2.5 Trends for PRCP\n",
    "<img src=\"result_plots/elevation_vs_PRCP.png\" width=\"600\" height=\"200\">\n",
    "\n",
    "\n",
    "\n",
    "\n",
    "## 2.3 Analysis against geographical features\n",
    "In all the plots below, x-axis indicate the geographical attribute attached with that plot in increasing order. The values in the y-axis are the average of over several years for that geographical location. \n",
    "\n",
    "latitude -> increases towards north\n",
    "\n",
    "longitude -> increases towards east\n",
    "\n",
    "<img src=\"Report_Figures/grographicalEffect.png\" width=\"800\" height=\"800\">\n",
    "\n",
    "\n",
    "### 2.3.1 SNWD :\n",
    "The plot indicate that we receive the heaviest snow depth in mid-range of latitude and longitude, i.e. in the central region of study. The third plot shows that the SNWD increases with elevation which is as expected. \n",
    "\n",
    "### 2.3.2 TOBS\n",
    "From the latitude and longitude plot for TOBS, we observe that the trend is quite erratic with peaks at places, however the general overall trend shows decreasing Tobs with increasing latitude and longitude. This indicates that the location in the north eastern part of our map of study should have lower Tobs. The third plot for Tobs is very expected, indicating that Tobs decreas with increasing elevation. \n",
    "\n",
    "### 2.3.3 PRCP\n",
    "Not much conclusion can be drawn from the latitude and longitude plot of Prcp. The elevation plot shows that Prcp increases with increasing elevation."
   ]
  },
  {
   "cell_type": "markdown",
   "metadata": {
    "run_control": {
     "frozen": false,
     "read_only": false
    }
   },
   "source": [
    "## 2.4 PCA analysis\n",
    "\n",
    "For each of the six measurement, we compute the percentate of the variance explained as a function of the number of eigen-vectors used.\n",
    "\n",
    "### 2.4.1 Percentage of variance explained.\n",
    "![VarianceExplained1.png](Report_Figures/VarianceExplained1.png)\n",
    "We see that the first eigen-vector explains around 65-70% of variance for TMIN, TOBS, and 55% for TMAX, while the top 5 eigen vectors give an additional boost of ~5% in explaining the variance.\n",
    "\n",
    "We conclude that of the three, TMIN is best explained by the top 5 eigenvectors which is essentially true for the first eigen-vector which, by itself, explains 70% of the variance. However for the purpose of this report, we will further inverstigate TOBS.\n",
    "\n",
    "\n",
    "![VarianceExplained2.png](Report_Figures/VarianceExplained2.png)\n",
    "\n",
    "The top 5 eigenvectors explain 16% of the variance for SNOW and 10% for PRCP. Both are low values. On the other hand the top 5 eigenvectors explain %85 of the variance for SNWD. This means that these top 5 eigenvectors capture most of the variation in the snow signals. Based on that we will dig deeper into the PCA analysis for snow-depth.This is mainly attributed to the fact that the first eigen vector explains 62% of variance in SNWD.\n",
    "\n",
    "\n",
    "It makes sense that SNWD would be less noisy than SNOW. That is because SNWD is a decaying integral of SNOW and, as such, varies less between days and between the same date on diffferent years."
   ]
  },
  {
   "cell_type": "markdown",
   "metadata": {
    "run_control": {
     "frozen": false,
     "read_only": false
    }
   },
   "source": [
    "## 2.5 Analysis of snow depth\n",
    "\n",
    "### 2.5.1 Eigen Decomposition\n",
    "We choose to analyze the eigen-decomposition for snow-depth because the first 4 eigen-vectors explain 82% of the variance.\n",
    "\n",
    "\n",
    "\n",
    "First, we graph the mean and the top 3 eigen-vectors.\n",
    "\n",
    "We observe that the snow season is from november to april, where February marks the peak of the snow-depth.\n",
    "<img src=\"Report_Figures/Snow_Mean1.png\" width=\"600\" height=\"0.5\">\n",
    "\n",
    "Next we interpret the eigen-functions. The first eigen-function (eig1) has a shape very similar to the mean function. The main difference is that the eigen-function is flat in feb to april period, while the mean peaks around febuary. The interpretation of this shape is that eig1 represents the average amount of snow in that month of the year.\n",
    "\n",
    "**eig2,eig3 and eig4** are similar in the following way. They all oscilate between positive and negative values. In other words, they correspond to changing the distribution of the snow depth over the winter months, but they don't change the total (much).\n",
    "\n",
    "They can be interpreted as follows:\n",
    "* **eig2:** less snow in jan - mid feb, more snow in mid march-april.\n",
    "* **eig3:** more snow in jan-feb, less snow in march, slightly more snow in april.\n",
    "\n",
    "\n",
    "\n",
    "### 2.5.2 Examples of reconstructions\n",
    "\n",
    "#### Coeff1\n",
    "Coeff1: most positive\n",
    "<img src=\"Report_Figures/snow_coeff_positive.png\" width=\"800\" height=\"150\">\n",
    "Coeff1: most negative\n",
    "<img src=\"Report_Figures/snow_coeff_negative.png\" width=\"800\" height=\"150\">\n",
    "Large positive values of coeff1 correspond to more than average snow in january - april months. Low values correspond to less than average snow in the same period.\n",
    "\n",
    "#### Coeff2\n",
    "Coeff2: most positive\n",
    "<img src=\"Report_Figures/snow_coeff2_positive.png\" width=\"800\" height=\"150\">\n",
    "Coeff2: most negative\n",
    "<img src=\"Report_Figures/snow_coeff2_negative.png\" width=\"800\" height=\"150\">\n",
    "Large positive values of coeff1 correspond to more than average snow in january - april months. Low values correspond to less than average snow in the same period.\n",
    "\n",
    "Large positive values of coeff2 correspond to a late snow season (most of the snowfall is after mid feb. Negative values for coeff2 correspond to an early snow season (most of the snow is before mid-feb.\n",
    "\n",
    "#### Coeff3\n",
    "Coeff3: most positive\n",
    "<img src=\"Report_Figures/snow_coeff3_positive.png\" width=\"800\" height=\"150\">\n",
    "Coeff3: most negative\n",
    "<img src=\"Report_Figures/snow_coeff3_negative.png\" width=\"800\" height=\"150\">\n",
    "Large positive values of coeff1 correspond to more than average snow in january - april months. Low values correspond to less than average snow in the same period.\n",
    "\n",
    "\n",
    "Large positive values of coeff3 correspond to a snow with spike int the month of febuary, while negative coeff coeff3 correspond to a season with a negative peak at the month of match."
   ]
  },
  {
   "cell_type": "markdown",
   "metadata": {},
   "source": [
    "## 2.6 Impact of time(year-to-year) vs location (place-to-place) on Weather\n",
    "\n",
    "Next, to estimate the effect of time vs. location on the first eigenvector coefficient we compute RMS before and after subtracting the mean due to station/year.\n",
    "\n",
    "#### SNWD\n",
    "total RMS                   =  705.379279328 <br>\n",
    "RMS removing mean-by-station=  643.818287689 <br>\n",
    "RMS removing mean-by-year   =  501.937985779 <br>\n",
    "\n",
    "#### PRCP\n",
    "total RMS                   =  120.456665697 <br>\n",
    "RMS removing mean-by-station=  117.594427552 <br>\n",
    "RMS removing mean-by-year   =  54.9534317694\n",
    "\n",
    "#### TOBS\n",
    "total RMS                   =  705.379279328<br>\n",
    "RMS removing mean-by-station=  643.818287689<br>\n",
    "RMS removing mean-by-year   =  501.937985779<br>\n",
    "\n",
    "In all the RMS data above, mean-by-year reduces RMS more than mean-by-station, which explains that time(year) has more influence over weather compared to location(place). "
   ]
  },
  {
   "cell_type": "markdown",
   "metadata": {},
   "source": [
    "## 2.7 Statistical Analysis of correlation between stations"
   ]
  },
  {
   "cell_type": "markdown",
   "metadata": {},
   "source": [
    "### 2.7.1 Snow \n",
    "<img src=\"Report_Figures/snow_mean.png\" width=\"500\" height=\"350\">\n",
    "\n",
    "From the plot, we observe that in Nov-March we have heavy rainfall, while April-October does not have rainfall.\n",
    "To analyze the correlation between stations for snow-fall, we carry a statistical study.\n",
    "\n",
    "Instead of finding the correlations between the amount of rain on the same day in different stations, we compare whether or not it rained on the same day in different stations.\n",
    "\n",
    "<img src=\"Report_Figures/snow_significance.png\" width=\"500\" height=\"350\">\n",
    "The above plot is a histogram plot of probability associated with the number of overlaps between any two station. \n",
    "\n",
    "In the plot below, we show rependency matrix. The left diagonal is dark, which is true, because evey station is correlated to itself. However in the rest of the plot, we do not see any significant correlation between stations. The stations have been organized in order of increasing elevation. \n",
    "<img src=\"Report_Figures/snow_gray_map.png\" width=\"600\" height=\"400\">"
   ]
  },
  {
   "cell_type": "markdown",
   "metadata": {},
   "source": [
    "### 2.7.3 Precipitation(PRCP)\n",
    "<img src=\"Report_Figures/prcp_mean.png\" width=\"500\" height=\"350\">\n",
    "\n",
    "From the plots we observe that precipitation is the rainfall consistentlly decreases from January to June, when it again shoots up in July to reach annual maxima, after which it gradually decreases.\n",
    "\n",
    "<img src=\"Report_Figures/prcp_cdf.png\" width=\"400\" height=\"300\">\n",
    "\n",
    "In this section of report, we analyze if the occurance of rainfall at any two station is correlated or not, and not the quantity of precipitation. \n",
    "\n",
    "Since the eigenvectors don't explain the rainfall patterns very well, therefore we are doing a in-depth analysis of the precipitation. We perform the p-value analysis with a null-hypothesis that the rainfall between two stations is independent. As mentioned in the notebook, the analysis of finding the correlation between the amount of rainfall can be difficult so we'll only analyze whether the rainfall happened on a day or not.\n",
    "\n",
    "<img src=\"Report_Figures/prcp_significance.png\" width=\"500\" height=\"350\">\n",
    "\n",
    "We can see from the above plot that the significance is not much for most of the cases expect the same stations which show have a default significance of 0.4, thus a peak at the end.\n",
    "\n",
    "\n",
    "In the plot below, we show rependency matrix. The left diagonal is dark, which is true, because evey station is correlated to itself. The stations have been organized in order of increasing elevation. Even though we do not observe any significant patter, still the upper left corner is darker than the rest of the plot, signifying that first 16 stations have correlation in terms of precipitation. \n",
    "\n",
    "<img src=\"Report_Figures/prcp_gray_map1.png\" width=\"600\" height=\"400\">\n",
    "\n",
    "Next, we perform a SVD on this matrix to observe some inherent correlation between the stations. From matrix 1, we can observe that stations 1-16 are highly correlated and 100-120 stations also show some correlation. However, other than that most of this matrix doesn't show any correlation between the stations. \n",
    "\n",
    "<img src=\"Report_Figures/prcp_gray_pca.png\" width=\"600\" height=\"400\">\n",
    "\n",
    "\n",
    "From our analysis we can conclude that rainfall is mostly random across the stations, with only a few stations showing some correlation with each other.\n",
    "\n",
    "\n"
   ]
  },
  {
   "cell_type": "markdown",
   "metadata": {
    "collapsed": true,
    "run_control": {
     "frozen": false,
     "read_only": false
    }
   },
   "source": [
    "## 2.8 Geospatial analysis of coefficient and residual\n",
    "\n",
    "### 2.8.1 Coeff_1\n",
    "<img src=\"Report_Figures/map_coeff1.png\" width=\"800\" height=\"600\">\n",
    "\n",
    "### 2.8.2 Coeff_2\n",
    "<img src=\"Report_Figures/coeff_2.png\" width=\"800\" height=\"600\">\n",
    "\n",
    "### 2.8.3 Coeff_3\n",
    "<img src=\"Report_Figures/coeff_3.png\" width=\"800\" height=\"600\">\n",
    "\n",
    "### 2.8.4 Residual_1\n",
    "<img src=\"Report_Figures/map_res1.png\" width=\"800\" height=\"600\">\n"
   ]
  }
 ],
 "metadata": {
  "anaconda-cloud": {},
  "kernelspec": {
   "display_name": "Python 2",
   "language": "python",
   "name": "python2"
  },
  "language_info": {
   "codemirror_mode": {
    "name": "ipython",
    "version": 2
   },
   "file_extension": ".py",
   "mimetype": "text/x-python",
   "name": "python",
   "nbconvert_exporter": "python",
   "pygments_lexer": "ipython2",
   "version": "2.7.12"
  },
  "toc": {
   "colors": {
    "hover_highlight": "#DAA520",
    "running_highlight": "#FF0000",
    "selected_highlight": "#FFD700"
   },
   "moveMenuLeft": true,
   "nav_menu": {
    "height": "12px",
    "width": "252px"
   },
   "navigate_menu": true,
   "number_sections": true,
   "sideBar": true,
   "threshold": 4,
   "toc_cell": false,
   "toc_section_display": "block",
   "toc_window_display": false
  }
 },
 "nbformat": 4,
 "nbformat_minor": 2
}
