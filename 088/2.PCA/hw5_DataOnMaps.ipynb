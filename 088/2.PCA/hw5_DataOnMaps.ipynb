{
 "cells": [
  {
   "cell_type": "markdown",
   "metadata": {
    "deletable": true,
    "editable": true,
    "run_control": {
     "frozen": false,
     "read_only": false
    }
   },
   "source": [
    "## iPyLeaflet\n",
    "[ipyleaflet](https://github.com/ellisonbg/ipyleaflet) is a bridge between jupyter notebooks and the [leaflet](http://leafletjs.com/)  javascript library for drawing maps.\n",
    "\n",
    "ipyleaflet comes with a few examples notebooks (this notebook was derived from one) but very little documentation,\n",
    "for more documentation read the [Leaflet IPA](http://leafletjs.com/reference.html)\n",
    "\n",
    "For installation directions, see the README on [ipyleaflet](https://github.com/ellisonbg/ipyleaflet)\n",
    "\n",
    "[GeoJson](https://tools.ietf.org/html/rfc7946#section-3.1.7) is a good way to add data on top of an ipyleaflet map.\n",
    "\n",
    "For other backgrounds than open streets, you can alter the ipyleaflet.py file to point to one of [these map providers](https://leaflet-extras.github.io/leaflet-providers/preview/)"
   ]
  },
  {
   "cell_type": "code",
   "execution_count": 53,
   "metadata": {
    "collapsed": false,
    "deletable": true,
    "editable": true,
    "run_control": {
     "frozen": false,
     "read_only": false
    }
   },
   "outputs": [],
   "source": [
    "from ipyleaflet import (\n",
    "    Map,\n",
    "    Marker,\n",
    "    TileLayer, ImageOverlay,\n",
    "    Polyline, Polygon, Rectangle, Circle, CircleMarker,\n",
    "    GeoJSON,\n",
    "    DrawControl\n",
    ")"
   ]
  },
  {
   "cell_type": "markdown",
   "metadata": {
    "deletable": true,
    "editable": true,
    "run_control": {
     "frozen": false,
     "read_only": false
    }
   },
   "source": [
    "## Visualizing the distribution of the observations\n",
    "\n",
    "## Load the required libraries"
   ]
  },
  {
   "cell_type": "code",
   "execution_count": 54,
   "metadata": {
    "collapsed": false,
    "deletable": true,
    "editable": true,
    "run_control": {
     "frozen": false,
     "read_only": false
    }
   },
   "outputs": [],
   "source": [
    "import pandas as pd\n",
    "import numpy as np\n",
    "import sklearn as sk\n",
    "import urllib\n",
    "import math\n",
    "import pylab as plt\n",
    "\n",
    "import sys\n",
    "sys.path.append('./lib')\n",
    "\n",
    "from leaflet import *"
   ]
  },
  {
   "cell_type": "code",
   "execution_count": 59,
   "metadata": {
    "collapsed": false,
    "deletable": true,
    "editable": true
   },
   "outputs": [
    {
     "name": "stdout",
     "output_type": "stream",
     "text": [
      "['eigen-vecs', 'P_norm', 'stations']\n"
     ]
    },
    {
     "data": {
      "text/html": [
       "<div>\n",
       "<table border=\"1\" class=\"dataframe\">\n",
       "  <thead>\n",
       "    <tr style=\"text-align: right;\">\n",
       "      <th></th>\n",
       "      <th>latitude</th>\n",
       "      <th>longitude</th>\n",
       "      <th>elevation</th>\n",
       "      <th>state</th>\n",
       "      <th>name</th>\n",
       "      <th>GSNFLAG</th>\n",
       "      <th>HCNFLAG</th>\n",
       "      <th>WMOID</th>\n",
       "    </tr>\n",
       "  </thead>\n",
       "  <tbody>\n",
       "    <tr>\n",
       "      <th>ACW00011604</th>\n",
       "      <td>17.1167</td>\n",
       "      <td>-61.7833</td>\n",
       "      <td>10.1</td>\n",
       "      <td>NaN</td>\n",
       "      <td>ST JOHNS COOLIDGE FLD</td>\n",
       "      <td>NaN</td>\n",
       "      <td>NaN</td>\n",
       "      <td>NaN</td>\n",
       "    </tr>\n",
       "    <tr>\n",
       "      <th>ACW00011647</th>\n",
       "      <td>17.1333</td>\n",
       "      <td>-61.7833</td>\n",
       "      <td>19.2</td>\n",
       "      <td>NaN</td>\n",
       "      <td>ST JOHNS</td>\n",
       "      <td>NaN</td>\n",
       "      <td>NaN</td>\n",
       "      <td>NaN</td>\n",
       "    </tr>\n",
       "    <tr>\n",
       "      <th>AE000041196</th>\n",
       "      <td>25.3330</td>\n",
       "      <td>55.5170</td>\n",
       "      <td>34.0</td>\n",
       "      <td>NaN</td>\n",
       "      <td>SHARJAH INTER. AIRP</td>\n",
       "      <td>GSN</td>\n",
       "      <td>NaN</td>\n",
       "      <td>41196.0</td>\n",
       "    </tr>\n",
       "    <tr>\n",
       "      <th>AF000040930</th>\n",
       "      <td>35.3170</td>\n",
       "      <td>69.0170</td>\n",
       "      <td>3366.0</td>\n",
       "      <td>NaN</td>\n",
       "      <td>NORTH-SALANG</td>\n",
       "      <td>GSN</td>\n",
       "      <td>NaN</td>\n",
       "      <td>40930.0</td>\n",
       "    </tr>\n",
       "    <tr>\n",
       "      <th>AG000060390</th>\n",
       "      <td>36.7167</td>\n",
       "      <td>3.2500</td>\n",
       "      <td>24.0</td>\n",
       "      <td>NaN</td>\n",
       "      <td>ALGER-DAR EL BEIDA</td>\n",
       "      <td>GSN</td>\n",
       "      <td>NaN</td>\n",
       "      <td>60390.0</td>\n",
       "    </tr>\n",
       "  </tbody>\n",
       "</table>\n",
       "</div>"
      ],
      "text/plain": [
       "             latitude  longitude  elevation state                   name  \\\n",
       "ACW00011604   17.1167   -61.7833       10.1   NaN  ST JOHNS COOLIDGE FLD   \n",
       "ACW00011647   17.1333   -61.7833       19.2   NaN               ST JOHNS   \n",
       "AE000041196   25.3330    55.5170       34.0   NaN    SHARJAH INTER. AIRP   \n",
       "AF000040930   35.3170    69.0170     3366.0   NaN           NORTH-SALANG   \n",
       "AG000060390   36.7167     3.2500       24.0   NaN     ALGER-DAR EL BEIDA   \n",
       "\n",
       "            GSNFLAG HCNFLAG    WMOID  \n",
       "ACW00011604     NaN     NaN      NaN  \n",
       "ACW00011647     NaN     NaN      NaN  \n",
       "AE000041196     GSN     NaN  41196.0  \n",
       "AF000040930     GSN     NaN  40930.0  \n",
       "AG000060390     GSN     NaN  60390.0  "
      ]
     },
     "execution_count": 59,
     "metadata": {},
     "output_type": "execute_result"
    }
   ],
   "source": [
    "data_dir = \"../../Data/Weather\"\n",
    "from pickle import load\n",
    "with open(data_dir+'/PRCP_residuals_PCA.pickle','rb') as file:\n",
    "    Res_eig=load(file)\n",
    "print Res_eig.keys()\n",
    "\n",
    "#stations.pkl\n",
    "with open(data_dir+'/stations.pkl','rb') as file:\n",
    "    Stations=load(file)\n",
    "Stations.head()\n"
   ]
  },
  {
   "cell_type": "code",
   "execution_count": 56,
   "metadata": {
    "collapsed": true
   },
   "outputs": [],
   "source": [
    "P_norm = Res_eig['P_norm']"
   ]
  },
  {
   "cell_type": "code",
   "execution_count": 60,
   "metadata": {
    "collapsed": false,
    "deletable": true,
    "editable": true,
    "scrolled": true
   },
   "outputs": [],
   "source": [
    "import pandas as pd\n",
    "Eig=pd.DataFrame(Res_eig['eigen-vecs'].transpose())\n",
    "P_norm = pd.DataFrame(P_norm.transpose())\n",
    "# print Eig.head()\n",
    "# print P_norm.head(122)"
   ]
  },
  {
   "cell_type": "code",
   "execution_count": 61,
   "metadata": {
    "collapsed": false,
    "deletable": true,
    "editable": true
   },
   "outputs": [
    {
     "name": "stdout",
     "output_type": "stream",
     "text": [
      "[u'CA004010080', u'CA004014913', u'CA005011080', u'CA004012485', u'CA005010760']\n"
     ]
    },
    {
     "data": {
      "text/html": [
       "<div>\n",
       "<table border=\"1\" class=\"dataframe\">\n",
       "  <thead>\n",
       "    <tr style=\"text-align: right;\">\n",
       "      <th></th>\n",
       "      <th>0</th>\n",
       "      <th>1</th>\n",
       "      <th>2</th>\n",
       "      <th>3</th>\n",
       "      <th>4</th>\n",
       "      <th>5</th>\n",
       "      <th>6</th>\n",
       "      <th>7</th>\n",
       "      <th>8</th>\n",
       "      <th>9</th>\n",
       "    </tr>\n",
       "    <tr>\n",
       "      <th>station</th>\n",
       "      <th></th>\n",
       "      <th></th>\n",
       "      <th></th>\n",
       "      <th></th>\n",
       "      <th></th>\n",
       "      <th></th>\n",
       "      <th></th>\n",
       "      <th></th>\n",
       "      <th></th>\n",
       "      <th></th>\n",
       "    </tr>\n",
       "  </thead>\n",
       "  <tbody>\n",
       "    <tr>\n",
       "      <th>CA004010080</th>\n",
       "      <td>0.011866</td>\n",
       "      <td>0.022248</td>\n",
       "      <td>-0.060888</td>\n",
       "      <td>0.054217</td>\n",
       "      <td>-0.041003</td>\n",
       "      <td>-0.037614</td>\n",
       "      <td>0.093085</td>\n",
       "      <td>0.047588</td>\n",
       "      <td>0.101305</td>\n",
       "      <td>0.005873</td>\n",
       "    </tr>\n",
       "    <tr>\n",
       "      <th>CA004014913</th>\n",
       "      <td>-0.129668</td>\n",
       "      <td>-0.013274</td>\n",
       "      <td>0.095793</td>\n",
       "      <td>0.148383</td>\n",
       "      <td>-0.174928</td>\n",
       "      <td>0.063966</td>\n",
       "      <td>0.068865</td>\n",
       "      <td>0.067242</td>\n",
       "      <td>-0.087085</td>\n",
       "      <td>0.077272</td>\n",
       "    </tr>\n",
       "    <tr>\n",
       "      <th>CA005011080</th>\n",
       "      <td>-0.089174</td>\n",
       "      <td>0.053184</td>\n",
       "      <td>-0.039168</td>\n",
       "      <td>0.104050</td>\n",
       "      <td>-0.134874</td>\n",
       "      <td>0.115964</td>\n",
       "      <td>-0.037200</td>\n",
       "      <td>-0.048276</td>\n",
       "      <td>-0.027019</td>\n",
       "      <td>0.123875</td>\n",
       "    </tr>\n",
       "    <tr>\n",
       "      <th>CA004012485</th>\n",
       "      <td>0.017531</td>\n",
       "      <td>-0.033007</td>\n",
       "      <td>-0.029974</td>\n",
       "      <td>0.011458</td>\n",
       "      <td>0.022773</td>\n",
       "      <td>-0.042381</td>\n",
       "      <td>0.109229</td>\n",
       "      <td>0.103034</td>\n",
       "      <td>0.053905</td>\n",
       "      <td>0.047253</td>\n",
       "    </tr>\n",
       "    <tr>\n",
       "      <th>CA005010760</th>\n",
       "      <td>-0.087771</td>\n",
       "      <td>0.061720</td>\n",
       "      <td>-0.042258</td>\n",
       "      <td>0.129494</td>\n",
       "      <td>-0.120663</td>\n",
       "      <td>0.129413</td>\n",
       "      <td>-0.032053</td>\n",
       "      <td>-0.098141</td>\n",
       "      <td>-0.071421</td>\n",
       "      <td>0.055561</td>\n",
       "    </tr>\n",
       "  </tbody>\n",
       "</table>\n",
       "</div>"
      ],
      "text/plain": [
       "                    0         1         2         3         4         5  \\\n",
       "station                                                                   \n",
       "CA004010080  0.011866  0.022248 -0.060888  0.054217 -0.041003 -0.037614   \n",
       "CA004014913 -0.129668 -0.013274  0.095793  0.148383 -0.174928  0.063966   \n",
       "CA005011080 -0.089174  0.053184 -0.039168  0.104050 -0.134874  0.115964   \n",
       "CA004012485  0.017531 -0.033007 -0.029974  0.011458  0.022773 -0.042381   \n",
       "CA005010760 -0.087771  0.061720 -0.042258  0.129494 -0.120663  0.129413   \n",
       "\n",
       "                    6         7         8         9  \n",
       "station                                              \n",
       "CA004010080  0.093085  0.047588  0.101305  0.005873  \n",
       "CA004014913  0.068865  0.067242 -0.087085  0.077272  \n",
       "CA005011080 -0.037200 -0.048276 -0.027019  0.123875  \n",
       "CA004012485  0.109229  0.103034  0.053905  0.047253  \n",
       "CA005010760 -0.032053 -0.098141 -0.071421  0.055561  "
      ]
     },
     "execution_count": 61,
     "metadata": {},
     "output_type": "execute_result"
    }
   ],
   "source": [
    "Eig['station']=Res_eig['stations']\n",
    "Eig=Eig.set_index('station')\n",
    "print Res_eig['stations'][:5]\n",
    "Eig.head()"
   ]
  },
  {
   "cell_type": "code",
   "execution_count": 62,
   "metadata": {
    "collapsed": false,
    "deletable": true,
    "editable": true
   },
   "outputs": [],
   "source": [
    "table=Eig.join(Stations,how='left')"
   ]
  },
  {
   "cell_type": "code",
   "execution_count": 63,
   "metadata": {
    "collapsed": false,
    "deletable": true,
    "editable": true
   },
   "outputs": [
    {
     "data": {
      "text/html": [
       "<div>\n",
       "<table border=\"1\" class=\"dataframe\">\n",
       "  <thead>\n",
       "    <tr style=\"text-align: right;\">\n",
       "      <th></th>\n",
       "      <th>name</th>\n",
       "      <th>latitude</th>\n",
       "      <th>longitude</th>\n",
       "      <th>elevation</th>\n",
       "      <th>0</th>\n",
       "      <th>1</th>\n",
       "      <th>2</th>\n",
       "      <th>3</th>\n",
       "    </tr>\n",
       "    <tr>\n",
       "      <th>station</th>\n",
       "      <th></th>\n",
       "      <th></th>\n",
       "      <th></th>\n",
       "      <th></th>\n",
       "      <th></th>\n",
       "      <th></th>\n",
       "      <th></th>\n",
       "      <th></th>\n",
       "    </tr>\n",
       "  </thead>\n",
       "  <tbody>\n",
       "    <tr>\n",
       "      <th>CA004010080</th>\n",
       "      <td>ALAMEDA CDA EPF</td>\n",
       "      <td>49.25</td>\n",
       "      <td>-102.28</td>\n",
       "      <td>580.0</td>\n",
       "      <td>0.011866</td>\n",
       "      <td>0.022248</td>\n",
       "      <td>-0.060888</td>\n",
       "      <td>0.054217</td>\n",
       "    </tr>\n",
       "    <tr>\n",
       "      <th>CA004014913</th>\n",
       "      <td>MANOR</td>\n",
       "      <td>49.62</td>\n",
       "      <td>-102.10</td>\n",
       "      <td>633.0</td>\n",
       "      <td>-0.129668</td>\n",
       "      <td>-0.013274</td>\n",
       "      <td>0.095793</td>\n",
       "      <td>0.148383</td>\n",
       "    </tr>\n",
       "    <tr>\n",
       "      <th>CA005011080</th>\n",
       "      <td>GOODLANDS CDA EPF</td>\n",
       "      <td>49.13</td>\n",
       "      <td>-100.60</td>\n",
       "      <td>500.0</td>\n",
       "      <td>-0.089174</td>\n",
       "      <td>0.053184</td>\n",
       "      <td>-0.039168</td>\n",
       "      <td>0.104050</td>\n",
       "    </tr>\n",
       "    <tr>\n",
       "      <th>CA004012485</th>\n",
       "      <td>FERTILE</td>\n",
       "      <td>49.33</td>\n",
       "      <td>-101.45</td>\n",
       "      <td>511.0</td>\n",
       "      <td>0.017531</td>\n",
       "      <td>-0.033007</td>\n",
       "      <td>-0.029974</td>\n",
       "      <td>0.011458</td>\n",
       "    </tr>\n",
       "  </tbody>\n",
       "</table>\n",
       "</div>"
      ],
      "text/plain": [
       "                          name  latitude  longitude  elevation         0  \\\n",
       "station                                                                    \n",
       "CA004010080    ALAMEDA CDA EPF     49.25    -102.28      580.0  0.011866   \n",
       "CA004014913              MANOR     49.62    -102.10      633.0 -0.129668   \n",
       "CA005011080  GOODLANDS CDA EPF     49.13    -100.60      500.0 -0.089174   \n",
       "CA004012485            FERTILE     49.33    -101.45      511.0  0.017531   \n",
       "\n",
       "                    1         2         3  \n",
       "station                                    \n",
       "CA004010080  0.022248 -0.060888  0.054217  \n",
       "CA004014913 -0.013274  0.095793  0.148383  \n",
       "CA005011080  0.053184 -0.039168  0.104050  \n",
       "CA004012485 -0.033007 -0.029974  0.011458  "
      ]
     },
     "execution_count": 63,
     "metadata": {},
     "output_type": "execute_result"
    }
   ],
   "source": [
    "table=table[['name','latitude','longitude','elevation',0,1,2,3]]\n",
    "table.head(4)"
   ]
  },
  {
   "cell_type": "code",
   "execution_count": 87,
   "metadata": {
    "collapsed": false
   },
   "outputs": [
    {
     "name": "stderr",
     "output_type": "stream",
     "text": [
      "/usr/local/lib/python2.7/site-packages/ipykernel/__main__.py:1: FutureWarning: sort(columns=....) is deprecated, use sort_values(by=.....)\n",
      "  if __name__ == '__main__':\n"
     ]
    },
    {
     "data": {
      "text/html": [
       "<div>\n",
       "<table border=\"1\" class=\"dataframe\">\n",
       "  <thead>\n",
       "    <tr style=\"text-align: right;\">\n",
       "      <th></th>\n",
       "      <th>name</th>\n",
       "      <th>latitude</th>\n",
       "      <th>longitude</th>\n",
       "      <th>elevation</th>\n",
       "      <th>0</th>\n",
       "      <th>1</th>\n",
       "      <th>2</th>\n",
       "      <th>3</th>\n",
       "    </tr>\n",
       "    <tr>\n",
       "      <th>station</th>\n",
       "      <th></th>\n",
       "      <th></th>\n",
       "      <th></th>\n",
       "      <th></th>\n",
       "      <th></th>\n",
       "      <th></th>\n",
       "      <th></th>\n",
       "      <th></th>\n",
       "    </tr>\n",
       "  </thead>\n",
       "  <tbody>\n",
       "    <tr>\n",
       "      <th>USC00324545</th>\n",
       "      <td>KARLSRUHE 6N</td>\n",
       "      <td>48.1378</td>\n",
       "      <td>-100.5397</td>\n",
       "      <td>451.1</td>\n",
       "      <td>-0.174918</td>\n",
       "      <td>-0.009941</td>\n",
       "      <td>0.140428</td>\n",
       "      <td>0.013831</td>\n",
       "    </tr>\n",
       "    <tr>\n",
       "      <th>USC00324879</th>\n",
       "      <td>LAKE METIGOSHE SP</td>\n",
       "      <td>48.9797</td>\n",
       "      <td>-100.3344</td>\n",
       "      <td>652.9</td>\n",
       "      <td>-0.171453</td>\n",
       "      <td>0.007180</td>\n",
       "      <td>0.148411</td>\n",
       "      <td>-0.020403</td>\n",
       "    </tr>\n",
       "    <tr>\n",
       "      <th>CA005010548</th>\n",
       "      <td>CARBERRY</td>\n",
       "      <td>49.8700</td>\n",
       "      <td>-99.3500</td>\n",
       "      <td>385.0</td>\n",
       "      <td>-0.170263</td>\n",
       "      <td>-0.041850</td>\n",
       "      <td>0.151071</td>\n",
       "      <td>0.040593</td>\n",
       "    </tr>\n",
       "    <tr>\n",
       "      <th>USC00327201</th>\n",
       "      <td>PORTAL</td>\n",
       "      <td>49.0000</td>\n",
       "      <td>-102.5500</td>\n",
       "      <td>595.0</td>\n",
       "      <td>-0.168217</td>\n",
       "      <td>-0.028277</td>\n",
       "      <td>0.164639</td>\n",
       "      <td>0.082865</td>\n",
       "    </tr>\n",
       "    <tr>\n",
       "      <th>USC00328792</th>\n",
       "      <td>TOWNER 2 NE</td>\n",
       "      <td>48.3706</td>\n",
       "      <td>-100.3908</td>\n",
       "      <td>451.1</td>\n",
       "      <td>-0.163728</td>\n",
       "      <td>0.067626</td>\n",
       "      <td>-0.039866</td>\n",
       "      <td>-0.004942</td>\n",
       "    </tr>\n",
       "  </tbody>\n",
       "</table>\n",
       "</div>"
      ],
      "text/plain": [
       "                          name  latitude  longitude  elevation         0  \\\n",
       "station                                                                    \n",
       "USC00324545       KARLSRUHE 6N   48.1378  -100.5397      451.1 -0.174918   \n",
       "USC00324879  LAKE METIGOSHE SP   48.9797  -100.3344      652.9 -0.171453   \n",
       "CA005010548           CARBERRY   49.8700   -99.3500      385.0 -0.170263   \n",
       "USC00327201             PORTAL   49.0000  -102.5500      595.0 -0.168217   \n",
       "USC00328792        TOWNER 2 NE   48.3706  -100.3908      451.1 -0.163728   \n",
       "\n",
       "                    1         2         3  \n",
       "station                                    \n",
       "USC00324545 -0.009941  0.140428  0.013831  \n",
       "USC00324879  0.007180  0.148411 -0.020403  \n",
       "CA005010548 -0.041850  0.151071  0.040593  \n",
       "USC00327201 -0.028277  0.164639  0.082865  \n",
       "USC00328792  0.067626 -0.039866 -0.004942  "
      ]
     },
     "execution_count": 87,
     "metadata": {},
     "output_type": "execute_result"
    }
   ],
   "source": [
    "table_spatial = table.sort([0],ascending=[1]).head(20)\n",
    "table_spatial.head()"
   ]
  },
  {
   "cell_type": "code",
   "execution_count": 81,
   "metadata": {
    "collapsed": false,
    "deletable": true,
    "editable": true,
    "scrolled": true
   },
   "outputs": [],
   "source": [
    "import pylab as plt\n",
    "prop_cycle = plt.rcParams['axes.prop_cycle']\n",
    "colors = prop_cycle.by_key()['color']"
   ]
  },
  {
   "cell_type": "markdown",
   "metadata": {
    "deletable": true,
    "editable": true,
    "run_control": {
     "frozen": false,
     "read_only": false
    }
   },
   "source": [
    "## Map"
   ]
  },
  {
   "cell_type": "code",
   "execution_count": 89,
   "metadata": {
    "code_folding": [
     14
    ],
    "collapsed": false,
    "deletable": true,
    "editable": true
   },
   "outputs": [
    {
     "data": {
      "application/vnd.jupyter.widget-view+json": {
       "model_id": "ed5e5e60a06e479886c090cd0eb95ee7"
      }
     },
     "metadata": {},
     "output_type": "display_data"
    }
   ],
   "source": [
    "min_lat,max_lat,min_long,max_long = box = (48.0475, 49.98, -102.55, -98.9167)\n",
    "center = [(min_lat+max_lat)/2, (min_long+max_long)/2]\n",
    "zoom = 9\n",
    "m = Map(default_tiles=TileLayer(opacity=0.6), center=center, zoom=zoom)\n",
    "r = Rectangle(bounds=[[min_lat,min_long],[max_lat,max_long]], weight=5, fill_opacity=0.0)\n",
    "m += r\n",
    "\n",
    "lat_margin=(max_lat-min_lat)/4\n",
    "long_margin=(max_long-min_long)/4\n",
    "for index,row in table_spatial.iterrows():\n",
    "    _lat=row['latitude']\n",
    "    _long=row['longitude']\n",
    "    for col in range(4):\n",
    "        _coef=row[col]\n",
    "        if np.isnan(_coef):\n",
    "            continue\n",
    "        r=abs(_coef)/5\n",
    "        #print r\n",
    "        #color=colors[col]\n",
    "        signs=[[+1,+1],[+1,-1],[-1,-1],[-1,+1]]\n",
    "        lat_sign,long_sign=signs[col]\n",
    "        triangle=[(_lat,_long),(_lat+lat_sign*r,_long),(_lat,_long+long_sign*r),(_lat,_long)]\n",
    "        if _coef<0:\n",
    "            color = '#F00'\n",
    "            poly= Polygon(locations=triangle, weight=0,\n",
    "                    color=color, opacity=0, fill_opacity=0.7,\n",
    "                    fill_color=color)\n",
    "        else:\n",
    "            color = '#F00'\n",
    "            poly= Polygon(locations=triangle, weight=2,\n",
    "                    color=color, opacity=0.8, fill_opacity=0,\n",
    "                    fill_color=color)\n",
    "        m +=poly   \n",
    "m    "
   ]
  },
  {
   "cell_type": "markdown",
   "metadata": {
    "deletable": true,
    "editable": true,
    "run_control": {
     "frozen": false,
     "read_only": false
    }
   },
   "source": [
    "### excercises:\n",
    "* Add a legend that relates the colors to values.\n",
    "* Leaflet supports a variety of maps. See if you can get a topographical map as the background."
   ]
  },
  {
   "cell_type": "code",
   "execution_count": 23,
   "metadata": {
    "collapsed": false,
    "deletable": true,
    "editable": true,
    "run_control": {
     "frozen": false,
     "read_only": false
    }
   },
   "outputs": [
    {
     "ename": "NameError",
     "evalue": "name 'pdf' is not defined",
     "output_type": "error",
     "traceback": [
      "\u001b[0;31m---------------------------------------------------------------------------\u001b[0m",
      "\u001b[0;31mNameError\u001b[0m                                 Traceback (most recent call last)",
      "\u001b[0;32m<ipython-input-23-2d62ecdfe356>\u001b[0m in \u001b[0;36m<module>\u001b[0;34m()\u001b[0m\n\u001b[1;32m      1\u001b[0m \u001b[0mget_ipython\u001b[0m\u001b[0;34m(\u001b[0m\u001b[0;34m)\u001b[0m\u001b[0;34m.\u001b[0m\u001b[0mmagic\u001b[0m\u001b[0;34m(\u001b[0m\u001b[0;34mu'matplotlib inline'\u001b[0m\u001b[0;34m)\u001b[0m\u001b[0;34m\u001b[0m\u001b[0m\n\u001b[0;32m----> 2\u001b[0;31m \u001b[0mpdf\u001b[0m\u001b[0;34m.\u001b[0m\u001b[0mplot\u001b[0m\u001b[0;34m.\u001b[0m\u001b[0mscatter\u001b[0m\u001b[0;34m(\u001b[0m\u001b[0mx\u001b[0m\u001b[0;34m=\u001b[0m\u001b[0;34m'elevation'\u001b[0m\u001b[0;34m,\u001b[0m\u001b[0my\u001b[0m\u001b[0;34m=\u001b[0m\u001b[0;34m'avg(coeff_1)'\u001b[0m\u001b[0;34m)\u001b[0m\u001b[0;34m;\u001b[0m\u001b[0;34m\u001b[0m\u001b[0m\n\u001b[0m",
      "\u001b[0;31mNameError\u001b[0m: name 'pdf' is not defined"
     ]
    }
   ],
   "source": [
    "%matplotlib inline\n",
    "pdf.plot.scatter(x='elevation',y='avg(coeff_1)');"
   ]
  },
  {
   "cell_type": "code",
   "execution_count": null,
   "metadata": {
    "collapsed": true,
    "deletable": true,
    "editable": true
   },
   "outputs": [],
   "source": []
  }
 ],
 "metadata": {
  "anaconda-cloud": {},
  "hide_input": false,
  "kernelspec": {
   "display_name": "Python 2",
   "language": "python",
   "name": "python2"
  },
  "language_info": {
   "codemirror_mode": {
    "name": "ipython",
    "version": 2
   },
   "file_extension": ".py",
   "mimetype": "text/x-python",
   "name": "python",
   "nbconvert_exporter": "python",
   "pygments_lexer": "ipython2",
   "version": "2.7.12"
  },
  "toc": {
   "colors": {
    "hover_highlight": "#DAA520",
    "running_highlight": "#FF0000",
    "selected_highlight": "#FFD700"
   },
   "moveMenuLeft": true,
   "nav_menu": {
    "height": "174px",
    "width": "252px"
   },
   "navigate_menu": true,
   "number_sections": true,
   "sideBar": true,
   "threshold": 4,
   "toc_cell": false,
   "toc_section_display": "block",
   "toc_window_display": false
  },
  "widgets": {
   "state": {},
   "version": "1.0.0"
  }
 },
 "nbformat": 4,
 "nbformat_minor": 1
}
