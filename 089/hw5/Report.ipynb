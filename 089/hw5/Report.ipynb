{
 "cells": [
  {
   "cell_type": "markdown",
   "metadata": {},
   "source": [
    "# North Eastern Minnessotta and North western Ontario Weather Analysis"
   ]
  },
  {
   "cell_type": "markdown",
   "metadata": {},
   "source": [
    "In this report, we perform analysis on the historical weather data of north eastern parts of Minnessotta and some parts of Canada. we analysed various components in weather data and found that most observations were present for few stations or years which were inconclusive for data analysis. Hence, we analysed 6 six major components: TMIN, TMAX, PRCP, SNOW, SNWD, and TOBS. \n",
    "\n",
    "<p><img src=\"hw_figures/minnesota.png\" style=\"height:400px; width:400px\" \n",
    "/></p>"
   ]
  },
  {
   "cell_type": "markdown",
   "metadata": {},
   "source": [
    "# Sanity-check: comparison with outside sources\n",
    "## Hottest and coldest regions\n",
    "\n",
    "We started our data analysis, by performing a sanity check on the data. For this We plotted a heat map of our region to find the hottest and the coldest stations. \n",
    "<p><img src=\"hw_figures/use/heat_map_top.png\" style=\"height:300px;\" \n",
    "/></p>\n",
    "\n",
    "We found that Big Falls is the hottest station with temperature index 406 while Saint Louis is the coldest station with temperature index -183. We then compare the weather conditions of these stations online for sanity check as shown below.\n",
    "<p><img src=\"hw_figures/use/sanity_hot_cold.png\" style=\"height:300px;\" \n",
    "/></p>\n",
    "\n",
    "We found that our results are in harmony with what we obtained online with Big Falls being a hot station with maximum average temperature of 24C and St. Louis being the coldest station with -40C."
   ]
  },
  {
   "cell_type": "markdown",
   "metadata": {},
   "source": [
    "# Data visualization\n",
    "\n",
    "## Distributions of parameters\n",
    "We then plotted the distribution of TMAX and TMIN in our region. Both of these distributions have 2 gaussian distributions. TMAX peaks at 0 and 250 while TMIN peaks at 0 and 100. TMAX goes to the maximum of 406 while TMIN goes to the minimum of -186. This shows that our region is a combination of 2 soft weather cluster regions.  <p><img src=\"hw_figures/use/temp_distribution.png\" style=\"height:300px;\" /></p>\n",
    "\n",
    "We plotted the distribution of PRCP, SNOW. PRCP plot follows a hyperbolic curve while the SNOW plot is quite sporadic. PRCP distribution is smoother showing consistent precipitation and goes as high as 700, while the snowfall curve is sporadic with more variance. <p><img src=\"hw_figures/use/distribution_prcp_snow.png\" style=\"height:300px;\" /></p>\n",
    "\n",
    "We also plotted the distribution of SNWD. Snow depth distribution is mixture of gaussians with multiple normalizations. This again reaffirms that our region consists of areas of varied weather and exist in soft clusters. <p><img src=\"hw_figures/use/distribution_snwd.png\" style=\"height:300px;\" /></p>"
   ]
  },
  {
   "cell_type": "markdown",
   "metadata": {},
   "source": [
    "## Change by years and stations\n",
    "\n",
    "We plotted PRCP, TMAX and SNWD across 6 years for one popular station which had good observations for all parameters.  \n",
    "<p><img src=\"hw_figures/use/years.jpeg\"  /></p>\n",
    "\n",
    "We also plotted these parameters across 6 top stations.\n",
    "<p><img src=\"hw_figures/use/stations.jpg\"  /></p>\n",
    "\n",
    "We found that all the 3 parameters varied more across stations than across years i.e. the parameters are more consistent across years for a particular station than across stations."
   ]
  },
  {
   "cell_type": "markdown",
   "metadata": {},
   "source": [
    "## Valid Counts of parameters\n",
    "\n",
    "We then visualized the valid counts for each of the 6 parameters. \n",
    "<p><img src=\"hw_figures/use/valid.png\" style=\"height:500px; width:800px\" /></p>"
   ]
  },
  {
   "cell_type": "markdown",
   "metadata": {},
   "source": [
    "We found that the valid counts dipped for all temperature paramters TMAX, TMIN and TOBS around Jan and July. .  While for snow there is a dip in valid counts for winter months Jan to April, which might because of the difficulty to record these parameters in winter. For precipitation however, we see a huge dip around March, June and July for a very short period and another around Jan. Also, the data seems very erratic for precipitation with sharp increase and decrease in the valid counts.\n",
    "\n",
    "There seems a consistent dip of valid counts in january for all the parameters, which might be because of harsh conditions during that month that makes it difficult to record any of these parameters."
   ]
  },
  {
   "cell_type": "markdown",
   "metadata": {},
   "source": [
    "## Statistical analysis\n",
    "<p><img src=\"hw_figures/use/mean.jpeg\" style=\"height:500px; width:800px\" /></p>"
   ]
  },
  {
   "cell_type": "markdown",
   "metadata": {},
   "source": [
    "In the statistical analysis, we first plotted the mean of all the parameters with plus and minus standard deviation to see the variance in the data. We found that for parameters TMIN, TMAX and TOBS there is a huge variance since the curves are not smooth. The same is the case for PRCP and SNOW. FOr PRCP there is a huge vaiance from mean during July which shows that our region is diverse containing both the places with huge and very less precipitation. For SNOW, May to October is summer as can be seen with all the 3 plots converrging, while there is huge variance around January which are the peak times for snowfall. \n",
    "\n",
    "The SNWD plot is the smoothest out of all the plots since this captures the cumulative snow in a region. This makes it robust to small fluctuations of weather and reducing its variance."
   ]
  },
  {
   "cell_type": "markdown",
   "metadata": {},
   "source": [
    "## PCA analysis\n",
    "\n",
    "We then performed the PCA analysis for all the parameters and captured the top 3 eigen vectors for each parameter. We found that due to the highly sporadic nature of SNOW, PRCP, they were the most difficult to be captured in lesser eigen vectors. For temperature too, the sporadicity is quite high which makes it difficult to be captured in small eigen vectors. While SNWD which follows a smoother plot seemed a much better candidate which could be explained in small number of eigen vectors.\n",
    "### Top 3 eigen vectors \n",
    "<p><img src=\"hw_figures/use/eigen.jpeg\" style=\"height:600px; width:600px\" /></p>"
   ]
  },
  {
   "cell_type": "markdown",
   "metadata": {},
   "source": [
    "### Percentage of variance explained\n",
    "We then plotted the percentage of variance explained vs number of eigen vectors. \n",
    "<p><img src=\"hw_figures/use/percent.jpeg\" style=\"width:800px\" /></p>"
   ]
  },
  {
   "cell_type": "markdown",
   "metadata": {},
   "source": [
    "Our analysis of these plots showed that for SNOW and PRCP, 5 eigen vectors combined could capture only 12% and 7% of the variance respectively. This confirms our hypothesis based on the sporadicity of these parameters. \n",
    "\n",
    "Similarly for temperature, 5 eigen vectors combined could capture only 10-25 % of the variance. We also make an interesting observation for TMIN, where the variance explained decreases as we add the second eigen vector. This can be due to highly correlated data leading to a negative eigen value. Hence, adding 2 eigen vectors decreased the percent of variance explained. For TOBS, however, the first eigen vector explains ~18% of the variance while next 4 eigen vectors could only explain 10% further variance. This shows that as the number of eigen vectors is increased, the percentage of variance explained is increasing on the whole but at a slower pace.\n",
    "\n",
    "While for SNWD, only 1 eigen vector could explain approximately 60% of the data which shows that very few eigen vectors could explain the variance in the data. We perform further analysis on the eigen vectors below to figure out what they refer to for PRCP and SNWD."
   ]
  },
  {
   "cell_type": "markdown",
   "metadata": {},
   "source": [
    "## Eigen vector explained: SNWD\n",
    "We performed various analysis on the SNWD eigen vectors to figure out what they refer to and how they affected SNWD.\n",
    "<p><img src=\"hw_figures/use/var_snwd.jpeg\" style=\"height:200px;\"  /></p>"
   ]
  },
  {
   "cell_type": "markdown",
   "metadata": {},
   "source": [
    "### Coefficients analysis\n",
    "\n",
    "We plotted the mean of snow depth and the top 3 eigen vectors to figure out what is captured by the eigen vectors. We found that the first eigen vector is very closely following the mean which shows that is captures the volume of snow.\n",
    "<p><img src=\"hw_figures/use/snwd_mean.png\"  style=\"height:200px;width:300px\"/></p>\n",
    "\n",
    "We now analyse the various coefficients by using an interactive plot and watching how the prediction of the curve approaches the target curve as the various coefficients are changed.\n",
    "\n"
   ]
  },
  {
   "cell_type": "markdown",
   "metadata": {},
   "source": [
    "### Coefficient 1: Volume of snow\n",
    "<p><img src=\"hw_figures/use/coef1_snwd.png\"  style=\"height:400px;\"/></p>\n",
    "We found that the first coefficient explained the volume of thw snow in the region. This can be clearly seen by the interactive plot above. As we increase the value of this coefficient, the overall plot rises to captures the volume of snow in the region.\n",
    "\n",
    "<p><img src=\"hw_figures/use/c1_a.png\"  style=\"height:400px;width:600px\"/></p>\n",
    "<p><img src=\"hw_figures/use/c1_d.png\"  style=\"height:400px;width:600px\"/></p>\n",
    "Above are the plots for very high and low values of coefficient1. Large value of coefficient 1 corresponds to more than average snow and vice versa."
   ]
  },
  {
   "cell_type": "markdown",
   "metadata": {},
   "source": [
    "\n",
    "### Coefficient 2: spikes in snowfall\n",
    "<p><img src=\"hw_figures/use/c2_exp.png\"  style=\"height:400px;\"/></p>\n",
    "We found that the second coefficient captured the spikes in the snowfall i.e. rate of change of snow. There are many spikes in the snowfall data, and we found that this coefficient captured the shape of the curve. This is quite evident from the plot above.\n",
    "\n",
    "\n",
    "<p><img src=\"hw_figures/use/c2_snwd_a.png\"  style=\"height:600px; width:600px\"/></p>\n",
    "<p><img src=\"hw_figures/use/coeff_2_snwd.png\"  style=\"height:600px; width:600px\"/></p>\n",
    "Above are the plots for very high and low values of coefficient2. We found that in first plot the values of coefficient2 is very low and it is able to capture most of the spikes, while in the second plot the \n",
    "values of coefficient is very high but most of the high peaks are not being captured by this coefficient.\n",
    "\n",
    "### Coefficient3 : start of snow season\n",
    "<p><img src=\"hw_figures/use/c3_exp.png\"  style=\"height:400px;\"/></p>\n",
    "The third coefficient explained the start of the snow season. This is quite evident from the plot above. As the coefficient 3 increases, the plot tries to capture the snow season. So, this coefficient captures the  delay/lateness of the snow season.\n",
    "\n",
    "Below are the plots for coefficient 3 sorted in ascending order. \n",
    "<p><img src=\"hw_figures/use/c3_snwd_a.png\"  style=\"height:700px; width:500px\"/></p>\n",
    "\n",
    "Below are the plots for coefficient 3 sorted in descending order. \n",
    "<p><img src=\"hw_figures/use/c3_snwd_d.png\"  style=\"height:700px; width:500px\"/></p>\n",
    "As can be seen from the plots above, for the very negative values of coefficient 3, the snow is late and for high values of coefficeint 3, snow is early.\n"
   ]
  },
  {
   "cell_type": "markdown",
   "metadata": {},
   "source": [
    "\n",
    "### Cumulative distribution of residual and coefficients\n",
    "The plot below captures the cumulative residual and coefficients with the number of instances. We found that coeff1 and coeff2 is mostly positive and has a high value. While coeff3's values is evenly distributed about 0. \n",
    "\n",
    "Residual error decreases as the number of eigen vectors are increased but the rate of decrease of residual error decreases.\n"
   ]
  },
  {
   "cell_type": "markdown",
   "metadata": {},
   "source": [
    "\n",
    "<p><img src=\"hw_figures/use/res_snwd.png\"  style=\"height:400px;\"/></p>"
   ]
  },
  {
   "cell_type": "markdown",
   "metadata": {},
   "source": [
    "## Analyze whether SNWD varies more from year to year or from place to place.\n",
    "To estimate the effect of time vs. location on the all the eigen vectors coefficient we compute total RMS, RMS after subtracting mean-by-station and  RMS after subtracting mean-by-year.\n",
    "\n",
    "### Coeff 1\n",
    "total RMS                   =  750.23614434\n",
    "RMS removing mean-by-station=  732.635844818\n",
    "RMS removing mean-by-year   =  396.294511574\n",
    "\n",
    "\n",
    "### Coeff2\n",
    "total RMS                   =  1607.08350635\n",
    "RMS removing mean-by-station=  1475.61439358\n",
    "RMS removing mean-by-year   =  852.75670797\n",
    "\n",
    "\n",
    "### Coeff3\n",
    "total RMS                   =  710.360614167\n",
    "RMS removing mean-by-station=  672.647841391\n",
    "RMS removing mean-by-year   =  457.688315369\n",
    "\n",
    "In SNWD, RMS decreased more by removing mean-by-year.This shows, the variance was more due to years than stations for each of the 3 coefficients. That is most of the stations are similar in terms of snow depth but differ more by year."
   ]
  },
  {
   "cell_type": "markdown",
   "metadata": {
    "collapsed": true
   },
   "source": [
    "## Analyse the effect of elevation on SNWD\n",
    "To analyse the effect of elevation on SNWD, we plotted the top 3 eigen vector coefficients with the elevation. We also plotted the stations on map with the color of the stations corresponding to the value of the coefficient.\n",
    "\n",
    "### coefficient1\n",
    "\n",
    "<p><img src=\"hw_figures/use/snwd_c1_e.png\"  style=\"height:500px;\"/></p>\n",
    "\n",
    "We found that there is not much change of elevation in the entire region i.e. its only from 320 to 480. Coefficient 1 signifies the volume of snow, hence plot reflects that there is similar snow volume at all elevations.\n",
    "\n",
    "### coefficient2\n",
    "<p><img src=\"hw_figures/use/snwd_c2_e.png\"  style=\"height:500px; \"/></p>\n",
    "\n",
    "The value of coeff2 is negative and scattered for all elevations. coefficient 2 signifies spikes in the snowfall. Hence, the sudden spikes in snowfall are also similar in at all elevations.\n",
    "\n",
    "### coefficient3\n",
    "<p><img src=\"hw_figures/use/snwd_c3_e.png\"  style=\"height:500px;\"/></p>\n",
    "\n",
    "The coeff 3's plot is very similar to coeff1 plot. This shows that the change of coefficient 3 with respect to elevation is similar to how coefficient 2 changes. coefficient 3 signifies lateness of snow. Hence, the delay of snowfall is also the similar at all elevations i.e. elevation does not effect lateness of snow.\n",
    "\n",
    "All the plots are scattered in all directions, showing no particular preference to elevation for the snow depth, i.e. the snow depth is similar at all elevations."
   ]
  },
  {
   "cell_type": "markdown",
   "metadata": {},
   "source": [
    "## PRCP analysis\n",
    "We then analysed the precipitation eigen vectors. We first plotted the number of eigen vectors vs percentage of explained variance. We found that it took almost 10 eigen vectors to explain 12% variance, 50 eigen vectors to explain 50% variance and 100 eigen vectors to explain 70% variance. This shows that the rate of increase of explained variance is decreasing with number of eigen vectors increase.\n",
    "\n",
    "<p><img src=\"hw_figures/use/exp_var_prcp.png\"  style=\"height:600px; width:600px\"/></p> \n",
    "\n",
    "We plotted the mean of PRCP and the top 3 eigen vectors. We found that all the eigen vectors are varying with with the mean trying to capture it. \n",
    "<p><img src=\"hw_figures/use/mean_prcp.png\" style=\"height:200px; width:300px\"/></p> \n",
    "\n",
    "We also calculated the vectors for which mean is a worse approximation and found that there were only 10 vectors for which that was true. This showed that mean was a better approximation for most of other vectors.\n",
    "\n",
    "<p><img src=\"hw_figures/use/filter_mean_prcp.png\"  style=\"height:100px; width:400px\"/></p>"
   ]
  },
  {
   "cell_type": "markdown",
   "metadata": {},
   "source": [
    "### Coefficient1 : Density of precipitation\n",
    "Eigen vector1 captures Density of rainfall:\n",
    "\n",
    "If the rainfall is sporadic, the coeff1 is very positive and it is not able to capture the sporadicy. It is capturing the density of precipitation as can be seen from the plots below.\n",
    "\n",
    "In the plots below, we sorted the stations by ascending order of first eigen vector coefficient. We then took 12 top curves to analyse the precipitation changes. We found that the plots had very sporadic precitation which was very difficult to be captured by precipitation.\n",
    "<p><img src=\"hw_figures/use/prcp_c1.png\" style=\"height:400px; width:700px\"/></p>\n",
    "\n",
    "We then sorted the plots by descending order of coefficient1 and got curves with dense precipitation which was better captured by this coefficient. Every eigen vector is increasing and reaches the maximum in the middle and then decreases, though the overall increase is very less as compared to the mean.\n",
    "<p><img src=\"hw_figures/use/prcp_c1_desc.png\"  style=\"height:400px; width:700px\"/></p>\n",
    "\n",
    "\n",
    "### Coefficient2: Peaks of precipitation\n",
    "We tried to analyse what eigen vector 2 captures and found that it was trying to capture the peaks of precipitation. \n",
    "In the plots below, we sorted the stations by ascending order of second eigen vector coefficient. We then took 12 top curves to analyse the precipitation changes. We found that the when the coeff2 is low, its better able to capture the peaks in precipitation.\n",
    "<p><img src=\"hw_figures/use/prcp_c2_a.png\"  style=\"height:400px; width:700px\"/></p>\n",
    "\n",
    "In the plots below, we sorted the stations by descending order of second eigen vector coefficient. We then took 12 top curves to analyse the precipitation changes. We found that when the coeff2 is high, its unable able to capture the peaks in precipitation.\n",
    "<p><img src=\"hw_figures/use/prcp_c2_d.png\"  style=\"height:400px; width:700px\"/></p>\n"
   ]
  },
  {
   "cell_type": "markdown",
   "metadata": {},
   "source": [
    "## Residual analysis\n",
    "\n",
    "### Distribution of residual after 3 eigen vectors\n",
    "Plotting the cumulative residual error with the number of instances, we found that the error does not decrease in most of the instances which is also in sync with the analysis above. Since, the a few eigen vectors are unable to explain the variance in the data.\n",
    "<p><img src=\"hw_figures/use/res_prcp.png\"  style=\"height:200px; width:300px\"/></p>"
   ]
  },
  {
   "cell_type": "markdown",
   "metadata": {},
   "source": [
    "#### Cummulative probability and daily rain \n",
    "Since, precipitation is very sporadic, its really hard to compare two stations rainfall by the exact day on which it rained or by the amount of precipitations on if it rained the same day. As we see from the graph below, in our region it rains in about one third of the days.\n",
    "<p><img src=\"hw_figures/use/rain_daily.png\" /></p>\n",
    "\n",
    "### Measuring statistical significance\n",
    "We want to find a statistical test for rejecting the null hypothesis that says that the rainfall in the two locations is independent. We compute the number of days it rained in both the stations and then we compute the probability associated with the number of overlaps under the null hypothesis.\n",
    "There are 94 unique stations in our region, for each of the pair of 2 stations, we calculate negative log probability or P-norm. The hypothesis that the stations are correlated is captured by the significance parameter. A plot of the significance curve with respect to the number of instances is shown below. The plot shows that for most station pairs significance value is 0. As the significance increases, the pairs of stations for which the significance holds decreases. The plot shows that most of the stations are independent in their rainfall.\n",
    "\n",
    "<p><img src=\"hw_figures/use/significance_pval.png\" /></p>\n",
    "\n",
    "To further find the correlation of the stations, we plotted the P-norm confusion matrix for all the stations. For our region, we found that there is moderate correlation as shown by 2 rectangular blocks. one in the upper left and one in the bottom right. Though overall, there is no strong correlations in the stations.\n",
    "\n",
    "<p><img src=\"hw_figures/use/conf.png\"  style=\"height:350px; width:400px\" /></p>\n",
    "\n",
    "For better analysing the similarity among the stations, we performed Singular Value Decomposition(SVD) of the P-Norm square matrix to decompose it in two matrices of size 94 x10 and 10x94. We then use these matrices to find sort the stations according to the 10 latent factors identified by SVD. \n",
    "The plot below shows the top 4 eigen vectors identified.\n",
    "\n",
    "<p><img src=\"hw_figures/use/e_prcp.png\"  style=\"height:200px; width:700px\" /></p>\n",
    "\n",
    "We then drew 4 confusion matrices for top over latent factors identified by SVD as shown in the plot below. we found that for the first factor, the upper left 15-20 stations were strongly correlated and so were the bottom right 10-12 stations. For the second factor too, we found that upper left 5-10 stations were strongly correlated and so were the bottom right 5-10 stations. Though the correlation found was lesser as compared to the first factor. For the third and fourth factor, no strong correlations were found. Though there were a cluster of 4-5 stations in the bottom right which were strongly correlated.\n",
    "\n",
    "\n",
    "<p><img src=\"hw_figures/use/cor.png\"  style=\"height:500px; width:700px\" /></p>\n",
    "\n",
    "We also plotted the most correlated stations on the map as shown below. We found that some of the correlated stations existed in clusters but not all of them were close by spatially.\n",
    "\n",
    "<p><img src=\"hw_figures/use/prcp_similar_map_cor.png\"  style=\"height:400px; width:700px\"/></p>"
   ]
  },
  {
   "cell_type": "markdown",
   "metadata": {},
   "source": [
    "### Are the coefficients of PRCP similar for similar stations?\n",
    "\n",
    "We also plotted the coefficients of top 4 eigen vectors of PRCP on the map according to the value and sign of the  coefficients. The value of the coefficients determine the size of the triangles while the opacity is determined by the sign. \n",
    "\n",
    "We found that while the nearby stations, do have one of the coefficients as similar, no general inference can be drawn about how similar the regions are in terms of precipitation.\n",
    "<p><img src=\"hw_figures/use/prcp_v.png\"  /></p>"
   ]
  },
  {
   "cell_type": "markdown",
   "metadata": {},
   "source": [
    "## Analyze whether PRCP varies more from year to year or from place to place.\n",
    "We performed a similar analysis for PRCP and got the following results.\n",
    "\n",
    "### coeff1\n",
    "total RMS                   =  127.972541623\n",
    "RMS removing mean-by-station=  126.859158306\n",
    "RMS removing mean-by-year   =  69.2308087696\n",
    "\n",
    "### coeff2\n",
    "total RMS                   =  124.694057227\n",
    "RMS removing mean-by-station=  123.011805153\n",
    "RMS removing mean-by-year   =  64.3647659797\n",
    "\n",
    "### coeff3\n",
    "total RMS                   =  121.713554654\n",
    "RMS removing mean-by-station=  120.772745873\n",
    "RMS removing mean-by-year   =  70.4721098779\n",
    "\n",
    "\n",
    "In PRCP too, RMS decreased more by removing mean-by-year.This shows, the variance was more due to years than stations for each of the 3 coefficients. That is most of the stations are similar in terms of precipitation but differ more by year."
   ]
  },
  {
   "cell_type": "code",
   "execution_count": null,
   "metadata": {
    "collapsed": true
   },
   "outputs": [],
   "source": []
  }
 ],
 "metadata": {
  "kernelspec": {
   "display_name": "Python 2",
   "language": "python",
   "name": "python2"
  },
  "language_info": {
   "codemirror_mode": {
    "name": "ipython",
    "version": 2
   },
   "file_extension": ".py",
   "mimetype": "text/x-python",
   "name": "python",
   "nbconvert_exporter": "python",
   "pygments_lexer": "ipython2",
   "version": "2.7.13"
  }
 },
 "nbformat": 4,
 "nbformat_minor": 2
}
