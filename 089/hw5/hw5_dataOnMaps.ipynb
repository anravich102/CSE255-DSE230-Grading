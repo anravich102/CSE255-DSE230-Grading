{
 "cells": [
  {
   "cell_type": "markdown",
   "metadata": {
    "run_control": {
     "frozen": false,
     "read_only": false
    }
   },
   "source": [
    "## iPyLeaflet\n",
    "[ipyleaflet](https://github.com/ellisonbg/ipyleaflet) is a bridge between jupyter notebooks and the [leaflet](http://leafletjs.com/)  javascript library for drawing maps.\n",
    "\n",
    "ipyleaflet comes with a few examples notebooks (this notebook was derived from one) but very little documentation,\n",
    "for more documentation read the [Leaflet IPA](http://leafletjs.com/reference.html)\n",
    "\n",
    "For installation directions, see the README on [ipyleaflet](https://github.com/ellisonbg/ipyleaflet)\n",
    "\n",
    "[GeoJson](https://tools.ietf.org/html/rfc7946#section-3.1.7) is a good way to add data on top of an ipyleaflet map.\n",
    "\n",
    "For other backgrounds than open streets, you can alter the ipyleaflet.py file to point to one of [these map providers](https://leaflet-extras.github.io/leaflet-providers/preview/)"
   ]
  },
  {
   "cell_type": "code",
   "execution_count": 1,
   "metadata": {},
   "outputs": [
    {
     "name": "stderr",
     "output_type": "stream",
     "text": [
      "Enabling notebook extension jupyter-js-widgets/extension...\n",
      "      - Validating: \u001b[32mOK\u001b[0m\n"
     ]
    }
   ],
   "source": [
    "%%sh\n",
    "jupyter nbextension enable --py --sys-prefix widgetsnbextension"
   ]
  },
  {
   "cell_type": "code",
   "execution_count": 2,
   "metadata": {
    "collapsed": true,
    "run_control": {
     "frozen": false,
     "read_only": false
    }
   },
   "outputs": [],
   "source": [
    "from ipyleaflet import (\n",
    "    Map,\n",
    "    Marker,\n",
    "    TileLayer, ImageOverlay,\n",
    "    Polyline, Polygon, Rectangle, Circle, CircleMarker,\n",
    "    GeoJSON,\n",
    "    DrawControl\n",
    ")"
   ]
  },
  {
   "cell_type": "markdown",
   "metadata": {
    "run_control": {
     "frozen": false,
     "read_only": false
    }
   },
   "source": [
    "## Visualizing the distribution of the observations\n",
    "\n",
    "## Load the required libraries"
   ]
  },
  {
   "cell_type": "code",
   "execution_count": 3,
   "metadata": {
    "collapsed": true,
    "run_control": {
     "frozen": false,
     "read_only": false
    }
   },
   "outputs": [],
   "source": [
    "import pandas as pd\n",
    "import numpy as np\n",
    "import sklearn as sk\n",
    "import urllib\n",
    "import math\n",
    "import pylab as plt\n",
    "\n",
    "import sys\n",
    "sys.path.append('./lib')\n",
    "\n",
    "from leaflet import *"
   ]
  },
  {
   "cell_type": "code",
   "execution_count": 4,
   "metadata": {},
   "outputs": [
    {
     "name": "stdout",
     "output_type": "stream",
     "text": [
      "['eigen-vecs', 'stations']\n"
     ]
    },
    {
     "data": {
      "text/html": [
       "<div>\n",
       "<table border=\"1\" class=\"dataframe\">\n",
       "  <thead>\n",
       "    <tr style=\"text-align: right;\">\n",
       "      <th></th>\n",
       "      <th>latitude</th>\n",
       "      <th>longitude</th>\n",
       "      <th>elevation</th>\n",
       "      <th>state</th>\n",
       "      <th>name</th>\n",
       "      <th>GSNFLAG</th>\n",
       "      <th>HCNFLAG</th>\n",
       "      <th>WMOID</th>\n",
       "    </tr>\n",
       "  </thead>\n",
       "  <tbody>\n",
       "    <tr>\n",
       "      <th>ACW00011604</th>\n",
       "      <td>17.1167</td>\n",
       "      <td>-61.7833</td>\n",
       "      <td>10.1</td>\n",
       "      <td>NaN</td>\n",
       "      <td>ST JOHNS COOLIDGE FLD</td>\n",
       "      <td>NaN</td>\n",
       "      <td>NaN</td>\n",
       "      <td>NaN</td>\n",
       "    </tr>\n",
       "    <tr>\n",
       "      <th>ACW00011647</th>\n",
       "      <td>17.1333</td>\n",
       "      <td>-61.7833</td>\n",
       "      <td>19.2</td>\n",
       "      <td>NaN</td>\n",
       "      <td>ST JOHNS</td>\n",
       "      <td>NaN</td>\n",
       "      <td>NaN</td>\n",
       "      <td>NaN</td>\n",
       "    </tr>\n",
       "    <tr>\n",
       "      <th>AE000041196</th>\n",
       "      <td>25.3330</td>\n",
       "      <td>55.5170</td>\n",
       "      <td>34.0</td>\n",
       "      <td>NaN</td>\n",
       "      <td>SHARJAH INTER. AIRP</td>\n",
       "      <td>GSN</td>\n",
       "      <td>NaN</td>\n",
       "      <td>41196.0</td>\n",
       "    </tr>\n",
       "    <tr>\n",
       "      <th>AF000040930</th>\n",
       "      <td>35.3170</td>\n",
       "      <td>69.0170</td>\n",
       "      <td>3366.0</td>\n",
       "      <td>NaN</td>\n",
       "      <td>NORTH-SALANG</td>\n",
       "      <td>GSN</td>\n",
       "      <td>NaN</td>\n",
       "      <td>40930.0</td>\n",
       "    </tr>\n",
       "    <tr>\n",
       "      <th>AG000060390</th>\n",
       "      <td>36.7167</td>\n",
       "      <td>3.2500</td>\n",
       "      <td>24.0</td>\n",
       "      <td>NaN</td>\n",
       "      <td>ALGER-DAR EL BEIDA</td>\n",
       "      <td>GSN</td>\n",
       "      <td>NaN</td>\n",
       "      <td>60390.0</td>\n",
       "    </tr>\n",
       "  </tbody>\n",
       "</table>\n",
       "</div>"
      ],
      "text/plain": [
       "             latitude  longitude  elevation state                   name  \\\n",
       "ACW00011604   17.1167   -61.7833       10.1   NaN  ST JOHNS COOLIDGE FLD   \n",
       "ACW00011647   17.1333   -61.7833       19.2   NaN               ST JOHNS   \n",
       "AE000041196   25.3330    55.5170       34.0   NaN    SHARJAH INTER. AIRP   \n",
       "AF000040930   35.3170    69.0170     3366.0   NaN           NORTH-SALANG   \n",
       "AG000060390   36.7167     3.2500       24.0   NaN     ALGER-DAR EL BEIDA   \n",
       "\n",
       "            GSNFLAG HCNFLAG    WMOID  \n",
       "ACW00011604     NaN     NaN      NaN  \n",
       "ACW00011647     NaN     NaN      NaN  \n",
       "AE000041196     GSN     NaN  41196.0  \n",
       "AF000040930     GSN     NaN  40930.0  \n",
       "AG000060390     GSN     NaN  60390.0  "
      ]
     },
     "execution_count": 4,
     "metadata": {},
     "output_type": "execute_result"
    }
   ],
   "source": [
    "data_dir = \"../../Data/Weather/\"\n",
    "from pickle import load\n",
    "with open(data_dir+'PRCP_residuals_PCA.pickle','rb') as file:\n",
    "    Res_eig=load(file)\n",
    "print Res_eig.keys()\n",
    "\n",
    "#stations.pkl\n",
    "with open(data_dir+'/stations.pkl','rb') as file:\n",
    "    Stations=load(file)\n",
    "Stations.head()\n"
   ]
  },
  {
   "cell_type": "code",
   "execution_count": 7,
   "metadata": {},
   "outputs": [
    {
     "data": {
      "text/html": [
       "<div>\n",
       "<table border=\"1\" class=\"dataframe\">\n",
       "  <thead>\n",
       "    <tr style=\"text-align: right;\">\n",
       "      <th></th>\n",
       "      <th>0</th>\n",
       "      <th>1</th>\n",
       "      <th>2</th>\n",
       "      <th>3</th>\n",
       "      <th>4</th>\n",
       "      <th>5</th>\n",
       "      <th>6</th>\n",
       "      <th>7</th>\n",
       "      <th>8</th>\n",
       "      <th>9</th>\n",
       "    </tr>\n",
       "  </thead>\n",
       "  <tbody>\n",
       "    <tr>\n",
       "      <th>0</th>\n",
       "      <td>0.162368</td>\n",
       "      <td>0.076959</td>\n",
       "      <td>0.204390</td>\n",
       "      <td>0.140719</td>\n",
       "      <td>-0.014264</td>\n",
       "      <td>0.094559</td>\n",
       "      <td>-0.091944</td>\n",
       "      <td>-0.010074</td>\n",
       "      <td>0.093533</td>\n",
       "      <td>-0.021663</td>\n",
       "    </tr>\n",
       "    <tr>\n",
       "      <th>1</th>\n",
       "      <td>0.090544</td>\n",
       "      <td>0.061001</td>\n",
       "      <td>0.118172</td>\n",
       "      <td>0.081593</td>\n",
       "      <td>-0.032196</td>\n",
       "      <td>0.031714</td>\n",
       "      <td>0.136038</td>\n",
       "      <td>0.024434</td>\n",
       "      <td>0.114184</td>\n",
       "      <td>-0.018156</td>\n",
       "    </tr>\n",
       "    <tr>\n",
       "      <th>2</th>\n",
       "      <td>0.108774</td>\n",
       "      <td>0.071901</td>\n",
       "      <td>0.138465</td>\n",
       "      <td>0.105755</td>\n",
       "      <td>-0.039166</td>\n",
       "      <td>0.038560</td>\n",
       "      <td>0.153961</td>\n",
       "      <td>0.025811</td>\n",
       "      <td>0.109915</td>\n",
       "      <td>-0.012207</td>\n",
       "    </tr>\n",
       "    <tr>\n",
       "      <th>3</th>\n",
       "      <td>-0.018281</td>\n",
       "      <td>0.087462</td>\n",
       "      <td>-0.066485</td>\n",
       "      <td>-0.050897</td>\n",
       "      <td>0.146314</td>\n",
       "      <td>0.108947</td>\n",
       "      <td>0.081757</td>\n",
       "      <td>-0.012893</td>\n",
       "      <td>-0.213363</td>\n",
       "      <td>0.208403</td>\n",
       "    </tr>\n",
       "    <tr>\n",
       "      <th>4</th>\n",
       "      <td>0.014779</td>\n",
       "      <td>0.110779</td>\n",
       "      <td>0.066085</td>\n",
       "      <td>-0.082850</td>\n",
       "      <td>0.103561</td>\n",
       "      <td>-0.078522</td>\n",
       "      <td>0.145314</td>\n",
       "      <td>0.046921</td>\n",
       "      <td>-0.158505</td>\n",
       "      <td>0.157855</td>\n",
       "    </tr>\n",
       "  </tbody>\n",
       "</table>\n",
       "</div>"
      ],
      "text/plain": [
       "          0         1         2         3         4         5         6  \\\n",
       "0  0.162368  0.076959  0.204390  0.140719 -0.014264  0.094559 -0.091944   \n",
       "1  0.090544  0.061001  0.118172  0.081593 -0.032196  0.031714  0.136038   \n",
       "2  0.108774  0.071901  0.138465  0.105755 -0.039166  0.038560  0.153961   \n",
       "3 -0.018281  0.087462 -0.066485 -0.050897  0.146314  0.108947  0.081757   \n",
       "4  0.014779  0.110779  0.066085 -0.082850  0.103561 -0.078522  0.145314   \n",
       "\n",
       "          7         8         9  \n",
       "0 -0.010074  0.093533 -0.021663  \n",
       "1  0.024434  0.114184 -0.018156  \n",
       "2  0.025811  0.109915 -0.012207  \n",
       "3 -0.012893 -0.213363  0.208403  \n",
       "4  0.046921 -0.158505  0.157855  "
      ]
     },
     "execution_count": 7,
     "metadata": {},
     "output_type": "execute_result"
    }
   ],
   "source": [
    "import pandas as pd\n",
    "Eig=pd.DataFrame(Res_eig['eigen-vecs'].transpose())\n",
    "Eig.head()"
   ]
  },
  {
   "cell_type": "code",
   "execution_count": 8,
   "metadata": {},
   "outputs": [
    {
     "name": "stdout",
     "output_type": "stream",
     "text": [
      "[u'USC00213727', u'CA006030488', u'USC00214191', u'CA006020559', u'CA006034075']\n"
     ]
    },
    {
     "data": {
      "text/html": [
       "<div>\n",
       "<table border=\"1\" class=\"dataframe\">\n",
       "  <thead>\n",
       "    <tr style=\"text-align: right;\">\n",
       "      <th></th>\n",
       "      <th>0</th>\n",
       "      <th>1</th>\n",
       "      <th>2</th>\n",
       "      <th>3</th>\n",
       "      <th>4</th>\n",
       "      <th>5</th>\n",
       "      <th>6</th>\n",
       "      <th>7</th>\n",
       "      <th>8</th>\n",
       "      <th>9</th>\n",
       "    </tr>\n",
       "    <tr>\n",
       "      <th>station</th>\n",
       "      <th></th>\n",
       "      <th></th>\n",
       "      <th></th>\n",
       "      <th></th>\n",
       "      <th></th>\n",
       "      <th></th>\n",
       "      <th></th>\n",
       "      <th></th>\n",
       "      <th></th>\n",
       "      <th></th>\n",
       "    </tr>\n",
       "  </thead>\n",
       "  <tbody>\n",
       "    <tr>\n",
       "      <th>USC00213727</th>\n",
       "      <td>0.162368</td>\n",
       "      <td>0.076959</td>\n",
       "      <td>0.204390</td>\n",
       "      <td>0.140719</td>\n",
       "      <td>-0.014264</td>\n",
       "      <td>0.094559</td>\n",
       "      <td>-0.091944</td>\n",
       "      <td>-0.010074</td>\n",
       "      <td>0.093533</td>\n",
       "      <td>-0.021663</td>\n",
       "    </tr>\n",
       "    <tr>\n",
       "      <th>CA006030488</th>\n",
       "      <td>0.090544</td>\n",
       "      <td>0.061001</td>\n",
       "      <td>0.118172</td>\n",
       "      <td>0.081593</td>\n",
       "      <td>-0.032196</td>\n",
       "      <td>0.031714</td>\n",
       "      <td>0.136038</td>\n",
       "      <td>0.024434</td>\n",
       "      <td>0.114184</td>\n",
       "      <td>-0.018156</td>\n",
       "    </tr>\n",
       "    <tr>\n",
       "      <th>USC00214191</th>\n",
       "      <td>0.108774</td>\n",
       "      <td>0.071901</td>\n",
       "      <td>0.138465</td>\n",
       "      <td>0.105755</td>\n",
       "      <td>-0.039166</td>\n",
       "      <td>0.038560</td>\n",
       "      <td>0.153961</td>\n",
       "      <td>0.025811</td>\n",
       "      <td>0.109915</td>\n",
       "      <td>-0.012207</td>\n",
       "    </tr>\n",
       "    <tr>\n",
       "      <th>CA006020559</th>\n",
       "      <td>-0.018281</td>\n",
       "      <td>0.087462</td>\n",
       "      <td>-0.066485</td>\n",
       "      <td>-0.050897</td>\n",
       "      <td>0.146314</td>\n",
       "      <td>0.108947</td>\n",
       "      <td>0.081757</td>\n",
       "      <td>-0.012893</td>\n",
       "      <td>-0.213363</td>\n",
       "      <td>0.208403</td>\n",
       "    </tr>\n",
       "    <tr>\n",
       "      <th>CA006034075</th>\n",
       "      <td>0.014779</td>\n",
       "      <td>0.110779</td>\n",
       "      <td>0.066085</td>\n",
       "      <td>-0.082850</td>\n",
       "      <td>0.103561</td>\n",
       "      <td>-0.078522</td>\n",
       "      <td>0.145314</td>\n",
       "      <td>0.046921</td>\n",
       "      <td>-0.158505</td>\n",
       "      <td>0.157855</td>\n",
       "    </tr>\n",
       "  </tbody>\n",
       "</table>\n",
       "</div>"
      ],
      "text/plain": [
       "                    0         1         2         3         4         5  \\\n",
       "station                                                                   \n",
       "USC00213727  0.162368  0.076959  0.204390  0.140719 -0.014264  0.094559   \n",
       "CA006030488  0.090544  0.061001  0.118172  0.081593 -0.032196  0.031714   \n",
       "USC00214191  0.108774  0.071901  0.138465  0.105755 -0.039166  0.038560   \n",
       "CA006020559 -0.018281  0.087462 -0.066485 -0.050897  0.146314  0.108947   \n",
       "CA006034075  0.014779  0.110779  0.066085 -0.082850  0.103561 -0.078522   \n",
       "\n",
       "                    6         7         8         9  \n",
       "station                                              \n",
       "USC00213727 -0.091944 -0.010074  0.093533 -0.021663  \n",
       "CA006030488  0.136038  0.024434  0.114184 -0.018156  \n",
       "USC00214191  0.153961  0.025811  0.109915 -0.012207  \n",
       "CA006020559  0.081757 -0.012893 -0.213363  0.208403  \n",
       "CA006034075  0.145314  0.046921 -0.158505  0.157855  "
      ]
     },
     "execution_count": 8,
     "metadata": {},
     "output_type": "execute_result"
    }
   ],
   "source": [
    "Eig['station']=Res_eig['stations']\n",
    "Eig=Eig.set_index('station')\n",
    "print Res_eig['stations'][:5]\n",
    "Eig.head()"
   ]
  },
  {
   "cell_type": "code",
   "execution_count": 9,
   "metadata": {
    "collapsed": true
   },
   "outputs": [],
   "source": [
    "table=Eig.join(Stations,how='left')"
   ]
  },
  {
   "cell_type": "code",
   "execution_count": 10,
   "metadata": {},
   "outputs": [
    {
     "data": {
      "text/html": [
       "<div>\n",
       "<table border=\"1\" class=\"dataframe\">\n",
       "  <thead>\n",
       "    <tr style=\"text-align: right;\">\n",
       "      <th></th>\n",
       "      <th>name</th>\n",
       "      <th>latitude</th>\n",
       "      <th>longitude</th>\n",
       "      <th>elevation</th>\n",
       "      <th>0</th>\n",
       "      <th>1</th>\n",
       "      <th>2</th>\n",
       "      <th>3</th>\n",
       "    </tr>\n",
       "    <tr>\n",
       "      <th>station</th>\n",
       "      <th></th>\n",
       "      <th></th>\n",
       "      <th></th>\n",
       "      <th></th>\n",
       "      <th></th>\n",
       "      <th></th>\n",
       "      <th></th>\n",
       "      <th></th>\n",
       "    </tr>\n",
       "  </thead>\n",
       "  <tbody>\n",
       "    <tr>\n",
       "      <th>USC00213727</th>\n",
       "      <td>HIBBING PWR SUBSTN</td>\n",
       "      <td>47.4333</td>\n",
       "      <td>-92.9667</td>\n",
       "      <td>467.0</td>\n",
       "      <td>0.162368</td>\n",
       "      <td>0.076959</td>\n",
       "      <td>0.204390</td>\n",
       "      <td>0.140719</td>\n",
       "    </tr>\n",
       "    <tr>\n",
       "      <th>CA006030488</th>\n",
       "      <td>BARCLAY</td>\n",
       "      <td>49.8300</td>\n",
       "      <td>-92.8200</td>\n",
       "      <td>381.0</td>\n",
       "      <td>0.090544</td>\n",
       "      <td>0.061001</td>\n",
       "      <td>0.118172</td>\n",
       "      <td>0.081593</td>\n",
       "    </tr>\n",
       "    <tr>\n",
       "      <th>USC00214191</th>\n",
       "      <td>KABETOGAMA</td>\n",
       "      <td>48.4089</td>\n",
       "      <td>-93.0483</td>\n",
       "      <td>365.8</td>\n",
       "      <td>0.108774</td>\n",
       "      <td>0.071901</td>\n",
       "      <td>0.138465</td>\n",
       "      <td>0.105755</td>\n",
       "    </tr>\n",
       "    <tr>\n",
       "      <th>CA006020559</th>\n",
       "      <td>BARWICK</td>\n",
       "      <td>48.6300</td>\n",
       "      <td>-93.9700</td>\n",
       "      <td>335.0</td>\n",
       "      <td>-0.018281</td>\n",
       "      <td>0.087462</td>\n",
       "      <td>-0.066485</td>\n",
       "      <td>-0.050897</td>\n",
       "    </tr>\n",
       "  </tbody>\n",
       "</table>\n",
       "</div>"
      ],
      "text/plain": [
       "                           name  latitude  longitude  elevation         0  \\\n",
       "station                                                                     \n",
       "USC00213727  HIBBING PWR SUBSTN   47.4333   -92.9667      467.0  0.162368   \n",
       "CA006030488             BARCLAY   49.8300   -92.8200      381.0  0.090544   \n",
       "USC00214191          KABETOGAMA   48.4089   -93.0483      365.8  0.108774   \n",
       "CA006020559             BARWICK   48.6300   -93.9700      335.0 -0.018281   \n",
       "\n",
       "                    1         2         3  \n",
       "station                                    \n",
       "USC00213727  0.076959  0.204390  0.140719  \n",
       "CA006030488  0.061001  0.118172  0.081593  \n",
       "USC00214191  0.071901  0.138465  0.105755  \n",
       "CA006020559  0.087462 -0.066485 -0.050897  "
      ]
     },
     "execution_count": 10,
     "metadata": {},
     "output_type": "execute_result"
    }
   ],
   "source": [
    "table=table[['name','latitude','longitude','elevation',0,1,2,3]]\n",
    "table.head(4)"
   ]
  },
  {
   "cell_type": "code",
   "execution_count": 11,
   "metadata": {
    "collapsed": true,
    "scrolled": true
   },
   "outputs": [],
   "source": [
    "import pylab as plt\n",
    "prop_cycle = plt.rcParams['axes.prop_cycle']\n",
    "colors = prop_cycle.by_key()['color']"
   ]
  },
  {
   "cell_type": "markdown",
   "metadata": {
    "run_control": {
     "frozen": false,
     "read_only": false
    }
   },
   "source": [
    "## Map"
   ]
  },
  {
   "cell_type": "code",
   "execution_count": 12,
   "metadata": {
    "code_folding": [
     14
    ]
   },
   "outputs": [
    {
     "data": {
      "application/vnd.jupyter.widget-view+json": {
       "model_id": "11066bd2f4f844f7a974f2ad813bcca0"
      }
     },
     "metadata": {},
     "output_type": "display_data"
    }
   ],
   "source": [
    "(min_long, max_long, min_lat, max_lat) = (-94.8297, -92.5253, 46.3197, 49.833)\n",
    "center = [(min_lat+max_lat)/2, (min_long+max_long)/2]\n",
    "zoom = 9\n",
    "m = Map(default_tiles=TileLayer(opacity=0.6), center=center, zoom=zoom)\n",
    "r = Rectangle(bounds=[[min_lat,min_long],[max_lat,max_long]], weight=5, fill_opacity=0.0)\n",
    "m += r\n",
    "\n",
    "lat_margin=(max_lat-min_lat)/4\n",
    "long_margin=(max_long-min_long)/4\n",
    "for index,row in table.iterrows():\n",
    "    _lat=row['latitude']\n",
    "    _long=row['longitude']\n",
    "    for col in range(4):\n",
    "        _coef=row[col]\n",
    "        if np.isnan(_coef):\n",
    "            continue\n",
    "        r=abs(_coef)/5\n",
    "        #print r\n",
    "        color=colors[col]\n",
    "        signs=[[+1,+1],[+1,-1],[-1,-1],[-1,+1]]\n",
    "        lat_sign,long_sign=signs[col]\n",
    "        triangle=[(_lat,_long),(_lat+lat_sign*r,_long),(_lat,_long+long_sign*r),(_lat,_long)]\n",
    "        if _coef<0:\n",
    "            poly= Polygon(locations=triangle, weight=0,\n",
    "                    color=color, opacity=0, fill_opacity=0.7,\n",
    "                    fill_color=color)\n",
    "        else:\n",
    "            poly= Polygon(locations=triangle, weight=2,\n",
    "                    color=color, opacity=0.8, fill_opacity=0,\n",
    "                    fill_color=color)\n",
    "        m +=poly   \n",
    "m    "
   ]
  },
  {
   "cell_type": "markdown",
   "metadata": {
    "run_control": {
     "frozen": false,
     "read_only": false
    }
   },
   "source": [
    "### excercises:\n",
    "* Add a legend that relates the colors to values.\n",
    "* Leaflet supports a variety of maps. See if you can get a topographical map as the background."
   ]
  },
  {
   "cell_type": "code",
   "execution_count": 9,
   "metadata": {
    "run_control": {
     "frozen": false,
     "read_only": false
    }
   },
   "outputs": [
    {
     "ename": "NameError",
     "evalue": "name 'pdf' is not defined",
     "output_type": "error",
     "traceback": [
      "\u001b[0;31m---------------------------------------------------------------------------\u001b[0m",
      "\u001b[0;31mNameError\u001b[0m                                 Traceback (most recent call last)",
      "\u001b[0;32m<ipython-input-9-f57036667f83>\u001b[0m in \u001b[0;36m<module>\u001b[0;34m()\u001b[0m\n\u001b[1;32m      1\u001b[0m \u001b[0mget_ipython\u001b[0m\u001b[0;34m(\u001b[0m\u001b[0;34m)\u001b[0m\u001b[0;34m.\u001b[0m\u001b[0mmagic\u001b[0m\u001b[0;34m(\u001b[0m\u001b[0;34mu'matplotlib inline'\u001b[0m\u001b[0;34m)\u001b[0m\u001b[0;34m\u001b[0m\u001b[0m\n\u001b[0;32m----> 2\u001b[0;31m \u001b[0mpdf\u001b[0m\u001b[0;34m.\u001b[0m\u001b[0mplot\u001b[0m\u001b[0;34m.\u001b[0m\u001b[0mscatter\u001b[0m\u001b[0;34m(\u001b[0m\u001b[0mx\u001b[0m\u001b[0;34m=\u001b[0m\u001b[0;34m'elevation'\u001b[0m\u001b[0;34m,\u001b[0m\u001b[0my\u001b[0m\u001b[0;34m=\u001b[0m\u001b[0;34m'avg(coeff_1)'\u001b[0m\u001b[0;34m)\u001b[0m\u001b[0;34m\u001b[0m\u001b[0m\n\u001b[0m",
      "\u001b[0;31mNameError\u001b[0m: name 'pdf' is not defined"
     ]
    }
   ],
   "source": [
    "%matplotlib inline\n",
    "pdf.plot.scatter(x='elevation',y='avg(coeff_1)')"
   ]
  },
  {
   "cell_type": "code",
   "execution_count": null,
   "metadata": {
    "collapsed": true
   },
   "outputs": [],
   "source": []
  }
 ],
 "metadata": {
  "anaconda-cloud": {},
  "hide_input": false,
  "kernelspec": {
   "display_name": "Python 2",
   "language": "python",
   "name": "python2"
  },
  "language_info": {
   "codemirror_mode": {
    "name": "ipython",
    "version": 2
   },
   "file_extension": ".py",
   "mimetype": "text/x-python",
   "name": "python",
   "nbconvert_exporter": "python",
   "pygments_lexer": "ipython2",
   "version": "2.7.13"
  },
  "toc": {
   "colors": {
    "hover_highlight": "#DAA520",
    "running_highlight": "#FF0000",
    "selected_highlight": "#FFD700"
   },
   "moveMenuLeft": true,
   "nav_menu": {
    "height": "174px",
    "width": "252px"
   },
   "navigate_menu": true,
   "number_sections": true,
   "sideBar": true,
   "threshold": 4,
   "toc_cell": false,
   "toc_section_display": "block",
   "toc_window_display": false
  },
  "widgets": {
   "state": {},
   "version": "1.0.0"
  }
 },
 "nbformat": 4,
 "nbformat_minor": 1
}
