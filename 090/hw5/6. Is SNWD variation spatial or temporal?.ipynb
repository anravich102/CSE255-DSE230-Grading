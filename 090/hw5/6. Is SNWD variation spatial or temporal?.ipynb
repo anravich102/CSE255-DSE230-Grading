{
 "cells": [
  {
   "cell_type": "markdown",
   "metadata": {
    "run_control": {
     "frozen": false,
     "read_only": false
    }
   },
   "source": [
    "## Analyze whether SNWD varies more from year to year or from place to place."
   ]
  },
  {
   "cell_type": "code",
   "execution_count": 1,
   "metadata": {
    "collapsed": true,
    "run_control": {
     "frozen": false,
     "read_only": false
    }
   },
   "outputs": [],
   "source": [
    "import pandas as pd\n",
    "import numpy as np\n",
    "import urllib\n",
    "import math"
   ]
  },
  {
   "cell_type": "code",
   "execution_count": 2,
   "metadata": {
    "collapsed": true,
    "run_control": {
     "frozen": false,
     "read_only": false
    }
   },
   "outputs": [],
   "source": [
    "import findspark\n",
    "findspark.init()\n",
    "\n",
    "from pyspark import SparkContext\n",
    "#sc.stop()\n",
    "sc = SparkContext(master=\"local[3]\",pyFiles=['lib/numpy_pack.py','lib/spark_PCA.py','lib/computeStats.py'])\n",
    "\n",
    "from pyspark import SparkContext\n",
    "from pyspark.sql import *\n",
    "sqlContext = SQLContext(sc)"
   ]
  },
  {
   "cell_type": "code",
   "execution_count": 3,
   "metadata": {
    "collapsed": true,
    "run_control": {
     "frozen": false,
     "read_only": false
    }
   },
   "outputs": [],
   "source": [
    "import sys\n",
    "sys.path.append('./lib')\n",
    "\n",
    "import numpy as np\n",
    "from numpy_pack import packArray,unpackArray\n",
    "from spark_PCA import computeCov\n",
    "from computeStats import computeOverAllDist, STAT_Descriptions"
   ]
  },
  {
   "cell_type": "code",
   "execution_count": 4,
   "metadata": {
    "run_control": {
     "frozen": false,
     "read_only": false
    },
    "scrolled": true
   },
   "outputs": [
    {
     "name": "stdout",
     "output_type": "stream",
     "text": [
      "('keys from STAT=', ['TMIN', 'TOBS', 'TMAX', 'SNOW', 'SNWD', 'PRCP'])\n",
      "330\n",
      "+-----------------+-------------------+------------------+---------+--------+--------+---------+-----------+-------------------+-------------------+-------------------+------------------+-----------+------------+------+--------------------+------+\n",
      "|          coeff_1|            coeff_2|           coeff_3|elevation|   label|latitude|longitude|measurement|              res_1|              res_2|              res_3|          res_mean|    station|   total_var|undefs|              vector|  year|\n",
      "+-----------------+-------------------+------------------+---------+--------+--------+---------+-----------+-------------------+-------------------+-------------------+------------------+-----------+------------+------+--------------------+------+\n",
      "|5023.264685707681|-1366.1120680592123|1450.7536366819647|   2235.4|SSSBSBBS| 38.9783|-119.8914|       SNWD| 0.2474499730243583| 0.2247650226308774|0.18389836306695978|0.8562204851330496|USC00262119| 4.4621415E7|    22|[28 5D C4 5C 5C 5...|2010.0|\n",
      "|8700.867038390956| 1989.9350371429427|-746.5711673132731|   2240.3|SSSBSBBS| 38.7833|-120.0333|       SNWD|0.21056728712848083|0.18788504393365274|0.18553707618042817|0.9139820889596327|USC00042671|1.13881082E8|     7|[28 5B 28 5B 58 5...|1981.0|\n",
      "+-----------------+-------------------+------------------+---------+--------+--------+---------+-----------+-------------------+-------------------+-------------------+------------------+-----------+------------+------+--------------------+------+\n",
      "only showing top 2 rows\n",
      "\n"
     ]
    }
   ],
   "source": [
    "### Read the data frame from pickle file\n",
    "\n",
    "data_dir='../../Data/Weather'\n",
    "#file_index='BBBSBBBB'\n",
    "file_index='SSSBSBBS'\n",
    "meas='SNWD'\n",
    "\n",
    "from pickle import load\n",
    "\n",
    "#read statistics\n",
    "filename=data_dir+'/STAT_%s.pickle'%file_index\n",
    "STAT,STAT_Descriptions = load(open(filename,'rb'))\n",
    "print('keys from STAT=',STAT.keys())\n",
    "\n",
    "#!ls -ld $data_dir/*.parquet\n",
    "\n",
    "#read data\n",
    "filename=data_dir+'/decon_%s_%s.parquet'%(file_index,meas)\n",
    "\n",
    "df=sqlContext.read.parquet(filename)\n",
    "print(df.count())\n",
    "df.show(2)"
   ]
  },
  {
   "cell_type": "code",
   "execution_count": 5,
   "metadata": {
    "run_control": {
     "frozen": false,
     "read_only": false
    }
   },
   "outputs": [
    {
     "name": "stdout",
     "output_type": "stream",
     "text": [
      "['coeff_1', 'coeff_2', 'coeff_3', 'elevation', 'label', 'latitude', 'longitude', 'measurement', 'res_1', 'res_2', 'res_3', 'res_mean', 'station', 'total_var', 'undefs', 'vector', 'year']\n"
     ]
    }
   ],
   "source": [
    "print df.columns"
   ]
  },
  {
   "cell_type": "code",
   "execution_count": 6,
   "metadata": {
    "run_control": {
     "frozen": false,
     "read_only": false
    },
    "scrolled": true
   },
   "outputs": [
    {
     "name": "stdout",
     "output_type": "stream",
     "text": [
      "SELECT station, year, coeff_1 FROM weather\n"
     ]
    },
    {
     "data": {
      "text/html": [
       "<div>\n",
       "<style>\n",
       "    .dataframe thead tr:only-child th {\n",
       "        text-align: right;\n",
       "    }\n",
       "\n",
       "    .dataframe thead th {\n",
       "        text-align: left;\n",
       "    }\n",
       "\n",
       "    .dataframe tbody tr th {\n",
       "        vertical-align: top;\n",
       "    }\n",
       "</style>\n",
       "<table border=\"1\" class=\"dataframe\">\n",
       "  <thead>\n",
       "    <tr style=\"text-align: right;\">\n",
       "      <th></th>\n",
       "      <th>station</th>\n",
       "      <th>year</th>\n",
       "      <th>coeff_1</th>\n",
       "    </tr>\n",
       "  </thead>\n",
       "  <tbody>\n",
       "    <tr>\n",
       "      <th>0</th>\n",
       "      <td>USC00262119</td>\n",
       "      <td>2010.0</td>\n",
       "      <td>5023.264686</td>\n",
       "    </tr>\n",
       "    <tr>\n",
       "      <th>1</th>\n",
       "      <td>USC00042671</td>\n",
       "      <td>1981.0</td>\n",
       "      <td>8700.867038</td>\n",
       "    </tr>\n",
       "    <tr>\n",
       "      <th>2</th>\n",
       "      <td>USC00045571</td>\n",
       "      <td>1964.0</td>\n",
       "      <td>7090.321892</td>\n",
       "    </tr>\n",
       "    <tr>\n",
       "      <th>3</th>\n",
       "      <td>USC00049105</td>\n",
       "      <td>1951.0</td>\n",
       "      <td>10077.856645</td>\n",
       "    </tr>\n",
       "    <tr>\n",
       "      <th>4</th>\n",
       "      <td>USC00049105</td>\n",
       "      <td>1954.0</td>\n",
       "      <td>10209.291462</td>\n",
       "    </tr>\n",
       "  </tbody>\n",
       "</table>\n",
       "</div>"
      ],
      "text/plain": [
       "       station    year       coeff_1\n",
       "0  USC00262119  2010.0   5023.264686\n",
       "1  USC00042671  1981.0   8700.867038\n",
       "2  USC00045571  1964.0   7090.321892\n",
       "3  USC00049105  1951.0  10077.856645\n",
       "4  USC00049105  1954.0  10209.291462"
      ]
     },
     "execution_count": 6,
     "metadata": {},
     "output_type": "execute_result"
    }
   ],
   "source": [
    "#extract longitude and latitude for each station\n",
    "feature='coeff_1'\n",
    "sqlContext.registerDataFrameAsTable(df,'weather')\n",
    "#Features=', '.join(['coeff_1', 'coeff_2', 'coeff_3', 'elevation', 'latitude', 'longitude',\\\n",
    "#          'res_1', 'res_2', 'res_3', 'res_mean', 'year'])\n",
    "Features='station, year, coeff_1'\n",
    "Query=\"SELECT %s FROM weather\"%Features\n",
    "print(Query)\n",
    "pdf = sqlContext.sql(Query).toPandas()\n",
    "pdf.head()"
   ]
  },
  {
   "cell_type": "code",
   "execution_count": 7,
   "metadata": {
    "run_control": {
     "frozen": false,
     "read_only": false
    }
   },
   "outputs": [
    {
     "data": {
      "text/html": [
       "<div>\n",
       "<style>\n",
       "    .dataframe thead tr:only-child th {\n",
       "        text-align: right;\n",
       "    }\n",
       "\n",
       "    .dataframe thead th {\n",
       "        text-align: left;\n",
       "    }\n",
       "\n",
       "    .dataframe tbody tr th {\n",
       "        vertical-align: top;\n",
       "    }\n",
       "</style>\n",
       "<table border=\"1\" class=\"dataframe\">\n",
       "  <thead>\n",
       "    <tr style=\"text-align: right;\">\n",
       "      <th>station</th>\n",
       "      <th>USC00040943</th>\n",
       "      <th>USC00041072</th>\n",
       "      <th>USC00041075</th>\n",
       "      <th>USC00041277</th>\n",
       "      <th>USC00041909</th>\n",
       "      <th>USC00041911</th>\n",
       "      <th>USC00042671</th>\n",
       "      <th>USC00043134</th>\n",
       "      <th>USC00043381</th>\n",
       "      <th>USC00043384</th>\n",
       "      <th>...</th>\n",
       "      <th>USC00263515</th>\n",
       "      <th>USC00265168</th>\n",
       "      <th>USC00265191</th>\n",
       "      <th>USC00266746</th>\n",
       "      <th>USC00267640</th>\n",
       "      <th>USC00267806</th>\n",
       "      <th>USC00268186</th>\n",
       "      <th>USC00268202</th>\n",
       "      <th>USC00268977</th>\n",
       "      <th>USC00269229</th>\n",
       "    </tr>\n",
       "    <tr>\n",
       "      <th>year</th>\n",
       "      <th></th>\n",
       "      <th></th>\n",
       "      <th></th>\n",
       "      <th></th>\n",
       "      <th></th>\n",
       "      <th></th>\n",
       "      <th></th>\n",
       "      <th></th>\n",
       "      <th></th>\n",
       "      <th></th>\n",
       "      <th></th>\n",
       "      <th></th>\n",
       "      <th></th>\n",
       "      <th></th>\n",
       "      <th></th>\n",
       "      <th></th>\n",
       "      <th></th>\n",
       "      <th></th>\n",
       "      <th></th>\n",
       "      <th></th>\n",
       "      <th></th>\n",
       "    </tr>\n",
       "  </thead>\n",
       "  <tbody>\n",
       "    <tr>\n",
       "      <th>1915.0</th>\n",
       "      <td>NaN</td>\n",
       "      <td>578.812443</td>\n",
       "      <td>NaN</td>\n",
       "      <td>NaN</td>\n",
       "      <td>NaN</td>\n",
       "      <td>NaN</td>\n",
       "      <td>NaN</td>\n",
       "      <td>NaN</td>\n",
       "      <td>NaN</td>\n",
       "      <td>NaN</td>\n",
       "      <td>...</td>\n",
       "      <td>NaN</td>\n",
       "      <td>NaN</td>\n",
       "      <td>NaN</td>\n",
       "      <td>NaN</td>\n",
       "      <td>NaN</td>\n",
       "      <td>NaN</td>\n",
       "      <td>NaN</td>\n",
       "      <td>NaN</td>\n",
       "      <td>NaN</td>\n",
       "      <td>NaN</td>\n",
       "    </tr>\n",
       "    <tr>\n",
       "      <th>1932.0</th>\n",
       "      <td>NaN</td>\n",
       "      <td>NaN</td>\n",
       "      <td>NaN</td>\n",
       "      <td>NaN</td>\n",
       "      <td>NaN</td>\n",
       "      <td>NaN</td>\n",
       "      <td>NaN</td>\n",
       "      <td>NaN</td>\n",
       "      <td>NaN</td>\n",
       "      <td>NaN</td>\n",
       "      <td>...</td>\n",
       "      <td>NaN</td>\n",
       "      <td>NaN</td>\n",
       "      <td>-250.985145</td>\n",
       "      <td>NaN</td>\n",
       "      <td>NaN</td>\n",
       "      <td>NaN</td>\n",
       "      <td>NaN</td>\n",
       "      <td>NaN</td>\n",
       "      <td>NaN</td>\n",
       "      <td>NaN</td>\n",
       "    </tr>\n",
       "    <tr>\n",
       "      <th>1933.0</th>\n",
       "      <td>NaN</td>\n",
       "      <td>NaN</td>\n",
       "      <td>NaN</td>\n",
       "      <td>NaN</td>\n",
       "      <td>NaN</td>\n",
       "      <td>NaN</td>\n",
       "      <td>NaN</td>\n",
       "      <td>NaN</td>\n",
       "      <td>NaN</td>\n",
       "      <td>NaN</td>\n",
       "      <td>...</td>\n",
       "      <td>NaN</td>\n",
       "      <td>-25.387133</td>\n",
       "      <td>-73.003204</td>\n",
       "      <td>NaN</td>\n",
       "      <td>NaN</td>\n",
       "      <td>NaN</td>\n",
       "      <td>NaN</td>\n",
       "      <td>NaN</td>\n",
       "      <td>NaN</td>\n",
       "      <td>NaN</td>\n",
       "    </tr>\n",
       "    <tr>\n",
       "      <th>1937.0</th>\n",
       "      <td>NaN</td>\n",
       "      <td>NaN</td>\n",
       "      <td>NaN</td>\n",
       "      <td>NaN</td>\n",
       "      <td>NaN</td>\n",
       "      <td>NaN</td>\n",
       "      <td>NaN</td>\n",
       "      <td>NaN</td>\n",
       "      <td>NaN</td>\n",
       "      <td>NaN</td>\n",
       "      <td>...</td>\n",
       "      <td>NaN</td>\n",
       "      <td>-153.179937</td>\n",
       "      <td>NaN</td>\n",
       "      <td>NaN</td>\n",
       "      <td>NaN</td>\n",
       "      <td>NaN</td>\n",
       "      <td>NaN</td>\n",
       "      <td>NaN</td>\n",
       "      <td>NaN</td>\n",
       "      <td>NaN</td>\n",
       "    </tr>\n",
       "    <tr>\n",
       "      <th>1948.0</th>\n",
       "      <td>NaN</td>\n",
       "      <td>NaN</td>\n",
       "      <td>NaN</td>\n",
       "      <td>NaN</td>\n",
       "      <td>NaN</td>\n",
       "      <td>NaN</td>\n",
       "      <td>NaN</td>\n",
       "      <td>NaN</td>\n",
       "      <td>NaN</td>\n",
       "      <td>NaN</td>\n",
       "      <td>...</td>\n",
       "      <td>NaN</td>\n",
       "      <td>NaN</td>\n",
       "      <td>NaN</td>\n",
       "      <td>NaN</td>\n",
       "      <td>NaN</td>\n",
       "      <td>NaN</td>\n",
       "      <td>NaN</td>\n",
       "      <td>NaN</td>\n",
       "      <td>NaN</td>\n",
       "      <td>NaN</td>\n",
       "    </tr>\n",
       "    <tr>\n",
       "      <th>1949.0</th>\n",
       "      <td>NaN</td>\n",
       "      <td>NaN</td>\n",
       "      <td>1287.347025</td>\n",
       "      <td>NaN</td>\n",
       "      <td>495.037312</td>\n",
       "      <td>NaN</td>\n",
       "      <td>NaN</td>\n",
       "      <td>505.860414</td>\n",
       "      <td>327.914840</td>\n",
       "      <td>1442.593435</td>\n",
       "      <td>...</td>\n",
       "      <td>-100.689112</td>\n",
       "      <td>NaN</td>\n",
       "      <td>274.460212</td>\n",
       "      <td>NaN</td>\n",
       "      <td>NaN</td>\n",
       "      <td>NaN</td>\n",
       "      <td>NaN</td>\n",
       "      <td>NaN</td>\n",
       "      <td>-244.434887</td>\n",
       "      <td>-218.014407</td>\n",
       "    </tr>\n",
       "    <tr>\n",
       "      <th>1950.0</th>\n",
       "      <td>NaN</td>\n",
       "      <td>NaN</td>\n",
       "      <td>-211.141635</td>\n",
       "      <td>NaN</td>\n",
       "      <td>NaN</td>\n",
       "      <td>NaN</td>\n",
       "      <td>NaN</td>\n",
       "      <td>-104.046408</td>\n",
       "      <td>-266.345816</td>\n",
       "      <td>64.856622</td>\n",
       "      <td>...</td>\n",
       "      <td>NaN</td>\n",
       "      <td>NaN</td>\n",
       "      <td>NaN</td>\n",
       "      <td>NaN</td>\n",
       "      <td>NaN</td>\n",
       "      <td>NaN</td>\n",
       "      <td>NaN</td>\n",
       "      <td>NaN</td>\n",
       "      <td>NaN</td>\n",
       "      <td>NaN</td>\n",
       "    </tr>\n",
       "    <tr>\n",
       "      <th>1951.0</th>\n",
       "      <td>NaN</td>\n",
       "      <td>NaN</td>\n",
       "      <td>70.283381</td>\n",
       "      <td>NaN</td>\n",
       "      <td>NaN</td>\n",
       "      <td>NaN</td>\n",
       "      <td>NaN</td>\n",
       "      <td>-235.624175</td>\n",
       "      <td>NaN</td>\n",
       "      <td>-331.603288</td>\n",
       "      <td>...</td>\n",
       "      <td>NaN</td>\n",
       "      <td>NaN</td>\n",
       "      <td>NaN</td>\n",
       "      <td>NaN</td>\n",
       "      <td>NaN</td>\n",
       "      <td>NaN</td>\n",
       "      <td>NaN</td>\n",
       "      <td>NaN</td>\n",
       "      <td>NaN</td>\n",
       "      <td>NaN</td>\n",
       "    </tr>\n",
       "    <tr>\n",
       "      <th>1952.0</th>\n",
       "      <td>NaN</td>\n",
       "      <td>NaN</td>\n",
       "      <td>NaN</td>\n",
       "      <td>NaN</td>\n",
       "      <td>NaN</td>\n",
       "      <td>472.033291</td>\n",
       "      <td>NaN</td>\n",
       "      <td>958.396164</td>\n",
       "      <td>-156.671405</td>\n",
       "      <td>911.505584</td>\n",
       "      <td>...</td>\n",
       "      <td>NaN</td>\n",
       "      <td>NaN</td>\n",
       "      <td>NaN</td>\n",
       "      <td>NaN</td>\n",
       "      <td>NaN</td>\n",
       "      <td>NaN</td>\n",
       "      <td>NaN</td>\n",
       "      <td>NaN</td>\n",
       "      <td>NaN</td>\n",
       "      <td>NaN</td>\n",
       "    </tr>\n",
       "    <tr>\n",
       "      <th>1953.0</th>\n",
       "      <td>NaN</td>\n",
       "      <td>NaN</td>\n",
       "      <td>NaN</td>\n",
       "      <td>NaN</td>\n",
       "      <td>NaN</td>\n",
       "      <td>NaN</td>\n",
       "      <td>NaN</td>\n",
       "      <td>NaN</td>\n",
       "      <td>NaN</td>\n",
       "      <td>NaN</td>\n",
       "      <td>...</td>\n",
       "      <td>NaN</td>\n",
       "      <td>NaN</td>\n",
       "      <td>NaN</td>\n",
       "      <td>NaN</td>\n",
       "      <td>NaN</td>\n",
       "      <td>NaN</td>\n",
       "      <td>NaN</td>\n",
       "      <td>NaN</td>\n",
       "      <td>NaN</td>\n",
       "      <td>NaN</td>\n",
       "    </tr>\n",
       "  </tbody>\n",
       "</table>\n",
       "<p>10 rows × 36 columns</p>\n",
       "</div>"
      ],
      "text/plain": [
       "station  USC00040943  USC00041072  USC00041075  USC00041277  USC00041909  \\\n",
       "year                                                                       \n",
       "1915.0           NaN   578.812443          NaN          NaN          NaN   \n",
       "1932.0           NaN          NaN          NaN          NaN          NaN   \n",
       "1933.0           NaN          NaN          NaN          NaN          NaN   \n",
       "1937.0           NaN          NaN          NaN          NaN          NaN   \n",
       "1948.0           NaN          NaN          NaN          NaN          NaN   \n",
       "1949.0           NaN          NaN  1287.347025          NaN   495.037312   \n",
       "1950.0           NaN          NaN  -211.141635          NaN          NaN   \n",
       "1951.0           NaN          NaN    70.283381          NaN          NaN   \n",
       "1952.0           NaN          NaN          NaN          NaN          NaN   \n",
       "1953.0           NaN          NaN          NaN          NaN          NaN   \n",
       "\n",
       "station  USC00041911  USC00042671  USC00043134  USC00043381  USC00043384  \\\n",
       "year                                                                       \n",
       "1915.0           NaN          NaN          NaN          NaN          NaN   \n",
       "1932.0           NaN          NaN          NaN          NaN          NaN   \n",
       "1933.0           NaN          NaN          NaN          NaN          NaN   \n",
       "1937.0           NaN          NaN          NaN          NaN          NaN   \n",
       "1948.0           NaN          NaN          NaN          NaN          NaN   \n",
       "1949.0           NaN          NaN   505.860414   327.914840  1442.593435   \n",
       "1950.0           NaN          NaN  -104.046408  -266.345816    64.856622   \n",
       "1951.0           NaN          NaN  -235.624175          NaN  -331.603288   \n",
       "1952.0    472.033291          NaN   958.396164  -156.671405   911.505584   \n",
       "1953.0           NaN          NaN          NaN          NaN          NaN   \n",
       "\n",
       "station     ...       USC00263515  USC00265168  USC00265191  USC00266746  \\\n",
       "year        ...                                                            \n",
       "1915.0      ...               NaN          NaN          NaN          NaN   \n",
       "1932.0      ...               NaN          NaN  -250.985145          NaN   \n",
       "1933.0      ...               NaN   -25.387133   -73.003204          NaN   \n",
       "1937.0      ...               NaN  -153.179937          NaN          NaN   \n",
       "1948.0      ...               NaN          NaN          NaN          NaN   \n",
       "1949.0      ...       -100.689112          NaN   274.460212          NaN   \n",
       "1950.0      ...               NaN          NaN          NaN          NaN   \n",
       "1951.0      ...               NaN          NaN          NaN          NaN   \n",
       "1952.0      ...               NaN          NaN          NaN          NaN   \n",
       "1953.0      ...               NaN          NaN          NaN          NaN   \n",
       "\n",
       "station  USC00267640  USC00267806  USC00268186  USC00268202  USC00268977  \\\n",
       "year                                                                       \n",
       "1915.0           NaN          NaN          NaN          NaN          NaN   \n",
       "1932.0           NaN          NaN          NaN          NaN          NaN   \n",
       "1933.0           NaN          NaN          NaN          NaN          NaN   \n",
       "1937.0           NaN          NaN          NaN          NaN          NaN   \n",
       "1948.0           NaN          NaN          NaN          NaN          NaN   \n",
       "1949.0           NaN          NaN          NaN          NaN  -244.434887   \n",
       "1950.0           NaN          NaN          NaN          NaN          NaN   \n",
       "1951.0           NaN          NaN          NaN          NaN          NaN   \n",
       "1952.0           NaN          NaN          NaN          NaN          NaN   \n",
       "1953.0           NaN          NaN          NaN          NaN          NaN   \n",
       "\n",
       "station  USC00269229  \n",
       "year                  \n",
       "1915.0           NaN  \n",
       "1932.0           NaN  \n",
       "1933.0           NaN  \n",
       "1937.0           NaN  \n",
       "1948.0           NaN  \n",
       "1949.0   -218.014407  \n",
       "1950.0           NaN  \n",
       "1951.0           NaN  \n",
       "1952.0           NaN  \n",
       "1953.0           NaN  \n",
       "\n",
       "[10 rows x 36 columns]"
      ]
     },
     "execution_count": 7,
     "metadata": {},
     "output_type": "execute_result"
    }
   ],
   "source": [
    "year_station_table=pdf.pivot(index='year', columns='station', values='coeff_1')\n",
    "year_station_table.head(10)"
   ]
  },
  {
   "cell_type": "markdown",
   "metadata": {
    "run_control": {
     "frozen": false,
     "read_only": false
    }
   },
   "source": [
    "### Estimating the effect of the year vs the effect of the station\n",
    "\n",
    "To estimate the effect of time vs. location on the first eigenvector coefficient we\n",
    "compute:\n",
    "\n",
    "* The average row: `mean-by-station`\n",
    "* The average column: `mean-by-year`\n",
    "\n",
    "We then compute the RMS before and after subtracting either  the row or the column vector."
   ]
  },
  {
   "cell_type": "code",
   "execution_count": 8,
   "metadata": {},
   "outputs": [
    {
     "ename": "NameError",
     "evalue": "name 'tbl_minus_station' is not defined",
     "output_type": "error",
     "traceback": [
      "\u001b[0;31m---------------------------------------------------------------------------\u001b[0m",
      "\u001b[0;31mNameError\u001b[0m                                 Traceback (most recent call last)",
      "\u001b[0;32m<ipython-input-8-016b91a8591c>\u001b[0m in \u001b[0;36m<module>\u001b[0;34m()\u001b[0m\n\u001b[0;32m----> 1\u001b[0;31m \u001b[0msum\u001b[0m\u001b[0;34m(\u001b[0m\u001b[0mnp\u001b[0m\u001b[0;34m.\u001b[0m\u001b[0mnanvar\u001b[0m\u001b[0;34m(\u001b[0m\u001b[0myear_station_table\u001b[0m\u001b[0;34m)\u001b[0m\u001b[0;34m-\u001b[0m\u001b[0mnp\u001b[0m\u001b[0;34m.\u001b[0m\u001b[0mnanvar\u001b[0m\u001b[0;34m(\u001b[0m\u001b[0mtbl_minus_station\u001b[0m\u001b[0;34m)\u001b[0m\u001b[0;34m)\u001b[0m\u001b[0;34m\u001b[0m\u001b[0m\n\u001b[0m",
      "\u001b[0;31mNameError\u001b[0m: name 'tbl_minus_station' is not defined"
     ]
    }
   ],
   "source": [
    "sum(np.nanvar(year_station_table)-np.nanvar(tbl_minus_station))"
   ]
  },
  {
   "cell_type": "code",
   "execution_count": null,
   "metadata": {
    "run_control": {
     "frozen": false,
     "read_only": false
    }
   },
   "outputs": [],
   "source": [
    "def RMS(Mat):\n",
    "    return np.sqrt(np.nanmean(Mat**2))\n",
    "    \n",
    "def Var(Mat):\n",
    "    return (np.nanvar(Mat))\n",
    "mean_by_year=np.nanmean(year_station_table,axis=1)\n",
    "mean_by_station=np.nanmean(year_station_table,axis=0)\n",
    "tbl_minus_year = (year_station_table.transpose()-mean_by_year).transpose()\n",
    "tbl_minus_station = year_station_table-mean_by_station\n",
    "\n",
    "print 'total RMS                   = ',RMS(year_station_table)\n",
    "print 'RMS removing mean-by-station= ',RMS(tbl_minus_station)\n",
    "print 'RMS removing mean-by-year   = ',RMS(tbl_minus_year)\n",
    "print 'RMS removing mean-by-year   = ',RMS(tbl_minus_year)"
   ]
  },
  {
   "cell_type": "code",
   "execution_count": null,
   "metadata": {
    "run_control": {
     "frozen": false,
     "read_only": false
    }
   },
   "outputs": [],
   "source": [
    "T=year_station_table\n",
    "print 'initial RMS=',RMS(T)\n",
    "for i in range(5):\n",
    "    mean_by_year=np.nanmean(T,axis=1)\n",
    "    T=(T.transpose()-mean_by_year).transpose()\n",
    "    print i,'after removing mean by year    =',RMS(T)\n",
    "    mean_by_station=np.nanmean(T,axis=0)\n",
    "    T=T-mean_by_station\n",
    "    print i,'after removing mean by stations=',RMS(T)"
   ]
  },
  {
   "cell_type": "code",
   "execution_count": null,
   "metadata": {
    "collapsed": true,
    "run_control": {
     "frozen": false,
     "read_only": false
    }
   },
   "outputs": [],
   "source": []
  },
  {
   "cell_type": "code",
   "execution_count": null,
   "metadata": {
    "collapsed": true
   },
   "outputs": [],
   "source": []
  },
  {
   "cell_type": "code",
   "execution_count": null,
   "metadata": {
    "collapsed": true
   },
   "outputs": [],
   "source": []
  }
 ],
 "metadata": {
  "anaconda-cloud": {},
  "hide_input": false,
  "kernelspec": {
   "display_name": "Python 2",
   "language": "python",
   "name": "python2"
  },
  "language_info": {
   "codemirror_mode": {
    "name": "ipython",
    "version": 2
   },
   "file_extension": ".py",
   "mimetype": "text/x-python",
   "name": "python",
   "nbconvert_exporter": "python",
   "pygments_lexer": "ipython2",
   "version": "2.7.13"
  },
  "toc": {
   "colors": {
    "hover_highlight": "#DAA520",
    "running_highlight": "#FF0000",
    "selected_highlight": "#FFD700"
   },
   "moveMenuLeft": true,
   "nav_menu": {
    "height": "174px",
    "width": "252px"
   },
   "navigate_menu": true,
   "number_sections": true,
   "sideBar": true,
   "threshold": 4,
   "toc_cell": false,
   "toc_section_display": "block",
   "toc_window_display": false
  },
  "widgets": {
   "state": {},
   "version": "1.0.0"
  }
 },
 "nbformat": 4,
 "nbformat_minor": 1
}
