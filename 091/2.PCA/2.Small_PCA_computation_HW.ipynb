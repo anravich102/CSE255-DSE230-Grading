{
 "cells": [
  {
   "cell_type": "markdown",
   "metadata": {
    "deletable": false,
    "editable": false,
    "nbgrader": {
     "checksum": "1e14402cec9308b02dcc1ebc85d41f94",
     "grade": false,
     "grade_id": "0",
     "locked": true,
     "schema_version": 1,
     "solution": false
    },
    "run_control": {
     "frozen": false,
     "read_only": false
    }
   },
   "source": [
    "### <span style=\"color:red\">IMPORTANT: Only modify cells which have the following comment:</span>\n",
    "```python\n",
    "# Modify this cell\n",
    "```\n",
    "##### <span style=\"color:red\">Do not add any new cells when you submit the homework</span>"
   ]
  },
  {
   "cell_type": "markdown",
   "metadata": {
    "deletable": false,
    "editable": false,
    "nbgrader": {
     "checksum": "bba821f4315d92d3f4498bd41b96d2c4",
     "grade": false,
     "grade_id": "1",
     "locked": true,
     "schema_version": 1,
     "solution": false
    },
    "run_control": {
     "frozen": false,
     "read_only": false
    }
   },
   "source": [
    "# Setting Up Notebook"
   ]
  },
  {
   "cell_type": "code",
   "execution_count": 1,
   "metadata": {
    "collapsed": true,
    "deletable": false,
    "editable": false,
    "nbgrader": {
     "checksum": "ed1a403a9abe9c4443d1e08f58e0c800",
     "grade": false,
     "grade_id": "2",
     "locked": true,
     "schema_version": 1,
     "solution": false
    },
    "run_control": {
     "frozen": false,
     "read_only": false
    }
   },
   "outputs": [],
   "source": [
    "import findspark\n",
    "findspark.init()"
   ]
  },
  {
   "cell_type": "code",
   "execution_count": 2,
   "metadata": {
    "collapsed": false,
    "deletable": false,
    "editable": false,
    "nbgrader": {
     "checksum": "1a11c634b751618a15b4c19ebf44dcfe",
     "grade": false,
     "grade_id": "3",
     "locked": true,
     "schema_version": 1,
     "solution": false
    },
    "run_control": {
     "frozen": false,
     "read_only": false
    },
    "slideshow": {
     "slide_type": "skip"
    }
   },
   "outputs": [],
   "source": [
    "from pyspark import SparkContext\n",
    "sc = SparkContext(master=\"local[4]\")"
   ]
  },
  {
   "cell_type": "code",
   "execution_count": 3,
   "metadata": {
    "collapsed": true,
    "deletable": false,
    "editable": false,
    "nbgrader": {
     "checksum": "74f3259ce5b7dca28d136ecda09890fa",
     "grade": false,
     "grade_id": "4",
     "locked": true,
     "schema_version": 1,
     "solution": false
    },
    "run_control": {
     "frozen": false,
     "read_only": false
    }
   },
   "outputs": [],
   "source": [
    "import numpy as np\n",
    "import math\n",
    "from numpy import linalg as LA"
   ]
  },
  {
   "cell_type": "markdown",
   "metadata": {
    "deletable": false,
    "editable": false,
    "nbgrader": {
     "checksum": "04af90670abb4a54e916bd7e576ccf20",
     "grade": false,
     "grade_id": "5",
     "locked": true,
     "schema_version": 1,
     "solution": false
    },
    "run_control": {
     "frozen": false,
     "read_only": false
    }
   },
   "source": [
    "# Exercise:\n",
    "The function **computeCov** computes the covariance matrix using RDDs. The code allows undefined entries and calculates the covariance without bias. \n",
    "\n",
    "Your homework is to complete the missing parts in **computeCov** (Marked with `...`) so that it calculates the covariance correctly.\n",
    "\n",
    "    Note: The functions and libraries in the cell below will be useful to you"
   ]
  },
  {
   "cell_type": "code",
   "execution_count": 4,
   "metadata": {
    "collapsed": true,
    "deletable": false,
    "editable": false,
    "nbgrader": {
     "checksum": "3ac9bb810caef146ad852489178ee668",
     "grade": false,
     "grade_id": "6",
     "locked": true,
     "schema_version": 1,
     "solution": false
    },
    "run_control": {
     "frozen": false,
     "read_only": false
    }
   },
   "outputs": [],
   "source": [
    "def outerProduct(X):\n",
    "    \"\"\"Computer outer product and indicate which locations in matrix are undefined\"\"\"\n",
    "    O=np.outer(X,X)\n",
    "    N=1-np.isnan(O)\n",
    "    return (O,N)\n",
    "\n",
    "def sumWithNan(M1,M2):\n",
    "    \"\"\"Add two pairs of (matrix,count)\"\"\"\n",
    "    (X1,N1)=M1\n",
    "    (X2,N2)=M2\n",
    "    N=N1+N2\n",
    "    X=np.nansum(np.dstack((X1,X2)),axis=2)\n",
    "    return (X,N)"
   ]
  },
  {
   "cell_type": "code",
   "execution_count": 5,
   "metadata": {
    "collapsed": false,
    "deletable": true,
    "editable": true,
    "run_control": {
     "frozen": false,
     "read_only": false
    }
   },
   "outputs": [],
   "source": [
    "# Modify this cell\n",
    "\n",
    "def computeCov(RDDin):\n",
    "    # input: RDDin is an RDD of np arrays, all of the same length\n",
    "    \n",
    "    # we insert 1 at the beginning of each vector so the calculation also yields the mean vector\n",
    "    RDD=RDDin.map(lambda v:np.array(np.insert(v,0,1),dtype=np.float64)) \n",
    "    \n",
    "    # separating map and reduce does not matter, since Spark uses lazy execution.\n",
    "    OuterRDD=RDD.map(outerProduct)    #<-- do mapping here\n",
    "    (S,N)=OuterRDD.reduce(sumWithNan)  #<-- do reducing here\n",
    "    \n",
    "    E=S[0,1:]\n",
    "    NE=np.float64(N[0,1:])\n",
    "    print 'shape of E=',E.shape,'shape of NE=',NE.shape\n",
    "    Mean=E/NE\n",
    "    O=S[1:,1:]\n",
    "    NO=np.float64(N[1:,1:])\n",
    "    print 'shape of O=',O.shape,'shape of NO=',NO.shape,'shape of Mean=',Mean.shape\n",
    "    print np.outer(np.transpose(Mean),Mean)\n",
    "    Cov=  O/NO - np.outer(np.transpose(Mean),Mean) # This is the covariance matrix\n",
    "    \n",
    "    # Output also the diagnal which is the variance for each day\n",
    "    Var=np.array([Cov[i,i] for i in range(Cov.shape[0])])\n",
    "    return {'E':E,'NE':NE,'O':O,'NO':NO,'Cov':Cov,'Mean':Mean,'Var':Var}\n"
   ]
  },
  {
   "cell_type": "code",
   "execution_count": 6,
   "metadata": {
    "collapsed": false,
    "deletable": false,
    "editable": false,
    "nbgrader": {
     "checksum": "05c3bc3b51835df6d9a7110af503fbc5",
     "grade": true,
     "grade_id": "ex",
     "locked": true,
     "points": 2,
     "schema_version": 1,
     "solution": false
    },
    "run_control": {
     "frozen": false,
     "read_only": false
    },
    "scrolled": true
   },
   "outputs": [
    {
     "name": "stdout",
     "output_type": "stream",
     "text": [
      "Checking data_list of length 3 with length 10 vectors each having 2 np.NaN values\n",
      "shape of E= (10,) shape of NE= (10,)\n",
      "shape of O= (10, 10) shape of NO= (10, 10) shape of Mean= (10,)\n",
      "[[ 0.3657792   0.40225383 -0.13383224 -0.34764459 -0.07040832  0.13402857\n",
      "  -0.10156681 -0.13003311  0.06221052  0.47056363]\n",
      " [ 0.40225383  0.44236562 -0.14717767 -0.38231088 -0.07742927  0.14739357\n",
      "  -0.11169481 -0.1429997   0.068414    0.5174871 ]\n",
      " [-0.13383224 -0.14717767  0.04896688  0.1271971   0.02576118 -0.04903872\n",
      "   0.03716153  0.04757685 -0.02276174 -0.17217103]\n",
      " [-0.34764459 -0.38231088  0.1271971   0.33040906  0.06691762 -0.12738369\n",
      "   0.09653133  0.12358632 -0.05912624 -0.44723401]\n",
      " [-0.07040832 -0.07742927  0.02576118  0.06691762  0.0135528  -0.02579897\n",
      "   0.01955045  0.02502989 -0.01197482 -0.09057813]\n",
      " [ 0.13402857  0.14739357 -0.04903872 -0.12738369 -0.02579897  0.04911066\n",
      "  -0.03721604 -0.04764664  0.02279514  0.1724236 ]\n",
      " [-0.10156681 -0.11169481  0.03716153  0.09653133  0.01955045 -0.03721604\n",
      "   0.02820231  0.03610661 -0.01727415 -0.13066256]\n",
      " [-0.13003311 -0.1429997   0.04757685  0.12358632  0.02502989 -0.04764664\n",
      "   0.03610661  0.04622627 -0.0221156  -0.16728357]\n",
      " [ 0.06221052  0.068414   -0.02276174 -0.05912624 -0.01197482  0.02279514\n",
      "  -0.01727415 -0.0221156   0.01058056  0.08003191]\n",
      " [ 0.47056363  0.5174871  -0.17217103 -0.44723401 -0.09057813  0.1724236\n",
      "  -0.13066256 -0.16728357  0.08003191  0.60536554]]\n",
      "\n",
      "Checking data_list of length 100 with length 10 vectors each having 4 np.NaN values\n",
      "shape of E= (10,) shape of NE= (10,)\n",
      "shape of O= (10, 10) shape of NO= (10, 10) shape of Mean= (10,)\n",
      "[[  5.32725710e-03   1.72385823e-04  -2.04959590e-04   5.45099332e-03\n",
      "    1.09698187e-03  -7.43587181e-04  -1.55705443e-04   5.82123948e-03\n",
      "    4.68002036e-04   5.24031181e-04]\n",
      " [  1.72385823e-04   5.57826880e-06  -6.63233010e-06   1.76389829e-04\n",
      "    3.54974650e-05  -2.40618926e-05  -5.03850488e-06   1.88370702e-04\n",
      "    1.51441755e-05   1.69572342e-05]\n",
      " [ -2.04959590e-04  -6.63233010e-06   7.88556525e-06  -2.09720187e-04\n",
      "   -4.22050127e-05   2.86085918e-05   5.99057320e-06  -2.23964947e-04\n",
      "   -1.80057961e-05  -2.01614478e-05]\n",
      " [  5.45099332e-03   1.76389829e-04  -2.09720187e-04   5.57760356e-03\n",
      "    1.12246147e-03  -7.60858483e-04  -1.59322013e-04   5.95644943e-03\n",
      "    4.78872321e-04   5.36202855e-04]\n",
      " [  1.09698187e-03   3.54974650e-05  -4.22050127e-05   1.12246147e-03\n",
      "    2.25889083e-04  -1.53118507e-04  -3.20626627e-05   1.19870208e-03\n",
      "    9.63703719e-05   1.07907821e-04]\n",
      " [ -7.43587181e-04  -2.40618926e-05   2.86085918e-05  -7.60858483e-04\n",
      "   -1.53118507e-04   1.03791104e-04   2.17336180e-05  -8.12538042e-04\n",
      "   -6.53244828e-05  -7.31451216e-05]\n",
      " [ -1.55705443e-04  -5.03850488e-06   5.99057320e-06  -1.59322013e-04\n",
      "   -3.20626627e-05   2.17336180e-05   4.55096955e-06  -1.70143594e-04\n",
      "   -1.36787962e-05  -1.53164199e-05]\n",
      " [  5.82123948e-03   1.88370702e-04  -2.23964947e-04   5.95644943e-03\n",
      "    1.19870208e-03  -8.12538042e-04  -1.70143594e-04   6.36102754e-03\n",
      "    5.11398620e-04   5.72623198e-04]\n",
      " [  4.68002036e-04   1.51441755e-05  -1.80057961e-05   4.78872321e-04\n",
      "    9.63703719e-05  -6.53244828e-05  -1.36787962e-05   5.11398620e-04\n",
      "    4.11141985e-05   4.60363851e-05]\n",
      " [  5.24031181e-04   1.69572342e-05  -2.01614478e-05   5.36202855e-04\n",
      "    1.07907821e-04  -7.31451216e-05  -1.53164199e-05   5.72623198e-04\n",
      "    4.60363851e-05   5.15478553e-05]]\n",
      "\n",
      "Great Job!\n"
     ]
    }
   ],
   "source": [
    "import Tester.SmallPCA as pca\n",
    "pca.exercise(computeCov, sc)"
   ]
  },
  {
   "cell_type": "code",
   "execution_count": null,
   "metadata": {
    "collapsed": true,
    "deletable": false,
    "editable": false,
    "nbgrader": {
     "checksum": "fa10fc0547ac5fb00a6cac96f485105d",
     "grade": false,
     "grade_id": "7",
     "locked": true,
     "schema_version": 1,
     "solution": false
    }
   },
   "outputs": [],
   "source": [
    "\n",
    "\n",
    "\n",
    "\n",
    "\n",
    "\n",
    "\n",
    "\n",
    "\n"
   ]
  }
 ],
 "metadata": {
  "anaconda-cloud": {},
  "kernelspec": {
   "display_name": "Python 2",
   "language": "python",
   "name": "python2"
  },
  "language_info": {
   "codemirror_mode": {
    "name": "ipython",
    "version": 2
   },
   "file_extension": ".py",
   "mimetype": "text/x-python",
   "name": "python",
   "nbconvert_exporter": "python",
   "pygments_lexer": "ipython2",
   "version": "2.7.13"
  },
  "name": "PCA_using_numpy for HW3",
  "notebookId": 85286,
  "toc": {
   "colors": {
    "hover_highlight": "#DAA520",
    "running_highlight": "#FF0000",
    "selected_highlight": "#FFD700"
   },
   "moveMenuLeft": true,
   "nav_menu": {
    "height": "121px",
    "width": "252px"
   },
   "navigate_menu": true,
   "number_sections": true,
   "sideBar": true,
   "threshold": 4,
   "toc_cell": false,
   "toc_section_display": "block",
   "toc_window_display": true,
   "widenNotebook": false
  }
 },
 "nbformat": 4,
 "nbformat_minor": 0
}
