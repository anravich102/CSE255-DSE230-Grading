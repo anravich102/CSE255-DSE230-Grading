{
 "cells": [
  {
   "cell_type": "markdown",
   "metadata": {
    "deletable": true,
    "editable": true,
    "run_control": {
     "frozen": false,
     "read_only": false
    }
   },
   "source": [
    "## iPyLeaflet\n",
    "[ipyleaflet](https://github.com/ellisonbg/ipyleaflet) is a bridge between jupyter notebooks and the [leaflet](http://leafletjs.com/)  javascript library for drawing maps.\n",
    "\n",
    "ipyleaflet comes with a few examples notebooks (this notebook was derived from one) but very little documentation,\n",
    "for more documentation read the [Leaflet IPA](http://leafletjs.com/reference.html)\n",
    "\n",
    "For installation directions, see the README on [ipyleaflet](https://github.com/ellisonbg/ipyleaflet)"
   ]
  },
  {
   "cell_type": "code",
   "execution_count": 2,
   "metadata": {
    "collapsed": false,
    "deletable": true,
    "editable": true,
    "run_control": {
     "frozen": false,
     "read_only": false
    }
   },
   "outputs": [],
   "source": [
    "from ipyleaflet import (\n",
    "    Map,\n",
    "    Marker,\n",
    "    TileLayer, ImageOverlay,\n",
    "    Polyline, Polygon, Rectangle, Circle, CircleMarker,\n",
    "    GeoJSON,\n",
    "    DrawControl\n",
    ")"
   ]
  },
  {
   "cell_type": "markdown",
   "metadata": {
    "deletable": true,
    "editable": true,
    "run_control": {
     "frozen": false,
     "read_only": false
    }
   },
   "source": [
    "## Visualizing the distribution of the observations\n",
    "\n",
    "## Load the required libraries"
   ]
  },
  {
   "cell_type": "code",
   "execution_count": 3,
   "metadata": {
    "collapsed": false,
    "deletable": true,
    "editable": true,
    "run_control": {
     "frozen": false,
     "read_only": false
    }
   },
   "outputs": [],
   "source": [
    "import pandas as pd\n",
    "import numpy as np\n",
    "import sklearn as sk\n",
    "import urllib\n",
    "import math"
   ]
  },
  {
   "cell_type": "code",
   "execution_count": 4,
   "metadata": {
    "collapsed": false,
    "deletable": true,
    "editable": true,
    "run_control": {
     "frozen": false,
     "read_only": false
    }
   },
   "outputs": [],
   "source": [
    "import findspark\n",
    "findspark.init()\n",
    "\n",
    "from pyspark import SparkContext\n",
    "#sc.stop()\n",
    "sc = SparkContext(master=\"local[3]\",pyFiles=['lib/numpy_pack.py','lib/computeStats.py'])\n",
    "\n",
    "from pyspark import SparkContext\n",
    "from pyspark.sql import *\n",
    "sqlContext = SQLContext(sc)"
   ]
  },
  {
   "cell_type": "code",
   "execution_count": 5,
   "metadata": {
    "collapsed": false,
    "deletable": true,
    "editable": true,
    "run_control": {
     "frozen": false,
     "read_only": false
    }
   },
   "outputs": [],
   "source": [
    "import sys\n",
    "sys.path.append('./lib')\n",
    "\n",
    "import numpy as np\n",
    "from numpy_pack import packArray,unpackArray\n",
    "from computeStats import computeOverAllDist, STAT_Descriptions"
   ]
  },
  {
   "cell_type": "code",
   "execution_count": 7,
   "metadata": {
    "collapsed": false,
    "deletable": true,
    "editable": true,
    "run_control": {
     "frozen": false,
     "read_only": false
    }
   },
   "outputs": [
    {
     "name": "stdout",
     "output_type": "stream",
     "text": [
      "('keys from STAT=', ['TMIN', 'TOBS', 'TMAX', 'SNOW', 'SNWD', 'PRCP'])\n",
      "502\n",
      "+------------------+------------------+-----------------+---------+--------+--------+---------+-----------+-------------------+--------------------+--------------------+------------------+-----------+------------+------+--------------------+------+\n",
      "|           coeff_1|           coeff_2|          coeff_3|elevation|   label|latitude|longitude|measurement|              res_1|               res_2|               res_3|          res_mean|    station|   total_var|undefs|              vector|  year|\n",
      "+------------------+------------------+-----------------+---------+--------+--------+---------+-----------+-------------------+--------------------+--------------------+------------------+-----------+------------+------+--------------------+------+\n",
      "|-8864.636346120038|-2039.954886131682|698.3849072461769|   1797.4|SBSSBBBS|  43.465|-113.5581|       SNWD| 0.0848993837998154| 0.03534173056103785| 0.03086802364758516|0.7489632425394946|USC00102260|1.19756712E8|     3|[C2 61 F4 61 F4 6...|1993.0|\n",
      "|-6921.010051408701|-665.9582560930228|270.2309873078748|   1795.3|SBSSBBBS| 43.6842|-114.3603|       SNWD|0.04683451839223228|0.035402773398287006|0.031380495476320124|0.6814582884569895|USC00104845| 7.7694463E7|    22|[C2 61 C2 61 26 6...|1997.0|\n",
      "+------------------+------------------+-----------------+---------+--------+--------+---------+-----------+-------------------+--------------------+--------------------+------------------+-----------+------------+------+--------------------+------+\n",
      "only showing top 2 rows\n",
      "\n"
     ]
    }
   ],
   "source": [
    "### Read the data frame from pickle file\n",
    "\n",
    "data_dir='../../Data/Weather'\n",
    "file_index='SBSSBBBS'\n",
    "meas='SNWD'\n",
    "\n",
    "from pickle import load\n",
    "\n",
    "#read statistics\n",
    "filename=data_dir+'/STAT_%s.pickle'%file_index\n",
    "STAT,STAT_Descriptions = load(open(filename,'rb'))\n",
    "print('keys from STAT=',STAT.keys())\n",
    "\n",
    "#!ls -ld $data_dir/*.parquet\n",
    "\n",
    "#read data\n",
    "filename=data_dir+'/decon_%s_%s.parquet'%(file_index,meas)\n",
    "\n",
    "df=sqlContext.read.parquet(filename)\n",
    "print(df.count())\n",
    "df.show(2)"
   ]
  },
  {
   "cell_type": "code",
   "execution_count": 8,
   "metadata": {
    "collapsed": false,
    "deletable": true,
    "editable": true,
    "run_control": {
     "frozen": false,
     "read_only": false
    },
    "scrolled": true
   },
   "outputs": [
    {
     "name": "stdout",
     "output_type": "stream",
     "text": [
      "SELECT station, latitude,longitude,elevation,coeff_1 FROM weather\n",
      "+-----------+--------+---------+---------+------------------+\n",
      "|    station|latitude|longitude|elevation|           coeff_1|\n",
      "+-----------+--------+---------+---------+------------------+\n",
      "|USC00102260|  43.465|-113.5581|   1797.4|-8864.636346120038|\n",
      "|USC00104845| 43.6842|-114.3603|   1795.3|-6921.010051408701|\n",
      "|USC00104845| 43.6842|-114.3603|   1795.3| -5862.92682935591|\n",
      "|USC00104230| 42.9419|-111.4361|   2025.1| -6048.05803651344|\n",
      "+-----------+--------+---------+---------+------------------+\n",
      "only showing top 4 rows\n",
      "\n"
     ]
    }
   ],
   "source": [
    "#extract longitude and latitude for each station\n",
    "feature='coeff_1'\n",
    "sqlContext.registerDataFrameAsTable(df,'weather')\n",
    "Query=\"SELECT station, latitude,longitude,elevation,%s FROM weather\"%feature\n",
    "print(Query)\n",
    "df1 = sqlContext.sql(Query)\n",
    "df1.show(4)"
   ]
  },
  {
   "cell_type": "code",
   "execution_count": 20,
   "metadata": {
    "collapsed": false,
    "deletable": true,
    "editable": true,
    "run_control": {
     "frozen": false,
     "read_only": false
    }
   },
   "outputs": [
    {
     "data": {
      "text/html": [
       "<div>\n",
       "<table border=\"1\" class=\"dataframe\">\n",
       "  <thead>\n",
       "    <tr style=\"text-align: right;\">\n",
       "      <th></th>\n",
       "      <th>station</th>\n",
       "      <th>latitude</th>\n",
       "      <th>longitude</th>\n",
       "      <th>elevation</th>\n",
       "      <th>count(station)</th>\n",
       "      <th>avg(coeff_1)</th>\n",
       "    </tr>\n",
       "  </thead>\n",
       "  <tbody>\n",
       "    <tr>\n",
       "      <th>6</th>\n",
       "      <td>USC00103110</td>\n",
       "      <td>43.3167</td>\n",
       "      <td>-114.7500</td>\n",
       "      <td>1530.1</td>\n",
       "      <td>2</td>\n",
       "      <td>-786.945250</td>\n",
       "    </tr>\n",
       "    <tr>\n",
       "      <th>37</th>\n",
       "      <td>USW00024142</td>\n",
       "      <td>42.9167</td>\n",
       "      <td>-114.7167</td>\n",
       "      <td>1088.1</td>\n",
       "      <td>3</td>\n",
       "      <td>-1040.306787</td>\n",
       "    </tr>\n",
       "    <tr>\n",
       "      <th>22</th>\n",
       "      <td>USC00104670</td>\n",
       "      <td>42.7325</td>\n",
       "      <td>-114.5192</td>\n",
       "      <td>1140.0</td>\n",
       "      <td>1</td>\n",
       "      <td>631.051005</td>\n",
       "    </tr>\n",
       "    <tr>\n",
       "      <th>9</th>\n",
       "      <td>USC00108380</td>\n",
       "      <td>42.9383</td>\n",
       "      <td>-114.4169</td>\n",
       "      <td>1204.0</td>\n",
       "      <td>7</td>\n",
       "      <td>-360.847001</td>\n",
       "    </tr>\n",
       "    <tr>\n",
       "      <th>11</th>\n",
       "      <td>USC00105510</td>\n",
       "      <td>43.2833</td>\n",
       "      <td>-114.3833</td>\n",
       "      <td>1464.0</td>\n",
       "      <td>5</td>\n",
       "      <td>-670.928177</td>\n",
       "    </tr>\n",
       "    <tr>\n",
       "      <th>30</th>\n",
       "      <td>USC00104845</td>\n",
       "      <td>43.6842</td>\n",
       "      <td>-114.3603</td>\n",
       "      <td>1795.3</td>\n",
       "      <td>39</td>\n",
       "      <td>-4454.076258</td>\n",
       "    </tr>\n",
       "    <tr>\n",
       "      <th>31</th>\n",
       "      <td>USC00108906</td>\n",
       "      <td>43.7000</td>\n",
       "      <td>-114.3500</td>\n",
       "      <td>1822.7</td>\n",
       "      <td>24</td>\n",
       "      <td>-4635.460733</td>\n",
       "    </tr>\n",
       "    <tr>\n",
       "      <th>3</th>\n",
       "      <td>USC00103942</td>\n",
       "      <td>43.5667</td>\n",
       "      <td>-114.3333</td>\n",
       "      <td>1653.2</td>\n",
       "      <td>14</td>\n",
       "      <td>-3972.210464</td>\n",
       "    </tr>\n",
       "    <tr>\n",
       "      <th>32</th>\n",
       "      <td>USC00103940</td>\n",
       "      <td>43.5186</td>\n",
       "      <td>-114.3025</td>\n",
       "      <td>1619.1</td>\n",
       "      <td>4</td>\n",
       "      <td>-3687.738619</td>\n",
       "    </tr>\n",
       "    <tr>\n",
       "      <th>34</th>\n",
       "      <td>USC00102823</td>\n",
       "      <td>42.6833</td>\n",
       "      <td>-114.2500</td>\n",
       "      <td>1207.9</td>\n",
       "      <td>1</td>\n",
       "      <td>452.695503</td>\n",
       "    </tr>\n",
       "    <tr>\n",
       "      <th>38</th>\n",
       "      <td>USC00107673</td>\n",
       "      <td>43.0528</td>\n",
       "      <td>-114.1581</td>\n",
       "      <td>1305.2</td>\n",
       "      <td>29</td>\n",
       "      <td>-448.695100</td>\n",
       "    </tr>\n",
       "    <tr>\n",
       "      <th>40</th>\n",
       "      <td>USC00107040</td>\n",
       "      <td>43.3111</td>\n",
       "      <td>-114.0742</td>\n",
       "      <td>1472.2</td>\n",
       "      <td>38</td>\n",
       "      <td>-606.863803</td>\n",
       "    </tr>\n",
       "    <tr>\n",
       "      <th>25</th>\n",
       "      <td>USC00106877</td>\n",
       "      <td>42.6283</td>\n",
       "      <td>-113.7622</td>\n",
       "      <td>1264.9</td>\n",
       "      <td>2</td>\n",
       "      <td>701.717813</td>\n",
       "    </tr>\n",
       "    <tr>\n",
       "      <th>24</th>\n",
       "      <td>USC00107968</td>\n",
       "      <td>42.6042</td>\n",
       "      <td>-113.7575</td>\n",
       "      <td>1280.2</td>\n",
       "      <td>2</td>\n",
       "      <td>280.093377</td>\n",
       "    </tr>\n",
       "    <tr>\n",
       "      <th>5</th>\n",
       "      <td>USC00105972</td>\n",
       "      <td>42.7833</td>\n",
       "      <td>-113.6667</td>\n",
       "      <td>1307.6</td>\n",
       "      <td>1</td>\n",
       "      <td>266.930447</td>\n",
       "    </tr>\n",
       "    <tr>\n",
       "      <th>21</th>\n",
       "      <td>USC00102260</td>\n",
       "      <td>43.4650</td>\n",
       "      <td>-113.5581</td>\n",
       "      <td>1797.4</td>\n",
       "      <td>40</td>\n",
       "      <td>-3689.573272</td>\n",
       "    </tr>\n",
       "    <tr>\n",
       "      <th>20</th>\n",
       "      <td>USC00103882</td>\n",
       "      <td>43.7186</td>\n",
       "      <td>-113.5472</td>\n",
       "      <td>1829.1</td>\n",
       "      <td>11</td>\n",
       "      <td>-2312.850093</td>\n",
       "    </tr>\n",
       "    <tr>\n",
       "      <th>18</th>\n",
       "      <td>USC00105980</td>\n",
       "      <td>42.6767</td>\n",
       "      <td>-113.5003</td>\n",
       "      <td>1269.2</td>\n",
       "      <td>7</td>\n",
       "      <td>-16.409030</td>\n",
       "    </tr>\n",
       "    <tr>\n",
       "      <th>15</th>\n",
       "      <td>USC00100375</td>\n",
       "      <td>43.6356</td>\n",
       "      <td>-113.2989</td>\n",
       "      <td>1623.1</td>\n",
       "      <td>1</td>\n",
       "      <td>-369.763672</td>\n",
       "    </tr>\n",
       "    <tr>\n",
       "      <th>16</th>\n",
       "      <td>USC00105678</td>\n",
       "      <td>42.6681</td>\n",
       "      <td>-112.9981</td>\n",
       "      <td>1278.6</td>\n",
       "      <td>4</td>\n",
       "      <td>646.417444</td>\n",
       "    </tr>\n",
       "    <tr>\n",
       "      <th>10</th>\n",
       "      <td>USW00094143</td>\n",
       "      <td>43.5317</td>\n",
       "      <td>-112.9422</td>\n",
       "      <td>1505.1</td>\n",
       "      <td>29</td>\n",
       "      <td>-133.165848</td>\n",
       "    </tr>\n",
       "    <tr>\n",
       "      <th>2</th>\n",
       "      <td>USC00100227</td>\n",
       "      <td>42.8572</td>\n",
       "      <td>-112.8800</td>\n",
       "      <td>1345.7</td>\n",
       "      <td>10</td>\n",
       "      <td>271.211206</td>\n",
       "    </tr>\n",
       "    <tr>\n",
       "      <th>17</th>\n",
       "      <td>USC00100010</td>\n",
       "      <td>42.9536</td>\n",
       "      <td>-112.8253</td>\n",
       "      <td>1342.6</td>\n",
       "      <td>12</td>\n",
       "      <td>56.867813</td>\n",
       "    </tr>\n",
       "    <tr>\n",
       "      <th>12</th>\n",
       "      <td>USW00024156</td>\n",
       "      <td>42.9203</td>\n",
       "      <td>-112.5711</td>\n",
       "      <td>1364.9</td>\n",
       "      <td>8</td>\n",
       "      <td>350.279349</td>\n",
       "    </tr>\n",
       "    <tr>\n",
       "      <th>27</th>\n",
       "      <td>USC00103297</td>\n",
       "      <td>43.0428</td>\n",
       "      <td>-112.4133</td>\n",
       "      <td>1360.9</td>\n",
       "      <td>9</td>\n",
       "      <td>238.770100</td>\n",
       "    </tr>\n",
       "    <tr>\n",
       "      <th>14</th>\n",
       "      <td>USC00107208</td>\n",
       "      <td>42.8917</td>\n",
       "      <td>-112.4086</td>\n",
       "      <td>1472.8</td>\n",
       "      <td>6</td>\n",
       "      <td>238.409619</td>\n",
       "    </tr>\n",
       "    <tr>\n",
       "      <th>1</th>\n",
       "      <td>USC00100915</td>\n",
       "      <td>43.1969</td>\n",
       "      <td>-112.3531</td>\n",
       "      <td>1382.6</td>\n",
       "      <td>2</td>\n",
       "      <td>107.467547</td>\n",
       "    </tr>\n",
       "    <tr>\n",
       "      <th>13</th>\n",
       "      <td>USC00105716</td>\n",
       "      <td>42.6447</td>\n",
       "      <td>-112.1919</td>\n",
       "      <td>1455.7</td>\n",
       "      <td>15</td>\n",
       "      <td>-238.373730</td>\n",
       "    </tr>\n",
       "    <tr>\n",
       "      <th>4</th>\n",
       "      <td>USW00024145</td>\n",
       "      <td>43.5164</td>\n",
       "      <td>-112.0672</td>\n",
       "      <td>1441.4</td>\n",
       "      <td>16</td>\n",
       "      <td>-411.308928</td>\n",
       "    </tr>\n",
       "    <tr>\n",
       "      <th>7</th>\n",
       "      <td>USC00106930</td>\n",
       "      <td>42.7500</td>\n",
       "      <td>-112.0333</td>\n",
       "      <td>1615.1</td>\n",
       "      <td>1</td>\n",
       "      <td>769.438695</td>\n",
       "    </tr>\n",
       "    <tr>\n",
       "      <th>0</th>\n",
       "      <td>USC00104455</td>\n",
       "      <td>43.5133</td>\n",
       "      <td>-112.0128</td>\n",
       "      <td>1445.4</td>\n",
       "      <td>2</td>\n",
       "      <td>-84.095901</td>\n",
       "    </tr>\n",
       "    <tr>\n",
       "      <th>28</th>\n",
       "      <td>USC00107689</td>\n",
       "      <td>43.6758</td>\n",
       "      <td>-111.9125</td>\n",
       "      <td>1489.9</td>\n",
       "      <td>3</td>\n",
       "      <td>296.980330</td>\n",
       "    </tr>\n",
       "    <tr>\n",
       "      <th>39</th>\n",
       "      <td>USC00104456</td>\n",
       "      <td>43.3456</td>\n",
       "      <td>-111.7847</td>\n",
       "      <td>1776.4</td>\n",
       "      <td>45</td>\n",
       "      <td>-439.462862</td>\n",
       "    </tr>\n",
       "    <tr>\n",
       "      <th>29</th>\n",
       "      <td>USC00108535</td>\n",
       "      <td>42.6514</td>\n",
       "      <td>-111.5833</td>\n",
       "      <td>1780.6</td>\n",
       "      <td>21</td>\n",
       "      <td>-594.621734</td>\n",
       "    </tr>\n",
       "    <tr>\n",
       "      <th>23</th>\n",
       "      <td>USC00104230</td>\n",
       "      <td>42.9419</td>\n",
       "      <td>-111.4361</td>\n",
       "      <td>2025.1</td>\n",
       "      <td>6</td>\n",
       "      <td>-3838.725792</td>\n",
       "    </tr>\n",
       "    <tr>\n",
       "      <th>33</th>\n",
       "      <td>USC00109601</td>\n",
       "      <td>42.9728</td>\n",
       "      <td>-111.4097</td>\n",
       "      <td>1961.7</td>\n",
       "      <td>12</td>\n",
       "      <td>-3221.833493</td>\n",
       "    </tr>\n",
       "    <tr>\n",
       "      <th>35</th>\n",
       "      <td>USC00103825</td>\n",
       "      <td>43.0500</td>\n",
       "      <td>-111.3667</td>\n",
       "      <td>1966.0</td>\n",
       "      <td>5</td>\n",
       "      <td>-4014.548801</td>\n",
       "    </tr>\n",
       "    <tr>\n",
       "      <th>8</th>\n",
       "      <td>USC00108937</td>\n",
       "      <td>43.4447</td>\n",
       "      <td>-111.2939</td>\n",
       "      <td>1633.7</td>\n",
       "      <td>17</td>\n",
       "      <td>-1071.314912</td>\n",
       "    </tr>\n",
       "    <tr>\n",
       "      <th>26</th>\n",
       "      <td>USC00106764</td>\n",
       "      <td>43.3500</td>\n",
       "      <td>-111.2167</td>\n",
       "      <td>1641.3</td>\n",
       "      <td>33</td>\n",
       "      <td>-1398.450867</td>\n",
       "    </tr>\n",
       "    <tr>\n",
       "      <th>19</th>\n",
       "      <td>USC00102676</td>\n",
       "      <td>43.7306</td>\n",
       "      <td>-111.1125</td>\n",
       "      <td>1865.4</td>\n",
       "      <td>13</td>\n",
       "      <td>-1481.689296</td>\n",
       "    </tr>\n",
       "    <tr>\n",
       "      <th>36</th>\n",
       "      <td>USC00480124</td>\n",
       "      <td>43.1833</td>\n",
       "      <td>-111.0500</td>\n",
       "      <td>1713.9</td>\n",
       "      <td>2</td>\n",
       "      <td>-4236.961424</td>\n",
       "    </tr>\n",
       "  </tbody>\n",
       "</table>\n",
       "</div>"
      ],
      "text/plain": [
       "        station  latitude  longitude  elevation  count(station)  avg(coeff_1)\n",
       "6   USC00103110   43.3167  -114.7500     1530.1               2   -786.945250\n",
       "37  USW00024142   42.9167  -114.7167     1088.1               3  -1040.306787\n",
       "22  USC00104670   42.7325  -114.5192     1140.0               1    631.051005\n",
       "9   USC00108380   42.9383  -114.4169     1204.0               7   -360.847001\n",
       "11  USC00105510   43.2833  -114.3833     1464.0               5   -670.928177\n",
       "30  USC00104845   43.6842  -114.3603     1795.3              39  -4454.076258\n",
       "31  USC00108906   43.7000  -114.3500     1822.7              24  -4635.460733\n",
       "3   USC00103942   43.5667  -114.3333     1653.2              14  -3972.210464\n",
       "32  USC00103940   43.5186  -114.3025     1619.1               4  -3687.738619\n",
       "34  USC00102823   42.6833  -114.2500     1207.9               1    452.695503\n",
       "38  USC00107673   43.0528  -114.1581     1305.2              29   -448.695100\n",
       "40  USC00107040   43.3111  -114.0742     1472.2              38   -606.863803\n",
       "25  USC00106877   42.6283  -113.7622     1264.9               2    701.717813\n",
       "24  USC00107968   42.6042  -113.7575     1280.2               2    280.093377\n",
       "5   USC00105972   42.7833  -113.6667     1307.6               1    266.930447\n",
       "21  USC00102260   43.4650  -113.5581     1797.4              40  -3689.573272\n",
       "20  USC00103882   43.7186  -113.5472     1829.1              11  -2312.850093\n",
       "18  USC00105980   42.6767  -113.5003     1269.2               7    -16.409030\n",
       "15  USC00100375   43.6356  -113.2989     1623.1               1   -369.763672\n",
       "16  USC00105678   42.6681  -112.9981     1278.6               4    646.417444\n",
       "10  USW00094143   43.5317  -112.9422     1505.1              29   -133.165848\n",
       "2   USC00100227   42.8572  -112.8800     1345.7              10    271.211206\n",
       "17  USC00100010   42.9536  -112.8253     1342.6              12     56.867813\n",
       "12  USW00024156   42.9203  -112.5711     1364.9               8    350.279349\n",
       "27  USC00103297   43.0428  -112.4133     1360.9               9    238.770100\n",
       "14  USC00107208   42.8917  -112.4086     1472.8               6    238.409619\n",
       "1   USC00100915   43.1969  -112.3531     1382.6               2    107.467547\n",
       "13  USC00105716   42.6447  -112.1919     1455.7              15   -238.373730\n",
       "4   USW00024145   43.5164  -112.0672     1441.4              16   -411.308928\n",
       "7   USC00106930   42.7500  -112.0333     1615.1               1    769.438695\n",
       "0   USC00104455   43.5133  -112.0128     1445.4               2    -84.095901\n",
       "28  USC00107689   43.6758  -111.9125     1489.9               3    296.980330\n",
       "39  USC00104456   43.3456  -111.7847     1776.4              45   -439.462862\n",
       "29  USC00108535   42.6514  -111.5833     1780.6              21   -594.621734\n",
       "23  USC00104230   42.9419  -111.4361     2025.1               6  -3838.725792\n",
       "33  USC00109601   42.9728  -111.4097     1961.7              12  -3221.833493\n",
       "35  USC00103825   43.0500  -111.3667     1966.0               5  -4014.548801\n",
       "8   USC00108937   43.4447  -111.2939     1633.7              17  -1071.314912\n",
       "26  USC00106764   43.3500  -111.2167     1641.3              33  -1398.450867\n",
       "19  USC00102676   43.7306  -111.1125     1865.4              13  -1481.689296\n",
       "36  USC00480124   43.1833  -111.0500     1713.9               2  -4236.961424"
      ]
     },
     "execution_count": 20,
     "metadata": {},
     "output_type": "execute_result"
    }
   ],
   "source": [
    "df2=df1.groupby(['station','latitude','longitude','elevation']).agg({\"station\": \"count\", feature: \"mean\"})\n",
    "pdf=df2.toPandas()\n",
    "pdf.sort_values(by=['longitude'],inplace=True)\n",
    "pdf.head(150)"
   ]
  },
  {
   "cell_type": "code",
   "execution_count": 10,
   "metadata": {
    "collapsed": false,
    "deletable": true,
    "editable": true,
    "run_control": {
     "frozen": false,
     "read_only": false
    }
   },
   "outputs": [
    {
     "data": {
      "text/plain": [
       "u'#800000'"
      ]
     },
     "execution_count": 10,
     "metadata": {},
     "output_type": "execute_result"
    }
   ],
   "source": [
    "#define a mapping from the range of the value to hex colors.\n",
    "from matplotlib.colors import rgb2hex\n",
    "_avg='avg(%s)'%feature\n",
    "_min=pdf[_avg].min()\n",
    "_max=pdf[_avg].max()\n",
    "_min,_max\n",
    "\n",
    "import pylab as plt\n",
    "cmap=plt.get_cmap('jet')\n",
    "def get_color(val):\n",
    "    x=(val-_min)/(_max-_min)\n",
    "    return(rgb2hex(cmap(x)[:3]))\n",
    "\n",
    "get_color(1000.)"
   ]
  },
  {
   "cell_type": "markdown",
   "metadata": {
    "deletable": true,
    "editable": true,
    "run_control": {
     "frozen": false,
     "read_only": false
    }
   },
   "source": [
    "## Map"
   ]
  },
  {
   "cell_type": "code",
   "execution_count": 22,
   "metadata": {
    "collapsed": true,
    "deletable": true,
    "editable": true,
    "run_control": {
     "frozen": false,
     "read_only": false
    }
   },
   "outputs": [],
   "source": [
    "min_lat,max_lat,min_long,max_long = box = (42.6042, 43.7306, -114.7500, -111.0500)\n"
   ]
  },
  {
   "cell_type": "code",
   "execution_count": 32,
   "metadata": {
    "collapsed": false,
    "deletable": true,
    "editable": true,
    "run_control": {
     "frozen": false,
     "read_only": false
    }
   },
   "outputs": [
    {
     "data": {
      "application/vnd.jupyter.widget-view+json": {
       "model_id": "7d2e40bdca164f929a1c7f84f3a26e7b"
      }
     },
     "metadata": {},
     "output_type": "display_data"
    }
   ],
   "source": [
    "center = [(min_lat+max_lat)/2, (min_long+max_long)/2]\n",
    "zoom = 8\n",
    "\n",
    "m = Map(default_tiles=TileLayer(opacity=1.0), center=center, zoom=zoom)\n",
    "\n",
    "r = Rectangle(bounds=[[min_lat,min_long],[max_lat,max_long]], weight=5, fill_opacity=0.0)\n",
    "m += r\n",
    "\n",
    "lat_margin=(max_lat-min_lat)/4\n",
    "long_margin=(max_long-min_long)/4\n",
    "circles = []\n",
    "for index,row in pdf.iterrows():\n",
    "    _lat=row['latitude']\n",
    "    _long=row['longitude']\n",
    "    _count=row['count(station)']\n",
    "    _coef=row[_avg]\n",
    "    # taking sqrt of count so that the  area of the circle corresponds to the count\n",
    "    c = Circle(location=(_lat,_long), radius=int(900*np.sqrt(_count+0.0)), weight=1,\n",
    "            color='#F00', opacity=0.8, fill_opacity=0.4,\n",
    "            fill_color=get_color(_coef))\n",
    "    circles.append(c)\n",
    "    m.add_layer(c)\n",
    "m    "
   ]
  },
  {
   "cell_type": "markdown",
   "metadata": {
    "deletable": true,
    "editable": true,
    "run_control": {
     "frozen": false,
     "read_only": false
    }
   },
   "source": [
    "### excercises:\n",
    "* Add a legend that relates the colors to values.\n",
    "* Leaflet supports a variety of maps. See if you can get a topographical map as the background."
   ]
  },
  {
   "cell_type": "code",
   "execution_count": 13,
   "metadata": {
    "collapsed": false,
    "deletable": true,
    "editable": true,
    "run_control": {
     "frozen": false,
     "read_only": false
    }
   },
   "outputs": [
    {
     "data": {
      "image/png": "[encoded data removed]",
      "text/plain": [
       "<matplotlib.figure.Figure at 0x10c0e0290>"
      ]
     },
     "metadata": {},
     "output_type": "display_data"
    }
   ],
   "source": [
    "%matplotlib inline\n",
    "pdf.plot.scatter(x='elevation',y='avg(coeff_1)');"
   ]
  },
  {
   "cell_type": "code",
   "execution_count": null,
   "metadata": {
    "collapsed": true,
    "deletable": true,
    "editable": true,
    "run_control": {
     "frozen": false,
     "read_only": false
    }
   },
   "outputs": [],
   "source": []
  },
  {
   "cell_type": "code",
   "execution_count": 14,
   "metadata": {
    "collapsed": false
   },
   "outputs": [
    {
     "data": {
      "text/plain": [
       "['spark big  data analysis', 'spring', 'spark  basics']"
      ]
     },
     "execution_count": 14,
     "metadata": {},
     "output_type": "execute_result"
    }
   ],
   "source": [
    "RDD1=sc.parallelize([\"spark  basics\", \"spark big  data analysis\", \"spring\"]) \n",
    "RDD2=sc.parallelize([\"spark using pyspark\", \"big data\"])\n",
    " \n",
    "RDD1.subtract(RDD2).collect()"
   ]
  },
  {
   "cell_type": "code",
   "execution_count": null,
   "metadata": {
    "collapsed": true
   },
   "outputs": [],
   "source": []
  }
 ],
 "metadata": {
  "anaconda-cloud": {},
  "hide_input": false,
  "kernelspec": {
   "display_name": "Python 2",
   "language": "python",
   "name": "python2"
  },
  "language_info": {
   "codemirror_mode": {
    "name": "ipython",
    "version": 2
   },
   "file_extension": ".py",
   "mimetype": "text/x-python",
   "name": "python",
   "nbconvert_exporter": "python",
   "pygments_lexer": "ipython2",
   "version": "2.7.13"
  },
  "toc": {
   "colors": {
    "hover_highlight": "#DAA520",
    "running_highlight": "#FF0000",
    "selected_highlight": "#FFD700"
   },
   "moveMenuLeft": true,
   "nav_menu": {
    "height": "174px",
    "width": "252px"
   },
   "navigate_menu": true,
   "number_sections": true,
   "sideBar": true,
   "threshold": 4,
   "toc_cell": false,
   "toc_section_display": "block",
   "toc_window_display": false
  }
 },
 "nbformat": 4,
 "nbformat_minor": 1
}
