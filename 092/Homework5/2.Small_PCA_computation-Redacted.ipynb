{
 "cells": [
  {
   "cell_type": "markdown",
   "metadata": {
    "deletable": true,
    "editable": true,
    "run_control": {
     "frozen": false,
     "read_only": false
    },
    "slideshow": {
     "slide_type": "slide"
    }
   },
   "source": [
    "### Computing PCA using RDDs"
   ]
  },
  {
   "cell_type": "markdown",
   "metadata": {
    "deletable": true,
    "editable": true,
    "run_control": {
     "frozen": false,
     "read_only": false
    },
    "slideshow": {
     "slide_type": "subslide"
    }
   },
   "source": [
    "###  PCA\n",
    "\n",
    "The vectors that we want to analyze have length, or dimension, of 365, corresponding to the number of \n",
    "days in a year.\n",
    "\n",
    "We want to perform [Principle component analysis (PCA)](https://en.wikipedia.org/wiki/Principal_component_analysis)\n",
    "on these vectors. There are two steps to this process:\n",
    "\n",
    "1. Computing the covariance matrix: this is a  simple computation. However, it takes a long time to compute and it benefits from using an RDD because it involves all of the input vectors.\n",
    "2. Computing the eigenvector decomposition. this is a more complex computation, but it takes a fraction of a second because the size to the covariance matrix is $365 \\times 365$, which is quite small. We do it on the head node usin `linalg`"
   ]
  },
  {
   "cell_type": "markdown",
   "metadata": {
    "deletable": true,
    "editable": true,
    "run_control": {
     "frozen": false,
     "read_only": false
    },
    "slideshow": {
     "slide_type": "slide"
    }
   },
   "source": [
    "### Computing the covariance matrix\n",
    "Suppose that the data vectors are the column vectors denoted $x$ then the covariance matrix is defined to be\n",
    "$$\n",
    "E(x x^T)-E(x)E(x)^T\n",
    "$$\n",
    "\n",
    "Where $x x^T$ is the **outer product** of $x$ with itself.\n",
    "\n",
    "If the data that we have is $x_1,x_2,x_n$ then the estimates we use are:\n",
    "$$\n",
    "\\hat{E}(x x^T) = \\frac{1}{n} \\sum_{i=1}^n x_i x_i^T,\\;\\;\\;\\;\\;\n",
    "\\hat{E}(x) = \\frac{1}{n} \\sum_{i=1}^n x_i\n",
    "$$"
   ]
  },
  {
   "cell_type": "markdown",
   "metadata": {
    "deletable": true,
    "editable": true,
    "run_control": {
     "frozen": false,
     "read_only": false
    },
    "slideshow": {
     "slide_type": "slide"
    }
   },
   "source": [
    "### `nan`s in arithmetic operations\n",
    "* We store all of the measurements as single `bytearray` in a single column. Instead of using 365 columns.\n",
    "* Why?\n",
    "  1. Because serializing and desirializing is faster that way.\n",
    "  1. Because numpy treats `nan` entries correctly:\n",
    "      * In `numpy.nansum` `5+nan=5` while in dataframes `5+nan=nan`"
   ]
  },
  {
   "cell_type": "code",
   "execution_count": 1,
   "metadata": {
    "collapsed": false,
    "deletable": true,
    "editable": true,
    "run_control": {
     "frozen": false,
     "read_only": false
    },
    "slideshow": {
     "slide_type": "subslide"
    }
   },
   "outputs": [
    {
     "name": "stdout",
     "output_type": "stream",
     "text": [
      "mean of [1 1 1 2] = 1.25\n",
      "nanmean of [1 1 1 2] = 1.25\n",
      "mean of [  1.   1.  nan   2.] = nan\n",
      "nanmean of [  1.   1.  nan   2.] = 1.33333333333\n"
     ]
    }
   ],
   "source": [
    "import numpy as np\n",
    "X=np.array([1,1,1,2])\n",
    "print 'mean of',X,'=',np.mean(X)\n",
    "print 'nanmean of',X,'=',np.nanmean(X)\n",
    "X=np.array([1,1,np.NaN,2])\n",
    "print 'mean of',X,'=',np.mean(X)\n",
    "print 'nanmean of',X,'=',np.nanmean(X)"
   ]
  },
  {
   "cell_type": "markdown",
   "metadata": {
    "deletable": true,
    "editable": true,
    "run_control": {
     "frozen": false,
     "read_only": false
    },
    "slideshow": {
     "slide_type": "subslide"
    }
   },
   "source": [
    "#### When should you not use `np.nanmean` ?\n",
    "Using `n.nanmean` is equivalent to assuming that choice of which elements to remove is independent of the values of the elements. \n",
    "* Example of bad case: suppose the larger elements have a higher probability of being `nan`. In that case `np.nanmean` will under-estimate the mean"
   ]
  },
  {
   "cell_type": "markdown",
   "metadata": {
    "deletable": true,
    "editable": true,
    "run_control": {
     "frozen": false,
     "read_only": false
    },
    "slideshow": {
     "slide_type": "subslide"
    }
   },
   "source": [
    "#### Computing Cov matrix on vectors with NaNs\n",
    "As it happens, we often get vectors $x$ in which some, but not all, of the entries are `nan`. \n",
    "Suppose that we want to compute the mean of the elements of $x$. If we use `np.mean` we will get the result `nan`. A useful alternative is to use `np.nanmean` which removes the `nan` elements and takes the mean of the rest."
   ]
  },
  {
   "cell_type": "markdown",
   "metadata": {
    "deletable": true,
    "editable": true,
    "run_control": {
     "frozen": false,
     "read_only": false
    },
    "slideshow": {
     "slide_type": "subslide"
    }
   },
   "source": [
    "#### Computing the covariance  when there are `nan`s\n",
    "The covariance is a mean of outer products.\n",
    "\n",
    "If the data that we have is $x_1,x_2,x_n$ then the estimates we use are:\n",
    "$$\n",
    "\\hat{E}(x x^T) = \\frac{1}{n} \\sum_{i=1}^n x_i x_i^T,\\;\\;\\;\\;\\;\n",
    "\\hat{E}(x) = \\frac{1}{n} \\sum_{i=1}^n x_i\n",
    "$$"
   ]
  },
  {
   "cell_type": "code",
   "execution_count": 2,
   "metadata": {
    "collapsed": false,
    "deletable": true,
    "editable": true,
    "run_control": {
     "frozen": false,
     "read_only": false
    },
    "slideshow": {
     "slide_type": "subslide"
    }
   },
   "outputs": [
    {
     "data": {
      "text/plain": [
       "array([[[  1.,  nan,   3.,   4.,   5.],\n",
       "        [ nan,  nan,  nan,  nan,  nan],\n",
       "        [  3.,  nan,   9.,  12.,  15.],\n",
       "        [  4.,  nan,  12.,  16.,  20.],\n",
       "        [  5.,  nan,  15.,  20.,  25.]],\n",
       "\n",
       "       [[  4.,   6.,   8.,  nan,  12.],\n",
       "        [  6.,   9.,  12.,  nan,  18.],\n",
       "        [  8.,  12.,  16.,  nan,  24.],\n",
       "        [ nan,  nan,  nan,  nan,  nan],\n",
       "        [ 12.,  18.,  24.,  nan,  36.]]])"
      ]
     },
     "execution_count": 2,
     "metadata": {},
     "output_type": "execute_result"
    }
   ],
   "source": [
    "x1=np.array([1,np.NaN,3,4,5])\n",
    "x2=np.array([2,3,4,np.NaN,6])\n",
    "stacked=np.array([np.outer(x1,x1),np.outer(x2,x2)])\n",
    "stacked"
   ]
  },
  {
   "cell_type": "code",
   "execution_count": 3,
   "metadata": {
    "collapsed": false,
    "deletable": true,
    "editable": true,
    "run_control": {
     "frozen": false,
     "read_only": false
    },
    "slideshow": {
     "slide_type": "subslide"
    }
   },
   "outputs": [
    {
     "name": "stderr",
     "output_type": "stream",
     "text": [
      "/Users/ashwinramesh/anaconda/lib/python2.7/site-packages/numpy/lib/nanfunctions.py:703: RuntimeWarning: Mean of empty slice\n",
      "  warnings.warn(\"Mean of empty slice\", RuntimeWarning)\n"
     ]
    },
    {
     "data": {
      "text/plain": [
       "array([[  2.5,   6. ,   5.5,   4. ,   8.5],\n",
       "       [  6. ,   9. ,  12. ,   nan,  18. ],\n",
       "       [  5.5,  12. ,  12.5,  12. ,  19.5],\n",
       "       [  4. ,   nan,  12. ,  16. ,  20. ],\n",
       "       [  8.5,  18. ,  19.5,  20. ,  30.5]])"
      ]
     },
     "execution_count": 3,
     "metadata": {},
     "output_type": "execute_result"
    }
   ],
   "source": [
    "np.nanmean(stacked,axis=0)"
   ]
  },
  {
   "cell_type": "markdown",
   "metadata": {
    "deletable": true,
    "editable": true,
    "run_control": {
     "frozen": false,
     "read_only": false
    },
    "slideshow": {
     "slide_type": "slide"
    }
   },
   "source": [
    "### Loading Data into Dataframe"
   ]
  },
  {
   "cell_type": "code",
   "execution_count": 4,
   "metadata": {
    "collapsed": true,
    "deletable": true,
    "editable": true,
    "run_control": {
     "frozen": false,
     "read_only": false
    },
    "slideshow": {
     "slide_type": "skip"
    }
   },
   "outputs": [],
   "source": [
    "import findspark\n",
    "findspark.init()\n",
    "\n",
    "from pyspark import SparkContext\n",
    "#sc.stop()\n",
    "## add after creating spark_PCA.py\n",
    "sc = SparkContext(master=\"local[3]\",pyFiles=['lib/numpy_pack.py','lib/computeStats.py']) #,'lib/spark_PCA.py'\n",
    "\n",
    "from pyspark import SparkContext\n",
    "from pyspark.sql import *\n",
    "sqlContext = SQLContext(sc)"
   ]
  },
  {
   "cell_type": "code",
   "execution_count": 5,
   "metadata": {
    "collapsed": false,
    "deletable": true,
    "editable": true,
    "run_control": {
     "frozen": false,
     "read_only": false
    },
    "slideshow": {
     "slide_type": "skip"
    }
   },
   "outputs": [],
   "source": [
    "import sys\n",
    "sys.path.append('./lib')\n",
    "\n",
    "import numpy as np\n",
    "from numpy_pack import packArray,unpackArray\n",
    "# add after creating spark_PCA.py\n",
    "# from spark_PCA import computeCov\n",
    "from computeStats import computeOverAllDist, STAT_Descriptions"
   ]
  },
  {
   "cell_type": "markdown",
   "metadata": {
    "deletable": true,
    "editable": true,
    "run_control": {
     "frozen": false,
     "read_only": false
    },
    "slideshow": {
     "slide_type": "slide"
    }
   },
   "source": [
    "### Climate data\n",
    "\n",
    "The data we will use here comes from [NOAA](https://www.ncdc.noaa.gov/). Specifically, it was downloaded from This [FTP site](ftp://ftp.ncdc.noaa.gov/pub/data/ghcn/daily/).\n",
    "\n",
    "There is a large variety of measurements from all over the world, from 1870 will 2012.\n",
    "in the directory `../../Data/Weather` you will find the following useful files:\n",
    "\n",
    "* data-source.txt: the source of the data\n",
    "* ghcnd-readme.txt: A description of the content and format of the data\n",
    "* ghcnd-stations.txt: A table describing the Meteorological stations.\n",
    "\n"
   ]
  },
  {
   "cell_type": "markdown",
   "metadata": {
    "deletable": true,
    "editable": true,
    "run_control": {
     "frozen": false,
     "read_only": false
    },
    "slideshow": {
     "slide_type": "subslide"
    }
   },
   "source": [
    "### Data cleaning\n",
    "\n",
    "* Most measurements exists only for a tiny fraction of the stations and years. We therefor restrict our use to the following measurements:\n",
    "```python\n",
    "['TMAX', 'SNOW', 'SNWD', 'TMIN', 'PRCP', 'TOBS']\n",
    "```\n",
    "\n",
    "* We consider only measurement-years that have at most 50 `NaN` entries\n",
    "\n",
    "* We consider only measurements in the continential USA\n",
    "\n",
    "* We partition the stations into 256 geographical rectangles, indexed from BBBBBBBB to SSSSSSSS. And each containing about 12,000 station,year pairs."
   ]
  },
  {
   "cell_type": "code",
   "execution_count": 6,
   "metadata": {
    "collapsed": false,
    "deletable": true,
    "editable": true,
    "run_control": {
     "frozen": false,
     "read_only": false
    },
    "scrolled": true,
    "slideshow": {
     "slide_type": "skip"
    }
   },
   "outputs": [
    {
     "name": "stdout",
     "output_type": "stream",
     "text": [
      "../../Data/Weather/US_Weather_BBBSBBBB.csv*\n",
      "curl https://mas-dse-open.s3.amazonaws.com/Weather/small/US_Weather_BBBSBBBB.csv.gz > ../../Data/Weather/US_Weather_BBBSBBBB.csv.gz\n",
      "  % Total    % Received % Xferd  Average Speed   Time    Time     Time  Current\n",
      "                                 Dload  Upload   Total   Spent    Left  Speed\n",
      "100 3732k  100 3732k    0     0  3040k      0  0:00:01  0:00:01 --:--:-- 3062k\n",
      "-rw-r--r--  1 ashwinramesh  staff   3.6M May  8 20:00 ../../Data/Weather/US_Weather_BBBSBBBB.csv.gz\n"
     ]
    }
   ],
   "source": [
    "file_index='BBBSBBBB'\n",
    "filename='US_Weather_%s.csv.gz'%file_index\n",
    "data_dir='../../Data/Weather'\n",
    "del_files='%s/%s*'%(data_dir,filename[:-3])\n",
    "print del_files\n",
    "!rm $del_files\n",
    "command=\"curl https://mas-dse-open.s3.amazonaws.com/Weather/small/%s > %s/%s\"%(filename,data_dir,filename)\n",
    "print command\n",
    "!$command\n",
    "!ls -lh $data_dir/$filename"
   ]
  },
  {
   "cell_type": "code",
   "execution_count": 7,
   "metadata": {
    "collapsed": false,
    "deletable": true,
    "editable": true,
    "run_control": {
     "frozen": false,
     "read_only": false
    },
    "slideshow": {
     "slide_type": "skip"
    }
   },
   "outputs": [
    {
     "name": "stdout",
     "output_type": "stream",
     "text": [
      "-rw-r--r--  1 ashwinramesh  staff    13M May  8 20:00 ../../Data/Weather/US_Weather_BBBSBBBB.csv\r\n"
     ]
    }
   ],
   "source": [
    "!gunzip $data_dir/$filename\n",
    "filename=data_dir+'/US_Weather_BBBSBBBB.csv'\n",
    "!ls -lh $filename"
   ]
  },
  {
   "cell_type": "code",
   "execution_count": 8,
   "metadata": {
    "collapsed": false,
    "deletable": true,
    "editable": true,
    "run_control": {
     "frozen": false,
     "read_only": false
    },
    "scrolled": true,
    "slideshow": {
     "slide_type": "subslide"
    }
   },
   "outputs": [
    {
     "data": {
      "text/plain": [
       "13047"
      ]
     },
     "execution_count": 8,
     "metadata": {},
     "output_type": "execute_result"
    }
   ],
   "source": [
    "import pickle\n",
    "List=pickle.load(open(filename,'rb'))\n",
    "len(List)"
   ]
  },
  {
   "cell_type": "code",
   "execution_count": 9,
   "metadata": {
    "collapsed": false,
    "deletable": true,
    "editable": true,
    "run_control": {
     "frozen": false,
     "read_only": false
    },
    "slideshow": {
     "slide_type": "subslide"
    }
   },
   "outputs": [
    {
     "name": "stdout",
     "output_type": "stream",
     "text": [
      "13047\n",
      "+---------+--------+---------+-----------+-----------+------+--------------------+------+--------+\n",
      "|elevation|latitude|longitude|measurement|    station|undefs|              vector|  year|   label|\n",
      "+---------+--------+---------+-----------+-----------+------+--------------------+------+--------+\n",
      "|      6.1| 42.4667|    -70.9|       TMAX|USC00198301|     0|[80 4D 00 46 E0 5...|1931.0|BBBSBBBB|\n",
      "|      6.1| 42.4667|    -70.9|       TMAX|USC00198301|     0|[00 4F 80 51 00 4...|1932.0|BBBSBBBB|\n",
      "|      6.1| 42.4667|    -70.9|       TMAX|USC00198301|     2|[20 D0 00 53 A0 5...|1933.0|BBBSBBBB|\n",
      "|      6.1| 42.4667|    -70.9|       TMAX|USC00198301|     2|[30 55 80 C9 A0 D...|1934.0|BBBSBBBB|\n",
      "|      6.1| 42.4667|    -70.9|       TMAX|USC00198301|     1|[E0 50 00 CF 00 5...|1935.0|BBBSBBBB|\n",
      "+---------+--------+---------+-----------+-----------+------+--------------------+------+--------+\n",
      "only showing top 5 rows\n",
      "\n"
     ]
    }
   ],
   "source": [
    "df=sqlContext.createDataFrame(List)\n",
    "print df.count()\n",
    "df.show(5)"
   ]
  },
  {
   "cell_type": "code",
   "execution_count": 10,
   "metadata": {
    "collapsed": false,
    "deletable": true,
    "editable": true,
    "run_control": {
     "frozen": false,
     "read_only": false
    },
    "slideshow": {
     "slide_type": "subslide"
    }
   },
   "outputs": [],
   "source": [
    "sqlContext.registerDataFrameAsTable(df,'weather') #using older sqlContext instead of newer (V2.0) sparkSession"
   ]
  },
  {
   "cell_type": "code",
   "execution_count": 11,
   "metadata": {
    "collapsed": false,
    "deletable": true,
    "editable": true,
    "run_control": {
     "frozen": false,
     "read_only": false
    },
    "slideshow": {
     "slide_type": "skip"
    }
   },
   "outputs": [
    {
     "name": "stdout",
     "output_type": "stream",
     "text": [
      "Number of executors= 3\n",
      "took 0.00187683105469 seconds\n"
     ]
    }
   ],
   "source": [
    "from time import time\n",
    "t=time()\n",
    "\n",
    "N=sc.defaultParallelism\n",
    "print 'Number of executors=',N\n",
    "print 'took',time()-t,'seconds'"
   ]
  },
  {
   "cell_type": "markdown",
   "metadata": {
    "deletable": true,
    "editable": true,
    "run_control": {
     "frozen": false,
     "read_only": false
    },
    "slideshow": {
     "slide_type": "slide"
    }
   },
   "source": [
    "### Computing PCA for each measurement"
   ]
  },
  {
   "cell_type": "code",
   "execution_count": 12,
   "metadata": {
    "collapsed": false,
    "deletable": true,
    "editable": true,
    "run_control": {
     "frozen": false,
     "read_only": false
    },
    "slideshow": {
     "slide_type": "fragment"
    }
   },
   "outputs": [],
   "source": [
    "measurements=['TMAX', 'SNOW', 'SNWD', 'TMIN', 'PRCP', 'TOBS']"
   ]
  },
  {
   "cell_type": "markdown",
   "metadata": {
    "deletable": true,
    "editable": true,
    "run_control": {
     "frozen": false,
     "read_only": false
    },
    "slideshow": {
     "slide_type": "subslide"
    }
   },
   "source": [
    "#### Homework\n",
    "The code below computes the covariance matrix using RDDs.\n",
    "The code allows undefined entries and calculates the covariance without bias.\n",
    "\n",
    "Your homework is to complete the missing parts in the code (Marked with `...`) so that it would calculate the covariance correctly."
   ]
  },
  {
   "cell_type": "code",
   "execution_count": 13,
   "metadata": {
    "collapsed": true,
    "deletable": true,
    "editable": true,
    "run_control": {
     "frozen": false,
     "read_only": false
    },
    "slideshow": {
     "slide_type": "subslide"
    }
   },
   "outputs": [],
   "source": [
    "#%%writefile lib/spark_PCA.py #once this works correctly, you should add it to the `lib` directory\n",
    "# and use import\n",
    "\n",
    "import numpy as np\n",
    "from numpy import linalg as LA\n",
    "\n",
    "def outerProduct(X):\n",
    "    \"\"\"Computer outer product and indicate which locations in matrix are undefined\"\"\"\n",
    "    O=np.outer(X,X)\n",
    "    N=1-np.isnan(O)\n",
    "    return (O,N)\n",
    "\n",
    "def sumWithNan(M1,M2):\n",
    "    \"\"\"Add two pairs of (matrix,count)\"\"\"\n",
    "    (X1,N1)=M1\n",
    "    (X2,N2)=M2\n",
    "    N=N1+N2\n",
    "    X=np.nansum(np.dstack((X1,X2)),axis=2)\n",
    "    return (X,N)\n",
    "\n",
    "def computeCov(RDDin):\n",
    "    \"\"\"computeCov recieves as input an RDD of np arrays, all of the same length, \n",
    "    and computes the covariance matrix for that set of vectors\"\"\"\n",
    "    RDD=RDDin.map(lambda v:np.array(np.insert(v,0,1),dtype=np.float64)) \n",
    "                     # insert a 1 at the beginning of each vector so that the same \n",
    "                     #calculation also yields the mean vector\n",
    "    #OuterRDD=RDD ...  # separating the map and the reduce does not matter because of Spark uses lazy execution.\n",
    "    #(S,N)=OuterRDD ...\n",
    "    OuterRDD = RDD.map(lambda v: outerProduct(v))    #<-- do mapping here\n",
    "    (S,N)= OuterRDD.reduce(lambda v1,v2: sumWithNan(v1,v2))  #<-- do reducing here\n",
    "    E=S[0,1:]\n",
    "    NE=np.float64(N[0,1:])\n",
    "    print 'shape of E=',E.shape,'shape of NE=',NE.shape\n",
    "    Mean=E/NE\n",
    "    O=S[1:,1:]\n",
    "    NO=np.float64(N[1:,1:])\n",
    "    Cov=(O/NO) - np.outer(Mean,Mean) # This is the covariance matrix\n",
    "    # Output also the diagnal which is the variance for each day\n",
    "    Var=np.array([Cov[i,i] for i in range(Cov.shape[0])])\n",
    "    return {'E':E,'NE':NE,'O':O,'NO':NO,'Cov':Cov,'Mean':Mean,'Var':Var}"
   ]
  },
  {
   "cell_type": "code",
   "execution_count": 15,
   "metadata": {
    "collapsed": false,
    "deletable": true,
    "editable": true,
    "run_control": {
     "frozen": false,
     "read_only": false
    },
    "scrolled": true,
    "slideshow": {
     "slide_type": "subslide"
    }
   },
   "outputs": [
    {
     "name": "stdout",
     "output_type": "stream",
     "text": [
      "SELECT * FROM weather\n",
      "\tWHERE measurement='TMAX' \n",
      "shape of E= (365,) shape of NE= (365,)\n",
      "time for TMAX is 21.4624090195\n",
      "SELECT * FROM weather\n",
      "\tWHERE measurement='SNOW' \n",
      "shape of E= (365,) shape of NE= (365,)\n",
      "time for SNOW is 20.5416929722\n",
      "SELECT * FROM weather\n",
      "\tWHERE measurement='SNWD' \n",
      "shape of E= (365,) shape of NE= (365,)\n",
      "time for SNWD is 12.4029290676\n",
      "SELECT * FROM weather\n",
      "\tWHERE measurement='TMIN' \n",
      "shape of E= (365,) shape of NE= (365,)\n",
      "time for TMIN is 17.5527248383\n",
      "SELECT * FROM weather\n",
      "\tWHERE measurement='PRCP' \n",
      "shape of E= (365,) shape of NE= (365,)\n",
      "time for PRCP is 26.9060628414\n",
      "SELECT * FROM weather\n",
      "\tWHERE measurement='TOBS' \n",
      "shape of E= (365,) shape of NE= (365,)\n",
      "time for TOBS is 8.64532899857\n"
     ]
    }
   ],
   "source": [
    "from numpy import linalg as LA\n",
    "STAT={}  # dictionary storing the statistics for each measurement\n",
    "Clean_Tables={}\n",
    "\n",
    "for meas in measurements:\n",
    "    t=time()\n",
    "    Query=\"SELECT * FROM weather\\n\\tWHERE measurement='%s' \"%(meas)\n",
    "    print Query\n",
    "    df1 = sqlContext.sql(Query)\n",
    "    data=df1.rdd.map(lambda row: unpackArray(row['vector'],np.float16))\n",
    "    #get basic statistics\n",
    "    STAT[meas]=computeOverAllDist(data)   # Compute the statistics \n",
    "\n",
    "    # compute covariance matrix\n",
    "    OUT=computeCov(data)\n",
    "\n",
    "    #find PCA decomposition\n",
    "    eigval,eigvec=LA.eig(OUT['Cov'])\n",
    "\n",
    "    # collect all of the statistics in STAT[meas]\n",
    "    STAT[meas]['eigval']=eigval\n",
    "    STAT[meas]['eigvec']=eigvec\n",
    "    STAT[meas].update(OUT)\n",
    "\n",
    "    print 'time for',meas,'is',time()-t"
   ]
  },
  {
   "cell_type": "code",
   "execution_count": 16,
   "metadata": {
    "collapsed": false,
    "deletable": true,
    "editable": true,
    "run_control": {
     "frozen": false,
     "read_only": false
    },
    "slideshow": {
     "slide_type": "subslide"
    }
   },
   "outputs": [
    {
     "name": "stdout",
     "output_type": "stream",
     "text": [
      "total 264064\r\n",
      "-rw-r--r--    1 ashwinramesh  staff   218B May  3 11:02 data-source.txt\r\n",
      "drwxr-xr-x   10 ashwinramesh  staff   340B May  3 11:02 \u001b[34mUS_Weather_BBBSBBBB.parquet\u001b[m\u001b[m\r\n",
      "-rw-r--r--    1 ashwinramesh  staff    16M May  3 11:02 STAT_BBBSBBBB.pickle.gz\r\n",
      "-rw-r--r--    1 ashwinramesh  staff   2.1M May  3 11:02 stations.pkl.gz\r\n",
      "-rw-r--r--    1 ashwinramesh  staff   270B May  3 11:02 ghcnd-version.txt\r\n",
      "-rw-r--r--    1 ashwinramesh  staff   7.4M May  3 11:02 ghcnd-stations_buffered.txt\r\n",
      "-rw-r--r--    1 ashwinramesh  staff   8.0M May  3 11:02 ghcnd-stations.txt\r\n",
      "-rw-r--r--    1 ashwinramesh  staff    22K May  3 11:02 ghcnd-readme.txt\r\n",
      "drwxr-xr-x  404 ashwinramesh  staff    13K May  3 11:02 \u001b[34mdecon_BBBSBBBB_TOBS.parquet\u001b[m\u001b[m\r\n",
      "drwxr-xr-x  404 ashwinramesh  staff    13K May  3 11:02 \u001b[34mdecon_BBBSBBBB_SNWD.parquet\u001b[m\u001b[m\r\n",
      "drwxr-xr-x  404 ashwinramesh  staff    13K May  3 11:02 \u001b[34mdecon_BBBSBBBB.parquet\u001b[m\u001b[m\r\n",
      "-rw-r--r--    1 ashwinramesh  staff    13M May  8 20:00 US_Weather_BBBSBBBB.csv\r\n",
      "-rw-r--r--    1 ashwinramesh  staff    83M May  8 20:03 STAT_BBBSBBBB.pickle\r\n"
     ]
    }
   ],
   "source": [
    "from pickle import dump\n",
    "filename=data_dir+'/STAT_%s.pickle'%file_index\n",
    "dump((STAT,STAT_Descriptions),open(filename,'wb'))\n",
    "!ls -lrth $data_dir"
   ]
  },
  {
   "cell_type": "code",
   "execution_count": 24,
   "metadata": {
    "collapsed": false
   },
   "outputs": [
    {
     "name": "stdout",
     "output_type": "stream",
     "text": [
      "[[ 0.03291342]\n",
      " [ 0.03416249]\n",
      " [ 0.03955753]\n",
      " [ 0.03723297]\n",
      " [ 0.03348947]\n",
      " [ 0.04161224]\n",
      " [ 0.03422484]\n",
      " [ 0.03468038]\n",
      " [ 0.03234215]\n",
      " [ 0.04223128]\n",
      " [ 0.03278021]\n",
      " [ 0.03481495]\n",
      " [ 0.0312099 ]\n",
      " [ 0.03224702]\n",
      " [ 0.03536109]\n",
      " [ 0.03962539]\n",
      " [ 0.04069203]\n",
      " [ 0.03081069]\n",
      " [ 0.02633781]\n",
      " [ 0.03879979]\n",
      " [ 0.0425846 ]\n",
      " [ 0.04476278]\n",
      " [ 0.03247582]\n",
      " [ 0.03234027]\n",
      " [ 0.03381936]\n",
      " [ 0.03335155]\n",
      " [ 0.0288168 ]\n",
      " [ 0.03610332]\n",
      " [ 0.03711944]\n",
      " [ 0.03349785]\n",
      " [ 0.04054789]\n",
      " [ 0.03586428]\n",
      " [ 0.02495968]\n",
      " [ 0.03751592]\n",
      " [ 0.03853969]\n",
      " [ 0.04359944]\n",
      " [ 0.04663326]\n",
      " [ 0.04737404]\n",
      " [ 0.04847001]\n",
      " [ 0.05379039]\n",
      " [ 0.04200549]\n",
      " [ 0.04171563]\n",
      " [ 0.04413544]\n",
      " [ 0.0468801 ]\n",
      " [ 0.04832172]\n",
      " [ 0.05071174]\n",
      " [ 0.04393667]\n",
      " [ 0.04594786]\n",
      " [ 0.04746098]\n",
      " [ 0.045853  ]\n",
      " [ 0.04587298]\n",
      " [ 0.03996165]\n",
      " [ 0.04431091]\n",
      " [ 0.03842366]\n",
      " [ 0.05000713]\n",
      " [ 0.04859832]\n",
      " [ 0.05114412]\n",
      " [ 0.050204  ]\n",
      " [ 0.04431391]\n",
      " [ 0.04746217]\n",
      " [ 0.04739343]\n",
      " [ 0.04699185]\n",
      " [ 0.0457097 ]\n",
      " [ 0.04228392]\n",
      " [ 0.04428402]\n",
      " [ 0.03489799]\n",
      " [ 0.03606048]\n",
      " [ 0.04986968]\n",
      " [ 0.04285552]\n",
      " [ 0.04522867]\n",
      " [ 0.04635016]\n",
      " [ 0.04876005]\n",
      " [ 0.04229965]\n",
      " [ 0.04138508]\n",
      " [ 0.04758126]\n",
      " [ 0.0434385 ]\n",
      " [ 0.04902536]\n",
      " [ 0.04621473]\n",
      " [ 0.0531422 ]\n",
      " [ 0.04736859]\n",
      " [ 0.04664186]\n",
      " [ 0.05246193]\n",
      " [ 0.05503824]\n",
      " [ 0.05557942]\n",
      " [ 0.04794656]\n",
      " [ 0.05361896]\n",
      " [ 0.04842203]\n",
      " [ 0.05102975]\n",
      " [ 0.04362412]\n",
      " [ 0.04830717]\n",
      " [ 0.04722264]\n",
      " [ 0.04366255]\n",
      " [ 0.04163244]\n",
      " [ 0.04122609]\n",
      " [ 0.04778651]\n",
      " [ 0.05384895]\n",
      " [ 0.05396003]\n",
      " [ 0.0489922 ]\n",
      " [ 0.05094038]\n",
      " [ 0.04991015]\n",
      " [ 0.0493252 ]\n",
      " [ 0.05315543]\n",
      " [ 0.05210679]\n",
      " [ 0.05988918]\n",
      " [ 0.05397462]\n",
      " [ 0.04399417]\n",
      " [ 0.05093113]\n",
      " [ 0.04884088]\n",
      " [ 0.05855578]\n",
      " [ 0.05689967]\n",
      " [ 0.05317376]\n",
      " [ 0.0520675 ]\n",
      " [ 0.0470234 ]\n",
      " [ 0.04895017]\n",
      " [ 0.05293104]\n",
      " [ 0.05174624]\n",
      " [ 0.05005444]\n",
      " [ 0.04991632]\n",
      " [ 0.05835352]\n",
      " [ 0.06207138]\n",
      " [ 0.05759318]\n",
      " [ 0.05488664]\n",
      " [ 0.06195427]\n",
      " [ 0.06163405]\n",
      " [ 0.06507499]\n",
      " [ 0.06265306]\n",
      " [ 0.06393884]\n",
      " [ 0.0607445 ]\n",
      " [ 0.06101116]\n",
      " [ 0.05270155]\n",
      " [ 0.05647082]\n",
      " [ 0.05470086]\n",
      " [ 0.06031399]\n",
      " [ 0.0591599 ]\n",
      " [ 0.0563947 ]\n",
      " [ 0.05297587]\n",
      " [ 0.05862587]\n",
      " [ 0.05500813]\n",
      " [ 0.05792866]\n",
      " [ 0.05683319]\n",
      " [ 0.05587722]\n",
      " [ 0.05923843]\n",
      " [ 0.05472636]\n",
      " [ 0.05719761]\n",
      " [ 0.05528654]\n",
      " [ 0.05717196]\n",
      " [ 0.05945171]\n",
      " [ 0.06145339]\n",
      " [ 0.0582367 ]\n",
      " [ 0.05568238]\n",
      " [ 0.05653387]\n",
      " [ 0.05593234]\n",
      " [ 0.05696872]\n",
      " [ 0.06049988]\n",
      " [ 0.06144587]\n",
      " [ 0.06152652]\n",
      " [ 0.06005304]\n",
      " [ 0.05949986]\n",
      " [ 0.05244825]\n",
      " [ 0.0498693 ]\n",
      " [ 0.05448095]\n",
      " [ 0.05909894]\n",
      " [ 0.0567543 ]\n",
      " [ 0.05522198]\n",
      " [ 0.05359542]\n",
      " [ 0.053226  ]\n",
      " [ 0.05424843]\n",
      " [ 0.05097653]\n",
      " [ 0.05401589]\n",
      " [ 0.05142944]\n",
      " [ 0.05751128]\n",
      " [ 0.05997173]\n",
      " [ 0.06242264]\n",
      " [ 0.05687601]\n",
      " [ 0.05918118]\n",
      " [ 0.05859323]\n",
      " [ 0.05661406]\n",
      " [ 0.05371288]\n",
      " [ 0.05799481]\n",
      " [ 0.05784653]\n",
      " [ 0.05870743]\n",
      " [ 0.06249962]\n",
      " [ 0.06342887]\n",
      " [ 0.06004718]\n",
      " [ 0.06117747]\n",
      " [ 0.06072032]\n",
      " [ 0.06118935]\n",
      " [ 0.06436122]\n",
      " [ 0.0638043 ]\n",
      " [ 0.06297032]\n",
      " [ 0.06039918]\n",
      " [ 0.06096813]\n",
      " [ 0.05936539]\n",
      " [ 0.06295752]\n",
      " [ 0.05572485]\n",
      " [ 0.05313782]\n",
      " [ 0.05677758]\n",
      " [ 0.06111934]\n",
      " [ 0.05822828]\n",
      " [ 0.05859452]\n",
      " [ 0.05647459]\n",
      " [ 0.05636342]\n",
      " [ 0.05818062]\n",
      " [ 0.05906661]\n",
      " [ 0.05994273]\n",
      " [ 0.05921875]\n",
      " [ 0.06102347]\n",
      " [ 0.05766601]\n",
      " [ 0.05919976]\n",
      " [ 0.05757106]\n",
      " [ 0.06099846]\n",
      " [ 0.06398506]\n",
      " [ 0.06068694]\n",
      " [ 0.0576239 ]\n",
      " [ 0.05657867]\n",
      " [ 0.051843  ]\n",
      " [ 0.05293803]\n",
      " [ 0.05230644]\n",
      " [ 0.05963729]\n",
      " [ 0.06062582]\n",
      " [ 0.05888184]\n",
      " [ 0.0593614 ]\n",
      " [ 0.05618088]\n",
      " [ 0.06109503]\n",
      " [ 0.06415931]\n",
      " [ 0.06602845]\n",
      " [ 0.06223226]\n",
      " [ 0.06629102]\n",
      " [ 0.06099325]\n",
      " [ 0.06034427]\n",
      " [ 0.06131173]\n",
      " [ 0.06631851]\n",
      " [ 0.06593744]\n",
      " [ 0.0638788 ]\n",
      " [ 0.06408752]\n",
      " [ 0.05929666]\n",
      " [ 0.06325409]\n",
      " [ 0.06525691]\n",
      " [ 0.06007487]\n",
      " [ 0.05729661]\n",
      " [ 0.06093328]\n",
      " [ 0.06153031]\n",
      " [ 0.06442775]\n",
      " [ 0.07000893]\n",
      " [ 0.06611903]\n",
      " [ 0.06442197]\n",
      " [ 0.06269936]\n",
      " [ 0.06599641]\n",
      " [ 0.06772619]\n",
      " [ 0.06780445]\n",
      " [ 0.0662448 ]\n",
      " [ 0.0604233 ]\n",
      " [ 0.06394112]\n",
      " [ 0.0626455 ]\n",
      " [ 0.06426585]\n",
      " [ 0.06295382]\n",
      " [ 0.0547605 ]\n",
      " [ 0.05686099]\n",
      " [ 0.06733529]\n",
      " [ 0.06221589]\n",
      " [ 0.06019286]\n",
      " [ 0.06109487]\n",
      " [ 0.06433902]\n",
      " [ 0.05941341]\n",
      " [ 0.05966347]\n",
      " [ 0.05684271]\n",
      " [ 0.06895261]\n",
      " [ 0.07248682]\n",
      " [ 0.06206637]\n",
      " [ 0.05648352]\n",
      " [ 0.05823814]\n",
      " [ 0.05954122]\n",
      " [ 0.06566672]\n",
      " [ 0.05964842]\n",
      " [ 0.05918248]\n",
      " [ 0.05722984]\n",
      " [ 0.06324287]\n",
      " [ 0.06682658]\n",
      " [ 0.06858349]\n",
      " [ 0.06667249]\n",
      " [ 0.06758514]\n",
      " [ 0.06283627]\n",
      " [ 0.06439858]\n",
      " [ 0.07134966]\n",
      " [ 0.06456525]\n",
      " [ 0.06237182]\n",
      " [ 0.06066884]\n",
      " [ 0.0600572 ]\n",
      " [ 0.06416217]\n",
      " [ 0.07176001]\n",
      " [ 0.06433802]\n",
      " [ 0.06548061]\n",
      " [ 0.06258719]\n",
      " [ 0.06199339]\n",
      " [ 0.06698633]\n",
      " [ 0.06649187]\n",
      " [ 0.06295585]\n",
      " [ 0.05202364]\n",
      " [ 0.05297013]\n",
      " [ 0.0567352 ]\n",
      " [ 0.05388787]\n",
      " [ 0.05618383]\n",
      " [ 0.06010445]\n",
      " [ 0.05815055]\n",
      " [ 0.05192068]\n",
      " [ 0.05035561]\n",
      " [ 0.04312638]\n",
      " [ 0.04439859]\n",
      " [ 0.04133677]\n",
      " [ 0.03778366]\n",
      " [ 0.0405029 ]\n",
      " [ 0.04582425]\n",
      " [ 0.04482949]\n",
      " [ 0.04076493]\n",
      " [ 0.03597678]\n",
      " [ 0.03786953]\n",
      " [ 0.04024038]\n",
      " [ 0.04563283]\n",
      " [ 0.03849288]\n",
      " [ 0.04040818]\n",
      " [ 0.0398811 ]\n",
      " [ 0.04369998]\n",
      " [ 0.04866975]\n",
      " [ 0.04178672]\n",
      " [ 0.04262246]\n",
      " [ 0.04554361]\n",
      " [ 0.04630548]\n",
      " [ 0.03480518]\n",
      " [ 0.0372071 ]\n",
      " [ 0.03601415]\n",
      " [ 0.03553837]\n",
      " [ 0.02931954]\n",
      " [ 0.03013333]\n",
      " [ 0.03708965]\n",
      " [ 0.03287192]\n",
      " [ 0.03264376]\n",
      " [ 0.03746529]\n",
      " [ 0.04066802]\n",
      " [ 0.0438745 ]\n",
      " [ 0.0387872 ]\n",
      " [ 0.03922699]\n",
      " [ 0.03607506]\n",
      " [ 0.03780101]\n",
      " [ 0.03275014]\n",
      " [ 0.02723505]\n",
      " [ 0.03456271]\n",
      " [ 0.0330449 ]\n",
      " [ 0.03565879]\n",
      " [ 0.03006756]\n",
      " [ 0.02843523]\n",
      " [ 0.03301475]\n",
      " [ 0.04176033]\n",
      " [ 0.042149  ]\n",
      " [ 0.03537423]\n",
      " [ 0.03559607]\n",
      " [ 0.03225509]\n",
      " [ 0.02922272]\n",
      " [ 0.02754844]\n",
      " [ 0.02197901]\n",
      " [ 0.03037334]\n",
      " [ 0.03659699]\n",
      " [ 0.03329829]\n",
      " [ 0.0298012 ]\n",
      " [ 0.02942878]\n",
      " [ 0.03072348]]\n"
     ]
    }
   ],
   "source": [
    "print STAT['TOBS']['eigvec'][:,:1]\n",
    "#['eigval']=eigval\n",
    "#STAT[meas]['eigvec']=eigvec"
   ]
  },
  {
   "cell_type": "code",
   "execution_count": null,
   "metadata": {
    "collapsed": true
   },
   "outputs": [],
   "source": []
  }
 ],
 "metadata": {
  "anaconda-cloud": {},
  "celltoolbar": "Slideshow",
  "kernelspec": {
   "display_name": "Python 2",
   "language": "python",
   "name": "python2"
  },
  "language_info": {
   "codemirror_mode": {
    "name": "ipython",
    "version": 2
   },
   "file_extension": ".py",
   "mimetype": "text/x-python",
   "name": "python",
   "nbconvert_exporter": "python",
   "pygments_lexer": "ipython2",
   "version": "2.7.13"
  },
  "name": "PCA_using_numpy for HW3",
  "notebookId": 85286,
  "toc": {
   "colors": {
    "hover_highlight": "#DAA520",
    "running_highlight": "#FF0000",
    "selected_highlight": "#FFD700"
   },
   "moveMenuLeft": true,
   "nav_menu": {
    "height": "245px",
    "width": "252px"
   },
   "navigate_menu": true,
   "number_sections": true,
   "sideBar": true,
   "threshold": 4,
   "toc_cell": false,
   "toc_section_display": "block",
   "toc_window_display": false
  }
 },
 "nbformat": 4,
 "nbformat_minor": 2
}
