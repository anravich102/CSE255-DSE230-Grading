{
 "cells": [
  {
   "cell_type": "markdown",
   "metadata": {
    "run_control": {
     "frozen": false,
     "read_only": false
    }
   },
   "source": [
    "### Visualizing the distribution of the observations\n",
    "\n",
    "### Load the required libraries"
   ]
  },
  {
   "cell_type": "code",
   "execution_count": 1,
   "metadata": {},
   "outputs": [
    {
     "ename": "NameError",
     "evalue": "name 'sc' is not defined",
     "output_type": "error",
     "traceback": [
      "\u001b[0;31m---------------------------------------------------------------------------\u001b[0m",
      "\u001b[0;31mNameError\u001b[0m                                 Traceback (most recent call last)",
      "\u001b[0;32m<ipython-input-1-f154e069615b>\u001b[0m in \u001b[0;36m<module>\u001b[0;34m()\u001b[0m\n\u001b[0;32m----> 1\u001b[0;31m \u001b[0msc\u001b[0m\u001b[0;34m.\u001b[0m\u001b[0mstop\u001b[0m\u001b[0;34m(\u001b[0m\u001b[0;34m)\u001b[0m\u001b[0;34m\u001b[0m\u001b[0m\n\u001b[0m",
      "\u001b[0;31mNameError\u001b[0m: name 'sc' is not defined"
     ]
    }
   ],
   "source": [
    "sc.stop()"
   ]
  },
  {
   "cell_type": "code",
   "execution_count": 1,
   "metadata": {
    "run_control": {
     "frozen": false,
     "read_only": false
    },
    "slideshow": {
     "slide_type": "slide"
    }
   },
   "outputs": [
    {
     "name": "stdout",
     "output_type": "stream",
     "text": [
      "Populating the interactive namespace from numpy and matplotlib\n",
      "keys from STAT= ['TMIN', 'TOBS', 'TMAX', 'SNOW', 'SNWD', 'PRCP']\n",
      "12249\n",
      "+---------+--------+---------+-----------+-----------+------+--------------------+------+--------+\n",
      "|elevation|latitude|longitude|measurement|    station|undefs|              vector|  year|   label|\n",
      "+---------+--------+---------+-----------+-----------+------+--------------------+------+--------+\n",
      "|     14.9| 30.4132| -86.6635|       PRCP|US1FLOK0014|    38|[00 00 00 00 B0 5...|2009.0|BSSSBSBS|\n",
      "|      6.4| 30.2119| -85.6828|       TMAX|USW00003882|     5|[40 5A F0 5A 80 5...|1999.0|BSSSBSBS|\n",
      "|      6.4| 30.2119| -85.6828|       TMAX|USW00003882|     3|[20 5B 78 5B 48 5...|2000.0|BSSSBSBS|\n",
      "|      6.4| 30.2119| -85.6828|       TMAX|USW00003882|    40|[90 55 E0 54 A0 5...|2001.0|BSSSBSBS|\n",
      "|      6.4| 30.2119| -85.6828|       TMAX|USW00003882|    12|[E0 54 30 54 30 5...|2002.0|BSSSBSBS|\n",
      "+---------+--------+---------+-----------+-----------+------+--------------------+------+--------+\n",
      "only showing top 5 rows\n",
      "\n"
     ]
    }
   ],
   "source": [
    "import pandas as pd\n",
    "import numpy as np\n",
    "import sklearn as sk\n",
    "import urllib\n",
    "import math\n",
    "%pylab inline\n",
    "\n",
    "import findspark\n",
    "findspark.init()\n",
    "\n",
    "from pyspark import SparkContext\n",
    "#sc.stop()\n",
    "sc = SparkContext(master=\"local[3]\",pyFiles=['lib/numpy_pack.py','lib/spark_PCA.py','lib/computeStats.py'])\n",
    "#sc = SparkContext(master=\"local[3]\",pyFiles=['lib/numpy_pack.py','lib/computeStats.py'])\n",
    "from pyspark import SparkContext\n",
    "from pyspark.sql import *\n",
    "sqlContext = SQLContext(sc)\n",
    "\n",
    "import sys\n",
    "sys.path.append('./lib')\n",
    "\n",
    "import numpy as np\n",
    "from numpy_pack import packArray,unpackArray\n",
    "#from spark_PCA import computeCov\n",
    "from computeStats import computeOverAllDist, STAT_Descriptions\n",
    "\n",
    "### Read the data frame from pickle file\n",
    "\n",
    "data_dir='../../Data/Weather'\n",
    "file_index='BSSSBSBS'\n",
    "\n",
    "from pickle import load\n",
    "\n",
    "#read statistics\n",
    "filename=data_dir+'/STAT_%s.pickle'%file_index\n",
    "STAT,STAT_Descriptions = load(open(filename,'rb'))\n",
    "print 'keys from STAT=',STAT.keys()\n",
    "\n",
    "#read data\n",
    "filename=data_dir+'/US_Weather_%s.parquet'%file_index\n",
    "df=sqlContext.read.parquet(filename)\n",
    "\n",
    "#filename=data_dir+'/US_Weather_%s.csv'%file_index\n",
    "#df = sqlContext.read.load(filename, format=\"csv\",header = False)\n",
    "\n",
    "print df.count()\n",
    "df.show(5)"
   ]
  },
  {
   "cell_type": "markdown",
   "metadata": {
    "run_control": {
     "frozen": false,
     "read_only": false
    },
    "slideshow": {
     "slide_type": "slide"
    }
   },
   "source": [
    "### Select data for a particular station and measurement type"
   ]
  },
  {
   "cell_type": "code",
   "execution_count": 2,
   "metadata": {
    "scrolled": false
   },
   "outputs": [
    {
     "ename": "NameError",
     "evalue": "name 'stats' is not defined",
     "output_type": "error",
     "traceback": [
      "\u001b[0;31m---------------------------------------------------------------------------\u001b[0m",
      "\u001b[0;31mNameError\u001b[0m                                 Traceback (most recent call last)",
      "\u001b[0;32m<ipython-input-2-e97b2574b4a0>\u001b[0m in \u001b[0;36m<module>\u001b[0;34m()\u001b[0m\n\u001b[1;32m      2\u001b[0m \u001b[0mdata\u001b[0m\u001b[0;34m=\u001b[0m\u001b[0;34m[\u001b[0m\u001b[0;34m]\u001b[0m\u001b[0;34m\u001b[0m\u001b[0m\n\u001b[1;32m      3\u001b[0m \u001b[0;31m#Query=\"SELECT * FROM weather\\n\\tWHERE measurement='%s' and station='%s'\"%('TMAX','USC00198301')\u001b[0m\u001b[0;34m\u001b[0m\u001b[0;34m\u001b[0m\u001b[0m\n\u001b[0;32m----> 4\u001b[0;31m \u001b[0;32mfor\u001b[0m \u001b[0mi\u001b[0m \u001b[0;32min\u001b[0m \u001b[0mrange\u001b[0m\u001b[0;34m(\u001b[0m\u001b[0mlen\u001b[0m\u001b[0;34m(\u001b[0m\u001b[0mstats\u001b[0m\u001b[0;34m)\u001b[0m\u001b[0;34m)\u001b[0m\u001b[0;34m:\u001b[0m\u001b[0;34m\u001b[0m\u001b[0m\n\u001b[0m\u001b[1;32m      5\u001b[0m     \u001b[0mQuery\u001b[0m\u001b[0;34m=\u001b[0m\u001b[0;34m\"SELECT * FROM weather\\n\\tWHERE measurement='%s' and station='%s'\"\u001b[0m\u001b[0;34m%\u001b[0m\u001b[0;34m(\u001b[0m\u001b[0;34m'TOBS'\u001b[0m\u001b[0;34m,\u001b[0m\u001b[0mstats\u001b[0m\u001b[0;34m[\u001b[0m\u001b[0mi\u001b[0m\u001b[0;34m]\u001b[0m\u001b[0;34m)\u001b[0m\u001b[0;34m\u001b[0m\u001b[0m\n\u001b[1;32m      6\u001b[0m     \u001b[0;32mprint\u001b[0m \u001b[0mQuery\u001b[0m\u001b[0;34m\u001b[0m\u001b[0m\n",
      "\u001b[0;31mNameError\u001b[0m: name 'stats' is not defined"
     ]
    }
   ],
   "source": [
    "sqlContext.registerDataFrameAsTable(df,'weather')\n",
    "data=[]\n",
    "#Query=\"SELECT * FROM weather\\n\\tWHERE measurement='%s' and station='%s'\"%('TMAX','USC00198301')\n",
    "for i in range(len(stats)):\n",
    "    Query=\"SELECT * FROM weather\\n\\tWHERE measurement='%s' and station='%s'\"%('TOBS',stats[i])\n",
    "    print Query\n",
    "    df1 = sqlContext.sql(Query)\n",
    "    print df1.count(),'rows'\n",
    "    #df1.show(2)\n",
    "    rows1=df1.rdd.map(lambda row:unpackArray(row['vector'],np.float16)).collect()\n",
    "    data=data+rows1"
   ]
  },
  {
   "cell_type": "code",
   "execution_count": null,
   "metadata": {
    "collapsed": true
   },
   "outputs": [],
   "source": [
    "sqlContext.registerDataFrameAsTable(df,'weather')\n",
    "#Query=\"SELECT * FROM weather\\n\\tWHERE measurement='%s' and station='%s'\"%('TMAX','USC00198301')\n",
    "Query=\"SELECT * FROM weather\\n\\tWHERE measurement='%s' and station='%s'\"%('TMAX',stats[12])\n",
    "print Query\n",
    "df1 = sqlContext.sql(Query)\n",
    "print df1.count(),'rows'\n",
    "df1.show(2)\n",
    "rows2=df1.rdd.map(lambda row:unpackArray(row['vector'],np.float16)).collect()"
   ]
  },
  {
   "cell_type": "code",
   "execution_count": null,
   "metadata": {
    "collapsed": true,
    "run_control": {
     "frozen": false,
     "read_only": false
    },
    "slideshow": {
     "slide_type": "subslide"
    }
   },
   "outputs": [],
   "source": [
    "sqlContext.registerDataFrameAsTable(df,'weather')\n",
    "#Query=\"SELECT * FROM weather\\n\\tWHERE measurement='%s' and station='%s'\"%('TMAX','USC00198301')\n",
    "Query=\"SELECT * FROM weather\\n\\tWHERE measurement='%s' and station='%s'\"%('TMAX','USW00003882')\n",
    "print Query\n",
    "df1 = sqlContext.sql(Query)\n",
    "print df1.count(),'rows'\n",
    "df1.show(2)\n",
    "rows=df1.rdd.map(lambda row:unpackArray(row['vector'],np.float16)).collect() #takes byte arrary and returns np array\n",
    "T=np.vstack(rows)\n",
    "T=T/10.  # scaling to make the temperature be in centingrates\n",
    "shape(T)"
   ]
  },
  {
   "cell_type": "code",
   "execution_count": 3,
   "metadata": {
    "collapsed": true
   },
   "outputs": [],
   "source": [
    "Mobile_TOBS_df_y=pd.DataFrame(data)\n",
    "Mobile_TOBS_mean_y=np.nanmean(Mobile_TOBS_df_y,axis=0)\n",
    "Mobile_TOBS_mean_y=((Mobile_TOBS_mean_y/10.)+32)*1.8"
   ]
  },
  {
   "cell_type": "code",
   "execution_count": 4,
   "metadata": {
    "collapsed": true
   },
   "outputs": [],
   "source": [
    "Mobile_TOBS_df=pd.DataFrame(data)\n",
    "Mobile_TOBS_mean=np.nanmean(Mobile_TOBS_df,axis=0)\n",
    "Mobile_TOBS_mean=((Mobile_TOBS_mean/10.)+32)*1.8"
   ]
  },
  {
   "cell_type": "code",
   "execution_count": 5,
   "metadata": {
    "collapsed": true
   },
   "outputs": [],
   "source": [
    "Mobile_TMIN_df=pd.DataFrame(data)\n",
    "Mobile_TMIN_mean=np.nanmean(Mobile_TMIN_df,axis=0)\n",
    "Mobile_TMIN_mean=((Mobile_TMIN_mean/10.)+32)*1.8"
   ]
  },
  {
   "cell_type": "code",
   "execution_count": 6,
   "metadata": {
    "collapsed": true
   },
   "outputs": [],
   "source": [
    "Mobile_TMAX_df=pd.DataFrame(data)"
   ]
  },
  {
   "cell_type": "code",
   "execution_count": 7,
   "metadata": {
    "collapsed": true
   },
   "outputs": [],
   "source": [
    "Mobile_TMAX_mean=np.nanmean(Mobile_TMAX_df,axis=0)"
   ]
  },
  {
   "cell_type": "code",
   "execution_count": 8,
   "metadata": {
    "collapsed": true
   },
   "outputs": [],
   "source": [
    "Mobile_TMAX_mean=((Mobile_TMAX_mean/10.)+32)*1.8"
   ]
  },
  {
   "cell_type": "code",
   "execution_count": 9,
   "metadata": {},
   "outputs": [
    {
     "name": "stderr",
     "output_type": "stream",
     "text": [
      "/Users/laurawilke/anaconda3/envs/py27_2/lib/python2.7/site-packages/numpy/core/_methods.py:59: RuntimeWarning: Mean of empty slice.\n",
      "  warnings.warn(\"Mean of empty slice.\", RuntimeWarning)\n",
      "/Users/laurawilke/anaconda3/envs/py27_2/lib/python2.7/site-packages/numpy/core/_methods.py:70: RuntimeWarning: invalid value encountered in double_scalars\n",
      "  ret = ret.dtype.type(ret / rcount)\n"
     ]
    },
    {
     "data": {
      "text/plain": [
       "nan"
      ]
     },
     "execution_count": 9,
     "metadata": {},
     "output_type": "execute_result"
    }
   ],
   "source": [
    "mean(Mobile_TMAX_mean)"
   ]
  },
  {
   "cell_type": "markdown",
   "metadata": {
    "run_control": {
     "frozen": false,
     "read_only": false
    },
    "slideshow": {
     "slide_type": "slide"
    }
   },
   "source": [
    "### Script for plotting yearly plots"
   ]
  },
  {
   "cell_type": "code",
   "execution_count": null,
   "metadata": {
    "collapsed": true,
    "run_control": {
     "frozen": false,
     "read_only": false
    },
    "scrolled": false,
    "slideshow": {
     "slide_type": "subslide"
    }
   },
   "outputs": [],
   "source": [
    "from YearPlotter import YearPlotter\n",
    "fig, ax = plt.subplots(figsize=(10,7));\n",
    "YP=YearPlotter()\n",
    "data=vstack([Mobile_TMAX_mean,Mobile_TOBS_mean, Mobile_TMIN_mean]).transpose()\n",
    "YP.plot(data,fig,ax,title='Mobile Mean Temperature')\n",
    "#title('A sample of graphs');"
   ]
  },
  {
   "cell_type": "markdown",
   "metadata": {
    "run_control": {
     "frozen": false,
     "read_only": false
    },
    "slideshow": {
     "slide_type": "slide"
    }
   },
   "source": [
    "### Distribution of missing observations\n",
    "The distribution of missing observations is not uniform throughout the year. We visualize it below."
   ]
  },
  {
   "cell_type": "code",
   "execution_count": null,
   "metadata": {
    "collapsed": true,
    "run_control": {
     "frozen": false,
     "read_only": false
    },
    "slideshow": {
     "slide_type": "subslide"
    }
   },
   "outputs": [],
   "source": [
    "def plot_pair(pair,func):\n",
    "    j=0\n",
    "    fig,X=subplots(1,2,figsize=(16,6))\n",
    "    axes=X.reshape(2)\n",
    "    for m in pair:\n",
    "        axis = axes[j]\n",
    "        j+=1\n",
    "        func(m,fig,axis)\n",
    "        \n",
    "def plot_valid(m,fig,axis):\n",
    "    valid_m=STAT[m]['NE']\n",
    "    YP.plot(valid_m,fig,axis,title='valid-counts '+m)\n",
    "    "
   ]
  },
  {
   "cell_type": "code",
   "execution_count": null,
   "metadata": {
    "collapsed": true,
    "run_control": {
     "frozen": false,
     "read_only": false
    },
    "scrolled": false,
    "slideshow": {
     "slide_type": "subslide"
    }
   },
   "outputs": [],
   "source": [
    "plot_pair(['TMIN','TMAX'],plot_valid)"
   ]
  },
  {
   "cell_type": "code",
   "execution_count": null,
   "metadata": {
    "collapsed": true,
    "run_control": {
     "frozen": false,
     "read_only": false
    },
    "slideshow": {
     "slide_type": "subslide"
    }
   },
   "outputs": [],
   "source": [
    "plot_pair(['TOBS','PRCP'],plot_valid)"
   ]
  },
  {
   "cell_type": "code",
   "execution_count": null,
   "metadata": {
    "collapsed": true,
    "run_control": {
     "frozen": false,
     "read_only": false
    },
    "slideshow": {
     "slide_type": "subslide"
    }
   },
   "outputs": [],
   "source": [
    "plot_pair(['SNOW', 'SNWD'],plot_valid)"
   ]
  },
  {
   "cell_type": "markdown",
   "metadata": {
    "run_control": {
     "frozen": false,
     "read_only": false
    },
    "slideshow": {
     "slide_type": "slide"
    }
   },
   "source": [
    "### Plots of mean and std of observations"
   ]
  },
  {
   "cell_type": "code",
   "execution_count": null,
   "metadata": {
    "collapsed": true,
    "run_control": {
     "frozen": false,
     "read_only": false
    },
    "slideshow": {
     "slide_type": "skip"
    }
   },
   "outputs": [],
   "source": [
    "def plot_mean_std(m,fig,axis):\n",
    "    mean=(((STAT[m]['Mean'])/10.)+32)*1.8\n",
    "    std=np.sqrt(STAT[m]['Var'])\n",
    "    graphs=np.vstack([mean-std,mean,mean+std]).transpose()\n",
    "    YP.plot(graphs,fig,axis,title='Mean+-std   '+m)"
   ]
  },
  {
   "cell_type": "code",
   "execution_count": null,
   "metadata": {
    "collapsed": true
   },
   "outputs": [],
   "source": [
    "def plot_mean(m,fig,axis):\n",
    "    mean=(((STAT[m]['Mean'])/10.)+32)*1.8\n",
    "    graphs=mean.transpose()\n",
    "    YP.plot(graphs,fig,axis,title='Mean '+m)"
   ]
  },
  {
   "cell_type": "code",
   "execution_count": null,
   "metadata": {
    "collapsed": true
   },
   "outputs": [],
   "source": [
    "mean((((STAT['TOBS']['Mean'])/10.)+32)*1.8)"
   ]
  },
  {
   "cell_type": "code",
   "execution_count": null,
   "metadata": {
    "collapsed": true
   },
   "outputs": [],
   "source": [
    "plot_pair(['TOBS','TMAX'],plot_mean)"
   ]
  },
  {
   "cell_type": "code",
   "execution_count": null,
   "metadata": {
    "collapsed": true,
    "run_control": {
     "frozen": false,
     "read_only": false
    },
    "slideshow": {
     "slide_type": "subslide"
    }
   },
   "outputs": [],
   "source": [
    "plot_pair(['TOBS','TMAX'],plot_mean_std)"
   ]
  },
  {
   "cell_type": "code",
   "execution_count": null,
   "metadata": {
    "collapsed": true,
    "run_control": {
     "frozen": false,
     "read_only": false
    },
    "slideshow": {
     "slide_type": "subslide"
    }
   },
   "outputs": [],
   "source": [
    "plot_pair(['TOBS','PRCP'],plot_mean_std)"
   ]
  },
  {
   "cell_type": "code",
   "execution_count": null,
   "metadata": {
    "collapsed": true,
    "run_control": {
     "frozen": false,
     "read_only": false
    },
    "slideshow": {
     "slide_type": "subslide"
    }
   },
   "outputs": [],
   "source": [
    "plot_pair(['SNOW', 'SNWD'],plot_mean_std)"
   ]
  },
  {
   "cell_type": "markdown",
   "metadata": {
    "run_control": {
     "frozen": false,
     "read_only": false
    },
    "slideshow": {
     "slide_type": "slide"
    }
   },
   "source": [
    "### plotting top 3 eigenvectors"
   ]
  },
  {
   "cell_type": "code",
   "execution_count": 4,
   "metadata": {
    "collapsed": true,
    "run_control": {
     "frozen": false,
     "read_only": false
    },
    "slideshow": {
     "slide_type": "skip"
    }
   },
   "outputs": [],
   "source": [
    "def plot_eigen(m,fig,axis):\n",
    "    EV=STAT[m]['eigvec']\n",
    "    YP.plot(EV[:,:3],fig,axis,title='Top Eigenvectors '+m)"
   ]
  },
  {
   "cell_type": "code",
   "execution_count": 5,
   "metadata": {
    "run_control": {
     "frozen": false,
     "read_only": false
    },
    "slideshow": {
     "slide_type": "subslide"
    }
   },
   "outputs": [
    {
     "ename": "NameError",
     "evalue": "name 'plot_pair' is not defined",
     "output_type": "error",
     "traceback": [
      "\u001b[0;31m---------------------------------------------------------------------------\u001b[0m",
      "\u001b[0;31mNameError\u001b[0m                                 Traceback (most recent call last)",
      "\u001b[0;32m<ipython-input-5-26bfd5fcbc37>\u001b[0m in \u001b[0;36m<module>\u001b[0;34m()\u001b[0m\n\u001b[0;32m----> 1\u001b[0;31m \u001b[0mplot_pair\u001b[0m\u001b[0;34m(\u001b[0m\u001b[0;34m[\u001b[0m\u001b[0;34m'TMIN'\u001b[0m\u001b[0;34m,\u001b[0m\u001b[0;34m'TMAX'\u001b[0m\u001b[0;34m]\u001b[0m\u001b[0;34m,\u001b[0m\u001b[0mplot_eigen\u001b[0m\u001b[0;34m)\u001b[0m\u001b[0;34m\u001b[0m\u001b[0m\n\u001b[0m",
      "\u001b[0;31mNameError\u001b[0m: name 'plot_pair' is not defined"
     ]
    }
   ],
   "source": [
    "plot_pair(['TMIN','TMAX'],plot_eigen)"
   ]
  },
  {
   "cell_type": "code",
   "execution_count": 6,
   "metadata": {
    "run_control": {
     "frozen": false,
     "read_only": false
    },
    "slideshow": {
     "slide_type": "subslide"
    }
   },
   "outputs": [
    {
     "ename": "NameError",
     "evalue": "name 'plot_pair' is not defined",
     "output_type": "error",
     "traceback": [
      "\u001b[0;31m---------------------------------------------------------------------------\u001b[0m",
      "\u001b[0;31mNameError\u001b[0m                                 Traceback (most recent call last)",
      "\u001b[0;32m<ipython-input-6-ba8a96fe9d73>\u001b[0m in \u001b[0;36m<module>\u001b[0;34m()\u001b[0m\n\u001b[0;32m----> 1\u001b[0;31m \u001b[0mplot_pair\u001b[0m\u001b[0;34m(\u001b[0m\u001b[0;34m[\u001b[0m\u001b[0;34m'TOBS'\u001b[0m\u001b[0;34m,\u001b[0m\u001b[0;34m'PRCP'\u001b[0m\u001b[0;34m]\u001b[0m\u001b[0;34m,\u001b[0m\u001b[0mplot_eigen\u001b[0m\u001b[0;34m)\u001b[0m\u001b[0;34m\u001b[0m\u001b[0m\n\u001b[0m",
      "\u001b[0;31mNameError\u001b[0m: name 'plot_pair' is not defined"
     ]
    }
   ],
   "source": [
    "plot_pair(['TOBS','PRCP'],plot_eigen)"
   ]
  },
  {
   "cell_type": "code",
   "execution_count": 7,
   "metadata": {
    "run_control": {
     "frozen": false,
     "read_only": false
    },
    "slideshow": {
     "slide_type": "subslide"
    }
   },
   "outputs": [
    {
     "ename": "NameError",
     "evalue": "name 'plot_pair' is not defined",
     "output_type": "error",
     "traceback": [
      "\u001b[0;31m---------------------------------------------------------------------------\u001b[0m",
      "\u001b[0;31mNameError\u001b[0m                                 Traceback (most recent call last)",
      "\u001b[0;32m<ipython-input-7-24424de0c6ba>\u001b[0m in \u001b[0;36m<module>\u001b[0;34m()\u001b[0m\n\u001b[0;32m----> 1\u001b[0;31m \u001b[0mplot_pair\u001b[0m\u001b[0;34m(\u001b[0m\u001b[0;34m[\u001b[0m\u001b[0;34m'SNOW'\u001b[0m\u001b[0;34m,\u001b[0m \u001b[0;34m'SNWD'\u001b[0m\u001b[0;34m]\u001b[0m\u001b[0;34m,\u001b[0m\u001b[0mplot_eigen\u001b[0m\u001b[0;34m)\u001b[0m\u001b[0;34m\u001b[0m\u001b[0m\n\u001b[0m",
      "\u001b[0;31mNameError\u001b[0m: name 'plot_pair' is not defined"
     ]
    }
   ],
   "source": [
    "plot_pair(['SNOW', 'SNWD'],plot_eigen)"
   ]
  },
  {
   "cell_type": "markdown",
   "metadata": {
    "run_control": {
     "frozen": false,
     "read_only": false
    },
    "slideshow": {
     "slide_type": "slide"
    }
   },
   "source": [
    "### Script for plotting percentage of variance explained"
   ]
  },
  {
   "cell_type": "code",
   "execution_count": 8,
   "metadata": {
    "collapsed": true,
    "run_control": {
     "frozen": false,
     "read_only": false
    },
    "slideshow": {
     "slide_type": "skip"
    }
   },
   "outputs": [],
   "source": [
    "def pltVarExplained(j):\n",
    "    subplot(1,3,j)\n",
    "    EV=STAT[m]['eigval']\n",
    "    k=5\n",
    "    plot(([0,]+list(cumsum(EV[:k])))/sum(EV))\n",
    "    title('Percentage of Variance Explained for '+ m)\n",
    "    ylabel('Percentage of Variance')\n",
    "    xlabel('# Eigenvector')\n",
    "    grid()\n",
    "    "
   ]
  },
  {
   "cell_type": "code",
   "execution_count": 9,
   "metadata": {
    "run_control": {
     "frozen": false,
     "read_only": false
    },
    "scrolled": true,
    "slideshow": {
     "slide_type": "subslide"
    }
   },
   "outputs": [
    {
     "data": {
      "image/png": "[encoded data removed]",
      "text/plain": [
       "<matplotlib.figure.Figure at 0x10f770e90>"
      ]
     },
     "metadata": {},
     "output_type": "display_data"
    }
   ],
   "source": [
    "f=plt.figure(figsize=(15,4))\n",
    "j=1\n",
    "for m in ['TMIN', 'TOBS', 'TMAX']: #,\n",
    "    pltVarExplained(j)\n",
    "    j+=1"
   ]
  },
  {
   "cell_type": "code",
   "execution_count": 10,
   "metadata": {
    "run_control": {
     "frozen": false,
     "read_only": false
    },
    "slideshow": {
     "slide_type": "subslide"
    }
   },
   "outputs": [
    {
     "data": {
      "image/png": "[encoded data removed]",
      "text/plain": [
       "<matplotlib.figure.Figure at 0x110b0fa50>"
      ]
     },
     "metadata": {},
     "output_type": "display_data"
    }
   ],
   "source": [
    "f=plt.figure(figsize=(15,4))\n",
    "j=1\n",
    "for m in ['SNOW', 'SNWD', 'PRCP']:\n",
    "    pltVarExplained(j)\n",
    "    j+=1 "
   ]
  },
  {
   "cell_type": "code",
   "execution_count": 11,
   "metadata": {
    "collapsed": true,
    "run_control": {
     "frozen": false,
     "read_only": false
    },
    "slideshow": {
     "slide_type": "skip"
    }
   },
   "outputs": [],
   "source": [
    "#sc.stop()"
   ]
  },
  {
   "cell_type": "code",
   "execution_count": 12,
   "metadata": {
    "collapsed": true
   },
   "outputs": [],
   "source": [
    "stations=df.select(df['station'],df['latitude'],df['longitude']).collect()"
   ]
  },
  {
   "cell_type": "code",
   "execution_count": 13,
   "metadata": {
    "collapsed": true
   },
   "outputs": [],
   "source": [
    "n_stations=set(stations)\n",
    "n_stations=list(n_stations)"
   ]
  },
  {
   "cell_type": "code",
   "execution_count": 14,
   "metadata": {},
   "outputs": [
    {
     "data": {
      "text/html": [
       "<div>\n",
       "<table border=\"1\" class=\"dataframe\">\n",
       "  <thead>\n",
       "    <tr style=\"text-align: right;\">\n",
       "      <th></th>\n",
       "      <th>station</th>\n",
       "      <th>latitude</th>\n",
       "      <th>longitude</th>\n",
       "    </tr>\n",
       "  </thead>\n",
       "  <tbody>\n",
       "    <tr>\n",
       "      <th>0</th>\n",
       "      <td>USC00086836</td>\n",
       "      <td>30.1667</td>\n",
       "      <td>-85.7000</td>\n",
       "    </tr>\n",
       "    <tr>\n",
       "      <th>1</th>\n",
       "      <td>USC00016937</td>\n",
       "      <td>31.3500</td>\n",
       "      <td>-86.5333</td>\n",
       "    </tr>\n",
       "    <tr>\n",
       "      <th>2</th>\n",
       "      <td>USC00016942</td>\n",
       "      <td>31.3667</td>\n",
       "      <td>-86.5167</td>\n",
       "    </tr>\n",
       "    <tr>\n",
       "      <th>3</th>\n",
       "      <td>US1FLOK0019</td>\n",
       "      <td>30.3891</td>\n",
       "      <td>-86.4577</td>\n",
       "    </tr>\n",
       "    <tr>\n",
       "      <th>4</th>\n",
       "      <td>USC00015875</td>\n",
       "      <td>31.3458</td>\n",
       "      <td>-85.6228</td>\n",
       "    </tr>\n",
       "    <tr>\n",
       "      <th>5</th>\n",
       "      <td>US1FLES0010</td>\n",
       "      <td>30.5000</td>\n",
       "      <td>-87.1894</td>\n",
       "    </tr>\n",
       "    <tr>\n",
       "      <th>6</th>\n",
       "      <td>USC00010252</td>\n",
       "      <td>31.3072</td>\n",
       "      <td>-86.5225</td>\n",
       "    </tr>\n",
       "    <tr>\n",
       "      <th>7</th>\n",
       "      <td>USC00080531</td>\n",
       "      <td>30.1667</td>\n",
       "      <td>-85.7167</td>\n",
       "    </tr>\n",
       "    <tr>\n",
       "      <th>8</th>\n",
       "      <td>US1ALWS0001</td>\n",
       "      <td>31.5095</td>\n",
       "      <td>-87.9600</td>\n",
       "    </tr>\n",
       "    <tr>\n",
       "      <th>9</th>\n",
       "      <td>USC00086842</td>\n",
       "      <td>30.2492</td>\n",
       "      <td>-85.6606</td>\n",
       "    </tr>\n",
       "    <tr>\n",
       "      <th>10</th>\n",
       "      <td>USC00015842</td>\n",
       "      <td>31.4000</td>\n",
       "      <td>-85.9333</td>\n",
       "    </tr>\n",
       "    <tr>\n",
       "      <th>11</th>\n",
       "      <td>US1ALMB0032</td>\n",
       "      <td>30.5117</td>\n",
       "      <td>-88.3218</td>\n",
       "    </tr>\n",
       "    <tr>\n",
       "      <th>12</th>\n",
       "      <td>USW00063873</td>\n",
       "      <td>31.3500</td>\n",
       "      <td>-85.6667</td>\n",
       "    </tr>\n",
       "    <tr>\n",
       "      <th>13</th>\n",
       "      <td>US1ALMB0018</td>\n",
       "      <td>30.8170</td>\n",
       "      <td>-88.0757</td>\n",
       "    </tr>\n",
       "    <tr>\n",
       "      <th>14</th>\n",
       "      <td>USC00010583</td>\n",
       "      <td>30.8839</td>\n",
       "      <td>-87.7853</td>\n",
       "    </tr>\n",
       "    <tr>\n",
       "      <th>15</th>\n",
       "      <td>US1FLOK0001</td>\n",
       "      <td>30.4939</td>\n",
       "      <td>-86.4398</td>\n",
       "    </tr>\n",
       "    <tr>\n",
       "      <th>16</th>\n",
       "      <td>USW00053843</td>\n",
       "      <td>31.3089</td>\n",
       "      <td>-86.3939</td>\n",
       "    </tr>\n",
       "    <tr>\n",
       "      <th>17</th>\n",
       "      <td>USC00011807</td>\n",
       "      <td>31.1833</td>\n",
       "      <td>-85.9333</td>\n",
       "    </tr>\n",
       "    <tr>\n",
       "      <th>18</th>\n",
       "      <td>US1ALBW0026</td>\n",
       "      <td>30.6216</td>\n",
       "      <td>-87.7578</td>\n",
       "    </tr>\n",
       "    <tr>\n",
       "      <th>19</th>\n",
       "      <td>USC00018637</td>\n",
       "      <td>31.2100</td>\n",
       "      <td>-87.1789</td>\n",
       "    </tr>\n",
       "    <tr>\n",
       "      <th>20</th>\n",
       "      <td>US1ALBW0011</td>\n",
       "      <td>30.2968</td>\n",
       "      <td>-87.5425</td>\n",
       "    </tr>\n",
       "    <tr>\n",
       "      <th>21</th>\n",
       "      <td>US1ALMB0047</td>\n",
       "      <td>30.6808</td>\n",
       "      <td>-88.0888</td>\n",
       "    </tr>\n",
       "    <tr>\n",
       "      <th>22</th>\n",
       "      <td>US1FLOK0015</td>\n",
       "      <td>30.4784</td>\n",
       "      <td>-86.4372</td>\n",
       "    </tr>\n",
       "    <tr>\n",
       "      <th>23</th>\n",
       "      <td>US1ALBW0054</td>\n",
       "      <td>30.4410</td>\n",
       "      <td>-87.8947</td>\n",
       "    </tr>\n",
       "    <tr>\n",
       "      <th>24</th>\n",
       "      <td>USC00080765</td>\n",
       "      <td>30.9833</td>\n",
       "      <td>-86.6500</td>\n",
       "    </tr>\n",
       "    <tr>\n",
       "      <th>25</th>\n",
       "      <td>US1FLOK0023</td>\n",
       "      <td>30.7300</td>\n",
       "      <td>-86.5550</td>\n",
       "    </tr>\n",
       "    <tr>\n",
       "      <th>26</th>\n",
       "      <td>US1FLSR0004</td>\n",
       "      <td>30.6340</td>\n",
       "      <td>-87.1593</td>\n",
       "    </tr>\n",
       "    <tr>\n",
       "      <th>27</th>\n",
       "      <td>US1ALMB0035</td>\n",
       "      <td>30.6596</td>\n",
       "      <td>-88.2124</td>\n",
       "    </tr>\n",
       "    <tr>\n",
       "      <th>28</th>\n",
       "      <td>US1FLES0004</td>\n",
       "      <td>30.6040</td>\n",
       "      <td>-87.3122</td>\n",
       "    </tr>\n",
       "    <tr>\n",
       "      <th>29</th>\n",
       "      <td>USW00003815</td>\n",
       "      <td>30.4833</td>\n",
       "      <td>-87.3500</td>\n",
       "    </tr>\n",
       "    <tr>\n",
       "      <th>...</th>\n",
       "      <td>...</td>\n",
       "      <td>...</td>\n",
       "      <td>...</td>\n",
       "    </tr>\n",
       "    <tr>\n",
       "      <th>147</th>\n",
       "      <td>USC00014193</td>\n",
       "      <td>31.5253</td>\n",
       "      <td>-87.9278</td>\n",
       "    </tr>\n",
       "    <tr>\n",
       "      <th>148</th>\n",
       "      <td>USC00013035</td>\n",
       "      <td>30.2333</td>\n",
       "      <td>-88.0167</td>\n",
       "    </tr>\n",
       "    <tr>\n",
       "      <th>149</th>\n",
       "      <td>USC00011685</td>\n",
       "      <td>31.0833</td>\n",
       "      <td>-88.2333</td>\n",
       "    </tr>\n",
       "    <tr>\n",
       "      <th>150</th>\n",
       "      <td>US1ALBW0041</td>\n",
       "      <td>30.5170</td>\n",
       "      <td>-87.8455</td>\n",
       "    </tr>\n",
       "    <tr>\n",
       "      <th>151</th>\n",
       "      <td>USW00073805</td>\n",
       "      <td>30.3489</td>\n",
       "      <td>-85.7881</td>\n",
       "    </tr>\n",
       "    <tr>\n",
       "      <th>152</th>\n",
       "      <td>US1FLWS0001</td>\n",
       "      <td>30.5678</td>\n",
       "      <td>-85.8730</td>\n",
       "    </tr>\n",
       "    <tr>\n",
       "      <th>153</th>\n",
       "      <td>USW00053853</td>\n",
       "      <td>30.4000</td>\n",
       "      <td>-86.4717</td>\n",
       "    </tr>\n",
       "    <tr>\n",
       "      <th>154</th>\n",
       "      <td>US1ALMB0023</td>\n",
       "      <td>30.5733</td>\n",
       "      <td>-88.1900</td>\n",
       "    </tr>\n",
       "    <tr>\n",
       "      <th>155</th>\n",
       "      <td>USC00081984</td>\n",
       "      <td>30.7667</td>\n",
       "      <td>-86.5833</td>\n",
       "    </tr>\n",
       "    <tr>\n",
       "      <th>156</th>\n",
       "      <td>US1FLWT0005</td>\n",
       "      <td>30.8445</td>\n",
       "      <td>-86.2757</td>\n",
       "    </tr>\n",
       "    <tr>\n",
       "      <th>157</th>\n",
       "      <td>USC00082220</td>\n",
       "      <td>30.7244</td>\n",
       "      <td>-86.0939</td>\n",
       "    </tr>\n",
       "    <tr>\n",
       "      <th>158</th>\n",
       "      <td>US1FLES0002</td>\n",
       "      <td>30.3258</td>\n",
       "      <td>-87.4089</td>\n",
       "    </tr>\n",
       "    <tr>\n",
       "      <th>159</th>\n",
       "      <td>USC00013559</td>\n",
       "      <td>30.2833</td>\n",
       "      <td>-87.6833</td>\n",
       "    </tr>\n",
       "    <tr>\n",
       "      <th>160</th>\n",
       "      <td>US1FLOK0002</td>\n",
       "      <td>30.5244</td>\n",
       "      <td>-86.4924</td>\n",
       "    </tr>\n",
       "    <tr>\n",
       "      <th>161</th>\n",
       "      <td>US1FLOK0007</td>\n",
       "      <td>30.4078</td>\n",
       "      <td>-86.6097</td>\n",
       "    </tr>\n",
       "    <tr>\n",
       "      <th>162</th>\n",
       "      <td>USC00015483</td>\n",
       "      <td>30.6833</td>\n",
       "      <td>-88.0333</td>\n",
       "    </tr>\n",
       "    <tr>\n",
       "      <th>163</th>\n",
       "      <td>USC00012577</td>\n",
       "      <td>31.4239</td>\n",
       "      <td>-86.0667</td>\n",
       "    </tr>\n",
       "    <tr>\n",
       "      <th>164</th>\n",
       "      <td>US1ALMB0016</td>\n",
       "      <td>30.6951</td>\n",
       "      <td>-88.1594</td>\n",
       "    </tr>\n",
       "    <tr>\n",
       "      <th>165</th>\n",
       "      <td>USC00086240</td>\n",
       "      <td>30.5317</td>\n",
       "      <td>-86.4928</td>\n",
       "    </tr>\n",
       "    <tr>\n",
       "      <th>166</th>\n",
       "      <td>USC00012758</td>\n",
       "      <td>31.4450</td>\n",
       "      <td>-86.9533</td>\n",
       "    </tr>\n",
       "    <tr>\n",
       "      <th>167</th>\n",
       "      <td>US1ALMB0041</td>\n",
       "      <td>30.4411</td>\n",
       "      <td>-88.1196</td>\n",
       "    </tr>\n",
       "    <tr>\n",
       "      <th>168</th>\n",
       "      <td>USR0000ABNS</td>\n",
       "      <td>30.2528</td>\n",
       "      <td>-87.8125</td>\n",
       "    </tr>\n",
       "    <tr>\n",
       "      <th>169</th>\n",
       "      <td>USC00013105</td>\n",
       "      <td>31.3894</td>\n",
       "      <td>-87.4203</td>\n",
       "    </tr>\n",
       "    <tr>\n",
       "      <th>170</th>\n",
       "      <td>USW00013858</td>\n",
       "      <td>30.4833</td>\n",
       "      <td>-86.5167</td>\n",
       "    </tr>\n",
       "    <tr>\n",
       "      <th>171</th>\n",
       "      <td>US1ALBW0045</td>\n",
       "      <td>30.4880</td>\n",
       "      <td>-87.8002</td>\n",
       "    </tr>\n",
       "    <tr>\n",
       "      <th>172</th>\n",
       "      <td>US1ALMB0011</td>\n",
       "      <td>30.5682</td>\n",
       "      <td>-88.2331</td>\n",
       "    </tr>\n",
       "    <tr>\n",
       "      <th>173</th>\n",
       "      <td>US1ALBW0030</td>\n",
       "      <td>30.5235</td>\n",
       "      <td>-87.8260</td>\n",
       "    </tr>\n",
       "    <tr>\n",
       "      <th>174</th>\n",
       "      <td>US1ALBW0040</td>\n",
       "      <td>30.5072</td>\n",
       "      <td>-87.9083</td>\n",
       "    </tr>\n",
       "    <tr>\n",
       "      <th>175</th>\n",
       "      <td>USW00063869</td>\n",
       "      <td>30.5486</td>\n",
       "      <td>-87.8758</td>\n",
       "    </tr>\n",
       "    <tr>\n",
       "      <th>176</th>\n",
       "      <td>USC00080875</td>\n",
       "      <td>30.7833</td>\n",
       "      <td>-85.6833</td>\n",
       "    </tr>\n",
       "  </tbody>\n",
       "</table>\n",
       "<p>177 rows × 3 columns</p>\n",
       "</div>"
      ],
      "text/plain": [
       "         station  latitude  longitude\n",
       "0    USC00086836   30.1667   -85.7000\n",
       "1    USC00016937   31.3500   -86.5333\n",
       "2    USC00016942   31.3667   -86.5167\n",
       "3    US1FLOK0019   30.3891   -86.4577\n",
       "4    USC00015875   31.3458   -85.6228\n",
       "5    US1FLES0010   30.5000   -87.1894\n",
       "6    USC00010252   31.3072   -86.5225\n",
       "7    USC00080531   30.1667   -85.7167\n",
       "8    US1ALWS0001   31.5095   -87.9600\n",
       "9    USC00086842   30.2492   -85.6606\n",
       "10   USC00015842   31.4000   -85.9333\n",
       "11   US1ALMB0032   30.5117   -88.3218\n",
       "12   USW00063873   31.3500   -85.6667\n",
       "13   US1ALMB0018   30.8170   -88.0757\n",
       "14   USC00010583   30.8839   -87.7853\n",
       "15   US1FLOK0001   30.4939   -86.4398\n",
       "16   USW00053843   31.3089   -86.3939\n",
       "17   USC00011807   31.1833   -85.9333\n",
       "18   US1ALBW0026   30.6216   -87.7578\n",
       "19   USC00018637   31.2100   -87.1789\n",
       "20   US1ALBW0011   30.2968   -87.5425\n",
       "21   US1ALMB0047   30.6808   -88.0888\n",
       "22   US1FLOK0015   30.4784   -86.4372\n",
       "23   US1ALBW0054   30.4410   -87.8947\n",
       "24   USC00080765   30.9833   -86.6500\n",
       "25   US1FLOK0023   30.7300   -86.5550\n",
       "26   US1FLSR0004   30.6340   -87.1593\n",
       "27   US1ALMB0035   30.6596   -88.2124\n",
       "28   US1FLES0004   30.6040   -87.3122\n",
       "29   USW00003815   30.4833   -87.3500\n",
       "..           ...       ...        ...\n",
       "147  USC00014193   31.5253   -87.9278\n",
       "148  USC00013035   30.2333   -88.0167\n",
       "149  USC00011685   31.0833   -88.2333\n",
       "150  US1ALBW0041   30.5170   -87.8455\n",
       "151  USW00073805   30.3489   -85.7881\n",
       "152  US1FLWS0001   30.5678   -85.8730\n",
       "153  USW00053853   30.4000   -86.4717\n",
       "154  US1ALMB0023   30.5733   -88.1900\n",
       "155  USC00081984   30.7667   -86.5833\n",
       "156  US1FLWT0005   30.8445   -86.2757\n",
       "157  USC00082220   30.7244   -86.0939\n",
       "158  US1FLES0002   30.3258   -87.4089\n",
       "159  USC00013559   30.2833   -87.6833\n",
       "160  US1FLOK0002   30.5244   -86.4924\n",
       "161  US1FLOK0007   30.4078   -86.6097\n",
       "162  USC00015483   30.6833   -88.0333\n",
       "163  USC00012577   31.4239   -86.0667\n",
       "164  US1ALMB0016   30.6951   -88.1594\n",
       "165  USC00086240   30.5317   -86.4928\n",
       "166  USC00012758   31.4450   -86.9533\n",
       "167  US1ALMB0041   30.4411   -88.1196\n",
       "168  USR0000ABNS   30.2528   -87.8125\n",
       "169  USC00013105   31.3894   -87.4203\n",
       "170  USW00013858   30.4833   -86.5167\n",
       "171  US1ALBW0045   30.4880   -87.8002\n",
       "172  US1ALMB0011   30.5682   -88.2331\n",
       "173  US1ALBW0030   30.5235   -87.8260\n",
       "174  US1ALBW0040   30.5072   -87.9083\n",
       "175  USW00063869   30.5486   -87.8758\n",
       "176  USC00080875   30.7833   -85.6833\n",
       "\n",
       "[177 rows x 3 columns]"
      ]
     },
     "execution_count": 14,
     "metadata": {},
     "output_type": "execute_result"
    }
   ],
   "source": [
    "stations_df=pd.DataFrame(n_stations, columns=['station','latitude','longitude'])\n",
    "stations_df"
   ]
  },
  {
   "cell_type": "code",
   "execution_count": 15,
   "metadata": {},
   "outputs": [
    {
     "data": {
      "text/plain": [
       "31.525300000000001"
      ]
     },
     "execution_count": 15,
     "metadata": {},
     "output_type": "execute_result"
    }
   ],
   "source": [
    "max(stations_df['latitude'])"
   ]
  },
  {
   "cell_type": "code",
   "execution_count": 16,
   "metadata": {
    "collapsed": true
   },
   "outputs": [],
   "source": [
    "from ipyleaflet import (\n",
    "    Map,\n",
    "    Marker,\n",
    "    TileLayer, ImageOverlay,\n",
    "    Polyline, Polygon, Rectangle, Circle, CircleMarker,\n",
    "    GeoJSON,\n",
    "    DrawControl\n",
    ")"
   ]
  },
  {
   "cell_type": "code",
   "execution_count": 17,
   "metadata": {
    "collapsed": true
   },
   "outputs": [],
   "source": [
    "min_lat,max_lat,min_long,max_long = box = (min(stations_df['latitude']), \n",
    "                                           max(stations_df['latitude']), \n",
    "                                           min(stations_df['longitude']), \n",
    "                                           max(stations_df['longitude']))"
   ]
  },
  {
   "cell_type": "code",
   "execution_count": 18,
   "metadata": {},
   "outputs": [
    {
     "data": {
      "text/plain": [
       "(30.066700000000001, 31.525300000000001, -88.5, -85.582400000000007)"
      ]
     },
     "execution_count": 18,
     "metadata": {},
     "output_type": "execute_result"
    }
   ],
   "source": [
    "box"
   ]
  },
  {
   "cell_type": "code",
   "execution_count": 107,
   "metadata": {
    "collapsed": true
   },
   "outputs": [],
   "source": [
    "min_lat,max_lat,min_long,max_long = box = (30.51, \n",
    "                                           30.79, \n",
    "                                           -88.3, \n",
    "                                           -87.97)"
   ]
  },
  {
   "cell_type": "code",
   "execution_count": 266,
   "metadata": {},
   "outputs": [
    {
     "name": "stdout",
     "output_type": "stream",
     "text": [
      "[30.65, -88.13499999999999]\n"
     ]
    },
    {
     "name": "stderr",
     "output_type": "stream",
     "text": [
      "IOPub data rate exceeded.\n",
      "The notebook server will temporarily stop sending output\n",
      "to the client in order to avoid crashing it.\n",
      "To change this limit, set the config variable\n",
      "`--NotebookApp.iopub_data_rate_limit`.\n",
      "IOPub data rate exceeded.\n",
      "The notebook server will temporarily stop sending output\n",
      "to the client in order to avoid crashing it.\n",
      "To change this limit, set the config variable\n",
      "`--NotebookApp.iopub_data_rate_limit`.\n",
      "IOPub data rate exceeded.\n",
      "The notebook server will temporarily stop sending output\n",
      "to the client in order to avoid crashing it.\n",
      "To change this limit, set the config variable\n",
      "`--NotebookApp.iopub_data_rate_limit`.\n",
      "IOPub data rate exceeded.\n",
      "The notebook server will temporarily stop sending output\n",
      "to the client in order to avoid crashing it.\n",
      "To change this limit, set the config variable\n",
      "`--NotebookApp.iopub_data_rate_limit`.\n"
     ]
    },
    {
     "ename": "KeyboardInterrupt",
     "evalue": "",
     "output_type": "error",
     "traceback": [
      "\u001b[0;31m---------------------------------------------------------------------------\u001b[0m",
      "\u001b[0;31mKeyboardInterrupt\u001b[0m                         Traceback (most recent call last)",
      "\u001b[0;32m<ipython-input-266-1e541c14ab4a>\u001b[0m in \u001b[0;36m<module>\u001b[0;34m()\u001b[0m\n\u001b[1;32m     20\u001b[0m             color='#F00', opacity=0.8, fill_opacity=0.4)\n\u001b[1;32m     21\u001b[0m     \u001b[0mcircles\u001b[0m\u001b[0;34m.\u001b[0m\u001b[0mappend\u001b[0m\u001b[0;34m(\u001b[0m\u001b[0mc\u001b[0m\u001b[0;34m)\u001b[0m\u001b[0;34m\u001b[0m\u001b[0m\n\u001b[0;32m---> 22\u001b[0;31m     \u001b[0mm\u001b[0m\u001b[0;34m.\u001b[0m\u001b[0madd_layer\u001b[0m\u001b[0;34m(\u001b[0m\u001b[0mc\u001b[0m\u001b[0;34m)\u001b[0m\u001b[0;34m\u001b[0m\u001b[0m\n\u001b[0m\u001b[1;32m     23\u001b[0m \u001b[0mm\u001b[0m\u001b[0;34m\u001b[0m\u001b[0m\n",
      "\u001b[0;32m/Users/laurawilke/anaconda3/envs/py27_2/lib/python2.7/site-packages/ipyleaflet/leaflet.pyc\u001b[0m in \u001b[0;36madd_layer\u001b[0;34m(self, layer)\u001b[0m\n\u001b[1;32m    448\u001b[0m \u001b[0;34m\u001b[0m\u001b[0m\n\u001b[1;32m    449\u001b[0m     \u001b[0;32mdef\u001b[0m \u001b[0madd_layer\u001b[0m\u001b[0;34m(\u001b[0m\u001b[0mself\u001b[0m\u001b[0;34m,\u001b[0m \u001b[0mlayer\u001b[0m\u001b[0;34m)\u001b[0m\u001b[0;34m:\u001b[0m\u001b[0;34m\u001b[0m\u001b[0m\n\u001b[0;32m--> 450\u001b[0;31m         \u001b[0;32mif\u001b[0m \u001b[0mlayer\u001b[0m\u001b[0;34m.\u001b[0m\u001b[0mmodel_id\u001b[0m \u001b[0;32min\u001b[0m \u001b[0mself\u001b[0m\u001b[0;34m.\u001b[0m\u001b[0mlayer_ids\u001b[0m\u001b[0;34m:\u001b[0m\u001b[0;34m\u001b[0m\u001b[0m\n\u001b[0m\u001b[1;32m    451\u001b[0m             \u001b[0;32mraise\u001b[0m \u001b[0mLayerException\u001b[0m\u001b[0;34m(\u001b[0m\u001b[0;34m'layer already on map: %r'\u001b[0m \u001b[0;34m%\u001b[0m \u001b[0mlayer\u001b[0m\u001b[0;34m)\u001b[0m\u001b[0;34m\u001b[0m\u001b[0m\n\u001b[1;32m    452\u001b[0m         \u001b[0mlayer\u001b[0m\u001b[0;34m.\u001b[0m\u001b[0m_map\u001b[0m \u001b[0;34m=\u001b[0m \u001b[0mself\u001b[0m\u001b[0;34m\u001b[0m\u001b[0m\n",
      "\u001b[0;31mKeyboardInterrupt\u001b[0m: "
     ]
    }
   ],
   "source": [
    "center = [(min_lat+max_lat)/2, (min_long+max_long)/2]\n",
    "print center\n",
    "zoom = 9\n",
    "\n",
    "m = Map(default_tiles=TileLayer(opacity=1.0), center=center, zoom=zoom)\n",
    "\n",
    "r = Rectangle(bounds=[[min_lat,min_long],[max_lat,max_long]], weight=5, fill_opacity=0.0)\n",
    "m += r\n",
    "\n",
    "lat_margin=(max_lat-min_lat)/4\n",
    "long_margin=(max_long-min_long)/4\n",
    "circles = []\n",
    "for index,row in stations_df.iterrows():\n",
    "    _lat=row['latitude']\n",
    "    _long=row['longitude']\n",
    "    #_count=row['count(station)']\n",
    "    #_coef=row[_avg]\n",
    "    # taking sqrt of count so that the  area of the circle corresponds to the count\n",
    "    c = Circle(location=(_lat,_long), radius=int(300*np.sqrt(6+0.0)), weight=1,\n",
    "            color='#F00', opacity=0.8, fill_opacity=0.4)\n",
    "    circles.append(c)\n",
    "    m.add_layer(c)\n",
    "m    "
   ]
  },
  {
   "cell_type": "code",
   "execution_count": 286,
   "metadata": {
    "collapsed": true
   },
   "outputs": [],
   "source": [
    "Mobile=stations_df[(stations_df['longitude']<=-87.97) & (stations_df['longitude']>=-88.3)\n",
    "           &(stations_df['latitude']>=30.51) &(stations_df['latitude']<=30.79)]"
   ]
  },
  {
   "cell_type": "code",
   "execution_count": 287,
   "metadata": {},
   "outputs": [
    {
     "data": {
      "text/plain": [
       "49.35559999999957"
      ]
     },
     "execution_count": 287,
     "metadata": {},
     "output_type": "execute_result"
    }
   ],
   "source": [
    "(30.79-30.51)*abs(-87.97+-88.3)"
   ]
  },
  {
   "cell_type": "code",
   "execution_count": 288,
   "metadata": {
    "collapsed": true
   },
   "outputs": [],
   "source": [
    "Mobile_stat=Mobile['station']"
   ]
  },
  {
   "cell_type": "code",
   "execution_count": 289,
   "metadata": {},
   "outputs": [
    {
     "ename": "KeyError",
     "evalue": "'Column not found: year'",
     "output_type": "error",
     "traceback": [
      "\u001b[0;31m---------------------------------------------------------------------------\u001b[0m",
      "\u001b[0;31mKeyError\u001b[0m                                  Traceback (most recent call last)",
      "\u001b[0;32m<ipython-input-289-c390682d72d9>\u001b[0m in \u001b[0;36m<module>\u001b[0;34m()\u001b[0m\n\u001b[0;32m----> 1\u001b[0;31m \u001b[0mMobile\u001b[0m\u001b[0;34m.\u001b[0m\u001b[0mgroupby\u001b[0m\u001b[0;34m(\u001b[0m\u001b[0;34m[\u001b[0m\u001b[0;34m'station'\u001b[0m\u001b[0;34m]\u001b[0m\u001b[0;34m,\u001b[0m\u001b[0mas_index\u001b[0m\u001b[0;34m=\u001b[0m\u001b[0mTrue\u001b[0m\u001b[0;34m)\u001b[0m\u001b[0;34m[\u001b[0m\u001b[0;34m'year'\u001b[0m\u001b[0;34m]\u001b[0m\u001b[0;34m.\u001b[0m\u001b[0mmax\u001b[0m\u001b[0;34m(\u001b[0m\u001b[0;34m)\u001b[0m\u001b[0;34m\u001b[0m\u001b[0m\n\u001b[0m",
      "\u001b[0;32m/Users/laurawilke/anaconda3/envs/py27_2/lib/python2.7/site-packages/pandas/core/base.pyc\u001b[0m in \u001b[0;36m__getitem__\u001b[0;34m(self, key)\u001b[0m\n\u001b[1;32m    345\u001b[0m         \u001b[0;32melse\u001b[0m\u001b[0;34m:\u001b[0m\u001b[0;34m\u001b[0m\u001b[0m\n\u001b[1;32m    346\u001b[0m             \u001b[0;32mif\u001b[0m \u001b[0mkey\u001b[0m \u001b[0;32mnot\u001b[0m \u001b[0;32min\u001b[0m \u001b[0mself\u001b[0m\u001b[0;34m.\u001b[0m\u001b[0mobj\u001b[0m\u001b[0;34m:\u001b[0m\u001b[0;34m\u001b[0m\u001b[0m\n\u001b[0;32m--> 347\u001b[0;31m                 \u001b[0;32mraise\u001b[0m \u001b[0mKeyError\u001b[0m\u001b[0;34m(\u001b[0m\u001b[0;34m\"Column not found: %s\"\u001b[0m \u001b[0;34m%\u001b[0m \u001b[0mkey\u001b[0m\u001b[0;34m)\u001b[0m\u001b[0;34m\u001b[0m\u001b[0m\n\u001b[0m\u001b[1;32m    348\u001b[0m             \u001b[0;32mreturn\u001b[0m \u001b[0mself\u001b[0m\u001b[0;34m.\u001b[0m\u001b[0m_gotitem\u001b[0m\u001b[0;34m(\u001b[0m\u001b[0mkey\u001b[0m\u001b[0;34m,\u001b[0m \u001b[0mndim\u001b[0m\u001b[0;34m=\u001b[0m\u001b[0;36m1\u001b[0m\u001b[0;34m)\u001b[0m\u001b[0;34m\u001b[0m\u001b[0m\n\u001b[1;32m    349\u001b[0m \u001b[0;34m\u001b[0m\u001b[0m\n",
      "\u001b[0;31mKeyError\u001b[0m: 'Column not found: year'"
     ]
    }
   ],
   "source": [
    "Mobile.groupby(['station'],as_index=True)['year'].max()"
   ]
  },
  {
   "cell_type": "code",
   "execution_count": 290,
   "metadata": {
    "collapsed": true
   },
   "outputs": [],
   "source": [
    "stats=Mobile_stat.tolist()"
   ]
  },
  {
   "cell_type": "code",
   "execution_count": 291,
   "metadata": {},
   "outputs": [
    {
     "data": {
      "text/plain": [
       "[u'US1ALMB0047',\n",
       " u'US1ALMB0035',\n",
       " u'US1ALMB0056',\n",
       " u'USW00013838',\n",
       " u'US1ALMB0050',\n",
       " u'US1ALMB0004',\n",
       " u'US1ALMB0049',\n",
       " u'US1ALMB0044',\n",
       " u'US1ALMB0037',\n",
       " u'US1ALMB0024',\n",
       " u'US1ALMB0017',\n",
       " u'US1ALMB0001',\n",
       " u'USW00013894',\n",
       " u'US1ALMB0042',\n",
       " u'USC00017733',\n",
       " u'US1ALMB0010',\n",
       " u'US1ALMB0023',\n",
       " u'USC00015483',\n",
       " u'US1ALMB0016',\n",
       " u'US1ALMB0011']"
      ]
     },
     "execution_count": 291,
     "metadata": {},
     "output_type": "execute_result"
    }
   ],
   "source": [
    "stats"
   ]
  },
  {
   "cell_type": "code",
   "execution_count": 150,
   "metadata": {
    "collapsed": true
   },
   "outputs": [],
   "source": [
    "Mobile_data=pd.DataFrame\n",
    "for i in range(len(stats)):\n",
    "    a=df_DF[df_DF['station']==stats[i]]\n",
    "    if i==0:\n",
    "        Mobile_data=a\n",
    "    else:\n",
    "        Mobile_data=pd.concat([Mobile_data,a])"
   ]
  },
  {
   "cell_type": "code",
   "execution_count": 151,
   "metadata": {
    "collapsed": true
   },
   "outputs": [
    {
     "data": {
      "text/html": [
       "<div>\n",
       "<table border=\"1\" class=\"dataframe\">\n",
       "  <thead>\n",
       "    <tr style=\"text-align: right;\">\n",
       "      <th></th>\n",
       "      <th>elevation</th>\n",
       "      <th>latitude</th>\n",
       "      <th>longitude</th>\n",
       "      <th>measurement</th>\n",
       "      <th>station</th>\n",
       "      <th>undefs</th>\n",
       "      <th>vector</th>\n",
       "      <th>year</th>\n",
       "      <th>label</th>\n",
       "    </tr>\n",
       "  </thead>\n",
       "  <tbody>\n",
       "    <tr>\n",
       "      <th>7624</th>\n",
       "      <td>14.9</td>\n",
       "      <td>30.6808</td>\n",
       "      <td>-88.0888</td>\n",
       "      <td>PRCP</td>\n",
       "      <td>US1ALMB0047</td>\n",
       "      <td>13</td>\n",
       "      <td>[0, 126, 0, 126, 0, 126, 0, 126, 0, 126, 0, 12...</td>\n",
       "      <td>2008.0</td>\n",
       "      <td>BSSSBSBS</td>\n",
       "    </tr>\n",
       "    <tr>\n",
       "      <th>7625</th>\n",
       "      <td>14.9</td>\n",
       "      <td>30.6808</td>\n",
       "      <td>-88.0888</td>\n",
       "      <td>PRCP</td>\n",
       "      <td>US1ALMB0047</td>\n",
       "      <td>4</td>\n",
       "      <td>[0, 0, 0, 0, 0, 0, 16, 88, 0, 66, 0, 0, 80, 89...</td>\n",
       "      <td>2009.0</td>\n",
       "      <td>BSSSBSBS</td>\n",
       "    </tr>\n",
       "    <tr>\n",
       "      <th>7626</th>\n",
       "      <td>14.9</td>\n",
       "      <td>30.6808</td>\n",
       "      <td>-88.0888</td>\n",
       "      <td>PRCP</td>\n",
       "      <td>US1ALMB0047</td>\n",
       "      <td>5</td>\n",
       "      <td>[0, 73, 0, 0, 0, 0, 0, 0, 0, 0, 0, 0, 0, 0, 80...</td>\n",
       "      <td>2010.0</td>\n",
       "      <td>BSSSBSBS</td>\n",
       "    </tr>\n",
       "    <tr>\n",
       "      <th>7627</th>\n",
       "      <td>14.9</td>\n",
       "      <td>30.6808</td>\n",
       "      <td>-88.0888</td>\n",
       "      <td>PRCP</td>\n",
       "      <td>US1ALMB0047</td>\n",
       "      <td>5</td>\n",
       "      <td>[96, 85, 64, 83, 0, 0, 0, 0, 4, 92, 0, 77, 0, ...</td>\n",
       "      <td>2011.0</td>\n",
       "      <td>BSSSBSBS</td>\n",
       "    </tr>\n",
       "    <tr>\n",
       "      <th>11392</th>\n",
       "      <td>14.9</td>\n",
       "      <td>30.6808</td>\n",
       "      <td>-88.0888</td>\n",
       "      <td>SNOW</td>\n",
       "      <td>US1ALMB0047</td>\n",
       "      <td>19</td>\n",
       "      <td>[0, 126, 0, 126, 0, 126, 0, 126, 0, 126, 0, 12...</td>\n",
       "      <td>2008.0</td>\n",
       "      <td>BSSSBSBS</td>\n",
       "    </tr>\n",
       "    <tr>\n",
       "      <th>6108</th>\n",
       "      <td>45.1</td>\n",
       "      <td>30.6596</td>\n",
       "      <td>-88.2124</td>\n",
       "      <td>PRCP</td>\n",
       "      <td>US1ALMB0035</td>\n",
       "      <td>27</td>\n",
       "      <td>[80, 84, 48, 86, 0, 0, 0, 0, 192, 84, 232, 88,...</td>\n",
       "      <td>2011.0</td>\n",
       "      <td>BSSSBSBS</td>\n",
       "    </tr>\n",
       "    <tr>\n",
       "      <th>7635</th>\n",
       "      <td>41.5</td>\n",
       "      <td>30.6686</td>\n",
       "      <td>-88.1667</td>\n",
       "      <td>PRCP</td>\n",
       "      <td>US1ALMB0056</td>\n",
       "      <td>30</td>\n",
       "      <td>[0, 126, 0, 126, 0, 126, 0, 0, 0, 0, 0, 0, 0, ...</td>\n",
       "      <td>2010.0</td>\n",
       "      <td>BSSSBSBS</td>\n",
       "    </tr>\n",
       "    <tr>\n",
       "      <th>7636</th>\n",
       "      <td>41.5</td>\n",
       "      <td>30.6686</td>\n",
       "      <td>-88.1667</td>\n",
       "      <td>PRCP</td>\n",
       "      <td>US1ALMB0056</td>\n",
       "      <td>35</td>\n",
       "      <td>[0, 126, 0, 126, 0, 126, 0, 126, 136, 91, 0, 7...</td>\n",
       "      <td>2011.0</td>\n",
       "      <td>BSSSBSBS</td>\n",
       "    </tr>\n",
       "    <tr>\n",
       "      <th>481</th>\n",
       "      <td>7.9</td>\n",
       "      <td>30.6264</td>\n",
       "      <td>-88.0681</td>\n",
       "      <td>TMAX</td>\n",
       "      <td>USW00013838</td>\n",
       "      <td>1</td>\n",
       "      <td>[240, 86, 232, 89, 16, 90, 152, 90, 72, 91, 16...</td>\n",
       "      <td>1949.0</td>\n",
       "      <td>BSSSBSBS</td>\n",
       "    </tr>\n",
       "    <tr>\n",
       "      <th>482</th>\n",
       "      <td>7.9</td>\n",
       "      <td>30.6264</td>\n",
       "      <td>-88.0681</td>\n",
       "      <td>TMAX</td>\n",
       "      <td>USW00013838</td>\n",
       "      <td>2</td>\n",
       "      <td>[152, 90, 240, 90, 240, 90, 120, 91, 72, 91, 7...</td>\n",
       "      <td>1950.0</td>\n",
       "      <td>BSSSBSBS</td>\n",
       "    </tr>\n",
       "    <tr>\n",
       "      <th>483</th>\n",
       "      <td>7.9</td>\n",
       "      <td>30.6264</td>\n",
       "      <td>-88.0681</td>\n",
       "      <td>TMAX</td>\n",
       "      <td>USW00013838</td>\n",
       "      <td>2</td>\n",
       "      <td>[8, 89, 232, 89, 16, 90, 144, 89, 184, 89, 152...</td>\n",
       "      <td>1951.0</td>\n",
       "      <td>BSSSBSBS</td>\n",
       "    </tr>\n",
       "    <tr>\n",
       "      <th>484</th>\n",
       "      <td>7.9</td>\n",
       "      <td>30.6264</td>\n",
       "      <td>-88.0681</td>\n",
       "      <td>TMAX</td>\n",
       "      <td>USW00013838</td>\n",
       "      <td>0</td>\n",
       "      <td>[120, 91, 120, 91, 160, 91, 200, 90, 16, 90, 8...</td>\n",
       "      <td>1952.0</td>\n",
       "      <td>BSSSBSBS</td>\n",
       "    </tr>\n",
       "    <tr>\n",
       "      <th>485</th>\n",
       "      <td>7.9</td>\n",
       "      <td>30.6264</td>\n",
       "      <td>-88.0681</td>\n",
       "      <td>TMAX</td>\n",
       "      <td>USW00013838</td>\n",
       "      <td>0</td>\n",
       "      <td>[128, 88, 232, 89, 160, 86, 88, 88, 56, 89, 20...</td>\n",
       "      <td>1953.0</td>\n",
       "      <td>BSSSBSBS</td>\n",
       "    </tr>\n",
       "    <tr>\n",
       "      <th>486</th>\n",
       "      <td>7.9</td>\n",
       "      <td>30.6264</td>\n",
       "      <td>-88.0681</td>\n",
       "      <td>TMAX</td>\n",
       "      <td>USW00013838</td>\n",
       "      <td>0</td>\n",
       "      <td>[88, 88, 184, 89, 64, 90, 16, 90, 232, 89, 184...</td>\n",
       "      <td>1954.0</td>\n",
       "      <td>BSSSBSBS</td>\n",
       "    </tr>\n",
       "    <tr>\n",
       "      <th>487</th>\n",
       "      <td>7.9</td>\n",
       "      <td>30.6264</td>\n",
       "      <td>-88.0681</td>\n",
       "      <td>TMAX</td>\n",
       "      <td>USW00013838</td>\n",
       "      <td>0</td>\n",
       "      <td>[240, 90, 240, 90, 152, 90, 64, 90, 184, 89, 3...</td>\n",
       "      <td>1955.0</td>\n",
       "      <td>BSSSBSBS</td>\n",
       "    </tr>\n",
       "    <tr>\n",
       "      <th>488</th>\n",
       "      <td>7.9</td>\n",
       "      <td>30.6264</td>\n",
       "      <td>-88.0681</td>\n",
       "      <td>TMAX</td>\n",
       "      <td>USW00013838</td>\n",
       "      <td>0</td>\n",
       "      <td>[0, 88, 16, 90, 200, 90, 56, 89, 112, 90, 240,...</td>\n",
       "      <td>1956.0</td>\n",
       "      <td>BSSSBSBS</td>\n",
       "    </tr>\n",
       "    <tr>\n",
       "      <th>489</th>\n",
       "      <td>7.9</td>\n",
       "      <td>30.6264</td>\n",
       "      <td>-88.0681</td>\n",
       "      <td>TMAX</td>\n",
       "      <td>USW00013838</td>\n",
       "      <td>3</td>\n",
       "      <td>[72, 91, 160, 87, 56, 89, 16, 90, 72, 91, 128,...</td>\n",
       "      <td>1957.0</td>\n",
       "      <td>BSSSBSBS</td>\n",
       "    </tr>\n",
       "    <tr>\n",
       "      <th>490</th>\n",
       "      <td>7.9</td>\n",
       "      <td>30.6264</td>\n",
       "      <td>-88.0681</td>\n",
       "      <td>TMAX</td>\n",
       "      <td>USW00013838</td>\n",
       "      <td>0</td>\n",
       "      <td>[176, 88, 48, 84, 160, 87, 160, 87, 48, 85, 0,...</td>\n",
       "      <td>1958.0</td>\n",
       "      <td>BSSSBSBS</td>\n",
       "    </tr>\n",
       "    <tr>\n",
       "      <th>491</th>\n",
       "      <td>7.9</td>\n",
       "      <td>30.6264</td>\n",
       "      <td>-88.0681</td>\n",
       "      <td>TMAX</td>\n",
       "      <td>USW00013838</td>\n",
       "      <td>1</td>\n",
       "      <td>[176, 88, 64, 86, 176, 88, 160, 87, 32, 80, 48...</td>\n",
       "      <td>1959.0</td>\n",
       "      <td>BSSSBSBS</td>\n",
       "    </tr>\n",
       "    <tr>\n",
       "      <th>492</th>\n",
       "      <td>7.9</td>\n",
       "      <td>30.6264</td>\n",
       "      <td>-88.0681</td>\n",
       "      <td>TMAX</td>\n",
       "      <td>USW00013838</td>\n",
       "      <td>0</td>\n",
       "      <td>[64, 86, 152, 90, 184, 89, 224, 85, 0, 88, 160...</td>\n",
       "      <td>1960.0</td>\n",
       "      <td>BSSSBSBS</td>\n",
       "    </tr>\n",
       "    <tr>\n",
       "      <th>493</th>\n",
       "      <td>7.9</td>\n",
       "      <td>30.6264</td>\n",
       "      <td>-88.0681</td>\n",
       "      <td>TMAX</td>\n",
       "      <td>USW00013838</td>\n",
       "      <td>0</td>\n",
       "      <td>[0, 88, 160, 86, 240, 86, 0, 88, 160, 87, 176,...</td>\n",
       "      <td>1961.0</td>\n",
       "      <td>BSSSBSBS</td>\n",
       "    </tr>\n",
       "    <tr>\n",
       "      <th>494</th>\n",
       "      <td>7.9</td>\n",
       "      <td>30.6264</td>\n",
       "      <td>-88.0681</td>\n",
       "      <td>TMAX</td>\n",
       "      <td>USW00013838</td>\n",
       "      <td>1</td>\n",
       "      <td>[144, 85, 160, 87, 88, 88, 96, 89, 232, 89, 17...</td>\n",
       "      <td>1962.0</td>\n",
       "      <td>BSSSBSBS</td>\n",
       "    </tr>\n",
       "    <tr>\n",
       "      <th>495</th>\n",
       "      <td>7.9</td>\n",
       "      <td>30.6264</td>\n",
       "      <td>-88.0681</td>\n",
       "      <td>TMAX</td>\n",
       "      <td>USW00013838</td>\n",
       "      <td>0</td>\n",
       "      <td>[176, 88, 40, 88, 184, 89, 8, 89, 40, 88, 80, ...</td>\n",
       "      <td>1963.0</td>\n",
       "      <td>BSSSBSBS</td>\n",
       "    </tr>\n",
       "    <tr>\n",
       "      <th>496</th>\n",
       "      <td>7.9</td>\n",
       "      <td>30.6264</td>\n",
       "      <td>-88.0681</td>\n",
       "      <td>TMAX</td>\n",
       "      <td>USW00013838</td>\n",
       "      <td>0</td>\n",
       "      <td>[0, 79, 224, 88, 56, 89, 96, 89, 56, 89, 184, ...</td>\n",
       "      <td>1964.0</td>\n",
       "      <td>BSSSBSBS</td>\n",
       "    </tr>\n",
       "    <tr>\n",
       "      <th>497</th>\n",
       "      <td>7.9</td>\n",
       "      <td>30.6264</td>\n",
       "      <td>-88.0681</td>\n",
       "      <td>TMAX</td>\n",
       "      <td>USW00013838</td>\n",
       "      <td>0</td>\n",
       "      <td>[240, 90, 72, 91, 184, 89, 128, 88, 232, 89, 2...</td>\n",
       "      <td>1965.0</td>\n",
       "      <td>BSSSBSBS</td>\n",
       "    </tr>\n",
       "    <tr>\n",
       "      <th>498</th>\n",
       "      <td>7.9</td>\n",
       "      <td>30.6264</td>\n",
       "      <td>-88.0681</td>\n",
       "      <td>TMAX</td>\n",
       "      <td>USW00013838</td>\n",
       "      <td>12</td>\n",
       "      <td>[112, 90, 56, 89, 200, 90, 32, 91, 240, 90, 14...</td>\n",
       "      <td>1997.0</td>\n",
       "      <td>BSSSBSBS</td>\n",
       "    </tr>\n",
       "    <tr>\n",
       "      <th>499</th>\n",
       "      <td>7.9</td>\n",
       "      <td>30.6264</td>\n",
       "      <td>-88.0681</td>\n",
       "      <td>TMAX</td>\n",
       "      <td>USW00013838</td>\n",
       "      <td>14</td>\n",
       "      <td>[80, 87, 224, 88, 112, 90, 152, 90, 184, 89, 1...</td>\n",
       "      <td>1998.0</td>\n",
       "      <td>BSSSBSBS</td>\n",
       "    </tr>\n",
       "    <tr>\n",
       "      <th>500</th>\n",
       "      <td>7.9</td>\n",
       "      <td>30.6264</td>\n",
       "      <td>-88.0681</td>\n",
       "      <td>TMAX</td>\n",
       "      <td>USW00013838</td>\n",
       "      <td>5</td>\n",
       "      <td>[144, 89, 232, 89, 48, 84, 128, 81, 128, 81, 4...</td>\n",
       "      <td>1999.0</td>\n",
       "      <td>BSSSBSBS</td>\n",
       "    </tr>\n",
       "    <tr>\n",
       "      <th>501</th>\n",
       "      <td>7.9</td>\n",
       "      <td>30.6264</td>\n",
       "      <td>-88.0681</td>\n",
       "      <td>TMAX</td>\n",
       "      <td>USW00013838</td>\n",
       "      <td>1</td>\n",
       "      <td>[200, 90, 32, 91, 200, 90, 240, 90, 160, 87, 1...</td>\n",
       "      <td>2000.0</td>\n",
       "      <td>BSSSBSBS</td>\n",
       "    </tr>\n",
       "    <tr>\n",
       "      <th>502</th>\n",
       "      <td>7.9</td>\n",
       "      <td>30.6264</td>\n",
       "      <td>-88.0681</td>\n",
       "      <td>TMAX</td>\n",
       "      <td>USW00013838</td>\n",
       "      <td>0</td>\n",
       "      <td>[128, 84, 128, 81, 224, 80, 224, 84, 16, 90, 8...</td>\n",
       "      <td>2001.0</td>\n",
       "      <td>BSSSBSBS</td>\n",
       "    </tr>\n",
       "    <tr>\n",
       "      <th>...</th>\n",
       "      <td>...</td>\n",
       "      <td>...</td>\n",
       "      <td>...</td>\n",
       "      <td>...</td>\n",
       "      <td>...</td>\n",
       "      <td>...</td>\n",
       "      <td>...</td>\n",
       "      <td>...</td>\n",
       "      <td>...</td>\n",
       "    </tr>\n",
       "    <tr>\n",
       "      <th>9884</th>\n",
       "      <td>3.0</td>\n",
       "      <td>30.6833</td>\n",
       "      <td>-88.0333</td>\n",
       "      <td>SNWD</td>\n",
       "      <td>USC00015483</td>\n",
       "      <td>0</td>\n",
       "      <td>[0, 0, 0, 0, 0, 0, 0, 0, 0, 0, 0, 0, 0, 0, 0, ...</td>\n",
       "      <td>1947.0</td>\n",
       "      <td>BSSSBSBS</td>\n",
       "    </tr>\n",
       "    <tr>\n",
       "      <th>9885</th>\n",
       "      <td>3.0</td>\n",
       "      <td>30.6833</td>\n",
       "      <td>-88.0333</td>\n",
       "      <td>SNWD</td>\n",
       "      <td>USC00015483</td>\n",
       "      <td>0</td>\n",
       "      <td>[0, 0, 0, 0, 0, 0, 0, 0, 0, 0, 0, 0, 0, 0, 0, ...</td>\n",
       "      <td>1948.0</td>\n",
       "      <td>BSSSBSBS</td>\n",
       "    </tr>\n",
       "    <tr>\n",
       "      <th>9886</th>\n",
       "      <td>3.0</td>\n",
       "      <td>30.6833</td>\n",
       "      <td>-88.0333</td>\n",
       "      <td>SNWD</td>\n",
       "      <td>USC00015483</td>\n",
       "      <td>0</td>\n",
       "      <td>[0, 0, 0, 0, 0, 0, 0, 0, 0, 0, 0, 0, 0, 0, 0, ...</td>\n",
       "      <td>1949.0</td>\n",
       "      <td>BSSSBSBS</td>\n",
       "    </tr>\n",
       "    <tr>\n",
       "      <th>9887</th>\n",
       "      <td>3.0</td>\n",
       "      <td>30.6833</td>\n",
       "      <td>-88.0333</td>\n",
       "      <td>SNWD</td>\n",
       "      <td>USC00015483</td>\n",
       "      <td>0</td>\n",
       "      <td>[0, 0, 0, 0, 0, 0, 0, 0, 0, 0, 0, 0, 0, 0, 0, ...</td>\n",
       "      <td>1950.0</td>\n",
       "      <td>BSSSBSBS</td>\n",
       "    </tr>\n",
       "    <tr>\n",
       "      <th>9888</th>\n",
       "      <td>3.0</td>\n",
       "      <td>30.6833</td>\n",
       "      <td>-88.0333</td>\n",
       "      <td>SNWD</td>\n",
       "      <td>USC00015483</td>\n",
       "      <td>0</td>\n",
       "      <td>[0, 0, 0, 0, 0, 0, 0, 0, 0, 0, 0, 0, 0, 0, 0, ...</td>\n",
       "      <td>1951.0</td>\n",
       "      <td>BSSSBSBS</td>\n",
       "    </tr>\n",
       "    <tr>\n",
       "      <th>9889</th>\n",
       "      <td>3.0</td>\n",
       "      <td>30.6833</td>\n",
       "      <td>-88.0333</td>\n",
       "      <td>SNWD</td>\n",
       "      <td>USC00015483</td>\n",
       "      <td>1</td>\n",
       "      <td>[0, 0, 0, 0, 0, 0, 0, 0, 0, 0, 0, 0, 0, 0, 0, ...</td>\n",
       "      <td>1952.0</td>\n",
       "      <td>BSSSBSBS</td>\n",
       "    </tr>\n",
       "    <tr>\n",
       "      <th>9890</th>\n",
       "      <td>3.0</td>\n",
       "      <td>30.6833</td>\n",
       "      <td>-88.0333</td>\n",
       "      <td>SNWD</td>\n",
       "      <td>USC00015483</td>\n",
       "      <td>0</td>\n",
       "      <td>[0, 0, 0, 0, 0, 0, 0, 0, 0, 0, 0, 0, 0, 0, 0, ...</td>\n",
       "      <td>1953.0</td>\n",
       "      <td>BSSSBSBS</td>\n",
       "    </tr>\n",
       "    <tr>\n",
       "      <th>9891</th>\n",
       "      <td>3.0</td>\n",
       "      <td>30.6833</td>\n",
       "      <td>-88.0333</td>\n",
       "      <td>SNWD</td>\n",
       "      <td>USC00015483</td>\n",
       "      <td>0</td>\n",
       "      <td>[0, 0, 0, 0, 0, 0, 0, 0, 0, 0, 0, 0, 0, 0, 0, ...</td>\n",
       "      <td>1954.0</td>\n",
       "      <td>BSSSBSBS</td>\n",
       "    </tr>\n",
       "    <tr>\n",
       "      <th>9892</th>\n",
       "      <td>3.0</td>\n",
       "      <td>30.6833</td>\n",
       "      <td>-88.0333</td>\n",
       "      <td>SNWD</td>\n",
       "      <td>USC00015483</td>\n",
       "      <td>0</td>\n",
       "      <td>[0, 0, 0, 0, 0, 0, 0, 0, 0, 0, 0, 0, 0, 0, 0, ...</td>\n",
       "      <td>1955.0</td>\n",
       "      <td>BSSSBSBS</td>\n",
       "    </tr>\n",
       "    <tr>\n",
       "      <th>9893</th>\n",
       "      <td>3.0</td>\n",
       "      <td>30.6833</td>\n",
       "      <td>-88.0333</td>\n",
       "      <td>SNWD</td>\n",
       "      <td>USC00015483</td>\n",
       "      <td>0</td>\n",
       "      <td>[0, 0, 0, 0, 0, 0, 0, 0, 0, 0, 0, 0, 0, 0, 0, ...</td>\n",
       "      <td>1956.0</td>\n",
       "      <td>BSSSBSBS</td>\n",
       "    </tr>\n",
       "    <tr>\n",
       "      <th>9894</th>\n",
       "      <td>3.0</td>\n",
       "      <td>30.6833</td>\n",
       "      <td>-88.0333</td>\n",
       "      <td>SNWD</td>\n",
       "      <td>USC00015483</td>\n",
       "      <td>0</td>\n",
       "      <td>[0, 0, 0, 0, 0, 0, 0, 0, 0, 0, 0, 0, 0, 0, 0, ...</td>\n",
       "      <td>1957.0</td>\n",
       "      <td>BSSSBSBS</td>\n",
       "    </tr>\n",
       "    <tr>\n",
       "      <th>9895</th>\n",
       "      <td>3.0</td>\n",
       "      <td>30.6833</td>\n",
       "      <td>-88.0333</td>\n",
       "      <td>SNWD</td>\n",
       "      <td>USC00015483</td>\n",
       "      <td>0</td>\n",
       "      <td>[0, 0, 0, 0, 0, 0, 0, 0, 0, 0, 0, 0, 0, 0, 0, ...</td>\n",
       "      <td>1958.0</td>\n",
       "      <td>BSSSBSBS</td>\n",
       "    </tr>\n",
       "    <tr>\n",
       "      <th>9896</th>\n",
       "      <td>3.0</td>\n",
       "      <td>30.6833</td>\n",
       "      <td>-88.0333</td>\n",
       "      <td>SNWD</td>\n",
       "      <td>USC00015483</td>\n",
       "      <td>0</td>\n",
       "      <td>[0, 0, 0, 0, 0, 0, 0, 0, 0, 0, 0, 0, 0, 0, 0, ...</td>\n",
       "      <td>1959.0</td>\n",
       "      <td>BSSSBSBS</td>\n",
       "    </tr>\n",
       "    <tr>\n",
       "      <th>9897</th>\n",
       "      <td>3.0</td>\n",
       "      <td>30.6833</td>\n",
       "      <td>-88.0333</td>\n",
       "      <td>SNWD</td>\n",
       "      <td>USC00015483</td>\n",
       "      <td>0</td>\n",
       "      <td>[0, 0, 0, 0, 0, 0, 0, 0, 0, 0, 0, 0, 0, 0, 0, ...</td>\n",
       "      <td>1960.0</td>\n",
       "      <td>BSSSBSBS</td>\n",
       "    </tr>\n",
       "    <tr>\n",
       "      <th>9898</th>\n",
       "      <td>3.0</td>\n",
       "      <td>30.6833</td>\n",
       "      <td>-88.0333</td>\n",
       "      <td>SNWD</td>\n",
       "      <td>USC00015483</td>\n",
       "      <td>0</td>\n",
       "      <td>[0, 0, 0, 0, 0, 0, 0, 0, 0, 0, 0, 0, 0, 0, 0, ...</td>\n",
       "      <td>1961.0</td>\n",
       "      <td>BSSSBSBS</td>\n",
       "    </tr>\n",
       "    <tr>\n",
       "      <th>9899</th>\n",
       "      <td>3.0</td>\n",
       "      <td>30.6833</td>\n",
       "      <td>-88.0333</td>\n",
       "      <td>SNWD</td>\n",
       "      <td>USC00015483</td>\n",
       "      <td>0</td>\n",
       "      <td>[0, 0, 0, 0, 0, 0, 0, 0, 0, 0, 0, 0, 0, 0, 0, ...</td>\n",
       "      <td>1962.0</td>\n",
       "      <td>BSSSBSBS</td>\n",
       "    </tr>\n",
       "    <tr>\n",
       "      <th>9900</th>\n",
       "      <td>3.0</td>\n",
       "      <td>30.6833</td>\n",
       "      <td>-88.0333</td>\n",
       "      <td>SNWD</td>\n",
       "      <td>USC00015483</td>\n",
       "      <td>0</td>\n",
       "      <td>[0, 0, 0, 0, 0, 0, 0, 0, 0, 0, 0, 0, 0, 0, 0, ...</td>\n",
       "      <td>1963.0</td>\n",
       "      <td>BSSSBSBS</td>\n",
       "    </tr>\n",
       "    <tr>\n",
       "      <th>9901</th>\n",
       "      <td>3.0</td>\n",
       "      <td>30.6833</td>\n",
       "      <td>-88.0333</td>\n",
       "      <td>SNWD</td>\n",
       "      <td>USC00015483</td>\n",
       "      <td>0</td>\n",
       "      <td>[64, 78, 0, 0, 0, 0, 0, 0, 0, 0, 0, 0, 0, 0, 0...</td>\n",
       "      <td>1964.0</td>\n",
       "      <td>BSSSBSBS</td>\n",
       "    </tr>\n",
       "    <tr>\n",
       "      <th>9902</th>\n",
       "      <td>3.0</td>\n",
       "      <td>30.6833</td>\n",
       "      <td>-88.0333</td>\n",
       "      <td>SNWD</td>\n",
       "      <td>USC00015483</td>\n",
       "      <td>0</td>\n",
       "      <td>[0, 0, 0, 0, 0, 0, 0, 0, 0, 0, 0, 0, 0, 0, 0, ...</td>\n",
       "      <td>1965.0</td>\n",
       "      <td>BSSSBSBS</td>\n",
       "    </tr>\n",
       "    <tr>\n",
       "      <th>6882</th>\n",
       "      <td>64.0</td>\n",
       "      <td>30.6951</td>\n",
       "      <td>-88.1594</td>\n",
       "      <td>PRCP</td>\n",
       "      <td>US1ALMB0016</td>\n",
       "      <td>14</td>\n",
       "      <td>[0, 126, 0, 126, 0, 126, 0, 126, 0, 126, 0, 12...</td>\n",
       "      <td>2008.0</td>\n",
       "      <td>BSSSBSBS</td>\n",
       "    </tr>\n",
       "    <tr>\n",
       "      <th>6883</th>\n",
       "      <td>64.0</td>\n",
       "      <td>30.6951</td>\n",
       "      <td>-88.1594</td>\n",
       "      <td>PRCP</td>\n",
       "      <td>US1ALMB0016</td>\n",
       "      <td>13</td>\n",
       "      <td>[0, 0, 0, 0, 0, 69, 16, 88, 0, 0, 0, 66, 56, 8...</td>\n",
       "      <td>2009.0</td>\n",
       "      <td>BSSSBSBS</td>\n",
       "    </tr>\n",
       "    <tr>\n",
       "      <th>6884</th>\n",
       "      <td>64.0</td>\n",
       "      <td>30.6951</td>\n",
       "      <td>-88.1594</td>\n",
       "      <td>PRCP</td>\n",
       "      <td>US1ALMB0016</td>\n",
       "      <td>12</td>\n",
       "      <td>[128, 74, 0, 0, 0, 0, 0, 0, 0, 0, 0, 0, 0, 0, ...</td>\n",
       "      <td>2010.0</td>\n",
       "      <td>BSSSBSBS</td>\n",
       "    </tr>\n",
       "    <tr>\n",
       "      <th>6885</th>\n",
       "      <td>64.0</td>\n",
       "      <td>30.6951</td>\n",
       "      <td>-88.1594</td>\n",
       "      <td>PRCP</td>\n",
       "      <td>US1ALMB0016</td>\n",
       "      <td>20</td>\n",
       "      <td>[80, 87, 176, 85, 0, 0, 0, 0, 216, 88, 96, 86,...</td>\n",
       "      <td>2011.0</td>\n",
       "      <td>BSSSBSBS</td>\n",
       "    </tr>\n",
       "    <tr>\n",
       "      <th>6886</th>\n",
       "      <td>64.0</td>\n",
       "      <td>30.6951</td>\n",
       "      <td>-88.1594</td>\n",
       "      <td>PRCP</td>\n",
       "      <td>US1ALMB0016</td>\n",
       "      <td>28</td>\n",
       "      <td>[0, 0, 0, 0, 0, 0, 0, 0, 0, 0, 0, 0, 0, 0, 0, ...</td>\n",
       "      <td>2012.0</td>\n",
       "      <td>BSSSBSBS</td>\n",
       "    </tr>\n",
       "    <tr>\n",
       "      <th>10213</th>\n",
       "      <td>64.0</td>\n",
       "      <td>30.6951</td>\n",
       "      <td>-88.1594</td>\n",
       "      <td>SNOW</td>\n",
       "      <td>US1ALMB0016</td>\n",
       "      <td>20</td>\n",
       "      <td>[0, 126, 0, 126, 0, 126, 0, 126, 0, 126, 0, 12...</td>\n",
       "      <td>2008.0</td>\n",
       "      <td>BSSSBSBS</td>\n",
       "    </tr>\n",
       "    <tr>\n",
       "      <th>4042</th>\n",
       "      <td>36.9</td>\n",
       "      <td>30.5682</td>\n",
       "      <td>-88.2331</td>\n",
       "      <td>PRCP</td>\n",
       "      <td>US1ALMB0011</td>\n",
       "      <td>46</td>\n",
       "      <td>[0, 126, 0, 126, 0, 126, 0, 126, 0, 126, 0, 12...</td>\n",
       "      <td>2008.0</td>\n",
       "      <td>BSSSBSBS</td>\n",
       "    </tr>\n",
       "    <tr>\n",
       "      <th>4043</th>\n",
       "      <td>36.9</td>\n",
       "      <td>30.5682</td>\n",
       "      <td>-88.2331</td>\n",
       "      <td>PRCP</td>\n",
       "      <td>US1ALMB0011</td>\n",
       "      <td>33</td>\n",
       "      <td>[0, 0, 0, 0, 0, 0, 160, 83, 0, 0, 0, 126, 232,...</td>\n",
       "      <td>2009.0</td>\n",
       "      <td>BSSSBSBS</td>\n",
       "    </tr>\n",
       "    <tr>\n",
       "      <th>4044</th>\n",
       "      <td>36.9</td>\n",
       "      <td>30.5682</td>\n",
       "      <td>-88.2331</td>\n",
       "      <td>PRCP</td>\n",
       "      <td>US1ALMB0011</td>\n",
       "      <td>26</td>\n",
       "      <td>[0, 0, 0, 0, 0, 0, 0, 0, 0, 0, 0, 0, 0, 126, 1...</td>\n",
       "      <td>2010.0</td>\n",
       "      <td>BSSSBSBS</td>\n",
       "    </tr>\n",
       "    <tr>\n",
       "      <th>4045</th>\n",
       "      <td>36.9</td>\n",
       "      <td>30.5682</td>\n",
       "      <td>-88.2331</td>\n",
       "      <td>PRCP</td>\n",
       "      <td>US1ALMB0011</td>\n",
       "      <td>15</td>\n",
       "      <td>[128, 80, 56, 88, 0, 0, 0, 0, 0, 79, 120, 91, ...</td>\n",
       "      <td>2011.0</td>\n",
       "      <td>BSSSBSBS</td>\n",
       "    </tr>\n",
       "    <tr>\n",
       "      <th>8239</th>\n",
       "      <td>36.9</td>\n",
       "      <td>30.5682</td>\n",
       "      <td>-88.2331</td>\n",
       "      <td>SNOW</td>\n",
       "      <td>US1ALMB0011</td>\n",
       "      <td>49</td>\n",
       "      <td>[0, 126, 0, 126, 0, 126, 0, 126, 0, 126, 0, 12...</td>\n",
       "      <td>2008.0</td>\n",
       "      <td>BSSSBSBS</td>\n",
       "    </tr>\n",
       "  </tbody>\n",
       "</table>\n",
       "<p>801 rows × 9 columns</p>\n",
       "</div>"
      ],
      "text/plain": [
       "       elevation  latitude  longitude measurement      station  undefs  \\\n",
       "7624        14.9   30.6808   -88.0888        PRCP  US1ALMB0047      13   \n",
       "7625        14.9   30.6808   -88.0888        PRCP  US1ALMB0047       4   \n",
       "7626        14.9   30.6808   -88.0888        PRCP  US1ALMB0047       5   \n",
       "7627        14.9   30.6808   -88.0888        PRCP  US1ALMB0047       5   \n",
       "11392       14.9   30.6808   -88.0888        SNOW  US1ALMB0047      19   \n",
       "6108        45.1   30.6596   -88.2124        PRCP  US1ALMB0035      27   \n",
       "7635        41.5   30.6686   -88.1667        PRCP  US1ALMB0056      30   \n",
       "7636        41.5   30.6686   -88.1667        PRCP  US1ALMB0056      35   \n",
       "481          7.9   30.6264   -88.0681        TMAX  USW00013838       1   \n",
       "482          7.9   30.6264   -88.0681        TMAX  USW00013838       2   \n",
       "483          7.9   30.6264   -88.0681        TMAX  USW00013838       2   \n",
       "484          7.9   30.6264   -88.0681        TMAX  USW00013838       0   \n",
       "485          7.9   30.6264   -88.0681        TMAX  USW00013838       0   \n",
       "486          7.9   30.6264   -88.0681        TMAX  USW00013838       0   \n",
       "487          7.9   30.6264   -88.0681        TMAX  USW00013838       0   \n",
       "488          7.9   30.6264   -88.0681        TMAX  USW00013838       0   \n",
       "489          7.9   30.6264   -88.0681        TMAX  USW00013838       3   \n",
       "490          7.9   30.6264   -88.0681        TMAX  USW00013838       0   \n",
       "491          7.9   30.6264   -88.0681        TMAX  USW00013838       1   \n",
       "492          7.9   30.6264   -88.0681        TMAX  USW00013838       0   \n",
       "493          7.9   30.6264   -88.0681        TMAX  USW00013838       0   \n",
       "494          7.9   30.6264   -88.0681        TMAX  USW00013838       1   \n",
       "495          7.9   30.6264   -88.0681        TMAX  USW00013838       0   \n",
       "496          7.9   30.6264   -88.0681        TMAX  USW00013838       0   \n",
       "497          7.9   30.6264   -88.0681        TMAX  USW00013838       0   \n",
       "498          7.9   30.6264   -88.0681        TMAX  USW00013838      12   \n",
       "499          7.9   30.6264   -88.0681        TMAX  USW00013838      14   \n",
       "500          7.9   30.6264   -88.0681        TMAX  USW00013838       5   \n",
       "501          7.9   30.6264   -88.0681        TMAX  USW00013838       1   \n",
       "502          7.9   30.6264   -88.0681        TMAX  USW00013838       0   \n",
       "...          ...       ...        ...         ...          ...     ...   \n",
       "9884         3.0   30.6833   -88.0333        SNWD  USC00015483       0   \n",
       "9885         3.0   30.6833   -88.0333        SNWD  USC00015483       0   \n",
       "9886         3.0   30.6833   -88.0333        SNWD  USC00015483       0   \n",
       "9887         3.0   30.6833   -88.0333        SNWD  USC00015483       0   \n",
       "9888         3.0   30.6833   -88.0333        SNWD  USC00015483       0   \n",
       "9889         3.0   30.6833   -88.0333        SNWD  USC00015483       1   \n",
       "9890         3.0   30.6833   -88.0333        SNWD  USC00015483       0   \n",
       "9891         3.0   30.6833   -88.0333        SNWD  USC00015483       0   \n",
       "9892         3.0   30.6833   -88.0333        SNWD  USC00015483       0   \n",
       "9893         3.0   30.6833   -88.0333        SNWD  USC00015483       0   \n",
       "9894         3.0   30.6833   -88.0333        SNWD  USC00015483       0   \n",
       "9895         3.0   30.6833   -88.0333        SNWD  USC00015483       0   \n",
       "9896         3.0   30.6833   -88.0333        SNWD  USC00015483       0   \n",
       "9897         3.0   30.6833   -88.0333        SNWD  USC00015483       0   \n",
       "9898         3.0   30.6833   -88.0333        SNWD  USC00015483       0   \n",
       "9899         3.0   30.6833   -88.0333        SNWD  USC00015483       0   \n",
       "9900         3.0   30.6833   -88.0333        SNWD  USC00015483       0   \n",
       "9901         3.0   30.6833   -88.0333        SNWD  USC00015483       0   \n",
       "9902         3.0   30.6833   -88.0333        SNWD  USC00015483       0   \n",
       "6882        64.0   30.6951   -88.1594        PRCP  US1ALMB0016      14   \n",
       "6883        64.0   30.6951   -88.1594        PRCP  US1ALMB0016      13   \n",
       "6884        64.0   30.6951   -88.1594        PRCP  US1ALMB0016      12   \n",
       "6885        64.0   30.6951   -88.1594        PRCP  US1ALMB0016      20   \n",
       "6886        64.0   30.6951   -88.1594        PRCP  US1ALMB0016      28   \n",
       "10213       64.0   30.6951   -88.1594        SNOW  US1ALMB0016      20   \n",
       "4042        36.9   30.5682   -88.2331        PRCP  US1ALMB0011      46   \n",
       "4043        36.9   30.5682   -88.2331        PRCP  US1ALMB0011      33   \n",
       "4044        36.9   30.5682   -88.2331        PRCP  US1ALMB0011      26   \n",
       "4045        36.9   30.5682   -88.2331        PRCP  US1ALMB0011      15   \n",
       "8239        36.9   30.5682   -88.2331        SNOW  US1ALMB0011      49   \n",
       "\n",
       "                                                  vector    year     label  \n",
       "7624   [0, 126, 0, 126, 0, 126, 0, 126, 0, 126, 0, 12...  2008.0  BSSSBSBS  \n",
       "7625   [0, 0, 0, 0, 0, 0, 16, 88, 0, 66, 0, 0, 80, 89...  2009.0  BSSSBSBS  \n",
       "7626   [0, 73, 0, 0, 0, 0, 0, 0, 0, 0, 0, 0, 0, 0, 80...  2010.0  BSSSBSBS  \n",
       "7627   [96, 85, 64, 83, 0, 0, 0, 0, 4, 92, 0, 77, 0, ...  2011.0  BSSSBSBS  \n",
       "11392  [0, 126, 0, 126, 0, 126, 0, 126, 0, 126, 0, 12...  2008.0  BSSSBSBS  \n",
       "6108   [80, 84, 48, 86, 0, 0, 0, 0, 192, 84, 232, 88,...  2011.0  BSSSBSBS  \n",
       "7635   [0, 126, 0, 126, 0, 126, 0, 0, 0, 0, 0, 0, 0, ...  2010.0  BSSSBSBS  \n",
       "7636   [0, 126, 0, 126, 0, 126, 0, 126, 136, 91, 0, 7...  2011.0  BSSSBSBS  \n",
       "481    [240, 86, 232, 89, 16, 90, 152, 90, 72, 91, 16...  1949.0  BSSSBSBS  \n",
       "482    [152, 90, 240, 90, 240, 90, 120, 91, 72, 91, 7...  1950.0  BSSSBSBS  \n",
       "483    [8, 89, 232, 89, 16, 90, 144, 89, 184, 89, 152...  1951.0  BSSSBSBS  \n",
       "484    [120, 91, 120, 91, 160, 91, 200, 90, 16, 90, 8...  1952.0  BSSSBSBS  \n",
       "485    [128, 88, 232, 89, 160, 86, 88, 88, 56, 89, 20...  1953.0  BSSSBSBS  \n",
       "486    [88, 88, 184, 89, 64, 90, 16, 90, 232, 89, 184...  1954.0  BSSSBSBS  \n",
       "487    [240, 90, 240, 90, 152, 90, 64, 90, 184, 89, 3...  1955.0  BSSSBSBS  \n",
       "488    [0, 88, 16, 90, 200, 90, 56, 89, 112, 90, 240,...  1956.0  BSSSBSBS  \n",
       "489    [72, 91, 160, 87, 56, 89, 16, 90, 72, 91, 128,...  1957.0  BSSSBSBS  \n",
       "490    [176, 88, 48, 84, 160, 87, 160, 87, 48, 85, 0,...  1958.0  BSSSBSBS  \n",
       "491    [176, 88, 64, 86, 176, 88, 160, 87, 32, 80, 48...  1959.0  BSSSBSBS  \n",
       "492    [64, 86, 152, 90, 184, 89, 224, 85, 0, 88, 160...  1960.0  BSSSBSBS  \n",
       "493    [0, 88, 160, 86, 240, 86, 0, 88, 160, 87, 176,...  1961.0  BSSSBSBS  \n",
       "494    [144, 85, 160, 87, 88, 88, 96, 89, 232, 89, 17...  1962.0  BSSSBSBS  \n",
       "495    [176, 88, 40, 88, 184, 89, 8, 89, 40, 88, 80, ...  1963.0  BSSSBSBS  \n",
       "496    [0, 79, 224, 88, 56, 89, 96, 89, 56, 89, 184, ...  1964.0  BSSSBSBS  \n",
       "497    [240, 90, 72, 91, 184, 89, 128, 88, 232, 89, 2...  1965.0  BSSSBSBS  \n",
       "498    [112, 90, 56, 89, 200, 90, 32, 91, 240, 90, 14...  1997.0  BSSSBSBS  \n",
       "499    [80, 87, 224, 88, 112, 90, 152, 90, 184, 89, 1...  1998.0  BSSSBSBS  \n",
       "500    [144, 89, 232, 89, 48, 84, 128, 81, 128, 81, 4...  1999.0  BSSSBSBS  \n",
       "501    [200, 90, 32, 91, 200, 90, 240, 90, 160, 87, 1...  2000.0  BSSSBSBS  \n",
       "502    [128, 84, 128, 81, 224, 80, 224, 84, 16, 90, 8...  2001.0  BSSSBSBS  \n",
       "...                                                  ...     ...       ...  \n",
       "9884   [0, 0, 0, 0, 0, 0, 0, 0, 0, 0, 0, 0, 0, 0, 0, ...  1947.0  BSSSBSBS  \n",
       "9885   [0, 0, 0, 0, 0, 0, 0, 0, 0, 0, 0, 0, 0, 0, 0, ...  1948.0  BSSSBSBS  \n",
       "9886   [0, 0, 0, 0, 0, 0, 0, 0, 0, 0, 0, 0, 0, 0, 0, ...  1949.0  BSSSBSBS  \n",
       "9887   [0, 0, 0, 0, 0, 0, 0, 0, 0, 0, 0, 0, 0, 0, 0, ...  1950.0  BSSSBSBS  \n",
       "9888   [0, 0, 0, 0, 0, 0, 0, 0, 0, 0, 0, 0, 0, 0, 0, ...  1951.0  BSSSBSBS  \n",
       "9889   [0, 0, 0, 0, 0, 0, 0, 0, 0, 0, 0, 0, 0, 0, 0, ...  1952.0  BSSSBSBS  \n",
       "9890   [0, 0, 0, 0, 0, 0, 0, 0, 0, 0, 0, 0, 0, 0, 0, ...  1953.0  BSSSBSBS  \n",
       "9891   [0, 0, 0, 0, 0, 0, 0, 0, 0, 0, 0, 0, 0, 0, 0, ...  1954.0  BSSSBSBS  \n",
       "9892   [0, 0, 0, 0, 0, 0, 0, 0, 0, 0, 0, 0, 0, 0, 0, ...  1955.0  BSSSBSBS  \n",
       "9893   [0, 0, 0, 0, 0, 0, 0, 0, 0, 0, 0, 0, 0, 0, 0, ...  1956.0  BSSSBSBS  \n",
       "9894   [0, 0, 0, 0, 0, 0, 0, 0, 0, 0, 0, 0, 0, 0, 0, ...  1957.0  BSSSBSBS  \n",
       "9895   [0, 0, 0, 0, 0, 0, 0, 0, 0, 0, 0, 0, 0, 0, 0, ...  1958.0  BSSSBSBS  \n",
       "9896   [0, 0, 0, 0, 0, 0, 0, 0, 0, 0, 0, 0, 0, 0, 0, ...  1959.0  BSSSBSBS  \n",
       "9897   [0, 0, 0, 0, 0, 0, 0, 0, 0, 0, 0, 0, 0, 0, 0, ...  1960.0  BSSSBSBS  \n",
       "9898   [0, 0, 0, 0, 0, 0, 0, 0, 0, 0, 0, 0, 0, 0, 0, ...  1961.0  BSSSBSBS  \n",
       "9899   [0, 0, 0, 0, 0, 0, 0, 0, 0, 0, 0, 0, 0, 0, 0, ...  1962.0  BSSSBSBS  \n",
       "9900   [0, 0, 0, 0, 0, 0, 0, 0, 0, 0, 0, 0, 0, 0, 0, ...  1963.0  BSSSBSBS  \n",
       "9901   [64, 78, 0, 0, 0, 0, 0, 0, 0, 0, 0, 0, 0, 0, 0...  1964.0  BSSSBSBS  \n",
       "9902   [0, 0, 0, 0, 0, 0, 0, 0, 0, 0, 0, 0, 0, 0, 0, ...  1965.0  BSSSBSBS  \n",
       "6882   [0, 126, 0, 126, 0, 126, 0, 126, 0, 126, 0, 12...  2008.0  BSSSBSBS  \n",
       "6883   [0, 0, 0, 0, 0, 69, 16, 88, 0, 0, 0, 66, 56, 8...  2009.0  BSSSBSBS  \n",
       "6884   [128, 74, 0, 0, 0, 0, 0, 0, 0, 0, 0, 0, 0, 0, ...  2010.0  BSSSBSBS  \n",
       "6885   [80, 87, 176, 85, 0, 0, 0, 0, 216, 88, 96, 86,...  2011.0  BSSSBSBS  \n",
       "6886   [0, 0, 0, 0, 0, 0, 0, 0, 0, 0, 0, 0, 0, 0, 0, ...  2012.0  BSSSBSBS  \n",
       "10213  [0, 126, 0, 126, 0, 126, 0, 126, 0, 126, 0, 12...  2008.0  BSSSBSBS  \n",
       "4042   [0, 126, 0, 126, 0, 126, 0, 126, 0, 126, 0, 12...  2008.0  BSSSBSBS  \n",
       "4043   [0, 0, 0, 0, 0, 0, 160, 83, 0, 0, 0, 126, 232,...  2009.0  BSSSBSBS  \n",
       "4044   [0, 0, 0, 0, 0, 0, 0, 0, 0, 0, 0, 0, 0, 126, 1...  2010.0  BSSSBSBS  \n",
       "4045   [128, 80, 56, 88, 0, 0, 0, 0, 0, 79, 120, 91, ...  2011.0  BSSSBSBS  \n",
       "8239   [0, 126, 0, 126, 0, 126, 0, 126, 0, 126, 0, 12...  2008.0  BSSSBSBS  \n",
       "\n",
       "[801 rows x 9 columns]"
      ]
     },
     "execution_count": 151,
     "metadata": {},
     "output_type": "execute_result"
    }
   ],
   "source": [
    "Mobile_data"
   ]
  },
  {
   "cell_type": "code",
   "execution_count": 189,
   "metadata": {
    "collapsed": true
   },
   "outputs": [],
   "source": [
    "Mobile_TMAX=Mobile_data[Mobile_data['measurement']=='TMIN']"
   ]
  },
  {
   "cell_type": "code",
   "execution_count": 190,
   "metadata": {
    "collapsed": true
   },
   "outputs": [],
   "source": [
    "temp=Mobile_TMAX['vector'].tolist()"
   ]
  },
  {
   "cell_type": "code",
   "execution_count": 191,
   "metadata": {
    "collapsed": true
   },
   "outputs": [],
   "source": [
    "temp=np.float64(temp)"
   ]
  },
  {
   "cell_type": "code",
   "execution_count": 192,
   "metadata": {},
   "outputs": [
    {
     "ename": "ValueError",
     "evalue": "First dimension of T should be 365. Shape(T)=(730, 2)",
     "output_type": "error",
     "traceback": [
      "\u001b[0;31m---------------------------------------------------------------------------\u001b[0m",
      "\u001b[0;31mValueError\u001b[0m                                Traceback (most recent call last)",
      "\u001b[0;32m<ipython-input-192-08de776e606d>\u001b[0m in \u001b[0;36m<module>\u001b[0;34m()\u001b[0m\n\u001b[1;32m      2\u001b[0m \u001b[0mfig\u001b[0m\u001b[0;34m,\u001b[0m \u001b[0max\u001b[0m \u001b[0;34m=\u001b[0m \u001b[0mplt\u001b[0m\u001b[0;34m.\u001b[0m\u001b[0msubplots\u001b[0m\u001b[0;34m(\u001b[0m\u001b[0mfigsize\u001b[0m\u001b[0;34m=\u001b[0m\u001b[0;34m(\u001b[0m\u001b[0;36m10\u001b[0m\u001b[0;34m,\u001b[0m\u001b[0;36m7\u001b[0m\u001b[0;34m)\u001b[0m\u001b[0;34m)\u001b[0m\u001b[0;34m;\u001b[0m\u001b[0;34m\u001b[0m\u001b[0m\n\u001b[1;32m      3\u001b[0m \u001b[0mYP\u001b[0m\u001b[0;34m=\u001b[0m\u001b[0mYearPlotter\u001b[0m\u001b[0;34m(\u001b[0m\u001b[0;34m)\u001b[0m\u001b[0;34m\u001b[0m\u001b[0m\n\u001b[0;32m----> 4\u001b[0;31m \u001b[0mYP\u001b[0m\u001b[0;34m.\u001b[0m\u001b[0mplot\u001b[0m\u001b[0;34m(\u001b[0m\u001b[0mtemp\u001b[0m\u001b[0;34m[\u001b[0m\u001b[0;34m:\u001b[0m\u001b[0;36m2\u001b[0m\u001b[0;34m,\u001b[0m\u001b[0;34m:\u001b[0m\u001b[0;34m]\u001b[0m\u001b[0;34m.\u001b[0m\u001b[0mtranspose\u001b[0m\u001b[0;34m(\u001b[0m\u001b[0;34m)\u001b[0m\u001b[0;34m,\u001b[0m\u001b[0mfig\u001b[0m\u001b[0;34m,\u001b[0m\u001b[0max\u001b[0m\u001b[0;34m,\u001b[0m\u001b[0mtitle\u001b[0m\u001b[0;34m=\u001b[0m\u001b[0;34m'TMAX'\u001b[0m\u001b[0;34m)\u001b[0m\u001b[0;34m\u001b[0m\u001b[0m\n\u001b[0m",
      "\u001b[0;32m/Users/laurawilke/Documents/DSE/lwilke/DSE230/Classes/2.PCA/lib/YearPlotter.pyc\u001b[0m in \u001b[0;36mplot\u001b[0;34m(self, T, fig, ax, label, labels, title)\u001b[0m\n\u001b[1;32m     15\u001b[0m         \u001b[0mshp\u001b[0m\u001b[0;34m=\u001b[0m\u001b[0mshape\u001b[0m\u001b[0;34m(\u001b[0m\u001b[0mT\u001b[0m\u001b[0;34m)\u001b[0m\u001b[0;34m\u001b[0m\u001b[0m\n\u001b[1;32m     16\u001b[0m         \u001b[0;32mif\u001b[0m \u001b[0mshp\u001b[0m\u001b[0;34m[\u001b[0m\u001b[0;36m0\u001b[0m\u001b[0;34m]\u001b[0m \u001b[0;34m!=\u001b[0m \u001b[0;36m365\u001b[0m\u001b[0;34m:\u001b[0m\u001b[0;34m\u001b[0m\u001b[0m\n\u001b[0;32m---> 17\u001b[0;31m             \u001b[0;32mraise\u001b[0m \u001b[0mValueError\u001b[0m\u001b[0;34m(\u001b[0m\u001b[0;34m\"First dimension of T should be 365. Shape(T)=\"\u001b[0m\u001b[0;34m+\u001b[0m\u001b[0mstr\u001b[0m\u001b[0;34m(\u001b[0m\u001b[0mshape\u001b[0m\u001b[0;34m(\u001b[0m\u001b[0mT\u001b[0m\u001b[0;34m)\u001b[0m\u001b[0;34m)\u001b[0m\u001b[0;34m)\u001b[0m\u001b[0;34m\u001b[0m\u001b[0m\n\u001b[0m\u001b[1;32m     18\u001b[0m         \u001b[0;32mif\u001b[0m \u001b[0mlen\u001b[0m\u001b[0;34m(\u001b[0m\u001b[0mshp\u001b[0m\u001b[0;34m)\u001b[0m\u001b[0;34m==\u001b[0m\u001b[0;36m1\u001b[0m\u001b[0;34m:\u001b[0m\u001b[0;34m\u001b[0m\u001b[0m\n\u001b[1;32m     19\u001b[0m             \u001b[0;31m#print 'one'\u001b[0m\u001b[0;34m\u001b[0m\u001b[0;34m\u001b[0m\u001b[0m\n",
      "\u001b[0;31mValueError\u001b[0m: First dimension of T should be 365. Shape(T)=(730, 2)"
     ]
    },
    {
     "data": {
      "image/png": "[encoded data removed]",
      "text/plain": [
       "<matplotlib.figure.Figure at 0x112942210>"
      ]
     },
     "metadata": {},
     "output_type": "display_data"
    }
   ],
   "source": [
    "from YearPlotter import YearPlotter\n",
    "fig, ax = plt.subplots(figsize=(10,7));\n",
    "YP=YearPlotter()\n",
    "YP.plot(temp[:2,:].transpose(),fig,ax,title='TMAX')"
   ]
  },
  {
   "cell_type": "code",
   "execution_count": 165,
   "metadata": {
    "collapsed": true
   },
   "outputs": [],
   "source": [
    "test2=np.float64(test2)"
   ]
  },
  {
   "cell_type": "code",
   "execution_count": 168,
   "metadata": {},
   "outputs": [
    {
     "data": {
      "text/plain": [
       "(155, 730)"
      ]
     },
     "execution_count": 168,
     "metadata": {},
     "output_type": "execute_result"
    }
   ],
   "source": [
    "test2.shape"
   ]
  },
  {
   "cell_type": "code",
   "execution_count": null,
   "metadata": {
    "collapsed": true
   },
   "outputs": [],
   "source": []
  }
 ],
 "metadata": {
  "anaconda-cloud": {},
  "celltoolbar": "Slideshow",
  "kernelspec": {
   "display_name": "Python 2",
   "language": "python",
   "name": "python2"
  },
  "language_info": {
   "codemirror_mode": {
    "name": "ipython",
    "version": 2
   },
   "file_extension": ".py",
   "mimetype": "text/x-python",
   "name": "python",
   "nbconvert_exporter": "python",
   "pygments_lexer": "ipython2",
   "version": "2.7.13"
  },
  "toc": {
   "colors": {
    "hover_highlight": "#DAA520",
    "running_highlight": "#FF0000",
    "selected_highlight": "#FFD700"
   },
   "moveMenuLeft": true,
   "nav_menu": {
    "height": "190px",
    "width": "252px"
   },
   "navigate_menu": true,
   "number_sections": true,
   "sideBar": true,
   "threshold": 4,
   "toc_cell": false,
   "toc_position": {
    "height": "514px",
    "left": "0px",
    "right": "925px",
    "top": "107px",
    "width": "142px"
   },
   "toc_section_display": "block",
   "toc_window_display": false
  }
 },
 "nbformat": 4,
 "nbformat_minor": 1
}
