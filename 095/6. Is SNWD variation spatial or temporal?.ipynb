{
 "cells": [
  {
   "cell_type": "markdown",
   "metadata": {
    "run_control": {
     "frozen": false,
     "read_only": false
    }
   },
   "source": [
    "## Analyze whether SNWD varies more from year to year or from place to place."
   ]
  },
  {
   "cell_type": "code",
   "execution_count": 1,
   "metadata": {
    "collapsed": true,
    "run_control": {
     "frozen": false,
     "read_only": false
    }
   },
   "outputs": [],
   "source": [
    "import pandas as pd\n",
    "import numpy as np\n",
    "import urllib\n",
    "import math"
   ]
  },
  {
   "cell_type": "code",
   "execution_count": 2,
   "metadata": {
    "collapsed": true,
    "run_control": {
     "frozen": false,
     "read_only": false
    }
   },
   "outputs": [],
   "source": [
    "import findspark\n",
    "findspark.init()\n",
    "\n",
    "from pyspark import SparkContext\n",
    "#sc.stop()\n",
    "sc = SparkContext(master=\"local[3]\",pyFiles=['lib/numpy_pack.py','lib/spark_PCA.py','lib/computeStats.py'])\n",
    "#sc = SparkContext(master=\"local[3]\",pyFiles=['lib/numpy_pack.py','lib/computeStats.py'])\n",
    "from pyspark import SparkContext\n",
    "from pyspark.sql import *\n",
    "sqlContext = SQLContext(sc)"
   ]
  },
  {
   "cell_type": "code",
   "execution_count": 3,
   "metadata": {
    "collapsed": true,
    "run_control": {
     "frozen": false,
     "read_only": false
    }
   },
   "outputs": [],
   "source": [
    "import sys\n",
    "sys.path.append('./lib')\n",
    "\n",
    "import numpy as np\n",
    "from numpy_pack import packArray,unpackArray\n",
    "from spark_PCA import computeCov\n",
    "from computeStats import computeOverAllDist, STAT_Descriptions"
   ]
  },
  {
   "cell_type": "code",
   "execution_count": 4,
   "metadata": {
    "run_control": {
     "frozen": false,
     "read_only": false
    },
    "scrolled": true
   },
   "outputs": [
    {
     "name": "stdout",
     "output_type": "stream",
     "text": [
      "('keys from STAT=', ['TMIN', 'TOBS', 'TMAX', 'SNOW', 'SNWD', 'PRCP'])\n",
      "135\n",
      "+-------------------+-------------------+-------------------+-------------------+--------------------+---------+--------+--------+---------+-----------+------------------+------------------+------------------+------------------+------------------+-----------------+-----------+---------+------+--------------------+------+\n",
      "|            coeff_1|            coeff_2|            coeff_3|            coeff_4|             coeff_5|elevation|   label|latitude|longitude|measurement|             res_1|             res_2|             res_3|             res_4|             res_5|         res_mean|    station|total_var|undefs|              vector|  year|\n",
      "+-------------------+-------------------+-------------------+-------------------+--------------------+---------+--------+--------+---------+-----------+------------------+------------------+------------------+------------------+------------------+-----------------+-----------+---------+------+--------------------+------+\n",
      "|-0.5445464708489208|-0.4133337699228011|0.36191868867798827|-0.4076263003592266|-0.02327393363525...|      3.0|BSSSBSBS| 30.2333| -88.0167|       SNOW|0.9995189313323117|0.9992417659701758|0.9990292658422719|0.9987597020416641|0.9987588232685534|0.986240439524356|USC00013035|    625.0|     0|[00 00 00 00 00 0...|1958.0|\n",
      "|-0.5445464708489208|-0.4133337699228011|0.36191868867798827|-0.4076263003592266|-0.02327393363525...|     66.1|BSSSBSBS| 30.7794| -87.1414|       SNOW|0.9995189313323117|0.9992417659701758|0.9990292658422719|0.9987597020416641|0.9987588232685534|0.986240439524356|USC00085793|    625.0|     1|[00 00 00 00 00 0...|1958.0|\n",
      "+-------------------+-------------------+-------------------+-------------------+--------------------+---------+--------+--------+---------+-----------+------------------+------------------+------------------+------------------+------------------+-----------------+-----------+---------+------+--------------------+------+\n",
      "only showing top 2 rows\n",
      "\n"
     ]
    }
   ],
   "source": [
    "### Read the data frame from pickle file\n",
    "\n",
    "data_dir='../../Data/Weather'\n",
    "file_index='BSSSBSBS'\n",
    "meas='SNOW'\n",
    "\n",
    "from pickle import load\n",
    "\n",
    "#read statistics\n",
    "filename=data_dir+'/STAT_%s.pickle'%file_index\n",
    "STAT,STAT_Descriptions = load(open(filename,'rb'))\n",
    "print('keys from STAT=',STAT.keys())\n",
    "\n",
    "#!ls -ld $data_dir/*.parquet\n",
    "\n",
    "#read data\n",
    "filename=data_dir+'/decon_%s_%s.parquet'%(file_index,meas)\n",
    "\n",
    "df=sqlContext.read.parquet(filename)\n",
    "print(df.count())\n",
    "df.show(2)"
   ]
  },
  {
   "cell_type": "code",
   "execution_count": 5,
   "metadata": {
    "run_control": {
     "frozen": false,
     "read_only": false
    }
   },
   "outputs": [
    {
     "name": "stdout",
     "output_type": "stream",
     "text": [
      "['coeff_1', 'coeff_2', 'coeff_3', 'coeff_4', 'coeff_5', 'elevation', 'label', 'latitude', 'longitude', 'measurement', 'res_1', 'res_2', 'res_3', 'res_4', 'res_5', 'res_mean', 'station', 'total_var', 'undefs', 'vector', 'year']\n"
     ]
    }
   ],
   "source": [
    "print df.columns"
   ]
  },
  {
   "cell_type": "code",
   "execution_count": 6,
   "metadata": {
    "run_control": {
     "frozen": false,
     "read_only": false
    },
    "scrolled": true
   },
   "outputs": [
    {
     "name": "stdout",
     "output_type": "stream",
     "text": [
      "SELECT station, year, coeff_2 FROM weather\n"
     ]
    },
    {
     "data": {
      "text/html": [
       "<div>\n",
       "<table border=\"1\" class=\"dataframe\">\n",
       "  <thead>\n",
       "    <tr style=\"text-align: right;\">\n",
       "      <th></th>\n",
       "      <th>station</th>\n",
       "      <th>year</th>\n",
       "      <th>coeff_2</th>\n",
       "    </tr>\n",
       "  </thead>\n",
       "  <tbody>\n",
       "    <tr>\n",
       "      <th>0</th>\n",
       "      <td>USC00013035</td>\n",
       "      <td>1958.0</td>\n",
       "      <td>-0.413334</td>\n",
       "    </tr>\n",
       "    <tr>\n",
       "      <th>1</th>\n",
       "      <td>USC00085793</td>\n",
       "      <td>1958.0</td>\n",
       "      <td>-0.413334</td>\n",
       "    </tr>\n",
       "    <tr>\n",
       "      <th>2</th>\n",
       "      <td>USC00010583</td>\n",
       "      <td>1958.0</td>\n",
       "      <td>-0.413334</td>\n",
       "    </tr>\n",
       "    <tr>\n",
       "      <th>3</th>\n",
       "      <td>USC00082220</td>\n",
       "      <td>1958.0</td>\n",
       "      <td>-0.413334</td>\n",
       "    </tr>\n",
       "    <tr>\n",
       "      <th>4</th>\n",
       "      <td>USC00013255</td>\n",
       "      <td>1958.0</td>\n",
       "      <td>-0.401763</td>\n",
       "    </tr>\n",
       "  </tbody>\n",
       "</table>\n",
       "</div>"
      ],
      "text/plain": [
       "       station    year   coeff_2\n",
       "0  USC00013035  1958.0 -0.413334\n",
       "1  USC00085793  1958.0 -0.413334\n",
       "2  USC00010583  1958.0 -0.413334\n",
       "3  USC00082220  1958.0 -0.413334\n",
       "4  USC00013255  1958.0 -0.401763"
      ]
     },
     "execution_count": 6,
     "metadata": {},
     "output_type": "execute_result"
    }
   ],
   "source": [
    "#extract longitude and latitude for each station\n",
    "feature='coeff_1'\n",
    "sqlContext.registerDataFrameAsTable(df,'weather')\n",
    "#Features=', '.join(['coeff_1', 'coeff_2', 'coeff_3', 'elevation', 'latitude', 'longitude',\\\n",
    "#          'res_1', 'res_2', 'res_3', 'res_mean', 'year'])\n",
    "Features='station, year, coeff_2'\n",
    "Query=\"SELECT %s FROM weather\"%Features\n",
    "print(Query)\n",
    "pdf = sqlContext.sql(Query).toPandas()\n",
    "pdf.head()"
   ]
  },
  {
   "cell_type": "code",
   "execution_count": 7,
   "metadata": {
    "run_control": {
     "frozen": false,
     "read_only": false
    }
   },
   "outputs": [
    {
     "data": {
      "text/html": [
       "<div>\n",
       "<table border=\"1\" class=\"dataframe\">\n",
       "  <thead>\n",
       "    <tr style=\"text-align: right;\">\n",
       "      <th>station</th>\n",
       "      <th>USC00010252</th>\n",
       "      <th>USC00010402</th>\n",
       "      <th>USC00010407</th>\n",
       "      <th>USC00010583</th>\n",
       "      <th>USC00011084</th>\n",
       "      <th>USC00011566</th>\n",
       "      <th>USC00011685</th>\n",
       "      <th>USC00011803</th>\n",
       "      <th>USC00011807</th>\n",
       "      <th>USC00012577</th>\n",
       "      <th>...</th>\n",
       "      <th>USW00013838</th>\n",
       "      <th>USW00013846</th>\n",
       "      <th>USW00013858</th>\n",
       "      <th>USW00013885</th>\n",
       "      <th>USW00013894</th>\n",
       "      <th>USW00013899</th>\n",
       "      <th>USW00093826</th>\n",
       "      <th>USW00093828</th>\n",
       "      <th>USW00093841</th>\n",
       "      <th>USW00093859</th>\n",
       "    </tr>\n",
       "    <tr>\n",
       "      <th>year</th>\n",
       "      <th></th>\n",
       "      <th></th>\n",
       "      <th></th>\n",
       "      <th></th>\n",
       "      <th></th>\n",
       "      <th></th>\n",
       "      <th></th>\n",
       "      <th></th>\n",
       "      <th></th>\n",
       "      <th></th>\n",
       "      <th></th>\n",
       "      <th></th>\n",
       "      <th></th>\n",
       "      <th></th>\n",
       "      <th></th>\n",
       "      <th></th>\n",
       "      <th></th>\n",
       "      <th></th>\n",
       "      <th></th>\n",
       "      <th></th>\n",
       "      <th></th>\n",
       "    </tr>\n",
       "  </thead>\n",
       "  <tbody>\n",
       "    <tr>\n",
       "      <th>1969.0</th>\n",
       "      <td>NaN</td>\n",
       "      <td>NaN</td>\n",
       "      <td>NaN</td>\n",
       "      <td>NaN</td>\n",
       "      <td>NaN</td>\n",
       "      <td>NaN</td>\n",
       "      <td>NaN</td>\n",
       "      <td>NaN</td>\n",
       "      <td>NaN</td>\n",
       "      <td>NaN</td>\n",
       "      <td>...</td>\n",
       "      <td>NaN</td>\n",
       "      <td>NaN</td>\n",
       "      <td>NaN</td>\n",
       "      <td>NaN</td>\n",
       "      <td>NaN</td>\n",
       "      <td>NaN</td>\n",
       "      <td>NaN</td>\n",
       "      <td>NaN</td>\n",
       "      <td>NaN</td>\n",
       "      <td>NaN</td>\n",
       "    </tr>\n",
       "    <tr>\n",
       "      <th>1973.0</th>\n",
       "      <td>NaN</td>\n",
       "      <td>NaN</td>\n",
       "      <td>NaN</td>\n",
       "      <td>1.628479</td>\n",
       "      <td>151.593994</td>\n",
       "      <td>NaN</td>\n",
       "      <td>NaN</td>\n",
       "      <td>0.749563</td>\n",
       "      <td>75.609272</td>\n",
       "      <td>NaN</td>\n",
       "      <td>...</td>\n",
       "      <td>NaN</td>\n",
       "      <td>NaN</td>\n",
       "      <td>NaN</td>\n",
       "      <td>NaN</td>\n",
       "      <td>1.224178</td>\n",
       "      <td>3.432550</td>\n",
       "      <td>NaN</td>\n",
       "      <td>NaN</td>\n",
       "      <td>0.521045</td>\n",
       "      <td>NaN</td>\n",
       "    </tr>\n",
       "    <tr>\n",
       "      <th>1977.0</th>\n",
       "      <td>NaN</td>\n",
       "      <td>NaN</td>\n",
       "      <td>-0.726102</td>\n",
       "      <td>-0.611385</td>\n",
       "      <td>NaN</td>\n",
       "      <td>NaN</td>\n",
       "      <td>NaN</td>\n",
       "      <td>-0.386022</td>\n",
       "      <td>NaN</td>\n",
       "      <td>NaN</td>\n",
       "      <td>...</td>\n",
       "      <td>NaN</td>\n",
       "      <td>NaN</td>\n",
       "      <td>NaN</td>\n",
       "      <td>NaN</td>\n",
       "      <td>-0.576655</td>\n",
       "      <td>-0.599756</td>\n",
       "      <td>NaN</td>\n",
       "      <td>NaN</td>\n",
       "      <td>-0.771703</td>\n",
       "      <td>NaN</td>\n",
       "    </tr>\n",
       "    <tr>\n",
       "      <th>1988.0</th>\n",
       "      <td>NaN</td>\n",
       "      <td>NaN</td>\n",
       "      <td>NaN</td>\n",
       "      <td>NaN</td>\n",
       "      <td>NaN</td>\n",
       "      <td>NaN</td>\n",
       "      <td>NaN</td>\n",
       "      <td>NaN</td>\n",
       "      <td>NaN</td>\n",
       "      <td>NaN</td>\n",
       "      <td>...</td>\n",
       "      <td>NaN</td>\n",
       "      <td>NaN</td>\n",
       "      <td>NaN</td>\n",
       "      <td>NaN</td>\n",
       "      <td>-0.381792</td>\n",
       "      <td>NaN</td>\n",
       "      <td>NaN</td>\n",
       "      <td>NaN</td>\n",
       "      <td>NaN</td>\n",
       "      <td>NaN</td>\n",
       "    </tr>\n",
       "    <tr>\n",
       "      <th>1989.0</th>\n",
       "      <td>NaN</td>\n",
       "      <td>NaN</td>\n",
       "      <td>NaN</td>\n",
       "      <td>NaN</td>\n",
       "      <td>NaN</td>\n",
       "      <td>NaN</td>\n",
       "      <td>NaN</td>\n",
       "      <td>NaN</td>\n",
       "      <td>NaN</td>\n",
       "      <td>NaN</td>\n",
       "      <td>...</td>\n",
       "      <td>NaN</td>\n",
       "      <td>NaN</td>\n",
       "      <td>NaN</td>\n",
       "      <td>NaN</td>\n",
       "      <td>NaN</td>\n",
       "      <td>NaN</td>\n",
       "      <td>NaN</td>\n",
       "      <td>NaN</td>\n",
       "      <td>NaN</td>\n",
       "      <td>NaN</td>\n",
       "    </tr>\n",
       "    <tr>\n",
       "      <th>1993.0</th>\n",
       "      <td>-0.720244</td>\n",
       "      <td>-0.491137</td>\n",
       "      <td>NaN</td>\n",
       "      <td>-0.547847</td>\n",
       "      <td>-0.386792</td>\n",
       "      <td>-0.411914</td>\n",
       "      <td>NaN</td>\n",
       "      <td>NaN</td>\n",
       "      <td>NaN</td>\n",
       "      <td>NaN</td>\n",
       "      <td>...</td>\n",
       "      <td>NaN</td>\n",
       "      <td>NaN</td>\n",
       "      <td>NaN</td>\n",
       "      <td>NaN</td>\n",
       "      <td>-0.500800</td>\n",
       "      <td>NaN</td>\n",
       "      <td>NaN</td>\n",
       "      <td>NaN</td>\n",
       "      <td>NaN</td>\n",
       "      <td>NaN</td>\n",
       "    </tr>\n",
       "    <tr>\n",
       "      <th>1994.0</th>\n",
       "      <td>NaN</td>\n",
       "      <td>NaN</td>\n",
       "      <td>NaN</td>\n",
       "      <td>NaN</td>\n",
       "      <td>NaN</td>\n",
       "      <td>NaN</td>\n",
       "      <td>NaN</td>\n",
       "      <td>NaN</td>\n",
       "      <td>NaN</td>\n",
       "      <td>NaN</td>\n",
       "      <td>...</td>\n",
       "      <td>NaN</td>\n",
       "      <td>NaN</td>\n",
       "      <td>NaN</td>\n",
       "      <td>NaN</td>\n",
       "      <td>NaN</td>\n",
       "      <td>NaN</td>\n",
       "      <td>NaN</td>\n",
       "      <td>NaN</td>\n",
       "      <td>NaN</td>\n",
       "      <td>NaN</td>\n",
       "    </tr>\n",
       "    <tr>\n",
       "      <th>1995.0</th>\n",
       "      <td>NaN</td>\n",
       "      <td>NaN</td>\n",
       "      <td>NaN</td>\n",
       "      <td>NaN</td>\n",
       "      <td>NaN</td>\n",
       "      <td>NaN</td>\n",
       "      <td>NaN</td>\n",
       "      <td>NaN</td>\n",
       "      <td>NaN</td>\n",
       "      <td>NaN</td>\n",
       "      <td>...</td>\n",
       "      <td>NaN</td>\n",
       "      <td>NaN</td>\n",
       "      <td>NaN</td>\n",
       "      <td>NaN</td>\n",
       "      <td>NaN</td>\n",
       "      <td>NaN</td>\n",
       "      <td>NaN</td>\n",
       "      <td>NaN</td>\n",
       "      <td>NaN</td>\n",
       "      <td>NaN</td>\n",
       "    </tr>\n",
       "    <tr>\n",
       "      <th>1996.0</th>\n",
       "      <td>NaN</td>\n",
       "      <td>-0.424198</td>\n",
       "      <td>NaN</td>\n",
       "      <td>-0.428977</td>\n",
       "      <td>NaN</td>\n",
       "      <td>NaN</td>\n",
       "      <td>NaN</td>\n",
       "      <td>NaN</td>\n",
       "      <td>NaN</td>\n",
       "      <td>NaN</td>\n",
       "      <td>...</td>\n",
       "      <td>NaN</td>\n",
       "      <td>NaN</td>\n",
       "      <td>NaN</td>\n",
       "      <td>NaN</td>\n",
       "      <td>-0.399346</td>\n",
       "      <td>NaN</td>\n",
       "      <td>NaN</td>\n",
       "      <td>NaN</td>\n",
       "      <td>NaN</td>\n",
       "      <td>NaN</td>\n",
       "    </tr>\n",
       "    <tr>\n",
       "      <th>2010.0</th>\n",
       "      <td>-0.387573</td>\n",
       "      <td>NaN</td>\n",
       "      <td>NaN</td>\n",
       "      <td>NaN</td>\n",
       "      <td>NaN</td>\n",
       "      <td>-0.391642</td>\n",
       "      <td>NaN</td>\n",
       "      <td>NaN</td>\n",
       "      <td>NaN</td>\n",
       "      <td>NaN</td>\n",
       "      <td>...</td>\n",
       "      <td>NaN</td>\n",
       "      <td>NaN</td>\n",
       "      <td>NaN</td>\n",
       "      <td>NaN</td>\n",
       "      <td>-0.387573</td>\n",
       "      <td>NaN</td>\n",
       "      <td>NaN</td>\n",
       "      <td>NaN</td>\n",
       "      <td>NaN</td>\n",
       "      <td>NaN</td>\n",
       "    </tr>\n",
       "  </tbody>\n",
       "</table>\n",
       "<p>10 rows × 49 columns</p>\n",
       "</div>"
      ],
      "text/plain": [
       "station  USC00010252  USC00010402  USC00010407  USC00010583  USC00011084  \\\n",
       "year                                                                       \n",
       "1969.0           NaN          NaN          NaN          NaN          NaN   \n",
       "1973.0           NaN          NaN          NaN     1.628479   151.593994   \n",
       "1977.0           NaN          NaN    -0.726102    -0.611385          NaN   \n",
       "1988.0           NaN          NaN          NaN          NaN          NaN   \n",
       "1989.0           NaN          NaN          NaN          NaN          NaN   \n",
       "1993.0     -0.720244    -0.491137          NaN    -0.547847    -0.386792   \n",
       "1994.0           NaN          NaN          NaN          NaN          NaN   \n",
       "1995.0           NaN          NaN          NaN          NaN          NaN   \n",
       "1996.0           NaN    -0.424198          NaN    -0.428977          NaN   \n",
       "2010.0     -0.387573          NaN          NaN          NaN          NaN   \n",
       "\n",
       "station  USC00011566  USC00011685  USC00011803  USC00011807  USC00012577  \\\n",
       "year                                                                       \n",
       "1969.0           NaN          NaN          NaN          NaN          NaN   \n",
       "1973.0           NaN          NaN     0.749563    75.609272          NaN   \n",
       "1977.0           NaN          NaN    -0.386022          NaN          NaN   \n",
       "1988.0           NaN          NaN          NaN          NaN          NaN   \n",
       "1989.0           NaN          NaN          NaN          NaN          NaN   \n",
       "1993.0     -0.411914          NaN          NaN          NaN          NaN   \n",
       "1994.0           NaN          NaN          NaN          NaN          NaN   \n",
       "1995.0           NaN          NaN          NaN          NaN          NaN   \n",
       "1996.0           NaN          NaN          NaN          NaN          NaN   \n",
       "2010.0     -0.391642          NaN          NaN          NaN          NaN   \n",
       "\n",
       "station     ...       USW00013838  USW00013846  USW00013858  USW00013885  \\\n",
       "year        ...                                                            \n",
       "1969.0      ...               NaN          NaN          NaN          NaN   \n",
       "1973.0      ...               NaN          NaN          NaN          NaN   \n",
       "1977.0      ...               NaN          NaN          NaN          NaN   \n",
       "1988.0      ...               NaN          NaN          NaN          NaN   \n",
       "1989.0      ...               NaN          NaN          NaN          NaN   \n",
       "1993.0      ...               NaN          NaN          NaN          NaN   \n",
       "1994.0      ...               NaN          NaN          NaN          NaN   \n",
       "1995.0      ...               NaN          NaN          NaN          NaN   \n",
       "1996.0      ...               NaN          NaN          NaN          NaN   \n",
       "2010.0      ...               NaN          NaN          NaN          NaN   \n",
       "\n",
       "station  USW00013894  USW00013899  USW00093826  USW00093828  USW00093841  \\\n",
       "year                                                                       \n",
       "1969.0           NaN          NaN          NaN          NaN          NaN   \n",
       "1973.0      1.224178     3.432550          NaN          NaN     0.521045   \n",
       "1977.0     -0.576655    -0.599756          NaN          NaN    -0.771703   \n",
       "1988.0     -0.381792          NaN          NaN          NaN          NaN   \n",
       "1989.0           NaN          NaN          NaN          NaN          NaN   \n",
       "1993.0     -0.500800          NaN          NaN          NaN          NaN   \n",
       "1994.0           NaN          NaN          NaN          NaN          NaN   \n",
       "1995.0           NaN          NaN          NaN          NaN          NaN   \n",
       "1996.0     -0.399346          NaN          NaN          NaN          NaN   \n",
       "2010.0     -0.387573          NaN          NaN          NaN          NaN   \n",
       "\n",
       "station  USW00093859  \n",
       "year                  \n",
       "1969.0           NaN  \n",
       "1973.0           NaN  \n",
       "1977.0           NaN  \n",
       "1988.0           NaN  \n",
       "1989.0           NaN  \n",
       "1993.0           NaN  \n",
       "1994.0           NaN  \n",
       "1995.0           NaN  \n",
       "1996.0           NaN  \n",
       "2010.0           NaN  \n",
       "\n",
       "[10 rows x 49 columns]"
      ]
     },
     "execution_count": 7,
     "metadata": {},
     "output_type": "execute_result"
    }
   ],
   "source": [
    "year_station_table=pdf.pivot(index='year', columns='station', values='coeff_2')\n",
    "year_station_table.tail(10)"
   ]
  },
  {
   "cell_type": "markdown",
   "metadata": {
    "run_control": {
     "frozen": false,
     "read_only": false
    }
   },
   "source": [
    "### Estimating the effect of the year vs the effect of the station\n",
    "\n",
    "To estimate the effect of time vs. location on the first eigenvector coefficient we\n",
    "compute:\n",
    "\n",
    "* The average row: `mean-by-station`\n",
    "* The average column: `mean-by-year`\n",
    "\n",
    "We then compute the RMS before and after subtracting either  the row or the column vector."
   ]
  },
  {
   "cell_type": "code",
   "execution_count": 8,
   "metadata": {
    "run_control": {
     "frozen": false,
     "read_only": false
    }
   },
   "outputs": [
    {
     "name": "stdout",
     "output_type": "stream",
     "text": [
      "total RMS                   =  28.7632185848\n",
      "RMS removing mean-by-station=  23.0209139383\n",
      "RMS removing mean-by-year   =  23.5744424912\n"
     ]
    }
   ],
   "source": [
    "def RMS(Mat): #Root Mean Squared\n",
    "    return np.sqrt(np.nanmean(Mat**2))\n",
    "\n",
    "mean_by_year=np.nanmean(year_station_table,axis=1)\n",
    "mean_by_station=np.nanmean(year_station_table,axis=0)\n",
    "tbl_minus_year = (year_station_table.transpose()-mean_by_year).transpose()\n",
    "tbl_minus_station = year_station_table-mean_by_station\n",
    "\n",
    "print 'total RMS                   = ',RMS(year_station_table)\n",
    "print 'RMS removing mean-by-station= ',RMS(tbl_minus_station)\n",
    "print 'RMS removing mean-by-year   = ',RMS(tbl_minus_year)"
   ]
  },
  {
   "cell_type": "code",
   "execution_count": 9,
   "metadata": {
    "run_control": {
     "frozen": false,
     "read_only": false
    }
   },
   "outputs": [
    {
     "name": "stdout",
     "output_type": "stream",
     "text": [
      "initial RMS= 28.7632185848\n",
      "0 after removing mean by year    = 23.5744424912\n",
      "0 after removing mean by stations= 18.9318329054\n",
      "1 after removing mean by year    = 18.4156178653\n",
      "1 after removing mean by stations= 18.213670902\n",
      "2 after removing mean by year    = 18.1292592506\n",
      "2 after removing mean by stations= 18.0920993213\n",
      "3 after removing mean by year    = 18.0749382916\n",
      "3 after removing mean by stations= 18.0666460711\n",
      "4 after removing mean by year    = 18.0624696332\n",
      "4 after removing mean by stations= 18.0602884597\n"
     ]
    }
   ],
   "source": [
    "T=year_station_table\n",
    "print 'initial RMS=',RMS(T)\n",
    "for i in range(5):\n",
    "    mean_by_year=np.nanmean(T,axis=1)\n",
    "    T=(T.transpose()-mean_by_year).transpose()\n",
    "    print i,'after removing mean by year    =',RMS(T)\n",
    "    mean_by_station=np.nanmean(T,axis=0)\n",
    "    T=T-mean_by_station\n",
    "    print i,'after removing mean by stations=',RMS(T)"
   ]
  },
  {
   "cell_type": "code",
   "execution_count": null,
   "metadata": {
    "collapsed": true,
    "run_control": {
     "frozen": false,
     "read_only": false
    }
   },
   "outputs": [],
   "source": []
  }
 ],
 "metadata": {
  "anaconda-cloud": {},
  "hide_input": false,
  "kernelspec": {
   "display_name": "Python 2",
   "language": "python",
   "name": "python2"
  },
  "language_info": {
   "codemirror_mode": {
    "name": "ipython",
    "version": 2
   },
   "file_extension": ".py",
   "mimetype": "text/x-python",
   "name": "python",
   "nbconvert_exporter": "python",
   "pygments_lexer": "ipython2",
   "version": "2.7.13"
  },
  "toc": {
   "colors": {
    "hover_highlight": "#DAA520",
    "running_highlight": "#FF0000",
    "selected_highlight": "#FFD700"
   },
   "moveMenuLeft": true,
   "nav_menu": {
    "height": "174px",
    "width": "252px"
   },
   "navigate_menu": true,
   "number_sections": true,
   "sideBar": true,
   "threshold": 4,
   "toc_cell": false,
   "toc_section_display": "block",
   "toc_window_display": false
  }
 },
 "nbformat": 4,
 "nbformat_minor": 1
}
