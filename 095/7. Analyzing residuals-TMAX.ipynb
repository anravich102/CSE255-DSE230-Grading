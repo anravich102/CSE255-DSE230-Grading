{
 "cells": [
  {
   "cell_type": "code",
   "execution_count": 1,
   "metadata": {
    "collapsed": true,
    "run_control": {
     "frozen": false,
     "read_only": false
    }
   },
   "outputs": [],
   "source": [
    "#setup\n",
    "data_dir='../../Data/Weather'\n",
    "file_index='BSSSBSBS'\n",
    "meas='TMAX'"
   ]
  },
  {
   "cell_type": "markdown",
   "metadata": {
    "run_control": {
     "frozen": false,
     "read_only": false
    },
    "slideshow": {
     "slide_type": "slide"
    },
    "variables": {
     "meas": "PRCP"
    }
   },
   "source": [
    "# Reconstruction using top eigen-vectors\n",
    "For measurement = {{meas}}"
   ]
  },
  {
   "cell_type": "markdown",
   "metadata": {
    "run_control": {
     "frozen": false,
     "read_only": false
    },
    "slideshow": {
     "slide_type": "skip"
    }
   },
   "source": [
    "## Load the required libraries"
   ]
  },
  {
   "cell_type": "code",
   "execution_count": 2,
   "metadata": {
    "collapsed": true,
    "run_control": {
     "frozen": false,
     "read_only": false
    },
    "slideshow": {
     "slide_type": "skip"
    }
   },
   "outputs": [],
   "source": [
    "# Enable automiatic reload of libraries\n",
    "#%load_ext autoreload\n",
    "#%autoreload 2 # means that all modules are reloaded before every command"
   ]
  },
  {
   "cell_type": "code",
   "execution_count": 2,
   "metadata": {
    "run_control": {
     "frozen": false,
     "read_only": false
    },
    "slideshow": {
     "slide_type": "skip"
    }
   },
   "outputs": [
    {
     "name": "stdout",
     "output_type": "stream",
     "text": [
      "Populating the interactive namespace from numpy and matplotlib\n",
      "    pandas as    pd \tversion=0.19.2 \trequired version>=0.19.2\n",
      "     numpy as    np \tversion=1.11.3 \trequired version>=1.12.0 ******* Update Version ******\n",
      "   sklearn as    sk \tversion=0.18.1 \trequired version>=0.18.1\n",
      "    urllib as urllib \tversion=1.17 \trequired version>=1.17\n",
      "   pyspark as pyspark \tversion=2.1.0+hadoop2.7 \trequired version>=2.1.0\n",
      "ipywidgets as ipywidgets \tversion=6.0.0 \trequired version>=6.0.0\n"
     ]
    }
   ],
   "source": [
    "%pylab inline\n",
    "import numpy as np\n",
    "\n",
    "import findspark\n",
    "findspark.init()\n",
    "\n",
    "import sys\n",
    "sys.path.append('./lib')\n",
    "\n",
    "from numpy_pack import packArray,unpackArray\n",
    "\n",
    "from Eigen_decomp import Eigen_decomp\n",
    "from YearPlotter import YearPlotter\n",
    "from recon_plot import recon_plot\n",
    "\n",
    "from import_modules import import_modules,modules\n",
    "import_modules(modules)\n",
    "\n",
    "from ipywidgets import interactive,widgets"
   ]
  },
  {
   "cell_type": "code",
   "execution_count": 4,
   "metadata": {
    "run_control": {
     "frozen": false,
     "read_only": false
    },
    "slideshow": {
     "slide_type": "skip"
    }
   },
   "outputs": [],
   "source": [
    "from pyspark import SparkContext\n",
    "#sc.stop()\n",
    "\n",
    "sc = SparkContext(master=\"local[3]\",pyFiles=['lib/numpy_pack.py','lib/spark_PCA.py','lib/computeStats.py','lib/recon_plot.py','lib/Eigen_decomp.py'])\n",
    "#sc = SparkContext(master=\"local[3]\",pyFiles=['lib/numpy_pack.py','lib/computeStats.py','lib/recon_plot.py','lib/Eigen_decomp.py'])\n",
    "\n",
    "\n",
    "from pyspark import SparkContext\n",
    "from pyspark.sql import *\n",
    "sqlContext = SQLContext(sc)\n",
    "\n",
    "\n",
    "\n"
   ]
  },
  {
   "cell_type": "markdown",
   "metadata": {
    "run_control": {
     "frozen": false,
     "read_only": false
    },
    "slideshow": {
     "slide_type": "slide"
    }
   },
   "source": [
    "## Read Statistics File"
   ]
  },
  {
   "cell_type": "code",
   "execution_count": 5,
   "metadata": {
    "run_control": {
     "frozen": false,
     "read_only": false
    },
    "slideshow": {
     "slide_type": "subslide"
    }
   },
   "outputs": [
    {
     "name": "stdout",
     "output_type": "stream",
     "text": [
      "keys from STAT= ['TMIN', 'TOBS', 'TMAX', 'SNOW', 'SNWD', 'PRCP']\n"
     ]
    }
   ],
   "source": [
    "from pickle import load\n",
    "\n",
    "#read statistics\n",
    "filename=data_dir+'/STAT_%s.pickle'%file_index\n",
    "STAT,STAT_Descriptions = load(open(filename,'rb'))\n",
    "measurements=STAT.keys()\n",
    "print 'keys from STAT=',measurements"
   ]
  },
  {
   "cell_type": "markdown",
   "metadata": {
    "run_control": {
     "frozen": false,
     "read_only": false
    },
    "slideshow": {
     "slide_type": "slide"
    }
   },
   "source": [
    "## Read data file into a spark DataFrame\n",
    "We focus on the snow-depth records, because the eigen-vectors for them make sense."
   ]
  },
  {
   "cell_type": "code",
   "execution_count": 6,
   "metadata": {
    "run_control": {
     "frozen": false,
     "read_only": false
    },
    "scrolled": true,
    "slideshow": {
     "slide_type": "subslide"
    }
   },
   "outputs": [
    {
     "name": "stdout",
     "output_type": "stream",
     "text": [
      "+------------------+-------------------+------------------+---------+--------+--------+---------+-----------+------------------+-------------------+-------------------+-------------------+-----------+-----------+------+--------------------+------+\n",
      "|           coeff_1|            coeff_2|           coeff_3|elevation|   label|latitude|longitude|measurement|             res_1|              res_2|              res_3|           res_mean|    station|  total_var|undefs|              vector|  year|\n",
      "+------------------+-------------------+------------------+---------+--------+--------+---------+-----------+------------------+-------------------+-------------------+-------------------+-----------+-----------+------+--------------------+------+\n",
      "|1772.9571607758253|-1960.9877598314724| -728.423781292365|     66.1|BSSSBSBS| 30.7794| -87.1414|       TMAX|0.6723387876200021|0.27149208491811094|0.21618296069457824| 0.3649791140226712|USC00085793|2.6284725E7|     0|[E0 58 70 5A F0 5...|1956.0|\n",
      "|1799.7666785180643|-1696.2032462329412|-850.3987904564732|      7.9|BSSSBSBS| 30.6264| -88.0681|       TMAX|0.6512340347620948| 0.3137572746379202| 0.2163440623963384| 0.3667431385228082|USW00013838| 2.593673E7|     9|[A0 5B B0 58 40 5...|2012.0|\n",
      "| 1886.885264776659|-1790.7007045926562|-902.2676533610273|     78.6|BSSSBSBS| 31.4156| -87.0442|       TMAX| 0.642706349612226| 0.3095108363468963|0.21651749975950554|0.37467180993740384|USW00053820|2.6878343E7|     5|[A0 5B 28 58 E0 5...|2012.0|\n",
      "|1968.4237911232035|-1948.2531487527217| -989.204375813694|     57.9|BSSSBSBS| 30.7797| -86.5225|       TMAX|0.6494908718005399| 0.3017784604161193| 0.2166152635474108| 0.3888078463644085|USW00013884|2.8912846E7|     4|[08 59 80 58 10 5...|1990.0|\n",
      "| 1801.348614061479|-1717.2150512133649|-948.0849182978591|     49.1|BSSSBSBS| 30.5653| -87.7017|       TMAX| 0.649109202822004| 0.3211945789608831|0.21667881780124584|0.36758168962623095|USC00016988|2.5778354E7|     7|[78 5B 2C 5C 00 5...|2006.0|\n",
      "+------------------+-------------------+------------------+---------+--------+--------+---------+-----------+------------------+-------------------+-------------------+-------------------+-----------+-----------+------+--------------------+------+\n",
      "only showing top 5 rows\n",
      "\n"
     ]
    }
   ],
   "source": [
    "#read data\n",
    "filename=data_dir+'/decon_%s_%s.parquet'%(file_index,meas)\n",
    "df_in=sqlContext.read.parquet(filename)\n",
    "#filter in \n",
    "df=df_in.filter(df_in.measurement==meas)\n",
    "df.show(5)"
   ]
  },
  {
   "cell_type": "markdown",
   "metadata": {
    "run_control": {
     "frozen": false,
     "read_only": false
    },
    "slideshow": {
     "slide_type": "slide"
    }
   },
   "source": [
    "### Plot Mean and Eigenvecs"
   ]
  },
  {
   "cell_type": "code",
   "execution_count": 7,
   "metadata": {
    "run_control": {
     "frozen": false,
     "read_only": false
    },
    "scrolled": false,
    "slideshow": {
     "slide_type": "subslide"
    }
   },
   "outputs": [
    {
     "data": {
      "image/png": "[encoded data removed]",
      "text/plain": [
       "<matplotlib.figure.Figure at 0x118a91510>"
      ]
     },
     "metadata": {},
     "output_type": "display_data"
    }
   ],
   "source": [
    "m=meas\n",
    "fig,axes=plt.subplots(2,1, sharex='col', sharey='row',figsize=(10,6));\n",
    "k=3\n",
    "EigVec=np.matrix(STAT[m]['eigvec'][:,:k])\n",
    "Mean=STAT[m]['Mean']\n",
    "YearPlotter().plot(Mean,fig,axes[0],label='Mean',title=m+' Mean')\n",
    "YearPlotter().plot(EigVec,fig,axes[1],title=m+' Eigs',labels=['eig'+str(i+1) for i in range(k)])"
   ]
  },
  {
   "cell_type": "markdown",
   "metadata": {
    "run_control": {
     "frozen": false,
     "read_only": false
    },
    "slideshow": {
     "slide_type": "subslide"
    }
   },
   "source": [
    "### plot the percent of residual variance on average"
   ]
  },
  {
   "cell_type": "code",
   "execution_count": 8,
   "metadata": {
    "run_control": {
     "frozen": false,
     "read_only": false
    },
    "scrolled": false
   },
   "outputs": [
    {
     "data": {
      "image/png": "[encoded data removed]",
      "text/plain": [
       "<matplotlib.figure.Figure at 0x11920e690>"
      ]
     },
     "metadata": {},
     "output_type": "display_data"
    }
   ],
   "source": [
    "#  x=0 in the graphs below correspond to the fraction of the variance explained by the mean alone\n",
    "#  x=1,2,3,... are the residuals for eig1, eig1+eig2, eig1+eig2+eig3 ...\n",
    "fig,ax=plt.subplots(1,1);\n",
    "eigvals=STAT[m]['eigval']; eigvals/=sum(eigvals); cumvar=cumsum(eigvals); cumvar=100*np.insert(cumvar,0,0)\n",
    "ax.plot(cumvar[:10]); \n",
    "ax.grid(); \n",
    "ax.set_ylabel('Percent of variance explained')\n",
    "ax.set_xlabel('number of eigenvectors')\n",
    "ax.set_title('Percent of variance explained');"
   ]
  },
  {
   "cell_type": "markdown",
   "metadata": {
    "run_control": {
     "frozen": false,
     "read_only": false
    }
   },
   "source": [
    "\n",
    "### How well-explained are the vectors in this collection?\n",
    "\n",
    "To answer this question we extract all of the values of `res_3` which is the residual variance after the Mean and the \n",
    "first two Eigen-vectors have been subtracted out. We rely here on the fact that `df3` is already sorted according to `res_3`"
   ]
  },
  {
   "cell_type": "code",
   "execution_count": 9,
   "metadata": {
    "collapsed": true,
    "run_control": {
     "frozen": false,
     "read_only": false
    }
   },
   "outputs": [],
   "source": [
    "# A function for plotting the CDF of a given feature\n",
    "def plot_CDF(df,feat):\n",
    "    rows=df.select(feat).sort(feat).collect()\n",
    "    vals=[r[feat] for r in rows]\n",
    "    P=np.arange(0,1,1./(len(vals)))\n",
    "    while len(vals)< len(P):\n",
    "        vals=[vals[0]]+vals\n",
    "    plot(vals,P)\n",
    "    title('cumulative distribution of '+feat)\n",
    "    ylabel('fraction of instances')\n",
    "    xlabel(feat)\n",
    "    grid()\n",
    "    "
   ]
  },
  {
   "cell_type": "code",
   "execution_count": 10,
   "metadata": {
    "run_control": {
     "frozen": false,
     "read_only": false
    }
   },
   "outputs": [
    {
     "data": {
      "image/png": "[encoded data removed]",
      "text/plain": [
       "<matplotlib.figure.Figure at 0x118a81ed0>"
      ]
     },
     "metadata": {},
     "output_type": "display_data"
    }
   ],
   "source": [
    "plot_CDF(df,'res_3')"
   ]
  },
  {
   "cell_type": "code",
   "execution_count": 11,
   "metadata": {
    "run_control": {
     "frozen": false,
     "read_only": false
    }
   },
   "outputs": [
    {
     "data": {
      "text/plain": [
       "(u'USC00085793', 1956.0)"
      ]
     },
     "execution_count": 11,
     "metadata": {},
     "output_type": "execute_result"
    }
   ],
   "source": [
    "rows=df.rdd.map(lambda row:(row.station,row.year,unpackArray(row['vector'],np.float16))).collect()\n",
    "rows[0][:2]"
   ]
  },
  {
   "cell_type": "code",
   "execution_count": 12,
   "metadata": {
    "run_control": {
     "frozen": false,
     "read_only": false
    },
    "scrolled": false
   },
   "outputs": [
    {
     "name": "stdout",
     "output_type": "stream",
     "text": [
      "1890.0\n",
      "2012.0\n"
     ]
    },
    {
     "data": {
      "text/plain": [
       "44895"
      ]
     },
     "execution_count": 12,
     "metadata": {},
     "output_type": "execute_result"
    }
   ],
   "source": [
    "days=set([r[1] for r in rows])\n",
    "miny=min(days)\n",
    "print miny\n",
    "maxy=max(days)\n",
    "print maxy\n",
    "record_len=int((maxy-miny+1)*365)\n",
    "record_len"
   ]
  },
  {
   "cell_type": "code",
   "execution_count": 13,
   "metadata": {
    "collapsed": true,
    "run_control": {
     "frozen": false,
     "read_only": false
    }
   },
   "outputs": [],
   "source": [
    "## combine the measurements for each station into a single long array with an entry for each day of each day\n",
    "All={}  # a dictionary with a numpy array for each day of each day\n",
    "i=0\n",
    "for station,day,vector in rows:\n",
    "    i+=1; \n",
    "    # if i%1000==0: print i,len(All)\n",
    "    if not station in All:\n",
    "        a=np.zeros(record_len)\n",
    "        a.fill(np.nan)\n",
    "        All[station]=a\n",
    "    loc = int((day-miny)*365)\n",
    "    All[station][loc:loc+365]=vector"
   ]
  },
  {
   "cell_type": "code",
   "execution_count": 14,
   "metadata": {
    "collapsed": true,
    "run_control": {
     "frozen": false,
     "read_only": false
    }
   },
   "outputs": [],
   "source": [
    "from datetime import date\n",
    "d=datetime.date(int(miny), month=1, day=1)\n",
    "start=d.toordinal()\n",
    "dates=[date.fromordinal(i) for i in range(start,start+record_len)]"
   ]
  },
  {
   "cell_type": "code",
   "execution_count": 15,
   "metadata": {
    "run_control": {
     "frozen": false,
     "read_only": false
    }
   },
   "outputs": [
    {
     "name": "stdout",
     "output_type": "stream",
     "text": [
      "USW00013838 11947\n",
      "USC00012813 32437\n",
      "USW00063899 1805\n",
      "USW00093841 19477\n",
      "USW00093826 1825\n",
      "USC00226790 723\n",
      "USR0000FNAV 1460\n",
      "USC00013035 7251\n",
      "USC00012675 12947\n",
      "USC00011080 12581\n",
      "USC00012758 28504\n",
      "USC00012670 3179\n",
      "USC00086836 8343\n",
      "USC00016988 27505\n",
      "USC00013251 13055\n",
      "USC00085850 5010\n",
      "USW00063873 344\n",
      "USC00010402 17241\n",
      "USC00013255 10506\n",
      "USC00228382 6861\n",
      "USC00010407 4286\n",
      "USW00003815 6038\n",
      "USC00086999 3970\n",
      "USW00063870 1050\n",
      "USC00085793 21054\n",
      "USR0000AOPE 3193\n",
      "USC00086240 22380\n",
      "USC00226718 20734\n",
      "USC00010583 29521\n",
      "USC00014822 7600\n",
      "USC00011084 30178\n",
      "USW00053820 5399\n",
      "USW00053847 2120\n",
      "USC00086129 3113\n",
      "USR0000ABNS 2509\n",
      "USW00053843 1419\n",
      "USW00013884 12701\n",
      "USC00017733 7345\n",
      "USW00053848 1033\n",
      "USC00080875 4214\n",
      "USC00011685 10115\n",
      "USC00086842 14315\n",
      "USW00013899 23333\n",
      "USC00086841 7476\n",
      "USW00093859 5100\n",
      "USC00011566 20865\n",
      "USC00010252 23792\n",
      "USW00073805 715\n",
      "USC00012577 689\n",
      "USW00013885 4015\n",
      "USC00014193 9634\n",
      "USC00013105 15759\n",
      "USW00013846 7995\n",
      "USC00011803 17368\n",
      "USW00013894 23725\n",
      "USW00063869 2172\n",
      "USC00012172 12809\n",
      "USW00003852 5440\n",
      "USC00015875 1824\n",
      "USC00226054 1399\n",
      "USW00003882 3913\n",
      "USC00015483 13077\n",
      "USW00013858 8029\n",
      "USW00053853 5691\n",
      "USW00093828 2162\n",
      "USC00082220 35204\n",
      "USC00089417 4851\n",
      "USW00003855 21768\n",
      "USC00081984 4295\n",
      "USW00003850 5807\n"
     ]
    }
   ],
   "source": [
    "for station in All:\n",
    "    print station, np.count_nonzero(~np.isnan(All[station]))"
   ]
  },
  {
   "cell_type": "code",
   "execution_count": 16,
   "metadata": {
    "collapsed": true
   },
   "outputs": [],
   "source": [
    "rows=df.rdd.map(lambda row:(row.station,row.latitude, row.longitude,unpackArray(row['vector'],np.float16))).collect()"
   ]
  },
  {
   "cell_type": "code",
   "execution_count": 17,
   "metadata": {
    "collapsed": true
   },
   "outputs": [],
   "source": [
    "import pandas as pd"
   ]
  },
  {
   "cell_type": "code",
   "execution_count": 18,
   "metadata": {
    "collapsed": true
   },
   "outputs": [],
   "source": [
    "data=pd.DataFrame(rows, columns=['station','latitude','longitude','vector'])\n",
    "data=data.drop('vector',1)"
   ]
  },
  {
   "cell_type": "code",
   "execution_count": 19,
   "metadata": {
    "collapsed": true
   },
   "outputs": [],
   "source": [
    "data=data.drop_duplicates()"
   ]
  },
  {
   "cell_type": "code",
   "execution_count": 20,
   "metadata": {
    "collapsed": true
   },
   "outputs": [],
   "source": [
    "data=data.sort_values(by=['station'], ascending=True)"
   ]
  },
  {
   "cell_type": "code",
   "execution_count": 21,
   "metadata": {},
   "outputs": [
    {
     "data": {
      "text/plain": [
       "(70, 3)"
      ]
     },
     "execution_count": 21,
     "metadata": {},
     "output_type": "execute_result"
    }
   ],
   "source": [
    "data.shape"
   ]
  },
  {
   "cell_type": "code",
   "execution_count": 22,
   "metadata": {
    "collapsed": true
   },
   "outputs": [],
   "source": [
    "stations=data[(data['latitude']<30.79)]\n",
    "stations_1=stations[stations['latitude']>30.51]\n",
    "stations_2=stations_1[stations_1['longitude']>-88.3]\n",
    "stations_3=stations_2[stations_2['longitude']<-87.97]"
   ]
  },
  {
   "cell_type": "code",
   "execution_count": 23,
   "metadata": {},
   "outputs": [
    {
     "data": {
      "text/html": [
       "<div>\n",
       "<table border=\"1\" class=\"dataframe\">\n",
       "  <thead>\n",
       "    <tr style=\"text-align: right;\">\n",
       "      <th></th>\n",
       "      <th>station</th>\n",
       "      <th>latitude</th>\n",
       "      <th>longitude</th>\n",
       "    </tr>\n",
       "  </thead>\n",
       "  <tbody>\n",
       "    <tr>\n",
       "      <th>96</th>\n",
       "      <td>USC00015483</td>\n",
       "      <td>30.6833</td>\n",
       "      <td>-88.0333</td>\n",
       "    </tr>\n",
       "    <tr>\n",
       "      <th>15</th>\n",
       "      <td>USC00017733</td>\n",
       "      <td>30.7000</td>\n",
       "      <td>-88.1667</td>\n",
       "    </tr>\n",
       "    <tr>\n",
       "      <th>1</th>\n",
       "      <td>USW00013838</td>\n",
       "      <td>30.6264</td>\n",
       "      <td>-88.0681</td>\n",
       "    </tr>\n",
       "    <tr>\n",
       "      <th>76</th>\n",
       "      <td>USW00013894</td>\n",
       "      <td>30.6794</td>\n",
       "      <td>-88.2397</td>\n",
       "    </tr>\n",
       "  </tbody>\n",
       "</table>\n",
       "</div>"
      ],
      "text/plain": [
       "        station  latitude  longitude\n",
       "96  USC00015483   30.6833   -88.0333\n",
       "15  USC00017733   30.7000   -88.1667\n",
       "1   USW00013838   30.6264   -88.0681\n",
       "76  USW00013894   30.6794   -88.2397"
      ]
     },
     "execution_count": 23,
     "metadata": {},
     "output_type": "execute_result"
    }
   ],
   "source": [
    "stations_3"
   ]
  },
  {
   "cell_type": "code",
   "execution_count": 23,
   "metadata": {},
   "outputs": [
    {
     "data": {
      "text/html": [
       "<div>\n",
       "<table border=\"1\" class=\"dataframe\">\n",
       "  <thead>\n",
       "    <tr style=\"text-align: right;\">\n",
       "      <th></th>\n",
       "      <th>station</th>\n",
       "      <th>latitude</th>\n",
       "      <th>longitude</th>\n",
       "    </tr>\n",
       "  </thead>\n",
       "  <tbody>\n",
       "    <tr>\n",
       "      <th>305</th>\n",
       "      <td>USC00086836</td>\n",
       "      <td>30.1667</td>\n",
       "      <td>-85.7000</td>\n",
       "    </tr>\n",
       "    <tr>\n",
       "      <th>285</th>\n",
       "      <td>USC00086841</td>\n",
       "      <td>30.1667</td>\n",
       "      <td>-85.7000</td>\n",
       "    </tr>\n",
       "    <tr>\n",
       "      <th>34</th>\n",
       "      <td>USC00086842</td>\n",
       "      <td>30.2492</td>\n",
       "      <td>-85.6606</td>\n",
       "    </tr>\n",
       "    <tr>\n",
       "      <th>674</th>\n",
       "      <td>USC00086999</td>\n",
       "      <td>30.5300</td>\n",
       "      <td>-87.1986</td>\n",
       "    </tr>\n",
       "    <tr>\n",
       "      <th>225</th>\n",
       "      <td>USC00089417</td>\n",
       "      <td>30.6333</td>\n",
       "      <td>-85.5833</td>\n",
       "    </tr>\n",
       "  </tbody>\n",
       "</table>\n",
       "</div>"
      ],
      "text/plain": [
       "         station  latitude  longitude\n",
       "305  USC00086836   30.1667   -85.7000\n",
       "285  USC00086841   30.1667   -85.7000\n",
       "34   USC00086842   30.2492   -85.6606\n",
       "674  USC00086999   30.5300   -87.1986\n",
       "225  USC00089417   30.6333   -85.5833"
      ]
     },
     "execution_count": 23,
     "metadata": {},
     "output_type": "execute_result"
    }
   ],
   "source": [
    "stations_1=data.iloc[30:35]\n",
    "stations_2=data.iloc[90:101]\n",
    "stations_3=pd.concat([stations_1,stations_2])\n",
    "stations_3"
   ]
  },
  {
   "cell_type": "code",
   "execution_count": 24,
   "metadata": {
    "collapsed": true
   },
   "outputs": [],
   "source": [
    "from ipyleaflet import (\n",
    "    Map,\n",
    "    Marker,\n",
    "    TileLayer, ImageOverlay,\n",
    "    Polyline, Polygon, Rectangle, Circle, CircleMarker,\n",
    "    GeoJSON,\n",
    "    DrawControl\n",
    ")"
   ]
  },
  {
   "cell_type": "code",
   "execution_count": 25,
   "metadata": {
    "collapsed": true
   },
   "outputs": [],
   "source": [
    "min_lat,max_lat,min_long,max_long = box = (30.51, \n",
    "                                           30.79, \n",
    "                                           -88.3, \n",
    "                                           -87.97)"
   ]
  },
  {
   "cell_type": "code",
   "execution_count": 26,
   "metadata": {},
   "outputs": [
    {
     "data": {
      "application/vnd.jupyter.widget-view+json": {
       "model_id": "b947679a88554668a1d9207f748c8ec1"
      }
     },
     "metadata": {},
     "output_type": "display_data"
    }
   ],
   "source": [
    "center = [(min_lat+max_lat)/2, (min_long+max_long)/2]\n",
    "zoom = 9\n",
    "\n",
    "m = Map(default_tiles=TileLayer(opacity=1.0), center=center, zoom=zoom)\n",
    "\n",
    "r = Rectangle(bounds=[[min_lat,min_long],[max_lat,max_long]], weight=5, fill_opacity=0.0)\n",
    "m += r\n",
    "\n",
    "lat_margin=(max_lat-min_lat)/4\n",
    "long_margin=(max_long-min_long)/4\n",
    "circles = []\n",
    "for index,row in stations.iterrows():\n",
    "    _lat=row['latitude']\n",
    "    _long=row['longitude']\n",
    "    #_count=row['count(station)']\n",
    "    #_coef=row[_avg]\n",
    "    # taking sqrt of count so that the  area of the circle corresponds to the count\n",
    "    c = Circle(location=(_lat,_long), radius=int(300*np.sqrt(6+0.0)), weight=1,\n",
    "            color='#F00', opacity=0.8, fill_opacity=0.4)\n",
    "    circles.append(c)\n",
    "    m.add_layer(c)\n",
    "m    "
   ]
  },
  {
   "cell_type": "code",
   "execution_count": 27,
   "metadata": {
    "run_control": {
     "frozen": false,
     "read_only": false
    }
   },
   "outputs": [
    {
     "ename": "KeyError",
     "evalue": "'USW00013846'",
     "output_type": "error",
     "traceback": [
      "\u001b[0;31m---------------------------------------------------------------------------\u001b[0m",
      "\u001b[0;31mKeyError\u001b[0m                                  Traceback (most recent call last)",
      "\u001b[0;32m<ipython-input-27-844646b7e74a>\u001b[0m in \u001b[0;36m<module>\u001b[0;34m()\u001b[0m\n\u001b[0;32m----> 1\u001b[0;31m \u001b[0mplot\u001b[0m\u001b[0;34m(\u001b[0m\u001b[0mdates\u001b[0m\u001b[0;34m,\u001b[0m\u001b[0mAll\u001b[0m\u001b[0;34m[\u001b[0m\u001b[0;34m'USW00013846'\u001b[0m\u001b[0;34m]\u001b[0m\u001b[0;34m)\u001b[0m\u001b[0;34m;\u001b[0m\u001b[0;34m\u001b[0m\u001b[0m\n\u001b[0m",
      "\u001b[0;31mKeyError\u001b[0m: 'USW00013846'"
     ]
    }
   ],
   "source": [
    "plot(dates,All['USW00013846']);"
   ]
  },
  {
   "cell_type": "code",
   "execution_count": 27,
   "metadata": {
    "run_control": {
     "frozen": false,
     "read_only": false
    }
   },
   "outputs": [
    {
     "name": "stdout",
     "output_type": "stream",
     "text": [
      "(37, 40880)\n"
     ]
    }
   ],
   "source": [
    "Stations=sorted(All.keys())\n",
    "A=[]\n",
    "for station in Stations:\n",
    "    A.append(All[station])\n",
    "\n",
    "day_station_table=np.hstack([A])\n",
    "print shape(day_station_table)"
   ]
  },
  {
   "cell_type": "code",
   "execution_count": 29,
   "metadata": {},
   "outputs": [
    {
     "data": {
      "text/plain": [
       "[u'USC00010252',\n",
       " u'USC00010402',\n",
       " u'USC00010407',\n",
       " u'USC00010583',\n",
       " u'USC00011080',\n",
       " u'USC00011084',\n",
       " u'USC00011566',\n",
       " u'USC00011685',\n",
       " u'USC00011803',\n",
       " u'USC00012172',\n",
       " u'USC00012670',\n",
       " u'USC00012675',\n",
       " u'USC00012758',\n",
       " u'USC00012813',\n",
       " u'USC00013035',\n",
       " u'USC00013105',\n",
       " u'USC00013251',\n",
       " u'USC00013255',\n",
       " u'USC00014193',\n",
       " u'USC00014822',\n",
       " u'USC00015483',\n",
       " u'USC00016988',\n",
       " u'USC00017733',\n",
       " u'USC00080875',\n",
       " u'USC00081984',\n",
       " u'USC00082220',\n",
       " u'USC00085793',\n",
       " u'USC00085850',\n",
       " u'USC00086129',\n",
       " u'USC00086240',\n",
       " u'USC00086836',\n",
       " u'USC00086841',\n",
       " u'USC00086842',\n",
       " u'USC00086999',\n",
       " u'USC00089417',\n",
       " u'USC00226718',\n",
       " u'USC00228382']"
      ]
     },
     "execution_count": 29,
     "metadata": {},
     "output_type": "execute_result"
    }
   ],
   "source": [
    "Stations"
   ]
  },
  {
   "cell_type": "code",
   "execution_count": 30,
   "metadata": {},
   "outputs": [
    {
     "ename": "NameError",
     "evalue": "name 'NN' is not defined",
     "output_type": "error",
     "traceback": [
      "\u001b[0;31m---------------------------------------------------------------------------\u001b[0m",
      "\u001b[0;31mNameError\u001b[0m                                 Traceback (most recent call last)",
      "\u001b[0;32m<ipython-input-30-d21ab416f16d>\u001b[0m in \u001b[0;36m<module>\u001b[0;34m()\u001b[0m\n\u001b[0;32m----> 1\u001b[0;31m \u001b[0mNN\u001b[0m\u001b[0;34m[\u001b[0m\u001b[0mNN\u001b[0m\u001b[0;34m>\u001b[0m\u001b[0;36m0\u001b[0m\u001b[0;34m]\u001b[0m\u001b[0;34m\u001b[0m\u001b[0m\n\u001b[0m",
      "\u001b[0;31mNameError\u001b[0m: name 'NN' is not defined"
     ]
    }
   ],
   "source": [
    "NN[NN>0]"
   ]
  },
  {
   "cell_type": "code",
   "execution_count": 31,
   "metadata": {
    "run_control": {
     "frozen": false,
     "read_only": false
    }
   },
   "outputs": [
    {
     "name": "stdout",
     "output_type": "stream",
     "text": [
      "(1512560,) (481021,) (466967,)\n"
     ]
    },
    {
     "data": {
      "text/plain": [
       "<matplotlib.text.Text at 0x1183d1490>"
      ]
     },
     "execution_count": 31,
     "metadata": {},
     "output_type": "execute_result"
    },
    {
     "data": {
      "image/png": "[encoded data removed]",
      "text/plain": [
       "<matplotlib.figure.Figure at 0x1183aaf90>"
      ]
     },
     "metadata": {},
     "output_type": "display_data"
    }
   ],
   "source": [
    "RT=day_station_table\n",
    "F=RT.flatten()\n",
    "NN=F[~np.isnan(F)]\n",
    "NZ=NN[NN>0]\n",
    "print shape(F),shape(NN),shape(NZ)\n",
    "\n",
    "hist(NZ,bins=75);\n",
    "title('histogram of the >0 values in day_station_table')\n",
    "xlabel('value')\n",
    "ylabel('count')"
   ]
  },
  {
   "cell_type": "code",
   "execution_count": 32,
   "metadata": {
    "run_control": {
     "frozen": false,
     "read_only": false
    }
   },
   "outputs": [
    {
     "name": "stdout",
     "output_type": "stream",
     "text": [
      "total RMS                   =  197.123039986\n",
      "RMS removing mean-by-station=  79.6144476689\n",
      "RMS removing mean-by-day   =  34.439263415\n"
     ]
    },
    {
     "name": "stderr",
     "output_type": "stream",
     "text": [
      "/Users/laurawilke/anaconda3/envs/py27_2/lib/python2.7/site-packages/numpy/lib/nanfunctions.py:703: RuntimeWarning: Mean of empty slice\n",
      "  warnings.warn(\"Mean of empty slice\", RuntimeWarning)\n"
     ]
    }
   ],
   "source": [
    "def RMS(Mat):\n",
    "    return np.sqrt(np.nanmean(Mat**2))\n",
    "\n",
    "mean_by_day=np.nanmean(day_station_table,axis=0)\n",
    "mean_by_station=np.nanmean(day_station_table,axis=1)\n",
    "tbl_minus_day = day_station_table-mean_by_day\n",
    "tbl_minus_station = (day_station_table.transpose()-mean_by_station).transpose()\n",
    "\n",
    "print 'total RMS                   = ',RMS(day_station_table)\n",
    "print 'RMS removing mean-by-station= ',RMS(tbl_minus_station)\n",
    "print 'RMS removing mean-by-day   = ',RMS(tbl_minus_day)"
   ]
  },
  {
   "cell_type": "code",
   "execution_count": 33,
   "metadata": {
    "collapsed": true,
    "run_control": {
     "frozen": false,
     "read_only": false
    }
   },
   "outputs": [],
   "source": [
    "#Normalize rows of RT to have norm 1\n",
    "Len=sqrt(np.nansum(tbl_minus_day**2,axis=1))\n",
    "NRT=(tbl_minus_day.transpose()/Len).transpose()"
   ]
  },
  {
   "cell_type": "code",
   "execution_count": 34,
   "metadata": {
    "run_control": {
     "frozen": false,
     "read_only": false
    }
   },
   "outputs": [
    {
     "name": "stdout",
     "output_type": "stream",
     "text": [
      "shape of sequence matrix (TT) (37, 40875), shape of matrix with 5 shifts (TK) (185, 40875)\n"
     ]
    }
   ],
   "source": [
    "K=5  # the number of time-shifts we consider\n",
    "Middle=K/2 # the index (among K) of the zero-time-shift\n",
    "n,m=RT.shape\n",
    "TK=np.empty([n*K,m-K],dtype=numpy.float64)\n",
    "\n",
    "#create the shifts\n",
    "for i in range(K):\n",
    "    TK[i::K,:]=NRT[:,i:-K+i]\n",
    "\n",
    "#zero Nan entries and indicate them in a separate matrix\n",
    "TKnan=np.isnan(TK)\n",
    "TK[TKnan]=0\n",
    "TK1nan=1-TKnan*1\n",
    "\n",
    "TT=NRT[:,Middle:-Middle-1]\n",
    "TTnan=np.isnan(TT)\n",
    "TT1nan=1-TTnan*1\n",
    "TT[TTnan]=0\n",
    "print 'shape of sequence matrix (TT) %s, shape of matrix with %d shifts (TK) %s'%\\\n",
    "    (str(TT.shape),K,str(TK.shape))\n",
    "#print sum(TK1nan,axis=1)\n",
    "#print sum(TT1nan)"
   ]
  },
  {
   "cell_type": "code",
   "execution_count": 35,
   "metadata": {
    "run_control": {
     "frozen": false,
     "read_only": false
    }
   },
   "outputs": [
    {
     "name": "stdout",
     "output_type": "stream",
     "text": [
      "(185, 37)\n",
      "0\n"
     ]
    }
   ],
   "source": [
    "Prod=np.dot(TK,TT.transpose())\n",
    "print shape(Prod)\n",
    "print sum(np.isnan(Prod.flatten()))"
   ]
  },
  {
   "cell_type": "code",
   "execution_count": 36,
   "metadata": {
    "run_control": {
     "frozen": false,
     "read_only": false
    }
   },
   "outputs": [
    {
     "data": {
      "image/png": "[encoded data removed]",
      "text/plain": [
       "<matplotlib.figure.Figure at 0x11302ecd0>"
      ]
     },
     "metadata": {},
     "output_type": "display_data"
    }
   ],
   "source": [
    "hist(Prod[Prod>0.01].flatten(),bins=300);\n",
    "xlim([0.0,1.1])\n",
    "title('distribution of values in prod matrix')\n",
    "grid()\n",
    "#showmat(ProdMean[:100,:100].transpose())"
   ]
  },
  {
   "cell_type": "code",
   "execution_count": 37,
   "metadata": {
    "run_control": {
     "frozen": false,
     "read_only": false
    }
   },
   "outputs": [
    {
     "data": {
      "text/plain": [
       "(37, 40880)"
      ]
     },
     "execution_count": 37,
     "metadata": {},
     "output_type": "execute_result"
    }
   ],
   "source": [
    "n,m"
   ]
  },
  {
   "cell_type": "code",
   "execution_count": 38,
   "metadata": {
    "collapsed": true,
    "run_control": {
     "frozen": false,
     "read_only": false
    }
   },
   "outputs": [],
   "source": [
    "_shift=np.empty([n,n])\n",
    "_max=np.empty([n,n])\n",
    "for i in range(n):\n",
    "    Slice=Prod[i*K:(i+1)*K,:]\n",
    "    _shift[i,:]=np.argmax(Slice,axis=0)  #find best shift\n",
    "    _max[i,:]=np.max(Slice,axis=0) #find max correlation"
   ]
  },
  {
   "cell_type": "code",
   "execution_count": 39,
   "metadata": {
    "collapsed": true,
    "run_control": {
     "frozen": false,
     "read_only": false
    }
   },
   "outputs": [],
   "source": [
    "def showmat(mat):\n",
    "    fig,axes=plt.subplots(1,1,figsize=(10,10))\n",
    "    axes.matshow(mat)"
   ]
  },
  {
   "cell_type": "code",
   "execution_count": 40,
   "metadata": {},
   "outputs": [
    {
     "data": {
      "text/plain": [
       "array([ 1.,  1.,  1.,  1.,  1.,  1.])"
      ]
     },
     "execution_count": 40,
     "metadata": {},
     "output_type": "execute_result"
    }
   ],
   "source": [
    "_max[_max>1.]"
   ]
  },
  {
   "cell_type": "code",
   "execution_count": 41,
   "metadata": {
    "run_control": {
     "frozen": false,
     "read_only": false
    }
   },
   "outputs": [
    {
     "data": {
      "image/png": "[encoded data removed]",
      "text/plain": [
       "<matplotlib.figure.Figure at 0x12aabeb10>"
      ]
     },
     "metadata": {},
     "output_type": "display_data"
    }
   ],
   "source": [
    "_max2=_max*10.\n",
    "_max2[_max2>1.]=1.\n",
    "showmat(_max2)\n",
    "#showmat(_max*(_max>0.2))"
   ]
  },
  {
   "cell_type": "code",
   "execution_count": 42,
   "metadata": {
    "run_control": {
     "frozen": false,
     "read_only": false
    }
   },
   "outputs": [
    {
     "data": {
      "image/png": "[encoded data removed]",
      "text/plain": [
       "<matplotlib.figure.Figure at 0x12adfba90>"
      ]
     },
     "metadata": {},
     "output_type": "display_data"
    }
   ],
   "source": [
    "_Sshift=_shift*(_max>0.01)\n",
    "showmat(_Sshift)"
   ]
  },
  {
   "cell_type": "code",
   "execution_count": 43,
   "metadata": {
    "run_control": {
     "frozen": false,
     "read_only": false
    }
   },
   "outputs": [
    {
     "name": "stdout",
     "output_type": "stream",
     "text": [
      "0.0 4.0\n"
     ]
    }
   ],
   "source": [
    "print min(_Sshift.flatten()),max(_Sshift.flatten())"
   ]
  },
  {
   "cell_type": "code",
   "execution_count": 44,
   "metadata": {
    "run_control": {
     "frozen": false,
     "read_only": false
    }
   },
   "outputs": [
    {
     "name": "stdout",
     "output_type": "stream",
     "text": [
      "[ 1.16658692  0.32492073  0.11270434  0.0791886   0.05611172]\n",
      "[ 0.53634295  0.14938359  0.05181626  0.03640727  0.02579759]\n",
      "[ 0.53634295  0.68572655  0.73754281  0.77395008  0.79974767]\n"
     ]
    },
    {
     "data": {
      "image/png": "[encoded data removed]",
      "text/plain": [
       "<matplotlib.figure.Figure at 0x12aac7d50>"
      ]
     },
     "metadata": {},
     "output_type": "display_data"
    }
   ],
   "source": [
    "from sklearn.decomposition import PCA\n",
    "pca = PCA(n_components=5, svd_solver='full')\n",
    "pca.fit(_max)     \n",
    "print(pca.explained_variance_)\n",
    "Var_explained=pca.explained_variance_ratio_\n",
    "print (Var_explained)\n",
    "print cumsum(Var_explained)\n",
    "plot(cumsum(Var_explained))\n",
    "title('Percent Variance Explained')\n",
    "ylabel('Percent of Variance')\n",
    "xlabel('Component')\n",
    "grid()"
   ]
  },
  {
   "cell_type": "code",
   "execution_count": 45,
   "metadata": {
    "run_control": {
     "frozen": false,
     "read_only": false
    },
    "scrolled": true
   },
   "outputs": [
    {
     "data": {
      "image/png": "[encoded data removed]",
      "text/plain": [
       "<matplotlib.figure.Figure at 0x12aac73d0>"
      ]
     },
     "metadata": {},
     "output_type": "display_data"
    }
   ],
   "source": [
    "L=list(pca.components_.transpose())\n",
    "X=sorted(L,key=lambda x:x[0]) \n",
    "plot(X);\n",
    "#(key=lambda x:x[0])"
   ]
  },
  {
   "cell_type": "code",
   "execution_count": 46,
   "metadata": {},
   "outputs": [
    {
     "data": {
      "text/plain": [
       "array([[  2.50491510e-01,  -8.09315387e-02,  -1.89492071e-01,\n",
       "         -8.05554235e-02,   8.61563624e-02,  -1.94276039e-01,\n",
       "         -1.93452699e-01,  -1.27427472e-01,  -2.04904420e-01,\n",
       "         -5.34558564e-02,  -1.46888994e-01,   2.16543272e-01,\n",
       "          2.56830684e-01,  -1.60621945e-01,  -1.46300721e-01,\n",
       "          2.59983103e-01,   6.62005295e-02,   2.49965784e-01,\n",
       "          2.77549520e-02,   9.68136801e-02,   1.33071988e-01,\n",
       "          1.26360170e-01,  -1.43490898e-03,   2.25924775e-03,\n",
       "         -2.21498124e-01,  -2.06295032e-01,  -2.49725355e-01,\n",
       "          3.23350341e-03,   6.33670778e-04,   2.19600843e-01,\n",
       "          6.29601799e-04,  -1.63197346e-01,   7.54499645e-02,\n",
       "         -1.21804559e-02,   3.05893463e-04,  -2.36328811e-01,\n",
       "          3.06884917e-01],\n",
       "       [ -6.16026056e-02,   2.51117283e-01,   2.92953945e-02,\n",
       "         -3.48740117e-01,   3.98778442e-01,  -1.14134407e-01,\n",
       "         -1.96523969e-01,   7.44405163e-02,  -2.95745178e-02,\n",
       "         -3.23916644e-01,   1.02058493e-01,   1.04929395e-01,\n",
       "          2.76254647e-01,   1.72531590e-01,   5.86264227e-02,\n",
       "         -1.52544504e-01,   2.83876933e-01,  -1.65119532e-01,\n",
       "          1.78192976e-01,  -1.19606276e-01,  -1.11257503e-01,\n",
       "          2.71516341e-01,   8.61550100e-03,  -2.43787400e-03,\n",
       "          4.00346140e-02,  -9.76581150e-02,   1.57780518e-01,\n",
       "         -4.19663641e-03,  -2.98872984e-02,  -5.21283564e-03,\n",
       "         -5.70844057e-03,   1.49020979e-01,   5.65939675e-02,\n",
       "         -1.44081686e-01,  -2.97713778e-03,   5.58226709e-02,\n",
       "         -8.97305200e-02],\n",
       "       [ -1.14360296e-01,   6.16563695e-02,  -1.70092458e-01,\n",
       "          1.49916609e-01,  -7.32621442e-02,  -1.93486547e-01,\n",
       "         -1.64744865e-01,   1.48097441e-01,  -8.89470419e-02,\n",
       "          3.76411896e-01,   1.74979096e-01,   2.96226787e-01,\n",
       "         -6.07282443e-03,  -1.62782830e-02,   4.06776891e-02,\n",
       "         -1.00035829e-01,  -1.01448355e-01,  -1.91695648e-01,\n",
       "         -2.10637362e-01,  -2.40870716e-01,  -2.25398327e-01,\n",
       "          1.80435984e-01,   2.24129487e-04,   3.73830184e-03,\n",
       "         -1.14777664e-01,  -9.27688055e-02,  -6.22881807e-02,\n",
       "          7.57641333e-03,   1.07135862e-01,  -1.25125473e-01,\n",
       "          5.03094679e-02,   2.15732730e-01,   3.29685227e-01,\n",
       "          3.20036003e-01,  -4.90298751e-03,  -1.14934576e-01,\n",
       "          2.88516439e-02],\n",
       "       [  1.71197861e-01,   3.05199405e-01,  -2.95019223e-01,\n",
       "         -9.26943898e-03,  -1.74347541e-01,   1.37210068e-01,\n",
       "          1.86823604e-01,   2.53174777e-01,   9.42149336e-02,\n",
       "         -1.79792783e-01,   2.69015844e-01,   9.64301715e-02,\n",
       "          1.55109530e-02,  -3.05056693e-01,   8.20643435e-03,\n",
       "          1.41300011e-01,  -1.13578968e-01,  -6.23093535e-02,\n",
       "          1.73290983e-01,  -1.35053817e-01,  -1.78945622e-01,\n",
       "         -3.89881971e-02,   2.25639427e-02,  -7.88958680e-03,\n",
       "         -1.80610047e-01,   1.85891433e-01,  -1.59008401e-01,\n",
       "         -1.22158019e-02,  -9.95470189e-02,  -8.66174720e-02,\n",
       "         -3.95691696e-04,   2.02681056e-01,  -2.69219937e-01,\n",
       "         -2.27563191e-01,   1.43561715e-02,  -1.52197555e-01,\n",
       "          8.99709088e-02],\n",
       "       [  5.22116146e-03,   3.26842439e-03,   2.30160321e-03,\n",
       "          1.27861221e-02,   1.07946761e-02,   4.81163877e-03,\n",
       "         -4.83037164e-03,   1.19564102e-02,   1.05173582e-02,\n",
       "          1.45217212e-02,   1.10071002e-02,   1.49932696e-02,\n",
       "          9.07597179e-03,   1.00719517e-02,   1.39793653e-02,\n",
       "          6.47047015e-03,   1.66406036e-02,   1.07248063e-02,\n",
       "          6.24424784e-03,   2.77280817e-02,   6.07507347e-03,\n",
       "          5.42406933e-03,  -1.14575935e-01,  -6.36034858e-01,\n",
       "          8.06608832e-03,   3.94070605e-02,   8.18358017e-03,\n",
       "         -2.65115240e-01,   1.90294575e-02,   2.86196501e-02,\n",
       "         -4.91378889e-02,   2.37350477e-03,   2.56743299e-02,\n",
       "          2.49215912e-02,   7.08924531e-01,   4.56260900e-03,\n",
       "          4.14684017e-03]])"
      ]
     },
     "execution_count": 46,
     "metadata": {},
     "output_type": "execute_result"
    }
   ],
   "source": [
    "pca.components_"
   ]
  },
  {
   "cell_type": "code",
   "execution_count": 47,
   "metadata": {
    "run_control": {
     "frozen": false,
     "read_only": false
    }
   },
   "outputs": [
    {
     "data": {
      "image/png": "[encoded data removed]",
      "text/plain": [
       "<matplotlib.figure.Figure at 0x12aaa2490>"
      ]
     },
     "metadata": {},
     "output_type": "display_data"
    }
   ],
   "source": [
    "order=np.argsort(pca.components_[0,:])\n",
    "_max_reord=_max[order,:]\n",
    "_max_reord=_max_reord[:,order]\n",
    "_max2=_max_reord*10.\n",
    "_max2[_max2>1.]=1.\n",
    "showmat(_max2)"
   ]
  },
  {
   "cell_type": "code",
   "execution_count": 48,
   "metadata": {},
   "outputs": [
    {
     "data": {
      "text/plain": [
       "37"
      ]
     },
     "execution_count": 48,
     "metadata": {},
     "output_type": "execute_result"
    }
   ],
   "source": [
    "len(_max2)"
   ]
  },
  {
   "cell_type": "code",
   "execution_count": 49,
   "metadata": {
    "run_control": {
     "frozen": false,
     "read_only": false
    },
    "scrolled": false
   },
   "outputs": [
    {
     "name": "stdout",
     "output_type": "stream",
     "text": [
      "(5, 37)\n"
     ]
    },
    {
     "data": {
      "text/plain": [
       "<matplotlib.text.Text at 0x12a8468d0>"
      ]
     },
     "execution_count": 49,
     "metadata": {},
     "output_type": "execute_result"
    },
    {
     "data": {
      "image/png": "[encoded data removed]",
      "text/plain": [
       "<matplotlib.figure.Figure at 0x1149dca10>"
      ]
     },
     "metadata": {},
     "output_type": "display_data"
    }
   ],
   "source": [
    "comp_=pca.components_\n",
    "figure(figsize=(3,3))\n",
    "print shape(comp_)\n",
    "scatter(comp_[4,:],comp_[0,:]);\n",
    "title('1st and 2nd Component')"
   ]
  },
  {
   "cell_type": "code",
   "execution_count": null,
   "metadata": {
    "collapsed": true
   },
   "outputs": [],
   "source": []
  }
 ],
 "metadata": {
  "anaconda-cloud": {},
  "celltoolbar": "Slideshow",
  "hide_input": false,
  "kernelspec": {
   "display_name": "Python 2",
   "language": "python",
   "name": "python2"
  },
  "language_info": {
   "codemirror_mode": {
    "name": "ipython",
    "version": 2
   },
   "file_extension": ".py",
   "mimetype": "text/x-python",
   "name": "python",
   "nbconvert_exporter": "python",
   "pygments_lexer": "ipython2",
   "version": "2.7.13"
  },
  "toc": {
   "colors": {
    "hover_highlight": "#DAA520",
    "running_highlight": "#FF0000",
    "selected_highlight": "#FFD700"
   },
   "moveMenuLeft": true,
   "nav_menu": {
    "height": "118px",
    "width": "252px"
   },
   "navigate_menu": true,
   "number_sections": true,
   "sideBar": true,
   "threshold": 4,
   "toc_cell": false,
   "toc_section_display": "block",
   "toc_window_display": false
  }
 },
 "nbformat": 4,
 "nbformat_minor": 1
}
