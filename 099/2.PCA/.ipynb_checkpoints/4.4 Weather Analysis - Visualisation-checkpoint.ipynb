{
 "cells": [
  {
   "cell_type": "markdown",
   "metadata": {
    "deletable": true,
    "editable": true,
    "run_control": {
     "frozen": false,
     "read_only": false
    }
   },
   "source": [
    "### Visualizing the distribution of the observations\n",
    "\n",
    "### Load the required libraries"
   ]
  },
  {
   "cell_type": "code",
   "execution_count": 3,
   "metadata": {
    "collapsed": false,
    "deletable": true,
    "editable": true,
    "run_control": {
     "frozen": false,
     "read_only": false
    },
    "slideshow": {
     "slide_type": "slide"
    }
   },
   "outputs": [
    {
     "name": "stdout",
     "output_type": "stream",
     "text": [
      "Populating the interactive namespace from numpy and matplotlib\n"
     ]
    },
    {
     "ename": "Py4JJavaError",
     "evalue": "An error occurred while calling o16.addFile.\n: java.io.FileNotFoundException: File file:/Users/yoavfreund/academic.papers/Courses/BigDataAnalytics/BigData_spring2016/CSE255-DSE230-2017/Classes/2.PCA/lib/spark_PCA.py does not exist\n\tat org.apache.hadoop.fs.RawLocalFileSystem.deprecatedGetFileStatus(RawLocalFileSystem.java:611)\n\tat org.apache.hadoop.fs.RawLocalFileSystem.getFileLinkStatusInternal(RawLocalFileSystem.java:824)\n\tat org.apache.hadoop.fs.RawLocalFileSystem.getFileStatus(RawLocalFileSystem.java:601)\n\tat org.apache.hadoop.fs.FilterFileSystem.getFileStatus(FilterFileSystem.java:421)\n\tat org.apache.spark.SparkContext.addFile(SparkContext.scala:1453)\n\tat sun.reflect.NativeMethodAccessorImpl.invoke0(Native Method)\n\tat sun.reflect.NativeMethodAccessorImpl.invoke(NativeMethodAccessorImpl.java:62)\n\tat sun.reflect.DelegatingMethodAccessorImpl.invoke(DelegatingMethodAccessorImpl.java:43)\n\tat java.lang.reflect.Method.invoke(Method.java:483)\n\tat py4j.reflection.MethodInvoker.invoke(MethodInvoker.java:244)\n\tat py4j.reflection.ReflectionEngine.invoke(ReflectionEngine.java:357)\n\tat py4j.Gateway.invoke(Gateway.java:280)\n\tat py4j.commands.AbstractCommand.invokeMethod(AbstractCommand.java:132)\n\tat py4j.commands.CallCommand.execute(CallCommand.java:79)\n\tat py4j.GatewayConnection.run(GatewayConnection.java:214)\n\tat java.lang.Thread.run(Thread.java:745)\n",
     "output_type": "error",
     "traceback": [
      "\u001b[0;31m---------------------------------------------------------------------------\u001b[0m",
      "\u001b[0;31mPy4JJavaError\u001b[0m                             Traceback (most recent call last)",
      "\u001b[0;32m<ipython-input-3-bf9c62f7970c>\u001b[0m in \u001b[0;36m<module>\u001b[0;34m()\u001b[0m\n\u001b[1;32m     11\u001b[0m \u001b[0;32mfrom\u001b[0m \u001b[0mpyspark\u001b[0m \u001b[0;32mimport\u001b[0m \u001b[0mSparkContext\u001b[0m\u001b[0;34m\u001b[0m\u001b[0m\n\u001b[1;32m     12\u001b[0m \u001b[0;31m#sc.stop()\u001b[0m\u001b[0;34m\u001b[0m\u001b[0;34m\u001b[0m\u001b[0m\n\u001b[0;32m---> 13\u001b[0;31m \u001b[0msc\u001b[0m \u001b[0;34m=\u001b[0m \u001b[0mSparkContext\u001b[0m\u001b[0;34m(\u001b[0m\u001b[0mmaster\u001b[0m\u001b[0;34m=\u001b[0m\u001b[0;34m\"local[3]\"\u001b[0m\u001b[0;34m,\u001b[0m\u001b[0mpyFiles\u001b[0m\u001b[0;34m=\u001b[0m\u001b[0;34m[\u001b[0m\u001b[0;34m'lib/numpy_pack.py'\u001b[0m\u001b[0;34m,\u001b[0m\u001b[0;34m'lib/spark_PCA.py'\u001b[0m\u001b[0;34m,\u001b[0m\u001b[0;34m'lib/computeStats.py'\u001b[0m\u001b[0;34m]\u001b[0m\u001b[0;34m)\u001b[0m\u001b[0;34m\u001b[0m\u001b[0m\n\u001b[0m\u001b[1;32m     14\u001b[0m \u001b[0;34m\u001b[0m\u001b[0m\n\u001b[1;32m     15\u001b[0m \u001b[0;32mfrom\u001b[0m \u001b[0mpyspark\u001b[0m \u001b[0;32mimport\u001b[0m \u001b[0mSparkContext\u001b[0m\u001b[0;34m\u001b[0m\u001b[0m\n",
      "\u001b[0;32m/Users/yoavfreund/spark-latest/python/pyspark/context.pyc\u001b[0m in \u001b[0;36m__init__\u001b[0;34m(self, master, appName, sparkHome, pyFiles, environment, batchSize, serializer, conf, gateway, jsc, profiler_cls)\u001b[0m\n\u001b[1;32m    116\u001b[0m         \u001b[0;32mtry\u001b[0m\u001b[0;34m:\u001b[0m\u001b[0;34m\u001b[0m\u001b[0m\n\u001b[1;32m    117\u001b[0m             self._do_init(master, appName, sparkHome, pyFiles, environment, batchSize, serializer,\n\u001b[0;32m--> 118\u001b[0;31m                           conf, jsc, profiler_cls)\n\u001b[0m\u001b[1;32m    119\u001b[0m         \u001b[0;32mexcept\u001b[0m\u001b[0;34m:\u001b[0m\u001b[0;34m\u001b[0m\u001b[0m\n\u001b[1;32m    120\u001b[0m             \u001b[0;31m# If an error occurs, clean up in order to allow future SparkContext creation:\u001b[0m\u001b[0;34m\u001b[0m\u001b[0;34m\u001b[0m\u001b[0m\n",
      "\u001b[0;32m/Users/yoavfreund/spark-latest/python/pyspark/context.pyc\u001b[0m in \u001b[0;36m_do_init\u001b[0;34m(self, master, appName, sparkHome, pyFiles, environment, batchSize, serializer, conf, jsc, profiler_cls)\u001b[0m\n\u001b[1;32m    207\u001b[0m         \u001b[0mself\u001b[0m\u001b[0;34m.\u001b[0m\u001b[0m_python_includes\u001b[0m \u001b[0;34m=\u001b[0m \u001b[0mlist\u001b[0m\u001b[0;34m(\u001b[0m\u001b[0;34m)\u001b[0m\u001b[0;34m\u001b[0m\u001b[0m\n\u001b[1;32m    208\u001b[0m         \u001b[0;32mfor\u001b[0m \u001b[0mpath\u001b[0m \u001b[0;32min\u001b[0m \u001b[0;34m(\u001b[0m\u001b[0mpyFiles\u001b[0m \u001b[0;32mor\u001b[0m \u001b[0;34m[\u001b[0m\u001b[0;34m]\u001b[0m\u001b[0;34m)\u001b[0m\u001b[0;34m:\u001b[0m\u001b[0;34m\u001b[0m\u001b[0m\n\u001b[0;32m--> 209\u001b[0;31m             \u001b[0mself\u001b[0m\u001b[0;34m.\u001b[0m\u001b[0maddPyFile\u001b[0m\u001b[0;34m(\u001b[0m\u001b[0mpath\u001b[0m\u001b[0;34m)\u001b[0m\u001b[0;34m\u001b[0m\u001b[0m\n\u001b[0m\u001b[1;32m    210\u001b[0m \u001b[0;34m\u001b[0m\u001b[0m\n\u001b[1;32m    211\u001b[0m         \u001b[0;31m# Deploy code dependencies set by spark-submit; these will already have been added\u001b[0m\u001b[0;34m\u001b[0m\u001b[0;34m\u001b[0m\u001b[0m\n",
      "\u001b[0;32m/Users/yoavfreund/spark-latest/python/pyspark/context.pyc\u001b[0m in \u001b[0;36maddPyFile\u001b[0;34m(self, path)\u001b[0m\n\u001b[1;32m    827\u001b[0m         \u001b[0mHTTP\u001b[0m\u001b[0;34m,\u001b[0m \u001b[0mHTTPS\u001b[0m \u001b[0;32mor\u001b[0m \u001b[0mFTP\u001b[0m \u001b[0mURI\u001b[0m\u001b[0;34m.\u001b[0m\u001b[0;34m\u001b[0m\u001b[0m\n\u001b[1;32m    828\u001b[0m         \"\"\"\n\u001b[0;32m--> 829\u001b[0;31m         \u001b[0mself\u001b[0m\u001b[0;34m.\u001b[0m\u001b[0maddFile\u001b[0m\u001b[0;34m(\u001b[0m\u001b[0mpath\u001b[0m\u001b[0;34m)\u001b[0m\u001b[0;34m\u001b[0m\u001b[0m\n\u001b[0m\u001b[1;32m    830\u001b[0m         \u001b[0;34m(\u001b[0m\u001b[0mdirname\u001b[0m\u001b[0;34m,\u001b[0m \u001b[0mfilename\u001b[0m\u001b[0;34m)\u001b[0m \u001b[0;34m=\u001b[0m \u001b[0mos\u001b[0m\u001b[0;34m.\u001b[0m\u001b[0mpath\u001b[0m\u001b[0;34m.\u001b[0m\u001b[0msplit\u001b[0m\u001b[0;34m(\u001b[0m\u001b[0mpath\u001b[0m\u001b[0;34m)\u001b[0m  \u001b[0;31m# dirname may be directory or HDFS/S3 prefix\u001b[0m\u001b[0;34m\u001b[0m\u001b[0m\n\u001b[1;32m    831\u001b[0m         \u001b[0;32mif\u001b[0m \u001b[0mfilename\u001b[0m\u001b[0;34m[\u001b[0m\u001b[0;34m-\u001b[0m\u001b[0;36m4\u001b[0m\u001b[0;34m:\u001b[0m\u001b[0;34m]\u001b[0m\u001b[0;34m.\u001b[0m\u001b[0mlower\u001b[0m\u001b[0;34m(\u001b[0m\u001b[0;34m)\u001b[0m \u001b[0;32min\u001b[0m \u001b[0mself\u001b[0m\u001b[0;34m.\u001b[0m\u001b[0mPACKAGE_EXTENSIONS\u001b[0m\u001b[0;34m:\u001b[0m\u001b[0;34m\u001b[0m\u001b[0m\n",
      "\u001b[0;32m/Users/yoavfreund/spark-latest/python/pyspark/context.pyc\u001b[0m in \u001b[0;36maddFile\u001b[0;34m(self, path, recursive)\u001b[0m\n\u001b[1;32m    818\u001b[0m         \u001b[0;34m[\u001b[0m\u001b[0;36m100\u001b[0m\u001b[0;34m,\u001b[0m \u001b[0;36m200\u001b[0m\u001b[0;34m,\u001b[0m \u001b[0;36m300\u001b[0m\u001b[0;34m,\u001b[0m \u001b[0;36m400\u001b[0m\u001b[0;34m]\u001b[0m\u001b[0;34m\u001b[0m\u001b[0m\n\u001b[1;32m    819\u001b[0m         \"\"\"\n\u001b[0;32m--> 820\u001b[0;31m         \u001b[0mself\u001b[0m\u001b[0;34m.\u001b[0m\u001b[0m_jsc\u001b[0m\u001b[0;34m.\u001b[0m\u001b[0msc\u001b[0m\u001b[0;34m(\u001b[0m\u001b[0;34m)\u001b[0m\u001b[0;34m.\u001b[0m\u001b[0maddFile\u001b[0m\u001b[0;34m(\u001b[0m\u001b[0mpath\u001b[0m\u001b[0;34m,\u001b[0m \u001b[0mrecursive\u001b[0m\u001b[0;34m)\u001b[0m\u001b[0;34m\u001b[0m\u001b[0m\n\u001b[0m\u001b[1;32m    821\u001b[0m \u001b[0;34m\u001b[0m\u001b[0m\n\u001b[1;32m    822\u001b[0m     \u001b[0;32mdef\u001b[0m \u001b[0maddPyFile\u001b[0m\u001b[0;34m(\u001b[0m\u001b[0mself\u001b[0m\u001b[0;34m,\u001b[0m \u001b[0mpath\u001b[0m\u001b[0;34m)\u001b[0m\u001b[0;34m:\u001b[0m\u001b[0;34m\u001b[0m\u001b[0m\n",
      "\u001b[0;32m/Users/yoavfreund/spark-latest/python/lib/py4j-0.10.4-src.zip/py4j/java_gateway.py\u001b[0m in \u001b[0;36m__call__\u001b[0;34m(self, *args)\u001b[0m\n\u001b[1;32m   1131\u001b[0m         \u001b[0manswer\u001b[0m \u001b[0;34m=\u001b[0m \u001b[0mself\u001b[0m\u001b[0;34m.\u001b[0m\u001b[0mgateway_client\u001b[0m\u001b[0;34m.\u001b[0m\u001b[0msend_command\u001b[0m\u001b[0;34m(\u001b[0m\u001b[0mcommand\u001b[0m\u001b[0;34m)\u001b[0m\u001b[0;34m\u001b[0m\u001b[0m\n\u001b[1;32m   1132\u001b[0m         return_value = get_return_value(\n\u001b[0;32m-> 1133\u001b[0;31m             answer, self.gateway_client, self.target_id, self.name)\n\u001b[0m\u001b[1;32m   1134\u001b[0m \u001b[0;34m\u001b[0m\u001b[0m\n\u001b[1;32m   1135\u001b[0m         \u001b[0;32mfor\u001b[0m \u001b[0mtemp_arg\u001b[0m \u001b[0;32min\u001b[0m \u001b[0mtemp_args\u001b[0m\u001b[0;34m:\u001b[0m\u001b[0;34m\u001b[0m\u001b[0m\n",
      "\u001b[0;32m/Users/yoavfreund/spark-latest/python/lib/py4j-0.10.4-src.zip/py4j/protocol.py\u001b[0m in \u001b[0;36mget_return_value\u001b[0;34m(answer, gateway_client, target_id, name)\u001b[0m\n\u001b[1;32m    317\u001b[0m                 raise Py4JJavaError(\n\u001b[1;32m    318\u001b[0m                     \u001b[0;34m\"An error occurred while calling {0}{1}{2}.\\n\"\u001b[0m\u001b[0;34m.\u001b[0m\u001b[0;34m\u001b[0m\u001b[0m\n\u001b[0;32m--> 319\u001b[0;31m                     format(target_id, \".\", name), value)\n\u001b[0m\u001b[1;32m    320\u001b[0m             \u001b[0;32melse\u001b[0m\u001b[0;34m:\u001b[0m\u001b[0;34m\u001b[0m\u001b[0m\n\u001b[1;32m    321\u001b[0m                 raise Py4JError(\n",
      "\u001b[0;31mPy4JJavaError\u001b[0m: An error occurred while calling o16.addFile.\n: java.io.FileNotFoundException: File file:/Users/yoavfreund/academic.papers/Courses/BigDataAnalytics/BigData_spring2016/CSE255-DSE230-2017/Classes/2.PCA/lib/spark_PCA.py does not exist\n\tat org.apache.hadoop.fs.RawLocalFileSystem.deprecatedGetFileStatus(RawLocalFileSystem.java:611)\n\tat org.apache.hadoop.fs.RawLocalFileSystem.getFileLinkStatusInternal(RawLocalFileSystem.java:824)\n\tat org.apache.hadoop.fs.RawLocalFileSystem.getFileStatus(RawLocalFileSystem.java:601)\n\tat org.apache.hadoop.fs.FilterFileSystem.getFileStatus(FilterFileSystem.java:421)\n\tat org.apache.spark.SparkContext.addFile(SparkContext.scala:1453)\n\tat sun.reflect.NativeMethodAccessorImpl.invoke0(Native Method)\n\tat sun.reflect.NativeMethodAccessorImpl.invoke(NativeMethodAccessorImpl.java:62)\n\tat sun.reflect.DelegatingMethodAccessorImpl.invoke(DelegatingMethodAccessorImpl.java:43)\n\tat java.lang.reflect.Method.invoke(Method.java:483)\n\tat py4j.reflection.MethodInvoker.invoke(MethodInvoker.java:244)\n\tat py4j.reflection.ReflectionEngine.invoke(ReflectionEngine.java:357)\n\tat py4j.Gateway.invoke(Gateway.java:280)\n\tat py4j.commands.AbstractCommand.invokeMethod(AbstractCommand.java:132)\n\tat py4j.commands.CallCommand.execute(CallCommand.java:79)\n\tat py4j.GatewayConnection.run(GatewayConnection.java:214)\n\tat java.lang.Thread.run(Thread.java:745)\n"
     ]
    }
   ],
   "source": [
    "import pandas as pd\n",
    "import numpy as np\n",
    "import sklearn as sk\n",
    "import urllib\n",
    "import math\n",
    "%pylab inline\n",
    "\n",
    "import findspark\n",
    "findspark.init()\n",
    "\n",
    "from pyspark import SparkContext\n",
    "#sc.stop()\n",
    "sc = SparkContext(master=\"local[3]\",pyFiles=['lib/numpy_pack.py','lib/spark_PCA.py','lib/computeStats.py'])\n",
    "\n",
    "from pyspark import SparkContext\n",
    "from pyspark.sql import *\n",
    "sqlContext = SQLContext(sc)\n",
    "\n",
    "import sys\n",
    "sys.path.append('./lib')\n",
    "\n",
    "import numpy as np\n",
    "from numpy_pack import packArray,unpackArray\n",
    "from spark_PCA import computeCov\n",
    "from computeStats import computeOverAllDist, STAT_Descriptions\n",
    "\n",
    "### Read the data frame from pickle file\n",
    "\n",
    "data_dir='../../Data/Weather'\n",
    "file_index='BBBSBBBB'\n",
    "\n",
    "from pickle import load\n",
    "\n",
    "#read statistics\n",
    "filename=data_dir+'/STAT_%s.pickle'%file_index\n",
    "STAT,STAT_Descriptions = load(open(filename,'rb'))\n",
    "print 'keys from STAT=',STAT.keys()\n",
    "\n",
    "#read data\n",
    "filename=data_dir+'/US_Weather_%s.parquet'%file_index\n",
    "\n",
    "df=sqlContext.read.parquet(filename)\n",
    "print df.count()\n",
    "df.show(5)"
   ]
  },
  {
   "cell_type": "markdown",
   "metadata": {
    "deletable": true,
    "editable": true,
    "run_control": {
     "frozen": false,
     "read_only": false
    },
    "slideshow": {
     "slide_type": "slide"
    }
   },
   "source": [
    "### Select data for a particular station and measurement type"
   ]
  },
  {
   "cell_type": "code",
   "execution_count": null,
   "metadata": {
    "collapsed": false,
    "deletable": true,
    "editable": true,
    "run_control": {
     "frozen": false,
     "read_only": false
    },
    "slideshow": {
     "slide_type": "subslide"
    }
   },
   "outputs": [],
   "source": [
    "sqlContext.registerDataFrameAsTable(df,'weather')\n",
    "Query=\"SELECT * FROM weather\\n\\tWHERE measurement='%s' and station='%s'\"%('PRCP','USC00198301')\n",
    "print Query\n",
    "df1 = sqlContext.sql(Query)\n",
    "print df1.count(),'rows'\n",
    "df1.show(2)\n",
    "rows=df1.rdd.map(lambda row:unpackArray(row['vector'],np.float16)).collect()\n",
    "T=np.vstack(rows)\n",
    "T=T/10.  # scaling to make the temperature be in centingrates\n",
    "shape(T)"
   ]
  },
  {
   "cell_type": "markdown",
   "metadata": {
    "deletable": true,
    "editable": true,
    "run_control": {
     "frozen": false,
     "read_only": false
    },
    "slideshow": {
     "slide_type": "slide"
    }
   },
   "source": [
    "### Script for plotting yearly plots"
   ]
  },
  {
   "cell_type": "code",
   "execution_count": 4,
   "metadata": {
    "collapsed": false,
    "deletable": true,
    "editable": true,
    "run_control": {
     "frozen": false,
     "read_only": false
    },
    "scrolled": false,
    "slideshow": {
     "slide_type": "subslide"
    }
   },
   "outputs": [
    {
     "ename": "ImportError",
     "evalue": "No module named YearPlotter",
     "output_type": "error",
     "traceback": [
      "\u001b[0;31m---------------------------------------------------------------------------\u001b[0m",
      "\u001b[0;31mImportError\u001b[0m                               Traceback (most recent call last)",
      "\u001b[0;32m<ipython-input-4-dc8ea5d8d15b>\u001b[0m in \u001b[0;36m<module>\u001b[0;34m()\u001b[0m\n\u001b[0;32m----> 1\u001b[0;31m \u001b[0;32mfrom\u001b[0m \u001b[0mYearPlotter\u001b[0m \u001b[0;32mimport\u001b[0m \u001b[0mYearPlotter\u001b[0m\u001b[0;34m\u001b[0m\u001b[0m\n\u001b[0m\u001b[1;32m      2\u001b[0m \u001b[0mfig\u001b[0m\u001b[0;34m,\u001b[0m \u001b[0max\u001b[0m \u001b[0;34m=\u001b[0m \u001b[0mplt\u001b[0m\u001b[0;34m.\u001b[0m\u001b[0msubplots\u001b[0m\u001b[0;34m(\u001b[0m\u001b[0mfigsize\u001b[0m\u001b[0;34m=\u001b[0m\u001b[0;34m(\u001b[0m\u001b[0;36m10\u001b[0m\u001b[0;34m,\u001b[0m\u001b[0;36m7\u001b[0m\u001b[0;34m)\u001b[0m\u001b[0;34m)\u001b[0m\u001b[0;34m;\u001b[0m\u001b[0;34m\u001b[0m\u001b[0m\n\u001b[1;32m      3\u001b[0m \u001b[0mYP\u001b[0m\u001b[0;34m=\u001b[0m\u001b[0mYearPlotter\u001b[0m\u001b[0;34m(\u001b[0m\u001b[0;34m)\u001b[0m\u001b[0;34m\u001b[0m\u001b[0m\n\u001b[1;32m      4\u001b[0m \u001b[0mYP\u001b[0m\u001b[0;34m.\u001b[0m\u001b[0mplot\u001b[0m\u001b[0;34m(\u001b[0m\u001b[0mT\u001b[0m\u001b[0;34m[\u001b[0m\u001b[0;34m:\u001b[0m\u001b[0;36m2\u001b[0m\u001b[0;34m,\u001b[0m\u001b[0;34m:\u001b[0m\u001b[0;34m]\u001b[0m\u001b[0;34m.\u001b[0m\u001b[0mtranspose\u001b[0m\u001b[0;34m(\u001b[0m\u001b[0;34m)\u001b[0m\u001b[0;34m,\u001b[0m\u001b[0mfig\u001b[0m\u001b[0;34m,\u001b[0m\u001b[0max\u001b[0m\u001b[0;34m,\u001b[0m\u001b[0mtitle\u001b[0m\u001b[0;34m=\u001b[0m\u001b[0;34m'PRCP'\u001b[0m\u001b[0;34m)\u001b[0m\u001b[0;34m\u001b[0m\u001b[0m\n\u001b[1;32m      5\u001b[0m \u001b[0;31m#title('A sample of graphs');\u001b[0m\u001b[0;34m\u001b[0m\u001b[0;34m\u001b[0m\u001b[0m\n",
      "\u001b[0;31mImportError\u001b[0m: No module named YearPlotter"
     ]
    }
   ],
   "source": [
    "from YearPlotter import YearPlotter\n",
    "fig, ax = plt.subplots(figsize=(10,7));\n",
    "YP=YearPlotter()\n",
    "YP.plot(T[:2,:].transpose(),fig,ax,title='PRCP')\n",
    "#title('A sample of graphs');"
   ]
  },
  {
   "cell_type": "markdown",
   "metadata": {
    "deletable": true,
    "editable": true,
    "run_control": {
     "frozen": false,
     "read_only": false
    },
    "slideshow": {
     "slide_type": "slide"
    }
   },
   "source": [
    "### Distribution of missing observations\n",
    "The distribution of missing observations is not uniform throughout the year. We visualize it below."
   ]
  },
  {
   "cell_type": "code",
   "execution_count": 4,
   "metadata": {
    "collapsed": true,
    "deletable": true,
    "editable": true,
    "run_control": {
     "frozen": false,
     "read_only": false
    },
    "slideshow": {
     "slide_type": "subslide"
    }
   },
   "outputs": [],
   "source": [
    "def plot_pair(pair,func):\n",
    "    j=0\n",
    "    fig,X=subplots(1,2,figsize=(16,6))\n",
    "    axes=X.reshape(2)\n",
    "    for m in pair:\n",
    "        axis = axes[j]\n",
    "        j+=1\n",
    "        func(m,fig,axis)\n",
    "        \n",
    "def plot_valid(m,fig,axis):\n",
    "    valid_m=STAT[m]['NE']\n",
    "    YP.plot(valid_m,fig,axis,title='valid-counts '+m)\n",
    "    "
   ]
  },
  {
   "cell_type": "code",
   "execution_count": 5,
   "metadata": {
    "collapsed": false,
    "deletable": true,
    "editable": true,
    "run_control": {
     "frozen": false,
     "read_only": false
    },
    "scrolled": false,
    "slideshow": {
     "slide_type": "subslide"
    }
   },
   "outputs": [
    {
     "name": "stderr",
     "output_type": "stream",
     "text": [
      "/Users/yoavfreund/miniconda2/lib/python2.7/site-packages/matplotlib/axes/_axes.py:545: UserWarning: No labelled objects found. Use label='...' kwarg on individual plots.\n",
      "  warnings.warn(\"No labelled objects found. \"\n"
     ]
    },
    {
     "data": {
      "image/png": "iVBORw0KGgoAAAANSUhEUgAAA68AAAFcCAYAAAAnAYh3AAAABHNCSVQICAgIfAhkiAAAAAlwSFlz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