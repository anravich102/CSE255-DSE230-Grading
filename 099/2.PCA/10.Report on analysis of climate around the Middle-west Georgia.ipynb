{
 "cells": [
  {
   "cell_type": "markdown",
   "metadata": {
    "run_control": {
     "frozen": false,
     "read_only": false
    }
   },
   "source": [
    "# Middle-west Georgia Weather Analysis\n",
    "\n",
    "This is a report on the historical analysis of weather patterns in an area that approximately overlaps the area of the middle-west state of Georgia.\n",
    "\n",
    "The data we will use here comes from [NOAA](https://www.ncdc.noaa.gov/). Specifically, it was downloaded from This [FTP site](ftp://ftp.ncdc.noaa.gov/pub/data/ghcn/daily/).\n",
    "\n",
    "We focused on six measurements:\n",
    "* **TMIN, TMAX:** the daily minimum and maximum temperature.\n",
    "* **TOBS:** The average temperature for each day.\n",
    "* **PRCP:** Daily Percipitation (in mm)\n",
    "* **SNOW:** Daily snowfall (in mm)\n",
    "* **SNWD:** The depth of accumulated snow.\n",
    "\n",
    "## Sanity-check: comparison with outside sources\n",
    "\n",
    "<p>We start by comparing some of the general statistics with graphs that we obtained from a site called <a href=\"http://www.usclimatedata.com/climate/boston/massachusetts/united-states/usma0046\" target=\"_blank\">US Climate Data</a> The graph below shows the daily minimum and maximum temperatures for each month, as well as the total precipitation for each month.</p>\n",
    "\n",
    "<p>&nbsp;</p>\n",
    "\n",
    "<p><img alt=\"Climate Columbus - Georgia and Weather averages Columbus.jpeg\" src=\"my_figures/Climate Columbus - Georgia and Weather averages Columbus.jpeg\" style=\"height:300px\" /></p>\n",
    "\n",
    "<p>&nbsp;</p>\n",
    "\n",
    "<p>We see that the min and max daily&nbsp;temperature agree with the ones we got from our data, once we translate Fahrenheit to Centigrade.</p>\n",
    "\n",
    "<p>&nbsp;</p>\n",
    "\n",
    "<p><img alt=\"TMIN,TMAX.png\" src=\"my_figures/TMIN,TMAX.png\" style=\"height:300px; width:800px\" /></p>\n",
    "\n",
    "<p>To compare the precipitation&nbsp;we need to translate millimeter/day to inches/month. According to our analysis the average rainfall is 3.50 mm/day which translates to about 4.14 Inches&nbsp;per month. According to US-Climate-Data the average rainfall is closer to 3.8 inch per month. However, there is clear agreement that the shape of fluctuation is almost the same with US-Climate-Data.</p>\n",
    "\n",
    "<p>&nbsp;<img alt=\"PRCP.png\" src=\"my_figures/PRCP.png\" style=\"height:450px; width:600px\" /></p>\n"
   ]
  },
  {
   "cell_type": "markdown",
   "metadata": {
    "run_control": {
     "frozen": false,
     "read_only": false
    }
   },
   "source": [
    "## PCA analysis\n",
    "\n",
    "For each of the six measurement, we compute the percentate of the variance explained as a function of the number of eigen-vectors used.\n",
    "\n",
    "### Percentage of variance explained.\n",
    "![VarExplained1.png](my_figures/VarExplained1.png)\n",
    "We see that the top 5 eigen-vectors explain 22% of variance for TMIN, 48% for TOBS and 21% for TMAX.\n",
    "\n",
    "We conclude that of the three, TOBS is best explained by the top 5 eigenvectors. This is especially true for the first eigen-vector which, by itself, explains 39% of the variance.\n",
    "\n",
    "![VarExplained2.png](my_figures/VarExplained2.png)\n",
    "\n",
    "The top 5 eigenvectors explain 7% of the variance for PRCP, which is a low value. On the other hand the top 5 eigenvectors explain 53% for SNOW(much higher than that of Boston) and %85 of the variance for SNWD. This means that these top 5 eigenvectors capture most of the variation in the snow signals. Based on that we will dig deeper into the PCA analysis for snow-depth.\n",
    "\n",
    "It makes sense that SNWD would be less noisy than SNOW. That is because SNWD is a decaying integral of SNOW and, as such, varies less between days and between the same date on diffferent years."
   ]
  },
  {
   "cell_type": "markdown",
   "metadata": {
    "run_control": {
     "frozen": false,
     "read_only": false
    }
   },
   "source": [
    "## Analysis of snow depth\n",
    "\n",
    "We choose to analyze the eigen-decomposition for snow-depth because the first 4 eigen-vectors explain 83% of the variance.\n",
    "\n",
    "First, we graph the mean and the top 4 eigen-vectors.\n",
    "\n",
    "We observe that the snow season is from mid-december to the end of April, where the middle of February marks the peak of the snow-depth.\n",
    "![SNWD_mean_eigs.png](my_figures/SNWD_mean_eigs.png)\n",
    "\n",
    "Next we interpret the eigen-functions. The first eigen-function (eig1) has a shape very similar to the mean function during the whole Jan. And its much more smoother. The interpretation of this shape is that **eig1** represents that during Jan, the snow depth is almost constant distributed and has an constant value of 0.2 despite some other variations.\n",
    "\n",
    "**eig2,eig3 and eig4** are similar in the following way. They all oscilate between positive and negative values. In other words, they correspond to changing the distribution of the snow depth over the winter months, but they don't change the total (much).\n",
    "\n",
    "They can be interpreted as follows:\n",
    "* **eig2:** less snow in mid-Feb.\n",
    "* **eig3:** less snow in the early of mid-Feb, more snow in later mid-Feb.\n",
    "* **eig4:** more snow in the end of Jan, less snow in the start of Jan."
   ]
  },
  {
   "cell_type": "markdown",
   "metadata": {
    "run_control": {
     "frozen": false,
     "read_only": false
    }
   },
   "source": [
    "\n"
   ]
  },
  {
   "cell_type": "markdown",
   "metadata": {
    "run_control": {
     "frozen": false,
     "read_only": false
    }
   },
   "source": [
    "### Examples of reconstructions\n",
    "\n",
    "#### Coeff1\n",
    "Coeff1: most positive\n",
    "![SNWD_grid_Pos_coeff1.png](my_figures/SNWD_grid_Pos_coeff1.png)\n",
    "Coeff1: most negative\n",
    "![SNWD_grid_neg_coeff1.png](my_figures/SNWD_grid_neg_coeff1.png)\n",
    "Large positive values of coeff1 correspond to more than average snow. Low values correspond to less than average snow.\n",
    "\n",
    "#### Coeff2\n",
    "Coeff2: most positive\n",
    "![SNWD_grid_Pos_coeff2.png](my_figures/SNWD_grid_Pos_coeff2.png)\n",
    "Coeff2: most negative\n",
    "![SNWD_grid_neg_coeff2.png](my_figures/SNWD_grid_neg_coeff2.png)\n",
    "\n",
    "Large positive values of coeff2 correspond to less snow in mid-Feb. Negative values for coeff2 correspond to more snow in mid-Feb.\n",
    "#### Coeff3\n",
    "Coeff3: most positive\n",
    "![SNWD_grid_Pos_coeff3.png](my_figures/SNWD_grid_Pos_coeff3.png)\n",
    "Coeff3: most negative\n",
    "![SNWD_grid_neg_coeff3.png](my_figures/SNWD_grid_neg_coeff3.png)\n",
    "\n",
    "According to the shape of mean, there seems like always a snow spike at the middle of Feb. Large positive values of coeff2 correspond to a late snow spike. Negative values of coeff3 correspond to early snow spike.\n",
    "\n"
   ]
  },
  {
   "cell_type": "markdown",
   "metadata": {
    "run_control": {
     "frozen": false,
     "read_only": false
    }
   },
   "source": [
    "### Best of reconstruction\n",
    "c1 = -2.53, c2 = -429.80, c3 = 119.03  \n",
    "residual normalized norm  after mean: 0.995878434734  \n",
    "residual normalized norm  after mean + top eigs: [ 0.99996826  0.08271237  0.01236778]  \n",
    "![SNWD_best_reconstruction.png](my_figures/SNWD_best_reconstruction.png)\n",
    "\n",
    "As we can see in the figure above, only the snow spike at the middle of Feb are reconstructed. It doesn't snow much in the area(compare to Boston). We filtered out the datavectors for which the mean is a worse approximation than zero, and only left 103 out of 2015. And there are lots of noise of the SNWD mean curve, which means there is not a very obvious relationship between the seasons and the depth of the snow. That may be the reason why the snow depth curve cannot be reconstructed very accurately."
   ]
  },
  {
   "cell_type": "markdown",
   "metadata": {
    "collapsed": true,
    "run_control": {
     "frozen": false,
     "read_only": false
    }
   },
   "source": [
    "### Distribution of the residuals and the coefficient\n",
    "![SNWD_coeff_1_CDF.png](my_figures/SNWD_coeff_1_CDF.png)\n",
    "![SNWD_coeff_2_CDF.png](my_figures/SNWD_coeff_2_CDF.png)\n",
    "![SNWD_coeff_3_CDF.png](my_figures/SNWD_coeff_3_CDF.png)\n",
    "![SNWD_res_1_CDF.png](my_figures/SNWD_res_1_CDF.png)\n",
    "![SNWD_res_2_CDF.png](my_figures/SNWD_res_2_CDF.png)\n",
    "![SNWD_res_3_CDF.png](my_figures/SNWD_res_3_CDF.png)"
   ]
  },
  {
   "cell_type": "markdown",
   "metadata": {
    "run_control": {
     "frozen": false,
     "read_only": false
    }
   },
   "source": [
    "### Geographical distribution of first 3 coefficients. \n",
    "The the area of the circle corresponds to the count of observation of certain station. Different colors in the circle represent the different value of coefficient. Warmer the color, the larger the coefficient and colder the color, the smaller the coefficient.\n",
    "#### Coefficient 1\n",
    "![7_SNWD_coeff1_map.png](my_figures/7_SNWD_coeff1_map.png)\n",
    "In this figure, we can see the colors are warmer at the edges of the area, and there are some blue circles at the east of Columbus. Since coeff1 represent the whole magnitude of snow depths, there are more snow at the edges of the area and less snow at the east of Columbus.\n",
    "#### Coefficient 2\n",
    "![7_SNWD_coeff2_map.png](my_figures/7_SNWD_coeff2_map.png)\n",
    "\n",
    "#### Coefficient 3\n",
    "![7_SNWD_coeff3_map.png](my_figures/7_SNWD_coeff3_map.png)\n",
    "\n",
    "In this figure，we can see that there are some blue circles at the northeast of this area and other circles are almost yellow. Since eig3 represent the relative time of the snow spike of mid-Feb, in northeast of this area, the snow spike happens a little earlier at the middle of Feb and the a little late in other stations."
   ]
  },
  {
   "cell_type": "markdown",
   "metadata": {
    "collapsed": true,
    "run_control": {
     "frozen": false,
     "read_only": false
    }
   },
   "source": [
    "## The variation in the timing of snow is mostly due to year-to-year variation\n",
    "In the previous section we see the variation of Coeff1, which corresponds to the total amount of snow, with respect to location. We now estimate the relative importance of location-to-location variation relative to year-by-year variation.\n",
    "\n",
    "These are measured using the fraction by which the variance is reduced when we subtract from each station/year entry the average-per-year or the average-per-station respectively. Here are the results:\n",
    "\n",
    "** coeff_1 **  \n",
    "total MS                   =  9734.99735929  \n",
    "MS removing mean-by-station=  4443.87675531  fraction explained= 0.543515360991  \n",
    "MS removing mean-by-year   =  80.3140511889  fraction explained= 0.991749966823  \n",
    "\n",
    "\n",
    "** coeff_2 **  \n",
    "total MS                   =  5689.913501  \n",
    "MS removing mean-by-station=  4012.18198595  fraction explained= 0.29486063624  \n",
    "MS removing mean-by-year   =  1611.59505356  fraction explained= 0.71676282016  \n",
    "\n",
    "** coeff_3 **  \n",
    "total MS                   =  731.724942806  \n",
    "MS removing mean-by-station=  477.816011085 fraction explained= 0.34700051463  \n",
    "MS removing mean-by-year   =  618.131053812 fraction explained= 0.155241242096  \n",
    "\n",
    "\n",
    "\n",
    "Considering coeff_1 and coeff_2, we see that the variation by year explains more than the variation by station. However, the variation by year explains less than the variation by station consider coeff_3. \n",
    "\n",
    "\n",
    "Coeff_1，2 has to do with the timining of snowfall. Coeff_3 have to do with the total of snowfall. We see that for coeff_1,2 the stations explain 3-5% of the variance while the year explains 70-100%. For coeff_3, the station explain 34.7% of the variance while the year explains 15.5%."
   ]
  },
  {
   "cell_type": "markdown",
   "metadata": {},
   "source": [
    "## Analysis of Temperature at the Observation Time\n",
    "\n",
    "We choose to analyze the eigen-decomposition for TOBS because the first 4 eigen-vectors explain 48% of the variance.\n",
    "\n",
    "First, we graph the mean and the top 3 eigen-vectors.\n",
    "\n",
    "We observe that the temperature at the observation time increases from January to July, keep at about 26.5 Celsius Degree to the start of September and then goes down to about 8 Celsius Degree.\n",
    "![TOBS_mean_eigs.png](my_figures/TOBS_mean_eigs.png)\n",
    "\n",
    "Next we interpret the eigen-functions. \n",
    "They can be interpreted as follows:\n",
    "* **eig1:** like a base signal, represent the average temperature across the year.\n",
    "* **eig2:** difference in temperature between summer and winter.\n",
    "* **eig3:** the tendency of the average temperature (whether to increase or decrease)."
   ]
  },
  {
   "attachments": {},
   "cell_type": "markdown",
   "metadata": {
    "collapsed": true
   },
   "source": [
    "## Analysis of correlation between percipitation across locations\n",
    "\n",
    "\n",
    "We graph the mean and the top 3 eigen-vectors. We can observe that the precipitation is less in June and September, and fluctate to more in winter and early summer.\n",
    "![PRCP_meanEigs.png](my_figures/PRCP_meanEigs.png)\n",
    "\n",
    "\n",
    "### Definition of statistical test\n",
    "We want to find a statistical test for rejecting the null hypothesis that says that the rainfall in the two locations is independent.\n",
    "\n",
    "Using the inner product is too noisy, because you multiply the rainfall on the same day in two locations and that product can be very large - leading to a large variance and poor ability to discriminate.\n",
    "\n",
    "An alternative is to ignore the amount of rain, and just ask whether it rained in both locations. We can then compute the probability associated with the number of overlaps under the null hypothesis.\n",
    "### Percentage of variance explained.\n",
    "\n",
    "![PRCP_explained.png](my_figures/PRCP_explained.png)\n",
    "\n",
    "As we can see in the figure, the top 9 eigenvectors can only explain 12% of variance. Which means PCA analysis of precipitation is not very suitable. The precipitation varies a lot from days to days in a year and the data is quite noisy.\n",
    "\n",
    "![PRCP_CDF.png](my_figures/PRCP_CDF.png)\n",
    "As we see from the graph above, in our region it rains in about one third of the days.\n",
    "###  Histogram of the resulting p-values\n",
    "Choose 2 stations to do the hypothesis:\n",
    "USC00092161, which has 24087 records.\n",
    "USC00093271, which has 32598 records.\n",
    "\n",
    "After doing hypothesis testing for all unique combinations of 2 stations, this plot displays a histogram of the resulting p-values.The significance of the p-value is the probability of seeing the result given by the data under the null hypothesis. So a low p-value means that it is unlikely to see such results under the null hypothesis.\n",
    "\n",
    "Since we don't find too much low p-values, the null hypothesis is not wrong for the dataset. Then the two locations is not totally independent.\n",
    "\n",
    "\n",
    "![PRCP_significance.png](my_figures/PRCP_significance.png)\n",
    "\n",
    "\n",
    "### Finding structure in the rependency matrix.\n",
    "\n",
    "![PRCP_correlation.png](my_figures/PRCP_correlation.png)\n",
    "\n",
    "When we reorder the rows and columns of the matrix using one of the eigenvectors, the grouping of the stations becomes more evident. For example, consider the upper left corner and the lower right corner of the first matrix.The stations at positions 0-55 and 90-110 are clearly strongly correlated with each other respectively. Let's look at the second matrix.The upper left corner and a square at the lower right show that 0-60 and 65-100 are somehow correlated with each other respectively."
   ]
  },
  {
   "cell_type": "code",
   "execution_count": null,
   "metadata": {
    "collapsed": true
   },
   "outputs": [],
   "source": []
  }
 ],
 "metadata": {
  "anaconda-cloud": {},
  "kernelspec": {
   "display_name": "Python [conda root]",
   "language": "python",
   "name": "conda-root-py"
  },
  "language_info": {
   "codemirror_mode": {
    "name": "ipython",
    "version": 2
   },
   "file_extension": ".py",
   "mimetype": "text/x-python",
   "name": "python",
   "nbconvert_exporter": "python",
   "pygments_lexer": "ipython2",
   "version": "2.7.12"
  },
  "toc": {
   "colors": {
    "hover_highlight": "#DAA520",
    "running_highlight": "#FF0000",
    "selected_highlight": "#FFD700"
   },
   "moveMenuLeft": true,
   "nav_menu": {
    "height": "12px",
    "width": "252px"
   },
   "navigate_menu": true,
   "number_sections": true,
   "sideBar": true,
   "threshold": 4,
   "toc_cell": false,
   "toc_section_display": "block",
   "toc_window_display": false
  }
 },
 "nbformat": 4,
 "nbformat_minor": 2
}
