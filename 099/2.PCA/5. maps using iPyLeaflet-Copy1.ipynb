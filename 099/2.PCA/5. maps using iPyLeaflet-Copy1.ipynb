{
 "cells": [
  {
   "cell_type": "markdown",
   "metadata": {
    "run_control": {
     "frozen": false,
     "read_only": false
    }
   },
   "source": [
    "## iPyLeaflet\n",
    "[ipyleaflet](https://github.com/ellisonbg/ipyleaflet) is a bridge between jupyter notebooks and the [leaflet](http://leafletjs.com/)  javascript library for drawing maps.\n",
    "\n",
    "ipyleaflet comes with a few examples notebooks (this notebook was derived from one) but very little documentation,\n",
    "for more documentation read the [Leaflet IPA](http://leafletjs.com/reference.html)\n",
    "\n",
    "For installation directions, see the README on [ipyleaflet](https://github.com/ellisonbg/ipyleaflet)"
   ]
  },
  {
   "cell_type": "code",
   "execution_count": 1,
   "metadata": {
    "collapsed": true,
    "run_control": {
     "frozen": false,
     "read_only": false
    }
   },
   "outputs": [],
   "source": [
    "from ipyleaflet import (\n",
    "    Map,\n",
    "    Marker,\n",
    "    TileLayer, ImageOverlay,\n",
    "    Polyline, Polygon, Rectangle, Circle, CircleMarker,\n",
    "    GeoJSON,\n",
    "    DrawControl\n",
    ")"
   ]
  },
  {
   "cell_type": "markdown",
   "metadata": {
    "run_control": {
     "frozen": false,
     "read_only": false
    }
   },
   "source": [
    "## Visualizing the distribution of the observations\n",
    "\n",
    "## Load the required libraries"
   ]
  },
  {
   "cell_type": "code",
   "execution_count": 2,
   "metadata": {
    "collapsed": true,
    "run_control": {
     "frozen": false,
     "read_only": false
    }
   },
   "outputs": [],
   "source": [
    "import pandas as pd\n",
    "import numpy as np\n",
    "import sklearn as sk\n",
    "import urllib\n",
    "import math"
   ]
  },
  {
   "cell_type": "code",
   "execution_count": 3,
   "metadata": {
    "collapsed": true,
    "run_control": {
     "frozen": false,
     "read_only": false
    }
   },
   "outputs": [],
   "source": [
    "import findspark\n",
    "findspark.init()\n",
    "\n",
    "from pyspark import SparkContext\n",
    "#sc.stop()\n",
    "sc = SparkContext(master=\"local[3]\",pyFiles=['lib/numpy_pack.py','lib/computeStats.py'])\n",
    "\n",
    "from pyspark import SparkContext\n",
    "from pyspark.sql import *\n",
    "sqlContext = SQLContext(sc)"
   ]
  },
  {
   "cell_type": "code",
   "execution_count": 4,
   "metadata": {
    "collapsed": true,
    "run_control": {
     "frozen": false,
     "read_only": false
    }
   },
   "outputs": [],
   "source": [
    "import sys\n",
    "sys.path.append('./lib')\n",
    "\n",
    "import numpy as np\n",
    "from numpy_pack import packArray,unpackArray\n",
    "from computeStats import computeOverAllDist, STAT_Descriptions"
   ]
  },
  {
   "cell_type": "code",
   "execution_count": 5,
   "metadata": {
    "run_control": {
     "frozen": false,
     "read_only": false
    }
   },
   "outputs": [
    {
     "name": "stdout",
     "output_type": "stream",
     "text": [
      "('keys from STAT=', ['TMIN', 'TOBS', 'TMAX', 'SNOW', 'SNWD', 'PRCP'])\n",
      "103\n",
      "+-------------------+------------------+------------------+---------+--------+--------+---------+-----------+------------------+------------------+------------------+------------------+-----------+---------+------+--------------------+------+\n",
      "|            coeff_1|           coeff_2|           coeff_3|elevation|   label|latitude|longitude|measurement|             res_1|             res_2|             res_3|          res_mean|    station|total_var|undefs|              vector|  year|\n",
      "+-------------------+------------------+------------------+---------+--------+--------+---------+-----------+------------------+------------------+------------------+------------------+-----------+---------+------+--------------------+------+\n",
      "|  36.88280420965144|0.9302361398007852|0.1591972219710314|    152.7|BSBSSSSB| 32.6089| -85.0756|       SNWD|0.9272904811360495|0.9272862359830134|0.9272845486974798|0.9952366993333596|USC00096148|  21905.0|    19|[00 7E C0 54 F0 5...|2002.0|\n",
      "|-0.9592820522018941| -9.10937027887795| 29.35430759853752|    152.4|BSBSSSSB| 32.0467| -84.3711|       SNWD|0.9998392311358606|0.9853420107333658|0.8348019965194571|0.9909792712829232|USC00097087|   5776.0|     3|[00 00 00 00 00 0...|2010.0|\n",
      "+-------------------+------------------+------------------+---------+--------+--------+---------+-----------+------------------+------------------+------------------+------------------+-----------+---------+------+--------------------+------+\n",
      "only showing top 2 rows\n",
      "\n"
     ]
    }
   ],
   "source": [
    "### Read the data frame from pickle file\n",
    "\n",
    "data_dir='../../Data/Weather'\n",
    "file_index='BSBSSSSB'\n",
    "meas='SNWD'\n",
    "\n",
    "from pickle import load\n",
    "\n",
    "#read statistics\n",
    "filename=data_dir+'/STAT_%s.pickle'%file_index\n",
    "STAT,STAT_Descriptions = load(open(filename,'rb'))\n",
    "print('keys from STAT=',STAT.keys())\n",
    "\n",
    "#!ls -ld $data_dir/*.parquet\n",
    "\n",
    "#read data\n",
    "filename=data_dir+'/decon_%s_%s.parquet'%(file_index,meas)\n",
    "\n",
    "df=sqlContext.read.parquet(filename)\n",
    "print(df.count())\n",
    "df.show(2)"
   ]
  },
  {
   "cell_type": "code",
   "execution_count": 24,
   "metadata": {
    "run_control": {
     "frozen": false,
     "read_only": false
    },
    "scrolled": true
   },
   "outputs": [
    {
     "name": "stdout",
     "output_type": "stream",
     "text": [
      "SELECT station, latitude,longitude,elevation,coeff_3 FROM weather\n",
      "+-----------+--------+---------+---------+--------------------+\n",
      "|    station|latitude|longitude|elevation|             coeff_3|\n",
      "+-----------+--------+---------+---------+--------------------+\n",
      "|USC00096148| 32.6089| -85.0756|    152.7|  0.1591972219710314|\n",
      "|USC00097087| 32.0467| -84.3711|    152.4|   29.35430759853752|\n",
      "|USC00016129| 32.6592| -85.4492|    195.1|   10.06641874782651|\n",
      "|USC00093544| 32.5667| -83.8667|    149.0|0.058720892963780774|\n",
      "+-----------+--------+---------+---------+--------------------+\n",
      "only showing top 4 rows\n",
      "\n"
     ]
    }
   ],
   "source": [
    "#extract longitude and latitude for each station\n",
    "feature='coeff_1'\n",
    "feature='coeff_2'\n",
    "feature='coeff_3'\n",
    "sqlContext.registerDataFrameAsTable(df,'weather')\n",
    "Query=\"SELECT station, latitude,longitude,elevation,%s FROM weather\"%feature\n",
    "print(Query)\n",
    "df1 = sqlContext.sql(Query)\n",
    "df1.show(4)"
   ]
  },
  {
   "cell_type": "code",
   "execution_count": 25,
   "metadata": {
    "run_control": {
     "frozen": false,
     "read_only": false
    }
   },
   "outputs": [
    {
     "name": "stdout",
     "output_type": "stream",
     "text": [
      "38\n"
     ]
    },
    {
     "data": {
      "text/html": [
       "<div>\n",
       "<style>\n",
       "    .dataframe thead tr:only-child th {\n",
       "        text-align: right;\n",
       "    }\n",
       "\n",
       "    .dataframe thead th {\n",
       "        text-align: left;\n",
       "    }\n",
       "\n",
       "    .dataframe tbody tr th {\n",
       "        vertical-align: top;\n",
       "    }\n",
       "</style>\n",
       "<table border=\"1\" class=\"dataframe\">\n",
       "  <thead>\n",
       "    <tr style=\"text-align: right;\">\n",
       "      <th></th>\n",
       "      <th>station</th>\n",
       "      <th>latitude</th>\n",
       "      <th>longitude</th>\n",
       "      <th>elevation</th>\n",
       "      <th>count(station)</th>\n",
       "      <th>avg(coeff_3)</th>\n",
       "    </tr>\n",
       "  </thead>\n",
       "  <tbody>\n",
       "    <tr>\n",
       "      <th>11</th>\n",
       "      <td>USC00092450</td>\n",
       "      <td>31.7672</td>\n",
       "      <td>-84.7931</td>\n",
       "      <td>140.5</td>\n",
       "      <td>2</td>\n",
       "      <td>19.719929</td>\n",
       "    </tr>\n",
       "    <tr>\n",
       "      <th>0</th>\n",
       "      <td>USC00011725</td>\n",
       "      <td>31.8708</td>\n",
       "      <td>-85.4500</td>\n",
       "      <td>173.4</td>\n",
       "      <td>2</td>\n",
       "      <td>-68.296316</td>\n",
       "    </tr>\n",
       "    <tr>\n",
       "      <th>31</th>\n",
       "      <td>USC00093658</td>\n",
       "      <td>31.8967</td>\n",
       "      <td>-85.0375</td>\n",
       "      <td>149.4</td>\n",
       "      <td>1</td>\n",
       "      <td>0.066415</td>\n",
       "    </tr>\n",
       "    <tr>\n",
       "      <th>32</th>\n",
       "      <td>USC00012730</td>\n",
       "      <td>32.0111</td>\n",
       "      <td>-85.0900</td>\n",
       "      <td>70.1</td>\n",
       "      <td>2</td>\n",
       "      <td>0.081866</td>\n",
       "    </tr>\n",
       "    <tr>\n",
       "      <th>25</th>\n",
       "      <td>USC00095394</td>\n",
       "      <td>32.0306</td>\n",
       "      <td>-84.7753</td>\n",
       "      <td>147.8</td>\n",
       "      <td>1</td>\n",
       "      <td>0.072453</td>\n",
       "    </tr>\n",
       "    <tr>\n",
       "      <th>17</th>\n",
       "      <td>USC00097087</td>\n",
       "      <td>32.0467</td>\n",
       "      <td>-84.3711</td>\n",
       "      <td>152.4</td>\n",
       "      <td>1</td>\n",
       "      <td>29.354308</td>\n",
       "    </tr>\n",
       "    <tr>\n",
       "      <th>10</th>\n",
       "      <td>USC00097201</td>\n",
       "      <td>32.0547</td>\n",
       "      <td>-84.5239</td>\n",
       "      <td>123.4</td>\n",
       "      <td>2</td>\n",
       "      <td>0.068535</td>\n",
       "    </tr>\n",
       "    <tr>\n",
       "      <th>26</th>\n",
       "      <td>USC00014080</td>\n",
       "      <td>32.2464</td>\n",
       "      <td>-85.4142</td>\n",
       "      <td>122.5</td>\n",
       "      <td>1</td>\n",
       "      <td>0.054176</td>\n",
       "    </tr>\n",
       "    <tr>\n",
       "      <th>22</th>\n",
       "      <td>USC00095979</td>\n",
       "      <td>32.2903</td>\n",
       "      <td>-84.0314</td>\n",
       "      <td>99.7</td>\n",
       "      <td>2</td>\n",
       "      <td>0.060511</td>\n",
       "    </tr>\n",
       "    <tr>\n",
       "      <th>23</th>\n",
       "      <td>USC00095550</td>\n",
       "      <td>32.4567</td>\n",
       "      <td>-83.9400</td>\n",
       "      <td>54.9</td>\n",
       "      <td>1</td>\n",
       "      <td>0.039655</td>\n",
       "    </tr>\n",
       "    <tr>\n",
       "      <th>29</th>\n",
       "      <td>US1GATY0002</td>\n",
       "      <td>32.4583</td>\n",
       "      <td>-84.2237</td>\n",
       "      <td>125.3</td>\n",
       "      <td>1</td>\n",
       "      <td>24.726931</td>\n",
       "    </tr>\n",
       "    <tr>\n",
       "      <th>2</th>\n",
       "      <td>USW00093842</td>\n",
       "      <td>32.5161</td>\n",
       "      <td>-84.9422</td>\n",
       "      <td>119.5</td>\n",
       "      <td>7</td>\n",
       "      <td>7.605402</td>\n",
       "    </tr>\n",
       "    <tr>\n",
       "      <th>36</th>\n",
       "      <td>USC00092159</td>\n",
       "      <td>32.5181</td>\n",
       "      <td>-84.9378</td>\n",
       "      <td>132.6</td>\n",
       "      <td>2</td>\n",
       "      <td>9.894203</td>\n",
       "    </tr>\n",
       "    <tr>\n",
       "      <th>1</th>\n",
       "      <td>USC00093544</td>\n",
       "      <td>32.5667</td>\n",
       "      <td>-83.8667</td>\n",
       "      <td>149.0</td>\n",
       "      <td>3</td>\n",
       "      <td>-11.301572</td>\n",
       "    </tr>\n",
       "    <tr>\n",
       "      <th>24</th>\n",
       "      <td>USC00010430</td>\n",
       "      <td>32.6000</td>\n",
       "      <td>-85.5000</td>\n",
       "      <td>198.7</td>\n",
       "      <td>5</td>\n",
       "      <td>0.060482</td>\n",
       "    </tr>\n",
       "    <tr>\n",
       "      <th>21</th>\n",
       "      <td>USC00096148</td>\n",
       "      <td>32.6089</td>\n",
       "      <td>-85.0756</td>\n",
       "      <td>152.7</td>\n",
       "      <td>1</td>\n",
       "      <td>0.159197</td>\n",
       "    </tr>\n",
       "    <tr>\n",
       "      <th>28</th>\n",
       "      <td>USC00099124</td>\n",
       "      <td>32.6094</td>\n",
       "      <td>-83.6164</td>\n",
       "      <td>128.0</td>\n",
       "      <td>1</td>\n",
       "      <td>29.354308</td>\n",
       "    </tr>\n",
       "    <tr>\n",
       "      <th>30</th>\n",
       "      <td>USW00013860</td>\n",
       "      <td>32.6333</td>\n",
       "      <td>-83.6000</td>\n",
       "      <td>92.0</td>\n",
       "      <td>1</td>\n",
       "      <td>0.050229</td>\n",
       "    </tr>\n",
       "    <tr>\n",
       "      <th>9</th>\n",
       "      <td>USC00091425</td>\n",
       "      <td>32.6525</td>\n",
       "      <td>-84.1858</td>\n",
       "      <td>135.9</td>\n",
       "      <td>2</td>\n",
       "      <td>-5.516186</td>\n",
       "    </tr>\n",
       "    <tr>\n",
       "      <th>34</th>\n",
       "      <td>USC00016129</td>\n",
       "      <td>32.6592</td>\n",
       "      <td>-85.4492</td>\n",
       "      <td>195.1</td>\n",
       "      <td>1</td>\n",
       "      <td>10.066419</td>\n",
       "    </tr>\n",
       "    <tr>\n",
       "      <th>12</th>\n",
       "      <td>USW00003813</td>\n",
       "      <td>32.6847</td>\n",
       "      <td>-83.6528</td>\n",
       "      <td>104.5</td>\n",
       "      <td>8</td>\n",
       "      <td>14.895699</td>\n",
       "    </tr>\n",
       "    <tr>\n",
       "      <th>6</th>\n",
       "      <td>USC00098535</td>\n",
       "      <td>32.6875</td>\n",
       "      <td>-84.5197</td>\n",
       "      <td>195.1</td>\n",
       "      <td>5</td>\n",
       "      <td>0.030596</td>\n",
       "    </tr>\n",
       "    <tr>\n",
       "      <th>37</th>\n",
       "      <td>USC00095447</td>\n",
       "      <td>32.8333</td>\n",
       "      <td>-83.6333</td>\n",
       "      <td>114.0</td>\n",
       "      <td>3</td>\n",
       "      <td>0.062697</td>\n",
       "    </tr>\n",
       "    <tr>\n",
       "      <th>18</th>\n",
       "      <td>USC00099291</td>\n",
       "      <td>32.8694</td>\n",
       "      <td>-85.1892</td>\n",
       "      <td>175.3</td>\n",
       "      <td>3</td>\n",
       "      <td>0.070402</td>\n",
       "    </tr>\n",
       "    <tr>\n",
       "      <th>27</th>\n",
       "      <td>USC00098661</td>\n",
       "      <td>32.9028</td>\n",
       "      <td>-84.3367</td>\n",
       "      <td>230.1</td>\n",
       "      <td>2</td>\n",
       "      <td>-5.554528</td>\n",
       "    </tr>\n",
       "    <tr>\n",
       "      <th>35</th>\n",
       "      <td>USC00014502</td>\n",
       "      <td>32.9069</td>\n",
       "      <td>-85.4336</td>\n",
       "      <td>225.6</td>\n",
       "      <td>4</td>\n",
       "      <td>-4.970560</td>\n",
       "    </tr>\n",
       "    <tr>\n",
       "      <th>19</th>\n",
       "      <td>USC00098657</td>\n",
       "      <td>32.9614</td>\n",
       "      <td>-84.2300</td>\n",
       "      <td>240.5</td>\n",
       "      <td>1</td>\n",
       "      <td>-11.268413</td>\n",
       "    </tr>\n",
       "    <tr>\n",
       "      <th>13</th>\n",
       "      <td>USC00099506</td>\n",
       "      <td>32.9708</td>\n",
       "      <td>-84.6103</td>\n",
       "      <td>222.5</td>\n",
       "      <td>2</td>\n",
       "      <td>19.767497</td>\n",
       "    </tr>\n",
       "    <tr>\n",
       "      <th>16</th>\n",
       "      <td>USC00093506</td>\n",
       "      <td>33.0161</td>\n",
       "      <td>-83.9417</td>\n",
       "      <td>195.1</td>\n",
       "      <td>4</td>\n",
       "      <td>-48.267391</td>\n",
       "    </tr>\n",
       "    <tr>\n",
       "      <th>5</th>\n",
       "      <td>USC00093915</td>\n",
       "      <td>33.0286</td>\n",
       "      <td>-84.7350</td>\n",
       "      <td>292.6</td>\n",
       "      <td>3</td>\n",
       "      <td>0.056282</td>\n",
       "    </tr>\n",
       "    <tr>\n",
       "      <th>4</th>\n",
       "      <td>USC00094949</td>\n",
       "      <td>33.0536</td>\n",
       "      <td>-85.0317</td>\n",
       "      <td>222.5</td>\n",
       "      <td>3</td>\n",
       "      <td>0.120405</td>\n",
       "    </tr>\n",
       "    <tr>\n",
       "      <th>14</th>\n",
       "      <td>USC00092198</td>\n",
       "      <td>33.1000</td>\n",
       "      <td>-84.4333</td>\n",
       "      <td>253.0</td>\n",
       "      <td>3</td>\n",
       "      <td>-6.600403</td>\n",
       "    </tr>\n",
       "    <tr>\n",
       "      <th>8</th>\n",
       "      <td>USC00094728</td>\n",
       "      <td>33.1139</td>\n",
       "      <td>-83.7881</td>\n",
       "      <td>137.2</td>\n",
       "      <td>1</td>\n",
       "      <td>9.687957</td>\n",
       "    </tr>\n",
       "    <tr>\n",
       "      <th>33</th>\n",
       "      <td>USC00017025</td>\n",
       "      <td>33.1581</td>\n",
       "      <td>-85.2911</td>\n",
       "      <td>228.6</td>\n",
       "      <td>7</td>\n",
       "      <td>0.016633</td>\n",
       "    </tr>\n",
       "    <tr>\n",
       "      <th>20</th>\n",
       "      <td>USC00093936</td>\n",
       "      <td>33.2500</td>\n",
       "      <td>-84.2667</td>\n",
       "      <td>299.0</td>\n",
       "      <td>3</td>\n",
       "      <td>-7.554982</td>\n",
       "    </tr>\n",
       "    <tr>\n",
       "      <th>7</th>\n",
       "      <td>USC00093271</td>\n",
       "      <td>33.2631</td>\n",
       "      <td>-84.2842</td>\n",
       "      <td>284.7</td>\n",
       "      <td>9</td>\n",
       "      <td>-0.833947</td>\n",
       "    </tr>\n",
       "    <tr>\n",
       "      <th>15</th>\n",
       "      <td>USC00093570</td>\n",
       "      <td>33.2758</td>\n",
       "      <td>-85.0992</td>\n",
       "      <td>240.8</td>\n",
       "      <td>2</td>\n",
       "      <td>0.071723</td>\n",
       "    </tr>\n",
       "    <tr>\n",
       "      <th>3</th>\n",
       "      <td>USC00093567</td>\n",
       "      <td>33.2833</td>\n",
       "      <td>-85.1000</td>\n",
       "      <td>203.9</td>\n",
       "      <td>1</td>\n",
       "      <td>0.067512</td>\n",
       "    </tr>\n",
       "  </tbody>\n",
       "</table>\n",
       "</div>"
      ],
      "text/plain": [
       "        station  latitude  longitude  elevation  count(station)  avg(coeff_3)\n",
       "11  USC00092450   31.7672   -84.7931      140.5               2     19.719929\n",
       "0   USC00011725   31.8708   -85.4500      173.4               2    -68.296316\n",
       "31  USC00093658   31.8967   -85.0375      149.4               1      0.066415\n",
       "32  USC00012730   32.0111   -85.0900       70.1               2      0.081866\n",
       "25  USC00095394   32.0306   -84.7753      147.8               1      0.072453\n",
       "17  USC00097087   32.0467   -84.3711      152.4               1     29.354308\n",
       "10  USC00097201   32.0547   -84.5239      123.4               2      0.068535\n",
       "26  USC00014080   32.2464   -85.4142      122.5               1      0.054176\n",
       "22  USC00095979   32.2903   -84.0314       99.7               2      0.060511\n",
       "23  USC00095550   32.4567   -83.9400       54.9               1      0.039655\n",
       "29  US1GATY0002   32.4583   -84.2237      125.3               1     24.726931\n",
       "2   USW00093842   32.5161   -84.9422      119.5               7      7.605402\n",
       "36  USC00092159   32.5181   -84.9378      132.6               2      9.894203\n",
       "1   USC00093544   32.5667   -83.8667      149.0               3    -11.301572\n",
       "24  USC00010430   32.6000   -85.5000      198.7               5      0.060482\n",
       "21  USC00096148   32.6089   -85.0756      152.7               1      0.159197\n",
       "28  USC00099124   32.6094   -83.6164      128.0               1     29.354308\n",
       "30  USW00013860   32.6333   -83.6000       92.0               1      0.050229\n",
       "9   USC00091425   32.6525   -84.1858      135.9               2     -5.516186\n",
       "34  USC00016129   32.6592   -85.4492      195.1               1     10.066419\n",
       "12  USW00003813   32.6847   -83.6528      104.5               8     14.895699\n",
       "6   USC00098535   32.6875   -84.5197      195.1               5      0.030596\n",
       "37  USC00095447   32.8333   -83.6333      114.0               3      0.062697\n",
       "18  USC00099291   32.8694   -85.1892      175.3               3      0.070402\n",
       "27  USC00098661   32.9028   -84.3367      230.1               2     -5.554528\n",
       "35  USC00014502   32.9069   -85.4336      225.6               4     -4.970560\n",
       "19  USC00098657   32.9614   -84.2300      240.5               1    -11.268413\n",
       "13  USC00099506   32.9708   -84.6103      222.5               2     19.767497\n",
       "16  USC00093506   33.0161   -83.9417      195.1               4    -48.267391\n",
       "5   USC00093915   33.0286   -84.7350      292.6               3      0.056282\n",
       "4   USC00094949   33.0536   -85.0317      222.5               3      0.120405\n",
       "14  USC00092198   33.1000   -84.4333      253.0               3     -6.600403\n",
       "8   USC00094728   33.1139   -83.7881      137.2               1      9.687957\n",
       "33  USC00017025   33.1581   -85.2911      228.6               7      0.016633\n",
       "20  USC00093936   33.2500   -84.2667      299.0               3     -7.554982\n",
       "7   USC00093271   33.2631   -84.2842      284.7               9     -0.833947\n",
       "15  USC00093570   33.2758   -85.0992      240.8               2      0.071723\n",
       "3   USC00093567   33.2833   -85.1000      203.9               1      0.067512"
      ]
     },
     "execution_count": 25,
     "metadata": {},
     "output_type": "execute_result"
    }
   ],
   "source": [
    "df2=df1.groupby(['station','latitude','longitude','elevation']).agg({\"station\": \"count\", feature: \"mean\"})\n",
    "print df2.count()\n",
    "pdf=df2.toPandas()\n",
    "#pdf.sort_values(by=['station'],inplace=True)\n",
    "#pdf.head(2)\n",
    "pdf.sort_values(by=['latitude'],inplace=True)\n",
    "pdf.head(38)"
   ]
  },
  {
   "cell_type": "code",
   "execution_count": 26,
   "metadata": {
    "run_control": {
     "frozen": false,
     "read_only": false
    }
   },
   "outputs": [
    {
     "data": {
      "text/plain": [
       "u'#800000'"
      ]
     },
     "execution_count": 26,
     "metadata": {},
     "output_type": "execute_result"
    }
   ],
   "source": [
    "#define a mapping from the range of the value to hex colors.\n",
    "from matplotlib.colors import rgb2hex\n",
    "_avg='avg(%s)'%feature\n",
    "_min=pdf[_avg].min()\n",
    "_max=pdf[_avg].max()\n",
    "_min,_max\n",
    "\n",
    "import pylab as plt\n",
    "cmap=plt.get_cmap('jet')\n",
    "def get_color(val):\n",
    "    x=(val-_min)/(_max-_min)\n",
    "    return(rgb2hex(cmap(x)[:3]))\n",
    "\n",
    "get_color(1000.)"
   ]
  },
  {
   "cell_type": "markdown",
   "metadata": {
    "run_control": {
     "frozen": false,
     "read_only": false
    }
   },
   "source": [
    "## Map"
   ]
  },
  {
   "cell_type": "code",
   "execution_count": 27,
   "metadata": {
    "collapsed": true,
    "run_control": {
     "frozen": false,
     "read_only": false
    }
   },
   "outputs": [],
   "source": [
    "min_lat,max_lat,min_long,max_long = box = (31.7672, 33.2833, -85.50, -83.6000)\n"
   ]
  },
  {
   "cell_type": "code",
   "execution_count": 28,
   "metadata": {
    "run_control": {
     "frozen": false,
     "read_only": false
    }
   },
   "outputs": [
    {
     "name": "stderr",
     "output_type": "stream",
     "text": [
      "Widget Javascript not detected.  It may not be installed or enabled properly.\n"
     ]
    },
    {
     "data": {
      "application/vnd.jupyter.widget-view+json": {
       "model_id": "2e19e42ab5194351b322dc428ce8b7f6"
      }
     },
     "metadata": {},
     "output_type": "display_data"
    }
   ],
   "source": [
    "center = [(min_lat+max_lat)/2, (min_long+max_long)/2]\n",
    "zoom = 9\n",
    "\n",
    "m = Map(default_tiles=TileLayer(opacity=1.0), center=center, zoom=zoom)\n",
    "\n",
    "r = Rectangle(bounds=[[min_lat,min_long],[max_lat,max_long]], weight=5, fill_opacity=0.0)\n",
    "m += r\n",
    "\n",
    "lat_margin=(max_lat-min_lat)/4\n",
    "long_margin=(max_long-min_long)/4\n",
    "circles = []\n",
    "for index,row in pdf.iterrows():\n",
    "    _lat=row['latitude']\n",
    "    _long=row['longitude']\n",
    "    _count=row['count(station)']\n",
    "    _coef=row[_avg]\n",
    "    # taking sqrt of count so that the  area of the circle corresponds to the count\n",
    "    c = Circle(location=(_lat,_long), radius=int(1000*np.sqrt(_count+0.0)), weight=1,\n",
    "            color='#F00', opacity=0.8, fill_opacity=0.4,\n",
    "            fill_color=get_color(_coef))\n",
    "    circles.append(c)\n",
    "    m.add_layer(c)\n",
    "m    "
   ]
  },
  {
   "cell_type": "markdown",
   "metadata": {
    "run_control": {
     "frozen": false,
     "read_only": false
    }
   },
   "source": [
    "### excercises:\n",
    "* Add a legend that relates the colors to values.\n",
    "* Leaflet supports a variety of maps. See if you can get a topographical map as the background."
   ]
  },
  {
   "cell_type": "code",
   "execution_count": 29,
   "metadata": {
    "run_control": {
     "frozen": false,
     "read_only": false
    }
   },
   "outputs": [
    {
     "data": {
      "image/png": "[encoded data removed]",
      "text/plain": [
       "<matplotlib.figure.Figure at 0x111cb6510>"
      ]
     },
     "metadata": {},
     "output_type": "display_data"
    }
   ],
   "source": [
    "%matplotlib inline\n",
    "pdf.plot.scatter(x='elevation',y='avg(coeff_3)');"
   ]
  },
  {
   "cell_type": "code",
   "execution_count": null,
   "metadata": {
    "collapsed": true,
    "run_control": {
     "frozen": false,
     "read_only": false
    }
   },
   "outputs": [],
   "source": []
  },
  {
   "cell_type": "code",
   "execution_count": null,
   "metadata": {
    "collapsed": true
   },
   "outputs": [],
   "source": [
    "RDD1=sc.parallelize([\"spark  basics\", \"spark big  data analysis\", \"spring\"]) \n",
    "RDD2=sc.parallelize([\"spark using pyspark\", \"big data\"])\n",
    " \n",
    "RDD1.subtract(RDD2).collect()"
   ]
  },
  {
   "cell_type": "code",
   "execution_count": null,
   "metadata": {
    "collapsed": true
   },
   "outputs": [],
   "source": []
  }
 ],
 "metadata": {
  "anaconda-cloud": {},
  "hide_input": false,
  "kernelspec": {
   "display_name": "Python [default]",
   "language": "python",
   "name": "python2"
  },
  "language_info": {
   "codemirror_mode": {
    "name": "ipython",
    "version": 2
   },
   "file_extension": ".py",
   "mimetype": "text/x-python",
   "name": "python",
   "nbconvert_exporter": "python",
   "pygments_lexer": "ipython2",
   "version": "2.7.12"
  },
  "toc": {
   "colors": {
    "hover_highlight": "#DAA520",
    "running_highlight": "#FF0000",
    "selected_highlight": "#FFD700"
   },
   "moveMenuLeft": true,
   "nav_menu": {
    "height": "174px",
    "width": "252px"
   },
   "navigate_menu": true,
   "number_sections": true,
   "sideBar": true,
   "threshold": 4,
   "toc_cell": false,
   "toc_section_display": "block",
   "toc_window_display": false
  }
 },
 "nbformat": 4,
 "nbformat_minor": 1
}
