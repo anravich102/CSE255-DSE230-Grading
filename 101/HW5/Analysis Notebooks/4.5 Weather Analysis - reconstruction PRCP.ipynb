{
 "cells": [
  {
   "cell_type": "code",
   "execution_count": 1,
   "metadata": {
    "collapsed": true,
    "run_control": {
     "frozen": false,
     "read_only": false
    }
   },
   "outputs": [],
   "source": [
    "#setup\n",
    "data_dir='../../Data/Weather'\n",
    "file_index='SBBBBBSB'\n",
    "m='PRCP'"
   ]
  },
  {
   "cell_type": "markdown",
   "metadata": {
    "run_control": {
     "frozen": false,
     "read_only": false
    },
    "slideshow": {
     "slide_type": "slide"
    },
    "variables": {
     "m": "PRCP"
    }
   },
   "source": [
    "# Reconstruction using top eigen-vectors\n",
    "For measurement = {{m}}"
   ]
  },
  {
   "cell_type": "markdown",
   "metadata": {
    "run_control": {
     "frozen": false,
     "read_only": false
    },
    "slideshow": {
     "slide_type": "skip"
    }
   },
   "source": [
    "## Load the required libraries"
   ]
  },
  {
   "cell_type": "code",
   "execution_count": 2,
   "metadata": {
    "collapsed": true,
    "run_control": {
     "frozen": false,
     "read_only": false
    },
    "slideshow": {
     "slide_type": "skip"
    }
   },
   "outputs": [],
   "source": [
    "# Enable automiatic reload of libraries\n",
    "%load_ext autoreload\n",
    "#%autoreload 2 # means that all modules are reloaded before every command"
   ]
  },
  {
   "cell_type": "code",
   "execution_count": 3,
   "metadata": {
    "collapsed": false,
    "run_control": {
     "frozen": false,
     "read_only": false
    },
    "slideshow": {
     "slide_type": "skip"
    }
   },
   "outputs": [
    {
     "name": "stdout",
     "output_type": "stream",
     "text": [
      "Populating the interactive namespace from numpy and matplotlib\n",
      "    pandas as    pd \tversion=0.19.2 \trequired version>=0.19.2\n",
      "     numpy as    np \tversion=1.11.3 \trequired version>=1.12.0 ******* Update Version ******\n",
      "   sklearn as    sk \tversion=0.18.1 \trequired version>=0.18.1\n",
      "    urllib as urllib \tversion=1.17 \trequired version>=1.17\n",
      "   pyspark as pyspark \tversion=2.1.0+hadoop2.7 \trequired version>=2.1.0\n",
      "ipywidgets as ipywidgets \tversion=5.2.2 \trequired version>=6.0.0 ******* Update Version ******\n"
     ]
    }
   ],
   "source": [
    "%pylab inline\n",
    "import numpy as np\n",
    "\n",
    "import findspark\n",
    "findspark.init()\n",
    "\n",
    "import sys\n",
    "sys.path.append('./lib')\n",
    "\n",
    "from numpy_pack import packArray,unpackArray\n",
    "\n",
    "from Eigen_decomp import Eigen_decomp\n",
    "from YearPlotter import YearPlotter\n",
    "from recon_plot import recon_plot\n",
    "\n",
    "from import_modules import import_modules,modules\n",
    "import_modules(modules)\n",
    "\n",
    "from ipywidgets import interactive,widgets"
   ]
  },
  {
   "cell_type": "code",
   "execution_count": 4,
   "metadata": {
    "collapsed": true,
    "run_control": {
     "frozen": false,
     "read_only": false
    },
    "slideshow": {
     "slide_type": "skip"
    }
   },
   "outputs": [],
   "source": [
    "from pyspark import SparkContext\n",
    "#sc.stop()\n",
    "\n",
    "sc = SparkContext(master=\"local[3]\",pyFiles=['lib/numpy_pack.py','lib/spark_PCA.py','lib/computeStats.py','lib/recon_plot.py','lib/Eigen_decomp.py'])\n",
    "\n",
    "from pyspark import SparkContext\n",
    "from pyspark.sql import *\n",
    "sqlContext = SQLContext(sc)\n",
    "\n",
    "\n",
    "\n"
   ]
  },
  {
   "cell_type": "markdown",
   "metadata": {
    "run_control": {
     "frozen": false,
     "read_only": false
    },
    "slideshow": {
     "slide_type": "slide"
    }
   },
   "source": [
    "## Read Statistics File"
   ]
  },
  {
   "cell_type": "code",
   "execution_count": 5,
   "metadata": {
    "collapsed": true,
    "run_control": {
     "frozen": false,
     "read_only": false
    },
    "slideshow": {
     "slide_type": "fragment"
    }
   },
   "outputs": [],
   "source": [
    "data_dir='../../Data/Weather'\n",
    "file_index='SBBBBBSB'"
   ]
  },
  {
   "cell_type": "code",
   "execution_count": 7,
   "metadata": {
    "collapsed": false,
    "run_control": {
     "frozen": false,
     "read_only": false
    },
    "slideshow": {
     "slide_type": "subslide"
    }
   },
   "outputs": [
    {
     "name": "stdout",
     "output_type": "stream",
     "text": [
      "keys from STAT= ['TMIN', 'TOBS', 'TMAX', 'SNOW', 'SNWD', 'PRCP']\n"
     ]
    }
   ],
   "source": [
    "from pickle import load\n",
    "\n",
    "#read statistics\n",
    "filename=data_dir+'/STAT_%s.pickle'%file_index\n",
    "STAT,STAT_Descriptions = load(open(filename,'rb'))\n",
    "measurements=STAT.keys()\n",
    "print 'keys from STAT=',measurements"
   ]
  },
  {
   "cell_type": "markdown",
   "metadata": {
    "run_control": {
     "frozen": false,
     "read_only": false
    },
    "slideshow": {
     "slide_type": "slide"
    }
   },
   "source": [
    "## Read data file into a spark DataFrame\n",
    "We focus on the snow-depth records, because the eigen-vectors for them make sense."
   ]
  },
  {
   "cell_type": "code",
   "execution_count": 8,
   "metadata": {
    "collapsed": false,
    "run_control": {
     "frozen": false,
     "read_only": false
    },
    "scrolled": true,
    "slideshow": {
     "slide_type": "subslide"
    }
   },
   "outputs": [
    {
     "name": "stdout",
     "output_type": "stream",
     "text": [
      "+---------+--------+---------+-----------+-----------+------+--------------------+------+--------+\n",
      "|elevation|latitude|longitude|measurement|    station|undefs|              vector|  year|   label|\n",
      "+---------+--------+---------+-----------+-----------+------+--------------------+------+--------+\n",
      "|    482.0|    49.3|   -99.45|       PRCP|CA005010191|     2|[00 00 00 00 00 0...|1985.0|SBBBBBSB|\n",
      "|    482.0|    49.3|   -99.45|       PRCP|CA005010191|     0|[00 40 80 4F 00 0...|1986.0|SBBBBBSB|\n",
      "|    482.0|    49.3|   -99.45|       PRCP|CA005010191|     2|[00 00 00 00 00 0...|1987.0|SBBBBBSB|\n",
      "|    482.0|    49.3|   -99.45|       PRCP|CA005010191|     3|[00 46 00 44 00 0...|1988.0|SBBBBBSB|\n",
      "|    482.0|    49.3|   -99.45|       PRCP|CA005010191|     4|[00 00 80 4F 00 0...|1989.0|SBBBBBSB|\n",
      "+---------+--------+---------+-----------+-----------+------+--------------------+------+--------+\n",
      "only showing top 5 rows\n",
      "\n"
     ]
    }
   ],
   "source": [
    "#read data\n",
    "filename=data_dir+'/US_Weather_%s.parquet'%file_index\n",
    "df_in=sqlContext.read.parquet(filename)\n",
    "#filter in \n",
    "df=df_in.filter(df_in.measurement==m)\n",
    "df.show(5)"
   ]
  },
  {
   "cell_type": "markdown",
   "metadata": {
    "run_control": {
     "frozen": false,
     "read_only": false
    },
    "slideshow": {
     "slide_type": "subslide"
    }
   },
   "source": [
    "### Create a matrix with all of the series"
   ]
  },
  {
   "cell_type": "code",
   "execution_count": 9,
   "metadata": {
    "collapsed": false,
    "run_control": {
     "frozen": false,
     "read_only": false
    }
   },
   "outputs": [
    {
     "data": {
      "text/plain": [
       "(3861, 365)"
      ]
     },
     "execution_count": 9,
     "metadata": {},
     "output_type": "execute_result"
    }
   ],
   "source": [
    "rows=df.rdd.map(lambda row:unpackArray(row['vector'],np.float16)).collect()\n",
    "\n",
    "T=np.vstack(rows)\n",
    "shape(T)"
   ]
  },
  {
   "cell_type": "markdown",
   "metadata": {
    "run_control": {
     "frozen": false,
     "read_only": false
    },
    "slideshow": {
     "slide_type": "subslide"
    }
   },
   "source": [
    "### Plot two time series\n",
    "`SNWD` stands for `snow-depth`, which explains why it is zero during the summer"
   ]
  },
  {
   "cell_type": "code",
   "execution_count": 10,
   "metadata": {
    "collapsed": false,
    "run_control": {
     "frozen": false,
     "read_only": false
    },
    "slideshow": {
     "slide_type": "fragment"
    }
   },
   "outputs": [
    {
     "data": {
      "image/png": "iVBORw0KGgoAAAANSUhEUgAAAXoAAAD6CAYAAACvZ4z8AAAABHNCSVQICAgIfAhkiAAAAAlwSFlz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\n",
      "text/plain": [
       "<matplotlib.figure.Figure at 0x7f13d82a4750>"
      ]
     },
     "metadata": {},
     "output_type": "display_data"
    }
   ],
   "source": [
    "fig, ax = plt.subplots(figsize=(6,4));\n",
    "YP=YearPlotter()\n",
    "YP.plot(T[16:18].transpose(),fig,ax,title=m)"
   ]
  },
  {
   "cell_type": "markdown",
   "metadata": {
    "run_control": {
     "frozen": false,
     "read_only": false
    },
    "slideshow": {
     "slide_type": "slide"
    }
   },
   "source": [
    "### Plot Reconstructions\n",
    "\n",
    "Construct approximations of a time series using the mean and the $k$ top eigen-vectors\n",
    "First, we plot the mean and the top $k$ eigenvectors"
   ]
  },
  {
   "cell_type": "code",
   "execution_count": 11,
   "metadata": {
    "collapsed": false,
    "run_control": {
     "frozen": false,
     "read_only": false
    },
    "scrolled": false,
    "slideshow": {
     "slide_type": "subslide"
    }
   },
   "outputs": [
    {
     "data": {
      "image/png": "iVBORw0KGgoAAAANSUhEUgAAAl8AAAFcCAYAAAD2w9suAAAABHNCSVQICAgIfAhkiAAAAAlwSFlz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\nb2NhOV+t1X5iqRxDYynKPE7KPNOHHU8OGp3r5+t8WWxZVYPb