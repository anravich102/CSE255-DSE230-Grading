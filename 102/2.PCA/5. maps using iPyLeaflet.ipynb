{
 "cells": [
  {
   "cell_type": "markdown",
   "metadata": {
    "run_control": {
     "frozen": false,
     "read_only": false
    }
   },
   "source": [
    "## iPyLeaflet\n",
    "[ipyleaflet](https://github.com/ellisonbg/ipyleaflet) is a bridge between jupyter notebooks and the [leaflet](http://leafletjs.com/)  javascript library for drawing maps.\n",
    "\n",
    "ipyleaflet comes with a few examples notebooks (this notebook was derived from one) but very little documentation,\n",
    "for more documentation read the [Leaflet IPA](http://leafletjs.com/reference.html)\n",
    "\n",
    "For installation directions, see the README on [ipyleaflet](https://github.com/ellisonbg/ipyleaflet)"
   ]
  },
  {
   "cell_type": "code",
   "execution_count": 1,
   "metadata": {
    "collapsed": true,
    "run_control": {
     "frozen": false,
     "read_only": false
    }
   },
   "outputs": [],
   "source": [
    "from ipyleaflet import (\n",
    "    Map,\n",
    "    Marker,\n",
    "    TileLayer, ImageOverlay,\n",
    "    Polyline, Polygon, Rectangle, Circle, CircleMarker,\n",
    "    GeoJSON,\n",
    "    DrawControl\n",
    ")"
   ]
  },
  {
   "cell_type": "markdown",
   "metadata": {
    "run_control": {
     "frozen": false,
     "read_only": false
    }
   },
   "source": [
    "## Visualizing the distribution of the observations\n",
    "\n",
    "## Load the required libraries"
   ]
  },
  {
   "cell_type": "code",
   "execution_count": 2,
   "metadata": {
    "collapsed": true,
    "run_control": {
     "frozen": false,
     "read_only": false
    }
   },
   "outputs": [],
   "source": [
    "import pandas as pd\n",
    "import numpy as np\n",
    "import sklearn as sk\n",
    "import urllib\n",
    "import math"
   ]
  },
  {
   "cell_type": "code",
   "execution_count": 3,
   "metadata": {
    "collapsed": true,
    "run_control": {
     "frozen": false,
     "read_only": false
    }
   },
   "outputs": [],
   "source": [
    "import findspark\n",
    "findspark.init()\n",
    "\n",
    "from pyspark import SparkContext\n",
    "#sc.stop()\n",
    "sc = SparkContext(master=\"local[3]\",pyFiles=['lib/numpy_pack.py','lib/computeStats.py'])\n",
    "\n",
    "from pyspark import SparkContext\n",
    "from pyspark.sql import *\n",
    "sqlContext = SQLContext(sc)"
   ]
  },
  {
   "cell_type": "code",
   "execution_count": 4,
   "metadata": {
    "collapsed": true,
    "run_control": {
     "frozen": false,
     "read_only": false
    }
   },
   "outputs": [],
   "source": [
    "import sys\n",
    "sys.path.append('./lib')\n",
    "\n",
    "import numpy as np\n",
    "from numpy_pack import packArray,unpackArray\n",
    "from computeStats import computeOverAllDist, STAT_Descriptions"
   ]
  },
  {
   "cell_type": "code",
   "execution_count": 5,
   "metadata": {
    "run_control": {
     "frozen": false,
     "read_only": false
    }
   },
   "outputs": [
    {
     "name": "stdout",
     "output_type": "stream",
     "text": [
      "('keys from STAT=', ['TMIN', 'TOBS', 'TMAX', 'SNOW', 'SNWD', 'PRCP'])\n",
      "1473\n",
      "+------------------+------------------+-------------------+---------+--------+--------+---------+-----------+------------------+------------------+------------------+-------------------+-----------+-----------+------+--------------------+------+\n",
      "|           coeff_1|           coeff_2|            coeff_3|elevation|   label|latitude|longitude|measurement|             res_1|             res_2|             res_3|           res_mean|    station|  total_var|undefs|              vector|  year|\n",
      "+------------------+------------------+-------------------+---------+--------+--------+---------+-----------+------------------+------------------+------------------+-------------------+-----------+-----------+------+--------------------+------+\n",
      "|-868.7380179718102|-78.69031007408877|-195.41058400871646|     54.9|BSBSSSSS| 31.5339| -84.1489|       TOBS|0.5386753430129746|0.5268297410987876|0.5177698319334042| 0.1367539942549411|USC00090140|  9393333.0|    10|[80 4D A0 53 A0 5...|1994.0|\n",
      "| -775.356752843772|-39.87231458249827| -63.22221211478987|    115.8|BSBSSSSS| 31.4461| -83.4767|       TOBS|0.5220345836498285|0.5207706152368781|0.5175927703020371|0.12232972186059964|USC00098703|1.0281931E7|     0|[50 57 20 D0 00 0...|1945.0|\n",
      "+------------------+------------------+-------------------+---------+--------+--------+---------+-----------+------------------+------------------+------------------+-------------------+-----------+-----------+------+--------------------+------+\n",
      "only showing top 2 rows\n",
      "\n"
     ]
    }
   ],
   "source": [
    "### Read the data frame from pickle file\n",
    "\n",
    "data_dir='../../Data/Weather'\n",
    "file_index='BSBSSSSS'\n",
    "meas='TOBS'\n",
    "\n",
    "from pickle import load\n",
    "\n",
    "#read statistics\n",
    "filename=data_dir+'/STAT_%s.pickle'%file_index\n",
    "STAT,STAT_Descriptions = load(open(filename,'rb'))\n",
    "print('keys from STAT=',STAT.keys())\n",
    "\n",
    "#!ls -ld $data_dir/*.parquet\n",
    "\n",
    "#read data\n",
    "filename=data_dir+'/decon_%s_%s.parquet'%(file_index,meas)\n",
    "\n",
    "df=sqlContext.read.parquet(filename)\n",
    "print(df.count())\n",
    "df.show(2)"
   ]
  },
  {
   "cell_type": "code",
   "execution_count": 6,
   "metadata": {
    "run_control": {
     "frozen": false,
     "read_only": false
    },
    "scrolled": true
   },
   "outputs": [
    {
     "name": "stdout",
     "output_type": "stream",
     "text": [
      "SELECT station, latitude,longitude,elevation,coeff_1,coeff_2,coeff_3 FROM weather\n",
      "+-----------+--------+---------+---------+------------------+-------------------+-------------------+\n",
      "|    station|latitude|longitude|elevation|           coeff_1|            coeff_2|            coeff_3|\n",
      "+-----------+--------+---------+---------+------------------+-------------------+-------------------+\n",
      "|USC00090140| 31.5339| -84.1489|     54.9|-868.7380179718102| -78.69031007408877|-195.41058400871646|\n",
      "|USC00098703| 31.4461| -83.4767|    115.8| -775.356752843772| -39.87231458249827| -63.22221211478987|\n",
      "|USC00096087| 31.1769| -83.7492|    103.6| 772.3457150926299|-113.41920268503587|  87.52778502109916|\n",
      "|USC00096087| 31.1769| -83.7492|    103.6| 793.2314050286112|-117.32663636156519|  50.07181029448829|\n",
      "|USC00013761| 31.3625| -85.3397|    112.8|-696.6960516591587|-230.18523570538315| -249.4818385656602|\n",
      "|USC00093578|  31.615| -85.0494|     64.0|-845.6739032997987|  67.24721417081354| -76.99052771547179|\n",
      "|USC00097276| 30.7836| -83.5692|     56.4| 717.5459612227579|  96.80398671865137|  61.50489335794752|\n",
      "|USC00090979| 31.2239| -84.5553|     81.7|-931.7818246399264| 110.06655003723257|-45.392685112070986|\n",
      "|USC00093516|    31.6|   -85.05|    103.9|  633.490103375748|  322.5040233924242|  54.76510817211497|\n",
      "|USC00013761| 31.3625| -85.3397|    112.8|-745.0839409652006| -91.28495459853437|-138.39063354096658|\n",
      "|USC00083230| 30.4333| -85.4167|     42.7| 621.5078265707118|  17.16340501377085|-185.41018736141208|\n",
      "|USC00097276| 30.7836| -83.5692|     56.4|-780.2398493603554| -69.35781491449738| -146.9802994311596|\n",
      "|USC00097165| 31.5167| -83.7833|    111.3|-830.8676822424329| 112.25204318341102|  113.8863741417591|\n",
      "|USC00091463| 30.8697| -84.2175|     61.3| 715.6094998489723|  94.08070746660516| 266.68899162836766|\n",
      "|USC00091500| 31.1903| -84.2036|     53.3|-793.8703491211049|   8.89215905624232|  45.16938377527608|\n",
      "|USC00096087| 31.1769| -83.7492|    103.6| 657.6073109228927|-114.75459671574686| 234.96483328108326|\n",
      "|USC00085879| 30.4922| -83.7833|     29.9|-829.0716665653758| -127.3537686028657|   93.9165456701603|\n",
      "|USC00090406| 31.7003| -83.6231|    132.6|-820.3204859467417|-241.26875935648957| 107.71247006251095|\n",
      "|USC00090406| 31.7003| -83.6231|    132.6|-646.5160333030653|-134.57340359923552|  87.91651283649324|\n",
      "|USC00090406| 31.7003| -83.6231|    132.6|-762.3105182116656|-219.74126690301196| 12.626208682876394|\n",
      "+-----------+--------+---------+---------+------------------+-------------------+-------------------+\n",
      "only showing top 20 rows\n",
      "\n"
     ]
    }
   ],
   "source": [
    "#extract longitude and latitude for each station\n",
    "feature1='coeff_1'\n",
    "feature2='coeff_2'\n",
    "feature3='coeff_3'\n",
    "sqlContext.registerDataFrameAsTable(df,'weather')\n",
    "Query=\"SELECT station, latitude,longitude,elevation,\"+feature1+\",\"+feature2+\",\"+feature3+\" FROM weather\"\n",
    "print(Query)\n",
    "df1 = sqlContext.sql(Query)\n",
    "df1.show()"
   ]
  },
  {
   "cell_type": "code",
   "execution_count": 7,
   "metadata": {
    "run_control": {
     "frozen": false,
     "read_only": false
    }
   },
   "outputs": [
    {
     "data": {
      "text/html": [
       "<div>\n",
       "<table border=\"1\" class=\"dataframe\">\n",
       "  <thead>\n",
       "    <tr style=\"text-align: right;\">\n",
       "      <th></th>\n",
       "      <th>station</th>\n",
       "      <th>latitude</th>\n",
       "      <th>longitude</th>\n",
       "      <th>elevation</th>\n",
       "      <th>count(station)</th>\n",
       "      <th>avg(coeff_1)</th>\n",
       "      <th>avg(coeff_2)</th>\n",
       "      <th>avg(coeff_3)</th>\n",
       "    </tr>\n",
       "  </thead>\n",
       "  <tbody>\n",
       "    <tr>\n",
       "      <th>26</th>\n",
       "      <td>USC00013761</td>\n",
       "      <td>31.3625</td>\n",
       "      <td>-85.3397</td>\n",
       "      <td>112.8</td>\n",
       "      <td>54</td>\n",
       "      <td>-750.947021</td>\n",
       "      <td>-45.871844</td>\n",
       "      <td>35.232521</td>\n",
       "    </tr>\n",
       "    <tr>\n",
       "      <th>6</th>\n",
       "      <td>USC00014895</td>\n",
       "      <td>31.1000</td>\n",
       "      <td>-85.1667</td>\n",
       "      <td>-999.9</td>\n",
       "      <td>5</td>\n",
       "      <td>627.325120</td>\n",
       "      <td>66.582424</td>\n",
       "      <td>-82.708658</td>\n",
       "    </tr>\n",
       "    <tr>\n",
       "      <th>35</th>\n",
       "      <td>USC00080025</td>\n",
       "      <td>29.8833</td>\n",
       "      <td>-83.6333</td>\n",
       "      <td>-999.9</td>\n",
       "      <td>1</td>\n",
       "      <td>363.486042</td>\n",
       "      <td>415.894004</td>\n",
       "      <td>311.106765</td>\n",
       "    </tr>\n",
       "    <tr>\n",
       "      <th>25</th>\n",
       "      <td>USC00080804</td>\n",
       "      <td>30.4500</td>\n",
       "      <td>-85.0500</td>\n",
       "      <td>18.3</td>\n",
       "      <td>57</td>\n",
       "      <td>-502.835386</td>\n",
       "      <td>11.772710</td>\n",
       "      <td>22.922056</td>\n",
       "    </tr>\n",
       "    <tr>\n",
       "      <th>36</th>\n",
       "      <td>USC00081020</td>\n",
       "      <td>30.4181</td>\n",
       "      <td>-84.9861</td>\n",
       "      <td>48.8</td>\n",
       "      <td>3</td>\n",
       "      <td>254.745078</td>\n",
       "      <td>-13.972476</td>\n",
       "      <td>-89.442343</td>\n",
       "    </tr>\n",
       "    <tr>\n",
       "      <th>4</th>\n",
       "      <td>USC00081022</td>\n",
       "      <td>30.3794</td>\n",
       "      <td>-84.9789</td>\n",
       "      <td>43.9</td>\n",
       "      <td>10</td>\n",
       "      <td>-916.016865</td>\n",
       "      <td>29.616102</td>\n",
       "      <td>23.192972</td>\n",
       "    </tr>\n",
       "    <tr>\n",
       "      <th>16</th>\n",
       "      <td>USC00081356</td>\n",
       "      <td>29.8667</td>\n",
       "      <td>-84.6667</td>\n",
       "      <td>3.0</td>\n",
       "      <td>62</td>\n",
       "      <td>293.410209</td>\n",
       "      <td>10.398220</td>\n",
       "      <td>-23.207485</td>\n",
       "    </tr>\n",
       "    <tr>\n",
       "      <th>2</th>\n",
       "      <td>USC00081544</td>\n",
       "      <td>30.7836</td>\n",
       "      <td>-85.4847</td>\n",
       "      <td>39.6</td>\n",
       "      <td>64</td>\n",
       "      <td>-145.521310</td>\n",
       "      <td>31.708781</td>\n",
       "      <td>-44.889556</td>\n",
       "    </tr>\n",
       "    <tr>\n",
       "      <th>19</th>\n",
       "      <td>USC00081601</td>\n",
       "      <td>30.4647</td>\n",
       "      <td>-85.1992</td>\n",
       "      <td>38.1</td>\n",
       "      <td>4</td>\n",
       "      <td>-910.743195</td>\n",
       "      <td>89.437733</td>\n",
       "      <td>-44.395596</td>\n",
       "    </tr>\n",
       "    <tr>\n",
       "      <th>24</th>\n",
       "      <td>USC00081775</td>\n",
       "      <td>30.6000</td>\n",
       "      <td>-85.4000</td>\n",
       "      <td>64.0</td>\n",
       "      <td>24</td>\n",
       "      <td>579.323636</td>\n",
       "      <td>82.918815</td>\n",
       "      <td>-36.964019</td>\n",
       "    </tr>\n",
       "    <tr>\n",
       "      <th>43</th>\n",
       "      <td>USC00083230</td>\n",
       "      <td>30.4333</td>\n",
       "      <td>-85.4167</td>\n",
       "      <td>42.7</td>\n",
       "      <td>26</td>\n",
       "      <td>457.868936</td>\n",
       "      <td>-34.517574</td>\n",
       "      <td>-80.741005</td>\n",
       "    </tr>\n",
       "    <tr>\n",
       "      <th>39</th>\n",
       "      <td>USC00084892</td>\n",
       "      <td>30.4167</td>\n",
       "      <td>-83.9167</td>\n",
       "      <td>64.0</td>\n",
       "      <td>5</td>\n",
       "      <td>419.205220</td>\n",
       "      <td>152.557718</td>\n",
       "      <td>-152.256082</td>\n",
       "    </tr>\n",
       "    <tr>\n",
       "      <th>22</th>\n",
       "      <td>USC00085372</td>\n",
       "      <td>30.7667</td>\n",
       "      <td>-85.2667</td>\n",
       "      <td>52.1</td>\n",
       "      <td>54</td>\n",
       "      <td>371.140820</td>\n",
       "      <td>-6.212804</td>\n",
       "      <td>-30.465990</td>\n",
       "    </tr>\n",
       "    <tr>\n",
       "      <th>5</th>\n",
       "      <td>USC00085879</td>\n",
       "      <td>30.4922</td>\n",
       "      <td>-83.7833</td>\n",
       "      <td>29.9</td>\n",
       "      <td>71</td>\n",
       "      <td>-439.414314</td>\n",
       "      <td>45.616172</td>\n",
       "      <td>-54.953320</td>\n",
       "    </tr>\n",
       "    <tr>\n",
       "      <th>48</th>\n",
       "      <td>USC00085880</td>\n",
       "      <td>30.4406</td>\n",
       "      <td>-83.9858</td>\n",
       "      <td>66.8</td>\n",
       "      <td>2</td>\n",
       "      <td>-704.651253</td>\n",
       "      <td>64.584831</td>\n",
       "      <td>-186.727842</td>\n",
       "    </tr>\n",
       "    <tr>\n",
       "      <th>44</th>\n",
       "      <td>USC00085990</td>\n",
       "      <td>30.6667</td>\n",
       "      <td>-84.7000</td>\n",
       "      <td>92.0</td>\n",
       "      <td>44</td>\n",
       "      <td>290.781753</td>\n",
       "      <td>119.560556</td>\n",
       "      <td>-94.989742</td>\n",
       "    </tr>\n",
       "    <tr>\n",
       "      <th>46</th>\n",
       "      <td>USC00086828</td>\n",
       "      <td>29.9989</td>\n",
       "      <td>-84.4850</td>\n",
       "      <td>1.8</td>\n",
       "      <td>6</td>\n",
       "      <td>-746.589768</td>\n",
       "      <td>-41.836905</td>\n",
       "      <td>35.188413</td>\n",
       "    </tr>\n",
       "    <tr>\n",
       "      <th>18</th>\n",
       "      <td>USC00087025</td>\n",
       "      <td>30.0986</td>\n",
       "      <td>-83.5742</td>\n",
       "      <td>13.7</td>\n",
       "      <td>70</td>\n",
       "      <td>974.605225</td>\n",
       "      <td>-17.628327</td>\n",
       "      <td>-53.868410</td>\n",
       "    </tr>\n",
       "    <tr>\n",
       "      <th>7</th>\n",
       "      <td>USC00087424</td>\n",
       "      <td>30.5833</td>\n",
       "      <td>-84.5833</td>\n",
       "      <td>75.9</td>\n",
       "      <td>19</td>\n",
       "      <td>658.172460</td>\n",
       "      <td>18.417406</td>\n",
       "      <td>19.714007</td>\n",
       "    </tr>\n",
       "    <tr>\n",
       "      <th>10</th>\n",
       "      <td>USC00087429</td>\n",
       "      <td>30.5497</td>\n",
       "      <td>-84.5836</td>\n",
       "      <td>74.7</td>\n",
       "      <td>30</td>\n",
       "      <td>-557.336355</td>\n",
       "      <td>-9.010733</td>\n",
       "      <td>-56.611222</td>\n",
       "    </tr>\n",
       "    <tr>\n",
       "      <th>38</th>\n",
       "      <td>USC00087867</td>\n",
       "      <td>30.1000</td>\n",
       "      <td>-84.1667</td>\n",
       "      <td>3.0</td>\n",
       "      <td>35</td>\n",
       "      <td>428.807576</td>\n",
       "      <td>30.588022</td>\n",
       "      <td>18.398038</td>\n",
       "    </tr>\n",
       "    <tr>\n",
       "      <th>13</th>\n",
       "      <td>USC00087950</td>\n",
       "      <td>30.0667</td>\n",
       "      <td>-84.6000</td>\n",
       "      <td>11.9</td>\n",
       "      <td>13</td>\n",
       "      <td>669.136410</td>\n",
       "      <td>-17.424252</td>\n",
       "      <td>26.736436</td>\n",
       "    </tr>\n",
       "    <tr>\n",
       "      <th>32</th>\n",
       "      <td>USC00088094</td>\n",
       "      <td>30.2000</td>\n",
       "      <td>-83.6500</td>\n",
       "      <td>14.9</td>\n",
       "      <td>7</td>\n",
       "      <td>406.122974</td>\n",
       "      <td>232.977483</td>\n",
       "      <td>33.720336</td>\n",
       "    </tr>\n",
       "    <tr>\n",
       "      <th>23</th>\n",
       "      <td>USC00088290</td>\n",
       "      <td>30.2000</td>\n",
       "      <td>-84.6667</td>\n",
       "      <td>18.3</td>\n",
       "      <td>12</td>\n",
       "      <td>488.177249</td>\n",
       "      <td>-45.273822</td>\n",
       "      <td>-49.071385</td>\n",
       "    </tr>\n",
       "    <tr>\n",
       "      <th>0</th>\n",
       "      <td>USC00088754</td>\n",
       "      <td>30.4333</td>\n",
       "      <td>-84.2833</td>\n",
       "      <td>58.5</td>\n",
       "      <td>12</td>\n",
       "      <td>-129.371039</td>\n",
       "      <td>168.674160</td>\n",
       "      <td>-143.703459</td>\n",
       "    </tr>\n",
       "    <tr>\n",
       "      <th>9</th>\n",
       "      <td>USC00088756</td>\n",
       "      <td>30.3961</td>\n",
       "      <td>-84.3556</td>\n",
       "      <td>16.8</td>\n",
       "      <td>10</td>\n",
       "      <td>-947.577935</td>\n",
       "      <td>56.339014</td>\n",
       "      <td>-62.691056</td>\n",
       "    </tr>\n",
       "    <tr>\n",
       "      <th>37</th>\n",
       "      <td>USC00089566</td>\n",
       "      <td>30.1192</td>\n",
       "      <td>-85.2042</td>\n",
       "      <td>12.8</td>\n",
       "      <td>53</td>\n",
       "      <td>-459.166616</td>\n",
       "      <td>30.981042</td>\n",
       "      <td>-82.340556</td>\n",
       "    </tr>\n",
       "    <tr>\n",
       "      <th>40</th>\n",
       "      <td>USC00089795</td>\n",
       "      <td>30.7219</td>\n",
       "      <td>-84.8742</td>\n",
       "      <td>32.6</td>\n",
       "      <td>19</td>\n",
       "      <td>-676.210452</td>\n",
       "      <td>106.696890</td>\n",
       "      <td>-16.803108</td>\n",
       "    </tr>\n",
       "    <tr>\n",
       "      <th>45</th>\n",
       "      <td>USC00090140</td>\n",
       "      <td>31.5339</td>\n",
       "      <td>-84.1489</td>\n",
       "      <td>54.9</td>\n",
       "      <td>61</td>\n",
       "      <td>-761.765285</td>\n",
       "      <td>-6.625158</td>\n",
       "      <td>19.277043</td>\n",
       "    </tr>\n",
       "    <tr>\n",
       "      <th>42</th>\n",
       "      <td>USC00090406</td>\n",
       "      <td>31.7003</td>\n",
       "      <td>-83.6231</td>\n",
       "      <td>132.6</td>\n",
       "      <td>37</td>\n",
       "      <td>-608.907408</td>\n",
       "      <td>-37.427562</td>\n",
       "      <td>21.530437</td>\n",
       "    </tr>\n",
       "    <tr>\n",
       "      <th>49</th>\n",
       "      <td>USC00090581</td>\n",
       "      <td>30.9167</td>\n",
       "      <td>-84.5833</td>\n",
       "      <td>36.9</td>\n",
       "      <td>29</td>\n",
       "      <td>317.352743</td>\n",
       "      <td>58.158597</td>\n",
       "      <td>-1.322821</td>\n",
       "    </tr>\n",
       "    <tr>\n",
       "      <th>47</th>\n",
       "      <td>USC00090586</td>\n",
       "      <td>30.8228</td>\n",
       "      <td>-84.6175</td>\n",
       "      <td>57.9</td>\n",
       "      <td>21</td>\n",
       "      <td>-801.527812</td>\n",
       "      <td>-20.519272</td>\n",
       "      <td>-93.838724</td>\n",
       "    </tr>\n",
       "    <tr>\n",
       "      <th>30</th>\n",
       "      <td>USC00090979</td>\n",
       "      <td>31.2239</td>\n",
       "      <td>-84.5553</td>\n",
       "      <td>81.7</td>\n",
       "      <td>85</td>\n",
       "      <td>-329.307115</td>\n",
       "      <td>46.865613</td>\n",
       "      <td>2.276755</td>\n",
       "    </tr>\n",
       "    <tr>\n",
       "      <th>31</th>\n",
       "      <td>USC00091463</td>\n",
       "      <td>30.8697</td>\n",
       "      <td>-84.2175</td>\n",
       "      <td>61.3</td>\n",
       "      <td>40</td>\n",
       "      <td>336.112251</td>\n",
       "      <td>48.105212</td>\n",
       "      <td>-3.591924</td>\n",
       "    </tr>\n",
       "    <tr>\n",
       "      <th>21</th>\n",
       "      <td>USC00091500</td>\n",
       "      <td>31.1903</td>\n",
       "      <td>-84.2036</td>\n",
       "      <td>53.3</td>\n",
       "      <td>73</td>\n",
       "      <td>94.683037</td>\n",
       "      <td>-30.943927</td>\n",
       "      <td>30.770474</td>\n",
       "    </tr>\n",
       "    <tr>\n",
       "      <th>29</th>\n",
       "      <td>USC00092153</td>\n",
       "      <td>31.1681</td>\n",
       "      <td>-84.7664</td>\n",
       "      <td>46.6</td>\n",
       "      <td>31</td>\n",
       "      <td>227.818164</td>\n",
       "      <td>-60.966807</td>\n",
       "      <td>27.078629</td>\n",
       "    </tr>\n",
       "    <tr>\n",
       "      <th>41</th>\n",
       "      <td>USC00092738</td>\n",
       "      <td>31.0286</td>\n",
       "      <td>-84.8911</td>\n",
       "      <td>45.7</td>\n",
       "      <td>7</td>\n",
       "      <td>-384.203988</td>\n",
       "      <td>-137.789272</td>\n",
       "      <td>39.087991</td>\n",
       "    </tr>\n",
       "    <tr>\n",
       "      <th>27</th>\n",
       "      <td>USC00093516</td>\n",
       "      <td>31.6000</td>\n",
       "      <td>-85.0500</td>\n",
       "      <td>103.9</td>\n",
       "      <td>34</td>\n",
       "      <td>220.965664</td>\n",
       "      <td>-57.246163</td>\n",
       "      <td>62.663858</td>\n",
       "    </tr>\n",
       "    <tr>\n",
       "      <th>33</th>\n",
       "      <td>USC00093578</td>\n",
       "      <td>31.6150</td>\n",
       "      <td>-85.0494</td>\n",
       "      <td>64.0</td>\n",
       "      <td>10</td>\n",
       "      <td>-831.151977</td>\n",
       "      <td>-6.650059</td>\n",
       "      <td>20.392336</td>\n",
       "    </tr>\n",
       "    <tr>\n",
       "      <th>28</th>\n",
       "      <td>USC00094388</td>\n",
       "      <td>31.2000</td>\n",
       "      <td>-84.4500</td>\n",
       "      <td>39.9</td>\n",
       "      <td>5</td>\n",
       "      <td>-664.293177</td>\n",
       "      <td>-129.124749</td>\n",
       "      <td>158.103217</td>\n",
       "    </tr>\n",
       "    <tr>\n",
       "      <th>1</th>\n",
       "      <td>USC00095585</td>\n",
       "      <td>31.1167</td>\n",
       "      <td>-83.7667</td>\n",
       "      <td>91.4</td>\n",
       "      <td>8</td>\n",
       "      <td>-5.168942</td>\n",
       "      <td>111.666462</td>\n",
       "      <td>-130.668318</td>\n",
       "    </tr>\n",
       "    <tr>\n",
       "      <th>11</th>\n",
       "      <td>USC00096038</td>\n",
       "      <td>31.5333</td>\n",
       "      <td>-84.6167</td>\n",
       "      <td>82.3</td>\n",
       "      <td>18</td>\n",
       "      <td>344.005762</td>\n",
       "      <td>-155.466516</td>\n",
       "      <td>17.430301</td>\n",
       "    </tr>\n",
       "    <tr>\n",
       "      <th>17</th>\n",
       "      <td>USC00096087</td>\n",
       "      <td>31.1769</td>\n",
       "      <td>-83.7492</td>\n",
       "      <td>103.6</td>\n",
       "      <td>79</td>\n",
       "      <td>424.674972</td>\n",
       "      <td>-41.299382</td>\n",
       "      <td>15.486639</td>\n",
       "    </tr>\n",
       "    <tr>\n",
       "      <th>15</th>\n",
       "      <td>USC00096356</td>\n",
       "      <td>31.2897</td>\n",
       "      <td>-84.4158</td>\n",
       "      <td>51.8</td>\n",
       "      <td>7</td>\n",
       "      <td>-1123.406653</td>\n",
       "      <td>124.780140</td>\n",
       "      <td>-102.942059</td>\n",
       "    </tr>\n",
       "    <tr>\n",
       "      <th>3</th>\n",
       "      <td>USC00097165</td>\n",
       "      <td>31.5167</td>\n",
       "      <td>-83.7833</td>\n",
       "      <td>111.3</td>\n",
       "      <td>6</td>\n",
       "      <td>-653.306735</td>\n",
       "      <td>-19.788078</td>\n",
       "      <td>16.550693</td>\n",
       "    </tr>\n",
       "    <tr>\n",
       "      <th>20</th>\n",
       "      <td>USC00097276</td>\n",
       "      <td>30.7836</td>\n",
       "      <td>-83.5692</td>\n",
       "      <td>56.4</td>\n",
       "      <td>53</td>\n",
       "      <td>-483.108277</td>\n",
       "      <td>33.331764</td>\n",
       "      <td>-42.969790</td>\n",
       "    </tr>\n",
       "    <tr>\n",
       "      <th>14</th>\n",
       "      <td>USC00098666</td>\n",
       "      <td>30.9139</td>\n",
       "      <td>-83.8611</td>\n",
       "      <td>73.2</td>\n",
       "      <td>25</td>\n",
       "      <td>258.306310</td>\n",
       "      <td>-31.242368</td>\n",
       "      <td>92.212994</td>\n",
       "    </tr>\n",
       "    <tr>\n",
       "      <th>34</th>\n",
       "      <td>USC00098703</td>\n",
       "      <td>31.4461</td>\n",
       "      <td>-83.4767</td>\n",
       "      <td>115.8</td>\n",
       "      <td>57</td>\n",
       "      <td>-526.705510</td>\n",
       "      <td>13.169520</td>\n",
       "      <td>44.928498</td>\n",
       "    </tr>\n",
       "    <tr>\n",
       "      <th>8</th>\n",
       "      <td>USC00099519</td>\n",
       "      <td>30.7167</td>\n",
       "      <td>-84.8667</td>\n",
       "      <td>70.1</td>\n",
       "      <td>1</td>\n",
       "      <td>-702.830507</td>\n",
       "      <td>298.607006</td>\n",
       "      <td>166.200994</td>\n",
       "    </tr>\n",
       "    <tr>\n",
       "      <th>12</th>\n",
       "      <td>USW00012832</td>\n",
       "      <td>29.7333</td>\n",
       "      <td>-85.0333</td>\n",
       "      <td>5.8</td>\n",
       "      <td>14</td>\n",
       "      <td>-324.895836</td>\n",
       "      <td>-16.476926</td>\n",
       "      <td>-20.285186</td>\n",
       "    </tr>\n",
       "  </tbody>\n",
       "</table>\n",
       "</div>"
      ],
      "text/plain": [
       "        station  latitude  longitude  elevation  count(station)  avg(coeff_1)  \\\n",
       "26  USC00013761   31.3625   -85.3397      112.8              54   -750.947021   \n",
       "6   USC00014895   31.1000   -85.1667     -999.9               5    627.325120   \n",
       "35  USC00080025   29.8833   -83.6333     -999.9               1    363.486042   \n",
       "25  USC00080804   30.4500   -85.0500       18.3              57   -502.835386   \n",
       "36  USC00081020   30.4181   -84.9861       48.8               3    254.745078   \n",
       "4   USC00081022   30.3794   -84.9789       43.9              10   -916.016865   \n",
       "16  USC00081356   29.8667   -84.6667        3.0              62    293.410209   \n",
       "2   USC00081544   30.7836   -85.4847       39.6              64   -145.521310   \n",
       "19  USC00081601   30.4647   -85.1992       38.1               4   -910.743195   \n",
       "24  USC00081775   30.6000   -85.4000       64.0              24    579.323636   \n",
       "43  USC00083230   30.4333   -85.4167       42.7              26    457.868936   \n",
       "39  USC00084892   30.4167   -83.9167       64.0               5    419.205220   \n",
       "22  USC00085372   30.7667   -85.2667       52.1              54    371.140820   \n",
       "5   USC00085879   30.4922   -83.7833       29.9              71   -439.414314   \n",
       "48  USC00085880   30.4406   -83.9858       66.8               2   -704.651253   \n",
       "44  USC00085990   30.6667   -84.7000       92.0              44    290.781753   \n",
       "46  USC00086828   29.9989   -84.4850        1.8               6   -746.589768   \n",
       "18  USC00087025   30.0986   -83.5742       13.7              70    974.605225   \n",
       "7   USC00087424   30.5833   -84.5833       75.9              19    658.172460   \n",
       "10  USC00087429   30.5497   -84.5836       74.7              30   -557.336355   \n",
       "38  USC00087867   30.1000   -84.1667        3.0              35    428.807576   \n",
       "13  USC00087950   30.0667   -84.6000       11.9              13    669.136410   \n",
       "32  USC00088094   30.2000   -83.6500       14.9               7    406.122974   \n",
       "23  USC00088290   30.2000   -84.6667       18.3              12    488.177249   \n",
       "0   USC00088754   30.4333   -84.2833       58.5              12   -129.371039   \n",
       "9   USC00088756   30.3961   -84.3556       16.8              10   -947.577935   \n",
       "37  USC00089566   30.1192   -85.2042       12.8              53   -459.166616   \n",
       "40  USC00089795   30.7219   -84.8742       32.6              19   -676.210452   \n",
       "45  USC00090140   31.5339   -84.1489       54.9              61   -761.765285   \n",
       "42  USC00090406   31.7003   -83.6231      132.6              37   -608.907408   \n",
       "49  USC00090581   30.9167   -84.5833       36.9              29    317.352743   \n",
       "47  USC00090586   30.8228   -84.6175       57.9              21   -801.527812   \n",
       "30  USC00090979   31.2239   -84.5553       81.7              85   -329.307115   \n",
       "31  USC00091463   30.8697   -84.2175       61.3              40    336.112251   \n",
       "21  USC00091500   31.1903   -84.2036       53.3              73     94.683037   \n",
       "29  USC00092153   31.1681   -84.7664       46.6              31    227.818164   \n",
       "41  USC00092738   31.0286   -84.8911       45.7               7   -384.203988   \n",
       "27  USC00093516   31.6000   -85.0500      103.9              34    220.965664   \n",
       "33  USC00093578   31.6150   -85.0494       64.0              10   -831.151977   \n",
       "28  USC00094388   31.2000   -84.4500       39.9               5   -664.293177   \n",
       "1   USC00095585   31.1167   -83.7667       91.4               8     -5.168942   \n",
       "11  USC00096038   31.5333   -84.6167       82.3              18    344.005762   \n",
       "17  USC00096087   31.1769   -83.7492      103.6              79    424.674972   \n",
       "15  USC00096356   31.2897   -84.4158       51.8               7  -1123.406653   \n",
       "3   USC00097165   31.5167   -83.7833      111.3               6   -653.306735   \n",
       "20  USC00097276   30.7836   -83.5692       56.4              53   -483.108277   \n",
       "14  USC00098666   30.9139   -83.8611       73.2              25    258.306310   \n",
       "34  USC00098703   31.4461   -83.4767      115.8              57   -526.705510   \n",
       "8   USC00099519   30.7167   -84.8667       70.1               1   -702.830507   \n",
       "12  USW00012832   29.7333   -85.0333        5.8              14   -324.895836   \n",
       "\n",
       "    avg(coeff_2)  avg(coeff_3)  \n",
       "26    -45.871844     35.232521  \n",
       "6      66.582424    -82.708658  \n",
       "35    415.894004    311.106765  \n",
       "25     11.772710     22.922056  \n",
       "36    -13.972476    -89.442343  \n",
       "4      29.616102     23.192972  \n",
       "16     10.398220    -23.207485  \n",
       "2      31.708781    -44.889556  \n",
       "19     89.437733    -44.395596  \n",
       "24     82.918815    -36.964019  \n",
       "43    -34.517574    -80.741005  \n",
       "39    152.557718   -152.256082  \n",
       "22     -6.212804    -30.465990  \n",
       "5      45.616172    -54.953320  \n",
       "48     64.584831   -186.727842  \n",
       "44    119.560556    -94.989742  \n",
       "46    -41.836905     35.188413  \n",
       "18    -17.628327    -53.868410  \n",
       "7      18.417406     19.714007  \n",
       "10     -9.010733    -56.611222  \n",
       "38     30.588022     18.398038  \n",
       "13    -17.424252     26.736436  \n",
       "32    232.977483     33.720336  \n",
       "23    -45.273822    -49.071385  \n",
       "0     168.674160   -143.703459  \n",
       "9      56.339014    -62.691056  \n",
       "37     30.981042    -82.340556  \n",
       "40    106.696890    -16.803108  \n",
       "45     -6.625158     19.277043  \n",
       "42    -37.427562     21.530437  \n",
       "49     58.158597     -1.322821  \n",
       "47    -20.519272    -93.838724  \n",
       "30     46.865613      2.276755  \n",
       "31     48.105212     -3.591924  \n",
       "21    -30.943927     30.770474  \n",
       "29    -60.966807     27.078629  \n",
       "41   -137.789272     39.087991  \n",
       "27    -57.246163     62.663858  \n",
       "33     -6.650059     20.392336  \n",
       "28   -129.124749    158.103217  \n",
       "1     111.666462   -130.668318  \n",
       "11   -155.466516     17.430301  \n",
       "17    -41.299382     15.486639  \n",
       "15    124.780140   -102.942059  \n",
       "3     -19.788078     16.550693  \n",
       "20     33.331764    -42.969790  \n",
       "14    -31.242368     92.212994  \n",
       "34     13.169520     44.928498  \n",
       "8     298.607006    166.200994  \n",
       "12    -16.476926    -20.285186  "
      ]
     },
     "execution_count": 7,
     "metadata": {},
     "output_type": "execute_result"
    }
   ],
   "source": [
    "df2=df1.groupby(['station','latitude','longitude','elevation']).agg({\"station\": \"count\", feature1: \"mean\", feature2: \"mean\", feature3: \"mean\"})\n",
    "pdf=df2.toPandas()\n",
    "pdf.sort_values(by=['station'],inplace=True)\n",
    "pdf.head(1000)"
   ]
  },
  {
   "cell_type": "code",
   "execution_count": 10,
   "metadata": {
    "run_control": {
     "frozen": false,
     "read_only": false
    }
   },
   "outputs": [
    {
     "data": {
      "text/plain": [
       "u'#800000'"
      ]
     },
     "execution_count": 10,
     "metadata": {},
     "output_type": "execute_result"
    }
   ],
   "source": [
    "#define a mapping from the range of the value to hex colors.\n",
    "from matplotlib.colors import rgb2hex\n",
    "_avg='avg(%s)'%feature1\n",
    "_min=pdf[_avg].min()\n",
    "_max=pdf[_avg].max()\n",
    "_min,_max\n",
    "\n",
    "import pylab as plt\n",
    "cmap=plt.get_cmap('jet')\n",
    "def get_color(val):\n",
    "    x=(val-_min)/(_max-_min)\n",
    "    return(rgb2hex(cmap(x)[:3]))\n",
    "\n",
    "get_color(1000.)"
   ]
  },
  {
   "cell_type": "markdown",
   "metadata": {
    "run_control": {
     "frozen": false,
     "read_only": false
    }
   },
   "source": [
    "## Map"
   ]
  },
  {
   "cell_type": "code",
   "execution_count": 11,
   "metadata": {
    "collapsed": true,
    "run_control": {
     "frozen": false,
     "read_only": false
    }
   },
   "outputs": [],
   "source": [
    "min_lat,max_lat,min_long,max_long = box = (29, 32, -86, -83)\n"
   ]
  },
  {
   "cell_type": "code",
   "execution_count": 12,
   "metadata": {
    "run_control": {
     "frozen": false,
     "read_only": false
    }
   },
   "outputs": [
    {
     "data": {
      "application/vnd.jupyter.widget-view+json": {
       "model_id": "9634d2038cc34af1952832d6696cfbd2"
      }
     },
     "metadata": {},
     "output_type": "display_data"
    }
   ],
   "source": [
    "center = [(min_lat+max_lat)/2, (min_long+max_long)/2]\n",
    "zoom = 9\n",
    "\n",
    "m = Map(default_tiles=TileLayer(opacity=1.0), center=center, zoom=zoom)\n",
    "\n",
    "r = Rectangle(bounds=[[min_lat,min_long],[max_lat,max_long]], weight=5, fill_opacity=0.0)\n",
    "m += r\n",
    "\n",
    "lat_margin=(max_lat-min_lat)/4\n",
    "long_margin=(max_long-min_long)/4\n",
    "circles = []\n",
    "for index,row in pdf.iterrows():\n",
    "    _lat=row['latitude']\n",
    "    _long=row['longitude']\n",
    "    _count=row['count(station)']\n",
    "    _coef=row[_avg]\n",
    "    # taking sqrt of count so that the  area of the circle corresponds to the count\n",
    "    c = Circle(location=(_lat,_long), radius=int(300*np.sqrt(_count+0.0)), weight=1,\n",
    "            color='#F00', opacity=0.8, fill_opacity=0.4,\n",
    "            fill_color=get_color(_coef))\n",
    "    circles.append(c)\n",
    "    m.add_layer(c)\n",
    "m    "
   ]
  },
  {
   "cell_type": "markdown",
   "metadata": {
    "run_control": {
     "frozen": false,
     "read_only": false
    }
   },
   "source": [
    "### excercises:\n",
    "* Add a legend that relates the colors to values.\n",
    "* Leaflet supports a variety of maps. See if you can get a topographical map as the background."
   ]
  },
  {
   "cell_type": "code",
   "execution_count": 11,
   "metadata": {
    "run_control": {
     "frozen": false,
     "read_only": false
    }
   },
   "outputs": [
    {
     "data": {
      "image/png": "[encoded data removed]",
      "text/plain": [
       "<matplotlib.figure.Figure at 0x10dbe6910>"
      ]
     },
     "metadata": {},
     "output_type": "display_data"
    },
    {
     "data": {
      "image/png": "[encoded data removed]",
      "text/plain": [
       "<matplotlib.figure.Figure at 0x10fbabf50>"
      ]
     },
     "metadata": {},
     "output_type": "display_data"
    },
    {
     "data": {
      "image/png": "[encoded data removed]",
      "text/plain": [
       "<matplotlib.figure.Figure at 0x10fe96690>"
      ]
     },
     "metadata": {},
     "output_type": "display_data"
    }
   ],
   "source": [
    "%matplotlib inline\n",
    "pdf.plot.scatter(x='elevation',y='avg(coeff_1)');\n",
    "pdf.plot.scatter(x='elevation',y='avg(coeff_2)');\n",
    "pdf.plot.scatter(x='elevation',y='avg(coeff_3)');"
   ]
  },
  {
   "cell_type": "code",
   "execution_count": 12,
   "metadata": {
    "run_control": {
     "frozen": false,
     "read_only": false
    }
   },
   "outputs": [
    {
     "data": {
      "image/png": "[encoded data removed]",
      "text/plain": [
       "<matplotlib.figure.Figure at 0x110d23950>"
      ]
     },
     "metadata": {},
     "output_type": "display_data"
    },
    {
     "data": {
      "image/png": "[encoded data removed]",
      "text/plain": [
       "<matplotlib.figure.Figure at 0x1041e87d0>"
      ]
     },
     "metadata": {},
     "output_type": "display_data"
    },
    {
     "data": {
      "image/png": "[encoded data removed]",
      "text/plain": [
       "<matplotlib.figure.Figure at 0x1112187d0>"
      ]
     },
     "metadata": {},
     "output_type": "display_data"
    }
   ],
   "source": [
    "%matplotlib inline\n",
    "pdf.plot.scatter(x='latitude',y='avg(coeff_1)');\n",
    "pdf.plot.scatter(x='latitude',y='avg(coeff_2)');\n",
    "pdf.plot.scatter(x='latitude',y='avg(coeff_3)');"
   ]
  },
  {
   "cell_type": "code",
   "execution_count": 13,
   "metadata": {},
   "outputs": [
    {
     "data": {
      "image/png": "[encoded data removed]",
      "text/plain": [
       "<matplotlib.figure.Figure at 0x1112fc650>"
      ]
     },
     "metadata": {},
     "output_type": "display_data"
    },
    {
     "data": {
      "image/png": "[encoded data removed]",
      "text/plain": [
       "<matplotlib.figure.Figure at 0x110e94cd0>"
      ]
     },
     "metadata": {},
     "output_type": "display_data"
    },
    {
     "data": {
      "image/png": "[encoded data removed]",
      "text/plain": [
       "<matplotlib.figure.Figure at 0x110aa98d0>"
      ]
     },
     "metadata": {},
     "output_type": "display_data"
    }
   ],
   "source": [
    "%matplotlib inline\n",
    "pdf.plot.scatter(x='longitude',y='avg(coeff_1)');\n",
    "pdf.plot.scatter(x='longitude',y='avg(coeff_2)');\n",
    "pdf.plot.scatter(x='longitude',y='avg(coeff_3)');"
   ]
  },
  {
   "cell_type": "code",
   "execution_count": 14,
   "metadata": {},
   "outputs": [
    {
     "data": {
      "text/plain": [
       "['spark big  data analysis', 'spring', 'spark  basics']"
      ]
     },
     "execution_count": 14,
     "metadata": {},
     "output_type": "execute_result"
    }
   ],
   "source": [
    "RDD1=sc.parallelize([\"spark  basics\", \"spark big  data analysis\", \"spring\"]) \n",
    "RDD2=sc.parallelize([\"spark using pyspark\", \"big data\"])\n",
    " \n",
    "RDD1.subtract(RDD2).collect()"
   ]
  },
  {
   "cell_type": "code",
   "execution_count": null,
   "metadata": {
    "collapsed": true
   },
   "outputs": [],
   "source": []
  }
 ],
 "metadata": {
  "anaconda-cloud": {},
  "hide_input": false,
  "kernelspec": {
   "display_name": "Python [default]",
   "language": "python",
   "name": "python2"
  },
  "language_info": {
   "codemirror_mode": {
    "name": "ipython",
    "version": 2
   },
   "file_extension": ".py",
   "mimetype": "text/x-python",
   "name": "python",
   "nbconvert_exporter": "python",
   "pygments_lexer": "ipython2",
   "version": "2.7.12"
  },
  "toc": {
   "colors": {
    "hover_highlight": "#DAA520",
    "running_highlight": "#FF0000",
    "selected_highlight": "#FFD700"
   },
   "moveMenuLeft": true,
   "nav_menu": {
    "height": "174px",
    "width": "252px"
   },
   "navigate_menu": true,
   "number_sections": true,
   "sideBar": true,
   "threshold": 4,
   "toc_cell": false,
   "toc_section_display": "block",
   "toc_window_display": false
  }
 },
 "nbformat": 4,
 "nbformat_minor": 1
}
