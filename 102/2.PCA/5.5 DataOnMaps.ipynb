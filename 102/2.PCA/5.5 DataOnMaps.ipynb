{
 "cells": [
  {
   "cell_type": "markdown",
   "metadata": {
    "run_control": {
     "frozen": false,
     "read_only": false
    }
   },
   "source": [
    "## iPyLeaflet\n",
    "[ipyleaflet](https://github.com/ellisonbg/ipyleaflet) is a bridge between jupyter notebooks and the [leaflet](http://leafletjs.com/)  javascript library for drawing maps.\n",
    "\n",
    "ipyleaflet comes with a few examples notebooks (this notebook was derived from one) but very little documentation,\n",
    "for more documentation read the [Leaflet IPA](http://leafletjs.com/reference.html)\n",
    "\n",
    "For installation directions, see the README on [ipyleaflet](https://github.com/ellisonbg/ipyleaflet)\n",
    "\n",
    "[GeoJson](https://tools.ietf.org/html/rfc7946#section-3.1.7) is a good way to add data on top of an ipyleaflet map.\n",
    "\n",
    "For other backgrounds than open streets, you can alter the ipyleaflet.py file to point to one of [these map providers](https://leaflet-extras.github.io/leaflet-providers/preview/)"
   ]
  },
  {
   "cell_type": "code",
   "execution_count": 1,
   "metadata": {
    "run_control": {
     "frozen": false,
     "read_only": false
    }
   },
   "outputs": [],
   "source": [
    "from ipyleaflet import (\n",
    "    Map,\n",
    "    Marker,\n",
    "    TileLayer, ImageOverlay,\n",
    "    Polyline, Polygon, Rectangle, Circle, CircleMarker,\n",
    "    GeoJSON,\n",
    "    DrawControl\n",
    ")"
   ]
  },
  {
   "cell_type": "markdown",
   "metadata": {
    "run_control": {
     "frozen": false,
     "read_only": false
    }
   },
   "source": [
    "## Visualizing the distribution of the observations\n",
    "\n",
    "## Load the required libraries"
   ]
  },
  {
   "cell_type": "code",
   "execution_count": 2,
   "metadata": {
    "run_control": {
     "frozen": false,
     "read_only": false
    }
   },
   "outputs": [],
   "source": [
    "import pandas as pd\n",
    "import numpy as np\n",
    "import sklearn as sk\n",
    "import urllib\n",
    "import math\n",
    "import pylab as plt\n",
    "\n",
    "import sys\n",
    "sys.path.append('./lib')\n",
    "\n",
    "from leaflet import *"
   ]
  },
  {
   "cell_type": "code",
   "execution_count": 7,
   "metadata": {},
   "outputs": [
    {
     "name": "stdout",
     "output_type": "stream",
     "text": [
      "['eigen-vecs', 'stations']\n"
     ]
    },
    {
     "data": {
      "text/html": [
       "<div>\n",
       "<table border=\"1\" class=\"dataframe\">\n",
       "  <thead>\n",
       "    <tr style=\"text-align: right;\">\n",
       "      <th></th>\n",
       "      <th>latitude</th>\n",
       "      <th>longitude</th>\n",
       "      <th>elevation</th>\n",
       "      <th>state</th>\n",
       "      <th>name</th>\n",
       "      <th>GSNFLAG</th>\n",
       "      <th>HCNFLAG</th>\n",
       "      <th>WMOID</th>\n",
       "    </tr>\n",
       "  </thead>\n",
       "  <tbody>\n",
       "    <tr>\n",
       "      <th>ACW00011604</th>\n",
       "      <td>17.1167</td>\n",
       "      <td>-61.7833</td>\n",
       "      <td>10.1</td>\n",
       "      <td>NaN</td>\n",
       "      <td>ST JOHNS COOLIDGE FLD</td>\n",
       "      <td>NaN</td>\n",
       "      <td>NaN</td>\n",
       "      <td>NaN</td>\n",
       "    </tr>\n",
       "    <tr>\n",
       "      <th>ACW00011647</th>\n",
       "      <td>17.1333</td>\n",
       "      <td>-61.7833</td>\n",
       "      <td>19.2</td>\n",
       "      <td>NaN</td>\n",
       "      <td>ST JOHNS</td>\n",
       "      <td>NaN</td>\n",
       "      <td>NaN</td>\n",
       "      <td>NaN</td>\n",
       "    </tr>\n",
       "    <tr>\n",
       "      <th>AE000041196</th>\n",
       "      <td>25.3330</td>\n",
       "      <td>55.5170</td>\n",
       "      <td>34.0</td>\n",
       "      <td>NaN</td>\n",
       "      <td>SHARJAH INTER. AIRP</td>\n",
       "      <td>GSN</td>\n",
       "      <td>NaN</td>\n",
       "      <td>41196.0</td>\n",
       "    </tr>\n",
       "    <tr>\n",
       "      <th>AF000040930</th>\n",
       "      <td>35.3170</td>\n",
       "      <td>69.0170</td>\n",
       "      <td>3366.0</td>\n",
       "      <td>NaN</td>\n",
       "      <td>NORTH-SALANG</td>\n",
       "      <td>GSN</td>\n",
       "      <td>NaN</td>\n",
       "      <td>40930.0</td>\n",
       "    </tr>\n",
       "    <tr>\n",
       "      <th>AG000060390</th>\n",
       "      <td>36.7167</td>\n",
       "      <td>3.2500</td>\n",
       "      <td>24.0</td>\n",
       "      <td>NaN</td>\n",
       "      <td>ALGER-DAR EL BEIDA</td>\n",
       "      <td>GSN</td>\n",
       "      <td>NaN</td>\n",
       "      <td>60390.0</td>\n",
       "    </tr>\n",
       "  </tbody>\n",
       "</table>\n",
       "</div>"
      ],
      "text/plain": [
       "             latitude  longitude  elevation state                   name  \\\n",
       "ACW00011604   17.1167   -61.7833       10.1   NaN  ST JOHNS COOLIDGE FLD   \n",
       "ACW00011647   17.1333   -61.7833       19.2   NaN               ST JOHNS   \n",
       "AE000041196   25.3330    55.5170       34.0   NaN    SHARJAH INTER. AIRP   \n",
       "AF000040930   35.3170    69.0170     3366.0   NaN           NORTH-SALANG   \n",
       "AG000060390   36.7167     3.2500       24.0   NaN     ALGER-DAR EL BEIDA   \n",
       "\n",
       "            GSNFLAG HCNFLAG    WMOID  \n",
       "ACW00011604     NaN     NaN      NaN  \n",
       "ACW00011647     NaN     NaN      NaN  \n",
       "AE000041196     GSN     NaN  41196.0  \n",
       "AF000040930     GSN     NaN  40930.0  \n",
       "AG000060390     GSN     NaN  60390.0  "
      ]
     },
     "execution_count": 7,
     "metadata": {},
     "output_type": "execute_result"
    }
   ],
   "source": [
    "data_dir = \"../../Data/Weather/\"\n",
    "from pickle import load\n",
    "with open(data_dir+'/TOBS_residuals_PCA.pickle','rb') as file:\n",
    "    Res_eig=load(file)\n",
    "print Res_eig.keys()\n",
    "\n",
    "#stations.pkl\n",
    "with open(data_dir+'/stations.pkl','rb') as file:\n",
    "    Stations=load(file)\n",
    "Stations.head()\n"
   ]
  },
  {
   "cell_type": "code",
   "execution_count": 8,
   "metadata": {},
   "outputs": [
    {
     "data": {
      "text/html": [
       "<div>\n",
       "<table border=\"1\" class=\"dataframe\">\n",
       "  <thead>\n",
       "    <tr style=\"text-align: right;\">\n",
       "      <th></th>\n",
       "      <th>0</th>\n",
       "      <th>1</th>\n",
       "      <th>2</th>\n",
       "      <th>3</th>\n",
       "      <th>4</th>\n",
       "      <th>5</th>\n",
       "      <th>6</th>\n",
       "      <th>7</th>\n",
       "      <th>8</th>\n",
       "      <th>9</th>\n",
       "    </tr>\n",
       "  </thead>\n",
       "  <tbody>\n",
       "    <tr>\n",
       "      <th>0</th>\n",
       "      <td>-0.207785</td>\n",
       "      <td>-0.186461</td>\n",
       "      <td>-0.051425</td>\n",
       "      <td>-0.111689</td>\n",
       "      <td>-0.119900</td>\n",
       "      <td>-0.012736</td>\n",
       "      <td>-0.066613</td>\n",
       "      <td>0.004925</td>\n",
       "      <td>0.082807</td>\n",
       "      <td>-0.000261</td>\n",
       "    </tr>\n",
       "    <tr>\n",
       "      <th>1</th>\n",
       "      <td>0.044875</td>\n",
       "      <td>0.017570</td>\n",
       "      <td>0.025454</td>\n",
       "      <td>0.039794</td>\n",
       "      <td>0.009284</td>\n",
       "      <td>-0.030974</td>\n",
       "      <td>0.043010</td>\n",
       "      <td>0.081765</td>\n",
       "      <td>0.054003</td>\n",
       "      <td>-0.009176</td>\n",
       "    </tr>\n",
       "    <tr>\n",
       "      <th>2</th>\n",
       "      <td>0.044875</td>\n",
       "      <td>0.017570</td>\n",
       "      <td>0.025454</td>\n",
       "      <td>0.039794</td>\n",
       "      <td>0.009284</td>\n",
       "      <td>-0.030974</td>\n",
       "      <td>0.043010</td>\n",
       "      <td>0.081765</td>\n",
       "      <td>0.054003</td>\n",
       "      <td>-0.009176</td>\n",
       "    </tr>\n",
       "    <tr>\n",
       "      <th>3</th>\n",
       "      <td>-0.075543</td>\n",
       "      <td>-0.379706</td>\n",
       "      <td>-0.126418</td>\n",
       "      <td>-0.041366</td>\n",
       "      <td>-0.178670</td>\n",
       "      <td>-0.151065</td>\n",
       "      <td>0.029473</td>\n",
       "      <td>-0.045299</td>\n",
       "      <td>-0.172898</td>\n",
       "      <td>-0.008071</td>\n",
       "    </tr>\n",
       "    <tr>\n",
       "      <th>4</th>\n",
       "      <td>0.047835</td>\n",
       "      <td>0.009280</td>\n",
       "      <td>0.049322</td>\n",
       "      <td>0.066063</td>\n",
       "      <td>0.071917</td>\n",
       "      <td>-0.080153</td>\n",
       "      <td>0.114351</td>\n",
       "      <td>-0.248144</td>\n",
       "      <td>0.322055</td>\n",
       "      <td>0.288027</td>\n",
       "    </tr>\n",
       "  </tbody>\n",
       "</table>\n",
       "</div>"
      ],
      "text/plain": [
       "          0         1         2         3         4         5         6  \\\n",
       "0 -0.207785 -0.186461 -0.051425 -0.111689 -0.119900 -0.012736 -0.066613   \n",
       "1  0.044875  0.017570  0.025454  0.039794  0.009284 -0.030974  0.043010   \n",
       "2  0.044875  0.017570  0.025454  0.039794  0.009284 -0.030974  0.043010   \n",
       "3 -0.075543 -0.379706 -0.126418 -0.041366 -0.178670 -0.151065  0.029473   \n",
       "4  0.047835  0.009280  0.049322  0.066063  0.071917 -0.080153  0.114351   \n",
       "\n",
       "          7         8         9  \n",
       "0  0.004925  0.082807 -0.000261  \n",
       "1  0.081765  0.054003 -0.009176  \n",
       "2  0.081765  0.054003 -0.009176  \n",
       "3 -0.045299 -0.172898 -0.008071  \n",
       "4 -0.248144  0.322055  0.288027  "
      ]
     },
     "execution_count": 8,
     "metadata": {},
     "output_type": "execute_result"
    }
   ],
   "source": [
    "import pandas as pd\n",
    "Eig=pd.DataFrame(Res_eig['eigen-vecs'].transpose())\n",
    "Eig.head()"
   ]
  },
  {
   "cell_type": "code",
   "execution_count": 9,
   "metadata": {},
   "outputs": [
    {
     "name": "stdout",
     "output_type": "stream",
     "text": [
      "[u'USC00093578', u'USC00090586', u'USC00084892', u'USC00093516', u'USC00090140']\n"
     ]
    },
    {
     "data": {
      "text/html": [
       "<div>\n",
       "<table border=\"1\" class=\"dataframe\">\n",
       "  <thead>\n",
       "    <tr style=\"text-align: right;\">\n",
       "      <th></th>\n",
       "      <th>0</th>\n",
       "      <th>1</th>\n",
       "      <th>2</th>\n",
       "      <th>3</th>\n",
       "      <th>4</th>\n",
       "      <th>5</th>\n",
       "      <th>6</th>\n",
       "      <th>7</th>\n",
       "      <th>8</th>\n",
       "      <th>9</th>\n",
       "    </tr>\n",
       "    <tr>\n",
       "      <th>station</th>\n",
       "      <th></th>\n",
       "      <th></th>\n",
       "      <th></th>\n",
       "      <th></th>\n",
       "      <th></th>\n",
       "      <th></th>\n",
       "      <th></th>\n",
       "      <th></th>\n",
       "      <th></th>\n",
       "      <th></th>\n",
       "    </tr>\n",
       "  </thead>\n",
       "  <tbody>\n",
       "    <tr>\n",
       "      <th>USC00093578</th>\n",
       "      <td>-0.207785</td>\n",
       "      <td>-0.186461</td>\n",
       "      <td>-0.051425</td>\n",
       "      <td>-0.111689</td>\n",
       "      <td>-0.119900</td>\n",
       "      <td>-0.012736</td>\n",
       "      <td>-0.066613</td>\n",
       "      <td>0.004925</td>\n",
       "      <td>0.082807</td>\n",
       "      <td>-0.000261</td>\n",
       "    </tr>\n",
       "    <tr>\n",
       "      <th>USC00090586</th>\n",
       "      <td>0.044875</td>\n",
       "      <td>0.017570</td>\n",
       "      <td>0.025454</td>\n",
       "      <td>0.039794</td>\n",
       "      <td>0.009284</td>\n",
       "      <td>-0.030974</td>\n",
       "      <td>0.043010</td>\n",
       "      <td>0.081765</td>\n",
       "      <td>0.054003</td>\n",
       "      <td>-0.009176</td>\n",
       "    </tr>\n",
       "    <tr>\n",
       "      <th>USC00084892</th>\n",
       "      <td>0.044875</td>\n",
       "      <td>0.017570</td>\n",
       "      <td>0.025454</td>\n",
       "      <td>0.039794</td>\n",
       "      <td>0.009284</td>\n",
       "      <td>-0.030974</td>\n",
       "      <td>0.043010</td>\n",
       "      <td>0.081765</td>\n",
       "      <td>0.054003</td>\n",
       "      <td>-0.009176</td>\n",
       "    </tr>\n",
       "    <tr>\n",
       "      <th>USC00093516</th>\n",
       "      <td>-0.075543</td>\n",
       "      <td>-0.379706</td>\n",
       "      <td>-0.126418</td>\n",
       "      <td>-0.041366</td>\n",
       "      <td>-0.178670</td>\n",
       "      <td>-0.151065</td>\n",
       "      <td>0.029473</td>\n",
       "      <td>-0.045299</td>\n",
       "      <td>-0.172898</td>\n",
       "      <td>-0.008071</td>\n",
       "    </tr>\n",
       "    <tr>\n",
       "      <th>USC00090140</th>\n",
       "      <td>0.047835</td>\n",
       "      <td>0.009280</td>\n",
       "      <td>0.049322</td>\n",
       "      <td>0.066063</td>\n",
       "      <td>0.071917</td>\n",
       "      <td>-0.080153</td>\n",
       "      <td>0.114351</td>\n",
       "      <td>-0.248144</td>\n",
       "      <td>0.322055</td>\n",
       "      <td>0.288027</td>\n",
       "    </tr>\n",
       "  </tbody>\n",
       "</table>\n",
       "</div>"
      ],
      "text/plain": [
       "                    0         1         2         3         4         5  \\\n",
       "station                                                                   \n",
       "USC00093578 -0.207785 -0.186461 -0.051425 -0.111689 -0.119900 -0.012736   \n",
       "USC00090586  0.044875  0.017570  0.025454  0.039794  0.009284 -0.030974   \n",
       "USC00084892  0.044875  0.017570  0.025454  0.039794  0.009284 -0.030974   \n",
       "USC00093516 -0.075543 -0.379706 -0.126418 -0.041366 -0.178670 -0.151065   \n",
       "USC00090140  0.047835  0.009280  0.049322  0.066063  0.071917 -0.080153   \n",
       "\n",
       "                    6         7         8         9  \n",
       "station                                              \n",
       "USC00093578 -0.066613  0.004925  0.082807 -0.000261  \n",
       "USC00090586  0.043010  0.081765  0.054003 -0.009176  \n",
       "USC00084892  0.043010  0.081765  0.054003 -0.009176  \n",
       "USC00093516  0.029473 -0.045299 -0.172898 -0.008071  \n",
       "USC00090140  0.114351 -0.248144  0.322055  0.288027  "
      ]
     },
     "execution_count": 9,
     "metadata": {},
     "output_type": "execute_result"
    }
   ],
   "source": [
    "Eig['station']=Res_eig['stations']\n",
    "Eig=Eig.set_index('station')\n",
    "print Res_eig['stations'][:5]\n",
    "Eig.head()"
   ]
  },
  {
   "cell_type": "code",
   "execution_count": 10,
   "metadata": {},
   "outputs": [],
   "source": [
    "table=Eig.join(Stations,how='left')"
   ]
  },
  {
   "cell_type": "code",
   "execution_count": 11,
   "metadata": {},
   "outputs": [
    {
     "data": {
      "text/html": [
       "<div>\n",
       "<table border=\"1\" class=\"dataframe\">\n",
       "  <thead>\n",
       "    <tr style=\"text-align: right;\">\n",
       "      <th></th>\n",
       "      <th>name</th>\n",
       "      <th>latitude</th>\n",
       "      <th>longitude</th>\n",
       "      <th>elevation</th>\n",
       "      <th>0</th>\n",
       "      <th>1</th>\n",
       "      <th>2</th>\n",
       "      <th>3</th>\n",
       "    </tr>\n",
       "    <tr>\n",
       "      <th>station</th>\n",
       "      <th></th>\n",
       "      <th></th>\n",
       "      <th></th>\n",
       "      <th></th>\n",
       "      <th></th>\n",
       "      <th></th>\n",
       "      <th></th>\n",
       "      <th></th>\n",
       "    </tr>\n",
       "  </thead>\n",
       "  <tbody>\n",
       "    <tr>\n",
       "      <th>USC00093578</th>\n",
       "      <td>FT GAINES 2</td>\n",
       "      <td>31.6150</td>\n",
       "      <td>-85.0494</td>\n",
       "      <td>64.0</td>\n",
       "      <td>-0.207785</td>\n",
       "      <td>-0.186461</td>\n",
       "      <td>-0.051425</td>\n",
       "      <td>-0.111689</td>\n",
       "    </tr>\n",
       "    <tr>\n",
       "      <th>USC00090586</th>\n",
       "      <td>BAINBRIDGE INTL PAPER</td>\n",
       "      <td>30.8228</td>\n",
       "      <td>-84.6175</td>\n",
       "      <td>57.9</td>\n",
       "      <td>0.044875</td>\n",
       "      <td>0.017570</td>\n",
       "      <td>0.025454</td>\n",
       "      <td>0.039794</td>\n",
       "    </tr>\n",
       "    <tr>\n",
       "      <th>USC00084892</th>\n",
       "      <td>LAMONT 6 WNW</td>\n",
       "      <td>30.4167</td>\n",
       "      <td>-83.9167</td>\n",
       "      <td>64.0</td>\n",
       "      <td>0.044875</td>\n",
       "      <td>0.017570</td>\n",
       "      <td>0.025454</td>\n",
       "      <td>0.039794</td>\n",
       "    </tr>\n",
       "    <tr>\n",
       "      <th>USC00093516</th>\n",
       "      <td>FT GAINES</td>\n",
       "      <td>31.6000</td>\n",
       "      <td>-85.0500</td>\n",
       "      <td>103.9</td>\n",
       "      <td>-0.075543</td>\n",
       "      <td>-0.379706</td>\n",
       "      <td>-0.126418</td>\n",
       "      <td>-0.041366</td>\n",
       "    </tr>\n",
       "  </tbody>\n",
       "</table>\n",
       "</div>"
      ],
      "text/plain": [
       "                              name  latitude  longitude  elevation         0  \\\n",
       "station                                                                        \n",
       "USC00093578            FT GAINES 2   31.6150   -85.0494       64.0 -0.207785   \n",
       "USC00090586  BAINBRIDGE INTL PAPER   30.8228   -84.6175       57.9  0.044875   \n",
       "USC00084892           LAMONT 6 WNW   30.4167   -83.9167       64.0  0.044875   \n",
       "USC00093516              FT GAINES   31.6000   -85.0500      103.9 -0.075543   \n",
       "\n",
       "                    1         2         3  \n",
       "station                                    \n",
       "USC00093578 -0.186461 -0.051425 -0.111689  \n",
       "USC00090586  0.017570  0.025454  0.039794  \n",
       "USC00084892  0.017570  0.025454  0.039794  \n",
       "USC00093516 -0.379706 -0.126418 -0.041366  "
      ]
     },
     "execution_count": 11,
     "metadata": {},
     "output_type": "execute_result"
    }
   ],
   "source": [
    "table=table[['name','latitude','longitude','elevation',0,1,2,3]]#,4,5,6,7]]\n",
    "table.head(4)"
   ]
  },
  {
   "cell_type": "code",
   "execution_count": 12,
   "metadata": {
    "scrolled": true
   },
   "outputs": [],
   "source": [
    "import pylab as plt\n",
    "prop_cycle = plt.rcParams['axes.prop_cycle']\n",
    "colors = prop_cycle.by_key()['color']"
   ]
  },
  {
   "cell_type": "markdown",
   "metadata": {
    "run_control": {
     "frozen": false,
     "read_only": false
    }
   },
   "source": [
    "## Map"
   ]
  },
  {
   "cell_type": "code",
   "execution_count": 14,
   "metadata": {
    "code_folding": [
     14
    ]
   },
   "outputs": [
    {
     "data": {
      "application/vnd.jupyter.widget-view+json": {
       "model_id": "fa5e89cf8fa34893a05f2e4c95b364a7"
      }
     },
     "metadata": {},
     "output_type": "display_data"
    }
   ],
   "source": [
    "min_lat,max_lat,min_long,max_long = box = (29, 32, -86, -83)\n",
    "center = [(min_lat+max_lat)/2, (min_long+max_long)/2]\n",
    "zoom = 9\n",
    "m = Map(default_tiles=TileLayer(opacity=0.6), center=center, zoom=zoom)\n",
    "r = Rectangle(bounds=[[min_lat,min_long],[max_lat,max_long]], weight=5, fill_opacity=0.0)\n",
    "m += r\n",
    "\n",
    "lat_margin=(max_lat-min_lat)/4\n",
    "long_margin=(max_long-min_long)/4\n",
    "for index,row in table.iterrows():\n",
    "    _lat=row['latitude']\n",
    "    _long=row['longitude']\n",
    "    for col in range(4):\n",
    "        _coef=row[col]\n",
    "        if np.isnan(_coef):\n",
    "            continue\n",
    "        r=abs(_coef)/5\n",
    "        #print r\n",
    "        color=colors[col]\n",
    "        signs=[[+1,+1],[+1,-1],[-1,-1],[-1,+1]]\n",
    "        lat_sign,long_sign=signs[col]\n",
    "        triangle=[(_lat,_long),(_lat+lat_sign*r,_long),(_lat,_long+long_sign*r),(_lat,_long)]\n",
    "        if _coef<0:\n",
    "            poly= Polygon(locations=triangle, weight=0,\n",
    "                    color=color, opacity=0, fill_opacity=0.7,\n",
    "                    fill_color=color)\n",
    "        else:\n",
    "            poly= Polygon(locations=triangle, weight=2,\n",
    "                    color=color, opacity=0.8, fill_opacity=0,\n",
    "                    fill_color=color)\n",
    "        m +=poly   \n",
    "m    "
   ]
  },
  {
   "cell_type": "markdown",
   "metadata": {
    "run_control": {
     "frozen": false,
     "read_only": false
    }
   },
   "source": [
    "### excercises:\n",
    "* Add a legend that relates the colors to values.\n",
    "* Leaflet supports a variety of maps. See if you can get a topographical map as the background."
   ]
  },
  {
   "cell_type": "code",
   "execution_count": 10,
   "metadata": {
    "run_control": {
     "frozen": false,
     "read_only": false
    }
   },
   "outputs": [
    {
     "ename": "NameError",
     "evalue": "name 'pdf' is not defined",
     "output_type": "error",
     "traceback": [
      "\u001b[0;31m---------------------------------------------------------------------------\u001b[0m",
      "\u001b[0;31mNameError\u001b[0m                                 Traceback (most recent call last)",
      "\u001b[0;32m<ipython-input-10-2d62ecdfe356>\u001b[0m in \u001b[0;36m<module>\u001b[0;34m()\u001b[0m\n\u001b[1;32m      1\u001b[0m \u001b[0mget_ipython\u001b[0m\u001b[0;34m(\u001b[0m\u001b[0;34m)\u001b[0m\u001b[0;34m.\u001b[0m\u001b[0mmagic\u001b[0m\u001b[0;34m(\u001b[0m\u001b[0;34mu'matplotlib inline'\u001b[0m\u001b[0;34m)\u001b[0m\u001b[0;34m\u001b[0m\u001b[0m\n\u001b[0;32m----> 2\u001b[0;31m \u001b[0mpdf\u001b[0m\u001b[0;34m.\u001b[0m\u001b[0mplot\u001b[0m\u001b[0;34m.\u001b[0m\u001b[0mscatter\u001b[0m\u001b[0;34m(\u001b[0m\u001b[0mx\u001b[0m\u001b[0;34m=\u001b[0m\u001b[0;34m'elevation'\u001b[0m\u001b[0;34m,\u001b[0m\u001b[0my\u001b[0m\u001b[0;34m=\u001b[0m\u001b[0;34m'avg(coeff_1)'\u001b[0m\u001b[0;34m)\u001b[0m\u001b[0;34m;\u001b[0m\u001b[0;34m\u001b[0m\u001b[0m\n\u001b[0m",
      "\u001b[0;31mNameError\u001b[0m: name 'pdf' is not defined"
     ]
    }
   ],
   "source": [
    "%matplotlib inline\n",
    "pdf.plot.scatter(x='elevation',y='avg(coeff_1)');"
   ]
  },
  {
   "cell_type": "code",
   "execution_count": null,
   "metadata": {
    "collapsed": true
   },
   "outputs": [],
   "source": []
  }
 ],
 "metadata": {
  "anaconda-cloud": {},
  "hide_input": false,
  "kernelspec": {
   "display_name": "Python [default]",
   "language": "python",
   "name": "python2"
  },
  "language_info": {
   "codemirror_mode": {
    "name": "ipython",
    "version": 2
   },
   "file_extension": ".py",
   "mimetype": "text/x-python",
   "name": "python",
   "nbconvert_exporter": "python",
   "pygments_lexer": "ipython2",
   "version": "2.7.12"
  },
  "toc": {
   "colors": {
    "hover_highlight": "#DAA520",
    "running_highlight": "#FF0000",
    "selected_highlight": "#FFD700"
   },
   "moveMenuLeft": true,
   "nav_menu": {
    "height": "174px",
    "width": "252px"
   },
   "navigate_menu": true,
   "number_sections": true,
   "sideBar": true,
   "threshold": 4,
   "toc_cell": false,
   "toc_section_display": "block",
   "toc_window_display": false
  },
  "widgets": {
   "state": {},
   "version": "1.0.0"
  }
 },
 "nbformat": 4,
 "nbformat_minor": 1
}
