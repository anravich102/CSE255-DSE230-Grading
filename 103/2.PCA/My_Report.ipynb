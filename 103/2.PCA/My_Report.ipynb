{
 "cells": [
  {
   "cell_type": "markdown",
   "metadata": {},
   "source": [
    "# Middle California & Nevada Weather Analysis\n",
    "\n",
    "## 0. Introduction\n",
    "This is a report for analyzing the weather data for the district of middle California and middle Nevada.\n",
    "\n",
    "In the experiment, I totally used 12423 entries of data from [NOAA](https://www.ncdc.noaa.gov/).\n",
    " \n",
    "In our experiment, we mainly focused on six measurements:\n",
    "* **TMIN, TMAX:** the daily minimum and maximum temperature.\n",
    "* **TOBS:** The average temperature for each day.\n",
    "* **PRCP:** Daily Precipitation (in mm)\n",
    "* **SNOW:** Daily snowfall (in mm)\n",
    "* **SNWD:** The depth of accumulated snow.\n"
   ]
  },
  {
   "cell_type": "markdown",
   "metadata": {},
   "source": [
    "## 1. Sanity-check: comparison with outside sources\n",
    "\n",
    "<p>We first did the sanity-check, where we compared some general statistics with graphs that we obtained from the site called <a href=\"http://www.usclimatedata.com/climate/boston/massachusetts/united-states/usma0046\" target=\"_blank\">US Climate Data</a> The graph below shows the daily minimum and maximum temperatures for each month, as well as the total precipitation for each month.</p>\n",
    "<p><img alt=\"Climate Graph.png\" src=\"myFigures/Climate Graph.png\" style=\"height:450px; width:600px\"/></p>\n",
    "\n",
    "<p>&nbsp;</p>\n",
    "\n",
    "<p>The graph below shows the min and max daily&nbsp;temperature agrees with the ones we got from our data, once we translate Fahrenheit to Centigrade.</p>\n",
    "\n",
    "<p>&nbsp;</p>\n",
    "\n",
    "<p><img alt=\"TMIN,TMAX.png\" src=\"myFigures/TMIN,TMAX.png\" style=\"height:300px; width:800px\" /></p>\n",
    "\n",
    "<p>Additionally, to compare the precipitation&nbsp;we need to translate millimeter/day to millimeter/year. \n",
    "\n",
    "According to our analysis, the average rainfall is approximately 0.80 mm/day which translates to about 290 mm&nbsp;per year. According to the US-Climate-Data, the average rainfall is closer to 322 mm per year. However, there is clear agreement that average precipitation&nbsp;is close to a constant throughout the year.</p>\n",
    "\n",
    "<p>&nbsp;<img alt=\"PRCP.png\" src=\"myFigures/PRCP.png\" style=\"height:450px; width:600px\" /></p>"
   ]
  },
  {
   "cell_type": "markdown",
   "metadata": {
    "collapsed": true
   },
   "source": [
    "## 2. PCA analysis\n",
    "\n",
    "For each of the six measurements (TMIN, TMAX, TOBS, PRCP, SNOW, SNWD), we compute the portion of the variance explained as a function of the number of eigen-vectors used.\n",
    "\n",
    "![VarExplained1.png](myFigures/VarExplained1.png)\n",
    "\n",
    "![VarExplained2.png](myFigures/VarExplained2.png)\n",
    "\n",
    "\n",
    "measurement | top 5 eigen-vectors explained variance\n",
    ":--: | :--: \n",
    "SNWD | 85% \n",
    "TMIN | 63% \n",
    "TBOS | 70% \n",
    "TMAX | 58%\n",
    "PRCP | 15%\n",
    "SNOW | 14% \n",
    "\n",
    "As the above graphs and table show, we got some interesting findings.\n",
    "\n",
    "We first found that the measurement SNWD was best explained by the top 5 eigenvectors. The first 5 eigenvectors almost explained all the useful information about daily snowfall. This is especially ture for the first eigen-vector which, by itself, explains approximately 65% of the variance.\n",
    "\n",
    "Beyond the measurement SNWD, the measurements TBOS, TMIN and TMAX have the similar variance - their percentage of variance explained are 70%, 63% and 58%, and the corresponding first eigen-vector variance explained are 60%, 55% and 48%. For these three temperature measurements, the top 5 eigen-vectors explain over half variance.\n",
    "\n",
    "Also, we found that the measurements with the worst performance are SNOW and PRCP, which only explained about 14% and 15% variance. That is to say the top 5 eigen-vectors do not contain much useful information. In other words, these two measurements have much more noises than that of other measurements."
   ]
  },
  {
   "cell_type": "markdown",
   "metadata": {},
   "source": [
    "## 3. Analysis of snow depth\n",
    "\n",
    "We choose to analyze the eigen-decomposition for snow-depth because the first 4 eigen-vectors explain 80% of the variance which indicates that the eigen-vectors for them make sense."
   ]
  },
  {
   "cell_type": "markdown",
   "metadata": {},
   "source": [
    "### 3.1 Eigenvector Interpretation\n",
    "\n",
    "As the SNWD mean and eigen-vectors graph show below, we can observe that the snow season is from December to May, where the mid of February marks the peak of the snow-depth.\n",
    "\n",
    "<p><img alt=\"SNWD_mean_eigs.png\" src=\"myFigures/SNWD_mean_eigs.png\" style=\"height:450px; width:800px\" /></p>"
   ]
  },
  {
   "cell_type": "markdown",
   "metadata": {},
   "source": [
    "Then we interpret the eigen-functions. \n",
    "\n",
    "According to the analysis above, the first eigen vector explains over 65% variance and the corresponding first eigen-function (eig1) has a shape very similar to the mean function just in the opposite direction. The interpretation of this shape is that eig1 represents the overall amount of snow below the mean.\n",
    "\n",
    "**eig2**, **eig3** and **eig4** are similar in the following way. They all oscillate between positive and negative values. In other words, they correspond to changing the distribution of the snow depth over the winter months, but they don't change the total (much).\n",
    "\n",
    "They can be interpreted as follows:\n",
    "\n",
    "* **eig2:** more snow in Jan - mid Mar and less snow in mid Mar - Jun.\n",
    "* **eig3:** more snow in Jan - Feb and Apr - May, less snow in Feb - Apr.\n",
    "* **eig4:** less snow in Nov- Jan."
   ]
  },
  {
   "cell_type": "markdown",
   "metadata": {},
   "source": [
    "### 3.2 Reconstructions and Distribution of first 3 coefficients\n",
    "\n",
    "### 3.2.1 Coeff1\n",
    "Coeff1: most positive\n",
    "![SNWD_grid_Pos_coeff1.png](myFigures/SNWD_grid_Pos_coeff1.png)\n",
    "\n",
    "Large positive values of coeff1 correspond to less than average snow. \n",
    "\n",
    "Coeff1: most negative\n",
    "![SNWD_grid_neg_coeff1.png](myFigures/SNWD_grid_neg_coeff1.png)\n",
    "\n",
    "Low values correspond to more than average snow.\n",
    "\n",
    "### 3.2.2 Coeff2\n",
    "Coeff2: most positive\n",
    "![SNWD_grid_Pos_coeff2.png](myFigures/SNWD_grid_Pos_coeff2.png)\n",
    "\n",
    "Large positive values of coeff2 correspond to a snow season with several peaks: one at the start of Jan, one at the middle of Feb and one at the start of Mar. \n",
    "\n",
    "Coeff2: most negative\n",
    "![SNWD_grid_neg_coeff2.png](myFigures/SNWD_grid_neg_coeff2.png)\n",
    "\n",
    "Negative values for coeff2 correspond to a late snow season (most of the snow is after mid of Mar).\n",
    "\n",
    "### 3.2.3 Coeff3\n",
    "\n",
    "Coeff3: most positive\n",
    "![SNWD_grid_Pos_coeff3.png](myFigures/SNWD_grid_Pos_coeff3.png)\n",
    "\n",
    "Large positive values of coeff3 correspond to several small peaks which indicate a long duration of heavy snow.\n",
    "\n",
    "Coeff3: most negative\n",
    "![SNWD_grid_neg_coeff3.png](myFigures/SNWD_grid_neg_coeff3.png)\n",
    "\n",
    "Large negative values of coeff3 correspond to a slightly late snow season (most of the snow is after Mar).\n",
    "\n",
    "\n",
    "<p><img alt=\"SNWD_grid_dist_coeff1.png\" src=\"myFigures/SNWD_grid_dist_coeff1.png\" style=\"height:300px; width:400px\" /></p>\n",
    "\n",
    "<p><img alt=\"SNWD_grid_dist_coeff2.png\" src=\"myFigures/SNWD_grid_dist_coeff2.png\" style=\"height:300px; width:400px\" /></p>\n",
    "\n",
    "\n",
    "<p><img alt=\"SNWD_grid_dist_coeff3.png\" src=\"myFigures/SNWD_grid_dist_coeff3.png\" style=\"height:300px; width:400px\" /></p>\n",
    "\n",
    "\n",
    "To sum up, according to the three graphs above, we can conclude that distributions of first 3 coefficients are normal distributed."
   ]
  },
  {
   "cell_type": "markdown",
   "metadata": {
    "collapsed": true
   },
   "source": [
    "### 3.3 Estimating the effect of the year vs the effect of the station\n",
    "\n",
    "Then, we mainly focus on the effects of time factor and place factor towards the snowfall."
   ]
  },
  {
   "cell_type": "markdown",
   "metadata": {},
   "source": [
    "### 3.3.1 Visualized Distribution of stations\n",
    "\n",
    "![Cedar City Station Map.png](myFigures/Station Map.png)\n",
    "\n",
    "The above graph shows the station places distributed in the map, we could find that the topography of each station is relatively different.\n",
    "\n",
    "Since the difference exists in each station's topography, this may contribute some impact towards the snowfall and that's the reason why we want to analyze this factor."
   ]
  },
  {
   "cell_type": "markdown",
   "metadata": {},
   "source": [
    "### 3.3.2 Statistical Analysis \n",
    "\n",
    "Since the first three eigen-vectors of SNWD contains about 80% information, here we choose these 3 coeffs to represent SNWD.\n",
    "\n",
    "To estimate the relative importance of location-to-location variation relative to year-by-year variation, we build a matrix with year as row label, station as column label and different coeffs as item in the matrix.\n",
    "\n",
    "These are measured using the fraction by which the variance is reduced when we subtract from each station/year entry the average-per-year or the average-per-station respectively. Here are the results:"
   ]
  },
  {
   "cell_type": "markdown",
   "metadata": {},
   "source": [
    "**coeff_1** \n",
    "\n",
    "total MS = 11289133.92\n",
    "\n",
    "MS removing mean-by-station= 3536527.61, fraction explained=68.7%\n",
    "\n",
    "MS removing mean-by-year = 6277212.17, fraction explained=44.3%\n",
    "\n",
    "**coeff_2**\n",
    "\n",
    "total MS = 1511743.17\n",
    "\n",
    "MS removing mean-by-station= 1188617.63, fraction explained=21.37%\n",
    "\n",
    "MS removing mean-by-year = 738384.66, fraction explained=51.16%\n",
    "\n",
    "**coeff_3** \n",
    "\n",
    "total MS = 1106973.62\n",
    "\n",
    "MS removing mean-by-station= 1038254.48, fraction explained= 6.2%\n",
    "\n",
    "MS removing mean-by-year = 482709.30, fraction explained=56.4%\n",
    "\n",
    "We see that, for coeff1, the variation by station explains more than the variation by year. However, this effect is opposite for coeff2 and 3. For coeff2 and 3 variation by station explains less than the variation by year, which indicates that these coeffs have more effects on timing factors of snowfall."
   ]
  },
  {
   "cell_type": "markdown",
   "metadata": {},
   "source": [
    "### 3.4 Analyzing Residuals to find out relations between statations\n",
    "\n",
    "Finally, we begin to analyze the relationships between stations using residual analysis."
   ]
  },
  {
   "cell_type": "markdown",
   "metadata": {},
   "source": [
    "### 3.4.1 Testing Hypothesis\n",
    "**Null Hypothesis**: the snowfall in two stations is independent.\n",
    "\n",
    "By calculating probability of every two stations, we build a probability matrix as the following graph shows.\n"
   ]
  },
  {
   "cell_type": "markdown",
   "metadata": {},
   "source": [
    "<p><img alt=\"Station Corelation.png\" src=\"myFigures/Station Corelation.png\" style=\"height:500px; width:500px\" /></p>\n",
    "\n",
    "In this graph, the dark color means that two stations are strongly correlated, in contrast, the light color means that two stations are relatively uncorrelated."
   ]
  },
  {
   "cell_type": "markdown",
   "metadata": {},
   "source": [
    "<p><img alt=\"p-values-hist.png\" src=\"myFigures/p-values-hist.png\" style=\"height:300px; width:400px\" /></p>\n",
    "The figure above displays a histogram of the resulting p-values, and from the histogram we can conclude that the majority of stations are correlated, because most of the p-values are larger that a significance of 0.05."
   ]
  },
  {
   "cell_type": "markdown",
   "metadata": {},
   "source": [
    "### 3.4.2 Correlated Stations Grouping Analysis\n",
    "\n",
    "The following map shows 4 coeffs' scale for every station, and we are going to use these 4 coeffs to group correlated stations.\n",
    "![Group stations 1.png](myFigures/Topology Map.png)\n",
    "\n",
    "We apply PCA to obtain the first 4 eigen-vectors, and using these vectors to build the probability matrix like the one shown above.\n",
    "\n",
    "![Group stations 1.png](myFigures/Group stations 1.png)\n",
    "![Group stations 2.png](myFigures/Group stations 2.png)"
   ]
  },
  {
   "cell_type": "markdown",
   "metadata": {},
   "source": [
    "Figure above shows 4 probability matrix applying grouping. \n",
    "\n",
    "After we recorded the rows and columns using one of the eigenvectors, we can find some station groups. For example, the bottom right corner of the first matrix. Stations at position 0-12, 15-19 and 28-32 are clearly strongly correlated with each other. And in the second matrix, stations at position 0-4, 5-17 are strongly correlated. For other two matrices there also exists such grouping patterns.\n",
    "\n"
   ]
  },
  {
   "cell_type": "code",
   "execution_count": null,
   "metadata": {
    "collapsed": true
   },
   "outputs": [],
   "source": []
  }
 ],
 "metadata": {
  "kernelspec": {
   "display_name": "Python 2",
   "language": "python",
   "name": "python2"
  },
  "language_info": {
   "codemirror_mode": {
    "name": "ipython",
    "version": 2
   },
   "file_extension": ".py",
   "mimetype": "text/x-python",
   "name": "python",
   "nbconvert_exporter": "python",
   "pygments_lexer": "ipython2",
   "version": "2.7.13"
  },
  "toc": {
   "colors": {
    "hover_highlight": "#DAA520",
    "running_highlight": "#FF0000",
    "selected_highlight": "#FFD700"
   },
   "moveMenuLeft": true,
   "nav_menu": {
    "height": "48px",
    "width": "252px"
   },
   "navigate_menu": true,
   "number_sections": true,
   "sideBar": true,
   "threshold": 4,
   "toc_cell": false,
   "toc_section_display": "block",
   "toc_window_display": false,
   "widenNotebook": false
  }
 },
 "nbformat": 4,
 "nbformat_minor": 2
}
