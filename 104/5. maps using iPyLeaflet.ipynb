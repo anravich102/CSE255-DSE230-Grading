{
 "cells": [
  {
   "cell_type": "markdown",
   "metadata": {
    "run_control": {
     "frozen": false,
     "read_only": false
    }
   },
   "source": [
    "## iPyLeaflet\n",
    "[ipyleaflet](https://github.com/ellisonbg/ipyleaflet) is a bridge between jupyter notebooks and the [leaflet](http://leafletjs.com/)  javascript library for drawing maps.\n",
    "\n",
    "ipyleaflet comes with a few examples notebooks (this notebook was derived from one) but very little documentation,\n",
    "for more documentation read the [Leaflet IPA](http://leafletjs.com/reference.html)\n",
    "\n",
    "For installation directions, see the README on [ipyleaflet](https://github.com/ellisonbg/ipyleaflet)"
   ]
  },
  {
   "cell_type": "code",
   "execution_count": null,
   "metadata": {
    "run_control": {
     "frozen": false,
     "read_only": false
    }
   },
   "outputs": [],
   "source": [
    "from ipyleaflet import (\n",
    "    Map,\n",
    "    Marker,\n",
    "    TileLayer, ImageOverlay,\n",
    "    Polyline, Polygon, Rectangle, Circle, CircleMarker,\n",
    "    GeoJSON,\n",
    "    DrawControl\n",
    ")\n",
    "import ipywidgets as ipyw"
   ]
  },
  {
   "cell_type": "markdown",
   "metadata": {
    "run_control": {
     "frozen": false,
     "read_only": false
    }
   },
   "source": [
    "## Visualizing the distribution of the observations\n",
    "\n",
    "## Load the required libraries"
   ]
  },
  {
   "cell_type": "code",
   "execution_count": null,
   "metadata": {
    "collapsed": true
   },
   "outputs": [],
   "source": [
    "import matplotlib.pyplot as plt"
   ]
  },
  {
   "cell_type": "code",
   "execution_count": null,
   "metadata": {
    "run_control": {
     "frozen": false,
     "read_only": false
    }
   },
   "outputs": [],
   "source": [
    "import pandas as pd\n",
    "import numpy as np\n",
    "import sklearn as sk\n",
    "import urllib\n",
    "import math"
   ]
  },
  {
   "cell_type": "code",
   "execution_count": null,
   "metadata": {
    "collapsed": true
   },
   "outputs": [],
   "source": [
    "sc.stop()"
   ]
  },
  {
   "cell_type": "code",
   "execution_count": 4,
   "metadata": {
    "run_control": {
     "frozen": false,
     "read_only": false
    }
   },
   "outputs": [],
   "source": [
    "import findspark\n",
    "findspark.init()\n",
    "\n",
    "from pyspark import SparkContext\n",
    "#sc.stop()\n",
    "sc = SparkContext(master=\"local[3]\",pyFiles=['lib/numpy_pack.py','lib/computeStats.py'])\n",
    "\n",
    "from pyspark import SparkContext\n",
    "from pyspark.sql import *\n",
    "sqlContext = SQLContext(sc)"
   ]
  },
  {
   "cell_type": "code",
   "execution_count": 5,
   "metadata": {
    "run_control": {
     "frozen": false,
     "read_only": false
    }
   },
   "outputs": [],
   "source": [
    "import sys\n",
    "sys.path.append('./lib')\n",
    "\n",
    "import numpy as np\n",
    "from numpy_pack import packArray,unpackArray\n",
    "from computeStats import computeOverAllDist, STAT_Descriptions"
   ]
  },
  {
   "cell_type": "code",
   "execution_count": 47,
   "metadata": {
    "run_control": {
     "frozen": false,
     "read_only": false
    }
   },
   "outputs": [
    {
     "name": "stdout",
     "output_type": "stream",
     "text": [
      "('keys from STAT=', ['TMIN', 'TOBS', 'TMAX', 'SNOW', 'SNWD', 'PRCP'])\n",
      "1186\n",
      "+------------------+------------------+------------------+---------+--------+--------+---------+-----------+------------------+--------------------+--------------------+------------------+-----------+-----------+------+--------------------+------+\n",
      "|           coeff_1|           coeff_2|           coeff_3|elevation|   label|latitude|longitude|measurement|             res_1|               res_2|               res_3|          res_mean|    station|  total_var|undefs|              vector|  year|\n",
      "+------------------+------------------+------------------+---------+--------+--------+---------+-----------+------------------+--------------------+--------------------+------------------+-----------+-----------+------+--------------------+------+\n",
      "|3170.2660561990124|-244.6928970996399|180.35852466852654|      8.5|SSSBSSSB| 38.0167|-121.7667|       TOBS|0.0528546292095103|0.048992442664216575| 0.04948416401780212|0.8522288474799431|USC00040227|1.3252432E7|    18|[90 55 90 55 00 7...|1954.0|\n",
      "|3108.0411935130724|327.57265316136403|-18.98511076256294|     11.6|SSSBSSSB| 37.5422|-122.0158|       TOBS| 0.057867027616521|0.049785962204356604|0.049494824374656035|0.8493777481812643|USC00043244|1.2783347E7|    14|[80 58 A0 56 A0 5...|2006.0|\n",
      "+------------------+------------------+------------------+---------+--------+--------+---------+-----------+------------------+--------------------+--------------------+------------------+-----------+-----------+------+--------------------+------+\n",
      "only showing top 2 rows\n",
      "\n"
     ]
    }
   ],
   "source": [
    "### Read the data frame from pickle file\n",
    "\n",
    "data_dir='../../Data/Weather'\n",
    "file_index='SSSBSSSB'\n",
    "meas='TOBS'\n",
    "\n",
    "from pickle import load\n",
    "\n",
    "#read statistics\n",
    "filename=data_dir+'/STAT_%s.pickle'%file_index\n",
    "STAT,STAT_Descriptions = load(open(filename,'rb'))\n",
    "print('keys from STAT=',STAT.keys())\n",
    "\n",
    "#!ls -ld $data_dir/*.parquet\n",
    "\n",
    "#read data\n",
    "filename=data_dir+'/decon_%s_%s.parquet'%(file_index,meas)\n",
    "\n",
    "df=sqlContext.read.parquet(filename)\n",
    "print(df.count())\n",
    "df.show(2)"
   ]
  },
  {
   "cell_type": "code",
   "execution_count": 48,
   "metadata": {
    "run_control": {
     "frozen": false,
     "read_only": false
    },
    "scrolled": true
   },
   "outputs": [
    {
     "name": "stdout",
     "output_type": "stream",
     "text": [
      "SELECT station, latitude,longitude,elevation,coeff_1 FROM weather\n",
      "+-----------+--------+---------+---------+------------------+\n",
      "|    station|latitude|longitude|elevation|           coeff_1|\n",
      "+-----------+--------+---------+---------+------------------+\n",
      "|USC00040227| 38.0167|-121.7667|      8.5|3170.2660561990124|\n",
      "|USC00043244| 37.5422|-122.0158|     11.6|3108.0411935130724|\n",
      "|USC00040227| 38.0167|-121.7667|      8.5| 2565.349424504142|\n",
      "|USC00047864| 37.5333|   -122.3|      6.1| 3029.872612038221|\n",
      "+-----------+--------+---------+---------+------------------+\n",
      "only showing top 4 rows\n",
      "\n"
     ]
    }
   ],
   "source": [
    "#extract longitude and latitude for each station\n",
    "feature='coeff_1'\n",
    "sqlContext.registerDataFrameAsTable(df,'weather')\n",
    "Query=\"SELECT station, latitude,longitude,elevation,%s FROM weather\"%feature\n",
    "print(Query)\n",
    "df1 = sqlContext.sql(Query)\n",
    "df1.show(4)"
   ]
  },
  {
   "cell_type": "code",
   "execution_count": 49,
   "metadata": {},
   "outputs": [
    {
     "name": "stdout",
     "output_type": "stream",
     "text": [
      "SELECT * FROM weather where 1=2\n",
      "+-------+-------+-------+---------+-----+--------+---------+-----------+-----+-----+-----+--------+-------+---------+------+------+----+\n",
      "|coeff_1|coeff_2|coeff_3|elevation|label|latitude|longitude|measurement|res_1|res_2|res_3|res_mean|station|total_var|undefs|vector|year|\n",
      "+-------+-------+-------+---------+-----+--------+---------+-----------+-----+-----+-----+--------+-------+---------+------+------+----+\n",
      "+-------+-------+-------+---------+-----+--------+---------+-----------+-----+-----+-----+--------+-------+---------+------+------+----+\n",
      "\n"
     ]
    }
   ],
   "source": [
    "q=\"SELECT * FROM weather where 1=2\"\n",
    "print(q)\n",
    "temp = sqlContext.sql(q)\n",
    "temp.show(4)"
   ]
  },
  {
   "cell_type": "code",
   "execution_count": 50,
   "metadata": {
    "run_control": {
     "frozen": false,
     "read_only": false
    }
   },
   "outputs": [
    {
     "data": {
      "text/html": [
       "<div>\n",
       "<style>\n",
       "    .dataframe thead tr:only-child th {\n",
       "        text-align: right;\n",
       "    }\n",
       "\n",
       "    .dataframe thead th {\n",
       "        text-align: left;\n",
       "    }\n",
       "\n",
       "    .dataframe tbody tr th {\n",
       "        vertical-align: top;\n",
       "    }\n",
       "</style>\n",
       "<table border=\"1\" class=\"dataframe\">\n",
       "  <thead>\n",
       "    <tr style=\"text-align: right;\">\n",
       "      <th></th>\n",
       "      <th>station</th>\n",
       "      <th>latitude</th>\n",
       "      <th>longitude</th>\n",
       "      <th>elevation</th>\n",
       "      <th>count(station)</th>\n",
       "      <th>avg(coeff_1)</th>\n",
       "    </tr>\n",
       "  </thead>\n",
       "  <tbody>\n",
       "    <tr>\n",
       "      <th>23</th>\n",
       "      <td>USC00040227</td>\n",
       "      <td>38.0167</td>\n",
       "      <td>-121.7667</td>\n",
       "      <td>8.5</td>\n",
       "      <td>30</td>\n",
       "      <td>3033.352288</td>\n",
       "    </tr>\n",
       "    <tr>\n",
       "      <th>33</th>\n",
       "      <td>USC00040232</td>\n",
       "      <td>37.9856</td>\n",
       "      <td>-121.7458</td>\n",
       "      <td>18.3</td>\n",
       "      <td>44</td>\n",
       "      <td>2444.520074</td>\n",
       "    </tr>\n",
       "  </tbody>\n",
       "</table>\n",
       "</div>"
      ],
      "text/plain": [
       "        station  latitude  longitude  elevation  count(station)  avg(coeff_1)\n",
       "23  USC00040227   38.0167  -121.7667        8.5              30   3033.352288\n",
       "33  USC00040232   37.9856  -121.7458       18.3              44   2444.520074"
      ]
     },
     "execution_count": 50,
     "metadata": {},
     "output_type": "execute_result"
    }
   ],
   "source": [
    "df2=df1.groupby(['station','latitude','longitude','elevation']).agg({\"station\": \"count\", feature: \"mean\"})\n",
    "pdf=df2.toPandas()\n",
    "pdf.sort_values(by=['station'],inplace=True)\n",
    "pdf.head(2)"
   ]
  },
  {
   "cell_type": "code",
   "execution_count": 12,
   "metadata": {},
   "outputs": [
    {
     "data": {
      "image/png": "[encoded data removed]",
      "text/plain": [
       "<matplotlib.figure.Figure at 0x1043f21d0>"
      ]
     },
     "metadata": {},
     "output_type": "display_data"
    }
   ],
   "source": [
    "a = pdf.loc[:,'avg(coeff_1)'].tolist()\n",
    "a = np.matrix(a)\n",
    "plt.imshow(a)\n",
    "plt.show()"
   ]
  },
  {
   "cell_type": "code",
   "execution_count": null,
   "metadata": {},
   "outputs": [],
   "source": [
    "a"
   ]
  },
  {
   "cell_type": "code",
   "execution_count": 53,
   "metadata": {
    "run_control": {
     "frozen": false,
     "read_only": false
    }
   },
   "outputs": [
    {
     "data": {
      "text/plain": [
       "u'#0018ff'"
      ]
     },
     "execution_count": 53,
     "metadata": {},
     "output_type": "execute_result"
    }
   ],
   "source": [
    "#define a mapping from the range of the value to hex colors.\n",
    "from matplotlib.colors import rgb2hex\n",
    "_avg='avg(%s)'%feature\n",
    "_min=pdf[_avg].min()\n",
    "_max=pdf[_avg].max()\n",
    "_min,_max\n",
    "\n",
    "import pylab as plt\n",
    "cmap=plt.get_cmap('jet')\n",
    "def get_color(val):\n",
    "    x=(val-_min)/(_max-_min)\n",
    "    return(rgb2hex(cmap(x)[:3]))\n",
    "\n",
    "get_color(2000)"
   ]
  },
  {
   "cell_type": "markdown",
   "metadata": {
    "run_control": {
     "frozen": false,
     "read_only": false
    }
   },
   "source": [
    "## Map"
   ]
  },
  {
   "cell_type": "code",
   "execution_count": 54,
   "metadata": {
    "collapsed": true,
    "run_control": {
     "frozen": false,
     "read_only": false
    }
   },
   "outputs": [],
   "source": [
    "min_lat,max_lat,min_long,max_long = box = (37.4833, 38.2103, -123.0, -120.867)\n"
   ]
  },
  {
   "cell_type": "code",
   "execution_count": 55,
   "metadata": {
    "run_control": {
     "frozen": false,
     "read_only": false
    }
   },
   "outputs": [
    {
     "data": {
      "application/vnd.jupyter.widget-view+json": {
       "model_id": "b728e64034e2435d8f27d283090d4115"
      }
     },
     "metadata": {},
     "output_type": "display_data"
    }
   ],
   "source": [
    "center = [(min_lat+max_lat)/2, (min_long+max_long)/2]\n",
    "zoom = 8\n",
    "\n",
    "m = Map(default_tiles=TileLayer(opacity=1.0), center=center, zoom=zoom)\n",
    "\n",
    "r = Rectangle(bounds=[[min_lat,min_long],[max_lat,max_long]], weight=5, fill_opacity=0.0)\n",
    "m += r\n",
    "\n",
    "lat_margin=(max_lat-min_lat)/4\n",
    "long_margin=(max_long-min_long)/4\n",
    "circles = []\n",
    "foo = []\n",
    "coeff_list = []\n",
    "for index,row in pdf.iterrows():\n",
    "    _lat=row['latitude']\n",
    "    _long=row['longitude']\n",
    "    _count=row['count(station)']\n",
    "    _coef=row[_avg]\n",
    "    coeff_list.append(_coef)\n",
    "    # taking sqrt of count so that the  area of the circle corresponds to the count\n",
    "    c = Circle(location=(_lat,_long), radius=int(1800*np.sqrt(_count+0.0)), weight=1,\n",
    "            color='#F00', opacity=0.8, fill_opacity=0.4,\n",
    "            fill_color=get_color(_coef))\n",
    "    foo.append((_coef,get_color(_coef)))\n",
    "    circles.append(c)\n",
    "    m.add_layer(c)\n",
    "\n",
    "m    "
   ]
  },
  {
   "cell_type": "code",
   "execution_count": 42,
   "metadata": {
    "collapsed": true
   },
   "outputs": [
    {
     "data": {
      "text/plain": [
       "[(-285.0949183458735, u'#0000bb'),\n",
       " (1139.1839210693972, u'#00d0ff'),\n",
       " (1242.0926329903618, u'#00e4f8'),\n",
       " (2046.092393582445, u'#80ff77'),\n",
       " (4598.653269789525, u'#800000'),\n",
       " (1352.164196433992, u'#0ff8e7'),\n",
       " (13.773910738376458, u'#0000ff'),\n",
       " (1896.866577529627, u'#66ff90'),\n",
       " (657.8147663210381, u'#0070ff'),\n",
       " (954.7868377963434, u'#00acff'),\n",
       " (180.80385202427837, u'#0010ff'),\n",
       " (678.6759545282389, u'#0074ff'),\n",
       " (160.16418879084947, u'#000cff'),\n",
       " (241.55865104269904, u'#001cff'),\n",
       " (253.31710787808723, u'#0020ff'),\n",
       " (52.97310168554576, u'#0000ff'),\n",
       " (900.1046729638351, u'#00a0ff'),\n",
       " (470.3785625472372, u'#004cff'),\n",
       " (424.3877494392482, u'#0040ff'),\n",
       " (-558.9021205427215, u'#000080'),\n",
       " (535.9980523296277, u'#0058ff'),\n",
       " (1259.7394504260621, u'#02e8f4'),\n",
       " (3509.440740802786, u'#ff7300'),\n",
       " (5.093555965260021, u'#0000fa'),\n",
       " (-20.793879999364226, u'#0000f6'),\n",
       " (990.554418637414, u'#00b0ff'),\n",
       " (358.6794972347664, u'#0034ff'),\n",
       " (446.9930781290191, u'#0044ff'),\n",
       " (-134.447583291915, u'#0000df'),\n",
       " (455.7129396679224, u'#0048ff'),\n",
       " (81.35633247804272, u'#0000ff'),\n",
       " (179.46367878258133, u'#0010ff'),\n",
       " (-65.25671198676591, u'#0000ed'),\n",
       " (336.7106608014727, u'#0030ff'),\n",
       " (163.60331881315108, u'#000cff'),\n",
       " (950.3776251650911, u'#00a8ff'),\n",
       " (567.2403391458906, u'#005cff'),\n",
       " (657.6181956135033, u'#0070ff'),\n",
       " (240.47760368180724, u'#001cff'),\n",
       " (392.42151198514256, u'#003cff'),\n",
       " (504.05441051946497, u'#0050ff'),\n",
       " (656.9192611531284, u'#0070ff'),\n",
       " (134.17689528749258, u'#0008ff'),\n",
       " (586.5277699957873, u'#0060ff'),\n",
       " (106.24836129845922, u'#0004ff'),\n",
       " (93.6571541827671, u'#0000ff'),\n",
       " (-341.82894494467, u'#0000ad')]"
      ]
     },
     "execution_count": 42,
     "metadata": {},
     "output_type": "execute_result"
    }
   ],
   "source": [
    "sorted(foo"
   ]
  },
  {
   "cell_type": "code",
   "execution_count": 26,
   "metadata": {},
   "outputs": [
    {
     "data": {
      "image/png": "[encoded data removed]",
      "text/plain": [
       "<matplotlib.figure.Figure at 0x10f6a0850>"
      ]
     },
     "metadata": {},
     "output_type": "display_data"
    }
   ],
   "source": [
    "\n",
    "\n",
    "fig,ax = plt.subplots()\n",
    "coeff_list = np.asarray(coeff_list)\n",
    "coeff_list = np.reshape(coeff_list,(8,6))\n",
    "cax = ax.imshow(coeff_list, cmap='cool', interpolation='nearest')\n",
    "#cbar = fig.colorbar(cax, ticks=[-1, 0, 1])\n",
    "cbar = fig.colorbar(cax)\n",
    "#cbar.ax.set_yticklabels(['-1', '0', '1'],minor = False)        \n",
    "#plt.savefig(\"Activations/Activation_Neuron_\"+str(i))\n",
    "#plt.gcf().clear()\n",
    "#plt.close()\n",
    "plt.show()"
   ]
  },
  {
   "cell_type": "code",
   "execution_count": 40,
   "metadata": {},
   "outputs": [
    {
     "data": {
      "text/plain": [
       "[-558.9021205427215,\n",
       " -341.82894494467,\n",
       " -285.0949183458735,\n",
       " -134.447583291915,\n",
       " -65.25671198676591,\n",
       " -20.793879999364226,\n",
       " 5.093555965260021,\n",
       " 13.773910738376458,\n",
       " 52.97310168554576,\n",
       " 81.35633247804272,\n",
       " 93.6571541827671,\n",
       " 106.24836129845922,\n",
       " 134.17689528749258,\n",
       " 160.16418879084947,\n",
       " 163.60331881315108,\n",
       " 179.46367878258133,\n",
       " 180.80385202427837,\n",
       " 240.47760368180724,\n",
       " 241.55865104269904,\n",
       " 253.31710787808723,\n",
       " 336.7106608014727,\n",
       " 358.6794972347664,\n",
       " 392.42151198514256,\n",
       " 424.3877494392482,\n",
       " 446.9930781290191,\n",
       " 455.7129396679224,\n",
       " 470.3785625472372,\n",
       " 504.05441051946497,\n",
       " 535.9980523296277,\n",
       " 567.2403391458906,\n",
       " 586.5277699957873,\n",
       " 656.9192611531284,\n",
       " 657.6181956135033,\n",
       " 657.8147663210381,\n",
       " 678.6759545282389,\n",
       " 900.1046729638351,\n",
       " 950.3776251650911,\n",
       " 954.7868377963434,\n",
       " 990.554418637414,\n",
       " 1139.1839210693972,\n",
       " 1242.0926329903618,\n",
       " 1259.7394504260621,\n",
       " 1352.164196433992,\n",
       " 1896.866577529627,\n",
       " 2046.092393582445,\n",
       " 3509.440740802786,\n",
       " 4598.653269789525]"
      ]
     },
     "execution_count": 40,
     "metadata": {},
     "output_type": "execute_result"
    }
   ],
   "source": [
    "sorted(coeff_list)"
   ]
  },
  {
   "cell_type": "code",
   "execution_count": 20,
   "metadata": {},
   "outputs": [
    {
     "data": {
      "text/plain": [
       "47"
      ]
     },
     "execution_count": 20,
     "metadata": {},
     "output_type": "execute_result"
    }
   ],
   "source": [
    "len(coeff_list)"
   ]
  },
  {
   "cell_type": "code",
   "execution_count": 43,
   "metadata": {},
   "outputs": [
    {
     "data": {
      "text/plain": [
       "[(-558.9021205427215, u'#000080'),\n",
       " (-341.82894494467, u'#0000ad'),\n",
       " (-285.0949183458735, u'#0000bb'),\n",
       " (-134.447583291915, u'#0000df'),\n",
       " (-65.25671198676591, u'#0000ed'),\n",
       " (-20.793879999364226, u'#0000f6'),\n",
       " (5.093555965260021, u'#0000fa'),\n",
       " (13.773910738376458, u'#0000ff'),\n",
       " (52.97310168554576, u'#0000ff'),\n",
       " (81.35633247804272, u'#0000ff'),\n",
       " (93.6571541827671, u'#0000ff'),\n",
       " (106.24836129845922, u'#0004ff'),\n",
       " (134.17689528749258, u'#0008ff'),\n",
       " (160.16418879084947, u'#000cff'),\n",
       " (163.60331881315108, u'#000cff'),\n",
       " (179.46367878258133, u'#0010ff'),\n",
       " (180.80385202427837, u'#0010ff'),\n",
       " (240.47760368180724, u'#001cff'),\n",
       " (241.55865104269904, u'#001cff'),\n",
       " (253.31710787808723, u'#0020ff'),\n",
       " (336.7106608014727, u'#0030ff'),\n",
       " (358.6794972347664, u'#0034ff'),\n",
       " (392.42151198514256, u'#003cff'),\n",
       " (424.3877494392482, u'#0040ff'),\n",
       " (446.9930781290191, u'#0044ff'),\n",
       " (455.7129396679224, u'#0048ff'),\n",
       " (470.3785625472372, u'#004cff'),\n",
       " (504.05441051946497, u'#0050ff'),\n",
       " (535.9980523296277, u'#0058ff'),\n",
       " (567.2403391458906, u'#005cff'),\n",
       " (586.5277699957873, u'#0060ff'),\n",
       " (656.9192611531284, u'#0070ff'),\n",
       " (657.6181956135033, u'#0070ff'),\n",
       " (657.8147663210381, u'#0070ff'),\n",
       " (678.6759545282389, u'#0074ff'),\n",
       " (900.1046729638351, u'#00a0ff'),\n",
       " (950.3776251650911, u'#00a8ff'),\n",
       " (954.7868377963434, u'#00acff'),\n",
       " (990.554418637414, u'#00b0ff'),\n",
       " (1139.1839210693972, u'#00d0ff'),\n",
       " (1242.0926329903618, u'#00e4f8'),\n",
       " (1259.7394504260621, u'#02e8f4'),\n",
       " (1352.164196433992, u'#0ff8e7'),\n",
       " (1896.866577529627, u'#66ff90'),\n",
       " (2046.092393582445, u'#80ff77'),\n",
       " (3509.440740802786, u'#ff7300'),\n",
       " (4598.653269789525, u'#800000')]"
      ]
     },
     "execution_count": 43,
     "metadata": {},
     "output_type": "execute_result"
    }
   ],
   "source": [
    "sorted(foo)"
   ]
  },
  {
   "cell_type": "markdown",
   "metadata": {
    "run_control": {
     "frozen": false,
     "read_only": false
    }
   },
   "source": [
    "### excercises:\n",
    "* Add a legend that relates the colors to values.\n",
    "* Leaflet supports a variety of maps. See if you can get a topographical map as the background."
   ]
  },
  {
   "cell_type": "code",
   "execution_count": 51,
   "metadata": {
    "run_control": {
     "frozen": false,
     "read_only": false
    }
   },
   "outputs": [
    {
     "data": {
      "image/png": "[encoded data removed]",
      "text/plain": [
       "<matplotlib.figure.Figure at 0x111c7ccd0>"
      ]
     },
     "metadata": {},
     "output_type": "display_data"
    }
   ],
   "source": [
    "%matplotlib inline\n",
    "pdf.plot.scatter(x='elevation',y='avg(coeff_1)');"
   ]
  },
  {
   "cell_type": "code",
   "execution_count": null,
   "metadata": {
    "collapsed": true,
    "run_control": {
     "frozen": false,
     "read_only": false
    }
   },
   "outputs": [],
   "source": []
  },
  {
   "cell_type": "code",
   "execution_count": null,
   "metadata": {},
   "outputs": [],
   "source": [
    "RDD1=sc.parallelize([\"spark  basics\", \"spark big  data analysis\", \"spring\"]) \n",
    "RDD2=sc.parallelize([\"spark using pyspark\", \"big data\"])\n",
    " \n",
    "RDD1.subtract(RDD2).collect()"
   ]
  },
  {
   "cell_type": "code",
   "execution_count": null,
   "metadata": {
    "collapsed": true
   },
   "outputs": [],
   "source": []
  }
 ],
 "metadata": {
  "anaconda-cloud": {},
  "hide_input": false,
  "kernelspec": {
   "display_name": "Python [default]",
   "language": "python",
   "name": "python2"
  },
  "language_info": {
   "codemirror_mode": {
    "name": "ipython",
    "version": 2
   },
   "file_extension": ".py",
   "mimetype": "text/x-python",
   "name": "python",
   "nbconvert_exporter": "python",
   "pygments_lexer": "ipython2",
   "version": "2.7.12"
  },
  "toc": {
   "colors": {
    "hover_highlight": "#DAA520",
    "running_highlight": "#FF0000",
    "selected_highlight": "#FFD700"
   },
   "moveMenuLeft": true,
   "nav_menu": {
    "height": "174px",
    "width": "252px"
   },
   "navigate_menu": true,
   "number_sections": true,
   "sideBar": true,
   "threshold": 4,
   "toc_cell": false,
   "toc_section_display": "block",
   "toc_window_display": false
  },
  "widgets": {
   "state": {},
   "version": "1.0.0"
  }
 },
 "nbformat": 4,
 "nbformat_minor": 1
}
