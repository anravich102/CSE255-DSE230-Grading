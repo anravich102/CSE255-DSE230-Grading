{
 "cells": [
  {
   "cell_type": "code",
   "execution_count": 1,
   "metadata": {
    "collapsed": true,
    "deletable": true,
    "editable": true,
    "run_control": {
     "frozen": false,
     "read_only": false
    }
   },
   "outputs": [],
   "source": [
    "#setup\n",
    "data_dir='../../Data/Weather'\n",
    "file_index='BBBSBBBB'\n",
    "m='PRCP'"
   ]
  },
  {
   "cell_type": "markdown",
   "metadata": {
    "deletable": true,
    "editable": true,
    "run_control": {
     "frozen": false,
     "read_only": false
    },
    "slideshow": {
     "slide_type": "slide"
    },
    "variables": {
     "m": "PRCP"
    }
   },
   "source": [
    "# Reconstruction using top eigen-vectors\n",
    "For measurement = {{m}}"
   ]
  },
  {
   "cell_type": "markdown",
   "metadata": {
    "deletable": true,
    "editable": true,
    "run_control": {
     "frozen": false,
     "read_only": false
    },
    "slideshow": {
     "slide_type": "skip"
    }
   },
   "source": [
    "## Load the required libraries"
   ]
  },
  {
   "cell_type": "code",
   "execution_count": 2,
   "metadata": {
    "collapsed": false,
    "deletable": true,
    "editable": true,
    "run_control": {
     "frozen": false,
     "read_only": false
    },
    "slideshow": {
     "slide_type": "skip"
    }
   },
   "outputs": [],
   "source": [
    "# Enable automiatic reload of libraries\n",
    "#%load_ext autoreload\n",
    "#%autoreload 2 # means that all modules are reloaded before every command"
   ]
  },
  {
   "cell_type": "code",
   "execution_count": 3,
   "metadata": {
    "collapsed": false,
    "deletable": true,
    "editable": true,
    "run_control": {
     "frozen": false,
     "read_only": false
    },
    "slideshow": {
     "slide_type": "skip"
    }
   },
   "outputs": [
    {
     "name": "stdout",
     "output_type": "stream",
     "text": [
      "Populating the interactive namespace from numpy and matplotlib\n",
      "    pandas as    pd \tversion=0.19.2 \trequired version>=0.19.2\n",
      "     numpy as    np \tversion=1.12.0 \trequired version>=1.12.0\n",
      "   sklearn as    sk \tversion=0.18.1 \trequired version>=0.18.1\n",
      "    urllib as urllib \tversion=1.17 \trequired version>=1.17\n",
      "   pyspark as pyspark \tversion=2.1.0+hadoop2.7 \trequired version>=2.1.0\n",
      "ipywidgets as ipywidgets \tversion=6.0.0 \trequired version>=6.0.0\n"
     ]
    }
   ],
   "source": [
    "%pylab inline\n",
    "import numpy as np\n",
    "\n",
    "import findspark\n",
    "findspark.init()\n",
    "\n",
    "import sys\n",
    "sys.path.append('./lib')\n",
    "\n",
    "from numpy_pack import packArray,unpackArray\n",
    "\n",
    "from Eigen_decomp import Eigen_decomp\n",
    "from YearPlotter import YearPlotter\n",
    "from recon_plot import recon_plot\n",
    "\n",
    "from import_modules import import_modules,modules\n",
    "import_modules(modules)\n",
    "\n",
    "from ipywidgets import interactive,widgets"
   ]
  },
  {
   "cell_type": "code",
   "execution_count": 4,
   "metadata": {
    "collapsed": false,
    "deletable": true,
    "editable": true,
    "run_control": {
     "frozen": false,
     "read_only": false
    },
    "slideshow": {
     "slide_type": "skip"
    }
   },
   "outputs": [],
   "source": [
    "from pyspark import SparkContext\n",
    "#sc.stop()\n",
    "\n",
    "sc = SparkContext(master=\"local[3]\",pyFiles=['lib/numpy_pack.py','lib/spark_PCA.py','lib/computeStats.py','lib/recon_plot.py','lib/Eigen_decomp.py'])\n",
    "\n",
    "from pyspark import SparkContext\n",
    "from pyspark.sql import *\n",
    "sqlContext = SQLContext(sc)\n",
    "\n",
    "\n",
    "\n"
   ]
  },
  {
   "cell_type": "markdown",
   "metadata": {
    "deletable": true,
    "editable": true,
    "run_control": {
     "frozen": false,
     "read_only": false
    },
    "slideshow": {
     "slide_type": "slide"
    }
   },
   "source": [
    "## Read Statistics File"
   ]
  },
  {
   "cell_type": "code",
   "execution_count": 5,
   "metadata": {
    "collapsed": true,
    "deletable": true,
    "editable": true,
    "run_control": {
     "frozen": false,
     "read_only": false
    },
    "slideshow": {
     "slide_type": "fragment"
    }
   },
   "outputs": [],
   "source": [
    "data_dir='../../Data/Weather'\n",
    "file_index='BBBSBBBB'"
   ]
  },
  {
   "cell_type": "code",
   "execution_count": 6,
   "metadata": {
    "collapsed": false,
    "deletable": true,
    "editable": true,
    "run_control": {
     "frozen": false,
     "read_only": false
    },
    "slideshow": {
     "slide_type": "subslide"
    }
   },
   "outputs": [
    {
     "name": "stdout",
     "output_type": "stream",
     "text": [
      "keys from STAT= ['TMIN', 'TOBS', 'TMAX', 'SNOW', 'SNWD', 'PRCP']\n"
     ]
    }
   ],
   "source": [
    "from pickle import load\n",
    "\n",
    "#read statistics\n",
    "filename=data_dir+'/STAT_%s.pickle'%file_index\n",
    "STAT,STAT_Descriptions = load(open(filename,'rb'))\n",
    "measurements=STAT.keys()\n",
    "print 'keys from STAT=',measurements"
   ]
  },
  {
   "cell_type": "markdown",
   "metadata": {
    "deletable": true,
    "editable": true,
    "run_control": {
     "frozen": false,
     "read_only": false
    },
    "slideshow": {
     "slide_type": "slide"
    }
   },
   "source": [
    "## Read data file into a spark DataFrame\n",
    "We focus on the snow-depth records, because the eigen-vectors for them make sense."
   ]
  },
  {
   "cell_type": "code",
   "execution_count": 7,
   "metadata": {
    "collapsed": false,
    "deletable": true,
    "editable": true,
    "run_control": {
     "frozen": false,
     "read_only": false
    },
    "scrolled": true,
    "slideshow": {
     "slide_type": "subslide"
    }
   },
   "outputs": [
    {
     "name": "stdout",
     "output_type": "stream",
     "text": [
      "+---------+--------+---------+-----------+-----------+------+--------------------+------+--------+\n",
      "|elevation|latitude|longitude|measurement|    station|undefs|              vector|  year|   label|\n",
      "+---------+--------+---------+-----------+-----------+------+--------------------+------+--------+\n",
      "|    348.1| 42.3833|    -72.4|       PRCP|USC00196256|     6|[00 00 00 00 00 7...|1956.0|BBBSBBBB|\n",
      "|      6.1| 42.4667|    -70.9|       PRCP|USC00198301|     1|[00 00 00 00 00 0...|1931.0|BBBSBBBB|\n",
      "|      6.1| 42.4667|    -70.9|       PRCP|USC00198301|     4|[00 00 4C 61 20 5...|1932.0|BBBSBBBB|\n",
      "|      6.1| 42.4667|    -70.9|       PRCP|USC00198301|    12|[00 00 00 00 00 0...|1933.0|BBBSBBBB|\n",
      "|      6.1| 42.4667|    -70.9|       PRCP|USC00198301|    20|[00 48 80 4A 00 7...|1934.0|BBBSBBBB|\n",
      "+---------+--------+---------+-----------+-----------+------+--------------------+------+--------+\n",
      "only showing top 5 rows\n",
      "\n"
     ]
    }
   ],
   "source": [
    "#read data\n",
    "filename=data_dir+'/US_Weather_%s.parquet'%file_index\n",
    "df_in=sqlContext.read.parquet(filename)\n",
    "#filter in \n",
    "df=df_in.filter(df_in.measurement==m)\n",
    "df.show(5)"
   ]
  },
  {
   "cell_type": "markdown",
   "metadata": {
    "deletable": true,
    "editable": true,
    "run_control": {
     "frozen": false,
     "read_only": false
    },
    "slideshow": {
     "slide_type": "subslide"
    }
   },
   "source": [
    "### Create a matrix with all of the series"
   ]
  },
  {
   "cell_type": "code",
   "execution_count": 8,
   "metadata": {
    "collapsed": false,
    "deletable": true,
    "editable": true,
    "run_control": {
     "frozen": false,
     "read_only": false
    }
   },
   "outputs": [
    {
     "data": {
      "text/plain": [
       "(3801, 365)"
      ]
     },
     "execution_count": 8,
     "metadata": {},
     "output_type": "execute_result"
    }
   ],
   "source": [
    "rows=df.rdd.map(lambda row:unpackArray(row['vector'],np.float16)).collect()\n",
    "\n",
    "T=np.vstack(rows)\n",
    "shape(T)"
   ]
  },
  {
   "cell_type": "markdown",
   "metadata": {
    "deletable": true,
    "editable": true,
    "run_control": {
     "frozen": false,
     "read_only": false
    },
    "slideshow": {
     "slide_type": "subslide"
    }
   },
   "source": [
    "### Plot two time series\n",
    "`SNWD` stands for `snow-depth`, which explains why it is zero during the summer"
   ]
  },
  {
   "cell_type": "code",
   "execution_count": 9,
   "metadata": {
    "collapsed": false,
    "deletable": true,
    "editable": true,
    "run_control": {
     "frozen": false,
     "read_only": false
    },
    "slideshow": {
     "slide_type": "fragment"
    }
   },
   "outputs": [
    {
     "data": {
      "image/png": "iVBORw0KGgoAAAANSUhEUgAAAXoAAAD6CAYAAACvZ4z8AAAABHNCSVQICAgIfAhkiAAAAAlwSFlz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\nSUVORK5CYII=\n",
      "text/plain": [
       "<matplotlib.figure.Figure at 0x10e711d10>"
      ]
     },
     "metadata": {},
     "output_type": "display_data"
    }
   ],
   "source": [
    "fig, ax = plt.subplots(figsize=(6,4));\n",
    "YP=YearPlotter()\n",
    "YP.plot(T[16:18].transpose(),fig,ax,title=m)"
   ]
  },
  {
   "cell_type": "markdown",
   "metadata": {
    "deletable": true,
    "editable": true,
    "run_control": {
     "frozen": false,
     "read_only": false
    },
    "slideshow": {
     "slide_type": "slide"
    }
   },
   "source": [
    "### Plot Reconstructions\n",
    "\n",
    "Construct approximations of a time series using the mean and the $k$ top eigen-vectors\n",
    "First, we plot the mean and the top $k$ eigenvectors"
   ]
  },
  {
   "cell_type": "code",
   "execution_count": 10,
   "metadata": {
    "collapsed": false,
    "deletable": true,
    "editable": true,
    "run_control": {
     "frozen": false,
     "read_only": false
    },
    "scrolled": false,
    "slideshow": {
     "slide_type": "subslide"
    }
   },
   "outputs": [
    {
     "data": {
      "image/png": "iVBORw0KGgoAAAANSUhEUgAAAl8AAAFcCAYAAAD2w9suAAAABHNCSVQICAgIfAhkiAAAAAlwSFlz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\n