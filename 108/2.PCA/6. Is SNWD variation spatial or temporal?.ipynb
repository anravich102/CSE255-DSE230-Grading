{
 "cells": [
  {
   "cell_type": "markdown",
   "metadata": {
    "run_control": {
     "frozen": false,
     "read_only": false
    }
   },
   "source": [
    "## Analyze whether SNWD varies more from year to year or from place to place."
   ]
  },
  {
   "cell_type": "code",
   "execution_count": 1,
   "metadata": {
    "collapsed": true,
    "run_control": {
     "frozen": false,
     "read_only": false
    }
   },
   "outputs": [],
   "source": [
    "import pandas as pd\n",
    "import numpy as np\n",
    "import urllib\n",
    "import math"
   ]
  },
  {
   "cell_type": "code",
   "execution_count": 2,
   "metadata": {
    "collapsed": true,
    "run_control": {
     "frozen": false,
     "read_only": false
    }
   },
   "outputs": [],
   "source": [
    "import findspark\n",
    "findspark.init()\n",
    "\n",
    "from pyspark import SparkContext\n",
    "#sc.stop()\n",
    "sc = SparkContext(master=\"local[3]\",pyFiles=['lib/numpy_pack.py','lib/spark_PCA.py','lib/computeStats.py'])\n",
    "\n",
    "from pyspark import SparkContext\n",
    "from pyspark.sql import *\n",
    "sqlContext = SQLContext(sc)"
   ]
  },
  {
   "cell_type": "code",
   "execution_count": 3,
   "metadata": {
    "collapsed": true,
    "run_control": {
     "frozen": false,
     "read_only": false
    }
   },
   "outputs": [],
   "source": [
    "import sys\n",
    "sys.path.append('./lib')\n",
    "\n",
    "import numpy as np\n",
    "from numpy_pack import packArray,unpackArray\n",
    "from spark_PCA import computeCov\n",
    "from computeStats import computeOverAllDist, STAT_Descriptions"
   ]
  },
  {
   "cell_type": "code",
   "execution_count": 4,
   "metadata": {
    "run_control": {
     "frozen": false,
     "read_only": false
    },
    "scrolled": true
   },
   "outputs": [
    {
     "name": "stdout",
     "output_type": "stream",
     "text": [
      "('keys from STAT=', ['TMIN', 'TOBS', 'TMAX', 'SNOW', 'SNWD', 'PRCP'])\n",
      "103\n",
      "+-------------------+-------------------+-------------------+---------+--------+--------+---------+-----------+------------------+------------------+-------------------+------------------+-----------+---------+------+--------------------+------+\n",
      "|            coeff_1|            coeff_2|            coeff_3|elevation|   label|latitude|longitude|measurement|             res_1|             res_2|              res_3|          res_mean|    station|total_var|undefs|              vector|  year|\n",
      "+-------------------+-------------------+-------------------+---------+--------+--------+---------+-----------+------------------+------------------+-------------------+------------------+-----------+---------+------+--------------------+------+\n",
      "|-0.9714474436583921|-20.310600885779017|-11.156771769950076|    135.9|BSBSSSSB| 32.6525| -84.1858|       SNWD|0.9983815327352802|0.2909069455126278|0.07743421845604882|0.9329420805591848|USC00091425|    625.0|     0|[00 00 00 00 00 0...|1967.0|\n",
      "|-0.9714474436583921|-20.310600885779017|-11.156771769950076|    230.1|BSBSSSSB| 32.9028| -84.3367|       SNWD|0.9983815327352802|0.2909069455126278|0.07743421845604882|0.9329420805591848|USC00098661|    625.0|     0|[00 00 00 00 00 0...|1967.0|\n",
      "+-------------------+-------------------+-------------------+---------+--------+--------+---------+-----------+------------------+------------------+-------------------+------------------+-----------+---------+------+--------------------+------+\n",
      "only showing top 2 rows\n",
      "\n"
     ]
    }
   ],
   "source": [
    "### Read the data frame from pickle file\n",
    "\n",
    "data_dir='../../Data/Weather'\n",
    "# file_index='BBBSBBBB'\n",
    "file_index='BSBSSSSB'\n",
    "meas='SNWD'\n",
    "\n",
    "from pickle import load\n",
    "\n",
    "#read statistics\n",
    "filename=data_dir+'/STAT_%s.pickle'%file_index\n",
    "STAT,STAT_Descriptions = load(open(filename,'rb'))\n",
    "print('keys from STAT=',STAT.keys())\n",
    "\n",
    "#!ls -ld $data_dir/*.parquet\n",
    "\n",
    "#read data\n",
    "filename=data_dir+'/decon_%s_%s.parquet'%(file_index,meas)\n",
    "\n",
    "df=sqlContext.read.parquet(filename)\n",
    "print(df.count())\n",
    "df.show(2)"
   ]
  },
  {
   "cell_type": "code",
   "execution_count": 5,
   "metadata": {
    "run_control": {
     "frozen": false,
     "read_only": false
    }
   },
   "outputs": [
    {
     "name": "stdout",
     "output_type": "stream",
     "text": [
      "['coeff_1', 'coeff_2', 'coeff_3', 'elevation', 'label', 'latitude', 'longitude', 'measurement', 'res_1', 'res_2', 'res_3', 'res_mean', 'station', 'total_var', 'undefs', 'vector', 'year']\n"
     ]
    }
   ],
   "source": [
    "print df.columns"
   ]
  },
  {
   "cell_type": "code",
   "execution_count": 6,
   "metadata": {
    "run_control": {
     "frozen": false,
     "read_only": false
    },
    "scrolled": true
   },
   "outputs": [
    {
     "name": "stdout",
     "output_type": "stream",
     "text": [
      "SELECT station, year, coeff_3 FROM weather\n"
     ]
    },
    {
     "data": {
      "text/html": [
       "<div>\n",
       "<style>\n",
       "    .dataframe thead tr:only-child th {\n",
       "        text-align: right;\n",
       "    }\n",
       "\n",
       "    .dataframe thead th {\n",
       "        text-align: left;\n",
       "    }\n",
       "\n",
       "    .dataframe tbody tr th {\n",
       "        vertical-align: top;\n",
       "    }\n",
       "</style>\n",
       "<table border=\"1\" class=\"dataframe\">\n",
       "  <thead>\n",
       "    <tr style=\"text-align: right;\">\n",
       "      <th></th>\n",
       "      <th>station</th>\n",
       "      <th>year</th>\n",
       "      <th>coeff_3</th>\n",
       "    </tr>\n",
       "  </thead>\n",
       "  <tbody>\n",
       "    <tr>\n",
       "      <th>0</th>\n",
       "      <td>USC00091425</td>\n",
       "      <td>1967.0</td>\n",
       "      <td>-11.156772</td>\n",
       "    </tr>\n",
       "    <tr>\n",
       "      <th>1</th>\n",
       "      <td>USC00098661</td>\n",
       "      <td>1967.0</td>\n",
       "      <td>-11.156772</td>\n",
       "    </tr>\n",
       "    <tr>\n",
       "      <th>2</th>\n",
       "      <td>USC00092198</td>\n",
       "      <td>1967.0</td>\n",
       "      <td>-19.912815</td>\n",
       "    </tr>\n",
       "    <tr>\n",
       "      <th>3</th>\n",
       "      <td>USC00093506</td>\n",
       "      <td>1967.0</td>\n",
       "      <td>-19.912815</td>\n",
       "    </tr>\n",
       "    <tr>\n",
       "      <th>4</th>\n",
       "      <td>USW00003813</td>\n",
       "      <td>1982.0</td>\n",
       "      <td>0.049238</td>\n",
       "    </tr>\n",
       "  </tbody>\n",
       "</table>\n",
       "</div>"
      ],
      "text/plain": [
       "       station    year    coeff_3\n",
       "0  USC00091425  1967.0 -11.156772\n",
       "1  USC00098661  1967.0 -11.156772\n",
       "2  USC00092198  1967.0 -19.912815\n",
       "3  USC00093506  1967.0 -19.912815\n",
       "4  USW00003813  1982.0   0.049238"
      ]
     },
     "execution_count": 6,
     "metadata": {},
     "output_type": "execute_result"
    }
   ],
   "source": [
    "#extract longitude and latitude for each station\n",
    "feature='coeff_3'\n",
    "sqlContext.registerDataFrameAsTable(df,'weather')\n",
    "#Features=', '.join(['coeff_1', 'coeff_2', 'coeff_3', 'elevation', 'latitude', 'longitude',\\\n",
    "#          'res_1', 'res_2', 'res_3', 'res_mean', 'year'])\n",
    "Features='station, year, coeff_3'\n",
    "Query=\"SELECT %s FROM weather\"%Features\n",
    "print(Query)\n",
    "pdf = sqlContext.sql(Query).toPandas()\n",
    "pdf.head()"
   ]
  },
  {
   "cell_type": "code",
   "execution_count": 7,
   "metadata": {
    "run_control": {
     "frozen": false,
     "read_only": false
    }
   },
   "outputs": [
    {
     "data": {
      "text/html": [
       "<div>\n",
       "<style>\n",
       "    .dataframe thead tr:only-child th {\n",
       "        text-align: right;\n",
       "    }\n",
       "\n",
       "    .dataframe thead th {\n",
       "        text-align: left;\n",
       "    }\n",
       "\n",
       "    .dataframe tbody tr th {\n",
       "        vertical-align: top;\n",
       "    }\n",
       "</style>\n",
       "<table border=\"1\" class=\"dataframe\">\n",
       "  <thead>\n",
       "    <tr style=\"text-align: right;\">\n",
       "      <th>station</th>\n",
       "      <th>US1GATY0002</th>\n",
       "      <th>USC00010430</th>\n",
       "      <th>USC00011725</th>\n",
       "      <th>USC00012730</th>\n",
       "      <th>USC00014080</th>\n",
       "      <th>USC00014502</th>\n",
       "      <th>USC00016129</th>\n",
       "      <th>USC00017025</th>\n",
       "      <th>USC00091425</th>\n",
       "      <th>USC00092159</th>\n",
       "      <th>...</th>\n",
       "      <th>USC00097201</th>\n",
       "      <th>USC00098535</th>\n",
       "      <th>USC00098657</th>\n",
       "      <th>USC00098661</th>\n",
       "      <th>USC00099124</th>\n",
       "      <th>USC00099291</th>\n",
       "      <th>USC00099506</th>\n",
       "      <th>USW00003813</th>\n",
       "      <th>USW00013860</th>\n",
       "      <th>USW00093842</th>\n",
       "    </tr>\n",
       "    <tr>\n",
       "      <th>year</th>\n",
       "      <th></th>\n",
       "      <th></th>\n",
       "      <th></th>\n",
       "      <th></th>\n",
       "      <th></th>\n",
       "      <th></th>\n",
       "      <th></th>\n",
       "      <th></th>\n",
       "      <th></th>\n",
       "      <th></th>\n",
       "      <th></th>\n",
       "      <th></th>\n",
       "      <th></th>\n",
       "      <th></th>\n",
       "      <th></th>\n",
       "      <th></th>\n",
       "      <th></th>\n",
       "      <th></th>\n",
       "      <th></th>\n",
       "      <th></th>\n",
       "      <th></th>\n",
       "    </tr>\n",
       "  </thead>\n",
       "  <tbody>\n",
       "    <tr>\n",
       "      <th>1935.0</th>\n",
       "      <td>NaN</td>\n",
       "      <td>NaN</td>\n",
       "      <td>NaN</td>\n",
       "      <td>NaN</td>\n",
       "      <td>NaN</td>\n",
       "      <td>NaN</td>\n",
       "      <td>NaN</td>\n",
       "      <td>NaN</td>\n",
       "      <td>NaN</td>\n",
       "      <td>NaN</td>\n",
       "      <td>...</td>\n",
       "      <td>NaN</td>\n",
       "      <td>NaN</td>\n",
       "      <td>NaN</td>\n",
       "      <td>NaN</td>\n",
       "      <td>NaN</td>\n",
       "      <td>NaN</td>\n",
       "      <td>NaN</td>\n",
       "      <td>NaN</td>\n",
       "      <td>NaN</td>\n",
       "      <td>NaN</td>\n",
       "    </tr>\n",
       "    <tr>\n",
       "      <th>1936.0</th>\n",
       "      <td>NaN</td>\n",
       "      <td>NaN</td>\n",
       "      <td>NaN</td>\n",
       "      <td>NaN</td>\n",
       "      <td>NaN</td>\n",
       "      <td>NaN</td>\n",
       "      <td>NaN</td>\n",
       "      <td>NaN</td>\n",
       "      <td>NaN</td>\n",
       "      <td>NaN</td>\n",
       "      <td>...</td>\n",
       "      <td>NaN</td>\n",
       "      <td>NaN</td>\n",
       "      <td>NaN</td>\n",
       "      <td>NaN</td>\n",
       "      <td>NaN</td>\n",
       "      <td>0.060435</td>\n",
       "      <td>NaN</td>\n",
       "      <td>NaN</td>\n",
       "      <td>NaN</td>\n",
       "      <td>NaN</td>\n",
       "    </tr>\n",
       "    <tr>\n",
       "      <th>1940.0</th>\n",
       "      <td>NaN</td>\n",
       "      <td>NaN</td>\n",
       "      <td>NaN</td>\n",
       "      <td>NaN</td>\n",
       "      <td>NaN</td>\n",
       "      <td>NaN</td>\n",
       "      <td>NaN</td>\n",
       "      <td>0.132800</td>\n",
       "      <td>NaN</td>\n",
       "      <td>NaN</td>\n",
       "      <td>...</td>\n",
       "      <td>NaN</td>\n",
       "      <td>NaN</td>\n",
       "      <td>NaN</td>\n",
       "      <td>NaN</td>\n",
       "      <td>NaN</td>\n",
       "      <td>0.083156</td>\n",
       "      <td>NaN</td>\n",
       "      <td>NaN</td>\n",
       "      <td>NaN</td>\n",
       "      <td>NaN</td>\n",
       "    </tr>\n",
       "    <tr>\n",
       "      <th>1948.0</th>\n",
       "      <td>NaN</td>\n",
       "      <td>NaN</td>\n",
       "      <td>NaN</td>\n",
       "      <td>NaN</td>\n",
       "      <td>NaN</td>\n",
       "      <td>NaN</td>\n",
       "      <td>NaN</td>\n",
       "      <td>0.047454</td>\n",
       "      <td>NaN</td>\n",
       "      <td>NaN</td>\n",
       "      <td>...</td>\n",
       "      <td>NaN</td>\n",
       "      <td>NaN</td>\n",
       "      <td>NaN</td>\n",
       "      <td>NaN</td>\n",
       "      <td>NaN</td>\n",
       "      <td>NaN</td>\n",
       "      <td>NaN</td>\n",
       "      <td>NaN</td>\n",
       "      <td>NaN</td>\n",
       "      <td>NaN</td>\n",
       "    </tr>\n",
       "    <tr>\n",
       "      <th>1953.0</th>\n",
       "      <td>NaN</td>\n",
       "      <td>NaN</td>\n",
       "      <td>NaN</td>\n",
       "      <td>NaN</td>\n",
       "      <td>NaN</td>\n",
       "      <td>NaN</td>\n",
       "      <td>NaN</td>\n",
       "      <td>NaN</td>\n",
       "      <td>NaN</td>\n",
       "      <td>NaN</td>\n",
       "      <td>...</td>\n",
       "      <td>NaN</td>\n",
       "      <td>NaN</td>\n",
       "      <td>NaN</td>\n",
       "      <td>NaN</td>\n",
       "      <td>NaN</td>\n",
       "      <td>NaN</td>\n",
       "      <td>NaN</td>\n",
       "      <td>0.049258</td>\n",
       "      <td>NaN</td>\n",
       "      <td>NaN</td>\n",
       "    </tr>\n",
       "    <tr>\n",
       "      <th>1955.0</th>\n",
       "      <td>NaN</td>\n",
       "      <td>NaN</td>\n",
       "      <td>NaN</td>\n",
       "      <td>NaN</td>\n",
       "      <td>NaN</td>\n",
       "      <td>NaN</td>\n",
       "      <td>NaN</td>\n",
       "      <td>NaN</td>\n",
       "      <td>NaN</td>\n",
       "      <td>NaN</td>\n",
       "      <td>...</td>\n",
       "      <td>NaN</td>\n",
       "      <td>NaN</td>\n",
       "      <td>NaN</td>\n",
       "      <td>NaN</td>\n",
       "      <td>NaN</td>\n",
       "      <td>NaN</td>\n",
       "      <td>NaN</td>\n",
       "      <td>NaN</td>\n",
       "      <td>NaN</td>\n",
       "      <td>NaN</td>\n",
       "    </tr>\n",
       "    <tr>\n",
       "      <th>1961.0</th>\n",
       "      <td>NaN</td>\n",
       "      <td>NaN</td>\n",
       "      <td>NaN</td>\n",
       "      <td>NaN</td>\n",
       "      <td>NaN</td>\n",
       "      <td>NaN</td>\n",
       "      <td>NaN</td>\n",
       "      <td>NaN</td>\n",
       "      <td>NaN</td>\n",
       "      <td>NaN</td>\n",
       "      <td>...</td>\n",
       "      <td>NaN</td>\n",
       "      <td>NaN</td>\n",
       "      <td>NaN</td>\n",
       "      <td>NaN</td>\n",
       "      <td>NaN</td>\n",
       "      <td>NaN</td>\n",
       "      <td>NaN</td>\n",
       "      <td>NaN</td>\n",
       "      <td>NaN</td>\n",
       "      <td>NaN</td>\n",
       "    </tr>\n",
       "    <tr>\n",
       "      <th>1962.0</th>\n",
       "      <td>NaN</td>\n",
       "      <td>NaN</td>\n",
       "      <td>NaN</td>\n",
       "      <td>NaN</td>\n",
       "      <td>NaN</td>\n",
       "      <td>NaN</td>\n",
       "      <td>NaN</td>\n",
       "      <td>-0.294954</td>\n",
       "      <td>NaN</td>\n",
       "      <td>NaN</td>\n",
       "      <td>...</td>\n",
       "      <td>NaN</td>\n",
       "      <td>-0.064052</td>\n",
       "      <td>NaN</td>\n",
       "      <td>NaN</td>\n",
       "      <td>NaN</td>\n",
       "      <td>NaN</td>\n",
       "      <td>NaN</td>\n",
       "      <td>NaN</td>\n",
       "      <td>NaN</td>\n",
       "      <td>NaN</td>\n",
       "    </tr>\n",
       "    <tr>\n",
       "      <th>1963.0</th>\n",
       "      <td>NaN</td>\n",
       "      <td>NaN</td>\n",
       "      <td>NaN</td>\n",
       "      <td>NaN</td>\n",
       "      <td>NaN</td>\n",
       "      <td>NaN</td>\n",
       "      <td>NaN</td>\n",
       "      <td>NaN</td>\n",
       "      <td>NaN</td>\n",
       "      <td>NaN</td>\n",
       "      <td>...</td>\n",
       "      <td>NaN</td>\n",
       "      <td>NaN</td>\n",
       "      <td>NaN</td>\n",
       "      <td>NaN</td>\n",
       "      <td>NaN</td>\n",
       "      <td>NaN</td>\n",
       "      <td>NaN</td>\n",
       "      <td>NaN</td>\n",
       "      <td>NaN</td>\n",
       "      <td>NaN</td>\n",
       "    </tr>\n",
       "    <tr>\n",
       "      <th>1964.0</th>\n",
       "      <td>NaN</td>\n",
       "      <td>NaN</td>\n",
       "      <td>NaN</td>\n",
       "      <td>NaN</td>\n",
       "      <td>NaN</td>\n",
       "      <td>NaN</td>\n",
       "      <td>NaN</td>\n",
       "      <td>0.066212</td>\n",
       "      <td>NaN</td>\n",
       "      <td>NaN</td>\n",
       "      <td>...</td>\n",
       "      <td>NaN</td>\n",
       "      <td>NaN</td>\n",
       "      <td>NaN</td>\n",
       "      <td>NaN</td>\n",
       "      <td>NaN</td>\n",
       "      <td>NaN</td>\n",
       "      <td>NaN</td>\n",
       "      <td>NaN</td>\n",
       "      <td>NaN</td>\n",
       "      <td>NaN</td>\n",
       "    </tr>\n",
       "  </tbody>\n",
       "</table>\n",
       "<p>10 rows × 38 columns</p>\n",
       "</div>"
      ],
      "text/plain": [
       "station  US1GATY0002  USC00010430  USC00011725  USC00012730  USC00014080  \\\n",
       "year                                                                       \n",
       "1935.0           NaN          NaN          NaN          NaN          NaN   \n",
       "1936.0           NaN          NaN          NaN          NaN          NaN   \n",
       "1940.0           NaN          NaN          NaN          NaN          NaN   \n",
       "1948.0           NaN          NaN          NaN          NaN          NaN   \n",
       "1953.0           NaN          NaN          NaN          NaN          NaN   \n",
       "1955.0           NaN          NaN          NaN          NaN          NaN   \n",
       "1961.0           NaN          NaN          NaN          NaN          NaN   \n",
       "1962.0           NaN          NaN          NaN          NaN          NaN   \n",
       "1963.0           NaN          NaN          NaN          NaN          NaN   \n",
       "1964.0           NaN          NaN          NaN          NaN          NaN   \n",
       "\n",
       "station  USC00014502  USC00016129  USC00017025  USC00091425  USC00092159  \\\n",
       "year                                                                       \n",
       "1935.0           NaN          NaN          NaN          NaN          NaN   \n",
       "1936.0           NaN          NaN          NaN          NaN          NaN   \n",
       "1940.0           NaN          NaN     0.132800          NaN          NaN   \n",
       "1948.0           NaN          NaN     0.047454          NaN          NaN   \n",
       "1953.0           NaN          NaN          NaN          NaN          NaN   \n",
       "1955.0           NaN          NaN          NaN          NaN          NaN   \n",
       "1961.0           NaN          NaN          NaN          NaN          NaN   \n",
       "1962.0           NaN          NaN    -0.294954          NaN          NaN   \n",
       "1963.0           NaN          NaN          NaN          NaN          NaN   \n",
       "1964.0           NaN          NaN     0.066212          NaN          NaN   \n",
       "\n",
       "station     ...       USC00097201  USC00098535  USC00098657  USC00098661  \\\n",
       "year        ...                                                            \n",
       "1935.0      ...               NaN          NaN          NaN          NaN   \n",
       "1936.0      ...               NaN          NaN          NaN          NaN   \n",
       "1940.0      ...               NaN          NaN          NaN          NaN   \n",
       "1948.0      ...               NaN          NaN          NaN          NaN   \n",
       "1953.0      ...               NaN          NaN          NaN          NaN   \n",
       "1955.0      ...               NaN          NaN          NaN          NaN   \n",
       "1961.0      ...               NaN          NaN          NaN          NaN   \n",
       "1962.0      ...               NaN    -0.064052          NaN          NaN   \n",
       "1963.0      ...               NaN          NaN          NaN          NaN   \n",
       "1964.0      ...               NaN          NaN          NaN          NaN   \n",
       "\n",
       "station  USC00099124  USC00099291  USC00099506  USW00003813  USW00013860  \\\n",
       "year                                                                       \n",
       "1935.0           NaN          NaN          NaN          NaN          NaN   \n",
       "1936.0           NaN     0.060435          NaN          NaN          NaN   \n",
       "1940.0           NaN     0.083156          NaN          NaN          NaN   \n",
       "1948.0           NaN          NaN          NaN          NaN          NaN   \n",
       "1953.0           NaN          NaN          NaN     0.049258          NaN   \n",
       "1955.0           NaN          NaN          NaN          NaN          NaN   \n",
       "1961.0           NaN          NaN          NaN          NaN          NaN   \n",
       "1962.0           NaN          NaN          NaN          NaN          NaN   \n",
       "1963.0           NaN          NaN          NaN          NaN          NaN   \n",
       "1964.0           NaN          NaN          NaN          NaN          NaN   \n",
       "\n",
       "station  USW00093842  \n",
       "year                  \n",
       "1935.0           NaN  \n",
       "1936.0           NaN  \n",
       "1940.0           NaN  \n",
       "1948.0           NaN  \n",
       "1953.0           NaN  \n",
       "1955.0           NaN  \n",
       "1961.0           NaN  \n",
       "1962.0           NaN  \n",
       "1963.0           NaN  \n",
       "1964.0           NaN  \n",
       "\n",
       "[10 rows x 38 columns]"
      ]
     },
     "execution_count": 7,
     "metadata": {},
     "output_type": "execute_result"
    }
   ],
   "source": [
    "year_station_table=pdf.pivot(index='year', columns='station', values='coeff_3')\n",
    "year_station_table.head(10)"
   ]
  },
  {
   "cell_type": "markdown",
   "metadata": {
    "run_control": {
     "frozen": false,
     "read_only": false
    }
   },
   "source": [
    "### Estimating the effect of the year vs the effect of the station\n",
    "\n",
    "To estimate the effect of time vs. location on the first eigenvector coefficient we\n",
    "compute:\n",
    "\n",
    "* The average row: `mean-by-station`\n",
    "* The average column: `mean-by-year`\n",
    "\n",
    "We then compute the RMS before and after subtracting either  the row or the column vector."
   ]
  },
  {
   "cell_type": "code",
   "execution_count": 8,
   "metadata": {
    "run_control": {
     "frozen": false,
     "read_only": false
    }
   },
   "outputs": [
    {
     "name": "stdout",
     "output_type": "stream",
     "text": [
      "total RMS                   =  27.0504148361\n",
      "RMS removing mean-by-station=  21.8590029755\n",
      "RMS removing mean-by-year   =  24.8622415283\n"
     ]
    }
   ],
   "source": [
    "def RMS(Mat):\n",
    "    return np.sqrt(np.nanmean(Mat**2))\n",
    "\n",
    "mean_by_year=np.nanmean(year_station_table,axis=1)\n",
    "mean_by_station=np.nanmean(year_station_table,axis=0)\n",
    "tbl_minus_year = (year_station_table.transpose()-mean_by_year).transpose()\n",
    "tbl_minus_station = year_station_table-mean_by_station\n",
    "\n",
    "print 'total RMS                   = ',RMS(year_station_table)\n",
    "print 'RMS removing mean-by-station= ',RMS(tbl_minus_station)\n",
    "print 'RMS removing mean-by-year   = ',RMS(tbl_minus_year)"
   ]
  },
  {
   "cell_type": "code",
   "execution_count": 9,
   "metadata": {
    "run_control": {
     "frozen": false,
     "read_only": false
    }
   },
   "outputs": [
    {
     "name": "stdout",
     "output_type": "stream",
     "text": [
      "initial RMS= 27.0504148361\n",
      "0 after removing mean by year    = 24.8622415283\n",
      "0 after removing mean by stations= 21.2235604108\n",
      "1 after removing mean by year    = 20.5877632173\n",
      "1 after removing mean by stations= 20.2382346948\n",
      "2 after removing mean by year    = 20.0150660627\n",
      "2 after removing mean by stations= 19.8618249869\n",
      "3 after removing mean by year    = 19.7521874017\n",
      "3 after removing mean by stations= 19.6716242784\n",
      "4 after removing mean by year    = 19.6112757322\n",
      "4 after removing mean by stations= 19.5653864998\n"
     ]
    }
   ],
   "source": [
    "T=year_station_table\n",
    "print 'initial RMS=',RMS(T)\n",
    "for i in range(5):\n",
    "    mean_by_year=np.nanmean(T,axis=1)\n",
    "    T=(T.transpose()-mean_by_year).transpose()\n",
    "    print i,'after removing mean by year    =',RMS(T)\n",
    "    mean_by_station=np.nanmean(T,axis=0)\n",
    "    T=T-mean_by_station\n",
    "    print i,'after removing mean by stations=',RMS(T)"
   ]
  },
  {
   "cell_type": "code",
   "execution_count": null,
   "metadata": {
    "collapsed": true,
    "run_control": {
     "frozen": false,
     "read_only": false
    }
   },
   "outputs": [],
   "source": []
  }
 ],
 "metadata": {
  "anaconda-cloud": {},
  "hide_input": false,
  "kernelspec": {
   "display_name": "Python 2",
   "language": "python",
   "name": "python2"
  },
  "language_info": {
   "codemirror_mode": {
    "name": "ipython",
    "version": 2
   },
   "file_extension": ".py",
   "mimetype": "text/x-python",
   "name": "python",
   "nbconvert_exporter": "python",
   "pygments_lexer": "ipython2",
   "version": "2.7.13"
  },
  "toc": {
   "colors": {
    "hover_highlight": "#DAA520",
    "running_highlight": "#FF0000",
    "selected_highlight": "#FFD700"
   },
   "moveMenuLeft": true,
   "nav_menu": {
    "height": "174px",
    "width": "252px"
   },
   "navigate_menu": true,
   "number_sections": true,
   "sideBar": true,
   "threshold": 4,
   "toc_cell": false,
   "toc_section_display": "block",
   "toc_window_display": false
  },
  "widgets": {
   "state": {},
   "version": "1.0.0"
  }
 },
 "nbformat": 4,
 "nbformat_minor": 1
}
