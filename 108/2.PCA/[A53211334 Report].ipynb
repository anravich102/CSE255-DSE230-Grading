{
 "cells": [
  {
   "cell_type": "markdown",
   "metadata": {
    "run_control": {
     "frozen": false,
     "read_only": false
    }
   },
   "source": [
    "# Columbas,GA Weather Analysis\n",
    "* **Auther:Kan Xu** \n",
    "* **PID:A53211334** \n",
    "\n",
    "<p>This is a report on the historical weather pattern analysis in an are that is in the are of Columbas,Georgia.</p>\n",
    "\n",
    "<p><img alt=\"geolocation\" src='HW5_figures/geolocation.jpeg' style=\"width:600px\"  /></p>\n",
    "\n",
    "\n",
    "<p> \n",
    "The dataset code we use is **'BSBSSSSB'**. The url for this dataset is [here](https://mas-dse-open.s3.amazonaws.com/Weather/small/US_Weather_BSBSSSSB.csv.gz).</p>\n",
    "\n",
    "We focused on six measurements:\n",
    "* **TMIN, TMAX:** the daily minimum and maximum temperature.\n",
    "* **TOBS:** The average temperature for each day.\n",
    "* **PRCP:** Daily Percipitation (in mm)\n",
    "* **SNOW:** Daily snowfall (in mm)\n",
    "* **SNWD:** The depth of accumulated snow."
   ]
  },
  {
   "cell_type": "markdown",
   "metadata": {
    "run_control": {
     "frozen": false,
     "read_only": false
    }
   },
   "source": [
    "# Percentage of variance explained\n",
    "\n",
    "<p>We start the analysis by measuring the effectness of reconstructions. </p>\n",
    "\n",
    "<p>The below image is the variance explained by PRCP measurement. It shows that top 3 eigen vectors explained about 5% while top 5 eigen vectos explained about 7% of the variance.</p> \n",
    "\n",
    "<p><img alt=\"PRCP\" src='HW5_figures/PRCP-pov.jpeg' style=\"width:400px\"  /></p>\n",
    "\n",
    "<p>The below image is the variance explained by TOBS measurement. It shows that top 3 eigen vectors explained about 42% while top 5 eigen vectos explained about 48% of the variance.</p> \n",
    "\n",
    "<p><img alt=\"TOBS-pov\" src='HW5_figures/TOBS-pov.jpeg' style=\"width:400px\"  /></p>\n",
    "\n",
    "<p>The below image is the variance explained by SNOW measurement. It shows that top 3 eigen vectors explained about 45% while top 5 eigen vectos explained about 55% of the variance.</p> \n",
    "\n",
    "<p><img alt=\"SNOW-pov\" src='HW5_figures/SNOW-pov.jpeg' style=\"width:400px\"  /></p>\n",
    "\n",
    "<p>The below image is the variance explained by SNWD measurement. It shows that top 3 eigen vectors explained about 80% while top 5 eigen vectos explained about 85% of the variance.</p> \n",
    "\n",
    "<p><img alt=\"SNWD-pov\" src='HW5_figures/SNWD-pov.jpeg' style=\"width:400px\"  /></p>\n",
    "\n",
    "<p>To conclude, the SNWD measurement has its eigen vectors explained most of its data. While PRCP has itself the worst expressiveness between the data.</p>"
   ]
  },
  {
   "cell_type": "markdown",
   "metadata": {
    "run_control": {
     "frozen": false,
     "read_only": false
    }
   },
   "source": [
    "## Analysis of snow depth\n",
    "\n",
    "We choose to analyze the eigen-decomposition for snow-depth because top 3 eigen vectors explained about 80% while top 5 eigen vectos explained about 85% of the variance. \n",
    "\n",
    "First, we graph the mean statistics and the top 3 eigen-vectors.\n",
    "\n",
    "<p><img alt=\"SNWD_mean_eigen\" src='HW5_figures/SNWD_mean_eigen.jpeg' style=\"width:500px\"  /></p>\n",
    "\n",
    "\n",
    "\n",
    "\n",
    "We observe that the snow season is from early-December to the start of April, where the middle of February marks the peak of the snow-depth. It's interesting that there are also occasional snow in May. \n",
    "\n",
    "Then we get the mean-std statistics below.\n",
    "<p><img alt=\"SNOW-meanstd\" src='HW5_figures/SNWD-meanstd.jpeg' style=\"width:400px\"  /></p>\n",
    "\n",
    "\n",
    "The snow depth varies a lot in the Feburary which meaning the difference between stations at this time point is big."
   ]
  },
  {
   "cell_type": "markdown",
   "metadata": {
    "run_control": {
     "frozen": false,
     "read_only": false
    }
   },
   "source": [
    "Next we interpret the eigen-functions of top3. \n",
    "\n",
    "The first eigen-function (eig1) has a shape very similar to the mean function in the January-Feb part. The other duration in this eigen vector is close to zero which doesn't resemble the mean+std function during these time. It interprets the open of the snow season and snow depth in these times.\n",
    "\n",
    "\n",
    "The second eigen-function (eig2) has a shape very similar to the mean function in the early Feb-March part. The other duration in this eigen vector is close to zero which doesn't resemble the mean+std function during these time. It interprets the processing and ending of the snow season and snow depth in these times.\n",
    "\n",
    "The third eigen-function (eig3) has a shape very similar to the mean function in the early Feb-March part but in the opposite direction. \n",
    "\n",
    "They can be interpreted as follows:\n",
    "* **eig1:** steady snow in Jan - early Feb, steady snow depth in this period.\n",
    "* **eig2:** less snow in early Feb - mid Feb, more snow in mid Feb - mid Mar, marking the opening of snow season.\n",
    "* **eig3:** less snow in early Feb-March, marking the ending of snow season.\n"
   ]
  },
  {
   "cell_type": "markdown",
   "metadata": {
    "run_control": {
     "frozen": false,
     "read_only": false
    }
   },
   "source": [
    "### Examples of reconstructions\n",
    "\n",
    "#### Coeff1\n",
    "<p>Coeff1: most negative And Coeff1: most positive</p>\n",
    "<p><img alt=\"coeff-1.jpeg\" src='HW5_figures/coeff-1.jpeg' style=\"width:400px\"  /></p>\n",
    "Large positive values of coeff2 corresponds to a opening of snow season.\n",
    "\n",
    "#### Coeff2\n",
    "<p>Coeff2: most negative And Coeff2: most positive</p>\n",
    "<p><img alt=\"coeff-2.jpeg\" src='HW5_figures/coeff-2.jpeg' style=\"width:400px\"  /></p>\n",
    "\n",
    "Large positive values of coeff2 correspond to a late snow season. Negative values for coeff2 correspond to an early snow season.\n",
    "\n",
    "#### Coeff3\n",
    "<p>Coeff3: most negative And Coeff3: most positive</p>\n",
    "<p><img alt=\"coeff-3.jpeg\" src='HW5_figures/coeff-3.jpeg' style=\"width:400px\"  /></p>\n",
    "\n",
    "Positive values and negative values of coeff3 tells the ups and downs in the ending of the snow season.\n",
    "\n"
   ]
  },
  {
   "cell_type": "markdown",
   "metadata": {},
   "source": [
    "## The variation in the timing of snow is mostly due to year-to-year variation\n",
    "In the previous section we see the variation of Coeff1, which corresponds to the total amount of snow, with respect to location. We now estimate the relative importance of location-to-location variation relative to year-by-year variation.\n",
    "\n",
    "These are measured using the fraction by which the variance is reduced when we subtract from each station/year entry the average-per-year or the average-per-station respectively. Here are the results:\n",
    "\n",
    "** coeff_1 **  \n",
    "total MS                   = 98.66  \n",
    "MS removing mean-by-station= 66.66, fraction explained=32.6  \n",
    "MS removing mean-by-year   = 8.96, fraction explained=90.8  \n",
    "\n",
    "** coeff_2 **  \n",
    "total MS                   = 75.43  \n",
    "MS removing mean-by-station= 63.34, fraction explained= 16.2  \n",
    "MS removing mean-by-year   = 40.14, fraction explained= 47 \n",
    "\n",
    "** coeff_3 **  \n",
    "total MS                   = 27.05  \n",
    "MS removing mean-by-station= 21.85, fraction explained= 19.22  \n",
    "MS removing mean-by-year   = 24.86, fraction explained= 8.10  \n",
    "\n",
    "We see that the variation by year explains more than the variation by station. However this effect is weaker consider coeff_3, it has to do with the ups and downs in the eigen-3 vector."
   ]
  },
  {
   "cell_type": "code",
   "execution_count": null,
   "metadata": {
    "collapsed": true
   },
   "outputs": [],
   "source": []
  }
 ],
 "metadata": {
  "anaconda-cloud": {},
  "kernelspec": {
   "display_name": "Python 2",
   "language": "python",
   "name": "python2"
  },
  "language_info": {
   "codemirror_mode": {
    "name": "ipython",
    "version": 2
   },
   "file_extension": ".py",
   "mimetype": "text/x-python",
   "name": "python",
   "nbconvert_exporter": "python",
   "pygments_lexer": "ipython2",
   "version": "2.7.13"
  },
  "toc": {
   "colors": {
    "hover_highlight": "#DAA520",
    "running_highlight": "#FF0000",
    "selected_highlight": "#FFD700"
   },
   "moveMenuLeft": true,
   "nav_menu": {
    "height": "12px",
    "width": "252px"
   },
   "navigate_menu": true,
   "number_sections": true,
   "sideBar": true,
   "threshold": 4,
   "toc_cell": false,
   "toc_section_display": "block",
   "toc_window_display": false
  }
 },
 "nbformat": 4,
 "nbformat_minor": 2
}
