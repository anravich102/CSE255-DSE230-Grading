{
 "cells": [
  {
   "cell_type": "markdown",
   "metadata": {
    "run_control": {
     "frozen": false,
     "read_only": false
    }
   },
   "source": [
    "## Analyze whether TOBS varies more from year to year or from place to place."
   ]
  },
  {
   "cell_type": "code",
   "execution_count": 5,
   "metadata": {
    "collapsed": true,
    "run_control": {
     "frozen": false,
     "read_only": false
    }
   },
   "outputs": [],
   "source": [
    "import pandas as pd\n",
    "import numpy as np\n",
    "import urllib\n",
    "import math"
   ]
  },
  {
   "cell_type": "code",
   "execution_count": 6,
   "metadata": {
    "collapsed": true,
    "run_control": {
     "frozen": false,
     "read_only": false
    }
   },
   "outputs": [],
   "source": [
    "import findspark\n",
    "findspark.init()\n",
    "\n",
    "from pyspark import SparkContext\n",
    "# sc.stop()\n",
    "sc = SparkContext(master=\"local[3]\",pyFiles=['lib/numpy_pack.py','lib/spark_PCA.py','lib/computeStats.py'])\n",
    "\n",
    "from pyspark import SparkContext\n",
    "from pyspark.sql import *\n",
    "sqlContext = SQLContext(sc)"
   ]
  },
  {
   "cell_type": "code",
   "execution_count": 7,
   "metadata": {
    "collapsed": true,
    "run_control": {
     "frozen": false,
     "read_only": false
    }
   },
   "outputs": [],
   "source": [
    "import sys\n",
    "sys.path.append('./lib')\n",
    "\n",
    "import numpy as np\n",
    "from numpy_pack import packArray,unpackArray\n",
    "from spark_PCA import computeCov\n",
    "from computeStats import computeOverAllDist, STAT_Descriptions"
   ]
  },
  {
   "cell_type": "code",
   "execution_count": 8,
   "metadata": {
    "run_control": {
     "frozen": false,
     "read_only": false
    },
    "scrolled": true
   },
   "outputs": [
    {
     "name": "stdout",
     "output_type": "stream",
     "text": [
      "('keys from STAT=', ['TMIN', 'TOBS', 'TMAX', 'SNOW', 'SNWD', 'PRCP'])\n",
      "2788\n",
      "+------------------+------------------+-------------------+---------+--------+--------+---------+-----------+------------------+------------------+------------------+------------------+-----------+---------+------+--------------------+------+\n",
      "|           coeff_1|           coeff_2|            coeff_3|elevation|   label|latitude|longitude|measurement|             res_1|             res_2|             res_3|          res_mean|    station|total_var|undefs|              vector|  year|\n",
      "+------------------+------------------+-------------------+---------+--------+--------+---------+-----------+------------------+------------------+------------------+------------------+-----------+---------+------+--------------------+------+\n",
      "|122.75218034494951| 42.50831403147427|-104.58097046884396|     37.5|BSBSSSBS| 29.6919| -82.2756|       PRCP|0.9927589232545094|0.9918609010400435| 0.986329953671608|0.8564133504283129|USW00012816|2423585.0|     2|[00 00 00 00 00 0...|1998.0|\n",
      "| 192.7686740390006|48.698271290233066| -3.050080571440347|     22.9|BSBSSSBS| 28.6664| -82.0894|       PRCP|0.9866903379827667|0.9863463089993724|0.9863236024460711|0.8333939679217522|USC00081163|4200296.0|    21|[C0 54 1C 5F 00 5...|1994.0|\n",
      "+------------------+------------------+-------------------+---------+--------+--------+---------+-----------+------------------+------------------+------------------+------------------+-----------+---------+------+--------------------+------+\n",
      "only showing top 2 rows\n",
      "\n"
     ]
    }
   ],
   "source": [
    "### Read the data frame from pickle file\n",
    "\n",
    "data_dir='../../Data/Weather'\n",
    "file_index='BSBSSSBS'\n",
    "meas='TOBS'\n",
    "\n",
    "from pickle import load\n",
    "\n",
    "#read statistics\n",
    "filename=data_dir+'/STAT_%s.pickle'%file_index\n",
    "STAT,STAT_Descriptions = load(open(filename,'rb'))\n",
    "print('keys from STAT=',STAT.keys())\n",
    "\n",
    "#!ls -ld $data_dir/*.parquet\n",
    "\n",
    "#read data\n",
    "filename=data_dir+'/decon_%s_%s.parquet'%(file_index,meas)\n",
    "\n",
    "df=sqlContext.read.parquet(filename)\n",
    "print(df.count())\n",
    "df.show(2)"
   ]
  },
  {
   "cell_type": "code",
   "execution_count": 9,
   "metadata": {
    "run_control": {
     "frozen": false,
     "read_only": false
    }
   },
   "outputs": [
    {
     "name": "stdout",
     "output_type": "stream",
     "text": [
      "['coeff_1', 'coeff_2', 'coeff_3', 'elevation', 'label', 'latitude', 'longitude', 'measurement', 'res_1', 'res_2', 'res_3', 'res_mean', 'station', 'total_var', 'undefs', 'vector', 'year']\n"
     ]
    }
   ],
   "source": [
    "print df.columns"
   ]
  },
  {
   "cell_type": "code",
   "execution_count": 10,
   "metadata": {
    "run_control": {
     "frozen": false,
     "read_only": false
    },
    "scrolled": true
   },
   "outputs": [
    {
     "name": "stdout",
     "output_type": "stream",
     "text": [
      "SELECT station, year, coeff_2 FROM weather\n"
     ]
    },
    {
     "data": {
      "text/html": [
       "<div>\n",
       "<table border=\"1\" class=\"dataframe\">\n",
       "  <thead>\n",
       "    <tr style=\"text-align: right;\">\n",
       "      <th></th>\n",
       "      <th>station</th>\n",
       "      <th>year</th>\n",
       "      <th>coeff_2</th>\n",
       "    </tr>\n",
       "  </thead>\n",
       "  <tbody>\n",
       "    <tr>\n",
       "      <th>0</th>\n",
       "      <td>USW00012816</td>\n",
       "      <td>1998.0</td>\n",
       "      <td>42.508314</td>\n",
       "    </tr>\n",
       "    <tr>\n",
       "      <th>1</th>\n",
       "      <td>USC00081163</td>\n",
       "      <td>1994.0</td>\n",
       "      <td>48.698271</td>\n",
       "    </tr>\n",
       "    <tr>\n",
       "      <th>2</th>\n",
       "      <td>USW00012842</td>\n",
       "      <td>2006.0</td>\n",
       "      <td>-126.518523</td>\n",
       "    </tr>\n",
       "    <tr>\n",
       "      <th>3</th>\n",
       "      <td>USC00083153</td>\n",
       "      <td>1986.0</td>\n",
       "      <td>-112.891737</td>\n",
       "    </tr>\n",
       "    <tr>\n",
       "      <th>4</th>\n",
       "      <td>USC00087137</td>\n",
       "      <td>1922.0</td>\n",
       "      <td>96.872375</td>\n",
       "    </tr>\n",
       "  </tbody>\n",
       "</table>\n",
       "</div>"
      ],
      "text/plain": [
       "       station    year     coeff_2\n",
       "0  USW00012816  1998.0   42.508314\n",
       "1  USC00081163  1994.0   48.698271\n",
       "2  USW00012842  2006.0 -126.518523\n",
       "3  USC00083153  1986.0 -112.891737\n",
       "4  USC00087137  1922.0   96.872375"
      ]
     },
     "execution_count": 10,
     "metadata": {},
     "output_type": "execute_result"
    }
   ],
   "source": [
    "#extract longitude and latitude for each station\n",
    "feature='coeff_2'\n",
    "sqlContext.registerDataFrameAsTable(df,'weather')\n",
    "#Features=', '.join(['coeff_1', 'coeff_2', 'coeff_3', 'elevation', 'latitude', 'longitude',\\\n",
    "#          'res_1', 'res_2', 'res_3', 'res_mean', 'year'])\n",
    "Features='station, year, coeff_2'\n",
    "Query=\"SELECT %s FROM weather\"%Features\n",
    "print(Query)\n",
    "pdf = sqlContext.sql(Query).toPandas()\n",
    "pdf.head()"
   ]
  },
  {
   "cell_type": "code",
   "execution_count": 11,
   "metadata": {
    "run_control": {
     "frozen": false,
     "read_only": false
    }
   },
   "outputs": [
    {
     "data": {
      "text/html": [
       "<div>\n",
       "<table border=\"1\" class=\"dataframe\">\n",
       "  <thead>\n",
       "    <tr style=\"text-align: right;\">\n",
       "      <th>station</th>\n",
       "      <th>US1FLAL0004</th>\n",
       "      <th>US1FLAL0007</th>\n",
       "      <th>US1FLAL0010</th>\n",
       "      <th>US1FLAL0017</th>\n",
       "      <th>US1FLAL0018</th>\n",
       "      <th>US1FLAL0026</th>\n",
       "      <th>US1FLAL0029</th>\n",
       "      <th>US1FLAL0030</th>\n",
       "      <th>US1FLAL0031</th>\n",
       "      <th>US1FLAL0037</th>\n",
       "      <th>...</th>\n",
       "      <th>USC00089176</th>\n",
       "      <th>USC00089430</th>\n",
       "      <th>USW00012810</th>\n",
       "      <th>USW00012816</th>\n",
       "      <th>USW00012818</th>\n",
       "      <th>USW00012833</th>\n",
       "      <th>USW00012842</th>\n",
       "      <th>USW00012871</th>\n",
       "      <th>USW00012873</th>\n",
       "      <th>USW00092806</th>\n",
       "    </tr>\n",
       "    <tr>\n",
       "      <th>year</th>\n",
       "      <th></th>\n",
       "      <th></th>\n",
       "      <th></th>\n",
       "      <th></th>\n",
       "      <th></th>\n",
       "      <th></th>\n",
       "      <th></th>\n",
       "      <th></th>\n",
       "      <th></th>\n",
       "      <th></th>\n",
       "      <th></th>\n",
       "      <th></th>\n",
       "      <th></th>\n",
       "      <th></th>\n",
       "      <th></th>\n",
       "      <th></th>\n",
       "      <th></th>\n",
       "      <th></th>\n",
       "      <th></th>\n",
       "      <th></th>\n",
       "      <th></th>\n",
       "    </tr>\n",
       "  </thead>\n",
       "  <tbody>\n",
       "    <tr>\n",
       "      <th>1891.0</th>\n",
       "      <td>NaN</td>\n",
       "      <td>NaN</td>\n",
       "      <td>NaN</td>\n",
       "      <td>NaN</td>\n",
       "      <td>NaN</td>\n",
       "      <td>NaN</td>\n",
       "      <td>NaN</td>\n",
       "      <td>NaN</td>\n",
       "      <td>NaN</td>\n",
       "      <td>NaN</td>\n",
       "      <td>...</td>\n",
       "      <td>NaN</td>\n",
       "      <td>NaN</td>\n",
       "      <td>NaN</td>\n",
       "      <td>NaN</td>\n",
       "      <td>NaN</td>\n",
       "      <td>NaN</td>\n",
       "      <td>NaN</td>\n",
       "      <td>NaN</td>\n",
       "      <td>NaN</td>\n",
       "      <td>NaN</td>\n",
       "    </tr>\n",
       "    <tr>\n",
       "      <th>1892.0</th>\n",
       "      <td>NaN</td>\n",
       "      <td>NaN</td>\n",
       "      <td>NaN</td>\n",
       "      <td>NaN</td>\n",
       "      <td>NaN</td>\n",
       "      <td>NaN</td>\n",
       "      <td>NaN</td>\n",
       "      <td>NaN</td>\n",
       "      <td>NaN</td>\n",
       "      <td>NaN</td>\n",
       "      <td>...</td>\n",
       "      <td>NaN</td>\n",
       "      <td>NaN</td>\n",
       "      <td>NaN</td>\n",
       "      <td>NaN</td>\n",
       "      <td>NaN</td>\n",
       "      <td>NaN</td>\n",
       "      <td>NaN</td>\n",
       "      <td>NaN</td>\n",
       "      <td>NaN</td>\n",
       "      <td>NaN</td>\n",
       "    </tr>\n",
       "    <tr>\n",
       "      <th>1893.0</th>\n",
       "      <td>NaN</td>\n",
       "      <td>NaN</td>\n",
       "      <td>NaN</td>\n",
       "      <td>NaN</td>\n",
       "      <td>NaN</td>\n",
       "      <td>NaN</td>\n",
       "      <td>NaN</td>\n",
       "      <td>NaN</td>\n",
       "      <td>NaN</td>\n",
       "      <td>NaN</td>\n",
       "      <td>...</td>\n",
       "      <td>NaN</td>\n",
       "      <td>NaN</td>\n",
       "      <td>NaN</td>\n",
       "      <td>NaN</td>\n",
       "      <td>NaN</td>\n",
       "      <td>NaN</td>\n",
       "      <td>NaN</td>\n",
       "      <td>NaN</td>\n",
       "      <td>NaN</td>\n",
       "      <td>NaN</td>\n",
       "    </tr>\n",
       "    <tr>\n",
       "      <th>1894.0</th>\n",
       "      <td>NaN</td>\n",
       "      <td>NaN</td>\n",
       "      <td>NaN</td>\n",
       "      <td>NaN</td>\n",
       "      <td>NaN</td>\n",
       "      <td>NaN</td>\n",
       "      <td>NaN</td>\n",
       "      <td>NaN</td>\n",
       "      <td>NaN</td>\n",
       "      <td>NaN</td>\n",
       "      <td>...</td>\n",
       "      <td>NaN</td>\n",
       "      <td>NaN</td>\n",
       "      <td>NaN</td>\n",
       "      <td>NaN</td>\n",
       "      <td>NaN</td>\n",
       "      <td>NaN</td>\n",
       "      <td>NaN</td>\n",
       "      <td>NaN</td>\n",
       "      <td>NaN</td>\n",
       "      <td>NaN</td>\n",
       "    </tr>\n",
       "    <tr>\n",
       "      <th>1895.0</th>\n",
       "      <td>NaN</td>\n",
       "      <td>NaN</td>\n",
       "      <td>NaN</td>\n",
       "      <td>NaN</td>\n",
       "      <td>NaN</td>\n",
       "      <td>NaN</td>\n",
       "      <td>NaN</td>\n",
       "      <td>NaN</td>\n",
       "      <td>NaN</td>\n",
       "      <td>NaN</td>\n",
       "      <td>...</td>\n",
       "      <td>NaN</td>\n",
       "      <td>NaN</td>\n",
       "      <td>NaN</td>\n",
       "      <td>NaN</td>\n",
       "      <td>NaN</td>\n",
       "      <td>NaN</td>\n",
       "      <td>NaN</td>\n",
       "      <td>NaN</td>\n",
       "      <td>NaN</td>\n",
       "      <td>NaN</td>\n",
       "    </tr>\n",
       "    <tr>\n",
       "      <th>1896.0</th>\n",
       "      <td>NaN</td>\n",
       "      <td>NaN</td>\n",
       "      <td>NaN</td>\n",
       "      <td>NaN</td>\n",
       "      <td>NaN</td>\n",
       "      <td>NaN</td>\n",
       "      <td>NaN</td>\n",
       "      <td>NaN</td>\n",
       "      <td>NaN</td>\n",
       "      <td>NaN</td>\n",
       "      <td>...</td>\n",
       "      <td>NaN</td>\n",
       "      <td>NaN</td>\n",
       "      <td>NaN</td>\n",
       "      <td>NaN</td>\n",
       "      <td>NaN</td>\n",
       "      <td>NaN</td>\n",
       "      <td>NaN</td>\n",
       "      <td>NaN</td>\n",
       "      <td>NaN</td>\n",
       "      <td>NaN</td>\n",
       "    </tr>\n",
       "    <tr>\n",
       "      <th>1897.0</th>\n",
       "      <td>NaN</td>\n",
       "      <td>NaN</td>\n",
       "      <td>NaN</td>\n",
       "      <td>NaN</td>\n",
       "      <td>NaN</td>\n",
       "      <td>NaN</td>\n",
       "      <td>NaN</td>\n",
       "      <td>NaN</td>\n",
       "      <td>NaN</td>\n",
       "      <td>NaN</td>\n",
       "      <td>...</td>\n",
       "      <td>NaN</td>\n",
       "      <td>NaN</td>\n",
       "      <td>NaN</td>\n",
       "      <td>NaN</td>\n",
       "      <td>NaN</td>\n",
       "      <td>NaN</td>\n",
       "      <td>NaN</td>\n",
       "      <td>NaN</td>\n",
       "      <td>NaN</td>\n",
       "      <td>NaN</td>\n",
       "    </tr>\n",
       "    <tr>\n",
       "      <th>1898.0</th>\n",
       "      <td>NaN</td>\n",
       "      <td>NaN</td>\n",
       "      <td>NaN</td>\n",
       "      <td>NaN</td>\n",
       "      <td>NaN</td>\n",
       "      <td>NaN</td>\n",
       "      <td>NaN</td>\n",
       "      <td>NaN</td>\n",
       "      <td>NaN</td>\n",
       "      <td>NaN</td>\n",
       "      <td>...</td>\n",
       "      <td>NaN</td>\n",
       "      <td>NaN</td>\n",
       "      <td>NaN</td>\n",
       "      <td>NaN</td>\n",
       "      <td>NaN</td>\n",
       "      <td>NaN</td>\n",
       "      <td>NaN</td>\n",
       "      <td>NaN</td>\n",
       "      <td>NaN</td>\n",
       "      <td>NaN</td>\n",
       "    </tr>\n",
       "    <tr>\n",
       "      <th>1899.0</th>\n",
       "      <td>NaN</td>\n",
       "      <td>NaN</td>\n",
       "      <td>NaN</td>\n",
       "      <td>NaN</td>\n",
       "      <td>NaN</td>\n",
       "      <td>NaN</td>\n",
       "      <td>NaN</td>\n",
       "      <td>NaN</td>\n",
       "      <td>NaN</td>\n",
       "      <td>NaN</td>\n",
       "      <td>...</td>\n",
       "      <td>NaN</td>\n",
       "      <td>NaN</td>\n",
       "      <td>NaN</td>\n",
       "      <td>NaN</td>\n",
       "      <td>NaN</td>\n",
       "      <td>NaN</td>\n",
       "      <td>NaN</td>\n",
       "      <td>NaN</td>\n",
       "      <td>NaN</td>\n",
       "      <td>NaN</td>\n",
       "    </tr>\n",
       "    <tr>\n",
       "      <th>1900.0</th>\n",
       "      <td>NaN</td>\n",
       "      <td>NaN</td>\n",
       "      <td>NaN</td>\n",
       "      <td>NaN</td>\n",
       "      <td>NaN</td>\n",
       "      <td>NaN</td>\n",
       "      <td>NaN</td>\n",
       "      <td>NaN</td>\n",
       "      <td>NaN</td>\n",
       "      <td>NaN</td>\n",
       "      <td>...</td>\n",
       "      <td>NaN</td>\n",
       "      <td>NaN</td>\n",
       "      <td>NaN</td>\n",
       "      <td>NaN</td>\n",
       "      <td>NaN</td>\n",
       "      <td>NaN</td>\n",
       "      <td>NaN</td>\n",
       "      <td>NaN</td>\n",
       "      <td>NaN</td>\n",
       "      <td>NaN</td>\n",
       "    </tr>\n",
       "  </tbody>\n",
       "</table>\n",
       "<p>10 rows × 209 columns</p>\n",
       "</div>"
      ],
      "text/plain": [
       "station  US1FLAL0004  US1FLAL0007  US1FLAL0010  US1FLAL0017  US1FLAL0018  \\\n",
       "year                                                                       \n",
       "1891.0           NaN          NaN          NaN          NaN          NaN   \n",
       "1892.0           NaN          NaN          NaN          NaN          NaN   \n",
       "1893.0           NaN          NaN          NaN          NaN          NaN   \n",
       "1894.0           NaN          NaN          NaN          NaN          NaN   \n",
       "1895.0           NaN          NaN          NaN          NaN          NaN   \n",
       "1896.0           NaN          NaN          NaN          NaN          NaN   \n",
       "1897.0           NaN          NaN          NaN          NaN          NaN   \n",
       "1898.0           NaN          NaN          NaN          NaN          NaN   \n",
       "1899.0           NaN          NaN          NaN          NaN          NaN   \n",
       "1900.0           NaN          NaN          NaN          NaN          NaN   \n",
       "\n",
       "station  US1FLAL0026  US1FLAL0029  US1FLAL0030  US1FLAL0031  US1FLAL0037  \\\n",
       "year                                                                       \n",
       "1891.0           NaN          NaN          NaN          NaN          NaN   \n",
       "1892.0           NaN          NaN          NaN          NaN          NaN   \n",
       "1893.0           NaN          NaN          NaN          NaN          NaN   \n",
       "1894.0           NaN          NaN          NaN          NaN          NaN   \n",
       "1895.0           NaN          NaN          NaN          NaN          NaN   \n",
       "1896.0           NaN          NaN          NaN          NaN          NaN   \n",
       "1897.0           NaN          NaN          NaN          NaN          NaN   \n",
       "1898.0           NaN          NaN          NaN          NaN          NaN   \n",
       "1899.0           NaN          NaN          NaN          NaN          NaN   \n",
       "1900.0           NaN          NaN          NaN          NaN          NaN   \n",
       "\n",
       "station     ...       USC00089176  USC00089430  USW00012810  USW00012816  \\\n",
       "year        ...                                                            \n",
       "1891.0      ...               NaN          NaN          NaN          NaN   \n",
       "1892.0      ...               NaN          NaN          NaN          NaN   \n",
       "1893.0      ...               NaN          NaN          NaN          NaN   \n",
       "1894.0      ...               NaN          NaN          NaN          NaN   \n",
       "1895.0      ...               NaN          NaN          NaN          NaN   \n",
       "1896.0      ...               NaN          NaN          NaN          NaN   \n",
       "1897.0      ...               NaN          NaN          NaN          NaN   \n",
       "1898.0      ...               NaN          NaN          NaN          NaN   \n",
       "1899.0      ...               NaN          NaN          NaN          NaN   \n",
       "1900.0      ...               NaN          NaN          NaN          NaN   \n",
       "\n",
       "station  USW00012818  USW00012833  USW00012842  USW00012871  USW00012873  \\\n",
       "year                                                                       \n",
       "1891.0           NaN          NaN          NaN          NaN          NaN   \n",
       "1892.0           NaN          NaN          NaN          NaN          NaN   \n",
       "1893.0           NaN          NaN          NaN          NaN          NaN   \n",
       "1894.0           NaN          NaN          NaN          NaN          NaN   \n",
       "1895.0           NaN          NaN          NaN          NaN          NaN   \n",
       "1896.0           NaN          NaN          NaN          NaN          NaN   \n",
       "1897.0           NaN          NaN          NaN          NaN          NaN   \n",
       "1898.0           NaN          NaN          NaN          NaN          NaN   \n",
       "1899.0           NaN          NaN          NaN          NaN          NaN   \n",
       "1900.0           NaN          NaN          NaN          NaN          NaN   \n",
       "\n",
       "station  USW00092806  \n",
       "year                  \n",
       "1891.0           NaN  \n",
       "1892.0           NaN  \n",
       "1893.0           NaN  \n",
       "1894.0           NaN  \n",
       "1895.0           NaN  \n",
       "1896.0           NaN  \n",
       "1897.0           NaN  \n",
       "1898.0           NaN  \n",
       "1899.0           NaN  \n",
       "1900.0           NaN  \n",
       "\n",
       "[10 rows x 209 columns]"
      ]
     },
     "execution_count": 11,
     "metadata": {},
     "output_type": "execute_result"
    }
   ],
   "source": [
    "year_station_table=pdf.pivot(index='year', columns='station', values='coeff_2')\n",
    "year_station_table.head(10)"
   ]
  },
  {
   "cell_type": "markdown",
   "metadata": {
    "run_control": {
     "frozen": false,
     "read_only": false
    }
   },
   "source": [
    "### Estimating the effect of the year vs the effect of the station\n",
    "\n",
    "To estimate the effect of time vs. location on the first eigenvector coefficient we\n",
    "compute:\n",
    "\n",
    "* The average row: `mean-by-station`\n",
    "* The average column: `mean-by-year`\n",
    "\n",
    "We then compute the RMS before and after subtracting either  the row or the column vector."
   ]
  },
  {
   "cell_type": "code",
   "execution_count": 12,
   "metadata": {
    "run_control": {
     "frozen": false,
     "read_only": false
    }
   },
   "outputs": [
    {
     "name": "stdout",
     "output_type": "stream",
     "text": [
      "total RMS                   =  222.883330077\n",
      "RMS removing mean-by-station=  202.577855676\n",
      "Fraction Explained after removing Mean by Station0.0911036029224\n",
      "RMS removing mean-by-year   =  100.825037251\n",
      "Fraction Explained after removing Mean by Year0.547633117219\n"
     ]
    }
   ],
   "source": [
    "def RMS(Mat):\n",
    "    return np.sqrt(np.nanmean(Mat**2))\n",
    "\n",
    "mean_by_year=np.nanmean(year_station_table,axis=1)\n",
    "mean_by_station=np.nanmean(year_station_table,axis=0)\n",
    "tbl_minus_year = (year_station_table.transpose()-mean_by_year).transpose()\n",
    "tbl_minus_station = year_station_table-mean_by_station\n",
    "\n",
    "f1 = (RMS(year_station_table)-RMS(tbl_minus_station))*1.0/RMS(year_station_table)\n",
    "f2 = (RMS(year_station_table)-RMS(tbl_minus_year))*1.0/RMS(year_station_table)\n",
    "\n",
    "\n",
    "print 'total RMS                   = ',RMS(year_station_table)\n",
    "print 'RMS removing mean-by-station= ',RMS(tbl_minus_station)\n",
    "print \"Fraction Explained after removing Mean by Station\"+str(f1)\n",
    "\n",
    "print 'RMS removing mean-by-year   = ',RMS(tbl_minus_year)\n",
    "print \"Fraction Explained after removing Mean by Year\"+str(f2)\n"
   ]
  },
  {
   "cell_type": "code",
   "execution_count": 13,
   "metadata": {
    "run_control": {
     "frozen": false,
     "read_only": false
    }
   },
   "outputs": [
    {
     "name": "stdout",
     "output_type": "stream",
     "text": [
      "initial RMS= 222.883330077\n",
      "0 after removing mean by year    = 100.825037251\n",
      "0 after removing mean by stations= 218.271272893\n",
      "1 after removing mean by year    = 95.7177410426\n",
      "1 after removing mean by stations= 217.243829472\n",
      "2 after removing mean by year    = 95.5678232068\n",
      "2 after removing mean by stations= 216.624290271\n",
      "3 after removing mean by year    = 95.4912319784\n",
      "3 after removing mean by stations= 216.201913915\n",
      "4 after removing mean by year    = 95.4487699332\n",
      "4 after removing mean by stations= 215.901632662\n",
      "5 after removing mean by year    = 95.4248393371\n",
      "5 after removing mean by stations= 215.684111936\n",
      "6 after removing mean by year    = 95.4112814126\n",
      "6 after removing mean by stations= 215.524839164\n",
      "7 after removing mean by year    = 95.4035856732\n",
      "7 after removing mean by stations= 215.407369851\n",
      "8 after removing mean by year    = 95.3992144215\n",
      "8 after removing mean by stations= 215.320273884\n",
      "9 after removing mean by year    = 95.3967308903\n",
      "9 after removing mean by stations= 215.255440738\n",
      "10 after removing mean by year    = 95.3953197439\n",
      "10 after removing mean by stations= 215.207033569\n",
      "11 after removing mean by year    = 95.3945179037\n",
      "11 after removing mean by stations= 215.170807264\n",
      "12 after removing mean by year    = 95.3940622784\n",
      "12 after removing mean by stations= 215.143649031\n",
      "13 after removing mean by year    = 95.3938033801\n",
      "13 after removing mean by stations= 215.123261761\n",
      "14 after removing mean by year    = 95.3936562673\n",
      "14 after removing mean by stations= 215.107941829\n",
      "15 after removing mean by year    = 95.3935726739\n",
      "15 after removing mean by stations= 215.096420886\n",
      "16 after removing mean by year    = 95.3935251739\n",
      "16 after removing mean by stations= 215.087751836\n",
      "17 after removing mean by year    = 95.3934981832\n",
      "17 after removing mean by stations= 215.081225857\n",
      "18 after removing mean by year    = 95.3934828463\n",
      "18 after removing mean by stations= 215.076311532\n",
      "19 after removing mean by year    = 95.3934741315\n",
      "19 after removing mean by stations= 215.072609921\n"
     ]
    }
   ],
   "source": [
    "T=year_station_table\n",
    "print 'initial RMS=',RMS(T)\n",
    "mean_list=[]\n",
    "station_list=[]\n",
    "for i in range(20):\n",
    "    mean_by_year=np.nanmean(T,axis=1)\n",
    "    X=T\n",
    "    T=(T.transpose()-mean_by_year).transpose()\n",
    "    print i,'after removing mean by year    =',RMS(T)\n",
    "    mean_list.append(RMS(T))\n",
    "    mean_by_station=np.nanmean(T,axis=0)\n",
    "    T=X-mean_by_station\n",
    "    print i,'after removing mean by stations=',RMS(T)\n",
    "    station_list.append(RMS(T))"
   ]
  },
  {
   "cell_type": "code",
   "execution_count": 14,
   "metadata": {
    "run_control": {
     "frozen": false,
     "read_only": false
    }
   },
   "outputs": [
    {
     "data": {
      "image/png": "[encoded data removed]",
      "text/plain": [
       "<matplotlib.figure.Figure at 0x1087145d0>"
      ]
     },
     "metadata": {},
     "output_type": "display_data"
    }
   ],
   "source": [
    "import matplotlib.pyplot as plt\n",
    "\n",
    "\n",
    "\n",
    "plt.plot(mean_list, label=\"Mean\")\n",
    "plt.plot(station_list, label=\"Station\")\n",
    "plt.legend(loc=\"upper left\")\n",
    "\n",
    "plt.show()"
   ]
  },
  {
   "cell_type": "code",
   "execution_count": 15,
   "metadata": {},
   "outputs": [
    {
     "data": {
      "text/plain": [
       "defaultdict(int,\n",
       "            {u'US1FLHB0004': 1,\n",
       "             u'US1FLHB0015': 1,\n",
       "             u'US1FLHB0044': 1,\n",
       "             u'US1FLLE0012': 1,\n",
       "             u'US1FLMR0013': 1,\n",
       "             u'US1FLPN0001': 1,\n",
       "             u'US1FLPN0004': 2,\n",
       "             u'US1FLPN0008': 2,\n",
       "             u'US1FLPN0017': 1,\n",
       "             u'US1FLSS0015': 1,\n",
       "             u'US1FLSS0022': 1,\n",
       "             u'USC00080520': 2,\n",
       "             u'USC00080535': 2,\n",
       "             u'USC00080598': 2,\n",
       "             u'USC00080940': 5,\n",
       "             u'USC00080945': 8,\n",
       "             u'USC00081046': 17,\n",
       "             u'USC00081163': 8,\n",
       "             u'USC00081310': 3,\n",
       "             u'USC00081432': 18,\n",
       "             u'USC00081632': 4,\n",
       "             u'USC00081635': 2,\n",
       "             u'USC00082008': 3,\n",
       "             u'USC00082418': 9,\n",
       "             u'USC00083153': 9,\n",
       "             u'USC00083316': 10,\n",
       "             u'USC00083321': 8,\n",
       "             u'USC00083322': 2,\n",
       "             u'USC00083956': 9,\n",
       "             u'USC00083986': 9,\n",
       "             u'USC00084289': 23,\n",
       "             u'USC00084327': 4,\n",
       "             u'USC00085124': 1,\n",
       "             u'USC00085539': 8,\n",
       "             u'USC00085622': 4,\n",
       "             u'USC00085662': 2,\n",
       "             u'USC00086040': 1,\n",
       "             u'USC00086065': 10,\n",
       "             u'USC00086414': 31,\n",
       "             u'USC00086419': 3,\n",
       "             u'USC00086880': 4,\n",
       "             u'USC00087137': 7,\n",
       "             u'USC00087205': 18,\n",
       "             u'USC00087395': 6,\n",
       "             u'USC00087440': 7,\n",
       "             u'USC00087665': 1,\n",
       "             u'USC00087851': 23,\n",
       "             u'USC00088021': 8,\n",
       "             u'USC00088024': 1,\n",
       "             u'USC00088527': 3,\n",
       "             u'USC00088530': 3,\n",
       "             u'USC00088565': 1,\n",
       "             u'USC00088573': 1,\n",
       "             u'USC00088782': 3,\n",
       "             u'USC00088786': 19,\n",
       "             u'USC00088824': 12,\n",
       "             u'USC00089120': 4,\n",
       "             u'USC00089176': 12,\n",
       "             u'USC00089430': 3,\n",
       "             u'USW00012810': 7,\n",
       "             u'USW00012816': 13,\n",
       "             u'USW00012818': 3,\n",
       "             u'USW00012833': 4,\n",
       "             u'USW00012842': 27,\n",
       "             u'USW00012873': 1,\n",
       "             u'USW00092806': 18})"
      ]
     },
     "execution_count": 15,
     "metadata": {},
     "output_type": "execute_result"
    }
   ],
   "source": [
    "rows=df.rdd.map(lambda row:(row.station,row.year,sum(unpackArray(row['vector'],np.float16))/np.count_nonzero(~np.isnan(unpackArray(row['vector'],np.float16)))))\n",
    "\n",
    "rows.filter(lambda x : ~np.isnan(x[2])).countByKey()\n",
    "\n"
   ]
  },
  {
   "cell_type": "code",
   "execution_count": 16,
   "metadata": {
    "collapsed": true
   },
   "outputs": [],
   "source": [
    "data = rows.filter(lambda x : ~np.isnan(x[2])).filter(lambda x : x[0] == 'USC00086414').sortBy(lambda x : x[1]).collect()\n",
    "(station,year,rain) = zip(*data)                        "
   ]
  },
  {
   "cell_type": "code",
   "execution_count": 17,
   "metadata": {},
   "outputs": [
    {
     "data": {
      "image/png": "[encoded data removed]",
      "text/plain": [
       "<matplotlib.figure.Figure at 0x111596d50>"
      ]
     },
     "metadata": {},
     "output_type": "display_data"
    }
   ],
   "source": [
    "from pylab import rcParams\n",
    "rcParams['figure.figsize'] = 20,7\n",
    "\n",
    "fig, ax = plt.subplots()\n",
    "ax.plot(year,rain)\n",
    "ax.xaxis.set_ticks(np.arange(min(year), max(year)+1, 5.0))\n",
    "ax.set_xlabel('year')\n",
    "ax.set_ylabel('Average annual rainfall in mm/day')\n",
    "ax.set_title('Florida Rainfall/Storm Analysis')\n",
    "plt.show()"
   ]
  },
  {
   "cell_type": "code",
   "execution_count": null,
   "metadata": {
    "collapsed": true
   },
   "outputs": [],
   "source": []
  }
 ],
 "metadata": {
  "anaconda-cloud": {},
  "hide_input": false,
  "kernelspec": {
   "display_name": "Python 2",
   "language": "python",
   "name": "python2"
  },
  "language_info": {
   "codemirror_mode": {
    "name": "ipython",
    "version": 2
   },
   "file_extension": ".py",
   "mimetype": "text/x-python",
   "name": "python",
   "nbconvert_exporter": "python",
   "pygments_lexer": "ipython2",
   "version": "2.7.13"
  },
  "toc": {
   "colors": {
    "hover_highlight": "#DAA520",
    "running_highlight": "#FF0000",
    "selected_highlight": "#FFD700"
   },
   "moveMenuLeft": true,
   "nav_menu": {
    "height": "174px",
    "width": "252px"
   },
   "navigate_menu": true,
   "number_sections": true,
   "sideBar": true,
   "threshold": 4,
   "toc_cell": false,
   "toc_section_display": "block",
   "toc_window_display": false
  },
  "widgets": {
   "state": {},
   "version": "1.0.0"
  }
 },
 "nbformat": 4,
 "nbformat_minor": 1
}
