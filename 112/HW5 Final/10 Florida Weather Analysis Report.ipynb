{
 "cells": [
  {
   "cell_type": "markdown",
   "metadata": {
    "run_control": {
     "frozen": false,
     "read_only": false
    }
   },
   "source": [
    "# Florida Weather Analysis\n",
    "\n",
    "This is a report on the historical analysis of weather patterns in an area that approximately overlaps the area of the state of Florida.\n",
    "\n",
    "Florida is known for its warm and pleasant weather. It has mildly cold winters and Rainfall, especially thunderstorms, are also common in Florida. Based on our knowledge of florida we shall see whether the following observations are consistent with the stated facts.\n",
    "\n",
    "The data we will use here comes from [NOAA](https://www.ncdc.noaa.gov/). Specifically, it was downloaded from This [FTP site](ftp://ftp.ncdc.noaa.gov/pub/data/ghcn/daily/).\n",
    "\n",
    "We focused on six measurements:\n",
    "* **TMIN, TMAX:** the daily minimum and maximum temperature.\n",
    "* **TOBS:** The average temperature for each day.\n",
    "* **PRCP:** Daily Percipitation (in mm)\n",
    "* **SNOW:** Daily snowfall (in mm)\n",
    "* **SNWD:** The depth of accumulated snow.\n",
    "\n",
    "## 1 Sanity-check: comparison with outside sources\n",
    "\n",
    "### Identification of location of stations\n",
    "\n",
    "![location_identify.png](Repfigures/location_identify.png)\n",
    "\n",
    "By plotting the coordinates of the stations it was identified that the region was the west coast of Florida.\n",
    "\n",
    "\n",
    "\n",
    "<p>We start by comparing some of the general statistics with graphs that we obtained from a site called <a href=\"http://www.usclimatedata.com/climate/boston/massachusetts/united-states/usma0046\" target=\"_blank\">US Climate Data</a> The graph shows the daily minimum and maximum temperatures for each month, as well as the total precipitation for each month of the year for the city of starke in Florida.</p>\n",
    "\n",
    "<p>&nbsp;</p>\n",
    "\n",
    "<p><img alt=\"sanity.png\" src=\"Repfigures/climate.png\" style=\"height:300px; width:500px\" /></p>\n",
    "\n",
    "<p>&nbsp;</p>\n",
    "\n",
    "<p>We see that the min and max daily&nbsp;temperature agree with the ones we got from our data plotted below ie it does not deviate beyond the standard deviation from the mean and stays in range mean +/- std.</p>\n",
    "\n",
    "<p>&nbsp;</p>\n",
    "\n",
    "<p><img alt=\"tmax,tmin.png\" src=\"Repfigures/tmax,tmin.png\" style=\"height:300px; width:800px\" /></p>\n",
    "\n",
    "<p>To compare the precipitation&nbsp;we need to translate millimeter/day to inches/month. According to our analysis the average rainfall is 25.00 mm/day which translates to about 29.52 Inches&nbsp;per month. According to US-Climate-Data the average rainfall is closer to 54 inch per month. A point to be noted is that the data plotted is across the different regions in the west coast of florida whereas the data obtained from the US climate is just for a single weather station</p>\n",
    "\n",
    "<p>&nbsp;<img alt=\"prcp.png\" src=\"Repfigures/prcp.png\" style=\"height:450px; width:600px\" /></p>\n"
   ]
  },
  {
   "cell_type": "markdown",
   "metadata": {},
   "source": [
    "### Sanity Check - KS Test\n",
    "The two-sample K–S test is one of the most useful and general nonparametric methods for comparing two samples, as it is sensitive to differences in both location and shape of the empirical cumulative distribution functions of the two samples.\n",
    "\n",
    "<table id=\"customers\" style=\"border: 3px solid black\">\n",
    "  <tr>\n",
    "    <th>Average Low temperature in Celcius</th>\n",
    "    <th>Average Mean TMIN temperature in Celcius</th> \n",
    "    <th>Average High temperature in Celcius</th> \n",
    "    <th>Average Mean TMAX temperature in Celcius</th> \n",
    "  </tr>\n",
    "  <tr>\n",
    "    <td>4.6</td>\n",
    "    <td>8.85</td>\n",
    "    <td>18.6</td> \n",
    "    <td>21.21</td>\n",
    "  </tr>\n",
    "  <tr>\n",
    "    <td>5.8</td>\n",
    "    <td>9.82</td>\n",
    "    <td>19.8</td>\n",
    "    <td>22.30</td>\n",
    "  </tr>\n",
    "  <tr>\n",
    "    <td>8.8</td>\n",
    "    <td>12.38</td>\n",
    "    <td>23.4</td> \n",
    "    <td>25.02</td>\n",
    "  </tr>\n",
    "  <tr>\n",
    "    <td>11.8</td>\n",
    "    <td>15.10</td>\n",
    "    <td>26.1</td> \n",
    "    <td>27.94</td>\n",
    "  </tr>\n",
    "  <tr>\n",
    "    <td>15.8</td>\n",
    "    <td>18.60</td> \n",
    "    <td>29.7</td>\n",
    "    <td>30.96</td>\n",
    "  </tr>\n",
    "  <tr>\n",
    "    <td>19.6</td>\n",
    "    <td>21.60</td> \n",
    "    <td>31.8</td> \n",
    "    <td>32.37</td> \n",
    "  </tr>\n",
    "  <tr>\n",
    "    <td>20.9</td>\n",
    "    <td>22.46</td> \n",
    "    <td>32.7</td> \n",
    "    <td>32.70</td> \n",
    "  </tr>\n",
    "  <tr>\n",
    "    <td>20.9</td>\n",
    "    <td>22.45</td> \n",
    "    <td>32.3</td>\n",
    "    <td>32.66</td>\n",
    "  </tr>\n",
    "  <tr>\n",
    "    <td>20</td>\n",
    "    <td>21.03</td> \n",
    "    <td>30.8</td>\n",
    "    <td>31.28</td>\n",
    "  </tr>\n",
    "  <tr>\n",
    "    <td>15.1</td>\n",
    "    <td>16.19</td> \n",
    "    <td>27.1</td>\n",
    "    <td>27.73</td>\n",
    "  </tr>\n",
    "  <tr>\n",
    "    <td>10</td>\n",
    "    <td>12.30</td> \n",
    "    <td>23.1</td>\n",
    "    <td>24.63</td> \n",
    "  </tr>\n",
    "  <tr>\n",
    "    <td>6.1</td>\n",
    "    <td>9.68</td> \n",
    "    <td>19.5</td>\n",
    "    <td>21.92</td> \n",
    "  </tr>\n",
    " </table>\n",
    " \n",
    " \n",
    " By performing the KS test we obtain the following results :\n",
    " \n",
    " We obtain a pvalue of 0.43331 when comparing the maximum temperatures and a pvalue of 0.7864 when comparing minimum temperatures.\n",
    " \n",
    " These are greater than minimum threshold of 0.05 therefore we can conclude that the distributions are similar enough and this concludes our sanity check.\n",
    " "
   ]
  },
  {
   "cell_type": "markdown",
   "metadata": {
    "run_control": {
     "frozen": false,
     "read_only": false
    }
   },
   "source": [
    "## 2 PCA analysis\n",
    "\n",
    "For each of the six measurement, we compute the percentate of the variance explained as a function of the number of eigen-vectors used.\n",
    "\n",
    "### Percentage of variance explained.\n",
    "![VarExplained1.png](Repfigures/VarExplained1.png)\n",
    "We see that the top 5 eigen-vectors explain 35% of variance for TMIN, 51.9% for TOBS and 26% for TMAX.\n",
    "\n",
    "We conclude that of the three, TOBS is best explained by the top 5 eigenvectors. This is especially true for the first eigen-vector which, by itself, explains 42.45% of the variance. All measurements involving temperature capture a considerate amount of variance within the first few eigenvectors as reflected above.\n",
    "\n",
    "![VarExplained2.png](Repfigures/VarExplained2.png)\n",
    "\n",
    "The top 5 eigenvectors explain 8% of the variance for PRCP. This is a low value. On the other hand the top 5 eigenvectors explain 100% of the variance for SNOW and SNWD. This means that these top 5 eigenvectors capture most of the variation in the snow signals. However we notice that when we filter using the residual error computed from reconstruction by mean as less than 1 this leaves us with only 5 records. This is consistent with our knowledfe of florida's climate as it rarely snows. Therefore there is insufficent measurements of snow data.\n",
    "\n",
    "The mean and eigen plots for snow depth reveal that the mean is mainly zero with few scattered spikes and the same behaviour is observed in the eigen plots ie the eigenvectors are highly sparse. Hence the reconstruction always yields a 100% of variance explained due to a consistent prediction of 0 by the eigenvectors. \n",
    "\n",
    "Based on that we will dig deeper into the PCA analysis for TOBS as the top four eigen vectors capture 50% of the variance. There are negative eigenvalues during the decomposition of the covariance matrix and these could be due to the missing observations however since we deal only with the top 4 eigen values these negative values will not play a role in our observations.\n",
    "\n",
    "![SNWD.png](Repfigures/SNWD.png)\n"
   ]
  },
  {
   "cell_type": "markdown",
   "metadata": {
    "run_control": {
     "frozen": false,
     "read_only": false
    }
   },
   "source": [
    "## 3 Analysis of Temperature Observed\n",
    "\n",
    "We choose to analyze the eigen-decomposition for TOBS because the first 4 eigen-vectors explain 50% of the variance.\n",
    "\n",
    "First, we graph the mean and the top 4 eigen-vectors.\n",
    "\n",
    "We observe that the summer season is from Mid June to September, as this has the highest mean temperature observed and this is consistent with our knowledge of summer season.\n",
    "![SNWD_mean_eigs.png](Repfigures/TOBS_mean_eigs.png)"
   ]
  },
  {
   "cell_type": "markdown",
   "metadata": {
    "run_control": {
     "frozen": false,
     "read_only": false
    }
   },
   "source": [
    "Next we interpret the eigen-functions. The first eigen-function (eig1) is almost constant shoiwing that there is hardly any variation in the temperatures acorss the months as florida is mostly hot.  The interpretation of this shape is that eig1 represents the overall amount of temperature above/below the mean, but without changing the distribution over time. The Coefficient of variation for Mean distribution was found to be 0.2046 and Coefficient of variation for eigenvector1 distribution is 0.2180. These are similar and provide us statistical support for the above statements.\n",
    "\n",
    "**eig2,eig3 and eig4** are similar in the following way. They all oscilate between positive and negative values. In other words, they correspond to changing the distribution of the Temperature observed over the summer months, but they don't change the total (much) as Florida has an almost consistent temperature throughout.\n",
    "\n",
    "They can be interpreted as follows:\n",
    "* **eig2:** Highest Temperature noted in Feb-March. Least Temperature in November,December.\n",
    "* **eig3:** Highest Temperature noted in Novemeber,December. Least Temperature in May.\n",
    "* **eig4:** Highest Temperature noted in March. Least Temperature in Feb,December.\n"
   ]
  },
  {
   "cell_type": "markdown",
   "metadata": {
    "run_control": {
     "frozen": false,
     "read_only": false
    }
   },
   "source": [
    "### Examples of reconstructions\n",
    "\n",
    "We perform our reconstruction with 4 eigen vectors. We notice that the target is approximated best by including more eigenvectors ie more the eigenvectors better the approximation as more variance is captured.\n",
    "\n",
    "#### Coeff1\n",
    "Coeff1: most positive\n",
    "![SNWD_grid_Pos_coeff1.png](Repfigures/TOBS_grid_Pos_coeff1.png)\n",
    "Coeff1: most negative\n",
    "![SNWD_grid_neg_coeff1.png](Repfigures/TOBS_grid_neg_coeff1.png)\n",
    "Large positive values of coeff1 correspond to more than average temperature. Low values correspond to less than average temperature.\n",
    "\n",
    "#### Coeff2\n",
    "Coeff2: most positive\n",
    "![SNWD_grid_Pos_coeff2.png](Repfigures/TOBS_grid_Pos_coeff2.png)\n",
    "Coeff2: most negative\n",
    "![SNWD_grid_neg_coeff2.png](Repfigures/TOBS_grid_neg_coeff2.png)\n",
    "\n",
    "Large positive values of coeff2 correspond to a High temperature in Feb -March(Peak) and this is similar to the representation of eigenvector 2. Negative values for coeff2 correspond to Low temperatures in Feb-March(Dip).\n",
    "#### Coeff3\n",
    "Coeff3: most positive\n",
    "![SNWD_grid_Pos_coeff3.png](Repfigures/TOBS_grid_Pos_coeff3.png)\n",
    "Coeff3: most negative\n",
    "![SNWD_grid_neg_coeff3.png](Repfigures/TOBS_grid_neg_coeff3.png)\n",
    "\n",
    "Large positive values of coeff2 correspond to High Temperatures in November and Decemeber and this is similar to representation of eigenvector 3. Negative Values for coeff3 corresponds to Low temperatures in November,December.\n",
    "\n"
   ]
  },
  {
   "cell_type": "markdown",
   "metadata": {
    "run_control": {
     "frozen": false,
     "read_only": false
    }
   },
   "source": [
    "### 4 Cumulative Distribution Function Analysis\n",
    "### Residuals\n",
    "![cdf_residual.png](Repfigures/cdf_residual.png)\n",
    "\n",
    "We know the res_1 corresponds to greater error in reconstruction compared to res_3 as res_3 captures more variance as compared to res_1. This is reflected in the above plot as res_1 approaches 1 the slowest ie for a specific value of residual error res_3 has reconstructed a greater number of stations as compared to res_2 which is greater than res_1. For example when the cdf of residual error is atmost 0.75 res_3 has reconstructed 65% of the stations wheras res_1 has reconstructed only 50% of the stations.\n",
    "\n",
    "### Coefficients\n",
    "![cdf_residuals.png](Repfigures/cdf_coeff.png)\n",
    "\n",
    "Coeff1 corresponds to projection of eigenvector1 and must have higher weightage compared to other coeff as the first eigen vector captures majority of the variance. As seen in the graph for a specific value of probability ie number of stations reconstructed coeff1 has a higher value as compared to coeff2 and coeff3 after a threshold.\n"
   ]
  },
  {
   "cell_type": "markdown",
   "metadata": {},
   "source": [
    "### 5 IpyLeaflet Map\n",
    "### Visualizing weather stations distributions for TOBS stats\n",
    "\n",
    "The following map shows the weather stations corresponding to the TOBS data. For each coordinates we plot the average value of coefficient 1. This is represented with circles as markers where the area of each circle corresponds to number of stations in the location and the filler corresponds to hex code of coeff1 to provide distiction between different regions in terms of temperature observed. It is similar to a heat map.\n",
    "\n",
    "\n",
    "![legend.png](Repfigures/legend.png)"
   ]
  },
  {
   "cell_type": "markdown",
   "metadata": {
    "collapsed": true,
    "run_control": {
     "frozen": false,
     "read_only": false
    }
   },
   "source": [
    "### 6 Temporal/Spatial Analysis of TOBS\n",
    "\n",
    "We now estimate the relative importance of location-to-location variation relative to year-by-year variation. These are measured using the fraction by which the variance is reduced when we subtract from each station/year entry the average-per-year or the average-per-station respectively. Here are the results:\n",
    "\n",
    "\n",
    "#### Coeff1\n",
    "\n",
    "total RMS                   =  610.88931291\n",
    "\n",
    "RMS removing mean-by-station=  404.50008753\n",
    "\n",
    "Fraction Explained after removing Mean by Station 0.337850443637\n",
    "\n",
    "RMS removing mean-by-year   =  572.824138936\n",
    "\n",
    "Fraction Explained after removing Mean by Year 0.0623110818422\n",
    "\n",
    "#### Coeff2\n",
    "\n",
    "total RMS                   =  195.727025297\n",
    "\n",
    "RMS removing mean-by-station=  183.306915055\n",
    "\n",
    "Fraction Explained after removing Mean by Station 0.0634562867483\n",
    "\n",
    "RMS removing mean-by-year   =  131.31596864\n",
    "\n",
    "Fraction Explained after removing Mean by Year 0.329086167633\n",
    "\n",
    "#### Coeff3\n",
    "\n",
    "total RMS                   =  168.569071172\n",
    "\n",
    "RMS removing mean-by-station=  151.638801507\n",
    "\n",
    "Fraction Explained after removing Mean by Station 0.10043520764\n",
    "\n",
    "RMS removing mean-by-year   =  123.955155744\n",
    "\n",
    "Fraction Explained after removing Mean by Year 0.264662521528\n",
    "\n",
    "\n",
    "We see that the variation by year explains more than the variation by station. However this effect is weaker consider coeff_1, which has to do with the mean temperature, vs. coeff_2,3 which, as we saw above have to do with the timining of summer seasons. We see that for coeff_2,3 the stations explain 6-10% of the variance while the year explaines 26-32%."
   ]
  },
  {
   "cell_type": "markdown",
   "metadata": {},
   "source": [
    "### 7 Florida Rainfall/Storm Analysis\n",
    "\n",
    "\n",
    "![storm.png](Repfigures/storm.png)\n",
    "\n",
    "\n",
    "The figure shows that peak rainfall was experienced between 1930-1940 and highest rainfall recorded around 1910-1940. In the period between 1900 and 1949, 108 tropical cyclones affected the state and this is consistent with the information projected from the plot as high rainfall occured during this period which is expected during a thunderstorm and cyclone.\n"
   ]
  },
  {
   "cell_type": "markdown",
   "metadata": {},
   "source": [
    "### 8 Analysing Residuals/ Correlation between Stations\n",
    "\n",
    "![prcp7.png](Repfigures/prcp7.png)\n",
    "\n",
    "The Mean of average precipitation is 32.80 mm/day. The peak is observed between June to August and this is the rainy season in Florida. The first eigenvector has a pattern similar to that of mean and hence represents deviation from mean.\n",
    "\n",
    "![cdf_dailyrain.png](Repfigures/cdf_dailyrain.png)\n",
    "\n",
    "From the CDF plot we can conclude that there is rainfall only when cumulative probability reaches 70% therefore there is rain oberved for only 30% of the days. \n",
    "\n",
    "![hist7.png](Repfigures/hist7.png)\n",
    "\n",
    "The histogram plot shows that most of the weather stations have low significance.\n",
    "\n",
    "![cormatrix.png](Repfigures/cormatrix.png)\n",
    "\n",
    "It is hard to find correlations between the amount of rain on the same day in different stations. Because amounts of rain vary a lot between even close locations. It is more reasonable to try to compare whether or not it rained on the same day in different stations. \n",
    "\n",
    "To find a statistical test for rejecting the null hypothesis that says that the rainfall in the two locations is independent ie rainfall in one area is highly likely to cause precipitation in another area .Therfore by computing the normalized log probability of overlap of rainy days for each pair of stations and plotting the top correlated stations we observe the spatial relationship ie closeness of the stations as in the figure.\n",
    "\n",
    "The correlation Matrix shows that the top 10 stations are highly correlated.  \n",
    "\n",
    "To find more correlations we use SVD to cluster weather stations based on top principle axes. We see that the top 10 eigenvectors explain about 90% of the square magnitude of the matrix.\n",
    "\n",
    "![eigen_plot.png](Repfigures/eigen_plot.png)\n",
    "\n",
    "For the purpose of clustering, we consider only the first four principal components. We sort the weather stations in the correlation matrix according to increasing order of the magnitude of dimensions of the first eigen vector. The resultant correlation matrix visualized as a heatmap shows clusters of weather stations that are correlated based on the first eigen vector. We repeat this process for the 2nd,3rd and 4th eigen vectors. Below are the new heatmaps obtained after sorting. From the upper left heatmap we can see that the first 50 stations are correlated and especially the first 25 are highly correlated.\n",
    "\n",
    "![corrmatrix1.png](Repfigures/corrmatrix1.png)\n",
    "\n",
    "Plotting these 20 correlated weather stations on a map shows their spatial relationship ie close regions affect each others precipiation.\n",
    "![residuals7.png](Repfigures/residuals7.png)\n",
    "\n",
    "\n",
    "\n",
    "Another method of visualizing the data is to plot the weather stations along with the coefficients of the first principal components. The below plot indicates the principal components by triangles with the size of the triangle representing the magnitude of the coefficient and the opacity of the triangle representing the sign of the coefficient (filled triangles for negative and un-filled triangles for positive coefficients). As we can see there are a few close weather stations with similar triangle structures,that is, similar principal components. From the visualizations we notice the similartity between Brandon and River view weather stations ie they are correlated and experience precipitaion on the same days of the year.\n",
    "\n",
    "\n",
    "![triangle_coeff.png](Repfigures/triangle_coeff.png)"
   ]
  },
  {
   "cell_type": "markdown",
   "metadata": {
    "collapsed": true
   },
   "source": [
    "This concludes our weather analysis report."
   ]
  }
 ],
 "metadata": {
  "anaconda-cloud": {},
  "kernelspec": {
   "display_name": "Python 2",
   "language": "python",
   "name": "python2"
  },
  "language_info": {
   "codemirror_mode": {
    "name": "ipython",
    "version": 2
   },
   "file_extension": ".py",
   "mimetype": "text/x-python",
   "name": "python",
   "nbconvert_exporter": "python",
   "pygments_lexer": "ipython2",
   "version": "2.7.13"
  },
  "toc": {
   "colors": {
    "hover_highlight": "#DAA520",
    "running_highlight": "#FF0000",
    "selected_highlight": "#FFD700"
   },
   "moveMenuLeft": true,
   "nav_menu": {
    "height": "12px",
    "width": "252px"
   },
   "navigate_menu": true,
   "number_sections": true,
   "sideBar": true,
   "threshold": 4,
   "toc_cell": false,
   "toc_section_display": "block",
   "toc_window_display": false
  }
 },
 "nbformat": 4,
 "nbformat_minor": 2
}
