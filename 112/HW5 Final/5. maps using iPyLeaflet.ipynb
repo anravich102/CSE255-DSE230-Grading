{
 "cells": [
  {
   "cell_type": "markdown",
   "metadata": {
    "run_control": {
     "frozen": false,
     "read_only": false
    }
   },
   "source": [
    "## iPyLeaflet\n",
    "[ipyleaflet](https://github.com/ellisonbg/ipyleaflet) is a bridge between jupyter notebooks and the [leaflet](http://leafletjs.com/)  javascript library for drawing maps.\n",
    "\n",
    "ipyleaflet comes with a few examples notebooks (this notebook was derived from one) but very little documentation,\n",
    "for more documentation read the [Leaflet IPA](http://leafletjs.com/reference.html)\n",
    "\n",
    "For installation directions, see the README on [ipyleaflet](https://github.com/ellisonbg/ipyleaflet)"
   ]
  },
  {
   "cell_type": "code",
   "execution_count": 1,
   "metadata": {
    "collapsed": true,
    "run_control": {
     "frozen": false,
     "read_only": false
    }
   },
   "outputs": [],
   "source": [
    "from ipyleaflet import (\n",
    "    Map,\n",
    "    Marker,\n",
    "    TileLayer, ImageOverlay,\n",
    "    Polyline, Polygon, Rectangle, Circle, CircleMarker,\n",
    "    GeoJSON,\n",
    "    DrawControl,\n",
    ")"
   ]
  },
  {
   "cell_type": "markdown",
   "metadata": {
    "run_control": {
     "frozen": false,
     "read_only": false
    }
   },
   "source": [
    "## Visualizing the distribution of the observations\n",
    "\n",
    "## Load the required libraries"
   ]
  },
  {
   "cell_type": "code",
   "execution_count": 2,
   "metadata": {
    "collapsed": true,
    "run_control": {
     "frozen": false,
     "read_only": false
    }
   },
   "outputs": [],
   "source": [
    "import pandas as pd\n",
    "import numpy as np\n",
    "import sklearn as sk\n",
    "import urllib\n",
    "import math"
   ]
  },
  {
   "cell_type": "code",
   "execution_count": 3,
   "metadata": {
    "collapsed": true,
    "run_control": {
     "frozen": false,
     "read_only": false
    }
   },
   "outputs": [],
   "source": [
    "import findspark\n",
    "findspark.init()\n",
    "\n",
    "from pyspark import SparkContext\n",
    "# sc.stop()\n",
    "sc = SparkContext(master=\"local[3]\",pyFiles=['lib/numpy_pack.py','lib/computeStats.py'])\n",
    "\n",
    "from pyspark import SparkContext\n",
    "from pyspark.sql import *\n",
    "sqlContext = SQLContext(sc)"
   ]
  },
  {
   "cell_type": "code",
   "execution_count": 4,
   "metadata": {
    "collapsed": true,
    "run_control": {
     "frozen": false,
     "read_only": false
    }
   },
   "outputs": [],
   "source": [
    "import sys\n",
    "sys.path.append('./lib')\n",
    "\n",
    "import numpy as np\n",
    "from numpy_pack import packArray,unpackArray\n",
    "from computeStats import computeOverAllDist, STAT_Descriptions"
   ]
  },
  {
   "cell_type": "code",
   "execution_count": 5,
   "metadata": {
    "run_control": {
     "frozen": false,
     "read_only": false
    }
   },
   "outputs": [
    {
     "name": "stdout",
     "output_type": "stream",
     "text": [
      "('keys from STAT=', ['TMIN', 'TOBS', 'TMAX', 'SNOW', 'SNWD', 'PRCP'])\n",
      "1651\n",
      "+-------------------+-------------------+-------------------+-------------------+---------+--------+--------+---------+-----------+------------------+------------------+------------------+------------------+-------------------+-----------+-----------+------+--------------------+------+\n",
      "|            coeff_1|            coeff_2|            coeff_3|            coeff_4|elevation|   label|latitude|longitude|measurement|             res_1|             res_2|             res_3|             res_4|           res_mean|    station|  total_var|undefs|              vector|  year|\n",
      "+-------------------+-------------------+-------------------+-------------------+---------+--------+--------+---------+-----------+------------------+------------------+------------------+------------------+-------------------+-----------+-----------+------+--------------------+------+\n",
      "|  392.4260121366621| -90.28280871726807|-173.86119095642724| 229.55145304013024|     57.9|BSBSSSBS| 28.3378|   -82.26|       TOBS|0.7880303361777318|0.7768109716183055|0.7352042557241117|0.6626741635786686|0.03216197458304821|USC00087851|2.2589112E7|     0|[20 5B 10 5A A0 5...|2003.0|\n",
      "|-1127.5011953087064|-26.628475965178957| 252.29817191488357|-379.86059182056005|     52.1|BSBSSSBS|   29.65|   -82.35|       TOBS|0.6572929420325063|0.6510335960453469|0.7352661991312301| 0.645723443452022| 0.0986158454487319|USC00083316|1.3136312E7|    32|[A0 53 E0 54 80 5...|1914.0|\n",
      "+-------------------+-------------------+-------------------+-------------------+---------+--------+--------+---------+-----------+------------------+------------------+------------------+------------------+-------------------+-----------+-----------+------+--------------------+------+\n",
      "only showing top 2 rows\n",
      "\n"
     ]
    }
   ],
   "source": [
    "### Read the data frame from pickle file\n",
    "\n",
    "data_dir='../../Data/Weather'\n",
    "file_index='BSBSSSBS'\n",
    "meas='TOBS'\n",
    "\n",
    "from pickle import load\n",
    "\n",
    "#read statistics\n",
    "filename=data_dir+'/STAT_%s.pickle'%file_index\n",
    "STAT,STAT_Descriptions = load(open(filename,'rb'))\n",
    "print('keys from STAT=',STAT.keys())\n",
    "\n",
    "#!ls -ld $data_dir/*.parquet\n",
    "\n",
    "#read data\n",
    "filename=data_dir+'/decon_%s_%s.parquet'%(file_index,meas)\n",
    "\n",
    "df=sqlContext.read.parquet(filename)\n",
    "print(df.count())\n",
    "df.show(2)"
   ]
  },
  {
   "cell_type": "code",
   "execution_count": 6,
   "metadata": {
    "run_control": {
     "frozen": false,
     "read_only": false
    },
    "scrolled": true
   },
   "outputs": [
    {
     "name": "stdout",
     "output_type": "stream",
     "text": [
      "SELECT station, latitude,longitude,elevation,coeff_1 FROM weather\n",
      "+-----------+--------+---------+---------+-------------------+\n",
      "|    station|latitude|longitude|elevation|            coeff_1|\n",
      "+-----------+--------+---------+---------+-------------------+\n",
      "|USC00087851| 28.3378|   -82.26|     57.9|  392.4260121366621|\n",
      "|USC00083316|   29.65|   -82.35|     52.1|-1127.5011953087064|\n",
      "|USC00083321| 29.6333| -82.3667|     29.3|  339.3907048774236|\n",
      "|USC00081046| 28.6164| -82.3658|     73.2|  386.2912957121724|\n",
      "+-----------+--------+---------+---------+-------------------+\n",
      "only showing top 4 rows\n",
      "\n"
     ]
    }
   ],
   "source": [
    "#extract longitude and latitude for each station\n",
    "feature='coeff_1'\n",
    "sqlContext.registerDataFrameAsTable(df,'weather')\n",
    "Query=\"SELECT station, latitude,longitude,elevation,%s FROM weather\"%feature\n",
    "print(Query)\n",
    "df1 = sqlContext.sql(Query)\n",
    "df1.show(4)"
   ]
  },
  {
   "cell_type": "code",
   "execution_count": 7,
   "metadata": {
    "run_control": {
     "frozen": false,
     "read_only": false
    }
   },
   "outputs": [
    {
     "data": {
      "text/html": [
       "<div>\n",
       "<table border=\"1\" class=\"dataframe\">\n",
       "  <thead>\n",
       "    <tr style=\"text-align: right;\">\n",
       "      <th></th>\n",
       "      <th>station</th>\n",
       "      <th>latitude</th>\n",
       "      <th>longitude</th>\n",
       "      <th>elevation</th>\n",
       "      <th>count(station)</th>\n",
       "      <th>avg(coeff_1)</th>\n",
       "    </tr>\n",
       "  </thead>\n",
       "  <tbody>\n",
       "    <tr>\n",
       "      <th>26</th>\n",
       "      <td>USC00080535</td>\n",
       "      <td>28.5500</td>\n",
       "      <td>-82.6333</td>\n",
       "      <td>14.9</td>\n",
       "      <td>8</td>\n",
       "      <td>-852.928829</td>\n",
       "    </tr>\n",
       "    <tr>\n",
       "      <th>25</th>\n",
       "      <td>USC00080598</td>\n",
       "      <td>29.7956</td>\n",
       "      <td>-82.9178</td>\n",
       "      <td>9.1</td>\n",
       "      <td>11</td>\n",
       "      <td>-1393.929266</td>\n",
       "    </tr>\n",
       "    <tr>\n",
       "      <th>38</th>\n",
       "      <td>USC00080940</td>\n",
       "      <td>27.4833</td>\n",
       "      <td>-82.5500</td>\n",
       "      <td>3.0</td>\n",
       "      <td>40</td>\n",
       "      <td>141.640689</td>\n",
       "    </tr>\n",
       "    <tr>\n",
       "      <th>12</th>\n",
       "      <td>USC00080945</td>\n",
       "      <td>27.4467</td>\n",
       "      <td>-82.5014</td>\n",
       "      <td>6.1</td>\n",
       "      <td>40</td>\n",
       "      <td>-214.092314</td>\n",
       "    </tr>\n",
       "    <tr>\n",
       "      <th>16</th>\n",
       "      <td>USC00081046</td>\n",
       "      <td>28.6164</td>\n",
       "      <td>-82.3658</td>\n",
       "      <td>73.2</td>\n",
       "      <td>88</td>\n",
       "      <td>200.986511</td>\n",
       "    </tr>\n",
       "    <tr>\n",
       "      <th>23</th>\n",
       "      <td>USC00081163</td>\n",
       "      <td>28.6664</td>\n",
       "      <td>-82.0894</td>\n",
       "      <td>22.9</td>\n",
       "      <td>43</td>\n",
       "      <td>-45.457015</td>\n",
       "    </tr>\n",
       "    <tr>\n",
       "      <th>17</th>\n",
       "      <td>USC00081310</td>\n",
       "      <td>26.5333</td>\n",
       "      <td>-82.1833</td>\n",
       "      <td>-999.9</td>\n",
       "      <td>26</td>\n",
       "      <td>331.981383</td>\n",
       "    </tr>\n",
       "    <tr>\n",
       "      <th>42</th>\n",
       "      <td>USC00081432</td>\n",
       "      <td>29.1333</td>\n",
       "      <td>-83.0500</td>\n",
       "      <td>3.0</td>\n",
       "      <td>65</td>\n",
       "      <td>-190.353184</td>\n",
       "    </tr>\n",
       "    <tr>\n",
       "      <th>41</th>\n",
       "      <td>USC00081632</td>\n",
       "      <td>27.9667</td>\n",
       "      <td>-82.7667</td>\n",
       "      <td>21.0</td>\n",
       "      <td>38</td>\n",
       "      <td>216.601445</td>\n",
       "    </tr>\n",
       "    <tr>\n",
       "      <th>33</th>\n",
       "      <td>USC00081635</td>\n",
       "      <td>27.9833</td>\n",
       "      <td>-82.8333</td>\n",
       "      <td>3.0</td>\n",
       "      <td>5</td>\n",
       "      <td>161.577623</td>\n",
       "    </tr>\n",
       "    <tr>\n",
       "      <th>4</th>\n",
       "      <td>USC00082008</td>\n",
       "      <td>29.6333</td>\n",
       "      <td>-83.1053</td>\n",
       "      <td>12.8</td>\n",
       "      <td>40</td>\n",
       "      <td>-1159.591594</td>\n",
       "    </tr>\n",
       "    <tr>\n",
       "      <th>40</th>\n",
       "      <td>USC00082418</td>\n",
       "      <td>24.6278</td>\n",
       "      <td>-82.8736</td>\n",
       "      <td>3.0</td>\n",
       "      <td>26</td>\n",
       "      <td>327.339453</td>\n",
       "    </tr>\n",
       "    <tr>\n",
       "      <th>6</th>\n",
       "      <td>USC00083153</td>\n",
       "      <td>27.5706</td>\n",
       "      <td>-82.1378</td>\n",
       "      <td>34.1</td>\n",
       "      <td>10</td>\n",
       "      <td>-228.132383</td>\n",
       "    </tr>\n",
       "    <tr>\n",
       "      <th>35</th>\n",
       "      <td>USC00083316</td>\n",
       "      <td>29.6500</td>\n",
       "      <td>-82.3500</td>\n",
       "      <td>52.1</td>\n",
       "      <td>42</td>\n",
       "      <td>-657.411213</td>\n",
       "    </tr>\n",
       "    <tr>\n",
       "      <th>45</th>\n",
       "      <td>USC00083321</td>\n",
       "      <td>29.6333</td>\n",
       "      <td>-82.3667</td>\n",
       "      <td>29.3</td>\n",
       "      <td>18</td>\n",
       "      <td>404.825160</td>\n",
       "    </tr>\n",
       "    <tr>\n",
       "      <th>21</th>\n",
       "      <td>USC00083322</td>\n",
       "      <td>29.6814</td>\n",
       "      <td>-82.4942</td>\n",
       "      <td>29.0</td>\n",
       "      <td>11</td>\n",
       "      <td>-806.462654</td>\n",
       "    </tr>\n",
       "    <tr>\n",
       "      <th>37</th>\n",
       "      <td>USC00083956</td>\n",
       "      <td>29.8286</td>\n",
       "      <td>-82.5972</td>\n",
       "      <td>19.8</td>\n",
       "      <td>53</td>\n",
       "      <td>84.979037</td>\n",
       "    </tr>\n",
       "    <tr>\n",
       "      <th>7</th>\n",
       "      <td>USC00084289</td>\n",
       "      <td>28.8028</td>\n",
       "      <td>-82.3125</td>\n",
       "      <td>12.2</td>\n",
       "      <td>81</td>\n",
       "      <td>-579.256412</td>\n",
       "    </tr>\n",
       "    <tr>\n",
       "      <th>19</th>\n",
       "      <td>USC00084723</td>\n",
       "      <td>29.9453</td>\n",
       "      <td>-82.3314</td>\n",
       "      <td>41.1</td>\n",
       "      <td>3</td>\n",
       "      <td>-1330.059501</td>\n",
       "    </tr>\n",
       "    <tr>\n",
       "      <th>10</th>\n",
       "      <td>USC00085539</td>\n",
       "      <td>30.1064</td>\n",
       "      <td>-83.1819</td>\n",
       "      <td>19.8</td>\n",
       "      <td>59</td>\n",
       "      <td>-893.136890</td>\n",
       "    </tr>\n",
       "    <tr>\n",
       "      <th>14</th>\n",
       "      <td>USC00085622</td>\n",
       "      <td>29.7167</td>\n",
       "      <td>-82.0500</td>\n",
       "      <td>44.2</td>\n",
       "      <td>8</td>\n",
       "      <td>-9.762034</td>\n",
       "    </tr>\n",
       "    <tr>\n",
       "      <th>15</th>\n",
       "      <td>USC00085690</td>\n",
       "      <td>29.5000</td>\n",
       "      <td>-82.2833</td>\n",
       "      <td>-999.9</td>\n",
       "      <td>1</td>\n",
       "      <td>-819.909369</td>\n",
       "    </tr>\n",
       "    <tr>\n",
       "      <th>24</th>\n",
       "      <td>USC00085935</td>\n",
       "      <td>29.2833</td>\n",
       "      <td>-82.4500</td>\n",
       "      <td>24.4</td>\n",
       "      <td>1</td>\n",
       "      <td>367.747622</td>\n",
       "    </tr>\n",
       "    <tr>\n",
       "      <th>1</th>\n",
       "      <td>USC00086065</td>\n",
       "      <td>27.2417</td>\n",
       "      <td>-82.3161</td>\n",
       "      <td>6.1</td>\n",
       "      <td>50</td>\n",
       "      <td>393.843328</td>\n",
       "    </tr>\n",
       "    <tr>\n",
       "      <th>8</th>\n",
       "      <td>USC00086414</td>\n",
       "      <td>29.1636</td>\n",
       "      <td>-82.0778</td>\n",
       "      <td>22.9</td>\n",
       "      <td>101</td>\n",
       "      <td>81.803730</td>\n",
       "    </tr>\n",
       "    <tr>\n",
       "      <th>13</th>\n",
       "      <td>USC00086419</td>\n",
       "      <td>29.2000</td>\n",
       "      <td>-82.1000</td>\n",
       "      <td>21.0</td>\n",
       "      <td>9</td>\n",
       "      <td>-294.413703</td>\n",
       "    </tr>\n",
       "    <tr>\n",
       "      <th>47</th>\n",
       "      <td>USC00086500</td>\n",
       "      <td>29.6167</td>\n",
       "      <td>-82.9833</td>\n",
       "      <td>-999.9</td>\n",
       "      <td>1</td>\n",
       "      <td>-274.393611</td>\n",
       "    </tr>\n",
       "    <tr>\n",
       "      <th>20</th>\n",
       "      <td>USC00086880</td>\n",
       "      <td>27.6089</td>\n",
       "      <td>-82.3478</td>\n",
       "      <td>18.3</td>\n",
       "      <td>53</td>\n",
       "      <td>-34.998348</td>\n",
       "    </tr>\n",
       "    <tr>\n",
       "      <th>5</th>\n",
       "      <td>USC00087137</td>\n",
       "      <td>27.8333</td>\n",
       "      <td>-82.7000</td>\n",
       "      <td>4.6</td>\n",
       "      <td>23</td>\n",
       "      <td>371.797928</td>\n",
       "    </tr>\n",
       "    <tr>\n",
       "      <th>18</th>\n",
       "      <td>USC00087205</td>\n",
       "      <td>28.0236</td>\n",
       "      <td>-82.1422</td>\n",
       "      <td>36.6</td>\n",
       "      <td>91</td>\n",
       "      <td>340.398104</td>\n",
       "    </tr>\n",
       "    <tr>\n",
       "      <th>44</th>\n",
       "      <td>USC00087395</td>\n",
       "      <td>26.9333</td>\n",
       "      <td>-82.0500</td>\n",
       "      <td>3.0</td>\n",
       "      <td>44</td>\n",
       "      <td>214.951492</td>\n",
       "    </tr>\n",
       "    <tr>\n",
       "      <th>9</th>\n",
       "      <td>USC00087440</td>\n",
       "      <td>30.0678</td>\n",
       "      <td>-82.1928</td>\n",
       "      <td>36.6</td>\n",
       "      <td>37</td>\n",
       "      <td>42.213119</td>\n",
       "    </tr>\n",
       "    <tr>\n",
       "      <th>30</th>\n",
       "      <td>USC00087665</td>\n",
       "      <td>29.0667</td>\n",
       "      <td>-82.4667</td>\n",
       "      <td>3.0</td>\n",
       "      <td>2</td>\n",
       "      <td>-290.250949</td>\n",
       "    </tr>\n",
       "    <tr>\n",
       "      <th>11</th>\n",
       "      <td>USC00087851</td>\n",
       "      <td>28.3378</td>\n",
       "      <td>-82.2600</td>\n",
       "      <td>57.9</td>\n",
       "      <td>87</td>\n",
       "      <td>186.634591</td>\n",
       "    </tr>\n",
       "    <tr>\n",
       "      <th>2</th>\n",
       "      <td>USC00088021</td>\n",
       "      <td>27.3500</td>\n",
       "      <td>-82.5333</td>\n",
       "      <td>9.1</td>\n",
       "      <td>25</td>\n",
       "      <td>408.143684</td>\n",
       "    </tr>\n",
       "    <tr>\n",
       "      <th>31</th>\n",
       "      <td>USC00088024</td>\n",
       "      <td>27.3333</td>\n",
       "      <td>-82.4667</td>\n",
       "      <td>9.1</td>\n",
       "      <td>14</td>\n",
       "      <td>427.487528</td>\n",
       "    </tr>\n",
       "    <tr>\n",
       "      <th>46</th>\n",
       "      <td>USC00088076</td>\n",
       "      <td>29.6711</td>\n",
       "      <td>-83.3883</td>\n",
       "      <td>1.5</td>\n",
       "      <td>6</td>\n",
       "      <td>-1183.526917</td>\n",
       "    </tr>\n",
       "    <tr>\n",
       "      <th>34</th>\n",
       "      <td>USC00088527</td>\n",
       "      <td>29.9333</td>\n",
       "      <td>-82.1000</td>\n",
       "      <td>49.4</td>\n",
       "      <td>20</td>\n",
       "      <td>-347.450965</td>\n",
       "    </tr>\n",
       "    <tr>\n",
       "      <th>22</th>\n",
       "      <td>USC00088529</td>\n",
       "      <td>29.9381</td>\n",
       "      <td>-82.1164</td>\n",
       "      <td>53.0</td>\n",
       "      <td>11</td>\n",
       "      <td>-1147.645778</td>\n",
       "    </tr>\n",
       "    <tr>\n",
       "      <th>27</th>\n",
       "      <td>USC00088530</td>\n",
       "      <td>29.9500</td>\n",
       "      <td>-82.0333</td>\n",
       "      <td>50.3</td>\n",
       "      <td>5</td>\n",
       "      <td>-577.694780</td>\n",
       "    </tr>\n",
       "    <tr>\n",
       "      <th>39</th>\n",
       "      <td>USC00088565</td>\n",
       "      <td>29.7236</td>\n",
       "      <td>-83.3061</td>\n",
       "      <td>10.7</td>\n",
       "      <td>32</td>\n",
       "      <td>-1029.243230</td>\n",
       "    </tr>\n",
       "    <tr>\n",
       "      <th>29</th>\n",
       "      <td>USC00088573</td>\n",
       "      <td>29.7000</td>\n",
       "      <td>-83.3833</td>\n",
       "      <td>3.0</td>\n",
       "      <td>4</td>\n",
       "      <td>-885.943770</td>\n",
       "    </tr>\n",
       "    <tr>\n",
       "      <th>28</th>\n",
       "      <td>USC00088782</td>\n",
       "      <td>27.7053</td>\n",
       "      <td>-82.4006</td>\n",
       "      <td>12.2</td>\n",
       "      <td>1</td>\n",
       "      <td>-705.699402</td>\n",
       "    </tr>\n",
       "    <tr>\n",
       "      <th>32</th>\n",
       "      <td>USC00088824</td>\n",
       "      <td>28.1522</td>\n",
       "      <td>-82.7539</td>\n",
       "      <td>2.4</td>\n",
       "      <td>105</td>\n",
       "      <td>130.386666</td>\n",
       "    </tr>\n",
       "    <tr>\n",
       "      <th>36</th>\n",
       "      <td>USC00088890</td>\n",
       "      <td>28.0500</td>\n",
       "      <td>-82.3833</td>\n",
       "      <td>22.9</td>\n",
       "      <td>4</td>\n",
       "      <td>-223.800718</td>\n",
       "    </tr>\n",
       "    <tr>\n",
       "      <th>3</th>\n",
       "      <td>USC00089120</td>\n",
       "      <td>29.4083</td>\n",
       "      <td>-82.8186</td>\n",
       "      <td>10.1</td>\n",
       "      <td>52</td>\n",
       "      <td>191.153504</td>\n",
       "    </tr>\n",
       "    <tr>\n",
       "      <th>48</th>\n",
       "      <td>USC00089176</td>\n",
       "      <td>27.1006</td>\n",
       "      <td>-82.4364</td>\n",
       "      <td>2.4</td>\n",
       "      <td>51</td>\n",
       "      <td>-182.733885</td>\n",
       "    </tr>\n",
       "    <tr>\n",
       "      <th>43</th>\n",
       "      <td>USC00089430</td>\n",
       "      <td>28.5175</td>\n",
       "      <td>-82.5756</td>\n",
       "      <td>6.1</td>\n",
       "      <td>28</td>\n",
       "      <td>-955.617328</td>\n",
       "    </tr>\n",
       "    <tr>\n",
       "      <th>0</th>\n",
       "      <td>USW00092806</td>\n",
       "      <td>27.7628</td>\n",
       "      <td>-82.6261</td>\n",
       "      <td>2.4</td>\n",
       "      <td>78</td>\n",
       "      <td>330.692097</td>\n",
       "    </tr>\n",
       "  </tbody>\n",
       "</table>\n",
       "</div>"
      ],
      "text/plain": [
       "        station  latitude  longitude  elevation  count(station)  avg(coeff_1)\n",
       "26  USC00080535   28.5500   -82.6333       14.9               8   -852.928829\n",
       "25  USC00080598   29.7956   -82.9178        9.1              11  -1393.929266\n",
       "38  USC00080940   27.4833   -82.5500        3.0              40    141.640689\n",
       "12  USC00080945   27.4467   -82.5014        6.1              40   -214.092314\n",
       "16  USC00081046   28.6164   -82.3658       73.2              88    200.986511\n",
       "23  USC00081163   28.6664   -82.0894       22.9              43    -45.457015\n",
       "17  USC00081310   26.5333   -82.1833     -999.9              26    331.981383\n",
       "42  USC00081432   29.1333   -83.0500        3.0              65   -190.353184\n",
       "41  USC00081632   27.9667   -82.7667       21.0              38    216.601445\n",
       "33  USC00081635   27.9833   -82.8333        3.0               5    161.577623\n",
       "4   USC00082008   29.6333   -83.1053       12.8              40  -1159.591594\n",
       "40  USC00082418   24.6278   -82.8736        3.0              26    327.339453\n",
       "6   USC00083153   27.5706   -82.1378       34.1              10   -228.132383\n",
       "35  USC00083316   29.6500   -82.3500       52.1              42   -657.411213\n",
       "45  USC00083321   29.6333   -82.3667       29.3              18    404.825160\n",
       "21  USC00083322   29.6814   -82.4942       29.0              11   -806.462654\n",
       "37  USC00083956   29.8286   -82.5972       19.8              53     84.979037\n",
       "7   USC00084289   28.8028   -82.3125       12.2              81   -579.256412\n",
       "19  USC00084723   29.9453   -82.3314       41.1               3  -1330.059501\n",
       "10  USC00085539   30.1064   -83.1819       19.8              59   -893.136890\n",
       "14  USC00085622   29.7167   -82.0500       44.2               8     -9.762034\n",
       "15  USC00085690   29.5000   -82.2833     -999.9               1   -819.909369\n",
       "24  USC00085935   29.2833   -82.4500       24.4               1    367.747622\n",
       "1   USC00086065   27.2417   -82.3161        6.1              50    393.843328\n",
       "8   USC00086414   29.1636   -82.0778       22.9             101     81.803730\n",
       "13  USC00086419   29.2000   -82.1000       21.0               9   -294.413703\n",
       "47  USC00086500   29.6167   -82.9833     -999.9               1   -274.393611\n",
       "20  USC00086880   27.6089   -82.3478       18.3              53    -34.998348\n",
       "5   USC00087137   27.8333   -82.7000        4.6              23    371.797928\n",
       "18  USC00087205   28.0236   -82.1422       36.6              91    340.398104\n",
       "44  USC00087395   26.9333   -82.0500        3.0              44    214.951492\n",
       "9   USC00087440   30.0678   -82.1928       36.6              37     42.213119\n",
       "30  USC00087665   29.0667   -82.4667        3.0               2   -290.250949\n",
       "11  USC00087851   28.3378   -82.2600       57.9              87    186.634591\n",
       "2   USC00088021   27.3500   -82.5333        9.1              25    408.143684\n",
       "31  USC00088024   27.3333   -82.4667        9.1              14    427.487528\n",
       "46  USC00088076   29.6711   -83.3883        1.5               6  -1183.526917\n",
       "34  USC00088527   29.9333   -82.1000       49.4              20   -347.450965\n",
       "22  USC00088529   29.9381   -82.1164       53.0              11  -1147.645778\n",
       "27  USC00088530   29.9500   -82.0333       50.3               5   -577.694780\n",
       "39  USC00088565   29.7236   -83.3061       10.7              32  -1029.243230\n",
       "29  USC00088573   29.7000   -83.3833        3.0               4   -885.943770\n",
       "28  USC00088782   27.7053   -82.4006       12.2               1   -705.699402\n",
       "32  USC00088824   28.1522   -82.7539        2.4             105    130.386666\n",
       "36  USC00088890   28.0500   -82.3833       22.9               4   -223.800718\n",
       "3   USC00089120   29.4083   -82.8186       10.1              52    191.153504\n",
       "48  USC00089176   27.1006   -82.4364        2.4              51   -182.733885\n",
       "43  USC00089430   28.5175   -82.5756        6.1              28   -955.617328\n",
       "0   USW00092806   27.7628   -82.6261        2.4              78    330.692097"
      ]
     },
     "metadata": {},
     "output_type": "display_data"
    }
   ],
   "source": [
    "import IPython\n",
    "from IPython.display import display\n",
    "df2=df1.groupby(['station','latitude','longitude','elevation']).agg({\"station\": \"count\", feature: \"mean\"})\n",
    "pdf=df2.toPandas()\n",
    "pdf.sort_values(by=['station'],inplace=True)\n",
    "pdf.head(2)\n",
    "display(pdf)"
   ]
  },
  {
   "cell_type": "code",
   "execution_count": 8,
   "metadata": {
    "run_control": {
     "frozen": false,
     "read_only": false
    }
   },
   "outputs": [
    {
     "data": {
      "text/plain": [
       "u'#800000'"
      ]
     },
     "execution_count": 8,
     "metadata": {},
     "output_type": "execute_result"
    }
   ],
   "source": [
    "#define a mapping from the range of the value to hex colors.\n",
    "from matplotlib.colors import rgb2hex\n",
    "_avg='avg(%s)'%feature\n",
    "_min=pdf[_avg].min()\n",
    "_max=pdf[_avg].max()\n",
    "_min,_max\n",
    "\n",
    "import pylab as plt\n",
    "cmap=plt.get_cmap('jet')\n",
    "def get_color(val):\n",
    "    x=(val-_min)/(_max-_min)\n",
    "    return(rgb2hex(cmap(x)[:3]))\n",
    "\n",
    "get_color(1000.)"
   ]
  },
  {
   "cell_type": "markdown",
   "metadata": {
    "run_control": {
     "frozen": false,
     "read_only": false
    }
   },
   "source": [
    "## Map"
   ]
  },
  {
   "cell_type": "code",
   "execution_count": 9,
   "metadata": {
    "collapsed": true,
    "run_control": {
     "frozen": false,
     "read_only": false
    }
   },
   "outputs": [],
   "source": [
    "min_lat,max_lat,min_long,max_long = box = (24.6278, 30.1064, -83.3883, -82.0333)\n"
   ]
  },
  {
   "cell_type": "code",
   "execution_count": 10,
   "metadata": {
    "run_control": {
     "frozen": false,
     "read_only": false
    }
   },
   "outputs": [
    {
     "data": {
      "application/vnd.jupyter.widget-view+json": {
       "model_id": "59fcf92eb38c488d8d9c49c3be20b2b7"
      }
     },
     "metadata": {},
     "output_type": "display_data"
    }
   ],
   "source": [
    "center = [(min_lat+max_lat)/2, (min_long+max_long)/2]\n",
    "zoom = 9\n",
    "\n",
    "m = Map(default_tiles=TileLayer(opacity=1.0), center=center, zoom=zoom)\n",
    "\n",
    "r = Rectangle(bounds=[[min_lat,min_long],[max_lat,max_long]], weight=5, fill_opacity=0.0)\n",
    "m += r\n",
    "\n",
    "lat_margin=(max_lat-min_lat)/4\n",
    "long_margin=(max_long-min_long)/4\n",
    "circles = []\n",
    "color=[]\n",
    "values=[]\n",
    "i=0\n",
    "for index,row in pdf.iterrows():\n",
    "    _lat=row['latitude']\n",
    "    _long=row['longitude']\n",
    "    _count=row['count(station)']\n",
    "    _coef=row[_avg]\n",
    "\n",
    "    # taking sqrt of count so that the  area of the circle corresponds to the count\n",
    "    c = Circle(location=(_lat,_long), radius=int(1000*np.sqrt(_count+0.0)), weight=1,\n",
    "            color='#F00', opacity=0.8, fill_opacity=0.4,\n",
    "            fill_color=get_color(_coef))\n",
    "    color.append(get_color(_coef))\n",
    "    values.append(_coef)\n",
    "    circles.append(c)\n",
    "    m.add_layer(c)\n",
    "m    "
   ]
  },
  {
   "cell_type": "code",
   "execution_count": 14,
   "metadata": {},
   "outputs": [
    {
     "name": "stdout",
     "output_type": "stream",
     "text": [
      "-852.928829033 #00b0ff\n",
      "-1393.92926563 #000080\n",
      "141.640689015 #ff3f00\n",
      "-214.092313829 #f4f802\n",
      "200.986510614 #ff1e00\n",
      "-45.4570152541 #ff9f00\n",
      "331.981382685 #bb0000\n",
      "-190.35318376 #ffea00\n",
      "216.601445353 #ff1600\n",
      "161.577622549 #ff3400\n",
      "-1159.5915936 #0000ff\n",
      "327.339452547 #bf0000\n",
      "-228.132382694 #eeff09\n",
      "-657.411212685 #2cffca\n",
      "404.825160379 #8d0000\n",
      "-806.462653661 #00c8ff\n",
      "84.9790366237 #ff5d00\n",
      "-579.256412271 #50ffa7\n",
      "-1330.05950056 #0000a4\n",
      "-893.136890135 #0098ff\n",
      "-9.76203449936 #ff8d00\n",
      "-819.909368517 #00c0ff\n",
      "367.747621563 #a40000\n",
      "393.843328224 #920000\n",
      "81.8037298637 #ff5d00\n",
      "-294.413703488 #d1ff26\n",
      "-274.393611391 #dbff1c\n",
      "-34.998348217 #ff9c00\n",
      "371.797928117 #9f0000\n",
      "340.398104441 #b60000\n",
      "214.951491557 #ff1600\n",
      "42.2131187336 #ff7300\n",
      "-290.250949438 #d4ff23\n",
      "186.63459058 #ff2500\n",
      "408.143683909 #890000\n",
      "427.487527943 #800000\n",
      "-1183.52691678 #0000ff\n",
      "-347.450964724 #baff3c\n",
      "-1147.64577829 #0008ff\n",
      "-577.694779546 #50ffa7\n",
      "-1029.24323035 #004cff\n",
      "-885.943770313 #009cff\n",
      "-705.699401516 #16ffe1\n",
      "130.386666428 #ff4300\n",
      "-223.800717666 #f1fc06\n",
      "191.153503947 #ff2500\n",
      "-182.733884769 #ffe600\n",
      "-955.617327798 #0074ff\n",
      "330.692097254 #bb0000\n"
     ]
    }
   ],
   "source": [
    "for x,y in zip(values,color):\n",
    "    print str(x)+\" \"+str(y)"
   ]
  },
  {
   "cell_type": "code",
   "execution_count": 15,
   "metadata": {},
   "outputs": [
    {
     "data": {
      "text/plain": [
       "[-1393.9292656264013,\n",
       " -1330.0595005563364,\n",
       " -1183.5269167800113,\n",
       " -1159.5915935990392,\n",
       " -1147.645778287001,\n",
       " -1029.24323035019,\n",
       " -955.6173277981126,\n",
       " -893.1368901348195,\n",
       " -885.9437703130816,\n",
       " -852.9288290328053,\n",
       " -819.9093685170888,\n",
       " -806.4626536609533,\n",
       " -705.6994015161663,\n",
       " -657.4112126854956,\n",
       " -579.2564122705963,\n",
       " -577.6947795463341,\n",
       " -347.4509647239676,\n",
       " -294.4137034882195,\n",
       " -290.2509494382122,\n",
       " -274.3936113909139,\n",
       " -228.13238269428766,\n",
       " -223.80071766632594,\n",
       " -214.09231382870243,\n",
       " -190.35318376027695,\n",
       " -182.733884768551,\n",
       " -45.457015254054944,\n",
       " -34.99834821695056,\n",
       " -9.762034499363889,\n",
       " 42.21311873359269,\n",
       " 81.80372986371017,\n",
       " 84.97903662371905,\n",
       " 130.38666642778725,\n",
       " 141.6406890147729,\n",
       " 161.57762254870735,\n",
       " 186.63459057994837,\n",
       " 191.15350394699863,\n",
       " 200.98651061361315,\n",
       " 214.9514915569455,\n",
       " 216.60144535336656,\n",
       " 327.3394525468576,\n",
       " 330.6920972537026,\n",
       " 331.9813826852359,\n",
       " 340.3981044413569,\n",
       " 367.7476215634303,\n",
       " 371.797928116547,\n",
       " 393.84332822392935,\n",
       " 404.8251603786332,\n",
       " 408.143683909384,\n",
       " 427.4875279431429]"
      ]
     },
     "execution_count": 15,
     "metadata": {},
     "output_type": "execute_result"
    }
   ],
   "source": [
    "sorted(values)"
   ]
  },
  {
   "cell_type": "markdown",
   "metadata": {
    "run_control": {
     "frozen": false,
     "read_only": false
    }
   },
   "source": [
    "### excercises:\n",
    "* Add a legend that relates the colors to values.\n",
    "* Leaflet supports a variety of maps. See if you can get a topographical map as the background."
   ]
  },
  {
   "cell_type": "code",
   "execution_count": 12,
   "metadata": {
    "run_control": {
     "frozen": false,
     "read_only": false
    }
   },
   "outputs": [
    {
     "data": {
      "image/png": "[encoded data removed]",
      "text/plain": [
       "<matplotlib.figure.Figure at 0x10f946390>"
      ]
     },
     "metadata": {},
     "output_type": "display_data"
    }
   ],
   "source": [
    "%matplotlib inline\n",
    "pdf.plot.scatter(x='elevation',y='avg(coeff_1)');"
   ]
  },
  {
   "cell_type": "code",
   "execution_count": null,
   "metadata": {
    "collapsed": true,
    "run_control": {
     "frozen": false,
     "read_only": false
    }
   },
   "outputs": [],
   "source": []
  },
  {
   "cell_type": "code",
   "execution_count": 13,
   "metadata": {},
   "outputs": [
    {
     "data": {
      "text/plain": [
       "['spark big  data analysis', 'spring', 'spark  basics']"
      ]
     },
     "execution_count": 13,
     "metadata": {},
     "output_type": "execute_result"
    }
   ],
   "source": [
    "RDD1=sc.parallelize([\"spark  basics\", \"spark big  data analysis\", \"spring\"]) \n",
    "RDD2=sc.parallelize([\"spark using pyspark\", \"big data\"])\n",
    " \n",
    "RDD1.subtract(RDD2).collect()"
   ]
  },
  {
   "cell_type": "code",
   "execution_count": null,
   "metadata": {
    "collapsed": true
   },
   "outputs": [],
   "source": []
  }
 ],
 "metadata": {
  "anaconda-cloud": {},
  "hide_input": false,
  "kernelspec": {
   "display_name": "Python 2",
   "language": "python",
   "name": "python2"
  },
  "language_info": {
   "codemirror_mode": {
    "name": "ipython",
    "version": 2
   },
   "file_extension": ".py",
   "mimetype": "text/x-python",
   "name": "python",
   "nbconvert_exporter": "python",
   "pygments_lexer": "ipython2",
   "version": "2.7.13"
  },
  "toc": {
   "colors": {
    "hover_highlight": "#DAA520",
    "running_highlight": "#FF0000",
    "selected_highlight": "#FFD700"
   },
   "moveMenuLeft": true,
   "nav_menu": {
    "height": "174px",
    "width": "252px"
   },
   "navigate_menu": true,
   "number_sections": true,
   "sideBar": true,
   "threshold": 4,
   "toc_cell": false,
   "toc_section_display": "block",
   "toc_window_display": false
  },
  "widgets": {
   "state": {},
   "version": "1.0.0"
  }
 },
 "nbformat": 4,
 "nbformat_minor": 1
}
