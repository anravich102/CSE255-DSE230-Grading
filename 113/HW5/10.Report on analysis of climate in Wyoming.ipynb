{
 "cells": [
  {
   "cell_type": "code",
   "execution_count": 3,
   "metadata": {
    "run_control": {
     "frozen": false,
     "read_only": false
    },
    "scrolled": false
   },
   "outputs": [
    {
     "name": "stdout",
     "output_type": "stream",
     "text": [
      "![3. BaseMap.pptx](Figures/3. BaseMap.pptx)\n",
      "![PCA_using_numpy_-_Databricks.png](Figures/PCA_using_numpy_-_Databricks.png)\n",
      "![PRCP.png](Figures/PRCP.png)\n",
      "![PRCP_mean_eigs.png](Figures/PRCP_mean_eigs.png)\n",
      "![PRCP_varexplained.png](Figures/PRCP_varexplained.png)\n",
      "![SNWD_grid_Pos_coeff1.png](Figures/SNWD_grid_Pos_coeff1.png)\n",
      "![SNWD_grid_Pos_coeff2.png](Figures/SNWD_grid_Pos_coeff2.png)\n",
      "![SNWD_grid_Pos_coeff3.png](Figures/SNWD_grid_Pos_coeff3.png)\n",
      "![SNWD_grid_neg_coeff1.png](Figures/SNWD_grid_neg_coeff1.png)\n",
      "![SNWD_grid_neg_coeff2.png](Figures/SNWD_grid_neg_coeff2.png)\n",
      "![SNWD_grid_neg_coeff3.png](Figures/SNWD_grid_neg_coeff3.png)\n",
      "![SNWD_mean_eigs.png](Figures/SNWD_mean_eigs.png)\n",
      "![TMIN,TMAX.png](Figures/TMIN,TMAX.png)\n",
      "![VarExplained1.png](Figures/VarExplained1.png)\n",
      "![VarExplained2.png](Figures/VarExplained2.png)\n",
      "![cdf_snowfall.png](Figures/cdf_snowfall.png)\n",
      "![elevation_coeff1.png](Figures/elevation_coeff1.png)\n",
      "![heatmaps.png](Figures/heatmaps.png)\n",
      "![map1.png](Figures/map1.png)\n",
      "![map2.png](Figures/map2.png)\n",
      "![matrix.png](Figures/matrix.png)\n",
      "![plot_weather_measurement_counts.png](Figures/plot_weather_measurement_counts.png)\n",
      "![res1.png](Figures/res1.png)\n",
      "![res2.png](Figures/res2.png)\n",
      "![res3.png](Figures/res3.png)\n",
      "![significance.png](Figures/significance.png)\n",
      "![snwd_yearly.png](Figures/snwd_yearly.png)\n"
     ]
    }
   ],
   "source": [
    "L=!ls Figures/\n",
    "for l in L:\n",
    "    print \"![%s](Figures/%s)\"%(l,l)"
   ]
  },
  {
   "cell_type": "code",
   "execution_count": 4,
   "metadata": {
    "run_control": {
     "frozen": false,
     "read_only": false
    }
   },
   "outputs": [
    {
     "name": "stdout",
     "output_type": "stream",
     "text": [
      "Couldn't get a file descriptor referring to the console\r\n"
     ]
    }
   ],
   "source": [
    "!open Figures/TMIN,TMAX.png"
   ]
  },
  {
   "cell_type": "markdown",
   "metadata": {
    "run_control": {
     "frozen": false,
     "read_only": false
    }
   },
   "source": [
    "# Wyoming Weather Analysis\n",
    "\n",
    "This is a report on the historical analysis of weather patterns in an area that approximately overlaps the area of the state of Wyoming.\n",
    "\n",
    "## History\n",
    "\n",
    "Wyoming is a dry state with much of the land receiving less than 10 inches (250 mm) of rainfall per year. Summers in Wyoming are warm with July high temperatures averaging between 85 and 95 °F (29 and 35 °C) in most of the state. With increasing elevation, however, this average drops rapidly with locations above 9,000 feet (2,700 m) averaging around 70 °F (21 °C). Winters are cold, but are variable with periods of sometimes extreme cold interspersed between generally mild periods.\n",
    "\n",
    "\n",
    "## Data\n",
    "\n",
    "The data we will use here comes from [NOAA](https://www.ncdc.noaa.gov/). Specifically, it was downloaded from This [FTP site](ftp://ftp.ncdc.noaa.gov/pub/data/ghcn/daily/).\n",
    "\n",
    "We focused on six measurements:\n",
    "* **TMIN, TMAX:** the daily minimum and maximum temperature.\n",
    "* **TOBS:** The average temperature for each day.\n",
    "* **PRCP:** Daily Percipitation (in mm)\n",
    "* **SNOW:** Daily snowfall (in mm)\n",
    "* **SNWD:** The depth of accumulated snow.\n",
    "\n",
    "## Sanity-check: comparison with outside sources \n",
    "\n",
    "<p>We start by comparing some of the general statistics with graphs that we obtained from a site called <a href=\"http://www.usclimatedata.com/climate/moran/wyoming/united-states/uswy0123\" target=\"_blank\">US Climate Data</a> The graph below shows the daily minimum and maximum temperatures for each month, as well as the total precipitation for each month.</p>\n",
    "\n",
    "<p>&nbsp;</p>\n",
    "\n",
    "<p><img alt=\"moran.png\" src=\"../../Data/Weather/moran.png\" /></p>\n",
    "\n",
    "<p>&nbsp;</p>\n",
    "\n",
    "<p>We see that the min and max daily&nbsp;temperature agree with the ones we got from our data, once we translate Fahrenheit to Centigrade.</p>\n",
    "\n",
    "<p>&nbsp;</p>\n",
    "\n",
    "<p><img alt=\"TMIN,TMAX.png\" src=\"Figures/TMIN,TMAX.png\" style=\"height:300px; width:800px\" /></p>\n",
    "\n"
   ]
  },
  {
   "cell_type": "markdown",
   "metadata": {
    "run_control": {
     "frozen": false,
     "read_only": false
    }
   },
   "source": [
    "## PCA analysis\n",
    "\n",
    "For each of the six measurement, we compute the percentage of the variance explained as a function of the number of eigen-vectors used.\n",
    "\n",
    "### Percentage of variance explained.\n",
    "![VarExplained1.png](Figures/VarExplained1.png)\n",
    "We see that the top 5 eigen-vectors explain about 36% of variance for TMIN, 55% for TOBS and 39% for TMAX.\n",
    "\n",
    "We conclude that of the three, TOBS is best explained by the top 5 eigenvectors. This is especially true for the first eigen-vector which, by itself, explains about 46% of the variance.\n",
    "\n",
    "![VarExplained2.png](Figures/VarExplained2.png)\n",
    "\n",
    "The top 5 eigenvectors explain 10% of the variance for PRCP and 12% for SNOW. Both are low values. On the other hand the top 5 eigenvectors explain close to 98% of the variance for SNWD. This means that these top 5 eigenvectors capture most of the variation in the snow signals. Based on that we will dig deeper into the PCA analysis for snow-depth.\n",
    "\n",
    "Furthermore, if we look at the first eigenvector alone, 6% of the variance is explained for SNOW, and 4% for PRCP. For SNWD, on the other hand, about 90% of the variance is explained by the first eigenvector alone.\n",
    "\n",
    "As a result, we shall perform an in-depth analysis of the snow depth feature (SNWD)."
   ]
  },
  {
   "cell_type": "markdown",
   "metadata": {
    "run_control": {
     "frozen": false,
     "read_only": false
    }
   },
   "source": [
    "## Analysis of snow depth\n",
    "\n",
    "We choose to analyze the eigen-decomposition for snow-depth because the first 3 eigen-vectors explain 95% of the variance.\n",
    "\n",
    "First, we graph the mean and top 3 eigen-vectors.\n",
    "\n",
    "We observe that the snow season is from November to May, where February-March marks the peak of the snow-depth.\n",
    "![SNWD_mean_eigs.png](Figures/SNWD_mean_eigs.png)"
   ]
  },
  {
   "cell_type": "markdown",
   "metadata": {
    "run_control": {
     "frozen": false,
     "read_only": false
    }
   },
   "source": [
    "Now, we interpret the eigen-functions.\n",
    "\n",
    "- The first eigen-function (eig1) has a shape similar to the mean function, but the range is much smaller. This shows that this function maintains the distribution of snow depth over time, as in the mean function.\n",
    "- eig2 and eig3 do go into the negative value region, but the sum of these two maintains the snow depth distribution throughout most of the curve, except the region in November and December.\n",
    "- eig2 shows a higher snow depth between January and March, and then a sudden drop between April and June, and a decrease during November and December as well.\n",
    "- eig3 shows a slight decrease between January and March, and a rise in March end, having a peak in April end. However, like eig2, there is a decrease during November and December as well.\n"
   ]
  },
  {
   "cell_type": "markdown",
   "metadata": {
    "run_control": {
     "frozen": false,
     "read_only": false
    }
   },
   "source": [
    "### Examples of reconstructions\n",
    "\n",
    "#### Coeff1\n",
    "Coeff1: most positive\n",
    "![SNWD_grid_Pos_coeff1.png](Figures/SNWD_grid_Pos_coeff1.png)\n",
    "\n",
    "Here, we can see that large positive values of coeff1 correspond to a rise, and then fall in snow depth between January and April, and a rise in the end of October that continues further till December. In the months in between, i.e. April end-mid October, there is no snow. Thus, we can see that the peaks are much higher than the mean curve. Also, there are more peaks, compared to the mean curve which is relatively smooth.\n",
    "\n",
    "Coeff1: most negative\n",
    "![SNWD_grid_neg_coeff1.png](Figures/SNWD_grid_neg_coeff1.png)\n",
    "In the highly negative values of coeff1, we see that the curve is much below the mean curve, which changes as we move to less negative values. This is more prominent in the months between January and April. Thus, the absolute depth of snow is less than the mean during these months for the most negative values of coeff1. In the period between October and December, however, the curve almost aligns perfectly with the mean curve.\n",
    "\n",
    "#### Coeff2\n",
    "Coeff2: most positive\n",
    "![SNWD_grid_Pos_coeff2.png](Figures/SNWD_grid_Pos_coeff2.png)\n",
    "\n",
    "Similar to coeff1, coeff2 when most positive, shows a peak during the months of January-April, and is much above the mean curve, indicating higher snowfall. The later months, however, show that c0 is much higher than the mean curve, whereas c1 and c2 align well.\n",
    "\n",
    "Coeff2: most negative\n",
    "![SNWD_grid_neg_coeff2.png](Figures/SNWD_grid_neg_coeff2.png)\n",
    "\n",
    "Large negative values of coeff2 correspond to a relatively earlier snow season as it peaks in January end as opposed to February. The rest of the trend is pretty much the same, except that there is a dip in April, and the peak in the last 2 months of the year is a lot higher.\n",
    "\n",
    "#### Coeff3\n",
    "Coeff3: most positive\n",
    "![SNWD_grid_Pos_coeff3.png](Figures/SNWD_grid_Pos_coeff3.png)\n",
    "\n",
    "Large positive values of coeff3 indicate that the snow depth is at a peak in the beginning of January, and sometime in early March or February end, and also rises during November and December.\n",
    "\n",
    "Coeff3: most negative\n",
    "![SNWD_grid_neg_coeff3.png](Figures/SNWD_grid_neg_coeff3.png)\n",
    "\n",
    "Negative values of coeff3 correspond to a shift in the snowfall peak from January to March end as well as a rise during November and December.\n",
    "\n",
    "\n",
    "Thus, the conclusions that I have drawn from these graphs are:\n",
    "\n",
    "- Coeff1 shows a distribution similar to the mean, and hence, we can infer that it shows the snow depth.\n",
    "- Coeff2 is a more steep curve, with more pointed peaks, which could refer to the times when the snow depth suddenly increases, basically it could be a pointer to the intensity. Alternatively, it could be said that it shows more precisely the time during which snow depth is at its peak.\n",
    "- Coeff3 is pretty similar to coeff2, which could also indicate when snowfall occurs.\n",
    "\n"
   ]
  },
  {
   "cell_type": "markdown",
   "metadata": {
    "run_control": {
     "frozen": false,
     "read_only": false
    }
   },
   "source": [
    "### Variation in timing of snow"
   ]
  },
  {
   "cell_type": "markdown",
   "metadata": {
    "collapsed": true,
    "run_control": {
     "frozen": false,
     "read_only": false
    }
   },
   "source": [
    "#### Coeff_1\n",
    "\n",
    "total RMS                    =  4624.98346854\n",
    "\n",
    "\n",
    "- RMS removing mean-by-station =  1745.6467973\n",
    "\n",
    "    % variance explained = 62.256%\n",
    "\n",
    "\n",
    "- RMS removing mean-by-year    =  2682.17434167\n",
    "\n",
    "    % variance explained = 42.006%"
   ]
  },
  {
   "cell_type": "markdown",
   "metadata": {},
   "source": [
    "#### Coeff_2\n",
    "\n",
    "total RMS                   =  1122.69047274\n",
    "\n",
    "\n",
    "- RMS removing mean-by-station =  1006.7957443\n",
    "\n",
    "    variance explained = 10.323%\n",
    "\n",
    "\n",
    "\n",
    "- RMS removing mean-by-year   =  702.159177023\n",
    "\n",
    "    variance explained = 37.457%"
   ]
  },
  {
   "cell_type": "markdown",
   "metadata": {},
   "source": [
    "#### Coeff_3\n",
    "\n",
    "total RMS                   =  1017.41864311\n",
    "\n",
    "\n",
    "- RMS removing mean-by-station =  936.612008356\n",
    "\n",
    "    % variance explained = 7.94%\n",
    "\n",
    "\n",
    "- RMS removing mean-by-year   =  635.847751658\n",
    "\n",
    "    % variance explained = 37.5%"
   ]
  },
  {
   "cell_type": "markdown",
   "metadata": {},
   "source": [
    "#### Analysis\n",
    "\n",
    "- From the above results, we can see that since coeff_1 correlates with the actual snow depth, the mean-by-station explains a higher fraction than the mean-by-year.\n",
    "\n",
    "- However, the results of coeff_2 and coeff_3 are opposite to this, and this could be attributed to the duration of and the time during with snowfall occurs."
   ]
  },
  {
   "cell_type": "markdown",
   "metadata": {},
   "source": [
    "## Plotting on the map"
   ]
  },
  {
   "cell_type": "markdown",
   "metadata": {},
   "source": [
    "![map1.png](Figures/map1.png)\n",
    "\n",
    "![map2.png](Figures/map2.png)"
   ]
  },
  {
   "cell_type": "markdown",
   "metadata": {
    "collapsed": true
   },
   "source": [
    "## Analysis of Residuals"
   ]
  },
  {
   "cell_type": "markdown",
   "metadata": {},
   "source": [
    "![res1.png](Figures/res1.png)\n",
    "\n",
    "![res2.png](Figures/res2.png)\n",
    "\n",
    "![res3.png](Figures/res3.png)"
   ]
  },
  {
   "cell_type": "markdown",
   "metadata": {},
   "source": [
    "Here, we can see that on increasing the number of eigenvectors, the number of instances giving a certain residual value increases. For example, if we take the residual value = 0.2, we observe that 40% instances are covered in case 1, 57% in case 2 and 70% in case 3. This clearly shows the impact of each subsequent eigen vector in contribution to reducing the residual value and replicating the target curve as accurately as possible."
   ]
  },
  {
   "cell_type": "markdown",
   "metadata": {},
   "source": [
    "![significance.png](Figures/significance.png)\n",
    "\n",
    "Plot of the negative log probability. Peak at 0.4 is observed, which can be validated from the matrix in the figure below, where the maximum frequency is also recorded in the 0.4 bin.\n",
    "\n",
    "![matrix.png](Figures/matrix.png)\n",
    "\n",
    "Based on the above matrix, and verified by code, the stations  in the top left corner i.e. 0-5 seem most correlated. There are other stations with high correlations too, as can be seen in the above diagram.\n",
    "\n",
    "![matrix.png](Figures/snwd_yearly.png)\n",
    "\n",
    "The yearly trend of snow depth is shown here, which depicts peaks in January, February, March, May, October, November.\n",
    "\n",
    "![heatmaps.png](Figures/heatmaps.png)\n",
    "\n",
    "From the above heat maps, we can infer that in all these top 4 eigen vectors, the top left corner of stations are highly correlated. Basically, stations 0-5 are highly correlated among themselves. In addition to this, there is a correlation observed in stations 25-30 as well for most eigen vectors. There are many other correlations among individual stations too, as can be seen in the heatmaps above, but a dense cluster is observed at the aforementioned locations.\n",
    "\n",
    "![heatmaps.png](Figures/heatmaps.png)\n"
   ]
  },
  {
   "cell_type": "markdown",
   "metadata": {},
   "source": [
    "# Conclusion\n",
    "\n",
    "Thus, we conclude the following:\n",
    "\n",
    "- There is a high correlation between the different stations in this state, which could lead one to infer that similar trends exist. Indeed, when we observe the map, we see that the stations near Jackson are all pretty close to each other, and hence, there is a higher chance of the stations being highly correlated in terms of snow depth, as places at shorter distances would intuitively tend to have similar weather conditions.\n",
    "\n",
    "\n",
    "- It appears that the stations are not uniformly distributed throughout the state, and hence, we may observe biased records, leading to higher correlation between stations.\n",
    "\n",
    "\n",
    "- TOBS also has a decent amount of the actual curve explained by the top 5 eigen vectors, so it could be beneficial to investigate it, however, the statistical significance of such an investigation would need to be proven more exhaustively.\n",
    "\n",
    "Other conclusions related to individual sections have been described alongside the sections."
   ]
  },
  {
   "cell_type": "code",
   "execution_count": null,
   "metadata": {
    "collapsed": true
   },
   "outputs": [],
   "source": []
  }
 ],
 "metadata": {
  "anaconda-cloud": {},
  "kernelspec": {
   "display_name": "Python 2",
   "language": "python",
   "name": "python2"
  },
  "language_info": {
   "codemirror_mode": {
    "name": "ipython",
    "version": 2
   },
   "file_extension": ".py",
   "mimetype": "text/x-python",
   "name": "python",
   "nbconvert_exporter": "python",
   "pygments_lexer": "ipython2",
   "version": "2.7.13"
  },
  "toc": {
   "colors": {
    "hover_highlight": "#DAA520",
    "running_highlight": "#FF0000",
    "selected_highlight": "#FFD700"
   },
   "moveMenuLeft": true,
   "nav_menu": {
    "height": "12px",
    "width": "252px"
   },
   "navigate_menu": true,
   "number_sections": true,
   "sideBar": true,
   "threshold": 4,
   "toc_cell": false,
   "toc_section_display": "block",
   "toc_window_display": false,
   "widenNotebook": false
  }
 },
 "nbformat": 4,
 "nbformat_minor": 2
}
