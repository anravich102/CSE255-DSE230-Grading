{
 "cells": [
  {
   "cell_type": "markdown",
   "metadata": {
    "deletable": false,
    "editable": false,
    "nbgrader": {
     "checksum": "1e14402cec9308b02dcc1ebc85d41f94",
     "grade": false,
     "grade_id": "0",
     "locked": true,
     "schema_version": 1,
     "solution": false
    },
    "run_control": {
     "frozen": false,
     "read_only": false
    }
   },
   "source": [
    "### <span style=\"color:red\">IMPORTANT: Only modify cells which have the following comment:</span>\n",
    "```python\n",
    "# Modify this cell\n",
    "```\n",
    "##### <span style=\"color:red\">Do not add any new cells when you submit the homework</span>"
   ]
  },
  {
   "cell_type": "markdown",
   "metadata": {
    "deletable": false,
    "editable": false,
    "nbgrader": {
     "checksum": "bba821f4315d92d3f4498bd41b96d2c4",
     "grade": false,
     "grade_id": "1",
     "locked": true,
     "schema_version": 1,
     "solution": false
    },
    "run_control": {
     "frozen": false,
     "read_only": false
    }
   },
   "source": [
    "# Setting Up Notebook"
   ]
  },
  {
   "cell_type": "code",
   "execution_count": 1,
   "metadata": {
    "collapsed": true,
    "deletable": false,
    "editable": false,
    "nbgrader": {
     "checksum": "ed1a403a9abe9c4443d1e08f58e0c800",
     "grade": false,
     "grade_id": "2",
     "locked": true,
     "schema_version": 1,
     "solution": false
    },
    "run_control": {
     "frozen": false,
     "read_only": false
    }
   },
   "outputs": [],
   "source": [
    "import findspark\n",
    "findspark.init()"
   ]
  },
  {
   "cell_type": "code",
   "execution_count": 2,
   "metadata": {
    "collapsed": false,
    "deletable": false,
    "editable": false,
    "nbgrader": {
     "checksum": "1a11c634b751618a15b4c19ebf44dcfe",
     "grade": false,
     "grade_id": "3",
     "locked": true,
     "schema_version": 1,
     "solution": false
    },
    "run_control": {
     "frozen": false,
     "read_only": false
    },
    "slideshow": {
     "slide_type": "skip"
    }
   },
   "outputs": [],
   "source": [
    "from pyspark import SparkContext\n",
    "sc = SparkContext(master=\"local[4]\")"
   ]
  },
  {
   "cell_type": "code",
   "execution_count": 3,
   "metadata": {
    "collapsed": true,
    "deletable": false,
    "editable": false,
    "nbgrader": {
     "checksum": "74f3259ce5b7dca28d136ecda09890fa",
     "grade": false,
     "grade_id": "4",
     "locked": true,
     "schema_version": 1,
     "solution": false
    },
    "run_control": {
     "frozen": false,
     "read_only": false
    }
   },
   "outputs": [],
   "source": [
    "import numpy as np\n",
    "import math\n",
    "from numpy import linalg as LA"
   ]
  },
  {
   "cell_type": "markdown",
   "metadata": {
    "deletable": false,
    "editable": false,
    "nbgrader": {
     "checksum": "04af90670abb4a54e916bd7e576ccf20",
     "grade": false,
     "grade_id": "5",
     "locked": true,
     "schema_version": 1,
     "solution": false
    },
    "run_control": {
     "frozen": false,
     "read_only": false
    }
   },
   "source": [
    "# Exercise:\n",
    "The function **computeCov** computes the covariance matrix using RDDs. The code allows undefined entries and calculates the covariance without bias. \n",
    "\n",
    "Your homework is to complete the missing parts in **computeCov** (Marked with `...`) so that it calculates the covariance correctly.\n",
    "\n",
    "    Note: The functions and libraries in the cell below will be useful to you"
   ]
  },
  {
   "cell_type": "code",
   "execution_count": 4,
   "metadata": {
    "collapsed": true,
    "deletable": false,
    "editable": false,
    "nbgrader": {
     "checksum": "3ac9bb810caef146ad852489178ee668",
     "grade": false,
     "grade_id": "6",
     "locked": true,
     "schema_version": 1,
     "solution": false
    },
    "run_control": {
     "frozen": false,
     "read_only": false
    }
   },
   "outputs": [],
   "source": [
    "def outerProduct(X):\n",
    "    \"\"\"Computer outer product and indicate which locations in matrix are undefined\"\"\"\n",
    "    O=np.outer(X,X)\n",
    "    N=1-np.isnan(O)\n",
    "    return (O,N)\n",
    "\n",
    "def sumWithNan(M1,M2):\n",
    "    \"\"\"Add two pairs of (matrix,count)\"\"\"\n",
    "    (X1,N1)=M1\n",
    "    (X2,N2)=M2\n",
    "    N=N1+N2\n",
    "    X=np.nansum(np.dstack((X1,X2)),axis=2)\n",
    "    return (X,N)"
   ]
  },
  {
   "cell_type": "code",
   "execution_count": 9,
   "metadata": {
    "collapsed": false,
    "deletable": true,
    "editable": true,
    "run_control": {
     "frozen": false,
     "read_only": false
    }
   },
   "outputs": [],
   "source": [
    "# Modify this cell\n",
    "\n",
    "def computeCov(RDDin):\n",
    "    # input: RDDin is an RDD of np arrays, all of the same length\n",
    "    \n",
    "    # we insert 1 at the beginning of each vector so the calculation also yields the mean vector\n",
    "    RDD=RDDin.map(lambda v:np.array(np.insert(v,0,1),dtype=np.float64)) \n",
    "    \n",
    "    # separating map and reduce does not matter, since Spark uses lazy execution.\n",
    "    OuterRDD=RDD.map(lambda x:outerProduct(x))    #<-- do mapping here\n",
    "    (S,N)=OuterRDD.reduce(lambda x,y:sumWithNan(x,y))  #<-- do reducing here\n",
    "    \n",
    "    E=S[0,1:]\n",
    "    NE=np.float64(N[0,1:])\n",
    "    print 'shape of E=',E.shape,'shape of NE=',NE.shape\n",
    "    Mean=E/NE\n",
    "    O=S[1:,1:]\n",
    "    NO=np.float64(N[1:,1:])\n",
    "    covshape=O.shape[0]\n",
    "    Cov=np.zeros((covshape,covshape),dtype=np.float64) # This is the covariance matrix\n",
    "    for i in xrange(covshape):\n",
    "        for j in xrange(covshape):\n",
    "            Cov[i,j]= O[i,j]/NO[i,j]-Mean[i]*Mean[j] if NO[i,j]!=0 else np.nan\n",
    "    # Output also the diagnal which is the variance for each day\n",
    "    Var=np.array([Cov[i,i] for i in range(Cov.shape[0])])\n",
    "    return {'E':E,'NE':NE,'O':O,'NO':NO,'Cov':Cov,'Mean':Mean,'Var':Var}\n"
   ]
  },
  {
   "cell_type": "code",
   "execution_count": 10,
   "metadata": {
    "collapsed": false,
    "deletable": false,
    "editable": false,
    "nbgrader": {
     "checksum": "05c3bc3b51835df6d9a7110af503fbc5",
     "grade": true,
     "grade_id": "ex",
     "locked": true,
     "points": 2,
     "schema_version": 1,
     "solution": false
    },
    "run_control": {
     "frozen": false,
     "read_only": false
    },
    "scrolled": true
   },
   "outputs": [
    {
     "name": "stdout",
     "output_type": "stream",
     "text": [
      "Checking data_list of length 3 with length 10 vectors each having 2 np.NaN values\n",
      "shape of E= (10,) shape of NE= (10,)\n",
      "[[  7.91839805e-01  -1.56895646e-02  -3.94775805e-01   4.51249590e-01\n",
      "   -5.60284020e-01  -6.30514812e-02  -1.68899783e-01  -2.91810336e-01\n",
      "   -5.64239542e-01   1.05594273e+00]\n",
      " [ -1.56895646e-02   3.10874037e-04   4.89021944e-03   1.34167502e-01\n",
      "   -5.12897658e-03  -3.17390134e-01   6.56611101e-03   6.75567824e-03\n",
      "   -2.85890101e-01   1.43786709e-01]\n",
      " [ -3.94775805e-01   4.89021944e-03   1.29514086e-01  -8.27040078e-02\n",
      "    1.80407303e-01  -5.13288358e-02   5.66731359e-02   9.66203363e-02\n",
      "    7.70841528e-02  -2.24940912e-01]\n",
      " [  4.51249590e-01   1.34167502e-01  -8.27040078e-02   4.46724353e-02\n",
      "   -1.25950151e-01  -9.94657259e-02  -3.22060779e-02  -5.89021614e-02\n",
      "   -3.66669765e-01   2.67964568e-02]\n",
      " [ -5.60284020e-01  -5.12897658e-03   1.80407303e-01  -1.25950151e-01\n",
      "    2.51943088e-01  -5.67817967e-02   7.87044799e-02   1.34420240e-01\n",
      "    1.20014752e-01  -3.12629585e-01]\n",
      " [ -6.30514812e-02  -3.17390134e-01  -5.13288358e-02  -9.94657259e-02\n",
      "   -5.67817967e-02   2.21466114e-01  -2.79159092e-02  -4.21223575e-02\n",
      "    3.52111625e-01   1.97765120e-01]\n",
      " [ -1.68899783e-01   6.56611101e-03   5.66731359e-02  -3.22060779e-02\n",
      "    7.87044799e-02  -2.79159092e-02   2.48876529e-02   4.23415033e-02\n",
      "    2.90452995e-02  -9.86908606e-02]\n",
      " [ -2.91810336e-01   6.75567824e-03   9.66203363e-02  -5.89021614e-02\n",
      "    1.34420240e-01  -4.21223575e-02   4.23415033e-02   7.21244828e-02\n",
      "    5.42170453e-02  -1.67993779e-01]\n",
      " [ -5.64239542e-01  -2.85890101e-01   7.70841528e-02  -3.66669765e-01\n",
      "    1.20014752e-01   3.52111625e-01   2.90452995e-02   5.42170453e-02\n",
      "    1.92497793e-01  -1.06729608e-01]\n",
      " [  1.05594273e+00   1.43786709e-01  -2.24940912e-01   2.67964568e-02\n",
      "   -3.12629585e-01   1.97765120e-01  -9.86908606e-02  -1.67993779e-01\n",
      "   -1.06729608e-01   5.91757917e-02]]\n",
      "\n",
      "Checking data_list of length 100 with length 10 vectors each having 4 np.NaN values\n",
      "shape of E= (10,) shape of NE= (10,)\n",
      "[[  4.59187745e-01   4.77399326e-02   3.45174275e-01   1.80199329e-01\n",
      "    1.18543510e-01  -1.06661732e-01   1.07257668e-01   3.43867293e-02\n",
      "   -4.42229172e-02   2.54730485e-01]\n",
      " [  4.77399326e-02   4.38878393e-03   2.53779491e-02   1.45529982e-02\n",
      "    1.19748743e-02  -1.02370777e-02   1.33211777e-02  -4.79454530e-05\n",
      "   -7.10339212e-03   1.92383237e-02]\n",
      " [  3.45174275e-01   2.53779491e-02   2.47526283e-01   1.62878462e-01\n",
      "    9.36894690e-02  -5.28088897e-02   5.42564463e-02   1.08730380e-01\n",
      "    8.53339533e-03   1.74089733e-01]\n",
      " [  1.80199329e-01   1.45529982e-02   1.62878462e-01   9.18420859e-02\n",
      "    6.04552929e-02  -4.63977140e-02   4.43643203e-02  -1.90915210e-02\n",
      "   -2.74915558e-02   6.14592654e-02]\n",
      " [  1.18543510e-01   1.19748743e-02   9.36894690e-02   6.04552929e-02\n",
      "    5.01539055e-02  -7.16070901e-03   1.25421376e-02   8.09241032e-02\n",
      "    2.89697338e-02   9.03265246e-02]\n",
      " [ -1.06661732e-01  -1.02370777e-02  -5.28088897e-02  -4.63977140e-02\n",
      "   -7.16070901e-03   3.36050579e-02  -4.71607685e-02   4.96500627e-02\n",
      "    4.71251262e-02  -1.69998923e-03]\n",
      " [  1.07257668e-01   1.33211777e-02   5.42564463e-02   4.43643203e-02\n",
      "    1.25421376e-02  -4.71607685e-02   6.31350855e-02  -1.39129150e-01\n",
      "   -8.47605605e-02  -1.80690150e-02]\n",
      " [  3.43867293e-02  -4.79454530e-05   1.08730380e-01  -1.90915210e-02\n",
      "    8.09241032e-02   4.96500627e-02  -1.39129150e-01   4.81902604e-01\n",
      "    2.34965100e-01   2.14945936e-01]\n",
      " [ -4.42229172e-02  -7.10339212e-03   8.53339533e-03  -2.74915558e-02\n",
      "    2.89697338e-02   4.71251262e-02  -8.47605605e-02   2.34965100e-01\n",
      "    1.12025702e-01   1.02794850e-01]\n",
      " [  2.54730485e-01   1.92383237e-02   1.74089733e-01   6.14592654e-02\n",
      "    9.03265246e-02  -1.69998923e-03  -1.80690150e-02   2.14945936e-01\n",
      "    1.02794850e-01   1.74789105e-01]]\n",
      "\n",
      "Great Job!\n"
     ]
    }
   ],
   "source": [
    "import Tester.SmallPCA as pca\n",
    "pca.exercise(computeCov, sc)"
   ]
  },
  {
   "cell_type": "code",
   "execution_count": null,
   "metadata": {
    "collapsed": true,
    "deletable": false,
    "editable": false,
    "nbgrader": {
     "checksum": "fa10fc0547ac5fb00a6cac96f485105d",
     "grade": false,
     "grade_id": "7",
     "locked": true,
     "schema_version": 1,
     "solution": false
    }
   },
   "outputs": [],
   "source": [
    "\n",
    "\n",
    "\n",
    "\n",
    "\n",
    "\n",
    "\n",
    "\n",
    "\n"
   ]
  }
 ],
 "metadata": {
  "anaconda-cloud": {},
  "kernelspec": {
   "display_name": "Python 2",
   "language": "python",
   "name": "python2"
  },
  "language_info": {
   "codemirror_mode": {
    "name": "ipython",
    "version": 2
   },
   "file_extension": ".py",
   "mimetype": "text/x-python",
   "name": "python",
   "nbconvert_exporter": "python",
   "pygments_lexer": "ipython2",
   "version": "2.7.13"
  },
  "name": "PCA_using_numpy for HW3",
  "notebookId": 85286,
  "toc": {
   "colors": {
    "hover_highlight": "#DAA520",
    "running_highlight": "#FF0000",
    "selected_highlight": "#FFD700"
   },
   "moveMenuLeft": true,
   "nav_menu": {
    "height": "121px",
    "width": "252px"
   },
   "navigate_menu": true,
   "number_sections": true,
   "sideBar": true,
   "threshold": 4,
   "toc_cell": false,
   "toc_section_display": "block",
   "toc_window_display": true,
   "widenNotebook": false
  }
 },
 "nbformat": 4,
 "nbformat_minor": 0
}
