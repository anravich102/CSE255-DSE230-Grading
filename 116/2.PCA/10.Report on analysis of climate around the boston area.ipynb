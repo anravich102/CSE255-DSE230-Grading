{
 "cells": [
  {
   "cell_type": "markdown",
   "metadata": {
    "deletable": true,
    "editable": true,
    "run_control": {
     "frozen": false,
     "read_only": false
    }
   },
   "source": [
    "# Arizona Weather Analysis\n",
    "\n",
    "This is a report on the historical analysis of weather patterns in an area that approximately overlaps the area of the state of Arizona.\n",
    "\n",
    "First of all, the data set given by teacher has the informartion of longtitude and lactitude. So we can use these data to find out which area are we dealing with.\n",
    "As you can see in the 4.4 weather analysis, the location is around -111.7117,32.1314, which is near the pheonix, Arizona. Here we start the anaklysis of weather in Pheonix.\n",
    "\n",
    "The data we will use here comes from [NOAA](https://www.ncdc.noaa.gov/). Specifically, it was downloaded from This [FTP site](ftp://ftp.ncdc.noaa.gov/pub/data/ghcn/daily/).\n",
    "\n",
    "We focused on six measurements:\n",
    "* **TMIN, TMAX:** the daily minimum and maximum temperature.\n",
    "* **TOBS:** The average temperature for each day.\n",
    "* **PRCP:** Daily Percipitation (in mm)\n",
    "* **SNOW:** Daily snowfall (in mm)\n",
    "* **SNWD:** The depth of accumulated snow.\n",
    "\n",
    "\n",
    "## Sanity-check: comparison with outside sources\n",
    "\n",
    "<p>We start by comparing some of the general statistics with graphs that we obtained from a site called <a href=\"http://www.usclimatedata.com/climate/phoenix/arizona/united-states/usaz0166\" target=\"_blank\">US Climate Data</a> The graph below shows the daily minimum and maximum temperatures for each month, as well as the total precipitation for each month.</p>\n",
    "\n",
    "<p>&nbsp;</p>\n",
    "\n",
    "<p><img alt=\"weatherPRCP.png\" src=\"r_figures/weatherPRCP.png\" /></p>\n",
    "\n",
    "<p>&nbsp;</p>\n",
    "\n",
    "<p>We see that the min and max daily&nbsp;temperature agree with the ones we got from our data, using the same Centigrade.</p>\n",
    "\n",
    "<p>&nbsp;</p>\n",
    "\n",
    "<p><img alt=\"TMINTMAX.png\" src=\"r_figures/TMINTMAX.png\" style=\"height:300px; width:800px\" /></p>\n",
    "\n",
    "<p>&nbsp;The precipitation is the same millimeter/day and according to our analysis the average rainfall is lower than 1 mm/day  the average rainfall is closer to 16 mm per month. As you can see in the picture, the weather in Phoenix is typically Mediterranean climate, which has very few rain in summer and more rain on winter.</p>\n",
    "\n",
    "\n",
    "\n",
    "<p>&nbsp;<img alt=\"PRCP.png\" src=\"r_figures/PRCP.png\" style=\"height:450px; width:600px\" /></p>\n"
   ]
  },
  {
   "cell_type": "markdown",
   "metadata": {
    "deletable": true,
    "editable": true,
    "run_control": {
     "frozen": false,
     "read_only": false
    }
   },
   "source": [
    "## PCA analysis\n",
    "\n",
    "For each of the six measurement, we compute the percentate of the variance explained as a function of the number of eigen-vectors used.\n",
    "\n",
    "### Percentage of variance explained.\n",
    "![VarExplained1.png](r_figures/VarExplained1.png)\n",
    "We can see that these three measurement all work very well(comparing to those three below). At least the top 5 eigenvectors has explained 40% of the variance of TMAX, TMIN, TOBS. As we can see on the picture, the TMAX and TMIN is very regular. In my opinion, the top 5 eigenvectors can explain more. The 40% is a relative low proportion for such a regular graph. However, it is quite a good explaination comparing to those below.\n",
    "\n",
    "![VarExplained2.png](r_figures/VarExplained2.png)\n",
    "\n",
    "The top 5 eigenvectors explain 8% of the variance for PRCP and 15% for SNOW and. 10% for SNWD. There are all bad explaintion. I know that there is little rain and even less snow here, but those number is too low for the eigenvectors analysis."
   ]
  },
  {
   "cell_type": "markdown",
   "metadata": {
    "deletable": true,
    "editable": true,
    "run_control": {
     "frozen": false,
     "read_only": false
    }
   },
   "source": [
    "## Analysis of average Temperature of every day\n",
    "\n",
    "I want to choose the whole temperature part to analysis. The first one is the average Temprature.\n",
    "\n",
    "First, we graph the mean and the top 4 eigen-vectors.\n",
    "\n",
    "As we can see on the picture, the mean curve is very smooth. Its shape is near a half circle and the first eigen-function(eig1) has explained the only \"tooth\" part, which is that there is a sudden tempreture down from July to August. The eig1 clearly express that there is a cooloing down from July to August.\n",
    "![TOBS_mean_eigs.png](r_figures/TOBS_mean_eigs.png)"
   ]
  },
  {
   "cell_type": "markdown",
   "metadata": {
    "deletable": true,
    "editable": true,
    "run_control": {
     "frozen": false,
     "read_only": false
    }
   },
   "source": [
    "Next we interpret the eigen-functions. The first eigen-function (eig1) has a shape very similar to the mean function. The main difference is that the eigen-function is close to zero during october-december while the mean is not.  The interpretation of this shape is that eig1 represents the overall amount of snow above/below the mean, but without changing the distribution over time.\n",
    "\n",
    "The rest three vectors are not easy to interpret. The eig2 shows that there should be lower temprature at July and the eig3 shows the cooling down from July to December. The eig4 has a very unstable shape and it bascially point about some small sharp wave on the pictures. \n",
    "**eig2,eig3 and eig4** As far as I can see, these three vectors are all representing the unstable part of the temprature. As we can see in the graph. The basic trend of the average temprature is very stable, I mean, it is hotter in summer and colder in winter. However, the all vector here are trying to show that there are some unstable elements in the graph. The vector eig1 shows the biggest cooling down process and the rest three vectors have give use the distribution of small shock time across the all year. The three vectors(eig2,eig3,eig4) all show that the temperature from June to July is unreasonable high and it should be reduced.\n"
   ]
  },
  {
   "cell_type": "markdown",
   "metadata": {
    "deletable": true,
    "editable": true,
    "run_control": {
     "frozen": false,
     "read_only": false
    }
   },
   "source": [
    "### Examples of reconstructions\n",
    "\n",
    "#### Coeff1\n",
    "Coeff1: most positive\n",
    "![SNWD_grid_Pos_coeff1.png](r_figures/TOBS_grid_Pos_coeff1.png)\n",
    "Coeff1: most negative\n",
    "![SNWD_grid_neg_coeff1.png](r_figures/TOBS_grid_neg_coeff1.png)\n",
    "The first two positive values, which I think it the most effective, coorrespond to a hotter temprature, which the rest of the values are all trying to cool down the temprature. It is very interesting to see such a bias. I mean, there are totally 60 valid values and the hotter and cooler ration is 2:58. So most of the values corresond to a cooler temprature.\n",
    "#### Coeff2\n",
    "Coeff2: most positive\n",
    "![SNWD_grid_Pos_coeff2.png](r_figures/TOBS_grid_Pos_coeff2.png)\n",
    "Coeff2: most negative\n",
    "![SNWD_grid_neg_coeff2.png](r_figures/TOBS_grid_neg_coeff2.png)\n",
    "\n",
    "In Coeff_2, all values correspond to a cooler temprature but some negative one correspond to a hotter peak temprature at July.\n",
    "#### Coeff3\n",
    "Coeff3: most positive\n",
    "![SNWD_grid_Pos_coeff3.png](r_figures/TOBS_grid_Pos_coeff3.png)\n",
    "Coeff3: most negative\n",
    "![SNWD_grid_neg_coeff3.png](r_figures/TOBS_grid_neg_coeff3.png)\n",
    "\n",
    "In Coeff3, some detailes worth to be mentioned. Many pictures shows some peak on Match and November, which is pretty detail. Those peaks are very small on the whole picture, but when we come the coeff_3, those peaks can be shown.\n",
    "\n"
   ]
  },
  {
   "cell_type": "markdown",
   "metadata": {
    "deletable": true,
    "editable": true
   },
   "source": [
    "## The variation in the timing of TOBS is mostly due to station location\n",
    "In this part we are going to decide the most effective part of the variation. As we can see below, the coeff_1 part shows that the station can explain 34 percent of the data variation while the year to year can only explain 3.8 percent. This means that the station location has large effect on the variation of TOBS. Another thing is that the weather of Arizona is very stable from year to year. The year to year data can only explain 3.8 percent of the variatant.\n",
    "The coeff2,3,4 show something different. The year to year data start to take some role in variation and the year to year data can explain 14,27,23 percent of the variation. Although they are no more that the station data in coeff_1, but they are still more that coordinate station data. These data means that year-to-year data diffs on dates, but the frequency is the same. It means that the weather of Arizona has a periodic pattern,which is not the exactly 365 days(maybe 360 days). For every year, the weather pattern is very stable and has little difference. But the detail are different. The coeff2,3,4 shows that those details diffs. My guess is that there may be some silghtly dislocation from year to year. For example, in 1967 March 13 is very hot and in 1968 the March 15 is very hot. For the global version, there is a very hot day in March, but the detail is there are two days interval. So only when we go to the detail, the year to year begins to take its role.\n",
    "\n",
    "\n",
    "** coeff_1 **  \n",
    "total MS                   =  635957.627506\n",
    "\n",
    "MS removing mean-by-station=  269090.34058 fraction explained 34.9518478438\n",
    "\n",
    "MS removing mean-by-year   =  588020.266344 fraction explained 3.84274501268\n",
    "\n",
    "total RMS                   =  797.469515095\n",
    "\n",
    "RMS removing mean-by-station=  518.739183579\n",
    "\n",
    "RMS removing mean-by-year   =  766.824795076\n",
    "\n",
    "** coeff_2 **  \n",
    "total MS                   =  66042.1546316\n",
    "\n",
    "MS removing mean-by-station=  44831.4253669 fraction explained 17.6088325568\n",
    "\n",
    "MS removing mean-by-year   =  48816.8975819 fraction explained 14.0245473616\n",
    "\n",
    "total RMS                   =  256.986681818\n",
    "\n",
    "RMS removing mean-by-station=  211.734327323\n",
    "\n",
    "RMS removing mean-by-year   =  220.945462913\n",
    "\n",
    "** coeff_3 **  \n",
    "total MS                   =  38246.0321844\n",
    "\n",
    "MS removing mean-by-station=  35264.9834011 fraction explained 3.97625300611\n",
    "\n",
    "MS removing mean-by-year   =  19872.287502 fraction explained 27.917351099\n",
    "\n",
    "total RMS                   =  195.565927974\n",
    "\n",
    "RMS removing mean-by-station=  187.789731884\n",
    "\n",
    "RMS removing mean-by-year   =  140.969101232\n",
    "\n",
    "** coeff_4 **  \n",
    "total MS                   =  37670.3513252\n",
    "\n",
    "MS removing mean-by-station=  27917.0945736 fraction explained 13.9134559055\n",
    "\n",
    "MS removing mean-by-year   =  22160.7961514 fraction explained 23.300445019\n",
    "\n",
    "total RMS                   =  194.088514151\n",
    "\n",
    "RMS removing mean-by-station=  167.084094317\n",
    "\n",
    "RMS removing mean-by-year   =  148.865026623\n",
    "\n"
   ]
  },
  {
   "cell_type": "markdown",
   "metadata": {},
   "source": [
    "## The variation on the location is caused by city\n",
    "Last part has shown that the location can explained part of the variation. So I wonder which character of location can explained the variation. I use the same method to test the elevation, longtitude, lactitude. None of them make too much sense. So I use another way to do this. I use the iPyLeaflet in 5.maps.ipunb. The drawing pictues has clearly explained the reason: city.\n",
    "\n",
    "![Snip20170515_45.png](r_figures/Snip20170515_45.png)\n",
    "\n",
    "I think the picture is prettu clear: the stations which locates in the city have higher temprature abd those locations outside the citu have lower temprature. SO the stations can have very different record in the same time. More specifivally, the temprature (TOBS) is very relevant to humans' activity. This observation can explain why the locations of stations can explain a lot of the variation of the data. "
   ]
  },
  {
   "cell_type": "code",
   "execution_count": null,
   "metadata": {
    "collapsed": true
   },
   "outputs": [],
   "source": []
  }
 ],
 "metadata": {
  "anaconda-cloud": {},
  "kernelspec": {
   "display_name": "Python 2",
   "language": "python",
   "name": "python2"
  },
  "language_info": {
   "codemirror_mode": {
    "name": "ipython",
    "version": 2
   },
   "file_extension": ".py",
   "mimetype": "text/x-python",
   "name": "python",
   "nbconvert_exporter": "python",
   "pygments_lexer": "ipython2",
   "version": "2.7.13"
  },
  "toc": {
   "colors": {
    "hover_highlight": "#DAA520",
    "running_highlight": "#FF0000",
    "selected_highlight": "#FFD700"
   },
   "moveMenuLeft": true,
   "nav_menu": {
    "height": "12px",
    "width": "252px"
   },
   "navigate_menu": true,
   "number_sections": true,
   "sideBar": true,
   "threshold": 4,
   "toc_cell": false,
   "toc_section_display": "block",
   "toc_window_display": false
  }
 },
 "nbformat": 4,
 "nbformat_minor": 2
}
