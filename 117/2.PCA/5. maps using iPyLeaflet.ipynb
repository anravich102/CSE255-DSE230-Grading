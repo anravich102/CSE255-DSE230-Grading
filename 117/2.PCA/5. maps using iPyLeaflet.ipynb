{
 "cells": [
  {
   "cell_type": "markdown",
   "metadata": {
    "deletable": true,
    "editable": true,
    "run_control": {
     "frozen": false,
     "read_only": false
    }
   },
   "source": [
    "## iPyLeaflet\n",
    "[ipyleaflet](https://github.com/ellisonbg/ipyleaflet) is a bridge between jupyter notebooks and the [leaflet](http://leafletjs.com/)  javascript library for drawing maps.\n",
    "\n",
    "ipyleaflet comes with a few examples notebooks (this notebook was derived from one) but very little documentation,\n",
    "for more documentation read the [Leaflet IPA](http://leafletjs.com/reference.html)\n",
    "\n",
    "For installation directions, see the README on [ipyleaflet](https://github.com/ellisonbg/ipyleaflet)"
   ]
  },
  {
   "cell_type": "code",
   "execution_count": 61,
   "metadata": {
    "ExecuteTime": {
     "end_time": "2017-05-15T17:19:39.249271Z",
     "start_time": "2017-05-15T17:19:39.215161"
    },
    "collapsed": true,
    "deletable": true,
    "editable": true,
    "run_control": {
     "frozen": false,
     "read_only": false
    }
   },
   "outputs": [],
   "source": [
    "%config InlineBackend.figure_format = 'retina'\n",
    "from ipyleaflet import (\n",
    "    Map,\n",
    "    Marker,\n",
    "    TileLayer, ImageOverlay,\n",
    "    Polyline, Polygon, Rectangle, Circle, CircleMarker,\n",
    "    GeoJSON,\n",
    "    DrawControl\n",
    ")"
   ]
  },
  {
   "cell_type": "markdown",
   "metadata": {
    "deletable": true,
    "editable": true,
    "run_control": {
     "frozen": false,
     "read_only": false
    }
   },
   "source": [
    "## Visualizing the distribution of the observations\n",
    "\n",
    "## Load the required libraries"
   ]
  },
  {
   "cell_type": "code",
   "execution_count": 62,
   "metadata": {
    "ExecuteTime": {
     "end_time": "2017-05-15T18:59:21.075588Z",
     "start_time": "2017-05-15T18:59:21.019515"
    },
    "collapsed": true,
    "deletable": true,
    "editable": true,
    "run_control": {
     "frozen": false,
     "read_only": false
    }
   },
   "outputs": [],
   "source": [
    "%config InlineBackend.figure_format = 'retina'\n",
    "import pandas as pd\n",
    "import numpy as np\n",
    "import sklearn as sk\n",
    "import urllib\n",
    "import math"
   ]
  },
  {
   "cell_type": "code",
   "execution_count": 31,
   "metadata": {
    "ExecuteTime": {
     "end_time": "2017-05-15T16:59:37.631300Z",
     "start_time": "2017-05-15T16:59:37.513105"
    },
    "collapsed": false,
    "deletable": true,
    "editable": true,
    "run_control": {
     "frozen": false,
     "read_only": false
    }
   },
   "outputs": [
    {
     "ename": "ValueError",
     "evalue": "Cannot run multiple SparkContexts at once; existing SparkContext(app=pyspark-shell, master=local[3]) created by __init__ at <ipython-input-3-9a9c5a5dabc7>:6 ",
     "output_type": "error",
     "traceback": [
      "\u001b[0;31m--------------------------------------------------------\u001b[0m",
      "\u001b[0;31mValueError\u001b[0m             Traceback (most recent call last)",
      "\u001b[0;32m<ipython-input-31-9a9c5a5dabc7>\u001b[0m in \u001b[0;36m<module>\u001b[0;34m()\u001b[0m\n\u001b[1;32m      4\u001b[0m \u001b[0;32mfrom\u001b[0m \u001b[0mpyspark\u001b[0m \u001b[0;32mimport\u001b[0m \u001b[0mSparkContext\u001b[0m\u001b[0;34m\u001b[0m\u001b[0m\n\u001b[1;32m      5\u001b[0m \u001b[0;31m#sc.stop()\u001b[0m\u001b[0;34m\u001b[0m\u001b[0;34m\u001b[0m\u001b[0m\n\u001b[0;32m----> 6\u001b[0;31m \u001b[0msc\u001b[0m \u001b[0;34m=\u001b[0m \u001b[0mSparkContext\u001b[0m\u001b[0;34m(\u001b[0m\u001b[0mmaster\u001b[0m\u001b[0;34m=\u001b[0m\u001b[0;34m\"local[3]\"\u001b[0m\u001b[0;34m,\u001b[0m\u001b[0mpyFiles\u001b[0m\u001b[0;34m=\u001b[0m\u001b[0;34m[\u001b[0m\u001b[0;34m'lib/numpy_pack.py'\u001b[0m\u001b[0;34m,\u001b[0m\u001b[0;34m'lib/computeStats.py'\u001b[0m\u001b[0;34m]\u001b[0m\u001b[0;34m)\u001b[0m\u001b[0;34m\u001b[0m\u001b[0m\n\u001b[0m\u001b[1;32m      7\u001b[0m \u001b[0;34m\u001b[0m\u001b[0m\n\u001b[1;32m      8\u001b[0m \u001b[0;32mfrom\u001b[0m \u001b[0mpyspark\u001b[0m \u001b[0;32mimport\u001b[0m \u001b[0mSparkContext\u001b[0m\u001b[0;34m\u001b[0m\u001b[0m\n",
      "\u001b[0;32m/Users/Weijian/Desktop/Apps/spark-2.1.0-bin-hadoop2.7/python/pyspark/context.pyc\u001b[0m in \u001b[0;36m__init__\u001b[0;34m(self, master, appName, sparkHome, pyFiles, environment, batchSize, serializer, conf, gateway, jsc, profiler_cls)\u001b[0m\n\u001b[1;32m    113\u001b[0m         \"\"\"\n\u001b[1;32m    114\u001b[0m         \u001b[0mself\u001b[0m\u001b[0;34m.\u001b[0m\u001b[0m_callsite\u001b[0m \u001b[0;34m=\u001b[0m \u001b[0mfirst_spark_call\u001b[0m\u001b[0;34m(\u001b[0m\u001b[0;34m)\u001b[0m \u001b[0;32mor\u001b[0m \u001b[0mCallSite\u001b[0m\u001b[0;34m(\u001b[0m\u001b[0mNone\u001b[0m\u001b[0;34m,\u001b[0m \u001b[0mNone\u001b[0m\u001b[0;34m,\u001b[0m \u001b[0mNone\u001b[0m\u001b[0;34m)\u001b[0m\u001b[0;34m\u001b[0m\u001b[0m\n\u001b[0;32m--> 115\u001b[0;31m         \u001b[0mSparkContext\u001b[0m\u001b[0;34m.\u001b[0m\u001b[0m_ensure_initialized\u001b[0m\u001b[0;34m(\u001b[0m\u001b[0mself\u001b[0m\u001b[0;34m,\u001b[0m \u001b[0mgateway\u001b[0m\u001b[0;34m=\u001b[0m\u001b[0mgateway\u001b[0m\u001b[0;34m,\u001b[0m \u001b[0mconf\u001b[0m\u001b[0;34m=\u001b[0m\u001b[0mconf\u001b[0m\u001b[0;34m)\u001b[0m\u001b[0;34m\u001b[0m\u001b[0m\n\u001b[0m\u001b[1;32m    116\u001b[0m         \u001b[0;32mtry\u001b[0m\u001b[0;34m:\u001b[0m\u001b[0;34m\u001b[0m\u001b[0m\n\u001b[1;32m    117\u001b[0m             self._do_init(master, appName, sparkHome, pyFiles, environment, batchSize, serializer,\n",
      "\u001b[0;32m/Users/Weijian/Desktop/Apps/spark-2.1.0-bin-hadoop2.7/python/pyspark/context.pyc\u001b[0m in \u001b[0;36m_ensure_initialized\u001b[0;34m(cls, instance, gateway, conf)\u001b[0m\n\u001b[1;32m    270\u001b[0m                         \u001b[0;34m\" created by %s at %s:%s \"\u001b[0m\u001b[0;34m\u001b[0m\u001b[0m\n\u001b[1;32m    271\u001b[0m                         % (currentAppName, currentMaster,\n\u001b[0;32m--> 272\u001b[0;31m                             callsite.function, callsite.file, callsite.linenum))\n\u001b[0m\u001b[1;32m    273\u001b[0m                 \u001b[0;32melse\u001b[0m\u001b[0;34m:\u001b[0m\u001b[0;34m\u001b[0m\u001b[0m\n\u001b[1;32m    274\u001b[0m                     \u001b[0mSparkContext\u001b[0m\u001b[0;34m.\u001b[0m\u001b[0m_active_spark_context\u001b[0m \u001b[0;34m=\u001b[0m \u001b[0minstance\u001b[0m\u001b[0;34m\u001b[0m\u001b[0m\n",
      "\u001b[0;31mValueError\u001b[0m: Cannot run multiple SparkContexts at once; existing SparkContext(app=pyspark-shell, master=local[3]) created by __init__ at <ipython-input-3-9a9c5a5dabc7>:6 "
     ]
    }
   ],
   "source": [
    "import findspark\n",
    "findspark.init()\n",
    "\n",
    "from pyspark import SparkContext\n",
    "#sc.stop()\n",
    "sc = SparkContext(master=\"local[3]\",pyFiles=['lib/numpy_pack.py','lib/computeStats.py'])\n",
    "\n",
    "from pyspark import SparkContext\n",
    "from pyspark.sql import *\n",
    "sqlContext = SQLContext(sc)"
   ]
  },
  {
   "cell_type": "code",
   "execution_count": 32,
   "metadata": {
    "ExecuteTime": {
     "end_time": "2017-05-15T16:59:43.900734Z",
     "start_time": "2017-05-15T16:59:43.895200"
    },
    "collapsed": true,
    "deletable": true,
    "editable": true,
    "run_control": {
     "frozen": false,
     "read_only": false
    }
   },
   "outputs": [],
   "source": [
    "import sys\n",
    "sys.path.append('./lib')\n",
    "\n",
    "import numpy as np\n",
    "from numpy_pack import packArray,unpackArray\n",
    "from computeStats import computeOverAllDist, STAT_Descriptions"
   ]
  },
  {
   "cell_type": "code",
   "execution_count": 33,
   "metadata": {
    "ExecuteTime": {
     "end_time": "2017-05-15T16:59:49.821515Z",
     "start_time": "2017-05-15T16:59:47.718987"
    },
    "collapsed": false,
    "deletable": true,
    "editable": true,
    "run_control": {
     "frozen": false,
     "read_only": false
    }
   },
   "outputs": [
    {
     "name": "stdout",
     "output_type": "stream",
     "text": [
      "('keys from STAT=', ['TMIN', 'TOBS', 'TMAX', 'SNOW', 'SNWD', 'PRCP'])\n",
      "1271\n",
      "+------------------+------------------+-------------------+---------+--------+--------+---------+-----------+------------------+-------------------+-------------------+-------------------+-----------+-----------+------+--------------------+------+\n",
      "|           coeff_1|           coeff_2|            coeff_3|elevation|   label|latitude|longitude|measurement|             res_1|              res_2|              res_3|           res_mean|    station|  total_var|undefs|              vector|  year|\n",
      "+------------------+------------------+-------------------+---------+--------+--------+---------+-----------+------------------+-------------------+-------------------+-------------------+-----------+-----------+------+--------------------+------+\n",
      "|-835.8790377246141|265.03257181517876|  -309.765316879443|    352.0|SSSSSSBB| 33.3814|  -112.07|       TOBS|0.5038199540752998| 0.3887194464613411|  0.343293660417636|0.04729194803709054|USC00028112|2.8767887E7|     4|[38 59 60 59 58 5...|2004.0|\n",
      "| 844.4726263958471|-465.2497603110454|-12.309730335013816|    417.6|SSSSSSBB| 33.7044|-115.6289|       TOBS|0.4969118251909236|0.34420963278005207|0.34410273466814634|0.10536305119423738|USC00043855|1.3453606E7|     0|[30 54 30 54 80 5...|1951.0|\n",
      "+------------------+------------------+-------------------+---------+--------+--------+---------+-----------+------------------+-------------------+-------------------+-------------------+-----------+-----------+------+--------------------+------+\n",
      "only showing top 2 rows\n",
      "\n"
     ]
    }
   ],
   "source": [
    "### Read the data frame from pickle file\n",
    "\n",
    "data_dir='../../Data/Weather'\n",
    "file_index='SSSSSSBB'\n",
    "meas='TOBS'\n",
    "\n",
    "from pickle import load\n",
    "\n",
    "#read statistics\n",
    "filename=data_dir+'/STAT_%s.pickle'%file_index\n",
    "STAT,STAT_Descriptions = load(open(filename,'rb'))\n",
    "print('keys from STAT=',STAT.keys())\n",
    "\n",
    "#!ls -ld $data_dir/*.parquet\n",
    "\n",
    "#read data\n",
    "filename=data_dir+'/decon_%s_%s.parquet'%(file_index,meas)\n",
    "\n",
    "df=sqlContext.read.parquet(filename)\n",
    "print(df.count())\n",
    "df.show(2)"
   ]
  },
  {
   "cell_type": "code",
   "execution_count": 79,
   "metadata": {
    "ExecuteTime": {
     "end_time": "2017-05-15T20:46:57.302221Z",
     "start_time": "2017-05-15T20:46:57.055862"
    },
    "collapsed": false,
    "deletable": true,
    "editable": true,
    "run_control": {
     "frozen": false,
     "read_only": false
    },
    "scrolled": true
   },
   "outputs": [
    {
     "name": "stdout",
     "output_type": "stream",
     "text": [
      "SELECT station, latitude,longitude,elevation,year,coeff_2 FROM weather\n",
      "+-----------+--------+---------+---------+------+------------------+\n",
      "|    station|latitude|longitude|elevation|  year|           coeff_2|\n",
      "+-----------+--------+---------+---------+------+------------------+\n",
      "|USC00028112| 33.3814|  -112.07|    352.0|2004.0|265.03257181517876|\n",
      "|USC00043855| 33.7044|-115.6289|    417.6|1951.0|-465.2497603110454|\n",
      "|USC00020406|    33.5|-111.9833|    381.0|1965.0|-339.1800272375209|\n",
      "|USC00025467| 33.4114|-111.8183|    376.4|1971.0|-334.2068555211091|\n",
      "+-----------+--------+---------+---------+------+------------------+\n",
      "only showing top 4 rows\n",
      "\n"
     ]
    }
   ],
   "source": [
    "#extract longitude and latitude for each station\n",
    "feature='coeff_2'\n",
    "sqlContext.registerDataFrameAsTable(df,'weather')\n",
    "Query=\"SELECT station, latitude,longitude,elevation,year,%s FROM weather\"%feature\n",
    "print(Query)\n",
    "df1 = sqlContext.sql(Query)\n",
    "df1.show(4)"
   ]
  },
  {
   "cell_type": "code",
   "execution_count": 80,
   "metadata": {
    "ExecuteTime": {
     "end_time": "2017-05-15T20:46:58.752824Z",
     "start_time": "2017-05-15T20:46:57.968050"
    },
    "collapsed": false,
    "deletable": true,
    "editable": true
   },
   "outputs": [
    {
     "data": {
      "text/html": [
       "<div>\n",
       "<table border=\"1\" class=\"dataframe\">\n",
       "  <thead>\n",
       "    <tr style=\"text-align: right;\">\n",
       "      <th></th>\n",
       "      <th>station</th>\n",
       "      <th>latitude</th>\n",
       "      <th>longitude</th>\n",
       "      <th>elevation</th>\n",
       "      <th>year</th>\n",
       "      <th>coeff_2</th>\n",
       "    </tr>\n",
       "  </thead>\n",
       "  <tbody>\n",
       "    <tr>\n",
       "      <th>688</th>\n",
       "      <td>USC00020060</td>\n",
       "      <td>33.9433</td>\n",
       "      <td>-113.1875</td>\n",
       "      <td>659.9</td>\n",
       "      <td>1941.0</td>\n",
       "      <td>-412.052945</td>\n",
       "    </tr>\n",
       "    <tr>\n",
       "      <th>732</th>\n",
       "      <td>USC00020060</td>\n",
       "      <td>33.9433</td>\n",
       "      <td>-113.1875</td>\n",
       "      <td>659.9</td>\n",
       "      <td>1996.0</td>\n",
       "      <td>-806.822734</td>\n",
       "    </tr>\n",
       "    <tr>\n",
       "      <th>511</th>\n",
       "      <td>USC00020060</td>\n",
       "      <td>33.9433</td>\n",
       "      <td>-113.1875</td>\n",
       "      <td>659.9</td>\n",
       "      <td>1991.0</td>\n",
       "      <td>-508.420447</td>\n",
       "    </tr>\n",
       "    <tr>\n",
       "      <th>338</th>\n",
       "      <td>USC00020060</td>\n",
       "      <td>33.9433</td>\n",
       "      <td>-113.1875</td>\n",
       "      <td>659.9</td>\n",
       "      <td>1969.0</td>\n",
       "      <td>44.476528</td>\n",
       "    </tr>\n",
       "    <tr>\n",
       "      <th>1057</th>\n",
       "      <td>USC00020060</td>\n",
       "      <td>33.9433</td>\n",
       "      <td>-113.1875</td>\n",
       "      <td>659.9</td>\n",
       "      <td>1961.0</td>\n",
       "      <td>-512.857906</td>\n",
       "    </tr>\n",
       "    <tr>\n",
       "      <th>764</th>\n",
       "      <td>USC00020060</td>\n",
       "      <td>33.9433</td>\n",
       "      <td>-113.1875</td>\n",
       "      <td>659.9</td>\n",
       "      <td>1975.0</td>\n",
       "      <td>-283.897173</td>\n",
       "    </tr>\n",
       "    <tr>\n",
       "      <th>877</th>\n",
       "      <td>USC00020060</td>\n",
       "      <td>33.9433</td>\n",
       "      <td>-113.1875</td>\n",
       "      <td>659.9</td>\n",
       "      <td>1957.0</td>\n",
       "      <td>103.242547</td>\n",
       "    </tr>\n",
       "    <tr>\n",
       "      <th>52</th>\n",
       "      <td>USC00020060</td>\n",
       "      <td>33.9433</td>\n",
       "      <td>-113.1875</td>\n",
       "      <td>659.9</td>\n",
       "      <td>1953.0</td>\n",
       "      <td>-3.504006</td>\n",
       "    </tr>\n",
       "    <tr>\n",
       "      <th>249</th>\n",
       "      <td>USC00020060</td>\n",
       "      <td>33.9433</td>\n",
       "      <td>-113.1875</td>\n",
       "      <td>659.9</td>\n",
       "      <td>2000.0</td>\n",
       "      <td>-690.250276</td>\n",
       "    </tr>\n",
       "    <tr>\n",
       "      <th>243</th>\n",
       "      <td>USC00020060</td>\n",
       "      <td>33.9433</td>\n",
       "      <td>-113.1875</td>\n",
       "      <td>659.9</td>\n",
       "      <td>1940.0</td>\n",
       "      <td>-248.936858</td>\n",
       "    </tr>\n",
       "  </tbody>\n",
       "</table>\n",
       "</div>"
      ],
      "text/plain": [
       "          station  latitude  longitude  elevation    year     coeff_2\n",
       "688   USC00020060   33.9433  -113.1875      659.9  1941.0 -412.052945\n",
       "732   USC00020060   33.9433  -113.1875      659.9  1996.0 -806.822734\n",
       "511   USC00020060   33.9433  -113.1875      659.9  1991.0 -508.420447\n",
       "338   USC00020060   33.9433  -113.1875      659.9  1969.0   44.476528\n",
       "1057  USC00020060   33.9433  -113.1875      659.9  1961.0 -512.857906\n",
       "764   USC00020060   33.9433  -113.1875      659.9  1975.0 -283.897173\n",
       "877   USC00020060   33.9433  -113.1875      659.9  1957.0  103.242547\n",
       "52    USC00020060   33.9433  -113.1875      659.9  1953.0   -3.504006\n",
       "249   USC00020060   33.9433  -113.1875      659.9  2000.0 -690.250276\n",
       "243   USC00020060   33.9433  -113.1875      659.9  1940.0 -248.936858"
      ]
     },
     "execution_count": 80,
     "metadata": {},
     "output_type": "execute_result"
    }
   ],
   "source": [
    "x = df1.toPandas()\n",
    "x.sort_values(by=['station'],inplace=True)\n",
    "x.head(10)"
   ]
  },
  {
   "cell_type": "code",
   "execution_count": 81,
   "metadata": {
    "ExecuteTime": {
     "end_time": "2017-05-15T20:46:59.414318Z",
     "start_time": "2017-05-15T20:46:58.755176"
    },
    "collapsed": false,
    "deletable": true,
    "editable": true,
    "run_control": {
     "frozen": false,
     "read_only": false
    },
    "scrolled": true
   },
   "outputs": [
    {
     "data": {
      "text/html": [
       "<div>\n",
       "<table border=\"1\" class=\"dataframe\">\n",
       "  <thead>\n",
       "    <tr style=\"text-align: right;\">\n",
       "      <th></th>\n",
       "      <th>station</th>\n",
       "      <th>latitude</th>\n",
       "      <th>longitude</th>\n",
       "      <th>elevation</th>\n",
       "      <th>count(station)</th>\n",
       "      <th>avg(coeff_2)</th>\n",
       "    </tr>\n",
       "  </thead>\n",
       "  <tbody>\n",
       "    <tr>\n",
       "      <th>40</th>\n",
       "      <td>USC00020060</td>\n",
       "      <td>33.9433</td>\n",
       "      <td>-113.1875</td>\n",
       "      <td>659.9</td>\n",
       "      <td>34</td>\n",
       "      <td>-259.113939</td>\n",
       "    </tr>\n",
       "    <tr>\n",
       "      <th>0</th>\n",
       "      <td>USC00020104</td>\n",
       "      <td>33.5167</td>\n",
       "      <td>-112.1167</td>\n",
       "      <td>348.1</td>\n",
       "      <td>26</td>\n",
       "      <td>-193.022085</td>\n",
       "    </tr>\n",
       "  </tbody>\n",
       "</table>\n",
       "</div>"
      ],
      "text/plain": [
       "        station  latitude  longitude  elevation  count(station)  avg(coeff_2)\n",
       "40  USC00020060   33.9433  -113.1875      659.9              34   -259.113939\n",
       "0   USC00020104   33.5167  -112.1167      348.1              26   -193.022085"
      ]
     },
     "execution_count": 81,
     "metadata": {},
     "output_type": "execute_result"
    }
   ],
   "source": [
    "df2=df1.groupby(['station','latitude','longitude','elevation']).agg({\"station\": \"count\", feature: \"mean\"})\n",
    "pdf=df2.toPandas()\n",
    "pdf.sort_values(by=['station'],inplace=True)\n",
    "pdf.head(2)"
   ]
  },
  {
   "cell_type": "code",
   "execution_count": 82,
   "metadata": {
    "ExecuteTime": {
     "end_time": "2017-05-15T20:46:59.427196Z",
     "start_time": "2017-05-15T20:46:59.416505"
    },
    "collapsed": false,
    "deletable": true,
    "editable": true
   },
   "outputs": [
    {
     "data": {
      "text/plain": [
       "station           47\n",
       "latitude          47\n",
       "longitude         47\n",
       "elevation         47\n",
       "count(station)    47\n",
       "avg(coeff_2)      47\n",
       "dtype: int64"
      ]
     },
     "execution_count": 82,
     "metadata": {},
     "output_type": "execute_result"
    }
   ],
   "source": [
    "pdf.count()"
   ]
  },
  {
   "cell_type": "code",
   "execution_count": 83,
   "metadata": {
    "ExecuteTime": {
     "end_time": "2017-05-15T20:47:00.318780Z",
     "start_time": "2017-05-15T20:47:00.016703"
    },
    "collapsed": false,
    "deletable": true,
    "editable": true
   },
   "outputs": [
    {
     "data": {
      "text/html": [
       "<div>\n",
       "<table border=\"1\" class=\"dataframe\">\n",
       "  <thead>\n",
       "    <tr style=\"text-align: right;\">\n",
       "      <th></th>\n",
       "      <th>station</th>\n",
       "      <th>latitude</th>\n",
       "      <th>longitude</th>\n",
       "      <th>elevation</th>\n",
       "      <th>count(station)</th>\n",
       "      <th>avg(coeff_2)</th>\n",
       "    </tr>\n",
       "  </thead>\n",
       "  <tbody>\n",
       "    <tr>\n",
       "      <th>0</th>\n",
       "      <td>USC00020104</td>\n",
       "      <td>33.5167</td>\n",
       "      <td>-112.1167</td>\n",
       "      <td>348.1</td>\n",
       "      <td>26</td>\n",
       "      <td>-193.022085</td>\n",
       "    </tr>\n",
       "    <tr>\n",
       "      <th>1</th>\n",
       "      <td>USC00026603</td>\n",
       "      <td>33.7275</td>\n",
       "      <td>-111.8606</td>\n",
       "      <td>781.8</td>\n",
       "      <td>10</td>\n",
       "      <td>85.024458</td>\n",
       "    </tr>\n",
       "    <tr>\n",
       "      <th>2</th>\n",
       "      <td>USC00045860</td>\n",
       "      <td>34.0864</td>\n",
       "      <td>-116.5622</td>\n",
       "      <td>958.6</td>\n",
       "      <td>4</td>\n",
       "      <td>-993.320204</td>\n",
       "    </tr>\n",
       "    <tr>\n",
       "      <th>3</th>\n",
       "      <td>USC00029287</td>\n",
       "      <td>33.9792</td>\n",
       "      <td>-112.7403</td>\n",
       "      <td>638.6</td>\n",
       "      <td>80</td>\n",
       "      <td>-498.200636</td>\n",
       "    </tr>\n",
       "    <tr>\n",
       "      <th>4</th>\n",
       "      <td>USC00028112</td>\n",
       "      <td>33.3814</td>\n",
       "      <td>-112.0700</td>\n",
       "      <td>352.0</td>\n",
       "      <td>45</td>\n",
       "      <td>54.774222</td>\n",
       "    </tr>\n",
       "    <tr>\n",
       "      <th>5</th>\n",
       "      <td>USC00022790</td>\n",
       "      <td>33.6133</td>\n",
       "      <td>-114.4706</td>\n",
       "      <td>141.7</td>\n",
       "      <td>22</td>\n",
       "      <td>-568.642532</td>\n",
       "    </tr>\n",
       "    <tr>\n",
       "      <th>6</th>\n",
       "      <td>USC00025467</td>\n",
       "      <td>33.4114</td>\n",
       "      <td>-111.8183</td>\n",
       "      <td>376.4</td>\n",
       "      <td>66</td>\n",
       "      <td>-472.907943</td>\n",
       "    </tr>\n",
       "    <tr>\n",
       "      <th>7</th>\n",
       "      <td>USC00023852</td>\n",
       "      <td>33.5333</td>\n",
       "      <td>-113.1667</td>\n",
       "      <td>371.9</td>\n",
       "      <td>6</td>\n",
       "      <td>-70.778724</td>\n",
       "    </tr>\n",
       "    <tr>\n",
       "      <th>8</th>\n",
       "      <td>USC00029634</td>\n",
       "      <td>33.5950</td>\n",
       "      <td>-112.3014</td>\n",
       "      <td>345.9</td>\n",
       "      <td>29</td>\n",
       "      <td>-633.315893</td>\n",
       "    </tr>\n",
       "    <tr>\n",
       "      <th>9</th>\n",
       "      <td>USC00021161</td>\n",
       "      <td>33.4833</td>\n",
       "      <td>-111.9667</td>\n",
       "      <td>381.0</td>\n",
       "      <td>39</td>\n",
       "      <td>-299.023084</td>\n",
       "    </tr>\n",
       "    <tr>\n",
       "      <th>10</th>\n",
       "      <td>USC00026865</td>\n",
       "      <td>33.6650</td>\n",
       "      <td>-114.2272</td>\n",
       "      <td>266.7</td>\n",
       "      <td>27</td>\n",
       "      <td>-833.148341</td>\n",
       "    </tr>\n",
       "    <tr>\n",
       "      <th>11</th>\n",
       "      <td>USC00028489</td>\n",
       "      <td>33.4333</td>\n",
       "      <td>-111.9333</td>\n",
       "      <td>351.1</td>\n",
       "      <td>26</td>\n",
       "      <td>-338.383118</td>\n",
       "    </tr>\n",
       "    <tr>\n",
       "      <th>12</th>\n",
       "      <td>USC00029015</td>\n",
       "      <td>33.3833</td>\n",
       "      <td>-111.9667</td>\n",
       "      <td>360.0</td>\n",
       "      <td>1</td>\n",
       "      <td>-272.798248</td>\n",
       "    </tr>\n",
       "    <tr>\n",
       "      <th>13</th>\n",
       "      <td>USC00027460</td>\n",
       "      <td>33.7333</td>\n",
       "      <td>-113.5333</td>\n",
       "      <td>519.1</td>\n",
       "      <td>46</td>\n",
       "      <td>2.795573</td>\n",
       "    </tr>\n",
       "    <tr>\n",
       "      <th>14</th>\n",
       "      <td>USC00025282</td>\n",
       "      <td>33.6333</td>\n",
       "      <td>-112.3000</td>\n",
       "      <td>351.1</td>\n",
       "      <td>19</td>\n",
       "      <td>-284.966230</td>\n",
       "    </tr>\n",
       "    <tr>\n",
       "      <th>15</th>\n",
       "      <td>USC00022787</td>\n",
       "      <td>33.6000</td>\n",
       "      <td>-114.5333</td>\n",
       "      <td>98.1</td>\n",
       "      <td>20</td>\n",
       "      <td>-210.277635</td>\n",
       "    </tr>\n",
       "    <tr>\n",
       "      <th>16</th>\n",
       "      <td>USC00028499</td>\n",
       "      <td>33.4258</td>\n",
       "      <td>-111.9217</td>\n",
       "      <td>355.7</td>\n",
       "      <td>38</td>\n",
       "      <td>-509.033554</td>\n",
       "    </tr>\n",
       "    <tr>\n",
       "      <th>17</th>\n",
       "      <td>USC00046635</td>\n",
       "      <td>33.8275</td>\n",
       "      <td>-116.5097</td>\n",
       "      <td>129.5</td>\n",
       "      <td>21</td>\n",
       "      <td>-647.423414</td>\n",
       "    </tr>\n",
       "    <tr>\n",
       "      <th>18</th>\n",
       "      <td>USC00026476</td>\n",
       "      <td>33.5000</td>\n",
       "      <td>-112.0667</td>\n",
       "      <td>342.0</td>\n",
       "      <td>5</td>\n",
       "      <td>-220.134787</td>\n",
       "    </tr>\n",
       "    <tr>\n",
       "      <th>19</th>\n",
       "      <td>USC00021026</td>\n",
       "      <td>33.3761</td>\n",
       "      <td>-112.5828</td>\n",
       "      <td>271.3</td>\n",
       "      <td>22</td>\n",
       "      <td>-556.237075</td>\n",
       "    </tr>\n",
       "  </tbody>\n",
       "</table>\n",
       "</div>"
      ],
      "text/plain": [
       "        station  latitude  longitude  elevation  count(station)  avg(coeff_2)\n",
       "0   USC00020104   33.5167  -112.1167      348.1              26   -193.022085\n",
       "1   USC00026603   33.7275  -111.8606      781.8              10     85.024458\n",
       "2   USC00045860   34.0864  -116.5622      958.6               4   -993.320204\n",
       "3   USC00029287   33.9792  -112.7403      638.6              80   -498.200636\n",
       "4   USC00028112   33.3814  -112.0700      352.0              45     54.774222\n",
       "5   USC00022790   33.6133  -114.4706      141.7              22   -568.642532\n",
       "6   USC00025467   33.4114  -111.8183      376.4              66   -472.907943\n",
       "7   USC00023852   33.5333  -113.1667      371.9               6    -70.778724\n",
       "8   USC00029634   33.5950  -112.3014      345.9              29   -633.315893\n",
       "9   USC00021161   33.4833  -111.9667      381.0              39   -299.023084\n",
       "10  USC00026865   33.6650  -114.2272      266.7              27   -833.148341\n",
       "11  USC00028489   33.4333  -111.9333      351.1              26   -338.383118\n",
       "12  USC00029015   33.3833  -111.9667      360.0               1   -272.798248\n",
       "13  USC00027460   33.7333  -113.5333      519.1              46      2.795573\n",
       "14  USC00025282   33.6333  -112.3000      351.1              19   -284.966230\n",
       "15  USC00022787   33.6000  -114.5333       98.1              20   -210.277635\n",
       "16  USC00028499   33.4258  -111.9217      355.7              38   -509.033554\n",
       "17  USC00046635   33.8275  -116.5097      129.5              21   -647.423414\n",
       "18  USC00026476   33.5000  -112.0667      342.0               5   -220.134787\n",
       "19  USC00021026   33.3761  -112.5828      271.3              22   -556.237075"
      ]
     },
     "execution_count": 83,
     "metadata": {},
     "output_type": "execute_result"
    }
   ],
   "source": [
    "df2.toPandas().head(20)"
   ]
  },
  {
   "cell_type": "code",
   "execution_count": 84,
   "metadata": {
    "ExecuteTime": {
     "end_time": "2017-05-15T20:47:00.756629Z",
     "start_time": "2017-05-15T20:47:00.728523"
    },
    "collapsed": false,
    "deletable": true,
    "editable": true,
    "run_control": {
     "frozen": false,
     "read_only": false
    }
   },
   "outputs": [
    {
     "name": "stdout",
     "output_type": "stream",
     "text": [
      "#800000\n"
     ]
    }
   ],
   "source": [
    "#define a mapping from the range of the value to hex colors.\n",
    "from matplotlib.colors import rgb2hex\n",
    "_avg='avg(%s)'%feature\n",
    "_min=pdf[_avg].min()\n",
    "_max=pdf[_avg].max()\n",
    "_min,_max\n",
    "\n",
    "import pylab as plt\n",
    "cmap=plt.get_cmap('jet')\n",
    "def get_color(val):\n",
    "    x=(val-_min)/(_max-_min)\n",
    "    return(rgb2hex(cmap(x)[:3]))\n",
    "\n",
    "print get_color(1000.)\n",
    "\n",
    "def draw_bar(feature = feature):\n",
    "    import matplotlib.pyplot as plt\n",
    "    import matplotlib as mpl\n",
    "\n",
    "    # Make a figure and axes with dimensions as desired.\n",
    "    fig = plt.figure(figsize=(8, 3))\n",
    "    ax1 = fig.add_axes([0.05, 0.80, 0.9, 0.15])\n",
    "\n",
    "    # Set the colormap and norm to correspond to the data for which\n",
    "    # the colorbar will be used.\n",
    "    cmap = plt.get_cmap('jet') #mpl.cm.cool\n",
    "    norm = mpl.colors.Normalize(vmin=_min, vmax=_max)\n",
    "\n",
    "    # ColorbarBase derives from ScalarMappable and puts a colorbar\n",
    "    # in a specified axes, so it has everything needed for a\n",
    "    # standalone colorbar.  There are many more kwargs, but the\n",
    "    # following gives a basic continuous colorbar with ticks\n",
    "    # and labels.\n",
    "    cb1 = mpl.colorbar.ColorbarBase(ax1, cmap=cmap,\n",
    "                                    norm=norm,\n",
    "                                    orientation='horizontal')\n",
    "    cb1.set_label(feature)\n",
    "\n",
    "    plt.show()"
   ]
  },
  {
   "cell_type": "markdown",
   "metadata": {
    "deletable": true,
    "editable": true,
    "run_control": {
     "frozen": false,
     "read_only": false
    }
   },
   "source": [
    "## Map"
   ]
  },
  {
   "cell_type": "code",
   "execution_count": 85,
   "metadata": {
    "ExecuteTime": {
     "end_time": "2017-05-15T20:47:01.965851Z",
     "start_time": "2017-05-15T20:47:01.962114"
    },
    "collapsed": false,
    "deletable": true,
    "editable": true,
    "run_control": {
     "frozen": false,
     "read_only": false
    }
   },
   "outputs": [],
   "source": [
    "min_lat,max_lat,min_long,max_long = box = (33.2, 34.1, -117, -111)"
   ]
  },
  {
   "cell_type": "code",
   "execution_count": 86,
   "metadata": {
    "ExecuteTime": {
     "end_time": "2017-05-15T20:47:02.537188Z",
     "start_time": "2017-05-15T20:47:02.515403"
    },
    "collapsed": false,
    "deletable": true,
    "editable": true,
    "run_control": {
     "frozen": false,
     "read_only": false
    },
    "scrolled": true
   },
   "outputs": [],
   "source": [
    "def draw_map(topo=False):\n",
    "    center = [(min_lat+max_lat)/2, (min_long+max_long)/2]\n",
    "    zoom = 9\n",
    "\n",
    "    #url = 'http://server.arcgisonline.com/ArcGIS/rest/services/World_Imagery/MapServer/tile/{z}/{y}/{x}'\n",
    "    url = \"http://{s}.tile.opentopomap.org/{z}/{x}/{y}.png\" \n",
    "    provider = TileLayer(url=url, opacity=1)\n",
    "    if topo==True:\n",
    "        m = Map(default_tiles=provider, center=center, zoom=zoom)\n",
    "    else:\n",
    "        m = Map(default_tiles=TileLayer(opacity=1.0), center=center, zoom=zoom)\n",
    "\n",
    "    r = Rectangle(bounds=[[min_lat,min_long],[max_lat,max_long]], weight=5, fill_opacity=0.0)\n",
    "    m += r\n",
    "\n",
    "    lat_margin=(max_lat-min_lat)/4\n",
    "    long_margin=(max_long-min_long)/4\n",
    "    circles = []\n",
    "    for index,row in pdf.iterrows():\n",
    "        _lat=row['latitude']\n",
    "        _long=row['longitude']\n",
    "        _count=row['count(station)']\n",
    "        _coef=row[_avg]\n",
    "        # taking sqrt of count so that the  area of the circle corresponds to the count\n",
    "        c = Circle(location=(_lat,_long), radius=int(300*np.sqrt(_count+0.0)), weight=1,\n",
    "                color='#000', opacity=0.8, fill_opacity=0.4,\n",
    "                fill_color=get_color(_coef))\n",
    "        circles.append(c)\n",
    "        m.add_layer(c)\n",
    "    return m"
   ]
  },
  {
   "cell_type": "code",
   "execution_count": 87,
   "metadata": {
    "ExecuteTime": {
     "end_time": "2017-05-15T20:47:06.726928Z",
     "start_time": "2017-05-15T20:47:06.064005"
    },
    "collapsed": false
   },
   "outputs": [
    {
     "data": {
      "image/png": "[encoded data removed]",
      "text/plain": [
       "<matplotlib.figure.Figure at 0x110fcef50>"
      ]
     },
     "metadata": {
      "image/png": {
       "height": 79,
       "width": 536
      }
     },
     "output_type": "display_data"
    },
    {
     "data": {
      "application/vnd.jupyter.widget-view+json": {
       "model_id": "f852f951b8d9401488ea852b62fc8f7b"
      }
     },
     "metadata": {},
     "output_type": "display_data"
    }
   ],
   "source": [
    "draw_bar()\n",
    "draw_map()"
   ]
  },
  {
   "cell_type": "code",
   "execution_count": 88,
   "metadata": {
    "ExecuteTime": {
     "end_time": "2017-05-15T21:20:24.135799Z",
     "start_time": "2017-05-15T21:20:23.271058"
    },
    "collapsed": false
   },
   "outputs": [
    {
     "data": {
      "image/png": "[encoded data removed]",
      "text/plain": [
       "<matplotlib.figure.Figure at 0x11124dd50>"
      ]
     },
     "metadata": {
      "image/png": {
       "height": 79,
       "width": 536
      }
     },
     "output_type": "display_data"
    },
    {
     "data": {
      "application/vnd.jupyter.widget-view+json": {
       "model_id": "29e5b6f4fbb640ba8e4cabef4de3357f"
      }
     },
     "metadata": {},
     "output_type": "display_data"
    }
   ],
   "source": [
    "draw_bar()\n",
    "draw_map(topo=True)"
   ]
  },
  {
   "cell_type": "code",
   "execution_count": 64,
   "metadata": {
    "ExecuteTime": {
     "end_time": "2017-05-15T19:04:30.482240Z",
     "start_time": "2017-05-15T19:04:30.421155"
    },
    "collapsed": true
   },
   "outputs": [],
   "source": [
    "Map?"
   ]
  },
  {
   "cell_type": "markdown",
   "metadata": {
    "deletable": true,
    "editable": true,
    "run_control": {
     "frozen": false,
     "read_only": false
    }
   },
   "source": [
    "### excercises:\n",
    "* Add a legend that relates the colors to values.\n",
    "* Leaflet supports a variety of maps. See if you can get a topographical map as the background."
   ]
  },
  {
   "cell_type": "code",
   "execution_count": 71,
   "metadata": {
    "ExecuteTime": {
     "end_time": "2017-05-15T19:42:56.774494Z",
     "start_time": "2017-05-15T19:42:56.696953"
    },
    "collapsed": false
   },
   "outputs": [
    {
     "data": {
      "text/html": [
       "<div>\n",
       "<table border=\"1\" class=\"dataframe\">\n",
       "  <thead>\n",
       "    <tr style=\"text-align: right;\">\n",
       "      <th></th>\n",
       "      <th>station</th>\n",
       "      <th>latitude</th>\n",
       "      <th>longitude</th>\n",
       "      <th>elevation</th>\n",
       "      <th>count(station)</th>\n",
       "      <th>avg(coeff_1)</th>\n",
       "    </tr>\n",
       "  </thead>\n",
       "  <tbody>\n",
       "    <tr>\n",
       "      <th>40</th>\n",
       "      <td>USC00020060</td>\n",
       "      <td>33.9433</td>\n",
       "      <td>-113.1875</td>\n",
       "      <td>659.9</td>\n",
       "      <td>34</td>\n",
       "      <td>450.358303</td>\n",
       "    </tr>\n",
       "    <tr>\n",
       "      <th>0</th>\n",
       "      <td>USC00020104</td>\n",
       "      <td>33.5167</td>\n",
       "      <td>-112.1167</td>\n",
       "      <td>348.1</td>\n",
       "      <td>26</td>\n",
       "      <td>-258.625111</td>\n",
       "    </tr>\n",
       "    <tr>\n",
       "      <th>38</th>\n",
       "      <td>USC00020406</td>\n",
       "      <td>33.5000</td>\n",
       "      <td>-111.9833</td>\n",
       "      <td>381.0</td>\n",
       "      <td>4</td>\n",
       "      <td>885.584545</td>\n",
       "    </tr>\n",
       "    <tr>\n",
       "      <th>36</th>\n",
       "      <td>USC00020949</td>\n",
       "      <td>33.9431</td>\n",
       "      <td>-114.0242</td>\n",
       "      <td>281.9</td>\n",
       "      <td>45</td>\n",
       "      <td>-706.875173</td>\n",
       "    </tr>\n",
       "    <tr>\n",
       "      <th>19</th>\n",
       "      <td>USC00021026</td>\n",
       "      <td>33.3761</td>\n",
       "      <td>-112.5828</td>\n",
       "      <td>271.3</td>\n",
       "      <td>22</td>\n",
       "      <td>174.961500</td>\n",
       "    </tr>\n",
       "    <tr>\n",
       "      <th>9</th>\n",
       "      <td>USC00021161</td>\n",
       "      <td>33.4833</td>\n",
       "      <td>-111.9667</td>\n",
       "      <td>381.0</td>\n",
       "      <td>39</td>\n",
       "      <td>101.222397</td>\n",
       "    </tr>\n",
       "    <tr>\n",
       "      <th>34</th>\n",
       "      <td>USC00021282</td>\n",
       "      <td>33.8161</td>\n",
       "      <td>-111.9019</td>\n",
       "      <td>771.1</td>\n",
       "      <td>35</td>\n",
       "      <td>-518.240261</td>\n",
       "    </tr>\n",
       "    <tr>\n",
       "      <th>41</th>\n",
       "      <td>USC00021353</td>\n",
       "      <td>33.9825</td>\n",
       "      <td>-112.3617</td>\n",
       "      <td>606.6</td>\n",
       "      <td>49</td>\n",
       "      <td>-133.389440</td>\n",
       "    </tr>\n",
       "    <tr>\n",
       "      <th>30</th>\n",
       "      <td>USC00021356</td>\n",
       "      <td>34.0500</td>\n",
       "      <td>-112.3500</td>\n",
       "      <td>854.0</td>\n",
       "      <td>8</td>\n",
       "      <td>-227.671294</td>\n",
       "    </tr>\n",
       "    <tr>\n",
       "      <th>28</th>\n",
       "      <td>USC00021361</td>\n",
       "      <td>33.8333</td>\n",
       "      <td>-111.9500</td>\n",
       "      <td>647.1</td>\n",
       "      <td>10</td>\n",
       "      <td>-92.932906</td>\n",
       "    </tr>\n",
       "    <tr>\n",
       "      <th>35</th>\n",
       "      <td>USC00022462</td>\n",
       "      <td>33.5833</td>\n",
       "      <td>-112.0833</td>\n",
       "      <td>383.1</td>\n",
       "      <td>32</td>\n",
       "      <td>294.037549</td>\n",
       "    </tr>\n",
       "    <tr>\n",
       "      <th>15</th>\n",
       "      <td>USC00022787</td>\n",
       "      <td>33.6000</td>\n",
       "      <td>-114.5333</td>\n",
       "      <td>98.1</td>\n",
       "      <td>20</td>\n",
       "      <td>-664.234498</td>\n",
       "    </tr>\n",
       "    <tr>\n",
       "      <th>5</th>\n",
       "      <td>USC00022790</td>\n",
       "      <td>33.6133</td>\n",
       "      <td>-114.4706</td>\n",
       "      <td>141.7</td>\n",
       "      <td>22</td>\n",
       "      <td>-513.440763</td>\n",
       "    </tr>\n",
       "    <tr>\n",
       "      <th>45</th>\n",
       "      <td>USC00022927</td>\n",
       "      <td>33.4333</td>\n",
       "      <td>-111.7500</td>\n",
       "      <td>402.9</td>\n",
       "      <td>29</td>\n",
       "      <td>-278.371341</td>\n",
       "    </tr>\n",
       "    <tr>\n",
       "      <th>24</th>\n",
       "      <td>USC00023573</td>\n",
       "      <td>33.3833</td>\n",
       "      <td>-112.0667</td>\n",
       "      <td>366.1</td>\n",
       "      <td>8</td>\n",
       "      <td>-496.942878</td>\n",
       "    </tr>\n",
       "    <tr>\n",
       "      <th>7</th>\n",
       "      <td>USC00023852</td>\n",
       "      <td>33.5333</td>\n",
       "      <td>-113.1667</td>\n",
       "      <td>371.9</td>\n",
       "      <td>6</td>\n",
       "      <td>-205.589675</td>\n",
       "    </tr>\n",
       "    <tr>\n",
       "      <th>20</th>\n",
       "      <td>USC00024829</td>\n",
       "      <td>33.3369</td>\n",
       "      <td>-112.1472</td>\n",
       "      <td>345.9</td>\n",
       "      <td>64</td>\n",
       "      <td>-127.032435</td>\n",
       "    </tr>\n",
       "    <tr>\n",
       "      <th>44</th>\n",
       "      <td>USC00024977</td>\n",
       "      <td>33.4992</td>\n",
       "      <td>-112.3631</td>\n",
       "      <td>317.0</td>\n",
       "      <td>49</td>\n",
       "      <td>-474.406371</td>\n",
       "    </tr>\n",
       "    <tr>\n",
       "      <th>14</th>\n",
       "      <td>USC00025282</td>\n",
       "      <td>33.6333</td>\n",
       "      <td>-112.3000</td>\n",
       "      <td>351.1</td>\n",
       "      <td>19</td>\n",
       "      <td>-413.300273</td>\n",
       "    </tr>\n",
       "    <tr>\n",
       "      <th>6</th>\n",
       "      <td>USC00025467</td>\n",
       "      <td>33.4114</td>\n",
       "      <td>-111.8183</td>\n",
       "      <td>376.4</td>\n",
       "      <td>66</td>\n",
       "      <td>963.306704</td>\n",
       "    </tr>\n",
       "    <tr>\n",
       "      <th>37</th>\n",
       "      <td>USC00026246</td>\n",
       "      <td>33.5667</td>\n",
       "      <td>-111.9667</td>\n",
       "      <td>420.9</td>\n",
       "      <td>2</td>\n",
       "      <td>-485.514550</td>\n",
       "    </tr>\n",
       "    <tr>\n",
       "      <th>18</th>\n",
       "      <td>USC00026476</td>\n",
       "      <td>33.5000</td>\n",
       "      <td>-112.0667</td>\n",
       "      <td>342.0</td>\n",
       "      <td>5</td>\n",
       "      <td>532.097363</td>\n",
       "    </tr>\n",
       "    <tr>\n",
       "      <th>1</th>\n",
       "      <td>USC00026603</td>\n",
       "      <td>33.7275</td>\n",
       "      <td>-111.8606</td>\n",
       "      <td>781.8</td>\n",
       "      <td>10</td>\n",
       "      <td>-219.761235</td>\n",
       "    </tr>\n",
       "    <tr>\n",
       "      <th>10</th>\n",
       "      <td>USC00026865</td>\n",
       "      <td>33.6650</td>\n",
       "      <td>-114.2272</td>\n",
       "      <td>266.7</td>\n",
       "      <td>27</td>\n",
       "      <td>-544.586214</td>\n",
       "    </tr>\n",
       "    <tr>\n",
       "      <th>27</th>\n",
       "      <td>USC00027453</td>\n",
       "      <td>33.7833</td>\n",
       "      <td>-113.6167</td>\n",
       "      <td>580.0</td>\n",
       "      <td>4</td>\n",
       "      <td>198.128890</td>\n",
       "    </tr>\n",
       "    <tr>\n",
       "      <th>13</th>\n",
       "      <td>USC00027460</td>\n",
       "      <td>33.7333</td>\n",
       "      <td>-113.5333</td>\n",
       "      <td>519.1</td>\n",
       "      <td>46</td>\n",
       "      <td>7.394741</td>\n",
       "    </tr>\n",
       "    <tr>\n",
       "      <th>46</th>\n",
       "      <td>USC00027462</td>\n",
       "      <td>33.6833</td>\n",
       "      <td>-113.4833</td>\n",
       "      <td>487.4</td>\n",
       "      <td>9</td>\n",
       "      <td>1153.161486</td>\n",
       "    </tr>\n",
       "    <tr>\n",
       "      <th>31</th>\n",
       "      <td>USC00027661</td>\n",
       "      <td>33.4667</td>\n",
       "      <td>-111.8833</td>\n",
       "      <td>366.1</td>\n",
       "      <td>10</td>\n",
       "      <td>238.732937</td>\n",
       "    </tr>\n",
       "    <tr>\n",
       "      <th>4</th>\n",
       "      <td>USC00028112</td>\n",
       "      <td>33.3814</td>\n",
       "      <td>-112.0700</td>\n",
       "      <td>352.0</td>\n",
       "      <td>45</td>\n",
       "      <td>-595.324195</td>\n",
       "    </tr>\n",
       "    <tr>\n",
       "      <th>11</th>\n",
       "      <td>USC00028489</td>\n",
       "      <td>33.4333</td>\n",
       "      <td>-111.9333</td>\n",
       "      <td>351.1</td>\n",
       "      <td>26</td>\n",
       "      <td>958.285680</td>\n",
       "    </tr>\n",
       "    <tr>\n",
       "      <th>42</th>\n",
       "      <td>USC00028494</td>\n",
       "      <td>33.3833</td>\n",
       "      <td>-111.9333</td>\n",
       "      <td>360.0</td>\n",
       "      <td>37</td>\n",
       "      <td>644.391736</td>\n",
       "    </tr>\n",
       "    <tr>\n",
       "      <th>16</th>\n",
       "      <td>USC00028499</td>\n",
       "      <td>33.4258</td>\n",
       "      <td>-111.9217</td>\n",
       "      <td>355.7</td>\n",
       "      <td>38</td>\n",
       "      <td>-80.045932</td>\n",
       "    </tr>\n",
       "    <tr>\n",
       "      <th>26</th>\n",
       "      <td>USC00028566</td>\n",
       "      <td>33.5667</td>\n",
       "      <td>-112.4000</td>\n",
       "      <td>335.0</td>\n",
       "      <td>4</td>\n",
       "      <td>394.031493</td>\n",
       "    </tr>\n",
       "    <tr>\n",
       "      <th>23</th>\n",
       "      <td>USC00028641</td>\n",
       "      <td>33.4203</td>\n",
       "      <td>-112.8600</td>\n",
       "      <td>396.2</td>\n",
       "      <td>12</td>\n",
       "      <td>-90.553854</td>\n",
       "    </tr>\n",
       "    <tr>\n",
       "      <th>12</th>\n",
       "      <td>USC00029015</td>\n",
       "      <td>33.3833</td>\n",
       "      <td>-111.9667</td>\n",
       "      <td>360.0</td>\n",
       "      <td>1</td>\n",
       "      <td>802.993205</td>\n",
       "    </tr>\n",
       "    <tr>\n",
       "      <th>3</th>\n",
       "      <td>USC00029287</td>\n",
       "      <td>33.9792</td>\n",
       "      <td>-112.7403</td>\n",
       "      <td>638.6</td>\n",
       "      <td>80</td>\n",
       "      <td>598.561379</td>\n",
       "    </tr>\n",
       "    <tr>\n",
       "      <th>33</th>\n",
       "      <td>USC00029464</td>\n",
       "      <td>33.7478</td>\n",
       "      <td>-112.5983</td>\n",
       "      <td>509.0</td>\n",
       "      <td>21</td>\n",
       "      <td>489.592914</td>\n",
       "    </tr>\n",
       "    <tr>\n",
       "      <th>8</th>\n",
       "      <td>USC00029634</td>\n",
       "      <td>33.5950</td>\n",
       "      <td>-112.3014</td>\n",
       "      <td>345.9</td>\n",
       "      <td>29</td>\n",
       "      <td>-948.431993</td>\n",
       "    </tr>\n",
       "    <tr>\n",
       "      <th>32</th>\n",
       "      <td>USC00040924</td>\n",
       "      <td>33.6131</td>\n",
       "      <td>-114.5972</td>\n",
       "      <td>81.7</td>\n",
       "      <td>13</td>\n",
       "      <td>-611.431321</td>\n",
       "    </tr>\n",
       "    <tr>\n",
       "      <th>25</th>\n",
       "      <td>USC00042598</td>\n",
       "      <td>33.8089</td>\n",
       "      <td>-115.4508</td>\n",
       "      <td>296.6</td>\n",
       "      <td>78</td>\n",
       "      <td>358.857048</td>\n",
       "    </tr>\n",
       "    <tr>\n",
       "      <th>29</th>\n",
       "      <td>USC00043855</td>\n",
       "      <td>33.7044</td>\n",
       "      <td>-115.6289</td>\n",
       "      <td>417.6</td>\n",
       "      <td>78</td>\n",
       "      <td>365.915455</td>\n",
       "    </tr>\n",
       "    <tr>\n",
       "      <th>22</th>\n",
       "      <td>USC00044259</td>\n",
       "      <td>33.7086</td>\n",
       "      <td>-116.2153</td>\n",
       "      <td>-6.4</td>\n",
       "      <td>38</td>\n",
       "      <td>49.791170</td>\n",
       "    </tr>\n",
       "    <tr>\n",
       "      <th>21</th>\n",
       "      <td>USC00045502</td>\n",
       "      <td>33.5714</td>\n",
       "      <td>-116.0767</td>\n",
       "      <td>-54.9</td>\n",
       "      <td>24</td>\n",
       "      <td>254.971126</td>\n",
       "    </tr>\n",
       "    <tr>\n",
       "      <th>2</th>\n",
       "      <td>USC00045860</td>\n",
       "      <td>34.0864</td>\n",
       "      <td>-116.5622</td>\n",
       "      <td>958.6</td>\n",
       "      <td>4</td>\n",
       "      <td>1344.533092</td>\n",
       "    </tr>\n",
       "    <tr>\n",
       "      <th>17</th>\n",
       "      <td>USC00046635</td>\n",
       "      <td>33.8275</td>\n",
       "      <td>-116.5097</td>\n",
       "      <td>129.5</td>\n",
       "      <td>21</td>\n",
       "      <td>-650.039348</td>\n",
       "    </tr>\n",
       "    <tr>\n",
       "      <th>39</th>\n",
       "      <td>USW00023183</td>\n",
       "      <td>33.4278</td>\n",
       "      <td>-112.0039</td>\n",
       "      <td>337.4</td>\n",
       "      <td>1</td>\n",
       "      <td>816.439097</td>\n",
       "    </tr>\n",
       "    <tr>\n",
       "      <th>43</th>\n",
       "      <td>USW00093140</td>\n",
       "      <td>33.4489</td>\n",
       "      <td>-112.0825</td>\n",
       "      <td>334.7</td>\n",
       "      <td>21</td>\n",
       "      <td>-254.207537</td>\n",
       "    </tr>\n",
       "  </tbody>\n",
       "</table>\n",
       "</div>"
      ],
      "text/plain": [
       "        station  latitude  longitude  elevation  count(station)  avg(coeff_1)\n",
       "40  USC00020060   33.9433  -113.1875      659.9              34    450.358303\n",
       "0   USC00020104   33.5167  -112.1167      348.1              26   -258.625111\n",
       "38  USC00020406   33.5000  -111.9833      381.0               4    885.584545\n",
       "36  USC00020949   33.9431  -114.0242      281.9              45   -706.875173\n",
       "19  USC00021026   33.3761  -112.5828      271.3              22    174.961500\n",
       "9   USC00021161   33.4833  -111.9667      381.0              39    101.222397\n",
       "34  USC00021282   33.8161  -111.9019      771.1              35   -518.240261\n",
       "41  USC00021353   33.9825  -112.3617      606.6              49   -133.389440\n",
       "30  USC00021356   34.0500  -112.3500      854.0               8   -227.671294\n",
       "28  USC00021361   33.8333  -111.9500      647.1              10    -92.932906\n",
       "35  USC00022462   33.5833  -112.0833      383.1              32    294.037549\n",
       "15  USC00022787   33.6000  -114.5333       98.1              20   -664.234498\n",
       "5   USC00022790   33.6133  -114.4706      141.7              22   -513.440763\n",
       "45  USC00022927   33.4333  -111.7500      402.9              29   -278.371341\n",
       "24  USC00023573   33.3833  -112.0667      366.1               8   -496.942878\n",
       "7   USC00023852   33.5333  -113.1667      371.9               6   -205.589675\n",
       "20  USC00024829   33.3369  -112.1472      345.9              64   -127.032435\n",
       "44  USC00024977   33.4992  -112.3631      317.0              49   -474.406371\n",
       "14  USC00025282   33.6333  -112.3000      351.1              19   -413.300273\n",
       "6   USC00025467   33.4114  -111.8183      376.4              66    963.306704\n",
       "37  USC00026246   33.5667  -111.9667      420.9               2   -485.514550\n",
       "18  USC00026476   33.5000  -112.0667      342.0               5    532.097363\n",
       "1   USC00026603   33.7275  -111.8606      781.8              10   -219.761235\n",
       "10  USC00026865   33.6650  -114.2272      266.7              27   -544.586214\n",
       "27  USC00027453   33.7833  -113.6167      580.0               4    198.128890\n",
       "13  USC00027460   33.7333  -113.5333      519.1              46      7.394741\n",
       "46  USC00027462   33.6833  -113.4833      487.4               9   1153.161486\n",
       "31  USC00027661   33.4667  -111.8833      366.1              10    238.732937\n",
       "4   USC00028112   33.3814  -112.0700      352.0              45   -595.324195\n",
       "11  USC00028489   33.4333  -111.9333      351.1              26    958.285680\n",
       "42  USC00028494   33.3833  -111.9333      360.0              37    644.391736\n",
       "16  USC00028499   33.4258  -111.9217      355.7              38    -80.045932\n",
       "26  USC00028566   33.5667  -112.4000      335.0               4    394.031493\n",
       "23  USC00028641   33.4203  -112.8600      396.2              12    -90.553854\n",
       "12  USC00029015   33.3833  -111.9667      360.0               1    802.993205\n",
       "3   USC00029287   33.9792  -112.7403      638.6              80    598.561379\n",
       "33  USC00029464   33.7478  -112.5983      509.0              21    489.592914\n",
       "8   USC00029634   33.5950  -112.3014      345.9              29   -948.431993\n",
       "32  USC00040924   33.6131  -114.5972       81.7              13   -611.431321\n",
       "25  USC00042598   33.8089  -115.4508      296.6              78    358.857048\n",
       "29  USC00043855   33.7044  -115.6289      417.6              78    365.915455\n",
       "22  USC00044259   33.7086  -116.2153       -6.4              38     49.791170\n",
       "21  USC00045502   33.5714  -116.0767      -54.9              24    254.971126\n",
       "2   USC00045860   34.0864  -116.5622      958.6               4   1344.533092\n",
       "17  USC00046635   33.8275  -116.5097      129.5              21   -650.039348\n",
       "39  USW00023183   33.4278  -112.0039      337.4               1    816.439097\n",
       "43  USW00093140   33.4489  -112.0825      334.7              21   -254.207537"
      ]
     },
     "execution_count": 71,
     "metadata": {},
     "output_type": "execute_result"
    }
   ],
   "source": [
    "pdf"
   ]
  },
  {
   "cell_type": "code",
   "execution_count": 89,
   "metadata": {
    "ExecuteTime": {
     "end_time": "2017-05-15T21:21:05.514428Z",
     "start_time": "2017-05-15T21:21:05.185372"
    },
    "collapsed": false,
    "deletable": true,
    "editable": true,
    "run_control": {
     "frozen": false,
     "read_only": false
    }
   },
   "outputs": [
    {
     "data": {
      "image/png": "[encoded data removed]",
      "text/plain": [
       "<matplotlib.figure.Figure at 0x11181e490>"
      ]
     },
     "metadata": {
      "image/png": {
       "height": 263,
       "width": 414
      }
     },
     "output_type": "display_data"
    }
   ],
   "source": [
    "%matplotlib inline\n",
    "pdf.plot.scatter(x='elevation',y='avg(%s)' % feature);"
   ]
  },
  {
   "cell_type": "code",
   "execution_count": null,
   "metadata": {
    "collapsed": true,
    "deletable": true,
    "editable": true,
    "run_control": {
     "frozen": false,
     "read_only": false
    }
   },
   "outputs": [],
   "source": []
  },
  {
   "cell_type": "code",
   "execution_count": 13,
   "metadata": {
    "collapsed": false,
    "deletable": true,
    "editable": true
   },
   "outputs": [
    {
     "data": {
      "text/plain": [
       "['spark big  data analysis', 'spring', 'spark  basics']"
      ]
     },
     "execution_count": 13,
     "metadata": {},
     "output_type": "execute_result"
    }
   ],
   "source": [
    "RDD1=sc.parallelize([\"spark  basics\", \"spark big  data analysis\", \"spring\"]) \n",
    "RDD2=sc.parallelize([\"spark using pyspark\", \"big data\"])\n",
    " \n",
    "RDD1.subtract(RDD2).collect()"
   ]
  },
  {
   "cell_type": "code",
   "execution_count": null,
   "metadata": {
    "collapsed": true,
    "deletable": true,
    "editable": true
   },
   "outputs": [],
   "source": []
  }
 ],
 "metadata": {
  "anaconda-cloud": {},
  "hide_input": false,
  "kernelspec": {
   "display_name": "Python [default]",
   "language": "python",
   "name": "python2"
  },
  "language_info": {
   "codemirror_mode": {
    "name": "ipython",
    "version": 2
   },
   "file_extension": ".py",
   "mimetype": "text/x-python",
   "name": "python",
   "nbconvert_exporter": "python",
   "pygments_lexer": "ipython2",
   "version": "2.7.12"
  },
  "toc": {
   "colors": {
    "hover_highlight": "#DAA520",
    "running_highlight": "#FF0000",
    "selected_highlight": "#FFD700"
   },
   "moveMenuLeft": true,
   "nav_menu": {
    "height": "174px",
    "width": "252px"
   },
   "navigate_menu": true,
   "number_sections": true,
   "sideBar": true,
   "threshold": 4,
   "toc_cell": false,
   "toc_section_display": "block",
   "toc_window_display": false,
   "widenNotebook": false
  },
  "widgets": {
   "state": {},
   "version": "1.0.0"
  }
 },
 "nbformat": 4,
 "nbformat_minor": 1
}
