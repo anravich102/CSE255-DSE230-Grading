{
 "cells": [
  {
   "cell_type": "code",
   "execution_count": null,
   "metadata": {
    "collapsed": true
   },
   "outputs": [],
   "source": []
  },
  {
   "cell_type": "markdown",
   "metadata": {},
   "source": [
    "# New Mexico Weather Analysis\n",
    "\n",
    "This is a report on the historical analysis of weather patterns in an area that approximately overlaps the area of New Mexico.\n",
    "\n",
    "The data we will use here comes from [NOAA](https://www.ncdc.noaa.gov/). Specifically, it was downloaded from This [FTP site](ftp://ftp.ncdc.noaa.gov/pub/data/ghcn/daily/).\n",
    "\n",
    "We focused on six measurements:\n",
    "* **TMIN, TMAX:** the daily minimum and maximum temperature (in C degree).\n",
    "* **TOBS:** The average temperature for each day (in C degree).\n",
    "* **PRCP:** Daily Percipitation (in mm)\n",
    "* **SNOW:** Daily snowfall (in mm)\n",
    "* **SNWD:** The depth of accumulated snow (in mm)\n",
    "\n",
    "<p>We start by comparing some of the general statistics with graphs that we obtained from a site called <a href=\"http://www.usclimatedata.com/climate/new-mexico/united-states/3201\" target=\"_blank\">US Climate Data</a> The graph below shows the daily minimum and maximum temperatures for each month, as well as the total precipitation for each month.</p>\n",
    "\n",
    "<p>&nbsp;</p>\n",
    "\n",
    "<p><img alt=\"NMclimate.jpg\" src=\"report_figures/NMclimate.png\" /></p>\n",
    "\n",
    "<p>&nbsp;</p>\n",
    "\n",
    "\n",
    "\n",
    "<p>We see that the min and max daily&nbsp;temperature agree with the ones we got from our data. The data we collated are from the whole NM state while the one from the US Climate Data are from the area of Santa Fe, NM so will be a little different but overall we find they agree with each other.</p>\n",
    "\n",
    "<p>&nbsp;</p>\n",
    "\n",
    "<p><img alt=\"TMIN,TMAX.png\" src=\"report_figures/Mean+-std_TMINMean+-std_TMAX.png\" style=\"height:450px; width:800px\" /></p>\n",
    "\n",
    "<p>To compare the precipitation&nbsp;we need to translate millimeter/day to inches/month. According to our analysis the average rainfall is 1.00 mm/day which translates to about 1.18 Inches&nbsp;per month. According to US-Climate-Data the average rainfall is 361 mm/year, which is 1.16 Inches per month. So there is clear agreement that average precipitation&nbsp;is close to a constant throughout the year</p>\n",
    "\n",
    "<p>&nbsp;<img alt=\"PRCP.png\" src=\"report_figures/Mean+-std_TOBSMean+-std_PRCP.png\" style=\"height:450px; width:800px\" /></p>\n",
    "\n"
   ]
  },
  {
   "cell_type": "markdown",
   "metadata": {
    "collapsed": true
   },
   "source": [
    "## PCA analysis\n",
    "\n",
    "For each of the six measurement, we compute the percentate of the variance explained as a function of the number of eigen-vectors used.\n",
    "\n",
    "### Percentage of variance explained.\n",
    "![PV_Explained_TMIN_TOBS_TMAX.png](report_figures/PV_Explained_TMIN_TOBS_TMAX.png)\n",
    "We see that the top 5 eigen-vectors explain 43% of variance for TMIN, 58% for TOBS and 48% for TMAX.\n",
    "\n",
    "We conclude that of the three, TOBS is best explained by the top 5 eigenvectors. This is especially true for the first eigen-vector which, by itself, explains 50% of the variance.\n",
    "\n",
    "![PV_Explained_SNOW_SNWD_PRCP.png](report_figures/PV_Explained_SNOW_SNWD_PRCP.png)\n",
    "\n",
    "The top 5 eigenvectors explain 8% of the variance for PRCP and 14% for SNOW. Both are low values. On the other hand the top 5 eigenvectors explain %75 of the variance for SNWD. This means that these top 5 eigenvectors capture most of the variation in the snow signals. Based on that we will dig deeper into the PCA analysis for snow-depth.\n",
    "\n",
    "It makes sense that SNWD would be less noisy than SNOW. That is because SNWD is a decaying integral of SNOW and, as such, varies less between days and between the same date on diffferent years."
   ]
  },
  {
   "cell_type": "markdown",
   "metadata": {
    "collapsed": true
   },
   "source": [
    "## Analysis of snow depth\n",
    "\n",
    "We choose to analyze the eigen-decomposition for snow-depth because the first 4 eigen-vectors explain 70% of the variance.\n",
    "\n",
    "First, we graph the mean and the top 4 eigen-vectors.\n",
    "\n",
    "We observe that the snow season is from mid-october to the mid-april, where the middle of February marks the peak of the snow-depth.\n",
    "![SNWD_Mean.png](report_figures/SNWD_Mean.png)\n",
    "![Top Eigenvectors SNWD.png](report_figures/Top Eigenvectors SNWD.png)"
   ]
  },
  {
   "cell_type": "markdown",
   "metadata": {},
   "source": [
    "Next we interpret the eigen-functions. The first eigen-function (eig1) has a shape very similar to the mean function. The main difference is that the eigen-function is close to zero during october-december while the mean is not.  The interpretation of this shape is that eig1 represents the overall amount of snow above/below the mean, but without changing the distribution over time.\n",
    "\n",
    "**eig2,eig3 and eig4** are similar in the following way. They all oscilate between positive and negative values. In other words, they correspond to changing the distribution of the snow depth over the winter months, but they don't change the total (much).\n",
    "\n",
    "They can be interpreted as follows:\n",
    "* **eig2:** less snow in mid-Feb - April, more snow in mid Jan-start Feb.\n",
    "* **eig3:** more snow in mid-Feb, less snow in Jan, slightly more snow in march.\n",
    "* **eig4:** more snow in mid-Feb, les snow in Mar, more snow in April, more snow in Nov and Dec.\n"
   ]
  },
  {
   "cell_type": "markdown",
   "metadata": {},
   "source": [
    "### Examples of reconstructions\n",
    "\n",
    "#### Coeff1\n",
    "Coeff1: most positive\n",
    "![most_coeff_1.png](report_figures/most_coeff_1.png)\n",
    "\n",
    "Coeff1: most negative\n",
    "![least_coeff_1.png](report_figures/least_coeff_1.png)\n",
    "Large positive values of coeff1 correspond to more than average snow. Low values correspond to less than average snow.\n",
    "\n",
    "#### Coeff2\n",
    "Coeff2: most positive\n",
    "![most_coeff_2.png](report_figures/most_coeff_2.png)\n",
    "Coeff2: most negative\n",
    "![least_coeff_2.png](report_figures/least_coeff_2.png)\n",
    "\n",
    "Large positive values of coeff2 correspond to a late snow season (most of the snowfall is after mid feb. Negative values for coeff2 correspond to an early snow season (most of the snow is before mid-feb.\n",
    "#### Coeff3\n",
    "Coeff3: most positive\n",
    "![most_coeff_3.png](report_figures/most_coeff_3.png)\n",
    "Coeff3: most negative\n",
    "![least_coeff_3.png](report_figures/least_coeff_3.png)\n",
    "\n",
    "Large positive values of coeff3 correspond to a snow season with two spikes: one in the start of january, the other at the end of february. Negative values of coeff3 correspond to a season with a single peak at the end of Jan."
   ]
  },
  {
   "cell_type": "markdown",
   "metadata": {
    "collapsed": true
   },
   "source": [
    "## The variation in the depth of snow is more relative to station-to-station variation\n",
    "In the previous section we see the variation of Coeff1, which corresponds to the total amount of snow, with respect to year. We now estimate the relative importance of location-to-location variation relative to year-by-year variation.\n",
    "\n",
    "These are measured using the fraction by which the variance is reduced when we subtract from each station/year entry the average-per-year or the average-per-station respectively. Here are the results:\n",
    "\n",
    "** coeff_1 **  \n",
    "total MS                   = 258.253132732  \n",
    "MS removing mean-by-station= 184.158764595, fraction explained=28.6  \n",
    "MS removing mean-by-year   = 249.142933595, fraction explained=3.5  \n",
    "\n",
    "** coeff_2 **  \n",
    "total MS                   = 102.342894653  \n",
    "MS removing mean-by-station= 85.6457997716, fraction explained=16.7  \n",
    "MS removing mean-by-year   = 98.0453618425, fraction explained=3.9  \n",
    "\n",
    "** coeff_3 **  \n",
    "total MS                   = 77.2650949197  \n",
    "MS removing mean-by-station= 76.4109837537, fraction explained=1.1  \n",
    "MS removing mean-by-year   = 73.5791691959, fraction explained=4.8  \n",
    "\n",
    "\n",
    "We see that the variation by station explains more than the variation by year. However this effect is weaker consider coeff_3, which has to do with the total snowfall, vs. coeff_1,2 which, as we saw above have to do with the timining of snowfall. We can also see that even the station factor does not affect the amount of variance explaned in case of SNWD that much compared to PRCP.\n"
   ]
  },
  {
   "cell_type": "markdown",
   "metadata": {
    "collapsed": true
   },
   "source": [
    "## Residual Analysis of SNWD"
   ]
  },
  {
   "cell_type": "markdown",
   "metadata": {},
   "source": [
    "We will do some analysis of the Residuals on the snow depth on the dataset.  \n",
    "\n",
    "The following graph shows the variance explained by the top eigenvectors:\n",
    "\n",
    "![SNWD_PV_explained.png](report_figures/SNWD_PV_explained.png)\n"
   ]
  },
  {
   "cell_type": "markdown",
   "metadata": {},
   "source": [
    "We can see that the top 8 eigenvector explained more than 80% of the variance. "
   ]
  },
  {
   "cell_type": "markdown",
   "metadata": {},
   "source": [
    "Then we want to figure out how well-explained are the vectors in this collection and I extract all of the values of `res_3` which is the residual variance after the Mean and the first two Eigen-vectors have been subtracted out. Before this I sort the dataframe by 'res_3' ascendingly.\n",
    "\n",
    "The following graph shows the distribution:\n",
    "\n",
    "![SNWD_plot_CDF_res_3.png](report_figures/SNWD_plot_CDF_res_3.png)\n",
    "\n",
    "As we can see that more than half of instances has res_3 less than 0.1 and about 60% of instance has res_3 less than 0.3. So it is distributed well in the first half but a bit higher in the second half. So I think the data is well explained. This also matches the previous analysis on SNWD variance explained. "
   ]
  },
  {
   "cell_type": "markdown",
   "metadata": {},
   "source": [
    "Then we try to figure out if the amount of snow depth on two stations are related to each. Let's have the null hypothesis that they are independent. \n",
    "\n",
    "I compute the p-value of each pair of stations and the following graph shows the result:\n",
    "\n",
    "![SNWD_significance_hist.png](report_figures/SNWD_significance_hist.png)\n",
    "![P_norm_SNWD.png](report_figures/P_norm_SNWD.png)\n",
    "\n",
    "From graphs above, we know most of the instances has almost 0% possiblility under the null hypothesis, which means the null hypothesis is wrong and it means the snow depth between station pairs are highly dependent. \n",
    "\n",
    "To double check this conclusion, I run the same test on the SNOW(snowfall) measurement, the following grpah shows the p-value for station pairs:\n",
    "\n",
    "![SNOW_significance_hist.png](report_figures/SNOW_significance_hist.png)\n",
    "\n",
    "As we can see the result for SNOW gives a very similar distribution and we know the SNWD is the integral of SNOW and they should be positive related so I think we can come to the conclusion that the snow depth/fall amount between station pairs are highly dependent. I think this matches our common senses. Say stations near each other will probabily has a similar amount of snow fall. Since the data are collected from the New Mexico area, we can tell that the depth of snow are location dependent on each other.   "
   ]
  },
  {
   "cell_type": "code",
   "execution_count": null,
   "metadata": {
    "collapsed": true
   },
   "outputs": [],
   "source": []
  },
  {
   "cell_type": "code",
   "execution_count": null,
   "metadata": {
    "collapsed": true
   },
   "outputs": [],
   "source": []
  }
 ],
 "metadata": {
  "kernelspec": {
   "display_name": "Python 2",
   "language": "python",
   "name": "python2"
  },
  "language_info": {
   "codemirror_mode": {
    "name": "ipython",
    "version": 2
   },
   "file_extension": ".py",
   "mimetype": "text/x-python",
   "name": "python",
   "nbconvert_exporter": "python",
   "pygments_lexer": "ipython2",
   "version": "2.7.13"
  }
 },
 "nbformat": 4,
 "nbformat_minor": 2
}
