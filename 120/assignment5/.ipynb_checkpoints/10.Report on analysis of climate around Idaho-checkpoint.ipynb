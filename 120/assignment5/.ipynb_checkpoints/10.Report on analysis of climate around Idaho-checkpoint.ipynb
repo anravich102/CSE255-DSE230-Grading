{
 "cells": [
  {
   "cell_type": "markdown",
   "metadata": {
    "run_control": {
     "frozen": false,
     "read_only": false
    }
   },
   "source": [
    "# Idaho Weather Analysis\n",
    "\n",
    "\n",
    "## 1. Introduction\n",
    "\n",
    "This is a report on the historical analysis of weather patterns in an area that approximately overlaps the area of the state of Idaho. The report illustrates the analysis and reconstruction of the parameters like depth of accumulated snow and precipitation patterns using statistical analysis and PCA.\n",
    "\n",
    "For the analysis we focused on six measurements:\n",
    "* **TMIN, TMAX:** the daily minimum and maximum temperature.\n",
    "* **TOBS:** The average temperature for each day.\n",
    "* **PRCP:** Daily Percipitation (in mm)\n",
    "* **SNOW:** Daily snowfall (in mm)\n",
    "* **SNWD:** The depth of accumulated snow.\n",
    "\n",
    "\n",
    "### Data Source\n",
    "\n",
    "The data we will use here comes from [NOAA](https://www.ncdc.noaa.gov/). Specifically, it was downloaded from This [FTP site](ftp://ftp.ncdc.noaa.gov/pub/data/ghcn/daily/).\n",
    "\n",
    "\n",
    "## 2. Sanity-check: comparison with outside sources\n",
    "\n",
    "<p>We start by comparing some of the general statistics with graphs that we obtained from a site called <a href=\"http://www.usclimatedata.com/climate/boston/massachusetts/united-states/usma0046\" target=\"_blank\">US Climate Data</a>. The graph below shows the daily minimum and maximum temperatures for each month, as well as the total precipitation for each month.</p>\n",
    "\n",
    "<p>&nbsp;</p>\n",
    "\n",
    "<p><img alt=\"Climate_Rupert_Idaho.png\" src=\"r_figures/Climate_Rupert_Idaho.png\" style=\"height:400px; width:600px\"/></p>\n",
    "\n",
    "<p>&nbsp;</p>\n",
    "\n",
    "<p>We see that the min and max daily&nbsp;temperature agree with the ones we got from our data, once we translate Fahrenheit to Centigrade.</p>\n",
    "\n",
    "<p>&nbsp;</p>\n",
    "\n",
    "<p><img alt=\"Rupert_TMIN,TMAX.png\" src=\"r_figures/Rupert_TMIN,TMAX.png\" style=\"height:300px; width:800px\" /></p>\n",
    "\n",
    "<p>To compare the precipitation&nbsp;we need to translate millimeter/day to inches/month. According to our analysis the average rainfall is 8.72 mm/day which translates to about 10.29 Inches&nbsp;per month. According to US-Climate-Data the average rainfall is closer to 9.78 inch per month. However, there is clear agreement that average precipitation&nbsp;is close to a constant throughout the year</p>\n",
    "\n",
    "<p>&nbsp;<img alt=\"Rupert_PRCP.png\" src=\"r_figures/Rupert_PRCP.png\" style=\"height:400px; width:600px\" /></p>\n",
    "\n",
    "## 3. Data Analysis\n",
    "\n",
    "We start the analysis of our data by identifying the different stations from where we would be collecting data from. From the below geo chart, we observe that there are close to 40 stations and they are distributed all over the state of Idaho.\n",
    "\n",
    "<p>&nbsp;<img alt=\"Geo distribution of stations\" src=\"r_figures/geo_distribution_analysis.png\" style=\"height:400px; width:600px\" /></p>\n",
    "\n",
    "We also analyze how the precipitation and snow depth differ across the year for a particular station. For example, we consider the station USC00105980 and analyze how precipitation and snow depth differ across a particular year 1949. It is clear that snow and rain do not overlap with each other.\n",
    "\n",
    "<p>&nbsp;<img alt=\"PRCP vs SNWD\" src=\"r_figures/prcp_vs_snwd.png\" style=\"height:400px; width:600px\" /></p>\n",
    "\n",
    "We check if there is any sparse (or missing) data and observe that the valid points count (measured as the data points without a NaN) is high during the months of April to October and have more missing/invalid points during January and December. We observe more or less similar behavior with all the parameters. \n",
    "\n",
    "<p>&nbsp;<img alt=\"Valid counts for TMAX and TMIN\" src=\"r_figures/valid_TMAX_TMIN.png\" style=\"height:300px; width:900px\" /></p>\n",
    "\n",
    "As a part of any data analysis task, it is essential to observe the distribution of the data at hand esp. the mean, standard deviation, etc. We plot the mean-SD, mean and mean+SD of the snow depth data and find that there is appreciable deviation from the mean during January to April and October to December.\n",
    "\n",
    "<p>&nbsp;<img alt=\"Data distribution of SNWD\" src=\"r_figures/snwd_mean.png\" style=\"height:400px; width:500px\" /></p>\n",
    "\n",
    "\n",
    "### 3.A. Percentage of variance explained.\n",
    "\n",
    "In this homework, we will be constructing the data pattern from its eigen vectors with minimal reconstruction error. So, we compute the percentage of the variance explained as a function of the number of eigen vectors used. The more the variance explained by eigen vectors, the lower the reconstruction error.\n",
    "\n",
    "![VarExplained1.png](r_figures/Rupert_VarExplained1.png)\n",
    "We see that the top 5 eigen-vectors explain 31% of variance for TMIN, 55% for TOBS and 32% for TMAX.\n",
    "\n",
    "We conclude that of the three, both TOBS is best explained by the top 5 eigenvectors. This is especially true for the first eigen-vector which, by itself, explains 50% of the variance in TOBS.\n",
    "\n",
    "![VarExplained2.png](r_figures/Rupert_VarExplained2.png)\n",
    "\n",
    "The top 5 eigenvectors explain 10% of the variance for PRCP and 13% for SNOW. Both are low values. On the other hand the top 5 eigenvectors explain 91% of the variance for SNWD. This means that these top 5 eigenvectors capture most of the variation in the snow signals. Based on that we will dig deeper into the PCA analysis for snow-depth.\n",
    "\n",
    "\n"
   ]
  },
  {
   "cell_type": "markdown",
   "metadata": {
    "run_control": {
     "frozen": false,
     "read_only": false
    }
   },
   "source": [
    "## 4. Snow Depth analysis using PCA\n",
    "\n",
    "### 4.A Eigen vectors\n",
    "\n",
    "We plot the mean of SNWD and oberve that the snow season at Idaho starts late October and gradually increases until it reaches a peak during mid February. After February, there is steady decline of snow depth and the snow season ends somewhere around April.\n",
    "\n",
    "<p><img alt=\"Rupert_SNWD_mean_eigs1.png\" src=\"r_figures/Rupert_SNWD_mean_eigs1.png\" style=\"height:600px; width:500px\" /></p>\n",
    "\n",
    "Lets now try to use our observation on the variance in the data to identify the principal eigen vectors using which we could reconstruct the data pattern with minimal error. The first eigen-function (eig1) has a shape very similar to the mean function but in the opposite direction. The interpretation of this shape is that eig1 represents the overall amount of snow above/below the mean, but without changing the distribution over time. Eig1 helps to reconstruct the overall distribution of the snow. As a sidenote, since eig1 is negative, we would expect its coefficient c1 also to be negative. This is proved as we observe the most of the weather stations's coefficient 1 (coeff_1) is negative.\n",
    "\n",
    "<p>&nbsp;<img alt=\"Heatmap distribution\" src=\"r_figures/coeff1_heatmap.png\" style=\"height:300px; width:400px\" />\n",
    "\n",
    "**eig2 and eig3** are similar in the following way. They all oscilate between positive and negative values and remain zero consistently between May to October. They can be interpreted as follows:\n",
    "* **eig2:** more snow during March-April and less snow in November - December than the rest of the year.\n",
    "* **eig3:** more snow during mid feb - may and Nov-Dec than the rest of the year.\n",
    "\n"
   ]
  },
  {
   "cell_type": "markdown",
   "metadata": {
    "run_control": {
     "frozen": false,
     "read_only": false
    }
   },
   "source": [
    "### 4.B Eigen values\n",
    "\n",
    "We plot a graph of eigenvalues as a sanity check for negative eigen values to identify if the data set is corrupted. Based on the graph it is not and as one can expect, the eigenvalues decreases as we go farther away from the most prinicipal component.\n",
    "<p><img alt=\"Rupert_EigenVal.png\" src=\"r_figures/Rupert_EigenVal.png\" style=\"height:400px; width:600px\" /></p>"
   ]
  },
  {
   "cell_type": "markdown",
   "metadata": {
    "run_control": {
     "frozen": false,
     "read_only": false
    }
   },
   "source": [
    "### 4.C Reconstruction using eigen vectors\n",
    "\n",
    "We experiment by reconstructing the data pattern using the first eigen vector, first two eigen vectors and first three eigen vectors and record the coefficients and residual error for the same.\n",
    "\n",
    "#### Coeff1\n",
    "\n",
    "Coeff1: most positive\n",
    "![SNWD_grid_Pos_coeff1.png](r_figures/Rupert_SNWD_grid_Pos_coeff1.png)\n",
    "Coeff1: most negative\n",
    "![SNWD_grid_neg_coeff1.png](r_figures/Rupert_SNWD_grid_neg_coeff1.png)\n",
    "\n",
    "As expected, we observe that best reconstruction is possible with negative c1 coefficients. Moreover, large positive values of coeff1 correspond to less than average snow and low values correspond to more than average snow. \n",
    "\n",
    "#### Coeff2\n",
    "Coeff2: most positive\n",
    "![SNWD_grid_Pos_coeff2.png](r_figures/Rupert_SNWD_grid_Pos_coeff2.png)\n",
    "Coeff2: most negative\n",
    "![SNWD_grid_neg_coeff2.png](r_figures/Rupert_SNWD_grid_neg_coeff2.png)\n",
    "\n",
    "Large positive values of coeff2 and large negative values of coeff2 both correspond to a early snow season (most of the snowfall is during Nov to April end). The large positive values of coeff2 indicate high snowfall during March and large negative values of coeff2 indicate high snowfall during January. \n",
    "\n",
    "#### Coeff3\n",
    "Coeff3: most positive\n",
    "![SNWD_grid_Pos_coeff3.png](r_figures/Rupert_SNWD_grid_Pos_coeff3.png)\n",
    "Coeff3: most negative\n",
    "![SNWD_grid_neg_coeff3.png](r_figures/Rupert_SNWD_grid_neg_coeff3.png)\n",
    "\n",
    "Large positive values of coeff3 and large negative values of coeff3 both correspond to a early snow season (most of the snowfall is during Nov to April end). The large positive values of coeff3 indicate high snowfall during March and large negative values of coeff3 indicate high snowfall during February. \n",
    "\n"
   ]
  },
  {
   "cell_type": "markdown",
   "metadata": {},
   "source": [
    "### 4.D Cumulative distribution of residuals \n",
    "\n",
    "We then analyze the cumulative distribution of residuals.\n",
    "\n",
    "<p>&nbsp;</p>\n",
    "<p><img alt=\"Cumulative distribution\" src=\"r_figures/cumul_residuals.png\" style=\"height:300px; width:500px\" />\n",
    "\n",
    "As we observe from the above graph, the residual error is minimized as we include more and more eigen vectors for reconstruction. This explains why res3 has lower error compared to the other two residuals. Also, we observe significant difference between each residuals in the distribution and this is explained by the following graph, where we observe that including eigen_2 and eigen_3 improves the reconstruction accuracy by significant percentage.\n",
    "\n",
    "<p><img alt=\"eigen vector\" src=\"r_figures/Rupert_eigen_dist.png\" style=\"height:300px; width:500px\" />\n",
    "\n",
    "Based on this graph, the cumulative distributions after res_4 will get saturated and we will not be observing any difference between the residual distributions after res_4"
   ]
  },
  {
   "cell_type": "markdown",
   "metadata": {
    "run_control": {
     "frozen": false,
     "read_only": false
    }
   },
   "source": [
    "### 4.E Geographical distribution of first 3 coefficients. \n",
    "\n",
    "We analyze the distribution of coefficients across the different stations in Idaho and also try to understand if there is any correlation between the elevation of the station and the coefficients.\n",
    "\n",
    "#### Coefficient 1\n",
    "\n",
    "From the below two graphs, it is clear that most of the stations's average coefficient 1 is negative. This confirms our intuition that most coefficients of c1 would be negative owing to the fact that eigen function 1 is negative.\n",
    "\n",
    "<p>&nbsp;</p>\n",
    "\n",
    "<p><img alt=\"Geo distribution\" src=\"r_figures/coeff1_geomap.png\" style=\"height:400px; width:800px\" /></p>\n",
    "<p><br />\n",
    "&nbsp;</p>\n",
    "\n",
    "<p>&nbsp;<img alt=\"Heatmap distribution\" src=\"r_figures/coeff1_heatmap.png\" style=\"height:300px; width:400px\" />\n",
    "\n",
    "<p><br />\n",
    "&nbsp;</p>\n",
    "\n",
    "We plot a graph to identify the correlation between elevation and the coefficient 1 and we find that there is some level of correlation between them and as the elevation increases, c1 decreases. But since there is a negative eigen function 1, the snow is above than average at high elevations. Coefficient 1 represents the overall snowfall pattern with high snowfall at higher elevations and less at lower elevations.\n",
    "\n",
    "<img alt=\"Scatterplot\" src=\"r_figures/coeff1_scatter.png\" style=\"height:300px; width:400px\" /></p>\n",
    "\n",
    "\n",
    "#### Coefficient 2\n",
    "\n",
    "<p>&nbsp;</p>\n",
    "\n",
    "<p><img alt=\"Geo distribution\" src=\"r_figures/coeff2_geomap.png\" style=\"height:400px; width:800px\" /></p>\n",
    "<p><br />\n",
    "&nbsp;</p>\n",
    "\n",
    "<p>&nbsp;<img alt=\"Heatmap distribution\" src=\"r_figures/coeff2_heatmap.png\" style=\"height:300px; width:400px\" />\n",
    "\n",
    "<p><br />\n",
    "&nbsp;</p>\n",
    "\n",
    "From the above two graphs, it is clear that there is a mix of negative coefficients and positive coefficients. Lets try to analyze our observation by diving deeper into the eigen function 2 and its coefficients.\n",
    "\n",
    "Eigen function:\n",
    "<img alt=\"EigenFunction\" src=\"r_figures/Rupert_eigenFunc.png\" style=\"height:300px; width:600px\" /></p>\n",
    "\n",
    "\n",
    "Coeff2: most positive\n",
    "![SNWD_grid_Pos_coeff2.png](r_figures/Rupert_SNWD_grid_Pos_coeff2.png)\n",
    "Coeff2: most negative\n",
    "![SNWD_grid_neg_coeff2.png](r_figures/Rupert_SNWD_grid_neg_coeff2.png)\n",
    "\n",
    "The eigen function 2 is positive during mid october-December. However, as per our data, we observe very heavy snow during October-December and heavy snow from Jan to April. This implies we should observe negative coefficients during October-December and positive coefficients from Jan to April. This explains why we see a mix of negative and positive coefficients from different stations.\n",
    "\n",
    "We plot a graph to identify the correlation between elevation and the coefficient 2 and we find that there is not much correlation between them. The coefficient 2 is almost a constant irrespective of the elevation. So, coefficient 2 explains the marginal variation of snowfall from the mean at different elevations.\n",
    "\n",
    "<img alt=\"Scatterplot\" src=\"r_figures/coeff2_scatter.png\" style=\"height:300px; width:400px\" /></p>\n",
    "\n",
    "\n",
    "#### Coefficient 3\n",
    "\n",
    "From the below two graphs, it is clear that there is large number of high positive coefficients. This is again because the eigen function 3 is positive for most part of the year (from October- December and mid Feb to April). Hence, we observe more positive coefficients. Also, due to the fact that it is negative during Jan to mid Feb, we witness few negative coefficients.\n",
    "\n",
    "<p>&nbsp;</p>\n",
    "\n",
    "<p><img alt=\"Geo distribution\" src=\"r_figures/coeff3_geomap.png\" style=\"height:400px; width:800px\" /></p>\n",
    "<p><br />\n",
    "&nbsp;</p>\n",
    "\n",
    "<p>&nbsp;<img alt=\"Heatmap distribution\" src=\"r_figures/coeff3_heatmap.png\" style=\"height:300px; width:400px\" />\n",
    "\n",
    "<p><br />\n",
    "&nbsp;</p>\n",
    "\n",
    "We plot a graph to identify the correlation between elevation and the coefficient 2 and we find that there is some level of correlation between them and as the elevation increases c3 increases and thereby the snow is above than average at high elevations. Coeffecient 3 represents the deviation of the snowfall from the mean at different elevations.\n",
    "\n",
    "<img alt=\"Scatterplot\" src=\"r_figures/coeff3_scatter.png\" style=\"height:300px; width:400px\" /></p>"
   ]
  },
  {
   "cell_type": "markdown",
   "metadata": {
    "run_control": {
     "frozen": false,
     "read_only": false
    }
   },
   "source": [
    "### 4.F The variation of the timing of snow \n",
    "\n",
    "In the previous section we discussed the variation of Coeff1, which corresponds to the total amount of snow, with respect to location(elevation). We now estimate the relative importance of location-to-location variation relative to year-by-year variation.\n",
    "\n",
    "These are measured using the fraction by which the variance is reduced when we subtract from each station/year entry the average-per-year or the average-per-station respectively. \n",
    "\n",
    "Here are the results:\n",
    "\n",
    "#### Coeff_1\n",
    "total RMS = 2765.11652981\n",
    "\n",
    "RMS removing mean-by-station= 1528.810233, percentage explained=44.7%\n",
    "\n",
    "RMS removing mean-by-year = 2144.76650138, percentage explained=22.43%\n",
    "\n",
    "#### Coeff_2\n",
    "total RMS = 848.69917793\n",
    "\n",
    "RMS removing mean-by-station= 828.268337939, fraction explained= 2.4%\n",
    "\n",
    "RMS removing mean-by-year = 540.693118362, fraction explained= 36.29%\n",
    "\n",
    "#### Coeff_3\n",
    "total RMS = 784.218123513\n",
    "\n",
    "RMS removing mean-by-station= 670.921326458, fraction explained= 14.44%\n",
    "\n",
    "RMS removing mean-by-year = 588.677075016, fraction explained= 24.93%\n",
    "\n",
    "We see that the variation by station explains more than the variation by year. However this effect is weaker: consider coeff_1, which has to do with the total snowfall pattern, vs. coeff_2,3,4 which, as we saw above have to do with the timining of snowfall. With Coeff_1, the timing of snow is mostly varies from station-to-station and with coeff_2,3,4 the variance is with respect to year-to-year variation as most of the variance from station-to-station is explained by coeff_1.\n",
    "\n",
    "\n",
    "\n"
   ]
  },
  {
   "cell_type": "markdown",
   "metadata": {
    "run_control": {
     "frozen": false,
     "read_only": false
    }
   },
   "source": [
    "## 5. Precipitation at different stations\n",
    "\n",
    "We want to find a statistical test for rejecting the null hypothesis that says that the rainfall in the two locations is independent.\n",
    "\n",
    "<p><img alt=\"Cumulative distribution of precipitation\" src=\"r_figures/cumul_precip.png\" style=\"height:300px; width:500px\" />\n",
    "\n",
    "It is likely to be hard to find correlations between the amount of rain on the same day in different stations. Because amounts of rain vary a lot between even close locations. It is more reasonable to try to compare whether or not it rained on the same day in different stations. As we see from the graph above, in our region it rains in about one eighth of the days.\n",
    "\n",
    "<p><img alt=\"Rependency matrix\" src=\"r_figures/rependency_matrix.png\" style=\"height:500px; width:500px\" />\n",
    "\n",
    "\n",
    "The rependency matrix above shows, for each pair of stations, the normalized log probability that the overlap in rain days is random. On the other hand, we dont observe any correlation between the different stations. To find more correlations we use SVD and we see that the top 10 eigenvectors explain about 90% of the square magnitude of the matrix.\n",
    "\n",
    "<p><img alt=\"Eigenvectors\" src=\"r_figures/precip_variance.png\" style=\"height:300px; width:500px\" />\n",
    "\n",
    "Next, we plot a heatmap based on the principal component and we analyze the correlation between the stations. Each of the four plots signify the correlation between the different stations based on the first principal component, second, third and fourth. We observe high level of correlation between the first 8-10 stations and 21-40 stations as evident from the block diagonal clustering from the heatmaps.\n",
    "\n",
    "<p><img alt=\"Correlation\" src=\"r_figures/precip_heatmap.png\" style=\"height:500px; width:500px\" />"
   ]
  },
  {
   "cell_type": "markdown",
   "metadata": {
    "run_control": {
     "frozen": false,
     "read_only": false
    }
   },
   "source": [
    "## 6. Conclusion\n",
    "\n",
    "In summary, we considered the weather analysis of Idaho state using six different measures and observed that most of the snow depth pattern could be reconstructed with 90% accuracy using the first 3 eigen vectors. Based on the analysis above, there is a station-to-station variation in the snow depth which is explained by the first eigen vector. Moreover, we observed strong correlation between the different stations in terms of precipitation. "
   ]
  },
  {
   "cell_type": "markdown",
   "metadata": {
    "run_control": {
     "frozen": false,
     "read_only": false
    }
   },
   "source": []
  },
  {
   "cell_type": "markdown",
   "metadata": {
    "collapsed": true,
    "run_control": {
     "frozen": false,
     "read_only": false
    }
   },
   "source": []
  },
  {
   "cell_type": "markdown",
   "metadata": {
    "run_control": {
     "frozen": false,
     "read_only": false
    }
   },
   "source": []
  },
  {
   "cell_type": "code",
   "execution_count": null,
   "metadata": {
    "collapsed": true,
    "run_control": {
     "frozen": false,
     "read_only": false
    }
   },
   "outputs": [],
   "source": []
  }
 ],
 "metadata": {
  "anaconda-cloud": {},
  "kernelspec": {
   "display_name": "Python [conda root]",
   "language": "python",
   "name": "conda-root-py"
  },
  "language_info": {
   "codemirror_mode": {
    "name": "ipython",
    "version": 2
   },
   "file_extension": ".py",
   "mimetype": "text/x-python",
   "name": "python",
   "nbconvert_exporter": "python",
   "pygments_lexer": "ipython2",
   "version": "2.7.12"
  },
  "toc": {
   "colors": {
    "hover_highlight": "#DAA520",
    "running_highlight": "#FF0000",
    "selected_highlight": "#FFD700"
   },
   "moveMenuLeft": true,
   "nav_menu": {
    "height": "12px",
    "width": "252px"
   },
   "navigate_menu": true,
   "number_sections": true,
   "sideBar": true,
   "threshold": 4,
   "toc_cell": false,
   "toc_section_display": "block",
   "toc_window_display": false
  }
 },
 "nbformat": 4,
 "nbformat_minor": 2
}
