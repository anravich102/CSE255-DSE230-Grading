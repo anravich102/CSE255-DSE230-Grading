{
 "cells": [
  {
   "cell_type": "code",
   "execution_count": 1,
   "metadata": {
    "collapsed": true,
    "deletable": true,
    "editable": true,
    "run_control": {
     "frozen": false,
     "read_only": false
    }
   },
   "outputs": [],
   "source": [
    "#setup\n",
    "data_dir='../../Data/Weather'\n",
    "file_index='SSSBSSSS'\n",
    "m='PRCP'"
   ]
  },
  {
   "cell_type": "markdown",
   "metadata": {
    "deletable": true,
    "editable": true,
    "run_control": {
     "frozen": false,
     "read_only": false
    },
    "slideshow": {
     "slide_type": "slide"
    },
    "variables": {
     "m": "PRCP"
    }
   },
   "source": [
    "# Reconstruction using top eigen-vectors\n",
    "For measurement = {{m}}"
   ]
  },
  {
   "cell_type": "markdown",
   "metadata": {
    "deletable": true,
    "editable": true,
    "run_control": {
     "frozen": false,
     "read_only": false
    },
    "slideshow": {
     "slide_type": "skip"
    }
   },
   "source": [
    "## Load the required libraries"
   ]
  },
  {
   "cell_type": "code",
   "execution_count": 2,
   "metadata": {
    "collapsed": false,
    "deletable": true,
    "editable": true,
    "run_control": {
     "frozen": false,
     "read_only": false
    },
    "slideshow": {
     "slide_type": "skip"
    }
   },
   "outputs": [],
   "source": [
    "# Enable automiatic reload of libraries\n",
    "#%load_ext autoreload\n",
    "#%autoreload 2 # means that all modules are reloaded before every command"
   ]
  },
  {
   "cell_type": "code",
   "execution_count": 3,
   "metadata": {
    "collapsed": false,
    "deletable": true,
    "editable": true,
    "run_control": {
     "frozen": false,
     "read_only": false
    },
    "slideshow": {
     "slide_type": "skip"
    }
   },
   "outputs": [
    {
     "name": "stdout",
     "output_type": "stream",
     "text": [
      "Populating the interactive namespace from numpy and matplotlib\n",
      "    pandas as    pd \tversion=0.19.2 \trequired version>=0.19.2\n",
      "     numpy as    np \tversion=1.11.3 \trequired version>=1.12.0 ******* Update Version ******\n",
      "   sklearn as    sk \tversion=0.18.1 \trequired version>=0.18.1\n",
      "    urllib as urllib \tversion=1.17 \trequired version>=1.17\n",
      "   pyspark as pyspark \tversion=2.1.0+hadoop2.7 \trequired version>=2.1.0\n",
      "ipywidgets as ipywidgets \tversion=5.2.2 \trequired version>=6.0.0 ******* Update Version ******\n"
     ]
    }
   ],
   "source": [
    "%pylab inline\n",
    "import numpy as np\n",
    "\n",
    "import findspark\n",
    "findspark.init()\n",
    "\n",
    "import sys\n",
    "sys.path.append('./lib')\n",
    "\n",
    "from numpy_pack import packArray,unpackArray\n",
    "\n",
    "from Eigen_decomp import Eigen_decomp\n",
    "from YearPlotter import YearPlotter\n",
    "from recon_plot import recon_plot\n",
    "\n",
    "from import_modules import import_modules,modules\n",
    "import_modules(modules)\n",
    "\n",
    "from ipywidgets import interactive,widgets"
   ]
  },
  {
   "cell_type": "code",
   "execution_count": 4,
   "metadata": {
    "collapsed": false,
    "deletable": true,
    "editable": true,
    "run_control": {
     "frozen": false,
     "read_only": false
    },
    "slideshow": {
     "slide_type": "skip"
    }
   },
   "outputs": [],
   "source": [
    "from pyspark import SparkContext\n",
    "#sc.stop()\n",
    "\n",
    "sc = SparkContext(master=\"local[3]\",pyFiles=['lib/numpy_pack.py','lib/spark_PCA.py','lib/computeStats.py','lib/recon_plot.py','lib/Eigen_decomp.py'])\n",
    "\n",
    "from pyspark import SparkContext\n",
    "from pyspark.sql import *\n",
    "sqlContext = SQLContext(sc)\n",
    "\n",
    "\n",
    "\n"
   ]
  },
  {
   "cell_type": "markdown",
   "metadata": {
    "deletable": true,
    "editable": true,
    "run_control": {
     "frozen": false,
     "read_only": false
    },
    "slideshow": {
     "slide_type": "slide"
    }
   },
   "source": [
    "## Read Statistics File"
   ]
  },
  {
   "cell_type": "code",
   "execution_count": 5,
   "metadata": {
    "collapsed": true,
    "deletable": true,
    "editable": true,
    "run_control": {
     "frozen": false,
     "read_only": false
    },
    "slideshow": {
     "slide_type": "fragment"
    }
   },
   "outputs": [],
   "source": [
    "data_dir='../../Data/Weather'\n",
    "file_index='SSSBSSSS'"
   ]
  },
  {
   "cell_type": "code",
   "execution_count": 6,
   "metadata": {
    "collapsed": false,
    "deletable": true,
    "editable": true,
    "run_control": {
     "frozen": false,
     "read_only": false
    },
    "slideshow": {
     "slide_type": "subslide"
    }
   },
   "outputs": [
    {
     "name": "stdout",
     "output_type": "stream",
     "text": [
      "keys from STAT= ['TMIN', 'TOBS', 'TMAX', 'SNOW', 'SNWD', 'PRCP']\n"
     ]
    }
   ],
   "source": [
    "from pickle import load\n",
    "\n",
    "#read statistics\n",
    "filename=data_dir+'/STAT_%s.pickle'%file_index\n",
    "STAT,STAT_Descriptions = load(open(filename,'rb'))\n",
    "measurements=STAT.keys()\n",
    "print 'keys from STAT=',measurements"
   ]
  },
  {
   "cell_type": "markdown",
   "metadata": {
    "deletable": true,
    "editable": true,
    "run_control": {
     "frozen": false,
     "read_only": false
    },
    "slideshow": {
     "slide_type": "slide"
    }
   },
   "source": [
    "## Read data file into a spark DataFrame\n",
    "We focus on the snow-depth records, because the eigen-vectors for them make sense."
   ]
  },
  {
   "cell_type": "code",
   "execution_count": 7,
   "metadata": {
    "collapsed": false,
    "deletable": true,
    "editable": true,
    "run_control": {
     "frozen": false,
     "read_only": false
    },
    "scrolled": true,
    "slideshow": {
     "slide_type": "subslide"
    }
   },
   "outputs": [
    {
     "name": "stdout",
     "output_type": "stream",
     "text": [
      "+---------+--------+---------+-----------+-----------+------+--------------------+------+--------+\n",
      "|elevation|latitude|longitude|measurement|    station|undefs|              vector|  year|   label|\n",
      "+---------+--------+---------+-----------+-----------+------+--------------------+------+--------+\n",
      "|    716.9| 36.5333|-121.2833|       PRCP|USC00043502|     9|[20 51 00 00 00 0...|1949.0|SSSBSSSS|\n",
      "|    716.9| 36.5333|-121.2833|       PRCP|USC00043502|     4|[00 00 A0 53 00 0...|1950.0|SSSBSSSS|\n",
      "|    335.3|  36.398|-121.8685|       PRCP|US1CAMT0023|    35|[00 7E 00 7E 00 7...|2010.0|SSSBSSSS|\n",
      "|    335.3|  36.398|-121.8685|       PRCP|US1CAMT0023|     4|[80 4C B4 5E 00 5...|2011.0|SSSBSSSS|\n",
      "|    335.3|  36.398|-121.8685|       PRCP|US1CAMT0023|     6|[00 00 00 00 00 0...|2012.0|SSSBSSSS|\n",
      "+---------+--------+---------+-----------+-----------+------+--------------------+------+--------+\n",
      "only showing top 5 rows\n",
      "\n"
     ]
    }
   ],
   "source": [
    "#read data\n",
    "filename=data_dir+'/US_Weather_%s.parquet'%file_index\n",
    "df_in=sqlContext.read.parquet(filename)\n",
    "#filter in \n",
    "df=df_in.filter(df_in.measurement==m)\n",
    "df.show(5)"
   ]
  },
  {
   "cell_type": "markdown",
   "metadata": {
    "deletable": true,
    "editable": true,
    "run_control": {
     "frozen": false,
     "read_only": false
    },
    "slideshow": {
     "slide_type": "subslide"
    }
   },
   "source": [
    "### Create a matrix with all of the series"
   ]
  },
  {
   "cell_type": "code",
   "execution_count": 8,
   "metadata": {
    "collapsed": false,
    "deletable": true,
    "editable": true,
    "run_control": {
     "frozen": false,
     "read_only": false
    }
   },
   "outputs": [
    {
     "data": {
      "text/plain": [
       "(2926, 365)"
      ]
     },
     "execution_count": 8,
     "metadata": {},
     "output_type": "execute_result"
    }
   ],
   "source": [
    "rows=df.rdd.map(lambda row:unpackArray(row['vector'],np.float16)).collect()\n",
    "\n",
    "T=np.vstack(rows)\n",
    "shape(T)"
   ]
  },
  {
   "cell_type": "markdown",
   "metadata": {
    "deletable": true,
    "editable": true,
    "run_control": {
     "frozen": false,
     "read_only": false
    },
    "slideshow": {
     "slide_type": "subslide"
    }
   },
   "source": [
    "### Plot two time series\n",
    "`SNWD` stands for `snow-depth`, which explains why it is zero during the summer"
   ]
  },
  {
   "cell_type": "code",
   "execution_count": 9,
   "metadata": {
    "collapsed": false,
    "deletable": true,
    "editable": true,
    "run_control": {
     "frozen": false,
     "read_only": false
    },
    "slideshow": {
     "slide_type": "fragment"
    }
   },
   "outputs": [
    {
     "data": {
      "image/png": "iVBORw0KGgoAAAANSUhEUgAAAXoAAAD6CAYAAACvZ4z8AAAABHNCSVQICAgIfAhkiAAAAAlwSFlz\nAAALEgAACxIB0t1+/AAAIABJREFUeJztvXmYHGd17/851T2LRqN9sxbbki1ZxAaM8YLB4MgQsCGX\nJctNTBZIcOJfck12kpgsLA+BOMCPJQGSOIGLk3tjYxKITcAG22EMBuMdL5KtXZZG0mjXzPSs3V3v\n/aOWrq6u7q7qXT3n8zzzdHd1LW+/U3Xq1Pec97xijEFRFEXpXqx2N0BRFEVpLmroFUVRuhw19Iqi\nKF2OGnpFUZQuRw29oihKl6OGXlEUpctRQ68oitLlqKFX5gQisk9EpkQkIyJHROTLIjIoIkMiMu0u\nPy4iXxOR1aFtLxCRr7rfj4rIMyLyhyKSEpH1ImLc7TPucW5u1+9UlCjU0CtzibcaYwaBVwKXAX/h\nLn+vu3wjMAh80ttARM4HHgEOAC8zxiwC/idwKbAgsO/F7j7eCXxARK5r9o9RlLiooVfmHMaYg8A9\nwEtDy08D/wm8IrD4w8APjTF/aIw57K633Rjzy+764X0/DGwN71tR2okaemXOISJnA28BngotXwb8\nLLArsPingH+PuV8RkauAi8L7VpR2ooZemUv8p4icBh4CHgQ+5i7/WxEZBY4Dy4HfCWyzDDgcY9/H\ngZPAPwM3G2MeaFirFaVO0u1ugKK0kHcYY+4PLhARgN81xvyziLwM+C9gHbDfXeUEUBScLcNyY0yu\nkY1VlEahHr2iuBhjngX+Cvi8uHcA4H7g59rXKkWpHzX0ilLMbcAq4G3u5w8CrxGRT4jIWQAislFE\n/o+ILG5XIxUlCWroFSWAMWYW+Czwl+7n3cCrgfXAVlfL/w/gcWC8Tc1UlESITjyiKIrS3ahHryiK\n0uWooVcURely1NAriqJ0OWroFUVRuhw19IqiKF1OR4yMXb58uVm/fn3N209MTDB//vzGNaiL0b5K\nhvZXcrTPklNrnz3xxBPHjTErqq3XEYZ+/fr1PP744zVvPzQ0xJYtWxrXoC5G+yoZ2l/J0T5LTq19\nJiIvxllPpRtFUZQuRw29oihKl6OGXlEUpcvpCI1eURpFNptleHiY6enphuxv0aJFPP/88w3Zl0d/\nfz/r1q2jp6enoftVlHKooVe6iuHhYRYsWMD69espVBqunfHxcRYsWFB9xZgYYzhx4gTDw8Ns2LCh\nYftVlEp0r3STz8FMpt2tUFrM9PQ0y5Yta4iRbwYiwrJlyxr2xKEoceheQ//4l+Bzl7e7FUob6FQj\n79Hp7VO6j+419OOHITPS7lYoc5B7772XzZs3s3HjRm655ZZ2N0dRutjQY0Br7SstJp/Pc9NNN3HP\nPfewbds2br/9drZt29buZilznO419MYALTT0E8chO9W64ykdyaOPPsrGjRs577zz6O3t5frrr+eu\nu+5qd7OUOU73Zt0Y23010ApN9Itvgpf9PFzzZ80/lhKLD39jK9sOjdW1j3w+TyqV8j9fuGYhH3zr\nRWXXP3jwIGeffbb/ed26dTzyyCN1tUFR6qV7PXrPm2+VfDN5HDJHW3MsRVGUBHSxR+8ZepuW3M8M\nYGebfxwlNpU877gkzaNfu3YtBw4c8D8PDw+zdu3autuhKPXQxR69R4s8emM7ufvKnObyyy9n586d\n7N27l9nZWe644w7e9ra3tbtZyhxnDnj0rQrIGsjPtuhYSqeSTqf53Oc+x7XXXks+n+c973kPF11U\n/5OFotRDFxt6u/i16cczKt0oALzlLW/hLW95S7uboSg+XSzdmNBrC46n0o2iKB1I9xr6Vks36tEr\nitKhdK+hJ5h104rD2ZBXQ68oSufRvYbetEG6sVW6URSl8+hiQx8YGduS42nWjaIonUn3GvpWSzcY\nlW4URelIutfQt1q6MbZKNwoA73nPe1i5ciUvfelL290URQG62dC3utaNUY9ecfi1X/s17r333nY3\nQ1F8Yht6EUmJyFMi8l/u56Uicp+I7HRflwTWfb+I7BKR7SJybTMaXpVWa/RoeqXicPXVV7N06dJ2\nN0NRfJKMjP094Hlgofv5ZuABY8wtInKz+/lPReRC4HrgImANcL+IXGCMyTew3dVppXTjHUsHTHUW\n99wMI8/WtYt5+RykApfJWS+DN+usUcqZRSyPXkTWAT8N/HNg8duB29z3twHvCCy/wxgzY4zZC+wC\nrmhMc5PQQunGN/SadaMoSucR16P/DPAnQLBe6ypjzGH3/Qiwyn2/FvhRYL1hd1kRInIjcCPAqlWr\nGBoait/qEJlMpmT7zYcPsxr44Q8eYrZvSeR2DcPk2QLMzkzywzp+RyuI6qtuYtGiRYyPjzsfXvvn\nde8vPPEIAN7+K5DJZLBtu9CWENPT0137f+j2c6xexM5jrOJzqtl9VtXQi8j/AI4aY54QkS1R6xhj\njIgkcp2NMbcCtwJcdtllZsuWyF3HYmhoiJLtT98JI/Ca17waFpxV875jkc/Bg9BrSWk7OozIvuoi\nnn/++UT146uRtB69x+DgIJZlld22v7+fSy65pN7mdSTdfo7Vxdhh+OzL4YbvwJrC/7/ZfRZHurkK\neJuI7APuAF4vIv8HOCIiqwHcV296pYPA2YHt17nLWktLg7HuMWoMxs7k8uTyrcr3V5rNO9/5Tl79\n6lezfft21q1bxxe/+MV2N0npFDJHHIl3dLilh63q0Rtj3g+8H8D16N9njPkVEfkE8G7gFvfVmwH5\nbuDfRORTOMHYTcCjjW96FdoSjK3N0L/z1h9x5XnL+JPrXtLARint4vbbb293E5SOpdUDOR3qqUd/\nC3CniNwAvAj8AoAxZquI3AlsA3LATS3PuAFa2qHeMexsTZORj4xOMzI23YSGKYrSUbR6ngyXRIbe\nGDMEDLnvTwBvKLPeR4GP1tm2+mhpmeLAMex8cTpeDGzTwnR/RVHahy80tPaC7/6Rsa2UbqCmFEuD\nwailV5Tup00effca+pZ2aNCjT67TG+N49Upj6PSbZqe3T2kmrZ7L2qGLDX0rB0wFbiY1jI61TWOe\nO+559jDXfeZ72HP4rtHf38+JEyc61pgaYzhx4gT9/f3tborSDs4Ejf7Mok3STU0plga7AYZp19EM\nL4yMk7Vt+kIDMuYK69atY3h4mGPHjjVkf9PT0w03yv39/axbt66h+1TOEFo+IZJD9xr6dgVja0ix\ntA0N+b+3Kc7TUfT09LBhw4aG7W9oaKhrBzYp7aA96ZXdK920o9YN1KjRN8aj9/Yxlw29onQ0Goyt\nj5MTsxwN5qL7Hdlqjb42j74Rxtl/iGnxY6GiKDEx7fHou0a6eeVH7gNg3y0/7SxoU4fWYugb5dF7\nAcg5HItVlM6m5fNkOHSNR1+WM0K6acxzR0GjV0uvKJ2JavSNpaXR7WAwNnl6paExxtlWj15ROps2\nKQ3da+hbWuum/mBsIzV6legVpUPRYGyDaaUW1oBgbFijn5zNMZtLdjLYGoxVlA6nPddm1xl6E8qf\n339yohVHLbytJRgbYZov/MC3eevfPZR4P6DSjaJ0LCrdNIaZXHFa5W//6+PNP2id0o1dptbN9iPV\np6wrbofXHLX0itKRqKFvDDPZsGTT+SNjMRqMVZQ5gWr0jWEq685x4nbkF3o+Cw9+vLkHDf7TavLo\nGxuMVY1eUToVrV7ZEHxD73boudZROLqtuQctqkdfY3plA4yz3Z5zSFGUuKh00ximXUNv24GObHqn\n1qvRG+wGNNG7WaihV5QORaWbxuB59Nl80NA32fLVO8OUaYxH7zWjEeUUFEVpBurRN4TpWc/QB+Yj\nb6VHn1C6aWR9Gm9fauYVpUNpZbHFAF1j6FOWADCdcwx8LpevtHpjqSMYW0j7b6RGr6ZeUToS1ejr\noy/t/JSpWacDi6WbJndqkXST0NBH7KLmZqhGrygdjmbd1IVv6LMRHn0jOnU25gjbhB59Ifdds24U\npevRYGx99KWdOVI9Q59vZNbN9nvgY2tg+Ino7+tIryzkvtePBmMVpcNp6RSnBbrG0Pf3OD9lxkuv\nDHZkvYZ+9387r8OPRX9fVNQsWdZNY0ezajBWUToa1ejrw/fo3ayb4sT0ek2fVPm+vjx6ZxcNkG7c\nn6wevaJ0Kmro68Jys2486aYoL71hnVrGgNYh3TTSo9dgrKJ0OKrR14eXUjid9d3a4Jf17Vykyn5q\n9+gbWZ9G0ysVpcNp0+xAXWTondeCR9/I9Moq0k0dE494/+6GlECIEdjdeSrP+pu/yc6kJZAVRWkA\nKt3UhecRe8FY08hgbOAo0YuDHn1t0k1jsm6qSzePjjjt+97O4w04oqIoiehU6UZE+kXkURF5WkS2\nisiH3eVLReQ+Ednpvi4JbPN+EdklIttF5Npm/gAPT7awmxHVTiLdJPXoGyi3+E8HMfal8o6itIEO\nTq+cAV5vjLkYeAVwnYhcCdwMPGCM2QQ84H5GRC4ErgcuAq4DviAiqWY0PkhJzZiGevTVpJvai5rF\n8cLjYsfYV7X8IUVRmkgr57IOUNXQG4eM+7HH/TPA24Hb3OW3Ae9w378duMMYM2OM2QvsAq5oaKsj\n2+m8FoxdA4OxhR1VX55QumnkIKc4+1JDryjtpD0afTrOSq5H/gSwEfi8MeYREVlljDnsrjICrHLf\nrwV+FNh82F0W3ueNwI0Aq1atYmhoqKYfAJDJZJiYdO5ZR44eZWhoiLW5gsEdPX2Kp+rY//nDw5wN\n7N61iwOzpfsZHN/FZe77E0dHeDbBscZmnX/8xMREZB8k6ZeRI9MAPP744xzfGf0QNZvNAsLOXbsZ\nyu+Pve+5SiaTqevcnIton5Vn9aEX2AwMD+9nV6CPmt1nsQy9MSYPvEJEFgNfF5GXhr43IpLIJTXG\n3ArcCnDZZZeZLVu2JNm8iKGhIfrnGZicZMWKFWzZcil7HrLAtfWLFi6gnv0zcx8Mw/nnn8/5V0Xs\n5+BC5zYILFuyMNGxjmdm4L/vp39goHi7e78JkGhfXz30JIwc5pWXXsrL1y2OXOeOF74N5Dj//PPY\ncvX5sfc9VxkaGqrv3JmDaJ9V4LHdsAPWrVnDukAfNbvPEmXdGGNOA9/F0d6PiMhqAPf1qLvaQeDs\nwGbr3GVNxZct/HLPjRwZW20/tQdj7Tg5kTGJp/dLjHUURWkOHZpeKSIrXE8eEZkHvBF4AbgbeLe7\n2ruBu9z3dwPXi0ifiGwANgGPNrrhYUqqQDYyGFst6ya4OKFGT4SuXmtGTBK9X+28orSBNg2YiiPd\nrAZuc3V6C7jTGPNfIvIwcKeI3AC8CPwCgDFmq4jcCWzDEU9ucqWfplIwcu7nohIITa51U0dRs6h/\ne63NjfNwIBqNVZT20aaiZlUNvTHmGeCSiOUngDeU2eajwEfrbl0CTPhO2coBU95yK12zdBP0wmvN\nwEmSXqnSjaK0gU4dMHWmUBgsFF4Sfl8DVaUbd3mqt+b0yqL7UsLmhbeLI/00oraOoihJca67fN7m\n1ESyp/966BpDH/aMpZUDpggY+ho9+qIqCjVr9PHLKahHryhtwL3wdh8d502f+V7LDts1hj6s0dNQ\njT5in0WL3RtJuq8hk4PXq9HbFWoeq0SvKG3EtRUz2RwnMjMtO2zXGPqSEr2NHBmbRLqpcSrBRlRV\njlMgTYOxitJOXMUBu0GzysWjawy914EmwqM3LZNuemrIujFFr+H3yfbloEXNFKVDCQVjW3Uddo2h\nD1avzNsGaeWAqaJgbFKNvvg1/L6WfcX5uWrnFaUNhBSHVnn1XWPoTSAYm83bxT54vbN6+NJN2aM7\nLzVJN6XB2NoHTFU/ear+FEVRmofvgJamVTeTrjH0duBG6Rj6ZuTRl6GeYKz3WpRHX2MzogaLhdA8\nekVpJ8UDptTQJyToGWfzpsjQ158z7pvHcgd3XqulV44dhtHisj+RKZG1GvoEk4NrHr2itAE//dsO\nfmw6XWTonddI6aZRtW7KH915SfWAyZeXir71PrjrpuItA+32qD2Pvvr2mnSjKG0kNIJfPfqEBDNO\nZnM2RVWTG9WZcdIrobx8Mz0KM2NFi/xgrF2/oU8y/6xKN4rSDsLSTWuO2jWGPmjkGq/RJ5BuoLx8\nY+dLSiQU0iuDy2ojzvyzGoxVlDbi2iJv5L569AkJDjwKa/Stk26qePQRso4dMYVkvdJNrM3VpVeU\n1hOqXtmq2mZdY+iDc8WWaPSN8l+rSTfpPue1XIqlnXOMfVHLCu0OLKyteb7uV34d1egVpZ2oRl8X\nRRp9WLqpN4++mnQTDMZCeY8+SrppwoCpeNUrFUVpOb50o+mVNVGUXpmzsZpRprj8wZ3XlOfRVzL0\nIY8+Ive95hIISQZMqaVXlNajI2Pro6kafTXx29t/tWCsyZeVbhpaAiHGjULz6BWlDXgePVrrpibC\nGn2Rsau7M03otcz3VaWbXIlHH1WfpuYSCP72MdZVO68obUA9+roo1eiDX9bZm9XmeSwJxiaRbkqD\nMrXXo49/8qidV5Q2EPLoVaNPSFBdaXgevbe9XW6O85gefYR0U5jMPLBazYbe21cM6UYtvaK0nhKN\nXg19bIoLgjnSTUODsdUm9PU1+mrplaUefVSaVbF3H7/tcdIr1cArSjtxLsCCRt+ao3aHoQ++N042\nZWNHxsaUbqoNmIpIr7SLb/DuMlPyfRwKg6/Kb2Qn8PoVRWkwXlGzBAUIG0F3GPqQkbRNOOumyR69\nL92k3UZUGjBVvI+oOvTB1iZ5tIsTjE0SsFUUpcGodFM7YZHGMfRBGqTRV/PoLc/Ql9HyTal0ExWE\nrXWi8MKNovxG3jf5Vk5YqSiKgw6Yqp2wB+zYsGbk0VfR6K2eyuvZubIjYyGYIlq6LEkzKw0ENsbR\nB3tmx8qvpChKkyho9H3MYmYnW3LU7jD0QcNoO8bRaqh041nQclk3LtU8etsuO2DKee+uVmPT45Qp\nNgben76dm5+5FmbG4+9cUZT6CUg3D/S9j/P/aVNLDtsdhj743hhsu8UavS/dpNzP5Qx96YCpSI8+\n0PbaNPrK0s3bUz9wPsxkGJ3Ksv7mb/KNpw/FPo6iKDXi59Eb1snxlh22Kwx9kU3H8YgbW72yinTj\nfR9Ho8cUaSsm4n4UlF6SGPoo6Seqpf7Tjgh7jmUA+Ofv74l9HEVRaqU4vbJVdIWhD3ZZVNaNNGrA\nVDlP3U+v7Km8nncDCHwfGYwt8uiTtLN0+9KmmsKKCDn3AD2prjgVFKWzCU080iq67uq2jZNR0pSR\nsdWKmlXy6I0pGPjA98UZQ6UeeZIBU95No9qAqeDTTjbntD2d0kr1itJ0/Ou5wwy9iJwtIt8VkW0i\nslVEfs9dvlRE7hORne7rksA27xeRXSKyXUSubeYPgHDw0rjGrNiEfmfrCOtv/iYHTtYQ5a6WdeNL\nN65GH2noA9uW8eijB08laGaoueXWsSjEHLLq0StK6wilV7aKOFd3DvgjY8yFwJXATSJyIXAz8IAx\nZhPwgPsZ97vrgYuA64AviEiqGY2PwhgipZuvP3UQgGcPjtaw0yq1bvxgbAXpJphWGXwf4b2XK4dQ\ntZmexl8lGOv77sYml3c9eks9ekVpPsUjY1tFVUNvjDlsjHnSfT8OPA+sBd4O3OaudhvwDvf924E7\njDEzxpi9wC7gikY3vLiNhfe2MeRLBkwVVqpJGos7MraSdBNcZlfx6IOb1RKMrbhO4CQzebJ5531a\nPXpFaT5+CQS7ZFkzSXR1i8h64BLgEWCVMeaw+9UIsMp9vxY4ENhs2F3WNPzQojiGrFS6AUuqjxot\nf4C4Rc1ievQmOuuGCI882chY77WaR1+QonJuik+PavSK0nw8Q1/knVYZn9MA0nFXFJFB4D+A3zfG\njElgej1jjBGRRBZURG4EbgRYtWoVQ0NDSTYvIpOZAAQLmM1m2b1nT6h6JRw/dgyAbVu3MXhyR6L9\nbz58mNXA0aMjbIto5+pDL7AZeOKpp7kU2PHC8xwaL14vnc3wWvf9Dx/6PrN9Tkjj2aOFG8D3H3qI\nwV5h56nCP/4HP/whS/vj3Y+npqcB2LFjJ0Mz+yLXyc5m/aedRx5+mGdOrwDg5PFjRf8DYwx7Rm3O\nW2Qh1aZS7GIymUxd5+ZcRPusPJtHDrEasAPG/XtDD5CZyja1z2IZehHpwTHy/9cY8zV38RERWW2M\nOSwiq4Gj7vKDwNmBzde5y4owxtwK3Apw2WWXmS1bttT2C4C7vv1dYJJUyiKdsjjn3PVYB4oN/cqV\ny+HIMX7iwgvZcvGaZAc4fSeMwMrly1gZ1c4n9sEOuPTyK+BJuGDTRi64IrTexHFwxym95sorYJHz\nkDOzdQSefMJZftVVLJ3fy+C+k/DIwwC86spXs3bxvFjN7Hv4AZieZuPGjWy5akPkOl/e+m28R4dX\nXXE5+/f1wTPPsGb1WWzZ8gp/vW88fYiPfPspPv2LF/Mzl6yLdfxuZGhoiHrOzbnInO0zY2A2A30L\nyq9z6g4YgbQFuLb+6tdcwdAjTze1z+Jk3QjwReB5Y8ynAl/dDbzbff9u4K7A8utFpE9ENgCbgEcb\n1+RSPKkiJRKodVNMypVLalLDqqZXJtToA9JO1MjYovljE6TdxE2vtAIavZ9HbxWfCi+emABg55FM\n7OMrypzmh38Hf70OMkfLrxMl3ZSbka6BxPHorwJ+FXhWRH7sLvsz4BbgThG5AXgR+AUAY8xWEbkT\n2IaTsXOTMeVGEDUGr8vSljMAyFSo6lXTfKzVat2UFDWLSq+MDsaGJ00JL6tJo6+0DsUa/WyZPHov\nOKtVLhUlJo/e6rzOjMPgyuh1/Phc0NDPNrVZEMPQG2MeIlxRoMAbymzzUeCjdbQrEV6XWZZg523y\nEYbeShZCCB0gbtZNhTz6ovTK6AFThWBsYNVEWTfubioFY4MDpuw8MzmnLeE8ei/d0svKURSlCmOu\nQi2VhJKI9MrcTPPa5NIVOXV+BQJLnAGoEQbZkyuakl4Zlm4is26ipZvo9Mra8uiJ8RvLevShPHrv\nc9RNU1GUCKo6hPgXpxVMr2yBdNMdht59tUQcIxkhN/iGviaVvtrIWBd/cvCIGabK5NEXlTuIMNSJ\nphKMM2AqpNHPuIbeChn6lOvh51S6UZRkVEqXjKp10wLppjsMvdtnaUvcWjdRHn0dk/HGLWrmB2Nt\nmDoNU6cC6wQNfeFGUK0EQqLJweMMmMIQvHF5hj4c9C149GroFaUqRRdtpZCkCb3SGRr9mYDXZSnL\nybqJMo51pYLHHTAVlG7+5lzn/YfckgtFA6aiT4ToEgjxmxnHoyc4mMwuSDfh46RcQ68evaLEYOJY\n4X0Mj95qsaHvCo/ew7Ioq9Gn6tLoI1zt4hUKb8WKUQKhcj364FGS1bqJq9F7H2w/GBs+jufRe7Vw\nFEWpwOhw4X0Mjb6oBIIa+nh4TmfKddvtyABidVmjLHGLmomApKqnV1apR19zUbMY69imuHrlTNZ5\nH5Zo1KNXlATkpgvvY0g3xVk3augTUTBOpYZefI++jjz6aumVYjkplsEbwrHtTvqUHa3RRw2YqnUW\nxMIMVZU3Knj0eWby0bPRe59Vo1eUGJR5Yi8hcsCUGvpY+B69a+jtfOkdta70ympZN/5yz6MPrPcP\nr4VnvxqreqWJWFaTdFNhHdsExhQEPPrwcTzFRj16RYlBmSf20vUiPHo19MmwpHymiGfok+Wlu8TN\nuhEp9ejzs04GTplgbJQeXzxgKn4zY6VXFm1QGDAVdkK8fahGrygxKOPIleAHY1WjT4wJefTR6ZWu\nFFGXoa8i3SCOfBO+IZh82fTKqHIHUWURYjUzzoCp4HeBAVPhfvHkH/XoFSUGRTPIVXKO1KOvGa/L\nvEyRqGCsV0W5Js25mkbve/SWk2IZHjBl50IlEMpl3ZR69EnuS7FKIBR9COTRh6Ub36NXQ68oVSkz\n8r0Eb8CUGvrkeF1m+Rp9hKE30dkl8Q7gZd1UC8ZGSDfedsFti7JuSvZS/C5RNDa8dcQqIY++3IAp\n77MGYxUlBmWKFpauV/Do88ZNi9Csm3gEyxRDOekG97smSDclwdiwoQ979EGNvlSmqV2jrx6HCGv0\ns65GH3bcvX7Kaq0bRalOXI/evQItbHK4RRDVo49H2KOvVL2yNg81rnTjefSh9Spo9FEyTWTKZfxW\nJtLoy0k3XrvUo1eUGJi46ZUF6SbvG3otahYLPxhbwaP3NLGagovVsm6qBWPtXPk7fkTgtdb0yjiT\ngxdr9Pny0o1q9IoSn9gafUG68a8s9eiT4U2eEanRu69JZmzyqRqM9Q7iDpgK36HtfPlgbNRhIpYl\naWa16pWFD8FaN+E8etXoFSU2RYY+nkfv17vJaz36WHjdalUogeDVlqjNo69m6N3lXgmE8EQCdr54\n26B0E2hPPemVRUHbStJN8Es77+fJh++NftaNavSKUp24wdiARl8w9CrdxCOUR29HGGTP0Nc1YKrs\nPzAg3VgpyE2Fvg559GUGTNVTjz6urm+HHhfyEXJRcH+aR68oMUgo3aQwhUFTKt3EI+zRR2n0npdf\nn0ZfZttwUbMSjz6k0dvR6ZVRI1tje/QRzam+Ud6XZspJN6rRK0oMEqZXAqQ8y9WCqQS7oh69Z+Uq\nTn/nGbRmZN2E8+izIY++RKMvNzK21KOPm0cft4Z9sUdv+ze+sBbvG3qVbhSlLH/y708zlbX5u40x\nNfqAS+bXnGqBdNMVht7rOk+6MVEevWmER1+u1o2NH+6NNPS5UKZN9MjYSI8+pp0tlujj5dHb+VzZ\nUvteG3RycEUpz/6Tk0xnbWKXQIj6TqWbeMTJo/eMf3MGTJnCFFaSKq5N7W1Xbs7YkErv7c5ftQaP\nPq50E4xlhPvF25+XlaMoSil52zjXTuyiZsXX2e6z3gxv/HCTWlegOwy9n0fvvEbJM1HT9CU+QEXp\nJuDRhw19hTz6KI2+eLRsLc2NF4w1+WA7wtKN86qGXlHKk7ONoxLELlNcfD2dnL8RFp/TpNYV6A5D\n776mLOfn5KPuqI2QbirNMCVuV0Z59Hal6pWUvC8eLVuDR19hvaKnhTJ18YOfZ/N2bZO1KMocwPHo\nyz+xlxLz5dXuAAAgAElEQVTKbitMA9RUusPQ++mV7ufIrBuv7noTpBsC0o2VgmyURx+/1k0z0yuL\ncvTt8tJN8POs1qRXlEhyedejL5M+XULYoZLWmODuMPTua6V69J6Bqy0vvEzE0v86EIwVq0weffSj\nXbRHnzy9Mq5GHyyPaueja+5AyNCrfKMokfgafcJaN/6qRg19bDzD5uXRmyhjburx6D1DX0m6CXj0\nYex82Ue7yPTK4KY15NFX+okSONEqSTfBdqmhV5RocrbtjDWxY2bdhKQbW6Wb+Hhdl64wOXhdIz1j\nzTAVyLoJU6LRVwnG1pBBU7xe+Y0sAjeZQD+Vm3gENMV