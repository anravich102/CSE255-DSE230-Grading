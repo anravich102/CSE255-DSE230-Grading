{
 "cells": [
  {
   "cell_type": "code",
   "execution_count": 1,
   "metadata": {
    "run_control": {
     "frozen": false,
     "read_only": false
    },
    "scrolled": false
   },
   "outputs": [
    {
     "name": "stdout",
     "output_type": "stream",
     "text": [
      "![7_PRCP_Mean.JPG](report_images/7_PRCP_Mean.JPG)\n",
      "![Coeff1_PRCP_ascending.JPG](report_images/Coeff1_PRCP_ascending.JPG)\n",
      "![Coeff1_PRCP_descending.JPG](report_images/Coeff1_PRCP_descending.JPG)\n",
      "![Coeff1_SNWD_ascending.JPG](report_images/Coeff1_SNWD_ascending.JPG)\n",
      "![Coeff1_SNWD_descending.JPG](report_images/Coeff1_SNWD_descending.JPG)\n",
      "![Coeff2_SNWD_ascending.JPG](report_images/Coeff2_SNWD_ascending.JPG)\n",
      "![Coeff2_SNWD_descending.JPG](report_images/Coeff2_SNWD_descending.JPG)\n",
      "![Coeff3_SNWD_ascending.JPG](report_images/Coeff3_SNWD_ascending.JPG)\n",
      "![Coeff3_SNWD_descending.JPG](report_images/Coeff3_SNWD_descending.JPG)\n",
      "![Coeff4_SNWD_ascending.JPG](report_images/Coeff4_SNWD_ascending.JPG)\n",
      "![Coeff4_SNWD_descending.JPG](report_images/Coeff4_SNWD_descending.JPG)\n",
      "![PRCP1.JPG](report_images/PRCP1.JPG)\n",
      "![PRCP_eig_5.JPG](report_images/PRCP_eig_5.JPG)\n",
      "![TMAX](report_images/TMAX)\n",
      "![TMIN](report_images/TMIN)\n",
      "![TMIN_TMAX.jpg](report_images/TMIN_TMAX.jpg)\n",
      "![TMIN_TMAX.png](report_images/TMIN_TMAX.png)\n",
      "![TOBS](report_images/TOBS)\n",
      "![Top_PRCP.JPG](report_images/Top_PRCP.JPG)\n",
      "![Top_SNOW_actual.JPG](report_images/Top_SNOW_actual.JPG)\n",
      "![Top_SNOW_depth.JPG](report_images/Top_SNOW_depth.JPG)\n",
      "![cdf_coeff2.JPG](report_images/cdf_coeff2.JPG)\n",
      "![cdf_res_2.JPG](report_images/cdf_res_2.JPG)\n",
      "![coeff_2_CDF.JPG](report_images/coeff_2_CDF.JPG)\n",
      "![elevation_vs_PRCP.png](report_images/elevation_vs_PRCP.png)\n",
      "![elevation_vs_SNOW.png](report_images/elevation_vs_SNOW.png)\n",
      "![elevation_vs_SNWD.png](report_images/elevation_vs_SNWD.png)\n",
      "![elevation_vs_TMAX.png](report_images/elevation_vs_TMAX.png)\n",
      "![elevation_vs_TOBS.png](report_images/elevation_vs_TOBS.png)\n",
      "![externalData1.JPG](report_images/externalData1.JPG)\n",
      "![latitude_vs_PRCP.png](report_images/latitude_vs_PRCP.png)\n",
      "![latitude_vs_SNOW.png](report_images/latitude_vs_SNOW.png)\n",
      "![latitude_vs_SNWD.png](report_images/latitude_vs_SNWD.png)\n",
      "![latitude_vs_TOBS.png](report_images/latitude_vs_TOBS.png)\n",
      "![mapVal.JPG](report_images/mapVal.JPG)\n",
      "![map_coeff_snwd.JPG](report_images/map_coeff_snwd.JPG)\n",
      "![prcp_mean_scaled.JPG](report_images/prcp_mean_scaled.JPG)\n",
      "![prcp_prcp_eig.JPG](report_images/prcp_prcp_eig.JPG)\n",
      "![prcp_recon-coeff3.JPG](report_images/prcp_recon-coeff3.JPG)\n",
      "![prcp_recon.JPG](report_images/prcp_recon.JPG)\n",
      "![prcp_residual_variance.JPG](report_images/prcp_residual_variance.JPG)\n",
      "![prcp_variance_explained.JPG](report_images/prcp_variance_explained.JPG)\n",
      "![prcp_variance_explained2.JPG](report_images/prcp_variance_explained2.JPG)\n",
      "![recon_snwd_1.JPG](report_images/recon_snwd_1.JPG)\n",
      "![recon_snwd_2.JPG](report_images/recon_snwd_2.JPG)\n",
      "![res_2_CDF.JPG](report_images/res_2_CDF.JPG)\n",
      "![snow_snow_eig_4.JPG](report_images/snow_snow_eig_4.JPG)\n",
      "![snwd_snw_eig.JPG](report_images/snwd_snw_eig.JPG)\n",
      "![snwd_snw_eig_2.JPG](report_images/snwd_snw_eig_2.JPG)\n",
      "![snwd_snw_eig_4.JPG](report_images/snwd_snw_eig_4.JPG)\n",
      "![variance1.JPG](report_images/variance1.JPG)\n",
      "![variance2.JPG](report_images/variance2.JPG)\n",
      "![year_vs_PRCP.png](report_images/year_vs_PRCP.png)\n",
      "![year_vs_PRCP_scatter.png](report_images/year_vs_PRCP_scatter.png)\n",
      "![year_vs_SNOW.png](report_images/year_vs_SNOW.png)\n",
      "![year_vs_SNOW_scatter.png](report_images/year_vs_SNOW_scatter.png)\n",
      "![year_vs_SNWD.png](report_images/year_vs_SNWD.png)\n",
      "![year_vs_SNWD_scatter.png](report_images/year_vs_SNWD_scatter.png)\n",
      "![year_vs_TMAX.png](report_images/year_vs_TMAX.png)\n",
      "![year_vs_TMIN_scatter.png](report_images/year_vs_TMIN_scatter.png)\n",
      "![year_vs_TOBS.png](report_images/year_vs_TOBS.png)\n",
      "![year_vs_TOBS_scatter.png](report_images/year_vs_TOBS_scatter.png)\n"
     ]
    }
   ],
   "source": [
    "L=!ls report_images/\n",
    "for l in L:\n",
    "    print \"![%s](report_images/%s)\"%(l,l)"
   ]
  },
  {
   "cell_type": "code",
   "execution_count": 2,
   "metadata": {
    "run_control": {
     "frozen": false,
     "read_only": false
    }
   },
   "outputs": [
    {
     "name": "stdout",
     "output_type": "stream",
     "text": [
      "Couldn't get a file descriptor referring to the console\r\n"
     ]
    }
   ],
   "source": [
    "!open report_images/externalData.jpg"
   ]
  },
  {
   "cell_type": "markdown",
   "metadata": {
    "run_control": {
     "frozen": false,
     "read_only": false
    }
   },
   "source": [
    "# Georgia Weather Analysis\n",
    "\n",
    "In this report, we study the historical analysis of weather patterns in an area that approximately overlaps the area of the state of Georgia.\n",
    "\n",
    "The data which we use here comes from [NOAA](https://www.ncdc.noaa.gov/) website. More specifically, it was downloaded via the [NOAA FTP site](ftp://ftp.ncdc.noaa.gov/pub/data/ghcn/daily/). There are a large variety of measurements from all over the world in years ranging from 1870 will 2012. However, we focus only on an area with 116 stations almost all of which are in the state of Georgia. For accurate analysis and to avoid ambiguous results, we rely only on the data that has less than 50 undefined values.\n",
    "\n",
    "We focuse on six measurements in the datasets:\n",
    "* **TMIN:** The daily minimum temperature. \n",
    "* **TMAX:** The daily maximum temperature.\n",
    "* **TOBS:** The average temperature for each day.\n",
    "* **PRCP:** The daily Percipitation value (in mm)\n",
    "* **SNOW:** The daily snowfall value (in mm)\n",
    "* **SNWD:** The depth of snow accumulated.\n",
    "\n",
    "## Sanity-check for data: comparison with outside sources\n",
    "\n",
    "<p>Before we explore the data and start making inferences using it, we start by comparing some of the general statistics with graphs that we obtained from a site called <a href=\"http://www.usclimatedata.com/climate/douglas/georgia/united-states/usga0177\" target=\"_blank\">US Climate Data</a>. The graph below shows the daily minimum and maximum temperatures for the city of Douglas (an area central to the region - Station Id - USC00092783 according to the data), as well as the total precipitation for each month.</p>\n",
    "\n",
    "<p>&nbsp;</p>\n",
    "\n",
    "<p><img alt=\"Climate_Douglas_-_Georgia_and_Weather_averages_Douglas.jpg\" src=\"report_images/externalData1.jpg\" /></p>\n",
    "\n",
    "<p>&nbsp;</p>\n",
    "\n",
    "<p>We see that the min and max daily&nbsp;temperatures agree with the ones we got from our data (shown below).</p>\n",
    "\n",
    "<p>&nbsp;</p>\n",
    "\n",
    "<p><img alt=\"TMIN,TMAX.png\" src=\"report_images/TMIN_TMAX.jpg\" style=\"height:300px; width:800px\" /></p>\n",
    "\n",
    "<p>According to our analysis using the data that has been provided to us, the average rainfall is 3.2 mm/day in this city. According to US-Climate-Data the average rainfall is closer to 3.6 mm per day. There is a slight deviation but we should also consider that we are looking at data of almost 50 years. However, there is clear agreement that average precipitation&nbsp; follows a definite pattern throughout the year, which we are able to capture.</p>\n",
    "\n",
    "<p>&nbsp;<img alt=\"PRCP.png\" src=\"report_images/prcp_mean_scaled.jpg\" style=\"height:450px; width:600px\" /></p>\n"
   ]
  },
  {
   "cell_type": "markdown",
   "metadata": {
    "run_control": {
     "frozen": false,
     "read_only": false
    }
   },
   "source": [
    "## The Weather in Georgia\n",
    "\n",
    "From our previous knowledge and reading about the the climate of Georgia from the internet, we find that the climate of Georgia is typical of a humid subtropical climate with most of the state having mild winters and hot summers. The Atlantic Ocean on the east coast of Georgia and the hill country in the north impact the state's climate. Even though our region of study does not have beaches or coastal areas as such, these factors do influence the weather. Winter in Georgia is characterized by mild temperatures and very little snowfall around the state, with colder, snowier, and icier weather more likely across northern and central Georgia. Summer daytime temperatures in Georgia often exceed 32 °C. The state experiences widespread precipitation and this is clearly evident from the data that we will be seeing and discussng. Tornadoes and tropical cyclones are common.\n",
    "\n",
    "Geographically, the map of the area we are looking at is given below. Some of the stations provided to us are represented by red dots. Note that some portion of Florida is also covered in the region we are studying.\n",
    "\n",
    "<p><img alt=\"mapVal.jpg\" src=\"report_images/mapVal.jpg\" style=\"height:300px; width:600px\" /></p>"
   ]
  },
  {
   "cell_type": "markdown",
   "metadata": {
    "run_control": {
     "frozen": false,
     "read_only": false
    }
   },
   "source": [
    "## Temporal and Elevation-wise Analysis of Data\n",
    "\n",
    "We analyze the data that has been provided to us one measurement at a time and try to come up with relations between various measures and other features, such as the year in which the measurement was taken and the elevation.\n",
    "\n",
    "### Elevation Analysis\n",
    "\n",
    "In this section we discuss if elevation has any effect on the various measures that have been provided to us.\n",
    "\n",
    "<p><img alt=\"elevation_vs_PRCP.jpg\" src=\"report_images/elevation_vs_PRCP.png\" style=\"height:200px; width:900px\" /></p>\n",
    "\n",
    "<p><img alt=\"elevation_vs_TMAX.jpg\" src=\"report_images/elevation_vs_TMAX.png\" style=\"height:200px; width:900px\" /></p>\n",
    "\n",
    "Clearly from the plots, there is no direct relation between the elevation and precipitation, snow or snow depth. However, note that it is more likely to snow in places with elevation less than 100 feet. Also, note that there isn't much snow even at the higher elevations. This can be attributed to the geographical nature of Georgia.\n",
    "\n",
    "For elevation v/s temperature plots, we see that TMIN is lower at higher elevations which makes sense. \n",
    "\n",
    "### Year-wise Analysis\n",
    "\n",
    "In this section we see how the measurements have changed over the years and if it follows some pattern. We also get to see a relative plot describing how many data points we have for each year.\n",
    "\n",
    "<p><img alt=\"year_vs_PRCP.jpg\" src=\"report_images/year_vs_PRCP.png\" style=\"height:200px; width:900px\" /></p>\n",
    "\n",
    "<p><img alt=\"year_vs_TMAX.jpg\" src=\"report_images/year_vs_TMAX.png\" style=\"height:200px; width:900px\" /></p>\n",
    "\n",
    "We get some interesting insights from the data here, especially from the TOBS v/s year plot. We see that the observed temperature has risen over the years and is constantly rising. While one might feel that this is an indication of **global warming**, we shouldn't rely on this as the TOBS (observed temperature) is the temperature at the time the temperature was observed. Someone may decide to measure the temperature at 2 AM while others at 2 PM. So even though the graph might not have a lot of significance, it is interesting to see that TOBS does increase over the years. Also, note that for the TOBS graph, we took the maximum value in a year that was observed. When we plot the average, it actually goes down (probably owing to the huge amounts of zeros, as observed in the scatter plot given below).\n",
    "\n",
    "We also see that the rare snow and snow depth values have decreased over the years in general. It was only around 1970s that Georgia received a lot of snow according to this data. We decided to reaffirm our analysis by looking up sources online and this [interesting article](http://www.macon.com/news/local/article30117315.html) tells about the great snow of 1973 which might have caused the spike in our dataset. Note that it occasionally hails/snows in Georgia, one instance being [the White Christmas of 2010](https://www.weather.gov/ffc/snow20101225).\n",
    "\n",
    "Also, the plots below show us that most of our data is from recent years and there is a huge fraction of data for TOBS that is zero, which definitely doesn't seem correct.\n",
    "\n",
    "<p><img alt=\"year_vs_SNOW_scatter.jpg\" src=\"report_images/year_vs_SNOW_scatter.png\" style=\"height:200px; width:900px\" /></p>\n",
    "\n",
    "<p><img alt=\"year_vs_TMIN_scatter.jpg\" src=\"report_images/year_vs_TMIN_scatter.png\" style=\"height:200px; width:900px\" /></p>\n",
    "\n",
    "Again, notice the less number of observations for snow and snow depth."
   ]
  },
  {
   "cell_type": "markdown",
   "metadata": {
    "run_control": {
     "frozen": false,
     "read_only": false
    }
   },
   "source": [
    "## PCA analysis\n",
    "\n",
    "We analyze our data by finding the principle components for each measurement. Principal components analysis is a procedure for identifying a smaller number of uncorrelated variables, called \"principal components\", from a large set of data. The goal of principal components analysis is to explain the maximum amount of variance with the fewest number of principal components. Principal components analysis is commonly used in the social sciences, market research, and other industries that use large data sets.\n",
    "\n",
    "For each of the six measurement, we compute the percentage of the variance explained as a function of the number of eigen-vectors used.\n",
    "\n",
    "### Percentage of variance explained.\n",
    "![VarExplained1.png](report_images/variance1.jpg)\n",
    "We see that the top 5 eigen-vectors explain 23% of variance for TMIN, 53% for TOBS and 23% for TMAX. We conclude that of these three, TOBS is best explained by the top 5 eigenvectors. This is especially true for the first eigen-vector which, by itself, explains 45% of the variance.\n",
    "\n",
    "Looking at the top eigen vector trends for these measurements, we can make an initial hypothesis that the data for TOBS is less noisy than the other measurements.\n",
    "\n",
    "![VarExplained2.png](report_images/variance2.jpg)\n",
    "\n",
    "The top 5 eigenvectors explain 6.2% of the variance for PRCP. The corresponding values for SNOW and SNWD are 62% and 92% respectively. The value for precipitation is very low but ones for SNOW and SNWD are fairly high. This means that these top 5 eigenvectors capture most of the variation in the snow signals. Based on that we will dig deeper into the PCA analysis for snow-depth. Note that this analysis also re-affirms our prior beliefs which included the fact that it rarely snows in Georgia while it rains a lot. The rains are unpredictable and noisy up to a great extent.\n",
    "\n",
    "Also, note that it makes sense that SNWD would be less noisy than SNOW. That is because SNWD is a decaying integral of SNOW and as such, varies less between days and between the same date on diffferent years."
   ]
  },
  {
   "cell_type": "markdown",
   "metadata": {
    "run_control": {
     "frozen": false,
     "read_only": false
    }
   },
   "source": [
    "## Analysis of snow depth\n",
    "\n",
    "Even though it does not snow a lot in Georgia, we choose to analyze the eigen-decomposition for snow-depth because the first 2 eigen-vectors explain more than 80% of the variance.\n",
    "\n",
    "First, we graph the mean and the top 2 eigen-vectors. We observe that the snow season is from mid-november to the end of march, where the middle of February and November mark the peaks of the snow-depth. But this does not explain a lot, so we decided to try with more eigen values.\n",
    "<p><img alt=\"SNWD_mean_eigs2.png\" src=\"report_images/snwd_snw_eig_2.jpg\" style=\"height:300px; width:400px\" /></p>\n",
    "This is how the plots look like for four eigen-values.\n",
    "<p><img alt=\"SNWD_mean_eigs.png\" src=\"report_images/snwd_snw_eig_4.jpg\" style=\"height:300px; width:400px\" /></p>"
   ]
  },
  {
   "cell_type": "markdown",
   "metadata": {
    "run_control": {
     "frozen": false,
     "read_only": false
    }
   },
   "source": [
    "Next we interpret the eigen-functions from the second image. The first eigen-function (eig1) corresponds to the peak around mid-November in the mean plot and is zero at all other places. The interpretation of this shape is that eig1 represents the amount of snow in November time-frame.\n",
    "\n",
    "**eig2,eig3 and eig4** are similar to eig1 in the way that they all represent some peaks in the data. In other words, they correspond to changing the distribution of the snow depth over the winter months, but they don't change the total much. Note that eig3 is the negative of a peak in the mean data.\n",
    "\n",
    "Overall, they can be interpreted as follows:\n",
    "* **eig1:** More snow around November\n",
    "* **eig2:** More snow around Feb-March\n",
    "* **eig3:** More snow around Feb-March (for the days after which eig2 states)\n",
    "* **eig4:** More snow in December\n",
    "\n",
    "As discussed and seen in earlier plots, it snows very less in Georgia. We decided to inspect the data closely for these plots to come up with the anomalies. Also note that there are small spikes around the May-June time-frame in the plot depicting means. We found that there were about 141 total distinct entries with snow (station and year combination) out of the 2k plus entries, and just 39 distinct cities which ever received snowfall during the entire data set. The average elevation of these cities was just 82. There were 32 instances in the first half of the year where it snowed, 16 at end and twice in between - which might be responsible for the small peaks that we see during May-June time-frame.\n"
   ]
  },
  {
   "cell_type": "markdown",
   "metadata": {
    "run_control": {
     "frozen": false,
     "read_only": false
    }
   },
   "source": [
    "### Examples of reconstructions\n",
    "\n",
    "#### Coeff1\n",
    "Coeff1: most positive\n",
    "![SNWD_grid_Pos_coeff1.png](report_images/Coeff1_SNWD_ascending.JPG)\n",
    "Coeff1: most negative\n",
    "![SNWD_grid_neg_coeff1.png](report_images/Coeff1_SNWD_descending.JPG)\n",
    "\n",
    "#### Coeff2\n",
    "Coeff1: most positive\n",
    "![SNWD_grid_Pos_coeff1.png](report_images/Coeff2_SNWD_ascending.JPG)\n",
    "Coeff1: most negative\n",
    "![SNWD_grid_neg_coeff1.png](report_images/Coeff2_SNWD_descending.JPG)\n",
    "\n",
    "#### Coeff3\n",
    "Coeff1: most positive\n",
    "![SNWD_grid_Pos_coeff1.png](report_images/Coeff3_SNWD_ascending.JPG)\n",
    "Coeff1: most negative\n",
    "![SNWD_grid_neg_coeff1.png](report_images/Coeff3_SNWD_descending.JPG)\n",
    "\n",
    "#### Coeff4\n",
    "Coeff1: most positive\n",
    "![SNWD_grid_Pos_coeff1.png](report_images/Coeff4_SNWD_ascending.JPG)\n",
    "Coeff1: most negative\n",
    "![SNWD_grid_neg_coeff1.png](report_images/Coeff4_SNWD_descending.JPG)\n",
    "\n",
    "Even though the reconstructions are not that good owing to the low amount of snowfall that the region, we saw in the earlier graphs that all the eigen vectors correspond to specific spikes in the data.\n",
    "\n",
    "### Cumulative Distributions\n",
    "Coeff2: Cumulative Distribution Graph for coefficient 2\n",
    "<p><img alt=\"cdf_coeff2.png\" src=\"report_images/cdf_coeff2.jpg\" style=\"height:300px; width:400px\" /></p>\n",
    "\n",
    "We see that coefficient 2 is large for many values, while it is zero for about 60% of the data.\n",
    "\n",
    "Coeff2: Cumulative Distribution Graph for residual 2\n",
    "<p><img alt=\"cdf_coeff2.png\" src=\"report_images/cdf_res_2.jpg\" style=\"height:300px; width:400px\" /></p>\n",
    "We get a high residual for more than 60% of the data when we calculate residual 2.\n"
   ]
  },
  {
   "cell_type": "markdown",
   "metadata": {
    "run_control": {
     "frozen": false,
     "read_only": false
    }
   },
   "source": [
    "### Geographical distribution of first 4 coefficients. "
   ]
  },
  {
   "cell_type": "markdown",
   "metadata": {
    "collapsed": true,
    "run_control": {
     "frozen": false,
     "read_only": false
    }
   },
   "source": [
    "The map image below shows the geographical distribution for the first four coefficients. We have taken top 4 and botton 4 stations for each case but many of them overlap and we get the plot given below. \n",
    "\n",
    "![map_coeff_snwd.JPG](report_images/map_coeff_snwd.JPG)\n"
   ]
  },
  {
   "cell_type": "markdown",
   "metadata": {},
   "source": [
    "## Analysis of Precipitation\n",
    "\n",
    "It rains a lot in Georgia and all measurements related to precipitation is noisy. The figures below illustrate our point.\n",
    "\n",
    "<p><img alt=\"PRCP_eig_5.png\" src=\"report_images/PRCP_eig_5.jpg\" style=\"height:300px; width:400px\" /></p>\n",
    "The top five eigen vectors explain only 6.2% of the variance.\n",
    "<p><img alt=\"prcp_variance_explained2.png\" src=\"report_images/prcp_variance_explained2.jpg\" style=\"height:300px; width:400px\" /></p>\n",
    "Coefficient 1 most negative:\n",
    "<p><img alt=\"Coeff1_PRCP_ascending.png\" src=\"report_images/Coeff1_PRCP_ascending.jpg\" style=\"height:200px; width:900px\" /></p>\n",
    "Coefficient 1 most positive:\n",
    "<p><img alt=\"Coeff1_PRCP_descending.png\" src=\"report_images/Coeff1_PRCP_descending.jpg\" style=\"height:200px; width:900px\" /></p>\n",
    "\n",
    "The above figures illustrate that the eigen vectors are all noisy, as is the data, which makes it difficult to approximate the data using the first few eigen vectors. "
   ]
  },
  {
   "cell_type": "markdown",
   "metadata": {
    "run_control": {
     "frozen": false,
     "read_only": false
    }
   },
   "source": [
    "## Geographical Distribution of Stations\n",
    "In this section, we discuss the geographical location of all major stations in terms of the maximum snow received, snow depth available, precipitation received and the maximum TOBS values.\n",
    "\n",
    "### Snow\n",
    "The following stations receive the most snowfall in the region we are studying\n",
    "<p><img alt=\"Top_SNOW_actual.png\" src=\"report_images/Top_SNOW_actual.jpg\" style=\"height:300px; width:300px\" /></p>\n",
    "\n",
    "### Snow Depth\n",
    "The following stations have the most snow depth:\n",
    "<p><img alt=\"Top_SNOW_depth.png\" src=\"report_images/Top_SNOW_depth.jpg\" style=\"height:300px; width:300px\" /></p>\n",
    "If we compare the snow and snow depth maps, we can find that most of the stations are common. There might be some anomalies due to say bad data or the fact that it snowed at higher elevations and then the snow stayed there for a while.\n",
    "\n",
    "### Precipitation\n",
    "The following stations receive the most precipitation. Stations darker and bigger receive more rainfall than others.\n",
    "<p><img alt=\"Top_PRCP.png\" src=\"report_images/Top_PRCP.jpg\" style=\"height:300px; width:300px\" /></p>\n",
    "\n",
    "Note that most of the places in south have high precipitation. These places seem to have highly correlated precipitation conditions too and we expect it to rain at most of these places in consecutive days because of this high correlation."
   ]
  },
  {
   "cell_type": "markdown",
   "metadata": {
    "run_control": {
     "frozen": false,
     "read_only": false
    }
   },
   "source": [
    "## Conclusion\n",
    "\n",
    "The weather data for Georgia region had little to offer in terms of consistency of snow or precipitation, but the above analysis gives us great insights into the data. We see that most of the high precipitation places belong together and the snow distribution is rather sparse, with only 2.3% instances of the total had non-zero snow values. We see the trends in temperatures, snow and precipitation and validate our claims using external data. \n",
    "\n",
    "For future analysis, we would like to investigate similar kind of trends for TMIN and TMAX variables and investigate the existence of global warming using this data. Also, studying a more correlated feature like 'humidity' in conjunction with precipitation and snow would be a good direction to go. In a nutshell, the analysis seemed elaborate and correct as it is backed by external sources and data. However, given the nature of the weather of the state of Georgia, we were unable to reconstruct our targets well using the eigen-functions extracted from the data."
   ]
  }
 ],
 "metadata": {
  "anaconda-cloud": {},
  "kernelspec": {
   "display_name": "Python 2",
   "language": "python",
   "name": "python2"
  },
  "language_info": {
   "codemirror_mode": {
    "name": "ipython",
    "version": 2
   },
   "file_extension": ".py",
   "mimetype": "text/x-python",
   "name": "python",
   "nbconvert_exporter": "python",
   "pygments_lexer": "ipython2",
   "version": "2.7.13"
  },
  "toc": {
   "colors": {
    "hover_highlight": "#DAA520",
    "running_highlight": "#FF0000",
    "selected_highlight": "#FFD700"
   },
   "moveMenuLeft": true,
   "nav_menu": {
    "height": "12px",
    "width": "252px"
   },
   "navigate_menu": true,
   "number_sections": true,
   "sideBar": true,
   "threshold": 4,
   "toc_cell": false,
   "toc_section_display": "block",
   "toc_window_display": false,
   "widenNotebook": false
  }
 },
 "nbformat": 4,
 "nbformat_minor": 2
}
