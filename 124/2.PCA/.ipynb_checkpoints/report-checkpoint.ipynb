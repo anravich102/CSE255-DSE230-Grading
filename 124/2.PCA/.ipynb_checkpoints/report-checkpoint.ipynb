{
 "cells": [
  {
   "cell_type": "markdown",
   "metadata": {
    "run_control": {
     "frozen": false,
     "read_only": false
    }
   },
   "source": [
    "# HW5 - Weather Analysis\n",
    "#### Jui-Yu Chang&nbsp;&nbsp;&nbsp;&nbsp;a53214192\n",
    "This is a report to analyze the weather patterns in an area between Washington and Idaho (SBSBBSSB).\n",
    "\n",
    "## Sanity-check\n",
    "\n",
    "The data is got from [NOAA](https://www.ncdc.noaa.gov/). There may be some wrong preprocessing, so we need to do the sanity-check first.\n",
    "\n",
    "<p>Becasue this area contains only east part of Washington and northwest part of Idaho, it is not fair to compare the statistical results with the whole Washington or Idaho. Therefore, I pick up a station nearby Moscow in Idaho, and  compare its data with graphs obtained from <a href=\"http://www.usclimatedata.com/climate/moscow/idaho/united-states/usid0170\" target=\"_blank\">US Climate Data</a>. The graph below shows the daily minimum and maximum temperatures in Moscow for each month, as well as the total precipitation for each month.</p>\n",
    "\n",
    "<p><img alt=\"Climate_Idaho_Moscow.jpg\" src=\"r_figures/climate.png\" style=\"height:497px; width:614px\" /></p>\n",
    "\n",
    "<p>Compared to our results below, both show that the min daily temperature ranges from 20°F to 50°F and the max daily temperature ranges from 40°F to 85°F.</p>\n",
    "\n",
    "<p><img alt=\"TMIN,TMAX.png\" src=\"r_figures/TMIN,TMAX_2.png\" style=\"height:300px; width:800px\" /></p>\n",
    "\n",
    "<p>I translate the precipitation from millimeter/day to inch/month, and find that the average rainfall is close to 2 inch per month in US Climate Data which is also consistent with NOAA. Besides, they also show less rain in summer season. Therefore, it is convinced that our data is correct, and can be used to condcut further experiements!</p>\n",
    "\n",
    "<p>&nbsp;<img alt=\"PRCP.png\" src=\"r_figures/prcp_2.png\" style=\"height:450px; width:600px\" /></p>\n"
   ]
  },
  {
   "cell_type": "markdown",
   "metadata": {
    "run_control": {
     "frozen": false,
     "read_only": false
    }
   },
   "source": [
    "## PCA analysis\n",
    "\n",
    "There are six measurements TMIN(daily minimum temperature), TMAX(daily maximum temperature), TOBS(average temperature), PRCP(daily precipitation), SNOW(snowfall), and SNWD(depth of snow). And I compute the percentage of the variance explained as a function of the number of eigen-vectors to find which measurement is most interesting.\n",
    "\n",
    "### Percentage of variance explained\n",
    "![VarExplained1.png](r_figures/ev1.png)\n",
    "\n",
    "\n",
    "![VarExplained2.png](r_figures/ev2.png)\n",
    "\n",
    "The graphs above show that top 6 eigen-vectors explain 35% variance for TMIN and TMAX and explain 54% variance for TOBS. I think it is because minimum and maximum are more like extreme cases, their vibrations are more frequent. While TOBS is the average, and its variance is more likely to use top 6 eigen-vectors to predict.\n",
    "Besides, I also find the top 6 eigen-vectors explain poorly on SNOW and PRCP, but explain 94% variance for SNWD. Furthermore, only one eigen-vector can explain 80% variance for SNWD. This is really amazing, so I will go deeper in it.\n"
   ]
  },
  {
   "cell_type": "markdown",
   "metadata": {
    "run_control": {
     "frozen": false,
     "read_only": false
    }
   },
   "source": [
    "## Analysis of snow depth\n",
    "\n",
    "Because the top 3 eigen-vectors explain 90% variance of SNWD, I decompose the covariance matrix and show the graphs of the mean and top 3 eigen-vectors.\n",
    "\n",
    "We can see that the snow season is from November to the mid of April, and the peak occurs in Feburary.\n",
    "![SNWD_mean_eigs.png](r_figures/snwd_1.png)\n",
    "\n",
    "Then, I try to explain the meaning of top 3 eigen-vectors.\n",
    "* **eig1:**  overall less snow in the whole snow season\n",
    "* **eig2:**  more snow after Noverber\n",
    "* **eig3:**  more snow before March, and less snow in April\n",
    "\n",
    "The second eigenvector interests me most, because if coeff2 is large, we can infer that there will be more snow in the end of year than the start of year, which is totally different from normal cases."
   ]
  },
  {
   "cell_type": "markdown",
   "metadata": {
    "run_control": {
     "frozen": false,
     "read_only": false
    }
   },
   "source": [
    "### Deeper in special cases (coeff_2)\n",
    "\n",
    "coeff_2: most positive\n",
    "![SNWD_grid_Pos_coeff2.png](r_figures/asc_2.png)\n",
    "coeff_2: most negative\n",
    "![SNWD_grid_neg_coeff2.png](r_figures/des_2.png)\n",
    "\n",
    "We can observe the in the most positive graphs, and find that there are more snow in the end of year which matches the prediction in the previous part.\n",
    "\n",
    "While in the most negavtive graphs, there is almost no snow in the end of year. And the snow season seems cut down to only January to April.\n",
    "\n",
    "Besides, I also find that most of positive cases happen in 1971 and most of negative cases happen in 1972. Therefore, I will compare the year-to-year variation in the next part.\n"
   ]
  },
  {
   "cell_type": "markdown",
   "metadata": {},
   "source": [
    "## Temporal variation or spatial variation\n",
    "I calculate the variacne of coefficients, and compare the value which substrcts average-per-year with the value which substracts average-per-station. Then I observe these two decreasing ratios to know whether location or year is more important.\n",
    "\n",
    "\n",
    "** coeff_1 **  \n",
    "total MS                    = 9344765.10  \n",
    "MS removing mean-by-station = 2771046.48, explained=70.3%  \n",
    "MS removing mean-by-year    = 5264644.83, explained=43.7%  \n",
    "\n",
    "** coeff_2 **  \n",
    "total MS                    = 795033.50  \n",
    "MS removing mean-by-station = 740105.59, explained=7.0%  \n",
    "MS removing mean-by-year    = 247026.25, explained=68.9%  \n",
    "\n",
    "** coeff_3 **  \n",
    "total MS                    = 631706.90  \n",
    "MS removing mean-by-station = 503446.36, fraction explained=20.3%  \n",
    "MS removing mean-by-year    = 340366.40, fraction explained=46.1%  \n",
    " \n",
    "The results is really impressive due to consistency with the observation in the previous part. First, we can see that locations can explain 70% variance of coeff_1. It makes sense because the first vector represents that there are less snow in the whole snow season. It is a general phenomenon so it won't vibrate heavily with timing. Secondly, we find that different years can explain 69% variance of coeff_2, and it confirms that the huge difference of coeff_2 in 1971 and 1972. Unlike coeff_1, coeff_2 represents abnormal cases which means the snow season is much different from the average. It is reasonable that this unusal phenomenon is dependent on years. Similarly, coeff_3 has also to do with the timing.\n",
    "\n",
    "\n",
    "\n",
    "## Spatial variation on Map\n",
    "Because the most positive coeff_1 means the overall decreasing snowfall and most negative coeff_1 represents the overall increasing snowfall, I wonder to think may be it is the elevation that dominates. We can the map below, and there are four blue cycles in the right part of graph. Blue cycles mean that they are more negative coeff_1 than red ones, and also mean that there are more snow in those areas.\n",
    "\n",
    "![map1.png](r_figures/map1.png)\n",
    "\n",
    "When I take a deeper look into those area, I find their elevations are higher. Look at the graph below, and we can see that there are several points which mean significantly negatvie coeff_1 in higher stations. It really makes sense that it is more likely to snow in higher places like mountaions.\n",
    "![height.png](r_figures/height.png)\n",
    "\n",
    "Besides coeff_1, we can also see other coefficients on map below. Differenct colors mean different coefficients and solid triangles mean positive values and hollow ones mean negative values. For example, the blue hollow trigangles correspond to negative coeff_1. However, this graph doesn't give too much insights because we can directly see the significance of each coefficient.\n",
    "![map2.png](r_figures/map2.png)\n",
    "\n",
    "\n",
    "## Conclusion\n",
    "It is very interesting to analyze data into useful information. For example, I find that there are deeper snow in several stations and then I conclude that the elevation is the key! More interestingly, I observe an abnormal phenomenon during 1971~1972 because thera are extra snow in the end of 1971 and the start of 1972. Then, I google [the world's deepest snow](https://weather.com/storms/winter/news/worlds-deepest-snow-photos), and find there is Washington Cascades in 1971~1972. It makes me so exciting to use the knowledge and tools taught in class to address real world problem!\n"
   ]
  },
  {
   "cell_type": "code",
   "execution_count": null,
   "metadata": {
    "collapsed": true
   },
   "outputs": [],
   "source": []
  }
 ],
 "metadata": {
  "anaconda-cloud": {},
  "kernelspec": {
   "display_name": "Python 2",
   "language": "python",
   "name": "python2"
  },
  "language_info": {
   "codemirror_mode": {
    "name": "ipython",
    "version": 2
   },
   "file_extension": ".py",
   "mimetype": "text/x-python",
   "name": "python",
   "nbconvert_exporter": "python",
   "pygments_lexer": "ipython2",
   "version": "2.7.13"
  },
  "toc": {
   "colors": {
    "hover_highlight": "#DAA520",
    "running_highlight": "#FF0000",
    "selected_highlight": "#FFD700"
   },
   "moveMenuLeft": true,
   "nav_menu": {
    "height": "12px",
    "width": "252px"
   },
   "navigate_menu": true,
   "number_sections": true,
   "sideBar": true,
   "threshold": 4,
   "toc_cell": false,
   "toc_section_display": "block",
   "toc_window_display": false
  }
 },
 "nbformat": 4,
 "nbformat_minor": 2
}
