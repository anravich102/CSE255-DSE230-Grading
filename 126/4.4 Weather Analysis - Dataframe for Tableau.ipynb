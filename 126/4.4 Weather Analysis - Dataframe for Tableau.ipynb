{
 "cells": [
  {
   "cell_type": "markdown",
   "metadata": {
    "deletable": true,
    "editable": true,
    "run_control": {
     "frozen": false,
     "read_only": false
    }
   },
   "source": [
    "### Visualizing the distribution of the observations\n",
    "\n",
    "### Load the required libraries"
   ]
  },
  {
   "cell_type": "code",
   "execution_count": 1,
   "metadata": {
    "collapsed": false,
    "deletable": true,
    "editable": true,
    "run_control": {
     "frozen": false,
     "read_only": false
    },
    "scrolled": false,
    "slideshow": {
     "slide_type": "slide"
    }
   },
   "outputs": [
    {
     "name": "stdout",
     "output_type": "stream",
     "text": [
      "Populating the interactive namespace from numpy and matplotlib\n",
      "keys from STAT= ['TMIN', 'TOBS', 'TMAX', 'SNOW', 'SNWD', 'PRCP']\n",
      "13081\n",
      "+---------+--------+---------+-----------+-----------+------+--------------------+------+--------+\n",
      "|elevation|latitude|longitude|measurement|    station|undefs|              vector|  year|   label|\n",
      "+---------+--------+---------+-----------+-----------+------+--------------------+------+--------+\n",
      "|     36.6| 31.9297| -82.6792|       TMAX|USC00095386|    14|[90 55 A0 56 38 5...|1946.0|BSBSSSBB|\n",
      "|     36.6| 31.9297| -82.6792|       TMAX|USC00095386|     0|[B0 58 E0 55 B0 5...|1947.0|BSBSSSBB|\n",
      "|     36.6| 31.9297| -82.6792|       TMAX|USC00095386|     1|[78 5B 98 5A A0 5...|1948.0|BSBSSSBB|\n",
      "|     36.6| 31.9297| -82.6792|       TMAX|USC00095386|    32|[70 5A 98 5A 48 5...|1950.0|BSBSSSBB|\n",
      "|     36.6| 31.9297| -82.6792|       TMAX|USC00095386|     7|[00 58 90 59 C8 5...|1951.0|BSBSSSBB|\n",
      "|     36.6| 31.9297| -82.6792|       TMAX|USC00095386|     9|[D0 5B 14 5C 2C 5...|1952.0|BSBSSSBB|\n",
      "|     36.6| 31.9297| -82.6792|       TMAX|USC00095386|     3|[08 59 60 59 E0 5...|1953.0|BSBSSSBB|\n",
      "|     36.6| 31.9297| -82.6792|       TMAX|USC00095386|    31|[80 58 08 59 98 5...|1954.0|BSBSSSBB|\n",
      "|     36.6| 31.9297| -82.6792|       TMAX|USC00095386|     9|[98 5A 40 5A 78 5...|1955.0|BSBSSSBB|\n",
      "|     36.6| 31.9297| -82.6792|       TMAX|USC00095386|     3|[A0 57 B0 58 90 5...|1956.0|BSBSSSBB|\n",
      "+---------+--------+---------+-----------+-----------+------+--------------------+------+--------+\n",
      "only showing top 10 rows\n",
      "\n"
     ]
    }
   ],
   "source": [
    "import pandas as pd\n",
    "import numpy as np\n",
    "import sklearn as sk\n",
    "import urllib\n",
    "import math\n",
    "%pylab inline\n",
    "\n",
    "import findspark\n",
    "findspark.init()\n",
    "\n",
    "from pyspark import SparkContext\n",
    "#sc.stop()\n",
    "sc = SparkContext(master=\"local[3]\",pyFiles=['lib/numpy_pack.py','lib/spark_PCA.py','lib/computeStats.py'])\n",
    "\n",
    "from pyspark import SparkContext\n",
    "from pyspark.sql import *\n",
    "sqlContext = SQLContext(sc)\n",
    "\n",
    "import sys\n",
    "sys.path.append('./lib')\n",
    "\n",
    "import numpy as np\n",
    "from numpy_pack import packArray,unpackArray\n",
    "from spark_PCA import computeCov\n",
    "from computeStats import computeOverAllDist, STAT_Descriptions\n",
    "\n",
    "### Read the data frame from pickle file\n",
    "\n",
    "data_dir='../../Data/Weather'\n",
    "file_index= 'BSBSSSBB'\n",
    "\n",
    "from pickle import load\n",
    "\n",
    "#read statistics\n",
    "filename=data_dir+'/STAT_%s.pickle'%file_index\n",
    "STAT,STAT_Descriptions = load(open(filename,'rb'))\n",
    "print 'keys from STAT=',STAT.keys()\n",
    "\n",
    "#read data\n",
    "filename=data_dir+'/US_Weather_%s.parquet'%file_index\n",
    "\n",
    "df=sqlContext.read.parquet(filename)\n",
    "print df.count()\n",
    "df.show(10)"
   ]
  },
  {
   "cell_type": "markdown",
   "metadata": {
    "deletable": true,
    "editable": true,
    "run_control": {
     "frozen": false,
     "read_only": false
    },
    "slideshow": {
     "slide_type": "slide"
    }
   },
   "source": [
    "### Select data for a particular station and measurement type"
   ]
  },
  {
   "cell_type": "code",
   "execution_count": 2,
   "metadata": {
    "collapsed": false,
    "scrolled": false
   },
   "outputs": [],
   "source": [
    "### Function to extract the values \n",
    "measures = ['TOBS', 'TMIN', 'TMAX', 'PRCP', 'SNOW', 'SNWD']\n",
    "data = []\n",
    "for i in measures:\n",
    "    sqlContext.registerDataFrameAsTable(df,'weather')\n",
    "    Query=\"SELECT station, elevation, latitude, longitude, year, vector FROM weather\\n\\tWHERE measurement='%s'\"%(i)\n",
    "    df1 = sqlContext.sql(Query)\n",
    "    rows=df1.rdd.map(lambda row:[unpackArray(row['vector'],np.float16), row['station'],  row['elevation'], row['latitude'], row['longitude'], row['year']]).collect()\n",
    "    measure = pd.DataFrame(rows, columns=('vector', 'station',  'elevation', 'latitude', 'longitude', 'year'))\n",
    "    data.append(measure)"
   ]
  },
  {
   "cell_type": "code",
   "execution_count": 3,
   "metadata": {
    "collapsed": false
   },
   "outputs": [
    {
     "name": "stderr",
     "output_type": "stream",
     "text": [
      "/root/anaconda2/lib/python2.7/site-packages/numpy/lib/nanfunctions.py:703: RuntimeWarning: Mean of empty slice\n",
      "  warnings.warn(\"Mean of empty slice\", RuntimeWarning)\n"
     ]
    }
   ],
   "source": [
    "for i in range(0,4):\n",
    "    data[i]['Jan_%s' %measures[i]] = data[i]['vector'].apply(lambda x: np.nanmean(x[:31])/10)\n",
    "    data[i]['Feb_%s' %measures[i]] = data[i]['vector'].apply(lambda x: np.nanmean(x[31:59])/10)\n",
    "    data[i]['Mar_%s' %measures[i]] = data[i]['vector'].apply(lambda x: np.nanmean(x[59:90])/10)\n",
    "    data[i]['Apr_%s' %measures[i]] = data[i]['vector'].apply(lambda x: np.nanmean(x[90:120])/10)\n",
    "    data[i]['May_%s' %measures[i]] = data[i]['vector'].apply(lambda x: np.nanmean(x[120:151])/10)\n",
    "    data[i]['Jun_%s' %measures[i]] = data[i]['vector'].apply(lambda x: np.nanmean(x[151:181])/10)\n",
    "    data[i]['Jul_%s' %measures[i]] = data[i]['vector'].apply(lambda x: np.nanmean(x[181:212])/10)\n",
    "    data[i]['Aug_%s' %measures[i]] = data[i]['vector'].apply(lambda x: np.nanmean(x[212:243])/10)\n",
    "    data[i]['Sep_%s' %measures[i]] = data[i]['vector'].apply(lambda x: np.nanmean(x[243:273])/10)\n",
    "    data[i]['Oct_%s' %measures[i]] = data[i]['vector'].apply(lambda x: np.nanmean(x[273:304])/10)\n",
    "    data[i]['Nov_%s' %measures[i]] = data[i]['vector'].apply(lambda x: np.nanmean(x[304:334])/10)\n",
    "    data[i]['Dec_%s' %measures[i]] = data[i]['vector'].apply(lambda x: np.nanmean(x[334:])/10)\n",
    "    data[i]['Annual_%s' %measures[i]] = data[i]['vector'].apply(lambda x: np.nanmean(x)/10)\n",
    "    data[i] = data[i].groupby(['station',  'elevation', 'latitude', 'longitude', 'year']).mean()\n",
    "for i in range(4,6):\n",
    "    data[i]['Jan_%s' %measures[i]] = data[i]['vector'].apply(lambda x: np.nanmean(x[:31]))\n",
    "    data[i]['Feb_%s' %measures[i]] = data[i]['vector'].apply(lambda x: np.nanmean(x[31:59]))\n",
    "    data[i]['Mar_%s' %measures[i]] = data[i]['vector'].apply(lambda x: np.nanmean(x[59:90]))\n",
    "    data[i]['Apr_%s' %measures[i]] = data[i]['vector'].apply(lambda x: np.nanmean(x[90:120]))\n",
    "    data[i]['May_%s' %measures[i]] = data[i]['vector'].apply(lambda x: np.nanmean(x[120:151]))\n",
    "    data[i]['Jun_%s' %measures[i]] = data[i]['vector'].apply(lambda x: np.nanmean(x[151:181]))\n",
    "    data[i]['Jul_%s' %measures[i]] = data[i]['vector'].apply(lambda x: np.nanmean(x[181:212]))\n",
    "    data[i]['Aug_%s' %measures[i]] = data[i]['vector'].apply(lambda x: np.nanmean(x[212:243]))\n",
    "    data[i]['Sep_%s' %measures[i]] = data[i]['vector'].apply(lambda x: np.nanmean(x[243:273]))\n",
    "    data[i]['Oct_%s' %measures[i]] = data[i]['vector'].apply(lambda x: np.nanmean(x[273:304]))\n",
    "    data[i]['Nov_%s' %measures[i]] = data[i]['vector'].apply(lambda x: np.nanmean(x[304:334]))\n",
    "    data[i]['Dec_%s' %measures[i]] = data[i]['vector'].apply(lambda x: np.nanmean(x[334:]))\n",
    "    data[i]['Annual_%s' %measures[i]] = data[i]['vector'].apply(lambda x: np.nanmean(x))\n",
    "    data[i] = data[i].groupby(['station',  'elevation', 'latitude', 'longitude', 'year']).mean()"
   ]
  },
  {
   "cell_type": "code",
   "execution_count": 4,
   "metadata": {
    "collapsed": false
   },
   "outputs": [
    {
     "name": "stdout",
     "output_type": "stream",
     "text": [
      "(1660, 13) (2203, 13) (2203, 13) (2833, 13) (2125, 13) (2057, 13)\n"
     ]
    }
   ],
   "source": [
    "print data[0].shape, data[1].shape, data[2].shape, data[3].shape, data[4].shape, data[5].shape"
   ]
  },
  {
   "cell_type": "code",
   "execution_count": 5,
   "metadata": {
    "collapsed": false,
    "scrolled": false
   },
   "outputs": [
    {
     "name": "stdout",
     "output_type": "stream",
     "text": [
      "(3006, 78)\n"
     ]
    },
    {
     "data": {
      "text/html": [
       "<div>\n",
       "<table border=\"1\" class=\"dataframe\">\n",
       "  <thead>\n",
       "    <tr style=\"text-align: right;\">\n",
       "      <th></th>\n",
       "      <th></th>\n",
       "      <th></th>\n",
       "      <th></th>\n",
       "      <th></th>\n",
       "      <th>Jan_TOBS</th>\n",
       "      <th>Feb_TOBS</th>\n",
       "      <th>Mar_TOBS</th>\n",
       "      <th>Apr_TOBS</th>\n",
       "      <th>May_TOBS</th>\n",
       "      <th>Jun_TOBS</th>\n",
       "      <th>Jul_TOBS</th>\n",
       "      <th>Aug_TOBS</th>\n",
       "      <th>Sep_TOBS</th>\n",
       "      <th>Oct_TOBS</th>\n",
       "      <th>...</th>\n",
       "      <th>Apr_SNWD</th>\n",
       "      <th>May_SNWD</th>\n",
       "      <th>Jun_SNWD</th>\n",
       "      <th>Jul_SNWD</th>\n",
       "      <th>Aug_SNWD</th>\n",
       "      <th>Sep_SNWD</th>\n",
       "      <th>Oct_SNWD</th>\n",
       "      <th>Nov_SNWD</th>\n",
       "      <th>Dec_SNWD</th>\n",
       "      <th>Annual_SNWD</th>\n",
       "    </tr>\n",
       "    <tr>\n",
       "      <th>station</th>\n",
       "      <th>elevation</th>\n",
       "      <th>latitude</th>\n",
       "      <th>longitude</th>\n",
       "      <th>year</th>\n",
       "      <th></th>\n",
       "      <th></th>\n",
       "      <th></th>\n",
       "      <th></th>\n",
       "      <th></th>\n",
       "      <th></th>\n",
       "      <th></th>\n",
       "      <th></th>\n",
       "      <th></th>\n",
       "      <th></th>\n",
       "      <th></th>\n",
       "      <th></th>\n",
       "      <th></th>\n",
       "      <th></th>\n",
       "      <th></th>\n",
       "      <th></th>\n",
       "      <th></th>\n",
       "      <th></th>\n",
       "      <th></th>\n",
       "      <th></th>\n",
       "      <th></th>\n",
       "    </tr>\n",
       "  </thead>\n",
       "  <tbody>\n",
       "    <tr>\n",
       "      <th>US1FLBK0002</th>\n",
       "      <th>29.9</th>\n",
       "      <th>30.2447</th>\n",
       "      <th>-82.1224</th>\n",
       "      <th>2008.0</th>\n",
       "      <td>NaN</td>\n",
       "      <td>NaN</td>\n",
       "      <td>NaN</td>\n",
       "      <td>NaN</td>\n",
       "      <td>NaN</td>\n",
       "      <td>NaN</td>\n",
       "      <td>NaN</td>\n",
       "      <td>NaN</td>\n",
       "      <td>NaN</td>\n",
       "      <td>NaN</td>\n",
       "      <td>...</td>\n",
       "      <td>NaN</td>\n",
       "      <td>NaN</td>\n",
       "      <td>NaN</td>\n",
       "      <td>NaN</td>\n",
       "      <td>NaN</td>\n",
       "      <td>NaN</td>\n",
       "      <td>NaN</td>\n",
       "      <td>NaN</td>\n",
       "      <td>NaN</td>\n",
       "      <td>NaN</td>\n",
       "    </tr>\n",
       "    <tr>\n",
       "      <th rowspan=\"4\" valign=\"top\">US1FLBK0003</th>\n",
       "      <th rowspan=\"4\" valign=\"top\">40.2</th>\n",
       "      <th rowspan=\"4\" valign=\"top\">30.3212</th>\n",
       "      <th rowspan=\"4\" valign=\"top\">-82.2757</th>\n",
       "      <th>2008.0</th>\n",
       "      <td>NaN</td>\n",
       "      <td>NaN</td>\n",
       "      <td>NaN</td>\n",
       "      <td>NaN</td>\n",
       "      <td>NaN</td>\n",
       "      <td>NaN</td>\n",
       "      <td>NaN</td>\n",
       "      <td>NaN</td>\n",
       "      <td>NaN</td>\n",
       "      <td>NaN</td>\n",
       "      <td>...</td>\n",
       "      <td>NaN</td>\n",
       "      <td>NaN</td>\n",
       "      <td>NaN</td>\n",
       "      <td>NaN</td>\n",
       "      <td>NaN</td>\n",
       "      <td>NaN</td>\n",
       "      <td>NaN</td>\n",
       "      <td>NaN</td>\n",
       "      <td>NaN</td>\n",
       "      <td>NaN</td>\n",
       "    </tr>\n",
       "    <tr>\n",
       "      <th>2009.0</th>\n",
       "      <td>NaN</td>\n",
       "      <td>NaN</td>\n",
       "      <td>NaN</td>\n",
       "      <td>NaN</td>\n",
       "      <td>NaN</td>\n",
       "      <td>NaN</td>\n",
       "      <td>NaN</td>\n",
       "      <td>NaN</td>\n",
       "      <td>NaN</td>\n",
       "      <td>NaN</td>\n",
       "      <td>...</td>\n",
       "      <td>NaN</td>\n",
       "      <td>NaN</td>\n",
       "      <td>NaN</td>\n",
       "      <td>NaN</td>\n",
       "      <td>NaN</td>\n",
       "      <td>NaN</td>\n",
       "      <td>NaN</td>\n",
       "      <td>NaN</td>\n",
       "      <td>NaN</td>\n",
       "      <td>NaN</td>\n",
       "    </tr>\n",
       "    <tr>\n",
       "      <th>2010.0</th>\n",
       "      <td>NaN</td>\n",
       "      <td>NaN</td>\n",
       "      <td>NaN</td>\n",
       "      <td>NaN</td>\n",
       "      <td>NaN</td>\n",
       "      <td>NaN</td>\n",
       "      <td>NaN</td>\n",
       "      <td>NaN</td>\n",
       "      <td>NaN</td>\n",
       "      <td>NaN</td>\n",
       "      <td>...</td>\n",
       "      <td>NaN</td>\n",
       "      <td>NaN</td>\n",
       "      <td>NaN</td>\n",
       "      <td>NaN</td>\n",
       "      <td>NaN</td>\n",
       "      <td>NaN</td>\n",
       "      <td>NaN</td>\n",
       "      <td>NaN</td>\n",
       "      <td>NaN</td>\n",
       "      <td>NaN</td>\n",
       "    </tr>\n",
       "    <tr>\n",
       "      <th>2011.0</th>\n",
       "      <td>NaN</td>\n",
       "      <td>NaN</td>\n",
       "      <td>NaN</td>\n",
       "      <td>NaN</td>\n",
       "      <td>NaN</td>\n",
       "      <td>NaN</td>\n",
       "      <td>NaN</td>\n",
       "      <td>NaN</td>\n",
       "      <td>NaN</td>\n",
       "      <td>NaN</td>\n",
       "      <td>...</td>\n",
       "      <td>NaN</td>\n",
       "      <td>NaN</td>\n",
       "      <td>NaN</td>\n",
       "      <td>NaN</td>\n",
       "      <td>NaN</td>\n",
       "      <td>NaN</td>\n",
       "      <td>NaN</td>\n",
       "      <td>NaN</td>\n",
       "      <td>NaN</td>\n",
       "      <td>NaN</td>\n",
       "    </tr>\n",
       "  </tbody>\n",
       "</table>\n",
       "<p>5 rows × 78 columns</p>\n",
       "</div>"
      ],
      "text/plain": [
       "                                                 Jan_TOBS  Feb_TOBS  Mar_TOBS  \\\n",
       "station     elevation latitude longitude year                                   \n",
       "US1FLBK0002 29.9      30.2447  -82.1224  2008.0       NaN       NaN       NaN   \n",
       "US1FLBK0003 40.2      30.3212  -82.2757  2008.0       NaN       NaN       NaN   \n",
       "                                         2009.0       NaN       NaN       NaN   \n",
       "                                         2010.0       NaN       NaN       NaN   \n",
       "                                         2011.0       NaN       NaN       NaN   \n",
       "\n",
       "                                                 Apr_TOBS  May_TOBS  Jun_TOBS  \\\n",
       "station     elevation latitude longitude year                                   \n",
       "US1FLBK0002 29.9      30.2447  -82.1224  2008.0       NaN       NaN       NaN   \n",
       "US1FLBK0003 40.2      30.3212  -82.2757  2008.0       NaN       NaN       NaN   \n",
       "                                         2009.0       NaN       NaN       NaN   \n",
       "                                         2010.0       NaN       NaN       NaN   \n",
       "                                         2011.0       NaN       NaN       NaN   \n",
       "\n",
       "                                                 Jul_TOBS  Aug_TOBS  Sep_TOBS  \\\n",
       "station     elevation latitude longitude year                                   \n",
       "US1FLBK0002 29.9      30.2447  -82.1224  2008.0       NaN       NaN       NaN   \n",
       "US1FLBK0003 40.2      30.3212  -82.2757  2008.0       NaN       NaN       NaN   \n",
       "                                         2009.0       NaN       NaN       NaN   \n",
       "                                         2010.0       NaN       NaN       NaN   \n",
       "                                         2011.0       NaN       NaN       NaN   \n",
       "\n",
       "                                                 Oct_TOBS     ...       \\\n",
       "station     elevation latitude longitude year                 ...        \n",
       "US1FLBK0002 29.9      30.2447  -82.1224  2008.0       NaN     ...        \n",
       "US1FLBK0003 40.2      30.3212  -82.2757  2008.0       NaN     ...        \n",
       "                                         2009.0       NaN     ...        \n",
       "                                         2010.0       NaN     ...        \n",
       "                                         2011.0       NaN     ...        \n",
       "\n",
       "                                                 Apr_SNWD  May_SNWD  Jun_SNWD  \\\n",
       "station     elevation latitude longitude year                                   \n",
       "US1FLBK0002 29.9      30.2447  -82.1224  2008.0       NaN       NaN       NaN   \n",
       "US1FLBK0003 40.2      30.3212  -82.2757  2008.0       NaN       NaN       NaN   \n",
       "                                         2009.0       NaN       NaN       NaN   \n",
       "                                         2010.0       NaN       NaN       NaN   \n",
       "                                         2011.0       NaN       NaN       NaN   \n",
       "\n",
       "                                                 Jul_SNWD  Aug_SNWD  Sep_SNWD  \\\n",
       "station     elevation latitude longitude year                                   \n",
       "US1FLBK0002 29.9      30.2447  -82.1224  2008.0       NaN       NaN       NaN   \n",
       "US1FLBK0003 40.2      30.3212  -82.2757  2008.0       NaN       NaN       NaN   \n",
       "                                         2009.0       NaN       NaN       NaN   \n",
       "                                         2010.0       NaN       NaN       NaN   \n",
       "                                         2011.0       NaN       NaN       NaN   \n",
       "\n",
       "                                                 Oct_SNWD  Nov_SNWD  Dec_SNWD  \\\n",
       "station     elevation latitude longitude year                                   \n",
       "US1FLBK0002 29.9      30.2447  -82.1224  2008.0       NaN       NaN       NaN   \n",
       "US1FLBK0003 40.2      30.3212  -82.2757  2008.0       NaN       NaN       NaN   \n",
       "                                         2009.0       NaN       NaN       NaN   \n",
       "                                         2010.0       NaN       NaN       NaN   \n",
       "                                         2011.0       NaN       NaN       NaN   \n",
       "\n",
       "                                                 Annual_SNWD  \n",
       "station     elevation latitude longitude year                 \n",
       "US1FLBK0002 29.9      30.2447  -82.1224  2008.0          NaN  \n",
       "US1FLBK0003 40.2      30.3212  -82.2757  2008.0          NaN  \n",
       "                                         2009.0          NaN  \n",
       "                                         2010.0          NaN  \n",
       "                                         2011.0          NaN  \n",
       "\n",
       "[5 rows x 78 columns]"
      ]
     },
     "execution_count": 5,
     "metadata": {},
     "output_type": "execute_result"
    }
   ],
   "source": [
    "data = pd.concat([data[0], data[1], data[2], data[3], data[4], data[5]], axis=1, join='outer')\n",
    "print data.shape\n",
    "data.head()"
   ]
  },
  {
   "cell_type": "code",
   "execution_count": 6,
   "metadata": {
    "collapsed": false
   },
   "outputs": [],
   "source": [
    "data.to_csv('./to_tableau.csv')"
   ]
  },
  {
   "cell_type": "code",
   "execution_count": null,
   "metadata": {
    "collapsed": true
   },
   "outputs": [],
   "source": []
  }
 ],
 "metadata": {
  "anaconda-cloud": {},
  "celltoolbar": "Slideshow",
  "kernelspec": {
   "display_name": "Python 2",
   "language": "python",
   "name": "python2"
  },
  "language_info": {
   "codemirror_mode": {
    "name": "ipython",
    "version": 2
   },
   "file_extension": ".py",
   "mimetype": "text/x-python",
   "name": "python",
   "nbconvert_exporter": "python",
   "pygments_lexer": "ipython2",
   "version": "2.7.13"
  },
  "toc": {
   "colors": {
    "hover_highlight": "#DAA520",
    "running_highlight": "#FF0000",
    "selected_highlight": "#FFD700"
   },
   "moveMenuLeft": true,
   "nav_menu": {
    "height": "190px",
    "width": "252px"
   },
   "navigate_menu": true,
   "number_sections": true,
   "sideBar": true,
   "threshold": 4,
   "toc_cell": false,
   "toc_position": {
    "height": "514px",
    "left": "0px",
    "right": "925px",
    "top": "107px",
    "width": "142px"
   },
   "toc_section_display": "block",
   "toc_window_display": false,
   "widenNotebook": false
  }
 },
 "nbformat": 4,
 "nbformat_minor": 0
}
