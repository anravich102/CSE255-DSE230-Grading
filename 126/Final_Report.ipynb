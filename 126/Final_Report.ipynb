{
 "cells": [
  {
   "cell_type": "markdown",
   "metadata": {},
   "source": [
    "# Southeast Georgia and North Florida Weather Analysis\n",
    "\n",
    "This is a report on the historical analysis of weather patterns in an area that overlaps the area of the state of Georgia and partially the state of Florida, with latitudes and longitudes spanning from 33.326 to 30.185 and -83.468 to -82.037. The entire state, including the North Georgia mountains, receives moderate to heavy rain, which varies from 45 inches (1,100 mm) in central Georgia. Most of Georgia has a sub -tropical climate tempered some by occasional climax air masses in the winter, hot/humid summers are typical, except at the highest elevations. \n",
    "\n",
    "<p><img alt=\"Georgia_area.png\" src=\"final_figures/Georgia_area.png\" style=\"height:500px; width:1200px\" /></p>\n",
    "\n",
    "The data we will use here comes from [NOAA](https://www.ncdc.noaa.gov/). Specifically, it was downloaded from This [FTP site](ftp://ftp.ncdc.noaa.gov/pub/data/ghcn/daily/).\n",
    "\n",
    "We focused on six measurements:\n",
    "* **TMIN, TMAX:** the daily minimum and maximum temperature.\n",
    "* **TOBS:** The average temperature for each day.\n",
    "* **PRCP:** Daily precipitation (in mm)\n",
    "* **SNOW:** Daily snowfall (in mm)\n",
    "* **SNWD:** The depth of accumulated snow (in mm).\n",
    "\n",
    "## The data was initially loaded into Tableau for simple data exploration.\n",
    "The vectorized values for each of the 6 values were extracted from the parquet file, the average measurement by station and year was calculated, and the data was outer joined forming a shape of (3006, 6) to be inputted into Tableau. Tableau is a business intelligence tool which allows for quick, informative, and interactive visualization (see supplementary link for full Tableau dashboard). \n",
    "\n",
    "The stations were plotted according to their corresponding latitudes and longitudes, there were 161 unique stations in the dataset.\n",
    "<p><img alt=\"Station_locations.png\" src=\"final_figures/Station_locations.png\" style=\"height:500px; width:1000px\" /></p>\n",
    "\n",
    "Next, general year to year trends for the average PRCP, SNOW, SNWD, and TOBS (since TMIN and TMAX followed similar trends) were plotted.\n",
    "<p><img alt=\"Measurement_Trends_by_Year.png\" src=\"final_figures/Measurement_Trends_by_Year.png\" style=\"height:500px; width:1000px\" /></p>\n",
    "\n",
    "Dates of data span:\n",
    "    \n",
    "    PRCP: 1893 to 2012\n",
    "    SNOW: 1901 to 2012\n",
    "    SNWD: 1930 to 2012\n",
    "    TOBS: 1901 to 2012\n",
    "    \n",
    "Interesting observation by measure:\n",
    "\n",
    "    PRCP: The average PRCP over the years is 3.113 mm. The maximum average PRCP occurred in 1964 with 4.336 mm. and the minimum average PRCP occurred in 1954 with 1.781 mm.\n",
    "    SNOW: The average SNOW over the years is 0.0054 mm. The maximum average SNOW occurred in 1973 with 0.09619 mm. and the minimum average SNOW (0 mm.) occurred for the majority of the years.\n",
    "    SNWD: The average SNWD over the years is 0.0058 mm. The maximum average SNWD occurred in 1973 with 0.1624 mm. and the minimum average SNWD (0 mm.) occurred for the majority of the years. SNWD, as expected, follows a similar year-to-year trend to SNOW.\n",
    "    TOBS: The average TOBS over the years is 18.645 (in Celsius). The maximum TOBS occurred in 1922 with a temperature of 21.441 deg. C and the minimum TOBS occurred in 1912 with a temperature of 14.711 deg. C. \n",
    "    \n",
    "Finally, Tableau was used to plot the average PRCP, TOBS, SNOW, and SNWD for each of the station locations. \n",
    "<p><img alt=\"Locations_averages.png\" src=\"final_figures/Locations_averages.png\" style=\"height:500px; width:800px\" /></p>\n",
    "\n",
    "Interesting observations by measure:\n",
    "\n",
    "    PRCP: Visual inspection shows that the majority of northern weather stations are below 3.0665 mm.\n",
    "    TOBS: -\n",
    "    SNOW: The northern most weather stations had the higher average annual SNOW.\n",
    "    SNWD: The majority of the weather stations had average annual SNWD below 0.3003 mm., only station US1GALN0001 had an average annual SNWD of 0.6006 mm.\n",
    "\n",
    "\n",
    "## Sanity-check: comparison with a representative weather station\n",
    "\n",
    "Using the average values for TOBS, PRCP, SNOW, and SNWD found in Tableau a representative weather station is located, USC00092839. The weather station is located in Dublin, GA (32.557, -82.904) and has an average annual PRCP of 3.0678 mm., average annual TOBS of 16.077 deg. Celsius, average annual SNOW of 0.01746 mm., and average annual SNWD of 0 mm.\n",
    "\n",
    "<p>We start by comparing some of the general statistics with graphs that we obtained from a site called <a href=\"http://www.usclimatedata.com/climate/dublin/georgia/united-states/usga0182\" target=\"_blank\">US Climate Data</a> The graph below shows the daily minimum and maximum temperatures for each month, as well as the total precipitation for each month. Note precipiation highs occur in June and August.</p>\n",
    "\n",
    "<p><img alt=\"Dublin_GA_ClimateData.png\" src=\"final_figures/Dublin_GA_ClimateData.png\" style=\"height:300px; width:400px\" /></p>\n",
    "\n",
    "We see that the min and max daily temperature agree with the ones we got from our data, once we translate Fahrenheit to Centigrade.\n",
    "\n",
    "<p><img alt=\"TMIN_TMAX_mean_std.png\" src=\"final_figures/TMIN_TMAX_mean_std.png\" style=\"height:300px; width:800px\"  /></p>\n",
    "\n",
    "\n",
    "\n",
    "<p>According to our analysis the average annual precipation for our region of interest is 3.09 mm./day, which is notably smaller than the average annual precipation in Dublin, GA, which is 3.29 mm./day. </p>\n",
    "\n",
    "<p><img alt=\"PRCP_mean_std_.png\" src=\"final_figures/PRCP_mean_std_.png\" style=\"height:300px; width:400px\" /></p>"
   ]
  },
  {
   "cell_type": "markdown",
   "metadata": {
    "collapsed": true
   },
   "source": [
    "## PCA analysis\n",
    "\n",
    "For each of the six measurement, we compute the percentate of the variance explained as a function of the number of eigen-vectors used.\n",
    "\n",
    "### Percentage of variance explained.\n",
    "<p><img alt=\"TMIN_TOBS_TMAX_eigenvectors.png\" src=\"final_figures/TMIN_TOBS_TMAX_eigenvectors.png\" style=\"height:300px; width:1200px\" /></p>\n",
    "\n",
    "We see that the top 5 eigen-vectors explain 24% of variance for TMIN, 52% for TOBS and 23% for TMAX.\n",
    "\n",
    "We conclude that of the three, TOBS is best explained by the top 5 eigenvectors. This is especially true for the first eigen-vector which, by itself, explains 45% of the variance.\n",
    "\n",
    "<p><img alt=\"SNOW_SNWD_PRCP_eigenvectors.png\" src=\"final_figures/SNOW_SNWD_PRCP_eigenvectors.png\" style=\"height:300px; width:1200px\" /></p>\n",
    "\n",
    "The top 5 eigenvectors explain 6% of the variance for PRCP, which is low due to the noisy variance present for precipitation. The top eigenvectors explain 61% of the variance for SNOW. On the other hand the top 5 eigenvectors explain 92% of the variance for SNWD. This means that these top 5 eigenvectors capture most of the variation in the snow signals. Based on that we will dig deeper into the PCA analysis for snow-depth.\n",
    "\n",
    "It makes sense that SNWD would be less noisy than SNOW since SNWD is a decaying integral of SNOW."
   ]
  },
  {
   "cell_type": "markdown",
   "metadata": {},
   "source": [
    "## Analysis of snow depth (SNWD)\n",
    "\n",
    "We choose to analyze the eigen-decomposition for snow-depth because the first 2 eigen-vectors explain 82% of the variance.\n",
    "\n",
    "First, we graph the mean and the top 2 eigen-vectors.\n",
    "\n",
    "We observe that the snow season in the region of interest experiences 2 different snow seasons described by the top 2 eigen-vectors. The first eigen-vector describes the snow depth accumulation between November and December and the second eigen-vector describes the snow depth accumulation between February to March. \n",
    "\n",
    "<p><img alt=\"SNWD_mean_eigs.png\" src=\"final_figures/SNWD_mean_eigs.png\" style=\"height:400px; width:800px\" /></p>\n",
    "\n",
    "Next we interpret the eigen-functions. Both eigen-functions are similar to the mean function, the first eigen-function (eig1) has the same shape as the mean snow depth increase between November and December, while the second eigen-function (eig2) has a similar shape to the mean snow depth increase between February and March but capture the mean increase as 1 main peak as the sum increase of the 2 mean peaks between February and March.\n",
    "\n",
    "Examining the data more closely, only 2.33% or 48/2057 of the total instances have records for SNWD (at least 1 day out of the year for that station has a SNWD value > 0). Considering, that the presence of SNWD in the area of interest, it makes sense that 2 eigen-vectors are enough to explain the majority of the variance.\n",
    "\n",
    "In order to capture additional peaks, we will focus on analyzing the eigen-decomposition for snow-depth based on the first 4 eigen-vectors as to capture additional variance (up to 91% variance). Ww observe that the top 4 eigen-vectors capture additional information. The combination of eig2 and eig3 describe more thoroughly the snow depth between February and March while the combination of eig1 and eig4 describe more thoroughly the snow depth between November and January. The first 4 eigen-vectors will be used in further analysis of SNWD.\n",
    "\n",
    "<p><img alt=\"SNWD_mean_4_eigs.png\" src=\"final_figures/SNWD_mean_4_eigs.png\" style=\"height:400px; width:800px\" /></p>\n",
    "\n",
    "Next we interpret the eigen-functions. The first eigen-function (eig1) describe the increased snow depth between November and December, the second eigen-function (eig2) describe the increased snow depth between February and March, the third eigen-function (eig3) describe the negative of the mean peak between February and March, and the fourth eigen-function (eig4) describe the mean SNWD peak between December and January."
   ]
  },
  {
   "cell_type": "markdown",
   "metadata": {},
   "source": [
    "### Examples of reconstructions\n",
    "\n",
    "#### Coeff1\n",
    "Coeff1: most positive\n",
    "<p><img alt=\"SNWD_most_pos_coeff1.png\" src=\"final_figures/SNWD_most_pos_coeff1.png\" style=\"height:200px; width:800px\" /></p>\n",
    "Coeff1: most negative\n",
    "<p><img alt=\"SNWD_most_neg_coeff1.png\" src=\"final_figures/SNWD_most_neg_coeff1.png\" style=\"height:200px; width:800px\" /></p>\n",
    "\n",
    "Large positive values of coeff1 correspond to more than average snow and low values correspond to less than average snow depth between November and December.\n",
    "\n",
    "#### Coeff2\n",
    "Coeff2: most positive\n",
    "<p><img alt=\"SNWD_most_pos_coeff2.png\" src=\"final_figures/SNWD_most_pos_coeff2.png\" style=\"height:200px; width:800px\" /></p>\n",
    "Coeff2: most negative\n",
    "<p><img alt=\"SNWD_most_neg_coeff2.png\" src=\"final_figures/SNWD_most_neg_coeff2.png\" style=\"height:200px; width:800px\" /></p>\n",
    "\n",
    "Large positive values of coeff1 correspond to more than average snow and low values correspond to less than average snow depth between February and March.\n",
    "\n",
    "#### Coeff3\n",
    "Coeff3: most positive\n",
    "<p><img alt=\"SNWD_most_pos_coeff3.png\" src=\"final_figures/SNWD_most_pos_coeff3.png\" style=\"height:200px; width:800px\" /></p>\n",
    "Coeff3: most negative\n",
    "<p><img alt=\"SNWD_most_neg_coeff3.png\" src=\"final_figures/SNWD_most_neg_coeff3.png\" style=\"height:200px; width:800px\" /></p>\n",
    "\n",
    "Large positive values of coeff1 correspond to more than average snow and low values corresponds to the negative mean peak between February and March.\n",
    "\n",
    "#### Coeff4\n",
    "Coeff4: most positive\n",
    "<p><img alt=\"SNWD_most_pos_coeff4.png\" src=\"final_figures/SNWD_most_pos_coeff4.png\" style=\"height:200px; width:800px\" /></p>\n",
    "Coeff4: most negative\n",
    "<p><img alt=\"SNWD_most_neg_coeff4.png\" src=\"final_figures/SNWD_most_neg_coeff4.png\" style=\"height:200px; width:800px\" /></p>\n",
    "\n",
    "Large positive values of coeff1 correspond to more than average snow and low values corresponds to less than average snow depth between December and January.\n",
    "\n",
    "The assumption that instances of SNWD is correlated with elevation was tested, along with PRCP, SNOW, and TOBS. The number of instances per year for each metrics were plotted and the points were colored according to number of instance (red to green corresponds to low to high instances, not as obvious here).\n",
    "\n",
    "<p><img alt=\"Metrics_vs_Elevation.png\" src=\"final_figures/Metrics_vs_Elevation.png\" style=\"height:600px; width:1000px\" /></p>\n",
    "\n",
    "As seen, there are no obvious correlations seen in the graphs, in part this could be due to not much a difference in elevation across the weather stations.\n",
    "\n",
    "Furthermore, scatter plots were also generated for PRCP, TOBS, SNOW, and SNWD vs. Year to view if any relation was seen. The number of instances per year for each metrics were plotted and the points were colored according to number of instance (red to green corresponds to low to high instances).\n",
    "\n",
    "<p><img alt=\"Metrics_vs_Year.png\" src=\"final_figures/Metrics_vs_Year.png\" style=\"height:600px; width:1000px\" /></p>\n",
    "\n",
    "As seen above, there are no obvious correlations seen in the graphs."
   ]
  },
  {
   "cell_type": "markdown",
   "metadata": {
    "collapsed": true
   },
   "source": [
    "### Temporal Variation Contributes to Snow Depth\n",
    "We now estimate the relative importance of location-to-location variation relative to year-by-year variation, by interpretting the relative RMSs. Here are the results:\n",
    "\n",
    "** coeff_1 **\n",
    "\n",
    "    total RMS                   =  139.787060801\n",
    "    RMS removing mean-by-station=  98.8948101876\n",
    "    RMS removing mean-by-year   =  114.19180867\n",
    "\n",
    "** coeff_2 **\n",
    "\n",
    "    total RMS                   =  83.7824184311\n",
    "    RMS removing mean-by-station=  70.4438076129\n",
    "    RMS removing mean-by-year   =  63.0150971492\n",
    "    \n",
    "** coeff_3 **\n",
    "\n",
    "    total RMS                   =  32.2335045915\n",
    "    RMS removing mean-by-station=  14.5318583353\n",
    "    RMS removing mean-by-year   =  24.961756426\n",
    "    \n",
    "** coeff_4 **\n",
    "\n",
    "    total RMS                   =  30.588638776\n",
    "    RMS removing mean-by-station=  0.0894169101026\n",
    "    RMS removing mean-by-year   =  21.6407752978\n",
    "\n",
    "For coeff_1, the variation is temporal for snow depth since the RMS after removing mean-by-year is greater than the RMS after removing mean-by-station. For coeff_2, the variation is spatial for snow depth since the RMS after removing mean-by-station is greater than the RMS after removing mean-by-year. For coeff_3, the variation is temporal for snow depth since the RMS after removing mean-by-year is greater than the RMS after removing mean-by-station. For coeff_4, the variation is temporal for snow depth since the RMS after removing mean-by-year is greater than the RMS after removing mean-by-station. Therefore, temporal variation primarily contributes to snow depth. "
   ]
  },
  {
   "cell_type": "markdown",
   "metadata": {},
   "source": [
    "## Analysis of the precipitation (PRCP)\n",
    "\n",
    "Next, we choose to analyze the eigen-decomposition for the average precipitation with the top 3 eigen-vectors considered.\n",
    "\n",
    "<p><img alt=\"PRCP_mean_3_eigs.png\" src=\"final_figures/PRCP_mean_3_eigs.png\" style=\"height:400px; width:800px\" /></p>\n",
    "\n",
    "The precipitation data is very noisy and this noisiness can be explained due to the % variance explained vs. number of eigenvectors. Therefore, further analysis for precipitation is void and will not be benefitted by eigen-decomposition.\n",
    "\n",
    "<p><img alt=\"PRCP_eigenvectors.png\" src=\"final_figures/PRCP_eigenvectors.png\" style=\"height:300px; width:400px\" /></p>"
   ]
  },
  {
   "cell_type": "markdown",
   "metadata": {},
   "source": [
    "## Examining the Correlation and Covariance between Weather Measurements\n",
    "\n",
    "Vectors for each metric were extracted from the parquet file, the associated measurement array was incremented by month to determine the average month measurement for TOBS, TMIN, TMAX, SNWD, SNOW, and PRCP grouped by station, and stations which were present for each of the measurements were considered (48 Stations in total). Correlation and covariance heatmaps were generated to compare the weather specific measurements by month to one another to determine the relationship between TOBS, TMIN, TMAX, SNWD, SNOW, and PRCP by month. \n",
    "\n",
    "** Month to Month Weather Metric Analysis Grouped By Weather Station - Correlation **\n",
    "<p><img alt=\"MonthtoMonth_MeasureCorrbyStation.png\" src=\"final_figures/MonthtoMonth_MeasureCorrbyStation.png\" style=\"height:800px; width:900px\" /></p>\n",
    "\n",
    "Interesting observations: \n",
    "\n",
    "    January: SNOW and TMAX are is negatively correlated (-0.7)\n",
    "    February: SNOW and TMAX are is negatively correlated (-0.7). SNOW and SNWD are positively correlated (+0.8), also reflected by the eigenvectors associated \n",
    "    with SNOW and SNWD\n",
    "    September: PRCP and TMIN are positively correlated (+0.75)\n",
    "    November: SNOW and SNWD are positively correlated (+0.8), also reflected by the eigenvectors associated with SNOW and SNWD\n",
    "\n",
    "** Month to Month Weather Metric Analysis Grouped By Weather Station - Covariance **\n",
    "<p><img alt=\"MonthtoMonth_MeasureCovbyStation.png\" src=\"final_figures/MonthtoMonth_MeasureCovbyStation.png\" style=\"height:800px; width:900px\" /></p>\n",
    "\n",
    "Interesting observations: \n",
    "\n",
    "    January: PRCP and TOBS vary positively (+0.5)\n",
    "    February: PRCP and TOBS vary negatively (-0.5)\n",
    "    May: PRCP and TOBS vary positively (+0.6)\n",
    "    July: PRCP and TOBS vary positively (+0.5)\n",
    "    September: PRCP and TOBS vary positively (+0.7)"
   ]
  },
  {
   "cell_type": "markdown",
   "metadata": {},
   "source": [
    "# Summary\n",
    "The following analysis was completed:\n",
    "\n",
    "    1. Weather metric trend analysis by year: Showed the average, minimums, and maximums metric values by year. This can explain years of drought, heat waves, and strange data (ie. irregular SNOW or SNWD)\n",
    "    2. Weather average metrics by station location: Visually allowed for some weather location ideas\n",
    "    3. Comparing TMIN, TMAX, and PRCP to a weather station representative\n",
    "    4. Percentage of variance explained vs. number of eigenvectors\n",
    "    5. SNWD and PRCP eigen-decompositions and reconstructions\n",
    "    6. Weather metric vs. elevation and vs. year analysis\n",
    "    7. Spatial vs. temporal analysis for SNWD\n",
    "    8. Correlation and covariance heatmap generation for weather metrics by months of year"
   ]
  },
  {
   "cell_type": "markdown",
   "metadata": {
    "collapsed": true
   },
   "source": [
    "# Supplementary Links\n",
    "\n",
    "https://public.tableau.com/profile/orysya.stus#!/vizhome/Weather_Analysis/Station_locations"
   ]
  },
  {
   "cell_type": "code",
   "execution_count": 2,
   "metadata": {},
   "outputs": [
    {
     "data": {
      "text/html": [
       "<div class='tableauPlaceholder' id='viz1494916944366' style='position: relative'><noscript><a href='#'><img alt=' ' src='https:&#47;&#47;public.tableau.com&#47;static&#47;images&#47;We&#47;Weather_Analysis&#47;Station_locations&#47;1_rss.png' style='border: none' /></a></noscript><object class='tableauViz'  style='display:none;'><param name='host_url' value='https%3A%2F%2Fpublic.tableau.com%2F' /> <param name='site_root' value='' /><param name='name' value='Weather_Analysis&#47;Station_locations' /><param name='tabs' value='yes' /><param name='toolbar' value='yes' /><param name='static_image' value='https:&#47;&#47;public.tableau.com&#47;static&#47;images&#47;We&#47;Weather_Analysis&#47;Station_locations&#47;1.png' /> <param name='animate_transition' value='yes' /><param name='display_static_image' value='yes' /><param name='display_spinner' value='yes' /><param name='display_overlay' value='yes' /><param name='display_count' value='yes' /></object></div>                <script type='text/javascript'>                    var divElement = document.getElementById('viz1494916944366');                    var vizElement = divElement.getElementsByTagName('object')[0];                    vizElement.style.width='100%';vizElement.style.height=(divElement.offsetWidth*0.75)+'px';                    var scriptElement = document.createElement('script');                    scriptElement.src = 'https://public.tableau.com/javascripts/api/viz_v1.js';                    vizElement.parentNode.insertBefore(scriptElement, vizElement);                </script>"
      ],
      "text/plain": [
       "<IPython.core.display.HTML object>"
      ]
     },
     "metadata": {},
     "output_type": "display_data"
    }
   ],
   "source": [
    "%%HTML\n",
    "<div class='tableauPlaceholder' id='viz1494916944366' style='position: relative'><noscript><a href='#'><img alt=' ' src='https:&#47;&#47;public.tableau.com&#47;static&#47;images&#47;We&#47;Weather_Analysis&#47;Station_locations&#47;1_rss.png' style='border: none' /></a></noscript><object class='tableauViz'  style='display:none;'><param name='host_url' value='https%3A%2F%2Fpublic.tableau.com%2F' /> <param name='site_root' value='' /><param name='name' value='Weather_Analysis&#47;Station_locations' /><param name='tabs' value='yes' /><param name='toolbar' value='yes' /><param name='static_image' value='https:&#47;&#47;public.tableau.com&#47;static&#47;images&#47;We&#47;Weather_Analysis&#47;Station_locations&#47;1.png' /> <param name='animate_transition' value='yes' /><param name='display_static_image' value='yes' /><param name='display_spinner' value='yes' /><param name='display_overlay' value='yes' /><param name='display_count' value='yes' /></object></div>                <script type='text/javascript'>                    var divElement = document.getElementById('viz1494916944366');                    var vizElement = divElement.getElementsByTagName('object')[0];                    vizElement.style.width='100%';vizElement.style.height=(divElement.offsetWidth*0.75)+'px';                    var scriptElement = document.createElement('script');                    scriptElement.src = 'https://public.tableau.com/javascripts/api/viz_v1.js';                    vizElement.parentNode.insertBefore(scriptElement, vizElement);                </script>"
   ]
  },
  {
   "cell_type": "code",
   "execution_count": null,
   "metadata": {
    "collapsed": true
   },
   "outputs": [],
   "source": []
  }
 ],
 "metadata": {
  "anaconda-cloud": {},
  "kernelspec": {
   "display_name": "Python [default]",
   "language": "python",
   "name": "python2"
  },
  "language_info": {
   "codemirror_mode": {
    "name": "ipython",
    "version": 2
   },
   "file_extension": ".py",
   "mimetype": "text/x-python",
   "name": "python",
   "nbconvert_exporter": "python",
   "pygments_lexer": "ipython2",
   "version": "2.7.10"
  },
  "toc": {
   "colors": {
    "hover_highlight": "#DAA520",
    "running_highlight": "#FF0000",
    "selected_highlight": "#FFD700"
   },
   "moveMenuLeft": true,
   "nav_menu": {
    "height": "48px",
    "width": "252px"
   },
   "navigate_menu": true,
   "number_sections": true,
   "sideBar": true,
   "threshold": 4,
   "toc_cell": false,
   "toc_section_display": "block",
   "toc_window_display": false,
   "widenNotebook": false
  }
 },
 "nbformat": 4,
 "nbformat_minor": 2
}
