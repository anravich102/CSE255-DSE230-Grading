{
 "cells": [
  {
   "cell_type": "code",
   "execution_count": 11,
   "metadata": {
    "run_control": {
     "frozen": false,
     "read_only": false
    },
    "scrolled": false
   },
   "outputs": [
    {
     "name": "stdout",
     "output_type": "stream",
     "text": [
      "![Climate_Utah_Averages.png](report_figures/Climate_Utah_Averages.png)\n",
      "![geo_dist_coef1.png](report_figures/geo_dist_coef1.png)\n",
      "![geo_dist_coef2.png](report_figures/geo_dist_coef2.png)\n",
      "![geo_dist_coef3.png](report_figures/geo_dist_coef3.png)\n",
      "![geo_dist_coef4.png](report_figures/geo_dist_coef4.png)\n",
      "![Mean_std_PRCP.png](report_figures/Mean_std_PRCP.png)\n",
      "![Mean_std_SNOW_SNWD.png](report_figures/Mean_std_SNOW_SNWD.png)\n",
      "![Mean_std_TMIN_TMAX.png](report_figures/Mean_std_TMIN_TMAX.png)\n",
      "![Mean_std_TMIN_TMAX_TOBS.png](report_figures/Mean_std_TMIN_TMAX_TOBS.png)\n",
      "![Mean_std_TOBS_PRCP.png](report_figures/Mean_std_TOBS_PRCP.png)\n",
      "![Perc_Var_.Explained_PRCP_SNOW_SNWD.png](report_figures/Perc_Var_.Explained_PRCP_SNOW_SNWD.png)\n",
      "![Perc_Var_.Explained_TMIN_TMAX_TOBS.png](report_figures/Perc_Var_.Explained_TMIN_TMAX_TOBS.png)\n",
      "![PRCPvsDay_for_2_years.png](report_figures/PRCPvsDay_for_2_years.png)\n",
      "![Screenshot from 2017-05-15 22:59:14.png](report_figures/Screenshot from 2017-05-15 22:59:14.png)\n",
      "![SNWD_cum_dist_coeff_2.png](report_figures/SNWD_cum_dist_coeff_2.png)\n",
      "![SNWD_cum_dist_res2.png](report_figures/SNWD_cum_dist_res2.png)\n",
      "![SNWD_Mean_Eigvecs_2.png](report_figures/SNWD_Mean_Eigvecs_2.png)\n",
      "![SNWD_Mean_Eigvecs.png](report_figures/SNWD_Mean_Eigvecs.png)\n",
      "![SNWD_Perc_Var_Explained.png](report_figures/SNWD_Perc_Var_Explained.png)\n",
      "![SNWD_recon_coef1_asc.png](report_figures/SNWD_recon_coef1_asc.png)\n",
      "![SNWD_recon_coef1_dec.png](report_figures/SNWD_recon_coef1_dec.png)\n",
      "![SNWD_recon_coef2_asc.png](report_figures/SNWD_recon_coef2_asc.png)\n",
      "![SNWD_recon_coef2_desc.png](report_figures/SNWD_recon_coef2_desc.png)\n",
      "![SNWD_recon_coef3_asc.png](report_figures/SNWD_recon_coef3_asc.png)\n",
      "![SNWD_recon_coef3_desc.png](report_figures/SNWD_recon_coef3_desc.png)\n",
      "![SNWD_Recon_Mean_Eigvecs_Coef3_Decreasing.png](report_figures/SNWD_Recon_Mean_Eigvecs_Coef3_Decreasing.png)\n",
      "![SNWD_Recon_Mean_Eigvecs.png](report_figures/SNWD_Recon_Mean_Eigvecs.png)\n",
      "![TOBS_cum_dist_coeff_2.png](report_figures/TOBS_cum_dist_coeff_2.png)\n",
      "![TOBS_cum_dist_res2.png](report_figures/TOBS_cum_dist_res2.png)\n",
      "![TOBS_Mean_Eigvecs.png](report_figures/TOBS_Mean_Eigvecs.png)\n",
      "![TOBS_Perc_Var_Explained.png](report_figures/TOBS_Perc_Var_Explained.png)\n",
      "![TOBS_Recon_Mean_Eigvecs_Coef3_Decreasing.png](report_figures/TOBS_Recon_Mean_Eigvecs_Coef3_Decreasing.png)\n",
      "![TOBS_Recon_Mean_Eigvecs.png](report_figures/TOBS_Recon_Mean_Eigvecs.png)\n",
      "![Top_eigvec_SNOW_SNWD.png](report_figures/Top_eigvec_SNOW_SNWD.png)\n",
      "![Top_eigvec_TMIN_TMAX.png](report_figures/Top_eigvec_TMIN_TMAX.png)\n",
      "![Top_eigvec_TOBS_PRCP.png](report_figures/Top_eigvec_TOBS_PRCP.png)\n",
      "![Valid_Counts_vs_month_SNOW_SNWD.png](report_figures/Valid_Counts_vs_month_SNOW_SNWD.png)\n",
      "![Valid_Counts_vs_month_TMIN_TMAX.png](report_figures/Valid_Counts_vs_month_TMIN_TMAX.png)\n",
      "![Valid_Counts_vs_Month_TOBS_PRCP.png](report_figures/Valid_Counts_vs_Month_TOBS_PRCP.png)\n"
     ]
    }
   ],
   "source": [
    "L=!ls report_figures/\n",
    "for l in L:\n",
    "    print \"![%s](report_figures/%s)\"%(l,l)"
   ]
  },
  {
   "cell_type": "code",
   "execution_count": 12,
   "metadata": {
    "run_control": {
     "frozen": false,
     "read_only": false
    }
   },
   "outputs": [
    {
     "name": "stdout",
     "output_type": "stream",
     "text": [
      "Couldn't get a file descriptor referring to the console\r\n"
     ]
    }
   ],
   "source": [
    "!open r_figures/TMIN,TMAX.png"
   ]
  },
  {
   "cell_type": "markdown",
   "metadata": {
    "run_control": {
     "frozen": false,
     "read_only": false
    }
   },
   "source": [
    "# Utah Weather Analysis\n",
    "\n",
    "This is a report on the historical analysis of weather patterns in an area that approximately overlaps the area of the state of Utah (around Cedar City)\n",
    "\n",
    "The data we will use here comes from [NOAA](https://www.ncdc.noaa.gov/). Specifically, it was downloaded from This [FTP site](ftp://ftp.ncdc.noaa.gov/pub/data/ghcn/daily/).\n",
    "\n",
    "We focused on six measurements:\n",
    "* **TMIN, TMAX:** the daily minimum and maximum temperature.\n",
    "* **TOBS:** The average temperature for each day.\n",
    "* **PRCP:** Daily Percipitation (in mm)\n",
    "* **SNOW:** Daily snowfall (in mm)\n",
    "* **SNWD:** The depth of accumulated snow.\n",
    "\n",
    "## Sanity-check: comparison with outside sources\n",
    "\n",
    "<p>We start by comparing some of the general statistics with graphs that we obtained from a site called <a href=\"http://www.usclimatedata.com/climate/cedar-city/utah/united-states/usut0038\" target=\"_blank\">US Climate Data</a> The graph below shows the daily minimum and maximum temperatures for each month, as well as the total precipitation for each month.</p>\n",
    "\n",
    "<p>&nbsp;</p>\n",
    "\n",
    "<p><img alt=\"Climate_utah_Averages.png\" src=\"report_figures/Climate_Utah_Averages.png\" /></p>\n",
    "\n",
    "<p>&nbsp;</p>\n",
    "\n",
    "<p>We see that the min and max daily&nbsp;temperatures(plotted below) agree with the ones we got from our data (The temperature scale in both all the graphs is Farenheit.</p>\n",
    "\n",
    "<p>&nbsp;</p>\n",
    "\n",
    "<p><img alt=\"Mean_std_TMIN_TMAX_TOBS\" src=\"report_figures/Mean_std_TMIN_TMAX_TOBS.png\" style=\"height:300px; width:1200px\" /></p>\n",
    "\n",
    "<p>To compare the precipitation&nbsp;we need to translate inches/day to inches/month. According to our analysis the average rainfall (plotted beolw) is 0.036 mm/day which translates to about 1.08 Inches&nbsp;per month. According to US-Climate-Data the average rainfall is closer to 0.95 inch per month. However, there is clear agreement on the variation of average precipitation throughout the year. We can observe peaks in March and October in both cases and least rainfall in June.</p>\n",
    "\n",
    "<p>&nbsp;<img alt=\"Mean_std_PRCP.png\" src=\"report_figures/Mean_std_PRCP.png\" style=\"height:450px; width:600px\" /></p>\n"
   ]
  },
  {
   "cell_type": "markdown",
   "metadata": {},
   "source": [
    "## Distribution of Missing Observations\n",
    "\n",
    "This data contains measurement from as early as the first decade of 20th century. However, we can imagine that the measurement facility was not available at all the stations at all the times for various reasons like equipment failure or delayed beginning of data collection etc. Owing to such factors, we observe that the data we have is not complete i.e. we dont have all the measurements for all the days at all the stations. We replace the missing measurements with NAN. Below we plot and compare the daily distribution of valid counts of each measurement. We observe that for TMIN, TMAX, TOBS, SNOW and SNWD, the distrbution follows a bell kind of curve with lower valid observations in winter than in summer. This indicates that observing these quantities becomes more difficult in the winters. This could be because of some limitations of the apparatus or logistic challenges(like stepping out in extreme snow to collect observations). \n",
    "\n",
    "For precipitaion we observe a near constant number of valid observations except for a sharp drop in the numbers in October which as we saw earlier is one of the months with highest average precipitation. This again indicates towards hostile conditions during heavy rains for making the measurement.\n",
    "\n",
    "<p><img alt=\"Valid_Counts_vs_month_TMIN_TMAX.png\" src=\"report_figures/Valid_Counts_vs_month_TMIN_TMAX.png\"/></p>\n",
    "\n",
    "<p><img alt=\"Valid_Counts_vs_month_TOBS_PRCP.png\" src=\"report_figures/Valid_Counts_vs_Month_TOBS_PRCP.png\"/></p>\n",
    "\n",
    "<p><img alt=\"Valid_Counts_vs_month_SNOW_SNWD.png\" src=\"report_figures/Valid_Counts_vs_month_SNOW_SNWD.png\"/></p>"
   ]
  },
  {
   "cell_type": "markdown",
   "metadata": {
    "run_control": {
     "frozen": false,
     "read_only": false
    }
   },
   "source": [
    "## PCA analysis\n",
    "\n",
    "For each of the six measurement, we compute the percentate of the variance explained as a function of the number of eigen-vectors used.\n",
    "\n",
    "### Percentage of variance explained.\n",
    "![VarExplained1.png](report_figures/Perc_Var_.Explained_TMIN_TMAX_TOBS.png)\n",
    "We see that the top 5 eigen-vectors explain 48% of variance for TMIN, 62% for TOBS and 51% for TMAX.\n",
    "\n",
    "We conclude that of the three, TOBS is best explained by the top 5 eigenvectors. This is especially true for the first eigen-vector which, by itself, explains 54% of the variance.\n",
    "\n",
    "![VarExplained2.png](report_figures/Perc_Var_.Explained_PRCP_SNOW_SNWD.png)\n",
    "\n",
    "The top 5 eigenvectors explain 12% of the variance for PRCP and 10% for SNOW. Both are low values. On the other hand the top 5 eigenvectors explain %88 of the variance for SNWD. This means that these top 5 eigenvectors capture most of the variation in the snow signals. Based on that we will dig deeper into the PCA analysis for snow-depth.\n",
    "\n",
    "It makes sense that SNWD would be less noisy than SNOW. That is because SNWD is a decaying integral of SNOW and, as such, varies less between days and between the same date on diffferent years."
   ]
  },
  {
   "cell_type": "markdown",
   "metadata": {
    "run_control": {
     "frozen": false,
     "read_only": false
    }
   },
   "source": [
    "## Analysis of snow depth\n",
    "\n",
    "We choose to analyze the eigen-decomposition for snow-depth because the first 4 eigen-vectors explain 84% of the variance.\n",
    "\n",
    "First, we graph the mean and the top 3 eigen-vectors.\n",
    "\n",
    "We observe that the snow season is from mid-november to the end of march, where the middle of February marks the peak of the snow-depth.\n",
    "![SNWD_mean_eigs.png](report_figures/SNWD_Mean_Eigvecs_2.png)"
   ]
  },
  {
   "cell_type": "markdown",
   "metadata": {
    "run_control": {
     "frozen": false,
     "read_only": false
    }
   },
   "source": [
    "Next we interpret the eigen-functions: \n",
    "\n",
    "* The first eigen-function (**eig1**) has a shape very similar to the scaled down version of the negative of mean function. The interpretation of this shape is that eig1 represents the overall amount of snow above/below the mean, but without changing the distribution over time.\n",
    "\n",
    "**eig2,eig3 and eig4** are similar in the following way. They all oscilate between positive and negative values. In other words, they correspond to changing the distribution of the snow depth over the winter months, but they don't change the total (much).\n",
    "\n",
    "They can be interpreted as follows:\n",
    "* **eig2:** more snow in jan - march, less snow in mid oct-dec.\n",
    "* **eig3:** more snow in Jan-mid March, less snow in mid-march to april and more snow in mid-oct to dec.\n",
    "* **eig4:** more snow in jan and april-may, less snow in Dec, slightly more snow in march.\n"
   ]
  },
  {
   "cell_type": "markdown",
   "metadata": {
    "run_control": {
     "frozen": false,
     "read_only": false
    }
   },
   "source": [
    "### Examples of reconstructions\n",
    "\n",
    "In this section we show some examples of reconstruction of and how the reconstruction quality and characteristic depends on the coefficients of various eigen vectors.\n",
    "\n",
    "**Note: In the following analysis c[n] corresponds to eigen[n+1] or coef[n+1].\n",
    "\n",
    "#### Coeff1\n",
    "Coeff1: most positive\n",
    "![SNWD_grid_Pos_coeff1.png](report_figures/SNWD_recon_coef1_dec.png)\n",
    "Coeff1: most negative\n",
    "![SNWD_grid_neg_coeff1.png](report_figures/SNWD_recon_coef1_asc.png)\n",
    "Large positive values of coeff1 correspond to less than average snow. Low values correspond to more than average snow.\n",
    "\n",
    "#### Coeff2\n",
    "Coeff2: most positive\n",
    "![SNWD_grid_Pos_coeff2.png](report_figures/SNWD_recon_coef2_desc.png)\n",
    "Coeff2: most negative\n",
    "![SNWD_grid_neg_coeff2.png](report_figures/SNWD_recon_coef2_asc.png)\n",
    "\n",
    "Large negative values of coeff2 correspond to a late snow season (most of the snowfall is before mid March. Negative values for coeff2 correspond to a late snow season (most of the snow is after mid-March).\n",
    "#### Coeff3\n",
    "Coeff3: most positive\n",
    "![SNWD_grid_Pos_coeff3.png](report_figures/SNWD_recon_coef3_desc.png)\n",
    "Coeff3: most negative\n",
    "![SNWD_grid_neg_coeff3.png](report_figures/SNWD_recon_coef3_asc.png)\n",
    "\n",
    "Large positive values of coeff3 correspond to high snow late in the year (Oct-Dec). Low value of coef3 corresponds to low value snow in that period.\n"
   ]
  },
  {
   "cell_type": "markdown",
   "metadata": {
    "run_control": {
     "frozen": false,
     "read_only": false
    }
   },
   "source": []
  },
  {
   "cell_type": "markdown",
   "metadata": {
    "run_control": {
     "frozen": false,
     "read_only": false
    }
   },
   "source": [
    "### Geographical distribution of first 4 coefficients. \n",
    "\n",
    "The geographical distribution of the four coefficients is given below. The radius of the circle represents how big \"positive\" the coefficient is.\n",
    "\n",
    "** Coef1**\n",
    "\n",
    "![SNWD_grid_Pos_coeff1.png](report_figures/geo_dist_coef1_2.png)\n",
    "\n",
    "The bigger circles represent regions where the snwd is lower than average.\n",
    "\n",
    "** Coef2**\n",
    "\n",
    "![SNWD_grid_Pos_coeff1.png](report_figures/geo_dist_coef2_2.png)\n",
    "\n",
    "Larger circles represent the regions of late snowfall on average.\n",
    "\n",
    "** Coef3**\n",
    "\n",
    "![SNWD_grid_Pos_coeff1.png](report_figures/geo_dist_coef3_2.png)\n",
    "\n",
    "Larger circles indicate regions where there is a tendancy of high snowfall late in the year."
   ]
  },
  {
   "cell_type": "markdown",
   "metadata": {},
   "source": [
    "## Topographical Distribution of Coefficients\n",
    "\n",
    "Below, we present a table which shows the average value of coef1 vs the elevation. This table shows that as the elevation increases, the value of coef1 for the SNWD becomes decreases (becomes more negative). Earlier, we have shown that negative values of coef1 indicate more than average snow depth. This is intuitively true as there is more snowfall in regions of high altitude. The table substantiates this hypothesis.\n",
    "\n",
    "![SNWD_grid_neg_coeff3.png](report_figures/elevation_vs_coef1.png)"
   ]
  },
  {
   "cell_type": "markdown",
   "metadata": {
    "run_control": {
     "frozen": false,
     "read_only": false
    }
   },
   "source": [
    "## Analysis of correlation between percipitation across locations\n",
    "\n",
    "* First, We calculated the RMS variance of the table formed by having average value of some eigenvetor's coefficient for each (station, year) pair, calling it RMS_total.\n",
    "\n",
    "* Then we subtracted the mean average coefficient per year and recalculated the RMS variance and named it RMS_minus_mean_by_year.\n",
    "\n",
    "* Finally we subtracted the mean average coefficient per year and recalculated the RMS variance and named it RMS_minus_mean_by_station.\n",
    "\n",
    "* We observed that for the case of coeff2,\n",
    "    RMS_total = 1101.73545176,\n",
    "    RMS removing mean-by-station =  849.084286192,\n",
    "    RMS removing mean-by-year =  824.529435591.\n",
    "    This indicates that there is greater correlation between two values at the same station but in different years than two values in the same year but at the same station. This shows that the variation over space in SNWD is much greater than the variation over time. "
   ]
  },
  {
   "cell_type": "code",
   "execution_count": null,
   "metadata": {
    "collapsed": true
   },
   "outputs": [],
   "source": []
  }
 ],
 "metadata": {
  "anaconda-cloud": {},
  "kernelspec": {
   "display_name": "Python 2",
   "language": "python",
   "name": "python2"
  },
  "language_info": {
   "codemirror_mode": {
    "name": "ipython",
    "version": 2
   },
   "file_extension": ".py",
   "mimetype": "text/x-python",
   "name": "python",
   "nbconvert_exporter": "python",
   "pygments_lexer": "ipython2",
   "version": "2.7.13"
  },
  "toc": {
   "colors": {
    "hover_highlight": "#DAA520",
    "running_highlight": "#FF0000",
    "selected_highlight": "#FFD700"
   },
   "moveMenuLeft": true,
   "nav_menu": {
    "height": "12px",
    "width": "252px"
   },
   "navigate_menu": true,
   "number_sections": true,
   "sideBar": true,
   "threshold": 4,
   "toc_cell": false,
   "toc_section_display": "block",
   "toc_window_display": false
  }
 },
 "nbformat": 4,
 "nbformat_minor": 2
}
