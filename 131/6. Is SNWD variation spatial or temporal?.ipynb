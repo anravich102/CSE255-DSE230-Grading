{
 "cells": [
  {
   "cell_type": "markdown",
   "metadata": {
    "run_control": {
     "frozen": false,
     "read_only": false
    }
   },
   "source": [
    "## Analyze whether SNWD varies more from year to year or from place to place."
   ]
  },
  {
   "cell_type": "code",
   "execution_count": 1,
   "metadata": {
    "run_control": {
     "frozen": false,
     "read_only": false
    }
   },
   "outputs": [],
   "source": [
    "import pandas as pd\n",
    "import numpy as np\n",
    "import urllib\n",
    "import math"
   ]
  },
  {
   "cell_type": "code",
   "execution_count": 2,
   "metadata": {
    "collapsed": true,
    "run_control": {
     "frozen": false,
     "read_only": false
    }
   },
   "outputs": [],
   "source": [
    "import findspark\n",
    "findspark.init()\n",
    "\n",
    "from pyspark import SparkContext\n",
    "#sc.stop()\n",
    "sc = SparkContext(master=\"local[3]\",pyFiles=['lib/numpy_pack.py','lib/spark_PCA.py','lib/computeStats.py'])\n",
    "\n",
    "from pyspark import SparkContext\n",
    "from pyspark.sql import *\n",
    "sqlContext = SQLContext(sc)"
   ]
  },
  {
   "cell_type": "code",
   "execution_count": 3,
   "metadata": {
    "collapsed": true,
    "run_control": {
     "frozen": false,
     "read_only": false
    }
   },
   "outputs": [],
   "source": [
    "import sys\n",
    "sys.path.append('./lib')\n",
    "\n",
    "import numpy as np\n",
    "from numpy_pack import packArray,unpackArray\n",
    "from spark_PCA import computeCov\n",
    "from computeStats import computeOverAllDist, STAT_Descriptions"
   ]
  },
  {
   "cell_type": "code",
   "execution_count": 4,
   "metadata": {
    "run_control": {
     "frozen": false,
     "read_only": false
    },
    "scrolled": true
   },
   "outputs": [
    {
     "name": "stdout",
     "output_type": "stream",
     "text": [
      "('keys from STAT=', ['TMIN', 'TOBS', 'TMAX', 'SNOW', 'SNWD', 'PRCP'])\n",
      "1575\n",
      "+-------------------+------------------+-------+---------+--------+--------+---------+-----------+------------------+--------------------+--------------------+--------+-----------+---------+------+--------------------+------+\n",
      "|            coeff_1|           coeff_2|coeff_3|elevation|   label|latitude|longitude|measurement|             res_1|               res_2|               res_3|res_mean|    station|total_var|undefs|              vector|  year|\n",
      "+-------------------+------------------+-------+---------+--------+--------+---------+-----------+------------------+--------------------+--------------------+--------+-----------+---------+------+--------------------+------+\n",
      "|0.06909685945706352|0.6838949647973293|    0.0|      2.1|BSBSBSBS| 25.3867| -80.5936|       SNWD|0.9898952161016833|2.650785772283967...|2.650785772283967...|Infinity|USC00087760|      0.0|     1|[00 00 00 00 00 0...|1950.0|\n",
      "|0.06909685945706352|0.6838949647973293|    0.0|      2.1|BSBSBSBS| 25.3867| -80.5936|       SNWD|0.9898952161016833|2.650785772283967...|2.650785772283967...|Infinity|USC00087760|      0.0|     0|[00 00 00 00 00 0...|1951.0|\n",
      "+-------------------+------------------+-------+---------+--------+--------+---------+-----------+------------------+--------------------+--------------------+--------+-----------+---------+------+--------------------+------+\n",
      "only showing top 2 rows\n",
      "\n"
     ]
    }
   ],
   "source": [
    "### Read the data frame from pickle file\n",
    "\n",
    "data_dir='../../Data/Weather'\n",
    "file_index='BSBSBSBS'\n",
    "meas='SNWD'\n",
    "\n",
    "from pickle import load\n",
    "\n",
    "#read statistics\n",
    "filename=data_dir+'/STAT_%s.pickle'%file_index\n",
    "STAT,STAT_Descriptions = load(open(filename,'rb'))\n",
    "print('keys from STAT=',STAT.keys())\n",
    "\n",
    "#!ls -ld $data_dir/*.parquet\n",
    "\n",
    "#read data\n",
    "filename=data_dir+'/decon_%s_%s.parquet'%(file_index,meas)\n",
    "\n",
    "df=sqlContext.read.parquet(filename).filter(\"station like 'USC%'\")\n",
    "print(df.count())\n",
    "df.show(2)"
   ]
  },
  {
   "cell_type": "code",
   "execution_count": 5,
   "metadata": {
    "run_control": {
     "frozen": false,
     "read_only": false
    }
   },
   "outputs": [
    {
     "name": "stdout",
     "output_type": "stream",
     "text": [
      "['coeff_1', 'coeff_2', 'coeff_3', 'elevation', 'label', 'latitude', 'longitude', 'measurement', 'res_1', 'res_2', 'res_3', 'res_mean', 'station', 'total_var', 'undefs', 'vector', 'year']\n"
     ]
    }
   ],
   "source": [
    "print df.columns"
   ]
  },
  {
   "cell_type": "code",
   "execution_count": 6,
   "metadata": {
    "run_control": {
     "frozen": false,
     "read_only": false
    },
    "scrolled": true
   },
   "outputs": [
    {
     "name": "stdout",
     "output_type": "stream",
     "text": [
      "SELECT station, year, coeff_2 FROM weather\n"
     ]
    },
    {
     "data": {
      "text/html": [
       "<div>\n",
       "<style>\n",
       "    .dataframe thead tr:only-child th {\n",
       "        text-align: right;\n",
       "    }\n",
       "\n",
       "    .dataframe thead th {\n",
       "        text-align: left;\n",
       "    }\n",
       "\n",
       "    .dataframe tbody tr th {\n",
       "        vertical-align: top;\n",
       "    }\n",
       "</style>\n",
       "<table border=\"1\" class=\"dataframe\">\n",
       "  <thead>\n",
       "    <tr style=\"text-align: right;\">\n",
       "      <th></th>\n",
       "      <th>station</th>\n",
       "      <th>year</th>\n",
       "      <th>coeff_2</th>\n",
       "    </tr>\n",
       "  </thead>\n",
       "  <tbody>\n",
       "    <tr>\n",
       "      <th>0</th>\n",
       "      <td>USC00087760</td>\n",
       "      <td>1950.0</td>\n",
       "      <td>0.683895</td>\n",
       "    </tr>\n",
       "    <tr>\n",
       "      <th>1</th>\n",
       "      <td>USC00087760</td>\n",
       "      <td>1951.0</td>\n",
       "      <td>0.683895</td>\n",
       "    </tr>\n",
       "    <tr>\n",
       "      <th>2</th>\n",
       "      <td>USC00087760</td>\n",
       "      <td>1952.0</td>\n",
       "      <td>0.683895</td>\n",
       "    </tr>\n",
       "    <tr>\n",
       "      <th>3</th>\n",
       "      <td>USC00087760</td>\n",
       "      <td>1953.0</td>\n",
       "      <td>0.683895</td>\n",
       "    </tr>\n",
       "    <tr>\n",
       "      <th>4</th>\n",
       "      <td>USC00087760</td>\n",
       "      <td>1954.0</td>\n",
       "      <td>0.683895</td>\n",
       "    </tr>\n",
       "  </tbody>\n",
       "</table>\n",
       "</div>"
      ],
      "text/plain": [
       "       station    year   coeff_2\n",
       "0  USC00087760  1950.0  0.683895\n",
       "1  USC00087760  1951.0  0.683895\n",
       "2  USC00087760  1952.0  0.683895\n",
       "3  USC00087760  1953.0  0.683895\n",
       "4  USC00087760  1954.0  0.683895"
      ]
     },
     "execution_count": 6,
     "metadata": {},
     "output_type": "execute_result"
    }
   ],
   "source": [
    "#extract longitude and latitude for each station\n",
    "feature='coeff_1'\n",
    "sqlContext.registerDataFrameAsTable(df,'weather')\n",
    "#Features=', '.join(['coeff_1', 'coeff_2', 'coeff_3', 'elevation', 'latitude', 'longitude',\\\n",
    "#          'res_1', 'res_2', 'res_3', 'res_mean', 'year'])\n",
    "Features='station, year, coeff_2'\n",
    "Query=\"SELECT %s FROM weather\"%Features\n",
    "print(Query)\n",
    "pdf = sqlContext.sql(Query).toPandas()\n",
    "pdf.head()"
   ]
  },
  {
   "cell_type": "code",
   "execution_count": 7,
   "metadata": {
    "run_control": {
     "frozen": false,
     "read_only": false
    }
   },
   "outputs": [
    {
     "data": {
      "text/html": [
       "<div>\n",
       "<style>\n",
       "    .dataframe thead tr:only-child th {\n",
       "        text-align: right;\n",
       "    }\n",
       "\n",
       "    .dataframe thead th {\n",
       "        text-align: left;\n",
       "    }\n",
       "\n",
       "    .dataframe tbody tr th {\n",
       "        vertical-align: top;\n",
       "    }\n",
       "</style>\n",
       "<table border=\"1\" class=\"dataframe\">\n",
       "  <thead>\n",
       "    <tr style=\"text-align: right;\">\n",
       "      <th>station</th>\n",
       "      <th>USC00080488</th>\n",
       "      <th>USC00080611</th>\n",
       "      <th>USC00080616</th>\n",
       "      <th>USC00080737</th>\n",
       "      <th>USC00080739</th>\n",
       "      <th>USC00080845</th>\n",
       "      <th>USC00080992</th>\n",
       "      <th>USC00081271</th>\n",
       "      <th>USC00081276</th>\n",
       "      <th>USC00081305</th>\n",
       "      <th>...</th>\n",
       "      <th>USC00088368</th>\n",
       "      <th>USC00088396</th>\n",
       "      <th>USC00088620</th>\n",
       "      <th>USC00088775</th>\n",
       "      <th>USC00088780</th>\n",
       "      <th>USC00088841</th>\n",
       "      <th>USC00089219</th>\n",
       "      <th>USC00089511</th>\n",
       "      <th>USC00089520</th>\n",
       "      <th>USC00089521</th>\n",
       "    </tr>\n",
       "    <tr>\n",
       "      <th>year</th>\n",
       "      <th></th>\n",
       "      <th></th>\n",
       "      <th></th>\n",
       "      <th></th>\n",
       "      <th></th>\n",
       "      <th></th>\n",
       "      <th></th>\n",
       "      <th></th>\n",
       "      <th></th>\n",
       "      <th></th>\n",
       "      <th></th>\n",
       "      <th></th>\n",
       "      <th></th>\n",
       "      <th></th>\n",
       "      <th></th>\n",
       "      <th></th>\n",
       "      <th></th>\n",
       "      <th></th>\n",
       "      <th></th>\n",
       "      <th></th>\n",
       "      <th></th>\n",
       "    </tr>\n",
       "  </thead>\n",
       "  <tbody>\n",
       "    <tr>\n",
       "      <th>1949.0</th>\n",
       "      <td>NaN</td>\n",
       "      <td>0.683895</td>\n",
       "      <td>0.683895</td>\n",
       "      <td>NaN</td>\n",
       "      <td>NaN</td>\n",
       "      <td>0.683895</td>\n",
       "      <td>NaN</td>\n",
       "      <td>0.683895</td>\n",
       "      <td>NaN</td>\n",
       "      <td>NaN</td>\n",
       "      <td>...</td>\n",
       "      <td>NaN</td>\n",
       "      <td>NaN</td>\n",
       "      <td>NaN</td>\n",
       "      <td>0.683895</td>\n",
       "      <td>0.683895</td>\n",
       "      <td>NaN</td>\n",
       "      <td>NaN</td>\n",
       "      <td>NaN</td>\n",
       "      <td>NaN</td>\n",
       "      <td>NaN</td>\n",
       "    </tr>\n",
       "    <tr>\n",
       "      <th>1950.0</th>\n",
       "      <td>NaN</td>\n",
       "      <td>0.683895</td>\n",
       "      <td>NaN</td>\n",
       "      <td>NaN</td>\n",
       "      <td>NaN</td>\n",
       "      <td>NaN</td>\n",
       "      <td>NaN</td>\n",
       "      <td>NaN</td>\n",
       "      <td>NaN</td>\n",
       "      <td>NaN</td>\n",
       "      <td>...</td>\n",
       "      <td>NaN</td>\n",
       "      <td>NaN</td>\n",
       "      <td>0.683895</td>\n",
       "      <td>NaN</td>\n",
       "      <td>0.683895</td>\n",
       "      <td>0.683895</td>\n",
       "      <td>NaN</td>\n",
       "      <td>NaN</td>\n",
       "      <td>0.683895</td>\n",
       "      <td>NaN</td>\n",
       "    </tr>\n",
       "    <tr>\n",
       "      <th>1951.0</th>\n",
       "      <td>NaN</td>\n",
       "      <td>0.683895</td>\n",
       "      <td>NaN</td>\n",
       "      <td>NaN</td>\n",
       "      <td>NaN</td>\n",
       "      <td>NaN</td>\n",
       "      <td>NaN</td>\n",
       "      <td>NaN</td>\n",
       "      <td>NaN</td>\n",
       "      <td>0.683895</td>\n",
       "      <td>...</td>\n",
       "      <td>NaN</td>\n",
       "      <td>NaN</td>\n",
       "      <td>0.683895</td>\n",
       "      <td>NaN</td>\n",
       "      <td>0.683895</td>\n",
       "      <td>0.683895</td>\n",
       "      <td>NaN</td>\n",
       "      <td>NaN</td>\n",
       "      <td>0.683895</td>\n",
       "      <td>NaN</td>\n",
       "    </tr>\n",
       "    <tr>\n",
       "      <th>1952.0</th>\n",
       "      <td>NaN</td>\n",
       "      <td>0.683895</td>\n",
       "      <td>NaN</td>\n",
       "      <td>NaN</td>\n",
       "      <td>NaN</td>\n",
       "      <td>NaN</td>\n",
       "      <td>NaN</td>\n",
       "      <td>NaN</td>\n",
       "      <td>NaN</td>\n",
       "      <td>0.683895</td>\n",
       "      <td>...</td>\n",
       "      <td>NaN</td>\n",
       "      <td>NaN</td>\n",
       "      <td>0.683895</td>\n",
       "      <td>NaN</td>\n",
       "      <td>0.683895</td>\n",
       "      <td>0.683895</td>\n",
       "      <td>NaN</td>\n",
       "      <td>NaN</td>\n",
       "      <td>0.683895</td>\n",
       "      <td>NaN</td>\n",
       "    </tr>\n",
       "    <tr>\n",
       "      <th>1953.0</th>\n",
       "      <td>NaN</td>\n",
       "      <td>0.683895</td>\n",
       "      <td>NaN</td>\n",
       "      <td>NaN</td>\n",
       "      <td>NaN</td>\n",
       "      <td>NaN</td>\n",
       "      <td>NaN</td>\n",
       "      <td>NaN</td>\n",
       "      <td>0.683895</td>\n",
       "      <td>0.683895</td>\n",
       "      <td>...</td>\n",
       "      <td>NaN</td>\n",
       "      <td>NaN</td>\n",
       "      <td>0.683895</td>\n",
       "      <td>NaN</td>\n",
       "      <td>0.683895</td>\n",
       "      <td>0.683895</td>\n",
       "      <td>NaN</td>\n",
       "      <td>NaN</td>\n",
       "      <td>0.683895</td>\n",
       "      <td>NaN</td>\n",
       "    </tr>\n",
       "    <tr>\n",
       "      <th>1954.0</th>\n",
       "      <td>NaN</td>\n",
       "      <td>0.683895</td>\n",
       "      <td>NaN</td>\n",
       "      <td>NaN</td>\n",
       "      <td>NaN</td>\n",
       "      <td>NaN</td>\n",
       "      <td>NaN</td>\n",
       "      <td>NaN</td>\n",
       "      <td>0.683895</td>\n",
       "      <td>0.683895</td>\n",
       "      <td>...</td>\n",
       "      <td>NaN</td>\n",
       "      <td>NaN</td>\n",
       "      <td>0.683895</td>\n",
       "      <td>NaN</td>\n",
       "      <td>0.683895</td>\n",
       "      <td>0.683895</td>\n",
       "      <td>NaN</td>\n",
       "      <td>NaN</td>\n",
       "      <td>0.683895</td>\n",
       "      <td>NaN</td>\n",
       "    </tr>\n",
       "    <tr>\n",
       "      <th>1955.0</th>\n",
       "      <td>NaN</td>\n",
       "      <td>0.683895</td>\n",
       "      <td>NaN</td>\n",
       "      <td>NaN</td>\n",
       "      <td>NaN</td>\n",
       "      <td>NaN</td>\n",
       "      <td>NaN</td>\n",
       "      <td>NaN</td>\n",
       "      <td>0.683895</td>\n",
       "      <td>0.683895</td>\n",
       "      <td>...</td>\n",
       "      <td>NaN</td>\n",
       "      <td>0.683895</td>\n",
       "      <td>0.683895</td>\n",
       "      <td>NaN</td>\n",
       "      <td>0.683895</td>\n",
       "      <td>0.683895</td>\n",
       "      <td>NaN</td>\n",
       "      <td>NaN</td>\n",
       "      <td>NaN</td>\n",
       "      <td>NaN</td>\n",
       "    </tr>\n",
       "    <tr>\n",
       "      <th>1956.0</th>\n",
       "      <td>NaN</td>\n",
       "      <td>0.683895</td>\n",
       "      <td>NaN</td>\n",
       "      <td>NaN</td>\n",
       "      <td>NaN</td>\n",
       "      <td>NaN</td>\n",
       "      <td>NaN</td>\n",
       "      <td>NaN</td>\n",
       "      <td>0.683895</td>\n",
       "      <td>0.683895</td>\n",
       "      <td>...</td>\n",
       "      <td>NaN</td>\n",
       "      <td>0.683895</td>\n",
       "      <td>0.683895</td>\n",
       "      <td>NaN</td>\n",
       "      <td>0.683895</td>\n",
       "      <td>0.683895</td>\n",
       "      <td>NaN</td>\n",
       "      <td>NaN</td>\n",
       "      <td>NaN</td>\n",
       "      <td>NaN</td>\n",
       "    </tr>\n",
       "    <tr>\n",
       "      <th>1957.0</th>\n",
       "      <td>NaN</td>\n",
       "      <td>0.683895</td>\n",
       "      <td>NaN</td>\n",
       "      <td>NaN</td>\n",
       "      <td>NaN</td>\n",
       "      <td>NaN</td>\n",
       "      <td>NaN</td>\n",
       "      <td>NaN</td>\n",
       "      <td>0.683895</td>\n",
       "      <td>0.683895</td>\n",
       "      <td>...</td>\n",
       "      <td>NaN</td>\n",
       "      <td>0.683895</td>\n",
       "      <td>0.683895</td>\n",
       "      <td>NaN</td>\n",
       "      <td>0.683895</td>\n",
       "      <td>0.683895</td>\n",
       "      <td>NaN</td>\n",
       "      <td>NaN</td>\n",
       "      <td>0.683895</td>\n",
       "      <td>NaN</td>\n",
       "    </tr>\n",
       "    <tr>\n",
       "      <th>1958.0</th>\n",
       "      <td>NaN</td>\n",
       "      <td>0.683895</td>\n",
       "      <td>NaN</td>\n",
       "      <td>NaN</td>\n",
       "      <td>NaN</td>\n",
       "      <td>NaN</td>\n",
       "      <td>NaN</td>\n",
       "      <td>NaN</td>\n",
       "      <td>0.683895</td>\n",
       "      <td>0.683895</td>\n",
       "      <td>...</td>\n",
       "      <td>NaN</td>\n",
       "      <td>0.683895</td>\n",
       "      <td>0.683895</td>\n",
       "      <td>NaN</td>\n",
       "      <td>0.683895</td>\n",
       "      <td>0.683895</td>\n",
       "      <td>NaN</td>\n",
       "      <td>NaN</td>\n",
       "      <td>0.683895</td>\n",
       "      <td>NaN</td>\n",
       "    </tr>\n",
       "  </tbody>\n",
       "</table>\n",
       "<p>10 rows × 80 columns</p>\n",
       "</div>"
      ],
      "text/plain": [
       "station  USC00080488  USC00080611  USC00080616  USC00080737  USC00080739  \\\n",
       "year                                                                       \n",
       "1949.0           NaN     0.683895     0.683895          NaN          NaN   \n",
       "1950.0           NaN     0.683895          NaN          NaN          NaN   \n",
       "1951.0           NaN     0.683895          NaN          NaN          NaN   \n",
       "1952.0           NaN     0.683895          NaN          NaN          NaN   \n",
       "1953.0           NaN     0.683895          NaN          NaN          NaN   \n",
       "1954.0           NaN     0.683895          NaN          NaN          NaN   \n",
       "1955.0           NaN     0.683895          NaN          NaN          NaN   \n",
       "1956.0           NaN     0.683895          NaN          NaN          NaN   \n",
       "1957.0           NaN     0.683895          NaN          NaN          NaN   \n",
       "1958.0           NaN     0.683895          NaN          NaN          NaN   \n",
       "\n",
       "station  USC00080845  USC00080992  USC00081271  USC00081276  USC00081305  \\\n",
       "year                                                                       \n",
       "1949.0      0.683895          NaN     0.683895          NaN          NaN   \n",
       "1950.0           NaN          NaN          NaN          NaN          NaN   \n",
       "1951.0           NaN          NaN          NaN          NaN     0.683895   \n",
       "1952.0           NaN          NaN          NaN          NaN     0.683895   \n",
       "1953.0           NaN          NaN          NaN     0.683895     0.683895   \n",
       "1954.0           NaN          NaN          NaN     0.683895     0.683895   \n",
       "1955.0           NaN          NaN          NaN     0.683895     0.683895   \n",
       "1956.0           NaN          NaN          NaN     0.683895     0.683895   \n",
       "1957.0           NaN          NaN          NaN     0.683895     0.683895   \n",
       "1958.0           NaN          NaN          NaN     0.683895     0.683895   \n",
       "\n",
       "station     ...       USC00088368  USC00088396  USC00088620  USC00088775  \\\n",
       "year        ...                                                            \n",
       "1949.0      ...               NaN          NaN          NaN     0.683895   \n",
       "1950.0      ...               NaN          NaN     0.683895          NaN   \n",
       "1951.0      ...               NaN          NaN     0.683895          NaN   \n",
       "1952.0      ...               NaN          NaN     0.683895          NaN   \n",
       "1953.0      ...               NaN          NaN     0.683895          NaN   \n",
       "1954.0      ...               NaN          NaN     0.683895          NaN   \n",
       "1955.0      ...               NaN     0.683895     0.683895          NaN   \n",
       "1956.0      ...               NaN     0.683895     0.683895          NaN   \n",
       "1957.0      ...               NaN     0.683895     0.683895          NaN   \n",
       "1958.0      ...               NaN     0.683895     0.683895          NaN   \n",
       "\n",
       "station  USC00088780  USC00088841  USC00089219  USC00089511  USC00089520  \\\n",
       "year                                                                       \n",
       "1949.0      0.683895          NaN          NaN          NaN          NaN   \n",
       "1950.0      0.683895     0.683895          NaN          NaN     0.683895   \n",
       "1951.0      0.683895     0.683895          NaN          NaN     0.683895   \n",
       "1952.0      0.683895     0.683895          NaN          NaN     0.683895   \n",
       "1953.0      0.683895     0.683895          NaN          NaN     0.683895   \n",
       "1954.0      0.683895     0.683895          NaN          NaN     0.683895   \n",
       "1955.0      0.683895     0.683895          NaN          NaN          NaN   \n",
       "1956.0      0.683895     0.683895          NaN          NaN          NaN   \n",
       "1957.0      0.683895     0.683895          NaN          NaN     0.683895   \n",
       "1958.0      0.683895     0.683895          NaN          NaN     0.683895   \n",
       "\n",
       "station  USC00089521  \n",
       "year                  \n",
       "1949.0           NaN  \n",
       "1950.0           NaN  \n",
       "1951.0           NaN  \n",
       "1952.0           NaN  \n",
       "1953.0           NaN  \n",
       "1954.0           NaN  \n",
       "1955.0           NaN  \n",
       "1956.0           NaN  \n",
       "1957.0           NaN  \n",
       "1958.0           NaN  \n",
       "\n",
       "[10 rows x 80 columns]"
      ]
     },
     "execution_count": 7,
     "metadata": {},
     "output_type": "execute_result"
    }
   ],
   "source": [
    "year_station_table=pdf.pivot(index='year', columns='station', values='coeff_2')\n",
    "year_station_table.head(10)"
   ]
  },
  {
   "cell_type": "markdown",
   "metadata": {
    "run_control": {
     "frozen": false,
     "read_only": false
    }
   },
   "source": [
    "### Estimating the effect of the year vs the effect of the station\n",
    "\n",
    "To estimate the effect of time vs. location on the first eigenvector coefficient we\n",
    "compute:\n",
    "\n",
    "* The average row: `mean-by-station`\n",
    "* The average column: `mean-by-year`\n",
    "\n",
    "We then compute the RMS before and after subtracting either  the row or the column vector."
   ]
  },
  {
   "cell_type": "code",
   "execution_count": 8,
   "metadata": {
    "run_control": {
     "frozen": false,
     "read_only": false
    }
   },
   "outputs": [
    {
     "name": "stdout",
     "output_type": "stream",
     "text": [
      "total RMS                   =  0.683894964797\n",
      "RMS removing mean-by-station=  2.55109828664e-16\n",
      "RMS removing mean-by-year   =  5.10495675555e-17\n"
     ]
    }
   ],
   "source": [
    "def RMS(Mat):\n",
    "    return np.sqrt(np.nanmean(Mat**2))\n",
    "\n",
    "mean_by_year=np.nanmean(year_station_table,axis=1)\n",
    "mean_by_station=np.nanmean(year_station_table,axis=0)\n",
    "tbl_minus_year = (year_station_table.transpose()-mean_by_year).transpose()\n",
    "tbl_minus_station = year_station_table-mean_by_station\n",
    "\n",
    "print 'total RMS                   = ',RMS(year_station_table)\n",
    "print 'RMS removing mean-by-station= ',RMS(tbl_minus_station)\n",
    "print 'RMS removing mean-by-year   = ',RMS(tbl_minus_year)"
   ]
  },
  {
   "cell_type": "code",
   "execution_count": 9,
   "metadata": {
    "run_control": {
     "frozen": false,
     "read_only": false
    }
   },
   "outputs": [
    {
     "name": "stdout",
     "output_type": "stream",
     "text": [
      "initial RMS= 0.683894964797\n",
      "0 after removing mean by year    = 5.10495675555e-17\n",
      "0 after removing mean by stations= 5.03801167101e-17\n",
      "1 after removing mean by year    = 7.68785375606e-18\n",
      "1 after removing mean by stations= 1.94166548033e-18\n",
      "2 after removing mean by year    = 7.28239671171e-19\n",
      "2 after removing mean by stations= 4.05647245222e-19\n",
      "3 after removing mean by year    = 2.74087060008e-19\n",
      "3 after removing mean by stations= 1.95421110559e-19\n",
      "4 after removing mean by year    = 1.41142443799e-19\n",
      "4 after removing mean by stations= 1.02270339197e-19\n"
     ]
    }
   ],
   "source": [
    "T=year_station_table\n",
    "print 'initial RMS=',RMS(T)\n",
    "for i in range(5):\n",
    "    mean_by_year=np.nanmean(T,axis=1)\n",
    "    T=(T.transpose()-mean_by_year).transpose()\n",
    "    print i,'after removing mean by year    =',RMS(T)\n",
    "    mean_by_station=np.nanmean(T,axis=0)\n",
    "    T=T-mean_by_station\n",
    "    print i,'after removing mean by stations=',RMS(T)"
   ]
  },
  {
   "cell_type": "code",
   "execution_count": null,
   "metadata": {
    "collapsed": true,
    "run_control": {
     "frozen": false,
     "read_only": false
    }
   },
   "outputs": [],
   "source": []
  }
 ],
 "metadata": {
  "anaconda-cloud": {},
  "hide_input": false,
  "kernelspec": {
   "display_name": "Python 2",
   "language": "python",
   "name": "python2"
  },
  "language_info": {
   "codemirror_mode": {
    "name": "ipython",
    "version": 2
   },
   "file_extension": ".py",
   "mimetype": "text/x-python",
   "name": "python",
   "nbconvert_exporter": "python",
   "pygments_lexer": "ipython2",
   "version": "2.7.12"
  },
  "toc": {
   "colors": {
    "hover_highlight": "#DAA520",
    "running_highlight": "#FF0000",
    "selected_highlight": "#FFD700"
   },
   "moveMenuLeft": true,
   "nav_menu": {
    "height": "174px",
    "width": "252px"
   },
   "navigate_menu": true,
   "number_sections": true,
   "sideBar": true,
   "threshold": 4,
   "toc_cell": false,
   "toc_section_display": "block",
   "toc_window_display": false
  },
  "widgets": {
   "state": {},
   "version": "1.0.0"
  }
 },
 "nbformat": 4,
 "nbformat_minor": 1
}
