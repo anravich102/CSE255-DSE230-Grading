{
 "cells": [
  {
   "cell_type": "code",
   "execution_count": 1,
   "metadata": {},
   "outputs": [
    {
     "name": "stdout",
     "output_type": "stream",
     "text": [
      "![CDF_daily_rainfall.png](my_figures/CDF_daily_rainfall.png)\n",
      "![Maine_climate.png](my_figures/Maine_climate.png)\n",
      "![NH_climate.png](my_figures/NH_climate.png)\n",
      "![PRCP.png](my_figures/PRCP.png)\n",
      "![SNWD_mean_3eig.png](my_figures/SNWD_mean_3eig.png)\n",
      "![TMINMAX.png](my_figures/TMINMAX.png)\n",
      "![c1_neg.png](my_figures/c1_neg.png)\n",
      "![c1_pos.png](my_figures/c1_pos.png)\n",
      "![c2_neg.png](my_figures/c2_neg.png)\n",
      "![c2_pos.png](my_figures/c2_pos.png)\n",
      "![c3_neg.png](my_figures/c3_neg.png)\n",
      "![c3_pos.png](my_figures/c3_pos.png)\n",
      "![coeff1_map.png](my_figures/coeff1_map.png)\n",
      "![coeff2_map.png](my_figures/coeff2_map.png)\n",
      "![coeff3_map.png](my_figures/coeff3_map.png)\n",
      "![correlation_matrix_SVD_PRCP.png](my_figures/correlation_matrix_SVD_PRCP.png)\n",
      "![correlation_matrix_raw_PRCP.png](my_figures/correlation_matrix_raw_PRCP.png)\n",
      "![cum_coeff.png](my_figures/cum_coeff.png)\n",
      "![cum_res.png](my_figures/cum_res.png)\n",
      "![cum_res3_PRCP.png](my_figures/cum_res3_PRCP.png)\n",
      "![hist_log_prob_PRCP.png](my_figures/hist_log_prob_PRCP.png)\n",
      "![mean_SNWD_map.png](my_figures/mean_SNWD_map.png)\n",
      "![varExplain1.png](my_figures/varExplain1.png)\n",
      "![varExplain2.png](my_figures/varExplain2.png)\n",
      "![varExplain_PRCP.png](my_figures/varExplain_PRCP.png)\n",
      "![varExplain_SVD_PRCP.png](my_figures/varExplain_SVD_PRCP.png)\n"
     ]
    }
   ],
   "source": [
    "L=!ls my_figures/\n",
    "for l in L:\n",
    "    print \"![%s](my_figures/%s)\"%(l,l)"
   ]
  },
  {
   "cell_type": "markdown",
   "metadata": {},
   "source": [
    "# Homework 5 Report\n",
    "\n",
    "This is the report of CSE255 Homework5. It analyzes the historical weather statistics of the states of New Hampshire and Maine. Besides, the data also contains two years' data from a station in Canada.\n",
    "\n",
    "The data we use comes from [NOAA](https://www.ncdc.noaa.gov/). Specifically, it was downloaded from This [FTP site](ftp://ftp.ncdc.noaa.gov/pub/data/ghcn/daily/).\n",
    "\n",
    "We focused on six measurements:\n",
    "* **TMIN, TMAX:** the daily minimum and maximum temperature.\n",
    "* **TOBS:** The average temperature for each day.\n",
    "* **PRCP:** Daily Percipitation (in mm)\n",
    "* **SNOW:** Daily snowfall (in mm)\n",
    "* **SNWD:** The depth of accumulated snow."
   ]
  },
  {
   "cell_type": "markdown",
   "metadata": {},
   "source": [
    "## Sanity Check\n",
    "\n",
    "We compare the statistics from NOAA with that from <a href=\"http://www.usclimatedata.com/climate/boston/massachusetts/united-states/usma0046\" target=\"_blank\">US Climate Data</a>.\n",
    "\n",
    "The graphs below show the minimum and maximum temperatures as well as the total precipitation for each month in both states.\n",
    "\n",
    "<table>\n",
    "   <tr>\n",
    "       <td><img src=\"my_figures/NH_climate.png\"></td>\n",
    "       <td><img src=\"my_figures/Maine_climate.png\"></td>\n",
    "       \n",
    "   </tr>\n",
    "</table>\n",
    "\n",
    "We can see that the temperature and total precipitation for each month in New Hampshire and Maine is quite similar since they are close to each other.\n",
    "The graphs below show the minimum and maimum temperatures we got from data.\n",
    "<p><img src=\"my_figures/TMINMAX.png\"></p>\n",
    "\n",
    "Once we translate Fahrenheit to Centigrade, it is obvious that minimum and maximum temperatures from NOAA agree with that from US Climate.\n",
    "\n",
    "The graph below shows PRCP we got from data.\n",
    "<p><img src=\"my_figures/PRCP.png\"></p>\n",
    "\n",
    "The average daily percipitation is around 3 mm. Let's assume 30 days for each month, and translate mm to inch.Then we can get 3.54 inch which agrees data from US Climate. Therefore, we can prove the correctness of our data."
   ]
  },
  {
   "cell_type": "markdown",
   "metadata": {
    "collapsed": true
   },
   "source": [
    "## PCA analysis\n",
    "\n",
    "For each of the six measurement, we compute the percentate of the variance explained as a function of the number of eigen-vectors used.\n",
    "\n",
    "The graph below shows the variance explaination for TMIN, TOBS and TMAX.\n",
    "<p><img src=\"my_figures/varExplain1.png\"></p>\n",
    "From the graph, we can find that top 5 eigenvectors explain around 23% of variance for TMIN, 37% for TOBS, 20% for TMAX. Therefore, TOBS is best explained by the top 5 eigenvectors and the first eigenvector explains 30% for the total variance.\n",
    "\n",
    "The graph below shows the variance explaination for SNOW, SNWD and PRCP.\n",
    "<p><img src=\"my_figures/varExplain2.png\"></p>\n",
    "The top 5 eigenvectors explain 13% of the variance for SNOW and 11% for PRCP. On the other hand, top 5 eigenvectors explain around 86% of variance for SNWD. This indicates that top 5 eigenvectors captures most of the variance of SNWD. Therefore, we will dig deeper into PCA analysis for SNWD."
   ]
  },
  {
   "cell_type": "markdown",
   "metadata": {},
   "source": [
    "## Analysis of snow depth\n",
    "\n",
    "The graph below shows mean snow depth during the year and the top three eigenvectors. The top 3 eigenvectors capture 78% of the variance.\n",
    "<p><img src=\"my_figures/SNWD_mean_3eig.png\"></p>\n",
    "We can find that in general, the snow starts at the beginning of December and ends at the beginning of April. In January and Feburary, the snow depth reaches the maximum of a year.\n",
    "Then, we will explain each of the eigen-functions. The first eigen-function(eig1) behaves similar to the mean of SNWD. The main difference is more smooth than the mean. Therefore, eig1 represents the overall snow depth above/below the mean without changing the distribution of snow depth during the winter.\n",
    "The second eigen-function(eig2) and the third one(eig3) behaves quite different form the first one. They corresponds to the changing distribution of the snow depth without changing the total snow depth.\n",
    "\n",
    "They can be interpreted as: \n",
    "* **eig2**: More snow in December and start of January, less snow in end of January and Febuary and mroe snow in March.\n",
    "\n",
    "* **eig3**: Slightly more snow in December, less snow in January and Febuary and more snow in March."
   ]
  },
  {
   "cell_type": "markdown",
   "metadata": {},
   "source": [
    "### Examples of reconstructions\n",
    "\n",
    "#### Coeff1\n",
    "Coeff1: most positive\n",
    "<p><img src=\"my_figures/c1_pos.png\"></p>\n",
    "Coeff1: most negative\n",
    "<p><img src=\"my_figures/c1_neg.png\"></p>\n",
    "\n",
    "Large positive coefficient 1 values indicates more snow than mean and large negative values indicates less snow than mean.\n",
    "\n",
    "#### Coeff2\n",
    "Coeff2: most positive\n",
    "<p><img src=\"my_figures/c2_pos.png\"></p>\n",
    "Coeff2: most negative\n",
    "<p><img src=\"my_figures/c2_neg.png\"></p>\n",
    "\n",
    "Large positive values of coeff2 correspond to a late snow season. Large positive values indicates more snow in Febuary and March (especially in mid March) and large negative values indicates more snow in January.\n",
    "\n",
    "\n",
    "#### Coeff3\n",
    "Coeff3: most positive\n",
    "<p><img src=\"my_figures/c3_pos.png\"></p>\n",
    "Coeff3: most negative\n",
    "<p><img src=\"my_figures/c3_neg.png\"></p>\n",
    "\n",
    "Large positive values of coeff2 correspond to a snow season with two spikes: one in the start of january, the other in March. Negative values of coeff3 correspond to a season with a single peak in the start of Febuary.\n"
   ]
  },
  {
   "cell_type": "markdown",
   "metadata": {
    "collapsed": true
   },
   "source": [
    "### Cumulative distribution of coefficients and residuals \n",
    "\n",
    "The graph below shows the cumulative distribution of residuals on different number of eigenvectors.\n",
    "<p><img src=\"my_figures/cum_res.png\"></p>\n",
    "\n",
    "We can find that when the number of eigenvectors we use increases, the probability of small residuals becomes higher. This is obvious since the more feature we use, the better performance we can achieve.\n",
    "\n",
    "The graph below shows the cumulative distribution of coefficients of different eigenvectors.\n",
    "<p><img src=\"my_figures/cum_coeff.png\"></p>\n",
    "\n",
    "The first finding is that the probability of coefficient being 0 is large for all three eigenvectors. This is because mean value can represent the overall distribution of snow depth and other 'features' doesn't change the value too much and is more likely to be small.\n",
    "\n",
    "For coeff_1, the probability of absolute value of coeff_1 less than 2000 is around 80% which means the fluctuation of the snow depth is not very significant. 20% probability of coeff_1 large than 2000 means that it is likely to have more snow depth than the mean.\n",
    "\n",
    "For coeff_2 and coeff_3, their distributions are quite similar. According to what we find before, they represent some \"abnormal cases\" such as late snow season or \"two peaks scenario\". However, we can find that in most cases, these \"abnormal cases\" don't happen frequently because the probability of coefficient being small is quite large. This matches our intuition as well. \n"
   ]
  },
  {
   "cell_type": "markdown",
   "metadata": {},
   "source": [
    "### Map of coefficient distribution over stations\n",
    "\n",
    "The graph below shows the map of coefficient_1 distribution over all stations except the Canadian station for convenience.\n",
    "\n",
    "<p><img src=\"my_figures/coeff1_map.png\"></p>\n",
    "\n",
    "We can find that some close stations have different average coefficient_1 value. Since coefficient_1 represents the overall snow depth more or less than mean value, this map can also represent the relative snow depth over different stations.\n",
    "\n",
    "The following two figures show the distribution of the second and third coefficients in the map.\n",
    "<p><img src=\"my_figures/coeff2_map.png\"></p>\n",
    "<p><img src=\"my_figures/coeff3_map.png\"></p>\n",
    "\n",
    "We can find that the color of most stations in both maps are close to the color representing zero which means that abnormal snow weather happens not frequently. Besides, the close stations have similar color in both maps."
   ]
  },
  {
   "cell_type": "markdown",
   "metadata": {},
   "source": [
    "## Analyze whether SNWD varies more from year to year or from place to place.\n",
    "\n",
    "First, we consider the first coefficient.\n",
    "\n",
    "\n",
    "\n",
    "| total RMS | RMS removing mean-by-station |RMS removing mean-by-year |fraction explained by staion(%) | fraction explained by year(%)\n",
    "| :- |:- |:- |:- |:-\n",
    "|1855.51190003 |1392.70899374 | 1339.59182266 | 24.9 | 27.8\n",
    "\n",
    "\n",
    "\n",
    "We can find that station and year have some impact on RMS because the snow depth changes every year and is different in different places. We can also find that they have similar impact on RMS. However, the year should explain more variance than station since the stations are close to each other and coeff_1 should be similar among different stations in the same year. The reason may be that some stations in our data are not so close to each other and some close stations have different coefficient_1 according to map of coefficient_1 distribution. \n",
    "\n",
    "Next, let's see the same experiment on the second and third coefficients.\n",
    "\n",
    "|Coefficient| total RMS | RMS removing mean-by-station |RMS removing mean-by-year |fraction explained by staion(%) | fraction explained by year(%)\n",
    "|:-| :- |:- |:- |:- |:-\n",
    "|2|977.398862638 |930.247992826 | 496.582543868 | 4.8 | 49.1\n",
    "|3|633.578643968 |593.927565955 | 301.443961333 | 6.3 | 52.5\n",
    "\n",
    "The effect on station is much less than the effect of year for both coefficients. The reason is that these two eigenvectors represent \"abnormal cases\" according to previous experiments and when some abnormal weather cases happen, most stations have similar snow depth in the same year. But the \"abnormal cases\" vary in different years and thus year explains much more variance than station."
   ]
  },
  {
   "cell_type": "markdown",
   "metadata": {},
   "source": [
    "## Analysis of correlation between percipitation across locations\n",
    "\n",
    "The reason why we don't choose percipitation for analysis in previous experiments is that the top eigenvectors cannot explain most variance as shown below.\n",
    "\n",
    "<p><img src=\"my_figures/varExplain_PRCP.png\"></p>\n",
    "\n",
    "Top 10 eigenvectors can only explain around 17.5% of variance. And the cumulative distribution of residual_3 (residual after adding mean, eigenvector_1, eigenvector_2 and eigenvector_3) shows that the residual is very likely to be large.\n",
    "\n",
    "<p><img src=\"my_figures/cum_res3_PRCP.png\"></p>\n",
    "\n",
    "The next graph shows CDF of daily rainfall. We can find that the probability of daily rainfall less than 100 is approximately 90%.\n",
    "<p><img src=\"my_figures/CDF_daily_rainfall.png\"></p>\n",
    "\n",
    "Therefore, it is hard to find the correlation of amount of rainfall across locations because stations close to each other has different rainfall in a single day. We focus on the correlation of whether it rains in a single day across locations instead.\n",
    "\n",
    "We compute the probability of two stations rain on the same day by\n",
    "$$\n",
    "P = {m \\choose l,n_1-l,n_2-l,m-n_1-n_2+l} /{m \\choose n_1}{m \\choose n_2}\n",
    "$$\n",
    "\n",
    "Where\n",
    "* $m$ : the total number of days (for which we have measurements for both stations).\n",
    "* $n_1$ : the number of days that it rained on station 1\n",
    "* $n_2$ : the number of days that it rained on station 2\n",
    "* $l$ : the number of days that it rained on both stations.\n",
    "\n",
    "And\n",
    "\n",
    "$$\n",
    "{m \\choose l,n_1-l,n_2-l,m-n_1-n_2+l} = \\frac{m!}{l! (n_1-l)! (n_2-l)! (m-n_1-n_2+l)!}\n",
    "$$\n",
    "\n",
    "We then calculate log probability for each pair of stations. The graph below shows histogram of distribution of p-values. 0.4 represents the p-value when comparing a station with itself. Most pair of sations have small p-value which means that the probability of  raining on any given day is not independent for the two stations.\n",
    "\n",
    "<p><img src=\"my_figures/hist_log_prob_PRCP.png\"></p>\n",
    "\n",
    "The next graph shows the correlation matrix of normalized log probability for each pair of stations.\n",
    "\n",
    "<p><img src=\"my_figures/correlation_matrix_raw_PRCP.png\"></p>\n",
    "\n",
    "We can find that in general, the normalized log probability that the overlap in rain days is random.\n",
    "\n",
    "Therefore, we use the same idea of PCA in previous experiments. We apply SVD to correlation matrix and we can find top 4 eigenvectors can explain 80% of the square magnitude of the matrix.\n",
    "\n",
    "<p><img src=\"my_figures/varExplain_SVD_PRCP.png\"></p>\n",
    "\n",
    "We pick the top4 eigenvectors and show the correlation matrix of the reordered data below:\n",
    "\n",
    "<p><img src=\"my_figures/correlation_matrix_SVD_PRCP.png\"></p>\n",
    "\n",
    "We can find that for the top 4 eigenvectors, the correlation of each pair of stations is much more larger than the normalized log probability that the overlap in rain days itself. And we can also see that the stations are more correlated in the top two eigenvectors than the other two."
   ]
  },
  {
   "cell_type": "markdown",
   "metadata": {
    "collapsed": true
   },
   "source": [
    "## Conclusion\n",
    "\n",
    "In this report, we show the analysis of snow depth in the states of New Hampshire and Maine using PCA. We use the top 3 eigenvectors of the covariance matrix and find the meaning of each eigenvector. We also study the three coefficients and corresponding residuals. We find year can explain most variance of coefficient 2 and 3 which matches the map of distribution of the two coefficients. Finally, we study the correlation of rainfall across stations by utilizing SVD and plot the correlation matrix of top 4 eigenvectors. "
   ]
  },
  {
   "cell_type": "code",
   "execution_count": null,
   "metadata": {
    "collapsed": true
   },
   "outputs": [],
   "source": []
  }
 ],
 "metadata": {
  "anaconda-cloud": {},
  "kernelspec": {
   "display_name": "Python [conda env:py27]",
   "language": "python",
   "name": "conda-env-py27-py"
  },
  "language_info": {
   "codemirror_mode": {
    "name": "ipython",
    "version": 2
   },
   "file_extension": ".py",
   "mimetype": "text/x-python",
   "name": "python",
   "nbconvert_exporter": "python",
   "pygments_lexer": "ipython2",
   "version": "2.7.13"
  }
 },
 "nbformat": 4,
 "nbformat_minor": 1
}
