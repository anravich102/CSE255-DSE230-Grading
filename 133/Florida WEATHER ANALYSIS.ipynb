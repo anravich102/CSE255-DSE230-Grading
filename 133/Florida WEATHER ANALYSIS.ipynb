{
 "cells": [
  {
   "cell_type": "markdown",
   "metadata": {},
   "source": [
    "# FLORIDA Weather Analysis"
   ]
  },
  {
   "cell_type": "markdown",
   "metadata": {},
   "source": [
    "This is a report about the weather patterns over the are of Florida. We have basically different kinds of measurements:\n",
    "\n",
    "- <b>TMIN,TMAX</b> -> Represents the daily minimum and maximum temperatures respectively in C.\n",
    "- <b>TOBS</b> -> Represents the daily average temperature in C\n",
    "- <b>PRCP</b> -> Represents the daily precipitation in mm\n",
    "- <b>SNOW</b> -> Represents the daily snowfall in m\n",
    "- <b>SNWD</b> -> Represents the depth of accumulated snow\n"
   ]
  },
  {
   "cell_type": "markdown",
   "metadata": {},
   "source": [
    "## Actual data representation\n",
    "\n",
    "<p> We obtain the actual data near Gainesville, which is the location that we get on the basis of Latitudes and Longitudes, from the US Climate Data. This is similar to our measurements for Min Temp, Max Temp and Precipitation.</p>\n",
    "\n",
    "<img alt = 'original', src = 'plots/sanity check1.png' width = 800px>"
   ]
  },
  {
   "cell_type": "markdown",
   "metadata": {},
   "source": [
    "## Analysis of Different Features Provided"
   ]
  },
  {
   "cell_type": "markdown",
   "metadata": {},
   "source": [
    "<p> We have been provided with different kinds of features and the first thing that we do is analyze them in order to see which ones are useful. We see how the different measurements vary throughout the year. </p>\n",
    "\n",
    "<p> First we see how the Minimum Temperature and the Maximum Temperature vary throughout the year:\n",
    "<img alt = 'TMIN_TMAX' src = 'plots/TMIN_TMAX.png' ></p>\n",
    "\n",
    "<p>\n",
    "In all the graphs following, curve 1 represents the Mean, curve 0 represents Mean+standard deviation and curve 2 represents Mean-standard deviation.\n",
    "<ul>\n",
    "<li>Standard deviation is more in months between january and june and between october and january as compared to between june and october.</li>\n",
    "<li> Also, temperature is low in January, goes to peak in July/August and falls again until December. </li>\n",
    "<ul> \n",
    "<li>In January, the min temp is about 100, max temp is about 215. This is the lowest minimum and maximum temperature all year</li>\n",
    "<li> In July, the min temp is about 220, max temp is about 325. This is the highest minimum and maximum temperature all year </li>\n",
    "</ul>\n",
    "</ul>\n",
    "</p>\n",
    "\n",
    "<br>\n",
    "<p> Now we see how average temperature and the precipitation vary throughout the year:\n",
    "<img alt = 'TOBS_Prec' src = 'plots/TOBS_Prec.png' ></p>\n",
    "\n",
    "\n",
    "<p>\n",
    "<ul>\n",
    "<li><b>Temperature</b></li>\n",
    "<ul>\n",
    "<li> Average temp per day in january is about 150 which is the least throughout the year\n",
    "<li> Average temperature per day in july is about 275 which is highest throughout the year </li>\n",
    "</ul>\n",
    "<li><b> Precipitation</b></li>\n",
    "<ul>\n",
    "<li> We can see that it rains consistently throughout the year.</li>\n",
    "<li> Rainfall is about 25mm in Jan to April and then increases to above 50mm in June end to Sept and then falls down again to around 25mm</li>\n",
    "</ul>\n",
    "</ul>\n",
    "</p>\n",
    "\n",
    "<br>\n",
    "<p> Now we look at the Snow and Snow Depth</p>\n",
    "<img alt = 'SNOWS' src = 'plots/SNOW_Depth.png'>\n",
    "</p>\n",
    "<p>Here we see that the amount of snow and snow depth is 0 most of the months with sudden increases in certain months. This can be attributed to the presence of noise in the data. Also, geographically there is no snow in Florida, so it confirms the fact that the values representing sudden increase are outliers in our data. So its safe to say that SNOW and SNWD are not required for our analysis. </p>"
   ]
  },
  {
   "cell_type": "markdown",
   "metadata": {},
   "source": [
    "<p> Now we plot the top 3 Eigen vectors for the remaining 4 measurements. </p>\n",
    "<p>Eigen vectors for TOBS and PRCP are given below \n",
    "<img alt = 'Eigen_Vectors_TOBS_PRCP' src = 'plots/Eigenvecs.png' >\n",
    "We observe that for TOBS the first eigen vector remains almost constant throughout the year. So it can be used as the average observation with which the rest of the observations are compared. \n",
    "</p>\n",
    "<br>\n",
    "<p>Eigen vectors for TMIN and TMAX are given below\n",
    "<img alt = 'Eigen_Vectors_TMIN_TMAX' src = 'plots/Eigenvecs_TMIN_TMAX.png' >\n",
    "</p>"
   ]
  },
  {
   "cell_type": "markdown",
   "metadata": {},
   "source": [
    "## Calculating the amount of variance explained by various Eigen Vectors"
   ]
  },
  {
   "cell_type": "markdown",
   "metadata": {},
   "source": [
    "Now we plot the amount of variance explained with respect to the eigen vectors to see the importance of eigen vectors\n",
    "\n",
    "<p><img alt = 'Variance Explained' src = 'plots/varexp1.png' ></p>\n",
    "<p><img alt = 'Variance Explained' src = 'plots/varexp2.png' ></p>\n",
    "\n",
    "<br>\n",
    "<p><ul>\n",
    "<li>Since there is barely any snow or snow depth, it's completely explained by our Eigen Vectors. However, it is still not useful for our analysis.</li>\n",
    "<li>About 42% of variance is explained by the first Eigen Vector itself for TOBS which is more than for any other measurement. Hence we can say that Average daily temperature is a very important aspect of measurement for our analysis.</li>\n",
    "<li>Very low variance is explained by the first eigen vector for TMIN as well as TMAX. So we can just consider TOBS instead of taking TMIN and TMAX for our analysis.</li>\n",
    "<li>As the number of eigen vectors increase the amount of variance explained increases linearly for precipitation. However it is still very low. Therefore, it's not very important for our analysis of weather </li>\n",
    "</ul>\n",
    "</p>\n",
    "\n",
    "<p>So, for our analysis we will only concentrate on <b>TOBS</b> ie Avg Daily Temperature </p>"
   ]
  },
  {
   "cell_type": "markdown",
   "metadata": {},
   "source": [
    "## Analysis of Average Daily Temperature TOBS"
   ]
  },
  {
   "cell_type": "markdown",
   "metadata": {},
   "source": [
    "<p> First we plot the mean of TOBS and see how it varies in a particular year over all the stations.</p>\n",
    "<img alt = 'Mean_TOBS' src = 'plots/TOBS_mean.png'>\n",
    "\n",
    "The graph gives us an idea of how the average temperature during the day changes during the course of the year for all the stations. The avg temp is lowest in the month of Jan at around 16C and then starts increasing and reaches its peak in July where the temperature reaches about 27.5C and stays in the same range till the month of September before dropping down."
   ]
  },
  {
   "cell_type": "markdown",
   "metadata": {},
   "source": [
    "<p> Now we see how the eigen vectors for TOBS explain the total variance </p>\n",
    "<img alt = 'Var_explained' src = 'plots/tobs_alleigen3.png'>\n",
    "<br>\n",
    "<p>\n",
    "Here we see that he first eigen vector itself captures about 42% of the total variance and the first 4 eigen vectors capture about 50% of the total variance and then the variance captured increases slowly as the number of eigen vectors are increased. Hence for our analysis we'll use only the top 4 eigen vectors.\n",
    "</p>\n",
    "\n",
    "<p>The top 4 eigen vectors can be visualized as follows: </p>\n",
    "<img alt = 'top_4_eigen' src = 'plots/eigs_tobs.png'>\n",
    "\n",
    "Here we see that the first eigen vector that explains about 40% of the variance remains close to constant throughout the year. "
   ]
  },
  {
   "cell_type": "markdown",
   "metadata": {},
   "source": [
    "<p> Here we see that no single Eigen vector has a shape similar to the mean. This means that no single eigen vector can explain the average temperature by itself. By just analyzing the graphical representation of the eigen vectors we can infer the following:\n",
    "<ul>\n",
    "<li>Eigen vector 4 has a shope similar to the mean in terms of ascent in the early months and descent in the later months. Eigen vectors 2 and 3 can be used to speed up or slow down this ascent and descent and eigne vector 1 can be used to get the peak value. </li>\n",
    "<li>So Eigen vector 1 represents a temperature that remains almost constant throught the year. </li>\n",
    "<li>Eigen vector 1 (near constant value) can be added to a combination of eigen vectors 2,3,4 between the months of April to Oct which would give us a peak value similar to that of the mean in between these months.</li>\n",
    "<li>Combination of eigen vectors 3 and 4 gives us the ascent of the curve from feb. Eigen vector 3 helps to spatially delay the ascent of Eigen vector 4 in order to achieve it.</li>\n",
    "<li>Combination of Eigen vector 2 along with eigen vector 4 can be used to get the descent of the curve from october. Eigen vector 2 prepones the descent of eigen vector 4 and spreads it spatially to get a descent similar to that of the mean.</li>\n",
    "</ul>\n",
    "</p>"
   ]
  },
  {
   "cell_type": "markdown",
   "metadata": {},
   "source": [
    "## Analysis of Eigen Vectors through reconstruction"
   ]
  },
  {
   "cell_type": "markdown",
   "metadata": {},
   "source": [
    "<p>Now we analyze the eigen vectors by reconstructing the representations in terms of mean and eigen vectors. </p>\n",
    "\n",
    "In our graphs, we have the following terminology:\n",
    "\n",
    "- Mean -> Represents the mean value\n",
    "- c0 -> Eigen Vector 1\n",
    "- c1 -> Eigen Vector 2\n",
    "- c2 -> Eigen Vector 3\n",
    "- Target -> The actual value of average temperature observed"
   ]
  },
  {
   "cell_type": "markdown",
   "metadata": {},
   "source": [
    "### Coeff 0"
   ]
  },
  {
   "cell_type": "markdown",
   "metadata": {},
   "source": [
    "<p>First we see the effect of Coeff 0 i.e the First Eigen Vector on the reconstruction. </p>\n",
    "<p>\n",
    "When c0 is most negative:\n",
    "<img alt = 'Coeff0_neg' src = 'plots/c0.png'>\n",
    "<br>\n",
    "When c0 is most positive\n",
    "<img alt = 'Coeff0_pos' src = 'plots/c0_2.png'>\n",
    "</p>"
   ]
  },
  {
   "cell_type": "markdown",
   "metadata": {},
   "source": [
    "From the above graphs, we observe that when c0 is highly negative, the target is below the mean and when c0 is highly positive the target is above the mean. So this means that the first eigen vector explains how the target behaves corresponding to the mean. As the value of the first eigen vector becomes more and more positive, the target moves up towards the mean and eventually goes above the mean."
   ]
  },
  {
   "cell_type": "markdown",
   "metadata": {},
   "source": [
    "### Coeff 2"
   ]
  },
  {
   "cell_type": "markdown",
   "metadata": {},
   "source": [
    "<p>Now we see the effect of Coeffecient 1 i.e the Second Eigen vector on reconstruction.</p>\n",
    "When c1 is most negative: \n",
    "<img alt = 'Coeff1_neg' src = 'plots/c1.png'>\n",
    "<br>\n",
    "When c1 is most positive:\n",
    "<img alt = 'Coeff1_pos' src = 'plots/c1_2.png'>"
   ]
  },
  {
   "cell_type": "markdown",
   "metadata": {},
   "source": [
    "From the above graphs we see that when coeff1 is highly negative the target is lower than mean in the beginning months and when the coeff1 is highly positive the target is atleast as high as the mean in the beginning months. So the second eigen vector explains how high the target is in the beginning months with respect to the mean. As the value of c1 becomes more and more positive the target starts getting higher and higher in the beginning months.\n",
    "Also in the middle months, when the second eigen vector is highly negative the peak is as high as the mean, as it becomes more and more positive the peak starts dropping below the mean."
   ]
  },
  {
   "cell_type": "markdown",
   "metadata": {},
   "source": [
    "### Coeff 3"
   ]
  },
  {
   "cell_type": "markdown",
   "metadata": {},
   "source": [
    "<p>Finally we see the effect of the third eigen vector on the reconstruction</p>\n",
    "When c2 is most negative:\n",
    "<img alt = 'Coeff2_neg' src = 'plots/c2_1.png'>\n",
    "<br>\n",
    "When c2 is most positive:\n",
    "<img alt = 'Coeff2_pos' src = 'plots/c2_2.png'>"
   ]
  },
  {
   "cell_type": "markdown",
   "metadata": {},
   "source": [
    "From the above graphs we see that when c2 is most negative, the target is lower than the mean in the later months but when c2 is highly positive the target is atleast as high as the mean in the later months. So the third eigen vector gives us an idea about the behavior of target with respect to mean in later months. As the third eigen vector becomes more and more positive the target goes higher and higher in the later months."
   ]
  },
  {
   "cell_type": "markdown",
   "metadata": {
    "collapsed": true
   },
   "source": [
    "## CONCLUSION"
   ]
  },
  {
   "cell_type": "markdown",
   "metadata": {
    "collapsed": true
   },
   "source": [
    "So, in this report we first analyzed the importance of various features for our area,which on the basis of coordinates we found to be near Gainesville in Florida, and did analysis on average temperature per day because its eigen vectors highly explain the variance compared to eigen vectors of other features.\n",
    "We then used eigen vectors to detect the behavior of target with respect to the mean. We found that the first eigen vector explains the height of target with respect to mean, the second eigen vector explains the behavior of target in the beginning months with respect to the mean and the third eigen vector explains the behavior of target in the later months with respect to mean."
   ]
  }
 ],
 "metadata": {
  "kernelspec": {
   "display_name": "Python 2",
   "language": "python",
   "name": "python2"
  },
  "language_info": {
   "codemirror_mode": {
    "name": "ipython",
    "version": 2
   },
   "file_extension": ".py",
   "mimetype": "text/x-python",
   "name": "python",
   "nbconvert_exporter": "python",
   "pygments_lexer": "ipython2",
   "version": "2.7.13"
  },
  "toc": {
   "colors": {
    "hover_highlight": "#DAA520",
    "running_highlight": "#FF0000",
    "selected_highlight": "#FFD700"
   },
   "moveMenuLeft": true,
   "nav_menu": {
    "height": "156px",
    "width": "252px"
   },
   "navigate_menu": true,
   "number_sections": true,
   "sideBar": true,
   "threshold": 4,
   "toc_cell": false,
   "toc_section_display": "block",
   "toc_window_display": false,
   "widenNotebook": false
  }
 },
 "nbformat": 4,
 "nbformat_minor": 2
}
