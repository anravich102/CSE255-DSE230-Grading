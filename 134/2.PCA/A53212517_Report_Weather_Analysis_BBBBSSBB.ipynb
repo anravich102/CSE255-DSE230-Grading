{
 "cells": [
  {
   "cell_type": "markdown",
   "metadata": {},
   "source": [
    "#  Homework-5. Spark Weather Analysis on Dataset BBBBSSBB\n",
    "\n",
    "# Name: Kollipara Rithwik PID:A53212517\n"
   ]
  },
  {
   "cell_type": "markdown",
   "metadata": {},
   "source": [
    "## Understanding the Dataset BBBBSSBB\n",
    "\n",
    "Here we are interested in Analyzing the Weather data.For the analysis we have used the BBBBSSBB Dataset.Up on observing the Dataset we can make the following conclusions\n",
    "\n",
    "\n",
    "* We see that there are 138 stations.\n",
    "* All the stations latitude and longitude are around 43 and -74 degrees. So we can tell that the stations are close by.\n",
    "* With the help of [google maps](https://www.google.com/maps/dir/San+Diego,+CA/43.6,-73.7331/@37.7740392,-104.5875406,5z/data=!3m1!4b1!4m8!4m7!1m5!1m1!1s0x80d9530fad921e4b:0xd3a21fdfd15df79!2m2!1d-117.1610838!2d32.715738!1m0) this region corresponds to Warrensburg, NY area and close by areas.\n",
    "* From the latitude and longitude we can pin point the place on globe but we still have to know the elevation of the station. The distibution of the elevation is as follows\n",
    "![image_distibution_elevation.png](Analysis/image_distibution_elevation.png)\n",
    "* At each station one or more of the following measurements were taken \n",
    "We focused on six measurements:\n",
    " **TMIN, TMAX:** the daily minimum and maximum temperature. **TOBS:** The average temperature for each day. **PRCP:** Daily Percipitation (in mm). **SNOW:** Daily snowfall (in mm). **SNWD:** The depth of accumulated snow.\n",
    "* We have collected the data over 121 years."
   ]
  },
  {
   "cell_type": "markdown",
   "metadata": {
    "collapsed": true
   },
   "source": [
    "## Plotting just two entries for TOBS,PRCP,SNOW,SNWD\n",
    "We can infer the following from the plots \n",
    "* For TOBS we took all the TOBS measurements and calculated mean and std dev and plotted then across time.We observe that During the months of summer Temperature is more than winter months and it is quite obvious also. \n",
    "![tobs_4_4.png](Analysis/tobs_4_4.png)\n",
    "\n",
    "* For SNOW we took all the SNOW measurements and calculated mean and std dev and plotted then across time.We observe that During the months of summer SNOW is less and in  winter months it will be high and it is quite obvious also. \n",
    "![SNOW_4_4.png](Analysis/SNOW_4_4.png)\n",
    "\n",
    "* For SNWD we took all the SNOW measurements and calculated mean and std dev and plotted then across time.We observe that During the months of summer SNWD is less and in  winter months it will be high and it is quite obvious also.\n",
    "![SNWD_4_4.png](Analysis/SNWD_4_4.png)\n",
    "* For Precipitation nothing definitive can be told its kind of constant through out the year\n",
    "![precp_4_4.png](Analysis/precp_4_4.png)"
   ]
  },
  {
   "cell_type": "markdown",
   "metadata": {},
   "source": [
    "## Sanity check\n",
    "These plots represent average trend across all the stations\n",
    "![MEAN_STD_SNOW_SNWD.png](Analysis/MEAN_STD_SNOW_SNWD.png)\n",
    "![MEAN_STD_TMIN_TMAX.png](Analysis/MEAN_STD_TMIN_TMAX.png)\n",
    "![MEAN_STD_TOBS_PRCP.png](Analysis/MEAN_STD_TOBS_PRCP.png)"
   ]
  },
  {
   "cell_type": "markdown",
   "metadata": {},
   "source": [
    "## Distribution of missing observations\n",
    "This has nothing to do with temperature and weather analysis.Because of unknown reasons some times the sensors might fail to collect the required data.Here we plot the count of number of sensors failed to collect data across time.We notice that it is not a uniform distribution.This is quite obvious because it might depend on external factors which are not uniform through out the year\n",
    "\n",
    "![MISSING_SNOW_SNWD.png](Analysis/MISSING_SNOW_SNWD.png)\n",
    "![MISSING_TMAX_TMIN.png](Analysis/MISSING_TMAX_TMIN.png)\n",
    "![MISSING_TOBS_PRCP.png](Analysis/MISSING_TOBS_PRCP.png)"
   ]
  },
  {
   "cell_type": "code",
   "execution_count": null,
   "metadata": {
    "collapsed": true
   },
   "outputs": [],
   "source": []
  },
  {
   "cell_type": "markdown",
   "metadata": {},
   "source": [
    "## Percentage of variance explained \n",
    "For each of the 6 different measurements we see how much variance is present in the measurements.We would ideally like if the data has majority of the variance in very few dimensions.So that we can analyze the data in low dimensional space because high dimensional space is higly contour intutive .So percentage of variance is one such tool by which we can see how much of the variance is along each eigen vector.We plot the percentage of variance plots versus number of eigen vectors plot below.\n",
    "We can tell the following trends about the measurement data from the plots.\n",
    "percentage of variance explained will always increase because covariance is a positive semi definite matrix and its eigen values are always non negative.\n",
    "* for TMIN,TMAX,TOBS the percentage of variance explained is less than 20 percent even if we consider top three eigen vectors it means that other eigen vectors also contribute significantly and we can expect the scatter plot in high dimension space to be kind of blob like structure rather than in one particular direction.\n",
    "\n",
    "* For SNWD we see some intresting trends. we see from the percentage of variance that with top 3 eigen vectors we can explain about 80 percent of the variance it means other dimensions are not that significant.\n",
    "\n",
    "* For snow and precipitation we see that the plot is like a straight line it means that the eigen values have similar values and variation in the measurement  directions is rougly same.\n",
    "![PERCENTAGE_VAR_4_4_1.png](Analysis/PERCENTAGE_VAR_4_4_1.png)\n",
    "![PERCENTAGE_VAR_4_4_2.png](Analysis/PERCENTAGE_VAR_4_4_2.png)"
   ]
  },
  {
   "cell_type": "markdown",
   "metadata": {},
   "source": [
    "## visualization of Top 3 eigen vectors of measurements\n",
    "The following plots are of the top three eigenvectors \n",
    "![TOP_EIG_SNOW_SNWD.png](Analysis/TOP_EIG_SNOW_SNWD.png)\n",
    "![TOP_EIG_TMIN_TMAX.png](Analysis/TOP_EIG_TMIN_TMAX.png)\n",
    "![TOP_EIG_TOBS_PRCP.png](Analysis/TOP_EIG_TOBS_PRCP.png)"
   ]
  },
  {
   "cell_type": "markdown",
   "metadata": {
    "collapsed": true
   },
   "source": [
    "## Lets try to Analyze the SNWD plots with eigen vectors\n",
    "* We first begin to see how the mean and eigen vectors look like.Here it is sufficient to see just top 3 eigen vectors because percentage of variance explained for these three is itself 80 percent.\n",
    "![SNWD_MEAN_EIGS.png](Analysis/45_snwd/SNWD_MEAN_EIGS.png)\n",
    "![PERCENT_VAR_EXP.png](Analysis/45_snwd/PERCENT_VAR_EXP.png)\n",
    "\n",
    "* Because we get good approximation with three eigen vectors only we try to see which stations have which components contributing\n",
    "* The below plots are obtained after the following process. we use three eigen vectors for reconstruction we select only those stations which have residue 3 less than 0.2 and sort them in ascending order of coeff of eigen vector 3.\n",
    " because we are sorting in ascending order we have all the coefficients of third eigen vector and second eigen vector negative and stations have positive SNWD.its because of high positive coeff of first eigen vector we have positive SNWD.\n",
    "![TOP_RECON_1.png](Analysis/45_snwd/TOP_RECON_1.png)\n",
    "*  The below plots are obtained after the following process. we use three eigen vectors for reconstruction we select only those stations which have residue 3 less than 0.2 and sort them in descending order of coeff of eigen vector 3.\n",
    " because we are sorting in descending order we have all the coefficients of third eigen vector positive here and it turns out that the first  eigen vector cefficient is positive and all second eigen vector coefficients are negative and stations have positive SNWD.its because of high positive coeff of first and third eigen vector we have positive SNWD.\n",
    " ![TOP_RECON_2.png](Analysis/45_snwd/TOP_RECON_2.png)"
   ]
  },
  {
   "cell_type": "markdown",
   "metadata": {},
   "source": [
    "## Analysis of PRCP \n",
    "* First we begin by analyzing the mean and top three eigen vectors of prcp measurement.\n",
    "From the figure we see that mean is kind of constant across the year.\n",
    "The below figure\n",
    "![45_prcp.png](Analysis/45_prcp/45_prcp.png)\n",
    "* We now see the percentage of variance explained is very low for top 3 eigen vectors itmeans data might be evenly distributed.\n",
    "* This fact can be verified from the reconstruction we see the residues are very high(0.99769742  0.99151569  0.99123341) for the top three eigen vectors. Also this fact can be explained visually from the reconstruction plots.Below figure explains the reconstruction.\n",
    "![failed_reconstruction.png](Analysis/45_prcp/failed_reconstruction.png)\n",
    "* The below figure explains the 12 best reconstructions.\n",
    "![12_set_1.png](Analysis/45_prcp/12_set_1.png)\n",
    "* The below figure explains the 12 worst reconstructions.\n",
    "![12_set_2.png](Analysis/45_prcp/12_set_2.png)\n",
    " "
   ]
  },
  {
   "cell_type": "markdown",
   "metadata": {},
   "source": [
    "## Analaysis of TOBS\n",
    "* First we begin by analyzing the mean and top three eigen vectors of TOBS measurement.\n",
    "From the figure we see that mean is kind of more in summer and less across the year.\n",
    "The below figure\n",
    "![mean_eig_vect.png](Analysis/45_tobs/mean_eig_vect.png)\n",
    "* We now see the percentage of variance explained is decent for top 3 eigen vectors.\n",
    "* This fact can be verified from the reconstruction we see descent reconstuction visually from the figure\n",
    "![best_reconstruction.png](Analysis/45_tobs/best_reconstruction.png)\n",
    "* The below figure explains the 12 best reconstructions.\n",
    "![12_set_1.png](Analysis/45_tobs/12_set_1.png)\n",
    "* The below figure explains the 12 worst reconstructions.\n",
    "![12_set_2.png](Analysis/45_tobs/12_set_2.png)"
   ]
  },
  {
   "cell_type": "markdown",
   "metadata": {},
   "source": [
    "## Below figure shows the location of the stations on the map\n",
    "![map.png](Analysis/map.png)"
   ]
  },
  {
   "cell_type": "markdown",
   "metadata": {},
   "source": [
    "## Analysis of variation across time or location\n",
    "* For SNWD\n",
    "total RMS                   =  1020.68427624\n",
    "RMS removing mean-by-station=  962.51228222\n",
    "RMS removing mean-by-year   =  598.862628768\n",
    "\n",
    "Hence we can conclude that SNWD measurement has temporal variation more than spatial variation \n",
    "\n",
    "* For PRCP\n",
    "total RMS                   =  158.052180225\n",
    "RMS removing mean-by-station=  155.519280141\n",
    "RMS removing mean-by-year   =  58.4925034989\n",
    "\n",
    "Hence we can conclude that PRCP measurement has temporal variation more than spatial variation \n",
    "\n",
    "* for TOBS\n",
    "total RMS                   =  163.457732464\n",
    "RMS removing mean-by-station=  152.71522681\n",
    "RMS removing mean-by-year   =  75.7351603322\n",
    "\n",
    "Hence we can conclude that TOBS measurement has temporal variation more than spatial variation \n",
    "\n",
    "All the above observations/Conclusions also make sense because all the stations are geographically close by and we can expect the climate to be kind of similar."
   ]
  },
  {
   "cell_type": "markdown",
   "metadata": {
    "collapsed": true
   },
   "source": [
    "## Statistical Inference on precipitation \n",
    "\n",
    "For precipitation percentage of variance explained is very less so we wish to explore further and get some more insight into the precipitaion data of the stations\n",
    "![cdf.png](Analysis/7/cdf.png)\n",
    "The above plot explains the following it means that less than 0.9 residue only about 10 percent of the stations are there and in 0.9 to 1.0 most of the stations are there it means that most of the variance is not along some eigen vectors.\n",
    "\n",
    "Now we wish to find correlation among the stations.we conclude that because the variance of the data is high its not possible to get good estimate of how much it rains in station 2 if it rains in station 1.We can just try to find coorealtion for if it rains for two stations.\n",
    "So we try to justify the correlation by a very famous statistical test called P test. the below is the hostogram for the significance.\n",
    "![significance.png](Analysis/7/significance.png)\n",
    "From the above figure it is clear that majority of the stations lie around 0.1 region.\n",
    "* The figure below explains the result of the correalation between the darker the region more the correlation(lower pnorm).\n",
    "![p_norm.png](Analysis/7/p_norm.png)"
   ]
  },
  {
   "cell_type": "markdown",
   "metadata": {},
   "source": [
    "### Finding structure in the rependency matrix.\n",
    "The matrix above shows, for each pair of stations, the normalized log probability that the overlap in rain days is random.\n",
    "\n",
    "We see immediately the first few stations are highly correlatedwith each other. \n",
    "\n",
    "To find more correlations we use SVD (the term PCA is reserved for decomposition of the covariance matrix).\n",
    "As we shall see that the top 10 eigenvectors explain about 80% of the square magnitude of the matrix.\n",
    "![photo_3.png](Analysis/7/photo_3.png)\n",
    "![photo_4.png](Analysis/7/photo_4.png)\n",
    "![plot_7.png](Analysis/7/plot_7.png)"
   ]
  }
 ],
 "metadata": {
  "kernelspec": {
   "display_name": "Python 2",
   "language": "python",
   "name": "python2"
  },
  "language_info": {
   "codemirror_mode": {
    "name": "ipython",
    "version": 2
   },
   "file_extension": ".py",
   "mimetype": "text/x-python",
   "name": "python",
   "nbconvert_exporter": "python",
   "pygments_lexer": "ipython2",
   "version": "2.7.13"
  }
 },
 "nbformat": 4,
 "nbformat_minor": 2
}
