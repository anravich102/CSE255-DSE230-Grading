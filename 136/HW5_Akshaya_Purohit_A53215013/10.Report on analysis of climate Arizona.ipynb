{
 "cells": [
  {
   "cell_type": "markdown",
   "metadata": {
    "run_control": {
     "frozen": false,
     "read_only": false
    }
   },
   "source": [
    "# Arizona-Southernn California Weather Analysis\n",
    "\n",
    "This is a report on the historical analysis of weather patterns in an area that approximately overlaps the area of Pheonix(Arizona) and Southern California.\n",
    "\n",
    "The data we will use here comes from [NOAA](https://www.ncdc.noaa.gov/). Specifically, it was downloaded from This [FTP site](ftp://ftp.ncdc.noaa.gov/pub/data/ghcn/daily/).\n",
    "\n",
    "We focused on six measurements:\n",
    "* **TMIN, TMAX:** the daily minimum and maximum temperature.\n",
    "* **TOBS:** The average temperature for each day.\n",
    "* **PRCP:** Daily Percipitation (in mm)\n",
    "* **SNOW:** Daily snowfall (in mm)\n",
    "* **SNWD:** The depth of accumulated snow.\n",
    "\n",
    "## Sanity-check: comparison with outside sources\n",
    "\n",
    "<p>We start by comparing some of the general statistics with graphs that we obtained from a site called <a href=\"http://www.usclimatedata.com/climate/phoenix/arizona/united-states/usaz0166\" target=\"_blank\">US Climate Data</a> The graph below shows the daily minimum and maximum temperatures for each month, as well as the total precipitation for each month.</p>\n",
    "\n",
    "<p>&nbsp;</p>\n",
    "<table>\n",
    "<tr>\n",
    "<th>\n",
    "<img alt=\"SanBerClimateChange.png\" src=\"ReportFigures/SanBerClimateChange.png\" style=\"width:450px;height:350px;\"/>\n",
    "</th>\n",
    "<th>\n",
    "<img alt=\"Phoenix_Climate_Change.png\" src=\"ReportFigures/Phoenix_Climate_Change.png\" style=\"width:450px;height:350px;\"/>\n",
    "</th>\n",
    "</tr>\n",
    "</table>\n",
    "\n",
    "\n",
    "<p>&nbsp;</p>\n",
    "\n",
    "<p>We see that the min and max daily&nbsp;temperature agree with the ones we got from our data</p>\n",
    "\n",
    "<p>&nbsp;</p>\n",
    "\n",
    "<p><img alt=\"TMIN,TMAX.png\" src=\"ReportFigures/MeanT.png\" style=\"height:300px; width:800px\" /></p>\n",
    "\n",
    "<p>To compare the precipitation&nbsp;we need to translate millimeter/day to inches/month. According to our analysis the average rainfall is 4.88 mm/day which translates to about 5.67 Inches&nbsp;per month. \n",
    "\n",
    "According to US-Climate-Data the average rainfall is closer to 4 inch per month.\n",
    "\n",
    "The precipitation is high during November-February and it is low during April-June for both the regions. This is in paralle with our data</p>\n",
    "\n",
    "<p>&nbsp;<img alt=\"PRCP.png\" src=\"ReportFigures/PRCP.png\"  /></p>\n"
   ]
  },
  {
   "cell_type": "markdown",
   "metadata": {
    "run_control": {
     "frozen": false,
     "read_only": false
    }
   },
   "source": [
    "## PCA analysis\n",
    "\n",
    "For each of the six measurement, we compute the percentate of the variance explained as a function of the number of eigen-vectors used.\n",
    "\n",
    "### Percentage of variance explained.\n",
    "![VarExplained1.png](ReportFigures/VarExplained1.png)\n",
    "We see that the top 5 eigen-vectors explain around 37% of variance for TMIN, 49% for TOBS and 24% for TMAX.\n",
    "\n",
    "We conclude that of the three, TOBS is best explained by the top 5 eigenvectors. This is especially true for the first eigen-vector which, by itself, explains around 38% of the variance.\n",
    "\n",
    "![VarExplained2.png](ReportFigures/VarExplained2.png)\n",
    "\n",
    "The top 5 eigenvectors explain 13% of the variance for PRCP (which is quite low), 50% for SNOW and it explains 85% of the variance for SNWD (which is really high value). The top 5 eigenvectors capture most of the variation in the snow signals. This could be attributed to the fact that there is little to no snowfall in these regions, leading to low variations in measurements. We will dig deeper into the PCA analysis for snow-depth since most of the information can be extracted using just a few top eigen vectors.\n",
    "\n",
    "It makes sense that SNWD would be less noisy than SNOW. That is because SNWD is a decaying integral of SNOW and, as such, varies less between days and between the same date on diffferent years.\n",
    "\n",
    "Next, we'll look at eigen-decomposition analysis for TOBS and SNWD due to the smaller number of required to explain high variance."
   ]
  },
  {
   "cell_type": "markdown",
   "metadata": {},
   "source": [
    "### Analysis of TOBS"
   ]
  },
  {
   "cell_type": "markdown",
   "metadata": {},
   "source": [
    "Using just top 4 eigen-vectors we can explain about 45% of the variance for TOBS. The tempetature reaches a maxima of ~$\\text{40}^{\\text{o}}$F in mid-July and follows a bell-curve over the year.\n",
    "\n",
    "![TOBSMeanEigen.png](ReportFigures/TOBSMeanEigen.png)\n",
    "\n",
    "The first two eigen-function (eig1 and eig2) match the curve for mean temperature. They show the overall trend of the temperature curve over the year. The value of eig2 is zero almost everywhere except near the peak, so when combined with eig1, it marks highlights the presence of peak. Negative values of eig1 shows temperature is below mean.\n",
    "\n",
    "Third and fourth eigen-functions (eig3 and eig4) resembles the mean precipitation curve. It could be inferred that they show the effect of rainfall on temperature.\n",
    "\n",
    "These vectors could be interpreted as:\n",
    "* **eig1**: Overall distribution of temperature.\n",
    "* **eig2**: Peak temperature over the year.\n",
    "* **eig3**: low temperature due to rain during Jan-April and high temperature due to rain in Oct-Dec.\n",
    "* **eig4**: high temperature due to rain during Jan-April and low temperature due to rain in Oct-Dec.\n",
    "\n",
    "#### Residual after using four eigen-vectors:\n",
    "\n",
    "![residualTOBS.png](ReportFigures/residualTOBS.png)\n",
    "\n",
    "It is clear from the curve that the residual is low and almost constant across all instances. This shows a good reconstruction using the eigen-vectors"
   ]
  },
  {
   "cell_type": "markdown",
   "metadata": {},
   "source": [
    "#### Examples of reconstruction"
   ]
  },
  {
   "cell_type": "markdown",
   "metadata": {},
   "source": [
    "**Coeff1:**\n",
    "\n",
    "* Coeff1 most positive:\n",
    "\n",
    "<p><img alt=\"c1Dec.png\" src=\"ReportFigures/c1Dec.png\" style=\"height:75%; width:75%\" /></p>\n",
    "Large positive values of coeff1 corresponds to lower temperatures than mean.\n",
    "\n",
    "* Coeff1 most negative:\n",
    "<p><img alt=\"c1Inc.png\" src=\"ReportFigures/c1Inc.png\" style=\"height:75%; width:75%\" /></p>\n",
    "Large negative values of coeff1 corresponds to higher temperatures than mean.\n",
    "\n",
    "**Coeff2:**\n",
    "\n",
    "* Coeff2 most positive:\n",
    "<p><img alt=\"c2Dec.png\" src=\"ReportFigures/c2Dec.png\" style=\"height:75%; width:75%\" /></p>\n",
    "Large positive values of coeff2 corresponds to higher peak temperature.\n",
    "\n",
    "* Coeff2 most negative:\n",
    "<p><img alt=\"c2Inc.png\" src=\"ReportFigures/c2Inc.png\" style=\"height:75%; width:75%\" /></p>\n",
    "Large negative values of coeff2 corresponds to lower peak temperatures.\n"
   ]
  },
  {
   "cell_type": "markdown",
   "metadata": {},
   "source": [
    "### Analysing year-to-year  vs. location-to-location variations in TOBS\n",
    "\n",
    "In the previous section we see the variation of Coeff1, which corresponds to overall temperature trend, with respect to location. We now estimate the relative importance of location-to-location variation relative to year-by-year variation.\n",
    "These are measured using the fraction by which the variance is reduced when we subtract from each station/year entry the average-per-year or the average-per-station respectively. Here are the results:\n",
    "\n",
    "\n",
    "\n",
    "**Coeff1**\n",
    "\n",
    "* total RMS                   =  706.344326214\n",
    "* RMS removing mean-by-station=  489.724403578, Fraction explained=30.67\n",
    "* RMS removing mean-by-year   =  648.535489084, Fraction explained=8.18\n",
    "\n",
    "**Coeff2**\n",
    "\n",
    "* total RMS                   =  500.027551927\n",
    "* RMS removing mean-by-station=  282.462991107, Fraction explained=43.51\n",
    "* RMS removing mean-by-year   =  350.938685829, Fraction explained=30.04\n",
    "\n",
    "\n",
    "**Coeff3**\n",
    "\n",
    "\n",
    "* total RMS                   =  186.587170803\n",
    "* RMS removing mean-by-station=  176.828409649, Fraction explained=05.23\n",
    "* RMS removing mean-by-year   =  125.864941319, Fraction explained=32.54\n",
    "\n",
    "\n",
    "**Coeff4**\n",
    "\n",
    "* total RMS                   =  832.562054782\n",
    "* RMS removing mean-by-station=  171.232805167, Fraction explained=79.43\n",
    "* RMS removing mean-by-year   =  129.581797357, Fraction explained=84.43\n",
    "\n",
    "\n",
    "We note that different eigen vectors are varying differently for time and location. Fraction explained by Coeff1 is really high for station based compution than year based, which tells that the overall trend in temperature doesn't change much over years and it rather changes more place to place. For Coeff3, the order is flipped. As discussed above that the third eigen-vector (eig3) tells information about temperature changes due to rainfall, it makes sense that the Coeff3 exlpains more year based data than station based because rain is highly likely to vary over years, but for nearby locations it rain will be similar. For Coeff2 and Coeff4, the fraction explained is almost same. Though it is noted that the fraction explained values for mean-by-year are increasing with every less dominant eigen-vector, telling that effect of year-by-year variations increase as we go into much depth of PCA.\n"
   ]
  },
  {
   "cell_type": "markdown",
   "metadata": {
    "run_control": {
     "frozen": false,
     "read_only": false
    }
   },
   "source": [
    "### Analysis of Snow-Depth\n",
    "\n",
    "We choose to analyze the eigen-decomposition for snow-depth because the first 3 eigen-vectors explain around 80% of the variance.\n",
    "\n",
    "First, we graph the mean and the top 3 eigen-vectors.\n",
    "\n",
    "We observe that the snow season is from mid-November to the end of January, where the middle of December marks the peak of the snow-depth.\n",
    "![SNWDMeanEigen.png](ReportFigures/SNWDMeanEigen.png)"
   ]
  },
  {
   "cell_type": "markdown",
   "metadata": {
    "run_control": {
     "frozen": false,
     "read_only": false
    }
   },
   "source": [
    "Next we interpret the eigen-functions. As can be observed from the Mean-curve, snowdepth is highest during December, followed by January and then November. We notice that the most dominant eigen-function (eig1), marks snowdepth in December, the second dominant (eig2), marks it for January and the third one (eig3), marks it for November. Thus, the eigen-functions are following the trend of snowdepth in the order of its magnitude.\n",
    "\n",
    "eig1 has peak has shape resembling peak in December and same is the case for eig2 and eig3, representing snowdepth peaks in January and November. eig1 and eig2 functions are reversed in sign though, when comared withthe Mean curve.\n",
    "\n",
    "They can be interpreted as follows:\n",
    "* **eig1:** high snowdepth in December.\n",
    "* **eig2:** high snowdepth in January.\n",
    "* **eig3:** high snowdepth in November.\n",
    "\n",
    "\n",
    "Following are a few examples of targets construct using eigen decomposition. The signal reconstruct using eigen-decomposition is almost perfect for all the cases. This is due the fact that there is little to no snow in this region. Because of this the variability in data is low and thus, a good reconstruction using just top 3 eigen vectors is possible.\n",
    "\n",
    "![SnowRecons.png](ReportFigures/SnowRecons.png)\n",
    "\n",
    "Since snowfall is not regular occurance in this region, it is of less significance to climate analysis study of the area. So, we will not further discuss it in this report.\n",
    "\n",
    "\n"
   ]
  },
  {
   "cell_type": "markdown",
   "metadata": {},
   "source": [
    "## Eigen-decomposition of Precipitation "
   ]
  },
  {
   "cell_type": "markdown",
   "metadata": {},
   "source": [
    "As seen above, the top 3 eigen-functions don't tell much about full distribution of precipitation. First, let's have a look at the mean precipitation and top 3 eigen vectors\n",
    "![PRCPMeanEigen.png](ReportFigures/PRCPMeanEigen.png)\n",
    "\n",
    "Next, we try to reconstruct a sample using these eigen-functions\n",
    "![PRCPRecons.png](ReportFigures/PRCPRecons.png) \n",
    "\n",
    "As can be seen from the figure above, the reconstructed vectors doesn't match the target vector. We'll need at around 100 eigen-vectors to match 70% of target.\n",
    "\n",
    "![PRCPPerVarFull.png](ReportFigures/PRCPPerVarFull.png)"
   ]
  },
  {
   "cell_type": "markdown",
   "metadata": {
    "run_control": {
     "frozen": false,
     "read_only": false
    }
   },
   "source": [
    "## Analysis of correlation between percipitation across locations\n",
    "\n",
    "We now analyze how the precipitation across different regions is related with each other. We want to find a statistical test for rejecting the null hypothesis that says that the rainfall in the two locations is independent.\n",
    "For this we ignore the actual amount of rainfall, as it can be too noisy under inner product and only consider if it rained in both places. We compute the probability associated with the number of overlaps under the null hypothesis.\n",
    "\n",
    "![RainMap.png](ReportFigures/RainMap.png)\n",
    "\n",
    "$$\\small \\textit{Size of circle: Number of observations || Color of circle: Amount of rainfall}$$\n",
    "\n",
    "\n",
    "Next plot shows how precipitation varies with elevation\n",
    "![ele.png](ReportFigures/ele.png)\n",
    "Coeff1 for precipitation follows the curve of Mean. It can be seen that there is high precipitation around 400units\n",
    "\n",
    "\n",
    "![CDFRain.png](ReportFigures/CDFRain.png)\n",
    "CDF plot for rain shows that for more that 90% of the days there is no rain in this region\n"
   ]
  },
  {
   "cell_type": "markdown",
   "metadata": {
    "run_control": {
     "frozen": false,
     "read_only": false
    }
   },
   "source": [
    "### Definition of statistical test\n"
   ]
  },
  {
   "cell_type": "markdown",
   "metadata": {
    "run_control": {
     "frozen": false,
     "read_only": false
    }
   },
   "source": [
    "Fix two stations. We restrict our attention to the days for which we have measurements for both stations, and define the following notation:\n",
    "* $m$ : the total number of days (for which we have measurements for both stations).\n",
    "* $n_1$ : the number of days that it rained on station 1\n",
    "* $n_2$ : the number of days that it rained on station 2\n",
    "* $l$ : the number of days that it rained on both stations.\n",
    "\n",
    "We want to calculate the probability that the number of overlap days is $l$ given $m,n_1,n_2$.\n",
    "\n",
    "The answer is:\n",
    "$$\n",
    "P = {m \\choose l,n_1-l,n_2-l,m-n_1-n_2+l} /{m \\choose n_1}{m \\choose n_2}\n",
    "$$\n",
    "\n",
    "Where\n",
    "$$\n",
    "{m \\choose l,n_1-l,n_2-l,m-n_1-n_2+l} = \\frac{m!}{l! (n_1-l)! (n_2-l)! (m-n_1-n_2+l)!}\n",
    "$$\n",
    "\n",
    "We use the fact that $\\Gamma(n+1) = n!$ and denote $G(n) \\doteq \\log \\Gamma(n+1)$\n",
    "$$\n",
    "\\log P = \\left[G(m) - G(l) -G(n_1-l) -G(n_2-l) -G(m-n_1-n_2+l) \\right] - \n",
    "\\left[G(m)-G(n_1)-G(m-n_1)\\right] - \\left[G(m)-G(n_2)-G(m-n_2)\\right]\n",
    "$$\n",
    "Which slightly simplifies to \n",
    "$$\n",
    "\\log P = -G(l) -G(n_1-l) -G(n_2-l) -G(m-n_1-n_2+l) - G(m)+G(n_1)+G(m-n_1) +G(n_2)+G(m-n_2)\n",
    "$$\n",
    "\n",
    "The log probability scales with $m$ the length of the overlap. So to get a per-day significance we consider $\n",
    "\\frac{1}{m} \\log P $"
   ]
  },
  {
   "cell_type": "markdown",
   "metadata": {},
   "source": [
    "### Correlations matrix"
   ]
  },
  {
   "cell_type": "markdown",
   "metadata": {
    "collapsed": true,
    "run_control": {
     "frozen": false,
     "read_only": false
    }
   },
   "source": [
    "We compute a log probaility matrix **P** which stores the probability, as defined above, for each pair of stations. Following graph shows the histogram of the negative log probability values. We can observe two peaks in the distribution at -0.05 and -0.15. A **0** value in the histogram marks a probability of **1**,i.e., guranteed rain in two stations for a randomly chosen day. This will be the case only when both the stations are same.\n",
    "\n",
    "![LogProb.png](ReportFigures/LogProb.png)\n",
    "\n",
    "Next we represent the rependency matrix as an image.\n",
    "\n",
    "<p><img alt=\"PMat.png\" src=\"ReportFigures/PMat.png\" style=\"height:40%; width:40%\" /></p>\n",
    "\n",
    "\n",
    "It can be observed that there is high correlation between the first ~80 stations and slight correlation between the next set of ~70 stations. Except a few stations, the two sets of stations are mostly uncorrelated. The dark diagonal line shows the correlation of a station with itself.\n",
    "\n",
    "The **strong correlation for a hugh set of stations is in parallel with our observation from the map**. There are a lot of observations from a small region in Arizona (Phoenix), and these should have depended rainfall pattern due to close proximity."
   ]
  },
  {
   "cell_type": "markdown",
   "metadata": {},
   "source": [
    "### SVD analysis"
   ]
  },
  {
   "cell_type": "markdown",
   "metadata": {},
   "source": [
    "To look more correlations into data, we do SVD analysis of the **P** matrix. Following curve shows the number of components of SVD vs. the variance explained by them. Around 80% of variance could be explained by using just 6 components.\n",
    "![PMatVar.png](ReportFigures/PMatVar.png)\n",
    "\n",
    "Next we look at the four dominant principle components' curves plotted for all the data points.\n",
    "\n",
    "![svd4.png](ReportFigures/svd4.png)\n",
    "\n",
    "The correlation matrices for the data observations for different principle components is plotted:\n",
    "\n",
    "![4box.png](ReportFigures/4box.png)\n",
    "It can be noted that the correlation pattern for the first (dominant) principle component is similar in pattern to the redendency matrix. For other components, the correlations between data observations vary across each.\n",
    "\n",
    "When we reorder the rows and columns of the matrix using one of the eigenvectors, the grouping of the \n",
    "stations becomes more evident. For example, consider the upper left corner of the scond matrix (The upper left one). The stations at positions 0-80 are clearly strongly correlated with each other. Even though there are some stations, in positions 60-80 or so, which are more related to each other than to the rest of this block.\n",
    "\n",
    "This type of organization is called **Block Diagonal** and it typically reveals important structure such as grouping or clustering."
   ]
  }
 ],
 "metadata": {
  "anaconda-cloud": {},
  "kernelspec": {
   "display_name": "Python 2",
   "language": "python",
   "name": "python2"
  },
  "language_info": {
   "codemirror_mode": {
    "name": "ipython",
    "version": 2
   },
   "file_extension": ".py",
   "mimetype": "text/x-python",
   "name": "python",
   "nbconvert_exporter": "python",
   "pygments_lexer": "ipython2",
   "version": "2.7.12"
  },
  "toc": {
   "colors": {
    "hover_highlight": "#DAA520",
    "running_highlight": "#FF0000",
    "selected_highlight": "#FFD700"
   },
   "moveMenuLeft": true,
   "nav_menu": {
    "height": "12px",
    "width": "252px"
   },
   "navigate_menu": true,
   "number_sections": true,
   "sideBar": true,
   "threshold": 4,
   "toc_cell": false,
   "toc_section_display": "block",
   "toc_window_display": false
  }
 },
 "nbformat": 4,
 "nbformat_minor": 2
}
