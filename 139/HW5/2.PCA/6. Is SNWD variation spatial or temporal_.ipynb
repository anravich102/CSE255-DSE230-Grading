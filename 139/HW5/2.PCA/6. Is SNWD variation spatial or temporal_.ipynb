{
 "cells": [
  {
   "cell_type": "markdown",
   "metadata": {
    "run_control": {
     "frozen": false,
     "read_only": false
    }
   },
   "source": [
    "## Analyze whether SNWD varies more from year to year or from place to place."
   ]
  },
  {
   "cell_type": "code",
   "execution_count": 2,
   "metadata": {
    "collapsed": true,
    "run_control": {
     "frozen": false,
     "read_only": false
    }
   },
   "outputs": [],
   "source": [
    "import pandas as pd\n",
    "import numpy as np\n",
    "import urllib\n",
    "import math"
   ]
  },
  {
   "cell_type": "code",
   "execution_count": 3,
   "metadata": {
    "collapsed": true,
    "run_control": {
     "frozen": false,
     "read_only": false
    }
   },
   "outputs": [],
   "source": [
    "import findspark\n",
    "findspark.init()\n",
    "\n",
    "from pyspark import SparkContext\n",
    "#sc.stop()\n",
    "sc = SparkContext(master=\"local[3]\",pyFiles=['lib/numpy_pack.py','lib/spark_PCA.py','lib/computeStats.py'])\n",
    "\n",
    "from pyspark import SparkContext\n",
    "from pyspark.sql import *\n",
    "sqlContext = SQLContext(sc)"
   ]
  },
  {
   "cell_type": "code",
   "execution_count": 4,
   "metadata": {
    "collapsed": true,
    "run_control": {
     "frozen": false,
     "read_only": false
    }
   },
   "outputs": [],
   "source": [
    "import sys\n",
    "sys.path.append('./lib')\n",
    "\n",
    "import numpy as np\n",
    "from numpy_pack import packArray,unpackArray\n",
    "from spark_PCA import computeCov\n",
    "from computeStats import computeOverAllDist, STAT_Descriptions"
   ]
  },
  {
   "cell_type": "code",
   "execution_count": 5,
   "metadata": {
    "run_control": {
     "frozen": false,
     "read_only": false
    },
    "scrolled": true
   },
   "outputs": [
    {
     "name": "stdout",
     "output_type": "stream",
     "text": [
      "('keys from STAT=', ['TMIN', 'TOBS', 'TMAX', 'SNOW', 'SNWD', 'PRCP'])\n",
      "953\n",
      "+------------------+-------------------+------------------+---------+--------+--------+---------+-----------+-------------------+-------------------+-------------------+-------------------+-----------+-----------+------+--------------------+------+\n",
      "|           coeff_1|            coeff_2|           coeff_3|elevation|   label|latitude|longitude|measurement|              res_1|              res_2|              res_3|           res_mean|    station|  total_var|undefs|              vector|  year|\n",
      "+------------------+-------------------+------------------+---------+--------+--------+---------+-----------+-------------------+-------------------+-------------------+-------------------+-----------+-----------+------+--------------------+------+\n",
      "| 2840.872029540231|-1025.2231097807962|-345.8072054342014|    412.1|BBSBSBSB| 47.3864| -92.8389|       SNWD|0.23536631597571686| 0.1357829369609797|0.12445324347418109|0.27092159257379306|USW00094931|3.8958865E7|     0|[C4 60 C4 60 28 6...|1989.0|\n",
      "|2514.2631698733176|   783.458386425922|438.24671204897055|    396.8|BBSBSBSB| 47.2467| -94.2228|       SNWD|0.22352087982872934|0.14812629013607623|0.12453532832935005|0.23205378083318354|USC00214652| 3.508351E7|     0|[58 5E 58 5E 58 5...|1996.0|\n",
      "+------------------+-------------------+------------------+---------+--------+--------+---------+-----------+-------------------+-------------------+-------------------+-------------------+-----------+-----------+------+--------------------+------+\n",
      "only showing top 2 rows\n",
      "\n"
     ]
    }
   ],
   "source": [
    "### Read the data frame from pickle file\n",
    "\n",
    "data_dir='../../Data/Weather'\n",
    "#file_index='BBBSBBBB'\n",
    "file_index='BBSBSBSB'\n",
    "meas='SNWD'\n",
    "\n",
    "from pickle import load\n",
    "\n",
    "#read statistics\n",
    "filename=data_dir+'/STAT_%s.pickle'%file_index\n",
    "STAT,STAT_Descriptions = load(open(filename,'rb'))\n",
    "print('keys from STAT=',STAT.keys())\n",
    "\n",
    "#!ls -ld $data_dir/*.parquet\n",
    "\n",
    "#read data\n",
    "filename=data_dir+'/decon_%s_%s.parquet'%(file_index,meas)\n",
    "\n",
    "df=sqlContext.read.parquet(filename)\n",
    "print(df.count())\n",
    "df.show(2)"
   ]
  },
  {
   "cell_type": "code",
   "execution_count": 6,
   "metadata": {
    "run_control": {
     "frozen": false,
     "read_only": false
    }
   },
   "outputs": [
    {
     "name": "stdout",
     "output_type": "stream",
     "text": [
      "['coeff_1', 'coeff_2', 'coeff_3', 'elevation', 'label', 'latitude', 'longitude', 'measurement', 'res_1', 'res_2', 'res_3', 'res_mean', 'station', 'total_var', 'undefs', 'vector', 'year']\n"
     ]
    }
   ],
   "source": [
    "print df.columns"
   ]
  },
  {
   "cell_type": "code",
   "execution_count": 13,
   "metadata": {
    "run_control": {
     "frozen": false,
     "read_only": false
    },
    "scrolled": true
   },
   "outputs": [
    {
     "name": "stdout",
     "output_type": "stream",
     "text": [
      "SELECT station, year, coeff_3 FROM weather\n"
     ]
    },
    {
     "data": {
      "text/html": [
       "<div>\n",
       "<style>\n",
       "    .dataframe thead tr:only-child th {\n",
       "        text-align: right;\n",
       "    }\n",
       "\n",
       "    .dataframe thead th {\n",
       "        text-align: left;\n",
       "    }\n",
       "\n",
       "    .dataframe tbody tr th {\n",
       "        vertical-align: top;\n",
       "    }\n",
       "</style>\n",
       "<table border=\"1\" class=\"dataframe\">\n",
       "  <thead>\n",
       "    <tr style=\"text-align: right;\">\n",
       "      <th></th>\n",
       "      <th>station</th>\n",
       "      <th>year</th>\n",
       "      <th>coeff_3</th>\n",
       "    </tr>\n",
       "  </thead>\n",
       "  <tbody>\n",
       "    <tr>\n",
       "      <th>0</th>\n",
       "      <td>USW00094931</td>\n",
       "      <td>1989.0</td>\n",
       "      <td>-345.807205</td>\n",
       "    </tr>\n",
       "    <tr>\n",
       "      <th>1</th>\n",
       "      <td>USC00214652</td>\n",
       "      <td>1996.0</td>\n",
       "      <td>438.246712</td>\n",
       "    </tr>\n",
       "    <tr>\n",
       "      <th>2</th>\n",
       "      <td>USW00014918</td>\n",
       "      <td>1989.0</td>\n",
       "      <td>-739.568878</td>\n",
       "    </tr>\n",
       "    <tr>\n",
       "      <th>3</th>\n",
       "      <td>USC00218543</td>\n",
       "      <td>1975.0</td>\n",
       "      <td>880.716217</td>\n",
       "    </tr>\n",
       "    <tr>\n",
       "      <th>4</th>\n",
       "      <td>USC00218543</td>\n",
       "      <td>1969.0</td>\n",
       "      <td>-1719.791201</td>\n",
       "    </tr>\n",
       "  </tbody>\n",
       "</table>\n",
       "</div>"
      ],
      "text/plain": [
       "       station    year      coeff_3\n",
       "0  USW00094931  1989.0  -345.807205\n",
       "1  USC00214652  1996.0   438.246712\n",
       "2  USW00014918  1989.0  -739.568878\n",
       "3  USC00218543  1975.0   880.716217\n",
       "4  USC00218543  1969.0 -1719.791201"
      ]
     },
     "execution_count": 13,
     "metadata": {},
     "output_type": "execute_result"
    }
   ],
   "source": [
    "#extract longitude and latitude for each station\n",
    "feature='coeff_1'\n",
    "sqlContext.registerDataFrameAsTable(df,'weather')\n",
    "#Features=', '.join(['coeff_1', 'coeff_2', 'coeff_3', 'elevation', 'latitude', 'longitude',\\\n",
    "#          'res_1', 'res_2', 'res_3', 'res_mean', 'year'])\n",
    "Features='station, year, coeff_3'\n",
    "Query=\"SELECT %s FROM weather\"%Features\n",
    "print(Query)\n",
    "pdf = sqlContext.sql(Query).toPandas()\n",
    "pdf.head()"
   ]
  },
  {
   "cell_type": "code",
   "execution_count": 14,
   "metadata": {
    "run_control": {
     "frozen": false,
     "read_only": false
    }
   },
   "outputs": [
    {
     "data": {
      "text/html": [
       "<div>\n",
       "<style>\n",
       "    .dataframe thead tr:only-child th {\n",
       "        text-align: right;\n",
       "    }\n",
       "\n",
       "    .dataframe thead th {\n",
       "        text-align: left;\n",
       "    }\n",
       "\n",
       "    .dataframe tbody tr th {\n",
       "        vertical-align: top;\n",
       "    }\n",
       "</style>\n",
       "<table border=\"1\" class=\"dataframe\">\n",
       "  <thead>\n",
       "    <tr style=\"text-align: right;\">\n",
       "      <th>station</th>\n",
       "      <th>CA006020559</th>\n",
       "      <th>CA006025203</th>\n",
       "      <th>CA006025205</th>\n",
       "      <th>CA006032119</th>\n",
       "      <th>CA006034075</th>\n",
       "      <th>CA006036904</th>\n",
       "      <th>USC00210059</th>\n",
       "      <th>USC00210515</th>\n",
       "      <th>USC00210520</th>\n",
       "      <th>USC00210643</th>\n",
       "      <th>...</th>\n",
       "      <th>USC00217460</th>\n",
       "      <th>USC00218543</th>\n",
       "      <th>USC00218618</th>\n",
       "      <th>USC00218621</th>\n",
       "      <th>USC00218700</th>\n",
       "      <th>USC00218763</th>\n",
       "      <th>USC00219059</th>\n",
       "      <th>USC00219173</th>\n",
       "      <th>USW00014918</th>\n",
       "      <th>USW00094931</th>\n",
       "    </tr>\n",
       "    <tr>\n",
       "      <th>year</th>\n",
       "      <th></th>\n",
       "      <th></th>\n",
       "      <th></th>\n",
       "      <th></th>\n",
       "      <th></th>\n",
       "      <th></th>\n",
       "      <th></th>\n",
       "      <th></th>\n",
       "      <th></th>\n",
       "      <th></th>\n",
       "      <th></th>\n",
       "      <th></th>\n",
       "      <th></th>\n",
       "      <th></th>\n",
       "      <th></th>\n",
       "      <th></th>\n",
       "      <th></th>\n",
       "      <th></th>\n",
       "      <th></th>\n",
       "      <th></th>\n",
       "      <th></th>\n",
       "    </tr>\n",
       "  </thead>\n",
       "  <tbody>\n",
       "    <tr>\n",
       "      <th>1948.0</th>\n",
       "      <td>NaN</td>\n",
       "      <td>NaN</td>\n",
       "      <td>NaN</td>\n",
       "      <td>NaN</td>\n",
       "      <td>NaN</td>\n",
       "      <td>NaN</td>\n",
       "      <td>NaN</td>\n",
       "      <td>NaN</td>\n",
       "      <td>NaN</td>\n",
       "      <td>245.342705</td>\n",
       "      <td>...</td>\n",
       "      <td>NaN</td>\n",
       "      <td>NaN</td>\n",
       "      <td>NaN</td>\n",
       "      <td>NaN</td>\n",
       "      <td>NaN</td>\n",
       "      <td>NaN</td>\n",
       "      <td>NaN</td>\n",
       "      <td>NaN</td>\n",
       "      <td>-488.162515</td>\n",
       "      <td>NaN</td>\n",
       "    </tr>\n",
       "    <tr>\n",
       "      <th>1949.0</th>\n",
       "      <td>NaN</td>\n",
       "      <td>NaN</td>\n",
       "      <td>NaN</td>\n",
       "      <td>NaN</td>\n",
       "      <td>NaN</td>\n",
       "      <td>NaN</td>\n",
       "      <td>NaN</td>\n",
       "      <td>NaN</td>\n",
       "      <td>NaN</td>\n",
       "      <td>512.117751</td>\n",
       "      <td>...</td>\n",
       "      <td>NaN</td>\n",
       "      <td>NaN</td>\n",
       "      <td>-106.823583</td>\n",
       "      <td>NaN</td>\n",
       "      <td>NaN</td>\n",
       "      <td>362.964820</td>\n",
       "      <td>1401.421696</td>\n",
       "      <td>NaN</td>\n",
       "      <td>544.048738</td>\n",
       "      <td>NaN</td>\n",
       "    </tr>\n",
       "    <tr>\n",
       "      <th>1950.0</th>\n",
       "      <td>NaN</td>\n",
       "      <td>NaN</td>\n",
       "      <td>NaN</td>\n",
       "      <td>NaN</td>\n",
       "      <td>NaN</td>\n",
       "      <td>NaN</td>\n",
       "      <td>NaN</td>\n",
       "      <td>NaN</td>\n",
       "      <td>NaN</td>\n",
       "      <td>-416.532177</td>\n",
       "      <td>...</td>\n",
       "      <td>373.986626</td>\n",
       "      <td>NaN</td>\n",
       "      <td>-526.919299</td>\n",
       "      <td>NaN</td>\n",
       "      <td>NaN</td>\n",
       "      <td>NaN</td>\n",
       "      <td>405.514701</td>\n",
       "      <td>NaN</td>\n",
       "      <td>-72.734605</td>\n",
       "      <td>NaN</td>\n",
       "    </tr>\n",
       "    <tr>\n",
       "      <th>1951.0</th>\n",
       "      <td>NaN</td>\n",
       "      <td>NaN</td>\n",
       "      <td>NaN</td>\n",
       "      <td>NaN</td>\n",
       "      <td>NaN</td>\n",
       "      <td>NaN</td>\n",
       "      <td>NaN</td>\n",
       "      <td>213.305221</td>\n",
       "      <td>NaN</td>\n",
       "      <td>-427.997304</td>\n",
       "      <td>...</td>\n",
       "      <td>288.718552</td>\n",
       "      <td>NaN</td>\n",
       "      <td>1385.280481</td>\n",
       "      <td>NaN</td>\n",
       "      <td>NaN</td>\n",
       "      <td>2588.760802</td>\n",
       "      <td>871.787517</td>\n",
       "      <td>NaN</td>\n",
       "      <td>656.296019</td>\n",
       "      <td>NaN</td>\n",
       "    </tr>\n",
       "    <tr>\n",
       "      <th>1952.0</th>\n",
       "      <td>NaN</td>\n",
       "      <td>NaN</td>\n",
       "      <td>NaN</td>\n",
       "      <td>NaN</td>\n",
       "      <td>NaN</td>\n",
       "      <td>NaN</td>\n",
       "      <td>162.142134</td>\n",
       "      <td>NaN</td>\n",
       "      <td>NaN</td>\n",
       "      <td>-716.366286</td>\n",
       "      <td>...</td>\n",
       "      <td>131.364964</td>\n",
       "      <td>NaN</td>\n",
       "      <td>-879.850975</td>\n",
       "      <td>NaN</td>\n",
       "      <td>NaN</td>\n",
       "      <td>540.678260</td>\n",
       "      <td>282.935115</td>\n",
       "      <td>NaN</td>\n",
       "      <td>110.432238</td>\n",
       "      <td>NaN</td>\n",
       "    </tr>\n",
       "    <tr>\n",
       "      <th>1953.0</th>\n",
       "      <td>NaN</td>\n",
       "      <td>NaN</td>\n",
       "      <td>NaN</td>\n",
       "      <td>NaN</td>\n",
       "      <td>NaN</td>\n",
       "      <td>NaN</td>\n",
       "      <td>179.483597</td>\n",
       "      <td>-97.943385</td>\n",
       "      <td>NaN</td>\n",
       "      <td>-311.549318</td>\n",
       "      <td>...</td>\n",
       "      <td>-471.610221</td>\n",
       "      <td>NaN</td>\n",
       "      <td>-169.896366</td>\n",
       "      <td>NaN</td>\n",
       "      <td>NaN</td>\n",
       "      <td>-297.761481</td>\n",
       "      <td>-430.166032</td>\n",
       "      <td>NaN</td>\n",
       "      <td>-679.560027</td>\n",
       "      <td>NaN</td>\n",
       "    </tr>\n",
       "    <tr>\n",
       "      <th>1954.0</th>\n",
       "      <td>NaN</td>\n",
       "      <td>NaN</td>\n",
       "      <td>NaN</td>\n",
       "      <td>NaN</td>\n",
       "      <td>NaN</td>\n",
       "      <td>NaN</td>\n",
       "      <td>-40.033294</td>\n",
       "      <td>-253.171967</td>\n",
       "      <td>NaN</td>\n",
       "      <td>-375.909564</td>\n",
       "      <td>...</td>\n",
       "      <td>-718.657727</td>\n",
       "      <td>NaN</td>\n",
       "      <td>-863.185106</td>\n",
       "      <td>NaN</td>\n",
       "      <td>NaN</td>\n",
       "      <td>202.774290</td>\n",
       "      <td>-403.573471</td>\n",
       "      <td>NaN</td>\n",
       "      <td>-751.439447</td>\n",
       "      <td>NaN</td>\n",
       "    </tr>\n",
       "    <tr>\n",
       "      <th>1955.0</th>\n",
       "      <td>NaN</td>\n",
       "      <td>NaN</td>\n",
       "      <td>NaN</td>\n",
       "      <td>NaN</td>\n",
       "      <td>NaN</td>\n",
       "      <td>NaN</td>\n",
       "      <td>1198.783749</td>\n",
       "      <td>1078.132460</td>\n",
       "      <td>NaN</td>\n",
       "      <td>1802.767111</td>\n",
       "      <td>...</td>\n",
       "      <td>139.503127</td>\n",
       "      <td>NaN</td>\n",
       "      <td>774.711927</td>\n",
       "      <td>NaN</td>\n",
       "      <td>NaN</td>\n",
       "      <td>1142.508309</td>\n",
       "      <td>875.590400</td>\n",
       "      <td>NaN</td>\n",
       "      <td>741.808338</td>\n",
       "      <td>NaN</td>\n",
       "    </tr>\n",
       "    <tr>\n",
       "      <th>1956.0</th>\n",
       "      <td>NaN</td>\n",
       "      <td>NaN</td>\n",
       "      <td>NaN</td>\n",
       "      <td>NaN</td>\n",
       "      <td>NaN</td>\n",
       "      <td>NaN</td>\n",
       "      <td>-83.450469</td>\n",
       "      <td>81.619539</td>\n",
       "      <td>NaN</td>\n",
       "      <td>266.180872</td>\n",
       "      <td>...</td>\n",
       "      <td>-663.437042</td>\n",
       "      <td>NaN</td>\n",
       "      <td>139.571605</td>\n",
       "      <td>NaN</td>\n",
       "      <td>NaN</td>\n",
       "      <td>956.755894</td>\n",
       "      <td>467.669179</td>\n",
       "      <td>NaN</td>\n",
       "      <td>488.996067</td>\n",
       "      <td>NaN</td>\n",
       "    </tr>\n",
       "    <tr>\n",
       "      <th>1957.0</th>\n",
       "      <td>NaN</td>\n",
       "      <td>NaN</td>\n",
       "      <td>NaN</td>\n",
       "      <td>NaN</td>\n",
       "      <td>NaN</td>\n",
       "      <td>NaN</td>\n",
       "      <td>853.201915</td>\n",
       "      <td>NaN</td>\n",
       "      <td>NaN</td>\n",
       "      <td>397.865956</td>\n",
       "      <td>...</td>\n",
       "      <td>898.461873</td>\n",
       "      <td>NaN</td>\n",
       "      <td>731.618796</td>\n",
       "      <td>NaN</td>\n",
       "      <td>NaN</td>\n",
       "      <td>679.049155</td>\n",
       "      <td>1215.004239</td>\n",
       "      <td>NaN</td>\n",
       "      <td>690.580716</td>\n",
       "      <td>NaN</td>\n",
       "    </tr>\n",
       "  </tbody>\n",
       "</table>\n",
       "<p>10 rows × 56 columns</p>\n",
       "</div>"
      ],
      "text/plain": [
       "station  CA006020559  CA006025203  CA006025205  CA006032119  CA006034075  \\\n",
       "year                                                                       \n",
       "1948.0           NaN          NaN          NaN          NaN          NaN   \n",
       "1949.0           NaN          NaN          NaN          NaN          NaN   \n",
       "1950.0           NaN          NaN          NaN          NaN          NaN   \n",
       "1951.0           NaN          NaN          NaN          NaN          NaN   \n",
       "1952.0           NaN          NaN          NaN          NaN          NaN   \n",
       "1953.0           NaN          NaN          NaN          NaN          NaN   \n",
       "1954.0           NaN          NaN          NaN          NaN          NaN   \n",
       "1955.0           NaN          NaN          NaN          NaN          NaN   \n",
       "1956.0           NaN          NaN          NaN          NaN          NaN   \n",
       "1957.0           NaN          NaN          NaN          NaN          NaN   \n",
       "\n",
       "station  CA006036904  USC00210059  USC00210515  USC00210520  USC00210643  \\\n",
       "year                                                                       \n",
       "1948.0           NaN          NaN          NaN          NaN   245.342705   \n",
       "1949.0           NaN          NaN          NaN          NaN   512.117751   \n",
       "1950.0           NaN          NaN          NaN          NaN  -416.532177   \n",
       "1951.0           NaN          NaN   213.305221          NaN  -427.997304   \n",
       "1952.0           NaN   162.142134          NaN          NaN  -716.366286   \n",
       "1953.0           NaN   179.483597   -97.943385          NaN  -311.549318   \n",
       "1954.0           NaN   -40.033294  -253.171967          NaN  -375.909564   \n",
       "1955.0           NaN  1198.783749  1078.132460          NaN  1802.767111   \n",
       "1956.0           NaN   -83.450469    81.619539          NaN   266.180872   \n",
       "1957.0           NaN   853.201915          NaN          NaN   397.865956   \n",
       "\n",
       "station     ...       USC00217460  USC00218543  USC00218618  USC00218621  \\\n",
       "year        ...                                                            \n",
       "1948.0      ...               NaN          NaN          NaN          NaN   \n",
       "1949.0      ...               NaN          NaN  -106.823583          NaN   \n",
       "1950.0      ...        373.986626          NaN  -526.919299          NaN   \n",
       "1951.0      ...        288.718552          NaN  1385.280481          NaN   \n",
       "1952.0      ...        131.364964          NaN  -879.850975          NaN   \n",
       "1953.0      ...       -471.610221          NaN  -169.896366          NaN   \n",
       "1954.0      ...       -718.657727          NaN  -863.185106          NaN   \n",
       "1955.0      ...        139.503127          NaN   774.711927          NaN   \n",
       "1956.0      ...       -663.437042          NaN   139.571605          NaN   \n",
       "1957.0      ...        898.461873          NaN   731.618796          NaN   \n",
       "\n",
       "station  USC00218700  USC00218763  USC00219059  USC00219173  USW00014918  \\\n",
       "year                                                                       \n",
       "1948.0           NaN          NaN          NaN          NaN  -488.162515   \n",
       "1949.0           NaN   362.964820  1401.421696          NaN   544.048738   \n",
       "1950.0           NaN          NaN   405.514701          NaN   -72.734605   \n",
       "1951.0           NaN  2588.760802   871.787517          NaN   656.296019   \n",
       "1952.0           NaN   540.678260   282.935115          NaN   110.432238   \n",
       "1953.0           NaN  -297.761481  -430.166032          NaN  -679.560027   \n",
       "1954.0           NaN   202.774290  -403.573471          NaN  -751.439447   \n",
       "1955.0           NaN  1142.508309   875.590400          NaN   741.808338   \n",
       "1956.0           NaN   956.755894   467.669179          NaN   488.996067   \n",
       "1957.0           NaN   679.049155  1215.004239          NaN   690.580716   \n",
       "\n",
       "station  USW00094931  \n",
       "year                  \n",
       "1948.0           NaN  \n",
       "1949.0           NaN  \n",
       "1950.0           NaN  \n",
       "1951.0           NaN  \n",
       "1952.0           NaN  \n",
       "1953.0           NaN  \n",
       "1954.0           NaN  \n",
       "1955.0           NaN  \n",
       "1956.0           NaN  \n",
       "1957.0           NaN  \n",
       "\n",
       "[10 rows x 56 columns]"
      ]
     },
     "execution_count": 14,
     "metadata": {},
     "output_type": "execute_result"
    }
   ],
   "source": [
    "year_station_table=pdf.pivot(index='year', columns='station', values='coeff_3')\n",
    "year_station_table.head(10)"
   ]
  },
  {
   "cell_type": "markdown",
   "metadata": {
    "run_control": {
     "frozen": false,
     "read_only": false
    }
   },
   "source": [
    "### Estimating the effect of the year vs the effect of the station\n",
    "\n",
    "To estimate the effect of time vs. location on the first eigenvector coefficient we\n",
    "compute:\n",
    "\n",
    "* The average row: `mean-by-station`\n",
    "* The average column: `mean-by-year`\n",
    "\n",
    "We then compute the RMS before and after subtracting either  the row or the column vector."
   ]
  },
  {
   "cell_type": "code",
   "execution_count": 15,
   "metadata": {
    "run_control": {
     "frozen": false,
     "read_only": false
    }
   },
   "outputs": [
    {
     "name": "stdout",
     "output_type": "stream",
     "text": [
      "total RMS                   =  710.360614167\n",
      "RMS removing mean-by-station=  672.647841391\n",
      "RMS removing mean-by-year   =  457.688315369\n"
     ]
    }
   ],
   "source": [
    "def RMS(Mat):\n",
    "    return np.sqrt(np.nanmean(Mat**2))\n",
    "\n",
    "mean_by_year=np.nanmean(year_station_table,axis=1)\n",
    "mean_by_station=np.nanmean(year_station_table,axis=0)\n",
    "tbl_minus_year = (year_station_table.transpose()-mean_by_year).transpose()\n",
    "tbl_minus_station = year_station_table-mean_by_station\n",
    "\n",
    "print 'total RMS                   = ',RMS(year_station_table)\n",
    "print 'RMS removing mean-by-station= ',RMS(tbl_minus_station)\n",
    "print 'RMS removing mean-by-year   = ',RMS(tbl_minus_year)"
   ]
  },
  {
   "cell_type": "code",
   "execution_count": 16,
   "metadata": {
    "run_control": {
     "frozen": false,
     "read_only": false
    }
   },
   "outputs": [
    {
     "name": "stdout",
     "output_type": "stream",
     "text": [
      "initial RMS= 710.360614167\n",
      "0 after removing mean by year    = 457.688315369\n",
      "0 after removing mean by stations= 415.401463928\n",
      "1 after removing mean by year    = 413.847657634\n",
      "1 after removing mean by stations= 413.664220048\n",
      "2 after removing mean by year    = 413.626305238\n",
      "2 after removing mean by stations= 413.615185778\n",
      "3 after removing mean by year    = 413.611043369\n",
      "3 after removing mean by stations= 413.609226055\n",
      "4 after removing mean by year    = 413.608341153\n",
      "4 after removing mean by stations= 413.607883279\n"
     ]
    }
   ],
   "source": [
    "T=year_station_table\n",
    "print 'initial RMS=',RMS(T)\n",
    "for i in range(5):\n",
    "    mean_by_year=np.nanmean(T,axis=1)\n",
    "    T=(T.transpose()-mean_by_year).transpose()\n",
    "    print i,'after removing mean by year    =',RMS(T)\n",
    "    mean_by_station=np.nanmean(T,axis=0)\n",
    "    T=T-mean_by_station\n",
    "    print i,'after removing mean by stations=',RMS(T)"
   ]
  },
  {
   "cell_type": "code",
   "execution_count": null,
   "metadata": {
    "collapsed": true,
    "run_control": {
     "frozen": false,
     "read_only": false
    }
   },
   "outputs": [],
   "source": []
  }
 ],
 "metadata": {
  "anaconda-cloud": {},
  "hide_input": false,
  "kernelspec": {
   "display_name": "Python 2",
   "language": "python",
   "name": "python2"
  },
  "language_info": {
   "codemirror_mode": {
    "name": "ipython",
    "version": 2
   },
   "file_extension": ".py",
   "mimetype": "text/x-python",
   "name": "python",
   "nbconvert_exporter": "python",
   "pygments_lexer": "ipython2",
   "version": "2.7.13"
  },
  "toc": {
   "colors": {
    "hover_highlight": "#DAA520",
    "running_highlight": "#FF0000",
    "selected_highlight": "#FFD700"
   },
   "moveMenuLeft": true,
   "nav_menu": {
    "height": "174px",
    "width": "252px"
   },
   "navigate_menu": true,
   "number_sections": true,
   "sideBar": true,
   "threshold": 4,
   "toc_cell": false,
   "toc_section_display": "block",
   "toc_window_display": false,
   "widenNotebook": false
  },
  "widgets": {
   "state": {},
   "version": "1.0.0"
  }
 },
 "nbformat": 4,
 "nbformat_minor": 1
}
