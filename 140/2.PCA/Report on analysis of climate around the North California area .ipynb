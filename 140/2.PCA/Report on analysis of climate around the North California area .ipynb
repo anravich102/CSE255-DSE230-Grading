{
 "cells": [
  {
   "cell_type": "markdown",
   "metadata": {},
   "source": [
    "<p style=\"font-size:32px\"> <b>North California  Weather analysis</b></p>\n",
    "\n",
    "This report describes historical analysis of weather patterns in the area of North California spanning from San Jose to Soledad. The data is taken from  [NOAA](https://www.ncdc.noaa.gov/).\n",
    "\n",
    "We restrict our analysis to six measurements:\n",
    "* **TMIN, TMAX:** the daily minimum and maximum temperature.\n",
    "* **TOBS:** The average temperature for each day.\n",
    "* **PRCP:** Daily Percipitation (in mm)\n",
    "* **SNOW:** Daily snowfall (in mm)\n",
    "* **SNWD:** The depth of accumulated snow.\n",
    "\n",
    "alongwith  metrices such as elevation and geographical locations of stations they are taken from."
   ]
  },
  {
   "cell_type": "markdown",
   "metadata": {},
   "source": [
    "# General analysis of the data\n",
    "We first calculate the overall statistics of the data. The figure below shows the number of entries (count), earliest and latest years of recorded data, mean and standard deviation for  each measurement.\n",
    "\n",
    "<p><img src=\"fig/general_overview.png\" /></p>\n",
    "\n",
    "We can observe that the data is well distributed among all measurements (except TOBS) in terms of counts as well the years spaned.\n",
    "\n",
    "We plot the stations for which the data is available on the map.\n",
    "\n",
    "<p><img src=\"fig/map.jpg\"/></p>\n",
    "\n",
    "<p><b>The total number of stations are 124.</b></p>\n",
    "\n",
    "\n",
    " \n",
    "\n",
    "The distribution of elevations is: <img src=\"fig/elevations.png\"/>\n",
    "\n",
    "Throughout the report the terms \"summer months\" and \"winter months\" refer to the generally accepted period of months when we observe the seasons respectively and not the statistically observed months, i.e., if we observe higher temperature in January we still address it as \"winter month\".\n"
   ]
  },
  {
   "cell_type": "markdown",
   "metadata": {
    "collapsed": true
   },
   "source": [
    "# Comparison with other sources\n",
    "\n",
    "<p>We compare some of the general statistics with graphs that we obtained from a site called <a href=\"http://www.usclimatedata.com/climate/san-jose/california/united-states/usca0993\" target=\"_blank\">US Climate Data</a> The graph below shows the daily minimum and maximum temperatures for each month, as well as the total precipitation for each month for the city of San Jose. Our analysis spans a larger region but as we can see above most stations are around San Jose.</p>\n",
    "\n",
    "\n",
    "<p><img src=\"fig/san-jose.png\"  /></p>\n",
    "\n",
    "\n",
    "We obtain the trends from our data for all 6 measurements.\n",
    "<p><img src=\"fig/trends2.png\"  /></p>\n",
    "<p><img src=\"fig/trends3.png\"  /></p>\n",
    "<p><img src=\"fig/trends.png\"  /></p>\n",
    "\n",
    "As we can observe, the trends for TMIN, TMAX and precipation are similar for both sources. The true values are not same because of the difference in units used. Additionally, we plot the trends for SNOW, SNWD and TOBS.\n",
    "\n",
    "Some general observations could be:\n",
    "- The minimum, maximum and average temperatures of the day  gradually increase at first, attaining a peek around the month of July, and then gradually decrease till January. This aligns with our understanding of weather seasons as well.\n",
    "- The precipitation observed is more in winters and hardly observed during the summer.\n",
    "- From the trends of SNOW and SNWD, we can observe that the mean SNOW and SNWD is very low (nearly 0) but the standard deviation values show a variation of +- 3, with maximum deviations upto 8 mm. This can be attributed to few hilly regions around the area.\n",
    "\n",
    "## Yearly trends\n",
    "Above we saw the trends across months for each measurement. Here, we show how the trends have varied over the years.\n",
    "\n",
    "<p> We obtain the temperature trends across a century for the state of california from <a href=\"http://www.mercurynews.com/2015/01/08/climate-change-2014-warmest-year-ever-recorded-in-california/\">an article on Mercurynews</a>\n",
    "</p>\n",
    "<p><img src=\"fig/yearly-trend.jpg\" /></p>\n",
    "\n",
    "Here we calculate the same for each measurement on our data\n",
    "<p><img src=\"fig/yearly1.png\"/></p>\n",
    "\n",
    "Here the trends for TMIN in our data and the average temperature for the outside source seem to be similar, both of which show a rise over the years.\n",
    "\n",
    "In the later sections we will use Linear Algebra and statistical tools to infer additional information from our data.\n",
    "\n"
   ]
  },
  {
   "cell_type": "markdown",
   "metadata": {},
   "source": [
    "# PCA  analysis\n",
    "\n",
    "Here, we compute the fraction of variance explained  against the number of eigen-vectors used.\n",
    "<p><img src=\"fig/pca1.png\"/></p>\n",
    "<p><img src=\"fig/pca2.png\"/></p>\n",
    "\n",
    "Here we can see that the 3 measurements for temperature and SNWD (to a certain extent) show some variance explained by the first few eigen vectors. The SNOW and PRCP measurements show a nearly-linear increase in variance explained. Hence we restrict our analysis for 2 attributes namely TOBS and SNWD for the later sections. "
   ]
  },
  {
   "cell_type": "markdown",
   "metadata": {
    "collapsed": true
   },
   "source": [
    "# Analysis of TOBS"
   ]
  },
  {
   "cell_type": "markdown",
   "metadata": {},
   "source": [
    "We begin by plotting the top 3 eigen vectors obtained after eigen-value decomposition of the data filtered for TOBS. We compare the eigen-vectors with mean and intend to infer some  trends about TOBS.\n",
    "\n",
    "<p><img src=\"fig/TOBS_mean_eig.png\"/></p>"
   ]
  },
  {
   "cell_type": "markdown",
   "metadata": {},
   "source": [
    "We will first interpret the eigen-functions. \n",
    "\n",
    "- The first eigen-function (**eig1**) is nearly constant with a small variation in the negative direction during the summer months. An interesting observation here is that the first eigen vector itself explains 50% of variance in the data, but the shape of the first eigen-vector does not show any characteristic features over the mean vector. We will investigate this in the next section.\n",
    "\n",
    "- **eig2** has a shape very similar to the mean vector, i.e, it depicts that the temperature increases during summer months and decreases in the winters.\n",
    "\n",
    "- **eig3** can be depicted as more temperature during April, May and June with a sharp decrease in temperature till October and a slight increase in the winter months.\n",
    "\n",
    "\n",
    " \n"
   ]
  },
  {
   "cell_type": "markdown",
   "metadata": {
    "collapsed": true
   },
   "source": [
    "## Analysing eig1\n",
    "As discussed in the first observation above, we analyse the attributes that can contribute to a high variance explained by eig1.\n",
    "\n",
    "We first reconstruct  the vectors  using eigen-value decomposition and obtain the coefficients for the first 3 eigen-vectors (coeff_1, coeff_2, coeff_3 respectively)  The reconstructions for each row provides a residual value each as  function of number of eigen vectors used. We call then res_1, res_2 , res_3 for the first 3 eigenvectors used respectively. These values are fractions over the residual obtained by subtracting the mean. This implies a higher value for residual shows less improvements over a reconstruction by taking just the mean vector.\n",
    "\n",
    "To analyse the shape of the eig1 we interpret that we  sort the rows by the value of coeff_1 in both ascending and descending orders and observe the value of res_3.\n",
    "\n",
    "\n",
    "**Most positive coeff_1 **\n",
    "<p><img src=\"fig/TOBS_eig1_des.png\"/></p>\n",
    "\n",
    "\n",
    "**Most negative coeff_1 **\n",
    "<p><img src=\"fig/TOBS_eig1_neg.png\"/></p>\n",
    "\n",
    "**Observations:**\n",
    "\n",
    "- Both positive and negative values align well with the shape of the target vector.\n",
    "- There is no trend in residual values on increasing or descreasing coeff_1 values.\n",
    "- The negative coeff_1 values correspond to vectors with  higher temperatures (around 400 in summers) and positive values reconstruct target vectors with lower average temperatures (around 200 in summers).\n",
    "\n",
    "**Note: the temperature values are 10 times the value in *C **\n"
   ]
  },
  {
   "cell_type": "markdown",
   "metadata": {
    "collapsed": true
   },
   "source": [
    "These observations do not align well with the shape of eig1 in general. Thus, we interpret the cumulative distribution of residuals and coeff_1 values.\n",
    "\n",
    "<p><img src= \"fig/TOBS_coeff1.png\"/></p>\n",
    "\n",
    "- It can be observed that around 50% of the instances have a residual fraction of over 0.6. \n",
    "- Also, the distribution of coeff_1 values is evenly spread on both sides of 0. \n",
    "- We also observe that coeff_1 values for target vectors with better reconstructions (res_3<0.4) and observe the coeff_1 values hardly assume a value around between -500 and 500, ie., the values are either highly positive or highly negative\n",
    "\n",
    "These are a clear indication that eig1 support deviations around the mean vector. An analysis of  cumulative residuals obtained by assuming a reconstruction using the mean vector supports the argument.\n",
    "\n",
    "<p><img src=\"fig/TOBS_mean_reconstruction_residual.png\"/></p>\n",
    "\n",
    "It can be observed that the res_mean for 80% of the instances is less than 0.2. Thus, we can conclude that the mean vector is a good approximation for the TOBS and eig1 depicts the deviations on both sides (positive and negative coeff_1) around the mean vector and hence does not have any characteristic features in its shape. The characteristic features are added by the later eigenvectors."
   ]
  },
  {
   "cell_type": "markdown",
   "metadata": {},
   "source": [
    "** We skip adding the plots of reconstruction trends by sorting coefficients for higher eigenvectors as they don't show any characteristic trend. This is expected as the mean vector itself is able to produce a good reconstruction.**"
   ]
  },
  {
   "cell_type": "markdown",
   "metadata": {},
   "source": [
    "## Temporal vs Spatial correlation analysis in TOBS"
   ]
  },
  {
   "cell_type": "markdown",
   "metadata": {},
   "source": [
    "We measure the importance of temperature variation by location and time.\n",
    "\n",
    "We first analyse the variations by station-to-station and year-to-year. We calculate the RMS values for each coeffiecients after reducing the mean by station and mean by year. A higher decrease in RMS with respect to the original value depicts that the mean (by location or time) explains the variance better.\n",
    "\n",
    "\n",
    "<p><img src=\"fig/TOBS_temp_spatial_variatn.png\"/></p>\n",
    "\n",
    "It can be observed that the variance is better explained by the location, ie., the variation in coefficients , when temperature is observed at a granuality of year, can be attributed to variation across  different locations.\n",
    "\n",
    "But the same is not observed when we observe the variation of raw values at a granuality of a day.\n",
    "<p><img src=\"fig/TOBS_temp_spatial_variatn_per_day.png\"/></p>"
   ]
  },
  {
   "cell_type": "markdown",
   "metadata": {},
   "source": [
    "Here, the mean-by-day explains more variations in the data.\n",
    "\n",
    "<p style=\"font-size:16px\"><b>Correlation between temperature values across stations</b></p>\n",
    "\n",
    "\n",
    "### Day-to-day Correlation\n",
    "\n",
    "We obtain the pearson correlation between the day-to-day temperature values for each station. A higher correlation here would imply that the temperature does not vary differently across stations on day to day basis justifying the numbers above.\n",
    "\n",
    "#### A correlation matrix visualization shows more disparate correlations \n",
    "<p><img src=\"fig/TOBS_stations_cor_matrix.png\"/></p>\n",
    "\n",
    "The darker cells here depict a correlation between 2 stations."
   ]
  },
  {
   "cell_type": "markdown",
   "metadata": {},
   "source": [
    "#### A distribution of the correlation values depict high levels of correlation\n",
    "<p><img src=\"fig/TOBS_station_cor_hist.png\"/></p>\n",
    "Here we can see that most station pairs have a correlation greater than 0.5.\n"
   ]
  },
  {
   "cell_type": "markdown",
   "metadata": {},
   "source": [
    "#### Plotting correlated stations on a map\n",
    "\n",
    "We plot the correlation of greater than 0.8 between 2 stations as a line on a map. \n",
    "<p><img src=\"fig/map_TOBS_station_correlation_per_day.png\"/></p>"
   ]
  },
  {
   "cell_type": "markdown",
   "metadata": {},
   "source": [
    "#### Day-to-day temperature value correlations across stations vs elevation \n",
    "An analysis of day-to-day correlation between stations and their relative elevations is shown below:\n",
    "<p><img src=\"fig/Scatter_TOBS_correlation_day_elevation.png\"/> </p>\n",
    "**Note : the peaks at Correlation value 0 corresponds to unavailable data where the correlation was defaulted to 0**"
   ]
  },
  {
   "cell_type": "markdown",
   "metadata": {},
   "source": [
    "**Observations:**\n",
    "- There is high level of correlation between the temperature of stations in a day. This implies the temperature doesn't vary differently much across the region. This explains the fact that most variations in the data is explained by subtracting the variations attributed by daily mean and not mean across stations.\n",
    "- The correlation do not show any trends with changes in elevations. This is strange as we expected more correlation between stations with lesser difference in elevation.  The correlation is still there irrespective of difference in elevation."
   ]
  },
  {
   "cell_type": "markdown",
   "metadata": {},
   "source": [
    "### Year-to-year correlation\n",
    "We obtain the pearson correlation between the  year-to-year mean temperature values for each station. \n",
    "A lower correlation here would imply that the temperature does vary across stations on year to year basis justifying the numbers above in 4.2."
   ]
  },
  {
   "cell_type": "markdown",
   "metadata": {},
   "source": [
    "#### A distribution of the correlation values depict moderate levels of correlation as compared to day-to-day correlation.\n",
    "<p><img src=\"fig/TOBS_station_cor_year_hist.png\"/>\n",
    "Here we can see  still that most station pairs have a correlation greater than 0.5 but  here we can find pairs with lower values , even negative correlations.</p>\n",
    "\n",
    "#### A correlation matrix visualization shows more disparate correlations \n",
    "<p><img src=\"fig/TOBS_stations_cor_year_matrix.png\"/></p>\n",
    "\n",
    "Here we have considered that a negative correlation is also correlated hence we take a absolute value  of correlations."
   ]
  },
  {
   "cell_type": "markdown",
   "metadata": {},
   "source": [
    "####  Correlated stations plotted on a map\n",
    "We plot the correlation of greater than 0.8 between 2 stations as a line on a map.\n",
    "<p><img src=\"fig/map_TOBS_station_correlation_year.png\"/></p>\n",
    "\n",
    "We can see the map is less dense than the one obtained for day-to-day correlation. But the positional distribution is still similar.\n",
    "\n",
    "\n",
    "#### Year-to-year temperature correlation between stations vs elevation :\n",
    "An analysis of  year-to-year temperature correlation vs difference in elevations is shown below:\n",
    "<p><img src=\"fig/Scatter_TOBS_correlation_year_elevation.png\"/></p>"
   ]
  },
  {
   "cell_type": "markdown",
   "metadata": {},
   "source": [
    "**Observations:**\n",
    "- There  are high levels of correlation between the temperature of stations in a year, but the  their  is more varaition in correlation values as compared to day-to-day values. This implies  that variation in temperature over the years is consistent across the region, but there is greater variation across years than there is across days. This explains the fact that the RMS reduced by subtrating mean-by-year was still significant.\n",
    "- The correlation do not show any trends with changes in elevations. The only observation could be that the correlation is positive for higher difference in elevations."
   ]
  },
  {
   "cell_type": "markdown",
   "metadata": {},
   "source": [
    "**Note : the peaks at Correlation value 0 corresponds to unavailable data where the correlation was defaulted to 0**"
   ]
  },
  {
   "cell_type": "markdown",
   "metadata": {
    "collapsed": true
   },
   "source": [
    "# Analysis of SNWD"
   ]
  },
  {
   "cell_type": "markdown",
   "metadata": {},
   "source": [
    "We begin by plotting the top 3 eigen vectors obtained after eigen-value decomposition of the data filtered for  SNWD  & the mean vector. "
   ]
  },
  {
   "cell_type": "markdown",
   "metadata": {},
   "source": [
    "<p><img src=\"fig/SNWD_mean_eig.png\"/></p>"
   ]
  },
  {
   "cell_type": "markdown",
   "metadata": {},
   "source": [
    "We will first interpret the mean vector.\n",
    "It shows that most of the snow is observed before April and after October with a spike in around May.\n",
    "\n",
    "Now we interpret the eigen-functions. \n",
    "\n",
    "- The first eigen-function (**eig1**)  can be intrepreted as more snow is observed in January and March and slightly in April.\n",
    "\n",
    "- **eig2**  captures the peak in May.\n",
    "\n",
    "- **eig3**   captures few days of less snow around end of January, medium snow in early Febraury, a dip in March and heavy snow in December. "
   ]
  },
  {
   "cell_type": "markdown",
   "metadata": {},
   "source": [
    "It should be noted that the first 3 eigen vectors explain  only 35% of the variance .\n",
    "\n",
    "As opposed to the case in TOBS here the mean vector is not a good approximation. This can be shown by plotting the residual after subtracting the mean.\n",
    "<p><img src=\"fig/SNWD_mean_reconstruction_residual.png\"/></p>\n",
    "Most instances have a residual value of above 0.94. So, mean is not a good reconstruction"
   ]
  },
  {
   "cell_type": "markdown",
   "metadata": {},
   "source": [
    "## Reconstructions using Eigen vectors"
   ]
  },
  {
   "cell_type": "markdown",
   "metadata": {},
   "source": [
    "Now we observe the reconstructions and corresponding residual values (after using first 3 eigenvectors) when each coefficient (coeff_1, coeff_2 and coeff_3) is sorted in ascending and descending order, i.e, the trends when the coefficient is most negative and when it is most positive and the cummulative distribution of number of instances vs residual 1,2,3 and coeff_1,2,3 respectively.\n",
    "\n",
    "### Coefficient 1:\n",
    "#### Cumulative distribution of res_1 and coeff_1\n",
    "<img src=\"fig/SNWD_coeff1.png\"/>\n",
    "\n",
    "Observations:\n",
    "\n",
    "- 80% of the instances have res_1 greater than 0.9\n",
    "- More than 80% instances have lower positive values for coeff_1.\n",
    "\n",
    "#### most negative:\n",
    "<img src=\"fig/SNWD_eig1_neg.png\"/>\n",
    "Observations:\n",
    "\n",
    "- The negative values for coeff_1 corresponds to indivual peaks in May, June and December and no snow otherwise . \n",
    "\n",
    "**Hence we can say that negative coeff_1 captures the anomalies in different months.**\n",
    "\n",
    "\n",
    "#### most positive:\n",
    "<img src=\"fig/SNWD_eig1_des.png\"/>\n",
    "Observations:\n",
    "\n",
    "- In general, most positive values of coeff_1 correspond to peaks of high snow in January, March and December .\n",
    "\n",
    "\n",
    "### Coefficient 2:\n",
    "\n",
    "\n",
    "#### Cumulative distribution of res_2 and coeff_2\n",
    "<img src=\"fig/SNWD_coeff2.png\"/>\n",
    "Observations:\n",
    "- More than 80% instances have res_2 greater than 0.9. This aligns with what was observed for res_1.\n",
    "- Nearly every instance (except a few) have a small positive value for coefficient 2.\n",
    "\n",
    "#### most negative:\n",
    "\n",
    "<img src=\"fig/SNWD_eig2_neg.png\"/>\n",
    "Observations:\n",
    "- Similar to coeff_1 , negative values of coeff_2 capture individual anomalies.\n",
    "- The residual values for such instances is  high (nearly 1.0)\n",
    "\n",
    "#### most positive :\n",
    "<img src=\"fig/SNWD_eig2_des.png\"/>\n",
    "Observations:\n",
    "-  The highly positive value captures the anomaly in May (similar to coeff_1).\n",
    "- Other positive values of coeff_2 correspond to a slightly more consistent information .ie., moderate snow in January, March and December.\n",
    "\n",
    "\n",
    "###   Coefficient 3:\n",
    "\n",
    "#### Cumulative distribution of res_3 and coeff_3\n",
    "<img src=\"fig/SNWD_coeff3.png\"/>\n",
    "Observations:\n",
    "- Similar to eigen vector 1 and 2, the coeff_3 is very small and positive for around 90% instances.\n",
    "- More than 85% instances have a  res_3 value > 0.8. \n",
    "\n",
    "#### most negative:\n",
    "<img src=\"fig/SNWD_eig3_neg.png\"/>\n",
    "Observations:\n",
    "- Negative values of coeff_3 correspond to a slightly more consistent information .ie., high snow in January, March and December.\n",
    "\n",
    "\n",
    "#### most positive:\n",
    "<img src=\"fig/SNWD_eig3_des.png\"/>\n",
    "Observations:\n",
    "- Highly positive values capture a peak in December for one of the instances and moderate snow in later part of January, April and December."
   ]
  },
  {
   "cell_type": "markdown",
   "metadata": {
    "collapsed": true
   },
   "source": [
    "## Temporal vs Spatial correlation analysis in SNWD"
   ]
  },
  {
   "cell_type": "markdown",
   "metadata": {},
   "source": [
    "Similar to the experiment conducted for TOBS, we analyze the importance of location and temporal information by capturing the reduction in variance of various coefficients and data.\n",
    "\n",
    "We first analyse the variations by station-to-station and year-to-year.\n",
    "<p><img src=\"fig/SNWD_temp_spatial_variatn.png\"/></p>\n",
    "\n",
    "It can be observed that the variance is better explained by the mean-by-year, ie., the variation in coefficients, when temperature is observed at a granuality of year, can be attributed to variation across different years (especially for coeff_3). It is not as profound for coeff_1 and coeff_2 but definitely better than mean-by-station.\n",
    "\n",
    "But the same is not observed when we observe the variation of raw values at a granuality of a day.\n",
    "<p><img src=\"fig/SNWD_temp_spatial_variatn_per_day.png\"/></p>\n",
    "Both mean-by-station and mean-by-day capture near to zero variance."
   ]
  },
  {
   "cell_type": "markdown",
   "metadata": {},
   "source": [
    "## Analyzing  correlation between SNWD across station\n",
    "\n",
    "Here we observe the correlation between SNWD values when obtained per day and when aggregated per year. \n",
    "We compare the 2 experiments and draw a parallel with the values obtained for TOBS."
   ]
  },
  {
   "cell_type": "markdown",
   "metadata": {},
   "source": [
    "**The plots on the left ocrrespond to values obtained for daily data and on the right correspond to values obtained for yearly data**\n",
    "### Distribution of correlation values\n",
    "<div>\n",
    "\n",
    "<div style=\"float:left\"><img src=\"fig/SNWD_station_cor_hist.png\"  /> </div>\n",
    "<div><img src=\"fig/SNWD_station_cor_year_hist.png\" /></div>\n",
    "</div>\n",
    "\n",
    "Here we can see more spread distribution for correlation values for day-to-day data than yearly data. We can see a slightly higher number of pairs with higher correlation values in the yearly data with few negatively correlated."
   ]
  },
  {
   "cell_type": "markdown",
   "metadata": {
    "collapsed": true
   },
   "source": [
    "### Correlation visualized as a matrix\n",
    "<div style=\"float:left\"><img src=\"fig/SNWD_stations_cor_matrix.png\"/></div>\n",
    "<div style=\"\"><img src=\"fig/SNWD_stations_cor_year_matrix.png\"/></div>\n",
    "\n",
    "The matrix  captures the inferences above. As we can see here, there are few  stations with high correlation but for those few the correlation value is quite high (nearly 1). This can be observed as a dark block on the lower right corner of the second plot."
   ]
  },
  {
   "cell_type": "markdown",
   "metadata": {},
   "source": [
    "### Correlated stations visualized as map\n",
    "&nbsp;\n",
    "\n",
    "<div style=\"float:left\"><img src=\"fig/map_SNWD_station_correlation_per_day.png\"/></div>\n",
    "<div ><img src=\"fig/map_SNWD_station_correlation_year.png\"/></div>\n",
    "\n",
    "On plotting the station pairs with correlation values above 0.8, we see a more clustered plot for yearly data as compared to daily data.\n"
   ]
  },
  {
   "cell_type": "markdown",
   "metadata": {},
   "source": [
    "### Correlation between stations vs difference in elevation\n",
    "\n",
    "<div style=\"float:left\"><img src=\"fig/Scatter_SNWD_correlation_day_elevation.png\"/></div>\n",
    "<div style=\"\"><img src=\"fig/Scatter_SNWD_correlation_year_elevation.png\"/></div>\n",
    "\n",
    "Here we can see, there is no correlation observed between  difference elevation and  levels of correlation between stations."
   ]
  },
  {
   "cell_type": "markdown",
   "metadata": {},
   "source": [
    "### Observations\n",
    "\n",
    "We can observe that as compared to TOBS, SNWD shows moderate levels of correlation between stations. Additionally the fewer number of points indicate more undefined values in the data.\n",
    "\n",
    "Additionally, we can observed some clusters (geographically) in the case of yearly data, i.e, there are few locations where SNWD is correleted."
   ]
  },
  {
   "cell_type": "markdown",
   "metadata": {
    "collapsed": true
   },
   "source": [
    "# Conclusion\n",
    "\n",
    "We analyzed 2 different measurements namely TOBS and SNWD. We observed high variance explained in the case of TOBS and on further analysis we observed that the mean  to be a good approximation .  We also  observed high correlation between locations on both daily and yearly data.\n",
    "\n",
    "In contrast, we picked up a measurement where the first few eigen vectors explained a moderate amount of variance. The same was observed in the reconstructions where high and low values captured anomalous target instances and  were different from the mean. The correlation between locations was much more sparse in this case but we observed definitive clusters in the case of yearly data."
   ]
  }
 ],
 "metadata": {
  "kernelspec": {
   "display_name": "Python 2",
   "language": "python",
   "name": "python2"
  },
  "language_info": {
   "codemirror_mode": {
    "name": "ipython",
    "version": 2
   },
   "file_extension": ".py",
   "mimetype": "text/x-python",
   "name": "python",
   "nbconvert_exporter": "python",
   "pygments_lexer": "ipython2",
   "version": "2.7.12"
  },
  "toc": {
   "colors": {
    "hover_highlight": "#DAA520",
    "running_highlight": "#FF0000",
    "selected_highlight": "#FFD700"
   },
   "moveMenuLeft": true,
   "nav_menu": {
    "height": "48px",
    "width": "253px"
   },
   "navigate_menu": true,
   "number_sections": true,
   "sideBar": true,
   "threshold": 4,
   "toc_cell": false,
   "toc_section_display": "block",
   "toc_window_display": false,
   "widenNotebook": false
  }
 },
 "nbformat": 4,
 "nbformat_minor": 2
}
