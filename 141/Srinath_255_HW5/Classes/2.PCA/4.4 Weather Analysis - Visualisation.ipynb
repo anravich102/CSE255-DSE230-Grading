{
 "cells": [
  {
   "cell_type": "markdown",
   "metadata": {
    "deletable": true,
    "editable": true,
    "run_control": {
     "frozen": false,
     "read_only": false
    }
   },
   "source": [
    "### Visualizing the distribution of the observations\n",
    "\n",
    "### Load the required libraries"
   ]
  },
  {
   "cell_type": "code",
   "execution_count": 4,
   "metadata": {
    "collapsed": true
   },
   "outputs": [],
   "source": [
    "sc.stop()"
   ]
  },
  {
   "cell_type": "code",
   "execution_count": 5,
   "metadata": {
    "collapsed": false,
    "deletable": true,
    "editable": true,
    "run_control": {
     "frozen": false,
     "read_only": false
    },
    "slideshow": {
     "slide_type": "slide"
    }
   },
   "outputs": [
    {
     "name": "stdout",
     "output_type": "stream",
     "text": [
      "Populating the interactive namespace from numpy and matplotlib\n",
      "keys from STAT= ['TMIN', 'TOBS', 'TMAX', 'SNOW', 'SNWD', 'PRCP']\n",
      "12107\n",
      "+---------+--------+---------+-----------+-----------+------+--------------------+------+--------+\n",
      "|elevation|latitude|longitude|measurement|    station|undefs|              vector|  year|   label|\n",
      "+---------+--------+---------+-----------+-----------+------+--------------------+------+--------+\n",
      "|      3.0| 29.8667| -84.6667|       TMAX|USC00081356|     3|[C8 5A E0 54 40 5...|1900.0|BSBSSSSS|\n",
      "|      3.0| 29.8667| -84.6667|       TMAX|USC00081356|    11|[90 59 40 5A 60 5...|1901.0|BSBSSSSS|\n",
      "|      3.0| 29.8667| -84.6667|       TMAX|USC00081356|     5|[28 58 E0 58 60 5...|1902.0|BSBSSSSS|\n",
      "|      3.0| 29.8667| -84.6667|       TMAX|USC00081356|    34|[20 5B 10 5A 98 5...|1903.0|BSBSSSSS|\n",
      "|      3.0| 29.8667| -84.6667|       TMAX|USC00081356|    31|[E8 59 C8 5A E8 5...|1904.0|BSBSSSSS|\n",
      "+---------+--------+---------+-----------+-----------+------+--------------------+------+--------+\n",
      "only showing top 5 rows\n",
      "\n"
     ]
    }
   ],
   "source": [
    "import pandas as pd\n",
    "import numpy as np\n",
    "import sklearn as sk\n",
    "import urllib\n",
    "import math\n",
    "%pylab inline\n",
    "\n",
    "import findspark\n",
    "findspark.init()\n",
    "\n",
    "from pyspark import SparkContext\n",
    "#sc.stop()\n",
    "sc = SparkContext(master=\"local[3]\",pyFiles=['lib/numpy_pack.py','lib/spark_PCA.py','lib/computeStats.py'])\n",
    "\n",
    "from pyspark import SparkContext\n",
    "from pyspark.sql import *\n",
    "sqlContext = SQLContext(sc)\n",
    "\n",
    "import sys\n",
    "sys.path.append('./lib')\n",
    "\n",
    "import numpy as np\n",
    "from numpy_pack import packArray,unpackArray\n",
    "from spark_PCA import computeCov\n",
    "from computeStats import computeOverAllDist, STAT_Descriptions\n",
    "\n",
    "### Read the data frame from pickle file\n",
    "\n",
    "data_dir='../../Data/Weather'\n",
    "file_index='BSBSSSSS'\n",
    "\n",
    "from pickle import load\n",
    "\n",
    "#read statistics\n",
    "filename=data_dir+'/STAT_%s.pickle'%file_index\n",
    "STAT,STAT_Descriptions = load(open(filename,'rb'))\n",
    "print 'keys from STAT=',STAT.keys()\n",
    "\n",
    "#read data\n",
    "filename=data_dir+'/US_Weather_%s.parquet'%file_index\n",
    "\n",
    "df=sqlContext.read.parquet(filename)\n",
    "print df.count()\n",
    "df.show(5)"
   ]
  },
  {
   "cell_type": "markdown",
   "metadata": {
    "deletable": true,
    "editable": true,
    "run_control": {
     "frozen": false,
     "read_only": false
    },
    "slideshow": {
     "slide_type": "slide"
    }
   },
   "source": [
    "### Select data for a particular station and measurement type"
   ]
  },
  {
   "cell_type": "code",
   "execution_count": 7,
   "metadata": {
    "collapsed": false,
    "deletable": true,
    "editable": true,
    "run_control": {
     "frozen": false,
     "read_only": false
    },
    "slideshow": {
     "slide_type": "subslide"
    }
   },
   "outputs": [
    {
     "name": "stdout",
     "output_type": "stream",
     "text": [
      "SELECT * FROM weather\n",
      "\tWHERE measurement='PRCP' and station='USC00081356'\n",
      "62 rows\n",
      "+---------+--------+---------+-----------+-----------+------+--------------------+------+--------+\n",
      "|elevation|latitude|longitude|measurement|    station|undefs|              vector|  year|   label|\n",
      "+---------+--------+---------+-----------+-----------+------+--------------------+------+--------+\n",
      "|      3.0| 29.8667| -84.6667|       PRCP|USC00081356|     2|[00 00 00 00 00 0...|1900.0|BSBSSSSS|\n",
      "|      3.0| 29.8667| -84.6667|       PRCP|USC00081356|    28|[F0 5B 00 00 00 0...|1901.0|BSBSSSSS|\n",
      "+---------+--------+---------+-----------+-----------+------+--------------------+------+--------+\n",
      "only showing top 2 rows\n",
      "\n"
     ]
    },
    {
     "data": {
      "text/plain": [
       "(62, 365)"
      ]
     },
     "execution_count": 7,
     "metadata": {},
     "output_type": "execute_result"
    }
   ],
   "source": [
    "sqlContext.registerDataFrameAsTable(df,'weather')\n",
    "Query=\"SELECT * FROM weather\\n\\tWHERE measurement='%s' and station='%s'\"%('PRCP','USC00081356')#USC00198301\n",
    "print Query\n",
    "df1 = sqlContext.sql(Query)\n",
    "print df1.count(),'rows'\n",
    "df1.show(2)\n",
    "rows=df1.rdd.map(lambda row:unpackArray(row['vector'],np.float16)).collect()\n",
    "T=np.vstack(rows)\n",
    "T=T/10.  # scaling to make the temperature be in centingrates\n",
    "shape(T)"
   ]
  },
  {
   "cell_type": "markdown",
   "metadata": {
    "deletable": true,
    "editable": true,
    "run_control": {
     "frozen": false,
     "read_only": false
    },
    "slideshow": {
     "slide_type": "slide"
    }
   },
   "source": [
    "### Script for plotting yearly plots"
   ]
  },
  {
   "cell_type": "code",
   "execution_count": 8,
   "metadata": {
    "collapsed": false,
    "deletable": true,
    "editable": true,
    "run_control": {
     "frozen": false,
     "read_only": false
    },
    "scrolled": false,
    "slideshow": {
     "slide_type": "subslide"
    }
   },
   "outputs": [
    {
     "data": {
      "image/png": "iVBORw0KGgoAAAANSUhEUgAAAlMAAAGNCAYAAAA1nfQqAAAABHNCSVQICAgIfAhkiAAAAAlwSFlz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\nGgy