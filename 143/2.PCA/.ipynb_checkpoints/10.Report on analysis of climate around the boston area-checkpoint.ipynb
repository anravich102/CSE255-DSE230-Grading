{
 "cells": [
  {
   "cell_type": "code",
   "execution_count": 2,
   "metadata": {
    "run_control": {
     "frozen": false,
     "read_only": false
    },
    "scrolled": false
   },
   "outputs": [
    {
     "name": "stdout",
     "output_type": "stream",
     "text": [
      "![Climate_Boston_-_Massachusetts_and_Weather_averages_Boston.jpg](r_figures/Climate_Boston_-_Massachusetts_and_Weather_averages_Boston.jpg)\n",
      "![PRCP.png](r_figures/PRCP.png)\n",
      "![SNOW.png](r_figures/SNOW.png)\n",
      "![SNWD.png](r_figures/SNWD.png)\n",
      "![SNWD_coeff_1_CDF.png](r_figures/SNWD_coeff_1_CDF.png)\n",
      "![SNWD_coeff_2_CDF.png](r_figures/SNWD_coeff_2_CDF.png)\n",
      "![SNWD_coeff_3_CDF.png](r_figures/SNWD_coeff_3_CDF.png)\n",
      "![SNWD_grid_Pos_coeff1.png](r_figures/SNWD_grid_Pos_coeff1.png)\n",
      "![SNWD_grid_Pos_coeff2.png](r_figures/SNWD_grid_Pos_coeff2.png)\n",
      "![SNWD_grid_Pos_coeff3.png](r_figures/SNWD_grid_Pos_coeff3.png)\n",
      "![SNWD_grid_neg_coeff1.png](r_figures/SNWD_grid_neg_coeff1.png)\n",
      "![SNWD_grid_neg_coeff2.png](r_figures/SNWD_grid_neg_coeff2.png)\n",
      "![SNWD_grid_neg_coeff3.png](r_figures/SNWD_grid_neg_coeff3.png)\n",
      "![SNWD_mean_eigs.png](r_figures/SNWD_mean_eigs.png)\n",
      "![SNWD_res_1_CDF.png](r_figures/SNWD_res_1_CDF.png)\n",
      "![SNWD_res_2_CDF.png](r_figures/SNWD_res_2_CDF.png)\n",
      "![SNWD_res_3_CDF.png](r_figures/SNWD_res_3_CDF.png)\n",
      "![TMIN,TMAX.png](r_figures/TMIN,TMAX.png)\n",
      "![TOBS.png](r_figures/TOBS.png)\n",
      "![VarExplained1.png](r_figures/VarExplained1.png)\n",
      "![VarExplained2.png](r_figures/VarExplained2.png)\n",
      "![percipitation.png](r_figures/percipitation.png)\n"
     ]
    }
   ],
   "source": [
    "L=!ls r_figures/\n",
    "for l in L:\n",
    "    print \"![%s](r_figures/%s)\"%(l,l)"
   ]
  },
  {
   "cell_type": "code",
   "execution_count": 3,
   "metadata": {
    "collapsed": true,
    "run_control": {
     "frozen": false,
     "read_only": false
    }
   },
   "outputs": [],
   "source": [
    "!open r_figures/TMIN,TMAX.png"
   ]
  },
  {
   "cell_type": "markdown",
   "metadata": {
    "run_control": {
     "frozen": false,
     "read_only": false
    }
   },
   "source": [
    "# Massacusets Weather Analysis\n",
    "\n",
    "This is a report on the historical analysis of weather patterns in an area that approximately overlaps the area of the state of Massachusets.\n",
    "\n",
    "The data we will use here comes from [NOAA](https://www.ncdc.noaa.gov/). Specifically, it was downloaded from This [FTP site](ftp://ftp.ncdc.noaa.gov/pub/data/ghcn/daily/).\n",
    "\n",
    "We focused on six measurements:\n",
    "* **TMIN, TMAX:** the daily minimum and maximum temperature.\n",
    "* **TOBS:** The average temperature for each day.\n",
    "* **PRCP:** Daily Percipitation (in mm)\n",
    "* **SNOW:** Daily snowfall (in mm)\n",
    "* **SNWD:** The depth of accumulated snow.\n",
    "\n",
    "## Sanity-check: comparison with outside sources\n",
    "\n",
    "<p>We start by comparing some of the general statistics with graphs that we obtained from a site called <a href=\"http://www.usclimatedata.com/climate/boston/massachusetts/united-states/usma0046\" target=\"_blank\">US Climate Data</a> The graph below shows the daily minimum and maximum temperatures for each month, as well as the total precipitation for each month.</p>\n",
    "\n",
    "<p>&nbsp;</p>\n",
    "\n",
    "<p><img alt=\"Climate_Boston_-_Massachusetts_and_Weather_averages_Boston.jpg\" src=\"r_figures/Climate_Boston_-_Massachusetts_and_Weather_averages_Boston.jpg\" /></p>\n",
    "\n",
    "<p>&nbsp;</p>\n",
    "\n",
    "<p>We see that the min and max daily&nbsp;temperature agree with the ones we got from our data, once we translate Fahrenheit to Centigrade.</p>\n",
    "\n",
    "<p>&nbsp;</p>\n",
    "\n",
    "<p><img alt=\"TMIN,TMAX.png\" src=\"r_figures/TMIN,TMAX.png\" style=\"height:300px; width:800px\" /></p>\n",
    "\n",
    "<p>To compare the precipitation&nbsp;we need to translate millime