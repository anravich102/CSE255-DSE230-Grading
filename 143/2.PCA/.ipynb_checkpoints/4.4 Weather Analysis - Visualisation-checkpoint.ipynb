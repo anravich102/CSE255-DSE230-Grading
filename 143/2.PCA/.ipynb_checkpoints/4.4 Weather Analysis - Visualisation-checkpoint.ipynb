{
 "cells": [
  {
   "cell_type": "markdown",
   "metadata": {
    "run_control": {
     "frozen": false,
     "read_only": false
    }
   },
   "source": [
    "### Visualizing the distribution of the observations\n",
    "\n",
    "### Load the required libraries"
   ]
  },
  {
   "cell_type": "code",
   "execution_count": 1,
   "metadata": {
    "run_control": {
     "frozen": false,
     "read_only": false
    },
    "slideshow": {
     "slide_type": "slide"
    }
   },
   "outputs": [
    {
     "name": "stdout",
     "output_type": "stream",
     "text": [
      "Populating the interactive namespace from numpy and matplotlib\n",
      "keys from STAT= ['TMIN', 'TOBS', 'TMAX', 'SNOW', 'SNWD', 'PRCP']\n",
      "12423\n",
      "+---------+--------+---------+-----------+-----------+------+--------------------+------+--------+\n",
      "|elevation|latitude|longitude|measurement|    station|undefs|              vector|  year|   label|\n",
      "+---------+--------+---------+-----------+-----------+------+--------------------+------+--------+\n",
      "|   1219.2|   37.75|  -117.65|       TMAX|USC00267465|    43|[30 55 40 56 80 5...|1898.0|SSSBSSBB|\n",
      "|    640.1|  37.495|-119.9858|       TMAX|USC00045352|     3|[00 58 50 57 E0 5...|2007.0|SSSBSSBB|\n",
      "|   1219.2|   37.75|  -117.65|       TMIN|USC00267465|    45|[90 D5 E0 D5 40 D...|1898.0|SSSBSSBB|\n",
      "|    640.1|  37.495|-119.9858|       TMIN|USC00045352|    24|[00 46 00 46 E0 5...|2007.0|SSSBSSBB|\n",
      "|   1452.4| 37.9747|-119.9161|       TMAX|USC00041697|     0|[80 54 00 53 80 5...|1956.0|SSSBSSBB|\n",
      "|   1452.4| 37.9747|-119.9161|       TMAX|USC00041697|    10|[B0 58 A0 56 A0 5...|1957.0|SSSBSSBB|\n",
      "|   1452.4| 37.9747|-119.9161|       TMAX|USC00041697|     0|[80 58 80 58 90 5...|1958.0|SSSBSSBB|\n",
      "|   1452.4| 37.9747|-119.9161|       TMAX|USC00041697|     7|[38 59 38 59 30 5...|1959.0|SSSBSSBB|\n",
      "|   1452.4| 37.9747|-119.9161|       TMAX|USC00041697|     8|[28 58 00 7E 28 5...|1961.0|SSSBSSBB|\n",
      "|   1452.4| 37.9747|-119.9161|       TMAX|USC00041697|    21|[00 7E 80 58 E0 5...|1962.0|SSSBSSBB|\n",
      "|   1452.4| 37.9747|-119.9161|       TMAX|USC00041697|    19|[00 7E 58 58 80 5...|1963.0|SSSBSSBB|\n",
      "|   1452.4| 37.9747|-119.9161|       TMAX|USC00041697|    27|[00 7E 40 5A 28 5...|1964.0|SSSBSSBB|\n",
      "|   1452.4| 37.9747|-119.9161|       TMAX|USC00041697|    13|[00 46 00 4F 80 5...|1965.0|SSSBSSBB|\n",
      "|   1452.4| 37.9747|-119.9161|       TMAX|USC00041697|    16|[00 C6 80 51 80 5...|1966.0|SSSBSSBB|\n",
      "|   1452.4| 37.9747|-119.9161|       TMAX|USC00041697|    14|[00 7E 38 59 00 5...|1967.0|SSSBSSBB|\n",
      "|   1452.4| 37.9747|-119.9161|       TMAX|USC00041697|    46|[00 7E 00 58 40 5...|1968.0|SSSBSSBB|\n",
      "|   1452.4| 37.9747|-119.9161|       TMAX|USC00041697|    40|[00 7E 58 58 58 5...|1969.0|SSSBSSBB|\n",
      "|   1452.4| 37.9747|-119.9161|       TMAX|USC00041697|    22|[00 7E 00 58 30 5...|1970.0|SSSBSSBB|\n",
      "|   1452.4| 37.9747|-119.9161|       TMAX|USC00041697|    12|[00 7E 50 57 80 C...|1971.0|SSSBSSBB|\n",
      "|   1452.4| 37.9747|-119.9161|       TMAX|USC00041697|    49|[00 7E A0 57 A0 5...|1973.0|SSSBSSBB|\n",
      "+---------+--------+---------+-----------+-----------+------+--------------------+------+--------+\n",
      "only showing top 20 rows\n",
      "\n"
     ]
    }
   ],
   "source": [
    "import pandas as pd\n",
    "import numpy as np\n",
    "import sklearn as sk\n",
    "import urllib\n",
    "import math\n",
    "%pylab inline\n",
    "\n",
    "import findspark\n",
    "findspark.init()\n",
    "\n",
    "from pyspark import SparkContext\n",
    "#sc.stop()\n",
    "sc = SparkContext(master=\"local[3]\",pyFiles=['lib/numpy_pack.py','lib/spark_PCA.py','lib/computeStats.py'])\n",
    "\n",
    "from pyspark import SparkContext\n",
    "from pyspark.sql import *\n",
    "sqlContext = SQLContext(sc)\n",
    "\n",
    "import sys\n",
    "sys.path.append('./lib')\n",
    "\n",
    "import numpy as np\n",
    "from numpy_pack import packArray,unpackArray\n",
    "from spark_PCA import computeCov\n",
    "from computeStats import computeOverAllDist, STAT_Descriptions\n",
    "\n",
    "### Read the data frame from pickle file\n",
    "\n",
    "data_dir='../../Data/Weather'\n",
    "file_index='SSSBSSBB'\n",
    "\n",
    "from pickle import load\n",
    "\n",
    "#read statistics\n",
    "filename=data_dir+'/STAT_%s.pickle'%file_index\n",
    "STAT,STAT_Descriptions = load(open(filename,'rb'))\n",
    "print 'keys from STAT=',STAT.keys()\n",
    "\n",
    "#read data\n",
    "filename=data_dir+'/US_Weather_%s.parquet'%file_index\n",
    "\n",
    "df=sqlContext.read.parquet(filename)\n",
    "print df.count()\n",
    "df.show(20)"
   ]
  },
  {
   "cell_type": "markdown",
   "metadata": {
    "run_control": {
     "frozen": false,
     "read_only": false
    },
    "slideshow": {
     "slide_type": "slide"
    }
   },
   "source": [
    "### Select data for a particular station and measurement type"
   ]
  },
  {
   "cell_type": "code",
   "execution_count": 2,
   "metadata": {
    "run_control": {
     "frozen": false,
     "read_only": false
    },
    "slideshow": {
     "slide_type": "subslide"
    }
   },
   "outputs": [
    {
     "name": "stdout",
     "output_type": "stream",
     "text": [
      "SELECT * FROM weather\n",
      "\tWHERE measurement='PRCP' and station='USC00267465'\n",
      "1 rows\n",
      "+---------+--------+---------+-----------+-----------+------+--------------------+------+--------+\n",
      "|elevation|latitude|longitude|measurement|    station|undefs|              vector|  year|   label|\n",
      "+---------+--------+---------+-----------+-----------+------+--------------------+------+--------+\n",
      "|   1219.2|   37.75|  -117.65|       PRCP|USC00267465|    31|[00 00 00 00 00 0...|1898.0|SSSBSSBB|\n",
      "+---------+--------+---------+-----------+-----------+------+--------------------+------+--------+\n",
      "\n"
     ]
    },
    {
     "data": {
      "text/plain": [
       "(1, 365)"
      ]
     },
     "execution_count": 2,
     "metadata": {},
     "output_type": "execute_result"
    }
   ],
   "source": [
    "sqlContext.registerDataFrameAsTable(df,'weather')\n",
    "Query=\"SELECT * FROM weather\\n\\tWHERE measurement='%s' and station='%s'\"%('PRCP','USC00267465')\n",
    "\n",
    "print Query\n",
    "df1 = sqlContext.sql(Query)\n",
    "print df1.count(),'rows'\n",
    "df1.show(3)\n",
    "rows=df1.rdd.map(lambda row:unpackArray(row['vector'],np.float16)).collect()\n",
    "#print rows\n",
    "T=np.vstack(rows)\n",
    "T=T/10.  # scaling to make the temperature be in centingrates\n",
    "shape(T)"
   ]
  },
  {
   "cell_type": "markdown",
   "metadata": {
    "run_control": {
     "frozen": false,
     "read_only": false
    },
    "slideshow": {
     "slide_type": "slide"
    }
   },
   "source": [
    "### Script for plotting yearly plots"
   ]
  },
  {
   "cell_type": "code",
   "execution_count": 3,
   "metadata": {
    "run_control": {
     "frozen": false,
     "read_only": false
    },
    "scrolled": false,
    "slideshow": {
     "slide_type": "subslide"
    }
   },
   "outputs": [
    {
     "name": "stdout",
     "output_type": "stream",
     "text": [
      "(1, 365)\n"
     ]
    },
    {
     "data": {
      "image/png": "iVBORw0KGgoAAAANSUhEUgAAAlMAAAGNCAYAAAA1nfQqAAAABHNCSVQICAgIfAhkiAAAAAlwSFlz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\nTNPOND+NVSusmcIClPmA4SBMZahWL8+VMpT5Vlb8G