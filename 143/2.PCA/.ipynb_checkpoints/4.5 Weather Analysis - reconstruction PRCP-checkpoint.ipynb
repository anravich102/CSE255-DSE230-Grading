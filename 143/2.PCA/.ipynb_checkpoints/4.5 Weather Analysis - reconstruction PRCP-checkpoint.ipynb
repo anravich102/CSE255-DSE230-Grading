{
 "cells": [
  {
   "cell_type": "code",
   "execution_count": 1,
   "metadata": {
    "collapsed": true,
    "deletable": true,
    "editable": true,
    "run_control": {
     "frozen": false,
     "read_only": false
    }
   },
   "outputs": [],
   "source": [
    "#setup\n",
    "data_dir='../../Data/Weather'\n",
    "file_index='SSSBSSBB'\n",
    "m='PRCP'"
   ]
  },
  {
   "cell_type": "markdown",
   "metadata": {
    "deletable": true,
    "editable": true,
    "run_control": {
     "frozen": false,
     "read_only": false
    },
    "slideshow": {
     "slide_type": "slide"
    },
    "variables": {
     "m": "PRCP"
    }
   },
   "source": [
    "# Reconstruction using top eigen-vectors\n",
    "For measurement = {{m}}"
   ]
  },
  {
   "cell_type": "markdown",
   "metadata": {
    "deletable": true,
    "editable": true,
    "run_control": {
     "frozen": false,
     "read_only": false
    },
    "slideshow": {
     "slide_type": "skip"
    }
   },
   "source": [
    "## Load the required libraries"
   ]
  },
  {
   "cell_type": "code",
   "execution_count": 2,
   "metadata": {
    "collapsed": false,
    "deletable": true,
    "editable": true,
    "run_control": {
     "frozen": false,
     "read_only": false
    },
    "slideshow": {
     "slide_type": "skip"
    }
   },
   "outputs": [],
   "source": [
    "# Enable automiatic reload of libraries\n",
    "#%load_ext autoreload\n",
    "#%autoreload 2 # means that all modules are reloaded before every command"
   ]
  },
  {
   "cell_type": "code",
   "execution_count": 3,
   "metadata": {
    "collapsed": false,
    "deletable": true,
    "editable": true,
    "run_control": {
     "frozen": false,
     "read_only": false
    },
    "slideshow": {
     "slide_type": "skip"
    }
   },
   "outputs": [
    {
     "name": "stdout",
     "output_type": "stream",
     "text": [
      "Populating the interactive namespace from numpy and matplotlib\n",
      "    pandas as    pd \tversion=0.19.2 \trequired version>=0.19.2\n",
      "     numpy as    np \tversion=1.11.3 \trequired version>=1.12.0 ******* Update Version ******\n",
      "   sklearn as    sk \tversion=0.18.1 \trequired version>=0.18.1\n",
      "    urllib as urllib \tversion=1.17 \trequired version>=1.17\n",
      "   pyspark as pyspark \tversion=2.1.0+hadoop2.7 \trequired version>=2.1.0\n",
      "ipywidgets as ipywidgets \tversion=5.2.2 \trequired version>=6.0.0 ******* Update Version ******\n"
     ]
    }
   ],
   "source": [
    "%pylab inline\n",
    "import numpy as np\n",
    "\n",
    "import findspark\n",
    "findspark.init()\n",
    "\n",
    "import sys\n",
    "sys.path.append('./lib')\n",
    "\n",
    "from numpy_pack import packArray,unpackArray\n",
    "\n",
    "from Eigen_decomp import Eigen_decomp\n",
    "from YearPlotter import YearPlotter\n",
    "from recon_plot import recon_plot\n",
    "\n",
    "from import_modules import import_modules,modules\n",
    "import_modules(modules)\n",
    "\n",
    "from ipywidgets import interactive,widgets"
   ]
  },
  {
   "cell_type": "code",
   "execution_count": 4,
   "metadata": {
    "collapsed": false,
    "deletable": true,
    "editable": true,
    "run_control": {
     "frozen": false,
     "read_only": false
    },
    "slideshow": {
     "slide_type": "skip"
    }
   },
   "outputs": [],
   "source": [
    "from pyspark import SparkContext\n",
    "#sc.stop()\n",
    "\n",
    "sc = SparkContext(master=\"local[3]\",pyFiles=['lib/numpy_pack.py','lib/spark_PCA.py','lib/computeStats.py','lib/recon_plot.py','lib/Eigen_decomp.py'])\n",
    "\n",
    "from pyspark import SparkContext\n",
    "from pyspark.sql import *\n",
    "sqlContext = SQLContext(sc)\n",
    "\n",
    "\n",
    "\n"
   ]
  },
  {
   "cell_type": "markdown",
   "metadata": {
    "deletable": true,
    "editable": true,
    "run_control": {
     "frozen": false,
     "read_only": false
    },
    "slideshow": {
     "slide_type": "slide"
    }
   },
   "source": [
    "## Read Statistics File"
   ]
  },
  {
   "cell_type": "code",
   "execution_count": 7,
   "metadata": {
    "collapsed": true,
    "deletable": true,
    "editable": true,
    "run_control": {
     "frozen": false,
     "read_only": false
    },
    "slideshow": {
     "slide_type": "fragment"
    }
   },
   "outputs": [],
   "source": [
    "data_dir='../../Data/Weather'\n",
    "file_index='SSSBSSBB'"
   ]
  },
  {
   "cell_type": "code",
   "execution_count": 8,
   "metadata": {
    "collapsed": false,
    "deletable": true,
    "editable": true,
    "run_control": {
     "frozen": false,
     "read_only": false
    },
    "slideshow": {
     "slide_type": "subslide"
    }
   },
   "outputs": [
    {
     "name": "stdout",
     "output_type": "stream",
     "text": [
      "keys from STAT= ['TMIN', 'TOBS', 'TMAX', 'SNOW', 'SNWD', 'PRCP']\n"
     ]
    }
   ],
   "source": [
    "from pickle import load\n",
    "\n",
    "#read statistics\n",
    "filename=data_dir+'/STAT_%s.pickle'%file_index\n",
    "STAT,STAT_Descriptions = load(open(filename,'rb'))\n",
    "measurements=STAT.keys()\n",
    "print 'keys from STAT=',measurements"
   ]
  },
  {
   "cell_type": "markdown",
   "metadata": {
    "deletable": true,
    "editable": true,
    "run_control": {
     "frozen": false,
     "read_only": false
    },
    "slideshow": {
     "slide_type": "slide"
    }
   },
   "source": [
    "## Read data file into a spark DataFrame\n",
    "We focus on the snow-depth records, because the eigen-vectors for them make sense."
   ]
  },
  {
   "cell_type": "code",
   "execution_count": 9,
   "metadata": {
    "collapsed": false,
    "deletable": true,
    "editable": true,
    "run_control": {
     "frozen": false,
     "read_only": false
    },
    "scrolled": true,
    "slideshow": {
     "slide_type": "subslide"
    }
   },
   "outputs": [
    {
     "name": "stdout",
     "output_type": "stream",
     "text": [
      "+---------+--------+---------+-----------+-----------+------+--------------------+------+--------+\n",
      "|elevation|latitude|longitude|measurement|    station|undefs|              vector|  year|   label|\n",
      "+---------+--------+---------+-----------+-----------+------+--------------------+------+--------+\n",
      "|   1219.2|   37.75|  -117.65|       PRCP|USC00267465|    31|[00 00 00 00 00 0...|1898.0|SSSBSSBB|\n",
      "|    640.1|  37.495|-119.9858|       PRCP|USC00045352|     0|[00 00 00 00 00 0...|1985.0|SSSBSSBB|\n",
      "|    640.1|  37.495|-119.9858|       PRCP|USC00045352|    33|[00 00 00 00 00 4...|1986.0|SSSBSSBB|\n",
      "|    640.1|  37.495|-119.9858|       PRCP|USC00045352|    33|[00 00 20 51 00 0...|1988.0|SSSBSSBB|\n",
      "|    640.1|  37.495|-119.9858|       PRCP|USC00045352|     0|[00 00 00 00 00 0...|1989.0|SSSBSSBB|\n",
      "+---------+--------+---------+-----------+-----------+------+--------------------+------+--------+\n",
      "only showing top 5 rows\n",
      "\n"
     ]
    }
   ],
   "source": [
    "#read data\n",
    "filename=data_dir+'/US_Weather_%s.parquet'%file_index\n",
    "df_in=sqlContext.read.parquet(filename)\n",
    "#filter in \n",
    "df=df_in.filter(df_in.measurement==m)\n",
    "df.show(5)"
   ]
  },
  {
   "cell_type": "markdown",
   "metadata": {
    "deletable": true,
    "editable": true,
    "run_control": {
     "frozen": false,
     "read_only": false
    },
    "slideshow": {
     "slide_type": "subslide"
    }
   },
   "source": [
    "### Create a matrix with all of the series"
   ]
  },
  {
   "cell_type": "code",
   "execution_count": 10,
   "metadata": {
    "collapsed": false,
    "deletable": true,
    "editable": true,
    "run_control": {
     "frozen": false,
     "read_only": false
    }
   },
   "outputs": [
    {
     "data": {
      "text/plain": [
       "(2750, 365)"
      ]
     },
     "execution_count": 10,
     "metadata": {},
     "output_type": "execute_result"
    }
   ],
   "source": [
    "rows=df.rdd.map(lambda row:unpackArray(row['vector'],np.float16)).collect()\n",
    "\n",
    "T=np.vstack(rows)\n",
    "shape(T)"
   ]
  },
  {
   "cell_type": "markdown",
   "metadata": {
    "deletable": true,
    "editable": true,
    "run_control": {
     "frozen": false,
     "read_only": false
    },
    "slideshow": {
     "slide_type": "subslide"
    }
   },
   "source": [
    "### Plot two time series\n",
    "`SNWD` stands for `snow-depth`, which explains why it is zero during the summer"
   ]
  },
  {
   "cell_type": "code",
   "execution_count": 11,
   "metadata": {
    "collapsed": false,
    "deletable": true,
    "editable": true,
    "run_control": {
     "frozen": false,
     "read_only": false
    },
    "slideshow": {
     "slide_type": "fragment"
    }
   },
   "outputs": [
    {
     "data": {
      "image/png": "iVBORw0KGgoAAAANSUhEUgAAAXoAAAD6CAYAAACvZ4z8AAAABHNCSVQICAgIfAhkiAAAAAlwSFlz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\nOSb0hmEYbY4JvWEYRpvz/wDpqXOEAGSpoQAAAABJRU5ErkJggg==\n",
      "text/plain": [
       "<matplotlib.figure.Figure at 0x11089c1d0>"
      ]
     },
     "metadata": {},
     "output_type": "display_data"
    }
   ],
   "source": [
    "fig, ax = plt.subplots(figsize=(6,4));\n",
    "YP=YearPlotter()\n",
    "YP.plot(T[16:18].transpose(),fig,ax,title=m)"
   ]
  },
  {
   "cell_type": "markdown",
   "metadata": {
    "deletable": true,
    "editable": true,
    "run_control": {
     "frozen": false,
     "read_only": false
    },
    "slideshow": {
     "slide_type": "slide"
    }
   },
   "source": [
    "### Plot Reconstructions\n",
    "\n",
    "Construct approximations of a time series using the mean and the $k$ top eigen-vectors\n",
    "First, we plot the mean and the top $k$ eigenvectors"
   ]
  },
  {
   "cell_type": "code",
   "execution_count": 12,
   "metadata": {
    "collapsed": false,
    "deletable": true,
    "editable": true,
    "run_control": {
     "frozen": false,
     "read_only": false
    },
    "scrolled": false,
    "slideshow": {
     "slide_type": "subslide"
    }
   },
   "outputs": [
    {
     "data": {
      "image/png": "iVBORw0KGgoAAAANSUhEUgAAAl8AAAFcCAYAAAD2w9suAAAABHNCSVQICAgIfAhkiAAAAAlwSFlz\nAAALEgAACxIB0t1+/AAAIABJREFUeJzsvXd4HOd17/95tzf0RoAgCfbexCKJVIFVLEWWXGLLlmLF\n8rUTJXESO9fxje3kOi6/2JETXzuJ7bjJRVYSuclFLpIlUYKoSokUeydAEL237fX9/TEFC2BRuWjE\n+3kePgBmZmdmubuz3znne84RUkoUCoVCoVAoFDODZbZPQKFQKBQKhWIhocSXQqFQKBQKxQyixJdC\noVAoF