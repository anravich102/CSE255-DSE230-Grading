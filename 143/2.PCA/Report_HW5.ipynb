{
 "cells": [
  {
   "cell_type": "code",
   "execution_count": 2,
   "metadata": {},
   "outputs": [
    {
     "name": "stdout",
     "output_type": "stream",
     "text": [
      "![Climate_Tonopah.png](my_figures/Climate_Tonopah.png)\n",
      "![Climate_Yosemite_compare.png](my_figures/Climate_Yosemite_compare.png)\n",
      "![Geographic.png](my_figures/Geographic.png)\n",
      "![SNWD_mean_eig.png](my_figures/SNWD_mean_eig.png)\n",
      "![VarExplained1.png](my_figures/VarExplained1.png)\n",
      "![VarExplained2.png](my_figures/VarExplained2.png)\n",
      "![Yosemit_PRCP.png](my_figures/Yosemit_PRCP.png)\n",
      "![Yosemite.png](my_figures/Yosemite.png)\n",
      "![coeff1_n.png](my_figures/coeff1_n.png)\n",
      "![coeff1_p.png](my_figures/coeff1_p.png)\n",
      "![coeff2_n.png](my_figures/coeff2_n.png)\n",
      "![coeff2_p.png](my_figures/coeff2_p.png)\n",
      "![coeff3_n.png](my_figures/coeff3_n.png)\n",
      "![coeff3_p.png](my_figures/coeff3_p.png)\n"
     ]
    }
   ],
   "source": [
    "L=!ls my_figures/\n",
    "for l in L:\n",
    "    print \"![%s](my_figures/%s)\"%(l,l)"
   ]
  },
  {
   "cell_type": "markdown",
   "metadata": {
    "collapsed": true
   },
   "source": [
    "# Tonopah Weather Analysis\n",
    "\n",
    "This report is for analyzing the weather patterns in areas around Tonopah, based on a historical weather record. \n",
    "\n",
    "\n",
    "The data we will use here comes from [NOAA](https://www.ncdc.noaa.gov/). Specifically, it was downloaded from This [FTP site](ftp://ftp.ncdc.noaa.gov/pub/data/ghcn/daily/).\n",
    "\n",
    "We focused on six measurements:\n",
    "* **TMIN, TMAX:** the daily minimum and maximum temperature.\n",
    "* **TOBS:** The average temperature for each day.\n",
    "* **PRCP:** Daily Percipitation (in mm)\n",
    "* **SNOW:** Daily snowfall (in mm)\n",
    "* **SNWD:** The depth of accumulated snow.\n",
    "\n",
    "## Sanity-check: comparison with outside sources\n",
    "\n",
    "<p>We start by comparing some of the general statistics with graphs that we obtained from a site called <a href=\"http://www.usclimatedata.com/climate/yosemite-natl-park/california/united-states/usca1269\" target=\"_blank\">US Climate Data</a> The graph below shows the daily minimum and maximum temperatures for each month, as well as the total precipitation for each month.</p>\n",
    "\n",
    "<p>&nbsp;</p>\n",
    "\n",
    "<p><img alt=\"Climate_Tonopah.png\" src=\"my_figures/Yosemite.png\" /></p>\n",
    "\n",
    "<p>&nbsp;</p>\n",
    "\n",
    "<p>We see that the min and max daily&nbsp;temperature agree with the ones we got from our data. They are all translated from Centigrad to Fahrenheit.</p>\n",
    "\n",
    "<p>&nbsp;</p>\n",
    "\n",
    "<p><img alt=\"TMIN,TMAX.png\" src=\"my_figures/Climate_Yosemite_compare.png\" style=\"height:300px; width:800px\" /></p>\n",
    "\n",
    "<p>To compare the precipitation&nbsp;we need to translate millimeter/day to inches/month. According to our analysis the average rainfall is 1.41 mm/day which translates to about 1.66 Inches&nbsp;per month. According to US-Climate-Data the average rainfall is closer to 3.05 inch per month. However, there is clear agreement that average precipitation&nbsp;is close to a constant throughout the year</p>\n",
    "\n",
    "<p>&nbsp;<img alt=\"PRCP.png\" src=\"my_figures/Yosemit_PRCP.png\" style=\"height:450px; width:600px\" /></p>"
   ]
  },
  {
   "cell_type": "markdown",
   "metadata": {},
   "source": [
    "## PCA analysis\n",
    "\n",
    "For each of the six measurement, we compute the percentate of the variance explained as a function of the number of eigen-vectors used.\n",
    "\n",
    "### Percentage of variance explained.\n",
    "![VarExplained1.png](my_figures/VarExplained1.png)\n",
    "We see that the top 5 eigen-vectors explain 65% of variance for TMIN, 70% for TOBS and 58% for TMAX.\n",
    "\n",
    "We conclude that of the three, TOBS is best explained by the top 5 eigenvectors. This is especially true for the first eigen-vector which, by itself, explains 60% of the variance.\n",
    "\n",
    "![VarExplained2.png](my_figures/VarExplained2.png)\n",
    "\n",
    "The top 5 eigenvectors explain 15% of the variance for PRCP and 14% for SNOW. Both are low values. On the other hand the top 5 eigenvectors explain 90% of the variance for SNWD. This means that these top 5 eigenvectors capture most of the variation in the snow signals. Based on that we will dig deeper into the PCA analysis for snow-depth.\n",
    "\n",
    "It makes sense that SNWD would be less noisy than SNOW. That is because SNWD is a decaying integral of SNOW and, as such, varies less between days and between the same date on diffferent years."
   ]
  },
  {
   "cell_type": "markdown",
   "metadata": {},
   "source": [
    "## Analysis of snow depth\n",
    "\n",
    "We choose to analyze the eigen-decomposition for snow-depth because the first 3 eigen-vectors explain almost 80% of the variance.\n",
    "\n",
    "First, we graph the mean and the top 3 eigen-vectors.\n",
    "\n",
    "We observe that the snow season is from mid-november to the end of April, where in between February and March marks the peak of the snow-depth.\n",
    "![SNWD_mean_eigs.png](my_figures/SNWD_mean_eig.png)"
   ]
  },
  {
   "cell_type": "markdown",
   "metadata": {},
   "source": [
    "Next we interpret the eigen-functions.The first eigen-function (eig1) has a shape very similar to the mean function. The main difference is that the first eigen-function is negative while the mean is not. It is probably because we haven't plus the coefficient yet. The interpretation of this shape is that eig1 represents the overall amount of snow above/below the mean, but without changing the distribution over time.\n",
    "\n",
    "**eig2 and eig3** are similar in the following way. They all oscilate between positive and negative values. In other words, they correspond to changing the distribution of the snow depth over the winter months, but they don't change the total (much).\n",
    "\n",
    "They can be interpreted as follows:\n",
    "* **eig2:** less snow in Apr - May, more snow in mid Feb-March.\n",
    "* **eig3:** more snow in Late Jan, less snow in March, slightly more snow in May."
   ]
  },
  {
   "cell_type": "markdown",
   "metadata": {
    "collapsed": true
   },
   "source": [
    "### Examples of reconstructions\n",
    "#### Coeff1\n",
    "Coeff1: most positive\n",
    "![SNWD_grid_Pos_coeff1.png](my_figures/coeff1_p.png)\n",
    "Coeff1: most negative\n",
    "![SNWD_grid_neg_coeff1.png](my_figures/coeff1_n.png)\n",
    "Large positive values of coeff1 correspond to more than average snow. Low values correspond to less than average snow.\n",
    "\n",
    "#### Coeff2\n",
    "Coeff2: most positive\n",
    "![SNWD_grid_Pos_coeff2.png](my_figures/coeff2_p.png)\n",
    "Coeff2: most negative\n",
    "![SNWD_grid_neg_coeff2.png](my_figures/coeff2_n.png)\n",
    "\n",
    "Large positive values of coeff2 correspond to a late snow season (most of the snowfall is after mid feb. Negative values for coeff2 correspond to an early snow season (most of the snow is before mid-feb.\n",
    "#### Coeff3\n",
    "Coeff3: most positive\n",
    "![SNWD_grid_Pos_coeff3.png](my_figures/coeff3_p.png)\n",
    "Coeff3: most negative\n",
    "![SNWD_grid_neg_coeff3.png](my_figures/coeff3_n.png)\n",
    "\n",
    "Large positive values of coeff3 correspond to a snow season with two spikes: one in the start of january, the other at the end of february. Negative values of coeff3 correspond to a season with a single peak at the end of Jan.\n"
   ]
  },
  {
   "cell_type": "markdown",
   "metadata": {
    "collapsed": true
   },
   "source": [
    "### Geographical distribution of first 4 coefficients. "
   ]
  },
  {
   "cell_type": "markdown",
   "metadata": {},
   "source": [
    "The geographical distribution of first 4 coefficients is following:\n",
    "![Geographic.png](my_figures/Geographic.png)"
   ]
  },
  {
   "cell_type": "markdown",
   "metadata": {},
   "source": [
    "## The variation in the timing of snow is mostly due to year-to-year variation\n",
    "In the previous section we see the variation of Coeff1, which corresponds to the total amount of snow, with respect to location. We now estimate the relative importance of location-to-location variation relative to year-by-year variation.\n",
    "\n",
    "These are measured using the fraction by which the variance is reduced when we subtract from each station/year entry the average-per-year or the average-per-station respectively. Here are the results:\n",
    "\n",
    "** coeff_1 **  \n",
    "total MS                   = 11289133.9245  \n",
    "\n",
    "MS removing mean-by-station= 3536527.60776, fraction explained=68.6731716408 \n",
    "\n",
    "MS removing mean-by-year   = 6277212.17392, fraction explained=44.3959809856  \n",
    "\n",
    "** coeff_2 **  \n",
    "total MS                   = 1511743.16833  \n",
    "\n",
    "MS removing mean-by-station= 1188617.63333, fraction explained= 21.3743671393 \n",
    "\n",
    "MS removing mean-by-year   = 738384.660757, fraction explained= 51.1567390398  \n",
    "\n",
    "** coeff_3 **  \n",
    "total MS                   = 1106973.62227 \n",
    "\n",
    "MS removing mean-by-station= 1038254.48275, fraction explained= 6.20783893398 \n",
    "\n",
    "MS removing mean-by-year   = 482709.304796, fraction explained= 56.3937843607  \n",
    "\n",
    "We see that the variation by year explains more than the variation by station for coeff_2 and coeff_3. However this effect is weaker considering coeff_1, which has to do with the total snowfall, vs. coeff_2,3 which, as we saw above have to do with the timining of snowfall. We see that for coeff_2,3 the stations explain less of the variance than  the year."
   ]
  },
  {
   "cell_type": "code",
   "execution_count": null,
   "metadata": {
    "collapsed": true
   },
   "outputs": [],
   "source": []
  }
 ],
 "metadata": {
  "kernelspec": {
   "display_name": "Python 2",
   "language": "python",
   "name": "python2"
  },
  "language_info": {
   "codemirror_mode": {
    "name": "ipython",
    "version": 2
   },
   "file_extension": ".py",
   "mimetype": "text/x-python",
   "name": "python",
   "nbconvert_exporter": "python",
   "pygments_lexer": "ipython2",
   "version": "2.7.13"
  }
 },
 "nbformat": 4,
 "nbformat_minor": 2
}
