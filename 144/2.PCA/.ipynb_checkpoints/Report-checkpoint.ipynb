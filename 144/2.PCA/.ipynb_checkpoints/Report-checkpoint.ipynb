{
 "cells": [
  {
   "cell_type": "markdown",
   "metadata": {},
   "source": [
    "# Report \n",
    "\n",
    "My file index = 'SSSSBSBB' \n",
    "\n",
    "The weather analysis region is at **New Mexico**.\n",
    "\n",
    "## New Mexico Weather Data Measurements\n",
    "The data set we use is from [NOAA](https://www.ncdc.noaa.gov/). Specifically, it was downloaded from This [FTP site](ftp://ftp.ncdc.noaa.gov/pub/data/ghcn/daily/).\n",
    "\n",
    "\n",
    "There are six measurements in the data:\n",
    "* **TMIN, TMAX:** the daily minimum and maximum temperature.\n",
    "* **TOBS:** The average temperature for each day.\n",
    "* **PRCP:** Daily Percipitation (in mm)\n",
    "* **SNOW:** Daily snowfall (in mm)\n",
    "* **SNWD:** The depth of accumulated snow.\n",
    "\n",
    "\n",
    "## PCA Analysis\n",
    "\n",
    "For each of the six measurement, I compute the percentate of the variance explained as a function of the number of eigen-vectors used.\n",
    "\n",
    "### Percentage of variance\n",
    "![variance1.png](m_figures/variance1.png)\n",
    "We see that the top 5 eigen-vectors explain 45% of variance for TMIN, 57% for TOBS and 48% for TMAX.\n",
    "We conclude that of the three, TOBS is best explained by the top 5 eigenvectors. \n",
    "![variance2.png](m_figures/variance2.png)\n",
    "\n",
    "The top 5 eigenvectors explain 14% of the variance for SNOW and 8% for PRCP. Both are low values.\n",
    "\n",
    "However, we can observe that the top 5 eigenvectors explain about 75% of the variance of SNWD, which is the highest among other 5 measurements. This means that these top 5 eigenvectors capture most of the variation in the snow depth measurements. \n",
    "Therefore, I choose to analyze this measurement."
   ]
  },
  {
   "cell_type": "markdown",
   "metadata": {},
   "source": [
    "### SNWD Analysis\n",
    "\n",
    "First, We plot the mean and the top 3 eigen-vectors of the accumulated snow depth measurement.\n",
    "\n",
    "![SNWD_mean_eigs.png](m_figures/SNWD_mean_eigs.png)"
   ]
  },
  {
   "cell_type": "markdown",
   "metadata": {},
   "source": [
    "We can observe that the snow season is between late October and mid April and the snow depth peaks in Febuary.\n",
    "We can interpret the three eigenvectors as follow:\n",
    "* eig1: has the similar shape with the mean function, mostly caputers the trend of the accumulate snow depth. \n",
    "* eig2: more snow in November until January, less snow in March until April\n",
    "* eig3: some decrease in January, make snow depth peaked in Febuary\n"
   ]
  },
  {
   "cell_type": "markdown",
   "metadata": {
    "collapsed": true
   },
   "source": [
    "### How well-explained are the vectors in this collection?\n",
    "![res3.png](m_figures/res3.png)\n",
    "The plot is the distribution of res_3 over all examples. We can observe that the top 3 eigen vectors explain the data.\n",
    "\n",
    "The reason is that lesser the residual variance after subtracting the mean and projections of top 3 eigen vectors, more is the variance explained by the top 3 eigen vectors, which also means that most variance is in the direction of these 3 eigen vectors. "
   ]
  },
  {
   "cell_type": "markdown",
   "metadata": {},
   "source": [
    "### Example of Reconstruction\n",
    "Coeff1: most positive\n",
    "![pos_coeff1.png](m_figures/pos_coeff1.png)\n",
    "Coeff1: most negative\n",
    "![neg_coeff1.png](m_figures/neg_coeff1.png)\n",
    "Large positive values of coeff1 correspond to more than average snow. Low values correspond to less than average snow.\n",
    "\n",
    "#### Coeff2\n",
    "Coeff2: most positive\n",
    "![pos_coeff2.png](m_figures/pos_coeff2.png)\n",
    "Coeff2: most negative\n",
    "![neg_coeff2.png](m_figures/neg_coeff2.png)\n",
    "\n",
    "Large positive values of coeff2 correspond to a late snow season, while negative values for coeff2 correspond to an early snow season.\n",
    "#### Coeff3\n",
    "Coeff3: most positive\n",
    "![pos_coeff3.png](m_figures/pos_coeff3.png)\n",
    "Coeff3: most negative\n",
    "![neg_coeff3.png](m_figures/neg_coeff3.png)\n",
    "\n",
    "Large positive values of coeff3 correspond to a snow season with two spikes.\n",
    "\n"
   ]
  },
  {
   "cell_type": "markdown",
   "metadata": {},
   "source": [
    "### Best Reconstruction\n",
    "![best_reconstruction.png](m_figures/best_reconstruction.png)\n",
    "residual normalized norm  after mean: 0.986952173789\n",
    "\n",
    "residual normalized norm  after mean + top eigs: [ 0.09688397  0.05051108  0.03538565]\n",
    "\n",
    "We can observe that with top 3 eigenvectors, we can more accurately reconstruct the accumulated snow depth data with 0.03 residual."
   ]
  },
  {
   "cell_type": "markdown",
   "metadata": {},
   "source": [
    "### Visualizing the distribution of the observations\n",
    "![data_on_map.png](m_figures/data_on_map.png)"
   ]
  },
  {
   "cell_type": "markdown",
   "metadata": {
    "collapsed": true
   },
   "source": [
    "### Is SNWD variation spatial or temporal?\n",
    "To estimate the effect of time vs. location on the first eigenvector coefficient we compute:\n",
    "* The average row: mean-by-station\n",
    "* The average column: mean-by-year\n",
    "\n",
    "We then compute the RMS before and after subtracting either the row or the column vector. The result is as follows:\n",
    "\n",
    "* total RMS                    =  219.387409639\n",
    "* RMS removing mean-by-station =  180.900661223\n",
    "* RMS removing mean-by-year    =  177.524794609\n",
    "\n",
    "We see that the variation by year explains more than the variation by station. Therefore, the SNWD variation is more temporal."
   ]
  },
  {
   "cell_type": "markdown",
   "metadata": {},
   "source": [
    "### SNWD relation between stations\n",
    "\n",
    "We want to find if the accumulated snow depth in the two locations is independent.\n",
    "\n",
    "Using the inner product is too noisy, because you multiply the measurement on the same day in two locations and that product can be very large - leading to a large variance and poor ability to discriminate.\n",
    "\n",
    "An alternative is to ignore the amount of rain, and just ask whether it rained in both locations. We can then compute the probability associated with the number of overlaps.\n",
    "\n",
    "#### Compare between two stations\n",
    "\n",
    "The station I choose are USC00293265 and USC00293615 within the designated area in New Mexico. The result is as below:\n",
    "\n",
    "![relation.png](m_figures/relation.png)"
   ]
  },
  {
   "cell_type": "markdown",
   "metadata": {},
   "source": [
    "We can observe from the figure that most of the data points have low p-value, mostly below 0.1. The spike of p-values at 0.4 represents the p-value when comparing a station with itself, which is not relative to our analysis.\n",
    "\n",
    "Our conclusion is that this two stations is independent of one another. "
   ]
  },
  {
   "cell_type": "markdown",
   "metadata": {},
   "source": [
    "#### Compare all stations with respect to other\n",
    "The next few graphs look further into specifically which stations have low p-values with one another. The X and Y represent the index of a station. The color of the dot represents the significance of the p-value for those two stations. \n",
    "\n",
    "We can make the conclusions that most of them are independent.\n",
    "![p_norm_1.png](m_figures/p_norm_1.png)\n",
    "![p_norm_2.png](m_figures/p_norm_2.png)"
   ]
  },
  {
   "cell_type": "code",
   "execution_count": null,
   "metadata": {
    "collapsed": true
   },
   "outputs": [],
   "source": []
  }
 ],
 "metadata": {
  "kernelspec": {
   "display_name": "Python 2",
   "language": "python",
   "name": "python2"
  },
  "language_info": {
   "codemirror_mode": {
    "name": "ipython",
    "version": 2
   },
   "file_extension": ".py",
   "mimetype": "text/x-python",
   "name": "python",
   "nbconvert_exporter": "python",
   "pygments_lexer": "ipython2",
   "version": "2.7.13"
  }
 },
 "nbformat": 4,
 "nbformat_minor": 2
}
