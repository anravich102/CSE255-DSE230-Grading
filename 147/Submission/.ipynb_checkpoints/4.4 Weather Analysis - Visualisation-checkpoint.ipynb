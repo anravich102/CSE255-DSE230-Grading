{
 "cells": [
  {
   "cell_type": "markdown",
   "metadata": {
    "deletable": true,
    "editable": true,
    "run_control": {
     "frozen": false,
     "read_only": false
    }
   },
   "source": [
    "### Visualizing the distribution of the observations\n",
    "\n",
    "### Load the required libraries"
   ]
  },
  {
   "cell_type": "code",
   "execution_count": 5,
   "metadata": {
    "collapsed": false
   },
   "outputs": [],
   "source": [
    "sc.stop()"
   ]
  },
  {
   "cell_type": "code",
   "execution_count": 4,
   "metadata": {
    "collapsed": false,
    "deletable": true,
    "editable": true,
    "run_control": {
     "frozen": false,
     "read_only": false
    },
    "slideshow": {
     "slide_type": "slide"
    }
   },
   "outputs": [
    {
     "name": "stdout",
     "output_type": "stream",
     "text": [
      "Populating the interactive namespace from numpy and matplotlib\n",
      "keys from STAT= ['TMIN', 'TOBS', 'TMAX', 'SNOW', 'SNWD', 'PRCP']\n",
      "12673\n",
      "+---------+--------+---------+-----------+-----------+------+--------------------+------+--------+\n",
      "|elevation|latitude|longitude|measurement|    station|undefs|              vector|  year|   label|\n",
      "+---------+--------+---------+-----------+-----------+------+--------------------+------+--------+\n",
      "|    500.2| 48.7603|-101.5089|       TMAX|USC00326025|    40|[90 D5 00 7E 00 7...|1894.0|SBBBBBSB|\n",
      "|    500.2| 48.7603|-101.5089|       TMAX|USC00326025|    43|[A0 D6 A0 D6 00 7...|1895.0|SBBBBBSB|\n",
      "|    500.2| 48.7603|-101.5089|       TMAX|USC00326025|    22|[A0 D3 00 C6 00 0...|1898.0|SBBBBBSB|\n",
      "|    500.2| 48.7603|-101.5089|       TMAX|USC00326025|    47|[00 7E E0 D5 A0 D...|1900.0|SBBBBBSB|\n",
      "|    500.2| 48.7603|-101.5089|       TMAX|USC00326025|    47|[00 7E 00 7E 00 7...|1901.0|SBBBBBSB|\n",
      "+---------+--------+---------+-----------+-----------+------+--------------------+------+--------+\n",
      "only showing top 5 rows\n",
      "\n"
     ]
    }
   ],
   "source": [
    "import pandas as pd\n",
    "import numpy as np\n",
    "import sklearn as sk\n",
    "import urllib\n",
    "import math\n",
    "%pylab inline\n",
    "\n",
    "import findspark\n",
    "findspark.init(\"C:\\opt\\spark\")\n",
    "\n",
    "from pyspark import SparkContext\n",
    "#sc.stop()\n",
    "sc = SparkContext(master=\"local[3]\",pyFiles=['lib/numpy_pack.py','lib/spark_PCA.py','lib/computeStats.py'])\n",
    "\n",
    "from pyspark import SparkContext\n",
    "from pyspark.sql import *\n",
    "sqlContext = SQLContext(sc)\n",
    "\n",
    "import sys\n",
    "sys.path.append('./lib')\n",
    "\n",
    "import numpy as np\n",
    "from numpy_pack import packArray,unpackArray\n",
    "from spark_PCA import computeCov\n",
    "from computeStats import computeOverAllDist, STAT_Descriptions\n",
    "\n",
    "### Read the data frame from pickle file\n",
    "\n",
    "data_dir='../../Data/Weather'\n",
    "file_index='SBBBBBSB'\n",
    "\n",
    "from pickle import load\n",
    "\n",
    "#read statistics\n",
    "filename=data_dir+'/STAT_%s.pickle'%file_index\n",
    "STAT,STAT_Descriptions = load(open(filename,'rb'))\n",
    "print 'keys from STAT=',STAT.keys()\n",
    "\n",
    "#read data\n",
    "filename=data_dir+'/US_Weather_%s.parquet'%file_index\n",
    "\n",
    "df=sqlContext.read.parquet(filename)\n",
    "print df.count()\n",
    "df.show(5)"
   ]
  },
  {
   "cell_type": "code",
   "execution_count": 5,
   "metadata": {
    "collapsed": false
   },
   "outputs": [],
   "source": [
    "m = 'SNWD'"
   ]
  },
  {
   "cell_type": "code",
   "execution_count": 6,
   "metadata": {
    "collapsed": false
   },
   "outputs": [
    {
     "data": {
      "text/plain": [
       "(365L, 365L)"
      ]
     },
     "execution_count": 6,
     "metadata": {},
     "output_type": "execute_result"
    }
   ],
   "source": [
    "STAT[m]['eigvec'].shape"
   ]
  },
  {
   "cell_type": "markdown",
   "metadata": {
    "deletable": true,
    "editable": true,
    "run_control": {
     "frozen": false,
     "read_only": false
    },
    "slideshow": {
     "slide_type": "slide"
    }
   },
   "source": [
    "### Select data for a particular station and measurement type"
   ]
  },
  {
   "cell_type": "code",
   "execution_count": 7,
   "metadata": {
    "collapsed": false,
    "deletable": true,
    "editable": true,
    "run_control": {
     "frozen": false,
     "read_only": false
    },
    "slideshow": {
     "slide_type": "subslide"
    }
   },
   "outputs": [
    {
     "name": "stdout",
     "output_type": "stream",
     "text": [
      "SELECT * FROM weather\n",
      "\tWHERE measurement='TMIN' and station='USC00326025'\n",
      "81 rows\n",
      "+---------+--------+---------+-----------+-----------+------+--------------------+------+--------+\n",
      "|elevation|latitude|longitude|measurement|    station|undefs|              vector|  year|   label|\n",
      "+---------+--------+---------+-----------+-----------+------+--------------------+------+--------+\n",
      "|    500.2| 48.7603|-101.5089|       TMIN|USC00326025|    34|[B0 D8 00 7E 00 7...|1894.0|SBBBBBSB|\n",
      "|    500.2| 48.7603|-101.5089|       TMIN|USC00326025|    42|[10 DA 00 7E 00 7...|1895.0|SBBBBBSB|\n",
      "+---------+--------+---------+-----------+-----------+------+--------------------+------+--------+\n",
      "only showing top 2 rows\n",
      "\n"
     ]
    },
    {
     "data": {
      "text/plain": [
       "(81L, 365L)"
      ]
     },
     "execution_count": 7,
     "metadata": {},
     "output_type": "execute_result"
    }
   ],
   "source": [
    "sqlContext.registerDataFrameAsTable(df,'weather')\n",
    "Query=\"SELECT * FROM weather\\n\\tWHERE measurement='%s' and station='%s'\"%('TMIN','USC00326025')\n",
    "print Query\n",
    "df1 = sqlContext.sql(Query)\n",
    "print df1.count(),'rows'\n",
    "df1.show(2)\n",
    "rows=df1.rdd.map(lambda row:unpackArray(row['vector'],np.float16)).collect()\n",
    "T=np.vstack(rows)\n",
    "T=T/10.  # scaling to make the temperature be in centingrates\n",
    "shape(T)"
   ]
  },
  {
   "cell_type": "code",
   "execution_count": 8,
   "metadata": {
    "collapsed": false
   },
   "outputs": [
    {
     "name": "stdout",
     "output_type": "stream",
     "text": [
      "1884.0 2012.0\n"
     ]
    }
   ],
   "source": [
    "Query_Year = \"SELECT year FROM weather\"\n",
    "year_list = sqlContext.sql(Query_Year).collect()\n",
    "years = [row[0] for row in year_list]\n",
    "print min(years),max(years)"
   ]
  },
  {
   "cell_type": "code",
   "execution_count": null,
   "metadata": {
    "collapsed": true
   },
   "outputs": [],
   "source": []
  },
  {
   "cell_type": "markdown",
   "metadata": {},
   "source": [
    "# Original Implementation of Study of Rise in Winter Temperatures"
   ]
  },
  {
   "cell_type": "code",
   "execution_count": 9,
   "metadata": {
    "collapsed": false
   },
   "outputs": [],
   "source": [
    "def return_temp_data(measurement):\n",
    "\n",
    "    Query_temp = \"SELECT * FROM weather\\n\\tWHERE measurement= '\"+measurement+\"' and station='%s'\"%('USC00326025')\n",
    "    print Query_temp\n",
    "    df_T = sqlContext.sql(Query_temp)\n",
    "    print df_T.count(),'rows'\n",
    "    df_T.show(2)\n",
    "    rows=df_T.rdd.map(lambda row:unpackArray(row['vector'],np.float16)).collect()\n",
    "    T_max = np.vstack(rows)\n",
    "    return T_max"
   ]
  },
  {
   "cell_type": "code",
   "execution_count": null,
   "metadata": {
    "collapsed": false
   },
   "outputs": [],
   "source": [
    "from scipy import stats"
   ]
  },
  {
   "cell_type": "code",
   "execution_count": 11,
   "metadata": {
    "collapsed": false
   },
   "outputs": [],
   "source": []
  },
  {
   "cell_type": "code",
   "execution_count": 62,
   "metadata": {
    "collapsed": false
   },
   "outputs": [],
   "source": [
    "def plot_winter(T,measurement):\n",
    "    winter_temp = []\n",
    "    for temp in T:\n",
    "        winter_temp.append(np.nanmean(temp))\n",
    "    xi = np.arange(0,len(winter_temp))\n",
    "    slope, intercept, r_value, p_value, std_err = stats.linregress(xi,winter_temp)\n",
    "    line = slope*xi+intercept\n",
    "    print \"slope is :\"+str(slope)\n",
    "    plt.plot(xi,winter_temp,'o', xi, line)\n",
    "    plt.title(\"Mean \"+measurement+\" statistics for past \"+str(len(xi))+\" years\")\n",
    "    plt.ylabel(measurement)\n",
    "    plt.xlabel(\"years\")\n",
    "    #plt.plot(winter_temp,'rx')"
   ]
  },
  {
   "cell_type": "code",
   "execution_count": 67,
   "metadata": {
    "collapsed": true
   },
   "outputs": [],
   "source": [
    "def plot_winter_var(T,measurement):\n",
    "    winter_temp = []\n",
    "    for temp in T:\n",
    "        winter_temp.append(np.nanstd(temp))\n",
    "    print winter_temp\n",
    "    xi = np.arange(0,len(winter_temp))\n",
    "    slope, intercept, r_value, p_value, std_err = stats.linregress(xi,winter_temp)\n",
    "    line = slope*xi+intercept\n",
    "    print \"slope is :\"+str(slope)\n",
    "    plt.plot(xi,winter_temp,'o', xi, line)\n",
    "    plt.title(\"Std Deviation \"+measurement+\" statistics for past \"+str(len(xi))+\" years\")\n",
    "    plt.ylabel(measurement)\n",
    "    plt.xlabel(\"years\")"
   ]
  },
  {
   "cell_type": "code",
   "execution_count": 64,
   "metadata": {
    "collapsed": false
   },
   "outputs": [
    {
     "name": "stdout",
     "output_type": "stream",
     "text": [
      "SELECT * FROM weather\n",
      "\tWHERE measurement= 'TMIN' and station='USC00326025'\n",
      "81 rows\n",
      "+---------+--------+---------+-----------+-----------+------+--------------------+------+--------+\n",
      "|elevation|latitude|longitude|measurement|    station|undefs|              vector|  year|   label|\n",
      "+---------+--------+---------+-----------+-----------+------+--------------------+------+--------+\n",
      "|    500.2| 48.7603|-101.5089|       TMIN|USC00326025|    34|[B0 D8 00 7E 00 7...|1894.0|SBBBBBSB|\n",
      "|    500.2| 48.7603|-101.5089|       TMIN|USC00326025|    42|[10 DA 00 7E 00 7...|1895.0|SBBBBBSB|\n",
      "+---------+--------+---------+-----------+-----------+------+--------------------+------+--------+\n",
      "only showing top 2 rows\n",
      "\n",
      "slope is :0.128699711883\n"
     ]
    },
    {
     "data": {
      "image/png": "iVBORw0KGgoAAAANSUhEUgAAAYoAAAEWCAYAAAB42tAoAAAABHNCSVQICAgIfAhkiAAAAAlwSFlz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\nUYiISCQlChERiaREISIikZQoREQk0v8HNJoLdN+UamgAAAAASUVORK5CYII=\n",
      "text/plain": [
       "<matplotlib.figure.Figure at 0x1357ed68>"
      ]
     },
     "metadata": {},
     "output_type": "display_data"
    }
   ],
   "source": [
    "T_min = return_temp_data('TMIN')\n",
    "plot_winter(T_min,'TMIN')"
   ]
  },
  {
   "cell_type": "code",
   "execution_count": null,
   "metadata": {
    "collapsed": false
   },
   "outputs": [],
   "source": []
  },
  {
   "cell_type": "code",
   "execution_count": 32,
   "metadata": {
    "collapsed": false
   },
   "outputs": [
    {
     "name": "stdout",
     "output_type": "stream",
     "text": [
      "SELECT * FROM weather\n",
      "\tWHERE measurement= 'TMAX' and station='USC00326025'\n",
      "68 rows\n",
      "+---------+--------+---------+-----------+-----------+------+--------------------+------+--------+\n",
      "|elevation|latitude|longitude|measurement|    station|undefs|              vector|  year|   label|\n",
      "+---------+--------+---------+-----------+-----------+------+--------------------+------+--------+\n",
      "|    500.2| 48.7603|-101.5089|       TMAX|USC00326025|    40|[90 D5 00 7E 00 7...|1894.0|SBBBBBSB|\n",
      "|    500.2| 48.7603|-101.5089|       TMAX|USC00326025|    43|[A0 D6 A0 D6 00 7...|1895.0|SBBBBBSB|\n",
      "+---------+--------+---------+-----------+-----------+------+--------------------+------+--------+\n",
      "only showing top 2 rows\n",
      "\n",
      "slope is :-0.0644503664542\n"
     ]
    },
    {
     "data": {
      "image/png": "iVBORw0KGgoAAAANSUhEUgAAAYoAAAEWCAYAAAB42tAoAAAABHNCSVQICAgIfAhkiAAAAAlwSFlz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\nz3qZEl8AAAAASUVORK5CYII=\n",
      "text/plain": [
       "<matplotlib.figure.Figure at 0x138ac2