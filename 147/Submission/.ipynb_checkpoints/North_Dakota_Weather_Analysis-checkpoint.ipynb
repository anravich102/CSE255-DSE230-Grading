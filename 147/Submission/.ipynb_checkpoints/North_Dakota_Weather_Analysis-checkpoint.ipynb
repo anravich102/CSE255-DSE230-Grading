{
 "cells": [
  {
   "cell_type": "markdown",
   "metadata": {},
   "source": [
    "# North Dakota Weather Analysis\n",
    "\n"
   ]
  },
  {
   "cell_type": "markdown",
   "metadata": {},
   "source": [
    "### Max Latitude and Longitude Obtained from Data\n",
    "\n",
    "An analysis on the range of latitude and longitude obtained from the dataset pointed to the fact that the region under study was the nothern part of North Dakota (close to Canada border). The area has been marked as the great flood plains and much interest has been shows in the weather statistics of North Dakota for study in climate change. The author of this report has taken this opportunity to study further various statistics which could provide evidence for climate change over the years.\n",
    "\n",
    "The data we will use here comes from [NOAA](https://www.ncdc.noaa.gov/). Specifically, it was downloaded from This [FTP site](ftp://ftp.ncdc.noaa.gov/pub/data/ghcn/daily/).\n",
    "\n",
    "Do note that there were some negative eigenvalues in the covariance matrix of the SNWD dataset. This must not be the case as the covariance matrix must be PSD. However various analysis were performed with the given data set. \n",
    "\n",
    "We focused on six measurements:\n",
    "* **TMIN, TMAX:** the daily minimum and maximum temperature.\n",
    "* **TOBS:** The average temperature for each day.\n",
    "* **PRCP:** Daily Percipitation (in mm)\n",
    "* **SNOW:** Daily snowfall (in mm)\n",
    "* **SNWD:** The depth of accumulated snow.\n",
    "\n",
    "\n",
    "<p><img alt=\"Climate_North_Dakota\" src=\"my_report/North_Dakota.png\" /></p>\n",
    "\n",
    "\n",
    "\n",
    "## Sanity-check: comparison with outside sources\n",
    "\n",
    "<p>We start by comparing some of the general statistics with graphs that we obtained from a site called <a href=\"http://www.usclimatedata.com/climate/minot/north-dakota/united-states/usnd0551\" target=\"_blank\">US Climate Data</a> The graph below shows the daily minimum and maximum temperatures for each month, as well as the total precipitation for each month.</p>\n",
    "\n",
    "<p>&nbsp;</p>\n",
    "\n",
    "<p><img alt=\"Climate_Boston_-_Massachusetts_and_Weather_averages_Boston.jpg\" src=\"my_report/weather_truth.png\" /></p>\n",
    "\n",
    "<p>&nbsp;</p>\n",
    "\n",
    "<p>We see that the min and max daily&nbsp;temperature agree with the ones we got from our data, once we translate Fahrenheit to Centigrade.</p>\n",
    "\n",
    "<p>&nbsp;</p>\n",
    "\n",
    "<p><img alt=\"TMIN,TMAX.png\" src=\"my_report/T_Max_T_Min.png\" style=\"height:300px; width:800px\" /></p>\n",
    "\n",
    "The KS-test is a statistical tool used to check the equality of a sample distribution to a reference probability distribution. We use this test to ensure that the data provided matches with data in usweather.com for the region of Minot, North Dakota. \n",
    "\n",
    "On running the KS test on TMAX for the distributions of actual TMAX data(mean) from usweather.com and the mean of TMAX per month from the provided data, the p value obtained was equal to 0.80. This is sufficient evidence to convince that the data sets are the same. Similar analysis can be run for T min and Precipitation to verify similarity in the nature of data.\n",
    "\n",
    "<p>The rain fall pattern seems to match the ground truth weather data. It goes up and reaches maximum at June - July period and goes down again after. </p>\n",
    "\n",
    "<p>&nbsp;<img alt=\"PRCP.png\" src=\"my_report/Precipitation_Check.png\" style=\"height:450px; width:600px\" /></p>\n",
    "\n",
    "\n",
    "\n",
    "Taking the area of the trapezium (approximate) from June to October in the generated graph we can see that the average rain corresponds to 8.66 inches. On checking the actual data we can notice that the total average rain in the same 3 month window was 8 inches. This completes the sanity check part. \n",
    "\n"
   ]
  },
  {
   "cell_type": "markdown",
   "metadata": {},
   "source": [
    "## PCA analysis\n",
    "\n",
    "For each of the six measurement, we compute the percentate of the variance explained as a function of the number of eigen-vectors used.\n",
    "\n",
    "### Percentage of variance explained.\n",
    "![variance_temp.png](my_report/variance_temp.png)\n",
    "We see that the top 5 eigen-vectors explain 12% of variance for TMIN, 34% for TOBS and 20% for TMAX.\n",
    "\n",
    "We conclude that of the three, TOBS is best explained by the top 5 eigenvectors. This is especially true for the first eigen-vector which, by itself, explains 25% of the variance.\n",
    "\n",
    "![VarExplained2.png](my_report/variance_other.png)\n",
    "\n",
    "The top 5 eigenvectors explain 9% of the variance for PRCP and 12% for SNOW. Both are low values. On the other hand the top 5 eigenvectors explain %90 of the variance for SNWD. This means that these top 5 eigenvectors capture most of the variation in the snow depth signal. Based on that we will dig deeper into the PCA analysis for snow-depth.\n"
   ]
  },
  {
   "cell_type": "markdown",
   "metadata": {},
   "source": [
    "## Analysis of snow depth\n",
    "\n",
    "We choose to analyze the eigen-decomposition for snow-depth because the first 4 eigen-vectors explain 70% of the variance.\n",
    "\n",
    "First, we graph the mean and the top 4 eigen-vectors.\n",
    "\n",
    "We observe that the snow season is from mid-november to the end of march, where the month of February marks the peak of the snow-depth.\n",
    "\n",
    "![SNWD_mean_eigs.png](my_report/SNWD_Mean_Eigs.png)\n",
    "\n"
   ]
  },
  {
   "cell_type": "markdown",
   "metadata": {
    "collapsed": true
   },
   "source": [
    "Next we interpret the eigen-functions. The first eigen-function (eig1) has a shape very similar to the mean function. The main difference is that the eigen-function is close to zero during october-december while the mean is not.  The interpretation of this shape is that eig1 represents the overall amount of snow above/below the mean, but without changing the distribution over time. In order to confirm this we explore another statistical measure called coefficient of variation. The coefficient of variation is a measure of spread that describes the amount of variability relative to the mean. Because the coefficient of variation is unitless, we can use it instead of the standard deviation to compare the spread of data sets that have different units or different means.\n",
    "\n",
    "In other words, the measure simply compares the shape of how similar 2 distributions are without taking in the magnitude measures. When taking the coefficient of variation for the mean and eigenvector 1, the results obtained are: \n",
    "\n",
    "Coefficient of variation for Mean distribution  1.35122505277\n",
    "Coefficient of variation for eig1 distribution  1.68186742718\n",
    "\n",
    "From the results we can infer that the 2 distributions are fairly close and conclude that eigenvecor 1 indeed represents variation from the mean. \n",
    "\n",
    "**eig2,eig3 and eig4** are similar in the following way. They all oscilate between positive and negative values.\n",
    "\n",
    "In other words, they correspond to changing the distribution of the snow depth over the winter months, but they dont change the total (much).\n",
    "\n",
    "They can be interpreted as follows:\n",
    "* **eig2:** less snow in Dec - end Feb, more snow in end Feb - March\n",
    "* **eig3:** more snow in Dec, less snow in Jan, Feb\n",
    "* **eig4:** more snow in deJanc, less snow in Feb - beginning of March, more snow in March"
   ]
  },
  {
   "cell_type": "markdown",
   "metadata": {},
   "source": [
    "### Examples of reconstructions\n",
    "\n",
    "#### Coeff1\n",
    "Coeff1: most positive\n",
    "![SNWD_grid_Pos_coeff1.png](my_report/coeff_1_positive.png)\n",
    "Coeff1: most negative\n",
    "![SNWD_grid_neg_coeff1.png](my_report/coeff_1_negative.png)\n",
    "Large positive values of coeff1 correspond to more than average snow. Low values correspond to less than average snow.\n",
    "\n",
    "#### Coeff2\n",
    "Coeff2: most positive\n",
    "![SNWD_grid_Pos_coeff2.png](my_report/coeff_2_positive.png)\n",
    "Coeff2: most negative\n",
    "![SNWD_grid_neg_coeff2.png](my_report/coeff_2_negative.png)\n",
    "\n",
    "Large positive values of coeff2 correspond to a late snow season (most of the snowfall is after mid feb). Negative values for coeff2 correspond to an early termination of snow season, most of the snow is before mid-Feb. \n",
    "\n",
    "#### Coeff3\n",
    "Coeff3: most positive\n",
    "![SNWD_grid_Pos_coeff3.png](my_report/coeff_3_positive.png)\n",
    "Coeff3: most negative\n",
    "![SNWD_grid_neg_coeff3.png](my_report/coeff_3_negative.png)\n",
    "\n",
    "\n",
    "\n"
   ]
  },
  {
   "cell_type": "markdown",
   "metadata": {},
   "source": [
    "Large negative values of coeff3 correspond to a snow season with two spikes: one in December, the other at the mid of february. Large positive values of coeff3 correspond to a season with peaks till mid of February."
   ]
  },
  {
   "cell_type": "markdown",
   "metadata": {
    "collapsed": true
   },
   "source": [
    "## CDF Analysis\n",
    "\n",
    "![SNWD_grid_neg_coeff3.png](my_report/CDF_res1_2_3.png)\n",
    "\n",
    "From the above plot we can see that res_1 goes to 1 the slowest in comparison to res_2 and res_3. This is in line with theortical understanding as well. res_2 and res_3 are cumulative measurements with eigenvectors 1,2 and 1,2,3 respectively. The reconstruction error for res_3 should be the least. \n",
    "\n",
    "![SNWD_grid_neg_coeff3.png](my_report/CDF_coeff_1_2_3.png)\n",
    "\n",
    "From the above plot we can see that coeff_1 has the highest probability of having very high coefficient values in comparison to coeff_2 and coeff_3. This is in line with theoretical understanding as well because eigenvector 1 contributes most to capturing variance data and hence has the highest coefficient values as well."
   ]
  },
  {
   "cell_type": "markdown",
   "metadata": {},
   "source": [
    "# IpyLeaflet Maps\n",
    "\n",
    "## Legend to Map\n",
    "\n",
    "![SNWD_grid_neg_coeff3.png](my_report/Screenshot_with_legend_3.png)\n",
    "\n",
    "The map with the legend of colors is attached. colors represent magnitude of Coefficient 1. "
   ]
  },
  {
   "cell_type": "markdown",
   "metadata": {},
   "source": [
    "# RMS Analysis"
   ]
  },
  {
   "cell_type": "markdown",
   "metadata": {},
   "source": [
    "# Residual Analysis\n",
    "\n",
    "\n",
    "\n",
    "From the above figure, we can infer that there is significant snow in 35% of the days. It is at that value that the cumulative probability is non-zero for a non-zero point on the x-axis. (since CDF values provide value of P(x) < x). \n",
    "\n",
    "<p>&nbsp;<img src=\"my_report/SNWD_CDF_plot.png\" style=\"height:300px;float:left;\" /><img src=\"my_report/SNWD_Mean_Eigs.png\" style=\"height:258px;\" /></p>\n",
    "\n",
    "![SNWD_grid_neg_coeff3.png](my_report/significance.png)\n",
    "\n",
    "The above histogram shows a plot of the significance of data. The values the correlation values between various stations. The sudden spike observed at 0.4 can be attributed to assigning a value of 0.4 to the diagonal elements (correlation between the same station). Apart from this spike, the data resembles a uniform distribution. \n",
    "\n",
    "![SNWD_grid_neg_coeff3.png](my_report/P_norm.png)\n",
    "\n",
    "The P_norm distribution shows a heatmap of the correlation probability values. We observe that there are alernating points of dark and white. Given the objective is to cluster points with similar correlation values, we need a way to group the dark patterns together. \n",
    "\n",
    "The 47x47 matrix corresponds to correlation of 47 stations with each of the other 47 stations. In order to check spatial similarity in correlation values between weather stations, PCA is applied to the matrix shown in the above figure. \n",
    "\n",
    "From the plot below, we can see that the top 10 eigenvectors contributes to around 90% of the variance explained in the data set. \n",
    "\n",
    "![SNWD_grid_neg_coeff3.png](my_report/variance_p_corr.png)\n",
    "\n",
    "We take the first 4 eigenvectors of the P_norm matrix and try to cluster data. In order to facilitate this, we sort the components of the first eigenvector of the decomposition and rearrange the stations according to the indices of the sorted eigenvector. The plots obtained on applying this procedure to the first 4 eigenvectors are plot below.\n",
    "\n",
    "![SNWD_grid_neg_coeff3.png](my_report/P_norm_rearrange_1.png)\n",
    "\n",
    "Switching attention now to the top left box, we notice that we have 24 dark lines clustered together (do note that the matrix is symmetric). This is a representation of stations with similar correlation values and are potentially correlated together. We now plot the geographical spread of the stations to check for spatial similarity. The latitude and longitude data of the correlated stations are taken and plot using gmplot. \n",
    "\n",
    "![SNWD_grid_neg_coeff3.png](my_report/top_10_stations.png)\n",
    "\n",
    "We can see that the top 13 most correlated stations are all at a higher latitude when compared to the other stations. This makes sense to have latitude commonality as opposed to longitudinal for Snow Depth. Theoretically, it gets colder as we move north and hence stations with similar latitudes being grouped together is not surprising. Next, we will plot the top 22 well correlated stations. \n",
    "\n",
    "![SNWD_grid_neg_coeff3.png](my_report/top_22_stations.png)\n",
    "\n",
    "In the figure above we see that stations that are slightly south of the initial 13 stations come in this plot. Yet again, this is not surprising as they would have relatively lesser snow as these stations are south of the initial 13 and would have relatively \"warmer\" temperatures. \n",
    "\n",
    "An alernate method of visualizing the data is to plot the weather stations along with the coefficients of the first principal components. The below geo plot indicates the principal components by triangles with the size of the triangle representing the magnitude of the coefficient and the opacity of the triangle representing the sign of the coefficient (filled triangles for negative and un-filled triangles for positive coefficients). As we can see there are a few close weather stations with similar triangle structures,that is, similar principal components. Both the visualizations(the above map and the below map) conform that the weather stations near the region of Concord and Pleasant Hill are correlated and experience precipitaion on the same days of the year.\n",
    "\n",
    "We will now plot the weather stations along with the coefficients of the first proncipal component. The plot below made using ipyleaflet shows the principal components by triangles with the size of the triangle representing the magnitude of the coefficient and the opacity of the triangle representing the sign of the coefficient (filled triangles for negative and un-filled triangles for positive coefficients). Around Minot, we can see a few correlated weather stations. \n",
    "\n",
    "![SNWD_grid_neg_coeff3.png](my_report/Minot_triangle.png)\n",
    "\n",
    "\n",
    "For the sake of a sanity check, lets study the locations around Minot using the same method employed to plot the top 13 correlated stations by plotting the correlated stations around Minot. \n",
    "\n",
    "![SNWD_grid_neg_coeff3.png](my_report/Minot_heatmap.png)\n",
    "\n",
    "\n",
    "We can see that the 2 plots are in line. There are triangles of similar color and opacity Northwest and East of Minot which are shows arose in the correlated location plot as well. From this we can ensure that the method of using the principal components of correlation probability matrix yields good results for clustering correlated weather stations. \n"
   ]
  },
  {
   "cell_type": "markdown",
   "metadata": {},
   "source": [
    "# Temporal vs Spatial Analysis of Snow Depth\n",
    "\n",
    "In the previous section we see the variation of Coeff1, which corresponds to the total amount of rain, with respect to location. We now estimate the relative importance of location-to-location variation relative to year-by-year variation.\n",
    "These are measured using the fraction by which the variance is reduced when we subtract from each station/year entry the average-per-year or the average-per-station respectively. Here are the results:\n",
    "\n",
    "coeff_1<br/> \n",
    "total RMS                   = 1404.5940468<br/>\n",
    "RMS removing mean-by-station=  1227.21861038 Fraction Explained 1 = 87.37%<br/>\n",
    "RMS removing mean-by-year   =  861.918498952 Fraction Explained 2 =  61.36%<br/>\n",
    "\n",
    "\n",
    "coeff_2 <br/>\n",
    "total RMS                   =  646.118083143<br/>\n",
    "RMS removing mean-by-station=  172.563345122 Fraction explained= 4.55%<br/>\n",
    "RMS removing mean-by-year   =  80.9796786501 Fraction explained= 55.20%<br/>\n",
    "\n",
    "coeff_3<br/> \n",
    "total RMS                   = 593.153878274<br/>\n",
    "RMS removing mean-by-station=  571.389109917 Fraction Explained :  96.33%<br/>\n",
    "RMS removing mean-by-year   =  304.364718495 Fraction Explained :  51.31%<br/>\n",
    "\n",
    "We can conclude from the above data that the variation by year explains more than the variation by station as removal of the mean by year pulls down the RMS a lot more sigficantly. Coefficient 1 related to deviation from mean snow depth and coefficients 2 and 3 capture seasonal start and end of snow season. As a result we see that all 3 coefficients affect the RMS almost in  the same amount as the first 3 eigenvectors are all important in reconstructing the original data. Furthermore, we see that the Fraction explained by coefficient 1 > coefficient 2 > coefficient 3.  "
   ]
  },
  {
   "cell_type": "markdown",
   "metadata": {},
   "source": [
    "# Evidences Suporting Climate Change\n",
    "\n",
    "As mentioned in the introduction the author took the opportunity to use the data to look for evidences of climate change using North Dakota weather data. \n",
    "\n",
    "![SNWD_grid_neg_coeff3.png](my_report/mean_t_min.png)\n",
    "\n",
    "As shown in the above figure the mean minimum temperatures have been increasing over the past century steadily. This is a reflection of the global phenomenon wherein temperatures are increasing annually. Warmer tends to increase precipitation in cold areas and faster melting of snow during spring. \n",
    "\n",
    "![SNWD_grid_neg_coeff3.png](my_report/mean_snow.png)\n",
    "\n",
    "From the abpve plot we see that the quantity of snow has been on the rise for the past 100 years on the average. However, from closer inspection we note that spread of snowfall from the mean has increased in the past 20 years. This shows an increase in unpredictable/erratic weather behavior which is also an effect of climate change. \n",
    "\n",
    "![SNWD_grid_neg_coeff3.png](my_report/mean_prcp.png)\n",
    "\n",
    "As expected, warmer air in a cold place like North Dakota has led to an increase in the mean amount of precipitation over the years. Faster melting of snow and increased precipitation has led to an increase in the risk of flood  in North Dakota according to https://www.epa.gov/sites/production/files/2016-09/documents/climate-change-nd.pdf . The one positive thing however is the potential increase in the amount of hydro electric power production due to increase in flow rate in rivers going south which accounts for close to 5% of North Dakota's power supply. "
   ]
  },
  {
   "cell_type": "code",
   "execution_count": null,
   "metadata": {
    "collapsed": true
   },
   "outputs": [],
   "source": []
  },
  {
   "cell_type": "code",
   "execution_count": null,
   "metadata": {
    "collapsed": true
   },
   "outputs": [],
   "source": []
  }
 ],
 "metadata": {
  "anaconda-cloud": {},
  "kernelspec": {
   "display_name": "Python [conda env:py2]",
   "language": "python",
   "name": "conda-env-py2-py"
  },
  "language_info": {
   "codemirror_mode": {
    "name": "ipython",
    "version": 2
   },
   "file_extension": ".py",
   "mimetype": "text/x-python",
   "name": "python",
   "nbconvert_exporter": "python",
   "pygments_lexer": "ipython2",
   "version": "2.7.13"
  }
 },
 "nbformat": 4,
 "nbformat_minor": 1
}
