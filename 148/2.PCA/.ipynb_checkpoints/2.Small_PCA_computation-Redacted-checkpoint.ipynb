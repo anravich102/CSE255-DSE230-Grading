{
 "cells": [
  {
   "cell_type": "markdown",
   "metadata": {
    "run_control": {
     "frozen": false,
     "read_only": false
    },
    "slideshow": {
     "slide_type": "slide"
    }
   },
   "source": [
    "### Computing PCA using RDDs"
   ]
  },
  {
   "cell_type": "markdown",
   "metadata": {
    "run_control": {
     "frozen": false,
     "read_only": false
    },
    "slideshow": {
     "slide_type": "subslide"
    }
   },
   "source": [
    "###  PCA\n",
    "\n",
    "The vectors that we want to analyze have length, or dimension, of 365, corresponding to the number of \n",
    "days in a year.\n",
    "\n",
    "We want to perform [Principle component analysis (PCA)](https://en.wikipedia.org/wiki/Principal_component_analysis)\n",
    "on these vectors. There are two steps to this process:\n",
    "\n",
    "1. Computing the covariance matrix: this is a  simple computation. However, it takes a long time to compute and it benefits from using an RDD because it involves all of the input vectors.\n",
    "2. Computing the eigenvector decomposition. this is a more complex computation, but it takes a fraction of a second because the size to the covariance matrix is $365 \\times 365$, which is quite small. We do it on the head node usin `linalg`"
   ]
  },
  {
   "cell_type": "markdown",
   "metadata": {
    "run_control": {
     "frozen": false,
     "read_only": false
    },
    "slideshow": {
     "slide_type": "slide"
    }
   },
   "source": [
    "### Computing the covariance matrix\n",
    "Suppose that the data vectors are the column vectors denoted $x$ then the covariance matrix is defined to be\n",
    "$$\n",
    "E(x x^T)-E(x)E(x)^T\n",
    "$$\n",
    "\n",
    "Where $x x^T$ is the **outer product** of $x$ with itself.\n",
    "\n",
    "If the data that we have is $x_1,x_2,x_n$ then the estimates we use are:\n",
    "$$\n",
    "\\hat{E}(x x^T) = \\frac{1}{n} \\sum_{i=1}^n x_i x_i^T,\\;\\;\\;\\;\\;\n",
    "\\hat{E}(x) = \\frac{1}{n} \\sum_{i=1}^n x_i\n",
    "$$"
   ]
  },
  {
   "cell_type": "markdown",
   "metadata": {
    "run_control": {
     "frozen": false,
     "read_only": false
    },
    "slideshow": {
     "slide_type": "slide"
    }
   },
   "source": [
    "### `nan`s in arithmetic operations\n",
    "* We store all of the measurements as single `bytearray` in a single column. Instead of using 365 columns.\n",
    "* Why?\n",
    "  1. Because serializing and desirializing is faster that way.\n",
    "  1. Because numpy treats `nan` entries correctly:\n",
    "      * In `numpy.nansum` `5+nan=5` while in dataframes `5+nan=nan`"
   ]
  },
  {
   "cell_type": "code",
   "execution_count": 1,
   "metadata": {
    "slideshow": {
     "slide_type": "subslide"
    }
   },
   "outputs": [
    {
     "name": "stdout",
     "output_type": "stream",
     "text": [
      "mean of [1 1 1 2] = 1.25\n",
      "nanmean of [1 1 1 2] = 1.25\n",
      "mean of [  1.   1.  nan   2.] = nan\n",
      "nanmean of [  1.   1.  nan   2.] = 1.33333333333\n"
     ]
    }
   ],
   "source": [
    "import numpy as np\n",
    "X=np.array([1,1,1,2])\n",
    "print 'mean of',X,'=',np.mean(X)\n",
    "print 'nanmean of',X,'=',np.nanmean(X)\n",
    "X=np.array([1,1,np.NaN,2])\n",
    "print 'mean of',X,'=',np.mean(X)\n",
    "print 'nanmean of',X,'=',np.nanmean(X)"
   ]
  },
  {
   "cell_type": "markdown",
   "metadata": {
    "slideshow": {
     "slide_type": "subslide"
    }
   },
   "source": [
    "#### When should you not use `np.nanmean` ?\n",
    "Using `n.nanmean` is equivalent to assuming that choice of which elements to remove is independent of the values of the elements. \n",
    "* Example of bad case: suppose the larger elements have a higher probability of being `nan`. In that case `np.nanmean` will under-estimate the mean"
   ]
  },
  {
   "cell_type": "markdown",
   "metadata": {
    "slideshow": {
     "slide_type": "subslide"
    }
   },
   "source": [
    "#### Computing Cov matrix on vectors with NaNs\n",
    "As it happens, we often get vectors $x$ in which some, but not all, of the entries are `nan`. \n",
    "Suppose that we want to compute the mean of the elements of $x$. If we use `np.mean` we will get the result `nan`. A useful alternative is to use `np.nanmean` which removes the `nan` elements and takes the mean of the rest."
   ]
  },
  {
   "cell_type": "markdown",
   "metadata": {
    "slideshow": {
     "slide_type": "subslide"
    }
   },
   "source": [
    "#### Computing the covariance  when there are `nan`s\n",
    "The covariance is a mean of outer products.\n",
    "\n",
    "If the data that we have is $x_1,x_2,x_n$ then the estimates we use are:\n",
    "$$\n",
    "\\hat{E}(x x^T) = \\frac{1}{n} \\sum_{i=1}^n x_i x_i^T,\\;\\;\\;\\;\\;\n",
    "\\hat{E}(x) = \\frac{1}{n} \\sum_{i=1}^n x_i\n",
    "$$"
   ]
  },
  {
   "cell_type": "code",
   "execution_count": 2,
   "metadata": {
    "slideshow": {
     "slide_type": "subslide"
    }
   },
   "outputs": [
    {
     "data": {
      "text/plain": [
       "array([[[  1.,  nan,   3.,   4.,   5.],\n",
       "        [ nan,  nan,  nan,  nan,  nan],\n",
       "        [  3.,  nan,   9.,  12.,  15.],\n",
       "        [  4.,  nan,  12.,  16.,  20.],\n",
       "        [  5.,  nan,  15.,  20.,  25.]],\n",
       "\n",
       "       [[  4.,   6.,   8.,  nan,  12.],\n",
       "        [  6.,   9.,  12.,  nan,  18.],\n",
       "        [  8.,  12.,  16.,  nan,  24.],\n",
       "        [ nan,  nan,  nan,  nan,  nan],\n",
       "        [ 12.,  18.,  24.,  nan,  36.]]])"
      ]
     },
     "execution_count": 2,
     "metadata": {},
     "output_type": "execute_result"
    }
   ],
   "source": [
    "x1=np.array([1,np.NaN,3,4,5])\n",
    "x2=np.array([2,3,4,np.NaN,6])\n",
    "stacked=np.array([np.outer(x1,x1),np.outer(x2,x2)])\n",
    "stacked"
   ]
  },
  {
   "cell_type": "code",
   "execution_count": 3,
   "metadata": {
    "slideshow": {
     "slide_type": "subslide"
    }
   },
   "outputs": [
    {
     "name": "stderr",
     "output_type": "stream",
     "text": [
      "/usr/lib/python2.7/site-packages/ipykernel/__main__.py:1: RuntimeWarning: Mean of empty slice\n",
      "  if __name__ == '__main__':\n"
     ]
    },
    {
     "data": {
      "text/plain": [
       "array([[  2.5,   6. ,   5.5,   4. ,   8.5],\n",
       "       [  6. ,   9. ,  12. ,   nan,  18. ],\n",
       "       [  5.5,  12. ,  12.5,  12. ,  19.5],\n",
       "       [  4. ,   nan,  12. ,  16. ,  20. ],\n",
       "       [  8.5,  18. ,  19.5,  20. ,  30.5]])"
      ]
     },
     "execution_count": 3,
     "metadata": {},
     "output_type": "execute_result"
    }
   ],
   "source": [
    "np.nanmean(stacked,axis=0)"
   ]
  },
  {
   "cell_type": "markdown",
   "metadata": {
    "slideshow": {
     "slide_type": "slide"
    }
   },
   "source": [
    "### Loading Data into Dataframe"
   ]
  },
  {
   "cell_type": "code",
   "execution_count": 4,
   "metadata": {
    "collapsed": true,
    "slideshow": {
     "slide_type": "skip"
    }
   },
   "outputs": [],
   "source": [
    "import findspark\n",
    "findspark.init()\n",
    "\n",
    "from pyspark import SparkContext\n",
    "#sc.stop()\n",
    "## add after creating spark_PCA.py\n",
    "sc = SparkContext(master=\"local[3]\",pyFiles=['lib/numpy_pack.py','lib/computeStats.py']) #,'lib/spark_PCA.py'\n",
    "\n",
    "from pyspark import SparkContext\n",
    "from pyspark.sql import *\n",
    "sqlContext = SQLContext(sc)"
   ]
  },
  {
   "cell_type": "code",
   "execution_count": 5,
   "metadata": {
    "collapsed": true,
    "run_control": {
     "frozen": false,
     "read_only": false
    },
    "slideshow": {
     "slide_type": "skip"
    }
   },
   "outputs": [],
   "source": [
    "import sys\n",
    "sys.path.append('./lib')\n",
    "\n",
    "import numpy as np\n",
    "from numpy_pack import packArray,unpackArray\n",
    "# add after creating spark_PCA.py\n",
    "# from spark_PCA import computeCov\n",
    "from computeStats import computeOverAllDist, STAT_Descriptions"
   ]
  },
  {
   "cell_type": "markdown",
   "metadata": {
    "run_control": {
     "frozen": false,
     "read_only": false
    },
    "slideshow": {
     "slide_type": "slide"
    }
   },
   "source": [
    "### Climate data\n",
    "\n",
    "The data we will use here comes from [NOAA](https://www.ncdc.noaa.gov/). Specifically, it was downloaded from This [FTP site](ftp://ftp.ncdc.noaa.gov/pub/data/ghcn/daily/).\n",
    "\n",
    "There is a large variety of measurements from all over the world, from 1870 will 2012.\n",
    "in the directory `../../Data/Weather` you will find the following useful files:\n",
    "\n",
    "* data-source.txt: the source of the data\n",
    "* ghcnd-readme.txt: A description of the content and format of the data\n",
    "* ghcnd-stations.txt: A table describing the Meteorological stations.\n",
    "\n"
   ]
  },
  {
   "cell_type": "markdown",
   "metadata": {
    "run_control": {
     "frozen": false,
     "read_only": false
    },
    "slideshow": {
     "slide_type": "subslide"
    }
   },
   "source": [
    "### Data cleaning\n",
    "\n",
    "* Most measurements exists only for a tiny fraction of the stations and years. We therefor restrict our use to the following measurements:\n",
    "```python\n",
    "['TMAX', 'SNOW', 'SNWD', 'TMIN', 'PRCP', 'TOBS']\n",
    "```\n",
    "\n",
    "* 8 We consider only measurement-years that have at most 50 `NaN` entries\n",
    "\n",
    "* We consider only measurements in the continential USA\n",
    "\n",
    "* We partition the stations into 256 geographical rectangles, indexed from BBBBBBBB to SSSSSSSS. And each containing about 12,000 station,year pairs."
   ]
  },
  {
   "cell_type": "code",
   "execution_count": 6,
   "metadata": {
    "run_control": {
     "frozen": false,
     "read_only": false
    },
    "scrolled": true,
    "slideshow": {
     "slide_type": "skip"
    }
   },
   "outputs": [
    {
     "name": "stdout",
     "output_type": "stream",
     "text": [
      "../../Data/Weather/US_Weather_BBBSBBBB.csv*\n",
      "curl https://mas-dse-open.s3.amazonaws.com/Weather/small/US_Weather_BBBSBBBB.csv.gz > ../../Data/Weather/US_Weather_BBBSBBBB.csv.gz\n",
      "  % Total    % Received % Xferd  Average Speed   Time    Time     Time  Current\n",
      "                                 Dload  Upload   Total   Spent    Left  Speed\n",
      "100 3732k  100 3732k    0     0  2666k      0  0:00:01  0:00:01 --:--:-- 2668k\n",
      "-rw-r--r-- 1 nsk nsk 3.7M May  5 17:27 ../../Data/Weather/US_Weather_BBBSBBBB.csv.gz\n"
     ]
    }
   ],
   "source": [
    "file_index='BBBSBBBB'\n",
    "filename='US_Weather_%s.csv.gz'%file_index\n",
    "data_dir='../../Data/Weather'\n",
    "del_files='%s/%s*'%(data_dir,filename[:-3])\n",
    "print del_files\n",
    "!rm $del_files\n",
    "command=\"curl https://mas-dse-open.s3.amazonaws.com/Weather/small/%s > %s/%s\"%(filename,data_dir,filename)\n",
    "print command\n",
    "!$command\n",
    "!ls -lh $data_dir/$filename"
   ]
  },
  {
   "cell_type": "code",
   "execution_count": 7,
   "metadata": {
    "slideshow": {
     "slide_type": "skip"
    }
   },
   "outputs": [
    {
     "name": "stdout",
     "output_type": "stream",
     "text": [
      "-rw-r--r-- 1 nsk nsk 13M May  5 17:27 ../../Data/Weather/US_Weather_BBBSBBBB.csv\r\n"
     ]
    }
   ],
   "source": [
    "!gunzip $data_dir/$filename\n",
    "filename=data_dir+'/US_Weather_BBBSBBBB.csv'\n",
    "!ls -lh $filename"
   ]
  },
  {
   "cell_type": "code",
   "execution_count": 8,
   "metadata": {
    "run_control": {
     "frozen": false,
     "read_only": false
    },
    "scrolled": true,
    "slideshow": {
     "slide_type": "subslide"
    }
   },
   "outputs": [
    {
     "data": {
      "text/plain": [
       "13047"
      ]
     },
     "execution_count": 8,
     "metadata": {},
     "output_type": "execute_result"
    }
   ],
   "source": [
    "import pickle\n",
    "List=pickle.load(open(filename,'rb'))\n",
    "len(List)"
   ]
  },
  {
   "cell_type": "code",
   "execution_count": 9,
   "metadata": {
    "run_control": {
     "frozen": false,
     "read_only": false
    },
    "slideshow": {
     "slide_type": "subslide"
    }
   },
   "outputs": [
    {
     "name": "stdout",
     "output_type": "stream",
     "text": [
      "13047\n",
      "+---------+--------+---------+-----------+-----------+------+--------------------+------+--------+\n",
      "|elevation|latitude|longitude|measurement|    station|undefs|              vector|  year|   label|\n",
      "+---------+--------+---------+-----------+-----------+------+--------------------+------+--------+\n",
      "|      6.1| 42.4667|    -70.9|       TMAX|USC00198301|     0|[80 4D 00 46 E0 5...|1931.0|BBBSBBBB|\n",
      "|      6.1| 42.4667|    -70.9|       TMAX|USC00198301|     0|[00 4F 80 51 00 4...|1932.0|BBBSBBBB|\n",
      "|      6.1| 42.4667|    -70.9|       TMAX|USC00198301|     2|[20 D0 00 53 A0 5...|1933.0|BBBSBBBB|\n",
      "|      6.1| 42.4667|    -70.9|       TMAX|USC00198301|     2|[30 55 80 C9 A0 D...|1934.0|BBBSBBBB|\n",
      "|      6.1| 42.4667|    -70.9|       TMAX|USC00198301|     1|[E0 50 00 CF 00 5...|1935.0|BBBSBBBB|\n",
      "+---------+--------+---------+-----------+-----------+------+--------------------+------+--------+\n",
      "only showing top 5 rows\n",
      "\n"
     ]
    }
   ],
   "source": [
    "df=sqlContext.createDataFrame(List)\n",
    "print df.count()\n",
    "df.show(5)"
   ]
  },
  {
   "cell_type": "code",
   "execution_count": 20,
   "metadata": {},
   "outputs": [
    {
     "data": {
      "text/plain": [
       "[Row(elevation=6.1, latitude=42.4667, longitude=-70.9, measurement=u'TMAX', station=u'USC00198301', undefs=0, vector=bytearray(b'\\x80M\\x00F\\xe0T\\xe0T\\xa0S P\\x00\\xc6\\x00\\xc6 P\\xe0P P P@R\\x00O\\xe0\\xd0\\x80\\xcd\\x00S P\\x80Q\\xe0P@L \\xd0\\x80\\xc9\\x80\\xc9\\x00\\xcf\\xa0S\\xe0T P\\x80I\\x80\\xc9 \\xd00\\xd5@\\xcc\\x00\\xc6@L\\x00\\xc6\\x80Q@\\xd2\\x80I\\x00F\\x00F\\x00\\xc6\\x80M@R\\x00S\\x00\\x00\\x00S@R P\\x00F\\x00\\x00\\x80I\\x80M\\x80Q\\x00S\\x00O\\x80T\\x80M\\xe0T\\x80T\\x80Q\\xe0P\\x80M P\\xe0P\\xe0P\\x80Q0T\\x00O\\x80Q\\xa0S@R@R@R\\x80Q@L0U0T\\x00S0T0U\\xe0T\\xe0T\\x80Q@R\\x00S0T\\x90U\\x90U@V@R@V\\xe0XPW\\x90U0T P\\xa0W\\xf0V\\x80X\\xb8Y\\xe0T\\x08YXX\\xe0U\\xa0VPW\\x90Y\\xe8Y\\x98ZH[\\x80X@V(X\\x80X\\xf0V\\xf0V@VPW@V(X\\xf0V\\xe0X\\xe0X\\xe8Y@Z(X\\xb0XH[(X\\xe0T\\xa0V\\xe0T\\xe0T\\x08Y\\xd0[\\xe8Y\\xe0X\\x10Z\\xf0Z@Z\\xe8Y\\x00X\\x00X\\x80XH[\\xf0Zx[\\x98\\\\\\xb0\\\\\\x98Z\\x08YpZ\\xd0[,\\\\\\x14\\\\pZ\\x08Y\\xe8Y\\x08Y(X8Y\\x98Z@Z\\xe8Y\\x00\\\\\\xb8Y\\xb8Yx[\\x98\\\\4]X\\\\\\x10Z\\xb8Y@ZpZ\\xa0[X\\\\x[\\x98Z\\xa0[\\xf0Z\\xe8Y\\x98Z@Z@Z\\x10Z@Z\\xf0Z\\xf0Z [\\x14\\\\\\x00\\\\\\x00\\\\\\xd0[\\x14\\\\\\xd0[@Z\\xc8Z [\\xa0[\\xa0[@\\\\H[\\x00\\\\\\xa0[\\x14\\\\@\\\\\\x08]\\x84\\\\,\\\\\\x00\\\\\\x98Z\\xf0Zx[X\\\\\\xdc\\\\\\xdc\\\\,\\\\\\xa0[\\xf0Z\\x98Z\\xe8Y\\x98Z\\xd0[\\x00\\\\\\x00\\\\X\\\\\\x14\\\\x[x[ [@ZpZ\\x98Z@Z\\xd0[\\xc8ZpZ\\x98Zx[\\xd0[ [@Z,\\\\\\xc8Z@ZpZ\\x00\\\\\\xf0Zx[x[\\x98\\\\\\xdc\\\\@Zx[\\x84\\\\\\x98\\\\\\x10Z\\xb8Y\\x98Z\\xe0X\\x90Y\\xe0XX\\\\\\xd0[ [8Y8Y\\xe0X(X\\x90Y\\xe0X@Z\\xc8Z\\xc8Z\\xf0Z\\xa0[\\xf0Z\\xb8Y\\x00\\\\(X(X@Z\\x80X\\x90Y\\xb8Y\\x90Y\\xe0X\\xb0XPW\\xb0X\\xe8Y8Y\\xe0X\\xe0X\\xe0X\\xe8YPW\\xe0X(X\\x80X(X\\x80X\\xa0W\\xe0U\\xa0W(X\\xa0W\\x00S\\x00O0T\\xa0W\\x90Y\\x00XPW`Y\\xa0W\\xe0T\\x90U0U\\xe0X\\x90U\\x90U\\x90Y\\x10Z\\x90Y\\x90Y\\x90Y P\\x00F\\x80Q0T(X\\x80T\\x00F0T\\x80T\\x00O\\x80\\xc9\\x00S\\xe0\\xd0\\xa0S\\x80T\\x80QPW\\x00S\\x00S P\\x00S\\xe0T\\x00O\\xe0U\\x00F\\xe0T0T\\xa0V\\x90U0U\\x00\\x00\\x80\\xc9 P\\x00S\\x80M\\x00O'), year=1931.0, label=u'BBBSBBBB'),\n",
       " Row(elevation=6.1, latitude=42.4667, longitude=-70.9, measurement=u'TMAX', station=u'USC00198301', undefs=0, vector=bytearray(b'\\x00O\\x80Q\\x00F\\x80\\xcd\\x00\\x00\\xa0V\\x00X\\x00O@L\\x80I\\x00\\xcf\\xa0S(X8Y8Y\\x80T\\x80Q\\xf0V\\x00O\\xe0T@R\\x00O\\xa0S\\xe0T@R\\x80Q0U\\x80Q@R0U\\x00\\xc6@\\xd2@L@L\\x80M\\x80\\xc9\\x80Q\\x00S\\x80Q\\x00\\xcf\\x80I P\\x80T\\x90U\\x80I \\xd0\\x80\\xcd\\xe0P@R\\x00\\x00\\x00\\xd3\\x00F\\x80T\\x00\\xc6\\xe0\\xd0 \\xd0\\xe0P\\x00O\\x80M\\x00O(X\\x00O\\x80Q0U\\x80Q\\x00S\\x80I\\x80\\xc9\\x00\\xc6\\xa0S\\xe0P@L\\x80M \\xd0\\x80I\\x80I\\x00S@R\\x00O\\x00F\\x00O\\xa0S0T PPW(X\\x00S\\xe0T(X\\xf0V\\xa0V\\xe0U\\xb8Y\\xe0T\\xe0T\\xa0W\\x80T\\x80Q0T\\xe0T@R@V0T\\xe0T\\xe0T\\xf0V\\xe0T\\x80X\\x00X@Z\\x08Y\\xc8Z(X\\x00XPW0U\\xe0UXX\\xf0Z\\x90Y\\x00X\\x98Z\\x08Y\\x98Z8Y\\xe0X\\x00X\\x00X\\x80X\\xa0V\\xa0V\\xa0W\\xa0W@Z [\\x00\\\\,\\\\\\x80X\\x08Yx[\\x98Z\\xe0X`Y\\x98Zl\\\\\\x84\\\\\\x90Y\\x00\\\\\\x90Y`Y\\x98Z [\\xe8Y@ZX\\\\\\x14\\\\l\\\\XX\\xe0X@Z\\x98Z\\x14\\\\H[\\xb0X8Y\\x98\\\\\\xc8Z\\x90Y\\x08Y\\x90Y\\x98Z\\xc8Z,\\\\ [\\xb8YpZ\\xa0[\\xa0[\\x84\\\\H[@\\\\H[\\x14\\\\ [\\xe8Yx[pZ\\xc8Z\\x98Z\\xd0[\\xb0\\\\@\\\\,\\\\ [l\\\\\\x14\\\\@Z [@\\\\@\\\\\\x84\\\\\\x00\\\\x[H[X\\\\\\x14\\\\\\x00\\\\\\xc8Z\\x00\\\\ [\\x98ZH[\\xf0Z [ [l\\\\,\\\\H[\\x14\\\\\\x00\\\\@\\\\\\x00\\\\\\xa0[\\xd0[,\\\\\\x14\\\\x[x[x[ [\\xf0Zx[\\xf0Z\\xd0[pZ\\xf0Z\\x14\\\\\\x00\\\\x[\\x00\\\\\\x14\\\\ [x[\\xc8Z\\xd0[H[\\x10Z,\\\\,\\\\\\x10Z\\xe0Xx[\\xe8Y\\xc8Z\\x00\\\\\\x10Z@Z@Z\\xb8Y\\x10Z\\x10Z8Y\\xe8Y [ [\\x98Z@Z`Y\\x98Z\\x90Y\\xe8Y\\x90Y(X\\x00XH[\\xa0[H[\\x98Z\\xf0Z\\x80X@ZH[\\x98Z\\xc8Z\\xa0W@V\\x00X\\xa0W`Y\\xb8Y\\x80X\\x00X\\x00XXXXX\\x80X\\xe0U\\xa0W\\xe0X\\xb8YXX(X\\x00X@V\\x80X\\xa0V\\x00S\\x90U8Y\\xa0W\\xa0V\\x90U\\x80T(X\\xa0W\\xf0V\\xe0T\\x90U(XXXXX@R8Y\\x90U\\x80T\\x00\\x00\\x80M\\xe0U\\xa0V\\xf0V\\x00\\xcf\\x00\\xc6\\xe0PPWXX\\xa0W8Y@V\\x90U@V\\x80X\\x90U\\x80M@\\xcc\\x00\\xcf P@L\\x00\\x00@\\xcc\\xf0\\xd6\\x00\\xcf\\x80\\xc9\\x80\\xc9\\x80M\\x80Q\\x90U\\x00S\\xa0S\\xf0V@V\\x80Q@R\\x00S0T\\x08Y'), year=1932.0, label=u'BBBSBBBB'),\n",
       " Row(elevation=6.1, latitude=42.4667, longitude=-70.9, measurement=u'TMAX', station=u'USC00198301', undefs=2, vector=bytearray(b' \\xd0\\x00S\\xa0S\\x90U\\x90U\\x80T\\xa0V P@R\\x00O\\xa0W\\x80T \\xd0\\x00\\x00\\x80Q\\x80T\\xf0V\\x80T\\xe0U\\x80T@R0T\\xa0W0T\\x80Q\\x80Q\\x80I\\x00F\\x80\\xc9\\xe0P@R\\xa0S\\xa0V\\x00S\\x00O\\x00\\xc6\\xe0\\xd0\\xa0S\\x00X\\x00\\xcf0\\xd4\\x80\\xc9\\x00\\xcf\\xe0P@R0T\\x00\\xc6\\x00S0U@L0U\\x80T@R\\xa0V\\xe0T\\x80I\\x00\\x00@L@L\\x00O\\x80M\\x00O@R\\x00\\xc6\\x00F\\x80Q0T\\x00S\\x80\\xcd\\xe0\\xd0\\x00O@L@L\\x80Q\\x80IPW\\xe0P@L P P\\x80T\\xa0S\\x80Q0T\\xa0S0U\\x90U@V@V\\x90U\\xe0T0U@R\\xa0SXX@V0T@V\\x00X\\xe0T\\xe0T\\x80Q\\x80M\\x00S\\x00X\\xf0V\\x00X\\xf0V\\xe0T0T\\x00X\\xe0U\\xf0VpZ\\xe0X@V\\xe0T\\xa0V\\x98ZXX\\xb8YpZ\\x90Y\\xe0X8Y\\x00X\\xe8Y(XPW\\xe0U\\x80X`Y`YH[H[\\xe0X\\xe8Y\\xa0[l\\\\l\\\\\\x80X\\xf0Zx[\\x98Z@Z\\x84\\\\`Y8Y\\x90Y8Y\\xe8Y`Y\\x90Y\\x14\\\\ [\\xa0[\\xa0[\\xe8YX\\\\\\x14\\\\X\\\\\\x00\\\\\\xdc\\\\\\xa0[\\x90Y`Y8Y@Z`Y\\xb8Y\\x90Y\\xb8Y,\\\\x[pZ\\xf0Z\\xe8Y\\x98Z\\xf0ZX\\\\\\xa0[\\xc8\\\\\\xb8Y8Y\\xb8Y(Xl\\\\X\\\\\\xe8Y\\xe8Y\\xf0Z\\x10Z\\xb8Y\\x10Z\\xe8Y\\xb8Y\\xb8YH[l\\\\\\xf0Z [\\x98ZH[,\\\\\\x08]\\xf0Z [\\xf0ZX\\\\\\x08] ]\\xf0Z\\x14\\\\\\x08]\\xf0Z\\xe8YH[\\x98Z\\xf0ZH[\\xf0Z\\x98Z\\x98Z\\xf0Z [\\xf0Z\\x14\\\\\\x84\\\\x[x[\\xa0[@Z@Z [\\x98Zx[\\x14\\\\l\\\\l\\\\@\\\\\\x98Zx[x[H[x[H[ [x[\\xa0[\\xc8Z\\xc8Z,\\\\\\xc8Z8Y\\xb8Y\\x98Z\\xe0X\\xb0X\\xe0X8Y\\xc8ZpZpZ\\xf0ZpZ\\x98Z\\x90Y\\xb8Y\\xe8YH[\\xe8Y\\x10Z\\xb8Y\\x98Z\\x90Y\\xe0X\\xe0X(X\\x90Y\\xa0W\\xe8Y\\x80X\\x90Y\\x90Y@Z\\x80X(X8Y@Z\\xe8Y8Y\\xf0VPW\\xa0V\\x90Y\\x80X\\xa0V\\x90U0T\\xa0WPW\\xa0V\\xf0V\\x80X\\xa0V\\xe0X\\xe0X\\xa0W\\xe0P\\xe0P\\x00S\\x80T\\xa0S@R P\\x80M\\xa0V\\xe0U\\x80\\xc9\\xe0\\xd0\\x80I\\xe0P\\x80\\xc9@R\\xf0VXX\\x00S\\x00S@R0U\\xe0T\\x80Q\\xa0S\\xb8Y\\x80Q\\xe0P\\x80Q\\x00S@L\\x90U\\x00S\\x00S@L\\x00\\xd3\\x00\\xcf0\\xd4\\x80\\xd1\\x00\\xd3\\x00F\\x00S\\xe0P0T\\x00S P@L\\x00S@L P\\x80T\\x80\\xcd\\xe0\\xd5@\\xd2\\x00~\\x00~@L'), year=1933.0, label=u'BBBSBBBB'),\n",
       " Row(elevation=6.1, latitude=42.4667, longitude=-70.9, measurement=u'TMAX', station=u'USC00198301', undefs=2, vector=bytearray(b'0U\\x80\\xc9\\xa0\\xd3\\x00\\xd3\\x80M\\x80T P\\x80T\\x00S\\xe0T\\x00S@R\\x80Q@R \\xd0\\xe0P@\\xd2\\xe0\\xd4 P\\x80\\xcd \\xd0\\x00\\x00\\x80T\\x00\\x00@V\\x80M@L\\xe0T\\x80I\\xa0\\xd6 \\xd0\\x80M\\x80M0\\xd4@\\xd20\\xd4\\xe0\\xd5\\x00\\xd3\\x00~\\x00~\\x00\\xd3\\x00F@L\\x80I\\x90\\xd5\\x00S\\x90\\xd5\\xa0\\xd3\\x80\\xc9\\x80M\\x00\\x00\\x00\\x00@R\\x00O\\xa0\\xd60\\xd4\\xe0\\xd0\\xe0\\xd4 \\xd0\\x80M\\xe0T\\xf0V\\xa0SXX0T0T\\x80M\\x80\\xc9\\x80\\xcd \\xd0\\x00\\xcf@R\\xe0U@L0T@V@Z\\x80\\xcd\\x00O\\x00O P\\x00\\xcf@L\\xa0S@R\\x00X0T0T\\xa0S\\x00S\\x90U\\x10ZXX\\x80T\\x00S\\x80T\\xe0UXX\\x98Z0U\\xe0T\\x80T0U@V\\x90U\\xa0V\\x10Z`Y\\x80X@VXXPW\\x80X\\xb8YPWXX\\xa0V\\xf0V\\x90U\\x00X`Y`YXX\\xe0XX\\\\,\\\\\\xa0[`Y\\xb0X\\x90YH[\\xb0X\\x80Xx[\\xa0W8Y(X\\xc8Z8Y\\xb0X\\xe0XH[\\x10Z8YPW\\xe0X\\x90Y\\xb8Y\\xb8Y\\x00\\\\\\x98\\\\\\x98Z\\x84\\\\PW\\x80X\\x14\\\\,\\\\\\xb8Y\\xb8Y@Z\\xb0\\\\\\xb8Y`Y\\x08Y [\\xa0[\\x98Z\\x98Z [\\x08Y\\xd0[X\\\\,\\\\\\xb8Y\\xd0[,\\\\\\x98Z\\xe8Y\\xf0Z4]l\\\\ [\\xb0\\\\\\xc8\\\\,\\\\l\\\\\\x00\\\\\\x98\\\\\\xf0Z [\\xf0Z\\xf0Z\\xf0Z\\xd0[ [\\x00\\\\\\xc8\\\\@\\\\X\\\\\\xb0\\\\\\x00\\\\l\\\\\\xd0[H[ [pZl\\\\\\xf0ZH[\\x00\\\\x[,\\\\l\\\\\\x00\\\\\\x98\\\\@\\\\\\xf0Z\\x98Z\\x98Z\\x00\\\\\\xd0[\\x98\\\\\\xf0ZpZ\\x10Z\\xa0[pZ\\x10Z@ZH[\\xd0[X\\\\\\x10Z\\xc8Z\\x00\\\\@Zx[pZ\\xf0Z8Y\\xe8Y\\x10Z@Z@Z\\xe8Y\\x10Z\\xa0[\\x00\\\\\\x98Z\\x90Y8Y,\\\\\\xf0Z\\xf0Z\\x90Y\\xe8Y@Z\\x10Z\\x10Z\\xb8Y\\xe8YpZ\\x98ZpZ\\x98Z@Z`Y\\xf0Z@Z\\xa0[\\xe8Y@Z\\x10Z\\xa0W\\x80X8Y\\x00X\\xe0X\\x90Y\\xb8Y\\x10Z\\x08Y\\x80X\\xf0V\\xe0U@RPW(X\\xf0V\\x08Y@Z\\xe0UXXPW\\xf0V\\xf0VXX(XXX@V\\x00S@V@V\\xf0V(X\\xa0S\\xe0U\\xe0X`Y\\xf0V\\xf0VPW\\xe0T\\x90U0U0T\\xa0S@L\\x00S@V\\xb0X\\x80X8Y\\x00X\\xe0T\\xa0W\\xb0X\\x00X\\x80Q\\x80Q@V\\xf0V\\x00XXX\\x08Y\\xe0U\\xa0S@V\\xa0S\\x00O \\xd0\\xe0\\xd4\\xe0\\xd4\\xe0\\xd40\\xd5\\x80\\xcd\\x80\\xc9\\x80I\\x80\\xcd P P\\x80I\\x90U\\x90U\\x00S\\x00O\\x80I P\\x00\\x000U\\x80\\xd4\\x00\\xcf\\x00\\x00\\x80\\xd4@\\xcc'), year=1934.0, label=u'BBBSBBBB'),\n",
       " Row(elevation=6.1, latitude=42.4667, longitude=-70.9, measurement=u'TMAX', station=u'USC00198301', undefs=1, vector=bytearray(b'\\xe0P\\x00\\xcf\\x00S\\x80M\\x80\\xc90U0T0T\\xe0T\\x80Q@R\\x00\\xcf\\x80\\xcd\\x80\\xc9\\x80\\xd4\\xe0\\xd0\\x00\\x00\\x80\\xc9@\\xd2\\x00F\\x80M P\\xe0\\xd0@\\xd6\\xe0\\xd5\\x80\\xc9\\x00~\\x90\\xd5\\xe0\\xd0\\xf0\\xd6\\x90\\xd5\\x00\\xcf\\x80M\\x80Q\\x80I\\x00\\xd3\\x80\\xd1\\x80\\xc9\\x00F\\xe0P\\x80I\\x00O\\x00\\xcf\\x80I\\x80I\\xe0T0T\\x80I\\x80I\\xe0P\\xe0P\\x80\\xc9\\x00\\xcf\\x00F\\x80Q0T\\xa0S \\xd0@\\xcc\\x00F\\x90U0T\\x80M@R\\xb0X\\x00\\x00\\x80\\xcd\\x00\\x00\\xe0PPW@V\\x80Q P\\x00O\\xb8Y\\xb0X@R@R\\x80X\\x80Q\\xf0V0T@V\\x00S\\x00S\\xa0V\\xa0SPW@V0T\\x80T@V\\x90U\\x80T\\xa0S\\x90U0T0T\\xe0P\\x80Q\\xa0S P\\x80Q\\xe0T\\xa0W\\x80T@R\\x90U\\x00X\\xe8Y\\x08YPW@V(XXX@Z [\\xa0[XXPWPW0U\\x90U\\x90U\\x00X\\x90Y\\xe0T\\x00X\\x90Y\\x80X\\x98Z8Y8Y\\x90Y\\x08Y\\x80X\\x80X8Y8Y@Z`Y\\x10Z\\xa0W\\xb8Yx[\\xe8Y\\x98\\\\H[,\\\\pZ\\x80X\\xb8Y@Z [8Y8Y\\x90Y@Z@ZXX(XH[\\x14\\\\x[\\x00\\\\\\x00\\\\\\x98Z\\xd0[XX\\x80X\\xb0X\\xf0Z\\xa0[\\x00\\\\H[\\x10ZH[\\xd0[\\x00\\\\@\\\\\\x84\\\\\\xc8Z\\xc8Z\\xa0[\\xd0[\\xb0\\\\\\x14\\\\\\xb8Y\\xc8ZpZ\\xd0[X\\\\\\xf4\\\\X\\\\\\x14\\\\\\x98ZH[\\xa0[\\xb0\\\\\\x08]\\xd0[\\xc8Z\\xa0[\\x98\\\\\\xf4\\\\\\x00\\\\H[\\xc8Z\\xc8Z\\x98Z\\x00\\\\\\x84\\\\\\xc8\\\\X\\\\\\x14\\\\\\xa0[@\\\\@Z\\x98Z\\xc8Z\\xd0[\\x00\\\\\\x98Z\\xa0[@\\\\\\x84\\\\\\x14\\\\,\\\\X\\\\l\\\\\\x14\\\\\\x00\\\\X\\\\\\x00\\\\\\xf0Z [x[X\\\\\\x98Z\\x00\\\\H[8Y\\xc8Z [\\x10Z@Z\\xb8YH[\\xe8YH[H[\\xe0X\\xf0ZpZ\\xd0[8Y\\xe0XH[\\xb8Y\\xb8YpZx[\\x14\\\\\\x98Z\\xf0Z8Y\\x08Y\\xc8Zx[x[\\xf0V8Y\\xb0X\\xb0X\\xe0X\\x08Y\\xb8Y\\x80X\\x00S\\xa0V\\xa0W\\xe0X\\x80X@ZXX\\x80X\\xe8Y8Y\\xa0W\\xe0X\\xe8Y\\xb8Y@Z(X@Z\\xf0ZPW\\xf0V\\x10Z\\xb0X\\xb8Y\\x08YXX\\xf0V\\xf0V\\xb0X\\x00X(XpZ\\x08Y@V(X\\xe0UPW\\x90YXX\\xe0T0U\\xa0S\\x80Q\\xa0S@R0T\\xa0V\\xe0U(X\\x00O@L0T\\x90U\\x90U\\xb0XXX0T\\x80Q\\x80M\\x80I\\x00\\xc6\\x00\\xc6\\x80\\xd1\\xe0P0T\\x80T\\xa0S P\\xa0S\\x80M\\x00O\\x90U\\x00S\\x00F@L\\xe0P\\x00O@\\xd2\\x80\\xd1\\x80\\xc9\\x00\\xcf\\x80\\xcd@\\xd2@\\xd2@\\xd2\\x80\\xd4\\x80\\xd1\\x80\\xcd'), year=1935.0, label=u'BBBSBBBB')]"
      ]
     },
     "execution_count": 20,
     "metadata": {},
     "output_type": "execute_result"
    }
   ],
   "source": [
    "df.rdd.take(5)"
   ]
  },
  {
   "cell_type": "code",
   "execution_count": 10,
   "metadata": {
    "collapsed": true,
    "run_control": {
     "frozen": false,
     "read_only": false
    },
    "slideshow": {
     "slide_type": "subslide"
    }
   },
   "outputs": [],
   "source": [
    "sqlContext.registerDataFrameAsTable(df,'weather') #using older sqlContext instead of newer (V2.0) sparkSession"
   ]
  },
  {
   "cell_type": "code",
   "execution_count": 11,
   "metadata": {
    "run_control": {
     "frozen": false,
     "read_only": false
    },
    "slideshow": {
     "slide_type": "skip"
    }
   },
   "outputs": [
    {
     "name": "stdout",
     "output_type": "stream",
     "text": [
      "Number of executors= 3\n",
      "took 0.00352597236633 seconds\n"
     ]
    }
   ],
   "source": [
    "from time import time\n",
    "t=time()\n",
    "\n",
    "N=sc.defaultParallelism\n",
    "print 'Number of executors=',N\n",
    "print 'took',time()-t,'seconds'"
   ]
  },
  {
   "cell_type": "markdown",
   "metadata": {
    "slideshow": {
     "slide_type": "slide"
    }
   },
   "source": [
    "### Computing PCA for each measurement"
   ]
  },
  {
   "cell_type": "code",
   "execution_count": 12,
   "metadata": {
    "collapsed": true,
    "run_control": {
     "frozen": false,
     "read_only": false
    },
    "slideshow": {
     "slide_type": "fragment"
    }
   },
   "outputs": [],
   "source": [
    "measurements=['TMAX', 'SNOW', 'SNWD', 'TMIN', 'PRCP', 'TOBS']"
   ]
  },
  {
   "cell_type": "markdown",
   "metadata": {
    "run_control": {
     "frozen": false,
     "read_only": false
    },
    "slideshow": {
     "slide_type": "subslide"
    }
   },
   "source": [
    "#### Homework\n",
    "The code below computes the covariance matrix using RDDs.\n",
    "The code allows undefined entries and calculates the covariance without bias.\n",
    "\n",
    "Your homework is to complete the missing parts in the code (Marked with `...`) so that it would calculate the covariance correctly."
   ]
  },
  {
   "cell_type": "code",
   "execution_count": 13,
   "metadata": {
    "collapsed": true,
    "slideshow": {
     "slide_type": "subslide"
    }
   },
   "outputs": [],
   "source": [
    "#%%writefile lib/spark_PCA.py #once this works correctly, you should add it to the `lib` directory\n",
    "# and use import\n",
    "\n",
    "import numpy as np\n",
    "from numpy import linalg as LA\n",
    "\n",
    "def outerProduct(X):\n",
    "    \"\"\"Computer outer product and indicate which locations in matrix are undefined\"\"\"\n",
    "    O=np.outer(X,X)\n",
    "    N=1-np.isnan(O)\n",
    "    return (O,N)\n",
    "\n",
    "def sumWithNan(M1,M2):\n",
    "    \"\"\"Add two pairs of (matrix,count)\"\"\"\n",
    "    (X1,N1)=M1\n",
    "    (X2,N2)=M2\n",
    "    N=N1+N2\n",
    "    X=np.nansum(np.dstack((X1,X2)),axis=2)\n",
    "    return (X,N)"
   ]
  },
  {
   "cell_type": "code",
   "execution_count": 14,
   "metadata": {
    "run_control": {
     "frozen": false,
     "read_only": false
    },
    "slideshow": {
     "slide_type": "subslide"
    }
   },
   "outputs": [
    {
     "ename": "SyntaxError",
     "evalue": "invalid syntax (<ipython-input-14-29e3468412fa>, line 7)",
     "output_type": "error",
     "traceback": [
      "\u001b[0;36m  File \u001b[0;32m\"<ipython-input-14-29e3468412fa>\"\u001b[0;36m, line \u001b[0;32m7\u001b[0m\n\u001b[0;31m    OuterRDD=RDD ...  # separating the map and the reduce does not matter because of Spark uses lazy execution.\u001b[0m\n\u001b[0m                  ^\u001b[0m\n\u001b[0;31mSyntaxError\u001b[0m\u001b[0;31m:\u001b[0m invalid syntax\n"
     ]
    }
   ],
   "source": [
    "def computeCov(RDDin):\n",
    "    \"\"\"computeCov recieves as input an RDD of np arrays, all of the same length, \n",
    "    and computes the covariance matrix for that set of vectors\"\"\"\n",
    "    RDD=RDDin.map(lambda v:np.array(np.insert(v,0,1),dtype=np.float64)) \n",
    "                     # insert a 1 at the beginning of each vector so that the same \n",
    "                     #calculation also yields the mean vector\n",
    "                     # separating the map and the reduce does not matter because of Spark uses lazy execution.\n",
    "    OuterRDD=RDD ...  \n",
    "    (S,N)=OuterRDD ...\n",
    "    E=S[0,1:]\n",
    "    NE=np.float64(N[0,1:])\n",
    "    print 'shape of E=',E.shape,'shape of NE=',NE.shape\n",
    "    Mean=E/NE\n",
    "    O=S[1:,1:]\n",
    "    NO=np.float64(N[1:,1:])\n",
    "    Cov=  ......\n",
    "    # Output also the diagnal which is the variance for each day\n",
    "    Var=np.array([Cov[i,i] for i in range(Cov.shape[0])])\n",
    "    return {'E':E,'NE':NE,'O':O,'NO':NO,'Cov':Cov,'Mean':Mean,'Var':Var}"
   ]
  },
  {
   "cell_type": "code",
   "execution_count": null,
   "metadata": {
    "collapsed": true,
    "run_control": {
     "frozen": false,
     "read_only": false
    },
    "scrolled": true,
    "slideshow": {
     "slide_type": "subslide"
    }
   },
   "outputs": [],
   "source": [
    "from numpy import linalg as LA\n",
    "STAT={}  # dictionary storing the statistics for each measurement\n",
    "Clean_Tables={}\n",
    "\n",
    "for meas in measurements:\n",
    "    t=time()\n",
    "    Query=\"SELECT * FROM weather\\n\\tWHERE ..... \"%(meas)\n",
    "    print Query\n",
    "    df1 = sqlContext.sql(Query)\n",
    "    data=df1.rdd.map(lambda row: unpackArray(row['vector'],np.float16))\n",
    "    #get basic statistics\n",
    "    STAT[meas]=computeOverAllDist(data)   # Compute the statistics \n",
    "\n",
    "    # compute covariance matrix\n",
    "    OUT=computeCov(data)\n",
    "\n",
    "    #find PCA decomposition\n",
    "    eigval,eigvec=LA.eig(OUT['Cov'])\n",
    "\n",
    "    # collect all of the statistics in STAT[meas]\n",
    "    STAT[meas]['eigval']=eigval\n",
    "    STAT[meas]['eigvec']=eigvec\n",
    "    STAT[meas].update(OUT)\n",
    "\n",
    "    print 'time for',meas,'is',time()-t"
   ]
  },
  {
   "cell_type": "code",
   "execution_count": null,
   "metadata": {
    "collapsed": true,
    "run_control": {
     "frozen": false,
     "read_only": false
    },
    "slideshow": {
     "slide_type": "subslide"
    }
   },
   "outputs": [],
   "source": [
    "from pickle import dump\n",
    "filename=data_dir+'/STAT_%s.pickle'%file_index\n",
    "dump((STAT,STAT_Descriptions),open(filename,'wb'))\n",
    "!ls -lrth $data_dir"
   ]
  }
 ],
 "metadata": {
  "anaconda-cloud": {},
  "celltoolbar": "Slideshow",
  "kernelspec": {
   "display_name": "Python 2",
   "language": "python2",
   "name": "python2"
  },
  "language_info": {
   "codemirror_mode": {
    "name": "ipython",
    "version": 2
   },
   "file_extension": ".py",
   "mimetype": "text/x-python",
   "name": "python",
   "nbconvert_exporter": "python",
   "pygments_lexer": "ipython2",
   "version": "2.7.13"
  },
  "name": "PCA_using_numpy for HW3",
  "notebookId": 85286,
  "toc": {
   "colors": {
    "hover_highlight": "#DAA520",
    "running_highlight": "#FF0000",
    "selected_highlight": "#FFD700"
   },
   "moveMenuLeft": true,
   "nav_menu": {
    "height": "245px",
    "width": "252px"
   },
   "navigate_menu": true,
   "number_sections": true,
   "sideBar": true,
   "threshold": 4,
   "toc_cell": false,
   "toc_section_display": "block",
   "toc_window_display": true
  }
 },
 "nbformat": 4,
 "nbformat_minor": 2
}
