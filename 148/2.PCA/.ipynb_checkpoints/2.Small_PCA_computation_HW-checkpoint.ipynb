{
 "cells": [
  {
   "cell_type": "markdown",
   "metadata": {
    "deletable": false,
    "editable": false,
    "nbgrader": {
     "checksum": "1e14402cec9308b02dcc1ebc85d41f94",
     "grade": false,
     "grade_id": "0",
     "locked": true,
     "schema_version": 1,
     "solution": false
    },
    "run_control": {
     "frozen": false,
     "read_only": false
    }
   },
   "source": [
    "### <span style=\"color:red\">IMPORTANT: Only modify cells which have the following comment:</span>\n",
    "```python\n",
    "# Modify this cell\n",
    "```\n",
    "##### <span style=\"color:red\">Do not add any new cells when you submit the homework</span>"
   ]
  },
  {
   "cell_type": "markdown",
   "metadata": {
    "deletable": false,
    "editable": false,
    "nbgrader": {
     "checksum": "bba821f4315d92d3f4498bd41b96d2c4",
     "grade": false,
     "grade_id": "1",
     "locked": true,
     "schema_version": 1,
     "solution": false
    },
    "run_control": {
     "frozen": false,
     "read_only": false
    }
   },
   "source": [
    "# Setting Up Notebook"
   ]
  },
  {
   "cell_type": "code",
   "execution_count": 1,
   "metadata": {
    "collapsed": true,
    "deletable": false,
    "editable": false,
    "nbgrader": {
     "checksum": "ed1a403a9abe9c4443d1e08f58e0c800",
     "grade": false,
     "grade_id": "2",
     "locked": true,
     "schema_version": 1,
     "solution": false
    },
    "run_control": {
     "frozen": false,
     "read_only": false
    }
   },
   "outputs": [],
   "source": [
    "import findspark\n",
    "findspark.init()"
   ]
  },
  {
   "cell_type": "code",
   "execution_count": 2,
   "metadata": {
    "deletable": false,
    "editable": false,
    "nbgrader": {
     "checksum": "1a11c634b751618a15b4c19ebf44dcfe",
     "grade": false,
     "grade_id": "3",
     "locked": true,
     "schema_version": 1,
     "solution": false
    },
    "run_control": {
     "frozen": false,
     "read_only": false
    },
    "slideshow": {
     "slide_type": "skip"
    }
   },
   "outputs": [],
   "source": [
    "from pyspark import SparkContext\n",
    "sc = SparkContext(master=\"local[4]\")"
   ]
  },
  {
   "cell_type": "code",
   "execution_count": 3,
   "metadata": {
    "collapsed": true,
    "deletable": false,
    "editable": false,
    "nbgrader": {
     "checksum": "74f3259ce5b7dca28d136ecda09890fa",
     "grade": false,
     "grade_id": "4",
     "locked": true,
     "schema_version": 1,
     "solution": false
    },
    "run_control": {
     "frozen": false,
     "read_only": false
    }
   },
   "outputs": [],
   "source": [
    "import numpy as np\n",
    "import math\n",
    "from numpy import linalg as LA"
   ]
  },
  {
   "cell_type": "markdown",
   "metadata": {
    "deletable": false,
    "editable": false,
    "nbgrader": {
     "checksum": "04af90670abb4a54e916bd7e576ccf20",
     "grade": false,
     "grade_id": "5",
     "locked": true,
     "schema_version": 1,
     "solution": false
    },
    "run_control": {
     "frozen": false,
     "read_only": false
    }
   },
   "source": [
    "# Exercise:\n",
    "The function **computeCov** computes the covariance matrix using RDDs. The code allows undefined entries and calculates the covariance without bias. \n",
    "\n",
    "Your homework is to complete the missing parts in **computeCov** (Marked with `...`) so that it calculates the covariance correctly.\n",
    "\n",
    "    Note: The functions and libraries in the cell below will be useful to you"
   ]
  },
  {
   "cell_type": "code",
   "execution_count": 4,
   "metadata": {
    "collapsed": true,
    "deletable": false,
    "editable": false,
    "nbgrader": {
     "checksum": "3ac9bb810caef146ad852489178ee668",
     "grade": false,
     "grade_id": "6",
     "locked": true,
     "schema_version": 1,
     "solution": false
    },
    "run_control": {
     "frozen": false,
     "read_only": false
    }
   },
   "outputs": [],
   "source": [
    "def outerProduct(X):\n",
    "    \"\"\"Computer outer product and indicate which locations in matrix are undefined\"\"\"\n",
    "    O=np.outer(X,X)\n",
    "    N=1-np.isnan(O)\n",
    "    return (O,N)\n",
    "\n",
    "def sumWithNan(M1,M2):\n",
    "    \"\"\"Add two pairs of (matrix,count)\"\"\"\n",
    "    (X1,N1)=M1\n",
    "    (X2,N2)=M2\n",
    "    N=N1+N2\n",
    "    X=np.nansum(np.dstack((X1,X2)),axis=2)\n",
    "    return (X,N)"
   ]
  },
  {
   "cell_type": "code",
   "execution_count": 5,
   "metadata": {
    "run_control": {
     "frozen": false,
     "read_only": false
    }
   },
   "outputs": [],
   "source": [
    "# Modify this cell\n",
    "\n",
    "def computeCov(RDDin):\n",
    "    # input: RDDin is an RDD of np arrays, all of the same length\n",
    "    # we insert 1 at the beginning of each vector so the calculation also yields the mean vector\n",
    "    \n",
    "    RDD=RDDin.map(lambda v:np.array(np.insert(v,0,1),dtype=np.float64)) \n",
    "    # separating map and reduce does not matter, since Spark uses lazy execution.\n",
    "    OuterRDD=RDD.map(lambda X:outerProduct(X))    #<-- do mapping here\n",
    "    (S,N)=OuterRDD.reduce(lambda m1,m2:sumWithNan(m1,m2))   #<-- do reducing here\n",
    "    \n",
    "    E=S[0,1:]\n",
    "    NE=np.float64(N[0,1:])\n",
    "\n",
    "    print 'shape of E=',E.shape,'shape of NE=',NE.shape\n",
    "    Mean=E/NE\n",
    "    O=S[1:,1:]\n",
    "    NO=np.float64(N[1:,1:])\n",
    "\n",
    "    Cov=O/NO-np.outer(Mean,Mean) # This is the covariance matrix\n",
    "    \n",
    "    # Output also the diagnal which is the variance for each day\n",
    "    Var=np.array([Cov[i,i] for i in range(Cov.shape[0])])\n",
    "    return {'E':E,'NE':NE,'O':O,'NO':NO,'Cov':Cov,'Mean':Mean,'Var':Var}\n"
   ]
  },
  {
   "cell_type": "code",
   "execution_count": 6,
   "metadata": {
    "deletable": false,
    "editable": false,
    "nbgrader": {
     "checksum": "05c3bc3b51835df6d9a7110af503fbc5",
     "grade": true,
     "grade_id": "ex",
     "locked": true,
     "points": 2,
     "schema_version": 1,
     "solution": false
    },
    "run_control": {
     "frozen": false,
     "read_only": false
    },
    "scrolled": true
   },
   "outputs": [
    {
     "name": "stdout",
     "output_type": "stream",
     "text": [
      "Checking data_list of length 3 with length 10 vectors each having 2 np.NaN values\n",
      "[array([ 1.        ,  0.28505698, -0.68273734, -0.21508341,  0.36345365,\n",
      "       -0.4729565 ,  0.24899262, -0.02985747, -0.11534323,         nan,\n",
      "               nan]), array([ 1.        , -1.49465064, -0.6474741 ,  0.66631294,         nan,\n",
      "        0.75373141,         nan,  0.35621844,  0.54247292,  0.33588386,\n",
      "       -1.02131315]), array([ 1.        ,         nan,         nan,  0.21262433,  0.78617074,\n",
      "        0.06847457, -0.69221111,  0.17744531,  0.21787918, -0.54160755,\n",
      "       -0.53479166])]\n",
      "shape of E= (10,) shape of NE= (10,)\n",
      "\n",
      "Checking data_list of length 100 with length 10 vectors each having 4 np.NaN values\n",
      "[array([ 1.        ,         nan,  0.00482591,  0.04274835,         nan,\n",
      "        0.01841503, -0.00810807,         nan,  0.02753697,         nan,\n",
      "        0.0305126 ]), array([ 1.        , -0.64668782, -0.0658972 ,         nan,         nan,\n",
      "        0.0328489 ,  0.27665254,         nan,  0.90044631,  0.45913191,\n",
      "               nan]), array([ 1.        ,         nan,         nan, -0.14948846,         nan,\n",
      "       -0.0339078 ,         nan, -0.0772267 ,  0.09952971,  0.06680829,\n",
      "       -0.0280904 ]), array([ 1.        ,         nan,         nan, -0.87986456, -0.58311262,\n",
      "       -0.27013476,         nan, -0.31961894,         nan,  0.18525357,\n",
      "       -0.34726223]), array([ 1.        , -0.83474936,         nan, -0.68430068, -0.40137243,\n",
      "               nan,  0.15355064,         nan, -0.31819916,         nan,\n",
      "       -0.43921828]), array([ 1.        ,         nan,         nan,  0.37713872,  0.25530978,\n",
      "        0.10903327, -0.13803632,  0.14991684,         nan,         nan,\n",
      "        0.13143026]), array([ 1.        ,         nan, -0.01743934, -0.17763184,         nan,\n",
      "       -0.09196874,  0.01446189,         nan, -0.21365131, -0.07293033,\n",
      "               nan]), array([ 1.        ,         nan, -0.13732847,         nan,         nan,\n",
      "       -0.32023526,         nan, -0.36732697,  0.13137496,  0.20603127,\n",
      "       -0.41649958]), array([ 1.        , -0.09254848,         nan,  0.01853402,         nan,\n",
      "               nan,  0.08952683, -0.14059226,         nan,  0.22318004,\n",
      "        0.20596153]), array([ 1.        ,         nan,  0.04891665,         nan,  0.24055422,\n",
      "        0.05795063, -0.15730816,         nan, -0.29875192,         nan,\n",
      "        0.02395171]), array([ 1.        ,  1.11325384,  0.10730627,         nan,  0.53521457,\n",
      "        0.36948792,         nan,  0.16218823,         nan,         nan,\n",
      "        0.58983366]), array([ 1.        ,         nan,         nan, -0.37781385,         nan,\n",
      "       -0.14507503,  0.09366474, -0.08163846, -0.12982545,         nan,\n",
      "       -0.22409104]), array([ 1.        , -0.43058667,         nan, -0.37535314,         nan,\n",
      "               nan,  0.0620235 , -0.03343416, -0.28910582, -0.07960248,\n",
      "               nan]), array([ 1.        ,  1.29745232,         nan,         nan,  0.62917506,\n",
      "        0.2928953 , -0.32544637,  0.34333278,         nan,         nan,\n",
      "        0.37786446]), array([ 1.        ,         nan,  0.06929421,  0.42139094,         nan,\n",
      "        0.05312698,         nan,  0.29887733, -0.55324945, -0.31345973,\n",
      "               nan]), array([ 1.        ,  0.15072048,         nan,  0.13262564,  0.07204379,\n",
      "        0.06066397, -0.02075896,         nan,         nan,  0.03086413,\n",
      "               nan]), array([ 1.        , -0.06233998,         nan, -0.0921521 ,         nan,\n",
      "       -0.06985389, -0.02005814,         nan, -0.25305589, -0.10309796,\n",
      "               nan]), array([ 1.        ,         nan,  0.0706204 ,         nan,         nan,\n",
      "        0.03819521, -0.25364163,  0.32129134,         nan, -0.35026482,\n",
      "       -0.06621696]), array([ 1.        ,         nan,         nan,  0.35820992,         nan,\n",
      "        0.1513786 , -0.07158881,         nan,  0.21192572,  0.04660853,\n",
      "        0.24812531]), array([ 1.        ,         nan, -0.02637795,         nan, -0.12039847,\n",
      "               nan,  0.2600849 , -0.41653699,         nan,  0.6780263 ,\n",
      "        0.65275017]), array([ 1.        ,         nan,         nan, -0.77360383, -0.4125643 ,\n",
      "       -0.36349869,         nan, -0.04010131,         nan, -0.20846254,\n",
      "       -0.6301663 ]), array([ 1.        ,         nan,  0.09271059,         nan,  0.46190522,\n",
      "        0.3027942 , -0.18551784,         nan,  0.30013658,  0.0281891 ,\n",
      "               nan]), array([ 1.        , -0.21296725, -0.01603948,         nan, -0.09015507,\n",
      "       -0.38243292, -0.16054102,  0.31825383,         nan,         nan,\n",
      "               nan]), array([ 1.        ,  0.91183134,  0.08879998,  0.69613433,         nan,\n",
      "               nan, -0.20717184,         nan,  0.06070997,         nan,\n",
      "        0.34124037]), array([ 1.        , -0.66669383, -0.06802015,         nan, -0.3307647 ,\n",
      "        0.03972357,  0.28896003,         nan,         nan,         nan,\n",
      "        0.23339756]), array([ 1.        ,  0.62014712,         nan,         nan,  0.29610572,\n",
      "               nan, -0.08016014,  0.03210074,         nan,  0.14355987,\n",
      "        0.44542338]), array([ 1.        ,         nan,  0.00245632, -0.15775758,         nan,\n",
      "       -0.18774407,         nan,         nan, -0.87099486, -0.37739243,\n",
      "       -0.42145397]), array([ 1.        ,         nan, -0.04904686, -0.50452251,         nan,\n",
      "               nan,  0.03750306,  0.02552079,         nan, -0.21560175,\n",
      "       -0.48065125]), array([ 1.        ,  1.13126781,  0.11076852,  0.82903104,  0.54857871,\n",
      "               nan, -0.28362616,         nan, -0.11812969,         nan,\n",
      "               nan]), array([ 1.        , -1.02114546, -0.09860875, -0.82802529,         nan,\n",
      "               nan,  0.19480911,         nan,         nan, -0.03829307,\n",
      "       -0.51280821]), array([ 1.        , -0.2353004 , -0.02358629, -0.14079376, -0.11559288,\n",
      "       -0.01518572,         nan, -0.10476456,         nan,         nan,\n",
      "               nan]), array([ 1.        ,  0.54128593,  0.04941279,  0.60428442,         nan,\n",
      "        0.37146677,         nan,         nan,         nan,  0.42081873,\n",
      "        0.71791862]), array([ 1.        ,  0.56796811,  0.05318076,         nan,  0.26879309,\n",
      "        0.29724653,         nan, -0.03908304,         nan,         nan,\n",
      "        0.5453306 ]), array([ 1.        ,  1.20661102,         nan,  0.88812423,  0.58493176,\n",
      "               nan, -0.2995366 ,  0.31382539, -0.10432834,         nan,\n",
      "               nan]), array([ 1.        , -0.61301784,         nan, -0.54849983,         nan,\n",
      "       -0.25763106,  0.07745962,         nan, -0.49045104,         nan,\n",
      "       -0.44655127]), array([ 1.        , -0.96396267,         nan, -0.80108013,         nan,\n",
      "       -0.33139575,         nan,         nan, -0.42808743, -0.08319176,\n",
      "       -0.53648712]), array([ 1.        ,  1.48856659,         nan,  1.11272637,  0.72081221,\n",
      "               nan,         nan,         nan, -0.03335912, -0.1726244 ,\n",
      "        0.49310422]), array([ 1.        ,  0.24505256,         nan,         nan,  0.13159819,\n",
      "               nan, -0.26964177,  0.42932396,         nan, -0.69371787,\n",
      "       -0.65981971]), array([ 1.        , -1.47075712, -0.14322417,         nan,         nan,\n",
      "               nan,  0.33382491, -0.32775197, -0.10037571,         nan,\n",
      "       -0.55159495]), array([ 1.        ,         nan, -0.04732453,         nan, -0.23091867,\n",
      "        0.00213295,         nan, -0.24433003,  0.55032152,         nan,\n",
      "        0.10584446]), array([ 1.        , -1.12928293, -0.10870913,         nan,         nan,\n",
      "       -0.38468329,         nan, -0.15345927,         nan, -0.09030111,\n",
      "       -0.6205225 ]), array([ 1.        ,         nan,  0.03493311,         nan,  0.16709297,\n",
      "               nan,         nan,  0.29375464, -0.89263182, -0.42205896,\n",
      "       -0.31829895]), array([ 1.        , -1.04514813, -0.10249787,         nan,         nan,\n",
      "       -0.22489647,  0.26922567, -0.28893925,         nan,  0.18104484,\n",
      "               nan]), array([ 1.        ,         nan,  0.05414646,         nan,         nan,\n",
      "        0.15475663, -0.12124048,  0.1150067 ,  0.07612748,         nan,\n",
      "        0.2273845 ]), array([ 1.        , -1.10203843, -0.10875753,         nan,         nan,\n",
      "               nan,         nan, -0.35761637,  0.39018681,  0.28627138,\n",
      "       -0.18856054]), array([ 1.        , -0.23670953, -0.02650577,  0.01914482, -0.12385673,\n",
      "               nan,  0.20727744,         nan,  1.10065438,         nan,\n",
      "               nan]), array([ 1.        , -0.70412476, -0.06639141, -0.66376701,         nan,\n",
      "               nan,         nan,         nan, -0.75186324, -0.25118435,\n",
      "       -0.6039583 ]), array([ 1.        ,         nan, -0.04268135, -0.16911918, -0.20625589,\n",
      "               nan,  0.20562753,         nan,  0.78660881,         nan,\n",
      "        0.23878952]), array([ 1.        ,  0.2650457 ,         nan,  0.26075524,  0.12539435,\n",
      "        0.13971984,         nan, -0.01936766,  0.34390791,         nan,\n",
      "               nan]), array([ 1.        ,         nan,  0.0971234 ,         nan,  0.48019461,\n",
      "        0.19810429, -0.26386364,  0.28948954, -0.2203194 ,         nan,\n",
      "               nan]), array([ 1.        , -0.54022346,         nan,         nan,         nan,\n",
      "       -0.00305308,  0.21159348,         nan,  0.61027771,  0.32200691,\n",
      "        0.10991309]), array([ 1.        , -0.26973272, -0.02380314, -0.34859043,         nan,\n",
      "               nan,         nan,         nan, -0.81487799, -0.32466089,\n",
      "       -0.48579099]), array([ 1.        , -0.16924889, -0.0188657 ,  0.00870582,         nan,\n",
      "        0.12106975,         nan, -0.22323919,  0.75914107,         nan,\n",
      "               nan]), array([ 1.        , -1.03676744,         nan, -0.7841326 ,         nan,\n",
      "       -0.26347038,         nan, -0.24138406, -0.02778275,  0.09811041,\n",
      "               nan]), array([ 1.        ,         nan, -0.0625663 , -0.49282934,         nan,\n",
      "       -0.1713367 ,  0.14446211,         nan, -0.05436048,         nan,\n",
      "       -0.24615024]), array([ 1.        ,         nan,  0.05634231,         nan,         nan,\n",
      "        0.27660065, -0.05870441, -0.00129874,  0.59808902,  0.19596841,\n",
      "               nan]), array([ 1.        ,         nan,         nan,  0.15672899,         nan,\n",
      "        0.20488265,  0.14125612, -0.24283485,         nan,  0.42905491,\n",
      "        0.46605175]), array([ 1.        , -0.24668202,         nan, -0.09458207, -0.12368111,\n",
      "               nan,  0.12804616,         nan,  0.50724221,  0.24614331,\n",
      "               nan]), array([ 1.        ,  0.17819162,         nan,  0.22927686,  0.08176171,\n",
      "               nan,         nan, -0.08559259,         nan,  0.21203226,\n",
      "        0.31820019]), array([ 1.        ,  0.09534561,  0.0084301 ,  0.12228747,         nan,\n",
      "               nan,  0.01635109, -0.04527055,         nan,  0.11250222,\n",
      "               nan]), array([ 1.        ,  0.27275387,         nan,         nan,  0.12734222,\n",
      "        0.18708073,  0.01189832, -0.06844099,  0.55542834,         nan,\n",
      "               nan]), array([ 1.        ,  0.35320259,  0.03370479,         nan,  0.1688803 ,\n",
      "        0.14086538,         nan,  0.02497403,  0.24733194,         nan,\n",
      "               nan]), array([ 1.        ,  0.57873337,         nan,  0.63601164,  0.27066289,\n",
      "               nan,         nan, -0.13190754,  1.12321779,  0.42552148,\n",
      "               nan]), array([ 1.        ,  0.23678567,  0.02551671,  0.03858128,  0.12117782,\n",
      "               nan, -0.16300468,         nan,         nan, -0.3627128 ,\n",
      "               nan]), array([ 1.        ,         nan,  0.0552075 ,  0.22360019,  0.26695324,\n",
      "               nan, -0.26286837,         nan,         nan, -0.48755484,\n",
      "       -0.29706904]), array([ 1.        ,  0.84199219,  0.07951265,  0.78668276,         nan,\n",
      "        0.39383626,         nan,         nan,  0.85969858,         nan,\n",
      "        0.70319618]), array([ 1.        ,  0.10949094,  0.01199972,         nan,  0.05658011,\n",
      "               nan,         nan,  0.12847079, -0.4248562 , -0.19584529,\n",
      "               nan]), array([ 1.        ,         nan, -0.10741546,         nan,         nan,\n",
      "               nan,  0.23803875, -0.22370661, -0.17007895,  0.0437735 ,\n",
      "       -0.46049409]), array([ 1.        ,  0.55300953,         nan,  0.47690471,  0.26479376,\n",
      "               nan,         nan,  0.04988864,         nan,  0.08971903,\n",
      "        0.35454502]), array([ 1.        ,         nan,         nan,         nan, -0.11416108,\n",
      "        0.22665088,  0.22930832,         nan,  1.30133327,  0.58689121,\n",
      "        0.55551165]), array([ 1.        , -0.32854439,         nan, -0.12382341, -0.16482622,\n",
      "        0.06612612,  0.17218699,         nan,  0.68756037,         nan,\n",
      "               nan]), array([  1.00000000e+00,  -2.66857159e-02,   1.77167991e-03,\n",
      "                    nan,  -9.90972980e-04,              nan,\n",
      "        -1.88191945e-01,   3.34150658e-01,  -1.41464148e+00,\n",
      "                    nan,              nan]), array([ 1.        ,         nan, -0.03699643,         nan, -0.19311456,\n",
      "       -0.40406623, -0.09128262,  0.23368911,         nan, -0.55834169,\n",
      "               nan]), array([ 1.        ,  0.227872  ,         nan, -0.06100618,         nan,\n",
      "               nan,         nan,  0.36683509, -1.29739133, -0.58674265,\n",
      "       -0.54858342]), array([ 1.        ,  0.10947284,  0.01072272,         nan,         nan,\n",
      "        0.02448047, -0.02760848,         nan,         nan, -0.01709878,\n",
      "        0.0313595 ]), array([ 1.        , -0.20998307, -0.02281801,         nan,         nan,\n",
      "               nan,  0.15298172,         nan,  0.75169353,  0.34823481,\n",
      "        0.29117521]), array([ 1.        ,         nan,         nan, -0.61934486,         nan,\n",
      "       -0.12514315,         nan, -0.34929127,  0.51088912,  0.32200725,\n",
      "       -0.07682886]), array([ 1.        ,         nan, -0.07098535, -0.74545843, -0.35885194,\n",
      "       -0.3989727 ,  0.04449503,         nan, -0.98019569,         nan,\n",
      "               nan]), array([ 1.        , -0.39204615, -0.036611  ,         nan, -0.18527137,\n",
      "       -0.21195632,  0.01933888,  0.03457226,         nan,         nan,\n",
      "               nan]), array([ 1.        ,  0.13484979,         nan,         nan,  0.05248321,\n",
      "        0.35945315,         nan, -0.33293683,  1.51711251,  0.64347154,\n",
      "               nan]), array([ 1.        ,  0.47306285,  0.04532598,         nan,  0.22669004,\n",
      "        0.17593168, -0.07441713,         nan,  0.27198431,         nan,\n",
      "               nan]), array([ 1.        ,         nan, -0.01790941,  0.19490157, -0.07748663,\n",
      "               nan,         nan, -0.42643785,  1.64077832,         nan,\n",
      "        0.74737703]), array([ 1.        , -0.00706826,  0.00315836, -0.22801367,  0.00706622,\n",
      "               nan, -0.16936836,         nan, -1.24400876,         nan,\n",
      "               nan]), array([ 1.        , -0.15105732, -0.01597664,         nan, -0.07648301,\n",
      "        0.0482336 ,  0.09057763,         nan,  0.39911203,         nan,\n",
      "               nan]), array([ 1.        ,         nan,         nan,  0.39104977,  0.33928752,\n",
      "               nan,         nan,  0.33484942, -0.70652211, -0.37950633,\n",
      "       -0.10562083]), array([ 1.        ,         nan,  0.01437098,         nan,         nan,\n",
      "        0.09065225,         nan, -0.02137168,  0.24280062,  0.08881147,\n",
      "        0.17025921]), array([ 1.        ,  1.01307485,  0.10075393,  0.65223246,         nan,\n",
      "        0.12065163,         nan,  0.38913474,         nan, -0.37193091,\n",
      "               nan]), array([ 1.        ,  0.03741072,         nan,         nan,         nan,\n",
      "        0.28022299,         nan, -0.29459724,  1.26099065,  0.5427735 ,\n",
      "        0.62175368]), array([ 1.        ,  0.38284393,  0.04013446,  0.12730721,  0.19286723,\n",
      "               nan, -0.2136865 ,  0.30730423,         nan,         nan,\n",
      "               nan]), array([ 1.        ,  0.5271206 ,         nan,  0.33972103,         nan,\n",
      "        0.06320089, -0.16792432,         nan,         nan, -0.19266707,\n",
      "        0.02810987]), array([ 1.        ,  0.54298997,         nan,         nan,  0.26213104,\n",
      "               nan, -0.11692862,         nan,  0.08299896, -0.02170552,\n",
      "        0.22582963]), array([ 1.        ,         nan,         nan, -0.39272468, -0.04845357,\n",
      "               nan,         nan,  0.36699991, -1.65268833, -0.70288901,\n",
      "       -0.84220407]), array([ 1.        ,         nan,  0.08058384,  0.59721846,  0.39888871,\n",
      "               nan,         nan,  0.22439004, -0.1150246 ,         nan,\n",
      "        0.22566994]), array([ 1.        ,  0.81205094,  0.08174601,         nan,         nan,\n",
      "        0.02832099, -0.30287591,  0.38854218,         nan, -0.43614175,\n",
      "               nan]), array([ 1.        ,         nan,         nan,         nan, -0.61108069,\n",
      "       -0.30105715,         nan, -0.31555911,  0.05701446,  0.15875062,\n",
      "       -0.40399016]), array([ 1.        ,         nan,         nan, -0.33071839, -0.30515218,\n",
      "               nan,  0.24832796, -0.32700478,         nan,  0.38849277,\n",
      "        0.14840536]), array([ 1.        ,  0.96591687,         nan,  0.64568457,  0.47132392,\n",
      "               nan, -0.2899192 ,         nan, -0.44815395,         nan,\n",
      "        0.11400219]), array([ 1.        , -0.29792878,         nan,         nan, -0.1491296 ,\n",
      "               nan,         nan, -0.21174659,  0.58349304,  0.28464961,\n",
      "        0.17986326]), array([ 1.        ,  1.1122063 ,  0.10775131,         nan,         nan,\n",
      "        0.3312157 ,         nan,  0.20452589,  0.25588272,         nan,\n",
      "        0.50403792]), array([ 1.        ,  0.64469686,  0.06020361,         nan,  0.30466508,\n",
      "               nan, -0.031756  , -0.05693198,  0.87732385,         nan,\n",
      "               nan])]\n",
      "shape of E= (10,) shape of NE= (10,)\n",
      "\n",
      "Great Job!\n"
     ]
    }
   ],
   "source": [
    "import Tester.SmallPCA as pca\n",
    "pca.exercise(computeCov, sc)"
   ]
  },
  {
   "cell_type": "code",
   "execution_count": null,
   "metadata": {
    "collapsed": true,
    "deletable": false,
    "editable": false,
    "nbgrader": {
     "checksum": "fa10fc0547ac5fb00a6cac96f485105d",
     "grade": false,
     "grade_id": "7",
     "locked": true,
     "schema_version": 1,
     "solution": false
    }
   },
   "outputs": [],
   "source": [
    "\n",
    "\n",
    "\n",
    "\n",
    "\n",
    "\n",
    "\n",
    "\n",
    "\n"
   ]
  }
 ],
 "metadata": {
  "anaconda-cloud": {},
  "kernelspec": {
   "display_name": "Python 2",
   "language": "python2",
   "name": "python2"
  },
  "language_info": {
   "codemirror_mode": {
    "name": "ipython",
    "version": 2
   },
   "file_extension": ".py",
   "mimetype": "text/x-python",
   "name": "python",
   "nbconvert_exporter": "python",
   "pygments_lexer": "ipython2",
   "version": "2.7.13"
  },
  "name": "PCA_using_numpy for HW3",
  "notebookId": 85286,
  "toc": {
   "colors": {
    "hover_highlight": "#DAA520",
    "running_highlight": "#FF0000",
    "selected_highlight": "#FFD700"
   },
   "moveMenuLeft": true,
   "nav_menu": {
    "height": "121px",
    "width": "252px"
   },
   "navigate_menu": true,
   "number_sections": true,
   "sideBar": true,
   "threshold": 4,
   "toc_cell": false,
   "toc_section_display": "block",
   "toc_window_display": true,
   "widenNotebook": false
  }
 },
 "nbformat": 4,
 "nbformat_minor": 1
}
