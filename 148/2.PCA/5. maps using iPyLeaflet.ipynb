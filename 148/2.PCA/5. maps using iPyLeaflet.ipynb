{
 "cells": [
  {
   "cell_type": "markdown",
   "metadata": {
    "run_control": {
     "frozen": false,
     "read_only": false
    }
   },
   "source": [
    "## iPyLeaflet\n",
    "[ipyleaflet](https://github.com/ellisonbg/ipyleaflet) is a bridge between jupyter notebooks and the [leaflet](http://leafletjs.com/)  javascript library for drawing maps.\n",
    "\n",
    "ipyleaflet comes with a few examples notebooks (this notebook was derived from one) but very little documentation,\n",
    "for more documentation read the [Leaflet IPA](http://leafletjs.com/reference.html)\n",
    "\n",
    "For installation directions, see the README on [ipyleaflet](https://github.com/ellisonbg/ipyleaflet)"
   ]
  },
  {
   "cell_type": "code",
   "execution_count": 1,
   "metadata": {
    "collapsed": true,
    "run_control": {
     "frozen": false,
     "read_only": false
    }
   },
   "outputs": [],
   "source": [
    "from ipyleaflet import (\n",
    "    Map,\n",
    "    Marker,\n",
    "    TileLayer, ImageOverlay,\n",
    "    Polyline, Polygon, Rectangle, Circle, CircleMarker,\n",
    "    GeoJSON,\n",
    "    DrawControl\n",
    ")"
   ]
  },
  {
   "cell_type": "markdown",
   "metadata": {
    "run_control": {
     "frozen": false,
     "read_only": false
    }
   },
   "source": [
    "## Visualizing the distribution of the observations\n",
    "\n",
    "## Load the required libraries"
   ]
  },
  {
   "cell_type": "code",
   "execution_count": 2,
   "metadata": {
    "collapsed": true,
    "run_control": {
     "frozen": false,
     "read_only": false
    }
   },
   "outputs": [],
   "source": [
    "import pandas as pd\n",
    "import numpy as np\n",
    "import sklearn as sk\n",
    "import urllib\n",
    "import math"
   ]
  },
  {
   "cell_type": "code",
   "execution_count": 3,
   "metadata": {
    "collapsed": true,
    "run_control": {
     "frozen": false,
     "read_only": false
    }
   },
   "outputs": [],
   "source": [
    "import findspark\n",
    "findspark.init()\n",
    "\n",
    "from pyspark import SparkContext\n",
    "#sc.stop()\n",
    "sc = SparkContext(master=\"local[3]\",pyFiles=['lib/numpy_pack.py','lib/computeStats.py'])\n",
    "\n",
    "from pyspark import SparkContext\n",
    "from pyspark.sql import *\n",
    "sqlContext = SQLContext(sc)"
   ]
  },
  {
   "cell_type": "code",
   "execution_count": 4,
   "metadata": {
    "collapsed": true,
    "run_control": {
     "frozen": false,
     "read_only": false
    }
   },
   "outputs": [],
   "source": [
    "import sys\n",
    "sys.path.append('./lib')\n",
    "\n",
    "import numpy as np\n",
    "from numpy_pack import packArray,unpackArray\n",
    "from computeStats import computeOverAllDist, STAT_Descriptions"
   ]
  },
  {
   "cell_type": "code",
   "execution_count": 5,
   "metadata": {
    "run_control": {
     "frozen": false,
     "read_only": false
    }
   },
   "outputs": [
    {
     "name": "stdout",
     "output_type": "stream",
     "text": [
      "('keys from STAT=', ['TMIN', 'TOBS', 'TMAX', 'SNOW', 'SNWD', 'PRCP'])\n",
      "2658\n",
      "+-------------------+------------------+-------------------+---------+--------+--------+---------+-----------+------------------+------------------+------------------+------------------+-----------+---------+------+--------------------+------+\n",
      "|            coeff_1|           coeff_2|            coeff_3|elevation|   label|latitude|longitude|measurement|             res_1|             res_2|             res_3|          res_mean|    station|total_var|undefs|              vector|  year|\n",
      "+-------------------+------------------+-------------------+---------+--------+--------+---------+-----------+------------------+------------------+------------------+------------------+-----------+---------+------+--------------------+------+\n",
      "|-46.250465951354634|214.73042660811066|-199.57006811081482|   2001.0|SSSSBSBB| 32.9167|-105.4667|       PRCP|0.9958178383853654| 0.905669908003994|0.8278018402897551|0.9205614018580083|USC00295502| 555621.0|     0|[00 00 00 00 00 0...|1924.0|\n",
      "| 47.964822464336265|182.78825406185288| -40.19982529819425|   1320.1|SSSSBSBB| 32.3818|-106.7507|       PRCP|0.9988978233471779|0.8286231186384497|0.8268916525863708|0.9317958102046363|US1NMDA0061| 272893.0|    12|[00 00 00 00 00 0...|2010.0|\n",
      "+-------------------+------------------+-------------------+---------+--------+--------+---------+-----------+------------------+------------------+------------------+------------------+-----------+---------+------+--------------------+------+\n",
      "only showing top 2 rows\n",
      "\n"
     ]
    }
   ],
   "source": [
    "### Read the data frame from pickle file\n",
    "\n",
    "data_dir='../../Data/Weather'\n",
    "file_index='SSSSBSBB'\n",
    "meas='PRCP'\n",
    "\n",
    "from pickle import load\n",
    "\n",
    "#read statistics\n",
    "filename=data_dir+'/STAT_%s.pickle'%file_index\n",
    "STAT,STAT_Descriptions = load(open(filename,'rb'))\n",
    "print('keys from STAT=',STAT.keys())\n",
    "\n",
    "#!ls -ld $data_dir/*.parquet\n",
    "\n",
    "#read data\n",
    "filename=data_dir+'/decon_%s_%s.parquet'%(file_index,meas)\n",
    "\n",
    "df=sqlContext.read.parquet(filename)\n",
    "print(df.count())\n",
    "df.show(2)"
   ]
  },
  {
   "cell_type": "code",
   "execution_count": 6,
   "metadata": {
    "run_control": {
     "frozen": false,
     "read_only": false
    },
    "scrolled": true
   },
   "outputs": [
    {
     "name": "stdout",
     "output_type": "stream",
     "text": [
      "SELECT station, latitude,longitude,elevation,coeff_1 FROM weather\n",
      "+-----------+--------+---------+---------+-------------------+\n",
      "|    station|latitude|longitude|elevation|            coeff_1|\n",
      "+-----------+--------+---------+---------+-------------------+\n",
      "|USC00295502| 32.9167|-105.4667|   2001.0|-46.250465951354634|\n",
      "|US1NMDA0061| 32.3818|-106.7507|   1320.1| 47.964822464336265|\n",
      "|USC00299697| 33.2333|  -105.55|   2272.0| -269.5738769704645|\n",
      "|USC00291910| 32.8339|-108.5047|   1454.8|-225.94885704026143|\n",
      "+-----------+--------+---------+---------+-------------------+\n",
      "only showing top 4 rows\n",
      "\n"
     ]
    }
   ],
   "source": [
    "#extract longitude and latitude for each station\n",
    "feature='coeff_1'\n",
    "sqlContext.registerDataFrameAsTable(df,'weather')\n",
    "Query=\"SELECT station, latitude,longitude,elevation,%s FROM weather\"%feature\n",
    "print(Query)\n",
    "df1 = sqlContext.sql(Query)\n",
    "df1.show(4)"
   ]
  },
  {
   "cell_type": "code",
   "execution_count": 7,
   "metadata": {
    "run_control": {
     "frozen": false,
     "read_only": false
    }
   },
   "outputs": [
    {
     "data": {
      "text/html": [
       "<div>\n",
       "<table border=\"1\" class=\"dataframe\">\n",
       "  <thead>\n",
       "    <tr style=\"text-align: right;\">\n",
       "      <th></th>\n",
       "      <th>station</th>\n",
       "      <th>latitude</th>\n",
       "      <th>longitude</th>\n",
       "      <th>elevation</th>\n",
       "      <th>count(station)</th>\n",
       "      <th>avg(coeff_1)</th>\n",
       "    </tr>\n",
       "  </thead>\n",
       "  <tbody>\n",
       "    <tr>\n",
       "      <th>24</th>\n",
       "      <td>USC00296435</td>\n",
       "      <td>32.3789</td>\n",
       "      <td>-106.0925</td>\n",
       "      <td>1286.6</td>\n",
       "      <td>72</td>\n",
       "      <td>45.008779</td>\n",
       "    </tr>\n",
       "    <tr>\n",
       "      <th>39</th>\n",
       "      <td>US1NMDA0167</td>\n",
       "      <td>32.3808</td>\n",
       "      <td>-106.7467</td>\n",
       "      <td>1318.3</td>\n",
       "      <td>3</td>\n",
       "      <td>69.695794</td>\n",
       "    </tr>\n",
       "    <tr>\n",
       "      <th>134</th>\n",
       "      <td>US1NMDA0061</td>\n",
       "      <td>32.3818</td>\n",
       "      <td>-106.7507</td>\n",
       "      <td>1320.1</td>\n",
       "      <td>4</td>\n",
       "      <td>-78.760181</td>\n",
       "    </tr>\n",
       "    <tr>\n",
       "      <th>98</th>\n",
       "      <td>US1NMDA0011</td>\n",
       "      <td>32.3829</td>\n",
       "      <td>-106.8076</td>\n",
       "      <td>1208.2</td>\n",
       "      <td>5</td>\n",
       "      <td>-39.639147</td>\n",
       "    </tr>\n",
       "    <tr>\n",
       "      <th>65</th>\n",
       "      <td>USW00023039</td>\n",
       "      <td>32.3833</td>\n",
       "      <td>-106.4833</td>\n",
       "      <td>1291.7</td>\n",
       "      <td>5</td>\n",
       "      <td>64.234621</td>\n",
       "    </tr>\n",
       "    <tr>\n",
       "      <th>1</th>\n",
       "      <td>US1NMDA0024</td>\n",
       "      <td>32.3844</td>\n",
       "      <td>-106.7217</td>\n",
       "      <td>1332.9</td>\n",
       "      <td>6</td>\n",
       "      <td>-26.286112</td>\n",
       "    </tr>\n",
       "    <tr>\n",
       "      <th>111</th>\n",
       "      <td>US1NMDA0050</td>\n",
       "      <td>32.3859</td>\n",
       "      <td>-106.7196</td>\n",
       "      <td>1332.9</td>\n",
       "      <td>3</td>\n",
       "      <td>-96.276598</td>\n",
       "    </tr>\n",
       "    <tr>\n",
       "      <th>56</th>\n",
       "      <td>US1NMDA0019</td>\n",
       "      <td>32.3917</td>\n",
       "      <td>-106.6913</td>\n",
       "      <td>1356.1</td>\n",
       "      <td>1</td>\n",
       "      <td>-110.418734</td>\n",
       "    </tr>\n",
       "    <tr>\n",
       "      <th>71</th>\n",
       "      <td>US1NMDA0112</td>\n",
       "      <td>32.3956</td>\n",
       "      <td>-106.7824</td>\n",
       "      <td>1278.3</td>\n",
       "      <td>4</td>\n",
       "      <td>-16.311783</td>\n",
       "    </tr>\n",
       "    <tr>\n",
       "      <th>14</th>\n",
       "      <td>US1NMDA0197</td>\n",
       "      <td>32.3993</td>\n",
       "      <td>-106.6849</td>\n",
       "      <td>1361.8</td>\n",
       "      <td>2</td>\n",
       "      <td>73.544074</td>\n",
       "    </tr>\n",
       "    <tr>\n",
       "      <th>47</th>\n",
       "      <td>US1NMDA0108</td>\n",
       "      <td>32.4000</td>\n",
       "      <td>-106.6963</td>\n",
       "      <td>1352.1</td>\n",
       "      <td>1</td>\n",
       "      <td>109.327279</td>\n",
       "    </tr>\n",
       "    <tr>\n",
       "      <th>27</th>\n",
       "      <td>US1NMDA0127</td>\n",
       "      <td>32.4083</td>\n",
       "      <td>-106.7899</td>\n",
       "      <td>1278.0</td>\n",
       "      <td>4</td>\n",
       "      <td>12.468810</td>\n",
       "    </tr>\n",
       "    <tr>\n",
       "      <th>91</th>\n",
       "      <td>US1NMLU0042</td>\n",
       "      <td>32.4313</td>\n",
       "      <td>-107.7620</td>\n",
       "      <td>1457.6</td>\n",
       "      <td>1</td>\n",
       "      <td>-13.297564</td>\n",
       "    </tr>\n",
       "    <tr>\n",
       "      <th>72</th>\n",
       "      <td>USC00295244</td>\n",
       "      <td>32.4333</td>\n",
       "      <td>-105.6167</td>\n",
       "      <td>1524.9</td>\n",
       "      <td>4</td>\n",
       "      <td>-8.169939</td>\n",
       "    </tr>\n",
       "    <tr>\n",
       "      <th>128</th>\n",
       "      <td>USC00293225</td>\n",
       "      <td>32.4333</td>\n",
       "      <td>-107.4833</td>\n",
       "      <td>1356.4</td>\n",
       "      <td>33</td>\n",
       "      <td>30.264761</td>\n",
       "    </tr>\n",
       "    <tr>\n",
       "      <th>105</th>\n",
       "      <td>USW00053026</td>\n",
       "      <td>32.5122</td>\n",
       "      <td>-105.3358</td>\n",
       "      <td>1663.0</td>\n",
       "      <td>1</td>\n",
       "      <td>69.059563</td>\n",
       "    </tr>\n",
       "    <tr>\n",
       "      <th>13</th>\n",
       "      <td>USC00292324</td>\n",
       "      <td>32.5333</td>\n",
       "      <td>-108.6333</td>\n",
       "      <td>1584.7</td>\n",
       "      <td>32</td>\n",
       "      <td>20.473704</td>\n",
       "    </tr>\n",
       "    <tr>\n",
       "      <th>103</th>\n",
       "      <td>USC00292468</td>\n",
       "      <td>32.5333</td>\n",
       "      <td>-108.6333</td>\n",
       "      <td>1584.7</td>\n",
       "      <td>3</td>\n",
       "      <td>-55.105119</td>\n",
       "    </tr>\n",
       "    <tr>\n",
       "      <th>8</th>\n",
       "      <td>USC00298819</td>\n",
       "      <td>32.5428</td>\n",
       "      <td>-108.6369</td>\n",
       "      <td>1585.0</td>\n",
       "      <td>11</td>\n",
       "      <td>50.701075</td>\n",
       "    </tr>\n",
       "    <tr>\n",
       "      <th>73</th>\n",
       "      <td>USC00299691</td>\n",
       "      <td>32.5564</td>\n",
       "      <td>-108.3667</td>\n",
       "      <td>1823.9</td>\n",
       "      <td>62</td>\n",
       "      <td>-7.688520</td>\n",
       "    </tr>\n",
       "    <tr>\n",
       "      <th>85</th>\n",
       "      <td>USC00299720</td>\n",
       "      <td>32.5578</td>\n",
       "      <td>-108.1264</td>\n",
       "      <td>1530.1</td>\n",
       "      <td>44</td>\n",
       "      <td>12.309055</td>\n",
       "    </tr>\n",
       "    <tr>\n",
       "      <th>52</th>\n",
       "      <td>USC00295710</td>\n",
       "      <td>32.5833</td>\n",
       "      <td>-105.1667</td>\n",
       "      <td>1592.6</td>\n",
       "      <td>3</td>\n",
       "      <td>-85.144440</td>\n",
       "    </tr>\n",
       "    <tr>\n",
       "      <th>87</th>\n",
       "      <td>USC00291279</td>\n",
       "      <td>32.5833</td>\n",
       "      <td>-108.4333</td>\n",
       "      <td>2407.9</td>\n",
       "      <td>2</td>\n",
       "      <td>-104.105597</td>\n",
       "    </tr>\n",
       "    <tr>\n",
       "      <th>46</th>\n",
       "      <td>USC00293015</td>\n",
       "      <td>32.6000</td>\n",
       "      <td>-106.0167</td>\n",
       "      <td>1223.5</td>\n",
       "      <td>2</td>\n",
       "      <td>72.313605</td>\n",
       "    </tr>\n",
       "    <tr>\n",
       "      <th>92</th>\n",
       "      <td>US1NMOT0059</td>\n",
       "      <td>32.6098</td>\n",
       "      <td>-105.3946</td>\n",
       "      <td>1829.1</td>\n",
       "      <td>2</td>\n",
       "      <td>24.371156</td>\n",
       "    </tr>\n",
       "    <tr>\n",
       "      <th>110</th>\n",
       "      <td>USW00003074</td>\n",
       "      <td>32.6136</td>\n",
       "      <td>-106.7414</td>\n",
       "      <td>1318.9</td>\n",
       "      <td>2</td>\n",
       "      <td>-13.092408</td>\n",
       "    </tr>\n",
       "    <tr>\n",
       "      <th>123</th>\n",
       "      <td>USC00294426</td>\n",
       "      <td>32.6161</td>\n",
       "      <td>-106.7403</td>\n",
       "      <td>1316.1</td>\n",
       "      <td>68</td>\n",
       "      <td>42.745131</td>\n",
       "    </tr>\n",
       "    <tr>\n",
       "      <th>95</th>\n",
       "      <td>US1NMDA0041</td>\n",
       "      <td>32.6242</td>\n",
       "      <td>-107.0418</td>\n",
       "      <td>1250.9</td>\n",
       "      <td>6</td>\n",
       "      <td>-13.053321</td>\n",
       "    </tr>\n",
       "    <tr>\n",
       "      <th>2</th>\n",
       "      <td>US1NMGR0014</td>\n",
       "      <td>32.6264</td>\n",
       "      <td>-108.5148</td>\n",
       "      <td>1845.9</td>\n",
       "      <td>1</td>\n",
       "      <td>-151.918122</td>\n",
       "    </tr>\n",
       "    <tr>\n",
       "      <th>34</th>\n",
       "      <td>US1NMDA0040</td>\n",
       "      <td>32.6275</td>\n",
       "      <td>-107.0467</td>\n",
       "      <td>1235.0</td>\n",
       "      <td>6</td>\n",
       "      <td>-15.546417</td>\n",
       "    </tr>\n",
       "    <tr>\n",
       "      <th>35</th>\n",
       "      <td>USC00293157</td>\n",
       "      <td>32.6319</td>\n",
       "      <td>-107.8639</td>\n",
       "      <td>1591.7</td>\n",
       "      <td>56</td>\n",
       "      <td>5.836746</td>\n",
       "    </tr>\n",
       "    <tr>\n",
       "      <th>40</th>\n",
       "      <td>USC00299199</td>\n",
       "      <td>32.6333</td>\n",
       "      <td>-108.3333</td>\n",
       "      <td>1848.6</td>\n",
       "      <td>10</td>\n",
       "      <td>0.582250</td>\n",
       "    </tr>\n",
       "    <tr>\n",
       "      <th>66</th>\n",
       "      <td>USW00093063</td>\n",
       "      <td>32.6333</td>\n",
       "      <td>-108.1667</td>\n",
       "      <td>1638.9</td>\n",
       "      <td>7</td>\n",
       "      <td>27.083797</td>\n",
       "    </tr>\n",
       "    <tr>\n",
       "      <th>70</th>\n",
       "      <td>USC00298872</td>\n",
       "      <td>32.6431</td>\n",
       "      <td>-105.6933</td>\n",
       "      <td>2136.6</td>\n",
       "      <td>1</td>\n",
       "      <td>-148.648916</td>\n",
       "    </tr>\n",
       "    <tr>\n",
       "      <th>115</th>\n",
       "      <td>USC00296845</td>\n",
       "      <td>32.6500</td>\n",
       "      <td>-105.3667</td>\n",
       "      <td>1846.5</td>\n",
       "      <td>3</td>\n",
       "      <td>-32.224832</td>\n",
       "    </tr>\n",
       "    <tr>\n",
       "      <th>117</th>\n",
       "      <td>USC00293855</td>\n",
       "      <td>32.6775</td>\n",
       "      <td>-107.1958</td>\n",
       "      <td>1242.1</td>\n",
       "      <td>57</td>\n",
       "      <td>40.605642</td>\n",
       "    </tr>\n",
       "    <tr>\n",
       "      <th>63</th>\n",
       "      <td>USC00297737</td>\n",
       "      <td>32.6833</td>\n",
       "      <td>-105.7167</td>\n",
       "      <td>2255.5</td>\n",
       "      <td>1</td>\n",
       "      <td>-114.718030</td>\n",
       "    </tr>\n",
       "    <tr>\n",
       "      <th>41</th>\n",
       "      <td>USC00297738</td>\n",
       "      <td>32.6833</td>\n",
       "      <td>-105.7167</td>\n",
       "      <td>2257.0</td>\n",
       "      <td>1</td>\n",
       "      <td>-114.718030</td>\n",
       "    </tr>\n",
       "    <tr>\n",
       "      <th>100</th>\n",
       "      <td>USC00299508</td>\n",
       "      <td>32.6833</td>\n",
       "      <td>-108.9833</td>\n",
       "      <td>1153.1</td>\n",
       "      <td>19</td>\n",
       "      <td>53.799689</td>\n",
       "    </tr>\n",
       "    <tr>\n",
       "      <th>76</th>\n",
       "      <td>US1NMGR0009</td>\n",
       "      <td>32.6854</td>\n",
       "      <td>-108.4670</td>\n",
       "      <td>1801.1</td>\n",
       "      <td>4</td>\n",
       "      <td>-43.531537</td>\n",
       "    </tr>\n",
       "    <tr>\n",
       "      <th>96</th>\n",
       "      <td>USC00297340</td>\n",
       "      <td>32.7047</td>\n",
       "      <td>-108.7281</td>\n",
       "      <td>1236.3</td>\n",
       "      <td>90</td>\n",
       "      <td>19.621137</td>\n",
       "    </tr>\n",
       "    <tr>\n",
       "      <th>129</th>\n",
       "      <td>US1NMGR0023</td>\n",
       "      <td>32.7323</td>\n",
       "      <td>-108.2634</td>\n",
       "      <td>1748.0</td>\n",
       "      <td>1</td>\n",
       "      <td>-168.470309</td>\n",
       "    </tr>\n",
       "    <tr>\n",
       "      <th>15</th>\n",
       "      <td>USC00296579</td>\n",
       "      <td>32.7333</td>\n",
       "      <td>-107.6500</td>\n",
       "      <td>1738.3</td>\n",
       "      <td>46</td>\n",
       "      <td>11.824871</td>\n",
       "    </tr>\n",
       "    <tr>\n",
       "      <th>118</th>\n",
       "      <td>USC00294864</td>\n",
       "      <td>32.7333</td>\n",
       "      <td>-107.6500</td>\n",
       "      <td>1720.0</td>\n",
       "      <td>8</td>\n",
       "      <td>-7.856588</td>\n",
       "    </tr>\n",
       "    <tr>\n",
       "      <th>86</th>\n",
       "      <td>USC00294786</td>\n",
       "      <td>32.7333</td>\n",
       "      <td>-107.6500</td>\n",
       "      <td>1720.0</td>\n",
       "      <td>6</td>\n",
       "      <td>-55.060861</td>\n",
       "    </tr>\n",
       "    <tr>\n",
       "      <th>9</th>\n",
       "      <td>US1NMGR0001</td>\n",
       "      <td>32.7422</td>\n",
       "      <td>-108.2996</td>\n",
       "      <td>1811.1</td>\n",
       "      <td>7</td>\n",
       "      <td>-93.261456</td>\n",
       "    </tr>\n",
       "    <tr>\n",
       "      <th>139</th>\n",
       "      <td>USC00022754</td>\n",
       "      <td>32.7481</td>\n",
       "      <td>-109.1214</td>\n",
       "      <td>1115.6</td>\n",
       "      <td>63</td>\n",
       "      <td>47.898194</td>\n",
       "    </tr>\n",
       "    <tr>\n",
       "      <th>107</th>\n",
       "      <td>USC00293448</td>\n",
       "      <td>32.7500</td>\n",
       "      <td>-107.2667</td>\n",
       "      <td>1250.9</td>\n",
       "      <td>5</td>\n",
       "      <td>22.338009</td>\n",
       "    </tr>\n",
       "    <tr>\n",
       "      <th>49</th>\n",
       "      <td>US1NMGR0007</td>\n",
       "      <td>32.7580</td>\n",
       "      <td>-108.1347</td>\n",
       "      <td>1779.1</td>\n",
       "      <td>5</td>\n",
       "      <td>-96.362859</td>\n",
       "    </tr>\n",
       "    <tr>\n",
       "      <th>6</th>\n",
       "      <td>US1NMGR0034</td>\n",
       "      <td>32.7741</td>\n",
       "      <td>-108.3450</td>\n",
       "      <td>1936.1</td>\n",
       "      <td>1</td>\n",
       "      <td>37.460833</td>\n",
       "    </tr>\n",
       "    <tr>\n",
       "      <th>119</th>\n",
       "      <td>USC00299686</td>\n",
       "      <td>32.7822</td>\n",
       "      <td>-106.1758</td>\n",
       "      <td>1221.0</td>\n",
       "      <td>50</td>\n",
       "      <td>62.357762</td>\n",
       "    </tr>\n",
       "    <tr>\n",
       "      <th>116</th>\n",
       "      <td>USC00298324</td>\n",
       "      <td>32.7833</td>\n",
       "      <td>-108.2667</td>\n",
       "      <td>1804.4</td>\n",
       "      <td>49</td>\n",
       "      <td>-19.831140</td>\n",
       "    </tr>\n",
       "    <tr>\n",
       "      <th>25</th>\n",
       "      <td>US1NMGR0031</td>\n",
       "      <td>32.7854</td>\n",
       "      <td>-108.2716</td>\n",
       "      <td>1827.9</td>\n",
       "      <td>2</td>\n",
       "      <td>22.219253</td>\n",
       "    </tr>\n",
       "    <tr>\n",
       "      <th>90</th>\n",
       "      <td>US1NMOT0039</td>\n",
       "      <td>32.7904</td>\n",
       "      <td>-105.8204</td>\n",
       "      <td>2801.1</td>\n",
       "      <td>6</td>\n",
       "      <td>-161.579488</td>\n",
       "    </tr>\n",
       "    <tr>\n",
       "      <th>132</th>\n",
       "      <td>USC00293265</td>\n",
       "      <td>32.7939</td>\n",
       "      <td>-108.1514</td>\n",
       "      <td>1859.0</td>\n",
       "      <td>107</td>\n",
       "      <td>-36.883086</td>\n",
       "    </tr>\n",
       "  </tbody>\n",
       "</table>\n",
       "</div>"
      ],
      "text/plain": [
       "         station  latitude  longitude  elevation  count(station)  avg(coeff_1)\n",
       "24   USC00296435   32.3789  -106.0925     1286.6              72     45.008779\n",
       "39   US1NMDA0167   32.3808  -106.7467     1318.3               3     69.695794\n",
       "134  US1NMDA0061   32.3818  -106.7507     1320.1               4    -78.760181\n",
       "98   US1NMDA0011   32.3829  -106.8076     1208.2               5    -39.639147\n",
       "65   USW00023039   32.3833  -106.4833     1291.7               5     64.234621\n",
       "1    US1NMDA0024   32.3844  -106.7217     1332.9               6    -26.286112\n",
       "111  US1NMDA0050   32.3859  -106.7196     1332.9               3    -96.276598\n",
       "56   US1NMDA0019   32.3917  -106.6913     1356.1               1   -110.418734\n",
       "71   US1NMDA0112   32.3956  -106.7824     1278.3               4    -16.311783\n",
       "14   US1NMDA0197   32.3993  -106.6849     1361.8               2     73.544074\n",
       "47   US1NMDA0108   32.4000  -106.6963     1352.1               1    109.327279\n",
       "27   US1NMDA0127   32.4083  -106.7899     1278.0               4     12.468810\n",
       "91   US1NMLU0042   32.4313  -107.7620     1457.6               1    -13.297564\n",
       "72   USC00295244   32.4333  -105.6167     1524.9               4     -8.169939\n",
       "128  USC00293225   32.4333  -107.4833     1356.4              33     30.264761\n",
       "105  USW00053026   32.5122  -105.3358     1663.0               1     69.059563\n",
       "13   USC00292324   32.5333  -108.6333     1584.7              32     20.473704\n",
       "103  USC00292468   32.5333  -108.6333     1584.7               3    -55.105119\n",
       "8    USC00298819   32.5428  -108.6369     1585.0              11     50.701075\n",
       "73   USC00299691   32.5564  -108.3667     1823.9              62     -7.688520\n",
       "85   USC00299720   32.5578  -108.1264     1530.1              44     12.309055\n",
       "52   USC00295710   32.5833  -105.1667     1592.6               3    -85.144440\n",
       "87   USC00291279   32.5833  -108.4333     2407.9               2   -104.105597\n",
       "46   USC00293015   32.6000  -106.0167     1223.5               2     72.313605\n",
       "92   US1NMOT0059   32.6098  -105.3946     1829.1               2     24.371156\n",
       "110  USW00003074   32.6136  -106.7414     1318.9               2    -13.092408\n",
       "123  USC00294426   32.6161  -106.7403     1316.1              68     42.745131\n",
       "95   US1NMDA0041   32.6242  -107.0418     1250.9               6    -13.053321\n",
       "2    US1NMGR0014   32.6264  -108.5148     1845.9               1   -151.918122\n",
       "34   US1NMDA0040   32.6275  -107.0467     1235.0               6    -15.546417\n",
       "35   USC00293157   32.6319  -107.8639     1591.7              56      5.836746\n",
       "40   USC00299199   32.6333  -108.3333     1848.6              10      0.582250\n",
       "66   USW00093063   32.6333  -108.1667     1638.9               7     27.083797\n",
       "70   USC00298872   32.6431  -105.6933     2136.6               1   -148.648916\n",
       "115  USC00296845   32.6500  -105.3667     1846.5               3    -32.224832\n",
       "117  USC00293855   32.6775  -107.1958     1242.1              57     40.605642\n",
       "63   USC00297737   32.6833  -105.7167     2255.5               1   -114.718030\n",
       "41   USC00297738   32.6833  -105.7167     2257.0               1   -114.718030\n",
       "100  USC00299508   32.6833  -108.9833     1153.1              19     53.799689\n",
       "76   US1NMGR0009   32.6854  -108.4670     1801.1               4    -43.531537\n",
       "96   USC00297340   32.7047  -108.7281     1236.3              90     19.621137\n",
       "129  US1NMGR0023   32.7323  -108.2634     1748.0               1   -168.470309\n",
       "15   USC00296579   32.7333  -107.6500     1738.3              46     11.824871\n",
       "118  USC00294864   32.7333  -107.6500     1720.0               8     -7.856588\n",
       "86   USC00294786   32.7333  -107.6500     1720.0               6    -55.060861\n",
       "9    US1NMGR0001   32.7422  -108.2996     1811.1               7    -93.261456\n",
       "139  USC00022754   32.7481  -109.1214     1115.6              63     47.898194\n",
       "107  USC00293448   32.7500  -107.2667     1250.9               5     22.338009\n",
       "49   US1NMGR0007   32.7580  -108.1347     1779.1               5    -96.362859\n",
       "6    US1NMGR0034   32.7741  -108.3450     1936.1               1     37.460833\n",
       "119  USC00299686   32.7822  -106.1758     1221.0              50     62.357762\n",
       "116  USC00298324   32.7833  -108.2667     1804.4              49    -19.831140\n",
       "25   US1NMGR0031   32.7854  -108.2716     1827.9               2     22.219253\n",
       "90   US1NMOT0039   32.7904  -105.8204     2801.1               6   -161.579488\n",
       "132  USC00293265   32.7939  -108.1514     1859.0             107    -36.883086"
      ]
     },
     "execution_count": 7,
     "metadata": {},
     "output_type": "execute_result"
    }
   ],
   "source": [
    "df2=df1.groupby(['station','latitude','longitude','elevation']).agg({\"station\": \"count\", feature: \"mean\"})\n",
    "pdf=df2.toPandas()\n",
    "pdf.sort_values(by=['latitude'],inplace=True)\n",
    "pdf.head(55)"
   ]
  },
  {
   "cell_type": "code",
   "execution_count": 8,
   "metadata": {
    "run_control": {
     "frozen": false,
     "read_only": false
    }
   },
   "outputs": [
    {
     "data": {
      "text/plain": [
       "u'#800000'"
      ]
     },
     "execution_count": 8,
     "metadata": {},
     "output_type": "execute_result"
    }
   ],
   "source": [
    "#define a mapping from the range of the value to hex colors.\n",
    "from matplotlib.colors import rgb2hex\n",
    "_avg='avg(%s)'%feature\n",
    "_min=pdf[_avg].min()\n",
    "_max=pdf[_avg].max()\n",
    "_min,_max\n",
    "\n",
    "import pylab as plt\n",
    "cmap=plt.get_cmap('jet')\n",
    "def get_color(val):\n",
    "    x=(val-_min)/(_max-_min)\n",
    "    return(rgb2hex(cmap(x)[:3]))\n",
    "\n",
    "get_color(1000.)"
   ]
  },
  {
   "cell_type": "markdown",
   "metadata": {
    "run_control": {
     "frozen": false,
     "read_only": false
    }
   },
   "source": [
    "## Map"
   ]
  },
  {
   "cell_type": "code",
   "execution_count": 9,
   "metadata": {
    "collapsed": true,
    "run_control": {
     "frozen": false,
     "read_only": false
    }
   },
   "outputs": [],
   "source": [
    "min_lat,max_lat,min_long,max_long = box = (32.3400, 33.3800, -109.214, -105)\n"
   ]
  },
  {
   "cell_type": "code",
   "execution_count": 10,
   "metadata": {
    "run_control": {
     "frozen": false,
     "read_only": false
    }
   },
   "outputs": [
    {
     "name": "stderr",
     "output_type": "stream",
     "text": [
      "Widget Javascript not detected.  It may not be installed or enabled properly.\n"
     ]
    },
    {
     "data": {
      "application/vnd.jupyter.widget-view+json": {
       "model_id": "3a43f645aff8427585626568b0e6f1da"
      }
     },
     "metadata": {},
     "output_type": "display_data"
    }
   ],
   "source": [
    "center = [(min_lat+max_lat)/2, (min_long+max_long)/2]\n",
    "zoom = 9\n",
    "\n",
    "m = Map(default_tiles=TileLayer(opacity=1.0), center=center, zoom=zoom)\n",
    "\n",
    "r = Rectangle(bounds=[[min_lat,min_long],[max_lat,max_long]], weight=5, fill_opacity=0.0)\n",
    "m += r\n",
    "\n",
    "lat_margin=(max_lat-min_lat)/4\n",
    "long_margin=(max_long-min_long)/4\n",
    "circles = []\n",
    "for index,row in pdf.iterrows():\n",
    "    _lat=row['latitude']\n",
    "    _long=row['longitude']\n",
    "    _count=row['count(station)']\n",
    "    _coef=row[_avg]\n",
    "    # taking sqrt of count so that the  area of the circle corresponds to the count\n",
    "    c = Circle(location=(_lat,_long), radius=int(300*np.sqrt(_count+0.0)), weight=1,\n",
    "            color='#000', opacity=0.8, fill_opacity=0.4,\n",
    "            fill_color=get_color(_coef))\n",
    "    circles.append(c)\n",
    "    m.add_layer(c)\n",
    "m    "
   ]
  },
  {
   "cell_type": "markdown",
   "metadata": {
    "run_control": {
     "frozen": false,
     "read_only": false
    }
   },
   "source": [
    "### excercises:\n",
    "* Add a legend that relates the colors to values.\n",
    "* Leaflet supports a variety of maps. See if you can get a topographical map as the background."
   ]
  },
  {
   "cell_type": "code",
   "execution_count": 11,
   "metadata": {
    "run_control": {
     "frozen": false,
     "read_only": false
    }
   },
   "outputs": [
    {
     "data": {
      "image/png": "[encoded data removed]",
      "text/plain": [
       "<matplotlib.figure.Figure at 0x7ff555e5c190>"
      ]
     },
     "metadata": {},
     "output_type": "display_data"
    }
   ],
   "source": [
    "%matplotlib inline\n",
    "pdf.plot.scatter(x='elevation',y='avg(coeff_1)');"
   ]
  },
  {
   "cell_type": "code",
   "execution_count": null,
   "metadata": {
    "collapsed": true,
    "run_control": {
     "frozen": false,
     "read_only": false
    }
   },
   "outputs": [],
   "source": []
  },
  {
   "cell_type": "code",
   "execution_count": 12,
   "metadata": {},
   "outputs": [
    {
     "data": {
      "text/plain": [
       "['spark big  data analysis', 'spring', 'spark  basics']"
      ]
     },
     "execution_count": 12,
     "metadata": {},
     "output_type": "execute_result"
    }
   ],
   "source": [
    "RDD1=sc.parallelize([\"spark  basics\", \"spark big  data analysis\", \"spring\"]) \n",
    "RDD2=sc.parallelize([\"spark using pyspark\", \"big data\"])\n",
    " \n",
    "RDD1.subtract(RDD2).collect()"
   ]
  },
  {
   "cell_type": "code",
   "execution_count": null,
   "metadata": {
    "collapsed": true
   },
   "outputs": [],
   "source": []
  }
 ],
 "metadata": {
  "anaconda-cloud": {},
  "hide_input": false,
  "kernelspec": {
   "display_name": "Python 2",
   "language": "python2",
   "name": "python2"
  },
  "language_info": {
   "codemirror_mode": {
    "name": "ipython",
    "version": 2
   },
   "file_extension": ".py",
   "mimetype": "text/x-python",
   "name": "python",
   "nbconvert_exporter": "python",
   "pygments_lexer": "ipython2",
   "version": "2.7.13"
  },
  "toc": {
   "colors": {
    "hover_highlight": "#DAA520",
    "running_highlight": "#FF0000",
    "selected_highlight": "#FFD700"
   },
   "moveMenuLeft": true,
   "nav_menu": {
    "height": "174px",
    "width": "252px"
   },
   "navigate_menu": true,
   "number_sections": true,
   "sideBar": true,
   "threshold": 4,
   "toc_cell": false,
   "toc_section_display": "block",
   "toc_window_display": false
  },
  "widgets": {
   "state": {},
   "version": "1.0.0"
  }
 },
 "nbformat": 4,
 "nbformat_minor": 1
}
