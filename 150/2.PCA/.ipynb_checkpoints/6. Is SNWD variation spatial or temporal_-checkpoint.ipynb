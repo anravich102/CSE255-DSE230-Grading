{
 "cells": [
  {
   "cell_type": "markdown",
   "metadata": {
    "run_control": {
     "frozen": false,
     "read_only": false
    }
   },
   "source": [
    "## Analyze whether SNWD varies more from year to year or from place to place."
   ]
  },
  {
   "cell_type": "code",
   "execution_count": 1,
   "metadata": {
    "collapsed": true,
    "run_control": {
     "frozen": false,
     "read_only": false
    }
   },
   "outputs": [],
   "source": [
    "import pandas as pd\n",
    "import numpy as np\n",
    "import urllib\n",
    "import math"
   ]
  },
  {
   "cell_type": "code",
   "execution_count": 2,
   "metadata": {
    "collapsed": true,
    "run_control": {
     "frozen": false,
     "read_only": false
    }
   },
   "outputs": [],
   "source": [
    "import findspark\n",
    "findspark.init()\n",
    "\n",
    "from pyspark import SparkContext\n",
    "#sc.stop()\n",
    "sc = SparkContext(master=\"local[3]\",pyFiles=['lib/numpy_pack.py','lib/spark_PCA.py','lib/computeStats.py'])\n",
    "\n",
    "from pyspark import SparkContext\n",
    "from pyspark.sql import *\n",
    "sqlContext = SQLContext(sc)"
   ]
  },
  {
   "cell_type": "code",
   "execution_count": 3,
   "metadata": {
    "collapsed": true,
    "run_control": {
     "frozen": false,
     "read_only": false
    }
   },
   "outputs": [],
   "source": [
    "import sys\n",
    "sys.path.append('./lib')\n",
    "\n",
    "import numpy as np\n",
    "from numpy_pack import packArray,unpackArray\n",
    "from spark_PCA import computeCov\n",
    "from computeStats import computeOverAllDist, STAT_Descriptions"
   ]
  },
  {
   "cell_type": "code",
   "execution_count": 4,
   "metadata": {
    "run_control": {
     "frozen": false,
     "read_only": false
    },
    "scrolled": true
   },
   "outputs": [
    {
     "name": "stdout",
     "output_type": "stream",
     "text": [
      "('keys from STAT=', ['TMIN', 'TOBS', 'TMAX', 'SNOW', 'SNWD', 'PRCP'])\n",
      "91\n",
      "+-------------------+----------------+-------------------+-------------------+-------------------+---------+--------+--------+---------+-----------+------------------+--------------------+--------------------+--------------------+--------------------+------------------+-----------+---------+------+--------------------+------+\n",
      "|            coeff_1|         coeff_2|            coeff_3|            coeff_4|            coeff_5|elevation|   label|latitude|longitude|measurement|             res_1|               res_2|               res_3|               res_4|               res_5|          res_mean|    station|total_var|undefs|              vector|  year|\n",
      "+-------------------+----------------+-------------------+-------------------+-------------------+---------+--------+--------+---------+-----------+------------------+--------------------+--------------------+--------------------+--------------------+------------------+-----------+---------+------+--------------------+------+\n",
      "|-0.9799956885752188|74.7115835833705|0.11232650607835276|0.11633893905235707|0.12434517802510543|     71.6|BSSSBSBB| 32.0289| -87.3167|       SNWD|0.9998279762826575|2.164684300841072...|1.938686351275991...|1.696254210715699...|1.419306426315543...|0.9665688998072985|USC00011301|   5776.0|     0|[C0 54 00 00 00 0...|1964.0|\n",
      "|-0.9799956885752188|74.7115835833705|0.11232650607835276|0.11633893905235707|0.12434517802510543|     51.8|BSSSBSBB| 31.6508| -87.7097|       SNWD|0.9998279762826575|2.164684300841072...|1.938686351275991...|1.696254210715699...|1.419306426315543...|0.9665688998072985|USC00018867|   5776.0|    30|[C0 54 00 00 00 0...|1964.0|\n",
      "+-------------------+----------------+-------------------+-------------------+-------------------+---------+--------+--------+---------+-----------+------------------+--------------------+--------------------+--------------------+--------------------+------------------+-----------+---------+------+--------------------+------+\n",
      "only showing top 2 rows\n",
      "\n"
     ]
    }
   ],
   "source": [
    "### Read the data frame from pickle file\n",
    "\n",
    "data_dir='../../Data/Weather'\n",
    "file_index='BSSSBSBB'#'BBBSBBBB'\n",
    "meas='SNWD'\n",
    "\n",
    "from pickle import load\n",
    "\n",
    "#read statistics\n",
    "filename=data_dir+'/STAT_%s.pickle'%file_index\n",
    "STAT,STAT_Descriptions = load(open(filename,'rb'))\n",
    "print('keys from STAT=',STAT.keys())\n",
    "\n",
    "#!ls -ld $data_dir/*.parquet\n",
    "\n",
    "#read data\n",
    "filename=data_dir+'/decon_%s_%s.parquet'%(file_index,meas)\n",
    "\n",
    "df=sqlContext.read.parquet(filename)\n",
    "print(df.count())\n",
    "df.show(2)"
   ]
  },
  {
   "cell_type": "code",
   "execution_count": 5,
   "metadata": {
    "run_control": {
     "frozen": false,
     "read_only": false
    }
   },
   "outputs": [
    {
     "name": "stdout",
     "output_type": "stream",
     "text": [
      "['coeff_1', 'coeff_2', 'coeff_3', 'coeff_4', 'coeff_5', 'elevation', 'label', 'latitude', 'longitude', 'measurement', 'res_1', 'res_2', 'res_3', 'res_4', 'res_5', 'res_mean', 'station', 'total_var', 'undefs', 'vector', 'year']\n"
     ]
    }
   ],
   "source": [
    "print df.columns"
   ]
  },
  {
   "cell_type": "code",
   "execution_count": 12,
   "metadata": {
    "run_control": {
     "frozen": false,
     "read_only": false
    },
    "scrolled": true
   },
   "outputs": [
    {
     "name": "stdout",
     "output_type": "stream",
     "text": [
      "SELECT station, year, coeff_3 FROM weather\n"
     ]
    },
    {
     "data": {
      "text/html": [
       "<div>\n",
       "<table border=\"1\" class=\"dataframe\">\n",
       "  <thead>\n",
       "    <tr style=\"text-align: right;\">\n",
       "      <th></th>\n",
       "      <th>station</th>\n",
       "      <th>year</th>\n",
       "      <th>coeff_3</th>\n",
       "    </tr>\n",
       "  </thead>\n",
       "  <tbody>\n",
       "    <tr>\n",
       "      <th>0</th>\n",
       "      <td>USC00011301</td>\n",
       "      <td>1964.0</td>\n",
       "      <td>0.112327</td>\n",
       "    </tr>\n",
       "    <tr>\n",
       "      <th>1</th>\n",
       "      <td>USC00018867</td>\n",
       "      <td>1964.0</td>\n",
       "      <td>0.112327</td>\n",
       "    </tr>\n",
       "    <tr>\n",
       "      <th>2</th>\n",
       "      <td>USC00018215</td>\n",
       "      <td>1964.0</td>\n",
       "      <td>0.112327</td>\n",
       "    </tr>\n",
       "    <tr>\n",
       "      <th>3</th>\n",
       "      <td>USC00019103</td>\n",
       "      <td>1964.0</td>\n",
       "      <td>0.112327</td>\n",
       "    </tr>\n",
       "    <tr>\n",
       "      <th>4</th>\n",
       "      <td>USC00017963</td>\n",
       "      <td>1964.0</td>\n",
       "      <td>0.112327</td>\n",
       "    </tr>\n",
       "  </tbody>\n",
       "</table>\n",
       "</div>"
      ],
      "text/plain": [
       "       station    year   coeff_3\n",
       "0  USC00011301  1964.0  0.112327\n",
       "1  USC00018867  1964.0  0.112327\n",
       "2  USC00018215  1964.0  0.112327\n",
       "3  USC00019103  1964.0  0.112327\n",
       "4  USC00017963  1964.0  0.112327"
      ]
     },
     "execution_count": 12,
     "metadata": {},
     "output_type": "execute_result"
    }
   ],
   "source": [
    "#extract longitude and latitude for each station\n",
    "feature='coeff_1'\n",
    "sqlContext.registerDataFrameAsTable(df,'weather')\n",
    "#Features=', '.join(['coeff_1', 'coeff_2', 'coeff_3', 'elevation', 'latitude', 'longitude',\\\n",
    "#          'res_1', 'res_2', 'res_3', 'res_mean', 'year'])\n",
    "Features='station, year, coeff_3'\n",
    "Query=\"SELECT %s FROM weather\"%Features\n",
    "print(Query)\n",
    "pdf = sqlContext.sql(Query).toPandas()\n",
    "pdf.head()"
   ]
  },
  {
   "cell_type": "code",
   "execution_count": 13,
   "metadata": {
    "run_control": {
     "frozen": false,
     "read_only": false
    }
   },
   "outputs": [
    {
     "data": {
      "text/html": [
       "<div>\n",
       "<table border=\"1\" class=\"dataframe\">\n",
       "  <thead>\n",
       "    <tr style=\"text-align: right;\">\n",
       "      <th>station</th>\n",
       "      <th>US1ALMY0007</th>\n",
       "      <th>USC00010140</th>\n",
       "      <th>USC00010440</th>\n",
       "      <th>USC00010616</th>\n",
       "      <th>USC00011069</th>\n",
       "      <th>USC00011178</th>\n",
       "      <th>USC00011300</th>\n",
       "      <th>USC00011301</th>\n",
       "      <th>USC00011690</th>\n",
       "      <th>USC00012079</th>\n",
       "      <th>...</th>\n",
       "      <th>USC00018323</th>\n",
       "      <th>USC00018438</th>\n",
       "      <th>USC00018446</th>\n",
       "      <th>USC00018859</th>\n",
       "      <th>USC00018867</th>\n",
       "      <th>USC00019103</th>\n",
       "      <th>USC00221174</th>\n",
       "      <th>USW00013821</th>\n",
       "      <th>USW00013850</th>\n",
       "      <th>USW00013895</th>\n",
       "    </tr>\n",
       "    <tr>\n",
       "      <th>year</th>\n",
       "      <th></th>\n",
       "      <th></th>\n",
       "      <th></th>\n",
       "      <th></th>\n",
       "      <th></th>\n",
       "      <th></th>\n",
       "      <th></th>\n",
       "      <th></th>\n",
       "      <th></th>\n",
       "      <th></th>\n",
       "      <th></th>\n",
       "      <th></th>\n",
       "      <th></th>\n",
       "      <th></th>\n",
       "      <th></th>\n",
       "      <th></th>\n",
       "      <th></th>\n",
       "      <th></th>\n",
       "      <th></th>\n",
       "      <th></th>\n",
       "      <th></th>\n",
       "    </tr>\n",
       "  </thead>\n",
       "  <tbody>\n",
       "    <tr>\n",
       "      <th>1935.0</th>\n",
       "      <td>NaN</td>\n",
       "      <td>NaN</td>\n",
       "      <td>NaN</td>\n",
       "      <td>NaN</td>\n",
       "      <td>NaN</td>\n",
       "      <td>NaN</td>\n",
       "      <td>NaN</td>\n",
       "      <td>NaN</td>\n",
       "      <td>NaN</td>\n",
       "      <td>NaN</td>\n",
       "      <td>...</td>\n",
       "      <td>-0.352373</td>\n",
       "      <td>NaN</td>\n",
       "      <td>NaN</td>\n",
       "      <td>NaN</td>\n",
       "      <td>NaN</td>\n",
       "      <td>NaN</td>\n",
       "      <td>NaN</td>\n",
       "      <td>NaN</td>\n",
       "      <td>NaN</td>\n",
       "      <td>NaN</td>\n",
       "    </tr>\n",
       "    <tr>\n",
       "      <th>1940.0</th>\n",
       "      <td>NaN</td>\n",
       "      <td>NaN</td>\n",
       "      <td>NaN</td>\n",
       "      <td>NaN</td>\n",
       "      <td>NaN</td>\n",
       "      <td>NaN</td>\n",
       "      <td>NaN</td>\n",
       "      <td>NaN</td>\n",
       "      <td>NaN</td>\n",
       "      <td>NaN</td>\n",
       "      <td>...</td>\n",
       "      <td>NaN</td>\n",
       "      <td>NaN</td>\n",
       "      <td>NaN</td>\n",
       "      <td>NaN</td>\n",
       "      <td>NaN</td>\n",
       "      <td>NaN</td>\n",
       "      <td>NaN</td>\n",
       "      <td>NaN</td>\n",
       "      <td>NaN</td>\n",
       "      <td>NaN</td>\n",
       "    </tr>\n",
       "    <tr>\n",
       "      <th>1948.0</th>\n",
       "      <td>NaN</td>\n",
       "      <td>NaN</td>\n",
       "      <td>NaN</td>\n",
       "      <td>NaN</td>\n",
       "      <td>NaN</td>\n",
       "      <td>NaN</td>\n",
       "      <td>NaN</td>\n",
       "      <td>NaN</td>\n",
       "      <td>NaN</td>\n",
       "      <td>NaN</td>\n",
       "      <td>...</td>\n",
       "      <td>NaN</td>\n",
       "      <td>NaN</td>\n",
       "      <td>NaN</td>\n",
       "      <td>NaN</td>\n",
       "      <td>NaN</td>\n",
       "      <td>NaN</td>\n",
       "      <td>NaN</td>\n",
       "      <td>NaN</td>\n",
       "      <td>NaN</td>\n",
       "      <td>0.423577</td>\n",
       "    </tr>\n",
       "    <tr>\n",
       "      <th>1958.0</th>\n",
       "      <td>NaN</td>\n",
       "      <td>NaN</td>\n",
       "      <td>NaN</td>\n",
       "      <td>NaN</td>\n",
       "      <td>NaN</td>\n",
       "      <td>NaN</td>\n",
       "      <td>0.56098</td>\n",
       "      <td>NaN</td>\n",
       "      <td>NaN</td>\n",
       "      <td>NaN</td>\n",
       "      <td>...</td>\n",
       "      <td>NaN</td>\n",
       "      <td>NaN</td>\n",
       "      <td>NaN</td>\n",
       "      <td>NaN</td>\n",
       "      <td>NaN</td>\n",
       "      <td>NaN</td>\n",
       "      <td>NaN</td>\n",
       "      <td>NaN</td>\n",
       "      <td>NaN</td>\n",
       "      <td>NaN</td>\n",
       "    </tr>\n",
       "    <tr>\n",
       "      <th>1962.0</th>\n",
       "      <td>NaN</td>\n",
       "      <td>NaN</td>\n",
       "      <td>NaN</td>\n",
       "      <td>NaN</td>\n",
       "      <td>NaN</td>\n",
       "      <td>NaN</td>\n",
       "      <td>NaN</td>\n",
       "      <td>0.453164</td>\n",
       "      <td>NaN</td>\n",
       "      <td>NaN</td>\n",
       "      <td>...</td>\n",
       "      <td>NaN</td>\n",
       "      <td>NaN</td>\n",
       "      <td>NaN</td>\n",
       "      <td>0.453164</td>\n",
       "      <td>NaN</td>\n",
       "      <td>NaN</td>\n",
       "      <td>NaN</td>\n",
       "      <td>NaN</td>\n",
       "      <td>NaN</td>\n",
       "      <td>0.453164</td>\n",
       "    </tr>\n",
       "    <tr>\n",
       "      <th>1964.0</th>\n",
       "      <td>NaN</td>\n",
       "      <td>-0.39011</td>\n",
       "      <td>-0.089440</td>\n",
       "      <td>NaN</td>\n",
       "      <td>NaN</td>\n",
       "      <td>NaN</td>\n",
       "      <td>NaN</td>\n",
       "      <td>0.112327</td>\n",
       "      <td>-0.390110</td>\n",
       "      <td>-0.995409</td>\n",
       "      <td>...</td>\n",
       "      <td>NaN</td>\n",
       "      <td>NaN</td>\n",
       "      <td>-0.390110</td>\n",
       "      <td>0.211231</td>\n",
       "      <td>0.112327</td>\n",
       "      <td>0.112327</td>\n",
       "      <td>NaN</td>\n",
       "      <td>NaN</td>\n",
       "      <td>NaN</td>\n",
       "      <td>0.314093</td>\n",
       "    </tr>\n",
       "    <tr>\n",
       "      <th>1968.0</th>\n",
       "      <td>NaN</td>\n",
       "      <td>NaN</td>\n",
       "      <td>NaN</td>\n",
       "      <td>0.439899</td>\n",
       "      <td>0.457202</td>\n",
       "      <td>0.457202</td>\n",
       "      <td>NaN</td>\n",
       "      <td>0.463516</td>\n",
       "      <td>0.503174</td>\n",
       "      <td>0.503174</td>\n",
       "      <td>...</td>\n",
       "      <td>0.457202</td>\n",
       "      <td>NaN</td>\n",
       "      <td>0.512381</td>\n",
       "      <td>NaN</td>\n",
       "      <td>0.547379</td>\n",
       "      <td>NaN</td>\n",
       "      <td>0.434274</td>\n",
       "      <td>-0.020891</td>\n",
       "      <td>0.446898</td>\n",
       "      <td>NaN</td>\n",
       "    </tr>\n",
       "    <tr>\n",
       "      <th>1973.0</th>\n",
       "      <td>NaN</td>\n",
       "      <td>NaN</td>\n",
       "      <td>NaN</td>\n",
       "      <td>NaN</td>\n",
       "      <td>NaN</td>\n",
       "      <td>NaN</td>\n",
       "      <td>NaN</td>\n",
       "      <td>NaN</td>\n",
       "      <td>NaN</td>\n",
       "      <td>NaN</td>\n",
       "      <td>...</td>\n",
       "      <td>NaN</td>\n",
       "      <td>NaN</td>\n",
       "      <td>NaN</td>\n",
       "      <td>NaN</td>\n",
       "      <td>NaN</td>\n",
       "      <td>NaN</td>\n",
       "      <td>NaN</td>\n",
       "      <td>NaN</td>\n",
       "      <td>NaN</td>\n",
       "      <td>0.714882</td>\n",
       "    </tr>\n",
       "    <tr>\n",
       "      <th>1977.0</th>\n",
       "      <td>NaN</td>\n",
       "      <td>NaN</td>\n",
       "      <td>NaN</td>\n",
       "      <td>NaN</td>\n",
       "      <td>0.496379</td>\n",
       "      <td>NaN</td>\n",
       "      <td>NaN</td>\n",
       "      <td>NaN</td>\n",
       "      <td>NaN</td>\n",
       "      <td>NaN</td>\n",
       "      <td>...</td>\n",
       "      <td>NaN</td>\n",
       "      <td>NaN</td>\n",
       "      <td>NaN</td>\n",
       "      <td>NaN</td>\n",
       "      <td>NaN</td>\n",
       "      <td>NaN</td>\n",
       "      <td>NaN</td>\n",
       "      <td>NaN</td>\n",
       "      <td>NaN</td>\n",
       "      <td>0.570538</td>\n",
       "    </tr>\n",
       "    <tr>\n",
       "      <th>1987.0</th>\n",
       "      <td>NaN</td>\n",
       "      <td>NaN</td>\n",
       "      <td>0.429804</td>\n",
       "      <td>NaN</td>\n",
       "      <td>NaN</td>\n",
       "      <td>NaN</td>\n",
       "      <td>NaN</td>\n",
       "      <td>0.446282</td>\n",
       "      <td>NaN</td>\n",
       "      <td>NaN</td>\n",
       "      <td>...</td>\n",
       "      <td>NaN</td>\n",
       "      <td>NaN</td>\n",
       "      <td>NaN</td>\n",
       "      <td>NaN</td>\n",
       "      <td>NaN</td>\n",
       "      <td>NaN</td>\n",
       "      <td>NaN</td>\n",
       "      <td>NaN</td>\n",
       "      <td>NaN</td>\n",
       "      <td>0.429314</td>\n",
       "    </tr>\n",
       "  </tbody>\n",
       "</table>\n",
       "<p>10 rows × 46 columns</p>\n",
       "</div>"
      ],
      "text/plain": [
       "station  US1ALMY0007  USC00010140  USC00010440  USC00010616  USC00011069  \\\n",
       "year                                                                       \n",
       "1935.0           NaN          NaN          NaN          NaN          NaN   \n",
       "1940.0           NaN          NaN          NaN          NaN          NaN   \n",
       "1948.0           NaN          NaN          NaN          NaN          NaN   \n",
       "1958.0           NaN          NaN          NaN          NaN          NaN   \n",
       "1962.0           NaN          NaN          NaN          NaN          NaN   \n",
       "1964.0           NaN     -0.39011    -0.089440          NaN          NaN   \n",
       "1968.0           NaN          NaN          NaN     0.439899     0.457202   \n",
       "1973.0           NaN          NaN          NaN          NaN          NaN   \n",
       "1977.0           NaN          NaN          NaN          NaN     0.496379   \n",
       "1987.0           NaN          NaN     0.429804          NaN          NaN   \n",
       "\n",
       "station  USC00011178  USC00011300  USC00011301  USC00011690  USC00012079  \\\n",
       "year                                                                       \n",
       "1935.0           NaN          NaN          NaN          NaN          NaN   \n",
       "1940.0           NaN          NaN          NaN          NaN          NaN   \n",
       "1948.0           NaN          NaN          NaN          NaN          NaN   \n",
       "1958.0           NaN      0.56098          NaN          NaN          NaN   \n",
       "1962.0           NaN          NaN     0.453164          NaN          NaN   \n",
       "1964.0           NaN          NaN     0.112327    -0.390110    -0.995409   \n",
       "1968.0      0.457202          NaN     0.463516     0.503174     0.503174   \n",
       "1973.0           NaN          NaN          NaN          NaN          NaN   \n",
       "1977.0           NaN          NaN          NaN          NaN          NaN   \n",
       "1987.0           NaN          NaN     0.446282          NaN          NaN   \n",
       "\n",
       "station     ...       USC00018323  USC00018438  USC00018446  USC00018859  \\\n",
       "year        ...                                                            \n",
       "1935.0      ...         -0.352373          NaN          NaN          NaN   \n",
       "1940.0      ...               NaN          NaN          NaN          NaN   \n",
       "1948.0      ...               NaN          NaN          NaN          NaN   \n",
       "1958.0      ...               NaN          NaN          NaN          NaN   \n",
       "1962.0      ...               NaN          NaN          NaN     0.453164   \n",
       "1964.0      ...               NaN          NaN    -0.390110     0.211231   \n",
       "1968.0      ...          0.457202          NaN     0.512381          NaN   \n",
       "1973.0      ...               NaN          NaN          NaN          NaN   \n",
       "1977.0      ...               NaN          NaN          NaN          NaN   \n",
       "1987.0      ...               NaN          NaN          NaN          NaN   \n",
       "\n",
       "station  USC00018867  USC00019103  USC00221174  USW00013821  USW00013850  \\\n",
       "year                                                                       \n",
       "1935.0           NaN          NaN          NaN          NaN          NaN   \n",
       "1940.0           NaN          NaN          NaN          NaN          NaN   \n",
       "1948.0           NaN          NaN          NaN          NaN          NaN   \n",
       "1958.0           NaN          NaN          NaN          NaN          NaN   \n",
       "1962.0           NaN          NaN          NaN          NaN          NaN   \n",
       "1964.0      0.112327     0.112327          NaN          NaN          NaN   \n",
       "1968.0      0.547379          NaN     0.434274    -0.020891     0.446898   \n",
       "1973.0           NaN          NaN          NaN          NaN          NaN   \n",
       "1977.0           NaN          NaN          NaN          NaN          NaN   \n",
       "1987.0           NaN          NaN          NaN          NaN          NaN   \n",
       "\n",
       "station  USW00013895  \n",
       "year                  \n",
       "1935.0           NaN  \n",
       "1940.0           NaN  \n",
       "1948.0      0.423577  \n",
       "1958.0           NaN  \n",
       "1962.0      0.453164  \n",
       "1964.0      0.314093  \n",
       "1968.0           NaN  \n",
       "1973.0      0.714882  \n",
       "1977.0      0.570538  \n",
       "1987.0      0.429314  \n",
       "\n",
       "[10 rows x 46 columns]"
      ]
     },
     "execution_count": 13,
     "metadata": {},
     "output_type": "execute_result"
    }
   ],
   "source": [
    "year_station_table=pdf.pivot(index='year', columns='station', values='coeff_3')\n",
    "year_station_table.head(10)"
   ]
  },
  {
   "cell_type": "markdown",
   "metadata": {
    "run_control": {
     "frozen": false,
     "read_only": false
    }
   },
   "source": [
    "### Estimating the effect of the year vs the effect of the station\n",
    "\n",
    "To estimate the effect of time vs. location on the first eigenvector coefficient we\n",
    "compute:\n",
    "\n",
    "* The average row: `mean-by-station`\n",
    "* The average column: `mean-by-year`\n",
    "\n",
    "We then compute the RMS before and after subtracting either  the row or the column vector."
   ]
  },
  {
   "cell_type": "code",
   "execution_count": 14,
   "metadata": {
    "run_control": {
     "frozen": false,
     "read_only": false
    }
   },
   "outputs": [
    {
     "name": "stdout",
     "output_type": "stream",
     "text": [
      "total RMS                   =  48.0479234689\n",
      "RMS removing mean-by-station=  43.2453320621\n",
      "RMS removing mean-by-year   =  21.6737027571\n"
     ]
    }
   ],
   "source": [
    "def RMS(Mat):\n",
    "    return np.sqrt(np.nanmean(Mat**2))\n",
    "\n",
    "mean_by_year=np.nanmean(year_station_table,axis=1)\n",
    "mean_by_station=np.nanmean(year_station_table,axis=0)\n",
    "tbl_minus_year = (year_station_table.transpose()-mean_by_year).transpose()\n",
    "tbl_minus_station = year_station_table-mean_by_station\n",
    "\n",
    "print 'total RMS                   = ',RMS(year_station_table)\n",
    "print 'RMS removing mean-by-station= ',RMS(tbl_minus_station)\n",
    "print 'RMS removing mean-by-year   = ',RMS(tbl_minus_year)"
   ]
  },
  {
   "cell_type": "code",
   "execution_count": 15,
   "metadata": {
    "run_control": {
     "frozen": false,
     "read_only": false
    }
   },
   "outputs": [
    {
     "name": "stdout",
     "output_type": "stream",
     "text": [
      "initial MS= 48.0479234689\n",
      "0 after removing mean by year    = 21.6737027571\n",
      "0 after removing mean by stations= 19.1448643174\n",
      "1 after removing mean by year    = 18.5853194194\n",
      "1 after removing mean by stations= 18.3723209108\n",
      "2 after removing mean by year    = 18.2855845682\n",
      "2 after removing mean by stations= 18.2481843696\n",
      "3 after removing mean by year    = 18.231170455\n",
      "3 after removing mean by stations= 18.2230259383\n",
      "4 after removing mean by year    = 18.2189368451\n",
      "4 after removing mean by stations= 18.2167930664\n"
     ]
    }
   ],
   "source": [
    "T=year_station_table\n",
    "print 'initial MS=',RMS(T)\n",
    "for i in range(5):\n",
    "    mean_by_year=np.nanmean(T,axis=1)\n",
    "    T=(T.transpose()-mean_by_year).transpose()\n",
    "    print i,'after removing mean by year    =',RMS(T)\n",
    "    mean_by_station=np.nanmean(T,axis=0)\n",
    "    T=T-mean_by_station\n",
    "    print i,'after removing mean by stations=',RMS(T)"
   ]
  },
  {
   "cell_type": "code",
   "execution_count": 16,
   "metadata": {},
   "outputs": [
    {
     "name": "stdout",
     "output_type": "stream",
     "text": [
      "total MS                   =  2308.60294968\n",
      "MS removing mean-by-station=  1870.15874516\n",
      "MS removing mean-by-year   =  469.749391205\n",
      "fraction explained year=   79.6522225153\n",
      "fraction explained station=   18.9917544971\n"
     ]
    }
   ],
   "source": [
    "def MS(Mat):\n",
    "    return np.nanmean(Mat**2)\n",
    "\n",
    "mean_by_year=np.nanmean(year_station_table,axis=1)\n",
    "mean_by_station=np.nanmean(year_station_table,axis=0)\n",
    "tbl_minus_year = (year_station_table.transpose()-mean_by_year).transpose()\n",
    "tbl_minus_station = year_station_table-mean_by_station\n",
    "\n",
    "print 'total MS                   = ',MS(year_station_table)\n",
    "print 'MS removing mean-by-station= ',MS(tbl_minus_station)\n",
    "print 'MS removing mean-by-year   = ',MS(tbl_minus_year)\n",
    "print 'fraction explained year=  ',(MS(year_station_table) - MS(tbl_minus_year))*100.0/(MS(year_station_table))\n",
    "print 'fraction explained station=  ',(MS(year_station_table) - MS(tbl_minus_station))*100.0/(MS(year_station_table))"
   ]
  },
  {
   "cell_type": "code",
   "execution_count": null,
   "metadata": {
    "collapsed": true,
    "run_control": {
     "frozen": false,
     "read_only": false
    }
   },
   "outputs": [],
   "source": []
  }
 ],
 "metadata": {
  "anaconda-cloud": {},
  "hide_input": false,
  "kernelspec": {
   "display_name": "Python 2",
   "language": "python",
   "name": "python2"
  },
  "language_info": {
   "codemirror_mode": {
    "name": "ipython",
    "version": 2
   },
   "file_extension": ".py",
   "mimetype": "text/x-python",
   "name": "python",
   "nbconvert_exporter": "python",
   "pygments_lexer": "ipython2",
   "version": "2.7.13"
  },
  "toc": {
   "colors": {
    "hover_highlight": "#DAA520",
    "running_highlight": "#FF0000",
    "selected_highlight": "#FFD700"
   },
   "moveMenuLeft": true,
   "nav_menu": {
    "height": "174px",
    "width": "252px"
   },
   "navigate_menu": true,
   "number_sections": true,
   "sideBar": true,
   "threshold": 4,
   "toc_cell": false,
   "toc_section_display": "block",
   "toc_window_display": false,
   "widenNotebook": false
  },
  "widgets": {
   "state": {},
   "version": "1.0.0"
  }
 },
 "nbformat": 4,
 "nbformat_minor": 1
}
