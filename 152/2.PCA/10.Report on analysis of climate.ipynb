{
 "cells": [
  {
   "cell_type": "markdown",
   "metadata": {
    "deletable": true,
    "editable": true,
    "run_control": {
     "frozen": false,
     "read_only": false
    }
   },
   "source": [
    "# Washington Weather Pattern Analysis Report\n",
    "\n",
    "## Introduction\n",
    "\n",
    "In this report, we analyse the historical data of weather patterns of an areas that lies in Washington state. The area includes Moses Lake in the northwest and Municipai Airport in the southeast, which is shown in the figure below. As a remark, we point out that in this map, the area of a circle corresponds to the count of stations in that location.\n",
    "\n",
    "![area.png](area.png)\n",
    "\n",
    "The weather pattern data used for our analysis can be downloaded from [Data Link](ftp://ftp.ncdc.noaa.gov/pub/data/ghcn/daily/).\n",
    "\n",
    "There are six core measurements in our data set: \n",
    "\n",
    "* **PRCP** = Precipitation (tenths of mm)\n",
    "* **SNOW** = Snowfall (mm)\n",
    "* **SNWD** = Snow depth (mm)\n",
    "* **TMAX** = Maximum temperature (tenths of degrees C)\n",
    "* **TMIN** = Minimum temperature (tenths of degrees C)\n",
    "* **TOBS** = Temperature at the time of observation (tenths of degrees C)\n",
    "\n",
    "## Comparison with Other Sources\n",
    "\n",
    "** Let us perform some sanity check on our data. The figure below is extracted from the 'US Climate Data' [Website](http://www.usclimatedata.com/climate/moses-lake/washington/united-states/uswa0762).**\n",
    "\n",
    "![source.png](source.png)\n",
    "\n",
    "From the above figure, we can see the maximum/minimum temprature and the precipitation for each month in the Morse Lake area. In the graph below, we plot out the maximum temperature curve and minimum temprature curve based on our data.\n",
    "\n",
    "![Tmm.png](Tmm.png)\n",
    "\n",
    "Clearly, the above curves have the same shape as the curves in the 'US Climate Data' plot. \n",
    "\n",
    "If we only look at the maximum temperature curve, the peak is reached around July for both plots. Besides, the peak value is 90F in the 'US Climate Data' plot, which is roughly 33C. This is roughly equal to the peak value in our data plot! Thus, our data indeed reflects the true value and can be trusted."
   ]
  },
  {
   "cell_type": "markdown",
   "metadata": {
    "deletable": true,
    "editable": true,
    "run_control": {
     "frozen": false,
     "read_only": false
    }
   },
   "source": [
    "## Principal Component Analysis\n",
    "\n",
    "In order to discover the weather patterns behind our data, we performed principal component analysis for all the six features (measurements). To identify which feature is the most suitable to analyse, **we plot the percentage of variance explained by the top-k eigen-vectors as a fucntion of k as follows**.\n",
    "\n",
    "![PCA1.png](PCA1.png)\n",
    "\n",
    "![PCA2.png](PCA2.png)\n"
   ]
  },
  {
   "cell_type": "markdown",
   "metadata": {},
   "source": [
    "#### Feature Suitable for PCA Analysis\n",
    "\n",
    "The percentages of variance explained by the top **10** eigen-vector for our six core measurements are: \n",
    "\n",
    "* PRCP = 19.5%\n",
    "* SNOW = 28%\n",
    "* SNWD = **96%**\n",
    "* TMAX = 45%\n",
    "* TMIN = 45%\n",
    "* TOBS = 59%\n",
    "\n",
    "It's easy to see that among these six features, SNWD is best explained by the top **10** eigen-vectors, i.e., **96% of the varince is exaplaned by the top 10 eigen-vectors**. However, to select SNWD as the feature to be analysed, we need to make sure that the signal has some meaningful structure. We present the mean+-sd plot of SNWD as a fuction of time. \n",
    "\n",
    "![snwd.png](snwd.png)\n",
    "\n",
    "In the figure above, the orange curve is the mean SNWD signal. Clearly, it is a bowl-shape curve and has value zero in the middle. This makes sense because the temprature goes up to 32C during the middle of the year, and thus there should be no snow. To conclude, we use SNWD as the feature for further analysis."
   ]
  },
  {
   "cell_type": "markdown",
   "metadata": {
    "deletable": true,
    "editable": true,
    "run_control": {
     "frozen": false,
     "read_only": false
    }
   },
   "source": [
    "## PCA Analysis for SNWD Signal\n",
    "\n",
    "### How Many Eigen-Vectors Should We Select?\n",
    "The length of our data vector is 365, as a result, there are 365 eigen-vectors. It is not practical to select all of them. Since 96% of the varince is explained by the top-10 eigen-vectors, it suffices to choose our eigen-vectors from the top-10 eigen-vectors. \n",
    "\n",
    "**There are in total 10 vecors, let us first plot the last five of them**.\n",
    "\n",
    "![last5.png](last5.png)\n",
    "\n",
    "If we look at the left end and right end of these curves, they have high frequencies and look like random noises. In other words, the underlining structure can not be simply described. \n",
    "\n",
    "**Now let us look at the top five eigen-vectors**.\n",
    "\n",
    "![first5.png](first5.png)\n",
    "\n",
    "In the above plot, the curves have very clear structure. Besides, it turns out that the top five eigen-vectors actually explain 92% of the variance. \n",
    "\n",
    "**Thus, it is reasonable to choose the top five eigen-vectors for our following analysis.**"
   ]
  },
  {
   "cell_type": "markdown",
   "metadata": {
    "deletable": true,
    "editable": true,
    "run_control": {
     "frozen": false,
     "read_only": false
    }
   },
   "source": [
    "### How Should We Interpret These Eigen-Vectors?\n",
    "\n",
    "In order to interpret the eigen-vectors, we plot the mean vector and eigen-vectors seperately as follows.\n",
    "\n",
    "![snwd1.png](snwd1.png)\n",
    "\n",
    "\n",
    "Based on the curve shapes and the effects they have on the SNWD signal, we intepret these eigen-vectors as follows:\n",
    "* **eig1:** less snow in Jan-May and Nov-Dec.\n",
    "* **eig2:** little change in Jan-May, significant effect in adding more snow in Nov-Dec.\n",
    "* **eig3:** more snow in Jan-Feb, less snow in Mar-May.\n",
    "* **eig4:** more snow in Jan & Dec, less snow in Mar.\n",
    "* **eig5:** more snow in Jan-Feb & Apr-May, less snow in Mar & Dec."
   ]
  },
  {
   "cell_type": "markdown",
   "metadata": {
    "deletable": true,
    "editable": true,
    "run_control": {
     "frozen": false,
     "read_only": false
    }
   },
   "source": [
    "### Distributions of the Residuals and the Coefficients\n",
    "\n",
    "#### Distributions of Res1\n",
    "\n",
    "In the analysis above, we work on the average data vectors instead of individual data vectors in the whole data set. Now, let us plot the distribution of **Res1** (i.e., normalised residual variance after subtracting the mean vector and first eigen-vector) for all the SNWD data vectors. Note that the vertical axis is the fraction of samples.\n",
    "\n",
    "![snwd2.png](snwd2.png)\n",
    "\n",
    "From the figure above, we have following observations:\n",
    "\n",
    "* For 30% of the samples, more than 50% variance is explained by the first eigen-vector. \n",
    "* For 70% of the samples, more than 30% variance is explained by the first eigen-vector.\n",
    "\n",
    "#### Distributions of Coeff1\n",
    "Below, we plot the distribution of **Coeff1** (i.e., the first eigen-vector coefficient for PCA vector reconstruction) for all the SNWD data vectors. Note that the vertical axis is the fraction of samples.\n",
    "\n",
    "![snwd3.png](snwd3.png)\n",
    "\n",
    "From the figure above, we have following observations:\n",
    "\n",
    "* Around 40% of the samples have positive coefficients coeff1, whose values are less than 1000. \n",
    "* Around 60% of the samples have negative coeeficients coeff1 and 85% of these coefficients are less than -6000.\n",
    "* The minimum coefficient coeff1 is -12400."
   ]
  },
  {
   "cell_type": "markdown",
   "metadata": {},
   "source": [
    "### Which Factor is More Important, Year or Location?\n",
    "\n",
    "In the previous section, we have seen the effect of location on the distribution of eigen-vector coefficients and residual variance. In this section, we analyse the effect of 'locations' on the mean vectors and compare it with 'years'.  \n",
    "\n",
    "To do this, we compute the RMS (root mean square) before and after subtracting either the year or the station mean vector.\n",
    "\n",
    "We have following results **for coeff1:**  \n",
    "            \n",
    "Total RMS                   =  3056.92085277,                  \n",
    "RMS removing station mean =  1664.6460512,                    \n",
    "RMS removing year mean =  2294.48138564,                   \n",
    "\n",
    "Clearly, the RMS after station mean removal is 30% smaller than the RMS after year mean removal. In other words, the station feature is **more important** than the year feature in the sense that it has more effect on the eigen-vector coefficients and thus on the SNWD signal. \n",
    "\n",
    "This makes sense because the weather pattern in a specific location does not change too much each year but could be quite different in different locations."
   ]
  },
  {
   "cell_type": "markdown",
   "metadata": {},
   "source": [
    "## Cumulative Density Function of Daily SNWD\n",
    "\n",
    "In this section, we extract one of the most important internal features: the CDF (cumulative desity function) of the daily SNWD signal. This feature reflects the distribution of different SNWD values over the whole domain. We plot the CDF of SWND as follows.\n",
    "\n",
    "![cdf.png](cdf.png)\n",
    "\n",
    "From the CDF plot, we have following observations:\n",
    "\n",
    "* In around 80% time of a year, the snow depth is zero. \n",
    "* The median **positive** snow depth value in a year is around 250 mm. "
   ]
  },
  {
   "cell_type": "markdown",
   "metadata": {},
   "source": [
    "## Measuring Depedence of SNWD in Different Locations\n",
    "\n",
    "### Testing Statistical Significance\n",
    "\n",
    "In this section, we use statistical methods to test if the SWND signal in two locations is independent (null hypothesis). We can compute the probability associated with the number of overlaps (SWND>0 in both locations) under the null hypothesis.\n",
    "\n",
    "As an example, we can choose the following two locations (stations): **USC00107046** and **USC00104150**. The number of days that have SNWD measurements are 13188 and 13133 respectively for these two stations. We compute following parameters:\n",
    "\n",
    "* **m** : the total number of days which have measurements for both stations. \n",
    "* **n1** : the number of days with SWND>0 for station 1\n",
    "* **n2** : the number of days with SWND>0 for station 2\n",
    "* **l** : the number of days  with SWND>0 for both stations.\n",
    "\n",
    "The results are: m=8742,l=2908,n1=3344,n2=2952.\n",
    "Under the null hypothesis, the negative log probability that we have such parameter values is LogPval=0.462413.\n",
    "\n",
    "Then we compute all such negative log probability between possible station pairs and plot them in the following graph. (The vertical axis is the number of pairs)\n",
    "\n",
    "![significance.png](significance.png)\n",
    "\n",
    "The majority of the pairs have negative log probability values less than 0.3, which correpsonds to a probability value of 0.7408. This means that for most of the station pairs, the null hypothesis is likely to hold. \n",
    "\n",
    "### Finding Correlated Stations\n",
    "\n",
    "If we plot the negative log probability pairs as a matrix, we can find strongly correlated stations (upper left corner):\n",
    "\n",
    "![station.png](station.png)\n",
    "\n",
    "These strongly correlated stations are : 'USC00457956', 'USC00451586', 'USC00454835', 'USC00100528', 'USC00102845', 'USC00452706', 'USC00102513', 'USC00457180'.\n",
    "\n",
    "To find out deeper correlation structure, we can re-order the matrix according to the SVD coefficients (top four in our case). We have the following plots.\n",
    "\n",
    "![svd.png](svd.png)\n",
    "\n",
    "From the plots above, we can see:\n",
    "\n",
    "* In the first plot, there is a correlated station group at the lower right corner.\n",
    "* In the second plot, there are two correlated station groups: one at the upper left corner, the other at the lower right corner."
   ]
  },
  {
   "cell_type": "markdown",
   "metadata": {},
   "source": [
    "## Conclusion\n",
    "\n",
    "In this report, we performed data analysis on Washington state historical weather data. With the help of PCA, SVD and statistical testing methods, we have identified patterns that are statistically significant, and presented useful observations in various forms."
   ]
  }
 ],
 "metadata": {
  "anaconda-cloud": {},
  "kernelspec": {
   "display_name": "Python 2",
   "language": "python",
   "name": "python2"
  },
  "language_info": {
   "codemirror_mode": {
    "name": "ipython",
    "version": 2
   },
   "file_extension": ".py",
   "mimetype": "text/x-python",
   "name": "python",
   "nbconvert_exporter": "python",
   "pygments_lexer": "ipython2",
   "version": "2.7.13"
  },
  "toc": {
   "colors": {
    "hover_highlight": "#DAA520",
    "running_highlight": "#FF0000",
    "selected_highlight": "#FFD700"
   },
   "moveMenuLeft": true,
   "nav_menu": {
    "height": "12px",
    "width": "252px"
   },
   "navigate_menu": true,
   "number_sections": true,
   "sideBar": true,
   "threshold": 4,
   "toc_cell": false,
   "toc_section_display": "block",
   "toc_window_display": false
  }
 },
 "nbformat": 4,
 "nbformat_minor": 2
}
