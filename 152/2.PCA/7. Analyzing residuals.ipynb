{
 "cells": [
  {
   "cell_type": "code",
   "execution_count": 1,
   "metadata": {
    "collapsed": true,
    "deletable": true,
    "editable": true,
    "run_control": {
     "frozen": false,
     "read_only": false
    }
   },
   "outputs": [],
   "source": [
    "#setup\n",
    "data_dir='../../Data/Weather'\n",
    "file_index='SBSBBSSB'\n",
    "meas='SNWD'"
   ]
  },
  {
   "cell_type": "markdown",
   "metadata": {
    "deletable": true,
    "editable": true,
    "run_control": {
     "frozen": false,
     "read_only": false
    },
    "slideshow": {
     "slide_type": "slide"
    },
    "variables": {
     "meas": "PRCP"
    }
   },
   "source": [
    "# Reconstruction using top eigen-vectors\n",
    "For measurement = {{meas}}"
   ]
  },
  {
   "cell_type": "markdown",
   "metadata": {
    "deletable": true,
    "editable": true,
    "run_control": {
     "frozen": false,
     "read_only": false
    },
    "slideshow": {
     "slide_type": "skip"
    }
   },
   "source": [
    "## Load the required libraries"
   ]
  },
  {
   "cell_type": "code",
   "execution_count": 2,
   "metadata": {
    "collapsed": false,
    "deletable": true,
    "editable": true,
    "run_control": {
     "frozen": false,
     "read_only": false
    },
    "slideshow": {
     "slide_type": "skip"
    }
   },
   "outputs": [],
   "source": [
    "# Enable automiatic reload of libraries\n",
    "#%load_ext autoreload\n",
    "#%autoreload 2 # means that all modules are reloaded before every command"
   ]
  },
  {
   "cell_type": "code",
   "execution_count": 3,
   "metadata": {
    "collapsed": false,
    "deletable": true,
    "editable": true,
    "run_control": {
     "frozen": false,
     "read_only": false
    },
    "slideshow": {
     "slide_type": "skip"
    }
   },
   "outputs": [
    {
     "name": "stdout",
     "output_type": "stream",
     "text": [
      "Populating the interactive namespace from numpy and matplotlib\n",
      "    pandas as    pd \tversion=0.19.2 \trequired version>=0.19.2\n",
      "     numpy as    np \tversion=1.11.3 \trequired version>=1.12.0 ******* Update Version ******\n",
      "   sklearn as    sk \tversion=0.18.1 \trequired version>=0.18.1\n",
      "    urllib as urllib \tversion=1.17 \trequired version>=1.17\n",
      "   pyspark as pyspark \tversion=2.1.0+hadoop2.7 \trequired version>=2.1.0\n",
      "ipywidgets as ipywidgets \tversion=6.0.0 \trequired version>=6.0.0\n"
     ]
    }
   ],
   "source": [
    "%pylab inline\n",
    "import numpy as np\n",
    "\n",
    "import findspark\n",
    "findspark.init()\n",
    "\n",
    "import sys\n",
    "sys.path.append('./lib')\n",
    "\n",
    "from numpy_pack import packArray,unpackArray\n",
    "\n",
    "from Eigen_decomp import Eigen_decomp\n",
    "from YearPlotter import YearPlotter\n",
    "from recon_plot import recon_plot\n",
    "\n",
    "from import_modules import import_modules,modules\n",
    "import_modules(modules)\n",
    "\n",
    "from ipywidgets import interactive,widgets"
   ]
  },
  {
   "cell_type": "code",
   "execution_count": 4,
   "metadata": {
    "collapsed": false,
    "deletable": true,
    "editable": true,
    "run_control": {
     "frozen": false,
     "read_only": false
    },
    "slideshow": {
     "slide_type": "skip"
    }
   },
   "outputs": [],
   "source": [
    "from pyspark import SparkContext\n",
    "#sc.stop()\n",
    "\n",
    "sc = SparkContext(master=\"local[3]\",pyFiles=['lib/numpy_pack.py','lib/spark_PCA.py','lib/computeStats.py','lib/recon_plot.py','lib/Eigen_decomp.py'])\n",
    "\n",
    "from pyspark import SparkContext\n",
    "from pyspark.sql import *\n",
    "sqlContext = SQLContext(sc)"
   ]
  },
  {
   "cell_type": "markdown",
   "metadata": {
    "deletable": true,
    "editable": true,
    "run_control": {
     "frozen": false,
     "read_only": false
    },
    "slideshow": {
     "slide_type": "slide"
    }
   },
   "source": [
    "## Read Statistics File"
   ]
  },
  {
   "cell_type": "code",
   "execution_count": 5,
   "metadata": {
    "collapsed": false,
    "deletable": true,
    "editable": true,
    "run_control": {
     "frozen": false,
     "read_only": false
    },
    "slideshow": {
     "slide_type": "subslide"
    }
   },
   "outputs": [
    {
     "name": "stdout",
     "output_type": "stream",
     "text": [
      "keys from STAT= ['TMIN', 'TOBS', 'TMAX', 'SNOW', 'SNWD', 'PRCP']\n"
     ]
    }
   ],
   "source": [
    "from pickle import load\n",
    "\n",
    "#read statistics\n",
    "filename=data_dir+'/STAT_%s.pickle'%file_index\n",
    "STAT,STAT_Descriptions = load(open(filename,'rb'))\n",
    "measurements=STAT.keys()\n",
    "print 'keys from STAT=',measurements"
   ]
  },
  {
   "cell_type": "markdown",
   "metadata": {
    "deletable": true,
    "editable": true,
    "run_control": {
     "frozen": false,
     "read_only": false
    },
    "slideshow": {
     "slide_type": "slide"
    }
   },
   "source": [
    "## Read data file into a spark DataFrame\n",
    "We focus on the snow-depth records, because the eigen-vectors for them make sense."
   ]
  },
  {
   "cell_type": "code",
   "execution_count": 6,
   "metadata": {
    "collapsed": false,
    "deletable": true,
    "editable": true,
    "run_control": {
     "frozen": false,
     "read_only": false
    },
    "scrolled": true,
    "slideshow": {
     "slide_type": "subslide"
    }
   },
   "outputs": [
    {
     "name": "stdout",
     "output_type": "stream",
     "text": [
      "+------------------+-------------------+-------------------+------------------+-------------------+---------+--------+--------+---------+-----------+-------------------+--------------------+--------------------+--------------------+--------------------+------------------+-----------+------------+------+--------------------+------+\n",
      "|           coeff_1|            coeff_2|            coeff_3|           coeff_4|            coeff_5|elevation|   label|latitude|longitude|measurement|              res_1|               res_2|               res_3|               res_4|               res_5|          res_mean|    station|   total_var|undefs|              vector|  year|\n",
      "+------------------+-------------------+-------------------+------------------+-------------------+---------+--------+--------+---------+-----------+-------------------+--------------------+--------------------+--------------------+--------------------+------------------+-----------+------------+------+--------------------+------+\n",
      "|-9550.204522426688|-333.13090779716845| -2828.787934954674| -884.978740744275|  65.13164526643999|    889.4|SBSBBSSB| 46.7744|-116.1761|       SNWD|0.10845725254404152| 0.10737246002040488|0.029152496536160734|0.021496838908285625|0.021455372069857984|0.8727184053998245|USC00102892|1.17221976E8|     0|[90 5D 28 5D C4 5...|1964.0|\n",
      "|-9018.948332125961|-1123.3171094854101|  86.59250231665553|-204.1205859024936| -921.7425056286327|    975.4|SBSBBSSB| 46.6311|-115.8086|       SNWD|0.04488699033869892|0.030246088304911774| 0.03015687290487956|0.029682432962784066|0.019606205159914496|0.8530710672981975|USC00104150| 9.9856002E7|     5|[F6 64 29 65 29 6...|1969.0|\n",
      "| -8609.61633174579|-115.60255798537695|-2922.1198870279886|-980.2623196920455|    610.01288115367|    975.4|SBSBBSSB| 46.6311|-115.8086|       SNWD|0.13033041108068474| 0.13024718527373366| 0.03052561906391872|0.019457699355471356| 0.01516015861448784|0.8634626229535722|USC00104150| 9.8792642E7|     2|[C4 5C 58 5A 58 5...|1964.0|\n",
      "| -5620.24047042894| 1311.1542626732614|  552.1552479230481|120.83864948006243| -628.5546973058975|    975.4|SBSBBSSB| 46.6311|-115.8086|       SNWD|0.09542649204137736| 0.04619515267740125|  0.0374643036769692|0.037046140492511266|0.025732035064605478|0.7770188397863677|USC00104150| 4.4940136E7|     0|[28 5D F0 5F F0 5...|2000.0|\n",
      "|-5300.000990062066| -705.5252820996625|  630.5424395507132| 506.0539805104102|-472.95235725290047|    938.8|SBSBBSSB| 46.4922|-115.8006|       SNWD| 0.0674959663155166| 0.05097163173927184|0.037773044023275686|0.029271603747228415|0.021845968604957963|0.7679336992990982|USC00107046|  3.922631E7|     0|[2A 60 C4 60 26 6...|1986.0|\n",
      "+------------------+-------------------+-------------------+------------------+-------------------+---------+--------+--------+---------+-----------+-------------------+--------------------+--------------------+--------------------+--------------------+------------------+-----------+------------+------+--------------------+------+\n",
      "only showing top 5 rows\n",
      "\n"
     ]
    }
   ],
   "source": [
    "#read data\n",
    "filename=data_dir+'/decon_%s_%s.parquet'%(file_index,meas)\n",
    "df_in=sqlContext.read.parquet(filename)\n",
    "#filter in \n",
    "df=df_in.filter(df_in.measurement==meas)\n",
    "df.show(5)"
   ]
  },
  {
   "cell_type": "markdown",
   "metadata": {
    "deletable": true,
    "editable": true,
    "run_control": {
     "frozen": false,
     "read_only": false
    },
    "slideshow": {
     "slide_type": "slide"
    }
   },
   "source": [
    "### Plot Mean and Eigenvecs"
   ]
  },
  {
   "cell_type": "code",
   "execution_count": 7,
   "metadata": {
    "collapsed": false,
    "deletable": true,
    "editable": true,
    "run_control": {
     "frozen": false,
     "read_only": false
    },
    "scrolled": false,
    "slideshow": {
     "slide_type": "subslide"
    }
   },
   "outputs": [
    {
     "data": {
      "image/png": "iVBORw0KGgoAAAANSUhEUgAAAl8AAAFcCAYAAAD2w9suAAAABHNCSVQICAgIfAhkiAAAAAlwSFlz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\nftvfIYg0HiW