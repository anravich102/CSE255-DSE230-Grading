{
 "cells": [
  {
   "cell_type": "markdown",
   "metadata": {
    "run_control": {
     "frozen": false,
     "read_only": false
    }
   },
   "source": [
    "### Visualizing the distribution of the observations\n",
    "\n",
    "### Load the required libraries"
   ]
  },
  {
   "cell_type": "code",
   "execution_count": 1,
   "metadata": {
    "run_control": {
     "frozen": false,
     "read_only": false
    },
    "slideshow": {
     "slide_type": "slide"
    }
   },
   "outputs": [
    {
     "name": "stdout",
     "output_type": "stream",
     "text": [
      "Populating the interactive namespace from numpy and matplotlib\n",
      "keys from STAT= ['TMIN', 'TOBS', 'TMAX', 'SNOW', 'SNWD', 'PRCP']\n",
      "12452\n",
      "+---------+--------+---------+-----------+-----------+------+--------------------+------+--------+\n",
      "|elevation|latitude|longitude|measurement|    station|undefs|              vector|  year|   label|\n",
      "+---------+--------+---------+-----------+-----------+------+--------------------+------+--------+\n",
      "|    442.0| 37.9442|-122.1178|       TMAX|USR0000CBRI|     1|[00 53 40 52 A0 5...|1995.0|SSSBSSSB|\n",
      "|    442.0| 37.9442|-122.1178|       TMAX|USR0000CBRI|     1|[08 59 08 59 B0 5...|1996.0|SSSBSSSB|\n",
      "|    442.0| 37.9442|-122.1178|       TMAX|USR0000CBRI|     0|[E0 58 B0 58 28 5...|1997.0|SSSBSSSB|\n",
      "|    442.0| 37.9442|-122.1178|       TMAX|USR0000CBRI|     0|[50 57 F0 56 A0 5...|1998.0|SSSBSSSB|\n",
      "|    442.0| 37.9442|-122.1178|       TMAX|USR0000CBRI|     0|[28 58 80 58 50 5...|1999.0|SSSBSSSB|\n",
      "+---------+--------+---------+-----------+-----------+------+--------------------+------+--------+\n",
      "only showing top 5 rows\n",
      "\n"
     ]
    }
   ],
   "source": [
    "import pandas as pd\n",
    "import numpy as np\n",
    "import sklearn as sk\n",
    "import urllib\n",
    "import math\n",
    "%pylab inline\n",
    "\n",
    "import findspark\n",
    "findspark.init()\n",
    "\n",
    "from pyspark import SparkContext\n",
    "#sc.stop()\n",
    "sc = SparkContext(master=\"local[3]\",pyFiles=['lib/numpy_pack.py','lib/spark_PCA.py','lib/computeStats.py'])\n",
    "\n",
    "from pyspark import SparkContext\n",
    "from pyspark.sql import *\n",
    "sqlContext = SQLContext(sc)\n",
    "\n",
    "import sys\n",
    "sys.path.append('./lib')\n",
    "\n",
    "import numpy as np\n",
    "from numpy_pack import packArray,unpackArray\n",
    "from spark_PCA import computeCov\n",
    "from computeStats import computeOverAllDist, STAT_Descriptions\n",
    "\n",
    "### Read the data frame from pickle file\n",
    "\n",
    "data_dir='../../Data/Weather'\n",
    "file_index='SSSBSSSB'\n",
    "\n",
    "from pickle import load\n",
    "\n",
    "#read statistics\n",
    "filename=data_dir+'/STAT_%s.pickle'%file_index\n",
    "STAT,STAT_Descriptions = load(open(filename,'rb'))\n",
    "print 'keys from STAT=',STAT.keys()\n",
    "\n",
    "#read data\n",
    "filename=data_dir+'/US_Weather_%s.parquet'%file_index\n",
    "\n",
    "df=sqlContext.read.parquet(filename)\n",
    "print df.count()\n",
    "df.show(5)"
   ]
  },
  {
   "cell_type": "markdown",
   "metadata": {
    "run_control": {
     "frozen": false,
     "read_only": false
    },
    "slideshow": {
     "slide_type": "slide"
    }
   },
   "source": [
    "### Select data for a particular station and measurement type"
   ]
  },
  {
   "cell_type": "markdown",
   "metadata": {
    "slideshow": {
     "slide_type": "slide"
    }
   },
   "source": [
    "Here I select all the stations in this area and show them."
   ]
  },
  {
   "cell_type": "code",
   "execution_count": 2,
   "metadata": {},
   "outputs": [
    {
     "name": "stdout",
     "output_type": "stream",
     "text": [
      "134 rows\n",
      "+-----------+\n",
      "|    station|\n",
      "+-----------+\n",
      "|USC00045032|\n",
      "|USC00043735|\n",
      "|USR0000CBAR|\n",
      "|USC00046599|\n",
      "|USC00045371|\n",
      "+-----------+\n",
      "only showing top 5 rows\n",
      "\n"
     ]
    }
   ],
   "source": [
    "sqlContext.registerDataFrameAsTable(df,'weather')\n",
    "Query=\"SELECT DISTINCT station FROM weather \"\n",
    "df1 = sqlContext.sql(Query)\n",
    "print df1.count(),'rows'\n",
    "df1.show(5)"
   ]
  },
  {
   "cell_type": "code",
   "execution_count": 3,
   "metadata": {
    "run_control": {
     "frozen": false,
     "read_only": false
    },
    "slideshow": {
     "slide_type": "subslide"
    }
   },
   "outputs": [
    {
     "name": "stdout",
     "output_type": "stream",
     "text": [
      "SELECT * FROM weather\n",
      "\tWHERE measurement='PRCP' and station='USC00045032'\n",
      "95 rows\n",
      "+---------+--------+---------+-----------+-----------+------+--------------------+------+--------+\n",
      "|elevation|latitude|longitude|measurement|    station|undefs|              vector|  year|   label|\n",
      "+---------+--------+---------+-----------+-----------+------+--------------------+------+--------+\n",
      "|     12.2| 38.1061|-121.2878|       PRCP|USC00045032|     0|[00 00 00 00 00 0...|1893.0|SSSBSSSB|\n",
      "|     12.2| 38.1061|-121.2878|       PRCP|USC00045032|    30|[00 00 00 00 00 0...|1896.0|SSSBSSSB|\n",
      "+---------+--------+---------+-----------+-----------+------+--------------------+------+--------+\n",
      "only showing top 2 rows\n",
      "\n"
     ]
    },
    {
     "data": {
      "text/plain": [
       "(95, 365)"
      ]
     },
     "execution_count": 3,
     "metadata": {},
     "output_type": "execute_result"
    }
   ],
   "source": [
    "sqlContext.registerDataFrameAsTable(df,'weather')\n",
    "Query=\"SELECT * FROM weather\\n\\tWHERE measurement='%s' and station='%s'\"%('PRCP','USC00045032')\n",
    "print Query\n",
    "df1 = sqlContext.sql(Query)\n",
    "print df1.count(),'rows'\n",
    "df1.show(2)\n",
    "rows=df1.rdd.map(lambda row:unpackArray(row['vector'],np.float16)).collect()\n",
    "T=np.vstack(rows)\n",
    "T=T/10.  # scaling to make the temperature be in centingrates\n",
    "shape(T)"
   ]
  },
  {
   "cell_type": "markdown",
   "metadata": {},
   "source": [
    "The following analysis is all from station 'USC00045032'"
   ]
  },
  {
   "cell_type": "markdown",
   "metadata": {
    "run_control": {
     "frozen": false,
     "read_only": false
    },
    "slideshow": {
     "slide_type": "slide"
    }
   },
   "source": [
    "### Script for plotting yearly plots"
   ]
  },
  {
   "cell_type": "code",
   "execution_count": 4,
   "metadata": {
    "run_control": {
     "frozen": false,
     "read_only": false
    },
    "scrolled": false,
    "slideshow": {
     "slide_type": "subslide"
    }
   },
   "outputs": [
    {
     "data": {
      "image/png": "iVBORw0KGgoAAAANSUhEUgAAAlMAAAGNCAYAAAA1nfQqAAAABHNCSVQICAgIfAhkiAAAAAlwSFlz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\nMNuA7nn990wtPgu89Hf9H1NS