{
 "cells": [
  {
   "cell_type": "code",
   "execution_count": 1,
   "metadata": {
    "collapsed": true,
    "run_control": {
     "frozen": false,
     "read_only": false
    }
   },
   "outputs": [],
   "source": [
    "#setup\n",
    "data_dir='../../Data/Weather'\n",
    "file_index='SSSBSSSB'\n",
    "m='PRCP'"
   ]
  },
  {
   "cell_type": "markdown",
   "metadata": {
    "run_control": {
     "frozen": false,
     "read_only": false
    },
    "slideshow": {
     "slide_type": "slide"
    },
    "variables": {
     "m": "PRCP"
    }
   },
   "source": [
    "# Reconstruction using top eigen-vectors\n",
    "For measurement = {{m}}"
   ]
  },
  {
   "cell_type": "markdown",
   "metadata": {
    "run_control": {
     "frozen": false,
     "read_only": false
    },
    "slideshow": {
     "slide_type": "skip"
    }
   },
   "source": [
    "## Load the required libraries"
   ]
  },
  {
   "cell_type": "code",
   "execution_count": 2,
   "metadata": {
    "run_control": {
     "frozen": false,
     "read_only": false
    },
    "slideshow": {
     "slide_type": "skip"
    }
   },
   "outputs": [],
   "source": [
    "# Enable automiatic reload of libraries\n",
    "#%load_ext autoreload\n",
    "#%autoreload 2 # means that all modules are reloaded before every command"
   ]
  },
  {
   "cell_type": "code",
   "execution_count": 3,
   "metadata": {
    "run_control": {
     "frozen": false,
     "read_only": false
    },
    "slideshow": {
     "slide_type": "skip"
    }
   },
   "outputs": [
    {
     "name": "stdout",
     "output_type": "stream",
     "text": [
      "Populating the interactive namespace from numpy and matplotlib\n",
      "    pandas as    pd \tversion=0.19.2 \trequired version>=0.19.2\n",
      "     numpy as    np \tversion=1.11.3 \trequired version>=1.12.0 ******* Update Version ******\n",
      "   sklearn as    sk \tversion=0.18.1 \trequired version>=0.18.1\n",
      "    urllib as urllib \tversion=1.17 \trequired version>=1.17\n",
      "   pyspark as pyspark \tversion=2.1.0+hadoop2.7 \trequired version>=2.1.0\n",
      "ipywidgets as ipywidgets \tversion=6.0.0 \trequired version>=6.0.0\n"
     ]
    }
   ],
   "source": [
    "%pylab inline\n",
    "import numpy as np\n",
    "\n",
    "import findspark\n",
    "findspark.init()\n",
    "\n",
    "import sys\n",
    "sys.path.append('./lib')\n",
    "\n",
    "from numpy_pack import packArray,unpackArray\n",
    "\n",
    "from Eigen_decomp import Eigen_decomp\n",
    "from YearPlotter import YearPlotter\n",
    "from recon_plot import recon_plot\n",
    "\n",
    "from import_modules import import_modules,modules\n",
    "import_modules(modules)\n",
    "\n",
    "from ipywidgets import interactive,widgets"
   ]
  },
  {
   "cell_type": "code",
   "execution_count": 4,
   "metadata": {
    "run_control": {
     "frozen": false,
     "read_only": false
    },
    "slideshow": {
     "slide_type": "skip"
    }
   },
   "outputs": [],
   "source": [
    "from pyspark import SparkContext\n",
    "#sc.stop()\n",
    "\n",
    "sc = SparkContext(master=\"local[3]\",pyFiles=['lib/numpy_pack.py','lib/spark_PCA.py','lib/computeStats.py','lib/recon_plot.py','lib/Eigen_decomp.py'])\n",
    "\n",
    "from pyspark import SparkContext\n",
    "from pyspark.sql import *\n",
    "sqlContext = SQLContext(sc)\n",
    "\n",
    "\n",
    "\n"
   ]
  },
  {
   "cell_type": "markdown",
   "metadata": {
    "run_control": {
     "frozen": false,
     "read_only": false
    },
    "slideshow": {
     "slide_type": "slide"
    }
   },
   "source": [
    "## Read Statistics File"
   ]
  },
  {
   "cell_type": "code",
   "execution_count": 5,
   "metadata": {
    "collapsed": true,
    "run_control": {
     "frozen": false,
     "read_only": false
    },
    "slideshow": {
     "slide_type": "fragment"
    }
   },
   "outputs": [],
   "source": [
    "data_dir='../../Data/Weather'\n",
    "file_index='SSSBSSSB'"
   ]
  },
  {
   "cell_type": "code",
   "execution_count": 6,
   "metadata": {
    "run_control": {
     "frozen": false,
     "read_only": false
    },
    "slideshow": {
     "slide_type": "subslide"
    }
   },
   "outputs": [
    {
     "name": "stdout",
     "output_type": "stream",
     "text": [
      "keys from STAT= ['TMIN', 'TOBS', 'TMAX', 'SNOW', 'SNWD', 'PRCP']\n"
     ]
    }
   ],
   "source": [
    "from pickle import load\n",
    "\n",
    "#read statistics\n",
    "filename=data_dir+'/STAT_%s.pickle'%file_index\n",
    "STAT,STAT_Descriptions = load(open(filename,'rb'))\n",
    "measurements=STAT.keys()\n",
    "print 'keys from STAT=',measurements"
   ]
  },
  {
   "cell_type": "markdown",
   "metadata": {
    "run_control": {
     "frozen": false,
     "read_only": false
    },
    "slideshow": {
     "slide_type": "slide"
    }
   },
   "source": [
    "## Read data file into a spark DataFrame\n",
    "We focus on the snow-depth records, because the eigen-vectors for them make sense."
   ]
  },
  {
   "cell_type": "code",
   "execution_count": 7,
   "metadata": {
    "run_control": {
     "frozen": false,
     "read_only": false
    },
    "scrolled": true,
    "slideshow": {
     "slide_type": "subslide"
    }
   },
   "outputs": [
    {
     "name": "stdout",
     "output_type": "stream",
     "text": [
      "+---------+--------+---------+-----------+-----------+------+--------------------+------+--------+\n",
      "|elevation|latitude|longitude|measurement|    station|undefs|              vector|  year|   label|\n",
      "+---------+--------+---------+-----------+-----------+------+--------------------+------+--------+\n",
      "|     36.6| 37.9983|-122.5372|       PRCP|USC00047880|     4|[00 00 00 00 00 0...|1904.0|SSSBSSSB|\n",
      "|     36.6| 37.9983|-122.5372|       PRCP|USC00047880|     0|[80 5A D8 5C 00 4...|1948.0|SSSBSSSB|\n",
      "|     36.6| 37.9983|-122.5372|       PRCP|USC00047880|    12|[20 50 00 45 00 0...|1949.0|SSSBSSSB|\n",
      "|     36.6| 37.9983|-122.5372|       PRCP|USC00047880|    11|[00 00 80 4A 00 0...|1950.0|SSSBSSSB|\n",
      "|     36.6| 37.9983|-122.5372|       PRCP|USC00047880|    11|[00 00 00 00 60 5...|1951.0|SSSBSSSB|\n",
      "+---------+--------+---------+-----------+-----------+------+--------------------+------+--------+\n",
      "only showing top 5 rows\n",
      "\n"
     ]
    }
   ],
   "source": [
    "#read data\n",
    "filename=data_dir+'/US_Weather_%s.parquet'%file_index\n",
    "df_in=sqlContext.read.parquet(filename)\n",
    "#filter in \n",
    "df=df_in.filter(df_in.measurement==m)\n",
    "df.show(5)"
   ]
  },
  {
   "cell_type": "markdown",
   "metadata": {
    "run_control": {
     "frozen": false,
     "read_only": false
    },
    "slideshow": {
     "slide_type": "subslide"
    }
   },
   "source": [
    "### Create a matrix with all of the series"
   ]
  },
  {
   "cell_type": "code",
   "execution_count": 8,
   "metadata": {
    "run_control": {
     "frozen": false,
     "read_only": false
    }
   },
   "outputs": [
    {
     "data": {
      "text/plain": [
       "(2739, 365)"
      ]
     },
     "execution_count": 8,
     "metadata": {},
     "output_type": "execute_result"
    }
   ],
   "source": [
    "rows=df.rdd.map(lambda row:unpackArray(row['vector'],np.float16)).collect()\n",
    "\n",
    "T=np.vstack(rows)\n",
    "shape(T)"
   ]
  },
  {
   "cell_type": "markdown",
   "metadata": {
    "run_control": {
     "frozen": false,
     "read_only": false
    },
    "slideshow": {
     "slide_type": "subslide"
    }
   },
   "source": [
    "### Plot two time series\n",
    "`SNWD` stands for `snow-depth`, which explains why it is zero during the summer"
   ]
  },
  {
   "cell_type": "code",
   "execution_count": 9,
   "metadata": {
    "run_control": {
     "frozen": false,
     "read_only": false
    },
    "slideshow": {
     "slide_type": "fragment"
    }
   },
   "outputs": [
    {
     "data": {
      "image/png": "iVBORw0KGgoAAAANSUhEUgAAAXoAAAD6CAYAAACvZ4z8AAAABHNCSVQICAgIfAhkiAAAAAlwSFlz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\ngg==\n",
      "text/plain": [
       "<matplotlib.figure.Figure at 0x7faacd5743d0>"
      ]
     },
     "metadata": {},
     "output_type": "display_data"
    }
   ],
   "source": [
    "fig, ax = plt.subplots(figsize=(6,4));\n",
    "YP=YearPlotter()\n",
    "YP.plot(T[16:18].transpose(),fig,ax,title=m)"
   ]
  },
  {
   "cell_type": "markdown",
   "metadata": {
    "run_control": {
     "frozen": false,
     "read_only": false
    },
    "slideshow": {
     "slide_type": "slide"
    }
   },
   "source": [
    "### Plot Reconstructions\n",
    "\n",
    "Construct approximations of a time series using the mean and the $k$ top eigen-vectors\n",
    "First, we plot the mean and the top $k$ eigenvectors"
   ]
  },
  {
   "cell_type": "code",
   "execution_count": 19,
   "metadata": {
    "run_control": {
     "frozen": false,
     "read_only": false
    },
    "scrolled": false,
    "slideshow": {
     "slide_type": "subslide"
    }
   },
   "outputs": [
    {
     "data": {
      "image/png": "iVBORw0KGgoAAAANSUhEUgAAAl8AAAFcCAYAAAD2w9suAAAABHNCSVQICAgIfAhkiAAAAAlwSFlz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