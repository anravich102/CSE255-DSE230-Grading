{
 "cells": [
  {
   "cell_type": "code",
   "execution_count": 1,
   "metadata": {
    "collapsed": true,
    "run_control": {
     "frozen": false,
     "read_only": false
    },
    "slideshow": {
     "slide_type": "skip"
    }
   },
   "outputs": [],
   "source": [
    "#setup\n",
    "data_dir='../../Data/Weather'\n",
    "file_index='SSSBSSSB'\n",
    "m='SNWD'"
   ]
  },
  {
   "cell_type": "markdown",
   "metadata": {
    "run_control": {
     "frozen": false,
     "read_only": false
    },
    "slideshow": {
     "slide_type": "slide"
    },
    "variables": {
     "m": "SNWD"
    }
   },
   "source": [
    "## Reconstruction using top eigen-vectors\n",
    "For measurement = {{m}}"
   ]
  },
  {
   "cell_type": "markdown",
   "metadata": {
    "run_control": {
     "frozen": false,
     "read_only": false
    },
    "slideshow": {
     "slide_type": "skip"
    }
   },
   "source": [
    "## Load the required libraries"
   ]
  },
  {
   "cell_type": "code",
   "execution_count": 2,
   "metadata": {
    "run_control": {
     "frozen": false,
     "read_only": false
    },
    "slideshow": {
     "slide_type": "skip"
    }
   },
   "outputs": [],
   "source": [
    "# Enable automiatic reload of libraries\n",
    "#%load_ext autoreload\n",
    "#%autoreload 2 # means that all modules are reloaded before every command"
   ]
  },
  {
   "cell_type": "code",
   "execution_count": 3,
   "metadata": {
    "run_control": {
     "frozen": false,
     "read_only": false
    },
    "slideshow": {
     "slide_type": "skip"
    }
   },
   "outputs": [
    {
     "name": "stdout",
     "output_type": "stream",
     "text": [
      "Populating the interactive namespace from numpy and matplotlib\n",
      "    pandas as    pd \tversion=0.19.2 \trequired version>=0.19.2\n",
      "     numpy as    np \tversion=1.11.3 \trequired version>=1.12.0 ******* Update Version ******\n",
      "   sklearn as    sk \tversion=0.18.1 \trequired version>=0.18.1\n",
      "    urllib as urllib \tversion=1.17 \trequired version>=1.17\n",
      "   pyspark as pyspark \tversion=2.1.0+hadoop2.7 \trequired version>=2.1.0\n",
      "ipywidgets as ipywidgets \tversion=6.0.0 \trequired version>=6.0.0\n"
     ]
    }
   ],
   "source": [
    "#%matplotlib inline\n",
    "%pylab inline\n",
    "import numpy as np\n",
    "\n",
    "import findspark\n",
    "findspark.init()\n",
    "\n",
    "import sys\n",
    "sys.path.append('./lib')\n",
    "\n",
    "from numpy_pack import packArray,unpackArray\n",
    "\n",
    "from Eigen_decomp import Eigen_decomp\n",
    "from YearPlotter import YearPlotter\n",
    "from recon_plot import recon_plot\n",
    "\n",
    "from import_modules import import_modules,modules\n",
    "import_modules(modules)\n",
    "\n",
    "from ipywidgets import interactive,widgets"
   ]
  },
  {
   "cell_type": "code",
   "execution_count": 4,
   "metadata": {
    "run_control": {
     "frozen": false,
     "read_only": false
    },
    "slideshow": {
     "slide_type": "skip"
    }
   },
   "outputs": [],
   "source": [
    "from pyspark import SparkContext\n",
    "#sc.stop()\n",
    "\n",
    "sc = SparkContext(master=\"local[3]\",pyFiles=['lib/numpy_pack.py','lib/spark_PCA.py','lib/computeStats.py','lib/recon_plot.py','lib/Eigen_decomp.py'])\n",
    "\n",
    "from pyspark import SparkContext\n",
    "from pyspark.sql import *\n",
    "sqlContext = SQLContext(sc)\n",
    "\n",
    "\n",
    "\n"
   ]
  },
  {
   "cell_type": "markdown",
   "metadata": {
    "run_control": {
     "frozen": false,
     "read_only": false
    },
    "slideshow": {
     "slide_type": "slide"
    }
   },
   "source": [
    "## Read Statistics File"
   ]
  },
  {
   "cell_type": "code",
   "execution_count": 5,
   "metadata": {
    "run_control": {
     "frozen": false,
     "read_only": false
    },
    "slideshow": {
     "slide_type": "subslide"
    }
   },
   "outputs": [
    {
     "name": "stdout",
     "output_type": "stream",
     "text": [
      "keys from STAT= ['TMIN', 'TOBS', 'TMAX', 'SNOW', 'SNWD', 'PRCP']\n"
     ]
    }
   ],
   "source": [
    "from pickle import load\n",
    "\n",
    "#read statistics\n",
    "filename=data_dir+'/STAT_%s.pickle'%file_index\n",
    "STAT,STAT_Descriptions = load(open(filename,'rb'))\n",
    "measurements=STAT.keys()\n",
    "print 'keys from STAT=',measurements"
   ]
  },
  {
   "cell_type": "markdown",
   "metadata": {
    "run_control": {
     "frozen": false,
     "read_only": false
    },
    "slideshow": {
     "slide_type": "slide"
    }
   },
   "source": [
    "## Read data file into a spark DataFrame\n",
    "We focus on the snow-depth records, because the eigen-vectors for them make sense."
   ]
  },
  {
   "cell_type": "code",
   "execution_count": 6,
   "metadata": {
    "run_control": {
     "frozen": false,
     "read_only": false
    },
    "scrolled": true,
    "slideshow": {
     "slide_type": "subslide"
    }
   },
   "outputs": [
    {
     "name": "stdout",
     "output_type": "stream",
     "text": [
      "+---------+--------+---------+-----------+-----------+------+--------------------+------+--------+\n",
      "|elevation|latitude|longitude|measurement|    station|undefs|              vector|  year|   label|\n",
      "+---------+--------+---------+-----------+-----------+------+--------------------+------+--------+\n",
      "|     36.6| 37.9983|-122.5372|       SNWD|USC00047880|     0|[00 00 00 00 00 0...|1904.0|SSSBSSSB|\n",
      "|     36.6| 37.9983|-122.5372|       SNWD|USC00047880|    10|[00 00 00 00 00 0...|1949.0|SSSBSSSB|\n",
      "|     36.6| 37.9983|-122.5372|       SNWD|USC00047880|     8|[00 00 00 00 00 0...|1950.0|SSSBSSSB|\n",
      "|     36.6| 37.9983|-122.5372|       SNWD|USC00047880|    10|[00 00 00 00 00 0...|1951.0|SSSBSSSB|\n",
      "|     36.6| 37.9983|-122.5372|       SNWD|USC00047880|     6|[00 00 00 00 00 0...|1952.0|SSSBSSSB|\n",
      "+---------+--------+---------+-----------+-----------+------+--------------------+------+--------+\n",
      "only showing top 5 rows\n",
      "\n"
     ]
    }
   ],
   "source": [
    "#read data\n",
    "filename=data_dir+'/US_Weather_%s.parquet'%file_index\n",
    "df_in=sqlContext.read.parquet(filename)\n",
    "#filter in \n",
    "df=df_in.filter(df_in.measurement==m)\n",
    "df.show(5)"
   ]
  },
  {
   "cell_type": "markdown",
   "metadata": {
    "run_control": {
     "frozen": false,
     "read_only": false
    },
    "slideshow": {
     "slide_type": "slide"
    }
   },
   "source": [
    "### Plot Reconstructions\n",
    "\n",
    "Construct approximations of a time series using the mean and the $k$ top eigen-vectors\n",
    "First, we plot the mean and the top $k$ eigenvectors"
   ]
  },
  {
   "cell_type": "code",
   "execution_count": 8,
   "metadata": {
    "run_control": {
     "frozen": false,
     "read_only": false
    },
    "scrolled": false,
    "slideshow": {
     "slide_type": "subslide"
    }
   },
   "outputs": [
    {
     "data": {
      "image/png": "iVBORw0KGgoAAAANSUhEUgAAAl8AAAFcCAYAAAD2w9suAAAABHNCSVQICAgIfAhkiAAAAAlwSFlz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\nCSn5EhERESkhJV8iIiIiJfT/O8cBH8IhCPYAAAAASUVORK5CYII=\n",
      "text/plain": [
       "<matplotlib.figure.Figure at 0x7f80cd925250>"
      ]
     },
     "metadata": {},
     "output_type": "display_data"
    }
   ],
   "source": [
    "import pylab as plt\n",
    "fig,axes=plt.subplots(2,1, sharex='col', sharey='row',figsize=(10,6));\n",
    "k=5\n",
    "EigVec=np.matrix(STAT[m]['eigvec'][:,:k])\n",
    "Mean=STAT[m]['Mean']\n",
    "YearPlotter().plot(Mean,fig,axes[0],label='Mean',title=m+' Mean')\n",
    "YearPlotter().plot(EigVec,fig,axes[1],title=m+' Eigs',labels=['eig'+str(i+1) for i in range(k)])"
   ]
  },
  {
   "cell_type": "code",
   "execution_count": 9,
   "metadata": {
    "collapsed": true,
    "run_control": {
     "frozen": false,
     "read_only": false
    }
   },
   "outputs": [],
   "source": [
    "v=[np.array(EigVec[:,i]).flatten() for i in range(np.shape(EigVec)[1])]"
   ]
  },
  {
   "cell_type": "markdown",
   "metadata": {
    "run_control": {
     "frozen": false,
     "read_only": false
    },
    "slideshow": {
     "slide_type": "subslide"
    }
   },
   "source": [
    "### plot the percent of residual variance on average"
   ]
  },
  {
   "cell_type": "code",
   "execution_count": 10,
   "metadata": {
    "run_control": {
     "frozen": false,
     "read_only": false
    },
    "scrolled": false
   },
   "outputs": [
    {
     "data": {
      "image/png": "iVBORw0KGgoAAAANSUhEUgAAAYIAAAEWCAYAAABrDZDcAAAABHNCSVQICAgIfAhkiAAAAAlwSFlz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\nP4XRKDX9+gAAAABJRU5ErkJggg==\n",
      "text/plain": [
       "<matplotlib.figure.Figure at 0x7f80ced12710>"
      ]
     },
     "metadata": {},
     "output_type": "display_data"
    }
   ],
   "source": [
    "#  x=0 in the graphs below correspond to the fraction of the variance explained by the mean alone\n",
    "#  x=1,2,3,... are the residuals for eig1, eig1+eig2, eig1+eig2+eig3 ...\n",
    "fig,ax=plt.subplots(1,1);\n",
    "eigvals=STAT[m]['eigval']; eigvals/=sum(eigvals); cumvar=np.cumsum(eigvals); cumvar=100*np.insert(cumvar,0,0)\n",
    "ax.plot(cumvar[:10]); \n",
    "ax.grid(); \n",
    "ax.set_ylabel('Percent of variance explained')\n",
    "ax.set_xlabel('number of eigenvectors')\n",
    "ax.set_title('Percent of variance explained');"
   ]
  },
  {
   "cell_type": "markdown",
   "metadata": {
    "run_control": {
     "frozen": false,
     "read_only": false
    },
    "slideshow": {
     "slide_type": "slide"
    }
   },
   "source": [
    "## Process whole dataframe to find best and worse residuals"
   ]
  },
  {
   "cell_type": "markdown",
   "metadata": {
    "run_control": {
     "frozen": false,
     "read_only": false
    },
    "slideshow": {
     "slide_type": "subslide"
    }
   },
   "source": [
    "### Add to each row in the dataframe a residual values \n",
    "Residuals are after subtracting in sequence: the mean, the projection on the first eigen-vector the projection on the second eigen-vector etc.\n",
    "\n",
    "`decompose(row)` axtracts the series from the row, computes the residuals and constructs a new row that is reassembled into a dataframe.\n"
   ]
  },
  {
   "cell_type": "code",
   "execution_count": 11,
   "metadata": {
    "code_folding": [],
    "run_control": {
     "frozen": false,
     "read_only": false
    }
   },
   "outputs": [],
   "source": [
    "def decompose(row):\n",
    "    \"\"\"compute residual and coefficients for decomposition           \n",
    "\n",
    "    :param row: SparkSQL Row that contains the measurements for a particular station, year and measurement. \n",
    "    :returns: the input row with additional information from the eigen-decomposition.\n",
    "    :rtype: SparkSQL Row \n",
    "\n",
    "    Note that Decompose is designed to run inside a spark \"map()\" command.\n",
    "    Mean and v are sent to the workers as local variables of \"Decompose\"\n",
    "\n",
    "    \"\"\"\n",
    "    Series=np.array(unpackArray(row.vector,np.float16),dtype=np.float64)\n",
    "    recon=Eigen_decomp(None,Series,Mean,v);\n",
    "    total_var,residuals,reductions,coeff=recon.compute_var_explained()\n",
    "    #print coeff\n",
    "    residuals=[float(r) for r in residuals[1]]\n",
    "    coeff=[float(r) for r in coeff[1]]\n",
    "    D=row.asDict()\n",
    "    D['total_var']=float(total_var[1])\n",
    "    D['res_mean']=residuals[0]\n",
    "    for i in range(1,len(residuals)):\n",
    "        D['res_'+str(i)]=residuals[i]\n",
    "        D['coeff_'+str(i)]=coeff[i-1]\n",
    "    return Row(**D)\n"
   ]
  },
  {
   "cell_type": "code",
   "execution_count": 12,
   "metadata": {
    "run_control": {
     "frozen": false,
     "read_only": false
    }
   },
   "outputs": [
    {
     "name": "stdout",
     "output_type": "stream",
     "text": [
      "before filter 1930\n",
      "after filter 18\n"
     ]
    }
   ],
   "source": [
    "rdd2=df.rdd.map(decompose)\n",
    "df2=sqlContext.createDataFrame(rdd2)\n",
    "row,=df2.take(1)\n",
    "\n",
    "#filter out vectors for which the mean is a worse approximation than zero.\n",
    "print 'before filter',df2.count()\n",
    "df3=df2.filter(df2.res_mean<1)\n",
    "print 'after filter',df3.count()"
   ]
  },
  {
   "cell_type": "code",
   "execution_count": 13,
   "metadata": {
    "run_control": {
     "frozen": false,
     "read_only": false
    }
   },
   "outputs": [],
   "source": [
    "# Sort entries by increasing values of ers_3\n",
    "df3=df3.sort(df3.res_3,ascending=True)"
   ]
  },
  {
   "cell_type": "code",
   "execution_count": 14,
   "metadata": {
    "code_folding": [],
    "collapsed": true,
    "run_control": {
     "frozen": false,
     "read_only": false
    }
   },
   "outputs": [],
   "source": [
    "def plot_decomp(row,Mean,v,fig=None,ax=None,Title=None,interactive=False):\n",
    "    \"\"\"Plot a single reconstruction with an informative title\n",
    "\n",
    "    :param row: SparkSQL Row that contains the measurements for a particular station, year and measurement. \n",
    "    :param Mean: The mean vector of all measurements of a given type\n",
    "    :param v: eigen-vectors for the distribution of measurements.\n",
    "    :param fig: a matplotlib figure in which to place the plot\n",
    "    :param ax: a matplotlib axis in which to place the plot\n",
    "    :param Title: A plot title over-ride.\n",
    "    :param interactive: A flag that indicates whether or not this is an interactive plot (widget-driven)\n",
    "    :returns: a plotter returned by recon_plot initialization\n",
    "    :rtype: recon_plot\n",
    "\n",
    "    \"\"\"\n",
    "    target=np.array(unpackArray(row.vector,np.float16),dtype=np.float64)\n",
    "    if Title is None:\n",
    "        Title='%s / %d    %s'%(row['station'],row['year'],row['measurement'])\n",
    "    eigen_decomp=Eigen_decomp(range(1,366),target,Mean,v)\n",
    "    plotter=recon_plot(eigen_decomp,year_axis=True,fig=fig,ax=ax,interactive=interactive,Title=Title)\n",
    "    return plotter\n",
    "\n",
    "def plot_recon_grid(rows,column_n=4, row_n=1, figsize=(15,3)):\n",
    "    \"\"\"plot a grid of reconstruction plots\n",
    "\n",
    "    :param rows: Data rows (as extracted from the measurements data-frame\n",
    "    :param column_n: number of columns\n",
    "    :param row_n:  number of rows\n",
    "    :param figsize: Size of figure\n",
    "    :returns: None\n",
    "    :rtype: \n",
    "\n",
    "    \"\"\"\n",
    "    fig,axes=plt.subplots(row_n,column_n, sharex='col', sharey='row',figsize=figsize);\n",
    "    k=0\n",
    "    for i in range(row_n):\n",
    "        for j in range(column_n):\n",
    "            row=rows[k]\n",
    "            k+=1\n",
    "            #_title='%3.2f,r1=%3.2f,r2=%3.2f,r3=%3.2f'\\\n",
    "            #        %(row['res_mean'],row['res_1'],row['res_2'],row['res_3'])\n",
    "            #print i,j,_title,axes[i,j]\n",
    "            plot_decomp(row,Mean,v,fig=fig,ax=axes[j],interactive=False)\n",
    "    return None\n"
   ]
  },
  {
   "cell_type": "markdown",
   "metadata": {
    "run_control": {
     "frozen": false,
     "read_only": false
    }
   },
   "source": [
    "#### Different things to try\n",
    "The best/worst rows in terms of res_mean,res_1, res_2, res_3\n",
    "\n",
    "The rows with the highest lowest levels of coeff1, coeff2, coeff3, when the corresponding residue is small."
   ]
  },
  {
   "cell_type": "code",
   "execution_count": 15,
   "metadata": {
    "run_control": {
     "frozen": false,
     "read_only": false
    }
   },
   "outputs": [
    {
     "name": "stdout",
     "output_type": "stream",
     "text": [
      "+-------------------+--------------------+\n",
      "|            coeff_2|               res_2|\n",
      "+-------------------+--------------------+\n",
      "|0.23814639477758037|8.414545845205072E-7|\n",
      "|  22.37176971613426|  0.1922884014949346|\n",
      "|  22.37176971613426|  0.1922884014949346|\n",
      "|  52.08819494044404| 0.29308371014585616|\n",
      "|  52.47089811168702| 0.14294129639215325|\n",
      "|  60.63852305285171|  0.2912801488907902|\n",
      "+-------------------+--------------------+\n",
      "\n"
     ]
    }
   ],
   "source": [
    "df4=df3.filter(df3.res_2<0.4).sort(df3.coeff_2)\n",
    "rows=df4.take(4)\n",
    "#df3.select('coeff_2','res_2').show()\n",
    "df4.select('coeff_2','res_2').show()"
   ]
  },
  {
   "cell_type": "code",
   "execution_count": 16,
   "metadata": {
    "run_control": {
     "frozen": false,
     "read_only": false
    },
    "scrolled": false
   },
   "outputs": [
    {
     "name": "stderr",
     "output_type": "stream",
     "text": [
      "/root/anaconda2/lib/python2.7/site-packages/matplotlib/figure.py:402: UserWarning: matplotlib is currently using a non-GUI backend, so cannot show the figure\n",
      "  \"matplotlib is currently using a non-GUI backend, \"\n"
     ]
    },
    {
     "data": {
      "image/png": "iVBORw0KGgoAAAANSUhEUgAAA3EAAADJCAYAAACNBbvJAAAABHNCSVQICAgIfAhkiAAAAAlwSFlz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\nTp04EREREREpE306EmdmA4GPA