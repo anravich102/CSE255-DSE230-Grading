{
 "cells": [
  {
   "cell_type": "markdown",
   "metadata": {
    "run_control": {
     "frozen": false,
     "read_only": false
    }
   },
   "source": [
    "### Visualizing the distribution of the observations\n",
    "\n",
    "### Load the required libraries"
   ]
  },
  {
   "cell_type": "code",
   "execution_count": 1,
   "metadata": {
    "run_control": {
     "frozen": false,
     "read_only": false
    },
    "slideshow": {
     "slide_type": "slide"
    }
   },
   "outputs": [
    {
     "name": "stdout",
     "output_type": "stream",
     "text": [
      "Populating the interactive namespace from numpy and matplotlib\n",
      "keys from STAT= ['TMIN', 'TOBS', 'TMAX', 'SNOW', 'SNWD', 'PRCP']\n"
     ]
    }
   ],
   "source": [
    "import pandas as pd\n",
    "import numpy as np\n",
    "import sklearn as sk\n",
    "import urllib\n",
    "import math\n",
    "%pylab inline\n",
    "\n",
    "import findspark\n",
    "findspark.init()\n",
    "\n",
    "from pyspark import SparkContext\n",
    "#sc.stop()\n",
    "sc = SparkContext(master=\"local[3]\",pyFiles=['lib/numpy_pack.py','lib/computeStats.py'])\n",
    "\n",
    "from pyspark import SparkContext\n",
    "from pyspark.sql import *\n",
    "sqlContext = SQLContext(sc)\n",
    "\n",
    "import sys\n",
    "sys.path.append('./lib')\n",
    "\n",
    "import numpy as np\n",
    "from numpy_pack import packArray,unpackArray\n",
    "#from spark_PCA import computeCov\n",
    "from computeStats import computeOverAllDist, STAT_Descriptions\n",
    "\n",
    "### Read the data frame from pickle file\n",
    "\n",
    "data_dir='../../Data/Weather'\n",
    "file_index='SBBBSBSS'\n",
    "\n",
    "from pickle import load\n",
    "\n",
    "#read statistics\n",
    "filename=data_dir+'/STAT_%s.pickle'%file_index\n",
    "STAT,STAT_Descriptions = load(open(filename,'rb'))\n",
    "print 'keys from STAT=',STAT.keys()\n",
    "\n",
    "#read data\n",
    "filename=data_dir+'/US_Weather_%s.parquet'%file_index\n",
    "\n",
    "df=sqlContext.read.parquet(filename)"
   ]
  },
  {
   "cell_type": "markdown",
   "metadata": {
    "run_control": {
     "frozen": false,
     "read_only": false
    },
    "slideshow": {
     "slide_type": "slide"
    }
   },
   "source": [
    "### Descriptive Statistics"
   ]
  },
  {
   "cell_type": "code",
   "execution_count": 2,
   "metadata": {
    "run_control": {
     "frozen": false,
     "read_only": false
    },
    "slideshow": {
     "slide_type": "subslide"
    }
   },
   "outputs": [
    {
     "name": "stdout",
     "output_type": "stream",
     "text": [
      "Statistics for TMIN\n",
      "25th Quantile  -6.1015625\n",
      "50th Quantile  0.0\n",
      "75th Quantile  6.69921875\n",
      "Min  -25.0\n",
      "Max  26.703\n",
      "NaN count  31807\n",
      "----------------------\n",
      "Statistics for TMAX\n",
      "25th Quantile  6.1015625\n",
      "50th Quantile  14.3984375\n",
      "75th Quantile  23.90625\n",
      "Min  -11.102\n",
      "Max  42.812\n",
      "NaN count  35077\n",
      "----------------------\n",
      "Statistics for TOBS\n",
      "25th Quantile  0.60009765625\n",
      "50th Quantile  8.296875\n",
      "75th Quantile  17.796875\n",
      "Min  -17.203\n",
      "Max  39.406\n",
      "NaN count  30791\n",
      "----------------------\n",
      "Statistics for PRCP\n",
      "25th Quantile  0.0\n",
      "50th Quantile  0.0\n",
      "75th Quantile  0.0\n",
      "Min  0.0\n",
      "Max  74.688\n",
      "NaN count  13430\n",
      "----------------------\n",
      "Statistics for SNOW\n",
      "25th Quantile  0.0\n",
      "50th Quantile  0.0\n",
      "75th Quantile  0.0\n",
      "Min  0.0\n",
      "Max  20.297\n",
      "NaN count  16479\n",
      "----------------------\n",
      "Statistics for SNWD\n",
      "25th Quantile  0.0\n",
      "50th Quantile  0.0\n",
      "75th Quantile  0.0\n",
      "Min  0.0\n",
      "Max  172.75\n",
      "NaN count  13043\n",
      "----------------------\n"
     ]
    }
   ],
   "source": [
    "def generate_statistics(T,param):\n",
    "    print \"Statistics for \" + param\n",
    "    print \"25th Quantile \",numpy.nanpercentile(T, 25)\n",
    "    print \"50th Quantile \",numpy.nanpercentile(T, 50)\n",
    "    print \"75th Quantile \",numpy.nanpercentile(T, 75)\n",
    "    print \"Min \",numpy.nanmin(T)\n",
    "    print \"Max \",numpy.nanmax(T)\n",
    "    print \"NaN count \",np.count_nonzero(np.isnan(T))\n",
    "    print \"----------------------\"\n",
    "\n",
    "sqlContext.registerDataFrameAsTable(df,'weather')\n",
    "for param in ['TMIN','TMAX','TOBS','PRCP','SNOW','SNWD']:\n",
    "    Query=\"SELECT * FROM weather\\n\\tWHERE measurement='%s'\"%(param)\n",
    "    df1 = sqlContext.sql(Query)\n",
    "    rows=df1.rdd.map(lambda row:unpackArray(row['vector'],np.float16)).collect()\n",
    "    T=np.vstack(rows)\n",
    "    T=T/10.  # scaling to make the temperature be in centingrates\n",
    "    generate_statistics(T,param)"
   ]
  },
  {
   "cell_type": "markdown",
   "metadata": {},
   "source": [
    "### Kolmogorov–Smirnov statistic to compare distributions on different scales"
   ]
  },
  {
   "cell_type": "code",
   "execution_count": 3,
   "metadata": {},
   "outputs": [
    {
     "name": "stdout",
     "output_type": "stream",
     "text": [
      "Measurement TMAX\n",
      "Ks_2sampResult(statistic=0.16666666666666669, pvalue=0.99133252540492101)\n",
      "Measurement TMIN\n",
      "Ks_2sampResult(statistic=0.25, pvalue=0.78641716217514468)\n",
      "Measurement PRCP\n",
      "Ks_2sampResult(statistic=0.25, pvalue=0.78641716217514468)\n"
     ]
    }
   ],
   "source": [
    "from scipy.stats import ks_2samp\n",
    "\n",
    "#taken from US climate data site\n",
    "actual_TMAX_mean = [-0.2,3.2,8.1,14.2,19.7,24.9,29.2,29.2,22.7,16.2,6.5,1.3]\n",
    "actual_TMIN_mean = [-13.5,-10.5,-5.6,-0.6,4.6,9.1,11.7,11.1,5.6,0.1,-6.9,-12]\n",
    "actual_PRCP_mean = [13,8,21,29,69,58,50,39,31,19,11,13]\n",
    "\n",
    "def compute_KS_statistic(m,actual_mean):\n",
    "    print \"Measurement \" + m\n",
    "    mean=STAT[m]['Mean'] / 10\n",
    "    observed_mean = []\n",
    "    if(m == 'PRCP'):\n",
    "        observed_mean.append(np.sum(np.array(mean[:31]))) \n",
    "        observed_mean.append(np.sum(np.array(mean[31:59])))\n",
    "        observed_mean.append(np.sum(np.array(mean[59:91])))\n",
    "        observed_mean.append(np.sum(np.array(mean[91:122])))\n",
    "        observed_mean.append(np.sum(np.array(mean[122:154])))\n",
    "        observed_mean.append(np.sum(np.array(mean[154:185])))\n",
    "        observed_mean.append(np.sum(np.array(mean[185:217])))\n",
    "        observed_mean.append(np.sum(np.array(mean[217:249])))\n",
    "        observed_mean.append(np.sum(np.array(mean[249:280])))\n",
    "        observed_mean.append(np.sum(np.array(mean[280:312])))\n",
    "        observed_mean.append(np.sum(np.array(mean[312:333])))\n",
    "        observed_mean.append(np.sum(np.array(mean[333:364])))\n",
    "    else:\n",
    "        observed_mean.append(np.mean(np.array(mean[:31]))) \n",
    "        observed_mean.append(np.mean(np.array(mean[31:59])))\n",
    "        observed_mean.append(np.mean(np.array(mean[59:91])))\n",
    "        observed_mean.append(np.mean(np.array(mean[91:122])))\n",
    "        observed_mean.append(np.mean(np.array(mean[122:154])))\n",
    "        observed_mean.append(np.mean(np.array(mean[154:185])))\n",
    "        observed_mean.append(np.mean(np.array(mean[185:217])))\n",
    "        observed_mean.append(np.mean(np.array(mean[217:249])))\n",
    "        observed_mean.append(np.mean(np.array(mean[249:280])))\n",
    "        observed_mean.append(np.mean(np.array(mean[280:312])))\n",
    "        observed_mean.append(np.mean(np.array(mean[312:333])))\n",
    "        observed_mean.append(np.mean(np.array(mean[333:364])))\n",
    "        \n",
    "    print ks_2samp(actual_mean, observed_mean)\n",
    "    \n",
    "compute_KS_statistic('TMAX',actual_TMAX_mean)\n",
    "compute_KS_statistic('TMIN',actual_TMIN_mean)   \n",
    "compute_KS_statistic('PRCP',actual_PRCP_mean) \n",
    "    "
   ]
  },
  {
   "cell_type": "markdown",
   "metadata": {},
   "source": [
    "### Coefficient of variation statistic to compare distributions on same scale"
   ]
  },
  {
   "cell_type": "code",
   "execution_count": 4,
   "metadata": {},
   "outputs": [
    {
     "name": "stdout",
     "output_type": "stream",
     "text": [
      "Coefficient of variation for Mean distribution  1.18105139323\n",
      "Coefficient of variation for eig1 distribution  1.06292371582\n"
     ]
    }
   ],
   "source": [
    "m = 'SNWD'\n",
    "k=4\n",
    "EigVec=np.matrix(STAT[m]['eigvec'][:,:k])\n",
    "Mean=STAT[m]['Mean']\n",
    "print \"Coefficient of variation for Mean distribution \",np.std(Mean) / np.mean(Mean)\n",
    "print \"Coefficient of variation for eig1 distribution \",np.std(STAT[m]['eigvec'][:,0]) / np.mean(STAT[m]['eigvec'][:,0])\n"
   ]
  },
  {
   "cell_type": "markdown",
   "metadata": {},
   "source": [
    "### Count of negative eigen values"
   ]
  },
  {
   "cell_type": "code",
   "execution_count": 5,
   "metadata": {},
   "outputs": [
    {
     "name": "stdout",
     "output_type": "stream",
     "text": [
      "81 out of 365 eigen values are negative\n"
     ]
    }
   ],
   "source": [
    "eigvalues = STAT[m]['eigval'];\n",
    "print sum(x < 0 for x in eigvalues),\"out of\",len(eigvalues),\"eigen values are negative\""
   ]
  },
  {
   "cell_type": "code",
   "execution_count": 14,
   "metadata": {
    "collapsed": true
   },
   "outputs": [],
   "source": [
    "from scipy import stats\n",
    "def return_data(measurement):\n",
    "\n",
    "    Query = \"SELECT * FROM weather\\n\\tWHERE measurement='%s' and station='%s'\"%('TOBS','USC00243013')\n",
    "    df = sqlContext.sql(Query)\n",
    "    rows=df.rdd.map(lambda row:unpackArray(row['vector'],np.float16)).collect()\n",
    "    T = np.vstack(rows)\n",
    "    return T\n",
    "\n",
    "def plot_graph(T,measurement):\n",
    "    final_list = []\n",
    "    for x in T:\n",
    "        final_list.append(np.nanmean(x))\n",
    "    xi = np.arange(0,len(final_list))\n",
    "    slope, intercept, r_value, p_value, std_err = stats.linregress(xi,final_list)\n",
    "    line = slope*xi+intercept\n",
    "    print \"slope is :\"+str(slope)\n",
    "    plt.plot(xi,final_list,'o', xi, line)\n",
    "    plt.title(\"Mean \"+measurement+\" statistics for past \"+str(len(xi))+\" years\")\n",
    "    plt.ylabel(measurement)\n",
    "    plt.xlabel(\"years\")"
   ]
  },
  {
   "cell_type": "code",
   "execution_count": 15,
   "metadata": {},
   "outputs": [
    {
     "name": "stdout",
     "output_type": "stream",
     "text": [
      "slope is :0.345850896999\n"
     ]
    },
    {
     "data": {
      "image/png": "[encoded data removed]",
      "text/plain": [
       "<matplotlib.figure.Figure at 0x108ee9690>"
      ]
     },
     "metadata": {},
     "output_type": "display_data"
    }
   ],
   "source": [
    "T = return_data('TOBS')\n",
    "plot_graph(T,'TOBS')"
   ]
  },
  {
   "cell_type": "code",
   "execution_count": 16,
   "metadata": {},
   "outputs": [
    {
     "name": "stdout",
     "output_type": "stream",
     "text": [
      "slope is :0.345850896999\n"
     ]
    },
    {
     "data": {
      "image/png": "[encoded data removed]",
      "text/plain": [
       "<matplotlib.figure.Figure at 0x11427ccd0>"
      ]
     },
     "metadata": {},
     "output_type": "display_data"
    }
   ],
   "source": [
    "T = return_data('PRCP')\n",
    "plot_graph(T,'PRCP')"
   ]
  },
  {
   "cell_type": "code",
   "execution_count": 17,
   "metadata": {},
   "outputs": [
    {
     "name": "stdout",
     "output_type": "stream",
     "text": [
      "slope is :0.345850896999\n"
     ]
    },
    {
     "data": {
      "image/png": "[encoded data removed]",
      "text/plain": [
       "<matplotlib.figure.Figure at 0x1129043d0>"
      ]
     },
     "metadata": {},
     "output_type": "display_data"
    }
   ],
   "source": [
    "T = return_data('SNWD')\n",
    "plot_graph(T,'SNWD')"
   ]
  },
  {
   "cell_type": "code",
   "execution_count": null,
   "metadata": {
    "collapsed": true
   },
   "outputs": [],
   "source": []
  }
 ],
 "metadata": {
  "anaconda-cloud": {},
  "celltoolbar": "Slideshow",
  "kernelspec": {
   "display_name": "Python 2",
   "language": "python",
   "name": "python2"
  },
  "language_info": {
   "codemirror_mode": {
    "name": "ipython",
    "version": 2
   },
   "file_extension": ".py",
   "mimetype": "text/x-python",
   "name": "python",
   "nbconvert_exporter": "python",
   "pygments_lexer": "ipython2",
   "version": "2.7.13"
  },
  "toc": {
   "colors": {
    "hover_highlight": "#DAA520",
    "running_highlight": "#FF0000",
    "selected_highlight": "#FFD700"
   },
   "moveMenuLeft": true,
   "nav_menu": {
    "height": "190px",
    "width": "252px"
   },
   "navigate_menu": true,
   "number_sections": true,
   "sideBar": true,
   "threshold": 4,
   "toc_cell": false,
   "toc_position": {
    "height": "514px",
    "left": "0px",
    "right": "925px",
    "top": "107px",
    "width": "142px"
   },
   "toc_section_display": "block",
   "toc_window_display": false
  }
 },
 "nbformat": 4,
 "nbformat_minor": 1
}
