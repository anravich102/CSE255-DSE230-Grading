{
 "cells": [
  {
   "cell_type": "markdown",
   "metadata": {
    "run_control": {
     "frozen": false,
     "read_only": false
    }
   },
   "source": [
    "### Visualizing the distribution of the observations\n",
    "\n",
    "### Load the required libraries"
   ]
  },
  {
   "cell_type": "code",
   "execution_count": 6,
   "metadata": {
    "run_control": {
     "frozen": false,
     "read_only": false
    },
    "slideshow": {
     "slide_type": "slide"
    }
   },
   "outputs": [
    {
     "name": "stdout",
     "output_type": "stream",
     "text": [
      "Populating the interactive namespace from numpy and matplotlib\n",
      "keys from STAT= ['TMIN', 'TOBS', 'TMAX', 'SNOW', 'SNWD', 'PRCP']\n",
      "12107\n",
      "+---------+--------+---------+-----------+-----------+------+--------------------+------+--------+\n",
      "|elevation|latitude|longitude|measurement|    station|undefs|              vector|  year|   label|\n",
      "+---------+--------+---------+-----------+-----------+------+--------------------+------+--------+\n",
      "|      3.0| 29.8667| -84.6667|       TMAX|USC00081356|     3|[C8 5A E0 54 40 5...|1900.0|BSBSSSSS|\n",
      "|      3.0| 29.8667| -84.6667|       TMAX|USC00081356|    11|[90 59 40 5A 60 5...|1901.0|BSBSSSSS|\n",
      "|      3.0| 29.8667| -84.6667|       TMAX|USC00081356|     5|[28 58 E0 58 60 5...|1902.0|BSBSSSSS|\n",
      "|      3.0| 29.8667| -84.6667|       TMAX|USC00081356|    34|[20 5B 10 5A 98 5...|1903.0|BSBSSSSS|\n",
      "|      3.0| 29.8667| -84.6667|       TMAX|USC00081356|    31|[E8 59 C8 5A E8 5...|1904.0|BSBSSSSS|\n",
      "+---------+--------+---------+-----------+-----------+------+--------------------+------+--------+\n",
      "only showing top 5 rows\n",
      "\n"
     ]
    }
   ],
   "source": [
    "import pandas as pd\n",
    "import numpy as np\n",
    "import sklearn as sk\n",
    "import urllib\n",
    "import math\n",
    "%pylab inline\n",
    "\n",
    "import findspark\n",
    "findspark.init()\n",
    "\n",
    "from pyspark import SparkContext\n",
    "#sc.stop()\n",
    "sc = SparkContext(master=\"local[3]\",pyFiles=['lib/numpy_pack.py','lib/spark_PCA.py','lib/computeStats.py'])\n",
    "\n",
    "from pyspark import SparkContext\n",
    "from pyspark.sql import *\n",
    "sqlContext = SQLContext(sc)\n",
    "\n",
    "import sys\n",
    "sys.path.append('./lib')\n",
    "\n",
    "import numpy as np\n",
    "from numpy_pack import packArray,unpackArray\n",
    "from spark_PCA import computeCov\n",
    "from computeStats import computeOverAllDist, STAT_Descriptions\n",
    "\n",
    "### Read the data frame from pickle file\n",
    "\n",
    "data_dir='../../Data/Weather'\n",
    "file_index='BSBSSSSS'\n",
    "\n",
    "from pickle import load\n",
    "\n",
    "#read statistics\n",
    "filename=data_dir+'/STAT_%s.pickle'%file_index\n",
    "STAT,STAT_Descriptions = load(open(filename,'rb'))\n",
    "print 'keys from STAT=',STAT.keys()\n",
    "\n",
    "#read data\n",
    "filename=data_dir+'/US_Weather_%s.parquet'%file_index\n",
    "\n",
    "df=sqlContext.read.parquet(filename)\n",
    "print df.count()\n",
    "df.show(5)"
   ]
  },
  {
   "cell_type": "markdown",
   "metadata": {
    "run_control": {
     "frozen": false,
     "read_only": false
    },
    "slideshow": {
     "slide_type": "slide"
    }
   },
   "source": [
    "### Select data for a particular station and measurement type"
   ]
  },
  {
   "cell_type": "code",
   "execution_count": 11,
   "metadata": {
    "run_control": {
     "frozen": false,
     "read_only": false
    },
    "slideshow": {
     "slide_type": "subslide"
    }
   },
   "outputs": [
    {
     "name": "stdout",
     "output_type": "stream",
     "text": [
      "SELECT * FROM weather\n",
      "\tWHERE measurement='PRCP' and station='USC00081356'\n",
      "62 rows\n",
      "+---------+--------+---------+-----------+-----------+------+--------------------+------+--------+\n",
      "|elevation|latitude|longitude|measurement|    station|undefs|              vector|  year|   label|\n",
      "+---------+--------+---------+-----------+-----------+------+--------------------+------+--------+\n",
      "|      3.0| 29.8667| -84.6667|       PRCP|USC00081356|     2|[00 00 00 00 00 0...|1900.0|BSBSSSSS|\n",
      "|      3.0| 29.8667| -84.6667|       PRCP|USC00081356|    28|[F0 5B 00 00 00 0...|1901.0|BSBSSSSS|\n",
      "+---------+--------+---------+-----------+-----------+------+--------------------+------+--------+\n",
      "only showing top 2 rows\n",
      "\n"
     ]
    },
    {
     "data": {
      "text/plain": [
       "(62, 365)"
      ]
     },
     "execution_count": 11,
     "metadata": {},
     "output_type": "execute_result"
    }
   ],
   "source": [
    "sqlContext.registerDataFrameAsTable(df,'weather')\n",
    "Query=\"SELECT * FROM weather\\n\\tWHERE measurement='%s' and station='%s'\"%('PRCP','USC00081356')\n",
    "print Query\n",
    "df1 = sqlContext.sql(Query)\n",
    "print df1.count(),'rows'\n",
    "df1.show(2)\n",
    "rows=df1.rdd.map(lambda row:unpackArray(row['vector'],np.float16)).collect()\n",
    "T=np.vstack(rows)\n",
    "T=T/10.  # scaling to make the temperature be in centingrates\n",
    "shape(T)"
   ]
  },
  {
   "cell_type": "markdown",
   "metadata": {
    "run_control": {
     "frozen": false,
     "read_only": false
    },
    "slideshow": {
     "slide_type": "slide"
    }
   },
   "source": [
    "### Script for plotting yearly plots"
   ]
  },
  {
   "cell_type": "code",
   "execution_count": 12,
   "metadata": {
    "run_control": {
     "frozen": false,
     "read_only": false
    },
    "scrolled": false,
    "slideshow": {
     "slide_type": "subslide"
    }
   },
   "outputs": [
    {
     "data": {
      "image/png": "iVBORw0KGgoAAAANSUhEUgAAAlMAAAGNCAYAAAA1nfQqAAAABHNCSVQICAgIfAhkiAAAAAlwSFlz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\nTQBg/2eBq