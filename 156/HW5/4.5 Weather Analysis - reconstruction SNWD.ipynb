{
 "cells": [
  {
   "cell_type": "code",
   "execution_count": 72,
   "metadata": {
    "collapsed": true,
    "run_control": {
     "frozen": false,
     "read_only": false
    },
    "slideshow": {
     "slide_type": "skip"
    }
   },
   "outputs": [],
   "source": [
    "#setup\n",
    "data_dir='../../Data/Weather'\n",
    "file_index='BSBSSSSS'\n",
    "m='TOBS'"
   ]
  },
  {
   "cell_type": "markdown",
   "metadata": {
    "run_control": {
     "frozen": false,
     "read_only": false
    },
    "slideshow": {
     "slide_type": "slide"
    },
    "variables": {
     "m": "SNWD"
    }
   },
   "source": [
    "## Reconstruction using top eigen-vectors\n",
    "For measurement = {{m}}"
   ]
  },
  {
   "cell_type": "markdown",
   "metadata": {
    "run_control": {
     "frozen": false,
     "read_only": false
    },
    "slideshow": {
     "slide_type": "skip"
    }
   },
   "source": [
    "## Load the required libraries"
   ]
  },
  {
   "cell_type": "code",
   "execution_count": 73,
   "metadata": {
    "collapsed": true,
    "run_control": {
     "frozen": false,
     "read_only": false
    },
    "slideshow": {
     "slide_type": "skip"
    }
   },
   "outputs": [],
   "source": [
    "# Enable automiatic reload of libraries\n",
    "#%load_ext autoreload\n",
    "#%autoreload 2 # means that all modules are reloaded before every command"
   ]
  },
  {
   "cell_type": "code",
   "execution_count": 74,
   "metadata": {
    "run_control": {
     "frozen": false,
     "read_only": false
    },
    "slideshow": {
     "slide_type": "skip"
    }
   },
   "outputs": [
    {
     "name": "stdout",
     "output_type": "stream",
     "text": [
      "Populating the interactive namespace from numpy and matplotlib\n",
      "    pandas as    pd \tversion=0.19.2 \trequired version>=0.19.2\n",
      "     numpy as    np \tversion=1.12.1 \trequired version>=1.12.0\n",
      "   sklearn as    sk \tversion=0.18.1 \trequired version>=0.18.1\n",
      "    urllib as urllib \tversion=1.17 \trequired version>=1.17\n",
      "   pyspark as pyspark \tversion=2.1.0+hadoop2.7 \trequired version>=2.1.0\n",
      "ipywidgets as ipywidgets \tversion=6.0.0 \trequired version>=6.0.0\n"
     ]
    }
   ],
   "source": [
    "#%matplotlib inline\n",
    "%pylab inline\n",
    "import numpy as np\n",
    "\n",
    "import findspark\n",
    "findspark.init()\n",
    "\n",
    "import sys\n",
    "sys.path.append('./lib')\n",
    "\n",
    "from numpy_pack import packArray,unpackArray\n",
    "\n",
    "from Eigen_decomp import Eigen_decomp\n",
    "from YearPlotter import YearPlotter\n",
    "from recon_plot import recon_plot\n",
    "\n",
    "from import_modules import import_modules,modules\n",
    "import_modules(modules)\n",
    "\n",
    "from ipywidgets import interactive,widgets"
   ]
  },
  {
   "cell_type": "code",
   "execution_count": 75,
   "metadata": {
    "collapsed": true,
    "run_control": {
     "frozen": false,
     "read_only": false
    },
    "slideshow": {
     "slide_type": "skip"
    }
   },
   "outputs": [],
   "source": [
    "from pyspark import SparkContext\n",
    "sc.stop()\n",
    "\n",
    "sc = SparkContext(master=\"local[3]\",pyFiles=['lib/numpy_pack.py','lib/spark_PCA.py','lib/computeStats.py','lib/recon_plot.py','lib/Eigen_decomp.py'])\n",
    "\n",
    "from pyspark import SparkContext\n",
    "from pyspark.sql import *\n",
    "sqlContext = SQLContext(sc)\n",
    "\n",
    "\n",
    "\n"
   ]
  },
  {
   "cell_type": "markdown",
   "metadata": {
    "run_control": {
     "frozen": false,
     "read_only": false
    },
    "slideshow": {
     "slide_type": "slide"
    }
   },
   "source": [
    "## Read Statistics File"
   ]
  },
  {
   "cell_type": "code",
   "execution_count": 76,
   "metadata": {
    "run_control": {
     "frozen": false,
     "read_only": false
    },
    "slideshow": {
     "slide_type": "subslide"
    }
   },
   "outputs": [
    {
     "name": "stdout",
     "output_type": "stream",
     "text": [
      "keys from STAT= ['TMIN', 'TOBS', 'TMAX', 'SNOW', 'SNWD', 'PRCP']\n"
     ]
    }
   ],
   "source": [
    "from pickle import load\n",
    "\n",
    "#read statistics\n",
    "filename=data_dir+'/STAT_%s.pickle'%file_index\n",
    "STAT,STAT_Descriptions = load(open(filename,'rb'))\n",
    "measurements=STAT.keys()\n",
    "print 'keys from STAT=',measurements"
   ]
  },
  {
   "cell_type": "markdown",
   "metadata": {
    "run_control": {
     "frozen": false,
     "read_only": false
    },
    "slideshow": {
     "slide_type": "slide"
    }
   },
   "source": [
    "## Read data file into a spark DataFrame\n",
    "We focus on the snow-depth records, because the eigen-vectors for them make sense."
   ]
  },
  {
   "cell_type": "code",
   "execution_count": 77,
   "metadata": {
    "run_control": {
     "frozen": false,
     "read_only": false
    },
    "scrolled": true,
    "slideshow": {
     "slide_type": "subslide"
    }
   },
   "outputs": [
    {
     "name": "stdout",
     "output_type": "stream",
     "text": [
      "+---------+--------+---------+-----------+-----------+------+--------------------+------+--------+\n",
      "|elevation|latitude|longitude|measurement|    station|undefs|              vector|  year|   label|\n",
      "+---------+--------+---------+-----------+-----------+------+--------------------+------+--------+\n",
      "|      3.0| 29.8667| -84.6667|       TOBS|USC00081356|    16|[40 56 B0 58 B0 5...|1902.0|BSBSSSSS|\n",
      "|      3.0| 29.8667| -84.6667|       TOBS|USC00081356|     8|[38 59 10 5A 28 5...|1903.0|BSBSSSSS|\n",
      "|      3.0| 29.8667| -84.6667|       TOBS|USC00081356|     0|[28 58 00 58 80 5...|1905.0|BSBSSSSS|\n",
      "|      3.0| 29.8667| -84.6667|       TOBS|USC00081356|    31|[00 7E 00 7E 00 7...|1907.0|BSBSSSSS|\n",
      "|      3.0| 29.8667| -84.6667|       TOBS|USC00081356|     0|[08 59 E0 58 80 4...|1911.0|BSBSSSSS|\n",
      "|      3.0| 29.8667| -84.6667|       TOBS|USC00081356|    20|[F0 56 A0 56 F0 5...|1912.0|BSBSSSSS|\n",
      "|      3.0| 29.8667| -84.6667|       TOBS|USC00081356|     0|[40 56 30 55 40 5...|1913.0|BSBSSSSS|\n",
      "|      3.0| 29.8667| -84.6667|       TOBS|USC00081356|     0|[90 55 F0 56 A0 5...|1914.0|BSBSSSSS|\n",
      "|      3.0| 29.8667| -84.6667|       TOBS|USC00081356|     0|[90 55 40 56 50 5...|1915.0|BSBSSSSS|\n",
      "|      3.0| 29.8667| -84.6667|       TOBS|USC00081356|     8|[58 58 E0 58 60 5...|1916.0|BSBSSSSS|\n",
      "|      3.0| 29.8667| -84.6667|       TOBS|USC00081356|    18|[08 59 60 59 B8 5...|1917.0|BSBSSSSS|\n",
      "|      3.0| 29.8667| -84.6667|       TOBS|USC00081356|     0|[60 59 E0 58 40 4...|1919.0|BSBSSSSS|\n",
      "|      3.0| 29.8667| -84.6667|       TOBS|USC00081356|    19|[38 59 00 4F 20 5...|1920.0|BSBSSSSS|\n",
      "|      3.0| 29.8667| -84.6667|       TOBS|USC00081356|     0|[58 58 28 58 E8 5...|1921.0|BSBSSSSS|\n",
      "|      3.0| 29.8667| -84.6667|       TOBS|USC00081356|     2|[80 51 30 54 28 5...|1922.0|BSBSSSSS|\n",
      "|      3.0| 29.8667| -84.6667|       TOBS|USC00081356|     0|[30 55 80 58 90 5...|1923.0|BSBSSSSS|\n",
      "|      3.0| 29.8667| -84.6667|       TOBS|USC00081356|     8|[00 58 90 59 10 5...|1924.0|BSBSSSSS|\n",
      "|      3.0| 29.8667| -84.6667|       TOBS|USC00081356|     3|[50 57 F0 56 F0 5...|1925.0|BSBSSSSS|\n",
      "|      3.0| 29.8667| -84.6667|       TOBS|USC00081356|     1|[20 50 00 53 A0 5...|1927.0|BSBSSSSS|\n",
      "|      3.0| 29.8667| -84.6667|       TOBS|USC00081356|     0|[00 C6 40 CC 20 D...|1928.0|BSBSSSSS|\n",
      "+---------+--------+---------+-----------+-----------+------+--------------------+------+--------+\n",
      "only showing top 20 rows\n",
      "\n"
     ]
    }
   ],
   "source": [
    "#read data\n",
    "filename=data_dir+'/US_Weather_%s.parquet'%file_index\n",
    "df_in=sqlContext.read.parquet(filename)\n",
    "#filter in \n",
    "df=df_in.filter(df_in.measurement==m)\n",
    "df.show()"
   ]
  },
  {
   "cell_type": "markdown",
   "metadata": {
    "run_control": {
     "frozen": false,
     "read_only": false
    },
    "slideshow": {
     "slide_type": "slide"
    }
   },
   "source": [
    "### Plot Reconstructions\n",
    "\n",
    "Construct approximations of a time series using the mean and the $k$ top eigen-vectors\n",
    "First, we plot the mean and the top $k$ eigenvectors"
   ]
  },
  {
   "cell_type": "code",
   "execution_count": 78,
   "metadata": {
    "run_control": {
     "frozen": false,
     "read_only": false
    },
    "scrolled": false,
    "slideshow": {
     "slide_type": "subslide"
    }
   },
   "outputs": [
    {
     "data": {
      "image/png": "iVBORw0KGgoAAAANSUhEUgAAAl8AAAFcCAYAAAD2w9suAAAABHNCSVQICAgIfAhkiAAAAAlwSFlz\nAAALEgAACxIB0t1+/AAAIABJREFUeJzs3Xd4VFX6wPHvmUnvPaRBQgglhB7pVZoo6mJbWDv2Vey7\n6jax8NNdXXctq6uuBRuIqIhYKEqQjpQASSAkEEivpPfMnN8fM8QAkRKSTMr7eZ48JOeW807uZebN\nOeeeo7TWCCGEEEKI9mGwdQBCCCGEEN2JJF9CCCGEEO1Iki8hhBBCiHYkyZcQQgghRDuS5EsIIYQQ\noh1J8iWEEEII0Y4k+RJCCCGEaEeSfAkh2oVSqqLJl1kpVd3k5+ut+0QrpVYqpUqVUuVKqfVKqbFN\nzhGulNJNjstTSr2ulLJvss94pdQW6zmOK6U2K6Uu+pWYFlrP98Ap5Q9Yyxe20a9DCNGNSfIlhGgX\nWmu3E19AOnB5k7KPlVKRwGZgPxABBANfAmuUUmNOOZ2X9TyDgDHAvQBKKQ9gFfAq4AOEAE8BtWcI\n7RBw0yllN1vLhRCi1UnyJYToKBYCW7XWf9ZaH9dal2utXwE+BP7e3AFa63xgLRBtLeprLV+itTZp\nrau11mu01vvOUO/PgItSaiCA9V8na3kjpdRspVS8UqrE2rI2uMm2x5VSh62tdUlKqTlNtt2ilNqk\nlHpRKVWslEpTSs06z9+NEKILkeRLCNFRTAc+a6Z8GTBOKeV86galVDAwE9hmLToEmJRSi5VSs5RS\n3udY94f80vp1s/XnpvUMA94F7gJ8gTeBlUopR+suh4EJgCeWlraPlFJBTU4xCkgG/IB/AO8opdQ5\nxiaE6GIk+RJCdBR+QE4z5TlY3qt8mpQVKqVKgCygElgOoLUuA8YDGngbKLCOIQs8S90fAfOsY8fm\nWn9u6k7gTa31dmuL2mIsXZmjrfV+prXO1lqbtdafAinAyCbHH9Nav621NgGLgSDgbDEJIbooSb6E\nEB1FIZak5FRBgBkoblLmp7X2AlywjBNbfWKD1vqA1voWrXUoEINl7Ni/z1Sx1jodSAX+D0jRWmec\nsksv4BFrl2OJNfELs54bpdRNTbokS6z1+jU5PrdJXVXWb93OFJMQouuS5EsI0VGsA65tpvw6LGPB\nqk7doLWuBt4HRiul/JrZftC6PeYc6v8AeMT676kygEVaa68mXy5a6yVKqV5YWtnuA3ytSWECIN2K\nQohmSfIlhOgongLGKqUWKaV8lFLuSqkFWMZiPdbcAdYxVzdiaVkqUkr1V0o9opQKtW4PA+bxy5iw\nM/kUmIFljNmp3gbuVkqNUhauSqnLlFLugCuWbs4Ca523cm7JnhCim5LkSwjRIWitU7CM1xoCHMUy\n1utqYKbWevMpu5copSqAPCxTTVyhtdZAOZbB7duVUpVYkq4ELC1aZ6u/Wmu9ztqaduq2ncAdwGtY\nuj9TgVus25KAfwJbrfEMwtIVKoQQzVKW9yshhBBCCNEepOVLCCGEEKIdSfIlhBBCCNGOJPkSQggh\nhGhHknwJIYQQQrQjSb6EEEIIIdqRna0DOBM/Pz8dHh7epnVUVlbi6urapnWIjkWuefcl1757k+sv\n2voe2LVrV6HW2v9s+3Xo5Cs8PJydO3e2aR1xcXFMnjy5TesQHYtc8+5Lrn33JtdftPU9oJQ6di77\nSbejEEIIIUQ7kuRLCCGEEKIdSfIlhBBCCNGOOvSYLyGEaC2704v5NLmOlfnxPDStL2E+LgDU1Jtw\ntDOglDrrOWrqTXyyPZ2knDLuntSbPgHup+1jNmt+SikgNtwHN8eO8xabX17DZzszKayoZefRYsL9\nXHll7tBzet1CNKe+vp7MzExqampsHco58/T05MCBAxd8HicnJ0JDQ7G3t2/R8R3nnUEIIVqZ1ppN\nqYUs3nKUdQfysVOg0rPJKanhkztGcSCnnHlvbyPI04kZ0YHUmTS3jgunoraBT7ano4Ath4vILK7C\n29WB3NIaahvMONgZWBmfzaxBPbhxdC9iw30oKK/lUF45i7ccZU1SHhP7+vO/m2I5kFNGdb0JT2d7\nQrydcXe0I6e0hq/is/nhQB4aqKozYWdQDAr15O6JkfT0daG8pp4Hlsbj6mhHTLAHOaU1bE4txNvV\ngWtGhFJaVc8lMT0ak0iA4so6jlfVEenvdtLvod5k5o4PdrE3owRneyPBXk58vTeba0eEMrHvWR/M\nEqJZmZmZuLu7Ex4e3mmS+PLyctzdT/+j6XxorSkqKiIzM5OIiIgWnUOSLyFEp2Uya0qq6qg3abJK\nqhkY7IG90cCXe7IYGubFO5uOsGRHBt4u9jwyvS99dSbHPSJ54ov93L80nq2Hi3C2N2LWmld+TMWg\n4PuEHMprGiirqUehiAnx4MqhIRRX1TFzYA8m9/Onb6A7/1p7iG/357A6MZc3bhjBg0vjKa2ux2hQ\nXDYoiG/25xD77FrKahpOitnJ3kBNvRmAIaGeuDra4e1iT029mRV7svg6PpvfT+nDxpQCdqQdx9PZ\nnq/3ZuNoZ2BkhA9HCir54/J9AKzan8MX94ylrsHMI5/F831CLmYNv40N48kronFxsLzFv7T2EHsz\nSnjtd8OYPTiY2gYTF7+4gRfXJDO6ty8OdjICRZy/mpqaTpV4tRalFL6+vhQUFLT4HJJ8CSFsymTW\nrE3Kxd5oYOqAwLPur7UmOa+c/ZmlvPxDCpnF1Y3bhoR6MraPH2/EHW4su3tSJA9Nj8LRzkhcXBZz\nLwpj6+EifjiQR6CnE2/dOIJIfzfqTGYSskq56Z0duDnZsfrBifQ+pQWpqUVzBvHA1Chm/vsnbn3v\nZzyc7Hjv1ouICnAjxMuZ4G+dSMop49oRYfi7O1JcVUdWcTV5ZbX08nVhbKQvUYEn/wWeWVzFg0vj\n+fv3BwF44ZrBXDU8lIraBjyc7FBKUddg5nBBBfsyS3js8/38ZcV+DuVVsDu9mDsn9kZreHvjEZSC\n564axCs/pPJG3GHmXhTG7MHBADjaGXl4el8e+WwvI55dy63jIlhwcR/sjScnYad2yTaYzGSX1FBd\nb6JvoFu3+9AVp+uu98CFvm5JvoQQNlHXYGbpz+n8b2Ma6cersDcqvn9wIuG+rhhU829u9SYz932y\nm9WJeQAMCPLgr7MjcLQzUNdg5plvktibWcrlQ4Lp4++Gr5sDN4zuddI5lFK8Mm/Yaed2tDMyopcP\nqx+aiLO9EV83x7O+hgAPJ/5xzRAeWRbPv+cOZUq/gMZtf74s+nx/JYR6u7D8nrEUVtRSXWdq7FL0\ndP5lXImDnYEBQR707+HOmsQ8luzIwNXByCtzh3H5EEtyZTJr3t2cRlWdiZV7s7l6eCjP/ibmpLqu\nGh6Cr5sDy3Zm8MoPKXy+KxN3JztMZo2bkx2ezvZsOVzEuEhf/jCzP/9ed4gth4uoqLW05MX28mbR\nnEH063FhXThCXAilFNdffz0fffQRAA0NDQQFBTFq1ChWrVpl4+h+nSRfQoh2ZzJr7v1kN2uT8hjW\n04sHpkaxcGUiDy6Np7Cilp4+Lrw6bxi+bo78dKiAtMJKDAq+TchlR9pxHprWlyn9/RkY7InR8EuS\nZjQofjyYz/NXDcK1hYPdQ71dzr5TE9OjA9nztxknxXGh/M4h8VNK8foNwymsqKOHh9NJ9d8/NYoV\ne7JYuTebm8f04snLB2I4JT6lFJP7BTC5XwDf7MthRXwWCrAzKo5X1pF+vIqZA3uwal8265ML8HCy\n48qhwQwJ9aKitoHX41K54Z3tPHXFQL7dn8PdkyKJCfFstd+BEOfC1dWVhIQEqqurcXZ2Zu3atYSE\nhNg6rLOS5EsI0a601jy5MoG1SXk8eXk0t4y1jBkpqa7nmVVJ9AlwY19mKWOf/xEHOwNVdabGY3t4\nOPHsb2JOa8064eax4dw8NrydXskvWjPxOh+OdkZCvJxPK/d0tue13w3ncEEF14/qedYukssGB3HZ\n4KBmt10a04P1yfk8MqMfgR5OjeUTovy46o0t/P7j3QBsTi1k7sieHMwpY0Qvb24Y3QsvF4cLeHVC\nnJtLL72Ub775hmuuuYYlS5Ywb948Nm7cCFiWE1qwYAEJCQnU19fz2GOPMXfuXI4ePcqNN95IZWUl\nAK+99hpjx44lLi6OhQsX4ufnR0JCAiNGjOCjjz5q9e7VFiVfSqkw4AMgENDAW1rrl5VSC4E7gBOj\n0P6ktf7WeswTwG2ACbhfa736AmMXQnRwJVV1bEwpZFZMD+ys44lejzvMR9vSuXtSJLeO++VJoVvH\nhjMw2IMRvbw5VlTJ8l1ZVNU1MKa3LyMjfKg3aQI9HLvtGJPzNSbSlzGRvhd8nlmDgpg16PTELCrQ\nnY9uG8W2I0VMiPLn5vd28N8Nh4nwdWV9cgE7jhaz+NaL5Hp1E099nUhSdlmrnjM62IMnLx941v3m\nzp3L008/zezZs9m3bx/z589vTL4WLVrExRdfzLvvvktJSQmxsbFcfvnlBAQEsHbtWpycnEhJSWHe\nvHmNyxnu2bOHxMREgoODGTduHJs3b2b8+PGt+tpa2vLVADyitd6tlHIHdiml1lq3/Utr/WLTnZVS\n0cBcYCAQDKxTSvXVWpsQQnQ5lbUNONsbue+TPWxKLWRkhA/XDA8l7lA+3+7P5TdDg/njzH4nHWMw\nKEb3tiQLfQLceXxWf1uELs7DkDAvhoR5AfDdAxMwmzUBHk68vzmNhV8n8e3+3F9tUROitQwePJij\nR4+yZMkSLr300pO2rVmzhpUrV/Lii5a0pLa2lvT0dIKDg7nvvvuIj4/HaDRy6NChxmNGjhxJaGgo\nAEOHDuXo0aMdI/nSWucAOdbvy5VSB4AzdbJeCSzVWtcCaUqpVGAksLUl9QshOq7luzL54/K9hHg7\nk3G8mquHh/JdQg470o7j4mDkgalR3Dulz2ljkETn1nSc2g2je/HZrkye+GIf9SYzlw8JRgFFlXV4\nOtvL1BZd0Lm0ULWlK664gkcffZS4uDiKiooay7XWfP755/TrZ/lj78Q8XwsXLiQwMJC9e/diNptx\ncvqlS93R8Zd72Wg00tBw8nQxreGCx3wppcKBYcB2YBywQCl1E7ATS+tYMZbEbFuTwzI5c7ImhOiE\nPtmezp9X7GdIqBc19Sauiw3l71cP5ukrB1JcZfngdXdq2YzQovOwMxp44/oRPPDpHh78NJ6FXyei\nNZRW16MU3Du5D4/M6CtdkqLVzJ8/Hy8vLwYNGkRcXFxj+cyZM3n11Vd59dVXUUqxd+9exo8fT2lp\nKaGhoRgMBhYvXozJ1L4dcReUfCml3IDPgQe11mVKqTeAZ7CMA3sG+Ccw/zzPeSdwJ0BgYOBJv8S2\nUFFR0eZ1iI5Frnnr0VqzJ9/EluwGqho0SUVmYvyM3NO/DkejAorZsGGDrcNsJNe+fS0YoPnZ25GE\nQhNKQZibAyklJl5bn8q+lKMMDzAy2N+IoZ2SMLn+rcvT05Py8nJbh0F5eTmenp7ceuutlJeXU1VV\nRUNDA+Xl5Tz44IM8/vjjxMTEYDab6dmzJ8uXL+emm27ixhtv5P3332fatGm4urqedixAXV0dNTU1\nzb7OmpqaFt9PSmvdsgOVsgdWAau11i81sz0cWKW1jrEOtkdr/Zx122pgodb6jN2OsbGx+sQAuLYS\nFxfH5MmT27QO0bHINW8dZrPm4WXxrIjPJtDDERcHy1QECy6OstnTf2cj1972zGbNkysT+Xj7Mcwa\nrh0RyqI5g6g3mVs8Pci5kuvfug4cOMCAAQNsHcZ5aY3lhU5o7vUrpXZprWPPdmxLn3ZUwDvAgaaJ\nl1IqyDoeDGAOkGD9fiXwiVLqJSwD7qOAHS2pWwjRMby4JpkV8dncf3EfFkyNOm12dCGaYzAonvlN\nDH+6dACvx6Xy6o+pfL47Eyd7I6sWjD/jqgJCdBUt/TNjHHAjsF8pFW8t+xMwTyk1FEu341HgLgCt\ndaJSahmQhOVJyXvlSUchOo+qugZW7MlGoxkU4slPhwp4Pe4w80b25KHpMnZHnD9nB8sSR2E+Lhwu\nqGDJ9nQe+3wfn945Rh7GEF1eS5923AQ097/j2zMcswhY1JL6hBC29fZPafxr3aGTyq4aFsLTVw6U\nxEu0mFKK62LDAOjj78Yflu/jyZWJjIzwYenP6YwM9+X60T0bn6Qsq6nHzqAaFwwXorOSO1gIcUa1\nDSY+3HaMCVF+PH/1YDanFKLRXDsiTFooRKu5ZkQoB3PLeWdTGh9uO0aghyObU4tY+nM6f5jZjxXx\n2WxJLcTFwciiOYOYPThIEv8OQGvdLa9DS8fLnyDJlxDijFbtzaGwopY7JgwhxMuZ6y4Ks3VIogtS\nSvHX2dGM7u1Ldkk114/qycHccm5b/DMPL9tLgLsjt0/ozfa0IhYs2cOnP2ewaE4MvXxdbR16t+Xk\n5ERRURG+vr7dKgHTWlNUVHTS3GDnS5IvIQQAFbUNrNiTxWWDgqiobWB9cj77M0v5Kj6bfoHuTIjy\ns3WIohuYHh3Y+H1MiCdf3Tue7WlFzBzYAyd7Iw0mMx9uO8ZLaw/x0KfxfH7P2G71wd+RhIaGkpmZ\nSUFBwdl37iBqamouKGk6wcnJqXEW/JaQ5EsIAcDTXyeybGcmf//+INV1JhrMGhcHI9fEhrLg4j7y\nASdsooenE1cO/WVObjujgVvHReBoZ+RPX+5nY0ohE/v62zDC7sve3p6IiIiz79iBxMXFMWzYMFuH\nIcmXEAK2HC5k2c5Mrh4eSk2DCX83R+aPiyDMx1mSLtEhXTMilP+sT+Vf6w4xIcpP7lPRqUjyJUQ3\nV15Tz2Of76OXrwuL5sTgZG+0dUhCnJWDnYH7Lu7DE1/sZ01SHjMH9rB1SEKcM5kVUYhuyGzWlNfU\nk1ZYyZ++TCCruJqXrhsiiZfoVK4dEUqfADee/+4g9SazrcMR4pxJy5cQ3UxmcRU3v7uDwwWVjWUP\nTI1iRC8fG0YlxPmzMxr406X9mf/+Tv655hCPz+pv65CEOCeSfAnRjaQXVTHv7W2WrsZL+uPn5sCA\nIA8GBnvYOjQhWmRKvwB+N6on/91wGHuj4tZxEfi4Otg6LCHOSJIvIbqJAzll3Prez9Q0mPjkjtHE\nhHjaOiQhLphSiqevGEhpVT2v/pjKmxuOcOfE3tw7pQ/ODtKNLjomSb6E6OISskp5elUSO9KO4+vq\nwJI7RjMgSFq6RNdhZzTwn+uHc19OGW9uOMxr61P5+ehxPrhtJI52koCJjkeSLyG6oNoGE0t3ZLAm\nKZeth4vwcXXk8Vn9uXp4KP7ujrYOT4g2MSDIg3/PHcakfv489Ole/vDZPv7926GyDJbocCT5EqIL\nqGsw42BneXj5YG4Zty/eSWZxNf17uHP3pEjumhSJp7O9jaMUon3MGRZKdkkNL6xOJsTbmccukYH4\nomOR5EuITu7tn47wyg8pfHzHKFwd7bjhfzswGuDD20YyIUpm/hbd0+8nR5JZXM0bcYcZEOTBFUOC\nbR2SEI0k+RKiE0srrOSFNcnUNZiZ//5OqusacLI38vHtY+gT4Gbr8ISwGaUUz1w5kKScMhauTGR8\nH1mbVHQcMsmqEJ1UYUUtDy7dg6OdgfduvYjqugaGhHnx1X3jJPESAstA/H9cPZjymnru/GAnKcUm\nzGZt67CEkJYvITqjrJJqrvvvVgoranl13jCm9Atg51+m42RvkDXuhGiiXw93nrtqMM9+k8TOY/W8\nEr+GhVcM5OoRobYOTXRj0vIlRCfTYDLzwJI9lFbX89ndY5hhXdPO2cEoiZcQzbhmRCibHruY2wc5\nEBngxt++SiCntNrWYYluTJIvITook1nz48E8KmsbGssqahv44+f72HmsmEVzYhgc6mXDCIXoPNwc\n7RgfYs+r84Zh0pq5b23jkn//xPPfHSS/vMbW4YluRrodheiASqrqWLBkDxtTCgnxcuaeyZE4GA28\n/EMK2aXV3D81iiuHhtg6TCE6nTAfF/46O5qPt6Xj6WzPWz8dZnViLqsWjMfVUT4SRfuQO02IDugP\ny/ex/chxHprWl2/35/CXFQkAxIR48PLcocSGyyLYQrTU9aN6cf2oXgBsOVzI9f/bzrPfHOC5qwbZ\nODLRXUjyJUQHs/1IEWuT8vjDzH7cO6UP90/tQ1phJYUVdcT28pbZuoVoRWMj/bhzYm/e3HCEKf38\nG8dQCtGWZMyXEB2I1prnvjtIDw8n5o+LACzzFfX2d2NkhI8kXkK0gYen9yU6yIPHv9gv479Eu5Dk\nS4gOZGNKIfEZJTw4LQpnB1kQWIj24Ghn5JV5Q6msbeC293eSVljJyr3Z1NSbbB2a6KIk+RKinWit\nT5rgMeN4FR9tO8aGQwXUm8wAvBF3mB4eTlw1XOYgEqI99Qlw5/Xrh3Mgp4wpL8Zx/5I9PLwsXiZl\nFW1CxnwJ0Q7Kauq59b2fqak38d4tF+Hr5sh9n+xmb2YpAP0C3bkowputR4r4y2UDGhfJFkK0n6kD\nAnn75lh2pB3HqBSvrU/lPz1SWTA1ytahiS5Gki8h2lhtg4mb391BQlYpdgYDV/93C+P7+LM3s5Rn\nfxODt4sD//ftAZbvymRGdCDzRva0dchCdFtT+gUwpV8AWmtS8yt4a+MR5o+PkGkoRKtq0d2klAoD\nPgACAQ28pbV+WSnlA3wKhANHgeu01sXWY54AbgNMwP1a69UXHL0QncCqvTnsSS/h5blDCfNx4dFl\ne1myI50xvX25flRPlFLMiumBSWvsjdLiJURHoJTijom9+T4xly/2ZHHj6F62Dkl0IS1N5RuAR7TW\nu5VS7sAupdRa4BbgB63180qpx4HHgceUUtHAXGAgEAysU0r11VrLaEbRpWmteWdTGn0D3bhiSDBK\nKdY9PImdx4qJCnBrXA7IYFAYkCcZhehIhvf0YlCIJ+9vTuPaEaFsTztOQXkt18i6kOICtSj50lrn\nADnW78uVUgeAEOBKYLJ1t8VAHPCYtXyp1roWSFNKpQIjga0XErwQHVlFbQNfxWeRlFPG81cNOinR\nGhkhk6QK0dEppfj95Eju+Xg3017aQGaxZT1Ie6OSFSbEBVFaX9iTHEqpcOAnIAZI11p7WcsVUKy1\n9lJKvQZs01p/ZN32DvCd1np5M+e7E7gTIDAwcMTSpUsvKL6zqaiowM3NrU3rEB1Le1zz4hozT2+t\nobhWE+iieGacMw5GadmyNfn/3r219PrH5zfwbkIdQwOM5FaaSSs188w4Z3q4yjCBzqat3wOmTJmy\nS2sde7b9LmgEoVLKDfgceFBrXXbiL3sArbVWSp13Zqe1fgt4CyA2NlZPnjz5QkI8q7i4ONq6DtGx\ntPU1r20w8ds3t1Gr63j/1uGMjfSTpxc7CPn/3r219PpPBh64VqOUIr+8hgl/X8+eaj/+ftng1g5R\ntLGO8h7Q4k8EpZQ9lsTrY631F9biPKVUkHV7EJBvLc8CwpocHmotE6LL+WR7OvEZJbx47RAm9wuQ\nxEuILuBE40KAuxPXxoby5Z4s8stkNnzRMi36VLB2Kb4DHNBav9Rk00rgZuv3NwNfNSmfq5RyVEpF\nAFHAjpaFLETH1WAy886mNGJ7eXPpoCBbhyOEaAO3j+9NvdnMs98coLSqni2HC6mqa7B1WKITaWm3\n4zjgRmC/UireWvYn4HlgmVLqNuAYcB2A1jpRKbUMSMLypOS98qSj6Iq+S8gls7iav82OtnUoQog2\nEu7nyoIpfXjlx1RW7s0GILaXN4vnj5T5wMQ5aenTjpvgV5+Ln/orxywCFrWkPiE6A601b/10hN5+\nrkwbEGjrcIQQbejhGf0YHenLhuQCvFwceGH1QR5eFs+bN551rLUQMsO9EK1l25Hj7M8q5f/mDMJg\nkCcbhejqxkb6MTbSD4CK2npejztMfnkNAe5ONo5MdHQyEliIVvLWT4fxdXXgquEy/48Q3c2VQ0PQ\nGlYn5No6FNEJSPIlxAV47ccUvorPYmNKAeuTC7h5bDhO9kZbhyWEaGdRAW5E+rvy7X5JvsTZSbej\nEM3QWmPWYGzSfVhZ28A/1xxifJQvF/cPZE1iLi+uOQSAu5MdUQFu3DGht61CFkLYkFKKywYF8dr6\nVArKa/F3d7R1SKIDk5YvIZrxzKoDzH51E2azZZ7gitoGbn53B+9uTmP++zu54X/b+cuKBPoFunNx\n/wDqTWZemTcMZwdp9RKiu7piaDBmDZ/tygAsU8+8HpfKkYIKG0cmOhpJvkS3VlBey2/f3MrRwsrG\nMrNZs3JvFgdyythwqACAt386wq70Yl6eO5SHp/clr6yGqjoTz109iP/dFMu2J6YyIMjDVi9DCNEB\n9AlwZ2ykLx9tPUaDyczircf4x/fJ3PC/7eSWyoSs4heSfIlubdW+bLanHW+cqwcgPrOEwoo6AN7f\nchSA7xNyGRnuw5VDQ7h/ahRrH55EwlMzGd7TG4NB4eXiYIvwhRAdzM1jw8kureGfaw/x0ppkhoR5\nUVpdz10f7WpsSRdCki/Rra07kAfAppTCX8qS8jAaFPPHRbDhUAHfJ+SQnFfOzIE9bBWmEKKTmNo/\ngAg/V96IOwzAK3OH8uycGPZmlLBsZ4aNoxMdhQy4F91WaXU9248cx9neyO70YipqG3BztOOHA/mM\nDPfh3imRfBWfxX2f7AFgxkCZOFUIcWZ2RgPf3j+B3LIavJzt8XZ1oKePC59sT+cfq5O5dHAQHk72\ntg5T2Ji0fIlux2TWPLZ8Hw8u3UODWfP7yZE0mDXbjxSRcbyK5Lxypg4IwNfNkRevG0KDWRMT4kGo\nt4utQxdCdALODkYi/FzxdrUMR1BK8fis/hyvrGNdUp6NoxMdgSRfotvZkNnApzsz2JhSSJCnE7dP\n6I2jnYGNKYWN3ZAnlgea0i+Af147hL9eJms1CiFabliYNz08nFiTeObkK6e0mvUH89spKmEr0u0o\nurTqOhPvbk7j892Z3DI2nIlR/nyeUseY3r68edMIGkwaZwcjF/cP4IvdmURaJ0oM93NtPMfVI0Jt\n+AqEEF2BwaCYMTCQz3ZmUlNvwsneyPHKOrxd7FHql/kE//DZPjalFvLuLbFc3F+GOnRV0vIlurSn\nvk7khdXh6Rg/AAAgAElEQVTJmMyav32VyOQX46g1wZNXROPhZI+PtVvg3il9KKtpYE96CdOi5Q1P\nCNH6ZkT3oLrexJId6Sz6JokRz67lj8v3YbI+BZmYXcqm1EIc7Aw8+tk+CsprbRyxaCvS8iW6rNLq\nelbEZzFvZE8W/SaG5bsyOV5Vh1/VMfr3OHlOrpgQTy7uH8CPB/MbuxyFEKI1jertg7eLPU99nWT5\nOcKHz3Zl4mBnYNGcQbyzMQ0XByOL54/k2v9uZfmuTO6ZHGnjqEVbkORLdFlf7s6kpt7M9aN6YjAo\nrrsoDIC4uOYf9/7r7GiigzwY3tO7PcMUQnQT9kYDX/5+HGlFlfi7ORIT4snClYl8sPUo06IDWbk3\nmxtG9+KicB8GhXiy7kCeJF9dlHQ7ii7JbNZ8tD2dIaGexIR4ntMxEX6uPDqz30nrOQohRGsK93Nl\nSr+Axvel30+OxM5g4K4PduFoZ+DeKX0AmDoggN3pxRRWSNdjVyTJl+gytP5l9ujluzNJza9g/vgI\nG0YkhBBnFuDhxNUjQqkzmbl7UmTjgtzTBgSiNfLkYxclyZfoEr7YncnQp9fy8roUCspreWF1MsN6\nenHFkGBbhyaEEGf00LQo7prUm9sn9G4sGxjsQZCnEyvis076w1J0DZJ8iU7v4+3HeHjZXpzsDfxr\n3SFG/d86jlfW8bfZ0Sc9wi2EEB1RgIcTT8wagLODsbFMKcXtE3qzObWIL3Zn2TA60RZkwL3o1BpM\nZl5ff5jYXt4suXM0725Ko6C8lusuCqNvoLutwxNCiBa7ZWw43yfksPDrRKZFB+LpLMsSdRXS8iU6\nhdT8Ct7fnHZa8/u6A3lklVRzx8Te2BsN3DUpkr/MjpbESwjR6RkNikdm9KO8poEdacdtHY5oRZJ8\niU7hpbXJLPw6iU92pJ9UvnjLMUK8nGVuLiFElzQ0zAsHOwM70opsHYpoRZJ8iQ6vvKaedQfycTAa\neGZVEj8dKgAgq6SarUeKmDcyTKaHEEJ0SU72RoaGeUnLVxcjyZfoULTW/HjQ0pV4wvcJudQ1mHnt\nd8Po4eHETe/u4M9f7ue7/TkAzB4sTzQKIbquURE+JGSXUVHbYOtQRCuR5Et0KJtSC5n//k6mvBDH\nmxsOA/BVfDa9fF2YHh3I9w9O5MbRvfh4ezr/3XCEgcEeJy2CLYQQXc3ICB9MZs3uY8W2DkW0Enna\nUdhUSVUdC1cmUm/SjI/yY8mOdEK8nOkb6MYLq5Pp28OdTamFPDy9L0opnOyN/PmyAcQdyifjeDXz\nx4fb+iUIIUSbGt7TG3uj4rUfUxkU4om3q4OtQxIXSFq+hE2tT85nRXw2u9OLeeKL/ezLLOWBaVE8\nO2cQAPd8tAsXByM3ju7VeIyTvZFnrozB391RJlEVQnR5ro52/OOawcRnlHDDO9tl0tUuoMXJl1Lq\nXaVUvlIqoUnZQqVUllIq3vp1aZNtTyilUpVSyUqpmRcauOgaErLKcLI3sPGPU3jx2iHcNKYXVw0L\nIcTLmSuGBFNTb2beyJ6n/aU3uV8AP/95GqHeLjaKXAgh2s+cYaH86dL+JGaXkVZYaetwxAW6kJav\n94FLmin/l9Z6qPXrWwClVDQwFxhoPeZ1pZSxmWNFN5OQVcqAIA/sjAauGRHK01fGYGe03JYLpkYx\nsa8/d03sfZazCCFE1zfVOqXOBusT36LzanHypbX+CTjXZ1+vBJZqrWu11mlAKjCypXWLrsFs1iRl\nlzEw2KPZ7RF+rnwwfyQBHk7tHJkQQnQ8YT4uRPi5Nk6309S7m9L464qEM3ZJ1pvMbRmeOA9tMeB+\ngVLqJmAn8IjWuhgIAbY12SfTWnYapdSdwJ0AgYGBxMXFtUGIv6ioqGjzOkTz8qvMlNc2YF+eS1xc\n+00gKNe8+5Jr3711hevf26WWjamV/PHdNQS4GIjtYceao/V8crAOAN+6XIYGnPzRbjJrPk+pZ82x\neh4f6UQfr+7b8dRR7oHWTr7eAJ4BtPXffwLzz+cEWuu3gLcAYmNj9eTJk1s5xJPFxcXR1nWI5n2z\nLwfYzdUXjyQmxLPd6pVr3n3Jte/eusL1NwXm8cPinSw7VI9BwRX4suJgNjMHBpKcW87XGYo0syej\nInz53aiemMyaez/ezfdpuRgNioQaH26fPMzWL8NmOso90KpPO2qt87TWJq21GXibX7oWs4CwJruG\nWstEN5aYXYq9UREV6GbrUIQQolOY1Nefp64YyJe/H8uQMC9WxGczZ1gIr84bzqMz+3G4oJKVe7N5\nelUiuaU1/O2rBL5PzOUvlw3g+lE9+TYhl5KqOlu/jG6vVVu+lFJBWusc649zgBNPQq4EPlFKvQQE\nA1HAjtasW3QupVX1LNuZybCe3jjadd8mcCGEOB92RgM3jw0H4P1bR7L9SBHTBgRiMChmDw6ml48r\nzg4GZr28kd/8ZzO5ZTXcNak3t0/oTVJ2GR9sPcZnOzO5Ymgw9368m3un9GFK/wDbvqhuqMXJl1Jq\nCTAZ8FNKZQJPApOVUkOxdDseBe4C0FonKqWWAUlAA3Cv1tp0YaGLzuzZb5IorqrjycsvsnUoQgjR\nKXk62zNjYI+TygaFWoZwXD+qF+9vOcr9U6N4aFoUANHBHozr48sLa5L5fHcmB3PLeXJlIuP6+OFg\nJ9N+tqcWJ19a63nNFL9zhv0XAYtaWp/oXMxmjeFXFrs+XFDBZ7syuXtSJAOD22+slxBCdBd/unQA\n14wIPW087WvzhvPbt7ZyMLeca0eE8tmuTD7dmXHSRNai7cnyQqJVrU3K45UfUjhaWMkHt43ki91Z\nJOeV887Nsbg72QOwbGcGRoOSpYGEEKKNONgZmn2QydvVgaV3jmF/VikTo/w4VlTFKz+kcPXwEFwc\nJCVoL9LOKFpNWU09Dy7dQ2VtAx7O9lz35lY+3HaMHWnHWbBkDw0mM/UmM5/vyuLi/gEEuMv8XUII\n0d58XB2Y1NcfpRR/vKQfBeW1vLf56BmPWZ2YS2p+efsE2A1I8iVazac7MqisM/HKvGF8cNtI/N0c\nuWtSbxbNiSEuuYA3fzrCN/tyKKyo5bexYWc/oRBCiDYVG+7DtAEB/HfD4V99CrKitoF7P97NU18n\ntXN0XZe0MYpWkV1SzftbjjIywqexqXvz4xejlGXc15bDRfx73SGMBsWgEE8m9/O3ZbhCCCGsHp3Z\nj1kvb+SNDYd5YtaA07ZvO1xEg1mzObWQ/LIaWXWkFUjLl7hgL61JZuzzP5JdWs3vJ0c2lp9IvACe\nuTIGT2cHgj2dee/WixrXbxRCCGFb/Xt4MGdoCO9vPkpuaQ3ZJdU8990BskqqAdiYUoC9UWHWsHJv\nto2j7Rqk5UtckPiMEl5bn8plg4J4eEZfIv2bnzDVx9WB7x+cgLO9EVdHue2EEKIjeWh6X77el82M\nf22gwaypqjNhMmn+MjuajSmFjO/jR2FFHSvis7h9Qm9bh9vpSfODaFZWSTUZx6vOuI/JrHn8830E\nuDvx/NWDfjXxOsHPzVESLyGE6IDCfFx475aRXDY4iFkxQQzr6cW6A3lkHK/iSGElE6L8mToggISs\nMqrrZJrOCyWfhKJZd3+4i5zSar69f8Kv9u9/FZ/Fwdxy/vO74Y3TSAghhOicxkf5MT7KD4APtx3j\nrysSeHpVEkrB5H7+7M8qBSCjuIq+ge62DLXTk5YvcZqM41XszyqlsKKOeW9v46JF67h98U7yymoa\n92kwmXn5hxQGBHkwK6bHGc4mhBCis5lqXXJobVIe140Io7e/Gz19XAA4VnTmXhFxdpJ8idOsTswF\n4IGpUWQUVzMw2IONKQVM+Md67vpwJzml1Szflcmxoioemhb1qzPZCyGE6JyCvZwZGOyBu6Mdf7ik\nHwC9fF0BOFZUacvQugTpdhSnWZ2Yy4AgDx6a3pcHp0WhlCKtsJIPth7l058zeGBJPGlFlQzv6cX0\n6EBbhyuEEKINvHTdUKrqGvBzcwTA28Ued0c70s8yHlicnSRf3ZDJrHn+uwOs2pdDdJAH79xyETvS\njpN+vIrk3DJ2Hivmwal9gV+mi4jwc+XJywfSv4c7j32+H4A3bxxx0nQSQgghuo5+PU4e16WUoqev\ni3Q7tgJJvrqhLYcLeXtjGpH+rvxwMJ+v4rN49LO91Js0RoPi8sHB3DIuvNljr4sNIz6jFHcnO4b3\n9G7fwIUQQthUL18XDuTIMkMXSpKvbmjV3hxcHYwsu2sMk1+I4+Fle3G0M/Dl78cQ5OmEr7WJuTlK\nKZ67alA7RiuEEKKj6OnjytqkPExmyx/romVkwH03U28y831iLtOjA/F1c2TeqJ6YzJq7JkYSE+J5\nxsRLCCFE99bL14V6kybbOvv9CUcLK3nu2wM8uHQPu9OLbRRd5yEtX93MptRCSqvrmT04GIB7JkXi\n6mDHnRNlxmIhhBBn1ss63UT68SrCrN8DvLgmme8ScnF1MLJqXw4PTe/L7RMicLQz2irUDk2Sr25m\nXVIerg5GJvS1TKTn7erAA9OibByVEEKIzqBPoGUlkx1pxxnXx/I5YjJrNqYUMmdYCH+9LJrHv9jH\nC6uT+fTnDP54ST+KK+tIyCrD29WBeyZF4unyy6Tcu9OLKaqo63ZPzkvy1c1sTClkTKSv/DUihBDi\nvAW4OzEhyo/PdmZw/9QojAbF3swSSqvrmdTXH08Xe964YQQ/HSrg2W+SuO+TPQD4ujpQXFVHWU09\n/zfHMm54+5Eibnp3Bwal2PvkDBzsus9IqO7zSpsRn1FCaknnWaOqtKqeF1cnU1pd36LjjxVVkn68\niglR/q0cmRBCiO5i7kU9yS6t4aeUAgA2JBdgUDDe2hIGMLGvP9/eP4E3bxzByvvGseuv07lpTDhL\nd6STnFtOUUUtd3ywE3ujgep6E3szS9os3hV7snhg6R7Ka1r22dkWunXy9djyfaxI6RgXIzW/gora\nhtPK6xrMjf/e/dEuXlufyjf7ck7a57nvDjD3ra2YzfqMdfyUUgjAhCi/M+4nhBBC/Jrp0YH4ujrw\n8bZjAMQdKmBImBferg4n7WdnNDBzYA8Gh3oBllVT3BztePyLfby4JpnKOhOL51+EUrD1cFGbxKq1\n5q2fjpCUXYabY8fp7OvWydeo3j6klJioN5ltGkdeWQ2XvrKRF1cnn1S+fFcmg59azfcJOTy0LJ6t\nR4pwtDOw7cgvN2lhRS3vbT7KtiPHWbk3+4z1bEopIMTLmQg/1zZ5HUIIIbo+BzsDN40JZ92BfP6z\nPpW9GSVcMvDsa/x6uzrw96sHE59RwpIdGVwXG8aIXj4M6OHRZsnX9rTjJOWUMX98RIeaFLxbJ1+j\ne/tSa6JxpfbWlpRdhuksrVEA7285Sl2DmbVJeWht2d9k1rz6Ywo19Wbu/mg33+zL4U+X9mfmwB5s\nO1LUuN8HW49RbzLTy9eFf65NbmwpW5eUx7jnf+TLPZkA1DaY2JxaxMS+/h3qBhRCCNH53DYhAl9X\nB15YnUyEnys3jw0/p+NmDQriydnRRPi58qD1Ya8xkb7sSi+mpv7chwEtXJnIje9sb7bH5+mvkxj6\n9Boue2Ujf/piP94u9swZFnLO524P3Tr5GhnhA8D2I8db/dyZxVVc9upG3tucdtq2BpOZpTvSyS+v\nobK2gY+3HcPd0Y6skmpS8isAy/qKx4qqeO6qQVw6qAcvXjuEOydGMrq3L/nltRwprOR4ZR0fbj3K\n1P6B/G12NBnHq4lLzuf7hBxu/2AnuWU1PP11EqVV9WxKKaSitoGZA7vXEyVCCCFan5ujHQ9N74vR\noHj2NzE42Z/7Q1y3jItg/aOTCfRwAmBMb1/qGswn9eqcSWlVPZ/sSGdjSiFLfk4/aZvWmlX7svF1\ndcDXzZGymnrunhR5XvG1h47TAWoDfm6OBLsqtqcVcc/kyFY994GccrSGJTvSue2U5s4V8dk8/sV+\nevq40MPDibKaBt64fjj3fLybHw7k0zfQnXc2pdHL14XrYsOYN7Jn47FjIn0B2JRSyMaUAiprTTw8\nvS+RAa442BnYnnac7JJqgjydeP364Vz9xhb+uTaZyloT7k52jI2U8V5CCCEu3A2je3HZoKDTxnqd\nr/FRfvi5ObB4y1Em9ws46/5f7c2irsFMb39X/v7dQab2D6SHpyWRyymtIb+8lt9PjuSWcREXFFdb\n6tYtXwD9fYxsP3KchSsTT5ux90KkWluwDhdUnjTbr8mseT0ulXBfF8pq6knMLuVfvx3CrEFBRAd5\n8MOBPFLyytl1rJgbRvU6bfmGcF9LwvbkykTWHcjniUv7Ex3sgaOdkWFhXmw9XMSWw0VMiPJjWE9v\nbh4bzgdbj7FybxbTowO71aO8Qggh2taFJl4ATvZGbhwdzvrkgsbPzjP59OcMBgZ78PZNsZjMmjs/\n3NnYZbkn3fLU5LAOvvZwt/8kHhNsR4i3Mx9vP8aTKxNP2rYppZD7PtlNQwsG5Kfkl+Pr6oCrg5El\nOzIay1fty+ZIQSV/mNmf1Q9OZP2jk5kzLBSAK4YGs/NYMX/8fB92BsWc4af3USuleP2G4Tw+qz8v\nXDOYW5r0s4/q7UtSThml1fWNk9/9+dIBzIgOpN6kuTQm6LxfhxBCCNHWrh/dEwc7A//dcPiM+322\nM4PE7DLmjexJpL8bL88dxv6sUl5aewiAPenFONgZGBDk0R5ht1iLky+l1LtKqXylVEKTMh+l1Fql\nVIr1X+8m255QSqUqpZKVUjMvNPDWEuVtZN3Dk7hnUiTrDuRxpMCSdeeV1bBgyW5W7ctpHId1PlLz\nK4gO9uA3w0JYGZ9NflkNSdll/PnLBGJCPLgkpgeBHk4EWPu8AW4dF07fQDf2pJcwbUAgfr+yzuLw\nnt7cPSmSa2PDTurOHG0dwwY0di/aGQ28+rthfHLHKKYOOHtzrhBCCNHe/NwcuXVsOMt3ZTY79ut3\nb29j6j/j+OtXCYzp7ds4HGdadCAzogP5Kj4Ls1kTn1FCTLBHh+/luZDo3gcuOaXsceAHrXUU8IP1\nZ5RS0cBcYKD1mNeVUh1q9NuNY8KxNxr436Y0zGbNw8viKa+xzLu1P/P8nobUWpOaX0Gkvxt3TuxN\ng9nMU18ncct7O3BztOPtm2KbXQ3e0c7IP64ZgpujHTeN7XXer2FYT2/sjYr+Pdzxd/8lcXO0MzI2\n0k+echRCCNFhPTitLz19XHjo03heWpPM8co6AA4XVLDlcBENZk2otwsvzxt60mfopYOCyCurZduR\nIvZnlXb4Lke4gORLa/0TcOpjglcCi63fLwZ+06R8qda6VmudBqQCI1tad1vwd3fkuthQluxI5+6P\ndrE5tYinr4zB3dGu2Zl3tdaNNwZY5tt6+uskquoayC6toarORFSgG718XZk9OJhv9lsmRv3gtpEE\neTr/ahxDw7zYv3BGiwbGOzsYuXtSpCySLYQQotNxdjDy8tyh+Lk58tr6VB5eFo/WmtWJuQAsuWM0\n6x6eRIC700nHTR1gGc987ye7qW0wM+UcBu3bWms/7RiotT4x/XoucGJegxBgW5P9Mq1lHcpfLosm\nObecNUl5zIrpwbyRYazal93sPGALVyby6c4Mvr5vPFGB7ry3OY13N6cxvJdX4yy6ffwtC5A+OqMf\nDnYGHpgaddIq8L/mQlqoHpnRr8XHCiGEELY0rKc3Xy8Yzzub0nhmVRJf78thdWIeQ0I9CfZqvuHC\nzdGOSX39WZuUx50TezO+E6ziok5M1tmig5UKB1ZprWOsP5dorb2abC/WWnsrpV4DtmmtP7KWvwN8\np7Ve3sw57wTuBAgMDByxdOnSFsd3LioqKnBzc2v8ubJesyGjnklh9rjaK5Yl17H6aD2vT3Vhd76J\n/YUmenkYWHqwDg1Eehp4YpQTj26opqRWMzHUjiBXA58m1/HqxS64O0hXX0dz6jUX3Ydc++5Nrn/n\nYdaaZ7bWcLTMjAauibJnduSvP1mZWW5mV14Dl0faYzhDA0Zb3wNTpkzZpbWOPdt+rd3ylaeUCtJa\n5yilgoB8a3kWENZkv1Br2Wm01m8BbwHExsbqyZMnt3KIJ4uLi+PUOi5r8n2Vbw7fpu3mmV2azOJa\nHO0MbMluIMjTifsu7sOfv0zg1QMOlNRW4evqQGq5gWLtSJ8ABy6fMalNYxct09w1F92DXPvuTa5/\n5zJ0ZB3vbU5jY0ohD109nJBfafk64YZzOGdHuQdaO/laCdwMPG/996sm5Z8opV4CgoEoYEcr190m\nhoRZGvLKaxp4dd4wpkcHsmJPFtHBHgwK8aS4so5/rUvBz82BBRdH8eTKRLJLa3j2NzE2jlwIIYTo\nvHxcHXhkRr8uOZymxcmXUmoJMBnwU0plAk9iSbqWKaVuA44B1wForROVUsuAJKABuFdrfe6LONlQ\niJcz79wcS/8gj8ase26TGefvuziKqQMC0drS7/wkiXg42XFVM3N0CSGEEEK0OPnSWs/7lU1Tf2X/\nRcCiltZnS