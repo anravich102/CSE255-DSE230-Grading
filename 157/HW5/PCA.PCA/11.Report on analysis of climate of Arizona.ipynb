{
 "cells": [
  {
   "cell_type": "code",
   "execution_count": 3,
   "metadata": {
    "run_control": {
     "frozen": false,
     "read_only": false
    },
    "scrolled": false
   },
   "outputs": [
    {
     "name": "stdout",
     "output_type": "stream",
     "text": [
      "![square.png](p_figures/square.png)\n"
     ]
    }
   ],
   "source": [
    "L=!ls p_figures/\n",
    "for l in L:\n",
    "    print \"![%s](p_figures/%s)\"%(l,l)"
   ]
  },
  {
   "cell_type": "code",
   "execution_count": 4,
   "metadata": {
    "collapsed": true,
    "run_control": {
     "frozen": false,
     "read_only": false
    }
   },
   "outputs": [],
   "source": [
    "!open p_figures/square.png"
   ]
  },
  {
   "cell_type": "markdown",
   "metadata": {
    "run_control": {
     "frozen": false,
     "read_only": false
    }
   },
   "source": [
    "# Arizona Weather Analysis\n",
    "\n",
    "This is a report on the historical analysis of weather patterns in an area that approximately covers part of the eatern region of california and western region of Arizona(with Phoenix as the major hub) as shown by the figure below.\n",
    "\n",
    "<p><img src=\"p_figures/square.png\" style=\"height:300px; width:800px\" /></p>\n",
    "\n",
    "The data we will use here comes from [NOAA](https://www.ncdc.noaa.gov/). Specifically, it was downloaded from This [FTP site](ftp://ftp.ncdc.noaa.gov/pub/data/ghcn/daily/).\n",
    "\n",
    "We focused on six measurements:\n",
    "* **TMIN, TMAX:** the daily minimum and maximum temperature.\n",
    "* **TOBS:** The average temperature for each day.\n",
    "* **PRCP:** Daily Percipitation (in mm)\n",
    "* **SNOW:** Daily snowfall (in mm)\n",
    "* **SNWD:** The depth of accumulated snow.\n",
    "\n",
    "## Sanity-check: comparison with outside sources\n",
    "\n",
    "<p>We start by comparing some of the general statistics with graphs that we obtained from a site called <a href=\"http://www.usclimatedata.com/climate/boston/massachusetts/united-states/usma0046\" target=\"_blank\">US Climate Data</a> The graph below shows the daily minimum and maximum temperatures for each month, as well as the total precipitation for each month.</p>\n",
    "\n",
    "<p>&nbsp;</p>\n",
    "\n",
    "<p><img src=\"p_figures/climate.png\" /></p>\n",
    "\n",
    "<p>&nbsp;</p>\n",
    "\n",
    "<p>We see that the min and max daily&nbsp;temperature agree with the ones we got from our data in Centigrate.</p>\n",
    "\n",
    "<p>&nbsp;</p>\n",
    "\n",
    "<p><img src=\"p_figures/temperatureData.png\" style=\"height:300px; width:800px\" /></p>\n",
    "\n",
    "<p>To compare the precipitation we look at the distribution of the rainfall over all the months in general. We see that the shape of the curve matched exactly with that obtained with our data. The highest amount of precipitation is in the end of July to beginning of August time frame. Comparing the recorded values for rainfall, we observe that our data records around 10 mm less rainfall uniformly. This could be strongly because the data also includes parts of Arizona that do not experience much rainfall and parts of California which are comparitively dry, thus lowering the mean precipitation.</p>\n",
    "\n",
    "<p>&nbsp;<img src=\"p_figures/precipitation.png\" style=\"height:450px; width:600px\" /></p>\n"
   ]
  },
  {
   "cell_type": "markdown",
   "metadata": {
    "run_control": {
     "frozen": false,
     "read_only": false
    }
   },
   "source": [
    "## PCA analysis\n",
    "\n",
    "For each of the six measurement, we compute the percentate of the variance explained as a function of the number of eigen-vectors used.\n",
    "\n",
    "### Percentage of variance explained.\n",
    "![VarExplained1.png](p_figures/tempVariance.png)\n",
    "We observe an uneven rise and drop in the graphs for TMIN, TOBS and TMAX. This is due to the presence of negative eigen values for these measurements, which result when the covariance matrix is non-positive semi-definite. We defer the analysis of this to further sections.\n",
    "\n",
    "\n",
    "![VarExplained2.png](p_figures/prcpVariance.png)\n",
    "\n",
    "The top 5 eigenvectors explain 13% of the variance for PRCP, which is a low value. The top 5 eigen values for SNOW explian 50% of the variance. However, the top 5 eigenvectors explain %95 of the variance for SNWD. This means that these top 5 eigenvectors capture most of the variation in the snow signals. Based on that we will dig deeper into the PCA analysis for snow-depth.\n",
    "\n",
    "It makes sense that SNWD would be less noisy than SNOW. That is because SNWD is a decaying integral of SNOW and, as such, varies less between days and between the same date on diffferent years."
   ]
  },
  {
   "cell_type": "markdown",
   "metadata": {
    "run_control": {
     "frozen": false,
     "read_only": false
    }
   },
   "source": [
    "## Analysis of snow depth\n",
    "\n",
    "We choose to analyze the eigen-decomposition for snow-depth because the first 5 eigen-vectors explain over 95% of the variance.\n",
    "\n",
    "First, we graph the mean and the top 5 eigen-vectors.\n",
    "\n",
    "We observe that the region does't have snow over the major portions of the year. There is intermittent snow recorded in the mid-November to end-of-January period.\n",
    "![SNWD_mean_eigs.png](p_figures/snwd.png)"
   ]
  },
  {
   "cell_type": "markdown",
   "metadata": {
    "run_control": {
     "frozen": false,
     "read_only": false
    }
   },
   "source": [
    "Next we interpret the eigen-functions. We observe that none of the them stand out in terms of explaining the ditribution of SNWD in terms of its mean. **eig1** mostly agrees with the time period over which there is 0 snowfall (all the colours all overlapping at the 0 mark due to which we cannot clearly differentiate between them) and says that the snow is lesser than its mean in the mid-Decemeber period.\n",
    "**eig 2** agrees with the mean in terms of the snow in mid-January, **eig 3** says that the snow in mid-November is lesser than the mean, **eig 4** seems to exactly coincide with the mean snowfall in beginning of February and **eig 5** exactly coicides with the mean snowfall at the end of January.\n",
    "\n",
    "Overall, we can say that the top eigen functions collectively agree to the fact that there is no snow in the March to November period, which is in agreement with the mean. Individually, they explain the increase or decrease of snow in certain time periods as mentioned above with respect to the mean.\n"
   ]
  },
  {
   "cell_type": "markdown",
   "metadata": {},
   "source": [
    "### Plotting stations with non-zero SNWD\n",
    "\n",
    "On plotting the stations which report a non-zero value for SNWD, we observe that only 11 stations feature in this list with a total of 23 measurements. These stations are distributed sparsely throughtout, with the station having 7 observations located in the top-left corner of the region (in California). Moreover, the colors of the colors correspond to different values of coeff_1.\n",
    "\n",
    "![SNWD_grid_Pos_coeff1.png](p_figures/snwdStations.png)"
   ]
  },
  {
   "cell_type": "markdown",
   "metadata": {
    "run_control": {
     "frozen": false,
     "read_only": false
    }
   },
   "source": [
    "### Examples of reconstructions\n",
    "\n",
    "\n",
    "#### Coeff1\n",
    "Coeff1: most positive\n",
    "![SNWD_grid_Pos_coeff1.png](p_figures/cf1_pos.png)\n",
    "Coeff1: most negative\n",
    "![SNWD_grid_neg_coeff1.png](p_figures/cf1_neg.png)\n",
    "Large positive values of coeff1 correspond to high amounts of snow. Low values correspond to snow in Decemeber.\n",
    "\n",
    "#### Coeff2\n",
    "Coeff2: most positive\n",
    "![SNWD_grid_Pos_coeff2.png](p_figures/cf2_pos.png)\n",
    "Coeff2: most negative\n",
    "![SNWD_grid_neg_coeff2.png](p_figures/cf2_neg.png)\n",
    "\n",
    "\n",
    "\n",
    "Large positive values of coeff2 correspond to a early snow season. Negative values for coeff2 do not seem to correspond to a pattern.\n",
    "\n",
    "Moreover, the above data was taken after filtering out residuals < 1.0 as adding a smaller filter than 1 did not account for more than 1 station in a few cases and did not allow us to see a pattern. However, overall we can say that the high variance explained in case of SNWD is due to the fact that most of the stations (by a large margin) have 0 values recorded for this measurement and our eigen functions are largely predicting this 0 value.\n",
    "\n",
    "Below graph shows that more than 50% is the data has a res_2 value of 1, which supports the above claim.\n",
    "\n",
    "![SNWD_grid_neg_coeff2.png](p_figures/CFD_res2.png)\n",
    "\n"
   ]
  },
  {
   "cell_type": "markdown",
   "metadata": {},
   "source": [
    "## Analysis of Temperature (TMAX, TMIN, TOBS)\n",
    "\n",
    "We choose to analyze and understand the rise and dip in the graphs for TMAX, TMIN and TOBS for the Percentage of variance explained.\n",
    "Upon further study it can be seen that the eigen values corresponding to the dip are negative, which resulted from the fact that the covariance matrices for these measuremets were not positive semi-definite.\n",
    "\n",
    "Several reasons can cause the covariance matrix to be semi-definite such as, errors in calculations, linear dependency between the dimensions, too many NANs etc.\n",
    "\n",
    "So we study the number of valid counts for each of these measurement as follows:\n",
    "\n",
    "![SNWD_grid_Pos_coeff1.png](p_figures/validTEMP.png)\n",
    "\n",
    "From the above plots we can clearly see a big drop in the number of valid counts in the data for the time period around July, when this region expriences maximum temeratures. To confirm this we plotted the time series data for 10 random years\n",
    "\n",
    "![SNWD_grid_Pos_coeff1.png](p_figures/temp10.png)\n",
    "\n",
    "\n",
    "We can clearly see that during the data cleaning process, the values above temeratures of about 42 degree Celcius for TMAX, about 26 degree Celcius for TMIN and 39 degree Celcius for TOBS, which occur in the July time-frame, were marked as NAN. This lead to the negative eigen values for these measurements. \n",
    "\n",
    "For further valid analysis on temperature, we may need to tune the data cleaning parameters specifically to this region as it has higher temperatures compared to majority of the regions in the USA. We also learn that these high temperatures were strong factors in accurately reconstructing our temperature measurments."
   ]
  },
  {
   "cell_type": "markdown",
   "metadata": {
    "run_control": {
     "frozen": false,
     "read_only": false
    }
   },
   "source": [
    "## Analysis of Precipitation\n",
    "\n",
    "We choose to analyze precipitation as the mean precipitation pattern matches very closely with the actual levels of precipitation and Arizona is expected to show good trends in terms of rainfall.\n",
    "\n",
    "We plot the correlation between the stations in terms of precipitation as shown below:\n",
    "\n",
    "![SNWD_grid_Pos_coeff1.png](p_figures/rain1.png)\n",
    "![SNWD_grid_Pos_coeff1.png](p_figures/rain2.png)\n"
   ]
  },
  {
   "cell_type": "markdown",
   "metadata": {},
   "source": [
    "Consider the upper left square of the first matrix. The stations at positions 0-75 are clearly strongly correlated with each other. Within these, we see that there are some stations, in positions 0-45 or so, which are more related to each other than to the rest of this block.\n",
    "\n",
    "The lower right region of the first matrix also shows some correlation, with the stations at positions 140-159 being more closely correlated with each other than the rest.\n",
    "\n",
    "The same correlation is less visible in the other matrices, though such a trend is present in all of them. We clearly expect around 40% of the stations to be correlated with each other.\n",
    "\n",
    "We plot these stations on a graph to see their spatial relationship with each other."
   ]
  },
  {
   "cell_type": "markdown",
   "metadata": {},
   "source": [
    "\n",
    "![SNWD_grid_Pos_coeff1.png](p_figures/rainDistribution.png)\n",
    "\n",
    "\n",
    "We can clearly see that the large number of stations are densely located in Phoenix. This prompts us to explore if precipitation is spacially or temporaly related in this region."
   ]
  },
  {
   "cell_type": "markdown",
   "metadata": {},
   "source": [
    "\n",
    "## The variation in the timing of precipitation is mostly due to year-to-year variation\n",
    "Here we estimate the relative importance of location-to-location variation relative to year-by-year variation.\n",
    "\n",
    "These are measured using the fraction by which the variance is reduced when we subtract from each station/year entry the average-per-year or the average-per-station respectively. Here are the results:\n",
    "\n",
    "** coeff_1 **  \n",
    "total RMS                   =  126.785315693  \n",
    "RMS removing mean-by-station=  105.654495455, fraction explained = 16.67%  \n",
    "RMS removing mean-by-year   =  47.0170780143, fraction explained = 62.92%  \n",
    "\n",
    "** coeff_2 **  \n",
    "total RMS                   =  87.1850363857  \n",
    "RMS removing mean-by-station=  84.3939920488, fraction explained = 3.2%  \n",
    "RMS removing mean-by-year   =  45.3673615536, fraction explained = 47.96%  \n",
    "\n",
    "** coeff_3 **  \n",
    "total RMS                   =  87.4634462146  \n",
    "RMS removing mean-by-station=  81.2733284255, fraction explained = 7.07%  \n",
    "RMS removing mean-by-year   =  44.8067267246, fraction explained = 48.77%  \n",
    "\n",
    "\n",
    "We see that the variation by year explains more than the variation by station. Looking at the values for fraction explained, we can say that coeff_1 is more related to the timing of rainfall compared to coeff_2 and coeff_3.  The explanantion provided by station-to-stations is very less, in the range 7%-17%, which clearl shows that precipitation is more of a temporal feature as opposed to a spatial one."
   ]
  },
  {
   "cell_type": "markdown",
   "metadata": {
    "collapsed": true,
    "run_control": {
     "frozen": false,
     "read_only": false
    }
   },
   "source": [
    "To visualize the observation made above, we plot the mean precipitation for 10 randomly chosen stations.\n",
    "\n",
    "Relationship between the stations:\n",
    "![SNWD_grid_Pos_coeff1.png](p_figures/timeseriesPRCP.png)\n",
    "\n",
    "\n",
    "We see very less overalap between the timings in precipation, which is due to the year-to-year variation."
   ]
  }
 ],
 "metadata": {
  "anaconda-cloud": {},
  "kernelspec": {
   "display_name": "Python [conda root]",
   "language": "python",
   "name": "conda-root-py"
  },
  "language_info": {
   "codemirror_mode": {
    "name": "ipython",
    "version": 2
   },
   "file_extension": ".py",
   "mimetype": "text/x-python",
   "name": "python",
   "nbconvert_exporter": "python",
   "pygments_lexer": "ipython2",
   "version": "2.7.12"
  },
  "toc": {
   "colors": {
    "hover_highlight": "#DAA520",
    "running_highlight": "#FF0000",
    "selected_highlight": "#FFD700"
   },
   "moveMenuLeft": true,
   "nav_menu": {
    "height": "12px",
    "width": "252px"
   },
   "navigate_menu": true,
   "number_sections": true,
   "sideBar": true,
   "threshold": 4,
   "toc_cell": false,
   "toc_section_display": "block",
   "toc_window_display": false
  }
 },
 "nbformat": 4,
 "nbformat_minor": 2
}
