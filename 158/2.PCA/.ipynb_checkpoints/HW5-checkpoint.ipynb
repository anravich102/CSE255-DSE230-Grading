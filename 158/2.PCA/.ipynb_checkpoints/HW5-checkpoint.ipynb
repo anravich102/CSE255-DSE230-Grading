{
 "cells": [
  {
   "cell_type": "markdown",
   "metadata": {},
   "source": [
    "# Weather Analysis\n",
    "This is a report regarding the weather condition in the certain area. My file index is 'SSSSBSSB'. There are six features for measurement in the dataset:\n",
    "    - TMIN: the daily minimum temperature\n",
    "    - TMAX: the daily maximum temperature\n",
    "    - TOBS: the daily average temperature\n",
    "    - PRCP: the daily percipitation (in mm)\n",
    "    - SNOW: the daily snowfall (in mm)\n",
    "    - SNWD: the depth of accumulated snow (in mm)\n",
    "\n",
    "The area locates in (32.1794, -110.736) which is near Tucson, Arizona. Here is the temperature and percipitation refered from [U.S. climate data](http://www.usclimatedata.com/climate/tucson/arizona/united-states/usaz0247).\n",
    "<img src=\"Figures/Tucson.png\" width=\"500\">"
   ]
  },
  {
   "cell_type": "markdown",
   "metadata": {},
   "source": [
    "# Basic Analysis using Mean and Std\n",
    "In this section, analyze the distribution of these six features using their mean and standard deviation. In this way, we can have a basic view of the weather in this area.\n",
    "\n",
    "## Temperature\n",
    "This figure shows the daily temperature in the area all year long. The area get a high temperature in the summer and a relatively row temperature in winter which satisfies the data in U.S climate data.\n",
    "![percipitation](Figures/TMIN+TMAX_mean_std.png)\n",
    "## Percipitation\n",
    "This figure shows the daily percipitation in the area all year long. Most of the percipitation concentrates in the summer while little percipitation is in spring. It accords with the figure in U.S. climate data. In addition, the standard deviation also increases as the mean increases.\n",
    "![percipitation](Figures/PRCP_mean_std.png)\n",
    "\n",
    "## Snow\n",
    "This figure shows the daily perception in the area all year long. This area rarely snow, even in the winter. It satisfies the common sence according to the low latitude of the area.\n",
    "<img src=\"Figures/Snow_mean_std.png\" width=\"800\">"
   ]
  },
  {
   "cell_type": "markdown",
   "metadata": {},
   "source": [
    "# PCA Analysis\n",
    "For each of the six measurements, we compute the percentate of the variance explained as a function of the number of eigenvectors used.\n",
    "## percentage of variance explained \n",
    "<img src=\"Figures/temperature_variance_representation.png\" width=\"900\">\n",
    "We can see from the figure that the variance representation is similiar for TMIN and TMAX. The first eigenvector explains nearly 40% of the total variance and the first five eigenvectors can explained 45% of the variance. TOBS can be explained better by the first eigenvector compared to TMIN and TMAX and the variance explained by the first eigenvectors is 60%.\n",
    "\n",
    "<img src=\"Figures/SNOW_PRCP_variance_representation.png\" width=\"900\">\n",
    "The variance of SNOW and PRCP can not explained by the first eigenvectors since only less than 20% is explained. As a contrast, 90% of the variance of SNWD can be explained by the first five eigenvectors. "
   ]
  },
  {
   "cell_type": "markdown",
   "metadata": {},
   "source": [
    "## Analysis of snow\n",
    "Then we analyze the eigen decomposition of SNWD since we can explain more than 80% of the variance using the first few eigenvectors. Plot the mean of SNWD as well as the first three eigenvectors. From the mean of SNWD we can see the snow season is from October to the April in the next year.\n",
    "<img src=\"Figures/SNWD_eigen.png\" width=\"500\">\n",
    "Then we interpret the eigen functions. The first eigen function has a shape similar to that of the mean function which means it measures the overall depth of the snow in a year. The second eigen function indicates more snow in January and February and less snow in November and December. The third eigen function represents less snow in February and more snow in March."
   ]
  },
  {
   "cell_type": "markdown",
   "metadata": {
    "collapsed": true
   },
   "source": [
    "### Proof for the interpretation\n",
    "We try to use the samples with largest or smallest coefficients on these eigen functions to prove our interpretation.\n",
    "#### largest coefficient on the first eigen function\n",
    "<img src=\"Figures/largest_coeff1.png\" width=\"900\">\n",
    "#### smallest coefficient on the first eigen function\n",
    "<img src=\"Figures/smallest_coeff1.png\" width=\"900\">\n",
    "These samples show that large coefficients on the first eigen function mean high snow depth over the year and small coefficient on the first eigen function mean low snow depth.\n",
    "#### largest coefficient on the second eigen function\n",
    "<img src=\"Figures/largest_coeff2.png\" width=\"900\">\n",
    "#### smallest coefficient on the second eigen function\n",
    "<img src=\"Figures/smallest_coeff2.png\" width=\"900\">\n",
    "A sample with large coefficient on the second eigen function has less snow in November and December as the figure shows. As a contrast, a large negative value on the second eigen function show relatively more snow in November and December."
   ]
  },
  {
   "cell_type": "markdown",
   "metadata": {
    "collapsed": true
   },
   "source": [
    "### Distribution of residuals and coefficients\n",
    "<img src=\"Figures/coeff_distribution.png\" width=\"900\">\n",
    "The distribution of three coefficients can indicate the distribution of snow based on our interpretation of the eigen functions. The distribution of the first coefficient shows most of the years have snow around the mean depth while a few years suffer from heavy snow. The distribution of the second coefficient shows the number of years with heavy snow in November and December roughly equal to the number of years which don't."
   ]
  },
  {
   "cell_type": "markdown",
   "metadata": {
    "collapsed": true
   },
   "source": [
    "# Correlation between PRCP of stations\n",
    "First we calculate the normalized log probability of each pair of stations. We can see from the correlation figure that most of the pairs have a low correlation which is below 0.1. The correlation matrix is also shown below. We can see that around 80 stations have relatively high correlation with each other.\n",
    "<img src=\"Figures/correlation_PRCP.png\" width=\"500\">\n",
    "<img src=\"Figures/correlation_matrix.png\" width=\"500\">\n",
    "To find more correlation, we use SVD and the top ten eigenvectors explains more than 80% of the square magnitude of the matrix.\n",
    "<img src=\"Figures/PRCP_SVD.png\" width=\"500\">\n",
    "Then calculated the decomposition of each station and their correlation on each eigenvector. Since the first eigenvector explains more than 60% of the magnitude, the correlation on the first eigenvector is really like the original correlation matrix.\n",
    "<img src=\"Figures/correlation_SVD.png\" width=\"500\">"
   ]
  },
  {
   "cell_type": "markdown",
   "metadata": {},
   "source": [
    "# Spatial or Temporal\n",
    "In this section, we try to research the spatiality and temporality of the PRCP RMS to determine PRCP differs more in spatiality or temporality. We first construct a matrix which contains SNWD of all stations as colomn vector and PRCP of all years as row vector. The matrix will be sparse since we don't have most of the data.\n",
    "\n",
    "Then we want to compare the change of the RMS by removing the mean of spatial mean and temporal mean.\n",
    "- total RMS: 495.421568322\n",
    "- RMS after removing mean by station: 473.749846082\n",
    "- RMS after removing mean by year: 423.393579547\n",
    "\n",
    "The result shows the RMS remains more after removing the mean of station than year which means PRCP is more temporal."
   ]
  },
  {
   "cell_type": "code",
   "execution_count": null,
   "metadata": {
    "collapsed": true
   },
   "outputs": [],
   "source": []
  }
 ],
 "metadata": {
  "kernelspec": {
   "display_name": "Python 2",
   "language": "python",
   "name": "python2"
  },
  "language_info": {
   "codemirror_mode": {
    "name": "ipython",
    "version": 2
   },
   "file_extension": ".py",
   "mimetype": "text/x-python",
   "name": "python",
   "nbconvert_exporter": "python",
   "pygments_lexer": "ipython2",
   "version": "2.7.13"
  }
 },
 "nbformat": 4,
 "nbformat_minor": 2
}
