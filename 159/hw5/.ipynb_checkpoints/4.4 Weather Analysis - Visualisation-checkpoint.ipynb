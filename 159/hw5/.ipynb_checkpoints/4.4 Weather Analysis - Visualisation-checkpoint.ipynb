{
 "cells": [
  {
   "cell_type": "markdown",
   "metadata": {
    "run_control": {
     "frozen": false,
     "read_only": false
    }
   },
   "source": [
    "### Visualizing the distribution of the observations\n",
    "\n",
    "### Load the required libraries"
   ]
  },
  {
   "cell_type": "code",
   "execution_count": 2,
   "metadata": {
    "run_control": {
     "frozen": false,
     "read_only": false
    },
    "slideshow": {
     "slide_type": "slide"
    }
   },
   "outputs": [
    {
     "name": "stdout",
     "output_type": "stream",
     "text": [
      "Populating the interactive namespace from numpy and matplotlib\n",
      "keys from STAT= ['TMIN', 'TOBS', 'TMAX', 'SNOW', 'SNWD', 'PRCP']\n",
      "12583\n",
      "+---------+--------+---------+-----------+-----------+------+--------------------+------+--------+\n",
      "|elevation|latitude|longitude|measurement|    station|undefs|              vector|  year|   label|\n",
      "+---------+--------+---------+-----------+-----------+------+--------------------+------+--------+\n",
      "|      2.1| 25.3867| -80.5936|       TMAX|USC00087760|    43|[D0 5B 00 5C 00 7...|1950.0|BSBSBSBS|\n",
      "|      2.1| 25.3867| -80.5936|       TMAX|USC00087760|    42|[78 5B D0 5B 00 7...|1951.0|BSBSBSBS|\n",
      "|      2.1| 25.3867| -80.5936|       TMAX|USC00087760|     5|[6C 5C 58 5C 2C 5...|1952.0|BSBSBSBS|\n",
      "|      2.1| 25.3867| -80.5936|       TMAX|USC00087760|     0|[14 5C 20 5B 14 5...|1953.0|BSBSBSBS|\n",
      "|      2.1| 25.3867| -80.5936|       TMAX|USC00087760|     0|[D0 5B 14 5C 6C 5...|1954.0|BSBSBSBS|\n",
      "+---------+--------+---------+-----------+-----------+------+--------------------+------+--------+\n",
      "only showing top 5 rows\n",
      "\n"
     ]
    }
   ],
   "source": [
    "import pandas as pd\n",
    "import numpy as np\n",
    "import sklearn as sk\n",
    "import urllib\n",
    "import math\n",
    "%pylab inline\n",
    "\n",
    "import findspark\n",
    "findspark.init()\n",
    "\n",
    "from pyspark import SparkContext\n",
    "#sc.stop()\n",
    "sc = SparkContext(master=\"local[3]\",pyFiles=['lib/numpy_pack.py','lib/spark_PCA.py','lib/computeStats.py'])\n",
    "\n",
    "from pyspark import SparkContext\n",
    "from pyspark.sql import *\n",
    "sqlContext = SQLContext(sc)\n",
    "\n",
    "import sys\n",
    "sys.path.append('./lib')\n",
    "\n",
    "import numpy as np\n",
    "from numpy_pack import packArray,unpackArray\n",
    "from spark_PCA import computeCov\n",
    "from computeStats import computeOverAllDist, STAT_Descriptions\n",
    "\n",
    "### Read the data frame from pickle file\n",
    "\n",
    "data_dir='../../Data/Weather'\n",
    "# file_index='BBBSBBBB'\n",
    "file_index='BSBSBSBS'\n",
    "\n",
    "from pickle import load\n",
    "\n",
    "#read statistics\n",
    "filename=data_dir+'/STAT_%s.pickle'%file_index\n",
    "STAT,STAT_Descriptions = load(open(filename,'rb'))\n",
    "print 'keys from STAT=',STAT.keys()\n",
    "\n",
    "#read data\n",
    "filename=data_dir+'/US_Weather_%s.parquet'%file_index\n",
    "\n",
    "df=sqlContext.read.parquet(filename)\n",
    "print df.count()\n",
    "df.show(5)"
   ]
  },
  {
   "cell_type": "code",
   "execution_count": 25,
   "metadata": {},
   "outputs": [
    {
     "data": {
      "text/plain": [
       "array([u'USC00087760', u'USC00084091', u'USC00085182', u'US1FLPB0013',\n",
       "       u'USC00088620', u'USC00084262', u'USC00087254', u'USC00087115',\n",
       "       u'USW00012849', u'BFW00012713', u'USC00083207', u'USC00080611',\n",
       "       u'USC00089511', u'USC00081654', u'USC00083909', u'USW00012826',\n",
       "       u'USW00092809', u'USW00012839', u'USC00086315', u'USW00012882',\n",
       "       u'USC00086404', u'USW00012859', u'USC00085678', u'USC00083020',\n",
       "       u'USC00088841', u'USC00084412', u'USC00086480', u'USC00088396',\n",
       "       u'USC00082936', u'USC00081716', u'USC00080845', u'USC00085653',\n",
       "       u'USW00092811', u'USC00082046', u'USC00088082', u'USC00087189',\n",
       "       u'USC00083571', u'USC00084320', u'USC00083209', u'USW00012855',\n",
       "       u'USC00086406', u'USC00084095', u'USC00084500', u'USC00085895',\n",
       "       u'USC00080992', u'USC00083137', u'USC00082441', u'USW00012896',\n",
       "       u'USW00012888', u'USC00083171', u'USW00012895', u'USC00085667',\n",
       "       u'USC00082298', u'USC00085351', u'USC00089219', u'USC00081651',\n",
       "       u'USC00081276', u'USC00089521', u'USC00087304', u'USC00080737',\n",
       "       u'USC00086477', u'USC00081795', u'USC00081305', u'USC00084461',\n",
       "       u'BF000078073', u'USC00084198', u'USR0000FCHE', u'BFW00012712',\n",
       "       u'USW00012852', u'USR0000FRAC', u'USC00087600', u'USC00088780',\n",
       "       u'USR0000FTEN', u'USW00012885', u'USC00083168', u'BFW00012716',\n",
       "       u'USC00081306', u'USC00080488', u'USC00088368', u'USC00084050',\n",
       "       u'USC00086764', u'USW00012843', u'USC00081858', u'USC00087758',\n",
       "       u'USC00089520', u'USW00092805', u'USC00083163', u'USC00086485',\n",
       "       u'USW00012844', u'USR0000FOAS', u'USC00086092', u'USC00087020',\n",
       "       u'USC00086478', u'USR0000FCAC', u'USC00085184', u'USC00080739',\n",
       "       u'USC00086988', u'US1FLMN0004', u'US1FLSL0013', u'US1FLMT0007',\n",
       "       u'US1FLOB0002', u'US1FLIR0006', u'USC00086323', u'USC00081649',\n",
       "       u'US1FLSL0019', u'US1FLBW0021', u'USC00082114', u'US1FLSL0017',\n",
       "       u'USC00087859', u'US1FLMN0008', u'US1FLPB0012', u'US1FLIR0026',\n",
       "       u'USC00084518', u'US1FLBW0016', u'US1FLMD0007', u'US1FLBW0004',\n",
       "       u'US1FLPB0027', u'US1FLPB0002', u'US1FLMD0022', u'US1FLMD0017',\n",
       "       u'US1FLBW0009', u'US1FLMD0030', u'USC00081271', u'US1FLBW0013',\n",
       "       u'USC00081869', u'USC00088775', u'US1FLPB0025', u'US1FLBW0007',\n",
       "       u'US1FLIR0029', u'US1FLIR0004', u'US1FLIR0031', u'US1FLSL0022',\n",
       "       u'US1FLIR0002', u'US1FLMD0002', u'USC00087293', u'US1FLMD0008',\n",
       "       u'USC00086318', u'US1FLIR0022', u'US1FLMT0011', u'US1FLBW0012',\n",
       "       u'US1FLIR0007', u'USC00085035', u'USC00081800', u'USC00085866',\n",
       "       u'US1FLPB0009', u'US1FLPB0018', u'US1FLSL0004', u'US1FLMD0003',\n",
       "       u'US1FLBW0019', u'US1FLMT0005', u'USC00087033', u'US1FLPB0019',\n",
       "       u'US1FLPB0020', u'US1FLIR0008', u'US1FLMD0026', u'US1FLBW0028',\n",
       "       u'USC00080616', u'US1FLMT0001', u'US1FLGL0010', u'US1FLIR0024',\n",
       "       u'USC00087005', u'USC00081832'], dtype=object)"
      ]
     },
     "execution_count": 25,
     "metadata": {},
     "output_type": "execute_result"
    }
   ],
   "source": [
    "df.toPandas()['station'].unique()"
   ]
  },
  {
   "cell_type": "markdown",
   "metadata": {
    "run_control": {
     "frozen": false,
     "read_only": false
    },
    "slideshow": {
     "slide_type": "slide"
    }
   },
   "source": [
    "### Select data for a particular station and measurement type"
   ]
  },
  {
   "cell_type": "code",
   "execution_count": 34,
   "metadata": {
    "run_control": {
     "frozen": false,
     "read_only": false
    },
    "scrolled": true,
    "slideshow": {
     "slide_type": "subslide"
    }
   },
   "outputs": [
    {
     "name": "stdout",
     "output_type": "stream",
     "text": [
      "SELECT * FROM weather\n",
      "\tWHERE measurement='PRCP' and station='USW00012839'\n",
      "65 rows\n",
      "+---------+--------+---------+-----------+-----------+------+--------------------+------+--------+\n",
      "|elevation|latitude|longitude|measurement|    station|undefs|              vector|  year|   label|\n",
      "+---------+--------+---------+-----------+-----------+------+--------------------+------+--------+\n",
      "|      8.8| 25.7906| -80.3164|       PRCP|USW00012839|     4|[00 00 80 50 00 0...|1948.0|BSBSBSBS|\n",
      "|      8.8| 25.7906| -80.3164|       PRCP|USW00012839|     1|[00 00 00 00 00 0...|1949.0|BSBSBSBS|\n",
      "+---------+--------+---------+-----------+-----------+------+--------------------+------+--------+\n",
      "only showing top 2 rows\n",
      "\n"
     ]
    },
    {
     "data": {
      "text/plain": [
       "(65, 365)"
      ]
     },
     "execution_count": 34,
     "metadata": {},
     "output_type": "execute_result"
    }
   ],
   "source": [
    "sqlContext.registerDataFrameAsTable(df,'weather')\n",
    "# Query=\"SELECT * FROM weather\\n\\tWHERE measurement='%s' and station='%s'\"%('PRCP','USC00198301')\n",
    "Query=\"SELECT * FROM weather\\n\\tWHERE measurement='%s' and station='%s'\"%('PRCP','USW00012839')\n",
    "print Query\n",
    "df1 = sqlContext.sql(Query)\n",
    "print df1.count(),'rows'\n",
    "df1.show(2)\n",
    "rows=df1.rdd.map(lambda row:unpackArray(row['vector'],np.float16)).collect()\n",
    "T=np.vstack(rows)\n",
    "T=T/10.  # scaling to make the temperature be in centingrates\n",
    "shape(T)"
   ]
  },
  {
   "cell_type": "markdown",
   "metadata": {
    "run_control": {
     "frozen": false,
     "read_only": false
    },
    "slideshow": {
     "slide_type": "slide"
    }
   },
   "source": [
    "### Script for plotting yearly plots"
   ]
  },
  {
   "cell_type": "code",
   "execution_count": 35,
   "metadata": {
    "run_control": {
     "frozen": false,
     "read_only": false
    },
    "scrolled": false,
    "slideshow": {
     "slide_type": "subslide"
    }
   },
   "outputs": [
    {
     "data": {
      "image/png": "iVBORw0KGgoAAAANSUhEUgAAAlMAAAGNCAYAAAA1nfQqAAAABHNCSVQICAgIfAhkiAAAAAlwSFlz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\nojcDeDeAX