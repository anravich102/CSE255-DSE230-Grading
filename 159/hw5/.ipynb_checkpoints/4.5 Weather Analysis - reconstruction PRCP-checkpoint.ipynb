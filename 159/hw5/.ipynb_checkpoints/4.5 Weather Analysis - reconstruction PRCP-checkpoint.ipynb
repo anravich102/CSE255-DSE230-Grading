{
 "cells": [
  {
   "cell_type": "code",
   "execution_count": 15,
   "metadata": {
    "collapsed": true,
    "run_control": {
     "frozen": false,
     "read_only": false
    }
   },
   "outputs": [],
   "source": [
    "#setup\n",
    "data_dir='../../Data/Weather'\n",
    "# file_index='BBBSBBBB'\n",
    "file_index='BSBSBSBS'\n",
    "m='TOBS'"
   ]
  },
  {
   "cell_type": "markdown",
   "metadata": {
    "run_control": {
     "frozen": false,
     "read_only": false
    },
    "slideshow": {
     "slide_type": "slide"
    },
    "variables": {
     "m": "PRCP"
    }
   },
   "source": [
    "# Reconstruction using top eigen-vectors\n",
    "For measurement = {{m}}"
   ]
  },
  {
   "cell_type": "markdown",
   "metadata": {
    "run_control": {
     "frozen": false,
     "read_only": false
    },
    "slideshow": {
     "slide_type": "skip"
    }
   },
   "source": [
    "## Load the required libraries"
   ]
  },
  {
   "cell_type": "code",
   "execution_count": 16,
   "metadata": {
    "collapsed": true,
    "run_control": {
     "frozen": false,
     "read_only": false
    },
    "slideshow": {
     "slide_type": "skip"
    }
   },
   "outputs": [],
   "source": [
    "# Enable automiatic reload of libraries\n",
    "#%load_ext autoreload\n",
    "#%autoreload 2 # means that all modules are reloaded before every command"
   ]
  },
  {
   "cell_type": "code",
   "execution_count": 17,
   "metadata": {
    "run_control": {
     "frozen": false,
     "read_only": false
    },
    "slideshow": {
     "slide_type": "skip"
    }
   },
   "outputs": [
    {
     "name": "stdout",
     "output_type": "stream",
     "text": [
      "Populating the interactive namespace from numpy and matplotlib\n",
      "    pandas as    pd \tversion=0.19.2 \trequired version>=0.19.2\n",
      "     numpy as    np \tversion=1.11.3 \trequired version>=1.12.0 ******* Update Version ******\n",
      "   sklearn as    sk \tversion=0.18.1 \trequired version>=0.18.1\n",
      "    urllib as urllib \tversion=1.17 \trequired version>=1.17\n",
      "   pyspark as pyspark \tversion=2.1.1+hadoop2.7 \trequired version>=2.1.0\n",
      "ipywidgets as ipywidgets \tversion=6.0.0 \trequired version>=6.0.0\n"
     ]
    },
    {
     "name": "stderr",
     "output_type": "stream",
     "text": [
      "/home/hogan/anaconda2/lib/python2.7/site-packages/IPython/core/magics/pylab.py:161: UserWarning: pylab import has clobbered these variables: ['axes', 'eigvals', 'interactive', 'load']\n",
      "`%matplotlib` prevents importing * from pylab and numpy\n",
      "  \"\\n`%matplotlib` prevents importing * from pylab and numpy\"\n"
     ]
    }
   ],
   "source": [
    "%pylab inline\n",
    "import numpy as np\n",
    "\n",
    "import findspark\n",
    "findspark.init()\n",
    "\n",
    "import sys\n",
    "sys.path.append('./lib')\n",
    "\n",
    "from numpy_pack import packArray,unpackArray\n",
    "\n",
    "from Eigen_decomp import Eigen_decomp\n",
    "from YearPlotter import YearPlotter\n",
    "from recon_plot import recon_plot\n",
    "\n",
    "from import_modules import import_modules,modules\n",
    "import_modules(modules)\n",
    "\n",
    "from ipywidgets import interactive,widgets"
   ]
  },
  {
   "cell_type": "code",
   "execution_count": 18,
   "metadata": {
    "run_control": {
     "frozen": false,
     "read_only": false
    },
    "slideshow": {
     "slide_type": "skip"
    }
   },
   "outputs": [
    {
     "ename": "ValueError",
     "evalue": "Cannot run multiple SparkContexts at once; existing SparkContext(app=pyspark-shell, master=local[3]) created by __init__ at <ipython-input-4-a06a223af467>:4 ",
     "output_type": "error",
     "traceback": [
      "\u001b[0;31m---------------------------------------------------------------------------\u001b[0m",
      "\u001b[0;31mValueError\u001b[0m                                Traceback (most recent call last)",
      "\u001b[0;32m<ipython-input-18-a06a223af467>\u001b[0m in \u001b[0;36m<module>\u001b[0;34m()\u001b[0m\n\u001b[1;32m      2\u001b[0m \u001b[0;31m#sc.stop()\u001b[0m\u001b[0;34m\u001b[0m\u001b[0;34m\u001b[0m\u001b[0m\n\u001b[1;32m      3\u001b[0m \u001b[0;34m\u001b[0m\u001b[0m\n\u001b[0;32m----> 4\u001b[0;31m \u001b[0msc\u001b[0m \u001b[0;34m=\u001b[0m \u001b[0mSparkContext\u001b[0m\u001b[0;34m(\u001b[0m\u001b[0mmaster\u001b[0m\u001b[0;34m=\u001b[0m\u001b[0;34m\"local[3]\"\u001b[0m\u001b[0;34m,\u001b[0m\u001b[0mpyFiles\u001b[0m\u001b[0;34m=\u001b[0m\u001b[0;34m[\u001b[0m\u001b[0;34m'lib/numpy_pack.py'\u001b[0m\u001b[0;34m,\u001b[0m\u001b[0;34m'lib/spark_PCA.py'\u001b[0m\u001b[0;34m,\u001b[0m\u001b[0;34m'lib/computeStats.py'\u001b[0m\u001b[0;34m,\u001b[0m\u001b[0;34m'lib/recon_plot.py'\u001b[0m\u001b[0;34m,\u001b[0m\u001b[0;34m'lib/Eigen_decomp.py'\u001b[0m\u001b[0;34m]\u001b[0m\u001b[0;34m)\u001b[0m\u001b[0;34m\u001b[0m\u001b[0m\n\u001b[0m\u001b[1;32m      5\u001b[0m \u001b[0;34m\u001b[0m\u001b[0m\n\u001b[1;32m      6\u001b[0m \u001b[0;32mfrom\u001b[0m \u001b[0mpyspark\u001b[0m \u001b[0;32mimport\u001b[0m \u001b[0mSparkContext\u001b[0m\u001b[0;34m\u001b[0m\u001b[0m\n",
      "\u001b[0;32m/home/hogan/Downloads/spark-2.1.1-bin-hadoop2.7/python/pyspark/context.pyc\u001b[0m in \u001b[0;36m__init__\u001b[0;34m(self, master, appName, sparkHome, pyFiles, environment, batchSize, serializer, conf, gateway, jsc, profiler_cls)\u001b[0m\n\u001b[1;32m    113\u001b[0m         \"\"\"\n\u001b[1;32m    114\u001b[0m         \u001b[0mself\u001b[0m\u001b[0;34m.\u001b[0m\u001b[0m_callsite\u001b[0m \u001b[0;34m=\u001b[0m \u001b[0mfirst_spark_call\u001b[0m\u001b[0;34m(\u001b[0m\u001b[0;34m)\u001b[0m \u001b[0;32mor\u001b[0m \u001b[0mCallSite\u001b[0m\u001b[0;34m(\u001b[0m\u001b[0mNone\u001b[0m\u001b[0;34m,\u001b[0m \u001b[0mNone\u001b[0m\u001b[0;34m,\u001b[0m \u001b[0mNone\u001b[0m\u001b[0;34m)\u001b[0m\u001b[0;34m\u001b[0m\u001b[0m\n\u001b[0;32m--> 115\u001b[0;31m         \u001b[0mSparkContext\u001b[0m\u001b[0;34m.\u001b[0m\u001b[0m_ensure_initialized\u001b[0m\u001b[0;34m(\u001b[0m\u001b[0mself\u001b[0m\u001b[0;34m,\u001b[0m \u001b[0mgateway\u001b[0m\u001b[0;34m=\u001b[0m\u001b[0mgateway\u001b[0m\u001b[0;34m,\u001b[0m \u001b[0mconf\u001b[0m\u001b[0;34m=\u001b[0m\u001b[0mconf\u001b[0m\u001b[0;34m)\u001b[0m\u001b[0;34m\u001b[0m\u001b[0m\n\u001b[0m\u001b[1;32m    116\u001b[0m         \u001b[0;32mtry\u001b[0m\u001b[0;34m:\u001b[0m\u001b[0;34m\u001b[0m\u001b[0m\n\u001b[1;32m    117\u001b[0m             self._do_init(master, appName, sparkHome, pyFiles, environment, batchSize, serializer,\n",
      "\u001b[0;32m/home/hogan/Downloads/spark-2.1.1-bin-hadoop2.7/python/pyspark/context.pyc\u001b[0m in \u001b[0;36m_ensure_initialized\u001b[0;34m(cls, instance, gateway, conf)\u001b[0m\n\u001b[1;32m    273\u001b[0m                         \u001b[0;34m\" created by %s at %s:%s \"\u001b[0m\u001b[0;34m\u001b[0m\u001b[0m\n\u001b[1;32m    274\u001b[0m                         % (currentAppName, currentMaster,\n\u001b[0;32m--> 275\u001b[0;31m                             callsite.function, callsite.file, callsite.linenum))\n\u001b[0m\u001b[1;32m    276\u001b[0m                 \u001b[0;32melse\u001b[0m\u001b[0;34m:\u001b[0m\u001b[0;34m\u001b[0m\u001b[0m\n\u001b[1;32m    277\u001b[0m                     \u001b[0mSparkContext\u001b[0m\u001b[0;34m.\u001b[0m\u001b[0m_active_spark_context\u001b[0m \u001b[0;34m=\u001b[0m \u001b[0minstance\u001b[0m\u001b[0;34m\u001b[0m\u001b[0m\n",
      "\u001b[0;31mValueError\u001b[0m: Cannot run multiple SparkContexts at once; existing SparkContext(app=pyspark-shell, master=local[3]) created by __init__ at <ipython-input-4-a06a223af467>:4 "
     ]
    }
   ],
   "source": [
    "from pyspark import SparkContext\n",
    "#sc.stop()\n",
    "\n",
    "sc = SparkContext(master=\"local[3]\",pyFiles=['lib/numpy_pack.py','lib/spark_PCA.py','lib/computeStats.py','lib/recon_plot.py','lib/Eigen_decomp.py'])\n",
    "\n",
    "from pyspark import SparkContext\n",
    "from pyspark.sql import *\n",
    "sqlContext = SQLContext(sc)\n",
    "\n",
    "\n",
    "\n"
   ]
  },
  {
   "cell_type": "markdown",
   "metadata": {
    "run_control": {
     "frozen": false,
     "read_only": false
    },
    "slideshow": {
     "slide_type": "slide"
    }
   },
   "source": [
    "## Read Statistics File"
   ]
  },
  {
   "cell_type": "code",
   "execution_count": 19,
   "metadata": {
    "collapsed": true,
    "run_control": {
     "frozen": false,
     "read_only": false
    },
    "slideshow": {
     "slide_type": "fragment"
    }
   },
   "outputs": [],
   "source": [
    "data_dir='../../Data/Weather'\n",
    "# file_index='BBBSBBBB'\n",
    "file_index='BSBSBSBS'"
   ]
  },
  {
   "cell_type": "code",
   "execution_count": 6,
   "metadata": {
    "run_control": {
     "frozen": false,
     "read_only": false
    },
    "slideshow": {
     "slide_type": "subslide"
    }
   },
   "outputs": [
    {
     "name": "stdout",
     "output_type": "stream",
     "text": [
      "keys from STAT= ['TMIN', 'TOBS', 'TMAX', 'SNOW', 'SNWD', 'PRCP']\n"
     ]
    }
   ],
   "source": [
    "from pickle import load\n",
    "\n",
    "#read statistics\n",
    "filename=data_dir+'/STAT_%s.pickle'%file_index\n",
    "STAT,STAT_Descriptions = load(open(filename,'rb'))\n",
    "measurements=STAT.keys()\n",
    "print 'keys from STAT=',measurements"
   ]
  },
  {
   "cell_type": "markdown",
   "metadata": {
    "run_control": {
     "frozen": false,
     "read_only": false
    },
    "slideshow": {
     "slide_type": "slide"
    }
   },
   "source": [
    "## Read data file into a spark DataFrame\n",
    "We focus on the snow-depth records, because the eigen-vectors for them make sense."
   ]
  },
  {
   "cell_type": "code",
   "execution_count": 7,
   "metadata": {
    "run_control": {
     "frozen": false,
     "read_only": false
    },
    "scrolled": true,
    "slideshow": {
     "slide_type": "subslide"
    }
   },
   "outputs": [
    {
     "name": "stdout",
     "output_type": "stream",
     "text": [
      "+---------+--------+---------+-----------+-----------+------+--------------------+------+--------+\n",
      "|elevation|latitude|longitude|measurement|    station|undefs|              vector|  year|   label|\n",
      "+---------+--------+---------+-----------+-----------+------+--------------------+------+--------+\n",
      "|      2.1| 25.3867| -80.5936|       TOBS|USC00087760|    44|[F0 5A 70 5A 00 7...|1950.0|BSBSBSBS|\n",
      "|      2.1| 25.3867| -80.5936|       TOBS|USC00087760|    42|[40 5A 98 5A 00 7...|1951.0|BSBSBSBS|\n",
      "|      2.1| 25.3867| -80.5936|       TOBS|USC00087760|     6|[F0 5A 48 5B F0 5...|1952.0|BSBSBSBS|\n",
      "|      2.1| 25.3867| -80.5936|       TOBS|USC00087760|     6|[C8 5A 38 59 00 7...|1953.0|BSBSBSBS|\n",
      "|      2.1| 25.3867| -80.5936|       TOBS|USC00087760|     0|[20 5B 78 5B F0 5...|1954.0|BSBSBSBS|\n",
      "+---------+--------+---------+-----------+-----------+------+--------------------+------+--------+\n",
      "only showing top 5 rows\n",
      "\n"
     ]
    }
   ],
   "source": [
    "#read data\n",
    "filename=data_dir+'/US_Weather_%s.parquet'%file_index\n",
    "df_in=sqlContext.read.parquet(filename)\n",
    "#filter in \n",
    "df=df_in.filter(df_in.measurement==m)\n",
    "df.show(5)"
   ]
  },
  {
   "cell_type": "markdown",
   "metadata": {
    "run_control": {
     "frozen": false,
     "read_only": false
    },
    "slideshow": {
     "slide_type": "subslide"
    }
   },
   "source": [
    "### Create a matrix with all of the series"
   ]
  },
  {
   "cell_type": "code",
   "execution_count": 8,
   "metadata": {
    "run_control": {
     "frozen": false,
     "read_only": false
    }
   },
   "outputs": [
    {
     "data": {
      "text/plain": [
       "(1582, 365)"
      ]
     },
     "execution_count": 8,
     "metadata": {},
     "output_type": "execute_result"
    }
   ],
   "source": [
    "rows=df.rdd.map(lambda row:unpackArray(row['vector'],np.float16)).collect()\n",
    "\n",
    "T=np.vstack(rows)\n",
    "shape(T)"
   ]
  },
  {
   "cell_type": "markdown",
   "metadata": {
    "run_control": {
     "frozen": false,
     "read_only": false
    },
    "slideshow": {
     "slide_type": "subslide"
    }
   },
   "source": [
    "### Plot two time series\n",
    "`SNWD` stands for `snow-depth`, which explains why it is zero during the summer"
   ]
  },
  {
   "cell_type": "code",
   "execution_count": 9,
   "metadata": {
    "run_control": {
     "frozen": false,
     "read_only": false
    },
    "slideshow": {
     "slide_type": "fragment"
    }
   },
   "outputs": [
    {
     "data": {
      "image/png": "iVBORw0KGgoAAAANSUhEUgAAAXoAAAD6CAYAAACvZ4z8AAAABHNCSVQICAgIfAhkiAAAAAlwSFlz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