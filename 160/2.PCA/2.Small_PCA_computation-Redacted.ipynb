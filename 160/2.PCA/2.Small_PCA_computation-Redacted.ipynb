{
 "cells": [
  {
   "cell_type": "markdown",
   "metadata": {
    "run_control": {
     "frozen": false,
     "read_only": false
    },
    "slideshow": {
     "slide_type": "slide"
    }
   },
   "source": [
    "### Computing PCA using RDDs"
   ]
  },
  {
   "cell_type": "markdown",
   "metadata": {
    "run_control": {
     "frozen": false,
     "read_only": false
    },
    "slideshow": {
     "slide_type": "subslide"
    }
   },
   "source": [
    "###  PCA\n",
    "\n",
    "The vectors that we want to analyze have length, or dimension, of 365, corresponding to the number of \n",
    "days in a year.\n",
    "\n",
    "We want to perform [Principle component analysis (PCA)](https://en.wikipedia.org/wiki/Principal_component_analysis)\n",
    "on these vectors. There are two steps to this process:\n",
    "\n",
    "1. Computing the covariance matrix: this is a  simple computation. However, it takes a long time to compute and it benefits from using an RDD because it involves all of the input vectors.\n",
    "2. Computing the eigenvector decomposition. this is a more complex computation, but it takes a fraction of a second because the size to the covariance matrix is $365 \\times 365$, which is quite small. We do it on the head node usin `linalg`"
   ]
  },
  {
   "cell_type": "markdown",
   "metadata": {
    "run_control": {
     "frozen": false,
     "read_only": false
    },
    "slideshow": {
     "slide_type": "slide"
    }
   },
   "source": [
    "### Computing the covariance matrix\n",
    "Suppose that the data vectors are the column vectors denoted $x$ then the covariance matrix is defined to be\n",
    "$$\n",
    "E(x x^T)-E(x)E(x)^T\n",
    "$$\n",
    "\n",
    "Where $x x^T$ is the **outer product** of $x$ with itself.\n",
    "\n",
    "If the data that we have is $x_1,x_2,x_n$ then the estimates we use are:\n",
    "$$\n",
    "\\hat{E}(x x^T) = \\frac{1}{n} \\sum_{i=1}^n x_i x_i^T,\\;\\;\\;\\;\\;\n",
    "\\hat{E}(x) = \\frac{1}{n} \\sum_{i=1}^n x_i\n",
    "$$"
   ]
  },
  {
   "cell_type": "markdown",
   "metadata": {
    "run_control": {
     "frozen": false,
     "read_only": false
    },
    "slideshow": {
     "slide_type": "slide"
    }
   },
   "source": [
    "### `nan`s in arithmetic operations\n",
    "* We store all of the measurements as single `bytearray` in a single column. Instead of using 365 columns.\n",
    "* Why?\n",
    "  1. Because serializing and desirializing is faster that way.\n",
    "  1. Because numpy treats `nan` entries correctly:\n",
    "      * In `numpy.nansum` `5+nan=5` while in dataframes `5+nan=nan`"
   ]
  },
  {
   "cell_type": "code",
   "execution_count": 1,
   "metadata": {
    "run_control": {
     "frozen": false,
     "read_only": false
    },
    "slideshow": {
     "slide_type": "subslide"
    }
   },
   "outputs": [
    {
     "name": "stdout",
     "output_type": "stream",
     "text": [
      "mean of [1 1 1 2] = 1.25\n",
      "nanmean of [1 1 1 2] = 1.25\n",
      "mean of [  1.   1.  nan   2.] = nan\n",
      "nanmean of [  1.   1.  nan   2.] = 1.33333333333\n"
     ]
    }
   ],
   "source": [
    "import numpy as np\n",
    "X=np.array([1,1,1,2])\n",
    "print 'mean of',X,'=',np.mean(X)\n",
    "print 'nanmean of',X,'=',np.nanmean(X)\n",
    "X=np.array([1,1,np.NaN,2])\n",
    "print 'mean of',X,'=',np.mean(X)\n",
    "print 'nanmean of',X,'=',np.nanmean(X)"
   ]
  },
  {
   "cell_type": "markdown",
   "metadata": {
    "run_control": {
     "frozen": false,
     "read_only": false
    },
    "slideshow": {
     "slide_type": "subslide"
    }
   },
   "source": [
    "#### When should you not use `np.nanmean` ?\n",
    "Using `n.nanmean` is equivalent to assuming that choice of which elements to remove is independent of the values of the elements. \n",
    "* Example of bad case: suppose the larger elements have a higher probability of being `nan`. In that case `np.nanmean` will under-estimate the mean"
   ]
  },
  {
   "cell_type": "markdown",
   "metadata": {
    "run_control": {
     "frozen": false,
     "read_only": false
    },
    "slideshow": {
     "slide_type": "subslide"
    }
   },
   "source": [
    "#### Computing Cov matrix on vectors with NaNs\n",
    "As it happens, we often get vectors $x$ in which some, but not all, of the entries are `nan`. \n",
    "Suppose that we want to compute the mean of the elements of $x$. If we use `np.mean` we will get the result `nan`. A useful alternative is to use `np.nanmean` which removes the `nan` elements and takes the mean of the rest."
   ]
  },
  {
   "cell_type": "markdown",
   "metadata": {
    "run_control": {
     "frozen": false,
     "read_only": false
    },
    "slideshow": {
     "slide_type": "subslide"
    }
   },
   "source": [
    "#### Computing the covariance  when there are `nan`s\n",
    "The covariance is a mean of outer products.\n",
    "\n",
    "If the data that we have is $x_1,x_2,x_n$ then the estimates we use are:\n",
    "$$\n",
    "\\hat{E}(x x^T) = \\frac{1}{n} \\sum_{i=1}^n x_i x_i^T,\\;\\;\\;\\;\\;\n",
    "\\hat{E}(x) = \\frac{1}{n} \\sum_{i=1}^n x_i\n",
    "$$"
   ]
  },
  {
   "cell_type": "code",
   "execution_count": 2,
   "metadata": {
    "run_control": {
     "frozen": false,
     "read_only": false
    },
    "slideshow": {
     "slide_type": "subslide"
    }
   },
   "outputs": [
    {
     "data": {
      "text/plain": [
       "array([[[  1.,  nan,   3.,   4.,   5.],\n",
       "        [ nan,  nan,  nan,  nan,  nan],\n",
       "        [  3.,  nan,   9.,  12.,  15.],\n",
       "        [  4.,  nan,  12.,  16.,  20.],\n",
       "        [  5.,  nan,  15.,  20.,  25.]],\n",
       "\n",
       "       [[  4.,   6.,   8.,  nan,  12.],\n",
       "        [  6.,   9.,  12.,  nan,  18.],\n",
       "        [  8.,  12.,  16.,  nan,  24.],\n",
       "        [ nan,  nan,  nan,  nan,  nan],\n",
       "        [ 12.,  18.,  24.,  nan,  36.]]])"
      ]
     },
     "execution_count": 2,
     "metadata": {},
     "output_type": "execute_result"
    }
   ],
   "source": [
    "x1=np.array([1,np.NaN,3,4,5])\n",
    "x2=np.array([2,3,4,np.NaN,6])\n",
    "stacked=np.array([np.outer(x1,x1),np.outer(x2,x2)])\n",
    "stacked"
   ]
  },
  {
   "cell_type": "code",
   "execution_count": 3,
   "metadata": {
    "run_control": {
     "frozen": false,
     "read_only": false
    },
    "slideshow": {
     "slide_type": "subslide"
    }
   },
   "outputs": [
    {
     "name": "stderr",
     "output_type": "stream",
     "text": [
      "c:\\Users\\wenyan\\Anaconda2\\lib\\site-packages\\numpy\\lib\\nanfunctions.py:703: RuntimeWarning: Mean of empty slice\n",
      "  warnings.warn(\"Mean of empty slice\", RuntimeWarning)\n"
     ]
    },
    {
     "data": {
      "text/plain": [
       "array([[  2.5,   6. ,   5.5,   4. ,   8.5],\n",
       "       [  6. ,   9. ,  12. ,   nan,  18. ],\n",
       "       [  5.5,  12. ,  12.5,  12. ,  19.5],\n",
       "       [  4. ,   nan,  12. ,  16. ,  20. ],\n",
       "       [  8.5,  18. ,  19.5,  20. ,  30.5]])"
      ]
     },
     "execution_count": 3,
     "metadata": {},
     "output_type": "execute_result"
    }
   ],
   "source": [
    "np.nanmean(stacked,axis=0)"
   ]
  },
  {
   "cell_type": "markdown",
   "metadata": {
    "run_control": {
     "frozen": false,
     "read_only": false
    },
    "slideshow": {
     "slide_type": "slide"
    }
   },
   "source": [
    "### Loading Data into Dataframe"
   ]
  },
  {
   "cell_type": "code",
   "execution_count": 4,
   "metadata": {
    "collapsed": true,
    "run_control": {
     "frozen": false,
     "read_only": false
    },
    "slideshow": {
     "slide_type": "skip"
    }
   },
   "outputs": [],
   "source": [
    "import findspark\n",
    "findspark.init()\n",
    "\n",
    "from pyspark import SparkContext\n",
    "#sc.stop()\n",
    "## add after creating spark_PCA.py\n",
    "sc = SparkContext(master=\"local[3]\",pyFiles=['lib/numpy_pack.py','lib/computeStats.py','lib/spark_PCA.py']) #\n",
    "\n",
    "from pyspark import SparkContext\n",
    "from pyspark.sql import *\n",
    "sqlContext = SQLContext(sc)"
   ]
  },
  {
   "cell_type": "code",
   "execution_count": 5,
   "metadata": {
    "run_control": {
     "frozen": false,
     "read_only": false
    },
    "slideshow": {
     "slide_type": "skip"
    }
   },
   "outputs": [],
   "source": [
    "import sys\n",
    "sys.path.append('./lib')\n",
    "\n",
    "import numpy as np\n",
    "from numpy_pack import packArray,unpackArray\n",
    "# add after creating spark_PCA.py\n",
    "# from spark_PCA import computeCov\n",
    "from computeStats import computeOverAllDist, STAT_Descriptions"
   ]
  },
  {
   "cell_type": "markdown",
   "metadata": {
    "run_control": {
     "frozen": false,
     "read_only": false
    },
    "slideshow": {
     "slide_type": "slide"
    }
   },
   "source": [
    "### Climate data\n",
    "\n",
    "The data we will use here comes from [NOAA](https://www.ncdc.noaa.gov/). Specifically, it was downloaded from This [FTP site](ftp://ftp.ncdc.noaa.gov/pub/data/ghcn/daily/).\n",
    "\n",
    "There is a large variety of measurements from all over the world, from 1870 will 2012.\n",
    "in the directory `../../Data/Weather` you will find the following useful files:\n",
    "\n",
    "* data-source.txt: the source of the data\n",
    "* ghcnd-readme.txt: A description of the content and format of the data\n",
    "* ghcnd-stations.txt: A table describing the Meteorological stations.\n",
    "\n"
   ]
  },
  {
   "cell_type": "markdown",
   "metadata": {
    "run_control": {
     "frozen": false,
     "read_only": false
    },
    "slideshow": {
     "slide_type": "subslide"
    }
   },
   "source": [
    "### Data cleaning\n",
    "\n",
    "* Most measurements exists only for a tiny fraction of the stations and years. We therefor restrict our use to the following measurements:\n",
    "```python\n",
    "['TMAX', 'SNOW', 'SNWD', 'TMIN', 'PRCP', 'TOBS']\n",
    "```\n",
    "\n",
    "* We consider only measurement-years that have at most 50 `NaN` entries\n",
    "\n",
    "* We consider only measurements in the continential USA\n",
    "\n",
    "* We partition the stations into 256 geographical rectangles, indexed from BBBBBBBB to SSSSSSSS. And each containing about 12,000 station,year pairs."
   ]
  },
  {
   "cell_type": "code",
   "execution_count": 6,
   "metadata": {
    "run_control": {
     "frozen": false,
     "read_only": false
    },
    "scrolled": true,
    "slideshow": {
     "slide_type": "skip"
    }
   },
   "outputs": [
    {
     "name": "stdout",
     "output_type": "stream",
     "text": [
      "../../Data/Weather/US_Weather_SSSBSBBB.csv*\n",
      "curl https://mas-dse-open.s3.amazonaws.com/Weather/small/US_Weather_SSSBSBBB.csv.gz > ../../Data/Weather/US_Weather_SSSBSBBB.csv.gz\n"
     ]
    },
    {
     "name": "stderr",
     "output_type": "stream",
     "text": [
      "      0 [main] ls 9412 find_fast_cwd: WARNING: Couldn't compute FAST_CWD pointer.  Please report this problem to\n",
      "the public mailing list cygwin@cygwin.com\n",
      "ls: cannot access ../../Data/Weather/US_Weather_SSSBSBBB.csv.gz: No such file or directory\n"
     ]
    }
   ],
   "source": [
    "file_index='SSSBSBBB'\n",
    "filebase='US_Weather_%s'%file_index\n",
    "filename='US_Weather_%s.csv.gz'%file_index\n",
    "data_dir='../../Data/Weather'\n",
    "del_files='%s/%s*'%(data_dir,filename[:-3])\n",
    "print del_files\n",
    "#!rm $del_files\n",
    "command=\"curl https://mas-dse-open.s3.amazonaws.com/Weather/small/%s > %s/%s\"%(filename,data_dir,filename)\n",
    "print command\n",
    "#!$command\n",
    "!ls -lh $data_dir/$filename"
   ]
  },
  {
   "cell_type": "code",
   "execution_count": 7,
   "metadata": {
    "run_control": {
     "frozen": false,
     "read_only": false
    },
    "slideshow": {
     "slide_type": "skip"
    }
   },
   "outputs": [
    {
     "name": "stderr",
     "output_type": "stream",
     "text": [
      "      1 [main] gzip 4256 find_fast_cwd: WARNING: Couldn't compute FAST_CWD pointer.  Please report this problem to\n",
      "the public mailing list cygwin@cygwin.com\n",
      "gzip: ../../Data/Weather/US_Weather_SSSBSBBB.csv.gz: No such file or directory\n"
     ]
    },
    {
     "name": "stdout",
     "output_type": "stream",
     "text": [
      "---------- 1 wenyan mkpasswd 13M May 14 14:28 ../../Data/Weather/US_Weather_SSSBSBBB.csv\n"
     ]
    },
    {
     "name": "stderr",
     "output_type": "stream",
     "text": [
      "      0 [main] ls 8928 find_fast_cwd: WARNING: Couldn't compute FAST_CWD pointer.  Please report this problem to\n",
      "the public mailing list cygwin@cygwin.com\n"
     ]
    }
   ],
   "source": [
    "!gzip -d $data_dir/$filename\n",
    "filename=data_dir+'/US_Weather_SSSBSBBB.csv'\n",
    "!ls -lh $filename"
   ]
  },
  {
   "cell_type": "code",
   "execution_count": 8,
   "metadata": {
    "run_control": {
     "frozen": false,
     "read_only": false
    },
    "scrolled": true,
    "slideshow": {
     "slide_type": "subslide"
    }
   },
   "outputs": [
    {
     "data": {
      "text/plain": [
       "12930"
      ]
     },
     "execution_count": 8,
     "metadata": {},
     "output_type": "execute_result"
    }
   ],
   "source": [
    "import pickle\n",
    "List=pickle.load(open(filename,'rb'))\n",
    "len(List)"
   ]
  },
  {
   "cell_type": "code",
   "execution_count": 69,
   "metadata": {
    "run_control": {
     "frozen": false,
     "read_only": false
    },
    "slideshow": {
     "slide_type": "subslide"
    }
   },
   "outputs": [
    {
     "name": "stdout",
     "output_type": "stream",
     "text": [
      "12930\n",
      "+---------+--------+---------+-----------+-----------+------+--------------------+------+--------+\n",
      "|elevation|latitude|longitude|measurement|    station|undefs|              vector|  year|   label|\n",
      "+---------+--------+---------+-----------+-----------+------+--------------------+------+--------+\n",
      "|   1368.2| 39.6372|-119.7094|       TMAX|USC00267691|     7|[80 4D 90 55 80 5...|2010.0|SSSBSBBB|\n",
      "|   1368.2| 39.6372|-119.7094|       TMIN|USC00267691|    10|[A0 D3 80 D4 90 D...|2010.0|SSSBSBBB|\n",
      "|   1369.5| 39.5333|-119.8167|       TMAX|USC00266782|    32|[80 54 30 55 90 5...|1893.0|SSSBSBBB|\n",
      "|   1369.5| 39.5333|-119.8167|       TMAX|USC00266782|     0|[40 56 90 55 80 5...|1896.0|SSSBSBBB|\n",
      "|   1369.5| 39.5333|-119.8167|       TMAX|USC00266782|     4|[30 55 90 55 30 5...|1897.0|SSSBSBBB|\n",
      "+---------+--------+---------+-----------+-----------+------+--------------------+------+--------+\n",
      "only showing top 5 rows\n",
      "\n"
     ]
    }
   ],
   "source": [
    "df=sqlContext.createDataFrame(List)\n",
    "print df.count()\n",
    "df.show(5)"
   ]
  },
  {
   "cell_type": "code",
   "execution_count": 10,
   "metadata": {},
   "outputs": [],
   "source": [
    "#store dataframe as parquet file\n",
    "filebase='US_Weather_%s'%file_index\n",
    "outfilename=data_dir+'/'+filebase+'.parquet'\n",
    "!rm -rf $outfilename\n",
    "df.write.save(outfilename)"
   ]
  },
  {
   "cell_type": "code",
   "execution_count": 4,
   "metadata": {},
   "outputs": [
    {
     "data": {
      "text/plain": [
       "[0, 31, 59, 90, 120, 151, 181, 212, 243, 273, 304, 334]"
      ]
     },
     "execution_count": 4,
     "metadata": {},
     "output_type": "execute_result"
    }
   ],
   "source": [
    "dom = [31,28,31,30,31,30,31,31,30,31,30,31]\n",
    "[sum(dom[:i]) for i in range(12)]"
   ]
  },
  {
   "cell_type": "code",
   "execution_count": 90,
   "metadata": {
    "collapsed": true
   },
   "outputs": [],
   "source": [
    "def averageByMonth(vector):\n",
    "    dom = [31,28,31,30,31,30,31,31,30,31,30,31]\n",
    "    i = 0\n",
    "    monthly = []\n",
    "    for m in dom:\n",
    "        monthly.append(np.nanmean(vector[i:i+m]))\n",
    "        i+=m\n",
    "    return np.array(monthly)\n",
    "\n",
    "def to_monthly(row):\n",
    "    row_new = copy(row)\n",
    "    row_new['vector'] = packArray(averageByMonth(unpackArray(row['vector'],np.float16)))\n",
    "    return row_new"
   ]
  },
  {
   "cell_type": "code",
   "execution_count": 116,
   "metadata": {},
   "outputs": [],
   "source": [
    "from pyspark.sql.functions import udf\n",
    "from pyspark.sql.types import BinaryType\n",
    "\n",
    "daily_to_monthly = udf(lambda vector: packArray(averageByMonth(unpackArray(vector,np.float16))), BinaryType())\n",
    "#df.withColumn(\"day\", day(df.date_time))\n",
    "\n",
    "df_monthly = df.withColumn('vector', daily_to_monthly(df.vector))"
   ]
  },
  {
   "cell_type": "code",
   "execution_count": 122,
   "metadata": {},
   "outputs": [
    {
     "name": "stderr",
     "output_type": "stream",
     "text": [
      "      0 [main] rm 4400 find_fast_cwd: WARNING: Couldn't compute FAST_CWD pointer.  Please report this problem to\n",
      "the public mailing list cygwin@cygwin.com\n"
     ]
    }
   ],
   "source": [
    "#store dataframe as parquet file\n",
    "filebase='US_Weather_monthly_%s'%file_index\n",
    "outfilename=data_dir+'/'+filebase+'.parquet'\n",
    "!rm -rf $outfilename\n",
    "df_monthly.write.save(outfilename)"
   ]
  },
  {
   "cell_type": "code",
   "execution_count": 119,
   "metadata": {
    "run_control": {
     "frozen": false,
     "read_only": false
    },
    "slideshow": {
     "slide_type": "subslide"
    }
   },
   "outputs": [],
   "source": [
    "sqlContext.registerDataFrameAsTable(df,'weather') #using older sqlContext instead of newer (V2.0) sparkSession\n",
    "sqlContext.registerDataFrameAsTable(df_monthly,'weather_monthly') #using older sqlContext instead of newer (V2.0) sparkSession"
   ]
  },
  {
   "cell_type": "code",
   "execution_count": 12,
   "metadata": {
    "run_control": {
     "frozen": false,
     "read_only": false
    },
    "slideshow": {
     "slide_type": "skip"
    }
   },
   "outputs": [
    {
     "name": "stdout",
     "output_type": "stream",
     "text": [
      "Number of executors= 3\n",
      "took 0.000999927520752 seconds\n"
     ]
    }
   ],
   "source": [
    "from time import time\n",
    "t=time()\n",
    "\n",
    "N=sc.defaultParallelism\n",
    "print 'Number of executors=',N\n",
    "print 'took',time()-t,'seconds'"
   ]
  },
  {
   "cell_type": "markdown",
   "metadata": {
    "run_control": {
     "frozen": false,
     "read_only": false
    },
    "slideshow": {
     "slide_type": "slide"
    }
   },
   "source": [
    "### Computing PCA for each measurement"
   ]
  },
  {
   "cell_type": "code",
   "execution_count": 13,
   "metadata": {
    "run_control": {
     "frozen": false,
     "read_only": false
    },
    "slideshow": {
     "slide_type": "fragment"
    }
   },
   "outputs": [],
   "source": [
    "measurements=['TMAX', 'SNOW', 'SNWD', 'TMIN', 'PRCP', 'TOBS']"
   ]
  },
  {
   "cell_type": "markdown",
   "metadata": {
    "run_control": {
     "frozen": false,
     "read_only": false
    },
    "slideshow": {
     "slide_type": "subslide"
    }
   },
   "source": [
    "#### Homework\n",
    "The code below computes the covariance matrix using RDDs.\n",
    "The code allows undefined entries and calculates the covariance without bias.\n",
    "\n",
    "Your homework is to complete the missing parts in the code (Marked with `...`) so that it would calculate the covariance correctly."
   ]
  },
  {
   "cell_type": "code",
   "execution_count": 14,
   "metadata": {
    "collapsed": true,
    "run_control": {
     "frozen": false,
     "read_only": false
    },
    "slideshow": {
     "slide_type": "subslide"
    }
   },
   "outputs": [],
   "source": [
    "#%%writefile lib/spark_PCA.py #once this works correctly, you should add it to the `lib` directory\n",
    "# and use import\n",
    "\n",
    "import numpy as np\n",
    "from numpy import linalg as LA\n",
    "\n",
    "def outerProduct(X):\n",
    "    \"\"\"Computer outer product and indicate which locations in matrix are undefined\"\"\"\n",
    "    O=np.outer(X,X)\n",
    "    N=1-np.isnan(O)\n",
    "    return (O,N)\n",
    "\n",
    "def sumWithNan(M1,M2):\n",
    "    \"\"\"Add two pairs of (matrix,count)\"\"\"\n",
    "    (X1,N1)=M1\n",
    "    (X2,N2)=M2\n",
    "    N=N1+N2\n",
    "    X=np.nansum(np.dstack((X1,X2)),axis=2)\n",
    "    return (X,N)\n",
    "\n",
    "def computeCov(RDDin):\n",
    "    \"\"\"computeCov recieves as input an RDD of np arrays, all of the same length, \n",
    "    and computes the covariance matrix for that set of vectors\"\"\"\n",
    "    RDD=RDDin.map(lambda v:np.array(np.insert(v,0,1),dtype=np.float64)) \n",
    "                     # insert a 1 at the beginning of each vector so that the same \n",
    "                     #calculation also yields the mean vector\n",
    "    OuterRDD=RDD.map(outerProduct)  # separating the map and the reduce does not matter because of Spark uses lazy execution.\n",
    "    (S,N)=OuterRDD.reduce(sumWithNan)\n",
    "    E=S[0,1:]\n",
    "    NE=np.float64(N[0,1:])\n",
    "    print 'shape of E=',E.shape,'shape of NE=',NE.shape\n",
    "    Mean=E/NE\n",
    "    O=S[1:,1:]\n",
    "    NO=np.float64(N[1:,1:])\n",
    "    Cov=O/NO - np.outer(Mean,Mean)\n",
    "    # Output also the diagnal which is the variance for each day\n",
    "    Var=np.array([Cov[i,i] for i in range(Cov.shape[0])])\n",
    "    return {'E':E,'NE':NE,'O':O,'NO':NO,'Cov':Cov,'Mean':Mean,'Var':Var}"
   ]
  },
  {
   "cell_type": "code",
   "execution_count": 17,
   "metadata": {
    "run_control": {
     "frozen": false,
     "read_only": false
    },
    "scrolled": true,
    "slideshow": {
     "slide_type": "subslide"
    }
   },
   "outputs": [
    {
     "name": "stdout",
     "output_type": "stream",
     "text": [
      "SELECT * FROM weather\n",
      "\tWHERE measurement='TMAX' \n",
      "shape of E= (365L,) shape of NE= (365L,)\n",
      "time for TMAX is 34.2880001068\n",
      "SELECT * FROM weather\n",
      "\tWHERE measurement='SNOW' \n",
      "shape of E= (365L,) shape of NE= (365L,)\n",
      "time for SNOW is 29.6659998894\n",
      "SELECT * FROM weather\n",
      "\tWHERE measurement='SNWD' \n",
      "shape of E= (365L,) shape of NE= (365L,)\n",
      "time for SNWD is 25.5550000668\n",
      "SELECT * FROM weather\n",
      "\tWHERE measurement='TMIN' \n",
      "shape of E= (365L,) shape of NE= (365L,)\n",
      "time for TMIN is 32.8420000076\n",
      "SELECT * FROM weather\n",
      "\tWHERE measurement='PRCP' \n",
      "shape of E= (365L,) shape of NE= (365L,)\n",
      "time for PRCP is 35.4539999962\n",
      "SELECT * FROM weather\n",
      "\tWHERE measurement='TOBS' \n",
      "shape of E= (365L,) shape of NE= (365L,)\n",
      "time for TOBS is 23.6119999886\n"
     ]
    }
   ],
   "source": [
    "from numpy import linalg as LA\n",
    "STAT={}  # dictionary storing the statistics for each measurement\n",
    "Clean_Tables={}\n",
    "\n",
    "for meas in measurements:\n",
    "    t=time()\n",
    "    Query=\"SELECT * FROM weather\\n\\tWHERE measurement='%s' \"%(meas)\n",
    "    print Query\n",
    "    df1 = sqlContext.sql(Query)\n",
    "    data=df1.rdd.map(lambda row: unpackArray(row['vector'],np.float16))\n",
    "    #get basic statistics\n",
    "    STAT[meas]=computeOverAllDist(data)   # Compute the statistics \n",
    "\n",
    "    # compute covariance matrix\n",
    "    OUT=computeCov(data)\n",
    "\n",
    "    #find PCA decomposition\n",
    "    eigval,eigvec=LA.eig(OUT['Cov'])\n",
    "\n",
    "    # collect all of the statistics in STAT[meas]\n",
    "    STAT[meas]['eigval']=eigval\n",
    "    STAT[meas]['eigvec']=eigvec\n",
    "    STAT[meas].update(OUT)\n",
    "\n",
    "    print 'time for',meas,'is',time()-t"
   ]
  },
  {
   "cell_type": "code",
   "execution_count": 21,
   "metadata": {},
   "outputs": [
    {
     "data": {
      "text/plain": [
       "{'Cov': array([[ 3845.68476627,  2952.35342334,  2031.12085187, ...,\n",
       "           961.7690815 ,  1037.77936595,  1259.0198822 ],\n",
       "        [ 2952.35342334,  4064.01905519,  3060.93253379, ...,\n",
       "          1026.76997668,  1122.07990915,  1374.36361552],\n",
       "        [ 2031.12085187,  3060.93253379,  4492.4231735 , ...,\n",
       "          1232.78658599,  1292.24520079,  1543.53302237],\n",
       "        ..., \n",
       "        [  961.7690815 ,  1026.76997668,  1232.78658599, ...,\n",
       "          3479.72757828,  2791.34961772,  2304.25063747],\n",
       "        [ 1037.77936595,  1122.07990915,  1292.24520079, ...,\n",
       "          2791.34961772,  3718.45413395,  2912.2451099 ],\n",
       "        [ 1259.0198822 ,  1374.36361552,  1543.53302237, ...,\n",
       "          2304.25063747,  2912.2451099 ,  3831.16574049]]),\n",
       " 'E': array([-157922., -164322., -168709., -165125., -165648., -165866.,\n",
       "        -148950., -145902., -141158., -134723., -148891., -149337.,\n",
       "        -148110., -140731., -142112., -146280., -150503., -145253.,\n",
       "        -147857., -156370., -157452., -149018., -148813., -141868.,\n",
       "        -136726., -134706., -147380., -160527., -160566., -149683.,\n",
       "        -152229., -143746., -150581., -143471., -131379., -124868.,\n",
       "        -113843., -115698., -121406., -128214., -125561., -121746.,\n",
       "        -123282., -120223., -126393., -125095., -112675., -109980.,\n",
       "        -115432., -117835., -116626., -113974., -108689., -117101.,\n",
       "        -115439., -114425., -116447., -110349., -109874., -106646.,\n",
       "         -98737., -107443., -109865., -103780.,  -95398.,  -96772.,\n",
       "         -81716.,  -75883.,  -81922.,  -85888.,  -76802.,  -76363.,\n",
       "         -83011.,  -79817.,  -70225.,  -68143.,  -68864.,  -66507.,\n",
       "         -64043.,  -54129.,  -58052.,  -53209.,  -57710.,  -55294.,\n",
       "         -62104.,  -56997.,  -55276.,  -56750.,  -47697.,  -48410.,\n",
       "         -45056.,  -45565.,  -39250.,  -33868.,  -30015.,  -24709.,\n",
       "         -36075.,  -35138.,  -34108.,  -28293.,  -21383.,  -18432.,\n",
       "         -19646.,  -14919.,  -18607.,  -13702.,   -6545.,  -11490.,\n",
       "          -8198.,   -3498.,    4351.,    6292.,   11346.,   11489.,\n",
       "          10557.,   15293.,   22775.,   24425.,   15587.,   21389.,\n",
       "          27076.,   35251.,   45016.,   53182.,   53559.,   56802.,\n",
       "          62111.,   59703.,   59815.,   59059.,   65448.,   72116.,\n",
       "          79992.,   89217.,   89474.,   87582.,   95252.,   97416.,\n",
       "          96321.,   96497.,   93754.,   96309.,  109784.,  112862.,\n",
       "         116214.,  122532.,  125472.,  119437.,  122169.,  126714.,\n",
       "         139547.,  144311.,  146468.,  151570.,  158366.,  153711.,\n",
       "         152938.,  145448.,  143993.,  152342.,  155052.,  156812.,\n",
       "         169494.,  168839.,  176382.,  180382.,  181174.,  183033.,\n",
       "         191238.,  197016.,  203831.,  204697.,  202460.,  212348.,\n",
       "         206681.,  208675.,  213152.,  220667.,  224845.,  221268.,\n",
       "         219688.,  225050.,  237831.,  235119.,  232689.,  237108.,\n",
       "         241061.,  250382.,  252023.,  261483.,  262246.,  262414.,\n",
       "         271749.,  278176.,  280256.,  281288.,  285408.,  281073.,\n",
       "         281617.,  280579.,  280950.,  284536.,  286340.,  290124.,\n",
       "         293617.,  286854.,  285791.,  287044.,  298250.,  292103.,\n",
       "         291977.,  283513.,  276322.,  271337.,  266884.,  268115.,\n",
       "         263125.,  260458.,  260594.,  265788.,  264842.,  267967.,\n",
       "         267380.,  265443.,  265033.,  261049.,  254108.,  250935.,\n",
       "         247022.,  245808.,  238220.,  232893.,  231116.,  229331.,\n",
       "         230490.,  232440.,  233540.,  234622.,  221365.,  225749.,\n",
       "         226403.,  218046.,  211384.,  210059.,  213956.,  216192.,\n",
       "         209104.,  200969.,  200498.,  193903.,  186951.,  183096.,\n",
       "         179467.,  174800.,  170207.,  163362.,  154465.,  152888.,\n",
       "         151090.,  149771.,  149723.,  143120.,  131718.,  132725.,\n",
       "         132636.,  131013.,  129599.,  132264.,  130910.,  135276.,\n",
       "         128731.,  121199.,  116934.,  120258.,  111733.,   92956.,\n",
       "          88787.,   82188.,   80659.,   76579.,   76074.,   73173.,\n",
       "          70534.,   65794.,   55546.,   54514.,   53145.,   56074.,\n",
       "          53443.,   40419.,   39680.,   37331.,   34903.,   22564.,\n",
       "          20385.,   27665.,   17281.,   15141.,   16120.,    4022.,\n",
       "            477.,   -3950.,  -16983.,  -19547.,  -22297.,  -25754.,\n",
       "         -20813.,  -27585.,  -21822.,  -23702.,  -23435.,  -33787.,\n",
       "         -41665.,  -46508.,  -50752.,  -51906.,  -54226.,  -56662.,\n",
       "         -68312.,  -61610.,  -58463.,  -73539.,  -76685.,  -74806.,\n",
       "         -84815.,  -95545.,  -96426.,  -96069.,  -92191., -100067.,\n",
       "        -109892., -109651., -107542., -105367., -100683., -104459.,\n",
       "        -106966., -111368., -114545., -115514., -124473., -139472.,\n",
       "        -123981., -121647., -128287., -134502., -135774., -151595.,\n",
       "        -149016., -147491., -144710., -148979., -149820., -149113.,\n",
       "        -150484., -158849., -164892., -161688., -160287., -162462.,\n",
       "        -151755., -139524., -144042., -153634., -165646.]),\n",
       " 'Mean': array([ -62.91713147,  -64.59198113,  -65.74785659,  -64.60289515,\n",
       "         -64.35431235,  -64.31407522,  -57.73255814,  -56.46362229,\n",
       "         -54.7124031 ,  -51.91637765,  -57.64266357,  -57.70363215,\n",
       "         -57.05315871,  -54.1064975 ,  -54.91190108,  -56.45696642,\n",
       "         -58.04203625,  -55.95261941,  -56.97764933,  -60.49129594,\n",
       "         -60.83925811,  -57.42504817,  -57.16980407,  -54.62764729,\n",
       "         -52.68824663,  -51.94986502,  -56.66282199,  -61.48104175,\n",
       "         -61.70868563,  -57.9941883 ,  -58.93495935,  -55.28692308,\n",
       "         -57.84902036,  -55.0118865 ,  -50.47214752,  -47.89719985,\n",
       "         -43.90397223,  -44.60215883,  -46.64079908,  -49.01146789,\n",
       "         -47.9240458 ,  -46.37942857,  -47.07216495,  -46.09777607,\n",
       "         -48.31536697,  -47.85577659,  -43.08795411,  -42.05736138,\n",
       "         -44.24377156,  -45.21680737,  -44.71855828,  -43.63476263,\n",
       "         -41.70721412,  -44.83192956,  -44.17872178,  -43.79066207,\n",
       "         -44.56448527,  -42.37672811,  -42.14576141,  -40.79801071,\n",
       "         -37.80130168,  -40.97749809,  -41.7103265 ,  -39.49010654,\n",
       "         -36.53695902,  -37.04900459,  -31.1774132 ,  -28.99617883,\n",
       "         -31.20838095,  -32.73170732,  -29.30255628,  -29.14618321,\n",
       "         -31.70779221,  -30.41806402,  -26.77277926,  -26.0485474 ,\n",
       "         -26.29400535,  -25.38435115,  -24.43456696,  -20.67570665,\n",
       "         -22.09821089,  -20.27782012,  -21.88471748,  -21.03233169,\n",
       "         -23.73098968,  -21.70487433,  -21.03348554,  -21.67685256,\n",
       "         -18.23279817,  -18.58349328,  -17.17727793,  -17.40450726,\n",
       "         -14.96378193,  -12.94153611,  -11.42123288,   -9.40936786,\n",
       "         -13.69589977,  -13.41145038,  -13.01335368,  -10.77828571,\n",
       "          -8.12732801,   -7.0351145 ,   -7.52432018,   -5.68342857,\n",
       "          -7.10733384,   -5.22179878,   -2.50766284,   -4.39724455,\n",
       "          -3.13020237,   -1.33562428,    1.65689261,    2.39695238,\n",
       "           4.3157094 ,    4.38344143,    4.02478079,    5.83925162,\n",
       "           8.70603976,    9.31185665,    5.94016768,    8.18874426,\n",
       "          10.35807192,   13.51130701,   17.25412035,   20.3295107 ,\n",
       "          20.47362385,   21.62238295,   23.71554028,   22.80481283,\n",
       "          22.83015267,   22.58470363,   24.95158216,   27.50419527,\n",
       "          30.50800915,   34.09132595,   34.25497703,   33.69834552,\n",
       "          36.57910906,   37.30984297,   36.98963134,   36.98620161,\n",
       "          35.83868502,   36.77319588,   41.83841463,   43.27530675,\n",
       "          44.30575677,   46.78579611,   47.98164436,   45.81396241,\n",
       "          46.70068807,   48.49368542,   53.7546225 ,   55.27039448,\n",
       "          56.18258535,   57.82907287,   60.58377965,   58.78049713,\n",
       "          58.37328244,   55.53570065,   54.93819153,   58.12361694,\n",
       "          59.        ,   59.69242482,   64.59375   ,   64.44236641,\n",
       "          67.24437667,   68.63850837,   69.01866667,   69.64726027,\n",
       "          72.90812047,   75.16825639,   77.62033511,   77.97980952,\n",
       "          76.98098859,   80.83288923,   78.765625  ,   79.52553354,\n",
       "          81.2007619 ,   84.15980168,   85.98279159,   84.58256881,\n",
       "          84.10719755,   86.3915547 ,   91.29788868,   90.11843618,\n",
       "          90.29452852,   91.09028045,   92.32516277,   96.0053681 ,\n",
       "          96.22871325,   99.84077892,  100.51590648,  100.50325546,\n",
       "         104.07851398,  106.33639144,  106.92712705,  107.56711281,\n",
       "         108.72685714,  107.1979405 ,  107.36446817,  107.05036246,\n",
       "         107.11017918,  108.43597561,  109.62480858,  111.50038432,\n",
       "         112.11034746,  109.65366972,  109.33091048,  109.68437142,\n",
       "         114.05353728,  111.74560061,  111.39908432,  108.83416507,\n",
       "         105.82995021,  103.48474447,  102.01987768,  102.68671007,\n",
       "         100.62141491,   99.60152964,   99.50133639,  101.48453608,\n",
       "         101.43316737,  102.47304015,  102.13139801,  101.78029141,\n",
       "         101.50631942,   99.67506682,   97.6212063 ,   95.84988541,\n",
       "          94.21128909,   94.10719755,   91.30701418,   89.47099501,\n",
       "          88.61809816,   87.79900459,   88.27652241,   89.15995397,\n",
       "          89.51322346,   89.82465544,   84.81417625,   86.62663085,\n",
       "          86.71122175,   83.41469013,   81.33282032,   80.91640986,\n",
       "          82.73627224,   83.34309946,   80.27024952,   77.20668459,\n",
       "          76.99615975,   74.29233716,   71.7937788 ,   69.93735676,\n",
       "          68.62982792,   66.94752968,   65.31350729,   62.47112811,\n",
       "          59.20467612,   58.60022997,   57.95550441,   57.53784095,\n",
       "          57.51940069,   54.98271226,   50.48600997,   50.71646924,\n",
       "          50.74062739,   50.08142202,   49.76920123,   50.85121107,\n",
       "          50.2919708 ,   51.73078394,   49.45485978,   46.45419701,\n",
       "          45.02656912,   46.59356838,   43.1568173 ,   35.80739599,\n",
       "          34.18829419,   31.6229319 ,   31.01076509,   29.52158828,\n",
       "          29.40626208,   28.15429011,   27.09719554,   25.24712203,\n",
       "          21.36384615,   20.97499038,   20.41682674,   21.45141546,\n",
       "          20.48409352,   15.56972265,   15.33822961,   14.38574181,\n",
       "          13.42423077,    8.67179093,    7.84340131,   10.64038462,\n",
       "           6.68252127,    5.83243451,    6.2       ,    1.54158681,\n",
       "           0.18289877,   -1.51573292,   -6.5218894 ,   -7.5558562 ,\n",
       "          -8.62219644,   -9.875     ,   -7.97738597,  -10.54069545,\n",
       "          -8.35451761,   -9.05693542,   -8.94465649,  -12.88596491,\n",
       "         -16.00038402,  -17.77149408,  -19.66369624,  -20.04092664,\n",
       "         -20.77624521,  -21.76796005,  -26.15313936,  -23.56924254,\n",
       "         -22.50307929,  -28.29511351,  -29.56245181,  -28.68328221,\n",
       "         -32.70921712,  -37.00426026,  -37.24449594,  -37.04936367,\n",
       "         -35.71910112,  -38.62099575,  -42.44573194,  -42.46746708,\n",
       "         -41.60232108,  -40.69795288,  -38.93387471,  -40.22294956,\n",
       "         -41.09335382,  -43.11575687,  -44.31141199,  -44.6       ,\n",
       "         -48.17066563,  -53.99612853,  -48.54385278,  -47.49980476,\n",
       "         -50.01442495,  -52.35578046,  -52.32138728,  -58.68950832,\n",
       "         -57.71340046,  -57.01236954,  -55.91576507,  -57.67673248,\n",
       "         -58.0472685 ,  -57.61707883,  -58.73692428,  -61.90530008,\n",
       "         -64.1852861 ,  -64.00950119,  -63.88481467,  -63.83575639,\n",
       "         -59.46512539,  -54.45901639,  -56.39859045,  -59.75651497,\n",
       "         -64.93375147]),\n",
       " 'NE': array([ 2510.,  2544.,  2566.,  2556.,  2574.,  2579.,  2580.,  2584.,\n",
       "         2580.,  2595.,  2583.,  2588.,  2596.,  2601.,  2588.,  2591.,\n",
       "         2593.,  2596.,  2595.,  2585.,  2588.,  2595.,  2603.,  2597.,\n",
       "         2595.,  2593.,  2601.,  2611.,  2602.,  2581.,  2583.,  2600.,\n",
       "         2603.,  2608.,  2603.,  2607.,  2593.,  2594.,  2603.,  2616.,\n",
       "         2620.,  2625.,  2619.,  2608.,  2616.,  2614.,  2615.,  2615.,\n",
       "         2609.,  2606.,  2608.,  2612.,  2606.,  2612.,  2613.,  2613.,\n",
       "         2613.,  2604.,  2607.,  2614.,  2612.,  2622.,  2634.,  2628.,\n",
       "         2611.,  2612.,  2621.,  2617.,  2625.,  2624.,  2621.,  2620.,\n",
       "         2618.,  2624.,  2623.,  2616.,  2619.,  2620.,  2621.,  2618.,\n",
       "         2627.,  2624.,  2637.,  2629.,  2617.,  2626.,  2628.,  2618.,\n",
       "         2616.,  2605.,  2623.,  2618.,  2623.,  2617.,  2628.,  2626.,\n",
       "         2634.,  2620.,  2621.,  2625.,  2631.,  2620.,  2611.,  2625.,\n",
       "         2618.,  2624.,  2610.,  2613.,  2619.,  2619.,  2626.,  2625.,\n",
       "         2629.,  2621.,  2623.,  2619.,  2616.,  2623.,  2624.,  2612.,\n",
       "         2614.,  2609.,  2609.,  2616.,  2616.,  2627.,  2619.,  2618.,\n",
       "         2620.,  2615.,  2623.,  2622.,  2622.,  2617.,  2612.,  2599.,\n",
       "         2604.,  2611.,  2604.,  2609.,  2616.,  2619.,  2624.,  2608.,\n",
       "         2623.,  2619.,  2615.,  2607.,  2616.,  2613.,  2596.,  2611.,\n",
       "         2607.,  2621.,  2614.,  2615.,  2620.,  2619.,  2621.,  2621.,\n",
       "         2628.,  2627.,  2624.,  2620.,  2623.,  2628.,  2625.,  2628.,\n",
       "         2623.,  2621.,  2626.,  2625.,  2630.,  2627.,  2624.,  2624.,\n",
       "         2625.,  2622.,  2615.,  2616.,  2612.,  2605.,  2605.,  2609.,\n",
       "         2577.,  2603.,  2611.,  2608.,  2619.,  2619.,  2609.,  2611.,\n",
       "         2611.,  2616.,  2621.,  2615.,  2625.,  2622.,  2623.,  2621.,\n",
       "         2623.,  2624.,  2612.,  2602.,  2619.,  2616.,  2614.,  2617.,\n",
       "         2615.,  2614.,  2621.,  2605.,  2611.,  2622.,  2616.,  2611.,\n",
       "         2615.,  2615.,  2619.,  2619.,  2611.,  2615.,  2618.,  2608.,\n",
       "         2611.,  2619.,  2603.,  2618.,  2622.,  2612.,  2609.,  2603.,\n",
       "         2608.,  2612.,  2611.,  2607.,  2609.,  2612.,  2610.,  2606.,\n",
       "         2611.,  2614.,  2599.,  2596.,  2586.,  2594.,  2605.,  2603.,\n",
       "         2604.,  2610.,  2604.,  2618.,  2615.,  2611.,  2606.,  2615.,\n",
       "         2609.,  2609.,  2607.,  2603.,  2603.,  2603.,  2609.,  2617.,\n",
       "         2614.,  2616.,  2604.,  2601.,  2603.,  2615.,  2603.,  2609.,\n",
       "         2597.,  2581.,  2589.,  2596.,  2597.,  2599.,  2601.,  2594.,\n",
       "         2587.,  2599.,  2603.,  2606.,  2600.,  2599.,  2603.,  2614.,\n",
       "         2609.,  2596.,  2587.,  2595.,  2600.,  2602.,  2599.,  2600.,\n",
       "         2586.,  2596.,  2600.,  2609.,  2608.,  2606.,  2604.,  2587.,\n",
       "         2586.,  2608.,  2609.,  2617.,  2612.,  2617.,  2620.,  2622.,\n",
       "         2604.,  2617.,  2581.,  2590.,  2610.,  2603.,  2612.,  2614.,\n",
       "         2598.,  2599.,  2594.,  2608.,  2593.,  2582.,  2589.,  2593.,\n",
       "         2581.,  2591.,  2589.,  2582.,  2585.,  2589.,  2586.,  2597.,\n",
       "         2603.,  2583.,  2585.,  2590.,  2584.,  2583.,  2554.,  2561.,\n",
       "         2565.,  2569.,  2595.,  2583.,  2582.,  2587.,  2588.,  2583.,\n",
       "         2581.,  2588.,  2562.,  2566.,  2569.,  2526.,  2509.,  2545.,\n",
       "         2552.,  2562.,  2554.,  2571.,  2551.]),\n",
       " 'NO': array([[ 2510.,  2473.,  2474., ...,  2420.,  2433.,  2418.],\n",
       "        [ 2473.,  2544.,  2511., ...,  2445.,  2461.,  2450.],\n",
       "        [ 2474.,  2511.,  2566., ...,  2465.,  2482.,  2467.],\n",
       "        ..., \n",
       "        [ 2420.,  2445.,  2465., ...,  2554.,  2528.,  2503.],\n",
       "        [ 2433.,  2461.,  2482., ...,  2528.,  2571.,  2525.],\n",
       "        [ 2418.,  2450.,  2467., ...,  2503.,  2525.,  2551.]]),\n",
       " 'O': array([[ 19588668.,  17351299.,  15259106., ...,  10914700.,  11672288.,\n",
       "          12922917.],\n",
       "        [ 17351299.,  20952748.,  18349677., ...,  11417335.,  12260386.,\n",
       "          13642980.],\n",
       "        [ 15259106.,  18349677.,  22619813., ...,  12179252.,  12958790.,\n",
       "          14340148.],\n",
       "        ..., \n",
       "        [ 10914700.,  11417335.,  12179252., ...,  17010990.,  15576355.,\n",
       "          14933956.],\n",
       "        [ 11672288.,  12260386.,  12958790., ...,  15576355.,  18740778.,\n",
       "          17150961.],\n",
       "        [ 12922917.,  13642980.,  14340148., ...,  14933956.,  17150961.,\n",
       "          20529320.]]),\n",
       " 'SortedVals': array([-144., -133., -122., -117., -111., -100., -100.,  -89.,  -83.,\n",
       "         -72.,  -67.,  -67.,  -56.,  -56.,  -56.,  -50.,  -50.,  -44.,\n",
       "         -39.,  -39.,  -39.,  -39.,  -33.,  -33.,  -33.,  -22.,  -22.,\n",
       "         -22.,  -17.,  -17.,  -17.,  -17.,  -11.,   -6.,   -6.,   -6.,\n",
       "          -6.,   -6.,    0.,    0.,    0.,    0.,    0.,    0.,    6.,\n",
       "           6.,   11.,   11.,   11.,   11.,   17.,   17.,   17.,   17.,\n",
       "          17.,   17.,   22.,   22.,   28.,   33.,   33.,   44.,   44.,\n",
       "          56.,   61.,   67.,   67.,   83.,   89.,   89.,   89.,   89.,\n",
       "          89.,   94.,  106.,  111.,  111.,  117.,  128.,  139.,  144.,\n",
       "         150.,  172.,  178.], dtype=float16),\n",
       " 'UnDef': array([ 3,  2, 20,  1,  5,  1,  0,  3,  7,  1,  1,  1,  8,  0,  1,  0,  0,\n",
       "         6,  0, 28,  0,  1,  2, 31, 15,  1, 16, 10,  0,  0]),\n",
       " 'Var': array([ 3845.68476627,  4064.01905519,  4492.4231735 ,  4363.82157221,\n",
       "         4116.37485126,  3828.15261693,  3544.21839733,  3584.15115344,\n",
       "         3542.06457485,  3388.88819035,  3658.61601954,  3951.19771478,\n",
       "         4197.22136522,  3728.71107274,  3762.05792637,  4035.6530111 ,\n",
       "         4104.09348941,  3814.99968112,  3678.44805536,  3864.00388942,\n",
       "         3627.4262486 ,  3793.71952673,  3800.39452424,  3268.47090294,\n",
       "         3139.00146109,  3106.09698513,  3272.0566301 ,  3412.30172791,\n",
       "         3852.60383693,  3810.53580505,  3952.98996251,  3791.9915213 ,\n",
       "         3865.14009412,  3604.62140779,  3523.34411475,  3698.84712296,\n",
       "         3122.51102549,  3373.54025748,  3625.6946397 ,  3396.91577063,\n",
       "         3389.32743707,  3090.08384348,  3280.77027905,  3221.66413616,\n",
       "         3267.98884642,  3463.6743029 ,  3294.4435069 ,  3053.62347831,\n",
       "         2877.37560801,  2887.15829004,  3046.36710958,  2881.67977165,\n",
       "         2853.92540459,  2873.69648433,  2772.20035857,  2802.2558332 ,\n",
       "         3281.00512217,  3065.5904108 ,  2888.59708886,  2958.23617049,\n",
       "         2964.81388805,  2821.42626712,  2823.70462381,  2930.17912586,\n",
       "         2800.84457428,  2754.39499518,  2545.73006595,  2570.50743668,\n",
       "         2612.0323869 ,  2528.50652513,  2553.30830709,  2721.65992818,\n",
       "         2631.94784608,  2580.55883528,  2455.47486711,  2561.07982969,\n",
       "         2562.15334703,  2507.28777038,  2512.39375362,  2381.75770624,\n",
       "         2482.36188108,  2387.75703854,  2206.85436258,  2326.58663058,\n",
       "         2460.05220357,  2003.52790465,  2338.13434295,  2301.97196993,\n",
       "         2421.87814446,  2335.79312484,  2274.79930071,  2162.27067487,\n",
       "         2173.56369016,  2277.57587124,  2178.98123866,  2272.0117782 ,\n",
       "         2294.43941371,  2091.86811316,  2334.56563625,  2328.60608087,\n",
       "         2029.04460096,  2177.12243109,  2274.13297804,  2357.62435396,\n",
       "         2340.32652375,  2304.78693335,  2340.97791063,  2208.37185617,\n",
       "         2359.33127186,  2495.08666905,  2464.28555226,  2081.53461928,\n",
       "         1926.35981788,  2061.1200463 ,  2026.67151706,  2084.14483579,\n",
       "         2183.37803692,  2161.16237181,  2176.18963656,  2140.01299735,\n",
       "         2074.9697187 ,  1976.57183459,  1952.14891461,  1949.94417499,\n",
       "         2109.99701072,  2260.53726832,  2121.89120944,  2175.14028241,\n",
       "         2120.19443433,  2226.78814078,  2346.91530726,  2315.93037904,\n",
       "         2242.4398672 ,  2089.84912996,  2256.83697753,  2458.04367175,\n",
       "         2335.04712117,  2467.22877711,  2304.64313366,  2127.52069883,\n",
       "         2160.79431387,  2416.15703641,  2318.59965236,  2301.86362337,\n",
       "         2250.32282999,  2230.20879405,  2212.76677588,  2269.4126474 ,\n",
       "         2389.12256833,  2444.75283039,  2357.43478218,  2311.38916181,\n",
       "         2235.69738756,  2309.41069235,  2288.79156552,  2381.84703838,\n",
       "         2503.69577472,  2489.16281481,  2307.02784702,  2067.90383369,\n",
       "         1954.03500761,  2140.92176599,  2149.48054021,  2343.80011348,\n",
       "         2249.60288012,  2353.13949123,  2460.57298489,  2436.20167819,\n",
       "         2283.55732254,  2169.21510833,  2299.84328793,  2323.49863996,\n",
       "         2557.08404921,  2420.15593391,  2533.60932141,  2534.25620779,\n",
       "         2590.40121847,  2445.68422696,  2419.07006716,  2469.37085823,\n",
       "         2466.44639536,  2517.11885382,  2394.00953489,  2418.14273791,\n",
       "         2483.06924829,  2563.52892205,  2584.8383519 ,  2351.20625953,\n",
       "         2362.31156959,  2429.78869981,  2451.61118815,  2489.26262824,\n",
       "         2478.60777657,  2443.60396618,  2389.0847315 ,  2458.89865075,\n",
       "         2566.59548822,  2656.61718874,  2682.5739872 ,  2650.47438083,\n",
       "         2562.4198087 ,  2563.81068746,  2681.27577045,  2750.39757864,\n",
       "         2579.45212279,  2611.96033057,  2484.73326795,  2466.98482644,\n",
       "         2413.36921789,  2400.58371247,  2542.27644327,  2583.55253716,\n",
       "         2546.38701566,  2592.41147589,  2483.51871803,  2474.65022169,\n",
       "         2535.88191234,  2541.84275101,  2749.99646633,  2654.42769138,\n",
       "         2537.87862417,  2526.8550093 ,  2500.33032814,  2617.87389071,\n",
       "         2508.05080265,  2542.01622064,  2612.93450227,  2500.4973281 ,\n",
       "         2581.6281258 ,  2564.48697729,  2441.59796153,  2531.22879759,\n",
       "         2521.62639025,  2438.0786667 ,  2516.62901219,  2432.80717269,\n",
       "         2458.80865994,  2528.20585459,  2419.76432011,  2420.6744865 ,\n",
       "         2486.48190778,  2671.89000608,  2553.68030413,  2597.61974612,\n",
       "         2587.07120559,  2705.1004786 ,  2597.57533372,  2714.24387387,\n",
       "         2506.13746605,  2517.8972976 ,  2491.93481537,  2449.01823014,\n",
       "         2539.19146211,  2548.59357011,  2596.15459115,  2624.1237362 ,\n",
       "         2620.69095552,  2511.28863161,  2432.20745628,  2475.98733103,\n",
       "         2608.25884374,  2619.8348913 ,  2615.05777668,  2656.31166228,\n",
       "         2631.55782149,  2720.7460463 ,  2792.1729224 ,  2822.15202564,\n",
       "         2637.99850257,  2554.12025694,  2599.30289897,  2742.85119837,\n",
       "         2788.62193559,  2750.09014073,  2621.28711169,  2572.87507627,\n",
       "         2537.433548  ,  2634.13100164,  2626.82418246,  2621.29656556,\n",
       "         2499.48821745,  2453.57642542,  2423.79654611,  2306.32803278,\n",
       "         2482.35146213,  2463.04862423,  2392.73712754,  2444.10073824,\n",
       "         2467.22176691,  2618.22125586,  2524.54698457,  2375.50785065,\n",
       "         2375.20041287,  2477.56406974,  2492.30214095,  2340.05721524,\n",
       "         2404.17956302,  2350.95535786,  2402.61461538,  2482.12178529,\n",
       "         2750.56125663,  2653.2321009 ,  2504.31557308,  2521.64154572,\n",
       "         2520.31240755,  2611.70216641,  2595.6058512 ,  2758.68701411,\n",
       "         2585.95930961,  2704.64979619,  2513.96831114,  2364.47860546,\n",
       "         2551.19162812,  2375.42887026,  2539.64978239,  2656.83693505,\n",
       "         2684.62502958,  2730.61538527,  2725.84408279,  2631.47244342,\n",
       "         2746.44321608,  3024.91213849,  3189.87447294,  2929.80076346,\n",
       "         2786.78085218,  2881.74707713,  3078.22334263,  3085.31804144,\n",
       "         2838.90249838,  2870.45998372,  2898.29881241,  2842.17458065,\n",
       "         3309.25771221,  3143.93271501,  2790.31310618,  2768.87405168,\n",
       "         2849.93481176,  3183.77095962,  3335.83996648,  3104.56046332,\n",
       "         3176.75686395,  3642.67904037,  3692.38511687,  3564.07194451,\n",
       "         3559.73273539,  3419.75508628,  3475.95759653,  3620.95818261,\n",
       "         3366.6630195 ,  3133.54140092,  3229.79970509,  3518.4711853 ,\n",
       "         3728.62930385,  3897.26102207,  3717.58574823,  3876.96570067,\n",
       "         3824.63986135,  3848.21289468,  3910.13380289,  3929.67911441,\n",
       "         3736.4682195 ,  3237.93372237,  3479.72757828,  3718.45413395,\n",
       "         3831.16574049]),\n",
       " 'eigval': array([  3.83228258e+05,   5.13532749e+04,   2.60585202e+04,\n",
       "          2.04346286e+04,   1.70402076e+04,   1.49159215e+04,\n",
       "          1.40191523e+04,   1.30532929e+04,   1.25433724e+04,\n",
       "          1.15834384e+04,   1.07647525e+04,   1.03793185e+04,\n",
       "          1.01268883e+04,   9.78928060e+03,   9.18697612e+03,\n",
       "          8.74002341e+03,   8.39076911e+03,   8.20351361e+03,\n",
       "          8.07412417e+03,   7.31014041e+03,   7.18681793e+03,\n",
       "          6.94423662e+03,   6.82664878e+03,   6.40542308e+03,\n",
       "          6.07909695e+03,   5.95136627e+03,   5.81865984e+03,\n",
       "          5.71302544e+03,   5.42561231e+03,   5.35296333e+03,\n",
       "          5.27085468e+03,   5.05841060e+03,   4.76632790e+03,\n",
       "          4.68455815e+03,   4.56734702e+03,   4.49745899e+03,\n",
       "          4.40049502e+03,   4.25804121e+03,   4.18511575e+03,\n",
       "          4.05327382e+03,   3.93887104e+03,   3.85369247e+03,\n",
       "          3.73043400e+03,   3.61718115e+03,   3.50092428e+03,\n",
       "          3.40501164e+03,   3.36073468e+03,   3.19867440e+03,\n",
       "          3.15298860e+03,   3.07208310e+03,   2.95684918e+03,\n",
       "          2.91358234e+03,   2.89351094e+03,   2.84018541e+03,\n",
       "          2.77393896e+03,   2.73287811e+03,   2.68689893e+03,\n",
       "          2.51424171e+03,   2.58518387e+03,   2.58643747e+03,\n",
       "          2.35884495e+03,   2.21566325e+03,   2.31869472e+03,\n",
       "          2.28329551e+03,   2.29126855e+03,   2.17290244e+03,\n",
       "          2.11403356e+03,   2.07896350e+03,   2.07811103e+03,\n",
       "          2.01251593e+03,   1.95642090e+03,   1.92145340e+03,\n",
       "          1.85749530e+03,   1.85007365e+03,   1.77509422e+03,\n",
       "          1.76497836e+03,   1.72379361e+03,   1.70849482e+03,\n",
       "          1.68326589e+03,   1.64310743e+03,   1.60226602e+03,\n",
       "          1.58221829e+03,   1.55445831e+03,   1.54672740e+03,\n",
       "          1.49714814e+03,   1.48353454e+03,   1.45043104e+03,\n",
       "          1.42182063e+03,   1.39658608e+03,   1.38681977e+03,\n",
       "          1.38099251e+03,   1.33057060e+03,   1.31753258e+03,\n",
       "          1.30428651e+03,   1.26805558e+03,   1.26429204e+03,\n",
       "          1.24615689e+03,   1.20487426e+03,   1.19907603e+03,\n",
       "          1.16888472e+03,   1.16433407e+03,   1.15187235e+03,\n",
       "          1.13557133e+03,   1.12837549e+03,   1.09244183e+03,\n",
       "          1.08092473e+03,   1.06912146e+03,   1.05924010e+03,\n",
       "          1.04225813e+03,   1.01259347e+03,   9.99430648e+02,\n",
       "          9.83874699e+02,   9.79646045e+02,   9.70926451e+02,\n",
       "          9.48954683e+02,   9.44107053e+02,   9.20050935e+02,\n",
       "          9.28088337e+02,   9.25157185e+02,   8.91150347e+02,\n",
       "          8.96260356e+02,   8.98742789e+02,   8.75014420e+02,\n",
       "          8.64588493e+02,   8.55882864e+02,   8.40573117e+02,\n",
       "          8.32001812e+02,   8.21482581e+02,   8.15510703e+02,\n",
       "          8.03179728e+02,   7.94397004e+02,   7.86245418e+02,\n",
       "          7.76288275e+02,   7.62673208e+02,   7.46456009e+02,\n",
       "          7.41737581e+02,   7.33205641e+02,   7.25203242e+02,\n",
       "          7.19208459e+02,   6.94466430e+02,   6.98949494e+02,\n",
       "          7.04807822e+02,   7.10938998e+02,   6.85528903e+02,\n",
       "          6.68628864e+02,   6.58478493e+02,   6.58047146e+02,\n",
       "          6.49240598e+02,   6.36616151e+02,   6.32750210e+02,\n",
       "          6.31505461e+02,   6.23130035e+02,   6.19050604e+02,\n",
       "          6.15150211e+02,   6.08532184e+02,   6.02716909e+02,\n",
       "          5.90293974e+02,   5.86386832e+02,   5.66164002e+02,\n",
       "          5.69171099e+02,   5.74234887e+02,   5.79566833e+02,\n",
       "          5.81103667e+02,   5.55885607e+02,   5.50517559e+02,\n",
       "          5.44497766e+02,   5.41241033e+02,   5.33032517e+02,\n",
       "          5.32531986e+02,   5.29232007e+02,   5.22136131e+02,\n",
       "          5.15741246e+02,   5.14290539e+02,   5.06919983e+02,\n",
       "          5.04520616e+02,   4.99651513e+02,   4.96535572e+02,\n",
       "          4.66411246e+02,   4.87712577e+02,   4.72973145e+02,\n",
       "          4.76942462e+02,   4.80253069e+02,   4.82139140e+02,\n",
       "          5.54233285e+01,   6.15308401e+01,   6.62057354e+01,\n",
       "          6.81293189e+01,   7.00999250e+01,   7.17835833e+01,\n",
       "          7.60889389e+01,   7.78247313e+01,   8.09697916e+01,\n",
       "          8.51079291e+01,   8.34447922e+01,   4.60928263e+02,\n",
       "          4.58639407e+02,   4.56202708e+02,   4.47153301e+02,\n",
       "          4.43168356e+02,   4.39623809e+02,   4.37299308e+02,\n",
       "          4.24629120e+02,   4.28205472e+02,   4.30976229e+02,\n",
       "          4.32919080e+02,   8.78151772e+01,   8.95513405e+01,\n",
       "          9.08359563e+01,   9.22489546e+01,   9.57463509e+01,\n",
       "          9.74911604e+01,   9.67445066e+01,   1.00911011e+02,\n",
       "          4.22155425e+02,   4.16380232e+02,   4.15382743e+02,\n",
       "          4.11996281e+02,   4.11038856e+02,   4.04292371e+02,\n",
       "          3.98526332e+02,   3.94806988e+02,   3.88642372e+02,\n",
       "          3.86287996e+02,   3.81701836e+02,   3.81113399e+02,\n",
       "          3.78798104e+02,   3.76284915e+02,   3.73920476e+02,\n",
       "          3.69590184e+02,   3.67197456e+02,   3.61486821e+02,\n",
       "          3.55307133e+02,   3.59643799e+02,   3.59028014e+02,\n",
       "          3.43492022e+02,   3.50485301e+02,   3.48249537e+02,\n",
       "          3.46615119e+02,   1.01535240e+02,   1.03477716e+02,\n",
       "          1.06334624e+02,   1.07239653e+02,   1.09529125e+02,\n",
       "          1.10084921e+02,   1.20039484e+02,   1.12124541e+02,\n",
       "          1.18076141e+02,   1.16108412e+02,   1.15182173e+02,\n",
       "          1.14878046e+02,   3.35834984e+02,   3.41272500e+02,\n",
       "          3.40446496e+02,   1.25143388e+02,   1.22641001e+02,\n",
       "          1.23139718e+02,   3.34495745e+02,   3.31807304e+02,\n",
       "          3.30067211e+02,   3.26982516e+02,   3.25073065e+02,\n",
       "          1.28043850e+02,   1.31551567e+02,   1.29515919e+02,\n",
       "          3.21939806e+02,   3.19967317e+02,   3.17772504e+02,\n",
       "          3.15349605e+02,   3.09848977e+02,   3.08778588e+02,\n",
       "          3.06364413e+02,   1.32248824e+02,   1.33233328e+02,\n",
       "          1.36205944e+02,   1.36873324e+02,   1.37782959e+02,\n",
       "          3.02344404e+02,   3.00263567e+02,   2.98940825e+02,\n",
       "          2.97515413e+02,   2.93846222e+02,   2.90601434e+02,\n",
       "          2.87473514e+02,   2.85866135e+02,   1.39373606e+02,\n",
       "          1.40123077e+02,   1.41852222e+02,   1.50698196e+02,\n",
       "          1.49429139e+02,   1.44671054e+02,   1.45213339e+02,\n",
       "          1.47327723e+02,   1.46225172e+02,   2.83515383e+02,\n",
       "          2.82456248e+02,   2.77068286e+02,   2.79215490e+02,\n",
       "          2.72888696e+02,   2.70671149e+02,   2.79789059e+02,\n",
       "          2.64671004e+02,   1.51415369e+02,   1.54067969e+02,\n",
       "          1.57131127e+02,   1.58005138e+02,   1.60311855e+02,\n",
       "          1.61901999e+02,   1.63633002e+02,   1.64927428e+02,\n",
       "          1.67171838e+02,   1.41107062e+02,   1.70682629e+02,\n",
       "          1.73031542e+02,   1.55187996e+02,   2.66582797e+02,\n",
       "          2.56953308e+02,   2.63962110e+02,   2.60899485e+02,\n",
       "          2.54912186e+02,   2.61735852e+02,   1.76864475e+02,\n",
       "          1.78929116e+02,   1.77853849e+02,   2.48388157e+02,\n",
       "          2.45574567e+02,   2.38581764e+02,   2.34834262e+02,\n",
       "          2.39407201e+02,   2.52086335e+02,   1.85519270e+02,\n",
       "          1.86549818e+02,   1.87686621e+02,   1.93861298e+02,\n",
       "          2.01851078e+02,   2.40288603e+02,   2.06997722e+02,\n",
       "          2.09207639e+02,   2.30707563e+02,   2.19121562e+02,\n",
       "          2.20966981e+02,   2.28577340e+02,   2.26107543e+02,\n",
       "          2.23390802e+02,   2.11350463e+02,   2.16832345e+02,\n",
       "          2.14576134e+02,   2.27074970e+02,   1.68383537e+02,\n",
       "          1.82466369e+02,   1.91836820e+02,   2.12630250e+02,\n",
       "          1.95145149e+02,   1.96168988e+02,   2.53036075e+02,\n",
       "          2.47263957e+02,   1.71733492e+02,   2.30157521e+02,\n",
       "          1.81723407e+02,   1.89485440e+02,   2.04156707e+02,\n",
       "          1.98365803e+02,   1.98210065e+02,   2.08384185e+02,\n",
       "          1.90325614e+02,   2.51526215e+02]),\n",
       " 'eigvec': array([[-0.05204552,  0.06150716, -0.00536397, ..., -0.00928955,\n",
       "          0.00288037,  0.0017755 ],\n",
       "        [-0.0522472 ,  0.06473249,  0.01773085, ...,  0.0176611 ,\n",
       "          0.0014723 ,  0.00748857],\n",
       "        [-0.05584566,  0.07671278,  0.01200248, ..., -0.02595398,\n",
       "         -0.01787371, -0.0043656 ],\n",
       "        ..., \n",
       "        [-0.04617814,  0.0844904 ,  0.04815017, ..., -0.02207927,\n",
       "         -0.01801839,  0.04775309],\n",
       "        [-0.05049981,  0.08550227,  0.04881921, ...,  0.03157158,\n",
       "         -0.0170918 , -0.020905  ],\n",
       "        [-0.05276198,  0.08504723,  0.03216243, ...,  0.00416815,\n",
       "          0.03326188,  0.00410285]]),\n",
       " 'high100': -144.0,\n",
       " 'high1000': -144.0,\n",
       " 'low100': -144.0,\n",
       " 'low1000': -144.0,\n",
       " 'mean': 14.223537042935975,\n",
       " 'std': 77.061077791021759}"
      ]
     },
     "execution_count": 21,
     "metadata": {},
     "output_type": "execute_result"
    }
   ],
   "source": [
    "STAT['TMIN']"
   ]
  },
  {
   "cell_type": "code",
   "execution_count": 120,
   "metadata": {},
   "outputs": [
    {
     "name": "stdout",
     "output_type": "stream",
     "text": [
      "shape of E= (12L,) shape of NE= (12L,)\n",
      "time for TMAX is 18.4509999752\n",
      "shape of E= (12L,) shape of NE= (12L,)\n",
      "time for SNOW is 17.6240000725\n",
      "shape of E= (12L,) shape of NE= (12L,)\n",
      "time for SNWD is 17.5130000114\n",
      "shape of E= (12L,) shape of NE= (12L,)\n",
      "time for TMIN is 17.9160001278\n",
      "shape of E= (12L,) shape of NE= (12L,)\n",
      "time for PRCP is 18.0879998207\n",
      "shape of E= (12L,) shape of NE= (12L,)\n",
      "time for TOBS is 17.4059998989\n"
     ]
    }
   ],
   "source": [
    "from numpy import linalg as LA\n",
    "STAT_by_month={}  # dictionary storing the statistics for each measurement\n",
    "Clean_Tables={}\n",
    "\n",
    "for meas in measurements:\n",
    "    t=time()\n",
    "    Query=\"SELECT * FROM weather_monthly\\n\\tWHERE measurement='%s' \"%(meas)\n",
    "    #print Query\n",
    "    df1 = sqlContext.sql(Query)\n",
    "    data_by_month=df1.rdd.map(lambda row: unpackArray(row['vector'],np.float16))\n",
    "    #get basic statistics\n",
    "    #data_by_month = data.map(averageByMonth)\n",
    "    STAT_by_month[meas]=computeOverAllDist(data_by_month)   # Compute the statistics \n",
    "\n",
    "    # compute covariance matrix\n",
    "    OUT=computeCov(data_by_month)\n",
    "\n",
    "    #find PCA decomposition\n",
    "    eigval,eigvec=LA.eig(OUT['Cov'])\n",
    "\n",
    "    # collect all of the statistics in STAT[meas]\n",
    "    STAT_by_month[meas]['eigval']=eigval\n",
    "    STAT_by_month[meas]['eigvec']=eigvec\n",
    "    STAT_by_month[meas].update(OUT)\n",
    "\n",
    "    print 'time for',meas,'is',time()-t"
   ]
  },
  {
   "cell_type": "code",
   "execution_count": 65,
   "metadata": {},
   "outputs": [
    {
     "data": {
      "text/plain": [
       "{'Cov': array([[ 1826.45812838,  1242.73157485,   975.55213565,   820.58884001,\n",
       "           793.17918125,   875.41244748,   957.70559601,   978.7063259 ,\n",
       "          1092.04147546,  1090.66617933,  1064.27300513,  1203.84986485],\n",
       "        [ 1242.73157485,  1548.61679906,  1020.55446696,   901.30597043,\n",
       "           895.12474067,   934.05112263,   969.77670229,   985.4988463 ,\n",
       "          1029.64457092,  1053.71704481,  1012.52784748,  1113.80959044],\n",
       "        [  975.55213565,  1020.55446696,  1198.93684099,   917.57522517,\n",
       "           925.94688728,   926.82489638,   952.3182791 ,   969.83998356,\n",
       "           947.69985052,   935.5247331 ,   825.31791318,   864.4206385 ],\n",
       "        [  820.58884001,   901.30597043,   917.57522517,  1076.50026236,\n",
       "           919.63901191,   948.2412117 ,   987.41824383,   943.55297149,\n",
       "           889.05819633,   836.23111555,   721.56403621,   761.24944661],\n",
       "        [  793.17918125,   895.12474067,   925.94688728,   919.63901191,\n",
       "          1165.15908791,  1030.37655287,  1092.90152592,  1091.9017938 ,\n",
       "          1012.80454216,   885.01802417,   748.47718534,   756.11477909],\n",
       "        [  875.41244748,   934.05112263,   926.82489638,   948.2412117 ,\n",
       "          1030.37655287,  1317.56152636,  1336.89415708,  1295.97728456,\n",
       "          1161.91125   ,  1015.24225061,   800.5247701 ,   827.9905184 ],\n",
       "        [  957.70559601,   969.77670229,   952.3182791 ,   987.41824383,\n",
       "          1092.90152592,  1336.89415708,  1744.77773629,  1614.94731167,\n",
       "          1394.88787828,  1142.63590376,   883.29308593,   871.90958986],\n",
       "        [  978.7063259 ,   985.4988463 ,   969.83998356,   943.55297149,\n",
       "          1091.9017938 ,  1295.97728456,  1614.94731167,  1752.41795916,\n",
       "          1452.85986657,  1207.29136849,   939.15756406,   915.56646546],\n",
       "        [ 1092.04147546,  1029.64457092,   947.69985052,   889.05819633,\n",
       "          1012.80454216,  1161.91125   ,  1394.88787828,  1452.85986657,\n",
       "          1589.99283283,  1268.65539824,  1040.60359326,  1019.53804597],\n",
       "        [ 1090.66617933,  1053.71704481,   935.5247331 ,   836.23111555,\n",
       "           885.01802417,  1015.24225061,  1142.63590376,  1207.29136849,\n",
       "          1268.65539824,  1362.55407609,  1055.59410986,  1133.30978435],\n",
       "        [ 1064.27300513,  1012.52784748,   825.31791318,   721.56403621,\n",
       "           748.47718534,   800.5247701 ,   883.29308593,   939.15756406,\n",
       "          1040.60359326,  1055.59410986,  1291.00083485,  1120.64228651],\n",
       "        [ 1203.84986485,  1113.80959044,   864.4206385 ,   761.24944661,\n",
       "           756.11477909,   827.9905184 ,   871.90958986,   915.56646546,\n",
       "          1019.53804597,  1133.30978435,  1120.64228651,  1625.59906555]]),\n",
       " 'E': array([-154959.32861328, -123839.79016113,  -75415.83392334,\n",
       "         -11485.18432617,   87229.73883057,  183632.16308594,\n",
       "         274967.28613281,  251420.23999023,  163641.12432861,\n",
       "          47404.77249146,  -65144.53088379, -143174.89123535]),\n",
       " 'Mean': array([ -58.65228184,  -46.71436822,  -28.3838291 ,   -4.32749975,\n",
       "          32.95418921,   69.26901663,  103.76124005,   94.98309029,\n",
       "          61.82135411,   17.88184553,  -24.5735688 ,  -54.31520912]),\n",
       " 'NE': array([ 2642.,  2651.,  2657.,  2654.,  2647.,  2651.,  2650.,  2647.,\n",
       "         2647.,  2651.,  2651.,  2636.]),\n",
       " 'NO': array([[ 2642.,  2632.,  2638.,  2635.,  2628.,  2632.,  2631.,  2628.,\n",
       "          2628.,  2632.,  2632.,  2617.],\n",
       "        [ 2632.,  2651.,  2647.,  2644.,  2637.,  2641.,  2640.,  2637.,\n",
       "          2637.,  2641.,  2641.,  2626.],\n",
       "        [ 2638.,  2647.,  2657.,  2650.,  2643.,  2647.,  2646.,  2643.,\n",
       "          2643.,  2647.,  2647.,  2632.],\n",
       "        [ 2635.,  2644.,  2650.,  2654.,  2640.,  2644.,  2643.,  2640.,\n",
       "          2640.,  2644.,  2644.,  2629.],\n",
       "        [ 2628.,  2637.,  2643.,  2640.,  2647.,  2637.,  2636.,  2633.,\n",
       "          2633.,  2637.,  2637.,  2622.],\n",
       "        [ 2632.,  2641.,  2647.,  2644.,  2637.,  2651.,  2640.,  2637.,\n",
       "          2637.,  2641.,  2641.,  2626.],\n",
       "        [ 2631.,  2640.,  2646.,  2643.,  2636.,  2640.,  2650.,  2636.,\n",
       "          2636.,  2640.,  2640.,  2625.],\n",
       "        [ 2628.,  2637.,  2643.,  2640.,  2633.,  2637.,  2636.,  2647.,\n",
       "          2633.,  2637.,  2637.,  2622.],\n",
       "        [ 2628.,  2637.,  2643.,  2640.,  2633.,  2637.,  2636.,  2633.,\n",
       "          2647.,  2637.,  2637.,  2622.],\n",
       "        [ 2632.,  2641.,  2647.,  2644.,  2637.,  2641.,  2640.,  2637.,\n",
       "          2637.,  2651.,  2641.,  2626.],\n",
       "        [ 2632.,  2641.,  2647.,  2644.,  2637.,  2641.,  2640.,  2637.,\n",
       "          2637.,  2641.,  2651.,  2626.],\n",
       "        [ 2617.,  2626.,  2632.,  2629.,  2622.,  2626.,  2625.,  2622.,\n",
       "          2622.,  2626.,  2626.,  2636.]]),\n",
       " 'O': array([[  1.39142206e+07,   1.04822976e+07,   6.96518653e+06,\n",
       "           2.83106132e+06,  -2.99502441e+06,  -8.38916689e+06,\n",
       "          -1.34921045e+07,  -1.20684820e+07,  -6.65914704e+06,\n",
       "           1.10162717e+05,   6.59465731e+06,   1.14874807e+07],\n",
       "        [  1.04822976e+07,   9.89048069e+06,   6.21115138e+06,\n",
       "           2.91755455e+06,  -1.69904386e+06,  -6.07907289e+06,\n",
       "          -1.02362412e+07,  -9.10180646e+06,  -4.90033955e+06,\n",
       "           5.76736109e+05,   5.70579226e+06,   9.58781557e+06],\n",
       "        [  6.96518653e+06,   6.21115138e+06,   5.32616533e+06,\n",
       "           2.75707653e+06,  -2.48949122e+04,  -2.75101395e+06,\n",
       "          -5.27300973e+06,  -4.56219811e+06,  -2.13297210e+06,\n",
       "           1.13283523e+06,   4.03087778e+06,   6.33284007e+06],\n",
       "        [  2.83106132e+06,   2.91755455e+06,   2.75707653e+06,\n",
       "           2.90673383e+06,   2.05135858e+06,   1.71457996e+06,\n",
       "           1.42296874e+06,   1.40583610e+06,   1.64082944e+06,\n",
       "           2.00639261e+06,   2.18898386e+06,   2.61926876e+06],\n",
       "        [ -2.99502441e+06,  -1.69904386e+06,  -2.48949122e+04,\n",
       "           2.05135858e+06,   5.95876142e+06,   8.73659416e+06,\n",
       "           1.18943412e+07,   1.11165063e+07,   8.03085312e+06,\n",
       "           3.88772843e+06,  -1.61713630e+05,  -2.71062071e+06],\n",
       "        [ -8.38916689e+06,  -6.07907289e+06,  -2.75101395e+06,\n",
       "           1.71457996e+06,   8.73659416e+06,   1.62128750e+07,\n",
       "           2.25042397e+07,   2.07673310e+07,   1.43563967e+07,\n",
       "           5.95255018e+06,  -2.38128981e+06,  -7.70565721e+06],\n",
       "        [ -1.34921045e+07,  -1.02362412e+07,  -5.27300973e+06,\n",
       "           1.42296874e+06,   1.18943412e+07,   2.25042397e+07,\n",
       "           3.31546076e+07,   3.02362658e+07,   2.05859692e+07,\n",
       "           7.91492690e+06,  -4.39953594e+06,  -1.25052476e+07],\n",
       "        [ -1.20684820e+07,  -9.10180646e+06,  -4.56219811e+06,\n",
       "           1.40583610e+06,   1.11165063e+07,   2.07673310e+07,\n",
       "           3.02362658e+07,   2.85193217e+07,   1.92863119e+07,\n",
       "           7.66250050e+06,  -3.67839333e+06,  -1.11263520e+07],\n",
       "        [ -6.65914704e+06,  -4.90033955e+06,  -2.13297210e+06,\n",
       "           1.64082944e+06,   8.03085312e+06,   1.43563967e+07,\n",
       "           2.05859692e+07,   1.92863119e+07,   1.43252269e+07,\n",
       "           6.26059479e+06,  -1.26198304e+06,  -6.13102714e+06],\n",
       "        [  1.10162717e+05,   5.76736109e+05,   1.13283523e+06,\n",
       "           2.00639261e+06,   3.88772843e+06,   5.95255018e+06,\n",
       "           7.91492690e+06,   7.66250050e+06,   6.26059479e+06,\n",
       "           4.45981567e+06,   1.62731381e+06,   4.25552767e+05],\n",
       "        [  6.59465731e+06,   5.70579226e+06,   4.03087778e+06,\n",
       "           2.18898386e+06,  -1.61713630e+05,  -2.38128981e+06,\n",
       "          -4.39953594e+06,  -3.67839333e+06,  -1.26198304e+06,\n",
       "           1.62731381e+06,   5.02327682e+06,   6.44777750e+06],\n",
       "        [  1.14874807e+07,   9.58781557e+06,   6.33284007e+06,\n",
       "           2.61926876e+06,  -2.71062071e+06,  -7.70565721e+06,\n",
       "          -1.25052476e+07,  -1.11263520e+07,  -6.13102714e+06,\n",
       "           4.25552767e+05,   6.44777750e+06,   1.20616533e+07]]),\n",
       " 'SortedVals': array([-101.9375    ,  -69.375     ,    2.54882812], dtype=float16),\n",
       " 'UnDef': array([0, 0, 0, 0, 0, 0, 0, 1, 0, 0, 0, 0, 0, 0, 0, 0]),\n",
       " 'Var': array([ 1826.45812838,  1548.61679906,  1198.93684099,  1076.50026236,\n",
       "         1165.15908791,  1317.56152636,  1744.77773629,  1752.41795916,\n",
       "         1589.99283283,  1362.55407609,  1291.00083485,  1625.59906555]),\n",
       " 'eigval': array([ 12623.74668527,   1693.41385609,    817.65015702,    572.33915005,\n",
       "           362.32240854,    343.25419563,    260.14489863,    109.65564767,\n",
       "           138.70912568,    165.18811491,    215.86767721,    197.28323312]),\n",
       " 'eigvec': array([[-0.29585859, -0.45168102,  0.01425004,  0.76510854, -0.26418849,\n",
       "          0.18476689,  0.07591431,  0.01814522,  0.07606387,  0.03974764,\n",
       "         -0.07235054,  0.01519984],\n",
       "        [-0.29007784, -0.29575653,  0.31955975,  0.05236811,  0.55806376,\n",
       "         -0.63519141, -0.03776596,  0.00114742, -0.0117506 , -0.03065357,\n",
       "         -0.07801211,  0.00525351],\n",
       "        [-0.26100929, -0.05155802,  0.43686753, -0.09919673,  0.05105319,\n",
       "          0.34909187, -0.35326941, -0.07250053, -0.22736142,  0.08346199,\n",
       "          0.59915797,  0.23737341],\n",
       "        [-0.24418576,  0.07310075,  0.44413631, -0.15597317, -0.20098204,\n",
       "          0.13350924,  0.12519097,  0.16332603,  0.09093605, -0.52319775,\n",
       "         -0.08399388, -0.5690501 ],\n",
       "        [-0.25874466,  0.17782113,  0.34214665, -0.17360245, -0.09265409,\n",
       "          0.16777976,  0.11406235, -0.18428956,  0.26250049,  0.07768414,\n",
       "         -0.54730382,  0.54409393],\n",
       "        [-0.28699871,  0.26722645,  0.11967525, -0.02101616, -0.20238844,\n",
       "         -0.13840665,  0.12929655,  0.31697965, -0.31049457,  0.69428298,\n",
       "         -0.09210519, -0.25928292],\n",
       "        [-0.32311835,  0.41044448, -0.13605781,  0.16446355, -0.14424789,\n",
       "         -0.26541901,  0.20594159, -0.68229435, -0.03771825, -0.09649394,\n",
       "          0.25638255, -0.07688879],\n",
       "        [-0.3279157 ,  0.37459229, -0.24369132,  0.12611393,  0.03715478,\n",
       "         -0.12972522, -0.01227237,  0.57724181,  0.3523959 , -0.20800677,\n",
       "          0.27033099,  0.29114491],\n",
       "        [-0.3213429 ,  0.15305282, -0.33019392,  0.07006023,  0.26419664,\n",
       "          0.23458087, -0.28029478,  0.02332023, -0.57949272, -0.27536802,\n",
       "         -0.3791902 ,  0.00393669],\n",
       "        [-0.29866795, -0.06911244, -0.25665986, -0.15614425,  0.1712191 ,\n",
       "          0.18450806, -0.44536512, -0.18307052,  0.5404936 ,  0.28856255,\n",
       "         -0.06820247, -0.37481762],\n",
       "        [-0.26287752, -0.26911618, -0.23497872, -0.27770119,  0.32404701,\n",
       "          0.3246226 ,  0.69555908,  0.01141551, -0.02051285,  0.0648043 ,\n",
       "          0.16491337,  0.00176052],\n",
       "        [-0.27883756, -0.43367129, -0.26489094, -0.44470102, -0.54764311,\n",
       "         -0.30605496, -0.13903464,  0.01939893, -0.1217735 , -0.1133209 ,\n",
       "          0.01285946,  0.15851586]]),\n",
       " 'high100': None,\n",
       " 'high1000': None,\n",
       " 'low100': None,\n",
       " 'low1000': None,\n",
       " 'mean': 13.663345259141478,\n",
       " 'std': 67.733496521186424}"
      ]
     },
     "execution_count": 65,
     "metadata": {},
     "output_type": "execute_result"
    }
   ],
   "source": [
    "STAT_by_month['TMIN']"
   ]
  },
  {
   "cell_type": "code",
   "execution_count": 22,
   "metadata": {
    "run_control": {
     "frozen": false,
     "read_only": false
    },
    "slideshow": {
     "slide_type": "subslide"
    }
   },
   "outputs": [
    {
     "name": "stdout",
     "output_type": "stream",
     "text": [
      "total 137M\n",
      "---------- 1 wenyan mkpasswd  17M May  8 21:13 STAT_BBBSBBBB.pickle.gz\n",
      "---------- 1 wenyan mkpasswd  13M May  8 21:13 US_Weather_BBBSBBBB.csv\n",
      "d--------- 1 wenyan mkpasswd    0 May  8 21:13 US_Weather_BBBSBBBB.parquet\n",
      "---------- 1 wenyan mkpasswd  226 May  8 21:13 data-source.txt\n",
      "d--------- 1 wenyan mkpasswd    0 May  8 21:14 decon_BBBSBBBB.parquet\n",
      "d--------- 1 wenyan mkpasswd    0 May  8 21:14 decon_BBBSBBBB_SNWD.parquet\n",
      "d--------- 1 wenyan mkpasswd    0 May  8 21:14 decon_BBBSBBBB_TOBS.parquet\n",
      "---------- 1 wenyan mkpasswd  23K May  8 21:14 ghcnd-readme.txt\n",
      "---------- 1 wenyan mkpasswd 8.1M May  8 21:14 ghcnd-stations.txt\n",
      "---------- 1 wenyan mkpasswd 7.5M May  8 21:14 ghcnd-stations_buffered.txt\n",
      "---------- 1 wenyan mkpasswd  272 May  8 21:14 ghcnd-version.txt\n",
      "---------- 1 wenyan mkpasswd 2.1M May  8 21:14 stations.pkl.gz\n",
      "---------- 1 wenyan mkpasswd  13M May  9 20:47 US_Weather_SSSBSBBB.csv\n",
      "d--------- 1 wenyan mkpasswd    0 May  9 20:47 US_Weather_SSSBSBBB.parquet\n",
      "---------- 1 wenyan mkpasswd  78M May  9 21:12 STAT_SSSBSBBB.pickle\n"
     ]
    },
    {
     "name": "stderr",
     "output_type": "stream",
     "text": [
      "      0 [main] ls 2168 find_fast_cwd: WARNING: Couldn't compute FAST_CWD pointer.  Please report this problem to\n",
      "the public mailing list cygwin@cygwin.com\n"
     ]
    }
   ],
   "source": [
    "from pickle import dump\n",
    "filename=data_dir+'/STAT_%s.pickle'%file_index\n",
    "dump((STAT,STAT_Descriptions),open(filename,'wb'))\n",
    "!ls -lrth $data_dir"
   ]
  },
  {
   "cell_type": "code",
   "execution_count": 67,
   "metadata": {},
   "outputs": [
    {
     "name": "stdout",
     "output_type": "stream",
     "text": [
      "total 121M\n",
      "---------- 1 wenyan mkpasswd  226 May  8 21:13 data-source.txt\n",
      "---------- 1 wenyan mkpasswd  23K May  8 21:14 ghcnd-readme.txt\n",
      "---------- 1 wenyan mkpasswd 8.1M May  8 21:14 ghcnd-stations.txt\n",
      "---------- 1 wenyan mkpasswd 7.5M May  8 21:14 ghcnd-stations_buffered.txt\n",
      "---------- 1 wenyan mkpasswd  272 May  8 21:14 ghcnd-version.txt\n",
      "---------- 1 wenyan mkpasswd  14M May  8 21:14 stations.pkl\n",
      "d--------- 1 wenyan mkpasswd    0 May  9 20:47 US_Weather_SSSBSBBB.parquet\n",
      "---------- 1 wenyan mkpasswd  78M May  9 21:12 STAT_SSSBSBBB.pickle\n",
      "d--------- 1 wenyan mkpasswd    0 May  9 22:08 decon_SSSBSBBB_PRCP.parquet\n",
      "---------- 1 wenyan mkpasswd 7.8K May 12 22:04 PRCP_residuals_PCA.pickle\n",
      "d--------- 1 wenyan mkpasswd    0 May 14 11:36 decon_SSSBSBBB_SNOW.parquet\n",
      "d--------- 1 wenyan mkpasswd    0 May 14 11:58 decon_SSSBSBBB_TOBS.parquet\n",
      "---------- 1 wenyan mkpasswd  20K May 14 11:58 TOBS_min_coeffs.pickle\n",
      "---------- 1 wenyan mkpasswd  18K May 14 11:58 TOBS_max_coeffs.pickle\n",
      "---------- 1 wenyan mkpasswd  17K May 14 12:01 SNWD_min_coeffs.pickle\n",
      "---------- 1 wenyan mkpasswd  17K May 14 12:01 SNWD_max_coeffs.pickle\n",
      "d--------- 1 wenyan mkpasswd    0 May 14 12:41 decon_SSSBSBBB_SNWD.parquet\n",
      "---------- 1 wenyan mkpasswd  16K May 14 13:02 TMIN_min_coeffs.pickle\n",
      "---------- 1 wenyan mkpasswd  16K May 14 13:02 TMIN_max_coeffs.pickle\n",
      "d--------- 1 wenyan mkpasswd    0 May 14 13:03 decon_SSSBSBBB_TMIN.parquet\n",
      "---------- 1 wenyan mkpasswd  13M May 14 14:28 US_Weather_SSSBSBBB.csv\n",
      "---------- 1 wenyan mkpasswd 100K May 14 15:14 STAT_monthly_SSSBSBBB.pickle\n"
     ]
    },
    {
     "name": "stderr",
     "output_type": "stream",
     "text": [
      "      1 [main] ls 6008 find_fast_cwd: WARNING: Couldn't compute FAST_CWD pointer.  Please report this problem to\n",
      "the public mailing list cygwin@cygwin.com\n"
     ]
    }
   ],
   "source": [
    "from pickle import dump\n",
    "filename=data_dir+'/STAT_monthly_%s.pickle'%file_index\n",
    "dump((STAT_by_month,STAT_Descriptions),open(filename,'wb'))\n",
    "!ls -lrth $data_dir"
   ]
  },
  {
   "cell_type": "code",
   "execution_count": 23,
   "metadata": {
    "collapsed": true
   },
   "outputs": [],
   "source": [
    "\n",
    "sc.stop()"
   ]
  }
 ],
 "metadata": {
  "anaconda-cloud": {},
  "celltoolbar": "Slideshow",
  "kernelspec": {
   "display_name": "Python [Root]",
   "language": "python",
   "name": "Python [Root]"
  },
  "language_info": {
   "codemirror_mode": {
    "name": "ipython",
    "version": 2
   },
   "file_extension": ".py",
   "mimetype": "text/x-python",
   "name": "python",
   "nbconvert_exporter": "python",
   "pygments_lexer": "ipython2",
   "version": "2.7.13"
  },
  "name": "PCA_using_numpy for HW3",
  "notebookId": 85286,
  "toc": {
   "colors": {
    "hover_highlight": "#DAA520",
    "running_highlight": "#FF0000",
    "selected_highlight": "#FFD700"
   },
   "moveMenuLeft": true,
   "nav_menu": {
    "height": "245px",
    "width": "252px"
   },
   "navigate_menu": true,
   "number_sections": true,
   "sideBar": true,
   "threshold": 4,
   "toc_cell": false,
   "toc_section_display": "block",
   "toc_window_display": false
  }
 },
 "nbformat": 4,
 "nbformat_minor": 2
}
