{
 "cells": [
  {
   "cell_type": "markdown",
   "metadata": {
    "run_control": {
     "frozen": false,
     "read_only": false
    }
   },
   "source": [
    "## Visualizing the distribution of the observations\n",
    "This notebook visualize the locations on map of the samples with minimum/maximum eigenvector coefficients (1-3) for SNWD."
   ]
  },
  {
   "cell_type": "code",
   "execution_count": 3,
   "metadata": {
    "collapsed": true,
    "run_control": {
     "frozen": false,
     "read_only": false
    }
   },
   "outputs": [],
   "source": [
    "from ipyleaflet import (\n",
    "    Map,\n",
    "    Marker,\n",
    "    TileLayer, ImageOverlay,\n",
    "    Polyline, Polygon, Rectangle, Circle, CircleMarker,\n",
    "    GeoJSON,\n",
    "    DrawControl\n",
    ")"
   ]
  },
  {
   "cell_type": "code",
   "execution_count": 4,
   "metadata": {
    "collapsed": true,
    "run_control": {
     "frozen": false,
     "read_only": false
    }
   },
   "outputs": [],
   "source": [
    "import pandas as pd\n",
    "import numpy as np\n",
    "import sklearn as sk\n",
    "import urllib\n",
    "import math\n",
    "import pylab as plt\n",
    "\n",
    "import sys\n",
    "sys.path.append('./lib')\n",
    "\n",
    "from leaflet import *"
   ]
  },
  {
   "cell_type": "code",
   "execution_count": 5,
   "metadata": {
    "collapsed": true
   },
   "outputs": [],
   "source": [
    "data_dir = \"../../Data/Weather/\"\n",
    "from pickle import load\n",
    "with open(data_dir+'/SNWD_min_coeffs.pickle','rb') as file:\n",
    "    rows_min_coeff=load(file)\n",
    "with open(data_dir+'/SNWD_max_coeffs.pickle','rb') as file:\n",
    "    rows_max_coeff=load(file)"
   ]
  },
  {
   "cell_type": "code",
   "execution_count": 6,
   "metadata": {
    "collapsed": true
   },
   "outputs": [],
   "source": [
    "tables = []\n",
    "for r in rows_min_coeff:\n",
    "    tables.append(pd.DataFrame(r))\n",
    "for r in rows_max_coeff:\n",
    "    tables.append(pd.DataFrame(r))\n",
    "tables_all = pd.concat(tables)"
   ]
  },
  {
   "cell_type": "code",
   "execution_count": 7,
   "metadata": {
    "collapsed": true,
    "scrolled": true
   },
   "outputs": [],
   "source": [
    "import pylab as plt\n",
    "prop_cycle = plt.rcParams['axes.prop_cycle']\n",
    "#colors = prop_cycle.by_key()['color']\n",
    "colors = ['#ff0000','#00ff00','#0000ff','#ffff00','#ff00ff','#00ffff']"
   ]
  },
  {
   "cell_type": "code",
   "execution_count": 9,
   "metadata": {},
   "outputs": [
    {
     "data": {
      "text/html": [
       "<div>\n",
       "<table border=\"1\" class=\"dataframe\">\n",
       "  <thead>\n",
       "    <tr style=\"text-align: right;\">\n",
       "      <th></th>\n",
       "      <th>coeff_1</th>\n",
       "      <th>coeff_2</th>\n",
       "      <th>coeff_3</th>\n",
       "      <th>coeff_4</th>\n",
       "      <th>elevation</th>\n",
       "      <th>label</th>\n",
       "      <th>latitude</th>\n",
       "      <th>longitude</th>\n",
       "      <th>measurement</th>\n",
       "      <th>res_1</th>\n",
       "      <th>res_2</th>\n",
       "      <th>res_3</th>\n",
       "      <th>res_4</th>\n",
       "      <th>res_mean</th>\n",
       "      <th>station</th>\n",
       "      <th>total_var</th>\n",
       "      <th>undefs</th>\n",
       "      <th>vector</th>\n",
       "      <th>year</th>\n",
       "    </tr>\n",
       "  </thead>\n",
       "  <tbody>\n",
       "    <tr>\n",
       "      <th>0</th>\n",
       "      <td>-11887.116725</td>\n",
       "      <td>1502.126642</td>\n",
       "      <td>697.165599</td>\n",
       "      <td>1580.674783</td>\n",
       "      <td>1931.5</td>\n",
       "      <td>SSSBSBBB</td>\n",
       "      <td>39.4317</td>\n",
       "      <td>-120.2406</td>\n",
       "      <td>SNWD</td>\n",
       "      <td>0.072693</td>\n",
       "      <td>0.069382</td>\n",
       "      <td>0.070016</td>\n",
       "      <td>0.053894</td>\n",
       "      <td>0.767752</td>\n",
       "      <td>USC00047641</td>\n",
       "      <td>229185980.0</td>\n",
       "      <td>15</td>\n",
       "      <td>[39, 102, 90, 102, 90, 102, 64, 102, 39, 102, ...</td>\n",
       "      <td>1971.0</td>\n",
       "    </tr>\n",
       "    <tr>\n",
       "      <th>1</th>\n",
       "      <td>-11749.309543</td>\n",
       "      <td>3316.269866</td>\n",
       "      <td>876.399808</td>\n",
       "      <td>595.443610</td>\n",
       "      <td>1774.9</td>\n",
       "      <td>SSSBSBBB</td>\n",
       "      <td>39.3331</td>\n",
       "      <td>-120.1730</td>\n",
       "      <td>SNWD</td>\n",
       "      <td>0.104933</td>\n",
       "      <td>0.035429</td>\n",
       "      <td>0.031510</td>\n",
       "      <td>0.030540</td>\n",
       "      <td>0.752206</td>\n",
       "      <td>USC00049043</td>\n",
       "      <td>208145907.0</td>\n",
       "      <td>1</td>\n",
       "      <td>[36, 99, 36, 99, 36, 99, 36, 99, 36, 99, 242, ...</td>\n",
       "      <td>1983.0</td>\n",
       "    </tr>\n",
       "    <tr>\n",
       "      <th>2</th>\n",
       "      <td>-11293.442597</td>\n",
       "      <td>821.563071</td>\n",
       "      <td>467.251791</td>\n",
       "      <td>-277.475643</td>\n",
       "      <td>1641.3</td>\n",
       "      <td>SSSBSBBB</td>\n",
       "      <td>39.4539</td>\n",
       "      <td>-120.6556</td>\n",
       "      <td>SNWD</td>\n",
       "      <td>0.065328</td>\n",
       "      <td>0.074726</td>\n",
       "      <td>0.072879</td>\n",
       "      <td>0.076441</td>\n",
       "      <td>0.750994</td>\n",
       "      <td>USC00041018</td>\n",
       "      <td>204956666.0</td>\n",
       "      <td>18</td>\n",
       "      <td>[0, 126, 0, 126, 0, 126, 191, 102, 166, 102, 9...</td>\n",
       "      <td>1971.0</td>\n",
       "    </tr>\n",
       "    <tr>\n",
       "      <th>3</th>\n",
       "      <td>-11169.757828</td>\n",
       "      <td>1156.928952</td>\n",
       "      <td>1354.832350</td>\n",
       "      <td>-1192.776627</td>\n",
       "      <td>1931.5</td>\n",
       "      <td>SSSBSBBB</td>\n",
       "      <td>39.4317</td>\n",
       "      <td>-120.2406</td>\n",
       "      <td>SNWD</td>\n",
       "      <td>0.065948</td>\n",
       "      <td>0.058526</td>\n",
       "      <td>0.049723</td>\n",
       "      <td>0.040403</td>\n",
       "      <td>0.736591</td>\n",
       "      <td>USC00047641</td>\n",
       "      <td>190225408.0</td>\n",
       "      <td>5</td>\n",
       "      <td>[36, 95, 36, 95, 246, 96, 246, 96, 246, 96, 24...</td>\n",
       "      <td>1973.0</td>\n",
       "    </tr>\n",
       "    <tr>\n",
       "      <th>0</th>\n",
       "      <td>-7000.172104</td>\n",
       "      <td>-3954.403368</td>\n",
       "      <td>-303.063949</td>\n",
       "      <td>-17.304986</td>\n",
       "      <td>1902.9</td>\n",
       "      <td>SSSBSBBB</td>\n",
       "      <td>39.2000</td>\n",
       "      <td>-120.2333</td>\n",
       "      <td>SNWD</td>\n",
       "      <td>0.370864</td>\n",
       "      <td>0.170099</td>\n",
       "      <td>0.168920</td>\n",
       "      <td>0.168916</td>\n",
       "      <td>0.692259</td>\n",
       "      <td>USC00048474</td>\n",
       "      <td>112513482.0</td>\n",
       "      <td>0</td>\n",
       "      <td>[119, 100, 94, 100, 43, 100, 43, 100, 17, 100,...</td>\n",
       "      <td>1972.0</td>\n",
       "    </tr>\n",
       "  </tbody>\n",
       "</table>\n",
       "</div>"
      ],
      "text/plain": [
       "        coeff_1      coeff_2      coeff_3      coeff_4  elevation     label  \\\n",
       "0 -11887.116725  1502.126642   697.165599  1580.674783     1931.5  SSSBSBBB   \n",
       "1 -11749.309543  3316.269866   876.399808   595.443610     1774.9  SSSBSBBB   \n",
       "2 -11293.442597   821.563071   467.251791  -277.475643     1641.3  SSSBSBBB   \n",
       "3 -11169.757828  1156.928952  1354.832350 -1192.776627     1931.5  SSSBSBBB   \n",
       "0  -7000.172104 -3954.403368  -303.063949   -17.304986     1902.9  SSSBSBBB   \n",
       "\n",
       "   latitude  longitude measurement     res_1     res_2     res_3     res_4  \\\n",
       "0   39.4317  -120.2406        SNWD  0.072693  0.069382  0.070016  0.053894   \n",
       "1   39.3331  -120.1730        SNWD  0.104933  0.035429  0.031510  0.030540   \n",
       "2   39.4539  -120.6556        SNWD  0.065328  0.074726  0.072879  0.076441   \n",
       "3   39.4317  -120.2406        SNWD  0.065948  0.058526  0.049723  0.040403   \n",
       "0   39.2000  -120.2333        SNWD  0.370864  0.170099  0.168920  0.168916   \n",
       "\n",
       "   res_mean      station    total_var  undefs  \\\n",
       "0  0.767752  USC00047641  229185980.0      15   \n",
       "1  0.752206  USC00049043  208145907.0       1   \n",
       "2  0.750994  USC00041018  204956666.0      18   \n",
       "3  0.736591  USC00047641  190225408.0       5   \n",
       "0  0.692259  USC00048474  112513482.0       0   \n",
       "\n",
       "                                              vector    year  \n",
       "0  [39, 102, 90, 102, 90, 102, 64, 102, 39, 102, ...  1971.0  \n",
       "1  [36, 99, 36, 99, 36, 99, 36, 99, 36, 99, 242, ...  1983.0  \n",
       "2  [0, 126, 0, 126, 0, 126, 191, 102, 166, 102, 9...  1971.0  \n",
       "3  [36, 95, 36, 95, 246, 96, 246, 96, 246, 96, 24...  1973.0  \n",
       "0  [119, 100, 94, 100, 43, 100, 43, 100, 17, 100,...  1972.0  "
      ]
     },
     "execution_count": 9,
     "metadata": {},
     "output_type": "execute_result"
    }
   ],
   "source": [
    "tables_all.head(5)"
   ]
  },
  {
   "cell_type": "code",
   "execution_count": 43,
   "metadata": {},
   "outputs": [
    {
     "data": {
      "application/vnd.jupyter.widget-view+json": {
       "model_id": "7d5b3872557c425bbbb81f8f36f0a988"
      }
     },
     "metadata": {},
     "output_type": "display_data"
    }
   ],
   "source": [
    "# showing all 24 samples(2(min,max) x 3 coeffs x 4 samples) on map\n",
    "import numpy as np\n",
    "\n",
    "scope_max=tables_all.max()\n",
    "scope_min=tables_all.min()\n",
    "min_lat,max_lat,min_long,max_long = box = (scope_min['latitude'], scope_max['latitude'], scope_min['longitude'], scope_max['longitude'])\n",
    "center = [(min_lat+max_lat)/2, (min_long+max_long)/2]\n",
    "zoom = 10\n",
    "lat_margin=(max_lat-min_lat)/4\n",
    "long_margin=(max_long-min_long)/4\n",
    "m = Map(default_tiles=TileLayer(opacity=0.6), center=center, zoom=zoom)\n",
    "r = Rectangle(bounds=[[min_lat,min_long],[max_lat,max_long]], weight=5, fill_opacity=0.0)\n",
    "m += r\n",
    "\n",
    "for i,table in enumerate(tables):\n",
    "    color=colors[i]\n",
    "    for j,row in table.iterrows():\n",
    "        _lat=row['latitude']\n",
    "        _long=row['longitude']\n",
    "        res = row['res_3']\n",
    "        offset = np.random.random(2) * 0.01\n",
    "        c = Circle(location=(_lat+offset[0],_long+offset[1]), radius=int(1000*(1.0-res)), weight=1,\n",
    "            color=color, opacity=0.3, fill_opacity=0.6, fill_color=color)\n",
    "        m += c\n",
    "m    "
   ]
  },
  {
   "cell_type": "code",
   "execution_count": 44,
   "metadata": {},
   "outputs": [
    {
     "data": {
      "text/html": [
       "<div>\n",
       "<table border=\"1\" class=\"dataframe\">\n",
       "  <thead>\n",
       "    <tr style=\"text-align: right;\">\n",
       "      <th></th>\n",
       "      <th>station</th>\n",
       "      <th>elevation</th>\n",
       "    </tr>\n",
       "    <tr>\n",
       "      <th>year</th>\n",
       "      <th></th>\n",
       "      <th></th>\n",
       "    </tr>\n",
       "  </thead>\n",
       "  <tbody>\n",
       "    <tr>\n",
       "      <th>1958.0</th>\n",
       "      <td>USC00047641</td>\n",
       "      <td>1931.5</td>\n",
       "    </tr>\n",
       "    <tr>\n",
       "      <th>1963.0</th>\n",
       "      <td>USC00048332</td>\n",
       "      <td>2098.5</td>\n",
       "    </tr>\n",
       "    <tr>\n",
       "      <th>1966.0</th>\n",
       "      <td>USW00023225</td>\n",
       "      <td>1608.1</td>\n",
       "    </tr>\n",
       "    <tr>\n",
       "      <th>1967.0</th>\n",
       "      <td>USC00048758</td>\n",
       "      <td>1898.9</td>\n",
       "    </tr>\n",
       "    <tr>\n",
       "      <th>1968.0</th>\n",
       "      <td>USC00048474</td>\n",
       "      <td>1902.9</td>\n",
       "    </tr>\n",
       "    <tr>\n",
       "      <th>1969.0</th>\n",
       "      <td>USC00040931</td>\n",
       "      <td>1699.3</td>\n",
       "    </tr>\n",
       "    <tr>\n",
       "      <th>1970.0</th>\n",
       "      <td>USC00048474</td>\n",
       "      <td>1902.9</td>\n",
       "    </tr>\n",
       "    <tr>\n",
       "      <th>1970.0</th>\n",
       "      <td>USC00047641</td>\n",
       "      <td>1931.5</td>\n",
       "    </tr>\n",
       "    <tr>\n",
       "      <th>1970.0</th>\n",
       "      <td>USC00042467</td>\n",
       "      <td>1809.6</td>\n",
       "    </tr>\n",
       "    <tr>\n",
       "      <th>1971.0</th>\n",
       "      <td>USC00049043</td>\n",
       "      <td>1774.9</td>\n",
       "    </tr>\n",
       "    <tr>\n",
       "      <th>1971.0</th>\n",
       "      <td>USC00041018</td>\n",
       "      <td>1641.3</td>\n",
       "    </tr>\n",
       "    <tr>\n",
       "      <th>1971.0</th>\n",
       "      <td>USC00047641</td>\n",
       "      <td>1931.5</td>\n",
       "    </tr>\n",
       "    <tr>\n",
       "      <th>1972.0</th>\n",
       "      <td>USC00048474</td>\n",
       "      <td>1902.9</td>\n",
       "    </tr>\n",
       "    <tr>\n",
       "      <th>1973.0</th>\n",
       "      <td>USC00042338</td>\n",
       "      <td>1357.9</td>\n",
       "    </tr>\n",
       "    <tr>\n",
       "      <th>1973.0</th>\n",
       "      <td>USC00048758</td>\n",
       "      <td>1898.9</td>\n",
       "    </tr>\n",
       "    <tr>\n",
       "      <th>1973.0</th>\n",
       "      <td>USC00047641</td>\n",
       "      <td>1931.5</td>\n",
       "    </tr>\n",
       "    <tr>\n",
       "      <th>1975.0</th>\n",
       "      <td>USC00049043</td>\n",
       "      <td>1774.9</td>\n",
       "    </tr>\n",
       "    <tr>\n",
       "      <th>1975.0</th>\n",
       "      <td>USC00042467</td>\n",
       "      <td>1809.6</td>\n",
       "    </tr>\n",
       "    <tr>\n",
       "      <th>1975.0</th>\n",
       "      <td>USW00023225</td>\n",
       "      <td>1608.1</td>\n",
       "    </tr>\n",
       "    <tr>\n",
       "      <th>1977.0</th>\n",
       "      <td>USC00047641</td>\n",
       "      <td>1931.5</td>\n",
       "    </tr>\n",
       "    <tr>\n",
       "      <th>1983.0</th>\n",
       "      <td>USC00049043</td>\n",
       "      <td>1774.9</td>\n",
       "    </tr>\n",
       "    <tr>\n",
       "      <th>1986.0</th>\n",
       "      <td>USC00049043</td>\n",
       "      <td>1774.9</td>\n",
       "    </tr>\n",
       "    <tr>\n",
       "      <th>1988.0</th>\n",
       "      <td>USC00044713</td>\n",
       "      <td>1571.5</td>\n",
       "    </tr>\n",
       "    <tr>\n",
       "      <th>1989.0</th>\n",
       "      <td>USC00044713</td>\n",
       "      <td>1571.5</td>\n",
       "    </tr>\n",
       "  </tbody>\n",
       "</table>\n",
       "</div>"
      ],
      "text/plain": [
       "            station  elevation\n",
       "year                          \n",
       "1958.0  USC00047641     1931.5\n",
       "1963.0  USC00048332     2098.5\n",
       "1966.0  USW00023225     1608.1\n",
       "1967.0  USC00048758     1898.9\n",
       "1968.0  USC00048474     1902.9\n",
       "1969.0  USC00040931     1699.3\n",
       "1970.0  USC00048474     1902.9\n",
       "1970.0  USC00047641     1931.5\n",
       "1970.0  USC00042467     1809.6\n",
       "1971.0  USC00049043     1774.9\n",
       "1971.0  USC00041018     1641.3\n",
       "1971.0  USC00047641     1931.5\n",
       "1972.0  USC00048474     1902.9\n",
       "1973.0  USC00042338     1357.9\n",
       "1973.0  USC00048758     1898.9\n",
       "1973.0  USC00047641     1931.5\n",
       "1975.0  USC00049043     1774.9\n",
       "1975.0  USC00042467     1809.6\n",
       "1975.0  USW00023225     1608.1\n",
       "1977.0  USC00047641     1931.5\n",
       "1983.0  USC00049043     1774.9\n",
       "1986.0  USC00049043     1774.9\n",
       "1988.0  USC00044713     1571.5\n",
       "1989.0  USC00044713     1571.5"
      ]
     },
     "execution_count": 44,
     "metadata": {},
     "output_type": "execute_result"
    }
   ],
   "source": [
    "#sort the 24 samples by year to see if there's case that multiple samples in same year\n",
    "tables_all[['station','elevation','year']].sort_values(by=['year']).set_index(['year'])"
   ]
  },
  {
   "cell_type": "code",
   "execution_count": 49,
   "metadata": {},
   "outputs": [
    {
     "data": {
      "text/html": [
       "<div>\n",
       "<table border=\"1\" class=\"dataframe\">\n",
       "  <thead>\n",
       "    <tr style=\"text-align: right;\">\n",
       "      <th></th>\n",
       "      <th>station</th>\n",
       "      <th>elevation</th>\n",
       "      <th>year</th>\n",
       "    </tr>\n",
       "  </thead>\n",
       "  <tbody>\n",
       "    <tr>\n",
       "      <th>0</th>\n",
       "      <td>USC00049043</td>\n",
       "      <td>1774.9</td>\n",
       "      <td>1975.0</td>\n",
       "    </tr>\n",
       "    <tr>\n",
       "      <th>2</th>\n",
       "      <td>USC00042467</td>\n",
       "      <td>1809.6</td>\n",
       "      <td>1975.0</td>\n",
       "    </tr>\n",
       "    <tr>\n",
       "      <th>3</th>\n",
       "      <td>USW00023225</td>\n",
       "      <td>1608.1</td>\n",
       "      <td>1975.0</td>\n",
       "    </tr>\n",
       "  </tbody>\n",
       "</table>\n",
       "</div>"
      ],
      "text/plain": [
       "       station  elevation    year\n",
       "0  USC00049043     1774.9  1975.0\n",
       "2  USC00042467     1809.6  1975.0\n",
       "3  USW00023225     1608.1  1975.0"
      ]
     },
     "execution_count": 49,
     "metadata": {},
     "output_type": "execute_result"
    }
   ],
   "source": [
    "# from above, we see year 1973, 1975 have 3 samples each\n",
    "# checkout the 3 samples of year 1975 first\n",
    "tables_all[tables_all.year==1975][['station','elevation','year']]"
   ]
  },
  {
   "cell_type": "code",
   "execution_count": 46,
   "metadata": {},
   "outputs": [
    {
     "name": "stdout",
     "output_type": "stream",
     "text": [
      "39.3331 -120.173 1774.9\n",
      "39.3239 -120.2331 1809.6\n",
      "39.2775 -120.7103 1608.1\n"
     ]
    },
    {
     "data": {
      "application/vnd.jupyter.widget-view+json": {
       "model_id": "a0c5e0c508c841efabfac833a3adce18"
      }
     },
     "metadata": {},
     "output_type": "display_data"
    }
   ],
   "source": [
    "# plot on map the 3 samples of year '1975' which shows same SNWD pattern(with same color)\n",
    "m = Map(default_tiles=TileLayer(opacity=0.6), center=center, zoom=zoom)\n",
    "r = Rectangle(bounds=[[min_lat,min_long],[max_lat,max_long]], weight=5, fill_opacity=0.0)\n",
    "m += r\n",
    "\n",
    "for i,table in enumerate(tables):\n",
    "    color=colors[i]\n",
    "    for j,row in table.iterrows():\n",
    "        if int(row['year']) != 1975:\n",
    "            continue\n",
    "        print row['latitude'],row['longitude'],row['elevation']\n",
    "        _lat=row['latitude']\n",
    "        _long=row['longitude']\n",
    "        res = row['res_3']\n",
    "        offset = np.random.random(2) * 0.01\n",
    "        c = Circle(location=(_lat+offset[0],_long+offset[1]), radius=int(1000*(1.0-res)), weight=1,\n",
    "            color=color, opacity=0.3, fill_opacity=0.6, fill_color=color)\n",
    "        m += c\n",
    "m    "
   ]
  },
  {
   "cell_type": "code",
   "execution_count": 48,
   "metadata": {},
   "outputs": [
    {
     "data": {
      "text/html": [
       "<div>\n",
       "<table border=\"1\" class=\"dataframe\">\n",
       "  <thead>\n",
       "    <tr style=\"text-align: right;\">\n",
       "      <th></th>\n",
       "      <th>station</th>\n",
       "      <th>elevation</th>\n",
       "      <th>year</th>\n",
       "    </tr>\n",
       "  </thead>\n",
       "  <tbody>\n",
       "    <tr>\n",
       "      <th>3</th>\n",
       "      <td>USC00047641</td>\n",
       "      <td>1931.5</td>\n",
       "      <td>1973.0</td>\n",
       "    </tr>\n",
       "    <tr>\n",
       "      <th>1</th>\n",
       "      <td>USC00042338</td>\n",
       "      <td>1357.9</td>\n",
       "      <td>1973.0</td>\n",
       "    </tr>\n",
       "    <tr>\n",
       "      <th>3</th>\n",
       "      <td>USC00048758</td>\n",
       "      <td>1898.9</td>\n",
       "      <td>1973.0</td>\n",
       "    </tr>\n",
       "  </tbody>\n",
       "</table>\n",
       "</div>"
      ],
      "text/plain": [
       "       station  elevation    year\n",
       "3  USC00047641     1931.5  1973.0\n",
       "1  USC00042338     1357.9  1973.0\n",
       "3  USC00048758     1898.9  1973.0"
      ]
     },
     "execution_count": 48,
     "metadata": {},
     "output_type": "execute_result"
    }
   ],
   "source": [
    "# print 3 samples of year 1973\n",
    "tables_all[tables_all.year==1973][['station','elevation','year']]"
   ]
  },
  {
   "cell_type": "code",
   "execution_count": 47,
   "metadata": {},
   "outputs": [
    {
     "name": "stdout",
     "output_type": "stream",
     "text": [
      "39.4317 -120.2406 1931.5\n",
      "39.3 -120.8333 1357.9\n",
      "39.1678 -120.1428 1898.9\n"
     ]
    },
    {
     "data": {
      "application/vnd.jupyter.widget-view+json": {
       "model_id": "a885a45d919044b09fde685fb35bb93a"
      }
     },
     "metadata": {},
     "output_type": "display_data"
    }
   ],
   "source": [
    "# plot on map the 3 samples of year '1973' which shows different patterns(with different color).\n",
    "m = Map(default_tiles=TileLayer(opacity=0.6), center=center, zoom=zoom)\n",
    "r = Rectangle(bounds=[[min_lat,min_long],[max_lat,max_long]], weight=5, fill_opacity=0.0)\n",
    "m += r\n",
    "\n",
    "for i,table in enumerate(tables):\n",
    "    color=colors[i]\n",
    "    for j,row in table.iterrows():\n",
    "        if int(row['year']) != 1973:\n",
    "            continue\n",
    "        print row['latitude'],row['longitude'],row['elevation']\n",
    "        _lat=row['latitude']\n",
    "        _long=row['longitude']\n",
    "        res = row['res_3']\n",
    "        offset = np.random.random(2) * 0.01\n",
    "        c = Circle(location=(_lat+offset[0],_long+offset[1]), radius=int(1000*(1.0-res)), weight=1,\n",
    "            color=color, opacity=0.3, fill_opacity=0.6, fill_color=color)\n",
    "        m += c\n",
    "m    "
   ]
  },
  {
   "cell_type": "code",
   "execution_count": null,
   "metadata": {
    "collapsed": true
   },
   "outputs": [],
   "source": []
  }
 ],
 "metadata": {
  "anaconda-cloud": {},
  "hide_input": false,
  "kernelspec": {
   "display_name": "Python [Root]",
   "language": "python",
   "name": "Python [Root]"
  },
  "language_info": {
   "codemirror_mode": {
    "name": "ipython",
    "version": 2
   },
   "file_extension": ".py",
   "mimetype": "text/x-python",
   "name": "python",
   "nbconvert_exporter": "python",
   "pygments_lexer": "ipython2",
   "version": "2.7.13"
  },
  "toc": {
   "colors": {
    "hover_highlight": "#DAA520",
    "running_highlight": "#FF0000",
    "selected_highlight": "#FFD700"
   },
   "moveMenuLeft": true,
   "nav_menu": {
    "height": "174px",
    "width": "252px"
   },
   "navigate_menu": true,
   "number_sections": true,
   "sideBar": true,
   "threshold": 4,
   "toc_cell": false,
   "toc_section_display": "block",
   "toc_window_display": false
  },
  "widgets": {
   "state": {},
   "version": "1.0.0"
  }
 },
 "nbformat": 4,
 "nbformat_minor": 1
}
