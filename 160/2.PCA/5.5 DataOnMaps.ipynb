{
 "cells": [
  {
   "cell_type": "markdown",
   "metadata": {
    "run_control": {
     "frozen": false,
     "read_only": false
    }
   },
   "source": [
    "## iPyLeaflet\n",
    "[ipyleaflet](https://github.com/ellisonbg/ipyleaflet) is a bridge between jupyter notebooks and the [leaflet](http://leafletjs.com/)  javascript library for drawing maps.\n",
    "\n",
    "ipyleaflet comes with a few examples notebooks (this notebook was derived from one) but very little documentation,\n",
    "for more documentation read the [Leaflet IPA](http://leafletjs.com/reference.html)\n",
    "\n",
    "For installation directions, see the README on [ipyleaflet](https://github.com/ellisonbg/ipyleaflet)\n",
    "\n",
    "[GeoJson](https://tools.ietf.org/html/rfc7946#section-3.1.7) is a good way to add data on top of an ipyleaflet map.\n",
    "\n",
    "For other backgrounds than open streets, you can alter the ipyleaflet.py file to point to one of [these map providers](https://leaflet-extras.github.io/leaflet-providers/preview/)"
   ]
  },
  {
   "cell_type": "code",
   "execution_count": 1,
   "metadata": {
    "collapsed": true,
    "run_control": {
     "frozen": false,
     "read_only": false
    }
   },
   "outputs": [],
   "source": [
    "from ipyleaflet import (\n",
    "    Map,\n",
    "    Marker,\n",
    "    TileLayer, ImageOverlay,\n",
    "    Polyline, Polygon, Rectangle, Circle, CircleMarker,\n",
    "    GeoJSON,\n",
    "    DrawControl\n",
    ")"
   ]
  },
  {
   "cell_type": "markdown",
   "metadata": {
    "run_control": {
     "frozen": false,
     "read_only": false
    }
   },
   "source": [
    "## Visualizing the distribution of the observations\n",
    "\n",
    "## Load the required libraries"
   ]
  },
  {
   "cell_type": "code",
   "execution_count": 1,
   "metadata": {
    "collapsed": true,
    "run_control": {
     "frozen": false,
     "read_only": false
    }
   },
   "outputs": [],
   "source": [
    "import pandas as pd\n",
    "import numpy as np\n",
    "import sklearn as sk\n",
    "import urllib\n",
    "import math\n",
    "import pylab as plt\n",
    "\n",
    "import sys\n",
    "sys.path.append('./lib')\n",
    "\n",
    "from leaflet import *"
   ]
  },
  {
   "cell_type": "code",
   "execution_count": 28,
   "metadata": {},
   "outputs": [
    {
     "name": "stdout",
     "output_type": "stream",
     "text": [
      "['eigen-vecs', 'stations_ordered', 'stations']\n"
     ]
    },
    {
     "data": {
      "text/html": [
       "<div>\n",
       "<table border=\"1\" class=\"dataframe\">\n",
       "  <thead>\n",
       "    <tr style=\"text-align: right;\">\n",
       "      <th></th>\n",
       "      <th>latitude</th>\n",
       "      <th>longitude</th>\n",
       "      <th>elevation</th>\n",
       "      <th>state</th>\n",
       "      <th>name</th>\n",
       "      <th>GSNFLAG</th>\n",
       "      <th>HCNFLAG</th>\n",
       "      <th>WMOID</th>\n",
       "    </tr>\n",
       "  </thead>\n",
       "  <tbody>\n",
       "    <tr>\n",
       "      <th>ACW00011604</th>\n",
       "      <td>17.1167</td>\n",
       "      <td>-61.7833</td>\n",
       "      <td>10.1</td>\n",
       "      <td>NaN</td>\n",
       "      <td>ST JOHNS COOLIDGE FLD</td>\n",
       "      <td>NaN</td>\n",
       "      <td>NaN</td>\n",
       "      <td>NaN</td>\n",
       "    </tr>\n",
       "    <tr>\n",
       "      <th>ACW00011647</th>\n",
       "      <td>17.1333</td>\n",
       "      <td>-61.7833</td>\n",
       "      <td>19.2</td>\n",
       "      <td>NaN</td>\n",
       "      <td>ST JOHNS</td>\n",
       "      <td>NaN</td>\n",
       "      <td>NaN</td>\n",
       "      <td>NaN</td>\n",
       "    </tr>\n",
       "    <tr>\n",
       "      <th>AE000041196</th>\n",
       "      <td>25.3330</td>\n",
       "      <td>55.5170</td>\n",
       "      <td>34.0</td>\n",
       "      <td>NaN</td>\n",
       "      <td>SHARJAH INTER. AIRP</td>\n",
       "      <td>GSN</td>\n",
       "      <td>NaN</td>\n",
       "      <td>41196.0</td>\n",
       "    </tr>\n",
       "    <tr>\n",
       "      <th>AF000040930</th>\n",
       "      <td>35.3170</td>\n",
       "      <td>69.0170</td>\n",
       "      <td>3366.0</td>\n",
       "      <td>NaN</td>\n",
       "      <td>NORTH-SALANG</td>\n",
       "      <td>GSN</td>\n",
       "      <td>NaN</td>\n",
       "      <td>40930.0</td>\n",
       "    </tr>\n",
       "    <tr>\n",
       "      <th>AG000060390</th>\n",
       "      <td>36.7167</td>\n",
       "      <td>3.2500</td>\n",
       "      <td>24.0</td>\n",
       "      <td>NaN</td>\n",
       "      <td>ALGER-DAR EL BEIDA</td>\n",
       "      <td>GSN</td>\n",
       "      <td>NaN</td>\n",
       "      <td>60390.0</td>\n",
       "    </tr>\n",
       "  </tbody>\n",
       "</table>\n",
       "</div>"
      ],
      "text/plain": [
       "             latitude  longitude  elevation state                   name  \\\n",
       "ACW00011604   17.1167   -61.7833       10.1   NaN  ST JOHNS COOLIDGE FLD   \n",
       "ACW00011647   17.1333   -61.7833       19.2   NaN               ST JOHNS   \n",
       "AE000041196   25.3330    55.5170       34.0   NaN    SHARJAH INTER. AIRP   \n",
       "AF000040930   35.3170    69.0170     3366.0   NaN           NORTH-SALANG   \n",
       "AG000060390   36.7167     3.2500       24.0   NaN     ALGER-DAR EL BEIDA   \n",
       "\n",
       "            GSNFLAG HCNFLAG    WMOID  \n",
       "ACW00011604     NaN     NaN      NaN  \n",
       "ACW00011647     NaN     NaN      NaN  \n",
       "AE000041196     GSN     NaN  41196.0  \n",
       "AF000040930     GSN     NaN  40930.0  \n",
       "AG000060390     GSN     NaN  60390.0  "
      ]
     },
     "execution_count": 28,
     "metadata": {},
     "output_type": "execute_result"
    }
   ],
   "source": [
    "data_dir = \"../../Data/Weather/\"\n",
    "from pickle import load\n",
    "with open(data_dir+'/PRCP_residuals_PCA.pickle','rb') as file:\n",
    "    Res_eig=load(file)\n",
    "print Res_eig.keys()\n",
    "\n",
    "#stations.pkl\n",
    "with open(data_dir+'/stations.pkl','rb') as file:\n",
    "    Stations=load(file)\n",
    "Stations.head()\n"
   ]
  },
  {
   "cell_type": "code",
   "execution_count": 29,
   "metadata": {},
   "outputs": [
    {
     "data": {
      "text/html": [
       "<div>\n",
       "<table border=\"1\" class=\"dataframe\">\n",
       "  <thead>\n",
       "    <tr style=\"text-align: right;\">\n",
       "      <th></th>\n",
       "      <th>0</th>\n",
       "      <th>1</th>\n",
       "      <th>2</th>\n",
       "      <th>3</th>\n",
       "    </tr>\n",
       "  </thead>\n",
       "  <tbody>\n",
       "    <tr>\n",
       "      <th>0</th>\n",
       "      <td>0.024611</td>\n",
       "      <td>-0.295978</td>\n",
       "      <td>0.102216</td>\n",
       "      <td>0.077605</td>\n",
       "    </tr>\n",
       "    <tr>\n",
       "      <th>1</th>\n",
       "      <td>0.024394</td>\n",
       "      <td>-0.310827</td>\n",
       "      <td>0.111588</td>\n",
       "      <td>0.066557</td>\n",
       "    </tr>\n",
       "    <tr>\n",
       "      <th>2</th>\n",
       "      <td>0.029112</td>\n",
       "      <td>-0.284298</td>\n",
       "      <td>0.101918</td>\n",
       "      <td>0.049235</td>\n",
       "    </tr>\n",
       "    <tr>\n",
       "      <th>3</th>\n",
       "      <td>0.074158</td>\n",
       "      <td>-0.274682</td>\n",
       "      <td>0.064711</td>\n",
       "      <td>0.008161</td>\n",
       "    </tr>\n",
       "    <tr>\n",
       "      <th>4</th>\n",
       "      <td>0.068909</td>\n",
       "      <td>-0.275075</td>\n",
       "      <td>0.072048</td>\n",
       "      <td>0.005100</td>\n",
       "    </tr>\n",
       "  </tbody>\n",
       "</table>\n",
       "</div>"
      ],
      "text/plain": [
       "          0         1         2         3\n",
       "0  0.024611 -0.295978  0.102216  0.077605\n",
       "1  0.024394 -0.310827  0.111588  0.066557\n",
       "2  0.029112 -0.284298  0.101918  0.049235\n",
       "3  0.074158 -0.274682  0.064711  0.008161\n",
       "4  0.068909 -0.275075  0.072048  0.005100"
      ]
     },
     "execution_count": 29,
     "metadata": {},
     "output_type": "execute_result"
    }
   ],
   "source": [
    "import pandas as pd\n",
    "Eig=pd.DataFrame(Res_eig['eigen-vecs'].transpose())\n",
    "Eig.head()"
   ]
  },
  {
   "cell_type": "code",
   "execution_count": 30,
   "metadata": {},
   "outputs": [
    {
     "data": {
      "text/plain": [
       "(65, 4)"
      ]
     },
     "execution_count": 30,
     "metadata": {},
     "output_type": "execute_result"
    }
   ],
   "source": [
    "Eig.shape"
   ]
  },
  {
   "cell_type": "code",
   "execution_count": 64,
   "metadata": {},
   "outputs": [
    {
     "name": "stdout",
     "output_type": "stream",
     "text": [
      "[u'USC00041018', u'USC00260507', u'USC00044773', u'USC00043491', u'USC00042334']\n"
     ]
    },
    {
     "data": {
      "text/html": [
       "<div>\n",
       "<table border=\"1\" class=\"dataframe\">\n",
       "  <thead>\n",
       "    <tr style=\"text-align: right;\">\n",
       "      <th></th>\n",
       "      <th>0</th>\n",
       "      <th>1</th>\n",
       "      <th>2</th>\n",
       "      <th>3</th>\n",
       "    </tr>\n",
       "    <tr>\n",
       "      <th>station</th>\n",
       "      <th></th>\n",
       "      <th></th>\n",
       "      <th></th>\n",
       "      <th></th>\n",
       "    </tr>\n",
       "  </thead>\n",
       "  <tbody>\n",
       "    <tr>\n",
       "      <th>US1CANV0001</th>\n",
       "      <td>0.024611</td>\n",
       "      <td>-0.295978</td>\n",
       "      <td>0.102216</td>\n",
       "      <td>0.077605</td>\n",
       "    </tr>\n",
       "    <tr>\n",
       "      <th>US1CANV0004</th>\n",
       "      <td>0.024394</td>\n",
       "      <td>-0.310827</td>\n",
       "      <td>0.111588</td>\n",
       "      <td>0.066557</td>\n",
       "    </tr>\n",
       "    <tr>\n",
       "      <th>US1CAPC0001</th>\n",
       "      <td>0.029112</td>\n",
       "      <td>-0.284298</td>\n",
       "      <td>0.101918</td>\n",
       "      <td>0.049235</td>\n",
       "    </tr>\n",
       "    <tr>\n",
       "      <th>US1NVWH0003</th>\n",
       "      <td>0.074158</td>\n",
       "      <td>-0.274682</td>\n",
       "      <td>0.064711</td>\n",
       "      <td>0.008161</td>\n",
       "    </tr>\n",
       "    <tr>\n",
       "      <th>US1NVWH0019</th>\n",
       "      <td>0.068909</td>\n",
       "      <td>-0.275075</td>\n",
       "      <td>0.072048</td>\n",
       "      <td>0.005100</td>\n",
       "    </tr>\n",
       "  </tbody>\n",
       "</table>\n",
       "</div>"
      ],
      "text/plain": [
       "                    0         1         2         3\n",
       "station                                            \n",
       "US1CANV0001  0.024611 -0.295978  0.102216  0.077605\n",
       "US1CANV0004  0.024394 -0.310827  0.111588  0.066557\n",
       "US1CAPC0001  0.029112 -0.284298  0.101918  0.049235\n",
       "US1NVWH0003  0.074158 -0.274682  0.064711  0.008161\n",
       "US1NVWH0019  0.068909 -0.275075  0.072048  0.005100"
      ]
     },
     "execution_count": 64,
     "metadata": {},
     "output_type": "execute_result"
    }
   ],
   "source": [
    "Eig['station']=Res_eig['stations_ordered']\n",
    "Eig=Eig.set_index('station')\n",
    "print Res_eig['stations'][:5]\n",
    "Eig.head()"
   ]
  },
  {
   "cell_type": "code",
   "execution_count": 65,
   "metadata": {
    "collapsed": true
   },
   "outputs": [],
   "source": [
    "table=Eig.join(Stations,how='left')"
   ]
  },
  {
   "cell_type": "code",
   "execution_count": 66,
   "metadata": {},
   "outputs": [
    {
     "data": {
      "text/html": [
       "<div>\n",
       "<table border=\"1\" class=\"dataframe\">\n",
       "  <thead>\n",
       "    <tr style=\"text-align: right;\">\n",
       "      <th></th>\n",
       "      <th>name</th>\n",
       "      <th>latitude</th>\n",
       "      <th>longitude</th>\n",
       "      <th>elevation</th>\n",
       "      <th>0</th>\n",
       "      <th>1</th>\n",
       "      <th>2</th>\n",
       "      <th>3</th>\n",
       "    </tr>\n",
       "    <tr>\n",
       "      <th>station</th>\n",
       "      <th></th>\n",
       "      <th></th>\n",
       "      <th></th>\n",
       "      <th></th>\n",
       "      <th></th>\n",
       "      <th></th>\n",
       "      <th></th>\n",
       "      <th></th>\n",
       "    </tr>\n",
       "  </thead>\n",
       "  <tbody>\n",
       "    <tr>\n",
       "      <th>US1CANV0001</th>\n",
       "      <td>NEVADA CITY 3.4 NNW</td>\n",
       "      <td>39.3067</td>\n",
       "      <td>-121.0399</td>\n",
       "      <td>728.5</td>\n",
       "      <td>0.024611</td>\n",
       "      <td>-0.295978</td>\n",
       "      <td>0.102216</td>\n",
       "      <td>0.077605</td>\n",
       "    </tr>\n",
       "    <tr>\n",
       "      <th>US1CANV0004</th>\n",
       "      <td>GRASS VALLEY 5.5 ESE</td>\n",
       "      <td>39.1900</td>\n",
       "      <td>-120.9631</td>\n",
       "      <td>842.2</td>\n",
       "      <td>0.024394</td>\n",
       "      <td>-0.310827</td>\n",
       "      <td>0.111588</td>\n",
       "      <td>0.066557</td>\n",
       "    </tr>\n",
       "    <tr>\n",
       "      <th>US1CAPC0001</th>\n",
       "      <td>SODA SPRINGS 1.5 SSW</td>\n",
       "      <td>39.3021</td>\n",
       "      <td>-120.3837</td>\n",
       "      <td>2099.2</td>\n",
       "      <td>0.029112</td>\n",
       "      <td>-0.284298</td>\n",
       "      <td>0.101918</td>\n",
       "      <td>0.049235</td>\n",
       "    </tr>\n",
       "    <tr>\n",
       "      <th>US1NVWH0003</th>\n",
       "      <td>RENO 10.0 S</td>\n",
       "      <td>39.3954</td>\n",
       "      <td>-119.7900</td>\n",
       "      <td>1554.5</td>\n",
       "      <td>0.074158</td>\n",
       "      <td>-0.274682</td>\n",
       "      <td>0.064711</td>\n",
       "      <td>0.008161</td>\n",
       "    </tr>\n",
       "  </tbody>\n",
       "</table>\n",
       "</div>"
      ],
      "text/plain": [
       "                             name  latitude  longitude  elevation         0  \\\n",
       "station                                                                       \n",
       "US1CANV0001   NEVADA CITY 3.4 NNW   39.3067  -121.0399      728.5  0.024611   \n",
       "US1CANV0004  GRASS VALLEY 5.5 ESE   39.1900  -120.9631      842.2  0.024394   \n",
       "US1CAPC0001  SODA SPRINGS 1.5 SSW   39.3021  -120.3837     2099.2  0.029112   \n",
       "US1NVWH0003           RENO 10.0 S   39.3954  -119.7900     1554.5  0.074158   \n",
       "\n",
       "                    1         2         3  \n",
       "station                                    \n",
       "US1CANV0001 -0.295978  0.102216  0.077605  \n",
       "US1CANV0004 -0.310827  0.111588  0.066557  \n",
       "US1CAPC0001 -0.284298  0.101918  0.049235  \n",
       "US1NVWH0003 -0.274682  0.064711  0.008161  "
      ]
     },
     "execution_count": 66,
     "metadata": {},
     "output_type": "execute_result"
    }
   ],
   "source": [
    "table=table[['name','latitude','longitude','elevation',0,1,2,3]]\n",
    "table.head(4)"
   ]
  },
  {
   "cell_type": "code",
   "execution_count": 81,
   "metadata": {},
   "outputs": [
    {
     "name": "stderr",
     "output_type": "stream",
     "text": [
      "c:\\Users\\wenyan\\Anaconda2\\lib\\site-packages\\ipykernel\\__main__.py:5: FutureWarning: sort(columns=....) is deprecated, use sort_values(by=.....)\n",
      "c:\\Users\\wenyan\\Anaconda2\\lib\\site-packages\\ipykernel\\__main__.py:6: FutureWarning: sort(columns=....) is deprecated, use sort_values(by=.....)\n"
     ]
    }
   ],
   "source": [
    "#table.sort(columns=[1], ascending=True)\n",
    "table\n",
    "#group0= table.sort(columns=[1], ascending=True).head(10)\n",
    "group0 = table.head(8)\n",
    "group1 = table.sort(columns=[0], ascending=False).head(9)\n",
    "group2 = table.sort(columns=[1], ascending=True).head(13)"
   ]
  },
  {
   "cell_type": "code",
   "execution_count": 75,
   "metadata": {},
   "outputs": [
    {
     "data": {
      "text/html": [
       "<div>\n",
       "<table border=\"1\" class=\"dataframe\">\n",
       "  <thead>\n",
       "    <tr style=\"text-align: right;\">\n",
       "      <th></th>\n",
       "      <th>name</th>\n",
       "      <th>latitude</th>\n",
       "      <th>longitude</th>\n",
       "      <th>elevation</th>\n",
       "      <th>0</th>\n",
       "      <th>1</th>\n",
       "      <th>2</th>\n",
       "      <th>3</th>\n",
       "    </tr>\n",
       "    <tr>\n",
       "      <th>station</th>\n",
       "      <th></th>\n",
       "      <th></th>\n",
       "      <th></th>\n",
       "      <th></th>\n",
       "      <th></th>\n",
       "      <th></th>\n",
       "      <th></th>\n",
       "      <th></th>\n",
       "    </tr>\n",
       "  </thead>\n",
       "  <tbody>\n",
       "    <tr>\n",
       "      <th>US1CANV0001</th>\n",
       "      <td>NEVADA CITY 3.4 NNW</td>\n",
       "      <td>39.3067</td>\n",
       "      <td>-121.0399</td>\n",
       "      <td>728.5</td>\n",
       "      <td>0.024611</td>\n",
       "      <td>-0.295978</td>\n",
       "      <td>0.102216</td>\n",
       "      <td>0.077605</td>\n",
       "    </tr>\n",
       "    <tr>\n",
       "      <th>US1CANV0004</th>\n",
       "      <td>GRASS VALLEY 5.5 ESE</td>\n",
       "      <td>39.1900</td>\n",
       "      <td>-120.9631</td>\n",
       "      <td>842.2</td>\n",
       "      <td>0.024394</td>\n",
       "      <td>-0.310827</td>\n",
       "      <td>0.111588</td>\n",
       "      <td>0.066557</td>\n",
       "    </tr>\n",
       "    <tr>\n",
       "      <th>US1CAPC0001</th>\n",
       "      <td>SODA SPRINGS 1.5 SSW</td>\n",
       "      <td>39.3021</td>\n",
       "      <td>-120.3837</td>\n",
       "      <td>2099.2</td>\n",
       "      <td>0.029112</td>\n",
       "      <td>-0.284298</td>\n",
       "      <td>0.101918</td>\n",
       "      <td>0.049235</td>\n",
       "    </tr>\n",
       "    <tr>\n",
       "      <th>US1NVWH0003</th>\n",
       "      <td>RENO 10.0 S</td>\n",
       "      <td>39.3954</td>\n",
       "      <td>-119.7900</td>\n",
       "      <td>1554.5</td>\n",
       "      <td>0.074158</td>\n",
       "      <td>-0.274682</td>\n",
       "      <td>0.064711</td>\n",
       "      <td>0.008161</td>\n",
       "    </tr>\n",
       "    <tr>\n",
       "      <th>US1NVWH0019</th>\n",
       "      <td>RENO 9.0 W</td>\n",
       "      <td>39.5184</td>\n",
       "      <td>-119.9935</td>\n",
       "      <td>1493.5</td>\n",
       "      <td>0.068909</td>\n",
       "      <td>-0.275075</td>\n",
       "      <td>0.072048</td>\n",
       "      <td>0.005100</td>\n",
       "    </tr>\n",
       "    <tr>\n",
       "      <th>US1NVWH0025</th>\n",
       "      <td>RENO 3.9 W</td>\n",
       "      <td>39.5420</td>\n",
       "      <td>-119.8958</td>\n",
       "      <td>1570.0</td>\n",
       "      <td>0.079798</td>\n",
       "      <td>-0.294577</td>\n",
       "      <td>0.065570</td>\n",
       "      <td>0.012297</td>\n",
       "    </tr>\n",
       "    <tr>\n",
       "      <th>US1NVWH0035</th>\n",
       "      <td>RENO 4.5 S</td>\n",
       "      <td>39.4736</td>\n",
       "      <td>-119.8286</td>\n",
       "      <td>1486.8</td>\n",
       "      <td>0.078467</td>\n",
       "      <td>-0.277221</td>\n",
       "      <td>0.057284</td>\n",
       "      <td>0.009583</td>\n",
       "    </tr>\n",
       "    <tr>\n",
       "      <th>US1NVWH0059</th>\n",
       "      <td>RENO 8.0 S</td>\n",
       "      <td>39.4242</td>\n",
       "      <td>-119.8000</td>\n",
       "      <td>1478.0</td>\n",
       "      <td>0.073823</td>\n",
       "      <td>-0.302623</td>\n",
       "      <td>0.071452</td>\n",
       "      <td>0.023963</td>\n",
       "    </tr>\n",
       "  </tbody>\n",
       "</table>\n",
       "</div>"
      ],
      "text/plain": [
       "                             name  latitude  longitude  elevation         0  \\\n",
       "station                                                                       \n",
       "US1CANV0001   NEVADA CITY 3.4 NNW   39.3067  -121.0399      728.5  0.024611   \n",
       "US1CANV0004  GRASS VALLEY 5.5 ESE   39.1900  -120.9631      842.2  0.024394   \n",
       "US1CAPC0001  SODA SPRINGS 1.5 SSW   39.3021  -120.3837     2099.2  0.029112   \n",
       "US1NVWH0003           RENO 10.0 S   39.3954  -119.7900     1554.5  0.074158   \n",
       "US1NVWH0019            RENO 9.0 W   39.5184  -119.9935     1493.5  0.068909   \n",
       "US1NVWH0025            RENO 3.9 W   39.5420  -119.8958     1570.0  0.079798   \n",
       "US1NVWH0035            RENO 4.5 S   39.4736  -119.8286     1486.8  0.078467   \n",
       "US1NVWH0059            RENO 8.0 S   39.4242  -119.8000     1478.0  0.073823   \n",
       "\n",
       "                    1         2         3  \n",
       "station                                    \n",
       "US1CANV0001 -0.295978  0.102216  0.077605  \n",
       "US1CANV0004 -0.310827  0.111588  0.066557  \n",
       "US1CAPC0001 -0.284298  0.101918  0.049235  \n",
       "US1NVWH0003 -0.274682  0.064711  0.008161  \n",
       "US1NVWH0019 -0.275075  0.072048  0.005100  \n",
       "US1NVWH0025 -0.294577  0.065570  0.012297  \n",
       "US1NVWH0035 -0.277221  0.057284  0.009583  \n",
       "US1NVWH0059 -0.302623  0.071452  0.023963  "
      ]
     },
     "execution_count": 75,
     "metadata": {},
     "output_type": "execute_result"
    }
   ],
   "source": [
    "group0"
   ]
  },
  {
   "cell_type": "code",
   "execution_count": 76,
   "metadata": {},
   "outputs": [
    {
     "data": {
      "text/html": [
       "<div>\n",
       "<table border=\"1\" class=\"dataframe\">\n",
       "  <thead>\n",
       "    <tr style=\"text-align: right;\">\n",
       "      <th></th>\n",
       "      <th>name</th>\n",
       "      <th>latitude</th>\n",
       "      <th>longitude</th>\n",
       "      <th>elevation</th>\n",
       "      <th>0</th>\n",
       "      <th>1</th>\n",
       "      <th>2</th>\n",
       "      <th>3</th>\n",
       "    </tr>\n",
       "    <tr>\n",
       "      <th>station</th>\n",
       "      <th></th>\n",
       "      <th></th>\n",
       "      <th></th>\n",
       "      <th></th>\n",
       "      <th></th>\n",
       "      <th></th>\n",
       "      <th></th>\n",
       "      <th></th>\n",
       "    </tr>\n",
       "  </thead>\n",
       "  <tbody>\n",
       "    <tr>\n",
       "      <th>US1NVWH0025</th>\n",
       "      <td>RENO 3.9 W</td>\n",
       "      <td>39.5420</td>\n",
       "      <td>-119.8958</td>\n",
       "      <td>1570.0</td>\n",
       "      <td>0.079798</td>\n",
       "      <td>-0.294577</td>\n",
       "      <td>0.065570</td>\n",
       "      <td>0.012297</td>\n",
       "    </tr>\n",
       "    <tr>\n",
       "      <th>US1NVWH0035</th>\n",
       "      <td>RENO 4.5 S</td>\n",
       "      <td>39.4736</td>\n",
       "      <td>-119.8286</td>\n",
       "      <td>1486.8</td>\n",
       "      <td>0.078467</td>\n",
       "      <td>-0.277221</td>\n",
       "      <td>0.057284</td>\n",
       "      <td>0.009583</td>\n",
       "    </tr>\n",
       "    <tr>\n",
       "      <th>US1NVWH0003</th>\n",
       "      <td>RENO 10.0 S</td>\n",
       "      <td>39.3954</td>\n",
       "      <td>-119.7900</td>\n",
       "      <td>1554.5</td>\n",
       "      <td>0.074158</td>\n",
       "      <td>-0.274682</td>\n",
       "      <td>0.064711</td>\n",
       "      <td>0.008161</td>\n",
       "    </tr>\n",
       "    <tr>\n",
       "      <th>US1NVWH0059</th>\n",
       "      <td>RENO 8.0 S</td>\n",
       "      <td>39.4242</td>\n",
       "      <td>-119.8000</td>\n",
       "      <td>1478.0</td>\n",
       "      <td>0.073823</td>\n",
       "      <td>-0.302623</td>\n",
       "      <td>0.071452</td>\n",
       "      <td>0.023963</td>\n",
       "    </tr>\n",
       "    <tr>\n",
       "      <th>US1NVWH0019</th>\n",
       "      <td>RENO 9.0 W</td>\n",
       "      <td>39.5184</td>\n",
       "      <td>-119.9935</td>\n",
       "      <td>1493.5</td>\n",
       "      <td>0.068909</td>\n",
       "      <td>-0.275075</td>\n",
       "      <td>0.072048</td>\n",
       "      <td>0.005100</td>\n",
       "    </tr>\n",
       "    <tr>\n",
       "      <th>USC00049040</th>\n",
       "      <td>TRUCKEE-TAHOE AP DIST</td>\n",
       "      <td>39.3181</td>\n",
       "      <td>-120.1450</td>\n",
       "      <td>1798.3</td>\n",
       "      <td>0.046280</td>\n",
       "      <td>-0.276433</td>\n",
       "      <td>0.095704</td>\n",
       "      <td>0.022691</td>\n",
       "    </tr>\n",
       "    <tr>\n",
       "      <th>US1CAPC0001</th>\n",
       "      <td>SODA SPRINGS 1.5 SSW</td>\n",
       "      <td>39.3021</td>\n",
       "      <td>-120.3837</td>\n",
       "      <td>2099.2</td>\n",
       "      <td>0.029112</td>\n",
       "      <td>-0.284298</td>\n",
       "      <td>0.101918</td>\n",
       "      <td>0.049235</td>\n",
       "    </tr>\n",
       "    <tr>\n",
       "      <th>US1CANV0001</th>\n",
       "      <td>NEVADA CITY 3.4 NNW</td>\n",
       "      <td>39.3067</td>\n",
       "      <td>-121.0399</td>\n",
       "      <td>728.5</td>\n",
       "      <td>0.024611</td>\n",
       "      <td>-0.295978</td>\n",
       "      <td>0.102216</td>\n",
       "      <td>0.077605</td>\n",
       "    </tr>\n",
       "    <tr>\n",
       "      <th>US1CANV0004</th>\n",
       "      <td>GRASS VALLEY 5.5 ESE</td>\n",
       "      <td>39.1900</td>\n",
       "      <td>-120.9631</td>\n",
       "      <td>842.2</td>\n",
       "      <td>0.024394</td>\n",
       "      <td>-0.310827</td>\n",
       "      <td>0.111588</td>\n",
       "      <td>0.066557</td>\n",
       "    </tr>\n",
       "  </tbody>\n",
       "</table>\n",
       "</div>"
      ],
      "text/plain": [
       "                              name  latitude  longitude  elevation         0  \\\n",
       "station                                                                        \n",
       "US1NVWH0025             RENO 3.9 W   39.5420  -119.8958     1570.0  0.079798   \n",
       "US1NVWH0035             RENO 4.5 S   39.4736  -119.8286     1486.8  0.078467   \n",
       "US1NVWH0003            RENO 10.0 S   39.3954  -119.7900     1554.5  0.074158   \n",
       "US1NVWH0059             RENO 8.0 S   39.4242  -119.8000     1478.0  0.073823   \n",
       "US1NVWH0019             RENO 9.0 W   39.5184  -119.9935     1493.5  0.068909   \n",
       "USC00049040  TRUCKEE-TAHOE AP DIST   39.3181  -120.1450     1798.3  0.046280   \n",
       "US1CAPC0001   SODA SPRINGS 1.5 SSW   39.3021  -120.3837     2099.2  0.029112   \n",
       "US1CANV0001    NEVADA CITY 3.4 NNW   39.3067  -121.0399      728.5  0.024611   \n",
       "US1CANV0004   GRASS VALLEY 5.5 ESE   39.1900  -120.9631      842.2  0.024394   \n",
       "\n",
       "                    1         2         3  \n",
       "station                                    \n",
       "US1NVWH0025 -0.294577  0.065570  0.012297  \n",
       "US1NVWH0035 -0.277221  0.057284  0.009583  \n",
       "US1NVWH0003 -0.274682  0.064711  0.008161  \n",
       "US1NVWH0059 -0.302623  0.071452  0.023963  \n",
       "US1NVWH0019 -0.275075  0.072048  0.005100  \n",
       "USC00049040 -0.276433  0.095704  0.022691  \n",
       "US1CAPC0001 -0.284298  0.101918  0.049235  \n",
       "US1CANV0001 -0.295978  0.102216  0.077605  \n",
       "US1CANV0004 -0.310827  0.111588  0.066557  "
      ]
     },
     "execution_count": 76,
     "metadata": {},
     "output_type": "execute_result"
    }
   ],
   "source": [
    "group1"
   ]
  },
  {
   "cell_type": "code",
   "execution_count": 70,
   "metadata": {
    "collapsed": true,
    "scrolled": true
   },
   "outputs": [],
   "source": [
    "import pylab as plt\n",
    "prop_cycle = plt.rcParams['axes.prop_cycle']\n",
    "colors = prop_cycle.by_key()['color']\n",
    "colors = ['#FF0000', '#00FF00', '#0000FF', '#000000']"
   ]
  },
  {
   "cell_type": "markdown",
   "metadata": {
    "run_control": {
     "frozen": false,
     "read_only": false
    }
   },
   "source": [
    "## Map"
   ]
  },
  {
   "cell_type": "code",
   "execution_count": 71,
   "metadata": {
    "collapsed": true
   },
   "outputs": [],
   "source": [
    "scope_max=table.max()\n",
    "scope_min=table.min()\n",
    "min_lat,max_lat,min_long,max_long = box = (scope_min['latitude'], scope_max['latitude'], scope_min['longitude'], scope_max['longitude'])"
   ]
  },
  {
   "cell_type": "code",
   "execution_count": 90,
   "metadata": {},
   "outputs": [
    {
     "data": {
      "text/plain": [
       "numpy.ndarray"
      ]
     },
     "execution_count": 90,
     "metadata": {},
     "output_type": "execute_result"
    }
   ],
   "source": [
    "type(group1.index.values)"
   ]
  },
  {
   "cell_type": "code",
   "execution_count": 83,
   "metadata": {},
   "outputs": [
    {
     "data": {
      "application/vnd.jupyter.widget-view+json": {
       "model_id": "0f3629f447554612a4f2e6a4b9ae6141"
      }
     },
     "metadata": {},
     "output_type": "display_data"
    }
   ],
   "source": [
    "center = [(min_lat+max_lat)/2, (min_long+max_long)/2]\n",
    "zoom = 7\n",
    "lat_margin=(max_lat-min_lat)/4\n",
    "long_margin=(max_long-min_long)/4\n",
    "m = Map(default_tiles=TileLayer(opacity=0.6), center=center, zoom=zoom)\n",
    "r = Rectangle(bounds=[[min_lat,min_long],[max_lat,max_long]], weight=5, fill_opacity=0.0)\n",
    "m += r\n",
    "\n",
    "k=0\n",
    "for index,row in group1.iterrows():\n",
    "    _lat=row['latitude']\n",
    "    _long=row['longitude']\n",
    "    #if k >=3: break\n",
    "    for col in range(4):\n",
    "        _coef=row[col]\n",
    "        if np.isnan(_coef):\n",
    "            continue\n",
    "        r=abs(_coef)/5\n",
    "        #print r\n",
    "        color=colors[col]\n",
    "        signs=[[+1,+1],[+1,-1],[-1,-1],[-1,+1]]\n",
    "        lat_sign,long_sign=signs[col]\n",
    "        triangle=[(_lat,_long),(_lat+lat_sign*r,_long),(_lat,_long+long_sign*r),(_lat,_long)]\n",
    "        if _coef<0:\n",
    "            poly= Polygon(locations=triangle, weight=0,\n",
    "                    color=color, opacity=0, fill_opacity=0.7,\n",
    "                    fill_color=color)\n",
    "        else:\n",
    "            poly= Polygon(locations=triangle, weight=2,\n",
    "                    color=color, opacity=0.8, fill_opacity=0,\n",
    "                    fill_color=color)\n",
    "        m +=poly   \n",
    "    k+=1\n",
    "\n",
    "m    "
   ]
  },
  {
   "cell_type": "code",
   "execution_count": 124,
   "metadata": {
    "code_folding": [
     14
    ]
   },
   "outputs": [
    {
     "data": {
      "application/vnd.jupyter.widget-view+json": {
       "model_id": "bbaca463a9204c3fb42e5f3468a7906e"
      }
     },
     "metadata": {},
     "output_type": "display_data"
    }
   ],
   "source": [
    "center = [(min_lat+max_lat)/2, (min_long+max_long)/2]\n",
    "zoom = 7\n",
    "lat_margin=(max_lat-min_lat)/4\n",
    "long_margin=(max_long-min_long)/4\n",
    "m = Map(default_tiles=TileLayer(opacity=0.6), center=center, zoom=zoom)\n",
    "r = Rectangle(bounds=[[min_lat,min_long],[max_lat,max_long]], weight=5, fill_opacity=0.0)\n",
    "m += r\n",
    "\n",
    "k = 0\n",
    "for index,row in table.reset_index().iterrows():\n",
    "    _lat=row['latitude']\n",
    "    _long=row['longitude']\n",
    "    for col in range(4):\n",
    "        _coef=row[col]\n",
    "        if np.isnan(_coef):\n",
    "            continue\n",
    "        r=abs(_coef)/5\n",
    "        #print r\n",
    "        color=colors[col]\n",
    "        signs=[[+1,+1],[+1,-1],[-1,-1],[-1,+1]]\n",
    "        lat_sign,long_sign=signs[col]\n",
    "        triangle=[(_lat,_long),(_lat+lat_sign*r,_long),(_lat,_long+long_sign*r),(_lat,_long)]\n",
    "        if _coef<0:\n",
    "            poly= Polygon(locations=triangle, weight=0,\n",
    "                    color=color, opacity=0, fill_opacity=0.7,\n",
    "                    fill_color=color)\n",
    "        else:\n",
    "            poly= Polygon(locations=triangle, weight=2,\n",
    "                    color=color, opacity=0.8, fill_opacity=0,\n",
    "                    fill_color=color)\n",
    "        m +=poly\n",
    "\n",
    "k=0\n",
    "for index,row in group1.iterrows():\n",
    "    _lat=row['latitude']\n",
    "    _long=row['longitude']\n",
    "    color = '#FF0' if k<5 else '#0FF'\n",
    "    c = Circle(location=(_lat,_long), radius=int(5000), weight=4,\n",
    "               color=color, opacity=0.8, fill_opacity=.0)\n",
    "    m += c\n",
    "    k+=1\n",
    "\n",
    "m    "
   ]
  },
  {
   "cell_type": "markdown",
   "metadata": {
    "run_control": {
     "frozen": false,
     "read_only": false
    }
   },
   "source": [
    "### excercises:\n",
    "* Add a legend that relates the colors to values.\n",
    "* Leaflet supports a variety of maps. See if you can get a topographical map as the background."
   ]
  },
  {
   "cell_type": "code",
   "execution_count": null,
   "metadata": {
    "collapsed": true
   },
   "outputs": [],
   "source": []
  }
 ],
 "metadata": {
  "anaconda-cloud": {},
  "hide_input": false,
  "kernelspec": {
   "display_name": "Python [Root]",
   "language": "python",
   "name": "Python [Root]"
  },
  "language_info": {
   "codemirror_mode": {
    "name": "ipython",
    "version": 2
   },
   "file_extension": ".py",
   "mimetype": "text/x-python",
   "name": "python",
   "nbconvert_exporter": "python",
   "pygments_lexer": "ipython2",
   "version": "2.7.13"
  },
  "toc": {
   "colors": {
    "hover_highlight": "#DAA520",
    "running_highlight": "#FF0000",
    "selected_highlight": "#FFD700"
   },
   "moveMenuLeft": true,
   "nav_menu": {
    "height": "174px",
    "width": "252px"
   },
   "navigate_menu": true,
   "number_sections": true,
   "sideBar": true,
   "threshold": 4,
   "toc_cell": false,
   "toc_section_display": "block",
   "toc_window_display": false
  },
  "widgets": {
   "state": {},
   "version": "1.0.0"
  }
 },
 "nbformat": 4,
 "nbformat_minor": 1
}
