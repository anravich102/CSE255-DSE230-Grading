{
 "cells": [
  {
   "cell_type": "markdown",
   "metadata": {},
   "source": [
    "This is a report on the historical analysis of daily precipitation in an area that stretches across southern Alabama and northwest Florida.\n",
    "\n",
    "The data we will use here comes from NOAA.\n",
    "\n",
    "First lets look at the mean daily precipitation across all stations:"
   ]
  },
  {
   "cell_type": "markdown",
   "metadata": {},
   "source": [
    "![title](report_pics/mean_std_1.png)"
   ]
  },
  {
   "cell_type": "markdown",
   "metadata": {},
   "source": [
    "This shows that the standard deviation of rainfall tends to be higher during summer months.\n",
    "We do a sanity check by comparing with external data from US Climate Data website for the state of Alabama:"
   ]
  },
  {
   "cell_type": "markdown",
   "metadata": {},
   "source": [
    "![title](report_pics/pre_1.PNG)"
   ]
  },
  {
   "cell_type": "markdown",
   "metadata": {},
   "source": [
    "The precipitation chart agrees with the data we have.\n",
    "\n",
    "We also did a sanity check on the eigenvalues of the PCA decomposition, and make sure that they are all positive."
   ]
  },
  {
   "cell_type": "markdown",
   "metadata": {},
   "source": [
    "![title](report_pics/ip_1.PNG)"
   ]
  },
  {
   "cell_type": "markdown",
   "metadata": {},
   "source": [
    "We see that overall across all stations and years, there is no rainfall for over 70% of the days."
   ]
  },
  {
   "cell_type": "markdown",
   "metadata": {},
   "source": [
    "![title](report_pics/cdf_1.png)"
   ]
  },
  {
   "cell_type": "markdown",
   "metadata": {},
   "source": [
    "## Plotting PRCP for a couple of random years"
   ]
  },
  {
   "cell_type": "markdown",
   "metadata": {},
   "source": [
    "![title](report_pics/sample_1.png)"
   ]
  },
  {
   "cell_type": "markdown",
   "metadata": {},
   "source": [
    "![title](report_pics/sample_2.png)"
   ]
  },
  {
   "cell_type": "markdown",
   "metadata": {},
   "source": [
    "There seems to have little similarity between the time series. Next we plot the location of the stations on the map, with the size of the spots determined by the number of years of records they have:"
   ]
  },
  {
   "cell_type": "markdown",
   "metadata": {},
   "source": [
    "![title](report_pics/map_1.PNG)"
   ]
  },
  {
   "cell_type": "markdown",
   "metadata": {},
   "source": [
    "We can see that the number of records vary quite a lot between stations, but the largest stations seem to be filled with similar color - which implies that their first PCA coefficients are similar."
   ]
  },
  {
   "cell_type": "markdown",
   "metadata": {},
   "source": [
    "## Top 10 PCA Components of PRCP"
   ]
  },
  {
   "cell_type": "markdown",
   "metadata": {},
   "source": [
    "![title](report_pics/pca_1.png)"
   ]
  },
  {
   "cell_type": "markdown",
   "metadata": {},
   "source": [
    "We see that the top 10 PCA components only explain 13% of the variance. This shows that the data has high variability, and is difficult to summarize in a low number of dimensions. An easy way to alleviate this problem is to look at the data by month, instead of by days. Then we will only have 12 PCA components, but we lose significant inter-day information."
   ]
  },
  {
   "cell_type": "markdown",
   "metadata": {},
   "source": [
    "![title](report_pics/pca_4.png)"
   ]
  },
  {
   "cell_type": "markdown",
   "metadata": {},
   "source": [
    "The eigenvectors are very noisy, so lets focus on the first two:"
   ]
  },
  {
   "cell_type": "markdown",
   "metadata": {},
   "source": [
    "![title](report_pics/pca_5.png)"
   ]
  },
  {
   "cell_type": "markdown",
   "metadata": {},
   "source": [
    "We see that the elements of the eigenvectors tend to be negative, instead of fluctuating around 0. This implies that precipitation per year/station tends to be above or beyond the mean together, instead of having some months above the mean and other months below."
   ]
  },
  {
   "cell_type": "markdown",
   "metadata": {},
   "source": [
    "![title](report_pics/pca_2.png)"
   ]
  },
  {
   "cell_type": "markdown",
   "metadata": {},
   "source": [
    "As mentioned above, since the first few PCA components can only explain a low percentage of the variance, we don't expect the reconstruction using the these eigenvectors to come close to the target. This can be seen in the sample image above: even with 10 eigenvectors at the optimal coefficients, the reconstruction does not seem close to the target."
   ]
  },
  {
   "cell_type": "markdown",
   "metadata": {},
   "source": [
    "## Cumulative distribution of residuals"
   ]
  },
  {
   "cell_type": "markdown",
   "metadata": {},
   "source": [
    "![title](report_pics/pca_3.png)"
   ]
  },
  {
   "cell_type": "markdown",
   "metadata": {},
   "source": [
    "This plots the distribution of the first 7 residuals. The curves shift from the bottom right corner towards the top right corner slowly. We can see that even after incorporating the 7th component, almost 80% of the data still has residual ratio of 0.9 (1 is the highest), so using a few components is not sufficient to reconstruct the data."
   ]
  },
  {
   "cell_type": "markdown",
   "metadata": {},
   "source": [
    "## Comparing variation in precipitation between day, year and station"
   ]
  },
  {
   "cell_type": "markdown",
   "metadata": {},
   "source": [
    "**Day**\n",
    "Total RMS                   =  104.148689838\n",
    "\n",
    "RMS removing mean-by-station=  97.5359394591\n",
    "\n",
    "RMS removing mean-by-day   =  73.5492120844\n",
    "\n",
    "**Year**\n",
    "Total RMS                   =  37.1176231979\n",
    "\n",
    "RMS removing mean-by-station=  6.50125632227\n",
    "\n",
    "RMS removing mean-by-year   =  4.63459548574"
   ]
  },
  {
   "cell_type": "markdown",
   "metadata": {},
   "source": [
    "We also look at the the variation of precipitation between station-station and day-day/year-year. In both cases, the variation is mostly temporal - i.e. day/year causes more variation in the data than station. As expected, comparing by year smooths out the data, and thus the RMS is significantly lower."
   ]
  },
  {
   "cell_type": "markdown",
   "metadata": {},
   "source": [
    "## Log probability of rainfall occurence between pairs of stations"
   ]
  },
  {
   "cell_type": "markdown",
   "metadata": {},
   "source": [
    "![title](report_pics/prob_1.png)"
   ]
  },
  {
   "cell_type": "markdown",
   "metadata": {},
   "source": [
    "This histogram shows that whether it rains at any pair of stations is not highly correlated.\n",
    "\n",
    "Lets plot the correlation on a heatmap:"
   ]
  },
  {
   "cell_type": "markdown",
   "metadata": {},
   "source": [
    "![title](report_pics/mat_1.png)"
   ]
  },
  {
   "cell_type": "markdown",
   "metadata": {},
   "source": [
    "The first 20 stations seems to form a block. Lets plot them on the map:"
   ]
  },
  {
   "cell_type": "markdown",
   "metadata": {},
   "source": [
    "![title](report_pics/mat_2.PNG)"
   ]
  },
  {
   "cell_type": "markdown",
   "metadata": {},
   "source": [
    "They seem to be close to each other geographically, so the strong correlation makes sense."
   ]
  },
  {
   "cell_type": "code",
   "execution_count": null,
   "metadata": {
    "collapsed": true
   },
   "outputs": [],
   "source": []
  }
 ],
 "metadata": {
  "kernelspec": {
   "display_name": "Python 2",
   "language": "python",
   "name": "python2"
  },
  "language_info": {
   "codemirror_mode": {
    "name": "ipython",
    "version": 2
   },
   "file_extension": ".py",
   "mimetype": "text/x-python",
   "name": "python",
   "nbconvert_exporter": "python",
   "pygments_lexer": "ipython2",
   "version": "2.7.13"
  }
 },
 "nbformat": 4,
 "nbformat_minor": 2
}
