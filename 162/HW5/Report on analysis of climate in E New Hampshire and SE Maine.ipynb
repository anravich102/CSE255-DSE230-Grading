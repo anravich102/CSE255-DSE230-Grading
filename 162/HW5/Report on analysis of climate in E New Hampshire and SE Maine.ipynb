{
 "cells": [
  {
   "cell_type": "code",
   "execution_count": 3,
   "metadata": {
    "run_control": {
     "frozen": false,
     "read_only": false
    },
    "scrolled": true
   },
   "outputs": [
    {
     "name": "stdout",
     "output_type": "stream",
     "text": [
      "![1.area_boundaries.png](rfigs/1.area_boundaries.png)\n",
      "![2.map_with_eigenvalues.png](rfigs/2.map_with_eigenvalues.png)\n",
      "![3.Eigenvalue_close-up.png](rfigs/3.Eigenvalue_close-up.png)\n",
      "![BestCoeff.png](rfigs/BestCoeff.png)\n",
      "![PortlandMaineClimate.png](rfigs/PortlandMaineClimate.png)\n",
      "![SNWDEigs.png](rfigs/SNWDEigs.png)\n",
      "![SNWDMean.png](rfigs/SNWDMean.png)\n",
      "![TMIN,TMAX,C.png](rfigs/TMIN,TMAX,C.png)\n",
      "![TMIN,TMAX.png](rfigs/TMIN,TMAX.png)\n",
      "![VarExp,SNOW,SNWD,PRCP.png](rfigs/VarExp,SNOW,SNWD,PRCP.png)\n",
      "![VarExp,TMIN,TOBS,TMAX.png](rfigs/VarExp,TMIN,TOBS,TMAX.png)\n",
      "![WorstCoeff.png](rfigs/WorstCoeff.png)\n"
     ]
    }
   ],
   "source": [
    "L=!ls rfigs/\n",
    "for l in L:\n",
    "    print \"![%s](rfigs/%s)\"%(l,l)"
   ]
  },
  {
   "cell_type": "markdown",
   "metadata": {
    "run_control": {
     "frozen": false,
     "read_only": false
    }
   },
   "source": [
    "# Weather Analysis for E New Hampshire and SE Maine\n",
    "\n",
    "This is a report on the historical analysis of weather patterns in an area that approximately overlaps the coastal (eastern) portion of New Hampshire, the southeast coastal region of Maine, and one weather station in Nova Scotia. Major cities include Concord and Manchester in New Hampshire, and Portland in Maine.\n",
    "\n",
    "<p><img alt=\"1.area_boundaries.jpg\" src=\"rfigs/1.area_boundaries.png\" style=\"width:800px\"/></p>\n",
    "\n",
    "The data we will use here comes from [NOAA](https://www.ncdc.noaa.gov/). Specifically, it was downloaded from This [FTP site](ftp://ftp.ncdc.noaa.gov/pub/data/ghcn/daily/).\n",
    "\n",
    "We focused on six measurements:\n",
    "* **TMIN, TMAX:** the daily minimum and maximum temperature.\n",
    "* **TOBS:** The average temperature for each day.\n",
    "* **PRCP:** Daily Percipitation (in mm)\n",
    "* **SNOW:** Daily snowfall (in mm)\n",
    "* **SNWD:** The depth of accumulated snow.\n",
    "\n",
    "## Sanity-check: comparison with outside sources\n",
    "\n",
    "<p>We start by comparing some of the general statistics with graphs that we obtained from a site called <a href=\"http://www.usclimatedata.com/climate/portland/maine/united-states/usme0328\" target=\"_blank\">US Climate Data</a> The graph below shows the daily minimum and maximum temperatures for each month, as well as the total precipitation for each month. Portland, Maine is the large city most central to this geographical region, and will be used for comparisons.</p>\n",
    "\n",
    "<p>&nbsp;</p>\n",
    "\n",
    "<p><img alt=\"PortlandMaineClimate.jpg\" src=\"rfigs/PortlandMaineClimate.png\" style=\"width:500px\"/></p>\n",
    "\n",
    "<p>&nbsp;</p>\n",
    "\n",
    "<p>We see that the min and max daily&nbsp;temperature agree with the ones we got from our data, once we translate Fahrenheit to Centigrade.</p>\n",
    "\n",
    "<p>&nbsp;</p>\n",
    "\n",
    "<p><img alt=\"TMIN,TMAX,C.png\" src=\"rfigs/TMIN,TMAX,C.png\" style=\"height:300px; width:800px\" /></p>\n",
    "\n",
    "<p>If we convert to Fahrenheit and plot the means of TMIN and TMAX on a single graph, it becomes even more clear:</p>\n",
    "\n",
    "<p>&nbsp;</p>\n",
    "\n",
    "<p><img alt=\"TMIN,TMAX.png\" src=\"rfigs/TMIN,TMAX.png\" style=\"width:500px\" /></p>\n"
   ]
  },
  {
   "cell_type": "markdown",
   "metadata": {
    "run_control": {
     "frozen": false,
     "read_only": false
    }
   },
   "source": [
    "## PCA analysis\n",
    "\n",
    "For each of the six measurement, we compute the percentate of the variance explained as a function of the number of eigen-vectors used.\n",
    "\n",
    "### Percentage of variance explained.\n",
    "![VarExp,TMIN,TOBS,TMAX.png](rfigs/VarExp,TMIN,TOBS,TMAX.png)\n",
    "We see that the top 5 eigen-vectors explain 22% of variance for TMIN, 37% for TOBS and 21% for TMAX.\n",
    "\n",
    "We conclude that of the three, TOBS is best explained by the top 5 eigenvectors. This is especially true for the first eigen-vector which, by itself, explains 25% of the variance.\n",
    "\n",
    "![VarExp,SNOW,SNWD,PRCP.png](rfigs/VarExp,SNOW,SNWD,PRCP.png)\n",
    "\n",
    "The top 5 eigenvectors explain 11% of the variance for PRCP and 13% for SNOW. Both are low values. On the other hand the top 5 eigenvectors explain %87 of the variance for SNWD. This means that these top 5 eigenvectors capture most of the variation in the snow signals. Based on that we will dig deeper into the PCA analysis for snow-depth.\n",
    "\n",
    "It makes sense that SNWD would be less noisy than SNOW. That is because SNWD is a decaying integral of SNOW and, as such, varies less between days and between the same date on diffferent years."
   ]
  },
  {
   "cell_type": "markdown",
   "metadata": {
    "run_control": {
     "frozen": false,
     "read_only": false
    }
   },
   "source": [
    "## Analysis of snow depth\n",
    "\n",
    "We choose to analyze the eigen-decomposition for snow-depth because the first 4 eigen-vectors explain 70% of the variance.\n",
    "\n",
    "First, we graph the mean and the top 3 eigen-vectors.\n",
    "\n",
    "We observe that the snow season is from early November (sometimes slightly earlier) to the mid-April, where the middle of February marks the peak of the snow-depth.\n",
    "![SNWDMean.png](rfigs/SNWDMean.png)\n",
    "![SNWDEigs.png](rfigs/SNWDEigs.png)"
   ]
  },
  {
   "cell_type": "markdown",
   "metadata": {
    "run_control": {
     "frozen": false,
     "read_only": false
    }
   },
   "source": [
    "Next we interpret the eigen-functions. Three eigen-functions get us to 80% of variance explained, so we don't need to go further than that. The first eigen-function (eig1) has a shape very similar to the mean function. The main difference is that the eigen-function is close to zero during october-december while the mean is not.  The interpretation of this shape is that eig1 represents the overall amount of snow above/below the mean, but without changing the distribution over time.\n",
    "\n",
    "**eig2 and eig3 ** oscilate between positive and negative values. In other words, they correspond to changing the distribution of the snow depth over the winter months, but they don't change the total (much).\n",
    "\n",
    "They can be interpreted as follows:\n",
    "* **eig2:** less snow in jan - mid feb, more snow in mid feb-march.\n",
    "* **eig3:** more snow in jan, less snow in feb, slightly more snow in march.\n"
   ]
  },
  {
   "cell_type": "markdown",
   "metadata": {
    "run_control": {
     "frozen": false,
     "read_only": false
    }
   },
   "source": [
    "### Examples of reconstructions\n",
    "\n",
    "Now we'll pick a coefficient and demonstrate positive and negative examples\n",
    "\n",
    "#### Coeff2\n",
    "Coeff2: most positive\n",
    "![BestCoeff.png](rfigs/BestCoeff.png)\n",
    "\n",
    "Coeff2: most negative\n",
    "![WorstCoeff.png](rfigs/WorstCoeff.png)\n",
    "\n",
    "Large positive values of coeff2 correspond to an early snow season (most of the snowfall is before mid feb. Negative values for coeff2 correspond to a late snow season (most of the snow is after mid-feb.\n"
   ]
  },
  {
   "cell_type": "markdown",
   "metadata": {
    "run_control": {
     "frozen": false,
     "read_only": false
    }
   },
   "source": []
  },
  {
   "cell_type": "markdown",
   "metadata": {
    "collapsed": true,
    "run_control": {
     "frozen": false,
     "read_only": false
    }
   },
   "source": [
    "## Analysis of precipitation\n",
    "\n",
    "Analysis of the precipitation did not result in any novel characterizations of patterns in this area - it throughout the year, and PCA is able to explain very little of the variance.\n",
    "\n",
    "However, there was one other visualization that was interesting from a visual perspective....that of the coefficients for precipitation eigenvectors, viewed on a map of the recording stations. For this visualization, the one outlying station in Nova Scotia was left off the map so we could focus on a smaller area.\n",
    "\n",
    "<p><img alt=\"2.map_with_eigenvalues.png\" src=\"rfigs/2.map_with_eigenvalues.png\" style=\"width:800px\"/></p>\n",
    "\n",
    "And a close-up that allows you to see the four coefficients for a few stations. The triangles are filled if the coefficients are negative, and not filled if the coefficients are positive. The coefficients go counter-clockwise, starting with the upper right (blue) for c0, and ending up in the lower right (cyan) for c3.\n",
    "\n",
    "<p><img alt=\"3.Eigenvalue_close-up.png\" src=\"rfigs/3.Eigenvalue_close-up.png\" style=\"width:800px\"/></p>"
   ]
  },
  {
   "cell_type": "code",
   "execution_count": null,
   "metadata": {
    "collapsed": true
   },
   "outputs": [],
   "source": []
  }
 ],
 "metadata": {
  "anaconda-cloud": {},
  "kernelspec": {
   "display_name": "Python [conda root]",
   "language": "python",
   "name": "conda-root-py"
  },
  "language_info": {
   "codemirror_mode": {
    "name": "ipython",
    "version": 2
   },
   "file_extension": ".py",
   "mimetype": "text/x-python",
   "name": "python",
   "nbconvert_exporter": "python",
   "pygments_lexer": "ipython2",
   "version": "2.7.12"
  },
  "toc": {
   "colors": {
    "hover_highlight": "#DAA520",
    "running_highlight": "#FF0000",
    "selected_highlight": "#FFD700"
   },
   "moveMenuLeft": true,
   "nav_menu": {
    "height": "12px",
    "width": "252px"
   },
   "navigate_menu": true,
   "number_sections": true,
   "sideBar": true,
   "threshold": 4,
   "toc_cell": false,
   "toc_section_display": "block",
   "toc_window_display": false
  }
 },
 "nbformat": 4,
 "nbformat_minor": 2
}
