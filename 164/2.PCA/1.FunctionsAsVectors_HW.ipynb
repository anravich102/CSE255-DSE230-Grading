{
 "cells": [
  {
   "cell_type": "markdown",
   "metadata": {
    "collapsed": true,
    "deletable": false,
    "editable": false,
    "nbgrader": {
     "checksum": "1e14402cec9308b02dcc1ebc85d41f94",
     "grade": false,
     "grade_id": "0",
     "locked": true,
     "schema_version": 1,
     "solution": false
    },
    "run_control": {
     "frozen": false,
     "read_only": false
    }
   },
   "source": [
    "### <span style=\"color:red\">IMPORTANT: Only modify cells which have the following comment:</span>\n",
    "```python\n",
    "# Modify this cell\n",
    "```\n",
    "##### <span style=\"color:red\">Do not add any new cells when you submit the homework</span>"
   ]
  },
  {
   "cell_type": "markdown",
   "metadata": {
    "deletable": false,
    "editable": false,
    "nbgrader": {
     "checksum": "d8d6a2efc5ff494f62d0102f89545c13",
     "grade": false,
     "grade_id": "1",
     "locked": true,
     "schema_version": 1,
     "solution": false
    },
    "run_control": {
     "frozen": false,
     "read_only": false
    }
   },
   "source": [
    "# Setting Up Notebook\n",
    "\n",
    "Please read 1.FunctionsAsVectors_CLASS.ipynb before attempting this homework. For this notebook you will use the same functions and variables as defined in the _CLASS notebook."
   ]
  },
  {
   "cell_type": "code",
   "execution_count": 1,
   "metadata": {
    "deletable": false,
    "editable": false,
    "nbgrader": {
     "checksum": "a4ea976f8117d8355f2d911da2eb3c6c",
     "grade": false,
     "grade_id": "2",
     "locked": true,
     "schema_version": 1,
     "solution": false
    },
    "run_control": {
     "frozen": false,
     "read_only": false
    }
   },
   "outputs": [
    {
     "name": "stdout",
     "output_type": "stream",
     "text": [
      "Populating the interactive namespace from numpy and matplotlib\n",
      "version of ipwidgets= 5.2.2\n"
     ]
    }
   ],
   "source": [
    "%pylab inline\n",
    "\n",
    "import numpy as np\n",
    "import math\n",
    "import matplotlib.pyplot as plt\n",
    "from ipywidgets import interact, interactive, fixed, interact_manual,widgets\n",
    "import ipywidgets as widgets\n",
    "\n",
    "print 'version of ipwidgets=',widgets.__version__\n",
    "\n",
    "import sys\n",
    "from lib.recon_plot import recon_plot\n",
    "from lib.Eigen_decomp import Eigen_decomp\n",
    "from lib.YearPlotter import YearPlotter"
   ]
  },
  {
   "cell_type": "markdown",
   "metadata": {
    "deletable": false,
    "editable": false,
    "nbgrader": {
     "checksum": "501318ef263bb0472ea46b72399ebf46",
     "grade": false,
     "grade_id": "3",
     "locked": true,
     "schema_version": 1,
     "solution": false
    },
    "run_control": {
     "frozen": false,
     "read_only": false
    }
   },
   "source": [
    "As in `1.FunctionsAsVectors_Class`, we use the function $f=|x-4|,\\,\\,\\,   x\\in[0,2\\pi]$ "
   ]
  },
  {
   "cell_type": "code",
   "execution_count": 2,
   "metadata": {
    "deletable": false,
    "editable": false,
    "nbgrader": {
     "checksum": "b4652930afccf8db55538aec5f4c1c53",
     "grade": false,
     "grade_id": "4",
     "locked": true,
     "schema_version": 1,
     "solution": false
    },
    "run_control": {
     "frozen": false,
     "read_only": false
    }
   },
   "outputs": [
    {
     "data": {
      "image/png": "[encoded data removed]",
      "text/plain": [
       "<matplotlib.figure.Figure at 0x10fa6f390>"
      ]
     },
     "metadata": {},
     "output_type": "display_data"
    }
   ],
   "source": [
    "step=2*pi/365\n",
    "x=arange(0,2*pi,step)\n",
    "\n",
    "f=abs(x-4)\n",
    "plot(x,f);\n",
    "grid()"
   ]
  },
  {
   "cell_type": "markdown",
   "metadata": {
    "deletable": false,
    "editable": false,
    "nbgrader": {
     "checksum": "3e482e7335396e2e8122406b32d11d95",
     "grade": false,
     "grade_id": "5",
     "locked": true,
     "schema_version": 1,
     "solution": false
    },
    "run_control": {
     "frozen": false,
     "read_only": false
    }
   },
   "source": [
    "# Exercise 1:\n",
    "\n",
    "First we must create our basis, `v`, of sine and cosine functions (and also a single constant function)\n",
    "\n",
    "Create a function called **getWaves** that returns an array of functions like that in `1.FunctionsAsVectors_CLASS`, but, **getWaves** has a parameter, `frequency`. Get waves should return  an array containing a constant function and all sine and cosine functions with:\n",
    "$n\\leq \\text{frequency},\\,\\,\\,n\\in N^+$\n",
    "\n",
    "getWaves(frequency=0) should return only the constant function. Look at `v` in `1.FunctionsAsVectors_CLASS` to find the constant.\n",
    "\n",
    "    Note: This homework does not require spark\n",
    "    \n",
    "######  <span style=\"color:blue\">Code:</span>\n",
    "```python\n",
    "v= getWaves(frequency=0)\n",
    "print len(v)\n",
    "print type(v)\n",
    "print type(v[0])\n",
    "print len(v[0])\n",
    "print\n",
    "\n",
    "v= getWaves(frequency=1)\n",
    "print len(v)\n",
    "print np.all( v[1]== np.sin(x)*sqrt(step/pi) )  \n",
    "print np.all( v[2]== np.cos(x)*sqrt(step/pi) )  \n",
    "```\n",
    "######  <span style=\"color:magenta\">Output:</span>\n",
    "```python\n",
    "1\n",
    "<type 'list'>\n",
    "<type 'numpy.ndarray'>\n",
    "365\n",
    "\n",
    "3\n",
    "True\n",
    "True\n",
    "```"
   ]
  },
  {
   "cell_type": "code",
   "execution_count": 3,
   "metadata": {
    "collapsed": true,
    "run_control": {
     "frozen": false,
     "read_only": false
    }
   },
   "outputs": [],
   "source": [
    "# Modify this cell\n",
    "\n",
    "def getWaves(frequency=0, step=2*pi/365, x=arange(0,2*pi,2*pi/365) ):\n",
    "    # inputs: frequency is the only parameter that will need to vary in this exercise\n",
    "    #         step, x are constants to aid you in the correct calculation of v\n",
    "    # ... write implementation\n",
    "    c=sqrt(step/(pi))\n",
    "    v=[]\n",
    "    v.append(np.array(cos(0*x))*c/sqrt(2))\n",
    "    for i in range(frequency):\n",
    "        v.append(np.array(sin((i+1)*x))*c)\n",
    "        v.append(np.array(cos((i+1)*x))*c)\n",
    "    return v\n",
    "    # return the basis, v"
   ]
  },
  {
   "cell_type": "code",
   "execution_count": 4,
   "metadata": {
    "deletable": false,
    "editable": false,
    "nbgrader": {
     "checksum": "479405fbce67714db33d78a607d4c80d",
     "grade": true,
     "grade_id": "ex1",
     "locked": true,
     "points": 1,
     "schema_version": 1,
     "solution": false
    },
    "run_control": {
     "frozen": false,
     "read_only": false
    }
   },
   "outputs": [
    {
     "name": "stdout",
     "output_type": "stream",
     "text": [
      "Checking getWaves(0)\n",
      "Checking getWaves(2)\n",
      "Checking getWaves(4)\n",
      "Checking getWaves(8)\n",
      "Checking getWaves(16)\n",
      "Checking getWaves(32)\n",
      "Checking getWaves(64)\n",
      "\n",
      "Great Job!\n"
     ]
    }
   ],
   "source": [
    "import Tester.FunctionsAsVectors as fv\n",
    "fv.exercise1(getWaves)"
   ]
  },
  {
   "cell_type": "markdown",
   "metadata": {
    "deletable": false,
    "editable": false,
    "nbgrader": {
     "checksum": "f67172c92525f3f3dcbc47a3358c68f5",
     "grade": false,
     "grade_id": "7",
     "locked": true,
     "schema_version": 1,
     "solution": false
    },
    "run_control": {
     "frozen": false,
     "read_only": false
    }
   },
   "source": [
    "# Exercise 2:\n",
    "As can be seen in `1.FunctionsAsVectors_CLASS`, it is clear that $g(i)$ gets closer to $f$ as $i$ increases. To quantify this improvement, we calculate $ \\| g(i)- f \\|_2 $ as a function of $i$\n",
    "\n",
    "Write a function **approximate** that approximates $f$ using the eigen decomposition of `v`. **approximate** should return the euclidean norm of your fit. We recommend you use the function `Eigen_decomp`.\n",
    "\n",
    "    Note: This homework does not require spark\n",
    "\n",
    "\n",
    "######  <span style=\"color:blue\">Code:</span>\n",
    "```python\n",
    "v= getWaves(num=2)\n",
    "print approximate(f,v,x)\n",
    "```\n",
    "######  <span style=\"color:magenta\">Output:</span>\n",
    "```python\n",
    "5.12764445178\n",
    "```"
   ]
  },
  {
   "cell_type": "code",
   "execution_count": 11,
   "metadata": {
    "run_control": {
     "frozen": false,
     "read_only": false
    }
   },
   "outputs": [
    {
     "data": {
      "text/plain": [
       "'\\ndef approximate(f,v,x):\\n    v = np.array(v)\\n    a = v.dot(f)\\n    b = v.T.dot(a)\\n    error = sum((b-f)**2)**0.5\\n    return error\\n'"
      ]
     },
     "execution_count": 11,
     "metadata": {},
     "output_type": "execute_result"
    }
   ],
   "source": [
    "# Modify this cell\n",
    "\n",
    "def approximate(f,v,x):\n",
    "    eigen_decomp=Eigen_decomp(x,f,np.zeros(len(x)),v)\n",
    "    var_computed = eigen_decomp.compute_var_explained()\n",
    "    print var_computed[1]\n",
    "    error = (var_computed[1][1][-1] * var_computed[0][1])**0.5\n",
    "    return error\n",
    "    # error equals the euclidian norm between f and your fitted model\n",
    "'''\n",
    "def approximate(f,v,x):\n",
    "    v = np.array(v)\n",
    "    a = v.dot(f)\n",
    "    b = v.T.dot(a)\n",
    "    error = sum((b-f)**2)**0.5\n",
    "    return error\n",
    "'''"
   ]
  },
  {
   "cell_type": "code",
   "execution_count": 12,
   "metadata": {
    "deletable": false,
    "editable": false,
    "nbgrader": {
     "checksum": "5f220beeef9983b31a73adfa4e31f186",
     "grade": true,
     "grade_id": "ex2",
     "locked": true,
     "points": 2,
     "schema_version": 1,
     "solution": false
    },
    "run_control": {
     "frozen": false,
     "read_only": false
    }
   },
   "outputs": [
    {
     "name": "stdout",
     "output_type": "stream",
     "text": [
      "\n",
      "When there are 1 functions in v:\n",
      "('residual var after mean, eig1,eig2,...', array([ 1.        ,  0.29295358]))\n",
      "Correct output: 20.7883593877\n",
      "\n",
      "When there are 5 functions in v:\n",
      "('residual var after mean, eig1,eig2,...', array([ 1.        ,  0.29295358,  0.16214867,  0.02380888,  0.02215113,\n",
      "        0.01782355]))\n",
      "Correct output: 5.12764445178\n",
      "\n",
      "When there are 9 functions in v:\n",
      "('residual var after mean, eig1,eig2,...', array([ 1.        ,  0.29295358,  0.16214867,  0.02380888,  0.02215113,\n",
      "        0.01782355,  0.01183191,  0.01180114,  0.00909059,  0.00824639]))\n",
      "Correct output: 3.48780903899\n",
      "\n",
      "When there are 17 functions in v:\n",
      "('residual var after mean, eig1,eig2,...', array([ 1.        ,  0.29295358,  0.16214867,  0.02380888,  0.02215113,\n",
      "        0.01782355,  0.01183191,  0.01180114,  0.00909059,  0.00824639,\n",
      "        0.00733169,  0.00728322,  0.00586661,  0.00583912,  0.00515329,\n",
      "        0.00504037,  0.00455369,  0.00454867]))\n",
      "Correct output: 2.5903772003\n",
      "\n",
      "When there are 33 functions in v:\n",
      "('residual var after mean, eig1,eig2,...', array([ 1.        ,  0.29295358,  0.16214867,  0.02380888,  0.02215113,\n",
      "        0.01782355,  0.01183191,  0.01180114,  0.00909059,  0.00824639,\n",
      "        0.00733169,  0.00728322,  0.00586661,  0.00583912,  0.00515329,\n",
      "        0.00504037,  0.00455369,  0.00454867,  0.00397008,  0.00394725,\n",
      "        0.00364076,  0.0036117 ,  0.00330931,  0.00330655,  0.0030123 ,\n",
      "        0.00299459,  0.00281452,  0.00280428,  0.00260099,  0.00259765,\n",
      "        0.00242746,  0.00241449,  0.00229051,  0.00228571]))\n",
      "Correct output: 1.83624640573\n",
      "\n",
      "When there are 65 functions in v:\n",
      "('residual var after mean, eig1,eig2,...', array([ 1.        ,  0.29295358,  0.16214867,  0.02380888,  0.02215113,\n",
      "        0.01782355,  0.01183191,  0.01180114,  0.00909059,  0.00824639,\n",
      "        0.00733169,  0.00728322,  0.00586661,  0.00583912,  0.00515329,\n",
      "        0.00504037,  0.00455369,  0.00454867,  0.00397008,  0.00394725,\n",
      "        0.00364076,  0.0036117 ,  0.00330931,  0.00330655,  0.0030123 ,\n",
      "        0.00299459,  0.00281452,  0.00280428,  0.00260099,  0.00259765,\n",
      "        0.00242746,  0.00241449,  0.00229051,  0.00228571,  0.00214363,\n",
      "        0.00213924,  0.0020307 ,  0.0020216 ,  0.00192797,  0.00192483,\n",
      "        0.00182343,  0.00181823,  0.00174284,  0.00173654,  0.0016623 ,\n",
      "        0.00165953,  0.00158599,  0.00158048,  0.00152402,  0.00151953,\n",
      "        0.00145946,  0.00145654,  0.00140215,  0.00139685,  0.00135185,\n",
      "        0.00134842,  0.00129965,  0.00129635,  0.00125504,  0.00125028,\n",
      "        0.00121281,  0.00120989,  0.00117042,  0.00116676,  0.00113429,\n",
      "        0.00113018]))\n",
      "Correct output: 1.29120345522\n",
      "\n",
      "When there are 129 functions in v:\n",
      "('residual var after mean, eig1,eig2,...', array([  1.00000000e+00,   2.92953578e-01,   1.62148673e-01,\n",
      "         2.38088809e-02,   2.21511321e-02,   1.78235489e-02,\n",
      "         1.18319063e-02,   1.18011406e-02,   9.09059141e-03,\n",
      "         8.24638813e-03,   7.33169047e-03,   7.28321503e-03,\n",
      "         5.86660712e-03,   5.83912321e-03,   5.15329162e-03,\n",
      "         5.04036943e-03,   4.55369485e-03,   4.54866960e-03,\n",
      "         3.97008109e-03,   3.94725234e-03,   3.64075845e-03,\n",
      "         3.61169568e-03,   3.30931373e-03,   3.30655014e-03,\n",
      "         3.01230179e-03,   2.99458551e-03,   2.81452169e-03,\n",
      "         2.80427939e-03,   2.60099238e-03,   2.59764500e-03,\n",
      "         2.42746057e-03,   2.41449367e-03,   2.29051294e-03,\n",
      "         2.28570560e-03,   2.14362579e-03,   2.13923727e-03,\n",
      "         2.03070486e-03,   2.02160033e-03,   1.92796675e-03,\n",
      "         1.92483172e-03,   1.82343217e-03,   1.81822669e-03,\n",
      "         1.74284447e-03,   1.73653769e-03,   1.66229756e-03,\n",
      "         1.65953383e-03,   1.58599102e-03,   1.58048136e-03,\n",
      "         1.52401510e-03,   1.51952837e-03,   1.45946476e-03,\n",
      "         1.45653600e-03,   1.40215218e-03,   1.39684892e-03,\n",
      "         1.35185313e-03,   1.34842197e-03,   1.29964949e-03,\n",
      "         1.29634915e-03,   1.25504275e-03,   1.25027852e-03,\n",
      "         1.21280928e-03,   1.20989258e-03,   1.17042466e-03,\n",
      "         1.16675820e-03,   1.13429465e-03,   1.13018030e-03,\n",
      "         1.09818125e-03,   1.09541729e-03,   1.06358372e-03,\n",
      "         1.05969754e-03,   1.03319973e-03,   1.02967237e-03,\n",
      "         1.00209511e-03,   9.99257684e-04,   9.73529441e-04,\n",
      "         9.69626564e-04,   9.47214697e-04,   9.44117727e-04,\n",
      "         9.20399966e-04,   9.17374735e-04,   8.96368337e-04,\n",
      "         8.92627019e-04,   8.73140184e-04,   8.70291756e-04,\n",
      "         8.50044574e-04,   8.46815741e-04,   8.29347434e-04,\n",
      "         8.25870467e-04,   8.08646864e-04,   8.05882587e-04,\n",
      "         7.88725686e-04,   7.85355031e-04,   7.70481189e-04,\n",
      "         7.67285474e-04,   7.51983962e-04,   7.49179687e-04,\n",
      "         7.34685585e-04,   7.31276983e-04,   7.18301976e-04,\n",
      "         7.15337809e-04,   7.01791930e-04,   6.98875575e-04,\n",
      "         6.86582823e-04,   6.83240626e-04,   6.71696144e-04,\n",
      "         6.68877994e-04,   6.56983937e-04,   6.53938950e-04,\n",
      "         6.43395192e-04,   6.40191208e-04,   6.29796436e-04,\n",
      "         6.27031736e-04,   6.16676094e-04,   6.13534281e-04,\n",
      "         6.04339725e-04,   6.01298512e-04,   5.91909072e-04,\n",
      "         5.89119858e-04,   5.80148590e-04,   5.76971754e-04,\n",
      "         5.68807910e-04,   5.65910314e-04,   5.57463131e-04,\n",
      "         5.54600136e-04,   5.46821062e-04,   5.43676527e-04,\n",
      "         5.36316669e-04,   5.33514639e-04,   5.25977218e-04,\n",
      "         5.23026234e-04]))\n",
      "Correct output: 0.878380224172\n",
      "\n",
      "Great Job!\n"
     ]
    }
   ],
   "source": [
    "import Tester.FunctionsAsVectors as fv\n",
    "fv.exercise2(approximate)"
   ]
  },
  {
   "cell_type": "code",
   "execution_count": null,
   "metadata": {
    "collapsed": true,
    "deletable": false,
    "editable": false,
    "nbgrader": {
     "checksum": "4ab1b0dcebc9c742fa14cf38d8a991a4",
     "grade": false,
     "grade_id": "9",
     "locked": true,
     "schema_version": 1,
     "solution": false
    },
    "run_control": {
     "frozen": false,
     "read_only": false
    }
   },
   "outputs": [],
   "source": []
  }
 ],
 "metadata": {
  "anaconda-cloud": {},
  "kernelspec": {
   "display_name": "Python 2",
   "language": "python",
   "name": "python2"
  },
  "language_info": {
   "codemirror_mode": {
    "name": "ipython",
    "version": 2
   },
   "file_extension": ".py",
   "mimetype": "text/x-python",
   "name": "python",
   "nbconvert_exporter": "python",
   "pygments_lexer": "ipython2",
   "version": "2.7.13"
  },
  "toc": {
   "colors": {
    "hover_highlight": "#DAA520",
    "running_highlight": "#FF0000",
    "selected_highlight": "#FFD700"
   },
   "moveMenuLeft": true,
   "nav_menu": {
    "height": "190px",
    "width": "252px"
   },
   "navigate_menu": true,
   "number_sections": true,
   "sideBar": true,
   "threshold": 4,
   "toc_cell": false,
   "toc_position": {
    "height": "590px",
    "left": "0px",
    "right": "996.193px",
    "top": "105px",
    "width": "175px"
   },
   "toc_section_display": "block",
   "toc_window_display": true,
   "widenNotebook": false
  }
 },
 "nbformat": 4,
 "nbformat_minor": 1
}
