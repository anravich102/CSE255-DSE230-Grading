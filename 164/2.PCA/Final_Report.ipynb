{
 "cells": [
  {
   "cell_type": "markdown",
   "metadata": {},
   "source": [
    "# San Francisco Weather Analysis\n",
    "\n",
    "\n",
    "AIM : The goal of this report is to unearthern hidden patterns and trends in the weather data, which might provide valuable information and interesting insights. \n",
    "\n",
    "We focused on six measurements:\n",
    "* TMIN, TMAX: the daily minimum and maximum temperature.\n",
    "* TOBS: The average temperature for each day.\n",
    "* PRCP: Daily Percipitation (in mm)\n",
    "* SNOW: Daily snowfall (in mm)\n",
    "* SNWD: The depth of accumulated snow."
   ]
  },
  {
   "cell_type": "markdown",
   "metadata": {},
   "source": [
    "## A. Preliminary analysis\n",
    "\n",
    "### 1. Average temperature vs max and min temperature\n",
    "Here, we wish to see how far is TMAX and TMIN from the average tempature TOBS ona ny given day. For eg, it would be interesting to see, that average temperature obserevedover a day is close to minimum temperature or the maximum temperature observed on the same day. Here are our results - \n",
    "\n",
    "![Average_Temp.png](r_figures/Average_Temp.png)\n",
    "\n",
    "Well, we observe that average temperature over a given day is actually equidistant from the extremes on that day."
   ]
  },
  {
   "cell_type": "markdown",
   "metadata": {},
   "source": [
    "### 2. Mean and standard deviation for precipitation and snow fall\n",
    "\n",
    "Here, we try to look at the mean and standard deviation of following metrics over 365 days of the year -\n",
    "\n",
    "* PRCP - Daily precipiation (mm)\n",
    "* SNOW - Daily snowfall (mm)\n",
    "* SNWD - Snow depth\n",
    "\n",
    "![prcp_mean_std.png](r_figures/prcp_mean_std.png)\n",
    "![snow_mean_std.png](r_figures/snow_mean_std.png)\n",
    "\n",
    "* Observation 1 : For precipitation, observe that is doesn't rain from July - Oct (Fall season) but good amount of rain pours during winters (Jan - Mar) peeking at feb\n",
    "* Observation 2 : Interestingly snowfall trend is in tandem with precipitation. Although, the snowfall is on average 0 mm (suggesting dearth of snowfall), whenever it happens, it happens around winter season"
   ]
  },
  {
   "cell_type": "markdown",
   "metadata": {},
   "source": [
    "### 3. Eigen vectors and variance explained\n",
    "\n",
    "For each of the six measurement, we compute the percentate of the variance explained as a function of the number of eigen-vectors used.\n",
    "\n",
    "![VE_1.png](r_figures/VE_1.png)\n",
    "\n",
    "We see that the top 5 eigen-vectors explain 35% of variance for TMIN, 60% for TOBS and 50% for TMAX. We conclude that of the three, TOBS is best explained by the top 5 eigenvectors. \n",
    "\n",
    "\n",
    "![VE2.png](r_figures/VE2.png)\n",
    "The top 5 eigenvectors explain 16% of the variance for PRCP and 65% for SNOW. On the other hand the top 5 eigenvectors explain %75 of the variance for SNWD. This means that these top 5 eigenvectors capture most of the variation in the snow signals. \n",
    "\n",
    "Based on that we will dig deeper into the PCA analysis for \n",
    "* **SNWD** \n",
    "* **TOBS**\n",
    "\n"
   ]
  },
  {
   "cell_type": "markdown",
   "metadata": {},
   "source": [
    "## B. PCA Analysis\n",
    "\n",
    "### 1. Plot Reconstructions for SNWD\n",
    "\n",
    "Construct approximations of a time series using the mean and the $3$ top eigen-vectors\n",
    "First, we plot the mean and the top $3$ eigenvectors\n",
    "\n",
    "![SNWD_REC.png](r_figures\\SNWD_REC.png)\n",
    "\n",
    "Observation : We observe that top 3 eigen vectors very well approximates the mean. But again, this was expected because there isn't much variation in the mean for SNWD. \n"
   ]
  },
  {
   "cell_type": "markdown",
   "metadata": {},
   "source": [
    "### 2. Plot Reconstructions for TOBS\n",
    "\n",
    "Construct approximations of a time series using the mean and the  33  top eigen-vectors First, we plot the mean and the top  33 eigenvectors\n",
    "\n",
    "![TOBS_REC.png](r_figures\\TOBS_REC.png)\n",
    "\n",
    "Observation : We observe that top 3 eigen vectors very well approximates the mean. **Also, there was a lot more variance in TOBS data  across the days of the year, we proceed ahead with TOBS instead of SNWD**\n"
   ]
  },
  {
   "cell_type": "markdown",
   "metadata": {},
   "source": [
    "###  3. Plotting approximation for TOBS for various different stations + year combination\n",
    "\n",
    "Here, we attempt to plot the approximation for TOBS only using the first 3 eigen vectors.\n",
    "\n",
    "![3rec_TOB.png](r_figures\\3rec_TOB.png)\n",
    "\n",
    "Observation 1 : Indeed, first 3 eigen vectors along with mean does a very comprehensive approximation of the original wave over 365 days. They all increase and decrease in tandem with each other.\n",
    "\n",
    "Observation 2: Notice how the presence of gaussian noise in original TOBS wave is effortlessly filtered out by first 3 eigen vectors and mean."
   ]
  },
  {
   "cell_type": "markdown",
   "metadata": {
    "collapsed": true
   },
   "source": [
    "## C. Geographical and Topological Analysis\n",
    "### 1. The city/area/metropolitan corresponing to the file_index assigned\n",
    "\n",
    "We find that, the area corresponding to the file_index assigned is the Bay Area\n",
    "\n",
    "![map.png](r_figures\\map.png)"
   ]
  },
  {
   "cell_type": "markdown",
   "metadata": {},
   "source": [
    "### 2. Station location in the Bay Area  and analyizing the number of measurements from each station\n",
    "\n",
    "The circles in the map depict the location of the station. \n",
    "Area of the circle determines the number of measurements received from that station"
   ]
  },
  {
   "cell_type": "markdown",
   "metadata": {},
   "source": [
    "### 3. Decoding the color code\n",
    "\n",
    "The circles with red color signify the highest value corresponding the first eigen vector for that station.\n",
    "\n",
    "Similarly, the cirles with blue color tone signify the highest negative value orresponding the first eigen vector for that station.\n",
    "\n",
    "This basically signifies where does first eigen coffecient lie around the mean TOBS. \n"
   ]
  },
  {
   "cell_type": "markdown",
   "metadata": {},
   "source": [
    "### 4. Analyizing different elevation points\n",
    "\n",
    "\n",
    "![ele.png](r_figures\\ele.png)\n",
    "\n",
    "It is clear from the map, most of the stations are located at locations, with alltitude same as sea level. This is expected as the Bay Area has very even topology with a few variations in altitude."
   ]
  },
  {
   "cell_type": "markdown",
   "metadata": {},
   "source": [
    "## D. Temporal vs Spatial analysis for TOBS\n",
    "\n",
    "### Root Mean Square pivoted over temporal and spatial analysis\n",
    "\n",
    "**DATA-**\n",
    "* total RMS                   =  255.753539901\n",
    "* RMS removing mean-by-station=  132.020692328\n",
    "* RMS removing mean-by-year   =  236.585402855\n",
    "\n",
    "Observation :  It is very evident from the data above, that if we take RMS after removing mean by station from every data point, we get lower MSE. Hence the data is better represented by spatial locality, that is on the station basis. The RMS obtained by removing mean-by-year is is higher, showing large variance in temporal pivot.\n",
    "\n",
    "This can be interpreted as over the years the value for TOBS at any given station doesn't change much. However, for a given year, there is wide variation in the value for TOBS from station to station"
   ]
  },
  {
   "cell_type": "code",
   "execution_count": null,
   "metadata": {
    "collapsed": true
   },
   "outputs": [],
   "source": []
  }
 ],
 "metadata": {
  "kernelspec": {
   "display_name": "Python 2",
   "language": "python",
   "name": "python2"
  },
  "language_info": {
   "codemirror_mode": {
    "name": "ipython",
    "version": 2
   },
   "file_extension": ".py",
   "mimetype": "text/x-python",
   "name": "python",
   "nbconvert_exporter": "python",
   "pygments_lexer": "ipython2",
   "version": "2.7.13"
  }
 },
 "nbformat": 4,
 "nbformat_minor": 2
}
