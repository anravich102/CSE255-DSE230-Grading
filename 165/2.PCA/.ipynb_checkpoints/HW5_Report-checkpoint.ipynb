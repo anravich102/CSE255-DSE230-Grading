{
 "cells": [
  {
   "cell_type": "markdown",
   "metadata": {},
   "source": [
    "# Florida Weather Analysis"
   ]
  },
  {
   "cell_type": "markdown",
   "metadata": {},
   "source": [
    "## DataSet\n",
    "This is a report on the historical analysis of weather patterns in an area that approximately overlaps the area of the state of Florida.The data we will use here comes from [NOAA](https://www.ncdc.noaa.gov/). Specifically, it was downloaded from This [FTP site](ftp://ftp.ncdc.noaa.gov/pub/data/ghcn/daily/).\n",
    "\n",
    "We focused on six measurements:\n",
    "* **TMIN, TMAX:** the daily minimum and maximum temperature.\n",
    "* **TOBS:** The average temperature for each day.\n",
    "* **PRCP:** Daily Percipitation (in mm)\n",
    "* **SNOW:** Daily snowfall (in mm)\n",
    "* **SNWD:** The depth of accumulated snow.\n",
    "\n",
    "\n",
    "### Positions of Stations \n",
    "<p>As you can see in the map,&nbsp; All the stations lies in the south part of U.S., which makes sense that there is little snowfall. Note that the latitude is between [30.0667, 31.4714] North, and the Longitude is between [-88.4833, -85.5833]</p>\n",
    "\n",
    "<p>&nbsp;<img alt=\"StationPosition_zoomOut.png\" src=\"report_figures/StationPosition_zoomOut.png\" style=\"height:300px; width:800px\" /></p>\n",
    "\n",
    "<p>&nbsp;<img alt=\"StationPosition.png\" src=\"report_figures/StationPosition.png\" style=\"height:300px; width:800px\" /></p>"
   ]
  },
  {
   "cell_type": "markdown",
   "metadata": {
    "run_control": {
     "frozen": false,
     "read_only": false
    }
   },
   "source": [
    "## Sanity-check: comparison with outside sources\n",
    "\n",
    "###  Reference Weather Dataset\n",
    "<p>We compare some of the general statistics with graphs that we obtained from a site called <a href=\"http://www.usclimatedata.com/climate/pensacola/florida/united-states/usfl0715\" target=\"_blank\">US Climate Data</a> The graph below shows the daily minimum and maximum temperatures for each month, as well as the total precipitation for each month.</p>\n",
    "\n",
    "<p>&nbsp;</p>\n",
    "\n",
    "<p><img alt=\"Climate_of_Pensacola_Florida.png\" src=\"report_figures/Climate_of_Pensacola_Florida.png\" style=\"height:450px; width:600px\" /></p>\n",
    "\n",
    "<p>&nbsp;</p>\n",
    "\n",
    "\n",
    "### Max and Min Temperature\n",
    "<p>We can see that the min and max daily&nbsp;temperature agree with the once we translate Fahrenheit to Centigrade.\n",
    "Note that, the vertical axes is tenths of degrees C. </p>\n",
    "\n",
    "<p>&nbsp;</p>\n",
    "\n",
    "<p><img alt=\"TMIN_TMAX.png\" src=\"report_figures/TMIN_TMAX.png\" style=\"height:300px; width:800px\" /></p>\n",
    "\n",
    "<p>&nbsp;</p>\n",
    "\n",
    "### Average Temperature and Rainfall\n",
    "<p>In the following graph,&nbsp; We plot the 'TOBS' which is the average temperature for each day, and is pretty similar to the reference data. Note that, the vertical axes is tenths of degrees C.</p>\n",
    "\n",
    "<p>To compare the precipitation&nbsp; We need to translate millimeter/day to inches/month.\n",
    "According to our analysis the average rainfall is 3.64 mm/day which translates to about 4.33 Inches&nbsp; per month.\n",
    "According to US-Climate-Data the average rainfall is closer to 5.44 inch per month. However, there is clear agreement that average precipitation&nbsp;is close to a constant throughout the year. Note that, the vertical axes is tenths of mm.</p>\n",
    "\n",
    "<p>&nbsp;<img alt=\"TOBS_PRCP.png\" src=\"report_figures/TOBS_PRCP.png\" style=\"height:300px; width:800px\" /></p>\n",
    "\n",
    "\n",
    "### Snowfall and Snow Depth\n",
    "<p>In this graph,&nbsp; It is easy to see the this place has rarely snow in the entire year. Only little tiny part of them will have snow in whole the year. The mean of 'Snowfall' is approximitely equals to zero</p>\n",
    "\n",
    "<p>&nbsp;<img alt=\"SNOW_SNWD.png\" src=\"report_figures/SNOW_SNWD.png\" style=\"height:300px; width:800px\" /></p>\n"
   ]
  },
  {
   "cell_type": "markdown",
   "metadata": {
    "run_control": {
     "frozen": false,
     "read_only": false
    }
   },
   "source": [
    "## PCA analysis\n",
    "\n",
    "For each of the six measurement, we compute the percentate of the variance explained as a function of the number of eigen-vectors used.\n",
    "\n",
    "### Percentage of variance explained.\n",
    "\n",
    "#### Temperature\n",
    "We see that the top 5 eigen-vectors explain 27% of variance for TMIN, 43% for TOBS and 22% for TMAX. To conclude, of the three, TOBS is the best explained by the top 5 eigenvectors. This is especially true for the first eigen-vector which, by itself, explains 35% of the variance. Thus, we can infer that the PCA analysis for temperature may not be a good choice since the PCA cannot preserve the variance of the sampled data, not even for the distribution.\n",
    "\n",
    "![VarExplained_TMIN_TOBS_TMAX.png](report_figures/VarExplained_TMIN_TOBS_TMAX.png)\n",
    "\n",
    "\n",
    "#### Snow and Rainfall\n",
    "The top 5 eigenvectors explain variance up to 75% for SNOW, 94% of SNWD, and 9% for PRCP. This result implies that the top 5 eigenvectors capture most of the variation in the snow depth signal. \n",
    "It makes sense that SNWD would be less noisy than SNOW. That is because SNWD is a decaying integral of SNOW and, as such, varies less between days and between the same date on diffferent years.\n",
    "\n",
    "![VarExplained_SNOW_SNWD_PRCP.png](report_figures/VarExplained_SNOW_SNWD_PRCP.png)\n",
    "\n",
    "\n",
    "We will dig deeper into the PCA analysis for TOBS and SNWD."
   ]
  },
  {
   "cell_type": "markdown",
   "metadata": {
    "run_control": {
     "frozen": false,
     "read_only": false
    }
   },
   "source": [
    "## Analysis of The Average Temperature for Each Day (TOBS)\n",
    "\n",
    "### Mean and Eigen-vectors\n",
    "We analyze the eigen-decomposition for Average Temperature for Each Day, since the first 3 eigen-vectors explain 40% of the variance. First, we graph the mean and the top 3 eigen-vectors. We observe that the average temperature reaches the highest from July till late of September. In this case, it is bovious that the data vibrate over time, which means that it contains lots of random noise. We'll see it in more detail in the following example of reconstructions.\n",
    "\n",
    "Also, please note that, the superposition of the three eigen-vectors will have a camel but smooth peak from Jul to the beginnning of Oct. The eigen-vector 2 and 3 will help to decrease the level of temperature during the period from Jan to Mar, and the period from Dec to Jan.\n",
    "\n",
    "![TOBS_mean_eigs.png](report_figures/TOBS_mean_eigs.png)\n",
    "\n",
    "Next we interpret the eigen-functions. The interpretation of this shape is that eig1 represents the overall among of temperature below the mean, but without changing the distribution or data properties over time.\n",
    "\n",
    "**eig2** are similar in the following way. They all oscilate between positive and negative values. In other words, they correspond to changing the distribution of the snow depth over the winter months. The eigen-vector 2 helps to maintain the average temperature curve in a camel but smooth peak way.\n",
    "\n",
    "**eig3** are similar in the following way. It oscillate in an opposite way of eigen-vector 2 from Nov to Apr. In other words, they correspond to changing the distribution of the temperature over the winter months.\n",
    "\n",
    "As we expect, though the data may looks to have random noise amount the entire year, PCA is useful to reveal the actual signal in this case. Please see the following examples.\n",
    "\n",
    "\n",
    "### Examples of reconstructions\n",
    "\n",
    "#### Coeff1\n",
    "\n",
    "The average temperature varies among the year, but reconstruction stays within the center of the curve. Although, the variance is merely 40%, the reconstructions performs very well without overfitting problem. Noth that the target lies below the mean. The coeff1 tries to pull the mean a little bit down in order to fit the target.\n",
    "\n",
    "Coeff1: most positive\n",
    "![TOBS_grid_Pos_coeff1.png](report_figures/TOBS_grid_Pos_coeff1.png)\n",
    "Coeff1: most negative\n",
    "![TOBS_grid_neg_coeff1.png](report_figures/TOBS_grid_neg_coeff1.png)\n",
    "\n",
    "\n",
    "#### Coeff2\n",
    "\n",
    "Same thing happens in the coefficient 2, but note that the target stays in above the mean. The coeff2 try to maintain a camel but smooth peak.\n",
    "\n",
    "Coeff2: most positive\n",
    "![TOBS_grid_Pos_coeff2.png](report_figures/TOBS_grid_Pos_coeff2.png)\n",
    "Coeff2: most negative\n",
    "![TOBS_grid_neg_coeff2.png](report_figures/TOBS_grid_neg_coeff2.png)\n",
    "\n",
    "\n",
    "#### Coeff3\n",
    "\n",
    "Same thing happens in the coefficient 3, but note that the target ocsillates above and below the mean in different years.\n",
    "\n",
    "Coeff3: most positive\n",
    "![TOBS_grid_Pos_coeff2.png](report_figures/TOBS_grid_Pos_coeff3.png)\n",
    "Coeff3: most negative\n",
    "![TOBS_grid_neg_coeff2.png](report_figures/TOBS_grid_neg_coeff3.png)\n",
    "\n",
    "\n",
    "\n",
    "### Distributions of residuals\n",
    "\n",
    "In the following plots, we can say that the noise is closed to a normal distribution according to their CDF. Thus, we can confirm that the noise is the reason why the percentage of variance explained is not so high, even though the reconstrution performs well to fit the target curve in different years.\n",
    "\n",
    "#### Original CDF of TOBS\n",
    "![TOBS_CDF.png](report_figures/TOBS_CDF.png)\n",
    "\n",
    "\n",
    "#### Res_1\n",
    "![TOBS_grid_CDF_res1.png](report_figures/TOBS_grid_CDF_res1.png)\n",
    "\n",
    "\n",
    "#### Res_2\n",
    "![TOBS_grid_CDF_res2.png](report_figures/TOBS_grid_CDF_res2.png)\n",
    "\n",
    "\n",
    "#### Res_3\n",
    "![TOBS_grid_CDF_res3.png](report_figures/TOBS_grid_CDF_res3.png)\n",
    "\n",
    "\n",
    "\n",
    "### Significance\n",
    "\n",
    "As being illustrated, since the variance explained by top 3 eigen-vectors is not so high. Thus the siginicant level is not so high when fitting to the original data. The average temperature in each day oscillates over the years. It make sense that the climate is a constant in every year. However, if the use the average across the years as the the target, the PCA can perform well.\n",
    "\n",
    "![TOBS_significance.png](report_figures/TOBS_significance.png)"
   ]
  },
  {
   "cell_type": "markdown",
   "metadata": {
    "run_control": {
     "frozen": false,
     "read_only": false
    }
   },
   "source": [
    "## Analysis of Snow Depth (SNWD)\n",
    "\n",
    "### Mean and Eigen-vectors\n",
    "We analyze the eigen-decomposition for snow-depth, since the first 2 eigen-vectors explain 90% of the variance. First, we graph the mean and the top 2 eigen-vectors. We observe that the snow season is from november to the end of march. The middle of December marks the peak of the snow-depth.\n",
    "\n",
    "![SNWD_mean_eigs.png](report_figures/SNWD_mean_eigs.png)\n",
    "\n",
    "Next we interpret the eigen-functions. The first eigen-function (eig1) has a shape very similar to the mean function. The main difference is that the eigen-function is zero from Jan to Apr while the mean is not.  The interpretation of this shape is that eig1 represents the overall amount of snow above/below the mean, but without changing the distribution or data properties over time.\n",
    "\n",
    "**eig2** are similar in the following way. They all oscilate between positive and negative values. In other words, they correspond to changing the distribution of the snow depth over the winter months, but they change the total (much).\n",
    "\n",
    "As we expected, since the snow is not so common in Florida, a tiny level of snow can have very small signal/noise ratio. Thus, even though some people may think PCA is not useful, it is still sutible, an powerful analysis tool and its variance explained performs well in such a case.\n",
    "\n",
    "\n",
    "### Examples of reconstructions\n",
    "\n",
    "#### Coeff1\n",
    "\n",
    "Snow depth vaires in different year, but most of them lie in March.\n",
    "\n",
    "Coeff1: most positive\n",
    "![SNWD_grid_Pos_coeff1.png](report_figures/SNWD_grid_Pos_coeff1.png)\n",
    "Coeff1: most negative\n",
    "![SNWD_grid_neg_coeff1.png](report_figures/SNWD_grid_neg_coeff1.png)\n",
    "\n",
    "\n",
    "#### Coeff2\n",
    "\n",
    "Snow depth vaires in different year, but most of them lie in March.\n",
    "\n",
    "Coeff2: most positive\n",
    "![SNWD_grid_Pos_coeff2.png](report_figures/SNWD_grid_Pos_coeff2.png)\n",
    "Coeff2: most negative\n",
    "![SNWD_grid_neg_coeff2.png](report_figures/SNWD_grid_neg_coeff2.png)"
   ]
  },
  {
   "cell_type": "markdown",
   "metadata": {
    "run_control": {
     "frozen": false,
     "read_only": false
    }
   },
   "source": [
    "## Geography and Correlation of TOBS\n",
    "\n",
    "\n",
    "### Geographical distribution of TOBS\n",
    "\n",
    "The Geographical distribution of PCA\n",
    "\n",
    "![TOBS_PCA_map.png](report_figures/TOBS_PCA_map.png)\n",
    "\n",
    "\n",
    "### Correlations Matrix of TOBS\n",
    "\n",
    "Note that the upper left corner has higher correlation while the res has not.\n",
    "![TOBS_corr_matrix.png](report_figures/TOBS_corr_matrix.png)\n",
    "\n",
    "\n",
    "### Is TOBS variance spatial or temporal?\n",
    "\n",
    "We can expect that the variance is because of the year, since we have already see that the target curve oscillates from year to year. From the statistical result below, we can confirm our claim.\n",
    "\n",
    "This result shows that after removing mean by station, the RMS drops in a only a small amount. However, after dropping the mean by year, the RMS decreases significantly. Thus, we can say that the temporal has more influence on the RMS of TOBS.\n",
    "\n",
    "<p><img alt=\"TOBS_RMS_summary.png\" src=\"report_figures/TOBS_RMS_summary.png\" style=\"height:100px; width:500px\" /></p>\n",
    "\n",
    "<p><img alt=\"TOBS_RMS_defactored.png\" src=\"report_figures/TOBS_RMS_defactored.png\" style=\"height:400px; width:500px\" /></p>\n"
   ]
  },
  {
   "cell_type": "code",
   "execution_count": null,
   "metadata": {
    "collapsed": true
   },
   "outputs": [],
   "source": []
  }
 ],
 "metadata": {
  "anaconda-cloud": {},
  "kernelspec": {
   "display_name": "Python [conda env:py27]",
   "language": "python",
   "name": "conda-env-py27-py"
  },
  "language_info": {
   "codemirror_mode": {
    "name": "ipython",
    "version": 2
   },
   "file_extension": ".py",
   "mimetype": "text/x-python",
   "name": "python",
   "nbconvert_exporter": "python",
   "pygments_lexer": "ipython2",
   "version": "2.7.13"
  },
  "toc": {
   "colors": {
    "hover_highlight": "#DAA520",
    "running_highlight": "#FF0000",
    "selected_highlight": "#FFD700"
   },
   "moveMenuLeft": true,
   "nav_menu": {
    "height": "12px",
    "width": "252px"
   },
   "navigate_menu": true,
   "number_sections": true,
   "sideBar": true,
   "threshold": 4,
   "toc_cell": false,
   "toc_section_display": "block",
   "toc_window_display": false
  }
 },
 "nbformat": 4,
 "nbformat_minor": 2
}
