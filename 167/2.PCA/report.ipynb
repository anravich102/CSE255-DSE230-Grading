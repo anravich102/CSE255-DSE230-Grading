{
 "cells": [
  {
   "cell_type": "code",
   "execution_count": 2,
   "metadata": {
    "run_control": {
     "frozen": false,
     "read_only": false
    },
    "scrolled": false
   },
   "outputs": [
    {
     "name": "stdout",
     "output_type": "stream",
     "text": [
      "![eig_var_snow.png](my_figures/eig_var_snow.png)\n",
      "![eig_var_t.png](my_figures/eig_var_t.png)\n",
      "![map.JPG](my_figures/map.JPG)\n",
      "![sanity.JPG](my_figures/sanity.JPG)\n",
      "![snow_snwd_mean.png](my_figures/snow_snwd_mean.png)\n",
      "![tmin_tmax_mean.png](my_figures/tmin_tmax_mean.png)\n",
      "![tobs_mean_eigs.png](my_figures/tobs_mean_eigs.png)\n",
      "![tobs_prcp_mean.png](my_figures/tobs_prcp_mean.png)\n",
      "![tobs_recon_1_neg.png](my_figures/tobs_recon_1_neg.png)\n",
      "![tobs_recon_1_pos.png](my_figures/tobs_recon_1_pos.png)\n",
      "![tobs_recon_2_neg.png](my_figures/tobs_recon_2_neg.png)\n",
      "![tobs_recon_2_pos.png](my_figures/tobs_recon_2_pos.png)\n",
      "![tobs_recon_3_neg.png](my_figures/tobs_recon_3_neg.png)\n",
      "![tobs_recon_3_pos.png](my_figures/tobs_recon_3_pos.png)\n"
     ]
    }
   ],
   "source": [
    "L=!ls my_figures/\n",
    "for l in L:\n",
    "    print \"![%s](my_figures/%s)\"%(l,l)"
   ]
  },
  {
   "cell_type": "markdown",
   "metadata": {
    "run_control": {
     "frozen": false,
     "read_only": false
    }
   },
   "source": [
    "# Miami Weather Analysis\n",
    "\n",
    "This report focuses on the weather analysis in the south-east coastal area around Miami, Florida. The figure below shows the locations of stations.\n",
    "<img src=\"my_figures/map.jpg\" width=\"500\" />\n",
    "\n",
    "The data contains weather information of each day from 1892 to 2012. There are six measurements in the dataset:\n",
    "\n",
    "* **TMIN, TMAX:** the daily minimum and maximum temperature.\n",
    "* **TOBS:** The average temperature for each day.\n",
    "* **PRCP:** Daily Percipitation (in mm)\n",
    "* **SNOW:** Daily snowfall (in mm)\n",
    "* **SNWD:** The depth of accumulated snow.\n",
    "\n",
    "## Sanity-check: comparison with outside sources\n",
    "\n",
    "We first compare our data to external climate data we obtained from [US Climate data](http://www.usclimatedata.com/climate/miami/florida/united-states/usfl0316) for sanity check. The figure below shows the daily minimum and maximum temperatures, and the average precipitation for each month. \n",
    "\n",
    "<img src=\"my_figures/sanity.jpg\" width=\"500\" />\n",
    "\n",
    "The figures below are derived from our data. We can see that the min and max daily temperature agree with the outside source. In our data, the daily precipitation in summer is about 6 mm, which is about 180 mm/month, so it also agrees with the outside source.\n",
    "\n",
    "![tmin_tmax_mean.png](my_figures/tmin_tmax_mean.png)\n",
    "![tobs_prcp_mean.png](my_figures/tobs_prcp_mean.png)\n"
   ]
  },
  {
   "cell_type": "markdown",
   "metadata": {
    "run_control": {
     "frozen": false,
     "read_only": false
    }
   },
   "source": [
    "## PCA analysis\n",
    "\n",
    "### Percentage of variance explained.\n",
    "For each of the six measurement, we compute the percentate of the variance explained as a function of the number of eigen-vectors used. In our analysis, we use 5 eigen vectors at most. The following figures are derived from the data collected from a station near Everglades National Park.\n",
    "\n",
    "![eig_var_t.png](my_figures/eig_var_t.png)\n",
    "![eig_var_snow.png](my_figures/eig_var_snow.png)\n",
    "The figures above shows that the top 5 eigen-vectors explain 37% of variance for TMIN, 52% for TOBS and 28% for TMAX.\n",
    "TOBS is better explained by the top 5 eigenvectors than the other two. This is reasonable because TOBS is average daily temperature, which would typically have smooth fluctuation.\n",
    "\n",
    "The top 5 eigenvectors explain 100% of the variance for SNOW and SNWD, and even the top 2 eigenvectors could explain almost all the variance, which might result from the fact that the number of snowy day is very few in Miami. The figure below shows that the mean of SNOW and SNWD almost keep zero throughout a year.\n",
    "![snow_snwd_mean.png](my_figures/snow_snwd_mean.png)"
   ]
  },
  {
   "cell_type": "markdown",
   "metadata": {
    "run_control": {
     "frozen": false,
     "read_only": false
    }
   },
   "source": [
    "## Analysis of average temperature\n",
    "\n",
    "We choose to analyze the eigen-decomposition for TOBS because the top 3 eigen-vectors explain 48% of the variance, and the first eigen-vector itself explains 40% of the variance. The figure below shows the mean and the top 3 eigen-vectors. The temperature in August is the highest, whereas the temperature in Febuary is the lowest, which is a normal weather pattern in the Northern Hemisphere. \n",
    "![tobs_mean_eigs.png](my_figures/tobs_mean_eigs.png)"
   ]
  },
  {
   "cell_type": "markdown",
   "metadata": {
    "run_control": {
     "frozen": false,
     "read_only": false
    }
   },
   "source": [
    "Next we interpret the eigen-functions. The first eigen-function (eig1) is almost a constant function, which might represent the yearly mean temperature and serve as an offset in function reconstruction. eig2 has a shape similar to the mean: higher in summer, and lower in winter. eig3 mainly captures the characteristics from October to December.\n"
   ]
  },
  {
   "cell_type": "markdown",
   "metadata": {
    "run_control": {
     "frozen": false,
     "read_only": false
    }
   },
   "source": [
    "### Examples of reconstructions\n",
    "\n",
    "In this section, we tried to reconstruct the original data based on the top 3 eigen-vectors. The figures below show the top 4 stations with most positive/negative coefficient for those top 3 eigen-vectors, respectively.\n",
    "\n",
    "#### Coeff1\n",
    "Coeff1: most positive\n",
    "![tobs_recon_1_pos.png](my_figures/tobs_recon_1_pos.png)\n",
    "Coeff1: most negative\n",
    "![tobs_recon_1_neg.png](my_figures/tobs_recon_1_neg.png)\n",
    "Large positive values of coeff1 correspond to higher than average temprature. Low values correspond to lower than average temperature.\n",
    "\n",
    "#### Coeff2\n",
    "Coeff2: most positive\n",
    "![tobs_recon_2_pos.png](my_figures/tobs_recon_2_pos.png)\n",
    "Coeff2: most negative\n",
    "![tobs_recon_2_neg.png](my_figures/tobs_recon_2_neg.png)\n",
    "\n",
    "Large positive values of coeff2 correspond to cold autumn and early winter, and significant temperature oscilation in late winter. Negative values for coeff2 correspond to a warm winter.\n",
    "#### Coeff3\n",
    "Coeff3: most positive\n",
    "![tobs_recon_3_pos.png](my_figures/tobs_recon_3_pos.png)\n",
    "Coeff3: most negative\n",
    "![tobs_recon_3_neg.png](my_figures/tobs_recon_3_neg.png)\n",
    "\n",
    "Large positive values of coeff3 correspond to cold weather from October to December. Negative values of coeff3 correspond to normal weather from October to December.\n",
    "\n"
   ]
  },
  {
   "cell_type": "code",
   "execution_count": null,
   "metadata": {
    "collapsed": true,
    "run_control": {
     "frozen": false,
     "read_only": false
    }
   },
   "outputs": [],
   "source": []
  }
 ],
 "metadata": {
  "anaconda-cloud": {},
  "kernelspec": {
   "display_name": "Python 2",
   "language": "python",
   "name": "python2"
  },
  "language_info": {
   "codemirror_mode": {
    "name": "ipython",
    "version": 2
   },
   "file_extension": ".py",
   "mimetype": "text/x-python",
   "name": "python",
   "nbconvert_exporter": "python",
   "pygments_lexer": "ipython2",
   "version": "2.7.13"
  },
  "toc": {
   "colors": {
    "hover_highlight": "#DAA520",
    "running_highlight": "#FF0000",
    "selected_highlight": "#FFD700"
   },
   "moveMenuLeft": true,
   "nav_menu": {
    "height": "12px",
    "width": "252px"
   },
   "navigate_menu": true,
   "number_sections": true,
   "sideBar": true,
   "threshold": 4,
   "toc_cell": false,
   "toc_section_display": "block",
   "toc_window_display": false
  }
 },
 "nbformat": 4,
 "nbformat_minor": 2
}
