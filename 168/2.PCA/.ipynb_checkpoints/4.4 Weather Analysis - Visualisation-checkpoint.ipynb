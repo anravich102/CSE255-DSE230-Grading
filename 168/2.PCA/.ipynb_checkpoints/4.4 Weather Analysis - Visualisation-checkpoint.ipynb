{
 "cells": [
  {
   "cell_type": "markdown",
   "metadata": {
    "run_control": {
     "frozen": false,
     "read_only": false
    }
   },
   "source": [
    "### Visualizing the distribution of the observations\n",
    "\n",
    "### Load the required libraries"
   ]
  },
  {
   "cell_type": "code",
   "execution_count": 3,
   "metadata": {
    "run_control": {
     "frozen": false,
     "read_only": false
    },
    "slideshow": {
     "slide_type": "slide"
    }
   },
   "outputs": [
    {
     "name": "stdout",
     "output_type": "stream",
     "text": [
      "Populating the interactive namespace from numpy and matplotlib\n",
      "keys from STAT= ['TMIN', 'TOBS', 'TMAX', 'SNOW', 'SNWD', 'PRCP']\n",
      "12791\n",
      "+---------+--------+---------+-----------+-----------+------+--------------------+------+--------+\n",
      "|elevation|latitude|longitude|measurement|    station|undefs|              vector|  year|   label|\n",
      "+---------+--------+---------+-----------+-----------+------+--------------------+------+--------+\n",
      "|    938.8| 32.1794|-110.7364|       TMAX|USC00027398|    10|[B0 58 10 5A 40 5...|2010.0|SSSSBSSB|\n",
      "|    938.8| 32.1794|-110.7364|       TMAX|USC00027398|    16|[00 53 80 54 08 5...|2011.0|SSSSBSSB|\n",
      "|    938.8| 32.1794|-110.7364|       TMAX|USC00027398|    32|[A0 5B D0 5B 48 5...|2012.0|SSSSBSSB|\n",
      "|    938.8| 32.1794|-110.7364|       TMIN|USC00027398|    16|[00 4F 80 51 00 5...|2010.0|SSSSBSSB|\n",
      "|    938.8| 32.1794|-110.7364|       TMIN|USC00027398|    19|[40 D2 40 D2 40 D...|2011.0|SSSSBSSB|\n",
      "+---------+--------+---------+-----------+-----------+------+--------------------+------+--------+\n",
      "only showing top 5 rows\n",
      "\n"
     ]
    }
   ],
   "source": [
    "import pandas as pd\n",
    "import numpy as np\n",
    "import sklearn as sk\n",
    "import urllib\n",
    "import math\n",
    "%pylab inline\n",
    "\n",
    "import findspark\n",
    "findspark.init()\n",
    "\n",
    "from pyspark import SparkContext\n",
    "#sc.stop()\n",
    "sc = SparkContext(master=\"local[3]\",pyFiles=['lib/numpy_pack.py','lib/spark_PCA.py','lib/computeStats.py'])\n",
    "\n",
    "from pyspark import SparkContext\n",
    "from pyspark.sql import *\n",
    "sqlContext = SQLContext(sc)\n",
    "\n",
    "import sys\n",
    "sys.path.append('./lib')\n",
    "\n",
    "import numpy as np\n",
    "from numpy_pack import packArray,unpackArray\n",
    "from spark_PCA import computeCov\n",
    "from computeStats import computeOverAllDist, STAT_Descriptions\n",
    "\n",
    "### Read the data frame from pickle file\n",
    "\n",
    "data_dir='../../Data/Weather'\n",
    "file_index='SSSSBSSB'\n",
    "\n",
    "from pickle import load\n",
    "\n",
    "#read statistics\n",
    "filename=data_dir+'/STAT_%s.pickle'%file_index\n",
    "STAT,STAT_Descriptions = load(open(filename,'rb'))\n",
    "print 'keys from STAT=',STAT.keys()\n",
    "\n",
    "#read data\n",
    "filename=data_dir+'/US_Weather_%s.parquet'%file_index\n",
    "\n",
    "df=sqlContext.read.parquet(filename)\n",
    "print df.count()\n",
    "df.show(5)"
   ]
  },
  {
   "cell_type": "markdown",
   "metadata": {
    "run_control": {
     "frozen": false,
     "read_only": false
    },
    "slideshow": {
     "slide_type": "slide"
    }
   },
   "source": [
    "### Select data for a particular station and measurement type"
   ]
  },
  {
   "cell_type": "code",
   "execution_count": 34,
   "metadata": {
    "run_control": {
     "frozen": false,
     "read_only": false
    },
    "slideshow": {
     "slide_type": "subslide"
    }
   },
   "outputs": [
    {
     "name": "stdout",
     "output_type": "stream",
     "text": [
      "SELECT * FROM weather\n",
      "\tWHERE measurement='PRCP' and station='USC00027398'\n",
      "3 rows\n",
      "+---------+--------+---------+-----------+-----------+------+--------------------+------+--------+\n",
      "|elevation|latitude|longitude|measurement|    station|undefs|              vector|  year|   label|\n",
      "+---------+--------+---------+-----------+-----------+------+--------------------+------+--------+\n",
      "|    938.8| 32.1794|-110.7364|       PRCP|USC00027398|     3|[00 00 00 00 00 0...|2010.0|SSSSBSSB|\n",
      "|    938.8| 32.1794|-110.7364|       PRCP|USC00027398|     7|[00 00 00 00 00 0...|2011.0|SSSSBSSB|\n",
      "+---------+--------+---------+-----------+-----------+------+--------------------+------+--------+\n",
      "only showing top 2 rows\n",
      "\n"
     ]
    },
    {
     "data": {
      "text/plain": [
       "(3, 365)"
      ]
     },
     "execution_count": 34,
     "metadata": {},
     "output_type": "execute_result"
    }
   ],
   "source": [
    "sqlContext.registerDataFrameAsTable(df,'weather')\n",
    "Query=\"SELECT * FROM weather\\n\\tWHERE measurement='%s' and station='%s'\"%('PRCP','USC00027398')\n",
    "print Query\n",
    "df1 = sqlContext.sql(Query)\n",
    "print df1.count(),'rows'\n",
    "df1.show(2)\n",
    "rows=df1.rdd.map(lambda row:unpackArray(row['vector'],np.float16)).collect()\n",
    "T=np.vstack(rows)\n",
    "T=T/10.  # scaling to make the temperature be in centingrates\n",
    "shape(T)"
   ]
  },
  {
   "cell_type": "markdown",
   "metadata": {
    "run_control": {
     "frozen": false,
     "read_only": false
    },
    "slideshow": {
     "slide_type": "slide"
    }
   },
   "source": [
    "### Script for plotting yearly plots"
   ]
  },
  {
   "cell_type": "code",
   "execution_count": 43,
   "metadata": {
    "run_control": {
     "frozen": false,
     "read_only": false
    },
    "scrolled": false,
    "slideshow": {
     "slide_type": "subslide"
    }
   },
   "outputs": [
    {
     "data": {
      "text/plain": [
       "<matplotlib.legend.Legend at 0x7ff7317eb910>"
      ]
     },
     "execution_count": 43,
     "metadata": {},
     "output_type": "execute_result"
    },
    {
     "data": {
      "image/png": "iVBORw0KGgoAAAANSUhEUgAAAlMAAAGNCAYAAAA1nfQqAAAABHNCSVQICAgIfAhkiAAAAAlwSFlz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