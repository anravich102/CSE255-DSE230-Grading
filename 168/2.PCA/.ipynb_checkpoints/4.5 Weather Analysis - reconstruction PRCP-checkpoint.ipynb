{
 "cells": [
  {
   "cell_type": "code",
   "execution_count": 1,
   "metadata": {
    "collapsed": true,
    "run_control": {
     "frozen": false,
     "read_only": false
    }
   },
   "outputs": [],
   "source": [
    "#setup\n",
    "data_dir='../../Data/Weather'\n",
    "file_index='SSSSBSSB'\n",
    "m='PRCP'"
   ]
  },
  {
   "cell_type": "markdown",
   "metadata": {
    "run_control": {
     "frozen": false,
     "read_only": false
    },
    "slideshow": {
     "slide_type": "slide"
    },
    "variables": {
     "m": "PRCP"
    }
   },
   "source": [
    "# Reconstruction using top eigen-vectors\n",
    "For measurement = {{m}}"
   ]
  },
  {
   "cell_type": "markdown",
   "metadata": {
    "run_control": {
     "frozen": false,
     "read_only": false
    },
    "slideshow": {
     "slide_type": "skip"
    }
   },
   "source": [
    "## Load the required libraries"
   ]
  },
  {
   "cell_type": "code",
   "execution_count": 2,
   "metadata": {
    "collapsed": true,
    "run_control": {
     "frozen": false,
     "read_only": false
    },
    "slideshow": {
     "slide_type": "skip"
    }
   },
   "outputs": [],
   "source": [
    "# Enable automiatic reload of libraries\n",
    "#%load_ext autoreload\n",
    "#%autoreload 2 # means that all modules are reloaded before every command"
   ]
  },
  {
   "cell_type": "code",
   "execution_count": 2,
   "metadata": {
    "run_control": {
     "frozen": false,
     "read_only": false
    },
    "slideshow": {
     "slide_type": "skip"
    }
   },
   "outputs": [
    {
     "name": "stdout",
     "output_type": "stream",
     "text": [
      "Populating the interactive namespace from numpy and matplotlib\n",
      "    pandas as    pd \tversion=0.19.2 \trequired version>=0.19.2\n",
      "     numpy as    np \tversion=1.12.0 \trequired version>=1.12.0\n",
      "   sklearn as    sk \tversion=0.18.1 \trequired version>=0.18.1\n",
      "    urllib as urllib \tversion=1.17 \trequired version>=1.17\n",
      "   pyspark as pyspark \tversion=2.1.0+hadoop2.7 \trequired version>=2.1.0\n",
      "ipywidgets as ipywidgets \tversion=6.0.0 \trequired version>=6.0.0\n"
     ]
    }
   ],
   "source": [
    "%pylab inline\n",
    "import numpy as np\n",
    "\n",
    "import findspark\n",
    "findspark.init()\n",
    "\n",
    "import sys\n",
    "sys.path.append('./lib')\n",
    "\n",
    "from numpy_pack import packArray,unpackArray\n",
    "\n",
    "from Eigen_decomp import Eigen_decomp\n",
    "from YearPlotter import YearPlotter\n",
    "from recon_plot import recon_plot\n",
    "\n",
    "from import_modules import import_modules,modules\n",
    "import_modules(modules)\n",
    "\n",
    "from ipywidgets import interactive,widgets"
   ]
  },
  {
   "cell_type": "code",
   "execution_count": 4,
   "metadata": {
    "collapsed": true,
    "run_control": {
     "frozen": false,
     "read_only": false
    },
    "slideshow": {
     "slide_type": "skip"
    }
   },
   "outputs": [],
   "source": [
    "from pyspark import SparkContext\n",
    "#sc.stop()\n",
    "\n",
    "sc = SparkContext(master=\"local[3]\",pyFiles=['lib/numpy_pack.py','lib/spark_PCA.py','lib/computeStats.py','lib/recon_plot.py','lib/Eigen_decomp.py'])\n",
    "\n",
    "from pyspark import SparkContext\n",
    "from pyspark.sql import *\n",
    "sqlContext = SQLContext(sc)\n",
    "\n",
    "\n",
    "\n"
   ]
  },
  {
   "cell_type": "markdown",
   "metadata": {
    "run_control": {
     "frozen": false,
     "read_only": false
    },
    "slideshow": {
     "slide_type": "slide"
    }
   },
   "source": [
    "## Read Statistics File"
   ]
  },
  {
   "cell_type": "code",
   "execution_count": 5,
   "metadata": {
    "collapsed": true,
    "run_control": {
     "frozen": false,
     "read_only": false
    },
    "slideshow": {
     "slide_type": "fragment"
    }
   },
   "outputs": [],
   "source": [
    "data_dir='../../Data/Weather'\n",
    "file_index='SSSSBSSB'"
   ]
  },
  {
   "cell_type": "code",
   "execution_count": 6,
   "metadata": {
    "run_control": {
     "frozen": false,
     "read_only": false
    },
    "slideshow": {
     "slide_type": "subslide"
    }
   },
   "outputs": [
    {
     "name": "stdout",
     "output_type": "stream",
     "text": [
      "keys from STAT= ['TMIN', 'TOBS', 'TMAX', 'SNOW', 'SNWD', 'PRCP']\n"
     ]
    }
   ],
   "source": [
    "from pickle import load\n",
    "\n",
    "#read statistics\n",
    "filename=data_dir+'/STAT_%s.pickle'%file_index\n",
    "STAT,STAT_Descriptions = load(open(filename,'rb'))\n",
    "measurements=STAT.keys()\n",
    "print 'keys from STAT=',measurements"
   ]
  },
  {
   "cell_type": "markdown",
   "metadata": {
    "run_control": {
     "frozen": false,
     "read_only": false
    },
    "slideshow": {
     "slide_type": "slide"
    }
   },
   "source": [
    "## Read data file into a spark DataFrame\n",
    "We focus on the snow-depth records, because the eigen-vectors for them make sense."
   ]
  },
  {
   "cell_type": "code",
   "execution_count": 9,
   "metadata": {
    "run_control": {
     "frozen": false,
     "read_only": false
    },
    "scrolled": true,
    "slideshow": {
     "slide_type": "subslide"
    }
   },
   "outputs": [
    {
     "name": "stdout",
     "output_type": "stream",
     "text": [
      "+---------+--------+---------+-----------+-----------+------+--------------------+------+--------+\n",
      "|elevation|latitude|longitude|measurement|    station|undefs|              vector|  year|   label|\n",
      "+---------+--------+---------+-----------+-----------+------+--------------------+------+--------+\n",
      "|    768.1| 32.2319|-110.8893|       PRCP|US1AZPM0119|    14|[00 00 00 00 00 0...|2012.0|SSSSBSSB|\n",
      "|    938.8| 32.1794|-110.7364|       PRCP|USC00027398|     3|[00 00 00 00 00 0...|2010.0|SSSSBSSB|\n",
      "|    938.8| 32.1794|-110.7364|       PRCP|USC00027398|     7|[00 00 00 00 00 0...|2011.0|SSSSBSSB|\n",
      "|    938.8| 32.1794|-110.7364|       PRCP|USC00027398|    22|[00 00 00 00 00 0...|2012.0|SSSSBSSB|\n",
      "|    819.6| 32.1883|-110.8442|       PRCP|US1AZPM0002|     0|[00 00 00 00 00 0...|2010.0|SSSSBSSB|\n",
      "+---------+--------+---------+-----------+-----------+------+--------------------+------+--------+\n",
      "only showing top 5 rows\n",
      "\n"
     ]
    }
   ],
   "source": [
    "#read data\n",
    "filename=data_dir+'/US_Weather_%s.parquet'%file_index\n",
    "df_in=sqlContext.read.parquet(filename)\n",
    "#filter in \n",
    "df=df_in.filter(df_in.measurement==m)\n",
    "df.show(5)"
   ]
  },
  {
   "cell_type": "markdown",
   "metadata": {
    "run_control": {
     "frozen": false,
     "read_only": false
    },
    "slideshow": {
     "slide_type": "subslide"
    }
   },
   "source": [
    "### Create a matrix with all of the series"
   ]
  },
  {
   "cell_type": "code",
   "execution_count": 10,
   "metadata": {
    "run_control": {
     "frozen": false,
     "read_only": false
    }
   },
   "outputs": [
    {
     "data": {
      "text/plain": [
       "(2748, 365)"
      ]
     },
     "execution_count": 10,
     "metadata": {},
     "output_type": "execute_result"
    }
   ],
   "source": [
    "rows=df.rdd.map(lambda row:unpackArray(row['vector'],np.float16)).collect()\n",
    "\n",
    "T=np.vstack(rows)\n",
    "shape(T)"
   ]
  },
  {
   "cell_type": "markdown",
   "metadata": {
    "run_control": {
     "frozen": false,
     "read_only": false
    },
    "slideshow": {
     "slide_type": "subslide"
    }
   },
   "source": [
    "### Plot two time series\n",
    "`SNWD` stands for `snow-depth`, which explains why it is zero during the summer"
   ]
  },
  {
   "cell_type": "code",
   "execution_count": 11,
   "metadata": {
    "run_control": {
     "frozen": false,
     "read_only": false
    },
    "slideshow": {
     "slide_type": "fragment"
    }
   },
   "outputs": [
    {
     "data": {
      "image/png": "iVBORw0KGgoAAAANSUhEUgAAAXoAAAD6CAYAAACvZ4z8AAAABHNCSVQICAgIfAhkiAAAAAlwSFlz\nAAALEgAACxIB0t1+/AAAIABJREFUeJztvXmcHFd57/19unsW7bJkayxLtiXbMsZLbGxhCDZhHJKY\n5CaQlWuSsFwgTl6WQELeG+BNQvIhTghwIWSBXLNc8ybExjiAbcAG43i8xVi2ZVnWvm+jZTQzGs0+\n09313D+qqruqu6q7urp7epnz/Xykrq6qU3Wm+tRTT/3Oc54jqorBYDAY2pdEoytgMBgMhvpiDL3B\nYDC0OcbQGwwGQ5tjDL3BYDC0OcbQGwwGQ5tjDL3BYDC0OcbQGwwGQ5tjDL1hXiAih0RkSkTGReSU\niNwlIotFpE9Epp31gyLybRFZXVD2chH5lrP9rIhsFZE/FpGkiKwTEXXKjzvn+Wij/k6DIQhj6A3z\niV9R1cXA9cBG4M+c9R9w1l8GLAY+6xYQkUuBZ4GjwDWqugz4LeAGYInn2MudY7wN+AsReVO9/xiD\nISrG0BvmHaraDzwEXF2wfgT4LnCdZ/VfAf+lqn+sqiec/Xar6u84+xce+xlge+GxDYZGYgy9Yd4h\nIhcCvwS8WLB+JfDrwD7P6p8D7ot4XBGRm4CrCo9tMDQSY+gN84nvisgI8BTwOPA3zvp/EJGzwCBw\nLvBBT5mVwIkIxx4EhoGvAB9V1UdrVmuDoUpSja6AwTCH/Kqq/ti7QkQA/lBVvyIi1wDfA9YCR5xd\nhgBf52wI56pqppaVNRhqhfHoDQYHVX0Z+Gvgn8V5AgA/Bn6jcbUyGKrHGHqDwc/XgR7gzc73TwCv\nE5HPiMj5ACJymYj8m4gsb1QlDYZKMIbeYPCgqrPAF4A/d77vB34aWAdsd7T8/wCeB8YaVE2DoSLE\nTDxiMBgM7Y3x6A0Gg6HNMYbeYDAY2hxj6A0Gg6HNMYbeYDAY2hxj6A0Gg6HNaYqRseeee66uW7cu\ndvmJiQkWLVpUuwq1MeZaVYa5XpVjrlnlxL1mL7zwwqCqnlduv7KGXkS6gSeALmf/+1T1EyLyl8Dv\nAaedXT+uqj9wynwMeA+QxR5e/sNS51i3bh3PP/98uaqE0tfXR29vb+zy8wlzrSrDXK/KMdescuJe\nMxE5HGW/KB79DPCzqjouIh3AUyLykLPt86r6We/OInIlcBt2Br8LgB+LyOWqmo1efYPBYDDUirIa\nvdqMO187nH+lRlm9BbhHVWdU9SB2ytcbq66pwWAwGGIRqTPWmTJtCzAAPKKqzzqbPuhMq/Y1ETnH\nWbcGezYel2POOoPBYDA0gIpSIDhJnL6Dna/7NHYObgU+CaxW1XeLyD8BP1HVf3PKfBV4SFXvKzjW\n7cDtAD09PTfcc889sf+I8fFxFi9eHLv8fMJcq8ow16tyWu2aiQiLFi0imUw2rA6qSj5hajHZbJaJ\niQkK7fUtt9zygqpuLHf8iqJuVHVERB4D3uTV5kXky9h5vAH6gQs9xdY66wqPdSdwJ8DGjRu1ms4b\n0/kTHXOtKsNcr8pptWt28OBBlixZwsqVK0sa23oyNjbGkiVLArepKkNDQ4yNjbF+/fpYxy8r3YjI\neW46VhFZAPw8sEtEvJMx/BqwzVl+ALhNRLpEZD2wAdgUq3ZzQNZSxmfMfBEGw3xlenq6oUa+HCLC\nypUrmZ6ejn2MKBr9auAxEdkKPIet0X8P+LSIvOysvwX4IwBV3Q7cC+wAHgbe38wRN996/ihv+PRj\nWJbJ4mkwzFea1ci7VFu/stKNqm4FXhWw/u0lytwB3FFVzeaIU6MzDE3MklUlQXP/2AaDoT155JFH\n+NjHPkY2m+W9730vH/3oR2t6/HmfAkGdSFGTlt9gMDSCbDbLRz7yER566CF27NjB3XffzY4dO2p6\nDmPoHQOvJYcGGAwGQ33YtGkTl1xyCZdccgmdnZ3cdttt3H///TU9R1PkumkkbriS8egNBsNfPbid\nHcdHa3rMKy9Yyid+5arQ7f39/axduzb3fe3atTz77LOh+8fBePTupzH0BoOhTTEevZFuDAaDQynP\nu16sWbOGY8eO5b4fO3aMNWtqm0zAePSmM9ZgMDSQV7/61Rw4cICDBw8yOzvLPffcw5vf/OaansN4\n9DmP3mAwGOaeVCrFZz7zGW699Vay2Szvfve7ueqq2r5ZzHtD746TsoxLbzAYGsStt97Kb/7mb9bt\n+Ea6MdKNwWBoc+a9oc+H3TS0FgZDaabP2v8MhhjMe+kmb+eNpTc0Mfd/ANSC277R6JoYWhBj6M2A\nKUMrMDkMzZsb0NDkzHvpxnTGGloDNd6IITbz3tCb8EpDS6CW/c9giIEx9CbqxtAKqGLckfblfe97\nH6tWreLqq6+uy/GNoTcpEAwtgZFu2pnf+Z3f4eGHH67b8ee9oc9h7iFDM2Okm7bmpptuYsWKFXU7\nftmoGxHpBp4Aupz971PVT4jICuCbwDrgEPBWVT3jlPkY8B4gC/yhqv6wLrWvAW4nrJlJ0NDUGOlm\nbnjoo3Dy5doe8/xr4Bc/VdtjVkgUj34G+FlVvRa4DniTiLwW+CjwqKpuAB51viMiVwK3AVcBbwK+\nKCLJelS+FhjpxtAaGOnGEJ8oc8YqMO587XD+KfAWoNdZ/3WgD/hTZ/09qjoDHBSRfcCNwDO1rHit\nMJ2xhpbAePRzQ4M973oRSaMXkaSIbAEGgEdU9VmgR1VPOLucBHqc5TXAUU/xY866psSEVxpaAqPR\nG6og0shYVc0C14nIcuA7InJ1wXYVkYpspYjcDtwO0NPTQ19fXyXFfYyPj8cu3398BoBnnnmGcxe0\nf990NddqPtIs1+uGsTFELZ5vgrqUo1muWVSWLVvG2NhYQ+vwrne9i6effpqhoSHWrFnDxz/+cd7x\njnf49pmeno59XStKgaCqIyLyGLb2fkpEVqvqCRFZje3tA/QDF3qKrXXWFR7rTuBOgI0bN2pvb2+M\n6tv09fURt/wPh7fC0aO85jWv5cIVC2PXoVWo5lrNR5rmeu1aBGo1R13K0DTXLCI7d+5kyZIlDa3D\nXXfdVbYO3d3dvOpVr4p1/LIurIic53jyiMgC4OeBXcADwDud3d4JuNOWPwDcJiJdIrIe2ABsilW7\nOSAn3RjtxtDMqBrpxhCbKB79auDrTuRMArhXVb8nIs8A94rIe4DDwFsBVHW7iNwL7AAywPsd6acp\nMVE3htbARN0Y4hMl6mYrUPS+oKpDwBtDytwB3FF17eYAE3VjaAlM1I2hCtq/97EMJurG0BoYj76e\naJNf22rrN+8NvUlTbGgJTHhl3eju7mZoaKhpjb2qMjQ0RHd3d+xjmIlHjHRj8DJ9FrZ9G254F4g0\nujZ5jHRTN9auXcuxY8c4ffp0w+owPT1d0pB3d3ezdu3a2Mef94Y+f++Ym8gA7H4IvvdhuOyNsPyi\nRtfGg5Fu6kVHRwfr169vaB36+vpih05GYd5LN7k5Y809ZADIpu1PK9PYehRipBtDFRhD784Z28A6\n/PG9W/jXZw41sAaGPE06sGKupJu7fhke/FD9z2OYU+a9oW+Gztif7B/ixaMjDTu/wYPrNTeboZ8r\n6ebQk/DCXfU/j2FOmfeGvhmkG/VWxNBYcg2hyX4Q0xlrqAJj6LXxUTeWqgnvbBqaVbqxmq9OhpbB\nGPrcZ+NuIlXjqzUNOemm2To+TdSNIT7z3tA3gwNnqZnKsGloWukm95+hDnzuR7t5Zv9Qo6tRN+Z9\nHL3VBNINaNOOypt35HJiNJlHb8Ir68pXnjrI+EyWn750ZaOrUhfmvUffDNkrLfNW3kQ0wSteIKaR\n1BNbPm3f62sMfROkQFDVtm5kLUWzavQm6qauWKpt/Rw1hr4JsldaClaT2ZV5S7Nq9MajryuqzZ/B\nshqMoXc/G/gjG4++iWhaj95o9PXEDnFudC3qhzH0joFv5I+sJuqmiWhSjd5IN3XFanNnK8qcsReK\nyGMiskNEtovIh5z1fyki/SKyxfn3S54yHxORfSKyW0RurecfUC35+7mBHj3NZ1fmLfM9BcI8RWlv\nZytKeGUG+IiqbhaRJcALIvKIs+3zqvpZ784iciVwG3AVcAHwYxG5vFnnjW2KFAhqwiubhmbV6I10\nUzfU6Yht51uwrEevqidUdbOzPAbsBNaUKPIW4B5VnVHVg8A+4MZaVLYeNEP2SsuMjG0ijHQz38gF\nZDTbb15DKtLoRWQd9kThzzqrPigiW0XkayJyjrNuDXDUU+wYpR8MDaUpPHpMrpumoVk7YzHeQL1o\njkGT9SXyyFgRWQz8B/BhVR0VkS8Bn8Rufp8E/hfw7gqOdztwO0BPTw99fX0VVNvP+Ph47PKDQ9MA\nbH7xRSYPJ2PXoRoyWYuhoeGqrkFUqrlW84GLDh/gEmDzi5sZPTDVNNfrpvQsohZP1bkuvc5no+7H\nRpBxxPnjJ07Q1zfckDrU+5pFMvQi0oFt5L+hqt8GUNVTnu1fBr7nfO0HLvQUX+us86GqdwJ3Amzc\nuFF7e3tjVN+mr6+PuOW/uv9ZGBzk2muvq2j48+D4DH9631Y+99brWLawI9a5XRKPPMQ5K1bQ21t/\nhauaazUvePw5OAjXX3ctXPy65rlez6RAs/WvS5/90aj7sRHMZLLwo4fpOf98enuvbUgd6n3NokTd\nCPBVYKeqfs6zfrVnt18DtjnLDwC3iUiXiKwHNgCbalfl+lBpaNX246M8umuAPQNjVZ/bMp2xTUST\navQm6qZuuJe1neXTKB79TcDbgZdFZIuz7uPA20TkOuw74xDw+wCqul1E7gV2YEfsvL9ZI24gfpBF\nLfPYm/DKJqJZNXrTGVs3cga+jS9vWUOvqk8BErDpByXK3AHcUUW95oxcrptKy9XQCzATjzQRdQ6v\nHJ1Os6AjSUeywrGKJryybjTDdKL1Zt6PjHVzzFT6I7v716JxtHsMb0tRZ4/+l77wJF976mCMkqaR\n1Iv8vdzgitSReW/o42avrJXjpzV8YBhqQXyNfnQ6zecf2UO2hMUYGJ3h9NhMjGoZ6aZezAPlxhj6\nuD9yrbyA+dDIWooqPPqn9w7yhUf3sudUeAd9VpVsnIe6kW7qxnxwtoyhdz8rlm7cz+oaR36wRvs2\nspaiile1KG0iaylWLO/ASDf1wor/k7cM897QE9ujrk3qhGYYmWvwEv8Vq9wIS9fAx/PojXRTL2rZ\n39astJWhz1rKL//jk/xo+8nIZeJ61LX26Nu5kbUUVUg35X7LbFVyn/Ho68V8SIHQVoY+nbXY1j/K\n3oHxyGXietS1klyMRt9k1KCXPaxJuJ20saQbtaqq07whm4Zd36+oyHwYMNVWhj7nUVVwI8Ud+JTP\neFdZubDjtHNoV0tRR4/eXV8qKie8XjVqcO3Ovh/DPb8Ng3sjF5kPzlabGXr/ZxTi+m81i7pp2iH3\n85wYv0d+TEbw9mw1Gr1pJ9FIT9mfmenIReZDQERbGfp8bvnoP1hcrb1Wr3vGo28yqvDoy0VwWXEn\nr/IWMCGWpYnx+xmNvsWI49ETV7qJOdCqECvGw8lQR6oKrywdiZWNK934Glkd20k7WboK/haj0bcY\nGuMVTAOWopD3zqr06AuOZ2gw1Xj0ZfqI4ks3Xo/eGPqSVOPR16M+TUJbGfo4MkzcPq6aafRuu6zu\nMIaaEV8LL/dGGSdYoLgu9WwpbdAKY0zuPh/k0zYz9JUb39jZKwvKxyUvAbVxK2slqpBu8k5DaY++\nYonA653WU6NvB/2/Ko2+fe/BtjL0cbzzuNkrtUYevRWjzoY6UoPwylCN3pVuKj60kW4iE8vQO0Xa\n4M8Po80MfXyNvnLpxn/OuMyHhEqtRfy7vtxvGXsU9Jx1xs5Pj34+3INtZejjafTxpJtapS7IPTCq\nOoqhZkTUeDcfOcMVf/4QQ+P5lMPlNPq8R9+k0k07tMIY0pvx6AERuVBEHhORHSKyXUQ+5KxfISKP\niMhe5/McT5mPicg+EdktIrfW8w/wUk0HaaWeec1GxtL+3kRLEdFQHDszxXTaYmhi1lO0Th69kW6i\nE8ejnwf3YBSPPgN8RFWvBF4LvF9ErgQ+CjyqqhuAR53vONtuA64C3gR8UUSS9ah8IblQxRg97hWf\nqxYa/cgROg486hywiuMYakdEQ+H+/l7vvFy622zM/iAj3VRAHI1+HkS+lTX0qnpCVTc7y2PATmAN\n8Bbg685uXwd+1Vl+C3CPqs6o6kFgH3BjrSsehBu2VlFnbEwvqybZK5/7Csu+//tAezey1iLaq1pQ\nuymbvTKudDNXHv2cnaeOmKibQCrS6EVkHfAq4FmgR1VPOJtOAj3O8hrgqKfYMWdd3SkX3hZYpqBs\n9HPVQFzPpsHKAO392thS5H7X0oYiKJ1BuXjsfBx9pXVqQHhlq7bHiL9fYJEW/ZOjkIq6o4gsBv4D\n+LCqjopIbpuqqohUdJlE5HbgdoCenh76+voqKe5jfHycvr4+Tk3YP+7R/n76+gYjlZ2YmARg586d\n9I3ui3zOPYfSdrldu+ib2F9hjW0uO3qE1Vnb0E9OTlV1DaLiXitDMFecOMH5wK5dOzl5ti/0eu04\nZv/+zz3/PIN7bWVy30F73daXX6ZjYGdRmQNnswCcGRmp6DdIpce52Vl+6umnyHQsjVy2Erznebzv\nMTQRT3FtZBtbc2wPG4CXXtrCmaPR/Fj3dxk5e7Zh9a73NYtk6EWkA9vIf0NVv+2sPiUiq1X1hIis\nBgac9f3AhZ7ia511PlT1TuBOgI0bN2pvb2+8vwDo6+ujt7eXA6fH4cnHWb36Anp7r4lUdsELfTAx\nwSuueCW9N6yNfM59Tx6AXTvZcPkr6H3NRfEqPvl93Heiru5uqrkGUXGvlSGE4bvhFFzxisu54vre\n0Os18NxR2LaVV11/A9dduByAXbIfdu/iqquupvfq84vKLD1yBp75LxYvXUpv703R6zR1Bp62F29+\n3U2waGWcv6w8k8O587zhZ14Pqc5Yh2loG/vJTtgH117zU7AhWh2WHx2BZ55mSaW/Sw2p9zWLEnUj\nwFeBnar6Oc+mB4B3OsvvBO73rL9NRLpEZD2wAdhUuyqHk++MrbxQXH2uqpGxngmf2/m1sbWoTKP3\nd8aW1nrdPqSqUiDMVYepZufmPLWmCo2+nVMgRPHobwLeDrwsIlucdR8HPgXcKyLvAQ4DbwVQ1e0i\nci+wAzti5/2qc9Nq8jdYJTG0lXfgestV1Th8hr6NW1krEbENBQ2YK6fRx05q1oiom1aNwKliwFQ7\ne1tlDb2qPgVIyOY3hpS5A7ijinrFIhcJU0Ebzd/W8aJuqjLQaiFojLMb6kZEQxH0oC83H0I2bmds\nI+Lo55Ghj5XevMVos5GxlYdKxn2Y18QJcBqjoCbqpmmI9sMGDY4qm72yleLo55Oht0o/oNuB9jL0\nZaZyCyJu9sqapEBwGmMCbee3xtYiskfvfkbX6ONPPNKAFAgta+jjyLfOZ4v+yVFoK0MfJ+VvfI++\nFhq9XTiBtvVrY0sRsSEExcSXG0RnxdXo50y6aYc4+vgpEFr0L45Eexn6GGOYtMzNWfZcNfHoLdq7\nmbUQVXj05aalzMYYuV1cwGj0JalqwFT73oNtZejjafRxpRu3fIUFfSf3avRVHMdQQ+qn0Te9dDNf\nNfpayLBNTpsZev+nj9lJeOHrRTdw7lvFuW5qrdG3byNrKaKmQAjw3su1iZx00xK5blrd0Feu0bfz\nLdhmhr7Ejbb3R/DgH8KQP81B3JQ1lXf5BB3EbpRJLOPRNwsVxtEHefTlOmNN1E0dMR59IG1l6Etq\nbdm08znrW53vwK30XLXz6AXLePTNQoVx9F7vvFxbij1nrImjr4AY7nlMZ6+VaDNDX+JGC7mB46Yb\njjuiNqhOJryymYiq0dufVoANLpe9suI5Y41GH52q0hTXo0LNQVsZ+pJGO6QBVD9gqkYaffyjGGpJ\nVOkmF0GjRevC89FTcnv5Os0h1nzKdeMUaWNL32aG3r3RAja66XaKGnB1UTe1i6Nv30bWdAzttzM1\nBlFxeGXxunJJzZq2M3aee/Tt3E/WloY+8EYL6Y2P65nXRKN3Hjq2Rh//MIYK+cZvweOfDtkY7RUv\nqAOv3MCbmnTG1lW6mavonjpSRVKzdn6vbitDT4CXld8WIt1Ud6qaafTGo59DZsZgdix4W4VzxvoM\nvdv+QlzDXGdsNWmKTdRNaaoYMGVSILQIJV+dXcmmIGNy7DljAzTaijEafWPQbPhdXVV4ZWkJINcZ\n26xRN20RRx/t9/PSzpKNS5sZ+lIafW07Y2uj0edTILRzR1DT4ZkHIHAbRJduAtLDlJscvPI5Y+fK\no28HQ2/i6INoU0MfpNEHv9LFTYGQ12Or9+hFTHjlnGJZRW92eaJq9O5nsUcfRuw4ehNeGZ1YI2NN\neGVLUdI7d2/sEI0+bv9YbTx6I93MKSU9+mgab9CYjbLZK410U182fRkG99jLcTT6Nrb0UeaM/ZqI\nDIjINs+6vxSRfhHZ4vz7Jc+2j4nIPhHZLSK31qviQbjmsmQcfWF4pXtfVzzDVA1e9zzSTTs3sqZD\ns+Fx4pE1+mKjXS51ddbjbFYk1ZnO2PKowg/+BA485nw3aYq9RPHo7wLeFLD+86p6nfPvBwAiciVw\nG3CVU+aLIpKsVWXLYZV6awsdGRvvtS1Gn0/oQczI2DkmkkZfeZricp6hd31FsfRzJt20sEdf5MBV\nMsOUU6SNb8Kyhl5VnwBCRpcU8RbgHlWdUdWDwD7gxirqVxElvexc1I1/W166aZxHLzEmTDFUgZUt\nYQiiavTF3ns5p8Fr3L3lJmcz3Px3/8kz+4dK1ylCvaqilSceKfw9Y2j07Rx9U41G/0ER2epIO+c4\n69YARz37HHPWzQkl043mPDX/k785om7avzOoqYii0Zd5VQsaaFc2e6XP0OeXz0ymOXZmigOD42Xq\nVL5e1dHCHn1h57qZeMRHKma5LwGfxG4ZnwT+F/DuSg4gIrcDtwP09PTQ19cXsyowPj5OX18fL5/M\nAHBmZKToeBcd3s8lwMtbX2LoeFdufTZrN5ADBw/S19cf+Zz9x2cAOHL0KH19A7Hq/aqzZ1iGO8MU\nPNbXRzIhsY4VFfdazWfeoBZDg6fZFnAd3N/k8OFDHOzrC71eR4/Zv//uPXvpmzkEwImT9rr9Bw7S\nlyhuSwcO5TOn9j3+BN0p+7c+PWn//rt276Fv6mBRucVj+9noLL/w/POMLT0b8S+tjCWju7nBWd68\n+XlG90/EOk4j2lgyM8XrPd/379/H0XS0Ouw8ame2nU2nG3Zv1PuaxTL0qnrKXRaRLwPfc772Axd6\ndl3rrAs6xp3AnQAbN27U3t7eOFUBoK+vj97eXiZfPgFbNrNk6VJ6e2/y7/T4JjgI11x9FVyRP5f8\n+CGwLNatW09v74bI53xocCscO8qaNWvp7b0qXsX3LoHRvEf/M294Ax3J+gZCuddq3qIKfcq55ywP\nvg77lsIoXHzhhVzc2xt6vX488jIcOcKll15G783rAbj/1BY43s/F69bR23t5UZlN07tg/34AXnfz\nzSzt7gDg0OAEPNHHZZdtoPd164rrdHwZvGAv3nD99bD2huJ9asHRRbDZXrz+umvh4tfFOkxD2tj0\nKDyV/3rp+nVc+vpodTix6Qhsf5lkMtWwe6Pe1yyWVRGR1Z6vvwa4ETkPALeJSJeIrAc2AJuqq2J0\nIg2YsoKlm/hpimsRdVMDvd8QjXKdrVV0xpbV6L0dt1bx+tAOWhN1U54qpJv5EEdf1qMXkbuBXuBc\nETkGfALoFZHrsFvdIeD3AVR1u4jcC+wAMsD7VUNHptScnEYatDE010280KpaavTiSDft3NCahpBU\nGDkia/TFD+eo2SvBb/TLpTeek87YQ0/B/R/wnKfFDH3hcOOKOmOdIjWsTrNR1tCr6tsCVn+1xP53\nAHdUU6m4aCkvu0wKhEpvoFqOjDWdsXNIZI++TNRNLre8Z13EOHp7udjoR/LoYxpgVeXj33mZ37zh\nQm64+JziHQ4+AWc8/QOtZuiL6hv9ZqpJJtomp61GxkYLrwwZGVvhuWozMtYunKjFQ8MQjdy8BLUK\nr/QaYYrXBZQpXM6nRgirUvXSzUzG4u5NR3l632DwDlXEoTcF1Ug3uQSFtaxQc9FWhj5nfIN+41CP\nPt6PXFuN3nKOGf9QhojUWKP3p0AoLQOGhVfmsy5kYCLIEFcv3QTNces/RYsb+moGTMXsp2sl2srQ\nx5lKMO6PHDf+PqhOZsDUHFJWoy9aCN4twHCWG0SXDfDivcuXnPoRfOFamJ0sOFn1naSZcv0AVQw4\nagqK6l9JCgT/ZzvSZoa+xE8VluvG3RzzXLXJdVPm1d1QO8p67PGlm5ID9vB3xnrfOt0HwILZQZgd\nh/RUQZWql27KdvjWSrpR5eJD34TR4/HKx6WqAVPt72i1laEv2akScINrwOtz9HPhnKuyckF1SuSM\nSxXHMkSjzAO/mjlj89JhiEdfJupGQt82qpduXI8+G/p8i+8R+xg7yfpD/w67H4pXPi5FD6pKom6M\nRt9SlDS+gYbes7lCK6u1iJRxDb24Gn0bt7RmoaxGH+1FPqiPptzcBj7jHiDjaNgE9jXw6Mvmwq+V\nR29lqisfl8K/y2j0PtrK0Jf8wQKibnx7VdoZ6814d/8H4Ht/VNkBPHXJafSVH8FQKTXqjA0aaFdO\nzvNLNwHefa5RlTC6MQ1oNufRx+uM/aUvPMk9m46UP1HYw6re1GLAVC3r02TEzXXTlJR8BQtIalbJ\n7EBh57JU4fQuSHaVKRFeJzMydg4JCbPNU5lG75VCymn0mVDpxv6UUCNZvXRT1tAXnrPg++5TYxwY\njJD7xi3nevZzRRVvJN7AClVFpL75phpBW3n00QZMBevyFWv03k8rGx7FUfIg9lGSZmRs/Tj8DIx4\nEqrWLLwyQLop2BZWBkL0+jCNfi6kmzIecdbSaDn0y0U11Ysqooaq6atrFdrK0JdMSxAwlaBXl6/0\n9/XNJlRqxqKSBylMgdCmrayR3Pc/4Jl/yn8vJy1E1ujdzwCNPqSo11D64u9zrwIhg7lqGF4Z7tGH\nn9MqV9bNyCUMAAAgAElEQVRXrhWlG0+xGlWn2WgrQx8p6sbTAKvx6H03esnJpktQmAKh8iMYypGe\n8ocr1kyj9zzoHcrG0YelQHCjbkLmTPBLNyWrFUrlHn3xG0ckabFRHn0puatc0Sok3FahrQx96YlH\n3I3BN3DFUTe542HrkXE0SaPR1x8teAiHdXjmC/g+wgjMXhmQ/8ZfJkSjz7Wl+kbdLGaSd+//MJw5\nFFC5cI/YfUhkKvLo5zrqJn54aFCIbLvRZoa+hMEM6IQLGoYe/VyeY2g2XsMuSIHQro2soVgZvxGr\nsUbvjZ7Jh9yGefTeh0IJQ1+HOPqspVwsp9gw8QKceKl4hxKGMvc2kLXg5MulT9Q0Gn0F96Px6FsL\nb+958cZiT84v3VT2A/seKrE7Y014Zd2xCvpPynmcWrQQfNiA/qCyI2MDRtFCXtJJhEWs+BpqzPBK\n1Vynf6B+XkLjdt8+Lh7fAv9yM5zeE36icgPS6kUNct2UZXLY/teCtGV4ZeSRsd7NMc+pNeiMzUk3\nJgdC7dGCh3CNUiAE9QeVS3cbpMuDR8YJ7YythXRjkaJER2kJQ+m2y+6MM4XhdImpDBvm0VcfR1+4\nXMT9HwAU3nZ3hZVrPO3l0TufkaNuqpJuPJ1xllUTjd5QBwr7T8omNYsg3WRmefvwP7KSs8EpECJE\n3fi1/Uo6Y+O1lUzW69EHtNUI0o1GMeLusec6jn4uNPop49E3BSVTB+deKcM8+gqlG+/IWCsDiRjP\nTKee+TTFxuDXFCtARqhFCoRdD/ILEw8y3nGGTfq3+dOVan/O9s5kgtmsFRJ1E9YZW4ORsaokpURH\ndITOWIkyGKpRnbFV5LrRqB69lWnZjrSy1klEviYiAyKyzbNuhYg8IiJ7nc9zPNs+JiL7RGS3iNxa\nr4oHETQsPb8xQLoJGNUY+VxeXb3Kzth8muLKD2EoQc67rHFnrHO8JFaBl+4UDSmWtZSOpDj7Fks3\noR59jaJukpQw1BE0+kgx8k0j3VRg6EOWi4gbXdcERHFD7wLeVLDuo8CjqroBeNT5johcCdwGXOWU\n+aKIJGtW2zLkZooJ3mh/hg2YqibqpsrOWBNeWSeColjKdhZG0Og13878r/1lNHqFjlSiaJ/iAVP1\nibop2RkbwaOPJMs0bMBUwXWpRLrxRk6VKmZl5v4BViPKGnpVfQIoFKbeAnzdWf468Kue9feo6oyq\nHgT2ATfWqK5lybXHIPe8TNRNpZ5S8cjYajR6K0YNDGWxAoxOTcIrXUMvISkQgktlshYdSfuW8w2e\nynn09U2BEDfqpnwuHg9lxynUiRpF3ZSUcC1r7h9gNSJuZ2yPqp5wlk8CPc7yGsCTWIRjzro5oWTq\n4HJRN5VKNznHT4tD+CIfxDH0UlrbNcQkyAMtl9QsikbvlLWQirJXnhqdYfWybqCwY9b+zEk3dUiB\n4DP0FWr0mcK+jlJGvCVTIBT/FsE7tq50U3VnrKqqiFRsoUTkduB2gJ6eHvr6+mLXYXx8nL6+Pg4e\nnAUgnckUHe+aodOsBI4cPswBZ9vobL7ax0+coK8veo/6yFl7WP3w8DDZ9CxWVnm6wr/hZ6wsCfIa\n/bObnuPY4voGQrnXaj6QSo9yM3DmzBAvOX/zspHtvArIZGZ5KuA63DQ7QwdwemCA7X19gdfr/BM7\nuQIA4eSpU7nto6N2mxgYGCgqM5tVBsdnuGSxbShe3raN7sFdAOw+nLb3mbbLb926heH+/K157ult\nXO0sb9++ndOnz6FSXjqZyWn0+/bu5ti0v37XnRlmuef7vr17cvscH7eN5uTEKADbtm5h8MSCwPOc\ne/olrgZOHO9n9xy2s3NPb81dI4BTp06yM+L5jx6byS0/9fTTLO0Mzl5548QYoGyqw99V7/syrqE/\nJSKrVfWEiKwGBpz1/cCFnv3WOuuKUNU7gTsBNm7cqL29vTGrAn19ffT29vLC7G7Yvw9JJCk63tEv\nwDBcdOEaLnK2nR6bgf/8MQA9PefT23tt5HP+/fanYWSEZcvPITkDyWSi+JzleNyNurE/N258Na84\nf0llx6gQ91rNC8YH4Gk4Z+mS/N98MAFbICUSfB2eTUEGzjt3Jb29vcHX68VjsNuWblaet4re3usB\nWLjlCRgb49xzz6O39wZfkf2nx+GRx9l4xTo2ndzPK6+8kt6fugCAA08dhJ076O60z/1TV10JV3jO\nuX0EttuLV135Srg6oN5lGHvpOAe3Pg7AZevXcdnNBcfYvwQ84fGXXXoJl73O3mf3yTF46gkWLeiG\nGbj6yivgqpA67DgL22F1zypWz2U781wjgJ5V59ET8fyPjmyDI4cB+Omffh3nLQlJOf5SJ6jW5f6p\n930Z1318AHins/xO4H7P+ttEpEtE1gMbgE3VVTE6+QkEooZXFuurUfF1vFlxNXrbw8pr9Ea6qSlV\nafQROmM1WG4Lkm6OnbG99YtWLASCY+rDo2680k28NmKpkqoyjl6CopiKTtSoOPoq8tH7gjJKafQx\nJdomoKxHLyJ3A73AuSJyDPgE8CngXhF5D3AYeCuAqm4XkXuBHUAGeL/q3PXKlExTHKTNVhHMkFNy\nFSeOvsLgIs8J8yNjKzuEoQxBnZtlB0wVLYTupIjvN/MNoivg2JlJAC5audC3L3gMaejI1eqjbjJZ\nzTkUgUawVHhluTh/L43qjK0m6sbXGVtqx9aNoy9r6FX1bSGb3hiy/x3AHdVUKi6+DtLQjTUaMOV6\ndXbYTeVPek898rluWrMRNS1B3mWZLKbRwivdN7DCztjgohMzGf7tJ0dIJoTVy2xt2/uAcKNuEvWM\no1clJSXi6EuFV5Z74/CVa1BnbFUzTBW/XYWfozXv0fZKgVDCoyobXlnh75e7UUMzDpbB0xBN9so6\nkZNuAqJWqsxeCRTF0YeNjL170xF2nhjl0vMW5QZMBWWyzHvMJc5dRRx9Im5SsyLppoQs04IDpnzN\no02jbtrK0JdOalYs3VQz4YC7d+51W63KbkKfoS8RFmqIT9CQ/YLc9P+1f5C/e3iXZ3uU8MrgOHoU\nrpN9/PbgF3w/5sikHVXzrT94HSknVYZv/thcnHoUjd5efmrvIJ96aBdRyVhlNPoSidTyfQhNnAKh\nqlw3FXj0LarRt5mhtz9jxdFXeC4tbPxQWSMIMPRmZGyNKTUy1ll+ZMcp7nr6UPH2kikQbEOnFE8g\n8s3OT/LG8QchO5tbPzmbZVFnkmULOkg5Hn3GYwhz0k2Yxx3w6vm7X32Wf3l8f3gdC6vs9eiDvO0S\nD5dMthKNvkEefTW5bqIWi5ultgloM0Nfovc8YOh7LbJX+t/74hl6MSNj60NQ1E1BbvpMVn1GN5JG\nnzP0iaJ89BLgNU+lMyzotLvDUgnH0GeL22royNhadMZaGj9Nca4PIYKhb/EBU0a6aQG04KbzkfM0\ngn/Uyj16+zOhAaMuIx3AePR1J7Az1u/RZyyLdFY9U0NG8OizthSjFHfk5VJOO/uA7dEv7LSjslJJ\nV7oJimoJ8+jDR8ZGHU1tWeXSFBec01OHXH9CFOmmBVMg+O1AmQe8MfSNp2TveZkbOO4MU+I9XiWN\nwGj09SegX6Yw1DLteNbZIt2v1A3vGnop8gbdCCqfR+819K5HHzDxSGh2yRJRA+lstEaT8WWvjODR\nW/kHVbbQo2/KfPQh93sEKkqBoNmWvFHbytAHRUDk0AKvZMu/kxg5WLQ5Ku7+Po0+pnSTN/St14Ca\nmsB89F73zSLj9ITmDG8kj96VbqQgYkNJutlAPB79VDrLgkJD7zHQxROPOJ+bvmyP7i0h3aS92dEG\n98LWe4uq+8LhYR7bNUAy4CGUP27B35vN7+PWL9HUnbE1SmoWdg8GRW61EG1m6EtobV7vThW++z4W\n7czfFJXGsOeibgqiOKIfIH8+o9HXiVJJzcDW6J27PG8wo2j0thEXtKAztngf8Es3yZyh90o39mfC\n63GPD8AP/gR23F/Go/e0uRfuggc/VFTd3/jSM2w6NJz36AM7Ywvarqf+mYoGTDVJZ2wFd5NG8eh9\nbaj15Js2M/T55WJD7/GWsmlAfZERsTtja+jRmzlja0zZqBvNedbZIo++xG/heOtJrHC50GMMJmez\nLOiwDb2I0JEUn3QTmAIh4yTays6W1OhnM96RV7P5cgFEzkef7PS9kRR79M3YGRs/vNL/U4d59DH7\n4pqEtjL03h8pVKO3sjkDLzUw9DXV6CurgqEcgZ2xfo3e7RQt1rrLR90kscKHz2e9Gn0+6gZsr94f\nR+8YUorbqP0Z7sHMZgsMfYnZzpJSwgh7r0uyK1Cjz3cWN2FnbDUDpqJ49L52Yzz6hhKUdySH16N3\nG7HnB6tYuslF3VQfR+/O5Wkk+hpTamSss+wa+IxVMOAtgkefkmx4SG+hdNORz4XUkUj4JJfAFAhu\n28wW5lcp0RnrPlw85/ZSMurG59F3+B5U+QdRBFmmBVMgRAqvNNJN81DyyexNauY2Yu/raezO2BrG\n0RtLX1uCRpoGhFeC0zkadYKPnEefLYqjzxHSGQuQTEpgCoS8R2/ly1vpIrnJi0+jdw18toyhLzdg\nKlXg0VfSGduwFAjVRN14l8Okm5A21CK0maH3fAnV6NUj3eQbc3zppnYjY42ZrzFROmOzns7YqMmP\nHCOYwvL1q3iNxPHhsdyyN7wSIJVI+Dzx3IAkr8ccVbop1Oi9nwWU1ug9x0l2+B4WRR59JI2+daJu\ntEJDr9k0zx0abinHrK0Mfek4ek/nqeXxlvI7VHgu+zPh0+jNgKmmolQ+emfZ1cqzVgUevfNGmMAK\nfe3/7MP2LBizGfscXkPfkZTgqBtvP5Lleess8QDya/TFkqSXkiNjizR6T3hlJSNjGxVHX00KhAql\nm0e2H+e3/uUZ/mNz4JxKTUl7GXrPcrGh90o3xa+48T36kI6+cpgBU/XHvTm9g1wKHsyuwbU9bL/n\n/A+P7uW5k0F6tuvRF0o3+S+zM7ZXPTVrt4nCztigiUd8uWhy3nmBDFMo3WQCDH2IR5+IqtGnunzH\nyCVdK1W+8DhzLt3Ej7qpVKM/NmS/rR0emoh8jkZT9ZyxzURJjb4ovBLE49FXamOLJnSG2B69ewMZ\nj77GFGrzkizTGevf9s3njrK2O8CohYRXqgLiFrf3mUzb5Rd4O2OTCdJlo27CNHq/AfN1xpbR6FNR\nNfqC8MqsI8Mk1bL/vpIDpkrIQ/WkVgOmwiyB9/jOG507JqIVaCuPvuQIt4DwSn9nbKVG1vHo8RqT\nSgx9/nxGo68TVsBDuEDGcY1sOqtFEslMxiIT9KM4hs726EPkQqdtTToevV+jL5BuAj16j3deUrrx\nGqDShj6yR5/s9O3jXqOSA64Kj9PoAVO1ToHgS4boGHppHUNflUcvIoeAMSALZFR1o4isAL4JrAMO\nAW9V1TPVVTMavlewoo0e6cZpxD6PvmLpxv6sba4bY+prSlFIXGexR5+Luin26NNZi0yQvXAMaQLL\nJ8F4fz63beWlG0/UTUEcfWDUTc47z1C6M7b44RIWXhmq0WuBbJXqhPR0/rC5/qhm7oyNL934ioV2\nxnpCsZ2HdGKeefS3qOp1qrrR+f5R4FFV3QA86nyfG0r1ngdIN/44+soo6qCCyhq3mWGq/gSNWi4c\nMOUbGes3qG5HahGeqJuwiA11Xu+n0sUefUcyUdAZ63rMAR59WemmgvBKCZFVCo1istP3sLAK69eM\nKRCKDH30mymaR+/ti3M641vIo6+HdPMW4OvO8teBX63DOQKJrtE74ZWWd2RswC+854dw6KnAc+Wi\nbvDehHE1ejfqJnpxQzGqyleePMDAmOONBg1yKYy6cTtjrWLpZjZrkS7h0SeLBkzld0loBsvSYOkm\nJAWCL+omonSTLhwZ66lfIa6h1sI3z0LDnez0DZhy65p/UERJatY6uW78/lmU8EpXo498ioZTbVUV\n+LGIvCAitzvrelT1hLN8Euip8hyR8Rn6QqsZMDJWykkt//nX8NTnS56rpnH0xqWvilOjM/z193fy\nw20n7RVWwNtWwUQxbqdooXSjjn4fKN34NHrP4TxGIkWW2ayVk266UoUafYnOWG8IcFnpxmvoy42M\nDZNuCr4nUn6PXgs0+qZMgVCbqJsoGr273EoefbVRNzerar+IrAIeERHfJJaqqiISeOmcB8PtAD09\nPfT19cWuxPj4OH19fQyczuuKz/zkJ+xfmH+O3ZyZJQWcHTnDkS2buQaYGj+b2z40PFxUh1ePDpOe\nstgSULe0E02RSc/kIi22vPgCI4eCb7JCFo0f5NXOsnuDv7xtG52no88DGgf3WrUjpybs67ht1176\nZg5xQf8uLne2Pf30k6Q7l3Pxof2sd9Y9//xzTE+vBmDL1pfpOjbNzc628bFxAGYz2aLrdf2ZIZZi\ne8iTU1O57V69PiVZHnv8CV4asI3C1hdfYHCv3R7HR6fIKrlyp4fsdut63Mf7jzE2uoBXAMOnT3Im\ns5dLnePuP7Cfo5l8fbbv2k3f5AEAbhw/y0Jgy+bnGDloe/de58E9/tjoCJs9f1MyM8Xrvddx6AxL\nxkfZ5Oyzb799LDdq5/TpU2wPaUNXnDjG+UB6dpqn57Cdbeg/yhrP94nxMZ6LeP4zI1O55c2bX2Ti\nULJon6Vnd3K9s3x64ARwKbv37qMveyR2nb3U+76sytCrar/zOSAi3wFuBE6JyGpVPSEiq4GBkLJ3\nAncCbNy4UXt7e2PXo6+vj97eXv7t8HMwYJ/uNa95DRevXJTf6ekEZGHZksVcc+UVsA0WdnXkNi9f\nfg69va/1H3hLAhZ1E1S35H8+DNksXckEriN23U9dDZdG/DtOnAPP24uuR3/VVVfRe/XqaOVj4l6r\ndmT3yTF48gkuvHgdvb0b4Cc7Ya+97abX3ghLL4DHnrFDBICN178KXhiEdIZXvPJKbr6sG562ty1c\nuACGwSJRfL12L4Qx23B2dnbltssPH8zt0kGWG1/7OsZ2DcDWrbz+da/lwhULAfjq/mcZn8nQ23tT\n7juDgzmP+YKeVXDBetgDK5YvYcUll4Bty7l0/ToufX0vPPx9ANZdchm9NzuPri0pmILrrr4KNth1\nSmct+OFDQN5QL164wP83TZ8Fj0LZc/4amD2c2+fF9B7YtzfnkJy34pzwNjT0b3DKzuczp+1s9Ntw\nPP91UeHfWIJ/2vlfyMgZVOHa667jtZesLN7pcCe8aC+uWnkOnIALL15vt7MaUO/7MrZ0IyKLRGSJ\nuwz8ArANeAB4p7PbO4H7q61kVPwdYwUbfVE3xdJNoGqSmQlN++oeP0GAPBCpsq2r0Z88O82zB4Ya\nXY0iZjJZ5zOg0zCok9Cy/J2xAQnKAjX6kFw3Kc/guST27FVuXbo68rdamHSTEq9040lqFnXikQDp\nxnue0PDKIo0+5Z94xDlnKpJ006jO2CpSIJAPlYwyYCqbsZdnA3W95qQajb4HeEpEXgI2Ad9X1YeB\nTwE/LyJ7gZ9zvs8JoTHNEBh14+uMDeqEyUzb/0qcqxZJzVptZOxXnzrA7f/6QqOrUYRrVHOGPjDq\npjAFgmdkrFejd8MuA+5lzeajbtx2oKp0kjcGHWSZzVjMpAM0+mRB9kpL86NOoWCsR5k4+rBcN6qw\n54fMpvNG3zXUWs4oJjoImngkUtRNw/LRh9zvEbBUc6GSUcIrM46h9z1km5zY0o2qHgCuDVg/BLyx\nmkrFJdKAKU/oWjUevbu7L+qmojj6Yk+rVUbGjk1nGJtOo6pIE3VIzTjut2tcA5OZhcwwZUffeD16\n19CHh1d6PXpLoROvUc0wm7VyD53uAo++MAVCsjB6q0T2Sm+gQWh45alt8O9vRX797tzmXFvNFhjh\nwKibUuGVTejRV5HrZiZt0ZVKMJuxSnTG5q9zJmM/UGfmiUffdJQOr3QboEbLXqla0qM/T4f4Rscd\nrPCOBYsbdeP0V7eGmYfptG3gok5MPVcUSzcBI2M91z2bzeZ+93RIUrPAkbEBKRAsVTo8Hn3K9eid\nunR6YvFSyUTRxCPJIo/eGxPvl268ZQOTmmXTMDViH8r5tOsUEhFT+D0ke2V+ZGwJA9eCKRAGxmbo\nWdptF4sww1QrevRtZehD543wbQgZGVv4A7uvwSEe/ZUc5Kbkdl6hhzzHri6OvlXCK91BQO5ns1Ak\n3ZSJo896Y8UL0hRH0ujFyqUvsFTpFL90k85azGSydKUSvjefjoQUTDwSMB7D6537moXm5CaAdNjI\n2LQdSWLNTuY2J8Li4AuNckF4pfs3VuTRUzguoc7EHDCVyVoMTcxwvmPoowyYsuaZRt90eI21VWjc\nvcu5AVMlPHrXkw/x6Lux1y8ifyPFj6NvrZGx04USSZOQ9+gD5IMAjT7rkTDC0hRnrIAHcE6jz+Zk\nDS2QbpLiGHpHFvBSlL2yyKO3CvR2v3TjfZPK5bpR9TwcZiFtt0uvoQ9PgRDRo69kwFTQeepJzFw3\ng+OzqJL36CNp9Pa1MR59gwidSrAw+qJAo09IgGySm5x5JtACL8Devph8DO58yUfftB597gFUIurG\ns87r0RemKfbe8EUSlUejz2U/VoI7YzMWXR3+uGy7M9Yv3RR59LkImsKoG8uXPiHn0XuNbzaT8+g1\nnTf0+RQLBYY6qDMWzV2rXFRQlIlHGjXlXkzp5tSo7bCtXuYa+vLHt7KuoW+N+xXazdCH5ZUu9NRc\nA6/2TZRMSPGT3OvJF8g3qsoCbI/L59HPk6ibmWY19CWlmyCP3tPBFiLdQIEODjkj7I26sQqibtyR\nsa504yWVEJ/8UtQZa3mkm9F+6PtbZ4MA6nsbyHmV3rQHVjrn0eus19CHJBwr/J5M+Y5pFUk3EXLd\nwNx2yMaMunENfc+ychp9sYNgOmMbRFiCqTDpBmzPS0SKtTmvcc9M+TZZCgsdj34RngfCPMlH7xr4\n6UABu3G4ks10utioByU1s7wefYkZptKFN7SV74zNR92EdMYGSDeppJAtmEow6fPaswROHiIJW7oJ\n6oz17p+dzXn0uU/InaMo9UdRCoQO399Z1BkbJR89NFa6iRjaMDBm38erXY0+rEkHxNEb6aZBhEbd\nFGq1Hu8nRSZYuvHcIIEevdgGfnEtPfropRtKTrqZbS6PPtd3ELEzNuPR6H3hlY5BdSn26L3hlfnf\nrlPy7aqDjDNgyhk97Xmo2BOP+OPoE0VRNwHGVKRIupkN+ls90g3pAI++ULopCq/s8P2dRXH0Ye3c\nO6m5p/ycEFO6GRidJiFw3pIuu1jYjgFJzWbT2bmPLopJWxl6f6BNmEevvgbYQcZOTlQk3Xg9en+H\nrNejX+LT6OPlo0+66YBaxNK7BnW66aSbgs7YwJGxHsnE+zru9egLZqLyRVdY2VyUlG/AlIXPo09i\nMZvNMpOx+IVsH3zuivwDoiiOnoI4eivYo3ekG682nA716B0D7/PoA8JOIcCjd6Qbpz1HjqO/711w\nbFP++2cugdk5mm4vZlKzgbEZVi7uys0WFT45uMejdwz9fxv7Jnzppsrr2gDaytCHe/SFGr3X0GdJ\nigR0xoZr9JZqztAvFq+hr+BVzjdgqrU6Y6dnCySSJmGm0KMPirrxauOZgs7YXO7ppM9R8GmxM6MA\nTGiXk6bYOZYqXd7OWMmSzigzaYt1ehQmTsOUPebCDq/U3DmyluYjWsCv0XtQ503DF17pGv0ijd4v\n3Xzq169h1SK7U1gq9OjdU5TtjD29u3jdeGCqq9oTM+pmZDLNOQs7cpkoo6RAcDPWXpA+AoO7K7vv\nG0SbGfr8PI4+j75w4IxPo8+QSEhAeGW4Rw+wQALi6yuRbjwNM9lqA6YyDe6MPfwM9G8uWp3rjE0H\neJ5BcfTe0Y6WpzNWkkCIR+8MQDrDEsejz/evLBXbe53VJCkyzDidsUtdeW/azpaacgZPuV59cNRN\ngOyRk26CNPoCycTx6MXpX3rl6qWkEo5Gr/6O53IaffEMWCG/+/TZaOvqQUzp5uxUmmULOnCHOYSG\nV3qO5z7wFmTH7fWz4xVXd65pK0OvqrnkRCU9eo/+mZIsCQnwpst49G7UjX9D5Rq9RSLXSVbKo997\naozNR+ZkRsaSpLP5CbUbZuj/z5vgy7cUrS6Wbgpi06GgMza/7AuvTCR9htDX6eYYrmFdAoCorcMr\nsAzb0A+xjBRZ0k545RIcQ+A8JFxnxNW+LdV8QjO7YoGG3nUH3HIiMDkbkIM+m/foE85nKinhcycU\nRd24Hr2TitvZnion3XhG4eaYDlhXD4qibqIVG51Os7Tb49GH7Wj5ZTmARTpmr5irv7EK2srQW6rB\nWlvO0EugdJOQII9+OngZV6MPGEgVQ6PPSjKfAqFE4/y7h3fzP+/bGv34dcIr1zQk6qbERao0qVnW\nY+x8E49IwpesztcZ69zUw7oUsL27MxNpLFWWyzgZTXBWF9lx9E6um8WWo1M7D4mOpN/QZy2ly3sn\naoh0g92X5HbGnre4izMTAdMHesIrE1nb0HcmE/5pL8OWIW/oc1E3dmRYIteXFPCAz8wURad5/+a6\nE1O6KfToo2j0SbJ0dyRYVPC7NjNtZehV7Rhldzm/wWkEyY6i0LUOMkigRj8TvIwbdVOldJPz6JP5\nKd5KGLGBselczG8j8Rr3hmj046dCNxVp9EHSjZV1pBl/eGXGm6a4MOomE+DRY3v0SbIMT9ijK5cz\nzgiLSZPMe/TpLIvU8eidh0QqYd92rsG2VOlMRPHo7bbtvlH1LO1maMId2Bfi0Wdcjz6B+Lz4gDEG\nLq5049wnxXH+AQ5NmLEL8vLrQUzpZnQqzdIFHSRy0k3Ijp5rlMLi/KXdLFb/m1oz01aG3lJIJgM0\nevdHT6TwTQ6O0xmbCDCyZT36AEMfIx+95fXoS+w+ODbD2HSm4R2gfo++hnV57ivw0J+W3+/Mofxy\nwW/mSjZZy/F6w6JuHI/VG3WT8UbdJCJo9I50k8JieGLW8egnOKuLyJDyDJiyWGC5BsGW3pbNHue+\nzqLdYEcAABJrSURBVL8kOzaQq2930tunVMLQO1McAqxa0sV02pmuMEy6cdpuR1KKUyHnDlxauglM\nulZImKEv4+2+fOwsb7vzJ9W3pRhRN5aljM1kWLqgA3eauHCPPl+/BBY9S7tZjPHoG0JZjT7RERhe\nmQxKtVvOo/cYenU8xDgefZZkXqMPyaikqgyO297V0ERQ2N3c4b0haxpHv/278NLd5fcbPuipjP8G\n80bHzGQs2/MUp4nnOmOzOY/VCo2jT/qeurMlNPoEFsOTtke/rMCjzxn67Liv7AVnNrMxsYdEv53T\n31Jw5w7XRPFbp4ulYA+YsuuzyhnkMzQxExBeaRuhpCPddCQT/oFS3uXQ8Mr8gKnORMGDqJCYhv7x\nPQM8c2CIfQNVdmjGkG7GZjL27xbJo/f3612wNJUfLGkM/dzinUAgMNdNMlUUupZypJvSnbF+j14V\nFnqlm6TjEcTQ6C1JlB0wNTqdyRmbwbHgbJpzhbcDtiadsad22G9CZ4/aN0y5m8br0U/6Z7kqMvRq\nQdIeCJOfj0BzQ/y9Hn1heKX31/BLNyOoJBnFnhYwRZbh8ZmcRj+ii8lokpS4uW4yLMj6O+2WTDtz\n3p09imUpU+ksCx1DbyU7nTZa3JYsEoDmom5WOYN8hidmCzT6/ICpVNZuu6mEIGoxox3+6wHlwyst\nZYHzxmElOoLbeZh8Uaajst+Zr7V/JEDfr4QY0s3olP33Le1O5bKLelMgHB2eZHzGk3NIElgkSWFx\n4QLP9TadsXOL5dHoAztjg6QbyZJIBDzJSw6Y8nv0SNI2DhVF3TgdcSQ9cfTBuw6OzwQuNwK/Rl9l\nZ+zALvjST8P2b8PZY/a6kaOlywztyy8XGfqsf9nK2pNogF+6cT16xzNOurlnPAOmfJ2xBRq91bWU\nDLZlTonl0egnGGERGZJ0kGE6bZHMzpB049adh9ji6RMAJM4eoX9kitmMxdpznJGZZT36/MjYVUtD\nDL0nBULOo08lEM0wg38wVO6aeClMgaBeQ98Z/OYaZuzKPLiPnZnyfcamSDYtH3Zz1jH0Xo/ePYxl\nKW/556f57A+dsQFq9+1YkmBhCpaLZ0T8fPboReRNIrJbRPaJyEfrdR4v6om6Uf8G+9Nr6FMLgPzI\n2MoGTOE39ImE87ofrzM2H3UT3Di9XnyjDf1UTI1+fCbDn3zrJb/n5o6i3PHdvOEZOVL6QCe2wJIL\n7OWJQd+mGc+DZybtSDcp19B7OmOTfulmQUfS8ZLddmJ7zq6i55NupkbIdi3LGfqVCxIMT9oa/TIZ\n56wudgx9lomZTC7k0i0LsGjK9uiTo0fZd9qWLNat8Bj6EI3eAry5bnqW2NLN8MRs/i01tcAXR5/U\nDCkydCQSoBazuEY8JNQSijR6y1K6nDeObKLTvpaFbTXM0JfpqMwb+smS+5Ulhkaf8+gXdCD47caB\nwQmGJ2Z54bAT0mxlIJEiS5JFHeQ72GH+dsaKSBL4Z+AXgSuBt4nIlfU4lxd/1E2YR+9IN535V++k\nhGSvTNk3ki/vDaDZWTrFc3PE8ug94ZVl8tG7+nzhciNwdflkQiqSbh7edpL7XjjGPZs8hvz4Fvtz\n54P5dWdLePTTo7ZHf5kzU+Wk39BPezJFTmey9m+dk268Hn3KWbTXdXckAz36xV32fkUefecyLLXP\nc86CpO3RZ9IslSlbuiFJR8JibDrN0gDPb9FkPwDJsWPsO2UbjIvc7InJLrwZVr1kLMiqlRvoFejR\ndy7MSzdO/0Q3s3ZnrJVhNtCjL6PRq9KddByTQims4G8rooS3a1mal26q9ujLpF4OYHQ679EXhldu\n67frvevkaP7tMJEiS8Ix9J4HeAt49LHnjC3DjcA+Z15ZROQe4C3AjlqeZHpqgqETh5gY7qf/wHbO\nne2nsyOBJVOMH99Hf6dtCFIjB+kBu5PMypKeGiORXEAKuECGSHOS2XSW/gPbc8dePnyC7o7FJDPT\njA4eY8yz7ezIGVYBZ2UJy3QMK5tBSDA5MsBZz36lWDhwlHOAjCbpZpaL5BTZoS76DxQ3+IHDp7hI\nTiHA6HGh/0B8r969VnEZPT7ERXKKc7o76BqdpP/AwkjlfvL8Xi6SYV58aZT+y+yb8tzDz9JVsN/Y\n4S2Mnhdcv85TL3EecPr8n+E8/pWzx3Yyvjy/74qZflZ2C8MTs5w6tIt1E2dJSgcdwMjAUSYObGfl\n5ChJknQA6dFTXCQrOT/ZxZLJTgaOCauAtNoRKq/oHGRgZoaZgS76D9g39rlnTzCZXEbG8ZFe0TnE\n8aEkIwftm32ERaRJsohZUmcPc7k4klSyy06DMLSf7qmT9qqzRzh+cAfXLjzDeWq/QaZJkkxPglr4\ns9hDVoXjJ08yldrHRXKKc2ePc0ligNHjSYZnDrECyCQXkJ0YoSs9SbZ7BcnpYTZIP8mRgwjKrHaA\nwKnDu8icsR8y3ScPs9JznuNjGS4Aho8fYKpzO8unjrE4cRqAWTpYAPTvfznv+QNLTx5gcaLDN5kP\nQHpsgIGQ9jYymeb87AkQmBkYo//AgsD9ypE6e4RVg3tIn7OBzjN7c+v792+DEnMaDx09bbflmX6Y\ngYvkFLOn99F/YJQ9O49wkZwCC57fvJlrR06zQBJkVFmZmIBp22Gxkl2kzxyja/hA7m+amK2grw7o\nWrg0xl9dGVKP6etE5DeBN6nqe53vbwdeo6ofCNp/48aN+vzzz1d8nj2bH+fyB94cef8XrA3ckLAb\nwmbrMq5P7Cu5/35rNefJWb9X5mFv6nI2ZPZwWpehCKuk8lc4b53mI0es87jIMSIHrPO5JHGy5P6W\nCq+e+SKPdX0k9Hfx8qJ1GdfK/vxgH2CLdSnXyIF8MrkCnrcuZ2NiT+gxv5O9iYeyN3Jn5+eLtr1v\n9g+5JbGF30o94d+w+lo48VLu6x5rDZcn+kue+7Qu4zzJe4vH9VwukMGiMl5etC7jVU673mJdwnWJ\nA77tUdr9zTNf4KmuDwVuK1X+mJ7LWk/9RnQRy2VukpqN6CI+nH4/d3V+mmntoFuKpa9qOaErUOAC\nGc6t22at4+rEoaqO+8KSWxi74cP09vZWXFZEXlDVjWX3a5ShF5HbgdsBenp6brjnnnsqPs/MxFmm\njzxHJpMmlbK9izWLEwxOWcwUvI1mpJMjC65k/eRWBIvDC65i1ewRljPGuQsS9I8Xv+oNdF1Myppl\nRfpE8ckTHXStvZaZY1sYTK1GsFg5W3zjlmIiuYzhzgu4XnYzlVHGZ8N/i6WdQkdSGJqqrgPUe63i\nsjAlLO0STk5Er0tC7N/m+LiVS5KlCAcXXstFU9uZSC1nKrGE82cOlDzOaGolRxZezQXTe1gx6/9d\nxDnHqUkLV1Xq776cpZlBlmTyN+fx7g0syQyzJDPEwhQs7Urk/pZ0oouj3a9k/eRLrFoojE7OMIP/\neh1ecDWZzmX8XHIzMzMzHHevQ7KTjotey8T4CGsmtnF60iIpsGbFEqaWXcY5Z+yRzRlSPJm5ktXj\nW0lolvMXJVjSCXvGuznUcRnrJ18G4MDCa1md7eeCtevoTp/l5Og06vRhLEwJa5ckOD1lcWbavqBu\ne7pwaieWJDm04BountrOio4MPYsSWAhPWddw7ug2Uuo3hNPJxZzsuoQOa5oznau5dGJzPloIWL0o\nwdBskl0dV7Fu6mX/KFuHwc4LyUqKoexC1sgAwx0XsH5yK6U6RjsS0LPIvv+qMUX93ZdzpnM1a6Z2\nMdS5hksntvjHDYSwuEO4YLH9dnZszGLSMwdvz8IEY7OaWzfUuQYkwbWd/XQkYOfkMgaTq9iQ2c2F\nS+z3L+/vERVZtIrEiktYvHhxReUAbrnlloYa+p8G/lJVb3W+fwxAVf82aP+4Hr1LX19frKfhfMRc\nq8ow16tyzDWrnLjXLKpHX6+om+eADSKyXkQ6gduAB+p0LoPBYDCUoC6dsaqaEZEPAD8EksDXVDV+\nD6DBYDAYYlOvqBtU9QfAD+p1fIPBYDBEo61GxhoMBoOhGGPoDQaDoc0xht5gMBjaHGPoDQaDoc2p\nSxx9xZUQOQ0cruIQ5wKlhwwaXMy1qgxzvSrHXLPKiXvNLlbV88rt1BSGvlpE5PkogwYM5lpVirle\nlWOuWeXU+5oZ6cZgMBjaHGPoDQaDoc1pF0N/Z6Mr0EKYa1UZ5npVjrlmlVPXa9YWGr3BYDAYwmkX\nj95gMBgMIbSEoRcpMU2MoQhzvSpDROJNbWQwRKTR92RTG3qxSahHXxKRpq5zI3Hm6kWNHhcZZ66E\nPxGRwlkNDSVotOFqFZrFhjWt0XQvjqpaIvJKEXmPiHSrRpj1d56iak/7IyJvFJHPi8iKRtepWRER\nN3PrU8AbgCsaWJ2WQEQ6ROQNYDsT7jU0Rj+YZrJhTd0ZKyLdwG8DfwBMAi8B31DVTSIixnPNNSbL\n8eYXA18BjgEPqeqPGlu71kBEPgV0AX+hqmPl9p+PuPebiHwV2A8sB8ZU9ZMNrlpT0yw2rGk8+sLX\nGcdw/SPwYVW9EfhF4CzwiyKyZL4beY9MY4lIUlWzqnoWuBG4SFV/JCLVTQ7bpjiv06tE5BMi8hrg\nM8B1wOsaXLWmw70vPffbJuCvgSXApxtVr2akmW1Y0xh693VGRDaIyHJHhrgXWCcia1R1Cnga25P4\n+QZWtSnwyDQfAB4Ukf/pdCr+BvAmZ5+0ea0GEfmciPyZs3yec4ONAD3Az6rqEHAP8E4RWdXAqjYV\njgPh3pc/KyLvw85J9S1gXFVnjDORp5ltWEMNvXMD/rmzfLmI3Is9cOBfReRGVX0EuBv4C6fIk0A/\n8AsickFDKt0gROQWEVnv+X6ZiHwduBb4e+fz09ivhg+IyL84uzbNw7yBfAf4IxF5BfDPIvJzqjqL\nfRNeKiK3qur/BhYC/82j3887ROQiEblVRJY63xMi8s/A54Ejqvow8HvAb4jIa1U17Sk775yKlrFh\nqtqwf8DrgSFsbfmLwHud9X3AE0AnsB54Hnits+3VwC2NrHcDrtMK4LhzTd7jrPsVbM3vF5zvrwT+\nCvgdZ/9Z4BWNrnuj/wEJ5/Nu4NvAfwf+f8/2Tzhtr9O5po8Dqxpd70ZcJ+DvgIPOdfquc22WYPf3\nuPulnM8/Bx5w7t0PAR2N/hsadN1awoY1zNtzOhGfxL6xPquq7wNeFJH/Al4EFgB/qKoHgQexGyGq\n+pyqPtaoejeILLAZ21j9noj8Lna0yP8GbgNQ1Z2AAOtVdRj4AvCqxlS3qXB10PcDPwtYwFkReYez\n/sfYBv4dqvqg8zkw99VsOO8FLgUuU9VfBz7irPt/gH0istor06jdCTsE/Ah4DZCabx59K9mwhkXd\neHrxV2J7ET8F/DJwnqp+QkT+APgscBVwGrhQVXc3pLINxHOd/hXYiu0p/B62Vvo48MfA3ar6LRH5\nR2BQVf+qYRVuQjyRSZ/ANup/AvwT9tvP72Jr9Z9V1a3O/vMqosuRqr4J3KmqPxSRRao6ISL/HVty\neB74gqpudva/CTgKnARWqOrJRtW9kbSSDWuYR+9coITaHWH/ANwHZIBuR4u+GHgWWKSqk6q6e755\nDAV8G/v1+DlgG/Bh4O3AHuDzInI3diz43ZDXS+f5NQPynWTOA/A87M6wz2K/9cyq6jtcI+/sN2+M\nPICqZrClvg3Oqiln/TeBAeB64F0i8jci8n+AvwGWqersfDXy0Fo2rKEddZ4b8M+wtcBXY0dDPIPt\nmb5RVXd49p9XNyD4/uZFwHUi8k3g94H/F1iFrRH2A9tU9edVdY+33Hy8ZkF4Qt/+FPgbVb0Lu3/j\n/yvYPu9wjM/jwAYnKskSkSXO5sewO7O/BkwDO1X1Dar6coOq21S0ig1r+IApz2v1rwOfUtXLReQc\nVT3jbE+qE0o4nxGR5cAB7MEWH3TWXYLtxS8GPgi82b1uhmI8be3HwL+o6n1OrLM13x+ITkTSB4D9\nqvr3nvXfBL6kqn3u9WtYJZuUVrBhDfdinAuUUNVvA0dE5LdU9YyIJB0NbN4beYezwF3YkQ5u4zmg\nqj/A9sbuAjJGqgnH46lOYD80UXug2bw28gCOdvwD4G0i8hci8mYReRhYii0PYox8MK1gw5oiXrjg\nBtzvrGv4xWlCLsXW/wobz4CqfrVRlWoxNmKPNXip0RVpNlT1IRE5C/wM8D+A76g9vsBQhma3YQ2X\nblxE5BbgFuCvmukCNRMissIJnTTEZL5F1MTFXKfKaWY