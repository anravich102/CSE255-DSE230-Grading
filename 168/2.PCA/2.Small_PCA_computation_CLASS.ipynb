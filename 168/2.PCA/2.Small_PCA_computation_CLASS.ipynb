{
 "cells": [
  {
   "cell_type": "markdown",
   "metadata": {
    "run_control": {
     "frozen": false,
     "read_only": false
    },
    "slideshow": {
     "slide_type": "slide"
    }
   },
   "source": [
    "## Computing PCA using RDDs"
   ]
  },
  {
   "cell_type": "markdown",
   "metadata": {
    "run_control": {
     "frozen": false,
     "read_only": false
    },
    "slideshow": {
     "slide_type": "subslide"
    }
   },
   "source": [
    "##  PCA\n",
    "\n",
    "The vectors that we want to analyze have length, or dimension, of 365, corresponding to the number of \n",
    "days in a year.\n",
    "\n",
    "We will perform [Principle component analysis (PCA)](https://en.wikipedia.org/wiki/Principal_component_analysis)\n",
    "on these vectors. There are two steps to this process:\n",
    "\n",
    "1. Computing the covariance matrix: this is a  simple computation. However, it takes a long time to compute and it benefits from using an RDD because it involves all of the input vectors.\n",
    "2. Computing the eigenvector decomposition. this is a more complex computation, but it takes a fraction of a second because the size to the covariance matrix is $365 \\times 365$, which is quite small. We do it on the head node usin `linalg`"
   ]
  },
  {
   "cell_type": "markdown",
   "metadata": {
    "run_control": {
     "frozen": false,
     "read_only": false
    },
    "slideshow": {
     "slide_type": "subslide"
    }
   },
   "source": [
    "### Computing the covariance matrix\n",
    "Suppose that the data vectors are the column vectors denoted $x$ then the covariance matrix is defined to be\n",
    "$$\n",
    "E(x x^T)-E(x)E(x)^T\n",
    "$$\n",
    "\n",
    "Where $x x^T$ is the **outer product** of $x$ with itself.\n",
    "\n",
    "If the data that we have is $x_1,x_2,x_n$ then the estimates we use are:\n",
    "$$\n",
    "\\hat{E}(x x^T) = \\frac{1}{n} \\sum_{i=1}^n x_i x_i^T,\\;\\;\\;\\;\\;\n",
    "\\hat{E}(x) = \\frac{1}{n} \\sum_{i=1}^n x_i\n",
    "$$"
   ]
  },
  {
   "cell_type": "markdown",
   "metadata": {
    "run_control": {
     "frozen": false,
     "read_only": false
    },
    "slideshow": {
     "slide_type": "slide"
    }
   },
   "source": [
    "### The effect of  `nan`s in arithmetic operations\n",
    "* We use an RDD of numpy arrays, instead of Dataframes.\n",
    "* Why? Because numpy treats `nan` entries correctly:\n",
    "  * In numpy `5+nan=5` while in dataframes `5+nan=nan`\n",
    "\n",
    "### Performing Cov matrix on vectors with NaNs\n",
    "As it happens, we often get vectors $x$ in which some, but not all, of the entries are `nan`. \n",
    "Suppose that we want to compute the mean of the elements of $x$. If we use `np.mean` we will get the result `nan`. A useful alternative is to use `np.nanmean` which removes the `nan` elements and takes the mean of the rest.\n",
    "\n",
    "import numpy as np\n",
    "X=np.array([1,1,1,2])\n",
    "print 'mean of',X,'=',np.mean(X)\n",
    "print 'nanmean of',X,'=',np.nanmean(X)\n",
    "X=np.array([1,1,np.NaN,2])\n",
    "print 'mean of',X,'=',np.mean(X)\n",
    "print 'nanmean of',X,'=',np.nanmean(X)\n",
    "\n",
    "#### When should you not use `np.nanmean` ?\n",
    "Using `n.nanmean` is equivalent to assuming that choice of which elements to remove is independent of the values of the elements. \n",
    "* Example of bad case: suppose the larger elements have a higher probability of being `nan`. In that case `np.nanmean` will under-estimate the mean\n",
    "\n",
    "#### Computing the covariance  when there are `nan`s\n",
    "The covariance is a mean of outer products.\n",
    "\n",
    "If the data that we have is $x_1,x_2,x_n$ then the estimates we use are:\n",
    "$$\n",
    "\\hat{E}(x x^T) = \\frac{1}{n} \\sum_{i=1}^n x_i x_i^T,\\;\\;\\;\\;\\;\n",
    "\\hat{E}(x) = \\frac{1}{n} \\sum_{i=1}^n x_i\n",
    "$$\n",
    "\n",
    "x1=np.array([1,np.NaN,3,4,5])\n",
    "x2=np.array([2,3,4,np.NaN,6])\n",
    "stacked=np.array([np.outer(x1,x1),np.outer(x2,x2)])\n",
    "stacked\n",
    "\n",
    "np.nanmean(stacked,axis=0)"
   ]
  },
  {
   "cell_type": "code",
   "execution_count": 1,
   "metadata": {
    "collapsed": true,
    "run_control": {
     "frozen": false,
     "read_only": false
    },
    "slideshow": {
     "slide_type": "skip"
    }
   },
   "outputs": [],
   "source": [
    "import findspark\n",
    "findspark.init()\n",
    "from pyspark import SparkContext\n",
    "\n",
    "#sc.stop()\n",
    "sc = SparkContext(master=\"local[3]\",pyFiles=['lib/numpy_pack.py','lib/spark_PCA.py','lib/computeStats.py'])\n",
    "\n",
    "from pyspark.sql import *\n",
    "sqlContext = SQLContext(sc)"
   ]
  },
  {
   "cell_type": "code",
   "execution_count": 2,
   "metadata": {
    "collapsed": true,
    "run_control": {
     "frozen": false,
     "read_only": false
    },
    "slideshow": {
     "slide_type": "skip"
    }
   },
   "outputs": [],
   "source": [
    "import sys\n",
    "sys.path.append('./lib')\n",
    "\n",
    "import numpy as np\n",
    "from numpy_pack import packArray,unpackArray\n",
    "from spark_PCA import computeCov\n",
    "from computeStats import computeOverAllDist, STAT_Descriptions"
   ]
  },
  {
   "cell_type": "markdown",
   "metadata": {
    "run_control": {
     "frozen": false,
     "read_only": false
    },
    "slideshow": {
     "slide_type": "slide"
    }
   },
   "source": [
    "### Climate data\n",
    "\n",
    "The data we will use here comes from [NOAA](https://www.ncdc.noaa.gov/). Specifically, it was downloaded from This [FTP site](ftp://ftp.ncdc.noaa.gov/pub/data/ghcn/daily/).\n",
    "\n",
    "There is a large variety of measurements from all over the world, from 1870 will 2012.\n",
    "in the directory `../../Data/Weather` you will find the following useful files:\n",
    "\n",
    "* data-source.txt: the source of the data\n",
    "* ghcnd-readme.txt: A description of the content and format of the data\n",
    "* ghcnd-stations.txt: A table describing the Meteorological stations.\n",
    "\n"
   ]
  },
  {
   "cell_type": "markdown",
   "metadata": {
    "run_control": {
     "frozen": false,
     "read_only": false
    },
    "slideshow": {
     "slide_type": "subslide"
    }
   },
   "source": [
    "### Data cleaning\n",
    "\n",
    "* Most measurements exists only for a tiny fraction of the stations and years. We therefor restrict our use to the following measurements:\n",
    "```python\n",
    "['TMAX', 'SNOW', 'SNWD', 'TMIN', 'PRCP', 'TOBS']\n",
    "```\n",
    "\n",
    "* 8 We consider only measurement-years that have at most 50 `NaN` entries\n",
    "\n",
    "* We consider only measurements in the continential USA\n",
    "\n",
    "* We partition the stations into 256 geographical rectangles, indexed from BBBBBBBB to SSSSSSSS. And each containing about 12,000 station,year pairs."
   ]
  },
  {
   "cell_type": "code",
   "execution_count": 3,
   "metadata": {
    "run_control": {
     "frozen": false,
     "read_only": false
    },
    "scrolled": true,
    "slideshow": {
     "slide_type": "subslide"
    }
   },
   "outputs": [
    {
     "name": "stdout",
     "output_type": "stream",
     "text": [
      "curl https://mas-dse-open.s3.amazonaws.com/Weather/small/US_Weather_SSSSBSSB.csv.gz > ../../Data/Weather/US_Weather_SSSSBSSB.csv.gz\n",
      "  % Total    % Received % Xferd  Average Speed   Time    Time     Time  Current\n",
      "                                 Dload  Upload   Total   Spent    Left  Speed\n",
      "100 2651k  100 2651k    0     0  1078k      0  0:00:02  0:00:02 --:--:-- 1081k\n",
      "-rw-rw-r-- 1 vgudavar vgudavar 2.6M May 13 15:11 ../../Data/Weather/US_Weather_SSSSBSSB.csv.gz\n"
     ]
    }
   ],
   "source": [
    "#file_index='BBBSBBBB'\n",
    "file_index='SSSSBSSB'\n",
    "data_dir='../../Data/Weather'\n",
    "\n",
    "filebase='US_Weather_%s'%file_index\n",
    "!rm -rf $data_dir/$filebase*\n",
    "\n",
    "c_filename=filebase+'.csv.gz'\n",
    "u_filename=filebase+'.csv'\n",
    "\n",
    "command=\"curl https://mas-dse-open.s3.amazonaws.com/Weather/small/%s > %s/%s\"%(c_filename,data_dir,c_filename)\n",
    "print command\n",
    "!$command\n",
    "!ls -lh $data_dir/$c_filename"
   ]
  },
  {
   "cell_type": "code",
   "execution_count": 4,
   "metadata": {
    "run_control": {
     "frozen": false,
     "read_only": false
    },
    "scrolled": true,
    "slideshow": {
     "slide_type": "subslide"
    }
   },
   "outputs": [
    {
     "data": {
      "text/plain": [
       "12791"
      ]
     },
     "execution_count": 4,
     "metadata": {},
     "output_type": "execute_result"
    }
   ],
   "source": [
    "#unzip\n",
    "!gunzip -c $data_dir/$c_filename > $data_dir/$u_filename\n",
    "import pickle\n",
    "List=pickle.load(open(data_dir+'/'+u_filename,'rb'))\n",
    "len(List)"
   ]
  },
  {
   "cell_type": "code",
   "execution_count": 5,
   "metadata": {
    "run_control": {
     "frozen": false,
     "read_only": false
    },
    "slideshow": {
     "slide_type": "subslide"
    }
   },
   "outputs": [
    {
     "name": "stdout",
     "output_type": "stream",
     "text": [
      "12791\n",
      "+---------+--------+---------+-----------+-----------+------+--------------------+------+--------+\n",
      "|elevation|latitude|longitude|measurement|    station|undefs|              vector|  year|   label|\n",
      "+---------+--------+---------+-----------+-----------+------+--------------------+------+--------+\n",
      "|    938.8| 32.1794|-110.7364|       TMAX|USC00027398|    10|[B0 58 10 5A 40 5...|2010.0|SSSSBSSB|\n",
      "|    938.8| 32.1794|-110.7364|       TMAX|USC00027398|    16|[00 53 80 54 08 5...|2011.0|SSSSBSSB|\n",
      "|    938.8| 32.1794|-110.7364|       TMAX|USC00027398|    32|[A0 5B D0 5B 48 5...|2012.0|SSSSBSSB|\n",
      "|    938.8| 32.1794|-110.7364|       TMIN|USC00027398|    16|[00 4F 80 51 00 5...|2010.0|SSSSBSSB|\n",
      "|    938.8| 32.1794|-110.7364|       TMIN|USC00027398|    19|[40 D2 40 D2 40 D...|2011.0|SSSSBSSB|\n",
      "+---------+--------+---------+-----------+-----------+------+--------------------+------+--------+\n",
      "only showing top 5 rows\n",
      "\n"
     ]
    }
   ],
   "source": [
    "df=sqlContext.createDataFrame(List)\n",
    "print df.count()\n",
    "df.show(5)"
   ]
  },
  {
   "cell_type": "code",
   "execution_count": 6,
   "metadata": {
    "collapsed": true,
    "run_control": {
     "frozen": false,
     "read_only": false
    },
    "slideshow": {
     "slide_type": "subslide"
    }
   },
   "outputs": [],
   "source": [
    "#store dataframe as parquet file\n",
    "outfilename=data_dir+'/'+filebase+'.parquet'\n",
    "!rm -rf $outfilename\n",
    "df.write.save(outfilename)"
   ]
  },
  {
   "cell_type": "code",
   "execution_count": 7,
   "metadata": {
    "run_control": {
     "frozen": false,
     "read_only": false
    },
    "slideshow": {
     "slide_type": "subslide"
    }
   },
   "outputs": [
    {
     "name": "stdout",
     "output_type": "stream",
     "text": [
      "12M\t../../Data/Weather/US_Weather_SSSSBSSB.csv\r\n",
      "2.6M\t../../Data/Weather/US_Weather_SSSSBSSB.csv.gz\r\n",
      "3.2M\t../../Data/Weather/US_Weather_SSSSBSSB.parquet\r\n"
     ]
    }
   ],
   "source": [
    "# Compare file sizes\n",
    "!du -sh $data_dir/$filebase*"
   ]
  },
  {
   "cell_type": "code",
   "execution_count": 8,
   "metadata": {
    "run_control": {
     "frozen": false,
     "read_only": false
    }
   },
   "outputs": [
    {
     "name": "stdout",
     "output_type": "stream",
     "text": [
      "Number of executors= 3\n",
      "took 0.00438094139099 seconds\n"
     ]
    }
   ],
   "source": [
    "from time import time\n",
    "t=time()\n",
    "\n",
    "N=sc.defaultParallelism\n",
    "print 'Number of executors=',N\n",
    "print 'took',time()-t,'seconds'"
   ]
  },
  {
   "cell_type": "code",
   "execution_count": 9,
   "metadata": {
    "collapsed": true,
    "run_control": {
     "frozen": false,
     "read_only": false
    }
   },
   "outputs": [],
   "source": [
    "measurements=['TMAX', 'SNOW', 'SNWD', 'TMIN', 'PRCP', 'TOBS']"
   ]
  },
  {
   "cell_type": "code",
   "execution_count": 10,
   "metadata": {
    "collapsed": true,
    "run_control": {
     "frozen": false,
     "read_only": false
    }
   },
   "outputs": [],
   "source": [
    "sqlContext.registerDataFrameAsTable(df,'weather') #using older sqlContext instead of newer (V2.0) sparkSession"
   ]
  },
  {
   "cell_type": "code",
   "execution_count": 11,
   "metadata": {
    "run_control": {
     "frozen": false,
     "read_only": false
    }
   },
   "outputs": [
    {
     "name": "stdout",
     "output_type": "stream",
     "text": [
      "SELECT * FROM weather\n",
      "\tWHERE measurement = 'TMAX'\n",
      "shape of E= (365,) shape of NE= (365,)\n",
      "time for TMAX is 18.8375082016\n",
      "SELECT * FROM weather\n",
      "\tWHERE measurement = 'SNOW'\n",
      "shape of E= (365,) shape of NE= (365,)\n",
      "time for SNOW is 20.6732439995\n",
      "SELECT * FROM weather\n",
      "\tWHERE measurement = 'SNWD'\n",
      "shape of E= (365,) shape of NE= (365,)\n",
      "time for SNWD is 19.5941150188\n",
      "SELECT * FROM weather\n",
      "\tWHERE measurement = 'TMIN'\n",
      "shape of E= (365,) shape of NE= (365,)\n",
      "time for TMIN is 20.6692690849\n",
      "SELECT * FROM weather\n",
      "\tWHERE measurement = 'PRCP'\n",
      "shape of E= (365,) shape of NE= (365,)\n",
      "time for PRCP is 27.4990310669\n",
      "SELECT * FROM weather\n",
      "\tWHERE measurement = 'TOBS'\n",
      "shape of E= (365,) shape of NE= (365,)\n",
      "time for TOBS is 13.7411539555\n"
     ]
    }
   ],
   "source": [
    "from numpy import linalg as LA\n",
    "STAT={}  # dictionary storing the statistics for each measurement\n",
    "Clean_Tables={}\n",
    "\n",
    "for meas in measurements:\n",
    "    t=time()\n",
    "    Query=\"SELECT * FROM weather\\n\\tWHERE measurement = '%s'\"%(meas)\n",
    "    print Query\n",
    "    df = sqlContext.sql(Query)\n",
    "    data=df.rdd.map(lambda row: unpackArray(row['vector'],np.float16))\n",
    "    #get very basic statistics\n",
    "    STAT[meas]=computeOverAllDist(data)   # Compute the statistics \n",
    "\n",
    "    # compute covariance matrix\n",
    "    OUT=computeCov(data)\n",
    "\n",
    "    #find PCA decomposition\n",
    "    eigval,eigvec=LA.eig(OUT['Cov'])\n",
    "\n",
    "    # collect all of the statistics in STAT[meas]\n",
    "    STAT[meas]['eigval']=eigval\n",
    "    STAT[meas]['eigvec']=eigvec\n",
    "    STAT[meas].update(OUT)\n",
    "\n",
    "    print 'time for',meas,'is',time()-t"
   ]
  },
  {
   "cell_type": "code",
   "execution_count": 12,
   "metadata": {
    "collapsed": true,
    "run_control": {
     "frozen": false,
     "read_only": false
    }
   },
   "outputs": [],
   "source": [
    "from pickle import dump\n",
    "filename=data_dir+'/STAT_%s.pickle'%file_index\n",
    "dump((STAT,STAT_Descriptions),open(filename,'wb'))\n"
   ]
  },
  {
   "cell_type": "code",
   "execution_count": 19,
   "metadata": {},
   "outputs": [
    {
     "name": "stdout",
     "output_type": "stream",
     "text": [
      "[  2.66013805e+05   2.04028211e+04   1.57246413e+04   1.40558567e+04\n",
      "   1.14831160e+04   1.06299464e+04   9.77966918e+03   9.51736026e+03\n",
      "   9.26299339e+03   8.35120130e+03   8.14201600e+03   7.99091124e+03\n",
      "   7.56376658e+03   7.19846044e+03   6.99935538e+03   6.72590700e+03\n",
      "   6.51633378e+03   6.40468113e+03   5.88399012e+03   5.59867928e+03\n",
      "   5.50988355e+03   5.48600065e+03   5.31444260e+03   5.17091959e+03\n",
      "   5.01093527e+03   4.70672949e+03   4.60904486e+03   4.50293106e+03\n",
      "   4.43374349e+03   4.35682982e+03   4.23847401e+03   4.02196345e+03\n",
      "   3.83140667e+03   3.71784578e+03   3.67468603e+03   3.55092758e+03\n",
      "   3.49621087e+03   3.37749258e+03   3.22505076e+03   3.15581342e+03\n",
      "   3.02660887e+03   2.98308652e+03   2.88089275e+03   2.85302553e+03\n",
      "   2.83569457e+03   2.73299683e+03   2.61458769e+03   2.69762297e+03\n",
      "   2.55341955e+03  -7.79474658e+02   2.41583619e+03   2.37476504e+03\n",
      "   2.30100932e+03   2.25373150e+03   2.23251394e+03   2.16540478e+03\n",
      "   2.18460798e+03   2.13272500e+03   2.07683649e+03   2.06991807e+03\n",
      "   2.00983079e+03   1.97668685e+03   1.90585479e+03   1.87315284e+03\n",
      "   1.81487728e+03   1.77822111e+03   1.77197501e+03   1.73842592e+03\n",
      "   1.70022007e+03   1.66624414e+03   1.61935645e+03   1.58812270e+03\n",
      "   1.54088424e+03   1.53180943e+03   1.51516998e+03   1.48645429e+03\n",
      "   1.38896007e+03   1.43105846e+03   1.44670090e+03  -3.79041386e+02\n",
      "   1.38685945e+03   1.35699567e+03   1.34297729e+03   1.33022872e+03\n",
      "   1.32380154e+03   1.31254369e+03   1.28869538e+03   1.25361391e+03\n",
      "   1.22134424e+03   1.19753067e+03   1.17571429e+03   1.17002117e+03\n",
      "   1.16728829e+03   1.15867074e+03   1.11990250e+03   1.11205529e+03\n",
      "   1.10142968e+03   1.08297681e+03   1.07040929e+03   1.06350241e+03\n",
      "   1.05090905e+03   1.04474335e+03   1.03034960e+03   9.90506842e+02\n",
      "   1.01396550e+03   1.00688655e+03  -2.61976652e+02  -2.26969415e+02\n",
      "   9.71855363e+02   9.55562530e+02   9.45963997e+02   9.38600621e+02\n",
      "   9.30089973e+02   9.20201771e+02   9.06385381e+02   9.03567947e+02\n",
      "   8.83184761e+02   8.75261654e+02   8.67719379e+02   8.53956022e+02\n",
      "   8.38072840e+02   8.32805245e+02   8.00983353e+02   8.07324278e+02\n",
      "   8.23101073e+02   8.16063354e+02  -1.74406610e+02  -1.55175839e+02\n",
      "  -1.19369619e+02   7.83066450e+02   7.82811789e+02   7.74464741e+02\n",
      "   7.64234047e+02   7.56351336e+02   7.48889835e+02   7.44274170e+02\n",
      "   7.27905716e+02   7.21763720e+02   7.11146015e+02   6.88037414e+02\n",
      "   7.02558518e+02   6.94376026e+02   6.99091702e+02  -1.04429854e+02\n",
      "  -8.78959199e+01  -7.87851908e+01  -6.95783987e+01  -5.81049739e+01\n",
      "   6.77148061e+02   6.67586912e+02   6.61735977e+02   6.58385905e+02\n",
      "   6.51834605e+02   6.36796255e+02   6.32786816e+02   6.24876154e+02\n",
      "   6.17979765e+02   6.09437822e+02   6.01521320e+02   5.93914589e+02\n",
      "  -4.63127475e+01  -4.05873790e+01  -3.76062358e+01  -2.88547279e+01\n",
      "  -1.95293734e+01  -1.16699685e+01  -6.07860514e+00   5.91010593e+02\n",
      "   5.85186916e+02   5.81627311e+02   5.75561293e+02   5.65835138e+02\n",
      "   5.63103787e+02   5.57683087e+02   5.41838888e+02   5.47174089e+02\n",
      "   5.49066782e+02   7.47031757e-01   3.22087612e+00   1.26361518e+01\n",
      "   1.76553987e+01   1.98191488e+01   2.06747314e+01   5.37562491e+02\n",
      "   5.29625858e+02   5.23936175e+02   5.18110392e+02   5.16271849e+02\n",
      "   5.11431557e+02   5.01671604e+02   4.93960626e+02   4.78611573e+02\n",
      "   4.85545109e+02   4.87400127e+02   4.90353075e+02   2.94011372e+01\n",
      "   3.32711040e+01   3.75786738e+01   5.19428606e+01   4.09976773e+01\n",
      "   4.69069894e+01   4.47433259e+01   4.45534038e+01   4.76525320e+02\n",
      "   4.67939735e+02   4.69715258e+02   4.62029075e+02   4.63785739e+02\n",
      "   4.53076327e+02   4.04362288e+02   4.48941175e+02   4.47028930e+02\n",
      "   4.10709762e+02   4.13811702e+02   4.16942519e+02   4.25153032e+02\n",
      "   4.23110977e+02   4.39300507e+02   4.33967359e+02   4.33114667e+02\n",
      "   5.53580847e+01   4.00697497e+02   3.97548113e+02   3.96327733e+02\n",
      "   5.92431094e+01   6.31467223e+01   3.94042150e+02   3.83817927e+02\n",
      "   3.88160549e+02   3.86745214e+02   6.42432160e+01   6.70782121e+01\n",
      "   6.93150157e+01   7.13956692e+01   7.62718329e+01   7.67585629e+01\n",
      "   3.74557418e+02   3.69628332e+02   3.65992357e+02   3.63818109e+02\n",
      "   3.60960128e+02   3.62051512e+02   3.56383647e+02   3.53112939e+02\n",
      "   3.51271890e+02   3.47159683e+02   7.87384807e+01   8.33432987e+01\n",
      "   8.46410042e+01   8.73520619e+01   8.82582523e+01   9.52137225e+01\n",
      "   9.22490748e+01   9.14867073e+01   8.97007145e+01   3.41005464e+02\n",
      "   3.40278218e+02   3.37030231e+02   3.30459193e+02   3.29228437e+02\n",
      "   3.26423158e+02   3.21816514e+02   3.17823196e+02   3.13672335e+02\n",
      "   3.14890032e+02   3.09123425e+02   3.08116094e+02   3.02201064e+02\n",
      "   3.03475747e+02   9.64766989e+01   9.95634409e+01   1.02630986e+02\n",
      "   1.04609965e+02   1.06670772e+02   1.08757032e+02   1.16608193e+02\n",
      "   1.13831086e+02   1.11029590e+02   1.12519166e+02   2.99404314e+02\n",
      "   1.19311567e+02   1.20207404e+02   1.23679048e+02   1.22266537e+02\n",
      "   2.93631673e+02   2.91955333e+02   2.89352517e+02   2.88138718e+02\n",
      "   2.85549783e+02   2.79403566e+02   2.79880060e+02   1.25332424e+02\n",
      "   1.26942563e+02   1.28061077e+02   1.30586904e+02   2.73675538e+02\n",
      "   2.72135169e+02   2.68209361e+02   2.65346925e+02   2.62691396e+02\n",
      "   2.61100342e+02   2.55063297e+02   1.32518275e+02   1.34966143e+02\n",
      "   1.36739760e+02   1.43262988e+02   1.41228991e+02   1.38480114e+02\n",
      "   1.39577852e+02   2.51625987e+02   2.39502540e+02   2.42301036e+02\n",
      "   2.49391618e+02   2.50409195e+02   2.46352475e+02   2.27571433e+02\n",
      "   1.46645054e+02   1.79753935e+02   1.78395674e+02   1.69729077e+02\n",
      "   1.70740796e+02   1.66087388e+02   1.61956822e+02   1.52972693e+02\n",
      "   1.59473877e+02   1.58032587e+02   1.57095671e+02   1.48912990e+02\n",
      "   2.70711517e+02   2.56079349e+02   2.33436470e+02   2.28927913e+02\n",
      "   2.29862948e+02   2.22984922e+02   2.35791722e+02   2.35313601e+02\n",
      "   1.45440535e+02   1.51525393e+02   2.16952502e+02   2.09095593e+02\n",
      "   2.04124168e+02   2.01495666e+02   1.97330962e+02   1.76710588e+02\n",
      "   1.87132683e+02   1.73394084e+02   2.43885648e+02   2.18838279e+02\n",
      "   2.11446446e+02   2.14481902e+02   2.07220908e+02   1.85051439e+02\n",
      "   1.83689231e+02   1.89057402e+02   1.93910480e+02   1.91548141e+02\n",
      "   1.51911939e+02   1.56099146e+02   1.75587212e+02   2.21266773e+02\n",
      "   2.18215907e+02   2.06111415e+02   1.99407348e+02   1.95785118e+02\n",
      "   1.89954315e+02]\n"
     ]
    }
   ],
   "source": [
    "print STAT['TMIN']['eigval']"
   ]
  },
  {
   "cell_type": "code",
   "execution_count": null,
   "metadata": {
    "collapsed": true
   },
   "outputs": [],
   "source": []
  }
 ],
 "metadata": {
  "anaconda-cloud": {},
  "celltoolbar": "Slideshow",
  "kernelspec": {
   "display_name": "Python 2",
   "language": "python",
   "name": "python2"
  },
  "language_info": {
   "codemirror_mode": {
    "name": "ipython",
    "version": 2
   },
   "file_extension": ".py",
   "mimetype": "text/x-python",
   "name": "python",
   "nbconvert_exporter": "python",
   "pygments_lexer": "ipython2",
   "version": "2.7.13"
  },
  "name": "PCA_using_numpy for HW3",
  "notebookId": 85286,
  "toc": {
   "colors": {
    "hover_highlight": "#DAA520",
    "running_highlight": "#FF0000",
    "selected_highlight": "#FFD700"
   },
   "moveMenuLeft": true,
   "nav_menu": {
    "height": "116px",
    "width": "252px"
   },
   "navigate_menu": true,
   "number_sections": true,
   "sideBar": true,
   "threshold": 4,
   "toc_cell": false,
   "toc_section_display": "block",
   "toc_window_display": false
  }
 },
 "nbformat": 4,
 "nbformat_minor": 1
}
