{
 "cells": [
  {
   "cell_type": "markdown",
   "metadata": {
    "deletable": true,
    "editable": true,
    "run_control": {
     "frozen": false,
     "read_only": false
    }
   },
   "source": [
    "# Massacusets Weather Analysis\n",
    "\n",
    "This is a report on the historical analysis of weather patterns in an area that approximately overlaps the area of the state of Massachusets.\n",
    "\n",
    "The data we will use here comes from [NOAA](https://www.ncdc.noaa.gov/). Specifically, it was downloaded from This [FTP site](ftp://ftp.ncdc.noaa.gov/pub/data/ghcn/daily/).\n",
    "\n",
    "We focused on six measurements:\n",
    "* **TMIN, TMAX:** the daily minimum and maximum temperature.\n",
    "* **TOBS:** The average temperature for each day.\n",
    "* **PRCP:** Daily Percipitation (in mm)\n",
    "* **SNOW:** Daily snowfall (in mm)\n",
    "* **SNWD:** The depth of accumulated snow.\n",
    "\n",
    "\n"
   ]
  },
  {
   "cell_type": "markdown",
   "metadata": {
    "deletable": true,
    "editable": true,
    "run_control": {
     "frozen": false,
     "read_only": false
    }
   },
   "source": [
    "## PCA analysis\n",
    "\n",
    "For each of the six measurement, we compute the percentate of the variance explained as a function of the number of eigen-vectors used.\n",
    "\n",
    "### Percentage of variance explained.\n",
    "![percen_var1.png](percen_var1.png)\n",
    "We see that the top 5 eigen-vectors explain 19% of variance for TMIN, 32% for TOBS and 18.5% for TMAX.\n",
    "\n",
    "We conclude that of the three, TOBS is best explained by the top 5 eigenvectors. This is especially true for the first eigen-vector which, by itself, explains 24% of the variance.\n",
    "\n",
    "![percen_var2.png](percen_var2.png)\n",
    "The first eigenvector is quite significant for all three PRCP, SNOW and SNWD compared to the remaining eigenvectors.\n",
    "The top 5 eigenvectors explain 7% of the variance for PRCP and 13% for SNOW. Both are low values. On the other hand the top 5 eigenvectors explain %75 of the variance for SNWD. This means that these top 5 eigenvectors capture most of the variation in the snow signals. Based on that we will dig deeper into the PCA analysis for snow-depth.\n",
    "\n",
    "It makes sense that SNWD would be less noisy than SNOW. That is because SNWD is a decaying integral of SNOW and, as such, varies less between days and between the same date on diffferent years."
   ]
  },
  {
   "cell_type": "markdown",
   "metadata": {
    "deletable": true,
    "editable": true,
    "run_control": {
     "frozen": false,
     "read_only": false
    }
   },
   "source": [
    "## Analysis of snow depth and daily snow fall\n",
    "\n",
    "We choose to analyze the top eigen vectors for SNOW and SNWD. If you closely observe the plots you can see a correlation between the eigen vectors of SNOW and SNWD. There is no snow fall from May to September and they are zero for these months. \n",
    "From January to May the first and third eigen vectors increase and then decrease for both SNOW and SNWD. The second eigen vector forms a sin shape. Also the first eigen vector is greater than the other two in both cases. \n",
    "This is as expected as there is a close correlation between daily snow fall and snow depth. More the snow fall, more snow depth there will be.\n",
    "\n",
    "![top_eigen.png](top_eigen.png)\n"
   ]
  },
  {
   "cell_type": "markdown",
   "metadata": {},
   "source": [
    "## Analysis of daily min and max temperatures\n",
    "\n",
    "We want to study how eigen vectors represent their entities. The first eigen vector in the case of min temperature is lower than the other eigen vectors. Similarly, the first eigen vector in the case of max temperature is higher than the other eigen vectors. The second eigen vector is next and the third one is the least. This shows that the first eigen vectors represent most of the variation and the later ones add little additional detail.\n",
    "\n",
    "![eigen_tmin_tmax.png](eigen_tmin_tmax.png)"
   ]
  }
 ],
 "metadata": {
  "anaconda-cloud": {},
  "kernelspec": {
   "display_name": "Python 2",
   "language": "python",
   "name": "python2"
  },
  "language_info": {
   "codemirror_mode": {
    "name": "ipython",
    "version": 2
   },
   "file_extension": ".py",
   "mimetype": "text/x-python",
   "name": "python",
   "nbconvert_exporter": "python",
   "pygments_lexer": "ipython2",
   "version": "2.7.13"
  },
  "toc": {
   "colors": {
    "hover_highlight": "#DAA520",
    "running_highlight": "#FF0000",
    "selected_highlight": "#FFD700"
   },
   "moveMenuLeft": true,
   "nav_menu": {
    "height": "12px",
    "width": "252px"
   },
   "navigate_menu": true,
   "number_sections": true,
   "sideBar": true,
   "threshold": 4,
   "toc_cell": false,
   "toc_section_display": "block",
   "toc_window_display": false,
   "widenNotebook": false
  }
 },
 "nbformat": 4,
 "nbformat_minor": 2
}
