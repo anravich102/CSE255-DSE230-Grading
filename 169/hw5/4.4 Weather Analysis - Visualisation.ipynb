{
 "cells": [
  {
   "cell_type": "markdown",
   "metadata": {
    "deletable": true,
    "editable": true,
    "run_control": {
     "frozen": false,
     "read_only": false
    }
   },
   "source": [
    "### Visualizing the distribution of the observations\n",
    "\n",
    "### Load the required libraries"
   ]
  },
  {
   "cell_type": "code",
   "execution_count": 1,
   "metadata": {
    "collapsed": false,
    "deletable": true,
    "editable": true,
    "run_control": {
     "frozen": false,
     "read_only": false
    },
    "slideshow": {
     "slide_type": "slide"
    }
   },
   "outputs": [
    {
     "name": "stdout",
     "output_type": "stream",
     "text": [
      "Populating the interactive namespace from numpy and matplotlib\n",
      "keys from STAT= ['TMIN', 'TOBS', 'TMAX', 'SNOW', 'SNWD', 'PRCP']\n",
      "12884\n",
      "+---------+--------+---------+-----------+-----------+------+--------------------+------+--------+\n",
      "|elevation|latitude|longitude|measurement|    station|undefs|              vector|  year|   label|\n",
      "+---------+--------+---------+-----------+-----------+------+--------------------+------+--------+\n",
      "|    106.7| 43.4622| -76.4933|       TMAX|USC00306314|     0|[20 50 40 4C 80 4...|1926.0|BBBBSSBB|\n",
      "|    106.7| 43.4622| -76.4933|       TMAX|USC00306314|     0|[00 00 A0 D3 00 0...|1927.0|BBBBSSBB|\n",
      "|    106.7| 43.4622| -76.4933|       TMAX|USC00306314|     1|[80 4D 80 D4 E0 D...|1928.0|BBBBSSBB|\n",
      "|    106.7| 43.4622| -76.4933|       TMAX|USC00306314|     1|[00 53 00 00 00 C...|1929.0|BBBBSSBB|\n",
      "|    106.7| 43.4622| -76.4933|       TMAX|USC00306314|     2|[E0 54 E0 55 00 4...|1930.0|BBBBSSBB|\n",
      "+---------+--------+---------+-----------+-----------+------+--------------------+------+--------+\n",
      "only showing top 5 rows\n",
      "\n"
     ]
    }
   ],
   "source": [
    "import pandas as pd\n",
    "import numpy as np\n",
    "import sklearn as sk\n",
    "import urllib\n",
    "import math\n",
    "%pylab inline\n",
    "\n",
    "import findspark\n",
    "findspark.init()\n",
    "\n",
    "from pyspark import SparkContext\n",
    "#sc.stop()\n",
    "sc = SparkContext(master=\"local[3]\",pyFiles=['lib/numpy_pack.py','lib/spark_PCA.py','lib/computeStats.py'])\n",
    "\n",
    "from pyspark import SparkContext\n",
    "from pyspark.sql import *\n",
    "sqlContext = SQLContext(sc)\n",
    "\n",
    "import sys\n",
    "sys.path.append('./lib')\n",
    "\n",
    "import numpy as np\n",
    "from numpy_pack import packArray,unpackArray\n",
    "from spark_PCA import computeCov\n",
    "from computeStats import computeOverAllDist, STAT_Descriptions\n",
    "\n",
    "### Read the data frame from pickle file\n",
    "\n",
    "data_dir='../../Data/Weather'\n",
    "file_index='BBBBSSBB'\n",
    "\n",
    "from pickle import load\n",
    "\n",
    "#read statistics\n",
    "filename=data_dir+'/STAT_%s.pickle'%file_index\n",
    "STAT,STAT_Descriptions = load(open(filename,'rb'))\n",
    "print 'keys from STAT=',STAT.keys()\n",
    "\n",
    "#read data\n",
    "filename=data_dir+'/US_Weather_%s.parquet'%file_index\n",
    "\n",
    "df=sqlContext.read.parquet(filename)\n",
    "print df.count()\n",
    "df.show(5)"
   ]
  },
  {
   "cell_type": "markdown",
   "metadata": {
    "deletable": true,
    "editable": true,
    "run_control": {
     "frozen": false,
     "read_only": false
    },
    "slideshow": {
     "slide_type": "slide"
    }
   },
   "source": [
    "### Select data for a particular station and measurement type"
   ]
  },
  {
   "cell_type": "code",
   "execution_count": 3,
   "metadata": {
    "collapsed": false,
    "deletable": true,
    "editable": true,
    "run_control": {
     "frozen": false,
     "read_only": false
    },
    "slideshow": {
     "slide_type": "subslide"
    }
   },
   "outputs": [
    {
     "name": "stdout",
     "output_type": "stream",
     "text": [
      "SELECT * FROM weather\n",
      "\tWHERE measurement='PRCP' and station='USC00306314'\n",
      "86 rows\n",
      "+---------+--------+---------+-----------+-----------+------+--------------------+------+--------+\n",
      "|elevation|latitude|longitude|measurement|    station|undefs|              vector|  year|   label|\n",
      "+---------+--------+---------+-----------+-----------+------+--------------------+------+--------+\n",
      "|    106.7| 43.4622| -76.4933|       PRCP|USC00306314|     0|[00 00 00 45 00 0...|1926.0|BBBBSSBB|\n",
      "|    106.7| 43.4622| -76.4933|       PRCP|USC00306314|     0|[00 49 00 00 00 0...|1927.0|BBBBSSBB|\n",
      "+---------+--------+---------+-----------+-----------+------+--------------------+------+--------+\n",
      "only showing top 2 rows\n",
      "\n"
     ]
    },
    {
     "data": {
      "text/plain": [
       "(86, 365)"
      ]
     },
     "execution_count": 3,
     "metadata": {},
     "output_type": "execute_result"
    }
   ],
   "source": [
    "sqlContext.registerDataFrameAsTable(df,'weather')\n",
    "Query=\"SELECT * FROM weather\\n\\tWHERE measurement='%s' and station='%s'\"%('PRCP','USC00306314')\n",
    "print Query\n",
    "df1 = sqlContext.sql(Query)\n",
    "print df1.count(),'rows'\n",
    "df1.show(2)\n",
    "rows=df1.rdd.map(lambda row:unpackArray(row['vector'],np.float16)).collect()\n",
    "T=np.vstack(rows)\n",
    "T=T/10.  # scaling to make the temperature be in centingrates\n",
    "shape(T)"
   ]
  },
  {
   "cell_type": "markdown",
   "metadata": {
    "deletable": true,
    "editable": true,
    "run_control": {
     "frozen": false,
     "read_only": false
    },
    "slideshow": {
     "slide_type": "slide"
    }
   },
   "source": [
    "### Script for plotting yearly plots"
   ]
  },
  {
   "cell_type": "code",
   "execution_count": 4,
   "metadata": {
    "collapsed": false,
    "deletable": true,
    "editable": true,
    "run_control": {
     "frozen": false,
     "read_only": false
    },
    "scrolled": false,
    "slideshow": {
     "slide_type": "subslide"
    }
   },
   "outputs": [
    {
     "data": {
      "image/png": "iVBORw0KGgoAAAANSUhEUgAAAlMAAAGNCAYAAAA1nfQqAAAABHNCSVQICAgIfAhkiAAAAAlwSFlz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\nmgHFFCGEVMmkbr7IU1skBsqkhWk+BT/N59IaoRFQTBFCSJVM6uajaW