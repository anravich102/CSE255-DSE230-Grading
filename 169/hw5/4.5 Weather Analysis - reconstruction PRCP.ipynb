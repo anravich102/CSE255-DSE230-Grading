{
 "cells": [
  {
   "cell_type": "code",
   "execution_count": 1,
   "metadata": {
    "collapsed": true,
    "deletable": true,
    "editable": true,
    "run_control": {
     "frozen": false,
     "read_only": false
    }
   },
   "outputs": [],
   "source": [
    "#setup\n",
    "data_dir='../../Data/Weather'\n",
    "file_index='BBBBSSBB'\n",
    "m='PRCP'"
   ]
  },
  {
   "cell_type": "markdown",
   "metadata": {
    "deletable": true,
    "editable": true,
    "run_control": {
     "frozen": false,
     "read_only": false
    },
    "slideshow": {
     "slide_type": "slide"
    },
    "variables": {
     "m": "PRCP"
    }
   },
   "source": [
    "# Reconstruction using top eigen-vectors\n",
    "For measurement = {{m}}"
   ]
  },
  {
   "cell_type": "markdown",
   "metadata": {
    "deletable": true,
    "editable": true,
    "run_control": {
     "frozen": false,
     "read_only": false
    },
    "slideshow": {
     "slide_type": "skip"
    }
   },
   "source": [
    "## Load the required libraries"
   ]
  },
  {
   "cell_type": "code",
   "execution_count": 14,
   "metadata": {
    "collapsed": false,
    "deletable": true,
    "editable": true,
    "run_control": {
     "frozen": false,
     "read_only": false
    },
    "slideshow": {
     "slide_type": "skip"
    }
   },
   "outputs": [],
   "source": [
    "# Enable automiatic reload of libraries\n",
    "#%load_ext autoreload\n",
    "#%autoreload 2 # means that all modules are reloaded before every command"
   ]
  },
  {
   "cell_type": "code",
   "execution_count": 2,
   "metadata": {
    "collapsed": false,
    "deletable": true,
    "editable": true,
    "run_control": {
     "frozen": false,
     "read_only": false
    },
    "slideshow": {
     "slide_type": "skip"
    }
   },
   "outputs": [
    {
     "name": "stdout",
     "output_type": "stream",
     "text": [
      "Populating the interactive namespace from numpy and matplotlib\n",
      "    pandas as    pd \tversion=0.19.2 \trequired version>=0.19.2\n",
      "     numpy as    np \tversion=1.11.3 \trequired version>=1.12.0 ******* Update Version ******\n",
      "   sklearn as    sk \tversion=0.18.1 \trequired version>=0.18.1\n",
      "    urllib as urllib \tversion=1.17 \trequired version>=1.17\n",
      "   pyspark as pyspark \tversion=2.1.0+hadoop2.7 \trequired version>=2.1.0\n",
      "ipywidgets as ipywidgets \tversion=5.2.2 \trequired version>=6.0.0 ******* Update Version ******\n"
     ]
    }
   ],
   "source": [
    "%pylab inline\n",
    "import numpy as np\n",
    "\n",
    "import findspark\n",
    "findspark.init()\n",
    "\n",
    "import sys\n",
    "sys.path.append('./lib')\n",
    "\n",
    "from numpy_pack import packArray,unpackArray\n",
    "\n",
    "from Eigen_decomp import Eigen_decomp\n",
    "from YearPlotter import YearPlotter\n",
    "from recon_plot import recon_plot\n",
    "\n",
    "from import_modules import import_modules,modules\n",
    "import_modules(modules)\n",
    "\n",
    "from ipywidgets import interactive,widgets"
   ]
  },
  {
   "cell_type": "code",
   "execution_count": 3,
   "metadata": {
    "collapsed": false,
    "deletable": true,
    "editable": true,
    "run_control": {
     "frozen": false,
     "read_only": false
    },
    "slideshow": {
     "slide_type": "skip"
    }
   },
   "outputs": [],
   "source": [
    "from pyspark import SparkContext\n",
    "#sc.stop()\n",
    "\n",
    "sc = SparkContext(master=\"local[3]\",pyFiles=['lib/numpy_pack.py','lib/spark_PCA.py','lib/computeStats.py','lib/recon_plot.py','lib/Eigen_decomp.py'])\n",
    "\n",
    "from pyspark import SparkContext\n",
    "from pyspark.sql import *\n",
    "sqlContext = SQLContext(sc)\n",
    "\n",
    "\n",
    "\n"
   ]
  },
  {
   "cell_type": "markdown",
   "metadata": {
    "deletable": true,
    "editable": true,
    "run_control": {
     "frozen": false,
     "read_only": false
    },
    "slideshow": {
     "slide_type": "slide"
    }
   },
   "source": [
    "## Read Statistics File"
   ]
  },
  {
   "cell_type": "code",
   "execution_count": 4,
   "metadata": {
    "collapsed": true,
    "deletable": true,
    "editable": true,
    "run_control": {
     "frozen": false,
     "read_only": false
    },
    "slideshow": {
     "slide_type": "fragment"
    }
   },
   "outputs": [],
   "source": [
    "data_dir='../../Data/Weather'\n",
    "file_index='BBBBSSBB'"
   ]
  },
  {
   "cell_type": "code",
   "execution_count": 5,
   "metadata": {
    "collapsed": false,
    "deletable": true,
    "editable": true,
    "run_control": {
     "frozen": false,
     "read_only": false
    },
    "slideshow": {
     "slide_type": "subslide"
    }
   },
   "outputs": [
    {
     "name": "stdout",
     "output_type": "stream",
     "text": [
      "keys from STAT= ['TMIN', 'TOBS', 'TMAX', 'SNOW', 'SNWD', 'PRCP']\n"
     ]
    }
   ],
   "source": [
    "from pickle import load\n",
    "\n",
    "#read statistics\n",
    "filename=data_dir+'/STAT_%s.pickle'%file_index\n",
    "STAT,STAT_Descriptions = load(open(filename,'rb'))\n",
    "measurements=STAT.keys()\n",
    "print 'keys from STAT=',measurements"
   ]
  },
  {
   "cell_type": "markdown",
   "metadata": {
    "deletable": true,
    "editable": true,
    "run_control": {
     "frozen": false,
     "read_only": false
    },
    "slideshow": {
     "slide_type": "slide"
    }
   },
   "source": [
    "## Read data file into a spark DataFrame\n",
    "We focus on the snow-depth records, because the eigen-vectors for them make sense."
   ]
  },
  {
   "cell_type": "code",
   "execution_count": 6,
   "metadata": {
    "collapsed": false,
    "deletable": true,
    "editable": true,
    "run_control": {
     "frozen": false,
     "read_only": false
    },
    "scrolled": true,
    "slideshow": {
     "slide_type": "subslide"
    }
   },
   "outputs": [
    {
     "name": "stdout",
     "output_type": "stream",
     "text": [
      "+---------+--------+---------+-----------+-----------+------+--------------------+------+--------+\n",
      "|elevation|latitude|longitude|measurement|    station|undefs|              vector|  year|   label|\n",
      "+---------+--------+---------+-----------+-----------+------+--------------------+------+--------+\n",
      "|    195.1| 43.8167| -76.0167|       PRCP|USC00300018|     0|[00 00 00 00 00 5...|1966.0|BBBBSSBB|\n",
      "|    195.1| 43.8167| -76.0167|       PRCP|USC00300018|     0|[00 42 80 4F 00 0...|1967.0|BBBBSSBB|\n",
      "|    195.1| 43.8167| -76.0167|       PRCP|USC00300018|     0|[80 4C 00 00 00 0...|1968.0|BBBBSSBB|\n",
      "|    195.1| 43.8167| -76.0167|       PRCP|USC00300018|     7|[78 59 00 00 00 0...|1969.0|BBBBSSBB|\n",
      "|    195.1| 43.8167| -76.0167|       PRCP|USC00300018|     6|[00 00 00 00 00 0...|1970.0|BBBBSSBB|\n",
      "+---------+--------+---------+-----------+-----------+------+--------------------+------+--------+\n",
      "only showing top 5 rows\n",
      "\n"
     ]
    }
   ],
   "source": [
    "#read data\n",
    "filename=data_dir+'/US_Weather_%s.parquet'%file_index\n",
    "df_in=sqlContext.read.parquet(filename)\n",
    "#filter in \n",
    "df=df_in.filter(df_in.measurement==m)\n",
    "df.show(5)"
   ]
  },
  {
   "cell_type": "markdown",
   "metadata": {
    "deletable": true,
    "editable": true,
    "run_control": {
     "frozen": false,
     "read_only": false
    },
    "slideshow": {
     "slide_type": "subslide"
    }
   },
   "source": [
    "### Create a matrix with all of the series"
   ]
  },
  {
   "cell_type": "code",
   "execution_count": 7,
   "metadata": {
    "collapsed": false,
    "deletable": true,
    "editable": true,
    "run_control": {
     "frozen": false,
     "read_only": false
    }
   },
   "outputs": [
    {
     "data": {
      "text/plain": [
       "(3837, 365)"
      ]
     },
     "execution_count": 7,
     "metadata": {},
     "output_type": "execute_result"
    }
   ],
   "source": [
    "rows=df.rdd.map(lambda row:unpackArray(row['vector'],np.float16)).collect()\n",
    "\n",
    "T=np.vstack(rows)\n",
    "shape(T)"
   ]
  },
  {
   "cell_type": "markdown",
   "metadata": {
    "deletable": true,
    "editable": true,
    "run_control": {
     "frozen": false,
     "read_only": false
    },
    "slideshow": {
     "slide_type": "subslide"
    }
   },
   "source": [
    "### Plot two time series\n",
    "`SNWD` stands for `snow-depth`, which explains why it is zero during the summer"
   ]
  },
  {
   "cell_type": "code",
   "execution_count": 8,
   "metadata": {
    "collapsed": false,
    "deletable": true,
    "editable": true,
    "run_control": {
     "frozen": false,
     "read_only": false
    },
    "slideshow": {
     "slide_type": "fragment"
    }
   },
   "outputs": [
    {
     "data": {
      "image/png": "iVBORw0KGgoAAAANSUhEUgAAAXoAAAD6CAYAAACvZ4z8AAAABHNCSVQICAgIfAhkiAAAAAlwSFlz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\nfnyKoc9hk8OiCysxhDJt4ZHuXCbo7DnsuqQbJzD0GqP3