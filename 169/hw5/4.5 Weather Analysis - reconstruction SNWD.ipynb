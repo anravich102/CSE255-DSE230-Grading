{
 "cells": [
  {
   "cell_type": "code",
   "execution_count": 1,
   "metadata": {
    "collapsed": true,
    "deletable": true,
    "editable": true,
    "run_control": {
     "frozen": false,
     "read_only": false
    },
    "slideshow": {
     "slide_type": "skip"
    }
   },
   "outputs": [],
   "source": [
    "#setup\n",
    "data_dir='../../Data/Weather'\n",
    "file_index='BBBBSSBB'\n",
    "m='SNWD'"
   ]
  },
  {
   "cell_type": "markdown",
   "metadata": {
    "deletable": true,
    "editable": true,
    "run_control": {
     "frozen": false,
     "read_only": false
    },
    "slideshow": {
     "slide_type": "slide"
    },
    "variables": {
     "m": "SNWD"
    }
   },
   "source": [
    "## Reconstruction using top eigen-vectors\n",
    "For measurement = {{m}}"
   ]
  },
  {
   "cell_type": "markdown",
   "metadata": {
    "deletable": true,
    "editable": true,
    "run_control": {
     "frozen": false,
     "read_only": false
    },
    "slideshow": {
     "slide_type": "skip"
    }
   },
   "source": [
    "## Load the required libraries"
   ]
  },
  {
   "cell_type": "code",
   "execution_count": 2,
   "metadata": {
    "collapsed": false,
    "deletable": true,
    "editable": true,
    "run_control": {
     "frozen": false,
     "read_only": false
    },
    "slideshow": {
     "slide_type": "skip"
    }
   },
   "outputs": [],
   "source": [
    "# Enable automiatic reload of libraries\n",
    "#%load_ext autoreload\n",
    "#%autoreload 2 # means that all modules are reloaded before every command"
   ]
  },
  {
   "cell_type": "code",
   "execution_count": 2,
   "metadata": {
    "collapsed": false,
    "deletable": true,
    "editable": true,
    "run_control": {
     "frozen": false,
     "read_only": false
    },
    "slideshow": {
     "slide_type": "skip"
    }
   },
   "outputs": [
    {
     "name": "stdout",
     "output_type": "stream",
     "text": [
      "Populating the interactive namespace from numpy and matplotlib\n",
      "    pandas as    pd \tversion=0.19.2 \trequired version>=0.19.2\n",
      "     numpy as    np \tversion=1.11.3 \trequired version>=1.12.0 ******* Update Version ******\n",
      "   sklearn as    sk \tversion=0.18.1 \trequired version>=0.18.1\n",
      "    urllib as urllib \tversion=1.17 \trequired version>=1.17\n",
      "   pyspark as pyspark \tversion=2.1.0+hadoop2.7 \trequired version>=2.1.0\n",
      "ipywidgets as ipywidgets \tversion=5.2.2 \trequired version>=6.0.0 ******* Update Version ******\n"
     ]
    }
   ],
   "source": [
    "#%matplotlib inline\n",
    "%pylab inline\n",
    "import numpy as np\n",
    "\n",
    "import findspark\n",
    "findspark.init()\n",
    "\n",
    "import sys\n",
    "sys.path.append('./lib')\n",
    "\n",
    "from numpy_pack import packArray,unpackArray\n",
    "\n",
    "from Eigen_decomp import Eigen_decomp\n",
    "from YearPlotter import YearPlotter\n",
    "from recon_plot import recon_plot\n",
    "\n",
    "from import_modules import import_modules,modules\n",
    "import_modules(modules)\n",
    "\n",
    "from ipywidgets import interactive,widgets"
   ]
  },
  {
   "cell_type": "code",
   "execution_count": 3,
   "metadata": {
    "collapsed": false,
    "deletable": true,
    "editable": true,
    "run_control": {
     "frozen": false,
     "read_only": false
    },
    "slideshow": {
     "slide_type": "skip"
    }
   },
   "outputs": [],
   "source": [
    "from pyspark import SparkContext\n",
    "#sc.stop()\n",
    "\n",
    "sc = SparkContext(master=\"local[3]\",pyFiles=['lib/numpy_pack.py','lib/spark_PCA.py','lib/computeStats.py','lib/recon_plot.py','lib/Eigen_decomp.py'])\n",
    "\n",
    "from pyspark import SparkContext\n",
    "from pyspark.sql import *\n",
    "sqlContext = SQLContext(sc)\n",
    "\n",
    "\n",
    "\n"
   ]
  },
  {
   "cell_type": "markdown",
   "metadata": {
    "deletable": true,
    "editable": true,
    "run_control": {
     "frozen": false,
     "read_only": false
    },
    "slideshow": {
     "slide_type": "slide"
    }
   },
   "source": [
    "## Read Statistics File"
   ]
  },
  {
   "cell_type": "code",
   "execution_count": 4,
   "metadata": {
    "collapsed": false,
    "deletable": true,
    "editable": true,
    "run_control": {
     "frozen": false,
     "read_only": false
    },
    "slideshow": {
     "slide_type": "subslide"
    }
   },
   "outputs": [
    {
     "name": "stdout",
     "output_type": "stream",
     "text": [
      "keys from STAT= ['TMIN', 'TOBS', 'TMAX', 'SNOW', 'SNWD', 'PRCP']\n"
     ]
    }
   ],
   "source": [
    "from pickle import load\n",
    "\n",
    "#read statistics\n",
    "filename=data_dir+'/STAT_%s.pickle'%file_index\n",
    "STAT,STAT_Descriptions = load(open(filename,'rb'))\n",
    "measurements=STAT.keys()\n",
    "print 'keys from STAT=',measurements"
   ]
  },
  {
   "cell_type": "markdown",
   "metadata": {
    "deletable": true,
    "editable": true,
    "run_control": {
     "frozen": false,
     "read_only": false
    },
    "slideshow": {
     "slide_type": "slide"
    }
   },
   "source": [
    "## Read data file into a spark DataFrame\n",
    "We focus on the snow-depth records, because the eigen-vectors for them make sense."
   ]
  },
  {
   "cell_type": "code",
   "execution_count": 5,
   "metadata": {
    "collapsed": false,
    "deletable": true,
    "editable": true,
    "run_control": {
     "frozen": false,
     "read_only": false
    },
    "scrolled": true,
    "slideshow": {
     "slide_type": "subslide"
    }
   },
   "outputs": [
    {
     "name": "stdout",
     "output_type": "stream",
     "text": [
      "+---------+--------+---------+-----------+-----------+------+--------------------+------+--------+\n",
      "|elevation|latitude|longitude|measurement|    station|undefs|              vector|  year|   label|\n",
      "+---------+--------+---------+-----------+-----------+------+--------------------+------+--------+\n",
      "|    195.1| 43.8167| -76.0167|       SNWD|USC00300018|    38|[00 00 00 00 00 0...|1966.0|BBBBSSBB|\n",
      "|    195.1| 43.8167| -76.0167|       SNWD|USC00300018|     2|[C0 58 F0 57 60 5...|1968.0|BBBBSSBB|\n",
      "|    120.1| 43.1712| -75.6828|       SNWD|US1NYOD0023|    10|[28 59 20 57 60 5...|2010.0|BBBBSSBB|\n",
      "|    120.1| 43.1712| -75.6828|       SNWD|US1NYOD0023|    14|[80 4A 00 00 00 0...|2011.0|BBBBSSBB|\n",
      "|    120.1| 43.1712| -75.6828|       SNWD|US1NYOD0023|    16|[00 00 00 00 C0 5...|2012.0|BBBBSSBB|\n",
      "+---------+--------+---------+-----------+-----------+------+--------------------+------+--------+\n",
      "only showing top 5 rows\n",
      "\n"
     ]
    }
   ],
   "source": [
    "#read data\n",
    "filename=data_dir+'/US_Weather_%s.parquet'%file_index\n",
    "df_in=sqlContext.read.parquet(filename)\n",
    "#filter in \n",
    "df=df_in.filter(df_in.measurement==m)\n",
    "df.show(5)"
   ]
  },
  {
   "cell_type": "markdown",
   "metadata": {
    "deletable": true,
    "editable": true,
    "run_control": {
     "frozen": false,
     "read_only": false
    },
    "slideshow": {
     "slide_type": "slide"
    }
   },
   "source": [
    "### Plot Reconstructions\n",
    "\n",
    "Construct approximations of a time series using the mean and the $k$ top eigen-vectors\n",
    "First, we plot the mean and the top $k$ eigenvectors"
   ]
  },
  {
   "cell_type": "code",
   "execution_count": 6,
   "metadata": {
    "collapsed": false,
    "deletable": true,
    "editable": true,
    "run_control": {
     "frozen": false,
     "read_only": false
    },
    "scrolled": false,
    "slideshow": {
     "slide_type": "subslide"
    }
   },
   "outputs": [
    {
     "data": {
      "image/png": "iVBORw0KGgoAAAANSUhEUgAAAl8AAAFcCAYAAAD2w9suAAAABHNCSVQICAgIfAhkiAAAAAlwSFlz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