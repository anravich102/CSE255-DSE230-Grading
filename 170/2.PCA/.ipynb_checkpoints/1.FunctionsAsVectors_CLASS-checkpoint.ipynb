{
 "cells": [
  {
   "cell_type": "code",
   "execution_count": 1,
   "metadata": {
    "collapsed": false,
    "deletable": true,
    "editable": true,
    "run_control": {
     "frozen": false,
     "read_only": false
    },
    "slideshow": {
     "slide_type": "skip"
    }
   },
   "outputs": [
    {
     "name": "stdout",
     "output_type": "stream",
     "text": [
      "Populating the interactive namespace from numpy and matplotlib\n",
      "version of ipwidgets= 6.0.0\n"
     ]
    }
   ],
   "source": [
    "%pylab inline\n",
    "\n",
    "import numpy as np\n",
    "#import matplotlib.pyplot as plt\n",
    "from ipywidgets import interact, interactive, fixed, interact_manual,widgets\n",
    "import ipywidgets as widgets\n",
    "\n",
    "print 'version of ipwidgets=',widgets.__version__\n",
    "\n",
    "import sys\n",
    "sys.path.append('lib')\n",
    "from recon_plot import recon_plot\n",
    "from Eigen_decomp import Eigen_decomp\n",
    "from YearPlotter import YearPlotter"
   ]
  },
  {
   "cell_type": "markdown",
   "metadata": {
    "deletable": true,
    "editable": true,
    "run_control": {
     "frozen": false,
     "read_only": false
    },
    "slideshow": {
     "slide_type": "slide"
    }
   },
   "source": [
    "### High-dimensional vectors\n",
    "To get an intuition about the working of the PCA, we used an example in the plane, or $R^2$.\n",
    "While useful for intuition, this is not the typical case in which we use PCA. Typically we are interested in vectors in a space whose dimension is in the hundreds or more.\n",
    "\n",
    "How can we depict such vectors? If the coordinates of the vector have a natural order. For example, if the coordinates correspond to a grid of times, then a good representation is to make a plot in which the $x$-axis is the time and the $y$-axis is the value that corresponds to this time. \n",
    "\n",
    "Later in this class we will consider vectors that correspond to the temperature at a particular location each day of the year. These vectors will be of length 365 (we omit the extra days of leap years) and the PCA analysis will reveal the low dimensional subspace."
   ]
  },
  {
   "cell_type": "markdown",
   "metadata": {
    "deletable": true,
    "editable": true,
    "run_control": {
     "frozen": false,
     "read_only": false
    },
    "slideshow": {
     "slide_type": "slide"
    }
   },
   "source": [
    "### Function approximation\n",
    "For now, we will consider the vectors that are defined by sinusoidal functions."
   ]
  },
  {
   "cell_type": "code",
   "execution_count": 2,
   "metadata": {
    "collapsed": false,
    "deletable": true,
    "editable": true,
    "run_control": {
     "frozen": false,
     "read_only": false
    },
    "slideshow": {
     "slide_type": "fragment"
    }
   },
   "outputs": [
    {
     "data": {
      "text/plain": [
       "365"
      ]
     },
     "execution_count": 2,
     "metadata": {},
     "output_type": "execute_result"
    }
   ],
   "source": [
    "# We define a grid that extends from o to 2*pi\n",
    "step=2*pi/365\n",
    "x=arange(0,2*pi,step)\n",
    "len(x)"
   ]
  },
  {
   "cell_type": "markdown",
   "metadata": {
    "deletable": true,
    "editable": true,
    "run_control": {
     "frozen": false,
     "read_only": false
    },
    "slideshow": {
     "slide_type": "slide"
    }
   },
   "source": [
    "#### Define a basis\n",
    "\n",
    "The dimension of the space is 629.\n",
    "\n",
    "We define some functions based on $\\sin()$ and $\\cos()$ "
   ]
  },
  {
   "cell_type": "code",
   "execution_count": 3,
   "metadata": {
    "collapsed": false,
    "deletable": true,
    "editable": true,
    "run_control": {
     "frozen": false,
     "read_only": false
    }
   },
   "outputs": [
    {
     "name": "stdout",
     "output_type": "stream",
     "text": [
      "v contains 9 vectors\n"
     ]
    }
   ],
   "source": [
    "c=sqrt(step/(pi))\n",
    "v=[]\n",
    "v.append(np.array(cos(0*x))*c/sqrt(2))\n",
    "v.append(np.array(sin(x))*c)\n",
    "v.append(np.array(cos(x))*c)\n",
    "v.append(np.array(sin(2*x))*c)\n",
    "v.append(np.array(cos(2*x))*c)\n",
    "v.append(np.array(sin(3*x))*c)\n",
    "v.append(np.array(cos(3*x))*c)\n",
    "v.append(np.array(sin(4*x))*c)\n",
    "v.append(np.array(cos(4*x))*c)\n",
    "\n",
    "print\"v contains %d vectors\"%(len(v))\n"
   ]
  },
  {
   "cell_type": "code",
   "execution_count": 4,
   "metadata": {
    "collapsed": false,
    "deletable": true,
    "editable": true,
    "run_control": {
     "frozen": false,
     "read_only": false
    },
    "slideshow": {
     "slide_type": "subslide"
    }
   },
   "outputs": [
    {
     "data": {
      "text/plain": [
       "<matplotlib.legend.Legend at 0x113a96fd0>"
      ]
     },
     "execution_count": 4,
     "metadata": {},
     "output_type": "execute_result"
    },
    {
     "data": {
      "image/png": "iVBORw0KGgoAAAANSUhEUgAAAfYAAAFpCAYAAABu2woqAAAABHNCSVQICAgIfAhkiAAAAAlwSFlz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\nRZIkkoZ