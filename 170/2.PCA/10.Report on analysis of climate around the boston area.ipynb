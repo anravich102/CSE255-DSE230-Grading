{
 "cells": [
  {
   "cell_type": "code",
   "execution_count": 1,
   "metadata": {
    "run_control": {
     "frozen": false,
     "read_only": false
    },
    "scrolled": false
   },
   "outputs": [
    {
     "name": "stdout",
     "output_type": "stream",
     "text": [
      "![5__maps_using_iPyLeaflet.jpg](r_figures/5__maps_using_iPyLeaflet.jpg)\n",
      "![Climate_Boston_-_Massachusetts_and_Weather_averages_Boston.jpg](r_figures/Climate_Boston_-_Massachusetts_and_Weather_averages_Boston.jpg)\n",
      "![Climate_Fargo_-_North_Dakota_and_Weather_averages_Fargo.png](r_figures/Climate_Fargo_-_North_Dakota_and_Weather_averages_Fargo.png)\n",
      "![Map of Average snow depth.jpg](r_figures/Map of Average snow depth.jpg)\n",
      "![PRCP.png](r_figures/PRCP.png)\n",
      "![SNOW.png](r_figures/SNOW.png)\n",
      "![SNWD.png](r_figures/SNWD.png)\n",
      "![SNWD_coeff_1_CDF.png](r_figures/SNWD_coeff_1_CDF.png)\n",
      "![SNWD_coeff_2_CDF.png](r_figures/SNWD_coeff_2_CDF.png)\n",
      "![SNWD_coeff_3_CDF.png](r_figures/SNWD_coeff_3_CDF.png)\n",
      "![SNWD_grid_Pos_coeff1.png](r_figures/SNWD_grid_Pos_coeff1.png)\n",
      "![SNWD_grid_Pos_coeff2.png](r_figures/SNWD_grid_Pos_coeff2.png)\n",
      "![SNWD_grid_Pos_coeff3.png](r_figures/SNWD_grid_Pos_coeff3.png)\n",
      "![SNWD_grid_neg_coeff1.png](r_figures/SNWD_grid_neg_coeff1.png)\n",
      "![SNWD_grid_neg_coeff2.png](r_figures/SNWD_grid_neg_coeff2.png)\n",
      "![SNWD_grid_neg_coeff3.png](r_figures/SNWD_grid_neg_coeff3.png)\n",
      "![SNWD_mean_eigs.png](r_figures/SNWD_mean_eigs.png)\n",
      "![SNWD_res_1_CDF.png](r_figures/SNWD_res_1_CDF.png)\n",
      "![SNWD_res_2_CDF.png](r_figures/SNWD_res_2_CDF.png)\n",
      "![SNWD_res_3_CDF.png](r_figures/SNWD_res_3_CDF.png)\n",
      "![TMIN,TMAX.png](r_figures/TMIN,TMAX.png)\n",
      "![TOBS.png](r_figures/TOBS.png)\n",
      "![T_MIN,T_MAX.png](r_figures/T_MIN,T_MAX.png)\n",
      "![VarExplained1.png](r_figures/VarExplained1.png)\n",
      "![VarExplained2.png](r_figures/VarExplained2.png)\n",
      "![bar.jpg](r_figures/bar.jpg)\n",
      "![percipitation.png](r_figures/percipitation.png)\n"
     ]
    }
   ],
   "source": [
    "L=!ls r_figures/\n",
    "for l in L:\n",
    "    print \"![%s](r_figures/%s)\"%(l,l)"
   ]
  },
  {
   "cell_type": "markdown",
   "metadata": {
    "run_control": {
     "frozen": false,
     "read_only": false
    }
   },
   "source": [
    "# ECE 255 HW5 Report"
   ]
  },
  {
   "cell_type": "markdown",
   "metadata": {
    "run_control": {
     "frozen": false,
     "read_only": false
    }
   },
   "source": [
    "# North Dakota and Minnesota Weather Analysis\n",
    "\n",
    "This is a report on the historical analysis of weather patterns in an area that approximately overlaps the area of the East part of the state of North Dakota and West part of the state of Minnesota.\n",
    "\n",
    "The data we will use here comes from [NOAA](https://www.ncdc.noaa.gov/). Specifically, it was downloaded from This [FTP site](ftp://ftp.ncdc.noaa.gov/pub/data/ghcn/daily/).\n",
    "\n",
    "There are six measurments:\n",
    "* **TMIN, TMAX:** the daily minimum and maximum temperature.\n",
    "* **TOBS:** The average temperature for each day.\n",
    "* **PRCP:** Daily Percipitation (in mm)\n",
    "* **SNOW:** Daily snowfall (in mm)\n",
    "* **SNWD:** The depth of accumulated snow.\n",
    "\n",
    "## Sanity-check: comparison with outside sources\n",
    "\n",
    "<p>We start by comparing some of the general statistics with graphs that we obtained from a site called <a href=\"http://www.usclimatedata.com/climate/boston/massachusetts/united-states/usma0046\" target=\"_blank\">US Climate Data</a> The graph below shows the daily minimum and maximum temperatures for each month, as well as the total precipitation for each month of the city Fargo, which is approximatly the center of my data.</p>\n",
    "\n",
    "<p>&nbsp;</p>\n",
    "\n",
    "<p><img alt=\"Climate_Fargo_-_North_Dakota_and_Weather_averages_Fargo.png\" src=\"r_figures/Climate_Fargo_-_North_Dakota_and_Weather_averages_Fargo.png\" /></p>\n",
    "\n",
    "<p>&nbsp;</p>\n",
    "\n",
    "<p>We see that the min and max daily&nbsp;temperature agree with the ones we got from our data, once we translate Fahrenheit to Centigrade.</p>\n",
    "\n",
    "<p>&nbsp;</p>\n",
    "\n",
    "<p><img alt=\"T_MIN,T_MAX.png\" src=\"r_figures/T_MIN,T_MAX.png\" style=\"height:300px; width:800px\" /></p>\n"
   ]
  },
  {
   "cell_type": "markdown",
   "metadata": {
    "run_control": {
     "frozen": false,
     "read_only": false
    }
   },
   "source": [
    "## Visualizing the distribution of the observations\n",
    "\n",
    "<p>First, we graph the map of the location we collected data.<p>\n",
    "\n",
    "![map_overview.png](r_figures/map_overview.png)\n",
    "![map_fargo.png](r_figures/map_fargo.png)\n",
    "\n",
    "<p>It shows that the region we analyze is part of North Dakota and Minnesota. The second graph is the zoom-in of the original iamge. We could tell that the city of Fargo is approimately of our region.<p>"
   ]
  },
  {
   "cell_type": "markdown",
   "metadata": {
    "run_control": {
     "frozen": false,
     "read_only": false
    }
   },
   "source": [
    "## PCA analysis\n",
    "\n",
    "For each of the six measurement, we compute the percentate of the variance explained as a function of the number of eigen-vectors used.\n",
    "\n",
    "### Percentage of variance explained.\n",
    "<p><img alt=\"r_figures/VarExplained1.png\" src=\"r_figures/VarExplained1.png\" /></p>\n",
    "We see that the top 5 eigen-vectors explain 11% of variance for TMIN, 32% for TOBS and 18% for TMAX.\n",
    "\n",
    "We conclude that of the three, TOBS is best explained by the top 5 eigenvectors. This is especially true for the first eigen-vector which, by itself, explains 20% of the variance.\n",
    "\n",
    "![VarExplained2.png](r_figures/VarExplained2.png)\n",
    "\n",
    "The top 5 eigenvectors explain 12% of the variance for SNOW, 90% for SNWD and %8 of the variance for SNWD. This means that these top 5 eigenvectors capture most of the variation in the snow signals. Based on that we will dig deeper into the PCA analysis for snow-depth.\n",
    "\n",
    "It makes sense that SNWD would be less noisy than SNOW. That is because SNWD is a decaying integral(sum) of SNOW and, as such, varies less between days and between the same date on diffferent years."
   ]
  },
  {
   "cell_type": "markdown",
   "metadata": {
    "run_control": {
     "frozen": false,
     "read_only": false
    }
   },
   "source": [
    "## Analysis of snow depth\n",
    "\n",
    "We choose to analyze the eigen-decomposition for snow-depth because the first 5 eigen-vectors explain 90% of the variance.\n",
    "\n",
    "First, we graph the mean and the top 5 eigen-vectors.\n",
    "\n",
    "We observe that the snow season is from the start of November to the end of April, where the middle of February marks the peak of the snow-depth.\n",
    "![SNWD_mean_eigs.png](r_figures/SNWD_mean_eigs.png)"
   ]
  },
  {
   "cell_type": "markdown",
   "metadata": {
    "run_control": {
     "frozen": false,
     "read_only": false
    }
   },
   "source": [
    "Next we interpret the eigen-functions. The first eigen-function (eig1) has a shape very similar to the mean function. The main difference is that the eigen-function is close to zero during September-December while the mean is not.  The interpretation of this shape is that eig1 represents the overall amount of snow above/below the mean, but without changing the distribution over time.\n",
    "\n",
    "**eig2,eig3,eig4 and egi5** are similar in the following way. They all oscilate between positive and negative values. In other words, they correspond to changing the distribution of the snow depth over the winter months, but they don't change the total.\n",
    "\n",
    "They can be interpreted as follows:\n",
    "* **eig2:** less snow in Jan - Apr, significantly less snow in Sep to Jan.\n",
    "* **eig3:** less snow in Jan - Mar, more snow in Mar, less in Sep to Jan.\n",
    "* **eig4:** less snow in Feb - Mar, more snow in Mar, less in Sep to Jan.\n",
    "* **eig5:** less snow in Jan - Mar, more snow in Mar-May, less in Sep to Jan."
   ]
  },
  {
   "cell_type": "markdown",
   "metadata": {
    "run_control": {
     "frozen": false,
     "read_only": false
    }
   },
   "source": [
    "### Examples of reconstructions\n",
    "\n",
    "#### Coeff1\n",
    "Coeff1: most positive\n",
    "![SNWD_grid_Pos_coeff1.png](r_figures/SNWD_grid_Pos_coeff1.png)\n",
    "Coeff1: most negative\n",
    "![SNWD_grid_neg_coeff1.png](r_figures/SNWD_grid_neg_coeff1.png)\n",
    "Large positive values of coeff1 correspond to more than average snow. Low values correspond to less than average snow.\n",
    "\n",
    "#### Coeff2\n",
    "Coeff2: most positive\n",
    "![SNWD_grid_Pos_coeff2.png](r_figures/SNWD_grid_Pos_coeff2.png)\n",
    "Coeff2: most negative\n",
    "![SNWD_grid_neg_coeff2.png](r_figures/SNWD_grid_neg_coeff2.png)\n",
    "\n",
    "Large positive values of coeff2 correspond to a late snow season (most of the snowfall is after Jan. Negative values for coeff2 correspond to an early snow season (most of the snow is before Jan.\n",
    "#### Coeff3\n",
    "Coeff3: most positive\n",
    "![SNWD_grid_Pos_coeff3.png](r_figures/SNWD_grid_Pos_coeff3.png)\n",
    "Coeff3: most negative\n",
    "![SNWD_grid_neg_coeff3.png](r_figures/SNWD_grid_neg_coeff3.png)\n",
    "\n",
    "Large positive values of coeff2 correspond to a snow season with two spikes: one in the start of Feb, the other at the Start of March. Negative values of coeff3 correspond to a season with a single peak at the end of Dec.\n",
    "\n"
   ]
  },
  {
   "cell_type": "markdown",
   "metadata": {
    "run_control": {
     "frozen": false,
     "read_only": false
    }
   },
   "source": [
    "## Analysis of Percipitation\n",
    "\n",
    "We then to analyze the eigen-decomposition for daily-percipitation.\n",
    "\n",
    "First, we graph the mean and the top 3 eigen-vectors.\n",
    "\n",
    "We observe that the rain season is from the start of April to the end of October, where the middle of June marks the peak of the daily-percipitation.\n",
    "![PRCP_mean.png](r_figures/PRCP_mean.png)"
   ]
  },
  {
   "cell_type": "markdown",
   "metadata": {
    "run_control": {
     "frozen": false,
     "read_only": false
    }
   },
   "source": [
    "Next we interpret the eigen-functions. The first eigen-function (eig1) has a shape very similar to the mean function. The main difference is that the eigen-function is close to zero during September-December while the mean is not.  The interpretation of this shape is that eig1 represents the overall amount of daily percipitation above/below the mean, but without changing the distribution over time.\n",
    "\n",
    "**eig2 and eig3** are similar in the following way. They all oscilate between positive and negative values. In other words, they correspond to changing the distribution of the daily percipitation over the summer days, but they don't change the total.\n",
    "\n",
    "They can be interpreted as follows:\n",
    "* **eig2:** less rain in Apr - Oct.\n",
    "* **eig3:** less rain in Jul - OCt, more rain in mid-Jun."
   ]
  },
  {
   "cell_type": "markdown",
   "metadata": {
    "run_control": {
     "frozen": false,
     "read_only": false
    }
   },
   "source": [
    "### Examples of reconstructions\n",
    "\n",
    "#### Res1\n",
    "Res1: most positive\n",
    "![SNWD_grid_Pos_coeff1.png](r_figures/PRCP_grid_Pos_coeff1.png)\n",
    "Res1: most negative\n",
    "![SNWD_grid_neg_coeff1.png](r_figures/PRCP_grid_neg_coeff1.png)\n",
    "\n",
    "#### Res2\n",
    "Res2: most positive\n",
    "![SNWD_grid_Pos_coeff2.png](r_figures/PRCP_grid_Pos_coeff2.png)\n",
    "Res2: most negative\n",
    "![SNWD_grid_neg_coeff2.png](r_figures/PRCP_grid_neg_coeff2.png)\n",
    "\n",
    "#### Res3\n",
    "Res3: most positive\n",
    "![SNWD_grid_Pos_coeff3.png](r_figures/PRCP_grid_Pos_coeff3.png)\n",
    "Res3: most negative\n",
    "![SNWD_grid_neg_coeff3.png](r_figures/PRCP_grid_neg_coeff3.png)\n",
    "\n",
    "From the graph above, large positive values of coeff1 correspond to more than average snow. Low values correspond to less than average snow with postive values of res1.\n",
    "\n"
   ]
  },
  {
   "cell_type": "markdown",
   "metadata": {
    "run_control": {
     "frozen": false,
     "read_only": false
    }
   },
   "source": [
    "### Analyze whether SNWD varies more from year to year or from place to place.\n",
    "<p>To estimate the effect of time vs. location on the first eigenvector coefficient we compute:\n",
    "* ** The average row:** mean-by-station\n",
    "* **The average column:** mean-by-year<p>\n",
    "<p>Total RMS                   =  631.957294164<p>\n",
    "<p>RMS removing mean-by-station=  617.809526176<p>\n",
    "<p>RMS removing mean-by-year   =  329.960575426<p>\n",
    "\n",
    "<p>initial RMS= 631.957294164<p>\n",
    "<p>0 after removing mean by year    = 329.960575426<p>\n",
    "<p>0 after removing mean by stations= 310.920358488<p>\n",
    "<p>1 after removing mean by year    = 309.659157759<p>\n",
    "<p>1 after removing mean by stations= 309.523374797<p>\n",
    "<p>2 after removing mean by year    = 309.504389197<p>\n",
    "<p>2 after removing mean by stations= 309.499416665<p>\n",
    "<p>3 after removing mean by year    = 309.496335626<p>\n",
    "<p>3 after removing mean by stations= 309.493603558<p>\n",
    "<p>4 after removing mean by year    = 309.491011026<p>\n",
    "<p>4 after removing mean by stations= 309.488525441<P>\n",
    "\n",
    "Based on the above calculation, we can conclude that SNWD varies more from year to year."
   ]
  },
  {
   "cell_type": "markdown",
   "metadata": {
    "run_control": {
     "frozen": false,
     "read_only": false
    }
   },
   "source": [
    "### Correlations between the amount of rain on the same day in different stations\n",
    "It is basically not likely to be able to find correlations between the amount of rain on the same day in different stations since even different stations in our region are very close to each other, the amount of rain would be differnet. Moreover, raining in two cities may have some time difference and when we collect the data, we might include the the same rain in the first day for this location, and the second day for another location.\n",
    "\n",
    "![CDF.png](r_figures/CDF.png)"
   ]
  },
  {
   "cell_type": "markdown",
   "metadata": {
    "run_control": {
     "frozen": false,
     "read_only": false
    }
   },
   "source": [
    "### Histogram of the resulting p-values\n",
    "<p>There are only few datapoints has significant p-values. The significance of the p-value is the probability of seeing the result given by the data under the null hypothesis. Since most datapoints have low signifiance of p-values, it is unlikely to see such results under the null hypothesis.<P>\n",
    "\n",
    "![hist_p_values.png](r_figures/hist_p_values.png)\n",
    "![norm.png](r_figures/norm.png)\n",
    "<p> The X & Y labels represent the index of a station. The color of the dot represents the significance of the p-value for those two stations. <p>"
   ]
  },
  {
   "cell_type": "markdown",
   "metadata": {
    "run_control": {
     "frozen": false,
     "read_only": false
    }
   },
   "source": [
    "## More map\n",
    "<p>Visualizing the distribution of the observations<P>\n",
    "\n",
    "![more_map.png](r_figures/more_map.png)\n"
   ]
  },
  {
   "cell_type": "code",
   "execution_count": null,
   "metadata": {
    "collapsed": true,
    "run_control": {
     "frozen": false,
     "read_only": false
    }
   },
   "outputs": [],
   "source": []
  }
 ],
 "metadata": {
  "anaconda-cloud": {},
  "kernelspec": {
   "display_name": "Python 2",
   "language": "python",
   "name": "python2"
  },
  "language_info": {
   "codemirror_mode": {
    "name": "ipython",
    "version": 2
   },
   "file_extension": ".py",
   "mimetype": "text/x-python",
   "name": "python",
   "nbconvert_exporter": "python",
   "pygments_lexer": "ipython2",
   "version": "2.7.13"
  },
  "toc": {
   "colors": {
    "hover_highlight": "#DAA520",
    "running_highlight": "#FF0000",
    "selected_highlight": "#FFD700"
   },
   "moveMenuLeft": true,
   "nav_menu": {
    "height": "12px",
    "width": "252px"
   },
   "navigate_menu": true,
   "number_sections": true,
   "sideBar": true,
   "threshold": 4,
   "toc_cell": false,
   "toc_section_display": "block",
   "toc_window_display": false
  }
 },
 "nbformat": 4,
 "nbformat_minor": 2
}
