{
 "cells": [
  {
   "cell_type": "markdown",
   "metadata": {
    "deletable": true,
    "editable": true,
    "run_control": {
     "frozen": false,
     "read_only": false
    }
   },
   "source": [
    "## iPyLeaflet\n",
    "[ipyleaflet](https://github.com/ellisonbg/ipyleaflet) is a bridge between jupyter notebooks and the [leaflet](http://leafletjs.com/)  javascript library for drawing maps.\n",
    "\n",
    "ipyleaflet comes with a few examples notebooks (this notebook was derived from one) but very little documentation,\n",
    "for more documentation read the [Leaflet IPA](http://leafletjs.com/reference.html)\n",
    "\n",
    "For installation directions, see the README on [ipyleaflet](https://github.com/ellisonbg/ipyleaflet)\n",
    "\n",
    "[GeoJson](https://tools.ietf.org/html/rfc7946#section-3.1.7) is a good way to add data on top of an ipyleaflet map.\n",
    "\n",
    "For other backgrounds than open streets, you can alter the ipyleaflet.py file to point to one of [these map providers](https://leaflet-extras.github.io/leaflet-providers/preview/)"
   ]
  },
  {
   "cell_type": "code",
   "execution_count": 11,
   "metadata": {
    "collapsed": false,
    "deletable": true,
    "editable": true,
    "run_control": {
     "frozen": false,
     "read_only": false
    }
   },
   "outputs": [],
   "source": [
    "from ipyleaflet import (\n",
    "    Map,\n",
    "    Marker,\n",
    "    TileLayer, ImageOverlay,\n",
    "    Polyline, Polygon, Rectangle, Circle, CircleMarker,\n",
    "    GeoJSON,\n",
    "    DrawControl\n",
    ")"
   ]
  },
  {
   "cell_type": "markdown",
   "metadata": {
    "deletable": true,
    "editable": true,
    "run_control": {
     "frozen": false,
     "read_only": false
    }
   },
   "source": [
    "## Visualizing the distribution of the observations\n",
    "\n",
    "## Load the required libraries"
   ]
  },
  {
   "cell_type": "code",
   "execution_count": 12,
   "metadata": {
    "collapsed": false,
    "deletable": true,
    "editable": true,
    "run_control": {
     "frozen": false,
     "read_only": false
    }
   },
   "outputs": [],
   "source": [
    "import pandas as pd\n",
    "import numpy as np\n",
    "import sklearn as sk\n",
    "import urllib\n",
    "import math\n",
    "import pylab as plt\n",
    "\n",
    "import sys\n",
    "sys.path.append('./lib')\n",
    "\n",
    "from leaflet import *"
   ]
  },
  {
   "cell_type": "code",
   "execution_count": 13,
   "metadata": {
    "collapsed": false
   },
   "outputs": [
    {
     "name": "stdout",
     "output_type": "stream",
     "text": [
      "['eigen-vecs', 'stations']\n"
     ]
    },
    {
     "data": {
      "text/html": [
       "<div>\n",
       "<table border=\"1\" class=\"dataframe\">\n",
       "  <thead>\n",
       "    <tr style=\"text-align: right;\">\n",
       "      <th></th>\n",
       "      <th>latitude</th>\n",
       "      <th>longitude</th>\n",
       "      <th>elevation</th>\n",
       "      <th>state</th>\n",
       "      <th>name</th>\n",
       "      <th>GSNFLAG</th>\n",
       "      <th>HCNFLAG</th>\n",
       "      <th>WMOID</th>\n",
       "    </tr>\n",
       "  </thead>\n",
       "  <tbody>\n",
       "    <tr>\n",
       "      <th>ACW00011604</th>\n",
       "      <td>17.1167</td>\n",
       "      <td>-61.7833</td>\n",
       "      <td>10.1</td>\n",
       "      <td>NaN</td>\n",
       "      <td>ST JOHNS COOLIDGE FLD</td>\n",
       "      <td>NaN</td>\n",
       "      <td>NaN</td>\n",
       "      <td>NaN</td>\n",
       "    </tr>\n",
       "    <tr>\n",
       "      <th>ACW00011647</th>\n",
       "      <td>17.1333</td>\n",
       "      <td>-61.7833</td>\n",
       "      <td>19.2</td>\n",
       "      <td>NaN</td>\n",
       "      <td>ST JOHNS</td>\n",
       "      <td>NaN</td>\n",
       "      <td>NaN</td>\n",
       "      <td>NaN</td>\n",
       "    </tr>\n",
       "    <tr>\n",
       "      <th>AE000041196</th>\n",
       "      <td>25.3330</td>\n",
       "      <td>55.5170</td>\n",
       "      <td>34.0</td>\n",
       "      <td>NaN</td>\n",
       "      <td>SHARJAH INTER. AIRP</td>\n",
       "      <td>GSN</td>\n",
       "      <td>NaN</td>\n",
       "      <td>41196.0</td>\n",
       "    </tr>\n",
       "    <tr>\n",
       "      <th>AF000040930</th>\n",
       "      <td>35.3170</td>\n",
       "      <td>69.0170</td>\n",
       "      <td>3366.0</td>\n",
       "      <td>NaN</td>\n",
       "      <td>NORTH-SALANG</td>\n",
       "      <td>GSN</td>\n",
       "      <td>NaN</td>\n",
       "      <td>40930.0</td>\n",
       "    </tr>\n",
       "    <tr>\n",
       "      <th>AG000060390</th>\n",
       "      <td>36.7167</td>\n",
       "      <td>3.2500</td>\n",
       "      <td>24.0</td>\n",
       "      <td>NaN</td>\n",
       "      <td>ALGER-DAR EL BEIDA</td>\n",
       "      <td>GSN</td>\n",
       "      <td>NaN</td>\n",
       "      <td>60390.0</td>\n",
       "    </tr>\n",
       "  </tbody>\n",
       "</table>\n",
       "</div>"
      ],
      "text/plain": [
       "             latitude  longitude  elevation state                   name  \\\n",
       "ACW00011604   17.1167   -61.7833       10.1   NaN  ST JOHNS COOLIDGE FLD   \n",
       "ACW00011647   17.1333   -61.7833       19.2   NaN               ST JOHNS   \n",
       "AE000041196   25.3330    55.5170       34.0   NaN    SHARJAH INTER. AIRP   \n",
       "AF000040930   35.3170    69.0170     3366.0   NaN           NORTH-SALANG   \n",
       "AG000060390   36.7167     3.2500       24.0   NaN     ALGER-DAR EL BEIDA   \n",
       "\n",
       "            GSNFLAG HCNFLAG    WMOID  \n",
       "ACW00011604     NaN     NaN      NaN  \n",
       "ACW00011647     NaN     NaN      NaN  \n",
       "AE000041196     GSN     NaN  41196.0  \n",
       "AF000040930     GSN     NaN  40930.0  \n",
       "AG000060390     GSN     NaN  60390.0  "
      ]
     },
     "execution_count": 13,
     "metadata": {},
     "output_type": "execute_result"
    }
   ],
   "source": [
    "data_dir = \"../../Data/Weather/\"\n",
    "from pickle import load\n",
    "with open(data_dir+'PRCP_residuals_PCA.pickle','rb') as file:\n",
    "    Res_eig=load(file)\n",
    "print Res_eig.keys()\n",
    "\n",
    "#stations.pkl\n",
    "with open(data_dir+'stations.pkl','rb') as file:\n",
    "    Stations=load(file)\n",
    "Stations.head()\n"
   ]
  },
  {
   "cell_type": "code",
   "execution_count": 14,
   "metadata": {
    "collapsed": false,
    "scrolled": true
   },
   "outputs": [
    {
     "data": {
      "text/html": [
       "<div>\n",
       "<table border=\"1\" class=\"dataframe\">\n",
       "  <thead>\n",
       "    <tr style=\"text-align: right;\">\n",
       "      <th></th>\n",
       "      <th>0</th>\n",
       "      <th>1</th>\n",
       "      <th>2</th>\n",
       "      <th>3</th>\n",
       "    </tr>\n",
       "  </thead>\n",
       "  <tbody>\n",
       "    <tr>\n",
       "      <th>0</th>\n",
       "      <td>-0.050746</td>\n",
       "      <td>-0.048421</td>\n",
       "      <td>0.122636</td>\n",
       "      <td>-0.138189</td>\n",
       "    </tr>\n",
       "    <tr>\n",
       "      <th>1</th>\n",
       "      <td>-0.121794</td>\n",
       "      <td>-0.132799</td>\n",
       "      <td>0.164543</td>\n",
       "      <td>-0.039343</td>\n",
       "    </tr>\n",
       "    <tr>\n",
       "      <th>2</th>\n",
       "      <td>-0.109721</td>\n",
       "      <td>-0.029603</td>\n",
       "      <td>0.021130</td>\n",
       "      <td>-0.006370</td>\n",
       "    </tr>\n",
       "    <tr>\n",
       "      <th>3</th>\n",
       "      <td>-0.117680</td>\n",
       "      <td>-0.024765</td>\n",
       "      <td>-0.020620</td>\n",
       "      <td>0.065599</td>\n",
       "    </tr>\n",
       "    <tr>\n",
       "      <th>4</th>\n",
       "      <td>-0.119310</td>\n",
       "      <td>-0.019368</td>\n",
       "      <td>-0.004842</td>\n",
       "      <td>0.044660</td>\n",
       "    </tr>\n",
       "  </tbody>\n",
       "</table>\n",
       "</div>"
      ],
      "text/plain": [
       "          0         1         2         3\n",
       "0 -0.050746 -0.048421  0.122636 -0.138189\n",
       "1 -0.121794 -0.132799  0.164543 -0.039343\n",
       "2 -0.109721 -0.029603  0.021130 -0.006370\n",
       "3 -0.117680 -0.024765 -0.020620  0.065599\n",
       "4 -0.119310 -0.019368 -0.004842  0.044660"
      ]
     },
     "execution_count": 14,
     "metadata": {},
     "output_type": "execute_result"
    }
   ],
   "source": [
    "import pandas as pd\n",
    "Eig=pd.DataFrame(Res_eig['eigen-vecs'].transpose())\n",
    "Eig.head()"
   ]
  },
  {
   "cell_type": "code",
   "execution_count": 15,
   "metadata": {
    "collapsed": false
   },
   "outputs": [
    {
     "name": "stdout",
     "output_type": "stream",
     "text": [
      "[u'USW00023183', u'USC00028112', u'US1AZMR0222', u'US1AZMR0220', u'USC00028598']\n"
     ]
    },
    {
     "data": {
      "text/html": [
       "<div>\n",
       "<table border=\"1\" class=\"dataframe\">\n",
       "  <thead>\n",
       "    <tr style=\"text-align: right;\">\n",
       "      <th></th>\n",
       "      <th>0</th>\n",
       "      <th>1</th>\n",
       "      <th>2</th>\n",
       "      <th>3</th>\n",
       "    </tr>\n",
       "    <tr>\n",
       "      <th>station</th>\n",
       "      <th></th>\n",
       "      <th></th>\n",
       "      <th></th>\n",
       "      <th></th>\n",
       "    </tr>\n",
       "  </thead>\n",
       "  <tbody>\n",
       "    <tr>\n",
       "      <th>USW00023183</th>\n",
       "      <td>-0.050746</td>\n",
       "      <td>-0.048421</td>\n",
       "      <td>0.122636</td>\n",
       "      <td>-0.138189</td>\n",
       "    </tr>\n",
       "    <tr>\n",
       "      <th>USC00028112</th>\n",
       "      <td>-0.121794</td>\n",
       "      <td>-0.132799</td>\n",
       "      <td>0.164543</td>\n",
       "      <td>-0.039343</td>\n",
       "    </tr>\n",
       "    <tr>\n",
       "      <th>US1AZMR0222</th>\n",
       "      <td>-0.109721</td>\n",
       "      <td>-0.029603</td>\n",
       "      <td>0.021130</td>\n",
       "      <td>-0.006370</td>\n",
       "    </tr>\n",
       "    <tr>\n",
       "      <th>US1AZMR0220</th>\n",
       "      <td>-0.117680</td>\n",
       "      <td>-0.024765</td>\n",
       "      <td>-0.020620</td>\n",
       "      <td>0.065599</td>\n",
       "    </tr>\n",
       "    <tr>\n",
       "      <th>USC00028598</th>\n",
       "      <td>-0.119310</td>\n",
       "      <td>-0.019368</td>\n",
       "      <td>-0.004842</td>\n",
       "      <td>0.044660</td>\n",
       "    </tr>\n",
       "  </tbody>\n",
       "</table>\n",
       "</div>"
      ],
      "text/plain": [
       "                    0         1         2         3\n",
       "station                                            \n",
       "USW00023183 -0.050746 -0.048421  0.122636 -0.138189\n",
       "USC00028112 -0.121794 -0.132799  0.164543 -0.039343\n",
       "US1AZMR0222 -0.109721 -0.029603  0.021130 -0.006370\n",
       "US1AZMR0220 -0.117680 -0.024765 -0.020620  0.065599\n",
       "USC00028598 -0.119310 -0.019368 -0.004842  0.044660"
      ]
     },
     "execution_count": 15,
     "metadata": {},
     "output_type": "execute_result"
    }
   ],
   "source": [
    "Eig['station']=Res_eig['stations']\n",
    "Eig=Eig.set_index('station')\n",
    "print Res_eig['stations'][:5]\n",
    "Eig.head()"
   ]
  },
  {
   "cell_type": "code",
   "execution_count": 16,
   "metadata": {
    "collapsed": false
   },
   "outputs": [],
   "source": [
    "table=Eig.join(Stations,how='left')"
   ]
  },
  {
   "cell_type": "code",
   "execution_count": 17,
   "metadata": {
    "collapsed": false
   },
   "outputs": [
    {
     "data": {
      "text/html": [
       "<div>\n",
       "<table border=\"1\" class=\"dataframe\">\n",
       "  <thead>\n",
       "    <tr style=\"text-align: right;\">\n",
       "      <th></th>\n",
       "      <th>name</th>\n",
       "      <th>latitude</th>\n",
       "      <th>longitude</th>\n",
       "      <th>elevation</th>\n",
       "      <th>0</th>\n",
       "      <th>1</th>\n",
       "      <th>2</th>\n",
       "      <th>3</th>\n",
       "    </tr>\n",
       "    <tr>\n",
       "      <th>station</th>\n",
       "      <th></th>\n",
       "      <th></th>\n",
       "      <th></th>\n",
       "      <th></th>\n",
       "      <th></th>\n",
       "      <th></th>\n",
       "      <th></th>\n",
       "      <th></th>\n",
       "    </tr>\n",
       "  </thead>\n",
       "  <tbody>\n",
       "    <tr>\n",
       "      <th>USW00023183</th>\n",
       "      <td>PHOENIX SKY HARBOR INTL AP</td>\n",
       "      <td>33.4278</td>\n",
       "      <td>-112.0039</td>\n",
       "      <td>337.4</td>\n",
       "      <td>-0.050746</td>\n",
       "      <td>-0.048421</td>\n",
       "      <td>0.122636</td>\n",
       "      <td>-0.138189</td>\n",
       "    </tr>\n",
       "    <tr>\n",
       "      <th>USC00028112</th>\n",
       "      <td>SOUTH PHOENIX</td>\n",
       "      <td>33.3814</td>\n",
       "      <td>-112.0700</td>\n",
       "      <td>352.0</td>\n",
       "      <td>-0.121794</td>\n",
       "      <td>-0.132799</td>\n",
       "      <td>0.164543</td>\n",
       "      <td>-0.039343</td>\n",
       "    </tr>\n",
       "    <tr>\n",
       "      <th>US1AZMR0222</th>\n",
       "      <td>PHOENIX 6.7 WSW</td>\n",
       "      <td>33.4094</td>\n",
       "      <td>-112.1810</td>\n",
       "      <td>308.8</td>\n",
       "      <td>-0.109721</td>\n",
       "      <td>-0.029603</td>\n",
       "      <td>0.021130</td>\n",
       "      <td>-0.006370</td>\n",
       "    </tr>\n",
       "    <tr>\n",
       "      <th>US1AZMR0220</th>\n",
       "      <td>PHOENIX 12.8 N</td>\n",
       "      <td>33.6258</td>\n",
       "      <td>-112.0591</td>\n",
       "      <td>444.1</td>\n",
       "      <td>-0.117680</td>\n",
       "      <td>-0.024765</td>\n",
       "      <td>-0.020620</td>\n",
       "      <td>0.065599</td>\n",
       "    </tr>\n",
       "  </tbody>\n",
       "</table>\n",
       "</div>"
      ],
      "text/plain": [
       "                                   name  latitude  longitude  elevation  \\\n",
       "station                                                                   \n",
       "USW00023183  PHOENIX SKY HARBOR INTL AP   33.4278  -112.0039      337.4   \n",
       "USC00028112               SOUTH PHOENIX   33.3814  -112.0700      352.0   \n",
       "US1AZMR0222             PHOENIX 6.7 WSW   33.4094  -112.1810      308.8   \n",
       "US1AZMR0220              PHOENIX 12.8 N   33.6258  -112.0591      444.1   \n",
       "\n",
       "                    0         1         2         3  \n",
       "station                                              \n",
       "USW00023183 -0.050746 -0.048421  0.122636 -0.138189  \n",
       "USC00028112 -0.121794 -0.132799  0.164543 -0.039343  \n",
       "US1AZMR0222 -0.109721 -0.029603  0.021130 -0.006370  \n",
       "US1AZMR0220 -0.117680 -0.024765 -0.020620  0.065599  "
      ]
     },
     "execution_count": 17,
     "metadata": {},
     "output_type": "execute_result"
    }
   ],
   "source": [
    "table=table[['name','latitude','longitude','elevation',0,1,2,3]]\n",
    "table.head(4)"
   ]
  },
  {
   "cell_type": "code",
   "execution_count": 18,
   "metadata": {
    "collapsed": false,
    "scrolled": true
   },
   "outputs": [],
   "source": [
    "import pylab as plt\n",
    "prop_cycle = plt.rcParams['axes.prop_cycle']\n",
    "colors = prop_cycle.by_key()['color']"
   ]
  },
  {
   "cell_type": "code",
   "execution_count": 39,
   "metadata": {
    "collapsed": false,
    "scrolled": true
   },
   "outputs": [
    {
     "data": {
      "text/html": [
       "<div>\n",
       "<table border=\"1\" class=\"dataframe\">\n",
       "  <thead>\n",
       "    <tr style=\"text-align: right;\">\n",
       "      <th></th>\n",
       "      <th>name</th>\n",
       "      <th>latitude</th>\n",
       "      <th>longitude</th>\n",
       "      <th>elevation</th>\n",
       "      <th>0</th>\n",
       "      <th>1</th>\n",
       "      <th>2</th>\n",
       "      <th>3</th>\n",
       "    </tr>\n",
       "    <tr>\n",
       "      <th>station</th>\n",
       "      <th></th>\n",
       "      <th></th>\n",
       "      <th></th>\n",
       "      <th></th>\n",
       "      <th></th>\n",
       "      <th></th>\n",
       "      <th></th>\n",
       "      <th></th>\n",
       "    </tr>\n",
       "  </thead>\n",
       "  <tbody>\n",
       "    <tr>\n",
       "      <th>USW00093138</th>\n",
       "      <td>PALM SPRINGS RGNL AP</td>\n",
       "      <td>33.8281</td>\n",
       "      <td>-116.5053</td>\n",
       "      <td>128.3</td>\n",
       "      <td>-0.126607</td>\n",
       "      <td>-0.016235</td>\n",
       "      <td>-0.032581</td>\n",
       "      <td>0.045972</td>\n",
       "    </tr>\n",
       "    <tr>\n",
       "      <th>USW00003104</th>\n",
       "      <td>DESERT RESORTS RGNL AP</td>\n",
       "      <td>33.6267</td>\n",
       "      <td>-116.1594</td>\n",
       "      <td>-36.0</td>\n",
       "      <td>-0.119326</td>\n",
       "      <td>-0.049864</td>\n",
       "      <td>0.058361</td>\n",
       "      <td>0.016466</td>\n",
       "    </tr>\n",
       "    <tr>\n",
       "      <th>USC00046635</th>\n",
       "      <td>PALM SPRINGS</td>\n",
       "      <td>33.8275</td>\n",
       "      <td>-116.5097</td>\n",
       "      <td>129.5</td>\n",
       "      <td>-0.093253</td>\n",
       "      <td>-0.023958</td>\n",
       "      <td>0.011710</td>\n",
       "      <td>-0.033764</td>\n",
       "    </tr>\n",
       "    <tr>\n",
       "      <th>USC00045860</th>\n",
       "      <td>MORONGO VALLEY NORTH</td>\n",
       "      <td>34.0864</td>\n",
       "      <td>-116.5622</td>\n",
       "      <td>958.6</td>\n",
       "      <td>-0.120077</td>\n",
       "      <td>-0.000042</td>\n",
       "      <td>-0.049499</td>\n",
       "      <td>0.003131</td>\n",
       "    </tr>\n",
       "    <tr>\n",
       "      <th>USC00046630</th>\n",
       "      <td>PALM DESERT</td>\n",
       "      <td>33.7333</td>\n",
       "      <td>-116.3833</td>\n",
       "      <td>59.4</td>\n",
       "      <td>-0.113364</td>\n",
       "      <td>-0.017700</td>\n",
       "      <td>-0.012054</td>\n",
       "      <td>-0.003854</td>\n",
       "    </tr>\n",
       "    <tr>\n",
       "      <th>USC00045502</th>\n",
       "      <td>MECCA FIRE STN</td>\n",
       "      <td>33.5714</td>\n",
       "      <td>-116.0767</td>\n",
       "      <td>-54.9</td>\n",
       "      <td>-0.106889</td>\n",
       "      <td>-0.012694</td>\n",
       "      <td>0.000195</td>\n",
       "      <td>-0.001529</td>\n",
       "    </tr>\n",
       "    <tr>\n",
       "      <th>US1CARV0004</th>\n",
       "      <td>DESERT HOT SPRINGS 3.0 NW</td>\n",
       "      <td>33.9855</td>\n",
       "      <td>-116.5415</td>\n",
       "      <td>408.1</td>\n",
       "      <td>-0.121688</td>\n",
       "      <td>-0.011414</td>\n",
       "      <td>-0.021956</td>\n",
       "      <td>0.015796</td>\n",
       "    </tr>\n",
       "    <tr>\n",
       "      <th>US1CASR0022</th>\n",
       "      <td>MORONGO VALLEY 2.3 NE</td>\n",
       "      <td>34.0867</td>\n",
       "      <td>-116.5618</td>\n",
       "      <td>960.7</td>\n",
       "      <td>-0.099028</td>\n",
       "      <td>0.056024</td>\n",
       "      <td>-0.204484</td>\n",
       "      <td>-0.047194</td>\n",
       "    </tr>\n",
       "    <tr>\n",
       "      <th>USC00042103</th>\n",
       "      <td>COYOTE CANYON</td>\n",
       "      <td>33.4333</td>\n",
       "      <td>-116.5000</td>\n",
       "      <td>694.9</td>\n",
       "      <td>-0.119682</td>\n",
       "      <td>-0.022389</td>\n",
       "      <td>-0.022312</td>\n",
       "      <td>0.026755</td>\n",
       "    </tr>\n",
       "    <tr>\n",
       "      <th>USC00045863</th>\n",
       "      <td>MORONGO VALLEY</td>\n",
       "      <td>34.0333</td>\n",
       "      <td>-116.5833</td>\n",
       "      <td>780.9</td>\n",
       "      <td>-0.091033</td>\n",
       "      <td>0.055709</td>\n",
       "      <td>-0.202998</td>\n",
       "      <td>-0.080638</td>\n",
       "    </tr>\n",
       "    <tr>\n",
       "      <th>USC00042327</th>\n",
       "      <td>DEEP CANYON LAB</td>\n",
       "      <td>33.6514</td>\n",
       "      <td>-116.3764</td>\n",
       "      <td>365.8</td>\n",
       "      <td>0.049436</td>\n",
       "      <td>-0.146370</td>\n",
       "      <td>-0.071444</td>\n",
       "      <td>0.039977</td>\n",
       "    </tr>\n",
       "    <tr>\n",
       "      <th>US1CASR0014</th>\n",
       "      <td>JOSHUA TREE 2.0 S</td>\n",
       "      <td>34.0973</td>\n",
       "      <td>-116.3178</td>\n",
       "      <td>1039.1</td>\n",
       "      <td>0.037006</td>\n",
       "      <td>-0.106096</td>\n",
       "      <td>-0.062305</td>\n",
       "      <td>0.106932</td>\n",
       "    </tr>\n",
       "    <tr>\n",
       "      <th>USC00044259</th>\n",
       "      <td>INDIO FIRE STN</td>\n",
       "      <td>33.7086</td>\n",
       "      <td>-116.2153</td>\n",
       "      <td>-6.4</td>\n",
       "      <td>0.043150</td>\n",
       "      <td>-0.068718</td>\n",
       "      <td>-0.019256</td>\n",
       "      <td>-0.033187</td>\n",
       "    </tr>\n",
       "    <tr>\n",
       "      <th>USC00044407</th>\n",
       "      <td>JOSHUA TREE 3 S</td>\n",
       "      <td>34.1000</td>\n",
       "      <td>-116.3167</td>\n",
       "      <td>1064.1</td>\n",
       "      <td>-0.010747</td>\n",
       "      <td>0.083325</td>\n",
       "      <td>0.064270</td>\n",
       "      <td>-0.157992</td>\n",
       "    </tr>\n",
       "    <tr>\n",
       "      <th>USC00046196</th>\n",
       "      <td>NIGHTINGALE</td>\n",
       "      <td>33.5833</td>\n",
       "      <td>-116.4333</td>\n",
       "      <td>1229.0</td>\n",
       "      <td>0.021869</td>\n",
       "      <td>0.021403</td>\n",
       "      <td>0.074162</td>\n",
       "      <td>-0.044635</td>\n",
       "    </tr>\n",
       "  </tbody>\n",
       "</table>\n",
       "</div>"
      ],
      "text/plain": [
       "                                  name  latitude  longitude  elevation  \\\n",
       "station                                                                  \n",
       "USW00093138       PALM SPRINGS RGNL AP   33.8281  -116.5053      128.3   \n",
       "USW00003104     DESERT RESORTS RGNL AP   33.6267  -116.1594      -36.0   \n",
       "USC00046635               PALM SPRINGS   33.8275  -116.5097      129.5   \n",
       "USC00045860       MORONGO VALLEY NORTH   34.0864  -116.5622      958.6   \n",
       "USC00046630                PALM DESERT   33.7333  -116.3833       59.4   \n",
       "USC00045502             MECCA FIRE STN   33.5714  -116.0767      -54.9   \n",
       "US1CARV0004  DESERT HOT SPRINGS 3.0 NW   33.9855  -116.5415      408.1   \n",
       "US1CASR0022      MORONGO VALLEY 2.3 NE   34.0867  -116.5618      960.7   \n",
       "USC00042103              COYOTE CANYON   33.4333  -116.5000      694.9   \n",
       "USC00045863             MORONGO VALLEY   34.0333  -116.5833      780.9   \n",
       "USC00042327            DEEP CANYON LAB   33.6514  -116.3764      365.8   \n",
       "US1CASR0014          JOSHUA TREE 2.0 S   34.0973  -116.3178     1039.1   \n",
       "USC00044259             INDIO FIRE STN   33.7086  -116.2153       -6.4   \n",
       "USC00044407            JOSHUA TREE 3 S   34.1000  -116.3167     1064.1   \n",
       "USC00046196                NIGHTINGALE   33.5833  -116.4333     1229.0   \n",
       "\n",
       "                    0         1         2         3  \n",
       "station                                              \n",
       "USW00093138 -0.126607 -0.016235 -0.032581  0.045972  \n",
       "USW00003104 -0.119326 -0.049864  0.058361  0.016466  \n",
       "USC00046635 -0.093253 -0.023958  0.011710 -0.033764  \n",
       "USC00045860 -0.120077 -0.000042 -0.049499  0.003131  \n",
       "USC00046630 -0.113364 -0.017700 -0.012054 -0.003854  \n",
       "USC00045502 -0.106889 -0.012694  0.000195 -0.001529  \n",
       "US1CARV0004 -0.121688 -0.011414 -0.021956  0.015796  \n",
       "US1CASR0022 -0.099028  0.056024 -0.204484 -0.047194  \n",
       "USC00042103 -0.119682 -0.022389 -0.022312  0.026755  \n",
       "USC00045863 -0.091033  0.055709 -0.202998 -0.080638  \n",
       "USC00042327  0.049436 -0.146370 -0.071444  0.039977  \n",
       "US1CASR0014  0.037006 -0.106096 -0.062305  0.106932  \n",
       "USC00044259  0.043150 -0.068718 -0.019256 -0.033187  \n",
       "USC00044407 -0.010747  0.083325  0.064270 -0.157992  \n",
       "USC00046196  0.021869  0.021403  0.074162 -0.044635  "
      ]
     },
     "execution_count": 39,
     "metadata": {},
     "output_type": "execute_result"
    }
   ],
   "source": [
    "table[table['longitude'] < -116]"
   ]
  },
  {
   "cell_type": "markdown",
   "metadata": {
    "deletable": true,
    "editable": true,
    "run_control": {
     "frozen": false,
     "read_only": false
    }
   },
   "source": [
    "## Map"
   ]
  },
  {
   "cell_type": "code",
   "execution_count": 42,
   "metadata": {
    "code_folding": [
     14
    ],
    "collapsed": false
   },
   "outputs": [
    {
     "data": {
      "application/vnd.jupyter.widget-view+json": {
       "model_id": "67711845f4574396a5bd629bc374bfed"
      }
     },
     "metadata": {},
     "output_type": "display_data"
    }
   ],
   "source": [
    "min_lat,max_lat,min_long,max_long = box = (33.3369,  34.1158, -116.5833, -111.7432)\n",
    "center = [(min_lat+max_lat)/2, (min_long+max_long)/2]\n",
    "zoom = 9\n",
    "m = Map(default_tiles=TileLayer(opacity=0.2), center=center, zoom=zoom)\n",
    "r = Rectangle(bounds=[[min_lat,min_long],[max_lat,max_long]], weight=5, fill_opacity=0.0)\n",
    "m += r\n",
    "\n",
    "lat_margin=(max_lat-min_lat)/4\n",
    "long_margin=(max_long-min_long)/4\n",
    "for index,row in table.iterrows():\n",
    "    _lat=row['latitude']\n",
    "    _long=row['longitude']\n",
    "    for col in range(4):\n",
    "        _coef=row[col]\n",
    "        if np.isnan(_coef):\n",
    "            continue\n",
    "        r=abs(_coef)/5\n",
    "        #print r\n",
    "        color=colors[col]\n",
    "        signs=[[+1,+1],[+1,-1],[-1,-1],[-1,+1]]\n",
    "        lat_sign,long_sign=signs[col]\n",
    "        triangle=[(_lat,_long),(_lat+lat_sign*r,_long),(_lat,_long+long_sign*r),(_lat,_long)]\n",
    "        if _coef<0:\n",
    "            poly= Polygon(locations=triangle, weight=0,\n",
    "                    color=color, opacity=0, fill_opacity=0.7,\n",
    "                    fill_color=color)\n",
    "        else:\n",
    "            poly= Polygon(locations=triangle, weight=2,\n",
    "                    color=color, opacity=0.8, fill_opacity=0,\n",
    "                    fill_color=color)\n",
    "        m +=poly   \n",
    "m    "
   ]
  },
  {
   "cell_type": "markdown",
   "metadata": {
    "deletable": true,
    "editable": true,
    "run_control": {
     "frozen": false,
     "read_only": false
    }
   },
   "source": [
    "### excercises:\n",
    "* Add a legend that relates the colors to values.\n",
    "* Leaflet supports a variety of maps. See if you can get a topographical map as the background."
   ]
  },
  {
   "cell_type": "code",
   "execution_count": 44,
   "metadata": {
    "collapsed": false,
    "deletable": true,
    "editable": true,
    "run_control": {
     "frozen": false,
     "read_only": false
    }
   },
   "outputs": [
    {
     "data": {
      "text/plain": [
       "<matplotlib.collections.PathCollection at 0x114da38d0>"
      ]
     },
     "execution_count": 44,
     "metadata": {},
     "output_type": "execute_result"
    },
    {
     "data": {
      "image/png": "[encoded data removed]",
      "text/plain": [
       "<matplotlib.figure.Figure at 0x11471be10>"
      ]
     },
     "metadata": {},
     "output_type": "display_data"
    }
   ],
   "source": [
    "%matplotlib inline\n",
    "#plt.plot.scatter(x='elevation',y='avg(coeff_1)');\n",
    "plt.scatter(x=table[['elevation']],y=table[[1]])"
   ]
  },
  {
   "cell_type": "code",
   "execution_count": 43,
   "metadata": {
    "collapsed": false
   },
   "outputs": [
    {
     "data": {
      "text/plain": [
       "<matplotlib.collections.PathCollection at 0x114c7cb90>"
      ]
     },
     "execution_count": 43,
     "metadata": {},
     "output_type": "execute_result"
    },
    {
     "data": {
      "image/png": "[encoded data removed]",
      "text/plain": [
       "<matplotlib.figure.Figure at 0x1140a7dd0>"
      ]
     },
     "metadata": {},
     "output_type": "display_data"
    }
   ],
   "source": [
    "plt.scatter(x=table[['longitude']],y=table[['elevation']])"
   ]
  },
  {
   "cell_type": "code",
   "execution_count": null,
   "metadata": {
    "collapsed": true
   },
   "outputs": [],
   "source": []
  }
 ],
 "metadata": {
  "anaconda-cloud": {},
  "hide_input": false,
  "kernelspec": {
   "display_name": "Python [default]",
   "language": "python",
   "name": "python2"
  },
  "language_info": {
   "codemirror_mode": {
    "name": "ipython",
    "version": 2
   },
   "file_extension": ".py",
   "mimetype": "text/x-python",
   "name": "python",
   "nbconvert_exporter": "python",
   "pygments_lexer": "ipython2",
   "version": "2.7.13"
  },
  "toc": {
   "colors": {
    "hover_highlight": "#DAA520",
    "running_highlight": "#FF0000",
    "selected_highlight": "#FFD700"
   },
   "moveMenuLeft": true,
   "nav_menu": {
    "height": "174px",
    "width": "252px"
   },
   "navigate_menu": true,
   "number_sections": true,
   "sideBar": true,
   "threshold": 4,
   "toc_cell": false,
   "toc_section_display": "block",
   "toc_window_display": false,
   "widenNotebook": false
  },
  "widgets": {
   "state": {},
   "version": "1.0.0"
  }
 },
 "nbformat": 4,
 "nbformat_minor": 1
}
