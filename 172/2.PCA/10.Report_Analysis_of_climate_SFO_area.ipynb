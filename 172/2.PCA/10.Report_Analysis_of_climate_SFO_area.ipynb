{
 "cells": [
  {
   "cell_type": "code",
   "execution_count": 5,
   "metadata": {
    "collapsed": true,
    "run_control": {
     "frozen": false,
     "read_only": false
    }
   },
   "outputs": [],
   "source": [
    "!open r_figures/SFO_Region.png"
   ]
  },
  {
   "cell_type": "markdown",
   "metadata": {
    "run_control": {
     "frozen": false,
     "read_only": false
    }
   },
   "source": [
    "# Understanding the Weather Data\n",
    "Before we begin our the analysis it is important to understand the weather data.\n",
    "\n",
    "The source of the data is [National Centers For Environmental Information](https://www.ncdc.noaa.gov/). Specifically, it was downloaded from This [FTP site](ftp://ftp.ncdc.noaa.gov/pub/data/ghcn/daily/).\n",
    "\n",
    "We focus on six measurements:\n",
    "* **TMIN, TMAX:** the daily minimum and maximum temperature (in tenth of degree C).\n",
    "* **TOBS:** The Temperature at the time of observation on each day(in tenth of degree C).\n",
    "* **PRCP:** Daily Precipitation (in mm)\n",
    "* **SNOW:** Daily snowfall (in mm)\n",
    "* **SNWD:** The depth of accumulated snow( in mm).\n",
    "\n",
    "These measurements are captured every day on hundreds of stations deployed over the region. The database holds the measurements for last 120 years (from 1893 to 2012).\n",
    "\n",
    "# San Francisco Region Weather Analysis\n",
    "<p>This report focusses on 6500 Sq.Miles of region around San Francesco.\n",
    "Between Latitudes 37.48 and 38.22 and between Longitudes -120.8 and -123.2\n",
    "(51Miles(N-S) x 127Miles(E-W)). There are 134 weather stations in this region. </p>\n",
    "\n",
    "<p>&nbsp;</p>\n",
    "\n",
    "<p><img alt=\"SFO_Region.png\" src=\"r_figures/SFO_Region.png\" style=\"height:300px; width:800px\" /></p>\n",
    "<p>&nbsp;</p>\n",
    "The summary of the data available for SFO region:\n",
    "\n",
    "<p><img alt=\"SFO_Data_summary.png\" src=\"r_figures/SFO_Data_summary.png\" style=\"height:200px; width:600px\"  /></p>\n"
   ]
  },
  {
   "cell_type": "markdown",
   "metadata": {
    "run_control": {
     "frozen": false,
     "read_only": false
    }
   },
   "source": [
    "\n",
    "\n",
    "## Sanity-check: comparison with outside sources\n",
    "\n",
    "<p>We start by comparing some of the general statistics with graphs that we obtained from a site called <a href=\"http://www.usclimatedata.com/climate/san-francisco/california/united-states/usca0987\" target=\"_blank\">US Climate Data</a> The graphs below shows the daily minimum and maximum temperatures for each month, as well as the total precipitation for each month. The monthly average is taken over a period of 30 years (between 1981 and 2010). I included the charts for SFO, Berkley and WalnutCreek to cover the climate in different places across SFO region.</p>\n",
    "\n",
    "<p>&nbsp;</p>\n",
    "\n",
    "<p><img alt=\"Climate_SFO.png\" src=\"r_figures/Climate_SFO.png\" style=\"height:300px; width:400px\" /> </p>\n",
    "<p><img alt=\"Climate_Berkley.png\" src=\"r_figures/Climate_Berkley.png\" style=\"height:300px; width:400px\"/></p>\n",
    "<p><img alt=\"Climate_Walnutcreek.png\" src=\"r_figures/Climate_Walnutcreek.png\" style=\"height:300px; width:400px\"/></p>\n",
    "\n",
    "\n",
    "<p>&nbsp;</p>\n",
    "\n",
    "<p> The charts below are obtained from our data. The Min/MAX/Precipitation values are daily averages taken over a period of 120 years and across 134 stations. Temperature values along Y axis are in tenth of a degree celsius. The the values in the charts above are monthly averages. We see that the min and max daily temperature agree with the ones we got from our data. </p>\n",
    "\n",
    "<p>Note: For the legend, In all of the mean+-STD plots below 0(blue) is mean-SDT, 1(Orange) is mean and 2(Green) is mean+STD </p>\n",
    "\n",
    "<p>&nbsp;</p>\n",
    "\n",
    "<p><img alt=\"SFO_TMAX_TMIN_mean.png\" src=\"r_figures/SFO_TMAX_TMIN_mean.png\" style=\"height:300px; width:800px\" /></p>\n",
    "\n",
    "\n",
    "#### Key Observations from TMAX and TMIN and TOBS mean+-STD plots:\n",
    "* TMIN shows more variation in winter and less variation in Summer where as TMAX shows more variation in Summer period and less variation in winter. This could be due to the fact that days are longer in summer and shorter in winter.\n",
    "* TOBS plots are smoother than TMAX or TMIN indicate less fluctuation between the days.\n",
    "\n",
    "\n",
    "<p>To compare the precipitation&nbsp;we need to translate millimeter/day to millimeter/month. According graph I generated from NOAA data the average precipitation is 20mm/day in the winter season which translates to about 600mm/month. This does not match with the data we got from USA climate data website which shows precipitation of about 120 mm/month.\n",
    "One reason could be because the average in our graph is over a 120 year period where as the USAClimate website has used 30 year average. This region must have seen more rain between 1893 and 1981 than during the period of 1981 and 2010. We will further analyze this data.</p>\n",
    "\n",
    "<p>&nbsp;<img alt=\"SFO_TOBS_PRCP_mean.png\" src=\"r_figures/SFO_TOBS_PRCP_mean.png\" style=\"height:300px; width:800px\" /></p>\n",
    "\n",
    "#### Key Observations from Precipitation mean+-STD plots:\n",
    "* SFO region receives most of the rain in winter and very little rain in summer.\n",
    "* The plot shows wide variation (between mean and mean+-STD)in the precipitation during winter season.\n",
    "* We clearly see lot of fluctuation in the daily average between days of year. \n",
    "\n",
    "\n",
    "<p>The daily average charts for snow and snow-depth show very little snow in this region.</p>\n",
    "\n",
    "<p>&nbsp;<img alt=\"SFO_SNWD_mean.png\" src=\"r_figures/SFO_SNWD_mean.png\" style=\"height:300px; width:800px\" /></p>\n",
    "\n",
    "#### Key Observations from Snow and Snow Depth mean+-STD plots:\n",
    "* SFO region receives very little snow. Average snow and snow-depth is close to zero. "
   ]
  },
  {
   "cell_type": "markdown",
   "metadata": {
    "run_control": {
     "frozen": false,
     "read_only": false
    }
   },
   "source": [
    "## PCA analysis\n",
    "For each of the six measurements, we compute Eigen decomposition and plot the top-3 Eigenvectors. We also plot the percentage of the variance explained as a function of the number of Eigenvectors used for the reconstruction.\n",
    "\n",
    "### Top-3 Eigen Vectors.\n",
    "<p>&nbsp;<img alt=\"SFO_TMAX_Eigen.png\" src=\"r_figures/SFO_TMAX_Eigen.png\" style=\"height:300px; width:800px\" /></p>\n",
    "<p>&nbsp;<img alt=\"SFO_TOBS_Eigen.png\" src=\"r_figures/SFO_TOBS_Eigen.png\" style=\"height:300px; width:800px\" /></p>\n",
    "<p>&nbsp;<img alt=\"SFO_SNWD_Eigen.png\" src=\"r_figures/SFO_SNWD_Eigen.png\" style=\"height:300px; width:800px\" /></p>\n",
    "\n",
    "\n",
    "### Percentage of variance explained.\n",
    "![SFO_TMAX_variance.png](r_figures/SFO_TMAX_variance.png)\n",
    "\n",
    "\n",
    "![SFO_SNWD_variance.png](r_figures/SFO_SNWD_variance.png)\n",
    "\n",
    "#### Analysis of PCA decomposition\n",
    "* Top 5 eigenvectors explain 38% of variance for TMIN, 60% for TOBS and 48% for TMAX.\n",
    "* TOBS is best explained by the top 5 eigenvectors. First Eigen vector itself explains 48% of the variance.\n",
    "* The first Eigen vector in TMIN and TOBS has similar shape the mean plot. The first Eigen vector of TMAX has inverted shape of the mean plot. They capture most of the magnitude in the reconstruction. \n",
    "* The third Eigen vector shows lot of fluctuation. In the reconstruction this vector explains the variation throughout the year across the years and stations. \n",
    "\n",
    "* Top 5 eigenvectors explain 65% of variance for SNOW, 75% for SNWD and 16% for PRCP.\n",
    "* Both SNOW and SNOW-Depth are best explained by the top 5 eigenvectors.\n",
    "* The plot of Top Eigenvectors shows just few spikes. We will further analyze snow-depth to get better insight on PCA decomposition.\n",
    "* Precipitation is very poorly explained by first 5 Eigenvectors. The large fluctuation in top Eigenvectors indicates that PRCP data fluctuates a lot between same day on different years and also between days on same year and station.\n"
   ]
  },
  {
   "cell_type": "markdown",
   "metadata": {
    "run_control": {
     "frozen": false,
     "read_only": false
    }
   },
   "source": [
    "## Analysis of SNWD (Snow Depth)\n",
    "\n",
    "We choose to analyze the eigen-decomposition for snow-depth because the first 5 eigenvectors explain 70% of the variance.\n",
    "\n",
    "The mean and top 3 Eigenvectors are close to zero except few spikes. This indicate a sparse data.\n",
    "\n",
    "![SFO_SNWD_mean_eigen.png](r_figures/SFO_SNWD_mean_eigen.png)\n",
    "\n",
    "When I filtered out the station-year combinations which had zero snow depth in the entire year (zero variance)\n",
    "I found 1912 rows with zero snow-depth out of 1930 rows. Remaining 18 rows correspond to few stations at higher elevation and they also have very little snow.\n",
    "\n",
    "Looking at the percentage of variance plot below we can conclude that 100% of variance was explained by less than 15 top eigenvectors due to small sample size.\n",
    "\n",
    "![SFO_SNWD_variance_ex.png](r_figures/SFO_SNWD_variance_ex.png)\n",
    "\n",
    "### Reconstruction plots for SNWD\n",
    "Out of 18 station-year samples (where it snowed) only  on 6 samples the reconstruction approximation with two eigenvectors is able to explain 60% of variance. The residual variance after the reconstruction is less than 40%.\n",
    "The reconstruction plots below show those 6 samples and their approximation using top 3 eigenvectors.\n",
    "\n",
    "![SFO_SNWD_recon_grid.png](r_figures/SFO_SNWD_recon_grid.png)\n",
    "\n",
    "<p>&nbsp;<img alt=\"SFO_SNWD_recon_coef_table.png\" src=\"r_figures/SFO_SNWD_recon_coef_table.png\" style=\"height:150px; width:700px\" /></p>\n",
    "\n",
    "\n",
    "The above table captures coefficient values and residuals after first and second eigenvector. \n",
    "### Key Observations and Conclusions\n",
    "* SNWD data is very small sample set as it hardly snows in SFO region. I have only 18 year-station samples out of 1930 to work with. There is zero snow-depth throughout the year for remaining 1912 samples. \n",
    "* With PCA decomposition we are able to represent the entire data set with 15 top eigenvectors and explain 100% variance.\n",
    "* We have some interesting observations on PCA reconstruction. We see from the reconstruction graph that for first 5 samples the first Eigenvector does not contribute to the approximation. We conclude this because Residual after first Eigenvector is still 1. The coefficients for first Eigen vector are extremely small. \n",
    "* We are able to reduce the residual to less than 20% after including  the second and third eigenvectors in the approximation. The coefficients of second Eigenvector are larger.  \n",
    "* For 6th sample the first Eigenvector was able to explain 100% of variance. \n",
    "* The Top-3 Eigenvector plot shows that the spikes are at different periods between January and March. we can conclude that these eigenvectors explain variance in different time windows between January and March.\n",
    "\n",
    "\n"
   ]
  },
  {
   "cell_type": "markdown",
   "metadata": {
    "run_control": {
     "frozen": false,
     "read_only": false
    }
   },
   "source": [
    "## Analysis of TOBS\n",
    "\n",
    "We choose to analyze the eigen-decomposition for TOBS (temperature at the time of observation) because the first 5 eigenvectors explain 60% of the variance. We will do a deeper analysis on this data using  PCA decomposition & reconstruction.\n",
    "\n",
    "![SFO_TOBS_mean_eigen.png](r_figures/SFO_TOBS_mean_eigen.png)\n",
    "\n",
    "From the variance plot we can see that 40% of variance is explained by first Eigenvector and 55% variance is explained by top-3 Eigenvectors.\n",
    "\n",
    "![SFO_TOBS_variance_ex2.png](r_figures/SFO_TOBS_variance_ex2.png)\n",
    "\n",
    "### Analysis of large positive and negative coefficients on Reconstruction\n",
    "Coeff_1 is the coefficient of first eigenvector. The CDF of coeff_1 shows that the value ranges between -1300 and +1500. \n",
    "![SFO_TOBS_coef1_cdf.png](r_figures/SFO_TOBS_coef1_cdf.png)\n",
    "Due to its large variation we select coefficient-1 to study the impact of positive and negative values on the approximation. Below is the table of sample rows we pick to represent large positive and negative coefficients.\n",
    "<p><img alt=\"SFO_TOBS_coef_table.png\" src=\"r_figures/SFO_TOBS_coef_table.png\" style=\"height:500px; width:800px\" /> </p>\n",
    "\n",
    "####  Reconstruction with top-3 positive  coef-1 (coefficient of first Eigenvector)\n",
    "![SFO_TOBS_recon_grid2.png](r_figures/SFO_TOBS_recon_grid2.png)\n",
    "####  Reconstruction with top-3 Negative  coef-1 (coefficient of first Eigenvector)\n",
    "![SFO_TOBS_recon_grid1.png](r_figures/SFO_TOBS_recon_grid1.png)\n",
    "####  Reconstruction with top-3 coef-1  that are close to zero\n",
    "![SFO_TOBS_recon_grid3.png](r_figures/SFO_TOBS_recon_grid3.png)\n",
    "####  Reconstruction with top-3 positive coef-2  (coefficient of Second Eigenvector)\n",
    "![SFO_TOBS_recon_grid3.png](r_figures/SFO_TOBS_recon_grid4.png)\n",
    "####  Reconstruction with top-3  Negative coef-2  (coefficient of Second Eigenvector)\n",
    "![SFO_TOBS_recon_grid3.png](r_figures/SFO_TOBS_recon_grid5.png)\n",
    "\n",
    " \n",
    "### Analysis of Reconstruction plots \n",
    "* First row of plots show the impact of large positive coeff-1 values on approximation function. The target function is above the mean and coeff-1 with eigenvector-1 is acting as multiplicative term (shifts the same shape of mean up to match the target.  The approximation looks very good. as the target function and reconstruction plots overlap pretty closely. This is also confirmed by very low residual-1 value(.2). This means, with first Eigenvector itself we are able to explain 80% of the variance in the sample function. The contributions from second and third eigenvectors to variance is not significant as the delta between residual-2 and residual-1 or residual-3 and residual-2 is less than 2%\n",
    "* The second row of plots is done using large negative coef-1 values. Target function is below mean and negative coefficient helped to shift the approximation function (orange line) down so that it correlates well with target function. Again the first eigenvector with its coefficient works as multiplicative term on mean in the transformation. 80% of Variance is explained by first eigenvector. The contributions from second and third eigenvectors to variance is not significant as the delta between residual-2 and residual-1 or residual-3 and residual-2 is less than 2%\n",
    "\n",
    "* Third row of plots uses coef-1 values that are close to zero. This shows very interesting results. The shape of the target function  differs from the approximation function from eigenvector-1 (orange). However the shape of target function correlates well with the approximation functions from eigenvectors 2 and 3. The approximation function from Eigenvector1 stayed close to mean. Just by observing the plots we can conclude that the first eigenvector does not make significant contribution to the approximation but next two eigenvectors do contribute well. this conclusion is also supported by the following data:\n",
    "    * large residual-1 value (>95%) and small residual values (<35%) for eig-2 and eig-3. This indicates only 5% of the variance was explained by first eigenvector but with top-3 eigenvectors we are able to explain 65% of variance.\n",
    "    * small coefficients with eig-1 and large coefficient values of eig-2 and eig-3.  \n",
    "\n",
    "* One important observation is that the plots of reconstructions with coeff-1, 2 and 3 are smooth. they are not capturing the fluctuation between the days of same year or station or fluctuation between years or between stations. Even though the target signal is very noisy and shows lot of fluctuations.\n",
    "\n",
    "#### With above analysis we can draw following important conclusions on climate data:\n",
    "* The station-year samples with large positive coefficients of first eigenvector and small coefficients with eig-2 and eig-3 represent the years where TOBS was above the average TOBS throughout the year.\n",
    "* The station-year samples with large negative coefficients of first eigenvector and small coefficients with eig-2 and eig-3 represent the years where TOBS was below the average throughout the year.\n",
    "* The station-year samples with small coefficients (between 200 and -200) of first eigenvector and large coefficient of eig-2 represent the years where TOBS was below average in summer and above average in winter. \n",
    "The analysis of interactive plots in the next section also supports this conclusion.\n",
    "\n",
    "\n",
    "### Analysis of Interactive plots \n",
    "I used interactive plots to analyze the impact of coeff-1 on reconstruction of a single target function.\n",
    "I picked a function whose approximation gives a large positive coefficient. \n",
    "* The first plot shows the best approximation with optimal coefficient value of 1425.\n",
    "* In plot-2 I reduce coeff-1 to zero. I can see the plot of approximation function shifts below the target.\n",
    "* In plot-3 When I increase the coeff-1 to 2055 approximation functions shift above the target function.\n",
    "* Approximation function with coef-1 not change the shape significantly. The approximation plot of coeff-1 (orange) closely resembles the mean. In the Approximation (global transformation) it is acting as multiplicative term on mean. Therefore it is representing the magnitude of the target function.\n",
    "* plots of reconstructions with coeff-1, 2 and 3 are smooth. they are not capturing the fluctuation between the days of same year or station or fluctuation between years or between stations. Even though the target signal is very noisy and shows lot of fluctuations.\n",
    "* The shift in the approximation function shows larger variation in the middle (summer season) than at the edges (winter period).\n",
    "\n",
    "\n",
    "####  Interactive plot - Reconstruction with optimum values\n",
    "<p><img alt=\"SFO_TOBS_interactive_best.png\" src=\"r_figures/SFO_TOBS_interactive_best.png\" style=\"height:300px; width:400px\" /> </p>\n",
    "\n",
    "####   Interactive plot - Reconstruction after setting coeff1 to zero\n",
    "<p><img alt=\"SFO_TOBS_interactive1.png\" src=\"r_figures/SFO_TOBS_interactive1.png\" style=\"height:300px; width:400px\" /> </p>\n",
    "####  Interactive plot - Reconstruction after setting coeff1 to max\n",
    "<p><img alt=\"SFO_TOBS_interactive2.png\" src=\"r_figures/SFO_TOBS_interactive2.png\" style=\"height:300px; width:400px\" /> </p>\n",
    "\n",
    "### Analysis of CDF plots for residuals\n",
    "To analyze cumulative distribution of residuals I selected residual-3. For this we need to understand how the residual is computed. Residual-3 represents the % of variance that is not explained after the approximation using mean and top 3 eigenvectors on a target sample (function)\n",
    "\n",
    "$$\n",
    "\\ res_3 = f - m - coeff_1 * eigenvector1 - coeff_2 * eigenvector2 - coeff_3 * eigenvector3\n",
    "$$\n",
    "\n",
    "In our data we normalize the residual values by dividing the values by (f-m) which is residual-0\n",
    "![SFO_TOBS_res3_cdf.png](r_figures/SFO_TOBS_res3_cdf.png)\n",
    "\n",
    "* In the graph y axis shows the %of samples that are explained by res_3.  \n",
    "* 10% of the samples show residual-3 of .25 or lower: This indicates- just using top-3 Eigen vectors we can explain at  least 75% of the variance for 10% of samples.\n",
    "* 50% of the samples show residual-3 of .50 or lower: This indicates - just using top-3 Eigen vectors we can explain at least 50% of the variance for 50% of samples.\n",
    "\n"
   ]
  },
  {
   "cell_type": "markdown",
   "metadata": {
    "run_control": {
     "frozen": false,
     "read_only": false
    }
   },
   "source": [
    "# Analyzing Geographical climate pattern using PCA coefficients\n",
    "<p>In this section we will analyze the climate pattern on the map. The conclusion from the previous section was that the strong positive values of coef-1 indicate above average temperatures in the summer season and large negative values indicate below average temperature in summer season. Large negative values for coef-2 indicate above average temperatures in the winter season and below average temperature in the summer season. </p>\n",
    "<p>For every station in the region we aggregate the values across all years and take the average of coef-1 and coef-2 values. This indicates average TOBS at each station across all years. </p>\n",
    "<p>The diameter of the circles on the plot indicate the number of measurements available for the station. The color of the circle indicates the value of coefficient (large negative: drak blue, negative: blue, close to zero: green, small positive yellow, large positive: red). </p>\n",
    "\n",
    "<p>&nbsp;</p>\n",
    "\n",
    "### Map of stations with average Coefficient-1 values\n",
    "<p><img alt=\"SFO_ipyleaflet_map_c1.png\" src=\"r_figures/SFO_ipyleaflet_map_c1.png\" style=\"height:300px; width:800px\" /></p>\n",
    "#### Observations:\n",
    "* TOBS observed in Most of the coastal region is close to mean value (represented by light blue, green and yellow color circles).\n",
    "* Most of the regions that experience above average temperatures in summer are inland (represented by red circles)\n",
    "* There are also few regions inland that experience below average temperature in summer season (represented by dark blue circles.\n",
    "* I could not derive any conclusion with confidence on this data.\n",
    "\n",
    "### Map of stations with average Coefficient-2 values\n",
    "<p><img alt=\"SFO_ipyleaflet_map_c2.png\" src=\"r_figures/SFO_ipyleaflet_map_c2.png\" style=\"height:300px; width:800px\" /></p>\n",
    "#### Observations:\n",
    "* A clear Geographical pattern emerges from this plot.  \n",
    "* All red circles are concentrated on Coastal region. These large positive coef-2 values represent above-average temperature in winter and below average temperature in summer season. This is true for coastal region.\n",
    "* As we move away from coastal region into inland we see color of the circles become darker blues. Dark blue circles indicate large negative coef-2 values and represent below average temperature in winter.\n"
   ]
  },
  {
   "cell_type": "markdown",
   "metadata": {
    "run_control": {
     "frozen": false,
     "read_only": false
    }
   },
   "source": [
    "# Analyzing If TOBS variation is temporal or spatial\n",
    "<p> In previous sections we concluded that coefficient-1 of first eigenvector represents the magnitude of observed temperature. In this section we will analyze the variation of TOBS from year to year and from station to station using the coefficient-1 values. </p>\n",
    "<p>We create a pivot table with years as indexes and stations as columns and values as coef-1 values. A portion of the table is shown below </p>\n",
    "<p><img alt=\"SFO_st_yr_pivot_table.png\" src=\"r_figures/SFO_st_yr_pivot_table.png\" style=\"height:200px; width:600px\" /></p>\n",
    "<p> To understand the temporal variation (variation from year to year) we compute RMS of mean-by-year. To understand the spatial variation (variation from station to station) we compute RMS of mean-by-station. </p>\n",
    "Results we obtained are shown below:\n",
    "\n",
    "<p><img alt=\"SFO_RMS_computation1.png\" src=\"r_figures/SFO_RMS_computation1.png\" style=\"height:200px; width:400px\" /></p>\n",
    "\n",
    "<p> The above results indicate that for TOBS temporal variation is larger than spatial variation. This means coef-1 or magnitude of TOBS varies widely from year to year than from station to station. </p>\n",
    "\n",
    "<p> When we subtract the row means or column means from the values the remaining values are residuals. We reduce this explanatory power in a iterative fashion (reduce by row ->reduce by column->repeat the steps) until the improvement between these steps reduces to s small percentage. We obtained below results with this process. </p>\n",
    "\n",
    "<p><img alt=\"SFO_RMS_computation2.png\" src=\"r_figures/SFO_RMS_computation2.png\" style=\"height:300px; width:400px\" /></p>\n",
    "\n",
    "\n",
    "<p>&nbsp;</p>\n"
   ]
  },
  {
   "cell_type": "markdown",
   "metadata": {
    "run_control": {
     "frozen": false,
     "read_only": false
    }
   },
   "source": []
  }
 ],
 "metadata": {
  "anaconda-cloud": {},
  "kernelspec": {
   "display_name": "Python [conda root]",
   "language": "python",
   "name": "conda-root-py"
  },
  "language_info": {
   "codemirror_mode": {
    "name": "ipython",
    "version": 2
   },
   "file_extension": ".py",
   "mimetype": "text/x-python",
   "name": "python",
   "nbconvert_exporter": "python",
   "pygments_lexer": "ipython2",
   "version": "2.7.13"
  },
  "toc": {
   "colors": {
    "hover_highlight": "#DAA520",
    "running_highlight": "#FF0000",
    "selected_highlight": "#FFD700"
   },
   "moveMenuLeft": true,
   "nav_menu": {
    "height": "12px",
    "width": "252px"
   },
   "navigate_menu": true,
   "number_sections": true,
   "sideBar": true,
   "threshold": 4,
   "toc_cell": false,
   "toc_section_display": "block",
   "toc_window_display": false
  }
 },
 "nbformat": 4,
 "nbformat_minor": 2
}
