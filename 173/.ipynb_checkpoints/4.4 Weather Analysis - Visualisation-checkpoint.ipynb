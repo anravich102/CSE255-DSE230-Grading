{
 "cells": [
  {
   "cell_type": "markdown",
   "metadata": {
    "run_control": {
     "frozen": false,
     "read_only": false
    }
   },
   "source": [
    "### Visualizing the distribution of the observations\n",
    "\n",
    "### Load the required libraries"
   ]
  },
  {
   "cell_type": "code",
   "execution_count": 1,
   "metadata": {
    "run_control": {
     "frozen": false,
     "read_only": false
    },
    "slideshow": {
     "slide_type": "slide"
    }
   },
   "outputs": [
    {
     "name": "stdout",
     "output_type": "stream",
     "text": [
      "Populating the interactive namespace from numpy and matplotlib\n",
      "keys from STAT= ['TMIN', 'TOBS', 'TMAX', 'SNOW', 'SNWD', 'PRCP']\n",
      "12433\n",
      "+---------+--------+---------+-----------+-----------+------+--------------------+------+--------+\n",
      "|elevation|latitude|longitude|measurement|    station|undefs|              vector|  year|   label|\n",
      "+---------+--------+---------+-----------+-----------+------+--------------------+------+--------+\n",
      "|   1731.9| 37.6833|-113.0833|       TMAX|USC00421272|     4|[80 4D 80 C9 00 0...|1907.0|SSSBBSSB|\n",
      "|   1731.9| 37.6833|-113.0833|       TMAX|USC00421272|    29|[00 7E A0 53 00 C...|1911.0|SSSBBSSB|\n",
      "|   1731.9| 37.6833|-113.0833|       TMAX|USC00421272|    18|[40 CC 40 4C 80 C...|1912.0|SSSBBSSB|\n",
      "|   1731.9| 37.6833|-113.0833|       TMAX|USC00421272|    36|[40 56 A0 56 58 5...|1915.0|SSSBBSSB|\n",
      "|   1731.9| 37.6833|-113.0833|       TMAX|USC00421272|    40|[20 50 30 54 30 5...|1916.0|SSSBBSSB|\n",
      "+---------+--------+---------+-----------+-----------+------+--------------------+------+--------+\n",
      "only showing top 5 rows\n",
      "\n"
     ]
    }
   ],
   "source": [
    "import pandas as pd\n",
    "import numpy as np\n",
    "import sklearn as sk\n",
    "import urllib\n",
    "import math\n",
    "%pylab inline\n",
    "\n",
    "import findspark\n",
    "findspark.init()\n",
    "\n",
    "from pyspark import SparkContext\n",
    "#sc.stop()\n",
    "sc = SparkContext(master=\"local[3]\",pyFiles=['lib/numpy_pack.py','lib/spark_PCA.py','lib/computeStats.py'])\n",
    "\n",
    "from pyspark import SparkContext\n",
    "from pyspark.sql import *\n",
    "sqlContext = SQLContext(sc)\n",
    "\n",
    "import sys\n",
    "sys.path.append('./lib')\n",
    "\n",
    "import numpy as np\n",
    "from numpy_pack import packArray,unpackArray\n",
    "from spark_PCA import computeCov\n",
    "from computeStats import computeOverAllDist, STAT_Descriptions\n",
    "\n",
    "### Read the data frame from pickle file\n",
    "\n",
    "data_dir='../../Data/Weather'\n",
    "file_index='SSSBBSSB'\n",
    "\n",
    "from pickle import load\n",
    "\n",
    "#read statistics\n",
    "filename=data_dir+'/STAT_%s.pickle'%file_index\n",
    "STAT,STAT_Descriptions = load(open(filename,'rb'))\n",
    "print 'keys from STAT=',STAT.keys()\n",
    "\n",
    "#read data\n",
    "filename=data_dir+'/US_Weather_%s.parquet'%file_index\n",
    "\n",
    "df=sqlContext.read.parquet(filename)\n",
    "print df.count()\n",
    "df.show(5)"
   ]
  },
  {
   "cell_type": "markdown",
   "metadata": {
    "run_control": {
     "frozen": false,
     "read_only": false
    },
    "slideshow": {
     "slide_type": "slide"
    }
   },
   "source": [
    "### Select data for a particular station and measurement type"
   ]
  },
  {
   "cell_type": "code",
   "execution_count": 2,
   "metadata": {
    "run_control": {
     "frozen": false,
     "read_only": false
    },
    "slideshow": {
     "slide_type": "subslide"
    }
   },
   "outputs": [
    {
     "name": "stdout",
     "output_type": "stream",
     "text": [
      "SELECT * FROM weather\n",
      "\tWHERE measurement='PRCP' and station='USC00421272'\n",
      "42 rows\n",
      "+---------+--------+---------+-----------+-----------+------+--------------------+------+--------+\n",
      "|elevation|latitude|longitude|measurement|    station|undefs|              vector|  year|   label|\n",
      "+---------+--------+---------+-----------+-----------+------+--------------------+------+--------+\n",
      "|   1731.9| 37.6833|-113.0833|       PRCP|USC00421272|    31|[C0 50 80 4A 00 0...|1906.0|SSSBBSSB|\n",
      "|   1731.9| 37.6833|-113.0833|       PRCP|USC00421272|     2|[20 51 00 00 00 0...|1907.0|SSSBBSSB|\n",
      "+---------+--------+---------+-----------+-----------+------+--------------------+------+--------+\n",
      "only showing top 2 rows\n",
      "\n"
     ]
    },
    {
     "data": {
      "text/plain": [
       "(42, 365)"
      ]
     },
     "execution_count": 2,
     "metadata": {},
     "output_type": "execute_result"
    }
   ],
   "source": [
    "sqlContext.registerDataFrameAsTable(df,'weather')\n",
    "Query=\"SELECT * FROM weather\\n\\tWHERE measurement='%s' and station='%s'\"%('PRCP','USC00421272')\n",
    "print Query\n",
    "df1 = sqlContext.sql(Query)\n",
    "print df1.count(),'rows'\n",
    "df1.show(2)\n",
    "rows=df1.rdd.map(lambda row:unpackArray(row['vector'],np.float16)).collect()\n",
    "T=np.vstack(rows)\n",
    "T=T/10.  # scaling to make the temperature be in centingrates\n",
    "shape(T)"
   ]
  },
  {
   "cell_type": "markdown",
   "metadata": {
    "run_control": {
     "frozen": false,
     "read_only": false
    },
    "slideshow": {
     "slide_type": "slide"
    }
   },
   "source": [
    "### Script for plotting yearly plots"
   ]
  },
  {
   "cell_type": "code",
   "execution_count": 3,
   "metadata": {
    "run_control": {
     "frozen": false,
     "read_only": false
    },
    "scrolled": false,
    "slideshow": {
     "slide_type": "subslide"
    }
   },
   "outputs": [
    {
     "data": {
      "image/png": "iVBORw0KGgoAAAANSUhEUgAAAlMAAAGNCAYAAAA1nfQqAAAABHNCSVQICAgIfAhkiAAAAAlwSFlz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\nRSqEYo