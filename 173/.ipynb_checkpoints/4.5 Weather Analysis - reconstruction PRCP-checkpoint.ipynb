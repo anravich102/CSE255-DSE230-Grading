{
 "cells": [
  {
   "cell_type": "code",
   "execution_count": 1,
   "metadata": {
    "collapsed": true,
    "run_control": {
     "frozen": false,
     "read_only": false
    }
   },
   "outputs": [],
   "source": [
    "#setup\n",
    "data_dir='../../Data/Weather'\n",
    "file_index='SSSBBSSB'\n",
    "m='PRCP'"
   ]
  },
  {
   "cell_type": "markdown",
   "metadata": {
    "run_control": {
     "frozen": false,
     "read_only": false
    },
    "slideshow": {
     "slide_type": "slide"
    },
    "variables": {
     "m": "PRCP"
    }
   },
   "source": [
    "# Reconstruction using top eigen-vectors\n",
    "For measurement = {{m}}"
   ]
  },
  {
   "cell_type": "markdown",
   "metadata": {
    "run_control": {
     "frozen": false,
     "read_only": false
    },
    "slideshow": {
     "slide_type": "skip"
    }
   },
   "source": [
    "## Load the required libraries"
   ]
  },
  {
   "cell_type": "code",
   "execution_count": 2,
   "metadata": {
    "run_control": {
     "frozen": false,
     "read_only": false
    },
    "slideshow": {
     "slide_type": "skip"
    }
   },
   "outputs": [],
   "source": [
    "# Enable automiatic reload of libraries\n",
    "#%load_ext autoreload\n",
    "#%autoreload 2 # means that all modules are reloaded before every command"
   ]
  },
  {
   "cell_type": "code",
   "execution_count": 3,
   "metadata": {
    "run_control": {
     "frozen": false,
     "read_only": false
    },
    "slideshow": {
     "slide_type": "skip"
    }
   },
   "outputs": [
    {
     "name": "stdout",
     "output_type": "stream",
     "text": [
      "Populating the interactive namespace from numpy and matplotlib\n",
      "    pandas as    pd \tversion=0.19.2 \trequired version>=0.19.2\n",
      "     numpy as    np \tversion=1.11.3 \trequired version>=1.12.0 ******* Update Version ******\n",
      "   sklearn as    sk \tversion=0.18.1 \trequired version>=0.18.1\n",
      "    urllib as urllib \tversion=1.17 \trequired version>=1.17\n",
      "   pyspark as pyspark \tversion=2.1.0+hadoop2.7 \trequired version>=2.1.0\n",
      "ipywidgets as ipywidgets \tversion=6.0.0 \trequired version>=6.0.0\n"
     ]
    }
   ],
   "source": [
    "%pylab inline\n",
    "import numpy as np\n",
    "\n",
    "import findspark\n",
    "findspark.init()\n",
    "\n",
    "import sys\n",
    "sys.path.append('./lib')\n",
    "\n",
    "from numpy_pack import packArray,unpackArray\n",
    "\n",
    "from Eigen_decomp import Eigen_decomp\n",
    "from YearPlotter import YearPlotter\n",
    "from recon_plot import recon_plot\n",
    "\n",
    "from import_modules import import_modules,modules\n",
    "import_modules(modules)\n",
    "\n",
    "from ipywidgets import interactive,widgets"
   ]
  },
  {
   "cell_type": "code",
   "execution_count": 4,
   "metadata": {
    "run_control": {
     "frozen": false,
     "read_only": false
    },
    "slideshow": {
     "slide_type": "skip"
    }
   },
   "outputs": [],
   "source": [
    "from pyspark import SparkContext\n",
    "#sc.stop()\n",
    "\n",
    "sc = SparkContext(master=\"local[3]\",pyFiles=['lib/numpy_pack.py','lib/spark_PCA.py','lib/computeStats.py','lib/recon_plot.py','lib/Eigen_decomp.py'])\n",
    "\n",
    "from pyspark import SparkContext\n",
    "from pyspark.sql import *\n",
    "sqlContext = SQLContext(sc)\n",
    "\n",
    "\n",
    "\n"
   ]
  },
  {
   "cell_type": "markdown",
   "metadata": {
    "run_control": {
     "frozen": false,
     "read_only": false
    },
    "slideshow": {
     "slide_type": "slide"
    }
   },
   "source": [
    "## Read Statistics File"
   ]
  },
  {
   "cell_type": "code",
   "execution_count": 5,
   "metadata": {
    "collapsed": true,
    "run_control": {
     "frozen": false,
     "read_only": false
    },
    "slideshow": {
     "slide_type": "fragment"
    }
   },
   "outputs": [],
   "source": [
    "data_dir='../../Data/Weather'\n",
    "file_index='SSSBBSSB'"
   ]
  },
  {
   "cell_type": "code",
   "execution_count": 6,
   "metadata": {
    "run_control": {
     "frozen": false,
     "read_only": false
    },
    "slideshow": {
     "slide_type": "subslide"
    }
   },
   "outputs": [
    {
     "name": "stdout",
     "output_type": "stream",
     "text": [
      "keys from STAT= ['TMIN', 'TOBS', 'TMAX', 'SNOW', 'SNWD', 'PRCP']\n"
     ]
    }
   ],
   "source": [
    "from pickle import load\n",
    "\n",
    "#read statistics\n",
    "filename=data_dir+'/STAT_%s.pickle'%file_index\n",
    "STAT,STAT_Descriptions = load(open(filename,'rb'))\n",
    "measurements=STAT.keys()\n",
    "print 'keys from STAT=',measurements"
   ]
  },
  {
   "cell_type": "markdown",
   "metadata": {
    "run_control": {
     "frozen": false,
     "read_only": false
    },
    "slideshow": {
     "slide_type": "slide"
    }
   },
   "source": [
    "## Read data file into a spark DataFrame\n",
    "We focus on the snow-depth records, because the eigen-vectors for them make sense."
   ]
  },
  {
   "cell_type": "code",
   "execution_count": 7,
   "metadata": {
    "run_control": {
     "frozen": false,
     "read_only": false
    },
    "scrolled": true,
    "slideshow": {
     "slide_type": "subslide"
    }
   },
   "outputs": [
    {
     "name": "stdout",
     "output_type": "stream",
     "text": [
      "+---------+--------+---------+-----------+-----------+------+--------------------+------+--------+\n",
      "|elevation|latitude|longitude|measurement|    station|undefs|              vector|  year|   label|\n",
      "+---------+--------+---------+-----------+-----------+------+--------------------+------+--------+\n",
      "|   1677.9| 37.5167|-114.2667|       PRCP|USC00260645|    16|[00 00 C0 4D 00 0...|1950.0|SSSBBSSB|\n",
      "|   1731.9| 37.6833|-113.0833|       PRCP|USC00421272|    31|[C0 50 80 4A 00 0...|1906.0|SSSBBSSB|\n",
      "|   1731.9| 37.6833|-113.0833|       PRCP|USC00421272|     2|[20 51 00 00 00 0...|1907.0|SSSBBSSB|\n",
      "|   1731.9| 37.6833|-113.0833|       PRCP|USC00421272|    32|[00 00 00 00 00 0...|1908.0|SSSBBSSB|\n",
      "|   1731.9| 37.6833|-113.0833|       PRCP|USC00421272|    27|[00 00 00 00 00 0...|1912.0|SSSBBSSB|\n",
      "+---------+--------+---------+-----------+-----------+------+--------------------+------+--------+\n",
      "only showing top 5 rows\n",
      "\n"
     ]
    }
   ],
   "source": [
    "#read data\n",
    "filename=data_dir+'/US_Weather_%s.parquet'%file_index\n",
    "df_in=sqlContext.read.parquet(filename)\n",
    "#filter in \n",
    "df=df_in.filter(df_in.measurement==m)\n",
    "df.show(5)"
   ]
  },
  {
   "cell_type": "markdown",
   "metadata": {
    "run_control": {
     "frozen": false,
     "read_only": false
    },
    "slideshow": {
     "slide_type": "subslide"
    }
   },
   "source": [
    "### Create a matrix with all of the series"
   ]
  },
  {
   "cell_type": "code",
   "execution_count": 8,
   "metadata": {
    "run_control": {
     "frozen": false,
     "read_only": false
    }
   },
   "outputs": [
    {
     "data": {
      "text/plain": [
       "(2441, 365)"
      ]
     },
     "execution_count": 8,
     "metadata": {},
     "output_type": "execute_result"
    }
   ],
   "source": [
    "rows=df.rdd.map(lambda row:unpackArray(row['vector'],np.float16)).collect()\n",
    "\n",
    "T=np.vstack(rows)\n",
    "shape(T)"
   ]
  },
  {
   "cell_type": "markdown",
   "metadata": {
    "run_control": {
     "frozen": false,
     "read_only": false
    },
    "slideshow": {
     "slide_type": "subslide"
    }
   },
   "source": [
    "### Plot two time series\n",
    "`SNWD` stands for `snow-depth`, which explains why it is zero during the summer"
   ]
  },
  {
   "cell_type": "code",
   "execution_count": 9,
   "metadata": {
    "run_control": {
     "frozen": false,
     "read_only": false
    },
    "slideshow": {
     "slide_type": "fragment"
    }
   },
   "outputs": [
    {
     "data": {
      "image/png": "iVBORw0KGgoAAAANSUhEUgAAAXoAAAD6CAYAAACvZ4z8AAAABHNCSVQICAgIfAhkiAAAAAlwSFlz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\n6A0Gg6HBMYbeYDAYGhxj6A0Gg6HB+f/kjcLKNo736AAAAABJRU5ErkJggg==\n",
      "text/plain": [
       "<matplotlib.figure.Figure at 0x7f5fe02ac250>"
      ]
     },
     "metadata": {},
     "output_type": "display_data"
    }
   ],
   "source": [
    "fig, ax = plt.subplots(figsize=(6,4));\n",
    "YP=YearPlotter()\n",
    "YP.plot(T[16:18].transpose(),fig,ax,title=m)"
   ]
  },
  {
   "cell_type": "markdown",
   "metadata": {
    "run_control": {
     "frozen": false,
     "read_only": false
    },
    "slideshow": {
     "slide_type": "slide"
    }
   },
   "source": [
    "### Plot Reconstructions\n",
    "\n",
    "Construct approximations of a time series using the mean and the $k$ top eigen-vectors\n",
    "First, we plot the mean and the top $k$ eigenvectors"
   ]
  },
  {
   "cell_type": "code",
   "execution_count": 10,
   "metadata": {
    "run_control": {
     "frozen": false,
     "read_only": false
    },
    "scrolled": false,
    "slideshow": {
     "slide_type": "subslide"
    }
   },
   "outputs": [
    {
     "data": {
      "image/png": "iVBORw0KGgoAAAANSUhEUgAAAl8AAAFcCAYAAAD2w9suAAAABHNCSVQICAgIfAhkiAAAAAlwSFlz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\n/+QYJuOyMW5x