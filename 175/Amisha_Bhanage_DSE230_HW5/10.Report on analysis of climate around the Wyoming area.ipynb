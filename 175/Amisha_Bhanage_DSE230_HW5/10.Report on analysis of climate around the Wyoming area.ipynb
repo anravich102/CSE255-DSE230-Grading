{
 "cells": [
  {
   "cell_type": "markdown",
   "metadata": {
    "run_control": {
     "frozen": false,
     "read_only": false
    }
   },
   "source": [
    "# Wyoming Weather Analysis\n",
    "\n",
    "This is a report on the historical analysis of weather patterns in an area that approximately overlaps the area of the state of Wyoming. The area under analysis is inside the blue box in the map displayed below.\n",
    "\n",
    "![ipyleaflet](HW5_figures/ipyleaflet.png)\n",
    "\n",
    "The data we will use here comes from [National Oceanic and Atmospheric Administration (NOAA)](https://www.ncdc.noaa.gov/). Specifically, Global Historical Climatology Network ‐ Daily (GHCN‐D) data was downloaded from this FTP site (ftp://ftp.ncdc.noaa.gov/pub/data/ghcn/daily/).\n",
    "\n",
    "We will focus on the following measurements of six meteorological elements:\n",
    "* **TMIN, TMAX:** the daily minimum and maximum temperature (tenths of degrees C).\n",
    "* **TOBS:** Temperature at the time of observation (tenths of degrees C).\n",
    "* **PRCP:** Daily Percipitation (i.e.,rainfall and snow water equivalent) (tenths of mm)\n",
    "* **SNOW:** Daily snowfall (mm)\n",
    "* **SNWD:** The depth of accumulated snow (mm).\n",
    "\n",
    "## Sanity-check: comparison with outside sources\n",
    "\n",
    "<p>We start by comparing some of the general statistics with graphs that we obtained from a site called <a href=\"http://www.usclimatedata.com/climate/jackson/wyoming/united-states/uswy0088\" target=\"_blank\">US Climate Data</a> The graph below shows the daily minimum and maximum temperatures for each month, as well as the total precipitation for each month.</p>\n",
    "\n",
    "<p>&nbsp;</p>\n",
    "\n",
    "\n",
    "<p><img alt=\"Wyoming-Jackson-Climate\" src=\"HW5_figures/Wyoming-Jackson-Climate.png\" /></p>\n",
    "\n",
    "<p>&nbsp;</p>\n",
    "\n",
    "<p>We see that the min and max daily&nbsp;temperature agree with the ones we got from our data, once we translate Fahrenheit to Centigrade.</p>\n",
    "\n",
    "<p>&nbsp;</p>\n",
    "\n",
    "<p><img alt=\"TMIN-TMAX\" src=\"HW5_figures/TMIN-TMAX.png\" style=\"height:400px; width:1060px\" /></p>\n",
    "\n",
    "<p>To compare the precipitation&nbsp;we need to translate millimeter/day to inches/month. According to our analysis the average rainfall is 1.00 mm/day which translates to about 1.18 Inches&nbsp;per month for most part of the year. Average rainfall rises to 2.00 mm/day which translates to about 2.36 Inches&nbsp;per month in May and June. According to US-Climate-Data the average rainfall is closer to 1 inch per month. However, there is clear agreement that average precipitation&nbsp;is close to a constant throughout the year except for May and June</p>\n",
    "\n",
    "<p>&nbsp;<img alt=\"PRCP\" src=\"HW5_figures/PRCP_expanded.png\"  /></p>\n"
   ]
  },
  {
   "cell_type": "markdown",
   "metadata": {
    "run_control": {
     "frozen": false,
     "read_only": false
    }
   },
   "source": [
    "## PCA analysis\n",
    "\n",
    "For each of the six elements, we compute the percentage of the variance explained as a function of the number of eigen-vectors used.\n",
    "\n",
    "### Percentage of variance explained.\n",
    "\n",
    "![VarExplained1](HW5_figures/VarExplained1.png)\n",
    "We see that the top 5 eigen-vectors explain 33% of variance for TMIN, 55% for TOBS and 38% for TMAX.\n",
    "\n",
    "We conclude that of the three, TOBS is best explained by the top 5 eigenvectors. This is especially true for the first eigen-vector which, by itself, explains 45% of the variance.\n",
    "\n",
    "![VarExplained2](HW5_figures/VarExplained2.png)\n",
    "\n",
    "The top 5 eigenvectors explain 10.5% of the variance for PRCP and 12% for SNOW. Both are low values. On the other hand the top 5 eigenvectors explain 99% of the variance for SNWD. This means that these top 5 eigenvectors capture most of the variation in the snow signals. Based on that we will dig deeper into the PCA analysis for snow-depth.\n",
    "\n",
    "It makes sense that SNWD would be less noisy than SNOW. That is because SNWD is a decaying integral of SNOW and, as such, varies less between days and between the same date on diffferent years."
   ]
  },
  {
   "cell_type": "markdown",
   "metadata": {
    "run_control": {
     "frozen": false,
     "read_only": false
    }
   },
   "source": [
    "## Analysis of snow depth\n",
    "\n",
    "We choose to analyze the eigen-decomposition for snow-depth because the first eigen-vector explain 89% of the variance.\n",
    "\n",
    "First, we graph the mean and the top 3 eigen-vectors.\n",
    "\n",
    "We observe that the snow season is from early-november to the raly-june, where the middle of February marks the peak of the snow-depth.\n",
    "![SNWD_mean_eigs](HW5_figures/SNWD_mean_eigs.png)"
   ]
  },
  {
   "cell_type": "markdown",
   "metadata": {
    "run_control": {
     "frozen": false,
     "read_only": false
    }
   },
   "source": [
    "Next we interpret the eigen-functions. The first eigen-function (eig1) has a shape very similar to the mean function. \n",
    "\n",
    "**eig2 and eig3** are similar in the following way. They all oscilate between positive and negative values. In other words, they correspond to changing the distribution of the snow depth over the winter months, but they don't change the total (much).\n",
    "\n",
    "They can be interpreted as follows:\n",
    "* **eig2:** less snow in nov - mid mar, more snow in mid may.\n",
    "* **eig3:** more snow in mid Feb and mid-mar, less snow in mid may.\n",
    "\n"
   ]
  },
  {
   "cell_type": "markdown",
   "metadata": {
    "run_control": {
     "frozen": false,
     "read_only": false
    }
   },
   "source": [
    "### Examples of reconstructions\n",
    "\n",
    "#### Coeff1\n",
    "Coeff1: most positive\n",
    "![SNWD_grid_Pos_coeff1.png](HW5_figures/SNWD_grid_Pos_coeff1.png)\n",
    "Coeff1: most negative\n",
    "![SNWD_grid_neg_coeff1.png](HW5_figures/SNWD_grid_neg_coeff1.png)\n",
    "Large positive values of coeff1 correspond to more than average snow. Low values correspond to less than average snow.\n",
    "\n",
    "#### Coeff2\n",
    "Coeff2: most positive\n",
    "![SNWD_grid_Pos_coeff2.png](HW5_figures/SNWD_grid_Pos_coeff2.png)\n",
    "Coeff2: most negative\n",
    "![SNWD_grid_neg_coeff2.png](HW5_figures/SNWD_grid_neg_coeff2.png)\n",
    "\n",
    "Large positive values of coeff2 correspond to a late snow season (most of the snowfall is after mid apr. Negative values for coeff2 correspond to an early snow season (most of the snow is before mid-apr.\n",
    "#### Coeff3\n",
    "Coeff3: most positive\n",
    "![SNWD_grid_Pos_coeff3.png](HW5_figures/SNWD_grid_Pos_coeff3.png)\n",
    "Coeff3: most negative\n",
    "![SNWD_grid_neg_coeff3.png](HW5_figures/SNWD_grid_neg_coeff3.png)\n",
    "\n",
    "Large positive values of coeff2 correspond to a snow season with two spikes: one in the end of feb, the other at the end of mar. Negative values of coeff3 correspond to a season with a single peak at the end of apr.\n",
    "\n"
   ]
  },
  {
   "cell_type": "markdown",
   "metadata": {
    "run_control": {
     "frozen": false,
     "read_only": false
    }
   },
   "source": []
  },
  {
   "cell_type": "markdown",
   "metadata": {
    "run_control": {
     "frozen": false,
     "read_only": false
    }
   },
   "source": [
    "### Geographical distribution of first 3 coefficients for SNWD. \n",
    "\n",
    "![SNWD_pdf](HW5_figures/SNWD_pdf.png)\n",
    "\n",
    "We see from above figure that most of the lowest coefficients are concentrated at elevation 1400-1600 and higher coefficients are at higher elevation. This indicates that snow depth varies more at higher elevations than at lower elevations."
   ]
  },
  {
   "cell_type": "markdown",
   "metadata": {
    "run_control": {
     "frozen": false,
     "read_only": false
    }
   },
   "source": [
    "## Analysis of correlation between percipitation across locations\n",
    "\n",
    "To estimate the effect of time vs. location on the first eigenvector coefficient we compute:\n",
    "\n",
    "    The average row: mean-by-station\n",
    "    The average column: mean-by-year\n",
    "\n",
    "We then compute the RMS before and after subtracting either the row or the column vector\n",
    "\n",
    "    Total RMS                    =  36.5489939587\n",
    "    RMS removing mean-by-station =  34.4126343557\n",
    "    RMS removing mean-by-day     =  28.4299656446\n",
    "\n",
    "<p><img alt=\"PRCP_CDF.png\" src=\"HW5_figures/PRCP_CDF.png\" style=\"height:350px; width:500px\" /></p>\n",
    "\n",
    "It is likely to be hard to find correlations between the **amount** of rain on the same day in different stations. Because amounts of rain vary a lot between even close locations. It is more reasonable to try to compare whether or not it rained on the same day in different stations. As we see from the graph above, in our region it rains in about one third of the days.\n"
   ]
  },
  {
   "cell_type": "markdown",
   "metadata": {},
   "source": [
    "### Definition of statistical test\n",
    "\n",
    "We want to find a statistical test for rejecting the null hypothesis that says that the rainfall in the two locations is independent.\n",
    "\n",
    "Using the inner product is too noisy, because you multiply the rainfall on the same day in two locations and that product can be very large - leading to a large variance and poor ability to discriminate.\n",
    "\n",
    "An alternative is to ignore the amount of rain, and just ask whether it rained in both locations. We can then compute the probability associated with the number of overlaps under the null hypothesis.\n",
    "\n",
    "### Measuring statistical significance\n",
    "Fix two stations. We restrict our attention to the days for which we have measurements for both stations, and define the following notation:\n",
    "* $m$ : the total number of days (for which we have measurements for both stations).\n",
    "* $n_1$ : the number of days that it rained on station 1\n",
    "* $n_2$ : the number of days that it rained on station 2\n",
    "* $l$ : the number of days that it rained on both stations.\n",
    "\n",
    "We want to calculate the probability that the number of overlap days is $l$ given $m,n_1,n_2$.\n",
    "\n",
    "The answer is:\n",
    "$$\n",
    "P = {m \\choose l,n_1-l,n_2-l,m-n_1-n_2+l} /{m \\choose n_1}{m \\choose n_2}\n",
    "$$\n",
    "\n",
    "Where\n",
    "$$\n",
    "{m \\choose l,n_1-l,n_2-l,m-n_1-n_2+l} = \\frac{m!}{l! (n_1-l)! (n_2-l)! (m-n_1-n_2+l)!}\n",
    "$$\n",
    "\n",
    "We use the fact that $\\Gamma(n+1) = n!$ and denote $G(n) \\doteq \\log \\Gamma(n+1)$\n",
    "$$\n",
    "\\log P = \\left[G(m) - G(l) -G(n_1-l) -G(n_2-l) -G(m-n_1-n_2+l) \\right] - \n",
    "\\left[G(m)-G(n_1)-G(m-n_1)\\right] - \\left[G(m)-G(n_2)-G(m-n_2)\\right]\n",
    "$$\n",
    "Which slightly simplifies to \n",
    "$$\n",
    "\\log P = -G(l) -G(n_1-l) -G(n_2-l) -G(m-n_1-n_2+l) - G(m)+G(n_1)+G(m-n_1) +G(n_2)+G(m-n_2)\n",
    "$$\n",
    "\n",
    "The log probability scales with $m$ the length of the overlap. So to get a per-day significance we consider $\n",
    "\\frac{1}{m} \\log P $"
   ]
  },
  {
   "cell_type": "markdown",
   "metadata": {},
   "source": [
    "After we calculate per-day significance for each pair of stations we get the following histogram:\n",
    "\n",
    "<p><img alt=\"PRCP_Significance_Histogram\" src=\"HW5_figures/PRCP_Significance_Histogram.png\" style=\"height:350px; width:500px\" /></p>\n",
    "\n",
    "We now analyze using rependency matrix:\n",
    "\n",
    "<p><img alt=\"PRCP_rependency matrix\" src=\"HW5_figures/PRCP_rependency matrix.png\" style=\"height:500px; width:500px\" /></p>\n",
    "\n",
    "The matrix above shows, for each pair of stations, the normalized log probability that the overlap in rain days is random.\n",
    "\n",
    "We see immediately the first 10 stations are highly correlatedwith each other.\n",
    "\n",
    "To find more correlations we use SVD (the term PCA is reserved for decomposition of the covariance matrix). As we shall see that the top 10 eigenvectors explain about 60% of the square magnitude of the matrix.\n",
    "\n",
    "A group of very correlated stations are: USC00488209, USC00488830, USC00488889, USC00480228, USS0009F27S, USC00488810, USC00486200, USC00486680, US1WYCV0011, US1WYTT0024'"
   ]
  },
  {
   "cell_type": "markdown",
   "metadata": {
    "run_control": {
     "frozen": false,
     "read_only": false
    }
   },
   "source": [
    "### PCA Analysis of percipitation \n",
    "\n",
    "Using PCA SVD, the top 10 eigenvectors explain about 60% of the variance as shown in figure below:\n",
    "\n",
    "<p><img alt=\"PRCP_var_explained\" src=\"HW5_figures/PRCP_var_explained.png\" style=\"height:350px; width:500px\" /></p>\n",
    "\n",
    "We will look only at the top 4 eigenvectors and compare with mean.\n",
    "![PRCP_top4_eigs](HW5_figures/PRCP_top4_eigs.png)\n",
    "![PRCP_mean_eigs](HW5_figures/PRCP_mean_eigs.png)\n",
    "\n",
    "#### Reorder Matrix\n",
    "When we reorder the rows and columns of the matrix using one of the eigenvectors, the grouping of the stations becomes more evident. For example, consider the upper left corner of the second matrix (The upper left one). The stations at positions 0-20 are clearly strongly correlated with each other. Even though there are some stations, in positions 8-10 or so, which are more related to each other than to the rest of this block.\n",
    "\n",
    "This type of organization is called Block Diagonal and it typically reveals important structure such as grouping or clustering.\n",
    "\n",
    "![PRCP_top4_eigs_matrix](HW5_figures/PRCP_top4_eigs_matrix.png)\n",
    "\n",
    "#### Residuals Analysis\n",
    "\n",
    "In the figure below, x=0 in the graphs below correspond to the fraction of the variance explained by the mean alone x=1,2,3,... are the residuals for eig1, eig1+eig2, eig1+eig2+eig3 ...\n",
    "\n",
    "<p><img alt=\"PRCP_residual_var_explained\" src=\"HW5_figures/PRCP_residual_var_explained.png\" style=\"height:350px; width:500px\" /></p>\n",
    "\n",
    "We can Visualize the distribution of the rediduals in the following map. We can see that residuals are spread all across the region under analysis.\n",
    "\n",
    "![PRCP_residuals_map](HW5_figures/PRCP_residuals_map.png) "
   ]
  },
  {
   "cell_type": "markdown",
   "metadata": {
    "run_control": {
     "frozen": false,
     "read_only": false
    }
   },
   "source": [
    "### Conclusions"
   ]
  },
  {
   "cell_type": "markdown",
   "metadata": {
    "run_control": {
     "frozen": false,
     "read_only": false
    }
   },
   "source": [
    "Summer (July and August) Warm days and cool nights prevail, with some rain.  \n",
    "\n",
    "Fall (September - November) Sunny days and cold nights alternate with rain and snowstorms. Snow becomes persistent by late fall.\n",
    "\n",
    "Spring (late April - June) Mild days and cold nights interspersed with rain and occasional snow. Rainfall is highest in May and June\n",
    "\n",
    "Winter (late November - April) Snow blankets the mountains and the valley in Wyoming.  There is a hige variation in snow depth over the winter months and also between stations, but they don't change the total (much)\n",
    "\n",
    "Average Rainfall is consistent all throught the year except for May and June wher eit is highest. Snow is accumulated  from early Nov to late June and starts melting in July and is almost melted by August"
   ]
  },
  {
   "cell_type": "code",
   "execution_count": null,
   "metadata": {
    "collapsed": true,
    "run_control": {
     "frozen": false,
     "read_only": false
    }
   },
   "outputs": [],
   "source": []
  }
 ],
 "metadata": {
  "anaconda-cloud": {},
  "kernelspec": {
   "display_name": "Python [conda env:py27]",
   "language": "python",
   "name": "conda-env-py27-py"
  },
  "language_info": {
   "codemirror_mode": {
    "name": "ipython",
    "version": 2
   },
   "file_extension": ".py",
   "mimetype": "text/x-python",
   "name": "python",
   "nbconvert_exporter": "python",
   "pygments_lexer": "ipython2",
   "version": "2.7.13"
  },
  "toc": {
   "colors": {
    "hover_highlight": "#DAA520",
    "running_highlight": "#FF0000",
    "selected_highlight": "#FFD700"
   },
   "moveMenuLeft": true,
   "nav_menu": {
    "height": "12px",
    "width": "252px"
   },
   "navigate_menu": true,
   "number_sections": true,
   "sideBar": true,
   "threshold": 4,
   "toc_cell": false,
   "toc_section_display": "block",
   "toc_window_display": false
  }
 },
 "nbformat": 4,
 "nbformat_minor": 2
}
