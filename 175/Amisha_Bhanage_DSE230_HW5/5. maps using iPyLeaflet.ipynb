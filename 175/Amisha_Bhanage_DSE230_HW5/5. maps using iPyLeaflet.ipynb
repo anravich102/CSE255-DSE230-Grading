{
 "cells": [
  {
   "cell_type": "markdown",
   "metadata": {
    "run_control": {
     "frozen": false,
     "read_only": false
    }
   },
   "source": [
    "## iPyLeaflet\n",
    "[ipyleaflet](https://github.com/ellisonbg/ipyleaflet) is a bridge between jupyter notebooks and the [leaflet](http://leafletjs.com/)  javascript library for drawing maps.\n",
    "\n",
    "ipyleaflet comes with a few examples notebooks (this notebook was derived from one) but very little documentation,\n",
    "for more documentation read the [Leaflet IPA](http://leafletjs.com/reference.html)\n",
    "\n",
    "For installation directions, see the README on [ipyleaflet](https://github.com/ellisonbg/ipyleaflet)"
   ]
  },
  {
   "cell_type": "code",
   "execution_count": 1,
   "metadata": {
    "collapsed": true,
    "run_control": {
     "frozen": false,
     "read_only": false
    }
   },
   "outputs": [],
   "source": [
    "from ipyleaflet import (\n",
    "    Map,\n",
    "    Marker,\n",
    "    TileLayer, ImageOverlay,\n",
    "    Polyline, Polygon, Rectangle, Circle, CircleMarker,\n",
    "    GeoJSON,\n",
    "    DrawControl\n",
    ")"
   ]
  },
  {
   "cell_type": "markdown",
   "metadata": {
    "run_control": {
     "frozen": false,
     "read_only": false
    }
   },
   "source": [
    "## Visualizing the distribution of the observations\n",
    "\n",
    "## Load the required libraries"
   ]
  },
  {
   "cell_type": "code",
   "execution_count": 2,
   "metadata": {
    "collapsed": true,
    "run_control": {
     "frozen": false,
     "read_only": false
    }
   },
   "outputs": [],
   "source": [
    "import pandas as pd\n",
    "import numpy as np\n",
    "import sklearn as sk\n",
    "import urllib\n",
    "import math\n",
    "%matplotlib inline"
   ]
  },
  {
   "cell_type": "code",
   "execution_count": 3,
   "metadata": {
    "collapsed": true,
    "run_control": {
     "frozen": false,
     "read_only": false
    }
   },
   "outputs": [],
   "source": [
    "import findspark\n",
    "findspark.init()\n",
    "\n",
    "from pyspark import SparkContext\n",
    "#sc.stop()\n",
    "sc = SparkContext(master=\"local[3]\",pyFiles=['lib/numpy_pack.py','lib/computeStats.py'])\n",
    "\n",
    "from pyspark import SparkContext\n",
    "from pyspark.sql import *\n",
    "sqlContext = SQLContext(sc)"
   ]
  },
  {
   "cell_type": "code",
   "execution_count": 4,
   "metadata": {
    "collapsed": true,
    "run_control": {
     "frozen": false,
     "read_only": false
    }
   },
   "outputs": [],
   "source": [
    "import sys\n",
    "sys.path.append('./lib')\n",
    "\n",
    "import numpy as np\n",
    "from numpy_pack import packArray,unpackArray\n",
    "from computeStats import computeOverAllDist, STAT_Descriptions"
   ]
  },
  {
   "cell_type": "code",
   "execution_count": 5,
   "metadata": {
    "run_control": {
     "frozen": false,
     "read_only": false
    }
   },
   "outputs": [
    {
     "name": "stdout",
     "output_type": "stream",
     "text": [
      "('keys from STAT=', ['TMIN', 'TOBS', 'TMAX', 'SNOW', 'SNWD', 'PRCP'])\n",
      "487\n",
      "+-----------------+------------------+------------------+---------+--------+--------+---------+-----------+-------------------+--------------------+--------------------+------------------+-----------+------------+------+--------------------+------+\n",
      "|          coeff_1|           coeff_2|           coeff_3|elevation|   label|latitude|longitude|measurement|              res_1|               res_2|               res_3|          res_mean|    station|   total_var|undefs|              vector|  year|\n",
      "+-----------------+------------------+------------------+---------+--------+--------+---------+-----------+-------------------+--------------------+--------------------+------------------+-----------+------------+------+--------------------+------+\n",
      "|8406.861268207338| 595.8026736315298| -2091.94432296576|   2072.0|SBBSSBSB| 43.8567|-110.5889|       SNWD|0.11229294319897737| 0.10783425804107764|0.052867242901368176|0.6276927782215058|USC00486440|1.26838459E8|     0|[8C 5F 8C 5F 2A 6...|1970.0|\n",
      "|6696.111158449579|1317.3940997841037|344.66029613174214|   1962.0|SBBSSBSB| 43.7728|-111.0339|       SNWD|0.09141346251078515|0.056245078201621085|  0.0538379262712094|0.5638127969970083|USC00480140| 8.7527411E7|     0|[28 5D 28 5D 28 5...|1964.0|\n",
      "+-----------------+------------------+------------------+---------+--------+--------+---------+-----------+-------------------+--------------------+--------------------+------------------+-----------+------------+------+--------------------+------+\n",
      "only showing top 2 rows\n",
      "\n"
     ]
    }
   ],
   "source": [
    "### Read the data frame from pickle file\n",
    "\n",
    "data_dir='../../Data/Weather'\n",
    "#file_index='BBBSBBBB'\n",
    "file_index='SBBSSBSB'\n",
    "meas='SNWD'\n",
    "\n",
    "from pickle import load\n",
    "\n",
    "#read statistics\n",
    "filename=data_dir+'/STAT_%s.pickle'%file_index\n",
    "STAT,STAT_Descriptions = load(open(filename,'rb'))\n",
    "print('keys from STAT=',STAT.keys())\n",
    "\n",
    "#!ls -ld $data_dir/*.parquet\n",
    "\n",
    "#read data\n",
    "filename=data_dir+'/decon_%s_%s.parquet'%(file_index,meas)\n",
    "\n",
    "df=sqlContext.read.parquet(filename)\n",
    "print(df.count())\n",
    "df.show(2)"
   ]
  },
  {
   "cell_type": "code",
   "execution_count": 6,
   "metadata": {
    "run_control": {
     "frozen": false,
     "read_only": false
    },
    "scrolled": true
   },
   "outputs": [
    {
     "name": "stdout",
     "output_type": "stream",
     "text": [
      "SELECT station, latitude,longitude,elevation,coeff_1 FROM weather\n",
      "+-----------+--------+---------+---------+-----------------+\n",
      "|    station|latitude|longitude|elevation|          coeff_1|\n",
      "+-----------+--------+---------+---------+-----------------+\n",
      "|USC00486440| 43.8567|-110.5889|   2072.0|8406.861268207338|\n",
      "|USC00480140| 43.7728|-111.0339|   1962.0|6696.111158449579|\n",
      "|USC00486440| 43.8567|-110.5889|   2072.0|7113.387274922035|\n",
      "|USC00486428| 43.6536|-110.7169|   1964.1|4990.566904161849|\n",
      "+-----------+--------+---------+---------+-----------------+\n",
      "only showing top 4 rows\n",
      "\n"
     ]
    }
   ],
   "source": [
    "#extract longitude and latitude for each station\n",
    "feature1='coeff_1'\n",
    "sqlContext.registerDataFrameAsTable(df,'weather')\n",
    "Query=\"SELECT station, latitude,longitude,elevation,%s FROM weather\"%feature1\n",
    "print(Query)\n",
    "df_coeff1 = sqlContext.sql(Query)\n",
    "df_coeff1.show(4)\n"
   ]
  },
  {
   "cell_type": "code",
   "execution_count": 7,
   "metadata": {
    "run_control": {
     "frozen": false,
     "read_only": false
    }
   },
   "outputs": [
    {
     "data": {
      "text/html": [
       "<div>\n",
       "<table border=\"1\" class=\"dataframe\">\n",
       "  <thead>\n",
       "    <tr style=\"text-align: right;\">\n",
       "      <th></th>\n",
       "      <th>station</th>\n",
       "      <th>latitude</th>\n",
       "      <th>longitude</th>\n",
       "      <th>elevation</th>\n",
       "      <th>count(station)</th>\n",
       "      <th>avg(coeff_1)</th>\n",
       "    </tr>\n",
       "  </thead>\n",
       "  <tbody>\n",
       "    <tr>\n",
       "      <th>0</th>\n",
       "      <td>US1WYTT0009</td>\n",
       "      <td>43.6215</td>\n",
       "      <td>-110.6253</td>\n",
       "      <td>2030.9</td>\n",
       "      <td>1</td>\n",
       "      <td>1633.779769</td>\n",
       "    </tr>\n",
       "    <tr>\n",
       "      <th>19</th>\n",
       "      <td>USC00480140</td>\n",
       "      <td>43.7728</td>\n",
       "      <td>-111.0339</td>\n",
       "      <td>1962.0</td>\n",
       "      <td>59</td>\n",
       "      <td>3205.087986</td>\n",
       "    </tr>\n",
       "  </tbody>\n",
       "</table>\n",
       "</div>"
      ],
      "text/plain": [
       "        station  latitude  longitude  elevation  count(station)  avg(coeff_1)\n",
       "0   US1WYTT0009   43.6215  -110.6253     2030.9               1   1633.779769\n",
       "19  USC00480140   43.7728  -111.0339     1962.0              59   3205.087986"
      ]
     },
     "execution_count": 7,
     "metadata": {},
     "output_type": "execute_result"
    }
   ],
   "source": [
    "df2_coeff1=df_coeff1.groupby(['station','latitude','longitude','elevation']).agg({\"station\": \"count\", feature1: \"mean\"})\n",
    "pdf_coeff1=df2_coeff1.toPandas()\n",
    "pdf_coeff1.sort_values(by=['station'],inplace=True)\n",
    "\n",
    "mlat = round(pdf_coeff1.latitude.min(),4)\n",
    "mxlat = round(pdf_coeff1.latitude.max(),4)\n",
    "mlong = round(pdf_coeff1.longitude.min(),4)\n",
    "mxlong = round(pdf_coeff1.longitude.max(),4)\n",
    "pdf_coeff1.head(2)"
   ]
  },
  {
   "cell_type": "code",
   "execution_count": 8,
   "metadata": {
    "run_control": {
     "frozen": false,
     "read_only": false
    }
   },
   "outputs": [
    {
     "data": {
      "text/plain": [
       "u'#0058ff'"
      ]
     },
     "execution_count": 8,
     "metadata": {},
     "output_type": "execute_result"
    }
   ],
   "source": [
    "#define a mapping from the range of the value to hex colors.\n",
    "from matplotlib.colors import rgb2hex\n",
    "_avg='avg(%s)'%feature1\n",
    "_min=pdf_coeff1[_avg].min()\n",
    "_max=pdf_coeff1[_avg].max()\n",
    "_min,_max\n",
    "\n",
    "import pylab as plt\n",
    "cmap=plt.get_cmap('jet')\n",
    "def get_color(val):\n",
    "    x=(val-_min)/(_max-_min)\n",
    "    return(rgb2hex(cmap(x)[:3]))\n",
    "\n",
    "get_color(1000.)"
   ]
  },
  {
   "cell_type": "markdown",
   "metadata": {
    "run_control": {
     "frozen": false,
     "read_only": false
    }
   },
   "source": [
    "## Map"
   ]
  },
  {
   "cell_type": "code",
   "execution_count": 9,
   "metadata": {
    "collapsed": true,
    "run_control": {
     "frozen": false,
     "read_only": false
    }
   },
   "outputs": [],
   "source": [
    "min_lat,max_lat,min_long,max_long = box = (mlat, mxlat, mlong, mxlong)\n"
   ]
  },
  {
   "cell_type": "code",
   "execution_count": 10,
   "metadata": {
    "run_control": {
     "frozen": false,
     "read_only": false
    }
   },
   "outputs": [
    {
     "name": "stderr",
     "output_type": "stream",
     "text": [
      "Widget Javascript not detected.  It may not be installed or enabled properly.\n"
     ]
    },
    {
     "data": {
      "application/vnd.jupyter.widget-view+json": {
       "model_id": "0300773d91314575a3bae2d0b5cbe615"
      }
     },
     "metadata": {},
     "output_type": "display_data"
    }
   ],
   "source": [
    "center = [(min_lat+max_lat)/2, (min_long+max_long)/2]\n",
    "zoom = 7\n",
    "\n",
    "m = Map(default_tiles=TileLayer(opacity=1.0), center=center, zoom=zoom)\n",
    "\n",
    "r = Rectangle(bounds=[[min_lat,min_long],[max_lat,max_long]], weight=5, fill_opacity=0.0)\n",
    "m += r\n",
    "\n",
    "lat_margin=(max_lat-min_lat)/4\n",
    "long_margin=(max_long-min_long)/4\n",
    "circles = []\n",
    "for index,row in pdf_coeff1.iterrows():\n",
    "    _lat=row['latitude']\n",
    "    _long=row['longitude']\n",
    "    _count=row['count(station)']\n",
    "    _coef=row[_avg]\n",
    "    # taking sqrt of count so that the  area of the circle corresponds to the count\n",
    "    c = Circle(location=(_lat,_long), radius=int(300*np.sqrt(_count+0.0)), weight=1,\n",
    "            color='#F00', opacity=0.8, fill_opacity=0.4,\n",
    "            fill_color=get_color(_coef))\n",
    "    circles.append(c)\n",
    "    m.add_layer(c)\n",
    "m  \n"
   ]
  },
  {
   "cell_type": "code",
   "execution_count": 11,
   "metadata": {},
   "outputs": [
    {
     "name": "stdout",
     "output_type": "stream",
     "text": [
      "SELECT station, latitude,longitude,elevation,coeff_2 FROM weather\n",
      "+-----------+--------+---------+---------+------------------+\n",
      "|    station|latitude|longitude|elevation|           coeff_2|\n",
      "+-----------+--------+---------+---------+------------------+\n",
      "|USC00486440| 43.8567|-110.5889|   2072.0| 595.8026736315298|\n",
      "|USC00480140| 43.7728|-111.0339|   1962.0|1317.3940997841037|\n",
      "|USC00486440| 43.8567|-110.5889|   2072.0|1162.8834670460706|\n",
      "|USC00486428| 43.6536|-110.7169|   1964.1|-230.7785627653895|\n",
      "+-----------+--------+---------+---------+------------------+\n",
      "only showing top 4 rows\n",
      "\n"
     ]
    }
   ],
   "source": [
    "#extract longitude and latitude for each station\n",
    "feature2='coeff_2'\n",
    "sqlContext.registerDataFrameAsTable(df,'weather')\n",
    "Query=\"SELECT station, latitude,longitude,elevation,%s FROM weather\"%feature2\n",
    "print(Query)\n",
    "df_coeff2 = sqlContext.sql(Query)\n",
    "df_coeff2.show(4)"
   ]
  },
  {
   "cell_type": "code",
   "execution_count": 12,
   "metadata": {},
   "outputs": [
    {
     "data": {
      "text/html": [
       "<div>\n",
       "<table border=\"1\" class=\"dataframe\">\n",
       "  <thead>\n",
       "    <tr style=\"text-align: right;\">\n",
       "      <th></th>\n",
       "      <th>station</th>\n",
       "      <th>latitude</th>\n",
       "      <th>longitude</th>\n",
       "      <th>elevation</th>\n",
       "      <th>count(station)</th>\n",
       "      <th>avg(coeff_2)</th>\n",
       "    </tr>\n",
       "  </thead>\n",
       "  <tbody>\n",
       "    <tr>\n",
       "      <th>0</th>\n",
       "      <td>US1WYTT0009</td>\n",
       "      <td>43.6215</td>\n",
       "      <td>-110.6253</td>\n",
       "      <td>2030.9</td>\n",
       "      <td>1</td>\n",
       "      <td>-591.438450</td>\n",
       "    </tr>\n",
       "    <tr>\n",
       "      <th>19</th>\n",
       "      <td>USC00480140</td>\n",
       "      <td>43.7728</td>\n",
       "      <td>-111.0339</td>\n",
       "      <td>1962.0</td>\n",
       "      <td>59</td>\n",
       "      <td>-59.545602</td>\n",
       "    </tr>\n",
       "  </tbody>\n",
       "</table>\n",
       "</div>"
      ],
      "text/plain": [
       "        station  latitude  longitude  elevation  count(station)  avg(coeff_2)\n",
       "0   US1WYTT0009   43.6215  -110.6253     2030.9               1   -591.438450\n",
       "19  USC00480140   43.7728  -111.0339     1962.0              59    -59.545602"
      ]
     },
     "execution_count": 12,
     "metadata": {},
     "output_type": "execute_result"
    }
   ],
   "source": [
    "df2_coeff2=df_coeff2.groupby(['station','latitude','longitude','elevation']).agg({\"station\": \"count\", feature2: \"mean\"})\n",
    "pdf_coeff2=df2_coeff2.toPandas()\n",
    "pdf_coeff2.sort_values(by=['station'],inplace=True)\n",
    "\n",
    "mlat2 = round(pdf_coeff2.latitude.min(),4)\n",
    "mxlat2 = round(pdf_coeff2.latitude.max(),4)\n",
    "mlong2 = round(pdf_coeff2.longitude.min(),4)\n",
    "mxlong2 = round(pdf_coeff2.longitude.max(),4)\n",
    "pdf_coeff2.head(2)"
   ]
  },
  {
   "cell_type": "code",
   "execution_count": 13,
   "metadata": {},
   "outputs": [
    {
     "name": "stderr",
     "output_type": "stream",
     "text": [
      "Widget Javascript not detected.  It may not be installed or enabled properly.\n"
     ]
    },
    {
     "data": {
      "application/vnd.jupyter.widget-view+json": {
       "model_id": "0300773d91314575a3bae2d0b5cbe615"
      }
     },
     "metadata": {},
     "output_type": "display_data"
    }
   ],
   "source": [
    "_avg2='avg(%s)'%feature2\n",
    "_min2=pdf_coeff2[_avg2].min()\n",
    "_max2=pdf_coeff2[_avg2].max()\n",
    "_min2,_max2\n",
    "\n",
    "\n",
    "min_lat2,max_lat2,min_long2,max_long2 = box = (mlat2, mxlat2, mlong2, mxlong2)\n",
    "lat_margin=(max_lat2-min_lat2)/4\n",
    "long_margin=(max_long2-min_long2)/4\n",
    "circles = []\n",
    "for index,row in pdf_coeff2.iterrows():\n",
    "    _lat=row['latitude']\n",
    "    _long=row['longitude']\n",
    "    _count=row['count(station)']\n",
    "    _coef2=row[_avg2]\n",
    "    # taking sqrt of count so that the  area of the circle corresponds to the count\n",
    "    c2 = Circle(location=(_lat,_long), radius=int(300*np.sqrt(_count+0.0)), weight=1,\n",
    "            color='#FF0', opacity=0.2, fill_opacity=0.2,\n",
    "            fill_color=get_color(_coef2))\n",
    "    circles.append(c2)\n",
    "    m.add_layer(c2)\n",
    "m  \n"
   ]
  },
  {
   "cell_type": "code",
   "execution_count": 14,
   "metadata": {},
   "outputs": [
    {
     "name": "stdout",
     "output_type": "stream",
     "text": [
      "SELECT station, latitude,longitude,elevation,coeff_3 FROM weather\n",
      "+-----------+--------+---------+---------+------------------+\n",
      "|    station|latitude|longitude|elevation|           coeff_3|\n",
      "+-----------+--------+---------+---------+------------------+\n",
      "|USC00486440| 43.8567|-110.5889|   2072.0| -2091.94432296576|\n",
      "|USC00480140| 43.7728|-111.0339|   1962.0|344.66029613174214|\n",
      "|USC00486440| 43.8567|-110.5889|   2072.0|-2071.509117299705|\n",
      "|USC00486428| 43.6536|-110.7169|   1964.1| 294.7438443945501|\n",
      "+-----------+--------+---------+---------+------------------+\n",
      "only showing top 4 rows\n",
      "\n"
     ]
    }
   ],
   "source": [
    "#extract longitude and latitude for each station\n",
    "feature3='coeff_3'\n",
    "sqlContext.registerDataFrameAsTable(df,'weather')\n",
    "Query=\"SELECT station, latitude,longitude,elevation,%s FROM weather\"%feature3\n",
    "print(Query)\n",
    "df_coeff3 = sqlContext.sql(Query)\n",
    "df_coeff3.show(4)"
   ]
  },
  {
   "cell_type": "code",
   "execution_count": 15,
   "metadata": {},
   "outputs": [
    {
     "data": {
      "text/html": [
       "<div>\n",
       "<table border=\"1\" class=\"dataframe\">\n",
       "  <thead>\n",
       "    <tr style=\"text-align: right;\">\n",
       "      <th></th>\n",
       "      <th>station</th>\n",
       "      <th>latitude</th>\n",
       "      <th>longitude</th>\n",
       "      <th>elevation</th>\n",
       "      <th>count(station)</th>\n",
       "      <th>avg(coeff_3)</th>\n",
       "    </tr>\n",
       "  </thead>\n",
       "  <tbody>\n",
       "    <tr>\n",
       "      <th>0</th>\n",
       "      <td>US1WYTT0009</td>\n",
       "      <td>43.6215</td>\n",
       "      <td>-110.6253</td>\n",
       "      <td>2030.9</td>\n",
       "      <td>1</td>\n",
       "      <td>1706.224067</td>\n",
       "    </tr>\n",
       "    <tr>\n",
       "      <th>19</th>\n",
       "      <td>USC00480140</td>\n",
       "      <td>43.7728</td>\n",
       "      <td>-111.0339</td>\n",
       "      <td>1962.0</td>\n",
       "      <td>59</td>\n",
       "      <td>230.033858</td>\n",
       "    </tr>\n",
       "  </tbody>\n",
       "</table>\n",
       "</div>"
      ],
      "text/plain": [
       "        station  latitude  longitude  elevation  count(station)  avg(coeff_3)\n",
       "0   US1WYTT0009   43.6215  -110.6253     2030.9               1   1706.224067\n",
       "19  USC00480140   43.7728  -111.0339     1962.0              59    230.033858"
      ]
     },
     "execution_count": 15,
     "metadata": {},
     "output_type": "execute_result"
    }
   ],
   "source": [
    "df2_coeff3=df_coeff3.groupby(['station','latitude','longitude','elevation']).agg({\"station\": \"count\", feature3: \"mean\"})\n",
    "pdf_coeff3=df2_coeff3.toPandas()\n",
    "pdf_coeff3.sort_values(by=['station'],inplace=True)\n",
    "\n",
    "mlat3 = round(pdf_coeff3.latitude.min(),4)\n",
    "mxlat3 = round(pdf_coeff3.latitude.max(),4)\n",
    "mlong3 = round(pdf_coeff3.longitude.min(),4)\n",
    "mxlong3 = round(pdf_coeff3.longitude.max(),4)\n",
    "pdf_coeff3.head(2)"
   ]
  },
  {
   "cell_type": "code",
   "execution_count": 16,
   "metadata": {},
   "outputs": [
    {
     "name": "stderr",
     "output_type": "stream",
     "text": [
      "Widget Javascript not detected.  It may not be installed or enabled properly.\n"
     ]
    },
    {
     "data": {
      "application/vnd.jupyter.widget-view+json": {
       "model_id": "0300773d91314575a3bae2d0b5cbe615"
      }
     },
     "metadata": {},
     "output_type": "display_data"
    }
   ],
   "source": [
    "_avg3='avg(%s)'%feature3\n",
    "_min3=pdf_coeff3[_avg3].min()\n",
    "_max3=pdf_coeff3[_avg3].max()\n",
    "_min3,_max3\n",
    "\n",
    "\n",
    "min_lat3,max_lat3,min_long3,max_long3 = box = (mlat3, mxlat3, mlong3, mxlong3)\n",
    "lat_margin=(max_lat3-min_lat3)/4\n",
    "long_margin=(max_long3-min_long3)/4\n",
    "circles = []\n",
    "for index,row in pdf_coeff3.iterrows():\n",
    "    _lat=row['latitude']\n",
    "    _long=row['longitude']\n",
    "    _count=row['count(station)']\n",
    "    _coef3=row[_avg3]\n",
    "    # taking sqrt of count so that the  area of the circle corresponds to the count\n",
    "    c3 = Circle(location=(_lat,_long), radius=int(300*np.sqrt(_count+0.0)), weight=1,\n",
    "            color='#000', opacity=0.1, fill_opacity=0.1,\n",
    "            fill_color=get_color(_coef3))\n",
    "    circles.append(c3)\n",
    "    m.add_layer(c3)\n",
    "m  \n"
   ]
  },
  {
   "cell_type": "code",
   "execution_count": 17,
   "metadata": {},
   "outputs": [
    {
     "data": {
      "image/png": "[encoded data removed]",
      "text/plain": [
       "<matplotlib.figure.Figure at 0x7f29b85b6290>"
      ]
     },
     "metadata": {},
     "output_type": "display_data"
    },
    {
     "data": {
      "image/png": "[encoded data removed]",
      "text/plain": [
       "<matplotlib.figure.Figure at 0x7f29b463ee50>"
      ]
     },
     "metadata": {},
     "output_type": "display_data"
    },
    {
     "data": {
      "image/png": "[encoded data removed]",
      "text/plain": [
       "<matplotlib.figure.Figure at 0x7f29b7aca190>"
      ]
     },
     "metadata": {},
     "output_type": "display_data"
    }
   ],
   "source": [
    "pdf_coeff1.plot.scatter(x='elevation',y='avg(coeff_1)')\n",
    "pdf_coeff2.plot.scatter(x='elevation',y='avg(coeff_2)')\n",
    "pdf_coeff3.plot.scatter(x='elevation',y='avg(coeff_3)');"
   ]
  },
  {
   "cell_type": "code",
   "execution_count": null,
   "metadata": {
    "collapsed": true
   },
   "outputs": [],
   "source": []
  }
 ],
 "metadata": {
  "anaconda-cloud": {},
  "hide_input": false,
  "kernelspec": {
   "display_name": "Python [conda env:py27]",
   "language": "python",
   "name": "conda-env-py27-py"
  },
  "language_info": {
   "codemirror_mode": {
    "name": "ipython",
    "version": 2
   },
   "file_extension": ".py",
   "mimetype": "text/x-python",
   "name": "python",
   "nbconvert_exporter": "python",
   "pygments_lexer": "ipython2",
   "version": "2.7.13"
  },
  "toc": {
   "colors": {
    "hover_highlight": "#DAA520",
    "running_highlight": "#FF0000",
    "selected_highlight": "#FFD700"
   },
   "moveMenuLeft": true,
   "nav_menu": {
    "height": "174px",
    "width": "252px"
   },
   "navigate_menu": true,
   "number_sections": true,
   "sideBar": true,
   "threshold": 4,
   "toc_cell": false,
   "toc_section_display": "block",
   "toc_window_display": false
  },
  "widgets": {
   "state": {},
   "version": "1.0.0"
  }
 },
 "nbformat": 4,
 "nbformat_minor": 1
}
