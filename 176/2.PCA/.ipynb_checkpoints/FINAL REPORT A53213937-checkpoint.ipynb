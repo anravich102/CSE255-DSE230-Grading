{
 "cells": [
  {
   "cell_type": "markdown",
   "metadata": {
    "run_control": {
     "frozen": false,
     "read_only": false
    }
   },
   "source": [
    "# \n",
    "#  Alabama Weather Analysis By PRERIT DAK A53213937\n",
    "\n",
    "This is a report on the historical analysis of weather patterns in an area that approximately overlaps the area of the state of Alabama.\n",
    "\n",
    "The data used here is for the file index BSSSBSSB.\n",
    "\n",
    "We focused on six measurements:\n",
    "* **TMIN, TMAX:** the daily minimum and maximum temperature.\n",
    "* **TOBS:** The average temperature for each day.\n",
    "* **PRCP:** Daily Percipitation (in mm)\n",
    "* **SNOW:** Daily snowfall (in mm)\n",
    "* **SNWD:** The depth of accumulated snow.\n",
    "\n",
    "We also need to make sure that the data we analyse is correct and there is a significant amount of data points to make a decision:\n",
    "\n",
    "Clearly as we can see below, we have enough number of instances of each day to make a decision of variance for each measurement.\n",
    "\n",
    "![validcounts_TMIN,TMAX.png](Analysis/validcounts_TMIN,TMAX.png)\n",
    "\n",
    "![validcounts_TOBS,PRCP.png](Analysis/validcounts_TOBS,PRCP.png)\n",
    "\n",
    "![validcounts_SNOW,SNWD.png](Analysis/validcounts_SNOW,SNWD.png)\n",
    "\n",
    "\n",
    "## Sanity-check: comparison with outside sources\n",
    "\n",
    "<p>We start by comparing some of the general statistics with graphs that we obtained from a site called <a href=\"http://www.usclimatedata.com/climate/talladega/alabama/united-states/usal0524\" target=\"_blank\">US Climate Data</a> The graph below shows the daily minimum and maximum temperatures for each month, as well as the total precipitation for each month.</p>\n",
    "\n",
    "<p>&nbsp;</p>\n",
    "\n",
    "<p><img alt=\"Climate_Boston_-_Massachusetts_and_Weather_averages_Boston.jpg\" src=\"r_figures/Climate_Boston_-_Massachusetts_and_Weather_averages_Boston.jpg\" /></p>\n",
    "\n",
    "<p>&nbsp;</p>\n",
    "\n",
    "<p>We see that the min and max daily&nbsp;temperature agree with the ones we got from our data, once we translate Fahrenheit to Centigrade.</p>\n",
    "\n",
    "<p>&nbsp;</p>\n",
    "\n",
    "\n",
    "![TMAX.png](Analysis/TMAX.png)\n",
    "\n",
    "<p>To compare the precipitation&nbsp;we need to translate millimeter/day to inches/month. According to our analysis the average rainfall is 3.00 mm/day which translates to about 3.55 Inches&nbsp;per month. According to US-Climate-Data the average rainfall is closer to 4 inch per month. However, there is clear agreement that average precipitation&nbsp;is close to a constant throughout the year</p>\n",
    "\n",
    "![PRCP.png](Analysis/PRCP.png)\n"
   ]
  },
  {
   "cell_type": "markdown",
   "metadata": {
    "run_control": {
     "frozen": false,
     "read_only": false
    }
   },
   "source": [
    "## PCA analysis\n",
    "\n",
    "For each of the six measurement, we compute the percentate of the variance explained as a function of the number of eigen-vectors used.\n",
    "\n",
    "### Percentage of variance explained.\n",
    "![VarExplained1.png](Analysis/VarExplained1.png)\n",
    "We see that the top 5 eigen-vectors explain 20% of variance for TMIN, 45% for TOBS and 20% for TMAX.\n",
    "\n",
    "We conclude that of the three, TOBS is best explained by the top 5 eigenvectors. This is especially true for the first eigen-vector which, by itself, explains 35% of the variance.\n",
    "\n",
    "![VarExplained2.png](Analysis/VarExplained2.png)\n",
    "\n",
    "The top 5 eigenvectors explain 7% of the variance for PRCP which is a low value. On the other hand the top 5 eigenvectors explain %70 of the variance for SNOW and ~90% for SNWD. This means that these top 5 eigenvectors capture most of the variation in these signals. Based on that we will dig deeper into the PCA analysis for snow-depth and Snow and consider the PCA analysis of TOBS too. We will also consider the residual analysis of the PRCP data.\n"
   ]
  },
  {
   "cell_type": "markdown",
   "metadata": {
    "run_control": {
     "frozen": false,
     "read_only": false
    }
   },
   "source": [
    "## Analysis of snow depth\n",
    "\n",
    "We choose to analyze the eigen-decomposition for snow-depth because the first eigen-vector itself explains 80% of the variance.\n",
    "![SNWD_2year.png](Analysis/TOBS_2year.png)\n",
    "The above shows the variation of SNWD at a station over 2 years.\n",
    "\n",
    "We also see the percentage variance explained by 8 eigen vectors:\n",
    "\n",
    "![SNWD_percentvarianceexplained.png](Analysis/PRCP_percentvarianceexplained.png)\n",
    "\n",
    "10 vectors are able to explain the whole variance but the top eigen vector also explains 80% of the variance.\n",
    "\n",
    "First, we graph the mean and the top 3 eigen-vectors.\n",
    "\n",
    "We observe that there is almost no snow for the most part of the year in this region and there are only certain months in which we can see about an inch or 2 of snowfall. Further the maximum snowfall is obtained in the month of January.\n",
    "![SNWD_mean_eigs.png](Analysis/SNWD_mean_eigs.png)"
   ]
  },
  {
   "cell_type": "markdown",
   "metadata": {
    "run_control": {
     "frozen": false,
     "read_only": false
    }
   },
   "source": [
    "Next we interpret the eigen-functions. The first eigen-function (eig1) has a shape very similar to the mean in the latter months.\n",
    "\n",
    "eig2 explains the mean particularly in the January month.\n",
    "eig3 does not explain the data much. \n",
    "All the eigen vectors are mostly 0 except for a month or two.This is definitely expected since there is almost no snowfall in this area for most of the year as can be seen by the Temperature curves in the sanity check section.\n",
    "\n",
    "They can be interpreted as follows:\n",
    "* **eig1:** explains snowfall in November-December.\n",
    "* **eig2:** explains snowfall in January.\n",
    "* **eig3:** does not explain much except reducing the mean in the March-April month.\n"
   ]
  },
  {
   "cell_type": "markdown",
   "metadata": {
    "run_control": {
     "frozen": false,
     "read_only": false
    }
   },
   "source": [
    "### Examples of reconstructions\n",
    "\n",
    "#### Considering residue_2 <0.4 and sorting on the basis of coeff_2\n",
    "\n",
    "![coeff1_SNWD.png](Analysis/coeff1_SNWD.png)\n",
    "Clearly from the above it can be seen that the station USW00013821 in the year 1968 is the major contributor of the snowfall data obtained.\n"
   ]
  },
  {
   "cell_type": "markdown",
   "metadata": {
    "run_control": {
     "frozen": false,
     "read_only": false
    }
   },
   "source": [
    "## Analysis of TOBS \n",
    "\n",
    "We choose to analyze the eigen-decomposition for TOBS because the first five eigen-vectors explain ~50% of the variance.\n",
    "![TOBS_2year.png](Analysis/TOBS_2year.png)\n",
    "The above shows the variation of TOBS at a station over 2 years.\n",
    "\n",
    "PRCP_percentvarianceexplained.png\n",
    "![TOBS_percentvarianceexplained.png](Analysis/PRCP_percentvarianceexplained.png)\n",
    "\n",
    "10 vectors are able to explain 50% of the variance but the top eigen vector explains 40% of the variance.\n",
    "First, we graph the mean and the top 3 eigen-vectors.\n",
    "\n",
    "We observe that the TOBS is the most in the middle months of June- August when it is expected to be higher. \n",
    "![TOBS_meaneigs.png](Analysis/TOBS_meaneigs.png)"
   ]
  },
  {
   "cell_type": "markdown",
   "metadata": {
    "run_control": {
     "frozen": false,
     "read_only": false
    }
   },
   "source": [
    "Next we interpret the eigen-functions.The first eigen vector is more or less constant and has a positive value so it adds an offset to the observed temperature.\n",
    "\n",
    "**eig2,eig3** are similar in the following way. They oscilate between positive and negative values. In other words, they correspond to changing the distribution of the TOBS, but they don't change the total (much).\n",
    "\n"
   ]
  },
  {
   "cell_type": "markdown",
   "metadata": {
    "run_control": {
     "frozen": false,
     "read_only": false
    }
   },
   "source": [
    "### Examples of reconstructions\n",
    "\n",
    "#### Considering effect of coeff_1\n",
    "Positive values of coeff_1\n",
    "![poscoeff1_TOBS.png](Analysis/poscoeff1_TOBS.png)\n",
    "\n",
    "Negative values of coeff_1\n",
    "![poscoeff2_TOBS.png](Analysis/poscoeff2_TOBS.png)\n",
    "Clearly from the above it can be seen that the coeff_1 of eigen vector 1 affects the observed temperature. Larger positive values of coeff_1 correspond to more larger than average TOBS values. Whereas smaller positive values correspond to slightly larger than average TOBS values.\n",
    "\n",
    "#### Considering effect of coeff_2\n",
    "Positive values of coeff_2\n",
    "![poscoeff2_TOBS.png](Analysis/poscoeff2_TOBS.png)\n",
    "\n",
    "\n",
    "Negative values of coeff_2\n",
    "![negcoeff2_TOBS.png](Analysis/negcoeff2_TOBS.png)\n",
    "\n",
    "Clearly from the above it can be seen that the coeff_2 of eigen vector 2 affects the observed temperature in the early months of JAnuary-February. Positive values of coeff_1 correspond to lesser than average TOBS values. The more positive it is the more difference. Whereas negative values correspond to slightly larger than average TOBS values.\n",
    "\n",
    "Coeff_3 does not particularly affect the data much.\n"
   ]
  },
  {
   "cell_type": "markdown",
   "metadata": {
    "run_control": {
     "frozen": false,
     "read_only": false
    }
   },
   "source": [
    "## Analysis of correlation between TOBS and elevations across different locations\n",
    "![coeff_1vselevation.png](Analysis/coeff_1vselevation.png)\n",
    "\n",
    "We analysed the relationship between the coeff1 of eigen vector1 and the elevations at different stations. Different stations are indicated by different areas of circles according to the number of valid counts for that station and the color of circle is according to the value of coeff_1 for that station.\n",
    "\n",
    "![scatter_coeff_1vselevation.png](Analysis/scatter_coeff_1vselevation.png)\n",
    "\n",
    "From the above curve it is clear that there is no correlation between the coeff_1 value and the elevation.\n"
   ]
  },
  {
   "cell_type": "markdown",
   "metadata": {
    "run_control": {
     "frozen": false,
     "read_only": false
    }
   },
   "source": [
    "\n",
    "The variation in the observed temperature is\n",
    "In the previous section we saw the variation of Coeff1, which affects the observed temperature, with respect to location. We now estimate the relative importance of location-to-location variation relative to year-by-year variation.\n",
    "These are measured using the fraction by which the variance is reduced when we subtract from each station/year entry the average-per-year or the average-per-station respectively. Here are the results:\n",
    "\n",
    "coeff_1 \n",
    "total RMS                   =  626.076787628\n",
    "RMS removing mean-by-station=  476.203195948\n",
    "RMS removing mean-by-year   =  485.772902404\n",
    "\n",
    "initial RMS= 626.076787628\n",
    "0 after removing mean by year    = 485.772902404\n",
    "0 after removing mean by stations= 349.159971153\n",
    "1 after removing mean by year    = 346.564551822\n",
    "1 after removing mean by stations= 346.358462652\n",
    "2 after removing mean by year    = 346.328088966\n",
    "2 after removing mean by stations= 346.321766193\n",
    "3 after removing mean by year    = 346.319939599\n",
    "3 after removing mean by stations= 346.319259841\n",
    "4 after removing mean by year    = 346.318968844\n",
    "4 after removing mean by stations= 346.318836135\n",
    "\n",
    "Stations explain variation in the RMS after effect of time variation is removed.\n",
    "\n",
    "coeff_2 \n",
    "total RMS                   =  192.931081902\n",
    "RMS removing mean-by-station=  189.319527345\n",
    "RMS removing mean-by-year   =  104.605404872\n",
    "\n",
    "initial RMS= 192.931081902\n",
    "0 after removing mean by year    = 104.605404872\n",
    "0 after removing mean by stations= 99.5261923657\n",
    "1 after removing mean by year    = 99.3453902518\n",
    "1 after removing mean by stations= 99.3116040689\n",
    "2 after removing mean by year    = 99.3001023212\n",
    "2 after removing mean by stations= 99.2953353876\n",
    "3 after removing mean by year    = 99.2932068539\n",
    "3 after removing mean by stations= 99.2922238056\n",
    "4 after removing mean by year    = 99.2917620307\n",
    "4 after removing mean by stations= 99.2915431789\n",
    "\n",
    "On further running tests time and locations do not explain any further variation than the reduced one.\n",
    "\n",
    "coeff_3 \n",
    "total RMS                   =  170.588583666\n",
    "RMS removing mean-by-station=  166.958050648\n",
    "RMS removing mean-by-year   =  72.5747392083\n",
    "\n",
    "initial RMS= 170.588583666\n",
    "0 after removing mean by year    = 72.5747392083\n",
    "0 after removing mean by stations= 67.820234035\n",
    "1 after removing mean by year    = 67.6906345712\n",
    "1 after removing mean by stations= 67.6794986593\n",
    "2 after removing mean by year    = 67.6779080066\n",
    "2 after removing mean by stations= 67.6776028105\n",
    "3 after removing mean by year    = 67.6775341948\n",
    "3 after removing mean by stations= 67.6775174325\n",
    "4 after removing mean by year    = 67.6775131224\n",
    "4 after removing mean by stations= 67.6775119642\n",
    "\n",
    "\n",
    "\n",
    "On further running tests time and locations do not explain any further variation than the reduced one.\n",
    "\n",
    "We see that the variation by year and variation by location explains almost the same for coeff_1 which affects the mean TOBS. However this effect is weaker, consider coeff_2, which affects the observed temperature in the months January-February. In this case time explains more variation in the RMS data.  For coeff_3 also time explains more variation in the data while the location explains almost none of the variation seen in RMS."
   ]
  },
  {
   "cell_type": "markdown",
   "metadata": {
    "run_control": {
     "frozen": false,
     "read_only": false
    }
   },
   "source": [
    "## Analysis of PRCP \n",
    "\n",
    "We choose to analyze the eigen-decomposition for TOBS because the average precipitation is nearly constant and is not much affected by the eigen vectors.\n",
    "![PRCP_2year.png](Analysis/PRCP_2year.png)\n",
    "The above shows the variation of PRCP at a station over 2 years.\n",
    "\n",
    "We also see the percentage variance explained by 10 eigen vectors:\n",
    "PRCP_percentvarianceexplained.png\n",
    "![PRCP_percentvarianceexplained.png](Analysis/PRCP_percentvarianceexplained.png)\n",
    "\n",
    "10 vectors are able to explain 12% of the variance but the top3 eigen vectors cannot explain much\n",
    "First, we graph the mean and the top 3 eigen-vectors.\n",
    "\n",
    "We observe that the PRCP varies in a small range and the the eigen vectors are nearly constant for the whole duration.\n",
    "![PRCP_meaneigs.png](Analysis/PRCP_meaneigs.png)"
   ]
  },
  {
   "cell_type": "markdown",
   "metadata": {
    "run_control": {
     "frozen": false,
     "read_only": false
    }
   },
   "source": [
    "Next we interpret the eigen-functions.The first eigen vector is more or less constant and has a positive value so it adds an offset to the observed temperature.\n",
    "\n",
    "**eig2,eig3** are similar in the following way. They oscilate between positive and negative values. In other words, they correspond to changing the distribution of the TOBS, but they don't change the total (much).\n",
    "\n"
   ]
  },
  {
   "cell_type": "markdown",
   "metadata": {
    "run_control": {
     "frozen": false,
     "read_only": false
    }
   },
   "source": [
    "### Examples of reconstructions\n",
    "\n",
    "#### Considering effect of residuals\n",
    "\n",
    "Since the top eigen vectors are not able to describe the variations in PRCP data hence we plot the variations obtained by the residual variations.\n",
    "\n",
    "Best results of res_3 variation:\n",
    "![PRCP_resvariation_best.png](Analysis/PRCP_resvariation_best.png)\n",
    "\n",
    "Worst results of res_3 variation:\n",
    "![PRCP_resvariation_worst.png](Analysis/PRCP_resvariation_worst.png)\n",
    "\n",
    "The results of the distribution after residuals is:\n",
    "![PRCP_distafterres.png](Analysis/PRCP_distafterres.png)\n",
    "\n",
    "Clearly the 3 vectors together offer limited amount of explanation regarding the variation"
   ]
  },
  {
   "cell_type": "markdown",
   "metadata": {
    "run_control": {
     "frozen": false,
     "read_only": false
    }
   },
   "source": [
    "\n",
    "We now estimate the relative importance of location-to-location residual variation relative to year-by-year residual variation.\n",
    "These are measured using the fraction by which the variance is reduced when we subtract from each station/year entry the average-per-year or the average-per-station respectively. Here are the results:\n",
    "\n",
    "coeff_1 \n",
    "\n",
    "total RMS                   =  218.329643381\n",
    "\n",
    "RMS removing mean-by-station=  216.812621061\n",
    "\n",
    "RMS removing mean-by-year   =  73.9423247265\n",
    "\n",
    "0 after removing mean by year    = 73.9423247265\n",
    "0 after removing mean by stations= 72.5974050863\n",
    "1 after removing mean by year    = 72.5749317327\n",
    "1 after removing mean by stations= 72.5697580383\n",
    "2 after removing mean by year    = 72.5677120772\n",
    "2 after removing mean by stations= 72.566796199\n",
    "3 after removing mean by year    = 72.5663647068\n",
    "3 after removing mean by stations= 72.566156162\n",
    "4 after removing mean by year    = 72.5660540117\n",
    "4 after removing mean by stations= 72.5660036138\n",
    "\n",
    "Stations do not explain variation in the RMS after effect of time variation is removed.\n",
    "\n",
    "coeff_2 \n",
    "\n",
    "total RMS                   =  209.855349894\n",
    "\n",
    "RMS removing mean-by-station=  207.723962315\n",
    "\n",
    "RMS removing mean-by-year   =  74.5024166352\n",
    "\n",
    "initial RMS= 209.855349894\n",
    "0 after removing mean by year    = 74.5024166352\n",
    "0 after removing mean by stations= 73.0962416201\n",
    "1 after removing mean by year    = 73.0529944231\n",
    "1 after removing mean by stations= 73.0480584596\n",
    "2 after removing mean by year    = 73.0470491025\n",
    "2 after removing mean by stations= 73.0467809491\n",
    "3 after removing mean by year    = 73.0467010785\n",
    "3 after removing mean by stations= 73.0466756521\n",
    "4 after removing mean by year    = 73.0466671318\n",
    "4 after removing mean by stations= 73.0466641464\n",
    "\n",
    "On further running tests time and locations do not explain any further variation than the reduced one.\n",
    "\n",
    "coeff_3 \n",
    "\n",
    "total RMS                   =  205.948957217\n",
    "\n",
    "RMS removing mean-by-station=  203.752172324\n",
    "\n",
    "RMS removing mean-by-year   =  74.784785958\n",
    "\n",
    "initial RMS= 205.948957217\n",
    "0 after removing mean by year    = 74.784785958\n",
    "0 after removing mean by stations= 73.6821053013\n",
    "1 after removing mean by year    = 73.665967006\n",
    "1 after removing mean by stations= 73.6647722481\n",
    "2 after removing mean by year    = 73.6645653048\n",
    "2 after removing mean by stations= 73.6645054182\n",
    "3 after removing mean by year    = 73.6644837729\n",
    "3 after removing mean by stations= 73.6644751461\n",
    "4 after removing mean by year    = 73.6644715194\n",
    "4 after removing mean by stations= 73.6644699393\n",
    "On further running tests time and locations do not explain any further variation than the reduced one.\n",
    "\n",
    "\n",
    "We see that the variation by year explains more than the variation by station.\n"
   ]
  },
  {
   "cell_type": "markdown",
   "metadata": {},
   "source": [
    "Since we cannot make any strong conclusions using the eigen vectors hence we will analyse the residuals further to gain some more important insight\n"
   ]
  },
  {
   "cell_type": "markdown",
   "metadata": {},
   "source": [
    "### How well-explained are the vectors in this collection?\n",
    "\n",
    "To answer this question we extract all of the values of `res_3` which is the residual variance after the Mean and the \n",
    "first two Eigen-vectors have been subtracted out. We rely here on the fact that `df3` is already sorted according to `res_3`\n",
    "\n",
    "![PRCP_CDF.png](Analysis/PRCP_CDF.png)\n",
    "\n",
    "Clearly we can see that around 10% of the instances have res_3 < 0.9 and the remaining have res_3 between 0.9 and 1.0 which proves that most of the variance in data cannot be explained by top eigen vectors.\n",
    "\n",
    "![PRCP_CDFrainfall.png](Analysis/PRCP_CDFrainfall.png)\n",
    "\n",
    "From the CDF distribution we can see that nearly 80% of the stations have almost 0mm rainfall.\n",
    "\n",
    "### Conclusions\n",
    "It is likely to be hard to find correlations between the **amount** of rain on the same day in different stations. Because amounts of rain vary a lot between even close locations. It is more reasonable to try to compare whether or not it rained on the same day in different stations.\n",
    "\n",
    "### measuring statistical significance\n",
    "We want to find a statistical test for rejecting the null hypothesis that says that the rainfall in the two locations is independent.\n",
    "\n",
    "Using the inner product is too noisy, because you multiply the rainfall on the same day in two locations and that product can be very large - leading to a large variance and poor ability to discriminate.\n",
    "\n",
    "An alternative is to ignore the amount of rain, and just ask whether it rained in both locations. We can then compute the probability associated with the number of overlaps under the null hypothesis.\n",
    "\n",
    "Thus we will use the p-test for this.\n",
    "\n",
    "We will pass the correlation matrix to the p-test and get the significance curve\n",
    "A large value in the significance curve means that there is greater chance that if it rained in one station then it will also rain in another station.\n",
    "\n",
    "![PRCP_significance.png](Analysis/PRCP_significance.png)\n",
    "\n",
    "From the above we notice that a lot of pairs of stations have low significance value which means that their rainfall patterns on a day are correlated.\n",
    "\n",
    "![PRCP_Pmat.png](Analysis/PRCP_Pmat.png)\n",
    "\n",
    "Finding structure in the rependency matrix.\n",
    "\n",
    "The matrix above shows, for each pair of stations, the normalized log probability that the overlap in rain days is random.\n",
    "\n",
    "We see immediately the first few  stations are highly correlated with each other.\n",
    "\n",
    "To find more correlations we use SVD (the term PCA is reserved for decomposition of the covariance matrix). As we shall see that the top 10 eigenvectors explain about 80% of the square magnitude of the matrix.\n",
    "\n",
    "![PRCP_varexplained.png](Analysis/PRCP_varexplained.png)\n",
    "\n",
    "\n",
    "We will look at the top 4 eigenn vectors for this case\n",
    "![PRCP_top4eig.png](Analysis/PRCP_top4eig.png)\n",
    "\n",
    "Now we plot the reordered matrix:\n",
    "\n",
    "\n",
    "\n",
    "![PRCP_reordered.png](Analysis/PRCP_reordered.png)\n",
    "Explanation and possibe extensions\n",
    "\n",
    "When we reorder the rows and columns of the matrix using one of the eigenvectors, the grouping of the stations becomes more evident. For example, consider the upper left corner of the scond matrix (The upper left one). The stations at positions 0-22 are clearly strongly correlated with each other. Even though there are some stations, in positions 15-18 or so, which are more related to each other than to the rest of this block.\n",
    "\n",
    "This type of organization is called Block Diagonal and it typically reveals important structure such as grouping or clustering.\n",
    "\n",
    "\n",
    "\n",
    "\n"
   ]
  },
  {
   "cell_type": "code",
   "execution_count": null,
   "metadata": {
    "collapsed": true,
    "run_control": {
     "frozen": false,
     "read_only": false
    }
   },
   "outputs": [],
   "source": []
  }
 ],
 "metadata": {
  "anaconda-cloud": {},
  "kernelspec": {
   "display_name": "Python 2",
   "language": "python",
   "name": "python2"
  },
  "language_info": {
   "codemirror_mode": {
    "name": "ipython",
    "version": 2
   },
   "file_extension": ".py",
   "mimetype": "text/x-python",
   "name": "python",
   "nbconvert_exporter": "python",
   "pygments_lexer": "ipython2",
   "version": "2.7.13"
  },
  "toc": {
   "colors": {
    "hover_highlight": "#DAA520",
    "running_highlight": "#FF0000",
    "selected_highlight": "#FFD700"
   },
   "moveMenuLeft": true,
   "nav_menu": {
    "height": "12px",
    "width": "252px"
   },
   "navigate_menu": true,
   "number_sections": true,
   "sideBar": true,
   "threshold": 4,
   "toc_cell": false,
   "toc_section_display": "block",
   "toc_window_display": false
  }
 },
 "nbformat": 4,
 "nbformat_minor": 2
}
