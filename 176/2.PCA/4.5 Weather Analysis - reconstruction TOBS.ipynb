{
 "cells": [
  {
   "cell_type": "code",
   "execution_count": 1,
   "metadata": {
    "collapsed": true,
    "run_control": {
     "frozen": false,
     "read_only": false
    }
   },
   "outputs": [],
   "source": [
    "#setup\n",
    "data_dir='../../Data/Weather'\n",
    "file_index='BSSSBSBB'\n",
    "m='TOBS'"
   ]
  },
  {
   "cell_type": "markdown",
   "metadata": {
    "run_control": {
     "frozen": false,
     "read_only": false
    },
    "slideshow": {
     "slide_type": "slide"
    },
    "variables": {
     "m": "PRCP"
    }
   },
   "source": [
    "# Reconstruction using top eigen-vectors\n",
    "For measurement = {{m}}"
   ]
  },
  {
   "cell_type": "markdown",
   "metadata": {
    "run_control": {
     "frozen": false,
     "read_only": false
    },
    "slideshow": {
     "slide_type": "skip"
    }
   },
   "source": [
    "## Load the required libraries"
   ]
  },
  {
   "cell_type": "code",
   "execution_count": 2,
   "metadata": {
    "collapsed": true,
    "run_control": {
     "frozen": false,
     "read_only": false
    },
    "slideshow": {
     "slide_type": "skip"
    }
   },
   "outputs": [],
   "source": [
    "# Enable automiatic reload of libraries\n",
    "#%load_ext autoreload\n",
    "#%autoreload 2 # means that all modules are reloaded before every command"
   ]
  },
  {
   "cell_type": "code",
   "execution_count": 3,
   "metadata": {
    "run_control": {
     "frozen": false,
     "read_only": false
    },
    "slideshow": {
     "slide_type": "skip"
    }
   },
   "outputs": [
    {
     "name": "stdout",
     "output_type": "stream",
     "text": [
      "Populating the interactive namespace from numpy and matplotlib\n",
      "    pandas as    pd \tversion=0.19.2 \trequired version>=0.19.2\n",
      "     numpy as    np \tversion=1.11.3 \trequired version>=1.12.0 ******* Update Version ******\n",
      "   sklearn as    sk \tversion=0.18.1 \trequired version>=0.18.1\n",
      "    urllib as urllib \tversion=1.17 \trequired version>=1.17\n",
      "   pyspark as pyspark \tversion=2.1.0+hadoop2.7 \trequired version>=2.1.0\n",
      "ipywidgets as ipywidgets \tversion=6.0.0 \trequired version>=6.0.0\n"
     ]
    }
   ],
   "source": [
    "%pylab inline\n",
    "import numpy as np\n",
    "\n",
    "import findspark\n",
    "findspark.init()\n",
    "\n",
    "import sys\n",
    "sys.path.append('./lib')\n",
    "\n",
    "from numpy_pack import packArray,unpackArray\n",
    "\n",
    "from Eigen_decomp import Eigen_decomp\n",
    "from YearPlotter import YearPlotter\n",
    "from recon_plot import recon_plot\n",
    "\n",
    "from import_modules import import_modules,modules\n",
    "import_modules(modules)\n",
    "\n",
    "from ipywidgets import interactive,widgets"
   ]
  },
  {
   "cell_type": "code",
   "execution_count": 4,
   "metadata": {
    "collapsed": true,
    "run_control": {
     "frozen": false,
     "read_only": false
    },
    "slideshow": {
     "slide_type": "skip"
    }
   },
   "outputs": [],
   "source": [
    "from pyspark import SparkContext\n",
    "#sc.stop()\n",
    "\n",
    "sc = SparkContext(master=\"local[3]\",pyFiles=['lib/numpy_pack.py','lib/spark_PCA.py','lib/computeStats.py','lib/recon_plot.py','lib/Eigen_decomp.py'])\n",
    "\n",
    "from pyspark import SparkContext\n",
    "from pyspark.sql import *\n",
    "sqlContext = SQLContext(sc)\n",
    "\n",
    "\n",
    "\n"
   ]
  },
  {
   "cell_type": "markdown",
   "metadata": {
    "run_control": {
     "frozen": false,
     "read_only": false
    },
    "slideshow": {
     "slide_type": "slide"
    }
   },
   "source": [
    "## Read Statistics File"
   ]
  },
  {
   "cell_type": "code",
   "execution_count": 5,
   "metadata": {
    "collapsed": true,
    "run_control": {
     "frozen": false,
     "read_only": false
    },
    "slideshow": {
     "slide_type": "fragment"
    }
   },
   "outputs": [],
   "source": [
    "data_dir='../../Data/Weather'\n",
    "file_index='BSSSBSBB'"
   ]
  },
  {
   "cell_type": "code",
   "execution_count": 6,
   "metadata": {
    "run_control": {
     "frozen": false,
     "read_only": false
    },
    "slideshow": {
     "slide_type": "subslide"
    }
   },
   "outputs": [
    {
     "name": "stdout",
     "output_type": "stream",
     "text": [
      "keys from STAT= ['TMIN', 'TOBS', 'TMAX', 'SNOW', 'SNWD', 'PRCP']\n"
     ]
    }
   ],
   "source": [
    "from pickle import load\n",
    "\n",
    "#read statistics\n",
    "filename=data_dir+'/STAT_%s.pickle'%file_index\n",
    "STAT,STAT_Descriptions = load(open(filename,'rb'))\n",
    "measurements=STAT.keys()\n",
    "print 'keys from STAT=',measurements"
   ]
  },
  {
   "cell_type": "markdown",
   "metadata": {
    "run_control": {
     "frozen": false,
     "read_only": false
    },
    "slideshow": {
     "slide_type": "slide"
    }
   },
   "source": [
    "## Read data file into a spark DataFrame\n",
    "We focus on the snow-depth records, because the eigen-vectors for them make sense."
   ]
  },
  {
   "cell_type": "code",
   "execution_count": 7,
   "metadata": {
    "run_control": {
     "frozen": false,
     "read_only": false
    },
    "scrolled": true,
    "slideshow": {
     "slide_type": "subslide"
    }
   },
   "outputs": [
    {
     "name": "stdout",
     "output_type": "stream",
     "text": [
      "+---------+--------+---------+-----------+-----------+------+--------------------+------+--------+\n",
      "|elevation|latitude|longitude|measurement|    station|undefs|              vector|  year|   label|\n",
      "+---------+--------+---------+-----------+-----------+------+--------------------+------+--------+\n",
      "|     78.3| 32.5906| -86.2103|       PRCP|USC00018859|    26|[00 00 00 00 00 0...|1894.0|BSSSBSBB|\n",
      "|     78.3| 32.5906| -86.2103|       PRCP|USC00018859|     0|[00 00 00 00 50 5...|1895.0|BSSSBSBB|\n",
      "|     78.3| 32.5906| -86.2103|       PRCP|USC00018859|     1|[00 00 00 00 80 4...|1896.0|BSSSBSBB|\n",
      "|     78.3| 32.5906| -86.2103|       PRCP|USC00018859|     1|[00 00 00 00 00 0...|1897.0|BSSSBSBB|\n",
      "|     78.3| 32.5906| -86.2103|       PRCP|USC00018859|     1|[00 00 00 00 00 0...|1898.0|BSSSBSBB|\n",
      "+---------+--------+---------+-----------+-----------+------+--------------------+------+--------+\n",
      "only showing top 5 rows\n",
      "\n"
     ]
    }
   ],
   "source": [
    "#read data\n",
    "filename=data_dir+'/US_Weather_%s.parquet'%file_index\n",
    "df_in=sqlContext.read.parquet(filename)\n",
    "#filter in \n",
    "df=df_in.filter(df_in.measurement==m)\n",
    "df.show(5)"
   ]
  },
  {
   "cell_type": "markdown",
   "metadata": {
    "run_control": {
     "frozen": false,
     "read_only": false
    },
    "slideshow": {
     "slide_type": "subslide"
    }
   },
   "source": [
    "### Create a matrix with all of the series"
   ]
  },
  {
   "cell_type": "code",
   "execution_count": 8,
   "metadata": {
    "run_control": {
     "frozen": false,
     "read_only": false
    }
   },
   "outputs": [
    {
     "data": {
      "text/plain": [
       "(3337, 365)"
      ]
     },
     "execution_count": 8,
     "metadata": {},
     "output_type": "execute_result"
    }
   ],
   "source": [
    "rows=df.rdd.map(lambda row:unpackArray(row['vector'],np.float16)).collect()\n",
    "\n",
    "T=np.vstack(rows)\n",
    "shape(T)"
   ]
  },
  {
   "cell_type": "markdown",
   "metadata": {
    "run_control": {
     "frozen": false,
     "read_only": false
    },
    "slideshow": {
     "slide_type": "subslide"
    }
   },
   "source": [
    "### Plot two time series\n",
    "`SNWD` stands for `snow-depth`, which explains why it is zero during the summer"
   ]
  },
  {
   "cell_type": "code",
   "execution_count": 9,
   "metadata": {
    "run_control": {
     "frozen": false,
     "read_only": false
    },
    "slideshow": {
     "slide_type": "fragment"
    }
   },
   "outputs": [
    {
     "data": {
      "image/png": "iVBORw0KGgoAAAANSUhEUgAAAXoAAAD6CAYAAACvZ4z8AAAABHNCSVQICAgIfAhkiAAAAAlwSFlz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\nJbmSpxC9wBnr2l