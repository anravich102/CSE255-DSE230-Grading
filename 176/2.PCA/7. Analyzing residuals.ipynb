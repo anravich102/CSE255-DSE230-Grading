{
 "cells": [
  {
   "cell_type": "code",
   "execution_count": 1,
   "metadata": {
    "collapsed": true,
    "run_control": {
     "frozen": false,
     "read_only": false
    }
   },
   "outputs": [],
   "source": [
    "#setup\n",
    "data_dir='../../Data/Weather'\n",
    "file_index='BSSSBSBB'\n",
    "meas='PRCP'"
   ]
  },
  {
   "cell_type": "markdown",
   "metadata": {
    "run_control": {
     "frozen": false,
     "read_only": false
    },
    "slideshow": {
     "slide_type": "slide"
    },
    "variables": {
     "meas": "PRCP"
    }
   },
   "source": [
    "# Reconstruction using top eigen-vectors\n",
    "For measurement = {{meas}}"
   ]
  },
  {
   "cell_type": "markdown",
   "metadata": {
    "run_control": {
     "frozen": false,
     "read_only": false
    },
    "slideshow": {
     "slide_type": "skip"
    }
   },
   "source": [
    "## Load the required libraries"
   ]
  },
  {
   "cell_type": "code",
   "execution_count": 2,
   "metadata": {
    "collapsed": true,
    "run_control": {
     "frozen": false,
     "read_only": false
    },
    "slideshow": {
     "slide_type": "skip"
    }
   },
   "outputs": [],
   "source": [
    "# Enable automiatic reload of libraries\n",
    "#%load_ext autoreload\n",
    "#%autoreload 2 # means that all modules are reloaded before every command"
   ]
  },
  {
   "cell_type": "code",
   "execution_count": 3,
   "metadata": {
    "run_control": {
     "frozen": false,
     "read_only": false
    },
    "slideshow": {
     "slide_type": "skip"
    }
   },
   "outputs": [
    {
     "name": "stdout",
     "output_type": "stream",
     "text": [
      "Populating the interactive namespace from numpy and matplotlib\n",
      "    pandas as    pd \tversion=0.19.2 \trequired version>=0.19.2\n",
      "     numpy as    np \tversion=1.11.3 \trequired version>=1.12.0 ******* Update Version ******\n",
      "   sklearn as    sk \tversion=0.18.1 \trequired version>=0.18.1\n",
      "    urllib as urllib \tversion=1.17 \trequired version>=1.17\n",
      "   pyspark as pyspark \tversion=2.1.0+hadoop2.7 \trequired version>=2.1.0\n",
      "ipywidgets as ipywidgets \tversion=6.0.0 \trequired version>=6.0.0\n"
     ]
    }
   ],
   "source": [
    "%pylab inline\n",
    "import numpy as np\n",
    "\n",
    "import findspark\n",
    "findspark.init()\n",
    "\n",
    "import sys\n",
    "sys.path.append('./lib')\n",
    "\n",
    "from numpy_pack import packArray,unpackArray\n",
    "\n",
    "from Eigen_decomp import Eigen_decomp\n",
    "from YearPlotter import YearPlotter\n",
    "from recon_plot import recon_plot\n",
    "\n",
    "from import_modules import import_modules,modules\n",
    "import_modules(modules)\n",
    "\n",
    "from ipywidgets import interactive,widgets"
   ]
  },
  {
   "cell_type": "code",
   "execution_count": 4,
   "metadata": {
    "collapsed": true,
    "run_control": {
     "frozen": false,
     "read_only": false
    },
    "slideshow": {
     "slide_type": "skip"
    }
   },
   "outputs": [],
   "source": [
    "from pyspark import SparkContext\n",
    "#sc.stop()\n",
    "\n",
    "sc = SparkContext(master=\"local[3]\",pyFiles=['lib/numpy_pack.py','lib/spark_PCA.py','lib/computeStats.py','lib/recon_plot.py','lib/Eigen_decomp.py'])\n",
    "\n",
    "from pyspark import SparkContext\n",
    "from pyspark.sql import *\n",
    "sqlContext = SQLContext(sc)"
   ]
  },
  {
   "cell_type": "markdown",
   "metadata": {
    "run_control": {
     "frozen": false,
     "read_only": false
    },
    "slideshow": {
     "slide_type": "slide"
    }
   },
   "source": [
    "## Read Statistics File"
   ]
  },
  {
   "cell_type": "code",
   "execution_count": 5,
   "metadata": {
    "run_control": {
     "frozen": false,
     "read_only": false
    },
    "slideshow": {
     "slide_type": "subslide"
    }
   },
   "outputs": [
    {
     "name": "stdout",
     "output_type": "stream",
     "text": [
      "keys from STAT= ['TMIN', 'TOBS', 'TMAX', 'SNOW', 'SNWD', 'PRCP']\n"
     ]
    }
   ],
   "source": [
    "from pickle import load\n",
    "\n",
    "#read statistics\n",
    "filename=data_dir+'/STAT_%s.pickle'%file_index\n",
    "STAT,STAT_Descriptions = load(open(filename,'rb'))\n",
    "measurements=STAT.keys()\n",
    "print 'keys from STAT=',measurements"
   ]
  },
  {
   "cell_type": "markdown",
   "metadata": {
    "run_control": {
     "frozen": false,
     "read_only": false
    },
    "slideshow": {
     "slide_type": "slide"
    }
   },
   "source": [
    "## Read data file into a spark DataFrame\n",
    "We focus on the snow-depth records, because the eigen-vectors for them make sense."
   ]
  },
  {
   "cell_type": "code",
   "execution_count": 6,
   "metadata": {
    "run_control": {
     "frozen": false,
     "read_only": false
    },
    "scrolled": true,
    "slideshow": {
     "slide_type": "subslide"
    }
   },
   "outputs": [
    {
     "name": "stdout",
     "output_type": "stream",
     "text": [
      "+-------------------+-------------------+-------------------+---------+--------+--------+---------+-----------+------------------+------------------+------------------+------------------+-----------+---------+------+--------------------+------+\n",
      "|            coeff_1|            coeff_2|            coeff_3|elevation|   label|latitude|longitude|measurement|             res_1|             res_2|             res_3|          res_mean|    station|total_var|undefs|              vector|  year|\n",
      "+-------------------+-------------------+-------------------+---------+--------+--------+---------+-----------+------------------+------------------+------------------+------------------+-----------+---------+------+--------------------+------+\n",
      "|-138.75552673086762|-466.80031910986287|  7.201498029832081|    118.9|BSSSBSBB| 31.9169| -87.7347|       PRCP|0.9947834590567648|0.9342896331229933|0.9342517179957289|0.8419900285299304|USC00018178|4284706.0|     4|[00 00 00 00 80 4...|1949.0|\n",
      "|-3.7763859131219206|-467.78994180966436| 171.68332225143735|    106.7|BSSSBSBB| 31.9306| -88.4586|       PRCP|0.9999966908058397|0.9492191959850875|0.9423796743310456|  0.85205450464574|USC00015354|5057817.0|     0|[00 00 00 00 A0 5...|1975.0|\n",
      "|   636.185501202989| -468.3484088397232| -248.4783268158507|     61.0|BSSSBSBB| 32.4714| -87.2314|       PRCP|0.8903150918714049|0.8306793751015772|0.8138944774083969|0.8598346354058766|USC00015121|4278711.0|     2|[00 00 00 45 6C 6...|1966.0|\n",
      "|  775.4661099130091| -468.4987639858292|-320.52892323187143|     44.8|BSSSBSBB| 32.4111| -87.0144|       PRCP|0.8505590514859902|0.7957484431629231|0.7700162538646875| 0.870761516324376|USC00017366|4610672.0|     1|[00 00 00 00 70 5...|1966.0|\n",
      "| -70.18514345559012|-471.64905160917914|  280.0734451944136|     91.4|BSSSBSBB| 31.6772| -86.8061|       PRCP|0.9991411706715497|0.9395061225776805|0.9200569910504093|0.8475392922333848|USC00013271|4797754.0|     4|[00 00 00 00 00 0...|1975.0|\n",
      "+-------------------+-------------------+-------------------+---------+--------+--------+---------+-----------+------------------+------------------+------------------+------------------+-----------+---------+------+--------------------+------+\n",
      "only showing top 5 rows\n",
      "\n"
     ]
    }
   ],
   "source": [
    "#read data\n",
    "filename=data_dir+'/decon_%s_%s.parquet'%(file_index,meas)\n",
    "df_in=sqlContext.read.parquet(filename)\n",
    "#filter in \n",
    "df=df_in.filter(df_in.measurement==meas)\n",
    "df.show(5)"
   ]
  },
  {
   "cell_type": "markdown",
   "metadata": {
    "run_control": {
     "frozen": false,
     "read_only": false
    },
    "slideshow": {
     "slide_type": "slide"
    }
   },
   "source": [
    "### Plot Mean and Eigenvecs"
   ]
  },
  {
   "cell_type": "code",
   "execution_count": 7,
   "metadata": {
    "run_control": {
     "frozen": false,
     "read_only": false
    },
    "scrolled": false,
    "slideshow": {
     "slide_type": "subslide"
    }
   },
   "outputs": [
    {
     "data": {
      "image/png": "iVBORw0KGgoAAAANSUhEUgAAAl8AAAFcCAYAAAD2w9suAAAABHNCSVQICAgIfAhkiAAAAAlwSFlz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\nzrAQDmhoi4fLer4yujVv7Y8UXltQYUeFx