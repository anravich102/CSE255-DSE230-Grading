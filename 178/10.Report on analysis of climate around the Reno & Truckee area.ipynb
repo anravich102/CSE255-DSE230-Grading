{
 "cells": [
  {
   "cell_type": "code",
   "execution_count": 1,
   "metadata": {
    "run_control": {
     "frozen": false,
     "read_only": false
    },
    "scrolled": false
   },
   "outputs": [
    {
     "name": "stdout",
     "output_type": "stream",
     "text": [
      "![Climate_Reno_-_Nevada_and_Weather_averages_Reno.JPG](my_figures/Climate_Reno_-_Nevada_and_Weather_averages_Reno.JPG)\n",
      "![Climate_Truckee_-_California_and_Weather_averages_Truckee.JPG](my_figures/Climate_Truckee_-_California_and_Weather_averages_Truckee.JPG)\n",
      "![PRCP_1.JPG](my_figures/PRCP_1.JPG)\n",
      "![SNWD_mean_eigs.JPG](my_figures/SNWD_mean_eigs.JPG)\n",
      "![SNWD_mean_eigs_1-2-3-4.JPG](my_figures/SNWD_mean_eigs_1-2-3-4.JPG)\n",
      "![SNWD_mean_eigs_1-2-3.JPG](my_figures/SNWD_mean_eigs_1-2-3.JPG)\n",
      "![SNWD_mean_eigs_1-2.JPG](my_figures/SNWD_mean_eigs_1-2.JPG)\n",
      "![SNWD_mean_eigs_1.JPG](my_figures/SNWD_mean_eigs_1.JPG)\n",
      "![TMIN,TMAX.JPG](my_figures/TMIN,TMAX.JPG)\n",
      "![TMIN_TMAX.JPG](my_figures/TMIN_TMAX.JPG)\n",
      "![VarExplained1.JPG](my_figures/VarExplained1.JPG)\n",
      "![VarExplained2.JPG](my_figures/VarExplained2.JPG)\n"
     ]
    }
   ],
   "source": [
    "L=!ls my_figures/\n",
    "for l in L:\n",
    "    print \"![%s](my_figures/%s)\"%(l,l)"
   ]
  },
  {
   "cell_type": "code",
   "execution_count": 2,
   "metadata": {
    "run_control": {
     "frozen": false,
     "read_only": false
    },
    "scrolled": true
   },
   "outputs": [
    {
     "name": "stderr",
     "output_type": "stream",
     "text": [
      "'open' is not recognized as an internal or external command,\n",
      "operable program or batch file.\n"
     ]
    }
   ],
   "source": [
    "!open my_figures/TMIN,TMAX.png"
   ]
  },
  {
   "cell_type": "code",
   "execution_count": 8,
   "metadata": {},
   "outputs": [
    {
     "data": {
      "application/javascript": [
       "$( \"#mean_eig1\" ).tooltip({ content: '<img src=\"./my_figures/SNWD_mean_eigs_1.jpg\" style=\"height:300px; width:500px\"/>' });\n",
       "$( \"#mean_eig12\" ).tooltip({ content: '<img src=\"./my_figures/SNWD_mean_eigs_1-2.jpg\" style=\"height:300px; width:500px\"/>' });\n",
       "$( \"#mean_eig123\" ).tooltip({ content: '<img src=\"./my_figures/SNWD_mean_eigs_1-2-3.jpg\" style=\"height:300px; width:500px\"/>' });\n",
       "$( \"#mean_eig1234\" ).tooltip({ content: '<img src=\"./my_figures/SNWD_mean_eigs_1-2-3-4.jpg\" style=\"height:300px; width:500px\"/>' });\n",
       "$( \"#tobs_mean_eig1\" ).tooltip({ content: '<img src=\"./my_figures/TOBS_mean_eigs_1.png\" style=\"height:300px; width:500px\"/>' });\n",
       "$( \"#tobs_mean_eig12\" ).tooltip({ content: '<img src=\"./my_figures/TOBS_mean_eigs_1-2.png\" style=\"height:300px; width:500px\"/>' });\n",
       "$( \"#tobs_mean_eig123\" ).tooltip({ content: '<img src=\"./my_figures/TOBS_mean_eigs_1-2-3.png\" style=\"height:300px; width:500px\"/>' });"
      ],
      "text/plain": [
       "<IPython.core.display.Javascript object>"
      ]
     },
     "metadata": {},
     "output_type": "display_data"
    }
   ],
   "source": [
    "%%javascript\n",
    "$( \"#mean_eig1\" ).tooltip({ content: '<img src=\"./my_figures/SNWD_mean_eigs_1.jpg\" style=\"height:300px; width:500px\"/>' });\n",
    "$( \"#mean_eig12\" ).tooltip({ content: '<img src=\"./my_figures/SNWD_mean_eigs_1-2.jpg\" style=\"height:300px; width:500px\"/>' });\n",
    "$( \"#mean_eig123\" ).tooltip({ content: '<img src=\"./my_figures/SNWD_mean_eigs_1-2-3.jpg\" style=\"height:300px; width:500px\"/>' });\n",
    "$( \"#mean_eig1234\" ).tooltip({ content: '<img src=\"./my_figures/SNWD_mean_eigs_1-2-3-4.jpg\" style=\"height:300px; width:500px\"/>' });\n",
    "$( \"#tobs_mean_eig1\" ).tooltip({ content: '<img src=\"./my_figures/TOBS_mean_eigs_1.png\" style=\"height:300px; width:500px\"/>' });\n",
    "$( \"#tobs_mean_eig12\" ).tooltip({ content: '<img src=\"./my_figures/TOBS_mean_eigs_1-2.png\" style=\"height:300px; width:500px\"/>' });\n",
    "$( \"#tobs_mean_eig123\" ).tooltip({ content: '<img src=\"./my_figures/TOBS_mean_eigs_1-2-3.png\" style=\"height:300px; width:500px\"/>' });"
   ]
  },
  {
   "cell_type": "markdown",
   "metadata": {
    "run_control": {
     "frozen": false,
     "read_only": false
    }
   },
   "source": [
    "# Weather Analysis - Nevada County, CA; Placer County, CA; Reno, NV; Carson City,  NV \n",
    "\n",
    "This is a report on the historical analysis of weather patterns in an area that approximately overlaps the areas of the following places - Nevada County, Placer County in the state of California, city Reno and Carson City in the state of Nevada\n",
    "\n",
    "The data used here comes from [NOAA](https://www.ncdc.noaa.gov/). Specifically, it was downloaded from This [FTP site](ftp://ftp.ncdc.noaa.gov/pub/data/ghcn/daily/). However, the cleaned data for generating this report has been picked from this [url](https://mas-dse-open.s3.amazonaws.com/Weather/small/US_Weather_SSSBSBBB.csv.gz).\n",
    "\n",
    "We focused on six measurements:\n",
    "* **TMIN, TMAX:** the daily minimum and maximum temperature.\n",
    "* **TOBS:** The average temperature for each day.\n",
    "* **PRCP:** Daily Percipitation (in mm)\n",
    "* **SNOW:** Daily snowfall (in mm)\n",
    "* **SNWD:** The depth of accumulated snow.\n",
    "\n",
    "## Sanity-check: comparison with outside sources\n",
    "\n",
    "<p>We start by comparing some of the general statistics with graphs that we obtained from a site called <a href=\"http://www.usclimatedata.com/climate\" target=\"_blank\">US Climate Data</a> The graph below shows the daily minimum and maximum temperatures for each month, as well as the total precipitation for each month for the cities <a href=\"https://goo.gl/maps/S323dYve1Ps\" target=\"_blank\">Reno (NV)</a> and <a href=\"https://goo.gl/maps/7Hmqmwbx2vH2\" target=\"_blank\">Truckee (CA)</a>. These cities were picked because the station locations are near to these cities. </p>\n",
    "\n",
    "<table>\n",
    "<tr>\n",
    "<td>\n",
    "\n",
    "<p><img alt=\"Climate_Reno_-_Nevada_and_Weather_averages_Reno.jpg\" src=\"my_figures/Climate_Reno_-_Nevada_and_Weather_averages_Reno.JPG\" /></p>\n",
    "\n",
    "</td>\n",
    "<td>\n",
    "<p><img alt=\"Climate_Truckee_-_California_and_Weather_averages_Truckee.jpg\" src=\"my_figures/Climate_Truckee_-_California_and_Weather_averages_Truckee.JPG\" /></p>\n",
    "\n",
    "</td>\n",
    "</tr>\n",
    "</table>\n",
    "<p>We see that the min and max daily&nbsp;temperature agree with the ones we got from our data, once we translate Fahrenheit to Centigrade.</p>\n",
    "\n",
    "<p>&nbsp;</p>\n",
    "\n",
    "<p><img alt=\"TMIN_TMAX.JPG\" src=\"my_figures/TMIN_TMAX.JPG\" style=\"height:300px; width:800px\" /></p>\n",
    "\n",
    "<p>To compare the precipitation&nbsp;we need to translate millimeter/day to inches/month. According to our analysis the average rainfall during the months of <b>January to April</b> and <b>Mid-October to January</b> is around <b>3.00 mm/day</b> which translates to about <b>3.55 Inches per month</b>. Also, for the months of <b>April to Mid-October</b>, the average rainfall is close to <b>0.5 mm/day</b> which translates to about <b>0.59 Inches per month</b>. According to US-Climate-Data the average rainfall is closer to <b>3 inch per month</b> for the months of <b>Mid-October to April</b> and is closed to <b>0.5 inch per month</b> for the months of <b>April to Mid-October</b>. </p>\n",
    "\n",
    "<p>However, there is clear agreement that average precipitation follows a distribution across the months, dipping from January to April, remaining close to constant from April to October, and increasing from October to December</p>\n",
    "\n",
    "<p>&nbsp;<img alt=\"PRCP.JPG\" src=\"my_figures/PRCP_1.JPG\" style=\"height:450px; width:600px\" /></p>\n"
   ]
  },
  {
   "cell_type": "markdown",
   "metadata": {},
   "source": [
    "<hr>"
   ]
  },
  {
   "cell_type": "markdown",
   "metadata": {
    "run_control": {
     "frozen": false,
     "read_only": false
    }
   },
   "source": [
    "## PCA analysis\n",
    "\n",
    "For each of the six measurement, we compute the percentate of the variance explained as a function of the number of eigen-vectors used.\n",
    "\n",
    "### Percentage of variance explained.\n",
    "![VarExplained1.png](my_figures/VarExplained1.JPG)\n",
    "We see that the top 5 eigen-vectors explain 50% of variance for TMIN, 65% for TOBS and 41% for TMAX.\n",
    "\n",
    "We conclude that of the three, TOBS is best explained by the top 5 eigenvectors. This is especially true for the first eigen-vector which, by itself, explains 57% of the variance for TOBS.\n",
    "\n",
    "![VarExplained2.png](my_figures/VarExplained2.JPG)\n",
    "\n",
    "The top 5 eigenvectors explain 17.5% of the variance for PRCP and 13.8% for SNOW. Both are low values. On the other hand the top 5 eigenvectors explain 85% of the variance for SNWD. This means that these top 5 eigenvectors capture most of the variation in the snow signals. \n",
    "\n",
    "It makes sense that SNWD would be less noisy than SNOW. That is because SNWD is a decaying integral of SNOW and, as such, varies less between days and between the same date on diffferent years.\n",
    "\n",
    "Based on the above graphs, we will dig deeper into the PCA analysis for average temperatue and snow-depth.\n",
    "\n"
   ]
  },
  {
   "cell_type": "markdown",
   "metadata": {},
   "source": [
    "<hr>"
   ]
  },
  {
   "cell_type": "markdown",
   "metadata": {
    "run_control": {
     "frozen": false,
     "read_only": false
    }
   },
   "source": [
    "## Analysis of snow depth\n",
    "\n",
    "We choose to analyze the eigen-decomposition for snow-depth because the first 4 eigen-vectors explain 81% of the variance.\n",
    "\n",
    "First, we graph the mean and the top 4 eigen-vectors.\n",
    "\n",
    "We observe that the snow season is from Mid-November to the end of June, where the middle of February/March marks the peak of the snow-depth.\n",
    "![SNWD_mean_eigs.jpg](my_figures/SNWD_mean_eigs.JPG)"
   ]
  },
  {
   "cell_type": "markdown",
   "metadata": {
    "run_control": {
     "frozen": false,
     "read_only": false
    }
   },
   "source": [
    "Next we interpret the eigen-functions. The first eigen-function (eig1) has a <a id=\"mean_eig1\" href=\"./my_figures/SNWD_mean_eigs_1.jpg\" target=\"_blank\" title=\"\">shape</a> very similar to the mean function, albeit in the opposite direction.  The interpretation of this shape is that eig1 represents the overall amount of snow above/below the mean, but in the inverse direction w.r.t the distribution over time.\n",
    "\n",
    "**eig2,eig3 and eig4** are similar in the following way. They all oscilate between positive and negative values. In other words, they correspond to changing the distribution of the snow depth over the winter months, but they don't change the total (much).\n",
    "\n",
    "They can be interpreted as follows:\n",
    "* **<a id=\"mean_eig12\" href=\"./my_figures/SNWD_mean_eigs_1-2.jpg\" target=\"_blank\" title=\"\">eig2</a>:** more snow in dec - march, less snow in march - june\n",
    "* **<a id=\"mean_eig123\" href=\"./my_figures/SNWD_mean_eigs_1-2-3.jpg\" target=\"_blank\" title=\"\">eig3</a>:** more snow in feb - end of march, slightly less snow in april - june, gradually decreasing snow in nov - dec\n",
    "* **<a id=\"mean_eig1234\" href=\"./my_figures/SNWD_mean_eigs_1-2-3-4.jpg\" target=\"_blank\" title=\"\">eig4</a>:** more snow in jan - feb, more snow in april - june, less snow in end of feb - start of april.\n"
   ]
  },
  {
   "cell_type": "markdown",
   "metadata": {
    "run_control": {
     "frozen": false,
     "read_only": false
    }
   },
   "source": [
    "### Examples of reconstructions\n",
    "\n",
    "#### Coeff1\n",
    "###### Coeff1: most positive\n",
    "![SNWD_grid_Pos_coeff1.png](my_figures/SNWD_grid_Pos_coeff1.png)\n",
    "###### Coeff1: most negative\n",
    "![SNWD_grid_neg_coeff1.png](my_figures/SNWD_grid_neg_coeff1.png)\n",
    "\n",
    "Large negative values of coeff1 correspond to more than average snow. High values correspond to less than average snow, but with some spike in snow fall in between.\n",
    "\n",
    "#### Coeff2\n",
    "##### Coeff2: most positive\n",
    "![SNWD_grid_Pos_coeff2.png](my_figures/SNWD_grid_Pos_coeff2.png)\n",
    "##### Coeff2: most negative\n",
    "![SNWD_grid_neg_coeff2.png](my_figures/SNWD_grid_neg_coeff2.png)\n",
    "\n",
    "Large positive values of coeff2 correspond to an early snow season (most of the snowfall is in feb) and an increase in snowfall in december. Negative values for coeff2 correspond to a late snow season , most of the snow fall is in march - may. While there is occassional snow fall during jan - feb, it is less than march. Very less snow during nov-jan.\n",
    "\n",
    "#### Coeff3\n",
    "##### Coeff3: most positive\n",
    "![SNWD_grid_Pos_coeff3.png](my_figures/SNWD_grid_Pos_coeff3.png)\n",
    "##### Coeff3: most negative\n",
    "![SNWD_grid_neg_coeff3.png](my_figures/SNWD_grid_neg_coeff3.png)\n",
    "\n",
    "Large positive values of coeff3 correspond to a snow season with single spike during the months of february or march. Negative values of coeff3 correspond to a season with a single peak between decemeber and jan.\n",
    "\n",
    "#### Coeff4\n",
    "##### Coeff4: most positive\n",
    "![SNWD_grid_Pos_coeff4.png](my_figures/SNWD_grid_Pos_coeff4.png)\n",
    "##### Coeff4: most negative\n",
    "![SNWD_grid_neg_coeff4.png](my_figures/SNWD_grid_neg_coeff4.png)\n",
    "\n",
    "Large positive values of coeff4 correspond to a exceptional snow fall during feb - march but no snow during nov - jan. Negative values of coeff4 correspond to a high snow fall from jan - april and from nov - jan.\n",
    "\n"
   ]
  },
  {
   "cell_type": "markdown",
   "metadata": {},
   "source": [
    "### Distribution of Coefficients and Residuals\n",
    "\n",
    "<table>\n",
    "<thead>\n",
    "<tr>\n",
    "<th style=\"text-align: center;min-width:300px\">Residual vs # of Instances</th>\n",
    "<th style=\"text-align: center;min-width:300px\">Coefficient vs # of Instances</th>\n",
    "<th style=\"text-align: center;min-width:250px\">Analysis</th>\n",
    "</tr>\n",
    "</thead>\n",
    "<tbody>\n",
    "<tr>\n",
    "<td>![SNWD_cdf_res1.png](my_figures/SNWD_cdf_res1.png)</td>\n",
    "<td>![SNWD_cdf_coeff1.png](my_figures/SNWD_cdf_coeff1.png)</td>\n",
    "<td style=\"text-align: left;\"><p>It can be observed that around 78% of the data has negative coefficient 1, which, as per our previous analysis, means that the snowfall is above the average value. </p><p>As for the CDF analysis of res_1, we can observe that around 45% of the data has approximate results with eigen vector 1 with less than normalized residual of 0.5.</p><p>As the cdf of res_1 graph explains, eigen vector 1, though gives approximation about snowfall, it is not enough to approximate the actual data.</p> </td>\n",
    "</tr>\n",
    "<tr>\n",
    "<td>![SNWD_cdf_res2.png](my_figures/SNWD_cdf_res2.png)</td>\n",
    "<td>![SNWD_cdf_coeff2.png](my_figures/SNWD_cdf_coeff2.png)</td>\n",
    "<td style=\"text-align: left;\"><p>An immediate observation with the coeff_2 CDF graph is that around 38% of data has late snow season (March - May, occassional snowfall in Jan - March but less than March - May and very little less in Nov - Jan). The other 62% of data has early snow season with Feb and Dec having most of the snowfall.</p><p>The CDF analysis of res_2 tells that with eigen vector 2 inclusion, we can approximate around 50-55% of data with less than 0.5 normalized residual values.</p></td>\n",
    "</tr>\n",
    "<tr>\n",
    "<td>![SNWD_cdf_res3.png](my_figures/SNWD_cdf_res3.png)</td>\n",
    "<td>![SNWD_cdf_coeff3.png](my_figures/SNWD_cdf_coeff3.png)</td>\n",
    "<td style=\"text-align: left;\"><p>coeff_3 relates to the snowfall peaks. As per the CDF graph, around 42% of the stations had peak in snowfall during the months of December and January, while the other part of stations had experienced snow fall peaks during the months of Febraury and March</p><p>Around 63% of data has been explained with normalized residual value of 0.5 with inclusion of eigen vector 3. This is explained by the CDF graph of res_3.</p></td>\n",
    "</tr>\n",
    "<tr>\n",
    "<td>![SNWD_cdf_res4.png](my_figures/SNWD_cdf_res4.png)</td>\n",
    "<td>![SNWD_cdf_coeff4.png](my_figures/SNWD_cdf_coeff4.png)</td>\n",
    "<td style=\"text-align: left;\"><p>The coeff_4 CDF graph gives us an idea about the exceptional snow fall observed across the year. We can observe that around 56% of stations had almost equal amounts of snow fall experienced between the months January - April and November - January. The other 44% had exceptional snow falls experienced during Febraury - March but very little snow fall during November - January. </p><p>An interesting point observed from the CDF graph of res_4 is the graph is curved more than the previous graphs. Also, more than 75% of the data is explained with normalized residual value of 0.5 with the addition of eigen vector 4. </p></td>\n",
    "</tr>\n",
    "</tbody>"
   ]
  },
  {
   "cell_type": "markdown",
   "metadata": {
    "run_control": {
     "frozen": false,
     "read_only": false
    }
   },
   "source": [
    "### Geographical distribution of dataset. \n",
    "\n",
    "#### Distribution of dataset with respect to Coefficient 1 : \n",
    "\n",
    "Following is the map representing stations as circles and the rectangular area as the area of analysis. The area of the circle represents the data count available for the station, while the color represents the value of coefficient 1 (which represents the inverse distribution of snow when compared to mean)\n",
    "![SNWD_Counts_Map.png](my_figures/SNWD_Counts_Map.png)\n",
    "\n",
    "\n",
    "The below map is a zoomed-in version of Reno city, representing the same coefficient 1 values for stations.\n",
    "\n",
    "![SNWD_Counts_TopoMap.png](my_figures/SNWD_Counts_TopoMap.png)\n",
    "\n",
    "#### Distribution of dataset with respect to all coefficients : \n",
    "\n",
    "Following is the map representing stations as points and the rectangular area as the area of analysis. The 4 triangles at each station represent the corresponding eigen coefficient for the station, with the width/height of the triangle representing the absolute coefficient value (in a smaller scale). The filled triangles represent the coefficient to be negative while the unfilled ones represent the positive coefficient values. The coefficients c1, c2, c3, c4 are in four quadrants in a clock-wise format starting from the upper right quadrant for c1. \n",
    "\n",
    "![SNWD_Counts_Map1.png](my_figures/SNWD_Counts_Map1.png)\n",
    "\n",
    "The below mentioned map is a zoomed-in version of the above map for Reno city.\n",
    "\n",
    "![SNWD_Counts_TopoMap1.png](my_figures/SNWD_Counts_TopoMap1.png)\n",
    "\n",
    "The above graphs can be checked to see how the stations are distributed across the region and which ones can be be spatially dependent. We can also see from the above graph on how the coefficients, particularly the first and second ones map to the station's spatial location."
   ]
  },
  {
   "cell_type": "markdown",
   "metadata": {
    "collapsed": true,
    "run_control": {
     "frozen": false,
     "read_only": false
    }
   },
   "source": [
    "## The variation in the timing of snow is mostly due to year-to-year variation\n",
    "In the previous section we see the variation of Coeff1, which corresponds to the total amount of snow, with respect to location. We now estimate the relative importance of location-to-location variation relative to year-by-year variation.\n",
    "\n",
    "These are measured using the fraction by which the variance is reduced when we subtract from each station/year entry the average-per-year or the average-per-station respectively. Here are the results:\n",
    "\n",
    "** coeff_1 **   <br/>\n",
    "total MS                   =  20331552.7729 <br/>\n",
    "MS removing mean-by-station=  6404081.37095 , fraction explained =  68.5017595926 <br/>\n",
    "MS removing mean-by-year   =  7517739.99984 , fraction explained =  63.0242702865 <br/> <br/>\n",
    "\n",
    "** coeff_2 **  <br/>\n",
    "total MS                   =  2956532.81624 <br/>\n",
    "MS removing mean-by-station=  2590930.50846 , fraction explained =  12.3659140794 <br/>\n",
    "MS removing mean-by-year   =  929263.130668 , fraction explained =  68.5691589296 <br/> <br/>\n",
    "\n",
    "** coeff_3 **  <br/>\n",
    "total MS                   =  1996630.11257 <br/>\n",
    "MS removing mean-by-station=  1793451.75367 , fraction explained =  10.1760640402 <br/>\n",
    "MS removing mean-by-year   =  461415.525963 , fraction explained =  76.890285133 <br/> <br/>\n",
    "\n",
    "** coeff_4 **  <br/>\n",
    "total MS                   =  2052703.16611 <br/>\n",
    "MS removing mean-by-station=  1960914.25972 , fraction explained =  4.47161128308 <br/>\n",
    "MS removing mean-by-year   =  904057.97303 , fraction explained =  55.9576860426  <br/> <br/>\n",
    "\n",
    "\n",
    "We see that the variation by year explains more than the variation by station. However this effect is weaker. Consider coeff_1, which has to do with the total snowfall, vs. coeff_2,3,4 which, as we saw above have to do with the timing of snowfall. We see that for coeff_2,3,4 the stations explain 5-12% of the variance while the year explaines 55-76%."
   ]
  },
  {
   "cell_type": "markdown",
   "metadata": {},
   "source": [
    "<hr>"
   ]
  },
  {
   "cell_type": "markdown",
   "metadata": {},
   "source": [
    "## Analysis of Average Temperature\n",
    "\n",
    "Next, We choose to analyze the eigen-decomposition for Average-Temperate (TOBS) because the first 3 eigen-vectors explain 61% of the variance.\n",
    "\n",
    "First, we graph the mean and the top 3 eigen-vectors.\n",
    "\n",
    "We observe that the average temperature follows an increasing trend from Jan - July and decreases from July - Dec, with the peak temperature in July.\n",
    "![TOBS_mean_eigs.png](my_figures/TOBS_mean_eigs.png)"
   ]
  },
  {
   "cell_type": "markdown",
   "metadata": {},
   "source": [
    "Next we interpret the eigen-functions. The first eigen-function (eig1) has a <a id=\"tobs_mean_eig1\" href=\"./my_figures/TOBS_mean_eigs_1.png\" target=\"_blank\" title=\"\">shape</a> very similar to the mean function, albeit in the opposite direction.  The main difference when compared to the mean and eigen vector 1 graphs of SNWD is that for SNWD, eigen vector 1 had values in the same range as mean, but in TOBS, we see that the absolute eigen vector values are too small compared to the mean values. The interpretation of this shape is that eig1 represents the overall amount of averate temperature above/below the mean, but in the inverse direction w.r.t the distribution over time.\n",
    "\n",
    "**eig2 and eig3** are similar in the following way. They all oscilate between positive and negative values. In other words, they correspond to changing the distribution of the snow depth over the winter months, but they don't change the total (much).\n",
    "\n",
    "They can be interpreted as follows:\n",
    "* **<a id=\"tobs_mean_eig12\" href=\"./my_figures/TOBS_mean_eigs_1-2.png\" target=\"_blank\" title=\"\">eig2</a>:** decreasing temperature from Jan - July and then increasing from July - Jan.\n",
    "* **<a id=\"tobs_mean_eig123\" href=\"./my_figures/TOBS_mean_eigs_1-2-3.png\" target=\"_blank\" title=\"\">eig3</a>:** change in temperature distribution along April with more on the increasing side in the next part of the year.\n"
   ]
  },
  {
   "cell_type": "markdown",
   "metadata": {},
   "source": [
    "### Examples of reconstructions\n",
    "\n",
    "#### Coeff1\n",
    "##### Coeff1: most positive\n",
    "![TOBS_grid_Pos_coeff1.png](my_figures/TOBS_grid_Pos_coeff1.png)\n",
    "##### Coeff1: most negative\n",
    "![TOBS_grid_neg_coeff1.png](my_figures/TOBS_grid_neg_coeff1.png)\n",
    "\n",
    "Large negative values of coeff1 correspond to more than average temperature. High values correspond to less than average temperature. But it can be seen that the target data has occassional temperature spikes through out the year.\n",
    "\n",
    "#### Coeff2\n",
    "##### Coeff2: most positive\n",
    "![TOBS_grid_Pos_coeff2.png](my_figures/TOBS_grid_Pos_coeff2.png)\n",
    "##### Coeff2: most negative\n",
    "![TOBS_grid_neg_coeff2.png](my_figures/TOBS_grid_neg_coeff2.png)\n",
    "\n",
    "Large positive values of coeff2 correspond to the decremental temperature distribution from January to April, mostly going below the average value before it increases back to follow the mean distribution from April to December. Large negative values for coeff2 signifies that the temperature in January is way below the mean level and it gradually increases April, comes down a little during April - mid April and then follows the mean distribution of increase till July and then gradual decrease till December, where the lowest recorded temperatures are below the mean.\n",
    "\n",
    "#### Coeff3\n",
    "##### Coeff3: most positive\n",
    "![TOBS_grid_Pos_coeff3.png](my_figures/TOBS_grid_Pos_coeff3.png)\n",
    "##### Coeff3: most negative\n",
    "![TOBS_grid_neg_coeff3.png](my_figures/TOBS_grid_neg_coeff3.png)\n",
    "\n",
    "Large positive values of coeff3 tries to explain the spikes in the temperature across the distribution. Negative values of coeff3 explains the mean distribution pattern per day for the observed temperature, without any spikes.\n"
   ]
  },
  {
   "cell_type": "markdown",
   "metadata": {},
   "source": [
    "### Distribution of Coefficients and Residuals\n",
    "\n",
    "<table>\n",
    "<thead>\n",
    "<tr>\n",
    "<th style=\"text-align: center;;min-width:300px\">Residual vs # of Instances</th>\n",
    "<th style=\"text-align: center;;min-width:300px\">Coefficient vs # of Instances</th>\n",
    "<th style=\"text-align: center;min-width:250px\">Analysis</th>\n",
    "</tr>\n",
    "</thead>\n",
    "<tbody>\n",
    "<tr>\n",
    "<td>![TOBS_cdf_res1.png](my_figures/TOBS_cdf_res1.png)</td>\n",
    "<td>![TOBS_cdf_coeff1.png](my_figures/TOBS_cdf_coeff1.png)</td>\n",
    "<td style=\"text-align: left;\"><p>It can be observed that around 58% of the data has negative coefficient 1, which, as per our previous analysis, means that the temperature is above the average value. </p><p>As for the CDF analysis of res_1, we can observe that around 43% of the data has approximate results with eigen vector 1 with less than normalized residual of 0.5.</p><p>As the cdf of res_1 graph explains, eigen vector 1, though gives approximation about average temperatue, it is not enough to approximate the actual data.</p> </td>\n",
    "</tr>\n",
    "<tr>\n",
    "<td>![TOBS_cdf_res2.png](my_figures/TOBS_cdf_res2.png)</td>\n",
    "<td>![TOBS_cdf_coeff2.png](my_figures/TOBS_cdf_coeff2.png)</td>\n",
    "<td style=\"text-align: left;\"><p>An immediate observation with the coeff_2 CDF graph is that around 50% of data follow the pattern of temperature decrease from Jan - April before they increase to their peak in July, while the other 50% follow the pattern of gradual temperatue increase, from below the mean value, from Jan - July.</p><p>The CDF analysis of res_2 tells that with eigen vector 2 inclusion, we can approximate around 48-50% of data with less than 0.5 normalized residual values, which is not much when compared to the previous cdf.</p></td>\n",
    "</tr>\n",
    "<tr>\n",
    "<td>![TOBS_cdf_res3.png](my_figures/TOBS_cdf_res3.png)</td>\n",
    "<td>![TOBS_cdf_coeff3.png](my_figures/TOBS_cdf_coeff3.png)</td>\n",
    "<td style=\"text-align: left;\"><p>coeff_3 relates to the temperatue spikes. As per the CDF graph, around 55% of the stations follow the temperature distribution with less spikes around the mean, while the other 45% has temperatures above the mean with noisy high and low peaks most of the times.</p><p>Around 52% of data has been explained with normalized residual value of 0.5 with inclusion of eigen vector 3. This is explained by the CDF graph of res_3.</p></td>\n",
    "</tr>\n",
    "</tbody>"
   ]
  },
  {
   "cell_type": "markdown",
   "metadata": {},
   "source": [
    "### Geographical distribution of dataset. \n",
    "\n",
    "#### Distribution of dataset with respect to Coefficient 1 : \n",
    "\n",
    "Following is the map representing stations as circles and the rectangular area as the area of analysis. The area of the circle represents the data count available for the station, while the color represents the value of coefficient 1 (which represents the inverse distribution of average temperature when compared to mean)\n",
    "![TOBS_Counts_Map.png](my_figures/TOBS_Counts_Map.png)\n",
    "\n",
    "The below mentioned map is a zoomed-in version of Reno city, representing the same coefficient 1 values for stations.\n",
    "![TOBS_Counts_TopoMap.png](my_figures/TOBS_Counts_TopoMap.png)\n",
    "\n",
    "#### Distribution of dataset with respect to all coefficients : \n",
    "\n",
    "<p><b>Note</b> : For better representation purposes only, eigen coefficient 4 has been calculated and plotted in the below graph.</p><br/>\n",
    "Following is the map representing stations as points and the rectangular area as the area of analysis. The 4 triangles at each station represent the corresponding eigen coefficient for the station, with the hypotenuse of the triangle representing the absolute coefficient value. The filled triangles represent the coefficient to be negative while the unfilled ones represent the positive coefficient values. The coefficients c1, c2, c3, c4 are in four quadrants in a clock-wise format starting from the upper right quadrant for c1. \n",
    "![TOBS_Counts_Map1.png](my_figures/TOBS_Counts_Map1.png)\n",
    "\n",
    "The below mentioned map is a zoomed-in version of the above map for Reno city.\n",
    "![TOBS_Counts_TopoMap1.png](my_figures/TOBS_Counts_TopoMap1.png)\n",
    "\n",
    "The above graphs can be checked to see how the stations are distributed across the region and which ones can be be spatially dependent. We can also see from the above graph on how the coefficients, particularly the first and second ones map to the station's spatial location."
   ]
  },
  {
   "cell_type": "markdown",
   "metadata": {},
   "source": [
    "\n",
    "## The variation in the timing of average temperature is mostly due to year-to-year variation\n",
    "In the previous section we see the variation of Coeff1, which corresponds to the total amount of average temperature, with respect to location. We now estimate the relative importance of location-to-location variation relative to year-by-year variation.\n",
    "\n",
    "These are measured using the fraction by which the variance is reduced when we subtract from each station/year entry the average-per-year or the average-per-station respectively. Here are the results:\n",
    "\n",
    "** coeff_1 **  <br/>\n",
    "total MS                   =  780877.35849 <br/>\n",
    "MS removing mean-by-station=  224304.309716 , fraction explained =  71.2753472389 <br/>\n",
    "MS removing mean-by-year   =  614226.266642 , fraction explained =  21.3415192587 <br/> <br/>\n",
    "\n",
    "** coeff_2 ** <br/>\n",
    "total MS                   =  62083.8344165 <br/>\n",
    "MS removing mean-by-station=  26752.6897642 , fraction explained =  56.908766967 <br/>\n",
    "MS removing mean-by-year   =  44329.5641975 , fraction explained =  28.5972514195 <br/> <br/>\n",
    "\n",
    "** coeff_3 ** <br/>\n",
    "total MS                   =  43538.0148575 <br/>\n",
    "MS removing mean-by-station=  33806.525223 , fraction explained =  22.3517072755 <br/>\n",
    "MS removing mean-by-year   =  25288.7357648 , fraction explained =  41.9157353693   <br/> <br/>\n",
    "\n",
    "\n",
    "We see that, generally, the variation by year explains more than the variation by station. However this effect is weaker consider coeff_1, which has to do with the mean value of average tempature, vs. coeff_2,3 which, as we saw above have to do with how the temperatuve distribution changes across the months. Particularly interesting is the amount of residual explained by coeff_3 is less when station_mean is compared with year_mean. This means that the coeff_3, which means the occassional spikes in the average temperature can be explained in a better way when spatial variation is considered."
   ]
  },
  {
   "cell_type": "code",
   "execution_count": null,
   "metadata": {
    "collapsed": true
   },
   "outputs": [],
   "source": []
  }
 ],
 "metadata": {
  "anaconda-cloud": {},
  "kernelspec": {
   "display_name": "Python 2",
   "language": "python",
   "name": "python2"
  },
  "language_info": {
   "codemirror_mode": {
    "name": "ipython",
    "version": 2
   },
   "file_extension": ".py",
   "mimetype": "text/x-python",
   "name": "python",
   "nbconvert_exporter": "python",
   "pygments_lexer": "ipython2",
   "version": "2.7.13"
  },
  "toc": {
   "colors": {
    "hover_highlight": "#DAA520",
    "running_highlight": "#FF0000",
    "selected_highlight": "#FFD700"
   },
   "moveMenuLeft": true,
   "nav_menu": {
    "height": "12px",
    "width": "252px"
   },
   "navigate_menu": true,
   "number_sections": true,
   "sideBar": true,
   "threshold": 4,
   "toc_cell": false,
   "toc_section_display": "block",
   "toc_window_display": false
  }
 },
 "nbformat": 4,
 "nbformat_minor": 2
}
